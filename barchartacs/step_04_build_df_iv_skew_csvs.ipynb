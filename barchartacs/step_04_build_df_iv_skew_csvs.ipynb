{
 "cells": [
  {
   "cell_type": "markdown",
   "metadata": {},
   "source": [
    "This notebooks builds 2 csv files for any commodity that you specify in the variable `SYMBOL_TO_RESEARCH`\n",
    "\n",
    "The csv files are then written to as follows:\n",
    "```\n",
    "df_iv_final.to_csv(f'./temp_folder/df_iv_final_{SYMBOL_TO_RESEARCH}.csv',index=False)\n",
    "df_iv_skew.to_csv(f'./temp_folder/df_iv_skew_{SYMBOL_TO_RESEARCH}.csv',index=False)\n",
    "```\n",
    "\n",
    "They can be copied to the volgrid project to be used by the Dash server that displays skew graphs for ES, CL and CB (Brent)."
   ]
  },
  {
   "cell_type": "code",
   "execution_count": 151,
   "metadata": {},
   "outputs": [
    {
     "data": {
      "text/html": [
       "<script>requirejs.config({paths: { 'plotly': ['https://cdn.plot.ly/plotly-latest.min']},});if(!window.Plotly) {{require(['plotly'],function(plotly) {window.Plotly=plotly;});}}</script>"
      ],
      "text/vnd.plotly.v1+html": [
       "<script>requirejs.config({paths: { 'plotly': ['https://cdn.plot.ly/plotly-latest.min']},});if(!window.Plotly) {{require(['plotly'],function(plotly) {window.Plotly=plotly;});}}</script>"
      ]
     },
     "metadata": {},
     "output_type": "display_data"
    }
   ],
   "source": [
    "import zipfile\n",
    "import glob\n",
    "import pandas as pd\n",
    "import numpy as np\n",
    "\n",
    "from argparse import ArgumentParser\n",
    "from argparse import RawDescriptionHelpFormatter\n",
    "import sys\n",
    "import os\n",
    "if  not './' in sys.path:\n",
    "    sys.path.append('./')\n",
    "if  not '../' in sys.path:\n",
    "    sys.path.append('../')\n",
    "\n",
    "from barchartacs import build_db\n",
    "from barchartacs import db_info\n",
    "import plotly.graph_objs as go\n",
    "from plotly.offline import  init_notebook_mode, iplot\n",
    "init_notebook_mode(connected=True)\n",
    "import plotly.tools as tls\n",
    "from plotly.graph_objs.layout import Font,Margin\n",
    "from IPython import display\n",
    "\n",
    "import datetime\n",
    "import io\n",
    "from tqdm import tqdm,tqdm_notebook\n",
    "from barchartacs import pg_pandas as pg\n",
    "import mibian\n",
    "import py_vollib\n",
    "import importlib\n",
    "from py_vollib import black\n",
    "from py_vollib.black import implied_volatility\n",
    "import ipdb\n",
    "import traceback\n",
    "\n",
    "MONTH_CODES = 'FGHJKMNQUVXZ'\n",
    "DICT_MONTH_NUMS = {MONTH_CODES[i]:i+1 for i in range(len(MONTH_CODES))}\n",
    "\n",
    "# importlib.reload(db_info)"
   ]
  },
  {
   "cell_type": "markdown",
   "metadata": {},
   "source": [
    "### important global variables"
   ]
  },
  {
   "cell_type": "code",
   "execution_count": 152,
   "metadata": {},
   "outputs": [
    {
     "name": "stdout",
     "output_type": "stream",
     "text": [
      "  sec_db\n"
     ]
    }
   ],
   "source": [
    "\n",
    "DEBUG_IT=False\n",
    "opttab = 'sec_schema.options_table'\n",
    "futtab = 'sec_schema.underlying_table'\n",
    "pga = db_info.get_db_info()\n",
    "SYMBOL_TO_RESEARCH = 'NG'\n",
    "STRIKE_DIVISORS = {}\n",
    "\n",
    "# df_expiry_dates_additions = pd.read_csv('df_expiry_dates_additions.csv')\n",
    "df_expiry_dates_additions = pd.read_csv('live_option_expirations.csv')\n"
   ]
  },
  {
   "cell_type": "code",
   "execution_count": 153,
   "metadata": {
    "scrolled": true
   },
   "outputs": [],
   "source": [
    "USE_PYVOL = True\n",
    "def lam_pyvol(r):\n",
    "    try:\n",
    "        return implied_volatility.implied_volatility(r.close_x,r.close_y,r.strike,.02,r.dte/365, r.pc.lower())\n",
    "    except:\n",
    "        return -1\n",
    "# lam_pyvol = lambda r:implied_volatility.implied_volatility(r.close_x,r.close_y,r.strike,.02,r.dte/365, r.pc.lower())\n",
    "lam_mibian = lambda r:mibian.BS([r.close_y,r.strike,2,r.dte], callPrice=r.close_x).impliedVolatility\n",
    "\n",
    "def get_implieds(df,df_expiry_dates,contract):\n",
    "    df2 = df[['symbol','contract_num','pc','settle_date','strike','close_x','close_y']]\n",
    "    df2 = df2[(((df2.pc=='C' )& (df2.strike>=df2.close_y)) | ((df2.pc=='P' ) & (df2.strike<df2.close_y)))  & (df2.symbol.str.contains(contract))]\n",
    "    cnum = _get_contract_number_from_symbol(contract)\n",
    "    df2 = df2[df2.contract_num==2]\n",
    "    phigh = df2.close_y.max()\n",
    "    plow = df2.close_y.min()\n",
    "    high_strike = round(phigh * 1.3)\n",
    "    low_strike = round(plow * .7)\n",
    "    df2 = df2[(df2.strike>=low_strike) & (df2.strike<=high_strike)]\n",
    "\n",
    "    df9 = df2[df2.symbol==contract]\n",
    "    df9 = df9.merge(df_expiry_dates.rename(columns={'settle_date':'expiry'}),on='symbol',how='inner')\n",
    "    df9['syear'] = df9.settle_date.astype(str).str.slice(0,4).astype(int)\n",
    "    df9['smon'] = df9.settle_date.astype(str).str.slice(4,6).astype(int)\n",
    "    df9['sday'] = df9.settle_date.astype(str).str.slice(6,8).astype(int)\n",
    "    df9['eyear'] = df9.expiry.astype(str).str.slice(0,4).astype(int)\n",
    "    df9['emon'] = df9.expiry.astype(str).str.slice(4,6).astype(int)\n",
    "    df9['eday'] = df9.expiry.astype(str).str.slice(6,8).astype(int)\n",
    "    df9['sdatetime'] = df9.apply(lambda r:datetime.datetime(r.syear,r.smon,r.sday),axis=1)\n",
    "    df9['edatetime'] = df9.apply(lambda r:datetime.datetime(r.eyear,r.emon,r.eday),axis=1)\n",
    "    df9['dte'] = df9.edatetime - df9.sdatetime\n",
    "    df9.dte = df9.dte.dt.days\n",
    "    df9 = df9[['symbol','settle_date','pc','contract_num','strike','close_x','close_y','dte']]\n",
    "    df10 = df9.iloc[:len(df9)].copy()\n",
    "    df10.index = list(range(len(df10)))\n",
    "    if USE_PYVOL:\n",
    "        df10['iv'] = df10.apply(lam_pyvol,axis=1)\n",
    "    else:\n",
    "        n = 100\n",
    "        for i in tqdm_notebook(np.arange(0,len(df10)-n,n)):\n",
    "                df10.loc[i:i+n,'iv'] = df10.loc[i:i+n].apply(lam_mibian,axis=1)\n",
    "        print(f'doing remaining {datetime.datetime.now()}')\n",
    "        i = df10[df10.iv.isna()].index[0]\n",
    "        df10.loc[i:,'iv'] = df10.loc[i:].apply(lam_mbian,axis=1)\n",
    "        print(f'done with remaining {datetime.datetime.now()}')\n",
    "    return df10\n",
    "\n"
   ]
  },
  {
   "cell_type": "markdown",
   "metadata": {},
   "source": [
    "#### example of using mibian for options calcs (we use py_vollib instead)"
   ]
  },
  {
   "cell_type": "code",
   "execution_count": 154,
   "metadata": {},
   "outputs": [],
   "source": [
    "def _test_mibian():\n",
    "    underlying=1.4565\n",
    "    strike=1.45\n",
    "    interest = 1\n",
    "    days=30\n",
    "    opt_info = [underlying,strike,interest,days]\n",
    "    c = mibian.BS(opt_info, volatility=20)\n",
    "    print(c.callPrice,\n",
    "    c.putPrice,\n",
    "    c.callDelta,\n",
    "    c.putDelta,\n",
    "    c.callDelta2,\n",
    "    c.putDelta2,\n",
    "    c.callTheta,\n",
    "    c.putTheta,\n",
    "    c.callRho,\n",
    "    c.putRho,\n",
    "    c.vega,\n",
    "    c.gamma)\n",
    "\n",
    "\n",
    "    co = mibian.BS(opt_info, callPrice=c.callPrice)\n",
    "    co.impliedVolatility"
   ]
  },
  {
   "cell_type": "markdown",
   "metadata": {},
   "source": [
    "#### Show simple example of using py_vol package"
   ]
  },
  {
   "cell_type": "code",
   "execution_count": 155,
   "metadata": {},
   "outputs": [],
   "source": [
    "def _test_py_vollib():\n",
    "    #CL,Q2019,560P,07/02/2019,0.6,1.61,0.54,1.54,1997,4465\n",
    "    F = 56.25\n",
    "    K = 56\n",
    "    sigma = .366591539\n",
    "    flag = 'p'\n",
    "    t = 15/365.0\n",
    "    r = .025\n",
    "    discounted_call_price = black.black(flag, F, K, t, r, sigma)\n",
    "    dcp = 1.54\n",
    "    ivpy = implied_volatility.implied_volatility(dcp, F, K, r, t, flag)\n",
    "    ivmn = mibian.BS([F,K,2.5,15], callPrice=dcp).impliedVolatility\n",
    "    discounted_call_price,ivpy,ivmn\n"
   ]
  },
  {
   "cell_type": "code",
   "execution_count": 156,
   "metadata": {},
   "outputs": [],
   "source": [
    "def plotly_plot(df_in,x_column,plot_title=None,\n",
    "                y_left_label=None,y_right_label=None,\n",
    "                bar_plot=False,figsize=(16,10),\n",
    "                number_of_ticks_display=20,\n",
    "                yaxis2_cols=None):\n",
    "    ya2c = [] if yaxis2_cols is None else yaxis2_cols\n",
    "    ycols = [c for c in df_in.columns.values if c != x_column]\n",
    "    # create tdvals, which will have x axis labels\n",
    "    td = list(df_in[x_column]) \n",
    "    nt = len(df_in)-1 if number_of_ticks_display > len(df_in) else number_of_ticks_display\n",
    "    spacing = len(td)//nt\n",
    "    tdvals = td[::spacing]\n",
    "    \n",
    "    # create data for graph\n",
    "    data = []\n",
    "    # iterate through all ycols to append to data that gets passed to go.Figure\n",
    "    for ycol in ycols:\n",
    "        if bar_plot:\n",
    "            b = go.Bar(x=td,y=df_in[ycol],name=ycol,yaxis='y' if ycol not in ya2c else 'y2')\n",
    "        else:\n",
    "            b = go.Scatter(x=td,y=df_in[ycol],name=ycol,yaxis='y' if ycol not in ya2c else 'y2')\n",
    "        data.append(b)\n",
    "\n",
    "    # create a layout\n",
    "    layout = go.Layout(\n",
    "        title=plot_title,\n",
    "        xaxis=dict(\n",
    "            ticktext=tdvals,\n",
    "            tickvals=tdvals,\n",
    "            tickangle=45,\n",
    "            type='category'),\n",
    "        yaxis=dict(\n",
    "            title='y main' if y_left_label is None else y_left_label\n",
    "        ),\n",
    "        yaxis2=dict(\n",
    "            title='y alt' if y_right_label is None else y_right_label,\n",
    "            overlaying='y',\n",
    "            side='right'),\n",
    "        margin=Margin(\n",
    "            b=100\n",
    "        )        \n",
    "    )\n",
    "\n",
    "    fig = go.Figure(data=data,layout=layout)\n",
    "    return fig\n"
   ]
  },
  {
   "cell_type": "markdown",
   "metadata": {},
   "source": [
    "#### Define method to get a contract from postgres"
   ]
  },
  {
   "cell_type": "code",
   "execution_count": 157,
   "metadata": {},
   "outputs": [],
   "source": [
    "def _next_monthyear_code(contract):\n",
    "    code_val = contract[-3]\n",
    "    code_num = DICT_MONTH_NUMS[code_val]\n",
    "    y = int(contract[-2:])\n",
    "    if code_num+1>12:\n",
    "        next_code_num = 1\n",
    "        next_y = y + 1\n",
    "    else:\n",
    "        next_code_num = code_num+1\n",
    "        next_y = y\n",
    "    next_code_val = MONTH_CODES[next_code_num-1]\n",
    "    next_contract = contract[0:-3] + next_code_val + '%02d' %(next_y)\n",
    "    return next_contract\n",
    "\n",
    "def get_postgres_data(contract,strike_divisor=None):\n",
    "    '''\n",
    "    Get options and underlying data for ONLY ONE CONTRACT\n",
    "    '''\n",
    "    osql = f\"select * from {opttab} where symbol='{contract}';\"\n",
    "    dfo = pga.get_sql(osql)\n",
    "    if len(dfo)<10:\n",
    "        e = f'''\n",
    "        get_postgres_data ERROR: not enough option data for contract {contract} \n",
    "        '''\n",
    "        raise ValueError(e)\n",
    "    num_settle_days = len(dfo.settle_date.unique())\n",
    "    u_contract = contract\n",
    "    for i in range(12):\n",
    "        usql = f\"select * from {futtab} where symbol='{u_contract}';\"\n",
    "        dfu = pga.get_sql(usql)\n",
    "        if len(dfu) < num_settle_days:\n",
    "            u_contract = _next_monthyear_code(u_contract)\n",
    "            print(f'trying contract {u_contract}')\n",
    "        else:\n",
    "            break\n",
    "\n",
    "    if len(dfu)< num_settle_days:\n",
    "        e = f'''\n",
    "        get_postgres_data ERROR: not enough underlying days found for options contract {contract} \n",
    "        where len(underlying) = {len(dfu)} and num_settle_days = {num_settle_days}\n",
    "        '''\n",
    "        raise ValueError(e)\n",
    "    # Merge options and futures data\n",
    "    dfu = dfu.rename(columns={'symbol':'u_symbol'})\n",
    "    df = dfo.merge(dfu,how='inner',on=['settle_date'])\n",
    "    # Get options expiration dates\n",
    "    df_expiry_dates = dfo[['symbol','settle_date']].groupby('symbol',as_index=False).max()\n",
    "    df_additions = df_expiry_dates_additions[df_expiry_dates_additions.symbol==contract]\n",
    "    df_additions = df_additions[['symbol','yyyymmdd_option']].rename(columns={'yyyymmdd_option':'settle_date'})\n",
    "    additional_symbols = df_additions.symbol.values\n",
    "    df_expiry_dates = df_expiry_dates[~df_expiry_dates.symbol.isin(additional_symbols)]\n",
    "    df_expiry_dates = df_expiry_dates.append(df_additions).sort_values('symbol').copy()\n",
    "    if strike_divisor is not None:\n",
    "        df.strike = df.strike/strike_divisor\n",
    "    return df,df_expiry_dates"
   ]
  },
  {
   "cell_type": "code",
   "execution_count": 158,
   "metadata": {},
   "outputs": [],
   "source": [
    "def _get_contract_number_from_symbol(symbol):\n",
    "    c = symbol[0:2]\n",
    "    if c in ['CL','CB','ES','GE','NG']:\n",
    "        return 2\n",
    "    return 2"
   ]
  },
  {
   "cell_type": "markdown",
   "metadata": {},
   "source": [
    "### Use py_vol to get options skews by percent in/out of the money (moneyness)"
   ]
  },
  {
   "cell_type": "markdown",
   "metadata": {},
   "source": [
    "#### Add in even \"amount in/out the money strikes, and interpolate their implied vols and skews"
   ]
  },
  {
   "cell_type": "code",
   "execution_count": 159,
   "metadata": {
    "scrolled": true
   },
   "outputs": [],
   "source": [
    "def get_even_moneyness_strikes(df10):\n",
    "    # define amounts around the money which will help create strikes to add\n",
    "    moneyness = np.arange(.7,1.4,.05).round(6)\n",
    "    # define columns on which to execute groupby\n",
    "#     gb_cols = ['symbol','settle_date','pc','contract_num','dte','close_y']\n",
    "    gb_cols = ['symbol','settle_date','contract_num','dte','close_y']\n",
    "    # define function used in groupby.apply to create strikes and iv's at those strikes\n",
    "    #   where the strikes are an even amount from the money \n",
    "    #   (like .7, .8, ... 1, 1.1, 1.2, etc)\n",
    "    def _add_even_moneyness_strikes(df):\n",
    "        # get underlying from first row (the groupby makes them all the same)\n",
    "        r = df.iloc[0]\n",
    "        underlying = r.close_y\n",
    "        # create new rows to append to df, using only the gb_cols\n",
    "        df_ret1 = df.iloc[:len(moneyness)][gb_cols].copy()\n",
    "        # add nan iv's !!!! MUST BE np.nan - NOT None\n",
    "        df_ret1['iv'] = np.nan\n",
    "        # add new strikes\n",
    "        df_ret1['strike'] = moneyness * underlying\n",
    "        # append the new strikes\n",
    "        try:\n",
    "            # try with using the sort=True options for versions of pandas after 0.23\n",
    "            dfa = df.append(df_ret1,ignore_index=True,sort=True).copy()\n",
    "        except:\n",
    "            # otherwise do not specify sort\n",
    "            dfa = df.append(df_ret1,ignore_index=True).copy()\n",
    "        df_ret2 = dfa.sort_values(['symbol','settle_date','pc','strike'])\n",
    "        df_ret2 = df_ret2.drop_duplicates(subset='strike')\n",
    "        # set the index to the strike so that interpolate works\n",
    "        df_ret2.index = df_ret2.strike\n",
    "        # create interpolated iv's\n",
    "        df_ret2['iv'] = df_ret2.iv.interpolate(method='polynomial', order=2)\n",
    "        # reset the index\n",
    "        df_ret2.index = list(range(len(df_ret2)))\n",
    "        return df_ret2\n",
    "\n",
    "    # start here\n",
    "    df11 = df10.groupby(gb_cols).apply(_add_even_moneyness_strikes).copy()\n",
    "    df11.index = list(range(len(df11)))\n",
    "    df11['moneyness'] = df11.strike / df11.close_y\n",
    "    df11.moneyness = df11.moneyness.round(4)\n",
    "\n",
    "    df12 = df11[(df11.moneyness.isin(moneyness)) & (~df11.iv.isna())].copy()\n",
    "    df12.moneyness  = df12.moneyness - 1\n",
    "    df12.index = list(range(len(df12)))\n",
    "    df12_atm = df12[df12.moneyness==0][['symbol','settle_date','pc','iv']]\n",
    "    df12_atm = df12_atm.rename(columns={'iv':'atm_iv'})\n",
    "    \n",
    "    df12_atm = df12_atm.drop_duplicates()\n",
    "    df12 = df12.merge(df12_atm,on=['symbol','settle_date','pc'],how='inner')\n",
    "    df12.moneyness = df12.moneyness.round(4)\n",
    "    df12['vol_skew'] = (df12.iv - df12.atm_iv).round(4)\n",
    "    return df12\n",
    "\n"
   ]
  },
  {
   "cell_type": "markdown",
   "metadata": {},
   "source": [
    "#### get all contracts in the options database"
   ]
  },
  {
   "cell_type": "code",
   "execution_count": 160,
   "metadata": {
    "scrolled": true
   },
   "outputs": [
    {
     "data": {
      "text/plain": [
       "114"
      ]
     },
     "execution_count": 160,
     "metadata": {},
     "output_type": "execute_result"
    }
   ],
   "source": [
    "all_contracts = pga.get_sql(f\"select distinct symbol from {opttab} where symbol~'^{SYMBOL_TO_RESEARCH}'\").sort_values('symbol').values.reshape(-1)\n",
    "len(all_contracts)"
   ]
  },
  {
   "cell_type": "markdown",
   "metadata": {},
   "source": [
    "#### show last dates"
   ]
  },
  {
   "cell_type": "code",
   "execution_count": 161,
   "metadata": {
    "scrolled": true
   },
   "outputs": [
    {
     "data": {
      "text/html": [
       "<div>\n",
       "<style scoped>\n",
       "    .dataframe tbody tr th:only-of-type {\n",
       "        vertical-align: middle;\n",
       "    }\n",
       "\n",
       "    .dataframe tbody tr th {\n",
       "        vertical-align: top;\n",
       "    }\n",
       "\n",
       "    .dataframe thead th {\n",
       "        text-align: right;\n",
       "    }\n",
       "</style>\n",
       "<table border=\"1\" class=\"dataframe\">\n",
       "  <thead>\n",
       "    <tr style=\"text-align: right;\">\n",
       "      <th></th>\n",
       "      <th>symbol</th>\n",
       "      <th>count</th>\n",
       "      <th>last_date</th>\n",
       "    </tr>\n",
       "  </thead>\n",
       "  <tbody>\n",
       "    <tr>\n",
       "      <th>0</th>\n",
       "      <td>NGF12</td>\n",
       "      <td>187</td>\n",
       "      <td>20111020</td>\n",
       "    </tr>\n",
       "    <tr>\n",
       "      <th>1</th>\n",
       "      <td>NGF13</td>\n",
       "      <td>12465</td>\n",
       "      <td>20121226</td>\n",
       "    </tr>\n",
       "    <tr>\n",
       "      <th>2</th>\n",
       "      <td>NGF14</td>\n",
       "      <td>22126</td>\n",
       "      <td>20131226</td>\n",
       "    </tr>\n",
       "    <tr>\n",
       "      <th>3</th>\n",
       "      <td>NGF15</td>\n",
       "      <td>22744</td>\n",
       "      <td>20141226</td>\n",
       "    </tr>\n",
       "    <tr>\n",
       "      <th>4</th>\n",
       "      <td>NGF16</td>\n",
       "      <td>17591</td>\n",
       "      <td>20151228</td>\n",
       "    </tr>\n",
       "    <tr>\n",
       "      <th>5</th>\n",
       "      <td>NGF17</td>\n",
       "      <td>21008</td>\n",
       "      <td>20161227</td>\n",
       "    </tr>\n",
       "    <tr>\n",
       "      <th>6</th>\n",
       "      <td>NGF18</td>\n",
       "      <td>13326</td>\n",
       "      <td>20171226</td>\n",
       "    </tr>\n",
       "    <tr>\n",
       "      <th>7</th>\n",
       "      <td>NGF19</td>\n",
       "      <td>25330</td>\n",
       "      <td>20181226</td>\n",
       "    </tr>\n",
       "    <tr>\n",
       "      <th>8</th>\n",
       "      <td>NGF20</td>\n",
       "      <td>3512</td>\n",
       "      <td>20190830</td>\n",
       "    </tr>\n",
       "    <tr>\n",
       "      <th>9</th>\n",
       "      <td>NGG12</td>\n",
       "      <td>160</td>\n",
       "      <td>20111020</td>\n",
       "    </tr>\n",
       "    <tr>\n",
       "      <th>10</th>\n",
       "      <td>NGG13</td>\n",
       "      <td>13509</td>\n",
       "      <td>20130128</td>\n",
       "    </tr>\n",
       "    <tr>\n",
       "      <th>11</th>\n",
       "      <td>NGG14</td>\n",
       "      <td>22883</td>\n",
       "      <td>20140128</td>\n",
       "    </tr>\n",
       "    <tr>\n",
       "      <th>12</th>\n",
       "      <td>NGG15</td>\n",
       "      <td>24960</td>\n",
       "      <td>20150127</td>\n",
       "    </tr>\n",
       "    <tr>\n",
       "      <th>13</th>\n",
       "      <td>NGG16</td>\n",
       "      <td>17963</td>\n",
       "      <td>20160126</td>\n",
       "    </tr>\n",
       "    <tr>\n",
       "      <th>14</th>\n",
       "      <td>NGG17</td>\n",
       "      <td>22038</td>\n",
       "      <td>20170126</td>\n",
       "    </tr>\n",
       "    <tr>\n",
       "      <th>15</th>\n",
       "      <td>NGG18</td>\n",
       "      <td>15647</td>\n",
       "      <td>20180126</td>\n",
       "    </tr>\n",
       "    <tr>\n",
       "      <th>16</th>\n",
       "      <td>NGG19</td>\n",
       "      <td>23374</td>\n",
       "      <td>20190128</td>\n",
       "    </tr>\n",
       "    <tr>\n",
       "      <th>17</th>\n",
       "      <td>NGG20</td>\n",
       "      <td>3022</td>\n",
       "      <td>20190830</td>\n",
       "    </tr>\n",
       "    <tr>\n",
       "      <th>18</th>\n",
       "      <td>NGH12</td>\n",
       "      <td>168</td>\n",
       "      <td>20111020</td>\n",
       "    </tr>\n",
       "    <tr>\n",
       "      <th>19</th>\n",
       "      <td>NGH13</td>\n",
       "      <td>14306</td>\n",
       "      <td>20130225</td>\n",
       "    </tr>\n",
       "    <tr>\n",
       "      <th>20</th>\n",
       "      <td>NGH14</td>\n",
       "      <td>27095</td>\n",
       "      <td>20140225</td>\n",
       "    </tr>\n",
       "    <tr>\n",
       "      <th>21</th>\n",
       "      <td>NGH15</td>\n",
       "      <td>27741</td>\n",
       "      <td>20150224</td>\n",
       "    </tr>\n",
       "    <tr>\n",
       "      <th>22</th>\n",
       "      <td>NGH16</td>\n",
       "      <td>18223</td>\n",
       "      <td>20160224</td>\n",
       "    </tr>\n",
       "    <tr>\n",
       "      <th>23</th>\n",
       "      <td>NGH17</td>\n",
       "      <td>25868</td>\n",
       "      <td>20170223</td>\n",
       "    </tr>\n",
       "    <tr>\n",
       "      <th>24</th>\n",
       "      <td>NGH18</td>\n",
       "      <td>17483</td>\n",
       "      <td>20180223</td>\n",
       "    </tr>\n",
       "    <tr>\n",
       "      <th>25</th>\n",
       "      <td>NGH19</td>\n",
       "      <td>24784</td>\n",
       "      <td>20190225</td>\n",
       "    </tr>\n",
       "    <tr>\n",
       "      <th>26</th>\n",
       "      <td>NGH20</td>\n",
       "      <td>2670</td>\n",
       "      <td>20190830</td>\n",
       "    </tr>\n",
       "    <tr>\n",
       "      <th>27</th>\n",
       "      <td>NGJ12</td>\n",
       "      <td>111</td>\n",
       "      <td>20111020</td>\n",
       "    </tr>\n",
       "    <tr>\n",
       "      <th>28</th>\n",
       "      <td>NGJ13</td>\n",
       "      <td>13787</td>\n",
       "      <td>20130325</td>\n",
       "    </tr>\n",
       "    <tr>\n",
       "      <th>29</th>\n",
       "      <td>NGJ14</td>\n",
       "      <td>23312</td>\n",
       "      <td>20140326</td>\n",
       "    </tr>\n",
       "    <tr>\n",
       "      <th>...</th>\n",
       "      <td>...</td>\n",
       "      <td>...</td>\n",
       "      <td>...</td>\n",
       "    </tr>\n",
       "    <tr>\n",
       "      <th>84</th>\n",
       "      <td>NGV11</td>\n",
       "      <td>112</td>\n",
       "      <td>20110606</td>\n",
       "    </tr>\n",
       "    <tr>\n",
       "      <th>85</th>\n",
       "      <td>NGV12</td>\n",
       "      <td>6959</td>\n",
       "      <td>20120925</td>\n",
       "    </tr>\n",
       "    <tr>\n",
       "      <th>86</th>\n",
       "      <td>NGV13</td>\n",
       "      <td>22545</td>\n",
       "      <td>20130925</td>\n",
       "    </tr>\n",
       "    <tr>\n",
       "      <th>87</th>\n",
       "      <td>NGV14</td>\n",
       "      <td>20924</td>\n",
       "      <td>20140925</td>\n",
       "    </tr>\n",
       "    <tr>\n",
       "      <th>88</th>\n",
       "      <td>NGV15</td>\n",
       "      <td>19942</td>\n",
       "      <td>20150925</td>\n",
       "    </tr>\n",
       "    <tr>\n",
       "      <th>89</th>\n",
       "      <td>NGV16</td>\n",
       "      <td>17180</td>\n",
       "      <td>20160927</td>\n",
       "    </tr>\n",
       "    <tr>\n",
       "      <th>90</th>\n",
       "      <td>NGV17</td>\n",
       "      <td>19114</td>\n",
       "      <td>20170926</td>\n",
       "    </tr>\n",
       "    <tr>\n",
       "      <th>91</th>\n",
       "      <td>NGV18</td>\n",
       "      <td>9545</td>\n",
       "      <td>20180925</td>\n",
       "    </tr>\n",
       "    <tr>\n",
       "      <th>92</th>\n",
       "      <td>NGV19</td>\n",
       "      <td>9037</td>\n",
       "      <td>20190830</td>\n",
       "    </tr>\n",
       "    <tr>\n",
       "      <th>93</th>\n",
       "      <td>NGV20</td>\n",
       "      <td>208</td>\n",
       "      <td>20190830</td>\n",
       "    </tr>\n",
       "    <tr>\n",
       "      <th>94</th>\n",
       "      <td>NGX11</td>\n",
       "      <td>238</td>\n",
       "      <td>20111020</td>\n",
       "    </tr>\n",
       "    <tr>\n",
       "      <th>95</th>\n",
       "      <td>NGX12</td>\n",
       "      <td>8747</td>\n",
       "      <td>20121026</td>\n",
       "    </tr>\n",
       "    <tr>\n",
       "      <th>96</th>\n",
       "      <td>NGX13</td>\n",
       "      <td>20746</td>\n",
       "      <td>20131028</td>\n",
       "    </tr>\n",
       "    <tr>\n",
       "      <th>97</th>\n",
       "      <td>NGX14</td>\n",
       "      <td>22607</td>\n",
       "      <td>20141028</td>\n",
       "    </tr>\n",
       "    <tr>\n",
       "      <th>98</th>\n",
       "      <td>NGX15</td>\n",
       "      <td>18655</td>\n",
       "      <td>20151027</td>\n",
       "    </tr>\n",
       "    <tr>\n",
       "      <th>99</th>\n",
       "      <td>NGX16</td>\n",
       "      <td>15940</td>\n",
       "      <td>20161026</td>\n",
       "    </tr>\n",
       "    <tr>\n",
       "      <th>100</th>\n",
       "      <td>NGX17</td>\n",
       "      <td>16608</td>\n",
       "      <td>20171026</td>\n",
       "    </tr>\n",
       "    <tr>\n",
       "      <th>101</th>\n",
       "      <td>NGX18</td>\n",
       "      <td>11063</td>\n",
       "      <td>20181026</td>\n",
       "    </tr>\n",
       "    <tr>\n",
       "      <th>102</th>\n",
       "      <td>NGX19</td>\n",
       "      <td>7456</td>\n",
       "      <td>20190830</td>\n",
       "    </tr>\n",
       "    <tr>\n",
       "      <th>103</th>\n",
       "      <td>NGX20</td>\n",
       "      <td>208</td>\n",
       "      <td>20190830</td>\n",
       "    </tr>\n",
       "    <tr>\n",
       "      <th>104</th>\n",
       "      <td>NGZ11</td>\n",
       "      <td>288</td>\n",
       "      <td>20111020</td>\n",
       "    </tr>\n",
       "    <tr>\n",
       "      <th>105</th>\n",
       "      <td>NGZ12</td>\n",
       "      <td>12316</td>\n",
       "      <td>20121127</td>\n",
       "    </tr>\n",
       "    <tr>\n",
       "      <th>106</th>\n",
       "      <td>NGZ13</td>\n",
       "      <td>26039</td>\n",
       "      <td>20131125</td>\n",
       "    </tr>\n",
       "    <tr>\n",
       "      <th>107</th>\n",
       "      <td>NGZ14</td>\n",
       "      <td>26004</td>\n",
       "      <td>20141124</td>\n",
       "    </tr>\n",
       "    <tr>\n",
       "      <th>108</th>\n",
       "      <td>NGZ15</td>\n",
       "      <td>32376</td>\n",
       "      <td>20151124</td>\n",
       "    </tr>\n",
       "    <tr>\n",
       "      <th>109</th>\n",
       "      <td>NGZ16</td>\n",
       "      <td>21957</td>\n",
       "      <td>20161125</td>\n",
       "    </tr>\n",
       "    <tr>\n",
       "      <th>110</th>\n",
       "      <td>NGZ17</td>\n",
       "      <td>20054</td>\n",
       "      <td>20171127</td>\n",
       "    </tr>\n",
       "    <tr>\n",
       "      <th>111</th>\n",
       "      <td>NGZ18</td>\n",
       "      <td>13464</td>\n",
       "      <td>20181127</td>\n",
       "    </tr>\n",
       "    <tr>\n",
       "      <th>112</th>\n",
       "      <td>NGZ19</td>\n",
       "      <td>7092</td>\n",
       "      <td>20190830</td>\n",
       "    </tr>\n",
       "    <tr>\n",
       "      <th>113</th>\n",
       "      <td>NGZ20</td>\n",
       "      <td>208</td>\n",
       "      <td>20190830</td>\n",
       "    </tr>\n",
       "  </tbody>\n",
       "</table>\n",
       "<p>114 rows × 3 columns</p>\n",
       "</div>"
      ],
      "text/plain": [
       "    symbol  count  last_date\n",
       "0    NGF12    187   20111020\n",
       "1    NGF13  12465   20121226\n",
       "2    NGF14  22126   20131226\n",
       "3    NGF15  22744   20141226\n",
       "4    NGF16  17591   20151228\n",
       "5    NGF17  21008   20161227\n",
       "6    NGF18  13326   20171226\n",
       "7    NGF19  25330   20181226\n",
       "8    NGF20   3512   20190830\n",
       "9    NGG12    160   20111020\n",
       "10   NGG13  13509   20130128\n",
       "11   NGG14  22883   20140128\n",
       "12   NGG15  24960   20150127\n",
       "13   NGG16  17963   20160126\n",
       "14   NGG17  22038   20170126\n",
       "15   NGG18  15647   20180126\n",
       "16   NGG19  23374   20190128\n",
       "17   NGG20   3022   20190830\n",
       "18   NGH12    168   20111020\n",
       "19   NGH13  14306   20130225\n",
       "20   NGH14  27095   20140225\n",
       "21   NGH15  27741   20150224\n",
       "22   NGH16  18223   20160224\n",
       "23   NGH17  25868   20170223\n",
       "24   NGH18  17483   20180223\n",
       "25   NGH19  24784   20190225\n",
       "26   NGH20   2670   20190830\n",
       "27   NGJ12    111   20111020\n",
       "28   NGJ13  13787   20130325\n",
       "29   NGJ14  23312   20140326\n",
       "..     ...    ...        ...\n",
       "84   NGV11    112   20110606\n",
       "85   NGV12   6959   20120925\n",
       "86   NGV13  22545   20130925\n",
       "87   NGV14  20924   20140925\n",
       "88   NGV15  19942   20150925\n",
       "89   NGV16  17180   20160927\n",
       "90   NGV17  19114   20170926\n",
       "91   NGV18   9545   20180925\n",
       "92   NGV19   9037   20190830\n",
       "93   NGV20    208   20190830\n",
       "94   NGX11    238   20111020\n",
       "95   NGX12   8747   20121026\n",
       "96   NGX13  20746   20131028\n",
       "97   NGX14  22607   20141028\n",
       "98   NGX15  18655   20151027\n",
       "99   NGX16  15940   20161026\n",
       "100  NGX17  16608   20171026\n",
       "101  NGX18  11063   20181026\n",
       "102  NGX19   7456   20190830\n",
       "103  NGX20    208   20190830\n",
       "104  NGZ11    288   20111020\n",
       "105  NGZ12  12316   20121127\n",
       "106  NGZ13  26039   20131125\n",
       "107  NGZ14  26004   20141124\n",
       "108  NGZ15  32376   20151124\n",
       "109  NGZ16  21957   20161125\n",
       "110  NGZ17  20054   20171127\n",
       "111  NGZ18  13464   20181127\n",
       "112  NGZ19   7092   20190830\n",
       "113  NGZ20    208   20190830\n",
       "\n",
       "[114 rows x 3 columns]"
      ]
     },
     "metadata": {},
     "output_type": "display_data"
    }
   ],
   "source": [
    "sql = f'''\n",
    "select symbol, count(settle_date), max(settle_date) last_date from {opttab} \n",
    "where substring(symbol,1,2)='{SYMBOL_TO_RESEARCH}'\n",
    "group by symbol\n",
    "order by symbol;\n",
    "'''\n",
    "display.display(pga.get_sql(sql))\n"
   ]
  },
  {
   "cell_type": "code",
   "execution_count": 162,
   "metadata": {
    "scrolled": true
   },
   "outputs": [],
   "source": [
    "# symbol_to_search='CLG20'\n",
    "# sql = f'''\n",
    "# select distinct symbol, settle_date  from {opttab} \n",
    "# where symbol='{symbol_to_search}'\n",
    "# order by settle_date desc;\n",
    "# '''\n",
    "# display.display(pga.get_sql(sql))"
   ]
  },
  {
   "cell_type": "code",
   "execution_count": 163,
   "metadata": {},
   "outputs": [],
   "source": [
    "def create_skew_per_date_df(df):\n",
    "    '''\n",
    "    Find the first settle_date whose count of rows is equal to max count of rows.\n",
    "    '''\n",
    "    # get the first symbol (which should be the only symbol)\n",
    "    contract = df.symbol.unique()[0]\n",
    "    # get just that symbol's data\n",
    "    df12 = df[df.symbol==contract]\n",
    "    df_counts = df12[['settle_date','moneyness']].groupby('settle_date',as_index=False).count()\n",
    "    max_count = df_counts.moneyness.max()\n",
    "    first_max_count_settle_date = df_counts[df_counts.moneyness==max_count].iloc[0].settle_date\n",
    "    \n",
    "    df_ret = df12[df12.settle_date==first_max_count_settle_date][['moneyness']]\n",
    "    all_settle_dates = sorted(df_counts.settle_date.unique())\n",
    "    for settle_date in all_settle_dates:\n",
    "        df_temp = df12[df12.settle_date==settle_date][['moneyness','vol_skew']]\n",
    "        df_ret = df_ret.merge(df_temp,on='moneyness',how='outer')\n",
    "        df_ret = df_ret.rename(columns={'vol_skew':str(settle_date)})\n",
    "    df_ret = df_ret.sort_values('moneyness')\n",
    "    return df_ret\n"
   ]
  },
  {
   "cell_type": "markdown",
   "metadata": {},
   "source": [
    "### Skew per contract"
   ]
  },
  {
   "cell_type": "code",
   "execution_count": 164,
   "metadata": {},
   "outputs": [],
   "source": [
    "def skew_per_symbol(symbol,strike_divisor=None):\n",
    "    '''\n",
    "    For a symbol like CLM16 or EZH19, create 2 Dataframes\n",
    "      1. df_iv - contains rows of implied vols, for only the 'pseudo' strikes that are an even\n",
    "                 percent away from the money for each settle_date\n",
    "      2. df_skew - contains one row per day of skew data of for 'pseudo' strikes that are an even\n",
    "                 percent away from the money for each settle_date\n",
    "    '''\n",
    "    _exception = None\n",
    "    _stacktrace = None\n",
    "    df_iv = None\n",
    "    df_skew = None\n",
    "    try:\n",
    "        df,df_expiry_dates = get_postgres_data(symbol)\n",
    "        if len(df[df.contract_num==2])>0:\n",
    "            df10 = get_implieds(df,df_expiry_dates,symbol)\n",
    "            df12 = get_even_moneyness_strikes(df10)\n",
    "            df_sk = create_skew_per_date_df(df12)\n",
    "            df_skt = df_sk.T\n",
    "            df_skt.columns = df_skt.loc['moneyness']\n",
    "            df_skt = df_skt.iloc[1:].copy()\n",
    "            df_skt['symbol'] = symbol\n",
    "            df_skt['settle_date'] = df_skt.index\n",
    "            df_iv = df12.copy() \n",
    "            df_skew = df_skt.copy()\n",
    "    except Exception as e:\n",
    "        _exception = str(e)\n",
    "        _stacktrace = traceback.format_exc()\n",
    "    return df_iv,df_skew,_exception,_stacktrace"
   ]
  },
  {
   "cell_type": "code",
   "execution_count": 165,
   "metadata": {},
   "outputs": [
    {
     "data": {
      "text/plain": [
       "array(['NGF12', 'NGF13', 'NGF14', 'NGF15', 'NGF16', 'NGF17', 'NGF18',\n",
       "       'NGF19', 'NGF20', 'NGG12', 'NGG13', 'NGG14', 'NGG15', 'NGG16',\n",
       "       'NGG17', 'NGG18', 'NGG19', 'NGG20', 'NGH12', 'NGH13', 'NGH14',\n",
       "       'NGH15', 'NGH16', 'NGH17', 'NGH18', 'NGH19', 'NGH20', 'NGJ12',\n",
       "       'NGJ13', 'NGJ14', 'NGJ15', 'NGJ16', 'NGJ17', 'NGJ18', 'NGJ19',\n",
       "       'NGJ20', 'NGK12', 'NGK13', 'NGK14', 'NGK15', 'NGK16', 'NGK17',\n",
       "       'NGK18', 'NGK19', 'NGK20', 'NGM12', 'NGM13', 'NGM14', 'NGM15',\n",
       "       'NGM16', 'NGM17', 'NGM18', 'NGM19', 'NGM20', 'NGN11', 'NGN12',\n",
       "       'NGN13', 'NGN14', 'NGN15', 'NGN16', 'NGN17', 'NGN18', 'NGN19',\n",
       "       'NGN20', 'NGQ11', 'NGQ12', 'NGQ13', 'NGQ14', 'NGQ15', 'NGQ16',\n",
       "       'NGQ17', 'NGQ18', 'NGQ19', 'NGQ20', 'NGU11', 'NGU12', 'NGU13',\n",
       "       'NGU14', 'NGU15', 'NGU16', 'NGU17', 'NGU18', 'NGU19', 'NGU20',\n",
       "       'NGV11', 'NGV12', 'NGV13', 'NGV14', 'NGV15', 'NGV16', 'NGV17',\n",
       "       'NGV18', 'NGV19', 'NGV20', 'NGX11', 'NGX12', 'NGX13', 'NGX14',\n",
       "       'NGX15', 'NGX16', 'NGX17', 'NGX18', 'NGX19', 'NGX20', 'NGZ11',\n",
       "       'NGZ12', 'NGZ13', 'NGZ14', 'NGZ15', 'NGZ16', 'NGZ17', 'NGZ18',\n",
       "       'NGZ19', 'NGZ20'], dtype=object)"
      ]
     },
     "execution_count": 165,
     "metadata": {},
     "output_type": "execute_result"
    }
   ],
   "source": [
    "all_contracts"
   ]
  },
  {
   "cell_type": "markdown",
   "metadata": {},
   "source": [
    "## MAIN LOOP\n",
    "#### Loop through all contracts and create DataFrames for implied vol and skew (`df_iv_final` and `df_iv_skew`)"
   ]
  },
  {
   "cell_type": "code",
   "execution_count": 166,
   "metadata": {
    "scrolled": true
   },
   "outputs": [
    {
     "data": {
      "application/vnd.jupyter.widget-view+json": {
       "model_id": "09b131ad05a648c9b16872c19c8fa970",
       "version_major": 2,
       "version_minor": 0
      },
      "text/plain": [
       "HBox(children=(IntProgress(value=0, max=114), HTML(value='')))"
      ]
     },
     "metadata": {},
     "output_type": "display_data"
    },
    {
     "name": "stderr",
     "output_type": "stream",
     "text": [
      "/Users/bperlman1/Virtualenvs3/dashrisk3/lib/python3.6/site-packages/py_lets_be_rational/lets_be_rational.py:613: RuntimeWarning:\n",
      "\n",
      "divide by zero encountered in double_scalars\n",
      "\n"
     ]
    },
    {
     "name": "stdout",
     "output_type": "stream",
     "text": [
      "\n"
     ]
    }
   ],
   "source": [
    "strike_div = None if SYMBOL_TO_RESEARCH not in STRIKE_DIVISORS.keys() else STRIKE_DIVISORS[SYMBOL_TO_RESEARCH]\n",
    "df_iv_final = None\n",
    "df_iv_skew = None\n",
    "dict_exceptions = {}\n",
    "dict_stacktraces = {}\n",
    "contracts = all_contracts\n",
    "if SYMBOL_TO_RESEARCH in ['ES','GE']:\n",
    "    contracts = [c for c in all_contracts if c[-3] in ['H','M','U','Z']]\n",
    "for contract in tqdm_notebook(contracts):\n",
    "    df12,df_skew,_exception,_stacktrace = skew_per_symbol(contract,strike_divisor=strike_div)\n",
    "    if _exception is not None:\n",
    "        dict_exceptions[contract] = _exception\n",
    "        dict_stacktraces[contract] = _stacktrace\n",
    "        continue\n",
    "    \n",
    "    if (df12 is None or len(df12)<1) or (df_skew is None or len(df_skew)<1):\n",
    "        if (df12 is None or len(df12)<1):\n",
    "            dict_exceptions[contract] = \"No data returned for df in skew_per_symbol\"\n",
    "        if (df_skew is None or len(df_skew)<1):\n",
    "            dict_exceptions[contract] = \"No data returned for df_skew in skew_per_symbol\"\n",
    "        continue\n",
    "    if df12 is not None:\n",
    "        if df_iv_final is None:\n",
    "            df_iv_final = df12.copy()\n",
    "        else:\n",
    "            df_iv_final = df_iv_final.append(df12,ignore_index=True)\n",
    "        if df_iv_skew is None:\n",
    "            df_iv_skew = df_skew.copy()\n",
    "        else:\n",
    "            df_iv_skew = df_iv_skew.append(df_skew,ignore_index=True)\n",
    "            df_iv_skew.index = list(range(len(df_iv_skew)))\n",
    "df_iv_final = df_iv_final.sort_values(['settle_date','moneyness'])"
   ]
  },
  {
   "cell_type": "code",
   "execution_count": 167,
   "metadata": {},
   "outputs": [
    {
     "data": {
      "text/plain": [
       "22273"
      ]
     },
     "execution_count": 167,
     "metadata": {},
     "output_type": "execute_result"
    }
   ],
   "source": [
    "len(df_iv_final)"
   ]
  },
  {
   "cell_type": "markdown",
   "metadata": {},
   "source": [
    "### save to csv and print any exceptions that might have occured"
   ]
  },
  {
   "cell_type": "code",
   "execution_count": 168,
   "metadata": {},
   "outputs": [
    {
     "name": "stdout",
     "output_type": "stream",
     "text": [
      "{'NGF12': 'No data returned for df_skew in skew_per_symbol', 'NGF20': 'No data returned for df_skew in skew_per_symbol', 'NGG12': 'No data returned for df_skew in skew_per_symbol', 'NGG20': 'No data returned for df_skew in skew_per_symbol', 'NGH12': 'No data returned for df_skew in skew_per_symbol', 'NGH20': 'No data returned for df_skew in skew_per_symbol', 'NGJ12': 'No data returned for df_skew in skew_per_symbol', 'NGJ20': 'No data returned for df_skew in skew_per_symbol', 'NGK12': 'No data returned for df_skew in skew_per_symbol', 'NGK20': 'No data returned for df_skew in skew_per_symbol', 'NGM12': 'No data returned for df_skew in skew_per_symbol', 'NGM20': 'No data returned for df_skew in skew_per_symbol', 'NGN11': 'No data returned for df_skew in skew_per_symbol', 'NGN20': 'No data returned for df_skew in skew_per_symbol', 'NGQ11': 'index 0 is out of bounds for axis 0 with size 0', 'NGQ20': 'No data returned for df_skew in skew_per_symbol', 'NGU11': 'No data returned for df_skew in skew_per_symbol', 'NGU20': 'No data returned for df_skew in skew_per_symbol', 'NGV11': 'No data returned for df_skew in skew_per_symbol', 'NGV20': 'No data returned for df_skew in skew_per_symbol', 'NGX11': 'No data returned for df_skew in skew_per_symbol', 'NGX20': 'No data returned for df_skew in skew_per_symbol', 'NGZ11': 'index 0 is out of bounds for axis 0 with size 0', 'NGZ19': 'No data returned for df_skew in skew_per_symbol', 'NGZ20': 'No data returned for df_skew in skew_per_symbol'}\n"
     ]
    }
   ],
   "source": [
    "print(dict_exceptions)\n",
    "df_iv_final.to_csv(f'./temp_folder/df_iv_final_{SYMBOL_TO_RESEARCH}.csv',index=False)\n",
    "df_iv_skew.to_csv(f'./temp_folder/df_iv_skew_{SYMBOL_TO_RESEARCH}.csv',index=False)"
   ]
  },
  {
   "cell_type": "markdown",
   "metadata": {},
   "source": [
    "### graph skew"
   ]
  },
  {
   "cell_type": "code",
   "execution_count": 169,
   "metadata": {
    "scrolled": true
   },
   "outputs": [],
   "source": [
    "def graph_skew(df,do_plot=False):\n",
    "    '''\n",
    "    Graph skew for ONLY ONE symbol.\n",
    "    If df contains more than one symbol, we will only graph the first symbol in the DataFrames    \n",
    "    '''\n",
    "    # get the first symbol (which should be the only symbol)\n",
    "    contract = df.symbol.unique()[0]\n",
    "    dfp = create_skew_per_date_df(df_iv_final[df_iv_final.symbol==contract])\n",
    "    \n",
    "#     display.display(dfp)\n",
    "    settle_dates = sorted([c for c in dfp.columns.values if c != 'moneyness'])\n",
    "    splits = list(np.arange(5,len(settle_dates),5))\n",
    "#     settle_date_strings = [str(yyyymmdd) for yyyymmdd in settle_dates]\n",
    "    settle_date_groups = np.split(np.array(settle_dates),splits)\n",
    "    ret_figs = []\n",
    "    for sdg in settle_date_groups:\n",
    "        sdg_sorted = [str(c) for c in sorted(sdg)]\n",
    "        cols = ['moneyness']+list(sdg_sorted)\n",
    "        dfp_sub = dfp[cols]\n",
    "        t = f'{contract} {sdg[0]} - {sdg[-1]}' \n",
    "        f = plotly_plot(dfp_sub,x_column='moneyness',plot_title=t,y_left_label='vol skew')\n",
    "        ret_figs.append(f)\n",
    "        if do_plot:\n",
    "            iplot(f)\n",
    "    return ret_figs"
   ]
  },
  {
   "cell_type": "markdown",
   "metadata": {},
   "source": [
    "#### Do the same plots as above, but using a grid"
   ]
  },
  {
   "cell_type": "code",
   "execution_count": 170,
   "metadata": {},
   "outputs": [],
   "source": [
    "def graph_skew_subplots(df):\n",
    "    rfs = graph_skew(df)\n",
    "    n = 4   \n",
    "    # using list comprehension \n",
    "    rfs_groups = [rfs[i*n:(i + 1)*n] for i in range((len(rfs) + n - 1) // n )]  \n",
    "    for rfs_group in rfs_groups:\n",
    "        iplot(graph_skew_subplot_quad(rfs_group))\n",
    "    \n",
    "def graph_skew_subplot_quad(rfs):\n",
    "    '''\n",
    "    Use subplots to output the results of the method graph_skew above\n",
    "    '''\n",
    "    rows = 2#len(rfs)//2\n",
    "    f1 = tls.make_subplots(rows=rows, cols=2,  \n",
    "        shared_yaxes=False, \n",
    "        subplot_titles=[rfs[i]['layout'].title for i in range(len(rfs))],\n",
    "        horizontal_spacing=0.09,\n",
    "        vertical_spacing=0.11,                       \n",
    "        print_grid=False)\n",
    "\n",
    "    pl_width=900\n",
    "    pl_height=800 \n",
    "    title = 'Skew plots<br>'\n",
    "\n",
    "    f1['layout'].update(title=title,                                 \n",
    "        font= Font(family=\"Open Sans, sans-serif\"),\n",
    "        showlegend=True,     \n",
    "        hovermode='x',  \n",
    "        autosize=True,       \n",
    "        width=pl_width,       \n",
    "        height=pl_height,\n",
    "        plot_bgcolor='#EFECEA', \n",
    "        bargap=0.05,\n",
    "        margin=Margin(\n",
    "                      l=45,\n",
    "                      r=15,\n",
    "                      b=55,\n",
    "                      t=50\n",
    "        )\n",
    "    )    \n",
    "    for i in range(len(rfs)):\n",
    "        x = int(i/2) + 1\n",
    "        y = i % 2 + 1\n",
    "        f = rfs[i]\n",
    "        l = f.layout\n",
    "        \n",
    "        try:\n",
    "            yaxis = f'yaxis{i+1}'\n",
    "            xaxis = f'xaxis{i+1}'\n",
    "            if i < 10:\n",
    "                yaxis = yaxis.replace('1','') \n",
    "                xaxis = xaxis.replace('1','') \n",
    "            f1['layout'].update({xaxis:l.xaxis})\n",
    "            f1['layout'].update({yaxis:l.yaxis})\n",
    "            gname = f'chart {x,y}'#rfs[i]['layout'].title\n",
    "            for d in f.data:\n",
    "                data_y = f'y{i+1}'.replace('1','') \n",
    "                d['yaxis']=data_y\n",
    "                d['legendgroup'] =  gname\n",
    "                d['name'] = f\"{gname} {d.name}\"\n",
    "                f1.append_trace(d,x,y)\n",
    "            pass\n",
    "        except Exception as e:\n",
    "            ipdb.set_trace()\n",
    "            print(f'graph_skew_subplots ERRORS: {str(e)}')\n",
    "    return f1\n",
    "# iplot(f1)\n"
   ]
  },
  {
   "cell_type": "code",
   "execution_count": 171,
   "metadata": {},
   "outputs": [
    {
     "data": {
      "text/html": [
       "<div>\n",
       "<style scoped>\n",
       "    .dataframe tbody tr th:only-of-type {\n",
       "        vertical-align: middle;\n",
       "    }\n",
       "\n",
       "    .dataframe tbody tr th {\n",
       "        vertical-align: top;\n",
       "    }\n",
       "\n",
       "    .dataframe thead th {\n",
       "        text-align: right;\n",
       "    }\n",
       "</style>\n",
       "<table border=\"1\" class=\"dataframe\">\n",
       "  <thead>\n",
       "    <tr style=\"text-align: right;\">\n",
       "      <th></th>\n",
       "      <th>close_x</th>\n",
       "      <th>close_y</th>\n",
       "      <th>contract_num</th>\n",
       "      <th>dte</th>\n",
       "      <th>iv</th>\n",
       "      <th>pc</th>\n",
       "      <th>settle_date</th>\n",
       "      <th>strike</th>\n",
       "      <th>symbol</th>\n",
       "      <th>moneyness</th>\n",
       "      <th>atm_iv</th>\n",
       "      <th>vol_skew</th>\n",
       "    </tr>\n",
       "  </thead>\n",
       "  <tbody>\n",
       "    <tr>\n",
       "      <th>20521</th>\n",
       "      <td>NaN</td>\n",
       "      <td>2.342</td>\n",
       "      <td>2</td>\n",
       "      <td>1</td>\n",
       "      <td>3.021316</td>\n",
       "      <td>NaN</td>\n",
       "      <td>20190829</td>\n",
       "      <td>2.9275</td>\n",
       "      <td>NGX19</td>\n",
       "      <td>0.25</td>\n",
       "      <td>2.906404</td>\n",
       "      <td>0.1149</td>\n",
       "    </tr>\n",
       "    <tr>\n",
       "      <th>20520</th>\n",
       "      <td>NaN</td>\n",
       "      <td>2.342</td>\n",
       "      <td>2</td>\n",
       "      <td>1</td>\n",
       "      <td>2.951905</td>\n",
       "      <td>NaN</td>\n",
       "      <td>20190829</td>\n",
       "      <td>2.8104</td>\n",
       "      <td>NGX19</td>\n",
       "      <td>0.20</td>\n",
       "      <td>2.906404</td>\n",
       "      <td>0.0455</td>\n",
       "    </tr>\n",
       "    <tr>\n",
       "      <th>20519</th>\n",
       "      <td>NaN</td>\n",
       "      <td>2.342</td>\n",
       "      <td>2</td>\n",
       "      <td>1</td>\n",
       "      <td>2.875298</td>\n",
       "      <td>NaN</td>\n",
       "      <td>20190829</td>\n",
       "      <td>2.6933</td>\n",
       "      <td>NGX19</td>\n",
       "      <td>0.15</td>\n",
       "      <td>2.906404</td>\n",
       "      <td>-0.0311</td>\n",
       "    </tr>\n",
       "    <tr>\n",
       "      <th>20518</th>\n",
       "      <td>NaN</td>\n",
       "      <td>2.342</td>\n",
       "      <td>2</td>\n",
       "      <td>1</td>\n",
       "      <td>2.863820</td>\n",
       "      <td>NaN</td>\n",
       "      <td>20190829</td>\n",
       "      <td>2.5762</td>\n",
       "      <td>NGX19</td>\n",
       "      <td>0.10</td>\n",
       "      <td>2.906404</td>\n",
       "      <td>-0.0426</td>\n",
       "    </tr>\n",
       "    <tr>\n",
       "      <th>20517</th>\n",
       "      <td>NaN</td>\n",
       "      <td>2.342</td>\n",
       "      <td>2</td>\n",
       "      <td>1</td>\n",
       "      <td>2.871755</td>\n",
       "      <td>NaN</td>\n",
       "      <td>20190829</td>\n",
       "      <td>2.4591</td>\n",
       "      <td>NGX19</td>\n",
       "      <td>0.05</td>\n",
       "      <td>2.906404</td>\n",
       "      <td>-0.0346</td>\n",
       "    </tr>\n",
       "  </tbody>\n",
       "</table>\n",
       "</div>"
      ],
      "text/plain": [
       "       close_x  close_y  contract_num  dte        iv   pc  settle_date  \\\n",
       "20521      NaN    2.342             2    1  3.021316  NaN     20190829   \n",
       "20520      NaN    2.342             2    1  2.951905  NaN     20190829   \n",
       "20519      NaN    2.342             2    1  2.875298  NaN     20190829   \n",
       "20518      NaN    2.342             2    1  2.863820  NaN     20190829   \n",
       "20517      NaN    2.342             2    1  2.871755  NaN     20190829   \n",
       "\n",
       "       strike symbol  moneyness    atm_iv  vol_skew  \n",
       "20521  2.9275  NGX19       0.25  2.906404    0.1149  \n",
       "20520  2.8104  NGX19       0.20  2.906404    0.0455  \n",
       "20519  2.6933  NGX19       0.15  2.906404   -0.0311  \n",
       "20518  2.5762  NGX19       0.10  2.906404   -0.0426  \n",
       "20517  2.4591  NGX19       0.05  2.906404   -0.0346  "
      ]
     },
     "execution_count": 171,
     "metadata": {},
     "output_type": "execute_result"
    }
   ],
   "source": [
    "df_ivf2 = df_iv_final[df_iv_final.symbol.str.contains(f'{SYMBOL_TO_RESEARCH}')]\n",
    "df_ivf2.sort_values(['settle_date','symbol','dte','strike'],ascending=False).head()"
   ]
  },
  {
   "cell_type": "code",
   "execution_count": 172,
   "metadata": {
    "scrolled": true
   },
   "outputs": [
    {
     "data": {
      "text/plain": [
       "['NG201207',\n",
       " 'NG201208',\n",
       " 'NG201209',\n",
       " 'NG201210',\n",
       " 'NG201211',\n",
       " 'NG201212',\n",
       " 'NG201301',\n",
       " 'NG201302',\n",
       " 'NG201303',\n",
       " 'NG201304',\n",
       " 'NG201305',\n",
       " 'NG201306',\n",
       " 'NG201307',\n",
       " 'NG201308',\n",
       " 'NG201309',\n",
       " 'NG201310',\n",
       " 'NG201311',\n",
       " 'NG201312',\n",
       " 'NG201401',\n",
       " 'NG201402',\n",
       " 'NG201403',\n",
       " 'NG201404',\n",
       " 'NG201405',\n",
       " 'NG201406',\n",
       " 'NG201407',\n",
       " 'NG201408',\n",
       " 'NG201409',\n",
       " 'NG201410',\n",
       " 'NG201411',\n",
       " 'NG201412',\n",
       " 'NG201501',\n",
       " 'NG201502',\n",
       " 'NG201503',\n",
       " 'NG201504',\n",
       " 'NG201505',\n",
       " 'NG201506',\n",
       " 'NG201507',\n",
       " 'NG201508',\n",
       " 'NG201509',\n",
       " 'NG201510',\n",
       " 'NG201511',\n",
       " 'NG201512',\n",
       " 'NG201601',\n",
       " 'NG201602',\n",
       " 'NG201603',\n",
       " 'NG201604',\n",
       " 'NG201605',\n",
       " 'NG201606',\n",
       " 'NG201607',\n",
       " 'NG201608',\n",
       " 'NG201609',\n",
       " 'NG201610',\n",
       " 'NG201611',\n",
       " 'NG201612',\n",
       " 'NG201701',\n",
       " 'NG201702',\n",
       " 'NG201703',\n",
       " 'NG201704',\n",
       " 'NG201705',\n",
       " 'NG201706',\n",
       " 'NG201707',\n",
       " 'NG201708',\n",
       " 'NG201709',\n",
       " 'NG201710',\n",
       " 'NG201711',\n",
       " 'NG201712',\n",
       " 'NG201801',\n",
       " 'NG201802',\n",
       " 'NG201803',\n",
       " 'NG201804',\n",
       " 'NG201805',\n",
       " 'NG201806',\n",
       " 'NG201807',\n",
       " 'NG201808',\n",
       " 'NG201809',\n",
       " 'NG201810',\n",
       " 'NG201811',\n",
       " 'NG201812',\n",
       " 'NG201901',\n",
       " 'NG201902',\n",
       " 'NG201903',\n",
       " 'NG201904',\n",
       " 'NG201905',\n",
       " 'NG201906',\n",
       " 'NG201907',\n",
       " 'NG201908',\n",
       " 'NG201909',\n",
       " 'NG201910',\n",
       " 'NG201911']"
      ]
     },
     "execution_count": 172,
     "metadata": {},
     "output_type": "execute_result"
    }
   ],
   "source": [
    "mcs = {'F':1,'G':2,'H':3,'J':4,'K':5,'M':6,'N':7,'Q':8,'U':9,'V':10,'X':11,'Z':12}\n",
    "# sorted(list(set(df_iv_final.symbol)))\n",
    "sorted([f'{s[:2]}{(2000+int(s[-2:]))*100 + int(mcs[s[-3]])}' for s in set(df_iv_final.symbol)])"
   ]
  },
  {
   "cell_type": "code",
   "execution_count": 173,
   "metadata": {
    "scrolled": true
   },
   "outputs": [
    {
     "data": {
      "application/vnd.plotly.v1+json": {
       "data": [
        {
         "legendgroup": "chart (1, 1)",
         "name": "chart (1, 1) 20181030",
         "type": "scatter",
         "uid": "eb7dc4d8-1df1-11ea-a942-8c859025e7f9",
         "x": [
          -0.3,
          -0.25,
          -0.2,
          -0.15,
          -0.1,
          -0.05,
          0,
          0.05,
          0.1,
          0.15,
          0.2,
          0.25,
          0.3,
          0.35
         ],
         "xaxis": "x",
         "y": [
          -0.016,
          -0.021,
          -0.0314,
          -0.0327,
          -0.0223,
          -0.0112,
          0,
          0.0095,
          0.0185,
          0.0284,
          0.0389,
          0.0498,
          0.0607,
          0.0706
         ],
         "yaxis": "y"
        },
        {
         "legendgroup": "chart (1, 1)",
         "name": "chart (1, 1) 20181031",
         "type": "scatter",
         "uid": "eb7e2b42-1df1-11ea-9f59-8c859025e7f9",
         "x": [
          -0.3,
          -0.25,
          -0.2,
          -0.15,
          -0.1,
          -0.05,
          0,
          0.05,
          0.1,
          0.15,
          0.2,
          0.25,
          0.3,
          0.35
         ],
         "xaxis": "x",
         "y": [
          -0.0152,
          -0.019,
          -0.0354,
          -0.0342,
          -0.0245,
          -0.0113,
          0,
          0.0112,
          0.0235,
          0.0348,
          0.0479,
          0.0598,
          0.0734,
          0.0872
         ],
         "yaxis": "y"
        },
        {
         "legendgroup": "chart (1, 1)",
         "name": "chart (1, 1) 20181101",
         "type": "scatter",
         "uid": "eb7e8ae2-1df1-11ea-a9db-8c859025e7f9",
         "x": [
          -0.3,
          -0.25,
          -0.2,
          -0.15,
          -0.1,
          -0.05,
          0,
          0.05,
          0.1,
          0.15,
          0.2,
          0.25,
          0.3,
          0.35
         ],
         "xaxis": "x",
         "y": [
          -0.014,
          -0.0269,
          -0.0322,
          -0.032,
          -0.0241,
          -0.0114,
          0,
          0.0147,
          0.0295,
          0.0416,
          0.0568,
          0.0714,
          0.0856,
          0.1015
         ],
         "yaxis": "y"
        },
        {
         "legendgroup": "chart (1, 1)",
         "name": "chart (1, 1) 20181102",
         "type": "scatter",
         "uid": "eb7ee8fa-1df1-11ea-87e4-8c859025e7f9",
         "x": [
          -0.3,
          -0.25,
          -0.2,
          -0.15,
          -0.1,
          -0.05,
          0,
          0.05,
          0.1,
          0.15,
          0.2,
          0.25,
          0.3,
          0.35
         ],
         "xaxis": "x",
         "y": [
          -0.0079,
          -0.0225,
          -0.0267,
          -0.0255,
          -0.0209,
          -0.0113,
          0,
          0.0135,
          0.0262,
          0.0419,
          0.0539,
          0.0681,
          0.0821,
          0.0963
         ],
         "yaxis": "y"
        },
        {
         "legendgroup": "chart (1, 1)",
         "name": "chart (1, 1) 20181105",
         "type": "scatter",
         "uid": "eb7f52b0-1df1-11ea-9a54-8c859025e7f9",
         "x": [
          -0.3,
          -0.25,
          -0.2,
          -0.15,
          -0.1,
          -0.05,
          0,
          0.05,
          0.1,
          0.15,
          0.2,
          0.25,
          0.3,
          0.35
         ],
         "xaxis": "x",
         "y": [
          -0.0429,
          -0.0536,
          -0.0566,
          -0.0538,
          -0.0402,
          -0.0187,
          0,
          0.0176,
          0.035,
          0.0534,
          0.0704,
          0.0856,
          0.1008,
          0.1128
         ],
         "yaxis": "y"
        },
        {
         "legendgroup": "chart (1, 2)",
         "name": "chart (1, 2) 20181106",
         "type": "scatter",
         "uid": "eb80323e-1df1-11ea-a182-8c859025e7f9",
         "x": [
          -0.3,
          -0.25,
          -0.2,
          -0.15,
          -0.1,
          -0.05,
          0,
          0.05,
          0.1,
          0.15,
          0.2,
          0.25,
          0.3,
          0.35
         ],
         "xaxis": "x2",
         "y": [
          -0.0515,
          -0.0613,
          -0.0714,
          -0.0639,
          -0.0451,
          -0.0235,
          0,
          0.0209,
          0.0393,
          0.0571,
          0.0737,
          0.0891,
          0.1043,
          0.1204
         ],
         "yaxis": "y2"
        },
        {
         "legendgroup": "chart (1, 2)",
         "name": "chart (1, 2) 20181107",
         "type": "scatter",
         "uid": "eb809f1c-1df1-11ea-8663-8c859025e7f9",
         "x": [
          -0.3,
          -0.25,
          -0.2,
          -0.15,
          -0.1,
          -0.05,
          0,
          0.05,
          0.1,
          0.15,
          0.2,
          0.25,
          0.3,
          0.35
         ],
         "xaxis": "x2",
         "y": [
          -0.0513,
          -0.0605,
          -0.0735,
          -0.0603,
          -0.0429,
          -0.0203,
          0,
          0.0191,
          0.0395,
          0.0563,
          0.0737,
          0.0925,
          0.109,
          0.1242
         ],
         "yaxis": "y2"
        },
        {
         "legendgroup": "chart (1, 2)",
         "name": "chart (1, 2) 20181108",
         "type": "scatter",
         "uid": "eb80ffe8-1df1-11ea-969f-8c859025e7f9",
         "x": [
          -0.3,
          -0.25,
          -0.2,
          -0.15,
          -0.1,
          -0.05,
          0,
          0.05,
          0.1,
          0.15,
          0.2,
          0.25,
          0.3,
          0.35
         ],
         "xaxis": "x2",
         "y": [
          -0.0439,
          -0.0651,
          -0.0669,
          -0.06,
          -0.0433,
          -0.0228,
          0,
          0.0231,
          0.0435,
          0.0634,
          0.0816,
          0.0996,
          0.1154,
          0.1294
         ],
         "yaxis": "y2"
        },
        {
         "legendgroup": "chart (1, 2)",
         "name": "chart (1, 2) 20181109",
         "type": "scatter",
         "uid": "eb816078-1df1-11ea-927e-8c859025e7f9",
         "x": [
          -0.3,
          -0.25,
          -0.2,
          -0.15,
          -0.1,
          -0.05,
          0,
          0.05,
          0.1,
          0.15,
          0.2,
          0.25,
          0.3,
          0.35
         ],
         "xaxis": "x2",
         "y": [
          -0.0288,
          -0.0542,
          -0.0569,
          -0.0542,
          -0.041,
          -0.0236,
          0,
          0.0239,
          0.0479,
          0.0708,
          0.0914,
          0.1117,
          0.1287,
          0.1463
         ],
         "yaxis": "y2"
        },
        {
         "legendgroup": "chart (1, 2)",
         "name": "chart (1, 2) 20181112",
         "type": "scatter",
         "uid": "eb81c2d4-1df1-11ea-8165-8c859025e7f9",
         "x": [
          -0.3,
          -0.25,
          -0.2,
          -0.15,
          -0.1,
          -0.05,
          0,
          0.05,
          0.1,
          0.15,
          0.2,
          0.25,
          0.3,
          0.35
         ],
         "xaxis": "x2",
         "y": [
          null,
          null,
          null,
          null,
          null,
          null,
          0,
          null,
          null,
          null,
          null,
          0.1118,
          null,
          null
         ],
         "yaxis": "y2"
        },
        {
         "legendgroup": "chart (2, 1)",
         "name": "chart (2, 1) 20181113",
         "type": "scatter",
         "uid": "eb82a14a-1df1-11ea-b2e8-8c859025e7f9",
         "x": [
          -0.3,
          -0.25,
          -0.2,
          -0.15,
          -0.1,
          -0.05,
          0,
          0.05,
          0.1,
          0.15,
          0.2,
          0.25,
          0.3,
          0.35
         ],
         "xaxis": "x3",
         "y": [
          -0.0572,
          -0.0643,
          -0.0666,
          -0.0592,
          -0.0479,
          -0.027,
          0,
          0.0226,
          0.0453,
          0.0646,
          0.0831,
          0.0968,
          0.1084,
          0.1202
         ],
         "yaxis": "y3"
        },
        {
         "legendgroup": "chart (2, 1)",
         "name": "chart (2, 1) 20181114",
         "type": "scatter",
         "uid": "eb832586-1df1-11ea-8beb-8c859025e7f9",
         "x": [
          -0.3,
          -0.25,
          -0.2,
          -0.15,
          -0.1,
          -0.05,
          0,
          0.05,
          0.1,
          0.15,
          0.2,
          0.25,
          0.3,
          0.35
         ],
         "xaxis": "x3",
         "y": [
          -0.1438,
          -0.1337,
          -0.1149,
          -0.0897,
          -0.0607,
          -0.0294,
          0,
          0.0261,
          0.0474,
          0.0655,
          0.0817,
          null,
          null,
          null
         ],
         "yaxis": "y3"
        },
        {
         "legendgroup": "chart (2, 1)",
         "name": "chart (2, 1) 20181115",
         "type": "scatter",
         "uid": "eb94cd1e-1df1-11ea-b523-8c859025e7f9",
         "x": [
          -0.3,
          -0.25,
          -0.2,
          -0.15,
          -0.1,
          -0.05,
          0,
          0.05,
          0.1,
          0.15,
          0.2,
          0.25,
          0.3,
          0.35
         ],
         "xaxis": "x3",
         "y": [
          -0.174,
          -0.1621,
          -0.1372,
          -0.106,
          -0.0707,
          -0.0337,
          0,
          0.0341,
          0.0634,
          0.0893,
          0.111,
          0.129,
          0.1476,
          0.162
         ],
         "yaxis": "y3"
        },
        {
         "legendgroup": "chart (2, 1)",
         "name": "chart (2, 1) 20181116",
         "type": "scatter",
         "uid": "eb957f5e-1df1-11ea-b0b7-8c859025e7f9",
         "x": [
          -0.3,
          -0.25,
          -0.2,
          -0.15,
          -0.1,
          -0.05,
          0,
          0.05,
          0.1,
          0.15,
          0.2,
          0.25,
          0.3,
          0.35
         ],
         "xaxis": "x3",
         "y": [
          -0.2184,
          -0.1858,
          -0.1499,
          -0.1146,
          -0.0738,
          -0.0356,
          0,
          0.0305,
          0.0598,
          0.0841,
          0.1062,
          0.1256,
          0.1417,
          0.1567
         ],
         "yaxis": "y3"
        },
        {
         "legendgroup": "chart (2, 1)",
         "name": "chart (2, 1) 20181119",
         "type": "scatter",
         "uid": "eb96195a-1df1-11ea-a5ab-8c859025e7f9",
         "x": [
          -0.3,
          -0.25,
          -0.2,
          -0.15,
          -0.1,
          -0.05,
          0,
          0.05,
          0.1,
          0.15,
          0.2,
          0.25,
          0.3,
          0.35
         ],
         "xaxis": "x3",
         "y": [
          -0.2881,
          -0.2431,
          -0.1916,
          -0.1386,
          -0.0888,
          -0.0421,
          0,
          0.0346,
          0.0656,
          0.0935,
          0.119,
          0.1384,
          null,
          null
         ],
         "yaxis": "y3"
        },
        {
         "legendgroup": "chart (2, 2)",
         "name": "chart (2, 2) 20181120",
         "type": "scatter",
         "uid": "eb974a8c-1df1-11ea-a803-8c859025e7f9",
         "x": [
          -0.3,
          -0.25,
          -0.2,
          -0.15,
          -0.1,
          -0.05,
          0,
          0.05,
          0.1,
          0.15,
          0.2,
          0.25,
          0.3,
          0.35
         ],
         "xaxis": "x4",
         "y": [
          -0.2737,
          -0.2408,
          -0.1986,
          -0.1499,
          -0.0981,
          -0.0477,
          0,
          0.0438,
          0.083,
          0.1156,
          0.1446,
          0.1661,
          0.1856,
          null
         ],
         "yaxis": "y4"
        },
        {
         "legendgroup": "chart (2, 2)",
         "name": "chart (2, 2) 20181121",
         "type": "scatter",
         "uid": "eb97d088-1df1-11ea-b202-8c859025e7f9",
         "x": [
          -0.3,
          -0.25,
          -0.2,
          -0.15,
          -0.1,
          -0.05,
          0,
          0.05,
          0.1,
          0.15,
          0.2,
          0.25,
          0.3,
          0.35
         ],
         "xaxis": "x4",
         "y": [
          -0.224,
          -0.1998,
          -0.1723,
          -0.138,
          -0.0935,
          -0.0465,
          0,
          0.0406,
          0.0785,
          0.1115,
          0.1405,
          0.1656,
          0.1858,
          null
         ],
         "yaxis": "y4"
        },
        {
         "legendgroup": "chart (2, 2)",
         "name": "chart (2, 2) 20181123",
         "type": "scatter",
         "uid": "eb984be4-1df1-11ea-b99c-8c859025e7f9",
         "x": [
          -0.3,
          -0.25,
          -0.2,
          -0.15,
          -0.1,
          -0.05,
          0,
          0.05,
          0.1,
          0.15,
          0.2,
          0.25,
          0.3,
          0.35
         ],
         "xaxis": "x4",
         "y": [
          -0.2129,
          -0.1954,
          -0.1696,
          -0.136,
          -0.0944,
          -0.0494,
          0,
          0.0436,
          0.084,
          0.117,
          0.1438,
          0.1679,
          0.1886,
          0.2067
         ],
         "yaxis": "y4"
        },
        {
         "legendgroup": "chart (2, 2)",
         "name": "chart (2, 2) 20181126",
         "type": "scatter",
         "uid": "eb98c0cc-1df1-11ea-b3eb-8c859025e7f9",
         "x": [
          -0.3,
          -0.25,
          -0.2,
          -0.15,
          -0.1,
          -0.05,
          0,
          0.05,
          0.1,
          0.15,
          0.2,
          0.25,
          0.3,
          0.35
         ],
         "xaxis": "x4",
         "y": [
          -0.1817,
          -0.1791,
          -0.1617,
          -0.1293,
          -0.0899,
          -0.0456,
          0,
          0.0423,
          0.078,
          0.1113,
          0.1355,
          0.1583,
          0.1739,
          0.1879
         ],
         "yaxis": "y4"
        },
        {
         "legendgroup": "chart (2, 2)",
         "name": "chart (2, 2) 20181127",
         "type": "scatter",
         "uid": "eb994c1a-1df1-11ea-9caf-8c859025e7f9",
         "x": [
          -0.3,
          -0.25,
          -0.2,
          -0.15,
          -0.1,
          -0.05,
          0,
          0.05,
          0.1,
          0.15,
          0.2,
          0.25,
          0.3,
          0.35
         ],
         "xaxis": "x4",
         "y": [
          -0.151,
          -0.1589,
          -0.1491,
          -0.1244,
          -0.0876,
          -0.0444,
          0,
          0.0381,
          0.0705,
          0.0978,
          0.119,
          0.1399,
          0.1588,
          0.1757
         ],
         "yaxis": "y4"
        }
       ],
       "layout": {
        "annotations": [
         {
          "font": {
           "size": 16
          },
          "showarrow": false,
          "text": "NGF19 20181030 - 20181105",
          "x": 0.2275,
          "xanchor": "center",
          "xref": "paper",
          "y": 1,
          "yanchor": "bottom",
          "yref": "paper"
         },
         {
          "font": {
           "size": 16
          },
          "showarrow": false,
          "text": "NGF19 20181106 - 20181112",
          "x": 0.7725,
          "xanchor": "center",
          "xref": "paper",
          "y": 1,
          "yanchor": "bottom",
          "yref": "paper"
         },
         {
          "font": {
           "size": 16
          },
          "showarrow": false,
          "text": "NGF19 20181113 - 20181119",
          "x": 0.2275,
          "xanchor": "center",
          "xref": "paper",
          "y": 0.445,
          "yanchor": "bottom",
          "yref": "paper"
         },
         {
          "font": {
           "size": 16
          },
          "showarrow": false,
          "text": "NGF19 20181120 - 20181127",
          "x": 0.7725,
          "xanchor": "center",
          "xref": "paper",
          "y": 0.445,
          "yanchor": "bottom",
          "yref": "paper"
         }
        ],
        "autosize": true,
        "bargap": 0.05,
        "font": {
         "family": "Open Sans, sans-serif"
        },
        "height": 800,
        "hovermode": "x",
        "margin": {
         "b": 55,
         "l": 45,
         "r": 15,
         "t": 50
        },
        "plot_bgcolor": "#EFECEA",
        "showlegend": true,
        "title": "Skew plots<br>",
        "width": 900,
        "xaxis": {
         "anchor": "y",
         "domain": [
          0,
          0.455
         ],
         "tickangle": 45,
         "ticktext": [
          -0.3,
          -0.25,
          -0.2,
          -0.15,
          -0.1,
          -0.05,
          0,
          0.05,
          0.1,
          0.15,
          0.2,
          0.25,
          0.3,
          0.35
         ],
         "tickvals": [
          -0.3,
          -0.25,
          -0.2,
          -0.15,
          -0.1,
          -0.05,
          0,
          0.05,
          0.1,
          0.15,
          0.2,
          0.25,
          0.3,
          0.35
         ],
         "type": "category"
        },
        "xaxis2": {
         "anchor": "y2",
         "domain": [
          0.545,
          1
         ],
         "tickangle": 45,
         "ticktext": [
          -0.3,
          -0.25,
          -0.2,
          -0.15,
          -0.1,
          -0.05,
          0,
          0.05,
          0.1,
          0.15,
          0.2,
          0.25,
          0.3,
          0.35
         ],
         "tickvals": [
          -0.3,
          -0.25,
          -0.2,
          -0.15,
          -0.1,
          -0.05,
          0,
          0.05,
          0.1,
          0.15,
          0.2,
          0.25,
          0.3,
          0.35
         ],
         "type": "category"
        },
        "xaxis3": {
         "anchor": "y3",
         "domain": [
          0,
          0.455
         ],
         "tickangle": 45,
         "ticktext": [
          -0.3,
          -0.25,
          -0.2,
          -0.15,
          -0.1,
          -0.05,
          0,
          0.05,
          0.1,
          0.15,
          0.2,
          0.25,
          0.3,
          0.35
         ],
         "tickvals": [
          -0.3,
          -0.25,
          -0.2,
          -0.15,
          -0.1,
          -0.05,
          0,
          0.05,
          0.1,
          0.15,
          0.2,
          0.25,
          0.3,
          0.35
         ],
         "type": "category"
        },
        "xaxis4": {
         "anchor": "y4",
         "domain": [
          0.545,
          1
         ],
         "tickangle": 45,
         "ticktext": [
          -0.3,
          -0.25,
          -0.2,
          -0.15,
          -0.1,
          -0.05,
          0,
          0.05,
          0.1,
          0.15,
          0.2,
          0.25,
          0.3,
          0.35
         ],
         "tickvals": [
          -0.3,
          -0.25,
          -0.2,
          -0.15,
          -0.1,
          -0.05,
          0,
          0.05,
          0.1,
          0.15,
          0.2,
          0.25,
          0.3,
          0.35
         ],
         "type": "category"
        },
        "yaxis": {
         "anchor": "x",
         "domain": [
          0.555,
          1
         ],
         "title": "vol skew"
        },
        "yaxis2": {
         "anchor": "x2",
         "domain": [
          0.555,
          1
         ],
         "title": "vol skew"
        },
        "yaxis3": {
         "anchor": "x3",
         "domain": [
          0,
          0.445
         ],
         "title": "vol skew"
        },
        "yaxis4": {
         "anchor": "x4",
         "domain": [
          0,
          0.445
         ],
         "title": "vol skew"
        }
       }
      },
      "text/html": [
       "<div id=\"ef997e32-fe5c-485a-aa48-39ab465d450a\" style=\"height: 800px; width: 900px;\" class=\"plotly-graph-div\"></div><script type=\"text/javascript\">require([\"plotly\"], function(Plotly) { window.PLOTLYENV=window.PLOTLYENV || {};window.PLOTLYENV.BASE_URL=\"https://plot.ly\";Plotly.newPlot(\"ef997e32-fe5c-485a-aa48-39ab465d450a\", [{\"legendgroup\": \"chart (1, 1)\", \"name\": \"chart (1, 1) 20181030\", \"uid\": \"eb7dc4d8-1df1-11ea-a942-8c859025e7f9\", \"x\": [-0.3, -0.25, -0.2, -0.15, -0.1, -0.05, 0.0, 0.05, 0.1, 0.15, 0.2, 0.25, 0.3, 0.35], \"y\": [-0.016, -0.021, -0.0314, -0.0327, -0.0223, -0.0112, 0.0, 0.0095, 0.0185, 0.0284, 0.0389, 0.0498, 0.0607, 0.0706], \"yaxis\": \"y\", \"type\": \"scatter\", \"xaxis\": \"x\"}, {\"legendgroup\": \"chart (1, 1)\", \"name\": \"chart (1, 1) 20181031\", \"uid\": \"eb7e2b42-1df1-11ea-9f59-8c859025e7f9\", \"x\": [-0.3, -0.25, -0.2, -0.15, -0.1, -0.05, 0.0, 0.05, 0.1, 0.15, 0.2, 0.25, 0.3, 0.35], \"y\": [-0.0152, -0.019, -0.0354, -0.0342, -0.0245, -0.0113, 0.0, 0.0112, 0.0235, 0.0348, 0.0479, 0.0598, 0.0734, 0.0872], \"yaxis\": \"y\", \"type\": \"scatter\", \"xaxis\": \"x\"}, {\"legendgroup\": \"chart (1, 1)\", \"name\": \"chart (1, 1) 20181101\", \"uid\": \"eb7e8ae2-1df1-11ea-a9db-8c859025e7f9\", \"x\": [-0.3, -0.25, -0.2, -0.15, -0.1, -0.05, 0.0, 0.05, 0.1, 0.15, 0.2, 0.25, 0.3, 0.35], \"y\": [-0.014, -0.0269, -0.0322, -0.032, -0.0241, -0.0114, 0.0, 0.0147, 0.0295, 0.0416, 0.0568, 0.0714, 0.0856, 0.1015], \"yaxis\": \"y\", \"type\": \"scatter\", \"xaxis\": \"x\"}, {\"legendgroup\": \"chart (1, 1)\", \"name\": \"chart (1, 1) 20181102\", \"uid\": \"eb7ee8fa-1df1-11ea-87e4-8c859025e7f9\", \"x\": [-0.3, -0.25, -0.2, -0.15, -0.1, -0.05, 0.0, 0.05, 0.1, 0.15, 0.2, 0.25, 0.3, 0.35], \"y\": [-0.0079, -0.0225, -0.0267, -0.0255, -0.0209, -0.0113, 0.0, 0.0135, 0.0262, 0.0419, 0.0539, 0.0681, 0.0821, 0.0963], \"yaxis\": \"y\", \"type\": \"scatter\", \"xaxis\": \"x\"}, {\"legendgroup\": \"chart (1, 1)\", \"name\": \"chart (1, 1) 20181105\", \"uid\": \"eb7f52b0-1df1-11ea-9a54-8c859025e7f9\", \"x\": [-0.3, -0.25, -0.2, -0.15, -0.1, -0.05, 0.0, 0.05, 0.1, 0.15, 0.2, 0.25, 0.3, 0.35], \"y\": [-0.0429, -0.0536, -0.0566, -0.0538, -0.0402, -0.0187, 0.0, 0.0176, 0.035, 0.0534, 0.0704, 0.0856, 0.1008, 0.1128], \"yaxis\": \"y\", \"type\": \"scatter\", \"xaxis\": \"x\"}, {\"legendgroup\": \"chart (1, 2)\", \"name\": \"chart (1, 2) 20181106\", \"uid\": \"eb80323e-1df1-11ea-a182-8c859025e7f9\", \"x\": [-0.3, -0.25, -0.2, -0.15, -0.1, -0.05, 0.0, 0.05, 0.1, 0.15, 0.2, 0.25, 0.3, 0.35], \"y\": [-0.0515, -0.0613, -0.0714, -0.0639, -0.0451, -0.0235, 0.0, 0.0209, 0.0393, 0.0571, 0.0737, 0.0891, 0.1043, 0.1204], \"yaxis\": \"y2\", \"type\": \"scatter\", \"xaxis\": \"x2\"}, {\"legendgroup\": \"chart (1, 2)\", \"name\": \"chart (1, 2) 20181107\", \"uid\": \"eb809f1c-1df1-11ea-8663-8c859025e7f9\", \"x\": [-0.3, -0.25, -0.2, -0.15, -0.1, -0.05, 0.0, 0.05, 0.1, 0.15, 0.2, 0.25, 0.3, 0.35], \"y\": [-0.0513, -0.0605, -0.0735, -0.0603, -0.0429, -0.0203, 0.0, 0.0191, 0.0395, 0.0563, 0.0737, 0.0925, 0.109, 0.1242], \"yaxis\": \"y2\", \"type\": \"scatter\", \"xaxis\": \"x2\"}, {\"legendgroup\": \"chart (1, 2)\", \"name\": \"chart (1, 2) 20181108\", \"uid\": \"eb80ffe8-1df1-11ea-969f-8c859025e7f9\", \"x\": [-0.3, -0.25, -0.2, -0.15, -0.1, -0.05, 0.0, 0.05, 0.1, 0.15, 0.2, 0.25, 0.3, 0.35], \"y\": [-0.0439, -0.0651, -0.0669, -0.06, -0.0433, -0.0228, 0.0, 0.0231, 0.0435, 0.0634, 0.0816, 0.0996, 0.1154, 0.1294], \"yaxis\": \"y2\", \"type\": \"scatter\", \"xaxis\": \"x2\"}, {\"legendgroup\": \"chart (1, 2)\", \"name\": \"chart (1, 2) 20181109\", \"uid\": \"eb816078-1df1-11ea-927e-8c859025e7f9\", \"x\": [-0.3, -0.25, -0.2, -0.15, -0.1, -0.05, 0.0, 0.05, 0.1, 0.15, 0.2, 0.25, 0.3, 0.35], \"y\": [-0.0288, -0.0542, -0.0569, -0.0542, -0.041, -0.0236, 0.0, 0.0239, 0.0479, 0.0708, 0.0914, 0.1117, 0.1287, 0.1463], \"yaxis\": \"y2\", \"type\": \"scatter\", \"xaxis\": \"x2\"}, {\"legendgroup\": \"chart (1, 2)\", \"name\": \"chart (1, 2) 20181112\", \"uid\": \"eb81c2d4-1df1-11ea-8165-8c859025e7f9\", \"x\": [-0.3, -0.25, -0.2, -0.15, -0.1, -0.05, 0.0, 0.05, 0.1, 0.15, 0.2, 0.25, 0.3, 0.35], \"y\": [null, null, null, null, null, null, 0.0, null, null, null, null, 0.1118, null, null], \"yaxis\": \"y2\", \"type\": \"scatter\", \"xaxis\": \"x2\"}, {\"legendgroup\": \"chart (2, 1)\", \"name\": \"chart (2, 1) 20181113\", \"uid\": \"eb82a14a-1df1-11ea-b2e8-8c859025e7f9\", \"x\": [-0.3, -0.25, -0.2, -0.15, -0.1, -0.05, 0.0, 0.05, 0.1, 0.15, 0.2, 0.25, 0.3, 0.35], \"y\": [-0.0572, -0.0643, -0.0666, -0.0592, -0.0479, -0.027, 0.0, 0.0226, 0.0453, 0.0646, 0.0831, 0.0968, 0.1084, 0.1202], \"yaxis\": \"y3\", \"type\": \"scatter\", \"xaxis\": \"x3\"}, {\"legendgroup\": \"chart (2, 1)\", \"name\": \"chart (2, 1) 20181114\", \"uid\": \"eb832586-1df1-11ea-8beb-8c859025e7f9\", \"x\": [-0.3, -0.25, -0.2, -0.15, -0.1, -0.05, 0.0, 0.05, 0.1, 0.15, 0.2, 0.25, 0.3, 0.35], \"y\": [-0.1438, -0.1337, -0.1149, -0.0897, -0.0607, -0.0294, 0.0, 0.0261, 0.0474, 0.0655, 0.0817, null, null, null], \"yaxis\": \"y3\", \"type\": \"scatter\", \"xaxis\": \"x3\"}, {\"legendgroup\": \"chart (2, 1)\", \"name\": \"chart (2, 1) 20181115\", \"uid\": \"eb94cd1e-1df1-11ea-b523-8c859025e7f9\", \"x\": [-0.3, -0.25, -0.2, -0.15, -0.1, -0.05, 0.0, 0.05, 0.1, 0.15, 0.2, 0.25, 0.3, 0.35], \"y\": [-0.174, -0.1621, -0.1372, -0.106, -0.0707, -0.0337, 0.0, 0.0341, 0.0634, 0.0893, 0.111, 0.129, 0.1476, 0.162], \"yaxis\": \"y3\", \"type\": \"scatter\", \"xaxis\": \"x3\"}, {\"legendgroup\": \"chart (2, 1)\", \"name\": \"chart (2, 1) 20181116\", \"uid\": \"eb957f5e-1df1-11ea-b0b7-8c859025e7f9\", \"x\": [-0.3, -0.25, -0.2, -0.15, -0.1, -0.05, 0.0, 0.05, 0.1, 0.15, 0.2, 0.25, 0.3, 0.35], \"y\": [-0.2184, -0.1858, -0.1499, -0.1146, -0.0738, -0.0356, 0.0, 0.0305, 0.0598, 0.0841, 0.1062, 0.1256, 0.1417, 0.1567], \"yaxis\": \"y3\", \"type\": \"scatter\", \"xaxis\": \"x3\"}, {\"legendgroup\": \"chart (2, 1)\", \"name\": \"chart (2, 1) 20181119\", \"uid\": \"eb96195a-1df1-11ea-a5ab-8c859025e7f9\", \"x\": [-0.3, -0.25, -0.2, -0.15, -0.1, -0.05, 0.0, 0.05, 0.1, 0.15, 0.2, 0.25, 0.3, 0.35], \"y\": [-0.2881, -0.2431, -0.1916, -0.1386, -0.0888, -0.0421, 0.0, 0.0346, 0.0656, 0.0935, 0.119, 0.1384, null, null], \"yaxis\": \"y3\", \"type\": \"scatter\", \"xaxis\": \"x3\"}, {\"legendgroup\": \"chart (2, 2)\", \"name\": \"chart (2, 2) 20181120\", \"uid\": \"eb974a8c-1df1-11ea-a803-8c859025e7f9\", \"x\": [-0.3, -0.25, -0.2, -0.15, -0.1, -0.05, 0.0, 0.05, 0.1, 0.15, 0.2, 0.25, 0.3, 0.35], \"y\": [-0.2737, -0.2408, -0.1986, -0.1499, -0.0981, -0.0477, 0.0, 0.0438, 0.083, 0.1156, 0.1446, 0.1661, 0.1856, null], \"yaxis\": \"y4\", \"type\": \"scatter\", \"xaxis\": \"x4\"}, {\"legendgroup\": \"chart (2, 2)\", \"name\": \"chart (2, 2) 20181121\", \"uid\": \"eb97d088-1df1-11ea-b202-8c859025e7f9\", \"x\": [-0.3, -0.25, -0.2, -0.15, -0.1, -0.05, 0.0, 0.05, 0.1, 0.15, 0.2, 0.25, 0.3, 0.35], \"y\": [-0.224, -0.1998, -0.1723, -0.138, -0.0935, -0.0465, 0.0, 0.0406, 0.0785, 0.1115, 0.1405, 0.1656, 0.1858, null], \"yaxis\": \"y4\", \"type\": \"scatter\", \"xaxis\": \"x4\"}, {\"legendgroup\": \"chart (2, 2)\", \"name\": \"chart (2, 2) 20181123\", \"uid\": \"eb984be4-1df1-11ea-b99c-8c859025e7f9\", \"x\": [-0.3, -0.25, -0.2, -0.15, -0.1, -0.05, 0.0, 0.05, 0.1, 0.15, 0.2, 0.25, 0.3, 0.35], \"y\": [-0.2129, -0.1954, -0.1696, -0.136, -0.0944, -0.0494, 0.0, 0.0436, 0.084, 0.117, 0.1438, 0.1679, 0.1886, 0.2067], \"yaxis\": \"y4\", \"type\": \"scatter\", \"xaxis\": \"x4\"}, {\"legendgroup\": \"chart (2, 2)\", \"name\": \"chart (2, 2) 20181126\", \"uid\": \"eb98c0cc-1df1-11ea-b3eb-8c859025e7f9\", \"x\": [-0.3, -0.25, -0.2, -0.15, -0.1, -0.05, 0.0, 0.05, 0.1, 0.15, 0.2, 0.25, 0.3, 0.35], \"y\": [-0.1817, -0.1791, -0.1617, -0.1293, -0.0899, -0.0456, 0.0, 0.0423, 0.078, 0.1113, 0.1355, 0.1583, 0.1739, 0.1879], \"yaxis\": \"y4\", \"type\": \"scatter\", \"xaxis\": \"x4\"}, {\"legendgroup\": \"chart (2, 2)\", \"name\": \"chart (2, 2) 20181127\", \"uid\": \"eb994c1a-1df1-11ea-9caf-8c859025e7f9\", \"x\": [-0.3, -0.25, -0.2, -0.15, -0.1, -0.05, 0.0, 0.05, 0.1, 0.15, 0.2, 0.25, 0.3, 0.35], \"y\": [-0.151, -0.1589, -0.1491, -0.1244, -0.0876, -0.0444, 0.0, 0.0381, 0.0705, 0.0978, 0.119, 0.1399, 0.1588, 0.1757], \"yaxis\": \"y4\", \"type\": \"scatter\", \"xaxis\": \"x4\"}], {\"annotations\": [{\"font\": {\"size\": 16}, \"showarrow\": false, \"text\": \"NGF19 20181030 - 20181105\", \"x\": 0.2275, \"xanchor\": \"center\", \"xref\": \"paper\", \"y\": 1.0, \"yanchor\": \"bottom\", \"yref\": \"paper\"}, {\"font\": {\"size\": 16}, \"showarrow\": false, \"text\": \"NGF19 20181106 - 20181112\", \"x\": 0.7725, \"xanchor\": \"center\", \"xref\": \"paper\", \"y\": 1.0, \"yanchor\": \"bottom\", \"yref\": \"paper\"}, {\"font\": {\"size\": 16}, \"showarrow\": false, \"text\": \"NGF19 20181113 - 20181119\", \"x\": 0.2275, \"xanchor\": \"center\", \"xref\": \"paper\", \"y\": 0.445, \"yanchor\": \"bottom\", \"yref\": \"paper\"}, {\"font\": {\"size\": 16}, \"showarrow\": false, \"text\": \"NGF19 20181120 - 20181127\", \"x\": 0.7725, \"xanchor\": \"center\", \"xref\": \"paper\", \"y\": 0.445, \"yanchor\": \"bottom\", \"yref\": \"paper\"}], \"xaxis\": {\"anchor\": \"y\", \"domain\": [0.0, 0.455], \"tickangle\": 45, \"ticktext\": [-0.3, -0.25, -0.2, -0.15, -0.1, -0.05, 0.0, 0.05, 0.1, 0.15, 0.2, 0.25, 0.3, 0.35], \"tickvals\": [-0.3, -0.25, -0.2, -0.15, -0.1, -0.05, 0.0, 0.05, 0.1, 0.15, 0.2, 0.25, 0.3, 0.35], \"type\": \"category\"}, \"yaxis\": {\"anchor\": \"x\", \"domain\": [0.555, 1.0], \"title\": \"vol skew\"}, \"xaxis2\": {\"anchor\": \"y2\", \"domain\": [0.545, 1.0], \"tickangle\": 45, \"ticktext\": [-0.3, -0.25, -0.2, -0.15, -0.1, -0.05, 0.0, 0.05, 0.1, 0.15, 0.2, 0.25, 0.3, 0.35], \"tickvals\": [-0.3, -0.25, -0.2, -0.15, -0.1, -0.05, 0.0, 0.05, 0.1, 0.15, 0.2, 0.25, 0.3, 0.35], \"type\": \"category\"}, \"yaxis2\": {\"anchor\": \"x2\", \"domain\": [0.555, 1.0], \"title\": \"vol skew\"}, \"xaxis3\": {\"anchor\": \"y3\", \"domain\": [0.0, 0.455], \"tickangle\": 45, \"ticktext\": [-0.3, -0.25, -0.2, -0.15, -0.1, -0.05, 0.0, 0.05, 0.1, 0.15, 0.2, 0.25, 0.3, 0.35], \"tickvals\": [-0.3, -0.25, -0.2, -0.15, -0.1, -0.05, 0.0, 0.05, 0.1, 0.15, 0.2, 0.25, 0.3, 0.35], \"type\": \"category\"}, \"yaxis3\": {\"anchor\": \"x3\", \"domain\": [0.0, 0.445], \"title\": \"vol skew\"}, \"xaxis4\": {\"anchor\": \"y4\", \"domain\": [0.545, 1.0], \"tickangle\": 45, \"ticktext\": [-0.3, -0.25, -0.2, -0.15, -0.1, -0.05, 0.0, 0.05, 0.1, 0.15, 0.2, 0.25, 0.3, 0.35], \"tickvals\": [-0.3, -0.25, -0.2, -0.15, -0.1, -0.05, 0.0, 0.05, 0.1, 0.15, 0.2, 0.25, 0.3, 0.35], \"type\": \"category\"}, \"yaxis4\": {\"anchor\": \"x4\", \"domain\": [0.0, 0.445], \"title\": \"vol skew\"}, \"font\": {\"family\": \"Open Sans, sans-serif\"}, \"margin\": {\"b\": 55, \"l\": 45, \"r\": 15, \"t\": 50}, \"title\": \"Skew plots<br>\", \"showlegend\": true, \"hovermode\": \"x\", \"autosize\": true, \"width\": 900, \"height\": 800, \"plot_bgcolor\": \"#EFECEA\", \"bargap\": 0.05}, {\"showLink\": true, \"linkText\": \"Export to plot.ly\"})});</script>"
      ],
      "text/vnd.plotly.v1+html": [
       "<div id=\"ef997e32-fe5c-485a-aa48-39ab465d450a\" style=\"height: 800px; width: 900px;\" class=\"plotly-graph-div\"></div><script type=\"text/javascript\">require([\"plotly\"], function(Plotly) { window.PLOTLYENV=window.PLOTLYENV || {};window.PLOTLYENV.BASE_URL=\"https://plot.ly\";Plotly.newPlot(\"ef997e32-fe5c-485a-aa48-39ab465d450a\", [{\"legendgroup\": \"chart (1, 1)\", \"name\": \"chart (1, 1) 20181030\", \"uid\": \"eb7dc4d8-1df1-11ea-a942-8c859025e7f9\", \"x\": [-0.3, -0.25, -0.2, -0.15, -0.1, -0.05, 0.0, 0.05, 0.1, 0.15, 0.2, 0.25, 0.3, 0.35], \"y\": [-0.016, -0.021, -0.0314, -0.0327, -0.0223, -0.0112, 0.0, 0.0095, 0.0185, 0.0284, 0.0389, 0.0498, 0.0607, 0.0706], \"yaxis\": \"y\", \"type\": \"scatter\", \"xaxis\": \"x\"}, {\"legendgroup\": \"chart (1, 1)\", \"name\": \"chart (1, 1) 20181031\", \"uid\": \"eb7e2b42-1df1-11ea-9f59-8c859025e7f9\", \"x\": [-0.3, -0.25, -0.2, -0.15, -0.1, -0.05, 0.0, 0.05, 0.1, 0.15, 0.2, 0.25, 0.3, 0.35], \"y\": [-0.0152, -0.019, -0.0354, -0.0342, -0.0245, -0.0113, 0.0, 0.0112, 0.0235, 0.0348, 0.0479, 0.0598, 0.0734, 0.0872], \"yaxis\": \"y\", \"type\": \"scatter\", \"xaxis\": \"x\"}, {\"legendgroup\": \"chart (1, 1)\", \"name\": \"chart (1, 1) 20181101\", \"uid\": \"eb7e8ae2-1df1-11ea-a9db-8c859025e7f9\", \"x\": [-0.3, -0.25, -0.2, -0.15, -0.1, -0.05, 0.0, 0.05, 0.1, 0.15, 0.2, 0.25, 0.3, 0.35], \"y\": [-0.014, -0.0269, -0.0322, -0.032, -0.0241, -0.0114, 0.0, 0.0147, 0.0295, 0.0416, 0.0568, 0.0714, 0.0856, 0.1015], \"yaxis\": \"y\", \"type\": \"scatter\", \"xaxis\": \"x\"}, {\"legendgroup\": \"chart (1, 1)\", \"name\": \"chart (1, 1) 20181102\", \"uid\": \"eb7ee8fa-1df1-11ea-87e4-8c859025e7f9\", \"x\": [-0.3, -0.25, -0.2, -0.15, -0.1, -0.05, 0.0, 0.05, 0.1, 0.15, 0.2, 0.25, 0.3, 0.35], \"y\": [-0.0079, -0.0225, -0.0267, -0.0255, -0.0209, -0.0113, 0.0, 0.0135, 0.0262, 0.0419, 0.0539, 0.0681, 0.0821, 0.0963], \"yaxis\": \"y\", \"type\": \"scatter\", \"xaxis\": \"x\"}, {\"legendgroup\": \"chart (1, 1)\", \"name\": \"chart (1, 1) 20181105\", \"uid\": \"eb7f52b0-1df1-11ea-9a54-8c859025e7f9\", \"x\": [-0.3, -0.25, -0.2, -0.15, -0.1, -0.05, 0.0, 0.05, 0.1, 0.15, 0.2, 0.25, 0.3, 0.35], \"y\": [-0.0429, -0.0536, -0.0566, -0.0538, -0.0402, -0.0187, 0.0, 0.0176, 0.035, 0.0534, 0.0704, 0.0856, 0.1008, 0.1128], \"yaxis\": \"y\", \"type\": \"scatter\", \"xaxis\": \"x\"}, {\"legendgroup\": \"chart (1, 2)\", \"name\": \"chart (1, 2) 20181106\", \"uid\": \"eb80323e-1df1-11ea-a182-8c859025e7f9\", \"x\": [-0.3, -0.25, -0.2, -0.15, -0.1, -0.05, 0.0, 0.05, 0.1, 0.15, 0.2, 0.25, 0.3, 0.35], \"y\": [-0.0515, -0.0613, -0.0714, -0.0639, -0.0451, -0.0235, 0.0, 0.0209, 0.0393, 0.0571, 0.0737, 0.0891, 0.1043, 0.1204], \"yaxis\": \"y2\", \"type\": \"scatter\", \"xaxis\": \"x2\"}, {\"legendgroup\": \"chart (1, 2)\", \"name\": \"chart (1, 2) 20181107\", \"uid\": \"eb809f1c-1df1-11ea-8663-8c859025e7f9\", \"x\": [-0.3, -0.25, -0.2, -0.15, -0.1, -0.05, 0.0, 0.05, 0.1, 0.15, 0.2, 0.25, 0.3, 0.35], \"y\": [-0.0513, -0.0605, -0.0735, -0.0603, -0.0429, -0.0203, 0.0, 0.0191, 0.0395, 0.0563, 0.0737, 0.0925, 0.109, 0.1242], \"yaxis\": \"y2\", \"type\": \"scatter\", \"xaxis\": \"x2\"}, {\"legendgroup\": \"chart (1, 2)\", \"name\": \"chart (1, 2) 20181108\", \"uid\": \"eb80ffe8-1df1-11ea-969f-8c859025e7f9\", \"x\": [-0.3, -0.25, -0.2, -0.15, -0.1, -0.05, 0.0, 0.05, 0.1, 0.15, 0.2, 0.25, 0.3, 0.35], \"y\": [-0.0439, -0.0651, -0.0669, -0.06, -0.0433, -0.0228, 0.0, 0.0231, 0.0435, 0.0634, 0.0816, 0.0996, 0.1154, 0.1294], \"yaxis\": \"y2\", \"type\": \"scatter\", \"xaxis\": \"x2\"}, {\"legendgroup\": \"chart (1, 2)\", \"name\": \"chart (1, 2) 20181109\", \"uid\": \"eb816078-1df1-11ea-927e-8c859025e7f9\", \"x\": [-0.3, -0.25, -0.2, -0.15, -0.1, -0.05, 0.0, 0.05, 0.1, 0.15, 0.2, 0.25, 0.3, 0.35], \"y\": [-0.0288, -0.0542, -0.0569, -0.0542, -0.041, -0.0236, 0.0, 0.0239, 0.0479, 0.0708, 0.0914, 0.1117, 0.1287, 0.1463], \"yaxis\": \"y2\", \"type\": \"scatter\", \"xaxis\": \"x2\"}, {\"legendgroup\": \"chart (1, 2)\", \"name\": \"chart (1, 2) 20181112\", \"uid\": \"eb81c2d4-1df1-11ea-8165-8c859025e7f9\", \"x\": [-0.3, -0.25, -0.2, -0.15, -0.1, -0.05, 0.0, 0.05, 0.1, 0.15, 0.2, 0.25, 0.3, 0.35], \"y\": [null, null, null, null, null, null, 0.0, null, null, null, null, 0.1118, null, null], \"yaxis\": \"y2\", \"type\": \"scatter\", \"xaxis\": \"x2\"}, {\"legendgroup\": \"chart (2, 1)\", \"name\": \"chart (2, 1) 20181113\", \"uid\": \"eb82a14a-1df1-11ea-b2e8-8c859025e7f9\", \"x\": [-0.3, -0.25, -0.2, -0.15, -0.1, -0.05, 0.0, 0.05, 0.1, 0.15, 0.2, 0.25, 0.3, 0.35], \"y\": [-0.0572, -0.0643, -0.0666, -0.0592, -0.0479, -0.027, 0.0, 0.0226, 0.0453, 0.0646, 0.0831, 0.0968, 0.1084, 0.1202], \"yaxis\": \"y3\", \"type\": \"scatter\", \"xaxis\": \"x3\"}, {\"legendgroup\": \"chart (2, 1)\", \"name\": \"chart (2, 1) 20181114\", \"uid\": \"eb832586-1df1-11ea-8beb-8c859025e7f9\", \"x\": [-0.3, -0.25, -0.2, -0.15, -0.1, -0.05, 0.0, 0.05, 0.1, 0.15, 0.2, 0.25, 0.3, 0.35], \"y\": [-0.1438, -0.1337, -0.1149, -0.0897, -0.0607, -0.0294, 0.0, 0.0261, 0.0474, 0.0655, 0.0817, null, null, null], \"yaxis\": \"y3\", \"type\": \"scatter\", \"xaxis\": \"x3\"}, {\"legendgroup\": \"chart (2, 1)\", \"name\": \"chart (2, 1) 20181115\", \"uid\": \"eb94cd1e-1df1-11ea-b523-8c859025e7f9\", \"x\": [-0.3, -0.25, -0.2, -0.15, -0.1, -0.05, 0.0, 0.05, 0.1, 0.15, 0.2, 0.25, 0.3, 0.35], \"y\": [-0.174, -0.1621, -0.1372, -0.106, -0.0707, -0.0337, 0.0, 0.0341, 0.0634, 0.0893, 0.111, 0.129, 0.1476, 0.162], \"yaxis\": \"y3\", \"type\": \"scatter\", \"xaxis\": \"x3\"}, {\"legendgroup\": \"chart (2, 1)\", \"name\": \"chart (2, 1) 20181116\", \"uid\": \"eb957f5e-1df1-11ea-b0b7-8c859025e7f9\", \"x\": [-0.3, -0.25, -0.2, -0.15, -0.1, -0.05, 0.0, 0.05, 0.1, 0.15, 0.2, 0.25, 0.3, 0.35], \"y\": [-0.2184, -0.1858, -0.1499, -0.1146, -0.0738, -0.0356, 0.0, 0.0305, 0.0598, 0.0841, 0.1062, 0.1256, 0.1417, 0.1567], \"yaxis\": \"y3\", \"type\": \"scatter\", \"xaxis\": \"x3\"}, {\"legendgroup\": \"chart (2, 1)\", \"name\": \"chart (2, 1) 20181119\", \"uid\": \"eb96195a-1df1-11ea-a5ab-8c859025e7f9\", \"x\": [-0.3, -0.25, -0.2, -0.15, -0.1, -0.05, 0.0, 0.05, 0.1, 0.15, 0.2, 0.25, 0.3, 0.35], \"y\": [-0.2881, -0.2431, -0.1916, -0.1386, -0.0888, -0.0421, 0.0, 0.0346, 0.0656, 0.0935, 0.119, 0.1384, null, null], \"yaxis\": \"y3\", \"type\": \"scatter\", \"xaxis\": \"x3\"}, {\"legendgroup\": \"chart (2, 2)\", \"name\": \"chart (2, 2) 20181120\", \"uid\": \"eb974a8c-1df1-11ea-a803-8c859025e7f9\", \"x\": [-0.3, -0.25, -0.2, -0.15, -0.1, -0.05, 0.0, 0.05, 0.1, 0.15, 0.2, 0.25, 0.3, 0.35], \"y\": [-0.2737, -0.2408, -0.1986, -0.1499, -0.0981, -0.0477, 0.0, 0.0438, 0.083, 0.1156, 0.1446, 0.1661, 0.1856, null], \"yaxis\": \"y4\", \"type\": \"scatter\", \"xaxis\": \"x4\"}, {\"legendgroup\": \"chart (2, 2)\", \"name\": \"chart (2, 2) 20181121\", \"uid\": \"eb97d088-1df1-11ea-b202-8c859025e7f9\", \"x\": [-0.3, -0.25, -0.2, -0.15, -0.1, -0.05, 0.0, 0.05, 0.1, 0.15, 0.2, 0.25, 0.3, 0.35], \"y\": [-0.224, -0.1998, -0.1723, -0.138, -0.0935, -0.0465, 0.0, 0.0406, 0.0785, 0.1115, 0.1405, 0.1656, 0.1858, null], \"yaxis\": \"y4\", \"type\": \"scatter\", \"xaxis\": \"x4\"}, {\"legendgroup\": \"chart (2, 2)\", \"name\": \"chart (2, 2) 20181123\", \"uid\": \"eb984be4-1df1-11ea-b99c-8c859025e7f9\", \"x\": [-0.3, -0.25, -0.2, -0.15, -0.1, -0.05, 0.0, 0.05, 0.1, 0.15, 0.2, 0.25, 0.3, 0.35], \"y\": [-0.2129, -0.1954, -0.1696, -0.136, -0.0944, -0.0494, 0.0, 0.0436, 0.084, 0.117, 0.1438, 0.1679, 0.1886, 0.2067], \"yaxis\": \"y4\", \"type\": \"scatter\", \"xaxis\": \"x4\"}, {\"legendgroup\": \"chart (2, 2)\", \"name\": \"chart (2, 2) 20181126\", \"uid\": \"eb98c0cc-1df1-11ea-b3eb-8c859025e7f9\", \"x\": [-0.3, -0.25, -0.2, -0.15, -0.1, -0.05, 0.0, 0.05, 0.1, 0.15, 0.2, 0.25, 0.3, 0.35], \"y\": [-0.1817, -0.1791, -0.1617, -0.1293, -0.0899, -0.0456, 0.0, 0.0423, 0.078, 0.1113, 0.1355, 0.1583, 0.1739, 0.1879], \"yaxis\": \"y4\", \"type\": \"scatter\", \"xaxis\": \"x4\"}, {\"legendgroup\": \"chart (2, 2)\", \"name\": \"chart (2, 2) 20181127\", \"uid\": \"eb994c1a-1df1-11ea-9caf-8c859025e7f9\", \"x\": [-0.3, -0.25, -0.2, -0.15, -0.1, -0.05, 0.0, 0.05, 0.1, 0.15, 0.2, 0.25, 0.3, 0.35], \"y\": [-0.151, -0.1589, -0.1491, -0.1244, -0.0876, -0.0444, 0.0, 0.0381, 0.0705, 0.0978, 0.119, 0.1399, 0.1588, 0.1757], \"yaxis\": \"y4\", \"type\": \"scatter\", \"xaxis\": \"x4\"}], {\"annotations\": [{\"font\": {\"size\": 16}, \"showarrow\": false, \"text\": \"NGF19 20181030 - 20181105\", \"x\": 0.2275, \"xanchor\": \"center\", \"xref\": \"paper\", \"y\": 1.0, \"yanchor\": \"bottom\", \"yref\": \"paper\"}, {\"font\": {\"size\": 16}, \"showarrow\": false, \"text\": \"NGF19 20181106 - 20181112\", \"x\": 0.7725, \"xanchor\": \"center\", \"xref\": \"paper\", \"y\": 1.0, \"yanchor\": \"bottom\", \"yref\": \"paper\"}, {\"font\": {\"size\": 16}, \"showarrow\": false, \"text\": \"NGF19 20181113 - 20181119\", \"x\": 0.2275, \"xanchor\": \"center\", \"xref\": \"paper\", \"y\": 0.445, \"yanchor\": \"bottom\", \"yref\": \"paper\"}, {\"font\": {\"size\": 16}, \"showarrow\": false, \"text\": \"NGF19 20181120 - 20181127\", \"x\": 0.7725, \"xanchor\": \"center\", \"xref\": \"paper\", \"y\": 0.445, \"yanchor\": \"bottom\", \"yref\": \"paper\"}], \"xaxis\": {\"anchor\": \"y\", \"domain\": [0.0, 0.455], \"tickangle\": 45, \"ticktext\": [-0.3, -0.25, -0.2, -0.15, -0.1, -0.05, 0.0, 0.05, 0.1, 0.15, 0.2, 0.25, 0.3, 0.35], \"tickvals\": [-0.3, -0.25, -0.2, -0.15, -0.1, -0.05, 0.0, 0.05, 0.1, 0.15, 0.2, 0.25, 0.3, 0.35], \"type\": \"category\"}, \"yaxis\": {\"anchor\": \"x\", \"domain\": [0.555, 1.0], \"title\": \"vol skew\"}, \"xaxis2\": {\"anchor\": \"y2\", \"domain\": [0.545, 1.0], \"tickangle\": 45, \"ticktext\": [-0.3, -0.25, -0.2, -0.15, -0.1, -0.05, 0.0, 0.05, 0.1, 0.15, 0.2, 0.25, 0.3, 0.35], \"tickvals\": [-0.3, -0.25, -0.2, -0.15, -0.1, -0.05, 0.0, 0.05, 0.1, 0.15, 0.2, 0.25, 0.3, 0.35], \"type\": \"category\"}, \"yaxis2\": {\"anchor\": \"x2\", \"domain\": [0.555, 1.0], \"title\": \"vol skew\"}, \"xaxis3\": {\"anchor\": \"y3\", \"domain\": [0.0, 0.455], \"tickangle\": 45, \"ticktext\": [-0.3, -0.25, -0.2, -0.15, -0.1, -0.05, 0.0, 0.05, 0.1, 0.15, 0.2, 0.25, 0.3, 0.35], \"tickvals\": [-0.3, -0.25, -0.2, -0.15, -0.1, -0.05, 0.0, 0.05, 0.1, 0.15, 0.2, 0.25, 0.3, 0.35], \"type\": \"category\"}, \"yaxis3\": {\"anchor\": \"x3\", \"domain\": [0.0, 0.445], \"title\": \"vol skew\"}, \"xaxis4\": {\"anchor\": \"y4\", \"domain\": [0.545, 1.0], \"tickangle\": 45, \"ticktext\": [-0.3, -0.25, -0.2, -0.15, -0.1, -0.05, 0.0, 0.05, 0.1, 0.15, 0.2, 0.25, 0.3, 0.35], \"tickvals\": [-0.3, -0.25, -0.2, -0.15, -0.1, -0.05, 0.0, 0.05, 0.1, 0.15, 0.2, 0.25, 0.3, 0.35], \"type\": \"category\"}, \"yaxis4\": {\"anchor\": \"x4\", \"domain\": [0.0, 0.445], \"title\": \"vol skew\"}, \"font\": {\"family\": \"Open Sans, sans-serif\"}, \"margin\": {\"b\": 55, \"l\": 45, \"r\": 15, \"t\": 50}, \"title\": \"Skew plots<br>\", \"showlegend\": true, \"hovermode\": \"x\", \"autosize\": true, \"width\": 900, \"height\": 800, \"plot_bgcolor\": \"#EFECEA\", \"bargap\": 0.05}, {\"showLink\": true, \"linkText\": \"Export to plot.ly\"})});</script>"
      ]
     },
     "metadata": {},
     "output_type": "display_data"
    },
    {
     "data": {
      "application/vnd.plotly.v1+json": {
       "data": [
        {
         "legendgroup": "chart (1, 1)",
         "name": "chart (1, 1) 20181128",
         "type": "scatter",
         "uid": "eba3b8f8-1df1-11ea-9908-8c859025e7f9",
         "x": [
          -0.3,
          -0.25,
          -0.2,
          -0.15,
          -0.1,
          -0.05,
          0,
          0.05,
          0.1,
          0.15,
          0.2,
          0.25,
          0.3,
          0.35
         ],
         "xaxis": "x",
         "y": [
          -0.0785,
          -0.0857,
          -0.087,
          -0.0745,
          -0.0567,
          -0.0296,
          0,
          0.0275,
          0.0536,
          0.0727,
          0.0887,
          0.1066,
          null,
          null
         ],
         "yaxis": "y"
        }
       ],
       "layout": {
        "annotations": [
         {
          "font": {
           "size": 16
          },
          "showarrow": false,
          "text": "NGF19 20181128 - 20181128",
          "x": 0.2275,
          "xanchor": "center",
          "xref": "paper",
          "y": 1,
          "yanchor": "bottom",
          "yref": "paper"
         }
        ],
        "autosize": true,
        "bargap": 0.05,
        "font": {
         "family": "Open Sans, sans-serif"
        },
        "height": 800,
        "hovermode": "x",
        "margin": {
         "b": 55,
         "l": 45,
         "r": 15,
         "t": 50
        },
        "plot_bgcolor": "#EFECEA",
        "showlegend": true,
        "title": "Skew plots<br>",
        "width": 900,
        "xaxis": {
         "anchor": "y",
         "domain": [
          0,
          0.455
         ],
         "tickangle": 45,
         "ticktext": [
          -0.3,
          -0.25,
          -0.2,
          -0.15,
          -0.1,
          -0.05,
          0,
          0.05,
          0.1,
          0.15,
          0.2,
          0.25,
          0.3,
          0.35
         ],
         "tickvals": [
          -0.3,
          -0.25,
          -0.2,
          -0.15,
          -0.1,
          -0.05,
          0,
          0.05,
          0.1,
          0.15,
          0.2,
          0.25,
          0.3,
          0.35
         ],
         "type": "category"
        },
        "xaxis2": {
         "anchor": "y2",
         "domain": [
          0.545,
          1
         ]
        },
        "xaxis3": {
         "anchor": "y3",
         "domain": [
          0,
          0.455
         ]
        },
        "xaxis4": {
         "anchor": "y4",
         "domain": [
          0.545,
          1
         ]
        },
        "yaxis": {
         "anchor": "x",
         "domain": [
          0.555,
          1
         ],
         "title": "vol skew"
        },
        "yaxis2": {
         "anchor": "x2",
         "domain": [
          0.555,
          1
         ]
        },
        "yaxis3": {
         "anchor": "x3",
         "domain": [
          0,
          0.445
         ]
        },
        "yaxis4": {
         "anchor": "x4",
         "domain": [
          0,
          0.445
         ]
        }
       }
      },
      "text/html": [
       "<div id=\"cf8f8e91-df7b-4d06-a7bb-416165280dd0\" style=\"height: 800px; width: 900px;\" class=\"plotly-graph-div\"></div><script type=\"text/javascript\">require([\"plotly\"], function(Plotly) { window.PLOTLYENV=window.PLOTLYENV || {};window.PLOTLYENV.BASE_URL=\"https://plot.ly\";Plotly.newPlot(\"cf8f8e91-df7b-4d06-a7bb-416165280dd0\", [{\"legendgroup\": \"chart (1, 1)\", \"name\": \"chart (1, 1) 20181128\", \"uid\": \"eba3b8f8-1df1-11ea-9908-8c859025e7f9\", \"x\": [-0.3, -0.25, -0.2, -0.15, -0.1, -0.05, 0.0, 0.05, 0.1, 0.15, 0.2, 0.25, 0.3, 0.35], \"y\": [-0.0785, -0.0857, -0.087, -0.0745, -0.0567, -0.0296, 0.0, 0.0275, 0.0536, 0.0727, 0.0887, 0.1066, null, null], \"yaxis\": \"y\", \"type\": \"scatter\", \"xaxis\": \"x\"}], {\"annotations\": [{\"font\": {\"size\": 16}, \"showarrow\": false, \"text\": \"NGF19 20181128 - 20181128\", \"x\": 0.2275, \"xanchor\": \"center\", \"xref\": \"paper\", \"y\": 1.0, \"yanchor\": \"bottom\", \"yref\": \"paper\"}], \"xaxis\": {\"anchor\": \"y\", \"domain\": [0.0, 0.455], \"tickangle\": 45, \"ticktext\": [-0.3, -0.25, -0.2, -0.15, -0.1, -0.05, 0.0, 0.05, 0.1, 0.15, 0.2, 0.25, 0.3, 0.35], \"tickvals\": [-0.3, -0.25, -0.2, -0.15, -0.1, -0.05, 0.0, 0.05, 0.1, 0.15, 0.2, 0.25, 0.3, 0.35], \"type\": \"category\"}, \"yaxis\": {\"anchor\": \"x\", \"domain\": [0.555, 1.0], \"title\": \"vol skew\"}, \"xaxis2\": {\"anchor\": \"y2\", \"domain\": [0.545, 1.0]}, \"yaxis2\": {\"anchor\": \"x2\", \"domain\": [0.555, 1.0]}, \"xaxis3\": {\"anchor\": \"y3\", \"domain\": [0.0, 0.455]}, \"yaxis3\": {\"anchor\": \"x3\", \"domain\": [0.0, 0.445]}, \"xaxis4\": {\"anchor\": \"y4\", \"domain\": [0.545, 1.0]}, \"yaxis4\": {\"anchor\": \"x4\", \"domain\": [0.0, 0.445]}, \"font\": {\"family\": \"Open Sans, sans-serif\"}, \"margin\": {\"b\": 55, \"l\": 45, \"r\": 15, \"t\": 50}, \"title\": \"Skew plots<br>\", \"showlegend\": true, \"hovermode\": \"x\", \"autosize\": true, \"width\": 900, \"height\": 800, \"plot_bgcolor\": \"#EFECEA\", \"bargap\": 0.05}, {\"showLink\": true, \"linkText\": \"Export to plot.ly\"})});</script>"
      ],
      "text/vnd.plotly.v1+html": [
       "<div id=\"cf8f8e91-df7b-4d06-a7bb-416165280dd0\" style=\"height: 800px; width: 900px;\" class=\"plotly-graph-div\"></div><script type=\"text/javascript\">require([\"plotly\"], function(Plotly) { window.PLOTLYENV=window.PLOTLYENV || {};window.PLOTLYENV.BASE_URL=\"https://plot.ly\";Plotly.newPlot(\"cf8f8e91-df7b-4d06-a7bb-416165280dd0\", [{\"legendgroup\": \"chart (1, 1)\", \"name\": \"chart (1, 1) 20181128\", \"uid\": \"eba3b8f8-1df1-11ea-9908-8c859025e7f9\", \"x\": [-0.3, -0.25, -0.2, -0.15, -0.1, -0.05, 0.0, 0.05, 0.1, 0.15, 0.2, 0.25, 0.3, 0.35], \"y\": [-0.0785, -0.0857, -0.087, -0.0745, -0.0567, -0.0296, 0.0, 0.0275, 0.0536, 0.0727, 0.0887, 0.1066, null, null], \"yaxis\": \"y\", \"type\": \"scatter\", \"xaxis\": \"x\"}], {\"annotations\": [{\"font\": {\"size\": 16}, \"showarrow\": false, \"text\": \"NGF19 20181128 - 20181128\", \"x\": 0.2275, \"xanchor\": \"center\", \"xref\": \"paper\", \"y\": 1.0, \"yanchor\": \"bottom\", \"yref\": \"paper\"}], \"xaxis\": {\"anchor\": \"y\", \"domain\": [0.0, 0.455], \"tickangle\": 45, \"ticktext\": [-0.3, -0.25, -0.2, -0.15, -0.1, -0.05, 0.0, 0.05, 0.1, 0.15, 0.2, 0.25, 0.3, 0.35], \"tickvals\": [-0.3, -0.25, -0.2, -0.15, -0.1, -0.05, 0.0, 0.05, 0.1, 0.15, 0.2, 0.25, 0.3, 0.35], \"type\": \"category\"}, \"yaxis\": {\"anchor\": \"x\", \"domain\": [0.555, 1.0], \"title\": \"vol skew\"}, \"xaxis2\": {\"anchor\": \"y2\", \"domain\": [0.545, 1.0]}, \"yaxis2\": {\"anchor\": \"x2\", \"domain\": [0.555, 1.0]}, \"xaxis3\": {\"anchor\": \"y3\", \"domain\": [0.0, 0.455]}, \"yaxis3\": {\"anchor\": \"x3\", \"domain\": [0.0, 0.445]}, \"xaxis4\": {\"anchor\": \"y4\", \"domain\": [0.545, 1.0]}, \"yaxis4\": {\"anchor\": \"x4\", \"domain\": [0.0, 0.445]}, \"font\": {\"family\": \"Open Sans, sans-serif\"}, \"margin\": {\"b\": 55, \"l\": 45, \"r\": 15, \"t\": 50}, \"title\": \"Skew plots<br>\", \"showlegend\": true, \"hovermode\": \"x\", \"autosize\": true, \"width\": 900, \"height\": 800, \"plot_bgcolor\": \"#EFECEA\", \"bargap\": 0.05}, {\"showLink\": true, \"linkText\": \"Export to plot.ly\"})});</script>"
      ]
     },
     "metadata": {},
     "output_type": "display_data"
    },
    {
     "data": {
      "application/vnd.plotly.v1+json": {
       "data": [
        {
         "legendgroup": "chart (1, 1)",
         "name": "chart (1, 1) 20181129",
         "type": "scatter",
         "uid": "ebdcc918-1df1-11ea-ae22-8c859025e7f9",
         "x": [
          -0.3,
          -0.25,
          -0.2,
          -0.15,
          -0.1,
          -0.05,
          0,
          0.05,
          0.1,
          0.15,
          0.2,
          0.25,
          0.3,
          0.35
         ],
         "xaxis": "x",
         "y": [
          -0.1448,
          -0.1292,
          -0.1066,
          -0.0811,
          -0.0535,
          -0.0254,
          0,
          0.0231,
          0.0462,
          0.0658,
          0.0846,
          0.1007,
          0.1153,
          null
         ],
         "yaxis": "y"
        },
        {
         "legendgroup": "chart (1, 1)",
         "name": "chart (1, 1) 20181130",
         "type": "scatter",
         "uid": "ebdd3d6c-1df1-11ea-9bab-8c859025e7f9",
         "x": [
          -0.3,
          -0.25,
          -0.2,
          -0.15,
          -0.1,
          -0.05,
          0,
          0.05,
          0.1,
          0.15,
          0.2,
          0.25,
          0.3,
          0.35
         ],
         "xaxis": "x",
         "y": [
          -0.1503,
          -0.1336,
          -0.11,
          -0.0835,
          -0.0556,
          -0.0286,
          0,
          0.0237,
          0.0475,
          0.0678,
          0.0852,
          0.0997,
          0.1147,
          0.1272
         ],
         "yaxis": "y"
        },
        {
         "legendgroup": "chart (1, 1)",
         "name": "chart (1, 1) 20181203",
         "type": "scatter",
         "uid": "ebddabe4-1df1-11ea-9088-8c859025e7f9",
         "x": [
          -0.3,
          -0.25,
          -0.2,
          -0.15,
          -0.1,
          -0.05,
          0,
          0.05,
          0.1,
          0.15,
          0.2,
          0.25,
          0.3,
          0.35
         ],
         "xaxis": "x",
         "y": [
          -0.1303,
          -0.1175,
          -0.0987,
          -0.0755,
          -0.0502,
          -0.0248,
          0,
          0.0219,
          0.0417,
          0.0603,
          0.0756,
          0.09,
          0.1034,
          0.1157
         ],
         "yaxis": "y"
        },
        {
         "legendgroup": "chart (1, 1)",
         "name": "chart (1, 1) 20181204",
         "type": "scatter",
         "uid": "ebde139a-1df1-11ea-b236-8c859025e7f9",
         "x": [
          -0.3,
          -0.25,
          -0.2,
          -0.15,
          -0.1,
          -0.05,
          0,
          0.05,
          0.1,
          0.15,
          0.2,
          0.25,
          0.3,
          0.35
         ],
         "xaxis": "x",
         "y": [
          -0.1402,
          -0.1279,
          -0.1069,
          -0.0795,
          -0.0524,
          -0.0257,
          0,
          0.0244,
          0.0453,
          0.0643,
          0.0814,
          0.0974,
          0.1121,
          0.1238
         ],
         "yaxis": "y"
        },
        {
         "legendgroup": "chart (1, 1)",
         "name": "chart (1, 1) 20181205",
         "type": "scatter",
         "uid": "ebde86cc-1df1-11ea-9861-8c859025e7f9",
         "x": [
          -0.3,
          -0.25,
          -0.2,
          -0.15,
          -0.1,
          -0.05,
          0,
          0.05,
          0.1,
          0.15,
          0.2,
          0.25,
          0.3,
          0.35
         ],
         "xaxis": "x",
         "y": [
          -0.1537,
          -0.1345,
          -0.1101,
          -0.0819,
          -0.0536,
          -0.0263,
          0,
          0.0248,
          0.045,
          0.0638,
          0.08,
          0.0942,
          0.1076,
          0.1191
         ],
         "yaxis": "y"
        },
        {
         "legendgroup": "chart (1, 2)",
         "name": "chart (1, 2) 20181206",
         "type": "scatter",
         "uid": "ebdf7866-1df1-11ea-aa70-8c859025e7f9",
         "x": [
          -0.3,
          -0.25,
          -0.2,
          -0.15,
          -0.1,
          -0.05,
          0,
          0.05,
          0.1,
          0.15,
          0.2,
          0.25,
          0.3,
          0.35
         ],
         "xaxis": "x2",
         "y": [
          -0.1561,
          -0.1374,
          -0.1147,
          -0.0856,
          -0.0551,
          -0.0271,
          0,
          0.0221,
          0.0429,
          0.0616,
          0.0794,
          0.0946,
          0.1081,
          0.1195
         ],
         "yaxis": "y2"
        },
        {
         "legendgroup": "chart (1, 2)",
         "name": "chart (1, 2) 20181207",
         "type": "scatter",
         "uid": "ebdfeeae-1df1-11ea-8dc6-8c859025e7f9",
         "x": [
          -0.3,
          -0.25,
          -0.2,
          -0.15,
          -0.1,
          -0.05,
          0,
          0.05,
          0.1,
          0.15,
          0.2,
          0.25,
          0.3,
          0.35
         ],
         "xaxis": "x2",
         "y": [
          -0.1637,
          -0.1422,
          -0.1131,
          -0.0849,
          -0.0554,
          -0.0268,
          0,
          0.0229,
          0.0436,
          0.0615,
          0.0767,
          0.0906,
          0.1043,
          0.1159
         ],
         "yaxis": "y2"
        },
        {
         "legendgroup": "chart (1, 2)",
         "name": "chart (1, 2) 20181210",
         "type": "scatter",
         "uid": "ebe0586c-1df1-11ea-82bd-8c859025e7f9",
         "x": [
          -0.3,
          -0.25,
          -0.2,
          -0.15,
          -0.1,
          -0.05,
          0,
          0.05,
          0.1,
          0.15,
          0.2,
          0.25,
          0.3,
          0.35
         ],
         "xaxis": "x2",
         "y": [
          -0.1716,
          -0.1469,
          -0.1165,
          -0.0841,
          -0.054,
          -0.0258,
          0,
          0.0226,
          0.0414,
          0.0586,
          0.0738,
          null,
          0.0983,
          0.11
         ],
         "yaxis": "y2"
        },
        {
         "legendgroup": "chart (1, 2)",
         "name": "chart (1, 2) 20181211",
         "type": "scatter",
         "uid": "ebe0c3d8-1df1-11ea-a233-8c859025e7f9",
         "x": [
          -0.3,
          -0.25,
          -0.2,
          -0.15,
          -0.1,
          -0.05,
          0,
          0.05,
          0.1,
          0.15,
          0.2,
          0.25,
          0.3,
          0.35
         ],
         "xaxis": "x2",
         "y": [
          -0.1767,
          -0.1578,
          -0.1276,
          -0.0929,
          -0.0595,
          -0.0268,
          0,
          0.0224,
          0.0427,
          0.0588,
          0.074,
          0.0862,
          0.0952,
          0.1041
         ],
         "yaxis": "y2"
        },
        {
         "legendgroup": "chart (1, 2)",
         "name": "chart (1, 2) 20181212",
         "type": "scatter",
         "uid": "ebe141b4-1df1-11ea-b283-8c859025e7f9",
         "x": [
          -0.3,
          -0.25,
          -0.2,
          -0.15,
          -0.1,
          -0.05,
          0,
          0.05,
          0.1,
          0.15,
          0.2,
          0.25,
          0.3,
          0.35
         ],
         "xaxis": "x2",
         "y": [
          -0.1899,
          -0.1652,
          -0.1341,
          -0.0991,
          -0.0633,
          -0.0294,
          0,
          0.0254,
          0.0454,
          0.0622,
          0.077,
          0.0916,
          0.1027,
          0.1136
         ],
         "yaxis": "y2"
        },
        {
         "legendgroup": "chart (2, 1)",
         "name": "chart (2, 1) 20181213",
         "type": "scatter",
         "uid": "ebe3290c-1df1-11ea-a9bd-8c859025e7f9",
         "x": [
          -0.3,
          -0.25,
          -0.2,
          -0.15,
          -0.1,
          -0.05,
          0,
          0.05,
          0.1,
          0.15,
          0.2,
          0.25,
          0.3,
          0.35
         ],
         "xaxis": "x3",
         "y": [
          -0.1885,
          -0.169,
          -0.1362,
          -0.0979,
          -0.0609,
          -0.0286,
          0,
          0.0244,
          0.0456,
          0.0649,
          0.0807,
          0.0941,
          0.1053,
          0.1165
         ],
         "yaxis": "y3"
        },
        {
         "legendgroup": "chart (2, 1)",
         "name": "chart (2, 1) 20181214",
         "type": "scatter",
         "uid": "ebe3cd62-1df1-11ea-99c1-8c859025e7f9",
         "x": [
          -0.3,
          -0.25,
          -0.2,
          -0.15,
          -0.1,
          -0.05,
          0,
          0.05,
          0.1,
          0.15,
          0.2,
          0.25,
          0.3,
          0.35
         ],
         "xaxis": "x3",
         "y": [
          -0.1828,
          -0.1793,
          -0.1533,
          -0.1142,
          -0.074,
          -0.0349,
          0,
          0.0333,
          0.0612,
          0.0839,
          0.1046,
          0.1225,
          0.1376,
          0.1519
         ],
         "yaxis": "y3"
        },
        {
         "legendgroup": "chart (2, 1)",
         "name": "chart (2, 1) 20181217",
         "type": "scatter",
         "uid": "ebe47492-1df1-11ea-9a84-8c859025e7f9",
         "x": [
          -0.3,
          -0.25,
          -0.2,
          -0.15,
          -0.1,
          -0.05,
          0,
          0.05,
          0.1,
          0.15,
          0.2,
          0.25,
          0.3,
          0.35
         ],
         "xaxis": "x3",
         "y": [
          -0.1281,
          -0.1567,
          -0.1504,
          -0.123,
          -0.0828,
          -0.0411,
          0,
          0.0382,
          0.072,
          0.0977,
          0.1226,
          0.1446,
          0.165,
          0.1865
         ],
         "yaxis": "y3"
        },
        {
         "legendgroup": "chart (2, 1)",
         "name": "chart (2, 1) 20181218",
         "type": "scatter",
         "uid": "ebe54818-1df1-11ea-a94a-8c859025e7f9",
         "x": [
          -0.3,
          -0.25,
          -0.2,
          -0.15,
          -0.1,
          -0.05,
          0,
          0.05,
          0.1,
          0.15,
          0.2,
          0.25,
          0.3,
          0.35
         ],
         "xaxis": "x3",
         "y": [
          -0.1492,
          -0.1611,
          -0.1481,
          -0.1192,
          -0.0814,
          -0.0405,
          0,
          0.0363,
          0.0679,
          0.0957,
          0.1199,
          0.1428,
          0.165,
          0.1847
         ],
         "yaxis": "y3"
        },
        {
         "legendgroup": "chart (2, 1)",
         "name": "chart (2, 1) 20181219",
         "type": "scatter",
         "uid": "ebe5e9a8-1df1-11ea-9a58-8c859025e7f9",
         "x": [
          -0.3,
          -0.25,
          -0.2,
          -0.15,
          -0.1,
          -0.05,
          0,
          0.05,
          0.1,
          0.15,
          0.2,
          0.25,
          0.3,
          0.35
         ],
         "xaxis": "x3",
         "y": [
          -0.171,
          -0.1802,
          -0.1691,
          -0.1332,
          -0.0894,
          -0.0441,
          0,
          0.0415,
          0.0789,
          0.111,
          0.1416,
          0.1649,
          0.187,
          0.209
         ],
         "yaxis": "y3"
        },
        {
         "legendgroup": "chart (2, 2)",
         "name": "chart (2, 2) 20181220",
         "type": "scatter",
         "uid": "ebe7644a-1df1-11ea-ada3-8c859025e7f9",
         "x": [
          -0.3,
          -0.25,
          -0.2,
          -0.15,
          -0.1,
          -0.05,
          0,
          0.05,
          0.1,
          0.15,
          0.2,
          0.25,
          0.3,
          0.35
         ],
         "xaxis": "x4",
         "y": [
          -0.1473,
          -0.175,
          -0.1713,
          -0.1397,
          -0.0961,
          -0.0499,
          0,
          0.0466,
          0.0855,
          0.1192,
          0.1504,
          0.1775,
          0.2014,
          0.2236
         ],
         "yaxis": "y4"
        },
        {
         "legendgroup": "chart (2, 2)",
         "name": "chart (2, 2) 20181221",
         "type": "scatter",
         "uid": "ebe7d9fa-1df1-11ea-9b8d-8c859025e7f9",
         "x": [
          -0.3,
          -0.25,
          -0.2,
          -0.15,
          -0.1,
          -0.05,
          0,
          0.05,
          0.1,
          0.15,
          0.2,
          0.25,
          0.3,
          0.35
         ],
         "xaxis": "x4",
         "y": [
          null,
          null,
          null,
          null,
          null,
          null,
          0,
          null,
          null,
          null,
          0.1391,
          null,
          null,
          null
         ],
         "yaxis": "y4"
        },
        {
         "legendgroup": "chart (2, 2)",
         "name": "chart (2, 2) 20181224",
         "type": "scatter",
         "uid": "ebe84752-1df1-11ea-a20e-8c859025e7f9",
         "x": [
          -0.3,
          -0.25,
          -0.2,
          -0.15,
          -0.1,
          -0.05,
          0,
          0.05,
          0.1,
          0.15,
          0.2,
          0.25,
          0.3,
          0.35
         ],
         "xaxis": "x4",
         "y": [
          -0.0831,
          -0.1091,
          -0.1218,
          -0.1195,
          -0.0864,
          -0.0438,
          0,
          0.0429,
          0.0835,
          0.1151,
          0.1407,
          0.166,
          0.1842,
          0.2057
         ],
         "yaxis": "y4"
        },
        {
         "legendgroup": "chart (2, 2)",
         "name": "chart (2, 2) 20181226",
         "type": "scatter",
         "uid": "ebe8ac68-1df1-11ea-8a52-8c859025e7f9",
         "x": [
          -0.3,
          -0.25,
          -0.2,
          -0.15,
          -0.1,
          -0.05,
          0,
          0.05,
          0.1,
          0.15,
          0.2,
          0.25,
          0.3,
          0.35
         ],
         "xaxis": "x4",
         "y": [
          -0.0679,
          -0.1047,
          -0.1241,
          -0.1116,
          -0.0829,
          -0.0426,
          0,
          0.04,
          0.0741,
          0.1031,
          0.1278,
          0.1541,
          0.1732,
          0.1934
         ],
         "yaxis": "y4"
        },
        {
         "legendgroup": "chart (2, 2)",
         "name": "chart (2, 2) 20181227",
         "type": "scatter",
         "uid": "ebe91d76-1df1-11ea-9df5-8c859025e7f9",
         "x": [
          -0.3,
          -0.25,
          -0.2,
          -0.15,
          -0.1,
          -0.05,
          0,
          0.05,
          0.1,
          0.15,
          0.2,
          0.25,
          0.3,
          0.35
         ],
         "xaxis": "x4",
         "y": [
          -0.0384,
          -0.0582,
          -0.0653,
          -0.065,
          -0.055,
          -0.0314,
          0,
          0.0322,
          0.0613,
          0.0845,
          0.1056,
          0.1243,
          0.141,
          0.1575
         ],
         "yaxis": "y4"
        }
       ],
       "layout": {
        "annotations": [
         {
          "font": {
           "size": 16
          },
          "showarrow": false,
          "text": "NGG19 20181129 - 20181205",
          "x": 0.2275,
          "xanchor": "center",
          "xref": "paper",
          "y": 1,
          "yanchor": "bottom",
          "yref": "paper"
         },
         {
          "font": {
           "size": 16
          },
          "showarrow": false,
          "text": "NGG19 20181206 - 20181212",
          "x": 0.7725,
          "xanchor": "center",
          "xref": "paper",
          "y": 1,
          "yanchor": "bottom",
          "yref": "paper"
         },
         {
          "font": {
           "size": 16
          },
          "showarrow": false,
          "text": "NGG19 20181213 - 20181219",
          "x": 0.2275,
          "xanchor": "center",
          "xref": "paper",
          "y": 0.445,
          "yanchor": "bottom",
          "yref": "paper"
         },
         {
          "font": {
           "size": 16
          },
          "showarrow": false,
          "text": "NGG19 20181220 - 20181227",
          "x": 0.7725,
          "xanchor": "center",
          "xref": "paper",
          "y": 0.445,
          "yanchor": "bottom",
          "yref": "paper"
         }
        ],
        "autosize": true,
        "bargap": 0.05,
        "font": {
         "family": "Open Sans, sans-serif"
        },
        "height": 800,
        "hovermode": "x",
        "margin": {
         "b": 55,
         "l": 45,
         "r": 15,
         "t": 50
        },
        "plot_bgcolor": "#EFECEA",
        "showlegend": true,
        "title": "Skew plots<br>",
        "width": 900,
        "xaxis": {
         "anchor": "y",
         "domain": [
          0,
          0.455
         ],
         "tickangle": 45,
         "ticktext": [
          -0.3,
          -0.25,
          -0.2,
          -0.15,
          -0.1,
          -0.05,
          0,
          0.05,
          0.1,
          0.15,
          0.2,
          0.25,
          0.3,
          0.35
         ],
         "tickvals": [
          -0.3,
          -0.25,
          -0.2,
          -0.15,
          -0.1,
          -0.05,
          0,
          0.05,
          0.1,
          0.15,
          0.2,
          0.25,
          0.3,
          0.35
         ],
         "type": "category"
        },
        "xaxis2": {
         "anchor": "y2",
         "domain": [
          0.545,
          1
         ],
         "tickangle": 45,
         "ticktext": [
          -0.3,
          -0.25,
          -0.2,
          -0.15,
          -0.1,
          -0.05,
          0,
          0.05,
          0.1,
          0.15,
          0.2,
          0.25,
          0.3,
          0.35
         ],
         "tickvals": [
          -0.3,
          -0.25,
          -0.2,
          -0.15,
          -0.1,
          -0.05,
          0,
          0.05,
          0.1,
          0.15,
          0.2,
          0.25,
          0.3,
          0.35
         ],
         "type": "category"
        },
        "xaxis3": {
         "anchor": "y3",
         "domain": [
          0,
          0.455
         ],
         "tickangle": 45,
         "ticktext": [
          -0.3,
          -0.25,
          -0.2,
          -0.15,
          -0.1,
          -0.05,
          0,
          0.05,
          0.1,
          0.15,
          0.2,
          0.25,
          0.3,
          0.35
         ],
         "tickvals": [
          -0.3,
          -0.25,
          -0.2,
          -0.15,
          -0.1,
          -0.05,
          0,
          0.05,
          0.1,
          0.15,
          0.2,
          0.25,
          0.3,
          0.35
         ],
         "type": "category"
        },
        "xaxis4": {
         "anchor": "y4",
         "domain": [
          0.545,
          1
         ],
         "tickangle": 45,
         "ticktext": [
          -0.3,
          -0.25,
          -0.2,
          -0.15,
          -0.1,
          -0.05,
          0,
          0.05,
          0.1,
          0.15,
          0.2,
          0.25,
          0.3,
          0.35
         ],
         "tickvals": [
          -0.3,
          -0.25,
          -0.2,
          -0.15,
          -0.1,
          -0.05,
          0,
          0.05,
          0.1,
          0.15,
          0.2,
          0.25,
          0.3,
          0.35
         ],
         "type": "category"
        },
        "yaxis": {
         "anchor": "x",
         "domain": [
          0.555,
          1
         ],
         "title": "vol skew"
        },
        "yaxis2": {
         "anchor": "x2",
         "domain": [
          0.555,
          1
         ],
         "title": "vol skew"
        },
        "yaxis3": {
         "anchor": "x3",
         "domain": [
          0,
          0.445
         ],
         "title": "vol skew"
        },
        "yaxis4": {
         "anchor": "x4",
         "domain": [
          0,
          0.445
         ],
         "title": "vol skew"
        }
       }
      },
      "text/html": [
       "<div id=\"da40e580-4651-4e83-b388-13919fe5051e\" style=\"height: 800px; width: 900px;\" class=\"plotly-graph-div\"></div><script type=\"text/javascript\">require([\"plotly\"], function(Plotly) { window.PLOTLYENV=window.PLOTLYENV || {};window.PLOTLYENV.BASE_URL=\"https://plot.ly\";Plotly.newPlot(\"da40e580-4651-4e83-b388-13919fe5051e\", [{\"legendgroup\": \"chart (1, 1)\", \"name\": \"chart (1, 1) 20181129\", \"uid\": \"ebdcc918-1df1-11ea-ae22-8c859025e7f9\", \"x\": [-0.3, -0.25, -0.2, -0.15, -0.1, -0.05, 0.0, 0.05, 0.1, 0.15, 0.2, 0.25, 0.3, 0.35], \"y\": [-0.1448, -0.1292, -0.1066, -0.0811, -0.0535, -0.0254, 0.0, 0.0231, 0.0462, 0.0658, 0.0846, 0.1007, 0.1153, null], \"yaxis\": \"y\", \"type\": \"scatter\", \"xaxis\": \"x\"}, {\"legendgroup\": \"chart (1, 1)\", \"name\": \"chart (1, 1) 20181130\", \"uid\": \"ebdd3d6c-1df1-11ea-9bab-8c859025e7f9\", \"x\": [-0.3, -0.25, -0.2, -0.15, -0.1, -0.05, 0.0, 0.05, 0.1, 0.15, 0.2, 0.25, 0.3, 0.35], \"y\": [-0.1503, -0.1336, -0.11, -0.0835, -0.0556, -0.0286, 0.0, 0.0237, 0.0475, 0.0678, 0.0852, 0.0997, 0.1147, 0.1272], \"yaxis\": \"y\", \"type\": \"scatter\", \"xaxis\": \"x\"}, {\"legendgroup\": \"chart (1, 1)\", \"name\": \"chart (1, 1) 20181203\", \"uid\": \"ebddabe4-1df1-11ea-9088-8c859025e7f9\", \"x\": [-0.3, -0.25, -0.2, -0.15, -0.1, -0.05, 0.0, 0.05, 0.1, 0.15, 0.2, 0.25, 0.3, 0.35], \"y\": [-0.1303, -0.1175, -0.0987, -0.0755, -0.0502, -0.0248, 0.0, 0.0219, 0.0417, 0.0603, 0.0756, 0.09, 0.1034, 0.1157], \"yaxis\": \"y\", \"type\": \"scatter\", \"xaxis\": \"x\"}, {\"legendgroup\": \"chart (1, 1)\", \"name\": \"chart (1, 1) 20181204\", \"uid\": \"ebde139a-1df1-11ea-b236-8c859025e7f9\", \"x\": [-0.3, -0.25, -0.2, -0.15, -0.1, -0.05, 0.0, 0.05, 0.1, 0.15, 0.2, 0.25, 0.3, 0.35], \"y\": [-0.1402, -0.1279, -0.1069, -0.0795, -0.0524, -0.0257, 0.0, 0.0244, 0.0453, 0.0643, 0.0814, 0.0974, 0.1121, 0.1238], \"yaxis\": \"y\", \"type\": \"scatter\", \"xaxis\": \"x\"}, {\"legendgroup\": \"chart (1, 1)\", \"name\": \"chart (1, 1) 20181205\", \"uid\": \"ebde86cc-1df1-11ea-9861-8c859025e7f9\", \"x\": [-0.3, -0.25, -0.2, -0.15, -0.1, -0.05, 0.0, 0.05, 0.1, 0.15, 0.2, 0.25, 0.3, 0.35], \"y\": [-0.1537, -0.1345, -0.1101, -0.0819, -0.0536, -0.0263, 0.0, 0.0248, 0.045, 0.0638, 0.08, 0.0942, 0.1076, 0.1191], \"yaxis\": \"y\", \"type\": \"scatter\", \"xaxis\": \"x\"}, {\"legendgroup\": \"chart (1, 2)\", \"name\": \"chart (1, 2) 20181206\", \"uid\": \"ebdf7866-1df1-11ea-aa70-8c859025e7f9\", \"x\": [-0.3, -0.25, -0.2, -0.15, -0.1, -0.05, 0.0, 0.05, 0.1, 0.15, 0.2, 0.25, 0.3, 0.35], \"y\": [-0.1561, -0.1374, -0.1147, -0.0856, -0.0551, -0.0271, 0.0, 0.0221, 0.0429, 0.0616, 0.0794, 0.0946, 0.1081, 0.1195], \"yaxis\": \"y2\", \"type\": \"scatter\", \"xaxis\": \"x2\"}, {\"legendgroup\": \"chart (1, 2)\", \"name\": \"chart (1, 2) 20181207\", \"uid\": \"ebdfeeae-1df1-11ea-8dc6-8c859025e7f9\", \"x\": [-0.3, -0.25, -0.2, -0.15, -0.1, -0.05, 0.0, 0.05, 0.1, 0.15, 0.2, 0.25, 0.3, 0.35], \"y\": [-0.1637, -0.1422, -0.1131, -0.0849, -0.0554, -0.0268, 0.0, 0.0229, 0.0436, 0.0615, 0.0767, 0.0906, 0.1043, 0.1159], \"yaxis\": \"y2\", \"type\": \"scatter\", \"xaxis\": \"x2\"}, {\"legendgroup\": \"chart (1, 2)\", \"name\": \"chart (1, 2) 20181210\", \"uid\": \"ebe0586c-1df1-11ea-82bd-8c859025e7f9\", \"x\": [-0.3, -0.25, -0.2, -0.15, -0.1, -0.05, 0.0, 0.05, 0.1, 0.15, 0.2, 0.25, 0.3, 0.35], \"y\": [-0.1716, -0.1469, -0.1165, -0.0841, -0.054, -0.0258, 0.0, 0.0226, 0.0414, 0.0586, 0.0738, null, 0.0983, 0.11], \"yaxis\": \"y2\", \"type\": \"scatter\", \"xaxis\": \"x2\"}, {\"legendgroup\": \"chart (1, 2)\", \"name\": \"chart (1, 2) 20181211\", \"uid\": \"ebe0c3d8-1df1-11ea-a233-8c859025e7f9\", \"x\": [-0.3, -0.25, -0.2, -0.15, -0.1, -0.05, 0.0, 0.05, 0.1, 0.15, 0.2, 0.25, 0.3, 0.35], \"y\": [-0.1767, -0.1578, -0.1276, -0.0929, -0.0595, -0.0268, 0.0, 0.0224, 0.0427, 0.0588, 0.074, 0.0862, 0.0952, 0.1041], \"yaxis\": \"y2\", \"type\": \"scatter\", \"xaxis\": \"x2\"}, {\"legendgroup\": \"chart (1, 2)\", \"name\": \"chart (1, 2) 20181212\", \"uid\": \"ebe141b4-1df1-11ea-b283-8c859025e7f9\", \"x\": [-0.3, -0.25, -0.2, -0.15, -0.1, -0.05, 0.0, 0.05, 0.1, 0.15, 0.2, 0.25, 0.3, 0.35], \"y\": [-0.1899, -0.1652, -0.1341, -0.0991, -0.0633, -0.0294, 0.0, 0.0254, 0.0454, 0.0622, 0.077, 0.0916, 0.1027, 0.1136], \"yaxis\": \"y2\", \"type\": \"scatter\", \"xaxis\": \"x2\"}, {\"legendgroup\": \"chart (2, 1)\", \"name\": \"chart (2, 1) 20181213\", \"uid\": \"ebe3290c-1df1-11ea-a9bd-8c859025e7f9\", \"x\": [-0.3, -0.25, -0.2, -0.15, -0.1, -0.05, 0.0, 0.05, 0.1, 0.15, 0.2, 0.25, 0.3, 0.35], \"y\": [-0.1885, -0.169, -0.1362, -0.0979, -0.0609, -0.0286, 0.0, 0.0244, 0.0456, 0.0649, 0.0807, 0.0941, 0.1053, 0.1165], \"yaxis\": \"y3\", \"type\": \"scatter\", \"xaxis\": \"x3\"}, {\"legendgroup\": \"chart (2, 1)\", \"name\": \"chart (2, 1) 20181214\", \"uid\": \"ebe3cd62-1df1-11ea-99c1-8c859025e7f9\", \"x\": [-0.3, -0.25, -0.2, -0.15, -0.1, -0.05, 0.0, 0.05, 0.1, 0.15, 0.2, 0.25, 0.3, 0.35], \"y\": [-0.1828, -0.1793, -0.1533, -0.1142, -0.074, -0.0349, 0.0, 0.0333, 0.0612, 0.0839, 0.1046, 0.1225, 0.1376, 0.1519], \"yaxis\": \"y3\", \"type\": \"scatter\", \"xaxis\": \"x3\"}, {\"legendgroup\": \"chart (2, 1)\", \"name\": \"chart (2, 1) 20181217\", \"uid\": \"ebe47492-1df1-11ea-9a84-8c859025e7f9\", \"x\": [-0.3, -0.25, -0.2, -0.15, -0.1, -0.05, 0.0, 0.05, 0.1, 0.15, 0.2, 0.25, 0.3, 0.35], \"y\": [-0.1281, -0.1567, -0.1504, -0.123, -0.0828, -0.0411, 0.0, 0.0382, 0.072, 0.0977, 0.1226, 0.1446, 0.165, 0.1865], \"yaxis\": \"y3\", \"type\": \"scatter\", \"xaxis\": \"x3\"}, {\"legendgroup\": \"chart (2, 1)\", \"name\": \"chart (2, 1) 20181218\", \"uid\": \"ebe54818-1df1-11ea-a94a-8c859025e7f9\", \"x\": [-0.3, -0.25, -0.2, -0.15, -0.1, -0.05, 0.0, 0.05, 0.1, 0.15, 0.2, 0.25, 0.3, 0.35], \"y\": [-0.1492, -0.1611, -0.1481, -0.1192, -0.0814, -0.0405, 0.0, 0.0363, 0.0679, 0.0957, 0.1199, 0.1428, 0.165, 0.1847], \"yaxis\": \"y3\", \"type\": \"scatter\", \"xaxis\": \"x3\"}, {\"legendgroup\": \"chart (2, 1)\", \"name\": \"chart (2, 1) 20181219\", \"uid\": \"ebe5e9a8-1df1-11ea-9a58-8c859025e7f9\", \"x\": [-0.3, -0.25, -0.2, -0.15, -0.1, -0.05, 0.0, 0.05, 0.1, 0.15, 0.2, 0.25, 0.3, 0.35], \"y\": [-0.171, -0.1802, -0.1691, -0.1332, -0.0894, -0.0441, 0.0, 0.0415, 0.0789, 0.111, 0.1416, 0.1649, 0.187, 0.209], \"yaxis\": \"y3\", \"type\": \"scatter\", \"xaxis\": \"x3\"}, {\"legendgroup\": \"chart (2, 2)\", \"name\": \"chart (2, 2) 20181220\", \"uid\": \"ebe7644a-1df1-11ea-ada3-8c859025e7f9\", \"x\": [-0.3, -0.25, -0.2, -0.15, -0.1, -0.05, 0.0, 0.05, 0.1, 0.15, 0.2, 0.25, 0.3, 0.35], \"y\": [-0.1473, -0.175, -0.1713, -0.1397, -0.0961, -0.0499, 0.0, 0.0466, 0.0855, 0.1192, 0.1504, 0.1775, 0.2014, 0.2236], \"yaxis\": \"y4\", \"type\": \"scatter\", \"xaxis\": \"x4\"}, {\"legendgroup\": \"chart (2, 2)\", \"name\": \"chart (2, 2) 20181221\", \"uid\": \"ebe7d9fa-1df1-11ea-9b8d-8c859025e7f9\", \"x\": [-0.3, -0.25, -0.2, -0.15, -0.1, -0.05, 0.0, 0.05, 0.1, 0.15, 0.2, 0.25, 0.3, 0.35], \"y\": [null, null, null, null, null, null, 0.0, null, null, null, 0.1391, null, null, null], \"yaxis\": \"y4\", \"type\": \"scatter\", \"xaxis\": \"x4\"}, {\"legendgroup\": \"chart (2, 2)\", \"name\": \"chart (2, 2) 20181224\", \"uid\": \"ebe84752-1df1-11ea-a20e-8c859025e7f9\", \"x\": [-0.3, -0.25, -0.2, -0.15, -0.1, -0.05, 0.0, 0.05, 0.1, 0.15, 0.2, 0.25, 0.3, 0.35], \"y\": [-0.0831, -0.1091, -0.1218, -0.1195, -0.0864, -0.0438, 0.0, 0.0429, 0.0835, 0.1151, 0.1407, 0.166, 0.1842, 0.2057], \"yaxis\": \"y4\", \"type\": \"scatter\", \"xaxis\": \"x4\"}, {\"legendgroup\": \"chart (2, 2)\", \"name\": \"chart (2, 2) 20181226\", \"uid\": \"ebe8ac68-1df1-11ea-8a52-8c859025e7f9\", \"x\": [-0.3, -0.25, -0.2, -0.15, -0.1, -0.05, 0.0, 0.05, 0.1, 0.15, 0.2, 0.25, 0.3, 0.35], \"y\": [-0.0679, -0.1047, -0.1241, -0.1116, -0.0829, -0.0426, 0.0, 0.04, 0.0741, 0.1031, 0.1278, 0.1541, 0.1732, 0.1934], \"yaxis\": \"y4\", \"type\": \"scatter\", \"xaxis\": \"x4\"}, {\"legendgroup\": \"chart (2, 2)\", \"name\": \"chart (2, 2) 20181227\", \"uid\": \"ebe91d76-1df1-11ea-9df5-8c859025e7f9\", \"x\": [-0.3, -0.25, -0.2, -0.15, -0.1, -0.05, 0.0, 0.05, 0.1, 0.15, 0.2, 0.25, 0.3, 0.35], \"y\": [-0.0384, -0.0582, -0.0653, -0.065, -0.055, -0.0314, 0.0, 0.0322, 0.0613, 0.0845, 0.1056, 0.1243, 0.141, 0.1575], \"yaxis\": \"y4\", \"type\": \"scatter\", \"xaxis\": \"x4\"}], {\"annotations\": [{\"font\": {\"size\": 16}, \"showarrow\": false, \"text\": \"NGG19 20181129 - 20181205\", \"x\": 0.2275, \"xanchor\": \"center\", \"xref\": \"paper\", \"y\": 1.0, \"yanchor\": \"bottom\", \"yref\": \"paper\"}, {\"font\": {\"size\": 16}, \"showarrow\": false, \"text\": \"NGG19 20181206 - 20181212\", \"x\": 0.7725, \"xanchor\": \"center\", \"xref\": \"paper\", \"y\": 1.0, \"yanchor\": \"bottom\", \"yref\": \"paper\"}, {\"font\": {\"size\": 16}, \"showarrow\": false, \"text\": \"NGG19 20181213 - 20181219\", \"x\": 0.2275, \"xanchor\": \"center\", \"xref\": \"paper\", \"y\": 0.445, \"yanchor\": \"bottom\", \"yref\": \"paper\"}, {\"font\": {\"size\": 16}, \"showarrow\": false, \"text\": \"NGG19 20181220 - 20181227\", \"x\": 0.7725, \"xanchor\": \"center\", \"xref\": \"paper\", \"y\": 0.445, \"yanchor\": \"bottom\", \"yref\": \"paper\"}], \"xaxis\": {\"anchor\": \"y\", \"domain\": [0.0, 0.455], \"tickangle\": 45, \"ticktext\": [-0.3, -0.25, -0.2, -0.15, -0.1, -0.05, 0.0, 0.05, 0.1, 0.15, 0.2, 0.25, 0.3, 0.35], \"tickvals\": [-0.3, -0.25, -0.2, -0.15, -0.1, -0.05, 0.0, 0.05, 0.1, 0.15, 0.2, 0.25, 0.3, 0.35], \"type\": \"category\"}, \"yaxis\": {\"anchor\": \"x\", \"domain\": [0.555, 1.0], \"title\": \"vol skew\"}, \"xaxis2\": {\"anchor\": \"y2\", \"domain\": [0.545, 1.0], \"tickangle\": 45, \"ticktext\": [-0.3, -0.25, -0.2, -0.15, -0.1, -0.05, 0.0, 0.05, 0.1, 0.15, 0.2, 0.25, 0.3, 0.35], \"tickvals\": [-0.3, -0.25, -0.2, -0.15, -0.1, -0.05, 0.0, 0.05, 0.1, 0.15, 0.2, 0.25, 0.3, 0.35], \"type\": \"category\"}, \"yaxis2\": {\"anchor\": \"x2\", \"domain\": [0.555, 1.0], \"title\": \"vol skew\"}, \"xaxis3\": {\"anchor\": \"y3\", \"domain\": [0.0, 0.455], \"tickangle\": 45, \"ticktext\": [-0.3, -0.25, -0.2, -0.15, -0.1, -0.05, 0.0, 0.05, 0.1, 0.15, 0.2, 0.25, 0.3, 0.35], \"tickvals\": [-0.3, -0.25, -0.2, -0.15, -0.1, -0.05, 0.0, 0.05, 0.1, 0.15, 0.2, 0.25, 0.3, 0.35], \"type\": \"category\"}, \"yaxis3\": {\"anchor\": \"x3\", \"domain\": [0.0, 0.445], \"title\": \"vol skew\"}, \"xaxis4\": {\"anchor\": \"y4\", \"domain\": [0.545, 1.0], \"tickangle\": 45, \"ticktext\": [-0.3, -0.25, -0.2, -0.15, -0.1, -0.05, 0.0, 0.05, 0.1, 0.15, 0.2, 0.25, 0.3, 0.35], \"tickvals\": [-0.3, -0.25, -0.2, -0.15, -0.1, -0.05, 0.0, 0.05, 0.1, 0.15, 0.2, 0.25, 0.3, 0.35], \"type\": \"category\"}, \"yaxis4\": {\"anchor\": \"x4\", \"domain\": [0.0, 0.445], \"title\": \"vol skew\"}, \"font\": {\"family\": \"Open Sans, sans-serif\"}, \"margin\": {\"b\": 55, \"l\": 45, \"r\": 15, \"t\": 50}, \"title\": \"Skew plots<br>\", \"showlegend\": true, \"hovermode\": \"x\", \"autosize\": true, \"width\": 900, \"height\": 800, \"plot_bgcolor\": \"#EFECEA\", \"bargap\": 0.05}, {\"showLink\": true, \"linkText\": \"Export to plot.ly\"})});</script>"
      ],
      "text/vnd.plotly.v1+html": [
       "<div id=\"da40e580-4651-4e83-b388-13919fe5051e\" style=\"height: 800px; width: 900px;\" class=\"plotly-graph-div\"></div><script type=\"text/javascript\">require([\"plotly\"], function(Plotly) { window.PLOTLYENV=window.PLOTLYENV || {};window.PLOTLYENV.BASE_URL=\"https://plot.ly\";Plotly.newPlot(\"da40e580-4651-4e83-b388-13919fe5051e\", [{\"legendgroup\": \"chart (1, 1)\", \"name\": \"chart (1, 1) 20181129\", \"uid\": \"ebdcc918-1df1-11ea-ae22-8c859025e7f9\", \"x\": [-0.3, -0.25, -0.2, -0.15, -0.1, -0.05, 0.0, 0.05, 0.1, 0.15, 0.2, 0.25, 0.3, 0.35], \"y\": [-0.1448, -0.1292, -0.1066, -0.0811, -0.0535, -0.0254, 0.0, 0.0231, 0.0462, 0.0658, 0.0846, 0.1007, 0.1153, null], \"yaxis\": \"y\", \"type\": \"scatter\", \"xaxis\": \"x\"}, {\"legendgroup\": \"chart (1, 1)\", \"name\": \"chart (1, 1) 20181130\", \"uid\": \"ebdd3d6c-1df1-11ea-9bab-8c859025e7f9\", \"x\": [-0.3, -0.25, -0.2, -0.15, -0.1, -0.05, 0.0, 0.05, 0.1, 0.15, 0.2, 0.25, 0.3, 0.35], \"y\": [-0.1503, -0.1336, -0.11, -0.0835, -0.0556, -0.0286, 0.0, 0.0237, 0.0475, 0.0678, 0.0852, 0.0997, 0.1147, 0.1272], \"yaxis\": \"y\", \"type\": \"scatter\", \"xaxis\": \"x\"}, {\"legendgroup\": \"chart (1, 1)\", \"name\": \"chart (1, 1) 20181203\", \"uid\": \"ebddabe4-1df1-11ea-9088-8c859025e7f9\", \"x\": [-0.3, -0.25, -0.2, -0.15, -0.1, -0.05, 0.0, 0.05, 0.1, 0.15, 0.2, 0.25, 0.3, 0.35], \"y\": [-0.1303, -0.1175, -0.0987, -0.0755, -0.0502, -0.0248, 0.0, 0.0219, 0.0417, 0.0603, 0.0756, 0.09, 0.1034, 0.1157], \"yaxis\": \"y\", \"type\": \"scatter\", \"xaxis\": \"x\"}, {\"legendgroup\": \"chart (1, 1)\", \"name\": \"chart (1, 1) 20181204\", \"uid\": \"ebde139a-1df1-11ea-b236-8c859025e7f9\", \"x\": [-0.3, -0.25, -0.2, -0.15, -0.1, -0.05, 0.0, 0.05, 0.1, 0.15, 0.2, 0.25, 0.3, 0.35], \"y\": [-0.1402, -0.1279, -0.1069, -0.0795, -0.0524, -0.0257, 0.0, 0.0244, 0.0453, 0.0643, 0.0814, 0.0974, 0.1121, 0.1238], \"yaxis\": \"y\", \"type\": \"scatter\", \"xaxis\": \"x\"}, {\"legendgroup\": \"chart (1, 1)\", \"name\": \"chart (1, 1) 20181205\", \"uid\": \"ebde86cc-1df1-11ea-9861-8c859025e7f9\", \"x\": [-0.3, -0.25, -0.2, -0.15, -0.1, -0.05, 0.0, 0.05, 0.1, 0.15, 0.2, 0.25, 0.3, 0.35], \"y\": [-0.1537, -0.1345, -0.1101, -0.0819, -0.0536, -0.0263, 0.0, 0.0248, 0.045, 0.0638, 0.08, 0.0942, 0.1076, 0.1191], \"yaxis\": \"y\", \"type\": \"scatter\", \"xaxis\": \"x\"}, {\"legendgroup\": \"chart (1, 2)\", \"name\": \"chart (1, 2) 20181206\", \"uid\": \"ebdf7866-1df1-11ea-aa70-8c859025e7f9\", \"x\": [-0.3, -0.25, -0.2, -0.15, -0.1, -0.05, 0.0, 0.05, 0.1, 0.15, 0.2, 0.25, 0.3, 0.35], \"y\": [-0.1561, -0.1374, -0.1147, -0.0856, -0.0551, -0.0271, 0.0, 0.0221, 0.0429, 0.0616, 0.0794, 0.0946, 0.1081, 0.1195], \"yaxis\": \"y2\", \"type\": \"scatter\", \"xaxis\": \"x2\"}, {\"legendgroup\": \"chart (1, 2)\", \"name\": \"chart (1, 2) 20181207\", \"uid\": \"ebdfeeae-1df1-11ea-8dc6-8c859025e7f9\", \"x\": [-0.3, -0.25, -0.2, -0.15, -0.1, -0.05, 0.0, 0.05, 0.1, 0.15, 0.2, 0.25, 0.3, 0.35], \"y\": [-0.1637, -0.1422, -0.1131, -0.0849, -0.0554, -0.0268, 0.0, 0.0229, 0.0436, 0.0615, 0.0767, 0.0906, 0.1043, 0.1159], \"yaxis\": \"y2\", \"type\": \"scatter\", \"xaxis\": \"x2\"}, {\"legendgroup\": \"chart (1, 2)\", \"name\": \"chart (1, 2) 20181210\", \"uid\": \"ebe0586c-1df1-11ea-82bd-8c859025e7f9\", \"x\": [-0.3, -0.25, -0.2, -0.15, -0.1, -0.05, 0.0, 0.05, 0.1, 0.15, 0.2, 0.25, 0.3, 0.35], \"y\": [-0.1716, -0.1469, -0.1165, -0.0841, -0.054, -0.0258, 0.0, 0.0226, 0.0414, 0.0586, 0.0738, null, 0.0983, 0.11], \"yaxis\": \"y2\", \"type\": \"scatter\", \"xaxis\": \"x2\"}, {\"legendgroup\": \"chart (1, 2)\", \"name\": \"chart (1, 2) 20181211\", \"uid\": \"ebe0c3d8-1df1-11ea-a233-8c859025e7f9\", \"x\": [-0.3, -0.25, -0.2, -0.15, -0.1, -0.05, 0.0, 0.05, 0.1, 0.15, 0.2, 0.25, 0.3, 0.35], \"y\": [-0.1767, -0.1578, -0.1276, -0.0929, -0.0595, -0.0268, 0.0, 0.0224, 0.0427, 0.0588, 0.074, 0.0862, 0.0952, 0.1041], \"yaxis\": \"y2\", \"type\": \"scatter\", \"xaxis\": \"x2\"}, {\"legendgroup\": \"chart (1, 2)\", \"name\": \"chart (1, 2) 20181212\", \"uid\": \"ebe141b4-1df1-11ea-b283-8c859025e7f9\", \"x\": [-0.3, -0.25, -0.2, -0.15, -0.1, -0.05, 0.0, 0.05, 0.1, 0.15, 0.2, 0.25, 0.3, 0.35], \"y\": [-0.1899, -0.1652, -0.1341, -0.0991, -0.0633, -0.0294, 0.0, 0.0254, 0.0454, 0.0622, 0.077, 0.0916, 0.1027, 0.1136], \"yaxis\": \"y2\", \"type\": \"scatter\", \"xaxis\": \"x2\"}, {\"legendgroup\": \"chart (2, 1)\", \"name\": \"chart (2, 1) 20181213\", \"uid\": \"ebe3290c-1df1-11ea-a9bd-8c859025e7f9\", \"x\": [-0.3, -0.25, -0.2, -0.15, -0.1, -0.05, 0.0, 0.05, 0.1, 0.15, 0.2, 0.25, 0.3, 0.35], \"y\": [-0.1885, -0.169, -0.1362, -0.0979, -0.0609, -0.0286, 0.0, 0.0244, 0.0456, 0.0649, 0.0807, 0.0941, 0.1053, 0.1165], \"yaxis\": \"y3\", \"type\": \"scatter\", \"xaxis\": \"x3\"}, {\"legendgroup\": \"chart (2, 1)\", \"name\": \"chart (2, 1) 20181214\", \"uid\": \"ebe3cd62-1df1-11ea-99c1-8c859025e7f9\", \"x\": [-0.3, -0.25, -0.2, -0.15, -0.1, -0.05, 0.0, 0.05, 0.1, 0.15, 0.2, 0.25, 0.3, 0.35], \"y\": [-0.1828, -0.1793, -0.1533, -0.1142, -0.074, -0.0349, 0.0, 0.0333, 0.0612, 0.0839, 0.1046, 0.1225, 0.1376, 0.1519], \"yaxis\": \"y3\", \"type\": \"scatter\", \"xaxis\": \"x3\"}, {\"legendgroup\": \"chart (2, 1)\", \"name\": \"chart (2, 1) 20181217\", \"uid\": \"ebe47492-1df1-11ea-9a84-8c859025e7f9\", \"x\": [-0.3, -0.25, -0.2, -0.15, -0.1, -0.05, 0.0, 0.05, 0.1, 0.15, 0.2, 0.25, 0.3, 0.35], \"y\": [-0.1281, -0.1567, -0.1504, -0.123, -0.0828, -0.0411, 0.0, 0.0382, 0.072, 0.0977, 0.1226, 0.1446, 0.165, 0.1865], \"yaxis\": \"y3\", \"type\": \"scatter\", \"xaxis\": \"x3\"}, {\"legendgroup\": \"chart (2, 1)\", \"name\": \"chart (2, 1) 20181218\", \"uid\": \"ebe54818-1df1-11ea-a94a-8c859025e7f9\", \"x\": [-0.3, -0.25, -0.2, -0.15, -0.1, -0.05, 0.0, 0.05, 0.1, 0.15, 0.2, 0.25, 0.3, 0.35], \"y\": [-0.1492, -0.1611, -0.1481, -0.1192, -0.0814, -0.0405, 0.0, 0.0363, 0.0679, 0.0957, 0.1199, 0.1428, 0.165, 0.1847], \"yaxis\": \"y3\", \"type\": \"scatter\", \"xaxis\": \"x3\"}, {\"legendgroup\": \"chart (2, 1)\", \"name\": \"chart (2, 1) 20181219\", \"uid\": \"ebe5e9a8-1df1-11ea-9a58-8c859025e7f9\", \"x\": [-0.3, -0.25, -0.2, -0.15, -0.1, -0.05, 0.0, 0.05, 0.1, 0.15, 0.2, 0.25, 0.3, 0.35], \"y\": [-0.171, -0.1802, -0.1691, -0.1332, -0.0894, -0.0441, 0.0, 0.0415, 0.0789, 0.111, 0.1416, 0.1649, 0.187, 0.209], \"yaxis\": \"y3\", \"type\": \"scatter\", \"xaxis\": \"x3\"}, {\"legendgroup\": \"chart (2, 2)\", \"name\": \"chart (2, 2) 20181220\", \"uid\": \"ebe7644a-1df1-11ea-ada3-8c859025e7f9\", \"x\": [-0.3, -0.25, -0.2, -0.15, -0.1, -0.05, 0.0, 0.05, 0.1, 0.15, 0.2, 0.25, 0.3, 0.35], \"y\": [-0.1473, -0.175, -0.1713, -0.1397, -0.0961, -0.0499, 0.0, 0.0466, 0.0855, 0.1192, 0.1504, 0.1775, 0.2014, 0.2236], \"yaxis\": \"y4\", \"type\": \"scatter\", \"xaxis\": \"x4\"}, {\"legendgroup\": \"chart (2, 2)\", \"name\": \"chart (2, 2) 20181221\", \"uid\": \"ebe7d9fa-1df1-11ea-9b8d-8c859025e7f9\", \"x\": [-0.3, -0.25, -0.2, -0.15, -0.1, -0.05, 0.0, 0.05, 0.1, 0.15, 0.2, 0.25, 0.3, 0.35], \"y\": [null, null, null, null, null, null, 0.0, null, null, null, 0.1391, null, null, null], \"yaxis\": \"y4\", \"type\": \"scatter\", \"xaxis\": \"x4\"}, {\"legendgroup\": \"chart (2, 2)\", \"name\": \"chart (2, 2) 20181224\", \"uid\": \"ebe84752-1df1-11ea-a20e-8c859025e7f9\", \"x\": [-0.3, -0.25, -0.2, -0.15, -0.1, -0.05, 0.0, 0.05, 0.1, 0.15, 0.2, 0.25, 0.3, 0.35], \"y\": [-0.0831, -0.1091, -0.1218, -0.1195, -0.0864, -0.0438, 0.0, 0.0429, 0.0835, 0.1151, 0.1407, 0.166, 0.1842, 0.2057], \"yaxis\": \"y4\", \"type\": \"scatter\", \"xaxis\": \"x4\"}, {\"legendgroup\": \"chart (2, 2)\", \"name\": \"chart (2, 2) 20181226\", \"uid\": \"ebe8ac68-1df1-11ea-8a52-8c859025e7f9\", \"x\": [-0.3, -0.25, -0.2, -0.15, -0.1, -0.05, 0.0, 0.05, 0.1, 0.15, 0.2, 0.25, 0.3, 0.35], \"y\": [-0.0679, -0.1047, -0.1241, -0.1116, -0.0829, -0.0426, 0.0, 0.04, 0.0741, 0.1031, 0.1278, 0.1541, 0.1732, 0.1934], \"yaxis\": \"y4\", \"type\": \"scatter\", \"xaxis\": \"x4\"}, {\"legendgroup\": \"chart (2, 2)\", \"name\": \"chart (2, 2) 20181227\", \"uid\": \"ebe91d76-1df1-11ea-9df5-8c859025e7f9\", \"x\": [-0.3, -0.25, -0.2, -0.15, -0.1, -0.05, 0.0, 0.05, 0.1, 0.15, 0.2, 0.25, 0.3, 0.35], \"y\": [-0.0384, -0.0582, -0.0653, -0.065, -0.055, -0.0314, 0.0, 0.0322, 0.0613, 0.0845, 0.1056, 0.1243, 0.141, 0.1575], \"yaxis\": \"y4\", \"type\": \"scatter\", \"xaxis\": \"x4\"}], {\"annotations\": [{\"font\": {\"size\": 16}, \"showarrow\": false, \"text\": \"NGG19 20181129 - 20181205\", \"x\": 0.2275, \"xanchor\": \"center\", \"xref\": \"paper\", \"y\": 1.0, \"yanchor\": \"bottom\", \"yref\": \"paper\"}, {\"font\": {\"size\": 16}, \"showarrow\": false, \"text\": \"NGG19 20181206 - 20181212\", \"x\": 0.7725, \"xanchor\": \"center\", \"xref\": \"paper\", \"y\": 1.0, \"yanchor\": \"bottom\", \"yref\": \"paper\"}, {\"font\": {\"size\": 16}, \"showarrow\": false, \"text\": \"NGG19 20181213 - 20181219\", \"x\": 0.2275, \"xanchor\": \"center\", \"xref\": \"paper\", \"y\": 0.445, \"yanchor\": \"bottom\", \"yref\": \"paper\"}, {\"font\": {\"size\": 16}, \"showarrow\": false, \"text\": \"NGG19 20181220 - 20181227\", \"x\": 0.7725, \"xanchor\": \"center\", \"xref\": \"paper\", \"y\": 0.445, \"yanchor\": \"bottom\", \"yref\": \"paper\"}], \"xaxis\": {\"anchor\": \"y\", \"domain\": [0.0, 0.455], \"tickangle\": 45, \"ticktext\": [-0.3, -0.25, -0.2, -0.15, -0.1, -0.05, 0.0, 0.05, 0.1, 0.15, 0.2, 0.25, 0.3, 0.35], \"tickvals\": [-0.3, -0.25, -0.2, -0.15, -0.1, -0.05, 0.0, 0.05, 0.1, 0.15, 0.2, 0.25, 0.3, 0.35], \"type\": \"category\"}, \"yaxis\": {\"anchor\": \"x\", \"domain\": [0.555, 1.0], \"title\": \"vol skew\"}, \"xaxis2\": {\"anchor\": \"y2\", \"domain\": [0.545, 1.0], \"tickangle\": 45, \"ticktext\": [-0.3, -0.25, -0.2, -0.15, -0.1, -0.05, 0.0, 0.05, 0.1, 0.15, 0.2, 0.25, 0.3, 0.35], \"tickvals\": [-0.3, -0.25, -0.2, -0.15, -0.1, -0.05, 0.0, 0.05, 0.1, 0.15, 0.2, 0.25, 0.3, 0.35], \"type\": \"category\"}, \"yaxis2\": {\"anchor\": \"x2\", \"domain\": [0.555, 1.0], \"title\": \"vol skew\"}, \"xaxis3\": {\"anchor\": \"y3\", \"domain\": [0.0, 0.455], \"tickangle\": 45, \"ticktext\": [-0.3, -0.25, -0.2, -0.15, -0.1, -0.05, 0.0, 0.05, 0.1, 0.15, 0.2, 0.25, 0.3, 0.35], \"tickvals\": [-0.3, -0.25, -0.2, -0.15, -0.1, -0.05, 0.0, 0.05, 0.1, 0.15, 0.2, 0.25, 0.3, 0.35], \"type\": \"category\"}, \"yaxis3\": {\"anchor\": \"x3\", \"domain\": [0.0, 0.445], \"title\": \"vol skew\"}, \"xaxis4\": {\"anchor\": \"y4\", \"domain\": [0.545, 1.0], \"tickangle\": 45, \"ticktext\": [-0.3, -0.25, -0.2, -0.15, -0.1, -0.05, 0.0, 0.05, 0.1, 0.15, 0.2, 0.25, 0.3, 0.35], \"tickvals\": [-0.3, -0.25, -0.2, -0.15, -0.1, -0.05, 0.0, 0.05, 0.1, 0.15, 0.2, 0.25, 0.3, 0.35], \"type\": \"category\"}, \"yaxis4\": {\"anchor\": \"x4\", \"domain\": [0.0, 0.445], \"title\": \"vol skew\"}, \"font\": {\"family\": \"Open Sans, sans-serif\"}, \"margin\": {\"b\": 55, \"l\": 45, \"r\": 15, \"t\": 50}, \"title\": \"Skew plots<br>\", \"showlegend\": true, \"hovermode\": \"x\", \"autosize\": true, \"width\": 900, \"height\": 800, \"plot_bgcolor\": \"#EFECEA\", \"bargap\": 0.05}, {\"showLink\": true, \"linkText\": \"Export to plot.ly\"})});</script>"
      ]
     },
     "metadata": {},
     "output_type": "display_data"
    },
    {
     "data": {
      "application/vnd.plotly.v1+json": {
       "data": [
        {
         "legendgroup": "chart (1, 1)",
         "name": "chart (1, 1) 20181228",
         "type": "scatter",
         "uid": "ec42e3ec-1df1-11ea-b341-8c859025e7f9",
         "x": [
          -0.3,
          -0.25,
          -0.2,
          -0.15,
          -0.1,
          -0.05,
          0,
          0.05,
          0.1,
          0.15,
          0.2,
          0.25,
          0.3,
          0.35
         ],
         "xaxis": "x",
         "y": [
          -0.0271,
          -0.0432,
          -0.0586,
          -0.0667,
          -0.0549,
          -0.0308,
          0,
          0.0308,
          0.0568,
          0.0783,
          0.097,
          0.1144,
          null,
          null
         ],
         "yaxis": "y"
        },
        {
         "legendgroup": "chart (1, 1)",
         "name": "chart (1, 1) 20181231",
         "type": "scatter",
         "uid": "ec434f4c-1df1-11ea-a4d9-8c859025e7f9",
         "x": [
          -0.3,
          -0.25,
          -0.2,
          -0.15,
          -0.1,
          -0.05,
          0,
          0.05,
          0.1,
          0.15,
          0.2,
          0.25,
          0.3,
          0.35
         ],
         "xaxis": "x",
         "y": [
          null,
          0.0045,
          -0.008,
          -0.016,
          -0.0221,
          -0.0171,
          0,
          0.0226,
          0.0452,
          0.0673,
          0.085,
          0.1028,
          0.1218,
          0.1392
         ],
         "yaxis": "y"
        },
        {
         "legendgroup": "chart (1, 1)",
         "name": "chart (1, 1) 20190102",
         "type": "scatter",
         "uid": "ec43e3dc-1df1-11ea-aba5-8c859025e7f9",
         "x": [
          -0.3,
          -0.25,
          -0.2,
          -0.15,
          -0.1,
          -0.05,
          0,
          0.05,
          0.1,
          0.15,
          0.2,
          0.25,
          0.3,
          0.35
         ],
         "xaxis": "x",
         "y": [
          null,
          -0.0094,
          -0.0213,
          -0.0258,
          -0.0248,
          -0.0184,
          0,
          0.026,
          0.0506,
          0.0738,
          0.0983,
          0.1217,
          0.1408,
          0.159
         ],
         "yaxis": "y"
        },
        {
         "legendgroup": "chart (1, 1)",
         "name": "chart (1, 1) 20190103",
         "type": "scatter",
         "uid": "ec447e50-1df1-11ea-b85a-8c859025e7f9",
         "x": [
          -0.3,
          -0.25,
          -0.2,
          -0.15,
          -0.1,
          -0.05,
          0,
          0.05,
          0.1,
          0.15,
          0.2,
          0.25,
          0.3,
          0.35
         ],
         "xaxis": "x",
         "y": [
          null,
          0.02,
          -0.0038,
          -0.0166,
          -0.0204,
          -0.0156,
          0,
          0.0187,
          0.0415,
          0.0631,
          0.0863,
          0.1097,
          0.1333,
          0.1556
         ],
         "yaxis": "y"
        },
        {
         "legendgroup": "chart (1, 1)",
         "name": "chart (1, 1) 20190104",
         "type": "scatter",
         "uid": "ec450294-1df1-11ea-a8dc-8c859025e7f9",
         "x": [
          -0.3,
          -0.25,
          -0.2,
          -0.15,
          -0.1,
          -0.05,
          0,
          0.05,
          0.1,
          0.15,
          0.2,
          0.25,
          0.3,
          0.35
         ],
         "xaxis": "x",
         "y": [
          0.0602,
          0.0236,
          -0.0009,
          -0.0185,
          -0.0238,
          -0.0163,
          0,
          0.0243,
          0.0478,
          0.0741,
          0.097,
          0.1215,
          0.1431,
          0.167
         ],
         "yaxis": "y"
        },
        {
         "legendgroup": "chart (1, 2)",
         "name": "chart (1, 2) 20190107",
         "type": "scatter",
         "uid": "ec45f328-1df1-11ea-ab46-8c859025e7f9",
         "x": [
          -0.3,
          -0.25,
          -0.2,
          -0.15,
          -0.1,
          -0.05,
          0,
          0.05,
          0.1,
          0.15,
          0.2,
          0.25,
          0.3,
          0.35
         ],
         "xaxis": "x2",
         "y": [
          null,
          0.0521,
          0.0139,
          -0.0059,
          -0.0125,
          -0.0108,
          0,
          0.0193,
          0.0422,
          0.068,
          0.0903,
          0.114,
          0.1376,
          0.1624
         ],
         "yaxis": "y2"
        },
        {
         "legendgroup": "chart (1, 2)",
         "name": "chart (1, 2) 20190108",
         "type": "scatter",
         "uid": "ec465d74-1df1-11ea-9049-8c859025e7f9",
         "x": [
          -0.3,
          -0.25,
          -0.2,
          -0.15,
          -0.1,
          -0.05,
          0,
          0.05,
          0.1,
          0.15,
          0.2,
          0.25,
          0.3,
          0.35
         ],
         "xaxis": "x2",
         "y": [
          null,
          0.0542,
          0.0213,
          -0.0011,
          -0.0131,
          -0.014,
          0,
          0.02,
          0.0449,
          0.0682,
          0.0911,
          0.1156,
          0.1362,
          0.1635
         ],
         "yaxis": "y2"
        },
        {
         "legendgroup": "chart (1, 2)",
         "name": "chart (1, 2) 20190109",
         "type": "scatter",
         "uid": "ec46c53e-1df1-11ea-9063-8c859025e7f9",
         "x": [
          -0.3,
          -0.25,
          -0.2,
          -0.15,
          -0.1,
          -0.05,
          0,
          0.05,
          0.1,
          0.15,
          0.2,
          0.25,
          0.3,
          0.35
         ],
         "xaxis": "x2",
         "y": [
          null,
          0.0533,
          0.0258,
          0.0031,
          -0.0095,
          -0.0089,
          0,
          0.0166,
          0.036,
          0.0588,
          0.0836,
          null,
          0.1309,
          0.1541
         ],
         "yaxis": "y2"
        },
        {
         "legendgroup": "chart (1, 2)",
         "name": "chart (1, 2) 20190110",
         "type": "scatter",
         "uid": "ec47263a-1df1-11ea-800b-8c859025e7f9",
         "x": [
          -0.3,
          -0.25,
          -0.2,
          -0.15,
          -0.1,
          -0.05,
          0,
          0.05,
          0.1,
          0.15,
          0.2,
          0.25,
          0.3,
          0.35
         ],
         "xaxis": "x2",
         "y": [
          null,
          0.0705,
          0.0329,
          0.0108,
          -0.0051,
          -0.0094,
          0,
          0.0193,
          0.0394,
          0.0622,
          0.0858,
          0.1127,
          0.1349,
          0.1602
         ],
         "yaxis": "y2"
        },
        {
         "legendgroup": "chart (1, 2)",
         "name": "chart (1, 2) 20190111",
         "type": "scatter",
         "uid": "ec478cd0-1df1-11ea-9e98-8c859025e7f9",
         "x": [
          -0.3,
          -0.25,
          -0.2,
          -0.15,
          -0.1,
          -0.05,
          0,
          0.05,
          0.1,
          0.15,
          0.2,
          0.25,
          0.3,
          0.35
         ],
         "xaxis": "x2",
         "y": [
          0.0919,
          0.0415,
          0.0159,
          -0.0101,
          -0.019,
          -0.0145,
          0,
          0.0223,
          0.0476,
          0.0734,
          0.0946,
          0.1196,
          0.1424,
          0.1611
         ],
         "yaxis": "y2"
        },
        {
         "legendgroup": "chart (2, 1)",
         "name": "chart (2, 1) 20190114",
         "type": "scatter",
         "uid": "ec489936-1df1-11ea-a540-8c859025e7f9",
         "x": [
          -0.3,
          -0.25,
          -0.2,
          -0.15,
          -0.1,
          -0.05,
          0,
          0.05,
          0.1,
          0.15,
          0.2,
          0.25,
          0.3,
          0.35
         ],
         "xaxis": "x3",
         "y": [
          -0.1108,
          -0.1461,
          -0.1441,
          -0.1274,
          -0.0948,
          -0.0515,
          0,
          0.0454,
          0.0862,
          0.1223,
          0.1561,
          null,
          null,
          null
         ],
         "yaxis": "y3"
        },
        {
         "legendgroup": "chart (2, 1)",
         "name": "chart (2, 1) 20190115",
         "type": "scatter",
         "uid": "ec491352-1df1-11ea-b8e0-8c859025e7f9",
         "x": [
          -0.3,
          -0.25,
          -0.2,
          -0.15,
          -0.1,
          -0.05,
          0,
          0.05,
          0.1,
          0.15,
          0.2,
          0.25,
          0.3,
          0.35
         ],
         "xaxis": "x3",
         "y": [
          -0.1917,
          -0.2187,
          -0.2189,
          -0.169,
          -0.1121,
          -0.0561,
          0,
          0.0451,
          0.0892,
          0.1256,
          0.1597,
          null,
          null,
          null
         ],
         "yaxis": "y3"
        },
        {
         "legendgroup": "chart (2, 1)",
         "name": "chart (2, 1) 20190116",
         "type": "scatter",
         "uid": "ec4974fa-1df1-11ea-b684-8c859025e7f9",
         "x": [
          -0.3,
          -0.25,
          -0.2,
          -0.15,
          -0.1,
          -0.05,
          0,
          0.05,
          0.1,
          0.15,
          0.2,
          0.25,
          0.3,
          0.35
         ],
         "xaxis": "x3",
         "y": [
          -0.1887,
          -0.2209,
          -0.2225,
          -0.1826,
          -0.1223,
          -0.0615,
          0,
          0.0502,
          0.0948,
          0.1353,
          0.1695,
          0.1982,
          null,
          null
         ],
         "yaxis": "y3"
        },
        {
         "legendgroup": "chart (2, 1)",
         "name": "chart (2, 1) 20190117",
         "type": "scatter",
         "uid": "ec49ddc8-1df1-11ea-908c-8c859025e7f9",
         "x": [
          -0.3,
          -0.25,
          -0.2,
          -0.15,
          -0.1,
          -0.05,
          0,
          0.05,
          0.1,
          0.15,
          0.2,
          0.25,
          0.3,
          0.35
         ],
         "xaxis": "x3",
         "y": [
          -0.1521,
          -0.1955,
          -0.2149,
          -0.1817,
          -0.1309,
          -0.0661,
          0,
          0.0569,
          0.1075,
          0.1514,
          0.1926,
          0.2292,
          null,
          null
         ],
         "yaxis": "y3"
        },
        {
         "legendgroup": "chart (2, 1)",
         "name": "chart (2, 1) 20190118",
         "type": "scatter",
         "uid": "ec4a4bfa-1df1-11ea-98a0-8c859025e7f9",
         "x": [
          -0.3,
          -0.25,
          -0.2,
          -0.15,
          -0.1,
          -0.05,
          0,
          0.05,
          0.1,
          0.15,
          0.2,
          0.25,
          0.3,
          0.35
         ],
         "xaxis": "x3",
         "y": [
          -0.2005,
          -0.2163,
          -0.2191,
          -0.1776,
          -0.1223,
          -0.0596,
          0,
          0.058,
          0.1072,
          0.1517,
          0.191,
          null,
          null,
          null
         ],
         "yaxis": "y3"
        },
        {
         "legendgroup": "chart (2, 2)",
         "name": "chart (2, 2) 20190122",
         "type": "scatter",
         "uid": "ec4b459e-1df1-11ea-97f4-8c859025e7f9",
         "x": [
          -0.3,
          -0.25,
          -0.2,
          -0.15,
          -0.1,
          -0.05,
          0,
          0.05,
          0.1,
          0.15,
          0.2,
          0.25,
          0.3,
          0.35
         ],
         "xaxis": "x4",
         "y": [
          -0.0007,
          -0.0507,
          -0.0921,
          -0.097,
          -0.0883,
          -0.0522,
          0,
          0.0513,
          0.0986,
          0.1415,
          0.1793,
          0.2154,
          0.2518,
          null
         ],
         "yaxis": "y4"
        },
        {
         "legendgroup": "chart (2, 2)",
         "name": "chart (2, 2) 20190123",
         "type": "scatter",
         "uid": "ec4bd5d8-1df1-11ea-a392-8c859025e7f9",
         "x": [
          -0.3,
          -0.25,
          -0.2,
          -0.15,
          -0.1,
          -0.05,
          0,
          0.05,
          0.1,
          0.15,
          0.2,
          0.25,
          0.3,
          0.35
         ],
         "xaxis": "x4",
         "y": [
          -0.0114,
          -0.0328,
          -0.0753,
          -0.1019,
          -0.092,
          -0.0523,
          0,
          0.0548,
          0.107,
          0.1559,
          0.1991,
          0.2357,
          0.27,
          0.3013
         ],
         "yaxis": "y4"
        },
        {
         "legendgroup": "chart (2, 2)",
         "name": "chart (2, 2) 20190124",
         "type": "scatter",
         "uid": "ec4c3a6e-1df1-11ea-bb06-8c859025e7f9",
         "x": [
          -0.3,
          -0.25,
          -0.2,
          -0.15,
          -0.1,
          -0.05,
          0,
          0.05,
          0.1,
          0.15,
          0.2,
          0.25,
          0.3,
          0.35
         ],
         "xaxis": "x4",
         "y": [
          -0.0592,
          -0.0788,
          -0.123,
          -0.123,
          -0.1004,
          -0.0552,
          0,
          0.0577,
          0.1094,
          0.1546,
          0.1984,
          0.2319,
          0.262,
          null
         ],
         "yaxis": "y4"
        },
        {
         "legendgroup": "chart (2, 2)",
         "name": "chart (2, 2) 20190125",
         "type": "scatter",
         "uid": "ec4ca18c-1df1-11ea-8f84-8c859025e7f9",
         "x": [
          -0.3,
          -0.25,
          -0.2,
          -0.15,
          -0.1,
          -0.05,
          0,
          0.05,
          0.1,
          0.15,
          0.2,
          0.25,
          0.3,
          0.35
         ],
         "xaxis": "x4",
         "y": [
          -0.0419,
          -0.0847,
          -0.1254,
          -0.1395,
          -0.1149,
          -0.0641,
          0,
          0.0623,
          0.1159,
          0.1623,
          0.2057,
          0.238,
          0.2717,
          null
         ],
         "yaxis": "y4"
        },
        {
         "legendgroup": "chart (2, 2)",
         "name": "chart (2, 2) 20190128",
         "type": "scatter",
         "uid": "ec4d04d0-1df1-11ea-9c4b-8c859025e7f9",
         "x": [
          -0.3,
          -0.25,
          -0.2,
          -0.15,
          -0.1,
          -0.05,
          0,
          0.05,
          0.1,
          0.15,
          0.2,
          0.25,
          0.3,
          0.35
         ],
         "xaxis": "x4",
         "y": [
          0.1488,
          0.1149,
          0.0646,
          0.015,
          -0.0267,
          -0.0338,
          0,
          0.0459,
          0.089,
          0.1305,
          0.1675,
          0.202,
          0.2388,
          0.2702
         ],
         "yaxis": "y4"
        }
       ],
       "layout": {
        "annotations": [
         {
          "font": {
           "size": 16
          },
          "showarrow": false,
          "text": "NGH19 20181228 - 20190104",
          "x": 0.2275,
          "xanchor": "center",
          "xref": "paper",
          "y": 1,
          "yanchor": "bottom",
          "yref": "paper"
         },
         {
          "font": {
           "size": 16
          },
          "showarrow": false,
          "text": "NGH19 20190107 - 20190111",
          "x": 0.7725,
          "xanchor": "center",
          "xref": "paper",
          "y": 1,
          "yanchor": "bottom",
          "yref": "paper"
         },
         {
          "font": {
           "size": 16
          },
          "showarrow": false,
          "text": "NGH19 20190114 - 20190118",
          "x": 0.2275,
          "xanchor": "center",
          "xref": "paper",
          "y": 0.445,
          "yanchor": "bottom",
          "yref": "paper"
         },
         {
          "font": {
           "size": 16
          },
          "showarrow": false,
          "text": "NGH19 20190122 - 20190128",
          "x": 0.7725,
          "xanchor": "center",
          "xref": "paper",
          "y": 0.445,
          "yanchor": "bottom",
          "yref": "paper"
         }
        ],
        "autosize": true,
        "bargap": 0.05,
        "font": {
         "family": "Open Sans, sans-serif"
        },
        "height": 800,
        "hovermode": "x",
        "margin": {
         "b": 55,
         "l": 45,
         "r": 15,
         "t": 50
        },
        "plot_bgcolor": "#EFECEA",
        "showlegend": true,
        "title": "Skew plots<br>",
        "width": 900,
        "xaxis": {
         "anchor": "y",
         "domain": [
          0,
          0.455
         ],
         "tickangle": 45,
         "ticktext": [
          -0.3,
          -0.25,
          -0.2,
          -0.15,
          -0.1,
          -0.05,
          0,
          0.05,
          0.1,
          0.15,
          0.2,
          0.25,
          0.3,
          0.35
         ],
         "tickvals": [
          -0.3,
          -0.25,
          -0.2,
          -0.15,
          -0.1,
          -0.05,
          0,
          0.05,
          0.1,
          0.15,
          0.2,
          0.25,
          0.3,
          0.35
         ],
         "type": "category"
        },
        "xaxis2": {
         "anchor": "y2",
         "domain": [
          0.545,
          1
         ],
         "tickangle": 45,
         "ticktext": [
          -0.3,
          -0.25,
          -0.2,
          -0.15,
          -0.1,
          -0.05,
          0,
          0.05,
          0.1,
          0.15,
          0.2,
          0.25,
          0.3,
          0.35
         ],
         "tickvals": [
          -0.3,
          -0.25,
          -0.2,
          -0.15,
          -0.1,
          -0.05,
          0,
          0.05,
          0.1,
          0.15,
          0.2,
          0.25,
          0.3,
          0.35
         ],
         "type": "category"
        },
        "xaxis3": {
         "anchor": "y3",
         "domain": [
          0,
          0.455
         ],
         "tickangle": 45,
         "ticktext": [
          -0.3,
          -0.25,
          -0.2,
          -0.15,
          -0.1,
          -0.05,
          0,
          0.05,
          0.1,
          0.15,
          0.2,
          0.25,
          0.3,
          0.35
         ],
         "tickvals": [
          -0.3,
          -0.25,
          -0.2,
          -0.15,
          -0.1,
          -0.05,
          0,
          0.05,
          0.1,
          0.15,
          0.2,
          0.25,
          0.3,
          0.35
         ],
         "type": "category"
        },
        "xaxis4": {
         "anchor": "y4",
         "domain": [
          0.545,
          1
         ],
         "tickangle": 45,
         "ticktext": [
          -0.3,
          -0.25,
          -0.2,
          -0.15,
          -0.1,
          -0.05,
          0,
          0.05,
          0.1,
          0.15,
          0.2,
          0.25,
          0.3,
          0.35
         ],
         "tickvals": [
          -0.3,
          -0.25,
          -0.2,
          -0.15,
          -0.1,
          -0.05,
          0,
          0.05,
          0.1,
          0.15,
          0.2,
          0.25,
          0.3,
          0.35
         ],
         "type": "category"
        },
        "yaxis": {
         "anchor": "x",
         "domain": [
          0.555,
          1
         ],
         "title": "vol skew"
        },
        "yaxis2": {
         "anchor": "x2",
         "domain": [
          0.555,
          1
         ],
         "title": "vol skew"
        },
        "yaxis3": {
         "anchor": "x3",
         "domain": [
          0,
          0.445
         ],
         "title": "vol skew"
        },
        "yaxis4": {
         "anchor": "x4",
         "domain": [
          0,
          0.445
         ],
         "title": "vol skew"
        }
       }
      },
      "text/html": [
       "<div id=\"db3a8a56-281e-4e63-ab61-3e7f6d023bcc\" style=\"height: 800px; width: 900px;\" class=\"plotly-graph-div\"></div><script type=\"text/javascript\">require([\"plotly\"], function(Plotly) { window.PLOTLYENV=window.PLOTLYENV || {};window.PLOTLYENV.BASE_URL=\"https://plot.ly\";Plotly.newPlot(\"db3a8a56-281e-4e63-ab61-3e7f6d023bcc\", [{\"legendgroup\": \"chart (1, 1)\", \"name\": \"chart (1, 1) 20181228\", \"uid\": \"ec42e3ec-1df1-11ea-b341-8c859025e7f9\", \"x\": [-0.3, -0.25, -0.2, -0.15, -0.1, -0.05, 0.0, 0.05, 0.1, 0.15, 0.2, 0.25, 0.3, 0.35], \"y\": [-0.0271, -0.0432, -0.0586, -0.0667, -0.0549, -0.0308, 0.0, 0.0308, 0.0568, 0.0783, 0.097, 0.1144, null, null], \"yaxis\": \"y\", \"type\": \"scatter\", \"xaxis\": \"x\"}, {\"legendgroup\": \"chart (1, 1)\", \"name\": \"chart (1, 1) 20181231\", \"uid\": \"ec434f4c-1df1-11ea-a4d9-8c859025e7f9\", \"x\": [-0.3, -0.25, -0.2, -0.15, -0.1, -0.05, 0.0, 0.05, 0.1, 0.15, 0.2, 0.25, 0.3, 0.35], \"y\": [null, 0.0045, -0.008, -0.016, -0.0221, -0.0171, 0.0, 0.0226, 0.0452, 0.0673, 0.085, 0.1028, 0.1218, 0.1392], \"yaxis\": \"y\", \"type\": \"scatter\", \"xaxis\": \"x\"}, {\"legendgroup\": \"chart (1, 1)\", \"name\": \"chart (1, 1) 20190102\", \"uid\": \"ec43e3dc-1df1-11ea-aba5-8c859025e7f9\", \"x\": [-0.3, -0.25, -0.2, -0.15, -0.1, -0.05, 0.0, 0.05, 0.1, 0.15, 0.2, 0.25, 0.3, 0.35], \"y\": [null, -0.0094, -0.0213, -0.0258, -0.0248, -0.0184, 0.0, 0.026, 0.0506, 0.0738, 0.0983, 0.1217, 0.1408, 0.159], \"yaxis\": \"y\", \"type\": \"scatter\", \"xaxis\": \"x\"}, {\"legendgroup\": \"chart (1, 1)\", \"name\": \"chart (1, 1) 20190103\", \"uid\": \"ec447e50-1df1-11ea-b85a-8c859025e7f9\", \"x\": [-0.3, -0.25, -0.2, -0.15, -0.1, -0.05, 0.0, 0.05, 0.1, 0.15, 0.2, 0.25, 0.3, 0.35], \"y\": [null, 0.02, -0.0038, -0.0166, -0.0204, -0.0156, 0.0, 0.0187, 0.0415, 0.0631, 0.0863, 0.1097, 0.1333, 0.1556], \"yaxis\": \"y\", \"type\": \"scatter\", \"xaxis\": \"x\"}, {\"legendgroup\": \"chart (1, 1)\", \"name\": \"chart (1, 1) 20190104\", \"uid\": \"ec450294-1df1-11ea-a8dc-8c859025e7f9\", \"x\": [-0.3, -0.25, -0.2, -0.15, -0.1, -0.05, 0.0, 0.05, 0.1, 0.15, 0.2, 0.25, 0.3, 0.35], \"y\": [0.0602, 0.0236, -0.0009, -0.0185, -0.0238, -0.0163, 0.0, 0.0243, 0.0478, 0.0741, 0.097, 0.1215, 0.1431, 0.167], \"yaxis\": \"y\", \"type\": \"scatter\", \"xaxis\": \"x\"}, {\"legendgroup\": \"chart (1, 2)\", \"name\": \"chart (1, 2) 20190107\", \"uid\": \"ec45f328-1df1-11ea-ab46-8c859025e7f9\", \"x\": [-0.3, -0.25, -0.2, -0.15, -0.1, -0.05, 0.0, 0.05, 0.1, 0.15, 0.2, 0.25, 0.3, 0.35], \"y\": [null, 0.0521, 0.0139, -0.0059, -0.0125, -0.0108, 0.0, 0.0193, 0.0422, 0.068, 0.0903, 0.114, 0.1376, 0.1624], \"yaxis\": \"y2\", \"type\": \"scatter\", \"xaxis\": \"x2\"}, {\"legendgroup\": \"chart (1, 2)\", \"name\": \"chart (1, 2) 20190108\", \"uid\": \"ec465d74-1df1-11ea-9049-8c859025e7f9\", \"x\": [-0.3, -0.25, -0.2, -0.15, -0.1, -0.05, 0.0, 0.05, 0.1, 0.15, 0.2, 0.25, 0.3, 0.35], \"y\": [null, 0.0542, 0.0213, -0.0011, -0.0131, -0.014, 0.0, 0.02, 0.0449, 0.0682, 0.0911, 0.1156, 0.1362, 0.1635], \"yaxis\": \"y2\", \"type\": \"scatter\", \"xaxis\": \"x2\"}, {\"legendgroup\": \"chart (1, 2)\", \"name\": \"chart (1, 2) 20190109\", \"uid\": \"ec46c53e-1df1-11ea-9063-8c859025e7f9\", \"x\": [-0.3, -0.25, -0.2, -0.15, -0.1, -0.05, 0.0, 0.05, 0.1, 0.15, 0.2, 0.25, 0.3, 0.35], \"y\": [null, 0.0533, 0.0258, 0.0031, -0.0095, -0.0089, 0.0, 0.0166, 0.036, 0.0588, 0.0836, null, 0.1309, 0.1541], \"yaxis\": \"y2\", \"type\": \"scatter\", \"xaxis\": \"x2\"}, {\"legendgroup\": \"chart (1, 2)\", \"name\": \"chart (1, 2) 20190110\", \"uid\": \"ec47263a-1df1-11ea-800b-8c859025e7f9\", \"x\": [-0.3, -0.25, -0.2, -0.15, -0.1, -0.05, 0.0, 0.05, 0.1, 0.15, 0.2, 0.25, 0.3, 0.35], \"y\": [null, 0.0705, 0.0329, 0.0108, -0.0051, -0.0094, 0.0, 0.0193, 0.0394, 0.0622, 0.0858, 0.1127, 0.1349, 0.1602], \"yaxis\": \"y2\", \"type\": \"scatter\", \"xaxis\": \"x2\"}, {\"legendgroup\": \"chart (1, 2)\", \"name\": \"chart (1, 2) 20190111\", \"uid\": \"ec478cd0-1df1-11ea-9e98-8c859025e7f9\", \"x\": [-0.3, -0.25, -0.2, -0.15, -0.1, -0.05, 0.0, 0.05, 0.1, 0.15, 0.2, 0.25, 0.3, 0.35], \"y\": [0.0919, 0.0415, 0.0159, -0.0101, -0.019, -0.0145, 0.0, 0.0223, 0.0476, 0.0734, 0.0946, 0.1196, 0.1424, 0.1611], \"yaxis\": \"y2\", \"type\": \"scatter\", \"xaxis\": \"x2\"}, {\"legendgroup\": \"chart (2, 1)\", \"name\": \"chart (2, 1) 20190114\", \"uid\": \"ec489936-1df1-11ea-a540-8c859025e7f9\", \"x\": [-0.3, -0.25, -0.2, -0.15, -0.1, -0.05, 0.0, 0.05, 0.1, 0.15, 0.2, 0.25, 0.3, 0.35], \"y\": [-0.1108, -0.1461, -0.1441, -0.1274, -0.0948, -0.0515, 0.0, 0.0454, 0.0862, 0.1223, 0.1561, null, null, null], \"yaxis\": \"y3\", \"type\": \"scatter\", \"xaxis\": \"x3\"}, {\"legendgroup\": \"chart (2, 1)\", \"name\": \"chart (2, 1) 20190115\", \"uid\": \"ec491352-1df1-11ea-b8e0-8c859025e7f9\", \"x\": [-0.3, -0.25, -0.2, -0.15, -0.1, -0.05, 0.0, 0.05, 0.1, 0.15, 0.2, 0.25, 0.3, 0.35], \"y\": [-0.1917, -0.2187, -0.2189, -0.169, -0.1121, -0.0561, 0.0, 0.0451, 0.0892, 0.1256, 0.1597, null, null, null], \"yaxis\": \"y3\", \"type\": \"scatter\", \"xaxis\": \"x3\"}, {\"legendgroup\": \"chart (2, 1)\", \"name\": \"chart (2, 1) 20190116\", \"uid\": \"ec4974fa-1df1-11ea-b684-8c859025e7f9\", \"x\": [-0.3, -0.25, -0.2, -0.15, -0.1, -0.05, 0.0, 0.05, 0.1, 0.15, 0.2, 0.25, 0.3, 0.35], \"y\": [-0.1887, -0.2209, -0.2225, -0.1826, -0.1223, -0.0615, 0.0, 0.0502, 0.0948, 0.1353, 0.1695, 0.1982, null, null], \"yaxis\": \"y3\", \"type\": \"scatter\", \"xaxis\": \"x3\"}, {\"legendgroup\": \"chart (2, 1)\", \"name\": \"chart (2, 1) 20190117\", \"uid\": \"ec49ddc8-1df1-11ea-908c-8c859025e7f9\", \"x\": [-0.3, -0.25, -0.2, -0.15, -0.1, -0.05, 0.0, 0.05, 0.1, 0.15, 0.2, 0.25, 0.3, 0.35], \"y\": [-0.1521, -0.1955, -0.2149, -0.1817, -0.1309, -0.0661, 0.0, 0.0569, 0.1075, 0.1514, 0.1926, 0.2292, null, null], \"yaxis\": \"y3\", \"type\": \"scatter\", \"xaxis\": \"x3\"}, {\"legendgroup\": \"chart (2, 1)\", \"name\": \"chart (2, 1) 20190118\", \"uid\": \"ec4a4bfa-1df1-11ea-98a0-8c859025e7f9\", \"x\": [-0.3, -0.25, -0.2, -0.15, -0.1, -0.05, 0.0, 0.05, 0.1, 0.15, 0.2, 0.25, 0.3, 0.35], \"y\": [-0.2005, -0.2163, -0.2191, -0.1776, -0.1223, -0.0596, 0.0, 0.058, 0.1072, 0.1517, 0.191, null, null, null], \"yaxis\": \"y3\", \"type\": \"scatter\", \"xaxis\": \"x3\"}, {\"legendgroup\": \"chart (2, 2)\", \"name\": \"chart (2, 2) 20190122\", \"uid\": \"ec4b459e-1df1-11ea-97f4-8c859025e7f9\", \"x\": [-0.3, -0.25, -0.2, -0.15, -0.1, -0.05, 0.0, 0.05, 0.1, 0.15, 0.2, 0.25, 0.3, 0.35], \"y\": [-0.0007, -0.0507, -0.0921, -0.097, -0.0883, -0.0522, 0.0, 0.0513, 0.0986, 0.1415, 0.1793, 0.2154, 0.2518, null], \"yaxis\": \"y4\", \"type\": \"scatter\", \"xaxis\": \"x4\"}, {\"legendgroup\": \"chart (2, 2)\", \"name\": \"chart (2, 2) 20190123\", \"uid\": \"ec4bd5d8-1df1-11ea-a392-8c859025e7f9\", \"x\": [-0.3, -0.25, -0.2, -0.15, -0.1, -0.05, 0.0, 0.05, 0.1, 0.15, 0.2, 0.25, 0.3, 0.35], \"y\": [-0.0114, -0.0328, -0.0753, -0.1019, -0.092, -0.0523, 0.0, 0.0548, 0.107, 0.1559, 0.1991, 0.2357, 0.27, 0.3013], \"yaxis\": \"y4\", \"type\": \"scatter\", \"xaxis\": \"x4\"}, {\"legendgroup\": \"chart (2, 2)\", \"name\": \"chart (2, 2) 20190124\", \"uid\": \"ec4c3a6e-1df1-11ea-bb06-8c859025e7f9\", \"x\": [-0.3, -0.25, -0.2, -0.15, -0.1, -0.05, 0.0, 0.05, 0.1, 0.15, 0.2, 0.25, 0.3, 0.35], \"y\": [-0.0592, -0.0788, -0.123, -0.123, -0.1004, -0.0552, 0.0, 0.0577, 0.1094, 0.1546, 0.1984, 0.2319, 0.262, null], \"yaxis\": \"y4\", \"type\": \"scatter\", \"xaxis\": \"x4\"}, {\"legendgroup\": \"chart (2, 2)\", \"name\": \"chart (2, 2) 20190125\", \"uid\": \"ec4ca18c-1df1-11ea-8f84-8c859025e7f9\", \"x\": [-0.3, -0.25, -0.2, -0.15, -0.1, -0.05, 0.0, 0.05, 0.1, 0.15, 0.2, 0.25, 0.3, 0.35], \"y\": [-0.0419, -0.0847, -0.1254, -0.1395, -0.1149, -0.0641, 0.0, 0.0623, 0.1159, 0.1623, 0.2057, 0.238, 0.2717, null], \"yaxis\": \"y4\", \"type\": \"scatter\", \"xaxis\": \"x4\"}, {\"legendgroup\": \"chart (2, 2)\", \"name\": \"chart (2, 2) 20190128\", \"uid\": \"ec4d04d0-1df1-11ea-9c4b-8c859025e7f9\", \"x\": [-0.3, -0.25, -0.2, -0.15, -0.1, -0.05, 0.0, 0.05, 0.1, 0.15, 0.2, 0.25, 0.3, 0.35], \"y\": [0.1488, 0.1149, 0.0646, 0.015, -0.0267, -0.0338, 0.0, 0.0459, 0.089, 0.1305, 0.1675, 0.202, 0.2388, 0.2702], \"yaxis\": \"y4\", \"type\": \"scatter\", \"xaxis\": \"x4\"}], {\"annotations\": [{\"font\": {\"size\": 16}, \"showarrow\": false, \"text\": \"NGH19 20181228 - 20190104\", \"x\": 0.2275, \"xanchor\": \"center\", \"xref\": \"paper\", \"y\": 1.0, \"yanchor\": \"bottom\", \"yref\": \"paper\"}, {\"font\": {\"size\": 16}, \"showarrow\": false, \"text\": \"NGH19 20190107 - 20190111\", \"x\": 0.7725, \"xanchor\": \"center\", \"xref\": \"paper\", \"y\": 1.0, \"yanchor\": \"bottom\", \"yref\": \"paper\"}, {\"font\": {\"size\": 16}, \"showarrow\": false, \"text\": \"NGH19 20190114 - 20190118\", \"x\": 0.2275, \"xanchor\": \"center\", \"xref\": \"paper\", \"y\": 0.445, \"yanchor\": \"bottom\", \"yref\": \"paper\"}, {\"font\": {\"size\": 16}, \"showarrow\": false, \"text\": \"NGH19 20190122 - 20190128\", \"x\": 0.7725, \"xanchor\": \"center\", \"xref\": \"paper\", \"y\": 0.445, \"yanchor\": \"bottom\", \"yref\": \"paper\"}], \"xaxis\": {\"anchor\": \"y\", \"domain\": [0.0, 0.455], \"tickangle\": 45, \"ticktext\": [-0.3, -0.25, -0.2, -0.15, -0.1, -0.05, 0.0, 0.05, 0.1, 0.15, 0.2, 0.25, 0.3, 0.35], \"tickvals\": [-0.3, -0.25, -0.2, -0.15, -0.1, -0.05, 0.0, 0.05, 0.1, 0.15, 0.2, 0.25, 0.3, 0.35], \"type\": \"category\"}, \"yaxis\": {\"anchor\": \"x\", \"domain\": [0.555, 1.0], \"title\": \"vol skew\"}, \"xaxis2\": {\"anchor\": \"y2\", \"domain\": [0.545, 1.0], \"tickangle\": 45, \"ticktext\": [-0.3, -0.25, -0.2, -0.15, -0.1, -0.05, 0.0, 0.05, 0.1, 0.15, 0.2, 0.25, 0.3, 0.35], \"tickvals\": [-0.3, -0.25, -0.2, -0.15, -0.1, -0.05, 0.0, 0.05, 0.1, 0.15, 0.2, 0.25, 0.3, 0.35], \"type\": \"category\"}, \"yaxis2\": {\"anchor\": \"x2\", \"domain\": [0.555, 1.0], \"title\": \"vol skew\"}, \"xaxis3\": {\"anchor\": \"y3\", \"domain\": [0.0, 0.455], \"tickangle\": 45, \"ticktext\": [-0.3, -0.25, -0.2, -0.15, -0.1, -0.05, 0.0, 0.05, 0.1, 0.15, 0.2, 0.25, 0.3, 0.35], \"tickvals\": [-0.3, -0.25, -0.2, -0.15, -0.1, -0.05, 0.0, 0.05, 0.1, 0.15, 0.2, 0.25, 0.3, 0.35], \"type\": \"category\"}, \"yaxis3\": {\"anchor\": \"x3\", \"domain\": [0.0, 0.445], \"title\": \"vol skew\"}, \"xaxis4\": {\"anchor\": \"y4\", \"domain\": [0.545, 1.0], \"tickangle\": 45, \"ticktext\": [-0.3, -0.25, -0.2, -0.15, -0.1, -0.05, 0.0, 0.05, 0.1, 0.15, 0.2, 0.25, 0.3, 0.35], \"tickvals\": [-0.3, -0.25, -0.2, -0.15, -0.1, -0.05, 0.0, 0.05, 0.1, 0.15, 0.2, 0.25, 0.3, 0.35], \"type\": \"category\"}, \"yaxis4\": {\"anchor\": \"x4\", \"domain\": [0.0, 0.445], \"title\": \"vol skew\"}, \"font\": {\"family\": \"Open Sans, sans-serif\"}, \"margin\": {\"b\": 55, \"l\": 45, \"r\": 15, \"t\": 50}, \"title\": \"Skew plots<br>\", \"showlegend\": true, \"hovermode\": \"x\", \"autosize\": true, \"width\": 900, \"height\": 800, \"plot_bgcolor\": \"#EFECEA\", \"bargap\": 0.05}, {\"showLink\": true, \"linkText\": \"Export to plot.ly\"})});</script>"
      ],
      "text/vnd.plotly.v1+html": [
       "<div id=\"db3a8a56-281e-4e63-ab61-3e7f6d023bcc\" style=\"height: 800px; width: 900px;\" class=\"plotly-graph-div\"></div><script type=\"text/javascript\">require([\"plotly\"], function(Plotly) { window.PLOTLYENV=window.PLOTLYENV || {};window.PLOTLYENV.BASE_URL=\"https://plot.ly\";Plotly.newPlot(\"db3a8a56-281e-4e63-ab61-3e7f6d023bcc\", [{\"legendgroup\": \"chart (1, 1)\", \"name\": \"chart (1, 1) 20181228\", \"uid\": \"ec42e3ec-1df1-11ea-b341-8c859025e7f9\", \"x\": [-0.3, -0.25, -0.2, -0.15, -0.1, -0.05, 0.0, 0.05, 0.1, 0.15, 0.2, 0.25, 0.3, 0.35], \"y\": [-0.0271, -0.0432, -0.0586, -0.0667, -0.0549, -0.0308, 0.0, 0.0308, 0.0568, 0.0783, 0.097, 0.1144, null, null], \"yaxis\": \"y\", \"type\": \"scatter\", \"xaxis\": \"x\"}, {\"legendgroup\": \"chart (1, 1)\", \"name\": \"chart (1, 1) 20181231\", \"uid\": \"ec434f4c-1df1-11ea-a4d9-8c859025e7f9\", \"x\": [-0.3, -0.25, -0.2, -0.15, -0.1, -0.05, 0.0, 0.05, 0.1, 0.15, 0.2, 0.25, 0.3, 0.35], \"y\": [null, 0.0045, -0.008, -0.016, -0.0221, -0.0171, 0.0, 0.0226, 0.0452, 0.0673, 0.085, 0.1028, 0.1218, 0.1392], \"yaxis\": \"y\", \"type\": \"scatter\", \"xaxis\": \"x\"}, {\"legendgroup\": \"chart (1, 1)\", \"name\": \"chart (1, 1) 20190102\", \"uid\": \"ec43e3dc-1df1-11ea-aba5-8c859025e7f9\", \"x\": [-0.3, -0.25, -0.2, -0.15, -0.1, -0.05, 0.0, 0.05, 0.1, 0.15, 0.2, 0.25, 0.3, 0.35], \"y\": [null, -0.0094, -0.0213, -0.0258, -0.0248, -0.0184, 0.0, 0.026, 0.0506, 0.0738, 0.0983, 0.1217, 0.1408, 0.159], \"yaxis\": \"y\", \"type\": \"scatter\", \"xaxis\": \"x\"}, {\"legendgroup\": \"chart (1, 1)\", \"name\": \"chart (1, 1) 20190103\", \"uid\": \"ec447e50-1df1-11ea-b85a-8c859025e7f9\", \"x\": [-0.3, -0.25, -0.2, -0.15, -0.1, -0.05, 0.0, 0.05, 0.1, 0.15, 0.2, 0.25, 0.3, 0.35], \"y\": [null, 0.02, -0.0038, -0.0166, -0.0204, -0.0156, 0.0, 0.0187, 0.0415, 0.0631, 0.0863, 0.1097, 0.1333, 0.1556], \"yaxis\": \"y\", \"type\": \"scatter\", \"xaxis\": \"x\"}, {\"legendgroup\": \"chart (1, 1)\", \"name\": \"chart (1, 1) 20190104\", \"uid\": \"ec450294-1df1-11ea-a8dc-8c859025e7f9\", \"x\": [-0.3, -0.25, -0.2, -0.15, -0.1, -0.05, 0.0, 0.05, 0.1, 0.15, 0.2, 0.25, 0.3, 0.35], \"y\": [0.0602, 0.0236, -0.0009, -0.0185, -0.0238, -0.0163, 0.0, 0.0243, 0.0478, 0.0741, 0.097, 0.1215, 0.1431, 0.167], \"yaxis\": \"y\", \"type\": \"scatter\", \"xaxis\": \"x\"}, {\"legendgroup\": \"chart (1, 2)\", \"name\": \"chart (1, 2) 20190107\", \"uid\": \"ec45f328-1df1-11ea-ab46-8c859025e7f9\", \"x\": [-0.3, -0.25, -0.2, -0.15, -0.1, -0.05, 0.0, 0.05, 0.1, 0.15, 0.2, 0.25, 0.3, 0.35], \"y\": [null, 0.0521, 0.0139, -0.0059, -0.0125, -0.0108, 0.0, 0.0193, 0.0422, 0.068, 0.0903, 0.114, 0.1376, 0.1624], \"yaxis\": \"y2\", \"type\": \"scatter\", \"xaxis\": \"x2\"}, {\"legendgroup\": \"chart (1, 2)\", \"name\": \"chart (1, 2) 20190108\", \"uid\": \"ec465d74-1df1-11ea-9049-8c859025e7f9\", \"x\": [-0.3, -0.25, -0.2, -0.15, -0.1, -0.05, 0.0, 0.05, 0.1, 0.15, 0.2, 0.25, 0.3, 0.35], \"y\": [null, 0.0542, 0.0213, -0.0011, -0.0131, -0.014, 0.0, 0.02, 0.0449, 0.0682, 0.0911, 0.1156, 0.1362, 0.1635], \"yaxis\": \"y2\", \"type\": \"scatter\", \"xaxis\": \"x2\"}, {\"legendgroup\": \"chart (1, 2)\", \"name\": \"chart (1, 2) 20190109\", \"uid\": \"ec46c53e-1df1-11ea-9063-8c859025e7f9\", \"x\": [-0.3, -0.25, -0.2, -0.15, -0.1, -0.05, 0.0, 0.05, 0.1, 0.15, 0.2, 0.25, 0.3, 0.35], \"y\": [null, 0.0533, 0.0258, 0.0031, -0.0095, -0.0089, 0.0, 0.0166, 0.036, 0.0588, 0.0836, null, 0.1309, 0.1541], \"yaxis\": \"y2\", \"type\": \"scatter\", \"xaxis\": \"x2\"}, {\"legendgroup\": \"chart (1, 2)\", \"name\": \"chart (1, 2) 20190110\", \"uid\": \"ec47263a-1df1-11ea-800b-8c859025e7f9\", \"x\": [-0.3, -0.25, -0.2, -0.15, -0.1, -0.05, 0.0, 0.05, 0.1, 0.15, 0.2, 0.25, 0.3, 0.35], \"y\": [null, 0.0705, 0.0329, 0.0108, -0.0051, -0.0094, 0.0, 0.0193, 0.0394, 0.0622, 0.0858, 0.1127, 0.1349, 0.1602], \"yaxis\": \"y2\", \"type\": \"scatter\", \"xaxis\": \"x2\"}, {\"legendgroup\": \"chart (1, 2)\", \"name\": \"chart (1, 2) 20190111\", \"uid\": \"ec478cd0-1df1-11ea-9e98-8c859025e7f9\", \"x\": [-0.3, -0.25, -0.2, -0.15, -0.1, -0.05, 0.0, 0.05, 0.1, 0.15, 0.2, 0.25, 0.3, 0.35], \"y\": [0.0919, 0.0415, 0.0159, -0.0101, -0.019, -0.0145, 0.0, 0.0223, 0.0476, 0.0734, 0.0946, 0.1196, 0.1424, 0.1611], \"yaxis\": \"y2\", \"type\": \"scatter\", \"xaxis\": \"x2\"}, {\"legendgroup\": \"chart (2, 1)\", \"name\": \"chart (2, 1) 20190114\", \"uid\": \"ec489936-1df1-11ea-a540-8c859025e7f9\", \"x\": [-0.3, -0.25, -0.2, -0.15, -0.1, -0.05, 0.0, 0.05, 0.1, 0.15, 0.2, 0.25, 0.3, 0.35], \"y\": [-0.1108, -0.1461, -0.1441, -0.1274, -0.0948, -0.0515, 0.0, 0.0454, 0.0862, 0.1223, 0.1561, null, null, null], \"yaxis\": \"y3\", \"type\": \"scatter\", \"xaxis\": \"x3\"}, {\"legendgroup\": \"chart (2, 1)\", \"name\": \"chart (2, 1) 20190115\", \"uid\": \"ec491352-1df1-11ea-b8e0-8c859025e7f9\", \"x\": [-0.3, -0.25, -0.2, -0.15, -0.1, -0.05, 0.0, 0.05, 0.1, 0.15, 0.2, 0.25, 0.3, 0.35], \"y\": [-0.1917, -0.2187, -0.2189, -0.169, -0.1121, -0.0561, 0.0, 0.0451, 0.0892, 0.1256, 0.1597, null, null, null], \"yaxis\": \"y3\", \"type\": \"scatter\", \"xaxis\": \"x3\"}, {\"legendgroup\": \"chart (2, 1)\", \"name\": \"chart (2, 1) 20190116\", \"uid\": \"ec4974fa-1df1-11ea-b684-8c859025e7f9\", \"x\": [-0.3, -0.25, -0.2, -0.15, -0.1, -0.05, 0.0, 0.05, 0.1, 0.15, 0.2, 0.25, 0.3, 0.35], \"y\": [-0.1887, -0.2209, -0.2225, -0.1826, -0.1223, -0.0615, 0.0, 0.0502, 0.0948, 0.1353, 0.1695, 0.1982, null, null], \"yaxis\": \"y3\", \"type\": \"scatter\", \"xaxis\": \"x3\"}, {\"legendgroup\": \"chart (2, 1)\", \"name\": \"chart (2, 1) 20190117\", \"uid\": \"ec49ddc8-1df1-11ea-908c-8c859025e7f9\", \"x\": [-0.3, -0.25, -0.2, -0.15, -0.1, -0.05, 0.0, 0.05, 0.1, 0.15, 0.2, 0.25, 0.3, 0.35], \"y\": [-0.1521, -0.1955, -0.2149, -0.1817, -0.1309, -0.0661, 0.0, 0.0569, 0.1075, 0.1514, 0.1926, 0.2292, null, null], \"yaxis\": \"y3\", \"type\": \"scatter\", \"xaxis\": \"x3\"}, {\"legendgroup\": \"chart (2, 1)\", \"name\": \"chart (2, 1) 20190118\", \"uid\": \"ec4a4bfa-1df1-11ea-98a0-8c859025e7f9\", \"x\": [-0.3, -0.25, -0.2, -0.15, -0.1, -0.05, 0.0, 0.05, 0.1, 0.15, 0.2, 0.25, 0.3, 0.35], \"y\": [-0.2005, -0.2163, -0.2191, -0.1776, -0.1223, -0.0596, 0.0, 0.058, 0.1072, 0.1517, 0.191, null, null, null], \"yaxis\": \"y3\", \"type\": \"scatter\", \"xaxis\": \"x3\"}, {\"legendgroup\": \"chart (2, 2)\", \"name\": \"chart (2, 2) 20190122\", \"uid\": \"ec4b459e-1df1-11ea-97f4-8c859025e7f9\", \"x\": [-0.3, -0.25, -0.2, -0.15, -0.1, -0.05, 0.0, 0.05, 0.1, 0.15, 0.2, 0.25, 0.3, 0.35], \"y\": [-0.0007, -0.0507, -0.0921, -0.097, -0.0883, -0.0522, 0.0, 0.0513, 0.0986, 0.1415, 0.1793, 0.2154, 0.2518, null], \"yaxis\": \"y4\", \"type\": \"scatter\", \"xaxis\": \"x4\"}, {\"legendgroup\": \"chart (2, 2)\", \"name\": \"chart (2, 2) 20190123\", \"uid\": \"ec4bd5d8-1df1-11ea-a392-8c859025e7f9\", \"x\": [-0.3, -0.25, -0.2, -0.15, -0.1, -0.05, 0.0, 0.05, 0.1, 0.15, 0.2, 0.25, 0.3, 0.35], \"y\": [-0.0114, -0.0328, -0.0753, -0.1019, -0.092, -0.0523, 0.0, 0.0548, 0.107, 0.1559, 0.1991, 0.2357, 0.27, 0.3013], \"yaxis\": \"y4\", \"type\": \"scatter\", \"xaxis\": \"x4\"}, {\"legendgroup\": \"chart (2, 2)\", \"name\": \"chart (2, 2) 20190124\", \"uid\": \"ec4c3a6e-1df1-11ea-bb06-8c859025e7f9\", \"x\": [-0.3, -0.25, -0.2, -0.15, -0.1, -0.05, 0.0, 0.05, 0.1, 0.15, 0.2, 0.25, 0.3, 0.35], \"y\": [-0.0592, -0.0788, -0.123, -0.123, -0.1004, -0.0552, 0.0, 0.0577, 0.1094, 0.1546, 0.1984, 0.2319, 0.262, null], \"yaxis\": \"y4\", \"type\": \"scatter\", \"xaxis\": \"x4\"}, {\"legendgroup\": \"chart (2, 2)\", \"name\": \"chart (2, 2) 20190125\", \"uid\": \"ec4ca18c-1df1-11ea-8f84-8c859025e7f9\", \"x\": [-0.3, -0.25, -0.2, -0.15, -0.1, -0.05, 0.0, 0.05, 0.1, 0.15, 0.2, 0.25, 0.3, 0.35], \"y\": [-0.0419, -0.0847, -0.1254, -0.1395, -0.1149, -0.0641, 0.0, 0.0623, 0.1159, 0.1623, 0.2057, 0.238, 0.2717, null], \"yaxis\": \"y4\", \"type\": \"scatter\", \"xaxis\": \"x4\"}, {\"legendgroup\": \"chart (2, 2)\", \"name\": \"chart (2, 2) 20190128\", \"uid\": \"ec4d04d0-1df1-11ea-9c4b-8c859025e7f9\", \"x\": [-0.3, -0.25, -0.2, -0.15, -0.1, -0.05, 0.0, 0.05, 0.1, 0.15, 0.2, 0.25, 0.3, 0.35], \"y\": [0.1488, 0.1149, 0.0646, 0.015, -0.0267, -0.0338, 0.0, 0.0459, 0.089, 0.1305, 0.1675, 0.202, 0.2388, 0.2702], \"yaxis\": \"y4\", \"type\": \"scatter\", \"xaxis\": \"x4\"}], {\"annotations\": [{\"font\": {\"size\": 16}, \"showarrow\": false, \"text\": \"NGH19 20181228 - 20190104\", \"x\": 0.2275, \"xanchor\": \"center\", \"xref\": \"paper\", \"y\": 1.0, \"yanchor\": \"bottom\", \"yref\": \"paper\"}, {\"font\": {\"size\": 16}, \"showarrow\": false, \"text\": \"NGH19 20190107 - 20190111\", \"x\": 0.7725, \"xanchor\": \"center\", \"xref\": \"paper\", \"y\": 1.0, \"yanchor\": \"bottom\", \"yref\": \"paper\"}, {\"font\": {\"size\": 16}, \"showarrow\": false, \"text\": \"NGH19 20190114 - 20190118\", \"x\": 0.2275, \"xanchor\": \"center\", \"xref\": \"paper\", \"y\": 0.445, \"yanchor\": \"bottom\", \"yref\": \"paper\"}, {\"font\": {\"size\": 16}, \"showarrow\": false, \"text\": \"NGH19 20190122 - 20190128\", \"x\": 0.7725, \"xanchor\": \"center\", \"xref\": \"paper\", \"y\": 0.445, \"yanchor\": \"bottom\", \"yref\": \"paper\"}], \"xaxis\": {\"anchor\": \"y\", \"domain\": [0.0, 0.455], \"tickangle\": 45, \"ticktext\": [-0.3, -0.25, -0.2, -0.15, -0.1, -0.05, 0.0, 0.05, 0.1, 0.15, 0.2, 0.25, 0.3, 0.35], \"tickvals\": [-0.3, -0.25, -0.2, -0.15, -0.1, -0.05, 0.0, 0.05, 0.1, 0.15, 0.2, 0.25, 0.3, 0.35], \"type\": \"category\"}, \"yaxis\": {\"anchor\": \"x\", \"domain\": [0.555, 1.0], \"title\": \"vol skew\"}, \"xaxis2\": {\"anchor\": \"y2\", \"domain\": [0.545, 1.0], \"tickangle\": 45, \"ticktext\": [-0.3, -0.25, -0.2, -0.15, -0.1, -0.05, 0.0, 0.05, 0.1, 0.15, 0.2, 0.25, 0.3, 0.35], \"tickvals\": [-0.3, -0.25, -0.2, -0.15, -0.1, -0.05, 0.0, 0.05, 0.1, 0.15, 0.2, 0.25, 0.3, 0.35], \"type\": \"category\"}, \"yaxis2\": {\"anchor\": \"x2\", \"domain\": [0.555, 1.0], \"title\": \"vol skew\"}, \"xaxis3\": {\"anchor\": \"y3\", \"domain\": [0.0, 0.455], \"tickangle\": 45, \"ticktext\": [-0.3, -0.25, -0.2, -0.15, -0.1, -0.05, 0.0, 0.05, 0.1, 0.15, 0.2, 0.25, 0.3, 0.35], \"tickvals\": [-0.3, -0.25, -0.2, -0.15, -0.1, -0.05, 0.0, 0.05, 0.1, 0.15, 0.2, 0.25, 0.3, 0.35], \"type\": \"category\"}, \"yaxis3\": {\"anchor\": \"x3\", \"domain\": [0.0, 0.445], \"title\": \"vol skew\"}, \"xaxis4\": {\"anchor\": \"y4\", \"domain\": [0.545, 1.0], \"tickangle\": 45, \"ticktext\": [-0.3, -0.25, -0.2, -0.15, -0.1, -0.05, 0.0, 0.05, 0.1, 0.15, 0.2, 0.25, 0.3, 0.35], \"tickvals\": [-0.3, -0.25, -0.2, -0.15, -0.1, -0.05, 0.0, 0.05, 0.1, 0.15, 0.2, 0.25, 0.3, 0.35], \"type\": \"category\"}, \"yaxis4\": {\"anchor\": \"x4\", \"domain\": [0.0, 0.445], \"title\": \"vol skew\"}, \"font\": {\"family\": \"Open Sans, sans-serif\"}, \"margin\": {\"b\": 55, \"l\": 45, \"r\": 15, \"t\": 50}, \"title\": \"Skew plots<br>\", \"showlegend\": true, \"hovermode\": \"x\", \"autosize\": true, \"width\": 900, \"height\": 800, \"plot_bgcolor\": \"#EFECEA\", \"bargap\": 0.05}, {\"showLink\": true, \"linkText\": \"Export to plot.ly\"})});</script>"
      ]
     },
     "metadata": {},
     "output_type": "display_data"
    },
    {
     "data": {
      "application/vnd.plotly.v1+json": {
       "data": [
        {
         "legendgroup": "chart (1, 1)",
         "name": "chart (1, 1) 20190129",
         "type": "scatter",
         "uid": "ec57582c-1df1-11ea-84f3-8c859025e7f9",
         "x": [
          -0.3,
          -0.25,
          -0.2,
          -0.15,
          -0.1,
          -0.05,
          0,
          0.05,
          0.1,
          0.15,
          0.2,
          0.25,
          0.3,
          0.35
         ],
         "xaxis": "x",
         "y": [
          0.1687,
          0.1416,
          0.0826,
          0.0289,
          -0.0109,
          -0.0196,
          0,
          0.033,
          0.0682,
          0.1002,
          0.1331,
          0.1635,
          0.1988,
          0.2377
         ],
         "yaxis": "y"
        }
       ],
       "layout": {
        "annotations": [
         {
          "font": {
           "size": 16
          },
          "showarrow": false,
          "text": "NGH19 20190129 - 20190129",
          "x": 0.2275,
          "xanchor": "center",
          "xref": "paper",
          "y": 1,
          "yanchor": "bottom",
          "yref": "paper"
         }
        ],
        "autosize": true,
        "bargap": 0.05,
        "font": {
         "family": "Open Sans, sans-serif"
        },
        "height": 800,
        "hovermode": "x",
        "margin": {
         "b": 55,
         "l": 45,
         "r": 15,
         "t": 50
        },
        "plot_bgcolor": "#EFECEA",
        "showlegend": true,
        "title": "Skew plots<br>",
        "width": 900,
        "xaxis": {
         "anchor": "y",
         "domain": [
          0,
          0.455
         ],
         "tickangle": 45,
         "ticktext": [
          -0.3,
          -0.25,
          -0.2,
          -0.15,
          -0.1,
          -0.05,
          0,
          0.05,
          0.1,
          0.15,
          0.2,
          0.25,
          0.3,
          0.35
         ],
         "tickvals": [
          -0.3,
          -0.25,
          -0.2,
          -0.15,
          -0.1,
          -0.05,
          0,
          0.05,
          0.1,
          0.15,
          0.2,
          0.25,
          0.3,
          0.35
         ],
         "type": "category"
        },
        "xaxis2": {
         "anchor": "y2",
         "domain": [
          0.545,
          1
         ]
        },
        "xaxis3": {
         "anchor": "y3",
         "domain": [
          0,
          0.455
         ]
        },
        "xaxis4": {
         "anchor": "y4",
         "domain": [
          0.545,
          1
         ]
        },
        "yaxis": {
         "anchor": "x",
         "domain": [
          0.555,
          1
         ],
         "title": "vol skew"
        },
        "yaxis2": {
         "anchor": "x2",
         "domain": [
          0.555,
          1
         ]
        },
        "yaxis3": {
         "anchor": "x3",
         "domain": [
          0,
          0.445
         ]
        },
        "yaxis4": {
         "anchor": "x4",
         "domain": [
          0,
          0.445
         ]
        }
       }
      },
      "text/html": [
       "<div id=\"bfd8ff95-bd12-4906-9f3a-fb6473132c92\" style=\"height: 800px; width: 900px;\" class=\"plotly-graph-div\"></div><script type=\"text/javascript\">require([\"plotly\"], function(Plotly) { window.PLOTLYENV=window.PLOTLYENV || {};window.PLOTLYENV.BASE_URL=\"https://plot.ly\";Plotly.newPlot(\"bfd8ff95-bd12-4906-9f3a-fb6473132c92\", [{\"legendgroup\": \"chart (1, 1)\", \"name\": \"chart (1, 1) 20190129\", \"uid\": \"ec57582c-1df1-11ea-84f3-8c859025e7f9\", \"x\": [-0.3, -0.25, -0.2, -0.15, -0.1, -0.05, 0.0, 0.05, 0.1, 0.15, 0.2, 0.25, 0.3, 0.35], \"y\": [0.1687, 0.1416, 0.0826, 0.0289, -0.0109, -0.0196, 0.0, 0.033, 0.0682, 0.1002, 0.1331, 0.1635, 0.1988, 0.2377], \"yaxis\": \"y\", \"type\": \"scatter\", \"xaxis\": \"x\"}], {\"annotations\": [{\"font\": {\"size\": 16}, \"showarrow\": false, \"text\": \"NGH19 20190129 - 20190129\", \"x\": 0.2275, \"xanchor\": \"center\", \"xref\": \"paper\", \"y\": 1.0, \"yanchor\": \"bottom\", \"yref\": \"paper\"}], \"xaxis\": {\"anchor\": \"y\", \"domain\": [0.0, 0.455], \"tickangle\": 45, \"ticktext\": [-0.3, -0.25, -0.2, -0.15, -0.1, -0.05, 0.0, 0.05, 0.1, 0.15, 0.2, 0.25, 0.3, 0.35], \"tickvals\": [-0.3, -0.25, -0.2, -0.15, -0.1, -0.05, 0.0, 0.05, 0.1, 0.15, 0.2, 0.25, 0.3, 0.35], \"type\": \"category\"}, \"yaxis\": {\"anchor\": \"x\", \"domain\": [0.555, 1.0], \"title\": \"vol skew\"}, \"xaxis2\": {\"anchor\": \"y2\", \"domain\": [0.545, 1.0]}, \"yaxis2\": {\"anchor\": \"x2\", \"domain\": [0.555, 1.0]}, \"xaxis3\": {\"anchor\": \"y3\", \"domain\": [0.0, 0.455]}, \"yaxis3\": {\"anchor\": \"x3\", \"domain\": [0.0, 0.445]}, \"xaxis4\": {\"anchor\": \"y4\", \"domain\": [0.545, 1.0]}, \"yaxis4\": {\"anchor\": \"x4\", \"domain\": [0.0, 0.445]}, \"font\": {\"family\": \"Open Sans, sans-serif\"}, \"margin\": {\"b\": 55, \"l\": 45, \"r\": 15, \"t\": 50}, \"title\": \"Skew plots<br>\", \"showlegend\": true, \"hovermode\": \"x\", \"autosize\": true, \"width\": 900, \"height\": 800, \"plot_bgcolor\": \"#EFECEA\", \"bargap\": 0.05}, {\"showLink\": true, \"linkText\": \"Export to plot.ly\"})});</script>"
      ],
      "text/vnd.plotly.v1+html": [
       "<div id=\"bfd8ff95-bd12-4906-9f3a-fb6473132c92\" style=\"height: 800px; width: 900px;\" class=\"plotly-graph-div\"></div><script type=\"text/javascript\">require([\"plotly\"], function(Plotly) { window.PLOTLYENV=window.PLOTLYENV || {};window.PLOTLYENV.BASE_URL=\"https://plot.ly\";Plotly.newPlot(\"bfd8ff95-bd12-4906-9f3a-fb6473132c92\", [{\"legendgroup\": \"chart (1, 1)\", \"name\": \"chart (1, 1) 20190129\", \"uid\": \"ec57582c-1df1-11ea-84f3-8c859025e7f9\", \"x\": [-0.3, -0.25, -0.2, -0.15, -0.1, -0.05, 0.0, 0.05, 0.1, 0.15, 0.2, 0.25, 0.3, 0.35], \"y\": [0.1687, 0.1416, 0.0826, 0.0289, -0.0109, -0.0196, 0.0, 0.033, 0.0682, 0.1002, 0.1331, 0.1635, 0.1988, 0.2377], \"yaxis\": \"y\", \"type\": \"scatter\", \"xaxis\": \"x\"}], {\"annotations\": [{\"font\": {\"size\": 16}, \"showarrow\": false, \"text\": \"NGH19 20190129 - 20190129\", \"x\": 0.2275, \"xanchor\": \"center\", \"xref\": \"paper\", \"y\": 1.0, \"yanchor\": \"bottom\", \"yref\": \"paper\"}], \"xaxis\": {\"anchor\": \"y\", \"domain\": [0.0, 0.455], \"tickangle\": 45, \"ticktext\": [-0.3, -0.25, -0.2, -0.15, -0.1, -0.05, 0.0, 0.05, 0.1, 0.15, 0.2, 0.25, 0.3, 0.35], \"tickvals\": [-0.3, -0.25, -0.2, -0.15, -0.1, -0.05, 0.0, 0.05, 0.1, 0.15, 0.2, 0.25, 0.3, 0.35], \"type\": \"category\"}, \"yaxis\": {\"anchor\": \"x\", \"domain\": [0.555, 1.0], \"title\": \"vol skew\"}, \"xaxis2\": {\"anchor\": \"y2\", \"domain\": [0.545, 1.0]}, \"yaxis2\": {\"anchor\": \"x2\", \"domain\": [0.555, 1.0]}, \"xaxis3\": {\"anchor\": \"y3\", \"domain\": [0.0, 0.455]}, \"yaxis3\": {\"anchor\": \"x3\", \"domain\": [0.0, 0.445]}, \"xaxis4\": {\"anchor\": \"y4\", \"domain\": [0.545, 1.0]}, \"yaxis4\": {\"anchor\": \"x4\", \"domain\": [0.0, 0.445]}, \"font\": {\"family\": \"Open Sans, sans-serif\"}, \"margin\": {\"b\": 55, \"l\": 45, \"r\": 15, \"t\": 50}, \"title\": \"Skew plots<br>\", \"showlegend\": true, \"hovermode\": \"x\", \"autosize\": true, \"width\": 900, \"height\": 800, \"plot_bgcolor\": \"#EFECEA\", \"bargap\": 0.05}, {\"showLink\": true, \"linkText\": \"Export to plot.ly\"})});</script>"
      ]
     },
     "metadata": {},
     "output_type": "display_data"
    },
    {
     "data": {
      "application/vnd.plotly.v1+json": {
       "data": [
        {
         "legendgroup": "chart (1, 1)",
         "name": "chart (1, 1) 20190130",
         "type": "scatter",
         "uid": "ec9da692-1df1-11ea-a2ba-8c859025e7f9",
         "x": [
          -0.25,
          -0.2,
          -0.15,
          -0.1,
          -0.05,
          0,
          0.05,
          0.1,
          0.15,
          0.2,
          0.25,
          0.3,
          0.35
         ],
         "xaxis": "x",
         "y": [
          0.1502,
          0.1013,
          0.0627,
          0.032,
          0.0096,
          0,
          -0.0043,
          -0.0058,
          0.002,
          0.0255,
          0.045,
          0.0883,
          0.1122
         ],
         "yaxis": "y"
        },
        {
         "legendgroup": "chart (1, 1)",
         "name": "chart (1, 1) 20190131",
         "type": "scatter",
         "uid": "ec9e0736-1df1-11ea-a2a0-8c859025e7f9",
         "x": [
          -0.25,
          -0.2,
          -0.15,
          -0.1,
          -0.05,
          0,
          0.05,
          0.1,
          0.15,
          0.2,
          0.25,
          0.3,
          0.35
         ],
         "xaxis": "x",
         "y": [
          0.1524,
          0.1039,
          0.0586,
          0.0329,
          0.0115,
          0,
          -0.0013,
          0.0041,
          0.0217,
          0.0424,
          0.0658,
          0.0979,
          0.1213
         ],
         "yaxis": "y"
        },
        {
         "legendgroup": "chart (1, 1)",
         "name": "chart (1, 1) 20190201",
         "type": "scatter",
         "uid": "ec9e6762-1df1-11ea-8dc8-8c859025e7f9",
         "x": [
          -0.25,
          -0.2,
          -0.15,
          -0.1,
          -0.05,
          0,
          0.05,
          0.1,
          0.15,
          0.2,
          0.25,
          0.3,
          0.35
         ],
         "xaxis": "x",
         "y": [
          0.1223,
          0.0813,
          0.0442,
          0.0231,
          0.01,
          0,
          -0.0029,
          0.0038,
          0.0178,
          0.0357,
          0.0588,
          0.0847,
          0.109
         ],
         "yaxis": "y"
        },
        {
         "legendgroup": "chart (1, 1)",
         "name": "chart (1, 1) 20190204",
         "type": "scatter",
         "uid": "ec9ecd9c-1df1-11ea-a27f-8c859025e7f9",
         "x": [
          -0.25,
          -0.2,
          -0.15,
          -0.1,
          -0.05,
          0,
          0.05,
          0.1,
          0.15,
          0.2,
          0.25,
          0.3,
          0.35
         ],
         "xaxis": "x",
         "y": [
          null,
          0.0917,
          0.0572,
          0.0286,
          0.0107,
          0,
          -0.0022,
          -0.001,
          0.0108,
          0.0292,
          0.06,
          0.0742,
          0.1082
         ],
         "yaxis": "y"
        },
        {
         "legendgroup": "chart (1, 1)",
         "name": "chart (1, 1) 20190205",
         "type": "scatter",
         "uid": "ec9f2c9c-1df1-11ea-b9d5-8c859025e7f9",
         "x": [
          -0.25,
          -0.2,
          -0.15,
          -0.1,
          -0.05,
          0,
          0.05,
          0.1,
          0.15,
          0.2,
          0.25,
          0.3,
          0.35
         ],
         "xaxis": "x",
         "y": [
          null,
          null,
          null,
          null,
          null,
          0,
          null,
          null,
          null,
          null,
          null,
          null,
          null
         ],
         "yaxis": "y"
        },
        {
         "legendgroup": "chart (1, 2)",
         "name": "chart (1, 2) 20190206",
         "type": "scatter",
         "uid": "eca085d8-1df1-11ea-a462-8c859025e7f9",
         "x": [
          -0.25,
          -0.2,
          -0.15,
          -0.1,
          -0.05,
          0,
          0.05,
          0.1,
          0.15,
          0.2,
          0.25,
          0.3,
          0.35
         ],
         "xaxis": "x2",
         "y": [
          null,
          0.0858,
          0.0522,
          0.0265,
          0.011,
          0,
          -0.0007,
          0.0061,
          0.0202,
          0.0359,
          0.0597,
          0.0911,
          0.0979
         ],
         "yaxis": "y2"
        },
        {
         "legendgroup": "chart (1, 2)",
         "name": "chart (1, 2) 20190207",
         "type": "scatter",
         "uid": "eca0fa7a-1df1-11ea-8cf9-8c859025e7f9",
         "x": [
          -0.25,
          -0.2,
          -0.15,
          -0.1,
          -0.05,
          0,
          0.05,
          0.1,
          0.15,
          0.2,
          0.25,
          0.3,
          0.35
         ],
         "xaxis": "x2",
         "y": [
          null,
          0.0987,
          0.0553,
          0.0287,
          0.0119,
          0,
          -0.0052,
          -0.0047,
          0.0053,
          0.0235,
          0.0529,
          0.0773,
          0.1043
         ],
         "yaxis": "y2"
        },
        {
         "legendgroup": "chart (1, 2)",
         "name": "chart (1, 2) 20190208",
         "type": "scatter",
         "uid": "eca16c3a-1df1-11ea-951a-8c859025e7f9",
         "x": [
          -0.25,
          -0.2,
          -0.15,
          -0.1,
          -0.05,
          0,
          0.05,
          0.1,
          0.15,
          0.2,
          0.25,
          0.3,
          0.35
         ],
         "xaxis": "x2",
         "y": [
          null,
          0.0954,
          0.0578,
          0.0334,
          0.0144,
          0,
          -0.0058,
          -0.0054,
          0.0007,
          0.016,
          0.0429,
          0.068,
          0.0733
         ],
         "yaxis": "y2"
        },
        {
         "legendgroup": "chart (1, 2)",
         "name": "chart (1, 2) 20190211",
         "type": "scatter",
         "uid": "eca1cfc6-1df1-11ea-ab0f-8c859025e7f9",
         "x": [
          -0.25,
          -0.2,
          -0.15,
          -0.1,
          -0.05,
          0,
          0.05,
          0.1,
          0.15,
          0.2,
          0.25,
          0.3,
          0.35
         ],
         "xaxis": "x2",
         "y": [
          null,
          0.1015,
          0.0531,
          0.0275,
          0.0114,
          0,
          -0.0017,
          -0.001,
          0.0049,
          0.0176,
          0.0402,
          0.0751,
          0.0823
         ],
         "yaxis": "y2"
        },
        {
         "legendgroup": "chart (1, 2)",
         "name": "chart (1, 2) 20190212",
         "type": "scatter",
         "uid": "eca22f78-1df1-11ea-9774-8c859025e7f9",
         "x": [
          -0.25,
          -0.2,
          -0.15,
          -0.1,
          -0.05,
          0,
          0.05,
          0.1,
          0.15,
          0.2,
          0.25,
          0.3,
          0.35
         ],
         "xaxis": "x2",
         "y": [
          0.1481,
          0.0937,
          0.0477,
          0.0169,
          0.0044,
          0,
          -0.0051,
          -0.0034,
          0.0072,
          0.0238,
          0.0459,
          0.0862,
          0.0935
         ],
         "yaxis": "y2"
        },
        {
         "legendgroup": "chart (2, 1)",
         "name": "chart (2, 1) 20190213",
         "type": "scatter",
         "uid": "eca3101e-1df1-11ea-872d-8c859025e7f9",
         "x": [
          -0.25,
          -0.2,
          -0.15,
          -0.1,
          -0.05,
          0,
          0.05,
          0.1,
          0.15,
          0.2,
          0.25,
          0.3,
          0.35
         ],
         "xaxis": "x3",
         "y": [
          null,
          0.0762,
          0.0438,
          0.0174,
          0.0072,
          0,
          -0.0016,
          0.0041,
          0.0106,
          0.0288,
          0.0423,
          0.0563,
          0.0989
         ],
         "yaxis": "y3"
        },
        {
         "legendgroup": "chart (2, 1)",
         "name": "chart (2, 1) 20190214",
         "type": "scatter",
         "uid": "eca36f78-1df1-11ea-ac9d-8c859025e7f9",
         "x": [
          -0.25,
          -0.2,
          -0.15,
          -0.1,
          -0.05,
          0,
          0.05,
          0.1,
          0.15,
          0.2,
          0.25,
          0.3,
          0.35
         ],
         "xaxis": "x3",
         "y": [
          null,
          0.0783,
          0.0412,
          0.017,
          0.0075,
          0,
          -0.001,
          0.0009,
          0.0137,
          0.0236,
          0.0623,
          0.0827,
          0.1237
         ],
         "yaxis": "y3"
        },
        {
         "legendgroup": "chart (2, 1)",
         "name": "chart (2, 1) 20190215",
         "type": "scatter",
         "uid": "eca3cfcc-1df1-11ea-9786-8c859025e7f9",
         "x": [
          -0.25,
          -0.2,
          -0.15,
          -0.1,
          -0.05,
          0,
          0.05,
          0.1,
          0.15,
          0.2,
          0.25,
          0.3,
          0.35
         ],
         "xaxis": "x3",
         "y": [
          null,
          0.1014,
          0.0593,
          0.0263,
          0.0088,
          0,
          -0.0002,
          0.0058,
          0.0195,
          0.0394,
          0.0667,
          0.0805,
          0.123
         ],
         "yaxis": "y3"
        },
        {
         "legendgroup": "chart (2, 1)",
         "name": "chart (2, 1) 20190219",
         "type": "scatter",
         "uid": "eca44010-1df1-11ea-a459-8c859025e7f9",
         "x": [
          -0.25,
          -0.2,
          -0.15,
          -0.1,
          -0.05,
          0,
          0.05,
          0.1,
          0.15,
          0.2,
          0.25,
          0.3,
          0.35
         ],
         "xaxis": "x3",
         "y": [
          0.176,
          0.1077,
          0.0528,
          0.0247,
          0.0052,
          0,
          -0.0012,
          0.0021,
          0.0129,
          0.0394,
          0.0598,
          0.1091,
          0.1529
         ],
         "yaxis": "y3"
        },
        {
         "legendgroup": "chart (2, 1)",
         "name": "chart (2, 1) 20190220",
         "type": "scatter",
         "uid": "eca4aba4-1df1-11ea-8f7a-8c859025e7f9",
         "x": [
          -0.25,
          -0.2,
          -0.15,
          -0.1,
          -0.05,
          0,
          0.05,
          0.1,
          0.15,
          0.2,
          0.25,
          0.3,
          0.35
         ],
         "xaxis": "x3",
         "y": [
          0.1615,
          0.1087,
          0.0536,
          0.0242,
          0.0085,
          0,
          0.0006,
          0.0118,
          0.0249,
          0.045,
          0.0748,
          0.115,
          0.1596
         ],
         "yaxis": "y3"
        },
        {
         "legendgroup": "chart (2, 2)",
         "name": "chart (2, 2) 20190221",
         "type": "scatter",
         "uid": "eca59034-1df1-11ea-912f-8c859025e7f9",
         "x": [
          -0.25,
          -0.2,
          -0.15,
          -0.1,
          -0.05,
          0,
          0.05,
          0.1,
          0.15,
          0.2,
          0.25,
          0.3,
          0.35
         ],
         "xaxis": "x4",
         "y": [
          0.1827,
          0.1205,
          0.073,
          0.0208,
          0.004,
          0,
          0.003,
          0.0198,
          0.0307,
          0.0694,
          0.0905,
          0.138,
          0.1831
         ],
         "yaxis": "y4"
        },
        {
         "legendgroup": "chart (2, 2)",
         "name": "chart (2, 2) 20190222",
         "type": "scatter",
         "uid": "eca5f9dc-1df1-11ea-80b7-8c859025e7f9",
         "x": [
          -0.25,
          -0.2,
          -0.15,
          -0.1,
          -0.05,
          0,
          0.05,
          0.1,
          0.15,
          0.2,
          0.25,
          0.3,
          0.35
         ],
         "xaxis": "x4",
         "y": [
          0.1917,
          0.1371,
          0.0645,
          0.0241,
          0.0025,
          0,
          0.0003,
          0.0104,
          0.032,
          0.0774,
          0.0982,
          0.1461,
          0.1919
         ],
         "yaxis": "y4"
        },
        {
         "legendgroup": "chart (2, 2)",
         "name": "chart (2, 2) 20190225",
         "type": "scatter",
         "uid": "eca66340-1df1-11ea-b75c-8c859025e7f9",
         "x": [
          -0.25,
          -0.2,
          -0.15,
          -0.1,
          -0.05,
          0,
          0.05,
          0.1,
          0.15,
          0.2,
          0.25,
          0.3,
          0.35
         ],
         "xaxis": "x4",
         "y": [
          0.2021,
          0.1504,
          0.0782,
          0.0303,
          0.0085,
          0,
          0.004,
          0.0198,
          0.0507,
          0.0984,
          0.1348,
          0.1915,
          0.2426
         ],
         "yaxis": "y4"
        },
        {
         "legendgroup": "chart (2, 2)",
         "name": "chart (2, 2) 20190226",
         "type": "scatter",
         "uid": "eca6da64-1df1-11ea-9aa6-8c859025e7f9",
         "x": [
          -0.25,
          -0.2,
          -0.15,
          -0.1,
          -0.05,
          0,
          0.05,
          0.1,
          0.15,
          0.2,
          0.25,
          0.3,
          0.35
         ],
         "xaxis": "x4",
         "y": [
          0.2224,
          0.1291,
          0.0851,
          0.0304,
          0.0044,
          0,
          0.016,
          0.0378,
          0.0762,
          0.1172,
          0.1564,
          0.2118,
          0.2676
         ],
         "yaxis": "y4"
        }
       ],
       "layout": {
        "annotations": [
         {
          "font": {
           "size": 16
          },
          "showarrow": false,
          "text": "NGJ19 20190130 - 20190205",
          "x": 0.2275,
          "xanchor": "center",
          "xref": "paper",
          "y": 1,
          "yanchor": "bottom",
          "yref": "paper"
         },
         {
          "font": {
           "size": 16
          },
          "showarrow": false,
          "text": "NGJ19 20190206 - 20190212",
          "x": 0.7725,
          "xanchor": "center",
          "xref": "paper",
          "y": 1,
          "yanchor": "bottom",
          "yref": "paper"
         },
         {
          "font": {
           "size": 16
          },
          "showarrow": false,
          "text": "NGJ19 20190213 - 20190220",
          "x": 0.2275,
          "xanchor": "center",
          "xref": "paper",
          "y": 0.445,
          "yanchor": "bottom",
          "yref": "paper"
         },
         {
          "font": {
           "size": 16
          },
          "showarrow": false,
          "text": "NGJ19 20190221 - 20190226",
          "x": 0.7725,
          "xanchor": "center",
          "xref": "paper",
          "y": 0.445,
          "yanchor": "bottom",
          "yref": "paper"
         }
        ],
        "autosize": true,
        "bargap": 0.05,
        "font": {
         "family": "Open Sans, sans-serif"
        },
        "height": 800,
        "hovermode": "x",
        "margin": {
         "b": 55,
         "l": 45,
         "r": 15,
         "t": 50
        },
        "plot_bgcolor": "#EFECEA",
        "showlegend": true,
        "title": "Skew plots<br>",
        "width": 900,
        "xaxis": {
         "anchor": "y",
         "domain": [
          0,
          0.455
         ],
         "tickangle": 45,
         "ticktext": [
          -0.25,
          -0.2,
          -0.15,
          -0.1,
          -0.05,
          0,
          0.05,
          0.1,
          0.15,
          0.2,
          0.25,
          0.3,
          0.35
         ],
         "tickvals": [
          -0.25,
          -0.2,
          -0.15,
          -0.1,
          -0.05,
          0,
          0.05,
          0.1,
          0.15,
          0.2,
          0.25,
          0.3,
          0.35
         ],
         "type": "category"
        },
        "xaxis2": {
         "anchor": "y2",
         "domain": [
          0.545,
          1
         ],
         "tickangle": 45,
         "ticktext": [
          -0.25,
          -0.2,
          -0.15,
          -0.1,
          -0.05,
          0,
          0.05,
          0.1,
          0.15,
          0.2,
          0.25,
          0.3,
          0.35
         ],
         "tickvals": [
          -0.25,
          -0.2,
          -0.15,
          -0.1,
          -0.05,
          0,
          0.05,
          0.1,
          0.15,
          0.2,
          0.25,
          0.3,
          0.35
         ],
         "type": "category"
        },
        "xaxis3": {
         "anchor": "y3",
         "domain": [
          0,
          0.455
         ],
         "tickangle": 45,
         "ticktext": [
          -0.25,
          -0.2,
          -0.15,
          -0.1,
          -0.05,
          0,
          0.05,
          0.1,
          0.15,
          0.2,
          0.25,
          0.3,
          0.35
         ],
         "tickvals": [
          -0.25,
          -0.2,
          -0.15,
          -0.1,
          -0.05,
          0,
          0.05,
          0.1,
          0.15,
          0.2,
          0.25,
          0.3,
          0.35
         ],
         "type": "category"
        },
        "xaxis4": {
         "anchor": "y4",
         "domain": [
          0.545,
          1
         ],
         "tickangle": 45,
         "ticktext": [
          -0.25,
          -0.2,
          -0.15,
          -0.1,
          -0.05,
          0,
          0.05,
          0.1,
          0.15,
          0.2,
          0.25,
          0.3,
          0.35
         ],
         "tickvals": [
          -0.25,
          -0.2,
          -0.15,
          -0.1,
          -0.05,
          0,
          0.05,
          0.1,
          0.15,
          0.2,
          0.25,
          0.3,
          0.35
         ],
         "type": "category"
        },
        "yaxis": {
         "anchor": "x",
         "domain": [
          0.555,
          1
         ],
         "title": "vol skew"
        },
        "yaxis2": {
         "anchor": "x2",
         "domain": [
          0.555,
          1
         ],
         "title": "vol skew"
        },
        "yaxis3": {
         "anchor": "x3",
         "domain": [
          0,
          0.445
         ],
         "title": "vol skew"
        },
        "yaxis4": {
         "anchor": "x4",
         "domain": [
          0,
          0.445
         ],
         "title": "vol skew"
        }
       }
      },
      "text/html": [
       "<div id=\"981b9377-d381-4bfd-a1ab-43ebf77b4248\" style=\"height: 800px; width: 900px;\" class=\"plotly-graph-div\"></div><script type=\"text/javascript\">require([\"plotly\"], function(Plotly) { window.PLOTLYENV=window.PLOTLYENV || {};window.PLOTLYENV.BASE_URL=\"https://plot.ly\";Plotly.newPlot(\"981b9377-d381-4bfd-a1ab-43ebf77b4248\", [{\"legendgroup\": \"chart (1, 1)\", \"name\": \"chart (1, 1) 20190130\", \"uid\": \"ec9da692-1df1-11ea-a2ba-8c859025e7f9\", \"x\": [-0.25, -0.2, -0.15, -0.1, -0.05, 0.0, 0.05, 0.1, 0.15, 0.2, 0.25, 0.3, 0.35], \"y\": [0.1502, 0.1013, 0.0627, 0.032, 0.0096, 0.0, -0.0043, -0.0058, 0.002, 0.0255, 0.045, 0.0883, 0.1122], \"yaxis\": \"y\", \"type\": \"scatter\", \"xaxis\": \"x\"}, {\"legendgroup\": \"chart (1, 1)\", \"name\": \"chart (1, 1) 20190131\", \"uid\": \"ec9e0736-1df1-11ea-a2a0-8c859025e7f9\", \"x\": [-0.25, -0.2, -0.15, -0.1, -0.05, 0.0, 0.05, 0.1, 0.15, 0.2, 0.25, 0.3, 0.35], \"y\": [0.1524, 0.1039, 0.0586, 0.0329, 0.0115, 0.0, -0.0013, 0.0041, 0.0217, 0.0424, 0.0658, 0.0979, 0.1213], \"yaxis\": \"y\", \"type\": \"scatter\", \"xaxis\": \"x\"}, {\"legendgroup\": \"chart (1, 1)\", \"name\": \"chart (1, 1) 20190201\", \"uid\": \"ec9e6762-1df1-11ea-8dc8-8c859025e7f9\", \"x\": [-0.25, -0.2, -0.15, -0.1, -0.05, 0.0, 0.05, 0.1, 0.15, 0.2, 0.25, 0.3, 0.35], \"y\": [0.1223, 0.0813, 0.0442, 0.0231, 0.01, 0.0, -0.0029, 0.0038, 0.0178, 0.0357, 0.0588, 0.0847, 0.109], \"yaxis\": \"y\", \"type\": \"scatter\", \"xaxis\": \"x\"}, {\"legendgroup\": \"chart (1, 1)\", \"name\": \"chart (1, 1) 20190204\", \"uid\": \"ec9ecd9c-1df1-11ea-a27f-8c859025e7f9\", \"x\": [-0.25, -0.2, -0.15, -0.1, -0.05, 0.0, 0.05, 0.1, 0.15, 0.2, 0.25, 0.3, 0.35], \"y\": [null, 0.0917, 0.0572, 0.0286, 0.0107, 0.0, -0.0022, -0.001, 0.0108, 0.0292, 0.06, 0.0742, 0.1082], \"yaxis\": \"y\", \"type\": \"scatter\", \"xaxis\": \"x\"}, {\"legendgroup\": \"chart (1, 1)\", \"name\": \"chart (1, 1) 20190205\", \"uid\": \"ec9f2c9c-1df1-11ea-b9d5-8c859025e7f9\", \"x\": [-0.25, -0.2, -0.15, -0.1, -0.05, 0.0, 0.05, 0.1, 0.15, 0.2, 0.25, 0.3, 0.35], \"y\": [null, null, null, null, null, 0.0, null, null, null, null, null, null, null], \"yaxis\": \"y\", \"type\": \"scatter\", \"xaxis\": \"x\"}, {\"legendgroup\": \"chart (1, 2)\", \"name\": \"chart (1, 2) 20190206\", \"uid\": \"eca085d8-1df1-11ea-a462-8c859025e7f9\", \"x\": [-0.25, -0.2, -0.15, -0.1, -0.05, 0.0, 0.05, 0.1, 0.15, 0.2, 0.25, 0.3, 0.35], \"y\": [null, 0.0858, 0.0522, 0.0265, 0.011, 0.0, -0.0007, 0.0061, 0.0202, 0.0359, 0.0597, 0.0911, 0.0979], \"yaxis\": \"y2\", \"type\": \"scatter\", \"xaxis\": \"x2\"}, {\"legendgroup\": \"chart (1, 2)\", \"name\": \"chart (1, 2) 20190207\", \"uid\": \"eca0fa7a-1df1-11ea-8cf9-8c859025e7f9\", \"x\": [-0.25, -0.2, -0.15, -0.1, -0.05, 0.0, 0.05, 0.1, 0.15, 0.2, 0.25, 0.3, 0.35], \"y\": [null, 0.0987, 0.0553, 0.0287, 0.0119, 0.0, -0.0052, -0.0047, 0.0053, 0.0235, 0.0529, 0.0773, 0.1043], \"yaxis\": \"y2\", \"type\": \"scatter\", \"xaxis\": \"x2\"}, {\"legendgroup\": \"chart (1, 2)\", \"name\": \"chart (1, 2) 20190208\", \"uid\": \"eca16c3a-1df1-11ea-951a-8c859025e7f9\", \"x\": [-0.25, -0.2, -0.15, -0.1, -0.05, 0.0, 0.05, 0.1, 0.15, 0.2, 0.25, 0.3, 0.35], \"y\": [null, 0.0954, 0.0578, 0.0334, 0.0144, 0.0, -0.0058, -0.0054, 0.0007, 0.016, 0.0429, 0.068, 0.0733], \"yaxis\": \"y2\", \"type\": \"scatter\", \"xaxis\": \"x2\"}, {\"legendgroup\": \"chart (1, 2)\", \"name\": \"chart (1, 2) 20190211\", \"uid\": \"eca1cfc6-1df1-11ea-ab0f-8c859025e7f9\", \"x\": [-0.25, -0.2, -0.15, -0.1, -0.05, 0.0, 0.05, 0.1, 0.15, 0.2, 0.25, 0.3, 0.35], \"y\": [null, 0.1015, 0.0531, 0.0275, 0.0114, 0.0, -0.0017, -0.001, 0.0049, 0.0176, 0.0402, 0.0751, 0.0823], \"yaxis\": \"y2\", \"type\": \"scatter\", \"xaxis\": \"x2\"}, {\"legendgroup\": \"chart (1, 2)\", \"name\": \"chart (1, 2) 20190212\", \"uid\": \"eca22f78-1df1-11ea-9774-8c859025e7f9\", \"x\": [-0.25, -0.2, -0.15, -0.1, -0.05, 0.0, 0.05, 0.1, 0.15, 0.2, 0.25, 0.3, 0.35], \"y\": [0.1481, 0.0937, 0.0477, 0.0169, 0.0044, 0.0, -0.0051, -0.0034, 0.0072, 0.0238, 0.0459, 0.0862, 0.0935], \"yaxis\": \"y2\", \"type\": \"scatter\", \"xaxis\": \"x2\"}, {\"legendgroup\": \"chart (2, 1)\", \"name\": \"chart (2, 1) 20190213\", \"uid\": \"eca3101e-1df1-11ea-872d-8c859025e7f9\", \"x\": [-0.25, -0.2, -0.15, -0.1, -0.05, 0.0, 0.05, 0.1, 0.15, 0.2, 0.25, 0.3, 0.35], \"y\": [null, 0.0762, 0.0438, 0.0174, 0.0072, 0.0, -0.0016, 0.0041, 0.0106, 0.0288, 0.0423, 0.0563, 0.0989], \"yaxis\": \"y3\", \"type\": \"scatter\", \"xaxis\": \"x3\"}, {\"legendgroup\": \"chart (2, 1)\", \"name\": \"chart (2, 1) 20190214\", \"uid\": \"eca36f78-1df1-11ea-ac9d-8c859025e7f9\", \"x\": [-0.25, -0.2, -0.15, -0.1, -0.05, 0.0, 0.05, 0.1, 0.15, 0.2, 0.25, 0.3, 0.35], \"y\": [null, 0.0783, 0.0412, 0.017, 0.0075, 0.0, -0.001, 0.0009, 0.0137, 0.0236, 0.0623, 0.0827, 0.1237], \"yaxis\": \"y3\", \"type\": \"scatter\", \"xaxis\": \"x3\"}, {\"legendgroup\": \"chart (2, 1)\", \"name\": \"chart (2, 1) 20190215\", \"uid\": \"eca3cfcc-1df1-11ea-9786-8c859025e7f9\", \"x\": [-0.25, -0.2, -0.15, -0.1, -0.05, 0.0, 0.05, 0.1, 0.15, 0.2, 0.25, 0.3, 0.35], \"y\": [null, 0.1014, 0.0593, 0.0263, 0.0088, 0.0, -0.0002, 0.0058, 0.0195, 0.0394, 0.0667, 0.0805, 0.123], \"yaxis\": \"y3\", \"type\": \"scatter\", \"xaxis\": \"x3\"}, {\"legendgroup\": \"chart (2, 1)\", \"name\": \"chart (2, 1) 20190219\", \"uid\": \"eca44010-1df1-11ea-a459-8c859025e7f9\", \"x\": [-0.25, -0.2, -0.15, -0.1, -0.05, 0.0, 0.05, 0.1, 0.15, 0.2, 0.25, 0.3, 0.35], \"y\": [0.176, 0.1077, 0.0528, 0.0247, 0.0052, 0.0, -0.0012, 0.0021, 0.0129, 0.0394, 0.0598, 0.1091, 0.1529], \"yaxis\": \"y3\", \"type\": \"scatter\", \"xaxis\": \"x3\"}, {\"legendgroup\": \"chart (2, 1)\", \"name\": \"chart (2, 1) 20190220\", \"uid\": \"eca4aba4-1df1-11ea-8f7a-8c859025e7f9\", \"x\": [-0.25, -0.2, -0.15, -0.1, -0.05, 0.0, 0.05, 0.1, 0.15, 0.2, 0.25, 0.3, 0.35], \"y\": [0.1615, 0.1087, 0.0536, 0.0242, 0.0085, 0.0, 0.0006, 0.0118, 0.0249, 0.045, 0.0748, 0.115, 0.1596], \"yaxis\": \"y3\", \"type\": \"scatter\", \"xaxis\": \"x3\"}, {\"legendgroup\": \"chart (2, 2)\", \"name\": \"chart (2, 2) 20190221\", \"uid\": \"eca59034-1df1-11ea-912f-8c859025e7f9\", \"x\": [-0.25, -0.2, -0.15, -0.1, -0.05, 0.0, 0.05, 0.1, 0.15, 0.2, 0.25, 0.3, 0.35], \"y\": [0.1827, 0.1205, 0.073, 0.0208, 0.004, 0.0, 0.003, 0.0198, 0.0307, 0.0694, 0.0905, 0.138, 0.1831], \"yaxis\": \"y4\", \"type\": \"scatter\", \"xaxis\": \"x4\"}, {\"legendgroup\": \"chart (2, 2)\", \"name\": \"chart (2, 2) 20190222\", \"uid\": \"eca5f9dc-1df1-11ea-80b7-8c859025e7f9\", \"x\": [-0.25, -0.2, -0.15, -0.1, -0.05, 0.0, 0.05, 0.1, 0.15, 0.2, 0.25, 0.3, 0.35], \"y\": [0.1917, 0.1371, 0.0645, 0.0241, 0.0025, 0.0, 0.0003, 0.0104, 0.032, 0.0774, 0.0982, 0.1461, 0.1919], \"yaxis\": \"y4\", \"type\": \"scatter\", \"xaxis\": \"x4\"}, {\"legendgroup\": \"chart (2, 2)\", \"name\": \"chart (2, 2) 20190225\", \"uid\": \"eca66340-1df1-11ea-b75c-8c859025e7f9\", \"x\": [-0.25, -0.2, -0.15, -0.1, -0.05, 0.0, 0.05, 0.1, 0.15, 0.2, 0.25, 0.3, 0.35], \"y\": [0.2021, 0.1504, 0.0782, 0.0303, 0.0085, 0.0, 0.004, 0.0198, 0.0507, 0.0984, 0.1348, 0.1915, 0.2426], \"yaxis\": \"y4\", \"type\": \"scatter\", \"xaxis\": \"x4\"}, {\"legendgroup\": \"chart (2, 2)\", \"name\": \"chart (2, 2) 20190226\", \"uid\": \"eca6da64-1df1-11ea-9aa6-8c859025e7f9\", \"x\": [-0.25, -0.2, -0.15, -0.1, -0.05, 0.0, 0.05, 0.1, 0.15, 0.2, 0.25, 0.3, 0.35], \"y\": [0.2224, 0.1291, 0.0851, 0.0304, 0.0044, 0.0, 0.016, 0.0378, 0.0762, 0.1172, 0.1564, 0.2118, 0.2676], \"yaxis\": \"y4\", \"type\": \"scatter\", \"xaxis\": \"x4\"}], {\"annotations\": [{\"font\": {\"size\": 16}, \"showarrow\": false, \"text\": \"NGJ19 20190130 - 20190205\", \"x\": 0.2275, \"xanchor\": \"center\", \"xref\": \"paper\", \"y\": 1.0, \"yanchor\": \"bottom\", \"yref\": \"paper\"}, {\"font\": {\"size\": 16}, \"showarrow\": false, \"text\": \"NGJ19 20190206 - 20190212\", \"x\": 0.7725, \"xanchor\": \"center\", \"xref\": \"paper\", \"y\": 1.0, \"yanchor\": \"bottom\", \"yref\": \"paper\"}, {\"font\": {\"size\": 16}, \"showarrow\": false, \"text\": \"NGJ19 20190213 - 20190220\", \"x\": 0.2275, \"xanchor\": \"center\", \"xref\": \"paper\", \"y\": 0.445, \"yanchor\": \"bottom\", \"yref\": \"paper\"}, {\"font\": {\"size\": 16}, \"showarrow\": false, \"text\": \"NGJ19 20190221 - 20190226\", \"x\": 0.7725, \"xanchor\": \"center\", \"xref\": \"paper\", \"y\": 0.445, \"yanchor\": \"bottom\", \"yref\": \"paper\"}], \"xaxis\": {\"anchor\": \"y\", \"domain\": [0.0, 0.455], \"tickangle\": 45, \"ticktext\": [-0.25, -0.2, -0.15, -0.1, -0.05, 0.0, 0.05, 0.1, 0.15, 0.2, 0.25, 0.3, 0.35], \"tickvals\": [-0.25, -0.2, -0.15, -0.1, -0.05, 0.0, 0.05, 0.1, 0.15, 0.2, 0.25, 0.3, 0.35], \"type\": \"category\"}, \"yaxis\": {\"anchor\": \"x\", \"domain\": [0.555, 1.0], \"title\": \"vol skew\"}, \"xaxis2\": {\"anchor\": \"y2\", \"domain\": [0.545, 1.0], \"tickangle\": 45, \"ticktext\": [-0.25, -0.2, -0.15, -0.1, -0.05, 0.0, 0.05, 0.1, 0.15, 0.2, 0.25, 0.3, 0.35], \"tickvals\": [-0.25, -0.2, -0.15, -0.1, -0.05, 0.0, 0.05, 0.1, 0.15, 0.2, 0.25, 0.3, 0.35], \"type\": \"category\"}, \"yaxis2\": {\"anchor\": \"x2\", \"domain\": [0.555, 1.0], \"title\": \"vol skew\"}, \"xaxis3\": {\"anchor\": \"y3\", \"domain\": [0.0, 0.455], \"tickangle\": 45, \"ticktext\": [-0.25, -0.2, -0.15, -0.1, -0.05, 0.0, 0.05, 0.1, 0.15, 0.2, 0.25, 0.3, 0.35], \"tickvals\": [-0.25, -0.2, -0.15, -0.1, -0.05, 0.0, 0.05, 0.1, 0.15, 0.2, 0.25, 0.3, 0.35], \"type\": \"category\"}, \"yaxis3\": {\"anchor\": \"x3\", \"domain\": [0.0, 0.445], \"title\": \"vol skew\"}, \"xaxis4\": {\"anchor\": \"y4\", \"domain\": [0.545, 1.0], \"tickangle\": 45, \"ticktext\": [-0.25, -0.2, -0.15, -0.1, -0.05, 0.0, 0.05, 0.1, 0.15, 0.2, 0.25, 0.3, 0.35], \"tickvals\": [-0.25, -0.2, -0.15, -0.1, -0.05, 0.0, 0.05, 0.1, 0.15, 0.2, 0.25, 0.3, 0.35], \"type\": \"category\"}, \"yaxis4\": {\"anchor\": \"x4\", \"domain\": [0.0, 0.445], \"title\": \"vol skew\"}, \"font\": {\"family\": \"Open Sans, sans-serif\"}, \"margin\": {\"b\": 55, \"l\": 45, \"r\": 15, \"t\": 50}, \"title\": \"Skew plots<br>\", \"showlegend\": true, \"hovermode\": \"x\", \"autosize\": true, \"width\": 900, \"height\": 800, \"plot_bgcolor\": \"#EFECEA\", \"bargap\": 0.05}, {\"showLink\": true, \"linkText\": \"Export to plot.ly\"})});</script>"
      ],
      "text/vnd.plotly.v1+html": [
       "<div id=\"981b9377-d381-4bfd-a1ab-43ebf77b4248\" style=\"height: 800px; width: 900px;\" class=\"plotly-graph-div\"></div><script type=\"text/javascript\">require([\"plotly\"], function(Plotly) { window.PLOTLYENV=window.PLOTLYENV || {};window.PLOTLYENV.BASE_URL=\"https://plot.ly\";Plotly.newPlot(\"981b9377-d381-4bfd-a1ab-43ebf77b4248\", [{\"legendgroup\": \"chart (1, 1)\", \"name\": \"chart (1, 1) 20190130\", \"uid\": \"ec9da692-1df1-11ea-a2ba-8c859025e7f9\", \"x\": [-0.25, -0.2, -0.15, -0.1, -0.05, 0.0, 0.05, 0.1, 0.15, 0.2, 0.25, 0.3, 0.35], \"y\": [0.1502, 0.1013, 0.0627, 0.032, 0.0096, 0.0, -0.0043, -0.0058, 0.002, 0.0255, 0.045, 0.0883, 0.1122], \"yaxis\": \"y\", \"type\": \"scatter\", \"xaxis\": \"x\"}, {\"legendgroup\": \"chart (1, 1)\", \"name\": \"chart (1, 1) 20190131\", \"uid\": \"ec9e0736-1df1-11ea-a2a0-8c859025e7f9\", \"x\": [-0.25, -0.2, -0.15, -0.1, -0.05, 0.0, 0.05, 0.1, 0.15, 0.2, 0.25, 0.3, 0.35], \"y\": [0.1524, 0.1039, 0.0586, 0.0329, 0.0115, 0.0, -0.0013, 0.0041, 0.0217, 0.0424, 0.0658, 0.0979, 0.1213], \"yaxis\": \"y\", \"type\": \"scatter\", \"xaxis\": \"x\"}, {\"legendgroup\": \"chart (1, 1)\", \"name\": \"chart (1, 1) 20190201\", \"uid\": \"ec9e6762-1df1-11ea-8dc8-8c859025e7f9\", \"x\": [-0.25, -0.2, -0.15, -0.1, -0.05, 0.0, 0.05, 0.1, 0.15, 0.2, 0.25, 0.3, 0.35], \"y\": [0.1223, 0.0813, 0.0442, 0.0231, 0.01, 0.0, -0.0029, 0.0038, 0.0178, 0.0357, 0.0588, 0.0847, 0.109], \"yaxis\": \"y\", \"type\": \"scatter\", \"xaxis\": \"x\"}, {\"legendgroup\": \"chart (1, 1)\", \"name\": \"chart (1, 1) 20190204\", \"uid\": \"ec9ecd9c-1df1-11ea-a27f-8c859025e7f9\", \"x\": [-0.25, -0.2, -0.15, -0.1, -0.05, 0.0, 0.05, 0.1, 0.15, 0.2, 0.25, 0.3, 0.35], \"y\": [null, 0.0917, 0.0572, 0.0286, 0.0107, 0.0, -0.0022, -0.001, 0.0108, 0.0292, 0.06, 0.0742, 0.1082], \"yaxis\": \"y\", \"type\": \"scatter\", \"xaxis\": \"x\"}, {\"legendgroup\": \"chart (1, 1)\", \"name\": \"chart (1, 1) 20190205\", \"uid\": \"ec9f2c9c-1df1-11ea-b9d5-8c859025e7f9\", \"x\": [-0.25, -0.2, -0.15, -0.1, -0.05, 0.0, 0.05, 0.1, 0.15, 0.2, 0.25, 0.3, 0.35], \"y\": [null, null, null, null, null, 0.0, null, null, null, null, null, null, null], \"yaxis\": \"y\", \"type\": \"scatter\", \"xaxis\": \"x\"}, {\"legendgroup\": \"chart (1, 2)\", \"name\": \"chart (1, 2) 20190206\", \"uid\": \"eca085d8-1df1-11ea-a462-8c859025e7f9\", \"x\": [-0.25, -0.2, -0.15, -0.1, -0.05, 0.0, 0.05, 0.1, 0.15, 0.2, 0.25, 0.3, 0.35], \"y\": [null, 0.0858, 0.0522, 0.0265, 0.011, 0.0, -0.0007, 0.0061, 0.0202, 0.0359, 0.0597, 0.0911, 0.0979], \"yaxis\": \"y2\", \"type\": \"scatter\", \"xaxis\": \"x2\"}, {\"legendgroup\": \"chart (1, 2)\", \"name\": \"chart (1, 2) 20190207\", \"uid\": \"eca0fa7a-1df1-11ea-8cf9-8c859025e7f9\", \"x\": [-0.25, -0.2, -0.15, -0.1, -0.05, 0.0, 0.05, 0.1, 0.15, 0.2, 0.25, 0.3, 0.35], \"y\": [null, 0.0987, 0.0553, 0.0287, 0.0119, 0.0, -0.0052, -0.0047, 0.0053, 0.0235, 0.0529, 0.0773, 0.1043], \"yaxis\": \"y2\", \"type\": \"scatter\", \"xaxis\": \"x2\"}, {\"legendgroup\": \"chart (1, 2)\", \"name\": \"chart (1, 2) 20190208\", \"uid\": \"eca16c3a-1df1-11ea-951a-8c859025e7f9\", \"x\": [-0.25, -0.2, -0.15, -0.1, -0.05, 0.0, 0.05, 0.1, 0.15, 0.2, 0.25, 0.3, 0.35], \"y\": [null, 0.0954, 0.0578, 0.0334, 0.0144, 0.0, -0.0058, -0.0054, 0.0007, 0.016, 0.0429, 0.068, 0.0733], \"yaxis\": \"y2\", \"type\": \"scatter\", \"xaxis\": \"x2\"}, {\"legendgroup\": \"chart (1, 2)\", \"name\": \"chart (1, 2) 20190211\", \"uid\": \"eca1cfc6-1df1-11ea-ab0f-8c859025e7f9\", \"x\": [-0.25, -0.2, -0.15, -0.1, -0.05, 0.0, 0.05, 0.1, 0.15, 0.2, 0.25, 0.3, 0.35], \"y\": [null, 0.1015, 0.0531, 0.0275, 0.0114, 0.0, -0.0017, -0.001, 0.0049, 0.0176, 0.0402, 0.0751, 0.0823], \"yaxis\": \"y2\", \"type\": \"scatter\", \"xaxis\": \"x2\"}, {\"legendgroup\": \"chart (1, 2)\", \"name\": \"chart (1, 2) 20190212\", \"uid\": \"eca22f78-1df1-11ea-9774-8c859025e7f9\", \"x\": [-0.25, -0.2, -0.15, -0.1, -0.05, 0.0, 0.05, 0.1, 0.15, 0.2, 0.25, 0.3, 0.35], \"y\": [0.1481, 0.0937, 0.0477, 0.0169, 0.0044, 0.0, -0.0051, -0.0034, 0.0072, 0.0238, 0.0459, 0.0862, 0.0935], \"yaxis\": \"y2\", \"type\": \"scatter\", \"xaxis\": \"x2\"}, {\"legendgroup\": \"chart (2, 1)\", \"name\": \"chart (2, 1) 20190213\", \"uid\": \"eca3101e-1df1-11ea-872d-8c859025e7f9\", \"x\": [-0.25, -0.2, -0.15, -0.1, -0.05, 0.0, 0.05, 0.1, 0.15, 0.2, 0.25, 0.3, 0.35], \"y\": [null, 0.0762, 0.0438, 0.0174, 0.0072, 0.0, -0.0016, 0.0041, 0.0106, 0.0288, 0.0423, 0.0563, 0.0989], \"yaxis\": \"y3\", \"type\": \"scatter\", \"xaxis\": \"x3\"}, {\"legendgroup\": \"chart (2, 1)\", \"name\": \"chart (2, 1) 20190214\", \"uid\": \"eca36f78-1df1-11ea-ac9d-8c859025e7f9\", \"x\": [-0.25, -0.2, -0.15, -0.1, -0.05, 0.0, 0.05, 0.1, 0.15, 0.2, 0.25, 0.3, 0.35], \"y\": [null, 0.0783, 0.0412, 0.017, 0.0075, 0.0, -0.001, 0.0009, 0.0137, 0.0236, 0.0623, 0.0827, 0.1237], \"yaxis\": \"y3\", \"type\": \"scatter\", \"xaxis\": \"x3\"}, {\"legendgroup\": \"chart (2, 1)\", \"name\": \"chart (2, 1) 20190215\", \"uid\": \"eca3cfcc-1df1-11ea-9786-8c859025e7f9\", \"x\": [-0.25, -0.2, -0.15, -0.1, -0.05, 0.0, 0.05, 0.1, 0.15, 0.2, 0.25, 0.3, 0.35], \"y\": [null, 0.1014, 0.0593, 0.0263, 0.0088, 0.0, -0.0002, 0.0058, 0.0195, 0.0394, 0.0667, 0.0805, 0.123], \"yaxis\": \"y3\", \"type\": \"scatter\", \"xaxis\": \"x3\"}, {\"legendgroup\": \"chart (2, 1)\", \"name\": \"chart (2, 1) 20190219\", \"uid\": \"eca44010-1df1-11ea-a459-8c859025e7f9\", \"x\": [-0.25, -0.2, -0.15, -0.1, -0.05, 0.0, 0.05, 0.1, 0.15, 0.2, 0.25, 0.3, 0.35], \"y\": [0.176, 0.1077, 0.0528, 0.0247, 0.0052, 0.0, -0.0012, 0.0021, 0.0129, 0.0394, 0.0598, 0.1091, 0.1529], \"yaxis\": \"y3\", \"type\": \"scatter\", \"xaxis\": \"x3\"}, {\"legendgroup\": \"chart (2, 1)\", \"name\": \"chart (2, 1) 20190220\", \"uid\": \"eca4aba4-1df1-11ea-8f7a-8c859025e7f9\", \"x\": [-0.25, -0.2, -0.15, -0.1, -0.05, 0.0, 0.05, 0.1, 0.15, 0.2, 0.25, 0.3, 0.35], \"y\": [0.1615, 0.1087, 0.0536, 0.0242, 0.0085, 0.0, 0.0006, 0.0118, 0.0249, 0.045, 0.0748, 0.115, 0.1596], \"yaxis\": \"y3\", \"type\": \"scatter\", \"xaxis\": \"x3\"}, {\"legendgroup\": \"chart (2, 2)\", \"name\": \"chart (2, 2) 20190221\", \"uid\": \"eca59034-1df1-11ea-912f-8c859025e7f9\", \"x\": [-0.25, -0.2, -0.15, -0.1, -0.05, 0.0, 0.05, 0.1, 0.15, 0.2, 0.25, 0.3, 0.35], \"y\": [0.1827, 0.1205, 0.073, 0.0208, 0.004, 0.0, 0.003, 0.0198, 0.0307, 0.0694, 0.0905, 0.138, 0.1831], \"yaxis\": \"y4\", \"type\": \"scatter\", \"xaxis\": \"x4\"}, {\"legendgroup\": \"chart (2, 2)\", \"name\": \"chart (2, 2) 20190222\", \"uid\": \"eca5f9dc-1df1-11ea-80b7-8c859025e7f9\", \"x\": [-0.25, -0.2, -0.15, -0.1, -0.05, 0.0, 0.05, 0.1, 0.15, 0.2, 0.25, 0.3, 0.35], \"y\": [0.1917, 0.1371, 0.0645, 0.0241, 0.0025, 0.0, 0.0003, 0.0104, 0.032, 0.0774, 0.0982, 0.1461, 0.1919], \"yaxis\": \"y4\", \"type\": \"scatter\", \"xaxis\": \"x4\"}, {\"legendgroup\": \"chart (2, 2)\", \"name\": \"chart (2, 2) 20190225\", \"uid\": \"eca66340-1df1-11ea-b75c-8c859025e7f9\", \"x\": [-0.25, -0.2, -0.15, -0.1, -0.05, 0.0, 0.05, 0.1, 0.15, 0.2, 0.25, 0.3, 0.35], \"y\": [0.2021, 0.1504, 0.0782, 0.0303, 0.0085, 0.0, 0.004, 0.0198, 0.0507, 0.0984, 0.1348, 0.1915, 0.2426], \"yaxis\": \"y4\", \"type\": \"scatter\", \"xaxis\": \"x4\"}, {\"legendgroup\": \"chart (2, 2)\", \"name\": \"chart (2, 2) 20190226\", \"uid\": \"eca6da64-1df1-11ea-9aa6-8c859025e7f9\", \"x\": [-0.25, -0.2, -0.15, -0.1, -0.05, 0.0, 0.05, 0.1, 0.15, 0.2, 0.25, 0.3, 0.35], \"y\": [0.2224, 0.1291, 0.0851, 0.0304, 0.0044, 0.0, 0.016, 0.0378, 0.0762, 0.1172, 0.1564, 0.2118, 0.2676], \"yaxis\": \"y4\", \"type\": \"scatter\", \"xaxis\": \"x4\"}], {\"annotations\": [{\"font\": {\"size\": 16}, \"showarrow\": false, \"text\": \"NGJ19 20190130 - 20190205\", \"x\": 0.2275, \"xanchor\": \"center\", \"xref\": \"paper\", \"y\": 1.0, \"yanchor\": \"bottom\", \"yref\": \"paper\"}, {\"font\": {\"size\": 16}, \"showarrow\": false, \"text\": \"NGJ19 20190206 - 20190212\", \"x\": 0.7725, \"xanchor\": \"center\", \"xref\": \"paper\", \"y\": 1.0, \"yanchor\": \"bottom\", \"yref\": \"paper\"}, {\"font\": {\"size\": 16}, \"showarrow\": false, \"text\": \"NGJ19 20190213 - 20190220\", \"x\": 0.2275, \"xanchor\": \"center\", \"xref\": \"paper\", \"y\": 0.445, \"yanchor\": \"bottom\", \"yref\": \"paper\"}, {\"font\": {\"size\": 16}, \"showarrow\": false, \"text\": \"NGJ19 20190221 - 20190226\", \"x\": 0.7725, \"xanchor\": \"center\", \"xref\": \"paper\", \"y\": 0.445, \"yanchor\": \"bottom\", \"yref\": \"paper\"}], \"xaxis\": {\"anchor\": \"y\", \"domain\": [0.0, 0.455], \"tickangle\": 45, \"ticktext\": [-0.25, -0.2, -0.15, -0.1, -0.05, 0.0, 0.05, 0.1, 0.15, 0.2, 0.25, 0.3, 0.35], \"tickvals\": [-0.25, -0.2, -0.15, -0.1, -0.05, 0.0, 0.05, 0.1, 0.15, 0.2, 0.25, 0.3, 0.35], \"type\": \"category\"}, \"yaxis\": {\"anchor\": \"x\", \"domain\": [0.555, 1.0], \"title\": \"vol skew\"}, \"xaxis2\": {\"anchor\": \"y2\", \"domain\": [0.545, 1.0], \"tickangle\": 45, \"ticktext\": [-0.25, -0.2, -0.15, -0.1, -0.05, 0.0, 0.05, 0.1, 0.15, 0.2, 0.25, 0.3, 0.35], \"tickvals\": [-0.25, -0.2, -0.15, -0.1, -0.05, 0.0, 0.05, 0.1, 0.15, 0.2, 0.25, 0.3, 0.35], \"type\": \"category\"}, \"yaxis2\": {\"anchor\": \"x2\", \"domain\": [0.555, 1.0], \"title\": \"vol skew\"}, \"xaxis3\": {\"anchor\": \"y3\", \"domain\": [0.0, 0.455], \"tickangle\": 45, \"ticktext\": [-0.25, -0.2, -0.15, -0.1, -0.05, 0.0, 0.05, 0.1, 0.15, 0.2, 0.25, 0.3, 0.35], \"tickvals\": [-0.25, -0.2, -0.15, -0.1, -0.05, 0.0, 0.05, 0.1, 0.15, 0.2, 0.25, 0.3, 0.35], \"type\": \"category\"}, \"yaxis3\": {\"anchor\": \"x3\", \"domain\": [0.0, 0.445], \"title\": \"vol skew\"}, \"xaxis4\": {\"anchor\": \"y4\", \"domain\": [0.545, 1.0], \"tickangle\": 45, \"ticktext\": [-0.25, -0.2, -0.15, -0.1, -0.05, 0.0, 0.05, 0.1, 0.15, 0.2, 0.25, 0.3, 0.35], \"tickvals\": [-0.25, -0.2, -0.15, -0.1, -0.05, 0.0, 0.05, 0.1, 0.15, 0.2, 0.25, 0.3, 0.35], \"type\": \"category\"}, \"yaxis4\": {\"anchor\": \"x4\", \"domain\": [0.0, 0.445], \"title\": \"vol skew\"}, \"font\": {\"family\": \"Open Sans, sans-serif\"}, \"margin\": {\"b\": 55, \"l\": 45, \"r\": 15, \"t\": 50}, \"title\": \"Skew plots<br>\", \"showlegend\": true, \"hovermode\": \"x\", \"autosize\": true, \"width\": 900, \"height\": 800, \"plot_bgcolor\": \"#EFECEA\", \"bargap\": 0.05}, {\"showLink\": true, \"linkText\": \"Export to plot.ly\"})});</script>"
      ]
     },
     "metadata": {},
     "output_type": "display_data"
    },
    {
     "data": {
      "application/vnd.plotly.v1+json": {
       "data": [
        {
         "legendgroup": "chart (1, 1)",
         "name": "chart (1, 1) 20190227",
         "type": "scatter",
         "uid": "ecf5a586-1df1-11ea-9f27-8c859025e7f9",
         "x": [
          -0.3,
          -0.25,
          -0.2,
          -0.15,
          -0.1,
          -0.05,
          0,
          0.05,
          0.1,
          0.15,
          0.2,
          0.25,
          0.3,
          0.35
         ],
         "xaxis": "x",
         "y": [
          null,
          0.1026,
          0.061,
          0.0305,
          0.0073,
          -0.0012,
          0,
          0.004,
          0.0138,
          0.0257,
          0.0431,
          0.0642,
          0.0907,
          0.0994
         ],
         "yaxis": "y"
        },
        {
         "legendgroup": "chart (1, 1)",
         "name": "chart (1, 1) 20190228",
         "type": "scatter",
         "uid": "ecf605f8-1df1-11ea-9d42-8c859025e7f9",
         "x": [
          -0.3,
          -0.25,
          -0.2,
          -0.15,
          -0.1,
          -0.05,
          0,
          0.05,
          0.1,
          0.15,
          0.2,
          0.25,
          0.3,
          0.35
         ],
         "xaxis": "x",
         "y": [
          null,
          0.0963,
          0.0617,
          0.0316,
          0.0071,
          -0.0019,
          0,
          0.0032,
          0.0115,
          0.0204,
          0.0396,
          0.0579,
          0.092,
          0.0985
         ],
         "yaxis": "y"
        },
        {
         "legendgroup": "chart (1, 1)",
         "name": "chart (1, 1) 20190301",
         "type": "scatter",
         "uid": "ecf6664c-1df1-11ea-9bb2-8c859025e7f9",
         "x": [
          -0.3,
          -0.25,
          -0.2,
          -0.15,
          -0.1,
          -0.05,
          0,
          0.05,
          0.1,
          0.15,
          0.2,
          0.25,
          0.3,
          0.35
         ],
         "xaxis": "x",
         "y": [
          0.1661,
          0.0979,
          0.0753,
          0.0441,
          0.0178,
          0.0044,
          0,
          0.0025,
          0.0098,
          0.0211,
          0.0266,
          0.0505,
          0.0931,
          0.0996
         ],
         "yaxis": "y"
        },
        {
         "legendgroup": "chart (1, 1)",
         "name": "chart (1, 1) 20190304",
         "type": "scatter",
         "uid": "ecf6caec-1df1-11ea-8aa5-8c859025e7f9",
         "x": [
          -0.3,
          -0.25,
          -0.2,
          -0.15,
          -0.1,
          -0.05,
          0,
          0.05,
          0.1,
          0.15,
          0.2,
          0.25,
          0.3,
          0.35
         ],
         "xaxis": "x",
         "y": [
          null,
          0.1038,
          0.0796,
          0.0476,
          0.0206,
          0.0051,
          0,
          0.0005,
          0.0049,
          0.0213,
          0.0339,
          0.0558,
          0.0992,
          0.1066
         ],
         "yaxis": "y"
        },
        {
         "legendgroup": "chart (1, 1)",
         "name": "chart (1, 1) 20190305",
         "type": "scatter",
         "uid": "ecf73180-1df1-11ea-b6ab-8c859025e7f9",
         "x": [
          -0.3,
          -0.25,
          -0.2,
          -0.15,
          -0.1,
          -0.05,
          0,
          0.05,
          0.1,
          0.15,
          0.2,
          0.25,
          0.3,
          0.35
         ],
         "xaxis": "x",
         "y": [
          0.1857,
          0.1146,
          0.0778,
          0.0467,
          0.0174,
          0.0033,
          0,
          -0.0001,
          0.0039,
          0.0205,
          0.0352,
          0.0671,
          0.08,
          0.1161
         ],
         "yaxis": "y"
        },
        {
         "legendgroup": "chart (1, 2)",
         "name": "chart (1, 2) 20190306",
         "type": "scatter",
         "uid": "ecf81cf8-1df1-11ea-86dd-8c859025e7f9",
         "x": [
          -0.3,
          -0.25,
          -0.2,
          -0.15,
          -0.1,
          -0.05,
          0,
          0.05,
          0.1,
          0.15,
          0.2,
          0.25,
          0.3,
          0.35
         ],
         "xaxis": "x2",
         "y": [
          null,
          null,
          null,
          null,
          null,
          null,
          0,
          null,
          null,
          null,
          null,
          null,
          null,
          null
         ],
         "yaxis": "y2"
        },
        {
         "legendgroup": "chart (1, 2)",
         "name": "chart (1, 2) 20190307",
         "type": "scatter",
         "uid": "ecf87d68-1df1-11ea-9dab-8c859025e7f9",
         "x": [
          -0.3,
          -0.25,
          -0.2,
          -0.15,
          -0.1,
          -0.05,
          0,
          0.05,
          0.1,
          0.15,
          0.2,
          0.25,
          0.3,
          0.35
         ],
         "xaxis": "x2",
         "y": [
          0.2034,
          0.1317,
          0.0914,
          0.0468,
          0.0203,
          0.0056,
          0,
          -0.0023,
          0.0073,
          0.0231,
          0.0383,
          0.0603,
          0.0955,
          0.1324
         ],
         "yaxis": "y2"
        },
        {
         "legendgroup": "chart (1, 2)",
         "name": "chart (1, 2) 20190308",
         "type": "scatter",
         "uid": "ecf8dc1a-1df1-11ea-813a-8c859025e7f9",
         "x": [
          -0.3,
          -0.25,
          -0.2,
          -0.15,
          -0.1,
          -0.05,
          0,
          0.05,
          0.1,
          0.15,
          0.2,
          0.25,
          0.3,
          0.35
         ],
         "xaxis": "x2",
         "y": [
          0.202,
          0.1297,
          0.0888,
          0.0562,
          0.0224,
          0.0037,
          0,
          0.0017,
          0.0093,
          0.0207,
          0.0356,
          0.082,
          0.0933,
          0.1303
         ],
         "yaxis": "y2"
        },
        {
         "legendgroup": "chart (1, 2)",
         "name": "chart (1, 2) 20190311",
         "type": "scatter",
         "uid": "ecf9410a-1df1-11ea-9167-8c859025e7f9",
         "x": [
          -0.3,
          -0.25,
          -0.2,
          -0.15,
          -0.1,
          -0.05,
          0,
          0.05,
          0.1,
          0.15,
          0.2,
          0.25,
          0.3,
          0.35
         ],
         "xaxis": "x2",
         "y": [
          null,
          0.1496,
          0.1097,
          0.055,
          0.0192,
          0.0015,
          0,
          0.0015,
          0.0078,
          0.0259,
          0.052,
          0.0704,
          0.1109,
          0.1494
         ],
         "yaxis": "y2"
        },
        {
         "legendgroup": "chart (1, 2)",
         "name": "chart (1, 2) 20190312",
         "type": "scatter",
         "uid": "ecf9a26c-1df1-11ea-ab50-8c859025e7f9",
         "x": [
          -0.3,
          -0.25,
          -0.2,
          -0.15,
          -0.1,
          -0.05,
          0,
          0.05,
          0.1,
          0.15,
          0.2,
          0.25,
          0.3,
          0.35
         ],
         "xaxis": "x2",
         "y": [
          null,
          0.1552,
          0.107,
          0.0634,
          0.0204,
          0.0005,
          0,
          -0.0014,
          0.0081,
          0.0278,
          0.0534,
          0.0754,
          0.1166,
          0.1556
         ],
         "yaxis": "y2"
        },
        {
         "legendgroup": "chart (2, 1)",
         "name": "chart (2, 1) 20190313",
         "type": "scatter",
         "uid": "ecfa9938-1df1-11ea-b3ae-8c859025e7f9",
         "x": [
          -0.3,
          -0.25,
          -0.2,
          -0.15,
          -0.1,
          -0.05,
          0,
          0.05,
          0.1,
          0.15,
          0.2,
          0.25,
          0.3,
          0.35
         ],
         "xaxis": "x3",
         "y": [
          null,
          0.1512,
          0.1112,
          0.0521,
          0.0221,
          0.0028,
          0,
          0.0014,
          0.0088,
          0.0234,
          0.0499,
          0.0696,
          0.1117,
          0.1511
         ],
         "yaxis": "y3"
        },
        {
         "legendgroup": "chart (2, 1)",
         "name": "chart (2, 1) 20190314",
         "type": "scatter",
         "uid": "ecfb189a-1df1-11ea-9d4d-8c859025e7f9",
         "x": [
          -0.3,
          -0.25,
          -0.2,
          -0.15,
          -0.1,
          -0.05,
          0,
          0.05,
          0.1,
          0.15,
          0.2,
          0.25,
          0.3,
          0.35
         ],
         "xaxis": "x3",
         "y": [
          0.2333,
          0.1562,
          0.1071,
          0.063,
          0.0204,
          0.0039,
          0,
          -0.0038,
          0.0053,
          0.0204,
          0.0534,
          0.0883,
          0.1167,
          0.1566
         ],
         "yaxis": "y3"
        },
        {
         "legendgroup": "chart (2, 1)",
         "name": "chart (2, 1) 20190315",
         "type": "scatter",
         "uid": "ecfb8154-1df1-11ea-bac0-8c859025e7f9",
         "x": [
          -0.3,
          -0.25,
          -0.2,
          -0.15,
          -0.1,
          -0.05,
          0,
          0.05,
          0.1,
          0.15,
          0.2,
          0.25,
          0.3,
          0.35
         ],
         "xaxis": "x3",
         "y": [
          null,
          0.165,
          0.0885,
          0.0527,
          0.0271,
          0.0042,
          0,
          0.002,
          0.0108,
          0.0316,
          0.0568,
          0.0822,
          0.1249,
          0.1653
         ],
         "yaxis": "y3"
        },
        {
         "legendgroup": "chart (2, 1)",
         "name": "chart (2, 1) 20190318",
         "type": "scatter",
         "uid": "ecfbe766-1df1-11ea-a4a3-8c859025e7f9",
         "x": [
          -0.3,
          -0.25,
          -0.2,
          -0.15,
          -0.1,
          -0.05,
          0,
          0.05,
          0.1,
          0.15,
          0.2,
          0.25,
          0.3,
          0.35
         ],
         "xaxis": "x3",
         "y": [
          null,
          0.18,
          0.1,
          0.0628,
          0.0286,
          0.0054,
          0,
          0.0012,
          0.0096,
          0.0215,
          0.0582,
          0.0942,
          0.1386,
          0.1804
         ],
         "yaxis": "y3"
        },
        {
         "legendgroup": "chart (2, 1)",
         "name": "chart (2, 1) 20190319",
         "type": "scatter",
         "uid": "ecfc4e54-1df1-11ea-bad6-8c859025e7f9",
         "x": [
          -0.3,
          -0.25,
          -0.2,
          -0.15,
          -0.1,
          -0.05,
          0,
          0.05,
          0.1,
          0.15,
          0.2,
          0.25,
          0.3,
          0.35
         ],
         "xaxis": "x3",
         "y": [
          0.2718,
          0.1897,
          0.1108,
          0.0781,
          0.0306,
          0.0075,
          0,
          0.0027,
          0.0158,
          0.0406,
          0.0821,
          0.103,
          0.1477,
          0.1901
         ],
         "yaxis": "y3"
        },
        {
         "legendgroup": "chart (2, 2)",
         "name": "chart (2, 2) 20190320",
         "type": "scatter",
         "uid": "ecfd40c0-1df1-11ea-b39c-8c859025e7f9",
         "x": [
          -0.3,
          -0.25,
          -0.2,
          -0.15,
          -0.1,
          -0.05,
          0,
          0.05,
          0.1,
          0.15,
          0.2,
          0.25,
          0.3,
          0.35
         ],
         "xaxis": "x4",
         "y": [
          null,
          0.1968,
          0.1177,
          0.0678,
          0.0195,
          -0.0027,
          0,
          0.0037,
          0.0153,
          0.0306,
          0.0595,
          0.1086,
          0.1542,
          0.1972
         ],
         "yaxis": "y4"
        },
        {
         "legendgroup": "chart (2, 2)",
         "name": "chart (2, 2) 20190321",
         "type": "scatter",
         "uid": "ecfdab28-1df1-11ea-928b-8c859025e7f9",
         "x": [
          -0.3,
          -0.25,
          -0.2,
          -0.15,
          -0.1,
          -0.05,
          0,
          0.05,
          0.1,
          0.15,
          0.2,
          0.25,
          0.3,
          0.35
         ],
         "xaxis": "x4",
         "y": [
          null,
          0.1966,
          0.1153,
          0.0658,
          0.0272,
          0.0046,
          0,
          0.0017,
          0.0117,
          0.0278,
          0.0608,
          0.1072,
          0.1534,
          0.197
         ],
         "yaxis": "y4"
        },
        {
         "legendgroup": "chart (2, 2)",
         "name": "chart (2, 2) 20190322",
         "type": "scatter",
         "uid": "ecfe18d8-1df1-11ea-9ce4-8c859025e7f9",
         "x": [
          -0.3,
          -0.25,
          -0.2,
          -0.15,
          -0.1,
          -0.05,
          0,
          0.05,
          0.1,
          0.15,
          0.2,
          0.25,
          0.3,
          0.35
         ],
         "xaxis": "x4",
         "y": [
          null,
          0.1927,
          0.11,
          0.0794,
          0.0354,
          0.0081,
          0,
          0.0035,
          0.0116,
          0.0248,
          0.0492,
          0.1018,
          0.1487,
          0.193
         ],
         "yaxis": "y4"
        },
        {
         "legendgroup": "chart (2, 2)",
         "name": "chart (2, 2) 20190325",
         "type": "scatter",
         "uid": "ecfe7eb8-1df1-11ea-827b-8c859025e7f9",
         "x": [
          -0.3,
          -0.25,
          -0.2,
          -0.15,
          -0.1,
          -0.05,
          0,
          0.05,
          0.1,
          0.15,
          0.2,
          0.25,
          0.3,
          0.35
         ],
         "xaxis": "x4",
         "y": [
          null,
          0.2093,
          0.1358,
          0.0933,
          0.0399,
          0.0102,
          0,
          0.0007,
          0.0079,
          0.0323,
          0.073,
          0.1141,
          0.1634,
          0.2098
         ],
         "yaxis": "y4"
        },
        {
         "legendgroup": "chart (2, 2)",
         "name": "chart (2, 2) 20190326",
         "type": "scatter",
         "uid": "ecfedde8-1df1-11ea-ab6a-8c859025e7f9",
         "x": [
          -0.3,
          -0.25,
          -0.2,
          -0.15,
          -0.1,
          -0.05,
          0,
          0.05,
          0.1,
          0.15,
          0.2,
          0.25,
          0.3,
          0.35
         ],
         "xaxis": "x4",
         "y": [
          null,
          0.2231,
          0.1359,
          0.0808,
          0.0431,
          0.0094,
          0,
          -0.0028,
          0.0113,
          0.0389,
          0.0726,
          0.1261,
          0.1762,
          0.2234
         ],
         "yaxis": "y4"
        }
       ],
       "layout": {
        "annotations": [
         {
          "font": {
           "size": 16
          },
          "showarrow": false,
          "text": "NGK19 20190227 - 20190305",
          "x": 0.2275,
          "xanchor": "center",
          "xref": "paper",
          "y": 1,
          "yanchor": "bottom",
          "yref": "paper"
         },
         {
          "font": {
           "size": 16
          },
          "showarrow": false,
          "text": "NGK19 20190306 - 20190312",
          "x": 0.7725,
          "xanchor": "center",
          "xref": "paper",
          "y": 1,
          "yanchor": "bottom",
          "yref": "paper"
         },
         {
          "font": {
           "size": 16
          },
          "showarrow": false,
          "text": "NGK19 20190313 - 20190319",
          "x": 0.2275,
          "xanchor": "center",
          "xref": "paper",
          "y": 0.445,
          "yanchor": "bottom",
          "yref": "paper"
         },
         {
          "font": {
           "size": 16
          },
          "showarrow": false,
          "text": "NGK19 20190320 - 20190326",
          "x": 0.7725,
          "xanchor": "center",
          "xref": "paper",
          "y": 0.445,
          "yanchor": "bottom",
          "yref": "paper"
         }
        ],
        "autosize": true,
        "bargap": 0.05,
        "font": {
         "family": "Open Sans, sans-serif"
        },
        "height": 800,
        "hovermode": "x",
        "margin": {
         "b": 55,
         "l": 45,
         "r": 15,
         "t": 50
        },
        "plot_bgcolor": "#EFECEA",
        "showlegend": true,
        "title": "Skew plots<br>",
        "width": 900,
        "xaxis": {
         "anchor": "y",
         "domain": [
          0,
          0.455
         ],
         "tickangle": 45,
         "ticktext": [
          -0.3,
          -0.25,
          -0.2,
          -0.15,
          -0.1,
          -0.05,
          0,
          0.05,
          0.1,
          0.15,
          0.2,
          0.25,
          0.3,
          0.35
         ],
         "tickvals": [
          -0.3,
          -0.25,
          -0.2,
          -0.15,
          -0.1,
          -0.05,
          0,
          0.05,
          0.1,
          0.15,
          0.2,
          0.25,
          0.3,
          0.35
         ],
         "type": "category"
        },
        "xaxis2": {
         "anchor": "y2",
         "domain": [
          0.545,
          1
         ],
         "tickangle": 45,
         "ticktext": [
          -0.3,
          -0.25,
          -0.2,
          -0.15,
          -0.1,
          -0.05,
          0,
          0.05,
          0.1,
          0.15,
          0.2,
          0.25,
          0.3,
          0.35
         ],
         "tickvals": [
          -0.3,
          -0.25,
          -0.2,
          -0.15,
          -0.1,
          -0.05,
          0,
          0.05,
          0.1,
          0.15,
          0.2,
          0.25,
          0.3,
          0.35
         ],
         "type": "category"
        },
        "xaxis3": {
         "anchor": "y3",
         "domain": [
          0,
          0.455
         ],
         "tickangle": 45,
         "ticktext": [
          -0.3,
          -0.25,
          -0.2,
          -0.15,
          -0.1,
          -0.05,
          0,
          0.05,
          0.1,
          0.15,
          0.2,
          0.25,
          0.3,
          0.35
         ],
         "tickvals": [
          -0.3,
          -0.25,
          -0.2,
          -0.15,
          -0.1,
          -0.05,
          0,
          0.05,
          0.1,
          0.15,
          0.2,
          0.25,
          0.3,
          0.35
         ],
         "type": "category"
        },
        "xaxis4": {
         "anchor": "y4",
         "domain": [
          0.545,
          1
         ],
         "tickangle": 45,
         "ticktext": [
          -0.3,
          -0.25,
          -0.2,
          -0.15,
          -0.1,
          -0.05,
          0,
          0.05,
          0.1,
          0.15,
          0.2,
          0.25,
          0.3,
          0.35
         ],
         "tickvals": [
          -0.3,
          -0.25,
          -0.2,
          -0.15,
          -0.1,
          -0.05,
          0,
          0.05,
          0.1,
          0.15,
          0.2,
          0.25,
          0.3,
          0.35
         ],
         "type": "category"
        },
        "yaxis": {
         "anchor": "x",
         "domain": [
          0.555,
          1
         ],
         "title": "vol skew"
        },
        "yaxis2": {
         "anchor": "x2",
         "domain": [
          0.555,
          1
         ],
         "title": "vol skew"
        },
        "yaxis3": {
         "anchor": "x3",
         "domain": [
          0,
          0.445
         ],
         "title": "vol skew"
        },
        "yaxis4": {
         "anchor": "x4",
         "domain": [
          0,
          0.445
         ],
         "title": "vol skew"
        }
       }
      },
      "text/html": [
       "<div id=\"0f518273-96b7-40c2-8309-a6230f1ffc26\" style=\"height: 800px; width: 900px;\" class=\"plotly-graph-div\"></div><script type=\"text/javascript\">require([\"plotly\"], function(Plotly) { window.PLOTLYENV=window.PLOTLYENV || {};window.PLOTLYENV.BASE_URL=\"https://plot.ly\";Plotly.newPlot(\"0f518273-96b7-40c2-8309-a6230f1ffc26\", [{\"legendgroup\": \"chart (1, 1)\", \"name\": \"chart (1, 1) 20190227\", \"uid\": \"ecf5a586-1df1-11ea-9f27-8c859025e7f9\", \"x\": [-0.3, -0.25, -0.2, -0.15, -0.1, -0.05, 0.0, 0.05, 0.1, 0.15, 0.2, 0.25, 0.3, 0.35], \"y\": [null, 0.1026, 0.061, 0.0305, 0.0073, -0.0012, 0.0, 0.004, 0.0138, 0.0257, 0.0431, 0.0642, 0.0907, 0.0994], \"yaxis\": \"y\", \"type\": \"scatter\", \"xaxis\": \"x\"}, {\"legendgroup\": \"chart (1, 1)\", \"name\": \"chart (1, 1) 20190228\", \"uid\": \"ecf605f8-1df1-11ea-9d42-8c859025e7f9\", \"x\": [-0.3, -0.25, -0.2, -0.15, -0.1, -0.05, 0.0, 0.05, 0.1, 0.15, 0.2, 0.25, 0.3, 0.35], \"y\": [null, 0.0963, 0.0617, 0.0316, 0.0071, -0.0019, 0.0, 0.0032, 0.0115, 0.0204, 0.0396, 0.0579, 0.092, 0.0985], \"yaxis\": \"y\", \"type\": \"scatter\", \"xaxis\": \"x\"}, {\"legendgroup\": \"chart (1, 1)\", \"name\": \"chart (1, 1) 20190301\", \"uid\": \"ecf6664c-1df1-11ea-9bb2-8c859025e7f9\", \"x\": [-0.3, -0.25, -0.2, -0.15, -0.1, -0.05, 0.0, 0.05, 0.1, 0.15, 0.2, 0.25, 0.3, 0.35], \"y\": [0.1661, 0.0979, 0.0753, 0.0441, 0.0178, 0.0044, 0.0, 0.0025, 0.0098, 0.0211, 0.0266, 0.0505, 0.0931, 0.0996], \"yaxis\": \"y\", \"type\": \"scatter\", \"xaxis\": \"x\"}, {\"legendgroup\": \"chart (1, 1)\", \"name\": \"chart (1, 1) 20190304\", \"uid\": \"ecf6caec-1df1-11ea-8aa5-8c859025e7f9\", \"x\": [-0.3, -0.25, -0.2, -0.15, -0.1, -0.05, 0.0, 0.05, 0.1, 0.15, 0.2, 0.25, 0.3, 0.35], \"y\": [null, 0.1038, 0.0796, 0.0476, 0.0206, 0.0051, 0.0, 0.0005, 0.0049, 0.0213, 0.0339, 0.0558, 0.0992, 0.1066], \"yaxis\": \"y\", \"type\": \"scatter\", \"xaxis\": \"x\"}, {\"legendgroup\": \"chart (1, 1)\", \"name\": \"chart (1, 1) 20190305\", \"uid\": \"ecf73180-1df1-11ea-b6ab-8c859025e7f9\", \"x\": [-0.3, -0.25, -0.2, -0.15, -0.1, -0.05, 0.0, 0.05, 0.1, 0.15, 0.2, 0.25, 0.3, 0.35], \"y\": [0.1857, 0.1146, 0.0778, 0.0467, 0.0174, 0.0033, 0.0, -0.0001, 0.0039, 0.0205, 0.0352, 0.0671, 0.08, 0.1161], \"yaxis\": \"y\", \"type\": \"scatter\", \"xaxis\": \"x\"}, {\"legendgroup\": \"chart (1, 2)\", \"name\": \"chart (1, 2) 20190306\", \"uid\": \"ecf81cf8-1df1-11ea-86dd-8c859025e7f9\", \"x\": [-0.3, -0.25, -0.2, -0.15, -0.1, -0.05, 0.0, 0.05, 0.1, 0.15, 0.2, 0.25, 0.3, 0.35], \"y\": [null, null, null, null, null, null, 0.0, null, null, null, null, null, null, null], \"yaxis\": \"y2\", \"type\": \"scatter\", \"xaxis\": \"x2\"}, {\"legendgroup\": \"chart (1, 2)\", \"name\": \"chart (1, 2) 20190307\", \"uid\": \"ecf87d68-1df1-11ea-9dab-8c859025e7f9\", \"x\": [-0.3, -0.25, -0.2, -0.15, -0.1, -0.05, 0.0, 0.05, 0.1, 0.15, 0.2, 0.25, 0.3, 0.35], \"y\": [0.2034, 0.1317, 0.0914, 0.0468, 0.0203, 0.0056, 0.0, -0.0023, 0.0073, 0.0231, 0.0383, 0.0603, 0.0955, 0.1324], \"yaxis\": \"y2\", \"type\": \"scatter\", \"xaxis\": \"x2\"}, {\"legendgroup\": \"chart (1, 2)\", \"name\": \"chart (1, 2) 20190308\", \"uid\": \"ecf8dc1a-1df1-11ea-813a-8c859025e7f9\", \"x\": [-0.3, -0.25, -0.2, -0.15, -0.1, -0.05, 0.0, 0.05, 0.1, 0.15, 0.2, 0.25, 0.3, 0.35], \"y\": [0.202, 0.1297, 0.0888, 0.0562, 0.0224, 0.0037, 0.0, 0.0017, 0.0093, 0.0207, 0.0356, 0.082, 0.0933, 0.1303], \"yaxis\": \"y2\", \"type\": \"scatter\", \"xaxis\": \"x2\"}, {\"legendgroup\": \"chart (1, 2)\", \"name\": \"chart (1, 2) 20190311\", \"uid\": \"ecf9410a-1df1-11ea-9167-8c859025e7f9\", \"x\": [-0.3, -0.25, -0.2, -0.15, -0.1, -0.05, 0.0, 0.05, 0.1, 0.15, 0.2, 0.25, 0.3, 0.35], \"y\": [null, 0.1496, 0.1097, 0.055, 0.0192, 0.0015, 0.0, 0.0015, 0.0078, 0.0259, 0.052, 0.0704, 0.1109, 0.1494], \"yaxis\": \"y2\", \"type\": \"scatter\", \"xaxis\": \"x2\"}, {\"legendgroup\": \"chart (1, 2)\", \"name\": \"chart (1, 2) 20190312\", \"uid\": \"ecf9a26c-1df1-11ea-ab50-8c859025e7f9\", \"x\": [-0.3, -0.25, -0.2, -0.15, -0.1, -0.05, 0.0, 0.05, 0.1, 0.15, 0.2, 0.25, 0.3, 0.35], \"y\": [null, 0.1552, 0.107, 0.0634, 0.0204, 0.0005, 0.0, -0.0014, 0.0081, 0.0278, 0.0534, 0.0754, 0.1166, 0.1556], \"yaxis\": \"y2\", \"type\": \"scatter\", \"xaxis\": \"x2\"}, {\"legendgroup\": \"chart (2, 1)\", \"name\": \"chart (2, 1) 20190313\", \"uid\": \"ecfa9938-1df1-11ea-b3ae-8c859025e7f9\", \"x\": [-0.3, -0.25, -0.2, -0.15, -0.1, -0.05, 0.0, 0.05, 0.1, 0.15, 0.2, 0.25, 0.3, 0.35], \"y\": [null, 0.1512, 0.1112, 0.0521, 0.0221, 0.0028, 0.0, 0.0014, 0.0088, 0.0234, 0.0499, 0.0696, 0.1117, 0.1511], \"yaxis\": \"y3\", \"type\": \"scatter\", \"xaxis\": \"x3\"}, {\"legendgroup\": \"chart (2, 1)\", \"name\": \"chart (2, 1) 20190314\", \"uid\": \"ecfb189a-1df1-11ea-9d4d-8c859025e7f9\", \"x\": [-0.3, -0.25, -0.2, -0.15, -0.1, -0.05, 0.0, 0.05, 0.1, 0.15, 0.2, 0.25, 0.3, 0.35], \"y\": [0.2333, 0.1562, 0.1071, 0.063, 0.0204, 0.0039, 0.0, -0.0038, 0.0053, 0.0204, 0.0534, 0.0883, 0.1167, 0.1566], \"yaxis\": \"y3\", \"type\": \"scatter\", \"xaxis\": \"x3\"}, {\"legendgroup\": \"chart (2, 1)\", \"name\": \"chart (2, 1) 20190315\", \"uid\": \"ecfb8154-1df1-11ea-bac0-8c859025e7f9\", \"x\": [-0.3, -0.25, -0.2, -0.15, -0.1, -0.05, 0.0, 0.05, 0.1, 0.15, 0.2, 0.25, 0.3, 0.35], \"y\": [null, 0.165, 0.0885, 0.0527, 0.0271, 0.0042, 0.0, 0.002, 0.0108, 0.0316, 0.0568, 0.0822, 0.1249, 0.1653], \"yaxis\": \"y3\", \"type\": \"scatter\", \"xaxis\": \"x3\"}, {\"legendgroup\": \"chart (2, 1)\", \"name\": \"chart (2, 1) 20190318\", \"uid\": \"ecfbe766-1df1-11ea-a4a3-8c859025e7f9\", \"x\": [-0.3, -0.25, -0.2, -0.15, -0.1, -0.05, 0.0, 0.05, 0.1, 0.15, 0.2, 0.25, 0.3, 0.35], \"y\": [null, 0.18, 0.1, 0.0628, 0.0286, 0.0054, 0.0, 0.0012, 0.0096, 0.0215, 0.0582, 0.0942, 0.1386, 0.1804], \"yaxis\": \"y3\", \"type\": \"scatter\", \"xaxis\": \"x3\"}, {\"legendgroup\": \"chart (2, 1)\", \"name\": \"chart (2, 1) 20190319\", \"uid\": \"ecfc4e54-1df1-11ea-bad6-8c859025e7f9\", \"x\": [-0.3, -0.25, -0.2, -0.15, -0.1, -0.05, 0.0, 0.05, 0.1, 0.15, 0.2, 0.25, 0.3, 0.35], \"y\": [0.2718, 0.1897, 0.1108, 0.0781, 0.0306, 0.0075, 0.0, 0.0027, 0.0158, 0.0406, 0.0821, 0.103, 0.1477, 0.1901], \"yaxis\": \"y3\", \"type\": \"scatter\", \"xaxis\": \"x3\"}, {\"legendgroup\": \"chart (2, 2)\", \"name\": \"chart (2, 2) 20190320\", \"uid\": \"ecfd40c0-1df1-11ea-b39c-8c859025e7f9\", \"x\": [-0.3, -0.25, -0.2, -0.15, -0.1, -0.05, 0.0, 0.05, 0.1, 0.15, 0.2, 0.25, 0.3, 0.35], \"y\": [null, 0.1968, 0.1177, 0.0678, 0.0195, -0.0027, 0.0, 0.0037, 0.0153, 0.0306, 0.0595, 0.1086, 0.1542, 0.1972], \"yaxis\": \"y4\", \"type\": \"scatter\", \"xaxis\": \"x4\"}, {\"legendgroup\": \"chart (2, 2)\", \"name\": \"chart (2, 2) 20190321\", \"uid\": \"ecfdab28-1df1-11ea-928b-8c859025e7f9\", \"x\": [-0.3, -0.25, -0.2, -0.15, -0.1, -0.05, 0.0, 0.05, 0.1, 0.15, 0.2, 0.25, 0.3, 0.35], \"y\": [null, 0.1966, 0.1153, 0.0658, 0.0272, 0.0046, 0.0, 0.0017, 0.0117, 0.0278, 0.0608, 0.1072, 0.1534, 0.197], \"yaxis\": \"y4\", \"type\": \"scatter\", \"xaxis\": \"x4\"}, {\"legendgroup\": \"chart (2, 2)\", \"name\": \"chart (2, 2) 20190322\", \"uid\": \"ecfe18d8-1df1-11ea-9ce4-8c859025e7f9\", \"x\": [-0.3, -0.25, -0.2, -0.15, -0.1, -0.05, 0.0, 0.05, 0.1, 0.15, 0.2, 0.25, 0.3, 0.35], \"y\": [null, 0.1927, 0.11, 0.0794, 0.0354, 0.0081, 0.0, 0.0035, 0.0116, 0.0248, 0.0492, 0.1018, 0.1487, 0.193], \"yaxis\": \"y4\", \"type\": \"scatter\", \"xaxis\": \"x4\"}, {\"legendgroup\": \"chart (2, 2)\", \"name\": \"chart (2, 2) 20190325\", \"uid\": \"ecfe7eb8-1df1-11ea-827b-8c859025e7f9\", \"x\": [-0.3, -0.25, -0.2, -0.15, -0.1, -0.05, 0.0, 0.05, 0.1, 0.15, 0.2, 0.25, 0.3, 0.35], \"y\": [null, 0.2093, 0.1358, 0.0933, 0.0399, 0.0102, 0.0, 0.0007, 0.0079, 0.0323, 0.073, 0.1141, 0.1634, 0.2098], \"yaxis\": \"y4\", \"type\": \"scatter\", \"xaxis\": \"x4\"}, {\"legendgroup\": \"chart (2, 2)\", \"name\": \"chart (2, 2) 20190326\", \"uid\": \"ecfedde8-1df1-11ea-ab6a-8c859025e7f9\", \"x\": [-0.3, -0.25, -0.2, -0.15, -0.1, -0.05, 0.0, 0.05, 0.1, 0.15, 0.2, 0.25, 0.3, 0.35], \"y\": [null, 0.2231, 0.1359, 0.0808, 0.0431, 0.0094, 0.0, -0.0028, 0.0113, 0.0389, 0.0726, 0.1261, 0.1762, 0.2234], \"yaxis\": \"y4\", \"type\": \"scatter\", \"xaxis\": \"x4\"}], {\"annotations\": [{\"font\": {\"size\": 16}, \"showarrow\": false, \"text\": \"NGK19 20190227 - 20190305\", \"x\": 0.2275, \"xanchor\": \"center\", \"xref\": \"paper\", \"y\": 1.0, \"yanchor\": \"bottom\", \"yref\": \"paper\"}, {\"font\": {\"size\": 16}, \"showarrow\": false, \"text\": \"NGK19 20190306 - 20190312\", \"x\": 0.7725, \"xanchor\": \"center\", \"xref\": \"paper\", \"y\": 1.0, \"yanchor\": \"bottom\", \"yref\": \"paper\"}, {\"font\": {\"size\": 16}, \"showarrow\": false, \"text\": \"NGK19 20190313 - 20190319\", \"x\": 0.2275, \"xanchor\": \"center\", \"xref\": \"paper\", \"y\": 0.445, \"yanchor\": \"bottom\", \"yref\": \"paper\"}, {\"font\": {\"size\": 16}, \"showarrow\": false, \"text\": \"NGK19 20190320 - 20190326\", \"x\": 0.7725, \"xanchor\": \"center\", \"xref\": \"paper\", \"y\": 0.445, \"yanchor\": \"bottom\", \"yref\": \"paper\"}], \"xaxis\": {\"anchor\": \"y\", \"domain\": [0.0, 0.455], \"tickangle\": 45, \"ticktext\": [-0.3, -0.25, -0.2, -0.15, -0.1, -0.05, 0.0, 0.05, 0.1, 0.15, 0.2, 0.25, 0.3, 0.35], \"tickvals\": [-0.3, -0.25, -0.2, -0.15, -0.1, -0.05, 0.0, 0.05, 0.1, 0.15, 0.2, 0.25, 0.3, 0.35], \"type\": \"category\"}, \"yaxis\": {\"anchor\": \"x\", \"domain\": [0.555, 1.0], \"title\": \"vol skew\"}, \"xaxis2\": {\"anchor\": \"y2\", \"domain\": [0.545, 1.0], \"tickangle\": 45, \"ticktext\": [-0.3, -0.25, -0.2, -0.15, -0.1, -0.05, 0.0, 0.05, 0.1, 0.15, 0.2, 0.25, 0.3, 0.35], \"tickvals\": [-0.3, -0.25, -0.2, -0.15, -0.1, -0.05, 0.0, 0.05, 0.1, 0.15, 0.2, 0.25, 0.3, 0.35], \"type\": \"category\"}, \"yaxis2\": {\"anchor\": \"x2\", \"domain\": [0.555, 1.0], \"title\": \"vol skew\"}, \"xaxis3\": {\"anchor\": \"y3\", \"domain\": [0.0, 0.455], \"tickangle\": 45, \"ticktext\": [-0.3, -0.25, -0.2, -0.15, -0.1, -0.05, 0.0, 0.05, 0.1, 0.15, 0.2, 0.25, 0.3, 0.35], \"tickvals\": [-0.3, -0.25, -0.2, -0.15, -0.1, -0.05, 0.0, 0.05, 0.1, 0.15, 0.2, 0.25, 0.3, 0.35], \"type\": \"category\"}, \"yaxis3\": {\"anchor\": \"x3\", \"domain\": [0.0, 0.445], \"title\": \"vol skew\"}, \"xaxis4\": {\"anchor\": \"y4\", \"domain\": [0.545, 1.0], \"tickangle\": 45, \"ticktext\": [-0.3, -0.25, -0.2, -0.15, -0.1, -0.05, 0.0, 0.05, 0.1, 0.15, 0.2, 0.25, 0.3, 0.35], \"tickvals\": [-0.3, -0.25, -0.2, -0.15, -0.1, -0.05, 0.0, 0.05, 0.1, 0.15, 0.2, 0.25, 0.3, 0.35], \"type\": \"category\"}, \"yaxis4\": {\"anchor\": \"x4\", \"domain\": [0.0, 0.445], \"title\": \"vol skew\"}, \"font\": {\"family\": \"Open Sans, sans-serif\"}, \"margin\": {\"b\": 55, \"l\": 45, \"r\": 15, \"t\": 50}, \"title\": \"Skew plots<br>\", \"showlegend\": true, \"hovermode\": \"x\", \"autosize\": true, \"width\": 900, \"height\": 800, \"plot_bgcolor\": \"#EFECEA\", \"bargap\": 0.05}, {\"showLink\": true, \"linkText\": \"Export to plot.ly\"})});</script>"
      ],
      "text/vnd.plotly.v1+html": [
       "<div id=\"0f518273-96b7-40c2-8309-a6230f1ffc26\" style=\"height: 800px; width: 900px;\" class=\"plotly-graph-div\"></div><script type=\"text/javascript\">require([\"plotly\"], function(Plotly) { window.PLOTLYENV=window.PLOTLYENV || {};window.PLOTLYENV.BASE_URL=\"https://plot.ly\";Plotly.newPlot(\"0f518273-96b7-40c2-8309-a6230f1ffc26\", [{\"legendgroup\": \"chart (1, 1)\", \"name\": \"chart (1, 1) 20190227\", \"uid\": \"ecf5a586-1df1-11ea-9f27-8c859025e7f9\", \"x\": [-0.3, -0.25, -0.2, -0.15, -0.1, -0.05, 0.0, 0.05, 0.1, 0.15, 0.2, 0.25, 0.3, 0.35], \"y\": [null, 0.1026, 0.061, 0.0305, 0.0073, -0.0012, 0.0, 0.004, 0.0138, 0.0257, 0.0431, 0.0642, 0.0907, 0.0994], \"yaxis\": \"y\", \"type\": \"scatter\", \"xaxis\": \"x\"}, {\"legendgroup\": \"chart (1, 1)\", \"name\": \"chart (1, 1) 20190228\", \"uid\": \"ecf605f8-1df1-11ea-9d42-8c859025e7f9\", \"x\": [-0.3, -0.25, -0.2, -0.15, -0.1, -0.05, 0.0, 0.05, 0.1, 0.15, 0.2, 0.25, 0.3, 0.35], \"y\": [null, 0.0963, 0.0617, 0.0316, 0.0071, -0.0019, 0.0, 0.0032, 0.0115, 0.0204, 0.0396, 0.0579, 0.092, 0.0985], \"yaxis\": \"y\", \"type\": \"scatter\", \"xaxis\": \"x\"}, {\"legendgroup\": \"chart (1, 1)\", \"name\": \"chart (1, 1) 20190301\", \"uid\": \"ecf6664c-1df1-11ea-9bb2-8c859025e7f9\", \"x\": [-0.3, -0.25, -0.2, -0.15, -0.1, -0.05, 0.0, 0.05, 0.1, 0.15, 0.2, 0.25, 0.3, 0.35], \"y\": [0.1661, 0.0979, 0.0753, 0.0441, 0.0178, 0.0044, 0.0, 0.0025, 0.0098, 0.0211, 0.0266, 0.0505, 0.0931, 0.0996], \"yaxis\": \"y\", \"type\": \"scatter\", \"xaxis\": \"x\"}, {\"legendgroup\": \"chart (1, 1)\", \"name\": \"chart (1, 1) 20190304\", \"uid\": \"ecf6caec-1df1-11ea-8aa5-8c859025e7f9\", \"x\": [-0.3, -0.25, -0.2, -0.15, -0.1, -0.05, 0.0, 0.05, 0.1, 0.15, 0.2, 0.25, 0.3, 0.35], \"y\": [null, 0.1038, 0.0796, 0.0476, 0.0206, 0.0051, 0.0, 0.0005, 0.0049, 0.0213, 0.0339, 0.0558, 0.0992, 0.1066], \"yaxis\": \"y\", \"type\": \"scatter\", \"xaxis\": \"x\"}, {\"legendgroup\": \"chart (1, 1)\", \"name\": \"chart (1, 1) 20190305\", \"uid\": \"ecf73180-1df1-11ea-b6ab-8c859025e7f9\", \"x\": [-0.3, -0.25, -0.2, -0.15, -0.1, -0.05, 0.0, 0.05, 0.1, 0.15, 0.2, 0.25, 0.3, 0.35], \"y\": [0.1857, 0.1146, 0.0778, 0.0467, 0.0174, 0.0033, 0.0, -0.0001, 0.0039, 0.0205, 0.0352, 0.0671, 0.08, 0.1161], \"yaxis\": \"y\", \"type\": \"scatter\", \"xaxis\": \"x\"}, {\"legendgroup\": \"chart (1, 2)\", \"name\": \"chart (1, 2) 20190306\", \"uid\": \"ecf81cf8-1df1-11ea-86dd-8c859025e7f9\", \"x\": [-0.3, -0.25, -0.2, -0.15, -0.1, -0.05, 0.0, 0.05, 0.1, 0.15, 0.2, 0.25, 0.3, 0.35], \"y\": [null, null, null, null, null, null, 0.0, null, null, null, null, null, null, null], \"yaxis\": \"y2\", \"type\": \"scatter\", \"xaxis\": \"x2\"}, {\"legendgroup\": \"chart (1, 2)\", \"name\": \"chart (1, 2) 20190307\", \"uid\": \"ecf87d68-1df1-11ea-9dab-8c859025e7f9\", \"x\": [-0.3, -0.25, -0.2, -0.15, -0.1, -0.05, 0.0, 0.05, 0.1, 0.15, 0.2, 0.25, 0.3, 0.35], \"y\": [0.2034, 0.1317, 0.0914, 0.0468, 0.0203, 0.0056, 0.0, -0.0023, 0.0073, 0.0231, 0.0383, 0.0603, 0.0955, 0.1324], \"yaxis\": \"y2\", \"type\": \"scatter\", \"xaxis\": \"x2\"}, {\"legendgroup\": \"chart (1, 2)\", \"name\": \"chart (1, 2) 20190308\", \"uid\": \"ecf8dc1a-1df1-11ea-813a-8c859025e7f9\", \"x\": [-0.3, -0.25, -0.2, -0.15, -0.1, -0.05, 0.0, 0.05, 0.1, 0.15, 0.2, 0.25, 0.3, 0.35], \"y\": [0.202, 0.1297, 0.0888, 0.0562, 0.0224, 0.0037, 0.0, 0.0017, 0.0093, 0.0207, 0.0356, 0.082, 0.0933, 0.1303], \"yaxis\": \"y2\", \"type\": \"scatter\", \"xaxis\": \"x2\"}, {\"legendgroup\": \"chart (1, 2)\", \"name\": \"chart (1, 2) 20190311\", \"uid\": \"ecf9410a-1df1-11ea-9167-8c859025e7f9\", \"x\": [-0.3, -0.25, -0.2, -0.15, -0.1, -0.05, 0.0, 0.05, 0.1, 0.15, 0.2, 0.25, 0.3, 0.35], \"y\": [null, 0.1496, 0.1097, 0.055, 0.0192, 0.0015, 0.0, 0.0015, 0.0078, 0.0259, 0.052, 0.0704, 0.1109, 0.1494], \"yaxis\": \"y2\", \"type\": \"scatter\", \"xaxis\": \"x2\"}, {\"legendgroup\": \"chart (1, 2)\", \"name\": \"chart (1, 2) 20190312\", \"uid\": \"ecf9a26c-1df1-11ea-ab50-8c859025e7f9\", \"x\": [-0.3, -0.25, -0.2, -0.15, -0.1, -0.05, 0.0, 0.05, 0.1, 0.15, 0.2, 0.25, 0.3, 0.35], \"y\": [null, 0.1552, 0.107, 0.0634, 0.0204, 0.0005, 0.0, -0.0014, 0.0081, 0.0278, 0.0534, 0.0754, 0.1166, 0.1556], \"yaxis\": \"y2\", \"type\": \"scatter\", \"xaxis\": \"x2\"}, {\"legendgroup\": \"chart (2, 1)\", \"name\": \"chart (2, 1) 20190313\", \"uid\": \"ecfa9938-1df1-11ea-b3ae-8c859025e7f9\", \"x\": [-0.3, -0.25, -0.2, -0.15, -0.1, -0.05, 0.0, 0.05, 0.1, 0.15, 0.2, 0.25, 0.3, 0.35], \"y\": [null, 0.1512, 0.1112, 0.0521, 0.0221, 0.0028, 0.0, 0.0014, 0.0088, 0.0234, 0.0499, 0.0696, 0.1117, 0.1511], \"yaxis\": \"y3\", \"type\": \"scatter\", \"xaxis\": \"x3\"}, {\"legendgroup\": \"chart (2, 1)\", \"name\": \"chart (2, 1) 20190314\", \"uid\": \"ecfb189a-1df1-11ea-9d4d-8c859025e7f9\", \"x\": [-0.3, -0.25, -0.2, -0.15, -0.1, -0.05, 0.0, 0.05, 0.1, 0.15, 0.2, 0.25, 0.3, 0.35], \"y\": [0.2333, 0.1562, 0.1071, 0.063, 0.0204, 0.0039, 0.0, -0.0038, 0.0053, 0.0204, 0.0534, 0.0883, 0.1167, 0.1566], \"yaxis\": \"y3\", \"type\": \"scatter\", \"xaxis\": \"x3\"}, {\"legendgroup\": \"chart (2, 1)\", \"name\": \"chart (2, 1) 20190315\", \"uid\": \"ecfb8154-1df1-11ea-bac0-8c859025e7f9\", \"x\": [-0.3, -0.25, -0.2, -0.15, -0.1, -0.05, 0.0, 0.05, 0.1, 0.15, 0.2, 0.25, 0.3, 0.35], \"y\": [null, 0.165, 0.0885, 0.0527, 0.0271, 0.0042, 0.0, 0.002, 0.0108, 0.0316, 0.0568, 0.0822, 0.1249, 0.1653], \"yaxis\": \"y3\", \"type\": \"scatter\", \"xaxis\": \"x3\"}, {\"legendgroup\": \"chart (2, 1)\", \"name\": \"chart (2, 1) 20190318\", \"uid\": \"ecfbe766-1df1-11ea-a4a3-8c859025e7f9\", \"x\": [-0.3, -0.25, -0.2, -0.15, -0.1, -0.05, 0.0, 0.05, 0.1, 0.15, 0.2, 0.25, 0.3, 0.35], \"y\": [null, 0.18, 0.1, 0.0628, 0.0286, 0.0054, 0.0, 0.0012, 0.0096, 0.0215, 0.0582, 0.0942, 0.1386, 0.1804], \"yaxis\": \"y3\", \"type\": \"scatter\", \"xaxis\": \"x3\"}, {\"legendgroup\": \"chart (2, 1)\", \"name\": \"chart (2, 1) 20190319\", \"uid\": \"ecfc4e54-1df1-11ea-bad6-8c859025e7f9\", \"x\": [-0.3, -0.25, -0.2, -0.15, -0.1, -0.05, 0.0, 0.05, 0.1, 0.15, 0.2, 0.25, 0.3, 0.35], \"y\": [0.2718, 0.1897, 0.1108, 0.0781, 0.0306, 0.0075, 0.0, 0.0027, 0.0158, 0.0406, 0.0821, 0.103, 0.1477, 0.1901], \"yaxis\": \"y3\", \"type\": \"scatter\", \"xaxis\": \"x3\"}, {\"legendgroup\": \"chart (2, 2)\", \"name\": \"chart (2, 2) 20190320\", \"uid\": \"ecfd40c0-1df1-11ea-b39c-8c859025e7f9\", \"x\": [-0.3, -0.25, -0.2, -0.15, -0.1, -0.05, 0.0, 0.05, 0.1, 0.15, 0.2, 0.25, 0.3, 0.35], \"y\": [null, 0.1968, 0.1177, 0.0678, 0.0195, -0.0027, 0.0, 0.0037, 0.0153, 0.0306, 0.0595, 0.1086, 0.1542, 0.1972], \"yaxis\": \"y4\", \"type\": \"scatter\", \"xaxis\": \"x4\"}, {\"legendgroup\": \"chart (2, 2)\", \"name\": \"chart (2, 2) 20190321\", \"uid\": \"ecfdab28-1df1-11ea-928b-8c859025e7f9\", \"x\": [-0.3, -0.25, -0.2, -0.15, -0.1, -0.05, 0.0, 0.05, 0.1, 0.15, 0.2, 0.25, 0.3, 0.35], \"y\": [null, 0.1966, 0.1153, 0.0658, 0.0272, 0.0046, 0.0, 0.0017, 0.0117, 0.0278, 0.0608, 0.1072, 0.1534, 0.197], \"yaxis\": \"y4\", \"type\": \"scatter\", \"xaxis\": \"x4\"}, {\"legendgroup\": \"chart (2, 2)\", \"name\": \"chart (2, 2) 20190322\", \"uid\": \"ecfe18d8-1df1-11ea-9ce4-8c859025e7f9\", \"x\": [-0.3, -0.25, -0.2, -0.15, -0.1, -0.05, 0.0, 0.05, 0.1, 0.15, 0.2, 0.25, 0.3, 0.35], \"y\": [null, 0.1927, 0.11, 0.0794, 0.0354, 0.0081, 0.0, 0.0035, 0.0116, 0.0248, 0.0492, 0.1018, 0.1487, 0.193], \"yaxis\": \"y4\", \"type\": \"scatter\", \"xaxis\": \"x4\"}, {\"legendgroup\": \"chart (2, 2)\", \"name\": \"chart (2, 2) 20190325\", \"uid\": \"ecfe7eb8-1df1-11ea-827b-8c859025e7f9\", \"x\": [-0.3, -0.25, -0.2, -0.15, -0.1, -0.05, 0.0, 0.05, 0.1, 0.15, 0.2, 0.25, 0.3, 0.35], \"y\": [null, 0.2093, 0.1358, 0.0933, 0.0399, 0.0102, 0.0, 0.0007, 0.0079, 0.0323, 0.073, 0.1141, 0.1634, 0.2098], \"yaxis\": \"y4\", \"type\": \"scatter\", \"xaxis\": \"x4\"}, {\"legendgroup\": \"chart (2, 2)\", \"name\": \"chart (2, 2) 20190326\", \"uid\": \"ecfedde8-1df1-11ea-ab6a-8c859025e7f9\", \"x\": [-0.3, -0.25, -0.2, -0.15, -0.1, -0.05, 0.0, 0.05, 0.1, 0.15, 0.2, 0.25, 0.3, 0.35], \"y\": [null, 0.2231, 0.1359, 0.0808, 0.0431, 0.0094, 0.0, -0.0028, 0.0113, 0.0389, 0.0726, 0.1261, 0.1762, 0.2234], \"yaxis\": \"y4\", \"type\": \"scatter\", \"xaxis\": \"x4\"}], {\"annotations\": [{\"font\": {\"size\": 16}, \"showarrow\": false, \"text\": \"NGK19 20190227 - 20190305\", \"x\": 0.2275, \"xanchor\": \"center\", \"xref\": \"paper\", \"y\": 1.0, \"yanchor\": \"bottom\", \"yref\": \"paper\"}, {\"font\": {\"size\": 16}, \"showarrow\": false, \"text\": \"NGK19 20190306 - 20190312\", \"x\": 0.7725, \"xanchor\": \"center\", \"xref\": \"paper\", \"y\": 1.0, \"yanchor\": \"bottom\", \"yref\": \"paper\"}, {\"font\": {\"size\": 16}, \"showarrow\": false, \"text\": \"NGK19 20190313 - 20190319\", \"x\": 0.2275, \"xanchor\": \"center\", \"xref\": \"paper\", \"y\": 0.445, \"yanchor\": \"bottom\", \"yref\": \"paper\"}, {\"font\": {\"size\": 16}, \"showarrow\": false, \"text\": \"NGK19 20190320 - 20190326\", \"x\": 0.7725, \"xanchor\": \"center\", \"xref\": \"paper\", \"y\": 0.445, \"yanchor\": \"bottom\", \"yref\": \"paper\"}], \"xaxis\": {\"anchor\": \"y\", \"domain\": [0.0, 0.455], \"tickangle\": 45, \"ticktext\": [-0.3, -0.25, -0.2, -0.15, -0.1, -0.05, 0.0, 0.05, 0.1, 0.15, 0.2, 0.25, 0.3, 0.35], \"tickvals\": [-0.3, -0.25, -0.2, -0.15, -0.1, -0.05, 0.0, 0.05, 0.1, 0.15, 0.2, 0.25, 0.3, 0.35], \"type\": \"category\"}, \"yaxis\": {\"anchor\": \"x\", \"domain\": [0.555, 1.0], \"title\": \"vol skew\"}, \"xaxis2\": {\"anchor\": \"y2\", \"domain\": [0.545, 1.0], \"tickangle\": 45, \"ticktext\": [-0.3, -0.25, -0.2, -0.15, -0.1, -0.05, 0.0, 0.05, 0.1, 0.15, 0.2, 0.25, 0.3, 0.35], \"tickvals\": [-0.3, -0.25, -0.2, -0.15, -0.1, -0.05, 0.0, 0.05, 0.1, 0.15, 0.2, 0.25, 0.3, 0.35], \"type\": \"category\"}, \"yaxis2\": {\"anchor\": \"x2\", \"domain\": [0.555, 1.0], \"title\": \"vol skew\"}, \"xaxis3\": {\"anchor\": \"y3\", \"domain\": [0.0, 0.455], \"tickangle\": 45, \"ticktext\": [-0.3, -0.25, -0.2, -0.15, -0.1, -0.05, 0.0, 0.05, 0.1, 0.15, 0.2, 0.25, 0.3, 0.35], \"tickvals\": [-0.3, -0.25, -0.2, -0.15, -0.1, -0.05, 0.0, 0.05, 0.1, 0.15, 0.2, 0.25, 0.3, 0.35], \"type\": \"category\"}, \"yaxis3\": {\"anchor\": \"x3\", \"domain\": [0.0, 0.445], \"title\": \"vol skew\"}, \"xaxis4\": {\"anchor\": \"y4\", \"domain\": [0.545, 1.0], \"tickangle\": 45, \"ticktext\": [-0.3, -0.25, -0.2, -0.15, -0.1, -0.05, 0.0, 0.05, 0.1, 0.15, 0.2, 0.25, 0.3, 0.35], \"tickvals\": [-0.3, -0.25, -0.2, -0.15, -0.1, -0.05, 0.0, 0.05, 0.1, 0.15, 0.2, 0.25, 0.3, 0.35], \"type\": \"category\"}, \"yaxis4\": {\"anchor\": \"x4\", \"domain\": [0.0, 0.445], \"title\": \"vol skew\"}, \"font\": {\"family\": \"Open Sans, sans-serif\"}, \"margin\": {\"b\": 55, \"l\": 45, \"r\": 15, \"t\": 50}, \"title\": \"Skew plots<br>\", \"showlegend\": true, \"hovermode\": \"x\", \"autosize\": true, \"width\": 900, \"height\": 800, \"plot_bgcolor\": \"#EFECEA\", \"bargap\": 0.05}, {\"showLink\": true, \"linkText\": \"Export to plot.ly\"})});</script>"
      ]
     },
     "metadata": {},
     "output_type": "display_data"
    },
    {
     "data": {
      "application/vnd.plotly.v1+json": {
       "data": [
        {
         "legendgroup": "chart (1, 1)",
         "name": "chart (1, 1) 20190327",
         "type": "scatter",
         "uid": "ed08ece2-1df1-11ea-9956-8c859025e7f9",
         "x": [
          -0.3,
          -0.25,
          -0.2,
          -0.15,
          -0.1,
          -0.05,
          0,
          0.05,
          0.1,
          0.15,
          0.2,
          0.25,
          0.3,
          0.35
         ],
         "xaxis": "x",
         "y": [
          null,
          0.2296,
          0.1414,
          0.0911,
          0.0452,
          0.0052,
          0,
          0.005,
          0.0158,
          0.0454,
          0.0772,
          0.1309,
          0.1818,
          0.23
         ],
         "yaxis": "y"
        }
       ],
       "layout": {
        "annotations": [
         {
          "font": {
           "size": 16
          },
          "showarrow": false,
          "text": "NGK19 20190327 - 20190327",
          "x": 0.2275,
          "xanchor": "center",
          "xref": "paper",
          "y": 1,
          "yanchor": "bottom",
          "yref": "paper"
         }
        ],
        "autosize": true,
        "bargap": 0.05,
        "font": {
         "family": "Open Sans, sans-serif"
        },
        "height": 800,
        "hovermode": "x",
        "margin": {
         "b": 55,
         "l": 45,
         "r": 15,
         "t": 50
        },
        "plot_bgcolor": "#EFECEA",
        "showlegend": true,
        "title": "Skew plots<br>",
        "width": 900,
        "xaxis": {
         "anchor": "y",
         "domain": [
          0,
          0.455
         ],
         "tickangle": 45,
         "ticktext": [
          -0.3,
          -0.25,
          -0.2,
          -0.15,
          -0.1,
          -0.05,
          0,
          0.05,
          0.1,
          0.15,
          0.2,
          0.25,
          0.3,
          0.35
         ],
         "tickvals": [
          -0.3,
          -0.25,
          -0.2,
          -0.15,
          -0.1,
          -0.05,
          0,
          0.05,
          0.1,
          0.15,
          0.2,
          0.25,
          0.3,
          0.35
         ],
         "type": "category"
        },
        "xaxis2": {
         "anchor": "y2",
         "domain": [
          0.545,
          1
         ]
        },
        "xaxis3": {
         "anchor": "y3",
         "domain": [
          0,
          0.455
         ]
        },
        "xaxis4": {
         "anchor": "y4",
         "domain": [
          0.545,
          1
         ]
        },
        "yaxis": {
         "anchor": "x",
         "domain": [
          0.555,
          1
         ],
         "title": "vol skew"
        },
        "yaxis2": {
         "anchor": "x2",
         "domain": [
          0.555,
          1
         ]
        },
        "yaxis3": {
         "anchor": "x3",
         "domain": [
          0,
          0.445
         ]
        },
        "yaxis4": {
         "anchor": "x4",
         "domain": [
          0,
          0.445
         ]
        }
       }
      },
      "text/html": [
       "<div id=\"c7ccd14f-9951-4f61-97ac-60ee7515a47f\" style=\"height: 800px; width: 900px;\" class=\"plotly-graph-div\"></div><script type=\"text/javascript\">require([\"plotly\"], function(Plotly) { window.PLOTLYENV=window.PLOTLYENV || {};window.PLOTLYENV.BASE_URL=\"https://plot.ly\";Plotly.newPlot(\"c7ccd14f-9951-4f61-97ac-60ee7515a47f\", [{\"legendgroup\": \"chart (1, 1)\", \"name\": \"chart (1, 1) 20190327\", \"uid\": \"ed08ece2-1df1-11ea-9956-8c859025e7f9\", \"x\": [-0.3, -0.25, -0.2, -0.15, -0.1, -0.05, 0.0, 0.05, 0.1, 0.15, 0.2, 0.25, 0.3, 0.35], \"y\": [null, 0.2296, 0.1414, 0.0911, 0.0452, 0.0052, 0.0, 0.005, 0.0158, 0.0454, 0.0772, 0.1309, 0.1818, 0.23], \"yaxis\": \"y\", \"type\": \"scatter\", \"xaxis\": \"x\"}], {\"annotations\": [{\"font\": {\"size\": 16}, \"showarrow\": false, \"text\": \"NGK19 20190327 - 20190327\", \"x\": 0.2275, \"xanchor\": \"center\", \"xref\": \"paper\", \"y\": 1.0, \"yanchor\": \"bottom\", \"yref\": \"paper\"}], \"xaxis\": {\"anchor\": \"y\", \"domain\": [0.0, 0.455], \"tickangle\": 45, \"ticktext\": [-0.3, -0.25, -0.2, -0.15, -0.1, -0.05, 0.0, 0.05, 0.1, 0.15, 0.2, 0.25, 0.3, 0.35], \"tickvals\": [-0.3, -0.25, -0.2, -0.15, -0.1, -0.05, 0.0, 0.05, 0.1, 0.15, 0.2, 0.25, 0.3, 0.35], \"type\": \"category\"}, \"yaxis\": {\"anchor\": \"x\", \"domain\": [0.555, 1.0], \"title\": \"vol skew\"}, \"xaxis2\": {\"anchor\": \"y2\", \"domain\": [0.545, 1.0]}, \"yaxis2\": {\"anchor\": \"x2\", \"domain\": [0.555, 1.0]}, \"xaxis3\": {\"anchor\": \"y3\", \"domain\": [0.0, 0.455]}, \"yaxis3\": {\"anchor\": \"x3\", \"domain\": [0.0, 0.445]}, \"xaxis4\": {\"anchor\": \"y4\", \"domain\": [0.545, 1.0]}, \"yaxis4\": {\"anchor\": \"x4\", \"domain\": [0.0, 0.445]}, \"font\": {\"family\": \"Open Sans, sans-serif\"}, \"margin\": {\"b\": 55, \"l\": 45, \"r\": 15, \"t\": 50}, \"title\": \"Skew plots<br>\", \"showlegend\": true, \"hovermode\": \"x\", \"autosize\": true, \"width\": 900, \"height\": 800, \"plot_bgcolor\": \"#EFECEA\", \"bargap\": 0.05}, {\"showLink\": true, \"linkText\": \"Export to plot.ly\"})});</script>"
      ],
      "text/vnd.plotly.v1+html": [
       "<div id=\"c7ccd14f-9951-4f61-97ac-60ee7515a47f\" style=\"height: 800px; width: 900px;\" class=\"plotly-graph-div\"></div><script type=\"text/javascript\">require([\"plotly\"], function(Plotly) { window.PLOTLYENV=window.PLOTLYENV || {};window.PLOTLYENV.BASE_URL=\"https://plot.ly\";Plotly.newPlot(\"c7ccd14f-9951-4f61-97ac-60ee7515a47f\", [{\"legendgroup\": \"chart (1, 1)\", \"name\": \"chart (1, 1) 20190327\", \"uid\": \"ed08ece2-1df1-11ea-9956-8c859025e7f9\", \"x\": [-0.3, -0.25, -0.2, -0.15, -0.1, -0.05, 0.0, 0.05, 0.1, 0.15, 0.2, 0.25, 0.3, 0.35], \"y\": [null, 0.2296, 0.1414, 0.0911, 0.0452, 0.0052, 0.0, 0.005, 0.0158, 0.0454, 0.0772, 0.1309, 0.1818, 0.23], \"yaxis\": \"y\", \"type\": \"scatter\", \"xaxis\": \"x\"}], {\"annotations\": [{\"font\": {\"size\": 16}, \"showarrow\": false, \"text\": \"NGK19 20190327 - 20190327\", \"x\": 0.2275, \"xanchor\": \"center\", \"xref\": \"paper\", \"y\": 1.0, \"yanchor\": \"bottom\", \"yref\": \"paper\"}], \"xaxis\": {\"anchor\": \"y\", \"domain\": [0.0, 0.455], \"tickangle\": 45, \"ticktext\": [-0.3, -0.25, -0.2, -0.15, -0.1, -0.05, 0.0, 0.05, 0.1, 0.15, 0.2, 0.25, 0.3, 0.35], \"tickvals\": [-0.3, -0.25, -0.2, -0.15, -0.1, -0.05, 0.0, 0.05, 0.1, 0.15, 0.2, 0.25, 0.3, 0.35], \"type\": \"category\"}, \"yaxis\": {\"anchor\": \"x\", \"domain\": [0.555, 1.0], \"title\": \"vol skew\"}, \"xaxis2\": {\"anchor\": \"y2\", \"domain\": [0.545, 1.0]}, \"yaxis2\": {\"anchor\": \"x2\", \"domain\": [0.555, 1.0]}, \"xaxis3\": {\"anchor\": \"y3\", \"domain\": [0.0, 0.455]}, \"yaxis3\": {\"anchor\": \"x3\", \"domain\": [0.0, 0.445]}, \"xaxis4\": {\"anchor\": \"y4\", \"domain\": [0.545, 1.0]}, \"yaxis4\": {\"anchor\": \"x4\", \"domain\": [0.0, 0.445]}, \"font\": {\"family\": \"Open Sans, sans-serif\"}, \"margin\": {\"b\": 55, \"l\": 45, \"r\": 15, \"t\": 50}, \"title\": \"Skew plots<br>\", \"showlegend\": true, \"hovermode\": \"x\", \"autosize\": true, \"width\": 900, \"height\": 800, \"plot_bgcolor\": \"#EFECEA\", \"bargap\": 0.05}, {\"showLink\": true, \"linkText\": \"Export to plot.ly\"})});</script>"
      ]
     },
     "metadata": {},
     "output_type": "display_data"
    },
    {
     "data": {
      "application/vnd.plotly.v1+json": {
       "data": [
        {
         "legendgroup": "chart (1, 1)",
         "name": "chart (1, 1) 20190328",
         "type": "scatter",
         "uid": "ed565836-1df1-11ea-b205-8c859025e7f9",
         "x": [
          -0.25,
          -0.2,
          -0.15,
          -0.1,
          -0.05,
          0,
          0.05,
          0.1,
          0.15,
          0.2,
          0.25,
          0.3,
          0.35
         ],
         "xaxis": "x",
         "y": [
          0.1062,
          0.0737,
          0.053,
          0.0237,
          0.0085,
          0,
          -0.0019,
          0.0012,
          0.0151,
          0.035,
          0.0634,
          0.0793,
          0.1083
         ],
         "yaxis": "y"
        },
        {
         "legendgroup": "chart (1, 1)",
         "name": "chart (1, 1) 20190329",
         "type": "scatter",
         "uid": "ed56b7f4-1df1-11ea-bdd9-8c859025e7f9",
         "x": [
          -0.25,
          -0.2,
          -0.15,
          -0.1,
          -0.05,
          0,
          0.05,
          0.1,
          0.15,
          0.2,
          0.25,
          0.3,
          0.35
         ],
         "xaxis": "x",
         "y": [
          0.1291,
          0.0925,
          0.0519,
          0.031,
          0.0093,
          0,
          -0.0029,
          0.002,
          0.0156,
          0.0326,
          0.0591,
          0.0688,
          0.1042
         ],
         "yaxis": "y"
        },
        {
         "legendgroup": "chart (1, 1)",
         "name": "chart (1, 1) 20190401",
         "type": "scatter",
         "uid": "ed572630-1df1-11ea-97f6-8c859025e7f9",
         "x": [
          -0.25,
          -0.2,
          -0.15,
          -0.1,
          -0.05,
          0,
          0.05,
          0.1,
          0.15,
          0.2,
          0.25,
          0.3,
          0.35
         ],
         "xaxis": "x",
         "y": [
          0.1431,
          0.0917,
          0.0674,
          0.0361,
          0.0111,
          0,
          -0.0032,
          0.0009,
          0.0149,
          0.0379,
          0.0642,
          0.0907,
          0.1108
         ],
         "yaxis": "y"
        },
        {
         "legendgroup": "chart (1, 1)",
         "name": "chart (1, 1) 20190402",
         "type": "scatter",
         "uid": "ed5790c0-1df1-11ea-b22f-8c859025e7f9",
         "x": [
          -0.25,
          -0.2,
          -0.15,
          -0.1,
          -0.05,
          0,
          0.05,
          0.1,
          0.15,
          0.2,
          0.25,
          0.3,
          0.35
         ],
         "xaxis": "x",
         "y": [
          0.1439,
          0.0953,
          0.0624,
          0.0342,
          0.0123,
          0,
          -0.0029,
          0.0007,
          0.0117,
          0.0376,
          0.0683,
          0.0853,
          0.1152
         ],
         "yaxis": "y"
        },
        {
         "legendgroup": "chart (1, 1)",
         "name": "chart (1, 1) 20190403",
         "type": "scatter",
         "uid": "ed57f538-1df1-11ea-ab75-8c859025e7f9",
         "x": [
          -0.25,
          -0.2,
          -0.15,
          -0.1,
          -0.05,
          0,
          0.05,
          0.1,
          0.15,
          0.2,
          0.25,
          0.3,
          0.35
         ],
         "xaxis": "x",
         "y": [
          0.1508,
          0.1123,
          0.0703,
          0.0397,
          0.0127,
          0,
          -0.0036,
          -0.0038,
          0.0177,
          0.0483,
          0.0762,
          0.0875,
          0.1242
         ],
         "yaxis": "y"
        },
        {
         "legendgroup": "chart (1, 2)",
         "name": "chart (1, 2) 20190404",
         "type": "scatter",
         "uid": "ed58e81c-1df1-11ea-9533-8c859025e7f9",
         "x": [
          -0.25,
          -0.2,
          -0.15,
          -0.1,
          -0.05,
          0,
          0.05,
          0.1,
          0.15,
          0.2,
          0.25,
          0.3,
          0.35
         ],
         "xaxis": "x2",
         "y": [
          0.1446,
          0.1117,
          0.0707,
          0.0415,
          0.0119,
          0,
          -0.0002,
          0.0056,
          0.0216,
          0.0497,
          0.091,
          0.0958,
          0.1316
         ],
         "yaxis": "y2"
        },
        {
         "legendgroup": "chart (1, 2)",
         "name": "chart (1, 2) 20190405",
         "type": "scatter",
         "uid": "ed5947da-1df1-11ea-a9e6-8c859025e7f9",
         "x": [
          -0.25,
          -0.2,
          -0.15,
          -0.1,
          -0.05,
          0,
          0.05,
          0.1,
          0.15,
          0.2,
          0.25,
          0.3,
          0.35
         ],
         "xaxis": "x2",
         "y": [
          0.1303,
          0.1002,
          0.0678,
          0.0354,
          0.0104,
          0,
          -0.003,
          0.0069,
          0.0297,
          0.0447,
          0.0927,
          0.1003,
          0.1355
         ],
         "yaxis": "y2"
        },
        {
         "legendgroup": "chart (1, 2)",
         "name": "chart (1, 2) 20190408",
         "type": "scatter",
         "uid": "ed59b8b4-1df1-11ea-abb9-8c859025e7f9",
         "x": [
          -0.25,
          -0.2,
          -0.15,
          -0.1,
          -0.05,
          0,
          0.05,
          0.1,
          0.15,
          0.2,
          0.25,
          0.3,
          0.35
         ],
         "xaxis": "x2",
         "y": [
          0.1369,
          0.0961,
          0.0633,
          0.0334,
          0.0078,
          0,
          0.0003,
          0.0074,
          0.0276,
          0.0591,
          0.0865,
          0.0978,
          0.137
         ],
         "yaxis": "y2"
        },
        {
         "legendgroup": "chart (1, 2)",
         "name": "chart (1, 2) 20190409",
         "type": "scatter",
         "uid": "ed5a24e8-1df1-11ea-b268-8c859025e7f9",
         "x": [
          -0.25,
          -0.2,
          -0.15,
          -0.1,
          -0.05,
          0,
          0.05,
          0.1,
          0.15,
          0.2,
          0.25,
          0.3,
          0.35
         ],
         "xaxis": "x2",
         "y": [
          0.1468,
          0.1029,
          0.0657,
          0.0324,
          0.0107,
          0,
          0.0002,
          0.0062,
          0.0291,
          0.0523,
          0.0701,
          0.11,
          0.147
         ],
         "yaxis": "y2"
        },
        {
         "legendgroup": "chart (1, 2)",
         "name": "chart (1, 2) 20190410",
         "type": "scatter",
         "uid": "ed5a8e58-1df1-11ea-a74c-8c859025e7f9",
         "x": [
          -0.25,
          -0.2,
          -0.15,
          -0.1,
          -0.05,
          0,
          0.05,
          0.1,
          0.15,
          0.2,
          0.25,
          0.3,
          0.35
         ],
         "xaxis": "x2",
         "y": [
          0.1472,
          0.1041,
          0.0591,
          0.0335,
          0.0082,
          0,
          -0.0013,
          0.0035,
          0.0276,
          0.0518,
          0.0698,
          0.11,
          0.1474
         ],
         "yaxis": "y2"
        },
        {
         "legendgroup": "chart (2, 1)",
         "name": "chart (2, 1) 20190411",
         "type": "scatter",
         "uid": "ed5b8af4-1df1-11ea-8cd3-8c859025e7f9",
         "x": [
          -0.25,
          -0.2,
          -0.15,
          -0.1,
          -0.05,
          0,
          0.05,
          0.1,
          0.15,
          0.2,
          0.25,
          0.3,
          0.35
         ],
         "xaxis": "x3",
         "y": [
          0.152,
          0.0894,
          0.0692,
          0.0349,
          0.0102,
          0,
          -0.0026,
          0.0052,
          0.0291,
          0.0554,
          0.0768,
          0.1145,
          0.1524
         ],
         "yaxis": "y3"
        },
        {
         "legendgroup": "chart (2, 1)",
         "name": "chart (2, 1) 20190412",
         "type": "scatter",
         "uid": "ed5c1bc2-1df1-11ea-92f2-8c859025e7f9",
         "x": [
          -0.25,
          -0.2,
          -0.15,
          -0.1,
          -0.05,
          0,
          0.05,
          0.1,
          0.15,
          0.2,
          0.25,
          0.3,
          0.35
         ],
         "xaxis": "x3",
         "y": [
          0.1556,
          0.0905,
          0.071,
          0.0352,
          0.0096,
          0,
          -0.0012,
          0.0065,
          0.0323,
          0.0576,
          0.0805,
          0.1177,
          0.1559
         ],
         "yaxis": "y3"
        },
        {
         "legendgroup": "chart (2, 1)",
         "name": "chart (2, 1) 20190415",
         "type": "scatter",
         "uid": "ed5c86fa-1df1-11ea-8c77-8c859025e7f9",
         "x": [
          -0.25,
          -0.2,
          -0.15,
          -0.1,
          -0.05,
          0,
          0.05,
          0.1,
          0.15,
          0.2,
          0.25,
          0.3,
          0.35
         ],
         "xaxis": "x3",
         "y": [
          null,
          0.0904,
          0.0702,
          0.0408,
          0.0139,
          0,
          -0.0026,
          0.0062,
          0.0286,
          0.0607,
          0.0791,
          0.1217,
          0.1613
         ],
         "yaxis": "y3"
        },
        {
         "legendgroup": "chart (2, 1)",
         "name": "chart (2, 1) 20190416",
         "type": "scatter",
         "uid": "ed5ce8cc-1df1-11ea-bfd7-8c859025e7f9",
         "x": [
          -0.25,
          -0.2,
          -0.15,
          -0.1,
          -0.05,
          0,
          0.05,
          0.1,
          0.15,
          0.2,
          0.25,
          0.3,
          0.35
         ],
         "xaxis": "x3",
         "y": [
          null,
          0.0844,
          0.0632,
          0.0403,
          0.0143,
          0,
          -0.0023,
          0.0042,
          0.0192,
          0.0591,
          0.078,
          0.12,
          0.1601
         ],
         "yaxis": "y3"
        },
        {
         "legendgroup": "chart (2, 1)",
         "name": "chart (2, 1) 20190417",
         "type": "scatter",
         "uid": "ed5d4db4-1df1-11ea-b221-8c859025e7f9",
         "x": [
          -0.25,
          -0.2,
          -0.15,
          -0.1,
          -0.05,
          0,
          0.05,
          0.1,
          0.15,
          0.2,
          0.25,
          0.3,
          0.35
         ],
         "xaxis": "x3",
         "y": [
          null,
          0.0988,
          0.0528,
          0.0348,
          0.0132,
          0,
          -0.0033,
          0.0003,
          0.016,
          0.0378,
          0.0886,
          0.0949,
          0.1434
         ],
         "yaxis": "y3"
        },
        {
         "legendgroup": "chart (2, 2)",
         "name": "chart (2, 2) 20190418",
         "type": "scatter",
         "uid": "ed5e3562-1df1-11ea-b909-8c859025e7f9",
         "x": [
          -0.25,
          -0.2,
          -0.15,
          -0.1,
          -0.05,
          0,
          0.05,
          0.1,
          0.15,
          0.2,
          0.25,
          0.3,
          0.35
         ],
         "xaxis": "x4",
         "y": [
          null,
          0.0864,
          0.0555,
          0.0322,
          0.0111,
          0,
          -0.0045,
          0.0005,
          0.0164,
          0.04,
          0.0558,
          0.1024,
          0.1436
         ],
         "yaxis": "y4"
        },
        {
         "legendgroup": "chart (2, 2)",
         "name": "chart (2, 2) 20190422",
         "type": "scatter",
         "uid": "ed5ea694-1df1-11ea-a3fe-8c859025e7f9",
         "x": [
          -0.25,
          -0.2,
          -0.15,
          -0.1,
          -0.05,
          0,
          0.05,
          0.1,
          0.15,
          0.2,
          0.25,
          0.3,
          0.35
         ],
         "xaxis": "x4",
         "y": [
          null,
          0.085,
          0.0507,
          0.0289,
          0.0103,
          0,
          -0.0016,
          0.0024,
          0.0195,
          0.0576,
          0.0771,
          0.1233,
          0.1667
         ],
         "yaxis": "y4"
        },
        {
         "legendgroup": "chart (2, 2)",
         "name": "chart (2, 2) 20190423",
         "type": "scatter",
         "uid": "ed5f0b52-1df1-11ea-874b-8c859025e7f9",
         "x": [
          -0.25,
          -0.2,
          -0.15,
          -0.1,
          -0.05,
          0,
          0.05,
          0.1,
          0.15,
          0.2,
          0.25,
          0.3,
          0.35
         ],
         "xaxis": "x4",
         "y": [
          null,
          null,
          0.0537,
          0.0259,
          0.0118,
          0,
          -0.0052,
          -0.0057,
          0.0134,
          0.0471,
          0.0691,
          0.1154,
          0.1595
         ],
         "yaxis": "y4"
        },
        {
         "legendgroup": "chart (2, 2)",
         "name": "chart (2, 2) 20190424",
         "type": "scatter",
         "uid": "ed5f7068-1df1-11ea-abda-8c859025e7f9",
         "x": [
          -0.25,
          -0.2,
          -0.15,
          -0.1,
          -0.05,
          0,
          0.05,
          0.1,
          0.15,
          0.2,
          0.25,
          0.3,
          0.35
         ],
         "xaxis": "x4",
         "y": [
          null,
          null,
          null,
          null,
          null,
          0,
          null,
          -0.0014,
          null,
          0.0242,
          null,
          0.1221,
          null
         ],
         "yaxis": "y4"
        },
        {
         "legendgroup": "chart (2, 2)",
         "name": "chart (2, 2) 20190425",
         "type": "scatter",
         "uid": "ed5fd762-1df1-11ea-bc7a-8c859025e7f9",
         "x": [
          -0.25,
          -0.2,
          -0.15,
          -0.1,
          -0.05,
          0,
          0.05,
          0.1,
          0.15,
          0.2,
          0.25,
          0.3,
          0.35
         ],
         "xaxis": "x4",
         "y": [
          null,
          0.0997,
          0.0542,
          0.0246,
          0.0078,
          0,
          -0.0037,
          0.0027,
          0.0152,
          0.0386,
          0.0895,
          0.1375,
          0.1829
         ],
         "yaxis": "y4"
        }
       ],
       "layout": {
        "annotations": [
         {
          "font": {
           "size": 16
          },
          "showarrow": false,
          "text": "NGM19 20190328 - 20190403",
          "x": 0.2275,
          "xanchor": "center",
          "xref": "paper",
          "y": 1,
          "yanchor": "bottom",
          "yref": "paper"
         },
         {
          "font": {
           "size": 16
          },
          "showarrow": false,
          "text": "NGM19 20190404 - 20190410",
          "x": 0.7725,
          "xanchor": "center",
          "xref": "paper",
          "y": 1,
          "yanchor": "bottom",
          "yref": "paper"
         },
         {
          "font": {
           "size": 16
          },
          "showarrow": false,
          "text": "NGM19 20190411 - 20190417",
          "x": 0.2275,
          "xanchor": "center",
          "xref": "paper",
          "y": 0.445,
          "yanchor": "bottom",
          "yref": "paper"
         },
         {
          "font": {
           "size": 16
          },
          "showarrow": false,
          "text": "NGM19 20190418 - 20190425",
          "x": 0.7725,
          "xanchor": "center",
          "xref": "paper",
          "y": 0.445,
          "yanchor": "bottom",
          "yref": "paper"
         }
        ],
        "autosize": true,
        "bargap": 0.05,
        "font": {
         "family": "Open Sans, sans-serif"
        },
        "height": 800,
        "hovermode": "x",
        "margin": {
         "b": 55,
         "l": 45,
         "r": 15,
         "t": 50
        },
        "plot_bgcolor": "#EFECEA",
        "showlegend": true,
        "title": "Skew plots<br>",
        "width": 900,
        "xaxis": {
         "anchor": "y",
         "domain": [
          0,
          0.455
         ],
         "tickangle": 45,
         "ticktext": [
          -0.25,
          -0.2,
          -0.15,
          -0.1,
          -0.05,
          0,
          0.05,
          0.1,
          0.15,
          0.2,
          0.25,
          0.3,
          0.35
         ],
         "tickvals": [
          -0.25,
          -0.2,
          -0.15,
          -0.1,
          -0.05,
          0,
          0.05,
          0.1,
          0.15,
          0.2,
          0.25,
          0.3,
          0.35
         ],
         "type": "category"
        },
        "xaxis2": {
         "anchor": "y2",
         "domain": [
          0.545,
          1
         ],
         "tickangle": 45,
         "ticktext": [
          -0.25,
          -0.2,
          -0.15,
          -0.1,
          -0.05,
          0,
          0.05,
          0.1,
          0.15,
          0.2,
          0.25,
          0.3,
          0.35
         ],
         "tickvals": [
          -0.25,
          -0.2,
          -0.15,
          -0.1,
          -0.05,
          0,
          0.05,
          0.1,
          0.15,
          0.2,
          0.25,
          0.3,
          0.35
         ],
         "type": "category"
        },
        "xaxis3": {
         "anchor": "y3",
         "domain": [
          0,
          0.455
         ],
         "tickangle": 45,
         "ticktext": [
          -0.25,
          -0.2,
          -0.15,
          -0.1,
          -0.05,
          0,
          0.05,
          0.1,
          0.15,
          0.2,
          0.25,
          0.3,
          0.35
         ],
         "tickvals": [
          -0.25,
          -0.2,
          -0.15,
          -0.1,
          -0.05,
          0,
          0.05,
          0.1,
          0.15,
          0.2,
          0.25,
          0.3,
          0.35
         ],
         "type": "category"
        },
        "xaxis4": {
         "anchor": "y4",
         "domain": [
          0.545,
          1
         ],
         "tickangle": 45,
         "ticktext": [
          -0.25,
          -0.2,
          -0.15,
          -0.1,
          -0.05,
          0,
          0.05,
          0.1,
          0.15,
          0.2,
          0.25,
          0.3,
          0.35
         ],
         "tickvals": [
          -0.25,
          -0.2,
          -0.15,
          -0.1,
          -0.05,
          0,
          0.05,
          0.1,
          0.15,
          0.2,
          0.25,
          0.3,
          0.35
         ],
         "type": "category"
        },
        "yaxis": {
         "anchor": "x",
         "domain": [
          0.555,
          1
         ],
         "title": "vol skew"
        },
        "yaxis2": {
         "anchor": "x2",
         "domain": [
          0.555,
          1
         ],
         "title": "vol skew"
        },
        "yaxis3": {
         "anchor": "x3",
         "domain": [
          0,
          0.445
         ],
         "title": "vol skew"
        },
        "yaxis4": {
         "anchor": "x4",
         "domain": [
          0,
          0.445
         ],
         "title": "vol skew"
        }
       }
      },
      "text/html": [
       "<div id=\"354326b5-6406-4045-bd1d-d0f3e747793d\" style=\"height: 800px; width: 900px;\" class=\"plotly-graph-div\"></div><script type=\"text/javascript\">require([\"plotly\"], function(Plotly) { window.PLOTLYENV=window.PLOTLYENV || {};window.PLOTLYENV.BASE_URL=\"https://plot.ly\";Plotly.newPlot(\"354326b5-6406-4045-bd1d-d0f3e747793d\", [{\"legendgroup\": \"chart (1, 1)\", \"name\": \"chart (1, 1) 20190328\", \"uid\": \"ed565836-1df1-11ea-b205-8c859025e7f9\", \"x\": [-0.25, -0.2, -0.15, -0.1, -0.05, 0.0, 0.05, 0.1, 0.15, 0.2, 0.25, 0.3, 0.35], \"y\": [0.1062, 0.0737, 0.053, 0.0237, 0.0085, 0.0, -0.0019, 0.0012, 0.0151, 0.035, 0.0634, 0.0793, 0.1083], \"yaxis\": \"y\", \"type\": \"scatter\", \"xaxis\": \"x\"}, {\"legendgroup\": \"chart (1, 1)\", \"name\": \"chart (1, 1) 20190329\", \"uid\": \"ed56b7f4-1df1-11ea-bdd9-8c859025e7f9\", \"x\": [-0.25, -0.2, -0.15, -0.1, -0.05, 0.0, 0.05, 0.1, 0.15, 0.2, 0.25, 0.3, 0.35], \"y\": [0.1291, 0.0925, 0.0519, 0.031, 0.0093, 0.0, -0.0029, 0.002, 0.0156, 0.0326, 0.0591, 0.0688, 0.1042], \"yaxis\": \"y\", \"type\": \"scatter\", \"xaxis\": \"x\"}, {\"legendgroup\": \"chart (1, 1)\", \"name\": \"chart (1, 1) 20190401\", \"uid\": \"ed572630-1df1-11ea-97f6-8c859025e7f9\", \"x\": [-0.25, -0.2, -0.15, -0.1, -0.05, 0.0, 0.05, 0.1, 0.15, 0.2, 0.25, 0.3, 0.35], \"y\": [0.1431, 0.0917, 0.0674, 0.0361, 0.0111, 0.0, -0.0032, 0.0009, 0.0149, 0.0379, 0.0642, 0.0907, 0.1108], \"yaxis\": \"y\", \"type\": \"scatter\", \"xaxis\": \"x\"}, {\"legendgroup\": \"chart (1, 1)\", \"name\": \"chart (1, 1) 20190402\", \"uid\": \"ed5790c0-1df1-11ea-b22f-8c859025e7f9\", \"x\": [-0.25, -0.2, -0.15, -0.1, -0.05, 0.0, 0.05, 0.1, 0.15, 0.2, 0.25, 0.3, 0.35], \"y\": [0.1439, 0.0953, 0.0624, 0.0342, 0.0123, 0.0, -0.0029, 0.0007, 0.0117, 0.0376, 0.0683, 0.0853, 0.1152], \"yaxis\": \"y\", \"type\": \"scatter\", \"xaxis\": \"x\"}, {\"legendgroup\": \"chart (1, 1)\", \"name\": \"chart (1, 1) 20190403\", \"uid\": \"ed57f538-1df1-11ea-ab75-8c859025e7f9\", \"x\": [-0.25, -0.2, -0.15, -0.1, -0.05, 0.0, 0.05, 0.1, 0.15, 0.2, 0.25, 0.3, 0.35], \"y\": [0.1508, 0.1123, 0.0703, 0.0397, 0.0127, 0.0, -0.0036, -0.0038, 0.0177, 0.0483, 0.0762, 0.0875, 0.1242], \"yaxis\": \"y\", \"type\": \"scatter\", \"xaxis\": \"x\"}, {\"legendgroup\": \"chart (1, 2)\", \"name\": \"chart (1, 2) 20190404\", \"uid\": \"ed58e81c-1df1-11ea-9533-8c859025e7f9\", \"x\": [-0.25, -0.2, -0.15, -0.1, -0.05, 0.0, 0.05, 0.1, 0.15, 0.2, 0.25, 0.3, 0.35], \"y\": [0.1446, 0.1117, 0.0707, 0.0415, 0.0119, 0.0, -0.0002, 0.0056, 0.0216, 0.0497, 0.091, 0.0958, 0.1316], \"yaxis\": \"y2\", \"type\": \"scatter\", \"xaxis\": \"x2\"}, {\"legendgroup\": \"chart (1, 2)\", \"name\": \"chart (1, 2) 20190405\", \"uid\": \"ed5947da-1df1-11ea-a9e6-8c859025e7f9\", \"x\": [-0.25, -0.2, -0.15, -0.1, -0.05, 0.0, 0.05, 0.1, 0.15, 0.2, 0.25, 0.3, 0.35], \"y\": [0.1303, 0.1002, 0.0678, 0.0354, 0.0104, 0.0, -0.003, 0.0069, 0.0297, 0.0447, 0.0927, 0.1003, 0.1355], \"yaxis\": \"y2\", \"type\": \"scatter\", \"xaxis\": \"x2\"}, {\"legendgroup\": \"chart (1, 2)\", \"name\": \"chart (1, 2) 20190408\", \"uid\": \"ed59b8b4-1df1-11ea-abb9-8c859025e7f9\", \"x\": [-0.25, -0.2, -0.15, -0.1, -0.05, 0.0, 0.05, 0.1, 0.15, 0.2, 0.25, 0.3, 0.35], \"y\": [0.1369, 0.0961, 0.0633, 0.0334, 0.0078, 0.0, 0.0003, 0.0074, 0.0276, 0.0591, 0.0865, 0.0978, 0.137], \"yaxis\": \"y2\", \"type\": \"scatter\", \"xaxis\": \"x2\"}, {\"legendgroup\": \"chart (1, 2)\", \"name\": \"chart (1, 2) 20190409\", \"uid\": \"ed5a24e8-1df1-11ea-b268-8c859025e7f9\", \"x\": [-0.25, -0.2, -0.15, -0.1, -0.05, 0.0, 0.05, 0.1, 0.15, 0.2, 0.25, 0.3, 0.35], \"y\": [0.1468, 0.1029, 0.0657, 0.0324, 0.0107, 0.0, 0.0002, 0.0062, 0.0291, 0.0523, 0.0701, 0.11, 0.147], \"yaxis\": \"y2\", \"type\": \"scatter\", \"xaxis\": \"x2\"}, {\"legendgroup\": \"chart (1, 2)\", \"name\": \"chart (1, 2) 20190410\", \"uid\": \"ed5a8e58-1df1-11ea-a74c-8c859025e7f9\", \"x\": [-0.25, -0.2, -0.15, -0.1, -0.05, 0.0, 0.05, 0.1, 0.15, 0.2, 0.25, 0.3, 0.35], \"y\": [0.1472, 0.1041, 0.0591, 0.0335, 0.0082, 0.0, -0.0013, 0.0035, 0.0276, 0.0518, 0.0698, 0.11, 0.1474], \"yaxis\": \"y2\", \"type\": \"scatter\", \"xaxis\": \"x2\"}, {\"legendgroup\": \"chart (2, 1)\", \"name\": \"chart (2, 1) 20190411\", \"uid\": \"ed5b8af4-1df1-11ea-8cd3-8c859025e7f9\", \"x\": [-0.25, -0.2, -0.15, -0.1, -0.05, 0.0, 0.05, 0.1, 0.15, 0.2, 0.25, 0.3, 0.35], \"y\": [0.152, 0.0894, 0.0692, 0.0349, 0.0102, 0.0, -0.0026, 0.0052, 0.0291, 0.0554, 0.0768, 0.1145, 0.1524], \"yaxis\": \"y3\", \"type\": \"scatter\", \"xaxis\": \"x3\"}, {\"legendgroup\": \"chart (2, 1)\", \"name\": \"chart (2, 1) 20190412\", \"uid\": \"ed5c1bc2-1df1-11ea-92f2-8c859025e7f9\", \"x\": [-0.25, -0.2, -0.15, -0.1, -0.05, 0.0, 0.05, 0.1, 0.15, 0.2, 0.25, 0.3, 0.35], \"y\": [0.1556, 0.0905, 0.071, 0.0352, 0.0096, 0.0, -0.0012, 0.0065, 0.0323, 0.0576, 0.0805, 0.1177, 0.1559], \"yaxis\": \"y3\", \"type\": \"scatter\", \"xaxis\": \"x3\"}, {\"legendgroup\": \"chart (2, 1)\", \"name\": \"chart (2, 1) 20190415\", \"uid\": \"ed5c86fa-1df1-11ea-8c77-8c859025e7f9\", \"x\": [-0.25, -0.2, -0.15, -0.1, -0.05, 0.0, 0.05, 0.1, 0.15, 0.2, 0.25, 0.3, 0.35], \"y\": [null, 0.0904, 0.0702, 0.0408, 0.0139, 0.0, -0.0026, 0.0062, 0.0286, 0.0607, 0.0791, 0.1217, 0.1613], \"yaxis\": \"y3\", \"type\": \"scatter\", \"xaxis\": \"x3\"}, {\"legendgroup\": \"chart (2, 1)\", \"name\": \"chart (2, 1) 20190416\", \"uid\": \"ed5ce8cc-1df1-11ea-bfd7-8c859025e7f9\", \"x\": [-0.25, -0.2, -0.15, -0.1, -0.05, 0.0, 0.05, 0.1, 0.15, 0.2, 0.25, 0.3, 0.35], \"y\": [null, 0.0844, 0.0632, 0.0403, 0.0143, 0.0, -0.0023, 0.0042, 0.0192, 0.0591, 0.078, 0.12, 0.1601], \"yaxis\": \"y3\", \"type\": \"scatter\", \"xaxis\": \"x3\"}, {\"legendgroup\": \"chart (2, 1)\", \"name\": \"chart (2, 1) 20190417\", \"uid\": \"ed5d4db4-1df1-11ea-b221-8c859025e7f9\", \"x\": [-0.25, -0.2, -0.15, -0.1, -0.05, 0.0, 0.05, 0.1, 0.15, 0.2, 0.25, 0.3, 0.35], \"y\": [null, 0.0988, 0.0528, 0.0348, 0.0132, 0.0, -0.0033, 0.0003, 0.016, 0.0378, 0.0886, 0.0949, 0.1434], \"yaxis\": \"y3\", \"type\": \"scatter\", \"xaxis\": \"x3\"}, {\"legendgroup\": \"chart (2, 2)\", \"name\": \"chart (2, 2) 20190418\", \"uid\": \"ed5e3562-1df1-11ea-b909-8c859025e7f9\", \"x\": [-0.25, -0.2, -0.15, -0.1, -0.05, 0.0, 0.05, 0.1, 0.15, 0.2, 0.25, 0.3, 0.35], \"y\": [null, 0.0864, 0.0555, 0.0322, 0.0111, 0.0, -0.0045, 0.0005, 0.0164, 0.04, 0.0558, 0.1024, 0.1436], \"yaxis\": \"y4\", \"type\": \"scatter\", \"xaxis\": \"x4\"}, {\"legendgroup\": \"chart (2, 2)\", \"name\": \"chart (2, 2) 20190422\", \"uid\": \"ed5ea694-1df1-11ea-a3fe-8c859025e7f9\", \"x\": [-0.25, -0.2, -0.15, -0.1, -0.05, 0.0, 0.05, 0.1, 0.15, 0.2, 0.25, 0.3, 0.35], \"y\": [null, 0.085, 0.0507, 0.0289, 0.0103, 0.0, -0.0016, 0.0024, 0.0195, 0.0576, 0.0771, 0.1233, 0.1667], \"yaxis\": \"y4\", \"type\": \"scatter\", \"xaxis\": \"x4\"}, {\"legendgroup\": \"chart (2, 2)\", \"name\": \"chart (2, 2) 20190423\", \"uid\": \"ed5f0b52-1df1-11ea-874b-8c859025e7f9\", \"x\": [-0.25, -0.2, -0.15, -0.1, -0.05, 0.0, 0.05, 0.1, 0.15, 0.2, 0.25, 0.3, 0.35], \"y\": [null, null, 0.0537, 0.0259, 0.0118, 0.0, -0.0052, -0.0057, 0.0134, 0.0471, 0.0691, 0.1154, 0.1595], \"yaxis\": \"y4\", \"type\": \"scatter\", \"xaxis\": \"x4\"}, {\"legendgroup\": \"chart (2, 2)\", \"name\": \"chart (2, 2) 20190424\", \"uid\": \"ed5f7068-1df1-11ea-abda-8c859025e7f9\", \"x\": [-0.25, -0.2, -0.15, -0.1, -0.05, 0.0, 0.05, 0.1, 0.15, 0.2, 0.25, 0.3, 0.35], \"y\": [null, null, null, null, null, 0.0, null, -0.0014, null, 0.0242, null, 0.1221, null], \"yaxis\": \"y4\", \"type\": \"scatter\", \"xaxis\": \"x4\"}, {\"legendgroup\": \"chart (2, 2)\", \"name\": \"chart (2, 2) 20190425\", \"uid\": \"ed5fd762-1df1-11ea-bc7a-8c859025e7f9\", \"x\": [-0.25, -0.2, -0.15, -0.1, -0.05, 0.0, 0.05, 0.1, 0.15, 0.2, 0.25, 0.3, 0.35], \"y\": [null, 0.0997, 0.0542, 0.0246, 0.0078, 0.0, -0.0037, 0.0027, 0.0152, 0.0386, 0.0895, 0.1375, 0.1829], \"yaxis\": \"y4\", \"type\": \"scatter\", \"xaxis\": \"x4\"}], {\"annotations\": [{\"font\": {\"size\": 16}, \"showarrow\": false, \"text\": \"NGM19 20190328 - 20190403\", \"x\": 0.2275, \"xanchor\": \"center\", \"xref\": \"paper\", \"y\": 1.0, \"yanchor\": \"bottom\", \"yref\": \"paper\"}, {\"font\": {\"size\": 16}, \"showarrow\": false, \"text\": \"NGM19 20190404 - 20190410\", \"x\": 0.7725, \"xanchor\": \"center\", \"xref\": \"paper\", \"y\": 1.0, \"yanchor\": \"bottom\", \"yref\": \"paper\"}, {\"font\": {\"size\": 16}, \"showarrow\": false, \"text\": \"NGM19 20190411 - 20190417\", \"x\": 0.2275, \"xanchor\": \"center\", \"xref\": \"paper\", \"y\": 0.445, \"yanchor\": \"bottom\", \"yref\": \"paper\"}, {\"font\": {\"size\": 16}, \"showarrow\": false, \"text\": \"NGM19 20190418 - 20190425\", \"x\": 0.7725, \"xanchor\": \"center\", \"xref\": \"paper\", \"y\": 0.445, \"yanchor\": \"bottom\", \"yref\": \"paper\"}], \"xaxis\": {\"anchor\": \"y\", \"domain\": [0.0, 0.455], \"tickangle\": 45, \"ticktext\": [-0.25, -0.2, -0.15, -0.1, -0.05, 0.0, 0.05, 0.1, 0.15, 0.2, 0.25, 0.3, 0.35], \"tickvals\": [-0.25, -0.2, -0.15, -0.1, -0.05, 0.0, 0.05, 0.1, 0.15, 0.2, 0.25, 0.3, 0.35], \"type\": \"category\"}, \"yaxis\": {\"anchor\": \"x\", \"domain\": [0.555, 1.0], \"title\": \"vol skew\"}, \"xaxis2\": {\"anchor\": \"y2\", \"domain\": [0.545, 1.0], \"tickangle\": 45, \"ticktext\": [-0.25, -0.2, -0.15, -0.1, -0.05, 0.0, 0.05, 0.1, 0.15, 0.2, 0.25, 0.3, 0.35], \"tickvals\": [-0.25, -0.2, -0.15, -0.1, -0.05, 0.0, 0.05, 0.1, 0.15, 0.2, 0.25, 0.3, 0.35], \"type\": \"category\"}, \"yaxis2\": {\"anchor\": \"x2\", \"domain\": [0.555, 1.0], \"title\": \"vol skew\"}, \"xaxis3\": {\"anchor\": \"y3\", \"domain\": [0.0, 0.455], \"tickangle\": 45, \"ticktext\": [-0.25, -0.2, -0.15, -0.1, -0.05, 0.0, 0.05, 0.1, 0.15, 0.2, 0.25, 0.3, 0.35], \"tickvals\": [-0.25, -0.2, -0.15, -0.1, -0.05, 0.0, 0.05, 0.1, 0.15, 0.2, 0.25, 0.3, 0.35], \"type\": \"category\"}, \"yaxis3\": {\"anchor\": \"x3\", \"domain\": [0.0, 0.445], \"title\": \"vol skew\"}, \"xaxis4\": {\"anchor\": \"y4\", \"domain\": [0.545, 1.0], \"tickangle\": 45, \"ticktext\": [-0.25, -0.2, -0.15, -0.1, -0.05, 0.0, 0.05, 0.1, 0.15, 0.2, 0.25, 0.3, 0.35], \"tickvals\": [-0.25, -0.2, -0.15, -0.1, -0.05, 0.0, 0.05, 0.1, 0.15, 0.2, 0.25, 0.3, 0.35], \"type\": \"category\"}, \"yaxis4\": {\"anchor\": \"x4\", \"domain\": [0.0, 0.445], \"title\": \"vol skew\"}, \"font\": {\"family\": \"Open Sans, sans-serif\"}, \"margin\": {\"b\": 55, \"l\": 45, \"r\": 15, \"t\": 50}, \"title\": \"Skew plots<br>\", \"showlegend\": true, \"hovermode\": \"x\", \"autosize\": true, \"width\": 900, \"height\": 800, \"plot_bgcolor\": \"#EFECEA\", \"bargap\": 0.05}, {\"showLink\": true, \"linkText\": \"Export to plot.ly\"})});</script>"
      ],
      "text/vnd.plotly.v1+html": [
       "<div id=\"354326b5-6406-4045-bd1d-d0f3e747793d\" style=\"height: 800px; width: 900px;\" class=\"plotly-graph-div\"></div><script type=\"text/javascript\">require([\"plotly\"], function(Plotly) { window.PLOTLYENV=window.PLOTLYENV || {};window.PLOTLYENV.BASE_URL=\"https://plot.ly\";Plotly.newPlot(\"354326b5-6406-4045-bd1d-d0f3e747793d\", [{\"legendgroup\": \"chart (1, 1)\", \"name\": \"chart (1, 1) 20190328\", \"uid\": \"ed565836-1df1-11ea-b205-8c859025e7f9\", \"x\": [-0.25, -0.2, -0.15, -0.1, -0.05, 0.0, 0.05, 0.1, 0.15, 0.2, 0.25, 0.3, 0.35], \"y\": [0.1062, 0.0737, 0.053, 0.0237, 0.0085, 0.0, -0.0019, 0.0012, 0.0151, 0.035, 0.0634, 0.0793, 0.1083], \"yaxis\": \"y\", \"type\": \"scatter\", \"xaxis\": \"x\"}, {\"legendgroup\": \"chart (1, 1)\", \"name\": \"chart (1, 1) 20190329\", \"uid\": \"ed56b7f4-1df1-11ea-bdd9-8c859025e7f9\", \"x\": [-0.25, -0.2, -0.15, -0.1, -0.05, 0.0, 0.05, 0.1, 0.15, 0.2, 0.25, 0.3, 0.35], \"y\": [0.1291, 0.0925, 0.0519, 0.031, 0.0093, 0.0, -0.0029, 0.002, 0.0156, 0.0326, 0.0591, 0.0688, 0.1042], \"yaxis\": \"y\", \"type\": \"scatter\", \"xaxis\": \"x\"}, {\"legendgroup\": \"chart (1, 1)\", \"name\": \"chart (1, 1) 20190401\", \"uid\": \"ed572630-1df1-11ea-97f6-8c859025e7f9\", \"x\": [-0.25, -0.2, -0.15, -0.1, -0.05, 0.0, 0.05, 0.1, 0.15, 0.2, 0.25, 0.3, 0.35], \"y\": [0.1431, 0.0917, 0.0674, 0.0361, 0.0111, 0.0, -0.0032, 0.0009, 0.0149, 0.0379, 0.0642, 0.0907, 0.1108], \"yaxis\": \"y\", \"type\": \"scatter\", \"xaxis\": \"x\"}, {\"legendgroup\": \"chart (1, 1)\", \"name\": \"chart (1, 1) 20190402\", \"uid\": \"ed5790c0-1df1-11ea-b22f-8c859025e7f9\", \"x\": [-0.25, -0.2, -0.15, -0.1, -0.05, 0.0, 0.05, 0.1, 0.15, 0.2, 0.25, 0.3, 0.35], \"y\": [0.1439, 0.0953, 0.0624, 0.0342, 0.0123, 0.0, -0.0029, 0.0007, 0.0117, 0.0376, 0.0683, 0.0853, 0.1152], \"yaxis\": \"y\", \"type\": \"scatter\", \"xaxis\": \"x\"}, {\"legendgroup\": \"chart (1, 1)\", \"name\": \"chart (1, 1) 20190403\", \"uid\": \"ed57f538-1df1-11ea-ab75-8c859025e7f9\", \"x\": [-0.25, -0.2, -0.15, -0.1, -0.05, 0.0, 0.05, 0.1, 0.15, 0.2, 0.25, 0.3, 0.35], \"y\": [0.1508, 0.1123, 0.0703, 0.0397, 0.0127, 0.0, -0.0036, -0.0038, 0.0177, 0.0483, 0.0762, 0.0875, 0.1242], \"yaxis\": \"y\", \"type\": \"scatter\", \"xaxis\": \"x\"}, {\"legendgroup\": \"chart (1, 2)\", \"name\": \"chart (1, 2) 20190404\", \"uid\": \"ed58e81c-1df1-11ea-9533-8c859025e7f9\", \"x\": [-0.25, -0.2, -0.15, -0.1, -0.05, 0.0, 0.05, 0.1, 0.15, 0.2, 0.25, 0.3, 0.35], \"y\": [0.1446, 0.1117, 0.0707, 0.0415, 0.0119, 0.0, -0.0002, 0.0056, 0.0216, 0.0497, 0.091, 0.0958, 0.1316], \"yaxis\": \"y2\", \"type\": \"scatter\", \"xaxis\": \"x2\"}, {\"legendgroup\": \"chart (1, 2)\", \"name\": \"chart (1, 2) 20190405\", \"uid\": \"ed5947da-1df1-11ea-a9e6-8c859025e7f9\", \"x\": [-0.25, -0.2, -0.15, -0.1, -0.05, 0.0, 0.05, 0.1, 0.15, 0.2, 0.25, 0.3, 0.35], \"y\": [0.1303, 0.1002, 0.0678, 0.0354, 0.0104, 0.0, -0.003, 0.0069, 0.0297, 0.0447, 0.0927, 0.1003, 0.1355], \"yaxis\": \"y2\", \"type\": \"scatter\", \"xaxis\": \"x2\"}, {\"legendgroup\": \"chart (1, 2)\", \"name\": \"chart (1, 2) 20190408\", \"uid\": \"ed59b8b4-1df1-11ea-abb9-8c859025e7f9\", \"x\": [-0.25, -0.2, -0.15, -0.1, -0.05, 0.0, 0.05, 0.1, 0.15, 0.2, 0.25, 0.3, 0.35], \"y\": [0.1369, 0.0961, 0.0633, 0.0334, 0.0078, 0.0, 0.0003, 0.0074, 0.0276, 0.0591, 0.0865, 0.0978, 0.137], \"yaxis\": \"y2\", \"type\": \"scatter\", \"xaxis\": \"x2\"}, {\"legendgroup\": \"chart (1, 2)\", \"name\": \"chart (1, 2) 20190409\", \"uid\": \"ed5a24e8-1df1-11ea-b268-8c859025e7f9\", \"x\": [-0.25, -0.2, -0.15, -0.1, -0.05, 0.0, 0.05, 0.1, 0.15, 0.2, 0.25, 0.3, 0.35], \"y\": [0.1468, 0.1029, 0.0657, 0.0324, 0.0107, 0.0, 0.0002, 0.0062, 0.0291, 0.0523, 0.0701, 0.11, 0.147], \"yaxis\": \"y2\", \"type\": \"scatter\", \"xaxis\": \"x2\"}, {\"legendgroup\": \"chart (1, 2)\", \"name\": \"chart (1, 2) 20190410\", \"uid\": \"ed5a8e58-1df1-11ea-a74c-8c859025e7f9\", \"x\": [-0.25, -0.2, -0.15, -0.1, -0.05, 0.0, 0.05, 0.1, 0.15, 0.2, 0.25, 0.3, 0.35], \"y\": [0.1472, 0.1041, 0.0591, 0.0335, 0.0082, 0.0, -0.0013, 0.0035, 0.0276, 0.0518, 0.0698, 0.11, 0.1474], \"yaxis\": \"y2\", \"type\": \"scatter\", \"xaxis\": \"x2\"}, {\"legendgroup\": \"chart (2, 1)\", \"name\": \"chart (2, 1) 20190411\", \"uid\": \"ed5b8af4-1df1-11ea-8cd3-8c859025e7f9\", \"x\": [-0.25, -0.2, -0.15, -0.1, -0.05, 0.0, 0.05, 0.1, 0.15, 0.2, 0.25, 0.3, 0.35], \"y\": [0.152, 0.0894, 0.0692, 0.0349, 0.0102, 0.0, -0.0026, 0.0052, 0.0291, 0.0554, 0.0768, 0.1145, 0.1524], \"yaxis\": \"y3\", \"type\": \"scatter\", \"xaxis\": \"x3\"}, {\"legendgroup\": \"chart (2, 1)\", \"name\": \"chart (2, 1) 20190412\", \"uid\": \"ed5c1bc2-1df1-11ea-92f2-8c859025e7f9\", \"x\": [-0.25, -0.2, -0.15, -0.1, -0.05, 0.0, 0.05, 0.1, 0.15, 0.2, 0.25, 0.3, 0.35], \"y\": [0.1556, 0.0905, 0.071, 0.0352, 0.0096, 0.0, -0.0012, 0.0065, 0.0323, 0.0576, 0.0805, 0.1177, 0.1559], \"yaxis\": \"y3\", \"type\": \"scatter\", \"xaxis\": \"x3\"}, {\"legendgroup\": \"chart (2, 1)\", \"name\": \"chart (2, 1) 20190415\", \"uid\": \"ed5c86fa-1df1-11ea-8c77-8c859025e7f9\", \"x\": [-0.25, -0.2, -0.15, -0.1, -0.05, 0.0, 0.05, 0.1, 0.15, 0.2, 0.25, 0.3, 0.35], \"y\": [null, 0.0904, 0.0702, 0.0408, 0.0139, 0.0, -0.0026, 0.0062, 0.0286, 0.0607, 0.0791, 0.1217, 0.1613], \"yaxis\": \"y3\", \"type\": \"scatter\", \"xaxis\": \"x3\"}, {\"legendgroup\": \"chart (2, 1)\", \"name\": \"chart (2, 1) 20190416\", \"uid\": \"ed5ce8cc-1df1-11ea-bfd7-8c859025e7f9\", \"x\": [-0.25, -0.2, -0.15, -0.1, -0.05, 0.0, 0.05, 0.1, 0.15, 0.2, 0.25, 0.3, 0.35], \"y\": [null, 0.0844, 0.0632, 0.0403, 0.0143, 0.0, -0.0023, 0.0042, 0.0192, 0.0591, 0.078, 0.12, 0.1601], \"yaxis\": \"y3\", \"type\": \"scatter\", \"xaxis\": \"x3\"}, {\"legendgroup\": \"chart (2, 1)\", \"name\": \"chart (2, 1) 20190417\", \"uid\": \"ed5d4db4-1df1-11ea-b221-8c859025e7f9\", \"x\": [-0.25, -0.2, -0.15, -0.1, -0.05, 0.0, 0.05, 0.1, 0.15, 0.2, 0.25, 0.3, 0.35], \"y\": [null, 0.0988, 0.0528, 0.0348, 0.0132, 0.0, -0.0033, 0.0003, 0.016, 0.0378, 0.0886, 0.0949, 0.1434], \"yaxis\": \"y3\", \"type\": \"scatter\", \"xaxis\": \"x3\"}, {\"legendgroup\": \"chart (2, 2)\", \"name\": \"chart (2, 2) 20190418\", \"uid\": \"ed5e3562-1df1-11ea-b909-8c859025e7f9\", \"x\": [-0.25, -0.2, -0.15, -0.1, -0.05, 0.0, 0.05, 0.1, 0.15, 0.2, 0.25, 0.3, 0.35], \"y\": [null, 0.0864, 0.0555, 0.0322, 0.0111, 0.0, -0.0045, 0.0005, 0.0164, 0.04, 0.0558, 0.1024, 0.1436], \"yaxis\": \"y4\", \"type\": \"scatter\", \"xaxis\": \"x4\"}, {\"legendgroup\": \"chart (2, 2)\", \"name\": \"chart (2, 2) 20190422\", \"uid\": \"ed5ea694-1df1-11ea-a3fe-8c859025e7f9\", \"x\": [-0.25, -0.2, -0.15, -0.1, -0.05, 0.0, 0.05, 0.1, 0.15, 0.2, 0.25, 0.3, 0.35], \"y\": [null, 0.085, 0.0507, 0.0289, 0.0103, 0.0, -0.0016, 0.0024, 0.0195, 0.0576, 0.0771, 0.1233, 0.1667], \"yaxis\": \"y4\", \"type\": \"scatter\", \"xaxis\": \"x4\"}, {\"legendgroup\": \"chart (2, 2)\", \"name\": \"chart (2, 2) 20190423\", \"uid\": \"ed5f0b52-1df1-11ea-874b-8c859025e7f9\", \"x\": [-0.25, -0.2, -0.15, -0.1, -0.05, 0.0, 0.05, 0.1, 0.15, 0.2, 0.25, 0.3, 0.35], \"y\": [null, null, 0.0537, 0.0259, 0.0118, 0.0, -0.0052, -0.0057, 0.0134, 0.0471, 0.0691, 0.1154, 0.1595], \"yaxis\": \"y4\", \"type\": \"scatter\", \"xaxis\": \"x4\"}, {\"legendgroup\": \"chart (2, 2)\", \"name\": \"chart (2, 2) 20190424\", \"uid\": \"ed5f7068-1df1-11ea-abda-8c859025e7f9\", \"x\": [-0.25, -0.2, -0.15, -0.1, -0.05, 0.0, 0.05, 0.1, 0.15, 0.2, 0.25, 0.3, 0.35], \"y\": [null, null, null, null, null, 0.0, null, -0.0014, null, 0.0242, null, 0.1221, null], \"yaxis\": \"y4\", \"type\": \"scatter\", \"xaxis\": \"x4\"}, {\"legendgroup\": \"chart (2, 2)\", \"name\": \"chart (2, 2) 20190425\", \"uid\": \"ed5fd762-1df1-11ea-bc7a-8c859025e7f9\", \"x\": [-0.25, -0.2, -0.15, -0.1, -0.05, 0.0, 0.05, 0.1, 0.15, 0.2, 0.25, 0.3, 0.35], \"y\": [null, 0.0997, 0.0542, 0.0246, 0.0078, 0.0, -0.0037, 0.0027, 0.0152, 0.0386, 0.0895, 0.1375, 0.1829], \"yaxis\": \"y4\", \"type\": \"scatter\", \"xaxis\": \"x4\"}], {\"annotations\": [{\"font\": {\"size\": 16}, \"showarrow\": false, \"text\": \"NGM19 20190328 - 20190403\", \"x\": 0.2275, \"xanchor\": \"center\", \"xref\": \"paper\", \"y\": 1.0, \"yanchor\": \"bottom\", \"yref\": \"paper\"}, {\"font\": {\"size\": 16}, \"showarrow\": false, \"text\": \"NGM19 20190404 - 20190410\", \"x\": 0.7725, \"xanchor\": \"center\", \"xref\": \"paper\", \"y\": 1.0, \"yanchor\": \"bottom\", \"yref\": \"paper\"}, {\"font\": {\"size\": 16}, \"showarrow\": false, \"text\": \"NGM19 20190411 - 20190417\", \"x\": 0.2275, \"xanchor\": \"center\", \"xref\": \"paper\", \"y\": 0.445, \"yanchor\": \"bottom\", \"yref\": \"paper\"}, {\"font\": {\"size\": 16}, \"showarrow\": false, \"text\": \"NGM19 20190418 - 20190425\", \"x\": 0.7725, \"xanchor\": \"center\", \"xref\": \"paper\", \"y\": 0.445, \"yanchor\": \"bottom\", \"yref\": \"paper\"}], \"xaxis\": {\"anchor\": \"y\", \"domain\": [0.0, 0.455], \"tickangle\": 45, \"ticktext\": [-0.25, -0.2, -0.15, -0.1, -0.05, 0.0, 0.05, 0.1, 0.15, 0.2, 0.25, 0.3, 0.35], \"tickvals\": [-0.25, -0.2, -0.15, -0.1, -0.05, 0.0, 0.05, 0.1, 0.15, 0.2, 0.25, 0.3, 0.35], \"type\": \"category\"}, \"yaxis\": {\"anchor\": \"x\", \"domain\": [0.555, 1.0], \"title\": \"vol skew\"}, \"xaxis2\": {\"anchor\": \"y2\", \"domain\": [0.545, 1.0], \"tickangle\": 45, \"ticktext\": [-0.25, -0.2, -0.15, -0.1, -0.05, 0.0, 0.05, 0.1, 0.15, 0.2, 0.25, 0.3, 0.35], \"tickvals\": [-0.25, -0.2, -0.15, -0.1, -0.05, 0.0, 0.05, 0.1, 0.15, 0.2, 0.25, 0.3, 0.35], \"type\": \"category\"}, \"yaxis2\": {\"anchor\": \"x2\", \"domain\": [0.555, 1.0], \"title\": \"vol skew\"}, \"xaxis3\": {\"anchor\": \"y3\", \"domain\": [0.0, 0.455], \"tickangle\": 45, \"ticktext\": [-0.25, -0.2, -0.15, -0.1, -0.05, 0.0, 0.05, 0.1, 0.15, 0.2, 0.25, 0.3, 0.35], \"tickvals\": [-0.25, -0.2, -0.15, -0.1, -0.05, 0.0, 0.05, 0.1, 0.15, 0.2, 0.25, 0.3, 0.35], \"type\": \"category\"}, \"yaxis3\": {\"anchor\": \"x3\", \"domain\": [0.0, 0.445], \"title\": \"vol skew\"}, \"xaxis4\": {\"anchor\": \"y4\", \"domain\": [0.545, 1.0], \"tickangle\": 45, \"ticktext\": [-0.25, -0.2, -0.15, -0.1, -0.05, 0.0, 0.05, 0.1, 0.15, 0.2, 0.25, 0.3, 0.35], \"tickvals\": [-0.25, -0.2, -0.15, -0.1, -0.05, 0.0, 0.05, 0.1, 0.15, 0.2, 0.25, 0.3, 0.35], \"type\": \"category\"}, \"yaxis4\": {\"anchor\": \"x4\", \"domain\": [0.0, 0.445], \"title\": \"vol skew\"}, \"font\": {\"family\": \"Open Sans, sans-serif\"}, \"margin\": {\"b\": 55, \"l\": 45, \"r\": 15, \"t\": 50}, \"title\": \"Skew plots<br>\", \"showlegend\": true, \"hovermode\": \"x\", \"autosize\": true, \"width\": 900, \"height\": 800, \"plot_bgcolor\": \"#EFECEA\", \"bargap\": 0.05}, {\"showLink\": true, \"linkText\": \"Export to plot.ly\"})});</script>"
      ]
     },
     "metadata": {},
     "output_type": "display_data"
    },
    {
     "data": {
      "application/vnd.plotly.v1+json": {
       "data": [
        {
         "legendgroup": "chart (1, 1)",
         "name": "chart (1, 1) 20190426",
         "type": "scatter",
         "uid": "ed6a0b2e-1df1-11ea-a26f-8c859025e7f9",
         "x": [
          -0.25,
          -0.2,
          -0.15,
          -0.1,
          -0.05,
          0,
          0.05,
          0.1,
          0.15,
          0.2,
          0.25,
          0.3,
          0.35
         ],
         "xaxis": "x",
         "y": [
          null,
          0.1008,
          0.0426,
          0.0249,
          0.0115,
          0,
          -0.0018,
          0.0032,
          0.0189,
          0.0405,
          0.0908,
          0.1396,
          0.1857
         ],
         "yaxis": "y"
        }
       ],
       "layout": {
        "annotations": [
         {
          "font": {
           "size": 16
          },
          "showarrow": false,
          "text": "NGM19 20190426 - 20190426",
          "x": 0.2275,
          "xanchor": "center",
          "xref": "paper",
          "y": 1,
          "yanchor": "bottom",
          "yref": "paper"
         }
        ],
        "autosize": true,
        "bargap": 0.05,
        "font": {
         "family": "Open Sans, sans-serif"
        },
        "height": 800,
        "hovermode": "x",
        "margin": {
         "b": 55,
         "l": 45,
         "r": 15,
         "t": 50
        },
        "plot_bgcolor": "#EFECEA",
        "showlegend": true,
        "title": "Skew plots<br>",
        "width": 900,
        "xaxis": {
         "anchor": "y",
         "domain": [
          0,
          0.455
         ],
         "tickangle": 45,
         "ticktext": [
          -0.25,
          -0.2,
          -0.15,
          -0.1,
          -0.05,
          0,
          0.05,
          0.1,
          0.15,
          0.2,
          0.25,
          0.3,
          0.35
         ],
         "tickvals": [
          -0.25,
          -0.2,
          -0.15,
          -0.1,
          -0.05,
          0,
          0.05,
          0.1,
          0.15,
          0.2,
          0.25,
          0.3,
          0.35
         ],
         "type": "category"
        },
        "xaxis2": {
         "anchor": "y2",
         "domain": [
          0.545,
          1
         ]
        },
        "xaxis3": {
         "anchor": "y3",
         "domain": [
          0,
          0.455
         ]
        },
        "xaxis4": {
         "anchor": "y4",
         "domain": [
          0.545,
          1
         ]
        },
        "yaxis": {
         "anchor": "x",
         "domain": [
          0.555,
          1
         ],
         "title": "vol skew"
        },
        "yaxis2": {
         "anchor": "x2",
         "domain": [
          0.555,
          1
         ]
        },
        "yaxis3": {
         "anchor": "x3",
         "domain": [
          0,
          0.445
         ]
        },
        "yaxis4": {
         "anchor": "x4",
         "domain": [
          0,
          0.445
         ]
        }
       }
      },
      "text/html": [
       "<div id=\"fc1f685a-a36d-41cc-ae6c-748e7d2fb97c\" style=\"height: 800px; width: 900px;\" class=\"plotly-graph-div\"></div><script type=\"text/javascript\">require([\"plotly\"], function(Plotly) { window.PLOTLYENV=window.PLOTLYENV || {};window.PLOTLYENV.BASE_URL=\"https://plot.ly\";Plotly.newPlot(\"fc1f685a-a36d-41cc-ae6c-748e7d2fb97c\", [{\"legendgroup\": \"chart (1, 1)\", \"name\": \"chart (1, 1) 20190426\", \"uid\": \"ed6a0b2e-1df1-11ea-a26f-8c859025e7f9\", \"x\": [-0.25, -0.2, -0.15, -0.1, -0.05, 0.0, 0.05, 0.1, 0.15, 0.2, 0.25, 0.3, 0.35], \"y\": [null, 0.1008, 0.0426, 0.0249, 0.0115, 0.0, -0.0018, 0.0032, 0.0189, 0.0405, 0.0908, 0.1396, 0.1857], \"yaxis\": \"y\", \"type\": \"scatter\", \"xaxis\": \"x\"}], {\"annotations\": [{\"font\": {\"size\": 16}, \"showarrow\": false, \"text\": \"NGM19 20190426 - 20190426\", \"x\": 0.2275, \"xanchor\": \"center\", \"xref\": \"paper\", \"y\": 1.0, \"yanchor\": \"bottom\", \"yref\": \"paper\"}], \"xaxis\": {\"anchor\": \"y\", \"domain\": [0.0, 0.455], \"tickangle\": 45, \"ticktext\": [-0.25, -0.2, -0.15, -0.1, -0.05, 0.0, 0.05, 0.1, 0.15, 0.2, 0.25, 0.3, 0.35], \"tickvals\": [-0.25, -0.2, -0.15, -0.1, -0.05, 0.0, 0.05, 0.1, 0.15, 0.2, 0.25, 0.3, 0.35], \"type\": \"category\"}, \"yaxis\": {\"anchor\": \"x\", \"domain\": [0.555, 1.0], \"title\": \"vol skew\"}, \"xaxis2\": {\"anchor\": \"y2\", \"domain\": [0.545, 1.0]}, \"yaxis2\": {\"anchor\": \"x2\", \"domain\": [0.555, 1.0]}, \"xaxis3\": {\"anchor\": \"y3\", \"domain\": [0.0, 0.455]}, \"yaxis3\": {\"anchor\": \"x3\", \"domain\": [0.0, 0.445]}, \"xaxis4\": {\"anchor\": \"y4\", \"domain\": [0.545, 1.0]}, \"yaxis4\": {\"anchor\": \"x4\", \"domain\": [0.0, 0.445]}, \"font\": {\"family\": \"Open Sans, sans-serif\"}, \"margin\": {\"b\": 55, \"l\": 45, \"r\": 15, \"t\": 50}, \"title\": \"Skew plots<br>\", \"showlegend\": true, \"hovermode\": \"x\", \"autosize\": true, \"width\": 900, \"height\": 800, \"plot_bgcolor\": \"#EFECEA\", \"bargap\": 0.05}, {\"showLink\": true, \"linkText\": \"Export to plot.ly\"})});</script>"
      ],
      "text/vnd.plotly.v1+html": [
       "<div id=\"fc1f685a-a36d-41cc-ae6c-748e7d2fb97c\" style=\"height: 800px; width: 900px;\" class=\"plotly-graph-div\"></div><script type=\"text/javascript\">require([\"plotly\"], function(Plotly) { window.PLOTLYENV=window.PLOTLYENV || {};window.PLOTLYENV.BASE_URL=\"https://plot.ly\";Plotly.newPlot(\"fc1f685a-a36d-41cc-ae6c-748e7d2fb97c\", [{\"legendgroup\": \"chart (1, 1)\", \"name\": \"chart (1, 1) 20190426\", \"uid\": \"ed6a0b2e-1df1-11ea-a26f-8c859025e7f9\", \"x\": [-0.25, -0.2, -0.15, -0.1, -0.05, 0.0, 0.05, 0.1, 0.15, 0.2, 0.25, 0.3, 0.35], \"y\": [null, 0.1008, 0.0426, 0.0249, 0.0115, 0.0, -0.0018, 0.0032, 0.0189, 0.0405, 0.0908, 0.1396, 0.1857], \"yaxis\": \"y\", \"type\": \"scatter\", \"xaxis\": \"x\"}], {\"annotations\": [{\"font\": {\"size\": 16}, \"showarrow\": false, \"text\": \"NGM19 20190426 - 20190426\", \"x\": 0.2275, \"xanchor\": \"center\", \"xref\": \"paper\", \"y\": 1.0, \"yanchor\": \"bottom\", \"yref\": \"paper\"}], \"xaxis\": {\"anchor\": \"y\", \"domain\": [0.0, 0.455], \"tickangle\": 45, \"ticktext\": [-0.25, -0.2, -0.15, -0.1, -0.05, 0.0, 0.05, 0.1, 0.15, 0.2, 0.25, 0.3, 0.35], \"tickvals\": [-0.25, -0.2, -0.15, -0.1, -0.05, 0.0, 0.05, 0.1, 0.15, 0.2, 0.25, 0.3, 0.35], \"type\": \"category\"}, \"yaxis\": {\"anchor\": \"x\", \"domain\": [0.555, 1.0], \"title\": \"vol skew\"}, \"xaxis2\": {\"anchor\": \"y2\", \"domain\": [0.545, 1.0]}, \"yaxis2\": {\"anchor\": \"x2\", \"domain\": [0.555, 1.0]}, \"xaxis3\": {\"anchor\": \"y3\", \"domain\": [0.0, 0.455]}, \"yaxis3\": {\"anchor\": \"x3\", \"domain\": [0.0, 0.445]}, \"xaxis4\": {\"anchor\": \"y4\", \"domain\": [0.545, 1.0]}, \"yaxis4\": {\"anchor\": \"x4\", \"domain\": [0.0, 0.445]}, \"font\": {\"family\": \"Open Sans, sans-serif\"}, \"margin\": {\"b\": 55, \"l\": 45, \"r\": 15, \"t\": 50}, \"title\": \"Skew plots<br>\", \"showlegend\": true, \"hovermode\": \"x\", \"autosize\": true, \"width\": 900, \"height\": 800, \"plot_bgcolor\": \"#EFECEA\", \"bargap\": 0.05}, {\"showLink\": true, \"linkText\": \"Export to plot.ly\"})});</script>"
      ]
     },
     "metadata": {},
     "output_type": "display_data"
    },
    {
     "data": {
      "application/vnd.plotly.v1+json": {
       "data": [
        {
         "legendgroup": "chart (1, 1)",
         "name": "chart (1, 1) 20190429",
         "type": "scatter",
         "uid": "edc77412-1df1-11ea-acb7-8c859025e7f9",
         "x": [
          -0.25,
          -0.2,
          -0.15,
          -0.1,
          -0.05,
          0,
          0.05,
          0.1,
          0.15,
          0.2,
          0.25,
          0.3,
          0.35
         ],
         "xaxis": "x",
         "y": [
          null,
          0.0513,
          0.0375,
          0.0206,
          0.0087,
          0,
          -0.0038,
          -0.0009,
          0.0076,
          0.0219,
          0.0398,
          0.0505,
          0.0863
         ],
         "yaxis": "y"
        },
        {
         "legendgroup": "chart (1, 1)",
         "name": "chart (1, 1) 20190430",
         "type": "scatter",
         "uid": "edc7e302-1df1-11ea-b2fb-8c859025e7f9",
         "x": [
          -0.25,
          -0.2,
          -0.15,
          -0.1,
          -0.05,
          0,
          0.05,
          0.1,
          0.15,
          0.2,
          0.25,
          0.3,
          0.35
         ],
         "xaxis": "x",
         "y": [
          null,
          0.0689,
          0.036,
          0.0226,
          0.0092,
          0,
          -0.0039,
          -0.0024,
          0.003,
          0.0189,
          0.0449,
          0.0551,
          0.0898
         ],
         "yaxis": "y"
        },
        {
         "legendgroup": "chart (1, 1)",
         "name": "chart (1, 1) 20190501",
         "type": "scatter",
         "uid": "edc87274-1df1-11ea-a495-8c859025e7f9",
         "x": [
          -0.25,
          -0.2,
          -0.15,
          -0.1,
          -0.05,
          0,
          0.05,
          0.1,
          0.15,
          0.2,
          0.25,
          0.3,
          0.35
         ],
         "xaxis": "x",
         "y": [
          null,
          0.0865,
          0.0522,
          0.0259,
          0.011,
          0,
          -0.005,
          -0.0075,
          0.0009,
          0.0087,
          0.0223,
          0.0617,
          0.0967
         ],
         "yaxis": "y"
        },
        {
         "legendgroup": "chart (1, 1)",
         "name": "chart (1, 1) 20190502",
         "type": "scatter",
         "uid": "edc8e900-1df1-11ea-8308-8c859025e7f9",
         "x": [
          -0.25,
          -0.2,
          -0.15,
          -0.1,
          -0.05,
          0,
          0.05,
          0.1,
          0.15,
          0.2,
          0.25,
          0.3,
          0.35
         ],
         "xaxis": "x",
         "y": [
          null,
          0.0804,
          0.0535,
          0.0251,
          0.0112,
          0,
          -0.0074,
          -0.0074,
          -0.0013,
          0.0251,
          0.0361,
          0.0643,
          0.0997
         ],
         "yaxis": "y"
        },
        {
         "legendgroup": "chart (1, 1)",
         "name": "chart (1, 1) 20190503",
         "type": "scatter",
         "uid": "edc94d64-1df1-11ea-8be1-8c859025e7f9",
         "x": [
          -0.25,
          -0.2,
          -0.15,
          -0.1,
          -0.05,
          0,
          0.05,
          0.1,
          0.15,
          0.2,
          0.25,
          0.3,
          0.35
         ],
         "xaxis": "x",
         "y": [
          null,
          null,
          null,
          null,
          null,
          0,
          null,
          null,
          null,
          null,
          0.0252,
          null,
          null
         ],
         "yaxis": "y"
        },
        {
         "legendgroup": "chart (1, 2)",
         "name": "chart (1, 2) 20190506",
         "type": "scatter",
         "uid": "edca4ade-1df1-11ea-ab05-8c859025e7f9",
         "x": [
          -0.25,
          -0.2,
          -0.15,
          -0.1,
          -0.05,
          0,
          0.05,
          0.1,
          0.15,
          0.2,
          0.25,
          0.3,
          0.35
         ],
         "xaxis": "x2",
         "y": [
          null,
          0.0821,
          0.0517,
          0.0313,
          0.0121,
          0,
          -0.0082,
          -0.0111,
          -0.0017,
          0.0197,
          null,
          0.0655,
          0.1024
         ],
         "yaxis": "y2"
        },
        {
         "legendgroup": "chart (1, 2)",
         "name": "chart (1, 2) 20190507",
         "type": "scatter",
         "uid": "edcaaf88-1df1-11ea-b4c7-8c859025e7f9",
         "x": [
          -0.25,
          -0.2,
          -0.15,
          -0.1,
          -0.05,
          0,
          0.05,
          0.1,
          0.15,
          0.2,
          0.25,
          0.3,
          0.35
         ],
         "xaxis": "x2",
         "y": [
          null,
          0.0936,
          0.0548,
          0.0291,
          0.0142,
          0,
          -0.0069,
          -0.0096,
          -0.001,
          0.0171,
          0.0342,
          0.0731,
          0.1103
         ],
         "yaxis": "y2"
        },
        {
         "legendgroup": "chart (1, 2)",
         "name": "chart (1, 2) 20190508",
         "type": "scatter",
         "uid": "edcb1218-1df1-11ea-b35e-8c859025e7f9",
         "x": [
          -0.25,
          -0.2,
          -0.15,
          -0.1,
          -0.05,
          0,
          0.05,
          0.1,
          0.15,
          0.2,
          0.25,
          0.3,
          0.35
         ],
         "xaxis": "x2",
         "y": [
          null,
          0.0732,
          0.0587,
          0.0317,
          0.0135,
          0,
          -0.0072,
          -0.012,
          -0.0071,
          0.0122,
          0.0309,
          0.0723,
          0.1098
         ],
         "yaxis": "y2"
        },
        {
         "legendgroup": "chart (1, 2)",
         "name": "chart (1, 2) 20190509",
         "type": "scatter",
         "uid": "edcb820a-1df1-11ea-b04a-8c859025e7f9",
         "x": [
          -0.25,
          -0.2,
          -0.15,
          -0.1,
          -0.05,
          0,
          0.05,
          0.1,
          0.15,
          0.2,
          0.25,
          0.3,
          0.35
         ],
         "xaxis": "x2",
         "y": [
          null,
          0.0787,
          0.0503,
          0.0228,
          0.0084,
          0,
          -0.0072,
          -0.0068,
          0.0009,
          0.0191,
          0.0437,
          0.0792,
          0.1172
         ],
         "yaxis": "y2"
        },
        {
         "legendgroup": "chart (1, 2)",
         "name": "chart (1, 2) 20190510",
         "type": "scatter",
         "uid": "edcbfad2-1df1-11ea-9ae2-8c859025e7f9",
         "x": [
          -0.25,
          -0.2,
          -0.15,
          -0.1,
          -0.05,
          0,
          0.05,
          0.1,
          0.15,
          0.2,
          0.25,
          0.3,
          0.35
         ],
         "xaxis": "x2",
         "y": [
          null,
          0.0948,
          0.0548,
          0.0255,
          0.0091,
          0,
          -0.0031,
          -0.0026,
          0.0126,
          0.031,
          0.064,
          0.0868,
          0.1251
         ],
         "yaxis": "y2"
        },
        {
         "legendgroup": "chart (2, 1)",
         "name": "chart (2, 1) 20190513",
         "type": "scatter",
         "uid": "edccdc9a-1df1-11ea-b813-8c859025e7f9",
         "x": [
          -0.25,
          -0.2,
          -0.15,
          -0.1,
          -0.05,
          0,
          0.05,
          0.1,
          0.15,
          0.2,
          0.25,
          0.3,
          0.35
         ],
         "xaxis": "x3",
         "y": [
          null,
          0.0966,
          0.0652,
          0.0274,
          0.0126,
          0,
          -0.0035,
          -0.0008,
          0.0116,
          0.035,
          0.0534,
          0.098,
          0.1376
         ],
         "yaxis": "y3"
        },
        {
         "legendgroup": "chart (2, 1)",
         "name": "chart (2, 1) 20190514",
         "type": "scatter",
         "uid": "edcd3a78-1df1-11ea-a0bb-8c859025e7f9",
         "x": [
          -0.25,
          -0.2,
          -0.15,
          -0.1,
          -0.05,
          0,
          0.05,
          0.1,
          0.15,
          0.2,
          0.25,
          0.3,
          0.35
         ],
         "xaxis": "x3",
         "y": [
          0.1361,
          0.098,
          0.0613,
          0.0274,
          0.0081,
          0,
          -0.0037,
          -0.0024,
          0.0155,
          0.0378,
          0.0822,
          0.1015,
          0.1414
         ],
         "yaxis": "y3"
        },
        {
         "legendgroup": "chart (2, 1)",
         "name": "chart (2, 1) 20190515",
         "type": "scatter",
         "uid": "edcd9fd8-1df1-11ea-b9b0-8c859025e7f9",
         "x": [
          -0.25,
          -0.2,
          -0.15,
          -0.1,
          -0.05,
          0,
          0.05,
          0.1,
          0.15,
          0.2,
          0.25,
          0.3,
          0.35
         ],
         "xaxis": "x3",
         "y": [
          null,
          0.1023,
          0.0515,
          0.0255,
          0.009,
          0,
          -0.0041,
          0.0038,
          0.0193,
          0.0392,
          0.0917,
          0.1043,
          0.1444
         ],
         "yaxis": "y3"
        },
        {
         "legendgroup": "chart (2, 1)",
         "name": "chart (2, 1) 20190516",
         "type": "scatter",
         "uid": "edce1206-1df1-11ea-8738-8c859025e7f9",
         "x": [
          -0.25,
          -0.2,
          -0.15,
          -0.1,
          -0.05,
          0,
          0.05,
          0.1,
          0.15,
          0.2,
          0.25,
          0.3,
          0.35
         ],
         "xaxis": "x3",
         "y": [
          0.1459,
          0.0939,
          0.0508,
          0.0303,
          0.0114,
          0,
          -0.0057,
          0.0002,
          0.0203,
          0.0394,
          0.0923,
          0.1051,
          0.1458
         ],
         "yaxis": "y3"
        },
        {
         "legendgroup": "chart (2, 1)",
         "name": "chart (2, 1) 20190517",
         "type": "scatter",
         "uid": "edce71d8-1df1-11ea-9733-8c859025e7f9",
         "x": [
          -0.25,
          -0.2,
          -0.15,
          -0.1,
          -0.05,
          0,
          0.05,
          0.1,
          0.15,
          0.2,
          0.25,
          0.3,
          0.35
         ],
         "xaxis": "x3",
         "y": [
          null,
          0.1054,
          0.0651,
          0.0348,
          0.0138,
          0,
          -0.004,
          0.0012,
          0.0145,
          0.0437,
          0.0632,
          0.1089,
          0.1505
         ],
         "yaxis": "y3"
        },
        {
         "legendgroup": "chart (2, 2)",
         "name": "chart (2, 2) 20190520",
         "type": "scatter",
         "uid": "edcf6190-1df1-11ea-a24a-8c859025e7f9",
         "x": [
          -0.25,
          -0.2,
          -0.15,
          -0.1,
          -0.05,
          0,
          0.05,
          0.1,
          0.15,
          0.2,
          0.25,
          0.3,
          0.35
         ],
         "xaxis": "x4",
         "y": [
          0.1603,
          0.1149,
          0.0619,
          0.0345,
          0.0121,
          0,
          -0.0097,
          -0.0034,
          0.0212,
          0.0478,
          0.068,
          0.1164,
          0.1596
         ],
         "yaxis": "y4"
        },
        {
         "legendgroup": "chart (2, 2)",
         "name": "chart (2, 2) 20190521",
         "type": "scatter",
         "uid": "edcfc71e-1df1-11ea-9079-8c859025e7f9",
         "x": [
          -0.25,
          -0.2,
          -0.15,
          -0.1,
          -0.05,
          0,
          0.05,
          0.1,
          0.15,
          0.2,
          0.25,
          0.3,
          0.35
         ],
         "xaxis": "x4",
         "y": [
          null,
          0.0886,
          0.0651,
          0.0286,
          0.0114,
          0,
          -0.005,
          0.0014,
          0.017,
          0.0533,
          0.0735,
          0.1199,
          0.1638
         ],
         "yaxis": "y4"
        },
        {
         "legendgroup": "chart (2, 2)",
         "name": "chart (2, 2) 20190522",
         "type": "scatter",
         "uid": "edd045ba-1df1-11ea-834f-8c859025e7f9",
         "x": [
          -0.25,
          -0.2,
          -0.15,
          -0.1,
          -0.05,
          0,
          0.05,
          0.1,
          0.15,
          0.2,
          0.25,
          0.3,
          0.35
         ],
         "xaxis": "x4",
         "y": [
          null,
          0.1051,
          0.0554,
          0.0279,
          0.0097,
          0,
          -0.0069,
          -0.0037,
          0.0142,
          0.0402,
          0.062,
          0.1094,
          0.1541
         ],
         "yaxis": "y4"
        },
        {
         "legendgroup": "chart (2, 2)",
         "name": "chart (2, 2) 20190523",
         "type": "scatter",
         "uid": "edd0b20c-1df1-11ea-8406-8c859025e7f9",
         "x": [
          -0.25,
          -0.2,
          -0.15,
          -0.1,
          -0.05,
          0,
          0.05,
          0.1,
          0.15,
          0.2,
          0.25,
          0.3,
          0.35
         ],
         "xaxis": "x4",
         "y": [
          null,
          0.0967,
          0.0661,
          0.0294,
          0.0076,
          0,
          -0.0036,
          -0.0013,
          0.0117,
          0.0489,
          0.0698,
          0.1185,
          0.1638
         ],
         "yaxis": "y4"
        },
        {
         "legendgroup": "chart (2, 2)",
         "name": "chart (2, 2) 20190524",
         "type": "scatter",
         "uid": "edd112b0-1df1-11ea-82bb-8c859025e7f9",
         "x": [
          -0.25,
          -0.2,
          -0.15,
          -0.1,
          -0.05,
          0,
          0.05,
          0.1,
          0.15,
          0.2,
          0.25,
          0.3,
          0.35
         ],
         "xaxis": "x4",
         "y": [
          null,
          0.0788,
          0.0549,
          0.026,
          0.0067,
          0,
          -0.0017,
          0.0065,
          0.0195,
          0.0539,
          0.0686,
          0.1203,
          0.1663
         ],
         "yaxis": "y4"
        }
       ],
       "layout": {
        "annotations": [
         {
          "font": {
           "size": 16
          },
          "showarrow": false,
          "text": "NGN19 20190429 - 20190503",
          "x": 0.2275,
          "xanchor": "center",
          "xref": "paper",
          "y": 1,
          "yanchor": "bottom",
          "yref": "paper"
         },
         {
          "font": {
           "size": 16
          },
          "showarrow": false,
          "text": "NGN19 20190506 - 20190510",
          "x": 0.7725,
          "xanchor": "center",
          "xref": "paper",
          "y": 1,
          "yanchor": "bottom",
          "yref": "paper"
         },
         {
          "font": {
           "size": 16
          },
          "showarrow": false,
          "text": "NGN19 20190513 - 20190517",
          "x": 0.2275,
          "xanchor": "center",
          "xref": "paper",
          "y": 0.445,
          "yanchor": "bottom",
          "yref": "paper"
         },
         {
          "font": {
           "size": 16
          },
          "showarrow": false,
          "text": "NGN19 20190520 - 20190524",
          "x": 0.7725,
          "xanchor": "center",
          "xref": "paper",
          "y": 0.445,
          "yanchor": "bottom",
          "yref": "paper"
         }
        ],
        "autosize": true,
        "bargap": 0.05,
        "font": {
         "family": "Open Sans, sans-serif"
        },
        "height": 800,
        "hovermode": "x",
        "margin": {
         "b": 55,
         "l": 45,
         "r": 15,
         "t": 50
        },
        "plot_bgcolor": "#EFECEA",
        "showlegend": true,
        "title": "Skew plots<br>",
        "width": 900,
        "xaxis": {
         "anchor": "y",
         "domain": [
          0,
          0.455
         ],
         "tickangle": 45,
         "ticktext": [
          -0.25,
          -0.2,
          -0.15,
          -0.1,
          -0.05,
          0,
          0.05,
          0.1,
          0.15,
          0.2,
          0.25,
          0.3,
          0.35
         ],
         "tickvals": [
          -0.25,
          -0.2,
          -0.15,
          -0.1,
          -0.05,
          0,
          0.05,
          0.1,
          0.15,
          0.2,
          0.25,
          0.3,
          0.35
         ],
         "type": "category"
        },
        "xaxis2": {
         "anchor": "y2",
         "domain": [
          0.545,
          1
         ],
         "tickangle": 45,
         "ticktext": [
          -0.25,
          -0.2,
          -0.15,
          -0.1,
          -0.05,
          0,
          0.05,
          0.1,
          0.15,
          0.2,
          0.25,
          0.3,
          0.35
         ],
         "tickvals": [
          -0.25,
          -0.2,
          -0.15,
          -0.1,
          -0.05,
          0,
          0.05,
          0.1,
          0.15,
          0.2,
          0.25,
          0.3,
          0.35
         ],
         "type": "category"
        },
        "xaxis3": {
         "anchor": "y3",
         "domain": [
          0,
          0.455
         ],
         "tickangle": 45,
         "ticktext": [
          -0.25,
          -0.2,
          -0.15,
          -0.1,
          -0.05,
          0,
          0.05,
          0.1,
          0.15,
          0.2,
          0.25,
          0.3,
          0.35
         ],
         "tickvals": [
          -0.25,
          -0.2,
          -0.15,
          -0.1,
          -0.05,
          0,
          0.05,
          0.1,
          0.15,
          0.2,
          0.25,
          0.3,
          0.35
         ],
         "type": "category"
        },
        "xaxis4": {
         "anchor": "y4",
         "domain": [
          0.545,
          1
         ],
         "tickangle": 45,
         "ticktext": [
          -0.25,
          -0.2,
          -0.15,
          -0.1,
          -0.05,
          0,
          0.05,
          0.1,
          0.15,
          0.2,
          0.25,
          0.3,
          0.35
         ],
         "tickvals": [
          -0.25,
          -0.2,
          -0.15,
          -0.1,
          -0.05,
          0,
          0.05,
          0.1,
          0.15,
          0.2,
          0.25,
          0.3,
          0.35
         ],
         "type": "category"
        },
        "yaxis": {
         "anchor": "x",
         "domain": [
          0.555,
          1
         ],
         "title": "vol skew"
        },
        "yaxis2": {
         "anchor": "x2",
         "domain": [
          0.555,
          1
         ],
         "title": "vol skew"
        },
        "yaxis3": {
         "anchor": "x3",
         "domain": [
          0,
          0.445
         ],
         "title": "vol skew"
        },
        "yaxis4": {
         "anchor": "x4",
         "domain": [
          0,
          0.445
         ],
         "title": "vol skew"
        }
       }
      },
      "text/html": [
       "<div id=\"96c393c5-3e54-4fd5-b44e-0cebd632f185\" style=\"height: 800px; width: 900px;\" class=\"plotly-graph-div\"></div><script type=\"text/javascript\">require([\"plotly\"], function(Plotly) { window.PLOTLYENV=window.PLOTLYENV || {};window.PLOTLYENV.BASE_URL=\"https://plot.ly\";Plotly.newPlot(\"96c393c5-3e54-4fd5-b44e-0cebd632f185\", [{\"legendgroup\": \"chart (1, 1)\", \"name\": \"chart (1, 1) 20190429\", \"uid\": \"edc77412-1df1-11ea-acb7-8c859025e7f9\", \"x\": [-0.25, -0.2, -0.15, -0.1, -0.05, 0.0, 0.05, 0.1, 0.15, 0.2, 0.25, 0.3, 0.35], \"y\": [null, 0.0513, 0.0375, 0.0206, 0.0087, 0.0, -0.0038, -0.0009, 0.0076, 0.0219, 0.0398, 0.0505, 0.0863], \"yaxis\": \"y\", \"type\": \"scatter\", \"xaxis\": \"x\"}, {\"legendgroup\": \"chart (1, 1)\", \"name\": \"chart (1, 1) 20190430\", \"uid\": \"edc7e302-1df1-11ea-b2fb-8c859025e7f9\", \"x\": [-0.25, -0.2, -0.15, -0.1, -0.05, 0.0, 0.05, 0.1, 0.15, 0.2, 0.25, 0.3, 0.35], \"y\": [null, 0.0689, 0.036, 0.0226, 0.0092, 0.0, -0.0039, -0.0024, 0.003, 0.0189, 0.0449, 0.0551, 0.0898], \"yaxis\": \"y\", \"type\": \"scatter\", \"xaxis\": \"x\"}, {\"legendgroup\": \"chart (1, 1)\", \"name\": \"chart (1, 1) 20190501\", \"uid\": \"edc87274-1df1-11ea-a495-8c859025e7f9\", \"x\": [-0.25, -0.2, -0.15, -0.1, -0.05, 0.0, 0.05, 0.1, 0.15, 0.2, 0.25, 0.3, 0.35], \"y\": [null, 0.0865, 0.0522, 0.0259, 0.011, 0.0, -0.005, -0.0075, 0.0009, 0.0087, 0.0223, 0.0617, 0.0967], \"yaxis\": \"y\", \"type\": \"scatter\", \"xaxis\": \"x\"}, {\"legendgroup\": \"chart (1, 1)\", \"name\": \"chart (1, 1) 20190502\", \"uid\": \"edc8e900-1df1-11ea-8308-8c859025e7f9\", \"x\": [-0.25, -0.2, -0.15, -0.1, -0.05, 0.0, 0.05, 0.1, 0.15, 0.2, 0.25, 0.3, 0.35], \"y\": [null, 0.0804, 0.0535, 0.0251, 0.0112, 0.0, -0.0074, -0.0074, -0.0013, 0.0251, 0.0361, 0.0643, 0.0997], \"yaxis\": \"y\", \"type\": \"scatter\", \"xaxis\": \"x\"}, {\"legendgroup\": \"chart (1, 1)\", \"name\": \"chart (1, 1) 20190503\", \"uid\": \"edc94d64-1df1-11ea-8be1-8c859025e7f9\", \"x\": [-0.25, -0.2, -0.15, -0.1, -0.05, 0.0, 0.05, 0.1, 0.15, 0.2, 0.25, 0.3, 0.35], \"y\": [null, null, null, null, null, 0.0, null, null, null, null, 0.0252, null, null], \"yaxis\": \"y\", \"type\": \"scatter\", \"xaxis\": \"x\"}, {\"legendgroup\": \"chart (1, 2)\", \"name\": \"chart (1, 2) 20190506\", \"uid\": \"edca4ade-1df1-11ea-ab05-8c859025e7f9\", \"x\": [-0.25, -0.2, -0.15, -0.1, -0.05, 0.0, 0.05, 0.1, 0.15, 0.2, 0.25, 0.3, 0.35], \"y\": [null, 0.0821, 0.0517, 0.0313, 0.0121, 0.0, -0.0082, -0.0111, -0.0017, 0.0197, null, 0.0655, 0.1024], \"yaxis\": \"y2\", \"type\": \"scatter\", \"xaxis\": \"x2\"}, {\"legendgroup\": \"chart (1, 2)\", \"name\": \"chart (1, 2) 20190507\", \"uid\": \"edcaaf88-1df1-11ea-b4c7-8c859025e7f9\", \"x\": [-0.25, -0.2, -0.15, -0.1, -0.05, 0.0, 0.05, 0.1, 0.15, 0.2, 0.25, 0.3, 0.35], \"y\": [null, 0.0936, 0.0548, 0.0291, 0.0142, 0.0, -0.0069, -0.0096, -0.001, 0.0171, 0.0342, 0.0731, 0.1103], \"yaxis\": \"y2\", \"type\": \"scatter\", \"xaxis\": \"x2\"}, {\"legendgroup\": \"chart (1, 2)\", \"name\": \"chart (1, 2) 20190508\", \"uid\": \"edcb1218-1df1-11ea-b35e-8c859025e7f9\", \"x\": [-0.25, -0.2, -0.15, -0.1, -0.05, 0.0, 0.05, 0.1, 0.15, 0.2, 0.25, 0.3, 0.35], \"y\": [null, 0.0732, 0.0587, 0.0317, 0.0135, 0.0, -0.0072, -0.012, -0.0071, 0.0122, 0.0309, 0.0723, 0.1098], \"yaxis\": \"y2\", \"type\": \"scatter\", \"xaxis\": \"x2\"}, {\"legendgroup\": \"chart (1, 2)\", \"name\": \"chart (1, 2) 20190509\", \"uid\": \"edcb820a-1df1-11ea-b04a-8c859025e7f9\", \"x\": [-0.25, -0.2, -0.15, -0.1, -0.05, 0.0, 0.05, 0.1, 0.15, 0.2, 0.25, 0.3, 0.35], \"y\": [null, 0.0787, 0.0503, 0.0228, 0.0084, 0.0, -0.0072, -0.0068, 0.0009, 0.0191, 0.0437, 0.0792, 0.1172], \"yaxis\": \"y2\", \"type\": \"scatter\", \"xaxis\": \"x2\"}, {\"legendgroup\": \"chart (1, 2)\", \"name\": \"chart (1, 2) 20190510\", \"uid\": \"edcbfad2-1df1-11ea-9ae2-8c859025e7f9\", \"x\": [-0.25, -0.2, -0.15, -0.1, -0.05, 0.0, 0.05, 0.1, 0.15, 0.2, 0.25, 0.3, 0.35], \"y\": [null, 0.0948, 0.0548, 0.0255, 0.0091, 0.0, -0.0031, -0.0026, 0.0126, 0.031, 0.064, 0.0868, 0.1251], \"yaxis\": \"y2\", \"type\": \"scatter\", \"xaxis\": \"x2\"}, {\"legendgroup\": \"chart (2, 1)\", \"name\": \"chart (2, 1) 20190513\", \"uid\": \"edccdc9a-1df1-11ea-b813-8c859025e7f9\", \"x\": [-0.25, -0.2, -0.15, -0.1, -0.05, 0.0, 0.05, 0.1, 0.15, 0.2, 0.25, 0.3, 0.35], \"y\": [null, 0.0966, 0.0652, 0.0274, 0.0126, 0.0, -0.0035, -0.0008, 0.0116, 0.035, 0.0534, 0.098, 0.1376], \"yaxis\": \"y3\", \"type\": \"scatter\", \"xaxis\": \"x3\"}, {\"legendgroup\": \"chart (2, 1)\", \"name\": \"chart (2, 1) 20190514\", \"uid\": \"edcd3a78-1df1-11ea-a0bb-8c859025e7f9\", \"x\": [-0.25, -0.2, -0.15, -0.1, -0.05, 0.0, 0.05, 0.1, 0.15, 0.2, 0.25, 0.3, 0.35], \"y\": [0.1361, 0.098, 0.0613, 0.0274, 0.0081, 0.0, -0.0037, -0.0024, 0.0155, 0.0378, 0.0822, 0.1015, 0.1414], \"yaxis\": \"y3\", \"type\": \"scatter\", \"xaxis\": \"x3\"}, {\"legendgroup\": \"chart (2, 1)\", \"name\": \"chart (2, 1) 20190515\", \"uid\": \"edcd9fd8-1df1-11ea-b9b0-8c859025e7f9\", \"x\": [-0.25, -0.2, -0.15, -0.1, -0.05, 0.0, 0.05, 0.1, 0.15, 0.2, 0.25, 0.3, 0.35], \"y\": [null, 0.1023, 0.0515, 0.0255, 0.009, 0.0, -0.0041, 0.0038, 0.0193, 0.0392, 0.0917, 0.1043, 0.1444], \"yaxis\": \"y3\", \"type\": \"scatter\", \"xaxis\": \"x3\"}, {\"legendgroup\": \"chart (2, 1)\", \"name\": \"chart (2, 1) 20190516\", \"uid\": \"edce1206-1df1-11ea-8738-8c859025e7f9\", \"x\": [-0.25, -0.2, -0.15, -0.1, -0.05, 0.0, 0.05, 0.1, 0.15, 0.2, 0.25, 0.3, 0.35], \"y\": [0.1459, 0.0939, 0.0508, 0.0303, 0.0114, 0.0, -0.0057, 0.0002, 0.0203, 0.0394, 0.0923, 0.1051, 0.1458], \"yaxis\": \"y3\", \"type\": \"scatter\", \"xaxis\": \"x3\"}, {\"legendgroup\": \"chart (2, 1)\", \"name\": \"chart (2, 1) 20190517\", \"uid\": \"edce71d8-1df1-11ea-9733-8c859025e7f9\", \"x\": [-0.25, -0.2, -0.15, -0.1, -0.05, 0.0, 0.05, 0.1, 0.15, 0.2, 0.25, 0.3, 0.35], \"y\": [null, 0.1054, 0.0651, 0.0348, 0.0138, 0.0, -0.004, 0.0012, 0.0145, 0.0437, 0.0632, 0.1089, 0.1505], \"yaxis\": \"y3\", \"type\": \"scatter\", \"xaxis\": \"x3\"}, {\"legendgroup\": \"chart (2, 2)\", \"name\": \"chart (2, 2) 20190520\", \"uid\": \"edcf6190-1df1-11ea-a24a-8c859025e7f9\", \"x\": [-0.25, -0.2, -0.15, -0.1, -0.05, 0.0, 0.05, 0.1, 0.15, 0.2, 0.25, 0.3, 0.35], \"y\": [0.1603, 0.1149, 0.0619, 0.0345, 0.0121, 0.0, -0.0097, -0.0034, 0.0212, 0.0478, 0.068, 0.1164, 0.1596], \"yaxis\": \"y4\", \"type\": \"scatter\", \"xaxis\": \"x4\"}, {\"legendgroup\": \"chart (2, 2)\", \"name\": \"chart (2, 2) 20190521\", \"uid\": \"edcfc71e-1df1-11ea-9079-8c859025e7f9\", \"x\": [-0.25, -0.2, -0.15, -0.1, -0.05, 0.0, 0.05, 0.1, 0.15, 0.2, 0.25, 0.3, 0.35], \"y\": [null, 0.0886, 0.0651, 0.0286, 0.0114, 0.0, -0.005, 0.0014, 0.017, 0.0533, 0.0735, 0.1199, 0.1638], \"yaxis\": \"y4\", \"type\": \"scatter\", \"xaxis\": \"x4\"}, {\"legendgroup\": \"chart (2, 2)\", \"name\": \"chart (2, 2) 20190522\", \"uid\": \"edd045ba-1df1-11ea-834f-8c859025e7f9\", \"x\": [-0.25, -0.2, -0.15, -0.1, -0.05, 0.0, 0.05, 0.1, 0.15, 0.2, 0.25, 0.3, 0.35], \"y\": [null, 0.1051, 0.0554, 0.0279, 0.0097, 0.0, -0.0069, -0.0037, 0.0142, 0.0402, 0.062, 0.1094, 0.1541], \"yaxis\": \"y4\", \"type\": \"scatter\", \"xaxis\": \"x4\"}, {\"legendgroup\": \"chart (2, 2)\", \"name\": \"chart (2, 2) 20190523\", \"uid\": \"edd0b20c-1df1-11ea-8406-8c859025e7f9\", \"x\": [-0.25, -0.2, -0.15, -0.1, -0.05, 0.0, 0.05, 0.1, 0.15, 0.2, 0.25, 0.3, 0.35], \"y\": [null, 0.0967, 0.0661, 0.0294, 0.0076, 0.0, -0.0036, -0.0013, 0.0117, 0.0489, 0.0698, 0.1185, 0.1638], \"yaxis\": \"y4\", \"type\": \"scatter\", \"xaxis\": \"x4\"}, {\"legendgroup\": \"chart (2, 2)\", \"name\": \"chart (2, 2) 20190524\", \"uid\": \"edd112b0-1df1-11ea-82bb-8c859025e7f9\", \"x\": [-0.25, -0.2, -0.15, -0.1, -0.05, 0.0, 0.05, 0.1, 0.15, 0.2, 0.25, 0.3, 0.35], \"y\": [null, 0.0788, 0.0549, 0.026, 0.0067, 0.0, -0.0017, 0.0065, 0.0195, 0.0539, 0.0686, 0.1203, 0.1663], \"yaxis\": \"y4\", \"type\": \"scatter\", \"xaxis\": \"x4\"}], {\"annotations\": [{\"font\": {\"size\": 16}, \"showarrow\": false, \"text\": \"NGN19 20190429 - 20190503\", \"x\": 0.2275, \"xanchor\": \"center\", \"xref\": \"paper\", \"y\": 1.0, \"yanchor\": \"bottom\", \"yref\": \"paper\"}, {\"font\": {\"size\": 16}, \"showarrow\": false, \"text\": \"NGN19 20190506 - 20190510\", \"x\": 0.7725, \"xanchor\": \"center\", \"xref\": \"paper\", \"y\": 1.0, \"yanchor\": \"bottom\", \"yref\": \"paper\"}, {\"font\": {\"size\": 16}, \"showarrow\": false, \"text\": \"NGN19 20190513 - 20190517\", \"x\": 0.2275, \"xanchor\": \"center\", \"xref\": \"paper\", \"y\": 0.445, \"yanchor\": \"bottom\", \"yref\": \"paper\"}, {\"font\": {\"size\": 16}, \"showarrow\": false, \"text\": \"NGN19 20190520 - 20190524\", \"x\": 0.7725, \"xanchor\": \"center\", \"xref\": \"paper\", \"y\": 0.445, \"yanchor\": \"bottom\", \"yref\": \"paper\"}], \"xaxis\": {\"anchor\": \"y\", \"domain\": [0.0, 0.455], \"tickangle\": 45, \"ticktext\": [-0.25, -0.2, -0.15, -0.1, -0.05, 0.0, 0.05, 0.1, 0.15, 0.2, 0.25, 0.3, 0.35], \"tickvals\": [-0.25, -0.2, -0.15, -0.1, -0.05, 0.0, 0.05, 0.1, 0.15, 0.2, 0.25, 0.3, 0.35], \"type\": \"category\"}, \"yaxis\": {\"anchor\": \"x\", \"domain\": [0.555, 1.0], \"title\": \"vol skew\"}, \"xaxis2\": {\"anchor\": \"y2\", \"domain\": [0.545, 1.0], \"tickangle\": 45, \"ticktext\": [-0.25, -0.2, -0.15, -0.1, -0.05, 0.0, 0.05, 0.1, 0.15, 0.2, 0.25, 0.3, 0.35], \"tickvals\": [-0.25, -0.2, -0.15, -0.1, -0.05, 0.0, 0.05, 0.1, 0.15, 0.2, 0.25, 0.3, 0.35], \"type\": \"category\"}, \"yaxis2\": {\"anchor\": \"x2\", \"domain\": [0.555, 1.0], \"title\": \"vol skew\"}, \"xaxis3\": {\"anchor\": \"y3\", \"domain\": [0.0, 0.455], \"tickangle\": 45, \"ticktext\": [-0.25, -0.2, -0.15, -0.1, -0.05, 0.0, 0.05, 0.1, 0.15, 0.2, 0.25, 0.3, 0.35], \"tickvals\": [-0.25, -0.2, -0.15, -0.1, -0.05, 0.0, 0.05, 0.1, 0.15, 0.2, 0.25, 0.3, 0.35], \"type\": \"category\"}, \"yaxis3\": {\"anchor\": \"x3\", \"domain\": [0.0, 0.445], \"title\": \"vol skew\"}, \"xaxis4\": {\"anchor\": \"y4\", \"domain\": [0.545, 1.0], \"tickangle\": 45, \"ticktext\": [-0.25, -0.2, -0.15, -0.1, -0.05, 0.0, 0.05, 0.1, 0.15, 0.2, 0.25, 0.3, 0.35], \"tickvals\": [-0.25, -0.2, -0.15, -0.1, -0.05, 0.0, 0.05, 0.1, 0.15, 0.2, 0.25, 0.3, 0.35], \"type\": \"category\"}, \"yaxis4\": {\"anchor\": \"x4\", \"domain\": [0.0, 0.445], \"title\": \"vol skew\"}, \"font\": {\"family\": \"Open Sans, sans-serif\"}, \"margin\": {\"b\": 55, \"l\": 45, \"r\": 15, \"t\": 50}, \"title\": \"Skew plots<br>\", \"showlegend\": true, \"hovermode\": \"x\", \"autosize\": true, \"width\": 900, \"height\": 800, \"plot_bgcolor\": \"#EFECEA\", \"bargap\": 0.05}, {\"showLink\": true, \"linkText\": \"Export to plot.ly\"})});</script>"
      ],
      "text/vnd.plotly.v1+html": [
       "<div id=\"96c393c5-3e54-4fd5-b44e-0cebd632f185\" style=\"height: 800px; width: 900px;\" class=\"plotly-graph-div\"></div><script type=\"text/javascript\">require([\"plotly\"], function(Plotly) { window.PLOTLYENV=window.PLOTLYENV || {};window.PLOTLYENV.BASE_URL=\"https://plot.ly\";Plotly.newPlot(\"96c393c5-3e54-4fd5-b44e-0cebd632f185\", [{\"legendgroup\": \"chart (1, 1)\", \"name\": \"chart (1, 1) 20190429\", \"uid\": \"edc77412-1df1-11ea-acb7-8c859025e7f9\", \"x\": [-0.25, -0.2, -0.15, -0.1, -0.05, 0.0, 0.05, 0.1, 0.15, 0.2, 0.25, 0.3, 0.35], \"y\": [null, 0.0513, 0.0375, 0.0206, 0.0087, 0.0, -0.0038, -0.0009, 0.0076, 0.0219, 0.0398, 0.0505, 0.0863], \"yaxis\": \"y\", \"type\": \"scatter\", \"xaxis\": \"x\"}, {\"legendgroup\": \"chart (1, 1)\", \"name\": \"chart (1, 1) 20190430\", \"uid\": \"edc7e302-1df1-11ea-b2fb-8c859025e7f9\", \"x\": [-0.25, -0.2, -0.15, -0.1, -0.05, 0.0, 0.05, 0.1, 0.15, 0.2, 0.25, 0.3, 0.35], \"y\": [null, 0.0689, 0.036, 0.0226, 0.0092, 0.0, -0.0039, -0.0024, 0.003, 0.0189, 0.0449, 0.0551, 0.0898], \"yaxis\": \"y\", \"type\": \"scatter\", \"xaxis\": \"x\"}, {\"legendgroup\": \"chart (1, 1)\", \"name\": \"chart (1, 1) 20190501\", \"uid\": \"edc87274-1df1-11ea-a495-8c859025e7f9\", \"x\": [-0.25, -0.2, -0.15, -0.1, -0.05, 0.0, 0.05, 0.1, 0.15, 0.2, 0.25, 0.3, 0.35], \"y\": [null, 0.0865, 0.0522, 0.0259, 0.011, 0.0, -0.005, -0.0075, 0.0009, 0.0087, 0.0223, 0.0617, 0.0967], \"yaxis\": \"y\", \"type\": \"scatter\", \"xaxis\": \"x\"}, {\"legendgroup\": \"chart (1, 1)\", \"name\": \"chart (1, 1) 20190502\", \"uid\": \"edc8e900-1df1-11ea-8308-8c859025e7f9\", \"x\": [-0.25, -0.2, -0.15, -0.1, -0.05, 0.0, 0.05, 0.1, 0.15, 0.2, 0.25, 0.3, 0.35], \"y\": [null, 0.0804, 0.0535, 0.0251, 0.0112, 0.0, -0.0074, -0.0074, -0.0013, 0.0251, 0.0361, 0.0643, 0.0997], \"yaxis\": \"y\", \"type\": \"scatter\", \"xaxis\": \"x\"}, {\"legendgroup\": \"chart (1, 1)\", \"name\": \"chart (1, 1) 20190503\", \"uid\": \"edc94d64-1df1-11ea-8be1-8c859025e7f9\", \"x\": [-0.25, -0.2, -0.15, -0.1, -0.05, 0.0, 0.05, 0.1, 0.15, 0.2, 0.25, 0.3, 0.35], \"y\": [null, null, null, null, null, 0.0, null, null, null, null, 0.0252, null, null], \"yaxis\": \"y\", \"type\": \"scatter\", \"xaxis\": \"x\"}, {\"legendgroup\": \"chart (1, 2)\", \"name\": \"chart (1, 2) 20190506\", \"uid\": \"edca4ade-1df1-11ea-ab05-8c859025e7f9\", \"x\": [-0.25, -0.2, -0.15, -0.1, -0.05, 0.0, 0.05, 0.1, 0.15, 0.2, 0.25, 0.3, 0.35], \"y\": [null, 0.0821, 0.0517, 0.0313, 0.0121, 0.0, -0.0082, -0.0111, -0.0017, 0.0197, null, 0.0655, 0.1024], \"yaxis\": \"y2\", \"type\": \"scatter\", \"xaxis\": \"x2\"}, {\"legendgroup\": \"chart (1, 2)\", \"name\": \"chart (1, 2) 20190507\", \"uid\": \"edcaaf88-1df1-11ea-b4c7-8c859025e7f9\", \"x\": [-0.25, -0.2, -0.15, -0.1, -0.05, 0.0, 0.05, 0.1, 0.15, 0.2, 0.25, 0.3, 0.35], \"y\": [null, 0.0936, 0.0548, 0.0291, 0.0142, 0.0, -0.0069, -0.0096, -0.001, 0.0171, 0.0342, 0.0731, 0.1103], \"yaxis\": \"y2\", \"type\": \"scatter\", \"xaxis\": \"x2\"}, {\"legendgroup\": \"chart (1, 2)\", \"name\": \"chart (1, 2) 20190508\", \"uid\": \"edcb1218-1df1-11ea-b35e-8c859025e7f9\", \"x\": [-0.25, -0.2, -0.15, -0.1, -0.05, 0.0, 0.05, 0.1, 0.15, 0.2, 0.25, 0.3, 0.35], \"y\": [null, 0.0732, 0.0587, 0.0317, 0.0135, 0.0, -0.0072, -0.012, -0.0071, 0.0122, 0.0309, 0.0723, 0.1098], \"yaxis\": \"y2\", \"type\": \"scatter\", \"xaxis\": \"x2\"}, {\"legendgroup\": \"chart (1, 2)\", \"name\": \"chart (1, 2) 20190509\", \"uid\": \"edcb820a-1df1-11ea-b04a-8c859025e7f9\", \"x\": [-0.25, -0.2, -0.15, -0.1, -0.05, 0.0, 0.05, 0.1, 0.15, 0.2, 0.25, 0.3, 0.35], \"y\": [null, 0.0787, 0.0503, 0.0228, 0.0084, 0.0, -0.0072, -0.0068, 0.0009, 0.0191, 0.0437, 0.0792, 0.1172], \"yaxis\": \"y2\", \"type\": \"scatter\", \"xaxis\": \"x2\"}, {\"legendgroup\": \"chart (1, 2)\", \"name\": \"chart (1, 2) 20190510\", \"uid\": \"edcbfad2-1df1-11ea-9ae2-8c859025e7f9\", \"x\": [-0.25, -0.2, -0.15, -0.1, -0.05, 0.0, 0.05, 0.1, 0.15, 0.2, 0.25, 0.3, 0.35], \"y\": [null, 0.0948, 0.0548, 0.0255, 0.0091, 0.0, -0.0031, -0.0026, 0.0126, 0.031, 0.064, 0.0868, 0.1251], \"yaxis\": \"y2\", \"type\": \"scatter\", \"xaxis\": \"x2\"}, {\"legendgroup\": \"chart (2, 1)\", \"name\": \"chart (2, 1) 20190513\", \"uid\": \"edccdc9a-1df1-11ea-b813-8c859025e7f9\", \"x\": [-0.25, -0.2, -0.15, -0.1, -0.05, 0.0, 0.05, 0.1, 0.15, 0.2, 0.25, 0.3, 0.35], \"y\": [null, 0.0966, 0.0652, 0.0274, 0.0126, 0.0, -0.0035, -0.0008, 0.0116, 0.035, 0.0534, 0.098, 0.1376], \"yaxis\": \"y3\", \"type\": \"scatter\", \"xaxis\": \"x3\"}, {\"legendgroup\": \"chart (2, 1)\", \"name\": \"chart (2, 1) 20190514\", \"uid\": \"edcd3a78-1df1-11ea-a0bb-8c859025e7f9\", \"x\": [-0.25, -0.2, -0.15, -0.1, -0.05, 0.0, 0.05, 0.1, 0.15, 0.2, 0.25, 0.3, 0.35], \"y\": [0.1361, 0.098, 0.0613, 0.0274, 0.0081, 0.0, -0.0037, -0.0024, 0.0155, 0.0378, 0.0822, 0.1015, 0.1414], \"yaxis\": \"y3\", \"type\": \"scatter\", \"xaxis\": \"x3\"}, {\"legendgroup\": \"chart (2, 1)\", \"name\": \"chart (2, 1) 20190515\", \"uid\": \"edcd9fd8-1df1-11ea-b9b0-8c859025e7f9\", \"x\": [-0.25, -0.2, -0.15, -0.1, -0.05, 0.0, 0.05, 0.1, 0.15, 0.2, 0.25, 0.3, 0.35], \"y\": [null, 0.1023, 0.0515, 0.0255, 0.009, 0.0, -0.0041, 0.0038, 0.0193, 0.0392, 0.0917, 0.1043, 0.1444], \"yaxis\": \"y3\", \"type\": \"scatter\", \"xaxis\": \"x3\"}, {\"legendgroup\": \"chart (2, 1)\", \"name\": \"chart (2, 1) 20190516\", \"uid\": \"edce1206-1df1-11ea-8738-8c859025e7f9\", \"x\": [-0.25, -0.2, -0.15, -0.1, -0.05, 0.0, 0.05, 0.1, 0.15, 0.2, 0.25, 0.3, 0.35], \"y\": [0.1459, 0.0939, 0.0508, 0.0303, 0.0114, 0.0, -0.0057, 0.0002, 0.0203, 0.0394, 0.0923, 0.1051, 0.1458], \"yaxis\": \"y3\", \"type\": \"scatter\", \"xaxis\": \"x3\"}, {\"legendgroup\": \"chart (2, 1)\", \"name\": \"chart (2, 1) 20190517\", \"uid\": \"edce71d8-1df1-11ea-9733-8c859025e7f9\", \"x\": [-0.25, -0.2, -0.15, -0.1, -0.05, 0.0, 0.05, 0.1, 0.15, 0.2, 0.25, 0.3, 0.35], \"y\": [null, 0.1054, 0.0651, 0.0348, 0.0138, 0.0, -0.004, 0.0012, 0.0145, 0.0437, 0.0632, 0.1089, 0.1505], \"yaxis\": \"y3\", \"type\": \"scatter\", \"xaxis\": \"x3\"}, {\"legendgroup\": \"chart (2, 2)\", \"name\": \"chart (2, 2) 20190520\", \"uid\": \"edcf6190-1df1-11ea-a24a-8c859025e7f9\", \"x\": [-0.25, -0.2, -0.15, -0.1, -0.05, 0.0, 0.05, 0.1, 0.15, 0.2, 0.25, 0.3, 0.35], \"y\": [0.1603, 0.1149, 0.0619, 0.0345, 0.0121, 0.0, -0.0097, -0.0034, 0.0212, 0.0478, 0.068, 0.1164, 0.1596], \"yaxis\": \"y4\", \"type\": \"scatter\", \"xaxis\": \"x4\"}, {\"legendgroup\": \"chart (2, 2)\", \"name\": \"chart (2, 2) 20190521\", \"uid\": \"edcfc71e-1df1-11ea-9079-8c859025e7f9\", \"x\": [-0.25, -0.2, -0.15, -0.1, -0.05, 0.0, 0.05, 0.1, 0.15, 0.2, 0.25, 0.3, 0.35], \"y\": [null, 0.0886, 0.0651, 0.0286, 0.0114, 0.0, -0.005, 0.0014, 0.017, 0.0533, 0.0735, 0.1199, 0.1638], \"yaxis\": \"y4\", \"type\": \"scatter\", \"xaxis\": \"x4\"}, {\"legendgroup\": \"chart (2, 2)\", \"name\": \"chart (2, 2) 20190522\", \"uid\": \"edd045ba-1df1-11ea-834f-8c859025e7f9\", \"x\": [-0.25, -0.2, -0.15, -0.1, -0.05, 0.0, 0.05, 0.1, 0.15, 0.2, 0.25, 0.3, 0.35], \"y\": [null, 0.1051, 0.0554, 0.0279, 0.0097, 0.0, -0.0069, -0.0037, 0.0142, 0.0402, 0.062, 0.1094, 0.1541], \"yaxis\": \"y4\", \"type\": \"scatter\", \"xaxis\": \"x4\"}, {\"legendgroup\": \"chart (2, 2)\", \"name\": \"chart (2, 2) 20190523\", \"uid\": \"edd0b20c-1df1-11ea-8406-8c859025e7f9\", \"x\": [-0.25, -0.2, -0.15, -0.1, -0.05, 0.0, 0.05, 0.1, 0.15, 0.2, 0.25, 0.3, 0.35], \"y\": [null, 0.0967, 0.0661, 0.0294, 0.0076, 0.0, -0.0036, -0.0013, 0.0117, 0.0489, 0.0698, 0.1185, 0.1638], \"yaxis\": \"y4\", \"type\": \"scatter\", \"xaxis\": \"x4\"}, {\"legendgroup\": \"chart (2, 2)\", \"name\": \"chart (2, 2) 20190524\", \"uid\": \"edd112b0-1df1-11ea-82bb-8c859025e7f9\", \"x\": [-0.25, -0.2, -0.15, -0.1, -0.05, 0.0, 0.05, 0.1, 0.15, 0.2, 0.25, 0.3, 0.35], \"y\": [null, 0.0788, 0.0549, 0.026, 0.0067, 0.0, -0.0017, 0.0065, 0.0195, 0.0539, 0.0686, 0.1203, 0.1663], \"yaxis\": \"y4\", \"type\": \"scatter\", \"xaxis\": \"x4\"}], {\"annotations\": [{\"font\": {\"size\": 16}, \"showarrow\": false, \"text\": \"NGN19 20190429 - 20190503\", \"x\": 0.2275, \"xanchor\": \"center\", \"xref\": \"paper\", \"y\": 1.0, \"yanchor\": \"bottom\", \"yref\": \"paper\"}, {\"font\": {\"size\": 16}, \"showarrow\": false, \"text\": \"NGN19 20190506 - 20190510\", \"x\": 0.7725, \"xanchor\": \"center\", \"xref\": \"paper\", \"y\": 1.0, \"yanchor\": \"bottom\", \"yref\": \"paper\"}, {\"font\": {\"size\": 16}, \"showarrow\": false, \"text\": \"NGN19 20190513 - 20190517\", \"x\": 0.2275, \"xanchor\": \"center\", \"xref\": \"paper\", \"y\": 0.445, \"yanchor\": \"bottom\", \"yref\": \"paper\"}, {\"font\": {\"size\": 16}, \"showarrow\": false, \"text\": \"NGN19 20190520 - 20190524\", \"x\": 0.7725, \"xanchor\": \"center\", \"xref\": \"paper\", \"y\": 0.445, \"yanchor\": \"bottom\", \"yref\": \"paper\"}], \"xaxis\": {\"anchor\": \"y\", \"domain\": [0.0, 0.455], \"tickangle\": 45, \"ticktext\": [-0.25, -0.2, -0.15, -0.1, -0.05, 0.0, 0.05, 0.1, 0.15, 0.2, 0.25, 0.3, 0.35], \"tickvals\": [-0.25, -0.2, -0.15, -0.1, -0.05, 0.0, 0.05, 0.1, 0.15, 0.2, 0.25, 0.3, 0.35], \"type\": \"category\"}, \"yaxis\": {\"anchor\": \"x\", \"domain\": [0.555, 1.0], \"title\": \"vol skew\"}, \"xaxis2\": {\"anchor\": \"y2\", \"domain\": [0.545, 1.0], \"tickangle\": 45, \"ticktext\": [-0.25, -0.2, -0.15, -0.1, -0.05, 0.0, 0.05, 0.1, 0.15, 0.2, 0.25, 0.3, 0.35], \"tickvals\": [-0.25, -0.2, -0.15, -0.1, -0.05, 0.0, 0.05, 0.1, 0.15, 0.2, 0.25, 0.3, 0.35], \"type\": \"category\"}, \"yaxis2\": {\"anchor\": \"x2\", \"domain\": [0.555, 1.0], \"title\": \"vol skew\"}, \"xaxis3\": {\"anchor\": \"y3\", \"domain\": [0.0, 0.455], \"tickangle\": 45, \"ticktext\": [-0.25, -0.2, -0.15, -0.1, -0.05, 0.0, 0.05, 0.1, 0.15, 0.2, 0.25, 0.3, 0.35], \"tickvals\": [-0.25, -0.2, -0.15, -0.1, -0.05, 0.0, 0.05, 0.1, 0.15, 0.2, 0.25, 0.3, 0.35], \"type\": \"category\"}, \"yaxis3\": {\"anchor\": \"x3\", \"domain\": [0.0, 0.445], \"title\": \"vol skew\"}, \"xaxis4\": {\"anchor\": \"y4\", \"domain\": [0.545, 1.0], \"tickangle\": 45, \"ticktext\": [-0.25, -0.2, -0.15, -0.1, -0.05, 0.0, 0.05, 0.1, 0.15, 0.2, 0.25, 0.3, 0.35], \"tickvals\": [-0.25, -0.2, -0.15, -0.1, -0.05, 0.0, 0.05, 0.1, 0.15, 0.2, 0.25, 0.3, 0.35], \"type\": \"category\"}, \"yaxis4\": {\"anchor\": \"x4\", \"domain\": [0.0, 0.445], \"title\": \"vol skew\"}, \"font\": {\"family\": \"Open Sans, sans-serif\"}, \"margin\": {\"b\": 55, \"l\": 45, \"r\": 15, \"t\": 50}, \"title\": \"Skew plots<br>\", \"showlegend\": true, \"hovermode\": \"x\", \"autosize\": true, \"width\": 900, \"height\": 800, \"plot_bgcolor\": \"#EFECEA\", \"bargap\": 0.05}, {\"showLink\": true, \"linkText\": \"Export to plot.ly\"})});</script>"
      ]
     },
     "metadata": {},
     "output_type": "display_data"
    },
    {
     "data": {
      "application/vnd.plotly.v1+json": {
       "data": [
        {
         "legendgroup": "chart (1, 1)",
         "name": "chart (1, 1) 20190528",
         "type": "scatter",
         "uid": "eddb2bf6-1df1-11ea-b788-8c859025e7f9",
         "x": [
          -0.25,
          -0.2,
          -0.15,
          -0.1,
          -0.05,
          0,
          0.05,
          0.1,
          0.15,
          0.2,
          0.25,
          0.3,
          0.35
         ],
         "xaxis": "x",
         "y": [
          null,
          0.1028,
          0.0469,
          0.0153,
          0.004,
          0,
          -0.0016,
          0.0057,
          0.0236,
          0.0693,
          0.0946,
          0.1463,
          0.1955
         ],
         "yaxis": "y"
        },
        {
         "legendgroup": "chart (1, 1)",
         "name": "chart (1, 1) 20190529",
         "type": "scatter",
         "uid": "eddba8ec-1df1-11ea-8eb2-8c859025e7f9",
         "x": [
          -0.25,
          -0.2,
          -0.15,
          -0.1,
          -0.05,
          0,
          0.05,
          0.1,
          0.15,
          0.2,
          0.25,
          0.3,
          0.35
         ],
         "xaxis": "x",
         "y": [
          null,
          0.1146,
          0.0439,
          0.026,
          0.0073,
          0,
          -0.0033,
          -0.0005,
          0.0252,
          0.0481,
          0.104,
          0.157,
          0.207
         ],
         "yaxis": "y"
        }
       ],
       "layout": {
        "annotations": [
         {
          "font": {
           "size": 16
          },
          "showarrow": false,
          "text": "NGN19 20190528 - 20190529",
          "x": 0.2275,
          "xanchor": "center",
          "xref": "paper",
          "y": 1,
          "yanchor": "bottom",
          "yref": "paper"
         }
        ],
        "autosize": true,
        "bargap": 0.05,
        "font": {
         "family": "Open Sans, sans-serif"
        },
        "height": 800,
        "hovermode": "x",
        "margin": {
         "b": 55,
         "l": 45,
         "r": 15,
         "t": 50
        },
        "plot_bgcolor": "#EFECEA",
        "showlegend": true,
        "title": "Skew plots<br>",
        "width": 900,
        "xaxis": {
         "anchor": "y",
         "domain": [
          0,
          0.455
         ],
         "tickangle": 45,
         "ticktext": [
          -0.25,
          -0.2,
          -0.15,
          -0.1,
          -0.05,
          0,
          0.05,
          0.1,
          0.15,
          0.2,
          0.25,
          0.3,
          0.35
         ],
         "tickvals": [
          -0.25,
          -0.2,
          -0.15,
          -0.1,
          -0.05,
          0,
          0.05,
          0.1,
          0.15,
          0.2,
          0.25,
          0.3,
          0.35
         ],
         "type": "category"
        },
        "xaxis2": {
         "anchor": "y2",
         "domain": [
          0.545,
          1
         ]
        },
        "xaxis3": {
         "anchor": "y3",
         "domain": [
          0,
          0.455
         ]
        },
        "xaxis4": {
         "anchor": "y4",
         "domain": [
          0.545,
          1
         ]
        },
        "yaxis": {
         "anchor": "x",
         "domain": [
          0.555,
          1
         ],
         "title": "vol skew"
        },
        "yaxis2": {
         "anchor": "x2",
         "domain": [
          0.555,
          1
         ]
        },
        "yaxis3": {
         "anchor": "x3",
         "domain": [
          0,
          0.445
         ]
        },
        "yaxis4": {
         "anchor": "x4",
         "domain": [
          0,
          0.445
         ]
        }
       }
      },
      "text/html": [
       "<div id=\"d128f427-1e8e-4f23-94a3-c7c60e83568e\" style=\"height: 800px; width: 900px;\" class=\"plotly-graph-div\"></div><script type=\"text/javascript\">require([\"plotly\"], function(Plotly) { window.PLOTLYENV=window.PLOTLYENV || {};window.PLOTLYENV.BASE_URL=\"https://plot.ly\";Plotly.newPlot(\"d128f427-1e8e-4f23-94a3-c7c60e83568e\", [{\"legendgroup\": \"chart (1, 1)\", \"name\": \"chart (1, 1) 20190528\", \"uid\": \"eddb2bf6-1df1-11ea-b788-8c859025e7f9\", \"x\": [-0.25, -0.2, -0.15, -0.1, -0.05, 0.0, 0.05, 0.1, 0.15, 0.2, 0.25, 0.3, 0.35], \"y\": [null, 0.1028, 0.0469, 0.0153, 0.004, 0.0, -0.0016, 0.0057, 0.0236, 0.0693, 0.0946, 0.1463, 0.1955], \"yaxis\": \"y\", \"type\": \"scatter\", \"xaxis\": \"x\"}, {\"legendgroup\": \"chart (1, 1)\", \"name\": \"chart (1, 1) 20190529\", \"uid\": \"eddba8ec-1df1-11ea-8eb2-8c859025e7f9\", \"x\": [-0.25, -0.2, -0.15, -0.1, -0.05, 0.0, 0.05, 0.1, 0.15, 0.2, 0.25, 0.3, 0.35], \"y\": [null, 0.1146, 0.0439, 0.026, 0.0073, 0.0, -0.0033, -0.0005, 0.0252, 0.0481, 0.104, 0.157, 0.207], \"yaxis\": \"y\", \"type\": \"scatter\", \"xaxis\": \"x\"}], {\"annotations\": [{\"font\": {\"size\": 16}, \"showarrow\": false, \"text\": \"NGN19 20190528 - 20190529\", \"x\": 0.2275, \"xanchor\": \"center\", \"xref\": \"paper\", \"y\": 1.0, \"yanchor\": \"bottom\", \"yref\": \"paper\"}], \"xaxis\": {\"anchor\": \"y\", \"domain\": [0.0, 0.455], \"tickangle\": 45, \"ticktext\": [-0.25, -0.2, -0.15, -0.1, -0.05, 0.0, 0.05, 0.1, 0.15, 0.2, 0.25, 0.3, 0.35], \"tickvals\": [-0.25, -0.2, -0.15, -0.1, -0.05, 0.0, 0.05, 0.1, 0.15, 0.2, 0.25, 0.3, 0.35], \"type\": \"category\"}, \"yaxis\": {\"anchor\": \"x\", \"domain\": [0.555, 1.0], \"title\": \"vol skew\"}, \"xaxis2\": {\"anchor\": \"y2\", \"domain\": [0.545, 1.0]}, \"yaxis2\": {\"anchor\": \"x2\", \"domain\": [0.555, 1.0]}, \"xaxis3\": {\"anchor\": \"y3\", \"domain\": [0.0, 0.455]}, \"yaxis3\": {\"anchor\": \"x3\", \"domain\": [0.0, 0.445]}, \"xaxis4\": {\"anchor\": \"y4\", \"domain\": [0.545, 1.0]}, \"yaxis4\": {\"anchor\": \"x4\", \"domain\": [0.0, 0.445]}, \"font\": {\"family\": \"Open Sans, sans-serif\"}, \"margin\": {\"b\": 55, \"l\": 45, \"r\": 15, \"t\": 50}, \"title\": \"Skew plots<br>\", \"showlegend\": true, \"hovermode\": \"x\", \"autosize\": true, \"width\": 900, \"height\": 800, \"plot_bgcolor\": \"#EFECEA\", \"bargap\": 0.05}, {\"showLink\": true, \"linkText\": \"Export to plot.ly\"})});</script>"
      ],
      "text/vnd.plotly.v1+html": [
       "<div id=\"d128f427-1e8e-4f23-94a3-c7c60e83568e\" style=\"height: 800px; width: 900px;\" class=\"plotly-graph-div\"></div><script type=\"text/javascript\">require([\"plotly\"], function(Plotly) { window.PLOTLYENV=window.PLOTLYENV || {};window.PLOTLYENV.BASE_URL=\"https://plot.ly\";Plotly.newPlot(\"d128f427-1e8e-4f23-94a3-c7c60e83568e\", [{\"legendgroup\": \"chart (1, 1)\", \"name\": \"chart (1, 1) 20190528\", \"uid\": \"eddb2bf6-1df1-11ea-b788-8c859025e7f9\", \"x\": [-0.25, -0.2, -0.15, -0.1, -0.05, 0.0, 0.05, 0.1, 0.15, 0.2, 0.25, 0.3, 0.35], \"y\": [null, 0.1028, 0.0469, 0.0153, 0.004, 0.0, -0.0016, 0.0057, 0.0236, 0.0693, 0.0946, 0.1463, 0.1955], \"yaxis\": \"y\", \"type\": \"scatter\", \"xaxis\": \"x\"}, {\"legendgroup\": \"chart (1, 1)\", \"name\": \"chart (1, 1) 20190529\", \"uid\": \"eddba8ec-1df1-11ea-8eb2-8c859025e7f9\", \"x\": [-0.25, -0.2, -0.15, -0.1, -0.05, 0.0, 0.05, 0.1, 0.15, 0.2, 0.25, 0.3, 0.35], \"y\": [null, 0.1146, 0.0439, 0.026, 0.0073, 0.0, -0.0033, -0.0005, 0.0252, 0.0481, 0.104, 0.157, 0.207], \"yaxis\": \"y\", \"type\": \"scatter\", \"xaxis\": \"x\"}], {\"annotations\": [{\"font\": {\"size\": 16}, \"showarrow\": false, \"text\": \"NGN19 20190528 - 20190529\", \"x\": 0.2275, \"xanchor\": \"center\", \"xref\": \"paper\", \"y\": 1.0, \"yanchor\": \"bottom\", \"yref\": \"paper\"}], \"xaxis\": {\"anchor\": \"y\", \"domain\": [0.0, 0.455], \"tickangle\": 45, \"ticktext\": [-0.25, -0.2, -0.15, -0.1, -0.05, 0.0, 0.05, 0.1, 0.15, 0.2, 0.25, 0.3, 0.35], \"tickvals\": [-0.25, -0.2, -0.15, -0.1, -0.05, 0.0, 0.05, 0.1, 0.15, 0.2, 0.25, 0.3, 0.35], \"type\": \"category\"}, \"yaxis\": {\"anchor\": \"x\", \"domain\": [0.555, 1.0], \"title\": \"vol skew\"}, \"xaxis2\": {\"anchor\": \"y2\", \"domain\": [0.545, 1.0]}, \"yaxis2\": {\"anchor\": \"x2\", \"domain\": [0.555, 1.0]}, \"xaxis3\": {\"anchor\": \"y3\", \"domain\": [0.0, 0.455]}, \"yaxis3\": {\"anchor\": \"x3\", \"domain\": [0.0, 0.445]}, \"xaxis4\": {\"anchor\": \"y4\", \"domain\": [0.545, 1.0]}, \"yaxis4\": {\"anchor\": \"x4\", \"domain\": [0.0, 0.445]}, \"font\": {\"family\": \"Open Sans, sans-serif\"}, \"margin\": {\"b\": 55, \"l\": 45, \"r\": 15, \"t\": 50}, \"title\": \"Skew plots<br>\", \"showlegend\": true, \"hovermode\": \"x\", \"autosize\": true, \"width\": 900, \"height\": 800, \"plot_bgcolor\": \"#EFECEA\", \"bargap\": 0.05}, {\"showLink\": true, \"linkText\": \"Export to plot.ly\"})});</script>"
      ]
     },
     "metadata": {},
     "output_type": "display_data"
    },
    {
     "data": {
      "application/vnd.plotly.v1+json": {
       "data": [
        {
         "legendgroup": "chart (1, 1)",
         "name": "chart (1, 1) 20190530",
         "type": "scatter",
         "uid": "ee24063a-1df1-11ea-8274-8c859025e7f9",
         "x": [
          -0.2,
          -0.15,
          -0.1,
          -0.05,
          0,
          0.05,
          0.1,
          0.15,
          0.2,
          0.25,
          0.3,
          0.35
         ],
         "xaxis": "x",
         "y": [
          0.0698,
          0.0417,
          0.0158,
          0.0072,
          0,
          -0.0025,
          -0.0034,
          0.0013,
          null,
          null,
          null,
          null
         ],
         "yaxis": "y"
        },
        {
         "legendgroup": "chart (1, 1)",
         "name": "chart (1, 1) 20190531",
         "type": "scatter",
         "uid": "ee248a12-1df1-11ea-9eb4-8c859025e7f9",
         "x": [
          -0.2,
          -0.15,
          -0.1,
          -0.05,
          0,
          0.05,
          0.1,
          0.15,
          0.2,
          0.25,
          0.3,
          0.35
         ],
         "xaxis": "x",
         "y": [
          null,
          0.0365,
          0.0194,
          0.0074,
          0,
          -0.0029,
          -0.0027,
          0.0042,
          0.0184,
          null,
          null,
          null
         ],
         "yaxis": "y"
        },
        {
         "legendgroup": "chart (1, 1)",
         "name": "chart (1, 1) 20190603",
         "type": "scatter",
         "uid": "ee2507a8-1df1-11ea-9854-8c859025e7f9",
         "x": [
          -0.2,
          -0.15,
          -0.1,
          -0.05,
          0,
          0.05,
          0.1,
          0.15,
          0.2,
          0.25,
          0.3,
          0.35
         ],
         "xaxis": "x",
         "y": [
          null,
          0.0453,
          0.0247,
          0.0096,
          0,
          -0.0023,
          -0.002,
          -0.0006,
          0.0126,
          null,
          null,
          null
         ],
         "yaxis": "y"
        },
        {
         "legendgroup": "chart (1, 1)",
         "name": "chart (1, 1) 20190604",
         "type": "scatter",
         "uid": "ee25811a-1df1-11ea-a501-8c859025e7f9",
         "x": [
          -0.2,
          -0.15,
          -0.1,
          -0.05,
          0,
          0.05,
          0.1,
          0.15,
          0.2,
          0.25,
          0.3,
          0.35
         ],
         "xaxis": "x",
         "y": [
          null,
          0.0599,
          0.0293,
          0.0124,
          0,
          -0.0061,
          -0.0087,
          -0.0074,
          0.0016,
          null,
          null,
          null
         ],
         "yaxis": "y"
        },
        {
         "legendgroup": "chart (1, 1)",
         "name": "chart (1, 1) 20190605",
         "type": "scatter",
         "uid": "ee25f974-1df1-11ea-9204-8c859025e7f9",
         "x": [
          -0.2,
          -0.15,
          -0.1,
          -0.05,
          0,
          0.05,
          0.1,
          0.15,
          0.2,
          0.25,
          0.3,
          0.35
         ],
         "xaxis": "x",
         "y": [
          null,
          0.0622,
          0.0338,
          0.0112,
          0,
          -0.0067,
          -0.0129,
          -0.0094,
          0.0011,
          0.0213,
          null,
          null
         ],
         "yaxis": "y"
        },
        {
         "legendgroup": "chart (1, 2)",
         "name": "chart (1, 2) 20190606",
         "type": "scatter",
         "uid": "ee26fd92-1df1-11ea-bb1a-8c859025e7f9",
         "x": [
          -0.2,
          -0.15,
          -0.1,
          -0.05,
          0,
          0.05,
          0.1,
          0.15,
          0.2,
          0.25,
          0.3,
          0.35
         ],
         "xaxis": "x2",
         "y": [
          null,
          null,
          0.0462,
          0.0178,
          0,
          -0.0089,
          -0.0188,
          -0.0192,
          -0.0172,
          0.0043,
          null,
          null
         ],
         "yaxis": "y2"
        },
        {
         "legendgroup": "chart (1, 2)",
         "name": "chart (1, 2) 20190607",
         "type": "scatter",
         "uid": "ee276782-1df1-11ea-bab8-8c859025e7f9",
         "x": [
          -0.2,
          -0.15,
          -0.1,
          -0.05,
          0,
          0.05,
          0.1,
          0.15,
          0.2,
          0.25,
          0.3,
          0.35
         ],
         "xaxis": "x2",
         "y": [
          null,
          null,
          0.0367,
          0.0167,
          0,
          -0.0048,
          -0.0068,
          -0.0075,
          0.0022,
          0.0184,
          null,
          null
         ],
         "yaxis": "y2"
        },
        {
         "legendgroup": "chart (1, 2)",
         "name": "chart (1, 2) 20190610",
         "type": "scatter",
         "uid": "ee27cea2-1df1-11ea-a895-8c859025e7f9",
         "x": [
          -0.2,
          -0.15,
          -0.1,
          -0.05,
          0,
          0.05,
          0.1,
          0.15,
          0.2,
          0.25,
          0.3,
          0.35
         ],
         "xaxis": "x2",
         "y": [
          null,
          null,
          null,
          null,
          0,
          null,
          null,
          null,
          null,
          null,
          null,
          null
         ],
         "yaxis": "y2"
        },
        {
         "legendgroup": "chart (1, 2)",
         "name": "chart (1, 2) 20190611",
         "type": "scatter",
         "uid": "ee284594-1df1-11ea-ac4b-8c859025e7f9",
         "x": [
          -0.2,
          -0.15,
          -0.1,
          -0.05,
          0,
          0.05,
          0.1,
          0.15,
          0.2,
          0.25,
          0.3,
          0.35
         ],
         "xaxis": "x2",
         "y": [
          null,
          0.0747,
          0.0354,
          0.0133,
          0,
          -0.0078,
          -0.0124,
          -0.0096,
          0.0082,
          0.0279,
          null,
          null
         ],
         "yaxis": "y2"
        },
        {
         "legendgroup": "chart (1, 2)",
         "name": "chart (1, 2) 20190612",
         "type": "scatter",
         "uid": "ee28a5fa-1df1-11ea-9665-8c859025e7f9",
         "x": [
          -0.2,
          -0.15,
          -0.1,
          -0.05,
          0,
          0.05,
          0.1,
          0.15,
          0.2,
          0.25,
          0.3,
          0.35
         ],
         "xaxis": "x2",
         "y": [
          null,
          0.071,
          0.0369,
          0.0115,
          0,
          -0.0049,
          -0.0082,
          -0.0011,
          0.0133,
          0.0276,
          null,
          null
         ],
         "yaxis": "y2"
        },
        {
         "legendgroup": "chart (2, 1)",
         "name": "chart (2, 1) 20190613",
         "type": "scatter",
         "uid": "ee29a2ae-1df1-11ea-9b64-8c859025e7f9",
         "x": [
          -0.2,
          -0.15,
          -0.1,
          -0.05,
          0,
          0.05,
          0.1,
          0.15,
          0.2,
          0.25,
          0.3,
          0.35
         ],
         "xaxis": "x3",
         "y": [
          null,
          null,
          0.0355,
          0.0117,
          0,
          -0.0043,
          -0.0015,
          0.0078,
          0.0237,
          0.0412,
          null,
          null
         ],
         "yaxis": "y3"
        },
        {
         "legendgroup": "chart (2, 1)",
         "name": "chart (2, 1) 20190614",
         "type": "scatter",
         "uid": "ee2a0d1e-1df1-11ea-99a2-8c859025e7f9",
         "x": [
          -0.2,
          -0.15,
          -0.1,
          -0.05,
          0,
          0.05,
          0.1,
          0.15,
          0.2,
          0.25,
          0.3,
          0.35
         ],
         "xaxis": "x3",
         "y": [
          null,
          0.0736,
          0.034,
          0.0121,
          0,
          -0.004,
          -0.0018,
          0.0058,
          0.0141,
          0.0373,
          null,
          null
         ],
         "yaxis": "y3"
        },
        {
         "legendgroup": "chart (2, 1)",
         "name": "chart (2, 1) 20190617",
         "type": "scatter",
         "uid": "ee2a7cf6-1df1-11ea-84d0-8c859025e7f9",
         "x": [
          -0.2,
          -0.15,
          -0.1,
          -0.05,
          0,
          0.05,
          0.1,
          0.15,
          0.2,
          0.25,
          0.3,
          0.35
         ],
         "xaxis": "x3",
         "y": [
          null,
          0.0743,
          0.0339,
          0.0122,
          0,
          -0.0023,
          0.0001,
          0.0163,
          0.0322,
          0.0534,
          null,
          null
         ],
         "yaxis": "y3"
        },
        {
         "legendgroup": "chart (2, 1)",
         "name": "chart (2, 1) 20190618",
         "type": "scatter",
         "uid": "ee2ade6c-1df1-11ea-b268-8c859025e7f9",
         "x": [
          -0.2,
          -0.15,
          -0.1,
          -0.05,
          0,
          0.05,
          0.1,
          0.15,
          0.2,
          0.25,
          0.3,
          0.35
         ],
         "xaxis": "x3",
         "y": [
          null,
          null,
          0.0397,
          0.0133,
          0,
          -0.0047,
          -0.0045,
          0.0081,
          0.0215,
          0.0542,
          null,
          null
         ],
         "yaxis": "y3"
        },
        {
         "legendgroup": "chart (2, 1)",
         "name": "chart (2, 1) 20190619",
         "type": "scatter",
         "uid": "ee2b3d26-1df1-11ea-a9ab-8c859025e7f9",
         "x": [
          -0.2,
          -0.15,
          -0.1,
          -0.05,
          0,
          0.05,
          0.1,
          0.15,
          0.2,
          0.25,
          0.3,
          0.35
         ],
         "xaxis": "x3",
         "y": [
          null,
          null,
          0.0495,
          0.0195,
          0,
          -0.01,
          -0.0092,
          -0.0066,
          0.016,
          0.0208,
          0.064,
          null
         ],
         "yaxis": "y3"
        },
        {
         "legendgroup": "chart (2, 2)",
         "name": "chart (2, 2) 20190620",
         "type": "scatter",
         "uid": "ee2c449e-1df1-11ea-9b7c-8c859025e7f9",
         "x": [
          -0.2,
          -0.15,
          -0.1,
          -0.05,
          0,
          0.05,
          0.1,
          0.15,
          0.2,
          0.25,
          0.3,
          0.35
         ],
         "xaxis": "x4",
         "y": [
          null,
          null,
          null,
          0.0224,
          0,
          -0.0098,
          -0.0133,
          -0.004,
          0.0112,
          0.022,
          0.0465,
          0.0782
         ],
         "yaxis": "y4"
        },
        {
         "legendgroup": "chart (2, 2)",
         "name": "chart (2, 2) 20190621",
         "type": "scatter",
         "uid": "ee2cae06-1df1-11ea-82b9-8c859025e7f9",
         "x": [
          -0.2,
          -0.15,
          -0.1,
          -0.05,
          0,
          0.05,
          0.1,
          0.15,
          0.2,
          0.25,
          0.3,
          0.35
         ],
         "xaxis": "x4",
         "y": [
          null,
          null,
          null,
          0.0206,
          0,
          -0.0112,
          -0.016,
          -0.0114,
          0.0042,
          0.017,
          0.0423,
          0.0956
         ],
         "yaxis": "y4"
        },
        {
         "legendgroup": "chart (2, 2)",
         "name": "chart (2, 2) 20190624",
         "type": "scatter",
         "uid": "ee2d1b3a-1df1-11ea-ba39-8c859025e7f9",
         "x": [
          -0.2,
          -0.15,
          -0.1,
          -0.05,
          0,
          0.05,
          0.1,
          0.15,
          0.2,
          0.25,
          0.3,
          0.35
         ],
         "xaxis": "x4",
         "y": [
          null,
          null,
          0.048,
          0.0229,
          0,
          -0.012,
          -0.0111,
          -0.0037,
          0.012,
          0.032,
          0.0638,
          null
         ],
         "yaxis": "y4"
        },
        {
         "legendgroup": "chart (2, 2)",
         "name": "chart (2, 2) 20190625",
         "type": "scatter",
         "uid": "ee2d7e10-1df1-11ea-8378-8c859025e7f9",
         "x": [
          -0.2,
          -0.15,
          -0.1,
          -0.05,
          0,
          0.05,
          0.1,
          0.15,
          0.2,
          0.25,
          0.3,
          0.35
         ],
         "xaxis": "x4",
         "y": [
          null,
          null,
          0.043,
          0.0176,
          0,
          -0.0131,
          -0.0144,
          -0.0073,
          0.0214,
          0.0428,
          0.0751,
          null
         ],
         "yaxis": "y4"
        },
        {
         "legendgroup": "chart (2, 2)",
         "name": "chart (2, 2) 20190626",
         "type": "scatter",
         "uid": "ee2ddcc0-1df1-11ea-b0fa-8c859025e7f9",
         "x": [
          -0.2,
          -0.15,
          -0.1,
          -0.05,
          0,
          0.05,
          0.1,
          0.15,
          0.2,
          0.25,
          0.3,
          0.35
         ],
         "xaxis": "x4",
         "y": [
          null,
          null,
          0.0412,
          0.0214,
          0,
          -0.0121,
          -0.0187,
          -0.0132,
          0.013,
          0.0271,
          0.0769,
          null
         ],
         "yaxis": "y4"
        }
       ],
       "layout": {
        "annotations": [
         {
          "font": {
           "size": 16
          },
          "showarrow": false,
          "text": "NGQ19 20190530 - 20190605",
          "x": 0.2275,
          "xanchor": "center",
          "xref": "paper",
          "y": 1,
          "yanchor": "bottom",
          "yref": "paper"
         },
         {
          "font": {
           "size": 16
          },
          "showarrow": false,
          "text": "NGQ19 20190606 - 20190612",
          "x": 0.7725,
          "xanchor": "center",
          "xref": "paper",
          "y": 1,
          "yanchor": "bottom",
          "yref": "paper"
         },
         {
          "font": {
           "size": 16
          },
          "showarrow": false,
          "text": "NGQ19 20190613 - 20190619",
          "x": 0.2275,
          "xanchor": "center",
          "xref": "paper",
          "y": 0.445,
          "yanchor": "bottom",
          "yref": "paper"
         },
         {
          "font": {
           "size": 16
          },
          "showarrow": false,
          "text": "NGQ19 20190620 - 20190626",
          "x": 0.7725,
          "xanchor": "center",
          "xref": "paper",
          "y": 0.445,
          "yanchor": "bottom",
          "yref": "paper"
         }
        ],
        "autosize": true,
        "bargap": 0.05,
        "font": {
         "family": "Open Sans, sans-serif"
        },
        "height": 800,
        "hovermode": "x",
        "margin": {
         "b": 55,
         "l": 45,
         "r": 15,
         "t": 50
        },
        "plot_bgcolor": "#EFECEA",
        "showlegend": true,
        "title": "Skew plots<br>",
        "width": 900,
        "xaxis": {
         "anchor": "y",
         "domain": [
          0,
          0.455
         ],
         "tickangle": 45,
         "ticktext": [
          -0.2,
          -0.15,
          -0.1,
          -0.05,
          0,
          0.05,
          0.1,
          0.15,
          0.2,
          0.25,
          0.3,
          0.35
         ],
         "tickvals": [
          -0.2,
          -0.15,
          -0.1,
          -0.05,
          0,
          0.05,
          0.1,
          0.15,
          0.2,
          0.25,
          0.3,
          0.35
         ],
         "type": "category"
        },
        "xaxis2": {
         "anchor": "y2",
         "domain": [
          0.545,
          1
         ],
         "tickangle": 45,
         "ticktext": [
          -0.2,
          -0.15,
          -0.1,
          -0.05,
          0,
          0.05,
          0.1,
          0.15,
          0.2,
          0.25,
          0.3,
          0.35
         ],
         "tickvals": [
          -0.2,
          -0.15,
          -0.1,
          -0.05,
          0,
          0.05,
          0.1,
          0.15,
          0.2,
          0.25,
          0.3,
          0.35
         ],
         "type": "category"
        },
        "xaxis3": {
         "anchor": "y3",
         "domain": [
          0,
          0.455
         ],
         "tickangle": 45,
         "ticktext": [
          -0.2,
          -0.15,
          -0.1,
          -0.05,
          0,
          0.05,
          0.1,
          0.15,
          0.2,
          0.25,
          0.3,
          0.35
         ],
         "tickvals": [
          -0.2,
          -0.15,
          -0.1,
          -0.05,
          0,
          0.05,
          0.1,
          0.15,
          0.2,
          0.25,
          0.3,
          0.35
         ],
         "type": "category"
        },
        "xaxis4": {
         "anchor": "y4",
         "domain": [
          0.545,
          1
         ],
         "tickangle": 45,
         "ticktext": [
          -0.2,
          -0.15,
          -0.1,
          -0.05,
          0,
          0.05,
          0.1,
          0.15,
          0.2,
          0.25,
          0.3,
          0.35
         ],
         "tickvals": [
          -0.2,
          -0.15,
          -0.1,
          -0.05,
          0,
          0.05,
          0.1,
          0.15,
          0.2,
          0.25,
          0.3,
          0.35
         ],
         "type": "category"
        },
        "yaxis": {
         "anchor": "x",
         "domain": [
          0.555,
          1
         ],
         "title": "vol skew"
        },
        "yaxis2": {
         "anchor": "x2",
         "domain": [
          0.555,
          1
         ],
         "title": "vol skew"
        },
        "yaxis3": {
         "anchor": "x3",
         "domain": [
          0,
          0.445
         ],
         "title": "vol skew"
        },
        "yaxis4": {
         "anchor": "x4",
         "domain": [
          0,
          0.445
         ],
         "title": "vol skew"
        }
       }
      },
      "text/html": [
       "<div id=\"9b26a5e9-b22e-4734-9e14-6d1377363133\" style=\"height: 800px; width: 900px;\" class=\"plotly-graph-div\"></div><script type=\"text/javascript\">require([\"plotly\"], function(Plotly) { window.PLOTLYENV=window.PLOTLYENV || {};window.PLOTLYENV.BASE_URL=\"https://plot.ly\";Plotly.newPlot(\"9b26a5e9-b22e-4734-9e14-6d1377363133\", [{\"legendgroup\": \"chart (1, 1)\", \"name\": \"chart (1, 1) 20190530\", \"uid\": \"ee24063a-1df1-11ea-8274-8c859025e7f9\", \"x\": [-0.2, -0.15, -0.1, -0.05, 0.0, 0.05, 0.1, 0.15, 0.2, 0.25, 0.3, 0.35], \"y\": [0.0698, 0.0417, 0.0158, 0.0072, 0.0, -0.0025, -0.0034, 0.0013, null, null, null, null], \"yaxis\": \"y\", \"type\": \"scatter\", \"xaxis\": \"x\"}, {\"legendgroup\": \"chart (1, 1)\", \"name\": \"chart (1, 1) 20190531\", \"uid\": \"ee248a12-1df1-11ea-9eb4-8c859025e7f9\", \"x\": [-0.2, -0.15, -0.1, -0.05, 0.0, 0.05, 0.1, 0.15, 0.2, 0.25, 0.3, 0.35], \"y\": [null, 0.0365, 0.0194, 0.0074, 0.0, -0.0029, -0.0027, 0.0042, 0.0184, null, null, null], \"yaxis\": \"y\", \"type\": \"scatter\", \"xaxis\": \"x\"}, {\"legendgroup\": \"chart (1, 1)\", \"name\": \"chart (1, 1) 20190603\", \"uid\": \"ee2507a8-1df1-11ea-9854-8c859025e7f9\", \"x\": [-0.2, -0.15, -0.1, -0.05, 0.0, 0.05, 0.1, 0.15, 0.2, 0.25, 0.3, 0.35], \"y\": [null, 0.0453, 0.0247, 0.0096, 0.0, -0.0023, -0.002, -0.0006, 0.0126, null, null, null], \"yaxis\": \"y\", \"type\": \"scatter\", \"xaxis\": \"x\"}, {\"legendgroup\": \"chart (1, 1)\", \"name\": \"chart (1, 1) 20190604\", \"uid\": \"ee25811a-1df1-11ea-a501-8c859025e7f9\", \"x\": [-0.2, -0.15, -0.1, -0.05, 0.0, 0.05, 0.1, 0.15, 0.2, 0.25, 0.3, 0.35], \"y\": [null, 0.0599, 0.0293, 0.0124, 0.0, -0.0061, -0.0087, -0.0074, 0.0016, null, null, null], \"yaxis\": \"y\", \"type\": \"scatter\", \"xaxis\": \"x\"}, {\"legendgroup\": \"chart (1, 1)\", \"name\": \"chart (1, 1) 20190605\", \"uid\": \"ee25f974-1df1-11ea-9204-8c859025e7f9\", \"x\": [-0.2, -0.15, -0.1, -0.05, 0.0, 0.05, 0.1, 0.15, 0.2, 0.25, 0.3, 0.35], \"y\": [null, 0.0622, 0.0338, 0.0112, 0.0, -0.0067, -0.0129, -0.0094, 0.0011, 0.0213, null, null], \"yaxis\": \"y\", \"type\": \"scatter\", \"xaxis\": \"x\"}, {\"legendgroup\": \"chart (1, 2)\", \"name\": \"chart (1, 2) 20190606\", \"uid\": \"ee26fd92-1df1-11ea-bb1a-8c859025e7f9\", \"x\": [-0.2, -0.15, -0.1, -0.05, 0.0, 0.05, 0.1, 0.15, 0.2, 0.25, 0.3, 0.35], \"y\": [null, null, 0.0462, 0.0178, 0.0, -0.0089, -0.0188, -0.0192, -0.0172, 0.0043, null, null], \"yaxis\": \"y2\", \"type\": \"scatter\", \"xaxis\": \"x2\"}, {\"legendgroup\": \"chart (1, 2)\", \"name\": \"chart (1, 2) 20190607\", \"uid\": \"ee276782-1df1-11ea-bab8-8c859025e7f9\", \"x\": [-0.2, -0.15, -0.1, -0.05, 0.0, 0.05, 0.1, 0.15, 0.2, 0.25, 0.3, 0.35], \"y\": [null, null, 0.0367, 0.0167, 0.0, -0.0048, -0.0068, -0.0075, 0.0022, 0.0184, null, null], \"yaxis\": \"y2\", \"type\": \"scatter\", \"xaxis\": \"x2\"}, {\"legendgroup\": \"chart (1, 2)\", \"name\": \"chart (1, 2) 20190610\", \"uid\": \"ee27cea2-1df1-11ea-a895-8c859025e7f9\", \"x\": [-0.2, -0.15, -0.1, -0.05, 0.0, 0.05, 0.1, 0.15, 0.2, 0.25, 0.3, 0.35], \"y\": [null, null, null, null, 0.0, null, null, null, null, null, null, null], \"yaxis\": \"y2\", \"type\": \"scatter\", \"xaxis\": \"x2\"}, {\"legendgroup\": \"chart (1, 2)\", \"name\": \"chart (1, 2) 20190611\", \"uid\": \"ee284594-1df1-11ea-ac4b-8c859025e7f9\", \"x\": [-0.2, -0.15, -0.1, -0.05, 0.0, 0.05, 0.1, 0.15, 0.2, 0.25, 0.3, 0.35], \"y\": [null, 0.0747, 0.0354, 0.0133, 0.0, -0.0078, -0.0124, -0.0096, 0.0082, 0.0279, null, null], \"yaxis\": \"y2\", \"type\": \"scatter\", \"xaxis\": \"x2\"}, {\"legendgroup\": \"chart (1, 2)\", \"name\": \"chart (1, 2) 20190612\", \"uid\": \"ee28a5fa-1df1-11ea-9665-8c859025e7f9\", \"x\": [-0.2, -0.15, -0.1, -0.05, 0.0, 0.05, 0.1, 0.15, 0.2, 0.25, 0.3, 0.35], \"y\": [null, 0.071, 0.0369, 0.0115, 0.0, -0.0049, -0.0082, -0.0011, 0.0133, 0.0276, null, null], \"yaxis\": \"y2\", \"type\": \"scatter\", \"xaxis\": \"x2\"}, {\"legendgroup\": \"chart (2, 1)\", \"name\": \"chart (2, 1) 20190613\", \"uid\": \"ee29a2ae-1df1-11ea-9b64-8c859025e7f9\", \"x\": [-0.2, -0.15, -0.1, -0.05, 0.0, 0.05, 0.1, 0.15, 0.2, 0.25, 0.3, 0.35], \"y\": [null, null, 0.0355, 0.0117, 0.0, -0.0043, -0.0015, 0.0078, 0.0237, 0.0412, null, null], \"yaxis\": \"y3\", \"type\": \"scatter\", \"xaxis\": \"x3\"}, {\"legendgroup\": \"chart (2, 1)\", \"name\": \"chart (2, 1) 20190614\", \"uid\": \"ee2a0d1e-1df1-11ea-99a2-8c859025e7f9\", \"x\": [-0.2, -0.15, -0.1, -0.05, 0.0, 0.05, 0.1, 0.15, 0.2, 0.25, 0.3, 0.35], \"y\": [null, 0.0736, 0.034, 0.0121, 0.0, -0.004, -0.0018, 0.0058, 0.0141, 0.0373, null, null], \"yaxis\": \"y3\", \"type\": \"scatter\", \"xaxis\": \"x3\"}, {\"legendgroup\": \"chart (2, 1)\", \"name\": \"chart (2, 1) 20190617\", \"uid\": \"ee2a7cf6-1df1-11ea-84d0-8c859025e7f9\", \"x\": [-0.2, -0.15, -0.1, -0.05, 0.0, 0.05, 0.1, 0.15, 0.2, 0.25, 0.3, 0.35], \"y\": [null, 0.0743, 0.0339, 0.0122, 0.0, -0.0023, 0.0001, 0.0163, 0.0322, 0.0534, null, null], \"yaxis\": \"y3\", \"type\": \"scatter\", \"xaxis\": \"x3\"}, {\"legendgroup\": \"chart (2, 1)\", \"name\": \"chart (2, 1) 20190618\", \"uid\": \"ee2ade6c-1df1-11ea-b268-8c859025e7f9\", \"x\": [-0.2, -0.15, -0.1, -0.05, 0.0, 0.05, 0.1, 0.15, 0.2, 0.25, 0.3, 0.35], \"y\": [null, null, 0.0397, 0.0133, 0.0, -0.0047, -0.0045, 0.0081, 0.0215, 0.0542, null, null], \"yaxis\": \"y3\", \"type\": \"scatter\", \"xaxis\": \"x3\"}, {\"legendgroup\": \"chart (2, 1)\", \"name\": \"chart (2, 1) 20190619\", \"uid\": \"ee2b3d26-1df1-11ea-a9ab-8c859025e7f9\", \"x\": [-0.2, -0.15, -0.1, -0.05, 0.0, 0.05, 0.1, 0.15, 0.2, 0.25, 0.3, 0.35], \"y\": [null, null, 0.0495, 0.0195, 0.0, -0.01, -0.0092, -0.0066, 0.016, 0.0208, 0.064, null], \"yaxis\": \"y3\", \"type\": \"scatter\", \"xaxis\": \"x3\"}, {\"legendgroup\": \"chart (2, 2)\", \"name\": \"chart (2, 2) 20190620\", \"uid\": \"ee2c449e-1df1-11ea-9b7c-8c859025e7f9\", \"x\": [-0.2, -0.15, -0.1, -0.05, 0.0, 0.05, 0.1, 0.15, 0.2, 0.25, 0.3, 0.35], \"y\": [null, null, null, 0.0224, 0.0, -0.0098, -0.0133, -0.004, 0.0112, 0.022, 0.0465, 0.0782], \"yaxis\": \"y4\", \"type\": \"scatter\", \"xaxis\": \"x4\"}, {\"legendgroup\": \"chart (2, 2)\", \"name\": \"chart (2, 2) 20190621\", \"uid\": \"ee2cae06-1df1-11ea-82b9-8c859025e7f9\", \"x\": [-0.2, -0.15, -0.1, -0.05, 0.0, 0.05, 0.1, 0.15, 0.2, 0.25, 0.3, 0.35], \"y\": [null, null, null, 0.0206, 0.0, -0.0112, -0.016, -0.0114, 0.0042, 0.017, 0.0423, 0.0956], \"yaxis\": \"y4\", \"type\": \"scatter\", \"xaxis\": \"x4\"}, {\"legendgroup\": \"chart (2, 2)\", \"name\": \"chart (2, 2) 20190624\", \"uid\": \"ee2d1b3a-1df1-11ea-ba39-8c859025e7f9\", \"x\": [-0.2, -0.15, -0.1, -0.05, 0.0, 0.05, 0.1, 0.15, 0.2, 0.25, 0.3, 0.35], \"y\": [null, null, 0.048, 0.0229, 0.0, -0.012, -0.0111, -0.0037, 0.012, 0.032, 0.0638, null], \"yaxis\": \"y4\", \"type\": \"scatter\", \"xaxis\": \"x4\"}, {\"legendgroup\": \"chart (2, 2)\", \"name\": \"chart (2, 2) 20190625\", \"uid\": \"ee2d7e10-1df1-11ea-8378-8c859025e7f9\", \"x\": [-0.2, -0.15, -0.1, -0.05, 0.0, 0.05, 0.1, 0.15, 0.2, 0.25, 0.3, 0.35], \"y\": [null, null, 0.043, 0.0176, 0.0, -0.0131, -0.0144, -0.0073, 0.0214, 0.0428, 0.0751, null], \"yaxis\": \"y4\", \"type\": \"scatter\", \"xaxis\": \"x4\"}, {\"legendgroup\": \"chart (2, 2)\", \"name\": \"chart (2, 2) 20190626\", \"uid\": \"ee2ddcc0-1df1-11ea-b0fa-8c859025e7f9\", \"x\": [-0.2, -0.15, -0.1, -0.05, 0.0, 0.05, 0.1, 0.15, 0.2, 0.25, 0.3, 0.35], \"y\": [null, null, 0.0412, 0.0214, 0.0, -0.0121, -0.0187, -0.0132, 0.013, 0.0271, 0.0769, null], \"yaxis\": \"y4\", \"type\": \"scatter\", \"xaxis\": \"x4\"}], {\"annotations\": [{\"font\": {\"size\": 16}, \"showarrow\": false, \"text\": \"NGQ19 20190530 - 20190605\", \"x\": 0.2275, \"xanchor\": \"center\", \"xref\": \"paper\", \"y\": 1.0, \"yanchor\": \"bottom\", \"yref\": \"paper\"}, {\"font\": {\"size\": 16}, \"showarrow\": false, \"text\": \"NGQ19 20190606 - 20190612\", \"x\": 0.7725, \"xanchor\": \"center\", \"xref\": \"paper\", \"y\": 1.0, \"yanchor\": \"bottom\", \"yref\": \"paper\"}, {\"font\": {\"size\": 16}, \"showarrow\": false, \"text\": \"NGQ19 20190613 - 20190619\", \"x\": 0.2275, \"xanchor\": \"center\", \"xref\": \"paper\", \"y\": 0.445, \"yanchor\": \"bottom\", \"yref\": \"paper\"}, {\"font\": {\"size\": 16}, \"showarrow\": false, \"text\": \"NGQ19 20190620 - 20190626\", \"x\": 0.7725, \"xanchor\": \"center\", \"xref\": \"paper\", \"y\": 0.445, \"yanchor\": \"bottom\", \"yref\": \"paper\"}], \"xaxis\": {\"anchor\": \"y\", \"domain\": [0.0, 0.455], \"tickangle\": 45, \"ticktext\": [-0.2, -0.15, -0.1, -0.05, 0.0, 0.05, 0.1, 0.15, 0.2, 0.25, 0.3, 0.35], \"tickvals\": [-0.2, -0.15, -0.1, -0.05, 0.0, 0.05, 0.1, 0.15, 0.2, 0.25, 0.3, 0.35], \"type\": \"category\"}, \"yaxis\": {\"anchor\": \"x\", \"domain\": [0.555, 1.0], \"title\": \"vol skew\"}, \"xaxis2\": {\"anchor\": \"y2\", \"domain\": [0.545, 1.0], \"tickangle\": 45, \"ticktext\": [-0.2, -0.15, -0.1, -0.05, 0.0, 0.05, 0.1, 0.15, 0.2, 0.25, 0.3, 0.35], \"tickvals\": [-0.2, -0.15, -0.1, -0.05, 0.0, 0.05, 0.1, 0.15, 0.2, 0.25, 0.3, 0.35], \"type\": \"category\"}, \"yaxis2\": {\"anchor\": \"x2\", \"domain\": [0.555, 1.0], \"title\": \"vol skew\"}, \"xaxis3\": {\"anchor\": \"y3\", \"domain\": [0.0, 0.455], \"tickangle\": 45, \"ticktext\": [-0.2, -0.15, -0.1, -0.05, 0.0, 0.05, 0.1, 0.15, 0.2, 0.25, 0.3, 0.35], \"tickvals\": [-0.2, -0.15, -0.1, -0.05, 0.0, 0.05, 0.1, 0.15, 0.2, 0.25, 0.3, 0.35], \"type\": \"category\"}, \"yaxis3\": {\"anchor\": \"x3\", \"domain\": [0.0, 0.445], \"title\": \"vol skew\"}, \"xaxis4\": {\"anchor\": \"y4\", \"domain\": [0.545, 1.0], \"tickangle\": 45, \"ticktext\": [-0.2, -0.15, -0.1, -0.05, 0.0, 0.05, 0.1, 0.15, 0.2, 0.25, 0.3, 0.35], \"tickvals\": [-0.2, -0.15, -0.1, -0.05, 0.0, 0.05, 0.1, 0.15, 0.2, 0.25, 0.3, 0.35], \"type\": \"category\"}, \"yaxis4\": {\"anchor\": \"x4\", \"domain\": [0.0, 0.445], \"title\": \"vol skew\"}, \"font\": {\"family\": \"Open Sans, sans-serif\"}, \"margin\": {\"b\": 55, \"l\": 45, \"r\": 15, \"t\": 50}, \"title\": \"Skew plots<br>\", \"showlegend\": true, \"hovermode\": \"x\", \"autosize\": true, \"width\": 900, \"height\": 800, \"plot_bgcolor\": \"#EFECEA\", \"bargap\": 0.05}, {\"showLink\": true, \"linkText\": \"Export to plot.ly\"})});</script>"
      ],
      "text/vnd.plotly.v1+html": [
       "<div id=\"9b26a5e9-b22e-4734-9e14-6d1377363133\" style=\"height: 800px; width: 900px;\" class=\"plotly-graph-div\"></div><script type=\"text/javascript\">require([\"plotly\"], function(Plotly) { window.PLOTLYENV=window.PLOTLYENV || {};window.PLOTLYENV.BASE_URL=\"https://plot.ly\";Plotly.newPlot(\"9b26a5e9-b22e-4734-9e14-6d1377363133\", [{\"legendgroup\": \"chart (1, 1)\", \"name\": \"chart (1, 1) 20190530\", \"uid\": \"ee24063a-1df1-11ea-8274-8c859025e7f9\", \"x\": [-0.2, -0.15, -0.1, -0.05, 0.0, 0.05, 0.1, 0.15, 0.2, 0.25, 0.3, 0.35], \"y\": [0.0698, 0.0417, 0.0158, 0.0072, 0.0, -0.0025, -0.0034, 0.0013, null, null, null, null], \"yaxis\": \"y\", \"type\": \"scatter\", \"xaxis\": \"x\"}, {\"legendgroup\": \"chart (1, 1)\", \"name\": \"chart (1, 1) 20190531\", \"uid\": \"ee248a12-1df1-11ea-9eb4-8c859025e7f9\", \"x\": [-0.2, -0.15, -0.1, -0.05, 0.0, 0.05, 0.1, 0.15, 0.2, 0.25, 0.3, 0.35], \"y\": [null, 0.0365, 0.0194, 0.0074, 0.0, -0.0029, -0.0027, 0.0042, 0.0184, null, null, null], \"yaxis\": \"y\", \"type\": \"scatter\", \"xaxis\": \"x\"}, {\"legendgroup\": \"chart (1, 1)\", \"name\": \"chart (1, 1) 20190603\", \"uid\": \"ee2507a8-1df1-11ea-9854-8c859025e7f9\", \"x\": [-0.2, -0.15, -0.1, -0.05, 0.0, 0.05, 0.1, 0.15, 0.2, 0.25, 0.3, 0.35], \"y\": [null, 0.0453, 0.0247, 0.0096, 0.0, -0.0023, -0.002, -0.0006, 0.0126, null, null, null], \"yaxis\": \"y\", \"type\": \"scatter\", \"xaxis\": \"x\"}, {\"legendgroup\": \"chart (1, 1)\", \"name\": \"chart (1, 1) 20190604\", \"uid\": \"ee25811a-1df1-11ea-a501-8c859025e7f9\", \"x\": [-0.2, -0.15, -0.1, -0.05, 0.0, 0.05, 0.1, 0.15, 0.2, 0.25, 0.3, 0.35], \"y\": [null, 0.0599, 0.0293, 0.0124, 0.0, -0.0061, -0.0087, -0.0074, 0.0016, null, null, null], \"yaxis\": \"y\", \"type\": \"scatter\", \"xaxis\": \"x\"}, {\"legendgroup\": \"chart (1, 1)\", \"name\": \"chart (1, 1) 20190605\", \"uid\": \"ee25f974-1df1-11ea-9204-8c859025e7f9\", \"x\": [-0.2, -0.15, -0.1, -0.05, 0.0, 0.05, 0.1, 0.15, 0.2, 0.25, 0.3, 0.35], \"y\": [null, 0.0622, 0.0338, 0.0112, 0.0, -0.0067, -0.0129, -0.0094, 0.0011, 0.0213, null, null], \"yaxis\": \"y\", \"type\": \"scatter\", \"xaxis\": \"x\"}, {\"legendgroup\": \"chart (1, 2)\", \"name\": \"chart (1, 2) 20190606\", \"uid\": \"ee26fd92-1df1-11ea-bb1a-8c859025e7f9\", \"x\": [-0.2, -0.15, -0.1, -0.05, 0.0, 0.05, 0.1, 0.15, 0.2, 0.25, 0.3, 0.35], \"y\": [null, null, 0.0462, 0.0178, 0.0, -0.0089, -0.0188, -0.0192, -0.0172, 0.0043, null, null], \"yaxis\": \"y2\", \"type\": \"scatter\", \"xaxis\": \"x2\"}, {\"legendgroup\": \"chart (1, 2)\", \"name\": \"chart (1, 2) 20190607\", \"uid\": \"ee276782-1df1-11ea-bab8-8c859025e7f9\", \"x\": [-0.2, -0.15, -0.1, -0.05, 0.0, 0.05, 0.1, 0.15, 0.2, 0.25, 0.3, 0.35], \"y\": [null, null, 0.0367, 0.0167, 0.0, -0.0048, -0.0068, -0.0075, 0.0022, 0.0184, null, null], \"yaxis\": \"y2\", \"type\": \"scatter\", \"xaxis\": \"x2\"}, {\"legendgroup\": \"chart (1, 2)\", \"name\": \"chart (1, 2) 20190610\", \"uid\": \"ee27cea2-1df1-11ea-a895-8c859025e7f9\", \"x\": [-0.2, -0.15, -0.1, -0.05, 0.0, 0.05, 0.1, 0.15, 0.2, 0.25, 0.3, 0.35], \"y\": [null, null, null, null, 0.0, null, null, null, null, null, null, null], \"yaxis\": \"y2\", \"type\": \"scatter\", \"xaxis\": \"x2\"}, {\"legendgroup\": \"chart (1, 2)\", \"name\": \"chart (1, 2) 20190611\", \"uid\": \"ee284594-1df1-11ea-ac4b-8c859025e7f9\", \"x\": [-0.2, -0.15, -0.1, -0.05, 0.0, 0.05, 0.1, 0.15, 0.2, 0.25, 0.3, 0.35], \"y\": [null, 0.0747, 0.0354, 0.0133, 0.0, -0.0078, -0.0124, -0.0096, 0.0082, 0.0279, null, null], \"yaxis\": \"y2\", \"type\": \"scatter\", \"xaxis\": \"x2\"}, {\"legendgroup\": \"chart (1, 2)\", \"name\": \"chart (1, 2) 20190612\", \"uid\": \"ee28a5fa-1df1-11ea-9665-8c859025e7f9\", \"x\": [-0.2, -0.15, -0.1, -0.05, 0.0, 0.05, 0.1, 0.15, 0.2, 0.25, 0.3, 0.35], \"y\": [null, 0.071, 0.0369, 0.0115, 0.0, -0.0049, -0.0082, -0.0011, 0.0133, 0.0276, null, null], \"yaxis\": \"y2\", \"type\": \"scatter\", \"xaxis\": \"x2\"}, {\"legendgroup\": \"chart (2, 1)\", \"name\": \"chart (2, 1) 20190613\", \"uid\": \"ee29a2ae-1df1-11ea-9b64-8c859025e7f9\", \"x\": [-0.2, -0.15, -0.1, -0.05, 0.0, 0.05, 0.1, 0.15, 0.2, 0.25, 0.3, 0.35], \"y\": [null, null, 0.0355, 0.0117, 0.0, -0.0043, -0.0015, 0.0078, 0.0237, 0.0412, null, null], \"yaxis\": \"y3\", \"type\": \"scatter\", \"xaxis\": \"x3\"}, {\"legendgroup\": \"chart (2, 1)\", \"name\": \"chart (2, 1) 20190614\", \"uid\": \"ee2a0d1e-1df1-11ea-99a2-8c859025e7f9\", \"x\": [-0.2, -0.15, -0.1, -0.05, 0.0, 0.05, 0.1, 0.15, 0.2, 0.25, 0.3, 0.35], \"y\": [null, 0.0736, 0.034, 0.0121, 0.0, -0.004, -0.0018, 0.0058, 0.0141, 0.0373, null, null], \"yaxis\": \"y3\", \"type\": \"scatter\", \"xaxis\": \"x3\"}, {\"legendgroup\": \"chart (2, 1)\", \"name\": \"chart (2, 1) 20190617\", \"uid\": \"ee2a7cf6-1df1-11ea-84d0-8c859025e7f9\", \"x\": [-0.2, -0.15, -0.1, -0.05, 0.0, 0.05, 0.1, 0.15, 0.2, 0.25, 0.3, 0.35], \"y\": [null, 0.0743, 0.0339, 0.0122, 0.0, -0.0023, 0.0001, 0.0163, 0.0322, 0.0534, null, null], \"yaxis\": \"y3\", \"type\": \"scatter\", \"xaxis\": \"x3\"}, {\"legendgroup\": \"chart (2, 1)\", \"name\": \"chart (2, 1) 20190618\", \"uid\": \"ee2ade6c-1df1-11ea-b268-8c859025e7f9\", \"x\": [-0.2, -0.15, -0.1, -0.05, 0.0, 0.05, 0.1, 0.15, 0.2, 0.25, 0.3, 0.35], \"y\": [null, null, 0.0397, 0.0133, 0.0, -0.0047, -0.0045, 0.0081, 0.0215, 0.0542, null, null], \"yaxis\": \"y3\", \"type\": \"scatter\", \"xaxis\": \"x3\"}, {\"legendgroup\": \"chart (2, 1)\", \"name\": \"chart (2, 1) 20190619\", \"uid\": \"ee2b3d26-1df1-11ea-a9ab-8c859025e7f9\", \"x\": [-0.2, -0.15, -0.1, -0.05, 0.0, 0.05, 0.1, 0.15, 0.2, 0.25, 0.3, 0.35], \"y\": [null, null, 0.0495, 0.0195, 0.0, -0.01, -0.0092, -0.0066, 0.016, 0.0208, 0.064, null], \"yaxis\": \"y3\", \"type\": \"scatter\", \"xaxis\": \"x3\"}, {\"legendgroup\": \"chart (2, 2)\", \"name\": \"chart (2, 2) 20190620\", \"uid\": \"ee2c449e-1df1-11ea-9b7c-8c859025e7f9\", \"x\": [-0.2, -0.15, -0.1, -0.05, 0.0, 0.05, 0.1, 0.15, 0.2, 0.25, 0.3, 0.35], \"y\": [null, null, null, 0.0224, 0.0, -0.0098, -0.0133, -0.004, 0.0112, 0.022, 0.0465, 0.0782], \"yaxis\": \"y4\", \"type\": \"scatter\", \"xaxis\": \"x4\"}, {\"legendgroup\": \"chart (2, 2)\", \"name\": \"chart (2, 2) 20190621\", \"uid\": \"ee2cae06-1df1-11ea-82b9-8c859025e7f9\", \"x\": [-0.2, -0.15, -0.1, -0.05, 0.0, 0.05, 0.1, 0.15, 0.2, 0.25, 0.3, 0.35], \"y\": [null, null, null, 0.0206, 0.0, -0.0112, -0.016, -0.0114, 0.0042, 0.017, 0.0423, 0.0956], \"yaxis\": \"y4\", \"type\": \"scatter\", \"xaxis\": \"x4\"}, {\"legendgroup\": \"chart (2, 2)\", \"name\": \"chart (2, 2) 20190624\", \"uid\": \"ee2d1b3a-1df1-11ea-ba39-8c859025e7f9\", \"x\": [-0.2, -0.15, -0.1, -0.05, 0.0, 0.05, 0.1, 0.15, 0.2, 0.25, 0.3, 0.35], \"y\": [null, null, 0.048, 0.0229, 0.0, -0.012, -0.0111, -0.0037, 0.012, 0.032, 0.0638, null], \"yaxis\": \"y4\", \"type\": \"scatter\", \"xaxis\": \"x4\"}, {\"legendgroup\": \"chart (2, 2)\", \"name\": \"chart (2, 2) 20190625\", \"uid\": \"ee2d7e10-1df1-11ea-8378-8c859025e7f9\", \"x\": [-0.2, -0.15, -0.1, -0.05, 0.0, 0.05, 0.1, 0.15, 0.2, 0.25, 0.3, 0.35], \"y\": [null, null, 0.043, 0.0176, 0.0, -0.0131, -0.0144, -0.0073, 0.0214, 0.0428, 0.0751, null], \"yaxis\": \"y4\", \"type\": \"scatter\", \"xaxis\": \"x4\"}, {\"legendgroup\": \"chart (2, 2)\", \"name\": \"chart (2, 2) 20190626\", \"uid\": \"ee2ddcc0-1df1-11ea-b0fa-8c859025e7f9\", \"x\": [-0.2, -0.15, -0.1, -0.05, 0.0, 0.05, 0.1, 0.15, 0.2, 0.25, 0.3, 0.35], \"y\": [null, null, 0.0412, 0.0214, 0.0, -0.0121, -0.0187, -0.0132, 0.013, 0.0271, 0.0769, null], \"yaxis\": \"y4\", \"type\": \"scatter\", \"xaxis\": \"x4\"}], {\"annotations\": [{\"font\": {\"size\": 16}, \"showarrow\": false, \"text\": \"NGQ19 20190530 - 20190605\", \"x\": 0.2275, \"xanchor\": \"center\", \"xref\": \"paper\", \"y\": 1.0, \"yanchor\": \"bottom\", \"yref\": \"paper\"}, {\"font\": {\"size\": 16}, \"showarrow\": false, \"text\": \"NGQ19 20190606 - 20190612\", \"x\": 0.7725, \"xanchor\": \"center\", \"xref\": \"paper\", \"y\": 1.0, \"yanchor\": \"bottom\", \"yref\": \"paper\"}, {\"font\": {\"size\": 16}, \"showarrow\": false, \"text\": \"NGQ19 20190613 - 20190619\", \"x\": 0.2275, \"xanchor\": \"center\", \"xref\": \"paper\", \"y\": 0.445, \"yanchor\": \"bottom\", \"yref\": \"paper\"}, {\"font\": {\"size\": 16}, \"showarrow\": false, \"text\": \"NGQ19 20190620 - 20190626\", \"x\": 0.7725, \"xanchor\": \"center\", \"xref\": \"paper\", \"y\": 0.445, \"yanchor\": \"bottom\", \"yref\": \"paper\"}], \"xaxis\": {\"anchor\": \"y\", \"domain\": [0.0, 0.455], \"tickangle\": 45, \"ticktext\": [-0.2, -0.15, -0.1, -0.05, 0.0, 0.05, 0.1, 0.15, 0.2, 0.25, 0.3, 0.35], \"tickvals\": [-0.2, -0.15, -0.1, -0.05, 0.0, 0.05, 0.1, 0.15, 0.2, 0.25, 0.3, 0.35], \"type\": \"category\"}, \"yaxis\": {\"anchor\": \"x\", \"domain\": [0.555, 1.0], \"title\": \"vol skew\"}, \"xaxis2\": {\"anchor\": \"y2\", \"domain\": [0.545, 1.0], \"tickangle\": 45, \"ticktext\": [-0.2, -0.15, -0.1, -0.05, 0.0, 0.05, 0.1, 0.15, 0.2, 0.25, 0.3, 0.35], \"tickvals\": [-0.2, -0.15, -0.1, -0.05, 0.0, 0.05, 0.1, 0.15, 0.2, 0.25, 0.3, 0.35], \"type\": \"category\"}, \"yaxis2\": {\"anchor\": \"x2\", \"domain\": [0.555, 1.0], \"title\": \"vol skew\"}, \"xaxis3\": {\"anchor\": \"y3\", \"domain\": [0.0, 0.455], \"tickangle\": 45, \"ticktext\": [-0.2, -0.15, -0.1, -0.05, 0.0, 0.05, 0.1, 0.15, 0.2, 0.25, 0.3, 0.35], \"tickvals\": [-0.2, -0.15, -0.1, -0.05, 0.0, 0.05, 0.1, 0.15, 0.2, 0.25, 0.3, 0.35], \"type\": \"category\"}, \"yaxis3\": {\"anchor\": \"x3\", \"domain\": [0.0, 0.445], \"title\": \"vol skew\"}, \"xaxis4\": {\"anchor\": \"y4\", \"domain\": [0.545, 1.0], \"tickangle\": 45, \"ticktext\": [-0.2, -0.15, -0.1, -0.05, 0.0, 0.05, 0.1, 0.15, 0.2, 0.25, 0.3, 0.35], \"tickvals\": [-0.2, -0.15, -0.1, -0.05, 0.0, 0.05, 0.1, 0.15, 0.2, 0.25, 0.3, 0.35], \"type\": \"category\"}, \"yaxis4\": {\"anchor\": \"x4\", \"domain\": [0.0, 0.445], \"title\": \"vol skew\"}, \"font\": {\"family\": \"Open Sans, sans-serif\"}, \"margin\": {\"b\": 55, \"l\": 45, \"r\": 15, \"t\": 50}, \"title\": \"Skew plots<br>\", \"showlegend\": true, \"hovermode\": \"x\", \"autosize\": true, \"width\": 900, \"height\": 800, \"plot_bgcolor\": \"#EFECEA\", \"bargap\": 0.05}, {\"showLink\": true, \"linkText\": \"Export to plot.ly\"})});</script>"
      ]
     },
     "metadata": {},
     "output_type": "display_data"
    },
    {
     "data": {
      "application/vnd.plotly.v1+json": {
       "data": [
        {
         "legendgroup": "chart (1, 1)",
         "name": "chart (1, 1) 20190627",
         "type": "scatter",
         "uid": "ee6f4086-1df1-11ea-8ba3-8c859025e7f9",
         "x": [
          -0.3,
          -0.25,
          -0.2,
          -0.15,
          -0.1,
          -0.05,
          0,
          0.05,
          0.1,
          0.15,
          0.2,
          0.25,
          0.3,
          0.35
         ],
         "xaxis": "x",
         "y": [
          0.1132,
          0.09,
          0.0738,
          0.0501,
          0.0302,
          0.0138,
          0,
          -0.008,
          -0.0164,
          -0.0147,
          -0.0104,
          0.0027,
          0.0165,
          null
         ],
         "yaxis": "y"
        },
        {
         "legendgroup": "chart (1, 1)",
         "name": "chart (1, 1) 20190628",
         "type": "scatter",
         "uid": "ee6fa41e-1df1-11ea-a327-8c859025e7f9",
         "x": [
          -0.3,
          -0.25,
          -0.2,
          -0.15,
          -0.1,
          -0.05,
          0,
          0.05,
          0.1,
          0.15,
          0.2,
          0.25,
          0.3,
          0.35
         ],
         "xaxis": "x",
         "y": [
          0.1145,
          0.0945,
          0.0645,
          0.0446,
          0.0262,
          0.011,
          0,
          -0.0076,
          -0.0109,
          -0.0116,
          -0.0091,
          0.0039,
          0.0222,
          null
         ],
         "yaxis": "y"
        },
        {
         "legendgroup": "chart (1, 1)",
         "name": "chart (1, 1) 20190701",
         "type": "scatter",
         "uid": "ee7002b4-1df1-11ea-8da2-8c859025e7f9",
         "x": [
          -0.3,
          -0.25,
          -0.2,
          -0.15,
          -0.1,
          -0.05,
          0,
          0.05,
          0.1,
          0.15,
          0.2,
          0.25,
          0.3,
          0.35
         ],
         "xaxis": "x",
         "y": [
          0.1353,
          0.1073,
          0.0838,
          0.0613,
          0.0371,
          0.0174,
          0,
          -0.0104,
          -0.0166,
          -0.0184,
          -0.0138,
          -0.0075,
          0.0118,
          null
         ],
         "yaxis": "y"
        },
        {
         "legendgroup": "chart (1, 1)",
         "name": "chart (1, 1) 20190702",
         "type": "scatter",
         "uid": "ee707148-1df1-11ea-abdf-8c859025e7f9",
         "x": [
          -0.3,
          -0.25,
          -0.2,
          -0.15,
          -0.1,
          -0.05,
          0,
          0.05,
          0.1,
          0.15,
          0.2,
          0.25,
          0.3,
          0.35
         ],
         "xaxis": "x",
         "y": [
          0.1362,
          0.1172,
          0.0855,
          0.0625,
          0.0363,
          0.0159,
          0,
          -0.0126,
          -0.0166,
          -0.0166,
          -0.0102,
          0.0044,
          0.0101,
          0.034
         ],
         "yaxis": "y"
        },
        {
         "legendgroup": "chart (1, 1)",
         "name": "chart (1, 1) 20190703",
         "type": "scatter",
         "uid": "ee70dce6-1df1-11ea-a7b1-8c859025e7f9",
         "x": [
          -0.3,
          -0.25,
          -0.2,
          -0.15,
          -0.1,
          -0.05,
          0,
          0.05,
          0.1,
          0.15,
          0.2,
          0.25,
          0.3,
          0.35
         ],
         "xaxis": "x",
         "y": [
          0.1792,
          0.1392,
          0.1021,
          0.0735,
          0.041,
          0.02,
          0,
          -0.0133,
          -0.0175,
          -0.0171,
          -0.0103,
          0.0031,
          0.025,
          null
         ],
         "yaxis": "y"
        },
        {
         "legendgroup": "chart (1, 2)",
         "name": "chart (1, 2) 20190705",
         "type": "scatter",
         "uid": "ee71e834-1df1-11ea-8a89-8c859025e7f9",
         "x": [
          -0.3,
          -0.25,
          -0.2,
          -0.15,
          -0.1,
          -0.05,
          0,
          0.05,
          0.1,
          0.15,
          0.2,
          0.25,
          0.3,
          0.35
         ],
         "xaxis": "x2",
         "y": [
          0.1708,
          0.1364,
          0.0999,
          0.0664,
          0.0382,
          0.0147,
          0,
          -0.0085,
          -0.0134,
          -0.012,
          -0.0023,
          0.0101,
          null,
          null
         ],
         "yaxis": "y2"
        },
        {
         "legendgroup": "chart (1, 2)",
         "name": "chart (1, 2) 20190708",
         "type": "scatter",
         "uid": "ee7258d2-1df1-11ea-b946-8c859025e7f9",
         "x": [
          -0.3,
          -0.25,
          -0.2,
          -0.15,
          -0.1,
          -0.05,
          0,
          0.05,
          0.1,
          0.15,
          0.2,
          0.25,
          0.3,
          0.35
         ],
         "xaxis": "x2",
         "y": [
          0.1737,
          0.1336,
          0.1005,
          0.0619,
          0.0353,
          0.015,
          0,
          -0.0048,
          -0.0072,
          -0.0073,
          -0.0013,
          0.0148,
          null,
          null
         ],
         "yaxis": "y2"
        },
        {
         "legendgroup": "chart (1, 2)",
         "name": "chart (1, 2) 20190709",
         "type": "scatter",
         "uid": "ee72c808-1df1-11ea-99ea-8c859025e7f9",
         "x": [
          -0.3,
          -0.25,
          -0.2,
          -0.15,
          -0.1,
          -0.05,
          0,
          0.05,
          0.1,
          0.15,
          0.2,
          0.25,
          0.3,
          0.35
         ],
         "xaxis": "x2",
         "y": [
          0.1839,
          0.1332,
          0.0959,
          0.0611,
          0.0318,
          0.009,
          0,
          -0.003,
          -0.0045,
          -0.0021,
          0.0031,
          null,
          null,
          null
         ],
         "yaxis": "y2"
        },
        {
         "legendgroup": "chart (1, 2)",
         "name": "chart (1, 2) 20190710",
         "type": "scatter",
         "uid": "ee7344ae-1df1-11ea-a9ae-8c859025e7f9",
         "x": [
          -0.3,
          -0.25,
          -0.2,
          -0.15,
          -0.1,
          -0.05,
          0,
          0.05,
          0.1,
          0.15,
          0.2,
          0.25,
          0.3,
          0.35
         ],
         "xaxis": "x2",
         "y": [
          0.1913,
          0.1422,
          0.1056,
          0.0662,
          0.0345,
          0.0127,
          0,
          -0.0051,
          -0.0069,
          -0.0051,
          0.0043,
          null,
          null,
          null
         ],
         "yaxis": "y2"
        },
        {
         "legendgroup": "chart (1, 2)",
         "name": "chart (1, 2) 20190711",
         "type": "scatter",
         "uid": "ee73bcc2-1df1-11ea-b9a1-8c859025e7f9",
         "x": [
          -0.3,
          -0.25,
          -0.2,
          -0.15,
          -0.1,
          -0.05,
          0,
          0.05,
          0.1,
          0.15,
          0.2,
          0.25,
          0.3,
          0.35
         ],
         "xaxis": "x2",
         "y": [
          0.2089,
          0.1629,
          0.115,
          0.0784,
          0.0407,
          0.0177,
          0,
          -0.0107,
          -0.0155,
          -0.0128,
          -0.0065,
          null,
          null,
          null
         ],
         "yaxis": "y2"
        },
        {
         "legendgroup": "chart (2, 1)",
         "name": "chart (2, 1) 20190712",
         "type": "scatter",
         "uid": "ee74c0d8-1df1-11ea-aceb-8c859025e7f9",
         "x": [
          -0.3,
          -0.25,
          -0.2,
          -0.15,
          -0.1,
          -0.05,
          0,
          0.05,
          0.1,
          0.15,
          0.2,
          0.25,
          0.3,
          0.35
         ],
         "xaxis": "x3",
         "y": [
          0.1822,
          0.1323,
          0.0977,
          0.0632,
          0.0343,
          0.0142,
          0,
          -0.0088,
          -0.013,
          -0.0153,
          -0.0044,
          null,
          null,
          null
         ],
         "yaxis": "y3"
        },
        {
         "legendgroup": "chart (2, 1)",
         "name": "chart (2, 1) 20190715",
         "type": "scatter",
         "uid": "ee75245e-1df1-11ea-b707-8c859025e7f9",
         "x": [
          -0.3,
          -0.25,
          -0.2,
          -0.15,
          -0.1,
          -0.05,
          0,
          0.05,
          0.1,
          0.15,
          0.2,
          0.25,
          0.3,
          0.35
         ],
         "xaxis": "x3",
         "y": [
          0.1841,
          0.1364,
          0.0987,
          0.068,
          0.0361,
          0.0148,
          0,
          -0.0118,
          -0.0183,
          -0.0197,
          -0.0202,
          -0.0061,
          null,
          null
         ],
         "yaxis": "y3"
        },
        {
         "legendgroup": "chart (2, 1)",
         "name": "chart (2, 1) 20190716",
         "type": "scatter",
         "uid": "ee758bba-1df1-11ea-b53c-8c859025e7f9",
         "x": [
          -0.3,
          -0.25,
          -0.2,
          -0.15,
          -0.1,
          -0.05,
          0,
          0.05,
          0.1,
          0.15,
          0.2,
          0.25,
          0.3,
          0.35
         ],
         "xaxis": "x3",
         "y": [
          0.1948,
          0.1445,
          0.1174,
          0.0815,
          0.0521,
          0.0212,
          0,
          -0.0132,
          -0.0237,
          -0.0292,
          -0.0276,
          -0.0225,
          -0.0035,
          null
         ],
         "yaxis": "y3"
        },
        {
         "legendgroup": "chart (2, 1)",
         "name": "chart (2, 1) 20190717",
         "type": "scatter",
         "uid": "ee75ebdc-1df1-11ea-9401-8c859025e7f9",
         "x": [
          -0.3,
          -0.25,
          -0.2,
          -0.15,
          -0.1,
          -0.05,
          0,
          0.05,
          0.1,
          0.15,
          0.2,
          0.25,
          0.3,
          0.35
         ],
         "xaxis": "x3",
         "y": [
          0.1818,
          0.1541,
          0.1172,
          0.0831,
          0.0488,
          0.0211,
          0,
          -0.016,
          -0.0257,
          -0.0302,
          -0.0239,
          -0.0295,
          -0.0203,
          null
         ],
         "yaxis": "y3"
        },
        {
         "legendgroup": "chart (2, 1)",
         "name": "chart (2, 1) 20190718",
         "type": "scatter",
         "uid": "ee764ba4-1df1-11ea-9fa8-8c859025e7f9",
         "x": [
          -0.3,
          -0.25,
          -0.2,
          -0.15,
          -0.1,
          -0.05,
          0,
          0.05,
          0.1,
          0.15,
          0.2,
          0.25,
          0.3,
          0.35
         ],
         "xaxis": "x3",
         "y": [
          0.1862,
          0.1467,
          0.1126,
          0.0783,
          0.0468,
          0.0197,
          0,
          -0.0155,
          -0.0266,
          -0.028,
          -0.0151,
          -0.0101,
          0.0007,
          null
         ],
         "yaxis": "y3"
        },
        {
         "legendgroup": "chart (2, 2)",
         "name": "chart (2, 2) 20190719",
         "type": "scatter",
         "uid": "ee772c9a-1df1-11ea-884c-8c859025e7f9",
         "x": [
          -0.3,
          -0.25,
          -0.2,
          -0.15,
          -0.1,
          -0.05,
          0,
          0.05,
          0.1,
          0.15,
          0.2,
          0.25,
          0.3,
          0.35
         ],
         "xaxis": "x4",
         "y": [
          0.2075,
          0.1578,
          0.1195,
          0.0851,
          0.0505,
          0.0188,
          0,
          -0.0088,
          -0.0112,
          -0.0047,
          0.0038,
          0.0277,
          0.0316,
          null
         ],
         "yaxis": "y4"
        },
        {
         "legendgroup": "chart (2, 2)",
         "name": "chart (2, 2) 20190722",
         "type": "scatter",
         "uid": "ee7792e8-1df1-11ea-8bd2-8c859025e7f9",
         "x": [
          -0.3,
          -0.25,
          -0.2,
          -0.15,
          -0.1,
          -0.05,
          0,
          0.05,
          0.1,
          0.15,
          0.2,
          0.25,
          0.3,
          0.35
         ],
         "xaxis": "x4",
         "y": [
          0.2252,
          0.1661,
          0.1275,
          0.0827,
          0.05,
          0.0197,
          0,
          -0.0092,
          -0.0123,
          -0.0059,
          0.0069,
          0.0198,
          0.0432,
          null
         ],
         "yaxis": "y4"
        },
        {
         "legendgroup": "chart (2, 2)",
         "name": "chart (2, 2) 20190723",
         "type": "scatter",
         "uid": "ee77f8be-1df1-11ea-823f-8c859025e7f9",
         "x": [
          -0.3,
          -0.25,
          -0.2,
          -0.15,
          -0.1,
          -0.05,
          0,
          0.05,
          0.1,
          0.15,
          0.2,
          0.25,
          0.3,
          0.35
         ],
         "xaxis": "x4",
         "y": [
          0.2043,
          0.1684,
          0.1271,
          0.087,
          0.051,
          0.0175,
          0,
          -0.0067,
          -0.0067,
          -0.0006,
          0.0123,
          0.0363,
          0.0584,
          null
         ],
         "yaxis": "y4"
        },
        {
         "legendgroup": "chart (2, 2)",
         "name": "chart (2, 2) 20190724",
         "type": "scatter",
         "uid": "ee786664-1df1-11ea-a2a2-8c859025e7f9",
         "x": [
          -0.3,
          -0.25,
          -0.2,
          -0.15,
          -0.1,
          -0.05,
          0,
          0.05,
          0.1,
          0.15,
          0.2,
          0.25,
          0.3,
          0.35
         ],
         "xaxis": "x4",
         "y": [
          0.2261,
          0.1795,
          0.1276,
          0.0814,
          0.0501,
          0.0206,
          0,
          -0.0122,
          -0.0166,
          -0.0082,
          -0.0002,
          0.0209,
          0.0427,
          0.0593
         ],
         "yaxis": "y4"
        },
        {
         "legendgroup": "chart (2, 2)",
         "name": "chart (2, 2) 20190725",
         "type": "scatter",
         "uid": "ee78ceec-1df1-11ea-97f2-8c859025e7f9",
         "x": [
          -0.3,
          -0.25,
          -0.2,
          -0.15,
          -0.1,
          -0.05,
          0,
          0.05,
          0.1,
          0.15,
          0.2,
          0.25,
          0.3,
          0.35
         ],
         "xaxis": "x4",
         "y": [
          0.2281,
          0.1706,
          0.1203,
          0.0848,
          0.0494,
          0.0215,
          0,
          -0.0081,
          -0.0129,
          -0.0111,
          -0.0019,
          0.0258,
          0.0374,
          null
         ],
         "yaxis": "y4"
        }
       ],
       "layout": {
        "annotations": [
         {
          "font": {
           "size": 16
          },
          "showarrow": false,
          "text": "NGU19 20190627 - 20190703",
          "x": 0.2275,
          "xanchor": "center",
          "xref": "paper",
          "y": 1,
          "yanchor": "bottom",
          "yref": "paper"
         },
         {
          "font": {
           "size": 16
          },
          "showarrow": false,
          "text": "NGU19 20190705 - 20190711",
          "x": 0.7725,
          "xanchor": "center",
          "xref": "paper",
          "y": 1,
          "yanchor": "bottom",
          "yref": "paper"
         },
         {
          "font": {
           "size": 16
          },
          "showarrow": false,
          "text": "NGU19 20190712 - 20190718",
          "x": 0.2275,
          "xanchor": "center",
          "xref": "paper",
          "y": 0.445,
          "yanchor": "bottom",
          "yref": "paper"
         },
         {
          "font": {
           "size": 16
          },
          "showarrow": false,
          "text": "NGU19 20190719 - 20190725",
          "x": 0.7725,
          "xanchor": "center",
          "xref": "paper",
          "y": 0.445,
          "yanchor": "bottom",
          "yref": "paper"
         }
        ],
        "autosize": true,
        "bargap": 0.05,
        "font": {
         "family": "Open Sans, sans-serif"
        },
        "height": 800,
        "hovermode": "x",
        "margin": {
         "b": 55,
         "l": 45,
         "r": 15,
         "t": 50
        },
        "plot_bgcolor": "#EFECEA",
        "showlegend": true,
        "title": "Skew plots<br>",
        "width": 900,
        "xaxis": {
         "anchor": "y",
         "domain": [
          0,
          0.455
         ],
         "tickangle": 45,
         "ticktext": [
          -0.3,
          -0.25,
          -0.2,
          -0.15,
          -0.1,
          -0.05,
          0,
          0.05,
          0.1,
          0.15,
          0.2,
          0.25,
          0.3,
          0.35
         ],
         "tickvals": [
          -0.3,
          -0.25,
          -0.2,
          -0.15,
          -0.1,
          -0.05,
          0,
          0.05,
          0.1,
          0.15,
          0.2,
          0.25,
          0.3,
          0.35
         ],
         "type": "category"
        },
        "xaxis2": {
         "anchor": "y2",
         "domain": [
          0.545,
          1
         ],
         "tickangle": 45,
         "ticktext": [
          -0.3,
          -0.25,
          -0.2,
          -0.15,
          -0.1,
          -0.05,
          0,
          0.05,
          0.1,
          0.15,
          0.2,
          0.25,
          0.3,
          0.35
         ],
         "tickvals": [
          -0.3,
          -0.25,
          -0.2,
          -0.15,
          -0.1,
          -0.05,
          0,
          0.05,
          0.1,
          0.15,
          0.2,
          0.25,
          0.3,
          0.35
         ],
         "type": "category"
        },
        "xaxis3": {
         "anchor": "y3",
         "domain": [
          0,
          0.455
         ],
         "tickangle": 45,
         "ticktext": [
          -0.3,
          -0.25,
          -0.2,
          -0.15,
          -0.1,
          -0.05,
          0,
          0.05,
          0.1,
          0.15,
          0.2,
          0.25,
          0.3,
          0.35
         ],
         "tickvals": [
          -0.3,
          -0.25,
          -0.2,
          -0.15,
          -0.1,
          -0.05,
          0,
          0.05,
          0.1,
          0.15,
          0.2,
          0.25,
          0.3,
          0.35
         ],
         "type": "category"
        },
        "xaxis4": {
         "anchor": "y4",
         "domain": [
          0.545,
          1
         ],
         "tickangle": 45,
         "ticktext": [
          -0.3,
          -0.25,
          -0.2,
          -0.15,
          -0.1,
          -0.05,
          0,
          0.05,
          0.1,
          0.15,
          0.2,
          0.25,
          0.3,
          0.35
         ],
         "tickvals": [
          -0.3,
          -0.25,
          -0.2,
          -0.15,
          -0.1,
          -0.05,
          0,
          0.05,
          0.1,
          0.15,
          0.2,
          0.25,
          0.3,
          0.35
         ],
         "type": "category"
        },
        "yaxis": {
         "anchor": "x",
         "domain": [
          0.555,
          1
         ],
         "title": "vol skew"
        },
        "yaxis2": {
         "anchor": "x2",
         "domain": [
          0.555,
          1
         ],
         "title": "vol skew"
        },
        "yaxis3": {
         "anchor": "x3",
         "domain": [
          0,
          0.445
         ],
         "title": "vol skew"
        },
        "yaxis4": {
         "anchor": "x4",
         "domain": [
          0,
          0.445
         ],
         "title": "vol skew"
        }
       }
      },
      "text/html": [
       "<div id=\"260a5a51-2ba6-44a0-b760-34d595f6c680\" style=\"height: 800px; width: 900px;\" class=\"plotly-graph-div\"></div><script type=\"text/javascript\">require([\"plotly\"], function(Plotly) { window.PLOTLYENV=window.PLOTLYENV || {};window.PLOTLYENV.BASE_URL=\"https://plot.ly\";Plotly.newPlot(\"260a5a51-2ba6-44a0-b760-34d595f6c680\", [{\"legendgroup\": \"chart (1, 1)\", \"name\": \"chart (1, 1) 20190627\", \"uid\": \"ee6f4086-1df1-11ea-8ba3-8c859025e7f9\", \"x\": [-0.3, -0.25, -0.2, -0.15, -0.1, -0.05, 0.0, 0.05, 0.1, 0.15, 0.2, 0.25, 0.3, 0.35], \"y\": [0.1132, 0.09, 0.0738, 0.0501, 0.0302, 0.0138, 0.0, -0.008, -0.0164, -0.0147, -0.0104, 0.0027, 0.0165, null], \"yaxis\": \"y\", \"type\": \"scatter\", \"xaxis\": \"x\"}, {\"legendgroup\": \"chart (1, 1)\", \"name\": \"chart (1, 1) 20190628\", \"uid\": \"ee6fa41e-1df1-11ea-a327-8c859025e7f9\", \"x\": [-0.3, -0.25, -0.2, -0.15, -0.1, -0.05, 0.0, 0.05, 0.1, 0.15, 0.2, 0.25, 0.3, 0.35], \"y\": [0.1145, 0.0945, 0.0645, 0.0446, 0.0262, 0.011, 0.0, -0.0076, -0.0109, -0.0116, -0.0091, 0.0039, 0.0222, null], \"yaxis\": \"y\", \"type\": \"scatter\", \"xaxis\": \"x\"}, {\"legendgroup\": \"chart (1, 1)\", \"name\": \"chart (1, 1) 20190701\", \"uid\": \"ee7002b4-1df1-11ea-8da2-8c859025e7f9\", \"x\": [-0.3, -0.25, -0.2, -0.15, -0.1, -0.05, 0.0, 0.05, 0.1, 0.15, 0.2, 0.25, 0.3, 0.35], \"y\": [0.1353, 0.1073, 0.0838, 0.0613, 0.0371, 0.0174, 0.0, -0.0104, -0.0166, -0.0184, -0.0138, -0.0075, 0.0118, null], \"yaxis\": \"y\", \"type\": \"scatter\", \"xaxis\": \"x\"}, {\"legendgroup\": \"chart (1, 1)\", \"name\": \"chart (1, 1) 20190702\", \"uid\": \"ee707148-1df1-11ea-abdf-8c859025e7f9\", \"x\": [-0.3, -0.25, -0.2, -0.15, -0.1, -0.05, 0.0, 0.05, 0.1, 0.15, 0.2, 0.25, 0.3, 0.35], \"y\": [0.1362, 0.1172, 0.0855, 0.0625, 0.0363, 0.0159, 0.0, -0.0126, -0.0166, -0.0166, -0.0102, 0.0044, 0.0101, 0.034], \"yaxis\": \"y\", \"type\": \"scatter\", \"xaxis\": \"x\"}, {\"legendgroup\": \"chart (1, 1)\", \"name\": \"chart (1, 1) 20190703\", \"uid\": \"ee70dce6-1df1-11ea-a7b1-8c859025e7f9\", \"x\": [-0.3, -0.25, -0.2, -0.15, -0.1, -0.05, 0.0, 0.05, 0.1, 0.15, 0.2, 0.25, 0.3, 0.35], \"y\": [0.1792, 0.1392, 0.1021, 0.0735, 0.041, 0.02, 0.0, -0.0133, -0.0175, -0.0171, -0.0103, 0.0031, 0.025, null], \"yaxis\": \"y\", \"type\": \"scatter\", \"xaxis\": \"x\"}, {\"legendgroup\": \"chart (1, 2)\", \"name\": \"chart (1, 2) 20190705\", \"uid\": \"ee71e834-1df1-11ea-8a89-8c859025e7f9\", \"x\": [-0.3, -0.25, -0.2, -0.15, -0.1, -0.05, 0.0, 0.05, 0.1, 0.15, 0.2, 0.25, 0.3, 0.35], \"y\": [0.1708, 0.1364, 0.0999, 0.0664, 0.0382, 0.0147, 0.0, -0.0085, -0.0134, -0.012, -0.0023, 0.0101, null, null], \"yaxis\": \"y2\", \"type\": \"scatter\", \"xaxis\": \"x2\"}, {\"legendgroup\": \"chart (1, 2)\", \"name\": \"chart (1, 2) 20190708\", \"uid\": \"ee7258d2-1df1-11ea-b946-8c859025e7f9\", \"x\": [-0.3, -0.25, -0.2, -0.15, -0.1, -0.05, 0.0, 0.05, 0.1, 0.15, 0.2, 0.25, 0.3, 0.35], \"y\": [0.1737, 0.1336, 0.1005, 0.0619, 0.0353, 0.015, 0.0, -0.0048, -0.0072, -0.0073, -0.0013, 0.0148, null, null], \"yaxis\": \"y2\", \"type\": \"scatter\", \"xaxis\": \"x2\"}, {\"legendgroup\": \"chart (1, 2)\", \"name\": \"chart (1, 2) 20190709\", \"uid\": \"ee72c808-1df1-11ea-99ea-8c859025e7f9\", \"x\": [-0.3, -0.25, -0.2, -0.15, -0.1, -0.05, 0.0, 0.05, 0.1, 0.15, 0.2, 0.25, 0.3, 0.35], \"y\": [0.1839, 0.1332, 0.0959, 0.0611, 0.0318, 0.009, 0.0, -0.003, -0.0045, -0.0021, 0.0031, null, null, null], \"yaxis\": \"y2\", \"type\": \"scatter\", \"xaxis\": \"x2\"}, {\"legendgroup\": \"chart (1, 2)\", \"name\": \"chart (1, 2) 20190710\", \"uid\": \"ee7344ae-1df1-11ea-a9ae-8c859025e7f9\", \"x\": [-0.3, -0.25, -0.2, -0.15, -0.1, -0.05, 0.0, 0.05, 0.1, 0.15, 0.2, 0.25, 0.3, 0.35], \"y\": [0.1913, 0.1422, 0.1056, 0.0662, 0.0345, 0.0127, 0.0, -0.0051, -0.0069, -0.0051, 0.0043, null, null, null], \"yaxis\": \"y2\", \"type\": \"scatter\", \"xaxis\": \"x2\"}, {\"legendgroup\": \"chart (1, 2)\", \"name\": \"chart (1, 2) 20190711\", \"uid\": \"ee73bcc2-1df1-11ea-b9a1-8c859025e7f9\", \"x\": [-0.3, -0.25, -0.2, -0.15, -0.1, -0.05, 0.0, 0.05, 0.1, 0.15, 0.2, 0.25, 0.3, 0.35], \"y\": [0.2089, 0.1629, 0.115, 0.0784, 0.0407, 0.0177, 0.0, -0.0107, -0.0155, -0.0128, -0.0065, null, null, null], \"yaxis\": \"y2\", \"type\": \"scatter\", \"xaxis\": \"x2\"}, {\"legendgroup\": \"chart (2, 1)\", \"name\": \"chart (2, 1) 20190712\", \"uid\": \"ee74c0d8-1df1-11ea-aceb-8c859025e7f9\", \"x\": [-0.3, -0.25, -0.2, -0.15, -0.1, -0.05, 0.0, 0.05, 0.1, 0.15, 0.2, 0.25, 0.3, 0.35], \"y\": [0.1822, 0.1323, 0.0977, 0.0632, 0.0343, 0.0142, 0.0, -0.0088, -0.013, -0.0153, -0.0044, null, null, null], \"yaxis\": \"y3\", \"type\": \"scatter\", \"xaxis\": \"x3\"}, {\"legendgroup\": \"chart (2, 1)\", \"name\": \"chart (2, 1) 20190715\", \"uid\": \"ee75245e-1df1-11ea-b707-8c859025e7f9\", \"x\": [-0.3, -0.25, -0.2, -0.15, -0.1, -0.05, 0.0, 0.05, 0.1, 0.15, 0.2, 0.25, 0.3, 0.35], \"y\": [0.1841, 0.1364, 0.0987, 0.068, 0.0361, 0.0148, 0.0, -0.0118, -0.0183, -0.0197, -0.0202, -0.0061, null, null], \"yaxis\": \"y3\", \"type\": \"scatter\", \"xaxis\": \"x3\"}, {\"legendgroup\": \"chart (2, 1)\", \"name\": \"chart (2, 1) 20190716\", \"uid\": \"ee758bba-1df1-11ea-b53c-8c859025e7f9\", \"x\": [-0.3, -0.25, -0.2, -0.15, -0.1, -0.05, 0.0, 0.05, 0.1, 0.15, 0.2, 0.25, 0.3, 0.35], \"y\": [0.1948, 0.1445, 0.1174, 0.0815, 0.0521, 0.0212, 0.0, -0.0132, -0.0237, -0.0292, -0.0276, -0.0225, -0.0035, null], \"yaxis\": \"y3\", \"type\": \"scatter\", \"xaxis\": \"x3\"}, {\"legendgroup\": \"chart (2, 1)\", \"name\": \"chart (2, 1) 20190717\", \"uid\": \"ee75ebdc-1df1-11ea-9401-8c859025e7f9\", \"x\": [-0.3, -0.25, -0.2, -0.15, -0.1, -0.05, 0.0, 0.05, 0.1, 0.15, 0.2, 0.25, 0.3, 0.35], \"y\": [0.1818, 0.1541, 0.1172, 0.0831, 0.0488, 0.0211, 0.0, -0.016, -0.0257, -0.0302, -0.0239, -0.0295, -0.0203, null], \"yaxis\": \"y3\", \"type\": \"scatter\", \"xaxis\": \"x3\"}, {\"legendgroup\": \"chart (2, 1)\", \"name\": \"chart (2, 1) 20190718\", \"uid\": \"ee764ba4-1df1-11ea-9fa8-8c859025e7f9\", \"x\": [-0.3, -0.25, -0.2, -0.15, -0.1, -0.05, 0.0, 0.05, 0.1, 0.15, 0.2, 0.25, 0.3, 0.35], \"y\": [0.1862, 0.1467, 0.1126, 0.0783, 0.0468, 0.0197, 0.0, -0.0155, -0.0266, -0.028, -0.0151, -0.0101, 0.0007, null], \"yaxis\": \"y3\", \"type\": \"scatter\", \"xaxis\": \"x3\"}, {\"legendgroup\": \"chart (2, 2)\", \"name\": \"chart (2, 2) 20190719\", \"uid\": \"ee772c9a-1df1-11ea-884c-8c859025e7f9\", \"x\": [-0.3, -0.25, -0.2, -0.15, -0.1, -0.05, 0.0, 0.05, 0.1, 0.15, 0.2, 0.25, 0.3, 0.35], \"y\": [0.2075, 0.1578, 0.1195, 0.0851, 0.0505, 0.0188, 0.0, -0.0088, -0.0112, -0.0047, 0.0038, 0.0277, 0.0316, null], \"yaxis\": \"y4\", \"type\": \"scatter\", \"xaxis\": \"x4\"}, {\"legendgroup\": \"chart (2, 2)\", \"name\": \"chart (2, 2) 20190722\", \"uid\": \"ee7792e8-1df1-11ea-8bd2-8c859025e7f9\", \"x\": [-0.3, -0.25, -0.2, -0.15, -0.1, -0.05, 0.0, 0.05, 0.1, 0.15, 0.2, 0.25, 0.3, 0.35], \"y\": [0.2252, 0.1661, 0.1275, 0.0827, 0.05, 0.0197, 0.0, -0.0092, -0.0123, -0.0059, 0.0069, 0.0198, 0.0432, null], \"yaxis\": \"y4\", \"type\": \"scatter\", \"xaxis\": \"x4\"}, {\"legendgroup\": \"chart (2, 2)\", \"name\": \"chart (2, 2) 20190723\", \"uid\": \"ee77f8be-1df1-11ea-823f-8c859025e7f9\", \"x\": [-0.3, -0.25, -0.2, -0.15, -0.1, -0.05, 0.0, 0.05, 0.1, 0.15, 0.2, 0.25, 0.3, 0.35], \"y\": [0.2043, 0.1684, 0.1271, 0.087, 0.051, 0.0175, 0.0, -0.0067, -0.0067, -0.0006, 0.0123, 0.0363, 0.0584, null], \"yaxis\": \"y4\", \"type\": \"scatter\", \"xaxis\": \"x4\"}, {\"legendgroup\": \"chart (2, 2)\", \"name\": \"chart (2, 2) 20190724\", \"uid\": \"ee786664-1df1-11ea-a2a2-8c859025e7f9\", \"x\": [-0.3, -0.25, -0.2, -0.15, -0.1, -0.05, 0.0, 0.05, 0.1, 0.15, 0.2, 0.25, 0.3, 0.35], \"y\": [0.2261, 0.1795, 0.1276, 0.0814, 0.0501, 0.0206, 0.0, -0.0122, -0.0166, -0.0082, -0.0002, 0.0209, 0.0427, 0.0593], \"yaxis\": \"y4\", \"type\": \"scatter\", \"xaxis\": \"x4\"}, {\"legendgroup\": \"chart (2, 2)\", \"name\": \"chart (2, 2) 20190725\", \"uid\": \"ee78ceec-1df1-11ea-97f2-8c859025e7f9\", \"x\": [-0.3, -0.25, -0.2, -0.15, -0.1, -0.05, 0.0, 0.05, 0.1, 0.15, 0.2, 0.25, 0.3, 0.35], \"y\": [0.2281, 0.1706, 0.1203, 0.0848, 0.0494, 0.0215, 0.0, -0.0081, -0.0129, -0.0111, -0.0019, 0.0258, 0.0374, null], \"yaxis\": \"y4\", \"type\": \"scatter\", \"xaxis\": \"x4\"}], {\"annotations\": [{\"font\": {\"size\": 16}, \"showarrow\": false, \"text\": \"NGU19 20190627 - 20190703\", \"x\": 0.2275, \"xanchor\": \"center\", \"xref\": \"paper\", \"y\": 1.0, \"yanchor\": \"bottom\", \"yref\": \"paper\"}, {\"font\": {\"size\": 16}, \"showarrow\": false, \"text\": \"NGU19 20190705 - 20190711\", \"x\": 0.7725, \"xanchor\": \"center\", \"xref\": \"paper\", \"y\": 1.0, \"yanchor\": \"bottom\", \"yref\": \"paper\"}, {\"font\": {\"size\": 16}, \"showarrow\": false, \"text\": \"NGU19 20190712 - 20190718\", \"x\": 0.2275, \"xanchor\": \"center\", \"xref\": \"paper\", \"y\": 0.445, \"yanchor\": \"bottom\", \"yref\": \"paper\"}, {\"font\": {\"size\": 16}, \"showarrow\": false, \"text\": \"NGU19 20190719 - 20190725\", \"x\": 0.7725, \"xanchor\": \"center\", \"xref\": \"paper\", \"y\": 0.445, \"yanchor\": \"bottom\", \"yref\": \"paper\"}], \"xaxis\": {\"anchor\": \"y\", \"domain\": [0.0, 0.455], \"tickangle\": 45, \"ticktext\": [-0.3, -0.25, -0.2, -0.15, -0.1, -0.05, 0.0, 0.05, 0.1, 0.15, 0.2, 0.25, 0.3, 0.35], \"tickvals\": [-0.3, -0.25, -0.2, -0.15, -0.1, -0.05, 0.0, 0.05, 0.1, 0.15, 0.2, 0.25, 0.3, 0.35], \"type\": \"category\"}, \"yaxis\": {\"anchor\": \"x\", \"domain\": [0.555, 1.0], \"title\": \"vol skew\"}, \"xaxis2\": {\"anchor\": \"y2\", \"domain\": [0.545, 1.0], \"tickangle\": 45, \"ticktext\": [-0.3, -0.25, -0.2, -0.15, -0.1, -0.05, 0.0, 0.05, 0.1, 0.15, 0.2, 0.25, 0.3, 0.35], \"tickvals\": [-0.3, -0.25, -0.2, -0.15, -0.1, -0.05, 0.0, 0.05, 0.1, 0.15, 0.2, 0.25, 0.3, 0.35], \"type\": \"category\"}, \"yaxis2\": {\"anchor\": \"x2\", \"domain\": [0.555, 1.0], \"title\": \"vol skew\"}, \"xaxis3\": {\"anchor\": \"y3\", \"domain\": [0.0, 0.455], \"tickangle\": 45, \"ticktext\": [-0.3, -0.25, -0.2, -0.15, -0.1, -0.05, 0.0, 0.05, 0.1, 0.15, 0.2, 0.25, 0.3, 0.35], \"tickvals\": [-0.3, -0.25, -0.2, -0.15, -0.1, -0.05, 0.0, 0.05, 0.1, 0.15, 0.2, 0.25, 0.3, 0.35], \"type\": \"category\"}, \"yaxis3\": {\"anchor\": \"x3\", \"domain\": [0.0, 0.445], \"title\": \"vol skew\"}, \"xaxis4\": {\"anchor\": \"y4\", \"domain\": [0.545, 1.0], \"tickangle\": 45, \"ticktext\": [-0.3, -0.25, -0.2, -0.15, -0.1, -0.05, 0.0, 0.05, 0.1, 0.15, 0.2, 0.25, 0.3, 0.35], \"tickvals\": [-0.3, -0.25, -0.2, -0.15, -0.1, -0.05, 0.0, 0.05, 0.1, 0.15, 0.2, 0.25, 0.3, 0.35], \"type\": \"category\"}, \"yaxis4\": {\"anchor\": \"x4\", \"domain\": [0.0, 0.445], \"title\": \"vol skew\"}, \"font\": {\"family\": \"Open Sans, sans-serif\"}, \"margin\": {\"b\": 55, \"l\": 45, \"r\": 15, \"t\": 50}, \"title\": \"Skew plots<br>\", \"showlegend\": true, \"hovermode\": \"x\", \"autosize\": true, \"width\": 900, \"height\": 800, \"plot_bgcolor\": \"#EFECEA\", \"bargap\": 0.05}, {\"showLink\": true, \"linkText\": \"Export to plot.ly\"})});</script>"
      ],
      "text/vnd.plotly.v1+html": [
       "<div id=\"260a5a51-2ba6-44a0-b760-34d595f6c680\" style=\"height: 800px; width: 900px;\" class=\"plotly-graph-div\"></div><script type=\"text/javascript\">require([\"plotly\"], function(Plotly) { window.PLOTLYENV=window.PLOTLYENV || {};window.PLOTLYENV.BASE_URL=\"https://plot.ly\";Plotly.newPlot(\"260a5a51-2ba6-44a0-b760-34d595f6c680\", [{\"legendgroup\": \"chart (1, 1)\", \"name\": \"chart (1, 1) 20190627\", \"uid\": \"ee6f4086-1df1-11ea-8ba3-8c859025e7f9\", \"x\": [-0.3, -0.25, -0.2, -0.15, -0.1, -0.05, 0.0, 0.05, 0.1, 0.15, 0.2, 0.25, 0.3, 0.35], \"y\": [0.1132, 0.09, 0.0738, 0.0501, 0.0302, 0.0138, 0.0, -0.008, -0.0164, -0.0147, -0.0104, 0.0027, 0.0165, null], \"yaxis\": \"y\", \"type\": \"scatter\", \"xaxis\": \"x\"}, {\"legendgroup\": \"chart (1, 1)\", \"name\": \"chart (1, 1) 20190628\", \"uid\": \"ee6fa41e-1df1-11ea-a327-8c859025e7f9\", \"x\": [-0.3, -0.25, -0.2, -0.15, -0.1, -0.05, 0.0, 0.05, 0.1, 0.15, 0.2, 0.25, 0.3, 0.35], \"y\": [0.1145, 0.0945, 0.0645, 0.0446, 0.0262, 0.011, 0.0, -0.0076, -0.0109, -0.0116, -0.0091, 0.0039, 0.0222, null], \"yaxis\": \"y\", \"type\": \"scatter\", \"xaxis\": \"x\"}, {\"legendgroup\": \"chart (1, 1)\", \"name\": \"chart (1, 1) 20190701\", \"uid\": \"ee7002b4-1df1-11ea-8da2-8c859025e7f9\", \"x\": [-0.3, -0.25, -0.2, -0.15, -0.1, -0.05, 0.0, 0.05, 0.1, 0.15, 0.2, 0.25, 0.3, 0.35], \"y\": [0.1353, 0.1073, 0.0838, 0.0613, 0.0371, 0.0174, 0.0, -0.0104, -0.0166, -0.0184, -0.0138, -0.0075, 0.0118, null], \"yaxis\": \"y\", \"type\": \"scatter\", \"xaxis\": \"x\"}, {\"legendgroup\": \"chart (1, 1)\", \"name\": \"chart (1, 1) 20190702\", \"uid\": \"ee707148-1df1-11ea-abdf-8c859025e7f9\", \"x\": [-0.3, -0.25, -0.2, -0.15, -0.1, -0.05, 0.0, 0.05, 0.1, 0.15, 0.2, 0.25, 0.3, 0.35], \"y\": [0.1362, 0.1172, 0.0855, 0.0625, 0.0363, 0.0159, 0.0, -0.0126, -0.0166, -0.0166, -0.0102, 0.0044, 0.0101, 0.034], \"yaxis\": \"y\", \"type\": \"scatter\", \"xaxis\": \"x\"}, {\"legendgroup\": \"chart (1, 1)\", \"name\": \"chart (1, 1) 20190703\", \"uid\": \"ee70dce6-1df1-11ea-a7b1-8c859025e7f9\", \"x\": [-0.3, -0.25, -0.2, -0.15, -0.1, -0.05, 0.0, 0.05, 0.1, 0.15, 0.2, 0.25, 0.3, 0.35], \"y\": [0.1792, 0.1392, 0.1021, 0.0735, 0.041, 0.02, 0.0, -0.0133, -0.0175, -0.0171, -0.0103, 0.0031, 0.025, null], \"yaxis\": \"y\", \"type\": \"scatter\", \"xaxis\": \"x\"}, {\"legendgroup\": \"chart (1, 2)\", \"name\": \"chart (1, 2) 20190705\", \"uid\": \"ee71e834-1df1-11ea-8a89-8c859025e7f9\", \"x\": [-0.3, -0.25, -0.2, -0.15, -0.1, -0.05, 0.0, 0.05, 0.1, 0.15, 0.2, 0.25, 0.3, 0.35], \"y\": [0.1708, 0.1364, 0.0999, 0.0664, 0.0382, 0.0147, 0.0, -0.0085, -0.0134, -0.012, -0.0023, 0.0101, null, null], \"yaxis\": \"y2\", \"type\": \"scatter\", \"xaxis\": \"x2\"}, {\"legendgroup\": \"chart (1, 2)\", \"name\": \"chart (1, 2) 20190708\", \"uid\": \"ee7258d2-1df1-11ea-b946-8c859025e7f9\", \"x\": [-0.3, -0.25, -0.2, -0.15, -0.1, -0.05, 0.0, 0.05, 0.1, 0.15, 0.2, 0.25, 0.3, 0.35], \"y\": [0.1737, 0.1336, 0.1005, 0.0619, 0.0353, 0.015, 0.0, -0.0048, -0.0072, -0.0073, -0.0013, 0.0148, null, null], \"yaxis\": \"y2\", \"type\": \"scatter\", \"xaxis\": \"x2\"}, {\"legendgroup\": \"chart (1, 2)\", \"name\": \"chart (1, 2) 20190709\", \"uid\": \"ee72c808-1df1-11ea-99ea-8c859025e7f9\", \"x\": [-0.3, -0.25, -0.2, -0.15, -0.1, -0.05, 0.0, 0.05, 0.1, 0.15, 0.2, 0.25, 0.3, 0.35], \"y\": [0.1839, 0.1332, 0.0959, 0.0611, 0.0318, 0.009, 0.0, -0.003, -0.0045, -0.0021, 0.0031, null, null, null], \"yaxis\": \"y2\", \"type\": \"scatter\", \"xaxis\": \"x2\"}, {\"legendgroup\": \"chart (1, 2)\", \"name\": \"chart (1, 2) 20190710\", \"uid\": \"ee7344ae-1df1-11ea-a9ae-8c859025e7f9\", \"x\": [-0.3, -0.25, -0.2, -0.15, -0.1, -0.05, 0.0, 0.05, 0.1, 0.15, 0.2, 0.25, 0.3, 0.35], \"y\": [0.1913, 0.1422, 0.1056, 0.0662, 0.0345, 0.0127, 0.0, -0.0051, -0.0069, -0.0051, 0.0043, null, null, null], \"yaxis\": \"y2\", \"type\": \"scatter\", \"xaxis\": \"x2\"}, {\"legendgroup\": \"chart (1, 2)\", \"name\": \"chart (1, 2) 20190711\", \"uid\": \"ee73bcc2-1df1-11ea-b9a1-8c859025e7f9\", \"x\": [-0.3, -0.25, -0.2, -0.15, -0.1, -0.05, 0.0, 0.05, 0.1, 0.15, 0.2, 0.25, 0.3, 0.35], \"y\": [0.2089, 0.1629, 0.115, 0.0784, 0.0407, 0.0177, 0.0, -0.0107, -0.0155, -0.0128, -0.0065, null, null, null], \"yaxis\": \"y2\", \"type\": \"scatter\", \"xaxis\": \"x2\"}, {\"legendgroup\": \"chart (2, 1)\", \"name\": \"chart (2, 1) 20190712\", \"uid\": \"ee74c0d8-1df1-11ea-aceb-8c859025e7f9\", \"x\": [-0.3, -0.25, -0.2, -0.15, -0.1, -0.05, 0.0, 0.05, 0.1, 0.15, 0.2, 0.25, 0.3, 0.35], \"y\": [0.1822, 0.1323, 0.0977, 0.0632, 0.0343, 0.0142, 0.0, -0.0088, -0.013, -0.0153, -0.0044, null, null, null], \"yaxis\": \"y3\", \"type\": \"scatter\", \"xaxis\": \"x3\"}, {\"legendgroup\": \"chart (2, 1)\", \"name\": \"chart (2, 1) 20190715\", \"uid\": \"ee75245e-1df1-11ea-b707-8c859025e7f9\", \"x\": [-0.3, -0.25, -0.2, -0.15, -0.1, -0.05, 0.0, 0.05, 0.1, 0.15, 0.2, 0.25, 0.3, 0.35], \"y\": [0.1841, 0.1364, 0.0987, 0.068, 0.0361, 0.0148, 0.0, -0.0118, -0.0183, -0.0197, -0.0202, -0.0061, null, null], \"yaxis\": \"y3\", \"type\": \"scatter\", \"xaxis\": \"x3\"}, {\"legendgroup\": \"chart (2, 1)\", \"name\": \"chart (2, 1) 20190716\", \"uid\": \"ee758bba-1df1-11ea-b53c-8c859025e7f9\", \"x\": [-0.3, -0.25, -0.2, -0.15, -0.1, -0.05, 0.0, 0.05, 0.1, 0.15, 0.2, 0.25, 0.3, 0.35], \"y\": [0.1948, 0.1445, 0.1174, 0.0815, 0.0521, 0.0212, 0.0, -0.0132, -0.0237, -0.0292, -0.0276, -0.0225, -0.0035, null], \"yaxis\": \"y3\", \"type\": \"scatter\", \"xaxis\": \"x3\"}, {\"legendgroup\": \"chart (2, 1)\", \"name\": \"chart (2, 1) 20190717\", \"uid\": \"ee75ebdc-1df1-11ea-9401-8c859025e7f9\", \"x\": [-0.3, -0.25, -0.2, -0.15, -0.1, -0.05, 0.0, 0.05, 0.1, 0.15, 0.2, 0.25, 0.3, 0.35], \"y\": [0.1818, 0.1541, 0.1172, 0.0831, 0.0488, 0.0211, 0.0, -0.016, -0.0257, -0.0302, -0.0239, -0.0295, -0.0203, null], \"yaxis\": \"y3\", \"type\": \"scatter\", \"xaxis\": \"x3\"}, {\"legendgroup\": \"chart (2, 1)\", \"name\": \"chart (2, 1) 20190718\", \"uid\": \"ee764ba4-1df1-11ea-9fa8-8c859025e7f9\", \"x\": [-0.3, -0.25, -0.2, -0.15, -0.1, -0.05, 0.0, 0.05, 0.1, 0.15, 0.2, 0.25, 0.3, 0.35], \"y\": [0.1862, 0.1467, 0.1126, 0.0783, 0.0468, 0.0197, 0.0, -0.0155, -0.0266, -0.028, -0.0151, -0.0101, 0.0007, null], \"yaxis\": \"y3\", \"type\": \"scatter\", \"xaxis\": \"x3\"}, {\"legendgroup\": \"chart (2, 2)\", \"name\": \"chart (2, 2) 20190719\", \"uid\": \"ee772c9a-1df1-11ea-884c-8c859025e7f9\", \"x\": [-0.3, -0.25, -0.2, -0.15, -0.1, -0.05, 0.0, 0.05, 0.1, 0.15, 0.2, 0.25, 0.3, 0.35], \"y\": [0.2075, 0.1578, 0.1195, 0.0851, 0.0505, 0.0188, 0.0, -0.0088, -0.0112, -0.0047, 0.0038, 0.0277, 0.0316, null], \"yaxis\": \"y4\", \"type\": \"scatter\", \"xaxis\": \"x4\"}, {\"legendgroup\": \"chart (2, 2)\", \"name\": \"chart (2, 2) 20190722\", \"uid\": \"ee7792e8-1df1-11ea-8bd2-8c859025e7f9\", \"x\": [-0.3, -0.25, -0.2, -0.15, -0.1, -0.05, 0.0, 0.05, 0.1, 0.15, 0.2, 0.25, 0.3, 0.35], \"y\": [0.2252, 0.1661, 0.1275, 0.0827, 0.05, 0.0197, 0.0, -0.0092, -0.0123, -0.0059, 0.0069, 0.0198, 0.0432, null], \"yaxis\": \"y4\", \"type\": \"scatter\", \"xaxis\": \"x4\"}, {\"legendgroup\": \"chart (2, 2)\", \"name\": \"chart (2, 2) 20190723\", \"uid\": \"ee77f8be-1df1-11ea-823f-8c859025e7f9\", \"x\": [-0.3, -0.25, -0.2, -0.15, -0.1, -0.05, 0.0, 0.05, 0.1, 0.15, 0.2, 0.25, 0.3, 0.35], \"y\": [0.2043, 0.1684, 0.1271, 0.087, 0.051, 0.0175, 0.0, -0.0067, -0.0067, -0.0006, 0.0123, 0.0363, 0.0584, null], \"yaxis\": \"y4\", \"type\": \"scatter\", \"xaxis\": \"x4\"}, {\"legendgroup\": \"chart (2, 2)\", \"name\": \"chart (2, 2) 20190724\", \"uid\": \"ee786664-1df1-11ea-a2a2-8c859025e7f9\", \"x\": [-0.3, -0.25, -0.2, -0.15, -0.1, -0.05, 0.0, 0.05, 0.1, 0.15, 0.2, 0.25, 0.3, 0.35], \"y\": [0.2261, 0.1795, 0.1276, 0.0814, 0.0501, 0.0206, 0.0, -0.0122, -0.0166, -0.0082, -0.0002, 0.0209, 0.0427, 0.0593], \"yaxis\": \"y4\", \"type\": \"scatter\", \"xaxis\": \"x4\"}, {\"legendgroup\": \"chart (2, 2)\", \"name\": \"chart (2, 2) 20190725\", \"uid\": \"ee78ceec-1df1-11ea-97f2-8c859025e7f9\", \"x\": [-0.3, -0.25, -0.2, -0.15, -0.1, -0.05, 0.0, 0.05, 0.1, 0.15, 0.2, 0.25, 0.3, 0.35], \"y\": [0.2281, 0.1706, 0.1203, 0.0848, 0.0494, 0.0215, 0.0, -0.0081, -0.0129, -0.0111, -0.0019, 0.0258, 0.0374, null], \"yaxis\": \"y4\", \"type\": \"scatter\", \"xaxis\": \"x4\"}], {\"annotations\": [{\"font\": {\"size\": 16}, \"showarrow\": false, \"text\": \"NGU19 20190627 - 20190703\", \"x\": 0.2275, \"xanchor\": \"center\", \"xref\": \"paper\", \"y\": 1.0, \"yanchor\": \"bottom\", \"yref\": \"paper\"}, {\"font\": {\"size\": 16}, \"showarrow\": false, \"text\": \"NGU19 20190705 - 20190711\", \"x\": 0.7725, \"xanchor\": \"center\", \"xref\": \"paper\", \"y\": 1.0, \"yanchor\": \"bottom\", \"yref\": \"paper\"}, {\"font\": {\"size\": 16}, \"showarrow\": false, \"text\": \"NGU19 20190712 - 20190718\", \"x\": 0.2275, \"xanchor\": \"center\", \"xref\": \"paper\", \"y\": 0.445, \"yanchor\": \"bottom\", \"yref\": \"paper\"}, {\"font\": {\"size\": 16}, \"showarrow\": false, \"text\": \"NGU19 20190719 - 20190725\", \"x\": 0.7725, \"xanchor\": \"center\", \"xref\": \"paper\", \"y\": 0.445, \"yanchor\": \"bottom\", \"yref\": \"paper\"}], \"xaxis\": {\"anchor\": \"y\", \"domain\": [0.0, 0.455], \"tickangle\": 45, \"ticktext\": [-0.3, -0.25, -0.2, -0.15, -0.1, -0.05, 0.0, 0.05, 0.1, 0.15, 0.2, 0.25, 0.3, 0.35], \"tickvals\": [-0.3, -0.25, -0.2, -0.15, -0.1, -0.05, 0.0, 0.05, 0.1, 0.15, 0.2, 0.25, 0.3, 0.35], \"type\": \"category\"}, \"yaxis\": {\"anchor\": \"x\", \"domain\": [0.555, 1.0], \"title\": \"vol skew\"}, \"xaxis2\": {\"anchor\": \"y2\", \"domain\": [0.545, 1.0], \"tickangle\": 45, \"ticktext\": [-0.3, -0.25, -0.2, -0.15, -0.1, -0.05, 0.0, 0.05, 0.1, 0.15, 0.2, 0.25, 0.3, 0.35], \"tickvals\": [-0.3, -0.25, -0.2, -0.15, -0.1, -0.05, 0.0, 0.05, 0.1, 0.15, 0.2, 0.25, 0.3, 0.35], \"type\": \"category\"}, \"yaxis2\": {\"anchor\": \"x2\", \"domain\": [0.555, 1.0], \"title\": \"vol skew\"}, \"xaxis3\": {\"anchor\": \"y3\", \"domain\": [0.0, 0.455], \"tickangle\": 45, \"ticktext\": [-0.3, -0.25, -0.2, -0.15, -0.1, -0.05, 0.0, 0.05, 0.1, 0.15, 0.2, 0.25, 0.3, 0.35], \"tickvals\": [-0.3, -0.25, -0.2, -0.15, -0.1, -0.05, 0.0, 0.05, 0.1, 0.15, 0.2, 0.25, 0.3, 0.35], \"type\": \"category\"}, \"yaxis3\": {\"anchor\": \"x3\", \"domain\": [0.0, 0.445], \"title\": \"vol skew\"}, \"xaxis4\": {\"anchor\": \"y4\", \"domain\": [0.545, 1.0], \"tickangle\": 45, \"ticktext\": [-0.3, -0.25, -0.2, -0.15, -0.1, -0.05, 0.0, 0.05, 0.1, 0.15, 0.2, 0.25, 0.3, 0.35], \"tickvals\": [-0.3, -0.25, -0.2, -0.15, -0.1, -0.05, 0.0, 0.05, 0.1, 0.15, 0.2, 0.25, 0.3, 0.35], \"type\": \"category\"}, \"yaxis4\": {\"anchor\": \"x4\", \"domain\": [0.0, 0.445], \"title\": \"vol skew\"}, \"font\": {\"family\": \"Open Sans, sans-serif\"}, \"margin\": {\"b\": 55, \"l\": 45, \"r\": 15, \"t\": 50}, \"title\": \"Skew plots<br>\", \"showlegend\": true, \"hovermode\": \"x\", \"autosize\": true, \"width\": 900, \"height\": 800, \"plot_bgcolor\": \"#EFECEA\", \"bargap\": 0.05}, {\"showLink\": true, \"linkText\": \"Export to plot.ly\"})});</script>"
      ]
     },
     "metadata": {},
     "output_type": "display_data"
    },
    {
     "data": {
      "application/vnd.plotly.v1+json": {
       "data": [
        {
         "legendgroup": "chart (1, 1)",
         "name": "chart (1, 1) 20190726",
         "type": "scatter",
         "uid": "ee931c5c-1df1-11ea-8442-8c859025e7f9",
         "x": [
          -0.3,
          -0.25,
          -0.2,
          -0.15,
          -0.1,
          -0.05,
          0,
          0.05,
          0.1,
          0.15,
          0.2,
          0.25,
          0.3,
          0.35
         ],
         "xaxis": "x",
         "y": [
          null,
          null,
          null,
          null,
          null,
          null,
          0,
          null,
          null,
          null,
          null,
          null,
          null,
          null
         ],
         "yaxis": "y"
        },
        {
         "legendgroup": "chart (1, 1)",
         "name": "chart (1, 1) 20190729",
         "type": "scatter",
         "uid": "ee939f06-1df1-11ea-824d-8c859025e7f9",
         "x": [
          -0.3,
          -0.25,
          -0.2,
          -0.15,
          -0.1,
          -0.05,
          0,
          0.05,
          0.1,
          0.15,
          0.2,
          0.25,
          0.3,
          0.35
         ],
         "xaxis": "x",
         "y": [
          0.2269,
          0.1662,
          0.1277,
          0.0818,
          0.0496,
          0.0237,
          0,
          -0.0149,
          -0.0201,
          -0.0086,
          -0.0031,
          0.0309,
          0.0447,
          0.0939
         ],
         "yaxis": "y"
        }
       ],
       "layout": {
        "annotations": [
         {
          "font": {
           "size": 16
          },
          "showarrow": false,
          "text": "NGU19 20190726 - 20190729",
          "x": 0.2275,
          "xanchor": "center",
          "xref": "paper",
          "y": 1,
          "yanchor": "bottom",
          "yref": "paper"
         }
        ],
        "autosize": true,
        "bargap": 0.05,
        "font": {
         "family": "Open Sans, sans-serif"
        },
        "height": 800,
        "hovermode": "x",
        "margin": {
         "b": 55,
         "l": 45,
         "r": 15,
         "t": 50
        },
        "plot_bgcolor": "#EFECEA",
        "showlegend": true,
        "title": "Skew plots<br>",
        "width": 900,
        "xaxis": {
         "anchor": "y",
         "domain": [
          0,
          0.455
         ],
         "tickangle": 45,
         "ticktext": [
          -0.3,
          -0.25,
          -0.2,
          -0.15,
          -0.1,
          -0.05,
          0,
          0.05,
          0.1,
          0.15,
          0.2,
          0.25,
          0.3,
          0.35
         ],
         "tickvals": [
          -0.3,
          -0.25,
          -0.2,
          -0.15,
          -0.1,
          -0.05,
          0,
          0.05,
          0.1,
          0.15,
          0.2,
          0.25,
          0.3,
          0.35
         ],
         "type": "category"
        },
        "xaxis2": {
         "anchor": "y2",
         "domain": [
          0.545,
          1
         ]
        },
        "xaxis3": {
         "anchor": "y3",
         "domain": [
          0,
          0.455
         ]
        },
        "xaxis4": {
         "anchor": "y4",
         "domain": [
          0.545,
          1
         ]
        },
        "yaxis": {
         "anchor": "x",
         "domain": [
          0.555,
          1
         ],
         "title": "vol skew"
        },
        "yaxis2": {
         "anchor": "x2",
         "domain": [
          0.555,
          1
         ]
        },
        "yaxis3": {
         "anchor": "x3",
         "domain": [
          0,
          0.445
         ]
        },
        "yaxis4": {
         "anchor": "x4",
         "domain": [
          0,
          0.445
         ]
        }
       }
      },
      "text/html": [
       "<div id=\"f36003b4-bff4-4050-8e28-7449f1c36977\" style=\"height: 800px; width: 900px;\" class=\"plotly-graph-div\"></div><script type=\"text/javascript\">require([\"plotly\"], function(Plotly) { window.PLOTLYENV=window.PLOTLYENV || {};window.PLOTLYENV.BASE_URL=\"https://plot.ly\";Plotly.newPlot(\"f36003b4-bff4-4050-8e28-7449f1c36977\", [{\"legendgroup\": \"chart (1, 1)\", \"name\": \"chart (1, 1) 20190726\", \"uid\": \"ee931c5c-1df1-11ea-8442-8c859025e7f9\", \"x\": [-0.3, -0.25, -0.2, -0.15, -0.1, -0.05, 0.0, 0.05, 0.1, 0.15, 0.2, 0.25, 0.3, 0.35], \"y\": [null, null, null, null, null, null, 0.0, null, null, null, null, null, null, null], \"yaxis\": \"y\", \"type\": \"scatter\", \"xaxis\": \"x\"}, {\"legendgroup\": \"chart (1, 1)\", \"name\": \"chart (1, 1) 20190729\", \"uid\": \"ee939f06-1df1-11ea-824d-8c859025e7f9\", \"x\": [-0.3, -0.25, -0.2, -0.15, -0.1, -0.05, 0.0, 0.05, 0.1, 0.15, 0.2, 0.25, 0.3, 0.35], \"y\": [0.2269, 0.1662, 0.1277, 0.0818, 0.0496, 0.0237, 0.0, -0.0149, -0.0201, -0.0086, -0.0031, 0.0309, 0.0447, 0.0939], \"yaxis\": \"y\", \"type\": \"scatter\", \"xaxis\": \"x\"}], {\"annotations\": [{\"font\": {\"size\": 16}, \"showarrow\": false, \"text\": \"NGU19 20190726 - 20190729\", \"x\": 0.2275, \"xanchor\": \"center\", \"xref\": \"paper\", \"y\": 1.0, \"yanchor\": \"bottom\", \"yref\": \"paper\"}], \"xaxis\": {\"anchor\": \"y\", \"domain\": [0.0, 0.455], \"tickangle\": 45, \"ticktext\": [-0.3, -0.25, -0.2, -0.15, -0.1, -0.05, 0.0, 0.05, 0.1, 0.15, 0.2, 0.25, 0.3, 0.35], \"tickvals\": [-0.3, -0.25, -0.2, -0.15, -0.1, -0.05, 0.0, 0.05, 0.1, 0.15, 0.2, 0.25, 0.3, 0.35], \"type\": \"category\"}, \"yaxis\": {\"anchor\": \"x\", \"domain\": [0.555, 1.0], \"title\": \"vol skew\"}, \"xaxis2\": {\"anchor\": \"y2\", \"domain\": [0.545, 1.0]}, \"yaxis2\": {\"anchor\": \"x2\", \"domain\": [0.555, 1.0]}, \"xaxis3\": {\"anchor\": \"y3\", \"domain\": [0.0, 0.455]}, \"yaxis3\": {\"anchor\": \"x3\", \"domain\": [0.0, 0.445]}, \"xaxis4\": {\"anchor\": \"y4\", \"domain\": [0.545, 1.0]}, \"yaxis4\": {\"anchor\": \"x4\", \"domain\": [0.0, 0.445]}, \"font\": {\"family\": \"Open Sans, sans-serif\"}, \"margin\": {\"b\": 55, \"l\": 45, \"r\": 15, \"t\": 50}, \"title\": \"Skew plots<br>\", \"showlegend\": true, \"hovermode\": \"x\", \"autosize\": true, \"width\": 900, \"height\": 800, \"plot_bgcolor\": \"#EFECEA\", \"bargap\": 0.05}, {\"showLink\": true, \"linkText\": \"Export to plot.ly\"})});</script>"
      ],
      "text/vnd.plotly.v1+html": [
       "<div id=\"f36003b4-bff4-4050-8e28-7449f1c36977\" style=\"height: 800px; width: 900px;\" class=\"plotly-graph-div\"></div><script type=\"text/javascript\">require([\"plotly\"], function(Plotly) { window.PLOTLYENV=window.PLOTLYENV || {};window.PLOTLYENV.BASE_URL=\"https://plot.ly\";Plotly.newPlot(\"f36003b4-bff4-4050-8e28-7449f1c36977\", [{\"legendgroup\": \"chart (1, 1)\", \"name\": \"chart (1, 1) 20190726\", \"uid\": \"ee931c5c-1df1-11ea-8442-8c859025e7f9\", \"x\": [-0.3, -0.25, -0.2, -0.15, -0.1, -0.05, 0.0, 0.05, 0.1, 0.15, 0.2, 0.25, 0.3, 0.35], \"y\": [null, null, null, null, null, null, 0.0, null, null, null, null, null, null, null], \"yaxis\": \"y\", \"type\": \"scatter\", \"xaxis\": \"x\"}, {\"legendgroup\": \"chart (1, 1)\", \"name\": \"chart (1, 1) 20190729\", \"uid\": \"ee939f06-1df1-11ea-824d-8c859025e7f9\", \"x\": [-0.3, -0.25, -0.2, -0.15, -0.1, -0.05, 0.0, 0.05, 0.1, 0.15, 0.2, 0.25, 0.3, 0.35], \"y\": [0.2269, 0.1662, 0.1277, 0.0818, 0.0496, 0.0237, 0.0, -0.0149, -0.0201, -0.0086, -0.0031, 0.0309, 0.0447, 0.0939], \"yaxis\": \"y\", \"type\": \"scatter\", \"xaxis\": \"x\"}], {\"annotations\": [{\"font\": {\"size\": 16}, \"showarrow\": false, \"text\": \"NGU19 20190726 - 20190729\", \"x\": 0.2275, \"xanchor\": \"center\", \"xref\": \"paper\", \"y\": 1.0, \"yanchor\": \"bottom\", \"yref\": \"paper\"}], \"xaxis\": {\"anchor\": \"y\", \"domain\": [0.0, 0.455], \"tickangle\": 45, \"ticktext\": [-0.3, -0.25, -0.2, -0.15, -0.1, -0.05, 0.0, 0.05, 0.1, 0.15, 0.2, 0.25, 0.3, 0.35], \"tickvals\": [-0.3, -0.25, -0.2, -0.15, -0.1, -0.05, 0.0, 0.05, 0.1, 0.15, 0.2, 0.25, 0.3, 0.35], \"type\": \"category\"}, \"yaxis\": {\"anchor\": \"x\", \"domain\": [0.555, 1.0], \"title\": \"vol skew\"}, \"xaxis2\": {\"anchor\": \"y2\", \"domain\": [0.545, 1.0]}, \"yaxis2\": {\"anchor\": \"x2\", \"domain\": [0.555, 1.0]}, \"xaxis3\": {\"anchor\": \"y3\", \"domain\": [0.0, 0.455]}, \"yaxis3\": {\"anchor\": \"x3\", \"domain\": [0.0, 0.445]}, \"xaxis4\": {\"anchor\": \"y4\", \"domain\": [0.545, 1.0]}, \"yaxis4\": {\"anchor\": \"x4\", \"domain\": [0.0, 0.445]}, \"font\": {\"family\": \"Open Sans, sans-serif\"}, \"margin\": {\"b\": 55, \"l\": 45, \"r\": 15, \"t\": 50}, \"title\": \"Skew plots<br>\", \"showlegend\": true, \"hovermode\": \"x\", \"autosize\": true, \"width\": 900, \"height\": 800, \"plot_bgcolor\": \"#EFECEA\", \"bargap\": 0.05}, {\"showLink\": true, \"linkText\": \"Export to plot.ly\"})});</script>"
      ]
     },
     "metadata": {},
     "output_type": "display_data"
    },
    {
     "data": {
      "application/vnd.plotly.v1+json": {
       "data": [
        {
         "legendgroup": "chart (1, 1)",
         "name": "chart (1, 1) 20190730",
         "type": "scatter",
         "uid": "eed017c6-1df1-11ea-b776-8c859025e7f9",
         "x": [
          -0.3,
          -0.25,
          -0.2,
          -0.15,
          -0.1,
          -0.05,
          0,
          0.05,
          0.1,
          0.15,
          0.2,
          0.25,
          0.3,
          0.35
         ],
         "xaxis": "x",
         "y": [
          0.1847,
          0.1232,
          0.0938,
          0.0635,
          0.0399,
          0.0167,
          0,
          -0.0125,
          -0.0195,
          -0.0202,
          -0.0164,
          null,
          0.0026,
          0.025
         ],
         "yaxis": "y"
        },
        {
         "legendgroup": "chart (1, 1)",
         "name": "chart (1, 1) 20190731",
         "type": "scatter",
         "uid": "eed08222-1df1-11ea-abd5-8c859025e7f9",
         "x": [
          -0.3,
          -0.25,
          -0.2,
          -0.15,
          -0.1,
          -0.05,
          0,
          0.05,
          0.1,
          0.15,
          0.2,
          0.25,
          0.3,
          0.35
         ],
         "xaxis": "x",
         "y": [
          null,
          null,
          null,
          null,
          null,
          null,
          0,
          null,
          null,
          null,
          -0.0082,
          null,
          null,
          null
         ],
         "yaxis": "y"
        },
        {
         "legendgroup": "chart (1, 1)",
         "name": "chart (1, 1) 20190801",
         "type": "scatter",
         "uid": "eed0eac8-1df1-11ea-b805-8c859025e7f9",
         "x": [
          -0.3,
          -0.25,
          -0.2,
          -0.15,
          -0.1,
          -0.05,
          0,
          0.05,
          0.1,
          0.15,
          0.2,
          0.25,
          0.3,
          0.35
         ],
         "xaxis": "x",
         "y": [
          0.0869,
          0.0943,
          0.0652,
          0.0439,
          0.0269,
          0.0132,
          0,
          -0.0074,
          -0.0098,
          -0.0094,
          -0.0036,
          0.0043,
          0.0075,
          0.0276
         ],
         "yaxis": "y"
        },
        {
         "legendgroup": "chart (1, 1)",
         "name": "chart (1, 1) 20190802",
         "type": "scatter",
         "uid": "eed14e1e-1df1-11ea-954a-8c859025e7f9",
         "x": [
          -0.3,
          -0.25,
          -0.2,
          -0.15,
          -0.1,
          -0.05,
          0,
          0.05,
          0.1,
          0.15,
          0.2,
          0.25,
          0.3,
          0.35
         ],
         "xaxis": "x",
         "y": [
          0.1013,
          0.0685,
          0.056,
          0.0335,
          0.0205,
          0.0097,
          0,
          -0.0065,
          -0.0122,
          -0.0127,
          -0.0096,
          -0.0081,
          0,
          0.002
         ],
         "yaxis": "y"
        },
        {
         "legendgroup": "chart (1, 1)",
         "name": "chart (1, 1) 20190805",
         "type": "scatter",
         "uid": "eed1b53e-1df1-11ea-855b-8c859025e7f9",
         "x": [
          -0.3,
          -0.25,
          -0.2,
          -0.15,
          -0.1,
          -0.05,
          0,
          0.05,
          0.1,
          0.15,
          0.2,
          0.25,
          0.3,
          0.35
         ],
         "xaxis": "x",
         "y": [
          0.1254,
          0.0901,
          0.0531,
          0.0367,
          0.0179,
          0.0081,
          0,
          -0.0073,
          -0.0145,
          -0.0168,
          -0.0082,
          -0.0003,
          -0.003,
          0.0142
         ],
         "yaxis": "y"
        },
        {
         "legendgroup": "chart (1, 2)",
         "name": "chart (1, 2) 20190806",
         "type": "scatter",
         "uid": "eed2b736-1df1-11ea-93bf-8c859025e7f9",
         "x": [
          -0.3,
          -0.25,
          -0.2,
          -0.15,
          -0.1,
          -0.05,
          0,
          0.05,
          0.1,
          0.15,
          0.2,
          0.25,
          0.3,
          0.35
         ],
         "xaxis": "x2",
         "y": [
          0.1681,
          0.1251,
          0.0761,
          0.0501,
          0.0263,
          0.0139,
          0,
          -0.0085,
          -0.0144,
          -0.0177,
          -0.0171,
          -0.0093,
          0.0018,
          0.0131
         ],
         "yaxis": "y2"
        },
        {
         "legendgroup": "chart (1, 2)",
         "name": "chart (1, 2) 20190807",
         "type": "scatter",
         "uid": "eed31c3a-1df1-11ea-8223-8c859025e7f9",
         "x": [
          -0.3,
          -0.25,
          -0.2,
          -0.15,
          -0.1,
          -0.05,
          0,
          0.05,
          0.1,
          0.15,
          0.2,
          0.25,
          0.3,
          0.35
         ],
         "xaxis": "x2",
         "y": [
          0.1779,
          0.1301,
          0.0855,
          0.0552,
          0.034,
          0.0194,
          0,
          -0.0068,
          -0.0159,
          -0.0246,
          -0.0282,
          -0.0171,
          -0.0045,
          0.0074
         ],
         "yaxis": "y2"
        },
        {
         "legendgroup": "chart (1, 2)",
         "name": "chart (1, 2) 20190808",
         "type": "scatter",
         "uid": "eed3b24c-1df1-11ea-bc0b-8c859025e7f9",
         "x": [
          -0.3,
          -0.25,
          -0.2,
          -0.15,
          -0.1,
          -0.05,
          0,
          0.05,
          0.1,
          0.15,
          0.2,
          0.25,
          0.3,
          0.35
         ],
         "xaxis": "x2",
         "y": [
          0.1898,
          0.1183,
          0.0867,
          0.0538,
          0.0328,
          0.0163,
          0,
          -0.0137,
          -0.0214,
          -0.0248,
          -0.0271,
          -0.0211,
          0.0102,
          0.0206
         ],
         "yaxis": "y2"
        },
        {
         "legendgroup": "chart (1, 2)",
         "name": "chart (1, 2) 20190809",
         "type": "scatter",
         "uid": "eed41cca-1df1-11ea-a221-8c859025e7f9",
         "x": [
          -0.3,
          -0.25,
          -0.2,
          -0.15,
          -0.1,
          -0.05,
          0,
          0.05,
          0.1,
          0.15,
          0.2,
          0.25,
          0.3,
          0.35
         ],
         "xaxis": "x2",
         "y": [
          0.1744,
          0.1201,
          0.0844,
          0.0568,
          0.0324,
          0.0165,
          0,
          -0.013,
          -0.0265,
          -0.0247,
          -0.0275,
          -0.0083,
          0.002,
          0.0152
         ],
         "yaxis": "y2"
        },
        {
         "legendgroup": "chart (1, 2)",
         "name": "chart (1, 2) 20190812",
         "type": "scatter",
         "uid": "eed48430-1df1-11ea-87e0-8c859025e7f9",
         "x": [
          -0.3,
          -0.25,
          -0.2,
          -0.15,
          -0.1,
          -0.05,
          0,
          0.05,
          0.1,
          0.15,
          0.2,
          0.25,
          0.3,
          0.35
         ],
         "xaxis": "x2",
         "y": [
          0.2039,
          0.1397,
          0.1135,
          0.0764,
          0.0445,
          0.0184,
          0,
          -0.0164,
          -0.0308,
          -0.0316,
          -0.0347,
          -0.0232,
          -0.0125,
          0.0255
         ],
         "yaxis": "y2"
        },
        {
         "legendgroup": "chart (2, 1)",
         "name": "chart (2, 1) 20190813",
         "type": "scatter",
         "uid": "eed56c42-1df1-11ea-927a-8c859025e7f9",
         "x": [
          -0.3,
          -0.25,
          -0.2,
          -0.15,
          -0.1,
          -0.05,
          0,
          0.05,
          0.1,
          0.15,
          0.2,
          0.25,
          0.3,
          0.35
         ],
         "xaxis": "x3",
         "y": [
          0.2167,
          0.1536,
          0.0974,
          0.0669,
          0.0368,
          0.016,
          0,
          -0.0185,
          -0.029,
          -0.0291,
          -0.0206,
          -0.0143,
          0.0157,
          0.0173
         ],
         "yaxis": "y3"
        },
        {
         "legendgroup": "chart (2, 1)",
         "name": "chart (2, 1) 20190814",
         "type": "scatter",
         "uid": "eed5d240-1df1-11ea-ac83-8c859025e7f9",
         "x": [
          -0.3,
          -0.25,
          -0.2,
          -0.15,
          -0.1,
          -0.05,
          0,
          0.05,
          0.1,
          0.15,
          0.2,
          0.25,
          0.3,
          0.35
         ],
         "xaxis": "x3",
         "y": [
          0.222,
          0.1503,
          0.0923,
          0.0594,
          0.0323,
          0.015,
          0,
          -0.0116,
          -0.0176,
          -0.0176,
          -0.0178,
          -0.0151,
          0.0156,
          0.0146
         ],
         "yaxis": "y3"
        },
        {
         "legendgroup": "chart (2, 1)",
         "name": "chart (2, 1) 20190815",
         "type": "scatter",
         "uid": "eed6342e-1df1-11ea-9a28-8c859025e7f9",
         "x": [
          -0.3,
          -0.25,
          -0.2,
          -0.15,
          -0.1,
          -0.05,
          0,
          0.05,
          0.1,
          0.15,
          0.2,
          0.25,
          0.3,
          0.35
         ],
         "xaxis": "x3",
         "y": [
          0.1791,
          0.1409,
          0.0961,
          0.0544,
          0.0322,
          0.0106,
          0,
          -0.0065,
          -0.015,
          -0.0144,
          -0.0197,
          0.0041,
          0.0133,
          null
         ],
         "yaxis": "y3"
        },
        {
         "legendgroup": "chart (2, 1)",
         "name": "chart (2, 1) 20190816",
         "type": "scatter",
         "uid": "eed69338-1df1-11ea-9a1d-8c859025e7f9",
         "x": [
          -0.3,
          -0.25,
          -0.2,
          -0.15,
          -0.1,
          -0.05,
          0,
          0.05,
          0.1,
          0.15,
          0.2,
          0.25,
          0.3,
          0.35
         ],
         "xaxis": "x3",
         "y": [
          0.276,
          0.2011,
          0.1234,
          0.0611,
          0.0303,
          0.0086,
          0,
          -0.0027,
          -0.002,
          -0.0059,
          0.0023,
          0.0018,
          0.0183,
          0.0714
         ],
         "yaxis": "y3"
        },
        {
         "legendgroup": "chart (2, 1)",
         "name": "chart (2, 1) 20190819",
         "type": "scatter",
         "uid": "eed6fc4c-1df1-11ea-a1eb-8c859025e7f9",
         "x": [
          -0.3,
          -0.25,
          -0.2,
          -0.15,
          -0.1,
          -0.05,
          0,
          0.05,
          0.1,
          0.15,
          0.2,
          0.25,
          0.3,
          0.35
         ],
         "xaxis": "x3",
         "y": [
          0.2649,
          0.2037,
          0.1272,
          0.0679,
          0.031,
          0.0153,
          0,
          -0.0044,
          -0.0097,
          -0.0138,
          -0.0084,
          0.0107,
          0.0249,
          0.0483
         ],
         "yaxis": "y3"
        },
        {
         "legendgroup": "chart (2, 2)",
         "name": "chart (2, 2) 20190820",
         "type": "scatter",
         "uid": "eed7db6c-1df1-11ea-a96a-8c859025e7f9",
         "x": [
          -0.3,
          -0.25,
          -0.2,
          -0.15,
          -0.1,
          -0.05,
          0,
          0.05,
          0.1,
          0.15,
          0.2,
          0.25,
          0.3,
          0.35
         ],
         "xaxis": "x4",
         "y": [
          0.3737,
          0.2532,
          0.1895,
          0.1171,
          0.06,
          0.0258,
          0,
          -0.0117,
          -0.0301,
          -0.0231,
          -0.0293,
          0.0047,
          0.0329,
          0.0605
         ],
         "yaxis": "y4"
        },
        {
         "legendgroup": "chart (2, 2)",
         "name": "chart (2, 2) 20190821",
         "type": "scatter",
         "uid": "eed84528-1df1-11ea-b633-8c859025e7f9",
         "x": [
          -0.3,
          -0.25,
          -0.2,
          -0.15,
          -0.1,
          -0.05,
          0,
          0.05,
          0.1,
          0.15,
          0.2,
          0.25,
          0.3,
          0.35
         ],
         "xaxis": "x4",
         "y": [
          0.3417,
          0.2633,
          0.1845,
          0.1091,
          0.0512,
          0.0267,
          0,
          -0.0141,
          -0.0142,
          -0.019,
          0.0009,
          0.0184,
          0.0342,
          0.0423
         ],
         "yaxis": "y4"
        },
        {
         "legendgroup": "chart (2, 2)",
         "name": "chart (2, 2) 20190822",
         "type": "scatter",
         "uid": "eed8a6d2-1df1-11ea-8a4b-8c859025e7f9",
         "x": [
          -0.3,
          -0.25,
          -0.2,
          -0.15,
          -0.1,
          -0.05,
          0,
          0.05,
          0.1,
          0.15,
          0.2,
          0.25,
          0.3,
          0.35
         ],
         "xaxis": "x4",
         "y": [
          0.3904,
          0.3169,
          0.1964,
          0.1227,
          0.0605,
          0.0275,
          0,
          -0.0179,
          -0.0188,
          -0.0165,
          0.0215,
          0.0541,
          0.072,
          0.082
         ],
         "yaxis": "y4"
        },
        {
         "legendgroup": "chart (2, 2)",
         "name": "chart (2, 2) 20190823",
         "type": "scatter",
         "uid": "eed915e8-1df1-11ea-b0a7-8c859025e7f9",
         "x": [
          -0.3,
          -0.25,
          -0.2,
          -0.15,
          -0.1,
          -0.05,
          0,
          0.05,
          0.1,
          0.15,
          0.2,
          0.25,
          0.3,
          0.35
         ],
         "xaxis": "x4",
         "y": [
          0.4317,
          0.3067,
          0.2204,
          0.1423,
          0.0801,
          0.0296,
          0,
          -0.0294,
          -0.0395,
          -0.0263,
          -0.0077,
          0.0383,
          0.0962,
          0.1075
         ],
         "yaxis": "y4"
        },
        {
         "legendgroup": "chart (2, 2)",
         "name": "chart (2, 2) 20190826",
         "type": "scatter",
         "uid": "eed99254-1df1-11ea-b83f-8c859025e7f9",
         "x": [
          -0.3,
          -0.25,
          -0.2,
          -0.15,
          -0.1,
          -0.05,
          0,
          0.05,
          0.1,
          0.15,
          0.2,
          0.25,
          0.3,
          0.35
         ],
         "xaxis": "x4",
         "y": [
          0.524,
          0.4523,
          0.3236,
          0.2262,
          0.1222,
          0.0537,
          0,
          -0.0347,
          -0.0386,
          -0.0172,
          0.0335,
          0.0721,
          0.1052,
          null
         ],
         "yaxis": "y4"
        }
       ],
       "layout": {
        "annotations": [
         {
          "font": {
           "size": 16
          },
          "showarrow": false,
          "text": "NGV19 20190730 - 20190805",
          "x": 0.2275,
          "xanchor": "center",
          "xref": "paper",
          "y": 1,
          "yanchor": "bottom",
          "yref": "paper"
         },
         {
          "font": {
           "size": 16
          },
          "showarrow": false,
          "text": "NGV19 20190806 - 20190812",
          "x": 0.7725,
          "xanchor": "center",
          "xref": "paper",
          "y": 1,
          "yanchor": "bottom",
          "yref": "paper"
         },
         {
          "font": {
           "size": 16
          },
          "showarrow": false,
          "text": "NGV19 20190813 - 20190819",
          "x": 0.2275,
          "xanchor": "center",
          "xref": "paper",
          "y": 0.445,
          "yanchor": "bottom",
          "yref": "paper"
         },
         {
          "font": {
           "size": 16
          },
          "showarrow": false,
          "text": "NGV19 20190820 - 20190826",
          "x": 0.7725,
          "xanchor": "center",
          "xref": "paper",
          "y": 0.445,
          "yanchor": "bottom",
          "yref": "paper"
         }
        ],
        "autosize": true,
        "bargap": 0.05,
        "font": {
         "family": "Open Sans, sans-serif"
        },
        "height": 800,
        "hovermode": "x",
        "margin": {
         "b": 55,
         "l": 45,
         "r": 15,
         "t": 50
        },
        "plot_bgcolor": "#EFECEA",
        "showlegend": true,
        "title": "Skew plots<br>",
        "width": 900,
        "xaxis": {
         "anchor": "y",
         "domain": [
          0,
          0.455
         ],
         "tickangle": 45,
         "ticktext": [
          -0.3,
          -0.25,
          -0.2,
          -0.15,
          -0.1,
          -0.05,
          0,
          0.05,
          0.1,
          0.15,
          0.2,
          0.25,
          0.3,
          0.35
         ],
         "tickvals": [
          -0.3,
          -0.25,
          -0.2,
          -0.15,
          -0.1,
          -0.05,
          0,
          0.05,
          0.1,
          0.15,
          0.2,
          0.25,
          0.3,
          0.35
         ],
         "type": "category"
        },
        "xaxis2": {
         "anchor": "y2",
         "domain": [
          0.545,
          1
         ],
         "tickangle": 45,
         "ticktext": [
          -0.3,
          -0.25,
          -0.2,
          -0.15,
          -0.1,
          -0.05,
          0,
          0.05,
          0.1,
          0.15,
          0.2,
          0.25,
          0.3,
          0.35
         ],
         "tickvals": [
          -0.3,
          -0.25,
          -0.2,
          -0.15,
          -0.1,
          -0.05,
          0,
          0.05,
          0.1,
          0.15,
          0.2,
          0.25,
          0.3,
          0.35
         ],
         "type": "category"
        },
        "xaxis3": {
         "anchor": "y3",
         "domain": [
          0,
          0.455
         ],
         "tickangle": 45,
         "ticktext": [
          -0.3,
          -0.25,
          -0.2,
          -0.15,
          -0.1,
          -0.05,
          0,
          0.05,
          0.1,
          0.15,
          0.2,
          0.25,
          0.3,
          0.35
         ],
         "tickvals": [
          -0.3,
          -0.25,
          -0.2,
          -0.15,
          -0.1,
          -0.05,
          0,
          0.05,
          0.1,
          0.15,
          0.2,
          0.25,
          0.3,
          0.35
         ],
         "type": "category"
        },
        "xaxis4": {
         "anchor": "y4",
         "domain": [
          0.545,
          1
         ],
         "tickangle": 45,
         "ticktext": [
          -0.3,
          -0.25,
          -0.2,
          -0.15,
          -0.1,
          -0.05,
          0,
          0.05,
          0.1,
          0.15,
          0.2,
          0.25,
          0.3,
          0.35
         ],
         "tickvals": [
          -0.3,
          -0.25,
          -0.2,
          -0.15,
          -0.1,
          -0.05,
          0,
          0.05,
          0.1,
          0.15,
          0.2,
          0.25,
          0.3,
          0.35
         ],
         "type": "category"
        },
        "yaxis": {
         "anchor": "x",
         "domain": [
          0.555,
          1
         ],
         "title": "vol skew"
        },
        "yaxis2": {
         "anchor": "x2",
         "domain": [
          0.555,
          1
         ],
         "title": "vol skew"
        },
        "yaxis3": {
         "anchor": "x3",
         "domain": [
          0,
          0.445
         ],
         "title": "vol skew"
        },
        "yaxis4": {
         "anchor": "x4",
         "domain": [
          0,
          0.445
         ],
         "title": "vol skew"
        }
       }
      },
      "text/html": [
       "<div id=\"50506763-1e91-4cda-b838-f8bdf51d9c36\" style=\"height: 800px; width: 900px;\" class=\"plotly-graph-div\"></div><script type=\"text/javascript\">require([\"plotly\"], function(Plotly) { window.PLOTLYENV=window.PLOTLYENV || {};window.PLOTLYENV.BASE_URL=\"https://plot.ly\";Plotly.newPlot(\"50506763-1e91-4cda-b838-f8bdf51d9c36\", [{\"legendgroup\": \"chart (1, 1)\", \"name\": \"chart (1, 1) 20190730\", \"uid\": \"eed017c6-1df1-11ea-b776-8c859025e7f9\", \"x\": [-0.3, -0.25, -0.2, -0.15, -0.1, -0.05, 0.0, 0.05, 0.1, 0.15, 0.2, 0.25, 0.3, 0.35], \"y\": [0.1847, 0.1232, 0.0938, 0.0635, 0.0399, 0.0167, 0.0, -0.0125, -0.0195, -0.0202, -0.0164, null, 0.0026, 0.025], \"yaxis\": \"y\", \"type\": \"scatter\", \"xaxis\": \"x\"}, {\"legendgroup\": \"chart (1, 1)\", \"name\": \"chart (1, 1) 20190731\", \"uid\": \"eed08222-1df1-11ea-abd5-8c859025e7f9\", \"x\": [-0.3, -0.25, -0.2, -0.15, -0.1, -0.05, 0.0, 0.05, 0.1, 0.15, 0.2, 0.25, 0.3, 0.35], \"y\": [null, null, null, null, null, null, 0.0, null, null, null, -0.0082, null, null, null], \"yaxis\": \"y\", \"type\": \"scatter\", \"xaxis\": \"x\"}, {\"legendgroup\": \"chart (1, 1)\", \"name\": \"chart (1, 1) 20190801\", \"uid\": \"eed0eac8-1df1-11ea-b805-8c859025e7f9\", \"x\": [-0.3, -0.25, -0.2, -0.15, -0.1, -0.05, 0.0, 0.05, 0.1, 0.15, 0.2, 0.25, 0.3, 0.35], \"y\": [0.0869, 0.0943, 0.0652, 0.0439, 0.0269, 0.0132, 0.0, -0.0074, -0.0098, -0.0094, -0.0036, 0.0043, 0.0075, 0.0276], \"yaxis\": \"y\", \"type\": \"scatter\", \"xaxis\": \"x\"}, {\"legendgroup\": \"chart (1, 1)\", \"name\": \"chart (1, 1) 20190802\", \"uid\": \"eed14e1e-1df1-11ea-954a-8c859025e7f9\", \"x\": [-0.3, -0.25, -0.2, -0.15, -0.1, -0.05, 0.0, 0.05, 0.1, 0.15, 0.2, 0.25, 0.3, 0.35], \"y\": [0.1013, 0.0685, 0.056, 0.0335, 0.0205, 0.0097, 0.0, -0.0065, -0.0122, -0.0127, -0.0096, -0.0081, -0.0, 0.002], \"yaxis\": \"y\", \"type\": \"scatter\", \"xaxis\": \"x\"}, {\"legendgroup\": \"chart (1, 1)\", \"name\": \"chart (1, 1) 20190805\", \"uid\": \"eed1b53e-1df1-11ea-855b-8c859025e7f9\", \"x\": [-0.3, -0.25, -0.2, -0.15, -0.1, -0.05, 0.0, 0.05, 0.1, 0.15, 0.2, 0.25, 0.3, 0.35], \"y\": [0.1254, 0.0901, 0.0531, 0.0367, 0.0179, 0.0081, 0.0, -0.0073, -0.0145, -0.0168, -0.0082, -0.0003, -0.003, 0.0142], \"yaxis\": \"y\", \"type\": \"scatter\", \"xaxis\": \"x\"}, {\"legendgroup\": \"chart (1, 2)\", \"name\": \"chart (1, 2) 20190806\", \"uid\": \"eed2b736-1df1-11ea-93bf-8c859025e7f9\", \"x\": [-0.3, -0.25, -0.2, -0.15, -0.1, -0.05, 0.0, 0.05, 0.1, 0.15, 0.2, 0.25, 0.3, 0.35], \"y\": [0.1681, 0.1251, 0.0761, 0.0501, 0.0263, 0.0139, 0.0, -0.0085, -0.0144, -0.0177, -0.0171, -0.0093, 0.0018, 0.0131], \"yaxis\": \"y2\", \"type\": \"scatter\", \"xaxis\": \"x2\"}, {\"legendgroup\": \"chart (1, 2)\", \"name\": \"chart (1, 2) 20190807\", \"uid\": \"eed31c3a-1df1-11ea-8223-8c859025e7f9\", \"x\": [-0.3, -0.25, -0.2, -0.15, -0.1, -0.05, 0.0, 0.05, 0.1, 0.15, 0.2, 0.25, 0.3, 0.35], \"y\": [0.1779, 0.1301, 0.0855, 0.0552, 0.034, 0.0194, 0.0, -0.0068, -0.0159, -0.0246, -0.0282, -0.0171, -0.0045, 0.0074], \"yaxis\": \"y2\", \"type\": \"scatter\", \"xaxis\": \"x2\"}, {\"legendgroup\": \"chart (1, 2)\", \"name\": \"chart (1, 2) 20190808\", \"uid\": \"eed3b24c-1df1-11ea-bc0b-8c859025e7f9\", \"x\": [-0.3, -0.25, -0.2, -0.15, -0.1, -0.05, 0.0, 0.05, 0.1, 0.15, 0.2, 0.25, 0.3, 0.35], \"y\": [0.1898, 0.1183, 0.0867, 0.0538, 0.0328, 0.0163, 0.0, -0.0137, -0.0214, -0.0248, -0.0271, -0.0211, 0.0102, 0.0206], \"yaxis\": \"y2\", \"type\": \"scatter\", \"xaxis\": \"x2\"}, {\"legendgroup\": \"chart (1, 2)\", \"name\": \"chart (1, 2) 20190809\", \"uid\": \"eed41cca-1df1-11ea-a221-8c859025e7f9\", \"x\": [-0.3, -0.25, -0.2, -0.15, -0.1, -0.05, 0.0, 0.05, 0.1, 0.15, 0.2, 0.25, 0.3, 0.35], \"y\": [0.1744, 0.1201, 0.0844, 0.0568, 0.0324, 0.0165, 0.0, -0.013, -0.0265, -0.0247, -0.0275, -0.0083, 0.002, 0.0152], \"yaxis\": \"y2\", \"type\": \"scatter\", \"xaxis\": \"x2\"}, {\"legendgroup\": \"chart (1, 2)\", \"name\": \"chart (1, 2) 20190812\", \"uid\": \"eed48430-1df1-11ea-87e0-8c859025e7f9\", \"x\": [-0.3, -0.25, -0.2, -0.15, -0.1, -0.05, 0.0, 0.05, 0.1, 0.15, 0.2, 0.25, 0.3, 0.35], \"y\": [0.2039, 0.1397, 0.1135, 0.0764, 0.0445, 0.0184, 0.0, -0.0164, -0.0308, -0.0316, -0.0347, -0.0232, -0.0125, 0.0255], \"yaxis\": \"y2\", \"type\": \"scatter\", \"xaxis\": \"x2\"}, {\"legendgroup\": \"chart (2, 1)\", \"name\": \"chart (2, 1) 20190813\", \"uid\": \"eed56c42-1df1-11ea-927a-8c859025e7f9\", \"x\": [-0.3, -0.25, -0.2, -0.15, -0.1, -0.05, 0.0, 0.05, 0.1, 0.15, 0.2, 0.25, 0.3, 0.35], \"y\": [0.2167, 0.1536, 0.0974, 0.0669, 0.0368, 0.016, 0.0, -0.0185, -0.029, -0.0291, -0.0206, -0.0143, 0.0157, 0.0173], \"yaxis\": \"y3\", \"type\": \"scatter\", \"xaxis\": \"x3\"}, {\"legendgroup\": \"chart (2, 1)\", \"name\": \"chart (2, 1) 20190814\", \"uid\": \"eed5d240-1df1-11ea-ac83-8c859025e7f9\", \"x\": [-0.3, -0.25, -0.2, -0.15, -0.1, -0.05, 0.0, 0.05, 0.1, 0.15, 0.2, 0.25, 0.3, 0.35], \"y\": [0.222, 0.1503, 0.0923, 0.0594, 0.0323, 0.015, 0.0, -0.0116, -0.0176, -0.0176, -0.0178, -0.0151, 0.0156, 0.0146], \"yaxis\": \"y3\", \"type\": \"scatter\", \"xaxis\": \"x3\"}, {\"legendgroup\": \"chart (2, 1)\", \"name\": \"chart (2, 1) 20190815\", \"uid\": \"eed6342e-1df1-11ea-9a28-8c859025e7f9\", \"x\": [-0.3, -0.25, -0.2, -0.15, -0.1, -0.05, 0.0, 0.05, 0.1, 0.15, 0.2, 0.25, 0.3, 0.35], \"y\": [0.1791, 0.1409, 0.0961, 0.0544, 0.0322, 0.0106, 0.0, -0.0065, -0.015, -0.0144, -0.0197, 0.0041, 0.0133, null], \"yaxis\": \"y3\", \"type\": \"scatter\", \"xaxis\": \"x3\"}, {\"legendgroup\": \"chart (2, 1)\", \"name\": \"chart (2, 1) 20190816\", \"uid\": \"eed69338-1df1-11ea-9a1d-8c859025e7f9\", \"x\": [-0.3, -0.25, -0.2, -0.15, -0.1, -0.05, 0.0, 0.05, 0.1, 0.15, 0.2, 0.25, 0.3, 0.35], \"y\": [0.276, 0.2011, 0.1234, 0.0611, 0.0303, 0.0086, 0.0, -0.0027, -0.002, -0.0059, 0.0023, 0.0018, 0.0183, 0.0714], \"yaxis\": \"y3\", \"type\": \"scatter\", \"xaxis\": \"x3\"}, {\"legendgroup\": \"chart (2, 1)\", \"name\": \"chart (2, 1) 20190819\", \"uid\": \"eed6fc4c-1df1-11ea-a1eb-8c859025e7f9\", \"x\": [-0.3, -0.25, -0.2, -0.15, -0.1, -0.05, 0.0, 0.05, 0.1, 0.15, 0.2, 0.25, 0.3, 0.35], \"y\": [0.2649, 0.2037, 0.1272, 0.0679, 0.031, 0.0153, 0.0, -0.0044, -0.0097, -0.0138, -0.0084, 0.0107, 0.0249, 0.0483], \"yaxis\": \"y3\", \"type\": \"scatter\", \"xaxis\": \"x3\"}, {\"legendgroup\": \"chart (2, 2)\", \"name\": \"chart (2, 2) 20190820\", \"uid\": \"eed7db6c-1df1-11ea-a96a-8c859025e7f9\", \"x\": [-0.3, -0.25, -0.2, -0.15, -0.1, -0.05, 0.0, 0.05, 0.1, 0.15, 0.2, 0.25, 0.3, 0.35], \"y\": [0.3737, 0.2532, 0.1895, 0.1171, 0.06, 0.0258, 0.0, -0.0117, -0.0301, -0.0231, -0.0293, 0.0047, 0.0329, 0.0605], \"yaxis\": \"y4\", \"type\": \"scatter\", \"xaxis\": \"x4\"}, {\"legendgroup\": \"chart (2, 2)\", \"name\": \"chart (2, 2) 20190821\", \"uid\": \"eed84528-1df1-11ea-b633-8c859025e7f9\", \"x\": [-0.3, -0.25, -0.2, -0.15, -0.1, -0.05, 0.0, 0.05, 0.1, 0.15, 0.2, 0.25, 0.3, 0.35], \"y\": [0.3417, 0.2633, 0.1845, 0.1091, 0.0512, 0.0267, 0.0, -0.0141, -0.0142, -0.019, 0.0009, 0.0184, 0.0342, 0.0423], \"yaxis\": \"y4\", \"type\": \"scatter\", \"xaxis\": \"x4\"}, {\"legendgroup\": \"chart (2, 2)\", \"name\": \"chart (2, 2) 20190822\", \"uid\": \"eed8a6d2-1df1-11ea-8a4b-8c859025e7f9\", \"x\": [-0.3, -0.25, -0.2, -0.15, -0.1, -0.05, 0.0, 0.05, 0.1, 0.15, 0.2, 0.25, 0.3, 0.35], \"y\": [0.3904, 0.3169, 0.1964, 0.1227, 0.0605, 0.0275, 0.0, -0.0179, -0.0188, -0.0165, 0.0215, 0.0541, 0.072, 0.082], \"yaxis\": \"y4\", \"type\": \"scatter\", \"xaxis\": \"x4\"}, {\"legendgroup\": \"chart (2, 2)\", \"name\": \"chart (2, 2) 20190823\", \"uid\": \"eed915e8-1df1-11ea-b0a7-8c859025e7f9\", \"x\": [-0.3, -0.25, -0.2, -0.15, -0.1, -0.05, 0.0, 0.05, 0.1, 0.15, 0.2, 0.25, 0.3, 0.35], \"y\": [0.4317, 0.3067, 0.2204, 0.1423, 0.0801, 0.0296, 0.0, -0.0294, -0.0395, -0.0263, -0.0077, 0.0383, 0.0962, 0.1075], \"yaxis\": \"y4\", \"type\": \"scatter\", \"xaxis\": \"x4\"}, {\"legendgroup\": \"chart (2, 2)\", \"name\": \"chart (2, 2) 20190826\", \"uid\": \"eed99254-1df1-11ea-b83f-8c859025e7f9\", \"x\": [-0.3, -0.25, -0.2, -0.15, -0.1, -0.05, 0.0, 0.05, 0.1, 0.15, 0.2, 0.25, 0.3, 0.35], \"y\": [0.524, 0.4523, 0.3236, 0.2262, 0.1222, 0.0537, 0.0, -0.0347, -0.0386, -0.0172, 0.0335, 0.0721, 0.1052, null], \"yaxis\": \"y4\", \"type\": \"scatter\", \"xaxis\": \"x4\"}], {\"annotations\": [{\"font\": {\"size\": 16}, \"showarrow\": false, \"text\": \"NGV19 20190730 - 20190805\", \"x\": 0.2275, \"xanchor\": \"center\", \"xref\": \"paper\", \"y\": 1.0, \"yanchor\": \"bottom\", \"yref\": \"paper\"}, {\"font\": {\"size\": 16}, \"showarrow\": false, \"text\": \"NGV19 20190806 - 20190812\", \"x\": 0.7725, \"xanchor\": \"center\", \"xref\": \"paper\", \"y\": 1.0, \"yanchor\": \"bottom\", \"yref\": \"paper\"}, {\"font\": {\"size\": 16}, \"showarrow\": false, \"text\": \"NGV19 20190813 - 20190819\", \"x\": 0.2275, \"xanchor\": \"center\", \"xref\": \"paper\", \"y\": 0.445, \"yanchor\": \"bottom\", \"yref\": \"paper\"}, {\"font\": {\"size\": 16}, \"showarrow\": false, \"text\": \"NGV19 20190820 - 20190826\", \"x\": 0.7725, \"xanchor\": \"center\", \"xref\": \"paper\", \"y\": 0.445, \"yanchor\": \"bottom\", \"yref\": \"paper\"}], \"xaxis\": {\"anchor\": \"y\", \"domain\": [0.0, 0.455], \"tickangle\": 45, \"ticktext\": [-0.3, -0.25, -0.2, -0.15, -0.1, -0.05, 0.0, 0.05, 0.1, 0.15, 0.2, 0.25, 0.3, 0.35], \"tickvals\": [-0.3, -0.25, -0.2, -0.15, -0.1, -0.05, 0.0, 0.05, 0.1, 0.15, 0.2, 0.25, 0.3, 0.35], \"type\": \"category\"}, \"yaxis\": {\"anchor\": \"x\", \"domain\": [0.555, 1.0], \"title\": \"vol skew\"}, \"xaxis2\": {\"anchor\": \"y2\", \"domain\": [0.545, 1.0], \"tickangle\": 45, \"ticktext\": [-0.3, -0.25, -0.2, -0.15, -0.1, -0.05, 0.0, 0.05, 0.1, 0.15, 0.2, 0.25, 0.3, 0.35], \"tickvals\": [-0.3, -0.25, -0.2, -0.15, -0.1, -0.05, 0.0, 0.05, 0.1, 0.15, 0.2, 0.25, 0.3, 0.35], \"type\": \"category\"}, \"yaxis2\": {\"anchor\": \"x2\", \"domain\": [0.555, 1.0], \"title\": \"vol skew\"}, \"xaxis3\": {\"anchor\": \"y3\", \"domain\": [0.0, 0.455], \"tickangle\": 45, \"ticktext\": [-0.3, -0.25, -0.2, -0.15, -0.1, -0.05, 0.0, 0.05, 0.1, 0.15, 0.2, 0.25, 0.3, 0.35], \"tickvals\": [-0.3, -0.25, -0.2, -0.15, -0.1, -0.05, 0.0, 0.05, 0.1, 0.15, 0.2, 0.25, 0.3, 0.35], \"type\": \"category\"}, \"yaxis3\": {\"anchor\": \"x3\", \"domain\": [0.0, 0.445], \"title\": \"vol skew\"}, \"xaxis4\": {\"anchor\": \"y4\", \"domain\": [0.545, 1.0], \"tickangle\": 45, \"ticktext\": [-0.3, -0.25, -0.2, -0.15, -0.1, -0.05, 0.0, 0.05, 0.1, 0.15, 0.2, 0.25, 0.3, 0.35], \"tickvals\": [-0.3, -0.25, -0.2, -0.15, -0.1, -0.05, 0.0, 0.05, 0.1, 0.15, 0.2, 0.25, 0.3, 0.35], \"type\": \"category\"}, \"yaxis4\": {\"anchor\": \"x4\", \"domain\": [0.0, 0.445], \"title\": \"vol skew\"}, \"font\": {\"family\": \"Open Sans, sans-serif\"}, \"margin\": {\"b\": 55, \"l\": 45, \"r\": 15, \"t\": 50}, \"title\": \"Skew plots<br>\", \"showlegend\": true, \"hovermode\": \"x\", \"autosize\": true, \"width\": 900, \"height\": 800, \"plot_bgcolor\": \"#EFECEA\", \"bargap\": 0.05}, {\"showLink\": true, \"linkText\": \"Export to plot.ly\"})});</script>"
      ],
      "text/vnd.plotly.v1+html": [
       "<div id=\"50506763-1e91-4cda-b838-f8bdf51d9c36\" style=\"height: 800px; width: 900px;\" class=\"plotly-graph-div\"></div><script type=\"text/javascript\">require([\"plotly\"], function(Plotly) { window.PLOTLYENV=window.PLOTLYENV || {};window.PLOTLYENV.BASE_URL=\"https://plot.ly\";Plotly.newPlot(\"50506763-1e91-4cda-b838-f8bdf51d9c36\", [{\"legendgroup\": \"chart (1, 1)\", \"name\": \"chart (1, 1) 20190730\", \"uid\": \"eed017c6-1df1-11ea-b776-8c859025e7f9\", \"x\": [-0.3, -0.25, -0.2, -0.15, -0.1, -0.05, 0.0, 0.05, 0.1, 0.15, 0.2, 0.25, 0.3, 0.35], \"y\": [0.1847, 0.1232, 0.0938, 0.0635, 0.0399, 0.0167, 0.0, -0.0125, -0.0195, -0.0202, -0.0164, null, 0.0026, 0.025], \"yaxis\": \"y\", \"type\": \"scatter\", \"xaxis\": \"x\"}, {\"legendgroup\": \"chart (1, 1)\", \"name\": \"chart (1, 1) 20190731\", \"uid\": \"eed08222-1df1-11ea-abd5-8c859025e7f9\", \"x\": [-0.3, -0.25, -0.2, -0.15, -0.1, -0.05, 0.0, 0.05, 0.1, 0.15, 0.2, 0.25, 0.3, 0.35], \"y\": [null, null, null, null, null, null, 0.0, null, null, null, -0.0082, null, null, null], \"yaxis\": \"y\", \"type\": \"scatter\", \"xaxis\": \"x\"}, {\"legendgroup\": \"chart (1, 1)\", \"name\": \"chart (1, 1) 20190801\", \"uid\": \"eed0eac8-1df1-11ea-b805-8c859025e7f9\", \"x\": [-0.3, -0.25, -0.2, -0.15, -0.1, -0.05, 0.0, 0.05, 0.1, 0.15, 0.2, 0.25, 0.3, 0.35], \"y\": [0.0869, 0.0943, 0.0652, 0.0439, 0.0269, 0.0132, 0.0, -0.0074, -0.0098, -0.0094, -0.0036, 0.0043, 0.0075, 0.0276], \"yaxis\": \"y\", \"type\": \"scatter\", \"xaxis\": \"x\"}, {\"legendgroup\": \"chart (1, 1)\", \"name\": \"chart (1, 1) 20190802\", \"uid\": \"eed14e1e-1df1-11ea-954a-8c859025e7f9\", \"x\": [-0.3, -0.25, -0.2, -0.15, -0.1, -0.05, 0.0, 0.05, 0.1, 0.15, 0.2, 0.25, 0.3, 0.35], \"y\": [0.1013, 0.0685, 0.056, 0.0335, 0.0205, 0.0097, 0.0, -0.0065, -0.0122, -0.0127, -0.0096, -0.0081, -0.0, 0.002], \"yaxis\": \"y\", \"type\": \"scatter\", \"xaxis\": \"x\"}, {\"legendgroup\": \"chart (1, 1)\", \"name\": \"chart (1, 1) 20190805\", \"uid\": \"eed1b53e-1df1-11ea-855b-8c859025e7f9\", \"x\": [-0.3, -0.25, -0.2, -0.15, -0.1, -0.05, 0.0, 0.05, 0.1, 0.15, 0.2, 0.25, 0.3, 0.35], \"y\": [0.1254, 0.0901, 0.0531, 0.0367, 0.0179, 0.0081, 0.0, -0.0073, -0.0145, -0.0168, -0.0082, -0.0003, -0.003, 0.0142], \"yaxis\": \"y\", \"type\": \"scatter\", \"xaxis\": \"x\"}, {\"legendgroup\": \"chart (1, 2)\", \"name\": \"chart (1, 2) 20190806\", \"uid\": \"eed2b736-1df1-11ea-93bf-8c859025e7f9\", \"x\": [-0.3, -0.25, -0.2, -0.15, -0.1, -0.05, 0.0, 0.05, 0.1, 0.15, 0.2, 0.25, 0.3, 0.35], \"y\": [0.1681, 0.1251, 0.0761, 0.0501, 0.0263, 0.0139, 0.0, -0.0085, -0.0144, -0.0177, -0.0171, -0.0093, 0.0018, 0.0131], \"yaxis\": \"y2\", \"type\": \"scatter\", \"xaxis\": \"x2\"}, {\"legendgroup\": \"chart (1, 2)\", \"name\": \"chart (1, 2) 20190807\", \"uid\": \"eed31c3a-1df1-11ea-8223-8c859025e7f9\", \"x\": [-0.3, -0.25, -0.2, -0.15, -0.1, -0.05, 0.0, 0.05, 0.1, 0.15, 0.2, 0.25, 0.3, 0.35], \"y\": [0.1779, 0.1301, 0.0855, 0.0552, 0.034, 0.0194, 0.0, -0.0068, -0.0159, -0.0246, -0.0282, -0.0171, -0.0045, 0.0074], \"yaxis\": \"y2\", \"type\": \"scatter\", \"xaxis\": \"x2\"}, {\"legendgroup\": \"chart (1, 2)\", \"name\": \"chart (1, 2) 20190808\", \"uid\": \"eed3b24c-1df1-11ea-bc0b-8c859025e7f9\", \"x\": [-0.3, -0.25, -0.2, -0.15, -0.1, -0.05, 0.0, 0.05, 0.1, 0.15, 0.2, 0.25, 0.3, 0.35], \"y\": [0.1898, 0.1183, 0.0867, 0.0538, 0.0328, 0.0163, 0.0, -0.0137, -0.0214, -0.0248, -0.0271, -0.0211, 0.0102, 0.0206], \"yaxis\": \"y2\", \"type\": \"scatter\", \"xaxis\": \"x2\"}, {\"legendgroup\": \"chart (1, 2)\", \"name\": \"chart (1, 2) 20190809\", \"uid\": \"eed41cca-1df1-11ea-a221-8c859025e7f9\", \"x\": [-0.3, -0.25, -0.2, -0.15, -0.1, -0.05, 0.0, 0.05, 0.1, 0.15, 0.2, 0.25, 0.3, 0.35], \"y\": [0.1744, 0.1201, 0.0844, 0.0568, 0.0324, 0.0165, 0.0, -0.013, -0.0265, -0.0247, -0.0275, -0.0083, 0.002, 0.0152], \"yaxis\": \"y2\", \"type\": \"scatter\", \"xaxis\": \"x2\"}, {\"legendgroup\": \"chart (1, 2)\", \"name\": \"chart (1, 2) 20190812\", \"uid\": \"eed48430-1df1-11ea-87e0-8c859025e7f9\", \"x\": [-0.3, -0.25, -0.2, -0.15, -0.1, -0.05, 0.0, 0.05, 0.1, 0.15, 0.2, 0.25, 0.3, 0.35], \"y\": [0.2039, 0.1397, 0.1135, 0.0764, 0.0445, 0.0184, 0.0, -0.0164, -0.0308, -0.0316, -0.0347, -0.0232, -0.0125, 0.0255], \"yaxis\": \"y2\", \"type\": \"scatter\", \"xaxis\": \"x2\"}, {\"legendgroup\": \"chart (2, 1)\", \"name\": \"chart (2, 1) 20190813\", \"uid\": \"eed56c42-1df1-11ea-927a-8c859025e7f9\", \"x\": [-0.3, -0.25, -0.2, -0.15, -0.1, -0.05, 0.0, 0.05, 0.1, 0.15, 0.2, 0.25, 0.3, 0.35], \"y\": [0.2167, 0.1536, 0.0974, 0.0669, 0.0368, 0.016, 0.0, -0.0185, -0.029, -0.0291, -0.0206, -0.0143, 0.0157, 0.0173], \"yaxis\": \"y3\", \"type\": \"scatter\", \"xaxis\": \"x3\"}, {\"legendgroup\": \"chart (2, 1)\", \"name\": \"chart (2, 1) 20190814\", \"uid\": \"eed5d240-1df1-11ea-ac83-8c859025e7f9\", \"x\": [-0.3, -0.25, -0.2, -0.15, -0.1, -0.05, 0.0, 0.05, 0.1, 0.15, 0.2, 0.25, 0.3, 0.35], \"y\": [0.222, 0.1503, 0.0923, 0.0594, 0.0323, 0.015, 0.0, -0.0116, -0.0176, -0.0176, -0.0178, -0.0151, 0.0156, 0.0146], \"yaxis\": \"y3\", \"type\": \"scatter\", \"xaxis\": \"x3\"}, {\"legendgroup\": \"chart (2, 1)\", \"name\": \"chart (2, 1) 20190815\", \"uid\": \"eed6342e-1df1-11ea-9a28-8c859025e7f9\", \"x\": [-0.3, -0.25, -0.2, -0.15, -0.1, -0.05, 0.0, 0.05, 0.1, 0.15, 0.2, 0.25, 0.3, 0.35], \"y\": [0.1791, 0.1409, 0.0961, 0.0544, 0.0322, 0.0106, 0.0, -0.0065, -0.015, -0.0144, -0.0197, 0.0041, 0.0133, null], \"yaxis\": \"y3\", \"type\": \"scatter\", \"xaxis\": \"x3\"}, {\"legendgroup\": \"chart (2, 1)\", \"name\": \"chart (2, 1) 20190816\", \"uid\": \"eed69338-1df1-11ea-9a1d-8c859025e7f9\", \"x\": [-0.3, -0.25, -0.2, -0.15, -0.1, -0.05, 0.0, 0.05, 0.1, 0.15, 0.2, 0.25, 0.3, 0.35], \"y\": [0.276, 0.2011, 0.1234, 0.0611, 0.0303, 0.0086, 0.0, -0.0027, -0.002, -0.0059, 0.0023, 0.0018, 0.0183, 0.0714], \"yaxis\": \"y3\", \"type\": \"scatter\", \"xaxis\": \"x3\"}, {\"legendgroup\": \"chart (2, 1)\", \"name\": \"chart (2, 1) 20190819\", \"uid\": \"eed6fc4c-1df1-11ea-a1eb-8c859025e7f9\", \"x\": [-0.3, -0.25, -0.2, -0.15, -0.1, -0.05, 0.0, 0.05, 0.1, 0.15, 0.2, 0.25, 0.3, 0.35], \"y\": [0.2649, 0.2037, 0.1272, 0.0679, 0.031, 0.0153, 0.0, -0.0044, -0.0097, -0.0138, -0.0084, 0.0107, 0.0249, 0.0483], \"yaxis\": \"y3\", \"type\": \"scatter\", \"xaxis\": \"x3\"}, {\"legendgroup\": \"chart (2, 2)\", \"name\": \"chart (2, 2) 20190820\", \"uid\": \"eed7db6c-1df1-11ea-a96a-8c859025e7f9\", \"x\": [-0.3, -0.25, -0.2, -0.15, -0.1, -0.05, 0.0, 0.05, 0.1, 0.15, 0.2, 0.25, 0.3, 0.35], \"y\": [0.3737, 0.2532, 0.1895, 0.1171, 0.06, 0.0258, 0.0, -0.0117, -0.0301, -0.0231, -0.0293, 0.0047, 0.0329, 0.0605], \"yaxis\": \"y4\", \"type\": \"scatter\", \"xaxis\": \"x4\"}, {\"legendgroup\": \"chart (2, 2)\", \"name\": \"chart (2, 2) 20190821\", \"uid\": \"eed84528-1df1-11ea-b633-8c859025e7f9\", \"x\": [-0.3, -0.25, -0.2, -0.15, -0.1, -0.05, 0.0, 0.05, 0.1, 0.15, 0.2, 0.25, 0.3, 0.35], \"y\": [0.3417, 0.2633, 0.1845, 0.1091, 0.0512, 0.0267, 0.0, -0.0141, -0.0142, -0.019, 0.0009, 0.0184, 0.0342, 0.0423], \"yaxis\": \"y4\", \"type\": \"scatter\", \"xaxis\": \"x4\"}, {\"legendgroup\": \"chart (2, 2)\", \"name\": \"chart (2, 2) 20190822\", \"uid\": \"eed8a6d2-1df1-11ea-8a4b-8c859025e7f9\", \"x\": [-0.3, -0.25, -0.2, -0.15, -0.1, -0.05, 0.0, 0.05, 0.1, 0.15, 0.2, 0.25, 0.3, 0.35], \"y\": [0.3904, 0.3169, 0.1964, 0.1227, 0.0605, 0.0275, 0.0, -0.0179, -0.0188, -0.0165, 0.0215, 0.0541, 0.072, 0.082], \"yaxis\": \"y4\", \"type\": \"scatter\", \"xaxis\": \"x4\"}, {\"legendgroup\": \"chart (2, 2)\", \"name\": \"chart (2, 2) 20190823\", \"uid\": \"eed915e8-1df1-11ea-b0a7-8c859025e7f9\", \"x\": [-0.3, -0.25, -0.2, -0.15, -0.1, -0.05, 0.0, 0.05, 0.1, 0.15, 0.2, 0.25, 0.3, 0.35], \"y\": [0.4317, 0.3067, 0.2204, 0.1423, 0.0801, 0.0296, 0.0, -0.0294, -0.0395, -0.0263, -0.0077, 0.0383, 0.0962, 0.1075], \"yaxis\": \"y4\", \"type\": \"scatter\", \"xaxis\": \"x4\"}, {\"legendgroup\": \"chart (2, 2)\", \"name\": \"chart (2, 2) 20190826\", \"uid\": \"eed99254-1df1-11ea-b83f-8c859025e7f9\", \"x\": [-0.3, -0.25, -0.2, -0.15, -0.1, -0.05, 0.0, 0.05, 0.1, 0.15, 0.2, 0.25, 0.3, 0.35], \"y\": [0.524, 0.4523, 0.3236, 0.2262, 0.1222, 0.0537, 0.0, -0.0347, -0.0386, -0.0172, 0.0335, 0.0721, 0.1052, null], \"yaxis\": \"y4\", \"type\": \"scatter\", \"xaxis\": \"x4\"}], {\"annotations\": [{\"font\": {\"size\": 16}, \"showarrow\": false, \"text\": \"NGV19 20190730 - 20190805\", \"x\": 0.2275, \"xanchor\": \"center\", \"xref\": \"paper\", \"y\": 1.0, \"yanchor\": \"bottom\", \"yref\": \"paper\"}, {\"font\": {\"size\": 16}, \"showarrow\": false, \"text\": \"NGV19 20190806 - 20190812\", \"x\": 0.7725, \"xanchor\": \"center\", \"xref\": \"paper\", \"y\": 1.0, \"yanchor\": \"bottom\", \"yref\": \"paper\"}, {\"font\": {\"size\": 16}, \"showarrow\": false, \"text\": \"NGV19 20190813 - 20190819\", \"x\": 0.2275, \"xanchor\": \"center\", \"xref\": \"paper\", \"y\": 0.445, \"yanchor\": \"bottom\", \"yref\": \"paper\"}, {\"font\": {\"size\": 16}, \"showarrow\": false, \"text\": \"NGV19 20190820 - 20190826\", \"x\": 0.7725, \"xanchor\": \"center\", \"xref\": \"paper\", \"y\": 0.445, \"yanchor\": \"bottom\", \"yref\": \"paper\"}], \"xaxis\": {\"anchor\": \"y\", \"domain\": [0.0, 0.455], \"tickangle\": 45, \"ticktext\": [-0.3, -0.25, -0.2, -0.15, -0.1, -0.05, 0.0, 0.05, 0.1, 0.15, 0.2, 0.25, 0.3, 0.35], \"tickvals\": [-0.3, -0.25, -0.2, -0.15, -0.1, -0.05, 0.0, 0.05, 0.1, 0.15, 0.2, 0.25, 0.3, 0.35], \"type\": \"category\"}, \"yaxis\": {\"anchor\": \"x\", \"domain\": [0.555, 1.0], \"title\": \"vol skew\"}, \"xaxis2\": {\"anchor\": \"y2\", \"domain\": [0.545, 1.0], \"tickangle\": 45, \"ticktext\": [-0.3, -0.25, -0.2, -0.15, -0.1, -0.05, 0.0, 0.05, 0.1, 0.15, 0.2, 0.25, 0.3, 0.35], \"tickvals\": [-0.3, -0.25, -0.2, -0.15, -0.1, -0.05, 0.0, 0.05, 0.1, 0.15, 0.2, 0.25, 0.3, 0.35], \"type\": \"category\"}, \"yaxis2\": {\"anchor\": \"x2\", \"domain\": [0.555, 1.0], \"title\": \"vol skew\"}, \"xaxis3\": {\"anchor\": \"y3\", \"domain\": [0.0, 0.455], \"tickangle\": 45, \"ticktext\": [-0.3, -0.25, -0.2, -0.15, -0.1, -0.05, 0.0, 0.05, 0.1, 0.15, 0.2, 0.25, 0.3, 0.35], \"tickvals\": [-0.3, -0.25, -0.2, -0.15, -0.1, -0.05, 0.0, 0.05, 0.1, 0.15, 0.2, 0.25, 0.3, 0.35], \"type\": \"category\"}, \"yaxis3\": {\"anchor\": \"x3\", \"domain\": [0.0, 0.445], \"title\": \"vol skew\"}, \"xaxis4\": {\"anchor\": \"y4\", \"domain\": [0.545, 1.0], \"tickangle\": 45, \"ticktext\": [-0.3, -0.25, -0.2, -0.15, -0.1, -0.05, 0.0, 0.05, 0.1, 0.15, 0.2, 0.25, 0.3, 0.35], \"tickvals\": [-0.3, -0.25, -0.2, -0.15, -0.1, -0.05, 0.0, 0.05, 0.1, 0.15, 0.2, 0.25, 0.3, 0.35], \"type\": \"category\"}, \"yaxis4\": {\"anchor\": \"x4\", \"domain\": [0.0, 0.445], \"title\": \"vol skew\"}, \"font\": {\"family\": \"Open Sans, sans-serif\"}, \"margin\": {\"b\": 55, \"l\": 45, \"r\": 15, \"t\": 50}, \"title\": \"Skew plots<br>\", \"showlegend\": true, \"hovermode\": \"x\", \"autosize\": true, \"width\": 900, \"height\": 800, \"plot_bgcolor\": \"#EFECEA\", \"bargap\": 0.05}, {\"showLink\": true, \"linkText\": \"Export to plot.ly\"})});</script>"
      ]
     },
     "metadata": {},
     "output_type": "display_data"
    },
    {
     "data": {
      "application/vnd.plotly.v1+json": {
       "data": [
        {
         "legendgroup": "chart (1, 1)",
         "name": "chart (1, 1) 20190827",
         "type": "scatter",
         "uid": "eef489c6-1df1-11ea-8f7b-8c859025e7f9",
         "x": [
          -0.3,
          -0.25,
          -0.2,
          -0.15,
          -0.1,
          -0.05,
          0,
          0.05,
          0.1,
          0.15,
          0.2,
          0.25,
          0.3,
          0.35
         ],
         "xaxis": "x",
         "y": [
          0.588,
          0.4506,
          0.3129,
          0.1913,
          0.1083,
          0.0366,
          0,
          -0.0332,
          -0.0466,
          -0.0312,
          0.0259,
          0.127,
          0.1535,
          0.3063
         ],
         "yaxis": "y"
        },
        {
         "legendgroup": "chart (1, 1)",
         "name": "chart (1, 1) 20190828",
         "type": "scatter",
         "uid": "eef4fcd8-1df1-11ea-9bd2-8c859025e7f9",
         "x": [
          -0.3,
          -0.25,
          -0.2,
          -0.15,
          -0.1,
          -0.05,
          0,
          0.05,
          0.1,
          0.15,
          0.2,
          0.25,
          0.3,
          0.35
         ],
         "xaxis": "x",
         "y": [
          0.7485,
          0.5755,
          0.4059,
          0.2413,
          0.1406,
          0.0602,
          0,
          -0.0281,
          -0.0284,
          -0.0014,
          0.0289,
          0.1309,
          0.1785,
          0.3695
         ],
         "yaxis": "y"
        }
       ],
       "layout": {
        "annotations": [
         {
          "font": {
           "size": 16
          },
          "showarrow": false,
          "text": "NGV19 20190827 - 20190828",
          "x": 0.2275,
          "xanchor": "center",
          "xref": "paper",
          "y": 1,
          "yanchor": "bottom",
          "yref": "paper"
         }
        ],
        "autosize": true,
        "bargap": 0.05,
        "font": {
         "family": "Open Sans, sans-serif"
        },
        "height": 800,
        "hovermode": "x",
        "margin": {
         "b": 55,
         "l": 45,
         "r": 15,
         "t": 50
        },
        "plot_bgcolor": "#EFECEA",
        "showlegend": true,
        "title": "Skew plots<br>",
        "width": 900,
        "xaxis": {
         "anchor": "y",
         "domain": [
          0,
          0.455
         ],
         "tickangle": 45,
         "ticktext": [
          -0.3,
          -0.25,
          -0.2,
          -0.15,
          -0.1,
          -0.05,
          0,
          0.05,
          0.1,
          0.15,
          0.2,
          0.25,
          0.3,
          0.35
         ],
         "tickvals": [
          -0.3,
          -0.25,
          -0.2,
          -0.15,
          -0.1,
          -0.05,
          0,
          0.05,
          0.1,
          0.15,
          0.2,
          0.25,
          0.3,
          0.35
         ],
         "type": "category"
        },
        "xaxis2": {
         "anchor": "y2",
         "domain": [
          0.545,
          1
         ]
        },
        "xaxis3": {
         "anchor": "y3",
         "domain": [
          0,
          0.455
         ]
        },
        "xaxis4": {
         "anchor": "y4",
         "domain": [
          0.545,
          1
         ]
        },
        "yaxis": {
         "anchor": "x",
         "domain": [
          0.555,
          1
         ],
         "title": "vol skew"
        },
        "yaxis2": {
         "anchor": "x2",
         "domain": [
          0.555,
          1
         ]
        },
        "yaxis3": {
         "anchor": "x3",
         "domain": [
          0,
          0.445
         ]
        },
        "yaxis4": {
         "anchor": "x4",
         "domain": [
          0,
          0.445
         ]
        }
       }
      },
      "text/html": [
       "<div id=\"8c65f8c7-9d3e-4c0c-95f6-304ffa4f0f27\" style=\"height: 800px; width: 900px;\" class=\"plotly-graph-div\"></div><script type=\"text/javascript\">require([\"plotly\"], function(Plotly) { window.PLOTLYENV=window.PLOTLYENV || {};window.PLOTLYENV.BASE_URL=\"https://plot.ly\";Plotly.newPlot(\"8c65f8c7-9d3e-4c0c-95f6-304ffa4f0f27\", [{\"legendgroup\": \"chart (1, 1)\", \"name\": \"chart (1, 1) 20190827\", \"uid\": \"eef489c6-1df1-11ea-8f7b-8c859025e7f9\", \"x\": [-0.3, -0.25, -0.2, -0.15, -0.1, -0.05, 0.0, 0.05, 0.1, 0.15, 0.2, 0.25, 0.3, 0.35], \"y\": [0.588, 0.4506, 0.3129, 0.1913, 0.1083, 0.0366, 0.0, -0.0332, -0.0466, -0.0312, 0.0259, 0.127, 0.1535, 0.3063], \"yaxis\": \"y\", \"type\": \"scatter\", \"xaxis\": \"x\"}, {\"legendgroup\": \"chart (1, 1)\", \"name\": \"chart (1, 1) 20190828\", \"uid\": \"eef4fcd8-1df1-11ea-9bd2-8c859025e7f9\", \"x\": [-0.3, -0.25, -0.2, -0.15, -0.1, -0.05, 0.0, 0.05, 0.1, 0.15, 0.2, 0.25, 0.3, 0.35], \"y\": [0.7485, 0.5755, 0.4059, 0.2413, 0.1406, 0.0602, 0.0, -0.0281, -0.0284, -0.0014, 0.0289, 0.1309, 0.1785, 0.3695], \"yaxis\": \"y\", \"type\": \"scatter\", \"xaxis\": \"x\"}], {\"annotations\": [{\"font\": {\"size\": 16}, \"showarrow\": false, \"text\": \"NGV19 20190827 - 20190828\", \"x\": 0.2275, \"xanchor\": \"center\", \"xref\": \"paper\", \"y\": 1.0, \"yanchor\": \"bottom\", \"yref\": \"paper\"}], \"xaxis\": {\"anchor\": \"y\", \"domain\": [0.0, 0.455], \"tickangle\": 45, \"ticktext\": [-0.3, -0.25, -0.2, -0.15, -0.1, -0.05, 0.0, 0.05, 0.1, 0.15, 0.2, 0.25, 0.3, 0.35], \"tickvals\": [-0.3, -0.25, -0.2, -0.15, -0.1, -0.05, 0.0, 0.05, 0.1, 0.15, 0.2, 0.25, 0.3, 0.35], \"type\": \"category\"}, \"yaxis\": {\"anchor\": \"x\", \"domain\": [0.555, 1.0], \"title\": \"vol skew\"}, \"xaxis2\": {\"anchor\": \"y2\", \"domain\": [0.545, 1.0]}, \"yaxis2\": {\"anchor\": \"x2\", \"domain\": [0.555, 1.0]}, \"xaxis3\": {\"anchor\": \"y3\", \"domain\": [0.0, 0.455]}, \"yaxis3\": {\"anchor\": \"x3\", \"domain\": [0.0, 0.445]}, \"xaxis4\": {\"anchor\": \"y4\", \"domain\": [0.545, 1.0]}, \"yaxis4\": {\"anchor\": \"x4\", \"domain\": [0.0, 0.445]}, \"font\": {\"family\": \"Open Sans, sans-serif\"}, \"margin\": {\"b\": 55, \"l\": 45, \"r\": 15, \"t\": 50}, \"title\": \"Skew plots<br>\", \"showlegend\": true, \"hovermode\": \"x\", \"autosize\": true, \"width\": 900, \"height\": 800, \"plot_bgcolor\": \"#EFECEA\", \"bargap\": 0.05}, {\"showLink\": true, \"linkText\": \"Export to plot.ly\"})});</script>"
      ],
      "text/vnd.plotly.v1+html": [
       "<div id=\"8c65f8c7-9d3e-4c0c-95f6-304ffa4f0f27\" style=\"height: 800px; width: 900px;\" class=\"plotly-graph-div\"></div><script type=\"text/javascript\">require([\"plotly\"], function(Plotly) { window.PLOTLYENV=window.PLOTLYENV || {};window.PLOTLYENV.BASE_URL=\"https://plot.ly\";Plotly.newPlot(\"8c65f8c7-9d3e-4c0c-95f6-304ffa4f0f27\", [{\"legendgroup\": \"chart (1, 1)\", \"name\": \"chart (1, 1) 20190827\", \"uid\": \"eef489c6-1df1-11ea-8f7b-8c859025e7f9\", \"x\": [-0.3, -0.25, -0.2, -0.15, -0.1, -0.05, 0.0, 0.05, 0.1, 0.15, 0.2, 0.25, 0.3, 0.35], \"y\": [0.588, 0.4506, 0.3129, 0.1913, 0.1083, 0.0366, 0.0, -0.0332, -0.0466, -0.0312, 0.0259, 0.127, 0.1535, 0.3063], \"yaxis\": \"y\", \"type\": \"scatter\", \"xaxis\": \"x\"}, {\"legendgroup\": \"chart (1, 1)\", \"name\": \"chart (1, 1) 20190828\", \"uid\": \"eef4fcd8-1df1-11ea-9bd2-8c859025e7f9\", \"x\": [-0.3, -0.25, -0.2, -0.15, -0.1, -0.05, 0.0, 0.05, 0.1, 0.15, 0.2, 0.25, 0.3, 0.35], \"y\": [0.7485, 0.5755, 0.4059, 0.2413, 0.1406, 0.0602, 0.0, -0.0281, -0.0284, -0.0014, 0.0289, 0.1309, 0.1785, 0.3695], \"yaxis\": \"y\", \"type\": \"scatter\", \"xaxis\": \"x\"}], {\"annotations\": [{\"font\": {\"size\": 16}, \"showarrow\": false, \"text\": \"NGV19 20190827 - 20190828\", \"x\": 0.2275, \"xanchor\": \"center\", \"xref\": \"paper\", \"y\": 1.0, \"yanchor\": \"bottom\", \"yref\": \"paper\"}], \"xaxis\": {\"anchor\": \"y\", \"domain\": [0.0, 0.455], \"tickangle\": 45, \"ticktext\": [-0.3, -0.25, -0.2, -0.15, -0.1, -0.05, 0.0, 0.05, 0.1, 0.15, 0.2, 0.25, 0.3, 0.35], \"tickvals\": [-0.3, -0.25, -0.2, -0.15, -0.1, -0.05, 0.0, 0.05, 0.1, 0.15, 0.2, 0.25, 0.3, 0.35], \"type\": \"category\"}, \"yaxis\": {\"anchor\": \"x\", \"domain\": [0.555, 1.0], \"title\": \"vol skew\"}, \"xaxis2\": {\"anchor\": \"y2\", \"domain\": [0.545, 1.0]}, \"yaxis2\": {\"anchor\": \"x2\", \"domain\": [0.555, 1.0]}, \"xaxis3\": {\"anchor\": \"y3\", \"domain\": [0.0, 0.455]}, \"yaxis3\": {\"anchor\": \"x3\", \"domain\": [0.0, 0.445]}, \"xaxis4\": {\"anchor\": \"y4\", \"domain\": [0.545, 1.0]}, \"yaxis4\": {\"anchor\": \"x4\", \"domain\": [0.0, 0.445]}, \"font\": {\"family\": \"Open Sans, sans-serif\"}, \"margin\": {\"b\": 55, \"l\": 45, \"r\": 15, \"t\": 50}, \"title\": \"Skew plots<br>\", \"showlegend\": true, \"hovermode\": \"x\", \"autosize\": true, \"width\": 900, \"height\": 800, \"plot_bgcolor\": \"#EFECEA\", \"bargap\": 0.05}, {\"showLink\": true, \"linkText\": \"Export to plot.ly\"})});</script>"
      ]
     },
     "metadata": {},
     "output_type": "display_data"
    },
    {
     "data": {
      "application/vnd.plotly.v1+json": {
       "data": [
        {
         "legendgroup": "chart (1, 1)",
         "name": "chart (1, 1) 20190829",
         "type": "scatter",
         "uid": "ef043c3e-1df1-11ea-b965-8c859025e7f9",
         "x": [
          -0.1,
          -0.05,
          0,
          0.05,
          0.1,
          0.15,
          0.2,
          0.25
         ],
         "xaxis": "x",
         "y": [
          0.1644,
          0.0649,
          0,
          -0.0346,
          -0.0426,
          -0.0311,
          0.0455,
          0.1149
         ],
         "yaxis": "y"
        }
       ],
       "layout": {
        "annotations": [
         {
          "font": {
           "size": 16
          },
          "showarrow": false,
          "text": "NGX19 20190829 - 20190829",
          "x": 0.2275,
          "xanchor": "center",
          "xref": "paper",
          "y": 1,
          "yanchor": "bottom",
          "yref": "paper"
         }
        ],
        "autosize": true,
        "bargap": 0.05,
        "font": {
         "family": "Open Sans, sans-serif"
        },
        "height": 800,
        "hovermode": "x",
        "margin": {
         "b": 55,
         "l": 45,
         "r": 15,
         "t": 50
        },
        "plot_bgcolor": "#EFECEA",
        "showlegend": true,
        "title": "Skew plots<br>",
        "width": 900,
        "xaxis": {
         "anchor": "y",
         "domain": [
          0,
          0.455
         ],
         "tickangle": 45,
         "ticktext": [
          -0.1,
          -0.05,
          0,
          0.05,
          0.1,
          0.15,
          0.2,
          0.25
         ],
         "tickvals": [
          -0.1,
          -0.05,
          0,
          0.05,
          0.1,
          0.15,
          0.2,
          0.25
         ],
         "type": "category"
        },
        "xaxis2": {
         "anchor": "y2",
         "domain": [
          0.545,
          1
         ]
        },
        "xaxis3": {
         "anchor": "y3",
         "domain": [
          0,
          0.455
         ]
        },
        "xaxis4": {
         "anchor": "y4",
         "domain": [
          0.545,
          1
         ]
        },
        "yaxis": {
         "anchor": "x",
         "domain": [
          0.555,
          1
         ],
         "title": "vol skew"
        },
        "yaxis2": {
         "anchor": "x2",
         "domain": [
          0.555,
          1
         ]
        },
        "yaxis3": {
         "anchor": "x3",
         "domain": [
          0,
          0.445
         ]
        },
        "yaxis4": {
         "anchor": "x4",
         "domain": [
          0,
          0.445
         ]
        }
       }
      },
      "text/html": [
       "<div id=\"6953e402-5761-4db6-be3c-4537ab3b95f8\" style=\"height: 800px; width: 900px;\" class=\"plotly-graph-div\"></div><script type=\"text/javascript\">require([\"plotly\"], function(Plotly) { window.PLOTLYENV=window.PLOTLYENV || {};window.PLOTLYENV.BASE_URL=\"https://plot.ly\";Plotly.newPlot(\"6953e402-5761-4db6-be3c-4537ab3b95f8\", [{\"legendgroup\": \"chart (1, 1)\", \"name\": \"chart (1, 1) 20190829\", \"uid\": \"ef043c3e-1df1-11ea-b965-8c859025e7f9\", \"x\": [-0.1, -0.05, 0.0, 0.05, 0.1, 0.15, 0.2, 0.25], \"y\": [0.1644, 0.0649, 0.0, -0.0346, -0.0426, -0.0311, 0.0455, 0.1149], \"yaxis\": \"y\", \"type\": \"scatter\", \"xaxis\": \"x\"}], {\"annotations\": [{\"font\": {\"size\": 16}, \"showarrow\": false, \"text\": \"NGX19 20190829 - 20190829\", \"x\": 0.2275, \"xanchor\": \"center\", \"xref\": \"paper\", \"y\": 1.0, \"yanchor\": \"bottom\", \"yref\": \"paper\"}], \"xaxis\": {\"anchor\": \"y\", \"domain\": [0.0, 0.455], \"tickangle\": 45, \"ticktext\": [-0.1, -0.05, 0.0, 0.05, 0.1, 0.15, 0.2, 0.25], \"tickvals\": [-0.1, -0.05, 0.0, 0.05, 0.1, 0.15, 0.2, 0.25], \"type\": \"category\"}, \"yaxis\": {\"anchor\": \"x\", \"domain\": [0.555, 1.0], \"title\": \"vol skew\"}, \"xaxis2\": {\"anchor\": \"y2\", \"domain\": [0.545, 1.0]}, \"yaxis2\": {\"anchor\": \"x2\", \"domain\": [0.555, 1.0]}, \"xaxis3\": {\"anchor\": \"y3\", \"domain\": [0.0, 0.455]}, \"yaxis3\": {\"anchor\": \"x3\", \"domain\": [0.0, 0.445]}, \"xaxis4\": {\"anchor\": \"y4\", \"domain\": [0.545, 1.0]}, \"yaxis4\": {\"anchor\": \"x4\", \"domain\": [0.0, 0.445]}, \"font\": {\"family\": \"Open Sans, sans-serif\"}, \"margin\": {\"b\": 55, \"l\": 45, \"r\": 15, \"t\": 50}, \"title\": \"Skew plots<br>\", \"showlegend\": true, \"hovermode\": \"x\", \"autosize\": true, \"width\": 900, \"height\": 800, \"plot_bgcolor\": \"#EFECEA\", \"bargap\": 0.05}, {\"showLink\": true, \"linkText\": \"Export to plot.ly\"})});</script>"
      ],
      "text/vnd.plotly.v1+html": [
       "<div id=\"6953e402-5761-4db6-be3c-4537ab3b95f8\" style=\"height: 800px; width: 900px;\" class=\"plotly-graph-div\"></div><script type=\"text/javascript\">require([\"plotly\"], function(Plotly) { window.PLOTLYENV=window.PLOTLYENV || {};window.PLOTLYENV.BASE_URL=\"https://plot.ly\";Plotly.newPlot(\"6953e402-5761-4db6-be3c-4537ab3b95f8\", [{\"legendgroup\": \"chart (1, 1)\", \"name\": \"chart (1, 1) 20190829\", \"uid\": \"ef043c3e-1df1-11ea-b965-8c859025e7f9\", \"x\": [-0.1, -0.05, 0.0, 0.05, 0.1, 0.15, 0.2, 0.25], \"y\": [0.1644, 0.0649, 0.0, -0.0346, -0.0426, -0.0311, 0.0455, 0.1149], \"yaxis\": \"y\", \"type\": \"scatter\", \"xaxis\": \"x\"}], {\"annotations\": [{\"font\": {\"size\": 16}, \"showarrow\": false, \"text\": \"NGX19 20190829 - 20190829\", \"x\": 0.2275, \"xanchor\": \"center\", \"xref\": \"paper\", \"y\": 1.0, \"yanchor\": \"bottom\", \"yref\": \"paper\"}], \"xaxis\": {\"anchor\": \"y\", \"domain\": [0.0, 0.455], \"tickangle\": 45, \"ticktext\": [-0.1, -0.05, 0.0, 0.05, 0.1, 0.15, 0.2, 0.25], \"tickvals\": [-0.1, -0.05, 0.0, 0.05, 0.1, 0.15, 0.2, 0.25], \"type\": \"category\"}, \"yaxis\": {\"anchor\": \"x\", \"domain\": [0.555, 1.0], \"title\": \"vol skew\"}, \"xaxis2\": {\"anchor\": \"y2\", \"domain\": [0.545, 1.0]}, \"yaxis2\": {\"anchor\": \"x2\", \"domain\": [0.555, 1.0]}, \"xaxis3\": {\"anchor\": \"y3\", \"domain\": [0.0, 0.455]}, \"yaxis3\": {\"anchor\": \"x3\", \"domain\": [0.0, 0.445]}, \"xaxis4\": {\"anchor\": \"y4\", \"domain\": [0.545, 1.0]}, \"yaxis4\": {\"anchor\": \"x4\", \"domain\": [0.0, 0.445]}, \"font\": {\"family\": \"Open Sans, sans-serif\"}, \"margin\": {\"b\": 55, \"l\": 45, \"r\": 15, \"t\": 50}, \"title\": \"Skew plots<br>\", \"showlegend\": true, \"hovermode\": \"x\", \"autosize\": true, \"width\": 900, \"height\": 800, \"plot_bgcolor\": \"#EFECEA\", \"bargap\": 0.05}, {\"showLink\": true, \"linkText\": \"Export to plot.ly\"})});</script>"
      ]
     },
     "metadata": {},
     "output_type": "display_data"
    }
   ],
   "source": [
    "grid_plot=True\n",
    "# clist = [c for c in all_contracts if (c[:2]==f'{SYMBOL_TO_RESEARCH}') & (int(c[-2:])>=19)]\n",
    "clist = [c for c in df_iv_final.symbol.unique() if (c[:2]==f'{SYMBOL_TO_RESEARCH}') & (int(c[-2:])>=19)]\n",
    "for c in clist:\n",
    "    dft = df_iv_final[df_iv_final.symbol==c]\n",
    "    if len(dft)<=0:\n",
    "        print(f'no data for symbol {c}')\n",
    "        continue\n",
    "    if grid_plot:\n",
    "        graph_skew_subplots(df_iv_final[df_iv_final.symbol==c])\n",
    "    else:\n",
    "        rls = graph_skew(df_iv_final[df_iv_final.symbol==c],do_plot=True)        "
   ]
  },
  {
   "cell_type": "markdown",
   "metadata": {},
   "source": [
    "## END"
   ]
  }
 ],
 "metadata": {
  "kernelspec": {
   "display_name": "Python 3",
   "language": "python",
   "name": "python3"
  },
  "language_info": {
   "codemirror_mode": {
    "name": "ipython",
    "version": 3
   },
   "file_extension": ".py",
   "mimetype": "text/x-python",
   "name": "python",
   "nbconvert_exporter": "python",
   "pygments_lexer": "ipython3",
   "version": "3.6.5"
  }
 },
 "nbformat": 4,
 "nbformat_minor": 2
}
