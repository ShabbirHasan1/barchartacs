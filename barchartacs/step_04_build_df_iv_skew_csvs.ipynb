{
 "cells": [
  {
   "cell_type": "markdown",
   "metadata": {},
   "source": [
    "This notebooks builds 2 csv files for any commodity that you specify in the variable `SYMBOL_TO_RESEARCH`\n",
    "\n",
    "The csv files are then written to as follows:\n",
    "```\n",
    "df_iv_final.to_csv(f'./temp_folder/df_iv_final_{SYMBOL_TO_RESEARCH}.csv',index=False)\n",
    "df_iv_skew.to_csv(f'./temp_folder/df_iv_skew_{SYMBOL_TO_RESEARCH}.csv',index=False)\n",
    "```\n",
    "\n",
    "They can be copied to the volgrid project to be used by the Dash server that displays skew graphs for ES, CL and CB (Brent)."
   ]
  },
  {
   "cell_type": "code",
   "execution_count": 70,
   "metadata": {},
   "outputs": [
    {
     "data": {
      "text/html": [
       "<script>requirejs.config({paths: { 'plotly': ['https://cdn.plot.ly/plotly-latest.min']},});if(!window.Plotly) {{require(['plotly'],function(plotly) {window.Plotly=plotly;});}}</script>"
      ],
      "text/vnd.plotly.v1+html": [
       "<script>requirejs.config({paths: { 'plotly': ['https://cdn.plot.ly/plotly-latest.min']},});if(!window.Plotly) {{require(['plotly'],function(plotly) {window.Plotly=plotly;});}}</script>"
      ]
     },
     "metadata": {},
     "output_type": "display_data"
    }
   ],
   "source": [
    "import zipfile\n",
    "import glob\n",
    "import pandas as pd\n",
    "import numpy as np\n",
    "\n",
    "from argparse import ArgumentParser\n",
    "from argparse import RawDescriptionHelpFormatter\n",
    "import sys\n",
    "import os\n",
    "if  not './' in sys.path:\n",
    "    sys.path.append('./')\n",
    "if  not '../' in sys.path:\n",
    "    sys.path.append('../')\n",
    "\n",
    "from barchartacs import build_db\n",
    "from barchartacs import db_info\n",
    "import plotly.graph_objs as go\n",
    "from plotly.offline import  init_notebook_mode, iplot\n",
    "init_notebook_mode(connected=True)\n",
    "import plotly.tools as tls\n",
    "from plotly.graph_objs.layout import Font,Margin\n",
    "from IPython import display\n",
    "\n",
    "import datetime\n",
    "import io\n",
    "from tqdm import tqdm,tqdm_notebook\n",
    "from barchartacs import pg_pandas as pg\n",
    "import mibian\n",
    "import py_vollib\n",
    "import importlib\n",
    "from py_vollib import black\n",
    "from py_vollib.black import implied_volatility\n",
    "import ipdb\n",
    "import traceback\n",
    "\n",
    "MONTH_CODES = 'FGHJKMNQUVXZ'\n",
    "DICT_MONTH_NUMS = {MONTH_CODES[i]:i+1 for i in range(len(MONTH_CODES))}\n",
    "\n",
    "# importlib.reload(db_info)"
   ]
  },
  {
   "cell_type": "markdown",
   "metadata": {},
   "source": [
    "### important global variables"
   ]
  },
  {
   "cell_type": "code",
   "execution_count": 71,
   "metadata": {},
   "outputs": [
    {
     "name": "stdout",
     "output_type": "stream",
     "text": [
      "  sec_db\n"
     ]
    }
   ],
   "source": [
    "\n",
    "DEBUG_IT=False\n",
    "opttab = 'sec_schema.options_table'\n",
    "futtab = 'sec_schema.underlying_table'\n",
    "pga = db_info.get_db_info()\n",
    "SYMBOL_TO_RESEARCH = 'CB'\n",
    "STRIKE_DIVISORS = {}\n",
    "\n",
    "# df_expiry_dates_additions = pd.read_csv('df_expiry_dates_additions.csv')\n",
    "df_expiry_dates_additions = pd.read_csv('live_option_expirations.csv')\n"
   ]
  },
  {
   "cell_type": "code",
   "execution_count": 72,
   "metadata": {
    "scrolled": true
   },
   "outputs": [],
   "source": [
    "USE_PYVOL = True\n",
    "def lam_pyvol(r):\n",
    "    try:\n",
    "        return implied_volatility.implied_volatility(r.close_x,r.close_y,r.strike,.02,r.dte/365, r.pc.lower())\n",
    "    except:\n",
    "        return -1\n",
    "# lam_pyvol = lambda r:implied_volatility.implied_volatility(r.close_x,r.close_y,r.strike,.02,r.dte/365, r.pc.lower())\n",
    "lam_mibian = lambda r:mibian.BS([r.close_y,r.strike,2,r.dte], callPrice=r.close_x).impliedVolatility\n",
    "\n",
    "def get_implieds(df,df_expiry_dates,contract):\n",
    "    df2 = df[['symbol','contract_num','pc','settle_date','strike','close_x','close_y']]\n",
    "    df2 = df2[(((df2.pc=='C' )& (df2.strike>=df2.close_y)) | ((df2.pc=='P' ) & (df2.strike<df2.close_y)))  & (df2.symbol.str.contains(contract))]\n",
    "    cnum = _get_contract_number_from_symbol(contract)\n",
    "    df2 = df2[df2.contract_num==2]\n",
    "    phigh = df2.close_y.max()\n",
    "    plow = df2.close_y.min()\n",
    "    high_strike = round(phigh * 1.3)\n",
    "    low_strike = round(plow * .7)\n",
    "    df2 = df2[(df2.strike>=low_strike) & (df2.strike<=high_strike)]\n",
    "\n",
    "    df9 = df2[df2.symbol==contract]\n",
    "    df9 = df9.merge(df_expiry_dates.rename(columns={'settle_date':'expiry'}),on='symbol',how='inner')\n",
    "    df9['syear'] = df9.settle_date.astype(str).str.slice(0,4).astype(int)\n",
    "    df9['smon'] = df9.settle_date.astype(str).str.slice(4,6).astype(int)\n",
    "    df9['sday'] = df9.settle_date.astype(str).str.slice(6,8).astype(int)\n",
    "    df9['eyear'] = df9.expiry.astype(str).str.slice(0,4).astype(int)\n",
    "    df9['emon'] = df9.expiry.astype(str).str.slice(4,6).astype(int)\n",
    "    df9['eday'] = df9.expiry.astype(str).str.slice(6,8).astype(int)\n",
    "    df9['sdatetime'] = df9.apply(lambda r:datetime.datetime(r.syear,r.smon,r.sday),axis=1)\n",
    "    df9['edatetime'] = df9.apply(lambda r:datetime.datetime(r.eyear,r.emon,r.eday),axis=1)\n",
    "    df9['dte'] = df9.edatetime - df9.sdatetime\n",
    "    df9.dte = df9.dte.dt.days\n",
    "    df9 = df9[['symbol','settle_date','pc','contract_num','strike','close_x','close_y','dte']]\n",
    "    df10 = df9.iloc[:len(df9)].copy()\n",
    "    df10.index = list(range(len(df10)))\n",
    "    if USE_PYVOL:\n",
    "        df10['iv'] = df10.apply(lam_pyvol,axis=1)\n",
    "    else:\n",
    "        n = 100\n",
    "        for i in tqdm_notebook(np.arange(0,len(df10)-n,n)):\n",
    "                df10.loc[i:i+n,'iv'] = df10.loc[i:i+n].apply(lam_mibian,axis=1)\n",
    "        print(f'doing remaining {datetime.datetime.now()}')\n",
    "        i = df10[df10.iv.isna()].index[0]\n",
    "        df10.loc[i:,'iv'] = df10.loc[i:].apply(lam_mbian,axis=1)\n",
    "        print(f'done with remaining {datetime.datetime.now()}')\n",
    "    return df10\n",
    "\n"
   ]
  },
  {
   "cell_type": "markdown",
   "metadata": {},
   "source": [
    "#### example of using mibian for options calcs (we use py_vollib instead)"
   ]
  },
  {
   "cell_type": "code",
   "execution_count": 73,
   "metadata": {},
   "outputs": [],
   "source": [
    "def _test_mibian():\n",
    "    underlying=1.4565\n",
    "    strike=1.45\n",
    "    interest = 1\n",
    "    days=30\n",
    "    opt_info = [underlying,strike,interest,days]\n",
    "    c = mibian.BS(opt_info, volatility=20)\n",
    "    print(c.callPrice,\n",
    "    c.putPrice,\n",
    "    c.callDelta,\n",
    "    c.putDelta,\n",
    "    c.callDelta2,\n",
    "    c.putDelta2,\n",
    "    c.callTheta,\n",
    "    c.putTheta,\n",
    "    c.callRho,\n",
    "    c.putRho,\n",
    "    c.vega,\n",
    "    c.gamma)\n",
    "\n",
    "\n",
    "    co = mibian.BS(opt_info, callPrice=c.callPrice)\n",
    "    co.impliedVolatility"
   ]
  },
  {
   "cell_type": "markdown",
   "metadata": {},
   "source": [
    "#### Show simple example of using py_vol package"
   ]
  },
  {
   "cell_type": "code",
   "execution_count": 74,
   "metadata": {},
   "outputs": [],
   "source": [
    "def _test_py_vollib():\n",
    "    #CL,Q2019,560P,07/02/2019,0.6,1.61,0.54,1.54,1997,4465\n",
    "    F = 56.25\n",
    "    K = 56\n",
    "    sigma = .366591539\n",
    "    flag = 'p'\n",
    "    t = 15/365.0\n",
    "    r = .025\n",
    "    discounted_call_price = black.black(flag, F, K, t, r, sigma)\n",
    "    dcp = 1.54\n",
    "    ivpy = implied_volatility.implied_volatility(dcp, F, K, r, t, flag)\n",
    "    ivmn = mibian.BS([F,K,2.5,15], callPrice=dcp).impliedVolatility\n",
    "    discounted_call_price,ivpy,ivmn\n"
   ]
  },
  {
   "cell_type": "code",
   "execution_count": 75,
   "metadata": {},
   "outputs": [],
   "source": [
    "def plotly_plot(df_in,x_column,plot_title=None,\n",
    "                y_left_label=None,y_right_label=None,\n",
    "                bar_plot=False,figsize=(16,10),\n",
    "                number_of_ticks_display=20,\n",
    "                yaxis2_cols=None):\n",
    "    ya2c = [] if yaxis2_cols is None else yaxis2_cols\n",
    "    ycols = [c for c in df_in.columns.values if c != x_column]\n",
    "    # create tdvals, which will have x axis labels\n",
    "    td = list(df_in[x_column]) \n",
    "    nt = len(df_in)-1 if number_of_ticks_display > len(df_in) else number_of_ticks_display\n",
    "    spacing = len(td)//nt\n",
    "    tdvals = td[::spacing]\n",
    "    \n",
    "    # create data for graph\n",
    "    data = []\n",
    "    # iterate through all ycols to append to data that gets passed to go.Figure\n",
    "    for ycol in ycols:\n",
    "        if bar_plot:\n",
    "            b = go.Bar(x=td,y=df_in[ycol],name=ycol,yaxis='y' if ycol not in ya2c else 'y2')\n",
    "        else:\n",
    "            b = go.Scatter(x=td,y=df_in[ycol],name=ycol,yaxis='y' if ycol not in ya2c else 'y2')\n",
    "        data.append(b)\n",
    "\n",
    "    # create a layout\n",
    "    layout = go.Layout(\n",
    "        title=plot_title,\n",
    "        xaxis=dict(\n",
    "            ticktext=tdvals,\n",
    "            tickvals=tdvals,\n",
    "            tickangle=45,\n",
    "            type='category'),\n",
    "        yaxis=dict(\n",
    "            title='y main' if y_left_label is None else y_left_label\n",
    "        ),\n",
    "        yaxis2=dict(\n",
    "            title='y alt' if y_right_label is None else y_right_label,\n",
    "            overlaying='y',\n",
    "            side='right'),\n",
    "        margin=Margin(\n",
    "            b=100\n",
    "        )        \n",
    "    )\n",
    "\n",
    "    fig = go.Figure(data=data,layout=layout)\n",
    "    return fig\n"
   ]
  },
  {
   "cell_type": "markdown",
   "metadata": {},
   "source": [
    "#### Define method to get a contract from postgres"
   ]
  },
  {
   "cell_type": "code",
   "execution_count": 76,
   "metadata": {},
   "outputs": [],
   "source": [
    "def _next_monthyear_code(contract):\n",
    "    code_val = contract[-3]\n",
    "    code_num = DICT_MONTH_NUMS[code_val]\n",
    "    y = int(contract[-2:])\n",
    "    if code_num+1>12:\n",
    "        next_code_num = 1\n",
    "        next_y = y + 1\n",
    "    else:\n",
    "        next_code_num = code_num+1\n",
    "        next_y = y\n",
    "    next_code_val = MONTH_CODES[next_code_num-1]\n",
    "    next_contract = contract[0:-3] + next_code_val + '%02d' %(next_y)\n",
    "    return next_contract\n",
    "\n",
    "def get_postgres_data(contract,strike_divisor=None):\n",
    "    '''\n",
    "    Get options and underlying data for ONLY ONE CONTRACT\n",
    "    '''\n",
    "    osql = f\"select * from {opttab} where symbol='{contract}';\"\n",
    "    dfo = pga.get_sql(osql)\n",
    "    if len(dfo)<10:\n",
    "        e = f'''\n",
    "        get_postgres_data ERROR: not enough option data for contract {contract} \n",
    "        '''\n",
    "        raise ValueError(e)\n",
    "    num_settle_days = len(dfo.settle_date.unique())\n",
    "    u_contract = contract\n",
    "    for i in range(12):\n",
    "        usql = f\"select * from {futtab} where symbol='{u_contract}';\"\n",
    "        dfu = pga.get_sql(usql)\n",
    "        if len(dfu) < num_settle_days:\n",
    "            u_contract = _next_monthyear_code(u_contract)\n",
    "            print(f'trying contract {u_contract}')\n",
    "        else:\n",
    "            break\n",
    "\n",
    "    if len(dfu)< num_settle_days:\n",
    "        e = f'''\n",
    "        get_postgres_data ERROR: not enough underlying days found for options contract {contract} \n",
    "        where len(underlying) = {len(dfu)} and num_settle_days = {num_settle_days}\n",
    "        '''\n",
    "        raise ValueError(e)\n",
    "    # Merge options and futures data\n",
    "    dfu = dfu.rename(columns={'symbol':'u_symbol'})\n",
    "    df = dfo.merge(dfu,how='inner',on=['settle_date'])\n",
    "    # Get options expiration dates\n",
    "    df_expiry_dates = dfo[['symbol','settle_date']].groupby('symbol',as_index=False).max()\n",
    "    df_additions = df_expiry_dates_additions[df_expiry_dates_additions.symbol==contract]\n",
    "    df_additions = df_additions[['symbol','yyyymmdd_option']].rename(columns={'yyyymmdd_option':'settle_date'})\n",
    "    additional_symbols = df_additions.symbol.values\n",
    "    df_expiry_dates = df_expiry_dates[~df_expiry_dates.symbol.isin(additional_symbols)]\n",
    "    df_expiry_dates = df_expiry_dates.append(df_additions).sort_values('symbol').copy()\n",
    "    if strike_divisor is not None:\n",
    "        df.strike = df.strike/strike_divisor\n",
    "    return df,df_expiry_dates"
   ]
  },
  {
   "cell_type": "code",
   "execution_count": 77,
   "metadata": {},
   "outputs": [],
   "source": [
    "def _get_contract_number_from_symbol(symbol):\n",
    "    c = symbol[0:2]\n",
    "    if c in ['CL','CB','ES','GE','NG']:\n",
    "        return 2\n",
    "    return 2"
   ]
  },
  {
   "cell_type": "markdown",
   "metadata": {},
   "source": [
    "### Use py_vol to get options skews by percent in/out of the money (moneyness)"
   ]
  },
  {
   "cell_type": "markdown",
   "metadata": {},
   "source": [
    "#### Add in even \"amount in/out the money strikes, and interpolate their implied vols and skews"
   ]
  },
  {
   "cell_type": "code",
   "execution_count": 78,
   "metadata": {
    "scrolled": true
   },
   "outputs": [],
   "source": [
    "def get_even_moneyness_strikes(df10):\n",
    "    # define amounts around the money which will help create strikes to add\n",
    "    moneyness = np.arange(.7,1.4,.05).round(6)\n",
    "    # define columns on which to execute groupby\n",
    "#     gb_cols = ['symbol','settle_date','pc','contract_num','dte','close_y']\n",
    "    gb_cols = ['symbol','settle_date','contract_num','dte','close_y']\n",
    "    # define function used in groupby.apply to create strikes and iv's at those strikes\n",
    "    #   where the strikes are an even amount from the money \n",
    "    #   (like .7, .8, ... 1, 1.1, 1.2, etc)\n",
    "    def _add_even_moneyness_strikes(df):\n",
    "        # get underlying from first row (the groupby makes them all the same)\n",
    "        r = df.iloc[0]\n",
    "        underlying = r.close_y\n",
    "        # create new rows to append to df, using only the gb_cols\n",
    "        df_ret1 = df.iloc[:len(moneyness)][gb_cols].copy()\n",
    "        # add nan iv's !!!! MUST BE np.nan - NOT None\n",
    "        df_ret1['iv'] = np.nan\n",
    "        # add new strikes\n",
    "        df_ret1['strike'] = moneyness * underlying\n",
    "        # append the new strikes\n",
    "        try:\n",
    "            # try with using the sort=True options for versions of pandas after 0.23\n",
    "            dfa = df.append(df_ret1,ignore_index=True,sort=True).copy()\n",
    "        except:\n",
    "            # otherwise do not specify sort\n",
    "            dfa = df.append(df_ret1,ignore_index=True).copy()\n",
    "        df_ret2 = dfa.sort_values(['symbol','settle_date','pc','strike'])\n",
    "        df_ret2 = df_ret2.drop_duplicates(subset='strike')\n",
    "        # set the index to the strike so that interpolate works\n",
    "        df_ret2.index = df_ret2.strike\n",
    "        # create interpolated iv's\n",
    "        df_ret2['iv'] = df_ret2.iv.interpolate(method='polynomial', order=2)\n",
    "        # reset the index\n",
    "        df_ret2.index = list(range(len(df_ret2)))\n",
    "        return df_ret2\n",
    "\n",
    "    # start here\n",
    "    df11 = df10.groupby(gb_cols).apply(_add_even_moneyness_strikes).copy()\n",
    "    df11.index = list(range(len(df11)))\n",
    "    df11['moneyness'] = df11.strike / df11.close_y\n",
    "    df11.moneyness = df11.moneyness.round(4)\n",
    "\n",
    "    df12 = df11[(df11.moneyness.isin(moneyness)) & (~df11.iv.isna())].copy()\n",
    "    df12.moneyness  = df12.moneyness - 1\n",
    "    df12.index = list(range(len(df12)))\n",
    "    df12_atm = df12[df12.moneyness==0][['symbol','settle_date','pc','iv']]\n",
    "    df12_atm = df12_atm.rename(columns={'iv':'atm_iv'})\n",
    "    \n",
    "    df12_atm = df12_atm.drop_duplicates()\n",
    "    df12 = df12.merge(df12_atm,on=['symbol','settle_date','pc'],how='inner')\n",
    "    df12.moneyness = df12.moneyness.round(4)\n",
    "    df12['vol_skew'] = (df12.iv - df12.atm_iv).round(4)\n",
    "    return df12\n",
    "\n"
   ]
  },
  {
   "cell_type": "markdown",
   "metadata": {},
   "source": [
    "#### get all contracts in the options database"
   ]
  },
  {
   "cell_type": "code",
   "execution_count": 79,
   "metadata": {
    "scrolled": true
   },
   "outputs": [
    {
     "data": {
      "text/plain": [
       "155"
      ]
     },
     "execution_count": 79,
     "metadata": {},
     "output_type": "execute_result"
    }
   ],
   "source": [
    "all_contracts = pga.get_sql(f\"select distinct symbol from {opttab} where symbol~'^{SYMBOL_TO_RESEARCH}'\").sort_values('symbol').values.reshape(-1)\n",
    "len(all_contracts)"
   ]
  },
  {
   "cell_type": "markdown",
   "metadata": {},
   "source": [
    "#### show last dates"
   ]
  },
  {
   "cell_type": "code",
   "execution_count": 80,
   "metadata": {
    "scrolled": true
   },
   "outputs": [
    {
     "data": {
      "text/html": [
       "<div>\n",
       "<style scoped>\n",
       "    .dataframe tbody tr th:only-of-type {\n",
       "        vertical-align: middle;\n",
       "    }\n",
       "\n",
       "    .dataframe tbody tr th {\n",
       "        vertical-align: top;\n",
       "    }\n",
       "\n",
       "    .dataframe thead th {\n",
       "        text-align: right;\n",
       "    }\n",
       "</style>\n",
       "<table border=\"1\" class=\"dataframe\">\n",
       "  <thead>\n",
       "    <tr style=\"text-align: right;\">\n",
       "      <th></th>\n",
       "      <th>symbol</th>\n",
       "      <th>count</th>\n",
       "    </tr>\n",
       "  </thead>\n",
       "  <tbody>\n",
       "    <tr>\n",
       "      <th>0</th>\n",
       "      <td>CBF12</td>\n",
       "      <td>173555</td>\n",
       "    </tr>\n",
       "    <tr>\n",
       "      <th>1</th>\n",
       "      <td>CBF13</td>\n",
       "      <td>359897</td>\n",
       "    </tr>\n",
       "    <tr>\n",
       "      <th>2</th>\n",
       "      <td>CBF14</td>\n",
       "      <td>42321</td>\n",
       "    </tr>\n",
       "    <tr>\n",
       "      <th>3</th>\n",
       "      <td>CBF15</td>\n",
       "      <td>35860</td>\n",
       "    </tr>\n",
       "    <tr>\n",
       "      <th>4</th>\n",
       "      <td>CBF16</td>\n",
       "      <td>61526</td>\n",
       "    </tr>\n",
       "    <tr>\n",
       "      <th>5</th>\n",
       "      <td>CBF17</td>\n",
       "      <td>99306</td>\n",
       "    </tr>\n",
       "    <tr>\n",
       "      <th>6</th>\n",
       "      <td>CBF18</td>\n",
       "      <td>123896</td>\n",
       "    </tr>\n",
       "    <tr>\n",
       "      <th>7</th>\n",
       "      <td>CBF19</td>\n",
       "      <td>147849</td>\n",
       "    </tr>\n",
       "    <tr>\n",
       "      <th>8</th>\n",
       "      <td>CBF20</td>\n",
       "      <td>138522</td>\n",
       "    </tr>\n",
       "    <tr>\n",
       "      <th>9</th>\n",
       "      <td>CBF21</td>\n",
       "      <td>91964</td>\n",
       "    </tr>\n",
       "    <tr>\n",
       "      <th>10</th>\n",
       "      <td>CBF22</td>\n",
       "      <td>42570</td>\n",
       "    </tr>\n",
       "    <tr>\n",
       "      <th>11</th>\n",
       "      <td>CBF23</td>\n",
       "      <td>14256</td>\n",
       "    </tr>\n",
       "    <tr>\n",
       "      <th>12</th>\n",
       "      <td>CBG11</td>\n",
       "      <td>2888</td>\n",
       "    </tr>\n",
       "    <tr>\n",
       "      <th>13</th>\n",
       "      <td>CBG12</td>\n",
       "      <td>188873</td>\n",
       "    </tr>\n",
       "    <tr>\n",
       "      <th>14</th>\n",
       "      <td>CBG13</td>\n",
       "      <td>373557</td>\n",
       "    </tr>\n",
       "    <tr>\n",
       "      <th>15</th>\n",
       "      <td>CBG14</td>\n",
       "      <td>38786</td>\n",
       "    </tr>\n",
       "    <tr>\n",
       "      <th>16</th>\n",
       "      <td>CBG15</td>\n",
       "      <td>37198</td>\n",
       "    </tr>\n",
       "    <tr>\n",
       "      <th>17</th>\n",
       "      <td>CBG16</td>\n",
       "      <td>62922</td>\n",
       "    </tr>\n",
       "    <tr>\n",
       "      <th>18</th>\n",
       "      <td>CBG17</td>\n",
       "      <td>101848</td>\n",
       "    </tr>\n",
       "    <tr>\n",
       "      <th>19</th>\n",
       "      <td>CBG18</td>\n",
       "      <td>124736</td>\n",
       "    </tr>\n",
       "    <tr>\n",
       "      <th>20</th>\n",
       "      <td>CBG19</td>\n",
       "      <td>156904</td>\n",
       "    </tr>\n",
       "    <tr>\n",
       "      <th>21</th>\n",
       "      <td>CBG20</td>\n",
       "      <td>133982</td>\n",
       "    </tr>\n",
       "    <tr>\n",
       "      <th>22</th>\n",
       "      <td>CBG21</td>\n",
       "      <td>92019</td>\n",
       "    </tr>\n",
       "    <tr>\n",
       "      <th>23</th>\n",
       "      <td>CBG22</td>\n",
       "      <td>42569</td>\n",
       "    </tr>\n",
       "    <tr>\n",
       "      <th>24</th>\n",
       "      <td>CBG23</td>\n",
       "      <td>14256</td>\n",
       "    </tr>\n",
       "    <tr>\n",
       "      <th>25</th>\n",
       "      <td>CBH11</td>\n",
       "      <td>17328</td>\n",
       "    </tr>\n",
       "    <tr>\n",
       "      <th>26</th>\n",
       "      <td>CBH12</td>\n",
       "      <td>203543</td>\n",
       "    </tr>\n",
       "    <tr>\n",
       "      <th>27</th>\n",
       "      <td>CBH13</td>\n",
       "      <td>373845</td>\n",
       "    </tr>\n",
       "    <tr>\n",
       "      <th>28</th>\n",
       "      <td>CBH14</td>\n",
       "      <td>45222</td>\n",
       "    </tr>\n",
       "    <tr>\n",
       "      <th>29</th>\n",
       "      <td>CBH15</td>\n",
       "      <td>47994</td>\n",
       "    </tr>\n",
       "    <tr>\n",
       "      <th>...</th>\n",
       "      <td>...</td>\n",
       "      <td>...</td>\n",
       "    </tr>\n",
       "    <tr>\n",
       "      <th>125</th>\n",
       "      <td>CBV20</td>\n",
       "      <td>127433</td>\n",
       "    </tr>\n",
       "    <tr>\n",
       "      <th>126</th>\n",
       "      <td>CBV21</td>\n",
       "      <td>90615</td>\n",
       "    </tr>\n",
       "    <tr>\n",
       "      <th>127</th>\n",
       "      <td>CBV22</td>\n",
       "      <td>43513</td>\n",
       "    </tr>\n",
       "    <tr>\n",
       "      <th>128</th>\n",
       "      <td>CBV23</td>\n",
       "      <td>10800</td>\n",
       "    </tr>\n",
       "    <tr>\n",
       "      <th>129</th>\n",
       "      <td>CBX11</td>\n",
       "      <td>142229</td>\n",
       "    </tr>\n",
       "    <tr>\n",
       "      <th>130</th>\n",
       "      <td>CBX12</td>\n",
       "      <td>329182</td>\n",
       "    </tr>\n",
       "    <tr>\n",
       "      <th>131</th>\n",
       "      <td>CBX13</td>\n",
       "      <td>51874</td>\n",
       "    </tr>\n",
       "    <tr>\n",
       "      <th>132</th>\n",
       "      <td>CBX14</td>\n",
       "      <td>33210</td>\n",
       "    </tr>\n",
       "    <tr>\n",
       "      <th>133</th>\n",
       "      <td>CBX15</td>\n",
       "      <td>58694</td>\n",
       "    </tr>\n",
       "    <tr>\n",
       "      <th>134</th>\n",
       "      <td>CBX16</td>\n",
       "      <td>96832</td>\n",
       "    </tr>\n",
       "    <tr>\n",
       "      <th>135</th>\n",
       "      <td>CBX17</td>\n",
       "      <td>126546</td>\n",
       "    </tr>\n",
       "    <tr>\n",
       "      <th>136</th>\n",
       "      <td>CBX18</td>\n",
       "      <td>158249</td>\n",
       "    </tr>\n",
       "    <tr>\n",
       "      <th>137</th>\n",
       "      <td>CBX19</td>\n",
       "      <td>180002</td>\n",
       "    </tr>\n",
       "    <tr>\n",
       "      <th>138</th>\n",
       "      <td>CBX20</td>\n",
       "      <td>127459</td>\n",
       "    </tr>\n",
       "    <tr>\n",
       "      <th>139</th>\n",
       "      <td>CBX21</td>\n",
       "      <td>90518</td>\n",
       "    </tr>\n",
       "    <tr>\n",
       "      <th>140</th>\n",
       "      <td>CBX22</td>\n",
       "      <td>44457</td>\n",
       "    </tr>\n",
       "    <tr>\n",
       "      <th>141</th>\n",
       "      <td>CBX23</td>\n",
       "      <td>10800</td>\n",
       "    </tr>\n",
       "    <tr>\n",
       "      <th>142</th>\n",
       "      <td>CBZ11</td>\n",
       "      <td>157660</td>\n",
       "    </tr>\n",
       "    <tr>\n",
       "      <th>143</th>\n",
       "      <td>CBZ12</td>\n",
       "      <td>344872</td>\n",
       "    </tr>\n",
       "    <tr>\n",
       "      <th>144</th>\n",
       "      <td>CBZ13</td>\n",
       "      <td>532388</td>\n",
       "    </tr>\n",
       "    <tr>\n",
       "      <th>145</th>\n",
       "      <td>CBZ14</td>\n",
       "      <td>718538</td>\n",
       "    </tr>\n",
       "    <tr>\n",
       "      <th>146</th>\n",
       "      <td>CBZ15</td>\n",
       "      <td>903705</td>\n",
       "    </tr>\n",
       "    <tr>\n",
       "      <th>147</th>\n",
       "      <td>CBZ16</td>\n",
       "      <td>849833</td>\n",
       "    </tr>\n",
       "    <tr>\n",
       "      <th>148</th>\n",
       "      <td>CBZ17</td>\n",
       "      <td>180214</td>\n",
       "    </tr>\n",
       "    <tr>\n",
       "      <th>149</th>\n",
       "      <td>CBZ18</td>\n",
       "      <td>229797</td>\n",
       "    </tr>\n",
       "    <tr>\n",
       "      <th>150</th>\n",
       "      <td>CBZ19</td>\n",
       "      <td>246970</td>\n",
       "    </tr>\n",
       "    <tr>\n",
       "      <th>151</th>\n",
       "      <td>CBZ20</td>\n",
       "      <td>166325</td>\n",
       "    </tr>\n",
       "    <tr>\n",
       "      <th>152</th>\n",
       "      <td>CBZ21</td>\n",
       "      <td>113032</td>\n",
       "    </tr>\n",
       "    <tr>\n",
       "      <th>153</th>\n",
       "      <td>CBZ22</td>\n",
       "      <td>57388</td>\n",
       "    </tr>\n",
       "    <tr>\n",
       "      <th>154</th>\n",
       "      <td>CBZ23</td>\n",
       "      <td>11664</td>\n",
       "    </tr>\n",
       "  </tbody>\n",
       "</table>\n",
       "<p>155 rows × 2 columns</p>\n",
       "</div>"
      ],
      "text/plain": [
       "    symbol   count\n",
       "0    CBF12  173555\n",
       "1    CBF13  359897\n",
       "2    CBF14   42321\n",
       "3    CBF15   35860\n",
       "4    CBF16   61526\n",
       "5    CBF17   99306\n",
       "6    CBF18  123896\n",
       "7    CBF19  147849\n",
       "8    CBF20  138522\n",
       "9    CBF21   91964\n",
       "10   CBF22   42570\n",
       "11   CBF23   14256\n",
       "12   CBG11    2888\n",
       "13   CBG12  188873\n",
       "14   CBG13  373557\n",
       "15   CBG14   38786\n",
       "16   CBG15   37198\n",
       "17   CBG16   62922\n",
       "18   CBG17  101848\n",
       "19   CBG18  124736\n",
       "20   CBG19  156904\n",
       "21   CBG20  133982\n",
       "22   CBG21   92019\n",
       "23   CBG22   42569\n",
       "24   CBG23   14256\n",
       "25   CBH11   17328\n",
       "26   CBH12  203543\n",
       "27   CBH13  373845\n",
       "28   CBH14   45222\n",
       "29   CBH15   47994\n",
       "..     ...     ...\n",
       "125  CBV20  127433\n",
       "126  CBV21   90615\n",
       "127  CBV22   43513\n",
       "128  CBV23   10800\n",
       "129  CBX11  142229\n",
       "130  CBX12  329182\n",
       "131  CBX13   51874\n",
       "132  CBX14   33210\n",
       "133  CBX15   58694\n",
       "134  CBX16   96832\n",
       "135  CBX17  126546\n",
       "136  CBX18  158249\n",
       "137  CBX19  180002\n",
       "138  CBX20  127459\n",
       "139  CBX21   90518\n",
       "140  CBX22   44457\n",
       "141  CBX23   10800\n",
       "142  CBZ11  157660\n",
       "143  CBZ12  344872\n",
       "144  CBZ13  532388\n",
       "145  CBZ14  718538\n",
       "146  CBZ15  903705\n",
       "147  CBZ16  849833\n",
       "148  CBZ17  180214\n",
       "149  CBZ18  229797\n",
       "150  CBZ19  246970\n",
       "151  CBZ20  166325\n",
       "152  CBZ21  113032\n",
       "153  CBZ22   57388\n",
       "154  CBZ23   11664\n",
       "\n",
       "[155 rows x 2 columns]"
      ]
     },
     "metadata": {},
     "output_type": "display_data"
    }
   ],
   "source": [
    "sql = f'''\n",
    "select symbol, count(settle_date) from {opttab} \n",
    "where substring(symbol,1,2)='{SYMBOL_TO_RESEARCH}'\n",
    "group by symbol\n",
    "order by symbol;\n",
    "'''\n",
    "display.display(pga.get_sql(sql))\n"
   ]
  },
  {
   "cell_type": "code",
   "execution_count": 81,
   "metadata": {},
   "outputs": [],
   "source": [
    "def create_skew_per_date_df(df):\n",
    "    '''\n",
    "    Find the first settle_date whose count of rows is equal to max count of rows.\n",
    "    '''\n",
    "    # get the first symbol (which should be the only symbol)\n",
    "    contract = df.symbol.unique()[0]\n",
    "    # get just that symbol's data\n",
    "    df12 = df[df.symbol==contract]\n",
    "    df_counts = df12[['settle_date','moneyness']].groupby('settle_date',as_index=False).count()\n",
    "    max_count = df_counts.moneyness.max()\n",
    "    first_max_count_settle_date = df_counts[df_counts.moneyness==max_count].iloc[0].settle_date\n",
    "    \n",
    "    df_ret = df12[df12.settle_date==first_max_count_settle_date][['moneyness']]\n",
    "    all_settle_dates = sorted(df_counts.settle_date.unique())\n",
    "    for settle_date in all_settle_dates:\n",
    "        df_temp = df12[df12.settle_date==settle_date][['moneyness','vol_skew']]\n",
    "        df_ret = df_ret.merge(df_temp,on='moneyness',how='outer')\n",
    "        df_ret = df_ret.rename(columns={'vol_skew':str(settle_date)})\n",
    "    df_ret = df_ret.sort_values('moneyness')\n",
    "    return df_ret\n"
   ]
  },
  {
   "cell_type": "markdown",
   "metadata": {},
   "source": [
    "### Skew per contract"
   ]
  },
  {
   "cell_type": "code",
   "execution_count": 82,
   "metadata": {},
   "outputs": [],
   "source": [
    "def skew_per_symbol(symbol,strike_divisor=None):\n",
    "    '''\n",
    "    For a symbol like CLM16 or EZH19, create 2 Dataframes\n",
    "      1. df_iv - contains rows of implied vols, for only the 'pseudo' strikes that are an even\n",
    "                 percent away from the money for each settle_date\n",
    "      2. df_skew - contains one row per day of skew data of for 'pseudo' strikes that are an even\n",
    "                 percent away from the money for each settle_date\n",
    "    '''\n",
    "    _exception = None\n",
    "    _stacktrace = None\n",
    "    df_iv = None\n",
    "    df_skew = None\n",
    "    try:\n",
    "        df,df_expiry_dates = get_postgres_data(symbol)\n",
    "        if len(df[df.contract_num==2])>0:\n",
    "            df10 = get_implieds(df,df_expiry_dates,symbol)\n",
    "            df12 = get_even_moneyness_strikes(df10)\n",
    "            df_sk = create_skew_per_date_df(df12)\n",
    "            df_skt = df_sk.T\n",
    "            df_skt.columns = df_skt.loc['moneyness']\n",
    "            df_skt = df_skt.iloc[1:].copy()\n",
    "            df_skt['symbol'] = symbol\n",
    "            df_skt['settle_date'] = df_skt.index\n",
    "            df_iv = df12.copy() \n",
    "            df_skew = df_skt.copy()\n",
    "    except Exception as e:\n",
    "        _exception = str(e)\n",
    "        _stacktrace = traceback.format_exc()\n",
    "    return df_iv,df_skew,_exception,_stacktrace"
   ]
  },
  {
   "cell_type": "code",
   "execution_count": 83,
   "metadata": {},
   "outputs": [
    {
     "data": {
      "text/plain": [
       "array(['CBF12', 'CBF13', 'CBF14', 'CBF15', 'CBF16', 'CBF17', 'CBF18',\n",
       "       'CBF19', 'CBF20', 'CBF21', 'CBF22', 'CBF23', 'CBG11', 'CBG12',\n",
       "       'CBG13', 'CBG14', 'CBG15', 'CBG16', 'CBG17', 'CBG18', 'CBG19',\n",
       "       'CBG20', 'CBG21', 'CBG22', 'CBG23', 'CBH11', 'CBH12', 'CBH13',\n",
       "       'CBH14', 'CBH15', 'CBH16', 'CBH17', 'CBH18', 'CBH19', 'CBH20',\n",
       "       'CBH21', 'CBH22', 'CBH23', 'CBJ11', 'CBJ12', 'CBJ13', 'CBJ14',\n",
       "       'CBJ15', 'CBJ16', 'CBJ17', 'CBJ18', 'CBJ19', 'CBJ20', 'CBJ21',\n",
       "       'CBJ22', 'CBJ23', 'CBK11', 'CBK12', 'CBK13', 'CBK14', 'CBK15',\n",
       "       'CBK16', 'CBK17', 'CBK18', 'CBK19', 'CBK20', 'CBK21', 'CBK22',\n",
       "       'CBK23', 'CBM11', 'CBM12', 'CBM13', 'CBM14', 'CBM15', 'CBM16',\n",
       "       'CBM17', 'CBM18', 'CBM19', 'CBM20', 'CBM21', 'CBM22', 'CBM23',\n",
       "       'CBN11', 'CBN12', 'CBN13', 'CBN14', 'CBN15', 'CBN16', 'CBN17',\n",
       "       'CBN18', 'CBN19', 'CBN20', 'CBN21', 'CBN22', 'CBN23', 'CBQ11',\n",
       "       'CBQ12', 'CBQ13', 'CBQ14', 'CBQ15', 'CBQ16', 'CBQ17', 'CBQ18',\n",
       "       'CBQ19', 'CBQ20', 'CBQ21', 'CBQ22', 'CBQ23', 'CBU11', 'CBU12',\n",
       "       'CBU13', 'CBU14', 'CBU15', 'CBU16', 'CBU17', 'CBU18', 'CBU19',\n",
       "       'CBU20', 'CBU21', 'CBU22', 'CBU23', 'CBV11', 'CBV12', 'CBV13',\n",
       "       'CBV14', 'CBV15', 'CBV16', 'CBV17', 'CBV18', 'CBV19', 'CBV20',\n",
       "       'CBV21', 'CBV22', 'CBV23', 'CBX11', 'CBX12', 'CBX13', 'CBX14',\n",
       "       'CBX15', 'CBX16', 'CBX17', 'CBX18', 'CBX19', 'CBX20', 'CBX21',\n",
       "       'CBX22', 'CBX23', 'CBZ11', 'CBZ12', 'CBZ13', 'CBZ14', 'CBZ15',\n",
       "       'CBZ16', 'CBZ17', 'CBZ18', 'CBZ19', 'CBZ20', 'CBZ21', 'CBZ22',\n",
       "       'CBZ23'], dtype=object)"
      ]
     },
     "execution_count": 83,
     "metadata": {},
     "output_type": "execute_result"
    }
   ],
   "source": [
    "all_contracts"
   ]
  },
  {
   "cell_type": "markdown",
   "metadata": {},
   "source": [
    "## MAIN LOOP\n",
    "#### Loop through all contracts and create DataFrames for implied vol and skew (`df_iv_final` and `df_iv_skew`)"
   ]
  },
  {
   "cell_type": "code",
   "execution_count": 84,
   "metadata": {
    "scrolled": true
   },
   "outputs": [
    {
     "data": {
      "application/vnd.jupyter.widget-view+json": {
       "model_id": "ba0755e1e6df4c1faa98dcc975771b2e",
       "version_major": 2,
       "version_minor": 0
      },
      "text/plain": [
       "HBox(children=(IntProgress(value=0, max=155), HTML(value='')))"
      ]
     },
     "metadata": {},
     "output_type": "display_data"
    },
    {
     "name": "stdout",
     "output_type": "stream",
     "text": [
      "\n"
     ]
    }
   ],
   "source": [
    "strike_div = None if SYMBOL_TO_RESEARCH not in STRIKE_DIVISORS.keys() else STRIKE_DIVISORS[SYMBOL_TO_RESEARCH]\n",
    "df_iv_final = None\n",
    "df_iv_skew = None\n",
    "dict_exceptions = {}\n",
    "dict_stacktraces = {}\n",
    "contracts = all_contracts\n",
    "if SYMBOL_TO_RESEARCH in ['ES','GE']:\n",
    "    contracts = [c for c in all_contracts if c[-3] in ['H','M','U','Z']]\n",
    "for contract in tqdm_notebook(contracts):\n",
    "    df12,df_skew,_exception,_stacktrace = skew_per_symbol(contract,strike_divisor=strike_div)\n",
    "    if _exception is not None:\n",
    "        dict_exceptions[contract] = _exception\n",
    "        dict_stacktraces[contract] = _stacktrace\n",
    "        continue\n",
    "    \n",
    "    if (df12 is None or len(df12)<1) or (df_skew is None or len(df_skew)<1):\n",
    "        if (df12 is None or len(df12)<1):\n",
    "            dict_exceptions[contract] = \"No data returned for df in skew_per_symbol\"\n",
    "        if (df_skew is None or len(df_skew)<1):\n",
    "            dict_exceptions[contract] = \"No data returned for df_skew in skew_per_symbol\"\n",
    "        continue\n",
    "    if df12 is not None:\n",
    "        if df_iv_final is None:\n",
    "            df_iv_final = df12.copy()\n",
    "        else:\n",
    "            df_iv_final = df_iv_final.append(df12,ignore_index=True)\n",
    "        if df_iv_skew is None:\n",
    "            df_iv_skew = df_skew.copy()\n",
    "        else:\n",
    "            df_iv_skew = df_iv_skew.append(df_skew,ignore_index=True)\n",
    "            df_iv_skew.index = list(range(len(df_iv_skew)))\n",
    "df_iv_final = df_iv_final.sort_values(['settle_date','moneyness'])"
   ]
  },
  {
   "cell_type": "code",
   "execution_count": 85,
   "metadata": {},
   "outputs": [
    {
     "data": {
      "text/plain": [
       "29114"
      ]
     },
     "execution_count": 85,
     "metadata": {},
     "output_type": "execute_result"
    }
   ],
   "source": [
    "len(df_iv_final)"
   ]
  },
  {
   "cell_type": "markdown",
   "metadata": {},
   "source": [
    "### save to csv and print any exceptions that might have occured"
   ]
  },
  {
   "cell_type": "code",
   "execution_count": 86,
   "metadata": {},
   "outputs": [
    {
     "name": "stdout",
     "output_type": "stream",
     "text": [
      "{'CBF21': 'No data returned for df_skew in skew_per_symbol', 'CBF22': 'No data returned for df_skew in skew_per_symbol', 'CBF23': 'No data returned for df_skew in skew_per_symbol', 'CBG11': 'No data returned for df_skew in skew_per_symbol', 'CBG20': 'No data returned for df_skew in skew_per_symbol', 'CBG21': 'No data returned for df_skew in skew_per_symbol', 'CBG22': 'No data returned for df_skew in skew_per_symbol', 'CBG23': 'No data returned for df_skew in skew_per_symbol', 'CBH20': 'No data returned for df_skew in skew_per_symbol', 'CBH21': 'No data returned for df_skew in skew_per_symbol', 'CBH22': 'No data returned for df_skew in skew_per_symbol', 'CBH23': 'No data returned for df_skew in skew_per_symbol', 'CBJ20': 'No data returned for df_skew in skew_per_symbol', 'CBJ21': 'No data returned for df_skew in skew_per_symbol', 'CBJ22': 'No data returned for df_skew in skew_per_symbol', 'CBJ23': 'No data returned for df_skew in skew_per_symbol', 'CBK20': 'No data returned for df_skew in skew_per_symbol', 'CBK21': 'No data returned for df_skew in skew_per_symbol', 'CBK22': 'No data returned for df_skew in skew_per_symbol', 'CBK23': 'No data returned for df_skew in skew_per_symbol', 'CBM20': 'No data returned for df_skew in skew_per_symbol', 'CBM21': 'No data returned for df_skew in skew_per_symbol', 'CBM22': 'No data returned for df_skew in skew_per_symbol', 'CBM23': 'No data returned for df_skew in skew_per_symbol', 'CBN20': 'No data returned for df_skew in skew_per_symbol', 'CBN21': 'No data returned for df_skew in skew_per_symbol', 'CBN22': 'No data returned for df_skew in skew_per_symbol', 'CBN23': 'No data returned for df_skew in skew_per_symbol', 'CBQ20': 'No data returned for df_skew in skew_per_symbol', 'CBQ21': 'No data returned for df_skew in skew_per_symbol', 'CBQ22': 'No data returned for df_skew in skew_per_symbol', 'CBQ23': 'No data returned for df_skew in skew_per_symbol', 'CBU20': 'No data returned for df_skew in skew_per_symbol', 'CBU21': 'No data returned for df_skew in skew_per_symbol', 'CBU22': 'No data returned for df_skew in skew_per_symbol', 'CBU23': 'No data returned for df_skew in skew_per_symbol', 'CBV12': 'Length of values does not match length of index', 'CBV20': 'No data returned for df_skew in skew_per_symbol', 'CBV21': 'No data returned for df_skew in skew_per_symbol', 'CBV22': 'No data returned for df_skew in skew_per_symbol', 'CBV23': 'No data returned for df_skew in skew_per_symbol', 'CBX20': 'No data returned for df_skew in skew_per_symbol', 'CBX21': 'No data returned for df_skew in skew_per_symbol', 'CBX22': 'No data returned for df_skew in skew_per_symbol', 'CBX23': 'No data returned for df_skew in skew_per_symbol', 'CBZ20': 'No data returned for df_skew in skew_per_symbol', 'CBZ21': 'No data returned for df_skew in skew_per_symbol', 'CBZ22': 'No data returned for df_skew in skew_per_symbol', 'CBZ23': 'No data returned for df_skew in skew_per_symbol'}\n"
     ]
    }
   ],
   "source": [
    "print(dict_exceptions)\n",
    "df_iv_final.to_csv(f'./temp_folder/df_iv_final_{SYMBOL_TO_RESEARCH}.csv',index=False)\n",
    "df_iv_skew.to_csv(f'./temp_folder/df_iv_skew_{SYMBOL_TO_RESEARCH}.csv',index=False)"
   ]
  },
  {
   "cell_type": "markdown",
   "metadata": {},
   "source": [
    "### graph skew"
   ]
  },
  {
   "cell_type": "code",
   "execution_count": 87,
   "metadata": {
    "scrolled": true
   },
   "outputs": [],
   "source": [
    "def graph_skew(df,do_plot=False):\n",
    "    '''\n",
    "    Graph skew for ONLY ONE symbol.\n",
    "    If df contains more than one symbol, we will only graph the first symbol in the DataFrames    \n",
    "    '''\n",
    "    # get the first symbol (which should be the only symbol)\n",
    "    contract = df.symbol.unique()[0]\n",
    "    dfp = create_skew_per_date_df(df_iv_final[df_iv_final.symbol==contract])\n",
    "    \n",
    "#     display.display(dfp)\n",
    "    settle_dates = sorted([c for c in dfp.columns.values if c != 'moneyness'])\n",
    "    splits = list(np.arange(5,len(settle_dates),5))\n",
    "#     settle_date_strings = [str(yyyymmdd) for yyyymmdd in settle_dates]\n",
    "    settle_date_groups = np.split(np.array(settle_dates),splits)\n",
    "    ret_figs = []\n",
    "    for sdg in settle_date_groups:\n",
    "        sdg_sorted = [str(c) for c in sorted(sdg)]\n",
    "        cols = ['moneyness']+list(sdg_sorted)\n",
    "        dfp_sub = dfp[cols]\n",
    "        t = f'{contract} {sdg[0]} - {sdg[-1]}' \n",
    "        f = plotly_plot(dfp_sub,x_column='moneyness',plot_title=t,y_left_label='vol skew')\n",
    "        ret_figs.append(f)\n",
    "        if do_plot:\n",
    "            iplot(f)\n",
    "    return ret_figs"
   ]
  },
  {
   "cell_type": "markdown",
   "metadata": {},
   "source": [
    "#### Do the same plots as above, but using a grid"
   ]
  },
  {
   "cell_type": "code",
   "execution_count": 88,
   "metadata": {},
   "outputs": [],
   "source": [
    "def graph_skew_subplots(df):\n",
    "    rfs = graph_skew(df)\n",
    "    n = 4   \n",
    "    # using list comprehension \n",
    "    rfs_groups = [rfs[i*n:(i + 1)*n] for i in range((len(rfs) + n - 1) // n )]  \n",
    "    for rfs_group in rfs_groups:\n",
    "        iplot(graph_skew_subplot_quad(rfs_group))\n",
    "    \n",
    "def graph_skew_subplot_quad(rfs):\n",
    "    '''\n",
    "    Use subplots to output the results of the method graph_skew above\n",
    "    '''\n",
    "    rows = 2#len(rfs)//2\n",
    "    f1 = tls.make_subplots(rows=rows, cols=2,  \n",
    "        shared_yaxes=False, \n",
    "        subplot_titles=[rfs[i]['layout'].title for i in range(len(rfs))],\n",
    "        horizontal_spacing=0.09,\n",
    "        vertical_spacing=0.11,                       \n",
    "        print_grid=False)\n",
    "\n",
    "    pl_width=900\n",
    "    pl_height=800 \n",
    "    title = 'Skew plots<br>'\n",
    "\n",
    "    f1['layout'].update(title=title,                                 \n",
    "        font= Font(family=\"Open Sans, sans-serif\"),\n",
    "        showlegend=True,     \n",
    "        hovermode='x',  \n",
    "        autosize=True,       \n",
    "        width=pl_width,       \n",
    "        height=pl_height,\n",
    "        plot_bgcolor='#EFECEA', \n",
    "        bargap=0.05,\n",
    "        margin=Margin(\n",
    "                      l=45,\n",
    "                      r=15,\n",
    "                      b=55,\n",
    "                      t=50\n",
    "        )\n",
    "    )    \n",
    "    for i in range(len(rfs)):\n",
    "        x = int(i/2) + 1\n",
    "        y = i % 2 + 1\n",
    "        f = rfs[i]\n",
    "        l = f.layout\n",
    "        \n",
    "        try:\n",
    "            yaxis = f'yaxis{i+1}'\n",
    "            xaxis = f'xaxis{i+1}'\n",
    "            if i < 10:\n",
    "                yaxis = yaxis.replace('1','') \n",
    "                xaxis = xaxis.replace('1','') \n",
    "            f1['layout'].update({xaxis:l.xaxis})\n",
    "            f1['layout'].update({yaxis:l.yaxis})\n",
    "            gname = f'chart {x,y}'#rfs[i]['layout'].title\n",
    "            for d in f.data:\n",
    "                data_y = f'y{i+1}'.replace('1','') \n",
    "                d['yaxis']=data_y\n",
    "                d['legendgroup'] =  gname\n",
    "                d['name'] = f\"{gname} {d.name}\"\n",
    "                f1.append_trace(d,x,y)\n",
    "            pass\n",
    "        except Exception as e:\n",
    "            ipdb.set_trace()\n",
    "            print(f'graph_skew_subplots ERRORS: {str(e)}')\n",
    "    return f1\n",
    "# iplot(f1)\n"
   ]
  },
  {
   "cell_type": "code",
   "execution_count": 89,
   "metadata": {},
   "outputs": [
    {
     "data": {
      "text/html": [
       "<div>\n",
       "<style scoped>\n",
       "    .dataframe tbody tr th:only-of-type {\n",
       "        vertical-align: middle;\n",
       "    }\n",
       "\n",
       "    .dataframe tbody tr th {\n",
       "        vertical-align: top;\n",
       "    }\n",
       "\n",
       "    .dataframe thead th {\n",
       "        text-align: right;\n",
       "    }\n",
       "</style>\n",
       "<table border=\"1\" class=\"dataframe\">\n",
       "  <thead>\n",
       "    <tr style=\"text-align: right;\">\n",
       "      <th></th>\n",
       "      <th>close_x</th>\n",
       "      <th>close_y</th>\n",
       "      <th>contract_num</th>\n",
       "      <th>dte</th>\n",
       "      <th>iv</th>\n",
       "      <th>pc</th>\n",
       "      <th>settle_date</th>\n",
       "      <th>strike</th>\n",
       "      <th>symbol</th>\n",
       "      <th>moneyness</th>\n",
       "      <th>atm_iv</th>\n",
       "      <th>vol_skew</th>\n",
       "    </tr>\n",
       "  </thead>\n",
       "  <tbody>\n",
       "    <tr>\n",
       "      <th>29109</th>\n",
       "      <td>NaN</td>\n",
       "      <td>59.25</td>\n",
       "      <td>2</td>\n",
       "      <td>28</td>\n",
       "      <td>0.396500</td>\n",
       "      <td>NaN</td>\n",
       "      <td>20190930</td>\n",
       "      <td>68.1375</td>\n",
       "      <td>CBZ19</td>\n",
       "      <td>0.15</td>\n",
       "      <td>0.340925</td>\n",
       "      <td>0.0556</td>\n",
       "    </tr>\n",
       "    <tr>\n",
       "      <th>29110</th>\n",
       "      <td>NaN</td>\n",
       "      <td>59.25</td>\n",
       "      <td>2</td>\n",
       "      <td>28</td>\n",
       "      <td>0.431793</td>\n",
       "      <td>NaN</td>\n",
       "      <td>20190930</td>\n",
       "      <td>71.1000</td>\n",
       "      <td>CBZ19</td>\n",
       "      <td>0.20</td>\n",
       "      <td>0.340925</td>\n",
       "      <td>0.0909</td>\n",
       "    </tr>\n",
       "    <tr>\n",
       "      <th>29111</th>\n",
       "      <td>NaN</td>\n",
       "      <td>59.25</td>\n",
       "      <td>2</td>\n",
       "      <td>28</td>\n",
       "      <td>0.474065</td>\n",
       "      <td>NaN</td>\n",
       "      <td>20190930</td>\n",
       "      <td>74.0625</td>\n",
       "      <td>CBZ19</td>\n",
       "      <td>0.25</td>\n",
       "      <td>0.340925</td>\n",
       "      <td>0.1331</td>\n",
       "    </tr>\n",
       "    <tr>\n",
       "      <th>29112</th>\n",
       "      <td>NaN</td>\n",
       "      <td>59.25</td>\n",
       "      <td>2</td>\n",
       "      <td>28</td>\n",
       "      <td>0.511776</td>\n",
       "      <td>NaN</td>\n",
       "      <td>20190930</td>\n",
       "      <td>77.0250</td>\n",
       "      <td>CBZ19</td>\n",
       "      <td>0.30</td>\n",
       "      <td>0.340925</td>\n",
       "      <td>0.1709</td>\n",
       "    </tr>\n",
       "    <tr>\n",
       "      <th>29113</th>\n",
       "      <td>NaN</td>\n",
       "      <td>59.25</td>\n",
       "      <td>2</td>\n",
       "      <td>28</td>\n",
       "      <td>0.544262</td>\n",
       "      <td>NaN</td>\n",
       "      <td>20190930</td>\n",
       "      <td>79.9875</td>\n",
       "      <td>CBZ19</td>\n",
       "      <td>0.35</td>\n",
       "      <td>0.340925</td>\n",
       "      <td>0.2033</td>\n",
       "    </tr>\n",
       "  </tbody>\n",
       "</table>\n",
       "</div>"
      ],
      "text/plain": [
       "       close_x  close_y  contract_num  dte        iv   pc  settle_date  \\\n",
       "29109      NaN    59.25             2   28  0.396500  NaN     20190930   \n",
       "29110      NaN    59.25             2   28  0.431793  NaN     20190930   \n",
       "29111      NaN    59.25             2   28  0.474065  NaN     20190930   \n",
       "29112      NaN    59.25             2   28  0.511776  NaN     20190930   \n",
       "29113      NaN    59.25             2   28  0.544262  NaN     20190930   \n",
       "\n",
       "        strike symbol  moneyness    atm_iv  vol_skew  \n",
       "29109  68.1375  CBZ19       0.15  0.340925    0.0556  \n",
       "29110  71.1000  CBZ19       0.20  0.340925    0.0909  \n",
       "29111  74.0625  CBZ19       0.25  0.340925    0.1331  \n",
       "29112  77.0250  CBZ19       0.30  0.340925    0.1709  \n",
       "29113  79.9875  CBZ19       0.35  0.340925    0.2033  "
      ]
     },
     "execution_count": 89,
     "metadata": {},
     "output_type": "execute_result"
    }
   ],
   "source": [
    "df_iv_final[df_iv_final.symbol.str.contains(f'{SYMBOL_TO_RESEARCH}')].tail()"
   ]
  },
  {
   "cell_type": "code",
   "execution_count": 90,
   "metadata": {
    "scrolled": true
   },
   "outputs": [
    {
     "data": {
      "text/plain": [
       "['CBF12',\n",
       " 'CBF13',\n",
       " 'CBF14',\n",
       " 'CBF15',\n",
       " 'CBF16',\n",
       " 'CBF17',\n",
       " 'CBF18',\n",
       " 'CBF19',\n",
       " 'CBF20',\n",
       " 'CBG12',\n",
       " 'CBG13',\n",
       " 'CBG14',\n",
       " 'CBG15',\n",
       " 'CBG16',\n",
       " 'CBG17',\n",
       " 'CBG18',\n",
       " 'CBG19',\n",
       " 'CBH11',\n",
       " 'CBH12',\n",
       " 'CBH13',\n",
       " 'CBH14',\n",
       " 'CBH15',\n",
       " 'CBH16',\n",
       " 'CBH17',\n",
       " 'CBH18',\n",
       " 'CBH19',\n",
       " 'CBJ11',\n",
       " 'CBJ12',\n",
       " 'CBJ13',\n",
       " 'CBJ14',\n",
       " 'CBJ15',\n",
       " 'CBJ16',\n",
       " 'CBJ17',\n",
       " 'CBJ18',\n",
       " 'CBJ19',\n",
       " 'CBK11',\n",
       " 'CBK12',\n",
       " 'CBK13',\n",
       " 'CBK14',\n",
       " 'CBK15',\n",
       " 'CBK16',\n",
       " 'CBK17',\n",
       " 'CBK18',\n",
       " 'CBK19',\n",
       " 'CBM11',\n",
       " 'CBM12',\n",
       " 'CBM13',\n",
       " 'CBM14',\n",
       " 'CBM15',\n",
       " 'CBM16',\n",
       " 'CBM17',\n",
       " 'CBM18',\n",
       " 'CBM19',\n",
       " 'CBN11',\n",
       " 'CBN12',\n",
       " 'CBN13',\n",
       " 'CBN14',\n",
       " 'CBN15',\n",
       " 'CBN16',\n",
       " 'CBN17',\n",
       " 'CBN18',\n",
       " 'CBN19',\n",
       " 'CBQ11',\n",
       " 'CBQ12',\n",
       " 'CBQ13',\n",
       " 'CBQ14',\n",
       " 'CBQ15',\n",
       " 'CBQ16',\n",
       " 'CBQ17',\n",
       " 'CBQ18',\n",
       " 'CBQ19',\n",
       " 'CBU11',\n",
       " 'CBU12',\n",
       " 'CBU13',\n",
       " 'CBU14',\n",
       " 'CBU15',\n",
       " 'CBU16',\n",
       " 'CBU17',\n",
       " 'CBU18',\n",
       " 'CBU19',\n",
       " 'CBV11',\n",
       " 'CBV13',\n",
       " 'CBV14',\n",
       " 'CBV15',\n",
       " 'CBV16',\n",
       " 'CBV17',\n",
       " 'CBV18',\n",
       " 'CBV19',\n",
       " 'CBX11',\n",
       " 'CBX12',\n",
       " 'CBX13',\n",
       " 'CBX14',\n",
       " 'CBX15',\n",
       " 'CBX16',\n",
       " 'CBX17',\n",
       " 'CBX18',\n",
       " 'CBX19',\n",
       " 'CBZ11',\n",
       " 'CBZ12',\n",
       " 'CBZ13',\n",
       " 'CBZ14',\n",
       " 'CBZ15',\n",
       " 'CBZ16',\n",
       " 'CBZ17',\n",
       " 'CBZ18',\n",
       " 'CBZ19']"
      ]
     },
     "execution_count": 90,
     "metadata": {},
     "output_type": "execute_result"
    }
   ],
   "source": [
    "sorted(list(set(df_iv_final.symbol)))"
   ]
  },
  {
   "cell_type": "code",
   "execution_count": 121,
   "metadata": {
    "scrolled": false
   },
   "outputs": [
    {
     "data": {
      "application/vnd.plotly.v1+json": {
       "data": [
        {
         "legendgroup": "chart (1, 1)",
         "name": "chart (1, 1) 20181001",
         "type": "scatter",
         "uid": "2ace2b18-fff6-11e9-bd53-8c859025e7f9",
         "x": [
          -0.3,
          -0.25,
          -0.2,
          -0.15,
          -0.1,
          -0.05,
          0,
          0.05,
          0.1,
          0.15,
          0.2,
          0.25,
          0.3,
          0.35
         ],
         "xaxis": "x",
         "y": [
          0.1279,
          0.0938,
          0.0621,
          0.0371,
          0.016,
          0.0059,
          0,
          0.0024,
          0.0103,
          0.0228,
          0.0396,
          0.0587,
          0.0774,
          null
         ],
         "yaxis": "y"
        },
        {
         "legendgroup": "chart (1, 1)",
         "name": "chart (1, 1) 20181002",
         "type": "scatter",
         "uid": "2aceabe2-fff6-11e9-9d50-8c859025e7f9",
         "x": [
          -0.3,
          -0.25,
          -0.2,
          -0.15,
          -0.1,
          -0.05,
          0,
          0.05,
          0.1,
          0.15,
          0.2,
          0.25,
          0.3,
          0.35
         ],
         "xaxis": "x",
         "y": [
          0.1331,
          0.0989,
          0.0659,
          0.0382,
          0.0171,
          0.0044,
          0,
          0.0005,
          0.0092,
          0.0235,
          0.0418,
          0.0601,
          0.079,
          null
         ],
         "yaxis": "y"
        },
        {
         "legendgroup": "chart (1, 1)",
         "name": "chart (1, 1) 20181003",
         "type": "scatter",
         "uid": "2acf43a4-fff6-11e9-9714-8c859025e7f9",
         "x": [
          -0.3,
          -0.25,
          -0.2,
          -0.15,
          -0.1,
          -0.05,
          0,
          0.05,
          0.1,
          0.15,
          0.2,
          0.25,
          0.3,
          0.35
         ],
         "xaxis": "x",
         "y": [
          0.1359,
          0.0894,
          0.0598,
          0.0339,
          0.0146,
          0.0017,
          0,
          0.0023,
          0.0121,
          0.0274,
          0.0471,
          0.0656,
          0.0864,
          null
         ],
         "yaxis": "y"
        },
        {
         "legendgroup": "chart (1, 1)",
         "name": "chart (1, 1) 20181004",
         "type": "scatter",
         "uid": "2acfb886-fff6-11e9-a8c9-8c859025e7f9",
         "x": [
          -0.3,
          -0.25,
          -0.2,
          -0.15,
          -0.1,
          -0.05,
          0,
          0.05,
          0.1,
          0.15,
          0.2,
          0.25,
          0.3,
          0.35
         ],
         "xaxis": "x",
         "y": [
          0.1328,
          0.1058,
          0.0726,
          0.0425,
          0.022,
          0.0071,
          0,
          0.0035,
          0.0123,
          0.0242,
          0.0398,
          0.0593,
          0.076,
          null
         ],
         "yaxis": "y"
        },
        {
         "legendgroup": "chart (1, 1)",
         "name": "chart (1, 1) 20181005",
         "type": "scatter",
         "uid": "2ad01a22-fff6-11e9-b392-8c859025e7f9",
         "x": [
          -0.3,
          -0.25,
          -0.2,
          -0.15,
          -0.1,
          -0.05,
          0,
          0.05,
          0.1,
          0.15,
          0.2,
          0.25,
          0.3,
          0.35
         ],
         "xaxis": "x",
         "y": [
          0.1339,
          0.0933,
          0.0643,
          0.0381,
          0.0152,
          0.0026,
          0,
          0.0012,
          0.0111,
          0.0237,
          0.0395,
          0.0571,
          0.0756,
          null
         ],
         "yaxis": "y"
        },
        {
         "legendgroup": "chart (1, 2)",
         "name": "chart (1, 2) 20181008",
         "type": "scatter",
         "uid": "2ad142c6-fff6-11e9-8d41-8c859025e7f9",
         "x": [
          -0.3,
          -0.25,
          -0.2,
          -0.15,
          -0.1,
          -0.05,
          0,
          0.05,
          0.1,
          0.15,
          0.2,
          0.25,
          0.3,
          0.35
         ],
         "xaxis": "x2",
         "y": [
          0.1339,
          0.105,
          0.0737,
          0.0434,
          0.0207,
          0.0067,
          0,
          0.0018,
          0.0136,
          0.0276,
          0.0461,
          0.0672,
          0.0826,
          null
         ],
         "yaxis": "y2"
        },
        {
         "legendgroup": "chart (1, 2)",
         "name": "chart (1, 2) 20181009",
         "type": "scatter",
         "uid": "2ad1b38c-fff6-11e9-beb6-8c859025e7f9",
         "x": [
          -0.3,
          -0.25,
          -0.2,
          -0.15,
          -0.1,
          -0.05,
          0,
          0.05,
          0.1,
          0.15,
          0.2,
          0.25,
          0.3,
          0.35
         ],
         "xaxis": "x2",
         "y": [
          0.1364,
          0.1024,
          0.072,
          0.0445,
          0.019,
          0.006,
          0,
          0.004,
          0.0164,
          0.0322,
          0.0522,
          0.071,
          0.092,
          null
         ],
         "yaxis": "y2"
        },
        {
         "legendgroup": "chart (1, 2)",
         "name": "chart (1, 2) 20181010",
         "type": "scatter",
         "uid": "2ad22e1e-fff6-11e9-bd48-8c859025e7f9",
         "x": [
          -0.3,
          -0.25,
          -0.2,
          -0.15,
          -0.1,
          -0.05,
          0,
          0.05,
          0.1,
          0.15,
          0.2,
          0.25,
          0.3,
          0.35
         ],
         "xaxis": "x2",
         "y": [
          0.1436,
          0.1037,
          0.0772,
          0.0436,
          0.0207,
          0.0073,
          0,
          0.0018,
          0.0103,
          0.0236,
          0.0414,
          0.0624,
          0.0783,
          0.0981
         ],
         "yaxis": "y2"
        },
        {
         "legendgroup": "chart (1, 2)",
         "name": "chart (1, 2) 20181011",
         "type": "scatter",
         "uid": "2ad29608-fff6-11e9-b14f-8c859025e7f9",
         "x": [
          -0.3,
          -0.25,
          -0.2,
          -0.15,
          -0.1,
          -0.05,
          0,
          0.05,
          0.1,
          0.15,
          0.2,
          0.25,
          0.3,
          0.35
         ],
         "xaxis": "x2",
         "y": [
          0.1432,
          0.1143,
          0.0741,
          0.0469,
          0.0224,
          0.007,
          0,
          -0.0035,
          0.0017,
          0.0124,
          0.0294,
          0.0487,
          0.0653,
          0.0921
         ],
         "yaxis": "y2"
        },
        {
         "legendgroup": "chart (1, 2)",
         "name": "chart (1, 2) 20181012",
         "type": "scatter",
         "uid": "2ad3080c-fff6-11e9-95ff-8c859025e7f9",
         "x": [
          -0.3,
          -0.25,
          -0.2,
          -0.15,
          -0.1,
          -0.05,
          0,
          0.05,
          0.1,
          0.15,
          0.2,
          0.25,
          0.3,
          0.35
         ],
         "xaxis": "x2",
         "y": [
          0.1567,
          0.1273,
          0.0877,
          0.054,
          0.027,
          0.0099,
          0,
          -0.002,
          0.0043,
          0.0175,
          0.038,
          0.0565,
          0.0846,
          0.1023
         ],
         "yaxis": "y2"
        },
        {
         "legendgroup": "chart (2, 1)",
         "name": "chart (2, 1) 20181015",
         "type": "scatter",
         "uid": "2ad404a2-fff6-11e9-8e1d-8c859025e7f9",
         "x": [
          -0.3,
          -0.25,
          -0.2,
          -0.15,
          -0.1,
          -0.05,
          0,
          0.05,
          0.1,
          0.15,
          0.2,
          0.25,
          0.3,
          0.35
         ],
         "xaxis": "x3",
         "y": [
          0.1675,
          0.1113,
          0.0781,
          0.0462,
          0.0218,
          0.0056,
          0,
          0.0009,
          0.0119,
          0.0294,
          0.0508,
          0.0712,
          0.094,
          0.1138
         ],
         "yaxis": "y3"
        },
        {
         "legendgroup": "chart (2, 1)",
         "name": "chart (2, 1) 20181016",
         "type": "scatter",
         "uid": "2ad47c70-fff6-11e9-b35b-8c859025e7f9",
         "x": [
          -0.3,
          -0.25,
          -0.2,
          -0.15,
          -0.1,
          -0.05,
          0,
          0.05,
          0.1,
          0.15,
          0.2,
          0.25,
          0.3,
          0.35
         ],
         "xaxis": "x3",
         "y": [
          0.1434,
          0.1144,
          0.0797,
          0.0476,
          0.0233,
          0.0062,
          0,
          0.0039,
          0.0172,
          0.0378,
          0.065,
          0.0875,
          0.1087,
          0.1379
         ],
         "yaxis": "y3"
        },
        {
         "legendgroup": "chart (2, 1)",
         "name": "chart (2, 1) 20181017",
         "type": "scatter",
         "uid": "2ad4ec0a-fff6-11e9-94e5-8c859025e7f9",
         "x": [
          -0.3,
          -0.25,
          -0.2,
          -0.15,
          -0.1,
          -0.05,
          0,
          0.05,
          0.1,
          0.15,
          0.2,
          0.25,
          0.3,
          0.35
         ],
         "xaxis": "x3",
         "y": [
          0.1733,
          0.1221,
          0.0835,
          0.0528,
          0.0246,
          0.0086,
          0,
          0.004,
          0.0191,
          0.0412,
          0.0673,
          0.0937,
          0.117,
          0.1486
         ],
         "yaxis": "y3"
        },
        {
         "legendgroup": "chart (2, 1)",
         "name": "chart (2, 1) 20181018",
         "type": "scatter",
         "uid": "2ad559c6-fff6-11e9-b041-8c859025e7f9",
         "x": [
          -0.3,
          -0.25,
          -0.2,
          -0.15,
          -0.1,
          -0.05,
          0,
          0.05,
          0.1,
          0.15,
          0.2,
          0.25,
          0.3,
          0.35
         ],
         "xaxis": "x3",
         "y": [
          0.1469,
          0.1215,
          null,
          0.0504,
          0.0242,
          0.007,
          0,
          -0.0028,
          0.0086,
          0.0283,
          null,
          0.0865,
          0.112,
          0.1335
         ],
         "yaxis": "y3"
        },
        {
         "legendgroup": "chart (2, 1)",
         "name": "chart (2, 1) 20181019",
         "type": "scatter",
         "uid": "2ad5f818-fff6-11e9-974b-8c859025e7f9",
         "x": [
          -0.3,
          -0.25,
          -0.2,
          -0.15,
          -0.1,
          -0.05,
          0,
          0.05,
          0.1,
          0.15,
          0.2,
          0.25,
          0.3,
          0.35
         ],
         "xaxis": "x3",
         "y": [
          0.1559,
          0.1122,
          0.0783,
          0.0485,
          0.0214,
          0.0053,
          0,
          -0.0023,
          0.0082,
          0.0316,
          0.055,
          0.0801,
          0.111,
          0.143
         ],
         "yaxis": "y3"
        },
        {
         "legendgroup": "chart (2, 2)",
         "name": "chart (2, 2) 20181022",
         "type": "scatter",
         "uid": "2ad7161a-fff6-11e9-88bd-8c859025e7f9",
         "x": [
          -0.3,
          -0.25,
          -0.2,
          -0.15,
          -0.1,
          -0.05,
          0,
          0.05,
          0.1,
          0.15,
          0.2,
          0.25,
          0.3,
          0.35
         ],
         "xaxis": "x4",
         "y": [
          0.1769,
          0.1401,
          0.0954,
          0.0574,
          0.0266,
          0.0059,
          0,
          0.0026,
          0.0172,
          0.0402,
          0.0678,
          0.0996,
          0.1281,
          0.1592
         ],
         "yaxis": "y4"
        },
        {
         "legendgroup": "chart (2, 2)",
         "name": "chart (2, 2) 20181023",
         "type": "scatter",
         "uid": "2ad793cc-fff6-11e9-a8a4-8c859025e7f9",
         "x": [
          -0.3,
          -0.25,
          -0.2,
          -0.15,
          -0.1,
          -0.05,
          0,
          0.05,
          0.1,
          0.15,
          0.2,
          0.25,
          0.3,
          0.35
         ],
         "xaxis": "x4",
         "y": [
          0.229,
          0.1751,
          0.1225,
          0.0716,
          0.0368,
          0.0145,
          0,
          0.0028,
          0.0145,
          0.0349,
          0.0658,
          0.0956,
          0.1271,
          0.1458
         ],
         "yaxis": "y4"
        },
        {
         "legendgroup": "chart (2, 2)",
         "name": "chart (2, 2) 20181024",
         "type": "scatter",
         "uid": "2ad82a9e-fff6-11e9-a099-8c859025e7f9",
         "x": [
          -0.3,
          -0.25,
          -0.2,
          -0.15,
          -0.1,
          -0.05,
          0,
          0.05,
          0.1,
          0.15,
          0.2,
          0.25,
          0.3,
          0.35
         ],
         "xaxis": "x4",
         "y": [
          0.2136,
          0.1699,
          0.1223,
          0.0786,
          0.041,
          0.0167,
          0,
          0.0028,
          0.012,
          0.034,
          0.0606,
          0.0902,
          0.123,
          0.1538
         ],
         "yaxis": "y4"
        },
        {
         "legendgroup": "chart (2, 2)",
         "name": "chart (2, 2) 20181025",
         "type": "scatter",
         "uid": "2ad89fda-fff6-11e9-af90-8c859025e7f9",
         "x": [
          -0.3,
          -0.25,
          -0.2,
          -0.15,
          -0.1,
          -0.05,
          0,
          0.05,
          0.1,
          0.15,
          0.2,
          0.25,
          0.3,
          0.35
         ],
         "xaxis": "x4",
         "y": [
          0.2229,
          0.1621,
          0.1184,
          0.0738,
          0.034,
          0.0099,
          0,
          -0.0035,
          0.0095,
          0.0316,
          0.057,
          0.0808,
          0.1171,
          0.1433
         ],
         "yaxis": "y4"
        },
        {
         "legendgroup": "chart (2, 2)",
         "name": "chart (2, 2) 20181026",
         "type": "scatter",
         "uid": "2ad9095c-fff6-11e9-bb0b-8c859025e7f9",
         "x": [
          -0.3,
          -0.25,
          -0.2,
          -0.15,
          -0.1,
          -0.05,
          0,
          0.05,
          0.1,
          0.15,
          0.2,
          0.25,
          0.3,
          0.35
         ],
         "xaxis": "x4",
         "y": [
          0.2132,
          0.1708,
          0.1237,
          0.0765,
          0.0402,
          0.0173,
          0,
          0.0036,
          0.0156,
          0.0385,
          0.0684,
          0.0997,
          0.126,
          0.1523
         ],
         "yaxis": "y4"
        }
       ],
       "layout": {
        "annotations": [
         {
          "font": {
           "size": 16
          },
          "showarrow": false,
          "text": "CBF19 20181001 - 20181005",
          "x": 0.2275,
          "xanchor": "center",
          "xref": "paper",
          "y": 1,
          "yanchor": "bottom",
          "yref": "paper"
         },
         {
          "font": {
           "size": 16
          },
          "showarrow": false,
          "text": "CBF19 20181008 - 20181012",
          "x": 0.7725,
          "xanchor": "center",
          "xref": "paper",
          "y": 1,
          "yanchor": "bottom",
          "yref": "paper"
         },
         {
          "font": {
           "size": 16
          },
          "showarrow": false,
          "text": "CBF19 20181015 - 20181019",
          "x": 0.2275,
          "xanchor": "center",
          "xref": "paper",
          "y": 0.445,
          "yanchor": "bottom",
          "yref": "paper"
         },
         {
          "font": {
           "size": 16
          },
          "showarrow": false,
          "text": "CBF19 20181022 - 20181026",
          "x": 0.7725,
          "xanchor": "center",
          "xref": "paper",
          "y": 0.445,
          "yanchor": "bottom",
          "yref": "paper"
         }
        ],
        "autosize": true,
        "bargap": 0.05,
        "font": {
         "family": "Open Sans, sans-serif"
        },
        "height": 800,
        "hovermode": "x",
        "margin": {
         "b": 55,
         "l": 45,
         "r": 15,
         "t": 50
        },
        "plot_bgcolor": "#EFECEA",
        "showlegend": true,
        "title": "Skew plots<br>",
        "width": 900,
        "xaxis": {
         "anchor": "y",
         "domain": [
          0,
          0.455
         ],
         "tickangle": 45,
         "ticktext": [
          -0.3,
          -0.25,
          -0.2,
          -0.15,
          -0.1,
          -0.05,
          0,
          0.05,
          0.1,
          0.15,
          0.2,
          0.25,
          0.3,
          0.35
         ],
         "tickvals": [
          -0.3,
          -0.25,
          -0.2,
          -0.15,
          -0.1,
          -0.05,
          0,
          0.05,
          0.1,
          0.15,
          0.2,
          0.25,
          0.3,
          0.35
         ],
         "type": "category"
        },
        "xaxis2": {
         "anchor": "y2",
         "domain": [
          0.545,
          1
         ],
         "tickangle": 45,
         "ticktext": [
          -0.3,
          -0.25,
          -0.2,
          -0.15,
          -0.1,
          -0.05,
          0,
          0.05,
          0.1,
          0.15,
          0.2,
          0.25,
          0.3,
          0.35
         ],
         "tickvals": [
          -0.3,
          -0.25,
          -0.2,
          -0.15,
          -0.1,
          -0.05,
          0,
          0.05,
          0.1,
          0.15,
          0.2,
          0.25,
          0.3,
          0.35
         ],
         "type": "category"
        },
        "xaxis3": {
         "anchor": "y3",
         "domain": [
          0,
          0.455
         ],
         "tickangle": 45,
         "ticktext": [
          -0.3,
          -0.25,
          -0.2,
          -0.15,
          -0.1,
          -0.05,
          0,
          0.05,
          0.1,
          0.15,
          0.2,
          0.25,
          0.3,
          0.35
         ],
         "tickvals": [
          -0.3,
          -0.25,
          -0.2,
          -0.15,
          -0.1,
          -0.05,
          0,
          0.05,
          0.1,
          0.15,
          0.2,
          0.25,
          0.3,
          0.35
         ],
         "type": "category"
        },
        "xaxis4": {
         "anchor": "y4",
         "domain": [
          0.545,
          1
         ],
         "tickangle": 45,
         "ticktext": [
          -0.3,
          -0.25,
          -0.2,
          -0.15,
          -0.1,
          -0.05,
          0,
          0.05,
          0.1,
          0.15,
          0.2,
          0.25,
          0.3,
          0.35
         ],
         "tickvals": [
          -0.3,
          -0.25,
          -0.2,
          -0.15,
          -0.1,
          -0.05,
          0,
          0.05,
          0.1,
          0.15,
          0.2,
          0.25,
          0.3,
          0.35
         ],
         "type": "category"
        },
        "yaxis": {
         "anchor": "x",
         "domain": [
          0.555,
          1
         ],
         "title": "vol skew"
        },
        "yaxis2": {
         "anchor": "x2",
         "domain": [
          0.555,
          1
         ],
         "title": "vol skew"
        },
        "yaxis3": {
         "anchor": "x3",
         "domain": [
          0,
          0.445
         ],
         "title": "vol skew"
        },
        "yaxis4": {
         "anchor": "x4",
         "domain": [
          0,
          0.445
         ],
         "title": "vol skew"
        }
       }
      },
      "text/html": [
       "<div id=\"8f9e8521-1d5d-444f-8ac0-940717c9d54c\" style=\"height: 800px; width: 900px;\" class=\"plotly-graph-div\"></div><script type=\"text/javascript\">require([\"plotly\"], function(Plotly) { window.PLOTLYENV=window.PLOTLYENV || {};window.PLOTLYENV.BASE_URL=\"https://plot.ly\";Plotly.newPlot(\"8f9e8521-1d5d-444f-8ac0-940717c9d54c\", [{\"legendgroup\": \"chart (1, 1)\", \"name\": \"chart (1, 1) 20181001\", \"uid\": \"2ace2b18-fff6-11e9-bd53-8c859025e7f9\", \"x\": [-0.3, -0.25, -0.2, -0.15, -0.1, -0.05, 0.0, 0.05, 0.1, 0.15, 0.2, 0.25, 0.3, 0.35], \"y\": [0.1279, 0.0938, 0.0621, 0.0371, 0.016, 0.0059, 0.0, 0.0024, 0.0103, 0.0228, 0.0396, 0.0587, 0.0774, null], \"yaxis\": \"y\", \"type\": \"scatter\", \"xaxis\": \"x\"}, {\"legendgroup\": \"chart (1, 1)\", \"name\": \"chart (1, 1) 20181002\", \"uid\": \"2aceabe2-fff6-11e9-9d50-8c859025e7f9\", \"x\": [-0.3, -0.25, -0.2, -0.15, -0.1, -0.05, 0.0, 0.05, 0.1, 0.15, 0.2, 0.25, 0.3, 0.35], \"y\": [0.1331, 0.0989, 0.0659, 0.0382, 0.0171, 0.0044, 0.0, 0.0005, 0.0092, 0.0235, 0.0418, 0.0601, 0.079, null], \"yaxis\": \"y\", \"type\": \"scatter\", \"xaxis\": \"x\"}, {\"legendgroup\": \"chart (1, 1)\", \"name\": \"chart (1, 1) 20181003\", \"uid\": \"2acf43a4-fff6-11e9-9714-8c859025e7f9\", \"x\": [-0.3, -0.25, -0.2, -0.15, -0.1, -0.05, 0.0, 0.05, 0.1, 0.15, 0.2, 0.25, 0.3, 0.35], \"y\": [0.1359, 0.0894, 0.0598, 0.0339, 0.0146, 0.0017, 0.0, 0.0023, 0.0121, 0.0274, 0.0471, 0.0656, 0.0864, null], \"yaxis\": \"y\", \"type\": \"scatter\", \"xaxis\": \"x\"}, {\"legendgroup\": \"chart (1, 1)\", \"name\": \"chart (1, 1) 20181004\", \"uid\": \"2acfb886-fff6-11e9-a8c9-8c859025e7f9\", \"x\": [-0.3, -0.25, -0.2, -0.15, -0.1, -0.05, 0.0, 0.05, 0.1, 0.15, 0.2, 0.25, 0.3, 0.35], \"y\": [0.1328, 0.1058, 0.0726, 0.0425, 0.022, 0.0071, 0.0, 0.0035, 0.0123, 0.0242, 0.0398, 0.0593, 0.076, null], \"yaxis\": \"y\", \"type\": \"scatter\", \"xaxis\": \"x\"}, {\"legendgroup\": \"chart (1, 1)\", \"name\": \"chart (1, 1) 20181005\", \"uid\": \"2ad01a22-fff6-11e9-b392-8c859025e7f9\", \"x\": [-0.3, -0.25, -0.2, -0.15, -0.1, -0.05, 0.0, 0.05, 0.1, 0.15, 0.2, 0.25, 0.3, 0.35], \"y\": [0.1339, 0.0933, 0.0643, 0.0381, 0.0152, 0.0026, 0.0, 0.0012, 0.0111, 0.0237, 0.0395, 0.0571, 0.0756, null], \"yaxis\": \"y\", \"type\": \"scatter\", \"xaxis\": \"x\"}, {\"legendgroup\": \"chart (1, 2)\", \"name\": \"chart (1, 2) 20181008\", \"uid\": \"2ad142c6-fff6-11e9-8d41-8c859025e7f9\", \"x\": [-0.3, -0.25, -0.2, -0.15, -0.1, -0.05, 0.0, 0.05, 0.1, 0.15, 0.2, 0.25, 0.3, 0.35], \"y\": [0.1339, 0.105, 0.0737, 0.0434, 0.0207, 0.0067, 0.0, 0.0018, 0.0136, 0.0276, 0.0461, 0.0672, 0.0826, null], \"yaxis\": \"y2\", \"type\": \"scatter\", \"xaxis\": \"x2\"}, {\"legendgroup\": \"chart (1, 2)\", \"name\": \"chart (1, 2) 20181009\", \"uid\": \"2ad1b38c-fff6-11e9-beb6-8c859025e7f9\", \"x\": [-0.3, -0.25, -0.2, -0.15, -0.1, -0.05, 0.0, 0.05, 0.1, 0.15, 0.2, 0.25, 0.3, 0.35], \"y\": [0.1364, 0.1024, 0.072, 0.0445, 0.019, 0.006, 0.0, 0.004, 0.0164, 0.0322, 0.0522, 0.071, 0.092, null], \"yaxis\": \"y2\", \"type\": \"scatter\", \"xaxis\": \"x2\"}, {\"legendgroup\": \"chart (1, 2)\", \"name\": \"chart (1, 2) 20181010\", \"uid\": \"2ad22e1e-fff6-11e9-bd48-8c859025e7f9\", \"x\": [-0.3, -0.25, -0.2, -0.15, -0.1, -0.05, 0.0, 0.05, 0.1, 0.15, 0.2, 0.25, 0.3, 0.35], \"y\": [0.1436, 0.1037, 0.0772, 0.0436, 0.0207, 0.0073, 0.0, 0.0018, 0.0103, 0.0236, 0.0414, 0.0624, 0.0783, 0.0981], \"yaxis\": \"y2\", \"type\": \"scatter\", \"xaxis\": \"x2\"}, {\"legendgroup\": \"chart (1, 2)\", \"name\": \"chart (1, 2) 20181011\", \"uid\": \"2ad29608-fff6-11e9-b14f-8c859025e7f9\", \"x\": [-0.3, -0.25, -0.2, -0.15, -0.1, -0.05, 0.0, 0.05, 0.1, 0.15, 0.2, 0.25, 0.3, 0.35], \"y\": [0.1432, 0.1143, 0.0741, 0.0469, 0.0224, 0.007, 0.0, -0.0035, 0.0017, 0.0124, 0.0294, 0.0487, 0.0653, 0.0921], \"yaxis\": \"y2\", \"type\": \"scatter\", \"xaxis\": \"x2\"}, {\"legendgroup\": \"chart (1, 2)\", \"name\": \"chart (1, 2) 20181012\", \"uid\": \"2ad3080c-fff6-11e9-95ff-8c859025e7f9\", \"x\": [-0.3, -0.25, -0.2, -0.15, -0.1, -0.05, 0.0, 0.05, 0.1, 0.15, 0.2, 0.25, 0.3, 0.35], \"y\": [0.1567, 0.1273, 0.0877, 0.054, 0.027, 0.0099, 0.0, -0.002, 0.0043, 0.0175, 0.038, 0.0565, 0.0846, 0.1023], \"yaxis\": \"y2\", \"type\": \"scatter\", \"xaxis\": \"x2\"}, {\"legendgroup\": \"chart (2, 1)\", \"name\": \"chart (2, 1) 20181015\", \"uid\": \"2ad404a2-fff6-11e9-8e1d-8c859025e7f9\", \"x\": [-0.3, -0.25, -0.2, -0.15, -0.1, -0.05, 0.0, 0.05, 0.1, 0.15, 0.2, 0.25, 0.3, 0.35], \"y\": [0.1675, 0.1113, 0.0781, 0.0462, 0.0218, 0.0056, 0.0, 0.0009, 0.0119, 0.0294, 0.0508, 0.0712, 0.094, 0.1138], \"yaxis\": \"y3\", \"type\": \"scatter\", \"xaxis\": \"x3\"}, {\"legendgroup\": \"chart (2, 1)\", \"name\": \"chart (2, 1) 20181016\", \"uid\": \"2ad47c70-fff6-11e9-b35b-8c859025e7f9\", \"x\": [-0.3, -0.25, -0.2, -0.15, -0.1, -0.05, 0.0, 0.05, 0.1, 0.15, 0.2, 0.25, 0.3, 0.35], \"y\": [0.1434, 0.1144, 0.0797, 0.0476, 0.0233, 0.0062, 0.0, 0.0039, 0.0172, 0.0378, 0.065, 0.0875, 0.1087, 0.1379], \"yaxis\": \"y3\", \"type\": \"scatter\", \"xaxis\": \"x3\"}, {\"legendgroup\": \"chart (2, 1)\", \"name\": \"chart (2, 1) 20181017\", \"uid\": \"2ad4ec0a-fff6-11e9-94e5-8c859025e7f9\", \"x\": [-0.3, -0.25, -0.2, -0.15, -0.1, -0.05, 0.0, 0.05, 0.1, 0.15, 0.2, 0.25, 0.3, 0.35], \"y\": [0.1733, 0.1221, 0.0835, 0.0528, 0.0246, 0.0086, 0.0, 0.004, 0.0191, 0.0412, 0.0673, 0.0937, 0.117, 0.1486], \"yaxis\": \"y3\", \"type\": \"scatter\", \"xaxis\": \"x3\"}, {\"legendgroup\": \"chart (2, 1)\", \"name\": \"chart (2, 1) 20181018\", \"uid\": \"2ad559c6-fff6-11e9-b041-8c859025e7f9\", \"x\": [-0.3, -0.25, -0.2, -0.15, -0.1, -0.05, 0.0, 0.05, 0.1, 0.15, 0.2, 0.25, 0.3, 0.35], \"y\": [0.1469, 0.1215, null, 0.0504, 0.0242, 0.007, 0.0, -0.0028, 0.0086, 0.0283, null, 0.0865, 0.112, 0.1335], \"yaxis\": \"y3\", \"type\": \"scatter\", \"xaxis\": \"x3\"}, {\"legendgroup\": \"chart (2, 1)\", \"name\": \"chart (2, 1) 20181019\", \"uid\": \"2ad5f818-fff6-11e9-974b-8c859025e7f9\", \"x\": [-0.3, -0.25, -0.2, -0.15, -0.1, -0.05, 0.0, 0.05, 0.1, 0.15, 0.2, 0.25, 0.3, 0.35], \"y\": [0.1559, 0.1122, 0.0783, 0.0485, 0.0214, 0.0053, 0.0, -0.0023, 0.0082, 0.0316, 0.055, 0.0801, 0.111, 0.143], \"yaxis\": \"y3\", \"type\": \"scatter\", \"xaxis\": \"x3\"}, {\"legendgroup\": \"chart (2, 2)\", \"name\": \"chart (2, 2) 20181022\", \"uid\": \"2ad7161a-fff6-11e9-88bd-8c859025e7f9\", \"x\": [-0.3, -0.25, -0.2, -0.15, -0.1, -0.05, 0.0, 0.05, 0.1, 0.15, 0.2, 0.25, 0.3, 0.35], \"y\": [0.1769, 0.1401, 0.0954, 0.0574, 0.0266, 0.0059, 0.0, 0.0026, 0.0172, 0.0402, 0.0678, 0.0996, 0.1281, 0.1592], \"yaxis\": \"y4\", \"type\": \"scatter\", \"xaxis\": \"x4\"}, {\"legendgroup\": \"chart (2, 2)\", \"name\": \"chart (2, 2) 20181023\", \"uid\": \"2ad793cc-fff6-11e9-a8a4-8c859025e7f9\", \"x\": [-0.3, -0.25, -0.2, -0.15, -0.1, -0.05, 0.0, 0.05, 0.1, 0.15, 0.2, 0.25, 0.3, 0.35], \"y\": [0.229, 0.1751, 0.1225, 0.0716, 0.0368, 0.0145, 0.0, 0.0028, 0.0145, 0.0349, 0.0658, 0.0956, 0.1271, 0.1458], \"yaxis\": \"y4\", \"type\": \"scatter\", \"xaxis\": \"x4\"}, {\"legendgroup\": \"chart (2, 2)\", \"name\": \"chart (2, 2) 20181024\", \"uid\": \"2ad82a9e-fff6-11e9-a099-8c859025e7f9\", \"x\": [-0.3, -0.25, -0.2, -0.15, -0.1, -0.05, 0.0, 0.05, 0.1, 0.15, 0.2, 0.25, 0.3, 0.35], \"y\": [0.2136, 0.1699, 0.1223, 0.0786, 0.041, 0.0167, 0.0, 0.0028, 0.012, 0.034, 0.0606, 0.0902, 0.123, 0.1538], \"yaxis\": \"y4\", \"type\": \"scatter\", \"xaxis\": \"x4\"}, {\"legendgroup\": \"chart (2, 2)\", \"name\": \"chart (2, 2) 20181025\", \"uid\": \"2ad89fda-fff6-11e9-af90-8c859025e7f9\", \"x\": [-0.3, -0.25, -0.2, -0.15, -0.1, -0.05, 0.0, 0.05, 0.1, 0.15, 0.2, 0.25, 0.3, 0.35], \"y\": [0.2229, 0.1621, 0.1184, 0.0738, 0.034, 0.0099, 0.0, -0.0035, 0.0095, 0.0316, 0.057, 0.0808, 0.1171, 0.1433], \"yaxis\": \"y4\", \"type\": \"scatter\", \"xaxis\": \"x4\"}, {\"legendgroup\": \"chart (2, 2)\", \"name\": \"chart (2, 2) 20181026\", \"uid\": \"2ad9095c-fff6-11e9-bb0b-8c859025e7f9\", \"x\": [-0.3, -0.25, -0.2, -0.15, -0.1, -0.05, 0.0, 0.05, 0.1, 0.15, 0.2, 0.25, 0.3, 0.35], \"y\": [0.2132, 0.1708, 0.1237, 0.0765, 0.0402, 0.0173, 0.0, 0.0036, 0.0156, 0.0385, 0.0684, 0.0997, 0.126, 0.1523], \"yaxis\": \"y4\", \"type\": \"scatter\", \"xaxis\": \"x4\"}], {\"annotations\": [{\"font\": {\"size\": 16}, \"showarrow\": false, \"text\": \"CBF19 20181001 - 20181005\", \"x\": 0.2275, \"xanchor\": \"center\", \"xref\": \"paper\", \"y\": 1.0, \"yanchor\": \"bottom\", \"yref\": \"paper\"}, {\"font\": {\"size\": 16}, \"showarrow\": false, \"text\": \"CBF19 20181008 - 20181012\", \"x\": 0.7725, \"xanchor\": \"center\", \"xref\": \"paper\", \"y\": 1.0, \"yanchor\": \"bottom\", \"yref\": \"paper\"}, {\"font\": {\"size\": 16}, \"showarrow\": false, \"text\": \"CBF19 20181015 - 20181019\", \"x\": 0.2275, \"xanchor\": \"center\", \"xref\": \"paper\", \"y\": 0.445, \"yanchor\": \"bottom\", \"yref\": \"paper\"}, {\"font\": {\"size\": 16}, \"showarrow\": false, \"text\": \"CBF19 20181022 - 20181026\", \"x\": 0.7725, \"xanchor\": \"center\", \"xref\": \"paper\", \"y\": 0.445, \"yanchor\": \"bottom\", \"yref\": \"paper\"}], \"xaxis\": {\"anchor\": \"y\", \"domain\": [0.0, 0.455], \"tickangle\": 45, \"ticktext\": [-0.3, -0.25, -0.2, -0.15, -0.1, -0.05, 0.0, 0.05, 0.1, 0.15, 0.2, 0.25, 0.3, 0.35], \"tickvals\": [-0.3, -0.25, -0.2, -0.15, -0.1, -0.05, 0.0, 0.05, 0.1, 0.15, 0.2, 0.25, 0.3, 0.35], \"type\": \"category\"}, \"yaxis\": {\"anchor\": \"x\", \"domain\": [0.555, 1.0], \"title\": \"vol skew\"}, \"xaxis2\": {\"anchor\": \"y2\", \"domain\": [0.545, 1.0], \"tickangle\": 45, \"ticktext\": [-0.3, -0.25, -0.2, -0.15, -0.1, -0.05, 0.0, 0.05, 0.1, 0.15, 0.2, 0.25, 0.3, 0.35], \"tickvals\": [-0.3, -0.25, -0.2, -0.15, -0.1, -0.05, 0.0, 0.05, 0.1, 0.15, 0.2, 0.25, 0.3, 0.35], \"type\": \"category\"}, \"yaxis2\": {\"anchor\": \"x2\", \"domain\": [0.555, 1.0], \"title\": \"vol skew\"}, \"xaxis3\": {\"anchor\": \"y3\", \"domain\": [0.0, 0.455], \"tickangle\": 45, \"ticktext\": [-0.3, -0.25, -0.2, -0.15, -0.1, -0.05, 0.0, 0.05, 0.1, 0.15, 0.2, 0.25, 0.3, 0.35], \"tickvals\": [-0.3, -0.25, -0.2, -0.15, -0.1, -0.05, 0.0, 0.05, 0.1, 0.15, 0.2, 0.25, 0.3, 0.35], \"type\": \"category\"}, \"yaxis3\": {\"anchor\": \"x3\", \"domain\": [0.0, 0.445], \"title\": \"vol skew\"}, \"xaxis4\": {\"anchor\": \"y4\", \"domain\": [0.545, 1.0], \"tickangle\": 45, \"ticktext\": [-0.3, -0.25, -0.2, -0.15, -0.1, -0.05, 0.0, 0.05, 0.1, 0.15, 0.2, 0.25, 0.3, 0.35], \"tickvals\": [-0.3, -0.25, -0.2, -0.15, -0.1, -0.05, 0.0, 0.05, 0.1, 0.15, 0.2, 0.25, 0.3, 0.35], \"type\": \"category\"}, \"yaxis4\": {\"anchor\": \"x4\", \"domain\": [0.0, 0.445], \"title\": \"vol skew\"}, \"font\": {\"family\": \"Open Sans, sans-serif\"}, \"margin\": {\"b\": 55, \"l\": 45, \"r\": 15, \"t\": 50}, \"title\": \"Skew plots<br>\", \"showlegend\": true, \"hovermode\": \"x\", \"autosize\": true, \"width\": 900, \"height\": 800, \"plot_bgcolor\": \"#EFECEA\", \"bargap\": 0.05}, {\"showLink\": true, \"linkText\": \"Export to plot.ly\"})});</script>"
      ],
      "text/vnd.plotly.v1+html": [
       "<div id=\"8f9e8521-1d5d-444f-8ac0-940717c9d54c\" style=\"height: 800px; width: 900px;\" class=\"plotly-graph-div\"></div><script type=\"text/javascript\">require([\"plotly\"], function(Plotly) { window.PLOTLYENV=window.PLOTLYENV || {};window.PLOTLYENV.BASE_URL=\"https://plot.ly\";Plotly.newPlot(\"8f9e8521-1d5d-444f-8ac0-940717c9d54c\", [{\"legendgroup\": \"chart (1, 1)\", \"name\": \"chart (1, 1) 20181001\", \"uid\": \"2ace2b18-fff6-11e9-bd53-8c859025e7f9\", \"x\": [-0.3, -0.25, -0.2, -0.15, -0.1, -0.05, 0.0, 0.05, 0.1, 0.15, 0.2, 0.25, 0.3, 0.35], \"y\": [0.1279, 0.0938, 0.0621, 0.0371, 0.016, 0.0059, 0.0, 0.0024, 0.0103, 0.0228, 0.0396, 0.0587, 0.0774, null], \"yaxis\": \"y\", \"type\": \"scatter\", \"xaxis\": \"x\"}, {\"legendgroup\": \"chart (1, 1)\", \"name\": \"chart (1, 1) 20181002\", \"uid\": \"2aceabe2-fff6-11e9-9d50-8c859025e7f9\", \"x\": [-0.3, -0.25, -0.2, -0.15, -0.1, -0.05, 0.0, 0.05, 0.1, 0.15, 0.2, 0.25, 0.3, 0.35], \"y\": [0.1331, 0.0989, 0.0659, 0.0382, 0.0171, 0.0044, 0.0, 0.0005, 0.0092, 0.0235, 0.0418, 0.0601, 0.079, null], \"yaxis\": \"y\", \"type\": \"scatter\", \"xaxis\": \"x\"}, {\"legendgroup\": \"chart (1, 1)\", \"name\": \"chart (1, 1) 20181003\", \"uid\": \"2acf43a4-fff6-11e9-9714-8c859025e7f9\", \"x\": [-0.3, -0.25, -0.2, -0.15, -0.1, -0.05, 0.0, 0.05, 0.1, 0.15, 0.2, 0.25, 0.3, 0.35], \"y\": [0.1359, 0.0894, 0.0598, 0.0339, 0.0146, 0.0017, 0.0, 0.0023, 0.0121, 0.0274, 0.0471, 0.0656, 0.0864, null], \"yaxis\": \"y\", \"type\": \"scatter\", \"xaxis\": \"x\"}, {\"legendgroup\": \"chart (1, 1)\", \"name\": \"chart (1, 1) 20181004\", \"uid\": \"2acfb886-fff6-11e9-a8c9-8c859025e7f9\", \"x\": [-0.3, -0.25, -0.2, -0.15, -0.1, -0.05, 0.0, 0.05, 0.1, 0.15, 0.2, 0.25, 0.3, 0.35], \"y\": [0.1328, 0.1058, 0.0726, 0.0425, 0.022, 0.0071, 0.0, 0.0035, 0.0123, 0.0242, 0.0398, 0.0593, 0.076, null], \"yaxis\": \"y\", \"type\": \"scatter\", \"xaxis\": \"x\"}, {\"legendgroup\": \"chart (1, 1)\", \"name\": \"chart (1, 1) 20181005\", \"uid\": \"2ad01a22-fff6-11e9-b392-8c859025e7f9\", \"x\": [-0.3, -0.25, -0.2, -0.15, -0.1, -0.05, 0.0, 0.05, 0.1, 0.15, 0.2, 0.25, 0.3, 0.35], \"y\": [0.1339, 0.0933, 0.0643, 0.0381, 0.0152, 0.0026, 0.0, 0.0012, 0.0111, 0.0237, 0.0395, 0.0571, 0.0756, null], \"yaxis\": \"y\", \"type\": \"scatter\", \"xaxis\": \"x\"}, {\"legendgroup\": \"chart (1, 2)\", \"name\": \"chart (1, 2) 20181008\", \"uid\": \"2ad142c6-fff6-11e9-8d41-8c859025e7f9\", \"x\": [-0.3, -0.25, -0.2, -0.15, -0.1, -0.05, 0.0, 0.05, 0.1, 0.15, 0.2, 0.25, 0.3, 0.35], \"y\": [0.1339, 0.105, 0.0737, 0.0434, 0.0207, 0.0067, 0.0, 0.0018, 0.0136, 0.0276, 0.0461, 0.0672, 0.0826, null], \"yaxis\": \"y2\", \"type\": \"scatter\", \"xaxis\": \"x2\"}, {\"legendgroup\": \"chart (1, 2)\", \"name\": \"chart (1, 2) 20181009\", \"uid\": \"2ad1b38c-fff6-11e9-beb6-8c859025e7f9\", \"x\": [-0.3, -0.25, -0.2, -0.15, -0.1, -0.05, 0.0, 0.05, 0.1, 0.15, 0.2, 0.25, 0.3, 0.35], \"y\": [0.1364, 0.1024, 0.072, 0.0445, 0.019, 0.006, 0.0, 0.004, 0.0164, 0.0322, 0.0522, 0.071, 0.092, null], \"yaxis\": \"y2\", \"type\": \"scatter\", \"xaxis\": \"x2\"}, {\"legendgroup\": \"chart (1, 2)\", \"name\": \"chart (1, 2) 20181010\", \"uid\": \"2ad22e1e-fff6-11e9-bd48-8c859025e7f9\", \"x\": [-0.3, -0.25, -0.2, -0.15, -0.1, -0.05, 0.0, 0.05, 0.1, 0.15, 0.2, 0.25, 0.3, 0.35], \"y\": [0.1436, 0.1037, 0.0772, 0.0436, 0.0207, 0.0073, 0.0, 0.0018, 0.0103, 0.0236, 0.0414, 0.0624, 0.0783, 0.0981], \"yaxis\": \"y2\", \"type\": \"scatter\", \"xaxis\": \"x2\"}, {\"legendgroup\": \"chart (1, 2)\", \"name\": \"chart (1, 2) 20181011\", \"uid\": \"2ad29608-fff6-11e9-b14f-8c859025e7f9\", \"x\": [-0.3, -0.25, -0.2, -0.15, -0.1, -0.05, 0.0, 0.05, 0.1, 0.15, 0.2, 0.25, 0.3, 0.35], \"y\": [0.1432, 0.1143, 0.0741, 0.0469, 0.0224, 0.007, 0.0, -0.0035, 0.0017, 0.0124, 0.0294, 0.0487, 0.0653, 0.0921], \"yaxis\": \"y2\", \"type\": \"scatter\", \"xaxis\": \"x2\"}, {\"legendgroup\": \"chart (1, 2)\", \"name\": \"chart (1, 2) 20181012\", \"uid\": \"2ad3080c-fff6-11e9-95ff-8c859025e7f9\", \"x\": [-0.3, -0.25, -0.2, -0.15, -0.1, -0.05, 0.0, 0.05, 0.1, 0.15, 0.2, 0.25, 0.3, 0.35], \"y\": [0.1567, 0.1273, 0.0877, 0.054, 0.027, 0.0099, 0.0, -0.002, 0.0043, 0.0175, 0.038, 0.0565, 0.0846, 0.1023], \"yaxis\": \"y2\", \"type\": \"scatter\", \"xaxis\": \"x2\"}, {\"legendgroup\": \"chart (2, 1)\", \"name\": \"chart (2, 1) 20181015\", \"uid\": \"2ad404a2-fff6-11e9-8e1d-8c859025e7f9\", \"x\": [-0.3, -0.25, -0.2, -0.15, -0.1, -0.05, 0.0, 0.05, 0.1, 0.15, 0.2, 0.25, 0.3, 0.35], \"y\": [0.1675, 0.1113, 0.0781, 0.0462, 0.0218, 0.0056, 0.0, 0.0009, 0.0119, 0.0294, 0.0508, 0.0712, 0.094, 0.1138], \"yaxis\": \"y3\", \"type\": \"scatter\", \"xaxis\": \"x3\"}, {\"legendgroup\": \"chart (2, 1)\", \"name\": \"chart (2, 1) 20181016\", \"uid\": \"2ad47c70-fff6-11e9-b35b-8c859025e7f9\", \"x\": [-0.3, -0.25, -0.2, -0.15, -0.1, -0.05, 0.0, 0.05, 0.1, 0.15, 0.2, 0.25, 0.3, 0.35], \"y\": [0.1434, 0.1144, 0.0797, 0.0476, 0.0233, 0.0062, 0.0, 0.0039, 0.0172, 0.0378, 0.065, 0.0875, 0.1087, 0.1379], \"yaxis\": \"y3\", \"type\": \"scatter\", \"xaxis\": \"x3\"}, {\"legendgroup\": \"chart (2, 1)\", \"name\": \"chart (2, 1) 20181017\", \"uid\": \"2ad4ec0a-fff6-11e9-94e5-8c859025e7f9\", \"x\": [-0.3, -0.25, -0.2, -0.15, -0.1, -0.05, 0.0, 0.05, 0.1, 0.15, 0.2, 0.25, 0.3, 0.35], \"y\": [0.1733, 0.1221, 0.0835, 0.0528, 0.0246, 0.0086, 0.0, 0.004, 0.0191, 0.0412, 0.0673, 0.0937, 0.117, 0.1486], \"yaxis\": \"y3\", \"type\": \"scatter\", \"xaxis\": \"x3\"}, {\"legendgroup\": \"chart (2, 1)\", \"name\": \"chart (2, 1) 20181018\", \"uid\": \"2ad559c6-fff6-11e9-b041-8c859025e7f9\", \"x\": [-0.3, -0.25, -0.2, -0.15, -0.1, -0.05, 0.0, 0.05, 0.1, 0.15, 0.2, 0.25, 0.3, 0.35], \"y\": [0.1469, 0.1215, null, 0.0504, 0.0242, 0.007, 0.0, -0.0028, 0.0086, 0.0283, null, 0.0865, 0.112, 0.1335], \"yaxis\": \"y3\", \"type\": \"scatter\", \"xaxis\": \"x3\"}, {\"legendgroup\": \"chart (2, 1)\", \"name\": \"chart (2, 1) 20181019\", \"uid\": \"2ad5f818-fff6-11e9-974b-8c859025e7f9\", \"x\": [-0.3, -0.25, -0.2, -0.15, -0.1, -0.05, 0.0, 0.05, 0.1, 0.15, 0.2, 0.25, 0.3, 0.35], \"y\": [0.1559, 0.1122, 0.0783, 0.0485, 0.0214, 0.0053, 0.0, -0.0023, 0.0082, 0.0316, 0.055, 0.0801, 0.111, 0.143], \"yaxis\": \"y3\", \"type\": \"scatter\", \"xaxis\": \"x3\"}, {\"legendgroup\": \"chart (2, 2)\", \"name\": \"chart (2, 2) 20181022\", \"uid\": \"2ad7161a-fff6-11e9-88bd-8c859025e7f9\", \"x\": [-0.3, -0.25, -0.2, -0.15, -0.1, -0.05, 0.0, 0.05, 0.1, 0.15, 0.2, 0.25, 0.3, 0.35], \"y\": [0.1769, 0.1401, 0.0954, 0.0574, 0.0266, 0.0059, 0.0, 0.0026, 0.0172, 0.0402, 0.0678, 0.0996, 0.1281, 0.1592], \"yaxis\": \"y4\", \"type\": \"scatter\", \"xaxis\": \"x4\"}, {\"legendgroup\": \"chart (2, 2)\", \"name\": \"chart (2, 2) 20181023\", \"uid\": \"2ad793cc-fff6-11e9-a8a4-8c859025e7f9\", \"x\": [-0.3, -0.25, -0.2, -0.15, -0.1, -0.05, 0.0, 0.05, 0.1, 0.15, 0.2, 0.25, 0.3, 0.35], \"y\": [0.229, 0.1751, 0.1225, 0.0716, 0.0368, 0.0145, 0.0, 0.0028, 0.0145, 0.0349, 0.0658, 0.0956, 0.1271, 0.1458], \"yaxis\": \"y4\", \"type\": \"scatter\", \"xaxis\": \"x4\"}, {\"legendgroup\": \"chart (2, 2)\", \"name\": \"chart (2, 2) 20181024\", \"uid\": \"2ad82a9e-fff6-11e9-a099-8c859025e7f9\", \"x\": [-0.3, -0.25, -0.2, -0.15, -0.1, -0.05, 0.0, 0.05, 0.1, 0.15, 0.2, 0.25, 0.3, 0.35], \"y\": [0.2136, 0.1699, 0.1223, 0.0786, 0.041, 0.0167, 0.0, 0.0028, 0.012, 0.034, 0.0606, 0.0902, 0.123, 0.1538], \"yaxis\": \"y4\", \"type\": \"scatter\", \"xaxis\": \"x4\"}, {\"legendgroup\": \"chart (2, 2)\", \"name\": \"chart (2, 2) 20181025\", \"uid\": \"2ad89fda-fff6-11e9-af90-8c859025e7f9\", \"x\": [-0.3, -0.25, -0.2, -0.15, -0.1, -0.05, 0.0, 0.05, 0.1, 0.15, 0.2, 0.25, 0.3, 0.35], \"y\": [0.2229, 0.1621, 0.1184, 0.0738, 0.034, 0.0099, 0.0, -0.0035, 0.0095, 0.0316, 0.057, 0.0808, 0.1171, 0.1433], \"yaxis\": \"y4\", \"type\": \"scatter\", \"xaxis\": \"x4\"}, {\"legendgroup\": \"chart (2, 2)\", \"name\": \"chart (2, 2) 20181026\", \"uid\": \"2ad9095c-fff6-11e9-bb0b-8c859025e7f9\", \"x\": [-0.3, -0.25, -0.2, -0.15, -0.1, -0.05, 0.0, 0.05, 0.1, 0.15, 0.2, 0.25, 0.3, 0.35], \"y\": [0.2132, 0.1708, 0.1237, 0.0765, 0.0402, 0.0173, 0.0, 0.0036, 0.0156, 0.0385, 0.0684, 0.0997, 0.126, 0.1523], \"yaxis\": \"y4\", \"type\": \"scatter\", \"xaxis\": \"x4\"}], {\"annotations\": [{\"font\": {\"size\": 16}, \"showarrow\": false, \"text\": \"CBF19 20181001 - 20181005\", \"x\": 0.2275, \"xanchor\": \"center\", \"xref\": \"paper\", \"y\": 1.0, \"yanchor\": \"bottom\", \"yref\": \"paper\"}, {\"font\": {\"size\": 16}, \"showarrow\": false, \"text\": \"CBF19 20181008 - 20181012\", \"x\": 0.7725, \"xanchor\": \"center\", \"xref\": \"paper\", \"y\": 1.0, \"yanchor\": \"bottom\", \"yref\": \"paper\"}, {\"font\": {\"size\": 16}, \"showarrow\": false, \"text\": \"CBF19 20181015 - 20181019\", \"x\": 0.2275, \"xanchor\": \"center\", \"xref\": \"paper\", \"y\": 0.445, \"yanchor\": \"bottom\", \"yref\": \"paper\"}, {\"font\": {\"size\": 16}, \"showarrow\": false, \"text\": \"CBF19 20181022 - 20181026\", \"x\": 0.7725, \"xanchor\": \"center\", \"xref\": \"paper\", \"y\": 0.445, \"yanchor\": \"bottom\", \"yref\": \"paper\"}], \"xaxis\": {\"anchor\": \"y\", \"domain\": [0.0, 0.455], \"tickangle\": 45, \"ticktext\": [-0.3, -0.25, -0.2, -0.15, -0.1, -0.05, 0.0, 0.05, 0.1, 0.15, 0.2, 0.25, 0.3, 0.35], \"tickvals\": [-0.3, -0.25, -0.2, -0.15, -0.1, -0.05, 0.0, 0.05, 0.1, 0.15, 0.2, 0.25, 0.3, 0.35], \"type\": \"category\"}, \"yaxis\": {\"anchor\": \"x\", \"domain\": [0.555, 1.0], \"title\": \"vol skew\"}, \"xaxis2\": {\"anchor\": \"y2\", \"domain\": [0.545, 1.0], \"tickangle\": 45, \"ticktext\": [-0.3, -0.25, -0.2, -0.15, -0.1, -0.05, 0.0, 0.05, 0.1, 0.15, 0.2, 0.25, 0.3, 0.35], \"tickvals\": [-0.3, -0.25, -0.2, -0.15, -0.1, -0.05, 0.0, 0.05, 0.1, 0.15, 0.2, 0.25, 0.3, 0.35], \"type\": \"category\"}, \"yaxis2\": {\"anchor\": \"x2\", \"domain\": [0.555, 1.0], \"title\": \"vol skew\"}, \"xaxis3\": {\"anchor\": \"y3\", \"domain\": [0.0, 0.455], \"tickangle\": 45, \"ticktext\": [-0.3, -0.25, -0.2, -0.15, -0.1, -0.05, 0.0, 0.05, 0.1, 0.15, 0.2, 0.25, 0.3, 0.35], \"tickvals\": [-0.3, -0.25, -0.2, -0.15, -0.1, -0.05, 0.0, 0.05, 0.1, 0.15, 0.2, 0.25, 0.3, 0.35], \"type\": \"category\"}, \"yaxis3\": {\"anchor\": \"x3\", \"domain\": [0.0, 0.445], \"title\": \"vol skew\"}, \"xaxis4\": {\"anchor\": \"y4\", \"domain\": [0.545, 1.0], \"tickangle\": 45, \"ticktext\": [-0.3, -0.25, -0.2, -0.15, -0.1, -0.05, 0.0, 0.05, 0.1, 0.15, 0.2, 0.25, 0.3, 0.35], \"tickvals\": [-0.3, -0.25, -0.2, -0.15, -0.1, -0.05, 0.0, 0.05, 0.1, 0.15, 0.2, 0.25, 0.3, 0.35], \"type\": \"category\"}, \"yaxis4\": {\"anchor\": \"x4\", \"domain\": [0.0, 0.445], \"title\": \"vol skew\"}, \"font\": {\"family\": \"Open Sans, sans-serif\"}, \"margin\": {\"b\": 55, \"l\": 45, \"r\": 15, \"t\": 50}, \"title\": \"Skew plots<br>\", \"showlegend\": true, \"hovermode\": \"x\", \"autosize\": true, \"width\": 900, \"height\": 800, \"plot_bgcolor\": \"#EFECEA\", \"bargap\": 0.05}, {\"showLink\": true, \"linkText\": \"Export to plot.ly\"})});</script>"
      ]
     },
     "metadata": {},
     "output_type": "display_data"
    },
    {
     "data": {
      "application/vnd.plotly.v1+json": {
       "data": [
        {
         "legendgroup": "chart (1, 1)",
         "name": "chart (1, 1) 20181029",
         "type": "scatter",
         "uid": "2ae2c398-fff6-11e9-b8d4-8c859025e7f9",
         "x": [
          -0.3,
          -0.25,
          -0.2,
          -0.15,
          -0.1,
          -0.05,
          0,
          0.05,
          0.1,
          0.15,
          0.2,
          0.25,
          0.3,
          0.35
         ],
         "xaxis": "x",
         "y": [
          0.2112,
          0.1595,
          0.1172,
          0.0714,
          0.0343,
          0.0092,
          0,
          -0.0011,
          0.0152,
          0.0374,
          0.0658,
          0.0961,
          0.1217,
          0.1629
         ],
         "yaxis": "y"
        },
        {
         "legendgroup": "chart (1, 1)",
         "name": "chart (1, 1) 20181030",
         "type": "scatter",
         "uid": "2ae34eda-fff6-11e9-ada9-8c859025e7f9",
         "x": [
          -0.3,
          -0.25,
          -0.2,
          -0.15,
          -0.1,
          -0.05,
          0,
          0.05,
          0.1,
          0.15,
          0.2,
          0.25,
          0.3,
          0.35
         ],
         "xaxis": "x",
         "y": [
          0.222,
          0.1811,
          0.1262,
          0.0803,
          0.0372,
          0.0137,
          0,
          -0.0028,
          0.0099,
          0.0304,
          0.0564,
          0.0799,
          0.1131,
          0.1302
         ],
         "yaxis": "y"
        },
        {
         "legendgroup": "chart (1, 1)",
         "name": "chart (1, 1) 20181031",
         "type": "scatter",
         "uid": "2ae3c0b8-fff6-11e9-914f-8c859025e7f9",
         "x": [
          -0.3,
          -0.25,
          -0.2,
          -0.15,
          -0.1,
          -0.05,
          0,
          0.05,
          0.1,
          0.15,
          0.2,
          0.25,
          0.3,
          0.35
         ],
         "xaxis": "x",
         "y": [
          null,
          0.1845,
          0.1372,
          0.0842,
          0.0424,
          0.0162,
          0,
          -0.0014,
          0.0124,
          0.0373,
          0.0646,
          0.1003,
          0.132,
          0.1487
         ],
         "yaxis": "y"
        }
       ],
       "layout": {
        "annotations": [
         {
          "font": {
           "size": 16
          },
          "showarrow": false,
          "text": "CBF19 20181029 - 20181031",
          "x": 0.2275,
          "xanchor": "center",
          "xref": "paper",
          "y": 1,
          "yanchor": "bottom",
          "yref": "paper"
         }
        ],
        "autosize": true,
        "bargap": 0.05,
        "font": {
         "family": "Open Sans, sans-serif"
        },
        "height": 800,
        "hovermode": "x",
        "margin": {
         "b": 55,
         "l": 45,
         "r": 15,
         "t": 50
        },
        "plot_bgcolor": "#EFECEA",
        "showlegend": true,
        "title": "Skew plots<br>",
        "width": 900,
        "xaxis": {
         "anchor": "y",
         "domain": [
          0,
          0.455
         ],
         "tickangle": 45,
         "ticktext": [
          -0.3,
          -0.25,
          -0.2,
          -0.15,
          -0.1,
          -0.05,
          0,
          0.05,
          0.1,
          0.15,
          0.2,
          0.25,
          0.3,
          0.35
         ],
         "tickvals": [
          -0.3,
          -0.25,
          -0.2,
          -0.15,
          -0.1,
          -0.05,
          0,
          0.05,
          0.1,
          0.15,
          0.2,
          0.25,
          0.3,
          0.35
         ],
         "type": "category"
        },
        "xaxis2": {
         "anchor": "y2",
         "domain": [
          0.545,
          1
         ]
        },
        "xaxis3": {
         "anchor": "y3",
         "domain": [
          0,
          0.455
         ]
        },
        "xaxis4": {
         "anchor": "y4",
         "domain": [
          0.545,
          1
         ]
        },
        "yaxis": {
         "anchor": "x",
         "domain": [
          0.555,
          1
         ],
         "title": "vol skew"
        },
        "yaxis2": {
         "anchor": "x2",
         "domain": [
          0.555,
          1
         ]
        },
        "yaxis3": {
         "anchor": "x3",
         "domain": [
          0,
          0.445
         ]
        },
        "yaxis4": {
         "anchor": "x4",
         "domain": [
          0,
          0.445
         ]
        }
       }
      },
      "text/html": [
       "<div id=\"bbfc6bba-0b54-43aa-ba9d-4521f1ef4f90\" style=\"height: 800px; width: 900px;\" class=\"plotly-graph-div\"></div><script type=\"text/javascript\">require([\"plotly\"], function(Plotly) { window.PLOTLYENV=window.PLOTLYENV || {};window.PLOTLYENV.BASE_URL=\"https://plot.ly\";Plotly.newPlot(\"bbfc6bba-0b54-43aa-ba9d-4521f1ef4f90\", [{\"legendgroup\": \"chart (1, 1)\", \"name\": \"chart (1, 1) 20181029\", \"uid\": \"2ae2c398-fff6-11e9-b8d4-8c859025e7f9\", \"x\": [-0.3, -0.25, -0.2, -0.15, -0.1, -0.05, 0.0, 0.05, 0.1, 0.15, 0.2, 0.25, 0.3, 0.35], \"y\": [0.2112, 0.1595, 0.1172, 0.0714, 0.0343, 0.0092, 0.0, -0.0011, 0.0152, 0.0374, 0.0658, 0.0961, 0.1217, 0.1629], \"yaxis\": \"y\", \"type\": \"scatter\", \"xaxis\": \"x\"}, {\"legendgroup\": \"chart (1, 1)\", \"name\": \"chart (1, 1) 20181030\", \"uid\": \"2ae34eda-fff6-11e9-ada9-8c859025e7f9\", \"x\": [-0.3, -0.25, -0.2, -0.15, -0.1, -0.05, 0.0, 0.05, 0.1, 0.15, 0.2, 0.25, 0.3, 0.35], \"y\": [0.222, 0.1811, 0.1262, 0.0803, 0.0372, 0.0137, 0.0, -0.0028, 0.0099, 0.0304, 0.0564, 0.0799, 0.1131, 0.1302], \"yaxis\": \"y\", \"type\": \"scatter\", \"xaxis\": \"x\"}, {\"legendgroup\": \"chart (1, 1)\", \"name\": \"chart (1, 1) 20181031\", \"uid\": \"2ae3c0b8-fff6-11e9-914f-8c859025e7f9\", \"x\": [-0.3, -0.25, -0.2, -0.15, -0.1, -0.05, 0.0, 0.05, 0.1, 0.15, 0.2, 0.25, 0.3, 0.35], \"y\": [null, 0.1845, 0.1372, 0.0842, 0.0424, 0.0162, 0.0, -0.0014, 0.0124, 0.0373, 0.0646, 0.1003, 0.132, 0.1487], \"yaxis\": \"y\", \"type\": \"scatter\", \"xaxis\": \"x\"}], {\"annotations\": [{\"font\": {\"size\": 16}, \"showarrow\": false, \"text\": \"CBF19 20181029 - 20181031\", \"x\": 0.2275, \"xanchor\": \"center\", \"xref\": \"paper\", \"y\": 1.0, \"yanchor\": \"bottom\", \"yref\": \"paper\"}], \"xaxis\": {\"anchor\": \"y\", \"domain\": [0.0, 0.455], \"tickangle\": 45, \"ticktext\": [-0.3, -0.25, -0.2, -0.15, -0.1, -0.05, 0.0, 0.05, 0.1, 0.15, 0.2, 0.25, 0.3, 0.35], \"tickvals\": [-0.3, -0.25, -0.2, -0.15, -0.1, -0.05, 0.0, 0.05, 0.1, 0.15, 0.2, 0.25, 0.3, 0.35], \"type\": \"category\"}, \"yaxis\": {\"anchor\": \"x\", \"domain\": [0.555, 1.0], \"title\": \"vol skew\"}, \"xaxis2\": {\"anchor\": \"y2\", \"domain\": [0.545, 1.0]}, \"yaxis2\": {\"anchor\": \"x2\", \"domain\": [0.555, 1.0]}, \"xaxis3\": {\"anchor\": \"y3\", \"domain\": [0.0, 0.455]}, \"yaxis3\": {\"anchor\": \"x3\", \"domain\": [0.0, 0.445]}, \"xaxis4\": {\"anchor\": \"y4\", \"domain\": [0.545, 1.0]}, \"yaxis4\": {\"anchor\": \"x4\", \"domain\": [0.0, 0.445]}, \"font\": {\"family\": \"Open Sans, sans-serif\"}, \"margin\": {\"b\": 55, \"l\": 45, \"r\": 15, \"t\": 50}, \"title\": \"Skew plots<br>\", \"showlegend\": true, \"hovermode\": \"x\", \"autosize\": true, \"width\": 900, \"height\": 800, \"plot_bgcolor\": \"#EFECEA\", \"bargap\": 0.05}, {\"showLink\": true, \"linkText\": \"Export to plot.ly\"})});</script>"
      ],
      "text/vnd.plotly.v1+html": [
       "<div id=\"bbfc6bba-0b54-43aa-ba9d-4521f1ef4f90\" style=\"height: 800px; width: 900px;\" class=\"plotly-graph-div\"></div><script type=\"text/javascript\">require([\"plotly\"], function(Plotly) { window.PLOTLYENV=window.PLOTLYENV || {};window.PLOTLYENV.BASE_URL=\"https://plot.ly\";Plotly.newPlot(\"bbfc6bba-0b54-43aa-ba9d-4521f1ef4f90\", [{\"legendgroup\": \"chart (1, 1)\", \"name\": \"chart (1, 1) 20181029\", \"uid\": \"2ae2c398-fff6-11e9-b8d4-8c859025e7f9\", \"x\": [-0.3, -0.25, -0.2, -0.15, -0.1, -0.05, 0.0, 0.05, 0.1, 0.15, 0.2, 0.25, 0.3, 0.35], \"y\": [0.2112, 0.1595, 0.1172, 0.0714, 0.0343, 0.0092, 0.0, -0.0011, 0.0152, 0.0374, 0.0658, 0.0961, 0.1217, 0.1629], \"yaxis\": \"y\", \"type\": \"scatter\", \"xaxis\": \"x\"}, {\"legendgroup\": \"chart (1, 1)\", \"name\": \"chart (1, 1) 20181030\", \"uid\": \"2ae34eda-fff6-11e9-ada9-8c859025e7f9\", \"x\": [-0.3, -0.25, -0.2, -0.15, -0.1, -0.05, 0.0, 0.05, 0.1, 0.15, 0.2, 0.25, 0.3, 0.35], \"y\": [0.222, 0.1811, 0.1262, 0.0803, 0.0372, 0.0137, 0.0, -0.0028, 0.0099, 0.0304, 0.0564, 0.0799, 0.1131, 0.1302], \"yaxis\": \"y\", \"type\": \"scatter\", \"xaxis\": \"x\"}, {\"legendgroup\": \"chart (1, 1)\", \"name\": \"chart (1, 1) 20181031\", \"uid\": \"2ae3c0b8-fff6-11e9-914f-8c859025e7f9\", \"x\": [-0.3, -0.25, -0.2, -0.15, -0.1, -0.05, 0.0, 0.05, 0.1, 0.15, 0.2, 0.25, 0.3, 0.35], \"y\": [null, 0.1845, 0.1372, 0.0842, 0.0424, 0.0162, 0.0, -0.0014, 0.0124, 0.0373, 0.0646, 0.1003, 0.132, 0.1487], \"yaxis\": \"y\", \"type\": \"scatter\", \"xaxis\": \"x\"}], {\"annotations\": [{\"font\": {\"size\": 16}, \"showarrow\": false, \"text\": \"CBF19 20181029 - 20181031\", \"x\": 0.2275, \"xanchor\": \"center\", \"xref\": \"paper\", \"y\": 1.0, \"yanchor\": \"bottom\", \"yref\": \"paper\"}], \"xaxis\": {\"anchor\": \"y\", \"domain\": [0.0, 0.455], \"tickangle\": 45, \"ticktext\": [-0.3, -0.25, -0.2, -0.15, -0.1, -0.05, 0.0, 0.05, 0.1, 0.15, 0.2, 0.25, 0.3, 0.35], \"tickvals\": [-0.3, -0.25, -0.2, -0.15, -0.1, -0.05, 0.0, 0.05, 0.1, 0.15, 0.2, 0.25, 0.3, 0.35], \"type\": \"category\"}, \"yaxis\": {\"anchor\": \"x\", \"domain\": [0.555, 1.0], \"title\": \"vol skew\"}, \"xaxis2\": {\"anchor\": \"y2\", \"domain\": [0.545, 1.0]}, \"yaxis2\": {\"anchor\": \"x2\", \"domain\": [0.555, 1.0]}, \"xaxis3\": {\"anchor\": \"y3\", \"domain\": [0.0, 0.455]}, \"yaxis3\": {\"anchor\": \"x3\", \"domain\": [0.0, 0.445]}, \"xaxis4\": {\"anchor\": \"y4\", \"domain\": [0.545, 1.0]}, \"yaxis4\": {\"anchor\": \"x4\", \"domain\": [0.0, 0.445]}, \"font\": {\"family\": \"Open Sans, sans-serif\"}, \"margin\": {\"b\": 55, \"l\": 45, \"r\": 15, \"t\": 50}, \"title\": \"Skew plots<br>\", \"showlegend\": true, \"hovermode\": \"x\", \"autosize\": true, \"width\": 900, \"height\": 800, \"plot_bgcolor\": \"#EFECEA\", \"bargap\": 0.05}, {\"showLink\": true, \"linkText\": \"Export to plot.ly\"})});</script>"
      ]
     },
     "metadata": {},
     "output_type": "display_data"
    },
    {
     "data": {
      "application/vnd.plotly.v1+json": {
       "data": [
        {
         "legendgroup": "chart (1, 1)",
         "name": "chart (1, 1) 20181101",
         "type": "scatter",
         "uid": "2b44f75c-fff6-11e9-93df-8c859025e7f9",
         "x": [
          -0.3,
          -0.25,
          -0.2,
          -0.15,
          -0.1,
          -0.05,
          0,
          0.05,
          0.1,
          0.15,
          0.2,
          0.25,
          0.3,
          0.35
         ],
         "xaxis": "x",
         "y": [
          0.1552,
          0.1227,
          0.088,
          0.0569,
          0.031,
          0.0126,
          0,
          -0.0067,
          -0.0061,
          0.0041,
          0.0151,
          0.0289,
          0.0456,
          null
         ],
         "yaxis": "y"
        },
        {
         "legendgroup": "chart (1, 1)",
         "name": "chart (1, 1) 20181102",
         "type": "scatter",
         "uid": "2b456174-fff6-11e9-95c0-8c859025e7f9",
         "x": [
          -0.3,
          -0.25,
          -0.2,
          -0.15,
          -0.1,
          -0.05,
          0,
          0.05,
          0.1,
          0.15,
          0.2,
          0.25,
          0.3,
          0.35
         ],
         "xaxis": "x",
         "y": [
          0.1662,
          0.1208,
          0.0863,
          0.0563,
          0.0301,
          0.0104,
          0,
          -0.009,
          -0.0097,
          -0.0042,
          0.0091,
          0.022,
          0.0438,
          null
         ],
         "yaxis": "y"
        },
        {
         "legendgroup": "chart (1, 1)",
         "name": "chart (1, 1) 20181105",
         "type": "scatter",
         "uid": "2b45c10a-fff6-11e9-ae2c-8c859025e7f9",
         "x": [
          -0.3,
          -0.25,
          -0.2,
          -0.15,
          -0.1,
          -0.05,
          0,
          0.05,
          0.1,
          0.15,
          0.2,
          0.25,
          0.3,
          0.35
         ],
         "xaxis": "x",
         "y": [
          0.1733,
          0.1281,
          0.0888,
          0.0557,
          0.032,
          0.0134,
          0,
          -0.0054,
          -0.0005,
          0.0088,
          0.0208,
          0.037,
          null,
          null
         ],
         "yaxis": "y"
        },
        {
         "legendgroup": "chart (1, 1)",
         "name": "chart (1, 1) 20181106",
         "type": "scatter",
         "uid": "2b463d88-fff6-11e9-be1b-8c859025e7f9",
         "x": [
          -0.3,
          -0.25,
          -0.2,
          -0.15,
          -0.1,
          -0.05,
          0,
          0.05,
          0.1,
          0.15,
          0.2,
          0.25,
          0.3,
          0.35
         ],
         "xaxis": "x",
         "y": [
          0.1781,
          0.1322,
          0.0965,
          0.0629,
          0.0361,
          0.0166,
          0,
          -0.0067,
          -0.0067,
          0,
          0.0082,
          0.0273,
          0.0469,
          null
         ],
         "yaxis": "y"
        },
        {
         "legendgroup": "chart (1, 1)",
         "name": "chart (1, 1) 20181107",
         "type": "scatter",
         "uid": "2b46bcb8-fff6-11e9-bd77-8c859025e7f9",
         "x": [
          -0.3,
          -0.25,
          -0.2,
          -0.15,
          -0.1,
          -0.05,
          0,
          0.05,
          0.1,
          0.15,
          0.2,
          0.25,
          0.3,
          0.35
         ],
         "xaxis": "x",
         "y": [
          0.1647,
          0.1298,
          0.0884,
          0.0537,
          0.0296,
          0.014,
          0,
          -0.0066,
          -0.0058,
          0.0001,
          0.0138,
          0.0389,
          0.0611,
          null
         ],
         "yaxis": "y"
        },
        {
         "legendgroup": "chart (1, 2)",
         "name": "chart (1, 2) 20181108",
         "type": "scatter",
         "uid": "2b47c892-fff6-11e9-84e8-8c859025e7f9",
         "x": [
          -0.3,
          -0.25,
          -0.2,
          -0.15,
          -0.1,
          -0.05,
          0,
          0.05,
          0.1,
          0.15,
          0.2,
          0.25,
          0.3,
          0.35
         ],
         "xaxis": "x2",
         "y": [
          0.1553,
          0.1184,
          0.0819,
          0.0532,
          0.0284,
          0.01,
          0,
          -0.0091,
          -0.0092,
          -0.0043,
          0.0076,
          0.0283,
          0.0603,
          null
         ],
         "yaxis": "y2"
        },
        {
         "legendgroup": "chart (1, 2)",
         "name": "chart (1, 2) 20181109",
         "type": "scatter",
         "uid": "2b483946-fff6-11e9-af95-8c859025e7f9",
         "x": [
          -0.3,
          -0.25,
          -0.2,
          -0.15,
          -0.1,
          -0.05,
          0,
          0.05,
          0.1,
          0.15,
          0.2,
          0.25,
          0.3,
          0.35
         ],
         "xaxis": "x2",
         "y": [
          0.1661,
          0.1205,
          0.0833,
          0.0535,
          0.0302,
          0.0123,
          0,
          -0.0134,
          -0.0191,
          -0.018,
          -0.0096,
          0.0156,
          0.0378,
          null
         ],
         "yaxis": "y2"
        },
        {
         "legendgroup": "chart (1, 2)",
         "name": "chart (1, 2) 20181112",
         "type": "scatter",
         "uid": "2b48b7ca-fff6-11e9-b0b3-8c859025e7f9",
         "x": [
          -0.3,
          -0.25,
          -0.2,
          -0.15,
          -0.1,
          -0.05,
          0,
          0.05,
          0.1,
          0.15,
          0.2,
          0.25,
          0.3,
          0.35
         ],
         "xaxis": "x2",
         "y": [
          0.164,
          0.1232,
          0.0853,
          0.0544,
          0.0293,
          0.012,
          0,
          -0.0112,
          -0.0157,
          -0.0117,
          0.0015,
          0.0301,
          0.0603,
          null
         ],
         "yaxis": "y2"
        },
        {
         "legendgroup": "chart (1, 2)",
         "name": "chart (1, 2) 20181113",
         "type": "scatter",
         "uid": "2b4936c8-fff6-11e9-8dd0-8c859025e7f9",
         "x": [
          -0.3,
          -0.25,
          -0.2,
          -0.15,
          -0.1,
          -0.05,
          0,
          0.05,
          0.1,
          0.15,
          0.2,
          0.25,
          0.3,
          0.35
         ],
         "xaxis": "x2",
         "y": [
          0.1468,
          0.1187,
          0.0936,
          0.0689,
          0.0452,
          0.0224,
          0,
          -0.0304,
          -0.0505,
          -0.0672,
          -0.0721,
          -0.0611,
          -0.0465,
          -0.0239
         ],
         "yaxis": "y2"
        },
        {
         "legendgroup": "chart (1, 2)",
         "name": "chart (1, 2) 20181114",
         "type": "scatter",
         "uid": "2b49c3a4-fff6-11e9-8e74-8c859025e7f9",
         "x": [
          -0.3,
          -0.25,
          -0.2,
          -0.15,
          -0.1,
          -0.05,
          0,
          0.05,
          0.1,
          0.15,
          0.2,
          0.25,
          0.3,
          0.35
         ],
         "xaxis": "x2",
         "y": [
          0.1836,
          0.1442,
          0.1074,
          0.0754,
          0.0498,
          0.0244,
          0,
          -0.0274,
          -0.0474,
          -0.0591,
          -0.0553,
          -0.0455,
          -0.0293,
          -0.0085
         ],
         "yaxis": "y2"
        },
        {
         "legendgroup": "chart (2, 1)",
         "name": "chart (2, 1) 20181115",
         "type": "scatter",
         "uid": "2b4b18b4-fff6-11e9-987e-8c859025e7f9",
         "x": [
          -0.3,
          -0.25,
          -0.2,
          -0.15,
          -0.1,
          -0.05,
          0,
          0.05,
          0.1,
          0.15,
          0.2,
          0.25,
          0.3,
          0.35
         ],
         "xaxis": "x3",
         "y": [
          0.1859,
          0.136,
          0.1002,
          0.0702,
          0.0427,
          0.0216,
          0,
          -0.0268,
          -0.0424,
          -0.0461,
          -0.0343,
          -0.0109,
          0.0133,
          0.0462
         ],
         "yaxis": "y3"
        },
        {
         "legendgroup": "chart (2, 1)",
         "name": "chart (2, 1) 20181116",
         "type": "scatter",
         "uid": "2b4bae26-fff6-11e9-9526-8c859025e7f9",
         "x": [
          -0.3,
          -0.25,
          -0.2,
          -0.15,
          -0.1,
          -0.05,
          0,
          0.05,
          0.1,
          0.15,
          0.2,
          0.25,
          0.3,
          0.35
         ],
         "xaxis": "x3",
         "y": [
          0.1921,
          0.1461,
          0.1039,
          0.0718,
          0.0445,
          0.0229,
          0,
          -0.0207,
          -0.0362,
          -0.0374,
          -0.0251,
          -0.0071,
          0.0267,
          0.0447
         ],
         "yaxis": "y3"
        },
        {
         "legendgroup": "chart (2, 1)",
         "name": "chart (2, 1) 20181119",
         "type": "scatter",
         "uid": "2b4c437a-fff6-11e9-a2af-8c859025e7f9",
         "x": [
          -0.3,
          -0.25,
          -0.2,
          -0.15,
          -0.1,
          -0.05,
          0,
          0.05,
          0.1,
          0.15,
          0.2,
          0.25,
          0.3,
          0.35
         ],
         "xaxis": "x3",
         "y": [
          0.2031,
          0.1546,
          0.1156,
          0.0803,
          0.0504,
          0.0298,
          0,
          -0.0223,
          -0.0401,
          -0.0431,
          -0.0309,
          -0.0008,
          0.0285,
          0.0643
         ],
         "yaxis": "y3"
        },
        {
         "legendgroup": "chart (2, 1)",
         "name": "chart (2, 1) 20181120",
         "type": "scatter",
         "uid": "2b4cccc0-fff6-11e9-8a13-8c859025e7f9",
         "x": [
          -0.3,
          -0.25,
          -0.2,
          -0.15,
          -0.1,
          -0.05,
          0,
          0.05,
          0.1,
          0.15,
          0.2,
          0.25,
          0.3,
          0.35
         ],
         "xaxis": "x3",
         "y": [
          0.1772,
          0.1373,
          0.1038,
          0.0776,
          0.0505,
          0.0234,
          0,
          -0.0274,
          -0.0489,
          -0.0634,
          -0.0656,
          -0.0567,
          -0.045,
          -0.0206
         ],
         "yaxis": "y3"
        },
        {
         "legendgroup": "chart (2, 1)",
         "name": "chart (2, 1) 20181121",
         "type": "scatter",
         "uid": "2b4d5852-fff6-11e9-bfb4-8c859025e7f9",
         "x": [
          -0.3,
          -0.25,
          -0.2,
          -0.15,
          -0.1,
          -0.05,
          0,
          0.05,
          0.1,
          0.15,
          0.2,
          0.25,
          0.3,
          0.35
         ],
         "xaxis": "x3",
         "y": [
          0.2152,
          0.1705,
          0.1325,
          0.098,
          0.0641,
          0.0326,
          0,
          -0.0356,
          -0.0656,
          -0.0807,
          -0.0808,
          -0.0613,
          -0.0334,
          0.004
         ],
         "yaxis": "y3"
        },
        {
         "legendgroup": "chart (2, 2)",
         "name": "chart (2, 2) 20181122",
         "type": "scatter",
         "uid": "2b4e51d0-fff6-11e9-b8cf-8c859025e7f9",
         "x": [
          -0.3,
          -0.25,
          -0.2,
          -0.15,
          -0.1,
          -0.05,
          0,
          0.05,
          0.1,
          0.15,
          0.2,
          0.25,
          0.3,
          0.35
         ],
         "xaxis": "x4",
         "y": [
          0.2093,
          0.1779,
          0.1395,
          0.1014,
          0.0673,
          0.0316,
          0,
          -0.0343,
          -0.0634,
          -0.0809,
          -0.0833,
          -0.0706,
          -0.0437,
          -0.0065
         ],
         "yaxis": "y4"
        },
        {
         "legendgroup": "chart (2, 2)",
         "name": "chart (2, 2) 20181123",
         "type": "scatter",
         "uid": "2b4ec200-fff6-11e9-a1ae-8c859025e7f9",
         "x": [
          -0.3,
          -0.25,
          -0.2,
          -0.15,
          -0.1,
          -0.05,
          0,
          0.05,
          0.1,
          0.15,
          0.2,
          0.25,
          0.3,
          0.35
         ],
         "xaxis": "x4",
         "y": [
          0.1686,
          0.1359,
          0.1021,
          0.0761,
          0.0513,
          0.0247,
          0,
          -0.025,
          -0.0486,
          -0.0664,
          -0.0809,
          -0.087,
          -0.0774,
          -0.0563
         ],
         "yaxis": "y4"
        },
        {
         "legendgroup": "chart (2, 2)",
         "name": "chart (2, 2) 20181126",
         "type": "scatter",
         "uid": "2b4f385c-fff6-11e9-b318-8c859025e7f9",
         "x": [
          -0.3,
          -0.25,
          -0.2,
          -0.15,
          -0.1,
          -0.05,
          0,
          0.05,
          0.1,
          0.15,
          0.2,
          0.25,
          0.3,
          0.35
         ],
         "xaxis": "x4",
         "y": [
          0.2006,
          0.1475,
          0.109,
          0.0767,
          0.0504,
          0.0259,
          0,
          -0.0255,
          -0.0496,
          -0.0661,
          -0.0729,
          null,
          -0.0489,
          -0.0206
         ],
         "yaxis": "y4"
        },
        {
         "legendgroup": "chart (2, 2)",
         "name": "chart (2, 2) 20181127",
         "type": "scatter",
         "uid": "2b4faf12-fff6-11e9-af09-8c859025e7f9",
         "x": [
          -0.3,
          -0.25,
          -0.2,
          -0.15,
          -0.1,
          -0.05,
          0,
          0.05,
          0.1,
          0.15,
          0.2,
          0.25,
          0.3,
          0.35
         ],
         "xaxis": "x4",
         "y": [
          0.2102,
          0.1518,
          0.1115,
          0.0746,
          0.0445,
          0.0189,
          0,
          -0.0264,
          -0.0441,
          -0.0552,
          -0.0546,
          null,
          -0.0322,
          0.0007
         ],
         "yaxis": "y4"
        },
        {
         "legendgroup": "chart (2, 2)",
         "name": "chart (2, 2) 20181128",
         "type": "scatter",
         "uid": "2b50189e-fff6-11e9-be6d-8c859025e7f9",
         "x": [
          -0.3,
          -0.25,
          -0.2,
          -0.15,
          -0.1,
          -0.05,
          0,
          0.05,
          0.1,
          0.15,
          0.2,
          0.25,
          0.3,
          0.35
         ],
         "xaxis": "x4",
         "y": [
          0.241,
          0.1807,
          0.1284,
          0.0856,
          0.0525,
          0.0287,
          0,
          -0.017,
          -0.0281,
          -0.0303,
          -0.0288,
          -0.0138,
          0.0106,
          0.0392
         ],
         "yaxis": "y4"
        }
       ],
       "layout": {
        "annotations": [
         {
          "font": {
           "size": 16
          },
          "showarrow": false,
          "text": "CBG19 20181101 - 20181107",
          "x": 0.2275,
          "xanchor": "center",
          "xref": "paper",
          "y": 1,
          "yanchor": "bottom",
          "yref": "paper"
         },
         {
          "font": {
           "size": 16
          },
          "showarrow": false,
          "text": "CBG19 20181108 - 20181114",
          "x": 0.7725,
          "xanchor": "center",
          "xref": "paper",
          "y": 1,
          "yanchor": "bottom",
          "yref": "paper"
         },
         {
          "font": {
           "size": 16
          },
          "showarrow": false,
          "text": "CBG19 20181115 - 20181121",
          "x": 0.2275,
          "xanchor": "center",
          "xref": "paper",
          "y": 0.445,
          "yanchor": "bottom",
          "yref": "paper"
         },
         {
          "font": {
           "size": 16
          },
          "showarrow": false,
          "text": "CBG19 20181122 - 20181128",
          "x": 0.7725,
          "xanchor": "center",
          "xref": "paper",
          "y": 0.445,
          "yanchor": "bottom",
          "yref": "paper"
         }
        ],
        "autosize": true,
        "bargap": 0.05,
        "font": {
         "family": "Open Sans, sans-serif"
        },
        "height": 800,
        "hovermode": "x",
        "margin": {
         "b": 55,
         "l": 45,
         "r": 15,
         "t": 50
        },
        "plot_bgcolor": "#EFECEA",
        "showlegend": true,
        "title": "Skew plots<br>",
        "width": 900,
        "xaxis": {
         "anchor": "y",
         "domain": [
          0,
          0.455
         ],
         "tickangle": 45,
         "ticktext": [
          -0.3,
          -0.25,
          -0.2,
          -0.15,
          -0.1,
          -0.05,
          0,
          0.05,
          0.1,
          0.15,
          0.2,
          0.25,
          0.3,
          0.35
         ],
         "tickvals": [
          -0.3,
          -0.25,
          -0.2,
          -0.15,
          -0.1,
          -0.05,
          0,
          0.05,
          0.1,
          0.15,
          0.2,
          0.25,
          0.3,
          0.35
         ],
         "type": "category"
        },
        "xaxis2": {
         "anchor": "y2",
         "domain": [
          0.545,
          1
         ],
         "tickangle": 45,
         "ticktext": [
          -0.3,
          -0.25,
          -0.2,
          -0.15,
          -0.1,
          -0.05,
          0,
          0.05,
          0.1,
          0.15,
          0.2,
          0.25,
          0.3,
          0.35
         ],
         "tickvals": [
          -0.3,
          -0.25,
          -0.2,
          -0.15,
          -0.1,
          -0.05,
          0,
          0.05,
          0.1,
          0.15,
          0.2,
          0.25,
          0.3,
          0.35
         ],
         "type": "category"
        },
        "xaxis3": {
         "anchor": "y3",
         "domain": [
          0,
          0.455
         ],
         "tickangle": 45,
         "ticktext": [
          -0.3,
          -0.25,
          -0.2,
          -0.15,
          -0.1,
          -0.05,
          0,
          0.05,
          0.1,
          0.15,
          0.2,
          0.25,
          0.3,
          0.35
         ],
         "tickvals": [
          -0.3,
          -0.25,
          -0.2,
          -0.15,
          -0.1,
          -0.05,
          0,
          0.05,
          0.1,
          0.15,
          0.2,
          0.25,
          0.3,
          0.35
         ],
         "type": "category"
        },
        "xaxis4": {
         "anchor": "y4",
         "domain": [
          0.545,
          1
         ],
         "tickangle": 45,
         "ticktext": [
          -0.3,
          -0.25,
          -0.2,
          -0.15,
          -0.1,
          -0.05,
          0,
          0.05,
          0.1,
          0.15,
          0.2,
          0.25,
          0.3,
          0.35
         ],
         "tickvals": [
          -0.3,
          -0.25,
          -0.2,
          -0.15,
          -0.1,
          -0.05,
          0,
          0.05,
          0.1,
          0.15,
          0.2,
          0.25,
          0.3,
          0.35
         ],
         "type": "category"
        },
        "yaxis": {
         "anchor": "x",
         "domain": [
          0.555,
          1
         ],
         "title": "vol skew"
        },
        "yaxis2": {
         "anchor": "x2",
         "domain": [
          0.555,
          1
         ],
         "title": "vol skew"
        },
        "yaxis3": {
         "anchor": "x3",
         "domain": [
          0,
          0.445
         ],
         "title": "vol skew"
        },
        "yaxis4": {
         "anchor": "x4",
         "domain": [
          0,
          0.445
         ],
         "title": "vol skew"
        }
       }
      },
      "text/html": [
       "<div id=\"939db525-549b-4849-98fc-d05a3766aa14\" style=\"height: 800px; width: 900px;\" class=\"plotly-graph-div\"></div><script type=\"text/javascript\">require([\"plotly\"], function(Plotly) { window.PLOTLYENV=window.PLOTLYENV || {};window.PLOTLYENV.BASE_URL=\"https://plot.ly\";Plotly.newPlot(\"939db525-549b-4849-98fc-d05a3766aa14\", [{\"legendgroup\": \"chart (1, 1)\", \"name\": \"chart (1, 1) 20181101\", \"uid\": \"2b44f75c-fff6-11e9-93df-8c859025e7f9\", \"x\": [-0.3, -0.25, -0.2, -0.15, -0.1, -0.05, 0.0, 0.05, 0.1, 0.15, 0.2, 0.25, 0.3, 0.35], \"y\": [0.1552, 0.1227, 0.088, 0.0569, 0.031, 0.0126, 0.0, -0.0067, -0.0061, 0.0041, 0.0151, 0.0289, 0.0456, null], \"yaxis\": \"y\", \"type\": \"scatter\", \"xaxis\": \"x\"}, {\"legendgroup\": \"chart (1, 1)\", \"name\": \"chart (1, 1) 20181102\", \"uid\": \"2b456174-fff6-11e9-95c0-8c859025e7f9\", \"x\": [-0.3, -0.25, -0.2, -0.15, -0.1, -0.05, 0.0, 0.05, 0.1, 0.15, 0.2, 0.25, 0.3, 0.35], \"y\": [0.1662, 0.1208, 0.0863, 0.0563, 0.0301, 0.0104, 0.0, -0.009, -0.0097, -0.0042, 0.0091, 0.022, 0.0438, null], \"yaxis\": \"y\", \"type\": \"scatter\", \"xaxis\": \"x\"}, {\"legendgroup\": \"chart (1, 1)\", \"name\": \"chart (1, 1) 20181105\", \"uid\": \"2b45c10a-fff6-11e9-ae2c-8c859025e7f9\", \"x\": [-0.3, -0.25, -0.2, -0.15, -0.1, -0.05, 0.0, 0.05, 0.1, 0.15, 0.2, 0.25, 0.3, 0.35], \"y\": [0.1733, 0.1281, 0.0888, 0.0557, 0.032, 0.0134, 0.0, -0.0054, -0.0005, 0.0088, 0.0208, 0.037, null, null], \"yaxis\": \"y\", \"type\": \"scatter\", \"xaxis\": \"x\"}, {\"legendgroup\": \"chart (1, 1)\", \"name\": \"chart (1, 1) 20181106\", \"uid\": \"2b463d88-fff6-11e9-be1b-8c859025e7f9\", \"x\": [-0.3, -0.25, -0.2, -0.15, -0.1, -0.05, 0.0, 0.05, 0.1, 0.15, 0.2, 0.25, 0.3, 0.35], \"y\": [0.1781, 0.1322, 0.0965, 0.0629, 0.0361, 0.0166, 0.0, -0.0067, -0.0067, 0.0, 0.0082, 0.0273, 0.0469, null], \"yaxis\": \"y\", \"type\": \"scatter\", \"xaxis\": \"x\"}, {\"legendgroup\": \"chart (1, 1)\", \"name\": \"chart (1, 1) 20181107\", \"uid\": \"2b46bcb8-fff6-11e9-bd77-8c859025e7f9\", \"x\": [-0.3, -0.25, -0.2, -0.15, -0.1, -0.05, 0.0, 0.05, 0.1, 0.15, 0.2, 0.25, 0.3, 0.35], \"y\": [0.1647, 0.1298, 0.0884, 0.0537, 0.0296, 0.014, 0.0, -0.0066, -0.0058, 0.0001, 0.0138, 0.0389, 0.0611, null], \"yaxis\": \"y\", \"type\": \"scatter\", \"xaxis\": \"x\"}, {\"legendgroup\": \"chart (1, 2)\", \"name\": \"chart (1, 2) 20181108\", \"uid\": \"2b47c892-fff6-11e9-84e8-8c859025e7f9\", \"x\": [-0.3, -0.25, -0.2, -0.15, -0.1, -0.05, 0.0, 0.05, 0.1, 0.15, 0.2, 0.25, 0.3, 0.35], \"y\": [0.1553, 0.1184, 0.0819, 0.0532, 0.0284, 0.01, 0.0, -0.0091, -0.0092, -0.0043, 0.0076, 0.0283, 0.0603, null], \"yaxis\": \"y2\", \"type\": \"scatter\", \"xaxis\": \"x2\"}, {\"legendgroup\": \"chart (1, 2)\", \"name\": \"chart (1, 2) 20181109\", \"uid\": \"2b483946-fff6-11e9-af95-8c859025e7f9\", \"x\": [-0.3, -0.25, -0.2, -0.15, -0.1, -0.05, 0.0, 0.05, 0.1, 0.15, 0.2, 0.25, 0.3, 0.35], \"y\": [0.1661, 0.1205, 0.0833, 0.0535, 0.0302, 0.0123, 0.0, -0.0134, -0.0191, -0.018, -0.0096, 0.0156, 0.0378, null], \"yaxis\": \"y2\", \"type\": \"scatter\", \"xaxis\": \"x2\"}, {\"legendgroup\": \"chart (1, 2)\", \"name\": \"chart (1, 2) 20181112\", \"uid\": \"2b48b7ca-fff6-11e9-b0b3-8c859025e7f9\", \"x\": [-0.3, -0.25, -0.2, -0.15, -0.1, -0.05, 0.0, 0.05, 0.1, 0.15, 0.2, 0.25, 0.3, 0.35], \"y\": [0.164, 0.1232, 0.0853, 0.0544, 0.0293, 0.012, 0.0, -0.0112, -0.0157, -0.0117, 0.0015, 0.0301, 0.0603, null], \"yaxis\": \"y2\", \"type\": \"scatter\", \"xaxis\": \"x2\"}, {\"legendgroup\": \"chart (1, 2)\", \"name\": \"chart (1, 2) 20181113\", \"uid\": \"2b4936c8-fff6-11e9-8dd0-8c859025e7f9\", \"x\": [-0.3, -0.25, -0.2, -0.15, -0.1, -0.05, 0.0, 0.05, 0.1, 0.15, 0.2, 0.25, 0.3, 0.35], \"y\": [0.1468, 0.1187, 0.0936, 0.0689, 0.0452, 0.0224, 0.0, -0.0304, -0.0505, -0.0672, -0.0721, -0.0611, -0.0465, -0.0239], \"yaxis\": \"y2\", \"type\": \"scatter\", \"xaxis\": \"x2\"}, {\"legendgroup\": \"chart (1, 2)\", \"name\": \"chart (1, 2) 20181114\", \"uid\": \"2b49c3a4-fff6-11e9-8e74-8c859025e7f9\", \"x\": [-0.3, -0.25, -0.2, -0.15, -0.1, -0.05, 0.0, 0.05, 0.1, 0.15, 0.2, 0.25, 0.3, 0.35], \"y\": [0.1836, 0.1442, 0.1074, 0.0754, 0.0498, 0.0244, 0.0, -0.0274, -0.0474, -0.0591, -0.0553, -0.0455, -0.0293, -0.0085], \"yaxis\": \"y2\", \"type\": \"scatter\", \"xaxis\": \"x2\"}, {\"legendgroup\": \"chart (2, 1)\", \"name\": \"chart (2, 1) 20181115\", \"uid\": \"2b4b18b4-fff6-11e9-987e-8c859025e7f9\", \"x\": [-0.3, -0.25, -0.2, -0.15, -0.1, -0.05, 0.0, 0.05, 0.1, 0.15, 0.2, 0.25, 0.3, 0.35], \"y\": [0.1859, 0.136, 0.1002, 0.0702, 0.0427, 0.0216, 0.0, -0.0268, -0.0424, -0.0461, -0.0343, -0.0109, 0.0133, 0.0462], \"yaxis\": \"y3\", \"type\": \"scatter\", \"xaxis\": \"x3\"}, {\"legendgroup\": \"chart (2, 1)\", \"name\": \"chart (2, 1) 20181116\", \"uid\": \"2b4bae26-fff6-11e9-9526-8c859025e7f9\", \"x\": [-0.3, -0.25, -0.2, -0.15, -0.1, -0.05, 0.0, 0.05, 0.1, 0.15, 0.2, 0.25, 0.3, 0.35], \"y\": [0.1921, 0.1461, 0.1039, 0.0718, 0.0445, 0.0229, 0.0, -0.0207, -0.0362, -0.0374, -0.0251, -0.0071, 0.0267, 0.0447], \"yaxis\": \"y3\", \"type\": \"scatter\", \"xaxis\": \"x3\"}, {\"legendgroup\": \"chart (2, 1)\", \"name\": \"chart (2, 1) 20181119\", \"uid\": \"2b4c437a-fff6-11e9-a2af-8c859025e7f9\", \"x\": [-0.3, -0.25, -0.2, -0.15, -0.1, -0.05, 0.0, 0.05, 0.1, 0.15, 0.2, 0.25, 0.3, 0.35], \"y\": [0.2031, 0.1546, 0.1156, 0.0803, 0.0504, 0.0298, 0.0, -0.0223, -0.0401, -0.0431, -0.0309, -0.0008, 0.0285, 0.0643], \"yaxis\": \"y3\", \"type\": \"scatter\", \"xaxis\": \"x3\"}, {\"legendgroup\": \"chart (2, 1)\", \"name\": \"chart (2, 1) 20181120\", \"uid\": \"2b4cccc0-fff6-11e9-8a13-8c859025e7f9\", \"x\": [-0.3, -0.25, -0.2, -0.15, -0.1, -0.05, 0.0, 0.05, 0.1, 0.15, 0.2, 0.25, 0.3, 0.35], \"y\": [0.1772, 0.1373, 0.1038, 0.0776, 0.0505, 0.0234, 0.0, -0.0274, -0.0489, -0.0634, -0.0656, -0.0567, -0.045, -0.0206], \"yaxis\": \"y3\", \"type\": \"scatter\", \"xaxis\": \"x3\"}, {\"legendgroup\": \"chart (2, 1)\", \"name\": \"chart (2, 1) 20181121\", \"uid\": \"2b4d5852-fff6-11e9-bfb4-8c859025e7f9\", \"x\": [-0.3, -0.25, -0.2, -0.15, -0.1, -0.05, 0.0, 0.05, 0.1, 0.15, 0.2, 0.25, 0.3, 0.35], \"y\": [0.2152, 0.1705, 0.1325, 0.098, 0.0641, 0.0326, 0.0, -0.0356, -0.0656, -0.0807, -0.0808, -0.0613, -0.0334, 0.004], \"yaxis\": \"y3\", \"type\": \"scatter\", \"xaxis\": \"x3\"}, {\"legendgroup\": \"chart (2, 2)\", \"name\": \"chart (2, 2) 20181122\", \"uid\": \"2b4e51d0-fff6-11e9-b8cf-8c859025e7f9\", \"x\": [-0.3, -0.25, -0.2, -0.15, -0.1, -0.05, 0.0, 0.05, 0.1, 0.15, 0.2, 0.25, 0.3, 0.35], \"y\": [0.2093, 0.1779, 0.1395, 0.1014, 0.0673, 0.0316, 0.0, -0.0343, -0.0634, -0.0809, -0.0833, -0.0706, -0.0437, -0.0065], \"yaxis\": \"y4\", \"type\": \"scatter\", \"xaxis\": \"x4\"}, {\"legendgroup\": \"chart (2, 2)\", \"name\": \"chart (2, 2) 20181123\", \"uid\": \"2b4ec200-fff6-11e9-a1ae-8c859025e7f9\", \"x\": [-0.3, -0.25, -0.2, -0.15, -0.1, -0.05, 0.0, 0.05, 0.1, 0.15, 0.2, 0.25, 0.3, 0.35], \"y\": [0.1686, 0.1359, 0.1021, 0.0761, 0.0513, 0.0247, 0.0, -0.025, -0.0486, -0.0664, -0.0809, -0.087, -0.0774, -0.0563], \"yaxis\": \"y4\", \"type\": \"scatter\", \"xaxis\": \"x4\"}, {\"legendgroup\": \"chart (2, 2)\", \"name\": \"chart (2, 2) 20181126\", \"uid\": \"2b4f385c-fff6-11e9-b318-8c859025e7f9\", \"x\": [-0.3, -0.25, -0.2, -0.15, -0.1, -0.05, 0.0, 0.05, 0.1, 0.15, 0.2, 0.25, 0.3, 0.35], \"y\": [0.2006, 0.1475, 0.109, 0.0767, 0.0504, 0.0259, 0.0, -0.0255, -0.0496, -0.0661, -0.0729, null, -0.0489, -0.0206], \"yaxis\": \"y4\", \"type\": \"scatter\", \"xaxis\": \"x4\"}, {\"legendgroup\": \"chart (2, 2)\", \"name\": \"chart (2, 2) 20181127\", \"uid\": \"2b4faf12-fff6-11e9-af09-8c859025e7f9\", \"x\": [-0.3, -0.25, -0.2, -0.15, -0.1, -0.05, 0.0, 0.05, 0.1, 0.15, 0.2, 0.25, 0.3, 0.35], \"y\": [0.2102, 0.1518, 0.1115, 0.0746, 0.0445, 0.0189, 0.0, -0.0264, -0.0441, -0.0552, -0.0546, null, -0.0322, 0.0007], \"yaxis\": \"y4\", \"type\": \"scatter\", \"xaxis\": \"x4\"}, {\"legendgroup\": \"chart (2, 2)\", \"name\": \"chart (2, 2) 20181128\", \"uid\": \"2b50189e-fff6-11e9-be6d-8c859025e7f9\", \"x\": [-0.3, -0.25, -0.2, -0.15, -0.1, -0.05, 0.0, 0.05, 0.1, 0.15, 0.2, 0.25, 0.3, 0.35], \"y\": [0.241, 0.1807, 0.1284, 0.0856, 0.0525, 0.0287, 0.0, -0.017, -0.0281, -0.0303, -0.0288, -0.0138, 0.0106, 0.0392], \"yaxis\": \"y4\", \"type\": \"scatter\", \"xaxis\": \"x4\"}], {\"annotations\": [{\"font\": {\"size\": 16}, \"showarrow\": false, \"text\": \"CBG19 20181101 - 20181107\", \"x\": 0.2275, \"xanchor\": \"center\", \"xref\": \"paper\", \"y\": 1.0, \"yanchor\": \"bottom\", \"yref\": \"paper\"}, {\"font\": {\"size\": 16}, \"showarrow\": false, \"text\": \"CBG19 20181108 - 20181114\", \"x\": 0.7725, \"xanchor\": \"center\", \"xref\": \"paper\", \"y\": 1.0, \"yanchor\": \"bottom\", \"yref\": \"paper\"}, {\"font\": {\"size\": 16}, \"showarrow\": false, \"text\": \"CBG19 20181115 - 20181121\", \"x\": 0.2275, \"xanchor\": \"center\", \"xref\": \"paper\", \"y\": 0.445, \"yanchor\": \"bottom\", \"yref\": \"paper\"}, {\"font\": {\"size\": 16}, \"showarrow\": false, \"text\": \"CBG19 20181122 - 20181128\", \"x\": 0.7725, \"xanchor\": \"center\", \"xref\": \"paper\", \"y\": 0.445, \"yanchor\": \"bottom\", \"yref\": \"paper\"}], \"xaxis\": {\"anchor\": \"y\", \"domain\": [0.0, 0.455], \"tickangle\": 45, \"ticktext\": [-0.3, -0.25, -0.2, -0.15, -0.1, -0.05, 0.0, 0.05, 0.1, 0.15, 0.2, 0.25, 0.3, 0.35], \"tickvals\": [-0.3, -0.25, -0.2, -0.15, -0.1, -0.05, 0.0, 0.05, 0.1, 0.15, 0.2, 0.25, 0.3, 0.35], \"type\": \"category\"}, \"yaxis\": {\"anchor\": \"x\", \"domain\": [0.555, 1.0], \"title\": \"vol skew\"}, \"xaxis2\": {\"anchor\": \"y2\", \"domain\": [0.545, 1.0], \"tickangle\": 45, \"ticktext\": [-0.3, -0.25, -0.2, -0.15, -0.1, -0.05, 0.0, 0.05, 0.1, 0.15, 0.2, 0.25, 0.3, 0.35], \"tickvals\": [-0.3, -0.25, -0.2, -0.15, -0.1, -0.05, 0.0, 0.05, 0.1, 0.15, 0.2, 0.25, 0.3, 0.35], \"type\": \"category\"}, \"yaxis2\": {\"anchor\": \"x2\", \"domain\": [0.555, 1.0], \"title\": \"vol skew\"}, \"xaxis3\": {\"anchor\": \"y3\", \"domain\": [0.0, 0.455], \"tickangle\": 45, \"ticktext\": [-0.3, -0.25, -0.2, -0.15, -0.1, -0.05, 0.0, 0.05, 0.1, 0.15, 0.2, 0.25, 0.3, 0.35], \"tickvals\": [-0.3, -0.25, -0.2, -0.15, -0.1, -0.05, 0.0, 0.05, 0.1, 0.15, 0.2, 0.25, 0.3, 0.35], \"type\": \"category\"}, \"yaxis3\": {\"anchor\": \"x3\", \"domain\": [0.0, 0.445], \"title\": \"vol skew\"}, \"xaxis4\": {\"anchor\": \"y4\", \"domain\": [0.545, 1.0], \"tickangle\": 45, \"ticktext\": [-0.3, -0.25, -0.2, -0.15, -0.1, -0.05, 0.0, 0.05, 0.1, 0.15, 0.2, 0.25, 0.3, 0.35], \"tickvals\": [-0.3, -0.25, -0.2, -0.15, -0.1, -0.05, 0.0, 0.05, 0.1, 0.15, 0.2, 0.25, 0.3, 0.35], \"type\": \"category\"}, \"yaxis4\": {\"anchor\": \"x4\", \"domain\": [0.0, 0.445], \"title\": \"vol skew\"}, \"font\": {\"family\": \"Open Sans, sans-serif\"}, \"margin\": {\"b\": 55, \"l\": 45, \"r\": 15, \"t\": 50}, \"title\": \"Skew plots<br>\", \"showlegend\": true, \"hovermode\": \"x\", \"autosize\": true, \"width\": 900, \"height\": 800, \"plot_bgcolor\": \"#EFECEA\", \"bargap\": 0.05}, {\"showLink\": true, \"linkText\": \"Export to plot.ly\"})});</script>"
      ],
      "text/vnd.plotly.v1+html": [
       "<div id=\"939db525-549b-4849-98fc-d05a3766aa14\" style=\"height: 800px; width: 900px;\" class=\"plotly-graph-div\"></div><script type=\"text/javascript\">require([\"plotly\"], function(Plotly) { window.PLOTLYENV=window.PLOTLYENV || {};window.PLOTLYENV.BASE_URL=\"https://plot.ly\";Plotly.newPlot(\"939db525-549b-4849-98fc-d05a3766aa14\", [{\"legendgroup\": \"chart (1, 1)\", \"name\": \"chart (1, 1) 20181101\", \"uid\": \"2b44f75c-fff6-11e9-93df-8c859025e7f9\", \"x\": [-0.3, -0.25, -0.2, -0.15, -0.1, -0.05, 0.0, 0.05, 0.1, 0.15, 0.2, 0.25, 0.3, 0.35], \"y\": [0.1552, 0.1227, 0.088, 0.0569, 0.031, 0.0126, 0.0, -0.0067, -0.0061, 0.0041, 0.0151, 0.0289, 0.0456, null], \"yaxis\": \"y\", \"type\": \"scatter\", \"xaxis\": \"x\"}, {\"legendgroup\": \"chart (1, 1)\", \"name\": \"chart (1, 1) 20181102\", \"uid\": \"2b456174-fff6-11e9-95c0-8c859025e7f9\", \"x\": [-0.3, -0.25, -0.2, -0.15, -0.1, -0.05, 0.0, 0.05, 0.1, 0.15, 0.2, 0.25, 0.3, 0.35], \"y\": [0.1662, 0.1208, 0.0863, 0.0563, 0.0301, 0.0104, 0.0, -0.009, -0.0097, -0.0042, 0.0091, 0.022, 0.0438, null], \"yaxis\": \"y\", \"type\": \"scatter\", \"xaxis\": \"x\"}, {\"legendgroup\": \"chart (1, 1)\", \"name\": \"chart (1, 1) 20181105\", \"uid\": \"2b45c10a-fff6-11e9-ae2c-8c859025e7f9\", \"x\": [-0.3, -0.25, -0.2, -0.15, -0.1, -0.05, 0.0, 0.05, 0.1, 0.15, 0.2, 0.25, 0.3, 0.35], \"y\": [0.1733, 0.1281, 0.0888, 0.0557, 0.032, 0.0134, 0.0, -0.0054, -0.0005, 0.0088, 0.0208, 0.037, null, null], \"yaxis\": \"y\", \"type\": \"scatter\", \"xaxis\": \"x\"}, {\"legendgroup\": \"chart (1, 1)\", \"name\": \"chart (1, 1) 20181106\", \"uid\": \"2b463d88-fff6-11e9-be1b-8c859025e7f9\", \"x\": [-0.3, -0.25, -0.2, -0.15, -0.1, -0.05, 0.0, 0.05, 0.1, 0.15, 0.2, 0.25, 0.3, 0.35], \"y\": [0.1781, 0.1322, 0.0965, 0.0629, 0.0361, 0.0166, 0.0, -0.0067, -0.0067, 0.0, 0.0082, 0.0273, 0.0469, null], \"yaxis\": \"y\", \"type\": \"scatter\", \"xaxis\": \"x\"}, {\"legendgroup\": \"chart (1, 1)\", \"name\": \"chart (1, 1) 20181107\", \"uid\": \"2b46bcb8-fff6-11e9-bd77-8c859025e7f9\", \"x\": [-0.3, -0.25, -0.2, -0.15, -0.1, -0.05, 0.0, 0.05, 0.1, 0.15, 0.2, 0.25, 0.3, 0.35], \"y\": [0.1647, 0.1298, 0.0884, 0.0537, 0.0296, 0.014, 0.0, -0.0066, -0.0058, 0.0001, 0.0138, 0.0389, 0.0611, null], \"yaxis\": \"y\", \"type\": \"scatter\", \"xaxis\": \"x\"}, {\"legendgroup\": \"chart (1, 2)\", \"name\": \"chart (1, 2) 20181108\", \"uid\": \"2b47c892-fff6-11e9-84e8-8c859025e7f9\", \"x\": [-0.3, -0.25, -0.2, -0.15, -0.1, -0.05, 0.0, 0.05, 0.1, 0.15, 0.2, 0.25, 0.3, 0.35], \"y\": [0.1553, 0.1184, 0.0819, 0.0532, 0.0284, 0.01, 0.0, -0.0091, -0.0092, -0.0043, 0.0076, 0.0283, 0.0603, null], \"yaxis\": \"y2\", \"type\": \"scatter\", \"xaxis\": \"x2\"}, {\"legendgroup\": \"chart (1, 2)\", \"name\": \"chart (1, 2) 20181109\", \"uid\": \"2b483946-fff6-11e9-af95-8c859025e7f9\", \"x\": [-0.3, -0.25, -0.2, -0.15, -0.1, -0.05, 0.0, 0.05, 0.1, 0.15, 0.2, 0.25, 0.3, 0.35], \"y\": [0.1661, 0.1205, 0.0833, 0.0535, 0.0302, 0.0123, 0.0, -0.0134, -0.0191, -0.018, -0.0096, 0.0156, 0.0378, null], \"yaxis\": \"y2\", \"type\": \"scatter\", \"xaxis\": \"x2\"}, {\"legendgroup\": \"chart (1, 2)\", \"name\": \"chart (1, 2) 20181112\", \"uid\": \"2b48b7ca-fff6-11e9-b0b3-8c859025e7f9\", \"x\": [-0.3, -0.25, -0.2, -0.15, -0.1, -0.05, 0.0, 0.05, 0.1, 0.15, 0.2, 0.25, 0.3, 0.35], \"y\": [0.164, 0.1232, 0.0853, 0.0544, 0.0293, 0.012, 0.0, -0.0112, -0.0157, -0.0117, 0.0015, 0.0301, 0.0603, null], \"yaxis\": \"y2\", \"type\": \"scatter\", \"xaxis\": \"x2\"}, {\"legendgroup\": \"chart (1, 2)\", \"name\": \"chart (1, 2) 20181113\", \"uid\": \"2b4936c8-fff6-11e9-8dd0-8c859025e7f9\", \"x\": [-0.3, -0.25, -0.2, -0.15, -0.1, -0.05, 0.0, 0.05, 0.1, 0.15, 0.2, 0.25, 0.3, 0.35], \"y\": [0.1468, 0.1187, 0.0936, 0.0689, 0.0452, 0.0224, 0.0, -0.0304, -0.0505, -0.0672, -0.0721, -0.0611, -0.0465, -0.0239], \"yaxis\": \"y2\", \"type\": \"scatter\", \"xaxis\": \"x2\"}, {\"legendgroup\": \"chart (1, 2)\", \"name\": \"chart (1, 2) 20181114\", \"uid\": \"2b49c3a4-fff6-11e9-8e74-8c859025e7f9\", \"x\": [-0.3, -0.25, -0.2, -0.15, -0.1, -0.05, 0.0, 0.05, 0.1, 0.15, 0.2, 0.25, 0.3, 0.35], \"y\": [0.1836, 0.1442, 0.1074, 0.0754, 0.0498, 0.0244, 0.0, -0.0274, -0.0474, -0.0591, -0.0553, -0.0455, -0.0293, -0.0085], \"yaxis\": \"y2\", \"type\": \"scatter\", \"xaxis\": \"x2\"}, {\"legendgroup\": \"chart (2, 1)\", \"name\": \"chart (2, 1) 20181115\", \"uid\": \"2b4b18b4-fff6-11e9-987e-8c859025e7f9\", \"x\": [-0.3, -0.25, -0.2, -0.15, -0.1, -0.05, 0.0, 0.05, 0.1, 0.15, 0.2, 0.25, 0.3, 0.35], \"y\": [0.1859, 0.136, 0.1002, 0.0702, 0.0427, 0.0216, 0.0, -0.0268, -0.0424, -0.0461, -0.0343, -0.0109, 0.0133, 0.0462], \"yaxis\": \"y3\", \"type\": \"scatter\", \"xaxis\": \"x3\"}, {\"legendgroup\": \"chart (2, 1)\", \"name\": \"chart (2, 1) 20181116\", \"uid\": \"2b4bae26-fff6-11e9-9526-8c859025e7f9\", \"x\": [-0.3, -0.25, -0.2, -0.15, -0.1, -0.05, 0.0, 0.05, 0.1, 0.15, 0.2, 0.25, 0.3, 0.35], \"y\": [0.1921, 0.1461, 0.1039, 0.0718, 0.0445, 0.0229, 0.0, -0.0207, -0.0362, -0.0374, -0.0251, -0.0071, 0.0267, 0.0447], \"yaxis\": \"y3\", \"type\": \"scatter\", \"xaxis\": \"x3\"}, {\"legendgroup\": \"chart (2, 1)\", \"name\": \"chart (2, 1) 20181119\", \"uid\": \"2b4c437a-fff6-11e9-a2af-8c859025e7f9\", \"x\": [-0.3, -0.25, -0.2, -0.15, -0.1, -0.05, 0.0, 0.05, 0.1, 0.15, 0.2, 0.25, 0.3, 0.35], \"y\": [0.2031, 0.1546, 0.1156, 0.0803, 0.0504, 0.0298, 0.0, -0.0223, -0.0401, -0.0431, -0.0309, -0.0008, 0.0285, 0.0643], \"yaxis\": \"y3\", \"type\": \"scatter\", \"xaxis\": \"x3\"}, {\"legendgroup\": \"chart (2, 1)\", \"name\": \"chart (2, 1) 20181120\", \"uid\": \"2b4cccc0-fff6-11e9-8a13-8c859025e7f9\", \"x\": [-0.3, -0.25, -0.2, -0.15, -0.1, -0.05, 0.0, 0.05, 0.1, 0.15, 0.2, 0.25, 0.3, 0.35], \"y\": [0.1772, 0.1373, 0.1038, 0.0776, 0.0505, 0.0234, 0.0, -0.0274, -0.0489, -0.0634, -0.0656, -0.0567, -0.045, -0.0206], \"yaxis\": \"y3\", \"type\": \"scatter\", \"xaxis\": \"x3\"}, {\"legendgroup\": \"chart (2, 1)\", \"name\": \"chart (2, 1) 20181121\", \"uid\": \"2b4d5852-fff6-11e9-bfb4-8c859025e7f9\", \"x\": [-0.3, -0.25, -0.2, -0.15, -0.1, -0.05, 0.0, 0.05, 0.1, 0.15, 0.2, 0.25, 0.3, 0.35], \"y\": [0.2152, 0.1705, 0.1325, 0.098, 0.0641, 0.0326, 0.0, -0.0356, -0.0656, -0.0807, -0.0808, -0.0613, -0.0334, 0.004], \"yaxis\": \"y3\", \"type\": \"scatter\", \"xaxis\": \"x3\"}, {\"legendgroup\": \"chart (2, 2)\", \"name\": \"chart (2, 2) 20181122\", \"uid\": \"2b4e51d0-fff6-11e9-b8cf-8c859025e7f9\", \"x\": [-0.3, -0.25, -0.2, -0.15, -0.1, -0.05, 0.0, 0.05, 0.1, 0.15, 0.2, 0.25, 0.3, 0.35], \"y\": [0.2093, 0.1779, 0.1395, 0.1014, 0.0673, 0.0316, 0.0, -0.0343, -0.0634, -0.0809, -0.0833, -0.0706, -0.0437, -0.0065], \"yaxis\": \"y4\", \"type\": \"scatter\", \"xaxis\": \"x4\"}, {\"legendgroup\": \"chart (2, 2)\", \"name\": \"chart (2, 2) 20181123\", \"uid\": \"2b4ec200-fff6-11e9-a1ae-8c859025e7f9\", \"x\": [-0.3, -0.25, -0.2, -0.15, -0.1, -0.05, 0.0, 0.05, 0.1, 0.15, 0.2, 0.25, 0.3, 0.35], \"y\": [0.1686, 0.1359, 0.1021, 0.0761, 0.0513, 0.0247, 0.0, -0.025, -0.0486, -0.0664, -0.0809, -0.087, -0.0774, -0.0563], \"yaxis\": \"y4\", \"type\": \"scatter\", \"xaxis\": \"x4\"}, {\"legendgroup\": \"chart (2, 2)\", \"name\": \"chart (2, 2) 20181126\", \"uid\": \"2b4f385c-fff6-11e9-b318-8c859025e7f9\", \"x\": [-0.3, -0.25, -0.2, -0.15, -0.1, -0.05, 0.0, 0.05, 0.1, 0.15, 0.2, 0.25, 0.3, 0.35], \"y\": [0.2006, 0.1475, 0.109, 0.0767, 0.0504, 0.0259, 0.0, -0.0255, -0.0496, -0.0661, -0.0729, null, -0.0489, -0.0206], \"yaxis\": \"y4\", \"type\": \"scatter\", \"xaxis\": \"x4\"}, {\"legendgroup\": \"chart (2, 2)\", \"name\": \"chart (2, 2) 20181127\", \"uid\": \"2b4faf12-fff6-11e9-af09-8c859025e7f9\", \"x\": [-0.3, -0.25, -0.2, -0.15, -0.1, -0.05, 0.0, 0.05, 0.1, 0.15, 0.2, 0.25, 0.3, 0.35], \"y\": [0.2102, 0.1518, 0.1115, 0.0746, 0.0445, 0.0189, 0.0, -0.0264, -0.0441, -0.0552, -0.0546, null, -0.0322, 0.0007], \"yaxis\": \"y4\", \"type\": \"scatter\", \"xaxis\": \"x4\"}, {\"legendgroup\": \"chart (2, 2)\", \"name\": \"chart (2, 2) 20181128\", \"uid\": \"2b50189e-fff6-11e9-be6d-8c859025e7f9\", \"x\": [-0.3, -0.25, -0.2, -0.15, -0.1, -0.05, 0.0, 0.05, 0.1, 0.15, 0.2, 0.25, 0.3, 0.35], \"y\": [0.241, 0.1807, 0.1284, 0.0856, 0.0525, 0.0287, 0.0, -0.017, -0.0281, -0.0303, -0.0288, -0.0138, 0.0106, 0.0392], \"yaxis\": \"y4\", \"type\": \"scatter\", \"xaxis\": \"x4\"}], {\"annotations\": [{\"font\": {\"size\": 16}, \"showarrow\": false, \"text\": \"CBG19 20181101 - 20181107\", \"x\": 0.2275, \"xanchor\": \"center\", \"xref\": \"paper\", \"y\": 1.0, \"yanchor\": \"bottom\", \"yref\": \"paper\"}, {\"font\": {\"size\": 16}, \"showarrow\": false, \"text\": \"CBG19 20181108 - 20181114\", \"x\": 0.7725, \"xanchor\": \"center\", \"xref\": \"paper\", \"y\": 1.0, \"yanchor\": \"bottom\", \"yref\": \"paper\"}, {\"font\": {\"size\": 16}, \"showarrow\": false, \"text\": \"CBG19 20181115 - 20181121\", \"x\": 0.2275, \"xanchor\": \"center\", \"xref\": \"paper\", \"y\": 0.445, \"yanchor\": \"bottom\", \"yref\": \"paper\"}, {\"font\": {\"size\": 16}, \"showarrow\": false, \"text\": \"CBG19 20181122 - 20181128\", \"x\": 0.7725, \"xanchor\": \"center\", \"xref\": \"paper\", \"y\": 0.445, \"yanchor\": \"bottom\", \"yref\": \"paper\"}], \"xaxis\": {\"anchor\": \"y\", \"domain\": [0.0, 0.455], \"tickangle\": 45, \"ticktext\": [-0.3, -0.25, -0.2, -0.15, -0.1, -0.05, 0.0, 0.05, 0.1, 0.15, 0.2, 0.25, 0.3, 0.35], \"tickvals\": [-0.3, -0.25, -0.2, -0.15, -0.1, -0.05, 0.0, 0.05, 0.1, 0.15, 0.2, 0.25, 0.3, 0.35], \"type\": \"category\"}, \"yaxis\": {\"anchor\": \"x\", \"domain\": [0.555, 1.0], \"title\": \"vol skew\"}, \"xaxis2\": {\"anchor\": \"y2\", \"domain\": [0.545, 1.0], \"tickangle\": 45, \"ticktext\": [-0.3, -0.25, -0.2, -0.15, -0.1, -0.05, 0.0, 0.05, 0.1, 0.15, 0.2, 0.25, 0.3, 0.35], \"tickvals\": [-0.3, -0.25, -0.2, -0.15, -0.1, -0.05, 0.0, 0.05, 0.1, 0.15, 0.2, 0.25, 0.3, 0.35], \"type\": \"category\"}, \"yaxis2\": {\"anchor\": \"x2\", \"domain\": [0.555, 1.0], \"title\": \"vol skew\"}, \"xaxis3\": {\"anchor\": \"y3\", \"domain\": [0.0, 0.455], \"tickangle\": 45, \"ticktext\": [-0.3, -0.25, -0.2, -0.15, -0.1, -0.05, 0.0, 0.05, 0.1, 0.15, 0.2, 0.25, 0.3, 0.35], \"tickvals\": [-0.3, -0.25, -0.2, -0.15, -0.1, -0.05, 0.0, 0.05, 0.1, 0.15, 0.2, 0.25, 0.3, 0.35], \"type\": \"category\"}, \"yaxis3\": {\"anchor\": \"x3\", \"domain\": [0.0, 0.445], \"title\": \"vol skew\"}, \"xaxis4\": {\"anchor\": \"y4\", \"domain\": [0.545, 1.0], \"tickangle\": 45, \"ticktext\": [-0.3, -0.25, -0.2, -0.15, -0.1, -0.05, 0.0, 0.05, 0.1, 0.15, 0.2, 0.25, 0.3, 0.35], \"tickvals\": [-0.3, -0.25, -0.2, -0.15, -0.1, -0.05, 0.0, 0.05, 0.1, 0.15, 0.2, 0.25, 0.3, 0.35], \"type\": \"category\"}, \"yaxis4\": {\"anchor\": \"x4\", \"domain\": [0.0, 0.445], \"title\": \"vol skew\"}, \"font\": {\"family\": \"Open Sans, sans-serif\"}, \"margin\": {\"b\": 55, \"l\": 45, \"r\": 15, \"t\": 50}, \"title\": \"Skew plots<br>\", \"showlegend\": true, \"hovermode\": \"x\", \"autosize\": true, \"width\": 900, \"height\": 800, \"plot_bgcolor\": \"#EFECEA\", \"bargap\": 0.05}, {\"showLink\": true, \"linkText\": \"Export to plot.ly\"})});</script>"
      ]
     },
     "metadata": {},
     "output_type": "display_data"
    },
    {
     "data": {
      "application/vnd.plotly.v1+json": {
       "data": [
        {
         "legendgroup": "chart (1, 1)",
         "name": "chart (1, 1) 20181129",
         "type": "scatter",
         "uid": "2b59ce02-fff6-11e9-93bb-8c859025e7f9",
         "x": [
          -0.3,
          -0.25,
          -0.2,
          -0.15,
          -0.1,
          -0.05,
          0,
          0.05,
          0.1,
          0.15,
          0.2,
          0.25,
          0.3,
          0.35
         ],
         "xaxis": "x",
         "y": [
          0.2237,
          0.1655,
          0.108,
          0.0737,
          0.0414,
          0.0193,
          0,
          -0.0166,
          -0.0249,
          -0.0278,
          -0.0223,
          -0.0068,
          0.0203,
          0.0543
         ],
         "yaxis": "y"
        },
        {
         "legendgroup": "chart (1, 1)",
         "name": "chart (1, 1) 20181130",
         "type": "scatter",
         "uid": "2b5a3acc-fff6-11e9-9958-8c859025e7f9",
         "x": [
          -0.3,
          -0.25,
          -0.2,
          -0.15,
          -0.1,
          -0.05,
          0,
          0.05,
          0.1,
          0.15,
          0.2,
          0.25,
          0.3,
          0.35
         ],
         "xaxis": "x",
         "y": [
          0.2373,
          0.1716,
          0.1183,
          0.0794,
          0.0466,
          0.0211,
          0,
          -0.0152,
          -0.0275,
          -0.0384,
          -0.0326,
          -0.0276,
          -0.0087,
          -0.0022
         ],
         "yaxis": "y"
        }
       ],
       "layout": {
        "annotations": [
         {
          "font": {
           "size": 16
          },
          "showarrow": false,
          "text": "CBG19 20181129 - 20181130",
          "x": 0.2275,
          "xanchor": "center",
          "xref": "paper",
          "y": 1,
          "yanchor": "bottom",
          "yref": "paper"
         }
        ],
        "autosize": true,
        "bargap": 0.05,
        "font": {
         "family": "Open Sans, sans-serif"
        },
        "height": 800,
        "hovermode": "x",
        "margin": {
         "b": 55,
         "l": 45,
         "r": 15,
         "t": 50
        },
        "plot_bgcolor": "#EFECEA",
        "showlegend": true,
        "title": "Skew plots<br>",
        "width": 900,
        "xaxis": {
         "anchor": "y",
         "domain": [
          0,
          0.455
         ],
         "tickangle": 45,
         "ticktext": [
          -0.3,
          -0.25,
          -0.2,
          -0.15,
          -0.1,
          -0.05,
          0,
          0.05,
          0.1,
          0.15,
          0.2,
          0.25,
          0.3,
          0.35
         ],
         "tickvals": [
          -0.3,
          -0.25,
          -0.2,
          -0.15,
          -0.1,
          -0.05,
          0,
          0.05,
          0.1,
          0.15,
          0.2,
          0.25,
          0.3,
          0.35
         ],
         "type": "category"
        },
        "xaxis2": {
         "anchor": "y2",
         "domain": [
          0.545,
          1
         ]
        },
        "xaxis3": {
         "anchor": "y3",
         "domain": [
          0,
          0.455
         ]
        },
        "xaxis4": {
         "anchor": "y4",
         "domain": [
          0.545,
          1
         ]
        },
        "yaxis": {
         "anchor": "x",
         "domain": [
          0.555,
          1
         ],
         "title": "vol skew"
        },
        "yaxis2": {
         "anchor": "x2",
         "domain": [
          0.555,
          1
         ]
        },
        "yaxis3": {
         "anchor": "x3",
         "domain": [
          0,
          0.445
         ]
        },
        "yaxis4": {
         "anchor": "x4",
         "domain": [
          0,
          0.445
         ]
        }
       }
      },
      "text/html": [
       "<div id=\"3f7fc192-5120-4947-8445-e0765bca5247\" style=\"height: 800px; width: 900px;\" class=\"plotly-graph-div\"></div><script type=\"text/javascript\">require([\"plotly\"], function(Plotly) { window.PLOTLYENV=window.PLOTLYENV || {};window.PLOTLYENV.BASE_URL=\"https://plot.ly\";Plotly.newPlot(\"3f7fc192-5120-4947-8445-e0765bca5247\", [{\"legendgroup\": \"chart (1, 1)\", \"name\": \"chart (1, 1) 20181129\", \"uid\": \"2b59ce02-fff6-11e9-93bb-8c859025e7f9\", \"x\": [-0.3, -0.25, -0.2, -0.15, -0.1, -0.05, 0.0, 0.05, 0.1, 0.15, 0.2, 0.25, 0.3, 0.35], \"y\": [0.2237, 0.1655, 0.108, 0.0737, 0.0414, 0.0193, 0.0, -0.0166, -0.0249, -0.0278, -0.0223, -0.0068, 0.0203, 0.0543], \"yaxis\": \"y\", \"type\": \"scatter\", \"xaxis\": \"x\"}, {\"legendgroup\": \"chart (1, 1)\", \"name\": \"chart (1, 1) 20181130\", \"uid\": \"2b5a3acc-fff6-11e9-9958-8c859025e7f9\", \"x\": [-0.3, -0.25, -0.2, -0.15, -0.1, -0.05, 0.0, 0.05, 0.1, 0.15, 0.2, 0.25, 0.3, 0.35], \"y\": [0.2373, 0.1716, 0.1183, 0.0794, 0.0466, 0.0211, 0.0, -0.0152, -0.0275, -0.0384, -0.0326, -0.0276, -0.0087, -0.0022], \"yaxis\": \"y\", \"type\": \"scatter\", \"xaxis\": \"x\"}], {\"annotations\": [{\"font\": {\"size\": 16}, \"showarrow\": false, \"text\": \"CBG19 20181129 - 20181130\", \"x\": 0.2275, \"xanchor\": \"center\", \"xref\": \"paper\", \"y\": 1.0, \"yanchor\": \"bottom\", \"yref\": \"paper\"}], \"xaxis\": {\"anchor\": \"y\", \"domain\": [0.0, 0.455], \"tickangle\": 45, \"ticktext\": [-0.3, -0.25, -0.2, -0.15, -0.1, -0.05, 0.0, 0.05, 0.1, 0.15, 0.2, 0.25, 0.3, 0.35], \"tickvals\": [-0.3, -0.25, -0.2, -0.15, -0.1, -0.05, 0.0, 0.05, 0.1, 0.15, 0.2, 0.25, 0.3, 0.35], \"type\": \"category\"}, \"yaxis\": {\"anchor\": \"x\", \"domain\": [0.555, 1.0], \"title\": \"vol skew\"}, \"xaxis2\": {\"anchor\": \"y2\", \"domain\": [0.545, 1.0]}, \"yaxis2\": {\"anchor\": \"x2\", \"domain\": [0.555, 1.0]}, \"xaxis3\": {\"anchor\": \"y3\", \"domain\": [0.0, 0.455]}, \"yaxis3\": {\"anchor\": \"x3\", \"domain\": [0.0, 0.445]}, \"xaxis4\": {\"anchor\": \"y4\", \"domain\": [0.545, 1.0]}, \"yaxis4\": {\"anchor\": \"x4\", \"domain\": [0.0, 0.445]}, \"font\": {\"family\": \"Open Sans, sans-serif\"}, \"margin\": {\"b\": 55, \"l\": 45, \"r\": 15, \"t\": 50}, \"title\": \"Skew plots<br>\", \"showlegend\": true, \"hovermode\": \"x\", \"autosize\": true, \"width\": 900, \"height\": 800, \"plot_bgcolor\": \"#EFECEA\", \"bargap\": 0.05}, {\"showLink\": true, \"linkText\": \"Export to plot.ly\"})});</script>"
      ],
      "text/vnd.plotly.v1+html": [
       "<div id=\"3f7fc192-5120-4947-8445-e0765bca5247\" style=\"height: 800px; width: 900px;\" class=\"plotly-graph-div\"></div><script type=\"text/javascript\">require([\"plotly\"], function(Plotly) { window.PLOTLYENV=window.PLOTLYENV || {};window.PLOTLYENV.BASE_URL=\"https://plot.ly\";Plotly.newPlot(\"3f7fc192-5120-4947-8445-e0765bca5247\", [{\"legendgroup\": \"chart (1, 1)\", \"name\": \"chart (1, 1) 20181129\", \"uid\": \"2b59ce02-fff6-11e9-93bb-8c859025e7f9\", \"x\": [-0.3, -0.25, -0.2, -0.15, -0.1, -0.05, 0.0, 0.05, 0.1, 0.15, 0.2, 0.25, 0.3, 0.35], \"y\": [0.2237, 0.1655, 0.108, 0.0737, 0.0414, 0.0193, 0.0, -0.0166, -0.0249, -0.0278, -0.0223, -0.0068, 0.0203, 0.0543], \"yaxis\": \"y\", \"type\": \"scatter\", \"xaxis\": \"x\"}, {\"legendgroup\": \"chart (1, 1)\", \"name\": \"chart (1, 1) 20181130\", \"uid\": \"2b5a3acc-fff6-11e9-9958-8c859025e7f9\", \"x\": [-0.3, -0.25, -0.2, -0.15, -0.1, -0.05, 0.0, 0.05, 0.1, 0.15, 0.2, 0.25, 0.3, 0.35], \"y\": [0.2373, 0.1716, 0.1183, 0.0794, 0.0466, 0.0211, 0.0, -0.0152, -0.0275, -0.0384, -0.0326, -0.0276, -0.0087, -0.0022], \"yaxis\": \"y\", \"type\": \"scatter\", \"xaxis\": \"x\"}], {\"annotations\": [{\"font\": {\"size\": 16}, \"showarrow\": false, \"text\": \"CBG19 20181129 - 20181130\", \"x\": 0.2275, \"xanchor\": \"center\", \"xref\": \"paper\", \"y\": 1.0, \"yanchor\": \"bottom\", \"yref\": \"paper\"}], \"xaxis\": {\"anchor\": \"y\", \"domain\": [0.0, 0.455], \"tickangle\": 45, \"ticktext\": [-0.3, -0.25, -0.2, -0.15, -0.1, -0.05, 0.0, 0.05, 0.1, 0.15, 0.2, 0.25, 0.3, 0.35], \"tickvals\": [-0.3, -0.25, -0.2, -0.15, -0.1, -0.05, 0.0, 0.05, 0.1, 0.15, 0.2, 0.25, 0.3, 0.35], \"type\": \"category\"}, \"yaxis\": {\"anchor\": \"x\", \"domain\": [0.555, 1.0], \"title\": \"vol skew\"}, \"xaxis2\": {\"anchor\": \"y2\", \"domain\": [0.545, 1.0]}, \"yaxis2\": {\"anchor\": \"x2\", \"domain\": [0.555, 1.0]}, \"xaxis3\": {\"anchor\": \"y3\", \"domain\": [0.0, 0.455]}, \"yaxis3\": {\"anchor\": \"x3\", \"domain\": [0.0, 0.445]}, \"xaxis4\": {\"anchor\": \"y4\", \"domain\": [0.545, 1.0]}, \"yaxis4\": {\"anchor\": \"x4\", \"domain\": [0.0, 0.445]}, \"font\": {\"family\": \"Open Sans, sans-serif\"}, \"margin\": {\"b\": 55, \"l\": 45, \"r\": 15, \"t\": 50}, \"title\": \"Skew plots<br>\", \"showlegend\": true, \"hovermode\": \"x\", \"autosize\": true, \"width\": 900, \"height\": 800, \"plot_bgcolor\": \"#EFECEA\", \"bargap\": 0.05}, {\"showLink\": true, \"linkText\": \"Export to plot.ly\"})});</script>"
      ]
     },
     "metadata": {},
     "output_type": "display_data"
    },
    {
     "data": {
      "application/vnd.plotly.v1+json": {
       "data": [
        {
         "legendgroup": "chart (1, 1)",
         "name": "chart (1, 1) 20181203",
         "type": "scatter",
         "uid": "2b9fc3c6-fff6-11e9-9762-8c859025e7f9",
         "x": [
          -0.3,
          -0.25,
          -0.2,
          -0.15,
          -0.1,
          -0.05,
          0,
          0.05,
          0.1,
          0.15,
          0.2,
          0.25,
          0.3,
          0.35
         ],
         "xaxis": "x",
         "y": [
          0.1104,
          0.0832,
          0.0594,
          0.0408,
          0.0282,
          0.0141,
          0,
          -0.0173,
          -0.03,
          -0.0425,
          -0.0486,
          -0.0504,
          -0.045,
          null
         ],
         "yaxis": "y"
        },
        {
         "legendgroup": "chart (1, 1)",
         "name": "chart (1, 1) 20181204",
         "type": "scatter",
         "uid": "2ba082d4-fff6-11e9-a0ef-8c859025e7f9",
         "x": [
          -0.3,
          -0.25,
          -0.2,
          -0.15,
          -0.1,
          -0.05,
          0,
          0.05,
          0.1,
          0.15,
          0.2,
          0.25,
          0.3,
          0.35
         ],
         "xaxis": "x",
         "y": [
          0.1327,
          0.1053,
          0.0776,
          0.0561,
          0.0363,
          0.0178,
          0,
          -0.0223,
          -0.0379,
          -0.0514,
          -0.061,
          -0.0637,
          -0.0549,
          null
         ],
         "yaxis": "y"
        },
        {
         "legendgroup": "chart (1, 1)",
         "name": "chart (1, 1) 20181205",
         "type": "scatter",
         "uid": "2ba12e28-fff6-11e9-8052-8c859025e7f9",
         "x": [
          -0.3,
          -0.25,
          -0.2,
          -0.15,
          -0.1,
          -0.05,
          0,
          0.05,
          0.1,
          0.15,
          0.2,
          0.25,
          0.3,
          0.35
         ],
         "xaxis": "x",
         "y": [
          0.1599,
          0.1258,
          0.096,
          0.0694,
          0.045,
          0.0227,
          0,
          -0.0252,
          -0.0436,
          -0.0613,
          -0.0731,
          null,
          -0.0664,
          null
         ],
         "yaxis": "y"
        },
        {
         "legendgroup": "chart (1, 1)",
         "name": "chart (1, 1) 20181206",
         "type": "scatter",
         "uid": "2ba1c1ba-fff6-11e9-956d-8c859025e7f9",
         "x": [
          -0.3,
          -0.25,
          -0.2,
          -0.15,
          -0.1,
          -0.05,
          0,
          0.05,
          0.1,
          0.15,
          0.2,
          0.25,
          0.3,
          0.35
         ],
         "xaxis": "x",
         "y": [
          0.1391,
          0.1076,
          0.0814,
          0.0595,
          0.0415,
          0.0218,
          0,
          -0.0245,
          -0.0429,
          -0.0593,
          -0.0687,
          -0.0703,
          -0.0648,
          null
         ],
         "yaxis": "y"
        },
        {
         "legendgroup": "chart (1, 1)",
         "name": "chart (1, 1) 20181207",
         "type": "scatter",
         "uid": "2ba23d22-fff6-11e9-9c67-8c859025e7f9",
         "x": [
          -0.3,
          -0.25,
          -0.2,
          -0.15,
          -0.1,
          -0.05,
          0,
          0.05,
          0.1,
          0.15,
          0.2,
          0.25,
          0.3,
          0.35
         ],
         "xaxis": "x",
         "y": [
          0.1512,
          0.1128,
          0.0824,
          0.0564,
          0.036,
          0.0179,
          0,
          -0.0174,
          -0.0316,
          -0.0422,
          -0.0418,
          -0.0333,
          -0.0117,
          null
         ],
         "yaxis": "y"
        },
        {
         "legendgroup": "chart (1, 2)",
         "name": "chart (1, 2) 20181210",
         "type": "scatter",
         "uid": "2ba3bd98-fff6-11e9-b2f5-8c859025e7f9",
         "x": [
          -0.3,
          -0.25,
          -0.2,
          -0.15,
          -0.1,
          -0.05,
          0,
          0.05,
          0.1,
          0.15,
          0.2,
          0.25,
          0.3,
          0.35
         ],
         "xaxis": "x2",
         "y": [
          0.1538,
          0.1138,
          0.082,
          0.0562,
          0.0364,
          0.0201,
          0,
          -0.0197,
          -0.0361,
          -0.0489,
          -0.0535,
          -0.0498,
          -0.0347,
          null
         ],
         "yaxis": "y2"
        },
        {
         "legendgroup": "chart (1, 2)",
         "name": "chart (1, 2) 20181211",
         "type": "scatter",
         "uid": "2ba4542c-fff6-11e9-9cbc-8c859025e7f9",
         "x": [
          -0.3,
          -0.25,
          -0.2,
          -0.15,
          -0.1,
          -0.05,
          0,
          0.05,
          0.1,
          0.15,
          0.2,
          0.25,
          0.3,
          0.35
         ],
         "xaxis": "x2",
         "y": [
          0.1486,
          0.1112,
          0.0766,
          0.05,
          0.0324,
          0.0161,
          0,
          -0.0193,
          -0.0316,
          -0.0392,
          -0.0386,
          -0.0281,
          -0.0119,
          null
         ],
         "yaxis": "y2"
        },
        {
         "legendgroup": "chart (1, 2)",
         "name": "chart (1, 2) 20181212",
         "type": "scatter",
         "uid": "2ba4f08a-fff6-11e9-bfe9-8c859025e7f9",
         "x": [
          -0.3,
          -0.25,
          -0.2,
          -0.15,
          -0.1,
          -0.05,
          0,
          0.05,
          0.1,
          0.15,
          0.2,
          0.25,
          0.3,
          0.35
         ],
         "xaxis": "x2",
         "y": [
          0.1614,
          0.1178,
          0.0808,
          0.0502,
          0.0313,
          0.0147,
          0,
          -0.0209,
          -0.032,
          -0.0357,
          -0.0338,
          -0.0136,
          0.0087,
          null
         ],
         "yaxis": "y2"
        },
        {
         "legendgroup": "chart (1, 2)",
         "name": "chart (1, 2) 20181213",
         "type": "scatter",
         "uid": "2ba5a82c-fff6-11e9-907d-8c859025e7f9",
         "x": [
          -0.3,
          -0.25,
          -0.2,
          -0.15,
          -0.1,
          -0.05,
          0,
          0.05,
          0.1,
          0.15,
          0.2,
          0.25,
          0.3,
          0.35
         ],
         "xaxis": "x2",
         "y": [
          0.1712,
          0.1264,
          0.0891,
          0.0587,
          0.0357,
          0.0185,
          0,
          -0.0163,
          -0.0295,
          -0.0338,
          -0.031,
          -0.0158,
          0.0116,
          null
         ],
         "yaxis": "y2"
        },
        {
         "legendgroup": "chart (1, 2)",
         "name": "chart (1, 2) 20181214",
         "type": "scatter",
         "uid": "2ba64fde-fff6-11e9-986f-8c859025e7f9",
         "x": [
          -0.3,
          -0.25,
          -0.2,
          -0.15,
          -0.1,
          -0.05,
          0,
          0.05,
          0.1,
          0.15,
          0.2,
          0.25,
          0.3,
          0.35
         ],
         "xaxis": "x2",
         "y": [
          0.1569,
          0.116,
          0.0804,
          0.0483,
          0.0275,
          0.0113,
          0,
          -0.013,
          -0.0235,
          -0.0286,
          -0.0265,
          null,
          0.0078,
          null
         ],
         "yaxis": "y2"
        },
        {
         "legendgroup": "chart (2, 1)",
         "name": "chart (2, 1) 20181217",
         "type": "scatter",
         "uid": "2ba78eba-fff6-11e9-883b-8c859025e7f9",
         "x": [
          -0.3,
          -0.25,
          -0.2,
          -0.15,
          -0.1,
          -0.05,
          0,
          0.05,
          0.1,
          0.15,
          0.2,
          0.25,
          0.3,
          0.35
         ],
         "xaxis": "x3",
         "y": [
          0.1641,
          0.12,
          0.0867,
          0.0573,
          0.0351,
          0.0186,
          0,
          -0.0133,
          -0.0244,
          -0.028,
          -0.0244,
          -0.014,
          0.0069,
          0.0318
         ],
         "yaxis": "y3"
        },
        {
         "legendgroup": "chart (2, 1)",
         "name": "chart (2, 1) 20181218",
         "type": "scatter",
         "uid": "2ba8f73e-fff6-11e9-89a8-8c859025e7f9",
         "x": [
          -0.3,
          -0.25,
          -0.2,
          -0.15,
          -0.1,
          -0.05,
          0,
          0.05,
          0.1,
          0.15,
          0.2,
          0.25,
          0.3,
          0.35
         ],
         "xaxis": "x3",
         "y": [
          0.1463,
          0.109,
          0.0787,
          0.0542,
          0.0331,
          0.0148,
          0,
          -0.0222,
          -0.0376,
          -0.0481,
          -0.0526,
          -0.0535,
          -0.0418,
          -0.0339
         ],
         "yaxis": "y3"
        },
        {
         "legendgroup": "chart (2, 1)",
         "name": "chart (2, 1) 20181219",
         "type": "scatter",
         "uid": "2bd45e58-fff6-11e9-8d21-8c859025e7f9",
         "x": [
          -0.3,
          -0.25,
          -0.2,
          -0.15,
          -0.1,
          -0.05,
          0,
          0.05,
          0.1,
          0.15,
          0.2,
          0.25,
          0.3,
          0.35
         ],
         "xaxis": "x3",
         "y": [
          0.1471,
          0.1018,
          0.0654,
          0.0396,
          0.0222,
          0.0091,
          0,
          -0.0133,
          -0.0215,
          -0.0239,
          -0.0207,
          -0.0161,
          -0.0048,
          0.0142
         ],
         "yaxis": "y3"
        },
        {
         "legendgroup": "chart (2, 1)",
         "name": "chart (2, 1) 20181220",
         "type": "scatter",
         "uid": "2bd55218-fff6-11e9-9f8a-8c859025e7f9",
         "x": [
          -0.3,
          -0.25,
          -0.2,
          -0.15,
          -0.1,
          -0.05,
          0,
          0.05,
          0.1,
          0.15,
          0.2,
          0.25,
          0.3,
          0.35
         ],
         "xaxis": "x3",
         "y": [
          0.1489,
          0.1029,
          0.0709,
          0.0462,
          0.0292,
          0.0168,
          0,
          -0.0094,
          -0.0203,
          -0.0249,
          -0.025,
          -0.0195,
          -0.0095,
          0.0027
         ],
         "yaxis": "y3"
        },
        {
         "legendgroup": "chart (2, 1)",
         "name": "chart (2, 1) 20181221",
         "type": "scatter",
         "uid": "2bd73d2e-fff6-11e9-a050-8c859025e7f9",
         "x": [
          -0.3,
          -0.25,
          -0.2,
          -0.15,
          -0.1,
          -0.05,
          0,
          0.05,
          0.1,
          0.15,
          0.2,
          0.25,
          0.3,
          0.35
         ],
         "xaxis": "x3",
         "y": [
          0.1543,
          0.1109,
          0.075,
          0.0514,
          0.0319,
          0.0156,
          0,
          -0.0111,
          -0.0173,
          -0.0236,
          -0.0235,
          -0.0151,
          -0.0047,
          0.0142
         ],
         "yaxis": "y3"
        },
        {
         "legendgroup": "chart (2, 2)",
         "name": "chart (2, 2) 20181224",
         "type": "scatter",
         "uid": "2bd9d37a-fff6-11e9-83c4-8c859025e7f9",
         "x": [
          -0.3,
          -0.25,
          -0.2,
          -0.15,
          -0.1,
          -0.05,
          0,
          0.05,
          0.1,
          0.15,
          0.2,
          0.25,
          0.3,
          0.35
         ],
         "xaxis": "x4",
         "y": [
          null,
          0.0989,
          0.0681,
          0.0436,
          0.0239,
          0.008,
          0,
          -0.0181,
          -0.0239,
          -0.0279,
          -0.0253,
          -0.019,
          -0.0109,
          0.0051
         ],
         "yaxis": "y4"
        },
        {
         "legendgroup": "chart (2, 2)",
         "name": "chart (2, 2) 20181226",
         "type": "scatter",
         "uid": "2bda9bcc-fff6-11e9-9ce4-8c859025e7f9",
         "x": [
          -0.3,
          -0.25,
          -0.2,
          -0.15,
          -0.1,
          -0.05,
          0,
          0.05,
          0.1,
          0.15,
          0.2,
          0.25,
          0.3,
          0.35
         ],
         "xaxis": "x4",
         "y": [
          0.138,
          0.0957,
          0.0608,
          0.0345,
          0.0205,
          0.0071,
          0,
          -0.0128,
          -0.0232,
          -0.0248,
          -0.0243,
          -0.0144,
          -0.0073,
          0.0099
         ],
         "yaxis": "y4"
        },
        {
         "legendgroup": "chart (2, 2)",
         "name": "chart (2, 2) 20181227",
         "type": "scatter",
         "uid": "2bdbbade-fff6-11e9-b386-8c859025e7f9",
         "x": [
          -0.3,
          -0.25,
          -0.2,
          -0.15,
          -0.1,
          -0.05,
          0,
          0.05,
          0.1,
          0.15,
          0.2,
          0.25,
          0.3,
          0.35
         ],
         "xaxis": "x4",
         "y": [
          0.1086,
          0.0781,
          0.0476,
          0.0262,
          0.0127,
          0.0041,
          0,
          -0.0118,
          -0.016,
          -0.021,
          -0.0216,
          -0.0163,
          -0.0104,
          0.0008
         ],
         "yaxis": "y4"
        },
        {
         "legendgroup": "chart (2, 2)",
         "name": "chart (2, 2) 20181228",
         "type": "scatter",
         "uid": "2bdcae1c-fff6-11e9-bc59-8c859025e7f9",
         "x": [
          -0.3,
          -0.25,
          -0.2,
          -0.15,
          -0.1,
          -0.05,
          0,
          0.05,
          0.1,
          0.15,
          0.2,
          0.25,
          0.3,
          0.35
         ],
         "xaxis": "x4",
         "y": [
          0.0987,
          0.0674,
          0.0355,
          0.0168,
          0.0067,
          0.0017,
          0,
          -0.0095,
          -0.011,
          -0.0136,
          -0.0093,
          -0.0005,
          0.0108,
          0.0245
         ],
         "yaxis": "y4"
        }
       ],
       "layout": {
        "annotations": [
         {
          "font": {
           "size": 16
          },
          "showarrow": false,
          "text": "CBH19 20181203 - 20181207",
          "x": 0.2275,
          "xanchor": "center",
          "xref": "paper",
          "y": 1,
          "yanchor": "bottom",
          "yref": "paper"
         },
         {
          "font": {
           "size": 16
          },
          "showarrow": false,
          "text": "CBH19 20181210 - 20181214",
          "x": 0.7725,
          "xanchor": "center",
          "xref": "paper",
          "y": 1,
          "yanchor": "bottom",
          "yref": "paper"
         },
         {
          "font": {
           "size": 16
          },
          "showarrow": false,
          "text": "CBH19 20181217 - 20181221",
          "x": 0.2275,
          "xanchor": "center",
          "xref": "paper",
          "y": 0.445,
          "yanchor": "bottom",
          "yref": "paper"
         },
         {
          "font": {
           "size": 16
          },
          "showarrow": false,
          "text": "CBH19 20181224 - 20181228",
          "x": 0.7725,
          "xanchor": "center",
          "xref": "paper",
          "y": 0.445,
          "yanchor": "bottom",
          "yref": "paper"
         }
        ],
        "autosize": true,
        "bargap": 0.05,
        "font": {
         "family": "Open Sans, sans-serif"
        },
        "height": 800,
        "hovermode": "x",
        "margin": {
         "b": 55,
         "l": 45,
         "r": 15,
         "t": 50
        },
        "plot_bgcolor": "#EFECEA",
        "showlegend": true,
        "title": "Skew plots<br>",
        "width": 900,
        "xaxis": {
         "anchor": "y",
         "domain": [
          0,
          0.455
         ],
         "tickangle": 45,
         "ticktext": [
          -0.3,
          -0.25,
          -0.2,
          -0.15,
          -0.1,
          -0.05,
          0,
          0.05,
          0.1,
          0.15,
          0.2,
          0.25,
          0.3,
          0.35
         ],
         "tickvals": [
          -0.3,
          -0.25,
          -0.2,
          -0.15,
          -0.1,
          -0.05,
          0,
          0.05,
          0.1,
          0.15,
          0.2,
          0.25,
          0.3,
          0.35
         ],
         "type": "category"
        },
        "xaxis2": {
         "anchor": "y2",
         "domain": [
          0.545,
          1
         ],
         "tickangle": 45,
         "ticktext": [
          -0.3,
          -0.25,
          -0.2,
          -0.15,
          -0.1,
          -0.05,
          0,
          0.05,
          0.1,
          0.15,
          0.2,
          0.25,
          0.3,
          0.35
         ],
         "tickvals": [
          -0.3,
          -0.25,
          -0.2,
          -0.15,
          -0.1,
          -0.05,
          0,
          0.05,
          0.1,
          0.15,
          0.2,
          0.25,
          0.3,
          0.35
         ],
         "type": "category"
        },
        "xaxis3": {
         "anchor": "y3",
         "domain": [
          0,
          0.455
         ],
         "tickangle": 45,
         "ticktext": [
          -0.3,
          -0.25,
          -0.2,
          -0.15,
          -0.1,
          -0.05,
          0,
          0.05,
          0.1,
          0.15,
          0.2,
          0.25,
          0.3,
          0.35
         ],
         "tickvals": [
          -0.3,
          -0.25,
          -0.2,
          -0.15,
          -0.1,
          -0.05,
          0,
          0.05,
          0.1,
          0.15,
          0.2,
          0.25,
          0.3,
          0.35
         ],
         "type": "category"
        },
        "xaxis4": {
         "anchor": "y4",
         "domain": [
          0.545,
          1
         ],
         "tickangle": 45,
         "ticktext": [
          -0.3,
          -0.25,
          -0.2,
          -0.15,
          -0.1,
          -0.05,
          0,
          0.05,
          0.1,
          0.15,
          0.2,
          0.25,
          0.3,
          0.35
         ],
         "tickvals": [
          -0.3,
          -0.25,
          -0.2,
          -0.15,
          -0.1,
          -0.05,
          0,
          0.05,
          0.1,
          0.15,
          0.2,
          0.25,
          0.3,
          0.35
         ],
         "type": "category"
        },
        "yaxis": {
         "anchor": "x",
         "domain": [
          0.555,
          1
         ],
         "title": "vol skew"
        },
        "yaxis2": {
         "anchor": "x2",
         "domain": [
          0.555,
          1
         ],
         "title": "vol skew"
        },
        "yaxis3": {
         "anchor": "x3",
         "domain": [
          0,
          0.445
         ],
         "title": "vol skew"
        },
        "yaxis4": {
         "anchor": "x4",
         "domain": [
          0,
          0.445
         ],
         "title": "vol skew"
        }
       }
      },
      "text/html": [
       "<div id=\"574f2d1d-22ee-4bff-9402-9bbc7f51f27b\" style=\"height: 800px; width: 900px;\" class=\"plotly-graph-div\"></div><script type=\"text/javascript\">require([\"plotly\"], function(Plotly) { window.PLOTLYENV=window.PLOTLYENV || {};window.PLOTLYENV.BASE_URL=\"https://plot.ly\";Plotly.newPlot(\"574f2d1d-22ee-4bff-9402-9bbc7f51f27b\", [{\"legendgroup\": \"chart (1, 1)\", \"name\": \"chart (1, 1) 20181203\", \"uid\": \"2b9fc3c6-fff6-11e9-9762-8c859025e7f9\", \"x\": [-0.3, -0.25, -0.2, -0.15, -0.1, -0.05, 0.0, 0.05, 0.1, 0.15, 0.2, 0.25, 0.3, 0.35], \"y\": [0.1104, 0.0832, 0.0594, 0.0408, 0.0282, 0.0141, 0.0, -0.0173, -0.03, -0.0425, -0.0486, -0.0504, -0.045, null], \"yaxis\": \"y\", \"type\": \"scatter\", \"xaxis\": \"x\"}, {\"legendgroup\": \"chart (1, 1)\", \"name\": \"chart (1, 1) 20181204\", \"uid\": \"2ba082d4-fff6-11e9-a0ef-8c859025e7f9\", \"x\": [-0.3, -0.25, -0.2, -0.15, -0.1, -0.05, 0.0, 0.05, 0.1, 0.15, 0.2, 0.25, 0.3, 0.35], \"y\": [0.1327, 0.1053, 0.0776, 0.0561, 0.0363, 0.0178, 0.0, -0.0223, -0.0379, -0.0514, -0.061, -0.0637, -0.0549, null], \"yaxis\": \"y\", \"type\": \"scatter\", \"xaxis\": \"x\"}, {\"legendgroup\": \"chart (1, 1)\", \"name\": \"chart (1, 1) 20181205\", \"uid\": \"2ba12e28-fff6-11e9-8052-8c859025e7f9\", \"x\": [-0.3, -0.25, -0.2, -0.15, -0.1, -0.05, 0.0, 0.05, 0.1, 0.15, 0.2, 0.25, 0.3, 0.35], \"y\": [0.1599, 0.1258, 0.096, 0.0694, 0.045, 0.0227, 0.0, -0.0252, -0.0436, -0.0613, -0.0731, null, -0.0664, null], \"yaxis\": \"y\", \"type\": \"scatter\", \"xaxis\": \"x\"}, {\"legendgroup\": \"chart (1, 1)\", \"name\": \"chart (1, 1) 20181206\", \"uid\": \"2ba1c1ba-fff6-11e9-956d-8c859025e7f9\", \"x\": [-0.3, -0.25, -0.2, -0.15, -0.1, -0.05, 0.0, 0.05, 0.1, 0.15, 0.2, 0.25, 0.3, 0.35], \"y\": [0.1391, 0.1076, 0.0814, 0.0595, 0.0415, 0.0218, 0.0, -0.0245, -0.0429, -0.0593, -0.0687, -0.0703, -0.0648, null], \"yaxis\": \"y\", \"type\": \"scatter\", \"xaxis\": \"x\"}, {\"legendgroup\": \"chart (1, 1)\", \"name\": \"chart (1, 1) 20181207\", \"uid\": \"2ba23d22-fff6-11e9-9c67-8c859025e7f9\", \"x\": [-0.3, -0.25, -0.2, -0.15, -0.1, -0.05, 0.0, 0.05, 0.1, 0.15, 0.2, 0.25, 0.3, 0.35], \"y\": [0.1512, 0.1128, 0.0824, 0.0564, 0.036, 0.0179, 0.0, -0.0174, -0.0316, -0.0422, -0.0418, -0.0333, -0.0117, null], \"yaxis\": \"y\", \"type\": \"scatter\", \"xaxis\": \"x\"}, {\"legendgroup\": \"chart (1, 2)\", \"name\": \"chart (1, 2) 20181210\", \"uid\": \"2ba3bd98-fff6-11e9-b2f5-8c859025e7f9\", \"x\": [-0.3, -0.25, -0.2, -0.15, -0.1, -0.05, 0.0, 0.05, 0.1, 0.15, 0.2, 0.25, 0.3, 0.35], \"y\": [0.1538, 0.1138, 0.082, 0.0562, 0.0364, 0.0201, 0.0, -0.0197, -0.0361, -0.0489, -0.0535, -0.0498, -0.0347, null], \"yaxis\": \"y2\", \"type\": \"scatter\", \"xaxis\": \"x2\"}, {\"legendgroup\": \"chart (1, 2)\", \"name\": \"chart (1, 2) 20181211\", \"uid\": \"2ba4542c-fff6-11e9-9cbc-8c859025e7f9\", \"x\": [-0.3, -0.25, -0.2, -0.15, -0.1, -0.05, 0.0, 0.05, 0.1, 0.15, 0.2, 0.25, 0.3, 0.35], \"y\": [0.1486, 0.1112, 0.0766, 0.05, 0.0324, 0.0161, 0.0, -0.0193, -0.0316, -0.0392, -0.0386, -0.0281, -0.0119, null], \"yaxis\": \"y2\", \"type\": \"scatter\", \"xaxis\": \"x2\"}, {\"legendgroup\": \"chart (1, 2)\", \"name\": \"chart (1, 2) 20181212\", \"uid\": \"2ba4f08a-fff6-11e9-bfe9-8c859025e7f9\", \"x\": [-0.3, -0.25, -0.2, -0.15, -0.1, -0.05, 0.0, 0.05, 0.1, 0.15, 0.2, 0.25, 0.3, 0.35], \"y\": [0.1614, 0.1178, 0.0808, 0.0502, 0.0313, 0.0147, 0.0, -0.0209, -0.032, -0.0357, -0.0338, -0.0136, 0.0087, null], \"yaxis\": \"y2\", \"type\": \"scatter\", \"xaxis\": \"x2\"}, {\"legendgroup\": \"chart (1, 2)\", \"name\": \"chart (1, 2) 20181213\", \"uid\": \"2ba5a82c-fff6-11e9-907d-8c859025e7f9\", \"x\": [-0.3, -0.25, -0.2, -0.15, -0.1, -0.05, 0.0, 0.05, 0.1, 0.15, 0.2, 0.25, 0.3, 0.35], \"y\": [0.1712, 0.1264, 0.0891, 0.0587, 0.0357, 0.0185, 0.0, -0.0163, -0.0295, -0.0338, -0.031, -0.0158, 0.0116, null], \"yaxis\": \"y2\", \"type\": \"scatter\", \"xaxis\": \"x2\"}, {\"legendgroup\": \"chart (1, 2)\", \"name\": \"chart (1, 2) 20181214\", \"uid\": \"2ba64fde-fff6-11e9-986f-8c859025e7f9\", \"x\": [-0.3, -0.25, -0.2, -0.15, -0.1, -0.05, 0.0, 0.05, 0.1, 0.15, 0.2, 0.25, 0.3, 0.35], \"y\": [0.1569, 0.116, 0.0804, 0.0483, 0.0275, 0.0113, 0.0, -0.013, -0.0235, -0.0286, -0.0265, null, 0.0078, null], \"yaxis\": \"y2\", \"type\": \"scatter\", \"xaxis\": \"x2\"}, {\"legendgroup\": \"chart (2, 1)\", \"name\": \"chart (2, 1) 20181217\", \"uid\": \"2ba78eba-fff6-11e9-883b-8c859025e7f9\", \"x\": [-0.3, -0.25, -0.2, -0.15, -0.1, -0.05, 0.0, 0.05, 0.1, 0.15, 0.2, 0.25, 0.3, 0.35], \"y\": [0.1641, 0.12, 0.0867, 0.0573, 0.0351, 0.0186, 0.0, -0.0133, -0.0244, -0.028, -0.0244, -0.014, 0.0069, 0.0318], \"yaxis\": \"y3\", \"type\": \"scatter\", \"xaxis\": \"x3\"}, {\"legendgroup\": \"chart (2, 1)\", \"name\": \"chart (2, 1) 20181218\", \"uid\": \"2ba8f73e-fff6-11e9-89a8-8c859025e7f9\", \"x\": [-0.3, -0.25, -0.2, -0.15, -0.1, -0.05, 0.0, 0.05, 0.1, 0.15, 0.2, 0.25, 0.3, 0.35], \"y\": [0.1463, 0.109, 0.0787, 0.0542, 0.0331, 0.0148, 0.0, -0.0222, -0.0376, -0.0481, -0.0526, -0.0535, -0.0418, -0.0339], \"yaxis\": \"y3\", \"type\": \"scatter\", \"xaxis\": \"x3\"}, {\"legendgroup\": \"chart (2, 1)\", \"name\": \"chart (2, 1) 20181219\", \"uid\": \"2bd45e58-fff6-11e9-8d21-8c859025e7f9\", \"x\": [-0.3, -0.25, -0.2, -0.15, -0.1, -0.05, 0.0, 0.05, 0.1, 0.15, 0.2, 0.25, 0.3, 0.35], \"y\": [0.1471, 0.1018, 0.0654, 0.0396, 0.0222, 0.0091, 0.0, -0.0133, -0.0215, -0.0239, -0.0207, -0.0161, -0.0048, 0.0142], \"yaxis\": \"y3\", \"type\": \"scatter\", \"xaxis\": \"x3\"}, {\"legendgroup\": \"chart (2, 1)\", \"name\": \"chart (2, 1) 20181220\", \"uid\": \"2bd55218-fff6-11e9-9f8a-8c859025e7f9\", \"x\": [-0.3, -0.25, -0.2, -0.15, -0.1, -0.05, 0.0, 0.05, 0.1, 0.15, 0.2, 0.25, 0.3, 0.35], \"y\": [0.1489, 0.1029, 0.0709, 0.0462, 0.0292, 0.0168, 0.0, -0.0094, -0.0203, -0.0249, -0.025, -0.0195, -0.0095, 0.0027], \"yaxis\": \"y3\", \"type\": \"scatter\", \"xaxis\": \"x3\"}, {\"legendgroup\": \"chart (2, 1)\", \"name\": \"chart (2, 1) 20181221\", \"uid\": \"2bd73d2e-fff6-11e9-a050-8c859025e7f9\", \"x\": [-0.3, -0.25, -0.2, -0.15, -0.1, -0.05, 0.0, 0.05, 0.1, 0.15, 0.2, 0.25, 0.3, 0.35], \"y\": [0.1543, 0.1109, 0.075, 0.0514, 0.0319, 0.0156, 0.0, -0.0111, -0.0173, -0.0236, -0.0235, -0.0151, -0.0047, 0.0142], \"yaxis\": \"y3\", \"type\": \"scatter\", \"xaxis\": \"x3\"}, {\"legendgroup\": \"chart (2, 2)\", \"name\": \"chart (2, 2) 20181224\", \"uid\": \"2bd9d37a-fff6-11e9-83c4-8c859025e7f9\", \"x\": [-0.3, -0.25, -0.2, -0.15, -0.1, -0.05, 0.0, 0.05, 0.1, 0.15, 0.2, 0.25, 0.3, 0.35], \"y\": [null, 0.0989, 0.0681, 0.0436, 0.0239, 0.008, 0.0, -0.0181, -0.0239, -0.0279, -0.0253, -0.019, -0.0109, 0.0051], \"yaxis\": \"y4\", \"type\": \"scatter\", \"xaxis\": \"x4\"}, {\"legendgroup\": \"chart (2, 2)\", \"name\": \"chart (2, 2) 20181226\", \"uid\": \"2bda9bcc-fff6-11e9-9ce4-8c859025e7f9\", \"x\": [-0.3, -0.25, -0.2, -0.15, -0.1, -0.05, 0.0, 0.05, 0.1, 0.15, 0.2, 0.25, 0.3, 0.35], \"y\": [0.138, 0.0957, 0.0608, 0.0345, 0.0205, 0.0071, 0.0, -0.0128, -0.0232, -0.0248, -0.0243, -0.0144, -0.0073, 0.0099], \"yaxis\": \"y4\", \"type\": \"scatter\", \"xaxis\": \"x4\"}, {\"legendgroup\": \"chart (2, 2)\", \"name\": \"chart (2, 2) 20181227\", \"uid\": \"2bdbbade-fff6-11e9-b386-8c859025e7f9\", \"x\": [-0.3, -0.25, -0.2, -0.15, -0.1, -0.05, 0.0, 0.05, 0.1, 0.15, 0.2, 0.25, 0.3, 0.35], \"y\": [0.1086, 0.0781, 0.0476, 0.0262, 0.0127, 0.0041, 0.0, -0.0118, -0.016, -0.021, -0.0216, -0.0163, -0.0104, 0.0008], \"yaxis\": \"y4\", \"type\": \"scatter\", \"xaxis\": \"x4\"}, {\"legendgroup\": \"chart (2, 2)\", \"name\": \"chart (2, 2) 20181228\", \"uid\": \"2bdcae1c-fff6-11e9-bc59-8c859025e7f9\", \"x\": [-0.3, -0.25, -0.2, -0.15, -0.1, -0.05, 0.0, 0.05, 0.1, 0.15, 0.2, 0.25, 0.3, 0.35], \"y\": [0.0987, 0.0674, 0.0355, 0.0168, 0.0067, 0.0017, 0.0, -0.0095, -0.011, -0.0136, -0.0093, -0.0005, 0.0108, 0.0245], \"yaxis\": \"y4\", \"type\": \"scatter\", \"xaxis\": \"x4\"}], {\"annotations\": [{\"font\": {\"size\": 16}, \"showarrow\": false, \"text\": \"CBH19 20181203 - 20181207\", \"x\": 0.2275, \"xanchor\": \"center\", \"xref\": \"paper\", \"y\": 1.0, \"yanchor\": \"bottom\", \"yref\": \"paper\"}, {\"font\": {\"size\": 16}, \"showarrow\": false, \"text\": \"CBH19 20181210 - 20181214\", \"x\": 0.7725, \"xanchor\": \"center\", \"xref\": \"paper\", \"y\": 1.0, \"yanchor\": \"bottom\", \"yref\": \"paper\"}, {\"font\": {\"size\": 16}, \"showarrow\": false, \"text\": \"CBH19 20181217 - 20181221\", \"x\": 0.2275, \"xanchor\": \"center\", \"xref\": \"paper\", \"y\": 0.445, \"yanchor\": \"bottom\", \"yref\": \"paper\"}, {\"font\": {\"size\": 16}, \"showarrow\": false, \"text\": \"CBH19 20181224 - 20181228\", \"x\": 0.7725, \"xanchor\": \"center\", \"xref\": \"paper\", \"y\": 0.445, \"yanchor\": \"bottom\", \"yref\": \"paper\"}], \"xaxis\": {\"anchor\": \"y\", \"domain\": [0.0, 0.455], \"tickangle\": 45, \"ticktext\": [-0.3, -0.25, -0.2, -0.15, -0.1, -0.05, 0.0, 0.05, 0.1, 0.15, 0.2, 0.25, 0.3, 0.35], \"tickvals\": [-0.3, -0.25, -0.2, -0.15, -0.1, -0.05, 0.0, 0.05, 0.1, 0.15, 0.2, 0.25, 0.3, 0.35], \"type\": \"category\"}, \"yaxis\": {\"anchor\": \"x\", \"domain\": [0.555, 1.0], \"title\": \"vol skew\"}, \"xaxis2\": {\"anchor\": \"y2\", \"domain\": [0.545, 1.0], \"tickangle\": 45, \"ticktext\": [-0.3, -0.25, -0.2, -0.15, -0.1, -0.05, 0.0, 0.05, 0.1, 0.15, 0.2, 0.25, 0.3, 0.35], \"tickvals\": [-0.3, -0.25, -0.2, -0.15, -0.1, -0.05, 0.0, 0.05, 0.1, 0.15, 0.2, 0.25, 0.3, 0.35], \"type\": \"category\"}, \"yaxis2\": {\"anchor\": \"x2\", \"domain\": [0.555, 1.0], \"title\": \"vol skew\"}, \"xaxis3\": {\"anchor\": \"y3\", \"domain\": [0.0, 0.455], \"tickangle\": 45, \"ticktext\": [-0.3, -0.25, -0.2, -0.15, -0.1, -0.05, 0.0, 0.05, 0.1, 0.15, 0.2, 0.25, 0.3, 0.35], \"tickvals\": [-0.3, -0.25, -0.2, -0.15, -0.1, -0.05, 0.0, 0.05, 0.1, 0.15, 0.2, 0.25, 0.3, 0.35], \"type\": \"category\"}, \"yaxis3\": {\"anchor\": \"x3\", \"domain\": [0.0, 0.445], \"title\": \"vol skew\"}, \"xaxis4\": {\"anchor\": \"y4\", \"domain\": [0.545, 1.0], \"tickangle\": 45, \"ticktext\": [-0.3, -0.25, -0.2, -0.15, -0.1, -0.05, 0.0, 0.05, 0.1, 0.15, 0.2, 0.25, 0.3, 0.35], \"tickvals\": [-0.3, -0.25, -0.2, -0.15, -0.1, -0.05, 0.0, 0.05, 0.1, 0.15, 0.2, 0.25, 0.3, 0.35], \"type\": \"category\"}, \"yaxis4\": {\"anchor\": \"x4\", \"domain\": [0.0, 0.445], \"title\": \"vol skew\"}, \"font\": {\"family\": \"Open Sans, sans-serif\"}, \"margin\": {\"b\": 55, \"l\": 45, \"r\": 15, \"t\": 50}, \"title\": \"Skew plots<br>\", \"showlegend\": true, \"hovermode\": \"x\", \"autosize\": true, \"width\": 900, \"height\": 800, \"plot_bgcolor\": \"#EFECEA\", \"bargap\": 0.05}, {\"showLink\": true, \"linkText\": \"Export to plot.ly\"})});</script>"
      ],
      "text/vnd.plotly.v1+html": [
       "<div id=\"574f2d1d-22ee-4bff-9402-9bbc7f51f27b\" style=\"height: 800px; width: 900px;\" class=\"plotly-graph-div\"></div><script type=\"text/javascript\">require([\"plotly\"], function(Plotly) { window.PLOTLYENV=window.PLOTLYENV || {};window.PLOTLYENV.BASE_URL=\"https://plot.ly\";Plotly.newPlot(\"574f2d1d-22ee-4bff-9402-9bbc7f51f27b\", [{\"legendgroup\": \"chart (1, 1)\", \"name\": \"chart (1, 1) 20181203\", \"uid\": \"2b9fc3c6-fff6-11e9-9762-8c859025e7f9\", \"x\": [-0.3, -0.25, -0.2, -0.15, -0.1, -0.05, 0.0, 0.05, 0.1, 0.15, 0.2, 0.25, 0.3, 0.35], \"y\": [0.1104, 0.0832, 0.0594, 0.0408, 0.0282, 0.0141, 0.0, -0.0173, -0.03, -0.0425, -0.0486, -0.0504, -0.045, null], \"yaxis\": \"y\", \"type\": \"scatter\", \"xaxis\": \"x\"}, {\"legendgroup\": \"chart (1, 1)\", \"name\": \"chart (1, 1) 20181204\", \"uid\": \"2ba082d4-fff6-11e9-a0ef-8c859025e7f9\", \"x\": [-0.3, -0.25, -0.2, -0.15, -0.1, -0.05, 0.0, 0.05, 0.1, 0.15, 0.2, 0.25, 0.3, 0.35], \"y\": [0.1327, 0.1053, 0.0776, 0.0561, 0.0363, 0.0178, 0.0, -0.0223, -0.0379, -0.0514, -0.061, -0.0637, -0.0549, null], \"yaxis\": \"y\", \"type\": \"scatter\", \"xaxis\": \"x\"}, {\"legendgroup\": \"chart (1, 1)\", \"name\": \"chart (1, 1) 20181205\", \"uid\": \"2ba12e28-fff6-11e9-8052-8c859025e7f9\", \"x\": [-0.3, -0.25, -0.2, -0.15, -0.1, -0.05, 0.0, 0.05, 0.1, 0.15, 0.2, 0.25, 0.3, 0.35], \"y\": [0.1599, 0.1258, 0.096, 0.0694, 0.045, 0.0227, 0.0, -0.0252, -0.0436, -0.0613, -0.0731, null, -0.0664, null], \"yaxis\": \"y\", \"type\": \"scatter\", \"xaxis\": \"x\"}, {\"legendgroup\": \"chart (1, 1)\", \"name\": \"chart (1, 1) 20181206\", \"uid\": \"2ba1c1ba-fff6-11e9-956d-8c859025e7f9\", \"x\": [-0.3, -0.25, -0.2, -0.15, -0.1, -0.05, 0.0, 0.05, 0.1, 0.15, 0.2, 0.25, 0.3, 0.35], \"y\": [0.1391, 0.1076, 0.0814, 0.0595, 0.0415, 0.0218, 0.0, -0.0245, -0.0429, -0.0593, -0.0687, -0.0703, -0.0648, null], \"yaxis\": \"y\", \"type\": \"scatter\", \"xaxis\": \"x\"}, {\"legendgroup\": \"chart (1, 1)\", \"name\": \"chart (1, 1) 20181207\", \"uid\": \"2ba23d22-fff6-11e9-9c67-8c859025e7f9\", \"x\": [-0.3, -0.25, -0.2, -0.15, -0.1, -0.05, 0.0, 0.05, 0.1, 0.15, 0.2, 0.25, 0.3, 0.35], \"y\": [0.1512, 0.1128, 0.0824, 0.0564, 0.036, 0.0179, 0.0, -0.0174, -0.0316, -0.0422, -0.0418, -0.0333, -0.0117, null], \"yaxis\": \"y\", \"type\": \"scatter\", \"xaxis\": \"x\"}, {\"legendgroup\": \"chart (1, 2)\", \"name\": \"chart (1, 2) 20181210\", \"uid\": \"2ba3bd98-fff6-11e9-b2f5-8c859025e7f9\", \"x\": [-0.3, -0.25, -0.2, -0.15, -0.1, -0.05, 0.0, 0.05, 0.1, 0.15, 0.2, 0.25, 0.3, 0.35], \"y\": [0.1538, 0.1138, 0.082, 0.0562, 0.0364, 0.0201, 0.0, -0.0197, -0.0361, -0.0489, -0.0535, -0.0498, -0.0347, null], \"yaxis\": \"y2\", \"type\": \"scatter\", \"xaxis\": \"x2\"}, {\"legendgroup\": \"chart (1, 2)\", \"name\": \"chart (1, 2) 20181211\", \"uid\": \"2ba4542c-fff6-11e9-9cbc-8c859025e7f9\", \"x\": [-0.3, -0.25, -0.2, -0.15, -0.1, -0.05, 0.0, 0.05, 0.1, 0.15, 0.2, 0.25, 0.3, 0.35], \"y\": [0.1486, 0.1112, 0.0766, 0.05, 0.0324, 0.0161, 0.0, -0.0193, -0.0316, -0.0392, -0.0386, -0.0281, -0.0119, null], \"yaxis\": \"y2\", \"type\": \"scatter\", \"xaxis\": \"x2\"}, {\"legendgroup\": \"chart (1, 2)\", \"name\": \"chart (1, 2) 20181212\", \"uid\": \"2ba4f08a-fff6-11e9-bfe9-8c859025e7f9\", \"x\": [-0.3, -0.25, -0.2, -0.15, -0.1, -0.05, 0.0, 0.05, 0.1, 0.15, 0.2, 0.25, 0.3, 0.35], \"y\": [0.1614, 0.1178, 0.0808, 0.0502, 0.0313, 0.0147, 0.0, -0.0209, -0.032, -0.0357, -0.0338, -0.0136, 0.0087, null], \"yaxis\": \"y2\", \"type\": \"scatter\", \"xaxis\": \"x2\"}, {\"legendgroup\": \"chart (1, 2)\", \"name\": \"chart (1, 2) 20181213\", \"uid\": \"2ba5a82c-fff6-11e9-907d-8c859025e7f9\", \"x\": [-0.3, -0.25, -0.2, -0.15, -0.1, -0.05, 0.0, 0.05, 0.1, 0.15, 0.2, 0.25, 0.3, 0.35], \"y\": [0.1712, 0.1264, 0.0891, 0.0587, 0.0357, 0.0185, 0.0, -0.0163, -0.0295, -0.0338, -0.031, -0.0158, 0.0116, null], \"yaxis\": \"y2\", \"type\": \"scatter\", \"xaxis\": \"x2\"}, {\"legendgroup\": \"chart (1, 2)\", \"name\": \"chart (1, 2) 20181214\", \"uid\": \"2ba64fde-fff6-11e9-986f-8c859025e7f9\", \"x\": [-0.3, -0.25, -0.2, -0.15, -0.1, -0.05, 0.0, 0.05, 0.1, 0.15, 0.2, 0.25, 0.3, 0.35], \"y\": [0.1569, 0.116, 0.0804, 0.0483, 0.0275, 0.0113, 0.0, -0.013, -0.0235, -0.0286, -0.0265, null, 0.0078, null], \"yaxis\": \"y2\", \"type\": \"scatter\", \"xaxis\": \"x2\"}, {\"legendgroup\": \"chart (2, 1)\", \"name\": \"chart (2, 1) 20181217\", \"uid\": \"2ba78eba-fff6-11e9-883b-8c859025e7f9\", \"x\": [-0.3, -0.25, -0.2, -0.15, -0.1, -0.05, 0.0, 0.05, 0.1, 0.15, 0.2, 0.25, 0.3, 0.35], \"y\": [0.1641, 0.12, 0.0867, 0.0573, 0.0351, 0.0186, 0.0, -0.0133, -0.0244, -0.028, -0.0244, -0.014, 0.0069, 0.0318], \"yaxis\": \"y3\", \"type\": \"scatter\", \"xaxis\": \"x3\"}, {\"legendgroup\": \"chart (2, 1)\", \"name\": \"chart (2, 1) 20181218\", \"uid\": \"2ba8f73e-fff6-11e9-89a8-8c859025e7f9\", \"x\": [-0.3, -0.25, -0.2, -0.15, -0.1, -0.05, 0.0, 0.05, 0.1, 0.15, 0.2, 0.25, 0.3, 0.35], \"y\": [0.1463, 0.109, 0.0787, 0.0542, 0.0331, 0.0148, 0.0, -0.0222, -0.0376, -0.0481, -0.0526, -0.0535, -0.0418, -0.0339], \"yaxis\": \"y3\", \"type\": \"scatter\", \"xaxis\": \"x3\"}, {\"legendgroup\": \"chart (2, 1)\", \"name\": \"chart (2, 1) 20181219\", \"uid\": \"2bd45e58-fff6-11e9-8d21-8c859025e7f9\", \"x\": [-0.3, -0.25, -0.2, -0.15, -0.1, -0.05, 0.0, 0.05, 0.1, 0.15, 0.2, 0.25, 0.3, 0.35], \"y\": [0.1471, 0.1018, 0.0654, 0.0396, 0.0222, 0.0091, 0.0, -0.0133, -0.0215, -0.0239, -0.0207, -0.0161, -0.0048, 0.0142], \"yaxis\": \"y3\", \"type\": \"scatter\", \"xaxis\": \"x3\"}, {\"legendgroup\": \"chart (2, 1)\", \"name\": \"chart (2, 1) 20181220\", \"uid\": \"2bd55218-fff6-11e9-9f8a-8c859025e7f9\", \"x\": [-0.3, -0.25, -0.2, -0.15, -0.1, -0.05, 0.0, 0.05, 0.1, 0.15, 0.2, 0.25, 0.3, 0.35], \"y\": [0.1489, 0.1029, 0.0709, 0.0462, 0.0292, 0.0168, 0.0, -0.0094, -0.0203, -0.0249, -0.025, -0.0195, -0.0095, 0.0027], \"yaxis\": \"y3\", \"type\": \"scatter\", \"xaxis\": \"x3\"}, {\"legendgroup\": \"chart (2, 1)\", \"name\": \"chart (2, 1) 20181221\", \"uid\": \"2bd73d2e-fff6-11e9-a050-8c859025e7f9\", \"x\": [-0.3, -0.25, -0.2, -0.15, -0.1, -0.05, 0.0, 0.05, 0.1, 0.15, 0.2, 0.25, 0.3, 0.35], \"y\": [0.1543, 0.1109, 0.075, 0.0514, 0.0319, 0.0156, 0.0, -0.0111, -0.0173, -0.0236, -0.0235, -0.0151, -0.0047, 0.0142], \"yaxis\": \"y3\", \"type\": \"scatter\", \"xaxis\": \"x3\"}, {\"legendgroup\": \"chart (2, 2)\", \"name\": \"chart (2, 2) 20181224\", \"uid\": \"2bd9d37a-fff6-11e9-83c4-8c859025e7f9\", \"x\": [-0.3, -0.25, -0.2, -0.15, -0.1, -0.05, 0.0, 0.05, 0.1, 0.15, 0.2, 0.25, 0.3, 0.35], \"y\": [null, 0.0989, 0.0681, 0.0436, 0.0239, 0.008, 0.0, -0.0181, -0.0239, -0.0279, -0.0253, -0.019, -0.0109, 0.0051], \"yaxis\": \"y4\", \"type\": \"scatter\", \"xaxis\": \"x4\"}, {\"legendgroup\": \"chart (2, 2)\", \"name\": \"chart (2, 2) 20181226\", \"uid\": \"2bda9bcc-fff6-11e9-9ce4-8c859025e7f9\", \"x\": [-0.3, -0.25, -0.2, -0.15, -0.1, -0.05, 0.0, 0.05, 0.1, 0.15, 0.2, 0.25, 0.3, 0.35], \"y\": [0.138, 0.0957, 0.0608, 0.0345, 0.0205, 0.0071, 0.0, -0.0128, -0.0232, -0.0248, -0.0243, -0.0144, -0.0073, 0.0099], \"yaxis\": \"y4\", \"type\": \"scatter\", \"xaxis\": \"x4\"}, {\"legendgroup\": \"chart (2, 2)\", \"name\": \"chart (2, 2) 20181227\", \"uid\": \"2bdbbade-fff6-11e9-b386-8c859025e7f9\", \"x\": [-0.3, -0.25, -0.2, -0.15, -0.1, -0.05, 0.0, 0.05, 0.1, 0.15, 0.2, 0.25, 0.3, 0.35], \"y\": [0.1086, 0.0781, 0.0476, 0.0262, 0.0127, 0.0041, 0.0, -0.0118, -0.016, -0.021, -0.0216, -0.0163, -0.0104, 0.0008], \"yaxis\": \"y4\", \"type\": \"scatter\", \"xaxis\": \"x4\"}, {\"legendgroup\": \"chart (2, 2)\", \"name\": \"chart (2, 2) 20181228\", \"uid\": \"2bdcae1c-fff6-11e9-bc59-8c859025e7f9\", \"x\": [-0.3, -0.25, -0.2, -0.15, -0.1, -0.05, 0.0, 0.05, 0.1, 0.15, 0.2, 0.25, 0.3, 0.35], \"y\": [0.0987, 0.0674, 0.0355, 0.0168, 0.0067, 0.0017, 0.0, -0.0095, -0.011, -0.0136, -0.0093, -0.0005, 0.0108, 0.0245], \"yaxis\": \"y4\", \"type\": \"scatter\", \"xaxis\": \"x4\"}], {\"annotations\": [{\"font\": {\"size\": 16}, \"showarrow\": false, \"text\": \"CBH19 20181203 - 20181207\", \"x\": 0.2275, \"xanchor\": \"center\", \"xref\": \"paper\", \"y\": 1.0, \"yanchor\": \"bottom\", \"yref\": \"paper\"}, {\"font\": {\"size\": 16}, \"showarrow\": false, \"text\": \"CBH19 20181210 - 20181214\", \"x\": 0.7725, \"xanchor\": \"center\", \"xref\": \"paper\", \"y\": 1.0, \"yanchor\": \"bottom\", \"yref\": \"paper\"}, {\"font\": {\"size\": 16}, \"showarrow\": false, \"text\": \"CBH19 20181217 - 20181221\", \"x\": 0.2275, \"xanchor\": \"center\", \"xref\": \"paper\", \"y\": 0.445, \"yanchor\": \"bottom\", \"yref\": \"paper\"}, {\"font\": {\"size\": 16}, \"showarrow\": false, \"text\": \"CBH19 20181224 - 20181228\", \"x\": 0.7725, \"xanchor\": \"center\", \"xref\": \"paper\", \"y\": 0.445, \"yanchor\": \"bottom\", \"yref\": \"paper\"}], \"xaxis\": {\"anchor\": \"y\", \"domain\": [0.0, 0.455], \"tickangle\": 45, \"ticktext\": [-0.3, -0.25, -0.2, -0.15, -0.1, -0.05, 0.0, 0.05, 0.1, 0.15, 0.2, 0.25, 0.3, 0.35], \"tickvals\": [-0.3, -0.25, -0.2, -0.15, -0.1, -0.05, 0.0, 0.05, 0.1, 0.15, 0.2, 0.25, 0.3, 0.35], \"type\": \"category\"}, \"yaxis\": {\"anchor\": \"x\", \"domain\": [0.555, 1.0], \"title\": \"vol skew\"}, \"xaxis2\": {\"anchor\": \"y2\", \"domain\": [0.545, 1.0], \"tickangle\": 45, \"ticktext\": [-0.3, -0.25, -0.2, -0.15, -0.1, -0.05, 0.0, 0.05, 0.1, 0.15, 0.2, 0.25, 0.3, 0.35], \"tickvals\": [-0.3, -0.25, -0.2, -0.15, -0.1, -0.05, 0.0, 0.05, 0.1, 0.15, 0.2, 0.25, 0.3, 0.35], \"type\": \"category\"}, \"yaxis2\": {\"anchor\": \"x2\", \"domain\": [0.555, 1.0], \"title\": \"vol skew\"}, \"xaxis3\": {\"anchor\": \"y3\", \"domain\": [0.0, 0.455], \"tickangle\": 45, \"ticktext\": [-0.3, -0.25, -0.2, -0.15, -0.1, -0.05, 0.0, 0.05, 0.1, 0.15, 0.2, 0.25, 0.3, 0.35], \"tickvals\": [-0.3, -0.25, -0.2, -0.15, -0.1, -0.05, 0.0, 0.05, 0.1, 0.15, 0.2, 0.25, 0.3, 0.35], \"type\": \"category\"}, \"yaxis3\": {\"anchor\": \"x3\", \"domain\": [0.0, 0.445], \"title\": \"vol skew\"}, \"xaxis4\": {\"anchor\": \"y4\", \"domain\": [0.545, 1.0], \"tickangle\": 45, \"ticktext\": [-0.3, -0.25, -0.2, -0.15, -0.1, -0.05, 0.0, 0.05, 0.1, 0.15, 0.2, 0.25, 0.3, 0.35], \"tickvals\": [-0.3, -0.25, -0.2, -0.15, -0.1, -0.05, 0.0, 0.05, 0.1, 0.15, 0.2, 0.25, 0.3, 0.35], \"type\": \"category\"}, \"yaxis4\": {\"anchor\": \"x4\", \"domain\": [0.0, 0.445], \"title\": \"vol skew\"}, \"font\": {\"family\": \"Open Sans, sans-serif\"}, \"margin\": {\"b\": 55, \"l\": 45, \"r\": 15, \"t\": 50}, \"title\": \"Skew plots<br>\", \"showlegend\": true, \"hovermode\": \"x\", \"autosize\": true, \"width\": 900, \"height\": 800, \"plot_bgcolor\": \"#EFECEA\", \"bargap\": 0.05}, {\"showLink\": true, \"linkText\": \"Export to plot.ly\"})});</script>"
      ]
     },
     "metadata": {},
     "output_type": "display_data"
    },
    {
     "data": {
      "application/vnd.plotly.v1+json": {
       "data": [
        {
         "legendgroup": "chart (1, 1)",
         "name": "chart (1, 1) 20181231",
         "type": "scatter",
         "uid": "2c41ec00-fff6-11e9-a18b-8c859025e7f9",
         "x": [
          -0.3,
          -0.25,
          -0.2,
          -0.15,
          -0.1,
          -0.05,
          0,
          0.05,
          0.1,
          0.15,
          0.2,
          0.25,
          0.3,
          0.35
         ],
         "xaxis": "x",
         "y": [
          null,
          0.0543,
          0.0329,
          0.0176,
          0.011,
          0.0067,
          0,
          -0.005,
          -0.0074,
          -0.0102,
          -0.0104,
          -0.0078,
          -0.0052,
          -0.0002
         ],
         "yaxis": "y"
        },
        {
         "legendgroup": "chart (1, 1)",
         "name": "chart (1, 1) 20190102",
         "type": "scatter",
         "uid": "2c427e90-fff6-11e9-aa35-8c859025e7f9",
         "x": [
          -0.3,
          -0.25,
          -0.2,
          -0.15,
          -0.1,
          -0.05,
          0,
          0.05,
          0.1,
          0.15,
          0.2,
          0.25,
          0.3,
          0.35
         ],
         "xaxis": "x",
         "y": [
          0.0867,
          0.0547,
          0.0329,
          0.0193,
          0.0127,
          0.0078,
          0,
          -0.0033,
          -0.0101,
          -0.0124,
          -0.0174,
          -0.017,
          -0.0143,
          -0.0082
         ],
         "yaxis": "y"
        },
        {
         "legendgroup": "chart (1, 1)",
         "name": "chart (1, 1) 20190103",
         "type": "scatter",
         "uid": "2c42ecd8-fff6-11e9-806f-8c859025e7f9",
         "x": [
          -0.3,
          -0.25,
          -0.2,
          -0.15,
          -0.1,
          -0.05,
          0,
          0.05,
          0.1,
          0.15,
          0.2,
          0.25,
          0.3,
          0.35
         ],
         "xaxis": "x",
         "y": [
          0.0786,
          0.0485,
          0.0301,
          0.0195,
          0.0109,
          0.0076,
          0,
          -0.0027,
          -0.0083,
          -0.0122,
          -0.016,
          -0.0186,
          -0.016,
          -0.0077
         ],
         "yaxis": "y"
        },
        {
         "legendgroup": "chart (1, 1)",
         "name": "chart (1, 1) 20190104",
         "type": "scatter",
         "uid": "2c435fc2-fff6-11e9-ac25-8c859025e7f9",
         "x": [
          -0.3,
          -0.25,
          -0.2,
          -0.15,
          -0.1,
          -0.05,
          0,
          0.05,
          0.1,
          0.15,
          0.2,
          0.25,
          0.3,
          0.35
         ],
         "xaxis": "x",
         "y": [
          0.0801,
          0.0549,
          0.0305,
          0.0184,
          0.0084,
          0.0024,
          0,
          -0.0093,
          -0.0148,
          -0.021,
          -0.0243,
          -0.024,
          -0.0191,
          -0.0111
         ],
         "yaxis": "y"
        },
        {
         "legendgroup": "chart (1, 1)",
         "name": "chart (1, 1) 20190107",
         "type": "scatter",
         "uid": "2c43d9a2-fff6-11e9-b5a4-8c859025e7f9",
         "x": [
          -0.3,
          -0.25,
          -0.2,
          -0.15,
          -0.1,
          -0.05,
          0,
          0.05,
          0.1,
          0.15,
          0.2,
          0.25,
          0.3,
          0.35
         ],
         "xaxis": "x",
         "y": [
          0.1003,
          0.0685,
          0.0461,
          0.0302,
          0.018,
          0.0096,
          0,
          -0.0063,
          -0.0149,
          -0.0182,
          -0.0182,
          -0.019,
          -0.011,
          -0.002
         ],
         "yaxis": "y"
        },
        {
         "legendgroup": "chart (1, 2)",
         "name": "chart (1, 2) 20190108",
         "type": "scatter",
         "uid": "2c45099e-fff6-11e9-888c-8c859025e7f9",
         "x": [
          -0.3,
          -0.25,
          -0.2,
          -0.15,
          -0.1,
          -0.05,
          0,
          0.05,
          0.1,
          0.15,
          0.2,
          0.25,
          0.3,
          0.35
         ],
         "xaxis": "x2",
         "y": [
          0.1091,
          0.0723,
          0.044,
          0.0263,
          0.0127,
          0.0048,
          0,
          -0.0095,
          -0.0162,
          -0.0187,
          -0.02,
          -0.0181,
          -0.0094,
          0.0053
         ],
         "yaxis": "y2"
        },
        {
         "legendgroup": "chart (1, 2)",
         "name": "chart (1, 2) 20190109",
         "type": "scatter",
         "uid": "2c457818-fff6-11e9-939b-8c859025e7f9",
         "x": [
          -0.3,
          -0.25,
          -0.2,
          -0.15,
          -0.1,
          -0.05,
          0,
          0.05,
          0.1,
          0.15,
          0.2,
          0.25,
          0.3,
          0.35
         ],
         "xaxis": "x2",
         "y": [
          0.1214,
          null,
          0.0598,
          0.037,
          0.021,
          0.0115,
          0,
          -0.0093,
          -0.0135,
          -0.0189,
          -0.0202,
          null,
          0.0018,
          null
         ],
         "yaxis": "y2"
        },
        {
         "legendgroup": "chart (1, 2)",
         "name": "chart (1, 2) 20190110",
         "type": "scatter",
         "uid": "2c45f138-fff6-11e9-9e34-8c859025e7f9",
         "x": [
          -0.3,
          -0.25,
          -0.2,
          -0.15,
          -0.1,
          -0.05,
          0,
          0.05,
          0.1,
          0.15,
          0.2,
          0.25,
          0.3,
          0.35
         ],
         "xaxis": "x2",
         "y": [
          0.1278,
          0.0883,
          0.0578,
          0.0364,
          0.0195,
          0.0088,
          0,
          -0.0132,
          -0.0218,
          -0.0272,
          -0.0274,
          -0.0194,
          -0.0096,
          null
         ],
         "yaxis": "y2"
        },
        {
         "legendgroup": "chart (1, 2)",
         "name": "chart (1, 2) 20190111",
         "type": "scatter",
         "uid": "2c465740-fff6-11e9-b54b-8c859025e7f9",
         "x": [
          -0.3,
          -0.25,
          -0.2,
          -0.15,
          -0.1,
          -0.05,
          0,
          0.05,
          0.1,
          0.15,
          0.2,
          0.25,
          0.3,
          0.35
         ],
         "xaxis": "x2",
         "y": [
          0.1332,
          0.1008,
          0.066,
          0.0438,
          0.0259,
          0.0139,
          0,
          -0.0097,
          -0.0184,
          -0.0226,
          -0.0232,
          -0.0114,
          0.0014,
          null
         ],
         "yaxis": "y2"
        },
        {
         "legendgroup": "chart (1, 2)",
         "name": "chart (1, 2) 20190114",
         "type": "scatter",
         "uid": "2c46cc3e-fff6-11e9-ad30-8c859025e7f9",
         "x": [
          -0.3,
          -0.25,
          -0.2,
          -0.15,
          -0.1,
          -0.05,
          0,
          0.05,
          0.1,
          0.15,
          0.2,
          0.25,
          0.3,
          0.35
         ],
         "xaxis": "x2",
         "y": [
          0.1551,
          0.107,
          0.074,
          0.0474,
          0.0303,
          0.0175,
          0,
          -0.0094,
          -0.0167,
          -0.0235,
          -0.0213,
          -0.0086,
          0.0098,
          0.0182
         ],
         "yaxis": "y2"
        },
        {
         "legendgroup": "chart (2, 1)",
         "name": "chart (2, 1) 20190115",
         "type": "scatter",
         "uid": "2c47c7ba-fff6-11e9-9c27-8c859025e7f9",
         "x": [
          -0.3,
          -0.25,
          -0.2,
          -0.15,
          -0.1,
          -0.05,
          0,
          0.05,
          0.1,
          0.15,
          0.2,
          0.25,
          0.3,
          0.35
         ],
         "xaxis": "x3",
         "y": [
          0.1403,
          0.1038,
          0.0715,
          0.0427,
          0.0248,
          0.0095,
          0,
          -0.0137,
          -0.0195,
          -0.0224,
          -0.0202,
          -0.0007,
          0.0175,
          null
         ],
         "yaxis": "y3"
        },
        {
         "legendgroup": "chart (2, 1)",
         "name": "chart (2, 1) 20190116",
         "type": "scatter",
         "uid": "2c483db4-fff6-11e9-9b4a-8c859025e7f9",
         "x": [
          -0.3,
          -0.25,
          -0.2,
          -0.15,
          -0.1,
          -0.05,
          0,
          0.05,
          0.1,
          0.15,
          0.2,
          0.25,
          0.3,
          0.35
         ],
         "xaxis": "x3",
         "y": [
          0.1508,
          0.1138,
          0.0761,
          0.0462,
          0.027,
          0.0123,
          0,
          -0.013,
          -0.0207,
          -0.0243,
          -0.0182,
          -0.0048,
          0.0189,
          null
         ],
         "yaxis": "y3"
        },
        {
         "legendgroup": "chart (2, 1)",
         "name": "chart (2, 1) 20190117",
         "type": "scatter",
         "uid": "2c48a748-fff6-11e9-bcdb-8c859025e7f9",
         "x": [
          -0.3,
          -0.25,
          -0.2,
          -0.15,
          -0.1,
          -0.05,
          0,
          0.05,
          0.1,
          0.15,
          0.2,
          0.25,
          0.3,
          0.35
         ],
         "xaxis": "x3",
         "y": [
          0.159,
          0.1197,
          0.082,
          0.0506,
          0.0314,
          0.0175,
          0,
          -0.0089,
          -0.0167,
          -0.0162,
          -0.0055,
          0.0116,
          0.0295,
          null
         ],
         "yaxis": "y3"
        },
        {
         "legendgroup": "chart (2, 1)",
         "name": "chart (2, 1) 20190118",
         "type": "scatter",
         "uid": "2c492068-fff6-11e9-95df-8c859025e7f9",
         "x": [
          -0.3,
          -0.25,
          -0.2,
          -0.15,
          -0.1,
          -0.05,
          0,
          0.05,
          0.1,
          0.15,
          0.2,
          0.25,
          0.3,
          0.35
         ],
         "xaxis": "x3",
         "y": [
          0.1666,
          0.121,
          0.077,
          0.0445,
          0.0242,
          0.0108,
          0,
          -0.0076,
          -0.0104,
          -0.0102,
          -0.0001,
          0.0215,
          null,
          null
         ],
         "yaxis": "y3"
        },
        {
         "legendgroup": "chart (2, 1)",
         "name": "chart (2, 1) 20190121",
         "type": "scatter",
         "uid": "2c499c86-fff6-11e9-a8d7-8c859025e7f9",
         "x": [
          -0.3,
          -0.25,
          -0.2,
          -0.15,
          -0.1,
          -0.05,
          0,
          0.05,
          0.1,
          0.15,
          0.2,
          0.25,
          0.3,
          0.35
         ],
         "xaxis": "x3",
         "y": [
          0.1749,
          0.1146,
          0.0816,
          0.0475,
          0.0263,
          0.0111,
          0,
          -0.007,
          -0.0074,
          -0.0069,
          0.0081,
          0.0262,
          null,
          null
         ],
         "yaxis": "y3"
        },
        {
         "legendgroup": "chart (2, 2)",
         "name": "chart (2, 2) 20190122",
         "type": "scatter",
         "uid": "2c4a9a80-fff6-11e9-be13-8c859025e7f9",
         "x": [
          -0.3,
          -0.25,
          -0.2,
          -0.15,
          -0.1,
          -0.05,
          0,
          0.05,
          0.1,
          0.15,
          0.2,
          0.25,
          0.3,
          0.35
         ],
         "xaxis": "x4",
         "y": [
          0.1636,
          0.1191,
          0.0792,
          0.0474,
          0.0289,
          0.0126,
          0,
          -0.0119,
          -0.0188,
          -0.0186,
          -0.0097,
          0.0045,
          0.0166,
          null
         ],
         "yaxis": "y4"
        },
        {
         "legendgroup": "chart (2, 2)",
         "name": "chart (2, 2) 20190123",
         "type": "scatter",
         "uid": "2c4afd90-fff6-11e9-aaee-8c859025e7f9",
         "x": [
          -0.3,
          -0.25,
          -0.2,
          -0.15,
          -0.1,
          -0.05,
          0,
          0.05,
          0.1,
          0.15,
          0.2,
          0.25,
          0.3,
          0.35
         ],
         "xaxis": "x4",
         "y": [
          0.1572,
          0.1178,
          0.0863,
          0.056,
          0.0321,
          0.0136,
          0,
          -0.0121,
          -0.0198,
          -0.0179,
          -0.0039,
          0.0146,
          0.0338,
          null
         ],
         "yaxis": "y4"
        },
        {
         "legendgroup": "chart (2, 2)",
         "name": "chart (2, 2) 20190124",
         "type": "scatter",
         "uid": "2c4b93fe-fff6-11e9-96f2-8c859025e7f9",
         "x": [
          -0.3,
          -0.25,
          -0.2,
          -0.15,
          -0.1,
          -0.05,
          0,
          0.05,
          0.1,
          0.15,
          0.2,
          0.25,
          0.3,
          0.35
         ],
         "xaxis": "x4",
         "y": [
          0.1881,
          0.1391,
          0.0916,
          0.0588,
          0.0338,
          0.0171,
          0,
          -0.0061,
          -0.0091,
          -0.0025,
          0.0099,
          0.0337,
          0.0578,
          null
         ],
         "yaxis": "y4"
        },
        {
         "legendgroup": "chart (2, 2)",
         "name": "chart (2, 2) 20190125",
         "type": "scatter",
         "uid": "2c4c3200-fff6-11e9-807f-8c859025e7f9",
         "x": [
          -0.3,
          -0.25,
          -0.2,
          -0.15,
          -0.1,
          -0.05,
          0,
          0.05,
          0.1,
          0.15,
          0.2,
          0.25,
          0.3,
          0.35
         ],
         "xaxis": "x4",
         "y": [
          0.1898,
          0.1411,
          0.0943,
          0.0555,
          0.0308,
          0.0123,
          0,
          -0.0044,
          -0.001,
          0.0045,
          0.0192,
          0.0496,
          0.0748,
          null
         ],
         "yaxis": "y4"
        },
        {
         "legendgroup": "chart (2, 2)",
         "name": "chart (2, 2) 20190128",
         "type": "scatter",
         "uid": "2c4ca546-fff6-11e9-9972-8c859025e7f9",
         "x": [
          -0.3,
          -0.25,
          -0.2,
          -0.15,
          -0.1,
          -0.05,
          0,
          0.05,
          0.1,
          0.15,
          0.2,
          0.25,
          0.3,
          0.35
         ],
         "xaxis": "x4",
         "y": [
          0.19,
          0.1402,
          0.0943,
          0.0571,
          0.0319,
          0.0126,
          0,
          -0.0126,
          -0.0131,
          -0.0057,
          0.0153,
          0.0441,
          0.07,
          0.0999
         ],
         "yaxis": "y4"
        }
       ],
       "layout": {
        "annotations": [
         {
          "font": {
           "size": 16
          },
          "showarrow": false,
          "text": "CBJ19 20181231 - 20190107",
          "x": 0.2275,
          "xanchor": "center",
          "xref": "paper",
          "y": 1,
          "yanchor": "bottom",
          "yref": "paper"
         },
         {
          "font": {
           "size": 16
          },
          "showarrow": false,
          "text": "CBJ19 20190108 - 20190114",
          "x": 0.7725,
          "xanchor": "center",
          "xref": "paper",
          "y": 1,
          "yanchor": "bottom",
          "yref": "paper"
         },
         {
          "font": {
           "size": 16
          },
          "showarrow": false,
          "text": "CBJ19 20190115 - 20190121",
          "x": 0.2275,
          "xanchor": "center",
          "xref": "paper",
          "y": 0.445,
          "yanchor": "bottom",
          "yref": "paper"
         },
         {
          "font": {
           "size": 16
          },
          "showarrow": false,
          "text": "CBJ19 20190122 - 20190128",
          "x": 0.7725,
          "xanchor": "center",
          "xref": "paper",
          "y": 0.445,
          "yanchor": "bottom",
          "yref": "paper"
         }
        ],
        "autosize": true,
        "bargap": 0.05,
        "font": {
         "family": "Open Sans, sans-serif"
        },
        "height": 800,
        "hovermode": "x",
        "margin": {
         "b": 55,
         "l": 45,
         "r": 15,
         "t": 50
        },
        "plot_bgcolor": "#EFECEA",
        "showlegend": true,
        "title": "Skew plots<br>",
        "width": 900,
        "xaxis": {
         "anchor": "y",
         "domain": [
          0,
          0.455
         ],
         "tickangle": 45,
         "ticktext": [
          -0.3,
          -0.25,
          -0.2,
          -0.15,
          -0.1,
          -0.05,
          0,
          0.05,
          0.1,
          0.15,
          0.2,
          0.25,
          0.3,
          0.35
         ],
         "tickvals": [
          -0.3,
          -0.25,
          -0.2,
          -0.15,
          -0.1,
          -0.05,
          0,
          0.05,
          0.1,
          0.15,
          0.2,
          0.25,
          0.3,
          0.35
         ],
         "type": "category"
        },
        "xaxis2": {
         "anchor": "y2",
         "domain": [
          0.545,
          1
         ],
         "tickangle": 45,
         "ticktext": [
          -0.3,
          -0.25,
          -0.2,
          -0.15,
          -0.1,
          -0.05,
          0,
          0.05,
          0.1,
          0.15,
          0.2,
          0.25,
          0.3,
          0.35
         ],
         "tickvals": [
          -0.3,
          -0.25,
          -0.2,
          -0.15,
          -0.1,
          -0.05,
          0,
          0.05,
          0.1,
          0.15,
          0.2,
          0.25,
          0.3,
          0.35
         ],
         "type": "category"
        },
        "xaxis3": {
         "anchor": "y3",
         "domain": [
          0,
          0.455
         ],
         "tickangle": 45,
         "ticktext": [
          -0.3,
          -0.25,
          -0.2,
          -0.15,
          -0.1,
          -0.05,
          0,
          0.05,
          0.1,
          0.15,
          0.2,
          0.25,
          0.3,
          0.35
         ],
         "tickvals": [
          -0.3,
          -0.25,
          -0.2,
          -0.15,
          -0.1,
          -0.05,
          0,
          0.05,
          0.1,
          0.15,
          0.2,
          0.25,
          0.3,
          0.35
         ],
         "type": "category"
        },
        "xaxis4": {
         "anchor": "y4",
         "domain": [
          0.545,
          1
         ],
         "tickangle": 45,
         "ticktext": [
          -0.3,
          -0.25,
          -0.2,
          -0.15,
          -0.1,
          -0.05,
          0,
          0.05,
          0.1,
          0.15,
          0.2,
          0.25,
          0.3,
          0.35
         ],
         "tickvals": [
          -0.3,
          -0.25,
          -0.2,
          -0.15,
          -0.1,
          -0.05,
          0,
          0.05,
          0.1,
          0.15,
          0.2,
          0.25,
          0.3,
          0.35
         ],
         "type": "category"
        },
        "yaxis": {
         "anchor": "x",
         "domain": [
          0.555,
          1
         ],
         "title": "vol skew"
        },
        "yaxis2": {
         "anchor": "x2",
         "domain": [
          0.555,
          1
         ],
         "title": "vol skew"
        },
        "yaxis3": {
         "anchor": "x3",
         "domain": [
          0,
          0.445
         ],
         "title": "vol skew"
        },
        "yaxis4": {
         "anchor": "x4",
         "domain": [
          0,
          0.445
         ],
         "title": "vol skew"
        }
       }
      },
      "text/html": [
       "<div id=\"706182b7-4982-4a45-af86-f1f512c03e74\" style=\"height: 800px; width: 900px;\" class=\"plotly-graph-div\"></div><script type=\"text/javascript\">require([\"plotly\"], function(Plotly) { window.PLOTLYENV=window.PLOTLYENV || {};window.PLOTLYENV.BASE_URL=\"https://plot.ly\";Plotly.newPlot(\"706182b7-4982-4a45-af86-f1f512c03e74\", [{\"legendgroup\": \"chart (1, 1)\", \"name\": \"chart (1, 1) 20181231\", \"uid\": \"2c41ec00-fff6-11e9-a18b-8c859025e7f9\", \"x\": [-0.3, -0.25, -0.2, -0.15, -0.1, -0.05, 0.0, 0.05, 0.1, 0.15, 0.2, 0.25, 0.3, 0.35], \"y\": [null, 0.0543, 0.0329, 0.0176, 0.011, 0.0067, 0.0, -0.005, -0.0074, -0.0102, -0.0104, -0.0078, -0.0052, -0.0002], \"yaxis\": \"y\", \"type\": \"scatter\", \"xaxis\": \"x\"}, {\"legendgroup\": \"chart (1, 1)\", \"name\": \"chart (1, 1) 20190102\", \"uid\": \"2c427e90-fff6-11e9-aa35-8c859025e7f9\", \"x\": [-0.3, -0.25, -0.2, -0.15, -0.1, -0.05, 0.0, 0.05, 0.1, 0.15, 0.2, 0.25, 0.3, 0.35], \"y\": [0.0867, 0.0547, 0.0329, 0.0193, 0.0127, 0.0078, 0.0, -0.0033, -0.0101, -0.0124, -0.0174, -0.017, -0.0143, -0.0082], \"yaxis\": \"y\", \"type\": \"scatter\", \"xaxis\": \"x\"}, {\"legendgroup\": \"chart (1, 1)\", \"name\": \"chart (1, 1) 20190103\", \"uid\": \"2c42ecd8-fff6-11e9-806f-8c859025e7f9\", \"x\": [-0.3, -0.25, -0.2, -0.15, -0.1, -0.05, 0.0, 0.05, 0.1, 0.15, 0.2, 0.25, 0.3, 0.35], \"y\": [0.0786, 0.0485, 0.0301, 0.0195, 0.0109, 0.0076, 0.0, -0.0027, -0.0083, -0.0122, -0.016, -0.0186, -0.016, -0.0077], \"yaxis\": \"y\", \"type\": \"scatter\", \"xaxis\": \"x\"}, {\"legendgroup\": \"chart (1, 1)\", \"name\": \"chart (1, 1) 20190104\", \"uid\": \"2c435fc2-fff6-11e9-ac25-8c859025e7f9\", \"x\": [-0.3, -0.25, -0.2, -0.15, -0.1, -0.05, 0.0, 0.05, 0.1, 0.15, 0.2, 0.25, 0.3, 0.35], \"y\": [0.0801, 0.0549, 0.0305, 0.0184, 0.0084, 0.0024, 0.0, -0.0093, -0.0148, -0.021, -0.0243, -0.024, -0.0191, -0.0111], \"yaxis\": \"y\", \"type\": \"scatter\", \"xaxis\": \"x\"}, {\"legendgroup\": \"chart (1, 1)\", \"name\": \"chart (1, 1) 20190107\", \"uid\": \"2c43d9a2-fff6-11e9-b5a4-8c859025e7f9\", \"x\": [-0.3, -0.25, -0.2, -0.15, -0.1, -0.05, 0.0, 0.05, 0.1, 0.15, 0.2, 0.25, 0.3, 0.35], \"y\": [0.1003, 0.0685, 0.0461, 0.0302, 0.018, 0.0096, 0.0, -0.0063, -0.0149, -0.0182, -0.0182, -0.019, -0.011, -0.002], \"yaxis\": \"y\", \"type\": \"scatter\", \"xaxis\": \"x\"}, {\"legendgroup\": \"chart (1, 2)\", \"name\": \"chart (1, 2) 20190108\", \"uid\": \"2c45099e-fff6-11e9-888c-8c859025e7f9\", \"x\": [-0.3, -0.25, -0.2, -0.15, -0.1, -0.05, 0.0, 0.05, 0.1, 0.15, 0.2, 0.25, 0.3, 0.35], \"y\": [0.1091, 0.0723, 0.044, 0.0263, 0.0127, 0.0048, 0.0, -0.0095, -0.0162, -0.0187, -0.02, -0.0181, -0.0094, 0.0053], \"yaxis\": \"y2\", \"type\": \"scatter\", \"xaxis\": \"x2\"}, {\"legendgroup\": \"chart (1, 2)\", \"name\": \"chart (1, 2) 20190109\", \"uid\": \"2c457818-fff6-11e9-939b-8c859025e7f9\", \"x\": [-0.3, -0.25, -0.2, -0.15, -0.1, -0.05, 0.0, 0.05, 0.1, 0.15, 0.2, 0.25, 0.3, 0.35], \"y\": [0.1214, null, 0.0598, 0.037, 0.021, 0.0115, 0.0, -0.0093, -0.0135, -0.0189, -0.0202, null, 0.0018, null], \"yaxis\": \"y2\", \"type\": \"scatter\", \"xaxis\": \"x2\"}, {\"legendgroup\": \"chart (1, 2)\", \"name\": \"chart (1, 2) 20190110\", \"uid\": \"2c45f138-fff6-11e9-9e34-8c859025e7f9\", \"x\": [-0.3, -0.25, -0.2, -0.15, -0.1, -0.05, 0.0, 0.05, 0.1, 0.15, 0.2, 0.25, 0.3, 0.35], \"y\": [0.1278, 0.0883, 0.0578, 0.0364, 0.0195, 0.0088, 0.0, -0.0132, -0.0218, -0.0272, -0.0274, -0.0194, -0.0096, null], \"yaxis\": \"y2\", \"type\": \"scatter\", \"xaxis\": \"x2\"}, {\"legendgroup\": \"chart (1, 2)\", \"name\": \"chart (1, 2) 20190111\", \"uid\": \"2c465740-fff6-11e9-b54b-8c859025e7f9\", \"x\": [-0.3, -0.25, -0.2, -0.15, -0.1, -0.05, 0.0, 0.05, 0.1, 0.15, 0.2, 0.25, 0.3, 0.35], \"y\": [0.1332, 0.1008, 0.066, 0.0438, 0.0259, 0.0139, 0.0, -0.0097, -0.0184, -0.0226, -0.0232, -0.0114, 0.0014, null], \"yaxis\": \"y2\", \"type\": \"scatter\", \"xaxis\": \"x2\"}, {\"legendgroup\": \"chart (1, 2)\", \"name\": \"chart (1, 2) 20190114\", \"uid\": \"2c46cc3e-fff6-11e9-ad30-8c859025e7f9\", \"x\": [-0.3, -0.25, -0.2, -0.15, -0.1, -0.05, 0.0, 0.05, 0.1, 0.15, 0.2, 0.25, 0.3, 0.35], \"y\": [0.1551, 0.107, 0.074, 0.0474, 0.0303, 0.0175, 0.0, -0.0094, -0.0167, -0.0235, -0.0213, -0.0086, 0.0098, 0.0182], \"yaxis\": \"y2\", \"type\": \"scatter\", \"xaxis\": \"x2\"}, {\"legendgroup\": \"chart (2, 1)\", \"name\": \"chart (2, 1) 20190115\", \"uid\": \"2c47c7ba-fff6-11e9-9c27-8c859025e7f9\", \"x\": [-0.3, -0.25, -0.2, -0.15, -0.1, -0.05, 0.0, 0.05, 0.1, 0.15, 0.2, 0.25, 0.3, 0.35], \"y\": [0.1403, 0.1038, 0.0715, 0.0427, 0.0248, 0.0095, 0.0, -0.0137, -0.0195, -0.0224, -0.0202, -0.0007, 0.0175, null], \"yaxis\": \"y3\", \"type\": \"scatter\", \"xaxis\": \"x3\"}, {\"legendgroup\": \"chart (2, 1)\", \"name\": \"chart (2, 1) 20190116\", \"uid\": \"2c483db4-fff6-11e9-9b4a-8c859025e7f9\", \"x\": [-0.3, -0.25, -0.2, -0.15, -0.1, -0.05, 0.0, 0.05, 0.1, 0.15, 0.2, 0.25, 0.3, 0.35], \"y\": [0.1508, 0.1138, 0.0761, 0.0462, 0.027, 0.0123, 0.0, -0.013, -0.0207, -0.0243, -0.0182, -0.0048, 0.0189, null], \"yaxis\": \"y3\", \"type\": \"scatter\", \"xaxis\": \"x3\"}, {\"legendgroup\": \"chart (2, 1)\", \"name\": \"chart (2, 1) 20190117\", \"uid\": \"2c48a748-fff6-11e9-bcdb-8c859025e7f9\", \"x\": [-0.3, -0.25, -0.2, -0.15, -0.1, -0.05, 0.0, 0.05, 0.1, 0.15, 0.2, 0.25, 0.3, 0.35], \"y\": [0.159, 0.1197, 0.082, 0.0506, 0.0314, 0.0175, 0.0, -0.0089, -0.0167, -0.0162, -0.0055, 0.0116, 0.0295, null], \"yaxis\": \"y3\", \"type\": \"scatter\", \"xaxis\": \"x3\"}, {\"legendgroup\": \"chart (2, 1)\", \"name\": \"chart (2, 1) 20190118\", \"uid\": \"2c492068-fff6-11e9-95df-8c859025e7f9\", \"x\": [-0.3, -0.25, -0.2, -0.15, -0.1, -0.05, 0.0, 0.05, 0.1, 0.15, 0.2, 0.25, 0.3, 0.35], \"y\": [0.1666, 0.121, 0.077, 0.0445, 0.0242, 0.0108, 0.0, -0.0076, -0.0104, -0.0102, -0.0001, 0.0215, null, null], \"yaxis\": \"y3\", \"type\": \"scatter\", \"xaxis\": \"x3\"}, {\"legendgroup\": \"chart (2, 1)\", \"name\": \"chart (2, 1) 20190121\", \"uid\": \"2c499c86-fff6-11e9-a8d7-8c859025e7f9\", \"x\": [-0.3, -0.25, -0.2, -0.15, -0.1, -0.05, 0.0, 0.05, 0.1, 0.15, 0.2, 0.25, 0.3, 0.35], \"y\": [0.1749, 0.1146, 0.0816, 0.0475, 0.0263, 0.0111, 0.0, -0.007, -0.0074, -0.0069, 0.0081, 0.0262, null, null], \"yaxis\": \"y3\", \"type\": \"scatter\", \"xaxis\": \"x3\"}, {\"legendgroup\": \"chart (2, 2)\", \"name\": \"chart (2, 2) 20190122\", \"uid\": \"2c4a9a80-fff6-11e9-be13-8c859025e7f9\", \"x\": [-0.3, -0.25, -0.2, -0.15, -0.1, -0.05, 0.0, 0.05, 0.1, 0.15, 0.2, 0.25, 0.3, 0.35], \"y\": [0.1636, 0.1191, 0.0792, 0.0474, 0.0289, 0.0126, 0.0, -0.0119, -0.0188, -0.0186, -0.0097, 0.0045, 0.0166, null], \"yaxis\": \"y4\", \"type\": \"scatter\", \"xaxis\": \"x4\"}, {\"legendgroup\": \"chart (2, 2)\", \"name\": \"chart (2, 2) 20190123\", \"uid\": \"2c4afd90-fff6-11e9-aaee-8c859025e7f9\", \"x\": [-0.3, -0.25, -0.2, -0.15, -0.1, -0.05, 0.0, 0.05, 0.1, 0.15, 0.2, 0.25, 0.3, 0.35], \"y\": [0.1572, 0.1178, 0.0863, 0.056, 0.0321, 0.0136, 0.0, -0.0121, -0.0198, -0.0179, -0.0039, 0.0146, 0.0338, null], \"yaxis\": \"y4\", \"type\": \"scatter\", \"xaxis\": \"x4\"}, {\"legendgroup\": \"chart (2, 2)\", \"name\": \"chart (2, 2) 20190124\", \"uid\": \"2c4b93fe-fff6-11e9-96f2-8c859025e7f9\", \"x\": [-0.3, -0.25, -0.2, -0.15, -0.1, -0.05, 0.0, 0.05, 0.1, 0.15, 0.2, 0.25, 0.3, 0.35], \"y\": [0.1881, 0.1391, 0.0916, 0.0588, 0.0338, 0.0171, 0.0, -0.0061, -0.0091, -0.0025, 0.0099, 0.0337, 0.0578, null], \"yaxis\": \"y4\", \"type\": \"scatter\", \"xaxis\": \"x4\"}, {\"legendgroup\": \"chart (2, 2)\", \"name\": \"chart (2, 2) 20190125\", \"uid\": \"2c4c3200-fff6-11e9-807f-8c859025e7f9\", \"x\": [-0.3, -0.25, -0.2, -0.15, -0.1, -0.05, 0.0, 0.05, 0.1, 0.15, 0.2, 0.25, 0.3, 0.35], \"y\": [0.1898, 0.1411, 0.0943, 0.0555, 0.0308, 0.0123, 0.0, -0.0044, -0.001, 0.0045, 0.0192, 0.0496, 0.0748, null], \"yaxis\": \"y4\", \"type\": \"scatter\", \"xaxis\": \"x4\"}, {\"legendgroup\": \"chart (2, 2)\", \"name\": \"chart (2, 2) 20190128\", \"uid\": \"2c4ca546-fff6-11e9-9972-8c859025e7f9\", \"x\": [-0.3, -0.25, -0.2, -0.15, -0.1, -0.05, 0.0, 0.05, 0.1, 0.15, 0.2, 0.25, 0.3, 0.35], \"y\": [0.19, 0.1402, 0.0943, 0.0571, 0.0319, 0.0126, 0.0, -0.0126, -0.0131, -0.0057, 0.0153, 0.0441, 0.07, 0.0999], \"yaxis\": \"y4\", \"type\": \"scatter\", \"xaxis\": \"x4\"}], {\"annotations\": [{\"font\": {\"size\": 16}, \"showarrow\": false, \"text\": \"CBJ19 20181231 - 20190107\", \"x\": 0.2275, \"xanchor\": \"center\", \"xref\": \"paper\", \"y\": 1.0, \"yanchor\": \"bottom\", \"yref\": \"paper\"}, {\"font\": {\"size\": 16}, \"showarrow\": false, \"text\": \"CBJ19 20190108 - 20190114\", \"x\": 0.7725, \"xanchor\": \"center\", \"xref\": \"paper\", \"y\": 1.0, \"yanchor\": \"bottom\", \"yref\": \"paper\"}, {\"font\": {\"size\": 16}, \"showarrow\": false, \"text\": \"CBJ19 20190115 - 20190121\", \"x\": 0.2275, \"xanchor\": \"center\", \"xref\": \"paper\", \"y\": 0.445, \"yanchor\": \"bottom\", \"yref\": \"paper\"}, {\"font\": {\"size\": 16}, \"showarrow\": false, \"text\": \"CBJ19 20190122 - 20190128\", \"x\": 0.7725, \"xanchor\": \"center\", \"xref\": \"paper\", \"y\": 0.445, \"yanchor\": \"bottom\", \"yref\": \"paper\"}], \"xaxis\": {\"anchor\": \"y\", \"domain\": [0.0, 0.455], \"tickangle\": 45, \"ticktext\": [-0.3, -0.25, -0.2, -0.15, -0.1, -0.05, 0.0, 0.05, 0.1, 0.15, 0.2, 0.25, 0.3, 0.35], \"tickvals\": [-0.3, -0.25, -0.2, -0.15, -0.1, -0.05, 0.0, 0.05, 0.1, 0.15, 0.2, 0.25, 0.3, 0.35], \"type\": \"category\"}, \"yaxis\": {\"anchor\": \"x\", \"domain\": [0.555, 1.0], \"title\": \"vol skew\"}, \"xaxis2\": {\"anchor\": \"y2\", \"domain\": [0.545, 1.0], \"tickangle\": 45, \"ticktext\": [-0.3, -0.25, -0.2, -0.15, -0.1, -0.05, 0.0, 0.05, 0.1, 0.15, 0.2, 0.25, 0.3, 0.35], \"tickvals\": [-0.3, -0.25, -0.2, -0.15, -0.1, -0.05, 0.0, 0.05, 0.1, 0.15, 0.2, 0.25, 0.3, 0.35], \"type\": \"category\"}, \"yaxis2\": {\"anchor\": \"x2\", \"domain\": [0.555, 1.0], \"title\": \"vol skew\"}, \"xaxis3\": {\"anchor\": \"y3\", \"domain\": [0.0, 0.455], \"tickangle\": 45, \"ticktext\": [-0.3, -0.25, -0.2, -0.15, -0.1, -0.05, 0.0, 0.05, 0.1, 0.15, 0.2, 0.25, 0.3, 0.35], \"tickvals\": [-0.3, -0.25, -0.2, -0.15, -0.1, -0.05, 0.0, 0.05, 0.1, 0.15, 0.2, 0.25, 0.3, 0.35], \"type\": \"category\"}, \"yaxis3\": {\"anchor\": \"x3\", \"domain\": [0.0, 0.445], \"title\": \"vol skew\"}, \"xaxis4\": {\"anchor\": \"y4\", \"domain\": [0.545, 1.0], \"tickangle\": 45, \"ticktext\": [-0.3, -0.25, -0.2, -0.15, -0.1, -0.05, 0.0, 0.05, 0.1, 0.15, 0.2, 0.25, 0.3, 0.35], \"tickvals\": [-0.3, -0.25, -0.2, -0.15, -0.1, -0.05, 0.0, 0.05, 0.1, 0.15, 0.2, 0.25, 0.3, 0.35], \"type\": \"category\"}, \"yaxis4\": {\"anchor\": \"x4\", \"domain\": [0.0, 0.445], \"title\": \"vol skew\"}, \"font\": {\"family\": \"Open Sans, sans-serif\"}, \"margin\": {\"b\": 55, \"l\": 45, \"r\": 15, \"t\": 50}, \"title\": \"Skew plots<br>\", \"showlegend\": true, \"hovermode\": \"x\", \"autosize\": true, \"width\": 900, \"height\": 800, \"plot_bgcolor\": \"#EFECEA\", \"bargap\": 0.05}, {\"showLink\": true, \"linkText\": \"Export to plot.ly\"})});</script>"
      ],
      "text/vnd.plotly.v1+html": [
       "<div id=\"706182b7-4982-4a45-af86-f1f512c03e74\" style=\"height: 800px; width: 900px;\" class=\"plotly-graph-div\"></div><script type=\"text/javascript\">require([\"plotly\"], function(Plotly) { window.PLOTLYENV=window.PLOTLYENV || {};window.PLOTLYENV.BASE_URL=\"https://plot.ly\";Plotly.newPlot(\"706182b7-4982-4a45-af86-f1f512c03e74\", [{\"legendgroup\": \"chart (1, 1)\", \"name\": \"chart (1, 1) 20181231\", \"uid\": \"2c41ec00-fff6-11e9-a18b-8c859025e7f9\", \"x\": [-0.3, -0.25, -0.2, -0.15, -0.1, -0.05, 0.0, 0.05, 0.1, 0.15, 0.2, 0.25, 0.3, 0.35], \"y\": [null, 0.0543, 0.0329, 0.0176, 0.011, 0.0067, 0.0, -0.005, -0.0074, -0.0102, -0.0104, -0.0078, -0.0052, -0.0002], \"yaxis\": \"y\", \"type\": \"scatter\", \"xaxis\": \"x\"}, {\"legendgroup\": \"chart (1, 1)\", \"name\": \"chart (1, 1) 20190102\", \"uid\": \"2c427e90-fff6-11e9-aa35-8c859025e7f9\", \"x\": [-0.3, -0.25, -0.2, -0.15, -0.1, -0.05, 0.0, 0.05, 0.1, 0.15, 0.2, 0.25, 0.3, 0.35], \"y\": [0.0867, 0.0547, 0.0329, 0.0193, 0.0127, 0.0078, 0.0, -0.0033, -0.0101, -0.0124, -0.0174, -0.017, -0.0143, -0.0082], \"yaxis\": \"y\", \"type\": \"scatter\", \"xaxis\": \"x\"}, {\"legendgroup\": \"chart (1, 1)\", \"name\": \"chart (1, 1) 20190103\", \"uid\": \"2c42ecd8-fff6-11e9-806f-8c859025e7f9\", \"x\": [-0.3, -0.25, -0.2, -0.15, -0.1, -0.05, 0.0, 0.05, 0.1, 0.15, 0.2, 0.25, 0.3, 0.35], \"y\": [0.0786, 0.0485, 0.0301, 0.0195, 0.0109, 0.0076, 0.0, -0.0027, -0.0083, -0.0122, -0.016, -0.0186, -0.016, -0.0077], \"yaxis\": \"y\", \"type\": \"scatter\", \"xaxis\": \"x\"}, {\"legendgroup\": \"chart (1, 1)\", \"name\": \"chart (1, 1) 20190104\", \"uid\": \"2c435fc2-fff6-11e9-ac25-8c859025e7f9\", \"x\": [-0.3, -0.25, -0.2, -0.15, -0.1, -0.05, 0.0, 0.05, 0.1, 0.15, 0.2, 0.25, 0.3, 0.35], \"y\": [0.0801, 0.0549, 0.0305, 0.0184, 0.0084, 0.0024, 0.0, -0.0093, -0.0148, -0.021, -0.0243, -0.024, -0.0191, -0.0111], \"yaxis\": \"y\", \"type\": \"scatter\", \"xaxis\": \"x\"}, {\"legendgroup\": \"chart (1, 1)\", \"name\": \"chart (1, 1) 20190107\", \"uid\": \"2c43d9a2-fff6-11e9-b5a4-8c859025e7f9\", \"x\": [-0.3, -0.25, -0.2, -0.15, -0.1, -0.05, 0.0, 0.05, 0.1, 0.15, 0.2, 0.25, 0.3, 0.35], \"y\": [0.1003, 0.0685, 0.0461, 0.0302, 0.018, 0.0096, 0.0, -0.0063, -0.0149, -0.0182, -0.0182, -0.019, -0.011, -0.002], \"yaxis\": \"y\", \"type\": \"scatter\", \"xaxis\": \"x\"}, {\"legendgroup\": \"chart (1, 2)\", \"name\": \"chart (1, 2) 20190108\", \"uid\": \"2c45099e-fff6-11e9-888c-8c859025e7f9\", \"x\": [-0.3, -0.25, -0.2, -0.15, -0.1, -0.05, 0.0, 0.05, 0.1, 0.15, 0.2, 0.25, 0.3, 0.35], \"y\": [0.1091, 0.0723, 0.044, 0.0263, 0.0127, 0.0048, 0.0, -0.0095, -0.0162, -0.0187, -0.02, -0.0181, -0.0094, 0.0053], \"yaxis\": \"y2\", \"type\": \"scatter\", \"xaxis\": \"x2\"}, {\"legendgroup\": \"chart (1, 2)\", \"name\": \"chart (1, 2) 20190109\", \"uid\": \"2c457818-fff6-11e9-939b-8c859025e7f9\", \"x\": [-0.3, -0.25, -0.2, -0.15, -0.1, -0.05, 0.0, 0.05, 0.1, 0.15, 0.2, 0.25, 0.3, 0.35], \"y\": [0.1214, null, 0.0598, 0.037, 0.021, 0.0115, 0.0, -0.0093, -0.0135, -0.0189, -0.0202, null, 0.0018, null], \"yaxis\": \"y2\", \"type\": \"scatter\", \"xaxis\": \"x2\"}, {\"legendgroup\": \"chart (1, 2)\", \"name\": \"chart (1, 2) 20190110\", \"uid\": \"2c45f138-fff6-11e9-9e34-8c859025e7f9\", \"x\": [-0.3, -0.25, -0.2, -0.15, -0.1, -0.05, 0.0, 0.05, 0.1, 0.15, 0.2, 0.25, 0.3, 0.35], \"y\": [0.1278, 0.0883, 0.0578, 0.0364, 0.0195, 0.0088, 0.0, -0.0132, -0.0218, -0.0272, -0.0274, -0.0194, -0.0096, null], \"yaxis\": \"y2\", \"type\": \"scatter\", \"xaxis\": \"x2\"}, {\"legendgroup\": \"chart (1, 2)\", \"name\": \"chart (1, 2) 20190111\", \"uid\": \"2c465740-fff6-11e9-b54b-8c859025e7f9\", \"x\": [-0.3, -0.25, -0.2, -0.15, -0.1, -0.05, 0.0, 0.05, 0.1, 0.15, 0.2, 0.25, 0.3, 0.35], \"y\": [0.1332, 0.1008, 0.066, 0.0438, 0.0259, 0.0139, 0.0, -0.0097, -0.0184, -0.0226, -0.0232, -0.0114, 0.0014, null], \"yaxis\": \"y2\", \"type\": \"scatter\", \"xaxis\": \"x2\"}, {\"legendgroup\": \"chart (1, 2)\", \"name\": \"chart (1, 2) 20190114\", \"uid\": \"2c46cc3e-fff6-11e9-ad30-8c859025e7f9\", \"x\": [-0.3, -0.25, -0.2, -0.15, -0.1, -0.05, 0.0, 0.05, 0.1, 0.15, 0.2, 0.25, 0.3, 0.35], \"y\": [0.1551, 0.107, 0.074, 0.0474, 0.0303, 0.0175, 0.0, -0.0094, -0.0167, -0.0235, -0.0213, -0.0086, 0.0098, 0.0182], \"yaxis\": \"y2\", \"type\": \"scatter\", \"xaxis\": \"x2\"}, {\"legendgroup\": \"chart (2, 1)\", \"name\": \"chart (2, 1) 20190115\", \"uid\": \"2c47c7ba-fff6-11e9-9c27-8c859025e7f9\", \"x\": [-0.3, -0.25, -0.2, -0.15, -0.1, -0.05, 0.0, 0.05, 0.1, 0.15, 0.2, 0.25, 0.3, 0.35], \"y\": [0.1403, 0.1038, 0.0715, 0.0427, 0.0248, 0.0095, 0.0, -0.0137, -0.0195, -0.0224, -0.0202, -0.0007, 0.0175, null], \"yaxis\": \"y3\", \"type\": \"scatter\", \"xaxis\": \"x3\"}, {\"legendgroup\": \"chart (2, 1)\", \"name\": \"chart (2, 1) 20190116\", \"uid\": \"2c483db4-fff6-11e9-9b4a-8c859025e7f9\", \"x\": [-0.3, -0.25, -0.2, -0.15, -0.1, -0.05, 0.0, 0.05, 0.1, 0.15, 0.2, 0.25, 0.3, 0.35], \"y\": [0.1508, 0.1138, 0.0761, 0.0462, 0.027, 0.0123, 0.0, -0.013, -0.0207, -0.0243, -0.0182, -0.0048, 0.0189, null], \"yaxis\": \"y3\", \"type\": \"scatter\", \"xaxis\": \"x3\"}, {\"legendgroup\": \"chart (2, 1)\", \"name\": \"chart (2, 1) 20190117\", \"uid\": \"2c48a748-fff6-11e9-bcdb-8c859025e7f9\", \"x\": [-0.3, -0.25, -0.2, -0.15, -0.1, -0.05, 0.0, 0.05, 0.1, 0.15, 0.2, 0.25, 0.3, 0.35], \"y\": [0.159, 0.1197, 0.082, 0.0506, 0.0314, 0.0175, 0.0, -0.0089, -0.0167, -0.0162, -0.0055, 0.0116, 0.0295, null], \"yaxis\": \"y3\", \"type\": \"scatter\", \"xaxis\": \"x3\"}, {\"legendgroup\": \"chart (2, 1)\", \"name\": \"chart (2, 1) 20190118\", \"uid\": \"2c492068-fff6-11e9-95df-8c859025e7f9\", \"x\": [-0.3, -0.25, -0.2, -0.15, -0.1, -0.05, 0.0, 0.05, 0.1, 0.15, 0.2, 0.25, 0.3, 0.35], \"y\": [0.1666, 0.121, 0.077, 0.0445, 0.0242, 0.0108, 0.0, -0.0076, -0.0104, -0.0102, -0.0001, 0.0215, null, null], \"yaxis\": \"y3\", \"type\": \"scatter\", \"xaxis\": \"x3\"}, {\"legendgroup\": \"chart (2, 1)\", \"name\": \"chart (2, 1) 20190121\", \"uid\": \"2c499c86-fff6-11e9-a8d7-8c859025e7f9\", \"x\": [-0.3, -0.25, -0.2, -0.15, -0.1, -0.05, 0.0, 0.05, 0.1, 0.15, 0.2, 0.25, 0.3, 0.35], \"y\": [0.1749, 0.1146, 0.0816, 0.0475, 0.0263, 0.0111, 0.0, -0.007, -0.0074, -0.0069, 0.0081, 0.0262, null, null], \"yaxis\": \"y3\", \"type\": \"scatter\", \"xaxis\": \"x3\"}, {\"legendgroup\": \"chart (2, 2)\", \"name\": \"chart (2, 2) 20190122\", \"uid\": \"2c4a9a80-fff6-11e9-be13-8c859025e7f9\", \"x\": [-0.3, -0.25, -0.2, -0.15, -0.1, -0.05, 0.0, 0.05, 0.1, 0.15, 0.2, 0.25, 0.3, 0.35], \"y\": [0.1636, 0.1191, 0.0792, 0.0474, 0.0289, 0.0126, 0.0, -0.0119, -0.0188, -0.0186, -0.0097, 0.0045, 0.0166, null], \"yaxis\": \"y4\", \"type\": \"scatter\", \"xaxis\": \"x4\"}, {\"legendgroup\": \"chart (2, 2)\", \"name\": \"chart (2, 2) 20190123\", \"uid\": \"2c4afd90-fff6-11e9-aaee-8c859025e7f9\", \"x\": [-0.3, -0.25, -0.2, -0.15, -0.1, -0.05, 0.0, 0.05, 0.1, 0.15, 0.2, 0.25, 0.3, 0.35], \"y\": [0.1572, 0.1178, 0.0863, 0.056, 0.0321, 0.0136, 0.0, -0.0121, -0.0198, -0.0179, -0.0039, 0.0146, 0.0338, null], \"yaxis\": \"y4\", \"type\": \"scatter\", \"xaxis\": \"x4\"}, {\"legendgroup\": \"chart (2, 2)\", \"name\": \"chart (2, 2) 20190124\", \"uid\": \"2c4b93fe-fff6-11e9-96f2-8c859025e7f9\", \"x\": [-0.3, -0.25, -0.2, -0.15, -0.1, -0.05, 0.0, 0.05, 0.1, 0.15, 0.2, 0.25, 0.3, 0.35], \"y\": [0.1881, 0.1391, 0.0916, 0.0588, 0.0338, 0.0171, 0.0, -0.0061, -0.0091, -0.0025, 0.0099, 0.0337, 0.0578, null], \"yaxis\": \"y4\", \"type\": \"scatter\", \"xaxis\": \"x4\"}, {\"legendgroup\": \"chart (2, 2)\", \"name\": \"chart (2, 2) 20190125\", \"uid\": \"2c4c3200-fff6-11e9-807f-8c859025e7f9\", \"x\": [-0.3, -0.25, -0.2, -0.15, -0.1, -0.05, 0.0, 0.05, 0.1, 0.15, 0.2, 0.25, 0.3, 0.35], \"y\": [0.1898, 0.1411, 0.0943, 0.0555, 0.0308, 0.0123, 0.0, -0.0044, -0.001, 0.0045, 0.0192, 0.0496, 0.0748, null], \"yaxis\": \"y4\", \"type\": \"scatter\", \"xaxis\": \"x4\"}, {\"legendgroup\": \"chart (2, 2)\", \"name\": \"chart (2, 2) 20190128\", \"uid\": \"2c4ca546-fff6-11e9-9972-8c859025e7f9\", \"x\": [-0.3, -0.25, -0.2, -0.15, -0.1, -0.05, 0.0, 0.05, 0.1, 0.15, 0.2, 0.25, 0.3, 0.35], \"y\": [0.19, 0.1402, 0.0943, 0.0571, 0.0319, 0.0126, 0.0, -0.0126, -0.0131, -0.0057, 0.0153, 0.0441, 0.07, 0.0999], \"yaxis\": \"y4\", \"type\": \"scatter\", \"xaxis\": \"x4\"}], {\"annotations\": [{\"font\": {\"size\": 16}, \"showarrow\": false, \"text\": \"CBJ19 20181231 - 20190107\", \"x\": 0.2275, \"xanchor\": \"center\", \"xref\": \"paper\", \"y\": 1.0, \"yanchor\": \"bottom\", \"yref\": \"paper\"}, {\"font\": {\"size\": 16}, \"showarrow\": false, \"text\": \"CBJ19 20190108 - 20190114\", \"x\": 0.7725, \"xanchor\": \"center\", \"xref\": \"paper\", \"y\": 1.0, \"yanchor\": \"bottom\", \"yref\": \"paper\"}, {\"font\": {\"size\": 16}, \"showarrow\": false, \"text\": \"CBJ19 20190115 - 20190121\", \"x\": 0.2275, \"xanchor\": \"center\", \"xref\": \"paper\", \"y\": 0.445, \"yanchor\": \"bottom\", \"yref\": \"paper\"}, {\"font\": {\"size\": 16}, \"showarrow\": false, \"text\": \"CBJ19 20190122 - 20190128\", \"x\": 0.7725, \"xanchor\": \"center\", \"xref\": \"paper\", \"y\": 0.445, \"yanchor\": \"bottom\", \"yref\": \"paper\"}], \"xaxis\": {\"anchor\": \"y\", \"domain\": [0.0, 0.455], \"tickangle\": 45, \"ticktext\": [-0.3, -0.25, -0.2, -0.15, -0.1, -0.05, 0.0, 0.05, 0.1, 0.15, 0.2, 0.25, 0.3, 0.35], \"tickvals\": [-0.3, -0.25, -0.2, -0.15, -0.1, -0.05, 0.0, 0.05, 0.1, 0.15, 0.2, 0.25, 0.3, 0.35], \"type\": \"category\"}, \"yaxis\": {\"anchor\": \"x\", \"domain\": [0.555, 1.0], \"title\": \"vol skew\"}, \"xaxis2\": {\"anchor\": \"y2\", \"domain\": [0.545, 1.0], \"tickangle\": 45, \"ticktext\": [-0.3, -0.25, -0.2, -0.15, -0.1, -0.05, 0.0, 0.05, 0.1, 0.15, 0.2, 0.25, 0.3, 0.35], \"tickvals\": [-0.3, -0.25, -0.2, -0.15, -0.1, -0.05, 0.0, 0.05, 0.1, 0.15, 0.2, 0.25, 0.3, 0.35], \"type\": \"category\"}, \"yaxis2\": {\"anchor\": \"x2\", \"domain\": [0.555, 1.0], \"title\": \"vol skew\"}, \"xaxis3\": {\"anchor\": \"y3\", \"domain\": [0.0, 0.455], \"tickangle\": 45, \"ticktext\": [-0.3, -0.25, -0.2, -0.15, -0.1, -0.05, 0.0, 0.05, 0.1, 0.15, 0.2, 0.25, 0.3, 0.35], \"tickvals\": [-0.3, -0.25, -0.2, -0.15, -0.1, -0.05, 0.0, 0.05, 0.1, 0.15, 0.2, 0.25, 0.3, 0.35], \"type\": \"category\"}, \"yaxis3\": {\"anchor\": \"x3\", \"domain\": [0.0, 0.445], \"title\": \"vol skew\"}, \"xaxis4\": {\"anchor\": \"y4\", \"domain\": [0.545, 1.0], \"tickangle\": 45, \"ticktext\": [-0.3, -0.25, -0.2, -0.15, -0.1, -0.05, 0.0, 0.05, 0.1, 0.15, 0.2, 0.25, 0.3, 0.35], \"tickvals\": [-0.3, -0.25, -0.2, -0.15, -0.1, -0.05, 0.0, 0.05, 0.1, 0.15, 0.2, 0.25, 0.3, 0.35], \"type\": \"category\"}, \"yaxis4\": {\"anchor\": \"x4\", \"domain\": [0.0, 0.445], \"title\": \"vol skew\"}, \"font\": {\"family\": \"Open Sans, sans-serif\"}, \"margin\": {\"b\": 55, \"l\": 45, \"r\": 15, \"t\": 50}, \"title\": \"Skew plots<br>\", \"showlegend\": true, \"hovermode\": \"x\", \"autosize\": true, \"width\": 900, \"height\": 800, \"plot_bgcolor\": \"#EFECEA\", \"bargap\": 0.05}, {\"showLink\": true, \"linkText\": \"Export to plot.ly\"})});</script>"
      ]
     },
     "metadata": {},
     "output_type": "display_data"
    },
    {
     "data": {
      "application/vnd.plotly.v1+json": {
       "data": [
        {
         "legendgroup": "chart (1, 1)",
         "name": "chart (1, 1) 20190129",
         "type": "scatter",
         "uid": "2c56826e-fff6-11e9-b1a8-8c859025e7f9",
         "x": [
          -0.3,
          -0.25,
          -0.2,
          -0.15,
          -0.1,
          -0.05,
          0,
          0.05,
          0.1,
          0.15,
          0.2,
          0.25,
          0.3,
          0.35
         ],
         "xaxis": "x",
         "y": [
          null,
          null,
          null,
          null,
          null,
          null,
          0,
          null,
          null,
          null,
          null,
          0.0655,
          null,
          null
         ],
         "yaxis": "y"
        },
        {
         "legendgroup": "chart (1, 1)",
         "name": "chart (1, 1) 20190130",
         "type": "scatter",
         "uid": "2c5737fe-fff6-11e9-a665-8c859025e7f9",
         "x": [
          -0.3,
          -0.25,
          -0.2,
          -0.15,
          -0.1,
          -0.05,
          0,
          0.05,
          0.1,
          0.15,
          0.2,
          0.25,
          0.3,
          0.35
         ],
         "xaxis": "x",
         "y": [
          0.1982,
          0.1429,
          0.101,
          0.0608,
          0.0309,
          0.0112,
          0,
          -0.0033,
          0.0036,
          0.0151,
          0.045,
          0.0742,
          0.1147,
          null
         ],
         "yaxis": "y"
        },
        {
         "legendgroup": "chart (1, 1)",
         "name": "chart (1, 1) 20190131",
         "type": "scatter",
         "uid": "2c583d18-fff6-11e9-aea0-8c859025e7f9",
         "x": [
          -0.3,
          -0.25,
          -0.2,
          -0.15,
          -0.1,
          -0.05,
          0,
          0.05,
          0.1,
          0.15,
          0.2,
          0.25,
          0.3,
          0.35
         ],
         "xaxis": "x",
         "y": [
          0.2144,
          0.1585,
          0.116,
          0.0721,
          0.0373,
          0.0136,
          0,
          -0.0071,
          -0.0017,
          0.0133,
          0.038,
          0.0731,
          0.1075,
          null
         ],
         "yaxis": "y"
        }
       ],
       "layout": {
        "annotations": [
         {
          "font": {
           "size": 16
          },
          "showarrow": false,
          "text": "CBJ19 20190129 - 20190131",
          "x": 0.2275,
          "xanchor": "center",
          "xref": "paper",
          "y": 1,
          "yanchor": "bottom",
          "yref": "paper"
         }
        ],
        "autosize": true,
        "bargap": 0.05,
        "font": {
         "family": "Open Sans, sans-serif"
        },
        "height": 800,
        "hovermode": "x",
        "margin": {
         "b": 55,
         "l": 45,
         "r": 15,
         "t": 50
        },
        "plot_bgcolor": "#EFECEA",
        "showlegend": true,
        "title": "Skew plots<br>",
        "width": 900,
        "xaxis": {
         "anchor": "y",
         "domain": [
          0,
          0.455
         ],
         "tickangle": 45,
         "ticktext": [
          -0.3,
          -0.25,
          -0.2,
          -0.15,
          -0.1,
          -0.05,
          0,
          0.05,
          0.1,
          0.15,
          0.2,
          0.25,
          0.3,
          0.35
         ],
         "tickvals": [
          -0.3,
          -0.25,
          -0.2,
          -0.15,
          -0.1,
          -0.05,
          0,
          0.05,
          0.1,
          0.15,
          0.2,
          0.25,
          0.3,
          0.35
         ],
         "type": "category"
        },
        "xaxis2": {
         "anchor": "y2",
         "domain": [
          0.545,
          1
         ]
        },
        "xaxis3": {
         "anchor": "y3",
         "domain": [
          0,
          0.455
         ]
        },
        "xaxis4": {
         "anchor": "y4",
         "domain": [
          0.545,
          1
         ]
        },
        "yaxis": {
         "anchor": "x",
         "domain": [
          0.555,
          1
         ],
         "title": "vol skew"
        },
        "yaxis2": {
         "anchor": "x2",
         "domain": [
          0.555,
          1
         ]
        },
        "yaxis3": {
         "anchor": "x3",
         "domain": [
          0,
          0.445
         ]
        },
        "yaxis4": {
         "anchor": "x4",
         "domain": [
          0,
          0.445
         ]
        }
       }
      },
      "text/html": [
       "<div id=\"3f1efe79-6d19-4525-a001-eaf5114a6d65\" style=\"height: 800px; width: 900px;\" class=\"plotly-graph-div\"></div><script type=\"text/javascript\">require([\"plotly\"], function(Plotly) { window.PLOTLYENV=window.PLOTLYENV || {};window.PLOTLYENV.BASE_URL=\"https://plot.ly\";Plotly.newPlot(\"3f1efe79-6d19-4525-a001-eaf5114a6d65\", [{\"legendgroup\": \"chart (1, 1)\", \"name\": \"chart (1, 1) 20190129\", \"uid\": \"2c56826e-fff6-11e9-b1a8-8c859025e7f9\", \"x\": [-0.3, -0.25, -0.2, -0.15, -0.1, -0.05, 0.0, 0.05, 0.1, 0.15, 0.2, 0.25, 0.3, 0.35], \"y\": [null, null, null, null, null, null, 0.0, null, null, null, null, 0.0655, null, null], \"yaxis\": \"y\", \"type\": \"scatter\", \"xaxis\": \"x\"}, {\"legendgroup\": \"chart (1, 1)\", \"name\": \"chart (1, 1) 20190130\", \"uid\": \"2c5737fe-fff6-11e9-a665-8c859025e7f9\", \"x\": [-0.3, -0.25, -0.2, -0.15, -0.1, -0.05, 0.0, 0.05, 0.1, 0.15, 0.2, 0.25, 0.3, 0.35], \"y\": [0.1982, 0.1429, 0.101, 0.0608, 0.0309, 0.0112, 0.0, -0.0033, 0.0036, 0.0151, 0.045, 0.0742, 0.1147, null], \"yaxis\": \"y\", \"type\": \"scatter\", \"xaxis\": \"x\"}, {\"legendgroup\": \"chart (1, 1)\", \"name\": \"chart (1, 1) 20190131\", \"uid\": \"2c583d18-fff6-11e9-aea0-8c859025e7f9\", \"x\": [-0.3, -0.25, -0.2, -0.15, -0.1, -0.05, 0.0, 0.05, 0.1, 0.15, 0.2, 0.25, 0.3, 0.35], \"y\": [0.2144, 0.1585, 0.116, 0.0721, 0.0373, 0.0136, 0.0, -0.0071, -0.0017, 0.0133, 0.038, 0.0731, 0.1075, null], \"yaxis\": \"y\", \"type\": \"scatter\", \"xaxis\": \"x\"}], {\"annotations\": [{\"font\": {\"size\": 16}, \"showarrow\": false, \"text\": \"CBJ19 20190129 - 20190131\", \"x\": 0.2275, \"xanchor\": \"center\", \"xref\": \"paper\", \"y\": 1.0, \"yanchor\": \"bottom\", \"yref\": \"paper\"}], \"xaxis\": {\"anchor\": \"y\", \"domain\": [0.0, 0.455], \"tickangle\": 45, \"ticktext\": [-0.3, -0.25, -0.2, -0.15, -0.1, -0.05, 0.0, 0.05, 0.1, 0.15, 0.2, 0.25, 0.3, 0.35], \"tickvals\": [-0.3, -0.25, -0.2, -0.15, -0.1, -0.05, 0.0, 0.05, 0.1, 0.15, 0.2, 0.25, 0.3, 0.35], \"type\": \"category\"}, \"yaxis\": {\"anchor\": \"x\", \"domain\": [0.555, 1.0], \"title\": \"vol skew\"}, \"xaxis2\": {\"anchor\": \"y2\", \"domain\": [0.545, 1.0]}, \"yaxis2\": {\"anchor\": \"x2\", \"domain\": [0.555, 1.0]}, \"xaxis3\": {\"anchor\": \"y3\", \"domain\": [0.0, 0.455]}, \"yaxis3\": {\"anchor\": \"x3\", \"domain\": [0.0, 0.445]}, \"xaxis4\": {\"anchor\": \"y4\", \"domain\": [0.545, 1.0]}, \"yaxis4\": {\"anchor\": \"x4\", \"domain\": [0.0, 0.445]}, \"font\": {\"family\": \"Open Sans, sans-serif\"}, \"margin\": {\"b\": 55, \"l\": 45, \"r\": 15, \"t\": 50}, \"title\": \"Skew plots<br>\", \"showlegend\": true, \"hovermode\": \"x\", \"autosize\": true, \"width\": 900, \"height\": 800, \"plot_bgcolor\": \"#EFECEA\", \"bargap\": 0.05}, {\"showLink\": true, \"linkText\": \"Export to plot.ly\"})});</script>"
      ],
      "text/vnd.plotly.v1+html": [
       "<div id=\"3f1efe79-6d19-4525-a001-eaf5114a6d65\" style=\"height: 800px; width: 900px;\" class=\"plotly-graph-div\"></div><script type=\"text/javascript\">require([\"plotly\"], function(Plotly) { window.PLOTLYENV=window.PLOTLYENV || {};window.PLOTLYENV.BASE_URL=\"https://plot.ly\";Plotly.newPlot(\"3f1efe79-6d19-4525-a001-eaf5114a6d65\", [{\"legendgroup\": \"chart (1, 1)\", \"name\": \"chart (1, 1) 20190129\", \"uid\": \"2c56826e-fff6-11e9-b1a8-8c859025e7f9\", \"x\": [-0.3, -0.25, -0.2, -0.15, -0.1, -0.05, 0.0, 0.05, 0.1, 0.15, 0.2, 0.25, 0.3, 0.35], \"y\": [null, null, null, null, null, null, 0.0, null, null, null, null, 0.0655, null, null], \"yaxis\": \"y\", \"type\": \"scatter\", \"xaxis\": \"x\"}, {\"legendgroup\": \"chart (1, 1)\", \"name\": \"chart (1, 1) 20190130\", \"uid\": \"2c5737fe-fff6-11e9-a665-8c859025e7f9\", \"x\": [-0.3, -0.25, -0.2, -0.15, -0.1, -0.05, 0.0, 0.05, 0.1, 0.15, 0.2, 0.25, 0.3, 0.35], \"y\": [0.1982, 0.1429, 0.101, 0.0608, 0.0309, 0.0112, 0.0, -0.0033, 0.0036, 0.0151, 0.045, 0.0742, 0.1147, null], \"yaxis\": \"y\", \"type\": \"scatter\", \"xaxis\": \"x\"}, {\"legendgroup\": \"chart (1, 1)\", \"name\": \"chart (1, 1) 20190131\", \"uid\": \"2c583d18-fff6-11e9-aea0-8c859025e7f9\", \"x\": [-0.3, -0.25, -0.2, -0.15, -0.1, -0.05, 0.0, 0.05, 0.1, 0.15, 0.2, 0.25, 0.3, 0.35], \"y\": [0.2144, 0.1585, 0.116, 0.0721, 0.0373, 0.0136, 0.0, -0.0071, -0.0017, 0.0133, 0.038, 0.0731, 0.1075, null], \"yaxis\": \"y\", \"type\": \"scatter\", \"xaxis\": \"x\"}], {\"annotations\": [{\"font\": {\"size\": 16}, \"showarrow\": false, \"text\": \"CBJ19 20190129 - 20190131\", \"x\": 0.2275, \"xanchor\": \"center\", \"xref\": \"paper\", \"y\": 1.0, \"yanchor\": \"bottom\", \"yref\": \"paper\"}], \"xaxis\": {\"anchor\": \"y\", \"domain\": [0.0, 0.455], \"tickangle\": 45, \"ticktext\": [-0.3, -0.25, -0.2, -0.15, -0.1, -0.05, 0.0, 0.05, 0.1, 0.15, 0.2, 0.25, 0.3, 0.35], \"tickvals\": [-0.3, -0.25, -0.2, -0.15, -0.1, -0.05, 0.0, 0.05, 0.1, 0.15, 0.2, 0.25, 0.3, 0.35], \"type\": \"category\"}, \"yaxis\": {\"anchor\": \"x\", \"domain\": [0.555, 1.0], \"title\": \"vol skew\"}, \"xaxis2\": {\"anchor\": \"y2\", \"domain\": [0.545, 1.0]}, \"yaxis2\": {\"anchor\": \"x2\", \"domain\": [0.555, 1.0]}, \"xaxis3\": {\"anchor\": \"y3\", \"domain\": [0.0, 0.455]}, \"yaxis3\": {\"anchor\": \"x3\", \"domain\": [0.0, 0.445]}, \"xaxis4\": {\"anchor\": \"y4\", \"domain\": [0.545, 1.0]}, \"yaxis4\": {\"anchor\": \"x4\", \"domain\": [0.0, 0.445]}, \"font\": {\"family\": \"Open Sans, sans-serif\"}, \"margin\": {\"b\": 55, \"l\": 45, \"r\": 15, \"t\": 50}, \"title\": \"Skew plots<br>\", \"showlegend\": true, \"hovermode\": \"x\", \"autosize\": true, \"width\": 900, \"height\": 800, \"plot_bgcolor\": \"#EFECEA\", \"bargap\": 0.05}, {\"showLink\": true, \"linkText\": \"Export to plot.ly\"})});</script>"
      ]
     },
     "metadata": {},
     "output_type": "display_data"
    },
    {
     "data": {
      "application/vnd.plotly.v1+json": {
       "data": [
        {
         "legendgroup": "chart (1, 1)",
         "name": "chart (1, 1) 20190201",
         "type": "scatter",
         "uid": "2cce9e52-fff6-11e9-9df6-8c859025e7f9",
         "x": [
          -0.3,
          -0.25,
          -0.2,
          -0.15,
          -0.1,
          -0.05,
          0,
          0.05,
          0.1,
          0.15,
          0.2,
          0.25,
          0.3,
          0.35
         ],
         "xaxis": "x",
         "y": [
          0.129,
          0.0892,
          0.0587,
          0.0359,
          0.0201,
          0.0089,
          0,
          -0.0096,
          -0.0119,
          -0.009,
          -0.0001,
          0.0113,
          0.0299,
          0.0534
         ],
         "yaxis": "y"
        },
        {
         "legendgroup": "chart (1, 1)",
         "name": "chart (1, 1) 20190204",
         "type": "scatter",
         "uid": "2ccf1fb4-fff6-11e9-98fe-8c859025e7f9",
         "x": [
          -0.3,
          -0.25,
          -0.2,
          -0.15,
          -0.1,
          -0.05,
          0,
          0.05,
          0.1,
          0.15,
          0.2,
          0.25,
          0.3,
          0.35
         ],
         "xaxis": "x",
         "y": [
          0.1476,
          0.106,
          0.0671,
          0.0447,
          0.0272,
          0.0129,
          0,
          -0.0092,
          -0.0091,
          -0.0054,
          0.0043,
          0.0245,
          0.04,
          0.0578
         ],
         "yaxis": "y"
        },
        {
         "legendgroup": "chart (1, 1)",
         "name": "chart (1, 1) 20190205",
         "type": "scatter",
         "uid": "2cd004ae-fff6-11e9-92ba-8c859025e7f9",
         "x": [
          -0.3,
          -0.25,
          -0.2,
          -0.15,
          -0.1,
          -0.05,
          0,
          0.05,
          0.1,
          0.15,
          0.2,
          0.25,
          0.3,
          0.35
         ],
         "xaxis": "x",
         "y": [
          0.1518,
          0.1127,
          0.0776,
          0.0522,
          0.0303,
          0.0137,
          0,
          -0.0088,
          -0.0102,
          -0.0082,
          0.0014,
          0.017,
          0.0381,
          0.061
         ],
         "yaxis": "y"
        },
        {
         "legendgroup": "chart (1, 1)",
         "name": "chart (1, 1) 20190206",
         "type": "scatter",
         "uid": "2cd0716e-fff6-11e9-8a3b-8c859025e7f9",
         "x": [
          -0.3,
          -0.25,
          -0.2,
          -0.15,
          -0.1,
          -0.05,
          0,
          0.05,
          0.1,
          0.15,
          0.2,
          0.25,
          0.3,
          0.35
         ],
         "xaxis": "x",
         "y": [
          0.1646,
          0.1157,
          0.077,
          0.0478,
          0.0258,
          0.0095,
          0,
          -0.0108,
          -0.0138,
          -0.0092,
          0.0029,
          0.0179,
          0.0447,
          0.0589
         ],
         "yaxis": "y"
        },
        {
         "legendgroup": "chart (1, 1)",
         "name": "chart (1, 1) 20190207",
         "type": "scatter",
         "uid": "2cd0f45e-fff6-11e9-9e5e-8c859025e7f9",
         "x": [
          -0.3,
          -0.25,
          -0.2,
          -0.15,
          -0.1,
          -0.05,
          0,
          0.05,
          0.1,
          0.15,
          0.2,
          0.25,
          0.3,
          0.35
         ],
         "xaxis": "x",
         "y": [
          0.1644,
          0.1221,
          0.0834,
          0.053,
          0.032,
          0.016,
          0,
          -0.0091,
          -0.0122,
          -0.007,
          0.006,
          0.0288,
          0.0501,
          0.064
         ],
         "yaxis": "y"
        },
        {
         "legendgroup": "chart (1, 2)",
         "name": "chart (1, 2) 20190208",
         "type": "scatter",
         "uid": "2cd2ea86-fff6-11e9-8c3a-8c859025e7f9",
         "x": [
          -0.3,
          -0.25,
          -0.2,
          -0.15,
          -0.1,
          -0.05,
          0,
          0.05,
          0.1,
          0.15,
          0.2,
          0.25,
          0.3,
          0.35
         ],
         "xaxis": "x2",
         "y": [
          0.1819,
          0.1238,
          0.0849,
          0.053,
          0.0301,
          0.0138,
          0,
          -0.0089,
          -0.0085,
          -0.0006,
          0.0152,
          0.0378,
          0.0659,
          0.0882
         ],
         "yaxis": "y2"
        },
        {
         "legendgroup": "chart (1, 2)",
         "name": "chart (1, 2) 20190211",
         "type": "scatter",
         "uid": "2cd38c28-fff6-11e9-8972-8c859025e7f9",
         "x": [
          -0.3,
          -0.25,
          -0.2,
          -0.15,
          -0.1,
          -0.05,
          0,
          0.05,
          0.1,
          0.15,
          0.2,
          0.25,
          0.3,
          0.35
         ],
         "xaxis": "x2",
         "y": [
          0.179,
          0.1332,
          0.0849,
          0.0517,
          0.0278,
          0.0104,
          0,
          -0.0066,
          -0.0092,
          -0.0026,
          0.0173,
          0.0386,
          0.0662,
          0.096
         ],
         "yaxis": "y2"
        },
        {
         "legendgroup": "chart (1, 2)",
         "name": "chart (1, 2) 20190212",
         "type": "scatter",
         "uid": "2cd4027a-fff6-11e9-8c97-8c859025e7f9",
         "x": [
          -0.3,
          -0.25,
          -0.2,
          -0.15,
          -0.1,
          -0.05,
          0,
          0.05,
          0.1,
          0.15,
          0.2,
          0.25,
          0.3,
          0.35
         ],
         "xaxis": "x2",
         "y": [
          0.1894,
          0.136,
          0.0926,
          0.0533,
          0.0284,
          0.0125,
          0,
          -0.0102,
          -0.0106,
          -0.0036,
          0.0143,
          null,
          0.0698,
          0.0937
         ],
         "yaxis": "y2"
        },
        {
         "legendgroup": "chart (1, 2)",
         "name": "chart (1, 2) 20190213",
         "type": "scatter",
         "uid": "2cd4d54c-fff6-11e9-aa1e-8c859025e7f9",
         "x": [
          -0.3,
          -0.25,
          -0.2,
          -0.15,
          -0.1,
          -0.05,
          0,
          0.05,
          0.1,
          0.15,
          0.2,
          0.25,
          0.3,
          0.35
         ],
         "xaxis": "x2",
         "y": [
          0.1994,
          0.1503,
          0.0984,
          0.0563,
          0.0321,
          0.0121,
          0,
          -0.0059,
          -0.0044,
          0.0063,
          0.0227,
          0.0461,
          0.0709,
          0.1004
         ],
         "yaxis": "y2"
        },
        {
         "legendgroup": "chart (1, 2)",
         "name": "chart (1, 2) 20190214",
         "type": "scatter",
         "uid": "2cd586b8-fff6-11e9-a30f-8c859025e7f9",
         "x": [
          -0.3,
          -0.25,
          -0.2,
          -0.15,
          -0.1,
          -0.05,
          0,
          0.05,
          0.1,
          0.15,
          0.2,
          0.25,
          0.3,
          0.35
         ],
         "xaxis": "x2",
         "y": [
          0.2067,
          0.1452,
          0.0923,
          0.0545,
          0.0284,
          0.0142,
          0,
          -0.0079,
          -0.0048,
          0.0081,
          0.0302,
          0.0557,
          0.0758,
          null
         ],
         "yaxis": "y2"
        },
        {
         "legendgroup": "chart (2, 1)",
         "name": "chart (2, 1) 20190215",
         "type": "scatter",
         "uid": "2cd6ba68-fff6-11e9-b1ef-8c859025e7f9",
         "x": [
          -0.3,
          -0.25,
          -0.2,
          -0.15,
          -0.1,
          -0.05,
          0,
          0.05,
          0.1,
          0.15,
          0.2,
          0.25,
          0.3,
          0.35
         ],
         "xaxis": "x3",
         "y": [
          0.1873,
          0.134,
          0.091,
          0.0543,
          0.0263,
          0.0077,
          0,
          -0.0061,
          -0.0003,
          0.0132,
          0.0336,
          0.0518,
          0.076,
          null
         ],
         "yaxis": "y3"
        },
        {
         "legendgroup": "chart (2, 1)",
         "name": "chart (2, 1) 20190218",
         "type": "scatter",
         "uid": "2cd7b94c-fff6-11e9-b013-8c859025e7f9",
         "x": [
          -0.3,
          -0.25,
          -0.2,
          -0.15,
          -0.1,
          -0.05,
          0,
          0.05,
          0.1,
          0.15,
          0.2,
          0.25,
          0.3,
          0.35
         ],
         "xaxis": "x3",
         "y": [
          null,
          null,
          null,
          null,
          null,
          null,
          0,
          null,
          null,
          null,
          null,
          null,
          null,
          null
         ],
         "yaxis": "y3"
        },
        {
         "legendgroup": "chart (2, 1)",
         "name": "chart (2, 1) 20190219",
         "type": "scatter",
         "uid": "2cd8440c-fff6-11e9-be15-8c859025e7f9",
         "x": [
          -0.3,
          -0.25,
          -0.2,
          -0.15,
          -0.1,
          -0.05,
          0,
          0.05,
          0.1,
          0.15,
          0.2,
          0.25,
          0.3,
          0.35
         ],
         "xaxis": "x3",
         "y": [
          0.2157,
          0.1592,
          0.0997,
          0.0579,
          0.0319,
          0.0138,
          0,
          -0.0089,
          -0.0032,
          0.0149,
          0.0393,
          0.0596,
          0.095,
          null
         ],
         "yaxis": "y3"
        },
        {
         "legendgroup": "chart (2, 1)",
         "name": "chart (2, 1) 20190220",
         "type": "scatter",
         "uid": "2cd8dc98-fff6-11e9-bf94-8c859025e7f9",
         "x": [
          -0.3,
          -0.25,
          -0.2,
          -0.15,
          -0.1,
          -0.05,
          0,
          0.05,
          0.1,
          0.15,
          0.2,
          0.25,
          0.3,
          0.35
         ],
         "xaxis": "x3",
         "y": [
          0.2275,
          0.1724,
          0.1098,
          0.0639,
          0.0354,
          0.0163,
          0,
          -0.0029,
          0.0004,
          0.0197,
          0.0447,
          0.0711,
          null,
          null
         ],
         "yaxis": "y3"
        },
        {
         "legendgroup": "chart (2, 1)",
         "name": "chart (2, 1) 20190221",
         "type": "scatter",
         "uid": "2cd96d34-fff6-11e9-a0e0-8c859025e7f9",
         "x": [
          -0.3,
          -0.25,
          -0.2,
          -0.15,
          -0.1,
          -0.05,
          0,
          0.05,
          0.1,
          0.15,
          0.2,
          0.25,
          0.3,
          0.35
         ],
         "xaxis": "x3",
         "y": [
          0.2203,
          0.1676,
          0.1184,
          0.066,
          0.0366,
          0.0175,
          0,
          -0.0048,
          0.0013,
          0.0192,
          0.0445,
          0.0741,
          null,
          null
         ],
         "yaxis": "y3"
        },
        {
         "legendgroup": "chart (2, 2)",
         "name": "chart (2, 2) 20190222",
         "type": "scatter",
         "uid": "2cdaf242-fff6-11e9-adea-8c859025e7f9",
         "x": [
          -0.3,
          -0.25,
          -0.2,
          -0.15,
          -0.1,
          -0.05,
          0,
          0.05,
          0.1,
          0.15,
          0.2,
          0.25,
          0.3,
          0.35
         ],
         "xaxis": "x4",
         "y": [
          0.2226,
          0.1575,
          0.1109,
          0.062,
          0.0299,
          0.0108,
          0,
          -0.0118,
          -0.0039,
          0.0134,
          0.0385,
          0.073,
          null,
          null
         ],
         "yaxis": "y4"
        },
        {
         "legendgroup": "chart (2, 2)",
         "name": "chart (2, 2) 20190225",
         "type": "scatter",
         "uid": "2cdb618c-fff6-11e9-8d11-8c859025e7f9",
         "x": [
          -0.3,
          -0.25,
          -0.2,
          -0.15,
          -0.1,
          -0.05,
          0,
          0.05,
          0.1,
          0.15,
          0.2,
          0.25,
          0.3,
          0.35
         ],
         "xaxis": "x4",
         "y": [
          0.2487,
          0.1881,
          0.1222,
          0.0772,
          0.0414,
          0.0206,
          0,
          -0.0115,
          -0.0087,
          0.0104,
          0.0316,
          0.0646,
          0.0861,
          null
         ],
         "yaxis": "y4"
        },
        {
         "legendgroup": "chart (2, 2)",
         "name": "chart (2, 2) 20190226",
         "type": "scatter",
         "uid": "2cdc13b6-fff6-11e9-a1a0-8c859025e7f9",
         "x": [
          -0.3,
          -0.25,
          -0.2,
          -0.15,
          -0.1,
          -0.05,
          0,
          0.05,
          0.1,
          0.15,
          0.2,
          0.25,
          0.3,
          0.35
         ],
         "xaxis": "x4",
         "y": [
          0.2248,
          0.1733,
          0.1201,
          0.0799,
          0.0424,
          0.0165,
          0,
          -0.0121,
          -0.0082,
          0.0089,
          0.027,
          0.0522,
          0.0736,
          null
         ],
         "yaxis": "y4"
        },
        {
         "legendgroup": "chart (2, 2)",
         "name": "chart (2, 2) 20190227",
         "type": "scatter",
         "uid": "2cdcf698-fff6-11e9-addd-8c859025e7f9",
         "x": [
          -0.3,
          -0.25,
          -0.2,
          -0.15,
          -0.1,
          -0.05,
          0,
          0.05,
          0.1,
          0.15,
          0.2,
          0.25,
          0.3,
          0.35
         ],
         "xaxis": "x4",
         "y": [
          0.2298,
          0.1753,
          0.1227,
          0.0815,
          0.0424,
          0.0211,
          0,
          -0.0056,
          0.0028,
          0.0229,
          0.0506,
          0.0757,
          0.0975,
          null
         ],
         "yaxis": "y4"
        },
        {
         "legendgroup": "chart (2, 2)",
         "name": "chart (2, 2) 20190228",
         "type": "scatter",
         "uid": "2cdd79b8-fff6-11e9-a409-8c859025e7f9",
         "x": [
          -0.3,
          -0.25,
          -0.2,
          -0.15,
          -0.1,
          -0.05,
          0,
          0.05,
          0.1,
          0.15,
          0.2,
          0.25,
          0.3,
          0.35
         ],
         "xaxis": "x4",
         "y": [
          0.2425,
          0.1872,
          0.1315,
          0.0861,
          0.0435,
          0.015,
          0,
          -0.0107,
          -0.0003,
          0.0157,
          0.044,
          0.0585,
          0.108,
          null
         ],
         "yaxis": "y4"
        }
       ],
       "layout": {
        "annotations": [
         {
          "font": {
           "size": 16
          },
          "showarrow": false,
          "text": "CBK19 20190201 - 20190207",
          "x": 0.2275,
          "xanchor": "center",
          "xref": "paper",
          "y": 1,
          "yanchor": "bottom",
          "yref": "paper"
         },
         {
          "font": {
           "size": 16
          },
          "showarrow": false,
          "text": "CBK19 20190208 - 20190214",
          "x": 0.7725,
          "xanchor": "center",
          "xref": "paper",
          "y": 1,
          "yanchor": "bottom",
          "yref": "paper"
         },
         {
          "font": {
           "size": 16
          },
          "showarrow": false,
          "text": "CBK19 20190215 - 20190221",
          "x": 0.2275,
          "xanchor": "center",
          "xref": "paper",
          "y": 0.445,
          "yanchor": "bottom",
          "yref": "paper"
         },
         {
          "font": {
           "size": 16
          },
          "showarrow": false,
          "text": "CBK19 20190222 - 20190228",
          "x": 0.7725,
          "xanchor": "center",
          "xref": "paper",
          "y": 0.445,
          "yanchor": "bottom",
          "yref": "paper"
         }
        ],
        "autosize": true,
        "bargap": 0.05,
        "font": {
         "family": "Open Sans, sans-serif"
        },
        "height": 800,
        "hovermode": "x",
        "margin": {
         "b": 55,
         "l": 45,
         "r": 15,
         "t": 50
        },
        "plot_bgcolor": "#EFECEA",
        "showlegend": true,
        "title": "Skew plots<br>",
        "width": 900,
        "xaxis": {
         "anchor": "y",
         "domain": [
          0,
          0.455
         ],
         "tickangle": 45,
         "ticktext": [
          -0.3,
          -0.25,
          -0.2,
          -0.15,
          -0.1,
          -0.05,
          0,
          0.05,
          0.1,
          0.15,
          0.2,
          0.25,
          0.3,
          0.35
         ],
         "tickvals": [
          -0.3,
          -0.25,
          -0.2,
          -0.15,
          -0.1,
          -0.05,
          0,
          0.05,
          0.1,
          0.15,
          0.2,
          0.25,
          0.3,
          0.35
         ],
         "type": "category"
        },
        "xaxis2": {
         "anchor": "y2",
         "domain": [
          0.545,
          1
         ],
         "tickangle": 45,
         "ticktext": [
          -0.3,
          -0.25,
          -0.2,
          -0.15,
          -0.1,
          -0.05,
          0,
          0.05,
          0.1,
          0.15,
          0.2,
          0.25,
          0.3,
          0.35
         ],
         "tickvals": [
          -0.3,
          -0.25,
          -0.2,
          -0.15,
          -0.1,
          -0.05,
          0,
          0.05,
          0.1,
          0.15,
          0.2,
          0.25,
          0.3,
          0.35
         ],
         "type": "category"
        },
        "xaxis3": {
         "anchor": "y3",
         "domain": [
          0,
          0.455
         ],
         "tickangle": 45,
         "ticktext": [
          -0.3,
          -0.25,
          -0.2,
          -0.15,
          -0.1,
          -0.05,
          0,
          0.05,
          0.1,
          0.15,
          0.2,
          0.25,
          0.3,
          0.35
         ],
         "tickvals": [
          -0.3,
          -0.25,
          -0.2,
          -0.15,
          -0.1,
          -0.05,
          0,
          0.05,
          0.1,
          0.15,
          0.2,
          0.25,
          0.3,
          0.35
         ],
         "type": "category"
        },
        "xaxis4": {
         "anchor": "y4",
         "domain": [
          0.545,
          1
         ],
         "tickangle": 45,
         "ticktext": [
          -0.3,
          -0.25,
          -0.2,
          -0.15,
          -0.1,
          -0.05,
          0,
          0.05,
          0.1,
          0.15,
          0.2,
          0.25,
          0.3,
          0.35
         ],
         "tickvals": [
          -0.3,
          -0.25,
          -0.2,
          -0.15,
          -0.1,
          -0.05,
          0,
          0.05,
          0.1,
          0.15,
          0.2,
          0.25,
          0.3,
          0.35
         ],
         "type": "category"
        },
        "yaxis": {
         "anchor": "x",
         "domain": [
          0.555,
          1
         ],
         "title": "vol skew"
        },
        "yaxis2": {
         "anchor": "x2",
         "domain": [
          0.555,
          1
         ],
         "title": "vol skew"
        },
        "yaxis3": {
         "anchor": "x3",
         "domain": [
          0,
          0.445
         ],
         "title": "vol skew"
        },
        "yaxis4": {
         "anchor": "x4",
         "domain": [
          0,
          0.445
         ],
         "title": "vol skew"
        }
       }
      },
      "text/html": [
       "<div id=\"92c94fd1-d33c-4562-8df5-09aaf3b878ff\" style=\"height: 800px; width: 900px;\" class=\"plotly-graph-div\"></div><script type=\"text/javascript\">require([\"plotly\"], function(Plotly) { window.PLOTLYENV=window.PLOTLYENV || {};window.PLOTLYENV.BASE_URL=\"https://plot.ly\";Plotly.newPlot(\"92c94fd1-d33c-4562-8df5-09aaf3b878ff\", [{\"legendgroup\": \"chart (1, 1)\", \"name\": \"chart (1, 1) 20190201\", \"uid\": \"2cce9e52-fff6-11e9-9df6-8c859025e7f9\", \"x\": [-0.3, -0.25, -0.2, -0.15, -0.1, -0.05, 0.0, 0.05, 0.1, 0.15, 0.2, 0.25, 0.3, 0.35], \"y\": [0.129, 0.0892, 0.0587, 0.0359, 0.0201, 0.0089, 0.0, -0.0096, -0.0119, -0.009, -0.0001, 0.0113, 0.0299, 0.0534], \"yaxis\": \"y\", \"type\": \"scatter\", \"xaxis\": \"x\"}, {\"legendgroup\": \"chart (1, 1)\", \"name\": \"chart (1, 1) 20190204\", \"uid\": \"2ccf1fb4-fff6-11e9-98fe-8c859025e7f9\", \"x\": [-0.3, -0.25, -0.2, -0.15, -0.1, -0.05, 0.0, 0.05, 0.1, 0.15, 0.2, 0.25, 0.3, 0.35], \"y\": [0.1476, 0.106, 0.0671, 0.0447, 0.0272, 0.0129, 0.0, -0.0092, -0.0091, -0.0054, 0.0043, 0.0245, 0.04, 0.0578], \"yaxis\": \"y\", \"type\": \"scatter\", \"xaxis\": \"x\"}, {\"legendgroup\": \"chart (1, 1)\", \"name\": \"chart (1, 1) 20190205\", \"uid\": \"2cd004ae-fff6-11e9-92ba-8c859025e7f9\", \"x\": [-0.3, -0.25, -0.2, -0.15, -0.1, -0.05, 0.0, 0.05, 0.1, 0.15, 0.2, 0.25, 0.3, 0.35], \"y\": [0.1518, 0.1127, 0.0776, 0.0522, 0.0303, 0.0137, 0.0, -0.0088, -0.0102, -0.0082, 0.0014, 0.017, 0.0381, 0.061], \"yaxis\": \"y\", \"type\": \"scatter\", \"xaxis\": \"x\"}, {\"legendgroup\": \"chart (1, 1)\", \"name\": \"chart (1, 1) 20190206\", \"uid\": \"2cd0716e-fff6-11e9-8a3b-8c859025e7f9\", \"x\": [-0.3, -0.25, -0.2, -0.15, -0.1, -0.05, 0.0, 0.05, 0.1, 0.15, 0.2, 0.25, 0.3, 0.35], \"y\": [0.1646, 0.1157, 0.077, 0.0478, 0.0258, 0.0095, 0.0, -0.0108, -0.0138, -0.0092, 0.0029, 0.0179, 0.0447, 0.0589], \"yaxis\": \"y\", \"type\": \"scatter\", \"xaxis\": \"x\"}, {\"legendgroup\": \"chart (1, 1)\", \"name\": \"chart (1, 1) 20190207\", \"uid\": \"2cd0f45e-fff6-11e9-9e5e-8c859025e7f9\", \"x\": [-0.3, -0.25, -0.2, -0.15, -0.1, -0.05, 0.0, 0.05, 0.1, 0.15, 0.2, 0.25, 0.3, 0.35], \"y\": [0.1644, 0.1221, 0.0834, 0.053, 0.032, 0.016, 0.0, -0.0091, -0.0122, -0.007, 0.006, 0.0288, 0.0501, 0.064], \"yaxis\": \"y\", \"type\": \"scatter\", \"xaxis\": \"x\"}, {\"legendgroup\": \"chart (1, 2)\", \"name\": \"chart (1, 2) 20190208\", \"uid\": \"2cd2ea86-fff6-11e9-8c3a-8c859025e7f9\", \"x\": [-0.3, -0.25, -0.2, -0.15, -0.1, -0.05, 0.0, 0.05, 0.1, 0.15, 0.2, 0.25, 0.3, 0.35], \"y\": [0.1819, 0.1238, 0.0849, 0.053, 0.0301, 0.0138, 0.0, -0.0089, -0.0085, -0.0006, 0.0152, 0.0378, 0.0659, 0.0882], \"yaxis\": \"y2\", \"type\": \"scatter\", \"xaxis\": \"x2\"}, {\"legendgroup\": \"chart (1, 2)\", \"name\": \"chart (1, 2) 20190211\", \"uid\": \"2cd38c28-fff6-11e9-8972-8c859025e7f9\", \"x\": [-0.3, -0.25, -0.2, -0.15, -0.1, -0.05, 0.0, 0.05, 0.1, 0.15, 0.2, 0.25, 0.3, 0.35], \"y\": [0.179, 0.1332, 0.0849, 0.0517, 0.0278, 0.0104, 0.0, -0.0066, -0.0092, -0.0026, 0.0173, 0.0386, 0.0662, 0.096], \"yaxis\": \"y2\", \"type\": \"scatter\", \"xaxis\": \"x2\"}, {\"legendgroup\": \"chart (1, 2)\", \"name\": \"chart (1, 2) 20190212\", \"uid\": \"2cd4027a-fff6-11e9-8c97-8c859025e7f9\", \"x\": [-0.3, -0.25, -0.2, -0.15, -0.1, -0.05, 0.0, 0.05, 0.1, 0.15, 0.2, 0.25, 0.3, 0.35], \"y\": [0.1894, 0.136, 0.0926, 0.0533, 0.0284, 0.0125, 0.0, -0.0102, -0.0106, -0.0036, 0.0143, null, 0.0698, 0.0937], \"yaxis\": \"y2\", \"type\": \"scatter\", \"xaxis\": \"x2\"}, {\"legendgroup\": \"chart (1, 2)\", \"name\": \"chart (1, 2) 20190213\", \"uid\": \"2cd4d54c-fff6-11e9-aa1e-8c859025e7f9\", \"x\": [-0.3, -0.25, -0.2, -0.15, -0.1, -0.05, 0.0, 0.05, 0.1, 0.15, 0.2, 0.25, 0.3, 0.35], \"y\": [0.1994, 0.1503, 0.0984, 0.0563, 0.0321, 0.0121, 0.0, -0.0059, -0.0044, 0.0063, 0.0227, 0.0461, 0.0709, 0.1004], \"yaxis\": \"y2\", \"type\": \"scatter\", \"xaxis\": \"x2\"}, {\"legendgroup\": \"chart (1, 2)\", \"name\": \"chart (1, 2) 20190214\", \"uid\": \"2cd586b8-fff6-11e9-a30f-8c859025e7f9\", \"x\": [-0.3, -0.25, -0.2, -0.15, -0.1, -0.05, 0.0, 0.05, 0.1, 0.15, 0.2, 0.25, 0.3, 0.35], \"y\": [0.2067, 0.1452, 0.0923, 0.0545, 0.0284, 0.0142, 0.0, -0.0079, -0.0048, 0.0081, 0.0302, 0.0557, 0.0758, null], \"yaxis\": \"y2\", \"type\": \"scatter\", \"xaxis\": \"x2\"}, {\"legendgroup\": \"chart (2, 1)\", \"name\": \"chart (2, 1) 20190215\", \"uid\": \"2cd6ba68-fff6-11e9-b1ef-8c859025e7f9\", \"x\": [-0.3, -0.25, -0.2, -0.15, -0.1, -0.05, 0.0, 0.05, 0.1, 0.15, 0.2, 0.25, 0.3, 0.35], \"y\": [0.1873, 0.134, 0.091, 0.0543, 0.0263, 0.0077, 0.0, -0.0061, -0.0003, 0.0132, 0.0336, 0.0518, 0.076, null], \"yaxis\": \"y3\", \"type\": \"scatter\", \"xaxis\": \"x3\"}, {\"legendgroup\": \"chart (2, 1)\", \"name\": \"chart (2, 1) 20190218\", \"uid\": \"2cd7b94c-fff6-11e9-b013-8c859025e7f9\", \"x\": [-0.3, -0.25, -0.2, -0.15, -0.1, -0.05, 0.0, 0.05, 0.1, 0.15, 0.2, 0.25, 0.3, 0.35], \"y\": [null, null, null, null, null, null, 0.0, null, null, null, null, null, null, null], \"yaxis\": \"y3\", \"type\": \"scatter\", \"xaxis\": \"x3\"}, {\"legendgroup\": \"chart (2, 1)\", \"name\": \"chart (2, 1) 20190219\", \"uid\": \"2cd8440c-fff6-11e9-be15-8c859025e7f9\", \"x\": [-0.3, -0.25, -0.2, -0.15, -0.1, -0.05, 0.0, 0.05, 0.1, 0.15, 0.2, 0.25, 0.3, 0.35], \"y\": [0.2157, 0.1592, 0.0997, 0.0579, 0.0319, 0.0138, 0.0, -0.0089, -0.0032, 0.0149, 0.0393, 0.0596, 0.095, null], \"yaxis\": \"y3\", \"type\": \"scatter\", \"xaxis\": \"x3\"}, {\"legendgroup\": \"chart (2, 1)\", \"name\": \"chart (2, 1) 20190220\", \"uid\": \"2cd8dc98-fff6-11e9-bf94-8c859025e7f9\", \"x\": [-0.3, -0.25, -0.2, -0.15, -0.1, -0.05, 0.0, 0.05, 0.1, 0.15, 0.2, 0.25, 0.3, 0.35], \"y\": [0.2275, 0.1724, 0.1098, 0.0639, 0.0354, 0.0163, 0.0, -0.0029, 0.0004, 0.0197, 0.0447, 0.0711, null, null], \"yaxis\": \"y3\", \"type\": \"scatter\", \"xaxis\": \"x3\"}, {\"legendgroup\": \"chart (2, 1)\", \"name\": \"chart (2, 1) 20190221\", \"uid\": \"2cd96d34-fff6-11e9-a0e0-8c859025e7f9\", \"x\": [-0.3, -0.25, -0.2, -0.15, -0.1, -0.05, 0.0, 0.05, 0.1, 0.15, 0.2, 0.25, 0.3, 0.35], \"y\": [0.2203, 0.1676, 0.1184, 0.066, 0.0366, 0.0175, 0.0, -0.0048, 0.0013, 0.0192, 0.0445, 0.0741, null, null], \"yaxis\": \"y3\", \"type\": \"scatter\", \"xaxis\": \"x3\"}, {\"legendgroup\": \"chart (2, 2)\", \"name\": \"chart (2, 2) 20190222\", \"uid\": \"2cdaf242-fff6-11e9-adea-8c859025e7f9\", \"x\": [-0.3, -0.25, -0.2, -0.15, -0.1, -0.05, 0.0, 0.05, 0.1, 0.15, 0.2, 0.25, 0.3, 0.35], \"y\": [0.2226, 0.1575, 0.1109, 0.062, 0.0299, 0.0108, 0.0, -0.0118, -0.0039, 0.0134, 0.0385, 0.073, null, null], \"yaxis\": \"y4\", \"type\": \"scatter\", \"xaxis\": \"x4\"}, {\"legendgroup\": \"chart (2, 2)\", \"name\": \"chart (2, 2) 20190225\", \"uid\": \"2cdb618c-fff6-11e9-8d11-8c859025e7f9\", \"x\": [-0.3, -0.25, -0.2, -0.15, -0.1, -0.05, 0.0, 0.05, 0.1, 0.15, 0.2, 0.25, 0.3, 0.35], \"y\": [0.2487, 0.1881, 0.1222, 0.0772, 0.0414, 0.0206, 0.0, -0.0115, -0.0087, 0.0104, 0.0316, 0.0646, 0.0861, null], \"yaxis\": \"y4\", \"type\": \"scatter\", \"xaxis\": \"x4\"}, {\"legendgroup\": \"chart (2, 2)\", \"name\": \"chart (2, 2) 20190226\", \"uid\": \"2cdc13b6-fff6-11e9-a1a0-8c859025e7f9\", \"x\": [-0.3, -0.25, -0.2, -0.15, -0.1, -0.05, 0.0, 0.05, 0.1, 0.15, 0.2, 0.25, 0.3, 0.35], \"y\": [0.2248, 0.1733, 0.1201, 0.0799, 0.0424, 0.0165, 0.0, -0.0121, -0.0082, 0.0089, 0.027, 0.0522, 0.0736, null], \"yaxis\": \"y4\", \"type\": \"scatter\", \"xaxis\": \"x4\"}, {\"legendgroup\": \"chart (2, 2)\", \"name\": \"chart (2, 2) 20190227\", \"uid\": \"2cdcf698-fff6-11e9-addd-8c859025e7f9\", \"x\": [-0.3, -0.25, -0.2, -0.15, -0.1, -0.05, 0.0, 0.05, 0.1, 0.15, 0.2, 0.25, 0.3, 0.35], \"y\": [0.2298, 0.1753, 0.1227, 0.0815, 0.0424, 0.0211, 0.0, -0.0056, 0.0028, 0.0229, 0.0506, 0.0757, 0.0975, null], \"yaxis\": \"y4\", \"type\": \"scatter\", \"xaxis\": \"x4\"}, {\"legendgroup\": \"chart (2, 2)\", \"name\": \"chart (2, 2) 20190228\", \"uid\": \"2cdd79b8-fff6-11e9-a409-8c859025e7f9\", \"x\": [-0.3, -0.25, -0.2, -0.15, -0.1, -0.05, 0.0, 0.05, 0.1, 0.15, 0.2, 0.25, 0.3, 0.35], \"y\": [0.2425, 0.1872, 0.1315, 0.0861, 0.0435, 0.015, 0.0, -0.0107, -0.0003, 0.0157, 0.044, 0.0585, 0.108, null], \"yaxis\": \"y4\", \"type\": \"scatter\", \"xaxis\": \"x4\"}], {\"annotations\": [{\"font\": {\"size\": 16}, \"showarrow\": false, \"text\": \"CBK19 20190201 - 20190207\", \"x\": 0.2275, \"xanchor\": \"center\", \"xref\": \"paper\", \"y\": 1.0, \"yanchor\": \"bottom\", \"yref\": \"paper\"}, {\"font\": {\"size\": 16}, \"showarrow\": false, \"text\": \"CBK19 20190208 - 20190214\", \"x\": 0.7725, \"xanchor\": \"center\", \"xref\": \"paper\", \"y\": 1.0, \"yanchor\": \"bottom\", \"yref\": \"paper\"}, {\"font\": {\"size\": 16}, \"showarrow\": false, \"text\": \"CBK19 20190215 - 20190221\", \"x\": 0.2275, \"xanchor\": \"center\", \"xref\": \"paper\", \"y\": 0.445, \"yanchor\": \"bottom\", \"yref\": \"paper\"}, {\"font\": {\"size\": 16}, \"showarrow\": false, \"text\": \"CBK19 20190222 - 20190228\", \"x\": 0.7725, \"xanchor\": \"center\", \"xref\": \"paper\", \"y\": 0.445, \"yanchor\": \"bottom\", \"yref\": \"paper\"}], \"xaxis\": {\"anchor\": \"y\", \"domain\": [0.0, 0.455], \"tickangle\": 45, \"ticktext\": [-0.3, -0.25, -0.2, -0.15, -0.1, -0.05, 0.0, 0.05, 0.1, 0.15, 0.2, 0.25, 0.3, 0.35], \"tickvals\": [-0.3, -0.25, -0.2, -0.15, -0.1, -0.05, 0.0, 0.05, 0.1, 0.15, 0.2, 0.25, 0.3, 0.35], \"type\": \"category\"}, \"yaxis\": {\"anchor\": \"x\", \"domain\": [0.555, 1.0], \"title\": \"vol skew\"}, \"xaxis2\": {\"anchor\": \"y2\", \"domain\": [0.545, 1.0], \"tickangle\": 45, \"ticktext\": [-0.3, -0.25, -0.2, -0.15, -0.1, -0.05, 0.0, 0.05, 0.1, 0.15, 0.2, 0.25, 0.3, 0.35], \"tickvals\": [-0.3, -0.25, -0.2, -0.15, -0.1, -0.05, 0.0, 0.05, 0.1, 0.15, 0.2, 0.25, 0.3, 0.35], \"type\": \"category\"}, \"yaxis2\": {\"anchor\": \"x2\", \"domain\": [0.555, 1.0], \"title\": \"vol skew\"}, \"xaxis3\": {\"anchor\": \"y3\", \"domain\": [0.0, 0.455], \"tickangle\": 45, \"ticktext\": [-0.3, -0.25, -0.2, -0.15, -0.1, -0.05, 0.0, 0.05, 0.1, 0.15, 0.2, 0.25, 0.3, 0.35], \"tickvals\": [-0.3, -0.25, -0.2, -0.15, -0.1, -0.05, 0.0, 0.05, 0.1, 0.15, 0.2, 0.25, 0.3, 0.35], \"type\": \"category\"}, \"yaxis3\": {\"anchor\": \"x3\", \"domain\": [0.0, 0.445], \"title\": \"vol skew\"}, \"xaxis4\": {\"anchor\": \"y4\", \"domain\": [0.545, 1.0], \"tickangle\": 45, \"ticktext\": [-0.3, -0.25, -0.2, -0.15, -0.1, -0.05, 0.0, 0.05, 0.1, 0.15, 0.2, 0.25, 0.3, 0.35], \"tickvals\": [-0.3, -0.25, -0.2, -0.15, -0.1, -0.05, 0.0, 0.05, 0.1, 0.15, 0.2, 0.25, 0.3, 0.35], \"type\": \"category\"}, \"yaxis4\": {\"anchor\": \"x4\", \"domain\": [0.0, 0.445], \"title\": \"vol skew\"}, \"font\": {\"family\": \"Open Sans, sans-serif\"}, \"margin\": {\"b\": 55, \"l\": 45, \"r\": 15, \"t\": 50}, \"title\": \"Skew plots<br>\", \"showlegend\": true, \"hovermode\": \"x\", \"autosize\": true, \"width\": 900, \"height\": 800, \"plot_bgcolor\": \"#EFECEA\", \"bargap\": 0.05}, {\"showLink\": true, \"linkText\": \"Export to plot.ly\"})});</script>"
      ],
      "text/vnd.plotly.v1+html": [
       "<div id=\"92c94fd1-d33c-4562-8df5-09aaf3b878ff\" style=\"height: 800px; width: 900px;\" class=\"plotly-graph-div\"></div><script type=\"text/javascript\">require([\"plotly\"], function(Plotly) { window.PLOTLYENV=window.PLOTLYENV || {};window.PLOTLYENV.BASE_URL=\"https://plot.ly\";Plotly.newPlot(\"92c94fd1-d33c-4562-8df5-09aaf3b878ff\", [{\"legendgroup\": \"chart (1, 1)\", \"name\": \"chart (1, 1) 20190201\", \"uid\": \"2cce9e52-fff6-11e9-9df6-8c859025e7f9\", \"x\": [-0.3, -0.25, -0.2, -0.15, -0.1, -0.05, 0.0, 0.05, 0.1, 0.15, 0.2, 0.25, 0.3, 0.35], \"y\": [0.129, 0.0892, 0.0587, 0.0359, 0.0201, 0.0089, 0.0, -0.0096, -0.0119, -0.009, -0.0001, 0.0113, 0.0299, 0.0534], \"yaxis\": \"y\", \"type\": \"scatter\", \"xaxis\": \"x\"}, {\"legendgroup\": \"chart (1, 1)\", \"name\": \"chart (1, 1) 20190204\", \"uid\": \"2ccf1fb4-fff6-11e9-98fe-8c859025e7f9\", \"x\": [-0.3, -0.25, -0.2, -0.15, -0.1, -0.05, 0.0, 0.05, 0.1, 0.15, 0.2, 0.25, 0.3, 0.35], \"y\": [0.1476, 0.106, 0.0671, 0.0447, 0.0272, 0.0129, 0.0, -0.0092, -0.0091, -0.0054, 0.0043, 0.0245, 0.04, 0.0578], \"yaxis\": \"y\", \"type\": \"scatter\", \"xaxis\": \"x\"}, {\"legendgroup\": \"chart (1, 1)\", \"name\": \"chart (1, 1) 20190205\", \"uid\": \"2cd004ae-fff6-11e9-92ba-8c859025e7f9\", \"x\": [-0.3, -0.25, -0.2, -0.15, -0.1, -0.05, 0.0, 0.05, 0.1, 0.15, 0.2, 0.25, 0.3, 0.35], \"y\": [0.1518, 0.1127, 0.0776, 0.0522, 0.0303, 0.0137, 0.0, -0.0088, -0.0102, -0.0082, 0.0014, 0.017, 0.0381, 0.061], \"yaxis\": \"y\", \"type\": \"scatter\", \"xaxis\": \"x\"}, {\"legendgroup\": \"chart (1, 1)\", \"name\": \"chart (1, 1) 20190206\", \"uid\": \"2cd0716e-fff6-11e9-8a3b-8c859025e7f9\", \"x\": [-0.3, -0.25, -0.2, -0.15, -0.1, -0.05, 0.0, 0.05, 0.1, 0.15, 0.2, 0.25, 0.3, 0.35], \"y\": [0.1646, 0.1157, 0.077, 0.0478, 0.0258, 0.0095, 0.0, -0.0108, -0.0138, -0.0092, 0.0029, 0.0179, 0.0447, 0.0589], \"yaxis\": \"y\", \"type\": \"scatter\", \"xaxis\": \"x\"}, {\"legendgroup\": \"chart (1, 1)\", \"name\": \"chart (1, 1) 20190207\", \"uid\": \"2cd0f45e-fff6-11e9-9e5e-8c859025e7f9\", \"x\": [-0.3, -0.25, -0.2, -0.15, -0.1, -0.05, 0.0, 0.05, 0.1, 0.15, 0.2, 0.25, 0.3, 0.35], \"y\": [0.1644, 0.1221, 0.0834, 0.053, 0.032, 0.016, 0.0, -0.0091, -0.0122, -0.007, 0.006, 0.0288, 0.0501, 0.064], \"yaxis\": \"y\", \"type\": \"scatter\", \"xaxis\": \"x\"}, {\"legendgroup\": \"chart (1, 2)\", \"name\": \"chart (1, 2) 20190208\", \"uid\": \"2cd2ea86-fff6-11e9-8c3a-8c859025e7f9\", \"x\": [-0.3, -0.25, -0.2, -0.15, -0.1, -0.05, 0.0, 0.05, 0.1, 0.15, 0.2, 0.25, 0.3, 0.35], \"y\": [0.1819, 0.1238, 0.0849, 0.053, 0.0301, 0.0138, 0.0, -0.0089, -0.0085, -0.0006, 0.0152, 0.0378, 0.0659, 0.0882], \"yaxis\": \"y2\", \"type\": \"scatter\", \"xaxis\": \"x2\"}, {\"legendgroup\": \"chart (1, 2)\", \"name\": \"chart (1, 2) 20190211\", \"uid\": \"2cd38c28-fff6-11e9-8972-8c859025e7f9\", \"x\": [-0.3, -0.25, -0.2, -0.15, -0.1, -0.05, 0.0, 0.05, 0.1, 0.15, 0.2, 0.25, 0.3, 0.35], \"y\": [0.179, 0.1332, 0.0849, 0.0517, 0.0278, 0.0104, 0.0, -0.0066, -0.0092, -0.0026, 0.0173, 0.0386, 0.0662, 0.096], \"yaxis\": \"y2\", \"type\": \"scatter\", \"xaxis\": \"x2\"}, {\"legendgroup\": \"chart (1, 2)\", \"name\": \"chart (1, 2) 20190212\", \"uid\": \"2cd4027a-fff6-11e9-8c97-8c859025e7f9\", \"x\": [-0.3, -0.25, -0.2, -0.15, -0.1, -0.05, 0.0, 0.05, 0.1, 0.15, 0.2, 0.25, 0.3, 0.35], \"y\": [0.1894, 0.136, 0.0926, 0.0533, 0.0284, 0.0125, 0.0, -0.0102, -0.0106, -0.0036, 0.0143, null, 0.0698, 0.0937], \"yaxis\": \"y2\", \"type\": \"scatter\", \"xaxis\": \"x2\"}, {\"legendgroup\": \"chart (1, 2)\", \"name\": \"chart (1, 2) 20190213\", \"uid\": \"2cd4d54c-fff6-11e9-aa1e-8c859025e7f9\", \"x\": [-0.3, -0.25, -0.2, -0.15, -0.1, -0.05, 0.0, 0.05, 0.1, 0.15, 0.2, 0.25, 0.3, 0.35], \"y\": [0.1994, 0.1503, 0.0984, 0.0563, 0.0321, 0.0121, 0.0, -0.0059, -0.0044, 0.0063, 0.0227, 0.0461, 0.0709, 0.1004], \"yaxis\": \"y2\", \"type\": \"scatter\", \"xaxis\": \"x2\"}, {\"legendgroup\": \"chart (1, 2)\", \"name\": \"chart (1, 2) 20190214\", \"uid\": \"2cd586b8-fff6-11e9-a30f-8c859025e7f9\", \"x\": [-0.3, -0.25, -0.2, -0.15, -0.1, -0.05, 0.0, 0.05, 0.1, 0.15, 0.2, 0.25, 0.3, 0.35], \"y\": [0.2067, 0.1452, 0.0923, 0.0545, 0.0284, 0.0142, 0.0, -0.0079, -0.0048, 0.0081, 0.0302, 0.0557, 0.0758, null], \"yaxis\": \"y2\", \"type\": \"scatter\", \"xaxis\": \"x2\"}, {\"legendgroup\": \"chart (2, 1)\", \"name\": \"chart (2, 1) 20190215\", \"uid\": \"2cd6ba68-fff6-11e9-b1ef-8c859025e7f9\", \"x\": [-0.3, -0.25, -0.2, -0.15, -0.1, -0.05, 0.0, 0.05, 0.1, 0.15, 0.2, 0.25, 0.3, 0.35], \"y\": [0.1873, 0.134, 0.091, 0.0543, 0.0263, 0.0077, 0.0, -0.0061, -0.0003, 0.0132, 0.0336, 0.0518, 0.076, null], \"yaxis\": \"y3\", \"type\": \"scatter\", \"xaxis\": \"x3\"}, {\"legendgroup\": \"chart (2, 1)\", \"name\": \"chart (2, 1) 20190218\", \"uid\": \"2cd7b94c-fff6-11e9-b013-8c859025e7f9\", \"x\": [-0.3, -0.25, -0.2, -0.15, -0.1, -0.05, 0.0, 0.05, 0.1, 0.15, 0.2, 0.25, 0.3, 0.35], \"y\": [null, null, null, null, null, null, 0.0, null, null, null, null, null, null, null], \"yaxis\": \"y3\", \"type\": \"scatter\", \"xaxis\": \"x3\"}, {\"legendgroup\": \"chart (2, 1)\", \"name\": \"chart (2, 1) 20190219\", \"uid\": \"2cd8440c-fff6-11e9-be15-8c859025e7f9\", \"x\": [-0.3, -0.25, -0.2, -0.15, -0.1, -0.05, 0.0, 0.05, 0.1, 0.15, 0.2, 0.25, 0.3, 0.35], \"y\": [0.2157, 0.1592, 0.0997, 0.0579, 0.0319, 0.0138, 0.0, -0.0089, -0.0032, 0.0149, 0.0393, 0.0596, 0.095, null], \"yaxis\": \"y3\", \"type\": \"scatter\", \"xaxis\": \"x3\"}, {\"legendgroup\": \"chart (2, 1)\", \"name\": \"chart (2, 1) 20190220\", \"uid\": \"2cd8dc98-fff6-11e9-bf94-8c859025e7f9\", \"x\": [-0.3, -0.25, -0.2, -0.15, -0.1, -0.05, 0.0, 0.05, 0.1, 0.15, 0.2, 0.25, 0.3, 0.35], \"y\": [0.2275, 0.1724, 0.1098, 0.0639, 0.0354, 0.0163, 0.0, -0.0029, 0.0004, 0.0197, 0.0447, 0.0711, null, null], \"yaxis\": \"y3\", \"type\": \"scatter\", \"xaxis\": \"x3\"}, {\"legendgroup\": \"chart (2, 1)\", \"name\": \"chart (2, 1) 20190221\", \"uid\": \"2cd96d34-fff6-11e9-a0e0-8c859025e7f9\", \"x\": [-0.3, -0.25, -0.2, -0.15, -0.1, -0.05, 0.0, 0.05, 0.1, 0.15, 0.2, 0.25, 0.3, 0.35], \"y\": [0.2203, 0.1676, 0.1184, 0.066, 0.0366, 0.0175, 0.0, -0.0048, 0.0013, 0.0192, 0.0445, 0.0741, null, null], \"yaxis\": \"y3\", \"type\": \"scatter\", \"xaxis\": \"x3\"}, {\"legendgroup\": \"chart (2, 2)\", \"name\": \"chart (2, 2) 20190222\", \"uid\": \"2cdaf242-fff6-11e9-adea-8c859025e7f9\", \"x\": [-0.3, -0.25, -0.2, -0.15, -0.1, -0.05, 0.0, 0.05, 0.1, 0.15, 0.2, 0.25, 0.3, 0.35], \"y\": [0.2226, 0.1575, 0.1109, 0.062, 0.0299, 0.0108, 0.0, -0.0118, -0.0039, 0.0134, 0.0385, 0.073, null, null], \"yaxis\": \"y4\", \"type\": \"scatter\", \"xaxis\": \"x4\"}, {\"legendgroup\": \"chart (2, 2)\", \"name\": \"chart (2, 2) 20190225\", \"uid\": \"2cdb618c-fff6-11e9-8d11-8c859025e7f9\", \"x\": [-0.3, -0.25, -0.2, -0.15, -0.1, -0.05, 0.0, 0.05, 0.1, 0.15, 0.2, 0.25, 0.3, 0.35], \"y\": [0.2487, 0.1881, 0.1222, 0.0772, 0.0414, 0.0206, 0.0, -0.0115, -0.0087, 0.0104, 0.0316, 0.0646, 0.0861, null], \"yaxis\": \"y4\", \"type\": \"scatter\", \"xaxis\": \"x4\"}, {\"legendgroup\": \"chart (2, 2)\", \"name\": \"chart (2, 2) 20190226\", \"uid\": \"2cdc13b6-fff6-11e9-a1a0-8c859025e7f9\", \"x\": [-0.3, -0.25, -0.2, -0.15, -0.1, -0.05, 0.0, 0.05, 0.1, 0.15, 0.2, 0.25, 0.3, 0.35], \"y\": [0.2248, 0.1733, 0.1201, 0.0799, 0.0424, 0.0165, 0.0, -0.0121, -0.0082, 0.0089, 0.027, 0.0522, 0.0736, null], \"yaxis\": \"y4\", \"type\": \"scatter\", \"xaxis\": \"x4\"}, {\"legendgroup\": \"chart (2, 2)\", \"name\": \"chart (2, 2) 20190227\", \"uid\": \"2cdcf698-fff6-11e9-addd-8c859025e7f9\", \"x\": [-0.3, -0.25, -0.2, -0.15, -0.1, -0.05, 0.0, 0.05, 0.1, 0.15, 0.2, 0.25, 0.3, 0.35], \"y\": [0.2298, 0.1753, 0.1227, 0.0815, 0.0424, 0.0211, 0.0, -0.0056, 0.0028, 0.0229, 0.0506, 0.0757, 0.0975, null], \"yaxis\": \"y4\", \"type\": \"scatter\", \"xaxis\": \"x4\"}, {\"legendgroup\": \"chart (2, 2)\", \"name\": \"chart (2, 2) 20190228\", \"uid\": \"2cdd79b8-fff6-11e9-a409-8c859025e7f9\", \"x\": [-0.3, -0.25, -0.2, -0.15, -0.1, -0.05, 0.0, 0.05, 0.1, 0.15, 0.2, 0.25, 0.3, 0.35], \"y\": [0.2425, 0.1872, 0.1315, 0.0861, 0.0435, 0.015, 0.0, -0.0107, -0.0003, 0.0157, 0.044, 0.0585, 0.108, null], \"yaxis\": \"y4\", \"type\": \"scatter\", \"xaxis\": \"x4\"}], {\"annotations\": [{\"font\": {\"size\": 16}, \"showarrow\": false, \"text\": \"CBK19 20190201 - 20190207\", \"x\": 0.2275, \"xanchor\": \"center\", \"xref\": \"paper\", \"y\": 1.0, \"yanchor\": \"bottom\", \"yref\": \"paper\"}, {\"font\": {\"size\": 16}, \"showarrow\": false, \"text\": \"CBK19 20190208 - 20190214\", \"x\": 0.7725, \"xanchor\": \"center\", \"xref\": \"paper\", \"y\": 1.0, \"yanchor\": \"bottom\", \"yref\": \"paper\"}, {\"font\": {\"size\": 16}, \"showarrow\": false, \"text\": \"CBK19 20190215 - 20190221\", \"x\": 0.2275, \"xanchor\": \"center\", \"xref\": \"paper\", \"y\": 0.445, \"yanchor\": \"bottom\", \"yref\": \"paper\"}, {\"font\": {\"size\": 16}, \"showarrow\": false, \"text\": \"CBK19 20190222 - 20190228\", \"x\": 0.7725, \"xanchor\": \"center\", \"xref\": \"paper\", \"y\": 0.445, \"yanchor\": \"bottom\", \"yref\": \"paper\"}], \"xaxis\": {\"anchor\": \"y\", \"domain\": [0.0, 0.455], \"tickangle\": 45, \"ticktext\": [-0.3, -0.25, -0.2, -0.15, -0.1, -0.05, 0.0, 0.05, 0.1, 0.15, 0.2, 0.25, 0.3, 0.35], \"tickvals\": [-0.3, -0.25, -0.2, -0.15, -0.1, -0.05, 0.0, 0.05, 0.1, 0.15, 0.2, 0.25, 0.3, 0.35], \"type\": \"category\"}, \"yaxis\": {\"anchor\": \"x\", \"domain\": [0.555, 1.0], \"title\": \"vol skew\"}, \"xaxis2\": {\"anchor\": \"y2\", \"domain\": [0.545, 1.0], \"tickangle\": 45, \"ticktext\": [-0.3, -0.25, -0.2, -0.15, -0.1, -0.05, 0.0, 0.05, 0.1, 0.15, 0.2, 0.25, 0.3, 0.35], \"tickvals\": [-0.3, -0.25, -0.2, -0.15, -0.1, -0.05, 0.0, 0.05, 0.1, 0.15, 0.2, 0.25, 0.3, 0.35], \"type\": \"category\"}, \"yaxis2\": {\"anchor\": \"x2\", \"domain\": [0.555, 1.0], \"title\": \"vol skew\"}, \"xaxis3\": {\"anchor\": \"y3\", \"domain\": [0.0, 0.455], \"tickangle\": 45, \"ticktext\": [-0.3, -0.25, -0.2, -0.15, -0.1, -0.05, 0.0, 0.05, 0.1, 0.15, 0.2, 0.25, 0.3, 0.35], \"tickvals\": [-0.3, -0.25, -0.2, -0.15, -0.1, -0.05, 0.0, 0.05, 0.1, 0.15, 0.2, 0.25, 0.3, 0.35], \"type\": \"category\"}, \"yaxis3\": {\"anchor\": \"x3\", \"domain\": [0.0, 0.445], \"title\": \"vol skew\"}, \"xaxis4\": {\"anchor\": \"y4\", \"domain\": [0.545, 1.0], \"tickangle\": 45, \"ticktext\": [-0.3, -0.25, -0.2, -0.15, -0.1, -0.05, 0.0, 0.05, 0.1, 0.15, 0.2, 0.25, 0.3, 0.35], \"tickvals\": [-0.3, -0.25, -0.2, -0.15, -0.1, -0.05, 0.0, 0.05, 0.1, 0.15, 0.2, 0.25, 0.3, 0.35], \"type\": \"category\"}, \"yaxis4\": {\"anchor\": \"x4\", \"domain\": [0.0, 0.445], \"title\": \"vol skew\"}, \"font\": {\"family\": \"Open Sans, sans-serif\"}, \"margin\": {\"b\": 55, \"l\": 45, \"r\": 15, \"t\": 50}, \"title\": \"Skew plots<br>\", \"showlegend\": true, \"hovermode\": \"x\", \"autosize\": true, \"width\": 900, \"height\": 800, \"plot_bgcolor\": \"#EFECEA\", \"bargap\": 0.05}, {\"showLink\": true, \"linkText\": \"Export to plot.ly\"})});</script>"
      ]
     },
     "metadata": {},
     "output_type": "display_data"
    },
    {
     "data": {
      "application/vnd.plotly.v1+json": {
       "data": [
        {
         "legendgroup": "chart (1, 1)",
         "name": "chart (1, 1) 20190301",
         "type": "scatter",
         "uid": "2d1da3a8-fff6-11e9-ad16-8c859025e7f9",
         "x": [
          -0.3,
          -0.25,
          -0.2,
          -0.15,
          -0.1,
          -0.05,
          0,
          0.05,
          0.1,
          0.15,
          0.2,
          0.25,
          0.3,
          0.35
         ],
         "xaxis": "x",
         "y": [
          null,
          0.1096,
          0.0756,
          0.0494,
          0.0329,
          0.0168,
          0,
          -0.0095,
          -0.0132,
          -0.0124,
          -0.0028,
          0.0141,
          0.0322,
          0.0465
         ],
         "yaxis": "y"
        },
        {
         "legendgroup": "chart (1, 1)",
         "name": "chart (1, 1) 20190304",
         "type": "scatter",
         "uid": "2d1e1d88-fff6-11e9-bbc6-8c859025e7f9",
         "x": [
          -0.3,
          -0.25,
          -0.2,
          -0.15,
          -0.1,
          -0.05,
          0,
          0.05,
          0.1,
          0.15,
          0.2,
          0.25,
          0.3,
          0.35
         ],
         "xaxis": "x",
         "y": [
          0.153,
          0.1098,
          0.0686,
          0.0433,
          0.0257,
          0.0091,
          0,
          -0.0125,
          -0.0174,
          -0.0164,
          -0.0039,
          0.0109,
          0.0279,
          0.0531
         ],
         "yaxis": "y"
        },
        {
         "legendgroup": "chart (1, 1)",
         "name": "chart (1, 1) 20190305",
         "type": "scatter",
         "uid": "2d1e826e-fff6-11e9-8143-8c859025e7f9",
         "x": [
          -0.3,
          -0.25,
          -0.2,
          -0.15,
          -0.1,
          -0.05,
          0,
          0.05,
          0.1,
          0.15,
          0.2,
          0.25,
          0.3,
          0.35
         ],
         "xaxis": "x",
         "y": [
          0.163,
          0.1158,
          0.0749,
          0.0485,
          0.0283,
          0.0123,
          0,
          -0.0115,
          -0.0146,
          -0.0123,
          -0.0052,
          0.0146,
          0.0334,
          0.0469
         ],
         "yaxis": "y"
        },
        {
         "legendgroup": "chart (1, 1)",
         "name": "chart (1, 1) 20190306",
         "type": "scatter",
         "uid": "2d1f08ba-fff6-11e9-9c7b-8c859025e7f9",
         "x": [
          -0.3,
          -0.25,
          -0.2,
          -0.15,
          -0.1,
          -0.05,
          0,
          0.05,
          0.1,
          0.15,
          0.2,
          0.25,
          0.3,
          0.35
         ],
         "xaxis": "x",
         "y": [
          0.154,
          0.1121,
          0.0746,
          0.0481,
          0.0294,
          0.0146,
          0,
          -0.0112,
          -0.0141,
          -0.0125,
          -0.002,
          0.0101,
          0.0287,
          null
         ],
         "yaxis": "y"
        },
        {
         "legendgroup": "chart (1, 1)",
         "name": "chart (1, 1) 20190307",
         "type": "scatter",
         "uid": "2d1f7ea8-fff6-11e9-a365-8c859025e7f9",
         "x": [
          -0.3,
          -0.25,
          -0.2,
          -0.15,
          -0.1,
          -0.05,
          0,
          0.05,
          0.1,
          0.15,
          0.2,
          0.25,
          0.3,
          0.35
         ],
         "xaxis": "x",
         "y": [
          0.1443,
          0.1115,
          0.0778,
          0.0471,
          0.0282,
          0.0099,
          0,
          -0.0123,
          -0.0164,
          -0.0131,
          -0.0057,
          0.0085,
          0.0314,
          null
         ],
         "yaxis": "y"
        },
        {
         "legendgroup": "chart (1, 2)",
         "name": "chart (1, 2) 20190308",
         "type": "scatter",
         "uid": "2d207e5c-fff6-11e9-93f7-8c859025e7f9",
         "x": [
          -0.3,
          -0.25,
          -0.2,
          -0.15,
          -0.1,
          -0.05,
          0,
          0.05,
          0.1,
          0.15,
          0.2,
          0.25,
          0.3,
          0.35
         ],
         "xaxis": "x2",
         "y": [
          null,
          0.1281,
          0.0873,
          0.0561,
          0.0342,
          0.0163,
          0,
          -0.0096,
          -0.015,
          -0.0133,
          -0.0004,
          0.0133,
          0.0432,
          0.0649
         ],
         "yaxis": "y2"
        },
        {
         "legendgroup": "chart (1, 2)",
         "name": "chart (1, 2) 20190311",
         "type": "scatter",
         "uid": "2d211da8-fff6-11e9-b160-8c859025e7f9",
         "x": [
          -0.3,
          -0.25,
          -0.2,
          -0.15,
          -0.1,
          -0.05,
          0,
          0.05,
          0.1,
          0.15,
          0.2,
          0.25,
          0.3,
          0.35
         ],
         "xaxis": "x2",
         "y": [
          0.1661,
          0.1259,
          0.0842,
          0.0538,
          0.0309,
          0.0152,
          0,
          -0.0114,
          -0.0148,
          -0.0121,
          0.0038,
          0.0177,
          0.0349,
          null
         ],
         "yaxis": "y2"
        },
        {
         "legendgroup": "chart (1, 2)",
         "name": "chart (1, 2) 20190312",
         "type": "scatter",
         "uid": "2d21b54c-fff6-11e9-b943-8c859025e7f9",
         "x": [
          -0.3,
          -0.25,
          -0.2,
          -0.15,
          -0.1,
          -0.05,
          0,
          0.05,
          0.1,
          0.15,
          0.2,
          0.25,
          0.3,
          0.35
         ],
         "xaxis": "x2",
         "y": [
          0.1735,
          0.1214,
          0.0849,
          0.0526,
          0.0329,
          0.0162,
          0,
          -0.0089,
          -0.0145,
          -0.0091,
          0.0016,
          0.0248,
          0.0388,
          null
         ],
         "yaxis": "y2"
        },
        {
         "legendgroup": "chart (1, 2)",
         "name": "chart (1, 2) 20190313",
         "type": "scatter",
         "uid": "2d222090-fff6-11e9-8da3-8c859025e7f9",
         "x": [
          -0.3,
          -0.25,
          -0.2,
          -0.15,
          -0.1,
          -0.05,
          0,
          0.05,
          0.1,
          0.15,
          0.2,
          0.25,
          0.3,
          0.35
         ],
         "xaxis": "x2",
         "y": [
          0.1782,
          0.1301,
          0.0879,
          0.0533,
          0.0309,
          0.0135,
          0,
          -0.0118,
          -0.0146,
          -0.0109,
          0.0059,
          0.0309,
          0.045,
          null
         ],
         "yaxis": "y2"
        },
        {
         "legendgroup": "chart (1, 2)",
         "name": "chart (1, 2) 20190314",
         "type": "scatter",
         "uid": "2d22a2e8-fff6-11e9-980e-8c859025e7f9",
         "x": [
          -0.3,
          -0.25,
          -0.2,
          -0.15,
          -0.1,
          -0.05,
          0,
          0.05,
          0.1,
          0.15,
          0.2,
          0.25,
          0.3,
          0.35
         ],
         "xaxis": "x2",
         "y": [
          0.1731,
          0.1411,
          0.0994,
          0.0597,
          0.0348,
          0.0176,
          0,
          -0.0068,
          -0.0104,
          -0.0063,
          0.0117,
          0.0319,
          0.059,
          null
         ],
         "yaxis": "y2"
        },
        {
         "legendgroup": "chart (2, 1)",
         "name": "chart (2, 1) 20190315",
         "type": "scatter",
         "uid": "2d23ac62-fff6-11e9-bc75-8c859025e7f9",
         "x": [
          -0.3,
          -0.25,
          -0.2,
          -0.15,
          -0.1,
          -0.05,
          0,
          0.05,
          0.1,
          0.15,
          0.2,
          0.25,
          0.3,
          0.35
         ],
         "xaxis": "x3",
         "y": [
          0.2044,
          0.1518,
          0.1059,
          0.0654,
          0.0405,
          0.0183,
          0,
          -0.0104,
          -0.0132,
          -0.0065,
          0.0119,
          0.0381,
          0.0659,
          null
         ],
         "yaxis": "y3"
        },
        {
         "legendgroup": "chart (2, 1)",
         "name": "chart (2, 1) 20190318",
         "type": "scatter",
         "uid": "2d241f58-fff6-11e9-a170-8c859025e7f9",
         "x": [
          -0.3,
          -0.25,
          -0.2,
          -0.15,
          -0.1,
          -0.05,
          0,
          0.05,
          0.1,
          0.15,
          0.2,
          0.25,
          0.3,
          0.35
         ],
         "xaxis": "x3",
         "y": [
          0.1987,
          0.1623,
          0.1107,
          0.0692,
          0.0404,
          0.0146,
          0,
          -0.0159,
          -0.0179,
          -0.0094,
          0.0097,
          0.0455,
          0.0728,
          null
         ],
         "yaxis": "y3"
        },
        {
         "legendgroup": "chart (2, 1)",
         "name": "chart (2, 1) 20190319",
         "type": "scatter",
         "uid": "2d24b440-fff6-11e9-864c-8c859025e7f9",
         "x": [
          -0.3,
          -0.25,
          -0.2,
          -0.15,
          -0.1,
          -0.05,
          0,
          0.05,
          0.1,
          0.15,
          0.2,
          0.25,
          0.3,
          0.35
         ],
         "xaxis": "x3",
         "y": [
          0.2207,
          0.1642,
          0.1185,
          0.0861,
          0.0506,
          0.0217,
          0,
          -0.0179,
          -0.0207,
          -0.0164,
          -0.003,
          0.0283,
          0.0476,
          null
         ],
         "yaxis": "y3"
        },
        {
         "legendgroup": "chart (2, 1)",
         "name": "chart (2, 1) 20190320",
         "type": "scatter",
         "uid": "2d254842-fff6-11e9-b5d3-8c859025e7f9",
         "x": [
          -0.3,
          -0.25,
          -0.2,
          -0.15,
          -0.1,
          -0.05,
          0,
          0.05,
          0.1,
          0.15,
          0.2,
          0.25,
          0.3,
          0.35
         ],
         "xaxis": "x3",
         "y": [
          0.2218,
          0.1646,
          0.114,
          0.0811,
          0.049,
          0.0193,
          0,
          -0.02,
          -0.0198,
          -0.0072,
          0.0067,
          0.0328,
          0.0732,
          null
         ],
         "yaxis": "y3"
        },
        {
         "legendgroup": "chart (2, 1)",
         "name": "chart (2, 1) 20190321",
         "type": "scatter",
         "uid": "2d25b6c6-fff6-11e9-959b-8c859025e7f9",
         "x": [
          -0.3,
          -0.25,
          -0.2,
          -0.15,
          -0.1,
          -0.05,
          0,
          0.05,
          0.1,
          0.15,
          0.2,
          0.25,
          0.3,
          0.35
         ],
         "xaxis": "x3",
         "y": [
          0.2197,
          0.1727,
          0.1305,
          0.0947,
          0.0566,
          0.0265,
          0,
          -0.012,
          -0.0107,
          -0.0002,
          0.0222,
          0.0494,
          0.0702,
          null
         ],
         "yaxis": "y3"
        },
        {
         "legendgroup": "chart (2, 2)",
         "name": "chart (2, 2) 20190322",
         "type": "scatter",
         "uid": "2d26c636-fff6-11e9-89ab-8c859025e7f9",
         "x": [
          -0.3,
          -0.25,
          -0.2,
          -0.15,
          -0.1,
          -0.05,
          0,
          0.05,
          0.1,
          0.15,
          0.2,
          0.25,
          0.3,
          0.35
         ],
         "xaxis": "x4",
         "y": [
          0.2151,
          0.185,
          0.1301,
          0.09,
          0.0543,
          0.0221,
          0,
          -0.019,
          -0.022,
          -0.0118,
          0.0079,
          0.0437,
          0.0634,
          null
         ],
         "yaxis": "y4"
        },
        {
         "legendgroup": "chart (2, 2)",
         "name": "chart (2, 2) 20190325",
         "type": "scatter",
         "uid": "2d2734a4-fff6-11e9-93b0-8c859025e7f9",
         "x": [
          -0.3,
          -0.25,
          -0.2,
          -0.15,
          -0.1,
          -0.05,
          0,
          0.05,
          0.1,
          0.15,
          0.2,
          0.25,
          0.3,
          0.35
         ],
         "xaxis": "x4",
         "y": [
          0.2345,
          0.2042,
          0.1469,
          0.1021,
          0.0589,
          0.0221,
          0,
          -0.0198,
          -0.0209,
          -0.0097,
          0.0145,
          0.0304,
          0.0762,
          null
         ],
         "yaxis": "y4"
        },
        {
         "legendgroup": "chart (2, 2)",
         "name": "chart (2, 2) 20190326",
         "type": "scatter",
         "uid": "2d27a6dc-fff6-11e9-b39a-8c859025e7f9",
         "x": [
          -0.3,
          -0.25,
          -0.2,
          -0.15,
          -0.1,
          -0.05,
          0,
          0.05,
          0.1,
          0.15,
          0.2,
          0.25,
          0.3,
          0.35
         ],
         "xaxis": "x4",
         "y": [
          0.2489,
          0.2002,
          0.14,
          0.1011,
          0.0591,
          0.0235,
          0,
          -0.0176,
          -0.017,
          -0.005,
          0.014,
          0.0396,
          0.0854,
          null
         ],
         "yaxis": "y4"
        },
        {
         "legendgroup": "chart (2, 2)",
         "name": "chart (2, 2) 20190327",
         "type": "scatter",
         "uid": "2d28109a-fff6-11e9-94ff-8c859025e7f9",
         "x": [
          -0.3,
          -0.25,
          -0.2,
          -0.15,
          -0.1,
          -0.05,
          0,
          0.05,
          0.1,
          0.15,
          0.2,
          0.25,
          0.3,
          0.35
         ],
         "xaxis": "x4",
         "y": [
          0.2619,
          0.2099,
          0.1471,
          0.0989,
          0.0566,
          0.022,
          0,
          -0.0191,
          -0.0201,
          0.0001,
          0.0221,
          0.0493,
          0.0962,
          null
         ],
         "yaxis": "y4"
        },
        {
         "legendgroup": "chart (2, 2)",
         "name": "chart (2, 2) 20190328",
         "type": "scatter",
         "uid": "2d287e18-fff6-11e9-99c0-8c859025e7f9",
         "x": [
          -0.3,
          -0.25,
          -0.2,
          -0.15,
          -0.1,
          -0.05,
          0,
          0.05,
          0.1,
          0.15,
          0.2,
          0.25,
          0.3,
          0.35
         ],
         "xaxis": "x4",
         "y": [
          0.2419,
          0.2043,
          0.1526,
          0.1053,
          0.0604,
          0.0286,
          0,
          -0.0134,
          -0.0134,
          -0.0016,
          0.0133,
          0.0645,
          0.1123,
          null
         ],
         "yaxis": "y4"
        }
       ],
       "layout": {
        "annotations": [
         {
          "font": {
           "size": 16
          },
          "showarrow": false,
          "text": "CBM19 20190301 - 20190307",
          "x": 0.2275,
          "xanchor": "center",
          "xref": "paper",
          "y": 1,
          "yanchor": "bottom",
          "yref": "paper"
         },
         {
          "font": {
           "size": 16
          },
          "showarrow": false,
          "text": "CBM19 20190308 - 20190314",
          "x": 0.7725,
          "xanchor": "center",
          "xref": "paper",
          "y": 1,
          "yanchor": "bottom",
          "yref": "paper"
         },
         {
          "font": {
           "size": 16
          },
          "showarrow": false,
          "text": "CBM19 20190315 - 20190321",
          "x": 0.2275,
          "xanchor": "center",
          "xref": "paper",
          "y": 0.445,
          "yanchor": "bottom",
          "yref": "paper"
         },
         {
          "font": {
           "size": 16
          },
          "showarrow": false,
          "text": "CBM19 20190322 - 20190328",
          "x": 0.7725,
          "xanchor": "center",
          "xref": "paper",
          "y": 0.445,
          "yanchor": "bottom",
          "yref": "paper"
         }
        ],
        "autosize": true,
        "bargap": 0.05,
        "font": {
         "family": "Open Sans, sans-serif"
        },
        "height": 800,
        "hovermode": "x",
        "margin": {
         "b": 55,
         "l": 45,
         "r": 15,
         "t": 50
        },
        "plot_bgcolor": "#EFECEA",
        "showlegend": true,
        "title": "Skew plots<br>",
        "width": 900,
        "xaxis": {
         "anchor": "y",
         "domain": [
          0,
          0.455
         ],
         "tickangle": 45,
         "ticktext": [
          -0.3,
          -0.25,
          -0.2,
          -0.15,
          -0.1,
          -0.05,
          0,
          0.05,
          0.1,
          0.15,
          0.2,
          0.25,
          0.3,
          0.35
         ],
         "tickvals": [
          -0.3,
          -0.25,
          -0.2,
          -0.15,
          -0.1,
          -0.05,
          0,
          0.05,
          0.1,
          0.15,
          0.2,
          0.25,
          0.3,
          0.35
         ],
         "type": "category"
        },
        "xaxis2": {
         "anchor": "y2",
         "domain": [
          0.545,
          1
         ],
         "tickangle": 45,
         "ticktext": [
          -0.3,
          -0.25,
          -0.2,
          -0.15,
          -0.1,
          -0.05,
          0,
          0.05,
          0.1,
          0.15,
          0.2,
          0.25,
          0.3,
          0.35
         ],
         "tickvals": [
          -0.3,
          -0.25,
          -0.2,
          -0.15,
          -0.1,
          -0.05,
          0,
          0.05,
          0.1,
          0.15,
          0.2,
          0.25,
          0.3,
          0.35
         ],
         "type": "category"
        },
        "xaxis3": {
         "anchor": "y3",
         "domain": [
          0,
          0.455
         ],
         "tickangle": 45,
         "ticktext": [
          -0.3,
          -0.25,
          -0.2,
          -0.15,
          -0.1,
          -0.05,
          0,
          0.05,
          0.1,
          0.15,
          0.2,
          0.25,
          0.3,
          0.35
         ],
         "tickvals": [
          -0.3,
          -0.25,
          -0.2,
          -0.15,
          -0.1,
          -0.05,
          0,
          0.05,
          0.1,
          0.15,
          0.2,
          0.25,
          0.3,
          0.35
         ],
         "type": "category"
        },
        "xaxis4": {
         "anchor": "y4",
         "domain": [
          0.545,
          1
         ],
         "tickangle": 45,
         "ticktext": [
          -0.3,
          -0.25,
          -0.2,
          -0.15,
          -0.1,
          -0.05,
          0,
          0.05,
          0.1,
          0.15,
          0.2,
          0.25,
          0.3,
          0.35
         ],
         "tickvals": [
          -0.3,
          -0.25,
          -0.2,
          -0.15,
          -0.1,
          -0.05,
          0,
          0.05,
          0.1,
          0.15,
          0.2,
          0.25,
          0.3,
          0.35
         ],
         "type": "category"
        },
        "yaxis": {
         "anchor": "x",
         "domain": [
          0.555,
          1
         ],
         "title": "vol skew"
        },
        "yaxis2": {
         "anchor": "x2",
         "domain": [
          0.555,
          1
         ],
         "title": "vol skew"
        },
        "yaxis3": {
         "anchor": "x3",
         "domain": [
          0,
          0.445
         ],
         "title": "vol skew"
        },
        "yaxis4": {
         "anchor": "x4",
         "domain": [
          0,
          0.445
         ],
         "title": "vol skew"
        }
       }
      },
      "text/html": [
       "<div id=\"7438238f-b25c-45e6-ace2-bb1a3b525bbe\" style=\"height: 800px; width: 900px;\" class=\"plotly-graph-div\"></div><script type=\"text/javascript\">require([\"plotly\"], function(Plotly) { window.PLOTLYENV=window.PLOTLYENV || {};window.PLOTLYENV.BASE_URL=\"https://plot.ly\";Plotly.newPlot(\"7438238f-b25c-45e6-ace2-bb1a3b525bbe\", [{\"legendgroup\": \"chart (1, 1)\", \"name\": \"chart (1, 1) 20190301\", \"uid\": \"2d1da3a8-fff6-11e9-ad16-8c859025e7f9\", \"x\": [-0.3, -0.25, -0.2, -0.15, -0.1, -0.05, 0.0, 0.05, 0.1, 0.15, 0.2, 0.25, 0.3, 0.35], \"y\": [null, 0.1096, 0.0756, 0.0494, 0.0329, 0.0168, 0.0, -0.0095, -0.0132, -0.0124, -0.0028, 0.0141, 0.0322, 0.0465], \"yaxis\": \"y\", \"type\": \"scatter\", \"xaxis\": \"x\"}, {\"legendgroup\": \"chart (1, 1)\", \"name\": \"chart (1, 1) 20190304\", \"uid\": \"2d1e1d88-fff6-11e9-bbc6-8c859025e7f9\", \"x\": [-0.3, -0.25, -0.2, -0.15, -0.1, -0.05, 0.0, 0.05, 0.1, 0.15, 0.2, 0.25, 0.3, 0.35], \"y\": [0.153, 0.1098, 0.0686, 0.0433, 0.0257, 0.0091, 0.0, -0.0125, -0.0174, -0.0164, -0.0039, 0.0109, 0.0279, 0.0531], \"yaxis\": \"y\", \"type\": \"scatter\", \"xaxis\": \"x\"}, {\"legendgroup\": \"chart (1, 1)\", \"name\": \"chart (1, 1) 20190305\", \"uid\": \"2d1e826e-fff6-11e9-8143-8c859025e7f9\", \"x\": [-0.3, -0.25, -0.2, -0.15, -0.1, -0.05, 0.0, 0.05, 0.1, 0.15, 0.2, 0.25, 0.3, 0.35], \"y\": [0.163, 0.1158, 0.0749, 0.0485, 0.0283, 0.0123, 0.0, -0.0115, -0.0146, -0.0123, -0.0052, 0.0146, 0.0334, 0.0469], \"yaxis\": \"y\", \"type\": \"scatter\", \"xaxis\": \"x\"}, {\"legendgroup\": \"chart (1, 1)\", \"name\": \"chart (1, 1) 20190306\", \"uid\": \"2d1f08ba-fff6-11e9-9c7b-8c859025e7f9\", \"x\": [-0.3, -0.25, -0.2, -0.15, -0.1, -0.05, 0.0, 0.05, 0.1, 0.15, 0.2, 0.25, 0.3, 0.35], \"y\": [0.154, 0.1121, 0.0746, 0.0481, 0.0294, 0.0146, 0.0, -0.0112, -0.0141, -0.0125, -0.002, 0.0101, 0.0287, null], \"yaxis\": \"y\", \"type\": \"scatter\", \"xaxis\": \"x\"}, {\"legendgroup\": \"chart (1, 1)\", \"name\": \"chart (1, 1) 20190307\", \"uid\": \"2d1f7ea8-fff6-11e9-a365-8c859025e7f9\", \"x\": [-0.3, -0.25, -0.2, -0.15, -0.1, -0.05, 0.0, 0.05, 0.1, 0.15, 0.2, 0.25, 0.3, 0.35], \"y\": [0.1443, 0.1115, 0.0778, 0.0471, 0.0282, 0.0099, 0.0, -0.0123, -0.0164, -0.0131, -0.0057, 0.0085, 0.0314, null], \"yaxis\": \"y\", \"type\": \"scatter\", \"xaxis\": \"x\"}, {\"legendgroup\": \"chart (1, 2)\", \"name\": \"chart (1, 2) 20190308\", \"uid\": \"2d207e5c-fff6-11e9-93f7-8c859025e7f9\", \"x\": [-0.3, -0.25, -0.2, -0.15, -0.1, -0.05, 0.0, 0.05, 0.1, 0.15, 0.2, 0.25, 0.3, 0.35], \"y\": [null, 0.1281, 0.0873, 0.0561, 0.0342, 0.0163, 0.0, -0.0096, -0.015, -0.0133, -0.0004, 0.0133, 0.0432, 0.0649], \"yaxis\": \"y2\", \"type\": \"scatter\", \"xaxis\": \"x2\"}, {\"legendgroup\": \"chart (1, 2)\", \"name\": \"chart (1, 2) 20190311\", \"uid\": \"2d211da8-fff6-11e9-b160-8c859025e7f9\", \"x\": [-0.3, -0.25, -0.2, -0.15, -0.1, -0.05, 0.0, 0.05, 0.1, 0.15, 0.2, 0.25, 0.3, 0.35], \"y\": [0.1661, 0.1259, 0.0842, 0.0538, 0.0309, 0.0152, 0.0, -0.0114, -0.0148, -0.0121, 0.0038, 0.0177, 0.0349, null], \"yaxis\": \"y2\", \"type\": \"scatter\", \"xaxis\": \"x2\"}, {\"legendgroup\": \"chart (1, 2)\", \"name\": \"chart (1, 2) 20190312\", \"uid\": \"2d21b54c-fff6-11e9-b943-8c859025e7f9\", \"x\": [-0.3, -0.25, -0.2, -0.15, -0.1, -0.05, 0.0, 0.05, 0.1, 0.15, 0.2, 0.25, 0.3, 0.35], \"y\": [0.1735, 0.1214, 0.0849, 0.0526, 0.0329, 0.0162, 0.0, -0.0089, -0.0145, -0.0091, 0.0016, 0.0248, 0.0388, null], \"yaxis\": \"y2\", \"type\": \"scatter\", \"xaxis\": \"x2\"}, {\"legendgroup\": \"chart (1, 2)\", \"name\": \"chart (1, 2) 20190313\", \"uid\": \"2d222090-fff6-11e9-8da3-8c859025e7f9\", \"x\": [-0.3, -0.25, -0.2, -0.15, -0.1, -0.05, 0.0, 0.05, 0.1, 0.15, 0.2, 0.25, 0.3, 0.35], \"y\": [0.1782, 0.1301, 0.0879, 0.0533, 0.0309, 0.0135, 0.0, -0.0118, -0.0146, -0.0109, 0.0059, 0.0309, 0.045, null], \"yaxis\": \"y2\", \"type\": \"scatter\", \"xaxis\": \"x2\"}, {\"legendgroup\": \"chart (1, 2)\", \"name\": \"chart (1, 2) 20190314\", \"uid\": \"2d22a2e8-fff6-11e9-980e-8c859025e7f9\", \"x\": [-0.3, -0.25, -0.2, -0.15, -0.1, -0.05, 0.0, 0.05, 0.1, 0.15, 0.2, 0.25, 0.3, 0.35], \"y\": [0.1731, 0.1411, 0.0994, 0.0597, 0.0348, 0.0176, 0.0, -0.0068, -0.0104, -0.0063, 0.0117, 0.0319, 0.059, null], \"yaxis\": \"y2\", \"type\": \"scatter\", \"xaxis\": \"x2\"}, {\"legendgroup\": \"chart (2, 1)\", \"name\": \"chart (2, 1) 20190315\", \"uid\": \"2d23ac62-fff6-11e9-bc75-8c859025e7f9\", \"x\": [-0.3, -0.25, -0.2, -0.15, -0.1, -0.05, 0.0, 0.05, 0.1, 0.15, 0.2, 0.25, 0.3, 0.35], \"y\": [0.2044, 0.1518, 0.1059, 0.0654, 0.0405, 0.0183, 0.0, -0.0104, -0.0132, -0.0065, 0.0119, 0.0381, 0.0659, null], \"yaxis\": \"y3\", \"type\": \"scatter\", \"xaxis\": \"x3\"}, {\"legendgroup\": \"chart (2, 1)\", \"name\": \"chart (2, 1) 20190318\", \"uid\": \"2d241f58-fff6-11e9-a170-8c859025e7f9\", \"x\": [-0.3, -0.25, -0.2, -0.15, -0.1, -0.05, 0.0, 0.05, 0.1, 0.15, 0.2, 0.25, 0.3, 0.35], \"y\": [0.1987, 0.1623, 0.1107, 0.0692, 0.0404, 0.0146, 0.0, -0.0159, -0.0179, -0.0094, 0.0097, 0.0455, 0.0728, null], \"yaxis\": \"y3\", \"type\": \"scatter\", \"xaxis\": \"x3\"}, {\"legendgroup\": \"chart (2, 1)\", \"name\": \"chart (2, 1) 20190319\", \"uid\": \"2d24b440-fff6-11e9-864c-8c859025e7f9\", \"x\": [-0.3, -0.25, -0.2, -0.15, -0.1, -0.05, 0.0, 0.05, 0.1, 0.15, 0.2, 0.25, 0.3, 0.35], \"y\": [0.2207, 0.1642, 0.1185, 0.0861, 0.0506, 0.0217, 0.0, -0.0179, -0.0207, -0.0164, -0.003, 0.0283, 0.0476, null], \"yaxis\": \"y3\", \"type\": \"scatter\", \"xaxis\": \"x3\"}, {\"legendgroup\": \"chart (2, 1)\", \"name\": \"chart (2, 1) 20190320\", \"uid\": \"2d254842-fff6-11e9-b5d3-8c859025e7f9\", \"x\": [-0.3, -0.25, -0.2, -0.15, -0.1, -0.05, 0.0, 0.05, 0.1, 0.15, 0.2, 0.25, 0.3, 0.35], \"y\": [0.2218, 0.1646, 0.114, 0.0811, 0.049, 0.0193, 0.0, -0.02, -0.0198, -0.0072, 0.0067, 0.0328, 0.0732, null], \"yaxis\": \"y3\", \"type\": \"scatter\", \"xaxis\": \"x3\"}, {\"legendgroup\": \"chart (2, 1)\", \"name\": \"chart (2, 1) 20190321\", \"uid\": \"2d25b6c6-fff6-11e9-959b-8c859025e7f9\", \"x\": [-0.3, -0.25, -0.2, -0.15, -0.1, -0.05, 0.0, 0.05, 0.1, 0.15, 0.2, 0.25, 0.3, 0.35], \"y\": [0.2197, 0.1727, 0.1305, 0.0947, 0.0566, 0.0265, 0.0, -0.012, -0.0107, -0.0002, 0.0222, 0.0494, 0.0702, null], \"yaxis\": \"y3\", \"type\": \"scatter\", \"xaxis\": \"x3\"}, {\"legendgroup\": \"chart (2, 2)\", \"name\": \"chart (2, 2) 20190322\", \"uid\": \"2d26c636-fff6-11e9-89ab-8c859025e7f9\", \"x\": [-0.3, -0.25, -0.2, -0.15, -0.1, -0.05, 0.0, 0.05, 0.1, 0.15, 0.2, 0.25, 0.3, 0.35], \"y\": [0.2151, 0.185, 0.1301, 0.09, 0.0543, 0.0221, 0.0, -0.019, -0.022, -0.0118, 0.0079, 0.0437, 0.0634, null], \"yaxis\": \"y4\", \"type\": \"scatter\", \"xaxis\": \"x4\"}, {\"legendgroup\": \"chart (2, 2)\", \"name\": \"chart (2, 2) 20190325\", \"uid\": \"2d2734a4-fff6-11e9-93b0-8c859025e7f9\", \"x\": [-0.3, -0.25, -0.2, -0.15, -0.1, -0.05, 0.0, 0.05, 0.1, 0.15, 0.2, 0.25, 0.3, 0.35], \"y\": [0.2345, 0.2042, 0.1469, 0.1021, 0.0589, 0.0221, 0.0, -0.0198, -0.0209, -0.0097, 0.0145, 0.0304, 0.0762, null], \"yaxis\": \"y4\", \"type\": \"scatter\", \"xaxis\": \"x4\"}, {\"legendgroup\": \"chart (2, 2)\", \"name\": \"chart (2, 2) 20190326\", \"uid\": \"2d27a6dc-fff6-11e9-b39a-8c859025e7f9\", \"x\": [-0.3, -0.25, -0.2, -0.15, -0.1, -0.05, 0.0, 0.05, 0.1, 0.15, 0.2, 0.25, 0.3, 0.35], \"y\": [0.2489, 0.2002, 0.14, 0.1011, 0.0591, 0.0235, 0.0, -0.0176, -0.017, -0.005, 0.014, 0.0396, 0.0854, null], \"yaxis\": \"y4\", \"type\": \"scatter\", \"xaxis\": \"x4\"}, {\"legendgroup\": \"chart (2, 2)\", \"name\": \"chart (2, 2) 20190327\", \"uid\": \"2d28109a-fff6-11e9-94ff-8c859025e7f9\", \"x\": [-0.3, -0.25, -0.2, -0.15, -0.1, -0.05, 0.0, 0.05, 0.1, 0.15, 0.2, 0.25, 0.3, 0.35], \"y\": [0.2619, 0.2099, 0.1471, 0.0989, 0.0566, 0.022, 0.0, -0.0191, -0.0201, 0.0001, 0.0221, 0.0493, 0.0962, null], \"yaxis\": \"y4\", \"type\": \"scatter\", \"xaxis\": \"x4\"}, {\"legendgroup\": \"chart (2, 2)\", \"name\": \"chart (2, 2) 20190328\", \"uid\": \"2d287e18-fff6-11e9-99c0-8c859025e7f9\", \"x\": [-0.3, -0.25, -0.2, -0.15, -0.1, -0.05, 0.0, 0.05, 0.1, 0.15, 0.2, 0.25, 0.3, 0.35], \"y\": [0.2419, 0.2043, 0.1526, 0.1053, 0.0604, 0.0286, 0.0, -0.0134, -0.0134, -0.0016, 0.0133, 0.0645, 0.1123, null], \"yaxis\": \"y4\", \"type\": \"scatter\", \"xaxis\": \"x4\"}], {\"annotations\": [{\"font\": {\"size\": 16}, \"showarrow\": false, \"text\": \"CBM19 20190301 - 20190307\", \"x\": 0.2275, \"xanchor\": \"center\", \"xref\": \"paper\", \"y\": 1.0, \"yanchor\": \"bottom\", \"yref\": \"paper\"}, {\"font\": {\"size\": 16}, \"showarrow\": false, \"text\": \"CBM19 20190308 - 20190314\", \"x\": 0.7725, \"xanchor\": \"center\", \"xref\": \"paper\", \"y\": 1.0, \"yanchor\": \"bottom\", \"yref\": \"paper\"}, {\"font\": {\"size\": 16}, \"showarrow\": false, \"text\": \"CBM19 20190315 - 20190321\", \"x\": 0.2275, \"xanchor\": \"center\", \"xref\": \"paper\", \"y\": 0.445, \"yanchor\": \"bottom\", \"yref\": \"paper\"}, {\"font\": {\"size\": 16}, \"showarrow\": false, \"text\": \"CBM19 20190322 - 20190328\", \"x\": 0.7725, \"xanchor\": \"center\", \"xref\": \"paper\", \"y\": 0.445, \"yanchor\": \"bottom\", \"yref\": \"paper\"}], \"xaxis\": {\"anchor\": \"y\", \"domain\": [0.0, 0.455], \"tickangle\": 45, \"ticktext\": [-0.3, -0.25, -0.2, -0.15, -0.1, -0.05, 0.0, 0.05, 0.1, 0.15, 0.2, 0.25, 0.3, 0.35], \"tickvals\": [-0.3, -0.25, -0.2, -0.15, -0.1, -0.05, 0.0, 0.05, 0.1, 0.15, 0.2, 0.25, 0.3, 0.35], \"type\": \"category\"}, \"yaxis\": {\"anchor\": \"x\", \"domain\": [0.555, 1.0], \"title\": \"vol skew\"}, \"xaxis2\": {\"anchor\": \"y2\", \"domain\": [0.545, 1.0], \"tickangle\": 45, \"ticktext\": [-0.3, -0.25, -0.2, -0.15, -0.1, -0.05, 0.0, 0.05, 0.1, 0.15, 0.2, 0.25, 0.3, 0.35], \"tickvals\": [-0.3, -0.25, -0.2, -0.15, -0.1, -0.05, 0.0, 0.05, 0.1, 0.15, 0.2, 0.25, 0.3, 0.35], \"type\": \"category\"}, \"yaxis2\": {\"anchor\": \"x2\", \"domain\": [0.555, 1.0], \"title\": \"vol skew\"}, \"xaxis3\": {\"anchor\": \"y3\", \"domain\": [0.0, 0.455], \"tickangle\": 45, \"ticktext\": [-0.3, -0.25, -0.2, -0.15, -0.1, -0.05, 0.0, 0.05, 0.1, 0.15, 0.2, 0.25, 0.3, 0.35], \"tickvals\": [-0.3, -0.25, -0.2, -0.15, -0.1, -0.05, 0.0, 0.05, 0.1, 0.15, 0.2, 0.25, 0.3, 0.35], \"type\": \"category\"}, \"yaxis3\": {\"anchor\": \"x3\", \"domain\": [0.0, 0.445], \"title\": \"vol skew\"}, \"xaxis4\": {\"anchor\": \"y4\", \"domain\": [0.545, 1.0], \"tickangle\": 45, \"ticktext\": [-0.3, -0.25, -0.2, -0.15, -0.1, -0.05, 0.0, 0.05, 0.1, 0.15, 0.2, 0.25, 0.3, 0.35], \"tickvals\": [-0.3, -0.25, -0.2, -0.15, -0.1, -0.05, 0.0, 0.05, 0.1, 0.15, 0.2, 0.25, 0.3, 0.35], \"type\": \"category\"}, \"yaxis4\": {\"anchor\": \"x4\", \"domain\": [0.0, 0.445], \"title\": \"vol skew\"}, \"font\": {\"family\": \"Open Sans, sans-serif\"}, \"margin\": {\"b\": 55, \"l\": 45, \"r\": 15, \"t\": 50}, \"title\": \"Skew plots<br>\", \"showlegend\": true, \"hovermode\": \"x\", \"autosize\": true, \"width\": 900, \"height\": 800, \"plot_bgcolor\": \"#EFECEA\", \"bargap\": 0.05}, {\"showLink\": true, \"linkText\": \"Export to plot.ly\"})});</script>"
      ],
      "text/vnd.plotly.v1+html": [
       "<div id=\"7438238f-b25c-45e6-ace2-bb1a3b525bbe\" style=\"height: 800px; width: 900px;\" class=\"plotly-graph-div\"></div><script type=\"text/javascript\">require([\"plotly\"], function(Plotly) { window.PLOTLYENV=window.PLOTLYENV || {};window.PLOTLYENV.BASE_URL=\"https://plot.ly\";Plotly.newPlot(\"7438238f-b25c-45e6-ace2-bb1a3b525bbe\", [{\"legendgroup\": \"chart (1, 1)\", \"name\": \"chart (1, 1) 20190301\", \"uid\": \"2d1da3a8-fff6-11e9-ad16-8c859025e7f9\", \"x\": [-0.3, -0.25, -0.2, -0.15, -0.1, -0.05, 0.0, 0.05, 0.1, 0.15, 0.2, 0.25, 0.3, 0.35], \"y\": [null, 0.1096, 0.0756, 0.0494, 0.0329, 0.0168, 0.0, -0.0095, -0.0132, -0.0124, -0.0028, 0.0141, 0.0322, 0.0465], \"yaxis\": \"y\", \"type\": \"scatter\", \"xaxis\": \"x\"}, {\"legendgroup\": \"chart (1, 1)\", \"name\": \"chart (1, 1) 20190304\", \"uid\": \"2d1e1d88-fff6-11e9-bbc6-8c859025e7f9\", \"x\": [-0.3, -0.25, -0.2, -0.15, -0.1, -0.05, 0.0, 0.05, 0.1, 0.15, 0.2, 0.25, 0.3, 0.35], \"y\": [0.153, 0.1098, 0.0686, 0.0433, 0.0257, 0.0091, 0.0, -0.0125, -0.0174, -0.0164, -0.0039, 0.0109, 0.0279, 0.0531], \"yaxis\": \"y\", \"type\": \"scatter\", \"xaxis\": \"x\"}, {\"legendgroup\": \"chart (1, 1)\", \"name\": \"chart (1, 1) 20190305\", \"uid\": \"2d1e826e-fff6-11e9-8143-8c859025e7f9\", \"x\": [-0.3, -0.25, -0.2, -0.15, -0.1, -0.05, 0.0, 0.05, 0.1, 0.15, 0.2, 0.25, 0.3, 0.35], \"y\": [0.163, 0.1158, 0.0749, 0.0485, 0.0283, 0.0123, 0.0, -0.0115, -0.0146, -0.0123, -0.0052, 0.0146, 0.0334, 0.0469], \"yaxis\": \"y\", \"type\": \"scatter\", \"xaxis\": \"x\"}, {\"legendgroup\": \"chart (1, 1)\", \"name\": \"chart (1, 1) 20190306\", \"uid\": \"2d1f08ba-fff6-11e9-9c7b-8c859025e7f9\", \"x\": [-0.3, -0.25, -0.2, -0.15, -0.1, -0.05, 0.0, 0.05, 0.1, 0.15, 0.2, 0.25, 0.3, 0.35], \"y\": [0.154, 0.1121, 0.0746, 0.0481, 0.0294, 0.0146, 0.0, -0.0112, -0.0141, -0.0125, -0.002, 0.0101, 0.0287, null], \"yaxis\": \"y\", \"type\": \"scatter\", \"xaxis\": \"x\"}, {\"legendgroup\": \"chart (1, 1)\", \"name\": \"chart (1, 1) 20190307\", \"uid\": \"2d1f7ea8-fff6-11e9-a365-8c859025e7f9\", \"x\": [-0.3, -0.25, -0.2, -0.15, -0.1, -0.05, 0.0, 0.05, 0.1, 0.15, 0.2, 0.25, 0.3, 0.35], \"y\": [0.1443, 0.1115, 0.0778, 0.0471, 0.0282, 0.0099, 0.0, -0.0123, -0.0164, -0.0131, -0.0057, 0.0085, 0.0314, null], \"yaxis\": \"y\", \"type\": \"scatter\", \"xaxis\": \"x\"}, {\"legendgroup\": \"chart (1, 2)\", \"name\": \"chart (1, 2) 20190308\", \"uid\": \"2d207e5c-fff6-11e9-93f7-8c859025e7f9\", \"x\": [-0.3, -0.25, -0.2, -0.15, -0.1, -0.05, 0.0, 0.05, 0.1, 0.15, 0.2, 0.25, 0.3, 0.35], \"y\": [null, 0.1281, 0.0873, 0.0561, 0.0342, 0.0163, 0.0, -0.0096, -0.015, -0.0133, -0.0004, 0.0133, 0.0432, 0.0649], \"yaxis\": \"y2\", \"type\": \"scatter\", \"xaxis\": \"x2\"}, {\"legendgroup\": \"chart (1, 2)\", \"name\": \"chart (1, 2) 20190311\", \"uid\": \"2d211da8-fff6-11e9-b160-8c859025e7f9\", \"x\": [-0.3, -0.25, -0.2, -0.15, -0.1, -0.05, 0.0, 0.05, 0.1, 0.15, 0.2, 0.25, 0.3, 0.35], \"y\": [0.1661, 0.1259, 0.0842, 0.0538, 0.0309, 0.0152, 0.0, -0.0114, -0.0148, -0.0121, 0.0038, 0.0177, 0.0349, null], \"yaxis\": \"y2\", \"type\": \"scatter\", \"xaxis\": \"x2\"}, {\"legendgroup\": \"chart (1, 2)\", \"name\": \"chart (1, 2) 20190312\", \"uid\": \"2d21b54c-fff6-11e9-b943-8c859025e7f9\", \"x\": [-0.3, -0.25, -0.2, -0.15, -0.1, -0.05, 0.0, 0.05, 0.1, 0.15, 0.2, 0.25, 0.3, 0.35], \"y\": [0.1735, 0.1214, 0.0849, 0.0526, 0.0329, 0.0162, 0.0, -0.0089, -0.0145, -0.0091, 0.0016, 0.0248, 0.0388, null], \"yaxis\": \"y2\", \"type\": \"scatter\", \"xaxis\": \"x2\"}, {\"legendgroup\": \"chart (1, 2)\", \"name\": \"chart (1, 2) 20190313\", \"uid\": \"2d222090-fff6-11e9-8da3-8c859025e7f9\", \"x\": [-0.3, -0.25, -0.2, -0.15, -0.1, -0.05, 0.0, 0.05, 0.1, 0.15, 0.2, 0.25, 0.3, 0.35], \"y\": [0.1782, 0.1301, 0.0879, 0.0533, 0.0309, 0.0135, 0.0, -0.0118, -0.0146, -0.0109, 0.0059, 0.0309, 0.045, null], \"yaxis\": \"y2\", \"type\": \"scatter\", \"xaxis\": \"x2\"}, {\"legendgroup\": \"chart (1, 2)\", \"name\": \"chart (1, 2) 20190314\", \"uid\": \"2d22a2e8-fff6-11e9-980e-8c859025e7f9\", \"x\": [-0.3, -0.25, -0.2, -0.15, -0.1, -0.05, 0.0, 0.05, 0.1, 0.15, 0.2, 0.25, 0.3, 0.35], \"y\": [0.1731, 0.1411, 0.0994, 0.0597, 0.0348, 0.0176, 0.0, -0.0068, -0.0104, -0.0063, 0.0117, 0.0319, 0.059, null], \"yaxis\": \"y2\", \"type\": \"scatter\", \"xaxis\": \"x2\"}, {\"legendgroup\": \"chart (2, 1)\", \"name\": \"chart (2, 1) 20190315\", \"uid\": \"2d23ac62-fff6-11e9-bc75-8c859025e7f9\", \"x\": [-0.3, -0.25, -0.2, -0.15, -0.1, -0.05, 0.0, 0.05, 0.1, 0.15, 0.2, 0.25, 0.3, 0.35], \"y\": [0.2044, 0.1518, 0.1059, 0.0654, 0.0405, 0.0183, 0.0, -0.0104, -0.0132, -0.0065, 0.0119, 0.0381, 0.0659, null], \"yaxis\": \"y3\", \"type\": \"scatter\", \"xaxis\": \"x3\"}, {\"legendgroup\": \"chart (2, 1)\", \"name\": \"chart (2, 1) 20190318\", \"uid\": \"2d241f58-fff6-11e9-a170-8c859025e7f9\", \"x\": [-0.3, -0.25, -0.2, -0.15, -0.1, -0.05, 0.0, 0.05, 0.1, 0.15, 0.2, 0.25, 0.3, 0.35], \"y\": [0.1987, 0.1623, 0.1107, 0.0692, 0.0404, 0.0146, 0.0, -0.0159, -0.0179, -0.0094, 0.0097, 0.0455, 0.0728, null], \"yaxis\": \"y3\", \"type\": \"scatter\", \"xaxis\": \"x3\"}, {\"legendgroup\": \"chart (2, 1)\", \"name\": \"chart (2, 1) 20190319\", \"uid\": \"2d24b440-fff6-11e9-864c-8c859025e7f9\", \"x\": [-0.3, -0.25, -0.2, -0.15, -0.1, -0.05, 0.0, 0.05, 0.1, 0.15, 0.2, 0.25, 0.3, 0.35], \"y\": [0.2207, 0.1642, 0.1185, 0.0861, 0.0506, 0.0217, 0.0, -0.0179, -0.0207, -0.0164, -0.003, 0.0283, 0.0476, null], \"yaxis\": \"y3\", \"type\": \"scatter\", \"xaxis\": \"x3\"}, {\"legendgroup\": \"chart (2, 1)\", \"name\": \"chart (2, 1) 20190320\", \"uid\": \"2d254842-fff6-11e9-b5d3-8c859025e7f9\", \"x\": [-0.3, -0.25, -0.2, -0.15, -0.1, -0.05, 0.0, 0.05, 0.1, 0.15, 0.2, 0.25, 0.3, 0.35], \"y\": [0.2218, 0.1646, 0.114, 0.0811, 0.049, 0.0193, 0.0, -0.02, -0.0198, -0.0072, 0.0067, 0.0328, 0.0732, null], \"yaxis\": \"y3\", \"type\": \"scatter\", \"xaxis\": \"x3\"}, {\"legendgroup\": \"chart (2, 1)\", \"name\": \"chart (2, 1) 20190321\", \"uid\": \"2d25b6c6-fff6-11e9-959b-8c859025e7f9\", \"x\": [-0.3, -0.25, -0.2, -0.15, -0.1, -0.05, 0.0, 0.05, 0.1, 0.15, 0.2, 0.25, 0.3, 0.35], \"y\": [0.2197, 0.1727, 0.1305, 0.0947, 0.0566, 0.0265, 0.0, -0.012, -0.0107, -0.0002, 0.0222, 0.0494, 0.0702, null], \"yaxis\": \"y3\", \"type\": \"scatter\", \"xaxis\": \"x3\"}, {\"legendgroup\": \"chart (2, 2)\", \"name\": \"chart (2, 2) 20190322\", \"uid\": \"2d26c636-fff6-11e9-89ab-8c859025e7f9\", \"x\": [-0.3, -0.25, -0.2, -0.15, -0.1, -0.05, 0.0, 0.05, 0.1, 0.15, 0.2, 0.25, 0.3, 0.35], \"y\": [0.2151, 0.185, 0.1301, 0.09, 0.0543, 0.0221, 0.0, -0.019, -0.022, -0.0118, 0.0079, 0.0437, 0.0634, null], \"yaxis\": \"y4\", \"type\": \"scatter\", \"xaxis\": \"x4\"}, {\"legendgroup\": \"chart (2, 2)\", \"name\": \"chart (2, 2) 20190325\", \"uid\": \"2d2734a4-fff6-11e9-93b0-8c859025e7f9\", \"x\": [-0.3, -0.25, -0.2, -0.15, -0.1, -0.05, 0.0, 0.05, 0.1, 0.15, 0.2, 0.25, 0.3, 0.35], \"y\": [0.2345, 0.2042, 0.1469, 0.1021, 0.0589, 0.0221, 0.0, -0.0198, -0.0209, -0.0097, 0.0145, 0.0304, 0.0762, null], \"yaxis\": \"y4\", \"type\": \"scatter\", \"xaxis\": \"x4\"}, {\"legendgroup\": \"chart (2, 2)\", \"name\": \"chart (2, 2) 20190326\", \"uid\": \"2d27a6dc-fff6-11e9-b39a-8c859025e7f9\", \"x\": [-0.3, -0.25, -0.2, -0.15, -0.1, -0.05, 0.0, 0.05, 0.1, 0.15, 0.2, 0.25, 0.3, 0.35], \"y\": [0.2489, 0.2002, 0.14, 0.1011, 0.0591, 0.0235, 0.0, -0.0176, -0.017, -0.005, 0.014, 0.0396, 0.0854, null], \"yaxis\": \"y4\", \"type\": \"scatter\", \"xaxis\": \"x4\"}, {\"legendgroup\": \"chart (2, 2)\", \"name\": \"chart (2, 2) 20190327\", \"uid\": \"2d28109a-fff6-11e9-94ff-8c859025e7f9\", \"x\": [-0.3, -0.25, -0.2, -0.15, -0.1, -0.05, 0.0, 0.05, 0.1, 0.15, 0.2, 0.25, 0.3, 0.35], \"y\": [0.2619, 0.2099, 0.1471, 0.0989, 0.0566, 0.022, 0.0, -0.0191, -0.0201, 0.0001, 0.0221, 0.0493, 0.0962, null], \"yaxis\": \"y4\", \"type\": \"scatter\", \"xaxis\": \"x4\"}, {\"legendgroup\": \"chart (2, 2)\", \"name\": \"chart (2, 2) 20190328\", \"uid\": \"2d287e18-fff6-11e9-99c0-8c859025e7f9\", \"x\": [-0.3, -0.25, -0.2, -0.15, -0.1, -0.05, 0.0, 0.05, 0.1, 0.15, 0.2, 0.25, 0.3, 0.35], \"y\": [0.2419, 0.2043, 0.1526, 0.1053, 0.0604, 0.0286, 0.0, -0.0134, -0.0134, -0.0016, 0.0133, 0.0645, 0.1123, null], \"yaxis\": \"y4\", \"type\": \"scatter\", \"xaxis\": \"x4\"}], {\"annotations\": [{\"font\": {\"size\": 16}, \"showarrow\": false, \"text\": \"CBM19 20190301 - 20190307\", \"x\": 0.2275, \"xanchor\": \"center\", \"xref\": \"paper\", \"y\": 1.0, \"yanchor\": \"bottom\", \"yref\": \"paper\"}, {\"font\": {\"size\": 16}, \"showarrow\": false, \"text\": \"CBM19 20190308 - 20190314\", \"x\": 0.7725, \"xanchor\": \"center\", \"xref\": \"paper\", \"y\": 1.0, \"yanchor\": \"bottom\", \"yref\": \"paper\"}, {\"font\": {\"size\": 16}, \"showarrow\": false, \"text\": \"CBM19 20190315 - 20190321\", \"x\": 0.2275, \"xanchor\": \"center\", \"xref\": \"paper\", \"y\": 0.445, \"yanchor\": \"bottom\", \"yref\": \"paper\"}, {\"font\": {\"size\": 16}, \"showarrow\": false, \"text\": \"CBM19 20190322 - 20190328\", \"x\": 0.7725, \"xanchor\": \"center\", \"xref\": \"paper\", \"y\": 0.445, \"yanchor\": \"bottom\", \"yref\": \"paper\"}], \"xaxis\": {\"anchor\": \"y\", \"domain\": [0.0, 0.455], \"tickangle\": 45, \"ticktext\": [-0.3, -0.25, -0.2, -0.15, -0.1, -0.05, 0.0, 0.05, 0.1, 0.15, 0.2, 0.25, 0.3, 0.35], \"tickvals\": [-0.3, -0.25, -0.2, -0.15, -0.1, -0.05, 0.0, 0.05, 0.1, 0.15, 0.2, 0.25, 0.3, 0.35], \"type\": \"category\"}, \"yaxis\": {\"anchor\": \"x\", \"domain\": [0.555, 1.0], \"title\": \"vol skew\"}, \"xaxis2\": {\"anchor\": \"y2\", \"domain\": [0.545, 1.0], \"tickangle\": 45, \"ticktext\": [-0.3, -0.25, -0.2, -0.15, -0.1, -0.05, 0.0, 0.05, 0.1, 0.15, 0.2, 0.25, 0.3, 0.35], \"tickvals\": [-0.3, -0.25, -0.2, -0.15, -0.1, -0.05, 0.0, 0.05, 0.1, 0.15, 0.2, 0.25, 0.3, 0.35], \"type\": \"category\"}, \"yaxis2\": {\"anchor\": \"x2\", \"domain\": [0.555, 1.0], \"title\": \"vol skew\"}, \"xaxis3\": {\"anchor\": \"y3\", \"domain\": [0.0, 0.455], \"tickangle\": 45, \"ticktext\": [-0.3, -0.25, -0.2, -0.15, -0.1, -0.05, 0.0, 0.05, 0.1, 0.15, 0.2, 0.25, 0.3, 0.35], \"tickvals\": [-0.3, -0.25, -0.2, -0.15, -0.1, -0.05, 0.0, 0.05, 0.1, 0.15, 0.2, 0.25, 0.3, 0.35], \"type\": \"category\"}, \"yaxis3\": {\"anchor\": \"x3\", \"domain\": [0.0, 0.445], \"title\": \"vol skew\"}, \"xaxis4\": {\"anchor\": \"y4\", \"domain\": [0.545, 1.0], \"tickangle\": 45, \"ticktext\": [-0.3, -0.25, -0.2, -0.15, -0.1, -0.05, 0.0, 0.05, 0.1, 0.15, 0.2, 0.25, 0.3, 0.35], \"tickvals\": [-0.3, -0.25, -0.2, -0.15, -0.1, -0.05, 0.0, 0.05, 0.1, 0.15, 0.2, 0.25, 0.3, 0.35], \"type\": \"category\"}, \"yaxis4\": {\"anchor\": \"x4\", \"domain\": [0.0, 0.445], \"title\": \"vol skew\"}, \"font\": {\"family\": \"Open Sans, sans-serif\"}, \"margin\": {\"b\": 55, \"l\": 45, \"r\": 15, \"t\": 50}, \"title\": \"Skew plots<br>\", \"showlegend\": true, \"hovermode\": \"x\", \"autosize\": true, \"width\": 900, \"height\": 800, \"plot_bgcolor\": \"#EFECEA\", \"bargap\": 0.05}, {\"showLink\": true, \"linkText\": \"Export to plot.ly\"})});</script>"
      ]
     },
     "metadata": {},
     "output_type": "display_data"
    },
    {
     "data": {
      "application/vnd.plotly.v1+json": {
       "data": [
        {
         "legendgroup": "chart (1, 1)",
         "name": "chart (1, 1) 20190329",
         "type": "scatter",
         "uid": "2d32649e-fff6-11e9-8b18-8c859025e7f9",
         "x": [
          -0.3,
          -0.25,
          -0.2,
          -0.15,
          -0.1,
          -0.05,
          0,
          0.05,
          0.1,
          0.15,
          0.2,
          0.25,
          0.3,
          0.35
         ],
         "xaxis": "x",
         "y": [
          0.2668,
          0.209,
          0.1583,
          0.1134,
          0.066,
          0.0272,
          0,
          -0.0126,
          -0.0076,
          0.0118,
          0.0344,
          0.0857,
          0.1343,
          null
         ],
         "yaxis": "y"
        }
       ],
       "layout": {
        "annotations": [
         {
          "font": {
           "size": 16
          },
          "showarrow": false,
          "text": "CBM19 20190329 - 20190329",
          "x": 0.2275,
          "xanchor": "center",
          "xref": "paper",
          "y": 1,
          "yanchor": "bottom",
          "yref": "paper"
         }
        ],
        "autosize": true,
        "bargap": 0.05,
        "font": {
         "family": "Open Sans, sans-serif"
        },
        "height": 800,
        "hovermode": "x",
        "margin": {
         "b": 55,
         "l": 45,
         "r": 15,
         "t": 50
        },
        "plot_bgcolor": "#EFECEA",
        "showlegend": true,
        "title": "Skew plots<br>",
        "width": 900,
        "xaxis": {
         "anchor": "y",
         "domain": [
          0,
          0.455
         ],
         "tickangle": 45,
         "ticktext": [
          -0.3,
          -0.25,
          -0.2,
          -0.15,
          -0.1,
          -0.05,
          0,
          0.05,
          0.1,
          0.15,
          0.2,
          0.25,
          0.3,
          0.35
         ],
         "tickvals": [
          -0.3,
          -0.25,
          -0.2,
          -0.15,
          -0.1,
          -0.05,
          0,
          0.05,
          0.1,
          0.15,
          0.2,
          0.25,
          0.3,
          0.35
         ],
         "type": "category"
        },
        "xaxis2": {
         "anchor": "y2",
         "domain": [
          0.545,
          1
         ]
        },
        "xaxis3": {
         "anchor": "y3",
         "domain": [
          0,
          0.455
         ]
        },
        "xaxis4": {
         "anchor": "y4",
         "domain": [
          0.545,
          1
         ]
        },
        "yaxis": {
         "anchor": "x",
         "domain": [
          0.555,
          1
         ],
         "title": "vol skew"
        },
        "yaxis2": {
         "anchor": "x2",
         "domain": [
          0.555,
          1
         ]
        },
        "yaxis3": {
         "anchor": "x3",
         "domain": [
          0,
          0.445
         ]
        },
        "yaxis4": {
         "anchor": "x4",
         "domain": [
          0,
          0.445
         ]
        }
       }
      },
      "text/html": [
       "<div id=\"9c6bd268-9178-461b-a103-d288e2755d92\" style=\"height: 800px; width: 900px;\" class=\"plotly-graph-div\"></div><script type=\"text/javascript\">require([\"plotly\"], function(Plotly) { window.PLOTLYENV=window.PLOTLYENV || {};window.PLOTLYENV.BASE_URL=\"https://plot.ly\";Plotly.newPlot(\"9c6bd268-9178-461b-a103-d288e2755d92\", [{\"legendgroup\": \"chart (1, 1)\", \"name\": \"chart (1, 1) 20190329\", \"uid\": \"2d32649e-fff6-11e9-8b18-8c859025e7f9\", \"x\": [-0.3, -0.25, -0.2, -0.15, -0.1, -0.05, 0.0, 0.05, 0.1, 0.15, 0.2, 0.25, 0.3, 0.35], \"y\": [0.2668, 0.209, 0.1583, 0.1134, 0.066, 0.0272, 0.0, -0.0126, -0.0076, 0.0118, 0.0344, 0.0857, 0.1343, null], \"yaxis\": \"y\", \"type\": \"scatter\", \"xaxis\": \"x\"}], {\"annotations\": [{\"font\": {\"size\": 16}, \"showarrow\": false, \"text\": \"CBM19 20190329 - 20190329\", \"x\": 0.2275, \"xanchor\": \"center\", \"xref\": \"paper\", \"y\": 1.0, \"yanchor\": \"bottom\", \"yref\": \"paper\"}], \"xaxis\": {\"anchor\": \"y\", \"domain\": [0.0, 0.455], \"tickangle\": 45, \"ticktext\": [-0.3, -0.25, -0.2, -0.15, -0.1, -0.05, 0.0, 0.05, 0.1, 0.15, 0.2, 0.25, 0.3, 0.35], \"tickvals\": [-0.3, -0.25, -0.2, -0.15, -0.1, -0.05, 0.0, 0.05, 0.1, 0.15, 0.2, 0.25, 0.3, 0.35], \"type\": \"category\"}, \"yaxis\": {\"anchor\": \"x\", \"domain\": [0.555, 1.0], \"title\": \"vol skew\"}, \"xaxis2\": {\"anchor\": \"y2\", \"domain\": [0.545, 1.0]}, \"yaxis2\": {\"anchor\": \"x2\", \"domain\": [0.555, 1.0]}, \"xaxis3\": {\"anchor\": \"y3\", \"domain\": [0.0, 0.455]}, \"yaxis3\": {\"anchor\": \"x3\", \"domain\": [0.0, 0.445]}, \"xaxis4\": {\"anchor\": \"y4\", \"domain\": [0.545, 1.0]}, \"yaxis4\": {\"anchor\": \"x4\", \"domain\": [0.0, 0.445]}, \"font\": {\"family\": \"Open Sans, sans-serif\"}, \"margin\": {\"b\": 55, \"l\": 45, \"r\": 15, \"t\": 50}, \"title\": \"Skew plots<br>\", \"showlegend\": true, \"hovermode\": \"x\", \"autosize\": true, \"width\": 900, \"height\": 800, \"plot_bgcolor\": \"#EFECEA\", \"bargap\": 0.05}, {\"showLink\": true, \"linkText\": \"Export to plot.ly\"})});</script>"
      ],
      "text/vnd.plotly.v1+html": [
       "<div id=\"9c6bd268-9178-461b-a103-d288e2755d92\" style=\"height: 800px; width: 900px;\" class=\"plotly-graph-div\"></div><script type=\"text/javascript\">require([\"plotly\"], function(Plotly) { window.PLOTLYENV=window.PLOTLYENV || {};window.PLOTLYENV.BASE_URL=\"https://plot.ly\";Plotly.newPlot(\"9c6bd268-9178-461b-a103-d288e2755d92\", [{\"legendgroup\": \"chart (1, 1)\", \"name\": \"chart (1, 1) 20190329\", \"uid\": \"2d32649e-fff6-11e9-8b18-8c859025e7f9\", \"x\": [-0.3, -0.25, -0.2, -0.15, -0.1, -0.05, 0.0, 0.05, 0.1, 0.15, 0.2, 0.25, 0.3, 0.35], \"y\": [0.2668, 0.209, 0.1583, 0.1134, 0.066, 0.0272, 0.0, -0.0126, -0.0076, 0.0118, 0.0344, 0.0857, 0.1343, null], \"yaxis\": \"y\", \"type\": \"scatter\", \"xaxis\": \"x\"}], {\"annotations\": [{\"font\": {\"size\": 16}, \"showarrow\": false, \"text\": \"CBM19 20190329 - 20190329\", \"x\": 0.2275, \"xanchor\": \"center\", \"xref\": \"paper\", \"y\": 1.0, \"yanchor\": \"bottom\", \"yref\": \"paper\"}], \"xaxis\": {\"anchor\": \"y\", \"domain\": [0.0, 0.455], \"tickangle\": 45, \"ticktext\": [-0.3, -0.25, -0.2, -0.15, -0.1, -0.05, 0.0, 0.05, 0.1, 0.15, 0.2, 0.25, 0.3, 0.35], \"tickvals\": [-0.3, -0.25, -0.2, -0.15, -0.1, -0.05, 0.0, 0.05, 0.1, 0.15, 0.2, 0.25, 0.3, 0.35], \"type\": \"category\"}, \"yaxis\": {\"anchor\": \"x\", \"domain\": [0.555, 1.0], \"title\": \"vol skew\"}, \"xaxis2\": {\"anchor\": \"y2\", \"domain\": [0.545, 1.0]}, \"yaxis2\": {\"anchor\": \"x2\", \"domain\": [0.555, 1.0]}, \"xaxis3\": {\"anchor\": \"y3\", \"domain\": [0.0, 0.455]}, \"yaxis3\": {\"anchor\": \"x3\", \"domain\": [0.0, 0.445]}, \"xaxis4\": {\"anchor\": \"y4\", \"domain\": [0.545, 1.0]}, \"yaxis4\": {\"anchor\": \"x4\", \"domain\": [0.0, 0.445]}, \"font\": {\"family\": \"Open Sans, sans-serif\"}, \"margin\": {\"b\": 55, \"l\": 45, \"r\": 15, \"t\": 50}, \"title\": \"Skew plots<br>\", \"showlegend\": true, \"hovermode\": \"x\", \"autosize\": true, \"width\": 900, \"height\": 800, \"plot_bgcolor\": \"#EFECEA\", \"bargap\": 0.05}, {\"showLink\": true, \"linkText\": \"Export to plot.ly\"})});</script>"
      ]
     },
     "metadata": {},
     "output_type": "display_data"
    },
    {
     "data": {
      "application/vnd.plotly.v1+json": {
       "data": [
        {
         "legendgroup": "chart (1, 1)",
         "name": "chart (1, 1) 20190401",
         "type": "scatter",
         "uid": "2d9e3dc6-fff6-11e9-ad48-8c859025e7f9",
         "x": [
          -0.3,
          -0.25,
          -0.2,
          -0.15,
          -0.1,
          -0.05,
          0,
          0.05,
          0.1,
          0.15,
          0.2,
          0.25,
          0.3,
          0.35
         ],
         "xaxis": "x",
         "y": [
          0.1723,
          0.1318,
          0.1004,
          0.0691,
          0.0423,
          0.0195,
          0,
          -0.0102,
          -0.015,
          -0.0118,
          0.0012,
          0.0176,
          0.04,
          0.0611
         ],
         "yaxis": "y"
        },
        {
         "legendgroup": "chart (1, 1)",
         "name": "chart (1, 1) 20190402",
         "type": "scatter",
         "uid": "2d9eb038-fff6-11e9-af3a-8c859025e7f9",
         "x": [
          -0.3,
          -0.25,
          -0.2,
          -0.15,
          -0.1,
          -0.05,
          0,
          0.05,
          0.1,
          0.15,
          0.2,
          0.25,
          0.3,
          0.35
         ],
         "xaxis": "x",
         "y": [
          0.1767,
          0.1377,
          0.1003,
          0.0677,
          0.0383,
          0.016,
          0,
          -0.0126,
          -0.0156,
          -0.0127,
          0.0029,
          0.023,
          0.044,
          0.0623
         ],
         "yaxis": "y"
        },
        {
         "legendgroup": "chart (1, 1)",
         "name": "chart (1, 1) 20190403",
         "type": "scatter",
         "uid": "2d9f5c7a-fff6-11e9-a09e-8c859025e7f9",
         "x": [
          -0.3,
          -0.25,
          -0.2,
          -0.15,
          -0.1,
          -0.05,
          0,
          0.05,
          0.1,
          0.15,
          0.2,
          0.25,
          0.3,
          0.35
         ],
         "xaxis": "x",
         "y": [
          0.1873,
          0.1471,
          0.1103,
          0.0747,
          0.0425,
          0.0171,
          0,
          -0.0142,
          -0.0175,
          -0.014,
          0.0006,
          0.0139,
          0.0369,
          0.0716
         ],
         "yaxis": "y"
        },
        {
         "legendgroup": "chart (1, 1)",
         "name": "chart (1, 1) 20190404",
         "type": "scatter",
         "uid": "2da0bd88-fff6-11e9-b9f6-8c859025e7f9",
         "x": [
          -0.3,
          -0.25,
          -0.2,
          -0.15,
          -0.1,
          -0.05,
          0,
          0.05,
          0.1,
          0.15,
          0.2,
          0.25,
          0.3,
          0.35
         ],
         "xaxis": "x",
         "y": [
          0.1968,
          0.1551,
          0.1156,
          0.0755,
          0.0459,
          0.0199,
          0,
          -0.0129,
          -0.0157,
          -0.0104,
          0.0044,
          0.024,
          0.0497,
          0.0621
         ],
         "yaxis": "y"
        },
        {
         "legendgroup": "chart (1, 1)",
         "name": "chart (1, 1) 20190405",
         "type": "scatter",
         "uid": "2da13d94-fff6-11e9-8676-8c859025e7f9",
         "x": [
          -0.3,
          -0.25,
          -0.2,
          -0.15,
          -0.1,
          -0.05,
          0,
          0.05,
          0.1,
          0.15,
          0.2,
          0.25,
          0.3,
          0.35
         ],
         "xaxis": "x",
         "y": [
          0.1945,
          0.1467,
          0.1119,
          0.0742,
          0.0443,
          0.0184,
          0,
          -0.013,
          -0.0138,
          -0.0068,
          0.0111,
          0.0299,
          0.0597,
          0.0705
         ],
         "yaxis": "y"
        },
        {
         "legendgroup": "chart (1, 2)",
         "name": "chart (1, 2) 20190408",
         "type": "scatter",
         "uid": "2da2a45e-fff6-11e9-8126-8c859025e7f9",
         "x": [
          -0.3,
          -0.25,
          -0.2,
          -0.15,
          -0.1,
          -0.05,
          0,
          0.05,
          0.1,
          0.15,
          0.2,
          0.25,
          0.3,
          0.35
         ],
         "xaxis": "x2",
         "y": [
          0.2113,
          0.1702,
          0.1219,
          0.0838,
          0.0484,
          0.0217,
          0,
          -0.0097,
          -0.0073,
          0.0024,
          0.0213,
          0.0415,
          0.0666,
          0.0977
         ],
         "yaxis": "y2"
        },
        {
         "legendgroup": "chart (1, 2)",
         "name": "chart (1, 2) 20190409",
         "type": "scatter",
         "uid": "2da3864c-fff6-11e9-81b4-8c859025e7f9",
         "x": [
          -0.3,
          -0.25,
          -0.2,
          -0.15,
          -0.1,
          -0.05,
          0,
          0.05,
          0.1,
          0.15,
          0.2,
          0.25,
          0.3,
          0.35
         ],
         "xaxis": "x2",
         "y": [
          0.2223,
          0.1742,
          0.1292,
          0.0892,
          0.0539,
          0.025,
          0,
          -0.0107,
          -0.0076,
          0.004,
          0.0208,
          0.0445,
          0.0672,
          0.1049
         ],
         "yaxis": "y2"
        },
        {
         "legendgroup": "chart (1, 2)",
         "name": "chart (1, 2) 20190410",
         "type": "scatter",
         "uid": "2da44d74-fff6-11e9-8937-8c859025e7f9",
         "x": [
          -0.3,
          -0.25,
          -0.2,
          -0.15,
          -0.1,
          -0.05,
          0,
          0.05,
          0.1,
          0.15,
          0.2,
          0.25,
          0.3,
          0.35
         ],
         "xaxis": "x2",
         "y": [
          0.2106,
          0.1701,
          0.1251,
          0.0841,
          0.0474,
          0.0187,
          0,
          -0.0119,
          -0.0066,
          0.0061,
          0.0272,
          0.0531,
          0.0723,
          null
         ],
         "yaxis": "y2"
        },
        {
         "legendgroup": "chart (1, 2)",
         "name": "chart (1, 2) 20190411",
         "type": "scatter",
         "uid": "2da58192-fff6-11e9-874e-8c859025e7f9",
         "x": [
          -0.3,
          -0.25,
          -0.2,
          -0.15,
          -0.1,
          -0.05,
          0,
          0.05,
          0.1,
          0.15,
          0.2,
          0.25,
          0.3,
          0.35
         ],
         "xaxis": "x2",
         "y": [
          0.2131,
          0.1716,
          0.1265,
          0.0862,
          0.0505,
          0.0212,
          0,
          -0.0126,
          -0.0117,
          -0.0003,
          0.0219,
          null,
          0.0647,
          0.1023
         ],
         "yaxis": "y2"
        },
        {
         "legendgroup": "chart (1, 2)",
         "name": "chart (1, 2) 20190412",
         "type": "scatter",
         "uid": "2da66d00-fff6-11e9-9ca2-8c859025e7f9",
         "x": [
          -0.3,
          -0.25,
          -0.2,
          -0.15,
          -0.1,
          -0.05,
          0,
          0.05,
          0.1,
          0.15,
          0.2,
          0.25,
          0.3,
          0.35
         ],
         "xaxis": "x2",
         "y": [
          0.2227,
          0.1735,
          0.1309,
          0.0904,
          0.0514,
          0.0217,
          0,
          -0.0098,
          -0.0049,
          0.0094,
          0.0348,
          0.0541,
          0.0805,
          0.1175
         ],
         "yaxis": "y2"
        },
        {
         "legendgroup": "chart (2, 1)",
         "name": "chart (2, 1) 20190415",
         "type": "scatter",
         "uid": "2da81ccc-fff6-11e9-a7a2-8c859025e7f9",
         "x": [
          -0.3,
          -0.25,
          -0.2,
          -0.15,
          -0.1,
          -0.05,
          0,
          0.05,
          0.1,
          0.15,
          0.2,
          0.25,
          0.3,
          0.35
         ],
         "xaxis": "x3",
         "y": [
          0.2337,
          0.1867,
          0.1325,
          0.0869,
          0.0494,
          0.0189,
          0,
          -0.013,
          -0.0068,
          0.0072,
          0.0296,
          0.0563,
          0.083,
          0.092
         ],
         "yaxis": "y3"
        },
        {
         "legendgroup": "chart (2, 1)",
         "name": "chart (2, 1) 20190416",
         "type": "scatter",
         "uid": "2da8d89c-fff6-11e9-a46f-8c859025e7f9",
         "x": [
          -0.3,
          -0.25,
          -0.2,
          -0.15,
          -0.1,
          -0.05,
          0,
          0.05,
          0.1,
          0.15,
          0.2,
          0.25,
          0.3,
          0.35
         ],
         "xaxis": "x3",
         "y": [
          0.2439,
          0.1896,
          0.1405,
          0.0939,
          0.0523,
          0.0196,
          0,
          -0.0129,
          -0.0062,
          0.0102,
          0.0347,
          0.0651,
          0.0916,
          null
         ],
         "yaxis": "y3"
        },
        {
         "legendgroup": "chart (2, 1)",
         "name": "chart (2, 1) 20190417",
         "type": "scatter",
         "uid": "2da976ba-fff6-11e9-8da9-8c859025e7f9",
         "x": [
          -0.3,
          -0.25,
          -0.2,
          -0.15,
          -0.1,
          -0.05,
          0,
          0.05,
          0.1,
          0.15,
          0.2,
          0.25,
          0.3,
          0.35
         ],
         "xaxis": "x3",
         "y": [
          0.2575,
          0.2051,
          0.1492,
          0.1037,
          0.0574,
          0.0227,
          0,
          -0.0059,
          0.0024,
          0.0193,
          0.0411,
          0.0659,
          0.097,
          0.1198
         ],
         "yaxis": "y3"
        },
        {
         "legendgroup": "chart (2, 1)",
         "name": "chart (2, 1) 20190418",
         "type": "scatter",
         "uid": "2daa1362-fff6-11e9-a65a-8c859025e7f9",
         "x": [
          -0.3,
          -0.25,
          -0.2,
          -0.15,
          -0.1,
          -0.05,
          0,
          0.05,
          0.1,
          0.15,
          0.2,
          0.25,
          0.3,
          0.35
         ],
         "xaxis": "x3",
         "y": [
          0.2527,
          0.2001,
          0.1516,
          0.1002,
          0.0574,
          0.0204,
          0,
          -0.0086,
          -0.0008,
          0.022,
          0.0503,
          0.0705,
          0.0926,
          null
         ],
         "yaxis": "y3"
        },
        {
         "legendgroup": "chart (2, 1)",
         "name": "chart (2, 1) 20190422",
         "type": "scatter",
         "uid": "2daabfc2-fff6-11e9-aaac-8c859025e7f9",
         "x": [
          -0.3,
          -0.25,
          -0.2,
          -0.15,
          -0.1,
          -0.05,
          0,
          0.05,
          0.1,
          0.15,
          0.2,
          0.25,
          0.3,
          0.35
         ],
         "xaxis": "x3",
         "y": [
          0.239,
          0.1779,
          0.1295,
          0.0744,
          0.0312,
          0.009,
          0,
          -0.0025,
          0.0062,
          0.0243,
          0.0502,
          0.0735,
          0.0998,
          null
         ],
         "yaxis": "y3"
        },
        {
         "legendgroup": "chart (2, 2)",
         "name": "chart (2, 2) 20190423",
         "type": "scatter",
         "uid": "2dabde02-fff6-11e9-a18e-8c859025e7f9",
         "x": [
          -0.3,
          -0.25,
          -0.2,
          -0.15,
          -0.1,
          -0.05,
          0,
          0.05,
          0.1,
          0.15,
          0.2,
          0.25,
          0.3,
          0.35
         ],
         "xaxis": "x4",
         "y": [
          0.2524,
          0.1949,
          0.1359,
          0.0794,
          0.0327,
          0.0076,
          0,
          0.0016,
          0.015,
          0.0347,
          0.0618,
          0.0865,
          null,
          null
         ],
         "yaxis": "y4"
        },
        {
         "legendgroup": "chart (2, 2)",
         "name": "chart (2, 2) 20190424",
         "type": "scatter",
         "uid": "2dac6d36-fff6-11e9-a21b-8c859025e7f9",
         "x": [
          -0.3,
          -0.25,
          -0.2,
          -0.15,
          -0.1,
          -0.05,
          0,
          0.05,
          0.1,
          0.15,
          0.2,
          0.25,
          0.3,
          0.35
         ],
         "xaxis": "x4",
         "y": [
          0.2766,
          0.2158,
          0.1504,
          0.0968,
          0.0455,
          0.0124,
          0,
          -0.0027,
          0.012,
          0.0389,
          0.0594,
          0.0925,
          0.1262,
          null
         ],
         "yaxis": "y4"
        },
        {
         "legendgroup": "chart (2, 2)",
         "name": "chart (2, 2) 20190425",
         "type": "scatter",
         "uid": "2dace8ec-fff6-11e9-a3a1-8c859025e7f9",
         "x": [
          -0.3,
          -0.25,
          -0.2,
          -0.15,
          -0.1,
          -0.05,
          0,
          0.05,
          0.1,
          0.15,
          0.2,
          0.25,
          0.3,
          0.35
         ],
         "xaxis": "x4",
         "y": [
          0.2862,
          0.2195,
          0.1573,
          0.1038,
          0.0539,
          0.019,
          0,
          0.0014,
          0.0167,
          0.0375,
          0.0698,
          0.0872,
          0.1182,
          null
         ],
         "yaxis": "y4"
        },
        {
         "legendgroup": "chart (2, 2)",
         "name": "chart (2, 2) 20190426",
         "type": "scatter",
         "uid": "2dad6380-fff6-11e9-91b7-8c859025e7f9",
         "x": [
          -0.3,
          -0.25,
          -0.2,
          -0.15,
          -0.1,
          -0.05,
          0,
          0.05,
          0.1,
          0.15,
          0.2,
          0.25,
          0.3,
          0.35
         ],
         "xaxis": "x4",
         "y": [
          0.302,
          0.2336,
          0.1809,
          0.1196,
          0.069,
          0.03,
          0,
          -0.01,
          -0.0042,
          0.014,
          0.0373,
          0.061,
          0.082,
          null
         ],
         "yaxis": "y4"
        },
        {
         "legendgroup": "chart (2, 2)",
         "name": "chart (2, 2) 20190429",
         "type": "scatter",
         "uid": "2dade288-fff6-11e9-9f2f-8c859025e7f9",
         "x": [
          -0.3,
          -0.25,
          -0.2,
          -0.15,
          -0.1,
          -0.05,
          0,
          0.05,
          0.1,
          0.15,
          0.2,
          0.25,
          0.3,
          0.35
         ],
         "xaxis": "x4",
         "y": [
          0.3147,
          0.2485,
          0.1917,
          0.1329,
          0.0745,
          0.0288,
          0,
          -0.0092,
          -0.0007,
          0.0197,
          0.0449,
          0.0699,
          0.1016,
          null
         ],
         "yaxis": "y4"
        }
       ],
       "layout": {
        "annotations": [
         {
          "font": {
           "size": 16
          },
          "showarrow": false,
          "text": "CBN19 20190401 - 20190405",
          "x": 0.2275,
          "xanchor": "center",
          "xref": "paper",
          "y": 1,
          "yanchor": "bottom",
          "yref": "paper"
         },
         {
          "font": {
           "size": 16
          },
          "showarrow": false,
          "text": "CBN19 20190408 - 20190412",
          "x": 0.7725,
          "xanchor": "center",
          "xref": "paper",
          "y": 1,
          "yanchor": "bottom",
          "yref": "paper"
         },
         {
          "font": {
           "size": 16
          },
          "showarrow": false,
          "text": "CBN19 20190415 - 20190422",
          "x": 0.2275,
          "xanchor": "center",
          "xref": "paper",
          "y": 0.445,
          "yanchor": "bottom",
          "yref": "paper"
         },
         {
          "font": {
           "size": 16
          },
          "showarrow": false,
          "text": "CBN19 20190423 - 20190429",
          "x": 0.7725,
          "xanchor": "center",
          "xref": "paper",
          "y": 0.445,
          "yanchor": "bottom",
          "yref": "paper"
         }
        ],
        "autosize": true,
        "bargap": 0.05,
        "font": {
         "family": "Open Sans, sans-serif"
        },
        "height": 800,
        "hovermode": "x",
        "margin": {
         "b": 55,
         "l": 45,
         "r": 15,
         "t": 50
        },
        "plot_bgcolor": "#EFECEA",
        "showlegend": true,
        "title": "Skew plots<br>",
        "width": 900,
        "xaxis": {
         "anchor": "y",
         "domain": [
          0,
          0.455
         ],
         "tickangle": 45,
         "ticktext": [
          -0.3,
          -0.25,
          -0.2,
          -0.15,
          -0.1,
          -0.05,
          0,
          0.05,
          0.1,
          0.15,
          0.2,
          0.25,
          0.3,
          0.35
         ],
         "tickvals": [
          -0.3,
          -0.25,
          -0.2,
          -0.15,
          -0.1,
          -0.05,
          0,
          0.05,
          0.1,
          0.15,
          0.2,
          0.25,
          0.3,
          0.35
         ],
         "type": "category"
        },
        "xaxis2": {
         "anchor": "y2",
         "domain": [
          0.545,
          1
         ],
         "tickangle": 45,
         "ticktext": [
          -0.3,
          -0.25,
          -0.2,
          -0.15,
          -0.1,
          -0.05,
          0,
          0.05,
          0.1,
          0.15,
          0.2,
          0.25,
          0.3,
          0.35
         ],
         "tickvals": [
          -0.3,
          -0.25,
          -0.2,
          -0.15,
          -0.1,
          -0.05,
          0,
          0.05,
          0.1,
          0.15,
          0.2,
          0.25,
          0.3,
          0.35
         ],
         "type": "category"
        },
        "xaxis3": {
         "anchor": "y3",
         "domain": [
          0,
          0.455
         ],
         "tickangle": 45,
         "ticktext": [
          -0.3,
          -0.25,
          -0.2,
          -0.15,
          -0.1,
          -0.05,
          0,
          0.05,
          0.1,
          0.15,
          0.2,
          0.25,
          0.3,
          0.35
         ],
         "tickvals": [
          -0.3,
          -0.25,
          -0.2,
          -0.15,
          -0.1,
          -0.05,
          0,
          0.05,
          0.1,
          0.15,
          0.2,
          0.25,
          0.3,
          0.35
         ],
         "type": "category"
        },
        "xaxis4": {
         "anchor": "y4",
         "domain": [
          0.545,
          1
         ],
         "tickangle": 45,
         "ticktext": [
          -0.3,
          -0.25,
          -0.2,
          -0.15,
          -0.1,
          -0.05,
          0,
          0.05,
          0.1,
          0.15,
          0.2,
          0.25,
          0.3,
          0.35
         ],
         "tickvals": [
          -0.3,
          -0.25,
          -0.2,
          -0.15,
          -0.1,
          -0.05,
          0,
          0.05,
          0.1,
          0.15,
          0.2,
          0.25,
          0.3,
          0.35
         ],
         "type": "category"
        },
        "yaxis": {
         "anchor": "x",
         "domain": [
          0.555,
          1
         ],
         "title": "vol skew"
        },
        "yaxis2": {
         "anchor": "x2",
         "domain": [
          0.555,
          1
         ],
         "title": "vol skew"
        },
        "yaxis3": {
         "anchor": "x3",
         "domain": [
          0,
          0.445
         ],
         "title": "vol skew"
        },
        "yaxis4": {
         "anchor": "x4",
         "domain": [
          0,
          0.445
         ],
         "title": "vol skew"
        }
       }
      },
      "text/html": [
       "<div id=\"c5f8c763-11a3-4a9d-9485-71d6e54e69ff\" style=\"height: 800px; width: 900px;\" class=\"plotly-graph-div\"></div><script type=\"text/javascript\">require([\"plotly\"], function(Plotly) { window.PLOTLYENV=window.PLOTLYENV || {};window.PLOTLYENV.BASE_URL=\"https://plot.ly\";Plotly.newPlot(\"c5f8c763-11a3-4a9d-9485-71d6e54e69ff\", [{\"legendgroup\": \"chart (1, 1)\", \"name\": \"chart (1, 1) 20190401\", \"uid\": \"2d9e3dc6-fff6-11e9-ad48-8c859025e7f9\", \"x\": [-0.3, -0.25, -0.2, -0.15, -0.1, -0.05, 0.0, 0.05, 0.1, 0.15, 0.2, 0.25, 0.3, 0.35], \"y\": [0.1723, 0.1318, 0.1004, 0.0691, 0.0423, 0.0195, 0.0, -0.0102, -0.015, -0.0118, 0.0012, 0.0176, 0.04, 0.0611], \"yaxis\": \"y\", \"type\": \"scatter\", \"xaxis\": \"x\"}, {\"legendgroup\": \"chart (1, 1)\", \"name\": \"chart (1, 1) 20190402\", \"uid\": \"2d9eb038-fff6-11e9-af3a-8c859025e7f9\", \"x\": [-0.3, -0.25, -0.2, -0.15, -0.1, -0.05, 0.0, 0.05, 0.1, 0.15, 0.2, 0.25, 0.3, 0.35], \"y\": [0.1767, 0.1377, 0.1003, 0.0677, 0.0383, 0.016, 0.0, -0.0126, -0.0156, -0.0127, 0.0029, 0.023, 0.044, 0.0623], \"yaxis\": \"y\", \"type\": \"scatter\", \"xaxis\": \"x\"}, {\"legendgroup\": \"chart (1, 1)\", \"name\": \"chart (1, 1) 20190403\", \"uid\": \"2d9f5c7a-fff6-11e9-a09e-8c859025e7f9\", \"x\": [-0.3, -0.25, -0.2, -0.15, -0.1, -0.05, 0.0, 0.05, 0.1, 0.15, 0.2, 0.25, 0.3, 0.35], \"y\": [0.1873, 0.1471, 0.1103, 0.0747, 0.0425, 0.0171, 0.0, -0.0142, -0.0175, -0.014, 0.0006, 0.0139, 0.0369, 0.0716], \"yaxis\": \"y\", \"type\": \"scatter\", \"xaxis\": \"x\"}, {\"legendgroup\": \"chart (1, 1)\", \"name\": \"chart (1, 1) 20190404\", \"uid\": \"2da0bd88-fff6-11e9-b9f6-8c859025e7f9\", \"x\": [-0.3, -0.25, -0.2, -0.15, -0.1, -0.05, 0.0, 0.05, 0.1, 0.15, 0.2, 0.25, 0.3, 0.35], \"y\": [0.1968, 0.1551, 0.1156, 0.0755, 0.0459, 0.0199, 0.0, -0.0129, -0.0157, -0.0104, 0.0044, 0.024, 0.0497, 0.0621], \"yaxis\": \"y\", \"type\": \"scatter\", \"xaxis\": \"x\"}, {\"legendgroup\": \"chart (1, 1)\", \"name\": \"chart (1, 1) 20190405\", \"uid\": \"2da13d94-fff6-11e9-8676-8c859025e7f9\", \"x\": [-0.3, -0.25, -0.2, -0.15, -0.1, -0.05, 0.0, 0.05, 0.1, 0.15, 0.2, 0.25, 0.3, 0.35], \"y\": [0.1945, 0.1467, 0.1119, 0.0742, 0.0443, 0.0184, 0.0, -0.013, -0.0138, -0.0068, 0.0111, 0.0299, 0.0597, 0.0705], \"yaxis\": \"y\", \"type\": \"scatter\", \"xaxis\": \"x\"}, {\"legendgroup\": \"chart (1, 2)\", \"name\": \"chart (1, 2) 20190408\", \"uid\": \"2da2a45e-fff6-11e9-8126-8c859025e7f9\", \"x\": [-0.3, -0.25, -0.2, -0.15, -0.1, -0.05, 0.0, 0.05, 0.1, 0.15, 0.2, 0.25, 0.3, 0.35], \"y\": [0.2113, 0.1702, 0.1219, 0.0838, 0.0484, 0.0217, 0.0, -0.0097, -0.0073, 0.0024, 0.0213, 0.0415, 0.0666, 0.0977], \"yaxis\": \"y2\", \"type\": \"scatter\", \"xaxis\": \"x2\"}, {\"legendgroup\": \"chart (1, 2)\", \"name\": \"chart (1, 2) 20190409\", \"uid\": \"2da3864c-fff6-11e9-81b4-8c859025e7f9\", \"x\": [-0.3, -0.25, -0.2, -0.15, -0.1, -0.05, 0.0, 0.05, 0.1, 0.15, 0.2, 0.25, 0.3, 0.35], \"y\": [0.2223, 0.1742, 0.1292, 0.0892, 0.0539, 0.025, 0.0, -0.0107, -0.0076, 0.004, 0.0208, 0.0445, 0.0672, 0.1049], \"yaxis\": \"y2\", \"type\": \"scatter\", \"xaxis\": \"x2\"}, {\"legendgroup\": \"chart (1, 2)\", \"name\": \"chart (1, 2) 20190410\", \"uid\": \"2da44d74-fff6-11e9-8937-8c859025e7f9\", \"x\": [-0.3, -0.25, -0.2, -0.15, -0.1, -0.05, 0.0, 0.05, 0.1, 0.15, 0.2, 0.25, 0.3, 0.35], \"y\": [0.2106, 0.1701, 0.1251, 0.0841, 0.0474, 0.0187, 0.0, -0.0119, -0.0066, 0.0061, 0.0272, 0.0531, 0.0723, null], \"yaxis\": \"y2\", \"type\": \"scatter\", \"xaxis\": \"x2\"}, {\"legendgroup\": \"chart (1, 2)\", \"name\": \"chart (1, 2) 20190411\", \"uid\": \"2da58192-fff6-11e9-874e-8c859025e7f9\", \"x\": [-0.3, -0.25, -0.2, -0.15, -0.1, -0.05, 0.0, 0.05, 0.1, 0.15, 0.2, 0.25, 0.3, 0.35], \"y\": [0.2131, 0.1716, 0.1265, 0.0862, 0.0505, 0.0212, 0.0, -0.0126, -0.0117, -0.0003, 0.0219, null, 0.0647, 0.1023], \"yaxis\": \"y2\", \"type\": \"scatter\", \"xaxis\": \"x2\"}, {\"legendgroup\": \"chart (1, 2)\", \"name\": \"chart (1, 2) 20190412\", \"uid\": \"2da66d00-fff6-11e9-9ca2-8c859025e7f9\", \"x\": [-0.3, -0.25, -0.2, -0.15, -0.1, -0.05, 0.0, 0.05, 0.1, 0.15, 0.2, 0.25, 0.3, 0.35], \"y\": [0.2227, 0.1735, 0.1309, 0.0904, 0.0514, 0.0217, 0.0, -0.0098, -0.0049, 0.0094, 0.0348, 0.0541, 0.0805, 0.1175], \"yaxis\": \"y2\", \"type\": \"scatter\", \"xaxis\": \"x2\"}, {\"legendgroup\": \"chart (2, 1)\", \"name\": \"chart (2, 1) 20190415\", \"uid\": \"2da81ccc-fff6-11e9-a7a2-8c859025e7f9\", \"x\": [-0.3, -0.25, -0.2, -0.15, -0.1, -0.05, 0.0, 0.05, 0.1, 0.15, 0.2, 0.25, 0.3, 0.35], \"y\": [0.2337, 0.1867, 0.1325, 0.0869, 0.0494, 0.0189, 0.0, -0.013, -0.0068, 0.0072, 0.0296, 0.0563, 0.083, 0.092], \"yaxis\": \"y3\", \"type\": \"scatter\", \"xaxis\": \"x3\"}, {\"legendgroup\": \"chart (2, 1)\", \"name\": \"chart (2, 1) 20190416\", \"uid\": \"2da8d89c-fff6-11e9-a46f-8c859025e7f9\", \"x\": [-0.3, -0.25, -0.2, -0.15, -0.1, -0.05, 0.0, 0.05, 0.1, 0.15, 0.2, 0.25, 0.3, 0.35], \"y\": [0.2439, 0.1896, 0.1405, 0.0939, 0.0523, 0.0196, 0.0, -0.0129, -0.0062, 0.0102, 0.0347, 0.0651, 0.0916, null], \"yaxis\": \"y3\", \"type\": \"scatter\", \"xaxis\": \"x3\"}, {\"legendgroup\": \"chart (2, 1)\", \"name\": \"chart (2, 1) 20190417\", \"uid\": \"2da976ba-fff6-11e9-8da9-8c859025e7f9\", \"x\": [-0.3, -0.25, -0.2, -0.15, -0.1, -0.05, 0.0, 0.05, 0.1, 0.15, 0.2, 0.25, 0.3, 0.35], \"y\": [0.2575, 0.2051, 0.1492, 0.1037, 0.0574, 0.0227, 0.0, -0.0059, 0.0024, 0.0193, 0.0411, 0.0659, 0.097, 0.1198], \"yaxis\": \"y3\", \"type\": \"scatter\", \"xaxis\": \"x3\"}, {\"legendgroup\": \"chart (2, 1)\", \"name\": \"chart (2, 1) 20190418\", \"uid\": \"2daa1362-fff6-11e9-a65a-8c859025e7f9\", \"x\": [-0.3, -0.25, -0.2, -0.15, -0.1, -0.05, 0.0, 0.05, 0.1, 0.15, 0.2, 0.25, 0.3, 0.35], \"y\": [0.2527, 0.2001, 0.1516, 0.1002, 0.0574, 0.0204, 0.0, -0.0086, -0.0008, 0.022, 0.0503, 0.0705, 0.0926, null], \"yaxis\": \"y3\", \"type\": \"scatter\", \"xaxis\": \"x3\"}, {\"legendgroup\": \"chart (2, 1)\", \"name\": \"chart (2, 1) 20190422\", \"uid\": \"2daabfc2-fff6-11e9-aaac-8c859025e7f9\", \"x\": [-0.3, -0.25, -0.2, -0.15, -0.1, -0.05, 0.0, 0.05, 0.1, 0.15, 0.2, 0.25, 0.3, 0.35], \"y\": [0.239, 0.1779, 0.1295, 0.0744, 0.0312, 0.009, 0.0, -0.0025, 0.0062, 0.0243, 0.0502, 0.0735, 0.0998, null], \"yaxis\": \"y3\", \"type\": \"scatter\", \"xaxis\": \"x3\"}, {\"legendgroup\": \"chart (2, 2)\", \"name\": \"chart (2, 2) 20190423\", \"uid\": \"2dabde02-fff6-11e9-a18e-8c859025e7f9\", \"x\": [-0.3, -0.25, -0.2, -0.15, -0.1, -0.05, 0.0, 0.05, 0.1, 0.15, 0.2, 0.25, 0.3, 0.35], \"y\": [0.2524, 0.1949, 0.1359, 0.0794, 0.0327, 0.0076, 0.0, 0.0016, 0.015, 0.0347, 0.0618, 0.0865, null, null], \"yaxis\": \"y4\", \"type\": \"scatter\", \"xaxis\": \"x4\"}, {\"legendgroup\": \"chart (2, 2)\", \"name\": \"chart (2, 2) 20190424\", \"uid\": \"2dac6d36-fff6-11e9-a21b-8c859025e7f9\", \"x\": [-0.3, -0.25, -0.2, -0.15, -0.1, -0.05, 0.0, 0.05, 0.1, 0.15, 0.2, 0.25, 0.3, 0.35], \"y\": [0.2766, 0.2158, 0.1504, 0.0968, 0.0455, 0.0124, 0.0, -0.0027, 0.012, 0.0389, 0.0594, 0.0925, 0.1262, null], \"yaxis\": \"y4\", \"type\": \"scatter\", \"xaxis\": \"x4\"}, {\"legendgroup\": \"chart (2, 2)\", \"name\": \"chart (2, 2) 20190425\", \"uid\": \"2dace8ec-fff6-11e9-a3a1-8c859025e7f9\", \"x\": [-0.3, -0.25, -0.2, -0.15, -0.1, -0.05, 0.0, 0.05, 0.1, 0.15, 0.2, 0.25, 0.3, 0.35], \"y\": [0.2862, 0.2195, 0.1573, 0.1038, 0.0539, 0.019, 0.0, 0.0014, 0.0167, 0.0375, 0.0698, 0.0872, 0.1182, null], \"yaxis\": \"y4\", \"type\": \"scatter\", \"xaxis\": \"x4\"}, {\"legendgroup\": \"chart (2, 2)\", \"name\": \"chart (2, 2) 20190426\", \"uid\": \"2dad6380-fff6-11e9-91b7-8c859025e7f9\", \"x\": [-0.3, -0.25, -0.2, -0.15, -0.1, -0.05, 0.0, 0.05, 0.1, 0.15, 0.2, 0.25, 0.3, 0.35], \"y\": [0.302, 0.2336, 0.1809, 0.1196, 0.069, 0.03, 0.0, -0.01, -0.0042, 0.014, 0.0373, 0.061, 0.082, null], \"yaxis\": \"y4\", \"type\": \"scatter\", \"xaxis\": \"x4\"}, {\"legendgroup\": \"chart (2, 2)\", \"name\": \"chart (2, 2) 20190429\", \"uid\": \"2dade288-fff6-11e9-9f2f-8c859025e7f9\", \"x\": [-0.3, -0.25, -0.2, -0.15, -0.1, -0.05, 0.0, 0.05, 0.1, 0.15, 0.2, 0.25, 0.3, 0.35], \"y\": [0.3147, 0.2485, 0.1917, 0.1329, 0.0745, 0.0288, 0.0, -0.0092, -0.0007, 0.0197, 0.0449, 0.0699, 0.1016, null], \"yaxis\": \"y4\", \"type\": \"scatter\", \"xaxis\": \"x4\"}], {\"annotations\": [{\"font\": {\"size\": 16}, \"showarrow\": false, \"text\": \"CBN19 20190401 - 20190405\", \"x\": 0.2275, \"xanchor\": \"center\", \"xref\": \"paper\", \"y\": 1.0, \"yanchor\": \"bottom\", \"yref\": \"paper\"}, {\"font\": {\"size\": 16}, \"showarrow\": false, \"text\": \"CBN19 20190408 - 20190412\", \"x\": 0.7725, \"xanchor\": \"center\", \"xref\": \"paper\", \"y\": 1.0, \"yanchor\": \"bottom\", \"yref\": \"paper\"}, {\"font\": {\"size\": 16}, \"showarrow\": false, \"text\": \"CBN19 20190415 - 20190422\", \"x\": 0.2275, \"xanchor\": \"center\", \"xref\": \"paper\", \"y\": 0.445, \"yanchor\": \"bottom\", \"yref\": \"paper\"}, {\"font\": {\"size\": 16}, \"showarrow\": false, \"text\": \"CBN19 20190423 - 20190429\", \"x\": 0.7725, \"xanchor\": \"center\", \"xref\": \"paper\", \"y\": 0.445, \"yanchor\": \"bottom\", \"yref\": \"paper\"}], \"xaxis\": {\"anchor\": \"y\", \"domain\": [0.0, 0.455], \"tickangle\": 45, \"ticktext\": [-0.3, -0.25, -0.2, -0.15, -0.1, -0.05, 0.0, 0.05, 0.1, 0.15, 0.2, 0.25, 0.3, 0.35], \"tickvals\": [-0.3, -0.25, -0.2, -0.15, -0.1, -0.05, 0.0, 0.05, 0.1, 0.15, 0.2, 0.25, 0.3, 0.35], \"type\": \"category\"}, \"yaxis\": {\"anchor\": \"x\", \"domain\": [0.555, 1.0], \"title\": \"vol skew\"}, \"xaxis2\": {\"anchor\": \"y2\", \"domain\": [0.545, 1.0], \"tickangle\": 45, \"ticktext\": [-0.3, -0.25, -0.2, -0.15, -0.1, -0.05, 0.0, 0.05, 0.1, 0.15, 0.2, 0.25, 0.3, 0.35], \"tickvals\": [-0.3, -0.25, -0.2, -0.15, -0.1, -0.05, 0.0, 0.05, 0.1, 0.15, 0.2, 0.25, 0.3, 0.35], \"type\": \"category\"}, \"yaxis2\": {\"anchor\": \"x2\", \"domain\": [0.555, 1.0], \"title\": \"vol skew\"}, \"xaxis3\": {\"anchor\": \"y3\", \"domain\": [0.0, 0.455], \"tickangle\": 45, \"ticktext\": [-0.3, -0.25, -0.2, -0.15, -0.1, -0.05, 0.0, 0.05, 0.1, 0.15, 0.2, 0.25, 0.3, 0.35], \"tickvals\": [-0.3, -0.25, -0.2, -0.15, -0.1, -0.05, 0.0, 0.05, 0.1, 0.15, 0.2, 0.25, 0.3, 0.35], \"type\": \"category\"}, \"yaxis3\": {\"anchor\": \"x3\", \"domain\": [0.0, 0.445], \"title\": \"vol skew\"}, \"xaxis4\": {\"anchor\": \"y4\", \"domain\": [0.545, 1.0], \"tickangle\": 45, \"ticktext\": [-0.3, -0.25, -0.2, -0.15, -0.1, -0.05, 0.0, 0.05, 0.1, 0.15, 0.2, 0.25, 0.3, 0.35], \"tickvals\": [-0.3, -0.25, -0.2, -0.15, -0.1, -0.05, 0.0, 0.05, 0.1, 0.15, 0.2, 0.25, 0.3, 0.35], \"type\": \"category\"}, \"yaxis4\": {\"anchor\": \"x4\", \"domain\": [0.0, 0.445], \"title\": \"vol skew\"}, \"font\": {\"family\": \"Open Sans, sans-serif\"}, \"margin\": {\"b\": 55, \"l\": 45, \"r\": 15, \"t\": 50}, \"title\": \"Skew plots<br>\", \"showlegend\": true, \"hovermode\": \"x\", \"autosize\": true, \"width\": 900, \"height\": 800, \"plot_bgcolor\": \"#EFECEA\", \"bargap\": 0.05}, {\"showLink\": true, \"linkText\": \"Export to plot.ly\"})});</script>"
      ],
      "text/vnd.plotly.v1+html": [
       "<div id=\"c5f8c763-11a3-4a9d-9485-71d6e54e69ff\" style=\"height: 800px; width: 900px;\" class=\"plotly-graph-div\"></div><script type=\"text/javascript\">require([\"plotly\"], function(Plotly) { window.PLOTLYENV=window.PLOTLYENV || {};window.PLOTLYENV.BASE_URL=\"https://plot.ly\";Plotly.newPlot(\"c5f8c763-11a3-4a9d-9485-71d6e54e69ff\", [{\"legendgroup\": \"chart (1, 1)\", \"name\": \"chart (1, 1) 20190401\", \"uid\": \"2d9e3dc6-fff6-11e9-ad48-8c859025e7f9\", \"x\": [-0.3, -0.25, -0.2, -0.15, -0.1, -0.05, 0.0, 0.05, 0.1, 0.15, 0.2, 0.25, 0.3, 0.35], \"y\": [0.1723, 0.1318, 0.1004, 0.0691, 0.0423, 0.0195, 0.0, -0.0102, -0.015, -0.0118, 0.0012, 0.0176, 0.04, 0.0611], \"yaxis\": \"y\", \"type\": \"scatter\", \"xaxis\": \"x\"}, {\"legendgroup\": \"chart (1, 1)\", \"name\": \"chart (1, 1) 20190402\", \"uid\": \"2d9eb038-fff6-11e9-af3a-8c859025e7f9\", \"x\": [-0.3, -0.25, -0.2, -0.15, -0.1, -0.05, 0.0, 0.05, 0.1, 0.15, 0.2, 0.25, 0.3, 0.35], \"y\": [0.1767, 0.1377, 0.1003, 0.0677, 0.0383, 0.016, 0.0, -0.0126, -0.0156, -0.0127, 0.0029, 0.023, 0.044, 0.0623], \"yaxis\": \"y\", \"type\": \"scatter\", \"xaxis\": \"x\"}, {\"legendgroup\": \"chart (1, 1)\", \"name\": \"chart (1, 1) 20190403\", \"uid\": \"2d9f5c7a-fff6-11e9-a09e-8c859025e7f9\", \"x\": [-0.3, -0.25, -0.2, -0.15, -0.1, -0.05, 0.0, 0.05, 0.1, 0.15, 0.2, 0.25, 0.3, 0.35], \"y\": [0.1873, 0.1471, 0.1103, 0.0747, 0.0425, 0.0171, 0.0, -0.0142, -0.0175, -0.014, 0.0006, 0.0139, 0.0369, 0.0716], \"yaxis\": \"y\", \"type\": \"scatter\", \"xaxis\": \"x\"}, {\"legendgroup\": \"chart (1, 1)\", \"name\": \"chart (1, 1) 20190404\", \"uid\": \"2da0bd88-fff6-11e9-b9f6-8c859025e7f9\", \"x\": [-0.3, -0.25, -0.2, -0.15, -0.1, -0.05, 0.0, 0.05, 0.1, 0.15, 0.2, 0.25, 0.3, 0.35], \"y\": [0.1968, 0.1551, 0.1156, 0.0755, 0.0459, 0.0199, 0.0, -0.0129, -0.0157, -0.0104, 0.0044, 0.024, 0.0497, 0.0621], \"yaxis\": \"y\", \"type\": \"scatter\", \"xaxis\": \"x\"}, {\"legendgroup\": \"chart (1, 1)\", \"name\": \"chart (1, 1) 20190405\", \"uid\": \"2da13d94-fff6-11e9-8676-8c859025e7f9\", \"x\": [-0.3, -0.25, -0.2, -0.15, -0.1, -0.05, 0.0, 0.05, 0.1, 0.15, 0.2, 0.25, 0.3, 0.35], \"y\": [0.1945, 0.1467, 0.1119, 0.0742, 0.0443, 0.0184, 0.0, -0.013, -0.0138, -0.0068, 0.0111, 0.0299, 0.0597, 0.0705], \"yaxis\": \"y\", \"type\": \"scatter\", \"xaxis\": \"x\"}, {\"legendgroup\": \"chart (1, 2)\", \"name\": \"chart (1, 2) 20190408\", \"uid\": \"2da2a45e-fff6-11e9-8126-8c859025e7f9\", \"x\": [-0.3, -0.25, -0.2, -0.15, -0.1, -0.05, 0.0, 0.05, 0.1, 0.15, 0.2, 0.25, 0.3, 0.35], \"y\": [0.2113, 0.1702, 0.1219, 0.0838, 0.0484, 0.0217, 0.0, -0.0097, -0.0073, 0.0024, 0.0213, 0.0415, 0.0666, 0.0977], \"yaxis\": \"y2\", \"type\": \"scatter\", \"xaxis\": \"x2\"}, {\"legendgroup\": \"chart (1, 2)\", \"name\": \"chart (1, 2) 20190409\", \"uid\": \"2da3864c-fff6-11e9-81b4-8c859025e7f9\", \"x\": [-0.3, -0.25, -0.2, -0.15, -0.1, -0.05, 0.0, 0.05, 0.1, 0.15, 0.2, 0.25, 0.3, 0.35], \"y\": [0.2223, 0.1742, 0.1292, 0.0892, 0.0539, 0.025, 0.0, -0.0107, -0.0076, 0.004, 0.0208, 0.0445, 0.0672, 0.1049], \"yaxis\": \"y2\", \"type\": \"scatter\", \"xaxis\": \"x2\"}, {\"legendgroup\": \"chart (1, 2)\", \"name\": \"chart (1, 2) 20190410\", \"uid\": \"2da44d74-fff6-11e9-8937-8c859025e7f9\", \"x\": [-0.3, -0.25, -0.2, -0.15, -0.1, -0.05, 0.0, 0.05, 0.1, 0.15, 0.2, 0.25, 0.3, 0.35], \"y\": [0.2106, 0.1701, 0.1251, 0.0841, 0.0474, 0.0187, 0.0, -0.0119, -0.0066, 0.0061, 0.0272, 0.0531, 0.0723, null], \"yaxis\": \"y2\", \"type\": \"scatter\", \"xaxis\": \"x2\"}, {\"legendgroup\": \"chart (1, 2)\", \"name\": \"chart (1, 2) 20190411\", \"uid\": \"2da58192-fff6-11e9-874e-8c859025e7f9\", \"x\": [-0.3, -0.25, -0.2, -0.15, -0.1, -0.05, 0.0, 0.05, 0.1, 0.15, 0.2, 0.25, 0.3, 0.35], \"y\": [0.2131, 0.1716, 0.1265, 0.0862, 0.0505, 0.0212, 0.0, -0.0126, -0.0117, -0.0003, 0.0219, null, 0.0647, 0.1023], \"yaxis\": \"y2\", \"type\": \"scatter\", \"xaxis\": \"x2\"}, {\"legendgroup\": \"chart (1, 2)\", \"name\": \"chart (1, 2) 20190412\", \"uid\": \"2da66d00-fff6-11e9-9ca2-8c859025e7f9\", \"x\": [-0.3, -0.25, -0.2, -0.15, -0.1, -0.05, 0.0, 0.05, 0.1, 0.15, 0.2, 0.25, 0.3, 0.35], \"y\": [0.2227, 0.1735, 0.1309, 0.0904, 0.0514, 0.0217, 0.0, -0.0098, -0.0049, 0.0094, 0.0348, 0.0541, 0.0805, 0.1175], \"yaxis\": \"y2\", \"type\": \"scatter\", \"xaxis\": \"x2\"}, {\"legendgroup\": \"chart (2, 1)\", \"name\": \"chart (2, 1) 20190415\", \"uid\": \"2da81ccc-fff6-11e9-a7a2-8c859025e7f9\", \"x\": [-0.3, -0.25, -0.2, -0.15, -0.1, -0.05, 0.0, 0.05, 0.1, 0.15, 0.2, 0.25, 0.3, 0.35], \"y\": [0.2337, 0.1867, 0.1325, 0.0869, 0.0494, 0.0189, 0.0, -0.013, -0.0068, 0.0072, 0.0296, 0.0563, 0.083, 0.092], \"yaxis\": \"y3\", \"type\": \"scatter\", \"xaxis\": \"x3\"}, {\"legendgroup\": \"chart (2, 1)\", \"name\": \"chart (2, 1) 20190416\", \"uid\": \"2da8d89c-fff6-11e9-a46f-8c859025e7f9\", \"x\": [-0.3, -0.25, -0.2, -0.15, -0.1, -0.05, 0.0, 0.05, 0.1, 0.15, 0.2, 0.25, 0.3, 0.35], \"y\": [0.2439, 0.1896, 0.1405, 0.0939, 0.0523, 0.0196, 0.0, -0.0129, -0.0062, 0.0102, 0.0347, 0.0651, 0.0916, null], \"yaxis\": \"y3\", \"type\": \"scatter\", \"xaxis\": \"x3\"}, {\"legendgroup\": \"chart (2, 1)\", \"name\": \"chart (2, 1) 20190417\", \"uid\": \"2da976ba-fff6-11e9-8da9-8c859025e7f9\", \"x\": [-0.3, -0.25, -0.2, -0.15, -0.1, -0.05, 0.0, 0.05, 0.1, 0.15, 0.2, 0.25, 0.3, 0.35], \"y\": [0.2575, 0.2051, 0.1492, 0.1037, 0.0574, 0.0227, 0.0, -0.0059, 0.0024, 0.0193, 0.0411, 0.0659, 0.097, 0.1198], \"yaxis\": \"y3\", \"type\": \"scatter\", \"xaxis\": \"x3\"}, {\"legendgroup\": \"chart (2, 1)\", \"name\": \"chart (2, 1) 20190418\", \"uid\": \"2daa1362-fff6-11e9-a65a-8c859025e7f9\", \"x\": [-0.3, -0.25, -0.2, -0.15, -0.1, -0.05, 0.0, 0.05, 0.1, 0.15, 0.2, 0.25, 0.3, 0.35], \"y\": [0.2527, 0.2001, 0.1516, 0.1002, 0.0574, 0.0204, 0.0, -0.0086, -0.0008, 0.022, 0.0503, 0.0705, 0.0926, null], \"yaxis\": \"y3\", \"type\": \"scatter\", \"xaxis\": \"x3\"}, {\"legendgroup\": \"chart (2, 1)\", \"name\": \"chart (2, 1) 20190422\", \"uid\": \"2daabfc2-fff6-11e9-aaac-8c859025e7f9\", \"x\": [-0.3, -0.25, -0.2, -0.15, -0.1, -0.05, 0.0, 0.05, 0.1, 0.15, 0.2, 0.25, 0.3, 0.35], \"y\": [0.239, 0.1779, 0.1295, 0.0744, 0.0312, 0.009, 0.0, -0.0025, 0.0062, 0.0243, 0.0502, 0.0735, 0.0998, null], \"yaxis\": \"y3\", \"type\": \"scatter\", \"xaxis\": \"x3\"}, {\"legendgroup\": \"chart (2, 2)\", \"name\": \"chart (2, 2) 20190423\", \"uid\": \"2dabde02-fff6-11e9-a18e-8c859025e7f9\", \"x\": [-0.3, -0.25, -0.2, -0.15, -0.1, -0.05, 0.0, 0.05, 0.1, 0.15, 0.2, 0.25, 0.3, 0.35], \"y\": [0.2524, 0.1949, 0.1359, 0.0794, 0.0327, 0.0076, 0.0, 0.0016, 0.015, 0.0347, 0.0618, 0.0865, null, null], \"yaxis\": \"y4\", \"type\": \"scatter\", \"xaxis\": \"x4\"}, {\"legendgroup\": \"chart (2, 2)\", \"name\": \"chart (2, 2) 20190424\", \"uid\": \"2dac6d36-fff6-11e9-a21b-8c859025e7f9\", \"x\": [-0.3, -0.25, -0.2, -0.15, -0.1, -0.05, 0.0, 0.05, 0.1, 0.15, 0.2, 0.25, 0.3, 0.35], \"y\": [0.2766, 0.2158, 0.1504, 0.0968, 0.0455, 0.0124, 0.0, -0.0027, 0.012, 0.0389, 0.0594, 0.0925, 0.1262, null], \"yaxis\": \"y4\", \"type\": \"scatter\", \"xaxis\": \"x4\"}, {\"legendgroup\": \"chart (2, 2)\", \"name\": \"chart (2, 2) 20190425\", \"uid\": \"2dace8ec-fff6-11e9-a3a1-8c859025e7f9\", \"x\": [-0.3, -0.25, -0.2, -0.15, -0.1, -0.05, 0.0, 0.05, 0.1, 0.15, 0.2, 0.25, 0.3, 0.35], \"y\": [0.2862, 0.2195, 0.1573, 0.1038, 0.0539, 0.019, 0.0, 0.0014, 0.0167, 0.0375, 0.0698, 0.0872, 0.1182, null], \"yaxis\": \"y4\", \"type\": \"scatter\", \"xaxis\": \"x4\"}, {\"legendgroup\": \"chart (2, 2)\", \"name\": \"chart (2, 2) 20190426\", \"uid\": \"2dad6380-fff6-11e9-91b7-8c859025e7f9\", \"x\": [-0.3, -0.25, -0.2, -0.15, -0.1, -0.05, 0.0, 0.05, 0.1, 0.15, 0.2, 0.25, 0.3, 0.35], \"y\": [0.302, 0.2336, 0.1809, 0.1196, 0.069, 0.03, 0.0, -0.01, -0.0042, 0.014, 0.0373, 0.061, 0.082, null], \"yaxis\": \"y4\", \"type\": \"scatter\", \"xaxis\": \"x4\"}, {\"legendgroup\": \"chart (2, 2)\", \"name\": \"chart (2, 2) 20190429\", \"uid\": \"2dade288-fff6-11e9-9f2f-8c859025e7f9\", \"x\": [-0.3, -0.25, -0.2, -0.15, -0.1, -0.05, 0.0, 0.05, 0.1, 0.15, 0.2, 0.25, 0.3, 0.35], \"y\": [0.3147, 0.2485, 0.1917, 0.1329, 0.0745, 0.0288, 0.0, -0.0092, -0.0007, 0.0197, 0.0449, 0.0699, 0.1016, null], \"yaxis\": \"y4\", \"type\": \"scatter\", \"xaxis\": \"x4\"}], {\"annotations\": [{\"font\": {\"size\": 16}, \"showarrow\": false, \"text\": \"CBN19 20190401 - 20190405\", \"x\": 0.2275, \"xanchor\": \"center\", \"xref\": \"paper\", \"y\": 1.0, \"yanchor\": \"bottom\", \"yref\": \"paper\"}, {\"font\": {\"size\": 16}, \"showarrow\": false, \"text\": \"CBN19 20190408 - 20190412\", \"x\": 0.7725, \"xanchor\": \"center\", \"xref\": \"paper\", \"y\": 1.0, \"yanchor\": \"bottom\", \"yref\": \"paper\"}, {\"font\": {\"size\": 16}, \"showarrow\": false, \"text\": \"CBN19 20190415 - 20190422\", \"x\": 0.2275, \"xanchor\": \"center\", \"xref\": \"paper\", \"y\": 0.445, \"yanchor\": \"bottom\", \"yref\": \"paper\"}, {\"font\": {\"size\": 16}, \"showarrow\": false, \"text\": \"CBN19 20190423 - 20190429\", \"x\": 0.7725, \"xanchor\": \"center\", \"xref\": \"paper\", \"y\": 0.445, \"yanchor\": \"bottom\", \"yref\": \"paper\"}], \"xaxis\": {\"anchor\": \"y\", \"domain\": [0.0, 0.455], \"tickangle\": 45, \"ticktext\": [-0.3, -0.25, -0.2, -0.15, -0.1, -0.05, 0.0, 0.05, 0.1, 0.15, 0.2, 0.25, 0.3, 0.35], \"tickvals\": [-0.3, -0.25, -0.2, -0.15, -0.1, -0.05, 0.0, 0.05, 0.1, 0.15, 0.2, 0.25, 0.3, 0.35], \"type\": \"category\"}, \"yaxis\": {\"anchor\": \"x\", \"domain\": [0.555, 1.0], \"title\": \"vol skew\"}, \"xaxis2\": {\"anchor\": \"y2\", \"domain\": [0.545, 1.0], \"tickangle\": 45, \"ticktext\": [-0.3, -0.25, -0.2, -0.15, -0.1, -0.05, 0.0, 0.05, 0.1, 0.15, 0.2, 0.25, 0.3, 0.35], \"tickvals\": [-0.3, -0.25, -0.2, -0.15, -0.1, -0.05, 0.0, 0.05, 0.1, 0.15, 0.2, 0.25, 0.3, 0.35], \"type\": \"category\"}, \"yaxis2\": {\"anchor\": \"x2\", \"domain\": [0.555, 1.0], \"title\": \"vol skew\"}, \"xaxis3\": {\"anchor\": \"y3\", \"domain\": [0.0, 0.455], \"tickangle\": 45, \"ticktext\": [-0.3, -0.25, -0.2, -0.15, -0.1, -0.05, 0.0, 0.05, 0.1, 0.15, 0.2, 0.25, 0.3, 0.35], \"tickvals\": [-0.3, -0.25, -0.2, -0.15, -0.1, -0.05, 0.0, 0.05, 0.1, 0.15, 0.2, 0.25, 0.3, 0.35], \"type\": \"category\"}, \"yaxis3\": {\"anchor\": \"x3\", \"domain\": [0.0, 0.445], \"title\": \"vol skew\"}, \"xaxis4\": {\"anchor\": \"y4\", \"domain\": [0.545, 1.0], \"tickangle\": 45, \"ticktext\": [-0.3, -0.25, -0.2, -0.15, -0.1, -0.05, 0.0, 0.05, 0.1, 0.15, 0.2, 0.25, 0.3, 0.35], \"tickvals\": [-0.3, -0.25, -0.2, -0.15, -0.1, -0.05, 0.0, 0.05, 0.1, 0.15, 0.2, 0.25, 0.3, 0.35], \"type\": \"category\"}, \"yaxis4\": {\"anchor\": \"x4\", \"domain\": [0.0, 0.445], \"title\": \"vol skew\"}, \"font\": {\"family\": \"Open Sans, sans-serif\"}, \"margin\": {\"b\": 55, \"l\": 45, \"r\": 15, \"t\": 50}, \"title\": \"Skew plots<br>\", \"showlegend\": true, \"hovermode\": \"x\", \"autosize\": true, \"width\": 900, \"height\": 800, \"plot_bgcolor\": \"#EFECEA\", \"bargap\": 0.05}, {\"showLink\": true, \"linkText\": \"Export to plot.ly\"})});</script>"
      ]
     },
     "metadata": {},
     "output_type": "display_data"
    },
    {
     "data": {
      "application/vnd.plotly.v1+json": {
       "data": [
        {
         "legendgroup": "chart (1, 1)",
         "name": "chart (1, 1) 20190430",
         "type": "scatter",
         "uid": "2dbd3f76-fff6-11e9-98c9-8c859025e7f9",
         "x": [
          -0.3,
          -0.25,
          -0.2,
          -0.15,
          -0.1,
          -0.05,
          0,
          0.05,
          0.1,
          0.15,
          0.2,
          0.25,
          0.3,
          0.35
         ],
         "xaxis": "x",
         "y": [
          0.3036,
          0.2433,
          0.1868,
          0.1291,
          0.0715,
          0.0254,
          0,
          -0.007,
          0.0056,
          0.0271,
          0.052,
          0.0885,
          0.1118,
          null
         ],
         "yaxis": "y"
        }
       ],
       "layout": {
        "annotations": [
         {
          "font": {
           "size": 16
          },
          "showarrow": false,
          "text": "CBN19 20190430 - 20190430",
          "x": 0.2275,
          "xanchor": "center",
          "xref": "paper",
          "y": 1,
          "yanchor": "bottom",
          "yref": "paper"
         }
        ],
        "autosize": true,
        "bargap": 0.05,
        "font": {
         "family": "Open Sans, sans-serif"
        },
        "height": 800,
        "hovermode": "x",
        "margin": {
         "b": 55,
         "l": 45,
         "r": 15,
         "t": 50
        },
        "plot_bgcolor": "#EFECEA",
        "showlegend": true,
        "title": "Skew plots<br>",
        "width": 900,
        "xaxis": {
         "anchor": "y",
         "domain": [
          0,
          0.455
         ],
         "tickangle": 45,
         "ticktext": [
          -0.3,
          -0.25,
          -0.2,
          -0.15,
          -0.1,
          -0.05,
          0,
          0.05,
          0.1,
          0.15,
          0.2,
          0.25,
          0.3,
          0.35
         ],
         "tickvals": [
          -0.3,
          -0.25,
          -0.2,
          -0.15,
          -0.1,
          -0.05,
          0,
          0.05,
          0.1,
          0.15,
          0.2,
          0.25,
          0.3,
          0.35
         ],
         "type": "category"
        },
        "xaxis2": {
         "anchor": "y2",
         "domain": [
          0.545,
          1
         ]
        },
        "xaxis3": {
         "anchor": "y3",
         "domain": [
          0,
          0.455
         ]
        },
        "xaxis4": {
         "anchor": "y4",
         "domain": [
          0.545,
          1
         ]
        },
        "yaxis": {
         "anchor": "x",
         "domain": [
          0.555,
          1
         ],
         "title": "vol skew"
        },
        "yaxis2": {
         "anchor": "x2",
         "domain": [
          0.555,
          1
         ]
        },
        "yaxis3": {
         "anchor": "x3",
         "domain": [
          0,
          0.445
         ]
        },
        "yaxis4": {
         "anchor": "x4",
         "domain": [
          0,
          0.445
         ]
        }
       }
      },
      "text/html": [
       "<div id=\"d740ee75-d603-42bd-b8cc-93f0c4cff208\" style=\"height: 800px; width: 900px;\" class=\"plotly-graph-div\"></div><script type=\"text/javascript\">require([\"plotly\"], function(Plotly) { window.PLOTLYENV=window.PLOTLYENV || {};window.PLOTLYENV.BASE_URL=\"https://plot.ly\";Plotly.newPlot(\"d740ee75-d603-42bd-b8cc-93f0c4cff208\", [{\"legendgroup\": \"chart (1, 1)\", \"name\": \"chart (1, 1) 20190430\", \"uid\": \"2dbd3f76-fff6-11e9-98c9-8c859025e7f9\", \"x\": [-0.3, -0.25, -0.2, -0.15, -0.1, -0.05, 0.0, 0.05, 0.1, 0.15, 0.2, 0.25, 0.3, 0.35], \"y\": [0.3036, 0.2433, 0.1868, 0.1291, 0.0715, 0.0254, 0.0, -0.007, 0.0056, 0.0271, 0.052, 0.0885, 0.1118, null], \"yaxis\": \"y\", \"type\": \"scatter\", \"xaxis\": \"x\"}], {\"annotations\": [{\"font\": {\"size\": 16}, \"showarrow\": false, \"text\": \"CBN19 20190430 - 20190430\", \"x\": 0.2275, \"xanchor\": \"center\", \"xref\": \"paper\", \"y\": 1.0, \"yanchor\": \"bottom\", \"yref\": \"paper\"}], \"xaxis\": {\"anchor\": \"y\", \"domain\": [0.0, 0.455], \"tickangle\": 45, \"ticktext\": [-0.3, -0.25, -0.2, -0.15, -0.1, -0.05, 0.0, 0.05, 0.1, 0.15, 0.2, 0.25, 0.3, 0.35], \"tickvals\": [-0.3, -0.25, -0.2, -0.15, -0.1, -0.05, 0.0, 0.05, 0.1, 0.15, 0.2, 0.25, 0.3, 0.35], \"type\": \"category\"}, \"yaxis\": {\"anchor\": \"x\", \"domain\": [0.555, 1.0], \"title\": \"vol skew\"}, \"xaxis2\": {\"anchor\": \"y2\", \"domain\": [0.545, 1.0]}, \"yaxis2\": {\"anchor\": \"x2\", \"domain\": [0.555, 1.0]}, \"xaxis3\": {\"anchor\": \"y3\", \"domain\": [0.0, 0.455]}, \"yaxis3\": {\"anchor\": \"x3\", \"domain\": [0.0, 0.445]}, \"xaxis4\": {\"anchor\": \"y4\", \"domain\": [0.545, 1.0]}, \"yaxis4\": {\"anchor\": \"x4\", \"domain\": [0.0, 0.445]}, \"font\": {\"family\": \"Open Sans, sans-serif\"}, \"margin\": {\"b\": 55, \"l\": 45, \"r\": 15, \"t\": 50}, \"title\": \"Skew plots<br>\", \"showlegend\": true, \"hovermode\": \"x\", \"autosize\": true, \"width\": 900, \"height\": 800, \"plot_bgcolor\": \"#EFECEA\", \"bargap\": 0.05}, {\"showLink\": true, \"linkText\": \"Export to plot.ly\"})});</script>"
      ],
      "text/vnd.plotly.v1+html": [
       "<div id=\"d740ee75-d603-42bd-b8cc-93f0c4cff208\" style=\"height: 800px; width: 900px;\" class=\"plotly-graph-div\"></div><script type=\"text/javascript\">require([\"plotly\"], function(Plotly) { window.PLOTLYENV=window.PLOTLYENV || {};window.PLOTLYENV.BASE_URL=\"https://plot.ly\";Plotly.newPlot(\"d740ee75-d603-42bd-b8cc-93f0c4cff208\", [{\"legendgroup\": \"chart (1, 1)\", \"name\": \"chart (1, 1) 20190430\", \"uid\": \"2dbd3f76-fff6-11e9-98c9-8c859025e7f9\", \"x\": [-0.3, -0.25, -0.2, -0.15, -0.1, -0.05, 0.0, 0.05, 0.1, 0.15, 0.2, 0.25, 0.3, 0.35], \"y\": [0.3036, 0.2433, 0.1868, 0.1291, 0.0715, 0.0254, 0.0, -0.007, 0.0056, 0.0271, 0.052, 0.0885, 0.1118, null], \"yaxis\": \"y\", \"type\": \"scatter\", \"xaxis\": \"x\"}], {\"annotations\": [{\"font\": {\"size\": 16}, \"showarrow\": false, \"text\": \"CBN19 20190430 - 20190430\", \"x\": 0.2275, \"xanchor\": \"center\", \"xref\": \"paper\", \"y\": 1.0, \"yanchor\": \"bottom\", \"yref\": \"paper\"}], \"xaxis\": {\"anchor\": \"y\", \"domain\": [0.0, 0.455], \"tickangle\": 45, \"ticktext\": [-0.3, -0.25, -0.2, -0.15, -0.1, -0.05, 0.0, 0.05, 0.1, 0.15, 0.2, 0.25, 0.3, 0.35], \"tickvals\": [-0.3, -0.25, -0.2, -0.15, -0.1, -0.05, 0.0, 0.05, 0.1, 0.15, 0.2, 0.25, 0.3, 0.35], \"type\": \"category\"}, \"yaxis\": {\"anchor\": \"x\", \"domain\": [0.555, 1.0], \"title\": \"vol skew\"}, \"xaxis2\": {\"anchor\": \"y2\", \"domain\": [0.545, 1.0]}, \"yaxis2\": {\"anchor\": \"x2\", \"domain\": [0.555, 1.0]}, \"xaxis3\": {\"anchor\": \"y3\", \"domain\": [0.0, 0.455]}, \"yaxis3\": {\"anchor\": \"x3\", \"domain\": [0.0, 0.445]}, \"xaxis4\": {\"anchor\": \"y4\", \"domain\": [0.545, 1.0]}, \"yaxis4\": {\"anchor\": \"x4\", \"domain\": [0.0, 0.445]}, \"font\": {\"family\": \"Open Sans, sans-serif\"}, \"margin\": {\"b\": 55, \"l\": 45, \"r\": 15, \"t\": 50}, \"title\": \"Skew plots<br>\", \"showlegend\": true, \"hovermode\": \"x\", \"autosize\": true, \"width\": 900, \"height\": 800, \"plot_bgcolor\": \"#EFECEA\", \"bargap\": 0.05}, {\"showLink\": true, \"linkText\": \"Export to plot.ly\"})});</script>"
      ]
     },
     "metadata": {},
     "output_type": "display_data"
    },
    {
     "data": {
      "application/vnd.plotly.v1+json": {
       "data": [
        {
         "legendgroup": "chart (1, 1)",
         "name": "chart (1, 1) 20190501",
         "type": "scatter",
         "uid": "2e1bf41c-fff6-11e9-8034-8c859025e7f9",
         "x": [
          -0.3,
          -0.25,
          -0.2,
          -0.15,
          -0.1,
          -0.05,
          0,
          0.05,
          0.1,
          0.15,
          0.2,
          0.25,
          0.3,
          0.35
         ],
         "xaxis": "x",
         "y": [
          null,
          null,
          null,
          null,
          null,
          null,
          0,
          null,
          null,
          null,
          null,
          null,
          null,
          null
         ],
         "yaxis": "y"
        },
        {
         "legendgroup": "chart (1, 1)",
         "name": "chart (1, 1) 20190502",
         "type": "scatter",
         "uid": "2e1cd0ee-fff6-11e9-918a-8c859025e7f9",
         "x": [
          -0.3,
          -0.25,
          -0.2,
          -0.15,
          -0.1,
          -0.05,
          0,
          0.05,
          0.1,
          0.15,
          0.2,
          0.25,
          0.3,
          0.35
         ],
         "xaxis": "x",
         "y": [
          0.2073,
          0.1641,
          0.1238,
          0.0848,
          0.0495,
          0.0209,
          0,
          -0.0139,
          -0.0172,
          -0.0099,
          0.0054,
          0.0181,
          0.038,
          null
         ],
         "yaxis": "y"
        },
        {
         "legendgroup": "chart (1, 1)",
         "name": "chart (1, 1) 20190503",
         "type": "scatter",
         "uid": "2e1d7878-fff6-11e9-ba86-8c859025e7f9",
         "x": [
          -0.3,
          -0.25,
          -0.2,
          -0.15,
          -0.1,
          -0.05,
          0,
          0.05,
          0.1,
          0.15,
          0.2,
          0.25,
          0.3,
          0.35
         ],
         "xaxis": "x",
         "y": [
          0.2041,
          0.1634,
          0.1244,
          0.0883,
          0.0527,
          0.023,
          0,
          -0.013,
          -0.0167,
          -0.0098,
          0.0079,
          0.0276,
          0.0504,
          null
         ],
         "yaxis": "y"
        },
        {
         "legendgroup": "chart (1, 1)",
         "name": "chart (1, 1) 20190506",
         "type": "scatter",
         "uid": "2e1dee98-fff6-11e9-a384-8c859025e7f9",
         "x": [
          -0.3,
          -0.25,
          -0.2,
          -0.15,
          -0.1,
          -0.05,
          0,
          0.05,
          0.1,
          0.15,
          0.2,
          0.25,
          0.3,
          0.35
         ],
         "xaxis": "x",
         "y": [
          0.1966,
          0.1557,
          0.118,
          0.0835,
          0.0504,
          0.0206,
          0,
          -0.0145,
          -0.0151,
          -0.0055,
          0.0093,
          0.0314,
          0.0496,
          null
         ],
         "yaxis": "y"
        },
        {
         "legendgroup": "chart (1, 1)",
         "name": "chart (1, 1) 20190507",
         "type": "scatter",
         "uid": "2e1e6fd0-fff6-11e9-a37b-8c859025e7f9",
         "x": [
          -0.3,
          -0.25,
          -0.2,
          -0.15,
          -0.1,
          -0.05,
          0,
          0.05,
          0.1,
          0.15,
          0.2,
          0.25,
          0.3,
          0.35
         ],
         "xaxis": "x",
         "y": [
          0.1869,
          0.1543,
          0.1189,
          0.0857,
          0.0536,
          0.0248,
          0,
          -0.0137,
          -0.0187,
          -0.013,
          0.0016,
          0.0163,
          0.0403,
          null
         ],
         "yaxis": "y"
        },
        {
         "legendgroup": "chart (1, 2)",
         "name": "chart (1, 2) 20190508",
         "type": "scatter",
         "uid": "2e1fe6ba-fff6-11e9-a261-8c859025e7f9",
         "x": [
          -0.3,
          -0.25,
          -0.2,
          -0.15,
          -0.1,
          -0.05,
          0,
          0.05,
          0.1,
          0.15,
          0.2,
          0.25,
          0.3,
          0.35
         ],
         "xaxis": "x2",
         "y": [
          0.2068,
          0.1667,
          0.1294,
          0.0935,
          0.0598,
          0.0281,
          0,
          -0.0131,
          -0.0156,
          -0.0083,
          0.0071,
          0.0271,
          0.0532,
          null
         ],
         "yaxis": "y2"
        },
        {
         "legendgroup": "chart (1, 2)",
         "name": "chart (1, 2) 20190509",
         "type": "scatter",
         "uid": "2e207fc8-fff6-11e9-aade-8c859025e7f9",
         "x": [
          -0.3,
          -0.25,
          -0.2,
          -0.15,
          -0.1,
          -0.05,
          0,
          0.05,
          0.1,
          0.15,
          0.2,
          0.25,
          0.3,
          0.35
         ],
         "xaxis": "x2",
         "y": [
          0.1969,
          0.1603,
          0.1235,
          0.0863,
          0.0521,
          0.0218,
          0,
          -0.0153,
          -0.0163,
          -0.0071,
          0.0084,
          0.0274,
          0.0472,
          null
         ],
         "yaxis": "y2"
        },
        {
         "legendgroup": "chart (1, 2)",
         "name": "chart (1, 2) 20190510",
         "type": "scatter",
         "uid": "2e210cf4-fff6-11e9-bf28-8c859025e7f9",
         "x": [
          -0.3,
          -0.25,
          -0.2,
          -0.15,
          -0.1,
          -0.05,
          0,
          0.05,
          0.1,
          0.15,
          0.2,
          0.25,
          0.3,
          0.35
         ],
         "xaxis": "x2",
         "y": [
          0.1966,
          0.1584,
          0.1223,
          0.0842,
          0.0527,
          0.0241,
          0,
          -0.0085,
          -0.0057,
          0.0063,
          0.0244,
          0.045,
          0.0681,
          null
         ],
         "yaxis": "y2"
        },
        {
         "legendgroup": "chart (1, 2)",
         "name": "chart (1, 2) 20190513",
         "type": "scatter",
         "uid": "2e218b52-fff6-11e9-83eb-8c859025e7f9",
         "x": [
          -0.3,
          -0.25,
          -0.2,
          -0.15,
          -0.1,
          -0.05,
          0,
          0.05,
          0.1,
          0.15,
          0.2,
          0.25,
          0.3,
          0.35
         ],
         "xaxis": "x2",
         "y": [
          0.1969,
          0.1619,
          0.1183,
          0.0804,
          0.046,
          0.0175,
          0,
          -0.0126,
          -0.0074,
          0.008,
          0.0274,
          0.0515,
          0.0766,
          null
         ],
         "yaxis": "y2"
        },
        {
         "legendgroup": "chart (1, 2)",
         "name": "chart (1, 2) 20190514",
         "type": "scatter",
         "uid": "2e224542-fff6-11e9-8df0-8c859025e7f9",
         "x": [
          -0.3,
          -0.25,
          -0.2,
          -0.15,
          -0.1,
          -0.05,
          0,
          0.05,
          0.1,
          0.15,
          0.2,
          0.25,
          0.3,
          0.35
         ],
         "xaxis": "x2",
         "y": [
          0.1991,
          0.156,
          0.1184,
          0.0804,
          0.0439,
          0.0163,
          0,
          -0.0091,
          -0.0028,
          0.0154,
          0.0415,
          0.0699,
          0.093,
          null
         ],
         "yaxis": "y2"
        },
        {
         "legendgroup": "chart (2, 1)",
         "name": "chart (2, 1) 20190515",
         "type": "scatter",
         "uid": "2e239c76-fff6-11e9-9914-8c859025e7f9",
         "x": [
          -0.3,
          -0.25,
          -0.2,
          -0.15,
          -0.1,
          -0.05,
          0,
          0.05,
          0.1,
          0.15,
          0.2,
          0.25,
          0.3,
          0.35
         ],
         "xaxis": "x3",
         "y": [
          0.211,
          0.172,
          0.1275,
          0.0857,
          0.0463,
          0.0167,
          0,
          -0.0077,
          0.0007,
          0.0206,
          0.0461,
          0.0789,
          0.1032,
          null
         ],
         "yaxis": "y3"
        },
        {
         "legendgroup": "chart (2, 1)",
         "name": "chart (2, 1) 20190516",
         "type": "scatter",
         "uid": "2e24ad28-fff6-11e9-a2fc-8c859025e7f9",
         "x": [
          -0.3,
          -0.25,
          -0.2,
          -0.15,
          -0.1,
          -0.05,
          0,
          0.05,
          0.1,
          0.15,
          0.2,
          0.25,
          0.3,
          0.35
         ],
         "xaxis": "x3",
         "y": [
          null,
          null,
          null,
          null,
          null,
          null,
          0,
          null,
          null,
          null,
          null,
          null,
          null,
          null
         ],
         "yaxis": "y3"
        },
        {
         "legendgroup": "chart (2, 1)",
         "name": "chart (2, 1) 20190517",
         "type": "scatter",
         "uid": "2e25a93a-fff6-11e9-8a14-8c859025e7f9",
         "x": [
          -0.3,
          -0.25,
          -0.2,
          -0.15,
          -0.1,
          -0.05,
          0,
          0.05,
          0.1,
          0.15,
          0.2,
          0.25,
          0.3,
          0.35
         ],
         "xaxis": "x3",
         "y": [
          0.2318,
          0.1712,
          0.1276,
          0.0828,
          0.0449,
          0.0175,
          0,
          -0.0075,
          0.0019,
          0.0247,
          0.0505,
          0.0835,
          0.1087,
          null
         ],
         "yaxis": "y3"
        },
        {
         "legendgroup": "chart (2, 1)",
         "name": "chart (2, 1) 20190520",
         "type": "scatter",
         "uid": "2e268558-fff6-11e9-ab34-8c859025e7f9",
         "x": [
          -0.3,
          -0.25,
          -0.2,
          -0.15,
          -0.1,
          -0.05,
          0,
          0.05,
          0.1,
          0.15,
          0.2,
          0.25,
          0.3,
          0.35
         ],
         "xaxis": "x3",
         "y": [
          0.2493,
          0.1935,
          0.1392,
          0.0924,
          0.0503,
          0.0207,
          0,
          -0.0012,
          0.0109,
          0.0361,
          0.0634,
          0.0983,
          0.1257,
          null
         ],
         "yaxis": "y3"
        },
        {
         "legendgroup": "chart (2, 1)",
         "name": "chart (2, 1) 20190521",
         "type": "scatter",
         "uid": "2e27729c-fff6-11e9-8cd3-8c859025e7f9",
         "x": [
          -0.3,
          -0.25,
          -0.2,
          -0.15,
          -0.1,
          -0.05,
          0,
          0.05,
          0.1,
          0.15,
          0.2,
          0.25,
          0.3,
          0.35
         ],
         "xaxis": "x3",
         "y": [
          0.2512,
          0.1948,
          0.1351,
          0.0893,
          0.0449,
          0.0137,
          0,
          -0.0052,
          0.0074,
          0.0337,
          0.0653,
          0.0959,
          0.1262,
          null
         ],
         "yaxis": "y3"
        },
        {
         "legendgroup": "chart (2, 2)",
         "name": "chart (2, 2) 20190522",
         "type": "scatter",
         "uid": "2e28c8b8-fff6-11e9-b620-8c859025e7f9",
         "x": [
          -0.3,
          -0.25,
          -0.2,
          -0.15,
          -0.1,
          -0.05,
          0,
          0.05,
          0.1,
          0.15,
          0.2,
          0.25,
          0.3,
          0.35
         ],
         "xaxis": "x4",
         "y": [
          0.2504,
          0.1996,
          0.1404,
          0.0894,
          0.0446,
          0.0152,
          0,
          -0.0028,
          0.0077,
          0.0302,
          0.0624,
          0.0934,
          0.1318,
          null
         ],
         "yaxis": "y4"
        },
        {
         "legendgroup": "chart (2, 2)",
         "name": "chart (2, 2) 20190523",
         "type": "scatter",
         "uid": "2e29e4a8-fff6-11e9-a3c7-8c859025e7f9",
         "x": [
          -0.3,
          -0.25,
          -0.2,
          -0.15,
          -0.1,
          -0.05,
          0,
          0.05,
          0.1,
          0.15,
          0.2,
          0.25,
          0.3,
          0.35
         ],
         "xaxis": "x4",
         "y": [
          null,
          null,
          null,
          null,
          null,
          null,
          0,
          null,
          null,
          null,
          null,
          null,
          null,
          null
         ],
         "yaxis": "y4"
        },
        {
         "legendgroup": "chart (2, 2)",
         "name": "chart (2, 2) 20190524",
         "type": "scatter",
         "uid": "2e2af85e-fff6-11e9-9322-8c859025e7f9",
         "x": [
          -0.3,
          -0.25,
          -0.2,
          -0.15,
          -0.1,
          -0.05,
          0,
          0.05,
          0.1,
          0.15,
          0.2,
          0.25,
          0.3,
          0.35
         ],
         "xaxis": "x4",
         "y": [
          0.2564,
          0.2048,
          0.1549,
          0.1058,
          0.0607,
          0.0242,
          0,
          -0.0088,
          0.0024,
          0.025,
          0.0468,
          0.0765,
          0.1123,
          0.1421
         ],
         "yaxis": "y4"
        },
        {
         "legendgroup": "chart (2, 2)",
         "name": "chart (2, 2) 20190527",
         "type": "scatter",
         "uid": "2e2be94c-fff6-11e9-8ce1-8c859025e7f9",
         "x": [
          -0.3,
          -0.25,
          -0.2,
          -0.15,
          -0.1,
          -0.05,
          0,
          0.05,
          0.1,
          0.15,
          0.2,
          0.25,
          0.3,
          0.35
         ],
         "xaxis": "x4",
         "y": [
          0.2604,
          0.2178,
          0.1561,
          0.1068,
          0.0577,
          0.022,
          0,
          -0.0098,
          0.0028,
          0.0284,
          0.0625,
          0.0994,
          0.1386,
          0.1627
         ],
         "yaxis": "y4"
        },
        {
         "legendgroup": "chart (2, 2)",
         "name": "chart (2, 2) 20190528",
         "type": "scatter",
         "uid": "2e2cd8a4-fff6-11e9-af8f-8c859025e7f9",
         "x": [
          -0.3,
          -0.25,
          -0.2,
          -0.15,
          -0.1,
          -0.05,
          0,
          0.05,
          0.1,
          0.15,
          0.2,
          0.25,
          0.3,
          0.35
         ],
         "xaxis": "x4",
         "y": [
          0.2453,
          0.1981,
          0.1571,
          0.1057,
          0.0632,
          0.0266,
          0,
          -0.0042,
          0.0076,
          0.0287,
          0.058,
          0.0852,
          0.1203,
          0.1525
         ],
         "yaxis": "y4"
        }
       ],
       "layout": {
        "annotations": [
         {
          "font": {
           "size": 16
          },
          "showarrow": false,
          "text": "CBQ19 20190501 - 20190507",
          "x": 0.2275,
          "xanchor": "center",
          "xref": "paper",
          "y": 1,
          "yanchor": "bottom",
          "yref": "paper"
         },
         {
          "font": {
           "size": 16
          },
          "showarrow": false,
          "text": "CBQ19 20190508 - 20190514",
          "x": 0.7725,
          "xanchor": "center",
          "xref": "paper",
          "y": 1,
          "yanchor": "bottom",
          "yref": "paper"
         },
         {
          "font": {
           "size": 16
          },
          "showarrow": false,
          "text": "CBQ19 20190515 - 20190521",
          "x": 0.2275,
          "xanchor": "center",
          "xref": "paper",
          "y": 0.445,
          "yanchor": "bottom",
          "yref": "paper"
         },
         {
          "font": {
           "size": 16
          },
          "showarrow": false,
          "text": "CBQ19 20190522 - 20190528",
          "x": 0.7725,
          "xanchor": "center",
          "xref": "paper",
          "y": 0.445,
          "yanchor": "bottom",
          "yref": "paper"
         }
        ],
        "autosize": true,
        "bargap": 0.05,
        "font": {
         "family": "Open Sans, sans-serif"
        },
        "height": 800,
        "hovermode": "x",
        "margin": {
         "b": 55,
         "l": 45,
         "r": 15,
         "t": 50
        },
        "plot_bgcolor": "#EFECEA",
        "showlegend": true,
        "title": "Skew plots<br>",
        "width": 900,
        "xaxis": {
         "anchor": "y",
         "domain": [
          0,
          0.455
         ],
         "tickangle": 45,
         "ticktext": [
          -0.3,
          -0.25,
          -0.2,
          -0.15,
          -0.1,
          -0.05,
          0,
          0.05,
          0.1,
          0.15,
          0.2,
          0.25,
          0.3,
          0.35
         ],
         "tickvals": [
          -0.3,
          -0.25,
          -0.2,
          -0.15,
          -0.1,
          -0.05,
          0,
          0.05,
          0.1,
          0.15,
          0.2,
          0.25,
          0.3,
          0.35
         ],
         "type": "category"
        },
        "xaxis2": {
         "anchor": "y2",
         "domain": [
          0.545,
          1
         ],
         "tickangle": 45,
         "ticktext": [
          -0.3,
          -0.25,
          -0.2,
          -0.15,
          -0.1,
          -0.05,
          0,
          0.05,
          0.1,
          0.15,
          0.2,
          0.25,
          0.3,
          0.35
         ],
         "tickvals": [
          -0.3,
          -0.25,
          -0.2,
          -0.15,
          -0.1,
          -0.05,
          0,
          0.05,
          0.1,
          0.15,
          0.2,
          0.25,
          0.3,
          0.35
         ],
         "type": "category"
        },
        "xaxis3": {
         "anchor": "y3",
         "domain": [
          0,
          0.455
         ],
         "tickangle": 45,
         "ticktext": [
          -0.3,
          -0.25,
          -0.2,
          -0.15,
          -0.1,
          -0.05,
          0,
          0.05,
          0.1,
          0.15,
          0.2,
          0.25,
          0.3,
          0.35
         ],
         "tickvals": [
          -0.3,
          -0.25,
          -0.2,
          -0.15,
          -0.1,
          -0.05,
          0,
          0.05,
          0.1,
          0.15,
          0.2,
          0.25,
          0.3,
          0.35
         ],
         "type": "category"
        },
        "xaxis4": {
         "anchor": "y4",
         "domain": [
          0.545,
          1
         ],
         "tickangle": 45,
         "ticktext": [
          -0.3,
          -0.25,
          -0.2,
          -0.15,
          -0.1,
          -0.05,
          0,
          0.05,
          0.1,
          0.15,
          0.2,
          0.25,
          0.3,
          0.35
         ],
         "tickvals": [
          -0.3,
          -0.25,
          -0.2,
          -0.15,
          -0.1,
          -0.05,
          0,
          0.05,
          0.1,
          0.15,
          0.2,
          0.25,
          0.3,
          0.35
         ],
         "type": "category"
        },
        "yaxis": {
         "anchor": "x",
         "domain": [
          0.555,
          1
         ],
         "title": "vol skew"
        },
        "yaxis2": {
         "anchor": "x2",
         "domain": [
          0.555,
          1
         ],
         "title": "vol skew"
        },
        "yaxis3": {
         "anchor": "x3",
         "domain": [
          0,
          0.445
         ],
         "title": "vol skew"
        },
        "yaxis4": {
         "anchor": "x4",
         "domain": [
          0,
          0.445
         ],
         "title": "vol skew"
        }
       }
      },
      "text/html": [
       "<div id=\"85bbd1aa-4b1e-4d06-a8c1-a4229a75992b\" style=\"height: 800px; width: 900px;\" class=\"plotly-graph-div\"></div><script type=\"text/javascript\">require([\"plotly\"], function(Plotly) { window.PLOTLYENV=window.PLOTLYENV || {};window.PLOTLYENV.BASE_URL=\"https://plot.ly\";Plotly.newPlot(\"85bbd1aa-4b1e-4d06-a8c1-a4229a75992b\", [{\"legendgroup\": \"chart (1, 1)\", \"name\": \"chart (1, 1) 20190501\", \"uid\": \"2e1bf41c-fff6-11e9-8034-8c859025e7f9\", \"x\": [-0.3, -0.25, -0.2, -0.15, -0.1, -0.05, 0.0, 0.05, 0.1, 0.15, 0.2, 0.25, 0.3, 0.35], \"y\": [null, null, null, null, null, null, 0.0, null, null, null, null, null, null, null], \"yaxis\": \"y\", \"type\": \"scatter\", \"xaxis\": \"x\"}, {\"legendgroup\": \"chart (1, 1)\", \"name\": \"chart (1, 1) 20190502\", \"uid\": \"2e1cd0ee-fff6-11e9-918a-8c859025e7f9\", \"x\": [-0.3, -0.25, -0.2, -0.15, -0.1, -0.05, 0.0, 0.05, 0.1, 0.15, 0.2, 0.25, 0.3, 0.35], \"y\": [0.2073, 0.1641, 0.1238, 0.0848, 0.0495, 0.0209, 0.0, -0.0139, -0.0172, -0.0099, 0.0054, 0.0181, 0.038, null], \"yaxis\": \"y\", \"type\": \"scatter\", \"xaxis\": \"x\"}, {\"legendgroup\": \"chart (1, 1)\", \"name\": \"chart (1, 1) 20190503\", \"uid\": \"2e1d7878-fff6-11e9-ba86-8c859025e7f9\", \"x\": [-0.3, -0.25, -0.2, -0.15, -0.1, -0.05, 0.0, 0.05, 0.1, 0.15, 0.2, 0.25, 0.3, 0.35], \"y\": [0.2041, 0.1634, 0.1244, 0.0883, 0.0527, 0.023, 0.0, -0.013, -0.0167, -0.0098, 0.0079, 0.0276, 0.0504, null], \"yaxis\": \"y\", \"type\": \"scatter\", \"xaxis\": \"x\"}, {\"legendgroup\": \"chart (1, 1)\", \"name\": \"chart (1, 1) 20190506\", \"uid\": \"2e1dee98-fff6-11e9-a384-8c859025e7f9\", \"x\": [-0.3, -0.25, -0.2, -0.15, -0.1, -0.05, 0.0, 0.05, 0.1, 0.15, 0.2, 0.25, 0.3, 0.35], \"y\": [0.1966, 0.1557, 0.118, 0.0835, 0.0504, 0.0206, 0.0, -0.0145, -0.0151, -0.0055, 0.0093, 0.0314, 0.0496, null], \"yaxis\": \"y\", \"type\": \"scatter\", \"xaxis\": \"x\"}, {\"legendgroup\": \"chart (1, 1)\", \"name\": \"chart (1, 1) 20190507\", \"uid\": \"2e1e6fd0-fff6-11e9-a37b-8c859025e7f9\", \"x\": [-0.3, -0.25, -0.2, -0.15, -0.1, -0.05, 0.0, 0.05, 0.1, 0.15, 0.2, 0.25, 0.3, 0.35], \"y\": [0.1869, 0.1543, 0.1189, 0.0857, 0.0536, 0.0248, 0.0, -0.0137, -0.0187, -0.013, 0.0016, 0.0163, 0.0403, null], \"yaxis\": \"y\", \"type\": \"scatter\", \"xaxis\": \"x\"}, {\"legendgroup\": \"chart (1, 2)\", \"name\": \"chart (1, 2) 20190508\", \"uid\": \"2e1fe6ba-fff6-11e9-a261-8c859025e7f9\", \"x\": [-0.3, -0.25, -0.2, -0.15, -0.1, -0.05, 0.0, 0.05, 0.1, 0.15, 0.2, 0.25, 0.3, 0.35], \"y\": [0.2068, 0.1667, 0.1294, 0.0935, 0.0598, 0.0281, 0.0, -0.0131, -0.0156, -0.0083, 0.0071, 0.0271, 0.0532, null], \"yaxis\": \"y2\", \"type\": \"scatter\", \"xaxis\": \"x2\"}, {\"legendgroup\": \"chart (1, 2)\", \"name\": \"chart (1, 2) 20190509\", \"uid\": \"2e207fc8-fff6-11e9-aade-8c859025e7f9\", \"x\": [-0.3, -0.25, -0.2, -0.15, -0.1, -0.05, 0.0, 0.05, 0.1, 0.15, 0.2, 0.25, 0.3, 0.35], \"y\": [0.1969, 0.1603, 0.1235, 0.0863, 0.0521, 0.0218, 0.0, -0.0153, -0.0163, -0.0071, 0.0084, 0.0274, 0.0472, null], \"yaxis\": \"y2\", \"type\": \"scatter\", \"xaxis\": \"x2\"}, {\"legendgroup\": \"chart (1, 2)\", \"name\": \"chart (1, 2) 20190510\", \"uid\": \"2e210cf4-fff6-11e9-bf28-8c859025e7f9\", \"x\": [-0.3, -0.25, -0.2, -0.15, -0.1, -0.05, 0.0, 0.05, 0.1, 0.15, 0.2, 0.25, 0.3, 0.35], \"y\": [0.1966, 0.1584, 0.1223, 0.0842, 0.0527, 0.0241, 0.0, -0.0085, -0.0057, 0.0063, 0.0244, 0.045, 0.0681, null], \"yaxis\": \"y2\", \"type\": \"scatter\", \"xaxis\": \"x2\"}, {\"legendgroup\": \"chart (1, 2)\", \"name\": \"chart (1, 2) 20190513\", \"uid\": \"2e218b52-fff6-11e9-83eb-8c859025e7f9\", \"x\": [-0.3, -0.25, -0.2, -0.15, -0.1, -0.05, 0.0, 0.05, 0.1, 0.15, 0.2, 0.25, 0.3, 0.35], \"y\": [0.1969, 0.1619, 0.1183, 0.0804, 0.046, 0.0175, 0.0, -0.0126, -0.0074, 0.008, 0.0274, 0.0515, 0.0766, null], \"yaxis\": \"y2\", \"type\": \"scatter\", \"xaxis\": \"x2\"}, {\"legendgroup\": \"chart (1, 2)\", \"name\": \"chart (1, 2) 20190514\", \"uid\": \"2e224542-fff6-11e9-8df0-8c859025e7f9\", \"x\": [-0.3, -0.25, -0.2, -0.15, -0.1, -0.05, 0.0, 0.05, 0.1, 0.15, 0.2, 0.25, 0.3, 0.35], \"y\": [0.1991, 0.156, 0.1184, 0.0804, 0.0439, 0.0163, 0.0, -0.0091, -0.0028, 0.0154, 0.0415, 0.0699, 0.093, null], \"yaxis\": \"y2\", \"type\": \"scatter\", \"xaxis\": \"x2\"}, {\"legendgroup\": \"chart (2, 1)\", \"name\": \"chart (2, 1) 20190515\", \"uid\": \"2e239c76-fff6-11e9-9914-8c859025e7f9\", \"x\": [-0.3, -0.25, -0.2, -0.15, -0.1, -0.05, 0.0, 0.05, 0.1, 0.15, 0.2, 0.25, 0.3, 0.35], \"y\": [0.211, 0.172, 0.1275, 0.0857, 0.0463, 0.0167, 0.0, -0.0077, 0.0007, 0.0206, 0.0461, 0.0789, 0.1032, null], \"yaxis\": \"y3\", \"type\": \"scatter\", \"xaxis\": \"x3\"}, {\"legendgroup\": \"chart (2, 1)\", \"name\": \"chart (2, 1) 20190516\", \"uid\": \"2e24ad28-fff6-11e9-a2fc-8c859025e7f9\", \"x\": [-0.3, -0.25, -0.2, -0.15, -0.1, -0.05, 0.0, 0.05, 0.1, 0.15, 0.2, 0.25, 0.3, 0.35], \"y\": [null, null, null, null, null, null, 0.0, null, null, null, null, null, null, null], \"yaxis\": \"y3\", \"type\": \"scatter\", \"xaxis\": \"x3\"}, {\"legendgroup\": \"chart (2, 1)\", \"name\": \"chart (2, 1) 20190517\", \"uid\": \"2e25a93a-fff6-11e9-8a14-8c859025e7f9\", \"x\": [-0.3, -0.25, -0.2, -0.15, -0.1, -0.05, 0.0, 0.05, 0.1, 0.15, 0.2, 0.25, 0.3, 0.35], \"y\": [0.2318, 0.1712, 0.1276, 0.0828, 0.0449, 0.0175, 0.0, -0.0075, 0.0019, 0.0247, 0.0505, 0.0835, 0.1087, null], \"yaxis\": \"y3\", \"type\": \"scatter\", \"xaxis\": \"x3\"}, {\"legendgroup\": \"chart (2, 1)\", \"name\": \"chart (2, 1) 20190520\", \"uid\": \"2e268558-fff6-11e9-ab34-8c859025e7f9\", \"x\": [-0.3, -0.25, -0.2, -0.15, -0.1, -0.05, 0.0, 0.05, 0.1, 0.15, 0.2, 0.25, 0.3, 0.35], \"y\": [0.2493, 0.1935, 0.1392, 0.0924, 0.0503, 0.0207, 0.0, -0.0012, 0.0109, 0.0361, 0.0634, 0.0983, 0.1257, null], \"yaxis\": \"y3\", \"type\": \"scatter\", \"xaxis\": \"x3\"}, {\"legendgroup\": \"chart (2, 1)\", \"name\": \"chart (2, 1) 20190521\", \"uid\": \"2e27729c-fff6-11e9-8cd3-8c859025e7f9\", \"x\": [-0.3, -0.25, -0.2, -0.15, -0.1, -0.05, 0.0, 0.05, 0.1, 0.15, 0.2, 0.25, 0.3, 0.35], \"y\": [0.2512, 0.1948, 0.1351, 0.0893, 0.0449, 0.0137, 0.0, -0.0052, 0.0074, 0.0337, 0.0653, 0.0959, 0.1262, null], \"yaxis\": \"y3\", \"type\": \"scatter\", \"xaxis\": \"x3\"}, {\"legendgroup\": \"chart (2, 2)\", \"name\": \"chart (2, 2) 20190522\", \"uid\": \"2e28c8b8-fff6-11e9-b620-8c859025e7f9\", \"x\": [-0.3, -0.25, -0.2, -0.15, -0.1, -0.05, 0.0, 0.05, 0.1, 0.15, 0.2, 0.25, 0.3, 0.35], \"y\": [0.2504, 0.1996, 0.1404, 0.0894, 0.0446, 0.0152, 0.0, -0.0028, 0.0077, 0.0302, 0.0624, 0.0934, 0.1318, null], \"yaxis\": \"y4\", \"type\": \"scatter\", \"xaxis\": \"x4\"}, {\"legendgroup\": \"chart (2, 2)\", \"name\": \"chart (2, 2) 20190523\", \"uid\": \"2e29e4a8-fff6-11e9-a3c7-8c859025e7f9\", \"x\": [-0.3, -0.25, -0.2, -0.15, -0.1, -0.05, 0.0, 0.05, 0.1, 0.15, 0.2, 0.25, 0.3, 0.35], \"y\": [null, null, null, null, null, null, 0.0, null, null, null, null, null, null, null], \"yaxis\": \"y4\", \"type\": \"scatter\", \"xaxis\": \"x4\"}, {\"legendgroup\": \"chart (2, 2)\", \"name\": \"chart (2, 2) 20190524\", \"uid\": \"2e2af85e-fff6-11e9-9322-8c859025e7f9\", \"x\": [-0.3, -0.25, -0.2, -0.15, -0.1, -0.05, 0.0, 0.05, 0.1, 0.15, 0.2, 0.25, 0.3, 0.35], \"y\": [0.2564, 0.2048, 0.1549, 0.1058, 0.0607, 0.0242, 0.0, -0.0088, 0.0024, 0.025, 0.0468, 0.0765, 0.1123, 0.1421], \"yaxis\": \"y4\", \"type\": \"scatter\", \"xaxis\": \"x4\"}, {\"legendgroup\": \"chart (2, 2)\", \"name\": \"chart (2, 2) 20190527\", \"uid\": \"2e2be94c-fff6-11e9-8ce1-8c859025e7f9\", \"x\": [-0.3, -0.25, -0.2, -0.15, -0.1, -0.05, 0.0, 0.05, 0.1, 0.15, 0.2, 0.25, 0.3, 0.35], \"y\": [0.2604, 0.2178, 0.1561, 0.1068, 0.0577, 0.022, 0.0, -0.0098, 0.0028, 0.0284, 0.0625, 0.0994, 0.1386, 0.1627], \"yaxis\": \"y4\", \"type\": \"scatter\", \"xaxis\": \"x4\"}, {\"legendgroup\": \"chart (2, 2)\", \"name\": \"chart (2, 2) 20190528\", \"uid\": \"2e2cd8a4-fff6-11e9-af8f-8c859025e7f9\", \"x\": [-0.3, -0.25, -0.2, -0.15, -0.1, -0.05, 0.0, 0.05, 0.1, 0.15, 0.2, 0.25, 0.3, 0.35], \"y\": [0.2453, 0.1981, 0.1571, 0.1057, 0.0632, 0.0266, 0.0, -0.0042, 0.0076, 0.0287, 0.058, 0.0852, 0.1203, 0.1525], \"yaxis\": \"y4\", \"type\": \"scatter\", \"xaxis\": \"x4\"}], {\"annotations\": [{\"font\": {\"size\": 16}, \"showarrow\": false, \"text\": \"CBQ19 20190501 - 20190507\", \"x\": 0.2275, \"xanchor\": \"center\", \"xref\": \"paper\", \"y\": 1.0, \"yanchor\": \"bottom\", \"yref\": \"paper\"}, {\"font\": {\"size\": 16}, \"showarrow\": false, \"text\": \"CBQ19 20190508 - 20190514\", \"x\": 0.7725, \"xanchor\": \"center\", \"xref\": \"paper\", \"y\": 1.0, \"yanchor\": \"bottom\", \"yref\": \"paper\"}, {\"font\": {\"size\": 16}, \"showarrow\": false, \"text\": \"CBQ19 20190515 - 20190521\", \"x\": 0.2275, \"xanchor\": \"center\", \"xref\": \"paper\", \"y\": 0.445, \"yanchor\": \"bottom\", \"yref\": \"paper\"}, {\"font\": {\"size\": 16}, \"showarrow\": false, \"text\": \"CBQ19 20190522 - 20190528\", \"x\": 0.7725, \"xanchor\": \"center\", \"xref\": \"paper\", \"y\": 0.445, \"yanchor\": \"bottom\", \"yref\": \"paper\"}], \"xaxis\": {\"anchor\": \"y\", \"domain\": [0.0, 0.455], \"tickangle\": 45, \"ticktext\": [-0.3, -0.25, -0.2, -0.15, -0.1, -0.05, 0.0, 0.05, 0.1, 0.15, 0.2, 0.25, 0.3, 0.35], \"tickvals\": [-0.3, -0.25, -0.2, -0.15, -0.1, -0.05, 0.0, 0.05, 0.1, 0.15, 0.2, 0.25, 0.3, 0.35], \"type\": \"category\"}, \"yaxis\": {\"anchor\": \"x\", \"domain\": [0.555, 1.0], \"title\": \"vol skew\"}, \"xaxis2\": {\"anchor\": \"y2\", \"domain\": [0.545, 1.0], \"tickangle\": 45, \"ticktext\": [-0.3, -0.25, -0.2, -0.15, -0.1, -0.05, 0.0, 0.05, 0.1, 0.15, 0.2, 0.25, 0.3, 0.35], \"tickvals\": [-0.3, -0.25, -0.2, -0.15, -0.1, -0.05, 0.0, 0.05, 0.1, 0.15, 0.2, 0.25, 0.3, 0.35], \"type\": \"category\"}, \"yaxis2\": {\"anchor\": \"x2\", \"domain\": [0.555, 1.0], \"title\": \"vol skew\"}, \"xaxis3\": {\"anchor\": \"y3\", \"domain\": [0.0, 0.455], \"tickangle\": 45, \"ticktext\": [-0.3, -0.25, -0.2, -0.15, -0.1, -0.05, 0.0, 0.05, 0.1, 0.15, 0.2, 0.25, 0.3, 0.35], \"tickvals\": [-0.3, -0.25, -0.2, -0.15, -0.1, -0.05, 0.0, 0.05, 0.1, 0.15, 0.2, 0.25, 0.3, 0.35], \"type\": \"category\"}, \"yaxis3\": {\"anchor\": \"x3\", \"domain\": [0.0, 0.445], \"title\": \"vol skew\"}, \"xaxis4\": {\"anchor\": \"y4\", \"domain\": [0.545, 1.0], \"tickangle\": 45, \"ticktext\": [-0.3, -0.25, -0.2, -0.15, -0.1, -0.05, 0.0, 0.05, 0.1, 0.15, 0.2, 0.25, 0.3, 0.35], \"tickvals\": [-0.3, -0.25, -0.2, -0.15, -0.1, -0.05, 0.0, 0.05, 0.1, 0.15, 0.2, 0.25, 0.3, 0.35], \"type\": \"category\"}, \"yaxis4\": {\"anchor\": \"x4\", \"domain\": [0.0, 0.445], \"title\": \"vol skew\"}, \"font\": {\"family\": \"Open Sans, sans-serif\"}, \"margin\": {\"b\": 55, \"l\": 45, \"r\": 15, \"t\": 50}, \"title\": \"Skew plots<br>\", \"showlegend\": true, \"hovermode\": \"x\", \"autosize\": true, \"width\": 900, \"height\": 800, \"plot_bgcolor\": \"#EFECEA\", \"bargap\": 0.05}, {\"showLink\": true, \"linkText\": \"Export to plot.ly\"})});</script>"
      ],
      "text/vnd.plotly.v1+html": [
       "<div id=\"85bbd1aa-4b1e-4d06-a8c1-a4229a75992b\" style=\"height: 800px; width: 900px;\" class=\"plotly-graph-div\"></div><script type=\"text/javascript\">require([\"plotly\"], function(Plotly) { window.PLOTLYENV=window.PLOTLYENV || {};window.PLOTLYENV.BASE_URL=\"https://plot.ly\";Plotly.newPlot(\"85bbd1aa-4b1e-4d06-a8c1-a4229a75992b\", [{\"legendgroup\": \"chart (1, 1)\", \"name\": \"chart (1, 1) 20190501\", \"uid\": \"2e1bf41c-fff6-11e9-8034-8c859025e7f9\", \"x\": [-0.3, -0.25, -0.2, -0.15, -0.1, -0.05, 0.0, 0.05, 0.1, 0.15, 0.2, 0.25, 0.3, 0.35], \"y\": [null, null, null, null, null, null, 0.0, null, null, null, null, null, null, null], \"yaxis\": \"y\", \"type\": \"scatter\", \"xaxis\": \"x\"}, {\"legendgroup\": \"chart (1, 1)\", \"name\": \"chart (1, 1) 20190502\", \"uid\": \"2e1cd0ee-fff6-11e9-918a-8c859025e7f9\", \"x\": [-0.3, -0.25, -0.2, -0.15, -0.1, -0.05, 0.0, 0.05, 0.1, 0.15, 0.2, 0.25, 0.3, 0.35], \"y\": [0.2073, 0.1641, 0.1238, 0.0848, 0.0495, 0.0209, 0.0, -0.0139, -0.0172, -0.0099, 0.0054, 0.0181, 0.038, null], \"yaxis\": \"y\", \"type\": \"scatter\", \"xaxis\": \"x\"}, {\"legendgroup\": \"chart (1, 1)\", \"name\": \"chart (1, 1) 20190503\", \"uid\": \"2e1d7878-fff6-11e9-ba86-8c859025e7f9\", \"x\": [-0.3, -0.25, -0.2, -0.15, -0.1, -0.05, 0.0, 0.05, 0.1, 0.15, 0.2, 0.25, 0.3, 0.35], \"y\": [0.2041, 0.1634, 0.1244, 0.0883, 0.0527, 0.023, 0.0, -0.013, -0.0167, -0.0098, 0.0079, 0.0276, 0.0504, null], \"yaxis\": \"y\", \"type\": \"scatter\", \"xaxis\": \"x\"}, {\"legendgroup\": \"chart (1, 1)\", \"name\": \"chart (1, 1) 20190506\", \"uid\": \"2e1dee98-fff6-11e9-a384-8c859025e7f9\", \"x\": [-0.3, -0.25, -0.2, -0.15, -0.1, -0.05, 0.0, 0.05, 0.1, 0.15, 0.2, 0.25, 0.3, 0.35], \"y\": [0.1966, 0.1557, 0.118, 0.0835, 0.0504, 0.0206, 0.0, -0.0145, -0.0151, -0.0055, 0.0093, 0.0314, 0.0496, null], \"yaxis\": \"y\", \"type\": \"scatter\", \"xaxis\": \"x\"}, {\"legendgroup\": \"chart (1, 1)\", \"name\": \"chart (1, 1) 20190507\", \"uid\": \"2e1e6fd0-fff6-11e9-a37b-8c859025e7f9\", \"x\": [-0.3, -0.25, -0.2, -0.15, -0.1, -0.05, 0.0, 0.05, 0.1, 0.15, 0.2, 0.25, 0.3, 0.35], \"y\": [0.1869, 0.1543, 0.1189, 0.0857, 0.0536, 0.0248, 0.0, -0.0137, -0.0187, -0.013, 0.0016, 0.0163, 0.0403, null], \"yaxis\": \"y\", \"type\": \"scatter\", \"xaxis\": \"x\"}, {\"legendgroup\": \"chart (1, 2)\", \"name\": \"chart (1, 2) 20190508\", \"uid\": \"2e1fe6ba-fff6-11e9-a261-8c859025e7f9\", \"x\": [-0.3, -0.25, -0.2, -0.15, -0.1, -0.05, 0.0, 0.05, 0.1, 0.15, 0.2, 0.25, 0.3, 0.35], \"y\": [0.2068, 0.1667, 0.1294, 0.0935, 0.0598, 0.0281, 0.0, -0.0131, -0.0156, -0.0083, 0.0071, 0.0271, 0.0532, null], \"yaxis\": \"y2\", \"type\": \"scatter\", \"xaxis\": \"x2\"}, {\"legendgroup\": \"chart (1, 2)\", \"name\": \"chart (1, 2) 20190509\", \"uid\": \"2e207fc8-fff6-11e9-aade-8c859025e7f9\", \"x\": [-0.3, -0.25, -0.2, -0.15, -0.1, -0.05, 0.0, 0.05, 0.1, 0.15, 0.2, 0.25, 0.3, 0.35], \"y\": [0.1969, 0.1603, 0.1235, 0.0863, 0.0521, 0.0218, 0.0, -0.0153, -0.0163, -0.0071, 0.0084, 0.0274, 0.0472, null], \"yaxis\": \"y2\", \"type\": \"scatter\", \"xaxis\": \"x2\"}, {\"legendgroup\": \"chart (1, 2)\", \"name\": \"chart (1, 2) 20190510\", \"uid\": \"2e210cf4-fff6-11e9-bf28-8c859025e7f9\", \"x\": [-0.3, -0.25, -0.2, -0.15, -0.1, -0.05, 0.0, 0.05, 0.1, 0.15, 0.2, 0.25, 0.3, 0.35], \"y\": [0.1966, 0.1584, 0.1223, 0.0842, 0.0527, 0.0241, 0.0, -0.0085, -0.0057, 0.0063, 0.0244, 0.045, 0.0681, null], \"yaxis\": \"y2\", \"type\": \"scatter\", \"xaxis\": \"x2\"}, {\"legendgroup\": \"chart (1, 2)\", \"name\": \"chart (1, 2) 20190513\", \"uid\": \"2e218b52-fff6-11e9-83eb-8c859025e7f9\", \"x\": [-0.3, -0.25, -0.2, -0.15, -0.1, -0.05, 0.0, 0.05, 0.1, 0.15, 0.2, 0.25, 0.3, 0.35], \"y\": [0.1969, 0.1619, 0.1183, 0.0804, 0.046, 0.0175, 0.0, -0.0126, -0.0074, 0.008, 0.0274, 0.0515, 0.0766, null], \"yaxis\": \"y2\", \"type\": \"scatter\", \"xaxis\": \"x2\"}, {\"legendgroup\": \"chart (1, 2)\", \"name\": \"chart (1, 2) 20190514\", \"uid\": \"2e224542-fff6-11e9-8df0-8c859025e7f9\", \"x\": [-0.3, -0.25, -0.2, -0.15, -0.1, -0.05, 0.0, 0.05, 0.1, 0.15, 0.2, 0.25, 0.3, 0.35], \"y\": [0.1991, 0.156, 0.1184, 0.0804, 0.0439, 0.0163, 0.0, -0.0091, -0.0028, 0.0154, 0.0415, 0.0699, 0.093, null], \"yaxis\": \"y2\", \"type\": \"scatter\", \"xaxis\": \"x2\"}, {\"legendgroup\": \"chart (2, 1)\", \"name\": \"chart (2, 1) 20190515\", \"uid\": \"2e239c76-fff6-11e9-9914-8c859025e7f9\", \"x\": [-0.3, -0.25, -0.2, -0.15, -0.1, -0.05, 0.0, 0.05, 0.1, 0.15, 0.2, 0.25, 0.3, 0.35], \"y\": [0.211, 0.172, 0.1275, 0.0857, 0.0463, 0.0167, 0.0, -0.0077, 0.0007, 0.0206, 0.0461, 0.0789, 0.1032, null], \"yaxis\": \"y3\", \"type\": \"scatter\", \"xaxis\": \"x3\"}, {\"legendgroup\": \"chart (2, 1)\", \"name\": \"chart (2, 1) 20190516\", \"uid\": \"2e24ad28-fff6-11e9-a2fc-8c859025e7f9\", \"x\": [-0.3, -0.25, -0.2, -0.15, -0.1, -0.05, 0.0, 0.05, 0.1, 0.15, 0.2, 0.25, 0.3, 0.35], \"y\": [null, null, null, null, null, null, 0.0, null, null, null, null, null, null, null], \"yaxis\": \"y3\", \"type\": \"scatter\", \"xaxis\": \"x3\"}, {\"legendgroup\": \"chart (2, 1)\", \"name\": \"chart (2, 1) 20190517\", \"uid\": \"2e25a93a-fff6-11e9-8a14-8c859025e7f9\", \"x\": [-0.3, -0.25, -0.2, -0.15, -0.1, -0.05, 0.0, 0.05, 0.1, 0.15, 0.2, 0.25, 0.3, 0.35], \"y\": [0.2318, 0.1712, 0.1276, 0.0828, 0.0449, 0.0175, 0.0, -0.0075, 0.0019, 0.0247, 0.0505, 0.0835, 0.1087, null], \"yaxis\": \"y3\", \"type\": \"scatter\", \"xaxis\": \"x3\"}, {\"legendgroup\": \"chart (2, 1)\", \"name\": \"chart (2, 1) 20190520\", \"uid\": \"2e268558-fff6-11e9-ab34-8c859025e7f9\", \"x\": [-0.3, -0.25, -0.2, -0.15, -0.1, -0.05, 0.0, 0.05, 0.1, 0.15, 0.2, 0.25, 0.3, 0.35], \"y\": [0.2493, 0.1935, 0.1392, 0.0924, 0.0503, 0.0207, 0.0, -0.0012, 0.0109, 0.0361, 0.0634, 0.0983, 0.1257, null], \"yaxis\": \"y3\", \"type\": \"scatter\", \"xaxis\": \"x3\"}, {\"legendgroup\": \"chart (2, 1)\", \"name\": \"chart (2, 1) 20190521\", \"uid\": \"2e27729c-fff6-11e9-8cd3-8c859025e7f9\", \"x\": [-0.3, -0.25, -0.2, -0.15, -0.1, -0.05, 0.0, 0.05, 0.1, 0.15, 0.2, 0.25, 0.3, 0.35], \"y\": [0.2512, 0.1948, 0.1351, 0.0893, 0.0449, 0.0137, 0.0, -0.0052, 0.0074, 0.0337, 0.0653, 0.0959, 0.1262, null], \"yaxis\": \"y3\", \"type\": \"scatter\", \"xaxis\": \"x3\"}, {\"legendgroup\": \"chart (2, 2)\", \"name\": \"chart (2, 2) 20190522\", \"uid\": \"2e28c8b8-fff6-11e9-b620-8c859025e7f9\", \"x\": [-0.3, -0.25, -0.2, -0.15, -0.1, -0.05, 0.0, 0.05, 0.1, 0.15, 0.2, 0.25, 0.3, 0.35], \"y\": [0.2504, 0.1996, 0.1404, 0.0894, 0.0446, 0.0152, 0.0, -0.0028, 0.0077, 0.0302, 0.0624, 0.0934, 0.1318, null], \"yaxis\": \"y4\", \"type\": \"scatter\", \"xaxis\": \"x4\"}, {\"legendgroup\": \"chart (2, 2)\", \"name\": \"chart (2, 2) 20190523\", \"uid\": \"2e29e4a8-fff6-11e9-a3c7-8c859025e7f9\", \"x\": [-0.3, -0.25, -0.2, -0.15, -0.1, -0.05, 0.0, 0.05, 0.1, 0.15, 0.2, 0.25, 0.3, 0.35], \"y\": [null, null, null, null, null, null, 0.0, null, null, null, null, null, null, null], \"yaxis\": \"y4\", \"type\": \"scatter\", \"xaxis\": \"x4\"}, {\"legendgroup\": \"chart (2, 2)\", \"name\": \"chart (2, 2) 20190524\", \"uid\": \"2e2af85e-fff6-11e9-9322-8c859025e7f9\", \"x\": [-0.3, -0.25, -0.2, -0.15, -0.1, -0.05, 0.0, 0.05, 0.1, 0.15, 0.2, 0.25, 0.3, 0.35], \"y\": [0.2564, 0.2048, 0.1549, 0.1058, 0.0607, 0.0242, 0.0, -0.0088, 0.0024, 0.025, 0.0468, 0.0765, 0.1123, 0.1421], \"yaxis\": \"y4\", \"type\": \"scatter\", \"xaxis\": \"x4\"}, {\"legendgroup\": \"chart (2, 2)\", \"name\": \"chart (2, 2) 20190527\", \"uid\": \"2e2be94c-fff6-11e9-8ce1-8c859025e7f9\", \"x\": [-0.3, -0.25, -0.2, -0.15, -0.1, -0.05, 0.0, 0.05, 0.1, 0.15, 0.2, 0.25, 0.3, 0.35], \"y\": [0.2604, 0.2178, 0.1561, 0.1068, 0.0577, 0.022, 0.0, -0.0098, 0.0028, 0.0284, 0.0625, 0.0994, 0.1386, 0.1627], \"yaxis\": \"y4\", \"type\": \"scatter\", \"xaxis\": \"x4\"}, {\"legendgroup\": \"chart (2, 2)\", \"name\": \"chart (2, 2) 20190528\", \"uid\": \"2e2cd8a4-fff6-11e9-af8f-8c859025e7f9\", \"x\": [-0.3, -0.25, -0.2, -0.15, -0.1, -0.05, 0.0, 0.05, 0.1, 0.15, 0.2, 0.25, 0.3, 0.35], \"y\": [0.2453, 0.1981, 0.1571, 0.1057, 0.0632, 0.0266, 0.0, -0.0042, 0.0076, 0.0287, 0.058, 0.0852, 0.1203, 0.1525], \"yaxis\": \"y4\", \"type\": \"scatter\", \"xaxis\": \"x4\"}], {\"annotations\": [{\"font\": {\"size\": 16}, \"showarrow\": false, \"text\": \"CBQ19 20190501 - 20190507\", \"x\": 0.2275, \"xanchor\": \"center\", \"xref\": \"paper\", \"y\": 1.0, \"yanchor\": \"bottom\", \"yref\": \"paper\"}, {\"font\": {\"size\": 16}, \"showarrow\": false, \"text\": \"CBQ19 20190508 - 20190514\", \"x\": 0.7725, \"xanchor\": \"center\", \"xref\": \"paper\", \"y\": 1.0, \"yanchor\": \"bottom\", \"yref\": \"paper\"}, {\"font\": {\"size\": 16}, \"showarrow\": false, \"text\": \"CBQ19 20190515 - 20190521\", \"x\": 0.2275, \"xanchor\": \"center\", \"xref\": \"paper\", \"y\": 0.445, \"yanchor\": \"bottom\", \"yref\": \"paper\"}, {\"font\": {\"size\": 16}, \"showarrow\": false, \"text\": \"CBQ19 20190522 - 20190528\", \"x\": 0.7725, \"xanchor\": \"center\", \"xref\": \"paper\", \"y\": 0.445, \"yanchor\": \"bottom\", \"yref\": \"paper\"}], \"xaxis\": {\"anchor\": \"y\", \"domain\": [0.0, 0.455], \"tickangle\": 45, \"ticktext\": [-0.3, -0.25, -0.2, -0.15, -0.1, -0.05, 0.0, 0.05, 0.1, 0.15, 0.2, 0.25, 0.3, 0.35], \"tickvals\": [-0.3, -0.25, -0.2, -0.15, -0.1, -0.05, 0.0, 0.05, 0.1, 0.15, 0.2, 0.25, 0.3, 0.35], \"type\": \"category\"}, \"yaxis\": {\"anchor\": \"x\", \"domain\": [0.555, 1.0], \"title\": \"vol skew\"}, \"xaxis2\": {\"anchor\": \"y2\", \"domain\": [0.545, 1.0], \"tickangle\": 45, \"ticktext\": [-0.3, -0.25, -0.2, -0.15, -0.1, -0.05, 0.0, 0.05, 0.1, 0.15, 0.2, 0.25, 0.3, 0.35], \"tickvals\": [-0.3, -0.25, -0.2, -0.15, -0.1, -0.05, 0.0, 0.05, 0.1, 0.15, 0.2, 0.25, 0.3, 0.35], \"type\": \"category\"}, \"yaxis2\": {\"anchor\": \"x2\", \"domain\": [0.555, 1.0], \"title\": \"vol skew\"}, \"xaxis3\": {\"anchor\": \"y3\", \"domain\": [0.0, 0.455], \"tickangle\": 45, \"ticktext\": [-0.3, -0.25, -0.2, -0.15, -0.1, -0.05, 0.0, 0.05, 0.1, 0.15, 0.2, 0.25, 0.3, 0.35], \"tickvals\": [-0.3, -0.25, -0.2, -0.15, -0.1, -0.05, 0.0, 0.05, 0.1, 0.15, 0.2, 0.25, 0.3, 0.35], \"type\": \"category\"}, \"yaxis3\": {\"anchor\": \"x3\", \"domain\": [0.0, 0.445], \"title\": \"vol skew\"}, \"xaxis4\": {\"anchor\": \"y4\", \"domain\": [0.545, 1.0], \"tickangle\": 45, \"ticktext\": [-0.3, -0.25, -0.2, -0.15, -0.1, -0.05, 0.0, 0.05, 0.1, 0.15, 0.2, 0.25, 0.3, 0.35], \"tickvals\": [-0.3, -0.25, -0.2, -0.15, -0.1, -0.05, 0.0, 0.05, 0.1, 0.15, 0.2, 0.25, 0.3, 0.35], \"type\": \"category\"}, \"yaxis4\": {\"anchor\": \"x4\", \"domain\": [0.0, 0.445], \"title\": \"vol skew\"}, \"font\": {\"family\": \"Open Sans, sans-serif\"}, \"margin\": {\"b\": 55, \"l\": 45, \"r\": 15, \"t\": 50}, \"title\": \"Skew plots<br>\", \"showlegend\": true, \"hovermode\": \"x\", \"autosize\": true, \"width\": 900, \"height\": 800, \"plot_bgcolor\": \"#EFECEA\", \"bargap\": 0.05}, {\"showLink\": true, \"linkText\": \"Export to plot.ly\"})});</script>"
      ]
     },
     "metadata": {},
     "output_type": "display_data"
    },
    {
     "data": {
      "application/vnd.plotly.v1+json": {
       "data": [
        {
         "legendgroup": "chart (1, 1)",
         "name": "chart (1, 1) 20190529",
         "type": "scatter",
         "uid": "2e6061a6-fff6-11e9-8023-8c859025e7f9",
         "x": [
          -0.3,
          -0.25,
          -0.2,
          -0.15,
          -0.1,
          -0.05,
          0,
          0.05,
          0.1,
          0.15,
          0.2,
          0.25,
          0.3,
          0.35
         ],
         "xaxis": "x",
         "y": [
          0.2648,
          0.2082,
          0.1589,
          0.1104,
          0.0639,
          0.0276,
          0,
          -0.0191,
          -0.0166,
          -0.0027,
          0.0234,
          0.056,
          0.0902,
          0.1047
         ],
         "yaxis": "y"
        },
        {
         "legendgroup": "chart (1, 1)",
         "name": "chart (1, 1) 20190530",
         "type": "scatter",
         "uid": "2e60d230-fff6-11e9-a4ff-8c859025e7f9",
         "x": [
          -0.3,
          -0.25,
          -0.2,
          -0.15,
          -0.1,
          -0.05,
          0,
          0.05,
          0.1,
          0.15,
          0.2,
          0.25,
          0.3,
          0.35
         ],
         "xaxis": "x",
         "y": [
          0.2621,
          0.2049,
          0.1543,
          0.1102,
          0.0649,
          0.0267,
          0,
          -0.0199,
          -0.0227,
          -0.0123,
          0.0102,
          0.0337,
          0.0693,
          0.0833
         ],
         "yaxis": "y"
        },
        {
         "legendgroup": "chart (1, 1)",
         "name": "chart (1, 1) 20190531",
         "type": "scatter",
         "uid": "2e61439e-fff6-11e9-ad90-8c859025e7f9",
         "x": [
          -0.3,
          -0.25,
          -0.2,
          -0.15,
          -0.1,
          -0.05,
          0,
          0.05,
          0.1,
          0.15,
          0.2,
          0.25,
          0.3,
          0.35
         ],
         "xaxis": "x",
         "y": [
          0.243,
          0.1928,
          0.1462,
          0.1009,
          0.0616,
          0.0287,
          0,
          -0.0259,
          -0.0428,
          -0.0423,
          -0.0285,
          -0.0069,
          0.0215,
          0.0514
         ],
         "yaxis": "y"
        }
       ],
       "layout": {
        "annotations": [
         {
          "font": {
           "size": 16
          },
          "showarrow": false,
          "text": "CBQ19 20190529 - 20190531",
          "x": 0.2275,
          "xanchor": "center",
          "xref": "paper",
          "y": 1,
          "yanchor": "bottom",
          "yref": "paper"
         }
        ],
        "autosize": true,
        "bargap": 0.05,
        "font": {
         "family": "Open Sans, sans-serif"
        },
        "height": 800,
        "hovermode": "x",
        "margin": {
         "b": 55,
         "l": 45,
         "r": 15,
         "t": 50
        },
        "plot_bgcolor": "#EFECEA",
        "showlegend": true,
        "title": "Skew plots<br>",
        "width": 900,
        "xaxis": {
         "anchor": "y",
         "domain": [
          0,
          0.455
         ],
         "tickangle": 45,
         "ticktext": [
          -0.3,
          -0.25,
          -0.2,
          -0.15,
          -0.1,
          -0.05,
          0,
          0.05,
          0.1,
          0.15,
          0.2,
          0.25,
          0.3,
          0.35
         ],
         "tickvals": [
          -0.3,
          -0.25,
          -0.2,
          -0.15,
          -0.1,
          -0.05,
          0,
          0.05,
          0.1,
          0.15,
          0.2,
          0.25,
          0.3,
          0.35
         ],
         "type": "category"
        },
        "xaxis2": {
         "anchor": "y2",
         "domain": [
          0.545,
          1
         ]
        },
        "xaxis3": {
         "anchor": "y3",
         "domain": [
          0,
          0.455
         ]
        },
        "xaxis4": {
         "anchor": "y4",
         "domain": [
          0.545,
          1
         ]
        },
        "yaxis": {
         "anchor": "x",
         "domain": [
          0.555,
          1
         ],
         "title": "vol skew"
        },
        "yaxis2": {
         "anchor": "x2",
         "domain": [
          0.555,
          1
         ]
        },
        "yaxis3": {
         "anchor": "x3",
         "domain": [
          0,
          0.445
         ]
        },
        "yaxis4": {
         "anchor": "x4",
         "domain": [
          0,
          0.445
         ]
        }
       }
      },
      "text/html": [
       "<div id=\"520a6128-7fcd-4af3-afc1-5948987992c2\" style=\"height: 800px; width: 900px;\" class=\"plotly-graph-div\"></div><script type=\"text/javascript\">require([\"plotly\"], function(Plotly) { window.PLOTLYENV=window.PLOTLYENV || {};window.PLOTLYENV.BASE_URL=\"https://plot.ly\";Plotly.newPlot(\"520a6128-7fcd-4af3-afc1-5948987992c2\", [{\"legendgroup\": \"chart (1, 1)\", \"name\": \"chart (1, 1) 20190529\", \"uid\": \"2e6061a6-fff6-11e9-8023-8c859025e7f9\", \"x\": [-0.3, -0.25, -0.2, -0.15, -0.1, -0.05, 0.0, 0.05, 0.1, 0.15, 0.2, 0.25, 0.3, 0.35], \"y\": [0.2648, 0.2082, 0.1589, 0.1104, 0.0639, 0.0276, 0.0, -0.0191, -0.0166, -0.0027, 0.0234, 0.056, 0.0902, 0.1047], \"yaxis\": \"y\", \"type\": \"scatter\", \"xaxis\": \"x\"}, {\"legendgroup\": \"chart (1, 1)\", \"name\": \"chart (1, 1) 20190530\", \"uid\": \"2e60d230-fff6-11e9-a4ff-8c859025e7f9\", \"x\": [-0.3, -0.25, -0.2, -0.15, -0.1, -0.05, 0.0, 0.05, 0.1, 0.15, 0.2, 0.25, 0.3, 0.35], \"y\": [0.2621, 0.2049, 0.1543, 0.1102, 0.0649, 0.0267, 0.0, -0.0199, -0.0227, -0.0123, 0.0102, 0.0337, 0.0693, 0.0833], \"yaxis\": \"y\", \"type\": \"scatter\", \"xaxis\": \"x\"}, {\"legendgroup\": \"chart (1, 1)\", \"name\": \"chart (1, 1) 20190531\", \"uid\": \"2e61439e-fff6-11e9-ad90-8c859025e7f9\", \"x\": [-0.3, -0.25, -0.2, -0.15, -0.1, -0.05, 0.0, 0.05, 0.1, 0.15, 0.2, 0.25, 0.3, 0.35], \"y\": [0.243, 0.1928, 0.1462, 0.1009, 0.0616, 0.0287, 0.0, -0.0259, -0.0428, -0.0423, -0.0285, -0.0069, 0.0215, 0.0514], \"yaxis\": \"y\", \"type\": \"scatter\", \"xaxis\": \"x\"}], {\"annotations\": [{\"font\": {\"size\": 16}, \"showarrow\": false, \"text\": \"CBQ19 20190529 - 20190531\", \"x\": 0.2275, \"xanchor\": \"center\", \"xref\": \"paper\", \"y\": 1.0, \"yanchor\": \"bottom\", \"yref\": \"paper\"}], \"xaxis\": {\"anchor\": \"y\", \"domain\": [0.0, 0.455], \"tickangle\": 45, \"ticktext\": [-0.3, -0.25, -0.2, -0.15, -0.1, -0.05, 0.0, 0.05, 0.1, 0.15, 0.2, 0.25, 0.3, 0.35], \"tickvals\": [-0.3, -0.25, -0.2, -0.15, -0.1, -0.05, 0.0, 0.05, 0.1, 0.15, 0.2, 0.25, 0.3, 0.35], \"type\": \"category\"}, \"yaxis\": {\"anchor\": \"x\", \"domain\": [0.555, 1.0], \"title\": \"vol skew\"}, \"xaxis2\": {\"anchor\": \"y2\", \"domain\": [0.545, 1.0]}, \"yaxis2\": {\"anchor\": \"x2\", \"domain\": [0.555, 1.0]}, \"xaxis3\": {\"anchor\": \"y3\", \"domain\": [0.0, 0.455]}, \"yaxis3\": {\"anchor\": \"x3\", \"domain\": [0.0, 0.445]}, \"xaxis4\": {\"anchor\": \"y4\", \"domain\": [0.545, 1.0]}, \"yaxis4\": {\"anchor\": \"x4\", \"domain\": [0.0, 0.445]}, \"font\": {\"family\": \"Open Sans, sans-serif\"}, \"margin\": {\"b\": 55, \"l\": 45, \"r\": 15, \"t\": 50}, \"title\": \"Skew plots<br>\", \"showlegend\": true, \"hovermode\": \"x\", \"autosize\": true, \"width\": 900, \"height\": 800, \"plot_bgcolor\": \"#EFECEA\", \"bargap\": 0.05}, {\"showLink\": true, \"linkText\": \"Export to plot.ly\"})});</script>"
      ],
      "text/vnd.plotly.v1+html": [
       "<div id=\"520a6128-7fcd-4af3-afc1-5948987992c2\" style=\"height: 800px; width: 900px;\" class=\"plotly-graph-div\"></div><script type=\"text/javascript\">require([\"plotly\"], function(Plotly) { window.PLOTLYENV=window.PLOTLYENV || {};window.PLOTLYENV.BASE_URL=\"https://plot.ly\";Plotly.newPlot(\"520a6128-7fcd-4af3-afc1-5948987992c2\", [{\"legendgroup\": \"chart (1, 1)\", \"name\": \"chart (1, 1) 20190529\", \"uid\": \"2e6061a6-fff6-11e9-8023-8c859025e7f9\", \"x\": [-0.3, -0.25, -0.2, -0.15, -0.1, -0.05, 0.0, 0.05, 0.1, 0.15, 0.2, 0.25, 0.3, 0.35], \"y\": [0.2648, 0.2082, 0.1589, 0.1104, 0.0639, 0.0276, 0.0, -0.0191, -0.0166, -0.0027, 0.0234, 0.056, 0.0902, 0.1047], \"yaxis\": \"y\", \"type\": \"scatter\", \"xaxis\": \"x\"}, {\"legendgroup\": \"chart (1, 1)\", \"name\": \"chart (1, 1) 20190530\", \"uid\": \"2e60d230-fff6-11e9-a4ff-8c859025e7f9\", \"x\": [-0.3, -0.25, -0.2, -0.15, -0.1, -0.05, 0.0, 0.05, 0.1, 0.15, 0.2, 0.25, 0.3, 0.35], \"y\": [0.2621, 0.2049, 0.1543, 0.1102, 0.0649, 0.0267, 0.0, -0.0199, -0.0227, -0.0123, 0.0102, 0.0337, 0.0693, 0.0833], \"yaxis\": \"y\", \"type\": \"scatter\", \"xaxis\": \"x\"}, {\"legendgroup\": \"chart (1, 1)\", \"name\": \"chart (1, 1) 20190531\", \"uid\": \"2e61439e-fff6-11e9-ad90-8c859025e7f9\", \"x\": [-0.3, -0.25, -0.2, -0.15, -0.1, -0.05, 0.0, 0.05, 0.1, 0.15, 0.2, 0.25, 0.3, 0.35], \"y\": [0.243, 0.1928, 0.1462, 0.1009, 0.0616, 0.0287, 0.0, -0.0259, -0.0428, -0.0423, -0.0285, -0.0069, 0.0215, 0.0514], \"yaxis\": \"y\", \"type\": \"scatter\", \"xaxis\": \"x\"}], {\"annotations\": [{\"font\": {\"size\": 16}, \"showarrow\": false, \"text\": \"CBQ19 20190529 - 20190531\", \"x\": 0.2275, \"xanchor\": \"center\", \"xref\": \"paper\", \"y\": 1.0, \"yanchor\": \"bottom\", \"yref\": \"paper\"}], \"xaxis\": {\"anchor\": \"y\", \"domain\": [0.0, 0.455], \"tickangle\": 45, \"ticktext\": [-0.3, -0.25, -0.2, -0.15, -0.1, -0.05, 0.0, 0.05, 0.1, 0.15, 0.2, 0.25, 0.3, 0.35], \"tickvals\": [-0.3, -0.25, -0.2, -0.15, -0.1, -0.05, 0.0, 0.05, 0.1, 0.15, 0.2, 0.25, 0.3, 0.35], \"type\": \"category\"}, \"yaxis\": {\"anchor\": \"x\", \"domain\": [0.555, 1.0], \"title\": \"vol skew\"}, \"xaxis2\": {\"anchor\": \"y2\", \"domain\": [0.545, 1.0]}, \"yaxis2\": {\"anchor\": \"x2\", \"domain\": [0.555, 1.0]}, \"xaxis3\": {\"anchor\": \"y3\", \"domain\": [0.0, 0.455]}, \"yaxis3\": {\"anchor\": \"x3\", \"domain\": [0.0, 0.445]}, \"xaxis4\": {\"anchor\": \"y4\", \"domain\": [0.545, 1.0]}, \"yaxis4\": {\"anchor\": \"x4\", \"domain\": [0.0, 0.445]}, \"font\": {\"family\": \"Open Sans, sans-serif\"}, \"margin\": {\"b\": 55, \"l\": 45, \"r\": 15, \"t\": 50}, \"title\": \"Skew plots<br>\", \"showlegend\": true, \"hovermode\": \"x\", \"autosize\": true, \"width\": 900, \"height\": 800, \"plot_bgcolor\": \"#EFECEA\", \"bargap\": 0.05}, {\"showLink\": true, \"linkText\": \"Export to plot.ly\"})});</script>"
      ]
     },
     "metadata": {},
     "output_type": "display_data"
    },
    {
     "data": {
      "application/vnd.plotly.v1+json": {
       "data": [
        {
         "legendgroup": "chart (1, 1)",
         "name": "chart (1, 1) 20190603",
         "type": "scatter",
         "uid": "2eba678c-fff6-11e9-97ab-8c859025e7f9",
         "x": [
          -0.3,
          -0.25,
          -0.2,
          -0.15,
          -0.1,
          -0.05,
          0,
          0.05,
          0.1,
          0.15,
          0.2,
          0.25,
          0.3,
          0.35
         ],
         "xaxis": "x",
         "y": [
          0.147,
          0.1187,
          0.0903,
          0.0659,
          0.0426,
          0.0208,
          0,
          -0.019,
          -0.0347,
          -0.0441,
          -0.0489,
          -0.0457,
          -0.0362,
          -0.0255
         ],
         "yaxis": "y"
        },
        {
         "legendgroup": "chart (1, 1)",
         "name": "chart (1, 1) 20190604",
         "type": "scatter",
         "uid": "2ebb7dc0-fff6-11e9-8bfc-8c859025e7f9",
         "x": [
          -0.3,
          -0.25,
          -0.2,
          -0.15,
          -0.1,
          -0.05,
          0,
          0.05,
          0.1,
          0.15,
          0.2,
          0.25,
          0.3,
          0.35
         ],
         "xaxis": "x",
         "y": [
          0.1461,
          0.1168,
          0.0909,
          0.0659,
          0.0428,
          0.0206,
          0,
          -0.0177,
          -0.033,
          -0.0393,
          -0.0401,
          -0.0327,
          -0.0216,
          -0.006
         ],
         "yaxis": "y"
        },
        {
         "legendgroup": "chart (1, 1)",
         "name": "chart (1, 1) 20190605",
         "type": "scatter",
         "uid": "2ebc0448-fff6-11e9-8f9b-8c859025e7f9",
         "x": [
          -0.3,
          -0.25,
          -0.2,
          -0.15,
          -0.1,
          -0.05,
          0,
          0.05,
          0.1,
          0.15,
          0.2,
          0.25,
          0.3,
          0.35
         ],
         "xaxis": "x",
         "y": [
          0.1351,
          0.1029,
          0.0777,
          0.0557,
          0.0363,
          0.0177,
          0,
          -0.0168,
          -0.0312,
          -0.0405,
          -0.0434,
          -0.0376,
          -0.0271,
          -0.0097
         ],
         "yaxis": "y"
        },
        {
         "legendgroup": "chart (1, 1)",
         "name": "chart (1, 1) 20190606",
         "type": "scatter",
         "uid": "2ebc92fa-fff6-11e9-9111-8c859025e7f9",
         "x": [
          -0.3,
          -0.25,
          -0.2,
          -0.15,
          -0.1,
          -0.05,
          0,
          0.05,
          0.1,
          0.15,
          0.2,
          0.25,
          0.3,
          0.35
         ],
         "xaxis": "x",
         "y": [
          0.1323,
          0.0997,
          0.0731,
          0.0503,
          0.0326,
          0.0162,
          0,
          -0.0124,
          -0.0212,
          -0.0243,
          -0.022,
          -0.0101,
          0.0077,
          0.0257
         ],
         "yaxis": "y"
        },
        {
         "legendgroup": "chart (1, 1)",
         "name": "chart (1, 1) 20190607",
         "type": "scatter",
         "uid": "2ebd1858-fff6-11e9-98c4-8c859025e7f9",
         "x": [
          -0.3,
          -0.25,
          -0.2,
          -0.15,
          -0.1,
          -0.05,
          0,
          0.05,
          0.1,
          0.15,
          0.2,
          0.25,
          0.3,
          0.35
         ],
         "xaxis": "x",
         "y": [
          0.1473,
          0.1133,
          0.0818,
          0.0584,
          0.0363,
          0.0186,
          0,
          -0.0107,
          -0.0166,
          -0.0168,
          -0.0074,
          0.011,
          0.034,
          0.0585
         ],
         "yaxis": "y"
        },
        {
         "legendgroup": "chart (1, 2)",
         "name": "chart (1, 2) 20190610",
         "type": "scatter",
         "uid": "2ebe4c9e-fff6-11e9-bf20-8c859025e7f9",
         "x": [
          -0.3,
          -0.25,
          -0.2,
          -0.15,
          -0.1,
          -0.05,
          0,
          0.05,
          0.1,
          0.15,
          0.2,
          0.25,
          0.3,
          0.35
         ],
         "xaxis": "x2",
         "y": [
          0.1725,
          0.1303,
          0.0936,
          0.0649,
          0.0413,
          0.0204,
          0,
          -0.0174,
          -0.0273,
          -0.027,
          -0.0156,
          0.0088,
          0.0276,
          0.0574
         ],
         "yaxis": "y2"
        },
        {
         "legendgroup": "chart (1, 2)",
         "name": "chart (1, 2) 20190611",
         "type": "scatter",
         "uid": "2ebf46d0-fff6-11e9-ba63-8c859025e7f9",
         "x": [
          -0.3,
          -0.25,
          -0.2,
          -0.15,
          -0.1,
          -0.05,
          0,
          0.05,
          0.1,
          0.15,
          0.2,
          0.25,
          0.3,
          0.35
         ],
         "xaxis": "x2",
         "y": [
          0.1764,
          0.1313,
          0.0964,
          0.0685,
          0.0424,
          0.0186,
          0,
          -0.0144,
          -0.0242,
          -0.025,
          -0.0119,
          0.0079,
          0.0339,
          0.0574
         ],
         "yaxis": "y2"
        },
        {
         "legendgroup": "chart (1, 2)",
         "name": "chart (1, 2) 20190612",
         "type": "scatter",
         "uid": "2ebfbffa-fff6-11e9-9fb4-8c859025e7f9",
         "x": [
          -0.3,
          -0.25,
          -0.2,
          -0.15,
          -0.1,
          -0.05,
          0,
          0.05,
          0.1,
          0.15,
          0.2,
          0.25,
          0.3,
          0.35
         ],
         "xaxis": "x2",
         "y": [
          0.1616,
          0.1244,
          0.0962,
          0.0683,
          0.0443,
          0.0238,
          0,
          -0.0164,
          -0.0245,
          -0.0286,
          -0.0241,
          -0.0093,
          0.0063,
          0.0239
         ],
         "yaxis": "y2"
        },
        {
         "legendgroup": "chart (1, 2)",
         "name": "chart (1, 2) 20190613",
         "type": "scatter",
         "uid": "2ec0a374-fff6-11e9-bf81-8c859025e7f9",
         "x": [
          -0.3,
          -0.25,
          -0.2,
          -0.15,
          -0.1,
          -0.05,
          0,
          0.05,
          0.1,
          0.15,
          0.2,
          0.25,
          0.3,
          0.35
         ],
         "xaxis": "x2",
         "y": [
          0.1529,
          0.1133,
          0.0821,
          0.0548,
          0.0345,
          0.0152,
          0,
          -0.0136,
          -0.0219,
          -0.0227,
          -0.0126,
          0.0018,
          0.0221,
          0.0476
         ],
         "yaxis": "y2"
        },
        {
         "legendgroup": "chart (1, 2)",
         "name": "chart (1, 2) 20190614",
         "type": "scatter",
         "uid": "2ec17482-fff6-11e9-80d9-8c859025e7f9",
         "x": [
          -0.3,
          -0.25,
          -0.2,
          -0.15,
          -0.1,
          -0.05,
          0,
          0.05,
          0.1,
          0.15,
          0.2,
          0.25,
          0.3,
          0.35
         ],
         "xaxis": "x2",
         "y": [
          0.1505,
          0.1107,
          0.0768,
          0.0519,
          0.0325,
          0.0144,
          0,
          -0.0088,
          -0.0113,
          -0.008,
          0.0046,
          0.0229,
          0.0469,
          0.0721
         ],
         "yaxis": "y2"
        },
        {
         "legendgroup": "chart (2, 1)",
         "name": "chart (2, 1) 20190617",
         "type": "scatter",
         "uid": "2ec27fba-fff6-11e9-b0db-8c859025e7f9",
         "x": [
          -0.3,
          -0.25,
          -0.2,
          -0.15,
          -0.1,
          -0.05,
          0,
          0.05,
          0.1,
          0.15,
          0.2,
          0.25,
          0.3,
          0.35
         ],
         "xaxis": "x3",
         "y": [
          0.1681,
          0.1229,
          0.09,
          0.0596,
          0.0363,
          0.0161,
          0,
          -0.01,
          -0.0136,
          -0.0125,
          -0.002,
          0.0186,
          0.0421,
          0.0602
         ],
         "yaxis": "y3"
        },
        {
         "legendgroup": "chart (2, 1)",
         "name": "chart (2, 1) 20190618",
         "type": "scatter",
         "uid": "2ec2eb78-fff6-11e9-8442-8c859025e7f9",
         "x": [
          -0.3,
          -0.25,
          -0.2,
          -0.15,
          -0.1,
          -0.05,
          0,
          0.05,
          0.1,
          0.15,
          0.2,
          0.25,
          0.3,
          0.35
         ],
         "xaxis": "x3",
         "y": [
          0.1802,
          0.1362,
          0.0995,
          0.0698,
          0.0439,
          0.0214,
          0,
          -0.0194,
          -0.0267,
          -0.0269,
          -0.0114,
          0.0104,
          0.0326,
          0.0527
         ],
         "yaxis": "y3"
        },
        {
         "legendgroup": "chart (2, 1)",
         "name": "chart (2, 1) 20190619",
         "type": "scatter",
         "uid": "2ec3942e-fff6-11e9-a198-8c859025e7f9",
         "x": [
          -0.3,
          -0.25,
          -0.2,
          -0.15,
          -0.1,
          -0.05,
          0,
          0.05,
          0.1,
          0.15,
          0.2,
          0.25,
          0.3,
          0.35
         ],
         "xaxis": "x3",
         "y": [
          0.185,
          0.1416,
          0.1019,
          0.0724,
          0.0479,
          0.0229,
          0,
          -0.0158,
          -0.0247,
          -0.0214,
          -0.0085,
          0.0157,
          0.035,
          0.0612
         ],
         "yaxis": "y3"
        },
        {
         "legendgroup": "chart (2, 1)",
         "name": "chart (2, 1) 20190620",
         "type": "scatter",
         "uid": "2ec43fb4-fff6-11e9-b703-8c859025e7f9",
         "x": [
          -0.3,
          -0.25,
          -0.2,
          -0.15,
          -0.1,
          -0.05,
          0,
          0.05,
          0.1,
          0.15,
          0.2,
          0.25,
          0.3,
          0.35
         ],
         "xaxis": "x3",
         "y": [
          0.165,
          0.1182,
          0.0809,
          0.0506,
          0.0257,
          0.0082,
          0,
          -0.0078,
          -0.0057,
          0.0049,
          0.0246,
          null,
          0.0717,
          null
         ],
         "yaxis": "y3"
        },
        {
         "legendgroup": "chart (2, 1)",
         "name": "chart (2, 1) 20190621",
         "type": "scatter",
         "uid": "2ec506f6-fff6-11e9-9a89-8c859025e7f9",
         "x": [
          -0.3,
          -0.25,
          -0.2,
          -0.15,
          -0.1,
          -0.05,
          0,
          0.05,
          0.1,
          0.15,
          0.2,
          0.25,
          0.3,
          0.35
         ],
         "xaxis": "x3",
         "y": [
          0.1666,
          0.1171,
          0.079,
          0.0522,
          0.0264,
          0.0101,
          0,
          -0.0045,
          0,
          0.0124,
          0.0327,
          0.0578,
          0.0842,
          null
         ],
         "yaxis": "y3"
        },
        {
         "legendgroup": "chart (2, 2)",
         "name": "chart (2, 2) 20190624",
         "type": "scatter",
         "uid": "2ec63a6c-fff6-11e9-b8b2-8c859025e7f9",
         "x": [
          -0.3,
          -0.25,
          -0.2,
          -0.15,
          -0.1,
          -0.05,
          0,
          0.05,
          0.1,
          0.15,
          0.2,
          0.25,
          0.3,
          0.35
         ],
         "xaxis": "x4",
         "y": [
          0.2003,
          0.1453,
          0.1065,
          0.0678,
          0.0388,
          0.014,
          0,
          -0.0036,
          -0.0024,
          0.0099,
          0.0324,
          0.0597,
          0.0923,
          null
         ],
         "yaxis": "y4"
        },
        {
         "legendgroup": "chart (2, 2)",
         "name": "chart (2, 2) 20190625",
         "type": "scatter",
         "uid": "2ec6afb0-fff6-11e9-91f1-8c859025e7f9",
         "x": [
          -0.3,
          -0.25,
          -0.2,
          -0.15,
          -0.1,
          -0.05,
          0,
          0.05,
          0.1,
          0.15,
          0.2,
          0.25,
          0.3,
          0.35
         ],
         "xaxis": "x4",
         "y": [
          0.1895,
          0.1413,
          0.094,
          0.0584,
          0.0316,
          0.0088,
          0,
          -0.0091,
          -0.008,
          0.0059,
          0.0269,
          0.0569,
          0.0851,
          null
         ],
         "yaxis": "y4"
        },
        {
         "legendgroup": "chart (2, 2)",
         "name": "chart (2, 2) 20190626",
         "type": "scatter",
         "uid": "2ec7e062-fff6-11e9-92d0-8c859025e7f9",
         "x": [
          -0.3,
          -0.25,
          -0.2,
          -0.15,
          -0.1,
          -0.05,
          0,
          0.05,
          0.1,
          0.15,
          0.2,
          0.25,
          0.3,
          0.35
         ],
         "xaxis": "x4",
         "y": [
          0.217,
          0.1546,
          0.1099,
          0.0697,
          0.0397,
          0.0169,
          0,
          -0.0045,
          -0.0043,
          0.0155,
          0.0396,
          0.0698,
          null,
          null
         ],
         "yaxis": "y4"
        },
        {
         "legendgroup": "chart (2, 2)",
         "name": "chart (2, 2) 20190627",
         "type": "scatter",
         "uid": "2ec887d8-fff6-11e9-83bb-8c859025e7f9",
         "x": [
          -0.3,
          -0.25,
          -0.2,
          -0.15,
          -0.1,
          -0.05,
          0,
          0.05,
          0.1,
          0.15,
          0.2,
          0.25,
          0.3,
          0.35
         ],
         "xaxis": "x4",
         "y": [
          0.2047,
          0.149,
          0.1098,
          0.0761,
          0.0447,
          0.0187,
          0,
          -0.0045,
          -0.0049,
          0.012,
          0.0357,
          0.0618,
          null,
          null
         ],
         "yaxis": "y4"
        },
        {
         "legendgroup": "chart (2, 2)",
         "name": "chart (2, 2) 20190628",
         "type": "scatter",
         "uid": "2ec90ecc-fff6-11e9-8562-8c859025e7f9",
         "x": [
          -0.3,
          -0.25,
          -0.2,
          -0.15,
          -0.1,
          -0.05,
          0,
          0.05,
          0.1,
          0.15,
          0.2,
          0.25,
          0.3,
          0.35
         ],
         "xaxis": "x4",
         "y": [
          0.2093,
          0.1576,
          0.1148,
          0.0768,
          0.0448,
          0.0137,
          0,
          -0.0128,
          -0.0154,
          -0.0005,
          0.0222,
          0.0464,
          0.0817,
          null
         ],
         "yaxis": "y4"
        }
       ],
       "layout": {
        "annotations": [
         {
          "font": {
           "size": 16
          },
          "showarrow": false,
          "text": "CBU19 20190603 - 20190607",
          "x": 0.2275,
          "xanchor": "center",
          "xref": "paper",
          "y": 1,
          "yanchor": "bottom",
          "yref": "paper"
         },
         {
          "font": {
           "size": 16
          },
          "showarrow": false,
          "text": "CBU19 20190610 - 20190614",
          "x": 0.7725,
          "xanchor": "center",
          "xref": "paper",
          "y": 1,
          "yanchor": "bottom",
          "yref": "paper"
         },
         {
          "font": {
           "size": 16
          },
          "showarrow": false,
          "text": "CBU19 20190617 - 20190621",
          "x": 0.2275,
          "xanchor": "center",
          "xref": "paper",
          "y": 0.445,
          "yanchor": "bottom",
          "yref": "paper"
         },
         {
          "font": {
           "size": 16
          },
          "showarrow": false,
          "text": "CBU19 20190624 - 20190628",
          "x": 0.7725,
          "xanchor": "center",
          "xref": "paper",
          "y": 0.445,
          "yanchor": "bottom",
          "yref": "paper"
         }
        ],
        "autosize": true,
        "bargap": 0.05,
        "font": {
         "family": "Open Sans, sans-serif"
        },
        "height": 800,
        "hovermode": "x",
        "margin": {
         "b": 55,
         "l": 45,
         "r": 15,
         "t": 50
        },
        "plot_bgcolor": "#EFECEA",
        "showlegend": true,
        "title": "Skew plots<br>",
        "width": 900,
        "xaxis": {
         "anchor": "y",
         "domain": [
          0,
          0.455
         ],
         "tickangle": 45,
         "ticktext": [
          -0.3,
          -0.25,
          -0.2,
          -0.15,
          -0.1,
          -0.05,
          0,
          0.05,
          0.1,
          0.15,
          0.2,
          0.25,
          0.3,
          0.35
         ],
         "tickvals": [
          -0.3,
          -0.25,
          -0.2,
          -0.15,
          -0.1,
          -0.05,
          0,
          0.05,
          0.1,
          0.15,
          0.2,
          0.25,
          0.3,
          0.35
         ],
         "type": "category"
        },
        "xaxis2": {
         "anchor": "y2",
         "domain": [
          0.545,
          1
         ],
         "tickangle": 45,
         "ticktext": [
          -0.3,
          -0.25,
          -0.2,
          -0.15,
          -0.1,
          -0.05,
          0,
          0.05,
          0.1,
          0.15,
          0.2,
          0.25,
          0.3,
          0.35
         ],
         "tickvals": [
          -0.3,
          -0.25,
          -0.2,
          -0.15,
          -0.1,
          -0.05,
          0,
          0.05,
          0.1,
          0.15,
          0.2,
          0.25,
          0.3,
          0.35
         ],
         "type": "category"
        },
        "xaxis3": {
         "anchor": "y3",
         "domain": [
          0,
          0.455
         ],
         "tickangle": 45,
         "ticktext": [
          -0.3,
          -0.25,
          -0.2,
          -0.15,
          -0.1,
          -0.05,
          0,
          0.05,
          0.1,
          0.15,
          0.2,
          0.25,
          0.3,
          0.35
         ],
         "tickvals": [
          -0.3,
          -0.25,
          -0.2,
          -0.15,
          -0.1,
          -0.05,
          0,
          0.05,
          0.1,
          0.15,
          0.2,
          0.25,
          0.3,
          0.35
         ],
         "type": "category"
        },
        "xaxis4": {
         "anchor": "y4",
         "domain": [
          0.545,
          1
         ],
         "tickangle": 45,
         "ticktext": [
          -0.3,
          -0.25,
          -0.2,
          -0.15,
          -0.1,
          -0.05,
          0,
          0.05,
          0.1,
          0.15,
          0.2,
          0.25,
          0.3,
          0.35
         ],
         "tickvals": [
          -0.3,
          -0.25,
          -0.2,
          -0.15,
          -0.1,
          -0.05,
          0,
          0.05,
          0.1,
          0.15,
          0.2,
          0.25,
          0.3,
          0.35
         ],
         "type": "category"
        },
        "yaxis": {
         "anchor": "x",
         "domain": [
          0.555,
          1
         ],
         "title": "vol skew"
        },
        "yaxis2": {
         "anchor": "x2",
         "domain": [
          0.555,
          1
         ],
         "title": "vol skew"
        },
        "yaxis3": {
         "anchor": "x3",
         "domain": [
          0,
          0.445
         ],
         "title": "vol skew"
        },
        "yaxis4": {
         "anchor": "x4",
         "domain": [
          0,
          0.445
         ],
         "title": "vol skew"
        }
       }
      },
      "text/html": [
       "<div id=\"e276d5c4-a0a0-402b-8cb4-177465cd97fa\" style=\"height: 800px; width: 900px;\" class=\"plotly-graph-div\"></div><script type=\"text/javascript\">require([\"plotly\"], function(Plotly) { window.PLOTLYENV=window.PLOTLYENV || {};window.PLOTLYENV.BASE_URL=\"https://plot.ly\";Plotly.newPlot(\"e276d5c4-a0a0-402b-8cb4-177465cd97fa\", [{\"legendgroup\": \"chart (1, 1)\", \"name\": \"chart (1, 1) 20190603\", \"uid\": \"2eba678c-fff6-11e9-97ab-8c859025e7f9\", \"x\": [-0.3, -0.25, -0.2, -0.15, -0.1, -0.05, 0.0, 0.05, 0.1, 0.15, 0.2, 0.25, 0.3, 0.35], \"y\": [0.147, 0.1187, 0.0903, 0.0659, 0.0426, 0.0208, 0.0, -0.019, -0.0347, -0.0441, -0.0489, -0.0457, -0.0362, -0.0255], \"yaxis\": \"y\", \"type\": \"scatter\", \"xaxis\": \"x\"}, {\"legendgroup\": \"chart (1, 1)\", \"name\": \"chart (1, 1) 20190604\", \"uid\": \"2ebb7dc0-fff6-11e9-8bfc-8c859025e7f9\", \"x\": [-0.3, -0.25, -0.2, -0.15, -0.1, -0.05, 0.0, 0.05, 0.1, 0.15, 0.2, 0.25, 0.3, 0.35], \"y\": [0.1461, 0.1168, 0.0909, 0.0659, 0.0428, 0.0206, 0.0, -0.0177, -0.033, -0.0393, -0.0401, -0.0327, -0.0216, -0.006], \"yaxis\": \"y\", \"type\": \"scatter\", \"xaxis\": \"x\"}, {\"legendgroup\": \"chart (1, 1)\", \"name\": \"chart (1, 1) 20190605\", \"uid\": \"2ebc0448-fff6-11e9-8f9b-8c859025e7f9\", \"x\": [-0.3, -0.25, -0.2, -0.15, -0.1, -0.05, 0.0, 0.05, 0.1, 0.15, 0.2, 0.25, 0.3, 0.35], \"y\": [0.1351, 0.1029, 0.0777, 0.0557, 0.0363, 0.0177, 0.0, -0.0168, -0.0312, -0.0405, -0.0434, -0.0376, -0.0271, -0.0097], \"yaxis\": \"y\", \"type\": \"scatter\", \"xaxis\": \"x\"}, {\"legendgroup\": \"chart (1, 1)\", \"name\": \"chart (1, 1) 20190606\", \"uid\": \"2ebc92fa-fff6-11e9-9111-8c859025e7f9\", \"x\": [-0.3, -0.25, -0.2, -0.15, -0.1, -0.05, 0.0, 0.05, 0.1, 0.15, 0.2, 0.25, 0.3, 0.35], \"y\": [0.1323, 0.0997, 0.0731, 0.0503, 0.0326, 0.0162, 0.0, -0.0124, -0.0212, -0.0243, -0.022, -0.0101, 0.0077, 0.0257], \"yaxis\": \"y\", \"type\": \"scatter\", \"xaxis\": \"x\"}, {\"legendgroup\": \"chart (1, 1)\", \"name\": \"chart (1, 1) 20190607\", \"uid\": \"2ebd1858-fff6-11e9-98c4-8c859025e7f9\", \"x\": [-0.3, -0.25, -0.2, -0.15, -0.1, -0.05, 0.0, 0.05, 0.1, 0.15, 0.2, 0.25, 0.3, 0.35], \"y\": [0.1473, 0.1133, 0.0818, 0.0584, 0.0363, 0.0186, 0.0, -0.0107, -0.0166, -0.0168, -0.0074, 0.011, 0.034, 0.0585], \"yaxis\": \"y\", \"type\": \"scatter\", \"xaxis\": \"x\"}, {\"legendgroup\": \"chart (1, 2)\", \"name\": \"chart (1, 2) 20190610\", \"uid\": \"2ebe4c9e-fff6-11e9-bf20-8c859025e7f9\", \"x\": [-0.3, -0.25, -0.2, -0.15, -0.1, -0.05, 0.0, 0.05, 0.1, 0.15, 0.2, 0.25, 0.3, 0.35], \"y\": [0.1725, 0.1303, 0.0936, 0.0649, 0.0413, 0.0204, 0.0, -0.0174, -0.0273, -0.027, -0.0156, 0.0088, 0.0276, 0.0574], \"yaxis\": \"y2\", \"type\": \"scatter\", \"xaxis\": \"x2\"}, {\"legendgroup\": \"chart (1, 2)\", \"name\": \"chart (1, 2) 20190611\", \"uid\": \"2ebf46d0-fff6-11e9-ba63-8c859025e7f9\", \"x\": [-0.3, -0.25, -0.2, -0.15, -0.1, -0.05, 0.0, 0.05, 0.1, 0.15, 0.2, 0.25, 0.3, 0.35], \"y\": [0.1764, 0.1313, 0.0964, 0.0685, 0.0424, 0.0186, 0.0, -0.0144, -0.0242, -0.025, -0.0119, 0.0079, 0.0339, 0.0574], \"yaxis\": \"y2\", \"type\": \"scatter\", \"xaxis\": \"x2\"}, {\"legendgroup\": \"chart (1, 2)\", \"name\": \"chart (1, 2) 20190612\", \"uid\": \"2ebfbffa-fff6-11e9-9fb4-8c859025e7f9\", \"x\": [-0.3, -0.25, -0.2, -0.15, -0.1, -0.05, 0.0, 0.05, 0.1, 0.15, 0.2, 0.25, 0.3, 0.35], \"y\": [0.1616, 0.1244, 0.0962, 0.0683, 0.0443, 0.0238, 0.0, -0.0164, -0.0245, -0.0286, -0.0241, -0.0093, 0.0063, 0.0239], \"yaxis\": \"y2\", \"type\": \"scatter\", \"xaxis\": \"x2\"}, {\"legendgroup\": \"chart (1, 2)\", \"name\": \"chart (1, 2) 20190613\", \"uid\": \"2ec0a374-fff6-11e9-bf81-8c859025e7f9\", \"x\": [-0.3, -0.25, -0.2, -0.15, -0.1, -0.05, 0.0, 0.05, 0.1, 0.15, 0.2, 0.25, 0.3, 0.35], \"y\": [0.1529, 0.1133, 0.0821, 0.0548, 0.0345, 0.0152, 0.0, -0.0136, -0.0219, -0.0227, -0.0126, 0.0018, 0.0221, 0.0476], \"yaxis\": \"y2\", \"type\": \"scatter\", \"xaxis\": \"x2\"}, {\"legendgroup\": \"chart (1, 2)\", \"name\": \"chart (1, 2) 20190614\", \"uid\": \"2ec17482-fff6-11e9-80d9-8c859025e7f9\", \"x\": [-0.3, -0.25, -0.2, -0.15, -0.1, -0.05, 0.0, 0.05, 0.1, 0.15, 0.2, 0.25, 0.3, 0.35], \"y\": [0.1505, 0.1107, 0.0768, 0.0519, 0.0325, 0.0144, 0.0, -0.0088, -0.0113, -0.008, 0.0046, 0.0229, 0.0469, 0.0721], \"yaxis\": \"y2\", \"type\": \"scatter\", \"xaxis\": \"x2\"}, {\"legendgroup\": \"chart (2, 1)\", \"name\": \"chart (2, 1) 20190617\", \"uid\": \"2ec27fba-fff6-11e9-b0db-8c859025e7f9\", \"x\": [-0.3, -0.25, -0.2, -0.15, -0.1, -0.05, 0.0, 0.05, 0.1, 0.15, 0.2, 0.25, 0.3, 0.35], \"y\": [0.1681, 0.1229, 0.09, 0.0596, 0.0363, 0.0161, 0.0, -0.01, -0.0136, -0.0125, -0.002, 0.0186, 0.0421, 0.0602], \"yaxis\": \"y3\", \"type\": \"scatter\", \"xaxis\": \"x3\"}, {\"legendgroup\": \"chart (2, 1)\", \"name\": \"chart (2, 1) 20190618\", \"uid\": \"2ec2eb78-fff6-11e9-8442-8c859025e7f9\", \"x\": [-0.3, -0.25, -0.2, -0.15, -0.1, -0.05, 0.0, 0.05, 0.1, 0.15, 0.2, 0.25, 0.3, 0.35], \"y\": [0.1802, 0.1362, 0.0995, 0.0698, 0.0439, 0.0214, 0.0, -0.0194, -0.0267, -0.0269, -0.0114, 0.0104, 0.0326, 0.0527], \"yaxis\": \"y3\", \"type\": \"scatter\", \"xaxis\": \"x3\"}, {\"legendgroup\": \"chart (2, 1)\", \"name\": \"chart (2, 1) 20190619\", \"uid\": \"2ec3942e-fff6-11e9-a198-8c859025e7f9\", \"x\": [-0.3, -0.25, -0.2, -0.15, -0.1, -0.05, 0.0, 0.05, 0.1, 0.15, 0.2, 0.25, 0.3, 0.35], \"y\": [0.185, 0.1416, 0.1019, 0.0724, 0.0479, 0.0229, 0.0, -0.0158, -0.0247, -0.0214, -0.0085, 0.0157, 0.035, 0.0612], \"yaxis\": \"y3\", \"type\": \"scatter\", \"xaxis\": \"x3\"}, {\"legendgroup\": \"chart (2, 1)\", \"name\": \"chart (2, 1) 20190620\", \"uid\": \"2ec43fb4-fff6-11e9-b703-8c859025e7f9\", \"x\": [-0.3, -0.25, -0.2, -0.15, -0.1, -0.05, 0.0, 0.05, 0.1, 0.15, 0.2, 0.25, 0.3, 0.35], \"y\": [0.165, 0.1182, 0.0809, 0.0506, 0.0257, 0.0082, 0.0, -0.0078, -0.0057, 0.0049, 0.0246, null, 0.0717, null], \"yaxis\": \"y3\", \"type\": \"scatter\", \"xaxis\": \"x3\"}, {\"legendgroup\": \"chart (2, 1)\", \"name\": \"chart (2, 1) 20190621\", \"uid\": \"2ec506f6-fff6-11e9-9a89-8c859025e7f9\", \"x\": [-0.3, -0.25, -0.2, -0.15, -0.1, -0.05, 0.0, 0.05, 0.1, 0.15, 0.2, 0.25, 0.3, 0.35], \"y\": [0.1666, 0.1171, 0.079, 0.0522, 0.0264, 0.0101, 0.0, -0.0045, -0.0, 0.0124, 0.0327, 0.0578, 0.0842, null], \"yaxis\": \"y3\", \"type\": \"scatter\", \"xaxis\": \"x3\"}, {\"legendgroup\": \"chart (2, 2)\", \"name\": \"chart (2, 2) 20190624\", \"uid\": \"2ec63a6c-fff6-11e9-b8b2-8c859025e7f9\", \"x\": [-0.3, -0.25, -0.2, -0.15, -0.1, -0.05, 0.0, 0.05, 0.1, 0.15, 0.2, 0.25, 0.3, 0.35], \"y\": [0.2003, 0.1453, 0.1065, 0.0678, 0.0388, 0.014, 0.0, -0.0036, -0.0024, 0.0099, 0.0324, 0.0597, 0.0923, null], \"yaxis\": \"y4\", \"type\": \"scatter\", \"xaxis\": \"x4\"}, {\"legendgroup\": \"chart (2, 2)\", \"name\": \"chart (2, 2) 20190625\", \"uid\": \"2ec6afb0-fff6-11e9-91f1-8c859025e7f9\", \"x\": [-0.3, -0.25, -0.2, -0.15, -0.1, -0.05, 0.0, 0.05, 0.1, 0.15, 0.2, 0.25, 0.3, 0.35], \"y\": [0.1895, 0.1413, 0.094, 0.0584, 0.0316, 0.0088, 0.0, -0.0091, -0.008, 0.0059, 0.0269, 0.0569, 0.0851, null], \"yaxis\": \"y4\", \"type\": \"scatter\", \"xaxis\": \"x4\"}, {\"legendgroup\": \"chart (2, 2)\", \"name\": \"chart (2, 2) 20190626\", \"uid\": \"2ec7e062-fff6-11e9-92d0-8c859025e7f9\", \"x\": [-0.3, -0.25, -0.2, -0.15, -0.1, -0.05, 0.0, 0.05, 0.1, 0.15, 0.2, 0.25, 0.3, 0.35], \"y\": [0.217, 0.1546, 0.1099, 0.0697, 0.0397, 0.0169, 0.0, -0.0045, -0.0043, 0.0155, 0.0396, 0.0698, null, null], \"yaxis\": \"y4\", \"type\": \"scatter\", \"xaxis\": \"x4\"}, {\"legendgroup\": \"chart (2, 2)\", \"name\": \"chart (2, 2) 20190627\", \"uid\": \"2ec887d8-fff6-11e9-83bb-8c859025e7f9\", \"x\": [-0.3, -0.25, -0.2, -0.15, -0.1, -0.05, 0.0, 0.05, 0.1, 0.15, 0.2, 0.25, 0.3, 0.35], \"y\": [0.2047, 0.149, 0.1098, 0.0761, 0.0447, 0.0187, 0.0, -0.0045, -0.0049, 0.012, 0.0357, 0.0618, null, null], \"yaxis\": \"y4\", \"type\": \"scatter\", \"xaxis\": \"x4\"}, {\"legendgroup\": \"chart (2, 2)\", \"name\": \"chart (2, 2) 20190628\", \"uid\": \"2ec90ecc-fff6-11e9-8562-8c859025e7f9\", \"x\": [-0.3, -0.25, -0.2, -0.15, -0.1, -0.05, 0.0, 0.05, 0.1, 0.15, 0.2, 0.25, 0.3, 0.35], \"y\": [0.2093, 0.1576, 0.1148, 0.0768, 0.0448, 0.0137, 0.0, -0.0128, -0.0154, -0.0005, 0.0222, 0.0464, 0.0817, null], \"yaxis\": \"y4\", \"type\": \"scatter\", \"xaxis\": \"x4\"}], {\"annotations\": [{\"font\": {\"size\": 16}, \"showarrow\": false, \"text\": \"CBU19 20190603 - 20190607\", \"x\": 0.2275, \"xanchor\": \"center\", \"xref\": \"paper\", \"y\": 1.0, \"yanchor\": \"bottom\", \"yref\": \"paper\"}, {\"font\": {\"size\": 16}, \"showarrow\": false, \"text\": \"CBU19 20190610 - 20190614\", \"x\": 0.7725, \"xanchor\": \"center\", \"xref\": \"paper\", \"y\": 1.0, \"yanchor\": \"bottom\", \"yref\": \"paper\"}, {\"font\": {\"size\": 16}, \"showarrow\": false, \"text\": \"CBU19 20190617 - 20190621\", \"x\": 0.2275, \"xanchor\": \"center\", \"xref\": \"paper\", \"y\": 0.445, \"yanchor\": \"bottom\", \"yref\": \"paper\"}, {\"font\": {\"size\": 16}, \"showarrow\": false, \"text\": \"CBU19 20190624 - 20190628\", \"x\": 0.7725, \"xanchor\": \"center\", \"xref\": \"paper\", \"y\": 0.445, \"yanchor\": \"bottom\", \"yref\": \"paper\"}], \"xaxis\": {\"anchor\": \"y\", \"domain\": [0.0, 0.455], \"tickangle\": 45, \"ticktext\": [-0.3, -0.25, -0.2, -0.15, -0.1, -0.05, 0.0, 0.05, 0.1, 0.15, 0.2, 0.25, 0.3, 0.35], \"tickvals\": [-0.3, -0.25, -0.2, -0.15, -0.1, -0.05, 0.0, 0.05, 0.1, 0.15, 0.2, 0.25, 0.3, 0.35], \"type\": \"category\"}, \"yaxis\": {\"anchor\": \"x\", \"domain\": [0.555, 1.0], \"title\": \"vol skew\"}, \"xaxis2\": {\"anchor\": \"y2\", \"domain\": [0.545, 1.0], \"tickangle\": 45, \"ticktext\": [-0.3, -0.25, -0.2, -0.15, -0.1, -0.05, 0.0, 0.05, 0.1, 0.15, 0.2, 0.25, 0.3, 0.35], \"tickvals\": [-0.3, -0.25, -0.2, -0.15, -0.1, -0.05, 0.0, 0.05, 0.1, 0.15, 0.2, 0.25, 0.3, 0.35], \"type\": \"category\"}, \"yaxis2\": {\"anchor\": \"x2\", \"domain\": [0.555, 1.0], \"title\": \"vol skew\"}, \"xaxis3\": {\"anchor\": \"y3\", \"domain\": [0.0, 0.455], \"tickangle\": 45, \"ticktext\": [-0.3, -0.25, -0.2, -0.15, -0.1, -0.05, 0.0, 0.05, 0.1, 0.15, 0.2, 0.25, 0.3, 0.35], \"tickvals\": [-0.3, -0.25, -0.2, -0.15, -0.1, -0.05, 0.0, 0.05, 0.1, 0.15, 0.2, 0.25, 0.3, 0.35], \"type\": \"category\"}, \"yaxis3\": {\"anchor\": \"x3\", \"domain\": [0.0, 0.445], \"title\": \"vol skew\"}, \"xaxis4\": {\"anchor\": \"y4\", \"domain\": [0.545, 1.0], \"tickangle\": 45, \"ticktext\": [-0.3, -0.25, -0.2, -0.15, -0.1, -0.05, 0.0, 0.05, 0.1, 0.15, 0.2, 0.25, 0.3, 0.35], \"tickvals\": [-0.3, -0.25, -0.2, -0.15, -0.1, -0.05, 0.0, 0.05, 0.1, 0.15, 0.2, 0.25, 0.3, 0.35], \"type\": \"category\"}, \"yaxis4\": {\"anchor\": \"x4\", \"domain\": [0.0, 0.445], \"title\": \"vol skew\"}, \"font\": {\"family\": \"Open Sans, sans-serif\"}, \"margin\": {\"b\": 55, \"l\": 45, \"r\": 15, \"t\": 50}, \"title\": \"Skew plots<br>\", \"showlegend\": true, \"hovermode\": \"x\", \"autosize\": true, \"width\": 900, \"height\": 800, \"plot_bgcolor\": \"#EFECEA\", \"bargap\": 0.05}, {\"showLink\": true, \"linkText\": \"Export to plot.ly\"})});</script>"
      ],
      "text/vnd.plotly.v1+html": [
       "<div id=\"e276d5c4-a0a0-402b-8cb4-177465cd97fa\" style=\"height: 800px; width: 900px;\" class=\"plotly-graph-div\"></div><script type=\"text/javascript\">require([\"plotly\"], function(Plotly) { window.PLOTLYENV=window.PLOTLYENV || {};window.PLOTLYENV.BASE_URL=\"https://plot.ly\";Plotly.newPlot(\"e276d5c4-a0a0-402b-8cb4-177465cd97fa\", [{\"legendgroup\": \"chart (1, 1)\", \"name\": \"chart (1, 1) 20190603\", \"uid\": \"2eba678c-fff6-11e9-97ab-8c859025e7f9\", \"x\": [-0.3, -0.25, -0.2, -0.15, -0.1, -0.05, 0.0, 0.05, 0.1, 0.15, 0.2, 0.25, 0.3, 0.35], \"y\": [0.147, 0.1187, 0.0903, 0.0659, 0.0426, 0.0208, 0.0, -0.019, -0.0347, -0.0441, -0.0489, -0.0457, -0.0362, -0.0255], \"yaxis\": \"y\", \"type\": \"scatter\", \"xaxis\": \"x\"}, {\"legendgroup\": \"chart (1, 1)\", \"name\": \"chart (1, 1) 20190604\", \"uid\": \"2ebb7dc0-fff6-11e9-8bfc-8c859025e7f9\", \"x\": [-0.3, -0.25, -0.2, -0.15, -0.1, -0.05, 0.0, 0.05, 0.1, 0.15, 0.2, 0.25, 0.3, 0.35], \"y\": [0.1461, 0.1168, 0.0909, 0.0659, 0.0428, 0.0206, 0.0, -0.0177, -0.033, -0.0393, -0.0401, -0.0327, -0.0216, -0.006], \"yaxis\": \"y\", \"type\": \"scatter\", \"xaxis\": \"x\"}, {\"legendgroup\": \"chart (1, 1)\", \"name\": \"chart (1, 1) 20190605\", \"uid\": \"2ebc0448-fff6-11e9-8f9b-8c859025e7f9\", \"x\": [-0.3, -0.25, -0.2, -0.15, -0.1, -0.05, 0.0, 0.05, 0.1, 0.15, 0.2, 0.25, 0.3, 0.35], \"y\": [0.1351, 0.1029, 0.0777, 0.0557, 0.0363, 0.0177, 0.0, -0.0168, -0.0312, -0.0405, -0.0434, -0.0376, -0.0271, -0.0097], \"yaxis\": \"y\", \"type\": \"scatter\", \"xaxis\": \"x\"}, {\"legendgroup\": \"chart (1, 1)\", \"name\": \"chart (1, 1) 20190606\", \"uid\": \"2ebc92fa-fff6-11e9-9111-8c859025e7f9\", \"x\": [-0.3, -0.25, -0.2, -0.15, -0.1, -0.05, 0.0, 0.05, 0.1, 0.15, 0.2, 0.25, 0.3, 0.35], \"y\": [0.1323, 0.0997, 0.0731, 0.0503, 0.0326, 0.0162, 0.0, -0.0124, -0.0212, -0.0243, -0.022, -0.0101, 0.0077, 0.0257], \"yaxis\": \"y\", \"type\": \"scatter\", \"xaxis\": \"x\"}, {\"legendgroup\": \"chart (1, 1)\", \"name\": \"chart (1, 1) 20190607\", \"uid\": \"2ebd1858-fff6-11e9-98c4-8c859025e7f9\", \"x\": [-0.3, -0.25, -0.2, -0.15, -0.1, -0.05, 0.0, 0.05, 0.1, 0.15, 0.2, 0.25, 0.3, 0.35], \"y\": [0.1473, 0.1133, 0.0818, 0.0584, 0.0363, 0.0186, 0.0, -0.0107, -0.0166, -0.0168, -0.0074, 0.011, 0.034, 0.0585], \"yaxis\": \"y\", \"type\": \"scatter\", \"xaxis\": \"x\"}, {\"legendgroup\": \"chart (1, 2)\", \"name\": \"chart (1, 2) 20190610\", \"uid\": \"2ebe4c9e-fff6-11e9-bf20-8c859025e7f9\", \"x\": [-0.3, -0.25, -0.2, -0.15, -0.1, -0.05, 0.0, 0.05, 0.1, 0.15, 0.2, 0.25, 0.3, 0.35], \"y\": [0.1725, 0.1303, 0.0936, 0.0649, 0.0413, 0.0204, 0.0, -0.0174, -0.0273, -0.027, -0.0156, 0.0088, 0.0276, 0.0574], \"yaxis\": \"y2\", \"type\": \"scatter\", \"xaxis\": \"x2\"}, {\"legendgroup\": \"chart (1, 2)\", \"name\": \"chart (1, 2) 20190611\", \"uid\": \"2ebf46d0-fff6-11e9-ba63-8c859025e7f9\", \"x\": [-0.3, -0.25, -0.2, -0.15, -0.1, -0.05, 0.0, 0.05, 0.1, 0.15, 0.2, 0.25, 0.3, 0.35], \"y\": [0.1764, 0.1313, 0.0964, 0.0685, 0.0424, 0.0186, 0.0, -0.0144, -0.0242, -0.025, -0.0119, 0.0079, 0.0339, 0.0574], \"yaxis\": \"y2\", \"type\": \"scatter\", \"xaxis\": \"x2\"}, {\"legendgroup\": \"chart (1, 2)\", \"name\": \"chart (1, 2) 20190612\", \"uid\": \"2ebfbffa-fff6-11e9-9fb4-8c859025e7f9\", \"x\": [-0.3, -0.25, -0.2, -0.15, -0.1, -0.05, 0.0, 0.05, 0.1, 0.15, 0.2, 0.25, 0.3, 0.35], \"y\": [0.1616, 0.1244, 0.0962, 0.0683, 0.0443, 0.0238, 0.0, -0.0164, -0.0245, -0.0286, -0.0241, -0.0093, 0.0063, 0.0239], \"yaxis\": \"y2\", \"type\": \"scatter\", \"xaxis\": \"x2\"}, {\"legendgroup\": \"chart (1, 2)\", \"name\": \"chart (1, 2) 20190613\", \"uid\": \"2ec0a374-fff6-11e9-bf81-8c859025e7f9\", \"x\": [-0.3, -0.25, -0.2, -0.15, -0.1, -0.05, 0.0, 0.05, 0.1, 0.15, 0.2, 0.25, 0.3, 0.35], \"y\": [0.1529, 0.1133, 0.0821, 0.0548, 0.0345, 0.0152, 0.0, -0.0136, -0.0219, -0.0227, -0.0126, 0.0018, 0.0221, 0.0476], \"yaxis\": \"y2\", \"type\": \"scatter\", \"xaxis\": \"x2\"}, {\"legendgroup\": \"chart (1, 2)\", \"name\": \"chart (1, 2) 20190614\", \"uid\": \"2ec17482-fff6-11e9-80d9-8c859025e7f9\", \"x\": [-0.3, -0.25, -0.2, -0.15, -0.1, -0.05, 0.0, 0.05, 0.1, 0.15, 0.2, 0.25, 0.3, 0.35], \"y\": [0.1505, 0.1107, 0.0768, 0.0519, 0.0325, 0.0144, 0.0, -0.0088, -0.0113, -0.008, 0.0046, 0.0229, 0.0469, 0.0721], \"yaxis\": \"y2\", \"type\": \"scatter\", \"xaxis\": \"x2\"}, {\"legendgroup\": \"chart (2, 1)\", \"name\": \"chart (2, 1) 20190617\", \"uid\": \"2ec27fba-fff6-11e9-b0db-8c859025e7f9\", \"x\": [-0.3, -0.25, -0.2, -0.15, -0.1, -0.05, 0.0, 0.05, 0.1, 0.15, 0.2, 0.25, 0.3, 0.35], \"y\": [0.1681, 0.1229, 0.09, 0.0596, 0.0363, 0.0161, 0.0, -0.01, -0.0136, -0.0125, -0.002, 0.0186, 0.0421, 0.0602], \"yaxis\": \"y3\", \"type\": \"scatter\", \"xaxis\": \"x3\"}, {\"legendgroup\": \"chart (2, 1)\", \"name\": \"chart (2, 1) 20190618\", \"uid\": \"2ec2eb78-fff6-11e9-8442-8c859025e7f9\", \"x\": [-0.3, -0.25, -0.2, -0.15, -0.1, -0.05, 0.0, 0.05, 0.1, 0.15, 0.2, 0.25, 0.3, 0.35], \"y\": [0.1802, 0.1362, 0.0995, 0.0698, 0.0439, 0.0214, 0.0, -0.0194, -0.0267, -0.0269, -0.0114, 0.0104, 0.0326, 0.0527], \"yaxis\": \"y3\", \"type\": \"scatter\", \"xaxis\": \"x3\"}, {\"legendgroup\": \"chart (2, 1)\", \"name\": \"chart (2, 1) 20190619\", \"uid\": \"2ec3942e-fff6-11e9-a198-8c859025e7f9\", \"x\": [-0.3, -0.25, -0.2, -0.15, -0.1, -0.05, 0.0, 0.05, 0.1, 0.15, 0.2, 0.25, 0.3, 0.35], \"y\": [0.185, 0.1416, 0.1019, 0.0724, 0.0479, 0.0229, 0.0, -0.0158, -0.0247, -0.0214, -0.0085, 0.0157, 0.035, 0.0612], \"yaxis\": \"y3\", \"type\": \"scatter\", \"xaxis\": \"x3\"}, {\"legendgroup\": \"chart (2, 1)\", \"name\": \"chart (2, 1) 20190620\", \"uid\": \"2ec43fb4-fff6-11e9-b703-8c859025e7f9\", \"x\": [-0.3, -0.25, -0.2, -0.15, -0.1, -0.05, 0.0, 0.05, 0.1, 0.15, 0.2, 0.25, 0.3, 0.35], \"y\": [0.165, 0.1182, 0.0809, 0.0506, 0.0257, 0.0082, 0.0, -0.0078, -0.0057, 0.0049, 0.0246, null, 0.0717, null], \"yaxis\": \"y3\", \"type\": \"scatter\", \"xaxis\": \"x3\"}, {\"legendgroup\": \"chart (2, 1)\", \"name\": \"chart (2, 1) 20190621\", \"uid\": \"2ec506f6-fff6-11e9-9a89-8c859025e7f9\", \"x\": [-0.3, -0.25, -0.2, -0.15, -0.1, -0.05, 0.0, 0.05, 0.1, 0.15, 0.2, 0.25, 0.3, 0.35], \"y\": [0.1666, 0.1171, 0.079, 0.0522, 0.0264, 0.0101, 0.0, -0.0045, -0.0, 0.0124, 0.0327, 0.0578, 0.0842, null], \"yaxis\": \"y3\", \"type\": \"scatter\", \"xaxis\": \"x3\"}, {\"legendgroup\": \"chart (2, 2)\", \"name\": \"chart (2, 2) 20190624\", \"uid\": \"2ec63a6c-fff6-11e9-b8b2-8c859025e7f9\", \"x\": [-0.3, -0.25, -0.2, -0.15, -0.1, -0.05, 0.0, 0.05, 0.1, 0.15, 0.2, 0.25, 0.3, 0.35], \"y\": [0.2003, 0.1453, 0.1065, 0.0678, 0.0388, 0.014, 0.0, -0.0036, -0.0024, 0.0099, 0.0324, 0.0597, 0.0923, null], \"yaxis\": \"y4\", \"type\": \"scatter\", \"xaxis\": \"x4\"}, {\"legendgroup\": \"chart (2, 2)\", \"name\": \"chart (2, 2) 20190625\", \"uid\": \"2ec6afb0-fff6-11e9-91f1-8c859025e7f9\", \"x\": [-0.3, -0.25, -0.2, -0.15, -0.1, -0.05, 0.0, 0.05, 0.1, 0.15, 0.2, 0.25, 0.3, 0.35], \"y\": [0.1895, 0.1413, 0.094, 0.0584, 0.0316, 0.0088, 0.0, -0.0091, -0.008, 0.0059, 0.0269, 0.0569, 0.0851, null], \"yaxis\": \"y4\", \"type\": \"scatter\", \"xaxis\": \"x4\"}, {\"legendgroup\": \"chart (2, 2)\", \"name\": \"chart (2, 2) 20190626\", \"uid\": \"2ec7e062-fff6-11e9-92d0-8c859025e7f9\", \"x\": [-0.3, -0.25, -0.2, -0.15, -0.1, -0.05, 0.0, 0.05, 0.1, 0.15, 0.2, 0.25, 0.3, 0.35], \"y\": [0.217, 0.1546, 0.1099, 0.0697, 0.0397, 0.0169, 0.0, -0.0045, -0.0043, 0.0155, 0.0396, 0.0698, null, null], \"yaxis\": \"y4\", \"type\": \"scatter\", \"xaxis\": \"x4\"}, {\"legendgroup\": \"chart (2, 2)\", \"name\": \"chart (2, 2) 20190627\", \"uid\": \"2ec887d8-fff6-11e9-83bb-8c859025e7f9\", \"x\": [-0.3, -0.25, -0.2, -0.15, -0.1, -0.05, 0.0, 0.05, 0.1, 0.15, 0.2, 0.25, 0.3, 0.35], \"y\": [0.2047, 0.149, 0.1098, 0.0761, 0.0447, 0.0187, 0.0, -0.0045, -0.0049, 0.012, 0.0357, 0.0618, null, null], \"yaxis\": \"y4\", \"type\": \"scatter\", \"xaxis\": \"x4\"}, {\"legendgroup\": \"chart (2, 2)\", \"name\": \"chart (2, 2) 20190628\", \"uid\": \"2ec90ecc-fff6-11e9-8562-8c859025e7f9\", \"x\": [-0.3, -0.25, -0.2, -0.15, -0.1, -0.05, 0.0, 0.05, 0.1, 0.15, 0.2, 0.25, 0.3, 0.35], \"y\": [0.2093, 0.1576, 0.1148, 0.0768, 0.0448, 0.0137, 0.0, -0.0128, -0.0154, -0.0005, 0.0222, 0.0464, 0.0817, null], \"yaxis\": \"y4\", \"type\": \"scatter\", \"xaxis\": \"x4\"}], {\"annotations\": [{\"font\": {\"size\": 16}, \"showarrow\": false, \"text\": \"CBU19 20190603 - 20190607\", \"x\": 0.2275, \"xanchor\": \"center\", \"xref\": \"paper\", \"y\": 1.0, \"yanchor\": \"bottom\", \"yref\": \"paper\"}, {\"font\": {\"size\": 16}, \"showarrow\": false, \"text\": \"CBU19 20190610 - 20190614\", \"x\": 0.7725, \"xanchor\": \"center\", \"xref\": \"paper\", \"y\": 1.0, \"yanchor\": \"bottom\", \"yref\": \"paper\"}, {\"font\": {\"size\": 16}, \"showarrow\": false, \"text\": \"CBU19 20190617 - 20190621\", \"x\": 0.2275, \"xanchor\": \"center\", \"xref\": \"paper\", \"y\": 0.445, \"yanchor\": \"bottom\", \"yref\": \"paper\"}, {\"font\": {\"size\": 16}, \"showarrow\": false, \"text\": \"CBU19 20190624 - 20190628\", \"x\": 0.7725, \"xanchor\": \"center\", \"xref\": \"paper\", \"y\": 0.445, \"yanchor\": \"bottom\", \"yref\": \"paper\"}], \"xaxis\": {\"anchor\": \"y\", \"domain\": [0.0, 0.455], \"tickangle\": 45, \"ticktext\": [-0.3, -0.25, -0.2, -0.15, -0.1, -0.05, 0.0, 0.05, 0.1, 0.15, 0.2, 0.25, 0.3, 0.35], \"tickvals\": [-0.3, -0.25, -0.2, -0.15, -0.1, -0.05, 0.0, 0.05, 0.1, 0.15, 0.2, 0.25, 0.3, 0.35], \"type\": \"category\"}, \"yaxis\": {\"anchor\": \"x\", \"domain\": [0.555, 1.0], \"title\": \"vol skew\"}, \"xaxis2\": {\"anchor\": \"y2\", \"domain\": [0.545, 1.0], \"tickangle\": 45, \"ticktext\": [-0.3, -0.25, -0.2, -0.15, -0.1, -0.05, 0.0, 0.05, 0.1, 0.15, 0.2, 0.25, 0.3, 0.35], \"tickvals\": [-0.3, -0.25, -0.2, -0.15, -0.1, -0.05, 0.0, 0.05, 0.1, 0.15, 0.2, 0.25, 0.3, 0.35], \"type\": \"category\"}, \"yaxis2\": {\"anchor\": \"x2\", \"domain\": [0.555, 1.0], \"title\": \"vol skew\"}, \"xaxis3\": {\"anchor\": \"y3\", \"domain\": [0.0, 0.455], \"tickangle\": 45, \"ticktext\": [-0.3, -0.25, -0.2, -0.15, -0.1, -0.05, 0.0, 0.05, 0.1, 0.15, 0.2, 0.25, 0.3, 0.35], \"tickvals\": [-0.3, -0.25, -0.2, -0.15, -0.1, -0.05, 0.0, 0.05, 0.1, 0.15, 0.2, 0.25, 0.3, 0.35], \"type\": \"category\"}, \"yaxis3\": {\"anchor\": \"x3\", \"domain\": [0.0, 0.445], \"title\": \"vol skew\"}, \"xaxis4\": {\"anchor\": \"y4\", \"domain\": [0.545, 1.0], \"tickangle\": 45, \"ticktext\": [-0.3, -0.25, -0.2, -0.15, -0.1, -0.05, 0.0, 0.05, 0.1, 0.15, 0.2, 0.25, 0.3, 0.35], \"tickvals\": [-0.3, -0.25, -0.2, -0.15, -0.1, -0.05, 0.0, 0.05, 0.1, 0.15, 0.2, 0.25, 0.3, 0.35], \"type\": \"category\"}, \"yaxis4\": {\"anchor\": \"x4\", \"domain\": [0.0, 0.445], \"title\": \"vol skew\"}, \"font\": {\"family\": \"Open Sans, sans-serif\"}, \"margin\": {\"b\": 55, \"l\": 45, \"r\": 15, \"t\": 50}, \"title\": \"Skew plots<br>\", \"showlegend\": true, \"hovermode\": \"x\", \"autosize\": true, \"width\": 900, \"height\": 800, \"plot_bgcolor\": \"#EFECEA\", \"bargap\": 0.05}, {\"showLink\": true, \"linkText\": \"Export to plot.ly\"})});</script>"
      ]
     },
     "metadata": {},
     "output_type": "display_data"
    },
    {
     "data": {
      "application/vnd.plotly.v1+json": {
       "data": [
        {
         "legendgroup": "chart (1, 1)",
         "name": "chart (1, 1) 20190701",
         "type": "scatter",
         "uid": "2f58d390-fff6-11e9-89a8-8c859025e7f9",
         "x": [
          -0.3,
          -0.25,
          -0.2,
          -0.15,
          -0.1,
          -0.05,
          0,
          0.05,
          0.1,
          0.15,
          0.2,
          0.25,
          0.3,
          0.35
         ],
         "xaxis": "x",
         "y": [
          0.15,
          0.1162,
          0.0853,
          0.057,
          0.0338,
          0.0128,
          0,
          -0.0136,
          -0.0195,
          -0.0156,
          -0.0059,
          0.0063,
          0.0251,
          null
         ],
         "yaxis": "y"
        },
        {
         "legendgroup": "chart (1, 1)",
         "name": "chart (1, 1) 20190702",
         "type": "scatter",
         "uid": "2f595718-fff6-11e9-8f8d-8c859025e7f9",
         "x": [
          -0.3,
          -0.25,
          -0.2,
          -0.15,
          -0.1,
          -0.05,
          0,
          0.05,
          0.1,
          0.15,
          0.2,
          0.25,
          0.3,
          0.35
         ],
         "xaxis": "x",
         "y": [
          0.155,
          0.1218,
          0.0915,
          0.0641,
          0.0396,
          0.0183,
          0,
          -0.0124,
          -0.0154,
          -0.014,
          -0.0067,
          0.0078,
          0.0233,
          0.0455
         ],
         "yaxis": "y"
        },
        {
         "legendgroup": "chart (1, 1)",
         "name": "chart (1, 1) 20190703",
         "type": "scatter",
         "uid": "2f59d54c-fff6-11e9-8285-8c859025e7f9",
         "x": [
          -0.3,
          -0.25,
          -0.2,
          -0.15,
          -0.1,
          -0.05,
          0,
          0.05,
          0.1,
          0.15,
          0.2,
          0.25,
          0.3,
          0.35
         ],
         "xaxis": "x",
         "y": [
          0.157,
          0.1215,
          0.0914,
          0.0633,
          0.0396,
          0.0184,
          0,
          -0.0117,
          -0.0126,
          -0.0067,
          0.0057,
          0.0242,
          0.0421,
          0.0672
         ],
         "yaxis": "y"
        },
        {
         "legendgroup": "chart (1, 1)",
         "name": "chart (1, 1) 20190704",
         "type": "scatter",
         "uid": "2f5a77d8-fff6-11e9-80a1-8c859025e7f9",
         "x": [
          -0.3,
          -0.25,
          -0.2,
          -0.15,
          -0.1,
          -0.05,
          0,
          0.05,
          0.1,
          0.15,
          0.2,
          0.25,
          0.3,
          0.35
         ],
         "xaxis": "x",
         "y": [
          0.1612,
          0.1312,
          0.0996,
          0.0681,
          0.0425,
          0.0194,
          0,
          -0.0131,
          -0.0158,
          -0.0065,
          0.0068,
          0.0275,
          0.0477,
          0.0683
         ],
         "yaxis": "y"
        },
        {
         "legendgroup": "chart (1, 1)",
         "name": "chart (1, 1) 20190705",
         "type": "scatter",
         "uid": "2f5b5d86-fff6-11e9-a3d6-8c859025e7f9",
         "x": [
          -0.3,
          -0.25,
          -0.2,
          -0.15,
          -0.1,
          -0.05,
          0,
          0.05,
          0.1,
          0.15,
          0.2,
          0.25,
          0.3,
          0.35
         ],
         "xaxis": "x",
         "y": [
          0.1624,
          0.1281,
          0.0945,
          0.0673,
          0.0382,
          0.0165,
          0,
          -0.0117,
          -0.0136,
          -0.0044,
          0.0099,
          0.0295,
          0.0481,
          0.0751
         ],
         "yaxis": "y"
        },
        {
         "legendgroup": "chart (1, 2)",
         "name": "chart (1, 2) 20190708",
         "type": "scatter",
         "uid": "2f5ce8cc-fff6-11e9-80cf-8c859025e7f9",
         "x": [
          -0.3,
          -0.25,
          -0.2,
          -0.15,
          -0.1,
          -0.05,
          0,
          0.05,
          0.1,
          0.15,
          0.2,
          0.25,
          0.3,
          0.35
         ],
         "xaxis": "x2",
         "y": [
          0.1695,
          0.1301,
          0.1008,
          0.0679,
          0.0391,
          0.0168,
          0,
          -0.0111,
          -0.0109,
          0.0004,
          0.017,
          0.0389,
          0.0651,
          0.0828
         ],
         "yaxis": "y2"
        },
        {
         "legendgroup": "chart (1, 2)",
         "name": "chart (1, 2) 20190709",
         "type": "scatter",
         "uid": "2f5e3486-fff6-11e9-8409-8c859025e7f9",
         "x": [
          -0.3,
          -0.25,
          -0.2,
          -0.15,
          -0.1,
          -0.05,
          0,
          0.05,
          0.1,
          0.15,
          0.2,
          0.25,
          0.3,
          0.35
         ],
         "xaxis": "x2",
         "y": [
          0.1829,
          0.1314,
          0.0973,
          0.0658,
          0.0358,
          0.0152,
          0,
          -0.0088,
          -0.0044,
          0.0102,
          0.0314,
          0.0567,
          0.0765,
          0.1019
         ],
         "yaxis": "y2"
        },
        {
         "legendgroup": "chart (1, 2)",
         "name": "chart (1, 2) 20190710",
         "type": "scatter",
         "uid": "2f5f0698-fff6-11e9-a722-8c859025e7f9",
         "x": [
          -0.3,
          -0.25,
          -0.2,
          -0.15,
          -0.1,
          -0.05,
          0,
          0.05,
          0.1,
          0.15,
          0.2,
          0.25,
          0.3,
          0.35
         ],
         "xaxis": "x2",
         "y": [
          0.1703,
          0.1329,
          0.0915,
          0.0594,
          0.0331,
          0.0143,
          0,
          -0.0011,
          0.0027,
          0.0184,
          0.0362,
          0.0572,
          0.0806,
          null
         ],
         "yaxis": "y2"
        },
        {
         "legendgroup": "chart (1, 2)",
         "name": "chart (1, 2) 20190711",
         "type": "scatter",
         "uid": "2f601a88-fff6-11e9-8baf-8c859025e7f9",
         "x": [
          -0.3,
          -0.25,
          -0.2,
          -0.15,
          -0.1,
          -0.05,
          0,
          0.05,
          0.1,
          0.15,
          0.2,
          0.25,
          0.3,
          0.35
         ],
         "xaxis": "x2",
         "y": [
          0.1653,
          0.1247,
          0.0921,
          0.059,
          0.0316,
          0.01,
          0,
          -0.0097,
          -0.005,
          0.0115,
          0.0306,
          0.0556,
          0.0824,
          null
         ],
         "yaxis": "y2"
        },
        {
         "legendgroup": "chart (1, 2)",
         "name": "chart (1, 2) 20190712",
         "type": "scatter",
         "uid": "2f60cdca-fff6-11e9-838d-8c859025e7f9",
         "x": [
          -0.3,
          -0.25,
          -0.2,
          -0.15,
          -0.1,
          -0.05,
          0,
          0.05,
          0.1,
          0.15,
          0.2,
          0.25,
          0.3,
          0.35
         ],
         "xaxis": "x2",
         "y": [
          0.1767,
          0.133,
          0.094,
          0.0596,
          0.0338,
          0.0116,
          0,
          -0.0124,
          -0.0056,
          0.0109,
          0.0351,
          0.0583,
          0.085,
          null
         ],
         "yaxis": "y2"
        },
        {
         "legendgroup": "chart (2, 1)",
         "name": "chart (2, 1) 20190715",
         "type": "scatter",
         "uid": "2f625e92-fff6-11e9-b5f2-8c859025e7f9",
         "x": [
          -0.3,
          -0.25,
          -0.2,
          -0.15,
          -0.1,
          -0.05,
          0,
          0.05,
          0.1,
          0.15,
          0.2,
          0.25,
          0.3,
          0.35
         ],
         "xaxis": "x3",
         "y": [
          0.1915,
          0.1413,
          0.1006,
          0.0647,
          0.0367,
          0.0163,
          0,
          -0.0129,
          -0.0054,
          0.0127,
          0.0374,
          0.0678,
          0.0958,
          null
         ],
         "yaxis": "y3"
        },
        {
         "legendgroup": "chart (2, 1)",
         "name": "chart (2, 1) 20190716",
         "type": "scatter",
         "uid": "2f6331e6-fff6-11e9-8df4-8c859025e7f9",
         "x": [
          -0.3,
          -0.25,
          -0.2,
          -0.15,
          -0.1,
          -0.05,
          0,
          0.05,
          0.1,
          0.15,
          0.2,
          0.25,
          0.3,
          0.35
         ],
         "xaxis": "x3",
         "y": [
          0.1956,
          0.1504,
          0.102,
          0.0661,
          0.0337,
          0.0136,
          0,
          -0.012,
          -0.013,
          -0.0064,
          0.009,
          0.0237,
          0.0427,
          0.0636
         ],
         "yaxis": "y3"
        },
        {
         "legendgroup": "chart (2, 1)",
         "name": "chart (2, 1) 20190717",
         "type": "scatter",
         "uid": "2f63ce80-fff6-11e9-9bef-8c859025e7f9",
         "x": [
          -0.3,
          -0.25,
          -0.2,
          -0.15,
          -0.1,
          -0.05,
          0,
          0.05,
          0.1,
          0.15,
          0.2,
          0.25,
          0.3,
          0.35
         ],
         "xaxis": "x3",
         "y": [
          0.2143,
          0.1702,
          0.1215,
          0.0827,
          0.0478,
          0.0208,
          0,
          -0.0079,
          -0.0048,
          0.0061,
          0.0249,
          0.0513,
          0.0778,
          0.0961
         ],
         "yaxis": "y3"
        },
        {
         "legendgroup": "chart (2, 1)",
         "name": "chart (2, 1) 20190718",
         "type": "scatter",
         "uid": "2f645774-fff6-11e9-ae95-8c859025e7f9",
         "x": [
          -0.3,
          -0.25,
          -0.2,
          -0.15,
          -0.1,
          -0.05,
          0,
          0.05,
          0.1,
          0.15,
          0.2,
          0.25,
          0.3,
          0.35
         ],
         "xaxis": "x3",
         "y": [
          0.2055,
          0.1565,
          0.1072,
          0.0691,
          0.0352,
          0.016,
          0,
          -0.0075,
          -0.0025,
          0.0143,
          0.0388,
          0.0704,
          0.0958,
          0.1289
         ],
         "yaxis": "y3"
        },
        {
         "legendgroup": "chart (2, 1)",
         "name": "chart (2, 1) 20190719",
         "type": "scatter",
         "uid": "2f64dd66-fff6-11e9-a086-8c859025e7f9",
         "x": [
          -0.3,
          -0.25,
          -0.2,
          -0.15,
          -0.1,
          -0.05,
          0,
          0.05,
          0.1,
          0.15,
          0.2,
          0.25,
          0.3,
          0.35
         ],
         "xaxis": "x3",
         "y": [
          0.1809,
          0.138,
          0.0918,
          0.0554,
          0.0243,
          0.0084,
          0,
          -0.0047,
          0.0051,
          0.0235,
          0.0493,
          0.0732,
          0.1062,
          0.129
         ],
         "yaxis": "y3"
        },
        {
         "legendgroup": "chart (2, 2)",
         "name": "chart (2, 2) 20190722",
         "type": "scatter",
         "uid": "2f6650ec-fff6-11e9-a286-8c859025e7f9",
         "x": [
          -0.3,
          -0.25,
          -0.2,
          -0.15,
          -0.1,
          -0.05,
          0,
          0.05,
          0.1,
          0.15,
          0.2,
          0.25,
          0.3,
          0.35
         ],
         "xaxis": "x4",
         "y": [
          0.2009,
          0.1422,
          0.0924,
          0.0551,
          0.0273,
          0.0081,
          0,
          0.0004,
          0.0133,
          0.0332,
          0.061,
          0.0849,
          0.1187,
          0.1424
         ],
         "yaxis": "y4"
        },
        {
         "legendgroup": "chart (2, 2)",
         "name": "chart (2, 2) 20190723",
         "type": "scatter",
         "uid": "2f66e46c-fff6-11e9-937a-8c859025e7f9",
         "x": [
          -0.3,
          -0.25,
          -0.2,
          -0.15,
          -0.1,
          -0.05,
          0,
          0.05,
          0.1,
          0.15,
          0.2,
          0.25,
          0.3,
          0.35
         ],
         "xaxis": "x4",
         "y": [
          0.2042,
          0.145,
          null,
          0.0558,
          0.0228,
          0.0048,
          0,
          0.0002,
          0.0163,
          0.039,
          null,
          0.0927,
          0.1234,
          0.1555
         ],
         "yaxis": "y4"
        },
        {
         "legendgroup": "chart (2, 2)",
         "name": "chart (2, 2) 20190724",
         "type": "scatter",
         "uid": "2f679a42-fff6-11e9-a61e-8c859025e7f9",
         "x": [
          -0.3,
          -0.25,
          -0.2,
          -0.15,
          -0.1,
          -0.05,
          0,
          0.05,
          0.1,
          0.15,
          0.2,
          0.25,
          0.3,
          0.35
         ],
         "xaxis": "x4",
         "y": [
          0.2316,
          0.1695,
          0.1155,
          0.0707,
          0.0371,
          0.0119,
          0,
          -0.0002,
          0.0165,
          0.0394,
          0.0636,
          0.0958,
          0.1236,
          0.1502
         ],
         "yaxis": "y4"
        },
        {
         "legendgroup": "chart (2, 2)",
         "name": "chart (2, 2) 20190725",
         "type": "scatter",
         "uid": "2f683ea2-fff6-11e9-93f7-8c859025e7f9",
         "x": [
          -0.3,
          -0.25,
          -0.2,
          -0.15,
          -0.1,
          -0.05,
          0,
          0.05,
          0.1,
          0.15,
          0.2,
          0.25,
          0.3,
          0.35
         ],
         "xaxis": "x4",
         "y": [
          0.2269,
          0.1683,
          0.1209,
          0.0748,
          0.0376,
          0.0114,
          0,
          -0.004,
          0.0092,
          0.0314,
          0.0562,
          0.088,
          0.1192,
          0.1479
         ],
         "yaxis": "y4"
        },
        {
         "legendgroup": "chart (2, 2)",
         "name": "chart (2, 2) 20190726",
         "type": "scatter",
         "uid": "2f68c494-fff6-11e9-878e-8c859025e7f9",
         "x": [
          -0.3,
          -0.25,
          -0.2,
          -0.15,
          -0.1,
          -0.05,
          0,
          0.05,
          0.1,
          0.15,
          0.2,
          0.25,
          0.3,
          0.35
         ],
         "xaxis": "x4",
         "y": [
          0.2324,
          0.1725,
          0.1244,
          0.0776,
          0.0365,
          0.013,
          0,
          -0.0024,
          0.0102,
          0.0354,
          0.0616,
          0.0952,
          0.1277,
          0.1501
         ],
         "yaxis": "y4"
        }
       ],
       "layout": {
        "annotations": [
         {
          "font": {
           "size": 16
          },
          "showarrow": false,
          "text": "CBV19 20190701 - 20190705",
          "x": 0.2275,
          "xanchor": "center",
          "xref": "paper",
          "y": 1,
          "yanchor": "bottom",
          "yref": "paper"
         },
         {
          "font": {
           "size": 16
          },
          "showarrow": false,
          "text": "CBV19 20190708 - 20190712",
          "x": 0.7725,
          "xanchor": "center",
          "xref": "paper",
          "y": 1,
          "yanchor": "bottom",
          "yref": "paper"
         },
         {
          "font": {
           "size": 16
          },
          "showarrow": false,
          "text": "CBV19 20190715 - 20190719",
          "x": 0.2275,
          "xanchor": "center",
          "xref": "paper",
          "y": 0.445,
          "yanchor": "bottom",
          "yref": "paper"
         },
         {
          "font": {
           "size": 16
          },
          "showarrow": false,
          "text": "CBV19 20190722 - 20190726",
          "x": 0.7725,
          "xanchor": "center",
          "xref": "paper",
          "y": 0.445,
          "yanchor": "bottom",
          "yref": "paper"
         }
        ],
        "autosize": true,
        "bargap": 0.05,
        "font": {
         "family": "Open Sans, sans-serif"
        },
        "height": 800,
        "hovermode": "x",
        "margin": {
         "b": 55,
         "l": 45,
         "r": 15,
         "t": 50
        },
        "plot_bgcolor": "#EFECEA",
        "showlegend": true,
        "title": "Skew plots<br>",
        "width": 900,
        "xaxis": {
         "anchor": "y",
         "domain": [
          0,
          0.455
         ],
         "tickangle": 45,
         "ticktext": [
          -0.3,
          -0.25,
          -0.2,
          -0.15,
          -0.1,
          -0.05,
          0,
          0.05,
          0.1,
          0.15,
          0.2,
          0.25,
          0.3,
          0.35
         ],
         "tickvals": [
          -0.3,
          -0.25,
          -0.2,
          -0.15,
          -0.1,
          -0.05,
          0,
          0.05,
          0.1,
          0.15,
          0.2,
          0.25,
          0.3,
          0.35
         ],
         "type": "category"
        },
        "xaxis2": {
         "anchor": "y2",
         "domain": [
          0.545,
          1
         ],
         "tickangle": 45,
         "ticktext": [
          -0.3,
          -0.25,
          -0.2,
          -0.15,
          -0.1,
          -0.05,
          0,
          0.05,
          0.1,
          0.15,
          0.2,
          0.25,
          0.3,
          0.35
         ],
         "tickvals": [
          -0.3,
          -0.25,
          -0.2,
          -0.15,
          -0.1,
          -0.05,
          0,
          0.05,
          0.1,
          0.15,
          0.2,
          0.25,
          0.3,
          0.35
         ],
         "type": "category"
        },
        "xaxis3": {
         "anchor": "y3",
         "domain": [
          0,
          0.455
         ],
         "tickangle": 45,
         "ticktext": [
          -0.3,
          -0.25,
          -0.2,
          -0.15,
          -0.1,
          -0.05,
          0,
          0.05,
          0.1,
          0.15,
          0.2,
          0.25,
          0.3,
          0.35
         ],
         "tickvals": [
          -0.3,
          -0.25,
          -0.2,
          -0.15,
          -0.1,
          -0.05,
          0,
          0.05,
          0.1,
          0.15,
          0.2,
          0.25,
          0.3,
          0.35
         ],
         "type": "category"
        },
        "xaxis4": {
         "anchor": "y4",
         "domain": [
          0.545,
          1
         ],
         "tickangle": 45,
         "ticktext": [
          -0.3,
          -0.25,
          -0.2,
          -0.15,
          -0.1,
          -0.05,
          0,
          0.05,
          0.1,
          0.15,
          0.2,
          0.25,
          0.3,
          0.35
         ],
         "tickvals": [
          -0.3,
          -0.25,
          -0.2,
          -0.15,
          -0.1,
          -0.05,
          0,
          0.05,
          0.1,
          0.15,
          0.2,
          0.25,
          0.3,
          0.35
         ],
         "type": "category"
        },
        "yaxis": {
         "anchor": "x",
         "domain": [
          0.555,
          1
         ],
         "title": "vol skew"
        },
        "yaxis2": {
         "anchor": "x2",
         "domain": [
          0.555,
          1
         ],
         "title": "vol skew"
        },
        "yaxis3": {
         "anchor": "x3",
         "domain": [
          0,
          0.445
         ],
         "title": "vol skew"
        },
        "yaxis4": {
         "anchor": "x4",
         "domain": [
          0,
          0.445
         ],
         "title": "vol skew"
        }
       }
      },
      "text/html": [
       "<div id=\"7e05a194-8d22-4732-b515-3c159d46f4b3\" style=\"height: 800px; width: 900px;\" class=\"plotly-graph-div\"></div><script type=\"text/javascript\">require([\"plotly\"], function(Plotly) { window.PLOTLYENV=window.PLOTLYENV || {};window.PLOTLYENV.BASE_URL=\"https://plot.ly\";Plotly.newPlot(\"7e05a194-8d22-4732-b515-3c159d46f4b3\", [{\"legendgroup\": \"chart (1, 1)\", \"name\": \"chart (1, 1) 20190701\", \"uid\": \"2f58d390-fff6-11e9-89a8-8c859025e7f9\", \"x\": [-0.3, -0.25, -0.2, -0.15, -0.1, -0.05, 0.0, 0.05, 0.1, 0.15, 0.2, 0.25, 0.3, 0.35], \"y\": [0.15, 0.1162, 0.0853, 0.057, 0.0338, 0.0128, 0.0, -0.0136, -0.0195, -0.0156, -0.0059, 0.0063, 0.0251, null], \"yaxis\": \"y\", \"type\": \"scatter\", \"xaxis\": \"x\"}, {\"legendgroup\": \"chart (1, 1)\", \"name\": \"chart (1, 1) 20190702\", \"uid\": \"2f595718-fff6-11e9-8f8d-8c859025e7f9\", \"x\": [-0.3, -0.25, -0.2, -0.15, -0.1, -0.05, 0.0, 0.05, 0.1, 0.15, 0.2, 0.25, 0.3, 0.35], \"y\": [0.155, 0.1218, 0.0915, 0.0641, 0.0396, 0.0183, 0.0, -0.0124, -0.0154, -0.014, -0.0067, 0.0078, 0.0233, 0.0455], \"yaxis\": \"y\", \"type\": \"scatter\", \"xaxis\": \"x\"}, {\"legendgroup\": \"chart (1, 1)\", \"name\": \"chart (1, 1) 20190703\", \"uid\": \"2f59d54c-fff6-11e9-8285-8c859025e7f9\", \"x\": [-0.3, -0.25, -0.2, -0.15, -0.1, -0.05, 0.0, 0.05, 0.1, 0.15, 0.2, 0.25, 0.3, 0.35], \"y\": [0.157, 0.1215, 0.0914, 0.0633, 0.0396, 0.0184, 0.0, -0.0117, -0.0126, -0.0067, 0.0057, 0.0242, 0.0421, 0.0672], \"yaxis\": \"y\", \"type\": \"scatter\", \"xaxis\": \"x\"}, {\"legendgroup\": \"chart (1, 1)\", \"name\": \"chart (1, 1) 20190704\", \"uid\": \"2f5a77d8-fff6-11e9-80a1-8c859025e7f9\", \"x\": [-0.3, -0.25, -0.2, -0.15, -0.1, -0.05, 0.0, 0.05, 0.1, 0.15, 0.2, 0.25, 0.3, 0.35], \"y\": [0.1612, 0.1312, 0.0996, 0.0681, 0.0425, 0.0194, 0.0, -0.0131, -0.0158, -0.0065, 0.0068, 0.0275, 0.0477, 0.0683], \"yaxis\": \"y\", \"type\": \"scatter\", \"xaxis\": \"x\"}, {\"legendgroup\": \"chart (1, 1)\", \"name\": \"chart (1, 1) 20190705\", \"uid\": \"2f5b5d86-fff6-11e9-a3d6-8c859025e7f9\", \"x\": [-0.3, -0.25, -0.2, -0.15, -0.1, -0.05, 0.0, 0.05, 0.1, 0.15, 0.2, 0.25, 0.3, 0.35], \"y\": [0.1624, 0.1281, 0.0945, 0.0673, 0.0382, 0.0165, 0.0, -0.0117, -0.0136, -0.0044, 0.0099, 0.0295, 0.0481, 0.0751], \"yaxis\": \"y\", \"type\": \"scatter\", \"xaxis\": \"x\"}, {\"legendgroup\": \"chart (1, 2)\", \"name\": \"chart (1, 2) 20190708\", \"uid\": \"2f5ce8cc-fff6-11e9-80cf-8c859025e7f9\", \"x\": [-0.3, -0.25, -0.2, -0.15, -0.1, -0.05, 0.0, 0.05, 0.1, 0.15, 0.2, 0.25, 0.3, 0.35], \"y\": [0.1695, 0.1301, 0.1008, 0.0679, 0.0391, 0.0168, 0.0, -0.0111, -0.0109, 0.0004, 0.017, 0.0389, 0.0651, 0.0828], \"yaxis\": \"y2\", \"type\": \"scatter\", \"xaxis\": \"x2\"}, {\"legendgroup\": \"chart (1, 2)\", \"name\": \"chart (1, 2) 20190709\", \"uid\": \"2f5e3486-fff6-11e9-8409-8c859025e7f9\", \"x\": [-0.3, -0.25, -0.2, -0.15, -0.1, -0.05, 0.0, 0.05, 0.1, 0.15, 0.2, 0.25, 0.3, 0.35], \"y\": [0.1829, 0.1314, 0.0973, 0.0658, 0.0358, 0.0152, 0.0, -0.0088, -0.0044, 0.0102, 0.0314, 0.0567, 0.0765, 0.1019], \"yaxis\": \"y2\", \"type\": \"scatter\", \"xaxis\": \"x2\"}, {\"legendgroup\": \"chart (1, 2)\", \"name\": \"chart (1, 2) 20190710\", \"uid\": \"2f5f0698-fff6-11e9-a722-8c859025e7f9\", \"x\": [-0.3, -0.25, -0.2, -0.15, -0.1, -0.05, 0.0, 0.05, 0.1, 0.15, 0.2, 0.25, 0.3, 0.35], \"y\": [0.1703, 0.1329, 0.0915, 0.0594, 0.0331, 0.0143, 0.0, -0.0011, 0.0027, 0.0184, 0.0362, 0.0572, 0.0806, null], \"yaxis\": \"y2\", \"type\": \"scatter\", \"xaxis\": \"x2\"}, {\"legendgroup\": \"chart (1, 2)\", \"name\": \"chart (1, 2) 20190711\", \"uid\": \"2f601a88-fff6-11e9-8baf-8c859025e7f9\", \"x\": [-0.3, -0.25, -0.2, -0.15, -0.1, -0.05, 0.0, 0.05, 0.1, 0.15, 0.2, 0.25, 0.3, 0.35], \"y\": [0.1653, 0.1247, 0.0921, 0.059, 0.0316, 0.01, 0.0, -0.0097, -0.005, 0.0115, 0.0306, 0.0556, 0.0824, null], \"yaxis\": \"y2\", \"type\": \"scatter\", \"xaxis\": \"x2\"}, {\"legendgroup\": \"chart (1, 2)\", \"name\": \"chart (1, 2) 20190712\", \"uid\": \"2f60cdca-fff6-11e9-838d-8c859025e7f9\", \"x\": [-0.3, -0.25, -0.2, -0.15, -0.1, -0.05, 0.0, 0.05, 0.1, 0.15, 0.2, 0.25, 0.3, 0.35], \"y\": [0.1767, 0.133, 0.094, 0.0596, 0.0338, 0.0116, 0.0, -0.0124, -0.0056, 0.0109, 0.0351, 0.0583, 0.085, null], \"yaxis\": \"y2\", \"type\": \"scatter\", \"xaxis\": \"x2\"}, {\"legendgroup\": \"chart (2, 1)\", \"name\": \"chart (2, 1) 20190715\", \"uid\": \"2f625e92-fff6-11e9-b5f2-8c859025e7f9\", \"x\": [-0.3, -0.25, -0.2, -0.15, -0.1, -0.05, 0.0, 0.05, 0.1, 0.15, 0.2, 0.25, 0.3, 0.35], \"y\": [0.1915, 0.1413, 0.1006, 0.0647, 0.0367, 0.0163, 0.0, -0.0129, -0.0054, 0.0127, 0.0374, 0.0678, 0.0958, null], \"yaxis\": \"y3\", \"type\": \"scatter\", \"xaxis\": \"x3\"}, {\"legendgroup\": \"chart (2, 1)\", \"name\": \"chart (2, 1) 20190716\", \"uid\": \"2f6331e6-fff6-11e9-8df4-8c859025e7f9\", \"x\": [-0.3, -0.25, -0.2, -0.15, -0.1, -0.05, 0.0, 0.05, 0.1, 0.15, 0.2, 0.25, 0.3, 0.35], \"y\": [0.1956, 0.1504, 0.102, 0.0661, 0.0337, 0.0136, 0.0, -0.012, -0.013, -0.0064, 0.009, 0.0237, 0.0427, 0.0636], \"yaxis\": \"y3\", \"type\": \"scatter\", \"xaxis\": \"x3\"}, {\"legendgroup\": \"chart (2, 1)\", \"name\": \"chart (2, 1) 20190717\", \"uid\": \"2f63ce80-fff6-11e9-9bef-8c859025e7f9\", \"x\": [-0.3, -0.25, -0.2, -0.15, -0.1, -0.05, 0.0, 0.05, 0.1, 0.15, 0.2, 0.25, 0.3, 0.35], \"y\": [0.2143, 0.1702, 0.1215, 0.0827, 0.0478, 0.0208, 0.0, -0.0079, -0.0048, 0.0061, 0.0249, 0.0513, 0.0778, 0.0961], \"yaxis\": \"y3\", \"type\": \"scatter\", \"xaxis\": \"x3\"}, {\"legendgroup\": \"chart (2, 1)\", \"name\": \"chart (2, 1) 20190718\", \"uid\": \"2f645774-fff6-11e9-ae95-8c859025e7f9\", \"x\": [-0.3, -0.25, -0.2, -0.15, -0.1, -0.05, 0.0, 0.05, 0.1, 0.15, 0.2, 0.25, 0.3, 0.35], \"y\": [0.2055, 0.1565, 0.1072, 0.0691, 0.0352, 0.016, 0.0, -0.0075, -0.0025, 0.0143, 0.0388, 0.0704, 0.0958, 0.1289], \"yaxis\": \"y3\", \"type\": \"scatter\", \"xaxis\": \"x3\"}, {\"legendgroup\": \"chart (2, 1)\", \"name\": \"chart (2, 1) 20190719\", \"uid\": \"2f64dd66-fff6-11e9-a086-8c859025e7f9\", \"x\": [-0.3, -0.25, -0.2, -0.15, -0.1, -0.05, 0.0, 0.05, 0.1, 0.15, 0.2, 0.25, 0.3, 0.35], \"y\": [0.1809, 0.138, 0.0918, 0.0554, 0.0243, 0.0084, 0.0, -0.0047, 0.0051, 0.0235, 0.0493, 0.0732, 0.1062, 0.129], \"yaxis\": \"y3\", \"type\": \"scatter\", \"xaxis\": \"x3\"}, {\"legendgroup\": \"chart (2, 2)\", \"name\": \"chart (2, 2) 20190722\", \"uid\": \"2f6650ec-fff6-11e9-a286-8c859025e7f9\", \"x\": [-0.3, -0.25, -0.2, -0.15, -0.1, -0.05, 0.0, 0.05, 0.1, 0.15, 0.2, 0.25, 0.3, 0.35], \"y\": [0.2009, 0.1422, 0.0924, 0.0551, 0.0273, 0.0081, 0.0, 0.0004, 0.0133, 0.0332, 0.061, 0.0849, 0.1187, 0.1424], \"yaxis\": \"y4\", \"type\": \"scatter\", \"xaxis\": \"x4\"}, {\"legendgroup\": \"chart (2, 2)\", \"name\": \"chart (2, 2) 20190723\", \"uid\": \"2f66e46c-fff6-11e9-937a-8c859025e7f9\", \"x\": [-0.3, -0.25, -0.2, -0.15, -0.1, -0.05, 0.0, 0.05, 0.1, 0.15, 0.2, 0.25, 0.3, 0.35], \"y\": [0.2042, 0.145, null, 0.0558, 0.0228, 0.0048, 0.0, 0.0002, 0.0163, 0.039, null, 0.0927, 0.1234, 0.1555], \"yaxis\": \"y4\", \"type\": \"scatter\", \"xaxis\": \"x4\"}, {\"legendgroup\": \"chart (2, 2)\", \"name\": \"chart (2, 2) 20190724\", \"uid\": \"2f679a42-fff6-11e9-a61e-8c859025e7f9\", \"x\": [-0.3, -0.25, -0.2, -0.15, -0.1, -0.05, 0.0, 0.05, 0.1, 0.15, 0.2, 0.25, 0.3, 0.35], \"y\": [0.2316, 0.1695, 0.1155, 0.0707, 0.0371, 0.0119, 0.0, -0.0002, 0.0165, 0.0394, 0.0636, 0.0958, 0.1236, 0.1502], \"yaxis\": \"y4\", \"type\": \"scatter\", \"xaxis\": \"x4\"}, {\"legendgroup\": \"chart (2, 2)\", \"name\": \"chart (2, 2) 20190725\", \"uid\": \"2f683ea2-fff6-11e9-93f7-8c859025e7f9\", \"x\": [-0.3, -0.25, -0.2, -0.15, -0.1, -0.05, 0.0, 0.05, 0.1, 0.15, 0.2, 0.25, 0.3, 0.35], \"y\": [0.2269, 0.1683, 0.1209, 0.0748, 0.0376, 0.0114, 0.0, -0.004, 0.0092, 0.0314, 0.0562, 0.088, 0.1192, 0.1479], \"yaxis\": \"y4\", \"type\": \"scatter\", \"xaxis\": \"x4\"}, {\"legendgroup\": \"chart (2, 2)\", \"name\": \"chart (2, 2) 20190726\", \"uid\": \"2f68c494-fff6-11e9-878e-8c859025e7f9\", \"x\": [-0.3, -0.25, -0.2, -0.15, -0.1, -0.05, 0.0, 0.05, 0.1, 0.15, 0.2, 0.25, 0.3, 0.35], \"y\": [0.2324, 0.1725, 0.1244, 0.0776, 0.0365, 0.013, 0.0, -0.0024, 0.0102, 0.0354, 0.0616, 0.0952, 0.1277, 0.1501], \"yaxis\": \"y4\", \"type\": \"scatter\", \"xaxis\": \"x4\"}], {\"annotations\": [{\"font\": {\"size\": 16}, \"showarrow\": false, \"text\": \"CBV19 20190701 - 20190705\", \"x\": 0.2275, \"xanchor\": \"center\", \"xref\": \"paper\", \"y\": 1.0, \"yanchor\": \"bottom\", \"yref\": \"paper\"}, {\"font\": {\"size\": 16}, \"showarrow\": false, \"text\": \"CBV19 20190708 - 20190712\", \"x\": 0.7725, \"xanchor\": \"center\", \"xref\": \"paper\", \"y\": 1.0, \"yanchor\": \"bottom\", \"yref\": \"paper\"}, {\"font\": {\"size\": 16}, \"showarrow\": false, \"text\": \"CBV19 20190715 - 20190719\", \"x\": 0.2275, \"xanchor\": \"center\", \"xref\": \"paper\", \"y\": 0.445, \"yanchor\": \"bottom\", \"yref\": \"paper\"}, {\"font\": {\"size\": 16}, \"showarrow\": false, \"text\": \"CBV19 20190722 - 20190726\", \"x\": 0.7725, \"xanchor\": \"center\", \"xref\": \"paper\", \"y\": 0.445, \"yanchor\": \"bottom\", \"yref\": \"paper\"}], \"xaxis\": {\"anchor\": \"y\", \"domain\": [0.0, 0.455], \"tickangle\": 45, \"ticktext\": [-0.3, -0.25, -0.2, -0.15, -0.1, -0.05, 0.0, 0.05, 0.1, 0.15, 0.2, 0.25, 0.3, 0.35], \"tickvals\": [-0.3, -0.25, -0.2, -0.15, -0.1, -0.05, 0.0, 0.05, 0.1, 0.15, 0.2, 0.25, 0.3, 0.35], \"type\": \"category\"}, \"yaxis\": {\"anchor\": \"x\", \"domain\": [0.555, 1.0], \"title\": \"vol skew\"}, \"xaxis2\": {\"anchor\": \"y2\", \"domain\": [0.545, 1.0], \"tickangle\": 45, \"ticktext\": [-0.3, -0.25, -0.2, -0.15, -0.1, -0.05, 0.0, 0.05, 0.1, 0.15, 0.2, 0.25, 0.3, 0.35], \"tickvals\": [-0.3, -0.25, -0.2, -0.15, -0.1, -0.05, 0.0, 0.05, 0.1, 0.15, 0.2, 0.25, 0.3, 0.35], \"type\": \"category\"}, \"yaxis2\": {\"anchor\": \"x2\", \"domain\": [0.555, 1.0], \"title\": \"vol skew\"}, \"xaxis3\": {\"anchor\": \"y3\", \"domain\": [0.0, 0.455], \"tickangle\": 45, \"ticktext\": [-0.3, -0.25, -0.2, -0.15, -0.1, -0.05, 0.0, 0.05, 0.1, 0.15, 0.2, 0.25, 0.3, 0.35], \"tickvals\": [-0.3, -0.25, -0.2, -0.15, -0.1, -0.05, 0.0, 0.05, 0.1, 0.15, 0.2, 0.25, 0.3, 0.35], \"type\": \"category\"}, \"yaxis3\": {\"anchor\": \"x3\", \"domain\": [0.0, 0.445], \"title\": \"vol skew\"}, \"xaxis4\": {\"anchor\": \"y4\", \"domain\": [0.545, 1.0], \"tickangle\": 45, \"ticktext\": [-0.3, -0.25, -0.2, -0.15, -0.1, -0.05, 0.0, 0.05, 0.1, 0.15, 0.2, 0.25, 0.3, 0.35], \"tickvals\": [-0.3, -0.25, -0.2, -0.15, -0.1, -0.05, 0.0, 0.05, 0.1, 0.15, 0.2, 0.25, 0.3, 0.35], \"type\": \"category\"}, \"yaxis4\": {\"anchor\": \"x4\", \"domain\": [0.0, 0.445], \"title\": \"vol skew\"}, \"font\": {\"family\": \"Open Sans, sans-serif\"}, \"margin\": {\"b\": 55, \"l\": 45, \"r\": 15, \"t\": 50}, \"title\": \"Skew plots<br>\", \"showlegend\": true, \"hovermode\": \"x\", \"autosize\": true, \"width\": 900, \"height\": 800, \"plot_bgcolor\": \"#EFECEA\", \"bargap\": 0.05}, {\"showLink\": true, \"linkText\": \"Export to plot.ly\"})});</script>"
      ],
      "text/vnd.plotly.v1+html": [
       "<div id=\"7e05a194-8d22-4732-b515-3c159d46f4b3\" style=\"height: 800px; width: 900px;\" class=\"plotly-graph-div\"></div><script type=\"text/javascript\">require([\"plotly\"], function(Plotly) { window.PLOTLYENV=window.PLOTLYENV || {};window.PLOTLYENV.BASE_URL=\"https://plot.ly\";Plotly.newPlot(\"7e05a194-8d22-4732-b515-3c159d46f4b3\", [{\"legendgroup\": \"chart (1, 1)\", \"name\": \"chart (1, 1) 20190701\", \"uid\": \"2f58d390-fff6-11e9-89a8-8c859025e7f9\", \"x\": [-0.3, -0.25, -0.2, -0.15, -0.1, -0.05, 0.0, 0.05, 0.1, 0.15, 0.2, 0.25, 0.3, 0.35], \"y\": [0.15, 0.1162, 0.0853, 0.057, 0.0338, 0.0128, 0.0, -0.0136, -0.0195, -0.0156, -0.0059, 0.0063, 0.0251, null], \"yaxis\": \"y\", \"type\": \"scatter\", \"xaxis\": \"x\"}, {\"legendgroup\": \"chart (1, 1)\", \"name\": \"chart (1, 1) 20190702\", \"uid\": \"2f595718-fff6-11e9-8f8d-8c859025e7f9\", \"x\": [-0.3, -0.25, -0.2, -0.15, -0.1, -0.05, 0.0, 0.05, 0.1, 0.15, 0.2, 0.25, 0.3, 0.35], \"y\": [0.155, 0.1218, 0.0915, 0.0641, 0.0396, 0.0183, 0.0, -0.0124, -0.0154, -0.014, -0.0067, 0.0078, 0.0233, 0.0455], \"yaxis\": \"y\", \"type\": \"scatter\", \"xaxis\": \"x\"}, {\"legendgroup\": \"chart (1, 1)\", \"name\": \"chart (1, 1) 20190703\", \"uid\": \"2f59d54c-fff6-11e9-8285-8c859025e7f9\", \"x\": [-0.3, -0.25, -0.2, -0.15, -0.1, -0.05, 0.0, 0.05, 0.1, 0.15, 0.2, 0.25, 0.3, 0.35], \"y\": [0.157, 0.1215, 0.0914, 0.0633, 0.0396, 0.0184, 0.0, -0.0117, -0.0126, -0.0067, 0.0057, 0.0242, 0.0421, 0.0672], \"yaxis\": \"y\", \"type\": \"scatter\", \"xaxis\": \"x\"}, {\"legendgroup\": \"chart (1, 1)\", \"name\": \"chart (1, 1) 20190704\", \"uid\": \"2f5a77d8-fff6-11e9-80a1-8c859025e7f9\", \"x\": [-0.3, -0.25, -0.2, -0.15, -0.1, -0.05, 0.0, 0.05, 0.1, 0.15, 0.2, 0.25, 0.3, 0.35], \"y\": [0.1612, 0.1312, 0.0996, 0.0681, 0.0425, 0.0194, 0.0, -0.0131, -0.0158, -0.0065, 0.0068, 0.0275, 0.0477, 0.0683], \"yaxis\": \"y\", \"type\": \"scatter\", \"xaxis\": \"x\"}, {\"legendgroup\": \"chart (1, 1)\", \"name\": \"chart (1, 1) 20190705\", \"uid\": \"2f5b5d86-fff6-11e9-a3d6-8c859025e7f9\", \"x\": [-0.3, -0.25, -0.2, -0.15, -0.1, -0.05, 0.0, 0.05, 0.1, 0.15, 0.2, 0.25, 0.3, 0.35], \"y\": [0.1624, 0.1281, 0.0945, 0.0673, 0.0382, 0.0165, 0.0, -0.0117, -0.0136, -0.0044, 0.0099, 0.0295, 0.0481, 0.0751], \"yaxis\": \"y\", \"type\": \"scatter\", \"xaxis\": \"x\"}, {\"legendgroup\": \"chart (1, 2)\", \"name\": \"chart (1, 2) 20190708\", \"uid\": \"2f5ce8cc-fff6-11e9-80cf-8c859025e7f9\", \"x\": [-0.3, -0.25, -0.2, -0.15, -0.1, -0.05, 0.0, 0.05, 0.1, 0.15, 0.2, 0.25, 0.3, 0.35], \"y\": [0.1695, 0.1301, 0.1008, 0.0679, 0.0391, 0.0168, 0.0, -0.0111, -0.0109, 0.0004, 0.017, 0.0389, 0.0651, 0.0828], \"yaxis\": \"y2\", \"type\": \"scatter\", \"xaxis\": \"x2\"}, {\"legendgroup\": \"chart (1, 2)\", \"name\": \"chart (1, 2) 20190709\", \"uid\": \"2f5e3486-fff6-11e9-8409-8c859025e7f9\", \"x\": [-0.3, -0.25, -0.2, -0.15, -0.1, -0.05, 0.0, 0.05, 0.1, 0.15, 0.2, 0.25, 0.3, 0.35], \"y\": [0.1829, 0.1314, 0.0973, 0.0658, 0.0358, 0.0152, 0.0, -0.0088, -0.0044, 0.0102, 0.0314, 0.0567, 0.0765, 0.1019], \"yaxis\": \"y2\", \"type\": \"scatter\", \"xaxis\": \"x2\"}, {\"legendgroup\": \"chart (1, 2)\", \"name\": \"chart (1, 2) 20190710\", \"uid\": \"2f5f0698-fff6-11e9-a722-8c859025e7f9\", \"x\": [-0.3, -0.25, -0.2, -0.15, -0.1, -0.05, 0.0, 0.05, 0.1, 0.15, 0.2, 0.25, 0.3, 0.35], \"y\": [0.1703, 0.1329, 0.0915, 0.0594, 0.0331, 0.0143, 0.0, -0.0011, 0.0027, 0.0184, 0.0362, 0.0572, 0.0806, null], \"yaxis\": \"y2\", \"type\": \"scatter\", \"xaxis\": \"x2\"}, {\"legendgroup\": \"chart (1, 2)\", \"name\": \"chart (1, 2) 20190711\", \"uid\": \"2f601a88-fff6-11e9-8baf-8c859025e7f9\", \"x\": [-0.3, -0.25, -0.2, -0.15, -0.1, -0.05, 0.0, 0.05, 0.1, 0.15, 0.2, 0.25, 0.3, 0.35], \"y\": [0.1653, 0.1247, 0.0921, 0.059, 0.0316, 0.01, 0.0, -0.0097, -0.005, 0.0115, 0.0306, 0.0556, 0.0824, null], \"yaxis\": \"y2\", \"type\": \"scatter\", \"xaxis\": \"x2\"}, {\"legendgroup\": \"chart (1, 2)\", \"name\": \"chart (1, 2) 20190712\", \"uid\": \"2f60cdca-fff6-11e9-838d-8c859025e7f9\", \"x\": [-0.3, -0.25, -0.2, -0.15, -0.1, -0.05, 0.0, 0.05, 0.1, 0.15, 0.2, 0.25, 0.3, 0.35], \"y\": [0.1767, 0.133, 0.094, 0.0596, 0.0338, 0.0116, 0.0, -0.0124, -0.0056, 0.0109, 0.0351, 0.0583, 0.085, null], \"yaxis\": \"y2\", \"type\": \"scatter\", \"xaxis\": \"x2\"}, {\"legendgroup\": \"chart (2, 1)\", \"name\": \"chart (2, 1) 20190715\", \"uid\": \"2f625e92-fff6-11e9-b5f2-8c859025e7f9\", \"x\": [-0.3, -0.25, -0.2, -0.15, -0.1, -0.05, 0.0, 0.05, 0.1, 0.15, 0.2, 0.25, 0.3, 0.35], \"y\": [0.1915, 0.1413, 0.1006, 0.0647, 0.0367, 0.0163, 0.0, -0.0129, -0.0054, 0.0127, 0.0374, 0.0678, 0.0958, null], \"yaxis\": \"y3\", \"type\": \"scatter\", \"xaxis\": \"x3\"}, {\"legendgroup\": \"chart (2, 1)\", \"name\": \"chart (2, 1) 20190716\", \"uid\": \"2f6331e6-fff6-11e9-8df4-8c859025e7f9\", \"x\": [-0.3, -0.25, -0.2, -0.15, -0.1, -0.05, 0.0, 0.05, 0.1, 0.15, 0.2, 0.25, 0.3, 0.35], \"y\": [0.1956, 0.1504, 0.102, 0.0661, 0.0337, 0.0136, 0.0, -0.012, -0.013, -0.0064, 0.009, 0.0237, 0.0427, 0.0636], \"yaxis\": \"y3\", \"type\": \"scatter\", \"xaxis\": \"x3\"}, {\"legendgroup\": \"chart (2, 1)\", \"name\": \"chart (2, 1) 20190717\", \"uid\": \"2f63ce80-fff6-11e9-9bef-8c859025e7f9\", \"x\": [-0.3, -0.25, -0.2, -0.15, -0.1, -0.05, 0.0, 0.05, 0.1, 0.15, 0.2, 0.25, 0.3, 0.35], \"y\": [0.2143, 0.1702, 0.1215, 0.0827, 0.0478, 0.0208, 0.0, -0.0079, -0.0048, 0.0061, 0.0249, 0.0513, 0.0778, 0.0961], \"yaxis\": \"y3\", \"type\": \"scatter\", \"xaxis\": \"x3\"}, {\"legendgroup\": \"chart (2, 1)\", \"name\": \"chart (2, 1) 20190718\", \"uid\": \"2f645774-fff6-11e9-ae95-8c859025e7f9\", \"x\": [-0.3, -0.25, -0.2, -0.15, -0.1, -0.05, 0.0, 0.05, 0.1, 0.15, 0.2, 0.25, 0.3, 0.35], \"y\": [0.2055, 0.1565, 0.1072, 0.0691, 0.0352, 0.016, 0.0, -0.0075, -0.0025, 0.0143, 0.0388, 0.0704, 0.0958, 0.1289], \"yaxis\": \"y3\", \"type\": \"scatter\", \"xaxis\": \"x3\"}, {\"legendgroup\": \"chart (2, 1)\", \"name\": \"chart (2, 1) 20190719\", \"uid\": \"2f64dd66-fff6-11e9-a086-8c859025e7f9\", \"x\": [-0.3, -0.25, -0.2, -0.15, -0.1, -0.05, 0.0, 0.05, 0.1, 0.15, 0.2, 0.25, 0.3, 0.35], \"y\": [0.1809, 0.138, 0.0918, 0.0554, 0.0243, 0.0084, 0.0, -0.0047, 0.0051, 0.0235, 0.0493, 0.0732, 0.1062, 0.129], \"yaxis\": \"y3\", \"type\": \"scatter\", \"xaxis\": \"x3\"}, {\"legendgroup\": \"chart (2, 2)\", \"name\": \"chart (2, 2) 20190722\", \"uid\": \"2f6650ec-fff6-11e9-a286-8c859025e7f9\", \"x\": [-0.3, -0.25, -0.2, -0.15, -0.1, -0.05, 0.0, 0.05, 0.1, 0.15, 0.2, 0.25, 0.3, 0.35], \"y\": [0.2009, 0.1422, 0.0924, 0.0551, 0.0273, 0.0081, 0.0, 0.0004, 0.0133, 0.0332, 0.061, 0.0849, 0.1187, 0.1424], \"yaxis\": \"y4\", \"type\": \"scatter\", \"xaxis\": \"x4\"}, {\"legendgroup\": \"chart (2, 2)\", \"name\": \"chart (2, 2) 20190723\", \"uid\": \"2f66e46c-fff6-11e9-937a-8c859025e7f9\", \"x\": [-0.3, -0.25, -0.2, -0.15, -0.1, -0.05, 0.0, 0.05, 0.1, 0.15, 0.2, 0.25, 0.3, 0.35], \"y\": [0.2042, 0.145, null, 0.0558, 0.0228, 0.0048, 0.0, 0.0002, 0.0163, 0.039, null, 0.0927, 0.1234, 0.1555], \"yaxis\": \"y4\", \"type\": \"scatter\", \"xaxis\": \"x4\"}, {\"legendgroup\": \"chart (2, 2)\", \"name\": \"chart (2, 2) 20190724\", \"uid\": \"2f679a42-fff6-11e9-a61e-8c859025e7f9\", \"x\": [-0.3, -0.25, -0.2, -0.15, -0.1, -0.05, 0.0, 0.05, 0.1, 0.15, 0.2, 0.25, 0.3, 0.35], \"y\": [0.2316, 0.1695, 0.1155, 0.0707, 0.0371, 0.0119, 0.0, -0.0002, 0.0165, 0.0394, 0.0636, 0.0958, 0.1236, 0.1502], \"yaxis\": \"y4\", \"type\": \"scatter\", \"xaxis\": \"x4\"}, {\"legendgroup\": \"chart (2, 2)\", \"name\": \"chart (2, 2) 20190725\", \"uid\": \"2f683ea2-fff6-11e9-93f7-8c859025e7f9\", \"x\": [-0.3, -0.25, -0.2, -0.15, -0.1, -0.05, 0.0, 0.05, 0.1, 0.15, 0.2, 0.25, 0.3, 0.35], \"y\": [0.2269, 0.1683, 0.1209, 0.0748, 0.0376, 0.0114, 0.0, -0.004, 0.0092, 0.0314, 0.0562, 0.088, 0.1192, 0.1479], \"yaxis\": \"y4\", \"type\": \"scatter\", \"xaxis\": \"x4\"}, {\"legendgroup\": \"chart (2, 2)\", \"name\": \"chart (2, 2) 20190726\", \"uid\": \"2f68c494-fff6-11e9-878e-8c859025e7f9\", \"x\": [-0.3, -0.25, -0.2, -0.15, -0.1, -0.05, 0.0, 0.05, 0.1, 0.15, 0.2, 0.25, 0.3, 0.35], \"y\": [0.2324, 0.1725, 0.1244, 0.0776, 0.0365, 0.013, 0.0, -0.0024, 0.0102, 0.0354, 0.0616, 0.0952, 0.1277, 0.1501], \"yaxis\": \"y4\", \"type\": \"scatter\", \"xaxis\": \"x4\"}], {\"annotations\": [{\"font\": {\"size\": 16}, \"showarrow\": false, \"text\": \"CBV19 20190701 - 20190705\", \"x\": 0.2275, \"xanchor\": \"center\", \"xref\": \"paper\", \"y\": 1.0, \"yanchor\": \"bottom\", \"yref\": \"paper\"}, {\"font\": {\"size\": 16}, \"showarrow\": false, \"text\": \"CBV19 20190708 - 20190712\", \"x\": 0.7725, \"xanchor\": \"center\", \"xref\": \"paper\", \"y\": 1.0, \"yanchor\": \"bottom\", \"yref\": \"paper\"}, {\"font\": {\"size\": 16}, \"showarrow\": false, \"text\": \"CBV19 20190715 - 20190719\", \"x\": 0.2275, \"xanchor\": \"center\", \"xref\": \"paper\", \"y\": 0.445, \"yanchor\": \"bottom\", \"yref\": \"paper\"}, {\"font\": {\"size\": 16}, \"showarrow\": false, \"text\": \"CBV19 20190722 - 20190726\", \"x\": 0.7725, \"xanchor\": \"center\", \"xref\": \"paper\", \"y\": 0.445, \"yanchor\": \"bottom\", \"yref\": \"paper\"}], \"xaxis\": {\"anchor\": \"y\", \"domain\": [0.0, 0.455], \"tickangle\": 45, \"ticktext\": [-0.3, -0.25, -0.2, -0.15, -0.1, -0.05, 0.0, 0.05, 0.1, 0.15, 0.2, 0.25, 0.3, 0.35], \"tickvals\": [-0.3, -0.25, -0.2, -0.15, -0.1, -0.05, 0.0, 0.05, 0.1, 0.15, 0.2, 0.25, 0.3, 0.35], \"type\": \"category\"}, \"yaxis\": {\"anchor\": \"x\", \"domain\": [0.555, 1.0], \"title\": \"vol skew\"}, \"xaxis2\": {\"anchor\": \"y2\", \"domain\": [0.545, 1.0], \"tickangle\": 45, \"ticktext\": [-0.3, -0.25, -0.2, -0.15, -0.1, -0.05, 0.0, 0.05, 0.1, 0.15, 0.2, 0.25, 0.3, 0.35], \"tickvals\": [-0.3, -0.25, -0.2, -0.15, -0.1, -0.05, 0.0, 0.05, 0.1, 0.15, 0.2, 0.25, 0.3, 0.35], \"type\": \"category\"}, \"yaxis2\": {\"anchor\": \"x2\", \"domain\": [0.555, 1.0], \"title\": \"vol skew\"}, \"xaxis3\": {\"anchor\": \"y3\", \"domain\": [0.0, 0.455], \"tickangle\": 45, \"ticktext\": [-0.3, -0.25, -0.2, -0.15, -0.1, -0.05, 0.0, 0.05, 0.1, 0.15, 0.2, 0.25, 0.3, 0.35], \"tickvals\": [-0.3, -0.25, -0.2, -0.15, -0.1, -0.05, 0.0, 0.05, 0.1, 0.15, 0.2, 0.25, 0.3, 0.35], \"type\": \"category\"}, \"yaxis3\": {\"anchor\": \"x3\", \"domain\": [0.0, 0.445], \"title\": \"vol skew\"}, \"xaxis4\": {\"anchor\": \"y4\", \"domain\": [0.545, 1.0], \"tickangle\": 45, \"ticktext\": [-0.3, -0.25, -0.2, -0.15, -0.1, -0.05, 0.0, 0.05, 0.1, 0.15, 0.2, 0.25, 0.3, 0.35], \"tickvals\": [-0.3, -0.25, -0.2, -0.15, -0.1, -0.05, 0.0, 0.05, 0.1, 0.15, 0.2, 0.25, 0.3, 0.35], \"type\": \"category\"}, \"yaxis4\": {\"anchor\": \"x4\", \"domain\": [0.0, 0.445], \"title\": \"vol skew\"}, \"font\": {\"family\": \"Open Sans, sans-serif\"}, \"margin\": {\"b\": 55, \"l\": 45, \"r\": 15, \"t\": 50}, \"title\": \"Skew plots<br>\", \"showlegend\": true, \"hovermode\": \"x\", \"autosize\": true, \"width\": 900, \"height\": 800, \"plot_bgcolor\": \"#EFECEA\", \"bargap\": 0.05}, {\"showLink\": true, \"linkText\": \"Export to plot.ly\"})});</script>"
      ]
     },
     "metadata": {},
     "output_type": "display_data"
    },
    {
     "data": {
      "application/vnd.plotly.v1+json": {
       "data": [
        {
         "legendgroup": "chart (1, 1)",
         "name": "chart (1, 1) 20190729",
         "type": "scatter",
         "uid": "2f75702c-fff6-11e9-b7fe-8c859025e7f9",
         "x": [
          -0.3,
          -0.25,
          -0.2,
          -0.15,
          -0.1,
          -0.05,
          0,
          0.05,
          0.1,
          0.15,
          0.2,
          0.25,
          0.3,
          0.35
         ],
         "xaxis": "x",
         "y": [
          0.2376,
          0.1879,
          0.132,
          0.0845,
          0.0433,
          0.0185,
          0,
          0.0017,
          0.0178,
          0.0455,
          0.0787,
          0.1102,
          0.1347,
          0.1657
         ],
         "yaxis": "y"
        },
        {
         "legendgroup": "chart (1, 1)",
         "name": "chart (1, 1) 20190730",
         "type": "scatter",
         "uid": "2f75fdba-fff6-11e9-b714-8c859025e7f9",
         "x": [
          -0.3,
          -0.25,
          -0.2,
          -0.15,
          -0.1,
          -0.05,
          0,
          0.05,
          0.1,
          0.15,
          0.2,
          0.25,
          0.3,
          0.35
         ],
         "xaxis": "x",
         "y": [
          0.2359,
          0.1825,
          0.1297,
          0.0798,
          0.0444,
          0.0163,
          0,
          0.004,
          0.0212,
          0.0516,
          0.0861,
          0.1214,
          0.1553,
          null
         ],
         "yaxis": "y"
        },
        {
         "legendgroup": "chart (1, 1)",
         "name": "chart (1, 1) 20190731",
         "type": "scatter",
         "uid": "2f767bde-fff6-11e9-a794-8c859025e7f9",
         "x": [
          -0.3,
          -0.25,
          -0.2,
          -0.15,
          -0.1,
          -0.05,
          0,
          0.05,
          0.1,
          0.15,
          0.2,
          0.25,
          0.3,
          0.35
         ],
         "xaxis": "x",
         "y": [
          0.2324,
          0.1777,
          0.1234,
          0.0746,
          0.039,
          0.0156,
          0,
          0.0012,
          0.0187,
          0.0443,
          0.0797,
          0.1103,
          0.1376,
          null
         ],
         "yaxis": "y"
        }
       ],
       "layout": {
        "annotations": [
         {
          "font": {
           "size": 16
          },
          "showarrow": false,
          "text": "CBV19 20190729 - 20190731",
          "x": 0.2275,
          "xanchor": "center",
          "xref": "paper",
          "y": 1,
          "yanchor": "bottom",
          "yref": "paper"
         }
        ],
        "autosize": true,
        "bargap": 0.05,
        "font": {
         "family": "Open Sans, sans-serif"
        },
        "height": 800,
        "hovermode": "x",
        "margin": {
         "b": 55,
         "l": 45,
         "r": 15,
         "t": 50
        },
        "plot_bgcolor": "#EFECEA",
        "showlegend": true,
        "title": "Skew plots<br>",
        "width": 900,
        "xaxis": {
         "anchor": "y",
         "domain": [
          0,
          0.455
         ],
         "tickangle": 45,
         "ticktext": [
          -0.3,
          -0.25,
          -0.2,
          -0.15,
          -0.1,
          -0.05,
          0,
          0.05,
          0.1,
          0.15,
          0.2,
          0.25,
          0.3,
          0.35
         ],
         "tickvals": [
          -0.3,
          -0.25,
          -0.2,
          -0.15,
          -0.1,
          -0.05,
          0,
          0.05,
          0.1,
          0.15,
          0.2,
          0.25,
          0.3,
          0.35
         ],
         "type": "category"
        },
        "xaxis2": {
         "anchor": "y2",
         "domain": [
          0.545,
          1
         ]
        },
        "xaxis3": {
         "anchor": "y3",
         "domain": [
          0,
          0.455
         ]
        },
        "xaxis4": {
         "anchor": "y4",
         "domain": [
          0.545,
          1
         ]
        },
        "yaxis": {
         "anchor": "x",
         "domain": [
          0.555,
          1
         ],
         "title": "vol skew"
        },
        "yaxis2": {
         "anchor": "x2",
         "domain": [
          0.555,
          1
         ]
        },
        "yaxis3": {
         "anchor": "x3",
         "domain": [
          0,
          0.445
         ]
        },
        "yaxis4": {
         "anchor": "x4",
         "domain": [
          0,
          0.445
         ]
        }
       }
      },
      "text/html": [
       "<div id=\"927ada7f-7084-42a8-bc9f-ea09255f8826\" style=\"height: 800px; width: 900px;\" class=\"plotly-graph-div\"></div><script type=\"text/javascript\">require([\"plotly\"], function(Plotly) { window.PLOTLYENV=window.PLOTLYENV || {};window.PLOTLYENV.BASE_URL=\"https://plot.ly\";Plotly.newPlot(\"927ada7f-7084-42a8-bc9f-ea09255f8826\", [{\"legendgroup\": \"chart (1, 1)\", \"name\": \"chart (1, 1) 20190729\", \"uid\": \"2f75702c-fff6-11e9-b7fe-8c859025e7f9\", \"x\": [-0.3, -0.25, -0.2, -0.15, -0.1, -0.05, 0.0, 0.05, 0.1, 0.15, 0.2, 0.25, 0.3, 0.35], \"y\": [0.2376, 0.1879, 0.132, 0.0845, 0.0433, 0.0185, 0.0, 0.0017, 0.0178, 0.0455, 0.0787, 0.1102, 0.1347, 0.1657], \"yaxis\": \"y\", \"type\": \"scatter\", \"xaxis\": \"x\"}, {\"legendgroup\": \"chart (1, 1)\", \"name\": \"chart (1, 1) 20190730\", \"uid\": \"2f75fdba-fff6-11e9-b714-8c859025e7f9\", \"x\": [-0.3, -0.25, -0.2, -0.15, -0.1, -0.05, 0.0, 0.05, 0.1, 0.15, 0.2, 0.25, 0.3, 0.35], \"y\": [0.2359, 0.1825, 0.1297, 0.0798, 0.0444, 0.0163, 0.0, 0.004, 0.0212, 0.0516, 0.0861, 0.1214, 0.1553, null], \"yaxis\": \"y\", \"type\": \"scatter\", \"xaxis\": \"x\"}, {\"legendgroup\": \"chart (1, 1)\", \"name\": \"chart (1, 1) 20190731\", \"uid\": \"2f767bde-fff6-11e9-a794-8c859025e7f9\", \"x\": [-0.3, -0.25, -0.2, -0.15, -0.1, -0.05, 0.0, 0.05, 0.1, 0.15, 0.2, 0.25, 0.3, 0.35], \"y\": [0.2324, 0.1777, 0.1234, 0.0746, 0.039, 0.0156, 0.0, 0.0012, 0.0187, 0.0443, 0.0797, 0.1103, 0.1376, null], \"yaxis\": \"y\", \"type\": \"scatter\", \"xaxis\": \"x\"}], {\"annotations\": [{\"font\": {\"size\": 16}, \"showarrow\": false, \"text\": \"CBV19 20190729 - 20190731\", \"x\": 0.2275, \"xanchor\": \"center\", \"xref\": \"paper\", \"y\": 1.0, \"yanchor\": \"bottom\", \"yref\": \"paper\"}], \"xaxis\": {\"anchor\": \"y\", \"domain\": [0.0, 0.455], \"tickangle\": 45, \"ticktext\": [-0.3, -0.25, -0.2, -0.15, -0.1, -0.05, 0.0, 0.05, 0.1, 0.15, 0.2, 0.25, 0.3, 0.35], \"tickvals\": [-0.3, -0.25, -0.2, -0.15, -0.1, -0.05, 0.0, 0.05, 0.1, 0.15, 0.2, 0.25, 0.3, 0.35], \"type\": \"category\"}, \"yaxis\": {\"anchor\": \"x\", \"domain\": [0.555, 1.0], \"title\": \"vol skew\"}, \"xaxis2\": {\"anchor\": \"y2\", \"domain\": [0.545, 1.0]}, \"yaxis2\": {\"anchor\": \"x2\", \"domain\": [0.555, 1.0]}, \"xaxis3\": {\"anchor\": \"y3\", \"domain\": [0.0, 0.455]}, \"yaxis3\": {\"anchor\": \"x3\", \"domain\": [0.0, 0.445]}, \"xaxis4\": {\"anchor\": \"y4\", \"domain\": [0.545, 1.0]}, \"yaxis4\": {\"anchor\": \"x4\", \"domain\": [0.0, 0.445]}, \"font\": {\"family\": \"Open Sans, sans-serif\"}, \"margin\": {\"b\": 55, \"l\": 45, \"r\": 15, \"t\": 50}, \"title\": \"Skew plots<br>\", \"showlegend\": true, \"hovermode\": \"x\", \"autosize\": true, \"width\": 900, \"height\": 800, \"plot_bgcolor\": \"#EFECEA\", \"bargap\": 0.05}, {\"showLink\": true, \"linkText\": \"Export to plot.ly\"})});</script>"
      ],
      "text/vnd.plotly.v1+html": [
       "<div id=\"927ada7f-7084-42a8-bc9f-ea09255f8826\" style=\"height: 800px; width: 900px;\" class=\"plotly-graph-div\"></div><script type=\"text/javascript\">require([\"plotly\"], function(Plotly) { window.PLOTLYENV=window.PLOTLYENV || {};window.PLOTLYENV.BASE_URL=\"https://plot.ly\";Plotly.newPlot(\"927ada7f-7084-42a8-bc9f-ea09255f8826\", [{\"legendgroup\": \"chart (1, 1)\", \"name\": \"chart (1, 1) 20190729\", \"uid\": \"2f75702c-fff6-11e9-b7fe-8c859025e7f9\", \"x\": [-0.3, -0.25, -0.2, -0.15, -0.1, -0.05, 0.0, 0.05, 0.1, 0.15, 0.2, 0.25, 0.3, 0.35], \"y\": [0.2376, 0.1879, 0.132, 0.0845, 0.0433, 0.0185, 0.0, 0.0017, 0.0178, 0.0455, 0.0787, 0.1102, 0.1347, 0.1657], \"yaxis\": \"y\", \"type\": \"scatter\", \"xaxis\": \"x\"}, {\"legendgroup\": \"chart (1, 1)\", \"name\": \"chart (1, 1) 20190730\", \"uid\": \"2f75fdba-fff6-11e9-b714-8c859025e7f9\", \"x\": [-0.3, -0.25, -0.2, -0.15, -0.1, -0.05, 0.0, 0.05, 0.1, 0.15, 0.2, 0.25, 0.3, 0.35], \"y\": [0.2359, 0.1825, 0.1297, 0.0798, 0.0444, 0.0163, 0.0, 0.004, 0.0212, 0.0516, 0.0861, 0.1214, 0.1553, null], \"yaxis\": \"y\", \"type\": \"scatter\", \"xaxis\": \"x\"}, {\"legendgroup\": \"chart (1, 1)\", \"name\": \"chart (1, 1) 20190731\", \"uid\": \"2f767bde-fff6-11e9-a794-8c859025e7f9\", \"x\": [-0.3, -0.25, -0.2, -0.15, -0.1, -0.05, 0.0, 0.05, 0.1, 0.15, 0.2, 0.25, 0.3, 0.35], \"y\": [0.2324, 0.1777, 0.1234, 0.0746, 0.039, 0.0156, 0.0, 0.0012, 0.0187, 0.0443, 0.0797, 0.1103, 0.1376, null], \"yaxis\": \"y\", \"type\": \"scatter\", \"xaxis\": \"x\"}], {\"annotations\": [{\"font\": {\"size\": 16}, \"showarrow\": false, \"text\": \"CBV19 20190729 - 20190731\", \"x\": 0.2275, \"xanchor\": \"center\", \"xref\": \"paper\", \"y\": 1.0, \"yanchor\": \"bottom\", \"yref\": \"paper\"}], \"xaxis\": {\"anchor\": \"y\", \"domain\": [0.0, 0.455], \"tickangle\": 45, \"ticktext\": [-0.3, -0.25, -0.2, -0.15, -0.1, -0.05, 0.0, 0.05, 0.1, 0.15, 0.2, 0.25, 0.3, 0.35], \"tickvals\": [-0.3, -0.25, -0.2, -0.15, -0.1, -0.05, 0.0, 0.05, 0.1, 0.15, 0.2, 0.25, 0.3, 0.35], \"type\": \"category\"}, \"yaxis\": {\"anchor\": \"x\", \"domain\": [0.555, 1.0], \"title\": \"vol skew\"}, \"xaxis2\": {\"anchor\": \"y2\", \"domain\": [0.545, 1.0]}, \"yaxis2\": {\"anchor\": \"x2\", \"domain\": [0.555, 1.0]}, \"xaxis3\": {\"anchor\": \"y3\", \"domain\": [0.0, 0.455]}, \"yaxis3\": {\"anchor\": \"x3\", \"domain\": [0.0, 0.445]}, \"xaxis4\": {\"anchor\": \"y4\", \"domain\": [0.545, 1.0]}, \"yaxis4\": {\"anchor\": \"x4\", \"domain\": [0.0, 0.445]}, \"font\": {\"family\": \"Open Sans, sans-serif\"}, \"margin\": {\"b\": 55, \"l\": 45, \"r\": 15, \"t\": 50}, \"title\": \"Skew plots<br>\", \"showlegend\": true, \"hovermode\": \"x\", \"autosize\": true, \"width\": 900, \"height\": 800, \"plot_bgcolor\": \"#EFECEA\", \"bargap\": 0.05}, {\"showLink\": true, \"linkText\": \"Export to plot.ly\"})});</script>"
      ]
     },
     "metadata": {},
     "output_type": "display_data"
    },
    {
     "data": {
      "application/vnd.plotly.v1+json": {
       "data": [
        {
         "legendgroup": "chart (1, 1)",
         "name": "chart (1, 1) 20190801",
         "type": "scatter",
         "uid": "2fbd847a-fff6-11e9-9e3b-8c859025e7f9",
         "x": [
          -0.3,
          -0.25,
          -0.2,
          -0.15,
          -0.1,
          -0.05,
          0,
          0.05,
          0.1,
          0.15,
          0.2,
          0.25,
          0.3,
          0.35
         ],
         "xaxis": "x",
         "y": [
          0.1644,
          0.1226,
          0.0884,
          0.0594,
          0.0358,
          0.0153,
          0,
          -0.0137,
          -0.0163,
          -0.0129,
          -0.0011,
          0.0131,
          0.0265,
          null
         ],
         "yaxis": "y"
        },
        {
         "legendgroup": "chart (1, 1)",
         "name": "chart (1, 1) 20190802",
         "type": "scatter",
         "uid": "2fbe3e2e-fff6-11e9-9daa-8c859025e7f9",
         "x": [
          -0.3,
          -0.25,
          -0.2,
          -0.15,
          -0.1,
          -0.05,
          0,
          0.05,
          0.1,
          0.15,
          0.2,
          0.25,
          0.3,
          0.35
         ],
         "xaxis": "x",
         "y": [
          0.1523,
          0.114,
          0.0828,
          0.0566,
          0.0357,
          0.0176,
          0,
          -0.0157,
          -0.0203,
          -0.0164,
          -0.0035,
          0.0169,
          0.0407,
          null
         ],
         "yaxis": "y"
        },
        {
         "legendgroup": "chart (1, 1)",
         "name": "chart (1, 1) 20190805",
         "type": "scatter",
         "uid": "2fbee306-fff6-11e9-a2f7-8c859025e7f9",
         "x": [
          -0.3,
          -0.25,
          -0.2,
          -0.15,
          -0.1,
          -0.05,
          0,
          0.05,
          0.1,
          0.15,
          0.2,
          0.25,
          0.3,
          0.35
         ],
         "xaxis": "x",
         "y": [
          0.1473,
          0.1133,
          0.0794,
          0.053,
          0.0338,
          0.0156,
          0,
          -0.018,
          -0.0256,
          -0.0232,
          -0.0117,
          0.0063,
          0.027,
          null
         ],
         "yaxis": "y"
        },
        {
         "legendgroup": "chart (1, 1)",
         "name": "chart (1, 1) 20190806",
         "type": "scatter",
         "uid": "2fbf9a1c-fff6-11e9-be5e-8c859025e7f9",
         "x": [
          -0.3,
          -0.25,
          -0.2,
          -0.15,
          -0.1,
          -0.05,
          0,
          0.05,
          0.1,
          0.15,
          0.2,
          0.25,
          0.3,
          0.35
         ],
         "xaxis": "x",
         "y": [
          0.1576,
          0.118,
          0.0782,
          0.0519,
          0.0306,
          0.0143,
          0,
          -0.0111,
          -0.0153,
          -0.0095,
          0.0024,
          0.0211,
          0.042,
          0.065
         ],
         "yaxis": "y"
        },
        {
         "legendgroup": "chart (1, 1)",
         "name": "chart (1, 1) 20190807",
         "type": "scatter",
         "uid": "2fc04980-fff6-11e9-9b28-8c859025e7f9",
         "x": [
          -0.3,
          -0.25,
          -0.2,
          -0.15,
          -0.1,
          -0.05,
          0,
          0.05,
          0.1,
          0.15,
          0.2,
          0.25,
          0.3,
          0.35
         ],
         "xaxis": "x",
         "y": [
          0.1551,
          0.1136,
          0.0828,
          0.0526,
          0.0319,
          0.0117,
          0,
          -0.0108,
          -0.0106,
          -0.0041,
          0.0084,
          0.0261,
          0.0409,
          0.0575
         ],
         "yaxis": "y"
        },
        {
         "legendgroup": "chart (1, 2)",
         "name": "chart (1, 2) 20190808",
         "type": "scatter",
         "uid": "2fc1f1f4-fff6-11e9-a4a6-8c859025e7f9",
         "x": [
          -0.3,
          -0.25,
          -0.2,
          -0.15,
          -0.1,
          -0.05,
          0,
          0.05,
          0.1,
          0.15,
          0.2,
          0.25,
          0.3,
          0.35
         ],
         "xaxis": "x2",
         "y": [
          0.1612,
          0.1271,
          0.0946,
          0.0646,
          0.0373,
          0.0179,
          0,
          -0.01,
          -0.0137,
          -0.0058,
          0.0079,
          0.0229,
          0.0401,
          0.0657
         ],
         "yaxis": "y2"
        },
        {
         "legendgroup": "chart (1, 2)",
         "name": "chart (1, 2) 20190809",
         "type": "scatter",
         "uid": "2fc2aaf4-fff6-11e9-9793-8c859025e7f9",
         "x": [
          -0.3,
          -0.25,
          -0.2,
          -0.15,
          -0.1,
          -0.05,
          0,
          0.05,
          0.1,
          0.15,
          0.2,
          0.25,
          0.3,
          0.35
         ],
         "xaxis": "x2",
         "y": [
          0.1664,
          0.1325,
          0.0974,
          0.0636,
          0.0379,
          0.0181,
          0,
          -0.0048,
          -0.0041,
          0.0063,
          0.0238,
          0.0398,
          0.0589,
          0.0841
         ],
         "yaxis": "y2"
        },
        {
         "legendgroup": "chart (1, 2)",
         "name": "chart (1, 2) 20190812",
         "type": "scatter",
         "uid": "2fc35bf4-fff6-11e9-a97e-8c859025e7f9",
         "x": [
          -0.3,
          -0.25,
          -0.2,
          -0.15,
          -0.1,
          -0.05,
          0,
          0.05,
          0.1,
          0.15,
          0.2,
          0.25,
          0.3,
          0.35
         ],
         "xaxis": "x2",
         "y": [
          0.174,
          0.137,
          0.0918,
          0.0582,
          0.0305,
          0.0104,
          0,
          -0.0112,
          -0.0044,
          0.0097,
          0.0293,
          0.0471,
          0.0697,
          0.0897
         ],
         "yaxis": "y2"
        },
        {
         "legendgroup": "chart (1, 2)",
         "name": "chart (1, 2) 20190813",
         "type": "scatter",
         "uid": "2fc40a8c-fff6-11e9-8a60-8c859025e7f9",
         "x": [
          -0.3,
          -0.25,
          -0.2,
          -0.15,
          -0.1,
          -0.05,
          0,
          0.05,
          0.1,
          0.15,
          0.2,
          0.25,
          0.3,
          0.35
         ],
         "xaxis": "x2",
         "y": [
          0.1697,
          0.1346,
          0.0912,
          0.061,
          0.0317,
          0.0105,
          0,
          -0.0036,
          0.0005,
          0.0108,
          0.0287,
          0.0477,
          0.0726,
          null
         ],
         "yaxis": "y2"
        },
        {
         "legendgroup": "chart (1, 2)",
         "name": "chart (1, 2) 20190814",
         "type": "scatter",
         "uid": "2fc49128-fff6-11e9-940a-8c859025e7f9",
         "x": [
          -0.3,
          -0.25,
          -0.2,
          -0.15,
          -0.1,
          -0.05,
          0,
          0.05,
          0.1,
          0.15,
          0.2,
          0.25,
          0.3,
          0.35
         ],
         "xaxis": "x2",
         "y": [
          0.1969,
          0.1475,
          0.1072,
          0.0741,
          0.044,
          0.0199,
          0,
          -0.0114,
          -0.0136,
          -0.008,
          0.0065,
          0.0269,
          0.0498,
          0.077
         ],
         "yaxis": "y2"
        },
        {
         "legendgroup": "chart (2, 1)",
         "name": "chart (2, 1) 20190815",
         "type": "scatter",
         "uid": "2fc5fa42-fff6-11e9-8a41-8c859025e7f9",
         "x": [
          -0.3,
          -0.25,
          -0.2,
          -0.15,
          -0.1,
          -0.05,
          0,
          0.05,
          0.1,
          0.15,
          0.2,
          0.25,
          0.3,
          0.35
         ],
         "xaxis": "x3",
         "y": [
          0.1889,
          0.1463,
          0.1065,
          0.0703,
          0.0386,
          0.0157,
          0,
          -0.0191,
          -0.0215,
          -0.0177,
          -0.0018,
          0.0197,
          0.0359,
          0.0684
         ],
         "yaxis": "y3"
        },
        {
         "legendgroup": "chart (2, 1)",
         "name": "chart (2, 1) 20190816",
         "type": "scatter",
         "uid": "2fc67a94-fff6-11e9-84c0-8c859025e7f9",
         "x": [
          -0.3,
          -0.25,
          -0.2,
          -0.15,
          -0.1,
          -0.05,
          0,
          0.05,
          0.1,
          0.15,
          0.2,
          0.25,
          0.3,
          0.35
         ],
         "xaxis": "x3",
         "y": [
          0.1996,
          0.1502,
          0.1132,
          0.0798,
          0.048,
          0.0231,
          0,
          -0.0098,
          -0.0124,
          -0.0029,
          0.0149,
          0.0396,
          0.0673,
          0.0862
         ],
         "yaxis": "y3"
        },
        {
         "legendgroup": "chart (2, 1)",
         "name": "chart (2, 1) 20190819",
         "type": "scatter",
         "uid": "2fc7244c-fff6-11e9-a7f6-8c859025e7f9",
         "x": [
          -0.3,
          -0.25,
          -0.2,
          -0.15,
          -0.1,
          -0.05,
          0,
          0.05,
          0.1,
          0.15,
          0.2,
          0.25,
          0.3,
          0.35
         ],
         "xaxis": "x3",
         "y": [
          0.2038,
          0.1631,
          0.1179,
          0.074,
          0.0391,
          0.0146,
          0,
          -0.0153,
          -0.0135,
          0.0005,
          0.0258,
          0.0533,
          0.081,
          0.1106
         ],
         "yaxis": "y3"
        },
        {
         "legendgroup": "chart (2, 1)",
         "name": "chart (2, 1) 20190820",
         "type": "scatter",
         "uid": "2fc7a59a-fff6-11e9-bfdd-8c859025e7f9",
         "x": [
          -0.3,
          -0.25,
          -0.2,
          -0.15,
          -0.1,
          -0.05,
          0,
          0.05,
          0.1,
          0.15,
          0.2,
          0.25,
          0.3,
          0.35
         ],
         "xaxis": "x3",
         "y": [
          0.2256,
          0.1751,
          0.1287,
          0.0839,
          0.0465,
          0.0211,
          0,
          -0.0053,
          -0.0006,
          0.0158,
          0.0453,
          0.0749,
          0.1059,
          null
         ],
         "yaxis": "y3"
        },
        {
         "legendgroup": "chart (2, 1)",
         "name": "chart (2, 1) 20190821",
         "type": "scatter",
         "uid": "2fc8391a-fff6-11e9-82c1-8c859025e7f9",
         "x": [
          -0.3,
          -0.25,
          -0.2,
          -0.15,
          -0.1,
          -0.05,
          0,
          0.05,
          0.1,
          0.15,
          0.2,
          0.25,
          0.3,
          0.35
         ],
         "xaxis": "x3",
         "y": [
          0.2135,
          0.1567,
          0.1128,
          0.0735,
          0.036,
          0.0125,
          0,
          -0.009,
          0,
          0.0223,
          0.0547,
          0.0854,
          0.1119,
          null
         ],
         "yaxis": "y3"
        },
        {
         "legendgroup": "chart (2, 2)",
         "name": "chart (2, 2) 20190822",
         "type": "scatter",
         "uid": "2fc9c246-fff6-11e9-bce1-8c859025e7f9",
         "x": [
          -0.3,
          -0.25,
          -0.2,
          -0.15,
          -0.1,
          -0.05,
          0,
          0.05,
          0.1,
          0.15,
          0.2,
          0.25,
          0.3,
          0.35
         ],
         "xaxis": "x4",
         "y": [
          null,
          null,
          null,
          null,
          null,
          null,
          0,
          null,
          null,
          null,
          null,
          null,
          null,
          null
         ],
         "yaxis": "y4"
        },
        {
         "legendgroup": "chart (2, 2)",
         "name": "chart (2, 2) 20190823",
         "type": "scatter",
         "uid": "2fca423a-fff6-11e9-b669-8c859025e7f9",
         "x": [
          -0.3,
          -0.25,
          -0.2,
          -0.15,
          -0.1,
          -0.05,
          0,
          0.05,
          0.1,
          0.15,
          0.2,
          0.25,
          0.3,
          0.35
         ],
         "xaxis": "x4",
         "y": [
          0.228,
          0.1804,
          0.1293,
          0.0805,
          0.0443,
          0.0177,
          0,
          -0.0188,
          -0.017,
          0.0056,
          0.0385,
          null,
          0.1012,
          0.1327
         ],
         "yaxis": "y4"
        },
        {
         "legendgroup": "chart (2, 2)",
         "name": "chart (2, 2) 20190826",
         "type": "scatter",
         "uid": "2fcae32c-fff6-11e9-a6e2-8c859025e7f9",
         "x": [
          -0.3,
          -0.25,
          -0.2,
          -0.15,
          -0.1,
          -0.05,
          0,
          0.05,
          0.1,
          0.15,
          0.2,
          0.25,
          0.3,
          0.35
         ],
         "xaxis": "x4",
         "y": [
          0.2323,
          0.1892,
          0.1336,
          0.0895,
          0.0537,
          0.027,
          0,
          -0.0068,
          -0.0043,
          0.0175,
          0.0458,
          0.0828,
          0.1127,
          0.1455
         ],
         "yaxis": "y4"
        },
        {
         "legendgroup": "chart (2, 2)",
         "name": "chart (2, 2) 20190827",
         "type": "scatter",
         "uid": "2fcb72ba-fff6-11e9-8d26-8c859025e7f9",
         "x": [
          -0.3,
          -0.25,
          -0.2,
          -0.15,
          -0.1,
          -0.05,
          0,
          0.05,
          0.1,
          0.15,
          0.2,
          0.25,
          0.3,
          0.35
         ],
         "xaxis": "x4",
         "y": [
          0.2145,
          0.1813,
          0.1277,
          0.0809,
          0.0448,
          0.0192,
          0,
          -0.01,
          -0.0021,
          0.0247,
          0.0543,
          0.0882,
          0.115,
          0.144
         ],
         "yaxis": "y4"
        },
        {
         "legendgroup": "chart (2, 2)",
         "name": "chart (2, 2) 20190828",
         "type": "scatter",
         "uid": "2fcbf410-fff6-11e9-aa5d-8c859025e7f9",
         "x": [
          -0.3,
          -0.25,
          -0.2,
          -0.15,
          -0.1,
          -0.05,
          0,
          0.05,
          0.1,
          0.15,
          0.2,
          0.25,
          0.3,
          0.35
         ],
         "xaxis": "x4",
         "y": [
          0.2515,
          0.1998,
          0.1394,
          0.0869,
          0.0498,
          0.0218,
          0,
          -0.0144,
          -0.0074,
          0.0173,
          0.0457,
          0.0792,
          0.1102,
          null
         ],
         "yaxis": "y4"
        }
       ],
       "layout": {
        "annotations": [
         {
          "font": {
           "size": 16
          },
          "showarrow": false,
          "text": "CBX19 20190801 - 20190807",
          "x": 0.2275,
          "xanchor": "center",
          "xref": "paper",
          "y": 1,
          "yanchor": "bottom",
          "yref": "paper"
         },
         {
          "font": {
           "size": 16
          },
          "showarrow": false,
          "text": "CBX19 20190808 - 20190814",
          "x": 0.7725,
          "xanchor": "center",
          "xref": "paper",
          "y": 1,
          "yanchor": "bottom",
          "yref": "paper"
         },
         {
          "font": {
           "size": 16
          },
          "showarrow": false,
          "text": "CBX19 20190815 - 20190821",
          "x": 0.2275,
          "xanchor": "center",
          "xref": "paper",
          "y": 0.445,
          "yanchor": "bottom",
          "yref": "paper"
         },
         {
          "font": {
           "size": 16
          },
          "showarrow": false,
          "text": "CBX19 20190822 - 20190828",
          "x": 0.7725,
          "xanchor": "center",
          "xref": "paper",
          "y": 0.445,
          "yanchor": "bottom",
          "yref": "paper"
         }
        ],
        "autosize": true,
        "bargap": 0.05,
        "font": {
         "family": "Open Sans, sans-serif"
        },
        "height": 800,
        "hovermode": "x",
        "margin": {
         "b": 55,
         "l": 45,
         "r": 15,
         "t": 50
        },
        "plot_bgcolor": "#EFECEA",
        "showlegend": true,
        "title": "Skew plots<br>",
        "width": 900,
        "xaxis": {
         "anchor": "y",
         "domain": [
          0,
          0.455
         ],
         "tickangle": 45,
         "ticktext": [
          -0.3,
          -0.25,
          -0.2,
          -0.15,
          -0.1,
          -0.05,
          0,
          0.05,
          0.1,
          0.15,
          0.2,
          0.25,
          0.3,
          0.35
         ],
         "tickvals": [
          -0.3,
          -0.25,
          -0.2,
          -0.15,
          -0.1,
          -0.05,
          0,
          0.05,
          0.1,
          0.15,
          0.2,
          0.25,
          0.3,
          0.35
         ],
         "type": "category"
        },
        "xaxis2": {
         "anchor": "y2",
         "domain": [
          0.545,
          1
         ],
         "tickangle": 45,
         "ticktext": [
          -0.3,
          -0.25,
          -0.2,
          -0.15,
          -0.1,
          -0.05,
          0,
          0.05,
          0.1,
          0.15,
          0.2,
          0.25,
          0.3,
          0.35
         ],
         "tickvals": [
          -0.3,
          -0.25,
          -0.2,
          -0.15,
          -0.1,
          -0.05,
          0,
          0.05,
          0.1,
          0.15,
          0.2,
          0.25,
          0.3,
          0.35
         ],
         "type": "category"
        },
        "xaxis3": {
         "anchor": "y3",
         "domain": [
          0,
          0.455
         ],
         "tickangle": 45,
         "ticktext": [
          -0.3,
          -0.25,
          -0.2,
          -0.15,
          -0.1,
          -0.05,
          0,
          0.05,
          0.1,
          0.15,
          0.2,
          0.25,
          0.3,
          0.35
         ],
         "tickvals": [
          -0.3,
          -0.25,
          -0.2,
          -0.15,
          -0.1,
          -0.05,
          0,
          0.05,
          0.1,
          0.15,
          0.2,
          0.25,
          0.3,
          0.35
         ],
         "type": "category"
        },
        "xaxis4": {
         "anchor": "y4",
         "domain": [
          0.545,
          1
         ],
         "tickangle": 45,
         "ticktext": [
          -0.3,
          -0.25,
          -0.2,
          -0.15,
          -0.1,
          -0.05,
          0,
          0.05,
          0.1,
          0.15,
          0.2,
          0.25,
          0.3,
          0.35
         ],
         "tickvals": [
          -0.3,
          -0.25,
          -0.2,
          -0.15,
          -0.1,
          -0.05,
          0,
          0.05,
          0.1,
          0.15,
          0.2,
          0.25,
          0.3,
          0.35
         ],
         "type": "category"
        },
        "yaxis": {
         "anchor": "x",
         "domain": [
          0.555,
          1
         ],
         "title": "vol skew"
        },
        "yaxis2": {
         "anchor": "x2",
         "domain": [
          0.555,
          1
         ],
         "title": "vol skew"
        },
        "yaxis3": {
         "anchor": "x3",
         "domain": [
          0,
          0.445
         ],
         "title": "vol skew"
        },
        "yaxis4": {
         "anchor": "x4",
         "domain": [
          0,
          0.445
         ],
         "title": "vol skew"
        }
       }
      },
      "text/html": [
       "<div id=\"d7de7da4-bc87-4cae-a6fb-e431ae28c1a8\" style=\"height: 800px; width: 900px;\" class=\"plotly-graph-div\"></div><script type=\"text/javascript\">require([\"plotly\"], function(Plotly) { window.PLOTLYENV=window.PLOTLYENV || {};window.PLOTLYENV.BASE_URL=\"https://plot.ly\";Plotly.newPlot(\"d7de7da4-bc87-4cae-a6fb-e431ae28c1a8\", [{\"legendgroup\": \"chart (1, 1)\", \"name\": \"chart (1, 1) 20190801\", \"uid\": \"2fbd847a-fff6-11e9-9e3b-8c859025e7f9\", \"x\": [-0.3, -0.25, -0.2, -0.15, -0.1, -0.05, 0.0, 0.05, 0.1, 0.15, 0.2, 0.25, 0.3, 0.35], \"y\": [0.1644, 0.1226, 0.0884, 0.0594, 0.0358, 0.0153, 0.0, -0.0137, -0.0163, -0.0129, -0.0011, 0.0131, 0.0265, null], \"yaxis\": \"y\", \"type\": \"scatter\", \"xaxis\": \"x\"}, {\"legendgroup\": \"chart (1, 1)\", \"name\": \"chart (1, 1) 20190802\", \"uid\": \"2fbe3e2e-fff6-11e9-9daa-8c859025e7f9\", \"x\": [-0.3, -0.25, -0.2, -0.15, -0.1, -0.05, 0.0, 0.05, 0.1, 0.15, 0.2, 0.25, 0.3, 0.35], \"y\": [0.1523, 0.114, 0.0828, 0.0566, 0.0357, 0.0176, 0.0, -0.0157, -0.0203, -0.0164, -0.0035, 0.0169, 0.0407, null], \"yaxis\": \"y\", \"type\": \"scatter\", \"xaxis\": \"x\"}, {\"legendgroup\": \"chart (1, 1)\", \"name\": \"chart (1, 1) 20190805\", \"uid\": \"2fbee306-fff6-11e9-a2f7-8c859025e7f9\", \"x\": [-0.3, -0.25, -0.2, -0.15, -0.1, -0.05, 0.0, 0.05, 0.1, 0.15, 0.2, 0.25, 0.3, 0.35], \"y\": [0.1473, 0.1133, 0.0794, 0.053, 0.0338, 0.0156, 0.0, -0.018, -0.0256, -0.0232, -0.0117, 0.0063, 0.027, null], \"yaxis\": \"y\", \"type\": \"scatter\", \"xaxis\": \"x\"}, {\"legendgroup\": \"chart (1, 1)\", \"name\": \"chart (1, 1) 20190806\", \"uid\": \"2fbf9a1c-fff6-11e9-be5e-8c859025e7f9\", \"x\": [-0.3, -0.25, -0.2, -0.15, -0.1, -0.05, 0.0, 0.05, 0.1, 0.15, 0.2, 0.25, 0.3, 0.35], \"y\": [0.1576, 0.118, 0.0782, 0.0519, 0.0306, 0.0143, 0.0, -0.0111, -0.0153, -0.0095, 0.0024, 0.0211, 0.042, 0.065], \"yaxis\": \"y\", \"type\": \"scatter\", \"xaxis\": \"x\"}, {\"legendgroup\": \"chart (1, 1)\", \"name\": \"chart (1, 1) 20190807\", \"uid\": \"2fc04980-fff6-11e9-9b28-8c859025e7f9\", \"x\": [-0.3, -0.25, -0.2, -0.15, -0.1, -0.05, 0.0, 0.05, 0.1, 0.15, 0.2, 0.25, 0.3, 0.35], \"y\": [0.1551, 0.1136, 0.0828, 0.0526, 0.0319, 0.0117, 0.0, -0.0108, -0.0106, -0.0041, 0.0084, 0.0261, 0.0409, 0.0575], \"yaxis\": \"y\", \"type\": \"scatter\", \"xaxis\": \"x\"}, {\"legendgroup\": \"chart (1, 2)\", \"name\": \"chart (1, 2) 20190808\", \"uid\": \"2fc1f1f4-fff6-11e9-a4a6-8c859025e7f9\", \"x\": [-0.3, -0.25, -0.2, -0.15, -0.1, -0.05, 0.0, 0.05, 0.1, 0.15, 0.2, 0.25, 0.3, 0.35], \"y\": [0.1612, 0.1271, 0.0946, 0.0646, 0.0373, 0.0179, 0.0, -0.01, -0.0137, -0.0058, 0.0079, 0.0229, 0.0401, 0.0657], \"yaxis\": \"y2\", \"type\": \"scatter\", \"xaxis\": \"x2\"}, {\"legendgroup\": \"chart (1, 2)\", \"name\": \"chart (1, 2) 20190809\", \"uid\": \"2fc2aaf4-fff6-11e9-9793-8c859025e7f9\", \"x\": [-0.3, -0.25, -0.2, -0.15, -0.1, -0.05, 0.0, 0.05, 0.1, 0.15, 0.2, 0.25, 0.3, 0.35], \"y\": [0.1664, 0.1325, 0.0974, 0.0636, 0.0379, 0.0181, 0.0, -0.0048, -0.0041, 0.0063, 0.0238, 0.0398, 0.0589, 0.0841], \"yaxis\": \"y2\", \"type\": \"scatter\", \"xaxis\": \"x2\"}, {\"legendgroup\": \"chart (1, 2)\", \"name\": \"chart (1, 2) 20190812\", \"uid\": \"2fc35bf4-fff6-11e9-a97e-8c859025e7f9\", \"x\": [-0.3, -0.25, -0.2, -0.15, -0.1, -0.05, 0.0, 0.05, 0.1, 0.15, 0.2, 0.25, 0.3, 0.35], \"y\": [0.174, 0.137, 0.0918, 0.0582, 0.0305, 0.0104, 0.0, -0.0112, -0.0044, 0.0097, 0.0293, 0.0471, 0.0697, 0.0897], \"yaxis\": \"y2\", \"type\": \"scatter\", \"xaxis\": \"x2\"}, {\"legendgroup\": \"chart (1, 2)\", \"name\": \"chart (1, 2) 20190813\", \"uid\": \"2fc40a8c-fff6-11e9-8a60-8c859025e7f9\", \"x\": [-0.3, -0.25, -0.2, -0.15, -0.1, -0.05, 0.0, 0.05, 0.1, 0.15, 0.2, 0.25, 0.3, 0.35], \"y\": [0.1697, 0.1346, 0.0912, 0.061, 0.0317, 0.0105, 0.0, -0.0036, 0.0005, 0.0108, 0.0287, 0.0477, 0.0726, null], \"yaxis\": \"y2\", \"type\": \"scatter\", \"xaxis\": \"x2\"}, {\"legendgroup\": \"chart (1, 2)\", \"name\": \"chart (1, 2) 20190814\", \"uid\": \"2fc49128-fff6-11e9-940a-8c859025e7f9\", \"x\": [-0.3, -0.25, -0.2, -0.15, -0.1, -0.05, 0.0, 0.05, 0.1, 0.15, 0.2, 0.25, 0.3, 0.35], \"y\": [0.1969, 0.1475, 0.1072, 0.0741, 0.044, 0.0199, 0.0, -0.0114, -0.0136, -0.008, 0.0065, 0.0269, 0.0498, 0.077], \"yaxis\": \"y2\", \"type\": \"scatter\", \"xaxis\": \"x2\"}, {\"legendgroup\": \"chart (2, 1)\", \"name\": \"chart (2, 1) 20190815\", \"uid\": \"2fc5fa42-fff6-11e9-8a41-8c859025e7f9\", \"x\": [-0.3, -0.25, -0.2, -0.15, -0.1, -0.05, 0.0, 0.05, 0.1, 0.15, 0.2, 0.25, 0.3, 0.35], \"y\": [0.1889, 0.1463, 0.1065, 0.0703, 0.0386, 0.0157, 0.0, -0.0191, -0.0215, -0.0177, -0.0018, 0.0197, 0.0359, 0.0684], \"yaxis\": \"y3\", \"type\": \"scatter\", \"xaxis\": \"x3\"}, {\"legendgroup\": \"chart (2, 1)\", \"name\": \"chart (2, 1) 20190816\", \"uid\": \"2fc67a94-fff6-11e9-84c0-8c859025e7f9\", \"x\": [-0.3, -0.25, -0.2, -0.15, -0.1, -0.05, 0.0, 0.05, 0.1, 0.15, 0.2, 0.25, 0.3, 0.35], \"y\": [0.1996, 0.1502, 0.1132, 0.0798, 0.048, 0.0231, 0.0, -0.0098, -0.0124, -0.0029, 0.0149, 0.0396, 0.0673, 0.0862], \"yaxis\": \"y3\", \"type\": \"scatter\", \"xaxis\": \"x3\"}, {\"legendgroup\": \"chart (2, 1)\", \"name\": \"chart (2, 1) 20190819\", \"uid\": \"2fc7244c-fff6-11e9-a7f6-8c859025e7f9\", \"x\": [-0.3, -0.25, -0.2, -0.15, -0.1, -0.05, 0.0, 0.05, 0.1, 0.15, 0.2, 0.25, 0.3, 0.35], \"y\": [0.2038, 0.1631, 0.1179, 0.074, 0.0391, 0.0146, 0.0, -0.0153, -0.0135, 0.0005, 0.0258, 0.0533, 0.081, 0.1106], \"yaxis\": \"y3\", \"type\": \"scatter\", \"xaxis\": \"x3\"}, {\"legendgroup\": \"chart (2, 1)\", \"name\": \"chart (2, 1) 20190820\", \"uid\": \"2fc7a59a-fff6-11e9-bfdd-8c859025e7f9\", \"x\": [-0.3, -0.25, -0.2, -0.15, -0.1, -0.05, 0.0, 0.05, 0.1, 0.15, 0.2, 0.25, 0.3, 0.35], \"y\": [0.2256, 0.1751, 0.1287, 0.0839, 0.0465, 0.0211, 0.0, -0.0053, -0.0006, 0.0158, 0.0453, 0.0749, 0.1059, null], \"yaxis\": \"y3\", \"type\": \"scatter\", \"xaxis\": \"x3\"}, {\"legendgroup\": \"chart (2, 1)\", \"name\": \"chart (2, 1) 20190821\", \"uid\": \"2fc8391a-fff6-11e9-82c1-8c859025e7f9\", \"x\": [-0.3, -0.25, -0.2, -0.15, -0.1, -0.05, 0.0, 0.05, 0.1, 0.15, 0.2, 0.25, 0.3, 0.35], \"y\": [0.2135, 0.1567, 0.1128, 0.0735, 0.036, 0.0125, 0.0, -0.009, 0.0, 0.0223, 0.0547, 0.0854, 0.1119, null], \"yaxis\": \"y3\", \"type\": \"scatter\", \"xaxis\": \"x3\"}, {\"legendgroup\": \"chart (2, 2)\", \"name\": \"chart (2, 2) 20190822\", \"uid\": \"2fc9c246-fff6-11e9-bce1-8c859025e7f9\", \"x\": [-0.3, -0.25, -0.2, -0.15, -0.1, -0.05, 0.0, 0.05, 0.1, 0.15, 0.2, 0.25, 0.3, 0.35], \"y\": [null, null, null, null, null, null, 0.0, null, null, null, null, null, null, null], \"yaxis\": \"y4\", \"type\": \"scatter\", \"xaxis\": \"x4\"}, {\"legendgroup\": \"chart (2, 2)\", \"name\": \"chart (2, 2) 20190823\", \"uid\": \"2fca423a-fff6-11e9-b669-8c859025e7f9\", \"x\": [-0.3, -0.25, -0.2, -0.15, -0.1, -0.05, 0.0, 0.05, 0.1, 0.15, 0.2, 0.25, 0.3, 0.35], \"y\": [0.228, 0.1804, 0.1293, 0.0805, 0.0443, 0.0177, 0.0, -0.0188, -0.017, 0.0056, 0.0385, null, 0.1012, 0.1327], \"yaxis\": \"y4\", \"type\": \"scatter\", \"xaxis\": \"x4\"}, {\"legendgroup\": \"chart (2, 2)\", \"name\": \"chart (2, 2) 20190826\", \"uid\": \"2fcae32c-fff6-11e9-a6e2-8c859025e7f9\", \"x\": [-0.3, -0.25, -0.2, -0.15, -0.1, -0.05, 0.0, 0.05, 0.1, 0.15, 0.2, 0.25, 0.3, 0.35], \"y\": [0.2323, 0.1892, 0.1336, 0.0895, 0.0537, 0.027, 0.0, -0.0068, -0.0043, 0.0175, 0.0458, 0.0828, 0.1127, 0.1455], \"yaxis\": \"y4\", \"type\": \"scatter\", \"xaxis\": \"x4\"}, {\"legendgroup\": \"chart (2, 2)\", \"name\": \"chart (2, 2) 20190827\", \"uid\": \"2fcb72ba-fff6-11e9-8d26-8c859025e7f9\", \"x\": [-0.3, -0.25, -0.2, -0.15, -0.1, -0.05, 0.0, 0.05, 0.1, 0.15, 0.2, 0.25, 0.3, 0.35], \"y\": [0.2145, 0.1813, 0.1277, 0.0809, 0.0448, 0.0192, 0.0, -0.01, -0.0021, 0.0247, 0.0543, 0.0882, 0.115, 0.144], \"yaxis\": \"y4\", \"type\": \"scatter\", \"xaxis\": \"x4\"}, {\"legendgroup\": \"chart (2, 2)\", \"name\": \"chart (2, 2) 20190828\", \"uid\": \"2fcbf410-fff6-11e9-aa5d-8c859025e7f9\", \"x\": [-0.3, -0.25, -0.2, -0.15, -0.1, -0.05, 0.0, 0.05, 0.1, 0.15, 0.2, 0.25, 0.3, 0.35], \"y\": [0.2515, 0.1998, 0.1394, 0.0869, 0.0498, 0.0218, 0.0, -0.0144, -0.0074, 0.0173, 0.0457, 0.0792, 0.1102, null], \"yaxis\": \"y4\", \"type\": \"scatter\", \"xaxis\": \"x4\"}], {\"annotations\": [{\"font\": {\"size\": 16}, \"showarrow\": false, \"text\": \"CBX19 20190801 - 20190807\", \"x\": 0.2275, \"xanchor\": \"center\", \"xref\": \"paper\", \"y\": 1.0, \"yanchor\": \"bottom\", \"yref\": \"paper\"}, {\"font\": {\"size\": 16}, \"showarrow\": false, \"text\": \"CBX19 20190808 - 20190814\", \"x\": 0.7725, \"xanchor\": \"center\", \"xref\": \"paper\", \"y\": 1.0, \"yanchor\": \"bottom\", \"yref\": \"paper\"}, {\"font\": {\"size\": 16}, \"showarrow\": false, \"text\": \"CBX19 20190815 - 20190821\", \"x\": 0.2275, \"xanchor\": \"center\", \"xref\": \"paper\", \"y\": 0.445, \"yanchor\": \"bottom\", \"yref\": \"paper\"}, {\"font\": {\"size\": 16}, \"showarrow\": false, \"text\": \"CBX19 20190822 - 20190828\", \"x\": 0.7725, \"xanchor\": \"center\", \"xref\": \"paper\", \"y\": 0.445, \"yanchor\": \"bottom\", \"yref\": \"paper\"}], \"xaxis\": {\"anchor\": \"y\", \"domain\": [0.0, 0.455], \"tickangle\": 45, \"ticktext\": [-0.3, -0.25, -0.2, -0.15, -0.1, -0.05, 0.0, 0.05, 0.1, 0.15, 0.2, 0.25, 0.3, 0.35], \"tickvals\": [-0.3, -0.25, -0.2, -0.15, -0.1, -0.05, 0.0, 0.05, 0.1, 0.15, 0.2, 0.25, 0.3, 0.35], \"type\": \"category\"}, \"yaxis\": {\"anchor\": \"x\", \"domain\": [0.555, 1.0], \"title\": \"vol skew\"}, \"xaxis2\": {\"anchor\": \"y2\", \"domain\": [0.545, 1.0], \"tickangle\": 45, \"ticktext\": [-0.3, -0.25, -0.2, -0.15, -0.1, -0.05, 0.0, 0.05, 0.1, 0.15, 0.2, 0.25, 0.3, 0.35], \"tickvals\": [-0.3, -0.25, -0.2, -0.15, -0.1, -0.05, 0.0, 0.05, 0.1, 0.15, 0.2, 0.25, 0.3, 0.35], \"type\": \"category\"}, \"yaxis2\": {\"anchor\": \"x2\", \"domain\": [0.555, 1.0], \"title\": \"vol skew\"}, \"xaxis3\": {\"anchor\": \"y3\", \"domain\": [0.0, 0.455], \"tickangle\": 45, \"ticktext\": [-0.3, -0.25, -0.2, -0.15, -0.1, -0.05, 0.0, 0.05, 0.1, 0.15, 0.2, 0.25, 0.3, 0.35], \"tickvals\": [-0.3, -0.25, -0.2, -0.15, -0.1, -0.05, 0.0, 0.05, 0.1, 0.15, 0.2, 0.25, 0.3, 0.35], \"type\": \"category\"}, \"yaxis3\": {\"anchor\": \"x3\", \"domain\": [0.0, 0.445], \"title\": \"vol skew\"}, \"xaxis4\": {\"anchor\": \"y4\", \"domain\": [0.545, 1.0], \"tickangle\": 45, \"ticktext\": [-0.3, -0.25, -0.2, -0.15, -0.1, -0.05, 0.0, 0.05, 0.1, 0.15, 0.2, 0.25, 0.3, 0.35], \"tickvals\": [-0.3, -0.25, -0.2, -0.15, -0.1, -0.05, 0.0, 0.05, 0.1, 0.15, 0.2, 0.25, 0.3, 0.35], \"type\": \"category\"}, \"yaxis4\": {\"anchor\": \"x4\", \"domain\": [0.0, 0.445], \"title\": \"vol skew\"}, \"font\": {\"family\": \"Open Sans, sans-serif\"}, \"margin\": {\"b\": 55, \"l\": 45, \"r\": 15, \"t\": 50}, \"title\": \"Skew plots<br>\", \"showlegend\": true, \"hovermode\": \"x\", \"autosize\": true, \"width\": 900, \"height\": 800, \"plot_bgcolor\": \"#EFECEA\", \"bargap\": 0.05}, {\"showLink\": true, \"linkText\": \"Export to plot.ly\"})});</script>"
      ],
      "text/vnd.plotly.v1+html": [
       "<div id=\"d7de7da4-bc87-4cae-a6fb-e431ae28c1a8\" style=\"height: 800px; width: 900px;\" class=\"plotly-graph-div\"></div><script type=\"text/javascript\">require([\"plotly\"], function(Plotly) { window.PLOTLYENV=window.PLOTLYENV || {};window.PLOTLYENV.BASE_URL=\"https://plot.ly\";Plotly.newPlot(\"d7de7da4-bc87-4cae-a6fb-e431ae28c1a8\", [{\"legendgroup\": \"chart (1, 1)\", \"name\": \"chart (1, 1) 20190801\", \"uid\": \"2fbd847a-fff6-11e9-9e3b-8c859025e7f9\", \"x\": [-0.3, -0.25, -0.2, -0.15, -0.1, -0.05, 0.0, 0.05, 0.1, 0.15, 0.2, 0.25, 0.3, 0.35], \"y\": [0.1644, 0.1226, 0.0884, 0.0594, 0.0358, 0.0153, 0.0, -0.0137, -0.0163, -0.0129, -0.0011, 0.0131, 0.0265, null], \"yaxis\": \"y\", \"type\": \"scatter\", \"xaxis\": \"x\"}, {\"legendgroup\": \"chart (1, 1)\", \"name\": \"chart (1, 1) 20190802\", \"uid\": \"2fbe3e2e-fff6-11e9-9daa-8c859025e7f9\", \"x\": [-0.3, -0.25, -0.2, -0.15, -0.1, -0.05, 0.0, 0.05, 0.1, 0.15, 0.2, 0.25, 0.3, 0.35], \"y\": [0.1523, 0.114, 0.0828, 0.0566, 0.0357, 0.0176, 0.0, -0.0157, -0.0203, -0.0164, -0.0035, 0.0169, 0.0407, null], \"yaxis\": \"y\", \"type\": \"scatter\", \"xaxis\": \"x\"}, {\"legendgroup\": \"chart (1, 1)\", \"name\": \"chart (1, 1) 20190805\", \"uid\": \"2fbee306-fff6-11e9-a2f7-8c859025e7f9\", \"x\": [-0.3, -0.25, -0.2, -0.15, -0.1, -0.05, 0.0, 0.05, 0.1, 0.15, 0.2, 0.25, 0.3, 0.35], \"y\": [0.1473, 0.1133, 0.0794, 0.053, 0.0338, 0.0156, 0.0, -0.018, -0.0256, -0.0232, -0.0117, 0.0063, 0.027, null], \"yaxis\": \"y\", \"type\": \"scatter\", \"xaxis\": \"x\"}, {\"legendgroup\": \"chart (1, 1)\", \"name\": \"chart (1, 1) 20190806\", \"uid\": \"2fbf9a1c-fff6-11e9-be5e-8c859025e7f9\", \"x\": [-0.3, -0.25, -0.2, -0.15, -0.1, -0.05, 0.0, 0.05, 0.1, 0.15, 0.2, 0.25, 0.3, 0.35], \"y\": [0.1576, 0.118, 0.0782, 0.0519, 0.0306, 0.0143, 0.0, -0.0111, -0.0153, -0.0095, 0.0024, 0.0211, 0.042, 0.065], \"yaxis\": \"y\", \"type\": \"scatter\", \"xaxis\": \"x\"}, {\"legendgroup\": \"chart (1, 1)\", \"name\": \"chart (1, 1) 20190807\", \"uid\": \"2fc04980-fff6-11e9-9b28-8c859025e7f9\", \"x\": [-0.3, -0.25, -0.2, -0.15, -0.1, -0.05, 0.0, 0.05, 0.1, 0.15, 0.2, 0.25, 0.3, 0.35], \"y\": [0.1551, 0.1136, 0.0828, 0.0526, 0.0319, 0.0117, 0.0, -0.0108, -0.0106, -0.0041, 0.0084, 0.0261, 0.0409, 0.0575], \"yaxis\": \"y\", \"type\": \"scatter\", \"xaxis\": \"x\"}, {\"legendgroup\": \"chart (1, 2)\", \"name\": \"chart (1, 2) 20190808\", \"uid\": \"2fc1f1f4-fff6-11e9-a4a6-8c859025e7f9\", \"x\": [-0.3, -0.25, -0.2, -0.15, -0.1, -0.05, 0.0, 0.05, 0.1, 0.15, 0.2, 0.25, 0.3, 0.35], \"y\": [0.1612, 0.1271, 0.0946, 0.0646, 0.0373, 0.0179, 0.0, -0.01, -0.0137, -0.0058, 0.0079, 0.0229, 0.0401, 0.0657], \"yaxis\": \"y2\", \"type\": \"scatter\", \"xaxis\": \"x2\"}, {\"legendgroup\": \"chart (1, 2)\", \"name\": \"chart (1, 2) 20190809\", \"uid\": \"2fc2aaf4-fff6-11e9-9793-8c859025e7f9\", \"x\": [-0.3, -0.25, -0.2, -0.15, -0.1, -0.05, 0.0, 0.05, 0.1, 0.15, 0.2, 0.25, 0.3, 0.35], \"y\": [0.1664, 0.1325, 0.0974, 0.0636, 0.0379, 0.0181, 0.0, -0.0048, -0.0041, 0.0063, 0.0238, 0.0398, 0.0589, 0.0841], \"yaxis\": \"y2\", \"type\": \"scatter\", \"xaxis\": \"x2\"}, {\"legendgroup\": \"chart (1, 2)\", \"name\": \"chart (1, 2) 20190812\", \"uid\": \"2fc35bf4-fff6-11e9-a97e-8c859025e7f9\", \"x\": [-0.3, -0.25, -0.2, -0.15, -0.1, -0.05, 0.0, 0.05, 0.1, 0.15, 0.2, 0.25, 0.3, 0.35], \"y\": [0.174, 0.137, 0.0918, 0.0582, 0.0305, 0.0104, 0.0, -0.0112, -0.0044, 0.0097, 0.0293, 0.0471, 0.0697, 0.0897], \"yaxis\": \"y2\", \"type\": \"scatter\", \"xaxis\": \"x2\"}, {\"legendgroup\": \"chart (1, 2)\", \"name\": \"chart (1, 2) 20190813\", \"uid\": \"2fc40a8c-fff6-11e9-8a60-8c859025e7f9\", \"x\": [-0.3, -0.25, -0.2, -0.15, -0.1, -0.05, 0.0, 0.05, 0.1, 0.15, 0.2, 0.25, 0.3, 0.35], \"y\": [0.1697, 0.1346, 0.0912, 0.061, 0.0317, 0.0105, 0.0, -0.0036, 0.0005, 0.0108, 0.0287, 0.0477, 0.0726, null], \"yaxis\": \"y2\", \"type\": \"scatter\", \"xaxis\": \"x2\"}, {\"legendgroup\": \"chart (1, 2)\", \"name\": \"chart (1, 2) 20190814\", \"uid\": \"2fc49128-fff6-11e9-940a-8c859025e7f9\", \"x\": [-0.3, -0.25, -0.2, -0.15, -0.1, -0.05, 0.0, 0.05, 0.1, 0.15, 0.2, 0.25, 0.3, 0.35], \"y\": [0.1969, 0.1475, 0.1072, 0.0741, 0.044, 0.0199, 0.0, -0.0114, -0.0136, -0.008, 0.0065, 0.0269, 0.0498, 0.077], \"yaxis\": \"y2\", \"type\": \"scatter\", \"xaxis\": \"x2\"}, {\"legendgroup\": \"chart (2, 1)\", \"name\": \"chart (2, 1) 20190815\", \"uid\": \"2fc5fa42-fff6-11e9-8a41-8c859025e7f9\", \"x\": [-0.3, -0.25, -0.2, -0.15, -0.1, -0.05, 0.0, 0.05, 0.1, 0.15, 0.2, 0.25, 0.3, 0.35], \"y\": [0.1889, 0.1463, 0.1065, 0.0703, 0.0386, 0.0157, 0.0, -0.0191, -0.0215, -0.0177, -0.0018, 0.0197, 0.0359, 0.0684], \"yaxis\": \"y3\", \"type\": \"scatter\", \"xaxis\": \"x3\"}, {\"legendgroup\": \"chart (2, 1)\", \"name\": \"chart (2, 1) 20190816\", \"uid\": \"2fc67a94-fff6-11e9-84c0-8c859025e7f9\", \"x\": [-0.3, -0.25, -0.2, -0.15, -0.1, -0.05, 0.0, 0.05, 0.1, 0.15, 0.2, 0.25, 0.3, 0.35], \"y\": [0.1996, 0.1502, 0.1132, 0.0798, 0.048, 0.0231, 0.0, -0.0098, -0.0124, -0.0029, 0.0149, 0.0396, 0.0673, 0.0862], \"yaxis\": \"y3\", \"type\": \"scatter\", \"xaxis\": \"x3\"}, {\"legendgroup\": \"chart (2, 1)\", \"name\": \"chart (2, 1) 20190819\", \"uid\": \"2fc7244c-fff6-11e9-a7f6-8c859025e7f9\", \"x\": [-0.3, -0.25, -0.2, -0.15, -0.1, -0.05, 0.0, 0.05, 0.1, 0.15, 0.2, 0.25, 0.3, 0.35], \"y\": [0.2038, 0.1631, 0.1179, 0.074, 0.0391, 0.0146, 0.0, -0.0153, -0.0135, 0.0005, 0.0258, 0.0533, 0.081, 0.1106], \"yaxis\": \"y3\", \"type\": \"scatter\", \"xaxis\": \"x3\"}, {\"legendgroup\": \"chart (2, 1)\", \"name\": \"chart (2, 1) 20190820\", \"uid\": \"2fc7a59a-fff6-11e9-bfdd-8c859025e7f9\", \"x\": [-0.3, -0.25, -0.2, -0.15, -0.1, -0.05, 0.0, 0.05, 0.1, 0.15, 0.2, 0.25, 0.3, 0.35], \"y\": [0.2256, 0.1751, 0.1287, 0.0839, 0.0465, 0.0211, 0.0, -0.0053, -0.0006, 0.0158, 0.0453, 0.0749, 0.1059, null], \"yaxis\": \"y3\", \"type\": \"scatter\", \"xaxis\": \"x3\"}, {\"legendgroup\": \"chart (2, 1)\", \"name\": \"chart (2, 1) 20190821\", \"uid\": \"2fc8391a-fff6-11e9-82c1-8c859025e7f9\", \"x\": [-0.3, -0.25, -0.2, -0.15, -0.1, -0.05, 0.0, 0.05, 0.1, 0.15, 0.2, 0.25, 0.3, 0.35], \"y\": [0.2135, 0.1567, 0.1128, 0.0735, 0.036, 0.0125, 0.0, -0.009, 0.0, 0.0223, 0.0547, 0.0854, 0.1119, null], \"yaxis\": \"y3\", \"type\": \"scatter\", \"xaxis\": \"x3\"}, {\"legendgroup\": \"chart (2, 2)\", \"name\": \"chart (2, 2) 20190822\", \"uid\": \"2fc9c246-fff6-11e9-bce1-8c859025e7f9\", \"x\": [-0.3, -0.25, -0.2, -0.15, -0.1, -0.05, 0.0, 0.05, 0.1, 0.15, 0.2, 0.25, 0.3, 0.35], \"y\": [null, null, null, null, null, null, 0.0, null, null, null, null, null, null, null], \"yaxis\": \"y4\", \"type\": \"scatter\", \"xaxis\": \"x4\"}, {\"legendgroup\": \"chart (2, 2)\", \"name\": \"chart (2, 2) 20190823\", \"uid\": \"2fca423a-fff6-11e9-b669-8c859025e7f9\", \"x\": [-0.3, -0.25, -0.2, -0.15, -0.1, -0.05, 0.0, 0.05, 0.1, 0.15, 0.2, 0.25, 0.3, 0.35], \"y\": [0.228, 0.1804, 0.1293, 0.0805, 0.0443, 0.0177, 0.0, -0.0188, -0.017, 0.0056, 0.0385, null, 0.1012, 0.1327], \"yaxis\": \"y4\", \"type\": \"scatter\", \"xaxis\": \"x4\"}, {\"legendgroup\": \"chart (2, 2)\", \"name\": \"chart (2, 2) 20190826\", \"uid\": \"2fcae32c-fff6-11e9-a6e2-8c859025e7f9\", \"x\": [-0.3, -0.25, -0.2, -0.15, -0.1, -0.05, 0.0, 0.05, 0.1, 0.15, 0.2, 0.25, 0.3, 0.35], \"y\": [0.2323, 0.1892, 0.1336, 0.0895, 0.0537, 0.027, 0.0, -0.0068, -0.0043, 0.0175, 0.0458, 0.0828, 0.1127, 0.1455], \"yaxis\": \"y4\", \"type\": \"scatter\", \"xaxis\": \"x4\"}, {\"legendgroup\": \"chart (2, 2)\", \"name\": \"chart (2, 2) 20190827\", \"uid\": \"2fcb72ba-fff6-11e9-8d26-8c859025e7f9\", \"x\": [-0.3, -0.25, -0.2, -0.15, -0.1, -0.05, 0.0, 0.05, 0.1, 0.15, 0.2, 0.25, 0.3, 0.35], \"y\": [0.2145, 0.1813, 0.1277, 0.0809, 0.0448, 0.0192, 0.0, -0.01, -0.0021, 0.0247, 0.0543, 0.0882, 0.115, 0.144], \"yaxis\": \"y4\", \"type\": \"scatter\", \"xaxis\": \"x4\"}, {\"legendgroup\": \"chart (2, 2)\", \"name\": \"chart (2, 2) 20190828\", \"uid\": \"2fcbf410-fff6-11e9-aa5d-8c859025e7f9\", \"x\": [-0.3, -0.25, -0.2, -0.15, -0.1, -0.05, 0.0, 0.05, 0.1, 0.15, 0.2, 0.25, 0.3, 0.35], \"y\": [0.2515, 0.1998, 0.1394, 0.0869, 0.0498, 0.0218, 0.0, -0.0144, -0.0074, 0.0173, 0.0457, 0.0792, 0.1102, null], \"yaxis\": \"y4\", \"type\": \"scatter\", \"xaxis\": \"x4\"}], {\"annotations\": [{\"font\": {\"size\": 16}, \"showarrow\": false, \"text\": \"CBX19 20190801 - 20190807\", \"x\": 0.2275, \"xanchor\": \"center\", \"xref\": \"paper\", \"y\": 1.0, \"yanchor\": \"bottom\", \"yref\": \"paper\"}, {\"font\": {\"size\": 16}, \"showarrow\": false, \"text\": \"CBX19 20190808 - 20190814\", \"x\": 0.7725, \"xanchor\": \"center\", \"xref\": \"paper\", \"y\": 1.0, \"yanchor\": \"bottom\", \"yref\": \"paper\"}, {\"font\": {\"size\": 16}, \"showarrow\": false, \"text\": \"CBX19 20190815 - 20190821\", \"x\": 0.2275, \"xanchor\": \"center\", \"xref\": \"paper\", \"y\": 0.445, \"yanchor\": \"bottom\", \"yref\": \"paper\"}, {\"font\": {\"size\": 16}, \"showarrow\": false, \"text\": \"CBX19 20190822 - 20190828\", \"x\": 0.7725, \"xanchor\": \"center\", \"xref\": \"paper\", \"y\": 0.445, \"yanchor\": \"bottom\", \"yref\": \"paper\"}], \"xaxis\": {\"anchor\": \"y\", \"domain\": [0.0, 0.455], \"tickangle\": 45, \"ticktext\": [-0.3, -0.25, -0.2, -0.15, -0.1, -0.05, 0.0, 0.05, 0.1, 0.15, 0.2, 0.25, 0.3, 0.35], \"tickvals\": [-0.3, -0.25, -0.2, -0.15, -0.1, -0.05, 0.0, 0.05, 0.1, 0.15, 0.2, 0.25, 0.3, 0.35], \"type\": \"category\"}, \"yaxis\": {\"anchor\": \"x\", \"domain\": [0.555, 1.0], \"title\": \"vol skew\"}, \"xaxis2\": {\"anchor\": \"y2\", \"domain\": [0.545, 1.0], \"tickangle\": 45, \"ticktext\": [-0.3, -0.25, -0.2, -0.15, -0.1, -0.05, 0.0, 0.05, 0.1, 0.15, 0.2, 0.25, 0.3, 0.35], \"tickvals\": [-0.3, -0.25, -0.2, -0.15, -0.1, -0.05, 0.0, 0.05, 0.1, 0.15, 0.2, 0.25, 0.3, 0.35], \"type\": \"category\"}, \"yaxis2\": {\"anchor\": \"x2\", \"domain\": [0.555, 1.0], \"title\": \"vol skew\"}, \"xaxis3\": {\"anchor\": \"y3\", \"domain\": [0.0, 0.455], \"tickangle\": 45, \"ticktext\": [-0.3, -0.25, -0.2, -0.15, -0.1, -0.05, 0.0, 0.05, 0.1, 0.15, 0.2, 0.25, 0.3, 0.35], \"tickvals\": [-0.3, -0.25, -0.2, -0.15, -0.1, -0.05, 0.0, 0.05, 0.1, 0.15, 0.2, 0.25, 0.3, 0.35], \"type\": \"category\"}, \"yaxis3\": {\"anchor\": \"x3\", \"domain\": [0.0, 0.445], \"title\": \"vol skew\"}, \"xaxis4\": {\"anchor\": \"y4\", \"domain\": [0.545, 1.0], \"tickangle\": 45, \"ticktext\": [-0.3, -0.25, -0.2, -0.15, -0.1, -0.05, 0.0, 0.05, 0.1, 0.15, 0.2, 0.25, 0.3, 0.35], \"tickvals\": [-0.3, -0.25, -0.2, -0.15, -0.1, -0.05, 0.0, 0.05, 0.1, 0.15, 0.2, 0.25, 0.3, 0.35], \"type\": \"category\"}, \"yaxis4\": {\"anchor\": \"x4\", \"domain\": [0.0, 0.445], \"title\": \"vol skew\"}, \"font\": {\"family\": \"Open Sans, sans-serif\"}, \"margin\": {\"b\": 55, \"l\": 45, \"r\": 15, \"t\": 50}, \"title\": \"Skew plots<br>\", \"showlegend\": true, \"hovermode\": \"x\", \"autosize\": true, \"width\": 900, \"height\": 800, \"plot_bgcolor\": \"#EFECEA\", \"bargap\": 0.05}, {\"showLink\": true, \"linkText\": \"Export to plot.ly\"})});</script>"
      ]
     },
     "metadata": {},
     "output_type": "display_data"
    },
    {
     "data": {
      "application/vnd.plotly.v1+json": {
       "data": [
        {
         "legendgroup": "chart (1, 1)",
         "name": "chart (1, 1) 20190829",
         "type": "scatter",
         "uid": "2fd528c8-fff6-11e9-b3ba-8c859025e7f9",
         "x": [
          -0.3,
          -0.25,
          -0.2,
          -0.15,
          -0.1,
          -0.05,
          0,
          0.05,
          0.1,
          0.15,
          0.2,
          0.25,
          0.3,
          0.35
         ],
         "xaxis": "x",
         "y": [
          0.2726,
          0.2017,
          0.1542,
          0.095,
          0.0575,
          0.0259,
          0,
          -0.0194,
          -0.0108,
          0.0198,
          0.0569,
          0.0922,
          0.1249,
          null
         ],
         "yaxis": "y"
        },
        {
         "legendgroup": "chart (1, 1)",
         "name": "chart (1, 1) 20190830",
         "type": "scatter",
         "uid": "2fd61008-fff6-11e9-a737-8c859025e7f9",
         "x": [
          -0.3,
          -0.25,
          -0.2,
          -0.15,
          -0.1,
          -0.05,
          0,
          0.05,
          0.1,
          0.15,
          0.2,
          0.25,
          0.3,
          0.35
         ],
         "xaxis": "x",
         "y": [
          0.2525,
          0.2038,
          0.1473,
          0.0896,
          0.0512,
          0.0223,
          0,
          -0.0179,
          0.0014,
          0.0354,
          0.0694,
          0.1078,
          0.1272,
          0.1453
         ],
         "yaxis": "y"
        }
       ],
       "layout": {
        "annotations": [
         {
          "font": {
           "size": 16
          },
          "showarrow": false,
          "text": "CBX19 20190829 - 20190830",
          "x": 0.2275,
          "xanchor": "center",
          "xref": "paper",
          "y": 1,
          "yanchor": "bottom",
          "yref": "paper"
         }
        ],
        "autosize": true,
        "bargap": 0.05,
        "font": {
         "family": "Open Sans, sans-serif"
        },
        "height": 800,
        "hovermode": "x",
        "margin": {
         "b": 55,
         "l": 45,
         "r": 15,
         "t": 50
        },
        "plot_bgcolor": "#EFECEA",
        "showlegend": true,
        "title": "Skew plots<br>",
        "width": 900,
        "xaxis": {
         "anchor": "y",
         "domain": [
          0,
          0.455
         ],
         "tickangle": 45,
         "ticktext": [
          -0.3,
          -0.25,
          -0.2,
          -0.15,
          -0.1,
          -0.05,
          0,
          0.05,
          0.1,
          0.15,
          0.2,
          0.25,
          0.3,
          0.35
         ],
         "tickvals": [
          -0.3,
          -0.25,
          -0.2,
          -0.15,
          -0.1,
          -0.05,
          0,
          0.05,
          0.1,
          0.15,
          0.2,
          0.25,
          0.3,
          0.35
         ],
         "type": "category"
        },
        "xaxis2": {
         "anchor": "y2",
         "domain": [
          0.545,
          1
         ]
        },
        "xaxis3": {
         "anchor": "y3",
         "domain": [
          0,
          0.455
         ]
        },
        "xaxis4": {
         "anchor": "y4",
         "domain": [
          0.545,
          1
         ]
        },
        "yaxis": {
         "anchor": "x",
         "domain": [
          0.555,
          1
         ],
         "title": "vol skew"
        },
        "yaxis2": {
         "anchor": "x2",
         "domain": [
          0.555,
          1
         ]
        },
        "yaxis3": {
         "anchor": "x3",
         "domain": [
          0,
          0.445
         ]
        },
        "yaxis4": {
         "anchor": "x4",
         "domain": [
          0,
          0.445
         ]
        }
       }
      },
      "text/html": [
       "<div id=\"b34c915c-29e6-4ef6-b4ad-70cb446c12e0\" style=\"height: 800px; width: 900px;\" class=\"plotly-graph-div\"></div><script type=\"text/javascript\">require([\"plotly\"], function(Plotly) { window.PLOTLYENV=window.PLOTLYENV || {};window.PLOTLYENV.BASE_URL=\"https://plot.ly\";Plotly.newPlot(\"b34c915c-29e6-4ef6-b4ad-70cb446c12e0\", [{\"legendgroup\": \"chart (1, 1)\", \"name\": \"chart (1, 1) 20190829\", \"uid\": \"2fd528c8-fff6-11e9-b3ba-8c859025e7f9\", \"x\": [-0.3, -0.25, -0.2, -0.15, -0.1, -0.05, 0.0, 0.05, 0.1, 0.15, 0.2, 0.25, 0.3, 0.35], \"y\": [0.2726, 0.2017, 0.1542, 0.095, 0.0575, 0.0259, 0.0, -0.0194, -0.0108, 0.0198, 0.0569, 0.0922, 0.1249, null], \"yaxis\": \"y\", \"type\": \"scatter\", \"xaxis\": \"x\"}, {\"legendgroup\": \"chart (1, 1)\", \"name\": \"chart (1, 1) 20190830\", \"uid\": \"2fd61008-fff6-11e9-a737-8c859025e7f9\", \"x\": [-0.3, -0.25, -0.2, -0.15, -0.1, -0.05, 0.0, 0.05, 0.1, 0.15, 0.2, 0.25, 0.3, 0.35], \"y\": [0.2525, 0.2038, 0.1473, 0.0896, 0.0512, 0.0223, 0.0, -0.0179, 0.0014, 0.0354, 0.0694, 0.1078, 0.1272, 0.1453], \"yaxis\": \"y\", \"type\": \"scatter\", \"xaxis\": \"x\"}], {\"annotations\": [{\"font\": {\"size\": 16}, \"showarrow\": false, \"text\": \"CBX19 20190829 - 20190830\", \"x\": 0.2275, \"xanchor\": \"center\", \"xref\": \"paper\", \"y\": 1.0, \"yanchor\": \"bottom\", \"yref\": \"paper\"}], \"xaxis\": {\"anchor\": \"y\", \"domain\": [0.0, 0.455], \"tickangle\": 45, \"ticktext\": [-0.3, -0.25, -0.2, -0.15, -0.1, -0.05, 0.0, 0.05, 0.1, 0.15, 0.2, 0.25, 0.3, 0.35], \"tickvals\": [-0.3, -0.25, -0.2, -0.15, -0.1, -0.05, 0.0, 0.05, 0.1, 0.15, 0.2, 0.25, 0.3, 0.35], \"type\": \"category\"}, \"yaxis\": {\"anchor\": \"x\", \"domain\": [0.555, 1.0], \"title\": \"vol skew\"}, \"xaxis2\": {\"anchor\": \"y2\", \"domain\": [0.545, 1.0]}, \"yaxis2\": {\"anchor\": \"x2\", \"domain\": [0.555, 1.0]}, \"xaxis3\": {\"anchor\": \"y3\", \"domain\": [0.0, 0.455]}, \"yaxis3\": {\"anchor\": \"x3\", \"domain\": [0.0, 0.445]}, \"xaxis4\": {\"anchor\": \"y4\", \"domain\": [0.545, 1.0]}, \"yaxis4\": {\"anchor\": \"x4\", \"domain\": [0.0, 0.445]}, \"font\": {\"family\": \"Open Sans, sans-serif\"}, \"margin\": {\"b\": 55, \"l\": 45, \"r\": 15, \"t\": 50}, \"title\": \"Skew plots<br>\", \"showlegend\": true, \"hovermode\": \"x\", \"autosize\": true, \"width\": 900, \"height\": 800, \"plot_bgcolor\": \"#EFECEA\", \"bargap\": 0.05}, {\"showLink\": true, \"linkText\": \"Export to plot.ly\"})});</script>"
      ],
      "text/vnd.plotly.v1+html": [
       "<div id=\"b34c915c-29e6-4ef6-b4ad-70cb446c12e0\" style=\"height: 800px; width: 900px;\" class=\"plotly-graph-div\"></div><script type=\"text/javascript\">require([\"plotly\"], function(Plotly) { window.PLOTLYENV=window.PLOTLYENV || {};window.PLOTLYENV.BASE_URL=\"https://plot.ly\";Plotly.newPlot(\"b34c915c-29e6-4ef6-b4ad-70cb446c12e0\", [{\"legendgroup\": \"chart (1, 1)\", \"name\": \"chart (1, 1) 20190829\", \"uid\": \"2fd528c8-fff6-11e9-b3ba-8c859025e7f9\", \"x\": [-0.3, -0.25, -0.2, -0.15, -0.1, -0.05, 0.0, 0.05, 0.1, 0.15, 0.2, 0.25, 0.3, 0.35], \"y\": [0.2726, 0.2017, 0.1542, 0.095, 0.0575, 0.0259, 0.0, -0.0194, -0.0108, 0.0198, 0.0569, 0.0922, 0.1249, null], \"yaxis\": \"y\", \"type\": \"scatter\", \"xaxis\": \"x\"}, {\"legendgroup\": \"chart (1, 1)\", \"name\": \"chart (1, 1) 20190830\", \"uid\": \"2fd61008-fff6-11e9-a737-8c859025e7f9\", \"x\": [-0.3, -0.25, -0.2, -0.15, -0.1, -0.05, 0.0, 0.05, 0.1, 0.15, 0.2, 0.25, 0.3, 0.35], \"y\": [0.2525, 0.2038, 0.1473, 0.0896, 0.0512, 0.0223, 0.0, -0.0179, 0.0014, 0.0354, 0.0694, 0.1078, 0.1272, 0.1453], \"yaxis\": \"y\", \"type\": \"scatter\", \"xaxis\": \"x\"}], {\"annotations\": [{\"font\": {\"size\": 16}, \"showarrow\": false, \"text\": \"CBX19 20190829 - 20190830\", \"x\": 0.2275, \"xanchor\": \"center\", \"xref\": \"paper\", \"y\": 1.0, \"yanchor\": \"bottom\", \"yref\": \"paper\"}], \"xaxis\": {\"anchor\": \"y\", \"domain\": [0.0, 0.455], \"tickangle\": 45, \"ticktext\": [-0.3, -0.25, -0.2, -0.15, -0.1, -0.05, 0.0, 0.05, 0.1, 0.15, 0.2, 0.25, 0.3, 0.35], \"tickvals\": [-0.3, -0.25, -0.2, -0.15, -0.1, -0.05, 0.0, 0.05, 0.1, 0.15, 0.2, 0.25, 0.3, 0.35], \"type\": \"category\"}, \"yaxis\": {\"anchor\": \"x\", \"domain\": [0.555, 1.0], \"title\": \"vol skew\"}, \"xaxis2\": {\"anchor\": \"y2\", \"domain\": [0.545, 1.0]}, \"yaxis2\": {\"anchor\": \"x2\", \"domain\": [0.555, 1.0]}, \"xaxis3\": {\"anchor\": \"y3\", \"domain\": [0.0, 0.455]}, \"yaxis3\": {\"anchor\": \"x3\", \"domain\": [0.0, 0.445]}, \"xaxis4\": {\"anchor\": \"y4\", \"domain\": [0.545, 1.0]}, \"yaxis4\": {\"anchor\": \"x4\", \"domain\": [0.0, 0.445]}, \"font\": {\"family\": \"Open Sans, sans-serif\"}, \"margin\": {\"b\": 55, \"l\": 45, \"r\": 15, \"t\": 50}, \"title\": \"Skew plots<br>\", \"showlegend\": true, \"hovermode\": \"x\", \"autosize\": true, \"width\": 900, \"height\": 800, \"plot_bgcolor\": \"#EFECEA\", \"bargap\": 0.05}, {\"showLink\": true, \"linkText\": \"Export to plot.ly\"})});</script>"
      ]
     },
     "metadata": {},
     "output_type": "display_data"
    },
    {
     "data": {
      "application/vnd.plotly.v1+json": {
       "data": [
        {
         "legendgroup": "chart (1, 1)",
         "name": "chart (1, 1) 20190902",
         "type": "scatter",
         "uid": "304b940c-fff6-11e9-ace7-8c859025e7f9",
         "x": [
          -0.3,
          -0.25,
          -0.2,
          -0.15,
          -0.1,
          -0.05,
          0,
          0.05,
          0.1,
          0.15,
          0.2,
          0.25,
          0.3,
          0.35
         ],
         "xaxis": "x",
         "y": [
          0.1667,
          0.1238,
          0.0873,
          0.0592,
          0.0338,
          0.0131,
          0,
          -0.0176,
          -0.0157,
          -0.0065,
          0.0084,
          0.0274,
          0.0446,
          0.066
         ],
         "yaxis": "y"
        },
        {
         "legendgroup": "chart (1, 1)",
         "name": "chart (1, 1) 20190903",
         "type": "scatter",
         "uid": "304c84e8-fff6-11e9-9f01-8c859025e7f9",
         "x": [
          -0.3,
          -0.25,
          -0.2,
          -0.15,
          -0.1,
          -0.05,
          0,
          0.05,
          0.1,
          0.15,
          0.2,
          0.25,
          0.3,
          0.35
         ],
         "xaxis": "x",
         "y": [
          0.172,
          0.1267,
          0.0947,
          0.0648,
          0.041,
          0.0189,
          0,
          -0.0131,
          -0.016,
          -0.0112,
          0.0035,
          0.0157,
          0.0341,
          0.0567
         ],
         "yaxis": "y"
        },
        {
         "legendgroup": "chart (1, 1)",
         "name": "chart (1, 1) 20190904",
         "type": "scatter",
         "uid": "304d3586-fff6-11e9-9d70-8c859025e7f9",
         "x": [
          -0.3,
          -0.25,
          -0.2,
          -0.15,
          -0.1,
          -0.05,
          0,
          0.05,
          0.1,
          0.15,
          0.2,
          0.25,
          0.3,
          0.35
         ],
         "xaxis": "x",
         "y": [
          0.1617,
          0.1238,
          0.0882,
          0.059,
          0.0342,
          0.0149,
          0,
          -0.0156,
          -0.0164,
          -0.01,
          0.0021,
          0.016,
          0.0325,
          0.0551
         ],
         "yaxis": "y"
        },
        {
         "legendgroup": "chart (1, 1)",
         "name": "chart (1, 1) 20190905",
         "type": "scatter",
         "uid": "304dbc02-fff6-11e9-a0a6-8c859025e7f9",
         "x": [
          -0.3,
          -0.25,
          -0.2,
          -0.15,
          -0.1,
          -0.05,
          0,
          0.05,
          0.1,
          0.15,
          0.2,
          0.25,
          0.3,
          0.35
         ],
         "xaxis": "x",
         "y": [
          0.1642,
          0.1194,
          0.0855,
          0.0582,
          0.0359,
          0.0175,
          0,
          -0.0101,
          -0.0127,
          -0.0075,
          0.0059,
          0.0224,
          0.0452,
          0.0627
         ],
         "yaxis": "y"
        },
        {
         "legendgroup": "chart (1, 1)",
         "name": "chart (1, 1) 20190906",
         "type": "scatter",
         "uid": "304edbdc-fff6-11e9-bb7f-8c859025e7f9",
         "x": [
          -0.3,
          -0.25,
          -0.2,
          -0.15,
          -0.1,
          -0.05,
          0,
          0.05,
          0.1,
          0.15,
          0.2,
          0.25,
          0.3,
          0.35
         ],
         "xaxis": "x",
         "y": [
          0.1628,
          0.1204,
          0.0817,
          0.0534,
          0.0318,
          0.0153,
          0,
          -0.0092,
          -0.0088,
          -0.001,
          0.013,
          0.0291,
          0.0516,
          0.0727
         ],
         "yaxis": "y"
        },
        {
         "legendgroup": "chart (1, 2)",
         "name": "chart (1, 2) 20190909",
         "type": "scatter",
         "uid": "30503af4-fff6-11e9-86e9-8c859025e7f9",
         "x": [
          -0.3,
          -0.25,
          -0.2,
          -0.15,
          -0.1,
          -0.05,
          0,
          0.05,
          0.1,
          0.15,
          0.2,
          0.25,
          0.3,
          0.35
         ],
         "xaxis": "x2",
         "y": [
          0.1652,
          0.1283,
          0.0949,
          0.0617,
          0.037,
          0.0169,
          0,
          -0.0073,
          -0.006,
          0.0008,
          0.0162,
          0.0391,
          0.0591,
          0.0825
         ],
         "yaxis": "y2"
        },
        {
         "legendgroup": "chart (1, 2)",
         "name": "chart (1, 2) 20190910",
         "type": "scatter",
         "uid": "30514b42-fff6-11e9-938e-8c859025e7f9",
         "x": [
          -0.3,
          -0.25,
          -0.2,
          -0.15,
          -0.1,
          -0.05,
          0,
          0.05,
          0.1,
          0.15,
          0.2,
          0.25,
          0.3,
          0.35
         ],
         "xaxis": "x2",
         "y": [
          0.1753,
          0.1321,
          0.0961,
          0.0627,
          0.0348,
          0.0141,
          0,
          -0.0086,
          -0.009,
          -0.0001,
          0.013,
          0.0348,
          0.0557,
          0.0707
         ],
         "yaxis": "y2"
        },
        {
         "legendgroup": "chart (1, 2)",
         "name": "chart (1, 2) 20190911",
         "type": "scatter",
         "uid": "305229fe-fff6-11e9-8502-8c859025e7f9",
         "x": [
          -0.3,
          -0.25,
          -0.2,
          -0.15,
          -0.1,
          -0.05,
          0,
          0.05,
          0.1,
          0.15,
          0.2,
          0.25,
          0.3,
          0.35
         ],
         "xaxis": "x2",
         "y": [
          0.176,
          0.1385,
          0.1021,
          0.0699,
          0.0394,
          0.0172,
          0,
          -0.0121,
          -0.012,
          -0.0047,
          0.0071,
          0.0275,
          0.0464,
          0.0699
         ],
         "yaxis": "y2"
        },
        {
         "legendgroup": "chart (1, 2)",
         "name": "chart (1, 2) 20190912",
         "type": "scatter",
         "uid": "30534c4c-fff6-11e9-a8f4-8c859025e7f9",
         "x": [
          -0.3,
          -0.25,
          -0.2,
          -0.15,
          -0.1,
          -0.05,
          0,
          0.05,
          0.1,
          0.15,
          0.2,
          0.25,
          0.3,
          0.35
         ],
         "xaxis": "x2",
         "y": [
          0.1778,
          0.1398,
          0.0994,
          0.0674,
          0.0397,
          0.015,
          0,
          -0.0099,
          -0.0094,
          -0.0005,
          0.0159,
          0.0329,
          0.0505,
          0.0745
         ],
         "yaxis": "y2"
        },
        {
         "legendgroup": "chart (1, 2)",
         "name": "chart (1, 2) 20190913",
         "type": "scatter",
         "uid": "30542074-fff6-11e9-8563-8c859025e7f9",
         "x": [
          -0.3,
          -0.25,
          -0.2,
          -0.15,
          -0.1,
          -0.05,
          0,
          0.05,
          0.1,
          0.15,
          0.2,
          0.25,
          0.3,
          0.35
         ],
         "xaxis": "x2",
         "y": [
          0.175,
          0.1388,
          0.1008,
          0.0682,
          0.04,
          0.0164,
          0,
          -0.0156,
          -0.0165,
          -0.0055,
          0.0094,
          0.0277,
          0.0486,
          0.0725
         ],
         "yaxis": "y2"
        },
        {
         "legendgroup": "chart (2, 1)",
         "name": "chart (2, 1) 20190916",
         "type": "scatter",
         "uid": "3055f098-fff6-11e9-92d1-8c859025e7f9",
         "x": [
          -0.3,
          -0.25,
          -0.2,
          -0.15,
          -0.1,
          -0.05,
          0,
          0.05,
          0.1,
          0.15,
          0.2,
          0.25,
          0.3,
          0.35
         ],
         "xaxis": "x3",
         "y": [
          0.0676,
          0.0245,
          -0.009,
          -0.0217,
          -0.0199,
          -0.0078,
          0,
          0.0133,
          0.023,
          0.0309,
          0.0408,
          0.0504,
          0.0628,
          null
         ],
         "yaxis": "y3"
        },
        {
         "legendgroup": "chart (2, 1)",
         "name": "chart (2, 1) 20190917",
         "type": "scatter",
         "uid": "305755e6-fff6-11e9-b3d9-8c859025e7f9",
         "x": [
          -0.3,
          -0.25,
          -0.2,
          -0.15,
          -0.1,
          -0.05,
          0,
          0.05,
          0.1,
          0.15,
          0.2,
          0.25,
          0.3,
          0.35
         ],
         "xaxis": "x3",
         "y": [
          0.1066,
          0.0512,
          0.0134,
          -0.0104,
          -0.0149,
          -0.0112,
          0,
          0.0157,
          0.0351,
          0.0529,
          0.0674,
          0.0874,
          0.1052,
          0.1249
         ],
         "yaxis": "y3"
        },
        {
         "legendgroup": "chart (2, 1)",
         "name": "chart (2, 1) 20190918",
         "type": "scatter",
         "uid": "3057f334-fff6-11e9-8ddf-8c859025e7f9",
         "x": [
          -0.3,
          -0.25,
          -0.2,
          -0.15,
          -0.1,
          -0.05,
          0,
          0.05,
          0.1,
          0.15,
          0.2,
          0.25,
          0.3,
          0.35
         ],
         "xaxis": "x3",
         "y": [
          0.1447,
          0.0975,
          0.0493,
          0.0172,
          -0.0023,
          -0.0073,
          0,
          0.0197,
          0.043,
          0.0651,
          0.0864,
          0.1096,
          0.1343,
          0.1552
         ],
         "yaxis": "y3"
        },
        {
         "legendgroup": "chart (2, 1)",
         "name": "chart (2, 1) 20190919",
         "type": "scatter",
         "uid": "3058e2b4-fff6-11e9-bbb1-8c859025e7f9",
         "x": [
          -0.3,
          -0.25,
          -0.2,
          -0.15,
          -0.1,
          -0.05,
          0,
          0.05,
          0.1,
          0.15,
          0.2,
          0.25,
          0.3,
          0.35
         ],
         "xaxis": "x3",
         "y": [
          0.1487,
          0.0934,
          0.051,
          0.0074,
          -0.018,
          -0.0181,
          0,
          0.0233,
          0.0519,
          0.0777,
          0.1034,
          0.1304,
          0.1554,
          0.1782
         ],
         "yaxis": "y3"
        },
        {
         "legendgroup": "chart (2, 1)",
         "name": "chart (2, 1) 20190920",
         "type": "scatter",
         "uid": "3059dc9e-fff6-11e9-a383-8c859025e7f9",
         "x": [
          -0.3,
          -0.25,
          -0.2,
          -0.15,
          -0.1,
          -0.05,
          0,
          0.05,
          0.1,
          0.15,
          0.2,
          0.25,
          0.3,
          0.35
         ],
         "xaxis": "x3",
         "y": [
          null,
          null,
          null,
          null,
          null,
          null,
          0,
          null,
          null,
          null,
          null,
          0.1326,
          null,
          null
         ],
         "yaxis": "y3"
        },
        {
         "legendgroup": "chart (2, 2)",
         "name": "chart (2, 2) 20190923",
         "type": "scatter",
         "uid": "305c2292-fff6-11e9-aa4e-8c859025e7f9",
         "x": [
          -0.3,
          -0.25,
          -0.2,
          -0.15,
          -0.1,
          -0.05,
          0,
          0.05,
          0.1,
          0.15,
          0.2,
          0.25,
          0.3,
          0.35
         ],
         "xaxis": "x4",
         "y": [
          0.1908,
          0.1357,
          0.0804,
          0.027,
          -0.011,
          -0.02,
          0,
          0.0233,
          0.0532,
          0.0797,
          0.106,
          0.1367,
          0.1688,
          0.1947
         ],
         "yaxis": "y4"
        },
        {
         "legendgroup": "chart (2, 2)",
         "name": "chart (2, 2) 20190924",
         "type": "scatter",
         "uid": "305cbba8-fff6-11e9-b35d-8c859025e7f9",
         "x": [
          -0.3,
          -0.25,
          -0.2,
          -0.15,
          -0.1,
          -0.05,
          0,
          0.05,
          0.1,
          0.15,
          0.2,
          0.25,
          0.3,
          0.35
         ],
         "xaxis": "x4",
         "y": [
          0.2597,
          0.2034,
          0.1458,
          0.0893,
          0.0459,
          0.0145,
          0,
          0.0079,
          0.0247,
          0.0452,
          0.069,
          0.1005,
          0.1338,
          0.1646
         ],
         "yaxis": "y4"
        },
        {
         "legendgroup": "chart (2, 2)",
         "name": "chart (2, 2) 20190925",
         "type": "scatter",
         "uid": "305d4938-fff6-11e9-8be3-8c859025e7f9",
         "x": [
          -0.3,
          -0.25,
          -0.2,
          -0.15,
          -0.1,
          -0.05,
          0,
          0.05,
          0.1,
          0.15,
          0.2,
          0.25,
          0.3,
          0.35
         ],
         "xaxis": "x4",
         "y": [
          0.2134,
          0.1633,
          0.1091,
          0.0631,
          0.0273,
          0.0045,
          0,
          0.0105,
          0.0294,
          0.0494,
          0.0779,
          0.1044,
          0.1325,
          0.1648
         ],
         "yaxis": "y4"
        },
        {
         "legendgroup": "chart (2, 2)",
         "name": "chart (2, 2) 20190926",
         "type": "scatter",
         "uid": "305e4218-fff6-11e9-b50c-8c859025e7f9",
         "x": [
          -0.3,
          -0.25,
          -0.2,
          -0.15,
          -0.1,
          -0.05,
          0,
          0.05,
          0.1,
          0.15,
          0.2,
          0.25,
          0.3,
          0.35
         ],
         "xaxis": "x4",
         "y": [
          0.2319,
          0.1615,
          0.1042,
          0.0551,
          0.0192,
          -0.0011,
          0,
          0.0098,
          0.0343,
          0.0599,
          0.0883,
          0.1184,
          0.152,
          0.1783
         ],
         "yaxis": "y4"
        },
        {
         "legendgroup": "chart (2, 2)",
         "name": "chart (2, 2) 20190927",
         "type": "scatter",
         "uid": "305ede06-fff6-11e9-9d55-8c859025e7f9",
         "x": [
          -0.3,
          -0.25,
          -0.2,
          -0.15,
          -0.1,
          -0.05,
          0,
          0.05,
          0.1,
          0.15,
          0.2,
          0.25,
          0.3,
          0.35
         ],
         "xaxis": "x4",
         "y": [
          0.2381,
          0.1744,
          0.1178,
          0.0649,
          0.0209,
          0.0024,
          0,
          0.0134,
          0.0364,
          0.0666,
          0.0968,
          0.1267,
          0.1628,
          0.1879
         ],
         "yaxis": "y4"
        }
       ],
       "layout": {
        "annotations": [
         {
          "font": {
           "size": 16
          },
          "showarrow": false,
          "text": "CBZ19 20190902 - 20190906",
          "x": 0.2275,
          "xanchor": "center",
          "xref": "paper",
          "y": 1,
          "yanchor": "bottom",
          "yref": "paper"
         },
         {
          "font": {
           "size": 16
          },
          "showarrow": false,
          "text": "CBZ19 20190909 - 20190913",
          "x": 0.7725,
          "xanchor": "center",
          "xref": "paper",
          "y": 1,
          "yanchor": "bottom",
          "yref": "paper"
         },
         {
          "font": {
           "size": 16
          },
          "showarrow": false,
          "text": "CBZ19 20190916 - 20190920",
          "x": 0.2275,
          "xanchor": "center",
          "xref": "paper",
          "y": 0.445,
          "yanchor": "bottom",
          "yref": "paper"
         },
         {
          "font": {
           "size": 16
          },
          "showarrow": false,
          "text": "CBZ19 20190923 - 20190927",
          "x": 0.7725,
          "xanchor": "center",
          "xref": "paper",
          "y": 0.445,
          "yanchor": "bottom",
          "yref": "paper"
         }
        ],
        "autosize": true,
        "bargap": 0.05,
        "font": {
         "family": "Open Sans, sans-serif"
        },
        "height": 800,
        "hovermode": "x",
        "margin": {
         "b": 55,
         "l": 45,
         "r": 15,
         "t": 50
        },
        "plot_bgcolor": "#EFECEA",
        "showlegend": true,
        "title": "Skew plots<br>",
        "width": 900,
        "xaxis": {
         "anchor": "y",
         "domain": [
          0,
          0.455
         ],
         "tickangle": 45,
         "ticktext": [
          -0.3,
          -0.25,
          -0.2,
          -0.15,
          -0.1,
          -0.05,
          0,
          0.05,
          0.1,
          0.15,
          0.2,
          0.25,
          0.3,
          0.35
         ],
         "tickvals": [
          -0.3,
          -0.25,
          -0.2,
          -0.15,
          -0.1,
          -0.05,
          0,
          0.05,
          0.1,
          0.15,
          0.2,
          0.25,
          0.3,
          0.35
         ],
         "type": "category"
        },
        "xaxis2": {
         "anchor": "y2",
         "domain": [
          0.545,
          1
         ],
         "tickangle": 45,
         "ticktext": [
          -0.3,
          -0.25,
          -0.2,
          -0.15,
          -0.1,
          -0.05,
          0,
          0.05,
          0.1,
          0.15,
          0.2,
          0.25,
          0.3,
          0.35
         ],
         "tickvals": [
          -0.3,
          -0.25,
          -0.2,
          -0.15,
          -0.1,
          -0.05,
          0,
          0.05,
          0.1,
          0.15,
          0.2,
          0.25,
          0.3,
          0.35
         ],
         "type": "category"
        },
        "xaxis3": {
         "anchor": "y3",
         "domain": [
          0,
          0.455
         ],
         "tickangle": 45,
         "ticktext": [
          -0.3,
          -0.25,
          -0.2,
          -0.15,
          -0.1,
          -0.05,
          0,
          0.05,
          0.1,
          0.15,
          0.2,
          0.25,
          0.3,
          0.35
         ],
         "tickvals": [
          -0.3,
          -0.25,
          -0.2,
          -0.15,
          -0.1,
          -0.05,
          0,
          0.05,
          0.1,
          0.15,
          0.2,
          0.25,
          0.3,
          0.35
         ],
         "type": "category"
        },
        "xaxis4": {
         "anchor": "y4",
         "domain": [
          0.545,
          1
         ],
         "tickangle": 45,
         "ticktext": [
          -0.3,
          -0.25,
          -0.2,
          -0.15,
          -0.1,
          -0.05,
          0,
          0.05,
          0.1,
          0.15,
          0.2,
          0.25,
          0.3,
          0.35
         ],
         "tickvals": [
          -0.3,
          -0.25,
          -0.2,
          -0.15,
          -0.1,
          -0.05,
          0,
          0.05,
          0.1,
          0.15,
          0.2,
          0.25,
          0.3,
          0.35
         ],
         "type": "category"
        },
        "yaxis": {
         "anchor": "x",
         "domain": [
          0.555,
          1
         ],
         "title": "vol skew"
        },
        "yaxis2": {
         "anchor": "x2",
         "domain": [
          0.555,
          1
         ],
         "title": "vol skew"
        },
        "yaxis3": {
         "anchor": "x3",
         "domain": [
          0,
          0.445
         ],
         "title": "vol skew"
        },
        "yaxis4": {
         "anchor": "x4",
         "domain": [
          0,
          0.445
         ],
         "title": "vol skew"
        }
       }
      },
      "text/html": [
       "<div id=\"d51c4089-8009-426b-9377-20855dec6e7d\" style=\"height: 800px; width: 900px;\" class=\"plotly-graph-div\"></div><script type=\"text/javascript\">require([\"plotly\"], function(Plotly) { window.PLOTLYENV=window.PLOTLYENV || {};window.PLOTLYENV.BASE_URL=\"https://plot.ly\";Plotly.newPlot(\"d51c4089-8009-426b-9377-20855dec6e7d\", [{\"legendgroup\": \"chart (1, 1)\", \"name\": \"chart (1, 1) 20190902\", \"uid\": \"304b940c-fff6-11e9-ace7-8c859025e7f9\", \"x\": [-0.3, -0.25, -0.2, -0.15, -0.1, -0.05, 0.0, 0.05, 0.1, 0.15, 0.2, 0.25, 0.3, 0.35], \"y\": [0.1667, 0.1238, 0.0873, 0.0592, 0.0338, 0.0131, 0.0, -0.0176, -0.0157, -0.0065, 0.0084, 0.0274, 0.0446, 0.066], \"yaxis\": \"y\", \"type\": \"scatter\", \"xaxis\": \"x\"}, {\"legendgroup\": \"chart (1, 1)\", \"name\": \"chart (1, 1) 20190903\", \"uid\": \"304c84e8-fff6-11e9-9f01-8c859025e7f9\", \"x\": [-0.3, -0.25, -0.2, -0.15, -0.1, -0.05, 0.0, 0.05, 0.1, 0.15, 0.2, 0.25, 0.3, 0.35], \"y\": [0.172, 0.1267, 0.0947, 0.0648, 0.041, 0.0189, 0.0, -0.0131, -0.016, -0.0112, 0.0035, 0.0157, 0.0341, 0.0567], \"yaxis\": \"y\", \"type\": \"scatter\", \"xaxis\": \"x\"}, {\"legendgroup\": \"chart (1, 1)\", \"name\": \"chart (1, 1) 20190904\", \"uid\": \"304d3586-fff6-11e9-9d70-8c859025e7f9\", \"x\": [-0.3, -0.25, -0.2, -0.15, -0.1, -0.05, 0.0, 0.05, 0.1, 0.15, 0.2, 0.25, 0.3, 0.35], \"y\": [0.1617, 0.1238, 0.0882, 0.059, 0.0342, 0.0149, 0.0, -0.0156, -0.0164, -0.01, 0.0021, 0.016, 0.0325, 0.0551], \"yaxis\": \"y\", \"type\": \"scatter\", \"xaxis\": \"x\"}, {\"legendgroup\": \"chart (1, 1)\", \"name\": \"chart (1, 1) 20190905\", \"uid\": \"304dbc02-fff6-11e9-a0a6-8c859025e7f9\", \"x\": [-0.3, -0.25, -0.2, -0.15, -0.1, -0.05, 0.0, 0.05, 0.1, 0.15, 0.2, 0.25, 0.3, 0.35], \"y\": [0.1642, 0.1194, 0.0855, 0.0582, 0.0359, 0.0175, 0.0, -0.0101, -0.0127, -0.0075, 0.0059, 0.0224, 0.0452, 0.0627], \"yaxis\": \"y\", \"type\": \"scatter\", \"xaxis\": \"x\"}, {\"legendgroup\": \"chart (1, 1)\", \"name\": \"chart (1, 1) 20190906\", \"uid\": \"304edbdc-fff6-11e9-bb7f-8c859025e7f9\", \"x\": [-0.3, -0.25, -0.2, -0.15, -0.1, -0.05, 0.0, 0.05, 0.1, 0.15, 0.2, 0.25, 0.3, 0.35], \"y\": [0.1628, 0.1204, 0.0817, 0.0534, 0.0318, 0.0153, 0.0, -0.0092, -0.0088, -0.001, 0.013, 0.0291, 0.0516, 0.0727], \"yaxis\": \"y\", \"type\": \"scatter\", \"xaxis\": \"x\"}, {\"legendgroup\": \"chart (1, 2)\", \"name\": \"chart (1, 2) 20190909\", \"uid\": \"30503af4-fff6-11e9-86e9-8c859025e7f9\", \"x\": [-0.3, -0.25, -0.2, -0.15, -0.1, -0.05, 0.0, 0.05, 0.1, 0.15, 0.2, 0.25, 0.3, 0.35], \"y\": [0.1652, 0.1283, 0.0949, 0.0617, 0.037, 0.0169, 0.0, -0.0073, -0.006, 0.0008, 0.0162, 0.0391, 0.0591, 0.0825], \"yaxis\": \"y2\", \"type\": \"scatter\", \"xaxis\": \"x2\"}, {\"legendgroup\": \"chart (1, 2)\", \"name\": \"chart (1, 2) 20190910\", \"uid\": \"30514b42-fff6-11e9-938e-8c859025e7f9\", \"x\": [-0.3, -0.25, -0.2, -0.15, -0.1, -0.05, 0.0, 0.05, 0.1, 0.15, 0.2, 0.25, 0.3, 0.35], \"y\": [0.1753, 0.1321, 0.0961, 0.0627, 0.0348, 0.0141, 0.0, -0.0086, -0.009, -0.0001, 0.013, 0.0348, 0.0557, 0.0707], \"yaxis\": \"y2\", \"type\": \"scatter\", \"xaxis\": \"x2\"}, {\"legendgroup\": \"chart (1, 2)\", \"name\": \"chart (1, 2) 20190911\", \"uid\": \"305229fe-fff6-11e9-8502-8c859025e7f9\", \"x\": [-0.3, -0.25, -0.2, -0.15, -0.1, -0.05, 0.0, 0.05, 0.1, 0.15, 0.2, 0.25, 0.3, 0.35], \"y\": [0.176, 0.1385, 0.1021, 0.0699, 0.0394, 0.0172, 0.0, -0.0121, -0.012, -0.0047, 0.0071, 0.0275, 0.0464, 0.0699], \"yaxis\": \"y2\", \"type\": \"scatter\", \"xaxis\": \"x2\"}, {\"legendgroup\": \"chart (1, 2)\", \"name\": \"chart (1, 2) 20190912\", \"uid\": \"30534c4c-fff6-11e9-a8f4-8c859025e7f9\", \"x\": [-0.3, -0.25, -0.2, -0.15, -0.1, -0.05, 0.0, 0.05, 0.1, 0.15, 0.2, 0.25, 0.3, 0.35], \"y\": [0.1778, 0.1398, 0.0994, 0.0674, 0.0397, 0.015, 0.0, -0.0099, -0.0094, -0.0005, 0.0159, 0.0329, 0.0505, 0.0745], \"yaxis\": \"y2\", \"type\": \"scatter\", \"xaxis\": \"x2\"}, {\"legendgroup\": \"chart (1, 2)\", \"name\": \"chart (1, 2) 20190913\", \"uid\": \"30542074-fff6-11e9-8563-8c859025e7f9\", \"x\": [-0.3, -0.25, -0.2, -0.15, -0.1, -0.05, 0.0, 0.05, 0.1, 0.15, 0.2, 0.25, 0.3, 0.35], \"y\": [0.175, 0.1388, 0.1008, 0.0682, 0.04, 0.0164, 0.0, -0.0156, -0.0165, -0.0055, 0.0094, 0.0277, 0.0486, 0.0725], \"yaxis\": \"y2\", \"type\": \"scatter\", \"xaxis\": \"x2\"}, {\"legendgroup\": \"chart (2, 1)\", \"name\": \"chart (2, 1) 20190916\", \"uid\": \"3055f098-fff6-11e9-92d1-8c859025e7f9\", \"x\": [-0.3, -0.25, -0.2, -0.15, -0.1, -0.05, 0.0, 0.05, 0.1, 0.15, 0.2, 0.25, 0.3, 0.35], \"y\": [0.0676, 0.0245, -0.009, -0.0217, -0.0199, -0.0078, 0.0, 0.0133, 0.023, 0.0309, 0.0408, 0.0504, 0.0628, null], \"yaxis\": \"y3\", \"type\": \"scatter\", \"xaxis\": \"x3\"}, {\"legendgroup\": \"chart (2, 1)\", \"name\": \"chart (2, 1) 20190917\", \"uid\": \"305755e6-fff6-11e9-b3d9-8c859025e7f9\", \"x\": [-0.3, -0.25, -0.2, -0.15, -0.1, -0.05, 0.0, 0.05, 0.1, 0.15, 0.2, 0.25, 0.3, 0.35], \"y\": [0.1066, 0.0512, 0.0134, -0.0104, -0.0149, -0.0112, 0.0, 0.0157, 0.0351, 0.0529, 0.0674, 0.0874, 0.1052, 0.1249], \"yaxis\": \"y3\", \"type\": \"scatter\", \"xaxis\": \"x3\"}, {\"legendgroup\": \"chart (2, 1)\", \"name\": \"chart (2, 1) 20190918\", \"uid\": \"3057f334-fff6-11e9-8ddf-8c859025e7f9\", \"x\": [-0.3, -0.25, -0.2, -0.15, -0.1, -0.05, 0.0, 0.05, 0.1, 0.15, 0.2, 0.25, 0.3, 0.35], \"y\": [0.1447, 0.0975, 0.0493, 0.0172, -0.0023, -0.0073, 0.0, 0.0197, 0.043, 0.0651, 0.0864, 0.1096, 0.1343, 0.1552], \"yaxis\": \"y3\", \"type\": \"scatter\", \"xaxis\": \"x3\"}, {\"legendgroup\": \"chart (2, 1)\", \"name\": \"chart (2, 1) 20190919\", \"uid\": \"3058e2b4-fff6-11e9-bbb1-8c859025e7f9\", \"x\": [-0.3, -0.25, -0.2, -0.15, -0.1, -0.05, 0.0, 0.05, 0.1, 0.15, 0.2, 0.25, 0.3, 0.35], \"y\": [0.1487, 0.0934, 0.051, 0.0074, -0.018, -0.0181, 0.0, 0.0233, 0.0519, 0.0777, 0.1034, 0.1304, 0.1554, 0.1782], \"yaxis\": \"y3\", \"type\": \"scatter\", \"xaxis\": \"x3\"}, {\"legendgroup\": \"chart (2, 1)\", \"name\": \"chart (2, 1) 20190920\", \"uid\": \"3059dc9e-fff6-11e9-a383-8c859025e7f9\", \"x\": [-0.3, -0.25, -0.2, -0.15, -0.1, -0.05, 0.0, 0.05, 0.1, 0.15, 0.2, 0.25, 0.3, 0.35], \"y\": [null, null, null, null, null, null, 0.0, null, null, null, null, 0.1326, null, null], \"yaxis\": \"y3\", \"type\": \"scatter\", \"xaxis\": \"x3\"}, {\"legendgroup\": \"chart (2, 2)\", \"name\": \"chart (2, 2) 20190923\", \"uid\": \"305c2292-fff6-11e9-aa4e-8c859025e7f9\", \"x\": [-0.3, -0.25, -0.2, -0.15, -0.1, -0.05, 0.0, 0.05, 0.1, 0.15, 0.2, 0.25, 0.3, 0.35], \"y\": [0.1908, 0.1357, 0.0804, 0.027, -0.011, -0.02, 0.0, 0.0233, 0.0532, 0.0797, 0.106, 0.1367, 0.1688, 0.1947], \"yaxis\": \"y4\", \"type\": \"scatter\", \"xaxis\": \"x4\"}, {\"legendgroup\": \"chart (2, 2)\", \"name\": \"chart (2, 2) 20190924\", \"uid\": \"305cbba8-fff6-11e9-b35d-8c859025e7f9\", \"x\": [-0.3, -0.25, -0.2, -0.15, -0.1, -0.05, 0.0, 0.05, 0.1, 0.15, 0.2, 0.25, 0.3, 0.35], \"y\": [0.2597, 0.2034, 0.1458, 0.0893, 0.0459, 0.0145, 0.0, 0.0079, 0.0247, 0.0452, 0.069, 0.1005, 0.1338, 0.1646], \"yaxis\": \"y4\", \"type\": \"scatter\", \"xaxis\": \"x4\"}, {\"legendgroup\": \"chart (2, 2)\", \"name\": \"chart (2, 2) 20190925\", \"uid\": \"305d4938-fff6-11e9-8be3-8c859025e7f9\", \"x\": [-0.3, -0.25, -0.2, -0.15, -0.1, -0.05, 0.0, 0.05, 0.1, 0.15, 0.2, 0.25, 0.3, 0.35], \"y\": [0.2134, 0.1633, 0.1091, 0.0631, 0.0273, 0.0045, 0.0, 0.0105, 0.0294, 0.0494, 0.0779, 0.1044, 0.1325, 0.1648], \"yaxis\": \"y4\", \"type\": \"scatter\", \"xaxis\": \"x4\"}, {\"legendgroup\": \"chart (2, 2)\", \"name\": \"chart (2, 2) 20190926\", \"uid\": \"305e4218-fff6-11e9-b50c-8c859025e7f9\", \"x\": [-0.3, -0.25, -0.2, -0.15, -0.1, -0.05, 0.0, 0.05, 0.1, 0.15, 0.2, 0.25, 0.3, 0.35], \"y\": [0.2319, 0.1615, 0.1042, 0.0551, 0.0192, -0.0011, 0.0, 0.0098, 0.0343, 0.0599, 0.0883, 0.1184, 0.152, 0.1783], \"yaxis\": \"y4\", \"type\": \"scatter\", \"xaxis\": \"x4\"}, {\"legendgroup\": \"chart (2, 2)\", \"name\": \"chart (2, 2) 20190927\", \"uid\": \"305ede06-fff6-11e9-9d55-8c859025e7f9\", \"x\": [-0.3, -0.25, -0.2, -0.15, -0.1, -0.05, 0.0, 0.05, 0.1, 0.15, 0.2, 0.25, 0.3, 0.35], \"y\": [0.2381, 0.1744, 0.1178, 0.0649, 0.0209, 0.0024, 0.0, 0.0134, 0.0364, 0.0666, 0.0968, 0.1267, 0.1628, 0.1879], \"yaxis\": \"y4\", \"type\": \"scatter\", \"xaxis\": \"x4\"}], {\"annotations\": [{\"font\": {\"size\": 16}, \"showarrow\": false, \"text\": \"CBZ19 20190902 - 20190906\", \"x\": 0.2275, \"xanchor\": \"center\", \"xref\": \"paper\", \"y\": 1.0, \"yanchor\": \"bottom\", \"yref\": \"paper\"}, {\"font\": {\"size\": 16}, \"showarrow\": false, \"text\": \"CBZ19 20190909 - 20190913\", \"x\": 0.7725, \"xanchor\": \"center\", \"xref\": \"paper\", \"y\": 1.0, \"yanchor\": \"bottom\", \"yref\": \"paper\"}, {\"font\": {\"size\": 16}, \"showarrow\": false, \"text\": \"CBZ19 20190916 - 20190920\", \"x\": 0.2275, \"xanchor\": \"center\", \"xref\": \"paper\", \"y\": 0.445, \"yanchor\": \"bottom\", \"yref\": \"paper\"}, {\"font\": {\"size\": 16}, \"showarrow\": false, \"text\": \"CBZ19 20190923 - 20190927\", \"x\": 0.7725, \"xanchor\": \"center\", \"xref\": \"paper\", \"y\": 0.445, \"yanchor\": \"bottom\", \"yref\": \"paper\"}], \"xaxis\": {\"anchor\": \"y\", \"domain\": [0.0, 0.455], \"tickangle\": 45, \"ticktext\": [-0.3, -0.25, -0.2, -0.15, -0.1, -0.05, 0.0, 0.05, 0.1, 0.15, 0.2, 0.25, 0.3, 0.35], \"tickvals\": [-0.3, -0.25, -0.2, -0.15, -0.1, -0.05, 0.0, 0.05, 0.1, 0.15, 0.2, 0.25, 0.3, 0.35], \"type\": \"category\"}, \"yaxis\": {\"anchor\": \"x\", \"domain\": [0.555, 1.0], \"title\": \"vol skew\"}, \"xaxis2\": {\"anchor\": \"y2\", \"domain\": [0.545, 1.0], \"tickangle\": 45, \"ticktext\": [-0.3, -0.25, -0.2, -0.15, -0.1, -0.05, 0.0, 0.05, 0.1, 0.15, 0.2, 0.25, 0.3, 0.35], \"tickvals\": [-0.3, -0.25, -0.2, -0.15, -0.1, -0.05, 0.0, 0.05, 0.1, 0.15, 0.2, 0.25, 0.3, 0.35], \"type\": \"category\"}, \"yaxis2\": {\"anchor\": \"x2\", \"domain\": [0.555, 1.0], \"title\": \"vol skew\"}, \"xaxis3\": {\"anchor\": \"y3\", \"domain\": [0.0, 0.455], \"tickangle\": 45, \"ticktext\": [-0.3, -0.25, -0.2, -0.15, -0.1, -0.05, 0.0, 0.05, 0.1, 0.15, 0.2, 0.25, 0.3, 0.35], \"tickvals\": [-0.3, -0.25, -0.2, -0.15, -0.1, -0.05, 0.0, 0.05, 0.1, 0.15, 0.2, 0.25, 0.3, 0.35], \"type\": \"category\"}, \"yaxis3\": {\"anchor\": \"x3\", \"domain\": [0.0, 0.445], \"title\": \"vol skew\"}, \"xaxis4\": {\"anchor\": \"y4\", \"domain\": [0.545, 1.0], \"tickangle\": 45, \"ticktext\": [-0.3, -0.25, -0.2, -0.15, -0.1, -0.05, 0.0, 0.05, 0.1, 0.15, 0.2, 0.25, 0.3, 0.35], \"tickvals\": [-0.3, -0.25, -0.2, -0.15, -0.1, -0.05, 0.0, 0.05, 0.1, 0.15, 0.2, 0.25, 0.3, 0.35], \"type\": \"category\"}, \"yaxis4\": {\"anchor\": \"x4\", \"domain\": [0.0, 0.445], \"title\": \"vol skew\"}, \"font\": {\"family\": \"Open Sans, sans-serif\"}, \"margin\": {\"b\": 55, \"l\": 45, \"r\": 15, \"t\": 50}, \"title\": \"Skew plots<br>\", \"showlegend\": true, \"hovermode\": \"x\", \"autosize\": true, \"width\": 900, \"height\": 800, \"plot_bgcolor\": \"#EFECEA\", \"bargap\": 0.05}, {\"showLink\": true, \"linkText\": \"Export to plot.ly\"})});</script>"
      ],
      "text/vnd.plotly.v1+html": [
       "<div id=\"d51c4089-8009-426b-9377-20855dec6e7d\" style=\"height: 800px; width: 900px;\" class=\"plotly-graph-div\"></div><script type=\"text/javascript\">require([\"plotly\"], function(Plotly) { window.PLOTLYENV=window.PLOTLYENV || {};window.PLOTLYENV.BASE_URL=\"https://plot.ly\";Plotly.newPlot(\"d51c4089-8009-426b-9377-20855dec6e7d\", [{\"legendgroup\": \"chart (1, 1)\", \"name\": \"chart (1, 1) 20190902\", \"uid\": \"304b940c-fff6-11e9-ace7-8c859025e7f9\", \"x\": [-0.3, -0.25, -0.2, -0.15, -0.1, -0.05, 0.0, 0.05, 0.1, 0.15, 0.2, 0.25, 0.3, 0.35], \"y\": [0.1667, 0.1238, 0.0873, 0.0592, 0.0338, 0.0131, 0.0, -0.0176, -0.0157, -0.0065, 0.0084, 0.0274, 0.0446, 0.066], \"yaxis\": \"y\", \"type\": \"scatter\", \"xaxis\": \"x\"}, {\"legendgroup\": \"chart (1, 1)\", \"name\": \"chart (1, 1) 20190903\", \"uid\": \"304c84e8-fff6-11e9-9f01-8c859025e7f9\", \"x\": [-0.3, -0.25, -0.2, -0.15, -0.1, -0.05, 0.0, 0.05, 0.1, 0.15, 0.2, 0.25, 0.3, 0.35], \"y\": [0.172, 0.1267, 0.0947, 0.0648, 0.041, 0.0189, 0.0, -0.0131, -0.016, -0.0112, 0.0035, 0.0157, 0.0341, 0.0567], \"yaxis\": \"y\", \"type\": \"scatter\", \"xaxis\": \"x\"}, {\"legendgroup\": \"chart (1, 1)\", \"name\": \"chart (1, 1) 20190904\", \"uid\": \"304d3586-fff6-11e9-9d70-8c859025e7f9\", \"x\": [-0.3, -0.25, -0.2, -0.15, -0.1, -0.05, 0.0, 0.05, 0.1, 0.15, 0.2, 0.25, 0.3, 0.35], \"y\": [0.1617, 0.1238, 0.0882, 0.059, 0.0342, 0.0149, 0.0, -0.0156, -0.0164, -0.01, 0.0021, 0.016, 0.0325, 0.0551], \"yaxis\": \"y\", \"type\": \"scatter\", \"xaxis\": \"x\"}, {\"legendgroup\": \"chart (1, 1)\", \"name\": \"chart (1, 1) 20190905\", \"uid\": \"304dbc02-fff6-11e9-a0a6-8c859025e7f9\", \"x\": [-0.3, -0.25, -0.2, -0.15, -0.1, -0.05, 0.0, 0.05, 0.1, 0.15, 0.2, 0.25, 0.3, 0.35], \"y\": [0.1642, 0.1194, 0.0855, 0.0582, 0.0359, 0.0175, 0.0, -0.0101, -0.0127, -0.0075, 0.0059, 0.0224, 0.0452, 0.0627], \"yaxis\": \"y\", \"type\": \"scatter\", \"xaxis\": \"x\"}, {\"legendgroup\": \"chart (1, 1)\", \"name\": \"chart (1, 1) 20190906\", \"uid\": \"304edbdc-fff6-11e9-bb7f-8c859025e7f9\", \"x\": [-0.3, -0.25, -0.2, -0.15, -0.1, -0.05, 0.0, 0.05, 0.1, 0.15, 0.2, 0.25, 0.3, 0.35], \"y\": [0.1628, 0.1204, 0.0817, 0.0534, 0.0318, 0.0153, 0.0, -0.0092, -0.0088, -0.001, 0.013, 0.0291, 0.0516, 0.0727], \"yaxis\": \"y\", \"type\": \"scatter\", \"xaxis\": \"x\"}, {\"legendgroup\": \"chart (1, 2)\", \"name\": \"chart (1, 2) 20190909\", \"uid\": \"30503af4-fff6-11e9-86e9-8c859025e7f9\", \"x\": [-0.3, -0.25, -0.2, -0.15, -0.1, -0.05, 0.0, 0.05, 0.1, 0.15, 0.2, 0.25, 0.3, 0.35], \"y\": [0.1652, 0.1283, 0.0949, 0.0617, 0.037, 0.0169, 0.0, -0.0073, -0.006, 0.0008, 0.0162, 0.0391, 0.0591, 0.0825], \"yaxis\": \"y2\", \"type\": \"scatter\", \"xaxis\": \"x2\"}, {\"legendgroup\": \"chart (1, 2)\", \"name\": \"chart (1, 2) 20190910\", \"uid\": \"30514b42-fff6-11e9-938e-8c859025e7f9\", \"x\": [-0.3, -0.25, -0.2, -0.15, -0.1, -0.05, 0.0, 0.05, 0.1, 0.15, 0.2, 0.25, 0.3, 0.35], \"y\": [0.1753, 0.1321, 0.0961, 0.0627, 0.0348, 0.0141, 0.0, -0.0086, -0.009, -0.0001, 0.013, 0.0348, 0.0557, 0.0707], \"yaxis\": \"y2\", \"type\": \"scatter\", \"xaxis\": \"x2\"}, {\"legendgroup\": \"chart (1, 2)\", \"name\": \"chart (1, 2) 20190911\", \"uid\": \"305229fe-fff6-11e9-8502-8c859025e7f9\", \"x\": [-0.3, -0.25, -0.2, -0.15, -0.1, -0.05, 0.0, 0.05, 0.1, 0.15, 0.2, 0.25, 0.3, 0.35], \"y\": [0.176, 0.1385, 0.1021, 0.0699, 0.0394, 0.0172, 0.0, -0.0121, -0.012, -0.0047, 0.0071, 0.0275, 0.0464, 0.0699], \"yaxis\": \"y2\", \"type\": \"scatter\", \"xaxis\": \"x2\"}, {\"legendgroup\": \"chart (1, 2)\", \"name\": \"chart (1, 2) 20190912\", \"uid\": \"30534c4c-fff6-11e9-a8f4-8c859025e7f9\", \"x\": [-0.3, -0.25, -0.2, -0.15, -0.1, -0.05, 0.0, 0.05, 0.1, 0.15, 0.2, 0.25, 0.3, 0.35], \"y\": [0.1778, 0.1398, 0.0994, 0.0674, 0.0397, 0.015, 0.0, -0.0099, -0.0094, -0.0005, 0.0159, 0.0329, 0.0505, 0.0745], \"yaxis\": \"y2\", \"type\": \"scatter\", \"xaxis\": \"x2\"}, {\"legendgroup\": \"chart (1, 2)\", \"name\": \"chart (1, 2) 20190913\", \"uid\": \"30542074-fff6-11e9-8563-8c859025e7f9\", \"x\": [-0.3, -0.25, -0.2, -0.15, -0.1, -0.05, 0.0, 0.05, 0.1, 0.15, 0.2, 0.25, 0.3, 0.35], \"y\": [0.175, 0.1388, 0.1008, 0.0682, 0.04, 0.0164, 0.0, -0.0156, -0.0165, -0.0055, 0.0094, 0.0277, 0.0486, 0.0725], \"yaxis\": \"y2\", \"type\": \"scatter\", \"xaxis\": \"x2\"}, {\"legendgroup\": \"chart (2, 1)\", \"name\": \"chart (2, 1) 20190916\", \"uid\": \"3055f098-fff6-11e9-92d1-8c859025e7f9\", \"x\": [-0.3, -0.25, -0.2, -0.15, -0.1, -0.05, 0.0, 0.05, 0.1, 0.15, 0.2, 0.25, 0.3, 0.35], \"y\": [0.0676, 0.0245, -0.009, -0.0217, -0.0199, -0.0078, 0.0, 0.0133, 0.023, 0.0309, 0.0408, 0.0504, 0.0628, null], \"yaxis\": \"y3\", \"type\": \"scatter\", \"xaxis\": \"x3\"}, {\"legendgroup\": \"chart (2, 1)\", \"name\": \"chart (2, 1) 20190917\", \"uid\": \"305755e6-fff6-11e9-b3d9-8c859025e7f9\", \"x\": [-0.3, -0.25, -0.2, -0.15, -0.1, -0.05, 0.0, 0.05, 0.1, 0.15, 0.2, 0.25, 0.3, 0.35], \"y\": [0.1066, 0.0512, 0.0134, -0.0104, -0.0149, -0.0112, 0.0, 0.0157, 0.0351, 0.0529, 0.0674, 0.0874, 0.1052, 0.1249], \"yaxis\": \"y3\", \"type\": \"scatter\", \"xaxis\": \"x3\"}, {\"legendgroup\": \"chart (2, 1)\", \"name\": \"chart (2, 1) 20190918\", \"uid\": \"3057f334-fff6-11e9-8ddf-8c859025e7f9\", \"x\": [-0.3, -0.25, -0.2, -0.15, -0.1, -0.05, 0.0, 0.05, 0.1, 0.15, 0.2, 0.25, 0.3, 0.35], \"y\": [0.1447, 0.0975, 0.0493, 0.0172, -0.0023, -0.0073, 0.0, 0.0197, 0.043, 0.0651, 0.0864, 0.1096, 0.1343, 0.1552], \"yaxis\": \"y3\", \"type\": \"scatter\", \"xaxis\": \"x3\"}, {\"legendgroup\": \"chart (2, 1)\", \"name\": \"chart (2, 1) 20190919\", \"uid\": \"3058e2b4-fff6-11e9-bbb1-8c859025e7f9\", \"x\": [-0.3, -0.25, -0.2, -0.15, -0.1, -0.05, 0.0, 0.05, 0.1, 0.15, 0.2, 0.25, 0.3, 0.35], \"y\": [0.1487, 0.0934, 0.051, 0.0074, -0.018, -0.0181, 0.0, 0.0233, 0.0519, 0.0777, 0.1034, 0.1304, 0.1554, 0.1782], \"yaxis\": \"y3\", \"type\": \"scatter\", \"xaxis\": \"x3\"}, {\"legendgroup\": \"chart (2, 1)\", \"name\": \"chart (2, 1) 20190920\", \"uid\": \"3059dc9e-fff6-11e9-a383-8c859025e7f9\", \"x\": [-0.3, -0.25, -0.2, -0.15, -0.1, -0.05, 0.0, 0.05, 0.1, 0.15, 0.2, 0.25, 0.3, 0.35], \"y\": [null, null, null, null, null, null, 0.0, null, null, null, null, 0.1326, null, null], \"yaxis\": \"y3\", \"type\": \"scatter\", \"xaxis\": \"x3\"}, {\"legendgroup\": \"chart (2, 2)\", \"name\": \"chart (2, 2) 20190923\", \"uid\": \"305c2292-fff6-11e9-aa4e-8c859025e7f9\", \"x\": [-0.3, -0.25, -0.2, -0.15, -0.1, -0.05, 0.0, 0.05, 0.1, 0.15, 0.2, 0.25, 0.3, 0.35], \"y\": [0.1908, 0.1357, 0.0804, 0.027, -0.011, -0.02, 0.0, 0.0233, 0.0532, 0.0797, 0.106, 0.1367, 0.1688, 0.1947], \"yaxis\": \"y4\", \"type\": \"scatter\", \"xaxis\": \"x4\"}, {\"legendgroup\": \"chart (2, 2)\", \"name\": \"chart (2, 2) 20190924\", \"uid\": \"305cbba8-fff6-11e9-b35d-8c859025e7f9\", \"x\": [-0.3, -0.25, -0.2, -0.15, -0.1, -0.05, 0.0, 0.05, 0.1, 0.15, 0.2, 0.25, 0.3, 0.35], \"y\": [0.2597, 0.2034, 0.1458, 0.0893, 0.0459, 0.0145, 0.0, 0.0079, 0.0247, 0.0452, 0.069, 0.1005, 0.1338, 0.1646], \"yaxis\": \"y4\", \"type\": \"scatter\", \"xaxis\": \"x4\"}, {\"legendgroup\": \"chart (2, 2)\", \"name\": \"chart (2, 2) 20190925\", \"uid\": \"305d4938-fff6-11e9-8be3-8c859025e7f9\", \"x\": [-0.3, -0.25, -0.2, -0.15, -0.1, -0.05, 0.0, 0.05, 0.1, 0.15, 0.2, 0.25, 0.3, 0.35], \"y\": [0.2134, 0.1633, 0.1091, 0.0631, 0.0273, 0.0045, 0.0, 0.0105, 0.0294, 0.0494, 0.0779, 0.1044, 0.1325, 0.1648], \"yaxis\": \"y4\", \"type\": \"scatter\", \"xaxis\": \"x4\"}, {\"legendgroup\": \"chart (2, 2)\", \"name\": \"chart (2, 2) 20190926\", \"uid\": \"305e4218-fff6-11e9-b50c-8c859025e7f9\", \"x\": [-0.3, -0.25, -0.2, -0.15, -0.1, -0.05, 0.0, 0.05, 0.1, 0.15, 0.2, 0.25, 0.3, 0.35], \"y\": [0.2319, 0.1615, 0.1042, 0.0551, 0.0192, -0.0011, 0.0, 0.0098, 0.0343, 0.0599, 0.0883, 0.1184, 0.152, 0.1783], \"yaxis\": \"y4\", \"type\": \"scatter\", \"xaxis\": \"x4\"}, {\"legendgroup\": \"chart (2, 2)\", \"name\": \"chart (2, 2) 20190927\", \"uid\": \"305ede06-fff6-11e9-9d55-8c859025e7f9\", \"x\": [-0.3, -0.25, -0.2, -0.15, -0.1, -0.05, 0.0, 0.05, 0.1, 0.15, 0.2, 0.25, 0.3, 0.35], \"y\": [0.2381, 0.1744, 0.1178, 0.0649, 0.0209, 0.0024, 0.0, 0.0134, 0.0364, 0.0666, 0.0968, 0.1267, 0.1628, 0.1879], \"yaxis\": \"y4\", \"type\": \"scatter\", \"xaxis\": \"x4\"}], {\"annotations\": [{\"font\": {\"size\": 16}, \"showarrow\": false, \"text\": \"CBZ19 20190902 - 20190906\", \"x\": 0.2275, \"xanchor\": \"center\", \"xref\": \"paper\", \"y\": 1.0, \"yanchor\": \"bottom\", \"yref\": \"paper\"}, {\"font\": {\"size\": 16}, \"showarrow\": false, \"text\": \"CBZ19 20190909 - 20190913\", \"x\": 0.7725, \"xanchor\": \"center\", \"xref\": \"paper\", \"y\": 1.0, \"yanchor\": \"bottom\", \"yref\": \"paper\"}, {\"font\": {\"size\": 16}, \"showarrow\": false, \"text\": \"CBZ19 20190916 - 20190920\", \"x\": 0.2275, \"xanchor\": \"center\", \"xref\": \"paper\", \"y\": 0.445, \"yanchor\": \"bottom\", \"yref\": \"paper\"}, {\"font\": {\"size\": 16}, \"showarrow\": false, \"text\": \"CBZ19 20190923 - 20190927\", \"x\": 0.7725, \"xanchor\": \"center\", \"xref\": \"paper\", \"y\": 0.445, \"yanchor\": \"bottom\", \"yref\": \"paper\"}], \"xaxis\": {\"anchor\": \"y\", \"domain\": [0.0, 0.455], \"tickangle\": 45, \"ticktext\": [-0.3, -0.25, -0.2, -0.15, -0.1, -0.05, 0.0, 0.05, 0.1, 0.15, 0.2, 0.25, 0.3, 0.35], \"tickvals\": [-0.3, -0.25, -0.2, -0.15, -0.1, -0.05, 0.0, 0.05, 0.1, 0.15, 0.2, 0.25, 0.3, 0.35], \"type\": \"category\"}, \"yaxis\": {\"anchor\": \"x\", \"domain\": [0.555, 1.0], \"title\": \"vol skew\"}, \"xaxis2\": {\"anchor\": \"y2\", \"domain\": [0.545, 1.0], \"tickangle\": 45, \"ticktext\": [-0.3, -0.25, -0.2, -0.15, -0.1, -0.05, 0.0, 0.05, 0.1, 0.15, 0.2, 0.25, 0.3, 0.35], \"tickvals\": [-0.3, -0.25, -0.2, -0.15, -0.1, -0.05, 0.0, 0.05, 0.1, 0.15, 0.2, 0.25, 0.3, 0.35], \"type\": \"category\"}, \"yaxis2\": {\"anchor\": \"x2\", \"domain\": [0.555, 1.0], \"title\": \"vol skew\"}, \"xaxis3\": {\"anchor\": \"y3\", \"domain\": [0.0, 0.455], \"tickangle\": 45, \"ticktext\": [-0.3, -0.25, -0.2, -0.15, -0.1, -0.05, 0.0, 0.05, 0.1, 0.15, 0.2, 0.25, 0.3, 0.35], \"tickvals\": [-0.3, -0.25, -0.2, -0.15, -0.1, -0.05, 0.0, 0.05, 0.1, 0.15, 0.2, 0.25, 0.3, 0.35], \"type\": \"category\"}, \"yaxis3\": {\"anchor\": \"x3\", \"domain\": [0.0, 0.445], \"title\": \"vol skew\"}, \"xaxis4\": {\"anchor\": \"y4\", \"domain\": [0.545, 1.0], \"tickangle\": 45, \"ticktext\": [-0.3, -0.25, -0.2, -0.15, -0.1, -0.05, 0.0, 0.05, 0.1, 0.15, 0.2, 0.25, 0.3, 0.35], \"tickvals\": [-0.3, -0.25, -0.2, -0.15, -0.1, -0.05, 0.0, 0.05, 0.1, 0.15, 0.2, 0.25, 0.3, 0.35], \"type\": \"category\"}, \"yaxis4\": {\"anchor\": \"x4\", \"domain\": [0.0, 0.445], \"title\": \"vol skew\"}, \"font\": {\"family\": \"Open Sans, sans-serif\"}, \"margin\": {\"b\": 55, \"l\": 45, \"r\": 15, \"t\": 50}, \"title\": \"Skew plots<br>\", \"showlegend\": true, \"hovermode\": \"x\", \"autosize\": true, \"width\": 900, \"height\": 800, \"plot_bgcolor\": \"#EFECEA\", \"bargap\": 0.05}, {\"showLink\": true, \"linkText\": \"Export to plot.ly\"})});</script>"
      ]
     },
     "metadata": {},
     "output_type": "display_data"
    },
    {
     "data": {
      "application/vnd.plotly.v1+json": {
       "data": [
        {
         "legendgroup": "chart (1, 1)",
         "name": "chart (1, 1) 20190930",
         "type": "scatter",
         "uid": "306c8274-fff6-11e9-94a9-8c859025e7f9",
         "x": [
          -0.3,
          -0.25,
          -0.2,
          -0.15,
          -0.1,
          -0.05,
          0,
          0.05,
          0.1,
          0.15,
          0.2,
          0.25,
          0.3,
          0.35
         ],
         "xaxis": "x",
         "y": [
          0.2357,
          0.1796,
          0.1259,
          0.0767,
          0.0382,
          0.01,
          0,
          0.0024,
          0.0245,
          0.0556,
          0.0909,
          0.1331,
          0.1709,
          0.2033
         ],
         "yaxis": "y"
        }
       ],
       "layout": {
        "annotations": [
         {
          "font": {
           "size": 16
          },
          "showarrow": false,
          "text": "CBZ19 20190930 - 20190930",
          "x": 0.2275,
          "xanchor": "center",
          "xref": "paper",
          "y": 1,
          "yanchor": "bottom",
          "yref": "paper"
         }
        ],
        "autosize": true,
        "bargap": 0.05,
        "font": {
         "family": "Open Sans, sans-serif"
        },
        "height": 800,
        "hovermode": "x",
        "margin": {
         "b": 55,
         "l": 45,
         "r": 15,
         "t": 50
        },
        "plot_bgcolor": "#EFECEA",
        "showlegend": true,
        "title": "Skew plots<br>",
        "width": 900,
        "xaxis": {
         "anchor": "y",
         "domain": [
          0,
          0.455
         ],
         "tickangle": 45,
         "ticktext": [
          -0.3,
          -0.25,
          -0.2,
          -0.15,
          -0.1,
          -0.05,
          0,
          0.05,
          0.1,
          0.15,
          0.2,
          0.25,
          0.3,
          0.35
         ],
         "tickvals": [
          -0.3,
          -0.25,
          -0.2,
          -0.15,
          -0.1,
          -0.05,
          0,
          0.05,
          0.1,
          0.15,
          0.2,
          0.25,
          0.3,
          0.35
         ],
         "type": "category"
        },
        "xaxis2": {
         "anchor": "y2",
         "domain": [
          0.545,
          1
         ]
        },
        "xaxis3": {
         "anchor": "y3",
         "domain": [
          0,
          0.455
         ]
        },
        "xaxis4": {
         "anchor": "y4",
         "domain": [
          0.545,
          1
         ]
        },
        "yaxis": {
         "anchor": "x",
         "domain": [
          0.555,
          1
         ],
         "title": "vol skew"
        },
        "yaxis2": {
         "anchor": "x2",
         "domain": [
          0.555,
          1
         ]
        },
        "yaxis3": {
         "anchor": "x3",
         "domain": [
          0,
          0.445
         ]
        },
        "yaxis4": {
         "anchor": "x4",
         "domain": [
          0,
          0.445
         ]
        }
       }
      },
      "text/html": [
       "<div id=\"cd482f6f-99e3-47cc-8f67-4e9fbb2937cf\" style=\"height: 800px; width: 900px;\" class=\"plotly-graph-div\"></div><script type=\"text/javascript\">require([\"plotly\"], function(Plotly) { window.PLOTLYENV=window.PLOTLYENV || {};window.PLOTLYENV.BASE_URL=\"https://plot.ly\";Plotly.newPlot(\"cd482f6f-99e3-47cc-8f67-4e9fbb2937cf\", [{\"legendgroup\": \"chart (1, 1)\", \"name\": \"chart (1, 1) 20190930\", \"uid\": \"306c8274-fff6-11e9-94a9-8c859025e7f9\", \"x\": [-0.3, -0.25, -0.2, -0.15, -0.1, -0.05, 0.0, 0.05, 0.1, 0.15, 0.2, 0.25, 0.3, 0.35], \"y\": [0.2357, 0.1796, 0.1259, 0.0767, 0.0382, 0.01, 0.0, 0.0024, 0.0245, 0.0556, 0.0909, 0.1331, 0.1709, 0.2033], \"yaxis\": \"y\", \"type\": \"scatter\", \"xaxis\": \"x\"}], {\"annotations\": [{\"font\": {\"size\": 16}, \"showarrow\": false, \"text\": \"CBZ19 20190930 - 20190930\", \"x\": 0.2275, \"xanchor\": \"center\", \"xref\": \"paper\", \"y\": 1.0, \"yanchor\": \"bottom\", \"yref\": \"paper\"}], \"xaxis\": {\"anchor\": \"y\", \"domain\": [0.0, 0.455], \"tickangle\": 45, \"ticktext\": [-0.3, -0.25, -0.2, -0.15, -0.1, -0.05, 0.0, 0.05, 0.1, 0.15, 0.2, 0.25, 0.3, 0.35], \"tickvals\": [-0.3, -0.25, -0.2, -0.15, -0.1, -0.05, 0.0, 0.05, 0.1, 0.15, 0.2, 0.25, 0.3, 0.35], \"type\": \"category\"}, \"yaxis\": {\"anchor\": \"x\", \"domain\": [0.555, 1.0], \"title\": \"vol skew\"}, \"xaxis2\": {\"anchor\": \"y2\", \"domain\": [0.545, 1.0]}, \"yaxis2\": {\"anchor\": \"x2\", \"domain\": [0.555, 1.0]}, \"xaxis3\": {\"anchor\": \"y3\", \"domain\": [0.0, 0.455]}, \"yaxis3\": {\"anchor\": \"x3\", \"domain\": [0.0, 0.445]}, \"xaxis4\": {\"anchor\": \"y4\", \"domain\": [0.545, 1.0]}, \"yaxis4\": {\"anchor\": \"x4\", \"domain\": [0.0, 0.445]}, \"font\": {\"family\": \"Open Sans, sans-serif\"}, \"margin\": {\"b\": 55, \"l\": 45, \"r\": 15, \"t\": 50}, \"title\": \"Skew plots<br>\", \"showlegend\": true, \"hovermode\": \"x\", \"autosize\": true, \"width\": 900, \"height\": 800, \"plot_bgcolor\": \"#EFECEA\", \"bargap\": 0.05}, {\"showLink\": true, \"linkText\": \"Export to plot.ly\"})});</script>"
      ],
      "text/vnd.plotly.v1+html": [
       "<div id=\"cd482f6f-99e3-47cc-8f67-4e9fbb2937cf\" style=\"height: 800px; width: 900px;\" class=\"plotly-graph-div\"></div><script type=\"text/javascript\">require([\"plotly\"], function(Plotly) { window.PLOTLYENV=window.PLOTLYENV || {};window.PLOTLYENV.BASE_URL=\"https://plot.ly\";Plotly.newPlot(\"cd482f6f-99e3-47cc-8f67-4e9fbb2937cf\", [{\"legendgroup\": \"chart (1, 1)\", \"name\": \"chart (1, 1) 20190930\", \"uid\": \"306c8274-fff6-11e9-94a9-8c859025e7f9\", \"x\": [-0.3, -0.25, -0.2, -0.15, -0.1, -0.05, 0.0, 0.05, 0.1, 0.15, 0.2, 0.25, 0.3, 0.35], \"y\": [0.2357, 0.1796, 0.1259, 0.0767, 0.0382, 0.01, 0.0, 0.0024, 0.0245, 0.0556, 0.0909, 0.1331, 0.1709, 0.2033], \"yaxis\": \"y\", \"type\": \"scatter\", \"xaxis\": \"x\"}], {\"annotations\": [{\"font\": {\"size\": 16}, \"showarrow\": false, \"text\": \"CBZ19 20190930 - 20190930\", \"x\": 0.2275, \"xanchor\": \"center\", \"xref\": \"paper\", \"y\": 1.0, \"yanchor\": \"bottom\", \"yref\": \"paper\"}], \"xaxis\": {\"anchor\": \"y\", \"domain\": [0.0, 0.455], \"tickangle\": 45, \"ticktext\": [-0.3, -0.25, -0.2, -0.15, -0.1, -0.05, 0.0, 0.05, 0.1, 0.15, 0.2, 0.25, 0.3, 0.35], \"tickvals\": [-0.3, -0.25, -0.2, -0.15, -0.1, -0.05, 0.0, 0.05, 0.1, 0.15, 0.2, 0.25, 0.3, 0.35], \"type\": \"category\"}, \"yaxis\": {\"anchor\": \"x\", \"domain\": [0.555, 1.0], \"title\": \"vol skew\"}, \"xaxis2\": {\"anchor\": \"y2\", \"domain\": [0.545, 1.0]}, \"yaxis2\": {\"anchor\": \"x2\", \"domain\": [0.555, 1.0]}, \"xaxis3\": {\"anchor\": \"y3\", \"domain\": [0.0, 0.455]}, \"yaxis3\": {\"anchor\": \"x3\", \"domain\": [0.0, 0.445]}, \"xaxis4\": {\"anchor\": \"y4\", \"domain\": [0.545, 1.0]}, \"yaxis4\": {\"anchor\": \"x4\", \"domain\": [0.0, 0.445]}, \"font\": {\"family\": \"Open Sans, sans-serif\"}, \"margin\": {\"b\": 55, \"l\": 45, \"r\": 15, \"t\": 50}, \"title\": \"Skew plots<br>\", \"showlegend\": true, \"hovermode\": \"x\", \"autosize\": true, \"width\": 900, \"height\": 800, \"plot_bgcolor\": \"#EFECEA\", \"bargap\": 0.05}, {\"showLink\": true, \"linkText\": \"Export to plot.ly\"})});</script>"
      ]
     },
     "metadata": {},
     "output_type": "display_data"
    },
    {
     "data": {
      "application/vnd.plotly.v1+json": {
       "data": [
        {
         "legendgroup": "chart (1, 1)",
         "name": "chart (1, 1) 20191001",
         "type": "scatter",
         "uid": "30e953e2-fff6-11e9-a064-8c859025e7f9",
         "x": [
          -0.3,
          -0.25,
          -0.2,
          -0.15,
          -0.1,
          -0.05,
          0,
          0.05,
          0.1,
          0.15,
          0.2,
          0.25,
          0.3,
          0.35
         ],
         "xaxis": "x",
         "y": [
          0.1605,
          0.1222,
          0.082,
          0.0497,
          0.0266,
          0.0127,
          0,
          -0.0013,
          0.0035,
          0.0102,
          0.0242,
          0.0395,
          0.0596,
          0.0772
         ],
         "yaxis": "y"
        },
        {
         "legendgroup": "chart (1, 1)",
         "name": "chart (1, 1) 20191002",
         "type": "scatter",
         "uid": "30ea1f28-fff6-11e9-9d6a-8c859025e7f9",
         "x": [
          -0.3,
          -0.25,
          -0.2,
          -0.15,
          -0.1,
          -0.05,
          0,
          0.05,
          0.1,
          0.15,
          0.2,
          0.25,
          0.3,
          0.35
         ],
         "xaxis": "x",
         "y": [
          null,
          0.1194,
          0.0842,
          0.0516,
          0.027,
          0.0134,
          0,
          -0.0025,
          0.0001,
          0.0094,
          0.0238,
          0.0409,
          0.0633,
          0.0828
         ],
         "yaxis": "y"
        },
        {
         "legendgroup": "chart (1, 1)",
         "name": "chart (1, 1) 20191003",
         "type": "scatter",
         "uid": "30ea9a4a-fff6-11e9-b0a6-8c859025e7f9",
         "x": [
          -0.3,
          -0.25,
          -0.2,
          -0.15,
          -0.1,
          -0.05,
          0,
          0.05,
          0.1,
          0.15,
          0.2,
          0.25,
          0.3,
          0.35
         ],
         "xaxis": "x",
         "y": [
          null,
          0.1168,
          0.0794,
          0.0487,
          0.0257,
          0.0133,
          0,
          -0.0016,
          0.0008,
          0.0116,
          0.0265,
          0.0469,
          0.0701,
          0.0909
         ],
         "yaxis": "y"
        },
        {
         "legendgroup": "chart (1, 1)",
         "name": "chart (1, 1) 20191004",
         "type": "scatter",
         "uid": "30eb01c6-fff6-11e9-b5a4-8c859025e7f9",
         "x": [
          -0.3,
          -0.25,
          -0.2,
          -0.15,
          -0.1,
          -0.05,
          0,
          0.05,
          0.1,
          0.15,
          0.2,
          0.25,
          0.3,
          0.35
         ],
         "xaxis": "x",
         "y": [
          0.1518,
          0.1119,
          0.0737,
          0.0425,
          0.0203,
          0.0048,
          0,
          -0.0059,
          0.0015,
          0.0124,
          0.0283,
          0.0505,
          0.0747,
          0.1002
         ],
         "yaxis": "y"
        },
        {
         "legendgroup": "chart (1, 1)",
         "name": "chart (1, 1) 20191007",
         "type": "scatter",
         "uid": "30ebdf68-fff6-11e9-bf11-8c859025e7f9",
         "x": [
          -0.3,
          -0.25,
          -0.2,
          -0.15,
          -0.1,
          -0.05,
          0,
          0.05,
          0.1,
          0.15,
          0.2,
          0.25,
          0.3,
          0.35
         ],
         "xaxis": "x",
         "y": [
          0.1416,
          0.1061,
          0.0705,
          0.0419,
          0.0199,
          0.0045,
          0,
          -0.0052,
          0.0035,
          0.0144,
          0.0308,
          0.0549,
          0.0793,
          0.1039
         ],
         "yaxis": "y"
        },
        {
         "legendgroup": "chart (1, 2)",
         "name": "chart (1, 2) 20191008",
         "type": "scatter",
         "uid": "30eda870-fff6-11e9-8ff8-8c859025e7f9",
         "x": [
          -0.3,
          -0.25,
          -0.2,
          -0.15,
          -0.1,
          -0.05,
          0,
          0.05,
          0.1,
          0.15,
          0.2,
          0.25,
          0.3,
          0.35
         ],
         "xaxis": "x2",
         "y": [
          0.1452,
          0.1098,
          0.0735,
          0.0422,
          0.021,
          0.0068,
          0,
          -0.0067,
          0.0019,
          0.0131,
          0.033,
          0.0556,
          0.0838,
          0.1084
         ],
         "yaxis": "y2"
        },
        {
         "legendgroup": "chart (1, 2)",
         "name": "chart (1, 2) 20191009",
         "type": "scatter",
         "uid": "30ee7b9c-fff6-11e9-b105-8c859025e7f9",
         "x": [
          -0.3,
          -0.25,
          -0.2,
          -0.15,
          -0.1,
          -0.05,
          0,
          0.05,
          0.1,
          0.15,
          0.2,
          0.25,
          0.3,
          0.35
         ],
         "xaxis": "x2",
         "y": [
          0.1542,
          0.1169,
          0.0808,
          0.048,
          0.0252,
          0.0066,
          0,
          -0.0059,
          0.0028,
          0.0177,
          0.0396,
          0.0645,
          0.09,
          0.1151
         ],
         "yaxis": "y2"
        },
        {
         "legendgroup": "chart (1, 2)",
         "name": "chart (1, 2) 20191010",
         "type": "scatter",
         "uid": "30ef4c52-fff6-11e9-bf4b-8c859025e7f9",
         "x": [
          -0.3,
          -0.25,
          -0.2,
          -0.15,
          -0.1,
          -0.05,
          0,
          0.05,
          0.1,
          0.15,
          0.2,
          0.25,
          0.3,
          0.35
         ],
         "xaxis": "x2",
         "y": [
          0.1512,
          0.1189,
          0.0794,
          0.0492,
          0.0273,
          0.0139,
          0,
          0.0017,
          0.0095,
          0.0234,
          0.0444,
          0.0695,
          0.0951,
          0.1206
         ],
         "yaxis": "y2"
        },
        {
         "legendgroup": "chart (1, 2)",
         "name": "chart (1, 2) 20191011",
         "type": "scatter",
         "uid": "30efc6fa-fff6-11e9-9368-8c859025e7f9",
         "x": [
          -0.3,
          -0.25,
          -0.2,
          -0.15,
          -0.1,
          -0.05,
          0,
          0.05,
          0.1,
          0.15,
          0.2,
          0.25,
          0.3,
          0.35
         ],
         "xaxis": "x2",
         "y": [
          0.1344,
          0.0961,
          0.064,
          0.0362,
          0.0184,
          0.0078,
          0,
          0.0062,
          0.0188,
          0.0376,
          0.0605,
          0.0865,
          0.1112,
          null
         ],
         "yaxis": "y2"
        },
        {
         "legendgroup": "chart (1, 2)",
         "name": "chart (1, 2) 20191014",
         "type": "scatter",
         "uid": "30f0314c-fff6-11e9-ac2f-8c859025e7f9",
         "x": [
          -0.3,
          -0.25,
          -0.2,
          -0.15,
          -0.1,
          -0.05,
          0,
          0.05,
          0.1,
          0.15,
          0.2,
          0.25,
          0.3,
          0.35
         ],
         "xaxis": "x2",
         "y": [
          0.1465,
          0.0981,
          0.0655,
          0.0382,
          0.0197,
          0.0079,
          0,
          0.0051,
          0.0187,
          0.0388,
          0.0616,
          0.0886,
          0.1126,
          0.1369
         ],
         "yaxis": "y2"
        },
        {
         "legendgroup": "chart (2, 1)",
         "name": "chart (2, 1) 20191015",
         "type": "scatter",
         "uid": "30f25708-fff6-11e9-a7b6-8c859025e7f9",
         "x": [
          -0.3,
          -0.25,
          -0.2,
          -0.15,
          -0.1,
          -0.05,
          0,
          0.05,
          0.1,
          0.15,
          0.2,
          0.25,
          0.3,
          0.35
         ],
         "xaxis": "x3",
         "y": [
          0.1537,
          0.1025,
          0.0625,
          0.0315,
          0.0144,
          0.0044,
          0,
          0.0069,
          0.0191,
          0.0373,
          0.0633,
          0.0899,
          0.1171,
          0.1408
         ],
         "yaxis": "y3"
        },
        {
         "legendgroup": "chart (2, 1)",
         "name": "chart (2, 1) 20191016",
         "type": "scatter",
         "uid": "30f2dbcc-fff6-11e9-a1b7-8c859025e7f9",
         "x": [
          -0.3,
          -0.25,
          -0.2,
          -0.15,
          -0.1,
          -0.05,
          0,
          0.05,
          0.1,
          0.15,
          0.2,
          0.25,
          0.3,
          0.35
         ],
         "xaxis": "x3",
         "y": [
          0.1568,
          0.102,
          0.0602,
          0.0321,
          0.016,
          0.0076,
          0,
          0.005,
          0.0172,
          0.0373,
          0.0612,
          0.0871,
          0.115,
          0.1409
         ],
         "yaxis": "y3"
        },
        {
         "legendgroup": "chart (2, 1)",
         "name": "chart (2, 1) 20191017",
         "type": "scatter",
         "uid": "30f412d2-fff6-11e9-8e08-8c859025e7f9",
         "x": [
          -0.3,
          -0.25,
          -0.2,
          -0.15,
          -0.1,
          -0.05,
          0,
          0.05,
          0.1,
          0.15,
          0.2,
          0.25,
          0.3,
          0.35
         ],
         "xaxis": "x3",
         "y": [
          0.1571,
          0.1065,
          0.0695,
          0.0351,
          0.0135,
          0.0019,
          0,
          0.0019,
          0.0123,
          0.0317,
          0.0574,
          0.0836,
          0.1117,
          null
         ],
         "yaxis": "y3"
        },
        {
         "legendgroup": "chart (2, 1)",
         "name": "chart (2, 1) 20191018",
         "type": "scatter",
         "uid": "30f51ec0-fff6-11e9-bf3e-8c859025e7f9",
         "x": [
          -0.3,
          -0.25,
          -0.2,
          -0.15,
          -0.1,
          -0.05,
          0,
          0.05,
          0.1,
          0.15,
          0.2,
          0.25,
          0.3,
          0.35
         ],
         "xaxis": "x3",
         "y": [
          0.1775,
          0.1188,
          0.0773,
          0.0399,
          0.0186,
          0.007,
          0,
          0.0058,
          0.0198,
          0.0382,
          0.0648,
          0.0921,
          0.1183,
          0.1422
         ],
         "yaxis": "y3"
        },
        {
         "legendgroup": "chart (2, 1)",
         "name": "chart (2, 1) 20191021",
         "type": "scatter",
         "uid": "30f76694-fff6-11e9-be3c-8c859025e7f9",
         "x": [
          -0.3,
          -0.25,
          -0.2,
          -0.15,
          -0.1,
          -0.05,
          0,
          0.05,
          0.1,
          0.15,
          0.2,
          0.25,
          0.3,
          0.35
         ],
         "xaxis": "x3",
         "y": [
          0.1837,
          0.1318,
          0.0908,
          0.0503,
          0.0272,
          0.0129,
          0,
          0.0031,
          0.0153,
          0.0357,
          0.0645,
          0.0954,
          0.1235,
          0.1518
         ],
         "yaxis": "y3"
        },
        {
         "legendgroup": "chart (2, 2)",
         "name": "chart (2, 2) 20191022",
         "type": "scatter",
         "uid": "30f938b6-fff6-11e9-9719-8c859025e7f9",
         "x": [
          -0.3,
          -0.25,
          -0.2,
          -0.15,
          -0.1,
          -0.05,
          0,
          0.05,
          0.1,
          0.15,
          0.2,
          0.25,
          0.3,
          0.35
         ],
         "xaxis": "x4",
         "y": [
          0.1872,
          0.1396,
          0.0863,
          0.0483,
          0.0237,
          0.0064,
          0,
          0.0003,
          0.018,
          0.042,
          0.0674,
          0.0975,
          0.1281,
          null
         ],
         "yaxis": "y4"
        },
        {
         "legendgroup": "chart (2, 2)",
         "name": "chart (2, 2) 20191023",
         "type": "scatter",
         "uid": "30f9c918-fff6-11e9-87da-8c859025e7f9",
         "x": [
          -0.3,
          -0.25,
          -0.2,
          -0.15,
          -0.1,
          -0.05,
          0,
          0.05,
          0.1,
          0.15,
          0.2,
          0.25,
          0.3,
          0.35
         ],
         "xaxis": "x4",
         "y": [
          0.196,
          0.1387,
          0.0822,
          0.0425,
          0.0172,
          0.0031,
          0,
          0.0054,
          0.0291,
          0.0563,
          0.0837,
          0.1146,
          0.1435,
          null
         ],
         "yaxis": "y4"
        },
        {
         "legendgroup": "chart (2, 2)",
         "name": "chart (2, 2) 20191024",
         "type": "scatter",
         "uid": "30fa435a-fff6-11e9-8076-8c859025e7f9",
         "x": [
          -0.3,
          -0.25,
          -0.2,
          -0.15,
          -0.1,
          -0.05,
          0,
          0.05,
          0.1,
          0.15,
          0.2,
          0.25,
          0.3,
          0.35
         ],
         "xaxis": "x4",
         "y": [
          0.2059,
          0.1417,
          0.0859,
          0.0459,
          0.0178,
          0.0032,
          0,
          0.0093,
          0.0288,
          0.0585,
          0.089,
          0.1179,
          0.146,
          null
         ],
         "yaxis": "y4"
        },
        {
         "legendgroup": "chart (2, 2)",
         "name": "chart (2, 2) 20191025",
         "type": "scatter",
         "uid": "30fb0f42-fff6-11e9-bc51-8c859025e7f9",
         "x": [
          -0.3,
          -0.25,
          -0.2,
          -0.15,
          -0.1,
          -0.05,
          0,
          0.05,
          0.1,
          0.15,
          0.2,
          0.25,
          0.3,
          0.35
         ],
         "xaxis": "x4",
         "y": [
          0.2326,
          0.1679,
          0.1108,
          0.063,
          0.0293,
          0.0088,
          0,
          0.0059,
          0.0329,
          0.0668,
          0.0979,
          0.1336,
          null,
          null
         ],
         "yaxis": "y4"
        },
        {
         "legendgroup": "chart (2, 2)",
         "name": "chart (2, 2) 20191028",
         "type": "scatter",
         "uid": "30fbdbd4-fff6-11e9-9d48-8c859025e7f9",
         "x": [
          -0.3,
          -0.25,
          -0.2,
          -0.15,
          -0.1,
          -0.05,
          0,
          0.05,
          0.1,
          0.15,
          0.2,
          0.25,
          0.3,
          0.35
         ],
         "xaxis": "x4",
         "y": [
          0.2222,
          0.1754,
          null,
          0.0642,
          0.027,
          0.006,
          0,
          0.0004,
          0.0241,
          0.0534,
          null,
          0.1231,
          0.1515,
          null
         ],
         "yaxis": "y4"
        }
       ],
       "layout": {
        "annotations": [
         {
          "font": {
           "size": 16
          },
          "showarrow": false,
          "text": "CBF20 20191001 - 20191007",
          "x": 0.2275,
          "xanchor": "center",
          "xref": "paper",
          "y": 1,
          "yanchor": "bottom",
          "yref": "paper"
         },
         {
          "font": {
           "size": 16
          },
          "showarrow": false,
          "text": "CBF20 20191008 - 20191014",
          "x": 0.7725,
          "xanchor": "center",
          "xref": "paper",
          "y": 1,
          "yanchor": "bottom",
          "yref": "paper"
         },
         {
          "font": {
           "size": 16
          },
          "showarrow": false,
          "text": "CBF20 20191015 - 20191021",
          "x": 0.2275,
          "xanchor": "center",
          "xref": "paper",
          "y": 0.445,
          "yanchor": "bottom",
          "yref": "paper"
         },
         {
          "font": {
           "size": 16
          },
          "showarrow": false,
          "text": "CBF20 20191022 - 20191028",
          "x": 0.7725,
          "xanchor": "center",
          "xref": "paper",
          "y": 0.445,
          "yanchor": "bottom",
          "yref": "paper"
         }
        ],
        "autosize": true,
        "bargap": 0.05,
        "font": {
         "family": "Open Sans, sans-serif"
        },
        "height": 800,
        "hovermode": "x",
        "margin": {
         "b": 55,
         "l": 45,
         "r": 15,
         "t": 50
        },
        "plot_bgcolor": "#EFECEA",
        "showlegend": true,
        "title": "Skew plots<br>",
        "width": 900,
        "xaxis": {
         "anchor": "y",
         "domain": [
          0,
          0.455
         ],
         "tickangle": 45,
         "ticktext": [
          -0.3,
          -0.25,
          -0.2,
          -0.15,
          -0.1,
          -0.05,
          0,
          0.05,
          0.1,
          0.15,
          0.2,
          0.25,
          0.3,
          0.35
         ],
         "tickvals": [
          -0.3,
          -0.25,
          -0.2,
          -0.15,
          -0.1,
          -0.05,
          0,
          0.05,
          0.1,
          0.15,
          0.2,
          0.25,
          0.3,
          0.35
         ],
         "type": "category"
        },
        "xaxis2": {
         "anchor": "y2",
         "domain": [
          0.545,
          1
         ],
         "tickangle": 45,
         "ticktext": [
          -0.3,
          -0.25,
          -0.2,
          -0.15,
          -0.1,
          -0.05,
          0,
          0.05,
          0.1,
          0.15,
          0.2,
          0.25,
          0.3,
          0.35
         ],
         "tickvals": [
          -0.3,
          -0.25,
          -0.2,
          -0.15,
          -0.1,
          -0.05,
          0,
          0.05,
          0.1,
          0.15,
          0.2,
          0.25,
          0.3,
          0.35
         ],
         "type": "category"
        },
        "xaxis3": {
         "anchor": "y3",
         "domain": [
          0,
          0.455
         ],
         "tickangle": 45,
         "ticktext": [
          -0.3,
          -0.25,
          -0.2,
          -0.15,
          -0.1,
          -0.05,
          0,
          0.05,
          0.1,
          0.15,
          0.2,
          0.25,
          0.3,
          0.35
         ],
         "tickvals": [
          -0.3,
          -0.25,
          -0.2,
          -0.15,
          -0.1,
          -0.05,
          0,
          0.05,
          0.1,
          0.15,
          0.2,
          0.25,
          0.3,
          0.35
         ],
         "type": "category"
        },
        "xaxis4": {
         "anchor": "y4",
         "domain": [
          0.545,
          1
         ],
         "tickangle": 45,
         "ticktext": [
          -0.3,
          -0.25,
          -0.2,
          -0.15,
          -0.1,
          -0.05,
          0,
          0.05,
          0.1,
          0.15,
          0.2,
          0.25,
          0.3,
          0.35
         ],
         "tickvals": [
          -0.3,
          -0.25,
          -0.2,
          -0.15,
          -0.1,
          -0.05,
          0,
          0.05,
          0.1,
          0.15,
          0.2,
          0.25,
          0.3,
          0.35
         ],
         "type": "category"
        },
        "yaxis": {
         "anchor": "x",
         "domain": [
          0.555,
          1
         ],
         "title": "vol skew"
        },
        "yaxis2": {
         "anchor": "x2",
         "domain": [
          0.555,
          1
         ],
         "title": "vol skew"
        },
        "yaxis3": {
         "anchor": "x3",
         "domain": [
          0,
          0.445
         ],
         "title": "vol skew"
        },
        "yaxis4": {
         "anchor": "x4",
         "domain": [
          0,
          0.445
         ],
         "title": "vol skew"
        }
       }
      },
      "text/html": [
       "<div id=\"30ef0b4d-c31d-43d4-bc1e-76bfa4496532\" style=\"height: 800px; width: 900px;\" class=\"plotly-graph-div\"></div><script type=\"text/javascript\">require([\"plotly\"], function(Plotly) { window.PLOTLYENV=window.PLOTLYENV || {};window.PLOTLYENV.BASE_URL=\"https://plot.ly\";Plotly.newPlot(\"30ef0b4d-c31d-43d4-bc1e-76bfa4496532\", [{\"legendgroup\": \"chart (1, 1)\", \"name\": \"chart (1, 1) 20191001\", \"uid\": \"30e953e2-fff6-11e9-a064-8c859025e7f9\", \"x\": [-0.3, -0.25, -0.2, -0.15, -0.1, -0.05, 0.0, 0.05, 0.1, 0.15, 0.2, 0.25, 0.3, 0.35], \"y\": [0.1605, 0.1222, 0.082, 0.0497, 0.0266, 0.0127, 0.0, -0.0013, 0.0035, 0.0102, 0.0242, 0.0395, 0.0596, 0.0772], \"yaxis\": \"y\", \"type\": \"scatter\", \"xaxis\": \"x\"}, {\"legendgroup\": \"chart (1, 1)\", \"name\": \"chart (1, 1) 20191002\", \"uid\": \"30ea1f28-fff6-11e9-9d6a-8c859025e7f9\", \"x\": [-0.3, -0.25, -0.2, -0.15, -0.1, -0.05, 0.0, 0.05, 0.1, 0.15, 0.2, 0.25, 0.3, 0.35], \"y\": [null, 0.1194, 0.0842, 0.0516, 0.027, 0.0134, 0.0, -0.0025, 0.0001, 0.0094, 0.0238, 0.0409, 0.0633, 0.0828], \"yaxis\": \"y\", \"type\": \"scatter\", \"xaxis\": \"x\"}, {\"legendgroup\": \"chart (1, 1)\", \"name\": \"chart (1, 1) 20191003\", \"uid\": \"30ea9a4a-fff6-11e9-b0a6-8c859025e7f9\", \"x\": [-0.3, -0.25, -0.2, -0.15, -0.1, -0.05, 0.0, 0.05, 0.1, 0.15, 0.2, 0.25, 0.3, 0.35], \"y\": [null, 0.1168, 0.0794, 0.0487, 0.0257, 0.0133, 0.0, -0.0016, 0.0008, 0.0116, 0.0265, 0.0469, 0.0701, 0.0909], \"yaxis\": \"y\", \"type\": \"scatter\", \"xaxis\": \"x\"}, {\"legendgroup\": \"chart (1, 1)\", \"name\": \"chart (1, 1) 20191004\", \"uid\": \"30eb01c6-fff6-11e9-b5a4-8c859025e7f9\", \"x\": [-0.3, -0.25, -0.2, -0.15, -0.1, -0.05, 0.0, 0.05, 0.1, 0.15, 0.2, 0.25, 0.3, 0.35], \"y\": [0.1518, 0.1119, 0.0737, 0.0425, 0.0203, 0.0048, 0.0, -0.0059, 0.0015, 0.0124, 0.0283, 0.0505, 0.0747, 0.1002], \"yaxis\": \"y\", \"type\": \"scatter\", \"xaxis\": \"x\"}, {\"legendgroup\": \"chart (1, 1)\", \"name\": \"chart (1, 1) 20191007\", \"uid\": \"30ebdf68-fff6-11e9-bf11-8c859025e7f9\", \"x\": [-0.3, -0.25, -0.2, -0.15, -0.1, -0.05, 0.0, 0.05, 0.1, 0.15, 0.2, 0.25, 0.3, 0.35], \"y\": [0.1416, 0.1061, 0.0705, 0.0419, 0.0199, 0.0045, 0.0, -0.0052, 0.0035, 0.0144, 0.0308, 0.0549, 0.0793, 0.1039], \"yaxis\": \"y\", \"type\": \"scatter\", \"xaxis\": \"x\"}, {\"legendgroup\": \"chart (1, 2)\", \"name\": \"chart (1, 2) 20191008\", \"uid\": \"30eda870-fff6-11e9-8ff8-8c859025e7f9\", \"x\": [-0.3, -0.25, -0.2, -0.15, -0.1, -0.05, 0.0, 0.05, 0.1, 0.15, 0.2, 0.25, 0.3, 0.35], \"y\": [0.1452, 0.1098, 0.0735, 0.0422, 0.021, 0.0068, 0.0, -0.0067, 0.0019, 0.0131, 0.033, 0.0556, 0.0838, 0.1084], \"yaxis\": \"y2\", \"type\": \"scatter\", \"xaxis\": \"x2\"}, {\"legendgroup\": \"chart (1, 2)\", \"name\": \"chart (1, 2) 20191009\", \"uid\": \"30ee7b9c-fff6-11e9-b105-8c859025e7f9\", \"x\": [-0.3, -0.25, -0.2, -0.15, -0.1, -0.05, 0.0, 0.05, 0.1, 0.15, 0.2, 0.25, 0.3, 0.35], \"y\": [0.1542, 0.1169, 0.0808, 0.048, 0.0252, 0.0066, 0.0, -0.0059, 0.0028, 0.0177, 0.0396, 0.0645, 0.09, 0.1151], \"yaxis\": \"y2\", \"type\": \"scatter\", \"xaxis\": \"x2\"}, {\"legendgroup\": \"chart (1, 2)\", \"name\": \"chart (1, 2) 20191010\", \"uid\": \"30ef4c52-fff6-11e9-bf4b-8c859025e7f9\", \"x\": [-0.3, -0.25, -0.2, -0.15, -0.1, -0.05, 0.0, 0.05, 0.1, 0.15, 0.2, 0.25, 0.3, 0.35], \"y\": [0.1512, 0.1189, 0.0794, 0.0492, 0.0273, 0.0139, 0.0, 0.0017, 0.0095, 0.0234, 0.0444, 0.0695, 0.0951, 0.1206], \"yaxis\": \"y2\", \"type\": \"scatter\", \"xaxis\": \"x2\"}, {\"legendgroup\": \"chart (1, 2)\", \"name\": \"chart (1, 2) 20191011\", \"uid\": \"30efc6fa-fff6-11e9-9368-8c859025e7f9\", \"x\": [-0.3, -0.25, -0.2, -0.15, -0.1, -0.05, 0.0, 0.05, 0.1, 0.15, 0.2, 0.25, 0.3, 0.35], \"y\": [0.1344, 0.0961, 0.064, 0.0362, 0.0184, 0.0078, 0.0, 0.0062, 0.0188, 0.0376, 0.0605, 0.0865, 0.1112, null], \"yaxis\": \"y2\", \"type\": \"scatter\", \"xaxis\": \"x2\"}, {\"legendgroup\": \"chart (1, 2)\", \"name\": \"chart (1, 2) 20191014\", \"uid\": \"30f0314c-fff6-11e9-ac2f-8c859025e7f9\", \"x\": [-0.3, -0.25, -0.2, -0.15, -0.1, -0.05, 0.0, 0.05, 0.1, 0.15, 0.2, 0.25, 0.3, 0.35], \"y\": [0.1465, 0.0981, 0.0655, 0.0382, 0.0197, 0.0079, 0.0, 0.0051, 0.0187, 0.0388, 0.0616, 0.0886, 0.1126, 0.1369], \"yaxis\": \"y2\", \"type\": \"scatter\", \"xaxis\": \"x2\"}, {\"legendgroup\": \"chart (2, 1)\", \"name\": \"chart (2, 1) 20191015\", \"uid\": \"30f25708-fff6-11e9-a7b6-8c859025e7f9\", \"x\": [-0.3, -0.25, -0.2, -0.15, -0.1, -0.05, 0.0, 0.05, 0.1, 0.15, 0.2, 0.25, 0.3, 0.35], \"y\": [0.1537, 0.1025, 0.0625, 0.0315, 0.0144, 0.0044, 0.0, 0.0069, 0.0191, 0.0373, 0.0633, 0.0899, 0.1171, 0.1408], \"yaxis\": \"y3\", \"type\": \"scatter\", \"xaxis\": \"x3\"}, {\"legendgroup\": \"chart (2, 1)\", \"name\": \"chart (2, 1) 20191016\", \"uid\": \"30f2dbcc-fff6-11e9-a1b7-8c859025e7f9\", \"x\": [-0.3, -0.25, -0.2, -0.15, -0.1, -0.05, 0.0, 0.05, 0.1, 0.15, 0.2, 0.25, 0.3, 0.35], \"y\": [0.1568, 0.102, 0.0602, 0.0321, 0.016, 0.0076, 0.0, 0.005, 0.0172, 0.0373, 0.0612, 0.0871, 0.115, 0.1409], \"yaxis\": \"y3\", \"type\": \"scatter\", \"xaxis\": \"x3\"}, {\"legendgroup\": \"chart (2, 1)\", \"name\": \"chart (2, 1) 20191017\", \"uid\": \"30f412d2-fff6-11e9-8e08-8c859025e7f9\", \"x\": [-0.3, -0.25, -0.2, -0.15, -0.1, -0.05, 0.0, 0.05, 0.1, 0.15, 0.2, 0.25, 0.3, 0.35], \"y\": [0.1571, 0.1065, 0.0695, 0.0351, 0.0135, 0.0019, 0.0, 0.0019, 0.0123, 0.0317, 0.0574, 0.0836, 0.1117, null], \"yaxis\": \"y3\", \"type\": \"scatter\", \"xaxis\": \"x3\"}, {\"legendgroup\": \"chart (2, 1)\", \"name\": \"chart (2, 1) 20191018\", \"uid\": \"30f51ec0-fff6-11e9-bf3e-8c859025e7f9\", \"x\": [-0.3, -0.25, -0.2, -0.15, -0.1, -0.05, 0.0, 0.05, 0.1, 0.15, 0.2, 0.25, 0.3, 0.35], \"y\": [0.1775, 0.1188, 0.0773, 0.0399, 0.0186, 0.007, 0.0, 0.0058, 0.0198, 0.0382, 0.0648, 0.0921, 0.1183, 0.1422], \"yaxis\": \"y3\", \"type\": \"scatter\", \"xaxis\": \"x3\"}, {\"legendgroup\": \"chart (2, 1)\", \"name\": \"chart (2, 1) 20191021\", \"uid\": \"30f76694-fff6-11e9-be3c-8c859025e7f9\", \"x\": [-0.3, -0.25, -0.2, -0.15, -0.1, -0.05, 0.0, 0.05, 0.1, 0.15, 0.2, 0.25, 0.3, 0.35], \"y\": [0.1837, 0.1318, 0.0908, 0.0503, 0.0272, 0.0129, 0.0, 0.0031, 0.0153, 0.0357, 0.0645, 0.0954, 0.1235, 0.1518], \"yaxis\": \"y3\", \"type\": \"scatter\", \"xaxis\": \"x3\"}, {\"legendgroup\": \"chart (2, 2)\", \"name\": \"chart (2, 2) 20191022\", \"uid\": \"30f938b6-fff6-11e9-9719-8c859025e7f9\", \"x\": [-0.3, -0.25, -0.2, -0.15, -0.1, -0.05, 0.0, 0.05, 0.1, 0.15, 0.2, 0.25, 0.3, 0.35], \"y\": [0.1872, 0.1396, 0.0863, 0.0483, 0.0237, 0.0064, 0.0, 0.0003, 0.018, 0.042, 0.0674, 0.0975, 0.1281, null], \"yaxis\": \"y4\", \"type\": \"scatter\", \"xaxis\": \"x4\"}, {\"legendgroup\": \"chart (2, 2)\", \"name\": \"chart (2, 2) 20191023\", \"uid\": \"30f9c918-fff6-11e9-87da-8c859025e7f9\", \"x\": [-0.3, -0.25, -0.2, -0.15, -0.1, -0.05, 0.0, 0.05, 0.1, 0.15, 0.2, 0.25, 0.3, 0.35], \"y\": [0.196, 0.1387, 0.0822, 0.0425, 0.0172, 0.0031, 0.0, 0.0054, 0.0291, 0.0563, 0.0837, 0.1146, 0.1435, null], \"yaxis\": \"y4\", \"type\": \"scatter\", \"xaxis\": \"x4\"}, {\"legendgroup\": \"chart (2, 2)\", \"name\": \"chart (2, 2) 20191024\", \"uid\": \"30fa435a-fff6-11e9-8076-8c859025e7f9\", \"x\": [-0.3, -0.25, -0.2, -0.15, -0.1, -0.05, 0.0, 0.05, 0.1, 0.15, 0.2, 0.25, 0.3, 0.35], \"y\": [0.2059, 0.1417, 0.0859, 0.0459, 0.0178, 0.0032, 0.0, 0.0093, 0.0288, 0.0585, 0.089, 0.1179, 0.146, null], \"yaxis\": \"y4\", \"type\": \"scatter\", \"xaxis\": \"x4\"}, {\"legendgroup\": \"chart (2, 2)\", \"name\": \"chart (2, 2) 20191025\", \"uid\": \"30fb0f42-fff6-11e9-bc51-8c859025e7f9\", \"x\": [-0.3, -0.25, -0.2, -0.15, -0.1, -0.05, 0.0, 0.05, 0.1, 0.15, 0.2, 0.25, 0.3, 0.35], \"y\": [0.2326, 0.1679, 0.1108, 0.063, 0.0293, 0.0088, 0.0, 0.0059, 0.0329, 0.0668, 0.0979, 0.1336, null, null], \"yaxis\": \"y4\", \"type\": \"scatter\", \"xaxis\": \"x4\"}, {\"legendgroup\": \"chart (2, 2)\", \"name\": \"chart (2, 2) 20191028\", \"uid\": \"30fbdbd4-fff6-11e9-9d48-8c859025e7f9\", \"x\": [-0.3, -0.25, -0.2, -0.15, -0.1, -0.05, 0.0, 0.05, 0.1, 0.15, 0.2, 0.25, 0.3, 0.35], \"y\": [0.2222, 0.1754, null, 0.0642, 0.027, 0.006, 0.0, 0.0004, 0.0241, 0.0534, null, 0.1231, 0.1515, null], \"yaxis\": \"y4\", \"type\": \"scatter\", \"xaxis\": \"x4\"}], {\"annotations\": [{\"font\": {\"size\": 16}, \"showarrow\": false, \"text\": \"CBF20 20191001 - 20191007\", \"x\": 0.2275, \"xanchor\": \"center\", \"xref\": \"paper\", \"y\": 1.0, \"yanchor\": \"bottom\", \"yref\": \"paper\"}, {\"font\": {\"size\": 16}, \"showarrow\": false, \"text\": \"CBF20 20191008 - 20191014\", \"x\": 0.7725, \"xanchor\": \"center\", \"xref\": \"paper\", \"y\": 1.0, \"yanchor\": \"bottom\", \"yref\": \"paper\"}, {\"font\": {\"size\": 16}, \"showarrow\": false, \"text\": \"CBF20 20191015 - 20191021\", \"x\": 0.2275, \"xanchor\": \"center\", \"xref\": \"paper\", \"y\": 0.445, \"yanchor\": \"bottom\", \"yref\": \"paper\"}, {\"font\": {\"size\": 16}, \"showarrow\": false, \"text\": \"CBF20 20191022 - 20191028\", \"x\": 0.7725, \"xanchor\": \"center\", \"xref\": \"paper\", \"y\": 0.445, \"yanchor\": \"bottom\", \"yref\": \"paper\"}], \"xaxis\": {\"anchor\": \"y\", \"domain\": [0.0, 0.455], \"tickangle\": 45, \"ticktext\": [-0.3, -0.25, -0.2, -0.15, -0.1, -0.05, 0.0, 0.05, 0.1, 0.15, 0.2, 0.25, 0.3, 0.35], \"tickvals\": [-0.3, -0.25, -0.2, -0.15, -0.1, -0.05, 0.0, 0.05, 0.1, 0.15, 0.2, 0.25, 0.3, 0.35], \"type\": \"category\"}, \"yaxis\": {\"anchor\": \"x\", \"domain\": [0.555, 1.0], \"title\": \"vol skew\"}, \"xaxis2\": {\"anchor\": \"y2\", \"domain\": [0.545, 1.0], \"tickangle\": 45, \"ticktext\": [-0.3, -0.25, -0.2, -0.15, -0.1, -0.05, 0.0, 0.05, 0.1, 0.15, 0.2, 0.25, 0.3, 0.35], \"tickvals\": [-0.3, -0.25, -0.2, -0.15, -0.1, -0.05, 0.0, 0.05, 0.1, 0.15, 0.2, 0.25, 0.3, 0.35], \"type\": \"category\"}, \"yaxis2\": {\"anchor\": \"x2\", \"domain\": [0.555, 1.0], \"title\": \"vol skew\"}, \"xaxis3\": {\"anchor\": \"y3\", \"domain\": [0.0, 0.455], \"tickangle\": 45, \"ticktext\": [-0.3, -0.25, -0.2, -0.15, -0.1, -0.05, 0.0, 0.05, 0.1, 0.15, 0.2, 0.25, 0.3, 0.35], \"tickvals\": [-0.3, -0.25, -0.2, -0.15, -0.1, -0.05, 0.0, 0.05, 0.1, 0.15, 0.2, 0.25, 0.3, 0.35], \"type\": \"category\"}, \"yaxis3\": {\"anchor\": \"x3\", \"domain\": [0.0, 0.445], \"title\": \"vol skew\"}, \"xaxis4\": {\"anchor\": \"y4\", \"domain\": [0.545, 1.0], \"tickangle\": 45, \"ticktext\": [-0.3, -0.25, -0.2, -0.15, -0.1, -0.05, 0.0, 0.05, 0.1, 0.15, 0.2, 0.25, 0.3, 0.35], \"tickvals\": [-0.3, -0.25, -0.2, -0.15, -0.1, -0.05, 0.0, 0.05, 0.1, 0.15, 0.2, 0.25, 0.3, 0.35], \"type\": \"category\"}, \"yaxis4\": {\"anchor\": \"x4\", \"domain\": [0.0, 0.445], \"title\": \"vol skew\"}, \"font\": {\"family\": \"Open Sans, sans-serif\"}, \"margin\": {\"b\": 55, \"l\": 45, \"r\": 15, \"t\": 50}, \"title\": \"Skew plots<br>\", \"showlegend\": true, \"hovermode\": \"x\", \"autosize\": true, \"width\": 900, \"height\": 800, \"plot_bgcolor\": \"#EFECEA\", \"bargap\": 0.05}, {\"showLink\": true, \"linkText\": \"Export to plot.ly\"})});</script>"
      ],
      "text/vnd.plotly.v1+html": [
       "<div id=\"30ef0b4d-c31d-43d4-bc1e-76bfa4496532\" style=\"height: 800px; width: 900px;\" class=\"plotly-graph-div\"></div><script type=\"text/javascript\">require([\"plotly\"], function(Plotly) { window.PLOTLYENV=window.PLOTLYENV || {};window.PLOTLYENV.BASE_URL=\"https://plot.ly\";Plotly.newPlot(\"30ef0b4d-c31d-43d4-bc1e-76bfa4496532\", [{\"legendgroup\": \"chart (1, 1)\", \"name\": \"chart (1, 1) 20191001\", \"uid\": \"30e953e2-fff6-11e9-a064-8c859025e7f9\", \"x\": [-0.3, -0.25, -0.2, -0.15, -0.1, -0.05, 0.0, 0.05, 0.1, 0.15, 0.2, 0.25, 0.3, 0.35], \"y\": [0.1605, 0.1222, 0.082, 0.0497, 0.0266, 0.0127, 0.0, -0.0013, 0.0035, 0.0102, 0.0242, 0.0395, 0.0596, 0.0772], \"yaxis\": \"y\", \"type\": \"scatter\", \"xaxis\": \"x\"}, {\"legendgroup\": \"chart (1, 1)\", \"name\": \"chart (1, 1) 20191002\", \"uid\": \"30ea1f28-fff6-11e9-9d6a-8c859025e7f9\", \"x\": [-0.3, -0.25, -0.2, -0.15, -0.1, -0.05, 0.0, 0.05, 0.1, 0.15, 0.2, 0.25, 0.3, 0.35], \"y\": [null, 0.1194, 0.0842, 0.0516, 0.027, 0.0134, 0.0, -0.0025, 0.0001, 0.0094, 0.0238, 0.0409, 0.0633, 0.0828], \"yaxis\": \"y\", \"type\": \"scatter\", \"xaxis\": \"x\"}, {\"legendgroup\": \"chart (1, 1)\", \"name\": \"chart (1, 1) 20191003\", \"uid\": \"30ea9a4a-fff6-11e9-b0a6-8c859025e7f9\", \"x\": [-0.3, -0.25, -0.2, -0.15, -0.1, -0.05, 0.0, 0.05, 0.1, 0.15, 0.2, 0.25, 0.3, 0.35], \"y\": [null, 0.1168, 0.0794, 0.0487, 0.0257, 0.0133, 0.0, -0.0016, 0.0008, 0.0116, 0.0265, 0.0469, 0.0701, 0.0909], \"yaxis\": \"y\", \"type\": \"scatter\", \"xaxis\": \"x\"}, {\"legendgroup\": \"chart (1, 1)\", \"name\": \"chart (1, 1) 20191004\", \"uid\": \"30eb01c6-fff6-11e9-b5a4-8c859025e7f9\", \"x\": [-0.3, -0.25, -0.2, -0.15, -0.1, -0.05, 0.0, 0.05, 0.1, 0.15, 0.2, 0.25, 0.3, 0.35], \"y\": [0.1518, 0.1119, 0.0737, 0.0425, 0.0203, 0.0048, 0.0, -0.0059, 0.0015, 0.0124, 0.0283, 0.0505, 0.0747, 0.1002], \"yaxis\": \"y\", \"type\": \"scatter\", \"xaxis\": \"x\"}, {\"legendgroup\": \"chart (1, 1)\", \"name\": \"chart (1, 1) 20191007\", \"uid\": \"30ebdf68-fff6-11e9-bf11-8c859025e7f9\", \"x\": [-0.3, -0.25, -0.2, -0.15, -0.1, -0.05, 0.0, 0.05, 0.1, 0.15, 0.2, 0.25, 0.3, 0.35], \"y\": [0.1416, 0.1061, 0.0705, 0.0419, 0.0199, 0.0045, 0.0, -0.0052, 0.0035, 0.0144, 0.0308, 0.0549, 0.0793, 0.1039], \"yaxis\": \"y\", \"type\": \"scatter\", \"xaxis\": \"x\"}, {\"legendgroup\": \"chart (1, 2)\", \"name\": \"chart (1, 2) 20191008\", \"uid\": \"30eda870-fff6-11e9-8ff8-8c859025e7f9\", \"x\": [-0.3, -0.25, -0.2, -0.15, -0.1, -0.05, 0.0, 0.05, 0.1, 0.15, 0.2, 0.25, 0.3, 0.35], \"y\": [0.1452, 0.1098, 0.0735, 0.0422, 0.021, 0.0068, 0.0, -0.0067, 0.0019, 0.0131, 0.033, 0.0556, 0.0838, 0.1084], \"yaxis\": \"y2\", \"type\": \"scatter\", \"xaxis\": \"x2\"}, {\"legendgroup\": \"chart (1, 2)\", \"name\": \"chart (1, 2) 20191009\", \"uid\": \"30ee7b9c-fff6-11e9-b105-8c859025e7f9\", \"x\": [-0.3, -0.25, -0.2, -0.15, -0.1, -0.05, 0.0, 0.05, 0.1, 0.15, 0.2, 0.25, 0.3, 0.35], \"y\": [0.1542, 0.1169, 0.0808, 0.048, 0.0252, 0.0066, 0.0, -0.0059, 0.0028, 0.0177, 0.0396, 0.0645, 0.09, 0.1151], \"yaxis\": \"y2\", \"type\": \"scatter\", \"xaxis\": \"x2\"}, {\"legendgroup\": \"chart (1, 2)\", \"name\": \"chart (1, 2) 20191010\", \"uid\": \"30ef4c52-fff6-11e9-bf4b-8c859025e7f9\", \"x\": [-0.3, -0.25, -0.2, -0.15, -0.1, -0.05, 0.0, 0.05, 0.1, 0.15, 0.2, 0.25, 0.3, 0.35], \"y\": [0.1512, 0.1189, 0.0794, 0.0492, 0.0273, 0.0139, 0.0, 0.0017, 0.0095, 0.0234, 0.0444, 0.0695, 0.0951, 0.1206], \"yaxis\": \"y2\", \"type\": \"scatter\", \"xaxis\": \"x2\"}, {\"legendgroup\": \"chart (1, 2)\", \"name\": \"chart (1, 2) 20191011\", \"uid\": \"30efc6fa-fff6-11e9-9368-8c859025e7f9\", \"x\": [-0.3, -0.25, -0.2, -0.15, -0.1, -0.05, 0.0, 0.05, 0.1, 0.15, 0.2, 0.25, 0.3, 0.35], \"y\": [0.1344, 0.0961, 0.064, 0.0362, 0.0184, 0.0078, 0.0, 0.0062, 0.0188, 0.0376, 0.0605, 0.0865, 0.1112, null], \"yaxis\": \"y2\", \"type\": \"scatter\", \"xaxis\": \"x2\"}, {\"legendgroup\": \"chart (1, 2)\", \"name\": \"chart (1, 2) 20191014\", \"uid\": \"30f0314c-fff6-11e9-ac2f-8c859025e7f9\", \"x\": [-0.3, -0.25, -0.2, -0.15, -0.1, -0.05, 0.0, 0.05, 0.1, 0.15, 0.2, 0.25, 0.3, 0.35], \"y\": [0.1465, 0.0981, 0.0655, 0.0382, 0.0197, 0.0079, 0.0, 0.0051, 0.0187, 0.0388, 0.0616, 0.0886, 0.1126, 0.1369], \"yaxis\": \"y2\", \"type\": \"scatter\", \"xaxis\": \"x2\"}, {\"legendgroup\": \"chart (2, 1)\", \"name\": \"chart (2, 1) 20191015\", \"uid\": \"30f25708-fff6-11e9-a7b6-8c859025e7f9\", \"x\": [-0.3, -0.25, -0.2, -0.15, -0.1, -0.05, 0.0, 0.05, 0.1, 0.15, 0.2, 0.25, 0.3, 0.35], \"y\": [0.1537, 0.1025, 0.0625, 0.0315, 0.0144, 0.0044, 0.0, 0.0069, 0.0191, 0.0373, 0.0633, 0.0899, 0.1171, 0.1408], \"yaxis\": \"y3\", \"type\": \"scatter\", \"xaxis\": \"x3\"}, {\"legendgroup\": \"chart (2, 1)\", \"name\": \"chart (2, 1) 20191016\", \"uid\": \"30f2dbcc-fff6-11e9-a1b7-8c859025e7f9\", \"x\": [-0.3, -0.25, -0.2, -0.15, -0.1, -0.05, 0.0, 0.05, 0.1, 0.15, 0.2, 0.25, 0.3, 0.35], \"y\": [0.1568, 0.102, 0.0602, 0.0321, 0.016, 0.0076, 0.0, 0.005, 0.0172, 0.0373, 0.0612, 0.0871, 0.115, 0.1409], \"yaxis\": \"y3\", \"type\": \"scatter\", \"xaxis\": \"x3\"}, {\"legendgroup\": \"chart (2, 1)\", \"name\": \"chart (2, 1) 20191017\", \"uid\": \"30f412d2-fff6-11e9-8e08-8c859025e7f9\", \"x\": [-0.3, -0.25, -0.2, -0.15, -0.1, -0.05, 0.0, 0.05, 0.1, 0.15, 0.2, 0.25, 0.3, 0.35], \"y\": [0.1571, 0.1065, 0.0695, 0.0351, 0.0135, 0.0019, 0.0, 0.0019, 0.0123, 0.0317, 0.0574, 0.0836, 0.1117, null], \"yaxis\": \"y3\", \"type\": \"scatter\", \"xaxis\": \"x3\"}, {\"legendgroup\": \"chart (2, 1)\", \"name\": \"chart (2, 1) 20191018\", \"uid\": \"30f51ec0-fff6-11e9-bf3e-8c859025e7f9\", \"x\": [-0.3, -0.25, -0.2, -0.15, -0.1, -0.05, 0.0, 0.05, 0.1, 0.15, 0.2, 0.25, 0.3, 0.35], \"y\": [0.1775, 0.1188, 0.0773, 0.0399, 0.0186, 0.007, 0.0, 0.0058, 0.0198, 0.0382, 0.0648, 0.0921, 0.1183, 0.1422], \"yaxis\": \"y3\", \"type\": \"scatter\", \"xaxis\": \"x3\"}, {\"legendgroup\": \"chart (2, 1)\", \"name\": \"chart (2, 1) 20191021\", \"uid\": \"30f76694-fff6-11e9-be3c-8c859025e7f9\", \"x\": [-0.3, -0.25, -0.2, -0.15, -0.1, -0.05, 0.0, 0.05, 0.1, 0.15, 0.2, 0.25, 0.3, 0.35], \"y\": [0.1837, 0.1318, 0.0908, 0.0503, 0.0272, 0.0129, 0.0, 0.0031, 0.0153, 0.0357, 0.0645, 0.0954, 0.1235, 0.1518], \"yaxis\": \"y3\", \"type\": \"scatter\", \"xaxis\": \"x3\"}, {\"legendgroup\": \"chart (2, 2)\", \"name\": \"chart (2, 2) 20191022\", \"uid\": \"30f938b6-fff6-11e9-9719-8c859025e7f9\", \"x\": [-0.3, -0.25, -0.2, -0.15, -0.1, -0.05, 0.0, 0.05, 0.1, 0.15, 0.2, 0.25, 0.3, 0.35], \"y\": [0.1872, 0.1396, 0.0863, 0.0483, 0.0237, 0.0064, 0.0, 0.0003, 0.018, 0.042, 0.0674, 0.0975, 0.1281, null], \"yaxis\": \"y4\", \"type\": \"scatter\", \"xaxis\": \"x4\"}, {\"legendgroup\": \"chart (2, 2)\", \"name\": \"chart (2, 2) 20191023\", \"uid\": \"30f9c918-fff6-11e9-87da-8c859025e7f9\", \"x\": [-0.3, -0.25, -0.2, -0.15, -0.1, -0.05, 0.0, 0.05, 0.1, 0.15, 0.2, 0.25, 0.3, 0.35], \"y\": [0.196, 0.1387, 0.0822, 0.0425, 0.0172, 0.0031, 0.0, 0.0054, 0.0291, 0.0563, 0.0837, 0.1146, 0.1435, null], \"yaxis\": \"y4\", \"type\": \"scatter\", \"xaxis\": \"x4\"}, {\"legendgroup\": \"chart (2, 2)\", \"name\": \"chart (2, 2) 20191024\", \"uid\": \"30fa435a-fff6-11e9-8076-8c859025e7f9\", \"x\": [-0.3, -0.25, -0.2, -0.15, -0.1, -0.05, 0.0, 0.05, 0.1, 0.15, 0.2, 0.25, 0.3, 0.35], \"y\": [0.2059, 0.1417, 0.0859, 0.0459, 0.0178, 0.0032, 0.0, 0.0093, 0.0288, 0.0585, 0.089, 0.1179, 0.146, null], \"yaxis\": \"y4\", \"type\": \"scatter\", \"xaxis\": \"x4\"}, {\"legendgroup\": \"chart (2, 2)\", \"name\": \"chart (2, 2) 20191025\", \"uid\": \"30fb0f42-fff6-11e9-bc51-8c859025e7f9\", \"x\": [-0.3, -0.25, -0.2, -0.15, -0.1, -0.05, 0.0, 0.05, 0.1, 0.15, 0.2, 0.25, 0.3, 0.35], \"y\": [0.2326, 0.1679, 0.1108, 0.063, 0.0293, 0.0088, 0.0, 0.0059, 0.0329, 0.0668, 0.0979, 0.1336, null, null], \"yaxis\": \"y4\", \"type\": \"scatter\", \"xaxis\": \"x4\"}, {\"legendgroup\": \"chart (2, 2)\", \"name\": \"chart (2, 2) 20191028\", \"uid\": \"30fbdbd4-fff6-11e9-9d48-8c859025e7f9\", \"x\": [-0.3, -0.25, -0.2, -0.15, -0.1, -0.05, 0.0, 0.05, 0.1, 0.15, 0.2, 0.25, 0.3, 0.35], \"y\": [0.2222, 0.1754, null, 0.0642, 0.027, 0.006, 0.0, 0.0004, 0.0241, 0.0534, null, 0.1231, 0.1515, null], \"yaxis\": \"y4\", \"type\": \"scatter\", \"xaxis\": \"x4\"}], {\"annotations\": [{\"font\": {\"size\": 16}, \"showarrow\": false, \"text\": \"CBF20 20191001 - 20191007\", \"x\": 0.2275, \"xanchor\": \"center\", \"xref\": \"paper\", \"y\": 1.0, \"yanchor\": \"bottom\", \"yref\": \"paper\"}, {\"font\": {\"size\": 16}, \"showarrow\": false, \"text\": \"CBF20 20191008 - 20191014\", \"x\": 0.7725, \"xanchor\": \"center\", \"xref\": \"paper\", \"y\": 1.0, \"yanchor\": \"bottom\", \"yref\": \"paper\"}, {\"font\": {\"size\": 16}, \"showarrow\": false, \"text\": \"CBF20 20191015 - 20191021\", \"x\": 0.2275, \"xanchor\": \"center\", \"xref\": \"paper\", \"y\": 0.445, \"yanchor\": \"bottom\", \"yref\": \"paper\"}, {\"font\": {\"size\": 16}, \"showarrow\": false, \"text\": \"CBF20 20191022 - 20191028\", \"x\": 0.7725, \"xanchor\": \"center\", \"xref\": \"paper\", \"y\": 0.445, \"yanchor\": \"bottom\", \"yref\": \"paper\"}], \"xaxis\": {\"anchor\": \"y\", \"domain\": [0.0, 0.455], \"tickangle\": 45, \"ticktext\": [-0.3, -0.25, -0.2, -0.15, -0.1, -0.05, 0.0, 0.05, 0.1, 0.15, 0.2, 0.25, 0.3, 0.35], \"tickvals\": [-0.3, -0.25, -0.2, -0.15, -0.1, -0.05, 0.0, 0.05, 0.1, 0.15, 0.2, 0.25, 0.3, 0.35], \"type\": \"category\"}, \"yaxis\": {\"anchor\": \"x\", \"domain\": [0.555, 1.0], \"title\": \"vol skew\"}, \"xaxis2\": {\"anchor\": \"y2\", \"domain\": [0.545, 1.0], \"tickangle\": 45, \"ticktext\": [-0.3, -0.25, -0.2, -0.15, -0.1, -0.05, 0.0, 0.05, 0.1, 0.15, 0.2, 0.25, 0.3, 0.35], \"tickvals\": [-0.3, -0.25, -0.2, -0.15, -0.1, -0.05, 0.0, 0.05, 0.1, 0.15, 0.2, 0.25, 0.3, 0.35], \"type\": \"category\"}, \"yaxis2\": {\"anchor\": \"x2\", \"domain\": [0.555, 1.0], \"title\": \"vol skew\"}, \"xaxis3\": {\"anchor\": \"y3\", \"domain\": [0.0, 0.455], \"tickangle\": 45, \"ticktext\": [-0.3, -0.25, -0.2, -0.15, -0.1, -0.05, 0.0, 0.05, 0.1, 0.15, 0.2, 0.25, 0.3, 0.35], \"tickvals\": [-0.3, -0.25, -0.2, -0.15, -0.1, -0.05, 0.0, 0.05, 0.1, 0.15, 0.2, 0.25, 0.3, 0.35], \"type\": \"category\"}, \"yaxis3\": {\"anchor\": \"x3\", \"domain\": [0.0, 0.445], \"title\": \"vol skew\"}, \"xaxis4\": {\"anchor\": \"y4\", \"domain\": [0.545, 1.0], \"tickangle\": 45, \"ticktext\": [-0.3, -0.25, -0.2, -0.15, -0.1, -0.05, 0.0, 0.05, 0.1, 0.15, 0.2, 0.25, 0.3, 0.35], \"tickvals\": [-0.3, -0.25, -0.2, -0.15, -0.1, -0.05, 0.0, 0.05, 0.1, 0.15, 0.2, 0.25, 0.3, 0.35], \"type\": \"category\"}, \"yaxis4\": {\"anchor\": \"x4\", \"domain\": [0.0, 0.445], \"title\": \"vol skew\"}, \"font\": {\"family\": \"Open Sans, sans-serif\"}, \"margin\": {\"b\": 55, \"l\": 45, \"r\": 15, \"t\": 50}, \"title\": \"Skew plots<br>\", \"showlegend\": true, \"hovermode\": \"x\", \"autosize\": true, \"width\": 900, \"height\": 800, \"plot_bgcolor\": \"#EFECEA\", \"bargap\": 0.05}, {\"showLink\": true, \"linkText\": \"Export to plot.ly\"})});</script>"
      ]
     },
     "metadata": {},
     "output_type": "display_data"
    },
    {
     "data": {
      "application/vnd.plotly.v1+json": {
       "data": [
        {
         "legendgroup": "chart (1, 1)",
         "name": "chart (1, 1) 20191029",
         "type": "scatter",
         "uid": "310bd1ba-fff6-11e9-b9a9-8c859025e7f9",
         "x": [
          -0.3,
          -0.25,
          -0.2,
          -0.15,
          -0.1,
          -0.05,
          0,
          0.05,
          0.1,
          0.15,
          0.2,
          0.25,
          0.3,
          0.35
         ],
         "xaxis": "x",
         "y": [
          0.2435,
          0.1789,
          0.1224,
          0.0735,
          0.0348,
          0.0096,
          0,
          -0.0019,
          0.0181,
          0.0458,
          0.0786,
          0.113,
          0.1455,
          null
         ],
         "yaxis": "y"
        },
        {
         "legendgroup": "chart (1, 1)",
         "name": "chart (1, 1) 20191030",
         "type": "scatter",
         "uid": "310df710-fff6-11e9-8342-8c859025e7f9",
         "x": [
          -0.3,
          -0.25,
          -0.2,
          -0.15,
          -0.1,
          -0.05,
          0,
          0.05,
          0.1,
          0.15,
          0.2,
          0.25,
          0.3,
          0.35
         ],
         "xaxis": "x",
         "y": [
          0.2636,
          0.1837,
          0.1235,
          0.0745,
          0.034,
          0.009,
          0,
          -0.0068,
          0.0069,
          0.036,
          0.0666,
          0.1056,
          0.1363,
          null
         ],
         "yaxis": "y"
        },
        {
         "legendgroup": "chart (1, 1)",
         "name": "chart (1, 1) 20191031",
         "type": "scatter",
         "uid": "310e8bda-fff6-11e9-a184-8c859025e7f9",
         "x": [
          -0.3,
          -0.25,
          -0.2,
          -0.15,
          -0.1,
          -0.05,
          0,
          0.05,
          0.1,
          0.15,
          0.2,
          0.25,
          0.3,
          0.35
         ],
         "xaxis": "x",
         "y": [
          0.2763,
          0.1934,
          0.1359,
          0.0794,
          0.0406,
          0.0154,
          0,
          0.0036,
          0.0194,
          0.0492,
          0.087,
          0.1243,
          0.1582,
          null
         ],
         "yaxis": "y"
        }
       ],
       "layout": {
        "annotations": [
         {
          "font": {
           "size": 16
          },
          "showarrow": false,
          "text": "CBF20 20191029 - 20191031",
          "x": 0.2275,
          "xanchor": "center",
          "xref": "paper",
          "y": 1,
          "yanchor": "bottom",
          "yref": "paper"
         }
        ],
        "autosize": true,
        "bargap": 0.05,
        "font": {
         "family": "Open Sans, sans-serif"
        },
        "height": 800,
        "hovermode": "x",
        "margin": {
         "b": 55,
         "l": 45,
         "r": 15,
         "t": 50
        },
        "plot_bgcolor": "#EFECEA",
        "showlegend": true,
        "title": "Skew plots<br>",
        "width": 900,
        "xaxis": {
         "anchor": "y",
         "domain": [
          0,
          0.455
         ],
         "tickangle": 45,
         "ticktext": [
          -0.3,
          -0.25,
          -0.2,
          -0.15,
          -0.1,
          -0.05,
          0,
          0.05,
          0.1,
          0.15,
          0.2,
          0.25,
          0.3,
          0.35
         ],
         "tickvals": [
          -0.3,
          -0.25,
          -0.2,
          -0.15,
          -0.1,
          -0.05,
          0,
          0.05,
          0.1,
          0.15,
          0.2,
          0.25,
          0.3,
          0.35
         ],
         "type": "category"
        },
        "xaxis2": {
         "anchor": "y2",
         "domain": [
          0.545,
          1
         ]
        },
        "xaxis3": {
         "anchor": "y3",
         "domain": [
          0,
          0.455
         ]
        },
        "xaxis4": {
         "anchor": "y4",
         "domain": [
          0.545,
          1
         ]
        },
        "yaxis": {
         "anchor": "x",
         "domain": [
          0.555,
          1
         ],
         "title": "vol skew"
        },
        "yaxis2": {
         "anchor": "x2",
         "domain": [
          0.555,
          1
         ]
        },
        "yaxis3": {
         "anchor": "x3",
         "domain": [
          0,
          0.445
         ]
        },
        "yaxis4": {
         "anchor": "x4",
         "domain": [
          0,
          0.445
         ]
        }
       }
      },
      "text/html": [
       "<div id=\"f86e3892-ebb1-4979-98c9-c681bcfb27d7\" style=\"height: 800px; width: 900px;\" class=\"plotly-graph-div\"></div><script type=\"text/javascript\">require([\"plotly\"], function(Plotly) { window.PLOTLYENV=window.PLOTLYENV || {};window.PLOTLYENV.BASE_URL=\"https://plot.ly\";Plotly.newPlot(\"f86e3892-ebb1-4979-98c9-c681bcfb27d7\", [{\"legendgroup\": \"chart (1, 1)\", \"name\": \"chart (1, 1) 20191029\", \"uid\": \"310bd1ba-fff6-11e9-b9a9-8c859025e7f9\", \"x\": [-0.3, -0.25, -0.2, -0.15, -0.1, -0.05, 0.0, 0.05, 0.1, 0.15, 0.2, 0.25, 0.3, 0.35], \"y\": [0.2435, 0.1789, 0.1224, 0.0735, 0.0348, 0.0096, 0.0, -0.0019, 0.0181, 0.0458, 0.0786, 0.113, 0.1455, null], \"yaxis\": \"y\", \"type\": \"scatter\", \"xaxis\": \"x\"}, {\"legendgroup\": \"chart (1, 1)\", \"name\": \"chart (1, 1) 20191030\", \"uid\": \"310df710-fff6-11e9-8342-8c859025e7f9\", \"x\": [-0.3, -0.25, -0.2, -0.15, -0.1, -0.05, 0.0, 0.05, 0.1, 0.15, 0.2, 0.25, 0.3, 0.35], \"y\": [0.2636, 0.1837, 0.1235, 0.0745, 0.034, 0.009, 0.0, -0.0068, 0.0069, 0.036, 0.0666, 0.1056, 0.1363, null], \"yaxis\": \"y\", \"type\": \"scatter\", \"xaxis\": \"x\"}, {\"legendgroup\": \"chart (1, 1)\", \"name\": \"chart (1, 1) 20191031\", \"uid\": \"310e8bda-fff6-11e9-a184-8c859025e7f9\", \"x\": [-0.3, -0.25, -0.2, -0.15, -0.1, -0.05, 0.0, 0.05, 0.1, 0.15, 0.2, 0.25, 0.3, 0.35], \"y\": [0.2763, 0.1934, 0.1359, 0.0794, 0.0406, 0.0154, 0.0, 0.0036, 0.0194, 0.0492, 0.087, 0.1243, 0.1582, null], \"yaxis\": \"y\", \"type\": \"scatter\", \"xaxis\": \"x\"}], {\"annotations\": [{\"font\": {\"size\": 16}, \"showarrow\": false, \"text\": \"CBF20 20191029 - 20191031\", \"x\": 0.2275, \"xanchor\": \"center\", \"xref\": \"paper\", \"y\": 1.0, \"yanchor\": \"bottom\", \"yref\": \"paper\"}], \"xaxis\": {\"anchor\": \"y\", \"domain\": [0.0, 0.455], \"tickangle\": 45, \"ticktext\": [-0.3, -0.25, -0.2, -0.15, -0.1, -0.05, 0.0, 0.05, 0.1, 0.15, 0.2, 0.25, 0.3, 0.35], \"tickvals\": [-0.3, -0.25, -0.2, -0.15, -0.1, -0.05, 0.0, 0.05, 0.1, 0.15, 0.2, 0.25, 0.3, 0.35], \"type\": \"category\"}, \"yaxis\": {\"anchor\": \"x\", \"domain\": [0.555, 1.0], \"title\": \"vol skew\"}, \"xaxis2\": {\"anchor\": \"y2\", \"domain\": [0.545, 1.0]}, \"yaxis2\": {\"anchor\": \"x2\", \"domain\": [0.555, 1.0]}, \"xaxis3\": {\"anchor\": \"y3\", \"domain\": [0.0, 0.455]}, \"yaxis3\": {\"anchor\": \"x3\", \"domain\": [0.0, 0.445]}, \"xaxis4\": {\"anchor\": \"y4\", \"domain\": [0.545, 1.0]}, \"yaxis4\": {\"anchor\": \"x4\", \"domain\": [0.0, 0.445]}, \"font\": {\"family\": \"Open Sans, sans-serif\"}, \"margin\": {\"b\": 55, \"l\": 45, \"r\": 15, \"t\": 50}, \"title\": \"Skew plots<br>\", \"showlegend\": true, \"hovermode\": \"x\", \"autosize\": true, \"width\": 900, \"height\": 800, \"plot_bgcolor\": \"#EFECEA\", \"bargap\": 0.05}, {\"showLink\": true, \"linkText\": \"Export to plot.ly\"})});</script>"
      ],
      "text/vnd.plotly.v1+html": [
       "<div id=\"f86e3892-ebb1-4979-98c9-c681bcfb27d7\" style=\"height: 800px; width: 900px;\" class=\"plotly-graph-div\"></div><script type=\"text/javascript\">require([\"plotly\"], function(Plotly) { window.PLOTLYENV=window.PLOTLYENV || {};window.PLOTLYENV.BASE_URL=\"https://plot.ly\";Plotly.newPlot(\"f86e3892-ebb1-4979-98c9-c681bcfb27d7\", [{\"legendgroup\": \"chart (1, 1)\", \"name\": \"chart (1, 1) 20191029\", \"uid\": \"310bd1ba-fff6-11e9-b9a9-8c859025e7f9\", \"x\": [-0.3, -0.25, -0.2, -0.15, -0.1, -0.05, 0.0, 0.05, 0.1, 0.15, 0.2, 0.25, 0.3, 0.35], \"y\": [0.2435, 0.1789, 0.1224, 0.0735, 0.0348, 0.0096, 0.0, -0.0019, 0.0181, 0.0458, 0.0786, 0.113, 0.1455, null], \"yaxis\": \"y\", \"type\": \"scatter\", \"xaxis\": \"x\"}, {\"legendgroup\": \"chart (1, 1)\", \"name\": \"chart (1, 1) 20191030\", \"uid\": \"310df710-fff6-11e9-8342-8c859025e7f9\", \"x\": [-0.3, -0.25, -0.2, -0.15, -0.1, -0.05, 0.0, 0.05, 0.1, 0.15, 0.2, 0.25, 0.3, 0.35], \"y\": [0.2636, 0.1837, 0.1235, 0.0745, 0.034, 0.009, 0.0, -0.0068, 0.0069, 0.036, 0.0666, 0.1056, 0.1363, null], \"yaxis\": \"y\", \"type\": \"scatter\", \"xaxis\": \"x\"}, {\"legendgroup\": \"chart (1, 1)\", \"name\": \"chart (1, 1) 20191031\", \"uid\": \"310e8bda-fff6-11e9-a184-8c859025e7f9\", \"x\": [-0.3, -0.25, -0.2, -0.15, -0.1, -0.05, 0.0, 0.05, 0.1, 0.15, 0.2, 0.25, 0.3, 0.35], \"y\": [0.2763, 0.1934, 0.1359, 0.0794, 0.0406, 0.0154, 0.0, 0.0036, 0.0194, 0.0492, 0.087, 0.1243, 0.1582, null], \"yaxis\": \"y\", \"type\": \"scatter\", \"xaxis\": \"x\"}], {\"annotations\": [{\"font\": {\"size\": 16}, \"showarrow\": false, \"text\": \"CBF20 20191029 - 20191031\", \"x\": 0.2275, \"xanchor\": \"center\", \"xref\": \"paper\", \"y\": 1.0, \"yanchor\": \"bottom\", \"yref\": \"paper\"}], \"xaxis\": {\"anchor\": \"y\", \"domain\": [0.0, 0.455], \"tickangle\": 45, \"ticktext\": [-0.3, -0.25, -0.2, -0.15, -0.1, -0.05, 0.0, 0.05, 0.1, 0.15, 0.2, 0.25, 0.3, 0.35], \"tickvals\": [-0.3, -0.25, -0.2, -0.15, -0.1, -0.05, 0.0, 0.05, 0.1, 0.15, 0.2, 0.25, 0.3, 0.35], \"type\": \"category\"}, \"yaxis\": {\"anchor\": \"x\", \"domain\": [0.555, 1.0], \"title\": \"vol skew\"}, \"xaxis2\": {\"anchor\": \"y2\", \"domain\": [0.545, 1.0]}, \"yaxis2\": {\"anchor\": \"x2\", \"domain\": [0.555, 1.0]}, \"xaxis3\": {\"anchor\": \"y3\", \"domain\": [0.0, 0.455]}, \"yaxis3\": {\"anchor\": \"x3\", \"domain\": [0.0, 0.445]}, \"xaxis4\": {\"anchor\": \"y4\", \"domain\": [0.545, 1.0]}, \"yaxis4\": {\"anchor\": \"x4\", \"domain\": [0.0, 0.445]}, \"font\": {\"family\": \"Open Sans, sans-serif\"}, \"margin\": {\"b\": 55, \"l\": 45, \"r\": 15, \"t\": 50}, \"title\": \"Skew plots<br>\", \"showlegend\": true, \"hovermode\": \"x\", \"autosize\": true, \"width\": 900, \"height\": 800, \"plot_bgcolor\": \"#EFECEA\", \"bargap\": 0.05}, {\"showLink\": true, \"linkText\": \"Export to plot.ly\"})});</script>"
      ]
     },
     "metadata": {},
     "output_type": "display_data"
    }
   ],
   "source": [
    "grid_plot=True\n",
    "# clist = [c for c in all_contracts if (c[:2]==f'{SYMBOL_TO_RESEARCH}') & (int(c[-2:])>=19)]\n",
    "clist = [c for c in df_iv_final.symbol.unique() if (c[:2]==f'{SYMBOL_TO_RESEARCH}') & (int(c[-2:])>=19)]\n",
    "for c in clist:\n",
    "    dft = df_iv_final[df_iv_final.symbol==c]\n",
    "    if len(dft)<=0:\n",
    "        print(f'no data for symbol {c}')\n",
    "        continue\n",
    "    if grid_plot:\n",
    "        graph_skew_subplots(df_iv_final[df_iv_final.symbol==c])\n",
    "    else:\n",
    "        rls = graph_skew(df_iv_final[df_iv_final.symbol==c],do_plot=True)        "
   ]
  },
  {
   "cell_type": "markdown",
   "metadata": {},
   "source": [
    "## END"
   ]
  }
 ],
 "metadata": {
  "kernelspec": {
   "display_name": "Python 3",
   "language": "python",
   "name": "python3"
  },
  "language_info": {
   "codemirror_mode": {
    "name": "ipython",
    "version": 3
   },
   "file_extension": ".py",
   "mimetype": "text/x-python",
   "name": "python",
   "nbconvert_exporter": "python",
   "pygments_lexer": "ipython3",
   "version": "3.6.5"
  }
 },
 "nbformat": 4,
 "nbformat_minor": 2
}
