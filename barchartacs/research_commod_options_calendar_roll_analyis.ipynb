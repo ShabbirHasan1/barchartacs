{
 "cells": [
  {
   "cell_type": "markdown",
   "metadata": {},
   "source": [
    "## Research commodity options calendar spreads, especially in ES\n",
    "### Try to optimize rolling portfolio protection"
   ]
  },
  {
   "cell_type": "markdown",
   "metadata": {},
   "source": [
    "## IF YOU WANT TO SEE WARNINGS, COMMENT THIS OUT"
   ]
  },
  {
   "cell_type": "code",
   "execution_count": null,
   "metadata": {},
   "outputs": [],
   "source": [
    "import warnings\n",
    "warnings.filterwarnings(\"ignore\")"
   ]
  },
  {
   "cell_type": "code",
   "execution_count": null,
   "metadata": {
    "scrolled": true
   },
   "outputs": [],
   "source": [
    "import zipfile\n",
    "import glob\n",
    "import pandas as pd\n",
    "import numpy as np\n",
    "\n",
    "from argparse import ArgumentParser\n",
    "from argparse import RawDescriptionHelpFormatter\n",
    "import sys\n",
    "import os\n",
    "if  not './' in sys.path:\n",
    "    sys.path.append('./')\n",
    "if  not '../' in sys.path:\n",
    "    sys.path.append('../')\n",
    "\n",
    "from barchartacs import build_db\n",
    "from barchartacs import db_info\n",
    "import plotly.graph_objs as go\n",
    "from plotly.offline import  init_notebook_mode, iplot\n",
    "init_notebook_mode(connected=True)\n",
    "import plotly.tools as tls\n",
    "from plotly.graph_objs.layout import Font,Margin\n",
    "from IPython import display\n",
    "\n",
    "import datetime\n",
    "import io\n",
    "from tqdm import tqdm,tqdm_notebook\n",
    "from barchartacs import pg_pandas as pg\n",
    "import mibian\n",
    "import py_vollib\n",
    "import importlib\n",
    "from py_vollib import black\n",
    "from py_vollib.black import implied_volatility\n",
    "import ipdb,pdb\n",
    "import traceback\n",
    "import pandas_datareader.data as pdr\n",
    "from scipy.stats import norm\n",
    "\n",
    "from ipysheet import from_dataframe,to_dataframe\n",
    "# importlib.reload(build_db)"
   ]
  },
  {
   "cell_type": "code",
   "execution_count": null,
   "metadata": {},
   "outputs": [],
   "source": [
    "dir(mibian.GK)"
   ]
  },
  {
   "cell_type": "markdown",
   "metadata": {},
   "source": [
    "### important global variables"
   ]
  },
  {
   "cell_type": "code",
   "execution_count": null,
   "metadata": {},
   "outputs": [],
   "source": [
    "\n",
    "DEBUG_IT=False\n",
    "opttab = 'sec_schema.options_table'\n",
    "futtab = 'sec_schema.underlying_table'\n",
    "SYMBOL_TO_RESEARCH = 'ES'\n",
    "STRIKE_DIVISORS = {}\n",
    "USE_PYVOL = True\n",
    "\n",
    "# df_expiry_dates_additions = pd.read_csv('df_expiry_dates_additions.csv')\n",
    "df_expiry_dates_additions = pd.read_csv('live_option_expirations.csv')\n"
   ]
  },
  {
   "cell_type": "markdown",
   "metadata": {},
   "source": [
    "#### get all contracts in the options database"
   ]
  },
  {
   "cell_type": "code",
   "execution_count": null,
   "metadata": {
    "scrolled": false
   },
   "outputs": [],
   "source": [
    "pga = db_info.get_db_info()\n",
    "print(f\"futtab max date: {pga.get_sql(f'select max(settle_date) from {futtab}')}\")\n",
    "print(f\"opttab max date: {pga.get_sql(f'select max(settle_date) from {opttab}')}\")\n"
   ]
  },
  {
   "cell_type": "code",
   "execution_count": null,
   "metadata": {},
   "outputs": [],
   "source": [
    "def plotly_plot(df_in,x_column,plot_title=None,\n",
    "                y_left_label=None,y_right_label=None,\n",
    "                bar_plot=False,width=800,height=400,\n",
    "                number_of_ticks_display=20,\n",
    "                yaxis2_cols=None,\n",
    "                x_value_labels=None):\n",
    "    ya2c = [] if yaxis2_cols is None else yaxis2_cols\n",
    "    ycols = [c for c in df_in.columns.values if c != x_column]\n",
    "    # create tdvals, which will have x axis labels\n",
    "    td = list(df_in[x_column]) \n",
    "    nt = len(df_in)-1 if number_of_ticks_display > len(df_in) else number_of_ticks_display\n",
    "    spacing = len(td)//nt\n",
    "    tdvals = td[::spacing]\n",
    "    tdtext = tdvals\n",
    "    if x_value_labels is not None:\n",
    "        tdtext = [x_value_labels[i] for i in tdvals]\n",
    "    \n",
    "    # create data for graph\n",
    "    data = []\n",
    "    # iterate through all ycols to append to data that gets passed to go.Figure\n",
    "    for ycol in ycols:\n",
    "        if bar_plot:\n",
    "            b = go.Bar(x=td,y=df_in[ycol],name=ycol,yaxis='y' if ycol not in ya2c else 'y2')\n",
    "        else:\n",
    "            b = go.Scatter(x=td,y=df_in[ycol],name=ycol,yaxis='y' if ycol not in ya2c else 'y2')\n",
    "        data.append(b)\n",
    "\n",
    "    # create a layout\n",
    "    layout = go.Layout(\n",
    "        title=plot_title,\n",
    "        xaxis=dict(\n",
    "            ticktext=tdtext,\n",
    "            tickvals=tdvals,\n",
    "            tickangle=45,\n",
    "            type='category'),\n",
    "        yaxis=dict(\n",
    "            title='y main' if y_left_label is None else y_left_label\n",
    "        ),\n",
    "        yaxis2=dict(\n",
    "            title='y alt' if y_right_label is None else y_right_label,\n",
    "            overlaying='y',\n",
    "            side='right'),\n",
    "        autosize=False,\n",
    "        width=width,\n",
    "        height=height,\n",
    "        margin=Margin(\n",
    "            b=100\n",
    "        )        \n",
    "    )\n",
    "\n",
    "    fig = go.Figure(data=data,layout=layout)\n",
    "    fig.update_layout(\n",
    "        title={\n",
    "            'text': plot_title,\n",
    "            'y':0.9,\n",
    "            'x':0.5,\n",
    "            'xanchor': 'center',\n",
    "            'yanchor': 'top'})\n",
    "    return fig\n",
    "\n",
    "def plotly_shaded_rectangles(beg_end_date_tuple_list,fig):\n",
    "    ld_shapes = []\n",
    "    for beg_end_date_tuple in beg_end_date_tuple_list:\n",
    "        ld_beg = beg_end_date_tuple[0]\n",
    "        ld_end = beg_end_date_tuple[1]\n",
    "        ld_shape = dict(\n",
    "            type=\"rect\",\n",
    "            # x-reference is assigned to the x-values\n",
    "            xref=\"x\",\n",
    "            # y-reference is assigned to the plot paper [0,1]\n",
    "            yref=\"paper\",\n",
    "            x0=ld_beg[i],\n",
    "            y0=0,\n",
    "            x1=ld_end[i],\n",
    "            y1=1,\n",
    "            fillcolor=\"LightSalmon\",\n",
    "            opacity=0.5,\n",
    "            layer=\"below\",\n",
    "            line_width=0,\n",
    "        )\n",
    "        ld_shapes.append(ld_shape)\n",
    "\n",
    "    fig.update_layout(shapes=ld_shapes)\n",
    "    return fig"
   ]
  },
  {
   "cell_type": "code",
   "execution_count": null,
   "metadata": {},
   "outputs": [],
   "source": [
    "def _next_monthyear_code(contract):\n",
    "    code_val = contract[-3]\n",
    "    code_num = DICT_MONTH_NUMS[code_val]\n",
    "    y = int(contract[-2:])\n",
    "    if code_num+1>12:\n",
    "        next_code_num = 1\n",
    "        next_y = y + 1\n",
    "    else:\n",
    "        next_code_num = code_num+1\n",
    "        next_y = y\n",
    "    next_code_val = MONTH_CODES[next_code_num-1]\n",
    "    next_contract = contract[0:-3] + next_code_val + '%02d' %(next_y)\n",
    "    return next_contract\n",
    "\n",
    "def get_postgres_data(contract,strike_divisor=None):\n",
    "    '''\n",
    "    Get options and underlying data for ONLY ONE CONTRACT\n",
    "    '''\n",
    "    osql = f\"select * from {opttab} where symbol='{contract}';\"\n",
    "    dfo = pga.get_sql(osql)\n",
    "    if len(dfo)<10:\n",
    "        e = f'''\n",
    "        get_postgres_data ERROR: not enough option data for contract {contract} \n",
    "        '''\n",
    "        raise ValueError(e)\n",
    "    num_settle_days = len(dfo.settle_date.unique())\n",
    "    u_contract = contract\n",
    "    for i in range(12):\n",
    "        usql = f\"select * from {futtab} where symbol='{u_contract}';\"\n",
    "        dfu = pga.get_sql(usql)\n",
    "        if len(dfu) < num_settle_days:\n",
    "            u_contract = _next_monthyear_code(u_contract)\n",
    "            print(f'trying contract {u_contract}')\n",
    "        else:\n",
    "            break\n",
    "\n",
    "    if len(dfu)< num_settle_days:\n",
    "        e = f'''\n",
    "        get_postgres_data ERROR: not enough underlying days found for options contract {contract} \n",
    "        where len(underlying) = {len(dfu)} and num_settle_days = {num_settle_days}\n",
    "        '''\n",
    "        raise ValueError(e)\n",
    "    # Merge options and futures data\n",
    "    dfu = dfu.rename(columns={'symbol':'u_symbol'})\n",
    "    df = dfo.merge(dfu,how='inner',on=['settle_date'])\n",
    "    # Get options expiration dates\n",
    "    df_expiry_dates = dfo[['symbol','settle_date']].groupby('symbol',as_index=False).max()\n",
    "    df_additions = df_expiry_dates_additions[df_expiry_dates_additions.symbol==contract]\n",
    "    df_additions = df_additions[['symbol','yyyymmdd_option']].rename(columns={'yyyymmdd_option':'settle_date'})\n",
    "    additional_symbols = df_additions.symbol.values\n",
    "    df_expiry_dates = df_expiry_dates[~df_expiry_dates.symbol.isin(additional_symbols)]\n",
    "    df_expiry_dates = df_expiry_dates.append(df_additions).sort_values('symbol').copy()\n",
    "    if strike_divisor is not None:\n",
    "        df.strike = df.strike/strike_divisor\n",
    "    return df,df_expiry_dates"
   ]
  },
  {
   "cell_type": "markdown",
   "metadata": {},
   "source": [
    "### Methods to build implied volatilites"
   ]
  },
  {
   "cell_type": "code",
   "execution_count": null,
   "metadata": {},
   "outputs": [],
   "source": [
    "def _get_contract_number_from_symbol(symbol):\n",
    "    c = symbol[0:2]\n",
    "    if c in ['CL','CB','ES','GE','NG']:\n",
    "        return 2\n",
    "    return 2"
   ]
  },
  {
   "cell_type": "code",
   "execution_count": null,
   "metadata": {},
   "outputs": [],
   "source": [
    "def lam_pyvol(r):\n",
    "    try:\n",
    "        return implied_volatility.implied_volatility(r.close_x,r.close_y,r.strike,.02,r.dte/365, r.pc.lower())\n",
    "    except:\n",
    "        return -1\n",
    "# lam_pyvol = lambda r:implied_volatility.implied_volatility(r.close_x,r.close_y,r.strike,.02,r.dte/365, r.pc.lower())\n",
    "lam_mibian = lambda r:mibian.BS([r.close_y,r.strike,2,r.dte], callPrice=r.close_x).impliedVolatility\n",
    "\n",
    "def get_implieds(df,df_expiry_dates,contract,contract_num=2):\n",
    "    df2 = df[['symbol','contract_num','pc','settle_date','strike','close_x','close_y']]\n",
    "    df2 = df2[(((df2.pc=='C' )& (df2.strike>=df2.close_y)) | ((df2.pc=='P' ) & (df2.strike<df2.close_y)))  & (df2.symbol.str.contains(contract))]\n",
    "    cnum = _get_contract_number_from_symbol(contract)\n",
    "    if contract_num is not None:\n",
    "        df2 = df2[df2.contract_num==contract_num]\n",
    "    if len(df2)<1:\n",
    "        raise ValueError(f\"get_implieds: no contracts = contract_num {contract_num}\")\n",
    "    phigh = df2.close_y.max()\n",
    "    plow = df2.close_y.min()\n",
    "    high_strike = round(phigh * 1.3)\n",
    "    low_strike = round(plow * .7)\n",
    "    df2 = df2[(df2.strike>=low_strike) & (df2.strike<=high_strike)]\n",
    "\n",
    "    df9 = df2[df2.symbol==contract]\n",
    "    df9 = df9.merge(df_expiry_dates.rename(columns={'settle_date':'expiry'}),on='symbol',how='inner')\n",
    "    df9['syear'] = df9.settle_date.astype(str).str.slice(0,4).astype(int)\n",
    "    df9['smon'] = df9.settle_date.astype(str).str.slice(4,6).astype(int)\n",
    "    df9['sday'] = df9.settle_date.astype(str).str.slice(6,8).astype(int)\n",
    "    df9['eyear'] = df9.expiry.astype(str).str.slice(0,4).astype(int)\n",
    "    df9['emon'] = df9.expiry.astype(str).str.slice(4,6).astype(int)\n",
    "    df9['eday'] = df9.expiry.astype(str).str.slice(6,8).astype(int)\n",
    "    df9['sdatetime'] = df9.apply(lambda r:datetime.datetime(r.syear,r.smon,r.sday),axis=1)\n",
    "    df9['edatetime'] = df9.apply(lambda r:datetime.datetime(r.eyear,r.emon,r.eday),axis=1)\n",
    "    df9['dte'] = df9.edatetime - df9.sdatetime\n",
    "    df9.dte = df9.dte.dt.days\n",
    "    df9 = df9[['symbol','settle_date','pc','contract_num','strike','close_x','close_y','dte']]\n",
    "    df10 = df9.iloc[:len(df9)].copy()\n",
    "    df10.index = list(range(len(df10)))\n",
    "    if USE_PYVOL:\n",
    "        df10['iv'] = df10.apply(lam_pyvol,axis=1)\n",
    "    else:\n",
    "        n = 100\n",
    "        for i in tqdm_notebook(np.arange(0,len(df10)-n,n)):\n",
    "                df10.loc[i:i+n,'iv'] = df10.loc[i:i+n].apply(lam_mibian,axis=1)\n",
    "        print(f'doing remaining {datetime.datetime.now()}')\n",
    "        i = df10[df10.iv.isna()].index[0]\n",
    "        df10.loc[i:,'iv'] = df10.loc[i:].apply(lam_mbian,axis=1)\n",
    "        print(f'done with remaining {datetime.datetime.now()}')\n",
    "    return df10\n",
    "\n"
   ]
  },
  {
   "cell_type": "markdown",
   "metadata": {},
   "source": [
    "#### example of using mibian for options calcs (we use py_vollib instead)"
   ]
  },
  {
   "cell_type": "code",
   "execution_count": null,
   "metadata": {},
   "outputs": [],
   "source": [
    "def _test_mibian():\n",
    "    underlying=1.4565\n",
    "    strike=1.45\n",
    "    interest = 1\n",
    "    days=30\n",
    "    opt_info = [underlying,strike,interest,days]\n",
    "    c = mibian.BS(opt_info, volatility=20)\n",
    "    print(c.callPrice,\n",
    "    c.putPrice,\n",
    "    c.callDelta,\n",
    "    c.putDelta,\n",
    "    c.callDelta2,\n",
    "    c.putDelta2,\n",
    "    c.callTheta,\n",
    "    c.putTheta,\n",
    "    c.callRho,\n",
    "    c.putRho,\n",
    "    c.vega,\n",
    "    c.gamma)\n",
    "\n",
    "\n",
    "    co = mibian.BS(opt_info, callPrice=c.callPrice)\n",
    "    co.impliedVolatility"
   ]
  },
  {
   "cell_type": "code",
   "execution_count": null,
   "metadata": {},
   "outputs": [],
   "source": [
    "_test_mibian()"
   ]
  },
  {
   "cell_type": "markdown",
   "metadata": {},
   "source": [
    "#### Show simple example of using py_vol package"
   ]
  },
  {
   "cell_type": "code",
   "execution_count": null,
   "metadata": {},
   "outputs": [],
   "source": [
    "def _test_py_vollib():\n",
    "    #CL,Q2019,560P,07/02/2019,0.6,1.61,0.54,1.54,1997,4465\n",
    "    F = 56.25\n",
    "    K = 56\n",
    "    sigma = .366591539\n",
    "    flag = 'p'\n",
    "    t = 15/365.0\n",
    "    r = .025\n",
    "    discounted_call_price = black.black(flag, F, K, t, r, sigma)\n",
    "    dcp = 1.54\n",
    "    ivpy = implied_volatility.implied_volatility(dcp, F, K, r, t, flag)\n",
    "    ivmn = mibian.BS([F,K,2.5,15], callPrice=dcp).impliedVolatility\n",
    "    return discounted_call_price,ivpy,ivmn\n"
   ]
  },
  {
   "cell_type": "code",
   "execution_count": null,
   "metadata": {},
   "outputs": [],
   "source": [
    "_test_py_vollib()"
   ]
  },
  {
   "cell_type": "markdown",
   "metadata": {},
   "source": [
    "### Method to get closest-to-the-money and at-the-money (atm) vols"
   ]
  },
  {
   "cell_type": "code",
   "execution_count": null,
   "metadata": {},
   "outputs": [],
   "source": [
    "def get_closest_to_the_money_vols(df_implied_vols,\n",
    "                 opt_close_col='close_x',\n",
    "                 fut_close_col = 'close_y',\n",
    "                 iv_col = 'iv'):\n",
    "    df_in = df_implied_vols.copy()\n",
    "    df_in['amt_away_from_money'] = df_in.apply(lambda r: abs(r[fut_close_col]-r.strike),axis=1)\n",
    "    gb_cols = ['settle_date','symbol']\n",
    "    df_min_amt_away = df_in[gb_cols + ['amt_away_from_money']].groupby(gb_cols,as_index=False).min()\n",
    "    df_ret = df_min_amt_away.merge(\n",
    "        df_in,on=gb_cols + ['amt_away_from_money'],how='inner')\n",
    "    df_lowest_iv = df_ret[['settle_date','symbol','iv']].groupby(\n",
    "        ['settle_date','symbol'],\n",
    "        as_index=False).min()\n",
    "    df_ret = df_ret.merge(df_lowest_iv,on=['settle_date','symbol','iv'],how='inner')\n",
    "    return df_ret\n"
   ]
  },
  {
   "cell_type": "code",
   "execution_count": null,
   "metadata": {},
   "outputs": [],
   "source": [
    "def get_even_moneyness_strikes(df_implieds,low_range=-.3,high_range=.4,range_increment=.05,rounding=6):\n",
    "    df10 = df_implieds.copy()\n",
    "    # define amounts around the money which will help create strikes to add\n",
    "    lr = -6*range_increment\n",
    "    hr = 8*range_increment\n",
    "#     low_perc = 1 + low_range\n",
    "#     high_perc = 1 + high_range\n",
    "    low_perc = 1 + lr\n",
    "    high_perc = 1 + hr\n",
    "#     moneyness = np.arange(.7,1.4,.05).round(rounding)\n",
    "    moneyness = np.arange(low_perc,high_perc,range_increment).round(rounding)\n",
    "    # define columns on which to execute groupby\n",
    "    gb_cols = ['symbol','settle_date','contract_num','dte','close_y']\n",
    "    # define function used in groupby.apply to create strikes and iv's at those strikes\n",
    "    #   where the strikes are an even amount from the money \n",
    "    #   (like .7, .8, ... 1, 1.1, 1.2, etc)\n",
    "    def _add_even_moneyness_strikes(df):\n",
    "        # get underlying from first row (the groupby makes them all the same)\n",
    "        r = df.iloc[0]\n",
    "        underlying = r.close_y\n",
    "        # create new rows to append to df, using only the gb_cols\n",
    "        df_ret1 = df.iloc[:len(moneyness)][gb_cols].copy()\n",
    "        if len(df_ret1)<len(moneyness):\n",
    "            return None\n",
    "        # add nan iv's !!!! MUST BE np.nan - NOT None\n",
    "        df_ret1['iv'] = np.nan\n",
    "        # add new strikes\n",
    "        df_ret1['strike'] = moneyness * underlying\n",
    "        # append the new strikes\n",
    "        try:\n",
    "            # try with using the sort=True options for versions of pandas after 0.23\n",
    "            dfa = df.append(df_ret1,ignore_index=True,sort=True).copy()\n",
    "        except:\n",
    "            # otherwise do not specify sort\n",
    "            dfa = df.append(df_ret1,ignore_index=True).copy()\n",
    "        df_ret2 = dfa.sort_values(['symbol','settle_date','pc','strike'])\n",
    "        df_ret2 = df_ret2.drop_duplicates(subset='strike')\n",
    "        # set the index to the strike so that interpolate works\n",
    "        df_ret2.index = df_ret2.strike\n",
    "        # create interpolated iv's\n",
    "        df_ret2['iv'] = df_ret2.iv.interpolate(method='polynomial', order=2)\n",
    "        # reset the index\n",
    "        df_ret2.index = list(range(len(df_ret2)))\n",
    "        return df_ret2\n",
    "\n",
    "    # start here\n",
    "    df11 = df10.groupby(gb_cols).apply(_add_even_moneyness_strikes).copy()\n",
    "    df11.index = list(range(len(df11)))\n",
    "    df11['moneyness'] = df11.strike / df11.close_y\n",
    "    df11.moneyness = df11.moneyness.round(rounding)\n",
    "\n",
    "    df12 = df11[(df11.moneyness.isin(moneyness)) & (~df11.iv.isna())].copy()\n",
    "    df12.moneyness  = df12.moneyness - 1\n",
    "    df12.index = list(range(len(df12)))\n",
    "    df12_atm = df12[df12.moneyness.round(rounding)==0][['symbol','settle_date','pc','iv']]\n",
    "\n",
    "    df12_atm = df12_atm.rename(columns={'iv':'atm_iv'})\n",
    "    \n",
    "    df12_atm = df12_atm.drop_duplicates()\n",
    "    df12_atm.pc = ''#np.nan\n",
    "    df12.pc = ''#np.nan\n",
    "    df12 = df12.merge(df12_atm,on=['symbol','settle_date','pc'],how='inner')\n",
    "\n",
    "#     df12 = df12.merge(df12_atm,on=['symbol','settle_date'],how='inner')\n",
    "#     df12['pc'] = np.nan\n",
    "\n",
    "    df12.moneyness = df12.moneyness.round(rounding)\n",
    "    df12['vol_skew'] = (df12.iv - df12.atm_iv).round(rounding)\n",
    "    # now get rid of cases where an even money strike, and an actual strike are the same, so that you have \n",
    "    #    2 vol_skew records for the same 'settle_date','symbol','moneyness' combination\n",
    "    # THIS IS THE EASY WAY\n",
    "#     df12 = df12[df12.close_x.isna()]\n",
    "    # THIS IS THE HARD WAY\n",
    "    gb_cols = ['settle_date','symbol','moneyness','close_y','contract_num','dte']\n",
    "    val_cols = ['vol_skew','iv','strike','atm_iv']\n",
    "    df12 = df12[gb_cols + val_cols].groupby(gb_cols,as_index=False).mean()\n",
    "\n",
    "    return df12\n",
    "\n"
   ]
  },
  {
   "cell_type": "markdown",
   "metadata": {},
   "source": [
    "### Method to get volatility skews per symbol"
   ]
  },
  {
   "cell_type": "code",
   "execution_count": null,
   "metadata": {},
   "outputs": [],
   "source": [
    "def create_skew_per_date_df(df,rounding=6):\n",
    "    '''\n",
    "    Find the first settle_date whose count of rows is equal to max count of rows.\n",
    "    '''\n",
    "    # get the first symbol (which should be the only symbol)\n",
    "    contract = df.symbol.unique()[0]\n",
    "    # get just that symbol's data\n",
    "    df12 = df[df.symbol==contract]\n",
    "    df_counts = df12[['settle_date','moneyness']].groupby('settle_date',as_index=False).count()\n",
    "    max_count = df_counts.moneyness.max()\n",
    "    first_max_count_settle_date = df_counts[df_counts.moneyness==max_count].iloc[0].settle_date\n",
    "    \n",
    "    df_ret = df12[df12.settle_date==first_max_count_settle_date][['moneyness']]\n",
    "    all_settle_dates = sorted(df_counts.settle_date.unique())\n",
    "    for settle_date in all_settle_dates:\n",
    "        df_temp = df12[df12.settle_date==settle_date][['moneyness','vol_skew']]\n",
    "        df_ret = df_ret.merge(df_temp,on='moneyness',how='outer')\n",
    "        df_ret = df_ret.rename(columns={'vol_skew':str(settle_date)})\n",
    "    df_ret = df_ret.sort_values('moneyness')\n",
    "    df_ret.moneyness = df_ret.moneyness.round(rounding)\n",
    "    return df_ret\n",
    "\n",
    "\n",
    "def skew_per_symbol(symbol,strike_divisor=None,contract_num=2,\n",
    "                   low_range=-.3,high_range=.4,\n",
    "                   range_increment=.05):\n",
    "    '''\n",
    "    For a symbol like CLM16 or EZH19, create 2 Dataframes\n",
    "      1. df_iv - contains rows of implied vols, for only the 'pseudo' strikes that are an even\n",
    "                 percent away from the money for each settle_date\n",
    "      2. df_skew - contains one row per day of skew data of for 'pseudo' strikes that are an even\n",
    "                 percent away from the money for each settle_date\n",
    "    '''\n",
    "    _exception = None\n",
    "    _stacktrace = None\n",
    "    df_iv = None\n",
    "    df_skew = None\n",
    "    df,df_expiry_dates = get_postgres_data(symbol)\n",
    "    if len(df[df.contract_num==contract_num])>0:\n",
    "        df10 = get_implieds(df,df_expiry_dates,symbol,contract_num)\n",
    "        df12 = get_even_moneyness_strikes(df10,low_range=low_moneyness_range,\n",
    "                                         high_range=high_range,\n",
    "                                         range_increment=range_increment)\n",
    "        df_sk = create_skew_per_date_df(df12)\n",
    "        df_sk.index = list(range(len(df_sk)))\n",
    "        df_skt = df_sk.T\n",
    "        df_skt.columns = df_skt.loc['moneyness']\n",
    "        df_skt = df_skt.iloc[1:].copy()\n",
    "        df_skt['symbol'] = symbol\n",
    "        df_skt['settle_date'] = df_skt.index\n",
    "        df_iv = df12.copy() \n",
    "        df_skew = df_skt.copy()\n",
    "        df_skew = df_skew.sort_values('settle_date')\n",
    "        df_skew.index = list(range(len(df22)))\n",
    "\n",
    "    return df_iv,df_skew"
   ]
  },
  {
   "cell_type": "markdown",
   "metadata": {},
   "source": [
    "### test getting implieds for a single contract"
   ]
  },
  {
   "cell_type": "code",
   "execution_count": null,
   "metadata": {
    "scrolled": false
   },
   "outputs": [],
   "source": [
    "def get_all_implied_info(symbol,contract_num = 2,\n",
    "                            low_range=-.3,high_range=.4,\n",
    "                            range_increment=.05,\n",
    "                            rounding=6,\n",
    "                            postgres_data_tuple=None):\n",
    "    '''\n",
    "    return a dictionary of historical dataframes:\n",
    "    {'hist_data':df,'implieds':df_implieds,'even_money':df_even_money,'vols':df_vols}\n",
    "    '''\n",
    "    df_implieds = None\n",
    "    df_even_money = None\n",
    "    df_vols = None\n",
    "    ret = {'implieds':df_implieds,'even_money':df_even_money,'vols':df_vols}\n",
    "    commod = symbol[0:2]\n",
    "    strike_div = None if commod not in STRIKE_DIVISORS.keys() else STRIKE_DIVISORS[commod]\n",
    "    \n",
    "    if postgres_data_tuple is None:\n",
    "        df,df_expiry_dates = get_postgres_data(symbol)\n",
    "    else:\n",
    "        df,df_expiry_dates = postgres_data_tuple\n",
    "    if df is None or len(df)<10:\n",
    "        print(f'no data for symbol: {symbol}')\n",
    "        return {'implieds':None,'even_money':None,'vols':None}\n",
    "    df_implieds = get_implieds(df,df_expiry_dates,symbol,contract_num=contract_num)\n",
    "    if df_implieds is not None:\n",
    "        df_ctm_vols = get_closest_to_the_money_vols(df_implieds)\n",
    "        df_even_money = get_even_moneyness_strikes(\n",
    "                            df_implieds,low_range=low_range,\n",
    "                            high_range=high_range,range_increment=range_increment,\n",
    "                            rounding=rounding)\n",
    "        df_atm_money = df_even_money[df_even_money.moneyness==0]\n",
    "        df_vols = df_ctm_vols.merge(\n",
    "            df_atm_money[['settle_date','symbol','atm_iv']],\n",
    "            on=['settle_date','symbol'],how='inner')\n",
    "    return {'hist_data':df,'implieds':df_implieds,'even_money':df_even_money,'vols':df_vols}\n",
    "\n",
    "\n"
   ]
  },
  {
   "cell_type": "markdown",
   "metadata": {},
   "source": [
    "#### test get_all_implied_info"
   ]
  },
  {
   "cell_type": "code",
   "execution_count": null,
   "metadata": {
    "scrolled": true
   },
   "outputs": [],
   "source": [
    "all_implied_test = get_all_implied_info('CLZ20',contract_num=2,range_increment=.036)\n",
    "all_implied_test['even_money']"
   ]
  },
  {
   "cell_type": "markdown",
   "metadata": {},
   "source": [
    "### Options strategy history"
   ]
  },
  {
   "cell_type": "code",
   "execution_count": null,
   "metadata": {},
   "outputs": [],
   "source": [
    "def ot_from_sn(option_short_name):\n",
    "    '''\n",
    "    get OptTrade instance from option_short_name string like 'ESM20_2500_C_-4'\n",
    "    YOU must have at least 'ESM20_2500_C'.  If no quantity, it will be zero.\n",
    "    '''\n",
    "    if option_short_name is None:\n",
    "        return None\n",
    "    parts = option_short_name.split('_')\n",
    "    if len(parts)<3:\n",
    "        return None\n",
    "    sym = parts[0]\n",
    "    strike = parts[1]\n",
    "    pc = parts[2]\n",
    "    qty = 0 if len(parts)<4 else float(str(parts[3]))\n",
    "    return OptTrade(sym,strike,pc,qty)\n",
    "\n",
    "class OptTrade():\n",
    "    def __init__(self,symbol,strike,pc,qty,pga=None):\n",
    "        self.symbol = symbol\n",
    "        self.strike=strike\n",
    "        self.pc = pc.upper()\n",
    "        self. qty = qty\n",
    "    def __str__(self):\n",
    "        return f\"{self.symbol}_{self.strike}_{self.pc}_{self.qty}\"   \n",
    "    def get_postgres_data(self,rounding=6):\n",
    "        df,df_expiry = get_postgres_data(self.symbol)\n",
    "        if df is None or len(df)<1:\n",
    "            return None\n",
    "        df = df[df.pc.str.lower()==self.pc.lower()]\n",
    "        df = df[df.strike.astype(float).round(rounding)==round(float(str(self.strike)),rounding)]\n",
    "        df.index = list(range(len(df)))\n",
    "        return df\n",
    "    def get_implied_info(self,contract_num=2,\n",
    "                            low_range=-.3,high_range=.4,\n",
    "                            range_increment=.05,rounding=6):\n",
    "        '''\n",
    "        return:\n",
    "        {'hist_data':df,'implieds':df_implieds,'even_money':df_even_money,'vols':df_vols}\n",
    "        '''\n",
    "        return get_all_implied_info(self.symbol,contract_num=contract_num,\n",
    "                                   low_range=low_range,high_range=high_range,\n",
    "                                   range_increment=range_increment,rounding=rounding)\n",
    "\n",
    "\n",
    "def _black(r):\n",
    "    flag = 'p' if r.moneyness < 0 else 'c'\n",
    "    F = r.close_y\n",
    "    K = r.strike\n",
    "    t = r.dte/365\n",
    "    rate = .015\n",
    "    sigma = r.atm_iv + r.vol_skew\n",
    "    return black.black(flag, F, K, t, rate, sigma)\n",
    "\n",
    "def _delta(r,rate=.015):\n",
    "    flag = 'p' if r.moneyness < 0 else 'c'\n",
    "    F = r.close_y\n",
    "    K = r.strike\n",
    "    t = r.dte/365\n",
    "    sigma = r.atm_iv + r.vol_skew\n",
    "    b =  black.black(flag, F, K, t, rate, sigma)\n",
    "    bdn =  black.black(flag, F*.9975, K, t, rate, sigma)\n",
    "    bup =  black.black(flag, F, K*1.0025, t, rate, sigma)\n",
    "    delta_up = abs((bup-b)/(F*.0025))\n",
    "    delta_dn = abs((bdn-b)/(F*.0025))\n",
    "    return (delta_up+delta_dn)/2\n",
    "\n",
    "class MultiLeg():\n",
    "    '''\n",
    "    create a history of a multi-leg option\n",
    "    '''\n",
    "    opt_cols = ['strike','pc','open_x','high_x','low_x','close_x',\n",
    "              'adj_close_x','volume_x','open_interest_x']\n",
    "    fut_cols = ['open_y','high_y','low_y','close_y',\n",
    "              'adj_close_y','volume_y','open_interest_y']\n",
    "    both_cols = ['settle_date','symbol']\n",
    "    def __init__(self,leg_list: list,contract_num_list=None,\n",
    "                low_range=-.3,high_range=.4,range_increment=.05):\n",
    "        self.leg_list = leg_list\n",
    "        self.contract_num_list = [None for _ in range(len(leg_list))] if contract_num_list is None else contract_num_list\n",
    "        self.low_range = low_range\n",
    "        self.high_range = high_range\n",
    "        self.range_increment = range_increment\n",
    "        # get history for each leg\n",
    "        hist_list = []\n",
    "        for i in range(len(leg_list)):\n",
    "            leg = leg_list[i]\n",
    "            contract_num = self.contract_num_list[i]\n",
    "            print(f\"MultiLeg geting data for leg {str(leg)} \")\n",
    "            hist_dict = leg.get_implied_info(contract_num=contract_num,\n",
    "                            low_range=low_range,high_range=high_range,\n",
    "                                             range_increment=range_increment)\n",
    "            hist_list.append(hist_dict)\n",
    "        self.hist_list = hist_list\n",
    "\n",
    "        \n",
    "        \n",
    "    def get_values(self,column_list=None):\n",
    "        col_list = ['close_x'] if column_list is None else column_list\n",
    "        yyyymmdd_set = None\n",
    "\n",
    "        for i in range(len(self.hist_list)):\n",
    "            df = self.hist_list[i]['hist_data']\n",
    "            yyyymmdd_set_df = set(df.settle_date.values)\n",
    "            if yyyymmdd_set is None:\n",
    "                yyyymmdd_set = yyyymmdd_set_df\n",
    "            else:\n",
    "                if len(yyyymmdd_set)>len(yyyymmdd_set_df):\n",
    "                    yyyymmdd_set = yyyymmdd_set.intersection(yyyymmdd_set_df)\n",
    "                else:\n",
    "                    yyyymmdd_set = yyyymmdd_set_df.intersection(yyyymmdd_set)\n",
    "            # save all data for this eg\n",
    "        yyyymmdd_set = list(yyyymmdd_set)\n",
    "        hist_df_list = []\n",
    "        for i in range(len(self.leg_list)):\n",
    "            leg = self.leg_list[i]\n",
    "            df = self.hist_list[i]['hist_data'].copy()\n",
    "            df['short_name'] = str(leg)\n",
    "            df = df[(df.strike==float(str(leg.strike))) & (df.pc.str.upper()==leg.pc.upper())]\n",
    "            df = df[df.settle_date.isin(yyyymmdd_set)]\n",
    "            df.index = list(range(len(df)))\n",
    "            hist_df_list.append(df)\n",
    "\n",
    "        df = hist_df_list[0][['settle_date']]\n",
    "        for c in col_list:\n",
    "            c_values = np.zeros(len(df))\n",
    "            for i in range(len(self.leg_list)):\n",
    "                leg = self.leg_list[i]\n",
    "                qty = float(leg.qty)\n",
    "                df_hist = hist_df_list[i].copy()\n",
    "                df_hist[c].fillna(0)\n",
    "                c_values = c_values + df_hist[c].values * qty\n",
    "            df[c] = c_values\n",
    "        \n",
    "        return df\n",
    "    \n",
    "    def get_theo_values(self):\n",
    "        df_all_legs = None\n",
    "        both_merge_cols = ['settle_date','moneyness']\n",
    "        # get the even_money dataframe for each leg, and get theo prices from it\n",
    "        for i in range(len(self.hist_list)):\n",
    "            # get the dictionary of returned history values\n",
    "            hist_dict = self.hist_list[i]\n",
    "            # get the dataframe with the even money strike values\n",
    "            df_even_money = hist_dict['even_money'].copy()\n",
    "            # create a list of price cols for each leg\n",
    "            optprice_col = f\"optprice_leg_{i}\"\n",
    "            # get a black scholes option price for each even money strike\n",
    "            df_even_money[optprice_col] = df_even_money.apply(_black,axis=1)\n",
    "            # limit the columns to the merge cols and the optprice col for this leg\n",
    "            df_even_money = df_even_money[both_merge_cols +[optprice_col]]\n",
    "            # merge all the leg option values into one dataframe\n",
    "            if df_all_legs is None:\n",
    "                df_all_legs = df_even_money.copy()\n",
    "            else:\n",
    "                df_all_legs = df_all_legs.merge(df_even_money,on=both_merge_cols,how='inner')\n",
    "\n",
    "        # now combine the optprices\n",
    "        op_cols = [f\"optprice_leg_{i}\" for i in range(len(self.hist_list))]\n",
    "        df_all_legs['strat_price'] = 0\n",
    "        for i in range(len(op_cols)):\n",
    "            c = op_cols[i]\n",
    "            leg = self.leg_list[i]\n",
    "            qty = leg.qty\n",
    "            df_all_legs.strat_price = df_all_legs.strat_price + df_all_legs[c] * qty\n",
    "\n",
    "        return df_all_legs\n",
    "                    \n",
    "                    \n",
    "        \n"
   ]
  },
  {
   "cell_type": "markdown",
   "metadata": {},
   "source": [
    "### Graph atm_vol vs price for multiple contracts"
   ]
  },
  {
   "cell_type": "code",
   "execution_count": null,
   "metadata": {
    "scrolled": true
   },
   "outputs": [],
   "source": [
    "begin_year = 20\n",
    "commod = 'ES'\n",
    "sql = f\"\"\"\n",
    "select distinct symbol from {opttab} where substring(symbol,1,2)='{commod}'\n",
    "and substring(symbol,4,2)::int >= {begin_year}\n",
    "\"\"\"\n",
    "all_contracts = pga.get_sql(sql).symbol.unique()\n",
    "ac_sorted = sorted([c[0:2]+c[3:]+c[2] for c in all_contracts])\n",
    "all_contracts = [c[0:2]+c[-1]+c[2:4] for c in ac_sorted]\n",
    "for sym in [c for c in all_contracts if int(c[-2:])>=begin_year]:\n",
    "    print(f\"graphing symbol: {sym}\")\n",
    "#     commod = sym[0:2]\n",
    "    strike_div = None if commod not in STRIKE_DIVISORS.keys() else STRIKE_DIVISORS[commod]\n",
    "    try:\n",
    "        d = get_all_implied_info(sym,contract_num=None)\n",
    "    except Exception as e:\n",
    "        print(f'Exception getting implied vols for symbol: {sym}')\n",
    "        print(str(e))\n",
    "        import traceback\n",
    "        traceback.print_exc()\n",
    "        continue\n",
    "    df_implieds = d['implieds']\n",
    "    if df_implieds is None:\n",
    "        print(f'no implied vols for symbol: {sym}')\n",
    "        continue\n",
    "    df_vols = d['vols']\n",
    "    \n",
    "    iplot(plotly_plot(\n",
    "        df_in=df_vols[['settle_date','close_y','atm_iv']],\n",
    "        x_column='settle_date',yaxis2_cols=['atm_iv'],number_of_ticks_display=15)\n",
    "         )    "
   ]
  },
  {
   "cell_type": "markdown",
   "metadata": {},
   "source": [
    "### show some examples of ```OptTrade``` and ```MultiLeg```\n"
   ]
  },
  {
   "cell_type": "code",
   "execution_count": null,
   "metadata": {},
   "outputs": [],
   "source": [
    "legs = ['ESM20_2500_P_-1','ESZ20_2500_P_1']\n",
    "ot_legs = [ot_from_sn(leg) for leg in legs]\n",
    "[str(ot_leg) for ot_leg in ot_legs]\n",
    "\n",
    "\n",
    "df_leg0_even_money = ot_legs[0].get_implied_info(contract_num=None)['even_money']\n",
    "df_leg1_even_money = ot_legs[1].get_implied_info(contract_num=None)['even_money']\n"
   ]
  },
  {
   "cell_type": "code",
   "execution_count": null,
   "metadata": {
    "scrolled": true
   },
   "outputs": [],
   "source": [
    "df_leg0_even_money"
   ]
  },
  {
   "cell_type": "markdown",
   "metadata": {},
   "source": [
    "### Examples of ```black.black```"
   ]
  },
  {
   "cell_type": "code",
   "execution_count": null,
   "metadata": {},
   "outputs": [],
   "source": [
    "black.black('p', 100, 75, 1, .02, .15)"
   ]
  },
  {
   "cell_type": "code",
   "execution_count": null,
   "metadata": {
    "scrolled": true
   },
   "outputs": [],
   "source": [
    "def _black(r):\n",
    "    flag = 'p' if r.moneyness < 0 else 'c'\n",
    "    F = r.close_y\n",
    "    K = r.strike\n",
    "    t = r.dte/365\n",
    "    rate = .015\n",
    "    sigma = r.atm_iv + r.vol_skew\n",
    "    return black.black(flag, F, K, t, rate, sigma)\n",
    "df_leg0_even_money2 = df_leg0_even_money.copy()\n",
    "df_leg0_even_money2['optprice_leg0'] = df_leg0_even_money2.apply(_black,axis=1)\n",
    "\n",
    "df_leg1_even_money2 = df_leg1_even_money.copy()\n",
    "df_leg1_even_money2['optprice_leg1'] = df_leg1_even_money2.apply(_black,axis=1)\n",
    "both_merge_cols = ['settle_date','moneyness']\n",
    "df_leg0_even_money2 = df_leg0_even_money2[both_merge_cols + ['optprice_leg0']]\n",
    "df_leg1_even_money2 = df_leg1_even_money2[both_merge_cols + ['optprice_leg1']]\n",
    "df_both_legs = df_leg0_even_money2.merge(df_leg1_even_money2,on=both_merge_cols,how='inner')\n",
    "df_both_legs['optprice_spread'] = df_both_legs.optprice_leg1 - df_both_legs.optprice_leg0\n",
    "df_both_legs[df_both_legs.moneyness==-.15]\n",
    "\n"
   ]
  },
  {
   "cell_type": "code",
   "execution_count": null,
   "metadata": {},
   "outputs": [],
   "source": [
    "legs = ['ESM20_2500_P_-1','ESZ20_2500_P_1']\n",
    "ot_legs = [ot_from_sn(leg) for leg in legs]\n",
    "es_m0z0_2500 = MultiLeg(ot_legs)"
   ]
  },
  {
   "cell_type": "code",
   "execution_count": null,
   "metadata": {
    "scrolled": true
   },
   "outputs": [],
   "source": [
    "es_m0z0_2500.get_values(['close_x','open_x','high_x','low_x'])"
   ]
  },
  {
   "cell_type": "code",
   "execution_count": null,
   "metadata": {
    "scrolled": true
   },
   "outputs": [],
   "source": [
    "df_es_m0z0_2500_theo_values  = es_m0z0_2500.get_theo_values()\n",
    "for n in [0.0,-0.1,-0.2,-0.3]:\n",
    "    display.display(df_es_m0z0_2500_theo_values[df_es_m0z0_2500_theo_values.moneyness==n].tail())\n",
    "for n in [0.1,0.2,0.3]:\n",
    "    display.display(df_es_m0z0_2500_theo_values[df_es_m0z0_2500_theo_values.moneyness==n].tail())    "
   ]
  },
  {
   "cell_type": "markdown",
   "metadata": {},
   "source": [
    "### show historical conversion values"
   ]
  },
  {
   "cell_type": "code",
   "execution_count": null,
   "metadata": {},
   "outputs": [],
   "source": [
    "df_m20 = es_m0z0_2500.hist_list[0]['hist_data']"
   ]
  },
  {
   "cell_type": "code",
   "execution_count": null,
   "metadata": {},
   "outputs": [],
   "source": [
    "strike = 2750\n",
    "df_m20_calls = df_m20[(df_m20.strike== strike) & (df_m20.pc== 'C')][['settle_date','strike','close_x','close_y']]\n",
    "df_m20_calls = df_m20_calls.rename(columns={'close_x':'callprice'})\n",
    "df_m20_puts = df_m20[(df_m20.strike== strike) & (df_m20.pc== 'P')][['settle_date','strike','close_x']]\n",
    "df_m20_puts = df_m20_puts.rename(columns={'close_x':'putprice'})\n",
    "df_m20_both = df_m20_calls.merge(df_m20_puts,on=['settle_date','strike'],how='inner')\n",
    "df_m20_both['conversion'] = df_m20_both.callprice + df_m20_both.strike - (df_m20_both.putprice + df_m20_both.close_y)\n",
    "iplot(plotly_plot(df_in=df_m20_both[['settle_date','conversion','close_y']],x_column='settle_date',\n",
    "                 yaxis2_cols=['close_y']))\n",
    "display.display(df_m20_both)\n",
    "\n"
   ]
  },
  {
   "cell_type": "markdown",
   "metadata": {},
   "source": [
    "### Show a calendar spread stragegy"
   ]
  },
  {
   "cell_type": "code",
   "execution_count": null,
   "metadata": {
    "scrolled": true
   },
   "outputs": [],
   "source": [
    "legs = ['ESM20_2750_P_-1','ESZ20_2750_P_1']\n",
    "ot_legs = [ot_from_sn(leg) for leg in legs]\n",
    "es_m0z0_2750 = MultiLeg(ot_legs)"
   ]
  },
  {
   "cell_type": "code",
   "execution_count": null,
   "metadata": {
    "scrolled": true
   },
   "outputs": [],
   "source": [
    "es_m0z0_2750.get_values(['close_x'])"
   ]
  },
  {
   "cell_type": "markdown",
   "metadata": {},
   "source": [
    "### Show a 1X2 ES put spread"
   ]
  },
  {
   "cell_type": "code",
   "execution_count": null,
   "metadata": {
    "scrolled": true
   },
   "outputs": [],
   "source": [
    "legs = ['ESZ20_2400_P_1.0','ESZ20_1800_P_-2.0']\n",
    "ot_legs = [ot_from_sn(leg) for leg in legs]\n",
    "\n",
    "ml = MultiLeg(ot_legs)\n",
    "mltv = ml.get_values()\n"
   ]
  },
  {
   "cell_type": "code",
   "execution_count": null,
   "metadata": {
    "scrolled": true
   },
   "outputs": [],
   "source": [
    "mltv"
   ]
  },
  {
   "cell_type": "code",
   "execution_count": null,
   "metadata": {},
   "outputs": [],
   "source": [
    "df_ml_tv = ml.get_theo_values()\n",
    "df_ml_tv"
   ]
  },
  {
   "cell_type": "code",
   "execution_count": null,
   "metadata": {},
   "outputs": [],
   "source": [
    "all_info = get_all_implied_info('ESZ20',contract_num=4)"
   ]
  },
  {
   "cell_type": "code",
   "execution_count": null,
   "metadata": {},
   "outputs": [],
   "source": [
    "all_info.keys()"
   ]
  },
  {
   "cell_type": "code",
   "execution_count": null,
   "metadata": {},
   "outputs": [],
   "source": []
  },
  {
   "cell_type": "code",
   "execution_count": null,
   "metadata": {},
   "outputs": [],
   "source": [
    "df_even_money = all_info['even_money'][['settle_date','moneyness','dte','atm_iv','vol_skew']]\n",
    "df_even_money = df_even_money[df_even_money.moneyness==-.1]\n",
    "df_even_money"
   ]
  },
  {
   "cell_type": "markdown",
   "metadata": {},
   "source": [
    "### Calculate hedge ratios for S&P positions\n",
    "\n"
   ]
  },
  {
   "cell_type": "code",
   "execution_count": null,
   "metadata": {},
   "outputs": [],
   "source": [
    "es_multiplier = 50\n",
    "curr_es = 3000\n",
    "curr_posvalue = 400000 #stock dollar amount\n",
    "curr_sp_equivilent = curr_posvalue / (curr_es*es_multiplier)\n",
    "acceptable_loss = .125\n",
    "hedge_strike = curr_es * (1-acceptable_loss)\n",
    "hedge_posvalue = hedge_strike * curr_sp_equivilent * es_multiplier\n",
    "curr_posvalue,curr_sp_equivilent,hedge_strike,hedge_posvalue"
   ]
  },
  {
   "cell_type": "code",
   "execution_count": null,
   "metadata": {},
   "outputs": [],
   "source": [
    "black.black('c', 100, 100, 1, .017, .13)\n"
   ]
  },
  {
   "cell_type": "code",
   "execution_count": null,
   "metadata": {},
   "outputs": [],
   "source": [
    "df_esz99 = pga.get_sql(f\"select * from {futtab} where symbol='ESZ99'\")"
   ]
  },
  {
   "cell_type": "code",
   "execution_count": null,
   "metadata": {
    "scrolled": true
   },
   "outputs": [],
   "source": [
    "years_per_graph = 2\n",
    "for y in np.arange(10,21,years_per_graph):\n",
    "    yyyymmdd_low = (2000+y)*100*100 + 101\n",
    "    yyyymmdd_high = (2000+y+years_per_graph)*100*100 + 101\n",
    "    c1 = df_esz99.settle_date>=yyyymmdd_low\n",
    "    c2 = df_esz99.settle_date<=yyyymmdd_high\n",
    "    dft = df_esz99[c1 & c2][['settle_date','close']]\n",
    "    iplot(plotly_plot(df_in=dft,x_column='settle_date'))"
   ]
  },
  {
   "cell_type": "code",
   "execution_count": null,
   "metadata": {},
   "outputs": [],
   "source": [
    "threshold = 1.125\n",
    "dft = df_esz99[['settle_date','close','high','low']]\n",
    "dft['current_high'] = dft.high.expanding(min_periods=1).max()\n",
    "curr_10 = dft.iloc[0].current_high\n",
    "curr_10_array = [curr_10]\n",
    "for i in range(1,len(dft)):\n",
    "    next_divby_curr = dft.iloc[i].current_high / curr_10\n",
    "    if next_divby_curr >=threshold:\n",
    "        curr_10 = dft.iloc[i].current_high\n",
    "    curr_10_array.append(curr_10)\n",
    "dft['curr_10'] = curr_10_array"
   ]
  },
  {
   "cell_type": "code",
   "execution_count": null,
   "metadata": {},
   "outputs": [],
   "source": [
    "iplot(plotly_plot(df_in=dft[['settle_date','close','current_high','curr_10']],x_column='settle_date'))"
   ]
  },
  {
   "cell_type": "code",
   "execution_count": null,
   "metadata": {},
   "outputs": [],
   "source": [
    "rnd = 6\n",
    "inc = round(200/2775,rnd)\n",
    "leg = ot_from_sn('ESM20_2500_P_1')\n",
    "leg_data = leg.get_implied_info(contract_num=1,range_increment=inc,rounding=rnd)\n",
    "df_l = leg_data['even_money']\n",
    "df_lc = df_l[df_l.settle_date==df_l.settle_date.max()]\n"
   ]
  },
  {
   "cell_type": "code",
   "execution_count": null,
   "metadata": {},
   "outputs": [],
   "source": [
    "close = df_lc.close_y.max()\n",
    "rup = df_lc[df_lc.moneyness==inc].iloc[0]\n",
    "vup = rup.iv\n",
    "sup = rup.strike\n",
    "c = black.black('c', close, sup, rup.dte/365, .01, vup)\n",
    "rdn = df_lc[df_lc.moneyness==-inc].iloc[0]\n",
    "vdn = rdn.iv\n",
    "sdn = rdn.strike\n",
    "p = black.black('p', close, sdn, rdn.dte/365, .01, vdn)\n",
    "cdn = black.black('c', close, sdn, rdn.dte/365, .01, vdn)\n",
    "{'close':close,'sup':sup,'vup':vup,'sdn':sdn,'vdn':vdn,\n",
    " 'c':c,'p':p,'cdn':cdn,'p-c':p-c,\n",
    " 'sup-sdn':sup-sdn,'gain_dn':cdn-c,'loss_up':sup-sdn-(cdn-c)}"
   ]
  },
  {
   "cell_type": "code",
   "execution_count": null,
   "metadata": {},
   "outputs": [],
   "source": [
    "df_lc['delta'] = df_lc.apply(_delta,axis=1)\n",
    "df_lc['price'] = df_lc.apply(_black,axis=1)"
   ]
  },
  {
   "cell_type": "code",
   "execution_count": null,
   "metadata": {},
   "outputs": [],
   "source": [
    "df_lc"
   ]
  },
  {
   "cell_type": "markdown",
   "metadata": {},
   "source": [
    "## END"
   ]
  }
 ],
 "metadata": {
  "kernelspec": {
   "display_name": "Python 3",
   "language": "python",
   "name": "python3"
  },
  "language_info": {
   "codemirror_mode": {
    "name": "ipython",
    "version": 3
   },
   "file_extension": ".py",
   "mimetype": "text/x-python",
   "name": "python",
   "nbconvert_exporter": "python",
   "pygments_lexer": "ipython3",
   "version": "3.6.5"
  }
 },
 "nbformat": 4,
 "nbformat_minor": 2
}
