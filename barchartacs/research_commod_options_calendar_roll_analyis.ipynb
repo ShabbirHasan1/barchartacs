{
 "cells": [
  {
   "cell_type": "markdown",
   "metadata": {},
   "source": [
    "## Research commodity options calendar spreads, especially in ES\n",
    "### Try to optimize rolling portfolio protection"
   ]
  },
  {
   "cell_type": "code",
   "execution_count": 1,
   "metadata": {},
   "outputs": [
    {
     "data": {
      "text/html": [
       "        <script type=\"text/javascript\">\n",
       "        window.PlotlyConfig = {MathJaxConfig: 'local'};\n",
       "        if (window.MathJax) {MathJax.Hub.Config({SVG: {font: \"STIX-Web\"}});}\n",
       "        if (typeof require !== 'undefined') {\n",
       "        require.undef(\"plotly\");\n",
       "        requirejs.config({\n",
       "            paths: {\n",
       "                'plotly': ['https://cdn.plot.ly/plotly-latest.min']\n",
       "            }\n",
       "        });\n",
       "        require(['plotly'], function(Plotly) {\n",
       "            window._Plotly = Plotly;\n",
       "        });\n",
       "        }\n",
       "        </script>\n",
       "        "
      ]
     },
     "metadata": {},
     "output_type": "display_data"
    },
    {
     "name": "stderr",
     "output_type": "stream",
     "text": [
      "/Users/bperlman1/Virtualenvs3/dashrisk4/lib/python3.6/site-packages/pandas_datareader/compat/__init__.py:7: FutureWarning:\n",
      "\n",
      "pandas.util.testing is deprecated. Use the functions in the public API at pandas.testing instead.\n",
      "\n"
     ]
    }
   ],
   "source": [
    "import zipfile\n",
    "import glob\n",
    "import pandas as pd\n",
    "import numpy as np\n",
    "\n",
    "from argparse import ArgumentParser\n",
    "from argparse import RawDescriptionHelpFormatter\n",
    "import sys\n",
    "import os\n",
    "if  not './' in sys.path:\n",
    "    sys.path.append('./')\n",
    "if  not '../' in sys.path:\n",
    "    sys.path.append('../')\n",
    "\n",
    "from barchartacs import build_db\n",
    "from barchartacs import db_info\n",
    "import plotly.graph_objs as go\n",
    "from plotly.offline import  init_notebook_mode, iplot\n",
    "init_notebook_mode(connected=True)\n",
    "import plotly.tools as tls\n",
    "from plotly.graph_objs.layout import Font,Margin\n",
    "from IPython import display\n",
    "\n",
    "import datetime\n",
    "import io\n",
    "from tqdm import tqdm,tqdm_notebook\n",
    "from barchartacs import pg_pandas as pg\n",
    "import mibian\n",
    "import py_vollib\n",
    "import importlib\n",
    "from py_vollib import black\n",
    "from py_vollib.black import implied_volatility\n",
    "import ipdb\n",
    "import traceback\n",
    "import pandas_datareader.data as pdr\n",
    "\n",
    "# importlib.reload(build_db)"
   ]
  },
  {
   "cell_type": "markdown",
   "metadata": {},
   "source": [
    "## IF YOU WANT TO SEE WARNINGS, COMMENT THIS OUT"
   ]
  },
  {
   "cell_type": "code",
   "execution_count": 2,
   "metadata": {},
   "outputs": [],
   "source": [
    "import warnings\n",
    "warnings.filterwarnings(\"ignore\")"
   ]
  },
  {
   "cell_type": "markdown",
   "metadata": {},
   "source": [
    "### important global variables"
   ]
  },
  {
   "cell_type": "code",
   "execution_count": 3,
   "metadata": {},
   "outputs": [],
   "source": [
    "\n",
    "DEBUG_IT=False\n",
    "opttab = 'sec_schema.options_table'\n",
    "futtab = 'sec_schema.underlying_table'\n",
    "SYMBOL_TO_RESEARCH = 'ES'\n",
    "STRIKE_DIVISORS = {}\n",
    "\n",
    "# df_expiry_dates_additions = pd.read_csv('df_expiry_dates_additions.csv')\n",
    "df_expiry_dates_additions = pd.read_csv('live_option_expirations.csv')\n"
   ]
  },
  {
   "cell_type": "markdown",
   "metadata": {},
   "source": [
    "#### get all contracts in the options database"
   ]
  },
  {
   "cell_type": "code",
   "execution_count": 4,
   "metadata": {
    "scrolled": false
   },
   "outputs": [
    {
     "name": "stdout",
     "output_type": "stream",
     "text": [
      "  sec_db\n",
      "futtab max date:         max\n",
      "0  20200311\n",
      "opttab max date:         max\n",
      "0  20200311\n"
     ]
    }
   ],
   "source": [
    "pga = db_info.get_db_info()\n",
    "print(f\"futtab max date: {pga.get_sql(f'select max(settle_date) from {futtab}')}\")\n",
    "print(f\"opttab max date: {pga.get_sql(f'select max(settle_date) from {opttab}')}\")\n"
   ]
  },
  {
   "cell_type": "code",
   "execution_count": 5,
   "metadata": {},
   "outputs": [],
   "source": [
    "def plotly_plot(df_in,x_column,plot_title=None,\n",
    "                y_left_label=None,y_right_label=None,\n",
    "                bar_plot=False,figsize=(16,10),\n",
    "                number_of_ticks_display=20,\n",
    "                yaxis2_cols=None,\n",
    "                x_value_labels=None):\n",
    "    ya2c = [] if yaxis2_cols is None else yaxis2_cols\n",
    "    ycols = [c for c in df_in.columns.values if c != x_column]\n",
    "    # create tdvals, which will have x axis labels\n",
    "    td = list(df_in[x_column]) \n",
    "    nt = len(df_in)-1 if number_of_ticks_display > len(df_in) else number_of_ticks_display\n",
    "    spacing = len(td)//nt\n",
    "    tdvals = td[::spacing]\n",
    "    tdtext = tdvals\n",
    "    if x_value_labels is not None:\n",
    "        tdtext = [x_value_labels[i] for i in tdvals]\n",
    "    \n",
    "    # create data for graph\n",
    "    data = []\n",
    "    # iterate through all ycols to append to data that gets passed to go.Figure\n",
    "    for ycol in ycols:\n",
    "        if bar_plot:\n",
    "            b = go.Bar(x=td,y=df_in[ycol],name=ycol,yaxis='y' if ycol not in ya2c else 'y2')\n",
    "        else:\n",
    "            b = go.Scatter(x=td,y=df_in[ycol],name=ycol,yaxis='y' if ycol not in ya2c else 'y2')\n",
    "        data.append(b)\n",
    "\n",
    "    # create a layout\n",
    "    layout = go.Layout(\n",
    "        title=plot_title,\n",
    "        xaxis=dict(\n",
    "            ticktext=tdtext,\n",
    "            tickvals=tdvals,\n",
    "            tickangle=45,\n",
    "            type='category'),\n",
    "        yaxis=dict(\n",
    "            title='y main' if y_left_label is None else y_left_label\n",
    "        ),\n",
    "        yaxis2=dict(\n",
    "            title='y alt' if y_right_label is None else y_right_label,\n",
    "            overlaying='y',\n",
    "            side='right'),\n",
    "        margin=Margin(\n",
    "            b=100\n",
    "        )        \n",
    "    )\n",
    "\n",
    "    fig = go.Figure(data=data,layout=layout)\n",
    "    fig.update_layout(\n",
    "        title={\n",
    "            'text': plot_title,\n",
    "            'y':0.9,\n",
    "            'x':0.5,\n",
    "            'xanchor': 'center',\n",
    "            'yanchor': 'top'})\n",
    "    return fig\n",
    "\n",
    "def plotly_shaded_rectangles(beg_end_date_tuple_list,fig):\n",
    "    ld_shapes = []\n",
    "    for beg_end_date_tuple in beg_end_date_tuple_list:\n",
    "        ld_beg = beg_end_date_tuple[0]\n",
    "        ld_end = beg_end_date_tuple[1]\n",
    "        ld_shape = dict(\n",
    "            type=\"rect\",\n",
    "            # x-reference is assigned to the x-values\n",
    "            xref=\"x\",\n",
    "            # y-reference is assigned to the plot paper [0,1]\n",
    "            yref=\"paper\",\n",
    "            x0=ld_beg[i],\n",
    "            y0=0,\n",
    "            x1=ld_end[i],\n",
    "            y1=1,\n",
    "            fillcolor=\"LightSalmon\",\n",
    "            opacity=0.5,\n",
    "            layer=\"below\",\n",
    "            line_width=0,\n",
    "        )\n",
    "        ld_shapes.append(ld_shape)\n",
    "\n",
    "    fig.update_layout(shapes=ld_shapes)\n",
    "    return fig"
   ]
  },
  {
   "cell_type": "code",
   "execution_count": 6,
   "metadata": {},
   "outputs": [],
   "source": [
    "def _next_monthyear_code(contract):\n",
    "    code_val = contract[-3]\n",
    "    code_num = DICT_MONTH_NUMS[code_val]\n",
    "    y = int(contract[-2:])\n",
    "    if code_num+1>12:\n",
    "        next_code_num = 1\n",
    "        next_y = y + 1\n",
    "    else:\n",
    "        next_code_num = code_num+1\n",
    "        next_y = y\n",
    "    next_code_val = MONTH_CODES[next_code_num-1]\n",
    "    next_contract = contract[0:-3] + next_code_val + '%02d' %(next_y)\n",
    "    return next_contract\n",
    "\n",
    "def get_postgres_data(contract,strike_divisor=None):\n",
    "    '''\n",
    "    Get options and underlying data for ONLY ONE CONTRACT\n",
    "    '''\n",
    "    osql = f\"select * from {opttab} where symbol='{contract}';\"\n",
    "    dfo = pga.get_sql(osql)\n",
    "    if len(dfo)<10:\n",
    "        e = f'''\n",
    "        get_postgres_data ERROR: not enough option data for contract {contract} \n",
    "        '''\n",
    "        raise ValueError(e)\n",
    "    num_settle_days = len(dfo.settle_date.unique())\n",
    "    u_contract = contract\n",
    "    for i in range(12):\n",
    "        usql = f\"select * from {futtab} where symbol='{u_contract}';\"\n",
    "        dfu = pga.get_sql(usql)\n",
    "        if len(dfu) < num_settle_days:\n",
    "            u_contract = _next_monthyear_code(u_contract)\n",
    "            print(f'trying contract {u_contract}')\n",
    "        else:\n",
    "            break\n",
    "\n",
    "    if len(dfu)< num_settle_days:\n",
    "        e = f'''\n",
    "        get_postgres_data ERROR: not enough underlying days found for options contract {contract} \n",
    "        where len(underlying) = {len(dfu)} and num_settle_days = {num_settle_days}\n",
    "        '''\n",
    "        raise ValueError(e)\n",
    "    # Merge options and futures data\n",
    "    dfu = dfu.rename(columns={'symbol':'u_symbol'})\n",
    "    df = dfo.merge(dfu,how='inner',on=['settle_date'])\n",
    "    # Get options expiration dates\n",
    "    df_expiry_dates = dfo[['symbol','settle_date']].groupby('symbol',as_index=False).max()\n",
    "    df_additions = df_expiry_dates_additions[df_expiry_dates_additions.symbol==contract]\n",
    "    df_additions = df_additions[['symbol','yyyymmdd_option']].rename(columns={'yyyymmdd_option':'settle_date'})\n",
    "    additional_symbols = df_additions.symbol.values\n",
    "    df_expiry_dates = df_expiry_dates[~df_expiry_dates.symbol.isin(additional_symbols)]\n",
    "    df_expiry_dates = df_expiry_dates.append(df_additions).sort_values('symbol').copy()\n",
    "    if strike_divisor is not None:\n",
    "        df.strike = df.strike/strike_divisor\n",
    "    return df,df_expiry_dates"
   ]
  },
  {
   "cell_type": "markdown",
   "metadata": {},
   "source": [
    "### analyse option volumes by day, to see largest volumes"
   ]
  },
  {
   "cell_type": "code",
   "execution_count": 7,
   "metadata": {},
   "outputs": [
    {
     "data": {
      "text/plain": [
       "array([17, 18, 19])"
      ]
     },
     "execution_count": 7,
     "metadata": {},
     "output_type": "execute_result"
    }
   ],
   "source": [
    "np.arange(17,20,1)"
   ]
  },
  {
   "cell_type": "code",
   "execution_count": 8,
   "metadata": {},
   "outputs": [],
   "source": [
    "#sql\n",
    "commod = 'ES'\n",
    "m = 'HUMZUHZM'\n",
    "y = np.array([np.array([i,i,i,i,i,i+1,i,i+1]) for i in np.arange(17,20,1)])\n",
    "\n",
    "\n",
    "myy_pairs = np.array(\n",
    "                [np.array([f'{m[j]}{y[i][j]}' for j in range(len(m))]\n",
    "            ) for i in range(len(y))])\n",
    "myy_pairs = myy_pairs.reshape(-1).reshape(-1,2)\n",
    "strike = 2500\n",
    "for mp in myy_pairs:\n",
    "    leg_front = f'{commod}{mp[0]}'\n",
    "    leg_back = f'{commod}{mp[1]}'\n",
    "    sql_select_options = f\"\"\"\n",
    "    select o.settle_date,o.symbol,o.strike,o.pc,o.close o_close from {opttab} o \n",
    "    where symbol in ('{leg_front}','{leg_back}') \n",
    "    and o.strike={strike}\n",
    "    join {futtab} f on o.symbol = f.symbol and o.settle_date = f.settle_date\n",
    "    order by o.settle_date,o.symbol\n",
    "    \"\"\""
   ]
  },
  {
   "cell_type": "code",
   "execution_count": 9,
   "metadata": {},
   "outputs": [
    {
     "data": {
      "text/plain": [
       "array([['H17', 'U17'],\n",
       "       ['M17', 'Z17'],\n",
       "       ['U17', 'H18'],\n",
       "       ['Z17', 'M18'],\n",
       "       ['H18', 'U18'],\n",
       "       ['M18', 'Z18'],\n",
       "       ['U18', 'H19'],\n",
       "       ['Z18', 'M19'],\n",
       "       ['H19', 'U19'],\n",
       "       ['M19', 'Z19'],\n",
       "       ['U19', 'H20'],\n",
       "       ['Z19', 'M20']], dtype='<U3')"
      ]
     },
     "execution_count": 9,
     "metadata": {},
     "output_type": "execute_result"
    }
   ],
   "source": [
    "myy_pairs"
   ]
  },
  {
   "cell_type": "code",
   "execution_count": 10,
   "metadata": {},
   "outputs": [
    {
     "name": "stderr",
     "output_type": "stream",
     "text": [
      "2020-03-13 15:18:25,265 - numexpr.utils - INFO - NumExpr defaulting to 4 threads.\n"
     ]
    },
    {
     "data": {
      "text/html": [
       "<div>\n",
       "<style scoped>\n",
       "    .dataframe tbody tr th:only-of-type {\n",
       "        vertical-align: middle;\n",
       "    }\n",
       "\n",
       "    .dataframe tbody tr th {\n",
       "        vertical-align: top;\n",
       "    }\n",
       "\n",
       "    .dataframe thead th {\n",
       "        text-align: right;\n",
       "    }\n",
       "</style>\n",
       "<table border=\"1\" class=\"dataframe\">\n",
       "  <thead>\n",
       "    <tr style=\"text-align: right;\">\n",
       "      <th></th>\n",
       "      <th>settle_date</th>\n",
       "      <th>fr_symbol</th>\n",
       "      <th>strike</th>\n",
       "      <th>pc</th>\n",
       "      <th>fr_opt_pr</th>\n",
       "      <th>fr_fut_pr</th>\n",
       "      <th>bk_symbol</th>\n",
       "      <th>bk_opt_pr</th>\n",
       "      <th>bk_fut_pr</th>\n",
       "      <th>fut_spread</th>\n",
       "      <th>opt_spread</th>\n",
       "    </tr>\n",
       "  </thead>\n",
       "  <tbody>\n",
       "    <tr>\n",
       "      <th>0</th>\n",
       "      <td>20180924</td>\n",
       "      <td>ESH19</td>\n",
       "      <td>2750.0</td>\n",
       "      <td>P</td>\n",
       "      <td>50.50</td>\n",
       "      <td>2934.00</td>\n",
       "      <td>ESU19</td>\n",
       "      <td>99.75</td>\n",
       "      <td>2951.50</td>\n",
       "      <td>17.50</td>\n",
       "      <td>49.25</td>\n",
       "    </tr>\n",
       "    <tr>\n",
       "      <th>1</th>\n",
       "      <td>20180925</td>\n",
       "      <td>ESH19</td>\n",
       "      <td>2750.0</td>\n",
       "      <td>P</td>\n",
       "      <td>51.50</td>\n",
       "      <td>2930.00</td>\n",
       "      <td>ESU19</td>\n",
       "      <td>100.25</td>\n",
       "      <td>2950.00</td>\n",
       "      <td>20.00</td>\n",
       "      <td>48.75</td>\n",
       "    </tr>\n",
       "    <tr>\n",
       "      <th>2</th>\n",
       "      <td>20180926</td>\n",
       "      <td>ESH19</td>\n",
       "      <td>2750.0</td>\n",
       "      <td>P</td>\n",
       "      <td>53.50</td>\n",
       "      <td>2920.25</td>\n",
       "      <td>ESU19</td>\n",
       "      <td>103.00</td>\n",
       "      <td>2940.00</td>\n",
       "      <td>19.75</td>\n",
       "      <td>49.50</td>\n",
       "    </tr>\n",
       "    <tr>\n",
       "      <th>3</th>\n",
       "      <td>20180927</td>\n",
       "      <td>ESH19</td>\n",
       "      <td>2750.0</td>\n",
       "      <td>P</td>\n",
       "      <td>51.00</td>\n",
       "      <td>2928.50</td>\n",
       "      <td>ESU19</td>\n",
       "      <td>100.00</td>\n",
       "      <td>2948.50</td>\n",
       "      <td>20.00</td>\n",
       "      <td>49.00</td>\n",
       "    </tr>\n",
       "    <tr>\n",
       "      <th>4</th>\n",
       "      <td>20180928</td>\n",
       "      <td>ESH19</td>\n",
       "      <td>2750.0</td>\n",
       "      <td>P</td>\n",
       "      <td>50.75</td>\n",
       "      <td>2927.50</td>\n",
       "      <td>ESU19</td>\n",
       "      <td>100.25</td>\n",
       "      <td>2948.50</td>\n",
       "      <td>21.00</td>\n",
       "      <td>49.50</td>\n",
       "    </tr>\n",
       "    <tr>\n",
       "      <th>...</th>\n",
       "      <td>...</td>\n",
       "      <td>...</td>\n",
       "      <td>...</td>\n",
       "      <td>...</td>\n",
       "      <td>...</td>\n",
       "      <td>...</td>\n",
       "      <td>...</td>\n",
       "      <td>...</td>\n",
       "      <td>...</td>\n",
       "      <td>...</td>\n",
       "      <td>...</td>\n",
       "    </tr>\n",
       "    <tr>\n",
       "      <th>114</th>\n",
       "      <td>20190311</td>\n",
       "      <td>ESH19</td>\n",
       "      <td>2750.0</td>\n",
       "      <td>P</td>\n",
       "      <td>4.20</td>\n",
       "      <td>2784.00</td>\n",
       "      <td>ESU19</td>\n",
       "      <td>99.00</td>\n",
       "      <td>2793.75</td>\n",
       "      <td>9.75</td>\n",
       "      <td>94.80</td>\n",
       "    </tr>\n",
       "    <tr>\n",
       "      <th>115</th>\n",
       "      <td>20190312</td>\n",
       "      <td>ESH19</td>\n",
       "      <td>2750.0</td>\n",
       "      <td>P</td>\n",
       "      <td>1.90</td>\n",
       "      <td>2792.00</td>\n",
       "      <td>ESU19</td>\n",
       "      <td>94.75</td>\n",
       "      <td>2801.50</td>\n",
       "      <td>9.50</td>\n",
       "      <td>92.85</td>\n",
       "    </tr>\n",
       "    <tr>\n",
       "      <th>116</th>\n",
       "      <td>20190313</td>\n",
       "      <td>ESH19</td>\n",
       "      <td>2750.0</td>\n",
       "      <td>P</td>\n",
       "      <td>0.40</td>\n",
       "      <td>2814.50</td>\n",
       "      <td>ESU19</td>\n",
       "      <td>86.00</td>\n",
       "      <td>2824.50</td>\n",
       "      <td>10.00</td>\n",
       "      <td>85.60</td>\n",
       "    </tr>\n",
       "    <tr>\n",
       "      <th>117</th>\n",
       "      <td>20190314</td>\n",
       "      <td>ESH19</td>\n",
       "      <td>2750.0</td>\n",
       "      <td>P</td>\n",
       "      <td>0.30</td>\n",
       "      <td>2807.25</td>\n",
       "      <td>ESU19</td>\n",
       "      <td>87.75</td>\n",
       "      <td>2817.00</td>\n",
       "      <td>9.75</td>\n",
       "      <td>87.45</td>\n",
       "    </tr>\n",
       "    <tr>\n",
       "      <th>118</th>\n",
       "      <td>20190315</td>\n",
       "      <td>ESH19</td>\n",
       "      <td>2750.0</td>\n",
       "      <td>P</td>\n",
       "      <td>0.01</td>\n",
       "      <td>2811.89</td>\n",
       "      <td>ESU19</td>\n",
       "      <td>81.00</td>\n",
       "      <td>2834.75</td>\n",
       "      <td>22.86</td>\n",
       "      <td>80.99</td>\n",
       "    </tr>\n",
       "  </tbody>\n",
       "</table>\n",
       "<p>119 rows × 11 columns</p>\n",
       "</div>"
      ],
      "text/plain": [
       "     settle_date fr_symbol  strike pc  fr_opt_pr  fr_fut_pr bk_symbol  \\\n",
       "0       20180924     ESH19  2750.0  P      50.50    2934.00     ESU19   \n",
       "1       20180925     ESH19  2750.0  P      51.50    2930.00     ESU19   \n",
       "2       20180926     ESH19  2750.0  P      53.50    2920.25     ESU19   \n",
       "3       20180927     ESH19  2750.0  P      51.00    2928.50     ESU19   \n",
       "4       20180928     ESH19  2750.0  P      50.75    2927.50     ESU19   \n",
       "..           ...       ...     ... ..        ...        ...       ...   \n",
       "114     20190311     ESH19  2750.0  P       4.20    2784.00     ESU19   \n",
       "115     20190312     ESH19  2750.0  P       1.90    2792.00     ESU19   \n",
       "116     20190313     ESH19  2750.0  P       0.40    2814.50     ESU19   \n",
       "117     20190314     ESH19  2750.0  P       0.30    2807.25     ESU19   \n",
       "118     20190315     ESH19  2750.0  P       0.01    2811.89     ESU19   \n",
       "\n",
       "     bk_opt_pr  bk_fut_pr  fut_spread  opt_spread  \n",
       "0        99.75    2951.50       17.50       49.25  \n",
       "1       100.25    2950.00       20.00       48.75  \n",
       "2       103.00    2940.00       19.75       49.50  \n",
       "3       100.00    2948.50       20.00       49.00  \n",
       "4       100.25    2948.50       21.00       49.50  \n",
       "..         ...        ...         ...         ...  \n",
       "114      99.00    2793.75        9.75       94.80  \n",
       "115      94.75    2801.50        9.50       92.85  \n",
       "116      86.00    2824.50       10.00       85.60  \n",
       "117      87.75    2817.00        9.75       87.45  \n",
       "118      81.00    2834.75       22.86       80.99  \n",
       "\n",
       "[119 rows x 11 columns]"
      ]
     },
     "execution_count": 10,
     "metadata": {},
     "output_type": "execute_result"
    }
   ],
   "source": [
    "mp = ['H19', 'U19']#myy_pairs[9]\n",
    "strike = 2750.0\n",
    "pc = 'P'\n",
    "leg_front = f'{commod}{mp[0]}'\n",
    "leg_back = f'{commod}{mp[1]}'\n",
    "sql_select_options = f\"\"\"\n",
    "select o.settle_date,o.symbol,o.strike,o.pc,o.close o_close,f.close f_close from {opttab} o \n",
    "join {futtab} f on o.symbol = f.symbol and o.settle_date = f.settle_date\n",
    "where o.symbol in ('{leg_front}','{leg_back}') \n",
    "and o.strike={strike} and o.pc = '{pc}'\n",
    "order by o.settle_date,o.symbol\n",
    "\"\"\"\n",
    "df_opt_pair = pga.get_sql(sql_select_options)\n",
    "df_front = df_opt_pair[df_opt_pair.symbol==leg_front]\n",
    "df_front = df_front.rename(columns={'symbol':'fr_symbol','o_close':'fr_opt_pr','f_close':'fr_fut_pr'})\n",
    "df_back = df_opt_pair[df_opt_pair.symbol==leg_back]\n",
    "df_back = df_back.rename(columns={'symbol':'bk_symbol','o_close':'bk_opt_pr','f_close':'bk_fut_pr'})\n",
    "merge_cols = ['settle_date','strike','pc']\n",
    "df_both = df_front.merge(df_back,how='inner',on=merge_cols)\n",
    "df_both['fut_spread'] = df_both.bk_fut_pr - df_both.fr_fut_pr\n",
    "df_both['opt_spread'] = df_both.bk_opt_pr - df_both.fr_opt_pr\n",
    "df_both "
   ]
  },
  {
   "cell_type": "code",
   "execution_count": 11,
   "metadata": {},
   "outputs": [
    {
     "data": {
      "application/vnd.plotly.v1+json": {
       "config": {
        "linkText": "Export to plot.ly",
        "plotlyServerURL": "https://plot.ly",
        "showLink": false
       },
       "data": [
        {
         "name": "fr_fut_pr",
         "type": "scatter",
         "x": [
          20180924,
          20180925,
          20180926,
          20180927,
          20180928,
          20181001,
          20181002,
          20181003,
          20181004,
          20181005,
          20181008,
          20181009,
          20181010,
          20181011,
          20181012,
          20181015,
          20181016,
          20181017,
          20181018,
          20181019,
          20181022,
          20181023,
          20181024,
          20181025,
          20181026,
          20181029,
          20181030,
          20181031,
          20181101,
          20181102,
          20181105,
          20181106,
          20181107,
          20181108,
          20181109,
          20181112,
          20181113,
          20181114,
          20181115,
          20181116,
          20181119,
          20181120,
          20181121,
          20181123,
          20181126,
          20181127,
          20181128,
          20181129,
          20181130,
          20181203,
          20181204,
          20181206,
          20181207,
          20181210,
          20181211,
          20181212,
          20181213,
          20181214,
          20181217,
          20181218,
          20181219,
          20181220,
          20181221,
          20181224,
          20181226,
          20181227,
          20181228,
          20181231,
          20190102,
          20190103,
          20190104,
          20190107,
          20190108,
          20190109,
          20190110,
          20190111,
          20190114,
          20190115,
          20190116,
          20190117,
          20190118,
          20190122,
          20190123,
          20190124,
          20190125,
          20190128,
          20190129,
          20190130,
          20190131,
          20190201,
          20190204,
          20190205,
          20190206,
          20190207,
          20190208,
          20190211,
          20190212,
          20190213,
          20190214,
          20190215,
          20190219,
          20190220,
          20190221,
          20190222,
          20190225,
          20190226,
          20190227,
          20190228,
          20190301,
          20190304,
          20190305,
          20190306,
          20190307,
          20190308,
          20190311,
          20190312,
          20190313,
          20190314,
          20190315
         ],
         "y": [
          2934,
          2930,
          2920.25,
          2928.5,
          2927.5,
          2938.75,
          2937.25,
          2940.25,
          2916.25,
          2902.75,
          2902.5,
          2897,
          2789.5,
          2752.75,
          2775.75,
          2756.5,
          2825.5,
          2823.75,
          2779.75,
          2775,
          2764,
          2753.25,
          2671,
          2695,
          2675.5,
          2649.25,
          2691,
          2717.25,
          2744.25,
          2730.5,
          2745.5,
          2765.25,
          2823.25,
          2815.5,
          2785.5,
          2734,
          2733.75,
          2704.5,
          2740.5,
          2749,
          2702,
          2645.25,
          2654.25,
          2634.75,
          2675.5,
          2689,
          2747.25,
          2749.5,
          2763.5,
          2796,
          2706.5,
          2695.5,
          2640,
          2647,
          2645.25,
          2656.5,
          2649.5,
          2605.5,
          2555.75,
          2538,
          2504.5,
          2486.25,
          2413.5,
          2341.75,
          2471,
          2495,
          2486,
          2505.25,
          2511,
          2447.75,
          2531.25,
          2550.5,
          2572.5,
          2582.5,
          2594,
          2595,
          2580.5,
          2605.5,
          2613.25,
          2635.25,
          2671.5,
          2632,
          2638.25,
          2634,
          2663.5,
          2642,
          2640.25,
          2682.5,
          2704.5,
          2704.25,
          2721.25,
          2731,
          2729.5,
          2704,
          2706.25,
          2708.25,
          2744.75,
          2749.5,
          2743.5,
          2777,
          2778.75,
          2787,
          2774.25,
          2791.25,
          2797,
          2791.5,
          2795,
          2784.75,
          2805,
          2791.5,
          2791.5,
          2771.5,
          2750,
          2747,
          2784,
          2792,
          2814.5,
          2807.25,
          2811.89
         ],
         "yaxis": "y"
        },
        {
         "name": "fut_spread",
         "type": "scatter",
         "x": [
          20180924,
          20180925,
          20180926,
          20180927,
          20180928,
          20181001,
          20181002,
          20181003,
          20181004,
          20181005,
          20181008,
          20181009,
          20181010,
          20181011,
          20181012,
          20181015,
          20181016,
          20181017,
          20181018,
          20181019,
          20181022,
          20181023,
          20181024,
          20181025,
          20181026,
          20181029,
          20181030,
          20181031,
          20181101,
          20181102,
          20181105,
          20181106,
          20181107,
          20181108,
          20181109,
          20181112,
          20181113,
          20181114,
          20181115,
          20181116,
          20181119,
          20181120,
          20181121,
          20181123,
          20181126,
          20181127,
          20181128,
          20181129,
          20181130,
          20181203,
          20181204,
          20181206,
          20181207,
          20181210,
          20181211,
          20181212,
          20181213,
          20181214,
          20181217,
          20181218,
          20181219,
          20181220,
          20181221,
          20181224,
          20181226,
          20181227,
          20181228,
          20181231,
          20190102,
          20190103,
          20190104,
          20190107,
          20190108,
          20190109,
          20190110,
          20190111,
          20190114,
          20190115,
          20190116,
          20190117,
          20190118,
          20190122,
          20190123,
          20190124,
          20190125,
          20190128,
          20190129,
          20190130,
          20190131,
          20190201,
          20190204,
          20190205,
          20190206,
          20190207,
          20190208,
          20190211,
          20190212,
          20190213,
          20190214,
          20190215,
          20190219,
          20190220,
          20190221,
          20190222,
          20190225,
          20190226,
          20190227,
          20190228,
          20190301,
          20190304,
          20190305,
          20190306,
          20190307,
          20190308,
          20190311,
          20190312,
          20190313,
          20190314,
          20190315
         ],
         "y": [
          17.5,
          20,
          19.75,
          20,
          21,
          20.75,
          20.5,
          20.75,
          20.25,
          20.5,
          20.25,
          20.75,
          20,
          21,
          23.5,
          23.75,
          23.5,
          23.5,
          23.5,
          24,
          23.75,
          19.75,
          18.75,
          18.75,
          18,
          18.25,
          18.5,
          18.75,
          19.25,
          19,
          19.75,
          20.25,
          19.5,
          18.25,
          18.5,
          18.25,
          18.25,
          16,
          15.5,
          16.5,
          17.25,
          17.75,
          17.75,
          17.75,
          15.5,
          16.5,
          16.75,
          17,
          17.25,
          17,
          16.5,
          13.5,
          14,
          13,
          13.25,
          13.25,
          13.5,
          14,
          14,
          14.5,
          14.25,
          8.25,
          5.75,
          5.5,
          6.5,
          6.5,
          6.5,
          5.25,
          7,
          6.25,
          7.5,
          8.5,
          8.5,
          9.5,
          9.5,
          9.75,
          9.75,
          9.75,
          10.25,
          10.5,
          11,
          10.5,
          11.5,
          11,
          11.5,
          11,
          10.75,
          11,
          10.75,
          10.5,
          10.5,
          10.5,
          10.5,
          9.75,
          9.5,
          9.25,
          9.75,
          10,
          9.5,
          9.75,
          9.25,
          9.25,
          9.25,
          9.25,
          10,
          10,
          10,
          9.75,
          10,
          10,
          10,
          10,
          9.75,
          9.25,
          9.75,
          9.5,
          10,
          9.75,
          22.860000000000127
         ],
         "yaxis": "y2"
        },
        {
         "name": "opt_spread",
         "type": "scatter",
         "x": [
          20180924,
          20180925,
          20180926,
          20180927,
          20180928,
          20181001,
          20181002,
          20181003,
          20181004,
          20181005,
          20181008,
          20181009,
          20181010,
          20181011,
          20181012,
          20181015,
          20181016,
          20181017,
          20181018,
          20181019,
          20181022,
          20181023,
          20181024,
          20181025,
          20181026,
          20181029,
          20181030,
          20181031,
          20181101,
          20181102,
          20181105,
          20181106,
          20181107,
          20181108,
          20181109,
          20181112,
          20181113,
          20181114,
          20181115,
          20181116,
          20181119,
          20181120,
          20181121,
          20181123,
          20181126,
          20181127,
          20181128,
          20181129,
          20181130,
          20181203,
          20181204,
          20181206,
          20181207,
          20181210,
          20181211,
          20181212,
          20181213,
          20181214,
          20181217,
          20181218,
          20181219,
          20181220,
          20181221,
          20181224,
          20181226,
          20181227,
          20181228,
          20181231,
          20190102,
          20190103,
          20190104,
          20190107,
          20190108,
          20190109,
          20190110,
          20190111,
          20190114,
          20190115,
          20190116,
          20190117,
          20190118,
          20190122,
          20190123,
          20190124,
          20190125,
          20190128,
          20190129,
          20190130,
          20190131,
          20190201,
          20190204,
          20190205,
          20190206,
          20190207,
          20190208,
          20190211,
          20190212,
          20190213,
          20190214,
          20190215,
          20190219,
          20190220,
          20190221,
          20190222,
          20190225,
          20190226,
          20190227,
          20190228,
          20190301,
          20190304,
          20190305,
          20190306,
          20190307,
          20190308,
          20190311,
          20190312,
          20190313,
          20190314,
          20190315
         ],
         "y": [
          49.25,
          48.75,
          49.5,
          49,
          49.5,
          48.75,
          48.75,
          48.25,
          49.5,
          49.75,
          50,
          50.75,
          51.25,
          49,
          47,
          49.5,
          51,
          51,
          50.5,
          50.5,
          50.25,
          52,
          46.25,
          49.5,
          48.5,
          44.5,
          49.5,
          51.25,
          53.75,
          53.5,
          54,
          53,
          54.5,
          55,
          55.5,
          54,
          54.75,
          55.75,
          57.25,
          58.25,
          56.25,
          52.25,
          54,
          52.25,
          57.75,
          59.75,
          62.5,
          62.5,
          63,
          63.75,
          59.75,
          61,
          56.25,
          59.25,
          60.5,
          62.75,
          61.25,
          57,
          49.75,
          45.75,
          40.75,
          41.75,
          27.75,
          18.75,
          37.75,
          42.5,
          39.25,
          42.75,
          42,
          32,
          46.75,
          50.5,
          55.5,
          56.5,
          58.5,
          57.25,
          52.25,
          55.25,
          56,
          62,
          67.25,
          62.25,
          62,
          60.75,
          66.75,
          62.5,
          62.25,
          71,
          74,
          75,
          77.75,
          77.5,
          77.75,
          75.75,
          77.5,
          78,
          81.5,
          82.5,
          84,
          84.25,
          85,
          83.75,
          84.25,
          83.75,
          83.5,
          85.25,
          85.5,
          87.25,
          84.5,
          87.5,
          88.75,
          92.5,
          95.25,
          99,
          94.8,
          92.85,
          85.6,
          87.45,
          80.99
         ],
         "yaxis": "y2"
        }
       ],
       "layout": {
        "margin": {
         "b": 100
        },
        "template": {
         "data": {
          "bar": [
           {
            "error_x": {
             "color": "#2a3f5f"
            },
            "error_y": {
             "color": "#2a3f5f"
            },
            "marker": {
             "line": {
              "color": "#E5ECF6",
              "width": 0.5
             }
            },
            "type": "bar"
           }
          ],
          "barpolar": [
           {
            "marker": {
             "line": {
              "color": "#E5ECF6",
              "width": 0.5
             }
            },
            "type": "barpolar"
           }
          ],
          "carpet": [
           {
            "aaxis": {
             "endlinecolor": "#2a3f5f",
             "gridcolor": "white",
             "linecolor": "white",
             "minorgridcolor": "white",
             "startlinecolor": "#2a3f5f"
            },
            "baxis": {
             "endlinecolor": "#2a3f5f",
             "gridcolor": "white",
             "linecolor": "white",
             "minorgridcolor": "white",
             "startlinecolor": "#2a3f5f"
            },
            "type": "carpet"
           }
          ],
          "choropleth": [
           {
            "colorbar": {
             "outlinewidth": 0,
             "ticks": ""
            },
            "type": "choropleth"
           }
          ],
          "contour": [
           {
            "colorbar": {
             "outlinewidth": 0,
             "ticks": ""
            },
            "colorscale": [
             [
              0,
              "#0d0887"
             ],
             [
              0.1111111111111111,
              "#46039f"
             ],
             [
              0.2222222222222222,
              "#7201a8"
             ],
             [
              0.3333333333333333,
              "#9c179e"
             ],
             [
              0.4444444444444444,
              "#bd3786"
             ],
             [
              0.5555555555555556,
              "#d8576b"
             ],
             [
              0.6666666666666666,
              "#ed7953"
             ],
             [
              0.7777777777777778,
              "#fb9f3a"
             ],
             [
              0.8888888888888888,
              "#fdca26"
             ],
             [
              1,
              "#f0f921"
             ]
            ],
            "type": "contour"
           }
          ],
          "contourcarpet": [
           {
            "colorbar": {
             "outlinewidth": 0,
             "ticks": ""
            },
            "type": "contourcarpet"
           }
          ],
          "heatmap": [
           {
            "colorbar": {
             "outlinewidth": 0,
             "ticks": ""
            },
            "colorscale": [
             [
              0,
              "#0d0887"
             ],
             [
              0.1111111111111111,
              "#46039f"
             ],
             [
              0.2222222222222222,
              "#7201a8"
             ],
             [
              0.3333333333333333,
              "#9c179e"
             ],
             [
              0.4444444444444444,
              "#bd3786"
             ],
             [
              0.5555555555555556,
              "#d8576b"
             ],
             [
              0.6666666666666666,
              "#ed7953"
             ],
             [
              0.7777777777777778,
              "#fb9f3a"
             ],
             [
              0.8888888888888888,
              "#fdca26"
             ],
             [
              1,
              "#f0f921"
             ]
            ],
            "type": "heatmap"
           }
          ],
          "heatmapgl": [
           {
            "colorbar": {
             "outlinewidth": 0,
             "ticks": ""
            },
            "colorscale": [
             [
              0,
              "#0d0887"
             ],
             [
              0.1111111111111111,
              "#46039f"
             ],
             [
              0.2222222222222222,
              "#7201a8"
             ],
             [
              0.3333333333333333,
              "#9c179e"
             ],
             [
              0.4444444444444444,
              "#bd3786"
             ],
             [
              0.5555555555555556,
              "#d8576b"
             ],
             [
              0.6666666666666666,
              "#ed7953"
             ],
             [
              0.7777777777777778,
              "#fb9f3a"
             ],
             [
              0.8888888888888888,
              "#fdca26"
             ],
             [
              1,
              "#f0f921"
             ]
            ],
            "type": "heatmapgl"
           }
          ],
          "histogram": [
           {
            "marker": {
             "colorbar": {
              "outlinewidth": 0,
              "ticks": ""
             }
            },
            "type": "histogram"
           }
          ],
          "histogram2d": [
           {
            "colorbar": {
             "outlinewidth": 0,
             "ticks": ""
            },
            "colorscale": [
             [
              0,
              "#0d0887"
             ],
             [
              0.1111111111111111,
              "#46039f"
             ],
             [
              0.2222222222222222,
              "#7201a8"
             ],
             [
              0.3333333333333333,
              "#9c179e"
             ],
             [
              0.4444444444444444,
              "#bd3786"
             ],
             [
              0.5555555555555556,
              "#d8576b"
             ],
             [
              0.6666666666666666,
              "#ed7953"
             ],
             [
              0.7777777777777778,
              "#fb9f3a"
             ],
             [
              0.8888888888888888,
              "#fdca26"
             ],
             [
              1,
              "#f0f921"
             ]
            ],
            "type": "histogram2d"
           }
          ],
          "histogram2dcontour": [
           {
            "colorbar": {
             "outlinewidth": 0,
             "ticks": ""
            },
            "colorscale": [
             [
              0,
              "#0d0887"
             ],
             [
              0.1111111111111111,
              "#46039f"
             ],
             [
              0.2222222222222222,
              "#7201a8"
             ],
             [
              0.3333333333333333,
              "#9c179e"
             ],
             [
              0.4444444444444444,
              "#bd3786"
             ],
             [
              0.5555555555555556,
              "#d8576b"
             ],
             [
              0.6666666666666666,
              "#ed7953"
             ],
             [
              0.7777777777777778,
              "#fb9f3a"
             ],
             [
              0.8888888888888888,
              "#fdca26"
             ],
             [
              1,
              "#f0f921"
             ]
            ],
            "type": "histogram2dcontour"
           }
          ],
          "mesh3d": [
           {
            "colorbar": {
             "outlinewidth": 0,
             "ticks": ""
            },
            "type": "mesh3d"
           }
          ],
          "parcoords": [
           {
            "line": {
             "colorbar": {
              "outlinewidth": 0,
              "ticks": ""
             }
            },
            "type": "parcoords"
           }
          ],
          "pie": [
           {
            "automargin": true,
            "type": "pie"
           }
          ],
          "scatter": [
           {
            "marker": {
             "colorbar": {
              "outlinewidth": 0,
              "ticks": ""
             }
            },
            "type": "scatter"
           }
          ],
          "scatter3d": [
           {
            "line": {
             "colorbar": {
              "outlinewidth": 0,
              "ticks": ""
             }
            },
            "marker": {
             "colorbar": {
              "outlinewidth": 0,
              "ticks": ""
             }
            },
            "type": "scatter3d"
           }
          ],
          "scattercarpet": [
           {
            "marker": {
             "colorbar": {
              "outlinewidth": 0,
              "ticks": ""
             }
            },
            "type": "scattercarpet"
           }
          ],
          "scattergeo": [
           {
            "marker": {
             "colorbar": {
              "outlinewidth": 0,
              "ticks": ""
             }
            },
            "type": "scattergeo"
           }
          ],
          "scattergl": [
           {
            "marker": {
             "colorbar": {
              "outlinewidth": 0,
              "ticks": ""
             }
            },
            "type": "scattergl"
           }
          ],
          "scattermapbox": [
           {
            "marker": {
             "colorbar": {
              "outlinewidth": 0,
              "ticks": ""
             }
            },
            "type": "scattermapbox"
           }
          ],
          "scatterpolar": [
           {
            "marker": {
             "colorbar": {
              "outlinewidth": 0,
              "ticks": ""
             }
            },
            "type": "scatterpolar"
           }
          ],
          "scatterpolargl": [
           {
            "marker": {
             "colorbar": {
              "outlinewidth": 0,
              "ticks": ""
             }
            },
            "type": "scatterpolargl"
           }
          ],
          "scatterternary": [
           {
            "marker": {
             "colorbar": {
              "outlinewidth": 0,
              "ticks": ""
             }
            },
            "type": "scatterternary"
           }
          ],
          "surface": [
           {
            "colorbar": {
             "outlinewidth": 0,
             "ticks": ""
            },
            "colorscale": [
             [
              0,
              "#0d0887"
             ],
             [
              0.1111111111111111,
              "#46039f"
             ],
             [
              0.2222222222222222,
              "#7201a8"
             ],
             [
              0.3333333333333333,
              "#9c179e"
             ],
             [
              0.4444444444444444,
              "#bd3786"
             ],
             [
              0.5555555555555556,
              "#d8576b"
             ],
             [
              0.6666666666666666,
              "#ed7953"
             ],
             [
              0.7777777777777778,
              "#fb9f3a"
             ],
             [
              0.8888888888888888,
              "#fdca26"
             ],
             [
              1,
              "#f0f921"
             ]
            ],
            "type": "surface"
           }
          ],
          "table": [
           {
            "cells": {
             "fill": {
              "color": "#EBF0F8"
             },
             "line": {
              "color": "white"
             }
            },
            "header": {
             "fill": {
              "color": "#C8D4E3"
             },
             "line": {
              "color": "white"
             }
            },
            "type": "table"
           }
          ]
         },
         "layout": {
          "annotationdefaults": {
           "arrowcolor": "#2a3f5f",
           "arrowhead": 0,
           "arrowwidth": 1
          },
          "coloraxis": {
           "colorbar": {
            "outlinewidth": 0,
            "ticks": ""
           }
          },
          "colorscale": {
           "diverging": [
            [
             0,
             "#8e0152"
            ],
            [
             0.1,
             "#c51b7d"
            ],
            [
             0.2,
             "#de77ae"
            ],
            [
             0.3,
             "#f1b6da"
            ],
            [
             0.4,
             "#fde0ef"
            ],
            [
             0.5,
             "#f7f7f7"
            ],
            [
             0.6,
             "#e6f5d0"
            ],
            [
             0.7,
             "#b8e186"
            ],
            [
             0.8,
             "#7fbc41"
            ],
            [
             0.9,
             "#4d9221"
            ],
            [
             1,
             "#276419"
            ]
           ],
           "sequential": [
            [
             0,
             "#0d0887"
            ],
            [
             0.1111111111111111,
             "#46039f"
            ],
            [
             0.2222222222222222,
             "#7201a8"
            ],
            [
             0.3333333333333333,
             "#9c179e"
            ],
            [
             0.4444444444444444,
             "#bd3786"
            ],
            [
             0.5555555555555556,
             "#d8576b"
            ],
            [
             0.6666666666666666,
             "#ed7953"
            ],
            [
             0.7777777777777778,
             "#fb9f3a"
            ],
            [
             0.8888888888888888,
             "#fdca26"
            ],
            [
             1,
             "#f0f921"
            ]
           ],
           "sequentialminus": [
            [
             0,
             "#0d0887"
            ],
            [
             0.1111111111111111,
             "#46039f"
            ],
            [
             0.2222222222222222,
             "#7201a8"
            ],
            [
             0.3333333333333333,
             "#9c179e"
            ],
            [
             0.4444444444444444,
             "#bd3786"
            ],
            [
             0.5555555555555556,
             "#d8576b"
            ],
            [
             0.6666666666666666,
             "#ed7953"
            ],
            [
             0.7777777777777778,
             "#fb9f3a"
            ],
            [
             0.8888888888888888,
             "#fdca26"
            ],
            [
             1,
             "#f0f921"
            ]
           ]
          },
          "colorway": [
           "#636efa",
           "#EF553B",
           "#00cc96",
           "#ab63fa",
           "#FFA15A",
           "#19d3f3",
           "#FF6692",
           "#B6E880",
           "#FF97FF",
           "#FECB52"
          ],
          "font": {
           "color": "#2a3f5f"
          },
          "geo": {
           "bgcolor": "white",
           "lakecolor": "white",
           "landcolor": "#E5ECF6",
           "showlakes": true,
           "showland": true,
           "subunitcolor": "white"
          },
          "hoverlabel": {
           "align": "left"
          },
          "hovermode": "closest",
          "mapbox": {
           "style": "light"
          },
          "paper_bgcolor": "white",
          "plot_bgcolor": "#E5ECF6",
          "polar": {
           "angularaxis": {
            "gridcolor": "white",
            "linecolor": "white",
            "ticks": ""
           },
           "bgcolor": "#E5ECF6",
           "radialaxis": {
            "gridcolor": "white",
            "linecolor": "white",
            "ticks": ""
           }
          },
          "scene": {
           "xaxis": {
            "backgroundcolor": "#E5ECF6",
            "gridcolor": "white",
            "gridwidth": 2,
            "linecolor": "white",
            "showbackground": true,
            "ticks": "",
            "zerolinecolor": "white"
           },
           "yaxis": {
            "backgroundcolor": "#E5ECF6",
            "gridcolor": "white",
            "gridwidth": 2,
            "linecolor": "white",
            "showbackground": true,
            "ticks": "",
            "zerolinecolor": "white"
           },
           "zaxis": {
            "backgroundcolor": "#E5ECF6",
            "gridcolor": "white",
            "gridwidth": 2,
            "linecolor": "white",
            "showbackground": true,
            "ticks": "",
            "zerolinecolor": "white"
           }
          },
          "shapedefaults": {
           "line": {
            "color": "#2a3f5f"
           }
          },
          "ternary": {
           "aaxis": {
            "gridcolor": "white",
            "linecolor": "white",
            "ticks": ""
           },
           "baxis": {
            "gridcolor": "white",
            "linecolor": "white",
            "ticks": ""
           },
           "bgcolor": "#E5ECF6",
           "caxis": {
            "gridcolor": "white",
            "linecolor": "white",
            "ticks": ""
           }
          },
          "title": {
           "x": 0.05
          },
          "xaxis": {
           "automargin": true,
           "gridcolor": "white",
           "linecolor": "white",
           "ticks": "",
           "title": {
            "standoff": 15
           },
           "zerolinecolor": "white",
           "zerolinewidth": 2
          },
          "yaxis": {
           "automargin": true,
           "gridcolor": "white",
           "linecolor": "white",
           "ticks": "",
           "title": {
            "standoff": 15
           },
           "zerolinecolor": "white",
           "zerolinewidth": 2
          }
         }
        },
        "title": {
         "x": 0.5,
         "xanchor": "center",
         "y": 0.9,
         "yanchor": "top"
        },
        "xaxis": {
         "tickangle": 45,
         "ticktext": [
          20180924,
          20181001,
          20181008,
          20181015,
          20181022,
          20181029,
          20181105,
          20181112,
          20181119,
          20181127,
          20181204,
          20181212,
          20181219,
          20181227,
          20190104,
          20190111,
          20190118,
          20190128,
          20190204,
          20190211,
          20190219,
          20190226,
          20190305,
          20190312
         ],
         "tickvals": [
          20180924,
          20181001,
          20181008,
          20181015,
          20181022,
          20181029,
          20181105,
          20181112,
          20181119,
          20181127,
          20181204,
          20181212,
          20181219,
          20181227,
          20190104,
          20190111,
          20190118,
          20190128,
          20190204,
          20190211,
          20190219,
          20190226,
          20190305,
          20190312
         ],
         "type": "category"
        },
        "yaxis": {
         "title": {
          "text": "y main"
         }
        },
        "yaxis2": {
         "overlaying": "y",
         "side": "right",
         "title": {
          "text": "y alt"
         }
        }
       }
      },
      "text/html": [
       "<div>\n",
       "        \n",
       "        \n",
       "            <div id=\"f35b5af1-2da1-422a-84eb-4d7574ccd8de\" class=\"plotly-graph-div\" style=\"height:525px; width:100%;\"></div>\n",
       "            <script type=\"text/javascript\">\n",
       "                require([\"plotly\"], function(Plotly) {\n",
       "                    window.PLOTLYENV=window.PLOTLYENV || {};\n",
       "                    \n",
       "                if (document.getElementById(\"f35b5af1-2da1-422a-84eb-4d7574ccd8de\")) {\n",
       "                    Plotly.newPlot(\n",
       "                        'f35b5af1-2da1-422a-84eb-4d7574ccd8de',\n",
       "                        [{\"name\": \"fr_fut_pr\", \"type\": \"scatter\", \"x\": [20180924, 20180925, 20180926, 20180927, 20180928, 20181001, 20181002, 20181003, 20181004, 20181005, 20181008, 20181009, 20181010, 20181011, 20181012, 20181015, 20181016, 20181017, 20181018, 20181019, 20181022, 20181023, 20181024, 20181025, 20181026, 20181029, 20181030, 20181031, 20181101, 20181102, 20181105, 20181106, 20181107, 20181108, 20181109, 20181112, 20181113, 20181114, 20181115, 20181116, 20181119, 20181120, 20181121, 20181123, 20181126, 20181127, 20181128, 20181129, 20181130, 20181203, 20181204, 20181206, 20181207, 20181210, 20181211, 20181212, 20181213, 20181214, 20181217, 20181218, 20181219, 20181220, 20181221, 20181224, 20181226, 20181227, 20181228, 20181231, 20190102, 20190103, 20190104, 20190107, 20190108, 20190109, 20190110, 20190111, 20190114, 20190115, 20190116, 20190117, 20190118, 20190122, 20190123, 20190124, 20190125, 20190128, 20190129, 20190130, 20190131, 20190201, 20190204, 20190205, 20190206, 20190207, 20190208, 20190211, 20190212, 20190213, 20190214, 20190215, 20190219, 20190220, 20190221, 20190222, 20190225, 20190226, 20190227, 20190228, 20190301, 20190304, 20190305, 20190306, 20190307, 20190308, 20190311, 20190312, 20190313, 20190314, 20190315], \"y\": [2934.0, 2930.0, 2920.25, 2928.5, 2927.5, 2938.75, 2937.25, 2940.25, 2916.25, 2902.75, 2902.5, 2897.0, 2789.5, 2752.75, 2775.75, 2756.5, 2825.5, 2823.75, 2779.75, 2775.0, 2764.0, 2753.25, 2671.0, 2695.0, 2675.5, 2649.25, 2691.0, 2717.25, 2744.25, 2730.5, 2745.5, 2765.25, 2823.25, 2815.5, 2785.5, 2734.0, 2733.75, 2704.5, 2740.5, 2749.0, 2702.0, 2645.25, 2654.25, 2634.75, 2675.5, 2689.0, 2747.25, 2749.5, 2763.5, 2796.0, 2706.5, 2695.5, 2640.0, 2647.0, 2645.25, 2656.5, 2649.5, 2605.5, 2555.75, 2538.0, 2504.5, 2486.25, 2413.5, 2341.75, 2471.0, 2495.0, 2486.0, 2505.25, 2511.0, 2447.75, 2531.25, 2550.5, 2572.5, 2582.5, 2594.0, 2595.0, 2580.5, 2605.5, 2613.25, 2635.25, 2671.5, 2632.0, 2638.25, 2634.0, 2663.5, 2642.0, 2640.25, 2682.5, 2704.5, 2704.25, 2721.25, 2731.0, 2729.5, 2704.0, 2706.25, 2708.25, 2744.75, 2749.5, 2743.5, 2777.0, 2778.75, 2787.0, 2774.25, 2791.25, 2797.0, 2791.5, 2795.0, 2784.75, 2805.0, 2791.5, 2791.5, 2771.5, 2750.0, 2747.0, 2784.0, 2792.0, 2814.5, 2807.25, 2811.89], \"yaxis\": \"y\"}, {\"name\": \"fut_spread\", \"type\": \"scatter\", \"x\": [20180924, 20180925, 20180926, 20180927, 20180928, 20181001, 20181002, 20181003, 20181004, 20181005, 20181008, 20181009, 20181010, 20181011, 20181012, 20181015, 20181016, 20181017, 20181018, 20181019, 20181022, 20181023, 20181024, 20181025, 20181026, 20181029, 20181030, 20181031, 20181101, 20181102, 20181105, 20181106, 20181107, 20181108, 20181109, 20181112, 20181113, 20181114, 20181115, 20181116, 20181119, 20181120, 20181121, 20181123, 20181126, 20181127, 20181128, 20181129, 20181130, 20181203, 20181204, 20181206, 20181207, 20181210, 20181211, 20181212, 20181213, 20181214, 20181217, 20181218, 20181219, 20181220, 20181221, 20181224, 20181226, 20181227, 20181228, 20181231, 20190102, 20190103, 20190104, 20190107, 20190108, 20190109, 20190110, 20190111, 20190114, 20190115, 20190116, 20190117, 20190118, 20190122, 20190123, 20190124, 20190125, 20190128, 20190129, 20190130, 20190131, 20190201, 20190204, 20190205, 20190206, 20190207, 20190208, 20190211, 20190212, 20190213, 20190214, 20190215, 20190219, 20190220, 20190221, 20190222, 20190225, 20190226, 20190227, 20190228, 20190301, 20190304, 20190305, 20190306, 20190307, 20190308, 20190311, 20190312, 20190313, 20190314, 20190315], \"y\": [17.5, 20.0, 19.75, 20.0, 21.0, 20.75, 20.5, 20.75, 20.25, 20.5, 20.25, 20.75, 20.0, 21.0, 23.5, 23.75, 23.5, 23.5, 23.5, 24.0, 23.75, 19.75, 18.75, 18.75, 18.0, 18.25, 18.5, 18.75, 19.25, 19.0, 19.75, 20.25, 19.5, 18.25, 18.5, 18.25, 18.25, 16.0, 15.5, 16.5, 17.25, 17.75, 17.75, 17.75, 15.5, 16.5, 16.75, 17.0, 17.25, 17.0, 16.5, 13.5, 14.0, 13.0, 13.25, 13.25, 13.5, 14.0, 14.0, 14.5, 14.25, 8.25, 5.75, 5.5, 6.5, 6.5, 6.5, 5.25, 7.0, 6.25, 7.5, 8.5, 8.5, 9.5, 9.5, 9.75, 9.75, 9.75, 10.25, 10.5, 11.0, 10.5, 11.5, 11.0, 11.5, 11.0, 10.75, 11.0, 10.75, 10.5, 10.5, 10.5, 10.5, 9.75, 9.5, 9.25, 9.75, 10.0, 9.5, 9.75, 9.25, 9.25, 9.25, 9.25, 10.0, 10.0, 10.0, 9.75, 10.0, 10.0, 10.0, 10.0, 9.75, 9.25, 9.75, 9.5, 10.0, 9.75, 22.860000000000127], \"yaxis\": \"y2\"}, {\"name\": \"opt_spread\", \"type\": \"scatter\", \"x\": [20180924, 20180925, 20180926, 20180927, 20180928, 20181001, 20181002, 20181003, 20181004, 20181005, 20181008, 20181009, 20181010, 20181011, 20181012, 20181015, 20181016, 20181017, 20181018, 20181019, 20181022, 20181023, 20181024, 20181025, 20181026, 20181029, 20181030, 20181031, 20181101, 20181102, 20181105, 20181106, 20181107, 20181108, 20181109, 20181112, 20181113, 20181114, 20181115, 20181116, 20181119, 20181120, 20181121, 20181123, 20181126, 20181127, 20181128, 20181129, 20181130, 20181203, 20181204, 20181206, 20181207, 20181210, 20181211, 20181212, 20181213, 20181214, 20181217, 20181218, 20181219, 20181220, 20181221, 20181224, 20181226, 20181227, 20181228, 20181231, 20190102, 20190103, 20190104, 20190107, 20190108, 20190109, 20190110, 20190111, 20190114, 20190115, 20190116, 20190117, 20190118, 20190122, 20190123, 20190124, 20190125, 20190128, 20190129, 20190130, 20190131, 20190201, 20190204, 20190205, 20190206, 20190207, 20190208, 20190211, 20190212, 20190213, 20190214, 20190215, 20190219, 20190220, 20190221, 20190222, 20190225, 20190226, 20190227, 20190228, 20190301, 20190304, 20190305, 20190306, 20190307, 20190308, 20190311, 20190312, 20190313, 20190314, 20190315], \"y\": [49.25, 48.75, 49.5, 49.0, 49.5, 48.75, 48.75, 48.25, 49.5, 49.75, 50.0, 50.75, 51.25, 49.0, 47.0, 49.5, 51.0, 51.0, 50.5, 50.5, 50.25, 52.0, 46.25, 49.5, 48.5, 44.5, 49.5, 51.25, 53.75, 53.5, 54.0, 53.0, 54.5, 55.0, 55.5, 54.0, 54.75, 55.75, 57.25, 58.25, 56.25, 52.25, 54.0, 52.25, 57.75, 59.75, 62.5, 62.5, 63.0, 63.75, 59.75, 61.0, 56.25, 59.25, 60.5, 62.75, 61.25, 57.0, 49.75, 45.75, 40.75, 41.75, 27.75, 18.75, 37.75, 42.5, 39.25, 42.75, 42.0, 32.0, 46.75, 50.5, 55.5, 56.5, 58.5, 57.25, 52.25, 55.25, 56.0, 62.0, 67.25, 62.25, 62.0, 60.75, 66.75, 62.5, 62.25, 71.0, 74.0, 75.0, 77.75, 77.5, 77.75, 75.75, 77.5, 78.0, 81.5, 82.5, 84.0, 84.25, 85.0, 83.75, 84.25, 83.75, 83.5, 85.25, 85.5, 87.25, 84.5, 87.5, 88.75, 92.5, 95.25, 99.0, 94.8, 92.85, 85.6, 87.45, 80.99], \"yaxis\": \"y2\"}],\n",
       "                        {\"margin\": {\"b\": 100}, \"template\": {\"data\": {\"bar\": [{\"error_x\": {\"color\": \"#2a3f5f\"}, \"error_y\": {\"color\": \"#2a3f5f\"}, \"marker\": {\"line\": {\"color\": \"#E5ECF6\", \"width\": 0.5}}, \"type\": \"bar\"}], \"barpolar\": [{\"marker\": {\"line\": {\"color\": \"#E5ECF6\", \"width\": 0.5}}, \"type\": \"barpolar\"}], \"carpet\": [{\"aaxis\": {\"endlinecolor\": \"#2a3f5f\", \"gridcolor\": \"white\", \"linecolor\": \"white\", \"minorgridcolor\": \"white\", \"startlinecolor\": \"#2a3f5f\"}, \"baxis\": {\"endlinecolor\": \"#2a3f5f\", \"gridcolor\": \"white\", \"linecolor\": \"white\", \"minorgridcolor\": \"white\", \"startlinecolor\": \"#2a3f5f\"}, \"type\": \"carpet\"}], \"choropleth\": [{\"colorbar\": {\"outlinewidth\": 0, \"ticks\": \"\"}, \"type\": \"choropleth\"}], \"contour\": [{\"colorbar\": {\"outlinewidth\": 0, \"ticks\": \"\"}, \"colorscale\": [[0.0, \"#0d0887\"], [0.1111111111111111, \"#46039f\"], [0.2222222222222222, \"#7201a8\"], [0.3333333333333333, \"#9c179e\"], [0.4444444444444444, \"#bd3786\"], [0.5555555555555556, \"#d8576b\"], [0.6666666666666666, \"#ed7953\"], [0.7777777777777778, \"#fb9f3a\"], [0.8888888888888888, \"#fdca26\"], [1.0, \"#f0f921\"]], \"type\": \"contour\"}], \"contourcarpet\": [{\"colorbar\": {\"outlinewidth\": 0, \"ticks\": \"\"}, \"type\": \"contourcarpet\"}], \"heatmap\": [{\"colorbar\": {\"outlinewidth\": 0, \"ticks\": \"\"}, \"colorscale\": [[0.0, \"#0d0887\"], [0.1111111111111111, \"#46039f\"], [0.2222222222222222, \"#7201a8\"], [0.3333333333333333, \"#9c179e\"], [0.4444444444444444, \"#bd3786\"], [0.5555555555555556, \"#d8576b\"], [0.6666666666666666, \"#ed7953\"], [0.7777777777777778, \"#fb9f3a\"], [0.8888888888888888, \"#fdca26\"], [1.0, \"#f0f921\"]], \"type\": \"heatmap\"}], \"heatmapgl\": [{\"colorbar\": {\"outlinewidth\": 0, \"ticks\": \"\"}, \"colorscale\": [[0.0, \"#0d0887\"], [0.1111111111111111, \"#46039f\"], [0.2222222222222222, \"#7201a8\"], [0.3333333333333333, \"#9c179e\"], [0.4444444444444444, \"#bd3786\"], [0.5555555555555556, \"#d8576b\"], [0.6666666666666666, \"#ed7953\"], [0.7777777777777778, \"#fb9f3a\"], [0.8888888888888888, \"#fdca26\"], [1.0, \"#f0f921\"]], \"type\": \"heatmapgl\"}], \"histogram\": [{\"marker\": {\"colorbar\": {\"outlinewidth\": 0, \"ticks\": \"\"}}, \"type\": \"histogram\"}], \"histogram2d\": [{\"colorbar\": {\"outlinewidth\": 0, \"ticks\": \"\"}, \"colorscale\": [[0.0, \"#0d0887\"], [0.1111111111111111, \"#46039f\"], [0.2222222222222222, \"#7201a8\"], [0.3333333333333333, \"#9c179e\"], [0.4444444444444444, \"#bd3786\"], [0.5555555555555556, \"#d8576b\"], [0.6666666666666666, \"#ed7953\"], [0.7777777777777778, \"#fb9f3a\"], [0.8888888888888888, \"#fdca26\"], [1.0, \"#f0f921\"]], \"type\": \"histogram2d\"}], \"histogram2dcontour\": [{\"colorbar\": {\"outlinewidth\": 0, \"ticks\": \"\"}, \"colorscale\": [[0.0, \"#0d0887\"], [0.1111111111111111, \"#46039f\"], [0.2222222222222222, \"#7201a8\"], [0.3333333333333333, \"#9c179e\"], [0.4444444444444444, \"#bd3786\"], [0.5555555555555556, \"#d8576b\"], [0.6666666666666666, \"#ed7953\"], [0.7777777777777778, \"#fb9f3a\"], [0.8888888888888888, \"#fdca26\"], [1.0, \"#f0f921\"]], \"type\": \"histogram2dcontour\"}], \"mesh3d\": [{\"colorbar\": {\"outlinewidth\": 0, \"ticks\": \"\"}, \"type\": \"mesh3d\"}], \"parcoords\": [{\"line\": {\"colorbar\": {\"outlinewidth\": 0, \"ticks\": \"\"}}, \"type\": \"parcoords\"}], \"pie\": [{\"automargin\": true, \"type\": \"pie\"}], \"scatter\": [{\"marker\": {\"colorbar\": {\"outlinewidth\": 0, \"ticks\": \"\"}}, \"type\": \"scatter\"}], \"scatter3d\": [{\"line\": {\"colorbar\": {\"outlinewidth\": 0, \"ticks\": \"\"}}, \"marker\": {\"colorbar\": {\"outlinewidth\": 0, \"ticks\": \"\"}}, \"type\": \"scatter3d\"}], \"scattercarpet\": [{\"marker\": {\"colorbar\": {\"outlinewidth\": 0, \"ticks\": \"\"}}, \"type\": \"scattercarpet\"}], \"scattergeo\": [{\"marker\": {\"colorbar\": {\"outlinewidth\": 0, \"ticks\": \"\"}}, \"type\": \"scattergeo\"}], \"scattergl\": [{\"marker\": {\"colorbar\": {\"outlinewidth\": 0, \"ticks\": \"\"}}, \"type\": \"scattergl\"}], \"scattermapbox\": [{\"marker\": {\"colorbar\": {\"outlinewidth\": 0, \"ticks\": \"\"}}, \"type\": \"scattermapbox\"}], \"scatterpolar\": [{\"marker\": {\"colorbar\": {\"outlinewidth\": 0, \"ticks\": \"\"}}, \"type\": \"scatterpolar\"}], \"scatterpolargl\": [{\"marker\": {\"colorbar\": {\"outlinewidth\": 0, \"ticks\": \"\"}}, \"type\": \"scatterpolargl\"}], \"scatterternary\": [{\"marker\": {\"colorbar\": {\"outlinewidth\": 0, \"ticks\": \"\"}}, \"type\": \"scatterternary\"}], \"surface\": [{\"colorbar\": {\"outlinewidth\": 0, \"ticks\": \"\"}, \"colorscale\": [[0.0, \"#0d0887\"], [0.1111111111111111, \"#46039f\"], [0.2222222222222222, \"#7201a8\"], [0.3333333333333333, \"#9c179e\"], [0.4444444444444444, \"#bd3786\"], [0.5555555555555556, \"#d8576b\"], [0.6666666666666666, \"#ed7953\"], [0.7777777777777778, \"#fb9f3a\"], [0.8888888888888888, \"#fdca26\"], [1.0, \"#f0f921\"]], \"type\": \"surface\"}], \"table\": [{\"cells\": {\"fill\": {\"color\": \"#EBF0F8\"}, \"line\": {\"color\": \"white\"}}, \"header\": {\"fill\": {\"color\": \"#C8D4E3\"}, \"line\": {\"color\": \"white\"}}, \"type\": \"table\"}]}, \"layout\": {\"annotationdefaults\": {\"arrowcolor\": \"#2a3f5f\", \"arrowhead\": 0, \"arrowwidth\": 1}, \"coloraxis\": {\"colorbar\": {\"outlinewidth\": 0, \"ticks\": \"\"}}, \"colorscale\": {\"diverging\": [[0, \"#8e0152\"], [0.1, \"#c51b7d\"], [0.2, \"#de77ae\"], [0.3, \"#f1b6da\"], [0.4, \"#fde0ef\"], [0.5, \"#f7f7f7\"], [0.6, \"#e6f5d0\"], [0.7, \"#b8e186\"], [0.8, \"#7fbc41\"], [0.9, \"#4d9221\"], [1, \"#276419\"]], \"sequential\": [[0.0, \"#0d0887\"], [0.1111111111111111, \"#46039f\"], [0.2222222222222222, \"#7201a8\"], [0.3333333333333333, \"#9c179e\"], [0.4444444444444444, \"#bd3786\"], [0.5555555555555556, \"#d8576b\"], [0.6666666666666666, \"#ed7953\"], [0.7777777777777778, \"#fb9f3a\"], [0.8888888888888888, \"#fdca26\"], [1.0, \"#f0f921\"]], \"sequentialminus\": [[0.0, \"#0d0887\"], [0.1111111111111111, \"#46039f\"], [0.2222222222222222, \"#7201a8\"], [0.3333333333333333, \"#9c179e\"], [0.4444444444444444, \"#bd3786\"], [0.5555555555555556, \"#d8576b\"], [0.6666666666666666, \"#ed7953\"], [0.7777777777777778, \"#fb9f3a\"], [0.8888888888888888, \"#fdca26\"], [1.0, \"#f0f921\"]]}, \"colorway\": [\"#636efa\", \"#EF553B\", \"#00cc96\", \"#ab63fa\", \"#FFA15A\", \"#19d3f3\", \"#FF6692\", \"#B6E880\", \"#FF97FF\", \"#FECB52\"], \"font\": {\"color\": \"#2a3f5f\"}, \"geo\": {\"bgcolor\": \"white\", \"lakecolor\": \"white\", \"landcolor\": \"#E5ECF6\", \"showlakes\": true, \"showland\": true, \"subunitcolor\": \"white\"}, \"hoverlabel\": {\"align\": \"left\"}, \"hovermode\": \"closest\", \"mapbox\": {\"style\": \"light\"}, \"paper_bgcolor\": \"white\", \"plot_bgcolor\": \"#E5ECF6\", \"polar\": {\"angularaxis\": {\"gridcolor\": \"white\", \"linecolor\": \"white\", \"ticks\": \"\"}, \"bgcolor\": \"#E5ECF6\", \"radialaxis\": {\"gridcolor\": \"white\", \"linecolor\": \"white\", \"ticks\": \"\"}}, \"scene\": {\"xaxis\": {\"backgroundcolor\": \"#E5ECF6\", \"gridcolor\": \"white\", \"gridwidth\": 2, \"linecolor\": \"white\", \"showbackground\": true, \"ticks\": \"\", \"zerolinecolor\": \"white\"}, \"yaxis\": {\"backgroundcolor\": \"#E5ECF6\", \"gridcolor\": \"white\", \"gridwidth\": 2, \"linecolor\": \"white\", \"showbackground\": true, \"ticks\": \"\", \"zerolinecolor\": \"white\"}, \"zaxis\": {\"backgroundcolor\": \"#E5ECF6\", \"gridcolor\": \"white\", \"gridwidth\": 2, \"linecolor\": \"white\", \"showbackground\": true, \"ticks\": \"\", \"zerolinecolor\": \"white\"}}, \"shapedefaults\": {\"line\": {\"color\": \"#2a3f5f\"}}, \"ternary\": {\"aaxis\": {\"gridcolor\": \"white\", \"linecolor\": \"white\", \"ticks\": \"\"}, \"baxis\": {\"gridcolor\": \"white\", \"linecolor\": \"white\", \"ticks\": \"\"}, \"bgcolor\": \"#E5ECF6\", \"caxis\": {\"gridcolor\": \"white\", \"linecolor\": \"white\", \"ticks\": \"\"}}, \"title\": {\"x\": 0.05}, \"xaxis\": {\"automargin\": true, \"gridcolor\": \"white\", \"linecolor\": \"white\", \"ticks\": \"\", \"title\": {\"standoff\": 15}, \"zerolinecolor\": \"white\", \"zerolinewidth\": 2}, \"yaxis\": {\"automargin\": true, \"gridcolor\": \"white\", \"linecolor\": \"white\", \"ticks\": \"\", \"title\": {\"standoff\": 15}, \"zerolinecolor\": \"white\", \"zerolinewidth\": 2}}}, \"title\": {\"x\": 0.5, \"xanchor\": \"center\", \"y\": 0.9, \"yanchor\": \"top\"}, \"xaxis\": {\"tickangle\": 45, \"ticktext\": [20180924, 20181001, 20181008, 20181015, 20181022, 20181029, 20181105, 20181112, 20181119, 20181127, 20181204, 20181212, 20181219, 20181227, 20190104, 20190111, 20190118, 20190128, 20190204, 20190211, 20190219, 20190226, 20190305, 20190312], \"tickvals\": [20180924, 20181001, 20181008, 20181015, 20181022, 20181029, 20181105, 20181112, 20181119, 20181127, 20181204, 20181212, 20181219, 20181227, 20190104, 20190111, 20190118, 20190128, 20190204, 20190211, 20190219, 20190226, 20190305, 20190312], \"type\": \"category\"}, \"yaxis\": {\"title\": {\"text\": \"y main\"}}, \"yaxis2\": {\"overlaying\": \"y\", \"side\": \"right\", \"title\": {\"text\": \"y alt\"}}},\n",
       "                        {\"responsive\": true}\n",
       "                    ).then(function(){\n",
       "                            \n",
       "var gd = document.getElementById('f35b5af1-2da1-422a-84eb-4d7574ccd8de');\n",
       "var x = new MutationObserver(function (mutations, observer) {{\n",
       "        var display = window.getComputedStyle(gd).display;\n",
       "        if (!display || display === 'none') {{\n",
       "            console.log([gd, 'removed!']);\n",
       "            Plotly.purge(gd);\n",
       "            observer.disconnect();\n",
       "        }}\n",
       "}});\n",
       "\n",
       "// Listen for the removal of the full notebook cells\n",
       "var notebookContainer = gd.closest('#notebook-container');\n",
       "if (notebookContainer) {{\n",
       "    x.observe(notebookContainer, {childList: true});\n",
       "}}\n",
       "\n",
       "// Listen for the clearing of the current output cell\n",
       "var outputEl = gd.closest('.output');\n",
       "if (outputEl) {{\n",
       "    x.observe(outputEl, {childList: true});\n",
       "}}\n",
       "\n",
       "                        })\n",
       "                };\n",
       "                });\n",
       "            </script>\n",
       "        </div>"
      ]
     },
     "metadata": {},
     "output_type": "display_data"
    }
   ],
   "source": [
    "graph_cols = ['settle_date','fr_fut_pr','fut_spread','opt_spread']\n",
    "iplot(plotly_plot(df_in=df_both[graph_cols],x_column='settle_date',\n",
    "                 yaxis2_cols=['fut_spread','opt_spread']))\n",
    "\n",
    "\n"
   ]
  },
  {
   "cell_type": "markdown",
   "metadata": {},
   "source": [
    "### Methods to build implied volatilites"
   ]
  },
  {
   "cell_type": "code",
   "execution_count": 12,
   "metadata": {},
   "outputs": [],
   "source": [
    "def _get_contract_number_from_symbol(symbol):\n",
    "    c = symbol[0:2]\n",
    "    if c in ['CL','CB','ES','GE','NG']:\n",
    "        return 2\n",
    "    return 2"
   ]
  },
  {
   "cell_type": "code",
   "execution_count": null,
   "metadata": {},
   "outputs": [],
   "source": []
  },
  {
   "cell_type": "code",
   "execution_count": 266,
   "metadata": {},
   "outputs": [],
   "source": [
    "USE_PYVOL = True\n",
    "def lam_pyvol(r):\n",
    "    try:\n",
    "        return implied_volatility.implied_volatility(r.close_x,r.close_y,r.strike,.02,r.dte/365, r.pc.lower())\n",
    "    except:\n",
    "        return -1\n",
    "# lam_pyvol = lambda r:implied_volatility.implied_volatility(r.close_x,r.close_y,r.strike,.02,r.dte/365, r.pc.lower())\n",
    "lam_mibian = lambda r:mibian.BS([r.close_y,r.strike,2,r.dte], callPrice=r.close_x).impliedVolatility\n",
    "\n",
    "def get_implieds(df,df_expiry_dates,contract,contract_num=2):\n",
    "    df2 = df[['symbol','contract_num','pc','settle_date','strike','close_x','close_y']]\n",
    "    df2 = df2[(((df2.pc=='C' )& (df2.strike>=df2.close_y)) | ((df2.pc=='P' ) & (df2.strike<df2.close_y)))  & (df2.symbol.str.contains(contract))]\n",
    "    cnum = _get_contract_number_from_symbol(contract)\n",
    "    if contract_num is not None:\n",
    "        df2 = df2[df2.contract_num==contract_num]\n",
    "    if len(df2)<1:\n",
    "        raise ValueError(f\"get_implieds: no contracts = contract_num {contract_num}\")\n",
    "    phigh = df2.close_y.max()\n",
    "    plow = df2.close_y.min()\n",
    "    high_strike = round(phigh * 1.3)\n",
    "    low_strike = round(plow * .7)\n",
    "    df2 = df2[(df2.strike>=low_strike) & (df2.strike<=high_strike)]\n",
    "\n",
    "    df9 = df2[df2.symbol==contract]\n",
    "    df9 = df9.merge(df_expiry_dates.rename(columns={'settle_date':'expiry'}),on='symbol',how='inner')\n",
    "    df9['syear'] = df9.settle_date.astype(str).str.slice(0,4).astype(int)\n",
    "    df9['smon'] = df9.settle_date.astype(str).str.slice(4,6).astype(int)\n",
    "    df9['sday'] = df9.settle_date.astype(str).str.slice(6,8).astype(int)\n",
    "    df9['eyear'] = df9.expiry.astype(str).str.slice(0,4).astype(int)\n",
    "    df9['emon'] = df9.expiry.astype(str).str.slice(4,6).astype(int)\n",
    "    df9['eday'] = df9.expiry.astype(str).str.slice(6,8).astype(int)\n",
    "    df9['sdatetime'] = df9.apply(lambda r:datetime.datetime(r.syear,r.smon,r.sday),axis=1)\n",
    "    df9['edatetime'] = df9.apply(lambda r:datetime.datetime(r.eyear,r.emon,r.eday),axis=1)\n",
    "    df9['dte'] = df9.edatetime - df9.sdatetime\n",
    "    df9.dte = df9.dte.dt.days\n",
    "    df9 = df9[['symbol','settle_date','pc','contract_num','strike','close_x','close_y','dte']]\n",
    "    df10 = df9.iloc[:len(df9)].copy()\n",
    "    df10.index = list(range(len(df10)))\n",
    "    if USE_PYVOL:\n",
    "        df10['iv'] = df10.apply(lam_pyvol,axis=1)\n",
    "    else:\n",
    "        n = 100\n",
    "        for i in tqdm_notebook(np.arange(0,len(df10)-n,n)):\n",
    "                df10.loc[i:i+n,'iv'] = df10.loc[i:i+n].apply(lam_mibian,axis=1)\n",
    "        print(f'doing remaining {datetime.datetime.now()}')\n",
    "        i = df10[df10.iv.isna()].index[0]\n",
    "        df10.loc[i:,'iv'] = df10.loc[i:].apply(lam_mbian,axis=1)\n",
    "        print(f'done with remaining {datetime.datetime.now()}')\n",
    "    return df10\n",
    "\n"
   ]
  },
  {
   "cell_type": "markdown",
   "metadata": {},
   "source": [
    "#### example of using mibian for options calcs (we use py_vollib instead)"
   ]
  },
  {
   "cell_type": "code",
   "execution_count": 14,
   "metadata": {},
   "outputs": [],
   "source": [
    "def _test_mibian():\n",
    "    underlying=1.4565\n",
    "    strike=1.45\n",
    "    interest = 1\n",
    "    days=30\n",
    "    opt_info = [underlying,strike,interest,days]\n",
    "    c = mibian.BS(opt_info, volatility=20)\n",
    "    print(c.callPrice,\n",
    "    c.putPrice,\n",
    "    c.callDelta,\n",
    "    c.putDelta,\n",
    "    c.callDelta2,\n",
    "    c.putDelta2,\n",
    "    c.callTheta,\n",
    "    c.putTheta,\n",
    "    c.callRho,\n",
    "    c.putRho,\n",
    "    c.vega,\n",
    "    c.gamma)\n",
    "\n",
    "\n",
    "    co = mibian.BS(opt_info, callPrice=c.callPrice)\n",
    "    co.impliedVolatility"
   ]
  },
  {
   "cell_type": "code",
   "execution_count": 15,
   "metadata": {},
   "outputs": [
    {
     "name": "stdout",
     "output_type": "stream",
     "text": [
      "0.03721154839277063 0.029520257209636247 0.5481584196590104 -0.4518415803409897 -0.52495254471764 0.4742258751560606 -0.0005720853891507385 -0.0005323919998680845 0.000625628375211434 -0.0005651733032681817 0.0016536933299310715 4.742153534821618\n"
     ]
    }
   ],
   "source": [
    "_test_mibian()"
   ]
  },
  {
   "cell_type": "markdown",
   "metadata": {},
   "source": [
    "#### Show simple example of using py_vol package"
   ]
  },
  {
   "cell_type": "code",
   "execution_count": 16,
   "metadata": {},
   "outputs": [],
   "source": [
    "def _test_py_vollib():\n",
    "    #CL,Q2019,560P,07/02/2019,0.6,1.61,0.54,1.54,1997,4465\n",
    "    F = 56.25\n",
    "    K = 56\n",
    "    sigma = .366591539\n",
    "    flag = 'p'\n",
    "    t = 15/365.0\n",
    "    r = .025\n",
    "    discounted_call_price = black.black(flag, F, K, t, r, sigma)\n",
    "    dcp = 1.54\n",
    "    ivpy = implied_volatility.implied_volatility(dcp, F, K, r, t, flag)\n",
    "    ivmn = mibian.BS([F,K,2.5,15], callPrice=dcp).impliedVolatility\n",
    "    return discounted_call_price,ivpy,ivmn\n"
   ]
  },
  {
   "cell_type": "code",
   "execution_count": 17,
   "metadata": {},
   "outputs": [
    {
     "data": {
      "text/plain": [
       "(1.5399999992892466, 0.36659153915713766, 30.517578125)"
      ]
     },
     "execution_count": 17,
     "metadata": {},
     "output_type": "execute_result"
    }
   ],
   "source": [
    "_test_py_vollib()"
   ]
  },
  {
   "cell_type": "markdown",
   "metadata": {},
   "source": [
    "### Method to get closest-to-the-money and at-the-money (atm) vols"
   ]
  },
  {
   "cell_type": "code",
   "execution_count": 18,
   "metadata": {},
   "outputs": [],
   "source": [
    "def get_closest_to_the_money_vols(df_implied_vols,\n",
    "                 opt_close_col='close_x',\n",
    "                 fut_close_col = 'close_y',\n",
    "                 iv_col = 'iv'):\n",
    "    df_in = df_implied_vols.copy()\n",
    "    df_in['amt_away_from_money'] = df_in.apply(lambda r: abs(r[fut_close_col]-r.strike),axis=1)\n",
    "    gb_cols = ['settle_date','symbol']\n",
    "    df_min_amt_away = df_in[gb_cols + ['amt_away_from_money']].groupby(gb_cols,as_index=False).min()\n",
    "    df_ret = df_min_amt_away.merge(\n",
    "        df_in,on=gb_cols + ['amt_away_from_money'],how='inner')\n",
    "    df_lowest_iv = df_ret[['settle_date','symbol','iv']].groupby(\n",
    "        ['settle_date','symbol'],\n",
    "        as_index=False).min()\n",
    "    df_ret = df_ret.merge(df_lowest_iv,on=['settle_date','symbol','iv'],how='inner')\n",
    "    return df_ret\n"
   ]
  },
  {
   "cell_type": "code",
   "execution_count": 239,
   "metadata": {},
   "outputs": [],
   "source": [
    "import pdb\n",
    "\n",
    "def get_even_moneyness_strikes(df_implieds):\n",
    "    df10 = df_implieds.copy()\n",
    "    # define amounts around the money which will help create strikes to add\n",
    "    moneyness = np.arange(.7,1.4,.05).round(6)\n",
    "    # define columns on which to execute groupby\n",
    "#     gb_cols = ['symbol','settle_date','pc','contract_num','dte','close_y']\n",
    "    gb_cols = ['symbol','settle_date','contract_num','dte','close_y']\n",
    "    # define function used in groupby.apply to create strikes and iv's at those strikes\n",
    "    #   where the strikes are an even amount from the money \n",
    "    #   (like .7, .8, ... 1, 1.1, 1.2, etc)\n",
    "    def _add_even_moneyness_strikes(df):\n",
    "        # get underlying from first row (the groupby makes them all the same)\n",
    "        r = df.iloc[0]\n",
    "        underlying = r.close_y\n",
    "        # create new rows to append to df, using only the gb_cols\n",
    "        df_ret1 = df.iloc[:len(moneyness)][gb_cols].copy()\n",
    "        # add nan iv's !!!! MUST BE np.nan - NOT None\n",
    "        df_ret1['iv'] = np.nan\n",
    "        # add new strikes\n",
    "        df_ret1['strike'] = moneyness * underlying\n",
    "        # append the new strikes\n",
    "        try:\n",
    "            # try with using the sort=True options for versions of pandas after 0.23\n",
    "            dfa = df.append(df_ret1,ignore_index=True,sort=True).copy()\n",
    "        except:\n",
    "            # otherwise do not specify sort\n",
    "            dfa = df.append(df_ret1,ignore_index=True).copy()\n",
    "        df_ret2 = dfa.sort_values(['symbol','settle_date','pc','strike'])\n",
    "        df_ret2 = df_ret2.drop_duplicates(subset='strike')\n",
    "        # set the index to the strike so that interpolate works\n",
    "        df_ret2.index = df_ret2.strike\n",
    "        # create interpolated iv's\n",
    "        df_ret2['iv'] = df_ret2.iv.interpolate(method='polynomial', order=2)\n",
    "        # reset the index\n",
    "        df_ret2.index = list(range(len(df_ret2)))\n",
    "        return df_ret2\n",
    "\n",
    "    # start here\n",
    "    df11 = df10.groupby(gb_cols).apply(_add_even_moneyness_strikes).copy()\n",
    "    df11.index = list(range(len(df11)))\n",
    "    df11['moneyness'] = df11.strike / df11.close_y\n",
    "    df11.moneyness = df11.moneyness.round(4)\n",
    "\n",
    "    df12 = df11[(df11.moneyness.isin(moneyness)) & (~df11.iv.isna())].copy()\n",
    "    df12.moneyness  = df12.moneyness - 1\n",
    "    df12.index = list(range(len(df12)))\n",
    "    df12_atm = df12[df12.moneyness==0][['symbol','settle_date','pc','iv']]\n",
    "    df12_atm = df12_atm.rename(columns={'iv':'atm_iv'})\n",
    "    \n",
    "    df12_atm = df12_atm.drop_duplicates()\n",
    "    df12_atm.pc = ''#np.nan\n",
    "    df12.pc = ''#np.nan\n",
    "\n",
    "    df12 = df12.merge(df12_atm,on=['symbol','settle_date','pc'],how='inner')\n",
    "\n",
    "#     df12 = df12.merge(df12_atm,on=['symbol','settle_date'],how='inner')\n",
    "#     df12['pc'] = np.nan\n",
    "\n",
    "    df12.moneyness = df12.moneyness.round(4)\n",
    "    df12['vol_skew'] = (df12.iv - df12.atm_iv).round(4)\n",
    "    # now get rid of cases where an even money strike, and an actual strike are the same, so that you have \n",
    "    #    2 vol_skew records for the same 'settle_date','symbol','moneyness' combination\n",
    "    # THIS IS THE EASY WAY\n",
    "#     df12 = df12[df12.close_x.isna()]\n",
    "    # THIS IS THE HARD WAY\n",
    "    gb_cols = ['settle_date','symbol','moneyness','close_y','contract_num','dte']\n",
    "    val_cols = ['vol_skew','iv','strike','atm_iv']\n",
    "    df12 = df12[gb_cols + val_cols].groupby(gb_cols,as_index=False).mean()\n",
    "\n",
    "    return df12\n",
    "\n"
   ]
  },
  {
   "cell_type": "markdown",
   "metadata": {},
   "source": [
    "### Method to get volatility skews per symbol"
   ]
  },
  {
   "cell_type": "code",
   "execution_count": 267,
   "metadata": {},
   "outputs": [],
   "source": [
    "def create_skew_per_date_df(df):\n",
    "    '''\n",
    "    Find the first settle_date whose count of rows is equal to max count of rows.\n",
    "    '''\n",
    "    # get the first symbol (which should be the only symbol)\n",
    "    contract = df.symbol.unique()[0]\n",
    "    # get just that symbol's data\n",
    "    df12 = df[df.symbol==contract]\n",
    "    df_counts = df12[['settle_date','moneyness']].groupby('settle_date',as_index=False).count()\n",
    "    max_count = df_counts.moneyness.max()\n",
    "    first_max_count_settle_date = df_counts[df_counts.moneyness==max_count].iloc[0].settle_date\n",
    "    \n",
    "    df_ret = df12[df12.settle_date==first_max_count_settle_date][['moneyness']]\n",
    "    all_settle_dates = sorted(df_counts.settle_date.unique())\n",
    "    for settle_date in all_settle_dates:\n",
    "        df_temp = df12[df12.settle_date==settle_date][['moneyness','vol_skew']]\n",
    "        df_ret = df_ret.merge(df_temp,on='moneyness',how='outer')\n",
    "        df_ret = df_ret.rename(columns={'vol_skew':str(settle_date)})\n",
    "    df_ret = df_ret.sort_values('moneyness')\n",
    "    df_ret.moneyness = df_ret.moneyness.round(4)\n",
    "    return df_ret\n",
    "\n",
    "\n",
    "def skew_per_symbol(symbol,strike_divisor=None,contract_num=2):\n",
    "    '''\n",
    "    For a symbol like CLM16 or EZH19, create 2 Dataframes\n",
    "      1. df_iv - contains rows of implied vols, for only the 'pseudo' strikes that are an even\n",
    "                 percent away from the money for each settle_date\n",
    "      2. df_skew - contains one row per day of skew data of for 'pseudo' strikes that are an even\n",
    "                 percent away from the money for each settle_date\n",
    "    '''\n",
    "    _exception = None\n",
    "    _stacktrace = None\n",
    "    df_iv = None\n",
    "    df_skew = None\n",
    "    df,df_expiry_dates = get_postgres_data(symbol)\n",
    "    if len(df[df.contract_num==contract_num])>0:\n",
    "        df10 = get_implieds(df,df_expiry_dates,symbol,contract_num)\n",
    "        df12 = get_even_moneyness_strikes(df10)\n",
    "        df_sk = create_skew_per_date_df(df12)\n",
    "        df_sk.index = list(range(len(df_sk)))\n",
    "        df_skt = df_sk.T\n",
    "        df_skt.columns = df_skt.loc['moneyness']\n",
    "        df_skt = df_skt.iloc[1:].copy()\n",
    "        df_skt['symbol'] = symbol\n",
    "        df_skt['settle_date'] = df_skt.index\n",
    "        df_iv = df12.copy() \n",
    "        df_skew = df_skt.copy()\n",
    "        df_skew = df_skew.sort_values('settle_date')\n",
    "        df_skew.index = list(range(len(df22)))\n",
    "\n",
    "    return df_iv,df_skew"
   ]
  },
  {
   "cell_type": "markdown",
   "metadata": {},
   "source": [
    "### test getting implieds for a single contract"
   ]
  },
  {
   "cell_type": "code",
   "execution_count": 269,
   "metadata": {},
   "outputs": [],
   "source": [
    "strike_div = None if SYMBOL_TO_RESEARCH not in STRIKE_DIVISORS.keys() else STRIKE_DIVISORS[SYMBOL_TO_RESEARCH]\n",
    "sym = \"ESZ20\"\n",
    "contract_num = 2 if sym != 'ESZ20' else 4\n",
    "df,df_expiry_dates = get_postgres_data(sym)\n",
    "df_implieds = get_implieds(df,df_expiry_dates,sym,contract_num=contract_num)\n",
    "df_vols = None\n",
    "df_ctm_vols = None\n",
    "df_atm_money = None\n",
    "if df_implieds is not None:\n",
    "    df_ctm_vols = get_closest_to_the_money_vols(df_implieds)\n",
    "    df_even_money = get_even_moneyness_strikes(df_implieds)\n",
    "    df_atm_money = df_even_money[df_even_money.moneyness==0]\n",
    "    df_vols = df_ctm_vols.merge(\n",
    "        df_atm_money[['settle_date','symbol','atm_iv']],\n",
    "        on=['settle_date','symbol'],how='inner')\n",
    "else:\n",
    "    print(f'no implied vols for symbol: {sym}')"
   ]
  },
  {
   "cell_type": "code",
   "execution_count": 270,
   "metadata": {},
   "outputs": [
    {
     "data": {
      "text/html": [
       "<div>\n",
       "<style scoped>\n",
       "    .dataframe tbody tr th:only-of-type {\n",
       "        vertical-align: middle;\n",
       "    }\n",
       "\n",
       "    .dataframe tbody tr th {\n",
       "        vertical-align: top;\n",
       "    }\n",
       "\n",
       "    .dataframe thead th {\n",
       "        text-align: right;\n",
       "    }\n",
       "</style>\n",
       "<table border=\"1\" class=\"dataframe\">\n",
       "  <thead>\n",
       "    <tr style=\"text-align: right;\">\n",
       "      <th></th>\n",
       "      <th>symbol</th>\n",
       "      <th>strike</th>\n",
       "      <th>pc</th>\n",
       "      <th>settle_date</th>\n",
       "      <th>open_x</th>\n",
       "      <th>high_x</th>\n",
       "      <th>low_x</th>\n",
       "      <th>close_x</th>\n",
       "      <th>adj_close_x</th>\n",
       "      <th>volume_x</th>\n",
       "      <th>open_interest_x</th>\n",
       "      <th>u_symbol</th>\n",
       "      <th>contract_num</th>\n",
       "      <th>open_y</th>\n",
       "      <th>high_y</th>\n",
       "      <th>low_y</th>\n",
       "      <th>close_y</th>\n",
       "      <th>adj_close_y</th>\n",
       "      <th>volume_y</th>\n",
       "      <th>open_interest_y</th>\n",
       "    </tr>\n",
       "  </thead>\n",
       "  <tbody>\n",
       "    <tr>\n",
       "      <th>0</th>\n",
       "      <td>ESZ20</td>\n",
       "      <td>1600.0</td>\n",
       "      <td>C</td>\n",
       "      <td>20191223</td>\n",
       "      <td>0.0</td>\n",
       "      <td>1626.00</td>\n",
       "      <td>1625.90</td>\n",
       "      <td>1626.00</td>\n",
       "      <td>1626.00</td>\n",
       "      <td>0</td>\n",
       "      <td>0</td>\n",
       "      <td>ESZ20</td>\n",
       "      <td>4</td>\n",
       "      <td>3229.5</td>\n",
       "      <td>3229.50</td>\n",
       "      <td>3226.0</td>\n",
       "      <td>3226.00</td>\n",
       "      <td>3226.00</td>\n",
       "      <td>2</td>\n",
       "      <td>2226</td>\n",
       "    </tr>\n",
       "    <tr>\n",
       "      <th>1</th>\n",
       "      <td>ESZ20</td>\n",
       "      <td>1600.0</td>\n",
       "      <td>P</td>\n",
       "      <td>20191223</td>\n",
       "      <td>0.0</td>\n",
       "      <td>3.20</td>\n",
       "      <td>3.20</td>\n",
       "      <td>3.20</td>\n",
       "      <td>3.20</td>\n",
       "      <td>0</td>\n",
       "      <td>0</td>\n",
       "      <td>ESZ20</td>\n",
       "      <td>4</td>\n",
       "      <td>3229.5</td>\n",
       "      <td>3229.50</td>\n",
       "      <td>3226.0</td>\n",
       "      <td>3226.00</td>\n",
       "      <td>3226.00</td>\n",
       "      <td>2</td>\n",
       "      <td>2226</td>\n",
       "    </tr>\n",
       "    <tr>\n",
       "      <th>2</th>\n",
       "      <td>ESZ20</td>\n",
       "      <td>1700.0</td>\n",
       "      <td>C</td>\n",
       "      <td>20191223</td>\n",
       "      <td>0.0</td>\n",
       "      <td>1526.00</td>\n",
       "      <td>1525.90</td>\n",
       "      <td>1526.00</td>\n",
       "      <td>1526.00</td>\n",
       "      <td>0</td>\n",
       "      <td>0</td>\n",
       "      <td>ESZ20</td>\n",
       "      <td>4</td>\n",
       "      <td>3229.5</td>\n",
       "      <td>3229.50</td>\n",
       "      <td>3226.0</td>\n",
       "      <td>3226.00</td>\n",
       "      <td>3226.00</td>\n",
       "      <td>2</td>\n",
       "      <td>2226</td>\n",
       "    </tr>\n",
       "    <tr>\n",
       "      <th>3</th>\n",
       "      <td>ESZ20</td>\n",
       "      <td>1700.0</td>\n",
       "      <td>P</td>\n",
       "      <td>20191223</td>\n",
       "      <td>0.0</td>\n",
       "      <td>4.40</td>\n",
       "      <td>4.40</td>\n",
       "      <td>4.40</td>\n",
       "      <td>4.40</td>\n",
       "      <td>0</td>\n",
       "      <td>0</td>\n",
       "      <td>ESZ20</td>\n",
       "      <td>4</td>\n",
       "      <td>3229.5</td>\n",
       "      <td>3229.50</td>\n",
       "      <td>3226.0</td>\n",
       "      <td>3226.00</td>\n",
       "      <td>3226.00</td>\n",
       "      <td>2</td>\n",
       "      <td>2226</td>\n",
       "    </tr>\n",
       "    <tr>\n",
       "      <th>4</th>\n",
       "      <td>ESZ20</td>\n",
       "      <td>1800.0</td>\n",
       "      <td>C</td>\n",
       "      <td>20191223</td>\n",
       "      <td>0.0</td>\n",
       "      <td>1426.10</td>\n",
       "      <td>1426.00</td>\n",
       "      <td>1426.00</td>\n",
       "      <td>1426.00</td>\n",
       "      <td>0</td>\n",
       "      <td>0</td>\n",
       "      <td>ESZ20</td>\n",
       "      <td>4</td>\n",
       "      <td>3229.5</td>\n",
       "      <td>3229.50</td>\n",
       "      <td>3226.0</td>\n",
       "      <td>3226.00</td>\n",
       "      <td>3226.00</td>\n",
       "      <td>2</td>\n",
       "      <td>2226</td>\n",
       "    </tr>\n",
       "    <tr>\n",
       "      <th>...</th>\n",
       "      <td>...</td>\n",
       "      <td>...</td>\n",
       "      <td>...</td>\n",
       "      <td>...</td>\n",
       "      <td>...</td>\n",
       "      <td>...</td>\n",
       "      <td>...</td>\n",
       "      <td>...</td>\n",
       "      <td>...</td>\n",
       "      <td>...</td>\n",
       "      <td>...</td>\n",
       "      <td>...</td>\n",
       "      <td>...</td>\n",
       "      <td>...</td>\n",
       "      <td>...</td>\n",
       "      <td>...</td>\n",
       "      <td>...</td>\n",
       "      <td>...</td>\n",
       "      <td>...</td>\n",
       "      <td>...</td>\n",
       "    </tr>\n",
       "    <tr>\n",
       "      <th>6991</th>\n",
       "      <td>ESZ20</td>\n",
       "      <td>4200.0</td>\n",
       "      <td>P</td>\n",
       "      <td>20200313</td>\n",
       "      <td>0.0</td>\n",
       "      <td>1533.30</td>\n",
       "      <td>1533.25</td>\n",
       "      <td>1533.25</td>\n",
       "      <td>1533.25</td>\n",
       "      <td>0</td>\n",
       "      <td>0</td>\n",
       "      <td>ESZ20</td>\n",
       "      <td>4</td>\n",
       "      <td>2400.0</td>\n",
       "      <td>2668.25</td>\n",
       "      <td>2383.0</td>\n",
       "      <td>2668.25</td>\n",
       "      <td>2668.25</td>\n",
       "      <td>18</td>\n",
       "      <td>2580</td>\n",
       "    </tr>\n",
       "    <tr>\n",
       "      <th>6992</th>\n",
       "      <td>ESZ20</td>\n",
       "      <td>4300.0</td>\n",
       "      <td>C</td>\n",
       "      <td>20200313</td>\n",
       "      <td>0.0</td>\n",
       "      <td>1.95</td>\n",
       "      <td>1.95</td>\n",
       "      <td>1.95</td>\n",
       "      <td>1.95</td>\n",
       "      <td>0</td>\n",
       "      <td>1783</td>\n",
       "      <td>ESZ20</td>\n",
       "      <td>4</td>\n",
       "      <td>2400.0</td>\n",
       "      <td>2668.25</td>\n",
       "      <td>2383.0</td>\n",
       "      <td>2668.25</td>\n",
       "      <td>2668.25</td>\n",
       "      <td>18</td>\n",
       "      <td>2580</td>\n",
       "    </tr>\n",
       "    <tr>\n",
       "      <th>6993</th>\n",
       "      <td>ESZ20</td>\n",
       "      <td>4300.0</td>\n",
       "      <td>P</td>\n",
       "      <td>20200313</td>\n",
       "      <td>0.0</td>\n",
       "      <td>1632.80</td>\n",
       "      <td>1632.75</td>\n",
       "      <td>1632.75</td>\n",
       "      <td>1632.75</td>\n",
       "      <td>0</td>\n",
       "      <td>0</td>\n",
       "      <td>ESZ20</td>\n",
       "      <td>4</td>\n",
       "      <td>2400.0</td>\n",
       "      <td>2668.25</td>\n",
       "      <td>2383.0</td>\n",
       "      <td>2668.25</td>\n",
       "      <td>2668.25</td>\n",
       "      <td>18</td>\n",
       "      <td>2580</td>\n",
       "    </tr>\n",
       "    <tr>\n",
       "      <th>6994</th>\n",
       "      <td>ESZ20</td>\n",
       "      <td>4400.0</td>\n",
       "      <td>C</td>\n",
       "      <td>20200313</td>\n",
       "      <td>0.9</td>\n",
       "      <td>1.60</td>\n",
       "      <td>0.90</td>\n",
       "      <td>1.60</td>\n",
       "      <td>1.60</td>\n",
       "      <td>0</td>\n",
       "      <td>426</td>\n",
       "      <td>ESZ20</td>\n",
       "      <td>4</td>\n",
       "      <td>2400.0</td>\n",
       "      <td>2668.25</td>\n",
       "      <td>2383.0</td>\n",
       "      <td>2668.25</td>\n",
       "      <td>2668.25</td>\n",
       "      <td>18</td>\n",
       "      <td>2580</td>\n",
       "    </tr>\n",
       "    <tr>\n",
       "      <th>6995</th>\n",
       "      <td>ESZ20</td>\n",
       "      <td>4400.0</td>\n",
       "      <td>P</td>\n",
       "      <td>20200313</td>\n",
       "      <td>0.0</td>\n",
       "      <td>1732.50</td>\n",
       "      <td>1732.50</td>\n",
       "      <td>1732.50</td>\n",
       "      <td>1732.50</td>\n",
       "      <td>0</td>\n",
       "      <td>0</td>\n",
       "      <td>ESZ20</td>\n",
       "      <td>4</td>\n",
       "      <td>2400.0</td>\n",
       "      <td>2668.25</td>\n",
       "      <td>2383.0</td>\n",
       "      <td>2668.25</td>\n",
       "      <td>2668.25</td>\n",
       "      <td>18</td>\n",
       "      <td>2580</td>\n",
       "    </tr>\n",
       "  </tbody>\n",
       "</table>\n",
       "<p>6996 rows × 20 columns</p>\n",
       "</div>"
      ],
      "text/plain": [
       "     symbol  strike pc  settle_date  open_x   high_x    low_x  close_x  \\\n",
       "0     ESZ20  1600.0  C     20191223     0.0  1626.00  1625.90  1626.00   \n",
       "1     ESZ20  1600.0  P     20191223     0.0     3.20     3.20     3.20   \n",
       "2     ESZ20  1700.0  C     20191223     0.0  1526.00  1525.90  1526.00   \n",
       "3     ESZ20  1700.0  P     20191223     0.0     4.40     4.40     4.40   \n",
       "4     ESZ20  1800.0  C     20191223     0.0  1426.10  1426.00  1426.00   \n",
       "...     ...     ... ..          ...     ...      ...      ...      ...   \n",
       "6991  ESZ20  4200.0  P     20200313     0.0  1533.30  1533.25  1533.25   \n",
       "6992  ESZ20  4300.0  C     20200313     0.0     1.95     1.95     1.95   \n",
       "6993  ESZ20  4300.0  P     20200313     0.0  1632.80  1632.75  1632.75   \n",
       "6994  ESZ20  4400.0  C     20200313     0.9     1.60     0.90     1.60   \n",
       "6995  ESZ20  4400.0  P     20200313     0.0  1732.50  1732.50  1732.50   \n",
       "\n",
       "      adj_close_x  volume_x  open_interest_x u_symbol  contract_num  open_y  \\\n",
       "0         1626.00         0                0    ESZ20             4  3229.5   \n",
       "1            3.20         0                0    ESZ20             4  3229.5   \n",
       "2         1526.00         0                0    ESZ20             4  3229.5   \n",
       "3            4.40         0                0    ESZ20             4  3229.5   \n",
       "4         1426.00         0                0    ESZ20             4  3229.5   \n",
       "...           ...       ...              ...      ...           ...     ...   \n",
       "6991      1533.25         0                0    ESZ20             4  2400.0   \n",
       "6992         1.95         0             1783    ESZ20             4  2400.0   \n",
       "6993      1632.75         0                0    ESZ20             4  2400.0   \n",
       "6994         1.60         0              426    ESZ20             4  2400.0   \n",
       "6995      1732.50         0                0    ESZ20             4  2400.0   \n",
       "\n",
       "       high_y   low_y  close_y  adj_close_y  volume_y  open_interest_y  \n",
       "0     3229.50  3226.0  3226.00      3226.00         2             2226  \n",
       "1     3229.50  3226.0  3226.00      3226.00         2             2226  \n",
       "2     3229.50  3226.0  3226.00      3226.00         2             2226  \n",
       "3     3229.50  3226.0  3226.00      3226.00         2             2226  \n",
       "4     3229.50  3226.0  3226.00      3226.00         2             2226  \n",
       "...       ...     ...      ...          ...       ...              ...  \n",
       "6991  2668.25  2383.0  2668.25      2668.25        18             2580  \n",
       "6992  2668.25  2383.0  2668.25      2668.25        18             2580  \n",
       "6993  2668.25  2383.0  2668.25      2668.25        18             2580  \n",
       "6994  2668.25  2383.0  2668.25      2668.25        18             2580  \n",
       "6995  2668.25  2383.0  2668.25      2668.25        18             2580  \n",
       "\n",
       "[6996 rows x 20 columns]"
      ]
     },
     "execution_count": 270,
     "metadata": {},
     "output_type": "execute_result"
    }
   ],
   "source": [
    "df"
   ]
  },
  {
   "cell_type": "code",
   "execution_count": 271,
   "metadata": {},
   "outputs": [
    {
     "data": {
      "text/html": [
       "<div>\n",
       "<style scoped>\n",
       "    .dataframe tbody tr th:only-of-type {\n",
       "        vertical-align: middle;\n",
       "    }\n",
       "\n",
       "    .dataframe tbody tr th {\n",
       "        vertical-align: top;\n",
       "    }\n",
       "\n",
       "    .dataframe thead th {\n",
       "        text-align: right;\n",
       "    }\n",
       "</style>\n",
       "<table border=\"1\" class=\"dataframe\">\n",
       "  <thead>\n",
       "    <tr style=\"text-align: right;\">\n",
       "      <th></th>\n",
       "      <th>settle_date</th>\n",
       "      <th>symbol</th>\n",
       "      <th>moneyness</th>\n",
       "      <th>close_y</th>\n",
       "      <th>contract_num</th>\n",
       "      <th>dte</th>\n",
       "      <th>vol_skew</th>\n",
       "      <th>iv</th>\n",
       "      <th>strike</th>\n",
       "      <th>atm_iv</th>\n",
       "    </tr>\n",
       "  </thead>\n",
       "  <tbody>\n",
       "    <tr>\n",
       "      <th>0</th>\n",
       "      <td>20191223</td>\n",
       "      <td>ESZ20</td>\n",
       "      <td>-0.30</td>\n",
       "      <td>3226.00</td>\n",
       "      <td>4</td>\n",
       "      <td>361</td>\n",
       "      <td>0.0971</td>\n",
       "      <td>0.252048</td>\n",
       "      <td>2258.2000</td>\n",
       "      <td>0.154955</td>\n",
       "    </tr>\n",
       "    <tr>\n",
       "      <th>1</th>\n",
       "      <td>20191223</td>\n",
       "      <td>ESZ20</td>\n",
       "      <td>-0.25</td>\n",
       "      <td>3226.00</td>\n",
       "      <td>4</td>\n",
       "      <td>361</td>\n",
       "      <td>0.0833</td>\n",
       "      <td>0.238234</td>\n",
       "      <td>2419.5000</td>\n",
       "      <td>0.154955</td>\n",
       "    </tr>\n",
       "    <tr>\n",
       "      <th>2</th>\n",
       "      <td>20191223</td>\n",
       "      <td>ESZ20</td>\n",
       "      <td>-0.20</td>\n",
       "      <td>3226.00</td>\n",
       "      <td>4</td>\n",
       "      <td>361</td>\n",
       "      <td>0.0691</td>\n",
       "      <td>0.224012</td>\n",
       "      <td>2580.8000</td>\n",
       "      <td>0.154955</td>\n",
       "    </tr>\n",
       "    <tr>\n",
       "      <th>3</th>\n",
       "      <td>20191223</td>\n",
       "      <td>ESZ20</td>\n",
       "      <td>-0.15</td>\n",
       "      <td>3226.00</td>\n",
       "      <td>4</td>\n",
       "      <td>361</td>\n",
       "      <td>0.0540</td>\n",
       "      <td>0.208982</td>\n",
       "      <td>2742.1000</td>\n",
       "      <td>0.154955</td>\n",
       "    </tr>\n",
       "    <tr>\n",
       "      <th>4</th>\n",
       "      <td>20191223</td>\n",
       "      <td>ESZ20</td>\n",
       "      <td>-0.10</td>\n",
       "      <td>3226.00</td>\n",
       "      <td>4</td>\n",
       "      <td>361</td>\n",
       "      <td>0.0381</td>\n",
       "      <td>0.193006</td>\n",
       "      <td>2903.4000</td>\n",
       "      <td>0.154955</td>\n",
       "    </tr>\n",
       "    <tr>\n",
       "      <th>...</th>\n",
       "      <td>...</td>\n",
       "      <td>...</td>\n",
       "      <td>...</td>\n",
       "      <td>...</td>\n",
       "      <td>...</td>\n",
       "      <td>...</td>\n",
       "      <td>...</td>\n",
       "      <td>...</td>\n",
       "      <td>...</td>\n",
       "      <td>...</td>\n",
       "    </tr>\n",
       "    <tr>\n",
       "      <th>714</th>\n",
       "      <td>20200313</td>\n",
       "      <td>ESZ20</td>\n",
       "      <td>0.15</td>\n",
       "      <td>2668.25</td>\n",
       "      <td>4</td>\n",
       "      <td>280</td>\n",
       "      <td>-0.0902</td>\n",
       "      <td>0.235787</td>\n",
       "      <td>3068.4875</td>\n",
       "      <td>0.325957</td>\n",
       "    </tr>\n",
       "    <tr>\n",
       "      <th>715</th>\n",
       "      <td>20200313</td>\n",
       "      <td>ESZ20</td>\n",
       "      <td>0.20</td>\n",
       "      <td>2668.25</td>\n",
       "      <td>4</td>\n",
       "      <td>280</td>\n",
       "      <td>-0.1196</td>\n",
       "      <td>0.206348</td>\n",
       "      <td>3201.9000</td>\n",
       "      <td>0.325957</td>\n",
       "    </tr>\n",
       "    <tr>\n",
       "      <th>716</th>\n",
       "      <td>20200313</td>\n",
       "      <td>ESZ20</td>\n",
       "      <td>0.25</td>\n",
       "      <td>2668.25</td>\n",
       "      <td>4</td>\n",
       "      <td>280</td>\n",
       "      <td>-0.1417</td>\n",
       "      <td>0.184243</td>\n",
       "      <td>3335.3125</td>\n",
       "      <td>0.325957</td>\n",
       "    </tr>\n",
       "    <tr>\n",
       "      <th>717</th>\n",
       "      <td>20200313</td>\n",
       "      <td>ESZ20</td>\n",
       "      <td>0.30</td>\n",
       "      <td>2668.25</td>\n",
       "      <td>4</td>\n",
       "      <td>280</td>\n",
       "      <td>-0.1475</td>\n",
       "      <td>0.178478</td>\n",
       "      <td>3468.7250</td>\n",
       "      <td>0.325957</td>\n",
       "    </tr>\n",
       "    <tr>\n",
       "      <th>718</th>\n",
       "      <td>20200313</td>\n",
       "      <td>ESZ20</td>\n",
       "      <td>0.35</td>\n",
       "      <td>2668.25</td>\n",
       "      <td>4</td>\n",
       "      <td>280</td>\n",
       "      <td>-0.1420</td>\n",
       "      <td>0.183958</td>\n",
       "      <td>3602.1375</td>\n",
       "      <td>0.325957</td>\n",
       "    </tr>\n",
       "  </tbody>\n",
       "</table>\n",
       "<p>719 rows × 10 columns</p>\n",
       "</div>"
      ],
      "text/plain": [
       "     settle_date symbol  moneyness  close_y  contract_num  dte  vol_skew  \\\n",
       "0       20191223  ESZ20      -0.30  3226.00             4  361    0.0971   \n",
       "1       20191223  ESZ20      -0.25  3226.00             4  361    0.0833   \n",
       "2       20191223  ESZ20      -0.20  3226.00             4  361    0.0691   \n",
       "3       20191223  ESZ20      -0.15  3226.00             4  361    0.0540   \n",
       "4       20191223  ESZ20      -0.10  3226.00             4  361    0.0381   \n",
       "..           ...    ...        ...      ...           ...  ...       ...   \n",
       "714     20200313  ESZ20       0.15  2668.25             4  280   -0.0902   \n",
       "715     20200313  ESZ20       0.20  2668.25             4  280   -0.1196   \n",
       "716     20200313  ESZ20       0.25  2668.25             4  280   -0.1417   \n",
       "717     20200313  ESZ20       0.30  2668.25             4  280   -0.1475   \n",
       "718     20200313  ESZ20       0.35  2668.25             4  280   -0.1420   \n",
       "\n",
       "           iv     strike    atm_iv  \n",
       "0    0.252048  2258.2000  0.154955  \n",
       "1    0.238234  2419.5000  0.154955  \n",
       "2    0.224012  2580.8000  0.154955  \n",
       "3    0.208982  2742.1000  0.154955  \n",
       "4    0.193006  2903.4000  0.154955  \n",
       "..        ...        ...       ...  \n",
       "714  0.235787  3068.4875  0.325957  \n",
       "715  0.206348  3201.9000  0.325957  \n",
       "716  0.184243  3335.3125  0.325957  \n",
       "717  0.178478  3468.7250  0.325957  \n",
       "718  0.183958  3602.1375  0.325957  \n",
       "\n",
       "[719 rows x 10 columns]"
      ]
     },
     "execution_count": 271,
     "metadata": {},
     "output_type": "execute_result"
    }
   ],
   "source": [
    "df_even_money"
   ]
  },
  {
   "cell_type": "code",
   "execution_count": 22,
   "metadata": {},
   "outputs": [],
   "source": [
    "sql_all_contracts = f\"\"\"\n",
    "select distinct symbol from {opttab} \n",
    "where substring(symbol,1,2) = 'ES' and\n",
    "substring(symbol,3,1) in ('H','M','U','Z')\n",
    "\"\"\"\n",
    "all_contracts = sorted(pga.get_sql(sql_all_contracts).symbol.values)\n"
   ]
  },
  {
   "cell_type": "code",
   "execution_count": 23,
   "metadata": {
    "scrolled": true
   },
   "outputs": [
    {
     "data": {
      "text/plain": [
       "['ESH11',\n",
       " 'ESM11',\n",
       " 'ESU11',\n",
       " 'ESZ11',\n",
       " 'ESH12',\n",
       " 'ESM12',\n",
       " 'ESU12',\n",
       " 'ESZ12',\n",
       " 'ESH13',\n",
       " 'ESM13',\n",
       " 'ESU13',\n",
       " 'ESZ13',\n",
       " 'ESH14',\n",
       " 'ESM14',\n",
       " 'ESU14',\n",
       " 'ESZ14',\n",
       " 'ESH15',\n",
       " 'ESM15',\n",
       " 'ESU15',\n",
       " 'ESZ15',\n",
       " 'ESH16',\n",
       " 'ESM16',\n",
       " 'ESU16',\n",
       " 'ESZ16',\n",
       " 'ESH17',\n",
       " 'ESM17',\n",
       " 'ESU17',\n",
       " 'ESZ17',\n",
       " 'ESH18',\n",
       " 'ESM18',\n",
       " 'ESU18',\n",
       " 'ESZ18',\n",
       " 'ESH19',\n",
       " 'ESM19',\n",
       " 'ESU19',\n",
       " 'ESZ19',\n",
       " 'ESH20',\n",
       " 'ESM20',\n",
       " 'ESU20',\n",
       " 'ESZ20']"
      ]
     },
     "execution_count": 23,
     "metadata": {},
     "output_type": "execute_result"
    }
   ],
   "source": [
    "all_contracts_reversed = sorted([f'{c[:2]}{c[-2:]}{c[2]}' for c in all_contracts])\n",
    "all_contracts2 = [f'{c[:2]}{c[-1]}{c[2:4]}' for c in all_contracts_reversed]\n",
    "all_contracts2"
   ]
  },
  {
   "cell_type": "code",
   "execution_count": 24,
   "metadata": {},
   "outputs": [
    {
     "data": {
      "text/plain": [
       "(0.015899999999999997, 0.015300000000000008, 0.1331)"
      ]
     },
     "execution_count": 24,
     "metadata": {},
     "output_type": "execute_result"
    }
   ],
   "source": [
    "sbstrike = .1325\n",
    "sb = .1172\n",
    "sbcall = .0006\n",
    "sbput = sbcall + sbstrike - sb\n",
    "sbput, sbstrike - sb,sbput + sb"
   ]
  },
  {
   "cell_type": "code",
   "execution_count": 28,
   "metadata": {
    "scrolled": true
   },
   "outputs": [
    {
     "data": {
      "text/plain": [
       "['ESH17', 'ESM17', 'ESU17', 'ESZ17']"
      ]
     },
     "execution_count": 28,
     "metadata": {},
     "output_type": "execute_result"
    }
   ],
   "source": []
  },
  {
   "cell_type": "code",
   "execution_count": 283,
   "metadata": {},
   "outputs": [],
   "source": [
    "begin_year = 20"
   ]
  },
  {
   "cell_type": "code",
   "execution_count": 286,
   "metadata": {
    "scrolled": true
   },
   "outputs": [
    {
     "name": "stdout",
     "output_type": "stream",
     "text": [
      "graphing symbol: ESH20\n"
     ]
    },
    {
     "data": {
      "application/vnd.plotly.v1+json": {
       "config": {
        "linkText": "Export to plot.ly",
        "plotlyServerURL": "https://plot.ly",
        "showLink": false
       },
       "data": [
        {
         "name": "close_y",
         "type": "scatter",
         "x": [
          20190318,
          20190319,
          20190320,
          20190321,
          20190322,
          20190325,
          20190326,
          20190327,
          20190328,
          20190329,
          20190401,
          20190402,
          20190403,
          20190404,
          20190405,
          20190408,
          20190409,
          20190410,
          20190411,
          20190412,
          20190415,
          20190416,
          20190417,
          20190418,
          20190422,
          20190423,
          20190424,
          20190425,
          20190426,
          20190429,
          20190430,
          20190501,
          20190502,
          20190503,
          20190506,
          20190507,
          20190508,
          20190509,
          20190510,
          20190513,
          20190514,
          20190515,
          20190516,
          20190517,
          20190520,
          20190521,
          20190522,
          20190523,
          20190524,
          20190528,
          20190529,
          20190530,
          20190531,
          20190603,
          20190604,
          20190605,
          20190606,
          20190607,
          20190610,
          20190611,
          20190612,
          20190613,
          20190614,
          20190617,
          20190618,
          20190619,
          20190620,
          20190621,
          20190624,
          20190625,
          20190626,
          20190627,
          20190628,
          20190701,
          20190702,
          20190703,
          20190705,
          20190708,
          20190709,
          20190710,
          20190711,
          20190712,
          20190715,
          20190716,
          20190717,
          20190718,
          20190719,
          20190722,
          20190723,
          20190724,
          20190725,
          20190726,
          20190729,
          20190730,
          20190731,
          20190801,
          20190802,
          20190805,
          20190806,
          20190807,
          20190808,
          20190809,
          20190812,
          20190813,
          20190814,
          20190815,
          20190816,
          20190819,
          20190820,
          20190821,
          20190822,
          20190823,
          20190826,
          20190827,
          20190828,
          20190829,
          20190830,
          20190903,
          20190904,
          20190905,
          20190906,
          20190909,
          20190910,
          20190911,
          20190912,
          20190913,
          20190916,
          20190917,
          20190918,
          20190919,
          20190920,
          20190923,
          20190924,
          20190925,
          20190926,
          20190927,
          20190930,
          20191001,
          20191002,
          20191003,
          20191004,
          20191007,
          20191008,
          20191009,
          20191010,
          20191011,
          20191014,
          20191015,
          20191016,
          20191017,
          20191018,
          20191021,
          20191022,
          20191023,
          20191024,
          20191025,
          20191028,
          20191029,
          20191030,
          20191031,
          20191101,
          20191104,
          20191105,
          20191106,
          20191107,
          20191108,
          20191111,
          20191112,
          20191113,
          20191114,
          20191115,
          20191118,
          20191119,
          20191120,
          20191121,
          20191122,
          20191125,
          20191126,
          20191127,
          20191129,
          20191202,
          20191203,
          20191204,
          20191205,
          20191206,
          20191209,
          20191210,
          20191211,
          20191212,
          20191213,
          20191216,
          20191217,
          20191218,
          20191219,
          20191220,
          20191223,
          20191224,
          20191226,
          20191227,
          20191230,
          20191231,
          20200102,
          20200103,
          20200106,
          20200107,
          20200108,
          20200109,
          20200110,
          20200113,
          20200114,
          20200115,
          20200116,
          20200117,
          20200121,
          20200122,
          20200123,
          20200124,
          20200127,
          20200128,
          20200129,
          20200130,
          20200131,
          20200203,
          20200204,
          20200205,
          20200206,
          20200207,
          20200210,
          20200211,
          20200212,
          20200213,
          20200214,
          20200218,
          20200219,
          20200220,
          20200221,
          20200224,
          20200225,
          20200226,
          20200227,
          20200228,
          20200302,
          20200303,
          20200304,
          20200305,
          20200306,
          20200309,
          20200310,
          20200311,
          20200312,
          20200313
         ],
         "y": [
          2854.5,
          2850.25,
          2841.5,
          2877,
          2825,
          2820.75,
          2837,
          2822.75,
          2833.25,
          2851.25,
          2885.75,
          2882.5,
          2894.75,
          2897.5,
          2911,
          2913.75,
          2897.5,
          2909.75,
          2906.25,
          2929,
          2926,
          2928.25,
          2916.5,
          2926.25,
          2929.25,
          2955.5,
          2947,
          2943,
          2957.5,
          2960,
          2965.25,
          2940,
          2933.5,
          2965,
          2948.75,
          2906.5,
          2903,
          2887.75,
          2901.25,
          2819.5,
          2852,
          2867.25,
          2891.5,
          2874.5,
          2856.75,
          2879,
          2870.5,
          2830.25,
          2842.75,
          2816,
          2790,
          2800.25,
          2759.25,
          2754,
          2810.75,
          2833.25,
          2852.25,
          2881,
          2896.5,
          2895,
          2888.25,
          2900.75,
          2897.25,
          2899.25,
          2929.75,
          2935,
          2961.25,
          2952.5,
          2953.75,
          2923,
          2920,
          2933,
          2946.25,
          2971,
          2983,
          3003.75,
          2995.5,
          2983.5,
          2987.5,
          3002.25,
          3009.5,
          3021.5,
          3023.5,
          3013.5,
          2991.25,
          3003,
          2983.25,
          2994.5,
          3014.5,
          3028,
          3013,
          3031.5,
          3028.25,
          3018.75,
          2989.25,
          2956.75,
          2936.25,
          2831.5,
          2877.5,
          2880.75,
          2941.75,
          2921,
          2881,
          2934.25,
          2841.5,
          2848.5,
          2892,
          2924.75,
          2899,
          2930,
          2924.25,
          2856,
          2884.25,
          2866.75,
          2890.5,
          2928.5,
          2926.75,
          2906.75,
          2939.5,
          2974.5,
          2983.5,
          2981.25,
          2982,
          3005.5,
          3015.5,
          3011,
          3003.75,
          3010.5,
          3011.25,
          3010.75,
          2992,
          2999.25,
          2972.25,
          2988.5,
          2982.75,
          2965.75,
          2980.5,
          2939,
          2881.5,
          2912,
          2951.75,
          2938.25,
          2892.75,
          2919.25,
          2941.75,
          2972,
          2966.5,
          2999,
          2993,
          2999.5,
          2989.5,
          3008,
          2996,
          3007.25,
          3005.75,
          3022,
          3038.25,
          3037.5,
          3049.75,
          3037.25,
          3065,
          3077.75,
          3074,
          3077.75,
          3088.25,
          3093,
          3089.75,
          3094.25,
          3098,
          3099.25,
          3120.5,
          3124,
          3120.75,
          3111.25,
          3106,
          3113.5,
          3134.75,
          3145.75,
          3156,
          3145.75,
          3116,
          3093,
          3112.75,
          3119.25,
          3148,
          3136.75,
          3138.25,
          3145.75,
          3171,
          3175.25,
          3198.5,
          3195.5,
          3199.25,
          3211.75,
          3225.75,
          3227.25,
          3225.75,
          3244.5,
          3237.5,
          3223.5,
          3231,
          3259,
          3235.5,
          3243.5,
          3235.25,
          3260.25,
          3276,
          3264.75,
          3289.75,
          3288,
          3293.75,
          3316.5,
          3325,
          3319.5,
          3319.75,
          3326,
          3293.5,
          3239.5,
          3278.25,
          3272.5,
          3289.75,
          3224,
          3245.5,
          3299.5,
          3335,
          3345.25,
          3325.5,
          3353,
          3357.5,
          3380.5,
          3377.5,
          3381,
          3369.25,
          3387.25,
          3369.25,
          3339.25,
          3226.25,
          3132.5,
          3110.25,
          2957,
          2951,
          3065,
          2997,
          3114.75,
          3015.5,
          2964,
          2747.75,
          2865.75,
          2740.25,
          2469,
          2696
         ],
         "yaxis": "y"
        },
        {
         "name": "atm_iv",
         "type": "scatter",
         "x": [
          20190318,
          20190319,
          20190320,
          20190321,
          20190322,
          20190325,
          20190326,
          20190327,
          20190328,
          20190329,
          20190401,
          20190402,
          20190403,
          20190404,
          20190405,
          20190408,
          20190409,
          20190410,
          20190411,
          20190412,
          20190415,
          20190416,
          20190417,
          20190418,
          20190422,
          20190423,
          20190424,
          20190425,
          20190426,
          20190429,
          20190430,
          20190501,
          20190502,
          20190503,
          20190506,
          20190507,
          20190508,
          20190509,
          20190510,
          20190513,
          20190514,
          20190515,
          20190516,
          20190517,
          20190520,
          20190521,
          20190522,
          20190523,
          20190524,
          20190528,
          20190529,
          20190530,
          20190531,
          20190603,
          20190604,
          20190605,
          20190606,
          20190607,
          20190610,
          20190611,
          20190612,
          20190613,
          20190614,
          20190617,
          20190618,
          20190619,
          20190620,
          20190621,
          20190624,
          20190625,
          20190626,
          20190627,
          20190628,
          20190701,
          20190702,
          20190703,
          20190705,
          20190708,
          20190709,
          20190710,
          20190711,
          20190712,
          20190715,
          20190716,
          20190717,
          20190718,
          20190719,
          20190722,
          20190723,
          20190724,
          20190725,
          20190726,
          20190729,
          20190730,
          20190731,
          20190801,
          20190802,
          20190805,
          20190806,
          20190807,
          20190808,
          20190809,
          20190812,
          20190813,
          20190814,
          20190815,
          20190816,
          20190819,
          20190820,
          20190821,
          20190822,
          20190823,
          20190826,
          20190827,
          20190828,
          20190829,
          20190830,
          20190903,
          20190904,
          20190905,
          20190906,
          20190909,
          20190910,
          20190911,
          20190912,
          20190913,
          20190916,
          20190917,
          20190918,
          20190919,
          20190920,
          20190923,
          20190924,
          20190925,
          20190926,
          20190927,
          20190930,
          20191001,
          20191002,
          20191003,
          20191004,
          20191007,
          20191008,
          20191009,
          20191010,
          20191011,
          20191014,
          20191015,
          20191016,
          20191017,
          20191018,
          20191021,
          20191022,
          20191023,
          20191024,
          20191025,
          20191028,
          20191029,
          20191030,
          20191031,
          20191101,
          20191104,
          20191105,
          20191106,
          20191107,
          20191108,
          20191111,
          20191112,
          20191113,
          20191114,
          20191115,
          20191118,
          20191119,
          20191120,
          20191121,
          20191122,
          20191125,
          20191126,
          20191127,
          20191129,
          20191202,
          20191203,
          20191204,
          20191205,
          20191206,
          20191209,
          20191210,
          20191211,
          20191212,
          20191213,
          20191216,
          20191217,
          20191218,
          20191219,
          20191220,
          20191223,
          20191224,
          20191226,
          20191227,
          20191230,
          20191231,
          20200102,
          20200103,
          20200106,
          20200107,
          20200108,
          20200109,
          20200110,
          20200113,
          20200114,
          20200115,
          20200116,
          20200117,
          20200121,
          20200122,
          20200123,
          20200124,
          20200127,
          20200128,
          20200129,
          20200130,
          20200131,
          20200203,
          20200204,
          20200205,
          20200206,
          20200207,
          20200210,
          20200211,
          20200212,
          20200213,
          20200214,
          20200218,
          20200219,
          20200220,
          20200221,
          20200224,
          20200225,
          20200226,
          20200227,
          20200228,
          20200302,
          20200303,
          20200304,
          20200305,
          20200306,
          20200309,
          20200310,
          20200311,
          20200312,
          20200313
         ],
         "y": [
          0.14555172731639038,
          0.14585318737519049,
          0.14780691547227937,
          0.1448698587375538,
          0.15381581265686745,
          0.15396909466554942,
          0.1502133135422276,
          0.15334361965476737,
          0.15162651154679035,
          0.1419413372955343,
          0.14367677406072027,
          0.14438632959921874,
          0.14299574249274305,
          0.1435674825266518,
          0.14045268123723073,
          0.1403207855848641,
          0.14367526493726285,
          0.14123596631905236,
          0.14140301713566503,
          0.13876782360911405,
          0.13946282134277252,
          0.1388434714855585,
          0.1409835918117142,
          0.13979868896505293,
          0.13955252352000147,
          0.13682406332142857,
          0.13936790449027306,
          0.1404552992075535,
          0.1379976093203643,
          0.13969061192497934,
          0.13976650998857723,
          0.14483365895043737,
          0.14398204045611548,
          0.13964633553074957,
          0.14472561285737653,
          0.1548946088449064,
          0.1526845544809162,
          0.1535533397313192,
          0.14722355491120015,
          0.16188639090290463,
          0.15508499424223765,
          0.15130237607974503,
          0.1471704524699057,
          0.1494734483664789,
          0.1520970144161447,
          0.14696726691423243,
          0.14700645630349599,
          0.15526649296013903,
          0.15305976670017554,
          0.15826678763462834,
          0.1625981316084372,
          0.160879717769441,
          0.16618680684366777,
          0.16670705828167626,
          0.1580635591235963,
          0.1549517679233242,
          0.15273998738070754,
          0.15229546972892077,
          0.15022132943735303,
          0.15218052637783333,
          0.15211359787919923,
          0.15091594435528627,
          0.1504816123250577,
          0.15019626504688427,
          0.14760701990253527,
          0.1454840054304575,
          0.14354822888143962,
          0.14750727316273302,
          0.14592886190742818,
          0.15073476588060025,
          0.1510488036225483,
          0.14848632124032202,
          0.14627476199716505,
          0.1392858849228765,
          0.13530312427610958,
          0.13306521442161315,
          0.13462614390411903,
          0.1377445010968059,
          0.13887632865310182,
          0.1366518194854917,
          0.13566679569398157,
          0.13536606858896724,
          0.13671257421682814,
          0.1380038180298277,
          0.1427165587772767,
          0.14161284394223317,
          0.14492469577800504,
          0.1419014472226158,
          0.13817890211254458,
          0.13572984098911178,
          0.1385518113339596,
          0.13539483995382176,
          0.13633129801120603,
          0.1403912466074994,
          0.14670192102717716,
          0.15482036862482157,
          0.15555560150396291,
          0.18103558962433203,
          0.16830603653783263,
          0.16785332257263919,
          0.15545077056188117,
          0.15973742693836934,
          0.1726360611844725,
          0.16026438879667035,
          0.1822064817921939,
          0.18126113591171036,
          0.17210902498114042,
          0.16374790620550334,
          0.16802349392875915,
          0.16068226129009514,
          0.16426833220797382,
          0.1806032076596534,
          0.17601139420633258,
          0.18174006778542728,
          0.1766678826745161,
          0.16797476413281576,
          0.1705427334198222,
          0.17684782537094848,
          0.1675170471096742,
          0.16068548888230522,
          0.15632762699597233,
          0.15681372104046332,
          0.15647892908075567,
          0.1537810167520081,
          0.1508977419154721,
          0.1512233556866044,
          0.15516352173455783,
          0.15623648611453894,
          0.15403740202961969,
          0.15366141079244025,
          0.16069292532712998,
          0.1576288990862865,
          0.16567320481876774,
          0.16114641217017653,
          0.1619151925082617,
          0.16709409609222223,
          0.16201021257777165,
          0.17323518959330292,
          0.18604887939601406,
          0.17856768482794963,
          0.16696497667102694,
          0.1692726153624841,
          0.18207941422848944,
          0.17478017926200443,
          0.16894606803050416,
          0.159187627566649,
          0.15576138522204047,
          0.14899552849635,
          0.14897300136526714,
          0.14790494987980465,
          0.14986344860192696,
          0.1453858044752831,
          0.14821675459602088,
          0.14570600216139057,
          0.14592147408632586,
          0.140934566436332,
          0.1405094633578144,
          0.14195692028186147,
          0.13902669060002187,
          0.14290675239575887,
          0.13856508032508352,
          0.1385565013033697,
          0.14064722040316052,
          0.14029126644324563,
          0.13991415890519074,
          0.1383482358661674,
          0.13887922818711004,
          0.1380234518763478,
          0.1387059537500279,
          0.1384216937271956,
          0.13278460957254004,
          0.13276090435011112,
          0.135012210770308,
          0.13695805805611014,
          0.13908460574740084,
          0.1358003443383119,
          0.13083953342869453,
          0.12858680424875987,
          0.12884337894447634,
          0.13334484553402376,
          0.14505127858549685,
          0.15361664767341368,
          0.146603279397348,
          0.14471227663410444,
          0.13706665942964777,
          0.14462649690343604,
          0.14373272872153406,
          0.140845677122807,
          0.13294530636453022,
          0.12498877925951615,
          0.12036432733273954,
          0.12163552095016063,
          0.12244079394876983,
          0.12092325044082698,
          0.12180702774593953,
          0.12278951738609589,
          0.1235083964031473,
          0.12289170257786516,
          0.1278323422270886,
          0.13589751872357678,
          0.1288132381460074,
          0.12094002750089877,
          0.13067387915088208,
          0.13016589590664301,
          0.12941087347911356,
          0.12313043837557347,
          0.11727671353071824,
          0.11830812692188472,
          0.11542797460035029,
          0.11471203444421303,
          0.11421299583782661,
          0.11211799113919742,
          0.11108157360257874,
          0.1164757219960291,
          0.11716465427297593,
          0.11689007387631244,
          0.1311855716915332,
          0.15799218319792804,
          0.14282463866212047,
          0.14360265848330023,
          0.1355575595481519,
          0.16512826068587957,
          0.15436941365417395,
          0.13518222067961025,
          0.1255022215190968,
          0.12070417195077343,
          0.12738035026236774,
          0.12286341354283968,
          0.12253804045756483,
          0.1101132770825609,
          0.1139301013098943,
          0.1106356665708811,
          0.11877725405477572,
          0.1125456164864671,
          0.12352128355984293,
          0.14247860052153466,
          0.2191960805140703,
          0.24916435944993737,
          0.2519038973916522,
          0.37972028009908665,
          0.43041362104098,
          0.31340401138433316,
          0.3673806711122036,
          0.2872766619085733,
          0.385536535770998,
          0.408033308516625,
          0.6186376248717285,
          0.5092252232117574,
          0.6347002651855844,
          0.9997281813784422,
          0.6608614356933218
         ],
         "yaxis": "y2"
        }
       ],
       "layout": {
        "margin": {
         "b": 100
        },
        "template": {
         "data": {
          "bar": [
           {
            "error_x": {
             "color": "#2a3f5f"
            },
            "error_y": {
             "color": "#2a3f5f"
            },
            "marker": {
             "line": {
              "color": "#E5ECF6",
              "width": 0.5
             }
            },
            "type": "bar"
           }
          ],
          "barpolar": [
           {
            "marker": {
             "line": {
              "color": "#E5ECF6",
              "width": 0.5
             }
            },
            "type": "barpolar"
           }
          ],
          "carpet": [
           {
            "aaxis": {
             "endlinecolor": "#2a3f5f",
             "gridcolor": "white",
             "linecolor": "white",
             "minorgridcolor": "white",
             "startlinecolor": "#2a3f5f"
            },
            "baxis": {
             "endlinecolor": "#2a3f5f",
             "gridcolor": "white",
             "linecolor": "white",
             "minorgridcolor": "white",
             "startlinecolor": "#2a3f5f"
            },
            "type": "carpet"
           }
          ],
          "choropleth": [
           {
            "colorbar": {
             "outlinewidth": 0,
             "ticks": ""
            },
            "type": "choropleth"
           }
          ],
          "contour": [
           {
            "colorbar": {
             "outlinewidth": 0,
             "ticks": ""
            },
            "colorscale": [
             [
              0,
              "#0d0887"
             ],
             [
              0.1111111111111111,
              "#46039f"
             ],
             [
              0.2222222222222222,
              "#7201a8"
             ],
             [
              0.3333333333333333,
              "#9c179e"
             ],
             [
              0.4444444444444444,
              "#bd3786"
             ],
             [
              0.5555555555555556,
              "#d8576b"
             ],
             [
              0.6666666666666666,
              "#ed7953"
             ],
             [
              0.7777777777777778,
              "#fb9f3a"
             ],
             [
              0.8888888888888888,
              "#fdca26"
             ],
             [
              1,
              "#f0f921"
             ]
            ],
            "type": "contour"
           }
          ],
          "contourcarpet": [
           {
            "colorbar": {
             "outlinewidth": 0,
             "ticks": ""
            },
            "type": "contourcarpet"
           }
          ],
          "heatmap": [
           {
            "colorbar": {
             "outlinewidth": 0,
             "ticks": ""
            },
            "colorscale": [
             [
              0,
              "#0d0887"
             ],
             [
              0.1111111111111111,
              "#46039f"
             ],
             [
              0.2222222222222222,
              "#7201a8"
             ],
             [
              0.3333333333333333,
              "#9c179e"
             ],
             [
              0.4444444444444444,
              "#bd3786"
             ],
             [
              0.5555555555555556,
              "#d8576b"
             ],
             [
              0.6666666666666666,
              "#ed7953"
             ],
             [
              0.7777777777777778,
              "#fb9f3a"
             ],
             [
              0.8888888888888888,
              "#fdca26"
             ],
             [
              1,
              "#f0f921"
             ]
            ],
            "type": "heatmap"
           }
          ],
          "heatmapgl": [
           {
            "colorbar": {
             "outlinewidth": 0,
             "ticks": ""
            },
            "colorscale": [
             [
              0,
              "#0d0887"
             ],
             [
              0.1111111111111111,
              "#46039f"
             ],
             [
              0.2222222222222222,
              "#7201a8"
             ],
             [
              0.3333333333333333,
              "#9c179e"
             ],
             [
              0.4444444444444444,
              "#bd3786"
             ],
             [
              0.5555555555555556,
              "#d8576b"
             ],
             [
              0.6666666666666666,
              "#ed7953"
             ],
             [
              0.7777777777777778,
              "#fb9f3a"
             ],
             [
              0.8888888888888888,
              "#fdca26"
             ],
             [
              1,
              "#f0f921"
             ]
            ],
            "type": "heatmapgl"
           }
          ],
          "histogram": [
           {
            "marker": {
             "colorbar": {
              "outlinewidth": 0,
              "ticks": ""
             }
            },
            "type": "histogram"
           }
          ],
          "histogram2d": [
           {
            "colorbar": {
             "outlinewidth": 0,
             "ticks": ""
            },
            "colorscale": [
             [
              0,
              "#0d0887"
             ],
             [
              0.1111111111111111,
              "#46039f"
             ],
             [
              0.2222222222222222,
              "#7201a8"
             ],
             [
              0.3333333333333333,
              "#9c179e"
             ],
             [
              0.4444444444444444,
              "#bd3786"
             ],
             [
              0.5555555555555556,
              "#d8576b"
             ],
             [
              0.6666666666666666,
              "#ed7953"
             ],
             [
              0.7777777777777778,
              "#fb9f3a"
             ],
             [
              0.8888888888888888,
              "#fdca26"
             ],
             [
              1,
              "#f0f921"
             ]
            ],
            "type": "histogram2d"
           }
          ],
          "histogram2dcontour": [
           {
            "colorbar": {
             "outlinewidth": 0,
             "ticks": ""
            },
            "colorscale": [
             [
              0,
              "#0d0887"
             ],
             [
              0.1111111111111111,
              "#46039f"
             ],
             [
              0.2222222222222222,
              "#7201a8"
             ],
             [
              0.3333333333333333,
              "#9c179e"
             ],
             [
              0.4444444444444444,
              "#bd3786"
             ],
             [
              0.5555555555555556,
              "#d8576b"
             ],
             [
              0.6666666666666666,
              "#ed7953"
             ],
             [
              0.7777777777777778,
              "#fb9f3a"
             ],
             [
              0.8888888888888888,
              "#fdca26"
             ],
             [
              1,
              "#f0f921"
             ]
            ],
            "type": "histogram2dcontour"
           }
          ],
          "mesh3d": [
           {
            "colorbar": {
             "outlinewidth": 0,
             "ticks": ""
            },
            "type": "mesh3d"
           }
          ],
          "parcoords": [
           {
            "line": {
             "colorbar": {
              "outlinewidth": 0,
              "ticks": ""
             }
            },
            "type": "parcoords"
           }
          ],
          "pie": [
           {
            "automargin": true,
            "type": "pie"
           }
          ],
          "scatter": [
           {
            "marker": {
             "colorbar": {
              "outlinewidth": 0,
              "ticks": ""
             }
            },
            "type": "scatter"
           }
          ],
          "scatter3d": [
           {
            "line": {
             "colorbar": {
              "outlinewidth": 0,
              "ticks": ""
             }
            },
            "marker": {
             "colorbar": {
              "outlinewidth": 0,
              "ticks": ""
             }
            },
            "type": "scatter3d"
           }
          ],
          "scattercarpet": [
           {
            "marker": {
             "colorbar": {
              "outlinewidth": 0,
              "ticks": ""
             }
            },
            "type": "scattercarpet"
           }
          ],
          "scattergeo": [
           {
            "marker": {
             "colorbar": {
              "outlinewidth": 0,
              "ticks": ""
             }
            },
            "type": "scattergeo"
           }
          ],
          "scattergl": [
           {
            "marker": {
             "colorbar": {
              "outlinewidth": 0,
              "ticks": ""
             }
            },
            "type": "scattergl"
           }
          ],
          "scattermapbox": [
           {
            "marker": {
             "colorbar": {
              "outlinewidth": 0,
              "ticks": ""
             }
            },
            "type": "scattermapbox"
           }
          ],
          "scatterpolar": [
           {
            "marker": {
             "colorbar": {
              "outlinewidth": 0,
              "ticks": ""
             }
            },
            "type": "scatterpolar"
           }
          ],
          "scatterpolargl": [
           {
            "marker": {
             "colorbar": {
              "outlinewidth": 0,
              "ticks": ""
             }
            },
            "type": "scatterpolargl"
           }
          ],
          "scatterternary": [
           {
            "marker": {
             "colorbar": {
              "outlinewidth": 0,
              "ticks": ""
             }
            },
            "type": "scatterternary"
           }
          ],
          "surface": [
           {
            "colorbar": {
             "outlinewidth": 0,
             "ticks": ""
            },
            "colorscale": [
             [
              0,
              "#0d0887"
             ],
             [
              0.1111111111111111,
              "#46039f"
             ],
             [
              0.2222222222222222,
              "#7201a8"
             ],
             [
              0.3333333333333333,
              "#9c179e"
             ],
             [
              0.4444444444444444,
              "#bd3786"
             ],
             [
              0.5555555555555556,
              "#d8576b"
             ],
             [
              0.6666666666666666,
              "#ed7953"
             ],
             [
              0.7777777777777778,
              "#fb9f3a"
             ],
             [
              0.8888888888888888,
              "#fdca26"
             ],
             [
              1,
              "#f0f921"
             ]
            ],
            "type": "surface"
           }
          ],
          "table": [
           {
            "cells": {
             "fill": {
              "color": "#EBF0F8"
             },
             "line": {
              "color": "white"
             }
            },
            "header": {
             "fill": {
              "color": "#C8D4E3"
             },
             "line": {
              "color": "white"
             }
            },
            "type": "table"
           }
          ]
         },
         "layout": {
          "annotationdefaults": {
           "arrowcolor": "#2a3f5f",
           "arrowhead": 0,
           "arrowwidth": 1
          },
          "coloraxis": {
           "colorbar": {
            "outlinewidth": 0,
            "ticks": ""
           }
          },
          "colorscale": {
           "diverging": [
            [
             0,
             "#8e0152"
            ],
            [
             0.1,
             "#c51b7d"
            ],
            [
             0.2,
             "#de77ae"
            ],
            [
             0.3,
             "#f1b6da"
            ],
            [
             0.4,
             "#fde0ef"
            ],
            [
             0.5,
             "#f7f7f7"
            ],
            [
             0.6,
             "#e6f5d0"
            ],
            [
             0.7,
             "#b8e186"
            ],
            [
             0.8,
             "#7fbc41"
            ],
            [
             0.9,
             "#4d9221"
            ],
            [
             1,
             "#276419"
            ]
           ],
           "sequential": [
            [
             0,
             "#0d0887"
            ],
            [
             0.1111111111111111,
             "#46039f"
            ],
            [
             0.2222222222222222,
             "#7201a8"
            ],
            [
             0.3333333333333333,
             "#9c179e"
            ],
            [
             0.4444444444444444,
             "#bd3786"
            ],
            [
             0.5555555555555556,
             "#d8576b"
            ],
            [
             0.6666666666666666,
             "#ed7953"
            ],
            [
             0.7777777777777778,
             "#fb9f3a"
            ],
            [
             0.8888888888888888,
             "#fdca26"
            ],
            [
             1,
             "#f0f921"
            ]
           ],
           "sequentialminus": [
            [
             0,
             "#0d0887"
            ],
            [
             0.1111111111111111,
             "#46039f"
            ],
            [
             0.2222222222222222,
             "#7201a8"
            ],
            [
             0.3333333333333333,
             "#9c179e"
            ],
            [
             0.4444444444444444,
             "#bd3786"
            ],
            [
             0.5555555555555556,
             "#d8576b"
            ],
            [
             0.6666666666666666,
             "#ed7953"
            ],
            [
             0.7777777777777778,
             "#fb9f3a"
            ],
            [
             0.8888888888888888,
             "#fdca26"
            ],
            [
             1,
             "#f0f921"
            ]
           ]
          },
          "colorway": [
           "#636efa",
           "#EF553B",
           "#00cc96",
           "#ab63fa",
           "#FFA15A",
           "#19d3f3",
           "#FF6692",
           "#B6E880",
           "#FF97FF",
           "#FECB52"
          ],
          "font": {
           "color": "#2a3f5f"
          },
          "geo": {
           "bgcolor": "white",
           "lakecolor": "white",
           "landcolor": "#E5ECF6",
           "showlakes": true,
           "showland": true,
           "subunitcolor": "white"
          },
          "hoverlabel": {
           "align": "left"
          },
          "hovermode": "closest",
          "mapbox": {
           "style": "light"
          },
          "paper_bgcolor": "white",
          "plot_bgcolor": "#E5ECF6",
          "polar": {
           "angularaxis": {
            "gridcolor": "white",
            "linecolor": "white",
            "ticks": ""
           },
           "bgcolor": "#E5ECF6",
           "radialaxis": {
            "gridcolor": "white",
            "linecolor": "white",
            "ticks": ""
           }
          },
          "scene": {
           "xaxis": {
            "backgroundcolor": "#E5ECF6",
            "gridcolor": "white",
            "gridwidth": 2,
            "linecolor": "white",
            "showbackground": true,
            "ticks": "",
            "zerolinecolor": "white"
           },
           "yaxis": {
            "backgroundcolor": "#E5ECF6",
            "gridcolor": "white",
            "gridwidth": 2,
            "linecolor": "white",
            "showbackground": true,
            "ticks": "",
            "zerolinecolor": "white"
           },
           "zaxis": {
            "backgroundcolor": "#E5ECF6",
            "gridcolor": "white",
            "gridwidth": 2,
            "linecolor": "white",
            "showbackground": true,
            "ticks": "",
            "zerolinecolor": "white"
           }
          },
          "shapedefaults": {
           "line": {
            "color": "#2a3f5f"
           }
          },
          "ternary": {
           "aaxis": {
            "gridcolor": "white",
            "linecolor": "white",
            "ticks": ""
           },
           "baxis": {
            "gridcolor": "white",
            "linecolor": "white",
            "ticks": ""
           },
           "bgcolor": "#E5ECF6",
           "caxis": {
            "gridcolor": "white",
            "linecolor": "white",
            "ticks": ""
           }
          },
          "title": {
           "x": 0.05
          },
          "xaxis": {
           "automargin": true,
           "gridcolor": "white",
           "linecolor": "white",
           "ticks": "",
           "title": {
            "standoff": 15
           },
           "zerolinecolor": "white",
           "zerolinewidth": 2
          },
          "yaxis": {
           "automargin": true,
           "gridcolor": "white",
           "linecolor": "white",
           "ticks": "",
           "title": {
            "standoff": 15
           },
           "zerolinecolor": "white",
           "zerolinewidth": 2
          }
         }
        },
        "title": {
         "x": 0.5,
         "xanchor": "center",
         "y": 0.9,
         "yanchor": "top"
        },
        "xaxis": {
         "tickangle": 45,
         "ticktext": [
          20190318,
          20190409,
          20190502,
          20190524,
          20190618,
          20190711,
          20190802,
          20190826,
          20190918,
          20191010,
          20191101,
          20191125,
          20191218,
          20200113,
          20200205,
          20200228
         ],
         "tickvals": [
          20190318,
          20190409,
          20190502,
          20190524,
          20190618,
          20190711,
          20190802,
          20190826,
          20190918,
          20191010,
          20191101,
          20191125,
          20191218,
          20200113,
          20200205,
          20200228
         ],
         "type": "category"
        },
        "yaxis": {
         "title": {
          "text": "y main"
         }
        },
        "yaxis2": {
         "overlaying": "y",
         "side": "right",
         "title": {
          "text": "y alt"
         }
        }
       }
      },
      "text/html": [
       "<div>\n",
       "        \n",
       "        \n",
       "            <div id=\"2a895f3d-7bf1-415a-846d-924e323cbc59\" class=\"plotly-graph-div\" style=\"height:525px; width:100%;\"></div>\n",
       "            <script type=\"text/javascript\">\n",
       "                require([\"plotly\"], function(Plotly) {\n",
       "                    window.PLOTLYENV=window.PLOTLYENV || {};\n",
       "                    \n",
       "                if (document.getElementById(\"2a895f3d-7bf1-415a-846d-924e323cbc59\")) {\n",
       "                    Plotly.newPlot(\n",
       "                        '2a895f3d-7bf1-415a-846d-924e323cbc59',\n",
       "                        [{\"name\": \"close_y\", \"type\": \"scatter\", \"x\": [20190318, 20190319, 20190320, 20190321, 20190322, 20190325, 20190326, 20190327, 20190328, 20190329, 20190401, 20190402, 20190403, 20190404, 20190405, 20190408, 20190409, 20190410, 20190411, 20190412, 20190415, 20190416, 20190417, 20190418, 20190422, 20190423, 20190424, 20190425, 20190426, 20190429, 20190430, 20190501, 20190502, 20190503, 20190506, 20190507, 20190508, 20190509, 20190510, 20190513, 20190514, 20190515, 20190516, 20190517, 20190520, 20190521, 20190522, 20190523, 20190524, 20190528, 20190529, 20190530, 20190531, 20190603, 20190604, 20190605, 20190606, 20190607, 20190610, 20190611, 20190612, 20190613, 20190614, 20190617, 20190618, 20190619, 20190620, 20190621, 20190624, 20190625, 20190626, 20190627, 20190628, 20190701, 20190702, 20190703, 20190705, 20190708, 20190709, 20190710, 20190711, 20190712, 20190715, 20190716, 20190717, 20190718, 20190719, 20190722, 20190723, 20190724, 20190725, 20190726, 20190729, 20190730, 20190731, 20190801, 20190802, 20190805, 20190806, 20190807, 20190808, 20190809, 20190812, 20190813, 20190814, 20190815, 20190816, 20190819, 20190820, 20190821, 20190822, 20190823, 20190826, 20190827, 20190828, 20190829, 20190830, 20190903, 20190904, 20190905, 20190906, 20190909, 20190910, 20190911, 20190912, 20190913, 20190916, 20190917, 20190918, 20190919, 20190920, 20190923, 20190924, 20190925, 20190926, 20190927, 20190930, 20191001, 20191002, 20191003, 20191004, 20191007, 20191008, 20191009, 20191010, 20191011, 20191014, 20191015, 20191016, 20191017, 20191018, 20191021, 20191022, 20191023, 20191024, 20191025, 20191028, 20191029, 20191030, 20191031, 20191101, 20191104, 20191105, 20191106, 20191107, 20191108, 20191111, 20191112, 20191113, 20191114, 20191115, 20191118, 20191119, 20191120, 20191121, 20191122, 20191125, 20191126, 20191127, 20191129, 20191202, 20191203, 20191204, 20191205, 20191206, 20191209, 20191210, 20191211, 20191212, 20191213, 20191216, 20191217, 20191218, 20191219, 20191220, 20191223, 20191224, 20191226, 20191227, 20191230, 20191231, 20200102, 20200103, 20200106, 20200107, 20200108, 20200109, 20200110, 20200113, 20200114, 20200115, 20200116, 20200117, 20200121, 20200122, 20200123, 20200124, 20200127, 20200128, 20200129, 20200130, 20200131, 20200203, 20200204, 20200205, 20200206, 20200207, 20200210, 20200211, 20200212, 20200213, 20200214, 20200218, 20200219, 20200220, 20200221, 20200224, 20200225, 20200226, 20200227, 20200228, 20200302, 20200303, 20200304, 20200305, 20200306, 20200309, 20200310, 20200311, 20200312, 20200313], \"y\": [2854.5, 2850.25, 2841.5, 2877.0, 2825.0, 2820.75, 2837.0, 2822.75, 2833.25, 2851.25, 2885.75, 2882.5, 2894.75, 2897.5, 2911.0, 2913.75, 2897.5, 2909.75, 2906.25, 2929.0, 2926.0, 2928.25, 2916.5, 2926.25, 2929.25, 2955.5, 2947.0, 2943.0, 2957.5, 2960.0, 2965.25, 2940.0, 2933.5, 2965.0, 2948.75, 2906.5, 2903.0, 2887.75, 2901.25, 2819.5, 2852.0, 2867.25, 2891.5, 2874.5, 2856.75, 2879.0, 2870.5, 2830.25, 2842.75, 2816.0, 2790.0, 2800.25, 2759.25, 2754.0, 2810.75, 2833.25, 2852.25, 2881.0, 2896.5, 2895.0, 2888.25, 2900.75, 2897.25, 2899.25, 2929.75, 2935.0, 2961.25, 2952.5, 2953.75, 2923.0, 2920.0, 2933.0, 2946.25, 2971.0, 2983.0, 3003.75, 2995.5, 2983.5, 2987.5, 3002.25, 3009.5, 3021.5, 3023.5, 3013.5, 2991.25, 3003.0, 2983.25, 2994.5, 3014.5, 3028.0, 3013.0, 3031.5, 3028.25, 3018.75, 2989.25, 2956.75, 2936.25, 2831.5, 2877.5, 2880.75, 2941.75, 2921.0, 2881.0, 2934.25, 2841.5, 2848.5, 2892.0, 2924.75, 2899.0, 2930.0, 2924.25, 2856.0, 2884.25, 2866.75, 2890.5, 2928.5, 2926.75, 2906.75, 2939.5, 2974.5, 2983.5, 2981.25, 2982.0, 3005.5, 3015.5, 3011.0, 3003.75, 3010.5, 3011.25, 3010.75, 2992.0, 2999.25, 2972.25, 2988.5, 2982.75, 2965.75, 2980.5, 2939.0, 2881.5, 2912.0, 2951.75, 2938.25, 2892.75, 2919.25, 2941.75, 2972.0, 2966.5, 2999.0, 2993.0, 2999.5, 2989.5, 3008.0, 2996.0, 3007.25, 3005.75, 3022.0, 3038.25, 3037.5, 3049.75, 3037.25, 3065.0, 3077.75, 3074.0, 3077.75, 3088.25, 3093.0, 3089.75, 3094.25, 3098.0, 3099.25, 3120.5, 3124.0, 3120.75, 3111.25, 3106.0, 3113.5, 3134.75, 3145.75, 3156.0, 3145.75, 3116.0, 3093.0, 3112.75, 3119.25, 3148.0, 3136.75, 3138.25, 3145.75, 3171.0, 3175.25, 3198.5, 3195.5, 3199.25, 3211.75, 3225.75, 3227.25, 3225.75, 3244.5, 3237.5, 3223.5, 3231.0, 3259.0, 3235.5, 3243.5, 3235.25, 3260.25, 3276.0, 3264.75, 3289.75, 3288.0, 3293.75, 3316.5, 3325.0, 3319.5, 3319.75, 3326.0, 3293.5, 3239.5, 3278.25, 3272.5, 3289.75, 3224.0, 3245.5, 3299.5, 3335.0, 3345.25, 3325.5, 3353.0, 3357.5, 3380.5, 3377.5, 3381.0, 3369.25, 3387.25, 3369.25, 3339.25, 3226.25, 3132.5, 3110.25, 2957.0, 2951.0, 3065.0, 2997.0, 3114.75, 3015.5, 2964.0, 2747.75, 2865.75, 2740.25, 2469.0, 2696.0], \"yaxis\": \"y\"}, {\"name\": \"atm_iv\", \"type\": \"scatter\", \"x\": [20190318, 20190319, 20190320, 20190321, 20190322, 20190325, 20190326, 20190327, 20190328, 20190329, 20190401, 20190402, 20190403, 20190404, 20190405, 20190408, 20190409, 20190410, 20190411, 20190412, 20190415, 20190416, 20190417, 20190418, 20190422, 20190423, 20190424, 20190425, 20190426, 20190429, 20190430, 20190501, 20190502, 20190503, 20190506, 20190507, 20190508, 20190509, 20190510, 20190513, 20190514, 20190515, 20190516, 20190517, 20190520, 20190521, 20190522, 20190523, 20190524, 20190528, 20190529, 20190530, 20190531, 20190603, 20190604, 20190605, 20190606, 20190607, 20190610, 20190611, 20190612, 20190613, 20190614, 20190617, 20190618, 20190619, 20190620, 20190621, 20190624, 20190625, 20190626, 20190627, 20190628, 20190701, 20190702, 20190703, 20190705, 20190708, 20190709, 20190710, 20190711, 20190712, 20190715, 20190716, 20190717, 20190718, 20190719, 20190722, 20190723, 20190724, 20190725, 20190726, 20190729, 20190730, 20190731, 20190801, 20190802, 20190805, 20190806, 20190807, 20190808, 20190809, 20190812, 20190813, 20190814, 20190815, 20190816, 20190819, 20190820, 20190821, 20190822, 20190823, 20190826, 20190827, 20190828, 20190829, 20190830, 20190903, 20190904, 20190905, 20190906, 20190909, 20190910, 20190911, 20190912, 20190913, 20190916, 20190917, 20190918, 20190919, 20190920, 20190923, 20190924, 20190925, 20190926, 20190927, 20190930, 20191001, 20191002, 20191003, 20191004, 20191007, 20191008, 20191009, 20191010, 20191011, 20191014, 20191015, 20191016, 20191017, 20191018, 20191021, 20191022, 20191023, 20191024, 20191025, 20191028, 20191029, 20191030, 20191031, 20191101, 20191104, 20191105, 20191106, 20191107, 20191108, 20191111, 20191112, 20191113, 20191114, 20191115, 20191118, 20191119, 20191120, 20191121, 20191122, 20191125, 20191126, 20191127, 20191129, 20191202, 20191203, 20191204, 20191205, 20191206, 20191209, 20191210, 20191211, 20191212, 20191213, 20191216, 20191217, 20191218, 20191219, 20191220, 20191223, 20191224, 20191226, 20191227, 20191230, 20191231, 20200102, 20200103, 20200106, 20200107, 20200108, 20200109, 20200110, 20200113, 20200114, 20200115, 20200116, 20200117, 20200121, 20200122, 20200123, 20200124, 20200127, 20200128, 20200129, 20200130, 20200131, 20200203, 20200204, 20200205, 20200206, 20200207, 20200210, 20200211, 20200212, 20200213, 20200214, 20200218, 20200219, 20200220, 20200221, 20200224, 20200225, 20200226, 20200227, 20200228, 20200302, 20200303, 20200304, 20200305, 20200306, 20200309, 20200310, 20200311, 20200312, 20200313], \"y\": [0.14555172731639038, 0.14585318737519049, 0.14780691547227937, 0.1448698587375538, 0.15381581265686745, 0.15396909466554942, 0.1502133135422276, 0.15334361965476737, 0.15162651154679035, 0.1419413372955343, 0.14367677406072027, 0.14438632959921874, 0.14299574249274305, 0.1435674825266518, 0.14045268123723073, 0.1403207855848641, 0.14367526493726285, 0.14123596631905236, 0.14140301713566503, 0.13876782360911405, 0.13946282134277252, 0.1388434714855585, 0.1409835918117142, 0.13979868896505293, 0.13955252352000147, 0.13682406332142857, 0.13936790449027306, 0.1404552992075535, 0.1379976093203643, 0.13969061192497934, 0.13976650998857723, 0.14483365895043737, 0.14398204045611548, 0.13964633553074957, 0.14472561285737653, 0.1548946088449064, 0.1526845544809162, 0.1535533397313192, 0.14722355491120015, 0.16188639090290463, 0.15508499424223765, 0.15130237607974503, 0.1471704524699057, 0.1494734483664789, 0.1520970144161447, 0.14696726691423243, 0.14700645630349599, 0.15526649296013903, 0.15305976670017554, 0.15826678763462834, 0.1625981316084372, 0.160879717769441, 0.16618680684366777, 0.16670705828167626, 0.1580635591235963, 0.1549517679233242, 0.15273998738070754, 0.15229546972892077, 0.15022132943735303, 0.15218052637783333, 0.15211359787919923, 0.15091594435528627, 0.1504816123250577, 0.15019626504688427, 0.14760701990253527, 0.1454840054304575, 0.14354822888143962, 0.14750727316273302, 0.14592886190742818, 0.15073476588060025, 0.1510488036225483, 0.14848632124032202, 0.14627476199716505, 0.1392858849228765, 0.13530312427610958, 0.13306521442161315, 0.13462614390411903, 0.1377445010968059, 0.13887632865310182, 0.1366518194854917, 0.13566679569398157, 0.13536606858896724, 0.13671257421682814, 0.1380038180298277, 0.1427165587772767, 0.14161284394223317, 0.14492469577800504, 0.1419014472226158, 0.13817890211254458, 0.13572984098911178, 0.1385518113339596, 0.13539483995382176, 0.13633129801120603, 0.1403912466074994, 0.14670192102717716, 0.15482036862482157, 0.15555560150396291, 0.18103558962433203, 0.16830603653783263, 0.16785332257263919, 0.15545077056188117, 0.15973742693836934, 0.1726360611844725, 0.16026438879667035, 0.1822064817921939, 0.18126113591171036, 0.17210902498114042, 0.16374790620550334, 0.16802349392875915, 0.16068226129009514, 0.16426833220797382, 0.1806032076596534, 0.17601139420633258, 0.18174006778542728, 0.1766678826745161, 0.16797476413281576, 0.1705427334198222, 0.17684782537094848, 0.1675170471096742, 0.16068548888230522, 0.15632762699597233, 0.15681372104046332, 0.15647892908075567, 0.1537810167520081, 0.1508977419154721, 0.1512233556866044, 0.15516352173455783, 0.15623648611453894, 0.15403740202961969, 0.15366141079244025, 0.16069292532712998, 0.1576288990862865, 0.16567320481876774, 0.16114641217017653, 0.1619151925082617, 0.16709409609222223, 0.16201021257777165, 0.17323518959330292, 0.18604887939601406, 0.17856768482794963, 0.16696497667102694, 0.1692726153624841, 0.18207941422848944, 0.17478017926200443, 0.16894606803050416, 0.159187627566649, 0.15576138522204047, 0.14899552849635, 0.14897300136526714, 0.14790494987980465, 0.14986344860192696, 0.1453858044752831, 0.14821675459602088, 0.14570600216139057, 0.14592147408632586, 0.140934566436332, 0.1405094633578144, 0.14195692028186147, 0.13902669060002187, 0.14290675239575887, 0.13856508032508352, 0.1385565013033697, 0.14064722040316052, 0.14029126644324563, 0.13991415890519074, 0.1383482358661674, 0.13887922818711004, 0.1380234518763478, 0.1387059537500279, 0.1384216937271956, 0.13278460957254004, 0.13276090435011112, 0.135012210770308, 0.13695805805611014, 0.13908460574740084, 0.1358003443383119, 0.13083953342869453, 0.12858680424875987, 0.12884337894447634, 0.13334484553402376, 0.14505127858549685, 0.15361664767341368, 0.146603279397348, 0.14471227663410444, 0.13706665942964777, 0.14462649690343604, 0.14373272872153406, 0.140845677122807, 0.13294530636453022, 0.12498877925951615, 0.12036432733273954, 0.12163552095016063, 0.12244079394876983, 0.12092325044082698, 0.12180702774593953, 0.12278951738609589, 0.1235083964031473, 0.12289170257786516, 0.1278323422270886, 0.13589751872357678, 0.1288132381460074, 0.12094002750089877, 0.13067387915088208, 0.13016589590664301, 0.12941087347911356, 0.12313043837557347, 0.11727671353071824, 0.11830812692188472, 0.11542797460035029, 0.11471203444421303, 0.11421299583782661, 0.11211799113919742, 0.11108157360257874, 0.1164757219960291, 0.11716465427297593, 0.11689007387631244, 0.1311855716915332, 0.15799218319792804, 0.14282463866212047, 0.14360265848330023, 0.1355575595481519, 0.16512826068587957, 0.15436941365417395, 0.13518222067961025, 0.1255022215190968, 0.12070417195077343, 0.12738035026236774, 0.12286341354283968, 0.12253804045756483, 0.1101132770825609, 0.1139301013098943, 0.1106356665708811, 0.11877725405477572, 0.1125456164864671, 0.12352128355984293, 0.14247860052153466, 0.2191960805140703, 0.24916435944993737, 0.2519038973916522, 0.37972028009908665, 0.43041362104098, 0.31340401138433316, 0.3673806711122036, 0.2872766619085733, 0.385536535770998, 0.408033308516625, 0.6186376248717285, 0.5092252232117574, 0.6347002651855844, 0.9997281813784422, 0.6608614356933218], \"yaxis\": \"y2\"}],\n",
       "                        {\"margin\": {\"b\": 100}, \"template\": {\"data\": {\"bar\": [{\"error_x\": {\"color\": \"#2a3f5f\"}, \"error_y\": {\"color\": \"#2a3f5f\"}, \"marker\": {\"line\": {\"color\": \"#E5ECF6\", \"width\": 0.5}}, \"type\": \"bar\"}], \"barpolar\": [{\"marker\": {\"line\": {\"color\": \"#E5ECF6\", \"width\": 0.5}}, \"type\": \"barpolar\"}], \"carpet\": [{\"aaxis\": {\"endlinecolor\": \"#2a3f5f\", \"gridcolor\": \"white\", \"linecolor\": \"white\", \"minorgridcolor\": \"white\", \"startlinecolor\": \"#2a3f5f\"}, \"baxis\": {\"endlinecolor\": \"#2a3f5f\", \"gridcolor\": \"white\", \"linecolor\": \"white\", \"minorgridcolor\": \"white\", \"startlinecolor\": \"#2a3f5f\"}, \"type\": \"carpet\"}], \"choropleth\": [{\"colorbar\": {\"outlinewidth\": 0, \"ticks\": \"\"}, \"type\": \"choropleth\"}], \"contour\": [{\"colorbar\": {\"outlinewidth\": 0, \"ticks\": \"\"}, \"colorscale\": [[0.0, \"#0d0887\"], [0.1111111111111111, \"#46039f\"], [0.2222222222222222, \"#7201a8\"], [0.3333333333333333, \"#9c179e\"], [0.4444444444444444, \"#bd3786\"], [0.5555555555555556, \"#d8576b\"], [0.6666666666666666, \"#ed7953\"], [0.7777777777777778, \"#fb9f3a\"], [0.8888888888888888, \"#fdca26\"], [1.0, \"#f0f921\"]], \"type\": \"contour\"}], \"contourcarpet\": [{\"colorbar\": {\"outlinewidth\": 0, \"ticks\": \"\"}, \"type\": \"contourcarpet\"}], \"heatmap\": [{\"colorbar\": {\"outlinewidth\": 0, \"ticks\": \"\"}, \"colorscale\": [[0.0, \"#0d0887\"], [0.1111111111111111, \"#46039f\"], [0.2222222222222222, \"#7201a8\"], [0.3333333333333333, \"#9c179e\"], [0.4444444444444444, \"#bd3786\"], [0.5555555555555556, \"#d8576b\"], [0.6666666666666666, \"#ed7953\"], [0.7777777777777778, \"#fb9f3a\"], [0.8888888888888888, \"#fdca26\"], [1.0, \"#f0f921\"]], \"type\": \"heatmap\"}], \"heatmapgl\": [{\"colorbar\": {\"outlinewidth\": 0, \"ticks\": \"\"}, \"colorscale\": [[0.0, \"#0d0887\"], [0.1111111111111111, \"#46039f\"], [0.2222222222222222, \"#7201a8\"], [0.3333333333333333, \"#9c179e\"], [0.4444444444444444, \"#bd3786\"], [0.5555555555555556, \"#d8576b\"], [0.6666666666666666, \"#ed7953\"], [0.7777777777777778, \"#fb9f3a\"], [0.8888888888888888, \"#fdca26\"], [1.0, \"#f0f921\"]], \"type\": \"heatmapgl\"}], \"histogram\": [{\"marker\": {\"colorbar\": {\"outlinewidth\": 0, \"ticks\": \"\"}}, \"type\": \"histogram\"}], \"histogram2d\": [{\"colorbar\": {\"outlinewidth\": 0, \"ticks\": \"\"}, \"colorscale\": [[0.0, \"#0d0887\"], [0.1111111111111111, \"#46039f\"], [0.2222222222222222, \"#7201a8\"], [0.3333333333333333, \"#9c179e\"], [0.4444444444444444, \"#bd3786\"], [0.5555555555555556, \"#d8576b\"], [0.6666666666666666, \"#ed7953\"], [0.7777777777777778, \"#fb9f3a\"], [0.8888888888888888, \"#fdca26\"], [1.0, \"#f0f921\"]], \"type\": \"histogram2d\"}], \"histogram2dcontour\": [{\"colorbar\": {\"outlinewidth\": 0, \"ticks\": \"\"}, \"colorscale\": [[0.0, \"#0d0887\"], [0.1111111111111111, \"#46039f\"], [0.2222222222222222, \"#7201a8\"], [0.3333333333333333, \"#9c179e\"], [0.4444444444444444, \"#bd3786\"], [0.5555555555555556, \"#d8576b\"], [0.6666666666666666, \"#ed7953\"], [0.7777777777777778, \"#fb9f3a\"], [0.8888888888888888, \"#fdca26\"], [1.0, \"#f0f921\"]], \"type\": \"histogram2dcontour\"}], \"mesh3d\": [{\"colorbar\": {\"outlinewidth\": 0, \"ticks\": \"\"}, \"type\": \"mesh3d\"}], \"parcoords\": [{\"line\": {\"colorbar\": {\"outlinewidth\": 0, \"ticks\": \"\"}}, \"type\": \"parcoords\"}], \"pie\": [{\"automargin\": true, \"type\": \"pie\"}], \"scatter\": [{\"marker\": {\"colorbar\": {\"outlinewidth\": 0, \"ticks\": \"\"}}, \"type\": \"scatter\"}], \"scatter3d\": [{\"line\": {\"colorbar\": {\"outlinewidth\": 0, \"ticks\": \"\"}}, \"marker\": {\"colorbar\": {\"outlinewidth\": 0, \"ticks\": \"\"}}, \"type\": \"scatter3d\"}], \"scattercarpet\": [{\"marker\": {\"colorbar\": {\"outlinewidth\": 0, \"ticks\": \"\"}}, \"type\": \"scattercarpet\"}], \"scattergeo\": [{\"marker\": {\"colorbar\": {\"outlinewidth\": 0, \"ticks\": \"\"}}, \"type\": \"scattergeo\"}], \"scattergl\": [{\"marker\": {\"colorbar\": {\"outlinewidth\": 0, \"ticks\": \"\"}}, \"type\": \"scattergl\"}], \"scattermapbox\": [{\"marker\": {\"colorbar\": {\"outlinewidth\": 0, \"ticks\": \"\"}}, \"type\": \"scattermapbox\"}], \"scatterpolar\": [{\"marker\": {\"colorbar\": {\"outlinewidth\": 0, \"ticks\": \"\"}}, \"type\": \"scatterpolar\"}], \"scatterpolargl\": [{\"marker\": {\"colorbar\": {\"outlinewidth\": 0, \"ticks\": \"\"}}, \"type\": \"scatterpolargl\"}], \"scatterternary\": [{\"marker\": {\"colorbar\": {\"outlinewidth\": 0, \"ticks\": \"\"}}, \"type\": \"scatterternary\"}], \"surface\": [{\"colorbar\": {\"outlinewidth\": 0, \"ticks\": \"\"}, \"colorscale\": [[0.0, \"#0d0887\"], [0.1111111111111111, \"#46039f\"], [0.2222222222222222, \"#7201a8\"], [0.3333333333333333, \"#9c179e\"], [0.4444444444444444, \"#bd3786\"], [0.5555555555555556, \"#d8576b\"], [0.6666666666666666, \"#ed7953\"], [0.7777777777777778, \"#fb9f3a\"], [0.8888888888888888, \"#fdca26\"], [1.0, \"#f0f921\"]], \"type\": \"surface\"}], \"table\": [{\"cells\": {\"fill\": {\"color\": \"#EBF0F8\"}, \"line\": {\"color\": \"white\"}}, \"header\": {\"fill\": {\"color\": \"#C8D4E3\"}, \"line\": {\"color\": \"white\"}}, \"type\": \"table\"}]}, \"layout\": {\"annotationdefaults\": {\"arrowcolor\": \"#2a3f5f\", \"arrowhead\": 0, \"arrowwidth\": 1}, \"coloraxis\": {\"colorbar\": {\"outlinewidth\": 0, \"ticks\": \"\"}}, \"colorscale\": {\"diverging\": [[0, \"#8e0152\"], [0.1, \"#c51b7d\"], [0.2, \"#de77ae\"], [0.3, \"#f1b6da\"], [0.4, \"#fde0ef\"], [0.5, \"#f7f7f7\"], [0.6, \"#e6f5d0\"], [0.7, \"#b8e186\"], [0.8, \"#7fbc41\"], [0.9, \"#4d9221\"], [1, \"#276419\"]], \"sequential\": [[0.0, \"#0d0887\"], [0.1111111111111111, \"#46039f\"], [0.2222222222222222, \"#7201a8\"], [0.3333333333333333, \"#9c179e\"], [0.4444444444444444, \"#bd3786\"], [0.5555555555555556, \"#d8576b\"], [0.6666666666666666, \"#ed7953\"], [0.7777777777777778, \"#fb9f3a\"], [0.8888888888888888, \"#fdca26\"], [1.0, \"#f0f921\"]], \"sequentialminus\": [[0.0, \"#0d0887\"], [0.1111111111111111, \"#46039f\"], [0.2222222222222222, \"#7201a8\"], [0.3333333333333333, \"#9c179e\"], [0.4444444444444444, \"#bd3786\"], [0.5555555555555556, \"#d8576b\"], [0.6666666666666666, \"#ed7953\"], [0.7777777777777778, \"#fb9f3a\"], [0.8888888888888888, \"#fdca26\"], [1.0, \"#f0f921\"]]}, \"colorway\": [\"#636efa\", \"#EF553B\", \"#00cc96\", \"#ab63fa\", \"#FFA15A\", \"#19d3f3\", \"#FF6692\", \"#B6E880\", \"#FF97FF\", \"#FECB52\"], \"font\": {\"color\": \"#2a3f5f\"}, \"geo\": {\"bgcolor\": \"white\", \"lakecolor\": \"white\", \"landcolor\": \"#E5ECF6\", \"showlakes\": true, \"showland\": true, \"subunitcolor\": \"white\"}, \"hoverlabel\": {\"align\": \"left\"}, \"hovermode\": \"closest\", \"mapbox\": {\"style\": \"light\"}, \"paper_bgcolor\": \"white\", \"plot_bgcolor\": \"#E5ECF6\", \"polar\": {\"angularaxis\": {\"gridcolor\": \"white\", \"linecolor\": \"white\", \"ticks\": \"\"}, \"bgcolor\": \"#E5ECF6\", \"radialaxis\": {\"gridcolor\": \"white\", \"linecolor\": \"white\", \"ticks\": \"\"}}, \"scene\": {\"xaxis\": {\"backgroundcolor\": \"#E5ECF6\", \"gridcolor\": \"white\", \"gridwidth\": 2, \"linecolor\": \"white\", \"showbackground\": true, \"ticks\": \"\", \"zerolinecolor\": \"white\"}, \"yaxis\": {\"backgroundcolor\": \"#E5ECF6\", \"gridcolor\": \"white\", \"gridwidth\": 2, \"linecolor\": \"white\", \"showbackground\": true, \"ticks\": \"\", \"zerolinecolor\": \"white\"}, \"zaxis\": {\"backgroundcolor\": \"#E5ECF6\", \"gridcolor\": \"white\", \"gridwidth\": 2, \"linecolor\": \"white\", \"showbackground\": true, \"ticks\": \"\", \"zerolinecolor\": \"white\"}}, \"shapedefaults\": {\"line\": {\"color\": \"#2a3f5f\"}}, \"ternary\": {\"aaxis\": {\"gridcolor\": \"white\", \"linecolor\": \"white\", \"ticks\": \"\"}, \"baxis\": {\"gridcolor\": \"white\", \"linecolor\": \"white\", \"ticks\": \"\"}, \"bgcolor\": \"#E5ECF6\", \"caxis\": {\"gridcolor\": \"white\", \"linecolor\": \"white\", \"ticks\": \"\"}}, \"title\": {\"x\": 0.05}, \"xaxis\": {\"automargin\": true, \"gridcolor\": \"white\", \"linecolor\": \"white\", \"ticks\": \"\", \"title\": {\"standoff\": 15}, \"zerolinecolor\": \"white\", \"zerolinewidth\": 2}, \"yaxis\": {\"automargin\": true, \"gridcolor\": \"white\", \"linecolor\": \"white\", \"ticks\": \"\", \"title\": {\"standoff\": 15}, \"zerolinecolor\": \"white\", \"zerolinewidth\": 2}}}, \"title\": {\"x\": 0.5, \"xanchor\": \"center\", \"y\": 0.9, \"yanchor\": \"top\"}, \"xaxis\": {\"tickangle\": 45, \"ticktext\": [20190318, 20190409, 20190502, 20190524, 20190618, 20190711, 20190802, 20190826, 20190918, 20191010, 20191101, 20191125, 20191218, 20200113, 20200205, 20200228], \"tickvals\": [20190318, 20190409, 20190502, 20190524, 20190618, 20190711, 20190802, 20190826, 20190918, 20191010, 20191101, 20191125, 20191218, 20200113, 20200205, 20200228], \"type\": \"category\"}, \"yaxis\": {\"title\": {\"text\": \"y main\"}}, \"yaxis2\": {\"overlaying\": \"y\", \"side\": \"right\", \"title\": {\"text\": \"y alt\"}}},\n",
       "                        {\"responsive\": true}\n",
       "                    ).then(function(){\n",
       "                            \n",
       "var gd = document.getElementById('2a895f3d-7bf1-415a-846d-924e323cbc59');\n",
       "var x = new MutationObserver(function (mutations, observer) {{\n",
       "        var display = window.getComputedStyle(gd).display;\n",
       "        if (!display || display === 'none') {{\n",
       "            console.log([gd, 'removed!']);\n",
       "            Plotly.purge(gd);\n",
       "            observer.disconnect();\n",
       "        }}\n",
       "}});\n",
       "\n",
       "// Listen for the removal of the full notebook cells\n",
       "var notebookContainer = gd.closest('#notebook-container');\n",
       "if (notebookContainer) {{\n",
       "    x.observe(notebookContainer, {childList: true});\n",
       "}}\n",
       "\n",
       "// Listen for the clearing of the current output cell\n",
       "var outputEl = gd.closest('.output');\n",
       "if (outputEl) {{\n",
       "    x.observe(outputEl, {childList: true});\n",
       "}}\n",
       "\n",
       "                        })\n",
       "                };\n",
       "                });\n",
       "            </script>\n",
       "        </div>"
      ]
     },
     "metadata": {},
     "output_type": "display_data"
    },
    {
     "name": "stdout",
     "output_type": "stream",
     "text": [
      "graphing symbol: ESM20\n"
     ]
    },
    {
     "data": {
      "application/vnd.plotly.v1+json": {
       "config": {
        "linkText": "Export to plot.ly",
        "plotlyServerURL": "https://plot.ly",
        "showLink": false
       },
       "data": [
        {
         "name": "close_y",
         "type": "scatter",
         "x": [
          20190624,
          20190625,
          20190626,
          20190627,
          20190628,
          20190701,
          20190702,
          20190703,
          20190705,
          20190708,
          20190709,
          20190710,
          20190711,
          20190712,
          20190715,
          20190716,
          20190717,
          20190718,
          20190719,
          20190722,
          20190723,
          20190724,
          20190725,
          20190726,
          20190729,
          20190730,
          20190731,
          20190801,
          20190802,
          20190805,
          20190806,
          20190807,
          20190808,
          20190809,
          20190812,
          20190813,
          20190814,
          20190815,
          20190816,
          20190819,
          20190820,
          20190821,
          20190822,
          20190823,
          20190826,
          20190827,
          20190828,
          20190829,
          20190830,
          20190903,
          20190904,
          20190905,
          20190906,
          20190909,
          20190910,
          20190911,
          20190912,
          20190913,
          20190916,
          20190917,
          20190918,
          20190919,
          20190920,
          20190923,
          20190924,
          20190925,
          20190926,
          20190927,
          20190930,
          20191001,
          20191002,
          20191003,
          20191004,
          20191007,
          20191008,
          20191009,
          20191010,
          20191011,
          20191014,
          20191015,
          20191016,
          20191017,
          20191018,
          20191021,
          20191022,
          20191023,
          20191024,
          20191025,
          20191028,
          20191029,
          20191030,
          20191031,
          20191101,
          20191104,
          20191105,
          20191106,
          20191107,
          20191108,
          20191111,
          20191112,
          20191113,
          20191114,
          20191115,
          20191118,
          20191119,
          20191120,
          20191121,
          20191122,
          20191125,
          20191126,
          20191127,
          20191129,
          20191202,
          20191203,
          20191204,
          20191205,
          20191206,
          20191209,
          20191210,
          20191211,
          20191212,
          20191213,
          20191216,
          20191217,
          20191218,
          20191219,
          20191220,
          20191223,
          20191224,
          20191226,
          20191227,
          20191230,
          20191231,
          20200102,
          20200103,
          20200106,
          20200107,
          20200108,
          20200109,
          20200110,
          20200113,
          20200114,
          20200115,
          20200116,
          20200117,
          20200121,
          20200122,
          20200123,
          20200124,
          20200127,
          20200128,
          20200129,
          20200130,
          20200131,
          20200203,
          20200204,
          20200205,
          20200206,
          20200207,
          20200210,
          20200211,
          20200212,
          20200213,
          20200214,
          20200218,
          20200219,
          20200220,
          20200221,
          20200224,
          20200225,
          20200226,
          20200227,
          20200228,
          20200302,
          20200303,
          20200304,
          20200305,
          20200306,
          20200309,
          20200310,
          20200311,
          20200312,
          20200313
         ],
         "y": [
          2958,
          2924.75,
          2921,
          2935,
          2947.75,
          2970,
          2982.5,
          3003.75,
          2993,
          2982,
          2984.75,
          3002.75,
          3010.25,
          3022.5,
          3023.75,
          3014.5,
          2992,
          3003.75,
          2983,
          2995,
          3014,
          3027.75,
          3012.5,
          3030.5,
          3028,
          3018.5,
          2990,
          2959,
          2939.5,
          2835.5,
          2880.25,
          2883.5,
          2943.5,
          2923.75,
          2883.75,
          2935,
          2843.5,
          2850,
          2892,
          2925,
          2898,
          2929.5,
          2923.5,
          2856,
          2882.5,
          2868,
          2890.75,
          2928.25,
          2927.5,
          2906.75,
          2939.5,
          2972.5,
          2981,
          2978.25,
          2980.5,
          3002.25,
          3014.25,
          3011,
          3004,
          3006.5,
          3007.75,
          3008,
          2990.5,
          2996.5,
          2968,
          2988.25,
          2982.25,
          2965.5,
          2980,
          2938.25,
          2879.75,
          2910,
          2949.75,
          2936.5,
          2891,
          2917.25,
          2940,
          2971.25,
          2966,
          2998.5,
          2992,
          2998.75,
          2988.75,
          3007.25,
          2995,
          3006.5,
          3005.25,
          3021.75,
          3038.25,
          3037.25,
          3049.75,
          3036.75,
          3065,
          3077.75,
          3074,
          3078,
          3087.5,
          3092,
          3089.25,
          3093.25,
          3098,
          3098.5,
          3119,
          3123.5,
          3120.25,
          3110.5,
          3105.25,
          3113.25,
          3134.25,
          3145.75,
          3155.5,
          3144.75,
          3115.75,
          3092,
          3112,
          3118.5,
          3147.25,
          3136.5,
          3138,
          3145.5,
          3170.75,
          3174.75,
          3198.25,
          3195.25,
          3199,
          3211.75,
          3226,
          3227.5,
          3225.75,
          3244.5,
          3237.75,
          3223.5,
          3231,
          3259,
          3235.25,
          3243.5,
          3235.25,
          3260.5,
          3276.25,
          3265,
          3290,
          3288.25,
          3294.25,
          3317,
          3325.5,
          3320,
          3320.5,
          3326.5,
          3294,
          3239.75,
          3278.5,
          3272.75,
          3290,
          3223.5,
          3245.5,
          3299.75,
          3335.25,
          3345.5,
          3325.5,
          3353,
          3357.75,
          3381,
          3378,
          3381.5,
          3369.75,
          3388,
          3369.75,
          3339.5,
          3225.5,
          3131.25,
          3108.5,
          2953.75,
          2945.5,
          3059.5,
          2989.5,
          3107,
          3006.5,
          2953.75,
          2735.25,
          2854.25,
          2729,
          2456,
          2684
         ],
         "yaxis": "y"
        },
        {
         "name": "atm_iv",
         "type": "scatter",
         "x": [
          20190624,
          20190625,
          20190626,
          20190627,
          20190628,
          20190701,
          20190702,
          20190703,
          20190705,
          20190708,
          20190709,
          20190710,
          20190711,
          20190712,
          20190715,
          20190716,
          20190717,
          20190718,
          20190719,
          20190722,
          20190723,
          20190724,
          20190725,
          20190726,
          20190729,
          20190730,
          20190731,
          20190801,
          20190802,
          20190805,
          20190806,
          20190807,
          20190808,
          20190809,
          20190812,
          20190813,
          20190814,
          20190815,
          20190816,
          20190819,
          20190820,
          20190821,
          20190822,
          20190823,
          20190826,
          20190827,
          20190828,
          20190829,
          20190830,
          20190903,
          20190904,
          20190905,
          20190906,
          20190909,
          20190910,
          20190911,
          20190912,
          20190913,
          20190916,
          20190917,
          20190918,
          20190919,
          20190920,
          20190923,
          20190924,
          20190925,
          20190926,
          20190927,
          20190930,
          20191001,
          20191002,
          20191003,
          20191004,
          20191007,
          20191008,
          20191009,
          20191010,
          20191011,
          20191014,
          20191015,
          20191016,
          20191017,
          20191018,
          20191021,
          20191022,
          20191023,
          20191024,
          20191025,
          20191028,
          20191029,
          20191030,
          20191031,
          20191101,
          20191104,
          20191105,
          20191106,
          20191107,
          20191108,
          20191111,
          20191112,
          20191113,
          20191114,
          20191115,
          20191118,
          20191119,
          20191120,
          20191121,
          20191122,
          20191125,
          20191126,
          20191127,
          20191129,
          20191202,
          20191203,
          20191204,
          20191205,
          20191206,
          20191209,
          20191210,
          20191211,
          20191212,
          20191213,
          20191216,
          20191217,
          20191218,
          20191219,
          20191220,
          20191223,
          20191224,
          20191226,
          20191227,
          20191230,
          20191231,
          20200102,
          20200103,
          20200106,
          20200107,
          20200108,
          20200109,
          20200110,
          20200113,
          20200114,
          20200115,
          20200116,
          20200117,
          20200121,
          20200122,
          20200123,
          20200124,
          20200127,
          20200128,
          20200129,
          20200130,
          20200131,
          20200203,
          20200204,
          20200205,
          20200206,
          20200207,
          20200210,
          20200211,
          20200212,
          20200213,
          20200214,
          20200218,
          20200219,
          20200220,
          20200221,
          20200224,
          20200225,
          20200226,
          20200227,
          20200228,
          20200302,
          20200303,
          20200304,
          20200305,
          20200306,
          20200309,
          20200310,
          20200311,
          20200312,
          20200313
         ],
         "y": [
          0.14955339406490104,
          0.1540806094988348,
          0.15426033647185644,
          0.1516134566078387,
          0.14996106702963208,
          0.1446821213957898,
          0.14138671045585494,
          0.13945814328595815,
          0.14028734016786457,
          0.14338089779303484,
          0.14384801727914454,
          0.14143332519132956,
          0.14062444181790482,
          0.14050480835522797,
          0.14213270666564476,
          0.1427468523087175,
          0.14744622228897802,
          0.14599032487766478,
          0.14949750726996133,
          0.14673307102042504,
          0.14352189204553234,
          0.14155447881191205,
          0.14380973826115823,
          0.1410046503004598,
          0.14207185710752554,
          0.14493872680786551,
          0.14584326850410445,
          0.15683212288584614,
          0.15562224689591403,
          0.17742663974235717,
          0.16760527630492955,
          0.1664967524079776,
          0.15682466917831123,
          0.15998115728979181,
          0.1703414939413106,
          0.1603476910862119,
          0.1786468231637241,
          0.17811578406744993,
          0.1713101311280942,
          0.16453686205583054,
          0.16901800347816573,
          0.16264631699114793,
          0.16555653571608386,
          0.1802318488285255,
          0.17634398050007555,
          0.18114154198227378,
          0.17615782681769562,
          0.16965801431163116,
          0.1722163617278581,
          0.17760523552934804,
          0.17020647521485954,
          0.1649373370080927,
          0.16121503240423293,
          0.16183944468793515,
          0.16162314049007348,
          0.15960660654224182,
          0.15671844434837853,
          0.15712359527167735,
          0.1605302288841207,
          0.16204638395148588,
          0.16097156521533393,
          0.1603362195552718,
          0.16540145900778408,
          0.16371096452058934,
          0.16988060092629673,
          0.16593783319998562,
          0.16673322557251039,
          0.1706824232831199,
          0.1667919373605232,
          0.1751757303589674,
          0.18602962829425898,
          0.18062436592682882,
          0.17067364723509282,
          0.17244939763887837,
          0.18308467128207953,
          0.17731072868057368,
          0.17221059423719698,
          0.164074365444672,
          0.16199357262193478,
          0.15631634830990426,
          0.1568188001263006,
          0.15573134880654138,
          0.1584098430734213,
          0.15473501788415397,
          0.1568172052030028,
          0.15488735997344183,
          0.1552854849719686,
          0.1514823963037493,
          0.1508767084829261,
          0.1519711347551828,
          0.14950955680838798,
          0.15264233222697637,
          0.14946060966824404,
          0.1491722860237459,
          0.1511550999270584,
          0.1513630893733546,
          0.15112995985390498,
          0.15111664512131828,
          0.15122685598472163,
          0.15058891328165672,
          0.15022445435594628,
          0.1504666818072163,
          0.14638639885747992,
          0.1458433198805265,
          0.14765350841816302,
          0.1499683017127572,
          0.15292127676958517,
          0.14996208512236975,
          0.1453853384546991,
          0.14349809123689997,
          0.14361017419446478,
          0.1474305801863749,
          0.15546430528774913,
          0.16195887874938064,
          0.1566695670904707,
          0.1551116579956151,
          0.1497572089851851,
          0.15460573081410736,
          0.15416084737041738,
          0.15188991131905707,
          0.1455769732874302,
          0.14074229290110565,
          0.13660332460026495,
          0.1381124877761044,
          0.13844033409629572,
          0.13706989869959035,
          0.1370880500738014,
          0.13795819927035724,
          0.13841060845344497,
          0.1372730029690338,
          0.14046321003802342,
          0.14560764047790534,
          0.14059772741127052,
          0.1345331323534725,
          0.1415918485059567,
          0.1403398597355029,
          0.13995497026026243,
          0.13433280429060532,
          0.13123281862760605,
          0.1317410194104636,
          0.12852686407855396,
          0.12825330687173836,
          0.1277465395367002,
          0.12585355526144465,
          0.1260575204601136,
          0.12887700555745749,
          0.13007985290437188,
          0.12979134837368936,
          0.13747177783086187,
          0.15235192016777413,
          0.14311661735531897,
          0.14259007743167246,
          0.13778242979473562,
          0.15304102450467608,
          0.14884337177591495,
          0.13689604240809877,
          0.13189465235534636,
          0.12961050309929797,
          0.13517561616402937,
          0.13230019133902968,
          0.13269171638644772,
          0.127185861704659,
          0.1296079294791106,
          0.12746427438518534,
          0.1317017816648899,
          0.1290963801307782,
          0.1344259279679912,
          0.14402544509573184,
          0.17931651568620982,
          0.19959291480616226,
          0.20030675938071796,
          0.25686359276471515,
          0.2753203287966073,
          0.23931430870043308,
          0.2604222967631299,
          0.23236902563351683,
          0.2837988775251446,
          0.31567529460198573,
          0.3978823376715245,
          0.36332217850155624,
          0.4098479186710323,
          0.5368778918061191,
          0.4394178491161997
         ],
         "yaxis": "y2"
        }
       ],
       "layout": {
        "margin": {
         "b": 100
        },
        "template": {
         "data": {
          "bar": [
           {
            "error_x": {
             "color": "#2a3f5f"
            },
            "error_y": {
             "color": "#2a3f5f"
            },
            "marker": {
             "line": {
              "color": "#E5ECF6",
              "width": 0.5
             }
            },
            "type": "bar"
           }
          ],
          "barpolar": [
           {
            "marker": {
             "line": {
              "color": "#E5ECF6",
              "width": 0.5
             }
            },
            "type": "barpolar"
           }
          ],
          "carpet": [
           {
            "aaxis": {
             "endlinecolor": "#2a3f5f",
             "gridcolor": "white",
             "linecolor": "white",
             "minorgridcolor": "white",
             "startlinecolor": "#2a3f5f"
            },
            "baxis": {
             "endlinecolor": "#2a3f5f",
             "gridcolor": "white",
             "linecolor": "white",
             "minorgridcolor": "white",
             "startlinecolor": "#2a3f5f"
            },
            "type": "carpet"
           }
          ],
          "choropleth": [
           {
            "colorbar": {
             "outlinewidth": 0,
             "ticks": ""
            },
            "type": "choropleth"
           }
          ],
          "contour": [
           {
            "colorbar": {
             "outlinewidth": 0,
             "ticks": ""
            },
            "colorscale": [
             [
              0,
              "#0d0887"
             ],
             [
              0.1111111111111111,
              "#46039f"
             ],
             [
              0.2222222222222222,
              "#7201a8"
             ],
             [
              0.3333333333333333,
              "#9c179e"
             ],
             [
              0.4444444444444444,
              "#bd3786"
             ],
             [
              0.5555555555555556,
              "#d8576b"
             ],
             [
              0.6666666666666666,
              "#ed7953"
             ],
             [
              0.7777777777777778,
              "#fb9f3a"
             ],
             [
              0.8888888888888888,
              "#fdca26"
             ],
             [
              1,
              "#f0f921"
             ]
            ],
            "type": "contour"
           }
          ],
          "contourcarpet": [
           {
            "colorbar": {
             "outlinewidth": 0,
             "ticks": ""
            },
            "type": "contourcarpet"
           }
          ],
          "heatmap": [
           {
            "colorbar": {
             "outlinewidth": 0,
             "ticks": ""
            },
            "colorscale": [
             [
              0,
              "#0d0887"
             ],
             [
              0.1111111111111111,
              "#46039f"
             ],
             [
              0.2222222222222222,
              "#7201a8"
             ],
             [
              0.3333333333333333,
              "#9c179e"
             ],
             [
              0.4444444444444444,
              "#bd3786"
             ],
             [
              0.5555555555555556,
              "#d8576b"
             ],
             [
              0.6666666666666666,
              "#ed7953"
             ],
             [
              0.7777777777777778,
              "#fb9f3a"
             ],
             [
              0.8888888888888888,
              "#fdca26"
             ],
             [
              1,
              "#f0f921"
             ]
            ],
            "type": "heatmap"
           }
          ],
          "heatmapgl": [
           {
            "colorbar": {
             "outlinewidth": 0,
             "ticks": ""
            },
            "colorscale": [
             [
              0,
              "#0d0887"
             ],
             [
              0.1111111111111111,
              "#46039f"
             ],
             [
              0.2222222222222222,
              "#7201a8"
             ],
             [
              0.3333333333333333,
              "#9c179e"
             ],
             [
              0.4444444444444444,
              "#bd3786"
             ],
             [
              0.5555555555555556,
              "#d8576b"
             ],
             [
              0.6666666666666666,
              "#ed7953"
             ],
             [
              0.7777777777777778,
              "#fb9f3a"
             ],
             [
              0.8888888888888888,
              "#fdca26"
             ],
             [
              1,
              "#f0f921"
             ]
            ],
            "type": "heatmapgl"
           }
          ],
          "histogram": [
           {
            "marker": {
             "colorbar": {
              "outlinewidth": 0,
              "ticks": ""
             }
            },
            "type": "histogram"
           }
          ],
          "histogram2d": [
           {
            "colorbar": {
             "outlinewidth": 0,
             "ticks": ""
            },
            "colorscale": [
             [
              0,
              "#0d0887"
             ],
             [
              0.1111111111111111,
              "#46039f"
             ],
             [
              0.2222222222222222,
              "#7201a8"
             ],
             [
              0.3333333333333333,
              "#9c179e"
             ],
             [
              0.4444444444444444,
              "#bd3786"
             ],
             [
              0.5555555555555556,
              "#d8576b"
             ],
             [
              0.6666666666666666,
              "#ed7953"
             ],
             [
              0.7777777777777778,
              "#fb9f3a"
             ],
             [
              0.8888888888888888,
              "#fdca26"
             ],
             [
              1,
              "#f0f921"
             ]
            ],
            "type": "histogram2d"
           }
          ],
          "histogram2dcontour": [
           {
            "colorbar": {
             "outlinewidth": 0,
             "ticks": ""
            },
            "colorscale": [
             [
              0,
              "#0d0887"
             ],
             [
              0.1111111111111111,
              "#46039f"
             ],
             [
              0.2222222222222222,
              "#7201a8"
             ],
             [
              0.3333333333333333,
              "#9c179e"
             ],
             [
              0.4444444444444444,
              "#bd3786"
             ],
             [
              0.5555555555555556,
              "#d8576b"
             ],
             [
              0.6666666666666666,
              "#ed7953"
             ],
             [
              0.7777777777777778,
              "#fb9f3a"
             ],
             [
              0.8888888888888888,
              "#fdca26"
             ],
             [
              1,
              "#f0f921"
             ]
            ],
            "type": "histogram2dcontour"
           }
          ],
          "mesh3d": [
           {
            "colorbar": {
             "outlinewidth": 0,
             "ticks": ""
            },
            "type": "mesh3d"
           }
          ],
          "parcoords": [
           {
            "line": {
             "colorbar": {
              "outlinewidth": 0,
              "ticks": ""
             }
            },
            "type": "parcoords"
           }
          ],
          "pie": [
           {
            "automargin": true,
            "type": "pie"
           }
          ],
          "scatter": [
           {
            "marker": {
             "colorbar": {
              "outlinewidth": 0,
              "ticks": ""
             }
            },
            "type": "scatter"
           }
          ],
          "scatter3d": [
           {
            "line": {
             "colorbar": {
              "outlinewidth": 0,
              "ticks": ""
             }
            },
            "marker": {
             "colorbar": {
              "outlinewidth": 0,
              "ticks": ""
             }
            },
            "type": "scatter3d"
           }
          ],
          "scattercarpet": [
           {
            "marker": {
             "colorbar": {
              "outlinewidth": 0,
              "ticks": ""
             }
            },
            "type": "scattercarpet"
           }
          ],
          "scattergeo": [
           {
            "marker": {
             "colorbar": {
              "outlinewidth": 0,
              "ticks": ""
             }
            },
            "type": "scattergeo"
           }
          ],
          "scattergl": [
           {
            "marker": {
             "colorbar": {
              "outlinewidth": 0,
              "ticks": ""
             }
            },
            "type": "scattergl"
           }
          ],
          "scattermapbox": [
           {
            "marker": {
             "colorbar": {
              "outlinewidth": 0,
              "ticks": ""
             }
            },
            "type": "scattermapbox"
           }
          ],
          "scatterpolar": [
           {
            "marker": {
             "colorbar": {
              "outlinewidth": 0,
              "ticks": ""
             }
            },
            "type": "scatterpolar"
           }
          ],
          "scatterpolargl": [
           {
            "marker": {
             "colorbar": {
              "outlinewidth": 0,
              "ticks": ""
             }
            },
            "type": "scatterpolargl"
           }
          ],
          "scatterternary": [
           {
            "marker": {
             "colorbar": {
              "outlinewidth": 0,
              "ticks": ""
             }
            },
            "type": "scatterternary"
           }
          ],
          "surface": [
           {
            "colorbar": {
             "outlinewidth": 0,
             "ticks": ""
            },
            "colorscale": [
             [
              0,
              "#0d0887"
             ],
             [
              0.1111111111111111,
              "#46039f"
             ],
             [
              0.2222222222222222,
              "#7201a8"
             ],
             [
              0.3333333333333333,
              "#9c179e"
             ],
             [
              0.4444444444444444,
              "#bd3786"
             ],
             [
              0.5555555555555556,
              "#d8576b"
             ],
             [
              0.6666666666666666,
              "#ed7953"
             ],
             [
              0.7777777777777778,
              "#fb9f3a"
             ],
             [
              0.8888888888888888,
              "#fdca26"
             ],
             [
              1,
              "#f0f921"
             ]
            ],
            "type": "surface"
           }
          ],
          "table": [
           {
            "cells": {
             "fill": {
              "color": "#EBF0F8"
             },
             "line": {
              "color": "white"
             }
            },
            "header": {
             "fill": {
              "color": "#C8D4E3"
             },
             "line": {
              "color": "white"
             }
            },
            "type": "table"
           }
          ]
         },
         "layout": {
          "annotationdefaults": {
           "arrowcolor": "#2a3f5f",
           "arrowhead": 0,
           "arrowwidth": 1
          },
          "coloraxis": {
           "colorbar": {
            "outlinewidth": 0,
            "ticks": ""
           }
          },
          "colorscale": {
           "diverging": [
            [
             0,
             "#8e0152"
            ],
            [
             0.1,
             "#c51b7d"
            ],
            [
             0.2,
             "#de77ae"
            ],
            [
             0.3,
             "#f1b6da"
            ],
            [
             0.4,
             "#fde0ef"
            ],
            [
             0.5,
             "#f7f7f7"
            ],
            [
             0.6,
             "#e6f5d0"
            ],
            [
             0.7,
             "#b8e186"
            ],
            [
             0.8,
             "#7fbc41"
            ],
            [
             0.9,
             "#4d9221"
            ],
            [
             1,
             "#276419"
            ]
           ],
           "sequential": [
            [
             0,
             "#0d0887"
            ],
            [
             0.1111111111111111,
             "#46039f"
            ],
            [
             0.2222222222222222,
             "#7201a8"
            ],
            [
             0.3333333333333333,
             "#9c179e"
            ],
            [
             0.4444444444444444,
             "#bd3786"
            ],
            [
             0.5555555555555556,
             "#d8576b"
            ],
            [
             0.6666666666666666,
             "#ed7953"
            ],
            [
             0.7777777777777778,
             "#fb9f3a"
            ],
            [
             0.8888888888888888,
             "#fdca26"
            ],
            [
             1,
             "#f0f921"
            ]
           ],
           "sequentialminus": [
            [
             0,
             "#0d0887"
            ],
            [
             0.1111111111111111,
             "#46039f"
            ],
            [
             0.2222222222222222,
             "#7201a8"
            ],
            [
             0.3333333333333333,
             "#9c179e"
            ],
            [
             0.4444444444444444,
             "#bd3786"
            ],
            [
             0.5555555555555556,
             "#d8576b"
            ],
            [
             0.6666666666666666,
             "#ed7953"
            ],
            [
             0.7777777777777778,
             "#fb9f3a"
            ],
            [
             0.8888888888888888,
             "#fdca26"
            ],
            [
             1,
             "#f0f921"
            ]
           ]
          },
          "colorway": [
           "#636efa",
           "#EF553B",
           "#00cc96",
           "#ab63fa",
           "#FFA15A",
           "#19d3f3",
           "#FF6692",
           "#B6E880",
           "#FF97FF",
           "#FECB52"
          ],
          "font": {
           "color": "#2a3f5f"
          },
          "geo": {
           "bgcolor": "white",
           "lakecolor": "white",
           "landcolor": "#E5ECF6",
           "showlakes": true,
           "showland": true,
           "subunitcolor": "white"
          },
          "hoverlabel": {
           "align": "left"
          },
          "hovermode": "closest",
          "mapbox": {
           "style": "light"
          },
          "paper_bgcolor": "white",
          "plot_bgcolor": "#E5ECF6",
          "polar": {
           "angularaxis": {
            "gridcolor": "white",
            "linecolor": "white",
            "ticks": ""
           },
           "bgcolor": "#E5ECF6",
           "radialaxis": {
            "gridcolor": "white",
            "linecolor": "white",
            "ticks": ""
           }
          },
          "scene": {
           "xaxis": {
            "backgroundcolor": "#E5ECF6",
            "gridcolor": "white",
            "gridwidth": 2,
            "linecolor": "white",
            "showbackground": true,
            "ticks": "",
            "zerolinecolor": "white"
           },
           "yaxis": {
            "backgroundcolor": "#E5ECF6",
            "gridcolor": "white",
            "gridwidth": 2,
            "linecolor": "white",
            "showbackground": true,
            "ticks": "",
            "zerolinecolor": "white"
           },
           "zaxis": {
            "backgroundcolor": "#E5ECF6",
            "gridcolor": "white",
            "gridwidth": 2,
            "linecolor": "white",
            "showbackground": true,
            "ticks": "",
            "zerolinecolor": "white"
           }
          },
          "shapedefaults": {
           "line": {
            "color": "#2a3f5f"
           }
          },
          "ternary": {
           "aaxis": {
            "gridcolor": "white",
            "linecolor": "white",
            "ticks": ""
           },
           "baxis": {
            "gridcolor": "white",
            "linecolor": "white",
            "ticks": ""
           },
           "bgcolor": "#E5ECF6",
           "caxis": {
            "gridcolor": "white",
            "linecolor": "white",
            "ticks": ""
           }
          },
          "title": {
           "x": 0.05
          },
          "xaxis": {
           "automargin": true,
           "gridcolor": "white",
           "linecolor": "white",
           "ticks": "",
           "title": {
            "standoff": 15
           },
           "zerolinecolor": "white",
           "zerolinewidth": 2
          },
          "yaxis": {
           "automargin": true,
           "gridcolor": "white",
           "linecolor": "white",
           "ticks": "",
           "title": {
            "standoff": 15
           },
           "zerolinecolor": "white",
           "zerolinewidth": 2
          }
         }
        },
        "title": {
         "x": 0.5,
         "xanchor": "center",
         "y": 0.9,
         "yanchor": "top"
        },
        "xaxis": {
         "tickangle": 45,
         "ticktext": [
          20190624,
          20190711,
          20190729,
          20190814,
          20190830,
          20190918,
          20191004,
          20191022,
          20191107,
          20191125,
          20191212,
          20191231,
          20200117,
          20200205,
          20200224,
          20200311
         ],
         "tickvals": [
          20190624,
          20190711,
          20190729,
          20190814,
          20190830,
          20190918,
          20191004,
          20191022,
          20191107,
          20191125,
          20191212,
          20191231,
          20200117,
          20200205,
          20200224,
          20200311
         ],
         "type": "category"
        },
        "yaxis": {
         "title": {
          "text": "y main"
         }
        },
        "yaxis2": {
         "overlaying": "y",
         "side": "right",
         "title": {
          "text": "y alt"
         }
        }
       }
      },
      "text/html": [
       "<div>\n",
       "        \n",
       "        \n",
       "            <div id=\"a4b25540-483e-4fde-8a36-53b4092f5d22\" class=\"plotly-graph-div\" style=\"height:525px; width:100%;\"></div>\n",
       "            <script type=\"text/javascript\">\n",
       "                require([\"plotly\"], function(Plotly) {\n",
       "                    window.PLOTLYENV=window.PLOTLYENV || {};\n",
       "                    \n",
       "                if (document.getElementById(\"a4b25540-483e-4fde-8a36-53b4092f5d22\")) {\n",
       "                    Plotly.newPlot(\n",
       "                        'a4b25540-483e-4fde-8a36-53b4092f5d22',\n",
       "                        [{\"name\": \"close_y\", \"type\": \"scatter\", \"x\": [20190624, 20190625, 20190626, 20190627, 20190628, 20190701, 20190702, 20190703, 20190705, 20190708, 20190709, 20190710, 20190711, 20190712, 20190715, 20190716, 20190717, 20190718, 20190719, 20190722, 20190723, 20190724, 20190725, 20190726, 20190729, 20190730, 20190731, 20190801, 20190802, 20190805, 20190806, 20190807, 20190808, 20190809, 20190812, 20190813, 20190814, 20190815, 20190816, 20190819, 20190820, 20190821, 20190822, 20190823, 20190826, 20190827, 20190828, 20190829, 20190830, 20190903, 20190904, 20190905, 20190906, 20190909, 20190910, 20190911, 20190912, 20190913, 20190916, 20190917, 20190918, 20190919, 20190920, 20190923, 20190924, 20190925, 20190926, 20190927, 20190930, 20191001, 20191002, 20191003, 20191004, 20191007, 20191008, 20191009, 20191010, 20191011, 20191014, 20191015, 20191016, 20191017, 20191018, 20191021, 20191022, 20191023, 20191024, 20191025, 20191028, 20191029, 20191030, 20191031, 20191101, 20191104, 20191105, 20191106, 20191107, 20191108, 20191111, 20191112, 20191113, 20191114, 20191115, 20191118, 20191119, 20191120, 20191121, 20191122, 20191125, 20191126, 20191127, 20191129, 20191202, 20191203, 20191204, 20191205, 20191206, 20191209, 20191210, 20191211, 20191212, 20191213, 20191216, 20191217, 20191218, 20191219, 20191220, 20191223, 20191224, 20191226, 20191227, 20191230, 20191231, 20200102, 20200103, 20200106, 20200107, 20200108, 20200109, 20200110, 20200113, 20200114, 20200115, 20200116, 20200117, 20200121, 20200122, 20200123, 20200124, 20200127, 20200128, 20200129, 20200130, 20200131, 20200203, 20200204, 20200205, 20200206, 20200207, 20200210, 20200211, 20200212, 20200213, 20200214, 20200218, 20200219, 20200220, 20200221, 20200224, 20200225, 20200226, 20200227, 20200228, 20200302, 20200303, 20200304, 20200305, 20200306, 20200309, 20200310, 20200311, 20200312, 20200313], \"y\": [2958.0, 2924.75, 2921.0, 2935.0, 2947.75, 2970.0, 2982.5, 3003.75, 2993.0, 2982.0, 2984.75, 3002.75, 3010.25, 3022.5, 3023.75, 3014.5, 2992.0, 3003.75, 2983.0, 2995.0, 3014.0, 3027.75, 3012.5, 3030.5, 3028.0, 3018.5, 2990.0, 2959.0, 2939.5, 2835.5, 2880.25, 2883.5, 2943.5, 2923.75, 2883.75, 2935.0, 2843.5, 2850.0, 2892.0, 2925.0, 2898.0, 2929.5, 2923.5, 2856.0, 2882.5, 2868.0, 2890.75, 2928.25, 2927.5, 2906.75, 2939.5, 2972.5, 2981.0, 2978.25, 2980.5, 3002.25, 3014.25, 3011.0, 3004.0, 3006.5, 3007.75, 3008.0, 2990.5, 2996.5, 2968.0, 2988.25, 2982.25, 2965.5, 2980.0, 2938.25, 2879.75, 2910.0, 2949.75, 2936.5, 2891.0, 2917.25, 2940.0, 2971.25, 2966.0, 2998.5, 2992.0, 2998.75, 2988.75, 3007.25, 2995.0, 3006.5, 3005.25, 3021.75, 3038.25, 3037.25, 3049.75, 3036.75, 3065.0, 3077.75, 3074.0, 3078.0, 3087.5, 3092.0, 3089.25, 3093.25, 3098.0, 3098.5, 3119.0, 3123.5, 3120.25, 3110.5, 3105.25, 3113.25, 3134.25, 3145.75, 3155.5, 3144.75, 3115.75, 3092.0, 3112.0, 3118.5, 3147.25, 3136.5, 3138.0, 3145.5, 3170.75, 3174.75, 3198.25, 3195.25, 3199.0, 3211.75, 3226.0, 3227.5, 3225.75, 3244.5, 3237.75, 3223.5, 3231.0, 3259.0, 3235.25, 3243.5, 3235.25, 3260.5, 3276.25, 3265.0, 3290.0, 3288.25, 3294.25, 3317.0, 3325.5, 3320.0, 3320.5, 3326.5, 3294.0, 3239.75, 3278.5, 3272.75, 3290.0, 3223.5, 3245.5, 3299.75, 3335.25, 3345.5, 3325.5, 3353.0, 3357.75, 3381.0, 3378.0, 3381.5, 3369.75, 3388.0, 3369.75, 3339.5, 3225.5, 3131.25, 3108.5, 2953.75, 2945.5, 3059.5, 2989.5, 3107.0, 3006.5, 2953.75, 2735.25, 2854.25, 2729.0, 2456.0, 2684.0], \"yaxis\": \"y\"}, {\"name\": \"atm_iv\", \"type\": \"scatter\", \"x\": [20190624, 20190625, 20190626, 20190627, 20190628, 20190701, 20190702, 20190703, 20190705, 20190708, 20190709, 20190710, 20190711, 20190712, 20190715, 20190716, 20190717, 20190718, 20190719, 20190722, 20190723, 20190724, 20190725, 20190726, 20190729, 20190730, 20190731, 20190801, 20190802, 20190805, 20190806, 20190807, 20190808, 20190809, 20190812, 20190813, 20190814, 20190815, 20190816, 20190819, 20190820, 20190821, 20190822, 20190823, 20190826, 20190827, 20190828, 20190829, 20190830, 20190903, 20190904, 20190905, 20190906, 20190909, 20190910, 20190911, 20190912, 20190913, 20190916, 20190917, 20190918, 20190919, 20190920, 20190923, 20190924, 20190925, 20190926, 20190927, 20190930, 20191001, 20191002, 20191003, 20191004, 20191007, 20191008, 20191009, 20191010, 20191011, 20191014, 20191015, 20191016, 20191017, 20191018, 20191021, 20191022, 20191023, 20191024, 20191025, 20191028, 20191029, 20191030, 20191031, 20191101, 20191104, 20191105, 20191106, 20191107, 20191108, 20191111, 20191112, 20191113, 20191114, 20191115, 20191118, 20191119, 20191120, 20191121, 20191122, 20191125, 20191126, 20191127, 20191129, 20191202, 20191203, 20191204, 20191205, 20191206, 20191209, 20191210, 20191211, 20191212, 20191213, 20191216, 20191217, 20191218, 20191219, 20191220, 20191223, 20191224, 20191226, 20191227, 20191230, 20191231, 20200102, 20200103, 20200106, 20200107, 20200108, 20200109, 20200110, 20200113, 20200114, 20200115, 20200116, 20200117, 20200121, 20200122, 20200123, 20200124, 20200127, 20200128, 20200129, 20200130, 20200131, 20200203, 20200204, 20200205, 20200206, 20200207, 20200210, 20200211, 20200212, 20200213, 20200214, 20200218, 20200219, 20200220, 20200221, 20200224, 20200225, 20200226, 20200227, 20200228, 20200302, 20200303, 20200304, 20200305, 20200306, 20200309, 20200310, 20200311, 20200312, 20200313], \"y\": [0.14955339406490104, 0.1540806094988348, 0.15426033647185644, 0.1516134566078387, 0.14996106702963208, 0.1446821213957898, 0.14138671045585494, 0.13945814328595815, 0.14028734016786457, 0.14338089779303484, 0.14384801727914454, 0.14143332519132956, 0.14062444181790482, 0.14050480835522797, 0.14213270666564476, 0.1427468523087175, 0.14744622228897802, 0.14599032487766478, 0.14949750726996133, 0.14673307102042504, 0.14352189204553234, 0.14155447881191205, 0.14380973826115823, 0.1410046503004598, 0.14207185710752554, 0.14493872680786551, 0.14584326850410445, 0.15683212288584614, 0.15562224689591403, 0.17742663974235717, 0.16760527630492955, 0.1664967524079776, 0.15682466917831123, 0.15998115728979181, 0.1703414939413106, 0.1603476910862119, 0.1786468231637241, 0.17811578406744993, 0.1713101311280942, 0.16453686205583054, 0.16901800347816573, 0.16264631699114793, 0.16555653571608386, 0.1802318488285255, 0.17634398050007555, 0.18114154198227378, 0.17615782681769562, 0.16965801431163116, 0.1722163617278581, 0.17760523552934804, 0.17020647521485954, 0.1649373370080927, 0.16121503240423293, 0.16183944468793515, 0.16162314049007348, 0.15960660654224182, 0.15671844434837853, 0.15712359527167735, 0.1605302288841207, 0.16204638395148588, 0.16097156521533393, 0.1603362195552718, 0.16540145900778408, 0.16371096452058934, 0.16988060092629673, 0.16593783319998562, 0.16673322557251039, 0.1706824232831199, 0.1667919373605232, 0.1751757303589674, 0.18602962829425898, 0.18062436592682882, 0.17067364723509282, 0.17244939763887837, 0.18308467128207953, 0.17731072868057368, 0.17221059423719698, 0.164074365444672, 0.16199357262193478, 0.15631634830990426, 0.1568188001263006, 0.15573134880654138, 0.1584098430734213, 0.15473501788415397, 0.1568172052030028, 0.15488735997344183, 0.1552854849719686, 0.1514823963037493, 0.1508767084829261, 0.1519711347551828, 0.14950955680838798, 0.15264233222697637, 0.14946060966824404, 0.1491722860237459, 0.1511550999270584, 0.1513630893733546, 0.15112995985390498, 0.15111664512131828, 0.15122685598472163, 0.15058891328165672, 0.15022445435594628, 0.1504666818072163, 0.14638639885747992, 0.1458433198805265, 0.14765350841816302, 0.1499683017127572, 0.15292127676958517, 0.14996208512236975, 0.1453853384546991, 0.14349809123689997, 0.14361017419446478, 0.1474305801863749, 0.15546430528774913, 0.16195887874938064, 0.1566695670904707, 0.1551116579956151, 0.1497572089851851, 0.15460573081410736, 0.15416084737041738, 0.15188991131905707, 0.1455769732874302, 0.14074229290110565, 0.13660332460026495, 0.1381124877761044, 0.13844033409629572, 0.13706989869959035, 0.1370880500738014, 0.13795819927035724, 0.13841060845344497, 0.1372730029690338, 0.14046321003802342, 0.14560764047790534, 0.14059772741127052, 0.1345331323534725, 0.1415918485059567, 0.1403398597355029, 0.13995497026026243, 0.13433280429060532, 0.13123281862760605, 0.1317410194104636, 0.12852686407855396, 0.12825330687173836, 0.1277465395367002, 0.12585355526144465, 0.1260575204601136, 0.12887700555745749, 0.13007985290437188, 0.12979134837368936, 0.13747177783086187, 0.15235192016777413, 0.14311661735531897, 0.14259007743167246, 0.13778242979473562, 0.15304102450467608, 0.14884337177591495, 0.13689604240809877, 0.13189465235534636, 0.12961050309929797, 0.13517561616402937, 0.13230019133902968, 0.13269171638644772, 0.127185861704659, 0.1296079294791106, 0.12746427438518534, 0.1317017816648899, 0.1290963801307782, 0.1344259279679912, 0.14402544509573184, 0.17931651568620982, 0.19959291480616226, 0.20030675938071796, 0.25686359276471515, 0.2753203287966073, 0.23931430870043308, 0.2604222967631299, 0.23236902563351683, 0.2837988775251446, 0.31567529460198573, 0.3978823376715245, 0.36332217850155624, 0.4098479186710323, 0.5368778918061191, 0.4394178491161997], \"yaxis\": \"y2\"}],\n",
       "                        {\"margin\": {\"b\": 100}, \"template\": {\"data\": {\"bar\": [{\"error_x\": {\"color\": \"#2a3f5f\"}, \"error_y\": {\"color\": \"#2a3f5f\"}, \"marker\": {\"line\": {\"color\": \"#E5ECF6\", \"width\": 0.5}}, \"type\": \"bar\"}], \"barpolar\": [{\"marker\": {\"line\": {\"color\": \"#E5ECF6\", \"width\": 0.5}}, \"type\": \"barpolar\"}], \"carpet\": [{\"aaxis\": {\"endlinecolor\": \"#2a3f5f\", \"gridcolor\": \"white\", \"linecolor\": \"white\", \"minorgridcolor\": \"white\", \"startlinecolor\": \"#2a3f5f\"}, \"baxis\": {\"endlinecolor\": \"#2a3f5f\", \"gridcolor\": \"white\", \"linecolor\": \"white\", \"minorgridcolor\": \"white\", \"startlinecolor\": \"#2a3f5f\"}, \"type\": \"carpet\"}], \"choropleth\": [{\"colorbar\": {\"outlinewidth\": 0, \"ticks\": \"\"}, \"type\": \"choropleth\"}], \"contour\": [{\"colorbar\": {\"outlinewidth\": 0, \"ticks\": \"\"}, \"colorscale\": [[0.0, \"#0d0887\"], [0.1111111111111111, \"#46039f\"], [0.2222222222222222, \"#7201a8\"], [0.3333333333333333, \"#9c179e\"], [0.4444444444444444, \"#bd3786\"], [0.5555555555555556, \"#d8576b\"], [0.6666666666666666, \"#ed7953\"], [0.7777777777777778, \"#fb9f3a\"], [0.8888888888888888, \"#fdca26\"], [1.0, \"#f0f921\"]], \"type\": \"contour\"}], \"contourcarpet\": [{\"colorbar\": {\"outlinewidth\": 0, \"ticks\": \"\"}, \"type\": \"contourcarpet\"}], \"heatmap\": [{\"colorbar\": {\"outlinewidth\": 0, \"ticks\": \"\"}, \"colorscale\": [[0.0, \"#0d0887\"], [0.1111111111111111, \"#46039f\"], [0.2222222222222222, \"#7201a8\"], [0.3333333333333333, \"#9c179e\"], [0.4444444444444444, \"#bd3786\"], [0.5555555555555556, \"#d8576b\"], [0.6666666666666666, \"#ed7953\"], [0.7777777777777778, \"#fb9f3a\"], [0.8888888888888888, \"#fdca26\"], [1.0, \"#f0f921\"]], \"type\": \"heatmap\"}], \"heatmapgl\": [{\"colorbar\": {\"outlinewidth\": 0, \"ticks\": \"\"}, \"colorscale\": [[0.0, \"#0d0887\"], [0.1111111111111111, \"#46039f\"], [0.2222222222222222, \"#7201a8\"], [0.3333333333333333, \"#9c179e\"], [0.4444444444444444, \"#bd3786\"], [0.5555555555555556, \"#d8576b\"], [0.6666666666666666, \"#ed7953\"], [0.7777777777777778, \"#fb9f3a\"], [0.8888888888888888, \"#fdca26\"], [1.0, \"#f0f921\"]], \"type\": \"heatmapgl\"}], \"histogram\": [{\"marker\": {\"colorbar\": {\"outlinewidth\": 0, \"ticks\": \"\"}}, \"type\": \"histogram\"}], \"histogram2d\": [{\"colorbar\": {\"outlinewidth\": 0, \"ticks\": \"\"}, \"colorscale\": [[0.0, \"#0d0887\"], [0.1111111111111111, \"#46039f\"], [0.2222222222222222, \"#7201a8\"], [0.3333333333333333, \"#9c179e\"], [0.4444444444444444, \"#bd3786\"], [0.5555555555555556, \"#d8576b\"], [0.6666666666666666, \"#ed7953\"], [0.7777777777777778, \"#fb9f3a\"], [0.8888888888888888, \"#fdca26\"], [1.0, \"#f0f921\"]], \"type\": \"histogram2d\"}], \"histogram2dcontour\": [{\"colorbar\": {\"outlinewidth\": 0, \"ticks\": \"\"}, \"colorscale\": [[0.0, \"#0d0887\"], [0.1111111111111111, \"#46039f\"], [0.2222222222222222, \"#7201a8\"], [0.3333333333333333, \"#9c179e\"], [0.4444444444444444, \"#bd3786\"], [0.5555555555555556, \"#d8576b\"], [0.6666666666666666, \"#ed7953\"], [0.7777777777777778, \"#fb9f3a\"], [0.8888888888888888, \"#fdca26\"], [1.0, \"#f0f921\"]], \"type\": \"histogram2dcontour\"}], \"mesh3d\": [{\"colorbar\": {\"outlinewidth\": 0, \"ticks\": \"\"}, \"type\": \"mesh3d\"}], \"parcoords\": [{\"line\": {\"colorbar\": {\"outlinewidth\": 0, \"ticks\": \"\"}}, \"type\": \"parcoords\"}], \"pie\": [{\"automargin\": true, \"type\": \"pie\"}], \"scatter\": [{\"marker\": {\"colorbar\": {\"outlinewidth\": 0, \"ticks\": \"\"}}, \"type\": \"scatter\"}], \"scatter3d\": [{\"line\": {\"colorbar\": {\"outlinewidth\": 0, \"ticks\": \"\"}}, \"marker\": {\"colorbar\": {\"outlinewidth\": 0, \"ticks\": \"\"}}, \"type\": \"scatter3d\"}], \"scattercarpet\": [{\"marker\": {\"colorbar\": {\"outlinewidth\": 0, \"ticks\": \"\"}}, \"type\": \"scattercarpet\"}], \"scattergeo\": [{\"marker\": {\"colorbar\": {\"outlinewidth\": 0, \"ticks\": \"\"}}, \"type\": \"scattergeo\"}], \"scattergl\": [{\"marker\": {\"colorbar\": {\"outlinewidth\": 0, \"ticks\": \"\"}}, \"type\": \"scattergl\"}], \"scattermapbox\": [{\"marker\": {\"colorbar\": {\"outlinewidth\": 0, \"ticks\": \"\"}}, \"type\": \"scattermapbox\"}], \"scatterpolar\": [{\"marker\": {\"colorbar\": {\"outlinewidth\": 0, \"ticks\": \"\"}}, \"type\": \"scatterpolar\"}], \"scatterpolargl\": [{\"marker\": {\"colorbar\": {\"outlinewidth\": 0, \"ticks\": \"\"}}, \"type\": \"scatterpolargl\"}], \"scatterternary\": [{\"marker\": {\"colorbar\": {\"outlinewidth\": 0, \"ticks\": \"\"}}, \"type\": \"scatterternary\"}], \"surface\": [{\"colorbar\": {\"outlinewidth\": 0, \"ticks\": \"\"}, \"colorscale\": [[0.0, \"#0d0887\"], [0.1111111111111111, \"#46039f\"], [0.2222222222222222, \"#7201a8\"], [0.3333333333333333, \"#9c179e\"], [0.4444444444444444, \"#bd3786\"], [0.5555555555555556, \"#d8576b\"], [0.6666666666666666, \"#ed7953\"], [0.7777777777777778, \"#fb9f3a\"], [0.8888888888888888, \"#fdca26\"], [1.0, \"#f0f921\"]], \"type\": \"surface\"}], \"table\": [{\"cells\": {\"fill\": {\"color\": \"#EBF0F8\"}, \"line\": {\"color\": \"white\"}}, \"header\": {\"fill\": {\"color\": \"#C8D4E3\"}, \"line\": {\"color\": \"white\"}}, \"type\": \"table\"}]}, \"layout\": {\"annotationdefaults\": {\"arrowcolor\": \"#2a3f5f\", \"arrowhead\": 0, \"arrowwidth\": 1}, \"coloraxis\": {\"colorbar\": {\"outlinewidth\": 0, \"ticks\": \"\"}}, \"colorscale\": {\"diverging\": [[0, \"#8e0152\"], [0.1, \"#c51b7d\"], [0.2, \"#de77ae\"], [0.3, \"#f1b6da\"], [0.4, \"#fde0ef\"], [0.5, \"#f7f7f7\"], [0.6, \"#e6f5d0\"], [0.7, \"#b8e186\"], [0.8, \"#7fbc41\"], [0.9, \"#4d9221\"], [1, \"#276419\"]], \"sequential\": [[0.0, \"#0d0887\"], [0.1111111111111111, \"#46039f\"], [0.2222222222222222, \"#7201a8\"], [0.3333333333333333, \"#9c179e\"], [0.4444444444444444, \"#bd3786\"], [0.5555555555555556, \"#d8576b\"], [0.6666666666666666, \"#ed7953\"], [0.7777777777777778, \"#fb9f3a\"], [0.8888888888888888, \"#fdca26\"], [1.0, \"#f0f921\"]], \"sequentialminus\": [[0.0, \"#0d0887\"], [0.1111111111111111, \"#46039f\"], [0.2222222222222222, \"#7201a8\"], [0.3333333333333333, \"#9c179e\"], [0.4444444444444444, \"#bd3786\"], [0.5555555555555556, \"#d8576b\"], [0.6666666666666666, \"#ed7953\"], [0.7777777777777778, \"#fb9f3a\"], [0.8888888888888888, \"#fdca26\"], [1.0, \"#f0f921\"]]}, \"colorway\": [\"#636efa\", \"#EF553B\", \"#00cc96\", \"#ab63fa\", \"#FFA15A\", \"#19d3f3\", \"#FF6692\", \"#B6E880\", \"#FF97FF\", \"#FECB52\"], \"font\": {\"color\": \"#2a3f5f\"}, \"geo\": {\"bgcolor\": \"white\", \"lakecolor\": \"white\", \"landcolor\": \"#E5ECF6\", \"showlakes\": true, \"showland\": true, \"subunitcolor\": \"white\"}, \"hoverlabel\": {\"align\": \"left\"}, \"hovermode\": \"closest\", \"mapbox\": {\"style\": \"light\"}, \"paper_bgcolor\": \"white\", \"plot_bgcolor\": \"#E5ECF6\", \"polar\": {\"angularaxis\": {\"gridcolor\": \"white\", \"linecolor\": \"white\", \"ticks\": \"\"}, \"bgcolor\": \"#E5ECF6\", \"radialaxis\": {\"gridcolor\": \"white\", \"linecolor\": \"white\", \"ticks\": \"\"}}, \"scene\": {\"xaxis\": {\"backgroundcolor\": \"#E5ECF6\", \"gridcolor\": \"white\", \"gridwidth\": 2, \"linecolor\": \"white\", \"showbackground\": true, \"ticks\": \"\", \"zerolinecolor\": \"white\"}, \"yaxis\": {\"backgroundcolor\": \"#E5ECF6\", \"gridcolor\": \"white\", \"gridwidth\": 2, \"linecolor\": \"white\", \"showbackground\": true, \"ticks\": \"\", \"zerolinecolor\": \"white\"}, \"zaxis\": {\"backgroundcolor\": \"#E5ECF6\", \"gridcolor\": \"white\", \"gridwidth\": 2, \"linecolor\": \"white\", \"showbackground\": true, \"ticks\": \"\", \"zerolinecolor\": \"white\"}}, \"shapedefaults\": {\"line\": {\"color\": \"#2a3f5f\"}}, \"ternary\": {\"aaxis\": {\"gridcolor\": \"white\", \"linecolor\": \"white\", \"ticks\": \"\"}, \"baxis\": {\"gridcolor\": \"white\", \"linecolor\": \"white\", \"ticks\": \"\"}, \"bgcolor\": \"#E5ECF6\", \"caxis\": {\"gridcolor\": \"white\", \"linecolor\": \"white\", \"ticks\": \"\"}}, \"title\": {\"x\": 0.05}, \"xaxis\": {\"automargin\": true, \"gridcolor\": \"white\", \"linecolor\": \"white\", \"ticks\": \"\", \"title\": {\"standoff\": 15}, \"zerolinecolor\": \"white\", \"zerolinewidth\": 2}, \"yaxis\": {\"automargin\": true, \"gridcolor\": \"white\", \"linecolor\": \"white\", \"ticks\": \"\", \"title\": {\"standoff\": 15}, \"zerolinecolor\": \"white\", \"zerolinewidth\": 2}}}, \"title\": {\"x\": 0.5, \"xanchor\": \"center\", \"y\": 0.9, \"yanchor\": \"top\"}, \"xaxis\": {\"tickangle\": 45, \"ticktext\": [20190624, 20190711, 20190729, 20190814, 20190830, 20190918, 20191004, 20191022, 20191107, 20191125, 20191212, 20191231, 20200117, 20200205, 20200224, 20200311], \"tickvals\": [20190624, 20190711, 20190729, 20190814, 20190830, 20190918, 20191004, 20191022, 20191107, 20191125, 20191212, 20191231, 20200117, 20200205, 20200224, 20200311], \"type\": \"category\"}, \"yaxis\": {\"title\": {\"text\": \"y main\"}}, \"yaxis2\": {\"overlaying\": \"y\", \"side\": \"right\", \"title\": {\"text\": \"y alt\"}}},\n",
       "                        {\"responsive\": true}\n",
       "                    ).then(function(){\n",
       "                            \n",
       "var gd = document.getElementById('a4b25540-483e-4fde-8a36-53b4092f5d22');\n",
       "var x = new MutationObserver(function (mutations, observer) {{\n",
       "        var display = window.getComputedStyle(gd).display;\n",
       "        if (!display || display === 'none') {{\n",
       "            console.log([gd, 'removed!']);\n",
       "            Plotly.purge(gd);\n",
       "            observer.disconnect();\n",
       "        }}\n",
       "}});\n",
       "\n",
       "// Listen for the removal of the full notebook cells\n",
       "var notebookContainer = gd.closest('#notebook-container');\n",
       "if (notebookContainer) {{\n",
       "    x.observe(notebookContainer, {childList: true});\n",
       "}}\n",
       "\n",
       "// Listen for the clearing of the current output cell\n",
       "var outputEl = gd.closest('.output');\n",
       "if (outputEl) {{\n",
       "    x.observe(outputEl, {childList: true});\n",
       "}}\n",
       "\n",
       "                        })\n",
       "                };\n",
       "                });\n",
       "            </script>\n",
       "        </div>"
      ]
     },
     "metadata": {},
     "output_type": "display_data"
    },
    {
     "name": "stdout",
     "output_type": "stream",
     "text": [
      "graphing symbol: ESU20\n"
     ]
    },
    {
     "data": {
      "application/vnd.plotly.v1+json": {
       "config": {
        "linkText": "Export to plot.ly",
        "plotlyServerURL": "https://plot.ly",
        "showLink": false
       },
       "data": [
        {
         "name": "close_y",
         "type": "scatter",
         "x": [
          20190923,
          20190924,
          20190925,
          20190926,
          20190927,
          20190930,
          20191001,
          20191002,
          20191003,
          20191004,
          20191007,
          20191008,
          20191009,
          20191010,
          20191011,
          20191014,
          20191015,
          20191016,
          20191017,
          20191018,
          20191021,
          20191022,
          20191023,
          20191024,
          20191025,
          20191028,
          20191029,
          20191030,
          20191031,
          20191101,
          20191104,
          20191105,
          20191106,
          20191107,
          20191108,
          20191111,
          20191112,
          20191113,
          20191114,
          20191115,
          20191118,
          20191119,
          20191120,
          20191121,
          20191122,
          20191125,
          20191126,
          20191127,
          20191129,
          20191202,
          20191203,
          20191204,
          20191205,
          20191206,
          20191209,
          20191210,
          20191211,
          20191212,
          20191213,
          20191216,
          20191217,
          20191218,
          20191219,
          20191220,
          20191223,
          20191224,
          20191226,
          20191227,
          20191230,
          20191231,
          20200102,
          20200103,
          20200106,
          20200107,
          20200108,
          20200109,
          20200110,
          20200113,
          20200114,
          20200115,
          20200116,
          20200117,
          20200121,
          20200122,
          20200123,
          20200124,
          20200127,
          20200128,
          20200129,
          20200130,
          20200131,
          20200203,
          20200204,
          20200205,
          20200206,
          20200207,
          20200210,
          20200211,
          20200212,
          20200213,
          20200214,
          20200218,
          20200219,
          20200220,
          20200221,
          20200224,
          20200225,
          20200226,
          20200227,
          20200228,
          20200302,
          20200303,
          20200304,
          20200305,
          20200306,
          20200309,
          20200310,
          20200311,
          20200312,
          20200313
         ],
         "y": [
          2996.75,
          2968.25,
          2986,
          2979.75,
          2963.25,
          2979.75,
          2939,
          2881.5,
          2907.25,
          2948.25,
          2935.25,
          2889,
          2916.75,
          2938.75,
          2971.5,
          2966.25,
          2999,
          2991,
          2999,
          2989.5,
          3008,
          2995,
          3007,
          3005.5,
          3021.75,
          3037.75,
          3037,
          3048.75,
          3036.75,
          3064,
          3077,
          3073.25,
          3077,
          3087.5,
          3092.5,
          3089.5,
          3093.5,
          3097.75,
          3098.5,
          3119.5,
          3124,
          3120.5,
          3109.75,
          3104.25,
          3113.25,
          3134.5,
          3145.5,
          3155,
          3145,
          3114.5,
          3092.25,
          3112,
          3117.25,
          3147.25,
          3135.25,
          3136.5,
          3144,
          3170,
          3173.5,
          3197,
          3193,
          3195,
          3208.75,
          3224.5,
          3226,
          3225.5,
          3243.75,
          3237.25,
          3223,
          3231,
          3258.75,
          3234.75,
          3243.25,
          3235.25,
          3261,
          3276.5,
          3265.25,
          3290.25,
          3288.5,
          3294,
          3317,
          3326,
          3320.25,
          3320.75,
          3326.5,
          3294.5,
          3239.5,
          3278.5,
          3272.5,
          3289.25,
          3224,
          3244.75,
          3299.25,
          3335.5,
          3345.5,
          3326,
          3352.5,
          3357.5,
          3381,
          3378,
          3381.25,
          3369.5,
          3387.5,
          3369.25,
          3338.5,
          3223,
          3128.5,
          3105.25,
          2949.75,
          2938.75,
          3054,
          2981.5,
          3098.5,
          2997.25,
          2943.5,
          2723.25,
          2843.25,
          2717.5,
          2445,
          2672.5
         ],
         "yaxis": "y"
        },
        {
         "name": "atm_iv",
         "type": "scatter",
         "x": [
          20190923,
          20190924,
          20190925,
          20190926,
          20190927,
          20190930,
          20191001,
          20191002,
          20191003,
          20191004,
          20191007,
          20191008,
          20191009,
          20191010,
          20191011,
          20191014,
          20191015,
          20191016,
          20191017,
          20191018,
          20191021,
          20191022,
          20191023,
          20191024,
          20191025,
          20191028,
          20191029,
          20191030,
          20191031,
          20191101,
          20191104,
          20191105,
          20191106,
          20191107,
          20191108,
          20191111,
          20191112,
          20191113,
          20191114,
          20191115,
          20191118,
          20191119,
          20191120,
          20191121,
          20191122,
          20191125,
          20191126,
          20191127,
          20191129,
          20191202,
          20191203,
          20191204,
          20191205,
          20191206,
          20191209,
          20191210,
          20191211,
          20191212,
          20191213,
          20191216,
          20191217,
          20191218,
          20191219,
          20191220,
          20191223,
          20191224,
          20191226,
          20191227,
          20191230,
          20191231,
          20200102,
          20200103,
          20200106,
          20200107,
          20200108,
          20200109,
          20200110,
          20200113,
          20200114,
          20200115,
          20200116,
          20200117,
          20200121,
          20200122,
          20200123,
          20200124,
          20200127,
          20200128,
          20200129,
          20200130,
          20200131,
          20200203,
          20200204,
          20200205,
          20200206,
          20200207,
          20200210,
          20200211,
          20200212,
          20200213,
          20200214,
          20200218,
          20200219,
          20200220,
          20200221,
          20200224,
          20200225,
          20200226,
          20200227,
          20200228,
          20200302,
          20200303,
          20200304,
          20200305,
          20200306,
          20200309,
          20200310,
          20200311,
          20200312,
          20200313
         ],
         "y": [
          0.1683367023943081,
          0.1733136565110962,
          0.17020789865050232,
          0.17091489438578378,
          0.1740387019891235,
          0.17008520677675437,
          0.17635874132581464,
          0.18616183321045238,
          0.1825306862795935,
          0.17376301626817883,
          0.17519490971916676,
          0.1847835463918106,
          0.17908663767742516,
          0.1749826057892675,
          0.16766030395620019,
          0.1660696055966064,
          0.16063566135677584,
          0.16195171977778142,
          0.1608694079295179,
          0.1637282698451613,
          0.1603595894640372,
          0.16248838977396554,
          0.16142715966732238,
          0.16133817178057522,
          0.15789726253770792,
          0.1575306062600422,
          0.1582886885700154,
          0.15606324208447092,
          0.1585199002254614,
          0.15603560656326287,
          0.15580069062406932,
          0.15756471790628995,
          0.15793536396692265,
          0.15793662287038251,
          0.1576037884487311,
          0.15770212050597973,
          0.15690184185854988,
          0.15678492486973802,
          0.15679825864404634,
          0.15354030538772312,
          0.15312946034515545,
          0.1545426791818497,
          0.1566214429612129,
          0.15941587470710974,
          0.15728082561364062,
          0.15301258122598432,
          0.15087003522944412,
          0.15097791741694225,
          0.15392255449763323,
          0.16114239216163467,
          0.16541640239370278,
          0.16162558064431237,
          0.16074499636517728,
          0.15635056145167606,
          0.1599014108977214,
          0.1600111564049965,
          0.15830528374279745,
          0.15253245429414175,
          0.1489131577483095,
          0.1457431961897543,
          0.14665127217640642,
          0.14706254351684903,
          0.14527911663788157,
          0.14569014721257229,
          0.14611586431039061,
          0.1460100987363208,
          0.14491008893355767,
          0.14753742848607618,
          0.1515584134122548,
          0.14788069200948184,
          0.14251230976163673,
          0.14854540062533078,
          0.1468249476926313,
          0.14654503375390515,
          0.1426413778933142,
          0.13967565204703092,
          0.14042207904962575,
          0.13701978875645826,
          0.13670277362624159,
          0.13627587892020301,
          0.13477601784976495,
          0.13466874041431195,
          0.13656145740452258,
          0.13807926667409687,
          0.13766380319903368,
          0.14367553748128492,
          0.15472716656719857,
          0.14751044003579275,
          0.1473475642508092,
          0.1430928884733961,
          0.15468888984228962,
          0.15180386239770752,
          0.14221632418581087,
          0.13785410390520966,
          0.13681264523218595,
          0.14120053118946027,
          0.1385467764915537,
          0.13896139458124884,
          0.13505574021319292,
          0.13687516323626092,
          0.13554241233345568,
          0.13848247946675332,
          0.13695782422751301,
          0.14107026306139164,
          0.14837732543139737,
          0.17387654390519877,
          0.1905726950258602,
          0.19104622917248157,
          0.23092257667541607,
          0.2397760163410631,
          0.2162611869726703,
          0.23363386530515057,
          0.21611588346857408,
          0.25377564268873737,
          0.2812006549020711,
          0.3416645244084613,
          0.31335945610133575,
          0.35124620908645926,
          0.4445690560479844,
          0.3640435246668422
         ],
         "yaxis": "y2"
        }
       ],
       "layout": {
        "margin": {
         "b": 100
        },
        "template": {
         "data": {
          "bar": [
           {
            "error_x": {
             "color": "#2a3f5f"
            },
            "error_y": {
             "color": "#2a3f5f"
            },
            "marker": {
             "line": {
              "color": "#E5ECF6",
              "width": 0.5
             }
            },
            "type": "bar"
           }
          ],
          "barpolar": [
           {
            "marker": {
             "line": {
              "color": "#E5ECF6",
              "width": 0.5
             }
            },
            "type": "barpolar"
           }
          ],
          "carpet": [
           {
            "aaxis": {
             "endlinecolor": "#2a3f5f",
             "gridcolor": "white",
             "linecolor": "white",
             "minorgridcolor": "white",
             "startlinecolor": "#2a3f5f"
            },
            "baxis": {
             "endlinecolor": "#2a3f5f",
             "gridcolor": "white",
             "linecolor": "white",
             "minorgridcolor": "white",
             "startlinecolor": "#2a3f5f"
            },
            "type": "carpet"
           }
          ],
          "choropleth": [
           {
            "colorbar": {
             "outlinewidth": 0,
             "ticks": ""
            },
            "type": "choropleth"
           }
          ],
          "contour": [
           {
            "colorbar": {
             "outlinewidth": 0,
             "ticks": ""
            },
            "colorscale": [
             [
              0,
              "#0d0887"
             ],
             [
              0.1111111111111111,
              "#46039f"
             ],
             [
              0.2222222222222222,
              "#7201a8"
             ],
             [
              0.3333333333333333,
              "#9c179e"
             ],
             [
              0.4444444444444444,
              "#bd3786"
             ],
             [
              0.5555555555555556,
              "#d8576b"
             ],
             [
              0.6666666666666666,
              "#ed7953"
             ],
             [
              0.7777777777777778,
              "#fb9f3a"
             ],
             [
              0.8888888888888888,
              "#fdca26"
             ],
             [
              1,
              "#f0f921"
             ]
            ],
            "type": "contour"
           }
          ],
          "contourcarpet": [
           {
            "colorbar": {
             "outlinewidth": 0,
             "ticks": ""
            },
            "type": "contourcarpet"
           }
          ],
          "heatmap": [
           {
            "colorbar": {
             "outlinewidth": 0,
             "ticks": ""
            },
            "colorscale": [
             [
              0,
              "#0d0887"
             ],
             [
              0.1111111111111111,
              "#46039f"
             ],
             [
              0.2222222222222222,
              "#7201a8"
             ],
             [
              0.3333333333333333,
              "#9c179e"
             ],
             [
              0.4444444444444444,
              "#bd3786"
             ],
             [
              0.5555555555555556,
              "#d8576b"
             ],
             [
              0.6666666666666666,
              "#ed7953"
             ],
             [
              0.7777777777777778,
              "#fb9f3a"
             ],
             [
              0.8888888888888888,
              "#fdca26"
             ],
             [
              1,
              "#f0f921"
             ]
            ],
            "type": "heatmap"
           }
          ],
          "heatmapgl": [
           {
            "colorbar": {
             "outlinewidth": 0,
             "ticks": ""
            },
            "colorscale": [
             [
              0,
              "#0d0887"
             ],
             [
              0.1111111111111111,
              "#46039f"
             ],
             [
              0.2222222222222222,
              "#7201a8"
             ],
             [
              0.3333333333333333,
              "#9c179e"
             ],
             [
              0.4444444444444444,
              "#bd3786"
             ],
             [
              0.5555555555555556,
              "#d8576b"
             ],
             [
              0.6666666666666666,
              "#ed7953"
             ],
             [
              0.7777777777777778,
              "#fb9f3a"
             ],
             [
              0.8888888888888888,
              "#fdca26"
             ],
             [
              1,
              "#f0f921"
             ]
            ],
            "type": "heatmapgl"
           }
          ],
          "histogram": [
           {
            "marker": {
             "colorbar": {
              "outlinewidth": 0,
              "ticks": ""
             }
            },
            "type": "histogram"
           }
          ],
          "histogram2d": [
           {
            "colorbar": {
             "outlinewidth": 0,
             "ticks": ""
            },
            "colorscale": [
             [
              0,
              "#0d0887"
             ],
             [
              0.1111111111111111,
              "#46039f"
             ],
             [
              0.2222222222222222,
              "#7201a8"
             ],
             [
              0.3333333333333333,
              "#9c179e"
             ],
             [
              0.4444444444444444,
              "#bd3786"
             ],
             [
              0.5555555555555556,
              "#d8576b"
             ],
             [
              0.6666666666666666,
              "#ed7953"
             ],
             [
              0.7777777777777778,
              "#fb9f3a"
             ],
             [
              0.8888888888888888,
              "#fdca26"
             ],
             [
              1,
              "#f0f921"
             ]
            ],
            "type": "histogram2d"
           }
          ],
          "histogram2dcontour": [
           {
            "colorbar": {
             "outlinewidth": 0,
             "ticks": ""
            },
            "colorscale": [
             [
              0,
              "#0d0887"
             ],
             [
              0.1111111111111111,
              "#46039f"
             ],
             [
              0.2222222222222222,
              "#7201a8"
             ],
             [
              0.3333333333333333,
              "#9c179e"
             ],
             [
              0.4444444444444444,
              "#bd3786"
             ],
             [
              0.5555555555555556,
              "#d8576b"
             ],
             [
              0.6666666666666666,
              "#ed7953"
             ],
             [
              0.7777777777777778,
              "#fb9f3a"
             ],
             [
              0.8888888888888888,
              "#fdca26"
             ],
             [
              1,
              "#f0f921"
             ]
            ],
            "type": "histogram2dcontour"
           }
          ],
          "mesh3d": [
           {
            "colorbar": {
             "outlinewidth": 0,
             "ticks": ""
            },
            "type": "mesh3d"
           }
          ],
          "parcoords": [
           {
            "line": {
             "colorbar": {
              "outlinewidth": 0,
              "ticks": ""
             }
            },
            "type": "parcoords"
           }
          ],
          "pie": [
           {
            "automargin": true,
            "type": "pie"
           }
          ],
          "scatter": [
           {
            "marker": {
             "colorbar": {
              "outlinewidth": 0,
              "ticks": ""
             }
            },
            "type": "scatter"
           }
          ],
          "scatter3d": [
           {
            "line": {
             "colorbar": {
              "outlinewidth": 0,
              "ticks": ""
             }
            },
            "marker": {
             "colorbar": {
              "outlinewidth": 0,
              "ticks": ""
             }
            },
            "type": "scatter3d"
           }
          ],
          "scattercarpet": [
           {
            "marker": {
             "colorbar": {
              "outlinewidth": 0,
              "ticks": ""
             }
            },
            "type": "scattercarpet"
           }
          ],
          "scattergeo": [
           {
            "marker": {
             "colorbar": {
              "outlinewidth": 0,
              "ticks": ""
             }
            },
            "type": "scattergeo"
           }
          ],
          "scattergl": [
           {
            "marker": {
             "colorbar": {
              "outlinewidth": 0,
              "ticks": ""
             }
            },
            "type": "scattergl"
           }
          ],
          "scattermapbox": [
           {
            "marker": {
             "colorbar": {
              "outlinewidth": 0,
              "ticks": ""
             }
            },
            "type": "scattermapbox"
           }
          ],
          "scatterpolar": [
           {
            "marker": {
             "colorbar": {
              "outlinewidth": 0,
              "ticks": ""
             }
            },
            "type": "scatterpolar"
           }
          ],
          "scatterpolargl": [
           {
            "marker": {
             "colorbar": {
              "outlinewidth": 0,
              "ticks": ""
             }
            },
            "type": "scatterpolargl"
           }
          ],
          "scatterternary": [
           {
            "marker": {
             "colorbar": {
              "outlinewidth": 0,
              "ticks": ""
             }
            },
            "type": "scatterternary"
           }
          ],
          "surface": [
           {
            "colorbar": {
             "outlinewidth": 0,
             "ticks": ""
            },
            "colorscale": [
             [
              0,
              "#0d0887"
             ],
             [
              0.1111111111111111,
              "#46039f"
             ],
             [
              0.2222222222222222,
              "#7201a8"
             ],
             [
              0.3333333333333333,
              "#9c179e"
             ],
             [
              0.4444444444444444,
              "#bd3786"
             ],
             [
              0.5555555555555556,
              "#d8576b"
             ],
             [
              0.6666666666666666,
              "#ed7953"
             ],
             [
              0.7777777777777778,
              "#fb9f3a"
             ],
             [
              0.8888888888888888,
              "#fdca26"
             ],
             [
              1,
              "#f0f921"
             ]
            ],
            "type": "surface"
           }
          ],
          "table": [
           {
            "cells": {
             "fill": {
              "color": "#EBF0F8"
             },
             "line": {
              "color": "white"
             }
            },
            "header": {
             "fill": {
              "color": "#C8D4E3"
             },
             "line": {
              "color": "white"
             }
            },
            "type": "table"
           }
          ]
         },
         "layout": {
          "annotationdefaults": {
           "arrowcolor": "#2a3f5f",
           "arrowhead": 0,
           "arrowwidth": 1
          },
          "coloraxis": {
           "colorbar": {
            "outlinewidth": 0,
            "ticks": ""
           }
          },
          "colorscale": {
           "diverging": [
            [
             0,
             "#8e0152"
            ],
            [
             0.1,
             "#c51b7d"
            ],
            [
             0.2,
             "#de77ae"
            ],
            [
             0.3,
             "#f1b6da"
            ],
            [
             0.4,
             "#fde0ef"
            ],
            [
             0.5,
             "#f7f7f7"
            ],
            [
             0.6,
             "#e6f5d0"
            ],
            [
             0.7,
             "#b8e186"
            ],
            [
             0.8,
             "#7fbc41"
            ],
            [
             0.9,
             "#4d9221"
            ],
            [
             1,
             "#276419"
            ]
           ],
           "sequential": [
            [
             0,
             "#0d0887"
            ],
            [
             0.1111111111111111,
             "#46039f"
            ],
            [
             0.2222222222222222,
             "#7201a8"
            ],
            [
             0.3333333333333333,
             "#9c179e"
            ],
            [
             0.4444444444444444,
             "#bd3786"
            ],
            [
             0.5555555555555556,
             "#d8576b"
            ],
            [
             0.6666666666666666,
             "#ed7953"
            ],
            [
             0.7777777777777778,
             "#fb9f3a"
            ],
            [
             0.8888888888888888,
             "#fdca26"
            ],
            [
             1,
             "#f0f921"
            ]
           ],
           "sequentialminus": [
            [
             0,
             "#0d0887"
            ],
            [
             0.1111111111111111,
             "#46039f"
            ],
            [
             0.2222222222222222,
             "#7201a8"
            ],
            [
             0.3333333333333333,
             "#9c179e"
            ],
            [
             0.4444444444444444,
             "#bd3786"
            ],
            [
             0.5555555555555556,
             "#d8576b"
            ],
            [
             0.6666666666666666,
             "#ed7953"
            ],
            [
             0.7777777777777778,
             "#fb9f3a"
            ],
            [
             0.8888888888888888,
             "#fdca26"
            ],
            [
             1,
             "#f0f921"
            ]
           ]
          },
          "colorway": [
           "#636efa",
           "#EF553B",
           "#00cc96",
           "#ab63fa",
           "#FFA15A",
           "#19d3f3",
           "#FF6692",
           "#B6E880",
           "#FF97FF",
           "#FECB52"
          ],
          "font": {
           "color": "#2a3f5f"
          },
          "geo": {
           "bgcolor": "white",
           "lakecolor": "white",
           "landcolor": "#E5ECF6",
           "showlakes": true,
           "showland": true,
           "subunitcolor": "white"
          },
          "hoverlabel": {
           "align": "left"
          },
          "hovermode": "closest",
          "mapbox": {
           "style": "light"
          },
          "paper_bgcolor": "white",
          "plot_bgcolor": "#E5ECF6",
          "polar": {
           "angularaxis": {
            "gridcolor": "white",
            "linecolor": "white",
            "ticks": ""
           },
           "bgcolor": "#E5ECF6",
           "radialaxis": {
            "gridcolor": "white",
            "linecolor": "white",
            "ticks": ""
           }
          },
          "scene": {
           "xaxis": {
            "backgroundcolor": "#E5ECF6",
            "gridcolor": "white",
            "gridwidth": 2,
            "linecolor": "white",
            "showbackground": true,
            "ticks": "",
            "zerolinecolor": "white"
           },
           "yaxis": {
            "backgroundcolor": "#E5ECF6",
            "gridcolor": "white",
            "gridwidth": 2,
            "linecolor": "white",
            "showbackground": true,
            "ticks": "",
            "zerolinecolor": "white"
           },
           "zaxis": {
            "backgroundcolor": "#E5ECF6",
            "gridcolor": "white",
            "gridwidth": 2,
            "linecolor": "white",
            "showbackground": true,
            "ticks": "",
            "zerolinecolor": "white"
           }
          },
          "shapedefaults": {
           "line": {
            "color": "#2a3f5f"
           }
          },
          "ternary": {
           "aaxis": {
            "gridcolor": "white",
            "linecolor": "white",
            "ticks": ""
           },
           "baxis": {
            "gridcolor": "white",
            "linecolor": "white",
            "ticks": ""
           },
           "bgcolor": "#E5ECF6",
           "caxis": {
            "gridcolor": "white",
            "linecolor": "white",
            "ticks": ""
           }
          },
          "title": {
           "x": 0.05
          },
          "xaxis": {
           "automargin": true,
           "gridcolor": "white",
           "linecolor": "white",
           "ticks": "",
           "title": {
            "standoff": 15
           },
           "zerolinecolor": "white",
           "zerolinewidth": 2
          },
          "yaxis": {
           "automargin": true,
           "gridcolor": "white",
           "linecolor": "white",
           "ticks": "",
           "title": {
            "standoff": 15
           },
           "zerolinecolor": "white",
           "zerolinewidth": 2
          }
         }
        },
        "title": {
         "x": 0.5,
         "xanchor": "center",
         "y": 0.9,
         "yanchor": "top"
        },
        "xaxis": {
         "tickangle": 45,
         "ticktext": [
          20190923,
          20191003,
          20191015,
          20191025,
          20191106,
          20191118,
          20191129,
          20191211,
          20191223,
          20200106,
          20200116,
          20200129,
          20200210,
          20200221,
          20200304
         ],
         "tickvals": [
          20190923,
          20191003,
          20191015,
          20191025,
          20191106,
          20191118,
          20191129,
          20191211,
          20191223,
          20200106,
          20200116,
          20200129,
          20200210,
          20200221,
          20200304
         ],
         "type": "category"
        },
        "yaxis": {
         "title": {
          "text": "y main"
         }
        },
        "yaxis2": {
         "overlaying": "y",
         "side": "right",
         "title": {
          "text": "y alt"
         }
        }
       }
      },
      "text/html": [
       "<div>\n",
       "        \n",
       "        \n",
       "            <div id=\"48fbdbfc-8d73-41fd-94b4-c2d97d9edc78\" class=\"plotly-graph-div\" style=\"height:525px; width:100%;\"></div>\n",
       "            <script type=\"text/javascript\">\n",
       "                require([\"plotly\"], function(Plotly) {\n",
       "                    window.PLOTLYENV=window.PLOTLYENV || {};\n",
       "                    \n",
       "                if (document.getElementById(\"48fbdbfc-8d73-41fd-94b4-c2d97d9edc78\")) {\n",
       "                    Plotly.newPlot(\n",
       "                        '48fbdbfc-8d73-41fd-94b4-c2d97d9edc78',\n",
       "                        [{\"name\": \"close_y\", \"type\": \"scatter\", \"x\": [20190923, 20190924, 20190925, 20190926, 20190927, 20190930, 20191001, 20191002, 20191003, 20191004, 20191007, 20191008, 20191009, 20191010, 20191011, 20191014, 20191015, 20191016, 20191017, 20191018, 20191021, 20191022, 20191023, 20191024, 20191025, 20191028, 20191029, 20191030, 20191031, 20191101, 20191104, 20191105, 20191106, 20191107, 20191108, 20191111, 20191112, 20191113, 20191114, 20191115, 20191118, 20191119, 20191120, 20191121, 20191122, 20191125, 20191126, 20191127, 20191129, 20191202, 20191203, 20191204, 20191205, 20191206, 20191209, 20191210, 20191211, 20191212, 20191213, 20191216, 20191217, 20191218, 20191219, 20191220, 20191223, 20191224, 20191226, 20191227, 20191230, 20191231, 20200102, 20200103, 20200106, 20200107, 20200108, 20200109, 20200110, 20200113, 20200114, 20200115, 20200116, 20200117, 20200121, 20200122, 20200123, 20200124, 20200127, 20200128, 20200129, 20200130, 20200131, 20200203, 20200204, 20200205, 20200206, 20200207, 20200210, 20200211, 20200212, 20200213, 20200214, 20200218, 20200219, 20200220, 20200221, 20200224, 20200225, 20200226, 20200227, 20200228, 20200302, 20200303, 20200304, 20200305, 20200306, 20200309, 20200310, 20200311, 20200312, 20200313], \"y\": [2996.75, 2968.25, 2986.0, 2979.75, 2963.25, 2979.75, 2939.0, 2881.5, 2907.25, 2948.25, 2935.25, 2889.0, 2916.75, 2938.75, 2971.5, 2966.25, 2999.0, 2991.0, 2999.0, 2989.5, 3008.0, 2995.0, 3007.0, 3005.5, 3021.75, 3037.75, 3037.0, 3048.75, 3036.75, 3064.0, 3077.0, 3073.25, 3077.0, 3087.5, 3092.5, 3089.5, 3093.5, 3097.75, 3098.5, 3119.5, 3124.0, 3120.5, 3109.75, 3104.25, 3113.25, 3134.5, 3145.5, 3155.0, 3145.0, 3114.5, 3092.25, 3112.0, 3117.25, 3147.25, 3135.25, 3136.5, 3144.0, 3170.0, 3173.5, 3197.0, 3193.0, 3195.0, 3208.75, 3224.5, 3226.0, 3225.5, 3243.75, 3237.25, 3223.0, 3231.0, 3258.75, 3234.75, 3243.25, 3235.25, 3261.0, 3276.5, 3265.25, 3290.25, 3288.5, 3294.0, 3317.0, 3326.0, 3320.25, 3320.75, 3326.5, 3294.5, 3239.5, 3278.5, 3272.5, 3289.25, 3224.0, 3244.75, 3299.25, 3335.5, 3345.5, 3326.0, 3352.5, 3357.5, 3381.0, 3378.0, 3381.25, 3369.5, 3387.5, 3369.25, 3338.5, 3223.0, 3128.5, 3105.25, 2949.75, 2938.75, 3054.0, 2981.5, 3098.5, 2997.25, 2943.5, 2723.25, 2843.25, 2717.5, 2445.0, 2672.5], \"yaxis\": \"y\"}, {\"name\": \"atm_iv\", \"type\": \"scatter\", \"x\": [20190923, 20190924, 20190925, 20190926, 20190927, 20190930, 20191001, 20191002, 20191003, 20191004, 20191007, 20191008, 20191009, 20191010, 20191011, 20191014, 20191015, 20191016, 20191017, 20191018, 20191021, 20191022, 20191023, 20191024, 20191025, 20191028, 20191029, 20191030, 20191031, 20191101, 20191104, 20191105, 20191106, 20191107, 20191108, 20191111, 20191112, 20191113, 20191114, 20191115, 20191118, 20191119, 20191120, 20191121, 20191122, 20191125, 20191126, 20191127, 20191129, 20191202, 20191203, 20191204, 20191205, 20191206, 20191209, 20191210, 20191211, 20191212, 20191213, 20191216, 20191217, 20191218, 20191219, 20191220, 20191223, 20191224, 20191226, 20191227, 20191230, 20191231, 20200102, 20200103, 20200106, 20200107, 20200108, 20200109, 20200110, 20200113, 20200114, 20200115, 20200116, 20200117, 20200121, 20200122, 20200123, 20200124, 20200127, 20200128, 20200129, 20200130, 20200131, 20200203, 20200204, 20200205, 20200206, 20200207, 20200210, 20200211, 20200212, 20200213, 20200214, 20200218, 20200219, 20200220, 20200221, 20200224, 20200225, 20200226, 20200227, 20200228, 20200302, 20200303, 20200304, 20200305, 20200306, 20200309, 20200310, 20200311, 20200312, 20200313], \"y\": [0.1683367023943081, 0.1733136565110962, 0.17020789865050232, 0.17091489438578378, 0.1740387019891235, 0.17008520677675437, 0.17635874132581464, 0.18616183321045238, 0.1825306862795935, 0.17376301626817883, 0.17519490971916676, 0.1847835463918106, 0.17908663767742516, 0.1749826057892675, 0.16766030395620019, 0.1660696055966064, 0.16063566135677584, 0.16195171977778142, 0.1608694079295179, 0.1637282698451613, 0.1603595894640372, 0.16248838977396554, 0.16142715966732238, 0.16133817178057522, 0.15789726253770792, 0.1575306062600422, 0.1582886885700154, 0.15606324208447092, 0.1585199002254614, 0.15603560656326287, 0.15580069062406932, 0.15756471790628995, 0.15793536396692265, 0.15793662287038251, 0.1576037884487311, 0.15770212050597973, 0.15690184185854988, 0.15678492486973802, 0.15679825864404634, 0.15354030538772312, 0.15312946034515545, 0.1545426791818497, 0.1566214429612129, 0.15941587470710974, 0.15728082561364062, 0.15301258122598432, 0.15087003522944412, 0.15097791741694225, 0.15392255449763323, 0.16114239216163467, 0.16541640239370278, 0.16162558064431237, 0.16074499636517728, 0.15635056145167606, 0.1599014108977214, 0.1600111564049965, 0.15830528374279745, 0.15253245429414175, 0.1489131577483095, 0.1457431961897543, 0.14665127217640642, 0.14706254351684903, 0.14527911663788157, 0.14569014721257229, 0.14611586431039061, 0.1460100987363208, 0.14491008893355767, 0.14753742848607618, 0.1515584134122548, 0.14788069200948184, 0.14251230976163673, 0.14854540062533078, 0.1468249476926313, 0.14654503375390515, 0.1426413778933142, 0.13967565204703092, 0.14042207904962575, 0.13701978875645826, 0.13670277362624159, 0.13627587892020301, 0.13477601784976495, 0.13466874041431195, 0.13656145740452258, 0.13807926667409687, 0.13766380319903368, 0.14367553748128492, 0.15472716656719857, 0.14751044003579275, 0.1473475642508092, 0.1430928884733961, 0.15468888984228962, 0.15180386239770752, 0.14221632418581087, 0.13785410390520966, 0.13681264523218595, 0.14120053118946027, 0.1385467764915537, 0.13896139458124884, 0.13505574021319292, 0.13687516323626092, 0.13554241233345568, 0.13848247946675332, 0.13695782422751301, 0.14107026306139164, 0.14837732543139737, 0.17387654390519877, 0.1905726950258602, 0.19104622917248157, 0.23092257667541607, 0.2397760163410631, 0.2162611869726703, 0.23363386530515057, 0.21611588346857408, 0.25377564268873737, 0.2812006549020711, 0.3416645244084613, 0.31335945610133575, 0.35124620908645926, 0.4445690560479844, 0.3640435246668422], \"yaxis\": \"y2\"}],\n",
       "                        {\"margin\": {\"b\": 100}, \"template\": {\"data\": {\"bar\": [{\"error_x\": {\"color\": \"#2a3f5f\"}, \"error_y\": {\"color\": \"#2a3f5f\"}, \"marker\": {\"line\": {\"color\": \"#E5ECF6\", \"width\": 0.5}}, \"type\": \"bar\"}], \"barpolar\": [{\"marker\": {\"line\": {\"color\": \"#E5ECF6\", \"width\": 0.5}}, \"type\": \"barpolar\"}], \"carpet\": [{\"aaxis\": {\"endlinecolor\": \"#2a3f5f\", \"gridcolor\": \"white\", \"linecolor\": \"white\", \"minorgridcolor\": \"white\", \"startlinecolor\": \"#2a3f5f\"}, \"baxis\": {\"endlinecolor\": \"#2a3f5f\", \"gridcolor\": \"white\", \"linecolor\": \"white\", \"minorgridcolor\": \"white\", \"startlinecolor\": \"#2a3f5f\"}, \"type\": \"carpet\"}], \"choropleth\": [{\"colorbar\": {\"outlinewidth\": 0, \"ticks\": \"\"}, \"type\": \"choropleth\"}], \"contour\": [{\"colorbar\": {\"outlinewidth\": 0, \"ticks\": \"\"}, \"colorscale\": [[0.0, \"#0d0887\"], [0.1111111111111111, \"#46039f\"], [0.2222222222222222, \"#7201a8\"], [0.3333333333333333, \"#9c179e\"], [0.4444444444444444, \"#bd3786\"], [0.5555555555555556, \"#d8576b\"], [0.6666666666666666, \"#ed7953\"], [0.7777777777777778, \"#fb9f3a\"], [0.8888888888888888, \"#fdca26\"], [1.0, \"#f0f921\"]], \"type\": \"contour\"}], \"contourcarpet\": [{\"colorbar\": {\"outlinewidth\": 0, \"ticks\": \"\"}, \"type\": \"contourcarpet\"}], \"heatmap\": [{\"colorbar\": {\"outlinewidth\": 0, \"ticks\": \"\"}, \"colorscale\": [[0.0, \"#0d0887\"], [0.1111111111111111, \"#46039f\"], [0.2222222222222222, \"#7201a8\"], [0.3333333333333333, \"#9c179e\"], [0.4444444444444444, \"#bd3786\"], [0.5555555555555556, \"#d8576b\"], [0.6666666666666666, \"#ed7953\"], [0.7777777777777778, \"#fb9f3a\"], [0.8888888888888888, \"#fdca26\"], [1.0, \"#f0f921\"]], \"type\": \"heatmap\"}], \"heatmapgl\": [{\"colorbar\": {\"outlinewidth\": 0, \"ticks\": \"\"}, \"colorscale\": [[0.0, \"#0d0887\"], [0.1111111111111111, \"#46039f\"], [0.2222222222222222, \"#7201a8\"], [0.3333333333333333, \"#9c179e\"], [0.4444444444444444, \"#bd3786\"], [0.5555555555555556, \"#d8576b\"], [0.6666666666666666, \"#ed7953\"], [0.7777777777777778, \"#fb9f3a\"], [0.8888888888888888, \"#fdca26\"], [1.0, \"#f0f921\"]], \"type\": \"heatmapgl\"}], \"histogram\": [{\"marker\": {\"colorbar\": {\"outlinewidth\": 0, \"ticks\": \"\"}}, \"type\": \"histogram\"}], \"histogram2d\": [{\"colorbar\": {\"outlinewidth\": 0, \"ticks\": \"\"}, \"colorscale\": [[0.0, \"#0d0887\"], [0.1111111111111111, \"#46039f\"], [0.2222222222222222, \"#7201a8\"], [0.3333333333333333, \"#9c179e\"], [0.4444444444444444, \"#bd3786\"], [0.5555555555555556, \"#d8576b\"], [0.6666666666666666, \"#ed7953\"], [0.7777777777777778, \"#fb9f3a\"], [0.8888888888888888, \"#fdca26\"], [1.0, \"#f0f921\"]], \"type\": \"histogram2d\"}], \"histogram2dcontour\": [{\"colorbar\": {\"outlinewidth\": 0, \"ticks\": \"\"}, \"colorscale\": [[0.0, \"#0d0887\"], [0.1111111111111111, \"#46039f\"], [0.2222222222222222, \"#7201a8\"], [0.3333333333333333, \"#9c179e\"], [0.4444444444444444, \"#bd3786\"], [0.5555555555555556, \"#d8576b\"], [0.6666666666666666, \"#ed7953\"], [0.7777777777777778, \"#fb9f3a\"], [0.8888888888888888, \"#fdca26\"], [1.0, \"#f0f921\"]], \"type\": \"histogram2dcontour\"}], \"mesh3d\": [{\"colorbar\": {\"outlinewidth\": 0, \"ticks\": \"\"}, \"type\": \"mesh3d\"}], \"parcoords\": [{\"line\": {\"colorbar\": {\"outlinewidth\": 0, \"ticks\": \"\"}}, \"type\": \"parcoords\"}], \"pie\": [{\"automargin\": true, \"type\": \"pie\"}], \"scatter\": [{\"marker\": {\"colorbar\": {\"outlinewidth\": 0, \"ticks\": \"\"}}, \"type\": \"scatter\"}], \"scatter3d\": [{\"line\": {\"colorbar\": {\"outlinewidth\": 0, \"ticks\": \"\"}}, \"marker\": {\"colorbar\": {\"outlinewidth\": 0, \"ticks\": \"\"}}, \"type\": \"scatter3d\"}], \"scattercarpet\": [{\"marker\": {\"colorbar\": {\"outlinewidth\": 0, \"ticks\": \"\"}}, \"type\": \"scattercarpet\"}], \"scattergeo\": [{\"marker\": {\"colorbar\": {\"outlinewidth\": 0, \"ticks\": \"\"}}, \"type\": \"scattergeo\"}], \"scattergl\": [{\"marker\": {\"colorbar\": {\"outlinewidth\": 0, \"ticks\": \"\"}}, \"type\": \"scattergl\"}], \"scattermapbox\": [{\"marker\": {\"colorbar\": {\"outlinewidth\": 0, \"ticks\": \"\"}}, \"type\": \"scattermapbox\"}], \"scatterpolar\": [{\"marker\": {\"colorbar\": {\"outlinewidth\": 0, \"ticks\": \"\"}}, \"type\": \"scatterpolar\"}], \"scatterpolargl\": [{\"marker\": {\"colorbar\": {\"outlinewidth\": 0, \"ticks\": \"\"}}, \"type\": \"scatterpolargl\"}], \"scatterternary\": [{\"marker\": {\"colorbar\": {\"outlinewidth\": 0, \"ticks\": \"\"}}, \"type\": \"scatterternary\"}], \"surface\": [{\"colorbar\": {\"outlinewidth\": 0, \"ticks\": \"\"}, \"colorscale\": [[0.0, \"#0d0887\"], [0.1111111111111111, \"#46039f\"], [0.2222222222222222, \"#7201a8\"], [0.3333333333333333, \"#9c179e\"], [0.4444444444444444, \"#bd3786\"], [0.5555555555555556, \"#d8576b\"], [0.6666666666666666, \"#ed7953\"], [0.7777777777777778, \"#fb9f3a\"], [0.8888888888888888, \"#fdca26\"], [1.0, \"#f0f921\"]], \"type\": \"surface\"}], \"table\": [{\"cells\": {\"fill\": {\"color\": \"#EBF0F8\"}, \"line\": {\"color\": \"white\"}}, \"header\": {\"fill\": {\"color\": \"#C8D4E3\"}, \"line\": {\"color\": \"white\"}}, \"type\": \"table\"}]}, \"layout\": {\"annotationdefaults\": {\"arrowcolor\": \"#2a3f5f\", \"arrowhead\": 0, \"arrowwidth\": 1}, \"coloraxis\": {\"colorbar\": {\"outlinewidth\": 0, \"ticks\": \"\"}}, \"colorscale\": {\"diverging\": [[0, \"#8e0152\"], [0.1, \"#c51b7d\"], [0.2, \"#de77ae\"], [0.3, \"#f1b6da\"], [0.4, \"#fde0ef\"], [0.5, \"#f7f7f7\"], [0.6, \"#e6f5d0\"], [0.7, \"#b8e186\"], [0.8, \"#7fbc41\"], [0.9, \"#4d9221\"], [1, \"#276419\"]], \"sequential\": [[0.0, \"#0d0887\"], [0.1111111111111111, \"#46039f\"], [0.2222222222222222, \"#7201a8\"], [0.3333333333333333, \"#9c179e\"], [0.4444444444444444, \"#bd3786\"], [0.5555555555555556, \"#d8576b\"], [0.6666666666666666, \"#ed7953\"], [0.7777777777777778, \"#fb9f3a\"], [0.8888888888888888, \"#fdca26\"], [1.0, \"#f0f921\"]], \"sequentialminus\": [[0.0, \"#0d0887\"], [0.1111111111111111, \"#46039f\"], [0.2222222222222222, \"#7201a8\"], [0.3333333333333333, \"#9c179e\"], [0.4444444444444444, \"#bd3786\"], [0.5555555555555556, \"#d8576b\"], [0.6666666666666666, \"#ed7953\"], [0.7777777777777778, \"#fb9f3a\"], [0.8888888888888888, \"#fdca26\"], [1.0, \"#f0f921\"]]}, \"colorway\": [\"#636efa\", \"#EF553B\", \"#00cc96\", \"#ab63fa\", \"#FFA15A\", \"#19d3f3\", \"#FF6692\", \"#B6E880\", \"#FF97FF\", \"#FECB52\"], \"font\": {\"color\": \"#2a3f5f\"}, \"geo\": {\"bgcolor\": \"white\", \"lakecolor\": \"white\", \"landcolor\": \"#E5ECF6\", \"showlakes\": true, \"showland\": true, \"subunitcolor\": \"white\"}, \"hoverlabel\": {\"align\": \"left\"}, \"hovermode\": \"closest\", \"mapbox\": {\"style\": \"light\"}, \"paper_bgcolor\": \"white\", \"plot_bgcolor\": \"#E5ECF6\", \"polar\": {\"angularaxis\": {\"gridcolor\": \"white\", \"linecolor\": \"white\", \"ticks\": \"\"}, \"bgcolor\": \"#E5ECF6\", \"radialaxis\": {\"gridcolor\": \"white\", \"linecolor\": \"white\", \"ticks\": \"\"}}, \"scene\": {\"xaxis\": {\"backgroundcolor\": \"#E5ECF6\", \"gridcolor\": \"white\", \"gridwidth\": 2, \"linecolor\": \"white\", \"showbackground\": true, \"ticks\": \"\", \"zerolinecolor\": \"white\"}, \"yaxis\": {\"backgroundcolor\": \"#E5ECF6\", \"gridcolor\": \"white\", \"gridwidth\": 2, \"linecolor\": \"white\", \"showbackground\": true, \"ticks\": \"\", \"zerolinecolor\": \"white\"}, \"zaxis\": {\"backgroundcolor\": \"#E5ECF6\", \"gridcolor\": \"white\", \"gridwidth\": 2, \"linecolor\": \"white\", \"showbackground\": true, \"ticks\": \"\", \"zerolinecolor\": \"white\"}}, \"shapedefaults\": {\"line\": {\"color\": \"#2a3f5f\"}}, \"ternary\": {\"aaxis\": {\"gridcolor\": \"white\", \"linecolor\": \"white\", \"ticks\": \"\"}, \"baxis\": {\"gridcolor\": \"white\", \"linecolor\": \"white\", \"ticks\": \"\"}, \"bgcolor\": \"#E5ECF6\", \"caxis\": {\"gridcolor\": \"white\", \"linecolor\": \"white\", \"ticks\": \"\"}}, \"title\": {\"x\": 0.05}, \"xaxis\": {\"automargin\": true, \"gridcolor\": \"white\", \"linecolor\": \"white\", \"ticks\": \"\", \"title\": {\"standoff\": 15}, \"zerolinecolor\": \"white\", \"zerolinewidth\": 2}, \"yaxis\": {\"automargin\": true, \"gridcolor\": \"white\", \"linecolor\": \"white\", \"ticks\": \"\", \"title\": {\"standoff\": 15}, \"zerolinecolor\": \"white\", \"zerolinewidth\": 2}}}, \"title\": {\"x\": 0.5, \"xanchor\": \"center\", \"y\": 0.9, \"yanchor\": \"top\"}, \"xaxis\": {\"tickangle\": 45, \"ticktext\": [20190923, 20191003, 20191015, 20191025, 20191106, 20191118, 20191129, 20191211, 20191223, 20200106, 20200116, 20200129, 20200210, 20200221, 20200304], \"tickvals\": [20190923, 20191003, 20191015, 20191025, 20191106, 20191118, 20191129, 20191211, 20191223, 20200106, 20200116, 20200129, 20200210, 20200221, 20200304], \"type\": \"category\"}, \"yaxis\": {\"title\": {\"text\": \"y main\"}}, \"yaxis2\": {\"overlaying\": \"y\", \"side\": \"right\", \"title\": {\"text\": \"y alt\"}}},\n",
       "                        {\"responsive\": true}\n",
       "                    ).then(function(){\n",
       "                            \n",
       "var gd = document.getElementById('48fbdbfc-8d73-41fd-94b4-c2d97d9edc78');\n",
       "var x = new MutationObserver(function (mutations, observer) {{\n",
       "        var display = window.getComputedStyle(gd).display;\n",
       "        if (!display || display === 'none') {{\n",
       "            console.log([gd, 'removed!']);\n",
       "            Plotly.purge(gd);\n",
       "            observer.disconnect();\n",
       "        }}\n",
       "}});\n",
       "\n",
       "// Listen for the removal of the full notebook cells\n",
       "var notebookContainer = gd.closest('#notebook-container');\n",
       "if (notebookContainer) {{\n",
       "    x.observe(notebookContainer, {childList: true});\n",
       "}}\n",
       "\n",
       "// Listen for the clearing of the current output cell\n",
       "var outputEl = gd.closest('.output');\n",
       "if (outputEl) {{\n",
       "    x.observe(outputEl, {childList: true});\n",
       "}}\n",
       "\n",
       "                        })\n",
       "                };\n",
       "                });\n",
       "            </script>\n",
       "        </div>"
      ]
     },
     "metadata": {},
     "output_type": "display_data"
    },
    {
     "name": "stdout",
     "output_type": "stream",
     "text": [
      "graphing symbol: ESZ20\n"
     ]
    },
    {
     "data": {
      "application/vnd.plotly.v1+json": {
       "config": {
        "linkText": "Export to plot.ly",
        "plotlyServerURL": "https://plot.ly",
        "showLink": false
       },
       "data": [
        {
         "name": "close_y",
         "type": "scatter",
         "x": [
          20191223,
          20191224,
          20191226,
          20191227,
          20191230,
          20191231,
          20200102,
          20200103,
          20200106,
          20200107,
          20200108,
          20200109,
          20200110,
          20200113,
          20200114,
          20200115,
          20200116,
          20200117,
          20200121,
          20200122,
          20200123,
          20200124,
          20200127,
          20200128,
          20200129,
          20200130,
          20200131,
          20200203,
          20200204,
          20200205,
          20200206,
          20200207,
          20200210,
          20200211,
          20200212,
          20200213,
          20200214,
          20200218,
          20200219,
          20200220,
          20200221,
          20200224,
          20200225,
          20200226,
          20200227,
          20200228,
          20200302,
          20200303,
          20200304,
          20200305,
          20200306,
          20200309,
          20200310,
          20200311,
          20200312,
          20200313
         ],
         "y": [
          3226,
          3224.25,
          3242.75,
          3237.75,
          3222.5,
          3232,
          3259,
          3237.5,
          3244.75,
          3236.5,
          3261.25,
          3277,
          3265.75,
          3290.5,
          3288.75,
          3293.25,
          3317.5,
          3326.25,
          3320.5,
          3321,
          3326.75,
          3295.25,
          3243,
          3280.75,
          3274.75,
          3292,
          3228,
          3249.25,
          3301.75,
          3337.5,
          3348,
          3328,
          3354.25,
          3358.75,
          3382.75,
          3378.25,
          3382.5,
          3370.5,
          3388.5,
          3371.5,
          3340,
          3221,
          3131,
          3107.5,
          2947,
          2933.5,
          3047.75,
          2977.5,
          3093,
          2994,
          2943.25,
          2735.75,
          2845.75,
          2701.25,
          2439,
          2668.25
         ],
         "yaxis": "y"
        },
        {
         "name": "atm_iv",
         "type": "scatter",
         "x": [
          20191223,
          20191224,
          20191226,
          20191227,
          20191230,
          20191231,
          20200102,
          20200103,
          20200106,
          20200107,
          20200108,
          20200109,
          20200110,
          20200113,
          20200114,
          20200115,
          20200116,
          20200117,
          20200121,
          20200122,
          20200123,
          20200124,
          20200127,
          20200128,
          20200129,
          20200130,
          20200131,
          20200203,
          20200204,
          20200205,
          20200206,
          20200207,
          20200210,
          20200211,
          20200212,
          20200213,
          20200214,
          20200218,
          20200219,
          20200220,
          20200221,
          20200224,
          20200225,
          20200226,
          20200227,
          20200228,
          20200302,
          20200303,
          20200304,
          20200305,
          20200306,
          20200309,
          20200310,
          20200311,
          20200312,
          20200313
         ],
         "y": [
          0.15495454208511408,
          0.15517535178502592,
          0.15419255616954222,
          0.15583577882529162,
          0.15964795793302228,
          0.15679280116605682,
          0.15233498425946365,
          0.15668311753853462,
          0.15522416279686596,
          0.1548794784721009,
          0.15132988089352578,
          0.14872403279790836,
          0.14939883454642852,
          0.14663307118600993,
          0.1461464000935369,
          0.14611481790781702,
          0.14406475665910715,
          0.14412133068394672,
          0.14547113355539026,
          0.14697101980212962,
          0.14610987602168465,
          0.15123847338696722,
          0.1598533410365062,
          0.1539940749635204,
          0.15381973816827155,
          0.15046386154304292,
          0.15764100465960215,
          0.1575623000174647,
          0.15025023368355592,
          0.14682116920472682,
          0.14542618793044926,
          0.1491070021018843,
          0.14711883001304307,
          0.14746596546448917,
          0.1440861675547477,
          0.1455970286325774,
          0.14453428643705715,
          0.1467655404357122,
          0.14569309689140822,
          0.14887547988667466,
          0.15496772457750563,
          0.17558226377691588,
          0.18842659293277741,
          0.18861658598364112,
          0.2198639034949591,
          0.22506309410685066,
          0.21075090558344114,
          0.22320725295187743,
          0.20967661608414856,
          0.23859933078840007,
          0.26150337143180635,
          0.3054098467536789,
          0.28009434358800434,
          0.31757636055408506,
          0.3919666449984285,
          0.32595710738232725
         ],
         "yaxis": "y2"
        }
       ],
       "layout": {
        "margin": {
         "b": 100
        },
        "template": {
         "data": {
          "bar": [
           {
            "error_x": {
             "color": "#2a3f5f"
            },
            "error_y": {
             "color": "#2a3f5f"
            },
            "marker": {
             "line": {
              "color": "#E5ECF6",
              "width": 0.5
             }
            },
            "type": "bar"
           }
          ],
          "barpolar": [
           {
            "marker": {
             "line": {
              "color": "#E5ECF6",
              "width": 0.5
             }
            },
            "type": "barpolar"
           }
          ],
          "carpet": [
           {
            "aaxis": {
             "endlinecolor": "#2a3f5f",
             "gridcolor": "white",
             "linecolor": "white",
             "minorgridcolor": "white",
             "startlinecolor": "#2a3f5f"
            },
            "baxis": {
             "endlinecolor": "#2a3f5f",
             "gridcolor": "white",
             "linecolor": "white",
             "minorgridcolor": "white",
             "startlinecolor": "#2a3f5f"
            },
            "type": "carpet"
           }
          ],
          "choropleth": [
           {
            "colorbar": {
             "outlinewidth": 0,
             "ticks": ""
            },
            "type": "choropleth"
           }
          ],
          "contour": [
           {
            "colorbar": {
             "outlinewidth": 0,
             "ticks": ""
            },
            "colorscale": [
             [
              0,
              "#0d0887"
             ],
             [
              0.1111111111111111,
              "#46039f"
             ],
             [
              0.2222222222222222,
              "#7201a8"
             ],
             [
              0.3333333333333333,
              "#9c179e"
             ],
             [
              0.4444444444444444,
              "#bd3786"
             ],
             [
              0.5555555555555556,
              "#d8576b"
             ],
             [
              0.6666666666666666,
              "#ed7953"
             ],
             [
              0.7777777777777778,
              "#fb9f3a"
             ],
             [
              0.8888888888888888,
              "#fdca26"
             ],
             [
              1,
              "#f0f921"
             ]
            ],
            "type": "contour"
           }
          ],
          "contourcarpet": [
           {
            "colorbar": {
             "outlinewidth": 0,
             "ticks": ""
            },
            "type": "contourcarpet"
           }
          ],
          "heatmap": [
           {
            "colorbar": {
             "outlinewidth": 0,
             "ticks": ""
            },
            "colorscale": [
             [
              0,
              "#0d0887"
             ],
             [
              0.1111111111111111,
              "#46039f"
             ],
             [
              0.2222222222222222,
              "#7201a8"
             ],
             [
              0.3333333333333333,
              "#9c179e"
             ],
             [
              0.4444444444444444,
              "#bd3786"
             ],
             [
              0.5555555555555556,
              "#d8576b"
             ],
             [
              0.6666666666666666,
              "#ed7953"
             ],
             [
              0.7777777777777778,
              "#fb9f3a"
             ],
             [
              0.8888888888888888,
              "#fdca26"
             ],
             [
              1,
              "#f0f921"
             ]
            ],
            "type": "heatmap"
           }
          ],
          "heatmapgl": [
           {
            "colorbar": {
             "outlinewidth": 0,
             "ticks": ""
            },
            "colorscale": [
             [
              0,
              "#0d0887"
             ],
             [
              0.1111111111111111,
              "#46039f"
             ],
             [
              0.2222222222222222,
              "#7201a8"
             ],
             [
              0.3333333333333333,
              "#9c179e"
             ],
             [
              0.4444444444444444,
              "#bd3786"
             ],
             [
              0.5555555555555556,
              "#d8576b"
             ],
             [
              0.6666666666666666,
              "#ed7953"
             ],
             [
              0.7777777777777778,
              "#fb9f3a"
             ],
             [
              0.8888888888888888,
              "#fdca26"
             ],
             [
              1,
              "#f0f921"
             ]
            ],
            "type": "heatmapgl"
           }
          ],
          "histogram": [
           {
            "marker": {
             "colorbar": {
              "outlinewidth": 0,
              "ticks": ""
             }
            },
            "type": "histogram"
           }
          ],
          "histogram2d": [
           {
            "colorbar": {
             "outlinewidth": 0,
             "ticks": ""
            },
            "colorscale": [
             [
              0,
              "#0d0887"
             ],
             [
              0.1111111111111111,
              "#46039f"
             ],
             [
              0.2222222222222222,
              "#7201a8"
             ],
             [
              0.3333333333333333,
              "#9c179e"
             ],
             [
              0.4444444444444444,
              "#bd3786"
             ],
             [
              0.5555555555555556,
              "#d8576b"
             ],
             [
              0.6666666666666666,
              "#ed7953"
             ],
             [
              0.7777777777777778,
              "#fb9f3a"
             ],
             [
              0.8888888888888888,
              "#fdca26"
             ],
             [
              1,
              "#f0f921"
             ]
            ],
            "type": "histogram2d"
           }
          ],
          "histogram2dcontour": [
           {
            "colorbar": {
             "outlinewidth": 0,
             "ticks": ""
            },
            "colorscale": [
             [
              0,
              "#0d0887"
             ],
             [
              0.1111111111111111,
              "#46039f"
             ],
             [
              0.2222222222222222,
              "#7201a8"
             ],
             [
              0.3333333333333333,
              "#9c179e"
             ],
             [
              0.4444444444444444,
              "#bd3786"
             ],
             [
              0.5555555555555556,
              "#d8576b"
             ],
             [
              0.6666666666666666,
              "#ed7953"
             ],
             [
              0.7777777777777778,
              "#fb9f3a"
             ],
             [
              0.8888888888888888,
              "#fdca26"
             ],
             [
              1,
              "#f0f921"
             ]
            ],
            "type": "histogram2dcontour"
           }
          ],
          "mesh3d": [
           {
            "colorbar": {
             "outlinewidth": 0,
             "ticks": ""
            },
            "type": "mesh3d"
           }
          ],
          "parcoords": [
           {
            "line": {
             "colorbar": {
              "outlinewidth": 0,
              "ticks": ""
             }
            },
            "type": "parcoords"
           }
          ],
          "pie": [
           {
            "automargin": true,
            "type": "pie"
           }
          ],
          "scatter": [
           {
            "marker": {
             "colorbar": {
              "outlinewidth": 0,
              "ticks": ""
             }
            },
            "type": "scatter"
           }
          ],
          "scatter3d": [
           {
            "line": {
             "colorbar": {
              "outlinewidth": 0,
              "ticks": ""
             }
            },
            "marker": {
             "colorbar": {
              "outlinewidth": 0,
              "ticks": ""
             }
            },
            "type": "scatter3d"
           }
          ],
          "scattercarpet": [
           {
            "marker": {
             "colorbar": {
              "outlinewidth": 0,
              "ticks": ""
             }
            },
            "type": "scattercarpet"
           }
          ],
          "scattergeo": [
           {
            "marker": {
             "colorbar": {
              "outlinewidth": 0,
              "ticks": ""
             }
            },
            "type": "scattergeo"
           }
          ],
          "scattergl": [
           {
            "marker": {
             "colorbar": {
              "outlinewidth": 0,
              "ticks": ""
             }
            },
            "type": "scattergl"
           }
          ],
          "scattermapbox": [
           {
            "marker": {
             "colorbar": {
              "outlinewidth": 0,
              "ticks": ""
             }
            },
            "type": "scattermapbox"
           }
          ],
          "scatterpolar": [
           {
            "marker": {
             "colorbar": {
              "outlinewidth": 0,
              "ticks": ""
             }
            },
            "type": "scatterpolar"
           }
          ],
          "scatterpolargl": [
           {
            "marker": {
             "colorbar": {
              "outlinewidth": 0,
              "ticks": ""
             }
            },
            "type": "scatterpolargl"
           }
          ],
          "scatterternary": [
           {
            "marker": {
             "colorbar": {
              "outlinewidth": 0,
              "ticks": ""
             }
            },
            "type": "scatterternary"
           }
          ],
          "surface": [
           {
            "colorbar": {
             "outlinewidth": 0,
             "ticks": ""
            },
            "colorscale": [
             [
              0,
              "#0d0887"
             ],
             [
              0.1111111111111111,
              "#46039f"
             ],
             [
              0.2222222222222222,
              "#7201a8"
             ],
             [
              0.3333333333333333,
              "#9c179e"
             ],
             [
              0.4444444444444444,
              "#bd3786"
             ],
             [
              0.5555555555555556,
              "#d8576b"
             ],
             [
              0.6666666666666666,
              "#ed7953"
             ],
             [
              0.7777777777777778,
              "#fb9f3a"
             ],
             [
              0.8888888888888888,
              "#fdca26"
             ],
             [
              1,
              "#f0f921"
             ]
            ],
            "type": "surface"
           }
          ],
          "table": [
           {
            "cells": {
             "fill": {
              "color": "#EBF0F8"
             },
             "line": {
              "color": "white"
             }
            },
            "header": {
             "fill": {
              "color": "#C8D4E3"
             },
             "line": {
              "color": "white"
             }
            },
            "type": "table"
           }
          ]
         },
         "layout": {
          "annotationdefaults": {
           "arrowcolor": "#2a3f5f",
           "arrowhead": 0,
           "arrowwidth": 1
          },
          "coloraxis": {
           "colorbar": {
            "outlinewidth": 0,
            "ticks": ""
           }
          },
          "colorscale": {
           "diverging": [
            [
             0,
             "#8e0152"
            ],
            [
             0.1,
             "#c51b7d"
            ],
            [
             0.2,
             "#de77ae"
            ],
            [
             0.3,
             "#f1b6da"
            ],
            [
             0.4,
             "#fde0ef"
            ],
            [
             0.5,
             "#f7f7f7"
            ],
            [
             0.6,
             "#e6f5d0"
            ],
            [
             0.7,
             "#b8e186"
            ],
            [
             0.8,
             "#7fbc41"
            ],
            [
             0.9,
             "#4d9221"
            ],
            [
             1,
             "#276419"
            ]
           ],
           "sequential": [
            [
             0,
             "#0d0887"
            ],
            [
             0.1111111111111111,
             "#46039f"
            ],
            [
             0.2222222222222222,
             "#7201a8"
            ],
            [
             0.3333333333333333,
             "#9c179e"
            ],
            [
             0.4444444444444444,
             "#bd3786"
            ],
            [
             0.5555555555555556,
             "#d8576b"
            ],
            [
             0.6666666666666666,
             "#ed7953"
            ],
            [
             0.7777777777777778,
             "#fb9f3a"
            ],
            [
             0.8888888888888888,
             "#fdca26"
            ],
            [
             1,
             "#f0f921"
            ]
           ],
           "sequentialminus": [
            [
             0,
             "#0d0887"
            ],
            [
             0.1111111111111111,
             "#46039f"
            ],
            [
             0.2222222222222222,
             "#7201a8"
            ],
            [
             0.3333333333333333,
             "#9c179e"
            ],
            [
             0.4444444444444444,
             "#bd3786"
            ],
            [
             0.5555555555555556,
             "#d8576b"
            ],
            [
             0.6666666666666666,
             "#ed7953"
            ],
            [
             0.7777777777777778,
             "#fb9f3a"
            ],
            [
             0.8888888888888888,
             "#fdca26"
            ],
            [
             1,
             "#f0f921"
            ]
           ]
          },
          "colorway": [
           "#636efa",
           "#EF553B",
           "#00cc96",
           "#ab63fa",
           "#FFA15A",
           "#19d3f3",
           "#FF6692",
           "#B6E880",
           "#FF97FF",
           "#FECB52"
          ],
          "font": {
           "color": "#2a3f5f"
          },
          "geo": {
           "bgcolor": "white",
           "lakecolor": "white",
           "landcolor": "#E5ECF6",
           "showlakes": true,
           "showland": true,
           "subunitcolor": "white"
          },
          "hoverlabel": {
           "align": "left"
          },
          "hovermode": "closest",
          "mapbox": {
           "style": "light"
          },
          "paper_bgcolor": "white",
          "plot_bgcolor": "#E5ECF6",
          "polar": {
           "angularaxis": {
            "gridcolor": "white",
            "linecolor": "white",
            "ticks": ""
           },
           "bgcolor": "#E5ECF6",
           "radialaxis": {
            "gridcolor": "white",
            "linecolor": "white",
            "ticks": ""
           }
          },
          "scene": {
           "xaxis": {
            "backgroundcolor": "#E5ECF6",
            "gridcolor": "white",
            "gridwidth": 2,
            "linecolor": "white",
            "showbackground": true,
            "ticks": "",
            "zerolinecolor": "white"
           },
           "yaxis": {
            "backgroundcolor": "#E5ECF6",
            "gridcolor": "white",
            "gridwidth": 2,
            "linecolor": "white",
            "showbackground": true,
            "ticks": "",
            "zerolinecolor": "white"
           },
           "zaxis": {
            "backgroundcolor": "#E5ECF6",
            "gridcolor": "white",
            "gridwidth": 2,
            "linecolor": "white",
            "showbackground": true,
            "ticks": "",
            "zerolinecolor": "white"
           }
          },
          "shapedefaults": {
           "line": {
            "color": "#2a3f5f"
           }
          },
          "ternary": {
           "aaxis": {
            "gridcolor": "white",
            "linecolor": "white",
            "ticks": ""
           },
           "baxis": {
            "gridcolor": "white",
            "linecolor": "white",
            "ticks": ""
           },
           "bgcolor": "#E5ECF6",
           "caxis": {
            "gridcolor": "white",
            "linecolor": "white",
            "ticks": ""
           }
          },
          "title": {
           "x": 0.05
          },
          "xaxis": {
           "automargin": true,
           "gridcolor": "white",
           "linecolor": "white",
           "ticks": "",
           "title": {
            "standoff": 15
           },
           "zerolinecolor": "white",
           "zerolinewidth": 2
          },
          "yaxis": {
           "automargin": true,
           "gridcolor": "white",
           "linecolor": "white",
           "ticks": "",
           "title": {
            "standoff": 15
           },
           "zerolinecolor": "white",
           "zerolinewidth": 2
          }
         }
        },
        "title": {
         "x": 0.5,
         "xanchor": "center",
         "y": 0.9,
         "yanchor": "top"
        },
        "xaxis": {
         "tickangle": 45,
         "ticktext": [
          20191223,
          20191227,
          20200102,
          20200107,
          20200110,
          20200115,
          20200121,
          20200124,
          20200129,
          20200203,
          20200206,
          20200211,
          20200214,
          20200220,
          20200225,
          20200228,
          20200304,
          20200309,
          20200312
         ],
         "tickvals": [
          20191223,
          20191227,
          20200102,
          20200107,
          20200110,
          20200115,
          20200121,
          20200124,
          20200129,
          20200203,
          20200206,
          20200211,
          20200214,
          20200220,
          20200225,
          20200228,
          20200304,
          20200309,
          20200312
         ],
         "type": "category"
        },
        "yaxis": {
         "title": {
          "text": "y main"
         }
        },
        "yaxis2": {
         "overlaying": "y",
         "side": "right",
         "title": {
          "text": "y alt"
         }
        }
       }
      },
      "text/html": [
       "<div>\n",
       "        \n",
       "        \n",
       "            <div id=\"21be8979-7ae1-4f85-9730-ac51c8cf7e43\" class=\"plotly-graph-div\" style=\"height:525px; width:100%;\"></div>\n",
       "            <script type=\"text/javascript\">\n",
       "                require([\"plotly\"], function(Plotly) {\n",
       "                    window.PLOTLYENV=window.PLOTLYENV || {};\n",
       "                    \n",
       "                if (document.getElementById(\"21be8979-7ae1-4f85-9730-ac51c8cf7e43\")) {\n",
       "                    Plotly.newPlot(\n",
       "                        '21be8979-7ae1-4f85-9730-ac51c8cf7e43',\n",
       "                        [{\"name\": \"close_y\", \"type\": \"scatter\", \"x\": [20191223, 20191224, 20191226, 20191227, 20191230, 20191231, 20200102, 20200103, 20200106, 20200107, 20200108, 20200109, 20200110, 20200113, 20200114, 20200115, 20200116, 20200117, 20200121, 20200122, 20200123, 20200124, 20200127, 20200128, 20200129, 20200130, 20200131, 20200203, 20200204, 20200205, 20200206, 20200207, 20200210, 20200211, 20200212, 20200213, 20200214, 20200218, 20200219, 20200220, 20200221, 20200224, 20200225, 20200226, 20200227, 20200228, 20200302, 20200303, 20200304, 20200305, 20200306, 20200309, 20200310, 20200311, 20200312, 20200313], \"y\": [3226.0, 3224.25, 3242.75, 3237.75, 3222.5, 3232.0, 3259.0, 3237.5, 3244.75, 3236.5, 3261.25, 3277.0, 3265.75, 3290.5, 3288.75, 3293.25, 3317.5, 3326.25, 3320.5, 3321.0, 3326.75, 3295.25, 3243.0, 3280.75, 3274.75, 3292.0, 3228.0, 3249.25, 3301.75, 3337.5, 3348.0, 3328.0, 3354.25, 3358.75, 3382.75, 3378.25, 3382.5, 3370.5, 3388.5, 3371.5, 3340.0, 3221.0, 3131.0, 3107.5, 2947.0, 2933.5, 3047.75, 2977.5, 3093.0, 2994.0, 2943.25, 2735.75, 2845.75, 2701.25, 2439.0, 2668.25], \"yaxis\": \"y\"}, {\"name\": \"atm_iv\", \"type\": \"scatter\", \"x\": [20191223, 20191224, 20191226, 20191227, 20191230, 20191231, 20200102, 20200103, 20200106, 20200107, 20200108, 20200109, 20200110, 20200113, 20200114, 20200115, 20200116, 20200117, 20200121, 20200122, 20200123, 20200124, 20200127, 20200128, 20200129, 20200130, 20200131, 20200203, 20200204, 20200205, 20200206, 20200207, 20200210, 20200211, 20200212, 20200213, 20200214, 20200218, 20200219, 20200220, 20200221, 20200224, 20200225, 20200226, 20200227, 20200228, 20200302, 20200303, 20200304, 20200305, 20200306, 20200309, 20200310, 20200311, 20200312, 20200313], \"y\": [0.15495454208511408, 0.15517535178502592, 0.15419255616954222, 0.15583577882529162, 0.15964795793302228, 0.15679280116605682, 0.15233498425946365, 0.15668311753853462, 0.15522416279686596, 0.1548794784721009, 0.15132988089352578, 0.14872403279790836, 0.14939883454642852, 0.14663307118600993, 0.1461464000935369, 0.14611481790781702, 0.14406475665910715, 0.14412133068394672, 0.14547113355539026, 0.14697101980212962, 0.14610987602168465, 0.15123847338696722, 0.1598533410365062, 0.1539940749635204, 0.15381973816827155, 0.15046386154304292, 0.15764100465960215, 0.1575623000174647, 0.15025023368355592, 0.14682116920472682, 0.14542618793044926, 0.1491070021018843, 0.14711883001304307, 0.14746596546448917, 0.1440861675547477, 0.1455970286325774, 0.14453428643705715, 0.1467655404357122, 0.14569309689140822, 0.14887547988667466, 0.15496772457750563, 0.17558226377691588, 0.18842659293277741, 0.18861658598364112, 0.2198639034949591, 0.22506309410685066, 0.21075090558344114, 0.22320725295187743, 0.20967661608414856, 0.23859933078840007, 0.26150337143180635, 0.3054098467536789, 0.28009434358800434, 0.31757636055408506, 0.3919666449984285, 0.32595710738232725], \"yaxis\": \"y2\"}],\n",
       "                        {\"margin\": {\"b\": 100}, \"template\": {\"data\": {\"bar\": [{\"error_x\": {\"color\": \"#2a3f5f\"}, \"error_y\": {\"color\": \"#2a3f5f\"}, \"marker\": {\"line\": {\"color\": \"#E5ECF6\", \"width\": 0.5}}, \"type\": \"bar\"}], \"barpolar\": [{\"marker\": {\"line\": {\"color\": \"#E5ECF6\", \"width\": 0.5}}, \"type\": \"barpolar\"}], \"carpet\": [{\"aaxis\": {\"endlinecolor\": \"#2a3f5f\", \"gridcolor\": \"white\", \"linecolor\": \"white\", \"minorgridcolor\": \"white\", \"startlinecolor\": \"#2a3f5f\"}, \"baxis\": {\"endlinecolor\": \"#2a3f5f\", \"gridcolor\": \"white\", \"linecolor\": \"white\", \"minorgridcolor\": \"white\", \"startlinecolor\": \"#2a3f5f\"}, \"type\": \"carpet\"}], \"choropleth\": [{\"colorbar\": {\"outlinewidth\": 0, \"ticks\": \"\"}, \"type\": \"choropleth\"}], \"contour\": [{\"colorbar\": {\"outlinewidth\": 0, \"ticks\": \"\"}, \"colorscale\": [[0.0, \"#0d0887\"], [0.1111111111111111, \"#46039f\"], [0.2222222222222222, \"#7201a8\"], [0.3333333333333333, \"#9c179e\"], [0.4444444444444444, \"#bd3786\"], [0.5555555555555556, \"#d8576b\"], [0.6666666666666666, \"#ed7953\"], [0.7777777777777778, \"#fb9f3a\"], [0.8888888888888888, \"#fdca26\"], [1.0, \"#f0f921\"]], \"type\": \"contour\"}], \"contourcarpet\": [{\"colorbar\": {\"outlinewidth\": 0, \"ticks\": \"\"}, \"type\": \"contourcarpet\"}], \"heatmap\": [{\"colorbar\": {\"outlinewidth\": 0, \"ticks\": \"\"}, \"colorscale\": [[0.0, \"#0d0887\"], [0.1111111111111111, \"#46039f\"], [0.2222222222222222, \"#7201a8\"], [0.3333333333333333, \"#9c179e\"], [0.4444444444444444, \"#bd3786\"], [0.5555555555555556, \"#d8576b\"], [0.6666666666666666, \"#ed7953\"], [0.7777777777777778, \"#fb9f3a\"], [0.8888888888888888, \"#fdca26\"], [1.0, \"#f0f921\"]], \"type\": \"heatmap\"}], \"heatmapgl\": [{\"colorbar\": {\"outlinewidth\": 0, \"ticks\": \"\"}, \"colorscale\": [[0.0, \"#0d0887\"], [0.1111111111111111, \"#46039f\"], [0.2222222222222222, \"#7201a8\"], [0.3333333333333333, \"#9c179e\"], [0.4444444444444444, \"#bd3786\"], [0.5555555555555556, \"#d8576b\"], [0.6666666666666666, \"#ed7953\"], [0.7777777777777778, \"#fb9f3a\"], [0.8888888888888888, \"#fdca26\"], [1.0, \"#f0f921\"]], \"type\": \"heatmapgl\"}], \"histogram\": [{\"marker\": {\"colorbar\": {\"outlinewidth\": 0, \"ticks\": \"\"}}, \"type\": \"histogram\"}], \"histogram2d\": [{\"colorbar\": {\"outlinewidth\": 0, \"ticks\": \"\"}, \"colorscale\": [[0.0, \"#0d0887\"], [0.1111111111111111, \"#46039f\"], [0.2222222222222222, \"#7201a8\"], [0.3333333333333333, \"#9c179e\"], [0.4444444444444444, \"#bd3786\"], [0.5555555555555556, \"#d8576b\"], [0.6666666666666666, \"#ed7953\"], [0.7777777777777778, \"#fb9f3a\"], [0.8888888888888888, \"#fdca26\"], [1.0, \"#f0f921\"]], \"type\": \"histogram2d\"}], \"histogram2dcontour\": [{\"colorbar\": {\"outlinewidth\": 0, \"ticks\": \"\"}, \"colorscale\": [[0.0, \"#0d0887\"], [0.1111111111111111, \"#46039f\"], [0.2222222222222222, \"#7201a8\"], [0.3333333333333333, \"#9c179e\"], [0.4444444444444444, \"#bd3786\"], [0.5555555555555556, \"#d8576b\"], [0.6666666666666666, \"#ed7953\"], [0.7777777777777778, \"#fb9f3a\"], [0.8888888888888888, \"#fdca26\"], [1.0, \"#f0f921\"]], \"type\": \"histogram2dcontour\"}], \"mesh3d\": [{\"colorbar\": {\"outlinewidth\": 0, \"ticks\": \"\"}, \"type\": \"mesh3d\"}], \"parcoords\": [{\"line\": {\"colorbar\": {\"outlinewidth\": 0, \"ticks\": \"\"}}, \"type\": \"parcoords\"}], \"pie\": [{\"automargin\": true, \"type\": \"pie\"}], \"scatter\": [{\"marker\": {\"colorbar\": {\"outlinewidth\": 0, \"ticks\": \"\"}}, \"type\": \"scatter\"}], \"scatter3d\": [{\"line\": {\"colorbar\": {\"outlinewidth\": 0, \"ticks\": \"\"}}, \"marker\": {\"colorbar\": {\"outlinewidth\": 0, \"ticks\": \"\"}}, \"type\": \"scatter3d\"}], \"scattercarpet\": [{\"marker\": {\"colorbar\": {\"outlinewidth\": 0, \"ticks\": \"\"}}, \"type\": \"scattercarpet\"}], \"scattergeo\": [{\"marker\": {\"colorbar\": {\"outlinewidth\": 0, \"ticks\": \"\"}}, \"type\": \"scattergeo\"}], \"scattergl\": [{\"marker\": {\"colorbar\": {\"outlinewidth\": 0, \"ticks\": \"\"}}, \"type\": \"scattergl\"}], \"scattermapbox\": [{\"marker\": {\"colorbar\": {\"outlinewidth\": 0, \"ticks\": \"\"}}, \"type\": \"scattermapbox\"}], \"scatterpolar\": [{\"marker\": {\"colorbar\": {\"outlinewidth\": 0, \"ticks\": \"\"}}, \"type\": \"scatterpolar\"}], \"scatterpolargl\": [{\"marker\": {\"colorbar\": {\"outlinewidth\": 0, \"ticks\": \"\"}}, \"type\": \"scatterpolargl\"}], \"scatterternary\": [{\"marker\": {\"colorbar\": {\"outlinewidth\": 0, \"ticks\": \"\"}}, \"type\": \"scatterternary\"}], \"surface\": [{\"colorbar\": {\"outlinewidth\": 0, \"ticks\": \"\"}, \"colorscale\": [[0.0, \"#0d0887\"], [0.1111111111111111, \"#46039f\"], [0.2222222222222222, \"#7201a8\"], [0.3333333333333333, \"#9c179e\"], [0.4444444444444444, \"#bd3786\"], [0.5555555555555556, \"#d8576b\"], [0.6666666666666666, \"#ed7953\"], [0.7777777777777778, \"#fb9f3a\"], [0.8888888888888888, \"#fdca26\"], [1.0, \"#f0f921\"]], \"type\": \"surface\"}], \"table\": [{\"cells\": {\"fill\": {\"color\": \"#EBF0F8\"}, \"line\": {\"color\": \"white\"}}, \"header\": {\"fill\": {\"color\": \"#C8D4E3\"}, \"line\": {\"color\": \"white\"}}, \"type\": \"table\"}]}, \"layout\": {\"annotationdefaults\": {\"arrowcolor\": \"#2a3f5f\", \"arrowhead\": 0, \"arrowwidth\": 1}, \"coloraxis\": {\"colorbar\": {\"outlinewidth\": 0, \"ticks\": \"\"}}, \"colorscale\": {\"diverging\": [[0, \"#8e0152\"], [0.1, \"#c51b7d\"], [0.2, \"#de77ae\"], [0.3, \"#f1b6da\"], [0.4, \"#fde0ef\"], [0.5, \"#f7f7f7\"], [0.6, \"#e6f5d0\"], [0.7, \"#b8e186\"], [0.8, \"#7fbc41\"], [0.9, \"#4d9221\"], [1, \"#276419\"]], \"sequential\": [[0.0, \"#0d0887\"], [0.1111111111111111, \"#46039f\"], [0.2222222222222222, \"#7201a8\"], [0.3333333333333333, \"#9c179e\"], [0.4444444444444444, \"#bd3786\"], [0.5555555555555556, \"#d8576b\"], [0.6666666666666666, \"#ed7953\"], [0.7777777777777778, \"#fb9f3a\"], [0.8888888888888888, \"#fdca26\"], [1.0, \"#f0f921\"]], \"sequentialminus\": [[0.0, \"#0d0887\"], [0.1111111111111111, \"#46039f\"], [0.2222222222222222, \"#7201a8\"], [0.3333333333333333, \"#9c179e\"], [0.4444444444444444, \"#bd3786\"], [0.5555555555555556, \"#d8576b\"], [0.6666666666666666, \"#ed7953\"], [0.7777777777777778, \"#fb9f3a\"], [0.8888888888888888, \"#fdca26\"], [1.0, \"#f0f921\"]]}, \"colorway\": [\"#636efa\", \"#EF553B\", \"#00cc96\", \"#ab63fa\", \"#FFA15A\", \"#19d3f3\", \"#FF6692\", \"#B6E880\", \"#FF97FF\", \"#FECB52\"], \"font\": {\"color\": \"#2a3f5f\"}, \"geo\": {\"bgcolor\": \"white\", \"lakecolor\": \"white\", \"landcolor\": \"#E5ECF6\", \"showlakes\": true, \"showland\": true, \"subunitcolor\": \"white\"}, \"hoverlabel\": {\"align\": \"left\"}, \"hovermode\": \"closest\", \"mapbox\": {\"style\": \"light\"}, \"paper_bgcolor\": \"white\", \"plot_bgcolor\": \"#E5ECF6\", \"polar\": {\"angularaxis\": {\"gridcolor\": \"white\", \"linecolor\": \"white\", \"ticks\": \"\"}, \"bgcolor\": \"#E5ECF6\", \"radialaxis\": {\"gridcolor\": \"white\", \"linecolor\": \"white\", \"ticks\": \"\"}}, \"scene\": {\"xaxis\": {\"backgroundcolor\": \"#E5ECF6\", \"gridcolor\": \"white\", \"gridwidth\": 2, \"linecolor\": \"white\", \"showbackground\": true, \"ticks\": \"\", \"zerolinecolor\": \"white\"}, \"yaxis\": {\"backgroundcolor\": \"#E5ECF6\", \"gridcolor\": \"white\", \"gridwidth\": 2, \"linecolor\": \"white\", \"showbackground\": true, \"ticks\": \"\", \"zerolinecolor\": \"white\"}, \"zaxis\": {\"backgroundcolor\": \"#E5ECF6\", \"gridcolor\": \"white\", \"gridwidth\": 2, \"linecolor\": \"white\", \"showbackground\": true, \"ticks\": \"\", \"zerolinecolor\": \"white\"}}, \"shapedefaults\": {\"line\": {\"color\": \"#2a3f5f\"}}, \"ternary\": {\"aaxis\": {\"gridcolor\": \"white\", \"linecolor\": \"white\", \"ticks\": \"\"}, \"baxis\": {\"gridcolor\": \"white\", \"linecolor\": \"white\", \"ticks\": \"\"}, \"bgcolor\": \"#E5ECF6\", \"caxis\": {\"gridcolor\": \"white\", \"linecolor\": \"white\", \"ticks\": \"\"}}, \"title\": {\"x\": 0.05}, \"xaxis\": {\"automargin\": true, \"gridcolor\": \"white\", \"linecolor\": \"white\", \"ticks\": \"\", \"title\": {\"standoff\": 15}, \"zerolinecolor\": \"white\", \"zerolinewidth\": 2}, \"yaxis\": {\"automargin\": true, \"gridcolor\": \"white\", \"linecolor\": \"white\", \"ticks\": \"\", \"title\": {\"standoff\": 15}, \"zerolinecolor\": \"white\", \"zerolinewidth\": 2}}}, \"title\": {\"x\": 0.5, \"xanchor\": \"center\", \"y\": 0.9, \"yanchor\": \"top\"}, \"xaxis\": {\"tickangle\": 45, \"ticktext\": [20191223, 20191227, 20200102, 20200107, 20200110, 20200115, 20200121, 20200124, 20200129, 20200203, 20200206, 20200211, 20200214, 20200220, 20200225, 20200228, 20200304, 20200309, 20200312], \"tickvals\": [20191223, 20191227, 20200102, 20200107, 20200110, 20200115, 20200121, 20200124, 20200129, 20200203, 20200206, 20200211, 20200214, 20200220, 20200225, 20200228, 20200304, 20200309, 20200312], \"type\": \"category\"}, \"yaxis\": {\"title\": {\"text\": \"y main\"}}, \"yaxis2\": {\"overlaying\": \"y\", \"side\": \"right\", \"title\": {\"text\": \"y alt\"}}},\n",
       "                        {\"responsive\": true}\n",
       "                    ).then(function(){\n",
       "                            \n",
       "var gd = document.getElementById('21be8979-7ae1-4f85-9730-ac51c8cf7e43');\n",
       "var x = new MutationObserver(function (mutations, observer) {{\n",
       "        var display = window.getComputedStyle(gd).display;\n",
       "        if (!display || display === 'none') {{\n",
       "            console.log([gd, 'removed!']);\n",
       "            Plotly.purge(gd);\n",
       "            observer.disconnect();\n",
       "        }}\n",
       "}});\n",
       "\n",
       "// Listen for the removal of the full notebook cells\n",
       "var notebookContainer = gd.closest('#notebook-container');\n",
       "if (notebookContainer) {{\n",
       "    x.observe(notebookContainer, {childList: true});\n",
       "}}\n",
       "\n",
       "// Listen for the clearing of the current output cell\n",
       "var outputEl = gd.closest('.output');\n",
       "if (outputEl) {{\n",
       "    x.observe(outputEl, {childList: true});\n",
       "}}\n",
       "\n",
       "                        })\n",
       "                };\n",
       "                });\n",
       "            </script>\n",
       "        </div>"
      ]
     },
     "metadata": {},
     "output_type": "display_data"
    }
   ],
   "source": [
    "def get_all_implied_info(symbol,contract_num = 2):\n",
    "    df_implieds = None\n",
    "    df_even_money = None\n",
    "    df_vols = None\n",
    "    ret = {'implieds':df_implieds,'even_money':df_even_money,'vols':df_vols}\n",
    "    commod = symbol[0:2]\n",
    "    strike_div = None if commod not in STRIKE_DIVISORS.keys() else STRIKE_DIVISORS[commod]\n",
    "    df,df_expiry_dates = get_postgres_data(symbol)\n",
    "    if df is None or len(df)<10:\n",
    "        print(f'no data for symbol: {symbol}')\n",
    "        return {'implieds':None,'even_money':None,'vols':None}\n",
    "    df_implieds = get_implieds(df,df_expiry_dates,symbol,contract_num=contract_num)\n",
    "    if df_implieds is not None:\n",
    "        df_ctm_vols = get_closest_to_the_money_vols(df_implieds)\n",
    "        df_even_money = get_even_moneyness_strikes(df_implieds)\n",
    "        df_atm_money = df_even_money[df_even_money.moneyness==0]\n",
    "        df_vols = df_ctm_vols.merge(\n",
    "            df_atm_money[['settle_date','symbol','atm_iv']],\n",
    "            on=['settle_date','symbol'],how='inner')\n",
    "    return {'hist_data':df,'implieds':df_implieds,'even_money':df_even_money,'vols':df_vols}\n",
    "\n",
    "for sym in [c for c in all_contracts2 if int(c[-2:])>=begin_year]:\n",
    "    print(f\"graphing symbol: {sym}\")\n",
    "    commod = sym[0:2]\n",
    "    strike_div = None if commod not in STRIKE_DIVISORS.keys() else STRIKE_DIVISORS[commod]\n",
    "#     df,df_expiry_dates = get_postgres_data(sym)\n",
    "#     if df is None or len(df)<10:\n",
    "#         print(f'no data for symbol: {sym}')\n",
    "#         continue\n",
    "    \n",
    "    try:\n",
    "        d = get_all_implied_info(sym,contract_num=None)\n",
    "    except Exception as e:\n",
    "        print(f'Exception getting implied vols for symbol: {sym}')\n",
    "        print(str(e))\n",
    "        continue\n",
    "    df_implieds = d['implieds']\n",
    "    if df_implieds is None:\n",
    "        print(f'no implied vols for symbol: {sym}')\n",
    "        continue\n",
    "    df_vols = d['vols']\n",
    "    \n",
    "    iplot(plotly_plot(\n",
    "        df_in=df_vols[['settle_date','close_y','atm_iv']],\n",
    "        x_column='settle_date',yaxis2_cols=['atm_iv'],number_of_ticks_display=15)\n",
    "         )    "
   ]
  },
  {
   "cell_type": "markdown",
   "metadata": {},
   "source": [
    "### Options strategy history"
   ]
  },
  {
   "cell_type": "code",
   "execution_count": 287,
   "metadata": {},
   "outputs": [
    {
     "data": {
      "text/plain": [
       "['ESM20_2500_P_-1.0', 'ESZ20_2500_P_1.0']"
      ]
     },
     "execution_count": 287,
     "metadata": {},
     "output_type": "execute_result"
    }
   ],
   "source": [
    "def ot_from_sn(option_short_name):\n",
    "    '''\n",
    "    get OptTrade instance from option_short_name string like 'ESM20_2500_C_-4'\n",
    "    YOU must have at least 'ESM20_2500_C'.  If no quantity, it will be zero.\n",
    "    '''\n",
    "    if option_short_name is None:\n",
    "        return None\n",
    "    parts = option_short_name.split('_')\n",
    "    if len(parts)<3:\n",
    "        return None\n",
    "    sym = parts[0]\n",
    "    strike = parts[1]\n",
    "    pc = parts[2]\n",
    "    qty = 0 if len(parts)<4 else float(str(parts[3]))\n",
    "    return OptTrade(sym,strike,pc,qty)\n",
    "\n",
    "class OptTrade():\n",
    "    def __init__(self,symbol,strike,pc,qty,pga=None):\n",
    "        self.symbol = symbol\n",
    "        self.strike=strike\n",
    "        self.pc = pc.upper()\n",
    "        self. qty = qty\n",
    "    def __str__(self):\n",
    "        return f\"{self.symbol}_{self.strike}_{self.pc}_{self.qty}\"   \n",
    "    def get_postgres_data(self):\n",
    "        df,df_expiry = get_postgres_data(self.symbol)\n",
    "        if df is None or len(df)<1:\n",
    "            return None\n",
    "        df = df[df.pc.str.lower()==self.pc.lower()]\n",
    "        df = df[df.strike.astype(float).round(5)==round(float(str(self.strike)),5)]\n",
    "        df.index = list(range(len(df)))\n",
    "        return df\n",
    "    def get_implied_info(self,contract_num=2):\n",
    "        return get_all_implied_info(self.symbol,contract_num=contract_num)\n",
    "\n",
    "legs = ['ESM20_2500_P_-1','ESZ20_2500_P_1']\n",
    "ot_legs = [ot_from_sn(leg) for leg in legs]\n",
    "[str(ot_leg) for ot_leg in ot_legs]\n",
    "\n"
   ]
  },
  {
   "cell_type": "code",
   "execution_count": 280,
   "metadata": {},
   "outputs": [],
   "source": [
    "df_leg0_even_money = ot_legs[0].get_implied_info(contract_num=None)['even_money']\n",
    "df_leg1_even_money = ot_legs[1].get_implied_info(contract_num=None)['even_money']\n"
   ]
  },
  {
   "cell_type": "code",
   "execution_count": 282,
   "metadata": {},
   "outputs": [
    {
     "data": {
      "text/html": [
       "<div>\n",
       "<style scoped>\n",
       "    .dataframe tbody tr th:only-of-type {\n",
       "        vertical-align: middle;\n",
       "    }\n",
       "\n",
       "    .dataframe tbody tr th {\n",
       "        vertical-align: top;\n",
       "    }\n",
       "\n",
       "    .dataframe thead th {\n",
       "        text-align: right;\n",
       "    }\n",
       "</style>\n",
       "<table border=\"1\" class=\"dataframe\">\n",
       "  <thead>\n",
       "    <tr style=\"text-align: right;\">\n",
       "      <th></th>\n",
       "      <th>settle_date</th>\n",
       "      <th>symbol</th>\n",
       "      <th>moneyness</th>\n",
       "      <th>close_y</th>\n",
       "      <th>contract_num</th>\n",
       "      <th>dte</th>\n",
       "      <th>vol_skew</th>\n",
       "      <th>iv</th>\n",
       "      <th>strike</th>\n",
       "      <th>atm_iv</th>\n",
       "    </tr>\n",
       "  </thead>\n",
       "  <tbody>\n",
       "    <tr>\n",
       "      <th>0</th>\n",
       "      <td>20190624</td>\n",
       "      <td>ESM20</td>\n",
       "      <td>-0.30</td>\n",
       "      <td>2958.0</td>\n",
       "      <td>4</td>\n",
       "      <td>361</td>\n",
       "      <td>0.1011</td>\n",
       "      <td>0.250625</td>\n",
       "      <td>2070.6</td>\n",
       "      <td>0.149553</td>\n",
       "    </tr>\n",
       "    <tr>\n",
       "      <th>1</th>\n",
       "      <td>20190624</td>\n",
       "      <td>ESM20</td>\n",
       "      <td>-0.25</td>\n",
       "      <td>2958.0</td>\n",
       "      <td>4</td>\n",
       "      <td>361</td>\n",
       "      <td>0.0847</td>\n",
       "      <td>0.234281</td>\n",
       "      <td>2218.5</td>\n",
       "      <td>0.149553</td>\n",
       "    </tr>\n",
       "    <tr>\n",
       "      <th>2</th>\n",
       "      <td>20190624</td>\n",
       "      <td>ESM20</td>\n",
       "      <td>-0.20</td>\n",
       "      <td>2958.0</td>\n",
       "      <td>4</td>\n",
       "      <td>361</td>\n",
       "      <td>0.0691</td>\n",
       "      <td>0.218637</td>\n",
       "      <td>2366.4</td>\n",
       "      <td>0.149553</td>\n",
       "    </tr>\n",
       "    <tr>\n",
       "      <th>3</th>\n",
       "      <td>20190624</td>\n",
       "      <td>ESM20</td>\n",
       "      <td>-0.15</td>\n",
       "      <td>2958.0</td>\n",
       "      <td>4</td>\n",
       "      <td>361</td>\n",
       "      <td>0.0527</td>\n",
       "      <td>0.202282</td>\n",
       "      <td>2514.3</td>\n",
       "      <td>0.149553</td>\n",
       "    </tr>\n",
       "    <tr>\n",
       "      <th>4</th>\n",
       "      <td>20190624</td>\n",
       "      <td>ESM20</td>\n",
       "      <td>-0.10</td>\n",
       "      <td>2958.0</td>\n",
       "      <td>4</td>\n",
       "      <td>361</td>\n",
       "      <td>0.0362</td>\n",
       "      <td>0.185734</td>\n",
       "      <td>2662.2</td>\n",
       "      <td>0.149553</td>\n",
       "    </tr>\n",
       "    <tr>\n",
       "      <th>...</th>\n",
       "      <td>...</td>\n",
       "      <td>...</td>\n",
       "      <td>...</td>\n",
       "      <td>...</td>\n",
       "      <td>...</td>\n",
       "      <td>...</td>\n",
       "      <td>...</td>\n",
       "      <td>...</td>\n",
       "      <td>...</td>\n",
       "      <td>...</td>\n",
       "    </tr>\n",
       "    <tr>\n",
       "      <th>2312</th>\n",
       "      <td>20200313</td>\n",
       "      <td>ESM20</td>\n",
       "      <td>0.15</td>\n",
       "      <td>2684.0</td>\n",
       "      <td>2</td>\n",
       "      <td>98</td>\n",
       "      <td>-0.1616</td>\n",
       "      <td>0.277830</td>\n",
       "      <td>3086.6</td>\n",
       "      <td>0.439418</td>\n",
       "    </tr>\n",
       "    <tr>\n",
       "      <th>2313</th>\n",
       "      <td>20200313</td>\n",
       "      <td>ESM20</td>\n",
       "      <td>0.20</td>\n",
       "      <td>2684.0</td>\n",
       "      <td>2</td>\n",
       "      <td>98</td>\n",
       "      <td>-0.1950</td>\n",
       "      <td>0.244388</td>\n",
       "      <td>3220.8</td>\n",
       "      <td>0.439418</td>\n",
       "    </tr>\n",
       "    <tr>\n",
       "      <th>2314</th>\n",
       "      <td>20200313</td>\n",
       "      <td>ESM20</td>\n",
       "      <td>0.25</td>\n",
       "      <td>2684.0</td>\n",
       "      <td>2</td>\n",
       "      <td>98</td>\n",
       "      <td>-0.1974</td>\n",
       "      <td>0.242016</td>\n",
       "      <td>3355.0</td>\n",
       "      <td>0.439418</td>\n",
       "    </tr>\n",
       "    <tr>\n",
       "      <th>2315</th>\n",
       "      <td>20200313</td>\n",
       "      <td>ESM20</td>\n",
       "      <td>0.30</td>\n",
       "      <td>2684.0</td>\n",
       "      <td>2</td>\n",
       "      <td>98</td>\n",
       "      <td>-0.1877</td>\n",
       "      <td>0.251713</td>\n",
       "      <td>3489.2</td>\n",
       "      <td>0.439418</td>\n",
       "    </tr>\n",
       "    <tr>\n",
       "      <th>2316</th>\n",
       "      <td>20200313</td>\n",
       "      <td>ESM20</td>\n",
       "      <td>0.35</td>\n",
       "      <td>2684.0</td>\n",
       "      <td>2</td>\n",
       "      <td>98</td>\n",
       "      <td>-0.1836</td>\n",
       "      <td>0.255800</td>\n",
       "      <td>3623.4</td>\n",
       "      <td>0.439418</td>\n",
       "    </tr>\n",
       "  </tbody>\n",
       "</table>\n",
       "<p>2317 rows × 10 columns</p>\n",
       "</div>"
      ],
      "text/plain": [
       "      settle_date symbol  moneyness  close_y  contract_num  dte  vol_skew  \\\n",
       "0        20190624  ESM20      -0.30   2958.0             4  361    0.1011   \n",
       "1        20190624  ESM20      -0.25   2958.0             4  361    0.0847   \n",
       "2        20190624  ESM20      -0.20   2958.0             4  361    0.0691   \n",
       "3        20190624  ESM20      -0.15   2958.0             4  361    0.0527   \n",
       "4        20190624  ESM20      -0.10   2958.0             4  361    0.0362   \n",
       "...           ...    ...        ...      ...           ...  ...       ...   \n",
       "2312     20200313  ESM20       0.15   2684.0             2   98   -0.1616   \n",
       "2313     20200313  ESM20       0.20   2684.0             2   98   -0.1950   \n",
       "2314     20200313  ESM20       0.25   2684.0             2   98   -0.1974   \n",
       "2315     20200313  ESM20       0.30   2684.0             2   98   -0.1877   \n",
       "2316     20200313  ESM20       0.35   2684.0             2   98   -0.1836   \n",
       "\n",
       "            iv  strike    atm_iv  \n",
       "0     0.250625  2070.6  0.149553  \n",
       "1     0.234281  2218.5  0.149553  \n",
       "2     0.218637  2366.4  0.149553  \n",
       "3     0.202282  2514.3  0.149553  \n",
       "4     0.185734  2662.2  0.149553  \n",
       "...        ...     ...       ...  \n",
       "2312  0.277830  3086.6  0.439418  \n",
       "2313  0.244388  3220.8  0.439418  \n",
       "2314  0.242016  3355.0  0.439418  \n",
       "2315  0.251713  3489.2  0.439418  \n",
       "2316  0.255800  3623.4  0.439418  \n",
       "\n",
       "[2317 rows x 10 columns]"
      ]
     },
     "execution_count": 282,
     "metadata": {},
     "output_type": "execute_result"
    }
   ],
   "source": [
    "df_leg0_even_money"
   ]
  },
  {
   "cell_type": "code",
   "execution_count": null,
   "metadata": {},
   "outputs": [],
   "source": []
  },
  {
   "cell_type": "code",
   "execution_count": null,
   "metadata": {},
   "outputs": [],
   "source": []
  },
  {
   "cell_type": "code",
   "execution_count": 279,
   "metadata": {
    "scrolled": true
   },
   "outputs": [
    {
     "data": {
      "text/html": [
       "<div>\n",
       "<style scoped>\n",
       "    .dataframe tbody tr th:only-of-type {\n",
       "        vertical-align: middle;\n",
       "    }\n",
       "\n",
       "    .dataframe tbody tr th {\n",
       "        vertical-align: top;\n",
       "    }\n",
       "\n",
       "    .dataframe thead th {\n",
       "        text-align: right;\n",
       "    }\n",
       "</style>\n",
       "<table border=\"1\" class=\"dataframe\">\n",
       "  <thead>\n",
       "    <tr style=\"text-align: right;\">\n",
       "      <th></th>\n",
       "      <th>settle_date</th>\n",
       "      <th>moneyness</th>\n",
       "      <th>optprice_leg0</th>\n",
       "      <th>optprice_leg1</th>\n",
       "      <th>optprice_spread</th>\n",
       "    </tr>\n",
       "  </thead>\n",
       "  <tbody>\n",
       "    <tr>\n",
       "      <th>3</th>\n",
       "      <td>20191223</td>\n",
       "      <td>-0.15</td>\n",
       "      <td>31.886741</td>\n",
       "      <td>75.305024</td>\n",
       "      <td>43.418283</td>\n",
       "    </tr>\n",
       "    <tr>\n",
       "      <th>15</th>\n",
       "      <td>20191224</td>\n",
       "      <td>-0.15</td>\n",
       "      <td>31.526492</td>\n",
       "      <td>75.378477</td>\n",
       "      <td>43.851986</td>\n",
       "    </tr>\n",
       "    <tr>\n",
       "      <th>27</th>\n",
       "      <td>20191226</td>\n",
       "      <td>-0.15</td>\n",
       "      <td>30.416339</td>\n",
       "      <td>74.398836</td>\n",
       "      <td>43.982497</td>\n",
       "    </tr>\n",
       "    <tr>\n",
       "      <th>39</th>\n",
       "      <td>20191227</td>\n",
       "      <td>-0.15</td>\n",
       "      <td>31.518467</td>\n",
       "      <td>75.433538</td>\n",
       "      <td>43.915071</td>\n",
       "    </tr>\n",
       "    <tr>\n",
       "      <th>51</th>\n",
       "      <td>20191230</td>\n",
       "      <td>-0.15</td>\n",
       "      <td>32.315385</td>\n",
       "      <td>77.476021</td>\n",
       "      <td>45.160636</td>\n",
       "    </tr>\n",
       "    <tr>\n",
       "      <th>63</th>\n",
       "      <td>20191231</td>\n",
       "      <td>-0.15</td>\n",
       "      <td>30.218630</td>\n",
       "      <td>74.865965</td>\n",
       "      <td>44.647335</td>\n",
       "    </tr>\n",
       "    <tr>\n",
       "      <th>75</th>\n",
       "      <td>20200102</td>\n",
       "      <td>-0.15</td>\n",
       "      <td>27.821272</td>\n",
       "      <td>71.997851</td>\n",
       "      <td>44.176579</td>\n",
       "    </tr>\n",
       "    <tr>\n",
       "      <th>87</th>\n",
       "      <td>20200103</td>\n",
       "      <td>-0.15</td>\n",
       "      <td>29.814738</td>\n",
       "      <td>74.406374</td>\n",
       "      <td>44.591636</td>\n",
       "    </tr>\n",
       "    <tr>\n",
       "      <th>99</th>\n",
       "      <td>20200106</td>\n",
       "      <td>-0.15</td>\n",
       "      <td>28.765809</td>\n",
       "      <td>73.606171</td>\n",
       "      <td>44.840361</td>\n",
       "    </tr>\n",
       "    <tr>\n",
       "      <th>111</th>\n",
       "      <td>20200107</td>\n",
       "      <td>-0.15</td>\n",
       "      <td>28.550489</td>\n",
       "      <td>72.221009</td>\n",
       "      <td>43.670520</td>\n",
       "    </tr>\n",
       "    <tr>\n",
       "      <th>123</th>\n",
       "      <td>20200108</td>\n",
       "      <td>-0.15</td>\n",
       "      <td>26.928905</td>\n",
       "      <td>70.164292</td>\n",
       "      <td>43.235387</td>\n",
       "    </tr>\n",
       "    <tr>\n",
       "      <th>135</th>\n",
       "      <td>20200109</td>\n",
       "      <td>-0.15</td>\n",
       "      <td>25.679882</td>\n",
       "      <td>68.113179</td>\n",
       "      <td>42.433296</td>\n",
       "    </tr>\n",
       "    <tr>\n",
       "      <th>147</th>\n",
       "      <td>20200110</td>\n",
       "      <td>-0.15</td>\n",
       "      <td>25.091583</td>\n",
       "      <td>67.945563</td>\n",
       "      <td>42.853981</td>\n",
       "    </tr>\n",
       "    <tr>\n",
       "      <th>159</th>\n",
       "      <td>20200113</td>\n",
       "      <td>-0.15</td>\n",
       "      <td>23.784730</td>\n",
       "      <td>66.296899</td>\n",
       "      <td>42.512169</td>\n",
       "    </tr>\n",
       "    <tr>\n",
       "      <th>171</th>\n",
       "      <td>20200114</td>\n",
       "      <td>-0.15</td>\n",
       "      <td>23.178730</td>\n",
       "      <td>65.387200</td>\n",
       "      <td>42.208470</td>\n",
       "    </tr>\n",
       "    <tr>\n",
       "      <th>183</th>\n",
       "      <td>20200115</td>\n",
       "      <td>-0.15</td>\n",
       "      <td>22.804793</td>\n",
       "      <td>65.213434</td>\n",
       "      <td>42.408641</td>\n",
       "    </tr>\n",
       "    <tr>\n",
       "      <th>195</th>\n",
       "      <td>20200116</td>\n",
       "      <td>-0.15</td>\n",
       "      <td>21.998729</td>\n",
       "      <td>63.799799</td>\n",
       "      <td>41.801071</td>\n",
       "    </tr>\n",
       "    <tr>\n",
       "      <th>207</th>\n",
       "      <td>20200117</td>\n",
       "      <td>-0.15</td>\n",
       "      <td>21.770777</td>\n",
       "      <td>63.295270</td>\n",
       "      <td>41.524494</td>\n",
       "    </tr>\n",
       "    <tr>\n",
       "      <th>219</th>\n",
       "      <td>20200121</td>\n",
       "      <td>-0.15</td>\n",
       "      <td>21.961646</td>\n",
       "      <td>63.239153</td>\n",
       "      <td>41.277507</td>\n",
       "    </tr>\n",
       "    <tr>\n",
       "      <th>231</th>\n",
       "      <td>20200122</td>\n",
       "      <td>-0.15</td>\n",
       "      <td>22.226622</td>\n",
       "      <td>64.046273</td>\n",
       "      <td>41.819651</td>\n",
       "    </tr>\n",
       "    <tr>\n",
       "      <th>243</th>\n",
       "      <td>20200123</td>\n",
       "      <td>-0.15</td>\n",
       "      <td>22.343385</td>\n",
       "      <td>63.389238</td>\n",
       "      <td>41.045853</td>\n",
       "    </tr>\n",
       "    <tr>\n",
       "      <th>255</th>\n",
       "      <td>20200124</td>\n",
       "      <td>-0.15</td>\n",
       "      <td>24.283471</td>\n",
       "      <td>66.700610</td>\n",
       "      <td>42.417140</td>\n",
       "    </tr>\n",
       "    <tr>\n",
       "      <th>267</th>\n",
       "      <td>20200127</td>\n",
       "      <td>-0.15</td>\n",
       "      <td>28.576592</td>\n",
       "      <td>71.337987</td>\n",
       "      <td>42.761395</td>\n",
       "    </tr>\n",
       "    <tr>\n",
       "      <th>279</th>\n",
       "      <td>20200128</td>\n",
       "      <td>-0.15</td>\n",
       "      <td>25.766214</td>\n",
       "      <td>68.000133</td>\n",
       "      <td>42.233919</td>\n",
       "    </tr>\n",
       "    <tr>\n",
       "      <th>291</th>\n",
       "      <td>20200129</td>\n",
       "      <td>-0.15</td>\n",
       "      <td>25.222950</td>\n",
       "      <td>67.483559</td>\n",
       "      <td>42.260609</td>\n",
       "    </tr>\n",
       "    <tr>\n",
       "      <th>303</th>\n",
       "      <td>20200130</td>\n",
       "      <td>-0.15</td>\n",
       "      <td>23.749707</td>\n",
       "      <td>65.558805</td>\n",
       "      <td>41.809098</td>\n",
       "    </tr>\n",
       "    <tr>\n",
       "      <th>315</th>\n",
       "      <td>20200131</td>\n",
       "      <td>-0.15</td>\n",
       "      <td>28.285684</td>\n",
       "      <td>71.147009</td>\n",
       "      <td>42.861325</td>\n",
       "    </tr>\n",
       "    <tr>\n",
       "      <th>328</th>\n",
       "      <td>20200203</td>\n",
       "      <td>-0.15</td>\n",
       "      <td>25.947997</td>\n",
       "      <td>68.624918</td>\n",
       "      <td>42.676920</td>\n",
       "    </tr>\n",
       "    <tr>\n",
       "      <th>340</th>\n",
       "      <td>20200204</td>\n",
       "      <td>-0.15</td>\n",
       "      <td>22.143008</td>\n",
       "      <td>63.474311</td>\n",
       "      <td>41.331303</td>\n",
       "    </tr>\n",
       "    <tr>\n",
       "      <th>352</th>\n",
       "      <td>20200205</td>\n",
       "      <td>-0.15</td>\n",
       "      <td>20.873307</td>\n",
       "      <td>61.858470</td>\n",
       "      <td>40.985162</td>\n",
       "    </tr>\n",
       "    <tr>\n",
       "      <th>364</th>\n",
       "      <td>20200206</td>\n",
       "      <td>-0.15</td>\n",
       "      <td>20.530529</td>\n",
       "      <td>61.189389</td>\n",
       "      <td>40.658859</td>\n",
       "    </tr>\n",
       "    <tr>\n",
       "      <th>376</th>\n",
       "      <td>20200207</td>\n",
       "      <td>-0.15</td>\n",
       "      <td>21.280863</td>\n",
       "      <td>62.959844</td>\n",
       "      <td>41.678981</td>\n",
       "    </tr>\n",
       "    <tr>\n",
       "      <th>388</th>\n",
       "      <td>20200210</td>\n",
       "      <td>-0.15</td>\n",
       "      <td>20.541987</td>\n",
       "      <td>61.701138</td>\n",
       "      <td>41.159151</td>\n",
       "    </tr>\n",
       "    <tr>\n",
       "      <th>400</th>\n",
       "      <td>20200211</td>\n",
       "      <td>-0.15</td>\n",
       "      <td>20.321691</td>\n",
       "      <td>61.415636</td>\n",
       "      <td>41.093945</td>\n",
       "    </tr>\n",
       "    <tr>\n",
       "      <th>413</th>\n",
       "      <td>20200212</td>\n",
       "      <td>-0.15</td>\n",
       "      <td>18.571418</td>\n",
       "      <td>59.920459</td>\n",
       "      <td>41.349041</td>\n",
       "    </tr>\n",
       "    <tr>\n",
       "      <th>426</th>\n",
       "      <td>20200213</td>\n",
       "      <td>-0.15</td>\n",
       "      <td>19.356881</td>\n",
       "      <td>60.907389</td>\n",
       "      <td>41.550508</td>\n",
       "    </tr>\n",
       "    <tr>\n",
       "      <th>439</th>\n",
       "      <td>20200214</td>\n",
       "      <td>-0.15</td>\n",
       "      <td>18.603138</td>\n",
       "      <td>60.454074</td>\n",
       "      <td>41.850937</td>\n",
       "    </tr>\n",
       "    <tr>\n",
       "      <th>452</th>\n",
       "      <td>20200218</td>\n",
       "      <td>-0.15</td>\n",
       "      <td>18.959137</td>\n",
       "      <td>61.547252</td>\n",
       "      <td>42.588115</td>\n",
       "    </tr>\n",
       "    <tr>\n",
       "      <th>465</th>\n",
       "      <td>20200219</td>\n",
       "      <td>-0.15</td>\n",
       "      <td>18.273580</td>\n",
       "      <td>60.720446</td>\n",
       "      <td>42.446866</td>\n",
       "    </tr>\n",
       "    <tr>\n",
       "      <th>477</th>\n",
       "      <td>20200220</td>\n",
       "      <td>-0.15</td>\n",
       "      <td>19.590048</td>\n",
       "      <td>63.201380</td>\n",
       "      <td>43.611332</td>\n",
       "    </tr>\n",
       "    <tr>\n",
       "      <th>490</th>\n",
       "      <td>20200221</td>\n",
       "      <td>-0.15</td>\n",
       "      <td>21.422455</td>\n",
       "      <td>66.328203</td>\n",
       "      <td>44.905747</td>\n",
       "    </tr>\n",
       "    <tr>\n",
       "      <th>503</th>\n",
       "      <td>20200224</td>\n",
       "      <td>-0.15</td>\n",
       "      <td>30.730924</td>\n",
       "      <td>77.168973</td>\n",
       "      <td>46.438049</td>\n",
       "    </tr>\n",
       "    <tr>\n",
       "      <th>517</th>\n",
       "      <td>20200225</td>\n",
       "      <td>-0.15</td>\n",
       "      <td>32.982017</td>\n",
       "      <td>80.627113</td>\n",
       "      <td>47.645096</td>\n",
       "    </tr>\n",
       "    <tr>\n",
       "      <th>531</th>\n",
       "      <td>20200226</td>\n",
       "      <td>-0.15</td>\n",
       "      <td>31.810166</td>\n",
       "      <td>80.700841</td>\n",
       "      <td>48.890675</td>\n",
       "    </tr>\n",
       "    <tr>\n",
       "      <th>545</th>\n",
       "      <td>20200227</td>\n",
       "      <td>-0.15</td>\n",
       "      <td>49.445047</td>\n",
       "      <td>94.973360</td>\n",
       "      <td>45.528313</td>\n",
       "    </tr>\n",
       "    <tr>\n",
       "      <th>559</th>\n",
       "      <td>20200228</td>\n",
       "      <td>-0.15</td>\n",
       "      <td>58.412058</td>\n",
       "      <td>103.183754</td>\n",
       "      <td>44.771695</td>\n",
       "    </tr>\n",
       "    <tr>\n",
       "      <th>573</th>\n",
       "      <td>20200302</td>\n",
       "      <td>-0.15</td>\n",
       "      <td>48.166439</td>\n",
       "      <td>93.703342</td>\n",
       "      <td>45.536902</td>\n",
       "    </tr>\n",
       "    <tr>\n",
       "      <th>587</th>\n",
       "      <td>20200303</td>\n",
       "      <td>-0.15</td>\n",
       "      <td>54.271712</td>\n",
       "      <td>98.689250</td>\n",
       "      <td>44.417537</td>\n",
       "    </tr>\n",
       "    <tr>\n",
       "      <th>601</th>\n",
       "      <td>20200304</td>\n",
       "      <td>-0.15</td>\n",
       "      <td>47.931658</td>\n",
       "      <td>96.682397</td>\n",
       "      <td>48.750739</td>\n",
       "    </tr>\n",
       "    <tr>\n",
       "      <th>615</th>\n",
       "      <td>20200305</td>\n",
       "      <td>-0.15</td>\n",
       "      <td>65.919006</td>\n",
       "      <td>116.588766</td>\n",
       "      <td>50.669760</td>\n",
       "    </tr>\n",
       "    <tr>\n",
       "      <th>629</th>\n",
       "      <td>20200306</td>\n",
       "      <td>-0.15</td>\n",
       "      <td>75.228045</td>\n",
       "      <td>129.685944</td>\n",
       "      <td>54.457899</td>\n",
       "    </tr>\n",
       "    <tr>\n",
       "      <th>643</th>\n",
       "      <td>20200309</td>\n",
       "      <td>-0.15</td>\n",
       "      <td>97.011539</td>\n",
       "      <td>149.403498</td>\n",
       "      <td>52.391959</td>\n",
       "    </tr>\n",
       "    <tr>\n",
       "      <th>657</th>\n",
       "      <td>20200310</td>\n",
       "      <td>-0.15</td>\n",
       "      <td>89.072472</td>\n",
       "      <td>146.761938</td>\n",
       "      <td>57.689466</td>\n",
       "    </tr>\n",
       "    <tr>\n",
       "      <th>671</th>\n",
       "      <td>20200311</td>\n",
       "      <td>-0.15</td>\n",
       "      <td>100.789484</td>\n",
       "      <td>158.023478</td>\n",
       "      <td>57.233994</td>\n",
       "    </tr>\n",
       "    <tr>\n",
       "      <th>684</th>\n",
       "      <td>20200312</td>\n",
       "      <td>-0.15</td>\n",
       "      <td>137.286298</td>\n",
       "      <td>194.212090</td>\n",
       "      <td>56.925792</td>\n",
       "    </tr>\n",
       "    <tr>\n",
       "      <th>698</th>\n",
       "      <td>20200313</td>\n",
       "      <td>-0.15</td>\n",
       "      <td>115.969702</td>\n",
       "      <td>170.819058</td>\n",
       "      <td>54.849355</td>\n",
       "    </tr>\n",
       "  </tbody>\n",
       "</table>\n",
       "</div>"
      ],
      "text/plain": [
       "     settle_date  moneyness  optprice_leg0  optprice_leg1  optprice_spread\n",
       "3       20191223      -0.15      31.886741      75.305024        43.418283\n",
       "15      20191224      -0.15      31.526492      75.378477        43.851986\n",
       "27      20191226      -0.15      30.416339      74.398836        43.982497\n",
       "39      20191227      -0.15      31.518467      75.433538        43.915071\n",
       "51      20191230      -0.15      32.315385      77.476021        45.160636\n",
       "63      20191231      -0.15      30.218630      74.865965        44.647335\n",
       "75      20200102      -0.15      27.821272      71.997851        44.176579\n",
       "87      20200103      -0.15      29.814738      74.406374        44.591636\n",
       "99      20200106      -0.15      28.765809      73.606171        44.840361\n",
       "111     20200107      -0.15      28.550489      72.221009        43.670520\n",
       "123     20200108      -0.15      26.928905      70.164292        43.235387\n",
       "135     20200109      -0.15      25.679882      68.113179        42.433296\n",
       "147     20200110      -0.15      25.091583      67.945563        42.853981\n",
       "159     20200113      -0.15      23.784730      66.296899        42.512169\n",
       "171     20200114      -0.15      23.178730      65.387200        42.208470\n",
       "183     20200115      -0.15      22.804793      65.213434        42.408641\n",
       "195     20200116      -0.15      21.998729      63.799799        41.801071\n",
       "207     20200117      -0.15      21.770777      63.295270        41.524494\n",
       "219     20200121      -0.15      21.961646      63.239153        41.277507\n",
       "231     20200122      -0.15      22.226622      64.046273        41.819651\n",
       "243     20200123      -0.15      22.343385      63.389238        41.045853\n",
       "255     20200124      -0.15      24.283471      66.700610        42.417140\n",
       "267     20200127      -0.15      28.576592      71.337987        42.761395\n",
       "279     20200128      -0.15      25.766214      68.000133        42.233919\n",
       "291     20200129      -0.15      25.222950      67.483559        42.260609\n",
       "303     20200130      -0.15      23.749707      65.558805        41.809098\n",
       "315     20200131      -0.15      28.285684      71.147009        42.861325\n",
       "328     20200203      -0.15      25.947997      68.624918        42.676920\n",
       "340     20200204      -0.15      22.143008      63.474311        41.331303\n",
       "352     20200205      -0.15      20.873307      61.858470        40.985162\n",
       "364     20200206      -0.15      20.530529      61.189389        40.658859\n",
       "376     20200207      -0.15      21.280863      62.959844        41.678981\n",
       "388     20200210      -0.15      20.541987      61.701138        41.159151\n",
       "400     20200211      -0.15      20.321691      61.415636        41.093945\n",
       "413     20200212      -0.15      18.571418      59.920459        41.349041\n",
       "426     20200213      -0.15      19.356881      60.907389        41.550508\n",
       "439     20200214      -0.15      18.603138      60.454074        41.850937\n",
       "452     20200218      -0.15      18.959137      61.547252        42.588115\n",
       "465     20200219      -0.15      18.273580      60.720446        42.446866\n",
       "477     20200220      -0.15      19.590048      63.201380        43.611332\n",
       "490     20200221      -0.15      21.422455      66.328203        44.905747\n",
       "503     20200224      -0.15      30.730924      77.168973        46.438049\n",
       "517     20200225      -0.15      32.982017      80.627113        47.645096\n",
       "531     20200226      -0.15      31.810166      80.700841        48.890675\n",
       "545     20200227      -0.15      49.445047      94.973360        45.528313\n",
       "559     20200228      -0.15      58.412058     103.183754        44.771695\n",
       "573     20200302      -0.15      48.166439      93.703342        45.536902\n",
       "587     20200303      -0.15      54.271712      98.689250        44.417537\n",
       "601     20200304      -0.15      47.931658      96.682397        48.750739\n",
       "615     20200305      -0.15      65.919006     116.588766        50.669760\n",
       "629     20200306      -0.15      75.228045     129.685944        54.457899\n",
       "643     20200309      -0.15      97.011539     149.403498        52.391959\n",
       "657     20200310      -0.15      89.072472     146.761938        57.689466\n",
       "671     20200311      -0.15     100.789484     158.023478        57.233994\n",
       "684     20200312      -0.15     137.286298     194.212090        56.925792\n",
       "698     20200313      -0.15     115.969702     170.819058        54.849355"
      ]
     },
     "execution_count": 279,
     "metadata": {},
     "output_type": "execute_result"
    }
   ],
   "source": [
    "def _black(r):\n",
    "    flag = 'p' if r.moneyness < 0 else 'c'\n",
    "    F = r.close_y\n",
    "    K = r.strike\n",
    "    t = r.dte/365\n",
    "    rate = .015\n",
    "    sigma = r.atm_iv + r.vol_skew\n",
    "    return black.black(flag, F, K, t, rate, sigma)\n",
    "df_leg0_even_money2 = df_leg0_even_money.copy()\n",
    "df_leg0_even_money2['optprice_leg0'] = df_leg0_even_money2.apply(_black,axis=1)\n",
    "\n",
    "df_leg1_even_money2 = df_leg1_even_money.copy()\n",
    "df_leg1_even_money2['optprice_leg1'] = df_leg1_even_money2.apply(_black,axis=1)\n",
    "both_merge_cols = ['settle_date','moneyness']\n",
    "df_leg0_even_money2 = df_leg0_even_money2[both_merge_cols + ['optprice_leg0']]\n",
    "df_leg1_even_money2 = df_leg1_even_money2[both_merge_cols + ['optprice_leg1']]\n",
    "df_both_legs = df_leg0_even_money2.merge(df_leg1_even_money2,on=both_merge_cols,how='inner')\n",
    "df_both_legs['optprice_spread'] = df_both_legs.optprice_leg1 - df_both_legs.optprice_leg0\n",
    "df_both_legs[df_both_legs.moneyness==-.15]"
   ]
  },
  {
   "cell_type": "markdown",
   "metadata": {},
   "source": [
    "### Create strategy example from ot_legs above"
   ]
  },
  {
   "cell_type": "code",
   "execution_count": 73,
   "metadata": {},
   "outputs": [
    {
     "data": {
      "text/html": [
       "<div>\n",
       "<style scoped>\n",
       "    .dataframe tbody tr th:only-of-type {\n",
       "        vertical-align: middle;\n",
       "    }\n",
       "\n",
       "    .dataframe tbody tr th {\n",
       "        vertical-align: top;\n",
       "    }\n",
       "\n",
       "    .dataframe thead th {\n",
       "        text-align: right;\n",
       "    }\n",
       "</style>\n",
       "<table border=\"1\" class=\"dataframe\">\n",
       "  <thead>\n",
       "    <tr style=\"text-align: right;\">\n",
       "      <th></th>\n",
       "      <th>symbol</th>\n",
       "      <th>strike</th>\n",
       "      <th>pc</th>\n",
       "      <th>settle_date</th>\n",
       "      <th>open_x</th>\n",
       "      <th>high_x</th>\n",
       "      <th>low_x</th>\n",
       "      <th>close_x</th>\n",
       "      <th>adj_close_x</th>\n",
       "      <th>volume_x</th>\n",
       "      <th>open_interest_x</th>\n",
       "      <th>u_symbol</th>\n",
       "      <th>contract_num</th>\n",
       "      <th>open_y</th>\n",
       "      <th>high_y</th>\n",
       "      <th>low_y</th>\n",
       "      <th>close_y</th>\n",
       "      <th>adj_close_y</th>\n",
       "      <th>volume_y</th>\n",
       "      <th>open_interest_y</th>\n",
       "    </tr>\n",
       "  </thead>\n",
       "  <tbody>\n",
       "    <tr>\n",
       "      <th>0</th>\n",
       "      <td>ESM20</td>\n",
       "      <td>2500.0</td>\n",
       "      <td>P</td>\n",
       "      <td>20190624</td>\n",
       "      <td>0.00</td>\n",
       "      <td>61.50</td>\n",
       "      <td>61.40</td>\n",
       "      <td>61.50</td>\n",
       "      <td>61.50</td>\n",
       "      <td>0</td>\n",
       "      <td>0</td>\n",
       "      <td>ESM20</td>\n",
       "      <td>4</td>\n",
       "      <td>0.00</td>\n",
       "      <td>2958.00</td>\n",
       "      <td>2958.00</td>\n",
       "      <td>2958.00</td>\n",
       "      <td>2958.00</td>\n",
       "      <td>0</td>\n",
       "      <td>24</td>\n",
       "    </tr>\n",
       "    <tr>\n",
       "      <th>1</th>\n",
       "      <td>ESM20</td>\n",
       "      <td>2500.0</td>\n",
       "      <td>P</td>\n",
       "      <td>20190625</td>\n",
       "      <td>62.50</td>\n",
       "      <td>67.75</td>\n",
       "      <td>61.75</td>\n",
       "      <td>67.75</td>\n",
       "      <td>67.75</td>\n",
       "      <td>0</td>\n",
       "      <td>0</td>\n",
       "      <td>ESM20</td>\n",
       "      <td>4</td>\n",
       "      <td>0.00</td>\n",
       "      <td>2924.75</td>\n",
       "      <td>2924.75</td>\n",
       "      <td>2924.75</td>\n",
       "      <td>2924.75</td>\n",
       "      <td>0</td>\n",
       "      <td>169</td>\n",
       "    </tr>\n",
       "    <tr>\n",
       "      <th>2</th>\n",
       "      <td>ESM20</td>\n",
       "      <td>2500.0</td>\n",
       "      <td>P</td>\n",
       "      <td>20190626</td>\n",
       "      <td>66.50</td>\n",
       "      <td>68.75</td>\n",
       "      <td>66.50</td>\n",
       "      <td>68.75</td>\n",
       "      <td>68.75</td>\n",
       "      <td>200</td>\n",
       "      <td>200</td>\n",
       "      <td>ESM20</td>\n",
       "      <td>4</td>\n",
       "      <td>0.00</td>\n",
       "      <td>2926.50</td>\n",
       "      <td>2921.00</td>\n",
       "      <td>2921.00</td>\n",
       "      <td>2921.00</td>\n",
       "      <td>0</td>\n",
       "      <td>169</td>\n",
       "    </tr>\n",
       "    <tr>\n",
       "      <th>3</th>\n",
       "      <td>ESM20</td>\n",
       "      <td>2500.0</td>\n",
       "      <td>P</td>\n",
       "      <td>20190627</td>\n",
       "      <td>0.00</td>\n",
       "      <td>68.00</td>\n",
       "      <td>65.25</td>\n",
       "      <td>65.25</td>\n",
       "      <td>65.25</td>\n",
       "      <td>501</td>\n",
       "      <td>701</td>\n",
       "      <td>ESM20</td>\n",
       "      <td>4</td>\n",
       "      <td>2921.00</td>\n",
       "      <td>2935.00</td>\n",
       "      <td>2921.00</td>\n",
       "      <td>2935.00</td>\n",
       "      <td>2935.00</td>\n",
       "      <td>0</td>\n",
       "      <td>904</td>\n",
       "    </tr>\n",
       "    <tr>\n",
       "      <th>4</th>\n",
       "      <td>ESM20</td>\n",
       "      <td>2500.0</td>\n",
       "      <td>P</td>\n",
       "      <td>20190628</td>\n",
       "      <td>63.75</td>\n",
       "      <td>63.75</td>\n",
       "      <td>62.00</td>\n",
       "      <td>62.00</td>\n",
       "      <td>62.00</td>\n",
       "      <td>501</td>\n",
       "      <td>701</td>\n",
       "      <td>ESM20</td>\n",
       "      <td>4</td>\n",
       "      <td>2938.00</td>\n",
       "      <td>2951.50</td>\n",
       "      <td>2938.00</td>\n",
       "      <td>2947.75</td>\n",
       "      <td>2947.75</td>\n",
       "      <td>6</td>\n",
       "      <td>1143</td>\n",
       "    </tr>\n",
       "    <tr>\n",
       "      <th>...</th>\n",
       "      <td>...</td>\n",
       "      <td>...</td>\n",
       "      <td>...</td>\n",
       "      <td>...</td>\n",
       "      <td>...</td>\n",
       "      <td>...</td>\n",
       "      <td>...</td>\n",
       "      <td>...</td>\n",
       "      <td>...</td>\n",
       "      <td>...</td>\n",
       "      <td>...</td>\n",
       "      <td>...</td>\n",
       "      <td>...</td>\n",
       "      <td>...</td>\n",
       "      <td>...</td>\n",
       "      <td>...</td>\n",
       "      <td>...</td>\n",
       "      <td>...</td>\n",
       "      <td>...</td>\n",
       "      <td>...</td>\n",
       "    </tr>\n",
       "    <tr>\n",
       "      <th>177</th>\n",
       "      <td>ESM20</td>\n",
       "      <td>2500.0</td>\n",
       "      <td>P</td>\n",
       "      <td>20200306</td>\n",
       "      <td>55.50</td>\n",
       "      <td>98.00</td>\n",
       "      <td>53.00</td>\n",
       "      <td>73.00</td>\n",
       "      <td>73.00</td>\n",
       "      <td>8349</td>\n",
       "      <td>0</td>\n",
       "      <td>ESM20</td>\n",
       "      <td>2</td>\n",
       "      <td>3015.25</td>\n",
       "      <td>3028.00</td>\n",
       "      <td>2887.75</td>\n",
       "      <td>2953.75</td>\n",
       "      <td>2953.75</td>\n",
       "      <td>121737</td>\n",
       "      <td>188094</td>\n",
       "    </tr>\n",
       "    <tr>\n",
       "      <th>178</th>\n",
       "      <td>ESM20</td>\n",
       "      <td>2500.0</td>\n",
       "      <td>P</td>\n",
       "      <td>20200309</td>\n",
       "      <td>115.00</td>\n",
       "      <td>155.00</td>\n",
       "      <td>115.00</td>\n",
       "      <td>143.00</td>\n",
       "      <td>143.00</td>\n",
       "      <td>3338</td>\n",
       "      <td>19838</td>\n",
       "      <td>ESM20</td>\n",
       "      <td>2</td>\n",
       "      <td>2901.25</td>\n",
       "      <td>2907.25</td>\n",
       "      <td>2698.00</td>\n",
       "      <td>2735.25</td>\n",
       "      <td>2735.25</td>\n",
       "      <td>124994</td>\n",
       "      <td>213911</td>\n",
       "    </tr>\n",
       "    <tr>\n",
       "      <th>179</th>\n",
       "      <td>ESM20</td>\n",
       "      <td>2500.0</td>\n",
       "      <td>P</td>\n",
       "      <td>20200310</td>\n",
       "      <td>123.25</td>\n",
       "      <td>150.50</td>\n",
       "      <td>88.00</td>\n",
       "      <td>105.75</td>\n",
       "      <td>105.75</td>\n",
       "      <td>1713</td>\n",
       "      <td>20047</td>\n",
       "      <td>ESM20</td>\n",
       "      <td>2</td>\n",
       "      <td>2721.25</td>\n",
       "      <td>2873.00</td>\n",
       "      <td>2683.25</td>\n",
       "      <td>2854.25</td>\n",
       "      <td>2854.25</td>\n",
       "      <td>160999</td>\n",
       "      <td>263323</td>\n",
       "    </tr>\n",
       "    <tr>\n",
       "      <th>180</th>\n",
       "      <td>ESM20</td>\n",
       "      <td>2500.0</td>\n",
       "      <td>P</td>\n",
       "      <td>20200311</td>\n",
       "      <td>128.75</td>\n",
       "      <td>165.00</td>\n",
       "      <td>128.00</td>\n",
       "      <td>149.50</td>\n",
       "      <td>149.50</td>\n",
       "      <td>6441</td>\n",
       "      <td>21236</td>\n",
       "      <td>ESM20</td>\n",
       "      <td>2</td>\n",
       "      <td>2849.75</td>\n",
       "      <td>2858.00</td>\n",
       "      <td>2691.25</td>\n",
       "      <td>2729.00</td>\n",
       "      <td>2729.00</td>\n",
       "      <td>195661</td>\n",
       "      <td>299064</td>\n",
       "    </tr>\n",
       "    <tr>\n",
       "      <th>181</th>\n",
       "      <td>ESM20</td>\n",
       "      <td>2500.0</td>\n",
       "      <td>P</td>\n",
       "      <td>20200312</td>\n",
       "      <td>140.00</td>\n",
       "      <td>292.00</td>\n",
       "      <td>140.00</td>\n",
       "      <td>292.00</td>\n",
       "      <td>292.00</td>\n",
       "      <td>5136</td>\n",
       "      <td>21030</td>\n",
       "      <td>ESM20</td>\n",
       "      <td>2</td>\n",
       "      <td>2727.00</td>\n",
       "      <td>2762.00</td>\n",
       "      <td>2429.75</td>\n",
       "      <td>2456.00</td>\n",
       "      <td>2456.00</td>\n",
       "      <td>208617</td>\n",
       "      <td>352905</td>\n",
       "    </tr>\n",
       "  </tbody>\n",
       "</table>\n",
       "<p>182 rows × 20 columns</p>\n",
       "</div>"
      ],
      "text/plain": [
       "    symbol  strike pc  settle_date  open_x  high_x   low_x  close_x  \\\n",
       "0    ESM20  2500.0  P     20190624    0.00   61.50   61.40    61.50   \n",
       "1    ESM20  2500.0  P     20190625   62.50   67.75   61.75    67.75   \n",
       "2    ESM20  2500.0  P     20190626   66.50   68.75   66.50    68.75   \n",
       "3    ESM20  2500.0  P     20190627    0.00   68.00   65.25    65.25   \n",
       "4    ESM20  2500.0  P     20190628   63.75   63.75   62.00    62.00   \n",
       "..     ...     ... ..          ...     ...     ...     ...      ...   \n",
       "177  ESM20  2500.0  P     20200306   55.50   98.00   53.00    73.00   \n",
       "178  ESM20  2500.0  P     20200309  115.00  155.00  115.00   143.00   \n",
       "179  ESM20  2500.0  P     20200310  123.25  150.50   88.00   105.75   \n",
       "180  ESM20  2500.0  P     20200311  128.75  165.00  128.00   149.50   \n",
       "181  ESM20  2500.0  P     20200312  140.00  292.00  140.00   292.00   \n",
       "\n",
       "     adj_close_x  volume_x  open_interest_x u_symbol  contract_num   open_y  \\\n",
       "0          61.50         0                0    ESM20             4     0.00   \n",
       "1          67.75         0                0    ESM20             4     0.00   \n",
       "2          68.75       200              200    ESM20             4     0.00   \n",
       "3          65.25       501              701    ESM20             4  2921.00   \n",
       "4          62.00       501              701    ESM20             4  2938.00   \n",
       "..           ...       ...              ...      ...           ...      ...   \n",
       "177        73.00      8349                0    ESM20             2  3015.25   \n",
       "178       143.00      3338            19838    ESM20             2  2901.25   \n",
       "179       105.75      1713            20047    ESM20             2  2721.25   \n",
       "180       149.50      6441            21236    ESM20             2  2849.75   \n",
       "181       292.00      5136            21030    ESM20             2  2727.00   \n",
       "\n",
       "      high_y    low_y  close_y  adj_close_y  volume_y  open_interest_y  \n",
       "0    2958.00  2958.00  2958.00      2958.00         0               24  \n",
       "1    2924.75  2924.75  2924.75      2924.75         0              169  \n",
       "2    2926.50  2921.00  2921.00      2921.00         0              169  \n",
       "3    2935.00  2921.00  2935.00      2935.00         0              904  \n",
       "4    2951.50  2938.00  2947.75      2947.75         6             1143  \n",
       "..       ...      ...      ...          ...       ...              ...  \n",
       "177  3028.00  2887.75  2953.75      2953.75    121737           188094  \n",
       "178  2907.25  2698.00  2735.25      2735.25    124994           213911  \n",
       "179  2873.00  2683.25  2854.25      2854.25    160999           263323  \n",
       "180  2858.00  2691.25  2729.00      2729.00    195661           299064  \n",
       "181  2762.00  2429.75  2456.00      2456.00    208617           352905  \n",
       "\n",
       "[182 rows x 20 columns]"
      ]
     },
     "execution_count": 73,
     "metadata": {},
     "output_type": "execute_result"
    }
   ],
   "source": [
    "# d1,d2  = get_postgres_data(ot_legs[0].symbol)\n",
    "# d1\n",
    "ot_legs[0].get_postgres_data()"
   ]
  },
  {
   "cell_type": "code",
   "execution_count": 357,
   "metadata": {},
   "outputs": [],
   "source": [
    "def _black(r):\n",
    "    flag = 'p' if r.moneyness < 0 else 'c'\n",
    "    F = r.close_y\n",
    "    K = r.strike\n",
    "    t = r.dte/365\n",
    "    rate = .015\n",
    "    sigma = r.atm_iv + r.vol_skew\n",
    "    return black.black(flag, F, K, t, rate, sigma)\n",
    "\n",
    "class MultiLeg():\n",
    "    '''\n",
    "    create a history of a multi-leg option\n",
    "    '''\n",
    "    opt_cols = ['strike','pc','open_x','high_x','low_x','close_x',\n",
    "              'adj_close_x','volume_x','open_interest_x']\n",
    "    fut_cols = ['open_y','high_y','low_y','close_y',\n",
    "              'adj_close_y','volume_y','open_interest_y']\n",
    "    both_cols = ['settle_date','symbol']\n",
    "    def __init__(self,leg_list: list,contract_num_list=None):\n",
    "        self.leg_list = leg_list\n",
    "        self.contract_num_list = [None for _ in range(len(leg_list))] if contract_num_list is None else contract_num_list\n",
    "        # get history for each leg\n",
    "        hist_list = []\n",
    "        for i in range(len(leg_list)):\n",
    "            leg = leg_list[i]\n",
    "            contract_num = self.contract_num_list[i]\n",
    "            print(f\"MultiLeg geting data for leg {str(leg)} \")\n",
    "            hist_dict = leg.get_implied_info(contract_num=contract_num)\n",
    "            hist_list.append(hist_dict)\n",
    "        self.hist_list = hist_list\n",
    "\n",
    "        \n",
    "        \n",
    "    def get_values(self,col_list):\n",
    "        yyyymmdd_set = None\n",
    "\n",
    "        for i in range(len(self.hist_list)):\n",
    "            df = self.hist_list[i]['hist_data']\n",
    "            yyyymmdd_set_df = set(df.settle_date.values)\n",
    "            if yyyymmdd_set is None:\n",
    "                yyyymmdd_set = yyyymmdd_set_df\n",
    "            else:\n",
    "                if len(yyyymmdd_set)>len(yyyymmdd_set_df):\n",
    "                    yyyymmdd_set = yyyymmdd_set.intersection(yyyymmdd_set_df)\n",
    "                else:\n",
    "                    yyyymmdd_set = yyyymmdd_set_df.intersection(yyyymmdd_set)\n",
    "            # save all data for this eg\n",
    "        yyyymmdd_set = list(yyyymmdd_set)\n",
    "        hist_df_list = []\n",
    "        for i in range(len(self.leg_list)):\n",
    "            leg = self.leg_list[i]\n",
    "            df = self.hist_list[i]['hist_data'].copy()\n",
    "            df['short_name'] = str(leg)\n",
    "            df = df[(df.strike==float(str(leg.strike))) & (df.pc.str.upper()==leg.pc.upper())]\n",
    "            df = df[df.settle_date.isin(yyyymmdd_set)]\n",
    "            df.index = list(range(len(df)))\n",
    "            hist_df_list.append(df)\n",
    "\n",
    "        df = hist_df_list[0][['settle_date']]\n",
    "        for c in col_list:\n",
    "            c_values = np.zeros(len(df))\n",
    "            for i in range(len(self.leg_list)):\n",
    "                leg = self.leg_list[i]\n",
    "                qty = float(leg.qty)\n",
    "                df_hist = hist_df_list[i].copy()\n",
    "                df_hist[c].fillna(0)\n",
    "                c_values = c_values + df_hist[c].values * qty\n",
    "            df[c] = c_values\n",
    "        return df\n",
    "    \n",
    "    def get_theo_values(self):\n",
    "        df_all_legs = None\n",
    "        both_merge_cols = ['settle_date','moneyness']\n",
    "        # get the even_money dataframe for each leg, and get theo prices from it\n",
    "        for i in range(len(self.hist_list)):\n",
    "            # get the dictionary of returned history values\n",
    "            hist_dict = self.hist_list[i]\n",
    "            # get the dataframe with the even money strike values\n",
    "            df_even_money = hist_dict['even_money'].copy()\n",
    "            # create a list of price cols for each leg\n",
    "            optprice_col = f\"optprice_leg_{i}\"\n",
    "            # get a black scholes option price for each even money strike\n",
    "            df_even_money[optprice_col] = df_even_money.apply(_black,axis=1)\n",
    "            # limit the columns to the merge cols and the optprice col for this leg\n",
    "            df_even_money = df_even_money[both_merge_cols +[optprice_col]]\n",
    "            # merge all the leg option values into one dataframe\n",
    "            if df_all_legs is None:\n",
    "                df_all_legs = df_even_money.copy()\n",
    "            else:\n",
    "                df_all_legs = df_all_legs.merge(df_even_money,on=both_merge_cols,how='inner')\n",
    "\n",
    "        # now combine the optprices\n",
    "        op_cols = [f\"optprice_leg_{i}\" for i in range(len(self.hist_list))]\n",
    "        df_all_legs['strat_price'] = 0\n",
    "        for i in range(len(op_cols)):\n",
    "            c = op_cols[i]\n",
    "            leg = self.leg_list[i]\n",
    "            qty = leg.qty\n",
    "            df_all_legs.strat_price = df_all_legs.strat_price + df_all_legs[c] * qty\n",
    "\n",
    "        return df_all_legs\n",
    "                    \n",
    "                    \n",
    "        \n",
    "# df_leg0_even_money2 = df_leg0_even_money.copy()\n",
    "# df_leg0_even_money2['optprice_leg0'] = df_leg0_even_money2.apply(_black,axis=1)\n",
    "\n",
    "# df_leg1_even_money2 = df_leg1_even_money.copy()\n",
    "# df_leg1_even_money2['optprice_leg1'] = df_leg1_even_money2.apply(_black,axis=1)\n",
    "# both_merge_cols = ['settle_date','moneyness']\n",
    "# df_leg0_even_money2 = df_leg0_even_money2[both_merge_cols + ['optprice_leg0']]\n",
    "# df_leg1_even_money2 = df_leg1_even_money2[both_merge_cols + ['optprice_leg1']]\n",
    "# df_both_legs = df_leg0_even_money2.merge(df_leg1_even_money2,on=both_merge_cols,how='inner')\n",
    "# df_both_legs['optprice_spread'] = df_both_legs.optprice_leg1 - df_both_legs.optprice_leg0\n",
    "# df_both_legs[df_both_legs.moneyness==-.15]\n",
    "\n"
   ]
  },
  {
   "cell_type": "code",
   "execution_count": 358,
   "metadata": {},
   "outputs": [
    {
     "name": "stdout",
     "output_type": "stream",
     "text": [
      "MultiLeg geting data for leg ESM20_2500_P_-1.0 \n",
      "MultiLeg geting data for leg ESZ20_2500_P_1.0 \n"
     ]
    }
   ],
   "source": [
    "es_m0z0_2500 = MultiLeg(ot_legs)"
   ]
  },
  {
   "cell_type": "code",
   "execution_count": 359,
   "metadata": {
    "scrolled": true
   },
   "outputs": [
    {
     "data": {
      "text/html": [
       "<div>\n",
       "<style scoped>\n",
       "    .dataframe tbody tr th:only-of-type {\n",
       "        vertical-align: middle;\n",
       "    }\n",
       "\n",
       "    .dataframe tbody tr th {\n",
       "        vertical-align: top;\n",
       "    }\n",
       "\n",
       "    .dataframe thead th {\n",
       "        text-align: right;\n",
       "    }\n",
       "</style>\n",
       "<table border=\"1\" class=\"dataframe\">\n",
       "  <thead>\n",
       "    <tr style=\"text-align: right;\">\n",
       "      <th></th>\n",
       "      <th>settle_date</th>\n",
       "      <th>close_x</th>\n",
       "      <th>open_x</th>\n",
       "      <th>high_x</th>\n",
       "      <th>low_x</th>\n",
       "    </tr>\n",
       "  </thead>\n",
       "  <tbody>\n",
       "    <tr>\n",
       "      <th>0</th>\n",
       "      <td>20191223</td>\n",
       "      <td>28.00</td>\n",
       "      <td>28.00</td>\n",
       "      <td>28.25</td>\n",
       "      <td>28.00</td>\n",
       "    </tr>\n",
       "    <tr>\n",
       "      <th>1</th>\n",
       "      <td>20191224</td>\n",
       "      <td>28.00</td>\n",
       "      <td>-15.00</td>\n",
       "      <td>28.25</td>\n",
       "      <td>28.00</td>\n",
       "    </tr>\n",
       "    <tr>\n",
       "      <th>2</th>\n",
       "      <td>20191226</td>\n",
       "      <td>27.25</td>\n",
       "      <td>26.50</td>\n",
       "      <td>26.50</td>\n",
       "      <td>27.25</td>\n",
       "    </tr>\n",
       "    <tr>\n",
       "      <th>3</th>\n",
       "      <td>20191227</td>\n",
       "      <td>28.00</td>\n",
       "      <td>26.50</td>\n",
       "      <td>28.00</td>\n",
       "      <td>27.00</td>\n",
       "    </tr>\n",
       "    <tr>\n",
       "      <th>4</th>\n",
       "      <td>20191230</td>\n",
       "      <td>29.25</td>\n",
       "      <td>30.00</td>\n",
       "      <td>29.00</td>\n",
       "      <td>30.00</td>\n",
       "    </tr>\n",
       "    <tr>\n",
       "      <th>5</th>\n",
       "      <td>20191231</td>\n",
       "      <td>28.50</td>\n",
       "      <td>-15.00</td>\n",
       "      <td>28.75</td>\n",
       "      <td>28.50</td>\n",
       "    </tr>\n",
       "    <tr>\n",
       "      <th>6</th>\n",
       "      <td>20200102</td>\n",
       "      <td>27.00</td>\n",
       "      <td>27.75</td>\n",
       "      <td>27.25</td>\n",
       "      <td>26.75</td>\n",
       "    </tr>\n",
       "    <tr>\n",
       "      <th>7</th>\n",
       "      <td>20200103</td>\n",
       "      <td>28.50</td>\n",
       "      <td>32.25</td>\n",
       "      <td>30.75</td>\n",
       "      <td>27.75</td>\n",
       "    </tr>\n",
       "    <tr>\n",
       "      <th>8</th>\n",
       "      <td>20200106</td>\n",
       "      <td>27.75</td>\n",
       "      <td>-14.50</td>\n",
       "      <td>30.25</td>\n",
       "      <td>27.50</td>\n",
       "    </tr>\n",
       "    <tr>\n",
       "      <th>9</th>\n",
       "      <td>20200107</td>\n",
       "      <td>27.00</td>\n",
       "      <td>26.75</td>\n",
       "      <td>27.25</td>\n",
       "      <td>27.50</td>\n",
       "    </tr>\n",
       "    <tr>\n",
       "      <th>10</th>\n",
       "      <td>20200108</td>\n",
       "      <td>25.50</td>\n",
       "      <td>22.25</td>\n",
       "      <td>22.25</td>\n",
       "      <td>25.50</td>\n",
       "    </tr>\n",
       "    <tr>\n",
       "      <th>11</th>\n",
       "      <td>20200109</td>\n",
       "      <td>24.00</td>\n",
       "      <td>25.00</td>\n",
       "      <td>25.25</td>\n",
       "      <td>24.00</td>\n",
       "    </tr>\n",
       "    <tr>\n",
       "      <th>12</th>\n",
       "      <td>20200110</td>\n",
       "      <td>25.00</td>\n",
       "      <td>23.75</td>\n",
       "      <td>24.75</td>\n",
       "      <td>23.75</td>\n",
       "    </tr>\n",
       "    <tr>\n",
       "      <th>13</th>\n",
       "      <td>20200113</td>\n",
       "      <td>23.50</td>\n",
       "      <td>24.00</td>\n",
       "      <td>24.50</td>\n",
       "      <td>23.50</td>\n",
       "    </tr>\n",
       "    <tr>\n",
       "      <th>14</th>\n",
       "      <td>20200114</td>\n",
       "      <td>23.50</td>\n",
       "      <td>23.25</td>\n",
       "      <td>23.50</td>\n",
       "      <td>23.50</td>\n",
       "    </tr>\n",
       "    <tr>\n",
       "      <th>15</th>\n",
       "      <td>20200115</td>\n",
       "      <td>23.25</td>\n",
       "      <td>22.25</td>\n",
       "      <td>22.25</td>\n",
       "      <td>22.75</td>\n",
       "    </tr>\n",
       "    <tr>\n",
       "      <th>16</th>\n",
       "      <td>20200116</td>\n",
       "      <td>21.75</td>\n",
       "      <td>22.25</td>\n",
       "      <td>22.25</td>\n",
       "      <td>21.75</td>\n",
       "    </tr>\n",
       "    <tr>\n",
       "      <th>17</th>\n",
       "      <td>20200117</td>\n",
       "      <td>20.75</td>\n",
       "      <td>21.50</td>\n",
       "      <td>21.50</td>\n",
       "      <td>20.50</td>\n",
       "    </tr>\n",
       "    <tr>\n",
       "      <th>18</th>\n",
       "      <td>20200121</td>\n",
       "      <td>21.00</td>\n",
       "      <td>20.50</td>\n",
       "      <td>20.50</td>\n",
       "      <td>21.00</td>\n",
       "    </tr>\n",
       "    <tr>\n",
       "      <th>19</th>\n",
       "      <td>20200122</td>\n",
       "      <td>21.00</td>\n",
       "      <td>20.25</td>\n",
       "      <td>21.00</td>\n",
       "      <td>19.75</td>\n",
       "    </tr>\n",
       "    <tr>\n",
       "      <th>20</th>\n",
       "      <td>20200123</td>\n",
       "      <td>20.50</td>\n",
       "      <td>21.25</td>\n",
       "      <td>22.50</td>\n",
       "      <td>20.50</td>\n",
       "    </tr>\n",
       "    <tr>\n",
       "      <th>21</th>\n",
       "      <td>20200124</td>\n",
       "      <td>23.25</td>\n",
       "      <td>23.50</td>\n",
       "      <td>22.25</td>\n",
       "      <td>23.50</td>\n",
       "    </tr>\n",
       "    <tr>\n",
       "      <th>22</th>\n",
       "      <td>20200127</td>\n",
       "      <td>25.75</td>\n",
       "      <td>26.75</td>\n",
       "      <td>25.75</td>\n",
       "      <td>26.75</td>\n",
       "    </tr>\n",
       "    <tr>\n",
       "      <th>23</th>\n",
       "      <td>20200128</td>\n",
       "      <td>24.00</td>\n",
       "      <td>-10.00</td>\n",
       "      <td>23.75</td>\n",
       "      <td>24.50</td>\n",
       "    </tr>\n",
       "    <tr>\n",
       "      <th>24</th>\n",
       "      <td>20200129</td>\n",
       "      <td>24.25</td>\n",
       "      <td>23.25</td>\n",
       "      <td>24.25</td>\n",
       "      <td>23.75</td>\n",
       "    </tr>\n",
       "    <tr>\n",
       "      <th>25</th>\n",
       "      <td>20200130</td>\n",
       "      <td>22.75</td>\n",
       "      <td>22.25</td>\n",
       "      <td>21.75</td>\n",
       "      <td>22.75</td>\n",
       "    </tr>\n",
       "    <tr>\n",
       "      <th>26</th>\n",
       "      <td>20200131</td>\n",
       "      <td>27.00</td>\n",
       "      <td>-9.75</td>\n",
       "      <td>26.50</td>\n",
       "      <td>30.25</td>\n",
       "    </tr>\n",
       "    <tr>\n",
       "      <th>27</th>\n",
       "      <td>20200203</td>\n",
       "      <td>25.25</td>\n",
       "      <td>25.00</td>\n",
       "      <td>26.00</td>\n",
       "      <td>24.00</td>\n",
       "    </tr>\n",
       "    <tr>\n",
       "      <th>28</th>\n",
       "      <td>20200204</td>\n",
       "      <td>21.75</td>\n",
       "      <td>20.50</td>\n",
       "      <td>20.50</td>\n",
       "      <td>21.75</td>\n",
       "    </tr>\n",
       "    <tr>\n",
       "      <th>29</th>\n",
       "      <td>20200205</td>\n",
       "      <td>19.75</td>\n",
       "      <td>27.00</td>\n",
       "      <td>17.50</td>\n",
       "      <td>19.75</td>\n",
       "    </tr>\n",
       "    <tr>\n",
       "      <th>30</th>\n",
       "      <td>20200206</td>\n",
       "      <td>19.50</td>\n",
       "      <td>19.75</td>\n",
       "      <td>19.50</td>\n",
       "      <td>19.50</td>\n",
       "    </tr>\n",
       "    <tr>\n",
       "      <th>31</th>\n",
       "      <td>20200207</td>\n",
       "      <td>20.75</td>\n",
       "      <td>21.25</td>\n",
       "      <td>20.75</td>\n",
       "      <td>20.75</td>\n",
       "    </tr>\n",
       "    <tr>\n",
       "      <th>32</th>\n",
       "      <td>20200210</td>\n",
       "      <td>19.25</td>\n",
       "      <td>19.75</td>\n",
       "      <td>19.75</td>\n",
       "      <td>19.25</td>\n",
       "    </tr>\n",
       "    <tr>\n",
       "      <th>33</th>\n",
       "      <td>20200211</td>\n",
       "      <td>19.25</td>\n",
       "      <td>19.00</td>\n",
       "      <td>19.50</td>\n",
       "      <td>18.50</td>\n",
       "    </tr>\n",
       "    <tr>\n",
       "      <th>34</th>\n",
       "      <td>20200212</td>\n",
       "      <td>18.00</td>\n",
       "      <td>19.50</td>\n",
       "      <td>19.50</td>\n",
       "      <td>18.00</td>\n",
       "    </tr>\n",
       "    <tr>\n",
       "      <th>35</th>\n",
       "      <td>20200213</td>\n",
       "      <td>18.75</td>\n",
       "      <td>18.50</td>\n",
       "      <td>20.50</td>\n",
       "      <td>18.25</td>\n",
       "    </tr>\n",
       "    <tr>\n",
       "      <th>36</th>\n",
       "      <td>20200214</td>\n",
       "      <td>18.50</td>\n",
       "      <td>18.25</td>\n",
       "      <td>19.50</td>\n",
       "      <td>18.25</td>\n",
       "    </tr>\n",
       "    <tr>\n",
       "      <th>37</th>\n",
       "      <td>20200218</td>\n",
       "      <td>19.25</td>\n",
       "      <td>18.75</td>\n",
       "      <td>21.00</td>\n",
       "      <td>17.75</td>\n",
       "    </tr>\n",
       "    <tr>\n",
       "      <th>38</th>\n",
       "      <td>20200219</td>\n",
       "      <td>18.50</td>\n",
       "      <td>19.00</td>\n",
       "      <td>19.25</td>\n",
       "      <td>18.75</td>\n",
       "    </tr>\n",
       "    <tr>\n",
       "      <th>39</th>\n",
       "      <td>20200220</td>\n",
       "      <td>20.00</td>\n",
       "      <td>19.50</td>\n",
       "      <td>21.50</td>\n",
       "      <td>19.50</td>\n",
       "    </tr>\n",
       "    <tr>\n",
       "      <th>40</th>\n",
       "      <td>20200221</td>\n",
       "      <td>22.25</td>\n",
       "      <td>20.50</td>\n",
       "      <td>23.50</td>\n",
       "      <td>20.50</td>\n",
       "    </tr>\n",
       "    <tr>\n",
       "      <th>41</th>\n",
       "      <td>20200224</td>\n",
       "      <td>30.00</td>\n",
       "      <td>26.25</td>\n",
       "      <td>28.50</td>\n",
       "      <td>26.25</td>\n",
       "    </tr>\n",
       "    <tr>\n",
       "      <th>42</th>\n",
       "      <td>20200225</td>\n",
       "      <td>35.50</td>\n",
       "      <td>28.50</td>\n",
       "      <td>36.25</td>\n",
       "      <td>30.25</td>\n",
       "    </tr>\n",
       "    <tr>\n",
       "      <th>43</th>\n",
       "      <td>20200226</td>\n",
       "      <td>37.50</td>\n",
       "      <td>39.50</td>\n",
       "      <td>36.00</td>\n",
       "      <td>32.75</td>\n",
       "    </tr>\n",
       "    <tr>\n",
       "      <th>44</th>\n",
       "      <td>20200227</td>\n",
       "      <td>45.75</td>\n",
       "      <td>41.00</td>\n",
       "      <td>45.75</td>\n",
       "      <td>41.00</td>\n",
       "    </tr>\n",
       "    <tr>\n",
       "      <th>45</th>\n",
       "      <td>20200228</td>\n",
       "      <td>46.50</td>\n",
       "      <td>53.00</td>\n",
       "      <td>40.00</td>\n",
       "      <td>48.25</td>\n",
       "    </tr>\n",
       "    <tr>\n",
       "      <th>46</th>\n",
       "      <td>20200302</td>\n",
       "      <td>41.00</td>\n",
       "      <td>27.25</td>\n",
       "      <td>27.25</td>\n",
       "      <td>40.50</td>\n",
       "    </tr>\n",
       "    <tr>\n",
       "      <th>47</th>\n",
       "      <td>20200303</td>\n",
       "      <td>43.50</td>\n",
       "      <td>42.25</td>\n",
       "      <td>36.75</td>\n",
       "      <td>40.00</td>\n",
       "    </tr>\n",
       "    <tr>\n",
       "      <th>48</th>\n",
       "      <td>20200304</td>\n",
       "      <td>41.50</td>\n",
       "      <td>44.00</td>\n",
       "      <td>45.50</td>\n",
       "      <td>42.00</td>\n",
       "    </tr>\n",
       "    <tr>\n",
       "      <th>49</th>\n",
       "      <td>20200305</td>\n",
       "      <td>49.50</td>\n",
       "      <td>63.00</td>\n",
       "      <td>50.00</td>\n",
       "      <td>63.00</td>\n",
       "    </tr>\n",
       "    <tr>\n",
       "      <th>50</th>\n",
       "      <td>20200306</td>\n",
       "      <td>55.75</td>\n",
       "      <td>50.50</td>\n",
       "      <td>53.00</td>\n",
       "      <td>50.25</td>\n",
       "    </tr>\n",
       "    <tr>\n",
       "      <th>51</th>\n",
       "      <td>20200309</td>\n",
       "      <td>57.75</td>\n",
       "      <td>60.00</td>\n",
       "      <td>59.25</td>\n",
       "      <td>60.00</td>\n",
       "    </tr>\n",
       "    <tr>\n",
       "      <th>52</th>\n",
       "      <td>20200310</td>\n",
       "      <td>62.25</td>\n",
       "      <td>32.25</td>\n",
       "      <td>64.25</td>\n",
       "      <td>67.50</td>\n",
       "    </tr>\n",
       "    <tr>\n",
       "      <th>53</th>\n",
       "      <td>20200311</td>\n",
       "      <td>70.25</td>\n",
       "      <td>67.25</td>\n",
       "      <td>54.75</td>\n",
       "      <td>63.00</td>\n",
       "    </tr>\n",
       "    <tr>\n",
       "      <th>54</th>\n",
       "      <td>20200312</td>\n",
       "      <td>63.00</td>\n",
       "      <td>67.75</td>\n",
       "      <td>63.00</td>\n",
       "      <td>67.75</td>\n",
       "    </tr>\n",
       "    <tr>\n",
       "      <th>55</th>\n",
       "      <td>20200313</td>\n",
       "      <td>61.00</td>\n",
       "      <td>63.75</td>\n",
       "      <td>52.00</td>\n",
       "      <td>61.00</td>\n",
       "    </tr>\n",
       "  </tbody>\n",
       "</table>\n",
       "</div>"
      ],
      "text/plain": [
       "    settle_date  close_x  open_x  high_x  low_x\n",
       "0      20191223    28.00   28.00   28.25  28.00\n",
       "1      20191224    28.00  -15.00   28.25  28.00\n",
       "2      20191226    27.25   26.50   26.50  27.25\n",
       "3      20191227    28.00   26.50   28.00  27.00\n",
       "4      20191230    29.25   30.00   29.00  30.00\n",
       "5      20191231    28.50  -15.00   28.75  28.50\n",
       "6      20200102    27.00   27.75   27.25  26.75\n",
       "7      20200103    28.50   32.25   30.75  27.75\n",
       "8      20200106    27.75  -14.50   30.25  27.50\n",
       "9      20200107    27.00   26.75   27.25  27.50\n",
       "10     20200108    25.50   22.25   22.25  25.50\n",
       "11     20200109    24.00   25.00   25.25  24.00\n",
       "12     20200110    25.00   23.75   24.75  23.75\n",
       "13     20200113    23.50   24.00   24.50  23.50\n",
       "14     20200114    23.50   23.25   23.50  23.50\n",
       "15     20200115    23.25   22.25   22.25  22.75\n",
       "16     20200116    21.75   22.25   22.25  21.75\n",
       "17     20200117    20.75   21.50   21.50  20.50\n",
       "18     20200121    21.00   20.50   20.50  21.00\n",
       "19     20200122    21.00   20.25   21.00  19.75\n",
       "20     20200123    20.50   21.25   22.50  20.50\n",
       "21     20200124    23.25   23.50   22.25  23.50\n",
       "22     20200127    25.75   26.75   25.75  26.75\n",
       "23     20200128    24.00  -10.00   23.75  24.50\n",
       "24     20200129    24.25   23.25   24.25  23.75\n",
       "25     20200130    22.75   22.25   21.75  22.75\n",
       "26     20200131    27.00   -9.75   26.50  30.25\n",
       "27     20200203    25.25   25.00   26.00  24.00\n",
       "28     20200204    21.75   20.50   20.50  21.75\n",
       "29     20200205    19.75   27.00   17.50  19.75\n",
       "30     20200206    19.50   19.75   19.50  19.50\n",
       "31     20200207    20.75   21.25   20.75  20.75\n",
       "32     20200210    19.25   19.75   19.75  19.25\n",
       "33     20200211    19.25   19.00   19.50  18.50\n",
       "34     20200212    18.00   19.50   19.50  18.00\n",
       "35     20200213    18.75   18.50   20.50  18.25\n",
       "36     20200214    18.50   18.25   19.50  18.25\n",
       "37     20200218    19.25   18.75   21.00  17.75\n",
       "38     20200219    18.50   19.00   19.25  18.75\n",
       "39     20200220    20.00   19.50   21.50  19.50\n",
       "40     20200221    22.25   20.50   23.50  20.50\n",
       "41     20200224    30.00   26.25   28.50  26.25\n",
       "42     20200225    35.50   28.50   36.25  30.25\n",
       "43     20200226    37.50   39.50   36.00  32.75\n",
       "44     20200227    45.75   41.00   45.75  41.00\n",
       "45     20200228    46.50   53.00   40.00  48.25\n",
       "46     20200302    41.00   27.25   27.25  40.50\n",
       "47     20200303    43.50   42.25   36.75  40.00\n",
       "48     20200304    41.50   44.00   45.50  42.00\n",
       "49     20200305    49.50   63.00   50.00  63.00\n",
       "50     20200306    55.75   50.50   53.00  50.25\n",
       "51     20200309    57.75   60.00   59.25  60.00\n",
       "52     20200310    62.25   32.25   64.25  67.50\n",
       "53     20200311    70.25   67.25   54.75  63.00\n",
       "54     20200312    63.00   67.75   63.00  67.75\n",
       "55     20200313    61.00   63.75   52.00  61.00"
      ]
     },
     "execution_count": 359,
     "metadata": {},
     "output_type": "execute_result"
    }
   ],
   "source": [
    "es_m0z0_2500.get_values(['close_x','open_x','high_x','low_x'])"
   ]
  },
  {
   "cell_type": "code",
   "execution_count": 362,
   "metadata": {
    "scrolled": true
   },
   "outputs": [
    {
     "data": {
      "text/html": [
       "<div>\n",
       "<style scoped>\n",
       "    .dataframe tbody tr th:only-of-type {\n",
       "        vertical-align: middle;\n",
       "    }\n",
       "\n",
       "    .dataframe tbody tr th {\n",
       "        vertical-align: top;\n",
       "    }\n",
       "\n",
       "    .dataframe thead th {\n",
       "        text-align: right;\n",
       "    }\n",
       "</style>\n",
       "<table border=\"1\" class=\"dataframe\">\n",
       "  <thead>\n",
       "    <tr style=\"text-align: right;\">\n",
       "      <th></th>\n",
       "      <th>settle_date</th>\n",
       "      <th>moneyness</th>\n",
       "      <th>optprice_leg_0</th>\n",
       "      <th>optprice_leg_1</th>\n",
       "      <th>strat_price</th>\n",
       "    </tr>\n",
       "  </thead>\n",
       "  <tbody>\n",
       "    <tr>\n",
       "      <th>3</th>\n",
       "      <td>20191223</td>\n",
       "      <td>-0.15</td>\n",
       "      <td>31.886741</td>\n",
       "      <td>75.305024</td>\n",
       "      <td>43.418283</td>\n",
       "    </tr>\n",
       "    <tr>\n",
       "      <th>15</th>\n",
       "      <td>20191224</td>\n",
       "      <td>-0.15</td>\n",
       "      <td>31.526492</td>\n",
       "      <td>75.378477</td>\n",
       "      <td>43.851986</td>\n",
       "    </tr>\n",
       "    <tr>\n",
       "      <th>27</th>\n",
       "      <td>20191226</td>\n",
       "      <td>-0.15</td>\n",
       "      <td>30.416339</td>\n",
       "      <td>74.398836</td>\n",
       "      <td>43.982497</td>\n",
       "    </tr>\n",
       "    <tr>\n",
       "      <th>39</th>\n",
       "      <td>20191227</td>\n",
       "      <td>-0.15</td>\n",
       "      <td>31.518467</td>\n",
       "      <td>75.433538</td>\n",
       "      <td>43.915071</td>\n",
       "    </tr>\n",
       "    <tr>\n",
       "      <th>51</th>\n",
       "      <td>20191230</td>\n",
       "      <td>-0.15</td>\n",
       "      <td>32.315385</td>\n",
       "      <td>77.476021</td>\n",
       "      <td>45.160636</td>\n",
       "    </tr>\n",
       "    <tr>\n",
       "      <th>63</th>\n",
       "      <td>20191231</td>\n",
       "      <td>-0.15</td>\n",
       "      <td>30.218630</td>\n",
       "      <td>74.865965</td>\n",
       "      <td>44.647335</td>\n",
       "    </tr>\n",
       "    <tr>\n",
       "      <th>75</th>\n",
       "      <td>20200102</td>\n",
       "      <td>-0.15</td>\n",
       "      <td>27.821272</td>\n",
       "      <td>71.997851</td>\n",
       "      <td>44.176579</td>\n",
       "    </tr>\n",
       "    <tr>\n",
       "      <th>87</th>\n",
       "      <td>20200103</td>\n",
       "      <td>-0.15</td>\n",
       "      <td>29.814738</td>\n",
       "      <td>74.406374</td>\n",
       "      <td>44.591636</td>\n",
       "    </tr>\n",
       "    <tr>\n",
       "      <th>99</th>\n",
       "      <td>20200106</td>\n",
       "      <td>-0.15</td>\n",
       "      <td>28.765809</td>\n",
       "      <td>73.606171</td>\n",
       "      <td>44.840361</td>\n",
       "    </tr>\n",
       "    <tr>\n",
       "      <th>111</th>\n",
       "      <td>20200107</td>\n",
       "      <td>-0.15</td>\n",
       "      <td>28.550489</td>\n",
       "      <td>72.221009</td>\n",
       "      <td>43.670520</td>\n",
       "    </tr>\n",
       "    <tr>\n",
       "      <th>123</th>\n",
       "      <td>20200108</td>\n",
       "      <td>-0.15</td>\n",
       "      <td>26.928905</td>\n",
       "      <td>70.164292</td>\n",
       "      <td>43.235387</td>\n",
       "    </tr>\n",
       "    <tr>\n",
       "      <th>135</th>\n",
       "      <td>20200109</td>\n",
       "      <td>-0.15</td>\n",
       "      <td>25.679882</td>\n",
       "      <td>68.113179</td>\n",
       "      <td>42.433296</td>\n",
       "    </tr>\n",
       "    <tr>\n",
       "      <th>147</th>\n",
       "      <td>20200110</td>\n",
       "      <td>-0.15</td>\n",
       "      <td>25.091583</td>\n",
       "      <td>67.945563</td>\n",
       "      <td>42.853981</td>\n",
       "    </tr>\n",
       "    <tr>\n",
       "      <th>159</th>\n",
       "      <td>20200113</td>\n",
       "      <td>-0.15</td>\n",
       "      <td>23.784730</td>\n",
       "      <td>66.296899</td>\n",
       "      <td>42.512169</td>\n",
       "    </tr>\n",
       "    <tr>\n",
       "      <th>171</th>\n",
       "      <td>20200114</td>\n",
       "      <td>-0.15</td>\n",
       "      <td>23.178730</td>\n",
       "      <td>65.387200</td>\n",
       "      <td>42.208470</td>\n",
       "    </tr>\n",
       "    <tr>\n",
       "      <th>183</th>\n",
       "      <td>20200115</td>\n",
       "      <td>-0.15</td>\n",
       "      <td>22.804793</td>\n",
       "      <td>65.213434</td>\n",
       "      <td>42.408641</td>\n",
       "    </tr>\n",
       "    <tr>\n",
       "      <th>195</th>\n",
       "      <td>20200116</td>\n",
       "      <td>-0.15</td>\n",
       "      <td>21.998729</td>\n",
       "      <td>63.799799</td>\n",
       "      <td>41.801071</td>\n",
       "    </tr>\n",
       "    <tr>\n",
       "      <th>207</th>\n",
       "      <td>20200117</td>\n",
       "      <td>-0.15</td>\n",
       "      <td>21.770777</td>\n",
       "      <td>63.295270</td>\n",
       "      <td>41.524494</td>\n",
       "    </tr>\n",
       "    <tr>\n",
       "      <th>219</th>\n",
       "      <td>20200121</td>\n",
       "      <td>-0.15</td>\n",
       "      <td>21.961646</td>\n",
       "      <td>63.239153</td>\n",
       "      <td>41.277507</td>\n",
       "    </tr>\n",
       "    <tr>\n",
       "      <th>231</th>\n",
       "      <td>20200122</td>\n",
       "      <td>-0.15</td>\n",
       "      <td>22.226622</td>\n",
       "      <td>64.046273</td>\n",
       "      <td>41.819651</td>\n",
       "    </tr>\n",
       "    <tr>\n",
       "      <th>243</th>\n",
       "      <td>20200123</td>\n",
       "      <td>-0.15</td>\n",
       "      <td>22.343385</td>\n",
       "      <td>63.389238</td>\n",
       "      <td>41.045853</td>\n",
       "    </tr>\n",
       "    <tr>\n",
       "      <th>255</th>\n",
       "      <td>20200124</td>\n",
       "      <td>-0.15</td>\n",
       "      <td>24.283471</td>\n",
       "      <td>66.700610</td>\n",
       "      <td>42.417140</td>\n",
       "    </tr>\n",
       "    <tr>\n",
       "      <th>267</th>\n",
       "      <td>20200127</td>\n",
       "      <td>-0.15</td>\n",
       "      <td>28.576592</td>\n",
       "      <td>71.337987</td>\n",
       "      <td>42.761395</td>\n",
       "    </tr>\n",
       "    <tr>\n",
       "      <th>279</th>\n",
       "      <td>20200128</td>\n",
       "      <td>-0.15</td>\n",
       "      <td>25.766214</td>\n",
       "      <td>68.000133</td>\n",
       "      <td>42.233919</td>\n",
       "    </tr>\n",
       "    <tr>\n",
       "      <th>291</th>\n",
       "      <td>20200129</td>\n",
       "      <td>-0.15</td>\n",
       "      <td>25.222950</td>\n",
       "      <td>67.483559</td>\n",
       "      <td>42.260609</td>\n",
       "    </tr>\n",
       "    <tr>\n",
       "      <th>303</th>\n",
       "      <td>20200130</td>\n",
       "      <td>-0.15</td>\n",
       "      <td>23.749707</td>\n",
       "      <td>65.558805</td>\n",
       "      <td>41.809098</td>\n",
       "    </tr>\n",
       "    <tr>\n",
       "      <th>315</th>\n",
       "      <td>20200131</td>\n",
       "      <td>-0.15</td>\n",
       "      <td>28.285684</td>\n",
       "      <td>71.147009</td>\n",
       "      <td>42.861325</td>\n",
       "    </tr>\n",
       "    <tr>\n",
       "      <th>328</th>\n",
       "      <td>20200203</td>\n",
       "      <td>-0.15</td>\n",
       "      <td>25.947997</td>\n",
       "      <td>68.624918</td>\n",
       "      <td>42.676920</td>\n",
       "    </tr>\n",
       "    <tr>\n",
       "      <th>340</th>\n",
       "      <td>20200204</td>\n",
       "      <td>-0.15</td>\n",
       "      <td>22.143008</td>\n",
       "      <td>63.474311</td>\n",
       "      <td>41.331303</td>\n",
       "    </tr>\n",
       "    <tr>\n",
       "      <th>352</th>\n",
       "      <td>20200205</td>\n",
       "      <td>-0.15</td>\n",
       "      <td>20.873307</td>\n",
       "      <td>61.858470</td>\n",
       "      <td>40.985162</td>\n",
       "    </tr>\n",
       "    <tr>\n",
       "      <th>364</th>\n",
       "      <td>20200206</td>\n",
       "      <td>-0.15</td>\n",
       "      <td>20.530529</td>\n",
       "      <td>61.189389</td>\n",
       "      <td>40.658859</td>\n",
       "    </tr>\n",
       "    <tr>\n",
       "      <th>376</th>\n",
       "      <td>20200207</td>\n",
       "      <td>-0.15</td>\n",
       "      <td>21.280863</td>\n",
       "      <td>62.959844</td>\n",
       "      <td>41.678981</td>\n",
       "    </tr>\n",
       "    <tr>\n",
       "      <th>388</th>\n",
       "      <td>20200210</td>\n",
       "      <td>-0.15</td>\n",
       "      <td>20.541987</td>\n",
       "      <td>61.701138</td>\n",
       "      <td>41.159151</td>\n",
       "    </tr>\n",
       "    <tr>\n",
       "      <th>400</th>\n",
       "      <td>20200211</td>\n",
       "      <td>-0.15</td>\n",
       "      <td>20.321691</td>\n",
       "      <td>61.415636</td>\n",
       "      <td>41.093945</td>\n",
       "    </tr>\n",
       "    <tr>\n",
       "      <th>413</th>\n",
       "      <td>20200212</td>\n",
       "      <td>-0.15</td>\n",
       "      <td>18.571418</td>\n",
       "      <td>59.920459</td>\n",
       "      <td>41.349041</td>\n",
       "    </tr>\n",
       "    <tr>\n",
       "      <th>426</th>\n",
       "      <td>20200213</td>\n",
       "      <td>-0.15</td>\n",
       "      <td>19.356881</td>\n",
       "      <td>60.907389</td>\n",
       "      <td>41.550508</td>\n",
       "    </tr>\n",
       "    <tr>\n",
       "      <th>439</th>\n",
       "      <td>20200214</td>\n",
       "      <td>-0.15</td>\n",
       "      <td>18.603138</td>\n",
       "      <td>60.454074</td>\n",
       "      <td>41.850937</td>\n",
       "    </tr>\n",
       "    <tr>\n",
       "      <th>452</th>\n",
       "      <td>20200218</td>\n",
       "      <td>-0.15</td>\n",
       "      <td>18.959137</td>\n",
       "      <td>61.547252</td>\n",
       "      <td>42.588115</td>\n",
       "    </tr>\n",
       "    <tr>\n",
       "      <th>465</th>\n",
       "      <td>20200219</td>\n",
       "      <td>-0.15</td>\n",
       "      <td>18.273580</td>\n",
       "      <td>60.720446</td>\n",
       "      <td>42.446866</td>\n",
       "    </tr>\n",
       "    <tr>\n",
       "      <th>477</th>\n",
       "      <td>20200220</td>\n",
       "      <td>-0.15</td>\n",
       "      <td>19.590048</td>\n",
       "      <td>63.201380</td>\n",
       "      <td>43.611332</td>\n",
       "    </tr>\n",
       "    <tr>\n",
       "      <th>490</th>\n",
       "      <td>20200221</td>\n",
       "      <td>-0.15</td>\n",
       "      <td>21.422455</td>\n",
       "      <td>66.328203</td>\n",
       "      <td>44.905747</td>\n",
       "    </tr>\n",
       "    <tr>\n",
       "      <th>503</th>\n",
       "      <td>20200224</td>\n",
       "      <td>-0.15</td>\n",
       "      <td>30.730924</td>\n",
       "      <td>77.168973</td>\n",
       "      <td>46.438049</td>\n",
       "    </tr>\n",
       "    <tr>\n",
       "      <th>517</th>\n",
       "      <td>20200225</td>\n",
       "      <td>-0.15</td>\n",
       "      <td>32.982017</td>\n",
       "      <td>80.627113</td>\n",
       "      <td>47.645096</td>\n",
       "    </tr>\n",
       "    <tr>\n",
       "      <th>531</th>\n",
       "      <td>20200226</td>\n",
       "      <td>-0.15</td>\n",
       "      <td>31.810166</td>\n",
       "      <td>80.700841</td>\n",
       "      <td>48.890675</td>\n",
       "    </tr>\n",
       "    <tr>\n",
       "      <th>545</th>\n",
       "      <td>20200227</td>\n",
       "      <td>-0.15</td>\n",
       "      <td>49.445047</td>\n",
       "      <td>94.973360</td>\n",
       "      <td>45.528313</td>\n",
       "    </tr>\n",
       "    <tr>\n",
       "      <th>559</th>\n",
       "      <td>20200228</td>\n",
       "      <td>-0.15</td>\n",
       "      <td>58.412058</td>\n",
       "      <td>103.183754</td>\n",
       "      <td>44.771695</td>\n",
       "    </tr>\n",
       "    <tr>\n",
       "      <th>573</th>\n",
       "      <td>20200302</td>\n",
       "      <td>-0.15</td>\n",
       "      <td>48.166439</td>\n",
       "      <td>93.703342</td>\n",
       "      <td>45.536902</td>\n",
       "    </tr>\n",
       "    <tr>\n",
       "      <th>587</th>\n",
       "      <td>20200303</td>\n",
       "      <td>-0.15</td>\n",
       "      <td>54.271712</td>\n",
       "      <td>98.689250</td>\n",
       "      <td>44.417537</td>\n",
       "    </tr>\n",
       "    <tr>\n",
       "      <th>601</th>\n",
       "      <td>20200304</td>\n",
       "      <td>-0.15</td>\n",
       "      <td>47.931658</td>\n",
       "      <td>96.682397</td>\n",
       "      <td>48.750739</td>\n",
       "    </tr>\n",
       "    <tr>\n",
       "      <th>615</th>\n",
       "      <td>20200305</td>\n",
       "      <td>-0.15</td>\n",
       "      <td>65.919006</td>\n",
       "      <td>116.588766</td>\n",
       "      <td>50.669760</td>\n",
       "    </tr>\n",
       "    <tr>\n",
       "      <th>629</th>\n",
       "      <td>20200306</td>\n",
       "      <td>-0.15</td>\n",
       "      <td>75.228045</td>\n",
       "      <td>129.685944</td>\n",
       "      <td>54.457899</td>\n",
       "    </tr>\n",
       "    <tr>\n",
       "      <th>643</th>\n",
       "      <td>20200309</td>\n",
       "      <td>-0.15</td>\n",
       "      <td>97.011539</td>\n",
       "      <td>149.403498</td>\n",
       "      <td>52.391959</td>\n",
       "    </tr>\n",
       "    <tr>\n",
       "      <th>657</th>\n",
       "      <td>20200310</td>\n",
       "      <td>-0.15</td>\n",
       "      <td>89.072472</td>\n",
       "      <td>146.761938</td>\n",
       "      <td>57.689466</td>\n",
       "    </tr>\n",
       "    <tr>\n",
       "      <th>671</th>\n",
       "      <td>20200311</td>\n",
       "      <td>-0.15</td>\n",
       "      <td>100.789484</td>\n",
       "      <td>158.023478</td>\n",
       "      <td>57.233994</td>\n",
       "    </tr>\n",
       "    <tr>\n",
       "      <th>684</th>\n",
       "      <td>20200312</td>\n",
       "      <td>-0.15</td>\n",
       "      <td>137.286298</td>\n",
       "      <td>194.212090</td>\n",
       "      <td>56.925792</td>\n",
       "    </tr>\n",
       "    <tr>\n",
       "      <th>698</th>\n",
       "      <td>20200313</td>\n",
       "      <td>-0.15</td>\n",
       "      <td>115.969702</td>\n",
       "      <td>170.819058</td>\n",
       "      <td>54.849355</td>\n",
       "    </tr>\n",
       "  </tbody>\n",
       "</table>\n",
       "</div>"
      ],
      "text/plain": [
       "     settle_date  moneyness  optprice_leg_0  optprice_leg_1  strat_price\n",
       "3       20191223      -0.15       31.886741       75.305024    43.418283\n",
       "15      20191224      -0.15       31.526492       75.378477    43.851986\n",
       "27      20191226      -0.15       30.416339       74.398836    43.982497\n",
       "39      20191227      -0.15       31.518467       75.433538    43.915071\n",
       "51      20191230      -0.15       32.315385       77.476021    45.160636\n",
       "63      20191231      -0.15       30.218630       74.865965    44.647335\n",
       "75      20200102      -0.15       27.821272       71.997851    44.176579\n",
       "87      20200103      -0.15       29.814738       74.406374    44.591636\n",
       "99      20200106      -0.15       28.765809       73.606171    44.840361\n",
       "111     20200107      -0.15       28.550489       72.221009    43.670520\n",
       "123     20200108      -0.15       26.928905       70.164292    43.235387\n",
       "135     20200109      -0.15       25.679882       68.113179    42.433296\n",
       "147     20200110      -0.15       25.091583       67.945563    42.853981\n",
       "159     20200113      -0.15       23.784730       66.296899    42.512169\n",
       "171     20200114      -0.15       23.178730       65.387200    42.208470\n",
       "183     20200115      -0.15       22.804793       65.213434    42.408641\n",
       "195     20200116      -0.15       21.998729       63.799799    41.801071\n",
       "207     20200117      -0.15       21.770777       63.295270    41.524494\n",
       "219     20200121      -0.15       21.961646       63.239153    41.277507\n",
       "231     20200122      -0.15       22.226622       64.046273    41.819651\n",
       "243     20200123      -0.15       22.343385       63.389238    41.045853\n",
       "255     20200124      -0.15       24.283471       66.700610    42.417140\n",
       "267     20200127      -0.15       28.576592       71.337987    42.761395\n",
       "279     20200128      -0.15       25.766214       68.000133    42.233919\n",
       "291     20200129      -0.15       25.222950       67.483559    42.260609\n",
       "303     20200130      -0.15       23.749707       65.558805    41.809098\n",
       "315     20200131      -0.15       28.285684       71.147009    42.861325\n",
       "328     20200203      -0.15       25.947997       68.624918    42.676920\n",
       "340     20200204      -0.15       22.143008       63.474311    41.331303\n",
       "352     20200205      -0.15       20.873307       61.858470    40.985162\n",
       "364     20200206      -0.15       20.530529       61.189389    40.658859\n",
       "376     20200207      -0.15       21.280863       62.959844    41.678981\n",
       "388     20200210      -0.15       20.541987       61.701138    41.159151\n",
       "400     20200211      -0.15       20.321691       61.415636    41.093945\n",
       "413     20200212      -0.15       18.571418       59.920459    41.349041\n",
       "426     20200213      -0.15       19.356881       60.907389    41.550508\n",
       "439     20200214      -0.15       18.603138       60.454074    41.850937\n",
       "452     20200218      -0.15       18.959137       61.547252    42.588115\n",
       "465     20200219      -0.15       18.273580       60.720446    42.446866\n",
       "477     20200220      -0.15       19.590048       63.201380    43.611332\n",
       "490     20200221      -0.15       21.422455       66.328203    44.905747\n",
       "503     20200224      -0.15       30.730924       77.168973    46.438049\n",
       "517     20200225      -0.15       32.982017       80.627113    47.645096\n",
       "531     20200226      -0.15       31.810166       80.700841    48.890675\n",
       "545     20200227      -0.15       49.445047       94.973360    45.528313\n",
       "559     20200228      -0.15       58.412058      103.183754    44.771695\n",
       "573     20200302      -0.15       48.166439       93.703342    45.536902\n",
       "587     20200303      -0.15       54.271712       98.689250    44.417537\n",
       "601     20200304      -0.15       47.931658       96.682397    48.750739\n",
       "615     20200305      -0.15       65.919006      116.588766    50.669760\n",
       "629     20200306      -0.15       75.228045      129.685944    54.457899\n",
       "643     20200309      -0.15       97.011539      149.403498    52.391959\n",
       "657     20200310      -0.15       89.072472      146.761938    57.689466\n",
       "671     20200311      -0.15      100.789484      158.023478    57.233994\n",
       "684     20200312      -0.15      137.286298      194.212090    56.925792\n",
       "698     20200313      -0.15      115.969702      170.819058    54.849355"
      ]
     },
     "execution_count": 362,
     "metadata": {},
     "output_type": "execute_result"
    }
   ],
   "source": [
    "df_es_m0z0_2500_theo_values  = es_m0z0_2500.get_theo_values()\n",
    "df_es_m0z0_2500_theo_values[df_es_m0z0_2500_theo_values.moneyness==-.15]"
   ]
  },
  {
   "cell_type": "code",
   "execution_count": null,
   "metadata": {},
   "outputs": [],
   "source": []
  },
  {
   "cell_type": "code",
   "execution_count": 190,
   "metadata": {},
   "outputs": [],
   "source": [
    "es_m19_2000_leg = ot_from_sn('ESM19_2000_P_-1')\n",
    "es_z19_2000_leg = ot_from_sn('ESZ19_2000_P_1')\n",
    "es_m9z9_2000 = MultiLeg([es_m19_2000_leg,es_z19_2000_leg])\n"
   ]
  },
  {
   "cell_type": "code",
   "execution_count": 191,
   "metadata": {},
   "outputs": [
    {
     "data": {
      "text/html": [
       "<div>\n",
       "<style scoped>\n",
       "    .dataframe tbody tr th:only-of-type {\n",
       "        vertical-align: middle;\n",
       "    }\n",
       "\n",
       "    .dataframe tbody tr th {\n",
       "        vertical-align: top;\n",
       "    }\n",
       "\n",
       "    .dataframe thead th {\n",
       "        text-align: right;\n",
       "    }\n",
       "</style>\n",
       "<table border=\"1\" class=\"dataframe\">\n",
       "  <thead>\n",
       "    <tr style=\"text-align: right;\">\n",
       "      <th></th>\n",
       "      <th>settle_date</th>\n",
       "      <th>close_x</th>\n",
       "      <th>close_y_x</th>\n",
       "      <th>close_y_y</th>\n",
       "    </tr>\n",
       "  </thead>\n",
       "  <tbody>\n",
       "    <tr>\n",
       "      <th>0</th>\n",
       "      <td>20181224</td>\n",
       "      <td>32.75</td>\n",
       "      <td>2344.25</td>\n",
       "      <td>2352.75</td>\n",
       "    </tr>\n",
       "    <tr>\n",
       "      <th>1</th>\n",
       "      <td>20181226</td>\n",
       "      <td>27.75</td>\n",
       "      <td>2474.25</td>\n",
       "      <td>2484.50</td>\n",
       "    </tr>\n",
       "    <tr>\n",
       "      <th>2</th>\n",
       "      <td>20181227</td>\n",
       "      <td>27.50</td>\n",
       "      <td>2498.25</td>\n",
       "      <td>2506.25</td>\n",
       "    </tr>\n",
       "    <tr>\n",
       "      <th>3</th>\n",
       "      <td>20181228</td>\n",
       "      <td>27.75</td>\n",
       "      <td>2489.25</td>\n",
       "      <td>2498.75</td>\n",
       "    </tr>\n",
       "    <tr>\n",
       "      <th>4</th>\n",
       "      <td>20181231</td>\n",
       "      <td>27.50</td>\n",
       "      <td>2508.50</td>\n",
       "      <td>2514.50</td>\n",
       "    </tr>\n",
       "    <tr>\n",
       "      <th>...</th>\n",
       "      <td>...</td>\n",
       "      <td>...</td>\n",
       "      <td>...</td>\n",
       "      <td>...</td>\n",
       "    </tr>\n",
       "    <tr>\n",
       "      <th>119</th>\n",
       "      <td>20190617</td>\n",
       "      <td>5.45</td>\n",
       "      <td>2892.00</td>\n",
       "      <td>2897.50</td>\n",
       "    </tr>\n",
       "    <tr>\n",
       "      <th>120</th>\n",
       "      <td>20190618</td>\n",
       "      <td>5.20</td>\n",
       "      <td>2921.75</td>\n",
       "      <td>2927.75</td>\n",
       "    </tr>\n",
       "    <tr>\n",
       "      <th>121</th>\n",
       "      <td>20190619</td>\n",
       "      <td>4.95</td>\n",
       "      <td>2929.00</td>\n",
       "      <td>2934.25</td>\n",
       "    </tr>\n",
       "    <tr>\n",
       "      <th>122</th>\n",
       "      <td>20190620</td>\n",
       "      <td>4.85</td>\n",
       "      <td>2955.75</td>\n",
       "      <td>2960.50</td>\n",
       "    </tr>\n",
       "    <tr>\n",
       "      <th>123</th>\n",
       "      <td>20190621</td>\n",
       "      <td>4.99</td>\n",
       "      <td>2953.90</td>\n",
       "      <td>2951.50</td>\n",
       "    </tr>\n",
       "  </tbody>\n",
       "</table>\n",
       "<p>124 rows × 4 columns</p>\n",
       "</div>"
      ],
      "text/plain": [
       "     settle_date  close_x  close_y_x  close_y_y\n",
       "0       20181224    32.75    2344.25    2352.75\n",
       "1       20181226    27.75    2474.25    2484.50\n",
       "2       20181227    27.50    2498.25    2506.25\n",
       "3       20181228    27.75    2489.25    2498.75\n",
       "4       20181231    27.50    2508.50    2514.50\n",
       "..           ...      ...        ...        ...\n",
       "119     20190617     5.45    2892.00    2897.50\n",
       "120     20190618     5.20    2921.75    2927.75\n",
       "121     20190619     4.95    2929.00    2934.25\n",
       "122     20190620     4.85    2955.75    2960.50\n",
       "123     20190621     4.99    2953.90    2951.50\n",
       "\n",
       "[124 rows x 4 columns]"
      ]
     },
     "execution_count": 191,
     "metadata": {},
     "output_type": "execute_result"
    }
   ],
   "source": [
    "df_es_m9z9_2000 = es_m9z9_2000.get_values(['close_x'])\n",
    "df_m9 = es_m9z9_2000.hist_list[0][['settle_date','close_y']]\n",
    "df_z9 = es_m9z9_2000.hist_list[1][['settle_date','close_y']]\n",
    "df_es_m9z9_2000 = df_es_m9z9_2000.merge(df_m9,on='settle_date',how='inner')\n",
    "df_es_m9z9_2000 = df_es_m9z9_2000.merge(df_z9,on='settle_date',how='inner')\n",
    "df_es_m9z9_2000\n",
    "\n"
   ]
  },
  {
   "cell_type": "markdown",
   "metadata": {},
   "source": [
    "### get skew per leg"
   ]
  },
  {
   "cell_type": "code",
   "execution_count": 364,
   "metadata": {},
   "outputs": [
    {
     "data": {
      "text/plain": [
       "0.0033444816053511705"
      ]
     },
     "execution_count": 364,
     "metadata": {},
     "output_type": "execute_result"
    }
   ],
   "source": [
    "10/2990"
   ]
  },
  {
   "cell_type": "code",
   "execution_count": null,
   "metadata": {},
   "outputs": [],
   "source": []
  },
  {
   "cell_type": "code",
   "execution_count": null,
   "metadata": {},
   "outputs": [],
   "source": []
  },
  {
   "cell_type": "code",
   "execution_count": null,
   "metadata": {
    "scrolled": true
   },
   "outputs": [],
   "source": []
  },
  {
   "cell_type": "code",
   "execution_count": null,
   "metadata": {},
   "outputs": [],
   "source": []
  },
  {
   "cell_type": "code",
   "execution_count": null,
   "metadata": {},
   "outputs": [],
   "source": []
  },
  {
   "cell_type": "code",
   "execution_count": null,
   "metadata": {},
   "outputs": [],
   "source": []
  },
  {
   "cell_type": "markdown",
   "metadata": {},
   "source": [
    "## END"
   ]
  }
 ],
 "metadata": {
  "kernelspec": {
   "display_name": "Python 3",
   "language": "python",
   "name": "python3"
  },
  "language_info": {
   "codemirror_mode": {
    "name": "ipython",
    "version": 3
   },
   "file_extension": ".py",
   "mimetype": "text/x-python",
   "name": "python",
   "nbconvert_exporter": "python",
   "pygments_lexer": "ipython3",
   "version": "3.6.5"
  }
 },
 "nbformat": 4,
 "nbformat_minor": 2
}
