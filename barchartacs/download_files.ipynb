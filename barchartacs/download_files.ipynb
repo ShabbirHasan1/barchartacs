{
 "cells": [
  {
   "cell_type": "code",
   "execution_count": null,
   "metadata": {},
   "outputs": [],
   "source": [
    "import sel_scrape as sc\n",
    "from selenium import webdriver\n",
    "from selenium.webdriver.common.keys import Keys\n",
    "from selenium.webdriver.common.alert import Alert\n",
    "from selenium.webdriver.support.ui import WebDriverWait as wait\n",
    "from selenium.webdriver.support import expected_conditions as EC\n",
    "import requests\n",
    "from requests.auth import HTTPBasicAuth\n",
    "import os\n",
    "import time\n",
    "import traceback\n",
    "from tqdm import tqdm,tqdm_notebook\n"
   ]
  },
  {
   "cell_type": "code",
   "execution_count": null,
   "metadata": {},
   "outputs": [],
   "source": [
    "# import importlib\n",
    "# importlib.reload(sc)"
   ]
  },
  {
   "cell_type": "code",
   "execution_count": null,
   "metadata": {},
   "outputs": [],
   "source": [
    "ACS_HOME_PAGE = 'http://acs.barchart.com/mri/mripag.htm' \n",
    "ACS_LOGIN_INFO = './temp_folder/acs_login.txt'\n",
    "acs_text = open(ACS_LOGIN_INFO,'r').read()\n",
    "ACS_USERNAME = acs_text.split(',')[0]\n",
    "ACS_PASSWORD = acs_text.split(',')[1]\n",
    "ZIP_FOLDER_PARENT = open('./temp_folder/zip_folder_parent.txt','r').read()"
   ]
  },
  {
   "cell_type": "code",
   "execution_count": null,
   "metadata": {},
   "outputs": [],
   "source": [
    "sela = sc.SelScrape(headless=False)\n",
    "sela.goto(ACS_HOME_PAGE)\n",
    "time.sleep(1)\n",
    "wait(sela.driver, 5).until(EC.alert_is_present())\n",
    "alert = sela.driver.switch_to_alert()\n",
    "alert.send_keys(f'{ACS_USERNAME}{Keys.TAB}{ACS_PASSWORD}')\n",
    "time.sleep(1)\n",
    "alert.accept()\n"
   ]
  },
  {
   "cell_type": "code",
   "execution_count": null,
   "metadata": {},
   "outputs": [],
   "source": [
    "eod_files_xpath = \"//a[@href='mrifile.htm']\"\n",
    "eod_elem = sela.findxpath(eod_files_xpath)['value'][0]\n",
    "sela.goto(eod_elem.get_attribute('href'))\n",
    "opt_eod_xpath = \"//a[@href='mriopt.htm']\"\n",
    "opt_eod_elem = sela.findxpath(opt_eod_xpath)['value'][0]\n",
    "sela.goto(opt_eod_elem.get_attribute('href'))\n"
   ]
  },
  {
   "cell_type": "code",
   "execution_count": null,
   "metadata": {
    "scrolled": true
   },
   "outputs": [],
   "source": [
    "monthly_csv_files_xpath = \"//a[contains(@href,'data/opt/opv')]\"\n",
    "mcsv_elements = sela.findxpath(monthly_csv_files_xpath)['value']\n",
    "mcsv_hrefs = []\n",
    "for mcsv in mcsv_elements:\n",
    "    mcsv_hrefs.append(mcsv.get_attribute('href'))\n",
    "mcsv_hrefs"
   ]
  },
  {
   "cell_type": "code",
   "execution_count": null,
   "metadata": {},
   "outputs": [],
   "source": [
    "options_parent = ZIP_FOLDER_PARENT+'/options'\n",
    "hrefs_to_unzip = []\n",
    "paths_to_unzip_to = []\n",
    "for mcsv_href in mcsv_hrefs:\n",
    "    zip_file_name = mcsv_href.split('/')[-1]\n",
    "    folder_name = zip_file_name.replace('.zip','')\n",
    "    path_to_zip_folder = f'{options_parent}/{folder_name}'\n",
    "    if not os.path.isdir(path_to_zip_folder):\n",
    "        print(f'making {path_to_zip_folder}')\n",
    "        os.mkdir(path_to_zip_folder)\n",
    "    path_to_zip_file = f'{path_to_zip_folder}/{zip_file_name}'\n",
    "    if not os.path.isfile(path_to_zip_file):\n",
    "        hrefs_to_unzip.append(mcsv_href)\n",
    "        paths_to_unzip_to.append(path_to_zip_file)\n",
    "\n",
    "successful_downloads = []\n",
    "for i in tqdm_notebook(range(len(hrefs_to_unzip))):\n",
    "    url = hrefs_to_unzip[i]\n",
    "    path_to_zip_file = paths_to_unzip_to[i]\n",
    "    try:    \n",
    "        r=requests.get(url, auth=HTTPBasicAuth(ACS_USERNAME, ACS_PASSWORD))\n",
    "        p = paths_to_unzip_to[i]\n",
    "        with open(p, 'wb') as f:\n",
    "            f.write(r.content)\n",
    "        successful_downloads.append(path_to_zip_file)\n",
    "    except Exception as e:\n",
    "        traceback.print_exc()\n",
    "        \n",
    "\n",
    "        "
   ]
  }
 ],
 "metadata": {
  "kernelspec": {
   "display_name": "Python 3",
   "language": "python",
   "name": "python3"
  },
  "language_info": {
   "codemirror_mode": {
    "name": "ipython",
    "version": 3
   },
   "file_extension": ".py",
   "mimetype": "text/x-python",
   "name": "python",
   "nbconvert_exporter": "python",
   "pygments_lexer": "ipython3",
   "version": "3.6.5"
  }
 },
 "nbformat": 4,
 "nbformat_minor": 2
}
