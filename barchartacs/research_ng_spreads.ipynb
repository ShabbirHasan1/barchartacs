{
 "cells": [
  {
   "cell_type": "code",
   "execution_count": 7,
   "metadata": {},
   "outputs": [],
   "source": [
    "import pandas as pd\n",
    "import numpy as np\n",
    "import sys,os\n",
    "this_dir = os.path.abspath('.')\n",
    "parent_dir = os.path.abspath('..')\n",
    "if this_dir not in sys.path:\n",
    "    sys.path.append(parent_dir)\n",
    "    sys.path.append(this_dir)\n",
    "import db_info#@UnresolvedImport\n",
    "import typing\n",
    "import plotly_utilities as pu\n",
    "import datetime\n",
    "from IPython import display\n"
   ]
  },
  {
   "cell_type": "code",
   "execution_count": null,
   "metadata": {},
   "outputs": [],
   "source": []
  },
  {
   "cell_type": "code",
   "execution_count": 2,
   "metadata": {},
   "outputs": [],
   "source": [
    "opttab = 'sec_schema.options_table'\n",
    "futtab = 'sec_schema.underlying_table'"
   ]
  },
  {
   "cell_type": "code",
   "execution_count": 4,
   "metadata": {},
   "outputs": [
    {
     "name": "stdout",
     "output_type": "stream",
     "text": [
      "  sec_db\n"
     ]
    }
   ],
   "source": [
    "sqld = SqlDownloader(config_name='local')"
   ]
  },
  {
   "cell_type": "code",
   "execution_count": 3,
   "metadata": {
    "scrolled": false
   },
   "outputs": [],
   "source": [
    "StrList = typing.List[str]\n",
    "class SqlDownloader():\n",
    "    def __init__(self,config_name:str='local'):\n",
    "        self.pga = db_info.get_db_info(config_name=config_name)\n",
    "    \n",
    "    def get_sql(\n",
    "        self,\n",
    "        columns=None,\n",
    "        table=futtab,\n",
    "        where_clauses=None,\n",
    "        groupby_columns=None,\n",
    "        orderby_columns=None,\n",
    "        limit=None\n",
    "    ):\n",
    "        cols = '*' if columns is None else ','.join(columns)\n",
    "        sql = f\"select {cols} from {table}\"\n",
    "        \n",
    "        if where_clauses is not None:\n",
    "            wc_string = f'where {where_clauses[0]}'\n",
    "            if len(where_clauses)>1:\n",
    "                wc_string =  wc_string + \" and \" + ' and '.join(where_clauses[1:])\n",
    "            wc_string = wc_string.replace('%','%%')\n",
    "            sql = sql + \" \" + f\"{wc_string}\"\n",
    "        if groupby_columns is not None:\n",
    "            sql += f\" group by {','.join(groupby_columns)}\"\n",
    "        if orderby_columns is not None:\n",
    "            sql += f\" order by {','.join(orderby_columns)}\"\n",
    "        if limit is not None:\n",
    "            sql += f\" limit {int(str(limit))}\"\n",
    "        df = self.pga.get_sql(sql)\n",
    "        return df\n",
    "        \n",
    "    def get_options(self,symbol:str,yyyymmdd_beg:int=None,yyyymmdd_end:int=None):\n",
    "        sql = f\"select * from {opttab} where symbol='{symbol}'\"\n",
    "        if yyyymmdd_beg is not None:\n",
    "            sql += f' and settle_date>={yyyymmdd_beg}'\n",
    "        if yyyymmdd_end is not None:\n",
    "            sql += f' and settle_date<={yyyymmdd_end}'\n",
    "        df =  self.pga.get_sql(sql)\n",
    "        if df is not None and len(df)>2:\n",
    "            df = df.sort_values(['pc','settle_date','strike'])\n",
    "        return df\n",
    "\n",
    "    def get_futures(self,symbol_list:StrList,yyyymmdd_beg:int=None,yyyymmdd_end:int=None):\n",
    "        if type(symbol_list) is list or type(symbol_list) is np.ndarray:\n",
    "            sym_string = \",\".join([f\"'{s}'\" for s in symbol_list]) \n",
    "        else:\n",
    "            sym_string = f\"'{symbol_list}'\"\n",
    "        sql = f\"select * from {futtab} where symbol in ({sym_string})\"\n",
    "        if yyyymmdd_beg is not None:\n",
    "            sql += f' and settle_date>={yyyymmdd_beg}'\n",
    "        if yyyymmdd_end is not None:\n",
    "            sql += f' and settle_date<={yyyymmdd_end}'\n",
    "        df =  self.pga.get_sql(sql)\n",
    "        if df is not None and len(df)>2:\n",
    "            df = df.sort_values(['symbol','settle_date'])\n",
    "        return df\n"
   ]
  },
  {
   "cell_type": "code",
   "execution_count": 43,
   "metadata": {},
   "outputs": [],
   "source": [
    "def get_spread(c1,c2):\n",
    "    df_c1 = sqld.get_futures(c1)[['settle_date','close']]\n",
    "    df_c1 = df_c1.rename(columns={'close':c1})\n",
    "    df_c2 = sqld.get_futures(c2)[['settle_date','close']]\n",
    "    df_c2 = df_c2.rename(columns={'close':c2})\n",
    "    df_both = df_c1.merge(df_c2,how='inner',on='settle_date')\n",
    "    df_both[f\"{c1}_{c2}\"] = df_both[c1] - df_both[c2]\n",
    "    return df_both\n",
    "\n",
    "def get_spread_stats(c1,c2,beg_yyyymmdd=None,end_yyyymmdd=None):\n",
    "    bd = beg_yyyymmdd\n",
    "    if bd is None:\n",
    "        # get year of c1\n",
    "        bd = (int(c1[-2:])+2000)*100*100 + 101\n",
    "    ed = end_yyyymmdd\n",
    "    if ed is None:\n",
    "        ed = (int(c2[-2:])+2000)*100*100 + 1231\n",
    "    df_spr = get_spread(c1,c2)\n",
    "    df_spr = df_spr[(df_spr.settle_date>=bd) & (df_spr.settle_date<=ed)]\n",
    "    r = {}\n",
    "    r['min'] = df_spr[f\"{c1}_{c2}\"].min()\n",
    "    r['max'] = df_spr[f\"{c1}_{c2}\"].max()\n",
    "    min_date = df_spr[df_spr[f\"{c1}_{c2}\"]<=r['min']].iloc[0].settle_date\n",
    "    r['min_date'] = min_date\n",
    "    max_date = df_spr[df_spr[f\"{c1}_{c2}\"]>=r['max']].iloc[0].settle_date\n",
    "    r['max_date'] = max_date\n",
    "    r['last_value'] = df_spr.iloc[-1][f\"{c1}_{c2}\"]\n",
    "    return r"
   ]
  },
  {
   "cell_type": "code",
   "execution_count": 44,
   "metadata": {},
   "outputs": [
    {
     "data": {
      "text/html": [
       "<div>\n",
       "<style scoped>\n",
       "    .dataframe tbody tr th:only-of-type {\n",
       "        vertical-align: middle;\n",
       "    }\n",
       "\n",
       "    .dataframe tbody tr th {\n",
       "        vertical-align: top;\n",
       "    }\n",
       "\n",
       "    .dataframe thead th {\n",
       "        text-align: right;\n",
       "    }\n",
       "</style>\n",
       "<table border=\"1\" class=\"dataframe\">\n",
       "  <thead>\n",
       "    <tr style=\"text-align: right;\">\n",
       "      <th></th>\n",
       "      <th>settle_date</th>\n",
       "      <th>NGH21</th>\n",
       "      <th>NGN21</th>\n",
       "      <th>NGH21_NGN21</th>\n",
       "    </tr>\n",
       "  </thead>\n",
       "  <tbody>\n",
       "    <tr>\n",
       "      <th>0</th>\n",
       "      <td>20110801</td>\n",
       "      <td>7.364</td>\n",
       "      <td>7.089</td>\n",
       "      <td>0.275</td>\n",
       "    </tr>\n",
       "    <tr>\n",
       "      <th>1</th>\n",
       "      <td>20110802</td>\n",
       "      <td>7.272</td>\n",
       "      <td>6.999</td>\n",
       "      <td>0.273</td>\n",
       "    </tr>\n",
       "    <tr>\n",
       "      <th>2</th>\n",
       "      <td>20110803</td>\n",
       "      <td>7.223</td>\n",
       "      <td>6.950</td>\n",
       "      <td>0.273</td>\n",
       "    </tr>\n",
       "    <tr>\n",
       "      <th>3</th>\n",
       "      <td>20110804</td>\n",
       "      <td>7.108</td>\n",
       "      <td>6.856</td>\n",
       "      <td>0.252</td>\n",
       "    </tr>\n",
       "    <tr>\n",
       "      <th>4</th>\n",
       "      <td>20110805</td>\n",
       "      <td>7.045</td>\n",
       "      <td>6.803</td>\n",
       "      <td>0.242</td>\n",
       "    </tr>\n",
       "    <tr>\n",
       "      <th>...</th>\n",
       "      <td>...</td>\n",
       "      <td>...</td>\n",
       "      <td>...</td>\n",
       "      <td>...</td>\n",
       "    </tr>\n",
       "    <tr>\n",
       "      <th>2379</th>\n",
       "      <td>20210111</td>\n",
       "      <td>2.703</td>\n",
       "      <td>2.842</td>\n",
       "      <td>-0.139</td>\n",
       "    </tr>\n",
       "    <tr>\n",
       "      <th>2380</th>\n",
       "      <td>20210112</td>\n",
       "      <td>2.707</td>\n",
       "      <td>2.841</td>\n",
       "      <td>-0.134</td>\n",
       "    </tr>\n",
       "    <tr>\n",
       "      <th>2381</th>\n",
       "      <td>20210113</td>\n",
       "      <td>2.689</td>\n",
       "      <td>2.843</td>\n",
       "      <td>-0.154</td>\n",
       "    </tr>\n",
       "    <tr>\n",
       "      <th>2382</th>\n",
       "      <td>20210114</td>\n",
       "      <td>2.630</td>\n",
       "      <td>2.802</td>\n",
       "      <td>-0.172</td>\n",
       "    </tr>\n",
       "    <tr>\n",
       "      <th>2383</th>\n",
       "      <td>20210115</td>\n",
       "      <td>2.696</td>\n",
       "      <td>2.856</td>\n",
       "      <td>-0.160</td>\n",
       "    </tr>\n",
       "  </tbody>\n",
       "</table>\n",
       "<p>2384 rows × 4 columns</p>\n",
       "</div>"
      ],
      "text/plain": [
       "      settle_date  NGH21  NGN21  NGH21_NGN21\n",
       "0        20110801  7.364  7.089        0.275\n",
       "1        20110802  7.272  6.999        0.273\n",
       "2        20110803  7.223  6.950        0.273\n",
       "3        20110804  7.108  6.856        0.252\n",
       "4        20110805  7.045  6.803        0.242\n",
       "...           ...    ...    ...          ...\n",
       "2379     20210111  2.703  2.842       -0.139\n",
       "2380     20210112  2.707  2.841       -0.134\n",
       "2381     20210113  2.689  2.843       -0.154\n",
       "2382     20210114  2.630  2.802       -0.172\n",
       "2383     20210115  2.696  2.856       -0.160\n",
       "\n",
       "[2384 rows x 4 columns]"
      ]
     },
     "execution_count": 44,
     "metadata": {},
     "output_type": "execute_result"
    }
   ],
   "source": [
    "get_spread(c1,c2)"
   ]
  },
  {
   "cell_type": "code",
   "execution_count": 45,
   "metadata": {},
   "outputs": [
    {
     "data": {
      "text/html": [
       "<div>\n",
       "<style scoped>\n",
       "    .dataframe tbody tr th:only-of-type {\n",
       "        vertical-align: middle;\n",
       "    }\n",
       "\n",
       "    .dataframe tbody tr th {\n",
       "        vertical-align: top;\n",
       "    }\n",
       "\n",
       "    .dataframe thead th {\n",
       "        text-align: right;\n",
       "    }\n",
       "</style>\n",
       "<table border=\"1\" class=\"dataframe\">\n",
       "  <thead>\n",
       "    <tr style=\"text-align: right;\">\n",
       "      <th></th>\n",
       "      <th>symbol</th>\n",
       "      <th>min_spr</th>\n",
       "      <th>min_spr_date</th>\n",
       "      <th>max_spr</th>\n",
       "      <th>max_spr_date</th>\n",
       "      <th>last_value</th>\n",
       "    </tr>\n",
       "  </thead>\n",
       "  <tbody>\n",
       "    <tr>\n",
       "      <th>0</th>\n",
       "      <td>NGH13_NGN13</td>\n",
       "      <td>-0.259</td>\n",
       "      <td>20130208.0</td>\n",
       "      <td>-0.026</td>\n",
       "      <td>20121019.0</td>\n",
       "      <td>-0.178</td>\n",
       "    </tr>\n",
       "    <tr>\n",
       "      <th>1</th>\n",
       "      <td>NGH14_NGN14</td>\n",
       "      <td>-0.101</td>\n",
       "      <td>20131105.0</td>\n",
       "      <td>1.362</td>\n",
       "      <td>20140219.0</td>\n",
       "      <td>0.336</td>\n",
       "    </tr>\n",
       "    <tr>\n",
       "      <th>2</th>\n",
       "      <td>NGH15_NGN15</td>\n",
       "      <td>-0.190</td>\n",
       "      <td>20150209.0</td>\n",
       "      <td>0.814</td>\n",
       "      <td>20140221.0</td>\n",
       "      <td>-0.080</td>\n",
       "    </tr>\n",
       "    <tr>\n",
       "      <th>3</th>\n",
       "      <td>NGH16_NGN16</td>\n",
       "      <td>-0.341</td>\n",
       "      <td>20151218.0</td>\n",
       "      <td>0.162</td>\n",
       "      <td>20150515.0</td>\n",
       "      <td>-0.308</td>\n",
       "    </tr>\n",
       "    <tr>\n",
       "      <th>4</th>\n",
       "      <td>NGH17_NGN17</td>\n",
       "      <td>-0.378</td>\n",
       "      <td>20170224.0</td>\n",
       "      <td>0.295</td>\n",
       "      <td>20160628.0</td>\n",
       "      <td>-0.378</td>\n",
       "    </tr>\n",
       "    <tr>\n",
       "      <th>5</th>\n",
       "      <td>NGH18_NGN18</td>\n",
       "      <td>-0.157</td>\n",
       "      <td>20180216.0</td>\n",
       "      <td>0.680</td>\n",
       "      <td>20170406.0</td>\n",
       "      <td>-0.144</td>\n",
       "    </tr>\n",
       "    <tr>\n",
       "      <th>6</th>\n",
       "      <td>NGH19_NGN19</td>\n",
       "      <td>-0.179</td>\n",
       "      <td>20190213.0</td>\n",
       "      <td>1.702</td>\n",
       "      <td>20181114.0</td>\n",
       "      <td>-0.029</td>\n",
       "    </tr>\n",
       "    <tr>\n",
       "      <th>7</th>\n",
       "      <td>NGH20_NGN20</td>\n",
       "      <td>-0.252</td>\n",
       "      <td>20200121.0</td>\n",
       "      <td>0.395</td>\n",
       "      <td>20190301.0</td>\n",
       "      <td>-0.199</td>\n",
       "    </tr>\n",
       "    <tr>\n",
       "      <th>8</th>\n",
       "      <td>NGH21_NGN21</td>\n",
       "      <td>-0.189</td>\n",
       "      <td>20201228.0</td>\n",
       "      <td>0.376</td>\n",
       "      <td>20200924.0</td>\n",
       "      <td>-0.160</td>\n",
       "    </tr>\n",
       "  </tbody>\n",
       "</table>\n",
       "</div>"
      ],
      "text/plain": [
       "        symbol  min_spr  min_spr_date  max_spr  max_spr_date  last_value\n",
       "0  NGH13_NGN13   -0.259    20130208.0   -0.026    20121019.0      -0.178\n",
       "1  NGH14_NGN14   -0.101    20131105.0    1.362    20140219.0       0.336\n",
       "2  NGH15_NGN15   -0.190    20150209.0    0.814    20140221.0      -0.080\n",
       "3  NGH16_NGN16   -0.341    20151218.0    0.162    20150515.0      -0.308\n",
       "4  NGH17_NGN17   -0.378    20170224.0    0.295    20160628.0      -0.378\n",
       "5  NGH18_NGN18   -0.157    20180216.0    0.680    20170406.0      -0.144\n",
       "6  NGH19_NGN19   -0.179    20190213.0    1.702    20181114.0      -0.029\n",
       "7  NGH20_NGN20   -0.252    20200121.0    0.395    20190301.0      -0.199\n",
       "8  NGH21_NGN21   -0.189    20201228.0    0.376    20200924.0      -0.160"
      ]
     },
     "execution_count": 45,
     "metadata": {},
     "output_type": "execute_result"
    }
   ],
   "source": [
    "c1 = 'NGH21'\n",
    "c2 = 'NGN21'\n",
    "spr = []\n",
    "min_spr = []\n",
    "min_spr_date = []\n",
    "max_spr = []\n",
    "max_spr_date = []\n",
    "last_value = []\n",
    "\n",
    "for yy in range(13,22):\n",
    "    yyyy = 2000 + yy\n",
    "    bd = (yyyy-1)*100*100+101\n",
    "    c1 = 'NGH' + str(yy)\n",
    "    c2 = 'NGN' + str(yy)\n",
    "    r = get_spread_stats(c1,c2,beg_yyyymmdd=bd)\n",
    "    spr.append(f\"{c1}_{c2}\")\n",
    "    min_spr.append(r['min'])\n",
    "    min_spr_date.append(r['min_date'])\n",
    "    max_spr.append(r['max'])\n",
    "    max_spr_date.append(r['max_date'])\n",
    "    last_value.append(r['last_value'])\n",
    "df_spr_stats = pd.DataFrame(\n",
    "    {'symbol':spr,'min_spr':min_spr,'min_spr_date':min_spr_date,\n",
    "     'max_spr':max_spr,'max_spr_date':max_spr_date,'last_value':last_value}\n",
    ")    \n",
    "df_spr_stats"
   ]
  },
  {
   "cell_type": "code",
   "execution_count": 52,
   "metadata": {},
   "outputs": [
    {
     "data": {
      "application/vnd.plotly.v1+json": {
       "config": {
        "linkText": "Export to plot.ly",
        "plotlyServerURL": "https://plot.ly",
        "showLink": false
       },
       "data": [
        {
         "name": "min_spr",
         "opacity": 1,
         "type": "bar",
         "x": [
          "NGH13_NGN13",
          "NGH14_NGN14",
          "NGH15_NGN15",
          "NGH16_NGN16",
          "NGH17_NGN17",
          "NGH18_NGN18",
          "NGH19_NGN19",
          "NGH20_NGN20",
          "NGH21_NGN21"
         ],
         "y": [
          -0.25900000000000034,
          -0.10099999999999998,
          -0.18999999999999995,
          -0.3410000000000002,
          -0.3780000000000001,
          -0.15700000000000003,
          -0.17899999999999983,
          -0.252,
          -0.1889999999999996
         ],
         "yaxis": "y"
        },
        {
         "name": "max_spr",
         "opacity": 1,
         "type": "bar",
         "x": [
          "NGH13_NGN13",
          "NGH14_NGN14",
          "NGH15_NGN15",
          "NGH16_NGN16",
          "NGH17_NGN17",
          "NGH18_NGN18",
          "NGH19_NGN19",
          "NGH20_NGN20",
          "NGH21_NGN21"
         ],
         "y": [
          -0.0259999999999998,
          1.362,
          0.8140000000000001,
          0.16199999999999992,
          0.29499999999999993,
          0.6800000000000002,
          1.7020000000000004,
          0.395,
          0.3759999999999999
         ],
         "yaxis": "y"
        },
        {
         "name": "last_value",
         "opacity": 1,
         "type": "bar",
         "x": [
          "NGH13_NGN13",
          "NGH14_NGN14",
          "NGH15_NGN15",
          "NGH16_NGN16",
          "NGH17_NGN17",
          "NGH18_NGN18",
          "NGH19_NGN19",
          "NGH20_NGN20",
          "NGH21_NGN21"
         ],
         "y": [
          -0.17799999999999994,
          0.3360000000000003,
          -0.08000000000000007,
          -0.30800000000000005,
          -0.3780000000000001,
          -0.14400000000000013,
          -0.028999999999999915,
          -0.19900000000000007,
          -0.1599999999999997
         ],
         "yaxis": "y"
        }
       ],
       "layout": {
        "autosize": true,
        "hovermode": "x",
        "margin": {
         "b": 100
        },
        "modebar": {
         "bgcolor": "grey",
         "orientation": "v"
        },
        "spikedistance": 1000,
        "template": {
         "data": {
          "bar": [
           {
            "error_x": {
             "color": "#2a3f5f"
            },
            "error_y": {
             "color": "#2a3f5f"
            },
            "marker": {
             "line": {
              "color": "#E5ECF6",
              "width": 0.5
             }
            },
            "type": "bar"
           }
          ],
          "barpolar": [
           {
            "marker": {
             "line": {
              "color": "#E5ECF6",
              "width": 0.5
             }
            },
            "type": "barpolar"
           }
          ],
          "carpet": [
           {
            "aaxis": {
             "endlinecolor": "#2a3f5f",
             "gridcolor": "white",
             "linecolor": "white",
             "minorgridcolor": "white",
             "startlinecolor": "#2a3f5f"
            },
            "baxis": {
             "endlinecolor": "#2a3f5f",
             "gridcolor": "white",
             "linecolor": "white",
             "minorgridcolor": "white",
             "startlinecolor": "#2a3f5f"
            },
            "type": "carpet"
           }
          ],
          "choropleth": [
           {
            "colorbar": {
             "outlinewidth": 0,
             "ticks": ""
            },
            "type": "choropleth"
           }
          ],
          "contour": [
           {
            "colorbar": {
             "outlinewidth": 0,
             "ticks": ""
            },
            "colorscale": [
             [
              0,
              "#0d0887"
             ],
             [
              0.1111111111111111,
              "#46039f"
             ],
             [
              0.2222222222222222,
              "#7201a8"
             ],
             [
              0.3333333333333333,
              "#9c179e"
             ],
             [
              0.4444444444444444,
              "#bd3786"
             ],
             [
              0.5555555555555556,
              "#d8576b"
             ],
             [
              0.6666666666666666,
              "#ed7953"
             ],
             [
              0.7777777777777778,
              "#fb9f3a"
             ],
             [
              0.8888888888888888,
              "#fdca26"
             ],
             [
              1,
              "#f0f921"
             ]
            ],
            "type": "contour"
           }
          ],
          "contourcarpet": [
           {
            "colorbar": {
             "outlinewidth": 0,
             "ticks": ""
            },
            "type": "contourcarpet"
           }
          ],
          "heatmap": [
           {
            "colorbar": {
             "outlinewidth": 0,
             "ticks": ""
            },
            "colorscale": [
             [
              0,
              "#0d0887"
             ],
             [
              0.1111111111111111,
              "#46039f"
             ],
             [
              0.2222222222222222,
              "#7201a8"
             ],
             [
              0.3333333333333333,
              "#9c179e"
             ],
             [
              0.4444444444444444,
              "#bd3786"
             ],
             [
              0.5555555555555556,
              "#d8576b"
             ],
             [
              0.6666666666666666,
              "#ed7953"
             ],
             [
              0.7777777777777778,
              "#fb9f3a"
             ],
             [
              0.8888888888888888,
              "#fdca26"
             ],
             [
              1,
              "#f0f921"
             ]
            ],
            "type": "heatmap"
           }
          ],
          "heatmapgl": [
           {
            "colorbar": {
             "outlinewidth": 0,
             "ticks": ""
            },
            "colorscale": [
             [
              0,
              "#0d0887"
             ],
             [
              0.1111111111111111,
              "#46039f"
             ],
             [
              0.2222222222222222,
              "#7201a8"
             ],
             [
              0.3333333333333333,
              "#9c179e"
             ],
             [
              0.4444444444444444,
              "#bd3786"
             ],
             [
              0.5555555555555556,
              "#d8576b"
             ],
             [
              0.6666666666666666,
              "#ed7953"
             ],
             [
              0.7777777777777778,
              "#fb9f3a"
             ],
             [
              0.8888888888888888,
              "#fdca26"
             ],
             [
              1,
              "#f0f921"
             ]
            ],
            "type": "heatmapgl"
           }
          ],
          "histogram": [
           {
            "marker": {
             "colorbar": {
              "outlinewidth": 0,
              "ticks": ""
             }
            },
            "type": "histogram"
           }
          ],
          "histogram2d": [
           {
            "colorbar": {
             "outlinewidth": 0,
             "ticks": ""
            },
            "colorscale": [
             [
              0,
              "#0d0887"
             ],
             [
              0.1111111111111111,
              "#46039f"
             ],
             [
              0.2222222222222222,
              "#7201a8"
             ],
             [
              0.3333333333333333,
              "#9c179e"
             ],
             [
              0.4444444444444444,
              "#bd3786"
             ],
             [
              0.5555555555555556,
              "#d8576b"
             ],
             [
              0.6666666666666666,
              "#ed7953"
             ],
             [
              0.7777777777777778,
              "#fb9f3a"
             ],
             [
              0.8888888888888888,
              "#fdca26"
             ],
             [
              1,
              "#f0f921"
             ]
            ],
            "type": "histogram2d"
           }
          ],
          "histogram2dcontour": [
           {
            "colorbar": {
             "outlinewidth": 0,
             "ticks": ""
            },
            "colorscale": [
             [
              0,
              "#0d0887"
             ],
             [
              0.1111111111111111,
              "#46039f"
             ],
             [
              0.2222222222222222,
              "#7201a8"
             ],
             [
              0.3333333333333333,
              "#9c179e"
             ],
             [
              0.4444444444444444,
              "#bd3786"
             ],
             [
              0.5555555555555556,
              "#d8576b"
             ],
             [
              0.6666666666666666,
              "#ed7953"
             ],
             [
              0.7777777777777778,
              "#fb9f3a"
             ],
             [
              0.8888888888888888,
              "#fdca26"
             ],
             [
              1,
              "#f0f921"
             ]
            ],
            "type": "histogram2dcontour"
           }
          ],
          "mesh3d": [
           {
            "colorbar": {
             "outlinewidth": 0,
             "ticks": ""
            },
            "type": "mesh3d"
           }
          ],
          "parcoords": [
           {
            "line": {
             "colorbar": {
              "outlinewidth": 0,
              "ticks": ""
             }
            },
            "type": "parcoords"
           }
          ],
          "pie": [
           {
            "automargin": true,
            "type": "pie"
           }
          ],
          "scatter": [
           {
            "marker": {
             "colorbar": {
              "outlinewidth": 0,
              "ticks": ""
             }
            },
            "type": "scatter"
           }
          ],
          "scatter3d": [
           {
            "line": {
             "colorbar": {
              "outlinewidth": 0,
              "ticks": ""
             }
            },
            "marker": {
             "colorbar": {
              "outlinewidth": 0,
              "ticks": ""
             }
            },
            "type": "scatter3d"
           }
          ],
          "scattercarpet": [
           {
            "marker": {
             "colorbar": {
              "outlinewidth": 0,
              "ticks": ""
             }
            },
            "type": "scattercarpet"
           }
          ],
          "scattergeo": [
           {
            "marker": {
             "colorbar": {
              "outlinewidth": 0,
              "ticks": ""
             }
            },
            "type": "scattergeo"
           }
          ],
          "scattergl": [
           {
            "marker": {
             "colorbar": {
              "outlinewidth": 0,
              "ticks": ""
             }
            },
            "type": "scattergl"
           }
          ],
          "scattermapbox": [
           {
            "marker": {
             "colorbar": {
              "outlinewidth": 0,
              "ticks": ""
             }
            },
            "type": "scattermapbox"
           }
          ],
          "scatterpolar": [
           {
            "marker": {
             "colorbar": {
              "outlinewidth": 0,
              "ticks": ""
             }
            },
            "type": "scatterpolar"
           }
          ],
          "scatterpolargl": [
           {
            "marker": {
             "colorbar": {
              "outlinewidth": 0,
              "ticks": ""
             }
            },
            "type": "scatterpolargl"
           }
          ],
          "scatterternary": [
           {
            "marker": {
             "colorbar": {
              "outlinewidth": 0,
              "ticks": ""
             }
            },
            "type": "scatterternary"
           }
          ],
          "surface": [
           {
            "colorbar": {
             "outlinewidth": 0,
             "ticks": ""
            },
            "colorscale": [
             [
              0,
              "#0d0887"
             ],
             [
              0.1111111111111111,
              "#46039f"
             ],
             [
              0.2222222222222222,
              "#7201a8"
             ],
             [
              0.3333333333333333,
              "#9c179e"
             ],
             [
              0.4444444444444444,
              "#bd3786"
             ],
             [
              0.5555555555555556,
              "#d8576b"
             ],
             [
              0.6666666666666666,
              "#ed7953"
             ],
             [
              0.7777777777777778,
              "#fb9f3a"
             ],
             [
              0.8888888888888888,
              "#fdca26"
             ],
             [
              1,
              "#f0f921"
             ]
            ],
            "type": "surface"
           }
          ],
          "table": [
           {
            "cells": {
             "fill": {
              "color": "#EBF0F8"
             },
             "line": {
              "color": "white"
             }
            },
            "header": {
             "fill": {
              "color": "#C8D4E3"
             },
             "line": {
              "color": "white"
             }
            },
            "type": "table"
           }
          ]
         },
         "layout": {
          "annotationdefaults": {
           "arrowcolor": "#2a3f5f",
           "arrowhead": 0,
           "arrowwidth": 1
          },
          "coloraxis": {
           "colorbar": {
            "outlinewidth": 0,
            "ticks": ""
           }
          },
          "colorscale": {
           "diverging": [
            [
             0,
             "#8e0152"
            ],
            [
             0.1,
             "#c51b7d"
            ],
            [
             0.2,
             "#de77ae"
            ],
            [
             0.3,
             "#f1b6da"
            ],
            [
             0.4,
             "#fde0ef"
            ],
            [
             0.5,
             "#f7f7f7"
            ],
            [
             0.6,
             "#e6f5d0"
            ],
            [
             0.7,
             "#b8e186"
            ],
            [
             0.8,
             "#7fbc41"
            ],
            [
             0.9,
             "#4d9221"
            ],
            [
             1,
             "#276419"
            ]
           ],
           "sequential": [
            [
             0,
             "#0d0887"
            ],
            [
             0.1111111111111111,
             "#46039f"
            ],
            [
             0.2222222222222222,
             "#7201a8"
            ],
            [
             0.3333333333333333,
             "#9c179e"
            ],
            [
             0.4444444444444444,
             "#bd3786"
            ],
            [
             0.5555555555555556,
             "#d8576b"
            ],
            [
             0.6666666666666666,
             "#ed7953"
            ],
            [
             0.7777777777777778,
             "#fb9f3a"
            ],
            [
             0.8888888888888888,
             "#fdca26"
            ],
            [
             1,
             "#f0f921"
            ]
           ],
           "sequentialminus": [
            [
             0,
             "#0d0887"
            ],
            [
             0.1111111111111111,
             "#46039f"
            ],
            [
             0.2222222222222222,
             "#7201a8"
            ],
            [
             0.3333333333333333,
             "#9c179e"
            ],
            [
             0.4444444444444444,
             "#bd3786"
            ],
            [
             0.5555555555555556,
             "#d8576b"
            ],
            [
             0.6666666666666666,
             "#ed7953"
            ],
            [
             0.7777777777777778,
             "#fb9f3a"
            ],
            [
             0.8888888888888888,
             "#fdca26"
            ],
            [
             1,
             "#f0f921"
            ]
           ]
          },
          "colorway": [
           "#636efa",
           "#EF553B",
           "#00cc96",
           "#ab63fa",
           "#FFA15A",
           "#19d3f3",
           "#FF6692",
           "#B6E880",
           "#FF97FF",
           "#FECB52"
          ],
          "font": {
           "color": "#2a3f5f"
          },
          "geo": {
           "bgcolor": "white",
           "lakecolor": "white",
           "landcolor": "#E5ECF6",
           "showlakes": true,
           "showland": true,
           "subunitcolor": "white"
          },
          "hoverlabel": {
           "align": "left"
          },
          "hovermode": "closest",
          "mapbox": {
           "style": "light"
          },
          "paper_bgcolor": "white",
          "plot_bgcolor": "#E5ECF6",
          "polar": {
           "angularaxis": {
            "gridcolor": "white",
            "linecolor": "white",
            "ticks": ""
           },
           "bgcolor": "#E5ECF6",
           "radialaxis": {
            "gridcolor": "white",
            "linecolor": "white",
            "ticks": ""
           }
          },
          "scene": {
           "xaxis": {
            "backgroundcolor": "#E5ECF6",
            "gridcolor": "white",
            "gridwidth": 2,
            "linecolor": "white",
            "showbackground": true,
            "ticks": "",
            "zerolinecolor": "white"
           },
           "yaxis": {
            "backgroundcolor": "#E5ECF6",
            "gridcolor": "white",
            "gridwidth": 2,
            "linecolor": "white",
            "showbackground": true,
            "ticks": "",
            "zerolinecolor": "white"
           },
           "zaxis": {
            "backgroundcolor": "#E5ECF6",
            "gridcolor": "white",
            "gridwidth": 2,
            "linecolor": "white",
            "showbackground": true,
            "ticks": "",
            "zerolinecolor": "white"
           }
          },
          "shapedefaults": {
           "line": {
            "color": "#2a3f5f"
           }
          },
          "ternary": {
           "aaxis": {
            "gridcolor": "white",
            "linecolor": "white",
            "ticks": ""
           },
           "baxis": {
            "gridcolor": "white",
            "linecolor": "white",
            "ticks": ""
           },
           "bgcolor": "#E5ECF6",
           "caxis": {
            "gridcolor": "white",
            "linecolor": "white",
            "ticks": ""
           }
          },
          "title": {
           "x": 0.05
          },
          "xaxis": {
           "automargin": true,
           "gridcolor": "white",
           "linecolor": "white",
           "ticks": "",
           "title": {
            "standoff": 15
           },
           "zerolinecolor": "white",
           "zerolinewidth": 2
          },
          "yaxis": {
           "automargin": true,
           "gridcolor": "white",
           "linecolor": "white",
           "ticks": "",
           "title": {
            "standoff": 15
           },
           "zerolinecolor": "white",
           "zerolinewidth": 2
          }
         }
        },
        "title": {
         "text": "Minimum and Maximum Spread Values for NGH/NGN since 2013<br>(negative values denote NGN over NGH)",
         "x": 0.5,
         "xanchor": "center",
         "y": 0.9,
         "yanchor": "top"
        },
        "xaxis": {
         "showspikes": true,
         "spikedash": "solid",
         "spikemode": "toaxis+across",
         "spikethickness": 1,
         "tickangle": 45,
         "ticktext": [
          "NGH13_NGN13",
          "NGH14_NGN14",
          "NGH15_NGN15",
          "NGH16_NGN16",
          "NGH17_NGN17",
          "NGH18_NGN18",
          "NGH19_NGN19",
          "NGH20_NGN20",
          "NGH21_NGN21"
         ],
         "tickvals": [
          "NGH13_NGN13",
          "NGH14_NGN14",
          "NGH15_NGN15",
          "NGH16_NGN16",
          "NGH17_NGN17",
          "NGH18_NGN18",
          "NGH19_NGN19",
          "NGH20_NGN20",
          "NGH21_NGN21"
         ],
         "type": "category"
        },
        "yaxis": {
         "showspikes": true,
         "spikedash": "solid",
         "spikemode": "toaxis+across",
         "spikethickness": 1,
         "title": {
          "text": "NGH-NGN spread High and Low"
         }
        },
        "yaxis2": {
         "overlaying": "y",
         "side": "right",
         "title": {
          "text": "y alt"
         }
        }
       }
      },
      "text/html": [
       "<div>\n",
       "        \n",
       "        \n",
       "            <div id=\"bdf5d9f6-d84c-40db-91ce-b7ce13ea7fe9\" class=\"plotly-graph-div\" style=\"height:525px; width:100%;\"></div>\n",
       "            <script type=\"text/javascript\">\n",
       "                require([\"plotly\"], function(Plotly) {\n",
       "                    window.PLOTLYENV=window.PLOTLYENV || {};\n",
       "                    \n",
       "                if (document.getElementById(\"bdf5d9f6-d84c-40db-91ce-b7ce13ea7fe9\")) {\n",
       "                    Plotly.newPlot(\n",
       "                        'bdf5d9f6-d84c-40db-91ce-b7ce13ea7fe9',\n",
       "                        [{\"name\": \"min_spr\", \"opacity\": 1, \"type\": \"bar\", \"x\": [\"NGH13_NGN13\", \"NGH14_NGN14\", \"NGH15_NGN15\", \"NGH16_NGN16\", \"NGH17_NGN17\", \"NGH18_NGN18\", \"NGH19_NGN19\", \"NGH20_NGN20\", \"NGH21_NGN21\"], \"y\": [-0.25900000000000034, -0.10099999999999998, -0.18999999999999995, -0.3410000000000002, -0.3780000000000001, -0.15700000000000003, -0.17899999999999983, -0.252, -0.1889999999999996], \"yaxis\": \"y\"}, {\"name\": \"max_spr\", \"opacity\": 1, \"type\": \"bar\", \"x\": [\"NGH13_NGN13\", \"NGH14_NGN14\", \"NGH15_NGN15\", \"NGH16_NGN16\", \"NGH17_NGN17\", \"NGH18_NGN18\", \"NGH19_NGN19\", \"NGH20_NGN20\", \"NGH21_NGN21\"], \"y\": [-0.0259999999999998, 1.362, 0.8140000000000001, 0.16199999999999992, 0.29499999999999993, 0.6800000000000002, 1.7020000000000004, 0.395, 0.3759999999999999], \"yaxis\": \"y\"}, {\"name\": \"last_value\", \"opacity\": 1, \"type\": \"bar\", \"x\": [\"NGH13_NGN13\", \"NGH14_NGN14\", \"NGH15_NGN15\", \"NGH16_NGN16\", \"NGH17_NGN17\", \"NGH18_NGN18\", \"NGH19_NGN19\", \"NGH20_NGN20\", \"NGH21_NGN21\"], \"y\": [-0.17799999999999994, 0.3360000000000003, -0.08000000000000007, -0.30800000000000005, -0.3780000000000001, -0.14400000000000013, -0.028999999999999915, -0.19900000000000007, -0.1599999999999997], \"yaxis\": \"y\"}],\n",
       "                        {\"autosize\": true, \"hovermode\": \"x\", \"margin\": {\"b\": 100}, \"modebar\": {\"bgcolor\": \"grey\", \"orientation\": \"v\"}, \"spikedistance\": 1000, \"template\": {\"data\": {\"bar\": [{\"error_x\": {\"color\": \"#2a3f5f\"}, \"error_y\": {\"color\": \"#2a3f5f\"}, \"marker\": {\"line\": {\"color\": \"#E5ECF6\", \"width\": 0.5}}, \"type\": \"bar\"}], \"barpolar\": [{\"marker\": {\"line\": {\"color\": \"#E5ECF6\", \"width\": 0.5}}, \"type\": \"barpolar\"}], \"carpet\": [{\"aaxis\": {\"endlinecolor\": \"#2a3f5f\", \"gridcolor\": \"white\", \"linecolor\": \"white\", \"minorgridcolor\": \"white\", \"startlinecolor\": \"#2a3f5f\"}, \"baxis\": {\"endlinecolor\": \"#2a3f5f\", \"gridcolor\": \"white\", \"linecolor\": \"white\", \"minorgridcolor\": \"white\", \"startlinecolor\": \"#2a3f5f\"}, \"type\": \"carpet\"}], \"choropleth\": [{\"colorbar\": {\"outlinewidth\": 0, \"ticks\": \"\"}, \"type\": \"choropleth\"}], \"contour\": [{\"colorbar\": {\"outlinewidth\": 0, \"ticks\": \"\"}, \"colorscale\": [[0.0, \"#0d0887\"], [0.1111111111111111, \"#46039f\"], [0.2222222222222222, \"#7201a8\"], [0.3333333333333333, \"#9c179e\"], [0.4444444444444444, \"#bd3786\"], [0.5555555555555556, \"#d8576b\"], [0.6666666666666666, \"#ed7953\"], [0.7777777777777778, \"#fb9f3a\"], [0.8888888888888888, \"#fdca26\"], [1.0, \"#f0f921\"]], \"type\": \"contour\"}], \"contourcarpet\": [{\"colorbar\": {\"outlinewidth\": 0, \"ticks\": \"\"}, \"type\": \"contourcarpet\"}], \"heatmap\": [{\"colorbar\": {\"outlinewidth\": 0, \"ticks\": \"\"}, \"colorscale\": [[0.0, \"#0d0887\"], [0.1111111111111111, \"#46039f\"], [0.2222222222222222, \"#7201a8\"], [0.3333333333333333, \"#9c179e\"], [0.4444444444444444, \"#bd3786\"], [0.5555555555555556, \"#d8576b\"], [0.6666666666666666, \"#ed7953\"], [0.7777777777777778, \"#fb9f3a\"], [0.8888888888888888, \"#fdca26\"], [1.0, \"#f0f921\"]], \"type\": \"heatmap\"}], \"heatmapgl\": [{\"colorbar\": {\"outlinewidth\": 0, \"ticks\": \"\"}, \"colorscale\": [[0.0, \"#0d0887\"], [0.1111111111111111, \"#46039f\"], [0.2222222222222222, \"#7201a8\"], [0.3333333333333333, \"#9c179e\"], [0.4444444444444444, \"#bd3786\"], [0.5555555555555556, \"#d8576b\"], [0.6666666666666666, \"#ed7953\"], [0.7777777777777778, \"#fb9f3a\"], [0.8888888888888888, \"#fdca26\"], [1.0, \"#f0f921\"]], \"type\": \"heatmapgl\"}], \"histogram\": [{\"marker\": {\"colorbar\": {\"outlinewidth\": 0, \"ticks\": \"\"}}, \"type\": \"histogram\"}], \"histogram2d\": [{\"colorbar\": {\"outlinewidth\": 0, \"ticks\": \"\"}, \"colorscale\": [[0.0, \"#0d0887\"], [0.1111111111111111, \"#46039f\"], [0.2222222222222222, \"#7201a8\"], [0.3333333333333333, \"#9c179e\"], [0.4444444444444444, \"#bd3786\"], [0.5555555555555556, \"#d8576b\"], [0.6666666666666666, \"#ed7953\"], [0.7777777777777778, \"#fb9f3a\"], [0.8888888888888888, \"#fdca26\"], [1.0, \"#f0f921\"]], \"type\": \"histogram2d\"}], \"histogram2dcontour\": [{\"colorbar\": {\"outlinewidth\": 0, \"ticks\": \"\"}, \"colorscale\": [[0.0, \"#0d0887\"], [0.1111111111111111, \"#46039f\"], [0.2222222222222222, \"#7201a8\"], [0.3333333333333333, \"#9c179e\"], [0.4444444444444444, \"#bd3786\"], [0.5555555555555556, \"#d8576b\"], [0.6666666666666666, \"#ed7953\"], [0.7777777777777778, \"#fb9f3a\"], [0.8888888888888888, \"#fdca26\"], [1.0, \"#f0f921\"]], \"type\": \"histogram2dcontour\"}], \"mesh3d\": [{\"colorbar\": {\"outlinewidth\": 0, \"ticks\": \"\"}, \"type\": \"mesh3d\"}], \"parcoords\": [{\"line\": {\"colorbar\": {\"outlinewidth\": 0, \"ticks\": \"\"}}, \"type\": \"parcoords\"}], \"pie\": [{\"automargin\": true, \"type\": \"pie\"}], \"scatter\": [{\"marker\": {\"colorbar\": {\"outlinewidth\": 0, \"ticks\": \"\"}}, \"type\": \"scatter\"}], \"scatter3d\": [{\"line\": {\"colorbar\": {\"outlinewidth\": 0, \"ticks\": \"\"}}, \"marker\": {\"colorbar\": {\"outlinewidth\": 0, \"ticks\": \"\"}}, \"type\": \"scatter3d\"}], \"scattercarpet\": [{\"marker\": {\"colorbar\": {\"outlinewidth\": 0, \"ticks\": \"\"}}, \"type\": \"scattercarpet\"}], \"scattergeo\": [{\"marker\": {\"colorbar\": {\"outlinewidth\": 0, \"ticks\": \"\"}}, \"type\": \"scattergeo\"}], \"scattergl\": [{\"marker\": {\"colorbar\": {\"outlinewidth\": 0, \"ticks\": \"\"}}, \"type\": \"scattergl\"}], \"scattermapbox\": [{\"marker\": {\"colorbar\": {\"outlinewidth\": 0, \"ticks\": \"\"}}, \"type\": \"scattermapbox\"}], \"scatterpolar\": [{\"marker\": {\"colorbar\": {\"outlinewidth\": 0, \"ticks\": \"\"}}, \"type\": \"scatterpolar\"}], \"scatterpolargl\": [{\"marker\": {\"colorbar\": {\"outlinewidth\": 0, \"ticks\": \"\"}}, \"type\": \"scatterpolargl\"}], \"scatterternary\": [{\"marker\": {\"colorbar\": {\"outlinewidth\": 0, \"ticks\": \"\"}}, \"type\": \"scatterternary\"}], \"surface\": [{\"colorbar\": {\"outlinewidth\": 0, \"ticks\": \"\"}, \"colorscale\": [[0.0, \"#0d0887\"], [0.1111111111111111, \"#46039f\"], [0.2222222222222222, \"#7201a8\"], [0.3333333333333333, \"#9c179e\"], [0.4444444444444444, \"#bd3786\"], [0.5555555555555556, \"#d8576b\"], [0.6666666666666666, \"#ed7953\"], [0.7777777777777778, \"#fb9f3a\"], [0.8888888888888888, \"#fdca26\"], [1.0, \"#f0f921\"]], \"type\": \"surface\"}], \"table\": [{\"cells\": {\"fill\": {\"color\": \"#EBF0F8\"}, \"line\": {\"color\": \"white\"}}, \"header\": {\"fill\": {\"color\": \"#C8D4E3\"}, \"line\": {\"color\": \"white\"}}, \"type\": \"table\"}]}, \"layout\": {\"annotationdefaults\": {\"arrowcolor\": \"#2a3f5f\", \"arrowhead\": 0, \"arrowwidth\": 1}, \"coloraxis\": {\"colorbar\": {\"outlinewidth\": 0, \"ticks\": \"\"}}, \"colorscale\": {\"diverging\": [[0, \"#8e0152\"], [0.1, \"#c51b7d\"], [0.2, \"#de77ae\"], [0.3, \"#f1b6da\"], [0.4, \"#fde0ef\"], [0.5, \"#f7f7f7\"], [0.6, \"#e6f5d0\"], [0.7, \"#b8e186\"], [0.8, \"#7fbc41\"], [0.9, \"#4d9221\"], [1, \"#276419\"]], \"sequential\": [[0.0, \"#0d0887\"], [0.1111111111111111, \"#46039f\"], [0.2222222222222222, \"#7201a8\"], [0.3333333333333333, \"#9c179e\"], [0.4444444444444444, \"#bd3786\"], [0.5555555555555556, \"#d8576b\"], [0.6666666666666666, \"#ed7953\"], [0.7777777777777778, \"#fb9f3a\"], [0.8888888888888888, \"#fdca26\"], [1.0, \"#f0f921\"]], \"sequentialminus\": [[0.0, \"#0d0887\"], [0.1111111111111111, \"#46039f\"], [0.2222222222222222, \"#7201a8\"], [0.3333333333333333, \"#9c179e\"], [0.4444444444444444, \"#bd3786\"], [0.5555555555555556, \"#d8576b\"], [0.6666666666666666, \"#ed7953\"], [0.7777777777777778, \"#fb9f3a\"], [0.8888888888888888, \"#fdca26\"], [1.0, \"#f0f921\"]]}, \"colorway\": [\"#636efa\", \"#EF553B\", \"#00cc96\", \"#ab63fa\", \"#FFA15A\", \"#19d3f3\", \"#FF6692\", \"#B6E880\", \"#FF97FF\", \"#FECB52\"], \"font\": {\"color\": \"#2a3f5f\"}, \"geo\": {\"bgcolor\": \"white\", \"lakecolor\": \"white\", \"landcolor\": \"#E5ECF6\", \"showlakes\": true, \"showland\": true, \"subunitcolor\": \"white\"}, \"hoverlabel\": {\"align\": \"left\"}, \"hovermode\": \"closest\", \"mapbox\": {\"style\": \"light\"}, \"paper_bgcolor\": \"white\", \"plot_bgcolor\": \"#E5ECF6\", \"polar\": {\"angularaxis\": {\"gridcolor\": \"white\", \"linecolor\": \"white\", \"ticks\": \"\"}, \"bgcolor\": \"#E5ECF6\", \"radialaxis\": {\"gridcolor\": \"white\", \"linecolor\": \"white\", \"ticks\": \"\"}}, \"scene\": {\"xaxis\": {\"backgroundcolor\": \"#E5ECF6\", \"gridcolor\": \"white\", \"gridwidth\": 2, \"linecolor\": \"white\", \"showbackground\": true, \"ticks\": \"\", \"zerolinecolor\": \"white\"}, \"yaxis\": {\"backgroundcolor\": \"#E5ECF6\", \"gridcolor\": \"white\", \"gridwidth\": 2, \"linecolor\": \"white\", \"showbackground\": true, \"ticks\": \"\", \"zerolinecolor\": \"white\"}, \"zaxis\": {\"backgroundcolor\": \"#E5ECF6\", \"gridcolor\": \"white\", \"gridwidth\": 2, \"linecolor\": \"white\", \"showbackground\": true, \"ticks\": \"\", \"zerolinecolor\": \"white\"}}, \"shapedefaults\": {\"line\": {\"color\": \"#2a3f5f\"}}, \"ternary\": {\"aaxis\": {\"gridcolor\": \"white\", \"linecolor\": \"white\", \"ticks\": \"\"}, \"baxis\": {\"gridcolor\": \"white\", \"linecolor\": \"white\", \"ticks\": \"\"}, \"bgcolor\": \"#E5ECF6\", \"caxis\": {\"gridcolor\": \"white\", \"linecolor\": \"white\", \"ticks\": \"\"}}, \"title\": {\"x\": 0.05}, \"xaxis\": {\"automargin\": true, \"gridcolor\": \"white\", \"linecolor\": \"white\", \"ticks\": \"\", \"title\": {\"standoff\": 15}, \"zerolinecolor\": \"white\", \"zerolinewidth\": 2}, \"yaxis\": {\"automargin\": true, \"gridcolor\": \"white\", \"linecolor\": \"white\", \"ticks\": \"\", \"title\": {\"standoff\": 15}, \"zerolinecolor\": \"white\", \"zerolinewidth\": 2}}}, \"title\": {\"text\": \"Minimum and Maximum Spread Values for NGH/NGN since 2013<br>(negative values denote NGN over NGH)\", \"x\": 0.5, \"xanchor\": \"center\", \"y\": 0.9, \"yanchor\": \"top\"}, \"xaxis\": {\"showspikes\": true, \"spikedash\": \"solid\", \"spikemode\": \"toaxis+across\", \"spikethickness\": 1, \"tickangle\": 45, \"ticktext\": [\"NGH13_NGN13\", \"NGH14_NGN14\", \"NGH15_NGN15\", \"NGH16_NGN16\", \"NGH17_NGN17\", \"NGH18_NGN18\", \"NGH19_NGN19\", \"NGH20_NGN20\", \"NGH21_NGN21\"], \"tickvals\": [\"NGH13_NGN13\", \"NGH14_NGN14\", \"NGH15_NGN15\", \"NGH16_NGN16\", \"NGH17_NGN17\", \"NGH18_NGN18\", \"NGH19_NGN19\", \"NGH20_NGN20\", \"NGH21_NGN21\"], \"type\": \"category\"}, \"yaxis\": {\"showspikes\": true, \"spikedash\": \"solid\", \"spikemode\": \"toaxis+across\", \"spikethickness\": 1, \"title\": {\"text\": \"NGH-NGN spread High and Low\"}}, \"yaxis2\": {\"overlaying\": \"y\", \"side\": \"right\", \"title\": {\"text\": \"y alt\"}}},\n",
       "                        {\"responsive\": true}\n",
       "                    ).then(function(){\n",
       "                            \n",
       "var gd = document.getElementById('bdf5d9f6-d84c-40db-91ce-b7ce13ea7fe9');\n",
       "var x = new MutationObserver(function (mutations, observer) {{\n",
       "        var display = window.getComputedStyle(gd).display;\n",
       "        if (!display || display === 'none') {{\n",
       "            console.log([gd, 'removed!']);\n",
       "            Plotly.purge(gd);\n",
       "            observer.disconnect();\n",
       "        }}\n",
       "}});\n",
       "\n",
       "// Listen for the removal of the full notebook cells\n",
       "var notebookContainer = gd.closest('#notebook-container');\n",
       "if (notebookContainer) {{\n",
       "    x.observe(notebookContainer, {childList: true});\n",
       "}}\n",
       "\n",
       "// Listen for the clearing of the current output cell\n",
       "var outputEl = gd.closest('.output');\n",
       "if (outputEl) {{\n",
       "    x.observe(outputEl, {childList: true});\n",
       "}}\n",
       "\n",
       "                        })\n",
       "                };\n",
       "                });\n",
       "            </script>\n",
       "        </div>"
      ]
     },
     "metadata": {},
     "output_type": "display_data"
    }
   ],
   "source": [
    "pu.iplt(\n",
    "    pu.plotly_plot(\n",
    "        df_spr_stats[['symbol','min_spr','max_spr','last_value']],\n",
    "        x_column='symbol',\n",
    "        bar_plot=True,\n",
    "        y_left_label=\"NGH-NGN spread High and Low\",\n",
    "        plot_title=\"Minimum and Maximum Spread Values for NGH/NGN since 2013<br>(negative values denote NGN over NGH)\"\n",
    "    )\n",
    ")"
   ]
  },
  {
   "cell_type": "code",
   "execution_count": 4,
   "metadata": {},
   "outputs": [],
   "source": [
    "#!jupyter nbconvert secdb_example.ipynb --to python"
   ]
  },
  {
   "cell_type": "code",
   "execution_count": null,
   "metadata": {},
   "outputs": [],
   "source": []
  }
 ],
 "metadata": {
  "kernelspec": {
   "display_name": "Python 3",
   "language": "python",
   "name": "python3"
  },
  "language_info": {
   "codemirror_mode": {
    "name": "ipython",
    "version": 3
   },
   "file_extension": ".py",
   "mimetype": "text/x-python",
   "name": "python",
   "nbconvert_exporter": "python",
   "pygments_lexer": "ipython3",
   "version": "3.6.5"
  }
 },
 "nbformat": 4,
 "nbformat_minor": 4
}
