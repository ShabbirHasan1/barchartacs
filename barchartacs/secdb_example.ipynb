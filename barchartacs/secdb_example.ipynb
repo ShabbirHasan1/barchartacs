{
 "cells": [
  {
   "cell_type": "code",
   "execution_count": 90,
   "metadata": {},
   "outputs": [],
   "source": [
    "import pandas as pd\n",
    "import numpy as np\n",
    "import sys,os\n",
    "this_dir = os.path.abspath('.')\n",
    "parent_dir = os.path.abspath('..')\n",
    "if this_dir not in sys.path:\n",
    "    sys.path.append(parent_dir)\n",
    "    sys.path.append(this_dir)\n",
    "import db_info#@UnresolvedImport\n",
    "import typing\n",
    "import plotly_utilities as pu\n",
    "import datetime"
   ]
  },
  {
   "cell_type": "code",
   "execution_count": null,
   "metadata": {},
   "outputs": [],
   "source": []
  },
  {
   "cell_type": "code",
   "execution_count": 2,
   "metadata": {},
   "outputs": [],
   "source": [
    "opttab = 'sec_schema.options_table'\n",
    "futtab = 'sec_schema.underlying_table'"
   ]
  },
  {
   "cell_type": "code",
   "execution_count": null,
   "metadata": {},
   "outputs": [],
   "source": []
  },
  {
   "cell_type": "code",
   "execution_count": 3,
   "metadata": {
    "scrolled": false
   },
   "outputs": [],
   "source": [
    "StrList = typing.List[str]\n",
    "class SqlDownloader():\n",
    "    def __init__(self,config_name:str='local'):\n",
    "        self.pga = db_info.get_db_info(config_name=config_name)\n",
    "    \n",
    "    def get_sql(\n",
    "        self,\n",
    "        columns=None,\n",
    "        table=futtab,\n",
    "        where_clauses=None,\n",
    "        groupby_columns=None,\n",
    "        orderby_columns=None,\n",
    "        limit=None\n",
    "    ):\n",
    "        cols = '*' if columns is None else ','.join(columns)\n",
    "        sql = f\"select {cols} from {table}\"\n",
    "        \n",
    "        if where_clauses is not None:\n",
    "            wc_string = f'where {where_clauses[0]}'\n",
    "            if len(where_clauses)>1:\n",
    "                wc_string =  wc_string + \" and \" + ' and '.join(where_clauses[1:])\n",
    "            wc_string = wc_string.replace('%','%%')\n",
    "            sql = sql + \" \" + f\"{wc_string}\"\n",
    "        if groupby_columns is not None:\n",
    "            sql += f\" group by {','.join(groupby_columns)}\"\n",
    "        if orderby_columns is not None:\n",
    "            sql += f\" order by {','.join(orderby_columns)}\"\n",
    "        if limit is not None:\n",
    "            sql += f\" limit {int(str(limit))}\"\n",
    "        df = self.pga.get_sql(sql)\n",
    "        return df\n",
    "        \n",
    "    def get_options(self,symbol:str,yyyymmdd_beg:int=None,yyyymmdd_end:int=None):\n",
    "        sql = f\"select * from {opttab} where symbol='{symbol}'\"\n",
    "        if yyyymmdd_beg is not None:\n",
    "            sql += f' and settle_date>={yyyymmdd_beg}'\n",
    "        if yyyymmdd_end is not None:\n",
    "            sql += f' and settle_date<={yyyymmdd_end}'\n",
    "        df =  self.pga.get_sql(sql)\n",
    "        if df is not None and len(df)>2:\n",
    "            df = df.sort_values(['pc','settle_date','strike'])\n",
    "        return df\n",
    "\n",
    "    def get_futures(self,symbol_list:StrList,yyyymmdd_beg:int=None,yyyymmdd_end:int=None):\n",
    "        if type(symbol_list) is list or type(symbol_list) is np.ndarray:\n",
    "            sym_string = \",\".join([f\"'{s}'\" for s in symbol_list]) \n",
    "        else:\n",
    "            sym_string = f\"'{symbol_list}'\"\n",
    "        sql = f\"select * from {futtab} where symbol in ({sym_string})\"\n",
    "        if yyyymmdd_beg is not None:\n",
    "            sql += f' and settle_date>={yyyymmdd_beg}'\n",
    "        if yyyymmdd_end is not None:\n",
    "            sql += f' and settle_date<={yyyymmdd_end}'\n",
    "        df =  self.pga.get_sql(sql)\n",
    "        if df is not None and len(df)>2:\n",
    "            df = df.sort_values(['symbol','settle_date'])\n",
    "        return df\n"
   ]
  },
  {
   "cell_type": "code",
   "execution_count": 4,
   "metadata": {},
   "outputs": [
    {
     "name": "stdout",
     "output_type": "stream",
     "text": [
      "  sec_db\n"
     ]
    }
   ],
   "source": [
    "sqld = SqlDownloader(config_name='local')"
   ]
  },
  {
   "cell_type": "code",
   "execution_count": 22,
   "metadata": {},
   "outputs": [],
   "source": [
    "df_fut = sqld.get_futures('NGH15')\n",
    "# df_fut[df_fut.close==2.662]"
   ]
  },
  {
   "cell_type": "code",
   "execution_count": 25,
   "metadata": {},
   "outputs": [],
   "source": [
    "df_opt = sqld.get_options('NGH15')\n",
    "# df_opt[(df_opt.settle_date==20201218) & (df_opt.pc=='C')].sort_values('strike')"
   ]
  },
  {
   "cell_type": "code",
   "execution_count": 26,
   "metadata": {},
   "outputs": [
    {
     "data": {
      "text/plain": [
       "(20110606, 20150224)"
      ]
     },
     "execution_count": 26,
     "metadata": {},
     "output_type": "execute_result"
    }
   ],
   "source": [
    "df_opt.settle_date.min(),df_opt.settle_date.max()"
   ]
  },
  {
   "cell_type": "code",
   "execution_count": null,
   "metadata": {},
   "outputs": [],
   "source": []
  },
  {
   "cell_type": "code",
   "execution_count": null,
   "metadata": {},
   "outputs": [],
   "source": []
  },
  {
   "cell_type": "code",
   "execution_count": null,
   "metadata": {},
   "outputs": [],
   "source": []
  },
  {
   "cell_type": "code",
   "execution_count": 56,
   "metadata": {},
   "outputs": [
    {
     "data": {
      "text/html": [
       "<div>\n",
       "<style scoped>\n",
       "    .dataframe tbody tr th:only-of-type {\n",
       "        vertical-align: middle;\n",
       "    }\n",
       "\n",
       "    .dataframe tbody tr th {\n",
       "        vertical-align: top;\n",
       "    }\n",
       "\n",
       "    .dataframe thead th {\n",
       "        text-align: right;\n",
       "    }\n",
       "</style>\n",
       "<table border=\"1\" class=\"dataframe\">\n",
       "  <thead>\n",
       "    <tr style=\"text-align: right;\">\n",
       "      <th></th>\n",
       "      <th>symbol</th>\n",
       "      <th>strike</th>\n",
       "      <th>pc</th>\n",
       "      <th>settle_date</th>\n",
       "      <th>open</th>\n",
       "      <th>high</th>\n",
       "      <th>low</th>\n",
       "      <th>close</th>\n",
       "      <th>adj_close</th>\n",
       "      <th>volume</th>\n",
       "      <th>open_interest</th>\n",
       "    </tr>\n",
       "  </thead>\n",
       "  <tbody>\n",
       "    <tr>\n",
       "      <th>0</th>\n",
       "      <td>CLZ12</td>\n",
       "      <td>80.0</td>\n",
       "      <td>C</td>\n",
       "      <td>20120502</td>\n",
       "      <td>0.00</td>\n",
       "      <td>27.39</td>\n",
       "      <td>27.22</td>\n",
       "      <td>27.39</td>\n",
       "      <td>27.39</td>\n",
       "      <td>0</td>\n",
       "      <td>10032</td>\n",
       "    </tr>\n",
       "    <tr>\n",
       "      <th>1</th>\n",
       "      <td>CLZ12</td>\n",
       "      <td>80.0</td>\n",
       "      <td>C</td>\n",
       "      <td>20120503</td>\n",
       "      <td>0.00</td>\n",
       "      <td>25.38</td>\n",
       "      <td>25.38</td>\n",
       "      <td>25.38</td>\n",
       "      <td>25.38</td>\n",
       "      <td>0</td>\n",
       "      <td>10032</td>\n",
       "    </tr>\n",
       "    <tr>\n",
       "      <th>2</th>\n",
       "      <td>CLZ12</td>\n",
       "      <td>80.0</td>\n",
       "      <td>C</td>\n",
       "      <td>20120504</td>\n",
       "      <td>0.00</td>\n",
       "      <td>21.92</td>\n",
       "      <td>21.45</td>\n",
       "      <td>21.92</td>\n",
       "      <td>21.92</td>\n",
       "      <td>0</td>\n",
       "      <td>10032</td>\n",
       "    </tr>\n",
       "    <tr>\n",
       "      <th>3</th>\n",
       "      <td>CLZ12</td>\n",
       "      <td>80.0</td>\n",
       "      <td>C</td>\n",
       "      <td>20120507</td>\n",
       "      <td>0.00</td>\n",
       "      <td>21.45</td>\n",
       "      <td>20.78</td>\n",
       "      <td>21.45</td>\n",
       "      <td>21.45</td>\n",
       "      <td>0</td>\n",
       "      <td>10032</td>\n",
       "    </tr>\n",
       "    <tr>\n",
       "      <th>4</th>\n",
       "      <td>CLZ12</td>\n",
       "      <td>80.0</td>\n",
       "      <td>C</td>\n",
       "      <td>20120508</td>\n",
       "      <td>0.00</td>\n",
       "      <td>20.76</td>\n",
       "      <td>19.90</td>\n",
       "      <td>20.76</td>\n",
       "      <td>20.76</td>\n",
       "      <td>0</td>\n",
       "      <td>10032</td>\n",
       "    </tr>\n",
       "    <tr>\n",
       "      <th>...</th>\n",
       "      <td>...</td>\n",
       "      <td>...</td>\n",
       "      <td>...</td>\n",
       "      <td>...</td>\n",
       "      <td>...</td>\n",
       "      <td>...</td>\n",
       "      <td>...</td>\n",
       "      <td>...</td>\n",
       "      <td>...</td>\n",
       "      <td>...</td>\n",
       "      <td>...</td>\n",
       "    </tr>\n",
       "    <tr>\n",
       "      <th>132</th>\n",
       "      <td>CLZ12</td>\n",
       "      <td>80.0</td>\n",
       "      <td>C</td>\n",
       "      <td>20121107</td>\n",
       "      <td>0.00</td>\n",
       "      <td>4.76</td>\n",
       "      <td>4.76</td>\n",
       "      <td>4.76</td>\n",
       "      <td>4.76</td>\n",
       "      <td>0</td>\n",
       "      <td>11885</td>\n",
       "    </tr>\n",
       "    <tr>\n",
       "      <th>133</th>\n",
       "      <td>CLZ12</td>\n",
       "      <td>80.0</td>\n",
       "      <td>C</td>\n",
       "      <td>20121108</td>\n",
       "      <td>0.00</td>\n",
       "      <td>5.23</td>\n",
       "      <td>5.23</td>\n",
       "      <td>5.23</td>\n",
       "      <td>5.23</td>\n",
       "      <td>2064</td>\n",
       "      <td>10880</td>\n",
       "    </tr>\n",
       "    <tr>\n",
       "      <th>134</th>\n",
       "      <td>CLZ12</td>\n",
       "      <td>80.0</td>\n",
       "      <td>C</td>\n",
       "      <td>20121109</td>\n",
       "      <td>0.00</td>\n",
       "      <td>6.11</td>\n",
       "      <td>6.11</td>\n",
       "      <td>6.11</td>\n",
       "      <td>6.11</td>\n",
       "      <td>354</td>\n",
       "      <td>10946</td>\n",
       "    </tr>\n",
       "    <tr>\n",
       "      <th>135</th>\n",
       "      <td>CLZ12</td>\n",
       "      <td>80.0</td>\n",
       "      <td>C</td>\n",
       "      <td>20121112</td>\n",
       "      <td>0.00</td>\n",
       "      <td>5.58</td>\n",
       "      <td>5.58</td>\n",
       "      <td>5.58</td>\n",
       "      <td>5.58</td>\n",
       "      <td>1225</td>\n",
       "      <td>10946</td>\n",
       "    </tr>\n",
       "    <tr>\n",
       "      <th>136</th>\n",
       "      <td>CLZ12</td>\n",
       "      <td>80.0</td>\n",
       "      <td>C</td>\n",
       "      <td>20121113</td>\n",
       "      <td>4.85</td>\n",
       "      <td>5.38</td>\n",
       "      <td>4.85</td>\n",
       "      <td>5.38</td>\n",
       "      <td>5.38</td>\n",
       "      <td>0</td>\n",
       "      <td>10946</td>\n",
       "    </tr>\n",
       "  </tbody>\n",
       "</table>\n",
       "<p>137 rows × 11 columns</p>\n",
       "</div>"
      ],
      "text/plain": [
       "    symbol  strike pc  settle_date  open   high    low  close  adj_close  \\\n",
       "0    CLZ12    80.0  C     20120502  0.00  27.39  27.22  27.39      27.39   \n",
       "1    CLZ12    80.0  C     20120503  0.00  25.38  25.38  25.38      25.38   \n",
       "2    CLZ12    80.0  C     20120504  0.00  21.92  21.45  21.92      21.92   \n",
       "3    CLZ12    80.0  C     20120507  0.00  21.45  20.78  21.45      21.45   \n",
       "4    CLZ12    80.0  C     20120508  0.00  20.76  19.90  20.76      20.76   \n",
       "..     ...     ... ..          ...   ...    ...    ...    ...        ...   \n",
       "132  CLZ12    80.0  C     20121107  0.00   4.76   4.76   4.76       4.76   \n",
       "133  CLZ12    80.0  C     20121108  0.00   5.23   5.23   5.23       5.23   \n",
       "134  CLZ12    80.0  C     20121109  0.00   6.11   6.11   6.11       6.11   \n",
       "135  CLZ12    80.0  C     20121112  0.00   5.58   5.58   5.58       5.58   \n",
       "136  CLZ12    80.0  C     20121113  4.85   5.38   4.85   5.38       5.38   \n",
       "\n",
       "     volume  open_interest  \n",
       "0         0          10032  \n",
       "1         0          10032  \n",
       "2         0          10032  \n",
       "3         0          10032  \n",
       "4         0          10032  \n",
       "..      ...            ...  \n",
       "132       0          11885  \n",
       "133    2064          10880  \n",
       "134     354          10946  \n",
       "135    1225          10946  \n",
       "136       0          10946  \n",
       "\n",
       "[137 rows x 11 columns]"
      ]
     },
     "execution_count": 56,
     "metadata": {},
     "output_type": "execute_result"
    }
   ],
   "source": [
    "wc_list = [\n",
    "    \"symbol='CLZ12'\",\n",
    "    \"pc='C'\",\n",
    "    \"strike=80\",\n",
    "    \"settle_date>20120501\"\n",
    "]\n",
    "df_sql = sqld.get_sql(table=opttab,where_clauses=wc_list)\n",
    "df_sql"
   ]
  },
  {
   "cell_type": "code",
   "execution_count": 57,
   "metadata": {},
   "outputs": [
    {
     "data": {
      "text/plain": [
       "array([20120502, 20120503, 20120504, 20120507, 20120508, 20120509,\n",
       "       20120510, 20120511, 20120514, 20120515, 20120516, 20120517,\n",
       "       20120518, 20120521, 20120522, 20120523, 20120524, 20120525,\n",
       "       20120529, 20120530, 20120531, 20120601, 20120604, 20120605,\n",
       "       20120606, 20120607, 20120608, 20120611, 20120612, 20120613,\n",
       "       20120614, 20120615, 20120618, 20120619, 20120620, 20120621,\n",
       "       20120622, 20120625, 20120626, 20120627, 20120628, 20120629,\n",
       "       20120702, 20120703, 20120705, 20120706, 20120709, 20120710,\n",
       "       20120711, 20120712, 20120713, 20120716, 20120717, 20120718,\n",
       "       20120719, 20120720, 20120723, 20120724, 20120725, 20120726,\n",
       "       20120727, 20120730, 20120731, 20120801, 20120802, 20120803,\n",
       "       20120806, 20120807, 20120808, 20120809, 20120810, 20120813,\n",
       "       20120814, 20120815, 20120816, 20120817, 20120820, 20120821,\n",
       "       20120822, 20120823, 20120824, 20120827, 20120828, 20120829,\n",
       "       20120830, 20120831, 20120904, 20120905, 20120906, 20120907,\n",
       "       20120910, 20120911, 20120912, 20120913, 20120914, 20120917,\n",
       "       20120918, 20120919, 20120920, 20120921, 20120924, 20120925,\n",
       "       20120926, 20120927, 20120928, 20121001, 20121002, 20121003,\n",
       "       20121004, 20121005, 20121008, 20121009, 20121010, 20121011,\n",
       "       20121012, 20121015, 20121016, 20121017, 20121018, 20121019,\n",
       "       20121022, 20121023, 20121024, 20121025, 20121026, 20121029,\n",
       "       20121030, 20121031, 20121101, 20121102, 20121105, 20121106,\n",
       "       20121107, 20121108, 20121109, 20121112, 20121113])"
      ]
     },
     "execution_count": 57,
     "metadata": {},
     "output_type": "execute_result"
    }
   ],
   "source": [
    "df_sql.settle_date.unique()"
   ]
  },
  {
   "cell_type": "code",
   "execution_count": 60,
   "metadata": {},
   "outputs": [
    {
     "data": {
      "text/html": [
       "<div>\n",
       "<style scoped>\n",
       "    .dataframe tbody tr th:only-of-type {\n",
       "        vertical-align: middle;\n",
       "    }\n",
       "\n",
       "    .dataframe tbody tr th {\n",
       "        vertical-align: top;\n",
       "    }\n",
       "\n",
       "    .dataframe thead th {\n",
       "        text-align: right;\n",
       "    }\n",
       "</style>\n",
       "<table border=\"1\" class=\"dataframe\">\n",
       "  <thead>\n",
       "    <tr style=\"text-align: right;\">\n",
       "      <th></th>\n",
       "      <th>symbol</th>\n",
       "    </tr>\n",
       "  </thead>\n",
       "  <tbody>\n",
       "    <tr>\n",
       "      <th>0</th>\n",
       "      <td>CLM17</td>\n",
       "    </tr>\n",
       "    <tr>\n",
       "      <th>1</th>\n",
       "      <td>CLN11</td>\n",
       "    </tr>\n",
       "    <tr>\n",
       "      <th>2</th>\n",
       "      <td>CLV20</td>\n",
       "    </tr>\n",
       "    <tr>\n",
       "      <th>3</th>\n",
       "      <td>CLG15</td>\n",
       "    </tr>\n",
       "    <tr>\n",
       "      <th>4</th>\n",
       "      <td>CLK15</td>\n",
       "    </tr>\n",
       "    <tr>\n",
       "      <th>...</th>\n",
       "      <td>...</td>\n",
       "    </tr>\n",
       "    <tr>\n",
       "      <th>238</th>\n",
       "      <td>CLK22</td>\n",
       "    </tr>\n",
       "    <tr>\n",
       "      <th>239</th>\n",
       "      <td>CLN18</td>\n",
       "    </tr>\n",
       "    <tr>\n",
       "      <th>240</th>\n",
       "      <td>CLN13</td>\n",
       "    </tr>\n",
       "    <tr>\n",
       "      <th>241</th>\n",
       "      <td>CLK25</td>\n",
       "    </tr>\n",
       "    <tr>\n",
       "      <th>242</th>\n",
       "      <td>CLX12</td>\n",
       "    </tr>\n",
       "  </tbody>\n",
       "</table>\n",
       "<p>243 rows × 1 columns</p>\n",
       "</div>"
      ],
      "text/plain": [
       "    symbol\n",
       "0    CLM17\n",
       "1    CLN11\n",
       "2    CLV20\n",
       "3    CLG15\n",
       "4    CLK15\n",
       "..     ...\n",
       "238  CLK22\n",
       "239  CLN18\n",
       "240  CLN13\n",
       "241  CLK25\n",
       "242  CLX12\n",
       "\n",
       "[243 rows x 1 columns]"
      ]
     },
     "execution_count": 60,
     "metadata": {},
     "output_type": "execute_result"
    }
   ],
   "source": [
    "cols = ['distinct symbol']\n",
    "wc_list = [\n",
    "    \"symbol like 'CL%'\",\n",
    "]\n",
    "sqld.get_sql(table=futtab,columns=cols,where_clauses=wc_list)"
   ]
  },
  {
   "cell_type": "markdown",
   "metadata": {},
   "source": [
    "### Compare a CSO download from Reuters Eikon to the spread components.\n",
    "`way0c1p.csv` contains history data for the CLH21/CLJ21 0 strike CSO Put with the spread history."
   ]
  },
  {
   "cell_type": "code",
   "execution_count": 88,
   "metadata": {},
   "outputs": [],
   "source": [
    "df_way0c1p = pd.read_csv('./way0c1p.csv')\n",
    "df_way0c1p['settle_date'] = df_way0c1p.Date.apply(lambda v:datetime.datetime.strptime(v,'%d-%b-%Y'))\n",
    "df_way0c1p['settle_date'] = df_way0c1p.settle_date.apply(lambda v:int(v.year*100*100+v.month*100+v.day))\n",
    "df_way0c1p = df_way0c1p[['WAY0O1P','settle_date']].sort_values('settle_date')\n",
    "df_clh21 = sqld.get_futures('CLH21')\n",
    "df_way0c1p = df_way0c1p.merge(df_clh21[['settle_date','close']],on='settle_date',how='inner').rename(columns={'WAY0O1P':'opt_price','close':'CLH21'})\n",
    "df_clj21 = sqld.get_futures('CLJ21')\n",
    "df_way0c1p = df_way0c1p.merge(df_clj21[['settle_date','close']],on='settle_date',how='inner').rename(columns={'close':'CLJ21'})\n",
    "df_way0c1p['spread'] = df_way0c1p.CLJ21 - df_way0c1p.CLH21\n"
   ]
  },
  {
   "cell_type": "code",
   "execution_count": 89,
   "metadata": {},
   "outputs": [
    {
     "data": {
      "application/vnd.plotly.v1+json": {
       "config": {
        "linkText": "Export to plot.ly",
        "plotlyServerURL": "https://plot.ly",
        "showLink": false
       },
       "data": [
        {
         "name": "spread",
         "opacity": 1,
         "type": "scatter",
         "x": [
          20200721,
          20200722,
          20200723,
          20200724,
          20200727,
          20200728,
          20200729,
          20200730,
          20200731,
          20200803,
          20200804,
          20200805,
          20200806,
          20200807,
          20200810,
          20200811,
          20200812,
          20200813,
          20200814,
          20200817,
          20200818,
          20200819,
          20200820,
          20200821,
          20200824,
          20200825,
          20200826,
          20200827,
          20200828,
          20200831,
          20200901,
          20200902,
          20200903,
          20200904,
          20200908,
          20200909,
          20200910,
          20200911,
          20200914,
          20200915,
          20200916,
          20200917,
          20200918,
          20200921,
          20200922,
          20200923,
          20200924,
          20200925,
          20200928,
          20200929,
          20200930,
          20201001,
          20201002,
          20201005,
          20201006,
          20201007,
          20201008,
          20201009,
          20201012,
          20201013,
          20201014,
          20201015,
          20201016,
          20201019,
          20201020,
          20201021,
          20201022,
          20201023,
          20201026,
          20201027,
          20201028,
          20201029,
          20201030,
          20201102,
          20201103,
          20201104,
          20201105,
          20201106,
          20201109,
          20201110,
          20201111,
          20201112,
          20201113,
          20201116,
          20201117,
          20201118,
          20201119,
          20201120,
          20201123,
          20201124,
          20201127,
          20201130,
          20201201,
          20201202,
          20201203,
          20201204,
          20201207,
          20201208,
          20201209,
          20201210,
          20201211,
          20201214,
          20201215,
          20201216,
          20201217,
          20201218,
          20201221,
          20201222,
          20201223,
          20201228,
          20201229,
          20201230,
          20210104,
          20210105,
          20210106,
          20210107,
          20210108
         ],
         "y": [
          0.10999999999999943,
          0.10999999999999943,
          0.14999999999999858,
          0.1599999999999966,
          0.1600000000000037,
          0.18999999999999773,
          0.1700000000000017,
          0.19999999999999574,
          0.21000000000000085,
          0.23999999999999488,
          0.22999999999999687,
          0.20000000000000284,
          0.23000000000000398,
          0.22999999999999687,
          0.21000000000000085,
          0.21000000000000085,
          0.18999999999999773,
          0.20999999999999375,
          0.21999999999999886,
          0.18999999999999773,
          0.20000000000000284,
          0.21000000000000085,
          0.21999999999999886,
          0.22999999999999687,
          0.25,
          0.21000000000000085,
          0.21000000000000085,
          0.20000000000000284,
          0.23000000000000398,
          0.21999999999999886,
          0.240000000000002,
          0.29999999999999716,
          0.30999999999999517,
          0.37000000000000455,
          0.3999999999999986,
          0.36999999999999744,
          0.4099999999999966,
          0.3999999999999986,
          0.4100000000000037,
          0.39000000000000057,
          0.3200000000000003,
          0.28999999999999915,
          0.2700000000000031,
          0.30000000000000426,
          0.28999999999999915,
          0.28000000000000114,
          0.29999999999999716,
          0.28999999999999915,
          0.28999999999999915,
          0.3100000000000023,
          0.3100000000000023,
          0.3399999999999963,
          0.37000000000000455,
          0.3299999999999983,
          0.29999999999999716,
          0.29999999999999716,
          0.25,
          0.259999999999998,
          0.29999999999999716,
          0.27999999999999403,
          0.23999999999999488,
          0.22999999999999687,
          0.21999999999999886,
          0.23000000000000398,
          0.21999999999999886,
          0.25,
          0.240000000000002,
          0.240000000000002,
          0.28000000000000114,
          0.259999999999998,
          0.3200000000000003,
          0.3500000000000014,
          0.3999999999999986,
          0.4299999999999997,
          0.38000000000000256,
          0.3500000000000014,
          0.3500000000000014,
          0.3999999999999986,
          0.29999999999999716,
          0.23999999999999488,
          0.2700000000000031,
          0.2700000000000031,
          0.28999999999999915,
          0.23999999999999488,
          0.23999999999999488,
          0.22999999999999687,
          0.20999999999999375,
          0.17999999999999972,
          0.13000000000000256,
          0.10000000000000142,
          0.10000000000000142,
          0.09000000000000341,
          0.09999999999999432,
          0.07000000000000028,
          0.05000000000000426,
          0.060000000000002274,
          0.09999999999999432,
          0.13000000000000256,
          0.12000000000000455,
          0.0799999999999983,
          0.09000000000000341,
          0.0899999999999963,
          0.07000000000000028,
          0.07000000000000028,
          0.0799999999999983,
          0.05999999999999517,
          0.0799999999999983,
          0.10000000000000142,
          0.0899999999999963,
          0.09999999999999432,
          0.10999999999999943,
          0.07000000000000028,
          0.10999999999999943,
          0.030000000000001137,
          -0.01999999999999602,
          -0.03999999999999915,
          -0.07000000000000028
         ],
         "yaxis": "y"
        },
        {
         "name": "opt_price",
         "opacity": 1,
         "type": "scatter",
         "x": [
          20200721,
          20200722,
          20200723,
          20200724,
          20200727,
          20200728,
          20200729,
          20200730,
          20200731,
          20200803,
          20200804,
          20200805,
          20200806,
          20200807,
          20200810,
          20200811,
          20200812,
          20200813,
          20200814,
          20200817,
          20200818,
          20200819,
          20200820,
          20200821,
          20200824,
          20200825,
          20200826,
          20200827,
          20200828,
          20200831,
          20200901,
          20200902,
          20200903,
          20200904,
          20200908,
          20200909,
          20200910,
          20200911,
          20200914,
          20200915,
          20200916,
          20200917,
          20200918,
          20200921,
          20200922,
          20200923,
          20200924,
          20200925,
          20200928,
          20200929,
          20200930,
          20201001,
          20201002,
          20201005,
          20201006,
          20201007,
          20201008,
          20201009,
          20201012,
          20201013,
          20201014,
          20201015,
          20201016,
          20201019,
          20201020,
          20201021,
          20201022,
          20201023,
          20201026,
          20201027,
          20201028,
          20201029,
          20201030,
          20201102,
          20201103,
          20201104,
          20201105,
          20201106,
          20201109,
          20201110,
          20201111,
          20201112,
          20201113,
          20201116,
          20201117,
          20201118,
          20201119,
          20201120,
          20201123,
          20201124,
          20201127,
          20201130,
          20201201,
          20201202,
          20201203,
          20201204,
          20201207,
          20201208,
          20201209,
          20201210,
          20201211,
          20201214,
          20201215,
          20201216,
          20201217,
          20201218,
          20201221,
          20201222,
          20201223,
          20201228,
          20201229,
          20201230,
          20210104,
          20210105,
          20210106,
          20210107,
          20210108
         ],
         "y": [
          0.29,
          0.29,
          0.33,
          0.31,
          0.3,
          0.32,
          0.3,
          0.33,
          0.34,
          0.36,
          0.35,
          0.34,
          0.36,
          0.33,
          0.34,
          0.33,
          0.32,
          0.33,
          0.34,
          0.32,
          0.33,
          0.33,
          0.34,
          0.34,
          0.36,
          0.33,
          0.33,
          0.34,
          0.36,
          0.36,
          0.38,
          0.41,
          0.42,
          0.46,
          0.47,
          0.45,
          0.47,
          0.47,
          0.47,
          0.45,
          0.4,
          0.37,
          0.34,
          0.35,
          0.35,
          0.34,
          0.35,
          0.35,
          0.34,
          0.36,
          0.36,
          0.38,
          0.41,
          0.37,
          0.35,
          0.35,
          0.31,
          0.32,
          0.37,
          0.36,
          0.34,
          0.31,
          0.32,
          0.34,
          0.33,
          0.35,
          0.34,
          0.34,
          0.34,
          0.33,
          0.38,
          0.41,
          0.45,
          0.48,
          0.44,
          0.42,
          0.41,
          0.45,
          0.39,
          0.33,
          0.36,
          0.35,
          0.36,
          0.31,
          0.32,
          0.3,
          0.29,
          0.29,
          0.25,
          0.22,
          0.23,
          0.18,
          0.21,
          0.19,
          0.18,
          0.18,
          0.21,
          0.23,
          0.2,
          0.18,
          0.17,
          0.17,
          0.19,
          0.18,
          0.17,
          0.15,
          0.16,
          0.17,
          0.17,
          0.17,
          0.18,
          0.16,
          0.15,
          0.12,
          0.1,
          0.11,
          0.06
         ],
         "yaxis": "y"
        }
       ],
       "layout": {
        "autosize": true,
        "hovermode": "x",
        "margin": {
         "b": 100
        },
        "modebar": {
         "bgcolor": "grey",
         "orientation": "v"
        },
        "spikedistance": 1000,
        "template": {
         "data": {
          "bar": [
           {
            "error_x": {
             "color": "#2a3f5f"
            },
            "error_y": {
             "color": "#2a3f5f"
            },
            "marker": {
             "line": {
              "color": "#E5ECF6",
              "width": 0.5
             }
            },
            "type": "bar"
           }
          ],
          "barpolar": [
           {
            "marker": {
             "line": {
              "color": "#E5ECF6",
              "width": 0.5
             }
            },
            "type": "barpolar"
           }
          ],
          "carpet": [
           {
            "aaxis": {
             "endlinecolor": "#2a3f5f",
             "gridcolor": "white",
             "linecolor": "white",
             "minorgridcolor": "white",
             "startlinecolor": "#2a3f5f"
            },
            "baxis": {
             "endlinecolor": "#2a3f5f",
             "gridcolor": "white",
             "linecolor": "white",
             "minorgridcolor": "white",
             "startlinecolor": "#2a3f5f"
            },
            "type": "carpet"
           }
          ],
          "choropleth": [
           {
            "colorbar": {
             "outlinewidth": 0,
             "ticks": ""
            },
            "type": "choropleth"
           }
          ],
          "contour": [
           {
            "colorbar": {
             "outlinewidth": 0,
             "ticks": ""
            },
            "colorscale": [
             [
              0,
              "#0d0887"
             ],
             [
              0.1111111111111111,
              "#46039f"
             ],
             [
              0.2222222222222222,
              "#7201a8"
             ],
             [
              0.3333333333333333,
              "#9c179e"
             ],
             [
              0.4444444444444444,
              "#bd3786"
             ],
             [
              0.5555555555555556,
              "#d8576b"
             ],
             [
              0.6666666666666666,
              "#ed7953"
             ],
             [
              0.7777777777777778,
              "#fb9f3a"
             ],
             [
              0.8888888888888888,
              "#fdca26"
             ],
             [
              1,
              "#f0f921"
             ]
            ],
            "type": "contour"
           }
          ],
          "contourcarpet": [
           {
            "colorbar": {
             "outlinewidth": 0,
             "ticks": ""
            },
            "type": "contourcarpet"
           }
          ],
          "heatmap": [
           {
            "colorbar": {
             "outlinewidth": 0,
             "ticks": ""
            },
            "colorscale": [
             [
              0,
              "#0d0887"
             ],
             [
              0.1111111111111111,
              "#46039f"
             ],
             [
              0.2222222222222222,
              "#7201a8"
             ],
             [
              0.3333333333333333,
              "#9c179e"
             ],
             [
              0.4444444444444444,
              "#bd3786"
             ],
             [
              0.5555555555555556,
              "#d8576b"
             ],
             [
              0.6666666666666666,
              "#ed7953"
             ],
             [
              0.7777777777777778,
              "#fb9f3a"
             ],
             [
              0.8888888888888888,
              "#fdca26"
             ],
             [
              1,
              "#f0f921"
             ]
            ],
            "type": "heatmap"
           }
          ],
          "heatmapgl": [
           {
            "colorbar": {
             "outlinewidth": 0,
             "ticks": ""
            },
            "colorscale": [
             [
              0,
              "#0d0887"
             ],
             [
              0.1111111111111111,
              "#46039f"
             ],
             [
              0.2222222222222222,
              "#7201a8"
             ],
             [
              0.3333333333333333,
              "#9c179e"
             ],
             [
              0.4444444444444444,
              "#bd3786"
             ],
             [
              0.5555555555555556,
              "#d8576b"
             ],
             [
              0.6666666666666666,
              "#ed7953"
             ],
             [
              0.7777777777777778,
              "#fb9f3a"
             ],
             [
              0.8888888888888888,
              "#fdca26"
             ],
             [
              1,
              "#f0f921"
             ]
            ],
            "type": "heatmapgl"
           }
          ],
          "histogram": [
           {
            "marker": {
             "colorbar": {
              "outlinewidth": 0,
              "ticks": ""
             }
            },
            "type": "histogram"
           }
          ],
          "histogram2d": [
           {
            "colorbar": {
             "outlinewidth": 0,
             "ticks": ""
            },
            "colorscale": [
             [
              0,
              "#0d0887"
             ],
             [
              0.1111111111111111,
              "#46039f"
             ],
             [
              0.2222222222222222,
              "#7201a8"
             ],
             [
              0.3333333333333333,
              "#9c179e"
             ],
             [
              0.4444444444444444,
              "#bd3786"
             ],
             [
              0.5555555555555556,
              "#d8576b"
             ],
             [
              0.6666666666666666,
              "#ed7953"
             ],
             [
              0.7777777777777778,
              "#fb9f3a"
             ],
             [
              0.8888888888888888,
              "#fdca26"
             ],
             [
              1,
              "#f0f921"
             ]
            ],
            "type": "histogram2d"
           }
          ],
          "histogram2dcontour": [
           {
            "colorbar": {
             "outlinewidth": 0,
             "ticks": ""
            },
            "colorscale": [
             [
              0,
              "#0d0887"
             ],
             [
              0.1111111111111111,
              "#46039f"
             ],
             [
              0.2222222222222222,
              "#7201a8"
             ],
             [
              0.3333333333333333,
              "#9c179e"
             ],
             [
              0.4444444444444444,
              "#bd3786"
             ],
             [
              0.5555555555555556,
              "#d8576b"
             ],
             [
              0.6666666666666666,
              "#ed7953"
             ],
             [
              0.7777777777777778,
              "#fb9f3a"
             ],
             [
              0.8888888888888888,
              "#fdca26"
             ],
             [
              1,
              "#f0f921"
             ]
            ],
            "type": "histogram2dcontour"
           }
          ],
          "mesh3d": [
           {
            "colorbar": {
             "outlinewidth": 0,
             "ticks": ""
            },
            "type": "mesh3d"
           }
          ],
          "parcoords": [
           {
            "line": {
             "colorbar": {
              "outlinewidth": 0,
              "ticks": ""
             }
            },
            "type": "parcoords"
           }
          ],
          "pie": [
           {
            "automargin": true,
            "type": "pie"
           }
          ],
          "scatter": [
           {
            "marker": {
             "colorbar": {
              "outlinewidth": 0,
              "ticks": ""
             }
            },
            "type": "scatter"
           }
          ],
          "scatter3d": [
           {
            "line": {
             "colorbar": {
              "outlinewidth": 0,
              "ticks": ""
             }
            },
            "marker": {
             "colorbar": {
              "outlinewidth": 0,
              "ticks": ""
             }
            },
            "type": "scatter3d"
           }
          ],
          "scattercarpet": [
           {
            "marker": {
             "colorbar": {
              "outlinewidth": 0,
              "ticks": ""
             }
            },
            "type": "scattercarpet"
           }
          ],
          "scattergeo": [
           {
            "marker": {
             "colorbar": {
              "outlinewidth": 0,
              "ticks": ""
             }
            },
            "type": "scattergeo"
           }
          ],
          "scattergl": [
           {
            "marker": {
             "colorbar": {
              "outlinewidth": 0,
              "ticks": ""
             }
            },
            "type": "scattergl"
           }
          ],
          "scattermapbox": [
           {
            "marker": {
             "colorbar": {
              "outlinewidth": 0,
              "ticks": ""
             }
            },
            "type": "scattermapbox"
           }
          ],
          "scatterpolar": [
           {
            "marker": {
             "colorbar": {
              "outlinewidth": 0,
              "ticks": ""
             }
            },
            "type": "scatterpolar"
           }
          ],
          "scatterpolargl": [
           {
            "marker": {
             "colorbar": {
              "outlinewidth": 0,
              "ticks": ""
             }
            },
            "type": "scatterpolargl"
           }
          ],
          "scatterternary": [
           {
            "marker": {
             "colorbar": {
              "outlinewidth": 0,
              "ticks": ""
             }
            },
            "type": "scatterternary"
           }
          ],
          "surface": [
           {
            "colorbar": {
             "outlinewidth": 0,
             "ticks": ""
            },
            "colorscale": [
             [
              0,
              "#0d0887"
             ],
             [
              0.1111111111111111,
              "#46039f"
             ],
             [
              0.2222222222222222,
              "#7201a8"
             ],
             [
              0.3333333333333333,
              "#9c179e"
             ],
             [
              0.4444444444444444,
              "#bd3786"
             ],
             [
              0.5555555555555556,
              "#d8576b"
             ],
             [
              0.6666666666666666,
              "#ed7953"
             ],
             [
              0.7777777777777778,
              "#fb9f3a"
             ],
             [
              0.8888888888888888,
              "#fdca26"
             ],
             [
              1,
              "#f0f921"
             ]
            ],
            "type": "surface"
           }
          ],
          "table": [
           {
            "cells": {
             "fill": {
              "color": "#EBF0F8"
             },
             "line": {
              "color": "white"
             }
            },
            "header": {
             "fill": {
              "color": "#C8D4E3"
             },
             "line": {
              "color": "white"
             }
            },
            "type": "table"
           }
          ]
         },
         "layout": {
          "annotationdefaults": {
           "arrowcolor": "#2a3f5f",
           "arrowhead": 0,
           "arrowwidth": 1
          },
          "coloraxis": {
           "colorbar": {
            "outlinewidth": 0,
            "ticks": ""
           }
          },
          "colorscale": {
           "diverging": [
            [
             0,
             "#8e0152"
            ],
            [
             0.1,
             "#c51b7d"
            ],
            [
             0.2,
             "#de77ae"
            ],
            [
             0.3,
             "#f1b6da"
            ],
            [
             0.4,
             "#fde0ef"
            ],
            [
             0.5,
             "#f7f7f7"
            ],
            [
             0.6,
             "#e6f5d0"
            ],
            [
             0.7,
             "#b8e186"
            ],
            [
             0.8,
             "#7fbc41"
            ],
            [
             0.9,
             "#4d9221"
            ],
            [
             1,
             "#276419"
            ]
           ],
           "sequential": [
            [
             0,
             "#0d0887"
            ],
            [
             0.1111111111111111,
             "#46039f"
            ],
            [
             0.2222222222222222,
             "#7201a8"
            ],
            [
             0.3333333333333333,
             "#9c179e"
            ],
            [
             0.4444444444444444,
             "#bd3786"
            ],
            [
             0.5555555555555556,
             "#d8576b"
            ],
            [
             0.6666666666666666,
             "#ed7953"
            ],
            [
             0.7777777777777778,
             "#fb9f3a"
            ],
            [
             0.8888888888888888,
             "#fdca26"
            ],
            [
             1,
             "#f0f921"
            ]
           ],
           "sequentialminus": [
            [
             0,
             "#0d0887"
            ],
            [
             0.1111111111111111,
             "#46039f"
            ],
            [
             0.2222222222222222,
             "#7201a8"
            ],
            [
             0.3333333333333333,
             "#9c179e"
            ],
            [
             0.4444444444444444,
             "#bd3786"
            ],
            [
             0.5555555555555556,
             "#d8576b"
            ],
            [
             0.6666666666666666,
             "#ed7953"
            ],
            [
             0.7777777777777778,
             "#fb9f3a"
            ],
            [
             0.8888888888888888,
             "#fdca26"
            ],
            [
             1,
             "#f0f921"
            ]
           ]
          },
          "colorway": [
           "#636efa",
           "#EF553B",
           "#00cc96",
           "#ab63fa",
           "#FFA15A",
           "#19d3f3",
           "#FF6692",
           "#B6E880",
           "#FF97FF",
           "#FECB52"
          ],
          "font": {
           "color": "#2a3f5f"
          },
          "geo": {
           "bgcolor": "white",
           "lakecolor": "white",
           "landcolor": "#E5ECF6",
           "showlakes": true,
           "showland": true,
           "subunitcolor": "white"
          },
          "hoverlabel": {
           "align": "left"
          },
          "hovermode": "closest",
          "mapbox": {
           "style": "light"
          },
          "paper_bgcolor": "white",
          "plot_bgcolor": "#E5ECF6",
          "polar": {
           "angularaxis": {
            "gridcolor": "white",
            "linecolor": "white",
            "ticks": ""
           },
           "bgcolor": "#E5ECF6",
           "radialaxis": {
            "gridcolor": "white",
            "linecolor": "white",
            "ticks": ""
           }
          },
          "scene": {
           "xaxis": {
            "backgroundcolor": "#E5ECF6",
            "gridcolor": "white",
            "gridwidth": 2,
            "linecolor": "white",
            "showbackground": true,
            "ticks": "",
            "zerolinecolor": "white"
           },
           "yaxis": {
            "backgroundcolor": "#E5ECF6",
            "gridcolor": "white",
            "gridwidth": 2,
            "linecolor": "white",
            "showbackground": true,
            "ticks": "",
            "zerolinecolor": "white"
           },
           "zaxis": {
            "backgroundcolor": "#E5ECF6",
            "gridcolor": "white",
            "gridwidth": 2,
            "linecolor": "white",
            "showbackground": true,
            "ticks": "",
            "zerolinecolor": "white"
           }
          },
          "shapedefaults": {
           "line": {
            "color": "#2a3f5f"
           }
          },
          "ternary": {
           "aaxis": {
            "gridcolor": "white",
            "linecolor": "white",
            "ticks": ""
           },
           "baxis": {
            "gridcolor": "white",
            "linecolor": "white",
            "ticks": ""
           },
           "bgcolor": "#E5ECF6",
           "caxis": {
            "gridcolor": "white",
            "linecolor": "white",
            "ticks": ""
           }
          },
          "title": {
           "x": 0.05
          },
          "xaxis": {
           "automargin": true,
           "gridcolor": "white",
           "linecolor": "white",
           "ticks": "",
           "title": {
            "standoff": 15
           },
           "zerolinecolor": "white",
           "zerolinewidth": 2
          },
          "yaxis": {
           "automargin": true,
           "gridcolor": "white",
           "linecolor": "white",
           "ticks": "",
           "title": {
            "standoff": 15
           },
           "zerolinecolor": "white",
           "zerolinewidth": 2
          }
         }
        },
        "title": {
         "text": "CLH21/CLJ21 CSO Zero Put vs Calendar Spread",
         "x": 0.5,
         "xanchor": "center",
         "y": 0.9,
         "yanchor": "top"
        },
        "xaxis": {
         "showspikes": true,
         "spikedash": "solid",
         "spikemode": "toaxis+across",
         "spikethickness": 1,
         "tickangle": 45,
         "ticktext": [
          20200721,
          20200728,
          20200804,
          20200811,
          20200818,
          20200825,
          20200901,
          20200909,
          20200916,
          20200923,
          20200930,
          20201007,
          20201014,
          20201021,
          20201028,
          20201104,
          20201111,
          20201118,
          20201127,
          20201204,
          20201211,
          20201218,
          20201229,
          20210107
         ],
         "tickvals": [
          20200721,
          20200728,
          20200804,
          20200811,
          20200818,
          20200825,
          20200901,
          20200909,
          20200916,
          20200923,
          20200930,
          20201007,
          20201014,
          20201021,
          20201028,
          20201104,
          20201111,
          20201118,
          20201127,
          20201204,
          20201211,
          20201218,
          20201229,
          20210107
         ],
         "type": "category"
        },
        "yaxis": {
         "showspikes": true,
         "spikedash": "solid",
         "spikemode": "toaxis+across",
         "spikethickness": 1,
         "title": {
          "text": "CSO/Spread Price"
         }
        },
        "yaxis2": {
         "overlaying": "y",
         "side": "right",
         "title": {
          "text": "y alt"
         }
        }
       }
      },
      "text/html": [
       "<div>\n",
       "        \n",
       "        \n",
       "            <div id=\"f821dc5b-67c9-4ca0-9c38-87994b15d81b\" class=\"plotly-graph-div\" style=\"height:525px; width:100%;\"></div>\n",
       "            <script type=\"text/javascript\">\n",
       "                require([\"plotly\"], function(Plotly) {\n",
       "                    window.PLOTLYENV=window.PLOTLYENV || {};\n",
       "                    \n",
       "                if (document.getElementById(\"f821dc5b-67c9-4ca0-9c38-87994b15d81b\")) {\n",
       "                    Plotly.newPlot(\n",
       "                        'f821dc5b-67c9-4ca0-9c38-87994b15d81b',\n",
       "                        [{\"name\": \"spread\", \"opacity\": 1, \"type\": \"scatter\", \"x\": [20200721, 20200722, 20200723, 20200724, 20200727, 20200728, 20200729, 20200730, 20200731, 20200803, 20200804, 20200805, 20200806, 20200807, 20200810, 20200811, 20200812, 20200813, 20200814, 20200817, 20200818, 20200819, 20200820, 20200821, 20200824, 20200825, 20200826, 20200827, 20200828, 20200831, 20200901, 20200902, 20200903, 20200904, 20200908, 20200909, 20200910, 20200911, 20200914, 20200915, 20200916, 20200917, 20200918, 20200921, 20200922, 20200923, 20200924, 20200925, 20200928, 20200929, 20200930, 20201001, 20201002, 20201005, 20201006, 20201007, 20201008, 20201009, 20201012, 20201013, 20201014, 20201015, 20201016, 20201019, 20201020, 20201021, 20201022, 20201023, 20201026, 20201027, 20201028, 20201029, 20201030, 20201102, 20201103, 20201104, 20201105, 20201106, 20201109, 20201110, 20201111, 20201112, 20201113, 20201116, 20201117, 20201118, 20201119, 20201120, 20201123, 20201124, 20201127, 20201130, 20201201, 20201202, 20201203, 20201204, 20201207, 20201208, 20201209, 20201210, 20201211, 20201214, 20201215, 20201216, 20201217, 20201218, 20201221, 20201222, 20201223, 20201228, 20201229, 20201230, 20210104, 20210105, 20210106, 20210107, 20210108], \"y\": [0.10999999999999943, 0.10999999999999943, 0.14999999999999858, 0.1599999999999966, 0.1600000000000037, 0.18999999999999773, 0.1700000000000017, 0.19999999999999574, 0.21000000000000085, 0.23999999999999488, 0.22999999999999687, 0.20000000000000284, 0.23000000000000398, 0.22999999999999687, 0.21000000000000085, 0.21000000000000085, 0.18999999999999773, 0.20999999999999375, 0.21999999999999886, 0.18999999999999773, 0.20000000000000284, 0.21000000000000085, 0.21999999999999886, 0.22999999999999687, 0.25, 0.21000000000000085, 0.21000000000000085, 0.20000000000000284, 0.23000000000000398, 0.21999999999999886, 0.240000000000002, 0.29999999999999716, 0.30999999999999517, 0.37000000000000455, 0.3999999999999986, 0.36999999999999744, 0.4099999999999966, 0.3999999999999986, 0.4100000000000037, 0.39000000000000057, 0.3200000000000003, 0.28999999999999915, 0.2700000000000031, 0.30000000000000426, 0.28999999999999915, 0.28000000000000114, 0.29999999999999716, 0.28999999999999915, 0.28999999999999915, 0.3100000000000023, 0.3100000000000023, 0.3399999999999963, 0.37000000000000455, 0.3299999999999983, 0.29999999999999716, 0.29999999999999716, 0.25, 0.259999999999998, 0.29999999999999716, 0.27999999999999403, 0.23999999999999488, 0.22999999999999687, 0.21999999999999886, 0.23000000000000398, 0.21999999999999886, 0.25, 0.240000000000002, 0.240000000000002, 0.28000000000000114, 0.259999999999998, 0.3200000000000003, 0.3500000000000014, 0.3999999999999986, 0.4299999999999997, 0.38000000000000256, 0.3500000000000014, 0.3500000000000014, 0.3999999999999986, 0.29999999999999716, 0.23999999999999488, 0.2700000000000031, 0.2700000000000031, 0.28999999999999915, 0.23999999999999488, 0.23999999999999488, 0.22999999999999687, 0.20999999999999375, 0.17999999999999972, 0.13000000000000256, 0.10000000000000142, 0.10000000000000142, 0.09000000000000341, 0.09999999999999432, 0.07000000000000028, 0.05000000000000426, 0.060000000000002274, 0.09999999999999432, 0.13000000000000256, 0.12000000000000455, 0.0799999999999983, 0.09000000000000341, 0.0899999999999963, 0.07000000000000028, 0.07000000000000028, 0.0799999999999983, 0.05999999999999517, 0.0799999999999983, 0.10000000000000142, 0.0899999999999963, 0.09999999999999432, 0.10999999999999943, 0.07000000000000028, 0.10999999999999943, 0.030000000000001137, -0.01999999999999602, -0.03999999999999915, -0.07000000000000028], \"yaxis\": \"y\"}, {\"name\": \"opt_price\", \"opacity\": 1, \"type\": \"scatter\", \"x\": [20200721, 20200722, 20200723, 20200724, 20200727, 20200728, 20200729, 20200730, 20200731, 20200803, 20200804, 20200805, 20200806, 20200807, 20200810, 20200811, 20200812, 20200813, 20200814, 20200817, 20200818, 20200819, 20200820, 20200821, 20200824, 20200825, 20200826, 20200827, 20200828, 20200831, 20200901, 20200902, 20200903, 20200904, 20200908, 20200909, 20200910, 20200911, 20200914, 20200915, 20200916, 20200917, 20200918, 20200921, 20200922, 20200923, 20200924, 20200925, 20200928, 20200929, 20200930, 20201001, 20201002, 20201005, 20201006, 20201007, 20201008, 20201009, 20201012, 20201013, 20201014, 20201015, 20201016, 20201019, 20201020, 20201021, 20201022, 20201023, 20201026, 20201027, 20201028, 20201029, 20201030, 20201102, 20201103, 20201104, 20201105, 20201106, 20201109, 20201110, 20201111, 20201112, 20201113, 20201116, 20201117, 20201118, 20201119, 20201120, 20201123, 20201124, 20201127, 20201130, 20201201, 20201202, 20201203, 20201204, 20201207, 20201208, 20201209, 20201210, 20201211, 20201214, 20201215, 20201216, 20201217, 20201218, 20201221, 20201222, 20201223, 20201228, 20201229, 20201230, 20210104, 20210105, 20210106, 20210107, 20210108], \"y\": [0.29, 0.29, 0.33, 0.31, 0.3, 0.32, 0.3, 0.33, 0.34, 0.36, 0.35, 0.34, 0.36, 0.33, 0.34, 0.33, 0.32, 0.33, 0.34, 0.32, 0.33, 0.33, 0.34, 0.34, 0.36, 0.33, 0.33, 0.34, 0.36, 0.36, 0.38, 0.41, 0.42, 0.46, 0.47, 0.45, 0.47, 0.47, 0.47, 0.45, 0.4, 0.37, 0.34, 0.35, 0.35, 0.34, 0.35, 0.35, 0.34, 0.36, 0.36, 0.38, 0.41, 0.37, 0.35, 0.35, 0.31, 0.32, 0.37, 0.36, 0.34, 0.31, 0.32, 0.34, 0.33, 0.35, 0.34, 0.34, 0.34, 0.33, 0.38, 0.41, 0.45, 0.48, 0.44, 0.42, 0.41, 0.45, 0.39, 0.33, 0.36, 0.35, 0.36, 0.31, 0.32, 0.3, 0.29, 0.29, 0.25, 0.22, 0.23, 0.18, 0.21, 0.19, 0.18, 0.18, 0.21, 0.23, 0.2, 0.18, 0.17, 0.17, 0.19, 0.18, 0.17, 0.15, 0.16, 0.17, 0.17, 0.17, 0.18, 0.16, 0.15, 0.12, 0.1, 0.11, 0.06], \"yaxis\": \"y\"}],\n",
       "                        {\"autosize\": true, \"hovermode\": \"x\", \"margin\": {\"b\": 100}, \"modebar\": {\"bgcolor\": \"grey\", \"orientation\": \"v\"}, \"spikedistance\": 1000, \"template\": {\"data\": {\"bar\": [{\"error_x\": {\"color\": \"#2a3f5f\"}, \"error_y\": {\"color\": \"#2a3f5f\"}, \"marker\": {\"line\": {\"color\": \"#E5ECF6\", \"width\": 0.5}}, \"type\": \"bar\"}], \"barpolar\": [{\"marker\": {\"line\": {\"color\": \"#E5ECF6\", \"width\": 0.5}}, \"type\": \"barpolar\"}], \"carpet\": [{\"aaxis\": {\"endlinecolor\": \"#2a3f5f\", \"gridcolor\": \"white\", \"linecolor\": \"white\", \"minorgridcolor\": \"white\", \"startlinecolor\": \"#2a3f5f\"}, \"baxis\": {\"endlinecolor\": \"#2a3f5f\", \"gridcolor\": \"white\", \"linecolor\": \"white\", \"minorgridcolor\": \"white\", \"startlinecolor\": \"#2a3f5f\"}, \"type\": \"carpet\"}], \"choropleth\": [{\"colorbar\": {\"outlinewidth\": 0, \"ticks\": \"\"}, \"type\": \"choropleth\"}], \"contour\": [{\"colorbar\": {\"outlinewidth\": 0, \"ticks\": \"\"}, \"colorscale\": [[0.0, \"#0d0887\"], [0.1111111111111111, \"#46039f\"], [0.2222222222222222, \"#7201a8\"], [0.3333333333333333, \"#9c179e\"], [0.4444444444444444, \"#bd3786\"], [0.5555555555555556, \"#d8576b\"], [0.6666666666666666, \"#ed7953\"], [0.7777777777777778, \"#fb9f3a\"], [0.8888888888888888, \"#fdca26\"], [1.0, \"#f0f921\"]], \"type\": \"contour\"}], \"contourcarpet\": [{\"colorbar\": {\"outlinewidth\": 0, \"ticks\": \"\"}, \"type\": \"contourcarpet\"}], \"heatmap\": [{\"colorbar\": {\"outlinewidth\": 0, \"ticks\": \"\"}, \"colorscale\": [[0.0, \"#0d0887\"], [0.1111111111111111, \"#46039f\"], [0.2222222222222222, \"#7201a8\"], [0.3333333333333333, \"#9c179e\"], [0.4444444444444444, \"#bd3786\"], [0.5555555555555556, \"#d8576b\"], [0.6666666666666666, \"#ed7953\"], [0.7777777777777778, \"#fb9f3a\"], [0.8888888888888888, \"#fdca26\"], [1.0, \"#f0f921\"]], \"type\": \"heatmap\"}], \"heatmapgl\": [{\"colorbar\": {\"outlinewidth\": 0, \"ticks\": \"\"}, \"colorscale\": [[0.0, \"#0d0887\"], [0.1111111111111111, \"#46039f\"], [0.2222222222222222, \"#7201a8\"], [0.3333333333333333, \"#9c179e\"], [0.4444444444444444, \"#bd3786\"], [0.5555555555555556, \"#d8576b\"], [0.6666666666666666, \"#ed7953\"], [0.7777777777777778, \"#fb9f3a\"], [0.8888888888888888, \"#fdca26\"], [1.0, \"#f0f921\"]], \"type\": \"heatmapgl\"}], \"histogram\": [{\"marker\": {\"colorbar\": {\"outlinewidth\": 0, \"ticks\": \"\"}}, \"type\": \"histogram\"}], \"histogram2d\": [{\"colorbar\": {\"outlinewidth\": 0, \"ticks\": \"\"}, \"colorscale\": [[0.0, \"#0d0887\"], [0.1111111111111111, \"#46039f\"], [0.2222222222222222, \"#7201a8\"], [0.3333333333333333, \"#9c179e\"], [0.4444444444444444, \"#bd3786\"], [0.5555555555555556, \"#d8576b\"], [0.6666666666666666, \"#ed7953\"], [0.7777777777777778, \"#fb9f3a\"], [0.8888888888888888, \"#fdca26\"], [1.0, \"#f0f921\"]], \"type\": \"histogram2d\"}], \"histogram2dcontour\": [{\"colorbar\": {\"outlinewidth\": 0, \"ticks\": \"\"}, \"colorscale\": [[0.0, \"#0d0887\"], [0.1111111111111111, \"#46039f\"], [0.2222222222222222, \"#7201a8\"], [0.3333333333333333, \"#9c179e\"], [0.4444444444444444, \"#bd3786\"], [0.5555555555555556, \"#d8576b\"], [0.6666666666666666, \"#ed7953\"], [0.7777777777777778, \"#fb9f3a\"], [0.8888888888888888, \"#fdca26\"], [1.0, \"#f0f921\"]], \"type\": \"histogram2dcontour\"}], \"mesh3d\": [{\"colorbar\": {\"outlinewidth\": 0, \"ticks\": \"\"}, \"type\": \"mesh3d\"}], \"parcoords\": [{\"line\": {\"colorbar\": {\"outlinewidth\": 0, \"ticks\": \"\"}}, \"type\": \"parcoords\"}], \"pie\": [{\"automargin\": true, \"type\": \"pie\"}], \"scatter\": [{\"marker\": {\"colorbar\": {\"outlinewidth\": 0, \"ticks\": \"\"}}, \"type\": \"scatter\"}], \"scatter3d\": [{\"line\": {\"colorbar\": {\"outlinewidth\": 0, \"ticks\": \"\"}}, \"marker\": {\"colorbar\": {\"outlinewidth\": 0, \"ticks\": \"\"}}, \"type\": \"scatter3d\"}], \"scattercarpet\": [{\"marker\": {\"colorbar\": {\"outlinewidth\": 0, \"ticks\": \"\"}}, \"type\": \"scattercarpet\"}], \"scattergeo\": [{\"marker\": {\"colorbar\": {\"outlinewidth\": 0, \"ticks\": \"\"}}, \"type\": \"scattergeo\"}], \"scattergl\": [{\"marker\": {\"colorbar\": {\"outlinewidth\": 0, \"ticks\": \"\"}}, \"type\": \"scattergl\"}], \"scattermapbox\": [{\"marker\": {\"colorbar\": {\"outlinewidth\": 0, \"ticks\": \"\"}}, \"type\": \"scattermapbox\"}], \"scatterpolar\": [{\"marker\": {\"colorbar\": {\"outlinewidth\": 0, \"ticks\": \"\"}}, \"type\": \"scatterpolar\"}], \"scatterpolargl\": [{\"marker\": {\"colorbar\": {\"outlinewidth\": 0, \"ticks\": \"\"}}, \"type\": \"scatterpolargl\"}], \"scatterternary\": [{\"marker\": {\"colorbar\": {\"outlinewidth\": 0, \"ticks\": \"\"}}, \"type\": \"scatterternary\"}], \"surface\": [{\"colorbar\": {\"outlinewidth\": 0, \"ticks\": \"\"}, \"colorscale\": [[0.0, \"#0d0887\"], [0.1111111111111111, \"#46039f\"], [0.2222222222222222, \"#7201a8\"], [0.3333333333333333, \"#9c179e\"], [0.4444444444444444, \"#bd3786\"], [0.5555555555555556, \"#d8576b\"], [0.6666666666666666, \"#ed7953\"], [0.7777777777777778, \"#fb9f3a\"], [0.8888888888888888, \"#fdca26\"], [1.0, \"#f0f921\"]], \"type\": \"surface\"}], \"table\": [{\"cells\": {\"fill\": {\"color\": \"#EBF0F8\"}, \"line\": {\"color\": \"white\"}}, \"header\": {\"fill\": {\"color\": \"#C8D4E3\"}, \"line\": {\"color\": \"white\"}}, \"type\": \"table\"}]}, \"layout\": {\"annotationdefaults\": {\"arrowcolor\": \"#2a3f5f\", \"arrowhead\": 0, \"arrowwidth\": 1}, \"coloraxis\": {\"colorbar\": {\"outlinewidth\": 0, \"ticks\": \"\"}}, \"colorscale\": {\"diverging\": [[0, \"#8e0152\"], [0.1, \"#c51b7d\"], [0.2, \"#de77ae\"], [0.3, \"#f1b6da\"], [0.4, \"#fde0ef\"], [0.5, \"#f7f7f7\"], [0.6, \"#e6f5d0\"], [0.7, \"#b8e186\"], [0.8, \"#7fbc41\"], [0.9, \"#4d9221\"], [1, \"#276419\"]], \"sequential\": [[0.0, \"#0d0887\"], [0.1111111111111111, \"#46039f\"], [0.2222222222222222, \"#7201a8\"], [0.3333333333333333, \"#9c179e\"], [0.4444444444444444, \"#bd3786\"], [0.5555555555555556, \"#d8576b\"], [0.6666666666666666, \"#ed7953\"], [0.7777777777777778, \"#fb9f3a\"], [0.8888888888888888, \"#fdca26\"], [1.0, \"#f0f921\"]], \"sequentialminus\": [[0.0, \"#0d0887\"], [0.1111111111111111, \"#46039f\"], [0.2222222222222222, \"#7201a8\"], [0.3333333333333333, \"#9c179e\"], [0.4444444444444444, \"#bd3786\"], [0.5555555555555556, \"#d8576b\"], [0.6666666666666666, \"#ed7953\"], [0.7777777777777778, \"#fb9f3a\"], [0.8888888888888888, \"#fdca26\"], [1.0, \"#f0f921\"]]}, \"colorway\": [\"#636efa\", \"#EF553B\", \"#00cc96\", \"#ab63fa\", \"#FFA15A\", \"#19d3f3\", \"#FF6692\", \"#B6E880\", \"#FF97FF\", \"#FECB52\"], \"font\": {\"color\": \"#2a3f5f\"}, \"geo\": {\"bgcolor\": \"white\", \"lakecolor\": \"white\", \"landcolor\": \"#E5ECF6\", \"showlakes\": true, \"showland\": true, \"subunitcolor\": \"white\"}, \"hoverlabel\": {\"align\": \"left\"}, \"hovermode\": \"closest\", \"mapbox\": {\"style\": \"light\"}, \"paper_bgcolor\": \"white\", \"plot_bgcolor\": \"#E5ECF6\", \"polar\": {\"angularaxis\": {\"gridcolor\": \"white\", \"linecolor\": \"white\", \"ticks\": \"\"}, \"bgcolor\": \"#E5ECF6\", \"radialaxis\": {\"gridcolor\": \"white\", \"linecolor\": \"white\", \"ticks\": \"\"}}, \"scene\": {\"xaxis\": {\"backgroundcolor\": \"#E5ECF6\", \"gridcolor\": \"white\", \"gridwidth\": 2, \"linecolor\": \"white\", \"showbackground\": true, \"ticks\": \"\", \"zerolinecolor\": \"white\"}, \"yaxis\": {\"backgroundcolor\": \"#E5ECF6\", \"gridcolor\": \"white\", \"gridwidth\": 2, \"linecolor\": \"white\", \"showbackground\": true, \"ticks\": \"\", \"zerolinecolor\": \"white\"}, \"zaxis\": {\"backgroundcolor\": \"#E5ECF6\", \"gridcolor\": \"white\", \"gridwidth\": 2, \"linecolor\": \"white\", \"showbackground\": true, \"ticks\": \"\", \"zerolinecolor\": \"white\"}}, \"shapedefaults\": {\"line\": {\"color\": \"#2a3f5f\"}}, \"ternary\": {\"aaxis\": {\"gridcolor\": \"white\", \"linecolor\": \"white\", \"ticks\": \"\"}, \"baxis\": {\"gridcolor\": \"white\", \"linecolor\": \"white\", \"ticks\": \"\"}, \"bgcolor\": \"#E5ECF6\", \"caxis\": {\"gridcolor\": \"white\", \"linecolor\": \"white\", \"ticks\": \"\"}}, \"title\": {\"x\": 0.05}, \"xaxis\": {\"automargin\": true, \"gridcolor\": \"white\", \"linecolor\": \"white\", \"ticks\": \"\", \"title\": {\"standoff\": 15}, \"zerolinecolor\": \"white\", \"zerolinewidth\": 2}, \"yaxis\": {\"automargin\": true, \"gridcolor\": \"white\", \"linecolor\": \"white\", \"ticks\": \"\", \"title\": {\"standoff\": 15}, \"zerolinecolor\": \"white\", \"zerolinewidth\": 2}}}, \"title\": {\"text\": \"CLH21/CLJ21 CSO Zero Put vs Calendar Spread\", \"x\": 0.5, \"xanchor\": \"center\", \"y\": 0.9, \"yanchor\": \"top\"}, \"xaxis\": {\"showspikes\": true, \"spikedash\": \"solid\", \"spikemode\": \"toaxis+across\", \"spikethickness\": 1, \"tickangle\": 45, \"ticktext\": [20200721, 20200728, 20200804, 20200811, 20200818, 20200825, 20200901, 20200909, 20200916, 20200923, 20200930, 20201007, 20201014, 20201021, 20201028, 20201104, 20201111, 20201118, 20201127, 20201204, 20201211, 20201218, 20201229, 20210107], \"tickvals\": [20200721, 20200728, 20200804, 20200811, 20200818, 20200825, 20200901, 20200909, 20200916, 20200923, 20200930, 20201007, 20201014, 20201021, 20201028, 20201104, 20201111, 20201118, 20201127, 20201204, 20201211, 20201218, 20201229, 20210107], \"type\": \"category\"}, \"yaxis\": {\"showspikes\": true, \"spikedash\": \"solid\", \"spikemode\": \"toaxis+across\", \"spikethickness\": 1, \"title\": {\"text\": \"CSO/Spread Price\"}}, \"yaxis2\": {\"overlaying\": \"y\", \"side\": \"right\", \"title\": {\"text\": \"y alt\"}}},\n",
       "                        {\"responsive\": true}\n",
       "                    ).then(function(){\n",
       "                            \n",
       "var gd = document.getElementById('f821dc5b-67c9-4ca0-9c38-87994b15d81b');\n",
       "var x = new MutationObserver(function (mutations, observer) {{\n",
       "        var display = window.getComputedStyle(gd).display;\n",
       "        if (!display || display === 'none') {{\n",
       "            console.log([gd, 'removed!']);\n",
       "            Plotly.purge(gd);\n",
       "            observer.disconnect();\n",
       "        }}\n",
       "}});\n",
       "\n",
       "// Listen for the removal of the full notebook cells\n",
       "var notebookContainer = gd.closest('#notebook-container');\n",
       "if (notebookContainer) {{\n",
       "    x.observe(notebookContainer, {childList: true});\n",
       "}}\n",
       "\n",
       "// Listen for the clearing of the current output cell\n",
       "var outputEl = gd.closest('.output');\n",
       "if (outputEl) {{\n",
       "    x.observe(outputEl, {childList: true});\n",
       "}}\n",
       "\n",
       "                        })\n",
       "                };\n",
       "                });\n",
       "            </script>\n",
       "        </div>"
      ]
     },
     "metadata": {},
     "output_type": "display_data"
    }
   ],
   "source": [
    "pu.iplt(\n",
    "    pu.plotly_plot(\n",
    "        df_way0c1p[['settle_date','spread','opt_price']],\n",
    "        x_column='settle_date',\n",
    "        y_left_label='CSO/Spread Price',\n",
    "        plot_title=\"CLH21/CLJ21 CSO Zero Put vs Calendar Spread\"\n",
    "    )\n",
    ")"
   ]
  },
  {
   "cell_type": "code",
   "execution_count": 4,
   "metadata": {},
   "outputs": [],
   "source": [
    "#!jupyter nbconvert secdb_example.ipynb --to python"
   ]
  },
  {
   "cell_type": "code",
   "execution_count": null,
   "metadata": {},
   "outputs": [],
   "source": []
  }
 ],
 "metadata": {
  "kernelspec": {
   "display_name": "Python 3",
   "language": "python",
   "name": "python3"
  },
  "language_info": {
   "codemirror_mode": {
    "name": "ipython",
    "version": 3
   },
   "file_extension": ".py",
   "mimetype": "text/x-python",
   "name": "python",
   "nbconvert_exporter": "python",
   "pygments_lexer": "ipython3",
   "version": "3.6.5"
  }
 },
 "nbformat": 4,
 "nbformat_minor": 4
}
