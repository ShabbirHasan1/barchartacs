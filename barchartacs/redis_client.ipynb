{
 "cells": [
  {
   "cell_type": "markdown",
   "metadata": {},
   "source": [
    "### Redis Client"
   ]
  },
  {
   "cell_type": "code",
   "execution_count": 1,
   "metadata": {},
   "outputs": [],
   "source": [
    "import pandas as pd\n",
    "import pyarrow as pa\n",
    "import redis\n",
    "\n"
   ]
  },
  {
   "cell_type": "code",
   "execution_count": 2,
   "metadata": {},
   "outputs": [],
   "source": [
    "redis_port = 6379\n",
    "redis_db = redis.Redis(host = 'localhost',port=6379,db=0)"
   ]
  },
  {
   "cell_type": "code",
   "execution_count": 3,
   "metadata": {},
   "outputs": [],
   "source": [
    "def get_redis_df(key):\n",
    "    context = pa.default_serialization_context()\n",
    "    df = context.deserialize(redis_db.get(key))\n",
    "    return df"
   ]
  },
  {
   "cell_type": "markdown",
   "metadata": {},
   "source": [
    "### Get Data"
   ]
  },
  {
   "cell_type": "code",
   "execution_count": 4,
   "metadata": {},
   "outputs": [],
   "source": [
    "#df_spy,df_vix,df_tnx,df_1yr_rate,df_div\n",
    "df_spy = get_redis_df('df_spy')\n",
    "df_vix = get_redis_df('df_vix')\n",
    "df_tnx = get_redis_df('df_tnx')\n",
    "df_1yr_rate = get_redis_df('df_1yr_rate')\n",
    "df_div = get_redis_df('df_div')\n"
   ]
  },
  {
   "cell_type": "code",
   "execution_count": 5,
   "metadata": {},
   "outputs": [
    {
     "data": {
      "text/html": [
       "<div>\n",
       "<style scoped>\n",
       "    .dataframe tbody tr th:only-of-type {\n",
       "        vertical-align: middle;\n",
       "    }\n",
       "\n",
       "    .dataframe tbody tr th {\n",
       "        vertical-align: top;\n",
       "    }\n",
       "\n",
       "    .dataframe thead th {\n",
       "        text-align: right;\n",
       "    }\n",
       "</style>\n",
       "<table border=\"1\" class=\"dataframe\">\n",
       "  <thead>\n",
       "    <tr style=\"text-align: right;\">\n",
       "      <th></th>\n",
       "      <th>high</th>\n",
       "      <th>low</th>\n",
       "      <th>open</th>\n",
       "      <th>close</th>\n",
       "      <th>volume</th>\n",
       "      <th>date</th>\n",
       "      <th>settle_date</th>\n",
       "    </tr>\n",
       "  </thead>\n",
       "  <tbody>\n",
       "    <tr>\n",
       "      <th>7553</th>\n",
       "      <td>3111.510010</td>\n",
       "      <td>3047.830078</td>\n",
       "      <td>3050.199951</td>\n",
       "      <td>3100.290039</td>\n",
       "      <td>4696280000</td>\n",
       "      <td>2020-06-30</td>\n",
       "      <td>20200630</td>\n",
       "    </tr>\n",
       "    <tr>\n",
       "      <th>7554</th>\n",
       "      <td>3128.439941</td>\n",
       "      <td>3101.169922</td>\n",
       "      <td>3105.919922</td>\n",
       "      <td>3115.860107</td>\n",
       "      <td>4443130000</td>\n",
       "      <td>2020-07-01</td>\n",
       "      <td>20200701</td>\n",
       "    </tr>\n",
       "    <tr>\n",
       "      <th>7555</th>\n",
       "      <td>3165.810059</td>\n",
       "      <td>3124.520020</td>\n",
       "      <td>3143.639893</td>\n",
       "      <td>3130.010010</td>\n",
       "      <td>4190830000</td>\n",
       "      <td>2020-07-02</td>\n",
       "      <td>20200702</td>\n",
       "    </tr>\n",
       "    <tr>\n",
       "      <th>7556</th>\n",
       "      <td>3182.590088</td>\n",
       "      <td>3155.290039</td>\n",
       "      <td>3155.290039</td>\n",
       "      <td>3179.719971</td>\n",
       "      <td>4736450000</td>\n",
       "      <td>2020-07-06</td>\n",
       "      <td>20200706</td>\n",
       "    </tr>\n",
       "    <tr>\n",
       "      <th>7557</th>\n",
       "      <td>3184.149902</td>\n",
       "      <td>3159.290039</td>\n",
       "      <td>3166.439941</td>\n",
       "      <td>3170.360107</td>\n",
       "      <td>1248297311</td>\n",
       "      <td>2020-07-07</td>\n",
       "      <td>20200707</td>\n",
       "    </tr>\n",
       "  </tbody>\n",
       "</table>\n",
       "</div>"
      ],
      "text/plain": [
       "             high          low         open        close      volume  \\\n",
       "7553  3111.510010  3047.830078  3050.199951  3100.290039  4696280000   \n",
       "7554  3128.439941  3101.169922  3105.919922  3115.860107  4443130000   \n",
       "7555  3165.810059  3124.520020  3143.639893  3130.010010  4190830000   \n",
       "7556  3182.590088  3155.290039  3155.290039  3179.719971  4736450000   \n",
       "7557  3184.149902  3159.290039  3166.439941  3170.360107  1248297311   \n",
       "\n",
       "           date  settle_date  \n",
       "7553 2020-06-30     20200630  \n",
       "7554 2020-07-01     20200701  \n",
       "7555 2020-07-02     20200702  \n",
       "7556 2020-07-06     20200706  \n",
       "7557 2020-07-07     20200707  "
      ]
     },
     "execution_count": 5,
     "metadata": {},
     "output_type": "execute_result"
    }
   ],
   "source": [
    "df_spy.tail()"
   ]
  },
  {
   "cell_type": "code",
   "execution_count": null,
   "metadata": {},
   "outputs": [],
   "source": [
    "df_cuv_implied = get_redis_df('df_cuv_implied')"
   ]
  },
  {
   "cell_type": "code",
   "execution_count": null,
   "metadata": {},
   "outputs": [],
   "source": [
    "df_cuv_implied[df_cuv_implied.symbol.str.slice(0,2)=='CL']"
   ]
  },
  {
   "cell_type": "code",
   "execution_count": null,
   "metadata": {},
   "outputs": [],
   "source": []
  }
 ],
 "metadata": {
  "kernelspec": {
   "display_name": "Python 3",
   "language": "python",
   "name": "python3"
  },
  "language_info": {
   "codemirror_mode": {
    "name": "ipython",
    "version": 3
   },
   "file_extension": ".py",
   "mimetype": "text/x-python",
   "name": "python",
   "nbconvert_exporter": "python",
   "pygments_lexer": "ipython3",
   "version": "3.6.5"
  }
 },
 "nbformat": 4,
 "nbformat_minor": 4
}
