{
 "cells": [
  {
   "cell_type": "markdown",
   "metadata": {},
   "source": [
    "### Redis Client"
   ]
  },
  {
   "cell_type": "code",
   "execution_count": 2,
   "metadata": {},
   "outputs": [],
   "source": [
    "import pandas as pd\n",
    "import pyarrow as pa\n",
    "import redis\n",
    "import tqdm\n",
    "\n"
   ]
  },
  {
   "cell_type": "code",
   "execution_count": 3,
   "metadata": {},
   "outputs": [],
   "source": [
    "redis_port = 6379\n",
    "redis_db = redis.Redis(host = 'localhost',port=6379,db=0)\n",
    "# redis_port = 80\n",
    "# redis_db = redis.Redis(host = 'https://a53a579a7651.ngrok.io',port=80,db=0)"
   ]
  },
  {
   "cell_type": "code",
   "execution_count": 4,
   "metadata": {},
   "outputs": [],
   "source": [
    "def get_redis_df(key):\n",
    "    context = pa.default_serialization_context()\n",
    "    df = context.deserialize(redis_db.get(key))\n",
    "    return df"
   ]
  },
  {
   "cell_type": "code",
   "execution_count": 5,
   "metadata": {},
   "outputs": [
    {
     "data": {
      "text/html": [
       "<div>\n",
       "<style scoped>\n",
       "    .dataframe tbody tr th:only-of-type {\n",
       "        vertical-align: middle;\n",
       "    }\n",
       "\n",
       "    .dataframe tbody tr th {\n",
       "        vertical-align: top;\n",
       "    }\n",
       "\n",
       "    .dataframe thead th {\n",
       "        text-align: right;\n",
       "    }\n",
       "</style>\n",
       "<table border=\"1\" class=\"dataframe\">\n",
       "  <thead>\n",
       "    <tr style=\"text-align: right;\">\n",
       "      <th></th>\n",
       "      <th>open</th>\n",
       "      <th>high</th>\n",
       "      <th>low</th>\n",
       "      <th>close</th>\n",
       "      <th>volume</th>\n",
       "      <th>date</th>\n",
       "      <th>settle_date</th>\n",
       "    </tr>\n",
       "  </thead>\n",
       "  <tbody>\n",
       "    <tr>\n",
       "      <th>0</th>\n",
       "      <td>218.309998</td>\n",
       "      <td>218.750000</td>\n",
       "      <td>217.740005</td>\n",
       "      <td>218.539993</td>\n",
       "      <td>75443000</td>\n",
       "      <td>2016-08-19</td>\n",
       "      <td>20160819</td>\n",
       "    </tr>\n",
       "    <tr>\n",
       "      <th>1</th>\n",
       "      <td>218.259995</td>\n",
       "      <td>218.800003</td>\n",
       "      <td>217.830002</td>\n",
       "      <td>218.529999</td>\n",
       "      <td>61368800</td>\n",
       "      <td>2016-08-22</td>\n",
       "      <td>20160822</td>\n",
       "    </tr>\n",
       "    <tr>\n",
       "      <th>2</th>\n",
       "      <td>219.250000</td>\n",
       "      <td>219.600006</td>\n",
       "      <td>218.899994</td>\n",
       "      <td>218.970001</td>\n",
       "      <td>53399200</td>\n",
       "      <td>2016-08-23</td>\n",
       "      <td>20160823</td>\n",
       "    </tr>\n",
       "    <tr>\n",
       "      <th>3</th>\n",
       "      <td>218.800003</td>\n",
       "      <td>218.910004</td>\n",
       "      <td>217.360001</td>\n",
       "      <td>217.850006</td>\n",
       "      <td>71728900</td>\n",
       "      <td>2016-08-24</td>\n",
       "      <td>20160824</td>\n",
       "    </tr>\n",
       "    <tr>\n",
       "      <th>4</th>\n",
       "      <td>217.399994</td>\n",
       "      <td>218.190002</td>\n",
       "      <td>217.220001</td>\n",
       "      <td>217.699997</td>\n",
       "      <td>69224800</td>\n",
       "      <td>2016-08-25</td>\n",
       "      <td>20160825</td>\n",
       "    </tr>\n",
       "    <tr>\n",
       "      <th>...</th>\n",
       "      <td>...</td>\n",
       "      <td>...</td>\n",
       "      <td>...</td>\n",
       "      <td>...</td>\n",
       "      <td>...</td>\n",
       "      <td>...</td>\n",
       "      <td>...</td>\n",
       "    </tr>\n",
       "    <tr>\n",
       "      <th>1254</th>\n",
       "      <td>445.589996</td>\n",
       "      <td>445.940002</td>\n",
       "      <td>445.070007</td>\n",
       "      <td>445.920013</td>\n",
       "      <td>39388300</td>\n",
       "      <td>2021-08-13</td>\n",
       "      <td>20210813</td>\n",
       "    </tr>\n",
       "    <tr>\n",
       "      <th>1255</th>\n",
       "      <td>444.529999</td>\n",
       "      <td>447.109985</td>\n",
       "      <td>442.869995</td>\n",
       "      <td>446.970001</td>\n",
       "      <td>73740000</td>\n",
       "      <td>2021-08-16</td>\n",
       "      <td>20210816</td>\n",
       "    </tr>\n",
       "    <tr>\n",
       "      <th>1256</th>\n",
       "      <td>444.239990</td>\n",
       "      <td>444.959991</td>\n",
       "      <td>440.850006</td>\n",
       "      <td>444.040009</td>\n",
       "      <td>92673900</td>\n",
       "      <td>2021-08-17</td>\n",
       "      <td>20210817</td>\n",
       "    </tr>\n",
       "    <tr>\n",
       "      <th>1257</th>\n",
       "      <td>442.959991</td>\n",
       "      <td>444.630005</td>\n",
       "      <td>438.920013</td>\n",
       "      <td>439.179993</td>\n",
       "      <td>89351900</td>\n",
       "      <td>2021-08-18</td>\n",
       "      <td>20210818</td>\n",
       "    </tr>\n",
       "    <tr>\n",
       "      <th>1258</th>\n",
       "      <td>436.269989</td>\n",
       "      <td>441.140015</td>\n",
       "      <td>436.119995</td>\n",
       "      <td>440.209991</td>\n",
       "      <td>78993495</td>\n",
       "      <td>2021-08-19</td>\n",
       "      <td>20210819</td>\n",
       "    </tr>\n",
       "  </tbody>\n",
       "</table>\n",
       "<p>1259 rows × 7 columns</p>\n",
       "</div>"
      ],
      "text/plain": [
       "            open        high         low       close    volume       date  \\\n",
       "0     218.309998  218.750000  217.740005  218.539993  75443000 2016-08-19   \n",
       "1     218.259995  218.800003  217.830002  218.529999  61368800 2016-08-22   \n",
       "2     219.250000  219.600006  218.899994  218.970001  53399200 2016-08-23   \n",
       "3     218.800003  218.910004  217.360001  217.850006  71728900 2016-08-24   \n",
       "4     217.399994  218.190002  217.220001  217.699997  69224800 2016-08-25   \n",
       "...          ...         ...         ...         ...       ...        ...   \n",
       "1254  445.589996  445.940002  445.070007  445.920013  39388300 2021-08-13   \n",
       "1255  444.529999  447.109985  442.869995  446.970001  73740000 2021-08-16   \n",
       "1256  444.239990  444.959991  440.850006  444.040009  92673900 2021-08-17   \n",
       "1257  442.959991  444.630005  438.920013  439.179993  89351900 2021-08-18   \n",
       "1258  436.269989  441.140015  436.119995  440.209991  78993495 2021-08-19   \n",
       "\n",
       "      settle_date  \n",
       "0        20160819  \n",
       "1        20160822  \n",
       "2        20160823  \n",
       "3        20160824  \n",
       "4        20160825  \n",
       "...           ...  \n",
       "1254     20210813  \n",
       "1255     20210816  \n",
       "1256     20210817  \n",
       "1257     20210818  \n",
       "1258     20210819  \n",
       "\n",
       "[1259 rows x 7 columns]"
      ]
     },
     "execution_count": 5,
     "metadata": {},
     "output_type": "execute_result"
    }
   ],
   "source": [
    "get_redis_df('SPY_csv')"
   ]
  },
  {
   "cell_type": "markdown",
   "metadata": {},
   "source": [
    "### Get Data"
   ]
  },
  {
   "cell_type": "code",
   "execution_count": null,
   "metadata": {},
   "outputs": [],
   "source": [
    "df_bp = pd.read_csv('../../jupyter_notebooks/wf_port.csv')\n",
    "ret_list = []\n",
    "with tqdm.tqdm_notebook(df_bp.symbol.values) as pbar:\n",
    "    for sym in pbar:\n",
    "        len_df=0\n",
    "        try:\n",
    "            df = get_redis_df(f'{sym}_csv')\n",
    "            len_df = len(df)\n",
    "        except:\n",
    "            pass\n",
    "        s = f\"{sym}: {len_df}\"\n",
    "        ret_list.append({'symbol':sym,'length':len_df})\n",
    "        pbar.set_postfix_str(s=s)\n",
    "pd.DataFrame(ret_list)"
   ]
  },
  {
   "cell_type": "code",
   "execution_count": null,
   "metadata": {},
   "outputs": [],
   "source": [
    "#df_spy,df_vix,df_tnx,df_1yr_rate,df_div\n",
    "df_spy = get_redis_df('df_spy')\n",
    "df_vix = get_redis_df('df_vix')\n",
    "df_tnx = get_redis_df('df_tnx')\n",
    "df_1yr_rate = get_redis_df('df_1yr_rate')\n",
    "df_div = get_redis_df('df_div')\n"
   ]
  },
  {
   "cell_type": "code",
   "execution_count": null,
   "metadata": {},
   "outputs": [],
   "source": [
    "df_spy.tail()"
   ]
  },
  {
   "cell_type": "code",
   "execution_count": null,
   "metadata": {},
   "outputs": [],
   "source": [
    "df_cuv_implied = get_redis_df('df_cuv_implied')"
   ]
  },
  {
   "cell_type": "code",
   "execution_count": null,
   "metadata": {},
   "outputs": [],
   "source": [
    "df_cuv_implied[df_cuv_implied.symbol.str.slice(0,2)=='CL']"
   ]
  },
  {
   "cell_type": "code",
   "execution_count": null,
   "metadata": {},
   "outputs": [],
   "source": []
  }
 ],
 "metadata": {
  "kernelspec": {
   "display_name": "Python 3",
   "language": "python",
   "name": "python3"
  },
  "language_info": {
   "codemirror_mode": {
    "name": "ipython",
    "version": 3
   },
   "file_extension": ".py",
   "mimetype": "text/x-python",
   "name": "python",
   "nbconvert_exporter": "python",
   "pygments_lexer": "ipython3",
   "version": "3.6.5"
  }
 },
 "nbformat": 4,
 "nbformat_minor": 4
}
