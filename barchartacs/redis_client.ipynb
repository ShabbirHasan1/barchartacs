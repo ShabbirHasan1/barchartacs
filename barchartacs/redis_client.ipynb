{
 "cells": [
  {
   "cell_type": "markdown",
   "metadata": {},
   "source": [
    "### Redis Client"
   ]
  },
  {
   "cell_type": "code",
   "execution_count": 1,
   "metadata": {},
   "outputs": [
    {
     "name": "stderr",
     "output_type": "stream",
     "text": [
      "/Users/bperlman1/Virtualenvs3/dashrisk5/lib/python3.6/site-packages/pandas_datareader/compat/__init__.py:7: FutureWarning: pandas.util.testing is deprecated. Use the functions in the public API at pandas.testing instead.\n",
      "  from pandas.util.testing import assert_frame_equal\n"
     ]
    }
   ],
   "source": [
    "import pandas as pd\n",
    "import numpy as np\n",
    "\n",
    "import sys\n",
    "import os\n",
    "\n",
    "if  not os.path.abspath('./') in sys.path:\n",
    "    sys.path.append(os.path.abspath('./'))\n",
    "if  not os.path.abspath('../') in sys.path:\n",
    "    sys.path.append(os.path.abspath('../'))\n",
    "\n",
    "from barchartacs import build_db\n",
    "from IPython import display\n",
    "\n",
    "import datetime\n",
    "from dateutil.relativedelta import relativedelta\n",
    "import io\n",
    "\n",
    "from tqdm import tqdm,tqdm_notebook\n",
    "\n",
    "from barchartacs import pg_pandas as pg\n",
    "from barchartacs import schedule_it as sch\n",
    "\n",
    "import mibian\n",
    "import py_vollib\n",
    "import importlib\n",
    "from py_vollib import black\n",
    "from py_vollib.black import implied_volatility\n",
    "\n",
    "import ipdb,pdb\n",
    "import traceback\n",
    "\n",
    "import pandas_datareader.data as pdr\n",
    "from scipy.stats import norm\n",
    "\n",
    "import pyarrow as pa\n",
    "import redis\n",
    "\n"
   ]
  },
  {
   "cell_type": "code",
   "execution_count": 2,
   "metadata": {},
   "outputs": [],
   "source": [
    "redis_port = 6379\n",
    "redis_db = redis.Redis(host = 'localhost',port=6379,db=0)"
   ]
  },
  {
   "cell_type": "code",
   "execution_count": 3,
   "metadata": {},
   "outputs": [],
   "source": [
    "def get_redis_df(key):\n",
    "    context = pa.default_serialization_context()\n",
    "    df = context.deserialize(redis_db.get(key))\n",
    "    return df"
   ]
  },
  {
   "cell_type": "markdown",
   "metadata": {},
   "source": [
    "### Get Data"
   ]
  },
  {
   "cell_type": "code",
   "execution_count": 6,
   "metadata": {},
   "outputs": [],
   "source": [
    "#df_spy,df_vix,df_tnx,df_1yr_rate,df_div\n",
    "df_spy = get_redis_df('df_spy')\n",
    "df_vix = get_redis_df('df_vix')\n",
    "df_tnx = get_redis_df('df_tnx')\n",
    "df_1yr_rate = get_redis_df('df_1yr_rate')\n",
    "df_div = get_redis_df('df_div')\n"
   ]
  },
  {
   "cell_type": "code",
   "execution_count": 7,
   "metadata": {},
   "outputs": [
    {
     "data": {
      "text/html": [
       "<div>\n",
       "<style scoped>\n",
       "    .dataframe tbody tr th:only-of-type {\n",
       "        vertical-align: middle;\n",
       "    }\n",
       "\n",
       "    .dataframe tbody tr th {\n",
       "        vertical-align: top;\n",
       "    }\n",
       "\n",
       "    .dataframe thead th {\n",
       "        text-align: right;\n",
       "    }\n",
       "</style>\n",
       "<table border=\"1\" class=\"dataframe\">\n",
       "  <thead>\n",
       "    <tr style=\"text-align: right;\">\n",
       "      <th></th>\n",
       "      <th>high</th>\n",
       "      <th>low</th>\n",
       "      <th>open</th>\n",
       "      <th>close</th>\n",
       "      <th>volume</th>\n",
       "      <th>date</th>\n",
       "      <th>settle_date</th>\n",
       "    </tr>\n",
       "  </thead>\n",
       "  <tbody>\n",
       "    <tr>\n",
       "      <th>7552</th>\n",
       "      <td>3073.729980</td>\n",
       "      <td>3004.629883</td>\n",
       "      <td>3073.199951</td>\n",
       "      <td>3009.050049</td>\n",
       "      <td>8098120000</td>\n",
       "      <td>2020-06-26</td>\n",
       "      <td>20200626</td>\n",
       "    </tr>\n",
       "    <tr>\n",
       "      <th>7553</th>\n",
       "      <td>3053.889893</td>\n",
       "      <td>2999.739990</td>\n",
       "      <td>3018.590088</td>\n",
       "      <td>3053.239990</td>\n",
       "      <td>4462770000</td>\n",
       "      <td>2020-06-29</td>\n",
       "      <td>20200629</td>\n",
       "    </tr>\n",
       "    <tr>\n",
       "      <th>7554</th>\n",
       "      <td>3111.510010</td>\n",
       "      <td>3047.830078</td>\n",
       "      <td>3050.199951</td>\n",
       "      <td>3100.290039</td>\n",
       "      <td>4696280000</td>\n",
       "      <td>2020-06-30</td>\n",
       "      <td>20200630</td>\n",
       "    </tr>\n",
       "    <tr>\n",
       "      <th>7555</th>\n",
       "      <td>3128.439941</td>\n",
       "      <td>3101.169922</td>\n",
       "      <td>3105.919922</td>\n",
       "      <td>3115.860107</td>\n",
       "      <td>4443130000</td>\n",
       "      <td>2020-07-01</td>\n",
       "      <td>20200701</td>\n",
       "    </tr>\n",
       "    <tr>\n",
       "      <th>7556</th>\n",
       "      <td>3165.810059</td>\n",
       "      <td>3124.520020</td>\n",
       "      <td>3143.639893</td>\n",
       "      <td>3130.010010</td>\n",
       "      <td>4190830000</td>\n",
       "      <td>2020-07-02</td>\n",
       "      <td>20200702</td>\n",
       "    </tr>\n",
       "  </tbody>\n",
       "</table>\n",
       "</div>"
      ],
      "text/plain": [
       "             high          low         open        close      volume  \\\n",
       "7552  3073.729980  3004.629883  3073.199951  3009.050049  8098120000   \n",
       "7553  3053.889893  2999.739990  3018.590088  3053.239990  4462770000   \n",
       "7554  3111.510010  3047.830078  3050.199951  3100.290039  4696280000   \n",
       "7555  3128.439941  3101.169922  3105.919922  3115.860107  4443130000   \n",
       "7556  3165.810059  3124.520020  3143.639893  3130.010010  4190830000   \n",
       "\n",
       "           date  settle_date  \n",
       "7552 2020-06-26     20200626  \n",
       "7553 2020-06-29     20200629  \n",
       "7554 2020-06-30     20200630  \n",
       "7555 2020-07-01     20200701  \n",
       "7556 2020-07-02     20200702  "
      ]
     },
     "execution_count": 7,
     "metadata": {},
     "output_type": "execute_result"
    }
   ],
   "source": [
    "df_spy.tail()"
   ]
  },
  {
   "cell_type": "code",
   "execution_count": null,
   "metadata": {},
   "outputs": [],
   "source": [
    "df_cuv_implied = get_redis_df('df_cuv_implied')"
   ]
  },
  {
   "cell_type": "code",
   "execution_count": null,
   "metadata": {},
   "outputs": [],
   "source": [
    "df_cuv_implied[df_cuv_implied.symbol.str.slice(0,2)=='CL']"
   ]
  },
  {
   "cell_type": "code",
   "execution_count": null,
   "metadata": {},
   "outputs": [],
   "source": []
  }
 ],
 "metadata": {
  "kernelspec": {
   "display_name": "Python 3",
   "language": "python",
   "name": "python3"
  },
  "language_info": {
   "codemirror_mode": {
    "name": "ipython",
    "version": 3
   },
   "file_extension": ".py",
   "mimetype": "text/x-python",
   "name": "python",
   "nbconvert_exporter": "python",
   "pygments_lexer": "ipython3",
   "version": "3.6.5"
  }
 },
 "nbformat": 4,
 "nbformat_minor": 4
}
