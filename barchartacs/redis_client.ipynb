{
 "cells": [
  {
   "cell_type": "markdown",
   "metadata": {},
   "source": [
    "### Redis Client"
   ]
  },
  {
   "cell_type": "code",
   "execution_count": 1,
   "metadata": {},
   "outputs": [
    {
     "name": "stderr",
     "output_type": "stream",
     "text": [
      "/Users/bperlman1/Virtualenvs3/dashrisk5/lib/python3.6/site-packages/pandas_datareader/compat/__init__.py:7: FutureWarning: pandas.util.testing is deprecated. Use the functions in the public API at pandas.testing instead.\n",
      "  from pandas.util.testing import assert_frame_equal\n"
     ]
    }
   ],
   "source": [
    "import pandas as pd\n",
    "import numpy as np\n",
    "\n",
    "import sys\n",
    "import os\n",
    "\n",
    "if  not os.path.abspath('./') in sys.path:\n",
    "    sys.path.append(os.path.abspath('./'))\n",
    "if  not os.path.abspath('../') in sys.path:\n",
    "    sys.path.append(os.path.abspath('../'))\n",
    "\n",
    "from barchartacs import build_db\n",
    "from IPython import display\n",
    "\n",
    "import datetime\n",
    "from dateutil.relativedelta import relativedelta\n",
    "import io\n",
    "\n",
    "from tqdm import tqdm,tqdm_notebook\n",
    "\n",
    "from barchartacs import pg_pandas as pg\n",
    "from barchartacs import schedule_it as sch\n",
    "\n",
    "import mibian\n",
    "import py_vollib\n",
    "import importlib\n",
    "from py_vollib import black\n",
    "from py_vollib.black import implied_volatility\n",
    "\n",
    "import ipdb,pdb\n",
    "import traceback\n",
    "\n",
    "import pandas_datareader.data as pdr\n",
    "from scipy.stats import norm\n",
    "\n",
    "import pyarrow as pa\n",
    "import redis\n",
    "\n"
   ]
  },
  {
   "cell_type": "code",
   "execution_count": 2,
   "metadata": {},
   "outputs": [],
   "source": [
    "redis_port = 6379\n",
    "redis_db = redis.Redis(host = 'localhost',port=6379,db=0)"
   ]
  },
  {
   "cell_type": "code",
   "execution_count": 3,
   "metadata": {},
   "outputs": [],
   "source": [
    "def get_redis_df(key):\n",
    "    context = pa.default_serialization_context()\n",
    "    df = context.deserialize(redis_db.get(key))\n",
    "    return df"
   ]
  },
  {
   "cell_type": "markdown",
   "metadata": {},
   "source": [
    "### Get Data"
   ]
  },
  {
   "cell_type": "code",
   "execution_count": 4,
   "metadata": {},
   "outputs": [],
   "source": [
    "#df_spy,df_vix,df_tnx,df_1yr_rate,df_div\n",
    "df_spy = get_redis_df('df_spy')\n",
    "df_vix = get_redis_df('df_vix')\n",
    "df_tnx = get_redis_df('df_tnx')\n",
    "df_1yr_rate = get_redis_df('df_1yr_rate')\n",
    "df_div = get_redis_df('df_div')\n"
   ]
  },
  {
   "cell_type": "code",
   "execution_count": 5,
   "metadata": {},
   "outputs": [
    {
     "data": {
      "text/html": [
       "<div>\n",
       "<style scoped>\n",
       "    .dataframe tbody tr th:only-of-type {\n",
       "        vertical-align: middle;\n",
       "    }\n",
       "\n",
       "    .dataframe tbody tr th {\n",
       "        vertical-align: top;\n",
       "    }\n",
       "\n",
       "    .dataframe thead th {\n",
       "        text-align: right;\n",
       "    }\n",
       "</style>\n",
       "<table border=\"1\" class=\"dataframe\">\n",
       "  <thead>\n",
       "    <tr style=\"text-align: right;\">\n",
       "      <th></th>\n",
       "      <th>high</th>\n",
       "      <th>low</th>\n",
       "      <th>open</th>\n",
       "      <th>close</th>\n",
       "      <th>volume</th>\n",
       "      <th>date</th>\n",
       "      <th>settle_date</th>\n",
       "    </tr>\n",
       "  </thead>\n",
       "  <tbody>\n",
       "    <tr>\n",
       "      <th>7554</th>\n",
       "      <td>3123.530029</td>\n",
       "      <td>2999.489990</td>\n",
       "      <td>3123.530029</td>\n",
       "      <td>3002.100098</td>\n",
       "      <td>7018890000</td>\n",
       "      <td>2020-06-11</td>\n",
       "      <td>20200611</td>\n",
       "    </tr>\n",
       "    <tr>\n",
       "      <th>7555</th>\n",
       "      <td>3088.419922</td>\n",
       "      <td>2984.469971</td>\n",
       "      <td>3071.040039</td>\n",
       "      <td>3041.310059</td>\n",
       "      <td>5832250000</td>\n",
       "      <td>2020-06-12</td>\n",
       "      <td>20200612</td>\n",
       "    </tr>\n",
       "    <tr>\n",
       "      <th>7556</th>\n",
       "      <td>3079.760010</td>\n",
       "      <td>2965.659912</td>\n",
       "      <td>2993.760010</td>\n",
       "      <td>3066.590088</td>\n",
       "      <td>5740660000</td>\n",
       "      <td>2020-06-15</td>\n",
       "      <td>20200615</td>\n",
       "    </tr>\n",
       "    <tr>\n",
       "      <th>7557</th>\n",
       "      <td>3153.449951</td>\n",
       "      <td>3076.060059</td>\n",
       "      <td>3131.000000</td>\n",
       "      <td>3124.739990</td>\n",
       "      <td>5829240000</td>\n",
       "      <td>2020-06-16</td>\n",
       "      <td>20200616</td>\n",
       "    </tr>\n",
       "    <tr>\n",
       "      <th>7558</th>\n",
       "      <td>3137.590088</td>\n",
       "      <td>3110.550049</td>\n",
       "      <td>3136.129883</td>\n",
       "      <td>3127.909912</td>\n",
       "      <td>985162676</td>\n",
       "      <td>2020-06-17</td>\n",
       "      <td>20200617</td>\n",
       "    </tr>\n",
       "  </tbody>\n",
       "</table>\n",
       "</div>"
      ],
      "text/plain": [
       "             high          low         open        close      volume  \\\n",
       "7554  3123.530029  2999.489990  3123.530029  3002.100098  7018890000   \n",
       "7555  3088.419922  2984.469971  3071.040039  3041.310059  5832250000   \n",
       "7556  3079.760010  2965.659912  2993.760010  3066.590088  5740660000   \n",
       "7557  3153.449951  3076.060059  3131.000000  3124.739990  5829240000   \n",
       "7558  3137.590088  3110.550049  3136.129883  3127.909912   985162676   \n",
       "\n",
       "           date  settle_date  \n",
       "7554 2020-06-11     20200611  \n",
       "7555 2020-06-12     20200612  \n",
       "7556 2020-06-15     20200615  \n",
       "7557 2020-06-16     20200616  \n",
       "7558 2020-06-17     20200617  "
      ]
     },
     "execution_count": 5,
     "metadata": {},
     "output_type": "execute_result"
    }
   ],
   "source": [
    "df_spy.tail()"
   ]
  },
  {
   "cell_type": "code",
   "execution_count": null,
   "metadata": {},
   "outputs": [],
   "source": []
  }
 ],
 "metadata": {
  "kernelspec": {
   "display_name": "Python 3",
   "language": "python",
   "name": "python3"
  },
  "language_info": {
   "codemirror_mode": {
    "name": "ipython",
    "version": 3
   },
   "file_extension": ".py",
   "mimetype": "text/x-python",
   "name": "python",
   "nbconvert_exporter": "python",
   "pygments_lexer": "ipython3",
   "version": "3.6.5"
  }
 },
 "nbformat": 4,
 "nbformat_minor": 4
}
