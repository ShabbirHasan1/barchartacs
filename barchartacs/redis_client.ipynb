{
 "cells": [
  {
   "cell_type": "markdown",
   "metadata": {},
   "source": [
    "### Redis Client"
   ]
  },
  {
   "cell_type": "code",
   "execution_count": null,
   "metadata": {},
   "outputs": [],
   "source": [
    "import pandas as pd\n",
    "import pyarrow as pa\n",
    "import redis\n",
    "import tqdm\n",
    "\n"
   ]
  },
  {
   "cell_type": "code",
   "execution_count": null,
   "metadata": {},
   "outputs": [],
   "source": [
    "redis_port = 6379\n",
    "redis_db = redis.Redis(host = 'localhost',port=6379,db=0)"
   ]
  },
  {
   "cell_type": "code",
   "execution_count": null,
   "metadata": {},
   "outputs": [],
   "source": [
    "def get_redis_df(key):\n",
    "    context = pa.default_serialization_context()\n",
    "    df = context.deserialize(redis_db.get(key))\n",
    "    return df"
   ]
  },
  {
   "cell_type": "markdown",
   "metadata": {},
   "source": [
    "### Get Data"
   ]
  },
  {
   "cell_type": "code",
   "execution_count": null,
   "metadata": {},
   "outputs": [],
   "source": [
    "df_bp = pd.read_csv('../../jupyter_notebooks/wf_port.csv')\n",
    "ret_list = []\n",
    "with tqdm.tqdm_notebook(df_bp.symbol.values) as pbar:\n",
    "    for sym in pbar:\n",
    "        len_df=0\n",
    "        try:\n",
    "            df = get_redis_df(f'{sym}_csv')\n",
    "            len_df = len(df)\n",
    "        except:\n",
    "            pass\n",
    "        s = f\"{sym}: {len_df}\"\n",
    "        ret_list.append({'symbol':sym,'length':len_df})\n",
    "        pbar.set_postfix_str(s=s)\n",
    "pd.DataFrame(ret_list)"
   ]
  },
  {
   "cell_type": "code",
   "execution_count": null,
   "metadata": {},
   "outputs": [],
   "source": [
    "#df_spy,df_vix,df_tnx,df_1yr_rate,df_div\n",
    "df_spy = get_redis_df('df_spy')\n",
    "df_vix = get_redis_df('df_vix')\n",
    "df_tnx = get_redis_df('df_tnx')\n",
    "df_1yr_rate = get_redis_df('df_1yr_rate')\n",
    "df_div = get_redis_df('df_div')\n"
   ]
  },
  {
   "cell_type": "code",
   "execution_count": null,
   "metadata": {},
   "outputs": [],
   "source": [
    "df_spy.tail()"
   ]
  },
  {
   "cell_type": "code",
   "execution_count": null,
   "metadata": {},
   "outputs": [],
   "source": [
    "df_cuv_implied = get_redis_df('df_cuv_implied')"
   ]
  },
  {
   "cell_type": "code",
   "execution_count": null,
   "metadata": {},
   "outputs": [],
   "source": [
    "df_cuv_implied[df_cuv_implied.symbol.str.slice(0,2)=='CL']"
   ]
  },
  {
   "cell_type": "code",
   "execution_count": null,
   "metadata": {},
   "outputs": [],
   "source": []
  }
 ],
 "metadata": {
  "kernelspec": {
   "display_name": "Python 3",
   "language": "python",
   "name": "python3"
  },
  "language_info": {
   "codemirror_mode": {
    "name": "ipython",
    "version": 3
   },
   "file_extension": ".py",
   "mimetype": "text/x-python",
   "name": "python",
   "nbconvert_exporter": "python",
   "pygments_lexer": "ipython3",
   "version": "3.6.5"
  }
 },
 "nbformat": 4,
 "nbformat_minor": 4
}
