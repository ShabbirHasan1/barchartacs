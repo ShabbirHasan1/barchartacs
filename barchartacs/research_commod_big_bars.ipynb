{
 "cells": [
  {
   "cell_type": "code",
   "execution_count": 1,
   "metadata": {},
   "outputs": [],
   "source": [
    "import warnings\n",
    "warnings.filterwarnings(\"ignore\")"
   ]
  },
  {
   "cell_type": "markdown",
   "metadata": {},
   "source": [
    "## Research large moves in the futures markets"
   ]
  },
  {
   "cell_type": "code",
   "execution_count": 2,
   "metadata": {},
   "outputs": [
    {
     "data": {
      "text/html": [
       "        <script type=\"text/javascript\">\n",
       "        window.PlotlyConfig = {MathJaxConfig: 'local'};\n",
       "        if (window.MathJax) {MathJax.Hub.Config({SVG: {font: \"STIX-Web\"}});}\n",
       "        if (typeof require !== 'undefined') {\n",
       "        require.undef(\"plotly\");\n",
       "        requirejs.config({\n",
       "            paths: {\n",
       "                'plotly': ['https://cdn.plot.ly/plotly-latest.min']\n",
       "            }\n",
       "        });\n",
       "        require(['plotly'], function(Plotly) {\n",
       "            window._Plotly = Plotly;\n",
       "        });\n",
       "        }\n",
       "        </script>\n",
       "        "
      ]
     },
     "metadata": {},
     "output_type": "display_data"
    }
   ],
   "source": [
    "\n",
    "import zipfile\n",
    "import glob\n",
    "import pandas as pd\n",
    "import numpy as np\n",
    "\n",
    "from argparse import ArgumentParser\n",
    "from argparse import RawDescriptionHelpFormatter\n",
    "import sys\n",
    "import os\n",
    "if  not './' in sys.path:\n",
    "    sys.path.append('./')\n",
    "if  not '../' in sys.path:\n",
    "    sys.path.append('../')\n",
    "\n",
    "from barchartacs import build_db\n",
    "from barchartacs import db_info\n",
    "import plotly.graph_objs as go\n",
    "from plotly.offline import  init_notebook_mode, iplot\n",
    "init_notebook_mode(connected=True)\n",
    "import plotly.tools as tls\n",
    "from plotly.graph_objs.layout import Font,Margin\n",
    "from IPython import display\n",
    "\n",
    "import datetime\n",
    "import io\n",
    "from tqdm import tqdm,tqdm_notebook\n",
    "from barchartacs import pg_pandas as pg\n",
    "import mibian\n",
    "import py_vollib\n",
    "import importlib\n",
    "from py_vollib import black\n",
    "from py_vollib.black import implied_volatility\n",
    "import ipdb\n",
    "import traceback\n",
    "import pandas_datareader.data as pdr\n",
    "\n",
    "# importlib.reload(build_db)"
   ]
  },
  {
   "cell_type": "markdown",
   "metadata": {},
   "source": [
    "### important global variables"
   ]
  },
  {
   "cell_type": "code",
   "execution_count": 3,
   "metadata": {},
   "outputs": [],
   "source": [
    "\n",
    "DEBUG_IT=False\n",
    "opttab = 'sec_schema.options_table'\n",
    "futtab = 'sec_schema.underlying_table'\n"
   ]
  },
  {
   "cell_type": "code",
   "execution_count": 4,
   "metadata": {},
   "outputs": [],
   "source": [
    "def plotly_plot(df_in,x_column,plot_title=None,\n",
    "                y_left_label=None,y_right_label=None,\n",
    "                bar_plot=False,figsize=(16,10),\n",
    "                number_of_ticks_display=20,\n",
    "                yaxis2_cols=None,\n",
    "                x_value_labels=None):\n",
    "    ya2c = [] if yaxis2_cols is None else yaxis2_cols\n",
    "    ycols = [c for c in df_in.columns.values if c != x_column]\n",
    "    # create tdvals, which will have x axis labels\n",
    "    td = list(df_in[x_column]) \n",
    "    nt = len(df_in)-1 if number_of_ticks_display > len(df_in) else number_of_ticks_display\n",
    "    spacing = len(td)//nt\n",
    "    tdvals = td[::spacing]\n",
    "    tdtext = tdvals\n",
    "    if x_value_labels is not None:\n",
    "        tdtext = [x_value_labels[i] for i in tdvals]\n",
    "    \n",
    "    # create data for graph\n",
    "    data = []\n",
    "    # iterate through all ycols to append to data that gets passed to go.Figure\n",
    "    for ycol in ycols:\n",
    "        if bar_plot:\n",
    "            b = go.Bar(x=td,y=df_in[ycol],name=ycol,yaxis='y' if ycol not in ya2c else 'y2')\n",
    "        else:\n",
    "            b = go.Scatter(x=td,y=df_in[ycol],name=ycol,yaxis='y' if ycol not in ya2c else 'y2')\n",
    "        data.append(b)\n",
    "\n",
    "    # create a layout\n",
    "    layout = go.Layout(\n",
    "        title=plot_title,\n",
    "        xaxis=dict(\n",
    "            ticktext=tdtext,\n",
    "            tickvals=tdvals,\n",
    "            tickangle=45,\n",
    "            type='category'),\n",
    "        yaxis=dict(\n",
    "            title='y main' if y_left_label is None else y_left_label\n",
    "        ),\n",
    "        yaxis2=dict(\n",
    "            title='y alt' if y_right_label is None else y_right_label,\n",
    "            overlaying='y',\n",
    "            side='right'),\n",
    "        margin=Margin(\n",
    "            b=100\n",
    "        )        \n",
    "    )\n",
    "\n",
    "    fig = go.Figure(data=data,layout=layout)\n",
    "    fig.update_layout(\n",
    "        title={\n",
    "            'text': plot_title,\n",
    "            'y':0.9,\n",
    "            'x':0.5,\n",
    "            'xanchor': 'center',\n",
    "            'yanchor': 'top'})\n",
    "    return fig\n",
    "\n",
    "def plotly_shaded_rectangles(beg_end_date_tuple_list,fig):\n",
    "    ld_shapes = []\n",
    "    for beg_end_date_tuple in beg_end_date_tuple_list:\n",
    "        ld_beg = beg_end_date_tuple[0]\n",
    "        ld_end = beg_end_date_tuple[1]\n",
    "        ld_shape = dict(\n",
    "            type=\"rect\",\n",
    "            # x-reference is assigned to the x-values\n",
    "            xref=\"x\",\n",
    "            # y-reference is assigned to the plot paper [0,1]\n",
    "            yref=\"paper\",\n",
    "            x0=ld_beg[i],\n",
    "            y0=0,\n",
    "            x1=ld_end[i],\n",
    "            y1=1,\n",
    "            fillcolor=\"LightSalmon\",\n",
    "            opacity=0.5,\n",
    "            layer=\"below\",\n",
    "            line_width=0,\n",
    "        )\n",
    "        ld_shapes.append(ld_shape)\n",
    "\n",
    "    fig.update_layout(shapes=ld_shapes)\n",
    "    return fig"
   ]
  },
  {
   "cell_type": "markdown",
   "metadata": {},
   "source": [
    "#### get all contracts in the options database"
   ]
  },
  {
   "cell_type": "code",
   "execution_count": 5,
   "metadata": {
    "scrolled": false
   },
   "outputs": [
    {
     "name": "stdout",
     "output_type": "stream",
     "text": [
      "  sec_db\n",
      "futtab max date:         max\n",
      "0  20200309\n",
      "opttab max date:         max\n",
      "0  20200309\n"
     ]
    }
   ],
   "source": [
    "pga = db_info.get_db_info()\n",
    "print(f\"futtab max date: {pga.get_sql(f'select max(settle_date) from {futtab}')}\")\n",
    "print(f\"opttab max date: {pga.get_sql(f'select max(settle_date) from {opttab}')}\")\n"
   ]
  },
  {
   "cell_type": "code",
   "execution_count": 6,
   "metadata": {},
   "outputs": [],
   "source": [
    "def get_big_bars(commod,threshold_price,threshold_perc):\n",
    "    sql_big_bars = f\"\"\"\n",
    "    with \n",
    "    f1 as (\n",
    "        select substring(symbol,1,2) commod, symbol,settle_date,(high-low)/open hilo_perc,\n",
    "        (close-open)/open open_close_perc\n",
    "        from {futtab} \n",
    "        where symbol like '{commod}%%' and open_interest>0 and volume>0 and open > {threshold_price}\n",
    "    ),\n",
    "    f2 as (\n",
    "        select commod, symbol, max(hilo_perc) hilo_perc_max from f1\n",
    "        group by commod,symbol\n",
    "    ),\n",
    "    f3 as (\n",
    "        select f1.symbol, f1.settle_date, f1.hilo_perc from f1\n",
    "        join f2 on f1.symbol=f2.symbol\n",
    "    )\n",
    "    select * from f3 where hilo_perc >= {threshold_perc}\n",
    "    order by hilo_perc desc\n",
    "    \"\"\"\n",
    "    df_big_bars = pga.get_sql(sql_big_bars)\n",
    "    return df_big_bars"
   ]
  },
  {
   "cell_type": "code",
   "execution_count": 7,
   "metadata": {},
   "outputs": [],
   "source": [
    "commod = 'CL'\n",
    "minprice = 20\n",
    "hilo = .08\n",
    "df_big_bars = get_big_bars(commod,minprice,hilo)"
   ]
  },
  {
   "cell_type": "code",
   "execution_count": 8,
   "metadata": {
    "scrolled": false
   },
   "outputs": [
    {
     "name": "stdout",
     "output_type": "stream",
     "text": [
      "Distribution of CL days where (High - Low)/Open >= 0.08 and open>=20\n",
      "Total days = 244\n"
     ]
    },
    {
     "data": {
      "image/png": "[encoded data removed]",
      "text/plain": [
       "<Figure size 1152x576 with 1 Axes>"
      ]
     },
     "metadata": {
      "needs_background": "light"
     },
     "output_type": "display_data"
    }
   ],
   "source": [
    "df_big_bars.hilo_perc.hist(bins=20,figsize=(16,8))\n",
    "print(f\"Distribution of {commod} days where (High - Low)/Open >= {hilo} and open>={minprice}\")\n",
    "print(f\"Total days = {len(df_big_bars)}\")"
   ]
  },
  {
   "cell_type": "code",
   "execution_count": 9,
   "metadata": {},
   "outputs": [
    {
     "data": {
      "application/vnd.plotly.v1+json": {
       "config": {
        "linkText": "Export to plot.ly",
        "plotlyServerURL": "https://plot.ly",
        "showLink": false
       },
       "data": [
        {
         "name": "hilo_perc",
         "type": "bar",
         "x": [
          0,
          1,
          2,
          3,
          4,
          5,
          6,
          7,
          8,
          9,
          10,
          11,
          12,
          13,
          14,
          15,
          16,
          17,
          18,
          19,
          20,
          21,
          22,
          23,
          24,
          25,
          26,
          27,
          28,
          29,
          30,
          31,
          32,
          33,
          34,
          35,
          36,
          37,
          38,
          39,
          40,
          41,
          42,
          43,
          44,
          45,
          46,
          47,
          48,
          49,
          50,
          51,
          52,
          53,
          54,
          55,
          56,
          57,
          58,
          59,
          60,
          61,
          62,
          63,
          64,
          65,
          66,
          67,
          68,
          69,
          70,
          71,
          72,
          73,
          74,
          75,
          76,
          77,
          78,
          79,
          80,
          81,
          82,
          83,
          84,
          85,
          86,
          87,
          88,
          89,
          90,
          91,
          92,
          93,
          94,
          95,
          96,
          97,
          98,
          99,
          100,
          101,
          102,
          103,
          104,
          105,
          106,
          107,
          108,
          109,
          110,
          111,
          112,
          113,
          114,
          115,
          116,
          117,
          118,
          119,
          120,
          121,
          122,
          123,
          124,
          125,
          126,
          127,
          128,
          129,
          130,
          131,
          132,
          133,
          134,
          135,
          136,
          137,
          138,
          139,
          140,
          141,
          142,
          143,
          144,
          145,
          146,
          147,
          148,
          149,
          150,
          151,
          152,
          153,
          154,
          155,
          156,
          157,
          158,
          159,
          160,
          161,
          162,
          163,
          164,
          165,
          166,
          167,
          168,
          169,
          170,
          171,
          172,
          173,
          174,
          175,
          176,
          177,
          178,
          179,
          180,
          181,
          182,
          183,
          184,
          185,
          186,
          187,
          188,
          189,
          190,
          191,
          192,
          193,
          194,
          195,
          196,
          197,
          198,
          199,
          200,
          201,
          202,
          203,
          204,
          205,
          206,
          207,
          208,
          209,
          210,
          211,
          212,
          213,
          214,
          215,
          216,
          217,
          218,
          219,
          220,
          221,
          222,
          223,
          224,
          225,
          226,
          227,
          228,
          229,
          230,
          231,
          232,
          233,
          234,
          235,
          236,
          237,
          238,
          239,
          240,
          241,
          242,
          243
         ],
         "y": [
          0.08168343611381586,
          0.09673478454020436,
          0.0953924519564714,
          0.09759615384615385,
          0.10231660231660232,
          0.10135382363702891,
          0.09252799706260327,
          0.0847145488029466,
          0.08453817110231145,
          0.09747695745275115,
          0.09387555120039197,
          0.0949124726477024,
          0.11519607843137254,
          0.10035645736221552,
          0.09552511415525114,
          0.08235294117647059,
          0.1,
          0.09953513809133169,
          0.09510374954495814,
          0.08339367608013516,
          0.08764698751363802,
          0.08910162002945508,
          0.08823529411764706,
          0.0905055487053021,
          0.0893422886833101,
          0.08998215651287281,
          0.08670957970465733,
          0.08482646284926701,
          0.08292017848289539,
          0.08508782857854741,
          0.09133169264424391,
          0.0873972602739726,
          0.08740254411161263,
          0.08759721653704462,
          0.08879837067209775,
          0.10825309491059147,
          0.1006168608636052,
          0.09731359649122807,
          0.0973839200109574,
          0.10588558855885588,
          0.10473575840768702,
          0.08002980625931445,
          0.08818181818181818,
          0.08681866223765665,
          0.08280828082808281,
          0.08513838748495788,
          0.08168360977349741,
          0.08594594594594594,
          0.08361683079677708,
          0.08111888111888112,
          0.08303824362606232,
          0.08474274523767135,
          0.08382590005373455,
          0.08448873483535528,
          0.09624925580472316,
          0.1004419445560466,
          0.09302325581395349,
          0.0858576114219564,
          0.10699588477366255,
          0.10618746171125179,
          0.08413764162819974,
          0.08501937150236763,
          0.0905220703562626,
          0.08196721311475409,
          0.08860480493718316,
          0.0817398613154024,
          0.08452611218568665,
          0.0822461712989223,
          0.0887001185302252,
          0.09138381201044386,
          0.08922005031933423,
          0.0865858279651383,
          0.08067821874417738,
          0.09739058968563798,
          0.09071189114573062,
          0.08906339781651025,
          0.08086303939962476,
          0.09508460918614021,
          0.09788626069451434,
          0.08168421052631579,
          0.09117383512544804,
          0.08280109489051095,
          0.09369070208728653,
          0.10035934291581108,
          0.09507722007722008,
          0.09,
          0.09736258318954893,
          0.09199549041713641,
          0.0860191637630662,
          0.08365508365508366,
          0.09653233364573571,
          0.08911985846970367,
          0.09360625574977001,
          0.10757297407634211,
          0.09194483310013991,
          0.09803141777689402,
          0.10871794871794872,
          0.11642105263157895,
          0.1247537754432042,
          0.12153747047455443,
          0.08746910058946568,
          0.10389089450461292,
          0.09424290220820189,
          0.12733333333333333,
          0.11852631578947369,
          0.11398963730569948,
          0.09168148587235724,
          0.0916911045943304,
          0.09691991786447639,
          0.09508525576730191,
          0.08618012422360248,
          0.09812889812889813,
          0.0821157758461254,
          0.08849221420432966,
          0.09465922678357912,
          0.08043380027112516,
          0.08436286621955524,
          0.08395061728395062,
          0.0845912845343207,
          0.08456843940714909,
          0.09120102761721259,
          0.08842105263157894,
          0.09450402144772117,
          0.08781785925487877,
          0.08280430582390284,
          0.09000620732464308,
          0.09547581903276131,
          0.08524590163934426,
          0.10600469641060047,
          0.08761061946902655,
          0.09418960244648318,
          0.1001914486279515,
          0.08374384236453201,
          0.0828125,
          0.088379705400982,
          0.0840240068591026,
          0.09028809028809029,
          0.09568188878533707,
          0.08542713567839195,
          0.08304297328687572,
          0.11260504201680673,
          0.09319213313161875,
          0.10101651842439645,
          0.0951276102088167,
          0.08055481461723127,
          0.09082397003745318,
          0.08097615085967831,
          0.08378455400398974,
          0.08672408672408673,
          0.09926739926739926,
          0.08127759023630225,
          0.0920794850265883,
          0.09972964854310604,
          0.09968051118210862,
          0.09688581314878893,
          0.09731774415405778,
          0.08150984682713348,
          0.08192090395480225,
          0.08234341252699784,
          0.09137544084642514,
          0.08437404812671337,
          0.09471516815374056,
          0.08647375504710633,
          0.09836413851710218,
          0.10344827586206896,
          0.0898645876077144,
          0.08931518151815182,
          0.10103851146689745,
          0.09341692789968652,
          0.08033385498174231,
          0.08137306150897369,
          0.08509090909090909,
          0.08521897810218979,
          0.0823956442831216,
          0.08430913348946135,
          0.08054054054054054,
          0.0854372484449323,
          0.0835296249320529,
          0.08536853685368537,
          0.08019674935842601,
          0.08300738809213386,
          0.08395277656318322,
          0.0957752709577527,
          0.10360670801745922,
          0.10056242969628797,
          0.09092915471198411,
          0.10448107731599722,
          0.10455075845974329,
          0.08500640751815464,
          0.09381997313031795,
          0.08003369839932603,
          0.100975720444747,
          0.09592641261498029,
          0.09727112676056338,
          0.09512140788594342,
          0.0875997340425532,
          0.09254498714652956,
          0.1034373010821133,
          0.09243287225386493,
          0.10234711799457129,
          0.08325090669304319,
          0.09545307965172525,
          0.1,
          0.08016666666666666,
          0.08759601242033012,
          0.09702517162471395,
          0.09022727272727273,
          0.08331456879081288,
          0.09811063054860004,
          0.08818222823635544,
          0.08009872111285618,
          0.10494623655913979,
          0.09133689839572193,
          0.08221797323135756,
          0.11337083513630462,
          0.1,
          0.08667805294619983,
          0.08610400682011936,
          0.11564330657409416,
          0.11044003451251079,
          0.2293885001521144,
          0.0935077519379845,
          0.22391238211134773,
          0.09722222222222222,
          0.2272302662307333,
          0.1321353065539112,
          0.20237561631555356,
          0.20430871212121213,
          0.12722513089005236,
          0.11964238758874572,
          0.17127371273712738,
          0.11552631578947369,
          0.17577197149643706,
          0.08625,
          0.2218384697130712,
          0.18205128205128204,
          0.1972464175330149,
          0.1131111111111111,
          0.19731258840169733,
          0.10833737275811925,
          0.19948717948717948,
          0.15674551598648298,
          0.19117981359399863,
          0.23037455105182145
         ],
         "yaxis": "y"
        }
       ],
       "layout": {
        "margin": {
         "b": 100
        },
        "template": {
         "data": {
          "bar": [
           {
            "error_x": {
             "color": "#2a3f5f"
            },
            "error_y": {
             "color": "#2a3f5f"
            },
            "marker": {
             "line": {
              "color": "#E5ECF6",
              "width": 0.5
             }
            },
            "type": "bar"
           }
          ],
          "barpolar": [
           {
            "marker": {
             "line": {
              "color": "#E5ECF6",
              "width": 0.5
             }
            },
            "type": "barpolar"
           }
          ],
          "carpet": [
           {
            "aaxis": {
             "endlinecolor": "#2a3f5f",
             "gridcolor": "white",
             "linecolor": "white",
             "minorgridcolor": "white",
             "startlinecolor": "#2a3f5f"
            },
            "baxis": {
             "endlinecolor": "#2a3f5f",
             "gridcolor": "white",
             "linecolor": "white",
             "minorgridcolor": "white",
             "startlinecolor": "#2a3f5f"
            },
            "type": "carpet"
           }
          ],
          "choropleth": [
           {
            "colorbar": {
             "outlinewidth": 0,
             "ticks": ""
            },
            "type": "choropleth"
           }
          ],
          "contour": [
           {
            "colorbar": {
             "outlinewidth": 0,
             "ticks": ""
            },
            "colorscale": [
             [
              0,
              "#0d0887"
             ],
             [
              0.1111111111111111,
              "#46039f"
             ],
             [
              0.2222222222222222,
              "#7201a8"
             ],
             [
              0.3333333333333333,
              "#9c179e"
             ],
             [
              0.4444444444444444,
              "#bd3786"
             ],
             [
              0.5555555555555556,
              "#d8576b"
             ],
             [
              0.6666666666666666,
              "#ed7953"
             ],
             [
              0.7777777777777778,
              "#fb9f3a"
             ],
             [
              0.8888888888888888,
              "#fdca26"
             ],
             [
              1,
              "#f0f921"
             ]
            ],
            "type": "contour"
           }
          ],
          "contourcarpet": [
           {
            "colorbar": {
             "outlinewidth": 0,
             "ticks": ""
            },
            "type": "contourcarpet"
           }
          ],
          "heatmap": [
           {
            "colorbar": {
             "outlinewidth": 0,
             "ticks": ""
            },
            "colorscale": [
             [
              0,
              "#0d0887"
             ],
             [
              0.1111111111111111,
              "#46039f"
             ],
             [
              0.2222222222222222,
              "#7201a8"
             ],
             [
              0.3333333333333333,
              "#9c179e"
             ],
             [
              0.4444444444444444,
              "#bd3786"
             ],
             [
              0.5555555555555556,
              "#d8576b"
             ],
             [
              0.6666666666666666,
              "#ed7953"
             ],
             [
              0.7777777777777778,
              "#fb9f3a"
             ],
             [
              0.8888888888888888,
              "#fdca26"
             ],
             [
              1,
              "#f0f921"
             ]
            ],
            "type": "heatmap"
           }
          ],
          "heatmapgl": [
           {
            "colorbar": {
             "outlinewidth": 0,
             "ticks": ""
            },
            "colorscale": [
             [
              0,
              "#0d0887"
             ],
             [
              0.1111111111111111,
              "#46039f"
             ],
             [
              0.2222222222222222,
              "#7201a8"
             ],
             [
              0.3333333333333333,
              "#9c179e"
             ],
             [
              0.4444444444444444,
              "#bd3786"
             ],
             [
              0.5555555555555556,
              "#d8576b"
             ],
             [
              0.6666666666666666,
              "#ed7953"
             ],
             [
              0.7777777777777778,
              "#fb9f3a"
             ],
             [
              0.8888888888888888,
              "#fdca26"
             ],
             [
              1,
              "#f0f921"
             ]
            ],
            "type": "heatmapgl"
           }
          ],
          "histogram": [
           {
            "marker": {
             "colorbar": {
              "outlinewidth": 0,
              "ticks": ""
             }
            },
            "type": "histogram"
           }
          ],
          "histogram2d": [
           {
            "colorbar": {
             "outlinewidth": 0,
             "ticks": ""
            },
            "colorscale": [
             [
              0,
              "#0d0887"
             ],
             [
              0.1111111111111111,
              "#46039f"
             ],
             [
              0.2222222222222222,
              "#7201a8"
             ],
             [
              0.3333333333333333,
              "#9c179e"
             ],
             [
              0.4444444444444444,
              "#bd3786"
             ],
             [
              0.5555555555555556,
              "#d8576b"
             ],
             [
              0.6666666666666666,
              "#ed7953"
             ],
             [
              0.7777777777777778,
              "#fb9f3a"
             ],
             [
              0.8888888888888888,
              "#fdca26"
             ],
             [
              1,
              "#f0f921"
             ]
            ],
            "type": "histogram2d"
           }
          ],
          "histogram2dcontour": [
           {
            "colorbar": {
             "outlinewidth": 0,
             "ticks": ""
            },
            "colorscale": [
             [
              0,
              "#0d0887"
             ],
             [
              0.1111111111111111,
              "#46039f"
             ],
             [
              0.2222222222222222,
              "#7201a8"
             ],
             [
              0.3333333333333333,
              "#9c179e"
             ],
             [
              0.4444444444444444,
              "#bd3786"
             ],
             [
              0.5555555555555556,
              "#d8576b"
             ],
             [
              0.6666666666666666,
              "#ed7953"
             ],
             [
              0.7777777777777778,
              "#fb9f3a"
             ],
             [
              0.8888888888888888,
              "#fdca26"
             ],
             [
              1,
              "#f0f921"
             ]
            ],
            "type": "histogram2dcontour"
           }
          ],
          "mesh3d": [
           {
            "colorbar": {
             "outlinewidth": 0,
             "ticks": ""
            },
            "type": "mesh3d"
           }
          ],
          "parcoords": [
           {
            "line": {
             "colorbar": {
              "outlinewidth": 0,
              "ticks": ""
             }
            },
            "type": "parcoords"
           }
          ],
          "pie": [
           {
            "automargin": true,
            "type": "pie"
           }
          ],
          "scatter": [
           {
            "marker": {
             "colorbar": {
              "outlinewidth": 0,
              "ticks": ""
             }
            },
            "type": "scatter"
           }
          ],
          "scatter3d": [
           {
            "line": {
             "colorbar": {
              "outlinewidth": 0,
              "ticks": ""
             }
            },
            "marker": {
             "colorbar": {
              "outlinewidth": 0,
              "ticks": ""
             }
            },
            "type": "scatter3d"
           }
          ],
          "scattercarpet": [
           {
            "marker": {
             "colorbar": {
              "outlinewidth": 0,
              "ticks": ""
             }
            },
            "type": "scattercarpet"
           }
          ],
          "scattergeo": [
           {
            "marker": {
             "colorbar": {
              "outlinewidth": 0,
              "ticks": ""
             }
            },
            "type": "scattergeo"
           }
          ],
          "scattergl": [
           {
            "marker": {
             "colorbar": {
              "outlinewidth": 0,
              "ticks": ""
             }
            },
            "type": "scattergl"
           }
          ],
          "scattermapbox": [
           {
            "marker": {
             "colorbar": {
              "outlinewidth": 0,
              "ticks": ""
             }
            },
            "type": "scattermapbox"
           }
          ],
          "scatterpolar": [
           {
            "marker": {
             "colorbar": {
              "outlinewidth": 0,
              "ticks": ""
             }
            },
            "type": "scatterpolar"
           }
          ],
          "scatterpolargl": [
           {
            "marker": {
             "colorbar": {
              "outlinewidth": 0,
              "ticks": ""
             }
            },
            "type": "scatterpolargl"
           }
          ],
          "scatterternary": [
           {
            "marker": {
             "colorbar": {
              "outlinewidth": 0,
              "ticks": ""
             }
            },
            "type": "scatterternary"
           }
          ],
          "surface": [
           {
            "colorbar": {
             "outlinewidth": 0,
             "ticks": ""
            },
            "colorscale": [
             [
              0,
              "#0d0887"
             ],
             [
              0.1111111111111111,
              "#46039f"
             ],
             [
              0.2222222222222222,
              "#7201a8"
             ],
             [
              0.3333333333333333,
              "#9c179e"
             ],
             [
              0.4444444444444444,
              "#bd3786"
             ],
             [
              0.5555555555555556,
              "#d8576b"
             ],
             [
              0.6666666666666666,
              "#ed7953"
             ],
             [
              0.7777777777777778,
              "#fb9f3a"
             ],
             [
              0.8888888888888888,
              "#fdca26"
             ],
             [
              1,
              "#f0f921"
             ]
            ],
            "type": "surface"
           }
          ],
          "table": [
           {
            "cells": {
             "fill": {
              "color": "#EBF0F8"
             },
             "line": {
              "color": "white"
             }
            },
            "header": {
             "fill": {
              "color": "#C8D4E3"
             },
             "line": {
              "color": "white"
             }
            },
            "type": "table"
           }
          ]
         },
         "layout": {
          "annotationdefaults": {
           "arrowcolor": "#2a3f5f",
           "arrowhead": 0,
           "arrowwidth": 1
          },
          "coloraxis": {
           "colorbar": {
            "outlinewidth": 0,
            "ticks": ""
           }
          },
          "colorscale": {
           "diverging": [
            [
             0,
             "#8e0152"
            ],
            [
             0.1,
             "#c51b7d"
            ],
            [
             0.2,
             "#de77ae"
            ],
            [
             0.3,
             "#f1b6da"
            ],
            [
             0.4,
             "#fde0ef"
            ],
            [
             0.5,
             "#f7f7f7"
            ],
            [
             0.6,
             "#e6f5d0"
            ],
            [
             0.7,
             "#b8e186"
            ],
            [
             0.8,
             "#7fbc41"
            ],
            [
             0.9,
             "#4d9221"
            ],
            [
             1,
             "#276419"
            ]
           ],
           "sequential": [
            [
             0,
             "#0d0887"
            ],
            [
             0.1111111111111111,
             "#46039f"
            ],
            [
             0.2222222222222222,
             "#7201a8"
            ],
            [
             0.3333333333333333,
             "#9c179e"
            ],
            [
             0.4444444444444444,
             "#bd3786"
            ],
            [
             0.5555555555555556,
             "#d8576b"
            ],
            [
             0.6666666666666666,
             "#ed7953"
            ],
            [
             0.7777777777777778,
             "#fb9f3a"
            ],
            [
             0.8888888888888888,
             "#fdca26"
            ],
            [
             1,
             "#f0f921"
            ]
           ],
           "sequentialminus": [
            [
             0,
             "#0d0887"
            ],
            [
             0.1111111111111111,
             "#46039f"
            ],
            [
             0.2222222222222222,
             "#7201a8"
            ],
            [
             0.3333333333333333,
             "#9c179e"
            ],
            [
             0.4444444444444444,
             "#bd3786"
            ],
            [
             0.5555555555555556,
             "#d8576b"
            ],
            [
             0.6666666666666666,
             "#ed7953"
            ],
            [
             0.7777777777777778,
             "#fb9f3a"
            ],
            [
             0.8888888888888888,
             "#fdca26"
            ],
            [
             1,
             "#f0f921"
            ]
           ]
          },
          "colorway": [
           "#636efa",
           "#EF553B",
           "#00cc96",
           "#ab63fa",
           "#FFA15A",
           "#19d3f3",
           "#FF6692",
           "#B6E880",
           "#FF97FF",
           "#FECB52"
          ],
          "font": {
           "color": "#2a3f5f"
          },
          "geo": {
           "bgcolor": "white",
           "lakecolor": "white",
           "landcolor": "#E5ECF6",
           "showlakes": true,
           "showland": true,
           "subunitcolor": "white"
          },
          "hoverlabel": {
           "align": "left"
          },
          "hovermode": "closest",
          "mapbox": {
           "style": "light"
          },
          "paper_bgcolor": "white",
          "plot_bgcolor": "#E5ECF6",
          "polar": {
           "angularaxis": {
            "gridcolor": "white",
            "linecolor": "white",
            "ticks": ""
           },
           "bgcolor": "#E5ECF6",
           "radialaxis": {
            "gridcolor": "white",
            "linecolor": "white",
            "ticks": ""
           }
          },
          "scene": {
           "xaxis": {
            "backgroundcolor": "#E5ECF6",
            "gridcolor": "white",
            "gridwidth": 2,
            "linecolor": "white",
            "showbackground": true,
            "ticks": "",
            "zerolinecolor": "white"
           },
           "yaxis": {
            "backgroundcolor": "#E5ECF6",
            "gridcolor": "white",
            "gridwidth": 2,
            "linecolor": "white",
            "showbackground": true,
            "ticks": "",
            "zerolinecolor": "white"
           },
           "zaxis": {
            "backgroundcolor": "#E5ECF6",
            "gridcolor": "white",
            "gridwidth": 2,
            "linecolor": "white",
            "showbackground": true,
            "ticks": "",
            "zerolinecolor": "white"
           }
          },
          "shapedefaults": {
           "line": {
            "color": "#2a3f5f"
           }
          },
          "ternary": {
           "aaxis": {
            "gridcolor": "white",
            "linecolor": "white",
            "ticks": ""
           },
           "baxis": {
            "gridcolor": "white",
            "linecolor": "white",
            "ticks": ""
           },
           "bgcolor": "#E5ECF6",
           "caxis": {
            "gridcolor": "white",
            "linecolor": "white",
            "ticks": ""
           }
          },
          "title": {
           "x": 0.05
          },
          "xaxis": {
           "automargin": true,
           "gridcolor": "white",
           "linecolor": "white",
           "ticks": "",
           "title": {
            "standoff": 15
           },
           "zerolinecolor": "white",
           "zerolinewidth": 2
          },
          "yaxis": {
           "automargin": true,
           "gridcolor": "white",
           "linecolor": "white",
           "ticks": "",
           "title": {
            "standoff": 15
           },
           "zerolinecolor": "white",
           "zerolinewidth": 2
          }
         }
        },
        "title": {
         "text": "CL (high-low)/open >= 0.08 and open >= 20",
         "x": 0.5,
         "xanchor": "center",
         "y": 0.9,
         "yanchor": "top"
        },
        "xaxis": {
         "tickangle": 45,
         "ticktext": [
          20110222,
          20110505,
          20120629,
          20141128,
          20141217,
          20150130,
          20150204,
          20150827,
          20150831,
          20150901,
          20160122,
          20160126,
          20160209,
          20160216,
          20161130,
          20181224,
          20181226,
          20200108,
          20200306,
          20200309,
          20200309
         ],
         "tickvals": [
          0,
          12,
          24,
          36,
          48,
          60,
          72,
          84,
          96,
          108,
          120,
          132,
          144,
          156,
          168,
          180,
          192,
          204,
          216,
          228,
          240
         ],
         "type": "category"
        },
        "yaxis": {
         "title": {
          "text": "y main"
         }
        },
        "yaxis2": {
         "overlaying": "y",
         "side": "right",
         "title": {
          "text": "y alt"
         }
        }
       }
      },
      "text/html": [
       "<div>\n",
       "        \n",
       "        \n",
       "            <div id=\"4614640e-dfe3-4f35-9c31-a14c16b0c3c2\" class=\"plotly-graph-div\" style=\"height:525px; width:100%;\"></div>\n",
       "            <script type=\"text/javascript\">\n",
       "                require([\"plotly\"], function(Plotly) {\n",
       "                    window.PLOTLYENV=window.PLOTLYENV || {};\n",
       "                    \n",
       "                if (document.getElementById(\"4614640e-dfe3-4f35-9c31-a14c16b0c3c2\")) {\n",
       "                    Plotly.newPlot(\n",
       "                        '4614640e-dfe3-4f35-9c31-a14c16b0c3c2',\n",
       "                        [{\"name\": \"hilo_perc\", \"type\": \"bar\", \"x\": [0, 1, 2, 3, 4, 5, 6, 7, 8, 9, 10, 11, 12, 13, 14, 15, 16, 17, 18, 19, 20, 21, 22, 23, 24, 25, 26, 27, 28, 29, 30, 31, 32, 33, 34, 35, 36, 37, 38, 39, 40, 41, 42, 43, 44, 45, 46, 47, 48, 49, 50, 51, 52, 53, 54, 55, 56, 57, 58, 59, 60, 61, 62, 63, 64, 65, 66, 67, 68, 69, 70, 71, 72, 73, 74, 75, 76, 77, 78, 79, 80, 81, 82, 83, 84, 85, 86, 87, 88, 89, 90, 91, 92, 93, 94, 95, 96, 97, 98, 99, 100, 101, 102, 103, 104, 105, 106, 107, 108, 109, 110, 111, 112, 113, 114, 115, 116, 117, 118, 119, 120, 121, 122, 123, 124, 125, 126, 127, 128, 129, 130, 131, 132, 133, 134, 135, 136, 137, 138, 139, 140, 141, 142, 143, 144, 145, 146, 147, 148, 149, 150, 151, 152, 153, 154, 155, 156, 157, 158, 159, 160, 161, 162, 163, 164, 165, 166, 167, 168, 169, 170, 171, 172, 173, 174, 175, 176, 177, 178, 179, 180, 181, 182, 183, 184, 185, 186, 187, 188, 189, 190, 191, 192, 193, 194, 195, 196, 197, 198, 199, 200, 201, 202, 203, 204, 205, 206, 207, 208, 209, 210, 211, 212, 213, 214, 215, 216, 217, 218, 219, 220, 221, 222, 223, 224, 225, 226, 227, 228, 229, 230, 231, 232, 233, 234, 235, 236, 237, 238, 239, 240, 241, 242, 243], \"y\": [0.08168343611381586, 0.09673478454020436, 0.0953924519564714, 0.09759615384615385, 0.10231660231660232, 0.10135382363702891, 0.09252799706260327, 0.0847145488029466, 0.08453817110231145, 0.09747695745275115, 0.09387555120039197, 0.0949124726477024, 0.11519607843137254, 0.10035645736221552, 0.09552511415525114, 0.08235294117647059, 0.1, 0.09953513809133169, 0.09510374954495814, 0.08339367608013516, 0.08764698751363802, 0.08910162002945508, 0.08823529411764706, 0.0905055487053021, 0.0893422886833101, 0.08998215651287281, 0.08670957970465733, 0.08482646284926701, 0.08292017848289539, 0.08508782857854741, 0.09133169264424391, 0.0873972602739726, 0.08740254411161263, 0.08759721653704462, 0.08879837067209775, 0.10825309491059147, 0.1006168608636052, 0.09731359649122807, 0.0973839200109574, 0.10588558855885588, 0.10473575840768702, 0.08002980625931445, 0.08818181818181818, 0.08681866223765665, 0.08280828082808281, 0.08513838748495788, 0.08168360977349741, 0.08594594594594594, 0.08361683079677708, 0.08111888111888112, 0.08303824362606232, 0.08474274523767135, 0.08382590005373455, 0.08448873483535528, 0.09624925580472316, 0.1004419445560466, 0.09302325581395349, 0.0858576114219564, 0.10699588477366255, 0.10618746171125179, 0.08413764162819974, 0.08501937150236763, 0.0905220703562626, 0.08196721311475409, 0.08860480493718316, 0.0817398613154024, 0.08452611218568665, 0.0822461712989223, 0.0887001185302252, 0.09138381201044386, 0.08922005031933423, 0.0865858279651383, 0.08067821874417738, 0.09739058968563798, 0.09071189114573062, 0.08906339781651025, 0.08086303939962476, 0.09508460918614021, 0.09788626069451434, 0.08168421052631579, 0.09117383512544804, 0.08280109489051095, 0.09369070208728653, 0.10035934291581108, 0.09507722007722008, 0.09, 0.09736258318954893, 0.09199549041713641, 0.0860191637630662, 0.08365508365508366, 0.09653233364573571, 0.08911985846970367, 0.09360625574977001, 0.10757297407634211, 0.09194483310013991, 0.09803141777689402, 0.10871794871794872, 0.11642105263157895, 0.1247537754432042, 0.12153747047455443, 0.08746910058946568, 0.10389089450461292, 0.09424290220820189, 0.12733333333333333, 0.11852631578947369, 0.11398963730569948, 0.09168148587235724, 0.0916911045943304, 0.09691991786447639, 0.09508525576730191, 0.08618012422360248, 0.09812889812889813, 0.0821157758461254, 0.08849221420432966, 0.09465922678357912, 0.08043380027112516, 0.08436286621955524, 0.08395061728395062, 0.0845912845343207, 0.08456843940714909, 0.09120102761721259, 0.08842105263157894, 0.09450402144772117, 0.08781785925487877, 0.08280430582390284, 0.09000620732464308, 0.09547581903276131, 0.08524590163934426, 0.10600469641060047, 0.08761061946902655, 0.09418960244648318, 0.1001914486279515, 0.08374384236453201, 0.0828125, 0.088379705400982, 0.0840240068591026, 0.09028809028809029, 0.09568188878533707, 0.08542713567839195, 0.08304297328687572, 0.11260504201680673, 0.09319213313161875, 0.10101651842439645, 0.0951276102088167, 0.08055481461723127, 0.09082397003745318, 0.08097615085967831, 0.08378455400398974, 0.08672408672408673, 0.09926739926739926, 0.08127759023630225, 0.0920794850265883, 0.09972964854310604, 0.09968051118210862, 0.09688581314878893, 0.09731774415405778, 0.08150984682713348, 0.08192090395480225, 0.08234341252699784, 0.09137544084642514, 0.08437404812671337, 0.09471516815374056, 0.08647375504710633, 0.09836413851710218, 0.10344827586206896, 0.0898645876077144, 0.08931518151815182, 0.10103851146689745, 0.09341692789968652, 0.08033385498174231, 0.08137306150897369, 0.08509090909090909, 0.08521897810218979, 0.0823956442831216, 0.08430913348946135, 0.08054054054054054, 0.0854372484449323, 0.0835296249320529, 0.08536853685368537, 0.08019674935842601, 0.08300738809213386, 0.08395277656318322, 0.0957752709577527, 0.10360670801745922, 0.10056242969628797, 0.09092915471198411, 0.10448107731599722, 0.10455075845974329, 0.08500640751815464, 0.09381997313031795, 0.08003369839932603, 0.100975720444747, 0.09592641261498029, 0.09727112676056338, 0.09512140788594342, 0.0875997340425532, 0.09254498714652956, 0.1034373010821133, 0.09243287225386493, 0.10234711799457129, 0.08325090669304319, 0.09545307965172525, 0.1, 0.08016666666666666, 0.08759601242033012, 0.09702517162471395, 0.09022727272727273, 0.08331456879081288, 0.09811063054860004, 0.08818222823635544, 0.08009872111285618, 0.10494623655913979, 0.09133689839572193, 0.08221797323135756, 0.11337083513630462, 0.1, 0.08667805294619983, 0.08610400682011936, 0.11564330657409416, 0.11044003451251079, 0.2293885001521144, 0.0935077519379845, 0.22391238211134773, 0.09722222222222222, 0.2272302662307333, 0.1321353065539112, 0.20237561631555356, 0.20430871212121213, 0.12722513089005236, 0.11964238758874572, 0.17127371273712738, 0.11552631578947369, 0.17577197149643706, 0.08625, 0.2218384697130712, 0.18205128205128204, 0.1972464175330149, 0.1131111111111111, 0.19731258840169733, 0.10833737275811925, 0.19948717948717948, 0.15674551598648298, 0.19117981359399863, 0.23037455105182145], \"yaxis\": \"y\"}],\n",
       "                        {\"margin\": {\"b\": 100}, \"template\": {\"data\": {\"bar\": [{\"error_x\": {\"color\": \"#2a3f5f\"}, \"error_y\": {\"color\": \"#2a3f5f\"}, \"marker\": {\"line\": {\"color\": \"#E5ECF6\", \"width\": 0.5}}, \"type\": \"bar\"}], \"barpolar\": [{\"marker\": {\"line\": {\"color\": \"#E5ECF6\", \"width\": 0.5}}, \"type\": \"barpolar\"}], \"carpet\": [{\"aaxis\": {\"endlinecolor\": \"#2a3f5f\", \"gridcolor\": \"white\", \"linecolor\": \"white\", \"minorgridcolor\": \"white\", \"startlinecolor\": \"#2a3f5f\"}, \"baxis\": {\"endlinecolor\": \"#2a3f5f\", \"gridcolor\": \"white\", \"linecolor\": \"white\", \"minorgridcolor\": \"white\", \"startlinecolor\": \"#2a3f5f\"}, \"type\": \"carpet\"}], \"choropleth\": [{\"colorbar\": {\"outlinewidth\": 0, \"ticks\": \"\"}, \"type\": \"choropleth\"}], \"contour\": [{\"colorbar\": {\"outlinewidth\": 0, \"ticks\": \"\"}, \"colorscale\": [[0.0, \"#0d0887\"], [0.1111111111111111, \"#46039f\"], [0.2222222222222222, \"#7201a8\"], [0.3333333333333333, \"#9c179e\"], [0.4444444444444444, \"#bd3786\"], [0.5555555555555556, \"#d8576b\"], [0.6666666666666666, \"#ed7953\"], [0.7777777777777778, \"#fb9f3a\"], [0.8888888888888888, \"#fdca26\"], [1.0, \"#f0f921\"]], \"type\": \"contour\"}], \"contourcarpet\": [{\"colorbar\": {\"outlinewidth\": 0, \"ticks\": \"\"}, \"type\": \"contourcarpet\"}], \"heatmap\": [{\"colorbar\": {\"outlinewidth\": 0, \"ticks\": \"\"}, \"colorscale\": [[0.0, \"#0d0887\"], [0.1111111111111111, \"#46039f\"], [0.2222222222222222, \"#7201a8\"], [0.3333333333333333, \"#9c179e\"], [0.4444444444444444, \"#bd3786\"], [0.5555555555555556, \"#d8576b\"], [0.6666666666666666, \"#ed7953\"], [0.7777777777777778, \"#fb9f3a\"], [0.8888888888888888, \"#fdca26\"], [1.0, \"#f0f921\"]], \"type\": \"heatmap\"}], \"heatmapgl\": [{\"colorbar\": {\"outlinewidth\": 0, \"ticks\": \"\"}, \"colorscale\": [[0.0, \"#0d0887\"], [0.1111111111111111, \"#46039f\"], [0.2222222222222222, \"#7201a8\"], [0.3333333333333333, \"#9c179e\"], [0.4444444444444444, \"#bd3786\"], [0.5555555555555556, \"#d8576b\"], [0.6666666666666666, \"#ed7953\"], [0.7777777777777778, \"#fb9f3a\"], [0.8888888888888888, \"#fdca26\"], [1.0, \"#f0f921\"]], \"type\": \"heatmapgl\"}], \"histogram\": [{\"marker\": {\"colorbar\": {\"outlinewidth\": 0, \"ticks\": \"\"}}, \"type\": \"histogram\"}], \"histogram2d\": [{\"colorbar\": {\"outlinewidth\": 0, \"ticks\": \"\"}, \"colorscale\": [[0.0, \"#0d0887\"], [0.1111111111111111, \"#46039f\"], [0.2222222222222222, \"#7201a8\"], [0.3333333333333333, \"#9c179e\"], [0.4444444444444444, \"#bd3786\"], [0.5555555555555556, \"#d8576b\"], [0.6666666666666666, \"#ed7953\"], [0.7777777777777778, \"#fb9f3a\"], [0.8888888888888888, \"#fdca26\"], [1.0, \"#f0f921\"]], \"type\": \"histogram2d\"}], \"histogram2dcontour\": [{\"colorbar\": {\"outlinewidth\": 0, \"ticks\": \"\"}, \"colorscale\": [[0.0, \"#0d0887\"], [0.1111111111111111, \"#46039f\"], [0.2222222222222222, \"#7201a8\"], [0.3333333333333333, \"#9c179e\"], [0.4444444444444444, \"#bd3786\"], [0.5555555555555556, \"#d8576b\"], [0.6666666666666666, \"#ed7953\"], [0.7777777777777778, \"#fb9f3a\"], [0.8888888888888888, \"#fdca26\"], [1.0, \"#f0f921\"]], \"type\": \"histogram2dcontour\"}], \"mesh3d\": [{\"colorbar\": {\"outlinewidth\": 0, \"ticks\": \"\"}, \"type\": \"mesh3d\"}], \"parcoords\": [{\"line\": {\"colorbar\": {\"outlinewidth\": 0, \"ticks\": \"\"}}, \"type\": \"parcoords\"}], \"pie\": [{\"automargin\": true, \"type\": \"pie\"}], \"scatter\": [{\"marker\": {\"colorbar\": {\"outlinewidth\": 0, \"ticks\": \"\"}}, \"type\": \"scatter\"}], \"scatter3d\": [{\"line\": {\"colorbar\": {\"outlinewidth\": 0, \"ticks\": \"\"}}, \"marker\": {\"colorbar\": {\"outlinewidth\": 0, \"ticks\": \"\"}}, \"type\": \"scatter3d\"}], \"scattercarpet\": [{\"marker\": {\"colorbar\": {\"outlinewidth\": 0, \"ticks\": \"\"}}, \"type\": \"scattercarpet\"}], \"scattergeo\": [{\"marker\": {\"colorbar\": {\"outlinewidth\": 0, \"ticks\": \"\"}}, \"type\": \"scattergeo\"}], \"scattergl\": [{\"marker\": {\"colorbar\": {\"outlinewidth\": 0, \"ticks\": \"\"}}, \"type\": \"scattergl\"}], \"scattermapbox\": [{\"marker\": {\"colorbar\": {\"outlinewidth\": 0, \"ticks\": \"\"}}, \"type\": \"scattermapbox\"}], \"scatterpolar\": [{\"marker\": {\"colorbar\": {\"outlinewidth\": 0, \"ticks\": \"\"}}, \"type\": \"scatterpolar\"}], \"scatterpolargl\": [{\"marker\": {\"colorbar\": {\"outlinewidth\": 0, \"ticks\": \"\"}}, \"type\": \"scatterpolargl\"}], \"scatterternary\": [{\"marker\": {\"colorbar\": {\"outlinewidth\": 0, \"ticks\": \"\"}}, \"type\": \"scatterternary\"}], \"surface\": [{\"colorbar\": {\"outlinewidth\": 0, \"ticks\": \"\"}, \"colorscale\": [[0.0, \"#0d0887\"], [0.1111111111111111, \"#46039f\"], [0.2222222222222222, \"#7201a8\"], [0.3333333333333333, \"#9c179e\"], [0.4444444444444444, \"#bd3786\"], [0.5555555555555556, \"#d8576b\"], [0.6666666666666666, \"#ed7953\"], [0.7777777777777778, \"#fb9f3a\"], [0.8888888888888888, \"#fdca26\"], [1.0, \"#f0f921\"]], \"type\": \"surface\"}], \"table\": [{\"cells\": {\"fill\": {\"color\": \"#EBF0F8\"}, \"line\": {\"color\": \"white\"}}, \"header\": {\"fill\": {\"color\": \"#C8D4E3\"}, \"line\": {\"color\": \"white\"}}, \"type\": \"table\"}]}, \"layout\": {\"annotationdefaults\": {\"arrowcolor\": \"#2a3f5f\", \"arrowhead\": 0, \"arrowwidth\": 1}, \"coloraxis\": {\"colorbar\": {\"outlinewidth\": 0, \"ticks\": \"\"}}, \"colorscale\": {\"diverging\": [[0, \"#8e0152\"], [0.1, \"#c51b7d\"], [0.2, \"#de77ae\"], [0.3, \"#f1b6da\"], [0.4, \"#fde0ef\"], [0.5, \"#f7f7f7\"], [0.6, \"#e6f5d0\"], [0.7, \"#b8e186\"], [0.8, \"#7fbc41\"], [0.9, \"#4d9221\"], [1, \"#276419\"]], \"sequential\": [[0.0, \"#0d0887\"], [0.1111111111111111, \"#46039f\"], [0.2222222222222222, \"#7201a8\"], [0.3333333333333333, \"#9c179e\"], [0.4444444444444444, \"#bd3786\"], [0.5555555555555556, \"#d8576b\"], [0.6666666666666666, \"#ed7953\"], [0.7777777777777778, \"#fb9f3a\"], [0.8888888888888888, \"#fdca26\"], [1.0, \"#f0f921\"]], \"sequentialminus\": [[0.0, \"#0d0887\"], [0.1111111111111111, \"#46039f\"], [0.2222222222222222, \"#7201a8\"], [0.3333333333333333, \"#9c179e\"], [0.4444444444444444, \"#bd3786\"], [0.5555555555555556, \"#d8576b\"], [0.6666666666666666, \"#ed7953\"], [0.7777777777777778, \"#fb9f3a\"], [0.8888888888888888, \"#fdca26\"], [1.0, \"#f0f921\"]]}, \"colorway\": [\"#636efa\", \"#EF553B\", \"#00cc96\", \"#ab63fa\", \"#FFA15A\", \"#19d3f3\", \"#FF6692\", \"#B6E880\", \"#FF97FF\", \"#FECB52\"], \"font\": {\"color\": \"#2a3f5f\"}, \"geo\": {\"bgcolor\": \"white\", \"lakecolor\": \"white\", \"landcolor\": \"#E5ECF6\", \"showlakes\": true, \"showland\": true, \"subunitcolor\": \"white\"}, \"hoverlabel\": {\"align\": \"left\"}, \"hovermode\": \"closest\", \"mapbox\": {\"style\": \"light\"}, \"paper_bgcolor\": \"white\", \"plot_bgcolor\": \"#E5ECF6\", \"polar\": {\"angularaxis\": {\"gridcolor\": \"white\", \"linecolor\": \"white\", \"ticks\": \"\"}, \"bgcolor\": \"#E5ECF6\", \"radialaxis\": {\"gridcolor\": \"white\", \"linecolor\": \"white\", \"ticks\": \"\"}}, \"scene\": {\"xaxis\": {\"backgroundcolor\": \"#E5ECF6\", \"gridcolor\": \"white\", \"gridwidth\": 2, \"linecolor\": \"white\", \"showbackground\": true, \"ticks\": \"\", \"zerolinecolor\": \"white\"}, \"yaxis\": {\"backgroundcolor\": \"#E5ECF6\", \"gridcolor\": \"white\", \"gridwidth\": 2, \"linecolor\": \"white\", \"showbackground\": true, \"ticks\": \"\", \"zerolinecolor\": \"white\"}, \"zaxis\": {\"backgroundcolor\": \"#E5ECF6\", \"gridcolor\": \"white\", \"gridwidth\": 2, \"linecolor\": \"white\", \"showbackground\": true, \"ticks\": \"\", \"zerolinecolor\": \"white\"}}, \"shapedefaults\": {\"line\": {\"color\": \"#2a3f5f\"}}, \"ternary\": {\"aaxis\": {\"gridcolor\": \"white\", \"linecolor\": \"white\", \"ticks\": \"\"}, \"baxis\": {\"gridcolor\": \"white\", \"linecolor\": \"white\", \"ticks\": \"\"}, \"bgcolor\": \"#E5ECF6\", \"caxis\": {\"gridcolor\": \"white\", \"linecolor\": \"white\", \"ticks\": \"\"}}, \"title\": {\"x\": 0.05}, \"xaxis\": {\"automargin\": true, \"gridcolor\": \"white\", \"linecolor\": \"white\", \"ticks\": \"\", \"title\": {\"standoff\": 15}, \"zerolinecolor\": \"white\", \"zerolinewidth\": 2}, \"yaxis\": {\"automargin\": true, \"gridcolor\": \"white\", \"linecolor\": \"white\", \"ticks\": \"\", \"title\": {\"standoff\": 15}, \"zerolinecolor\": \"white\", \"zerolinewidth\": 2}}}, \"title\": {\"text\": \"CL (high-low)/open >= 0.08 and open >= 20\", \"x\": 0.5, \"xanchor\": \"center\", \"y\": 0.9, \"yanchor\": \"top\"}, \"xaxis\": {\"tickangle\": 45, \"ticktext\": [20110222, 20110505, 20120629, 20141128, 20141217, 20150130, 20150204, 20150827, 20150831, 20150901, 20160122, 20160126, 20160209, 20160216, 20161130, 20181224, 20181226, 20200108, 20200306, 20200309, 20200309], \"tickvals\": [0, 12, 24, 36, 48, 60, 72, 84, 96, 108, 120, 132, 144, 156, 168, 180, 192, 204, 216, 228, 240], \"type\": \"category\"}, \"yaxis\": {\"title\": {\"text\": \"y main\"}}, \"yaxis2\": {\"overlaying\": \"y\", \"side\": \"right\", \"title\": {\"text\": \"y alt\"}}},\n",
       "                        {\"responsive\": true}\n",
       "                    ).then(function(){\n",
       "                            \n",
       "var gd = document.getElementById('4614640e-dfe3-4f35-9c31-a14c16b0c3c2');\n",
       "var x = new MutationObserver(function (mutations, observer) {{\n",
       "        var display = window.getComputedStyle(gd).display;\n",
       "        if (!display || display === 'none') {{\n",
       "            console.log([gd, 'removed!']);\n",
       "            Plotly.purge(gd);\n",
       "            observer.disconnect();\n",
       "        }}\n",
       "}});\n",
       "\n",
       "// Listen for the removal of the full notebook cells\n",
       "var notebookContainer = gd.closest('#notebook-container');\n",
       "if (notebookContainer) {{\n",
       "    x.observe(notebookContainer, {childList: true});\n",
       "}}\n",
       "\n",
       "// Listen for the clearing of the current output cell\n",
       "var outputEl = gd.closest('.output');\n",
       "if (outputEl) {{\n",
       "    x.observe(outputEl, {childList: true});\n",
       "}}\n",
       "\n",
       "                        })\n",
       "                };\n",
       "                });\n",
       "            </script>\n",
       "        </div>"
      ]
     },
     "metadata": {},
     "output_type": "display_data"
    }
   ],
   "source": [
    "dfgbb = df_big_bars.sort_values('settle_date')\n",
    "dfgbb.index = list(range(len(dfgbb)))\n",
    "dfgbb['num'] = dfgbb.index\n",
    "iplot(plotly_plot(df_in=dfgbb[['num','hilo_perc']],\n",
    "                  x_column='num',bar_plot=True,\n",
    "                  plot_title=f'{commod} (high-low)/open >= {hilo} and open >= {minprice}',\n",
    "                  x_value_labels=dfgbb.settle_date.values))\n"
   ]
  },
  {
   "cell_type": "code",
   "execution_count": 10,
   "metadata": {},
   "outputs": [],
   "source": [
    " def get_large_perc_changes(commod,threshold_price,threshold_perc):\n",
    "    sql_large_perc_changes = f\"\"\"\n",
    "    with \n",
    "    f1 as (\n",
    "        select symbol,\n",
    "    --    substring(symbol,1,2) commod,\n",
    "        concat(substring(symbol,1,2),\n",
    "        substring(symbol,4,2),\n",
    "        substring(symbol,3,1)) sym,\n",
    "        settle_date,open,high,low,close,\n",
    "        (close-open)/open open_close_perc\n",
    "        from {futtab} \n",
    "        where symbol like '{commod}%%' and open_interest>0 and volume>0 and open > {threshold_price}\n",
    "        and (close-open)/open <= {threshold_perc}\n",
    "    ),\n",
    "    f2 as (\n",
    "        select  settle_date,min(sym) sym\n",
    "        from f1\n",
    "        group by settle_date\n",
    "    )\n",
    "    select f1.sym,f1.settle_date,open,high,low,close,f1.open_close_perc\n",
    "    from f1\n",
    "    join f2 on f1.sym = f2.sym and f1.settle_date = f2.settle_date\n",
    "    order by f1.settle_date \n",
    "    \"\"\"\n",
    "    df_large_perc_changes = pga.get_sql(sql_large_perc_changes)\n",
    "    return df_large_perc_changes\n"
   ]
  },
  {
   "cell_type": "code",
   "execution_count": 11,
   "metadata": {},
   "outputs": [
    {
     "data": {
      "text/html": [
       "<div>\n",
       "<style scoped>\n",
       "    .dataframe tbody tr th:only-of-type {\n",
       "        vertical-align: middle;\n",
       "    }\n",
       "\n",
       "    .dataframe tbody tr th {\n",
       "        vertical-align: top;\n",
       "    }\n",
       "\n",
       "    .dataframe thead th {\n",
       "        text-align: right;\n",
       "    }\n",
       "</style>\n",
       "<table border=\"1\" class=\"dataframe\">\n",
       "  <thead>\n",
       "    <tr style=\"text-align: right;\">\n",
       "      <th></th>\n",
       "      <th>sym</th>\n",
       "      <th>settle_date</th>\n",
       "      <th>open</th>\n",
       "      <th>high</th>\n",
       "      <th>low</th>\n",
       "      <th>close</th>\n",
       "      <th>open_close_perc</th>\n",
       "    </tr>\n",
       "  </thead>\n",
       "  <tbody>\n",
       "    <tr>\n",
       "      <th>0</th>\n",
       "      <td>CL11M</td>\n",
       "      <td>20110505</td>\n",
       "      <td>108.78</td>\n",
       "      <td>109.38</td>\n",
       "      <td>98.25</td>\n",
       "      <td>99.80</td>\n",
       "      <td>-0.082552</td>\n",
       "    </tr>\n",
       "    <tr>\n",
       "      <th>1</th>\n",
       "      <td>CL15F</td>\n",
       "      <td>20141128</td>\n",
       "      <td>72.70</td>\n",
       "      <td>73.56</td>\n",
       "      <td>65.69</td>\n",
       "      <td>66.15</td>\n",
       "      <td>-0.090096</td>\n",
       "    </tr>\n",
       "    <tr>\n",
       "      <th>2</th>\n",
       "      <td>CL16H</td>\n",
       "      <td>20160209</td>\n",
       "      <td>30.17</td>\n",
       "      <td>30.61</td>\n",
       "      <td>27.74</td>\n",
       "      <td>27.94</td>\n",
       "      <td>-0.073914</td>\n",
       "    </tr>\n",
       "    <tr>\n",
       "      <th>3</th>\n",
       "      <td>CL19F</td>\n",
       "      <td>20181123</td>\n",
       "      <td>54.66</td>\n",
       "      <td>54.82</td>\n",
       "      <td>50.15</td>\n",
       "      <td>50.42</td>\n",
       "      <td>-0.077570</td>\n",
       "    </tr>\n",
       "    <tr>\n",
       "      <th>4</th>\n",
       "      <td>CL19N</td>\n",
       "      <td>20181224</td>\n",
       "      <td>47.72</td>\n",
       "      <td>47.72</td>\n",
       "      <td>44.20</td>\n",
       "      <td>44.27</td>\n",
       "      <td>-0.072297</td>\n",
       "    </tr>\n",
       "    <tr>\n",
       "      <th>5</th>\n",
       "      <td>CL20J</td>\n",
       "      <td>20200306</td>\n",
       "      <td>46.09</td>\n",
       "      <td>46.38</td>\n",
       "      <td>41.05</td>\n",
       "      <td>41.28</td>\n",
       "      <td>-0.104361</td>\n",
       "    </tr>\n",
       "    <tr>\n",
       "      <th>6</th>\n",
       "      <td>CL20M</td>\n",
       "      <td>20200309</td>\n",
       "      <td>35.59</td>\n",
       "      <td>35.59</td>\n",
       "      <td>28.57</td>\n",
       "      <td>31.94</td>\n",
       "      <td>-0.102557</td>\n",
       "    </tr>\n",
       "  </tbody>\n",
       "</table>\n",
       "</div>"
      ],
      "text/plain": [
       "     sym  settle_date    open    high    low  close  open_close_perc\n",
       "0  CL11M     20110505  108.78  109.38  98.25  99.80        -0.082552\n",
       "1  CL15F     20141128   72.70   73.56  65.69  66.15        -0.090096\n",
       "2  CL16H     20160209   30.17   30.61  27.74  27.94        -0.073914\n",
       "3  CL19F     20181123   54.66   54.82  50.15  50.42        -0.077570\n",
       "4  CL19N     20181224   47.72   47.72  44.20  44.27        -0.072297\n",
       "5  CL20J     20200306   46.09   46.38  41.05  41.28        -0.104361\n",
       "6  CL20M     20200309   35.59   35.59  28.57  31.94        -0.102557"
      ]
     },
     "metadata": {},
     "output_type": "display_data"
    },
    {
     "data": {
      "text/html": [
       "<div>\n",
       "<style scoped>\n",
       "    .dataframe tbody tr th:only-of-type {\n",
       "        vertical-align: middle;\n",
       "    }\n",
       "\n",
       "    .dataframe tbody tr th {\n",
       "        vertical-align: top;\n",
       "    }\n",
       "\n",
       "    .dataframe thead th {\n",
       "        text-align: right;\n",
       "    }\n",
       "</style>\n",
       "<table border=\"1\" class=\"dataframe\">\n",
       "  <thead>\n",
       "    <tr style=\"text-align: right;\">\n",
       "      <th></th>\n",
       "      <th>sym</th>\n",
       "      <th>settle_date</th>\n",
       "      <th>open</th>\n",
       "      <th>high</th>\n",
       "      <th>low</th>\n",
       "      <th>close</th>\n",
       "      <th>open_close_perc</th>\n",
       "    </tr>\n",
       "  </thead>\n",
       "  <tbody>\n",
       "    <tr>\n",
       "      <th>0</th>\n",
       "      <td>SI11K</td>\n",
       "      <td>20110505</td>\n",
       "      <td>39.215</td>\n",
       "      <td>39.520</td>\n",
       "      <td>34.440</td>\n",
       "      <td>36.231</td>\n",
       "      <td>-0.076093</td>\n",
       "    </tr>\n",
       "    <tr>\n",
       "      <th>1</th>\n",
       "      <td>SI11K</td>\n",
       "      <td>20110511</td>\n",
       "      <td>38.830</td>\n",
       "      <td>39.380</td>\n",
       "      <td>35.025</td>\n",
       "      <td>35.509</td>\n",
       "      <td>-0.085527</td>\n",
       "    </tr>\n",
       "    <tr>\n",
       "      <th>2</th>\n",
       "      <td>SI11V</td>\n",
       "      <td>20110824</td>\n",
       "      <td>42.140</td>\n",
       "      <td>42.290</td>\n",
       "      <td>39.178</td>\n",
       "      <td>39.178</td>\n",
       "      <td>-0.070290</td>\n",
       "    </tr>\n",
       "    <tr>\n",
       "      <th>3</th>\n",
       "      <td>SI11U</td>\n",
       "      <td>20110922</td>\n",
       "      <td>39.620</td>\n",
       "      <td>39.620</td>\n",
       "      <td>35.550</td>\n",
       "      <td>36.538</td>\n",
       "      <td>-0.077789</td>\n",
       "    </tr>\n",
       "    <tr>\n",
       "      <th>4</th>\n",
       "      <td>SI11U</td>\n",
       "      <td>20110923</td>\n",
       "      <td>36.470</td>\n",
       "      <td>36.530</td>\n",
       "      <td>30.051</td>\n",
       "      <td>30.051</td>\n",
       "      <td>-0.176008</td>\n",
       "    </tr>\n",
       "    <tr>\n",
       "      <th>5</th>\n",
       "      <td>SI12K</td>\n",
       "      <td>20110928</td>\n",
       "      <td>32.900</td>\n",
       "      <td>32.900</td>\n",
       "      <td>30.010</td>\n",
       "      <td>30.188</td>\n",
       "      <td>-0.082432</td>\n",
       "    </tr>\n",
       "    <tr>\n",
       "      <th>6</th>\n",
       "      <td>SI12F</td>\n",
       "      <td>20111117</td>\n",
       "      <td>33.965</td>\n",
       "      <td>33.965</td>\n",
       "      <td>31.325</td>\n",
       "      <td>31.521</td>\n",
       "      <td>-0.071956</td>\n",
       "    </tr>\n",
       "    <tr>\n",
       "      <th>7</th>\n",
       "      <td>SI13K</td>\n",
       "      <td>20130415</td>\n",
       "      <td>25.940</td>\n",
       "      <td>26.045</td>\n",
       "      <td>22.515</td>\n",
       "      <td>23.361</td>\n",
       "      <td>-0.099422</td>\n",
       "    </tr>\n",
       "    <tr>\n",
       "      <th>8</th>\n",
       "      <td>SI16X</td>\n",
       "      <td>20161111</td>\n",
       "      <td>18.705</td>\n",
       "      <td>18.800</td>\n",
       "      <td>17.335</td>\n",
       "      <td>17.364</td>\n",
       "      <td>-0.071692</td>\n",
       "    </tr>\n",
       "    <tr>\n",
       "      <th>9</th>\n",
       "      <td>SI20H</td>\n",
       "      <td>20200228</td>\n",
       "      <td>17.690</td>\n",
       "      <td>17.805</td>\n",
       "      <td>16.340</td>\n",
       "      <td>16.387</td>\n",
       "      <td>-0.073657</td>\n",
       "    </tr>\n",
       "  </tbody>\n",
       "</table>\n",
       "</div>"
      ],
      "text/plain": [
       "     sym  settle_date    open    high     low   close  open_close_perc\n",
       "0  SI11K     20110505  39.215  39.520  34.440  36.231        -0.076093\n",
       "1  SI11K     20110511  38.830  39.380  35.025  35.509        -0.085527\n",
       "2  SI11V     20110824  42.140  42.290  39.178  39.178        -0.070290\n",
       "3  SI11U     20110922  39.620  39.620  35.550  36.538        -0.077789\n",
       "4  SI11U     20110923  36.470  36.530  30.051  30.051        -0.176008\n",
       "5  SI12K     20110928  32.900  32.900  30.010  30.188        -0.082432\n",
       "6  SI12F     20111117  33.965  33.965  31.325  31.521        -0.071956\n",
       "7  SI13K     20130415  25.940  26.045  22.515  23.361        -0.099422\n",
       "8  SI16X     20161111  18.705  18.800  17.335  17.364        -0.071692\n",
       "9  SI20H     20200228  17.690  17.805  16.340  16.387        -0.073657"
      ]
     },
     "metadata": {},
     "output_type": "display_data"
    }
   ],
   "source": [
    "df_large_pct_chgs = get_large_perc_changes('CL',20,-.07)\n",
    "display.display(df_large_pct_chgs)\n",
    "df_large_pct_chgs = get_large_perc_changes('SI',10,-.07)\n",
    "display.display(df_large_pct_chgs)"
   ]
  },
  {
   "cell_type": "code",
   "execution_count": 12,
   "metadata": {},
   "outputs": [
    {
     "data": {
      "text/plain": [
       "10"
      ]
     },
     "execution_count": 12,
     "metadata": {},
     "output_type": "execute_result"
    }
   ],
   "source": [
    "len(df_large_pct_chgs)"
   ]
  },
  {
   "cell_type": "markdown",
   "metadata": {},
   "source": [
    "## END"
   ]
  }
 ],
 "metadata": {
  "kernelspec": {
   "display_name": "Python 3",
   "language": "python",
   "name": "python3"
  },
  "language_info": {
   "codemirror_mode": {
    "name": "ipython",
    "version": 3
   },
   "file_extension": ".py",
   "mimetype": "text/x-python",
   "name": "python",
   "nbconvert_exporter": "python",
   "pygments_lexer": "ipython3",
   "version": "3.6.5"
  }
 },
 "nbformat": 4,
 "nbformat_minor": 2
}
