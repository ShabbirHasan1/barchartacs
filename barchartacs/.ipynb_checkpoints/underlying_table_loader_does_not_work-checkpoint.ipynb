{
 "cells": [
  {
   "cell_type": "code",
   "execution_count": 1,
   "metadata": {},
   "outputs": [],
   "source": [
    "import zipfile\n",
    "import glob\n",
    "import pandas as pd\n",
    "import numpy as np\n",
    "\n",
    "from argparse import ArgumentParser\n",
    "from argparse import RawDescriptionHelpFormatter\n",
    "import sys\n",
    "import os\n",
    "if  not './' in sys.path:\n",
    "    sys.path.append('./')\n",
    "if  not '../' in sys.path:\n",
    "    sys.path.append('../')\n",
    "\n",
    "from barchartacs import build_db\n",
    "from barchartacs import db_info\n",
    "import datetime\n",
    "import io\n",
    "from tqdm import tqdm,tqdm_notebook\n",
    "from barchartacs import pg_pandas as pg\n",
    "import importlib\n",
    "# importlib.reload(db_info)"
   ]
  },
  {
   "cell_type": "code",
   "execution_count": 2,
   "metadata": {},
   "outputs": [],
   "source": [
    "d1 = {\n",
    "    1:'jan',\n",
    "    2:'feb',\n",
    "    3:'mar',\n",
    "    4:'apr',\n",
    "    5:'may',\n",
    "    6:'jun',\n",
    "    7:'jul',\n",
    "    8:'aug',\n",
    "    9:'sep',\n",
    "    10:'oct',\n",
    "    11:'nov',\n",
    "    12:'dec'\n",
    "}\n",
    "# d2 = {d1[k]:k for k in d1.keys()}"
   ]
  },
  {
   "cell_type": "code",
   "execution_count": 3,
   "metadata": {},
   "outputs": [
    {
     "data": {
      "application/vnd.jupyter.widget-view+json": {
       "model_id": "7a0e6f312e5f4efbb6e02b2d82439a28",
       "version_major": 2,
       "version_minor": 0
      },
      "text/plain": [
       "HBox(children=(IntProgress(value=0), HTML(value='')))"
      ]
     },
     "metadata": {},
     "output_type": "display_data"
    },
    {
     "name": "stdout",
     "output_type": "stream",
     "text": [
      "\n"
     ]
    }
   ],
   "source": [
    "zip_folder_parent = open('./temp_folder/zip_folder_parent.txt','r').read()\n",
    "futures_parent = f'{zip_folder_parent}/futures'\n",
    "\n",
    "all_names_ordered = []\n",
    "for yy in np.arange(10,19):\n",
    "    fnames = glob.glob(f'{futures_parent}/*{yy}.txt')\n",
    "    d = {}\n",
    "    for fname in fnames:\n",
    "        mmm = fname.split('/')[-1].split('.txt')[0][0:-2][-3:]\n",
    "        d[mmm] = fname\n",
    "    fnames_ordered = [d[d1[m]] for m in d1.keys() if d1[m] in d]\n",
    "    all_names_ordered += fnames_ordered\n",
    "all_names_ordered\n",
    "\n",
    "df_all = None\n",
    "header = ['contract','month_year','yymmdd','open','high','low','close','volume','open_interest']\n",
    "\n",
    "for fname in tqdm_notebook(all_names_ordered):\n",
    "    df_temp = pd.read_csv(fname,header=None)\n",
    "    df_temp.columns = header\n",
    "    if df_all is None:\n",
    "        df_all = df_temp.copy()\n",
    "    else:\n",
    "        df_all = df_all.append(df_temp,ignore_index=True)\n",
    "        df_all.index = list(range(len(df_all)))\n",
    "    "
   ]
  },
  {
   "cell_type": "code",
   "execution_count": 4,
   "metadata": {},
   "outputs": [
    {
     "data": {
      "text/plain": [
       "4708755"
      ]
     },
     "execution_count": 4,
     "metadata": {},
     "output_type": "execute_result"
    }
   ],
   "source": [
    "len(df_all)"
   ]
  },
  {
   "cell_type": "code",
   "execution_count": 5,
   "metadata": {},
   "outputs": [
    {
     "data": {
      "text/html": [
       "<div>\n",
       "<style scoped>\n",
       "    .dataframe tbody tr th:only-of-type {\n",
       "        vertical-align: middle;\n",
       "    }\n",
       "\n",
       "    .dataframe tbody tr th {\n",
       "        vertical-align: top;\n",
       "    }\n",
       "\n",
       "    .dataframe thead th {\n",
       "        text-align: right;\n",
       "    }\n",
       "</style>\n",
       "<table border=\"1\" class=\"dataframe\">\n",
       "  <thead>\n",
       "    <tr style=\"text-align: right;\">\n",
       "      <th></th>\n",
       "      <th>contract</th>\n",
       "      <th>month_year</th>\n",
       "      <th>yymmdd</th>\n",
       "      <th>open</th>\n",
       "      <th>high</th>\n",
       "      <th>low</th>\n",
       "      <th>close</th>\n",
       "      <th>volume</th>\n",
       "      <th>open_interest</th>\n",
       "    </tr>\n",
       "  </thead>\n",
       "  <tbody>\n",
       "    <tr>\n",
       "      <th>0</th>\n",
       "      <td>A6</td>\n",
       "      <td>Y</td>\n",
       "      <td>100901.0</td>\n",
       "      <td>0.8908</td>\n",
       "      <td>0.9115</td>\n",
       "      <td>0.8902</td>\n",
       "      <td>0.9115</td>\n",
       "      <td>0.0</td>\n",
       "      <td>0.0</td>\n",
       "    </tr>\n",
       "    <tr>\n",
       "      <th>1</th>\n",
       "      <td>A6</td>\n",
       "      <td>2010U</td>\n",
       "      <td>100901.0</td>\n",
       "      <td>0.8910</td>\n",
       "      <td>0.9104</td>\n",
       "      <td>0.8900</td>\n",
       "      <td>0.9072</td>\n",
       "      <td>105813.0</td>\n",
       "      <td>98993.0</td>\n",
       "    </tr>\n",
       "    <tr>\n",
       "      <th>2</th>\n",
       "      <td>A6</td>\n",
       "      <td>2010Z</td>\n",
       "      <td>100901.0</td>\n",
       "      <td>0.8820</td>\n",
       "      <td>0.9001</td>\n",
       "      <td>0.8808</td>\n",
       "      <td>0.8974</td>\n",
       "      <td>451.0</td>\n",
       "      <td>3282.0</td>\n",
       "    </tr>\n",
       "    <tr>\n",
       "      <th>3</th>\n",
       "      <td>A6</td>\n",
       "      <td>2011H</td>\n",
       "      <td>100901.0</td>\n",
       "      <td>0.0000</td>\n",
       "      <td>0.8878</td>\n",
       "      <td>0.8681</td>\n",
       "      <td>0.8878</td>\n",
       "      <td>0.0</td>\n",
       "      <td>8.0</td>\n",
       "    </tr>\n",
       "    <tr>\n",
       "      <th>4</th>\n",
       "      <td>A6</td>\n",
       "      <td>2011M</td>\n",
       "      <td>100901.0</td>\n",
       "      <td>0.0000</td>\n",
       "      <td>0.8782</td>\n",
       "      <td>0.8589</td>\n",
       "      <td>0.8782</td>\n",
       "      <td>0.0</td>\n",
       "      <td>152.0</td>\n",
       "    </tr>\n",
       "  </tbody>\n",
       "</table>\n",
       "</div>"
      ],
      "text/plain": [
       "  contract month_year    yymmdd    open    high     low   close    volume  \\\n",
       "0       A6          Y  100901.0  0.8908  0.9115  0.8902  0.9115       0.0   \n",
       "1       A6      2010U  100901.0  0.8910  0.9104  0.8900  0.9072  105813.0   \n",
       "2       A6      2010Z  100901.0  0.8820  0.9001  0.8808  0.8974     451.0   \n",
       "3       A6      2011H  100901.0  0.0000  0.8878  0.8681  0.8878       0.0   \n",
       "4       A6      2011M  100901.0  0.0000  0.8782  0.8589  0.8782       0.0   \n",
       "\n",
       "   open_interest  \n",
       "0            0.0  \n",
       "1        98993.0  \n",
       "2         3282.0  \n",
       "3            8.0  \n",
       "4          152.0  "
      ]
     },
     "execution_count": 5,
     "metadata": {},
     "output_type": "execute_result"
    }
   ],
   "source": [
    "df_all.head()"
   ]
  },
  {
   "cell_type": "code",
   "execution_count": 6,
   "metadata": {},
   "outputs": [
    {
     "data": {
      "text/html": [
       "<div>\n",
       "<style scoped>\n",
       "    .dataframe tbody tr th:only-of-type {\n",
       "        vertical-align: middle;\n",
       "    }\n",
       "\n",
       "    .dataframe tbody tr th {\n",
       "        vertical-align: top;\n",
       "    }\n",
       "\n",
       "    .dataframe thead th {\n",
       "        text-align: right;\n",
       "    }\n",
       "</style>\n",
       "<table border=\"1\" class=\"dataframe\">\n",
       "  <thead>\n",
       "    <tr style=\"text-align: right;\">\n",
       "      <th></th>\n",
       "      <th>symbol</th>\n",
       "      <th>settle_date</th>\n",
       "      <th>open</th>\n",
       "      <th>high</th>\n",
       "      <th>low</th>\n",
       "      <th>close</th>\n",
       "      <th>adj_close</th>\n",
       "      <th>volume</th>\n",
       "      <th>open_interest</th>\n",
       "    </tr>\n",
       "  </thead>\n",
       "  <tbody>\n",
       "    <tr>\n",
       "      <th>0</th>\n",
       "      <td>A6Z99</td>\n",
       "      <td>20100901</td>\n",
       "      <td>0.8908</td>\n",
       "      <td>0.9115</td>\n",
       "      <td>0.8902</td>\n",
       "      <td>0.9115</td>\n",
       "      <td>0.9115</td>\n",
       "      <td>0</td>\n",
       "      <td>0</td>\n",
       "    </tr>\n",
       "    <tr>\n",
       "      <th>1</th>\n",
       "      <td>A6U10</td>\n",
       "      <td>20100901</td>\n",
       "      <td>0.8910</td>\n",
       "      <td>0.9104</td>\n",
       "      <td>0.8900</td>\n",
       "      <td>0.9072</td>\n",
       "      <td>0.9072</td>\n",
       "      <td>105813</td>\n",
       "      <td>98993</td>\n",
       "    </tr>\n",
       "    <tr>\n",
       "      <th>2</th>\n",
       "      <td>A6Z10</td>\n",
       "      <td>20100901</td>\n",
       "      <td>0.8820</td>\n",
       "      <td>0.9001</td>\n",
       "      <td>0.8808</td>\n",
       "      <td>0.8974</td>\n",
       "      <td>0.8974</td>\n",
       "      <td>451</td>\n",
       "      <td>3282</td>\n",
       "    </tr>\n",
       "    <tr>\n",
       "      <th>3</th>\n",
       "      <td>A6H11</td>\n",
       "      <td>20100901</td>\n",
       "      <td>0.0000</td>\n",
       "      <td>0.8878</td>\n",
       "      <td>0.8681</td>\n",
       "      <td>0.8878</td>\n",
       "      <td>0.8878</td>\n",
       "      <td>0</td>\n",
       "      <td>8</td>\n",
       "    </tr>\n",
       "    <tr>\n",
       "      <th>4</th>\n",
       "      <td>A6M11</td>\n",
       "      <td>20100901</td>\n",
       "      <td>0.0000</td>\n",
       "      <td>0.8782</td>\n",
       "      <td>0.8589</td>\n",
       "      <td>0.8782</td>\n",
       "      <td>0.8782</td>\n",
       "      <td>0</td>\n",
       "      <td>152</td>\n",
       "    </tr>\n",
       "  </tbody>\n",
       "</table>\n",
       "</div>"
      ],
      "text/plain": [
       "  symbol  settle_date    open    high     low   close  adj_close  volume  \\\n",
       "0  A6Z99     20100901  0.8908  0.9115  0.8902  0.9115     0.9115       0   \n",
       "1  A6U10     20100901  0.8910  0.9104  0.8900  0.9072     0.9072  105813   \n",
       "2  A6Z10     20100901  0.8820  0.9001  0.8808  0.8974     0.8974     451   \n",
       "3  A6H11     20100901  0.0000  0.8878  0.8681  0.8878     0.8878       0   \n",
       "4  A6M11     20100901  0.0000  0.8782  0.8589  0.8782     0.8782       0   \n",
       "\n",
       "   open_interest  \n",
       "0              0  \n",
       "1          98993  \n",
       "2           3282  \n",
       "3              8  \n",
       "4            152  "
      ]
     },
     "execution_count": 6,
     "metadata": {},
     "output_type": "execute_result"
    }
   ],
   "source": [
    "df_temp = df_all.copy()#.iloc[:1000]\n",
    "isnas = df_temp.yymmdd.isna()\n",
    "df_temp = df_temp[~isnas]\n",
    "df_temp.index = list(range(len(df_temp)))\n",
    "df_temp.loc[df_temp.month_year=='Y','month_year'] = '2099Z'\n",
    "symbols = df_temp.contract + df_temp.month_year.str.slice(-1,)  + df_temp.month_year.str.slice(2,4)\n",
    "settle_dates = ('20' + df_temp.yymmdd.astype(str)).astype(float).astype(int)\n",
    "opens = df_temp.open.astype(float)\n",
    "highs = df_temp.high.astype(float)\n",
    "lows = df_temp.low.astype(float)\n",
    "closes = df_temp.close.astype(float)\n",
    "volumes = df_temp.volume.astype(int)\n",
    "open_interests = df_temp.open_interest.astype(int)\n",
    "df_final = pd.DataFrame({'symbol':symbols,\n",
    "    'settle_date':settle_dates,\n",
    "    'open':opens,\n",
    "    'high':highs,\n",
    "    'low':lows,\n",
    "    'close':closes,\n",
    "    'adj_close':closes,\n",
    "    'volume':volumes,\n",
    "    'open_interest':open_interests})\n",
    "df_final.head()"
   ]
  },
  {
   "cell_type": "code",
   "execution_count": 7,
   "metadata": {},
   "outputs": [
    {
     "data": {
      "text/plain": [
       "(4708755, 4708655)"
      ]
     },
     "execution_count": 7,
     "metadata": {},
     "output_type": "execute_result"
    }
   ],
   "source": [
    "len(df_all),len(df_final)"
   ]
  },
  {
   "cell_type": "markdown",
   "metadata": {},
   "source": [
    "#### Are there dupes??"
   ]
  },
  {
   "cell_type": "code",
   "execution_count": 8,
   "metadata": {},
   "outputs": [
    {
     "data": {
      "text/plain": [
       "True"
      ]
     },
     "execution_count": 8,
     "metadata": {},
     "output_type": "execute_result"
    }
   ],
   "source": [
    "ag = ['symbol','settle_date']\n",
    "df_counts = df_final[ag+['close']].groupby(ag,as_index=False).count()\n",
    "dupes_exist  = len(df_counts[df_counts.close>1])>0\n",
    "dupes_exist"
   ]
  },
  {
   "cell_type": "markdown",
   "metadata": {},
   "source": [
    "#### if there are dupes, get rid of them"
   ]
  },
  {
   "cell_type": "code",
   "execution_count": 9,
   "metadata": {},
   "outputs": [],
   "source": [
    "if dupes_exist > 0:\n",
    "    df_final = df_final.drop_duplicates()\n",
    "    df_final.index = list(range(len(df_final)))\n",
    "    "
   ]
  },
  {
   "cell_type": "markdown",
   "metadata": {},
   "source": [
    "### NOW WRITE THE DATA FOR ALL YEARs\n"
   ]
  },
  {
   "cell_type": "markdown",
   "metadata": {},
   "source": [
    "#### First create an instance of PgPandas"
   ]
  },
  {
   "cell_type": "code",
   "execution_count": 10,
   "metadata": {},
   "outputs": [
    {
     "name": "stdout",
     "output_type": "stream",
     "text": [
      "  sec_db\n"
     ]
    },
    {
     "name": "stderr",
     "output_type": "stream",
     "text": [
      "/Users/bperlman1/Virtualenvs3/pyliverisk/lib/python3.6/site-packages/psycopg2/__init__.py:144: UserWarning: The psycopg2 wheel package will be renamed from release 2.8; in order to keep installing from binary please use \"pip install psycopg2-binary\" instead. For details see: <http://initd.org/psycopg/docs/install.html#binary-install-from-pypi>.\n",
      "  \"\"\")\n"
     ]
    }
   ],
   "source": [
    "csv_temp_path = './temp_folder/df_all_temp.csv'\n",
    "pga = db_info.get_db_info()\n",
    "tbname = 'sec_schema.underlying_table'"
   ]
  },
  {
   "cell_type": "code",
   "execution_count": 11,
   "metadata": {},
   "outputs": [
    {
     "data": {
      "text/plain": [
       "'sec_schema.underlying_table'"
      ]
     },
     "execution_count": 11,
     "metadata": {},
     "output_type": "execute_result"
    }
   ],
   "source": [
    "tbname"
   ]
  },
  {
   "cell_type": "markdown",
   "metadata": {},
   "source": [
    "#### Delete all rows if necessary"
   ]
  },
  {
   "cell_type": "code",
   "execution_count": 12,
   "metadata": {},
   "outputs": [
    {
     "data": {
      "text/html": [
       "<div>\n",
       "<style scoped>\n",
       "    .dataframe tbody tr th:only-of-type {\n",
       "        vertical-align: middle;\n",
       "    }\n",
       "\n",
       "    .dataframe tbody tr th {\n",
       "        vertical-align: top;\n",
       "    }\n",
       "\n",
       "    .dataframe thead th {\n",
       "        text-align: right;\n",
       "    }\n",
       "</style>\n",
       "<table border=\"1\" class=\"dataframe\">\n",
       "  <thead>\n",
       "    <tr style=\"text-align: right;\">\n",
       "      <th></th>\n",
       "      <th>count</th>\n",
       "    </tr>\n",
       "  </thead>\n",
       "  <tbody>\n",
       "    <tr>\n",
       "      <th>0</th>\n",
       "      <td>0</td>\n",
       "    </tr>\n",
       "  </tbody>\n",
       "</table>\n",
       "</div>"
      ],
      "text/plain": [
       "   count\n",
       "0      0"
      ]
     },
     "execution_count": 12,
     "metadata": {},
     "output_type": "execute_result"
    }
   ],
   "source": [
    "DELETE_ALL = True\n",
    "if DELETE_ALL:\n",
    "    sql = f\"drop table IF EXISTS {tbname}\"\n",
    "    pga.exec_sql_raw(sql) \n",
    "    \n",
    "    sql = f\"\"\"\n",
    "    create table {tbname}(\n",
    "        symbol text not null,\n",
    "        settle_date integer not null,\n",
    "        open numeric not null,\n",
    "        high numeric not null,\n",
    "        low numeric not null,\n",
    "        close numeric not null,\n",
    "        adj_close numeric not null,\n",
    "        volume integer not null,\n",
    "        open_interest integer not null,\n",
    "        primary key(symbol,settle_date));\n",
    "    \"\"\"            \n",
    "    pga.exec_sql_raw(sql) \n",
    "    \n",
    "#     sql = f'delete from {tbname}'\n",
    "#     pga.exec_sql_raw(sql)\n",
    "pga.get_sql(f\"select count(*) from {tbname}\")"
   ]
  },
  {
   "cell_type": "code",
   "execution_count": 25,
   "metadata": {},
   "outputs": [],
   "source": [
    "sql = \"\"\"\n",
    "with f0 as (\n",
    "    select nspname from pg_namespace N\n",
    "    WHERE\n",
    "        nspname NOT IN (\n",
    "            'pg_catalog',\n",
    "            'information_schema'\n",
    "        )\n",
    "),\n",
    "f1 as (\n",
    "    SELECT\n",
    "        relname,\n",
    "        pg_size_pretty (\n",
    "            pg_total_relation_size (c.oid)\n",
    "        ) AS \"total_size\"\n",
    "    from pg_class c -- where c.relname ~ 'sec'\n",
    "),\n",
    "f2 as (\n",
    "    select * from pg_class c where c.relname ~ 'sec' \n",
    ")select * from f1\n",
    "\"\"\"\n",
    "# pga.get_sql(sql)"
   ]
  },
  {
   "cell_type": "code",
   "execution_count": null,
   "metadata": {},
   "outputs": [],
   "source": []
  },
  {
   "cell_type": "code",
   "execution_count": 35,
   "metadata": {},
   "outputs": [
    {
     "name": "stdout",
     "output_type": "stream",
     "text": [
      "writing data all to database BEGIN: 2019-06-29 19:16:48.140626\n",
      "COPY sec_schema.underlying_table FROM '/Users/bperlman1/Documents/billybyte/pyliverisk/barchartacs/barchartacs/temp_folder/df_all_temp.csv' DELIMITER ',' CSV HEADER\n",
      "writing data all to database END: 2019-06-29 19:18:19.920290\n"
     ]
    }
   ],
   "source": [
    "# df_final.to_csv(csv_temp_path,index=False)\n",
    "# print(f'writing data all to database BEGIN: {datetime.datetime.now()}')\n",
    "# abspath = os.path.abspath(csv_temp_path)\n",
    "# sql = f\"COPY {tbname} FROM '{abspath}' DELIMITER ',' CSV HEADER\"\n",
    "# print(sql)\n",
    "# pga.exec_sql_raw(sql)    \n",
    "# print(f'writing data all to database END: {datetime.datetime.now()}')\n"
   ]
  },
  {
   "cell_type": "code",
   "execution_count": 26,
   "metadata": {},
   "outputs": [],
   "source": [
    "WRITE_DATA=False\n",
    "if WRITE_DATA:\n",
    "    pga.write_df_to_postgres_using_metadata(df=df_final,table_name=tbname)"
   ]
  },
  {
   "cell_type": "code",
   "execution_count": 28,
   "metadata": {},
   "outputs": [
    {
     "data": {
      "text/html": [
       "<div>\n",
       "<style scoped>\n",
       "    .dataframe tbody tr th:only-of-type {\n",
       "        vertical-align: middle;\n",
       "    }\n",
       "\n",
       "    .dataframe tbody tr th {\n",
       "        vertical-align: top;\n",
       "    }\n",
       "\n",
       "    .dataframe thead th {\n",
       "        text-align: right;\n",
       "    }\n",
       "</style>\n",
       "<table border=\"1\" class=\"dataframe\">\n",
       "  <thead>\n",
       "    <tr style=\"text-align: right;\">\n",
       "      <th></th>\n",
       "      <th>count</th>\n",
       "    </tr>\n",
       "  </thead>\n",
       "  <tbody>\n",
       "    <tr>\n",
       "      <th>0</th>\n",
       "      <td>4708633</td>\n",
       "    </tr>\n",
       "  </tbody>\n",
       "</table>\n",
       "</div>"
      ],
      "text/plain": [
       "     count\n",
       "0  4708633"
      ]
     },
     "metadata": {},
     "output_type": "display_data"
    },
    {
     "data": {
      "text/plain": [
       "4708633"
      ]
     },
     "execution_count": 28,
     "metadata": {},
     "output_type": "execute_result"
    }
   ],
   "source": [
    "display(pga.get_sql('select count(*) from sec_schema.underlying_table'))\n",
    "len(df_final)"
   ]
  },
  {
   "cell_type": "code",
   "execution_count": null,
   "metadata": {},
   "outputs": [],
   "source": [
    "def get_data_by_contract(pga,contract,\n",
    "            month_code_clause=None,\n",
    "             settle_date_clause=None,\n",
    "             limit=None):\n",
    "    futtab = 'sec_schema.underlying_table'\n",
    "    cl_month_code = '' if month_code_clause is None else f\"and substring(symbol,3,1) {month_code_clause}\"\n",
    "    cl_sd = '' if settle_date_clause is None else f\"and 'settle_date {settle_date_clause}\"\n",
    "    clim = '' if limit is None else f\"limit {limit}\"\n",
    "    other_criteria = f'{cl_month_code} {cl_sd} {clim}'\n",
    "    sql = f\"select * from {tbname} where substring(symbol,1,2) = '{contract}' {other_criteria};\"\n",
    "    print(sql)\n",
    "    df=  pga.get_sql(sql)\n",
    "    return df\n",
    "\n",
    "dfc = get_data_by_contract(pga,'CB',limit=3)\n",
    "display(dfc)\n",
    "dfc = get_data_by_contract(pga,'CB',month_code_clause=\"in ('G','N')\",limit=3)\n",
    "display(dfc)\n"
   ]
  },
  {
   "cell_type": "code",
   "execution_count": 29,
   "metadata": {},
   "outputs": [
    {
     "data": {
      "text/html": [
       "<div>\n",
       "<style scoped>\n",
       "    .dataframe tbody tr th:only-of-type {\n",
       "        vertical-align: middle;\n",
       "    }\n",
       "\n",
       "    .dataframe tbody tr th {\n",
       "        vertical-align: top;\n",
       "    }\n",
       "\n",
       "    .dataframe thead th {\n",
       "        text-align: right;\n",
       "    }\n",
       "</style>\n",
       "<table border=\"1\" class=\"dataframe\">\n",
       "  <thead>\n",
       "    <tr style=\"text-align: right;\">\n",
       "      <th></th>\n",
       "      <th>symbol</th>\n",
       "      <th>settle_date</th>\n",
       "      <th>open</th>\n",
       "      <th>high</th>\n",
       "      <th>low</th>\n",
       "      <th>close</th>\n",
       "      <th>adj_close</th>\n",
       "      <th>volume</th>\n",
       "      <th>open_interest</th>\n",
       "    </tr>\n",
       "  </thead>\n",
       "  <tbody>\n",
       "    <tr>\n",
       "      <th>0</th>\n",
       "      <td>A6Z99</td>\n",
       "      <td>20100901</td>\n",
       "      <td>0.8908</td>\n",
       "      <td>0.9115</td>\n",
       "      <td>0.8902</td>\n",
       "      <td>0.9115</td>\n",
       "      <td>0.9115</td>\n",
       "      <td>0</td>\n",
       "      <td>0</td>\n",
       "    </tr>\n",
       "    <tr>\n",
       "      <th>1</th>\n",
       "      <td>A6U10</td>\n",
       "      <td>20100901</td>\n",
       "      <td>0.8910</td>\n",
       "      <td>0.9104</td>\n",
       "      <td>0.8900</td>\n",
       "      <td>0.9072</td>\n",
       "      <td>0.9072</td>\n",
       "      <td>105813</td>\n",
       "      <td>98993</td>\n",
       "    </tr>\n",
       "    <tr>\n",
       "      <th>2</th>\n",
       "      <td>A6Z10</td>\n",
       "      <td>20100901</td>\n",
       "      <td>0.8820</td>\n",
       "      <td>0.9001</td>\n",
       "      <td>0.8808</td>\n",
       "      <td>0.8974</td>\n",
       "      <td>0.8974</td>\n",
       "      <td>451</td>\n",
       "      <td>3282</td>\n",
       "    </tr>\n",
       "    <tr>\n",
       "      <th>3</th>\n",
       "      <td>A6H11</td>\n",
       "      <td>20100901</td>\n",
       "      <td>0.0000</td>\n",
       "      <td>0.8878</td>\n",
       "      <td>0.8681</td>\n",
       "      <td>0.8878</td>\n",
       "      <td>0.8878</td>\n",
       "      <td>0</td>\n",
       "      <td>8</td>\n",
       "    </tr>\n",
       "    <tr>\n",
       "      <th>4</th>\n",
       "      <td>A6M11</td>\n",
       "      <td>20100901</td>\n",
       "      <td>0.0000</td>\n",
       "      <td>0.8782</td>\n",
       "      <td>0.8589</td>\n",
       "      <td>0.8782</td>\n",
       "      <td>0.8782</td>\n",
       "      <td>0</td>\n",
       "      <td>152</td>\n",
       "    </tr>\n",
       "    <tr>\n",
       "      <th>5</th>\n",
       "      <td>A6U11</td>\n",
       "      <td>20100901</td>\n",
       "      <td>0.0000</td>\n",
       "      <td>0.8686</td>\n",
       "      <td>0.8493</td>\n",
       "      <td>0.8686</td>\n",
       "      <td>0.8686</td>\n",
       "      <td>0</td>\n",
       "      <td>4</td>\n",
       "    </tr>\n",
       "    <tr>\n",
       "      <th>6</th>\n",
       "      <td>A6Z11</td>\n",
       "      <td>20100901</td>\n",
       "      <td>0.0000</td>\n",
       "      <td>0.8590</td>\n",
       "      <td>0.8397</td>\n",
       "      <td>0.8590</td>\n",
       "      <td>0.8590</td>\n",
       "      <td>0</td>\n",
       "      <td>0</td>\n",
       "    </tr>\n",
       "    <tr>\n",
       "      <th>7</th>\n",
       "      <td>ADZ99</td>\n",
       "      <td>20100901</td>\n",
       "      <td>0.8908</td>\n",
       "      <td>0.9115</td>\n",
       "      <td>0.8902</td>\n",
       "      <td>0.9115</td>\n",
       "      <td>0.9115</td>\n",
       "      <td>0</td>\n",
       "      <td>0</td>\n",
       "    </tr>\n",
       "    <tr>\n",
       "      <th>8</th>\n",
       "      <td>ADU10</td>\n",
       "      <td>20100901</td>\n",
       "      <td>0.9032</td>\n",
       "      <td>0.9080</td>\n",
       "      <td>0.9032</td>\n",
       "      <td>0.9072</td>\n",
       "      <td>0.9072</td>\n",
       "      <td>105813</td>\n",
       "      <td>98993</td>\n",
       "    </tr>\n",
       "    <tr>\n",
       "      <th>9</th>\n",
       "      <td>ADZ10</td>\n",
       "      <td>20100901</td>\n",
       "      <td>0.8972</td>\n",
       "      <td>0.8974</td>\n",
       "      <td>0.8972</td>\n",
       "      <td>0.8974</td>\n",
       "      <td>0.8974</td>\n",
       "      <td>451</td>\n",
       "      <td>3282</td>\n",
       "    </tr>\n",
       "  </tbody>\n",
       "</table>\n",
       "</div>"
      ],
      "text/plain": [
       "  symbol  settle_date    open    high     low   close  adj_close  volume  \\\n",
       "0  A6Z99     20100901  0.8908  0.9115  0.8902  0.9115     0.9115       0   \n",
       "1  A6U10     20100901  0.8910  0.9104  0.8900  0.9072     0.9072  105813   \n",
       "2  A6Z10     20100901  0.8820  0.9001  0.8808  0.8974     0.8974     451   \n",
       "3  A6H11     20100901  0.0000  0.8878  0.8681  0.8878     0.8878       0   \n",
       "4  A6M11     20100901  0.0000  0.8782  0.8589  0.8782     0.8782       0   \n",
       "5  A6U11     20100901  0.0000  0.8686  0.8493  0.8686     0.8686       0   \n",
       "6  A6Z11     20100901  0.0000  0.8590  0.8397  0.8590     0.8590       0   \n",
       "7  ADZ99     20100901  0.8908  0.9115  0.8902  0.9115     0.9115       0   \n",
       "8  ADU10     20100901  0.9032  0.9080  0.9032  0.9072     0.9072  105813   \n",
       "9  ADZ10     20100901  0.8972  0.8974  0.8972  0.8974     0.8974     451   \n",
       "\n",
       "   open_interest  \n",
       "0              0  \n",
       "1          98993  \n",
       "2           3282  \n",
       "3              8  \n",
       "4            152  \n",
       "5              4  \n",
       "6              0  \n",
       "7              0  \n",
       "8          98993  \n",
       "9           3282  "
      ]
     },
     "execution_count": 29,
     "metadata": {},
     "output_type": "execute_result"
    }
   ],
   "source": [
    "pga.get_sql(\"select * from sec_schema.underlying_table limit 10\")\n"
   ]
  },
  {
   "cell_type": "code",
   "execution_count": null,
   "metadata": {},
   "outputs": [],
   "source": [
    "dfff = pd.read_csv(csv_temp_path)\n",
    "dfff.head()"
   ]
  },
  {
   "cell_type": "code",
   "execution_count": null,
   "metadata": {},
   "outputs": [],
   "source": []
  }
 ],
 "metadata": {
  "kernelspec": {
   "display_name": "Python 3",
   "language": "python",
   "name": "python3"
  },
  "language_info": {
   "codemirror_mode": {
    "name": "ipython",
    "version": 3
   },
   "file_extension": ".py",
   "mimetype": "text/x-python",
   "name": "python",
   "nbconvert_exporter": "python",
   "pygments_lexer": "ipython3",
   "version": "3.6.5"
  }
 },
 "nbformat": 4,
 "nbformat_minor": 2
}
