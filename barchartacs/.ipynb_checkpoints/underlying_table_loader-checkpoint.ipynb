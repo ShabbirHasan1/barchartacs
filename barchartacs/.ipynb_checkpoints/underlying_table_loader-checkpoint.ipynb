{
 "cells": [
  {
   "cell_type": "code",
   "execution_count": 1,
   "metadata": {},
   "outputs": [],
   "source": [
    "import zipfile\n",
    "import glob\n",
    "import pandas as pd\n",
    "import numpy as np\n",
    "\n",
    "from argparse import ArgumentParser\n",
    "from argparse import RawDescriptionHelpFormatter\n",
    "import sys\n",
    "import os\n",
    "if  not './' in sys.path:\n",
    "    sys.path.append('./')\n",
    "if  not '../' in sys.path:\n",
    "    sys.path.append('../')\n",
    "\n",
    "from barchartacs import build_db\n",
    "from barchartacs import db_info\n",
    "import datetime\n",
    "import io\n",
    "from tqdm import tqdm,tqdm_notebook\n",
    "from barchartacs import pg_pandas as pg\n",
    "import importlib\n",
    "\n",
    "DELETE_ALL = False\n",
    "WRITE_DATA=False\n",
    "\n",
    "# importlib.reload(db_info)"
   ]
  },
  {
   "cell_type": "code",
   "execution_count": 2,
   "metadata": {},
   "outputs": [],
   "source": [
    "d1 = {\n",
    "    1:'jan',\n",
    "    2:'feb',\n",
    "    3:'mar',\n",
    "    4:'apr',\n",
    "    5:'may',\n",
    "    6:'jun',\n",
    "    7:'jul',\n",
    "    8:'aug',\n",
    "    9:'sep',\n",
    "    10:'oct',\n",
    "    11:'nov',\n",
    "    12:'dec'\n",
    "}\n"
   ]
  },
  {
   "cell_type": "code",
   "execution_count": 11,
   "metadata": {},
   "outputs": [
    {
     "data": {
      "application/vnd.jupyter.widget-view+json": {
       "model_id": "161f9c26ad814e94a0566acfdb738ac9",
       "version_major": 2,
       "version_minor": 0
      },
      "text/plain": [
       "HBox(children=(IntProgress(value=0, max=6), HTML(value='')))"
      ]
     },
     "metadata": {},
     "output_type": "display_data"
    },
    {
     "name": "stdout",
     "output_type": "stream",
     "text": [
      "\n"
     ]
    }
   ],
   "source": [
    "zip_folder_parent = open('./temp_folder/zip_folder_parent.txt','r').read()\n",
    "futures_parent = f'{zip_folder_parent}/futures'\n",
    "\n",
    "all_names_ordered = []\n",
    "for yy in np.arange(19,20):\n",
    "    fnames = glob.glob(f'{futures_parent}/*{yy}.txt')\n",
    "    d = {}\n",
    "    for fname in fnames:\n",
    "        mmm = fname.split('/')[-1].split('.txt')[0][0:-2][-3:]\n",
    "        d[mmm] = fname\n",
    "    fnames_ordered = [d[d1[m]] for m in d1.keys() if d1[m] in d]\n",
    "    all_names_ordered += fnames_ordered\n",
    "all_names_ordered\n",
    "\n",
    "df_all = None\n",
    "header = ['contract','month_year','yymmdd','open','high','low','close','volume','open_interest']\n",
    "\n",
    "for fname in tqdm_notebook(all_names_ordered):\n",
    "    df_temp = pd.read_csv(fname,header=None)\n",
    "    df_temp.columns = header\n",
    "    if df_all is None:\n",
    "        df_all = df_temp.copy()\n",
    "    else:\n",
    "        df_all = df_all.append(df_temp,ignore_index=True)\n",
    "        df_all.index = list(range(len(df_all)))\n",
    "    "
   ]
  },
  {
   "cell_type": "code",
   "execution_count": 12,
   "metadata": {},
   "outputs": [
    {
     "data": {
      "text/plain": [
       "250154"
      ]
     },
     "execution_count": 12,
     "metadata": {},
     "output_type": "execute_result"
    }
   ],
   "source": [
    "len(df_all)"
   ]
  },
  {
   "cell_type": "code",
   "execution_count": 26,
   "metadata": {},
   "outputs": [
    {
     "data": {
      "text/html": [
       "<div>\n",
       "<style scoped>\n",
       "    .dataframe tbody tr th:only-of-type {\n",
       "        vertical-align: middle;\n",
       "    }\n",
       "\n",
       "    .dataframe tbody tr th {\n",
       "        vertical-align: top;\n",
       "    }\n",
       "\n",
       "    .dataframe thead th {\n",
       "        text-align: right;\n",
       "    }\n",
       "</style>\n",
       "<table border=\"1\" class=\"dataframe\">\n",
       "  <thead>\n",
       "    <tr style=\"text-align: right;\">\n",
       "      <th></th>\n",
       "      <th>contract</th>\n",
       "      <th>month_year</th>\n",
       "      <th>yymmdd</th>\n",
       "      <th>open</th>\n",
       "      <th>high</th>\n",
       "      <th>low</th>\n",
       "      <th>close</th>\n",
       "      <th>volume</th>\n",
       "      <th>open_interest</th>\n",
       "    </tr>\n",
       "  </thead>\n",
       "  <tbody>\n",
       "    <tr>\n",
       "      <th>104492</th>\n",
       "      <td>JZ</td>\n",
       "      <td>2099Z</td>\n",
       "      <td>190318.0</td>\n",
       "      <td>991414.88100037.7</td>\n",
       "      <td>99141.4</td>\n",
       "      <td>99993.92</td>\n",
       "      <td>0.0</td>\n",
       "      <td>0.0</td>\n",
       "      <td>NaN</td>\n",
       "    </tr>\n",
       "    <tr>\n",
       "      <th>106478</th>\n",
       "      <td>JZ</td>\n",
       "      <td>2099Z</td>\n",
       "      <td>190319.0</td>\n",
       "      <td>999909.13100438.9</td>\n",
       "      <td>99372.9</td>\n",
       "      <td>99588.37</td>\n",
       "      <td>0.0</td>\n",
       "      <td>0.0</td>\n",
       "      <td>NaN</td>\n",
       "    </tr>\n",
       "    <tr>\n",
       "      <th>234891</th>\n",
       "      <td>JZ</td>\n",
       "      <td>2099Z</td>\n",
       "      <td>190619.0</td>\n",
       "      <td>994032.38100327.1</td>\n",
       "      <td>994032.38100303.4</td>\n",
       "      <td>0.00</td>\n",
       "      <td>0.0</td>\n",
       "      <td>NaN</td>\n",
       "      <td>NaN</td>\n",
       "    </tr>\n",
       "    <tr>\n",
       "      <th>238947</th>\n",
       "      <td>JZ</td>\n",
       "      <td>2099Z</td>\n",
       "      <td>190621.0</td>\n",
       "      <td>0102012.6102012.6102012.6</td>\n",
       "      <td>0</td>\n",
       "      <td>0.00</td>\n",
       "      <td>NaN</td>\n",
       "      <td>NaN</td>\n",
       "      <td>NaN</td>\n",
       "    </tr>\n",
       "    <tr>\n",
       "      <th>240974</th>\n",
       "      <td>JZ</td>\n",
       "      <td>2099Z</td>\n",
       "      <td>190624.0</td>\n",
       "      <td>0102062.3102062.3102062.3</td>\n",
       "      <td>0</td>\n",
       "      <td>0.00</td>\n",
       "      <td>NaN</td>\n",
       "      <td>NaN</td>\n",
       "      <td>NaN</td>\n",
       "    </tr>\n",
       "    <tr>\n",
       "      <th>245026</th>\n",
       "      <td>JZ</td>\n",
       "      <td>2099Z</td>\n",
       "      <td>190626.0</td>\n",
       "      <td>0100688.6100688.6100688.6</td>\n",
       "      <td>0</td>\n",
       "      <td>0.00</td>\n",
       "      <td>NaN</td>\n",
       "      <td>NaN</td>\n",
       "      <td>NaN</td>\n",
       "    </tr>\n",
       "    <tr>\n",
       "      <th>249031</th>\n",
       "      <td>JZ</td>\n",
       "      <td>2099Z</td>\n",
       "      <td>190628.0</td>\n",
       "      <td>0100967.2100967.2100967.2</td>\n",
       "      <td>0</td>\n",
       "      <td>0.00</td>\n",
       "      <td>NaN</td>\n",
       "      <td>NaN</td>\n",
       "      <td>NaN</td>\n",
       "    </tr>\n",
       "  </tbody>\n",
       "</table>\n",
       "</div>"
      ],
      "text/plain": [
       "       contract month_year    yymmdd                       open  \\\n",
       "104492       JZ      2099Z  190318.0          991414.88100037.7   \n",
       "106478       JZ      2099Z  190319.0          999909.13100438.9   \n",
       "234891       JZ      2099Z  190619.0          994032.38100327.1   \n",
       "238947       JZ      2099Z  190621.0  0102012.6102012.6102012.6   \n",
       "240974       JZ      2099Z  190624.0  0102062.3102062.3102062.3   \n",
       "245026       JZ      2099Z  190626.0  0100688.6100688.6100688.6   \n",
       "249031       JZ      2099Z  190628.0  0100967.2100967.2100967.2   \n",
       "\n",
       "                     high       low  close  volume  open_interest  \n",
       "104492            99141.4  99993.92    0.0     0.0            NaN  \n",
       "106478            99372.9  99588.37    0.0     0.0            NaN  \n",
       "234891  994032.38100303.4      0.00    0.0     NaN            NaN  \n",
       "238947                  0      0.00    NaN     NaN            NaN  \n",
       "240974                  0      0.00    NaN     NaN            NaN  \n",
       "245026                  0      0.00    NaN     NaN            NaN  \n",
       "249031                  0      0.00    NaN     NaN            NaN  "
      ]
     },
     "execution_count": 26,
     "metadata": {},
     "output_type": "execute_result"
    }
   ],
   "source": []
  },
  {
   "cell_type": "code",
   "execution_count": 14,
   "metadata": {},
   "outputs": [
    {
     "ename": "ValueError",
     "evalue": "could not convert string to float: '991414.88100037.7'",
     "output_type": "error",
     "traceback": [
      "\u001b[0;31m---------------------------------------------------------------------------\u001b[0m",
      "\u001b[0;31mValueError\u001b[0m                                Traceback (most recent call last)",
      "\u001b[0;32m<ipython-input-14-a37460350d51>\u001b[0m in \u001b[0;36m<module>\u001b[0;34m()\u001b[0m\n\u001b[1;32m      6\u001b[0m \u001b[0msymbols\u001b[0m \u001b[0;34m=\u001b[0m \u001b[0mdf_temp\u001b[0m\u001b[0;34m.\u001b[0m\u001b[0mcontract\u001b[0m \u001b[0;34m+\u001b[0m \u001b[0mdf_temp\u001b[0m\u001b[0;34m.\u001b[0m\u001b[0mmonth_year\u001b[0m\u001b[0;34m.\u001b[0m\u001b[0mstr\u001b[0m\u001b[0;34m.\u001b[0m\u001b[0mslice\u001b[0m\u001b[0;34m(\u001b[0m\u001b[0;34m-\u001b[0m\u001b[0;36m1\u001b[0m\u001b[0;34m,\u001b[0m\u001b[0;34m)\u001b[0m  \u001b[0;34m+\u001b[0m \u001b[0mdf_temp\u001b[0m\u001b[0;34m.\u001b[0m\u001b[0mmonth_year\u001b[0m\u001b[0;34m.\u001b[0m\u001b[0mstr\u001b[0m\u001b[0;34m.\u001b[0m\u001b[0mslice\u001b[0m\u001b[0;34m(\u001b[0m\u001b[0;36m2\u001b[0m\u001b[0;34m,\u001b[0m\u001b[0;36m4\u001b[0m\u001b[0;34m)\u001b[0m\u001b[0;34m\u001b[0m\u001b[0m\n\u001b[1;32m      7\u001b[0m \u001b[0msettle_dates\u001b[0m \u001b[0;34m=\u001b[0m \u001b[0;34m(\u001b[0m\u001b[0;34m'20'\u001b[0m \u001b[0;34m+\u001b[0m \u001b[0mdf_temp\u001b[0m\u001b[0;34m.\u001b[0m\u001b[0myymmdd\u001b[0m\u001b[0;34m.\u001b[0m\u001b[0mastype\u001b[0m\u001b[0;34m(\u001b[0m\u001b[0mstr\u001b[0m\u001b[0;34m)\u001b[0m\u001b[0;34m)\u001b[0m\u001b[0;34m.\u001b[0m\u001b[0mastype\u001b[0m\u001b[0;34m(\u001b[0m\u001b[0mfloat\u001b[0m\u001b[0;34m)\u001b[0m\u001b[0;34m.\u001b[0m\u001b[0mastype\u001b[0m\u001b[0;34m(\u001b[0m\u001b[0mint\u001b[0m\u001b[0;34m)\u001b[0m\u001b[0;34m\u001b[0m\u001b[0m\n\u001b[0;32m----> 8\u001b[0;31m \u001b[0mopens\u001b[0m \u001b[0;34m=\u001b[0m \u001b[0mdf_temp\u001b[0m\u001b[0;34m.\u001b[0m\u001b[0mopen\u001b[0m\u001b[0;34m.\u001b[0m\u001b[0mastype\u001b[0m\u001b[0;34m(\u001b[0m\u001b[0mfloat\u001b[0m\u001b[0;34m)\u001b[0m\u001b[0;34m\u001b[0m\u001b[0m\n\u001b[0m\u001b[1;32m      9\u001b[0m \u001b[0mhighs\u001b[0m \u001b[0;34m=\u001b[0m \u001b[0mdf_temp\u001b[0m\u001b[0;34m.\u001b[0m\u001b[0mhigh\u001b[0m\u001b[0;34m.\u001b[0m\u001b[0mastype\u001b[0m\u001b[0;34m(\u001b[0m\u001b[0mfloat\u001b[0m\u001b[0;34m)\u001b[0m\u001b[0;34m\u001b[0m\u001b[0m\n\u001b[1;32m     10\u001b[0m \u001b[0mlows\u001b[0m \u001b[0;34m=\u001b[0m \u001b[0mdf_temp\u001b[0m\u001b[0;34m.\u001b[0m\u001b[0mlow\u001b[0m\u001b[0;34m.\u001b[0m\u001b[0mastype\u001b[0m\u001b[0;34m(\u001b[0m\u001b[0mfloat\u001b[0m\u001b[0;34m)\u001b[0m\u001b[0;34m\u001b[0m\u001b[0m\n",
      "\u001b[0;32m~/Virtualenvs3/pyliverisk/lib/python3.6/site-packages/pandas/core/generic.py\u001b[0m in \u001b[0;36mastype\u001b[0;34m(self, dtype, copy, errors, **kwargs)\u001b[0m\n\u001b[1;32m   5689\u001b[0m             \u001b[0;31m# else, only a single dtype is given\u001b[0m\u001b[0;34m\u001b[0m\u001b[0;34m\u001b[0m\u001b[0m\n\u001b[1;32m   5690\u001b[0m             new_data = self._data.astype(dtype=dtype, copy=copy, errors=errors,\n\u001b[0;32m-> 5691\u001b[0;31m                                          **kwargs)\n\u001b[0m\u001b[1;32m   5692\u001b[0m             \u001b[0;32mreturn\u001b[0m \u001b[0mself\u001b[0m\u001b[0;34m.\u001b[0m\u001b[0m_constructor\u001b[0m\u001b[0;34m(\u001b[0m\u001b[0mnew_data\u001b[0m\u001b[0;34m)\u001b[0m\u001b[0;34m.\u001b[0m\u001b[0m__finalize__\u001b[0m\u001b[0;34m(\u001b[0m\u001b[0mself\u001b[0m\u001b[0;34m)\u001b[0m\u001b[0;34m\u001b[0m\u001b[0m\n\u001b[1;32m   5693\u001b[0m \u001b[0;34m\u001b[0m\u001b[0m\n",
      "\u001b[0;32m~/Virtualenvs3/pyliverisk/lib/python3.6/site-packages/pandas/core/internals/managers.py\u001b[0m in \u001b[0;36mastype\u001b[0;34m(self, dtype, **kwargs)\u001b[0m\n\u001b[1;32m    529\u001b[0m \u001b[0;34m\u001b[0m\u001b[0m\n\u001b[1;32m    530\u001b[0m     \u001b[0;32mdef\u001b[0m \u001b[0mastype\u001b[0m\u001b[0;34m(\u001b[0m\u001b[0mself\u001b[0m\u001b[0;34m,\u001b[0m \u001b[0mdtype\u001b[0m\u001b[0;34m,\u001b[0m \u001b[0;34m**\u001b[0m\u001b[0mkwargs\u001b[0m\u001b[0;34m)\u001b[0m\u001b[0;34m:\u001b[0m\u001b[0;34m\u001b[0m\u001b[0m\n\u001b[0;32m--> 531\u001b[0;31m         \u001b[0;32mreturn\u001b[0m \u001b[0mself\u001b[0m\u001b[0;34m.\u001b[0m\u001b[0mapply\u001b[0m\u001b[0;34m(\u001b[0m\u001b[0;34m'astype'\u001b[0m\u001b[0;34m,\u001b[0m \u001b[0mdtype\u001b[0m\u001b[0;34m=\u001b[0m\u001b[0mdtype\u001b[0m\u001b[0;34m,\u001b[0m \u001b[0;34m**\u001b[0m\u001b[0mkwargs\u001b[0m\u001b[0;34m)\u001b[0m\u001b[0;34m\u001b[0m\u001b[0m\n\u001b[0m\u001b[1;32m    532\u001b[0m \u001b[0;34m\u001b[0m\u001b[0m\n\u001b[1;32m    533\u001b[0m     \u001b[0;32mdef\u001b[0m \u001b[0mconvert\u001b[0m\u001b[0;34m(\u001b[0m\u001b[0mself\u001b[0m\u001b[0;34m,\u001b[0m \u001b[0;34m**\u001b[0m\u001b[0mkwargs\u001b[0m\u001b[0;34m)\u001b[0m\u001b[0;34m:\u001b[0m\u001b[0;34m\u001b[0m\u001b[0m\n",
      "\u001b[0;32m~/Virtualenvs3/pyliverisk/lib/python3.6/site-packages/pandas/core/internals/managers.py\u001b[0m in \u001b[0;36mapply\u001b[0;34m(self, f, axes, filter, do_integrity_check, consolidate, **kwargs)\u001b[0m\n\u001b[1;32m    393\u001b[0m                                             copy=align_copy)\n\u001b[1;32m    394\u001b[0m \u001b[0;34m\u001b[0m\u001b[0m\n\u001b[0;32m--> 395\u001b[0;31m             \u001b[0mapplied\u001b[0m \u001b[0;34m=\u001b[0m \u001b[0mgetattr\u001b[0m\u001b[0;34m(\u001b[0m\u001b[0mb\u001b[0m\u001b[0;34m,\u001b[0m \u001b[0mf\u001b[0m\u001b[0;34m)\u001b[0m\u001b[0;34m(\u001b[0m\u001b[0;34m**\u001b[0m\u001b[0mkwargs\u001b[0m\u001b[0;34m)\u001b[0m\u001b[0;34m\u001b[0m\u001b[0m\n\u001b[0m\u001b[1;32m    396\u001b[0m             \u001b[0mresult_blocks\u001b[0m \u001b[0;34m=\u001b[0m \u001b[0m_extend_blocks\u001b[0m\u001b[0;34m(\u001b[0m\u001b[0mapplied\u001b[0m\u001b[0;34m,\u001b[0m \u001b[0mresult_blocks\u001b[0m\u001b[0;34m)\u001b[0m\u001b[0;34m\u001b[0m\u001b[0m\n\u001b[1;32m    397\u001b[0m \u001b[0;34m\u001b[0m\u001b[0m\n",
      "\u001b[0;32m~/Virtualenvs3/pyliverisk/lib/python3.6/site-packages/pandas/core/internals/blocks.py\u001b[0m in \u001b[0;36mastype\u001b[0;34m(self, dtype, copy, errors, values, **kwargs)\u001b[0m\n\u001b[1;32m    532\u001b[0m     \u001b[0;32mdef\u001b[0m \u001b[0mastype\u001b[0m\u001b[0;34m(\u001b[0m\u001b[0mself\u001b[0m\u001b[0;34m,\u001b[0m \u001b[0mdtype\u001b[0m\u001b[0;34m,\u001b[0m \u001b[0mcopy\u001b[0m\u001b[0;34m=\u001b[0m\u001b[0;32mFalse\u001b[0m\u001b[0;34m,\u001b[0m \u001b[0merrors\u001b[0m\u001b[0;34m=\u001b[0m\u001b[0;34m'raise'\u001b[0m\u001b[0;34m,\u001b[0m \u001b[0mvalues\u001b[0m\u001b[0;34m=\u001b[0m\u001b[0;32mNone\u001b[0m\u001b[0;34m,\u001b[0m \u001b[0;34m**\u001b[0m\u001b[0mkwargs\u001b[0m\u001b[0;34m)\u001b[0m\u001b[0;34m:\u001b[0m\u001b[0;34m\u001b[0m\u001b[0m\n\u001b[1;32m    533\u001b[0m         return self._astype(dtype, copy=copy, errors=errors, values=values,\n\u001b[0;32m--> 534\u001b[0;31m                             **kwargs)\n\u001b[0m\u001b[1;32m    535\u001b[0m \u001b[0;34m\u001b[0m\u001b[0m\n\u001b[1;32m    536\u001b[0m     def _astype(self, dtype, copy=False, errors='raise', values=None,\n",
      "\u001b[0;32m~/Virtualenvs3/pyliverisk/lib/python3.6/site-packages/pandas/core/internals/blocks.py\u001b[0m in \u001b[0;36m_astype\u001b[0;34m(self, dtype, copy, errors, values, **kwargs)\u001b[0m\n\u001b[1;32m    631\u001b[0m \u001b[0;34m\u001b[0m\u001b[0m\n\u001b[1;32m    632\u001b[0m                     \u001b[0;31m# _astype_nansafe works fine with 1-d only\u001b[0m\u001b[0;34m\u001b[0m\u001b[0;34m\u001b[0m\u001b[0m\n\u001b[0;32m--> 633\u001b[0;31m                     \u001b[0mvalues\u001b[0m \u001b[0;34m=\u001b[0m \u001b[0mastype_nansafe\u001b[0m\u001b[0;34m(\u001b[0m\u001b[0mvalues\u001b[0m\u001b[0;34m.\u001b[0m\u001b[0mravel\u001b[0m\u001b[0;34m(\u001b[0m\u001b[0;34m)\u001b[0m\u001b[0;34m,\u001b[0m \u001b[0mdtype\u001b[0m\u001b[0;34m,\u001b[0m \u001b[0mcopy\u001b[0m\u001b[0;34m=\u001b[0m\u001b[0;32mTrue\u001b[0m\u001b[0;34m)\u001b[0m\u001b[0;34m\u001b[0m\u001b[0m\n\u001b[0m\u001b[1;32m    634\u001b[0m \u001b[0;34m\u001b[0m\u001b[0m\n\u001b[1;32m    635\u001b[0m                 \u001b[0;31m# TODO(extension)\u001b[0m\u001b[0;34m\u001b[0m\u001b[0;34m\u001b[0m\u001b[0m\n",
      "\u001b[0;32m~/Virtualenvs3/pyliverisk/lib/python3.6/site-packages/pandas/core/dtypes/cast.py\u001b[0m in \u001b[0;36mastype_nansafe\u001b[0;34m(arr, dtype, copy, skipna)\u001b[0m\n\u001b[1;32m    700\u001b[0m     \u001b[0;32mif\u001b[0m \u001b[0mcopy\u001b[0m \u001b[0;32mor\u001b[0m \u001b[0mis_object_dtype\u001b[0m\u001b[0;34m(\u001b[0m\u001b[0marr\u001b[0m\u001b[0;34m)\u001b[0m \u001b[0;32mor\u001b[0m \u001b[0mis_object_dtype\u001b[0m\u001b[0;34m(\u001b[0m\u001b[0mdtype\u001b[0m\u001b[0;34m)\u001b[0m\u001b[0;34m:\u001b[0m\u001b[0;34m\u001b[0m\u001b[0m\n\u001b[1;32m    701\u001b[0m         \u001b[0;31m# Explicit copy, or required since NumPy can't view from / to object.\u001b[0m\u001b[0;34m\u001b[0m\u001b[0;34m\u001b[0m\u001b[0m\n\u001b[0;32m--> 702\u001b[0;31m         \u001b[0;32mreturn\u001b[0m \u001b[0marr\u001b[0m\u001b[0;34m.\u001b[0m\u001b[0mastype\u001b[0m\u001b[0;34m(\u001b[0m\u001b[0mdtype\u001b[0m\u001b[0;34m,\u001b[0m \u001b[0mcopy\u001b[0m\u001b[0;34m=\u001b[0m\u001b[0;32mTrue\u001b[0m\u001b[0;34m)\u001b[0m\u001b[0;34m\u001b[0m\u001b[0m\n\u001b[0m\u001b[1;32m    703\u001b[0m \u001b[0;34m\u001b[0m\u001b[0m\n\u001b[1;32m    704\u001b[0m     \u001b[0;32mreturn\u001b[0m \u001b[0marr\u001b[0m\u001b[0;34m.\u001b[0m\u001b[0mview\u001b[0m\u001b[0;34m(\u001b[0m\u001b[0mdtype\u001b[0m\u001b[0;34m)\u001b[0m\u001b[0;34m\u001b[0m\u001b[0m\n",
      "\u001b[0;31mValueError\u001b[0m: could not convert string to float: '991414.88100037.7'"
     ]
    }
   ],
   "source": [
    "df_temp = df_all.copy()#.iloc[:1000]\n",
    "isnas = df_temp.yymmdd.isna()\n",
    "df_temp = df_temp[~isnas]\n",
    "df_temp = df_temp[df_temp.open.astype(str).str.count('\\.')<=1]\n",
    "df_temp.index = list(range(len(df_temp)))\n",
    "df_temp.loc[df_temp.month_year=='Y','month_year'] = '2099Z'\n",
    "symbols = df_temp.contract + df_temp.month_year.str.slice(-1,)  + df_temp.month_year.str.slice(2,4)\n",
    "settle_dates = ('20' + df_temp.yymmdd.astype(str)).astype(float).astype(int)\n",
    "opens = df_temp.open.astype(float)\n",
    "highs = df_temp.high.astype(float)\n",
    "lows = df_temp.low.astype(float)\n",
    "closes = df_temp.close.astype(float)\n",
    "volumes = df_temp.volume.astype(int)\n",
    "open_interests = df_temp.open_interest.astype(int)\n",
    "df_final = pd.DataFrame({'symbol':symbols,\n",
    "    'settle_date':settle_dates,\n",
    "    'open':opens,\n",
    "    'high':highs,\n",
    "    'low':lows,\n",
    "    'close':closes,\n",
    "    'adj_close':closes,\n",
    "    'volume':volumes,\n",
    "    'open_interest':open_interests})\n",
    "df_final.head()"
   ]
  },
  {
   "cell_type": "markdown",
   "metadata": {},
   "source": [
    "#### add month_num to df_final"
   ]
  },
  {
   "cell_type": "code",
   "execution_count": 88,
   "metadata": {},
   "outputs": [
    {
     "data": {
      "text/html": [
       "<div>\n",
       "<style scoped>\n",
       "    .dataframe tbody tr th:only-of-type {\n",
       "        vertical-align: middle;\n",
       "    }\n",
       "\n",
       "    .dataframe tbody tr th {\n",
       "        vertical-align: top;\n",
       "    }\n",
       "\n",
       "    .dataframe thead th {\n",
       "        text-align: right;\n",
       "    }\n",
       "</style>\n",
       "<table border=\"1\" class=\"dataframe\">\n",
       "  <thead>\n",
       "    <tr style=\"text-align: right;\">\n",
       "      <th></th>\n",
       "      <th>month_num</th>\n",
       "      <th>mmm</th>\n",
       "      <th>month_code</th>\n",
       "    </tr>\n",
       "  </thead>\n",
       "  <tbody>\n",
       "    <tr>\n",
       "      <th>0</th>\n",
       "      <td>1</td>\n",
       "      <td>jan</td>\n",
       "      <td>F</td>\n",
       "    </tr>\n",
       "    <tr>\n",
       "      <th>1</th>\n",
       "      <td>2</td>\n",
       "      <td>feb</td>\n",
       "      <td>G</td>\n",
       "    </tr>\n",
       "    <tr>\n",
       "      <th>2</th>\n",
       "      <td>3</td>\n",
       "      <td>mar</td>\n",
       "      <td>H</td>\n",
       "    </tr>\n",
       "    <tr>\n",
       "      <th>3</th>\n",
       "      <td>4</td>\n",
       "      <td>apr</td>\n",
       "      <td>J</td>\n",
       "    </tr>\n",
       "    <tr>\n",
       "      <th>4</th>\n",
       "      <td>5</td>\n",
       "      <td>may</td>\n",
       "      <td>K</td>\n",
       "    </tr>\n",
       "    <tr>\n",
       "      <th>5</th>\n",
       "      <td>6</td>\n",
       "      <td>jun</td>\n",
       "      <td>M</td>\n",
       "    </tr>\n",
       "    <tr>\n",
       "      <th>6</th>\n",
       "      <td>7</td>\n",
       "      <td>jul</td>\n",
       "      <td>N</td>\n",
       "    </tr>\n",
       "    <tr>\n",
       "      <th>7</th>\n",
       "      <td>8</td>\n",
       "      <td>aug</td>\n",
       "      <td>Q</td>\n",
       "    </tr>\n",
       "    <tr>\n",
       "      <th>8</th>\n",
       "      <td>9</td>\n",
       "      <td>sep</td>\n",
       "      <td>U</td>\n",
       "    </tr>\n",
       "    <tr>\n",
       "      <th>9</th>\n",
       "      <td>10</td>\n",
       "      <td>oct</td>\n",
       "      <td>V</td>\n",
       "    </tr>\n",
       "    <tr>\n",
       "      <th>10</th>\n",
       "      <td>11</td>\n",
       "      <td>nov</td>\n",
       "      <td>X</td>\n",
       "    </tr>\n",
       "    <tr>\n",
       "      <th>11</th>\n",
       "      <td>12</td>\n",
       "      <td>dec</td>\n",
       "      <td>Z</td>\n",
       "    </tr>\n",
       "  </tbody>\n",
       "</table>\n",
       "</div>"
      ],
      "text/plain": [
       "    month_num  mmm month_code\n",
       "0           1  jan          F\n",
       "1           2  feb          G\n",
       "2           3  mar          H\n",
       "3           4  apr          J\n",
       "4           5  may          K\n",
       "5           6  jun          M\n",
       "6           7  jul          N\n",
       "7           8  aug          Q\n",
       "8           9  sep          U\n",
       "9          10  oct          V\n",
       "10         11  nov          X\n",
       "11         12  dec          Z"
      ]
     },
     "execution_count": 88,
     "metadata": {},
     "output_type": "execute_result"
    }
   ],
   "source": [
    "df_monthnum = pd.read_csv('month_codes.csv')\n",
    "df_monthnum"
   ]
  },
  {
   "cell_type": "code",
   "execution_count": 89,
   "metadata": {},
   "outputs": [
    {
     "data": {
      "text/plain": [
       "array(['A6', 'AD', 'AE', 'AP', 'B6', 'BO', 'BP', 'BR', 'C', 'CA', 'CB',\n",
       "       'CC', 'CD', 'CE', 'CF', 'CG', 'CI', 'CL', 'CT', 'D6', 'DA', 'DB',\n",
       "       'DJ', 'DS', 'DX', 'DY', 'E6', 'EC', 'ED', 'EF', 'EJ', 'EM', 'ES',\n",
       "       'EW', 'EY', 'F', 'FC', 'FF', 'FS', 'FV', 'FX', 'G', 'GB', 'GC',\n",
       "       'GE', 'GF', 'GG', 'GH', 'GI', 'GJ', 'HE', 'HF', 'HG', 'HO', 'HR',\n",
       "       'HS', 'IM', 'IR', 'J6', 'JM', 'JX', 'JY', 'JZ', 'KC', 'KE', 'KL',\n",
       "       'KS', 'KW', 'L', 'L6', 'LB', 'LC', 'LE', 'LF', 'LH', 'LX', 'M6',\n",
       "       'MD', 'MJ', 'MQ', 'MW', 'MX', 'N6', 'ND', 'NE', 'NF', 'NG', 'NI',\n",
       "       'NJ', 'NK', 'NQ', 'NV', 'NX', 'O', 'OJ', 'PA', 'PB', 'PC', 'PD',\n",
       "       'PL', 'QL', 'RA', 'RB', 'RJ', 'RM', 'RR', 'RS', 'RZ', 'S', 'S6',\n",
       "       'SA', 'SB', 'SD', 'SF', 'SI', 'SL', 'SM', 'SP', 'SR', 'SV', 'SW',\n",
       "       'SY', 'SZ', 'T6', 'TI', 'TP', 'TU', 'TY', 'UD', 'UL', 'US', 'VS',\n",
       "       'W', 'WI', 'WT', 'X', 'XG', 'XH', 'YC', 'YG', 'YI', 'YK', 'YM',\n",
       "       'YT', 'YU', 'YV', 'YW', 'ZB', 'ZC', 'ZD', 'ZF', 'ZG', 'ZI', 'ZK',\n",
       "       'ZL', 'ZM', 'ZN', 'ZO', 'ZQ', 'ZR', 'ZS', 'ZT', 'ZW', 'LS', 'NY',\n",
       "       'GD', 'II', 'DL', 'QR', 'VI', 'BT', 'BG'], dtype=object)"
      ]
     },
     "execution_count": 89,
     "metadata": {},
     "output_type": "execute_result"
    }
   ],
   "source": [
    "df_final.symbol.str.slice(0,-3).unique()"
   ]
  },
  {
   "cell_type": "code",
   "execution_count": 90,
   "metadata": {},
   "outputs": [
    {
     "data": {
      "text/plain": [
       "array(['Z', 'U', 'H', 'M', 'V', 'X', 'F', 'K', 'N', 'Q', 'G', 'J'],\n",
       "      dtype=object)"
      ]
     },
     "metadata": {},
     "output_type": "display_data"
    },
    {
     "name": "stderr",
     "output_type": "stream",
     "text": [
      "/Users/bperlman1/Virtualenvs3/pyliverisk/lib/python3.6/site-packages/ipykernel_launcher.py:9: SettingWithCopyWarning: \n",
      "A value is trying to be set on a copy of a slice from a DataFrame.\n",
      "Try using .loc[row_indexer,col_indexer] = value instead\n",
      "\n",
      "See the caveats in the documentation: http://pandas.pydata.org/pandas-docs/stable/indexing.html#indexing-view-versus-copy\n",
      "  if __name__ == '__main__':\n",
      "/Users/bperlman1/Virtualenvs3/pyliverisk/lib/python3.6/site-packages/ipykernel_launcher.py:10: SettingWithCopyWarning: \n",
      "A value is trying to be set on a copy of a slice from a DataFrame.\n",
      "Try using .loc[row_indexer,col_indexer] = value instead\n",
      "\n",
      "See the caveats in the documentation: http://pandas.pydata.org/pandas-docs/stable/indexing.html#indexing-view-versus-copy\n",
      "  # Remove the CWD from sys.path while we load stuff.\n"
     ]
    },
    {
     "name": "stdout",
     "output_type": "stream",
     "text": [
      "4708655 4708655\n"
     ]
    }
   ],
   "source": [
    "dfu2 = df_final.copy()\n",
    "dfu2['contract'] = dfu2.symbol.str.slice(0,-3)\n",
    "dfu2['year'] = dfu2.symbol.apply(lambda s: 2000 + int(s[-2:]))\n",
    "dfu2['month_code'] = dfu2.symbol.str.slice(-3,-2)\n",
    "dfu3 = dfu2.merge(df_monthnum,on='month_code',how='inner')\n",
    "dfu3['yyyymm'] = dfu3.year*100+dfu3.month_num\n",
    "display(dfu2.month_code.unique())\n",
    "dfu4 = dfu3[['contract','symbol','settle_date','yyyymm']]\n",
    "dfu4['contract_num'] =dfu4[['contract','settle_date','yyyymm']].groupby(['contract','settle_date']).yyyymm.rank()\n",
    "dfu4['contract_num'] = dfu4['contract_num'].astype(int)\n",
    "dfu4 = dfu4.sort_values(['settle_date','contract','yyyymm'])\n",
    "dfu4.index = list(range(len(dfu4)))\n",
    "print(len(df_final),len(dfu4))\n",
    "dfu5 = df_final.merge(dfu4[['symbol','settle_date','contract_num']],on=['symbol','settle_date'])\n",
    "dfu5.index = list(range(len(dfu5)))\n",
    "dfu5.open=dfu5.open.round(8)\n",
    "dfu5.high=dfu5.high.round(8)\n",
    "dfu5.low=dfu5.low.round(8)\n",
    "dfu5.close=dfu5.close.round(8)\n",
    "dfu5.adj_close = dfu5.adj_close.round(8)\n",
    "\n"
   ]
  },
  {
   "cell_type": "code",
   "execution_count": 94,
   "metadata": {},
   "outputs": [
    {
     "data": {
      "text/plain": [
       "(4708755, 4708655, 4708633)"
      ]
     },
     "execution_count": 94,
     "metadata": {},
     "output_type": "execute_result"
    }
   ],
   "source": [
    "len(df_all),len(df_final),len(dfu5)"
   ]
  },
  {
   "cell_type": "markdown",
   "metadata": {},
   "source": [
    "#### Are there dupes??"
   ]
  },
  {
   "cell_type": "code",
   "execution_count": 95,
   "metadata": {},
   "outputs": [
    {
     "data": {
      "text/plain": [
       "False"
      ]
     },
     "execution_count": 95,
     "metadata": {},
     "output_type": "execute_result"
    }
   ],
   "source": [
    "ag = ['symbol','settle_date']\n",
    "df_counts = dfu5[ag+['close']].groupby(ag,as_index=False).count()\n",
    "dupes_exist  = len(df_counts[df_counts.close>1])>0\n",
    "dupes_exist"
   ]
  },
  {
   "cell_type": "markdown",
   "metadata": {},
   "source": [
    "#### if there are dupes, get rid of them"
   ]
  },
  {
   "cell_type": "code",
   "execution_count": 96,
   "metadata": {},
   "outputs": [],
   "source": [
    "if dupes_exist > 0:\n",
    "    dfu5 = dfu5.drop_duplicates()\n",
    "    dfu5.index = list(range(len(dfu5)))\n",
    "    "
   ]
  },
  {
   "cell_type": "markdown",
   "metadata": {},
   "source": [
    "#### show unique contract_num numbers"
   ]
  },
  {
   "cell_type": "code",
   "execution_count": 97,
   "metadata": {},
   "outputs": [
    {
     "data": {
      "text/plain": [
       "array([  7,   1,   2,   3,   4,   5,   6,   9,   8,  23,  10,  11,  12,\n",
       "        13,  14,  15,  16,  17,  18,  19,  20,  21,  22,  70,  24,  25,\n",
       "        26,  27,  28,  29,  30,  31,  32,  33,  34,  35,  36,  37,  38,\n",
       "        39,  40,  41,  42,  43,  44,  45,  46,  47,  48,  49,  50,  51,\n",
       "        52,  53,  54,  55,  56,  57,  58,  59,  60,  61,  62,  63,  64,\n",
       "        65,  66,  67,  68,  69,  71,  72,  73,  74,  75,  76,  77,  78,\n",
       "       120,  79,  80,  81,  82,  83,  84,  85,  86,  87,  88,  89,  90,\n",
       "        91,  92,  93,  94,  95,  96,  97,  98,  99, 100, 101, 102, 103,\n",
       "       104, 105, 106, 107, 108, 109, 110, 111, 112, 113, 114, 115, 116,\n",
       "       117, 118, 119, 121])"
      ]
     },
     "execution_count": 97,
     "metadata": {},
     "output_type": "execute_result"
    }
   ],
   "source": [
    "dfu5.contract_num.unique()"
   ]
  },
  {
   "cell_type": "markdown",
   "metadata": {},
   "source": [
    "### NOW WRITE THE DATA FOR ALL YEARs\n"
   ]
  },
  {
   "cell_type": "markdown",
   "metadata": {},
   "source": [
    "#### First create an instance of PgPandas"
   ]
  },
  {
   "cell_type": "code",
   "execution_count": 98,
   "metadata": {},
   "outputs": [
    {
     "name": "stdout",
     "output_type": "stream",
     "text": [
      "/Users/bperlman1/Documents/billybyte/pyliverisk/barchartacs/barchartacs/temp_folder/df_all_temp.csv\n",
      "  sec_db\n",
      "sec_schema.underlying_table_test\n",
      "['symbol', 'settle_date', 'contract_num', 'open', 'high', 'low', 'close', 'adj_close', 'volume', 'open_interest']\n",
      "creating csv file ./temp_folder/df_all_temp.csv: 2019-07-01 14:21:17.293629\n"
     ]
    }
   ],
   "source": [
    "csv_temp_path = './temp_folder/df_all_temp.csv'\n",
    "print(os.path.abspath(csv_temp_path))\n",
    "pga = db_info.get_db_info()\n",
    "tbname = 'sec_schema.underlying_table'\n",
    "print(tbname)\n",
    "col_tuple_list =   [('symbol','text'),('settle_date','integer'),('contract_num','integer'),\n",
    "     ('open','numeric'),('high','numeric'),('low','numeric'),('close','numeric'),\n",
    "     ('adj_close','numeric'),('volume','integer'),('open_interest','integer')]\n",
    "col_list = [l[0] for l in col_tuple_list]\n",
    "print(col_list)\n",
    "print(f'creating csv file {csv_temp_path}: {datetime.datetime.now()}')\n",
    "dfu5[col_list].to_csv(csv_temp_path,index=False)\n"
   ]
  },
  {
   "cell_type": "markdown",
   "metadata": {},
   "source": [
    "#### Delete all rows if necessary"
   ]
  },
  {
   "cell_type": "code",
   "execution_count": 107,
   "metadata": {},
   "outputs": [
    {
     "data": {
      "text/plain": [
       "'create table sec_schema.underlying_table(symbol text not null,settle_date integer not null,contract_num integer not null,open numeric not null,high numeric not null,low numeric not null,close numeric not null,adj_close numeric not null,volume integer not null,open_interest integer not null, primary key(symbol,settle_date));'"
      ]
     },
     "execution_count": 107,
     "metadata": {},
     "output_type": "execute_result"
    }
   ],
   "source": [
    "table_create"
   ]
  },
  {
   "cell_type": "code",
   "execution_count": 106,
   "metadata": {},
   "outputs": [
    {
     "data": {
      "text/html": [
       "<div>\n",
       "<style scoped>\n",
       "    .dataframe tbody tr th:only-of-type {\n",
       "        vertical-align: middle;\n",
       "    }\n",
       "\n",
       "    .dataframe tbody tr th {\n",
       "        vertical-align: top;\n",
       "    }\n",
       "\n",
       "    .dataframe thead th {\n",
       "        text-align: right;\n",
       "    }\n",
       "</style>\n",
       "<table border=\"1\" class=\"dataframe\">\n",
       "  <thead>\n",
       "    <tr style=\"text-align: right;\">\n",
       "      <th></th>\n",
       "      <th>count</th>\n",
       "    </tr>\n",
       "  </thead>\n",
       "  <tbody>\n",
       "    <tr>\n",
       "      <th>0</th>\n",
       "      <td>0</td>\n",
       "    </tr>\n",
       "  </tbody>\n",
       "</table>\n",
       "</div>"
      ],
      "text/plain": [
       "   count\n",
       "0      0"
      ]
     },
     "execution_count": 106,
     "metadata": {},
     "output_type": "execute_result"
    }
   ],
   "source": [
    "\n",
    "if DELETE_ALL:\n",
    "    # drop table\n",
    "    sql = f\"drop table IF EXISTS {tbname}\"\n",
    "    pga.exec_sql_raw(sql) \n",
    "    # re create it\n",
    "    table_create = f'create table {tbname}('\n",
    "    table_create += ','.join([f\"{l[0]} {l[1]} not null\" for l in col_tuple_list])\n",
    "    table_create += ', primary key(symbol,settle_date));'\n",
    "    pga.exec_sql_raw(table_create) \n",
    "    \n",
    "pga.get_sql(f\"select count(*) from {tbname}\")"
   ]
  },
  {
   "cell_type": "code",
   "execution_count": 100,
   "metadata": {},
   "outputs": [
    {
     "data": {
      "text/plain": [
       "['symbol',\n",
       " 'settle_date',\n",
       " 'contract_num',\n",
       " 'open',\n",
       " 'high',\n",
       " 'low',\n",
       " 'close',\n",
       " 'adj_close',\n",
       " 'volume',\n",
       " 'open_interest']"
      ]
     },
     "execution_count": 100,
     "metadata": {},
     "output_type": "execute_result"
    }
   ],
   "source": [
    "col_list"
   ]
  },
  {
   "cell_type": "code",
   "execution_count": 101,
   "metadata": {},
   "outputs": [
    {
     "name": "stdout",
     "output_type": "stream",
     "text": [
      "writing data all to database BEGIN: 2019-07-01 14:23:40.820580\n",
      "COPY sec_schema.underlying_table_test FROM '/Users/bperlman1/Documents/billybyte/pyliverisk/barchartacs/barchartacs/temp_folder/df_all_temp.csv' DELIMITER ',' CSV HEADER;\n",
      "open Dbeaver and copy the sql COPY command into it and execute it\n",
      "writing data all to database END: 2019-07-01 14:23:40.822112\n"
     ]
    }
   ],
   "source": [
    "if WRITE_DATA:\n",
    "    clist = [l[0] for l in col_list]\n",
    "    print(f'writing data all to database BEGIN: {datetime.datetime.now()}')\n",
    "    abspath = os.path.abspath(csv_temp_path)\n",
    "    sql = f\"COPY {tbname} FROM '{abspath}' DELIMITER ',' CSV HEADER;\"\n",
    "#     sql = f\"COPY sec_schema.underlying_table_test FROM '{abspath}' DELIMITER ',' CSV HEADER;\"\n",
    "    print(sql)\n",
    "#     pga.exec_sql_raw(sql) \n",
    "    print('open Dbeaver and copy the sql COPY command into it and execute it')\n",
    "    print(f'writing data all to database END: {datetime.datetime.now()}')\n",
    "    pass"
   ]
  },
  {
   "cell_type": "code",
   "execution_count": 108,
   "metadata": {},
   "outputs": [
    {
     "name": "stdout",
     "output_type": "stream",
     "text": [
      "select * from sec_schema.underlying_table where substring(symbol,1,2) = 'CB'   limit 3;\n"
     ]
    },
    {
     "data": {
      "text/html": [
       "<div>\n",
       "<style scoped>\n",
       "    .dataframe tbody tr th:only-of-type {\n",
       "        vertical-align: middle;\n",
       "    }\n",
       "\n",
       "    .dataframe tbody tr th {\n",
       "        vertical-align: top;\n",
       "    }\n",
       "\n",
       "    .dataframe thead th {\n",
       "        text-align: right;\n",
       "    }\n",
       "</style>\n",
       "<table border=\"1\" class=\"dataframe\">\n",
       "  <thead>\n",
       "    <tr style=\"text-align: right;\">\n",
       "      <th></th>\n",
       "      <th>symbol</th>\n",
       "      <th>settle_date</th>\n",
       "      <th>contract_num</th>\n",
       "      <th>open</th>\n",
       "      <th>high</th>\n",
       "      <th>low</th>\n",
       "      <th>close</th>\n",
       "      <th>adj_close</th>\n",
       "      <th>volume</th>\n",
       "      <th>open_interest</th>\n",
       "    </tr>\n",
       "  </thead>\n",
       "  <tbody>\n",
       "    <tr>\n",
       "      <th>0</th>\n",
       "      <td>CBZ99</td>\n",
       "      <td>20100901</td>\n",
       "      <td>70</td>\n",
       "      <td>75.64</td>\n",
       "      <td>75.64</td>\n",
       "      <td>75.64</td>\n",
       "      <td>75.64</td>\n",
       "      <td>75.64</td>\n",
       "      <td>0</td>\n",
       "      <td>0</td>\n",
       "    </tr>\n",
       "    <tr>\n",
       "      <th>1</th>\n",
       "      <td>CBV10</td>\n",
       "      <td>20100901</td>\n",
       "      <td>1</td>\n",
       "      <td>74.46</td>\n",
       "      <td>76.76</td>\n",
       "      <td>74.42</td>\n",
       "      <td>76.35</td>\n",
       "      <td>76.35</td>\n",
       "      <td>188333</td>\n",
       "      <td>208390</td>\n",
       "    </tr>\n",
       "    <tr>\n",
       "      <th>2</th>\n",
       "      <td>CBX10</td>\n",
       "      <td>20100901</td>\n",
       "      <td>2</td>\n",
       "      <td>74.76</td>\n",
       "      <td>77.14</td>\n",
       "      <td>74.75</td>\n",
       "      <td>76.72</td>\n",
       "      <td>76.72</td>\n",
       "      <td>90252</td>\n",
       "      <td>169853</td>\n",
       "    </tr>\n",
       "  </tbody>\n",
       "</table>\n",
       "</div>"
      ],
      "text/plain": [
       "  symbol  settle_date  contract_num   open   high    low  close  adj_close  \\\n",
       "0  CBZ99     20100901            70  75.64  75.64  75.64  75.64      75.64   \n",
       "1  CBV10     20100901             1  74.46  76.76  74.42  76.35      76.35   \n",
       "2  CBX10     20100901             2  74.76  77.14  74.75  76.72      76.72   \n",
       "\n",
       "   volume  open_interest  \n",
       "0       0              0  \n",
       "1  188333         208390  \n",
       "2   90252         169853  "
      ]
     },
     "metadata": {},
     "output_type": "display_data"
    },
    {
     "name": "stdout",
     "output_type": "stream",
     "text": [
      "select * from sec_schema.underlying_table where substring(symbol,1,2) = 'CB' and substring(symbol,3,1) in ('G','N')  limit 3;\n"
     ]
    },
    {
     "data": {
      "text/html": [
       "<div>\n",
       "<style scoped>\n",
       "    .dataframe tbody tr th:only-of-type {\n",
       "        vertical-align: middle;\n",
       "    }\n",
       "\n",
       "    .dataframe tbody tr th {\n",
       "        vertical-align: top;\n",
       "    }\n",
       "\n",
       "    .dataframe thead th {\n",
       "        text-align: right;\n",
       "    }\n",
       "</style>\n",
       "<table border=\"1\" class=\"dataframe\">\n",
       "  <thead>\n",
       "    <tr style=\"text-align: right;\">\n",
       "      <th></th>\n",
       "      <th>symbol</th>\n",
       "      <th>settle_date</th>\n",
       "      <th>contract_num</th>\n",
       "      <th>open</th>\n",
       "      <th>high</th>\n",
       "      <th>low</th>\n",
       "      <th>close</th>\n",
       "      <th>adj_close</th>\n",
       "      <th>volume</th>\n",
       "      <th>open_interest</th>\n",
       "    </tr>\n",
       "  </thead>\n",
       "  <tbody>\n",
       "    <tr>\n",
       "      <th>0</th>\n",
       "      <td>CBG11</td>\n",
       "      <td>20100901</td>\n",
       "      <td>5</td>\n",
       "      <td>76.76</td>\n",
       "      <td>78.80</td>\n",
       "      <td>76.76</td>\n",
       "      <td>78.52</td>\n",
       "      <td>78.52</td>\n",
       "      <td>8166</td>\n",
       "      <td>26056</td>\n",
       "    </tr>\n",
       "    <tr>\n",
       "      <th>1</th>\n",
       "      <td>CBN11</td>\n",
       "      <td>20100901</td>\n",
       "      <td>10</td>\n",
       "      <td>0.00</td>\n",
       "      <td>81.24</td>\n",
       "      <td>81.24</td>\n",
       "      <td>81.24</td>\n",
       "      <td>81.24</td>\n",
       "      <td>1787</td>\n",
       "      <td>8237</td>\n",
       "    </tr>\n",
       "    <tr>\n",
       "      <th>2</th>\n",
       "      <td>CBG12</td>\n",
       "      <td>20100901</td>\n",
       "      <td>17</td>\n",
       "      <td>0.00</td>\n",
       "      <td>83.77</td>\n",
       "      <td>83.77</td>\n",
       "      <td>83.77</td>\n",
       "      <td>83.77</td>\n",
       "      <td>0</td>\n",
       "      <td>1579</td>\n",
       "    </tr>\n",
       "  </tbody>\n",
       "</table>\n",
       "</div>"
      ],
      "text/plain": [
       "  symbol  settle_date  contract_num   open   high    low  close  adj_close  \\\n",
       "0  CBG11     20100901             5  76.76  78.80  76.76  78.52      78.52   \n",
       "1  CBN11     20100901            10   0.00  81.24  81.24  81.24      81.24   \n",
       "2  CBG12     20100901            17   0.00  83.77  83.77  83.77      83.77   \n",
       "\n",
       "   volume  open_interest  \n",
       "0    8166          26056  \n",
       "1    1787           8237  \n",
       "2       0           1579  "
      ]
     },
     "metadata": {},
     "output_type": "display_data"
    }
   ],
   "source": [
    "def get_data_by_contract(pga,contract,\n",
    "            month_code_clause=None,\n",
    "             settle_date_clause=None,\n",
    "             limit=None):\n",
    "    futtab = tbname\n",
    "    cl_month_code = '' if month_code_clause is None else f\"and substring(symbol,3,1) {month_code_clause}\"\n",
    "    cl_sd = '' if settle_date_clause is None else f\"and 'settle_date {settle_date_clause}\"\n",
    "    clim = '' if limit is None else f\"limit {limit}\"\n",
    "    other_criteria = f'{cl_month_code} {cl_sd} {clim}'\n",
    "    sql = f\"select * from {tbname} where substring(symbol,1,2) = '{contract}' {other_criteria};\"\n",
    "    print(sql)\n",
    "    df=  pga.get_sql(sql)\n",
    "    return df\n",
    "\n",
    "dfc = get_data_by_contract(pga,'CB',limit=3)\n",
    "display(dfc)\n",
    "dfc = get_data_by_contract(pga,'CB',month_code_clause=\"in ('G','N')\",limit=3)\n",
    "display(dfc)\n"
   ]
  },
  {
   "cell_type": "code",
   "execution_count": 109,
   "metadata": {},
   "outputs": [
    {
     "data": {
      "text/html": [
       "<div>\n",
       "<style scoped>\n",
       "    .dataframe tbody tr th:only-of-type {\n",
       "        vertical-align: middle;\n",
       "    }\n",
       "\n",
       "    .dataframe tbody tr th {\n",
       "        vertical-align: top;\n",
       "    }\n",
       "\n",
       "    .dataframe thead th {\n",
       "        text-align: right;\n",
       "    }\n",
       "</style>\n",
       "<table border=\"1\" class=\"dataframe\">\n",
       "  <thead>\n",
       "    <tr style=\"text-align: right;\">\n",
       "      <th></th>\n",
       "      <th>symbol</th>\n",
       "      <th>settle_date</th>\n",
       "      <th>contract_num</th>\n",
       "      <th>open</th>\n",
       "      <th>high</th>\n",
       "      <th>low</th>\n",
       "      <th>close</th>\n",
       "      <th>adj_close</th>\n",
       "      <th>volume</th>\n",
       "      <th>open_interest</th>\n",
       "    </tr>\n",
       "  </thead>\n",
       "  <tbody>\n",
       "    <tr>\n",
       "      <th>0</th>\n",
       "      <td>A6Z99</td>\n",
       "      <td>20100901</td>\n",
       "      <td>7</td>\n",
       "      <td>0.8908</td>\n",
       "      <td>0.9115</td>\n",
       "      <td>0.8902</td>\n",
       "      <td>0.9115</td>\n",
       "      <td>0.9115</td>\n",
       "      <td>0</td>\n",
       "      <td>0</td>\n",
       "    </tr>\n",
       "    <tr>\n",
       "      <th>1</th>\n",
       "      <td>A6U10</td>\n",
       "      <td>20100901</td>\n",
       "      <td>1</td>\n",
       "      <td>0.8910</td>\n",
       "      <td>0.9104</td>\n",
       "      <td>0.8900</td>\n",
       "      <td>0.9072</td>\n",
       "      <td>0.9072</td>\n",
       "      <td>105813</td>\n",
       "      <td>98993</td>\n",
       "    </tr>\n",
       "    <tr>\n",
       "      <th>2</th>\n",
       "      <td>A6Z10</td>\n",
       "      <td>20100901</td>\n",
       "      <td>2</td>\n",
       "      <td>0.8820</td>\n",
       "      <td>0.9001</td>\n",
       "      <td>0.8808</td>\n",
       "      <td>0.8974</td>\n",
       "      <td>0.8974</td>\n",
       "      <td>451</td>\n",
       "      <td>3282</td>\n",
       "    </tr>\n",
       "    <tr>\n",
       "      <th>3</th>\n",
       "      <td>A6H11</td>\n",
       "      <td>20100901</td>\n",
       "      <td>3</td>\n",
       "      <td>0.0000</td>\n",
       "      <td>0.8878</td>\n",
       "      <td>0.8681</td>\n",
       "      <td>0.8878</td>\n",
       "      <td>0.8878</td>\n",
       "      <td>0</td>\n",
       "      <td>8</td>\n",
       "    </tr>\n",
       "    <tr>\n",
       "      <th>4</th>\n",
       "      <td>A6M11</td>\n",
       "      <td>20100901</td>\n",
       "      <td>4</td>\n",
       "      <td>0.0000</td>\n",
       "      <td>0.8782</td>\n",
       "      <td>0.8589</td>\n",
       "      <td>0.8782</td>\n",
       "      <td>0.8782</td>\n",
       "      <td>0</td>\n",
       "      <td>152</td>\n",
       "    </tr>\n",
       "    <tr>\n",
       "      <th>5</th>\n",
       "      <td>A6U11</td>\n",
       "      <td>20100901</td>\n",
       "      <td>5</td>\n",
       "      <td>0.0000</td>\n",
       "      <td>0.8686</td>\n",
       "      <td>0.8493</td>\n",
       "      <td>0.8686</td>\n",
       "      <td>0.8686</td>\n",
       "      <td>0</td>\n",
       "      <td>4</td>\n",
       "    </tr>\n",
       "    <tr>\n",
       "      <th>6</th>\n",
       "      <td>A6Z11</td>\n",
       "      <td>20100901</td>\n",
       "      <td>6</td>\n",
       "      <td>0.0000</td>\n",
       "      <td>0.8590</td>\n",
       "      <td>0.8397</td>\n",
       "      <td>0.8590</td>\n",
       "      <td>0.8590</td>\n",
       "      <td>0</td>\n",
       "      <td>0</td>\n",
       "    </tr>\n",
       "    <tr>\n",
       "      <th>7</th>\n",
       "      <td>ADZ99</td>\n",
       "      <td>20100901</td>\n",
       "      <td>7</td>\n",
       "      <td>0.8908</td>\n",
       "      <td>0.9115</td>\n",
       "      <td>0.8902</td>\n",
       "      <td>0.9115</td>\n",
       "      <td>0.9115</td>\n",
       "      <td>0</td>\n",
       "      <td>0</td>\n",
       "    </tr>\n",
       "    <tr>\n",
       "      <th>8</th>\n",
       "      <td>ADU10</td>\n",
       "      <td>20100901</td>\n",
       "      <td>1</td>\n",
       "      <td>0.9032</td>\n",
       "      <td>0.9080</td>\n",
       "      <td>0.9032</td>\n",
       "      <td>0.9072</td>\n",
       "      <td>0.9072</td>\n",
       "      <td>105813</td>\n",
       "      <td>98993</td>\n",
       "    </tr>\n",
       "    <tr>\n",
       "      <th>9</th>\n",
       "      <td>ADZ10</td>\n",
       "      <td>20100901</td>\n",
       "      <td>2</td>\n",
       "      <td>0.8972</td>\n",
       "      <td>0.8974</td>\n",
       "      <td>0.8972</td>\n",
       "      <td>0.8974</td>\n",
       "      <td>0.8974</td>\n",
       "      <td>451</td>\n",
       "      <td>3282</td>\n",
       "    </tr>\n",
       "  </tbody>\n",
       "</table>\n",
       "</div>"
      ],
      "text/plain": [
       "  symbol  settle_date  contract_num    open    high     low   close  \\\n",
       "0  A6Z99     20100901             7  0.8908  0.9115  0.8902  0.9115   \n",
       "1  A6U10     20100901             1  0.8910  0.9104  0.8900  0.9072   \n",
       "2  A6Z10     20100901             2  0.8820  0.9001  0.8808  0.8974   \n",
       "3  A6H11     20100901             3  0.0000  0.8878  0.8681  0.8878   \n",
       "4  A6M11     20100901             4  0.0000  0.8782  0.8589  0.8782   \n",
       "5  A6U11     20100901             5  0.0000  0.8686  0.8493  0.8686   \n",
       "6  A6Z11     20100901             6  0.0000  0.8590  0.8397  0.8590   \n",
       "7  ADZ99     20100901             7  0.8908  0.9115  0.8902  0.9115   \n",
       "8  ADU10     20100901             1  0.9032  0.9080  0.9032  0.9072   \n",
       "9  ADZ10     20100901             2  0.8972  0.8974  0.8972  0.8974   \n",
       "\n",
       "   adj_close  volume  open_interest  \n",
       "0     0.9115       0              0  \n",
       "1     0.9072  105813          98993  \n",
       "2     0.8974     451           3282  \n",
       "3     0.8878       0              8  \n",
       "4     0.8782       0            152  \n",
       "5     0.8686       0              4  \n",
       "6     0.8590       0              0  \n",
       "7     0.9115       0              0  \n",
       "8     0.9072  105813          98993  \n",
       "9     0.8974     451           3282  "
      ]
     },
     "execution_count": 109,
     "metadata": {},
     "output_type": "execute_result"
    }
   ],
   "source": [
    "pga.get_sql(\"select * from sec_schema.underlying_table limit 10\")\n"
   ]
  },
  {
   "cell_type": "code",
   "execution_count": null,
   "metadata": {},
   "outputs": [],
   "source": []
  }
 ],
 "metadata": {
  "kernelspec": {
   "display_name": "Python 3",
   "language": "python",
   "name": "python3"
  },
  "language_info": {
   "codemirror_mode": {
    "name": "ipython",
    "version": 3
   },
   "file_extension": ".py",
   "mimetype": "text/x-python",
   "name": "python",
   "nbconvert_exporter": "python",
   "pygments_lexer": "ipython3",
   "version": "3.6.5"
  }
 },
 "nbformat": 4,
 "nbformat_minor": 2
}
