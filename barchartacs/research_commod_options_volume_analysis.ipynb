{
 "cells": [
  {
   "cell_type": "markdown",
   "metadata": {},
   "source": [
    "## Research commodity options volume"
   ]
  },
  {
   "cell_type": "code",
   "execution_count": null,
   "metadata": {},
   "outputs": [],
   "source": [
    "import zipfile\n",
    "import glob\n",
    "import pandas as pd\n",
    "import numpy as np\n",
    "\n",
    "from argparse import ArgumentParser\n",
    "from argparse import RawDescriptionHelpFormatter\n",
    "import sys\n",
    "import os\n",
    "if  not './' in sys.path:\n",
    "    sys.path.append('./')\n",
    "if  not '../' in sys.path:\n",
    "    sys.path.append('../')\n",
    "\n",
    "from barchartacs import build_db\n",
    "from barchartacs import db_info\n",
    "import plotly.graph_objs as go\n",
    "from plotly.offline import  init_notebook_mode, iplot\n",
    "init_notebook_mode(connected=True)\n",
    "import plotly.tools as tls\n",
    "from plotly.graph_objs.layout import Font,Margin\n",
    "from IPython import display\n",
    "\n",
    "import datetime\n",
    "import io\n",
    "from tqdm import tqdm,tqdm_notebook\n",
    "from barchartacs import pg_pandas as pg\n",
    "import mibian\n",
    "import py_vollib\n",
    "import importlib\n",
    "from py_vollib import black\n",
    "from py_vollib.black import implied_volatility\n",
    "import ipdb\n",
    "import traceback\n",
    "import pandas_datareader.data as pdr\n",
    "\n",
    "# importlib.reload(build_db)"
   ]
  },
  {
   "cell_type": "markdown",
   "metadata": {},
   "source": [
    "## IF YOU WANT TO SEE WARNINGS, COMMENT THIS OUT"
   ]
  },
  {
   "cell_type": "code",
   "execution_count": null,
   "metadata": {},
   "outputs": [],
   "source": [
    "import warnings\n",
    "warnings.filterwarnings(\"ignore\")"
   ]
  },
  {
   "cell_type": "markdown",
   "metadata": {},
   "source": [
    "### important global variables"
   ]
  },
  {
   "cell_type": "code",
   "execution_count": null,
   "metadata": {},
   "outputs": [],
   "source": [
    "\n",
    "DEBUG_IT=False\n",
    "opttab = 'sec_schema.options_table'\n",
    "futtab = 'sec_schema.underlying_table'\n"
   ]
  },
  {
   "cell_type": "code",
   "execution_count": null,
   "metadata": {},
   "outputs": [],
   "source": [
    "def plotly_plot(df_in,x_column,plot_title=None,\n",
    "                y_left_label=None,y_right_label=None,\n",
    "                bar_plot=False,figsize=(16,10),\n",
    "                number_of_ticks_display=20,\n",
    "                yaxis2_cols=None,\n",
    "                x_value_labels=None):\n",
    "    ya2c = [] if yaxis2_cols is None else yaxis2_cols\n",
    "    ycols = [c for c in df_in.columns.values if c != x_column]\n",
    "    # create tdvals, which will have x axis labels\n",
    "    td = list(df_in[x_column]) \n",
    "    nt = len(df_in)-1 if number_of_ticks_display > len(df_in) else number_of_ticks_display\n",
    "    spacing = len(td)//nt\n",
    "    tdvals = td[::spacing]\n",
    "    tdtext = tdvals\n",
    "    if x_value_labels is not None:\n",
    "        tdtext = [x_value_labels[i] for i in tdvals]\n",
    "    \n",
    "    # create data for graph\n",
    "    data = []\n",
    "    # iterate through all ycols to append to data that gets passed to go.Figure\n",
    "    for ycol in ycols:\n",
    "        if bar_plot:\n",
    "            b = go.Bar(x=td,y=df_in[ycol],name=ycol,yaxis='y' if ycol not in ya2c else 'y2')\n",
    "        else:\n",
    "            b = go.Scatter(x=td,y=df_in[ycol],name=ycol,yaxis='y' if ycol not in ya2c else 'y2')\n",
    "        data.append(b)\n",
    "\n",
    "    # create a layout\n",
    "    layout = go.Layout(\n",
    "        title=plot_title,\n",
    "        xaxis=dict(\n",
    "            ticktext=tdtext,\n",
    "            tickvals=tdvals,\n",
    "            tickangle=45,\n",
    "            type='category'),\n",
    "        yaxis=dict(\n",
    "            title='y main' if y_left_label is None else y_left_label\n",
    "        ),\n",
    "        yaxis2=dict(\n",
    "            title='y alt' if y_right_label is None else y_right_label,\n",
    "            overlaying='y',\n",
    "            side='right'),\n",
    "        margin=Margin(\n",
    "            b=100\n",
    "        )        \n",
    "    )\n",
    "\n",
    "    fig = go.Figure(data=data,layout=layout)\n",
    "    fig.update_layout(\n",
    "        title={\n",
    "            'text': plot_title,\n",
    "            'y':0.9,\n",
    "            'x':0.5,\n",
    "            'xanchor': 'center',\n",
    "            'yanchor': 'top'})\n",
    "    return fig\n",
    "\n",
    "def plotly_shaded_rectangles(beg_end_date_tuple_list,fig):\n",
    "    ld_shapes = []\n",
    "    for beg_end_date_tuple in beg_end_date_tuple_list:\n",
    "        ld_beg = beg_end_date_tuple[0]\n",
    "        ld_end = beg_end_date_tuple[1]\n",
    "        ld_shape = dict(\n",
    "            type=\"rect\",\n",
    "            # x-reference is assigned to the x-values\n",
    "            xref=\"x\",\n",
    "            # y-reference is assigned to the plot paper [0,1]\n",
    "            yref=\"paper\",\n",
    "#             x0=ld_beg[i],\n",
    "            x0=ld_beg,\n",
    "            y0=0,\n",
    "#             x1=ld_end[i],\n",
    "            x1=ld_end,\n",
    "            y1=1,\n",
    "            fillcolor=\"LightSalmon\",\n",
    "            opacity=0.5,\n",
    "            layer=\"below\",\n",
    "            line_width=0,\n",
    "        )\n",
    "        ld_shapes.append(ld_shape)\n",
    "\n",
    "    fig.update_layout(shapes=ld_shapes)\n",
    "    return fig"
   ]
  },
  {
   "cell_type": "markdown",
   "metadata": {},
   "source": [
    "#### get all contracts in the options database"
   ]
  },
  {
   "cell_type": "code",
   "execution_count": null,
   "metadata": {
    "scrolled": false
   },
   "outputs": [],
   "source": [
    "pga = db_info.get_db_info()\n",
    "print(f\"futtab max date: {pga.get_sql(f'select max(settle_date) from {futtab}')}\")\n",
    "print(f\"opttab max date: {pga.get_sql(f'select max(settle_date) from {opttab}')}\")\n"
   ]
  },
  {
   "cell_type": "markdown",
   "metadata": {},
   "source": [
    "### analyse option volumes by day, to see largest volumes"
   ]
  },
  {
   "cell_type": "code",
   "execution_count": null,
   "metadata": {},
   "outputs": [],
   "source": [
    "vol_oi_dates_old = pga.get_sql(f\"select distinct settle_date from {opttab} order by settle_date desc\").settle_date.unique()\n",
    "vol_oi_dates_new = np.append(vol_oi_dates_old[1:],[-1])\n",
    "df_vol_oi_dates = pd.DataFrame({'settle_date':vol_oi_dates_old,'new_settle_date':vol_oi_dates_new})\n"
   ]
  },
  {
   "cell_type": "code",
   "execution_count": null,
   "metadata": {},
   "outputs": [],
   "source": [
    "def acs_adjust_vol_oi_date(df_with_wrong_vol_oi_date):\n",
    "    df_new = df_with_wrong_vol_oi_date.merge(df_vol_oi_dates,how='inner',on='settle_date')\n",
    "    df_new.settle_date = df_new.new_settle_date\n",
    "    df_new = df_new[df_new.settle_date>-1]\n",
    "    return df_new\n"
   ]
  },
  {
   "cell_type": "code",
   "execution_count": null,
   "metadata": {
    "scrolled": true
   },
   "outputs": [],
   "source": [
    "sql_cl_opt_vol_by_date = f\"\"\"\n",
    "select strike,pc,volume,open_interest  from sec_schema.options_table \n",
    "where settle_date = 20200302 and symbol = 'CLM20'\n",
    "order by strike,pc \n",
    "\"\"\"\n",
    "df_sql_cl_opt_vol_by_date = pga.get_sql(sql_cl_opt_vol_by_date)\n",
    "# df_sql_cl_opt_vol_by_date[(df_sql_cl_opt_vol_by_date.pc=='C') & (df_sql_cl_opt_vol_by_date.volsum>0)]\n",
    "df_sql_cl_opt_vol_by_date[(df_sql_cl_opt_vol_by_date.pc=='C') ].head(40)\n"
   ]
  },
  {
   "cell_type": "code",
   "execution_count": null,
   "metadata": {},
   "outputs": [],
   "source": [
    "\n",
    "sql_cl_opt_vol_by_date = f\"\"\"\n",
    "select settle_date,sum(volume) volsum, sum(open_interest) oi_sum from sec_schema.options_table \n",
    "where settle_date >= 20200220 and symbol like 'CL%%'\n",
    "group by settle_date\n",
    "order by settle_date desc\n",
    "\"\"\"\n",
    "df_volsum = pga.get_sql(sql_cl_opt_vol_by_date)\n"
   ]
  },
  {
   "cell_type": "code",
   "execution_count": null,
   "metadata": {},
   "outputs": [],
   "source": [
    "acs_adjust_vol_oi_date(df_volsum)"
   ]
  },
  {
   "cell_type": "code",
   "execution_count": null,
   "metadata": {},
   "outputs": [],
   "source": [
    "b = df_volsum.settle_date.values\n",
    "print(b)\n",
    "b = b[1:]\n",
    "print(np.append(b,[-1]))"
   ]
  },
  {
   "cell_type": "code",
   "execution_count": null,
   "metadata": {},
   "outputs": [],
   "source": [
    "sql_cl_opts_vol_by_put_call = f\"\"\"\n",
    "with\n",
    "f1 as (\n",
    "    select settle_date,pc,symbol,sum(volume) vol_sum_by_pc from sec_schema.options_table\n",
    "    where settle_date>=20200101 and symbol like 'CL%%' and volume>0\n",
    "    group by settle_date, pc,symbol\n",
    "    order by settle_date, pc,symbol\n",
    "),\n",
    "f2 as\n",
    "(\n",
    "    select settle_date,symbol,sum(vol_sum_by_pc) vol_sum_by_symbol\n",
    "    from f1\n",
    "    group by settle_date,symbol\n",
    "),\n",
    "f3 as\n",
    "(\n",
    "    select f1.*, f2.vol_sum_by_symbol from f1\n",
    "    join f2 on f1.settle_date  = f2.settle_date and f1.symbol = f2.symbol\n",
    "    order by f2.vol_sum_by_symbol desc,f1.settle_date,f1.pc\n",
    ")\n",
    "select * from f3\n",
    "\"\"\"\n",
    "df_cl_opts_vol_by_put_call = pga.get_sql(sql_cl_opts_vol_by_put_call)\n"
   ]
  },
  {
   "cell_type": "code",
   "execution_count": null,
   "metadata": {},
   "outputs": [],
   "source": [
    "df_cl_opts_vol_by_put_call_C = df_cl_opts_vol_by_put_call[df_cl_opts_vol_by_put_call.pc=='C']\n",
    "df_cl_opts_vol_by_put_call_C = df_cl_opts_vol_by_put_call_C.rename(columns={'vol_sum_by_pc':'vol_sum_C'})\n",
    "df_cl_opts_vol_by_put_call_C = df_cl_opts_vol_by_put_call_C[['settle_date','symbol','vol_sum_C','vol_sum_by_symbol']]\n",
    "df_cl_opts_vol_by_put_call_C.index = list(range(len(df_cl_opts_vol_by_put_call_C)))\n",
    "df_cl_opts_vol_by_put_call_P = df_cl_opts_vol_by_put_call[df_cl_opts_vol_by_put_call.pc=='P']\n",
    "df_cl_opts_vol_by_put_call_P = df_cl_opts_vol_by_put_call_P.rename(columns={'vol_sum_by_pc':'vol_sum_P'})\n",
    "df_cl_opts_vol_by_put_call_P = df_cl_opts_vol_by_put_call_P[['settle_date','symbol','vol_sum_P']]\n",
    "df_cl_opts_vol_by_put_call_P.index = list(range(len(df_cl_opts_vol_by_put_call_P)))\n",
    "df_cl_opts_vol = df_cl_opts_vol_by_put_call_C.merge(df_cl_opts_vol_by_put_call_P,how='inner',\n",
    "                                                 on=['settle_date','symbol'])\n",
    "df_cl_opts_vol['pc_vol_diff'] = df_cl_opts_vol.vol_sum_C - df_cl_opts_vol.vol_sum_P\n",
    "df_cl_opts_vol = acs_adjust_vol_oi_date(df_cl_opts_vol)\n",
    "display.display(df_cl_opts_vol[['settle_date','symbol','vol_sum_C','vol_sum_P','pc_vol_diff','vol_sum_by_symbol']].head(20))\n"
   ]
  },
  {
   "cell_type": "code",
   "execution_count": null,
   "metadata": {
    "scrolled": true
   },
   "outputs": [],
   "source": [
    "df_cl_opts_vol_sum_by_date = df_cl_opts_vol[['settle_date','vol_sum_C','vol_sum_P','vol_sum_by_symbol']].groupby('settle_date').sum()\n",
    "df_cl_opts_vol_sum_by_date = df_cl_opts_vol_sum_by_date.sort_values('settle_date',ascending=False)\n",
    "df_cl_opts_vol_sum_by_date"
   ]
  },
  {
   "cell_type": "code",
   "execution_count": null,
   "metadata": {},
   "outputs": [],
   "source": [
    "sql_opt_expir = f\"\"\"\n",
    "with\n",
    "f1 as\n",
    "(\n",
    "    select symbol,concat(substring(symbol,1,2),substring(symbol,4,2),substring(symbol,3,1)) as sym,settle_date\n",
    "    from sec_schema.options_table\n",
    "    where settle_date>=20160101 and symbol like 'CL%%' and volume>0\n",
    ")\n",
    "select * from f1\n",
    "\"\"\"\n",
    "df_sql_opt_expir = pga.get_sql(sql_opt_expir)\n"
   ]
  },
  {
   "cell_type": "code",
   "execution_count": null,
   "metadata": {
    "scrolled": true
   },
   "outputs": [],
   "source": [
    "df_sql_opt_expir_last_day = df_sql_opt_expir[['settle_date','symbol','sym']].groupby(['symbol','sym'],as_index=False).max()\n",
    "df_sql_opt_expir_last_day = df_sql_opt_expir_last_day[df_sql_opt_expir_last_day.sym<='CL20G']\n",
    "df_sql_opt_expir_last_day\n"
   ]
  },
  {
   "cell_type": "code",
   "execution_count": null,
   "metadata": {},
   "outputs": [],
   "source": [
    "sql_cl_opts_vol_by_date = f\"\"\"\n",
    "with\n",
    "f1 as (\n",
    "    select settle_date,volume from sec_schema.options_table\n",
    "    where settle_date>=20160101 and symbol like 'CL%%' and volume>0\n",
    "),\n",
    "f2 as\n",
    "(\n",
    "    select settle_date,sum(volume) vol_sum\n",
    "    from f1\n",
    "    group by settle_date\n",
    "    order by settle_date\n",
    ")\n",
    "select * from f2\n",
    "\"\"\"\n",
    "df_cl_opts_vol_date = pga.get_sql(sql_cl_opts_vol_by_date)\n"
   ]
  },
  {
   "cell_type": "code",
   "execution_count": null,
   "metadata": {},
   "outputs": [],
   "source": [
    "fig = go.Figure()\n",
    "\n",
    "# Add scatter trace for line\n",
    "fig.add_trace(go.Scatter(\n",
    "    x=[\"2015-02-01\", \"2015-02-02\", \"2015-02-03\", \"2015-02-04\", \"2015-02-05\",\n",
    "       \"2015-02-06\", \"2015-02-07\", \"2015-02-08\", \"2015-02-09\", \"2015-02-10\",\n",
    "       \"2015-02-11\", \"2015-02-12\", \"2015-02-13\", \"2015-02-14\", \"2015-02-15\",\n",
    "       \"2015-02-16\", \"2015-02-17\", \"2015-02-18\", \"2015-02-19\", \"2015-02-20\",\n",
    "       \"2015-02-21\", \"2015-02-22\", \"2015-02-23\", \"2015-02-24\", \"2015-02-25\",\n",
    "       \"2015-02-26\", \"2015-02-27\", \"2015-02-28\"],\n",
    "    y=[-14, -17, -8, -4, -7, -10, -12, -14, -12, -7, -11, -7, -18, -14, -14,\n",
    "       -16, -13, -7, -8, -14, -8, -3, -9, -9, -4, -13, -9, -6],\n",
    "    mode=\"lines\",\n",
    "    name=\"temperature\"\n",
    "))\n",
    "\n",
    "# Add shape regions\n",
    "fig.update_layout(\n",
    "    shapes=[\n",
    "        # 1st highlight during Feb 4 - Feb 6\n",
    "        dict(\n",
    "            type=\"rect\",\n",
    "            # x-reference is assigned to the x-values\n",
    "            xref=\"x\",\n",
    "            # y-reference is assigned to the plot paper [0,1]\n",
    "            yref=\"paper\",\n",
    "            x0=\"2015-02-04\",\n",
    "            y0=0,\n",
    "            x1=\"2015-02-06\",\n",
    "            y1=1,\n",
    "            fillcolor=\"LightSalmon\",\n",
    "            opacity=0.5,\n",
    "            layer=\"below\",\n",
    "            line_width=0,\n",
    "        ),\n",
    "        # 2nd highlight during Feb 20 - Feb 23\n",
    "        dict(\n",
    "            type=\"rect\",\n",
    "            xref=\"x\",\n",
    "            yref=\"paper\",\n",
    "            x0=\"2015-02-20\",\n",
    "            y0=0,\n",
    "            x1=\"2015-02-22\",\n",
    "            y1=1,\n",
    "            fillcolor=\"LightSalmon\",\n",
    "            opacity=0.5,\n",
    "            layer=\"below\",\n",
    "            line_width=0,\n",
    "        )\n",
    "    ]\n",
    ")\n",
    "\n",
    "fig.show()"
   ]
  },
  {
   "cell_type": "code",
   "execution_count": null,
   "metadata": {
    "scrolled": false
   },
   "outputs": [],
   "source": [
    "df_cl_opts_vol_date2 = df_cl_opts_vol_date.copy()\n",
    "df_cl_opts_vol_date2['is_ld'] = df_cl_opts_vol_date2.settle_date.apply(\n",
    "    lambda d:1 if d in df_sql_opt_expir_last_day.settle_date.unique() else 0)\n",
    "df_cl_opts_vol_date2['yyyy'] = df_cl_opts_vol_date2.settle_date.apply(lambda d:int(str(d)[0:4]))   \n",
    "for y in np.sort(df_cl_opts_vol_date2.yyyy.unique()):\n",
    "    df_yyyy = df_cl_opts_vol_date2[df_cl_opts_vol_date2.yyyy==y]\n",
    "    fig = plotly_plot(\n",
    "            df_in=df_yyyy[['settle_date','vol_sum']],\n",
    "            x_column='settle_date',\n",
    "            plot_title=f'Option Volume {y} (Expiration in Orange)',\n",
    "            y_left_label='Total Options Volume Per Day'\n",
    "        )\n",
    "    \n",
    "    df_yyyy['is_ld_end'] = df_yyyy.is_ld.shift(1)\n",
    "    df_yyyy['is_ld_beg'] = df_yyyy.is_ld.shift(-1)\n",
    "    ld_beg = df_yyyy[df_yyyy.is_ld_beg==1].settle_date.values\n",
    "    ld_end = df_yyyy[df_yyyy.is_ld_end==1].settle_date.values\n",
    "\n",
    "    ld_shapes = []\n",
    "    for i in range(min(len(ld_beg),len(ld_end))):\n",
    "        ld_shape = dict(\n",
    "            type=\"rect\",\n",
    "            # x-reference is assigned to the x-values\n",
    "            xref=\"x\",\n",
    "            # y-reference is assigned to the plot paper [0,1]\n",
    "            yref=\"paper\",\n",
    "            x0=ld_beg[i],\n",
    "            y0=0,\n",
    "            x1=ld_end[i],\n",
    "            y1=1,\n",
    "            fillcolor=\"LightSalmon\",\n",
    "            opacity=0.5,\n",
    "            layer=\"below\",\n",
    "            line_width=0,\n",
    "        )\n",
    "        ld_shapes.append(ld_shape)\n",
    "\n",
    "    fig.update_layout(shapes=ld_shapes)\n",
    "    iplot(fig)\n"
   ]
  },
  {
   "cell_type": "code",
   "execution_count": null,
   "metadata": {
    "scrolled": false
   },
   "outputs": [],
   "source": [
    "sql_cl_opts_oi_by_put_call = f\"\"\"\n",
    "with\n",
    "f1 as (\n",
    "    select settle_date,pc,symbol,sum(open_interest) oi_sum_by_pc from sec_schema.options_table\n",
    "    where settle_date>=20200225 and symbol like 'CL%%' and open_interest>0\n",
    "    group by settle_date, pc,symbol\n",
    "    order by settle_date, pc,symbol\n",
    "),\n",
    "f2 as\n",
    "(\n",
    "    select settle_date,symbol,sum(oi_sum_by_pc) oi_sum_by_symbol\n",
    "    from f1\n",
    "    group by settle_date,symbol\n",
    "),\n",
    "f3 as\n",
    "(\n",
    "    select f1.*, f2.oi_sum_by_symbol from f1\n",
    "    join f2 on f1.settle_date  = f2.settle_date and f1.symbol = f2.symbol\n",
    "    order by f2.oi_sum_by_symbol desc,f1.settle_date,f1.pc\n",
    ")\n",
    "select * from f3\n",
    "\"\"\"\n",
    "df_cl_opts_oi_by_put_call = pga.get_sql(sql_cl_opts_oi_by_put_call)\n",
    "\n",
    "\n"
   ]
  },
  {
   "cell_type": "code",
   "execution_count": null,
   "metadata": {},
   "outputs": [],
   "source": [
    "df_cl_opts_oi_by_put_call_C = df_cl_opts_oi_by_put_call[df_cl_opts_oi_by_put_call.pc=='C']\n",
    "df_cl_opts_oi_by_put_call_C = df_cl_opts_oi_by_put_call_C.rename(columns={'oi_sum_by_pc':'oi_sum_C'})\n",
    "df_cl_opts_oi_by_put_call_C = df_cl_opts_oi_by_put_call_C[['settle_date','symbol','oi_sum_C','oi_sum_by_symbol']]\n",
    "df_cl_opts_oi_by_put_call_P = df_cl_opts_oi_by_put_call[df_cl_opts_oi_by_put_call.pc=='P']\n",
    "df_cl_opts_oi_by_put_call_P = df_cl_opts_oi_by_put_call_P.rename(columns={'oi_sum_by_pc':'oi_sum_P'})\n",
    "df_cl_opts_oi_by_put_call_P = df_cl_opts_oi_by_put_call_P[['settle_date','symbol','oi_sum_P']]\n",
    "df_cl_opts_oi = df_cl_opts_oi_by_put_call_C.merge(df_cl_opts_oi_by_put_call_P,how='inner',\n",
    "                                                 on=['settle_date','symbol'])\n",
    "df_cl_opts_oi['pc_oi_diff'] = df_cl_opts_oi.oi_sum_C - df_cl_opts_oi.oi_sum_P\n",
    "display.display(df_cl_opts_oi[['settle_date','symbol','oi_sum_C','oi_sum_P','pc_oi_diff','oi_sum_by_symbol']].head(20))\n"
   ]
  },
  {
   "cell_type": "code",
   "execution_count": null,
   "metadata": {},
   "outputs": [],
   "source": [
    "df_cl_opts_oi_sum_by_date = df_cl_opts_oi[['settle_date','oi_sum_by_symbol']].groupby('settle_date').sum()\n",
    "df_cl_opts_oi_sum_by_date = df_cl_opts_oi_sum_by_date.sort_values('oi_sum_by_symbol',ascending=False)\n",
    "df_cl_opts_oi_sum_by_date"
   ]
  },
  {
   "cell_type": "code",
   "execution_count": null,
   "metadata": {},
   "outputs": [],
   "source": [
    "# df_cl_opts_oi.to_csv('temp_folder/LO_open_interest_by_day.csv',index=False)"
   ]
  },
  {
   "cell_type": "code",
   "execution_count": null,
   "metadata": {},
   "outputs": [],
   "source": [
    "len(df_cl_opts_oi)"
   ]
  },
  {
   "cell_type": "code",
   "execution_count": null,
   "metadata": {},
   "outputs": [],
   "source": [
    "sql = f\"\"\"\n",
    "select settle_date,open_interest from {futtab} f\n",
    "where f.settle_date>=20180101 and f.contract_num=CN and substring(symbol,1,2)='CL'\n",
    "\"\"\"\n",
    "sql1 = sql.replace('CN','1')\n",
    "df1 = pga.get_sql(sql1)\n",
    "sql2 = sql.replace('CN','2')\n",
    "df2 = pga.get_sql(sql2)\n"
   ]
  },
  {
   "cell_type": "code",
   "execution_count": null,
   "metadata": {},
   "outputs": [],
   "source": [
    "df1_oi = df1.rename(columns={'open_interest':'m1_oi'})\n",
    "df2_oi = df2.rename(columns={'open_interest':'m2_oi'})\n",
    "dfb = df1_oi.merge(df2_oi,on='settle_date',how='inner')\n",
    "dfb['oi_diff'] = dfb.m1_oi - dfb.m2_oi"
   ]
  },
  {
   "cell_type": "code",
   "execution_count": null,
   "metadata": {},
   "outputs": [],
   "source": [
    "iplot(plotly_plot(df_in=dfb[['settle_date','oi_diff']],x_column='settle_date',plot_title='Open Interest Month1 - Open Interest Month2'))"
   ]
  },
  {
   "cell_type": "code",
   "execution_count": null,
   "metadata": {},
   "outputs": [],
   "source": [
    "dfb2 = dfb[dfb.settle_date>=20200120]\n",
    "fig = plotly_plot(df_in=dfb2[['settle_date','oi_diff']],x_column='settle_date',\n",
    "                 plot_title='Open Interest Month1 - Open Interest Month2 (Last 4 rolls)')\n",
    "shade_dates = [(20200121,20200212),(20200220,20200311),(20200320,20200413),(20200421,20200427)]\n",
    "fig = plotly_shaded_rectangles(shade_dates,fig)\n",
    "iplot(fig)"
   ]
  },
  {
   "cell_type": "code",
   "execution_count": null,
   "metadata": {},
   "outputs": [],
   "source": []
  },
  {
   "cell_type": "markdown",
   "metadata": {},
   "source": [
    "## END"
   ]
  }
 ],
 "metadata": {
  "kernelspec": {
   "display_name": "Python 3",
   "language": "python",
   "name": "python3"
  },
  "language_info": {
   "codemirror_mode": {
    "name": "ipython",
    "version": 3
   },
   "file_extension": ".py",
   "mimetype": "text/x-python",
   "name": "python",
   "nbconvert_exporter": "python",
   "pygments_lexer": "ipython3",
   "version": "3.6.5"
  }
 },
 "nbformat": 4,
 "nbformat_minor": 2
}
