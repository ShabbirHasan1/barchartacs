{
 "cells": [
  {
   "cell_type": "markdown",
   "metadata": {},
   "source": [
    "## Research commodity options volume"
   ]
  },
  {
   "cell_type": "code",
   "execution_count": 1,
   "metadata": {},
   "outputs": [
    {
     "data": {
      "text/html": [
       "        <script type=\"text/javascript\">\n",
       "        window.PlotlyConfig = {MathJaxConfig: 'local'};\n",
       "        if (window.MathJax) {MathJax.Hub.Config({SVG: {font: \"STIX-Web\"}});}\n",
       "        if (typeof require !== 'undefined') {\n",
       "        require.undef(\"plotly\");\n",
       "        requirejs.config({\n",
       "            paths: {\n",
       "                'plotly': ['https://cdn.plot.ly/plotly-latest.min']\n",
       "            }\n",
       "        });\n",
       "        require(['plotly'], function(Plotly) {\n",
       "            window._Plotly = Plotly;\n",
       "        });\n",
       "        }\n",
       "        </script>\n",
       "        "
      ]
     },
     "metadata": {},
     "output_type": "display_data"
    },
    {
     "name": "stderr",
     "output_type": "stream",
     "text": [
      "/Users/bperlman1/Virtualenvs3/dashrisk5/lib/python3.6/site-packages/pandas_datareader/compat/__init__.py:7: FutureWarning:\n",
      "\n",
      "pandas.util.testing is deprecated. Use the functions in the public API at pandas.testing instead.\n",
      "\n"
     ]
    }
   ],
   "source": [
    "import zipfile\n",
    "import glob\n",
    "import pandas as pd\n",
    "import numpy as np\n",
    "\n",
    "from argparse import ArgumentParser\n",
    "from argparse import RawDescriptionHelpFormatter\n",
    "import sys\n",
    "import os\n",
    "if  not './' in sys.path:\n",
    "    sys.path.append('./')\n",
    "if  not '../' in sys.path:\n",
    "    sys.path.append('../')\n",
    "\n",
    "from barchartacs import build_db\n",
    "from barchartacs import db_info\n",
    "import plotly.graph_objs as go\n",
    "from plotly.offline import  init_notebook_mode, iplot\n",
    "init_notebook_mode(connected=True)\n",
    "import plotly.tools as tls\n",
    "from plotly.graph_objs.layout import Font,Margin\n",
    "from IPython import display\n",
    "\n",
    "import datetime\n",
    "import io\n",
    "from tqdm import tqdm,tqdm_notebook\n",
    "from barchartacs import pg_pandas as pg\n",
    "import mibian\n",
    "import py_vollib\n",
    "import importlib\n",
    "from py_vollib import black\n",
    "from py_vollib.black import implied_volatility\n",
    "import ipdb\n",
    "import traceback\n",
    "import pandas_datareader.data as pdr\n",
    "\n",
    "# importlib.reload(build_db)"
   ]
  },
  {
   "cell_type": "markdown",
   "metadata": {},
   "source": [
    "## IF YOU WANT TO SEE WARNINGS, COMMENT THIS OUT"
   ]
  },
  {
   "cell_type": "code",
   "execution_count": 2,
   "metadata": {},
   "outputs": [],
   "source": [
    "import warnings\n",
    "warnings.filterwarnings(\"ignore\")"
   ]
  },
  {
   "cell_type": "markdown",
   "metadata": {},
   "source": [
    "### important global variables"
   ]
  },
  {
   "cell_type": "code",
   "execution_count": 3,
   "metadata": {},
   "outputs": [],
   "source": [
    "\n",
    "DEBUG_IT=False\n",
    "opttab = 'sec_schema.options_table'\n",
    "futtab = 'sec_schema.underlying_table'\n"
   ]
  },
  {
   "cell_type": "code",
   "execution_count": 4,
   "metadata": {},
   "outputs": [],
   "source": [
    "def plotly_plot(df_in,x_column,plot_title=None,\n",
    "                y_left_label=None,y_right_label=None,\n",
    "                bar_plot=False,figsize=(16,10),\n",
    "                number_of_ticks_display=20,\n",
    "                yaxis2_cols=None,\n",
    "                x_value_labels=None):\n",
    "    ya2c = [] if yaxis2_cols is None else yaxis2_cols\n",
    "    ycols = [c for c in df_in.columns.values if c != x_column]\n",
    "    # create tdvals, which will have x axis labels\n",
    "    td = list(df_in[x_column]) \n",
    "    nt = len(df_in)-1 if number_of_ticks_display > len(df_in) else number_of_ticks_display\n",
    "    spacing = len(td)//nt\n",
    "    tdvals = td[::spacing]\n",
    "    tdtext = tdvals\n",
    "    if x_value_labels is not None:\n",
    "        tdtext = [x_value_labels[i] for i in tdvals]\n",
    "    \n",
    "    # create data for graph\n",
    "    data = []\n",
    "    # iterate through all ycols to append to data that gets passed to go.Figure\n",
    "    for ycol in ycols:\n",
    "        if bar_plot:\n",
    "            b = go.Bar(x=td,y=df_in[ycol],name=ycol,yaxis='y' if ycol not in ya2c else 'y2')\n",
    "        else:\n",
    "            b = go.Scatter(x=td,y=df_in[ycol],name=ycol,yaxis='y' if ycol not in ya2c else 'y2')\n",
    "        data.append(b)\n",
    "\n",
    "    # create a layout\n",
    "    layout = go.Layout(\n",
    "        title=plot_title,\n",
    "        xaxis=dict(\n",
    "            ticktext=tdtext,\n",
    "            tickvals=tdvals,\n",
    "            tickangle=45,\n",
    "            type='category'),\n",
    "        yaxis=dict(\n",
    "            title='y main' if y_left_label is None else y_left_label\n",
    "        ),\n",
    "        yaxis2=dict(\n",
    "            title='y alt' if y_right_label is None else y_right_label,\n",
    "            overlaying='y',\n",
    "            side='right'),\n",
    "        margin=Margin(\n",
    "            b=100\n",
    "        )        \n",
    "    )\n",
    "\n",
    "    fig = go.Figure(data=data,layout=layout)\n",
    "    fig.update_layout(\n",
    "        title={\n",
    "            'text': plot_title,\n",
    "            'y':0.9,\n",
    "            'x':0.5,\n",
    "            'xanchor': 'center',\n",
    "            'yanchor': 'top'})\n",
    "    return fig\n",
    "\n",
    "def plotly_shaded_rectangles(beg_end_date_tuple_list,fig):\n",
    "    ld_shapes = []\n",
    "    for beg_end_date_tuple in beg_end_date_tuple_list:\n",
    "        ld_beg = beg_end_date_tuple[0]\n",
    "        ld_end = beg_end_date_tuple[1]\n",
    "        ld_shape = dict(\n",
    "            type=\"rect\",\n",
    "            # x-reference is assigned to the x-values\n",
    "            xref=\"x\",\n",
    "            # y-reference is assigned to the plot paper [0,1]\n",
    "            yref=\"paper\",\n",
    "#             x0=ld_beg[i],\n",
    "            x0=ld_beg,\n",
    "            y0=0,\n",
    "#             x1=ld_end[i],\n",
    "            x1=ld_end,\n",
    "            y1=1,\n",
    "            fillcolor=\"LightSalmon\",\n",
    "            opacity=0.5,\n",
    "            layer=\"below\",\n",
    "            line_width=0,\n",
    "        )\n",
    "        ld_shapes.append(ld_shape)\n",
    "\n",
    "    fig.update_layout(shapes=ld_shapes)\n",
    "    return fig"
   ]
  },
  {
   "cell_type": "markdown",
   "metadata": {},
   "source": [
    "#### get all contracts in the options database"
   ]
  },
  {
   "cell_type": "code",
   "execution_count": 5,
   "metadata": {
    "scrolled": false
   },
   "outputs": [
    {
     "name": "stdout",
     "output_type": "stream",
     "text": [
      "  sec_db\n",
      "futtab max date:         max\n",
      "0  20200515\n",
      "opttab max date:         max\n",
      "0  20200515\n"
     ]
    }
   ],
   "source": [
    "pga = db_info.get_db_info()\n",
    "print(f\"futtab max date: {pga.get_sql(f'select max(settle_date) from {futtab}')}\")\n",
    "print(f\"opttab max date: {pga.get_sql(f'select max(settle_date) from {opttab}')}\")\n"
   ]
  },
  {
   "cell_type": "markdown",
   "metadata": {},
   "source": [
    "### analyse option volumes by day, to see largest volumes"
   ]
  },
  {
   "cell_type": "code",
   "execution_count": 6,
   "metadata": {},
   "outputs": [],
   "source": [
    "vol_oi_dates_old = pga.get_sql(f\"select distinct settle_date from {opttab} order by settle_date desc\").settle_date.unique()\n",
    "vol_oi_dates_new = np.append(vol_oi_dates_old[1:],[-1])\n",
    "df_vol_oi_dates = pd.DataFrame({'settle_date':vol_oi_dates_old,'new_settle_date':vol_oi_dates_new})\n"
   ]
  },
  {
   "cell_type": "code",
   "execution_count": 7,
   "metadata": {},
   "outputs": [],
   "source": [
    "def acs_adjust_vol_oi_date(df_with_wrong_vol_oi_date):\n",
    "    df_new = df_with_wrong_vol_oi_date.merge(df_vol_oi_dates,how='inner',on='settle_date')\n",
    "    df_new.settle_date = df_new.new_settle_date\n",
    "    df_new = df_new[df_new.settle_date>-1]\n",
    "    return df_new\n"
   ]
  },
  {
   "cell_type": "code",
   "execution_count": 8,
   "metadata": {
    "scrolled": true
   },
   "outputs": [
    {
     "data": {
      "text/html": [
       "<div>\n",
       "<style scoped>\n",
       "    .dataframe tbody tr th:only-of-type {\n",
       "        vertical-align: middle;\n",
       "    }\n",
       "\n",
       "    .dataframe tbody tr th {\n",
       "        vertical-align: top;\n",
       "    }\n",
       "\n",
       "    .dataframe thead th {\n",
       "        text-align: right;\n",
       "    }\n",
       "</style>\n",
       "<table border=\"1\" class=\"dataframe\">\n",
       "  <thead>\n",
       "    <tr style=\"text-align: right;\">\n",
       "      <th></th>\n",
       "      <th>strike</th>\n",
       "      <th>pc</th>\n",
       "      <th>volume</th>\n",
       "      <th>open_interest</th>\n",
       "    </tr>\n",
       "  </thead>\n",
       "  <tbody>\n",
       "    <tr>\n",
       "      <th>0</th>\n",
       "      <td>20.5</td>\n",
       "      <td>C</td>\n",
       "      <td>0</td>\n",
       "      <td>0</td>\n",
       "    </tr>\n",
       "    <tr>\n",
       "      <th>2</th>\n",
       "      <td>21.0</td>\n",
       "      <td>C</td>\n",
       "      <td>0</td>\n",
       "      <td>1</td>\n",
       "    </tr>\n",
       "    <tr>\n",
       "      <th>3</th>\n",
       "      <td>22.0</td>\n",
       "      <td>C</td>\n",
       "      <td>1</td>\n",
       "      <td>1</td>\n",
       "    </tr>\n",
       "    <tr>\n",
       "      <th>5</th>\n",
       "      <td>22.5</td>\n",
       "      <td>C</td>\n",
       "      <td>1</td>\n",
       "      <td>1</td>\n",
       "    </tr>\n",
       "    <tr>\n",
       "      <th>7</th>\n",
       "      <td>23.0</td>\n",
       "      <td>C</td>\n",
       "      <td>1</td>\n",
       "      <td>0</td>\n",
       "    </tr>\n",
       "    <tr>\n",
       "      <th>9</th>\n",
       "      <td>23.5</td>\n",
       "      <td>C</td>\n",
       "      <td>0</td>\n",
       "      <td>0</td>\n",
       "    </tr>\n",
       "    <tr>\n",
       "      <th>11</th>\n",
       "      <td>24.0</td>\n",
       "      <td>C</td>\n",
       "      <td>0</td>\n",
       "      <td>0</td>\n",
       "    </tr>\n",
       "    <tr>\n",
       "      <th>12</th>\n",
       "      <td>24.5</td>\n",
       "      <td>C</td>\n",
       "      <td>0</td>\n",
       "      <td>0</td>\n",
       "    </tr>\n",
       "    <tr>\n",
       "      <th>14</th>\n",
       "      <td>25.0</td>\n",
       "      <td>C</td>\n",
       "      <td>0</td>\n",
       "      <td>2</td>\n",
       "    </tr>\n",
       "    <tr>\n",
       "      <th>16</th>\n",
       "      <td>25.5</td>\n",
       "      <td>C</td>\n",
       "      <td>0</td>\n",
       "      <td>1</td>\n",
       "    </tr>\n",
       "    <tr>\n",
       "      <th>18</th>\n",
       "      <td>26.0</td>\n",
       "      <td>C</td>\n",
       "      <td>0</td>\n",
       "      <td>0</td>\n",
       "    </tr>\n",
       "    <tr>\n",
       "      <th>20</th>\n",
       "      <td>26.5</td>\n",
       "      <td>C</td>\n",
       "      <td>0</td>\n",
       "      <td>0</td>\n",
       "    </tr>\n",
       "    <tr>\n",
       "      <th>24</th>\n",
       "      <td>28.0</td>\n",
       "      <td>C</td>\n",
       "      <td>0</td>\n",
       "      <td>1</td>\n",
       "    </tr>\n",
       "    <tr>\n",
       "      <th>29</th>\n",
       "      <td>30.0</td>\n",
       "      <td>C</td>\n",
       "      <td>0</td>\n",
       "      <td>2</td>\n",
       "    </tr>\n",
       "    <tr>\n",
       "      <th>35</th>\n",
       "      <td>32.5</td>\n",
       "      <td>C</td>\n",
       "      <td>0</td>\n",
       "      <td>0</td>\n",
       "    </tr>\n",
       "    <tr>\n",
       "      <th>39</th>\n",
       "      <td>34.0</td>\n",
       "      <td>C</td>\n",
       "      <td>0</td>\n",
       "      <td>1</td>\n",
       "    </tr>\n",
       "    <tr>\n",
       "      <th>42</th>\n",
       "      <td>35.0</td>\n",
       "      <td>C</td>\n",
       "      <td>1</td>\n",
       "      <td>1</td>\n",
       "    </tr>\n",
       "    <tr>\n",
       "      <th>45</th>\n",
       "      <td>36.0</td>\n",
       "      <td>C</td>\n",
       "      <td>0</td>\n",
       "      <td>1</td>\n",
       "    </tr>\n",
       "    <tr>\n",
       "      <th>48</th>\n",
       "      <td>37.0</td>\n",
       "      <td>C</td>\n",
       "      <td>11</td>\n",
       "      <td>11</td>\n",
       "    </tr>\n",
       "    <tr>\n",
       "      <th>51</th>\n",
       "      <td>38.0</td>\n",
       "      <td>C</td>\n",
       "      <td>8</td>\n",
       "      <td>7</td>\n",
       "    </tr>\n",
       "    <tr>\n",
       "      <th>56</th>\n",
       "      <td>40.0</td>\n",
       "      <td>C</td>\n",
       "      <td>0</td>\n",
       "      <td>158</td>\n",
       "    </tr>\n",
       "    <tr>\n",
       "      <th>59</th>\n",
       "      <td>41.0</td>\n",
       "      <td>C</td>\n",
       "      <td>1</td>\n",
       "      <td>1</td>\n",
       "    </tr>\n",
       "    <tr>\n",
       "      <th>62</th>\n",
       "      <td>42.0</td>\n",
       "      <td>C</td>\n",
       "      <td>3</td>\n",
       "      <td>3</td>\n",
       "    </tr>\n",
       "    <tr>\n",
       "      <th>64</th>\n",
       "      <td>42.5</td>\n",
       "      <td>C</td>\n",
       "      <td>0</td>\n",
       "      <td>2253</td>\n",
       "    </tr>\n",
       "    <tr>\n",
       "      <th>66</th>\n",
       "      <td>43.0</td>\n",
       "      <td>C</td>\n",
       "      <td>50</td>\n",
       "      <td>102</td>\n",
       "    </tr>\n",
       "    <tr>\n",
       "      <th>69</th>\n",
       "      <td>44.0</td>\n",
       "      <td>C</td>\n",
       "      <td>5</td>\n",
       "      <td>5</td>\n",
       "    </tr>\n",
       "    <tr>\n",
       "      <th>71</th>\n",
       "      <td>44.5</td>\n",
       "      <td>C</td>\n",
       "      <td>0</td>\n",
       "      <td>203</td>\n",
       "    </tr>\n",
       "    <tr>\n",
       "      <th>73</th>\n",
       "      <td>45.0</td>\n",
       "      <td>C</td>\n",
       "      <td>4184</td>\n",
       "      <td>3996</td>\n",
       "    </tr>\n",
       "    <tr>\n",
       "      <th>75</th>\n",
       "      <td>45.5</td>\n",
       "      <td>C</td>\n",
       "      <td>1333</td>\n",
       "      <td>1302</td>\n",
       "    </tr>\n",
       "    <tr>\n",
       "      <th>77</th>\n",
       "      <td>46.0</td>\n",
       "      <td>C</td>\n",
       "      <td>720</td>\n",
       "      <td>814</td>\n",
       "    </tr>\n",
       "    <tr>\n",
       "      <th>79</th>\n",
       "      <td>46.5</td>\n",
       "      <td>C</td>\n",
       "      <td>702</td>\n",
       "      <td>2477</td>\n",
       "    </tr>\n",
       "    <tr>\n",
       "      <th>81</th>\n",
       "      <td>47.0</td>\n",
       "      <td>C</td>\n",
       "      <td>32</td>\n",
       "      <td>1562</td>\n",
       "    </tr>\n",
       "    <tr>\n",
       "      <th>83</th>\n",
       "      <td>47.5</td>\n",
       "      <td>C</td>\n",
       "      <td>27</td>\n",
       "      <td>90</td>\n",
       "    </tr>\n",
       "    <tr>\n",
       "      <th>85</th>\n",
       "      <td>48.0</td>\n",
       "      <td>C</td>\n",
       "      <td>918</td>\n",
       "      <td>3528</td>\n",
       "    </tr>\n",
       "    <tr>\n",
       "      <th>87</th>\n",
       "      <td>48.5</td>\n",
       "      <td>C</td>\n",
       "      <td>95</td>\n",
       "      <td>726</td>\n",
       "    </tr>\n",
       "    <tr>\n",
       "      <th>89</th>\n",
       "      <td>49.0</td>\n",
       "      <td>C</td>\n",
       "      <td>44</td>\n",
       "      <td>601</td>\n",
       "    </tr>\n",
       "    <tr>\n",
       "      <th>91</th>\n",
       "      <td>49.5</td>\n",
       "      <td>C</td>\n",
       "      <td>18</td>\n",
       "      <td>197</td>\n",
       "    </tr>\n",
       "    <tr>\n",
       "      <th>93</th>\n",
       "      <td>50.0</td>\n",
       "      <td>C</td>\n",
       "      <td>6782</td>\n",
       "      <td>10282</td>\n",
       "    </tr>\n",
       "    <tr>\n",
       "      <th>95</th>\n",
       "      <td>50.5</td>\n",
       "      <td>C</td>\n",
       "      <td>267</td>\n",
       "      <td>892</td>\n",
       "    </tr>\n",
       "    <tr>\n",
       "      <th>97</th>\n",
       "      <td>51.0</td>\n",
       "      <td>C</td>\n",
       "      <td>148</td>\n",
       "      <td>4122</td>\n",
       "    </tr>\n",
       "  </tbody>\n",
       "</table>\n",
       "</div>"
      ],
      "text/plain": [
       "    strike pc  volume  open_interest\n",
       "0     20.5  C       0              0\n",
       "2     21.0  C       0              1\n",
       "3     22.0  C       1              1\n",
       "5     22.5  C       1              1\n",
       "7     23.0  C       1              0\n",
       "9     23.5  C       0              0\n",
       "11    24.0  C       0              0\n",
       "12    24.5  C       0              0\n",
       "14    25.0  C       0              2\n",
       "16    25.5  C       0              1\n",
       "18    26.0  C       0              0\n",
       "20    26.5  C       0              0\n",
       "24    28.0  C       0              1\n",
       "29    30.0  C       0              2\n",
       "35    32.5  C       0              0\n",
       "39    34.0  C       0              1\n",
       "42    35.0  C       1              1\n",
       "45    36.0  C       0              1\n",
       "48    37.0  C      11             11\n",
       "51    38.0  C       8              7\n",
       "56    40.0  C       0            158\n",
       "59    41.0  C       1              1\n",
       "62    42.0  C       3              3\n",
       "64    42.5  C       0           2253\n",
       "66    43.0  C      50            102\n",
       "69    44.0  C       5              5\n",
       "71    44.5  C       0            203\n",
       "73    45.0  C    4184           3996\n",
       "75    45.5  C    1333           1302\n",
       "77    46.0  C     720            814\n",
       "79    46.5  C     702           2477\n",
       "81    47.0  C      32           1562\n",
       "83    47.5  C      27             90\n",
       "85    48.0  C     918           3528\n",
       "87    48.5  C      95            726\n",
       "89    49.0  C      44            601\n",
       "91    49.5  C      18            197\n",
       "93    50.0  C    6782          10282\n",
       "95    50.5  C     267            892\n",
       "97    51.0  C     148           4122"
      ]
     },
     "execution_count": 8,
     "metadata": {},
     "output_type": "execute_result"
    }
   ],
   "source": [
    "sql_cl_opt_vol_by_date = f\"\"\"\n",
    "select strike,pc,volume,open_interest  from sec_schema.options_table \n",
    "where settle_date = 20200302 and symbol = 'CLM20'\n",
    "order by strike,pc \n",
    "\"\"\"\n",
    "df_sql_cl_opt_vol_by_date = pga.get_sql(sql_cl_opt_vol_by_date)\n",
    "# df_sql_cl_opt_vol_by_date[(df_sql_cl_opt_vol_by_date.pc=='C') & (df_sql_cl_opt_vol_by_date.volsum>0)]\n",
    "df_sql_cl_opt_vol_by_date[(df_sql_cl_opt_vol_by_date.pc=='C') ].head(40)\n"
   ]
  },
  {
   "cell_type": "code",
   "execution_count": 9,
   "metadata": {},
   "outputs": [],
   "source": [
    "\n",
    "sql_cl_opt_vol_by_date = f\"\"\"\n",
    "select settle_date,sum(volume) volsum, sum(open_interest) oi_sum from sec_schema.options_table \n",
    "where settle_date >= 20200220 and symbol like 'CL%%'\n",
    "group by settle_date\n",
    "order by settle_date desc\n",
    "\"\"\"\n",
    "df_volsum = pga.get_sql(sql_cl_opt_vol_by_date)\n"
   ]
  },
  {
   "cell_type": "code",
   "execution_count": 10,
   "metadata": {},
   "outputs": [
    {
     "data": {
      "text/html": [
       "<div>\n",
       "<style scoped>\n",
       "    .dataframe tbody tr th:only-of-type {\n",
       "        vertical-align: middle;\n",
       "    }\n",
       "\n",
       "    .dataframe tbody tr th {\n",
       "        vertical-align: top;\n",
       "    }\n",
       "\n",
       "    .dataframe thead th {\n",
       "        text-align: right;\n",
       "    }\n",
       "</style>\n",
       "<table border=\"1\" class=\"dataframe\">\n",
       "  <thead>\n",
       "    <tr style=\"text-align: right;\">\n",
       "      <th></th>\n",
       "      <th>settle_date</th>\n",
       "      <th>volsum</th>\n",
       "      <th>oi_sum</th>\n",
       "      <th>new_settle_date</th>\n",
       "    </tr>\n",
       "  </thead>\n",
       "  <tbody>\n",
       "    <tr>\n",
       "      <th>0</th>\n",
       "      <td>20200514</td>\n",
       "      <td>53503</td>\n",
       "      <td>1173637</td>\n",
       "      <td>20200514</td>\n",
       "    </tr>\n",
       "    <tr>\n",
       "      <th>1</th>\n",
       "      <td>20200513</td>\n",
       "      <td>70126</td>\n",
       "      <td>1751055</td>\n",
       "      <td>20200513</td>\n",
       "    </tr>\n",
       "    <tr>\n",
       "      <th>2</th>\n",
       "      <td>20200512</td>\n",
       "      <td>81424</td>\n",
       "      <td>1751554</td>\n",
       "      <td>20200512</td>\n",
       "    </tr>\n",
       "    <tr>\n",
       "      <th>3</th>\n",
       "      <td>20200511</td>\n",
       "      <td>71324</td>\n",
       "      <td>1749692</td>\n",
       "      <td>20200511</td>\n",
       "    </tr>\n",
       "    <tr>\n",
       "      <th>4</th>\n",
       "      <td>20200508</td>\n",
       "      <td>45323</td>\n",
       "      <td>1746273</td>\n",
       "      <td>20200508</td>\n",
       "    </tr>\n",
       "    <tr>\n",
       "      <th>...</th>\n",
       "      <td>...</td>\n",
       "      <td>...</td>\n",
       "      <td>...</td>\n",
       "      <td>...</td>\n",
       "    </tr>\n",
       "    <tr>\n",
       "      <th>56</th>\n",
       "      <td>20200225</td>\n",
       "      <td>159727</td>\n",
       "      <td>1914747</td>\n",
       "      <td>20200225</td>\n",
       "    </tr>\n",
       "    <tr>\n",
       "      <th>57</th>\n",
       "      <td>20200224</td>\n",
       "      <td>153643</td>\n",
       "      <td>1879440</td>\n",
       "      <td>20200224</td>\n",
       "    </tr>\n",
       "    <tr>\n",
       "      <th>58</th>\n",
       "      <td>20200221</td>\n",
       "      <td>120900</td>\n",
       "      <td>1852108</td>\n",
       "      <td>20200221</td>\n",
       "    </tr>\n",
       "    <tr>\n",
       "      <th>59</th>\n",
       "      <td>20200220</td>\n",
       "      <td>111082</td>\n",
       "      <td>1823665</td>\n",
       "      <td>20200220</td>\n",
       "    </tr>\n",
       "    <tr>\n",
       "      <th>60</th>\n",
       "      <td>20200219</td>\n",
       "      <td>113880</td>\n",
       "      <td>1806850</td>\n",
       "      <td>20200219</td>\n",
       "    </tr>\n",
       "  </tbody>\n",
       "</table>\n",
       "<p>61 rows × 4 columns</p>\n",
       "</div>"
      ],
      "text/plain": [
       "    settle_date  volsum   oi_sum  new_settle_date\n",
       "0      20200514   53503  1173637         20200514\n",
       "1      20200513   70126  1751055         20200513\n",
       "2      20200512   81424  1751554         20200512\n",
       "3      20200511   71324  1749692         20200511\n",
       "4      20200508   45323  1746273         20200508\n",
       "..          ...     ...      ...              ...\n",
       "56     20200225  159727  1914747         20200225\n",
       "57     20200224  153643  1879440         20200224\n",
       "58     20200221  120900  1852108         20200221\n",
       "59     20200220  111082  1823665         20200220\n",
       "60     20200219  113880  1806850         20200219\n",
       "\n",
       "[61 rows x 4 columns]"
      ]
     },
     "execution_count": 10,
     "metadata": {},
     "output_type": "execute_result"
    }
   ],
   "source": [
    "acs_adjust_vol_oi_date(df_volsum)"
   ]
  },
  {
   "cell_type": "code",
   "execution_count": 11,
   "metadata": {},
   "outputs": [
    {
     "name": "stdout",
     "output_type": "stream",
     "text": [
      "[20200515 20200514 20200513 20200512 20200511 20200508 20200507 20200506\n",
      " 20200505 20200504 20200501 20200430 20200429 20200428 20200427 20200424\n",
      " 20200423 20200422 20200421 20200420 20200417 20200416 20200415 20200414\n",
      " 20200413 20200409 20200408 20200407 20200406 20200403 20200402 20200401\n",
      " 20200331 20200330 20200327 20200326 20200325 20200324 20200323 20200320\n",
      " 20200319 20200318 20200317 20200316 20200313 20200312 20200311 20200310\n",
      " 20200309 20200306 20200305 20200304 20200303 20200302 20200228 20200227\n",
      " 20200226 20200225 20200224 20200221 20200220]\n",
      "[20200514 20200513 20200512 20200511 20200508 20200507 20200506 20200505\n",
      " 20200504 20200501 20200430 20200429 20200428 20200427 20200424 20200423\n",
      " 20200422 20200421 20200420 20200417 20200416 20200415 20200414 20200413\n",
      " 20200409 20200408 20200407 20200406 20200403 20200402 20200401 20200331\n",
      " 20200330 20200327 20200326 20200325 20200324 20200323 20200320 20200319\n",
      " 20200318 20200317 20200316 20200313 20200312 20200311 20200310 20200309\n",
      " 20200306 20200305 20200304 20200303 20200302 20200228 20200227 20200226\n",
      " 20200225 20200224 20200221 20200220       -1]\n"
     ]
    }
   ],
   "source": [
    "b = df_volsum.settle_date.values\n",
    "print(b)\n",
    "b = b[1:]\n",
    "print(np.append(b,[-1]))"
   ]
  },
  {
   "cell_type": "code",
   "execution_count": 12,
   "metadata": {},
   "outputs": [],
   "source": [
    "sql_cl_opts_vol_by_put_call = f\"\"\"\n",
    "with\n",
    "f1 as (\n",
    "    select settle_date,pc,symbol,sum(volume) vol_sum_by_pc from sec_schema.options_table\n",
    "    where settle_date>=20200101 and symbol like 'CL%%' and volume>0\n",
    "    group by settle_date, pc,symbol\n",
    "    order by settle_date, pc,symbol\n",
    "),\n",
    "f2 as\n",
    "(\n",
    "    select settle_date,symbol,sum(vol_sum_by_pc) vol_sum_by_symbol\n",
    "    from f1\n",
    "    group by settle_date,symbol\n",
    "),\n",
    "f3 as\n",
    "(\n",
    "    select f1.*, f2.vol_sum_by_symbol from f1\n",
    "    join f2 on f1.settle_date  = f2.settle_date and f1.symbol = f2.symbol\n",
    "    order by f2.vol_sum_by_symbol desc,f1.settle_date,f1.pc\n",
    ")\n",
    "select * from f3\n",
    "\"\"\"\n",
    "df_cl_opts_vol_by_put_call = pga.get_sql(sql_cl_opts_vol_by_put_call)\n"
   ]
  },
  {
   "cell_type": "code",
   "execution_count": 13,
   "metadata": {},
   "outputs": [
    {
     "name": "stderr",
     "output_type": "stream",
     "text": [
      "2020-05-18 14:51:11,544 - numexpr.utils - INFO - NumExpr defaulting to 4 threads.\n"
     ]
    },
    {
     "data": {
      "text/html": [
       "<div>\n",
       "<style scoped>\n",
       "    .dataframe tbody tr th:only-of-type {\n",
       "        vertical-align: middle;\n",
       "    }\n",
       "\n",
       "    .dataframe tbody tr th {\n",
       "        vertical-align: top;\n",
       "    }\n",
       "\n",
       "    .dataframe thead th {\n",
       "        text-align: right;\n",
       "    }\n",
       "</style>\n",
       "<table border=\"1\" class=\"dataframe\">\n",
       "  <thead>\n",
       "    <tr style=\"text-align: right;\">\n",
       "      <th></th>\n",
       "      <th>settle_date</th>\n",
       "      <th>symbol</th>\n",
       "      <th>vol_sum_C</th>\n",
       "      <th>vol_sum_P</th>\n",
       "      <th>pc_vol_diff</th>\n",
       "      <th>vol_sum_by_symbol</th>\n",
       "    </tr>\n",
       "  </thead>\n",
       "  <tbody>\n",
       "    <tr>\n",
       "      <th>0</th>\n",
       "      <td>20200108</td>\n",
       "      <td>CLG20</td>\n",
       "      <td>113253</td>\n",
       "      <td>96419</td>\n",
       "      <td>16834</td>\n",
       "      <td>209672.0</td>\n",
       "    </tr>\n",
       "    <tr>\n",
       "      <th>1</th>\n",
       "      <td>20200108</td>\n",
       "      <td>CLH20</td>\n",
       "      <td>74577</td>\n",
       "      <td>45366</td>\n",
       "      <td>29211</td>\n",
       "      <td>119943.0</td>\n",
       "    </tr>\n",
       "    <tr>\n",
       "      <th>2</th>\n",
       "      <td>20200108</td>\n",
       "      <td>CLJ20</td>\n",
       "      <td>15235</td>\n",
       "      <td>13857</td>\n",
       "      <td>1378</td>\n",
       "      <td>29092.0</td>\n",
       "    </tr>\n",
       "    <tr>\n",
       "      <th>3</th>\n",
       "      <td>20200108</td>\n",
       "      <td>CLM20</td>\n",
       "      <td>16210</td>\n",
       "      <td>12757</td>\n",
       "      <td>3453</td>\n",
       "      <td>28967.0</td>\n",
       "    </tr>\n",
       "    <tr>\n",
       "      <th>4</th>\n",
       "      <td>20200108</td>\n",
       "      <td>CLK20</td>\n",
       "      <td>4202</td>\n",
       "      <td>5671</td>\n",
       "      <td>-1469</td>\n",
       "      <td>9873.0</td>\n",
       "    </tr>\n",
       "    <tr>\n",
       "      <th>5</th>\n",
       "      <td>20200108</td>\n",
       "      <td>CLZ20</td>\n",
       "      <td>4762</td>\n",
       "      <td>3488</td>\n",
       "      <td>1274</td>\n",
       "      <td>8250.0</td>\n",
       "    </tr>\n",
       "    <tr>\n",
       "      <th>6</th>\n",
       "      <td>20200108</td>\n",
       "      <td>CLN20</td>\n",
       "      <td>5697</td>\n",
       "      <td>2378</td>\n",
       "      <td>3319</td>\n",
       "      <td>8075.0</td>\n",
       "    </tr>\n",
       "    <tr>\n",
       "      <th>7</th>\n",
       "      <td>20200108</td>\n",
       "      <td>CLU20</td>\n",
       "      <td>2539</td>\n",
       "      <td>2295</td>\n",
       "      <td>244</td>\n",
       "      <td>4834.0</td>\n",
       "    </tr>\n",
       "    <tr>\n",
       "      <th>8</th>\n",
       "      <td>20200108</td>\n",
       "      <td>CLZ21</td>\n",
       "      <td>2251</td>\n",
       "      <td>200</td>\n",
       "      <td>2051</td>\n",
       "      <td>2451.0</td>\n",
       "    </tr>\n",
       "    <tr>\n",
       "      <th>9</th>\n",
       "      <td>20200108</td>\n",
       "      <td>CLM21</td>\n",
       "      <td>1450</td>\n",
       "      <td>601</td>\n",
       "      <td>849</td>\n",
       "      <td>2051.0</td>\n",
       "    </tr>\n",
       "    <tr>\n",
       "      <th>10</th>\n",
       "      <td>20200108</td>\n",
       "      <td>CLQ20</td>\n",
       "      <td>158</td>\n",
       "      <td>389</td>\n",
       "      <td>-231</td>\n",
       "      <td>547.0</td>\n",
       "    </tr>\n",
       "    <tr>\n",
       "      <th>11</th>\n",
       "      <td>20200108</td>\n",
       "      <td>CLV20</td>\n",
       "      <td>400</td>\n",
       "      <td>9</td>\n",
       "      <td>391</td>\n",
       "      <td>409.0</td>\n",
       "    </tr>\n",
       "    <tr>\n",
       "      <th>12</th>\n",
       "      <td>20200309</td>\n",
       "      <td>CLJ20</td>\n",
       "      <td>79849</td>\n",
       "      <td>108937</td>\n",
       "      <td>-29088</td>\n",
       "      <td>188786.0</td>\n",
       "    </tr>\n",
       "    <tr>\n",
       "      <th>13</th>\n",
       "      <td>20200309</td>\n",
       "      <td>CLK20</td>\n",
       "      <td>37013</td>\n",
       "      <td>69332</td>\n",
       "      <td>-32319</td>\n",
       "      <td>106345.0</td>\n",
       "    </tr>\n",
       "    <tr>\n",
       "      <th>14</th>\n",
       "      <td>20200309</td>\n",
       "      <td>CLM20</td>\n",
       "      <td>46612</td>\n",
       "      <td>58753</td>\n",
       "      <td>-12141</td>\n",
       "      <td>105365.0</td>\n",
       "    </tr>\n",
       "    <tr>\n",
       "      <th>15</th>\n",
       "      <td>20200309</td>\n",
       "      <td>CLZ20</td>\n",
       "      <td>27479</td>\n",
       "      <td>14811</td>\n",
       "      <td>12668</td>\n",
       "      <td>42290.0</td>\n",
       "    </tr>\n",
       "    <tr>\n",
       "      <th>16</th>\n",
       "      <td>20200309</td>\n",
       "      <td>CLU20</td>\n",
       "      <td>16509</td>\n",
       "      <td>10931</td>\n",
       "      <td>5578</td>\n",
       "      <td>27440.0</td>\n",
       "    </tr>\n",
       "    <tr>\n",
       "      <th>17</th>\n",
       "      <td>20200309</td>\n",
       "      <td>CLN20</td>\n",
       "      <td>13517</td>\n",
       "      <td>8967</td>\n",
       "      <td>4550</td>\n",
       "      <td>22484.0</td>\n",
       "    </tr>\n",
       "    <tr>\n",
       "      <th>18</th>\n",
       "      <td>20200309</td>\n",
       "      <td>CLQ20</td>\n",
       "      <td>2139</td>\n",
       "      <td>2030</td>\n",
       "      <td>109</td>\n",
       "      <td>4169.0</td>\n",
       "    </tr>\n",
       "    <tr>\n",
       "      <th>19</th>\n",
       "      <td>20200309</td>\n",
       "      <td>CLZ21</td>\n",
       "      <td>2593</td>\n",
       "      <td>403</td>\n",
       "      <td>2190</td>\n",
       "      <td>2996.0</td>\n",
       "    </tr>\n",
       "  </tbody>\n",
       "</table>\n",
       "</div>"
      ],
      "text/plain": [
       "    settle_date symbol  vol_sum_C  vol_sum_P  pc_vol_diff  vol_sum_by_symbol\n",
       "0      20200108  CLG20     113253      96419        16834           209672.0\n",
       "1      20200108  CLH20      74577      45366        29211           119943.0\n",
       "2      20200108  CLJ20      15235      13857         1378            29092.0\n",
       "3      20200108  CLM20      16210      12757         3453            28967.0\n",
       "4      20200108  CLK20       4202       5671        -1469             9873.0\n",
       "5      20200108  CLZ20       4762       3488         1274             8250.0\n",
       "6      20200108  CLN20       5697       2378         3319             8075.0\n",
       "7      20200108  CLU20       2539       2295          244             4834.0\n",
       "8      20200108  CLZ21       2251        200         2051             2451.0\n",
       "9      20200108  CLM21       1450        601          849             2051.0\n",
       "10     20200108  CLQ20        158        389         -231              547.0\n",
       "11     20200108  CLV20        400          9          391              409.0\n",
       "12     20200309  CLJ20      79849     108937       -29088           188786.0\n",
       "13     20200309  CLK20      37013      69332       -32319           106345.0\n",
       "14     20200309  CLM20      46612      58753       -12141           105365.0\n",
       "15     20200309  CLZ20      27479      14811        12668            42290.0\n",
       "16     20200309  CLU20      16509      10931         5578            27440.0\n",
       "17     20200309  CLN20      13517       8967         4550            22484.0\n",
       "18     20200309  CLQ20       2139       2030          109             4169.0\n",
       "19     20200309  CLZ21       2593        403         2190             2996.0"
      ]
     },
     "metadata": {},
     "output_type": "display_data"
    }
   ],
   "source": [
    "df_cl_opts_vol_by_put_call_C = df_cl_opts_vol_by_put_call[df_cl_opts_vol_by_put_call.pc=='C']\n",
    "df_cl_opts_vol_by_put_call_C = df_cl_opts_vol_by_put_call_C.rename(columns={'vol_sum_by_pc':'vol_sum_C'})\n",
    "df_cl_opts_vol_by_put_call_C = df_cl_opts_vol_by_put_call_C[['settle_date','symbol','vol_sum_C','vol_sum_by_symbol']]\n",
    "df_cl_opts_vol_by_put_call_C.index = list(range(len(df_cl_opts_vol_by_put_call_C)))\n",
    "df_cl_opts_vol_by_put_call_P = df_cl_opts_vol_by_put_call[df_cl_opts_vol_by_put_call.pc=='P']\n",
    "df_cl_opts_vol_by_put_call_P = df_cl_opts_vol_by_put_call_P.rename(columns={'vol_sum_by_pc':'vol_sum_P'})\n",
    "df_cl_opts_vol_by_put_call_P = df_cl_opts_vol_by_put_call_P[['settle_date','symbol','vol_sum_P']]\n",
    "df_cl_opts_vol_by_put_call_P.index = list(range(len(df_cl_opts_vol_by_put_call_P)))\n",
    "df_cl_opts_vol = df_cl_opts_vol_by_put_call_C.merge(df_cl_opts_vol_by_put_call_P,how='inner',\n",
    "                                                 on=['settle_date','symbol'])\n",
    "df_cl_opts_vol['pc_vol_diff'] = df_cl_opts_vol.vol_sum_C - df_cl_opts_vol.vol_sum_P\n",
    "df_cl_opts_vol = acs_adjust_vol_oi_date(df_cl_opts_vol)\n",
    "display.display(df_cl_opts_vol[['settle_date','symbol','vol_sum_C','vol_sum_P','pc_vol_diff','vol_sum_by_symbol']].head(20))\n"
   ]
  },
  {
   "cell_type": "code",
   "execution_count": 14,
   "metadata": {
    "scrolled": true
   },
   "outputs": [
    {
     "data": {
      "text/html": [
       "<div>\n",
       "<style scoped>\n",
       "    .dataframe tbody tr th:only-of-type {\n",
       "        vertical-align: middle;\n",
       "    }\n",
       "\n",
       "    .dataframe tbody tr th {\n",
       "        vertical-align: top;\n",
       "    }\n",
       "\n",
       "    .dataframe thead th {\n",
       "        text-align: right;\n",
       "    }\n",
       "</style>\n",
       "<table border=\"1\" class=\"dataframe\">\n",
       "  <thead>\n",
       "    <tr style=\"text-align: right;\">\n",
       "      <th></th>\n",
       "      <th>vol_sum_C</th>\n",
       "      <th>vol_sum_P</th>\n",
       "      <th>vol_sum_by_symbol</th>\n",
       "    </tr>\n",
       "    <tr>\n",
       "      <th>settle_date</th>\n",
       "      <th></th>\n",
       "      <th></th>\n",
       "      <th></th>\n",
       "    </tr>\n",
       "  </thead>\n",
       "  <tbody>\n",
       "    <tr>\n",
       "      <th>20200514</th>\n",
       "      <td>24154</td>\n",
       "      <td>28999</td>\n",
       "      <td>53153.0</td>\n",
       "    </tr>\n",
       "    <tr>\n",
       "      <th>20200513</th>\n",
       "      <td>36134</td>\n",
       "      <td>33377</td>\n",
       "      <td>69511.0</td>\n",
       "    </tr>\n",
       "    <tr>\n",
       "      <th>20200512</th>\n",
       "      <td>32014</td>\n",
       "      <td>48756</td>\n",
       "      <td>80770.0</td>\n",
       "    </tr>\n",
       "    <tr>\n",
       "      <th>20200511</th>\n",
       "      <td>26742</td>\n",
       "      <td>44182</td>\n",
       "      <td>70924.0</td>\n",
       "    </tr>\n",
       "    <tr>\n",
       "      <th>20200508</th>\n",
       "      <td>20789</td>\n",
       "      <td>24430</td>\n",
       "      <td>45219.0</td>\n",
       "    </tr>\n",
       "    <tr>\n",
       "      <th>...</th>\n",
       "      <td>...</td>\n",
       "      <td>...</td>\n",
       "      <td>...</td>\n",
       "    </tr>\n",
       "    <tr>\n",
       "      <th>20200107</th>\n",
       "      <td>88035</td>\n",
       "      <td>67930</td>\n",
       "      <td>155965.0</td>\n",
       "    </tr>\n",
       "    <tr>\n",
       "      <th>20200106</th>\n",
       "      <td>134921</td>\n",
       "      <td>76670</td>\n",
       "      <td>211591.0</td>\n",
       "    </tr>\n",
       "    <tr>\n",
       "      <th>20200103</th>\n",
       "      <td>165801</td>\n",
       "      <td>112425</td>\n",
       "      <td>278226.0</td>\n",
       "    </tr>\n",
       "    <tr>\n",
       "      <th>20200102</th>\n",
       "      <td>38427</td>\n",
       "      <td>48682</td>\n",
       "      <td>87109.0</td>\n",
       "    </tr>\n",
       "    <tr>\n",
       "      <th>20191231</th>\n",
       "      <td>40385</td>\n",
       "      <td>48516</td>\n",
       "      <td>88901.0</td>\n",
       "    </tr>\n",
       "  </tbody>\n",
       "</table>\n",
       "<p>96 rows × 3 columns</p>\n",
       "</div>"
      ],
      "text/plain": [
       "             vol_sum_C  vol_sum_P  vol_sum_by_symbol\n",
       "settle_date                                         \n",
       "20200514         24154      28999            53153.0\n",
       "20200513         36134      33377            69511.0\n",
       "20200512         32014      48756            80770.0\n",
       "20200511         26742      44182            70924.0\n",
       "20200508         20789      24430            45219.0\n",
       "...                ...        ...                ...\n",
       "20200107         88035      67930           155965.0\n",
       "20200106        134921      76670           211591.0\n",
       "20200103        165801     112425           278226.0\n",
       "20200102         38427      48682            87109.0\n",
       "20191231         40385      48516            88901.0\n",
       "\n",
       "[96 rows x 3 columns]"
      ]
     },
     "execution_count": 14,
     "metadata": {},
     "output_type": "execute_result"
    }
   ],
   "source": [
    "df_cl_opts_vol_sum_by_date = df_cl_opts_vol[['settle_date','vol_sum_C','vol_sum_P','vol_sum_by_symbol']].groupby('settle_date').sum()\n",
    "df_cl_opts_vol_sum_by_date = df_cl_opts_vol_sum_by_date.sort_values('settle_date',ascending=False)\n",
    "df_cl_opts_vol_sum_by_date"
   ]
  },
  {
   "cell_type": "code",
   "execution_count": 15,
   "metadata": {},
   "outputs": [],
   "source": [
    "sql_opt_expir = f\"\"\"\n",
    "with\n",
    "f1 as\n",
    "(\n",
    "    select symbol,concat(substring(symbol,1,2),substring(symbol,4,2),substring(symbol,3,1)) as sym,settle_date\n",
    "    from sec_schema.options_table\n",
    "    where settle_date>=20160101 and symbol like 'CL%%' and volume>0\n",
    ")\n",
    "select * from f1\n",
    "\"\"\"\n",
    "df_sql_opt_expir = pga.get_sql(sql_opt_expir)\n"
   ]
  },
  {
   "cell_type": "code",
   "execution_count": 16,
   "metadata": {
    "scrolled": true
   },
   "outputs": [
    {
     "data": {
      "text/html": [
       "<div>\n",
       "<style scoped>\n",
       "    .dataframe tbody tr th:only-of-type {\n",
       "        vertical-align: middle;\n",
       "    }\n",
       "\n",
       "    .dataframe tbody tr th {\n",
       "        vertical-align: top;\n",
       "    }\n",
       "\n",
       "    .dataframe thead th {\n",
       "        text-align: right;\n",
       "    }\n",
       "</style>\n",
       "<table border=\"1\" class=\"dataframe\">\n",
       "  <thead>\n",
       "    <tr style=\"text-align: right;\">\n",
       "      <th></th>\n",
       "      <th>symbol</th>\n",
       "      <th>sym</th>\n",
       "      <th>settle_date</th>\n",
       "    </tr>\n",
       "  </thead>\n",
       "  <tbody>\n",
       "    <tr>\n",
       "      <th>0</th>\n",
       "      <td>CLF17</td>\n",
       "      <td>CL17F</td>\n",
       "      <td>20161215</td>\n",
       "    </tr>\n",
       "    <tr>\n",
       "      <th>1</th>\n",
       "      <td>CLF18</td>\n",
       "      <td>CL18F</td>\n",
       "      <td>20171214</td>\n",
       "    </tr>\n",
       "    <tr>\n",
       "      <th>2</th>\n",
       "      <td>CLF19</td>\n",
       "      <td>CL19F</td>\n",
       "      <td>20181214</td>\n",
       "    </tr>\n",
       "    <tr>\n",
       "      <th>3</th>\n",
       "      <td>CLF20</td>\n",
       "      <td>CL20F</td>\n",
       "      <td>20191216</td>\n",
       "    </tr>\n",
       "    <tr>\n",
       "      <th>6</th>\n",
       "      <td>CLG16</td>\n",
       "      <td>CL16G</td>\n",
       "      <td>20160114</td>\n",
       "    </tr>\n",
       "    <tr>\n",
       "      <th>7</th>\n",
       "      <td>CLG17</td>\n",
       "      <td>CL17G</td>\n",
       "      <td>20170117</td>\n",
       "    </tr>\n",
       "    <tr>\n",
       "      <th>8</th>\n",
       "      <td>CLG18</td>\n",
       "      <td>CL18G</td>\n",
       "      <td>20180117</td>\n",
       "    </tr>\n",
       "    <tr>\n",
       "      <th>9</th>\n",
       "      <td>CLG19</td>\n",
       "      <td>CL19G</td>\n",
       "      <td>20190116</td>\n",
       "    </tr>\n",
       "    <tr>\n",
       "      <th>10</th>\n",
       "      <td>CLG20</td>\n",
       "      <td>CL20G</td>\n",
       "      <td>20200115</td>\n",
       "    </tr>\n",
       "    <tr>\n",
       "      <th>12</th>\n",
       "      <td>CLH16</td>\n",
       "      <td>CL16H</td>\n",
       "      <td>20160217</td>\n",
       "    </tr>\n",
       "    <tr>\n",
       "      <th>13</th>\n",
       "      <td>CLH17</td>\n",
       "      <td>CL17H</td>\n",
       "      <td>20170215</td>\n",
       "    </tr>\n",
       "    <tr>\n",
       "      <th>14</th>\n",
       "      <td>CLH18</td>\n",
       "      <td>CL18H</td>\n",
       "      <td>20180214</td>\n",
       "    </tr>\n",
       "    <tr>\n",
       "      <th>15</th>\n",
       "      <td>CLH19</td>\n",
       "      <td>CL19H</td>\n",
       "      <td>20190214</td>\n",
       "    </tr>\n",
       "    <tr>\n",
       "      <th>18</th>\n",
       "      <td>CLJ16</td>\n",
       "      <td>CL16J</td>\n",
       "      <td>20160316</td>\n",
       "    </tr>\n",
       "    <tr>\n",
       "      <th>19</th>\n",
       "      <td>CLJ17</td>\n",
       "      <td>CL17J</td>\n",
       "      <td>20170316</td>\n",
       "    </tr>\n",
       "    <tr>\n",
       "      <th>20</th>\n",
       "      <td>CLJ18</td>\n",
       "      <td>CL18J</td>\n",
       "      <td>20180315</td>\n",
       "    </tr>\n",
       "    <tr>\n",
       "      <th>21</th>\n",
       "      <td>CLJ19</td>\n",
       "      <td>CL19J</td>\n",
       "      <td>20190315</td>\n",
       "    </tr>\n",
       "    <tr>\n",
       "      <th>24</th>\n",
       "      <td>CLK16</td>\n",
       "      <td>CL16K</td>\n",
       "      <td>20160415</td>\n",
       "    </tr>\n",
       "    <tr>\n",
       "      <th>25</th>\n",
       "      <td>CLK17</td>\n",
       "      <td>CL17K</td>\n",
       "      <td>20170417</td>\n",
       "    </tr>\n",
       "    <tr>\n",
       "      <th>26</th>\n",
       "      <td>CLK18</td>\n",
       "      <td>CL18K</td>\n",
       "      <td>20180417</td>\n",
       "    </tr>\n",
       "    <tr>\n",
       "      <th>27</th>\n",
       "      <td>CLK19</td>\n",
       "      <td>CL19K</td>\n",
       "      <td>20190416</td>\n",
       "    </tr>\n",
       "    <tr>\n",
       "      <th>30</th>\n",
       "      <td>CLM16</td>\n",
       "      <td>CL16M</td>\n",
       "      <td>20160517</td>\n",
       "    </tr>\n",
       "    <tr>\n",
       "      <th>31</th>\n",
       "      <td>CLM17</td>\n",
       "      <td>CL17M</td>\n",
       "      <td>20170517</td>\n",
       "    </tr>\n",
       "    <tr>\n",
       "      <th>32</th>\n",
       "      <td>CLM18</td>\n",
       "      <td>CL18M</td>\n",
       "      <td>20180517</td>\n",
       "    </tr>\n",
       "    <tr>\n",
       "      <th>33</th>\n",
       "      <td>CLM19</td>\n",
       "      <td>CL19M</td>\n",
       "      <td>20190516</td>\n",
       "    </tr>\n",
       "    <tr>\n",
       "      <th>38</th>\n",
       "      <td>CLN16</td>\n",
       "      <td>CL16N</td>\n",
       "      <td>20160616</td>\n",
       "    </tr>\n",
       "    <tr>\n",
       "      <th>39</th>\n",
       "      <td>CLN17</td>\n",
       "      <td>CL17N</td>\n",
       "      <td>20170615</td>\n",
       "    </tr>\n",
       "    <tr>\n",
       "      <th>40</th>\n",
       "      <td>CLN18</td>\n",
       "      <td>CL18N</td>\n",
       "      <td>20180615</td>\n",
       "    </tr>\n",
       "    <tr>\n",
       "      <th>41</th>\n",
       "      <td>CLN19</td>\n",
       "      <td>CL19N</td>\n",
       "      <td>20190617</td>\n",
       "    </tr>\n",
       "    <tr>\n",
       "      <th>44</th>\n",
       "      <td>CLQ16</td>\n",
       "      <td>CL16Q</td>\n",
       "      <td>20160715</td>\n",
       "    </tr>\n",
       "    <tr>\n",
       "      <th>45</th>\n",
       "      <td>CLQ17</td>\n",
       "      <td>CL17Q</td>\n",
       "      <td>20170717</td>\n",
       "    </tr>\n",
       "    <tr>\n",
       "      <th>46</th>\n",
       "      <td>CLQ18</td>\n",
       "      <td>CL18Q</td>\n",
       "      <td>20180717</td>\n",
       "    </tr>\n",
       "    <tr>\n",
       "      <th>47</th>\n",
       "      <td>CLQ19</td>\n",
       "      <td>CL19Q</td>\n",
       "      <td>20190717</td>\n",
       "    </tr>\n",
       "    <tr>\n",
       "      <th>50</th>\n",
       "      <td>CLU16</td>\n",
       "      <td>CL16U</td>\n",
       "      <td>20160817</td>\n",
       "    </tr>\n",
       "    <tr>\n",
       "      <th>51</th>\n",
       "      <td>CLU17</td>\n",
       "      <td>CL17U</td>\n",
       "      <td>20170817</td>\n",
       "    </tr>\n",
       "    <tr>\n",
       "      <th>52</th>\n",
       "      <td>CLU18</td>\n",
       "      <td>CL18U</td>\n",
       "      <td>20180816</td>\n",
       "    </tr>\n",
       "    <tr>\n",
       "      <th>53</th>\n",
       "      <td>CLU19</td>\n",
       "      <td>CL19U</td>\n",
       "      <td>20190815</td>\n",
       "    </tr>\n",
       "    <tr>\n",
       "      <th>56</th>\n",
       "      <td>CLV16</td>\n",
       "      <td>CL16V</td>\n",
       "      <td>20160915</td>\n",
       "    </tr>\n",
       "    <tr>\n",
       "      <th>57</th>\n",
       "      <td>CLV17</td>\n",
       "      <td>CL17V</td>\n",
       "      <td>20170915</td>\n",
       "    </tr>\n",
       "    <tr>\n",
       "      <th>58</th>\n",
       "      <td>CLV18</td>\n",
       "      <td>CL18V</td>\n",
       "      <td>20180917</td>\n",
       "    </tr>\n",
       "    <tr>\n",
       "      <th>59</th>\n",
       "      <td>CLV19</td>\n",
       "      <td>CL19V</td>\n",
       "      <td>20190917</td>\n",
       "    </tr>\n",
       "    <tr>\n",
       "      <th>62</th>\n",
       "      <td>CLX16</td>\n",
       "      <td>CL16X</td>\n",
       "      <td>20161017</td>\n",
       "    </tr>\n",
       "    <tr>\n",
       "      <th>63</th>\n",
       "      <td>CLX17</td>\n",
       "      <td>CL17X</td>\n",
       "      <td>20171017</td>\n",
       "    </tr>\n",
       "    <tr>\n",
       "      <th>64</th>\n",
       "      <td>CLX18</td>\n",
       "      <td>CL18X</td>\n",
       "      <td>20181017</td>\n",
       "    </tr>\n",
       "    <tr>\n",
       "      <th>65</th>\n",
       "      <td>CLX19</td>\n",
       "      <td>CL19X</td>\n",
       "      <td>20191017</td>\n",
       "    </tr>\n",
       "    <tr>\n",
       "      <th>68</th>\n",
       "      <td>CLZ16</td>\n",
       "      <td>CL16Z</td>\n",
       "      <td>20161116</td>\n",
       "    </tr>\n",
       "    <tr>\n",
       "      <th>69</th>\n",
       "      <td>CLZ17</td>\n",
       "      <td>CL17Z</td>\n",
       "      <td>20171115</td>\n",
       "    </tr>\n",
       "    <tr>\n",
       "      <th>70</th>\n",
       "      <td>CLZ18</td>\n",
       "      <td>CL18Z</td>\n",
       "      <td>20181114</td>\n",
       "    </tr>\n",
       "    <tr>\n",
       "      <th>71</th>\n",
       "      <td>CLZ19</td>\n",
       "      <td>CL19Z</td>\n",
       "      <td>20191115</td>\n",
       "    </tr>\n",
       "  </tbody>\n",
       "</table>\n",
       "</div>"
      ],
      "text/plain": [
       "   symbol    sym  settle_date\n",
       "0   CLF17  CL17F     20161215\n",
       "1   CLF18  CL18F     20171214\n",
       "2   CLF19  CL19F     20181214\n",
       "3   CLF20  CL20F     20191216\n",
       "6   CLG16  CL16G     20160114\n",
       "7   CLG17  CL17G     20170117\n",
       "8   CLG18  CL18G     20180117\n",
       "9   CLG19  CL19G     20190116\n",
       "10  CLG20  CL20G     20200115\n",
       "12  CLH16  CL16H     20160217\n",
       "13  CLH17  CL17H     20170215\n",
       "14  CLH18  CL18H     20180214\n",
       "15  CLH19  CL19H     20190214\n",
       "18  CLJ16  CL16J     20160316\n",
       "19  CLJ17  CL17J     20170316\n",
       "20  CLJ18  CL18J     20180315\n",
       "21  CLJ19  CL19J     20190315\n",
       "24  CLK16  CL16K     20160415\n",
       "25  CLK17  CL17K     20170417\n",
       "26  CLK18  CL18K     20180417\n",
       "27  CLK19  CL19K     20190416\n",
       "30  CLM16  CL16M     20160517\n",
       "31  CLM17  CL17M     20170517\n",
       "32  CLM18  CL18M     20180517\n",
       "33  CLM19  CL19M     20190516\n",
       "38  CLN16  CL16N     20160616\n",
       "39  CLN17  CL17N     20170615\n",
       "40  CLN18  CL18N     20180615\n",
       "41  CLN19  CL19N     20190617\n",
       "44  CLQ16  CL16Q     20160715\n",
       "45  CLQ17  CL17Q     20170717\n",
       "46  CLQ18  CL18Q     20180717\n",
       "47  CLQ19  CL19Q     20190717\n",
       "50  CLU16  CL16U     20160817\n",
       "51  CLU17  CL17U     20170817\n",
       "52  CLU18  CL18U     20180816\n",
       "53  CLU19  CL19U     20190815\n",
       "56  CLV16  CL16V     20160915\n",
       "57  CLV17  CL17V     20170915\n",
       "58  CLV18  CL18V     20180917\n",
       "59  CLV19  CL19V     20190917\n",
       "62  CLX16  CL16X     20161017\n",
       "63  CLX17  CL17X     20171017\n",
       "64  CLX18  CL18X     20181017\n",
       "65  CLX19  CL19X     20191017\n",
       "68  CLZ16  CL16Z     20161116\n",
       "69  CLZ17  CL17Z     20171115\n",
       "70  CLZ18  CL18Z     20181114\n",
       "71  CLZ19  CL19Z     20191115"
      ]
     },
     "execution_count": 16,
     "metadata": {},
     "output_type": "execute_result"
    }
   ],
   "source": [
    "df_sql_opt_expir_last_day = df_sql_opt_expir[['settle_date','symbol','sym']].groupby(['symbol','sym'],as_index=False).max()\n",
    "df_sql_opt_expir_last_day = df_sql_opt_expir_last_day[df_sql_opt_expir_last_day.sym<='CL20G']\n",
    "df_sql_opt_expir_last_day\n"
   ]
  },
  {
   "cell_type": "code",
   "execution_count": 17,
   "metadata": {},
   "outputs": [],
   "source": [
    "sql_cl_opts_vol_by_date = f\"\"\"\n",
    "with\n",
    "f1 as (\n",
    "    select settle_date,volume from sec_schema.options_table\n",
    "    where settle_date>=20160101 and symbol like 'CL%%' and volume>0\n",
    "),\n",
    "f2 as\n",
    "(\n",
    "    select settle_date,sum(volume) vol_sum\n",
    "    from f1\n",
    "    group by settle_date\n",
    "    order by settle_date\n",
    ")\n",
    "select * from f2\n",
    "\"\"\"\n",
    "df_cl_opts_vol_date = pga.get_sql(sql_cl_opts_vol_by_date)\n"
   ]
  },
  {
   "cell_type": "code",
   "execution_count": 18,
   "metadata": {},
   "outputs": [
    {
     "data": {
      "application/vnd.plotly.v1+json": {
       "config": {
        "plotlyServerURL": "https://plot.ly"
       },
       "data": [
        {
         "mode": "lines",
         "name": "temperature",
         "type": "scatter",
         "x": [
          "2015-02-01",
          "2015-02-02",
          "2015-02-03",
          "2015-02-04",
          "2015-02-05",
          "2015-02-06",
          "2015-02-07",
          "2015-02-08",
          "2015-02-09",
          "2015-02-10",
          "2015-02-11",
          "2015-02-12",
          "2015-02-13",
          "2015-02-14",
          "2015-02-15",
          "2015-02-16",
          "2015-02-17",
          "2015-02-18",
          "2015-02-19",
          "2015-02-20",
          "2015-02-21",
          "2015-02-22",
          "2015-02-23",
          "2015-02-24",
          "2015-02-25",
          "2015-02-26",
          "2015-02-27",
          "2015-02-28"
         ],
         "y": [
          -14,
          -17,
          -8,
          -4,
          -7,
          -10,
          -12,
          -14,
          -12,
          -7,
          -11,
          -7,
          -18,
          -14,
          -14,
          -16,
          -13,
          -7,
          -8,
          -14,
          -8,
          -3,
          -9,
          -9,
          -4,
          -13,
          -9,
          -6
         ]
        }
       ],
       "layout": {
        "shapes": [
         {
          "fillcolor": "LightSalmon",
          "layer": "below",
          "line": {
           "width": 0
          },
          "opacity": 0.5,
          "type": "rect",
          "x0": "2015-02-04",
          "x1": "2015-02-06",
          "xref": "x",
          "y0": 0,
          "y1": 1,
          "yref": "paper"
         },
         {
          "fillcolor": "LightSalmon",
          "layer": "below",
          "line": {
           "width": 0
          },
          "opacity": 0.5,
          "type": "rect",
          "x0": "2015-02-20",
          "x1": "2015-02-22",
          "xref": "x",
          "y0": 0,
          "y1": 1,
          "yref": "paper"
         }
        ],
        "template": {
         "data": {
          "bar": [
           {
            "error_x": {
             "color": "#2a3f5f"
            },
            "error_y": {
             "color": "#2a3f5f"
            },
            "marker": {
             "line": {
              "color": "#E5ECF6",
              "width": 0.5
             }
            },
            "type": "bar"
           }
          ],
          "barpolar": [
           {
            "marker": {
             "line": {
              "color": "#E5ECF6",
              "width": 0.5
             }
            },
            "type": "barpolar"
           }
          ],
          "carpet": [
           {
            "aaxis": {
             "endlinecolor": "#2a3f5f",
             "gridcolor": "white",
             "linecolor": "white",
             "minorgridcolor": "white",
             "startlinecolor": "#2a3f5f"
            },
            "baxis": {
             "endlinecolor": "#2a3f5f",
             "gridcolor": "white",
             "linecolor": "white",
             "minorgridcolor": "white",
             "startlinecolor": "#2a3f5f"
            },
            "type": "carpet"
           }
          ],
          "choropleth": [
           {
            "colorbar": {
             "outlinewidth": 0,
             "ticks": ""
            },
            "type": "choropleth"
           }
          ],
          "contour": [
           {
            "colorbar": {
             "outlinewidth": 0,
             "ticks": ""
            },
            "colorscale": [
             [
              0,
              "#0d0887"
             ],
             [
              0.1111111111111111,
              "#46039f"
             ],
             [
              0.2222222222222222,
              "#7201a8"
             ],
             [
              0.3333333333333333,
              "#9c179e"
             ],
             [
              0.4444444444444444,
              "#bd3786"
             ],
             [
              0.5555555555555556,
              "#d8576b"
             ],
             [
              0.6666666666666666,
              "#ed7953"
             ],
             [
              0.7777777777777778,
              "#fb9f3a"
             ],
             [
              0.8888888888888888,
              "#fdca26"
             ],
             [
              1,
              "#f0f921"
             ]
            ],
            "type": "contour"
           }
          ],
          "contourcarpet": [
           {
            "colorbar": {
             "outlinewidth": 0,
             "ticks": ""
            },
            "type": "contourcarpet"
           }
          ],
          "heatmap": [
           {
            "colorbar": {
             "outlinewidth": 0,
             "ticks": ""
            },
            "colorscale": [
             [
              0,
              "#0d0887"
             ],
             [
              0.1111111111111111,
              "#46039f"
             ],
             [
              0.2222222222222222,
              "#7201a8"
             ],
             [
              0.3333333333333333,
              "#9c179e"
             ],
             [
              0.4444444444444444,
              "#bd3786"
             ],
             [
              0.5555555555555556,
              "#d8576b"
             ],
             [
              0.6666666666666666,
              "#ed7953"
             ],
             [
              0.7777777777777778,
              "#fb9f3a"
             ],
             [
              0.8888888888888888,
              "#fdca26"
             ],
             [
              1,
              "#f0f921"
             ]
            ],
            "type": "heatmap"
           }
          ],
          "heatmapgl": [
           {
            "colorbar": {
             "outlinewidth": 0,
             "ticks": ""
            },
            "colorscale": [
             [
              0,
              "#0d0887"
             ],
             [
              0.1111111111111111,
              "#46039f"
             ],
             [
              0.2222222222222222,
              "#7201a8"
             ],
             [
              0.3333333333333333,
              "#9c179e"
             ],
             [
              0.4444444444444444,
              "#bd3786"
             ],
             [
              0.5555555555555556,
              "#d8576b"
             ],
             [
              0.6666666666666666,
              "#ed7953"
             ],
             [
              0.7777777777777778,
              "#fb9f3a"
             ],
             [
              0.8888888888888888,
              "#fdca26"
             ],
             [
              1,
              "#f0f921"
             ]
            ],
            "type": "heatmapgl"
           }
          ],
          "histogram": [
           {
            "marker": {
             "colorbar": {
              "outlinewidth": 0,
              "ticks": ""
             }
            },
            "type": "histogram"
           }
          ],
          "histogram2d": [
           {
            "colorbar": {
             "outlinewidth": 0,
             "ticks": ""
            },
            "colorscale": [
             [
              0,
              "#0d0887"
             ],
             [
              0.1111111111111111,
              "#46039f"
             ],
             [
              0.2222222222222222,
              "#7201a8"
             ],
             [
              0.3333333333333333,
              "#9c179e"
             ],
             [
              0.4444444444444444,
              "#bd3786"
             ],
             [
              0.5555555555555556,
              "#d8576b"
             ],
             [
              0.6666666666666666,
              "#ed7953"
             ],
             [
              0.7777777777777778,
              "#fb9f3a"
             ],
             [
              0.8888888888888888,
              "#fdca26"
             ],
             [
              1,
              "#f0f921"
             ]
            ],
            "type": "histogram2d"
           }
          ],
          "histogram2dcontour": [
           {
            "colorbar": {
             "outlinewidth": 0,
             "ticks": ""
            },
            "colorscale": [
             [
              0,
              "#0d0887"
             ],
             [
              0.1111111111111111,
              "#46039f"
             ],
             [
              0.2222222222222222,
              "#7201a8"
             ],
             [
              0.3333333333333333,
              "#9c179e"
             ],
             [
              0.4444444444444444,
              "#bd3786"
             ],
             [
              0.5555555555555556,
              "#d8576b"
             ],
             [
              0.6666666666666666,
              "#ed7953"
             ],
             [
              0.7777777777777778,
              "#fb9f3a"
             ],
             [
              0.8888888888888888,
              "#fdca26"
             ],
             [
              1,
              "#f0f921"
             ]
            ],
            "type": "histogram2dcontour"
           }
          ],
          "mesh3d": [
           {
            "colorbar": {
             "outlinewidth": 0,
             "ticks": ""
            },
            "type": "mesh3d"
           }
          ],
          "parcoords": [
           {
            "line": {
             "colorbar": {
              "outlinewidth": 0,
              "ticks": ""
             }
            },
            "type": "parcoords"
           }
          ],
          "pie": [
           {
            "automargin": true,
            "type": "pie"
           }
          ],
          "scatter": [
           {
            "marker": {
             "colorbar": {
              "outlinewidth": 0,
              "ticks": ""
             }
            },
            "type": "scatter"
           }
          ],
          "scatter3d": [
           {
            "line": {
             "colorbar": {
              "outlinewidth": 0,
              "ticks": ""
             }
            },
            "marker": {
             "colorbar": {
              "outlinewidth": 0,
              "ticks": ""
             }
            },
            "type": "scatter3d"
           }
          ],
          "scattercarpet": [
           {
            "marker": {
             "colorbar": {
              "outlinewidth": 0,
              "ticks": ""
             }
            },
            "type": "scattercarpet"
           }
          ],
          "scattergeo": [
           {
            "marker": {
             "colorbar": {
              "outlinewidth": 0,
              "ticks": ""
             }
            },
            "type": "scattergeo"
           }
          ],
          "scattergl": [
           {
            "marker": {
             "colorbar": {
              "outlinewidth": 0,
              "ticks": ""
             }
            },
            "type": "scattergl"
           }
          ],
          "scattermapbox": [
           {
            "marker": {
             "colorbar": {
              "outlinewidth": 0,
              "ticks": ""
             }
            },
            "type": "scattermapbox"
           }
          ],
          "scatterpolar": [
           {
            "marker": {
             "colorbar": {
              "outlinewidth": 0,
              "ticks": ""
             }
            },
            "type": "scatterpolar"
           }
          ],
          "scatterpolargl": [
           {
            "marker": {
             "colorbar": {
              "outlinewidth": 0,
              "ticks": ""
             }
            },
            "type": "scatterpolargl"
           }
          ],
          "scatterternary": [
           {
            "marker": {
             "colorbar": {
              "outlinewidth": 0,
              "ticks": ""
             }
            },
            "type": "scatterternary"
           }
          ],
          "surface": [
           {
            "colorbar": {
             "outlinewidth": 0,
             "ticks": ""
            },
            "colorscale": [
             [
              0,
              "#0d0887"
             ],
             [
              0.1111111111111111,
              "#46039f"
             ],
             [
              0.2222222222222222,
              "#7201a8"
             ],
             [
              0.3333333333333333,
              "#9c179e"
             ],
             [
              0.4444444444444444,
              "#bd3786"
             ],
             [
              0.5555555555555556,
              "#d8576b"
             ],
             [
              0.6666666666666666,
              "#ed7953"
             ],
             [
              0.7777777777777778,
              "#fb9f3a"
             ],
             [
              0.8888888888888888,
              "#fdca26"
             ],
             [
              1,
              "#f0f921"
             ]
            ],
            "type": "surface"
           }
          ],
          "table": [
           {
            "cells": {
             "fill": {
              "color": "#EBF0F8"
             },
             "line": {
              "color": "white"
             }
            },
            "header": {
             "fill": {
              "color": "#C8D4E3"
             },
             "line": {
              "color": "white"
             }
            },
            "type": "table"
           }
          ]
         },
         "layout": {
          "annotationdefaults": {
           "arrowcolor": "#2a3f5f",
           "arrowhead": 0,
           "arrowwidth": 1
          },
          "coloraxis": {
           "colorbar": {
            "outlinewidth": 0,
            "ticks": ""
           }
          },
          "colorscale": {
           "diverging": [
            [
             0,
             "#8e0152"
            ],
            [
             0.1,
             "#c51b7d"
            ],
            [
             0.2,
             "#de77ae"
            ],
            [
             0.3,
             "#f1b6da"
            ],
            [
             0.4,
             "#fde0ef"
            ],
            [
             0.5,
             "#f7f7f7"
            ],
            [
             0.6,
             "#e6f5d0"
            ],
            [
             0.7,
             "#b8e186"
            ],
            [
             0.8,
             "#7fbc41"
            ],
            [
             0.9,
             "#4d9221"
            ],
            [
             1,
             "#276419"
            ]
           ],
           "sequential": [
            [
             0,
             "#0d0887"
            ],
            [
             0.1111111111111111,
             "#46039f"
            ],
            [
             0.2222222222222222,
             "#7201a8"
            ],
            [
             0.3333333333333333,
             "#9c179e"
            ],
            [
             0.4444444444444444,
             "#bd3786"
            ],
            [
             0.5555555555555556,
             "#d8576b"
            ],
            [
             0.6666666666666666,
             "#ed7953"
            ],
            [
             0.7777777777777778,
             "#fb9f3a"
            ],
            [
             0.8888888888888888,
             "#fdca26"
            ],
            [
             1,
             "#f0f921"
            ]
           ],
           "sequentialminus": [
            [
             0,
             "#0d0887"
            ],
            [
             0.1111111111111111,
             "#46039f"
            ],
            [
             0.2222222222222222,
             "#7201a8"
            ],
            [
             0.3333333333333333,
             "#9c179e"
            ],
            [
             0.4444444444444444,
             "#bd3786"
            ],
            [
             0.5555555555555556,
             "#d8576b"
            ],
            [
             0.6666666666666666,
             "#ed7953"
            ],
            [
             0.7777777777777778,
             "#fb9f3a"
            ],
            [
             0.8888888888888888,
             "#fdca26"
            ],
            [
             1,
             "#f0f921"
            ]
           ]
          },
          "colorway": [
           "#636efa",
           "#EF553B",
           "#00cc96",
           "#ab63fa",
           "#FFA15A",
           "#19d3f3",
           "#FF6692",
           "#B6E880",
           "#FF97FF",
           "#FECB52"
          ],
          "font": {
           "color": "#2a3f5f"
          },
          "geo": {
           "bgcolor": "white",
           "lakecolor": "white",
           "landcolor": "#E5ECF6",
           "showlakes": true,
           "showland": true,
           "subunitcolor": "white"
          },
          "hoverlabel": {
           "align": "left"
          },
          "hovermode": "closest",
          "mapbox": {
           "style": "light"
          },
          "paper_bgcolor": "white",
          "plot_bgcolor": "#E5ECF6",
          "polar": {
           "angularaxis": {
            "gridcolor": "white",
            "linecolor": "white",
            "ticks": ""
           },
           "bgcolor": "#E5ECF6",
           "radialaxis": {
            "gridcolor": "white",
            "linecolor": "white",
            "ticks": ""
           }
          },
          "scene": {
           "xaxis": {
            "backgroundcolor": "#E5ECF6",
            "gridcolor": "white",
            "gridwidth": 2,
            "linecolor": "white",
            "showbackground": true,
            "ticks": "",
            "zerolinecolor": "white"
           },
           "yaxis": {
            "backgroundcolor": "#E5ECF6",
            "gridcolor": "white",
            "gridwidth": 2,
            "linecolor": "white",
            "showbackground": true,
            "ticks": "",
            "zerolinecolor": "white"
           },
           "zaxis": {
            "backgroundcolor": "#E5ECF6",
            "gridcolor": "white",
            "gridwidth": 2,
            "linecolor": "white",
            "showbackground": true,
            "ticks": "",
            "zerolinecolor": "white"
           }
          },
          "shapedefaults": {
           "line": {
            "color": "#2a3f5f"
           }
          },
          "ternary": {
           "aaxis": {
            "gridcolor": "white",
            "linecolor": "white",
            "ticks": ""
           },
           "baxis": {
            "gridcolor": "white",
            "linecolor": "white",
            "ticks": ""
           },
           "bgcolor": "#E5ECF6",
           "caxis": {
            "gridcolor": "white",
            "linecolor": "white",
            "ticks": ""
           }
          },
          "title": {
           "x": 0.05
          },
          "xaxis": {
           "automargin": true,
           "gridcolor": "white",
           "linecolor": "white",
           "ticks": "",
           "title": {
            "standoff": 15
           },
           "zerolinecolor": "white",
           "zerolinewidth": 2
          },
          "yaxis": {
           "automargin": true,
           "gridcolor": "white",
           "linecolor": "white",
           "ticks": "",
           "title": {
            "standoff": 15
           },
           "zerolinecolor": "white",
           "zerolinewidth": 2
          }
         }
        }
       }
      },
      "text/html": [
       "<div>\n",
       "        \n",
       "        \n",
       "            <div id=\"0fd6829a-71c5-4164-93fb-8b1d993cd1c2\" class=\"plotly-graph-div\" style=\"height:525px; width:100%;\"></div>\n",
       "            <script type=\"text/javascript\">\n",
       "                require([\"plotly\"], function(Plotly) {\n",
       "                    window.PLOTLYENV=window.PLOTLYENV || {};\n",
       "                    \n",
       "                if (document.getElementById(\"0fd6829a-71c5-4164-93fb-8b1d993cd1c2\")) {\n",
       "                    Plotly.newPlot(\n",
       "                        '0fd6829a-71c5-4164-93fb-8b1d993cd1c2',\n",
       "                        [{\"mode\": \"lines\", \"name\": \"temperature\", \"type\": \"scatter\", \"x\": [\"2015-02-01\", \"2015-02-02\", \"2015-02-03\", \"2015-02-04\", \"2015-02-05\", \"2015-02-06\", \"2015-02-07\", \"2015-02-08\", \"2015-02-09\", \"2015-02-10\", \"2015-02-11\", \"2015-02-12\", \"2015-02-13\", \"2015-02-14\", \"2015-02-15\", \"2015-02-16\", \"2015-02-17\", \"2015-02-18\", \"2015-02-19\", \"2015-02-20\", \"2015-02-21\", \"2015-02-22\", \"2015-02-23\", \"2015-02-24\", \"2015-02-25\", \"2015-02-26\", \"2015-02-27\", \"2015-02-28\"], \"y\": [-14, -17, -8, -4, -7, -10, -12, -14, -12, -7, -11, -7, -18, -14, -14, -16, -13, -7, -8, -14, -8, -3, -9, -9, -4, -13, -9, -6]}],\n",
       "                        {\"shapes\": [{\"fillcolor\": \"LightSalmon\", \"layer\": \"below\", \"line\": {\"width\": 0}, \"opacity\": 0.5, \"type\": \"rect\", \"x0\": \"2015-02-04\", \"x1\": \"2015-02-06\", \"xref\": \"x\", \"y0\": 0, \"y1\": 1, \"yref\": \"paper\"}, {\"fillcolor\": \"LightSalmon\", \"layer\": \"below\", \"line\": {\"width\": 0}, \"opacity\": 0.5, \"type\": \"rect\", \"x0\": \"2015-02-20\", \"x1\": \"2015-02-22\", \"xref\": \"x\", \"y0\": 0, \"y1\": 1, \"yref\": \"paper\"}], \"template\": {\"data\": {\"bar\": [{\"error_x\": {\"color\": \"#2a3f5f\"}, \"error_y\": {\"color\": \"#2a3f5f\"}, \"marker\": {\"line\": {\"color\": \"#E5ECF6\", \"width\": 0.5}}, \"type\": \"bar\"}], \"barpolar\": [{\"marker\": {\"line\": {\"color\": \"#E5ECF6\", \"width\": 0.5}}, \"type\": \"barpolar\"}], \"carpet\": [{\"aaxis\": {\"endlinecolor\": \"#2a3f5f\", \"gridcolor\": \"white\", \"linecolor\": \"white\", \"minorgridcolor\": \"white\", \"startlinecolor\": \"#2a3f5f\"}, \"baxis\": {\"endlinecolor\": \"#2a3f5f\", \"gridcolor\": \"white\", \"linecolor\": \"white\", \"minorgridcolor\": \"white\", \"startlinecolor\": \"#2a3f5f\"}, \"type\": \"carpet\"}], \"choropleth\": [{\"colorbar\": {\"outlinewidth\": 0, \"ticks\": \"\"}, \"type\": \"choropleth\"}], \"contour\": [{\"colorbar\": {\"outlinewidth\": 0, \"ticks\": \"\"}, \"colorscale\": [[0.0, \"#0d0887\"], [0.1111111111111111, \"#46039f\"], [0.2222222222222222, \"#7201a8\"], [0.3333333333333333, \"#9c179e\"], [0.4444444444444444, \"#bd3786\"], [0.5555555555555556, \"#d8576b\"], [0.6666666666666666, \"#ed7953\"], [0.7777777777777778, \"#fb9f3a\"], [0.8888888888888888, \"#fdca26\"], [1.0, \"#f0f921\"]], \"type\": \"contour\"}], \"contourcarpet\": [{\"colorbar\": {\"outlinewidth\": 0, \"ticks\": \"\"}, \"type\": \"contourcarpet\"}], \"heatmap\": [{\"colorbar\": {\"outlinewidth\": 0, \"ticks\": \"\"}, \"colorscale\": [[0.0, \"#0d0887\"], [0.1111111111111111, \"#46039f\"], [0.2222222222222222, \"#7201a8\"], [0.3333333333333333, \"#9c179e\"], [0.4444444444444444, \"#bd3786\"], [0.5555555555555556, \"#d8576b\"], [0.6666666666666666, \"#ed7953\"], [0.7777777777777778, \"#fb9f3a\"], [0.8888888888888888, \"#fdca26\"], [1.0, \"#f0f921\"]], \"type\": \"heatmap\"}], \"heatmapgl\": [{\"colorbar\": {\"outlinewidth\": 0, \"ticks\": \"\"}, \"colorscale\": [[0.0, \"#0d0887\"], [0.1111111111111111, \"#46039f\"], [0.2222222222222222, \"#7201a8\"], [0.3333333333333333, \"#9c179e\"], [0.4444444444444444, \"#bd3786\"], [0.5555555555555556, \"#d8576b\"], [0.6666666666666666, \"#ed7953\"], [0.7777777777777778, \"#fb9f3a\"], [0.8888888888888888, \"#fdca26\"], [1.0, \"#f0f921\"]], \"type\": \"heatmapgl\"}], \"histogram\": [{\"marker\": {\"colorbar\": {\"outlinewidth\": 0, \"ticks\": \"\"}}, \"type\": \"histogram\"}], \"histogram2d\": [{\"colorbar\": {\"outlinewidth\": 0, \"ticks\": \"\"}, \"colorscale\": [[0.0, \"#0d0887\"], [0.1111111111111111, \"#46039f\"], [0.2222222222222222, \"#7201a8\"], [0.3333333333333333, \"#9c179e\"], [0.4444444444444444, \"#bd3786\"], [0.5555555555555556, \"#d8576b\"], [0.6666666666666666, \"#ed7953\"], [0.7777777777777778, \"#fb9f3a\"], [0.8888888888888888, \"#fdca26\"], [1.0, \"#f0f921\"]], \"type\": \"histogram2d\"}], \"histogram2dcontour\": [{\"colorbar\": {\"outlinewidth\": 0, \"ticks\": \"\"}, \"colorscale\": [[0.0, \"#0d0887\"], [0.1111111111111111, \"#46039f\"], [0.2222222222222222, \"#7201a8\"], [0.3333333333333333, \"#9c179e\"], [0.4444444444444444, \"#bd3786\"], [0.5555555555555556, \"#d8576b\"], [0.6666666666666666, \"#ed7953\"], [0.7777777777777778, \"#fb9f3a\"], [0.8888888888888888, \"#fdca26\"], [1.0, \"#f0f921\"]], \"type\": \"histogram2dcontour\"}], \"mesh3d\": [{\"colorbar\": {\"outlinewidth\": 0, \"ticks\": \"\"}, \"type\": \"mesh3d\"}], \"parcoords\": [{\"line\": {\"colorbar\": {\"outlinewidth\": 0, \"ticks\": \"\"}}, \"type\": \"parcoords\"}], \"pie\": [{\"automargin\": true, \"type\": \"pie\"}], \"scatter\": [{\"marker\": {\"colorbar\": {\"outlinewidth\": 0, \"ticks\": \"\"}}, \"type\": \"scatter\"}], \"scatter3d\": [{\"line\": {\"colorbar\": {\"outlinewidth\": 0, \"ticks\": \"\"}}, \"marker\": {\"colorbar\": {\"outlinewidth\": 0, \"ticks\": \"\"}}, \"type\": \"scatter3d\"}], \"scattercarpet\": [{\"marker\": {\"colorbar\": {\"outlinewidth\": 0, \"ticks\": \"\"}}, \"type\": \"scattercarpet\"}], \"scattergeo\": [{\"marker\": {\"colorbar\": {\"outlinewidth\": 0, \"ticks\": \"\"}}, \"type\": \"scattergeo\"}], \"scattergl\": [{\"marker\": {\"colorbar\": {\"outlinewidth\": 0, \"ticks\": \"\"}}, \"type\": \"scattergl\"}], \"scattermapbox\": [{\"marker\": {\"colorbar\": {\"outlinewidth\": 0, \"ticks\": \"\"}}, \"type\": \"scattermapbox\"}], \"scatterpolar\": [{\"marker\": {\"colorbar\": {\"outlinewidth\": 0, \"ticks\": \"\"}}, \"type\": \"scatterpolar\"}], \"scatterpolargl\": [{\"marker\": {\"colorbar\": {\"outlinewidth\": 0, \"ticks\": \"\"}}, \"type\": \"scatterpolargl\"}], \"scatterternary\": [{\"marker\": {\"colorbar\": {\"outlinewidth\": 0, \"ticks\": \"\"}}, \"type\": \"scatterternary\"}], \"surface\": [{\"colorbar\": {\"outlinewidth\": 0, \"ticks\": \"\"}, \"colorscale\": [[0.0, \"#0d0887\"], [0.1111111111111111, \"#46039f\"], [0.2222222222222222, \"#7201a8\"], [0.3333333333333333, \"#9c179e\"], [0.4444444444444444, \"#bd3786\"], [0.5555555555555556, \"#d8576b\"], [0.6666666666666666, \"#ed7953\"], [0.7777777777777778, \"#fb9f3a\"], [0.8888888888888888, \"#fdca26\"], [1.0, \"#f0f921\"]], \"type\": \"surface\"}], \"table\": [{\"cells\": {\"fill\": {\"color\": \"#EBF0F8\"}, \"line\": {\"color\": \"white\"}}, \"header\": {\"fill\": {\"color\": \"#C8D4E3\"}, \"line\": {\"color\": \"white\"}}, \"type\": \"table\"}]}, \"layout\": {\"annotationdefaults\": {\"arrowcolor\": \"#2a3f5f\", \"arrowhead\": 0, \"arrowwidth\": 1}, \"coloraxis\": {\"colorbar\": {\"outlinewidth\": 0, \"ticks\": \"\"}}, \"colorscale\": {\"diverging\": [[0, \"#8e0152\"], [0.1, \"#c51b7d\"], [0.2, \"#de77ae\"], [0.3, \"#f1b6da\"], [0.4, \"#fde0ef\"], [0.5, \"#f7f7f7\"], [0.6, \"#e6f5d0\"], [0.7, \"#b8e186\"], [0.8, \"#7fbc41\"], [0.9, \"#4d9221\"], [1, \"#276419\"]], \"sequential\": [[0.0, \"#0d0887\"], [0.1111111111111111, \"#46039f\"], [0.2222222222222222, \"#7201a8\"], [0.3333333333333333, \"#9c179e\"], [0.4444444444444444, \"#bd3786\"], [0.5555555555555556, \"#d8576b\"], [0.6666666666666666, \"#ed7953\"], [0.7777777777777778, \"#fb9f3a\"], [0.8888888888888888, \"#fdca26\"], [1.0, \"#f0f921\"]], \"sequentialminus\": [[0.0, \"#0d0887\"], [0.1111111111111111, \"#46039f\"], [0.2222222222222222, \"#7201a8\"], [0.3333333333333333, \"#9c179e\"], [0.4444444444444444, \"#bd3786\"], [0.5555555555555556, \"#d8576b\"], [0.6666666666666666, \"#ed7953\"], [0.7777777777777778, \"#fb9f3a\"], [0.8888888888888888, \"#fdca26\"], [1.0, \"#f0f921\"]]}, \"colorway\": [\"#636efa\", \"#EF553B\", \"#00cc96\", \"#ab63fa\", \"#FFA15A\", \"#19d3f3\", \"#FF6692\", \"#B6E880\", \"#FF97FF\", \"#FECB52\"], \"font\": {\"color\": \"#2a3f5f\"}, \"geo\": {\"bgcolor\": \"white\", \"lakecolor\": \"white\", \"landcolor\": \"#E5ECF6\", \"showlakes\": true, \"showland\": true, \"subunitcolor\": \"white\"}, \"hoverlabel\": {\"align\": \"left\"}, \"hovermode\": \"closest\", \"mapbox\": {\"style\": \"light\"}, \"paper_bgcolor\": \"white\", \"plot_bgcolor\": \"#E5ECF6\", \"polar\": {\"angularaxis\": {\"gridcolor\": \"white\", \"linecolor\": \"white\", \"ticks\": \"\"}, \"bgcolor\": \"#E5ECF6\", \"radialaxis\": {\"gridcolor\": \"white\", \"linecolor\": \"white\", \"ticks\": \"\"}}, \"scene\": {\"xaxis\": {\"backgroundcolor\": \"#E5ECF6\", \"gridcolor\": \"white\", \"gridwidth\": 2, \"linecolor\": \"white\", \"showbackground\": true, \"ticks\": \"\", \"zerolinecolor\": \"white\"}, \"yaxis\": {\"backgroundcolor\": \"#E5ECF6\", \"gridcolor\": \"white\", \"gridwidth\": 2, \"linecolor\": \"white\", \"showbackground\": true, \"ticks\": \"\", \"zerolinecolor\": \"white\"}, \"zaxis\": {\"backgroundcolor\": \"#E5ECF6\", \"gridcolor\": \"white\", \"gridwidth\": 2, \"linecolor\": \"white\", \"showbackground\": true, \"ticks\": \"\", \"zerolinecolor\": \"white\"}}, \"shapedefaults\": {\"line\": {\"color\": \"#2a3f5f\"}}, \"ternary\": {\"aaxis\": {\"gridcolor\": \"white\", \"linecolor\": \"white\", \"ticks\": \"\"}, \"baxis\": {\"gridcolor\": \"white\", \"linecolor\": \"white\", \"ticks\": \"\"}, \"bgcolor\": \"#E5ECF6\", \"caxis\": {\"gridcolor\": \"white\", \"linecolor\": \"white\", \"ticks\": \"\"}}, \"title\": {\"x\": 0.05}, \"xaxis\": {\"automargin\": true, \"gridcolor\": \"white\", \"linecolor\": \"white\", \"ticks\": \"\", \"title\": {\"standoff\": 15}, \"zerolinecolor\": \"white\", \"zerolinewidth\": 2}, \"yaxis\": {\"automargin\": true, \"gridcolor\": \"white\", \"linecolor\": \"white\", \"ticks\": \"\", \"title\": {\"standoff\": 15}, \"zerolinecolor\": \"white\", \"zerolinewidth\": 2}}}},\n",
       "                        {\"responsive\": true}\n",
       "                    ).then(function(){\n",
       "                            \n",
       "var gd = document.getElementById('0fd6829a-71c5-4164-93fb-8b1d993cd1c2');\n",
       "var x = new MutationObserver(function (mutations, observer) {{\n",
       "        var display = window.getComputedStyle(gd).display;\n",
       "        if (!display || display === 'none') {{\n",
       "            console.log([gd, 'removed!']);\n",
       "            Plotly.purge(gd);\n",
       "            observer.disconnect();\n",
       "        }}\n",
       "}});\n",
       "\n",
       "// Listen for the removal of the full notebook cells\n",
       "var notebookContainer = gd.closest('#notebook-container');\n",
       "if (notebookContainer) {{\n",
       "    x.observe(notebookContainer, {childList: true});\n",
       "}}\n",
       "\n",
       "// Listen for the clearing of the current output cell\n",
       "var outputEl = gd.closest('.output');\n",
       "if (outputEl) {{\n",
       "    x.observe(outputEl, {childList: true});\n",
       "}}\n",
       "\n",
       "                        })\n",
       "                };\n",
       "                });\n",
       "            </script>\n",
       "        </div>"
      ]
     },
     "metadata": {},
     "output_type": "display_data"
    }
   ],
   "source": [
    "fig = go.Figure()\n",
    "\n",
    "# Add scatter trace for line\n",
    "fig.add_trace(go.Scatter(\n",
    "    x=[\"2015-02-01\", \"2015-02-02\", \"2015-02-03\", \"2015-02-04\", \"2015-02-05\",\n",
    "       \"2015-02-06\", \"2015-02-07\", \"2015-02-08\", \"2015-02-09\", \"2015-02-10\",\n",
    "       \"2015-02-11\", \"2015-02-12\", \"2015-02-13\", \"2015-02-14\", \"2015-02-15\",\n",
    "       \"2015-02-16\", \"2015-02-17\", \"2015-02-18\", \"2015-02-19\", \"2015-02-20\",\n",
    "       \"2015-02-21\", \"2015-02-22\", \"2015-02-23\", \"2015-02-24\", \"2015-02-25\",\n",
    "       \"2015-02-26\", \"2015-02-27\", \"2015-02-28\"],\n",
    "    y=[-14, -17, -8, -4, -7, -10, -12, -14, -12, -7, -11, -7, -18, -14, -14,\n",
    "       -16, -13, -7, -8, -14, -8, -3, -9, -9, -4, -13, -9, -6],\n",
    "    mode=\"lines\",\n",
    "    name=\"temperature\"\n",
    "))\n",
    "\n",
    "# Add shape regions\n",
    "fig.update_layout(\n",
    "    shapes=[\n",
    "        # 1st highlight during Feb 4 - Feb 6\n",
    "        dict(\n",
    "            type=\"rect\",\n",
    "            # x-reference is assigned to the x-values\n",
    "            xref=\"x\",\n",
    "            # y-reference is assigned to the plot paper [0,1]\n",
    "            yref=\"paper\",\n",
    "            x0=\"2015-02-04\",\n",
    "            y0=0,\n",
    "            x1=\"2015-02-06\",\n",
    "            y1=1,\n",
    "            fillcolor=\"LightSalmon\",\n",
    "            opacity=0.5,\n",
    "            layer=\"below\",\n",
    "            line_width=0,\n",
    "        ),\n",
    "        # 2nd highlight during Feb 20 - Feb 23\n",
    "        dict(\n",
    "            type=\"rect\",\n",
    "            xref=\"x\",\n",
    "            yref=\"paper\",\n",
    "            x0=\"2015-02-20\",\n",
    "            y0=0,\n",
    "            x1=\"2015-02-22\",\n",
    "            y1=1,\n",
    "            fillcolor=\"LightSalmon\",\n",
    "            opacity=0.5,\n",
    "            layer=\"below\",\n",
    "            line_width=0,\n",
    "        )\n",
    "    ]\n",
    ")\n",
    "\n",
    "fig.show()"
   ]
  },
  {
   "cell_type": "code",
   "execution_count": 19,
   "metadata": {
    "scrolled": false
   },
   "outputs": [
    {
     "data": {
      "application/vnd.plotly.v1+json": {
       "config": {
        "linkText": "Export to plot.ly",
        "plotlyServerURL": "https://plot.ly",
        "showLink": false
       },
       "data": [
        {
         "name": "vol_sum",
         "type": "scatter",
         "x": [
          20160104,
          20160105,
          20160106,
          20160107,
          20160108,
          20160111,
          20160112,
          20160113,
          20160114,
          20160115,
          20160118,
          20160119,
          20160120,
          20160121,
          20160122,
          20160125,
          20160126,
          20160127,
          20160128,
          20160129,
          20160201,
          20160202,
          20160203,
          20160204,
          20160205,
          20160208,
          20160209,
          20160210,
          20160211,
          20160212,
          20160215,
          20160216,
          20160217,
          20160218,
          20160219,
          20160222,
          20160223,
          20160224,
          20160225,
          20160226,
          20160229,
          20160301,
          20160302,
          20160303,
          20160304,
          20160307,
          20160308,
          20160309,
          20160310,
          20160311,
          20160314,
          20160315,
          20160316,
          20160317,
          20160318,
          20160321,
          20160322,
          20160323,
          20160324,
          20160328,
          20160329,
          20160330,
          20160331,
          20160401,
          20160404,
          20160405,
          20160406,
          20160407,
          20160408,
          20160411,
          20160412,
          20160413,
          20160414,
          20160415,
          20160418,
          20160419,
          20160420,
          20160421,
          20160422,
          20160425,
          20160426,
          20160427,
          20160428,
          20160429,
          20160502,
          20160503,
          20160504,
          20160505,
          20160506,
          20160509,
          20160510,
          20160511,
          20160512,
          20160513,
          20160516,
          20160517,
          20160518,
          20160519,
          20160520,
          20160523,
          20160524,
          20160525,
          20160526,
          20160527,
          20160530,
          20160531,
          20160601,
          20160602,
          20160603,
          20160606,
          20160607,
          20160608,
          20160609,
          20160610,
          20160613,
          20160614,
          20160615,
          20160616,
          20160617,
          20160620,
          20160621,
          20160622,
          20160623,
          20160624,
          20160627,
          20160628,
          20160629,
          20160630,
          20160701,
          20160704,
          20160705,
          20160706,
          20160707,
          20160708,
          20160711,
          20160712,
          20160713,
          20160714,
          20160715,
          20160718,
          20160719,
          20160720,
          20160721,
          20160722,
          20160725,
          20160726,
          20160727,
          20160728,
          20160729,
          20160801,
          20160802,
          20160803,
          20160804,
          20160805,
          20160808,
          20160809,
          20160810,
          20160811,
          20160812,
          20160815,
          20160816,
          20160817,
          20160818,
          20160819,
          20160822,
          20160823,
          20160824,
          20160825,
          20160826,
          20160829,
          20160830,
          20160831,
          20160901,
          20160902,
          20160905,
          20160906,
          20160907,
          20160908,
          20160909,
          20160912,
          20160913,
          20160914,
          20160915,
          20160916,
          20160919,
          20160920,
          20160921,
          20160922,
          20160923,
          20160926,
          20160927,
          20160928,
          20160929,
          20160930,
          20161003,
          20161004,
          20161005,
          20161006,
          20161007,
          20161010,
          20161011,
          20161012,
          20161013,
          20161014,
          20161017,
          20161018,
          20161019,
          20161020,
          20161021,
          20161024,
          20161025,
          20161026,
          20161027,
          20161028,
          20161031,
          20161101,
          20161102,
          20161103,
          20161104,
          20161107,
          20161108,
          20161109,
          20161110,
          20161111,
          20161114,
          20161115,
          20161116,
          20161117,
          20161118,
          20161121,
          20161122,
          20161123,
          20161124,
          20161125,
          20161128,
          20161129,
          20161130,
          20161201,
          20161202,
          20161205,
          20161206,
          20161207,
          20161208,
          20161209,
          20161212,
          20161213,
          20161214,
          20161215,
          20161216,
          20161219,
          20161220,
          20161221,
          20161222,
          20161223,
          20161226,
          20161227,
          20161228,
          20161229,
          20161230
         ],
         "y": [
          78832,
          137885,
          127771,
          272941,
          225819,
          183433,
          303554,
          301914,
          228562,
          141029,
          191254,
          235651,
          194286,
          284307,
          269083,
          238865,
          161576,
          151839,
          213824,
          263000,
          239702,
          167850,
          254073,
          226242,
          249272,
          170730,
          108543,
          218729,
          211742,
          297642,
          270249,
          303090,
          283799,
          166214,
          154055,
          138342,
          116345,
          170754,
          163600,
          138434,
          185574,
          119943,
          180245,
          173395,
          161502,
          190550,
          258566,
          243794,
          177068,
          188685,
          205960,
          173439,
          172697,
          158473,
          168229,
          143925,
          106067,
          120016,
          106045,
          151508,
          69881,
          127397,
          162134,
          113378,
          174680,
          148685,
          175404,
          159671,
          128687,
          274849,
          237489,
          264875,
          184008,
          160959,
          123263,
          175076,
          179075,
          221817,
          101850,
          121924,
          104864,
          106227,
          227984,
          178411,
          188962,
          136556,
          150379,
          193729,
          221577,
          133870,
          144019,
          146662,
          238717,
          232333,
          180095,
          261839,
          131039,
          182216,
          140916,
          98903,
          78155,
          135508,
          157066,
          116374,
          49777,
          105093,
          137262,
          171080,
          148602,
          115969,
          104054,
          98399,
          184144,
          100109,
          167872,
          128365,
          129882,
          202478,
          133330,
          136313,
          110053,
          83403,
          151025,
          95722,
          235160,
          152937,
          175407,
          202517,
          101234,
          74181,
          100688,
          199971,
          194054,
          306267,
          187547,
          182063,
          259096,
          216698,
          168720,
          102189,
          111131,
          104817,
          146909,
          109238,
          147937,
          141964,
          121524,
          201313,
          175450,
          180367,
          244343,
          273062,
          202140,
          153391,
          143365,
          153750,
          159151,
          184919,
          200813,
          198619,
          244243,
          260882,
          129228,
          213304,
          142572,
          100983,
          160785,
          115129,
          100783,
          131823,
          80976,
          106740,
          196863,
          232728,
          122777,
          142150,
          177707,
          193609,
          295118,
          176182,
          159022,
          185603,
          283050,
          108054,
          143553,
          84403,
          152300,
          101440,
          130230,
          209171,
          124373,
          167983,
          301713,
          249049,
          153481,
          127254,
          146150,
          224764,
          189722,
          132841,
          180308,
          164104,
          165016,
          151382,
          147429,
          80703,
          124667,
          208423,
          117705,
          101121,
          136932,
          105869,
          127815,
          96369,
          147258,
          227947,
          249772,
          303596,
          184371,
          280252,
          116894,
          174766,
          208017,
          133559,
          212719,
          312083,
          434879,
          177084,
          134350,
          106609,
          188628,
          170519,
          83990,
          168080,
          151018,
          223057,
          460685,
          579875,
          421883,
          239526,
          241952,
          221566,
          248428,
          214443,
          203765,
          404614,
          184647,
          372316,
          173847,
          140844,
          78532,
          122670,
          111822,
          76945,
          5527,
          37770,
          67661,
          98253,
          82993
         ],
         "yaxis": "y"
        }
       ],
       "layout": {
        "margin": {
         "b": 100
        },
        "shapes": [
         {
          "fillcolor": "LightSalmon",
          "layer": "below",
          "line": {
           "width": 0
          },
          "opacity": 0.5,
          "type": "rect",
          "x0": 20160113,
          "x1": 20160115,
          "xref": "x",
          "y0": 0,
          "y1": 1,
          "yref": "paper"
         },
         {
          "fillcolor": "LightSalmon",
          "layer": "below",
          "line": {
           "width": 0
          },
          "opacity": 0.5,
          "type": "rect",
          "x0": 20160216,
          "x1": 20160218,
          "xref": "x",
          "y0": 0,
          "y1": 1,
          "yref": "paper"
         },
         {
          "fillcolor": "LightSalmon",
          "layer": "below",
          "line": {
           "width": 0
          },
          "opacity": 0.5,
          "type": "rect",
          "x0": 20160315,
          "x1": 20160317,
          "xref": "x",
          "y0": 0,
          "y1": 1,
          "yref": "paper"
         },
         {
          "fillcolor": "LightSalmon",
          "layer": "below",
          "line": {
           "width": 0
          },
          "opacity": 0.5,
          "type": "rect",
          "x0": 20160414,
          "x1": 20160418,
          "xref": "x",
          "y0": 0,
          "y1": 1,
          "yref": "paper"
         },
         {
          "fillcolor": "LightSalmon",
          "layer": "below",
          "line": {
           "width": 0
          },
          "opacity": 0.5,
          "type": "rect",
          "x0": 20160516,
          "x1": 20160518,
          "xref": "x",
          "y0": 0,
          "y1": 1,
          "yref": "paper"
         },
         {
          "fillcolor": "LightSalmon",
          "layer": "below",
          "line": {
           "width": 0
          },
          "opacity": 0.5,
          "type": "rect",
          "x0": 20160615,
          "x1": 20160617,
          "xref": "x",
          "y0": 0,
          "y1": 1,
          "yref": "paper"
         },
         {
          "fillcolor": "LightSalmon",
          "layer": "below",
          "line": {
           "width": 0
          },
          "opacity": 0.5,
          "type": "rect",
          "x0": 20160714,
          "x1": 20160718,
          "xref": "x",
          "y0": 0,
          "y1": 1,
          "yref": "paper"
         },
         {
          "fillcolor": "LightSalmon",
          "layer": "below",
          "line": {
           "width": 0
          },
          "opacity": 0.5,
          "type": "rect",
          "x0": 20160816,
          "x1": 20160818,
          "xref": "x",
          "y0": 0,
          "y1": 1,
          "yref": "paper"
         },
         {
          "fillcolor": "LightSalmon",
          "layer": "below",
          "line": {
           "width": 0
          },
          "opacity": 0.5,
          "type": "rect",
          "x0": 20160914,
          "x1": 20160916,
          "xref": "x",
          "y0": 0,
          "y1": 1,
          "yref": "paper"
         },
         {
          "fillcolor": "LightSalmon",
          "layer": "below",
          "line": {
           "width": 0
          },
          "opacity": 0.5,
          "type": "rect",
          "x0": 20161014,
          "x1": 20161018,
          "xref": "x",
          "y0": 0,
          "y1": 1,
          "yref": "paper"
         },
         {
          "fillcolor": "LightSalmon",
          "layer": "below",
          "line": {
           "width": 0
          },
          "opacity": 0.5,
          "type": "rect",
          "x0": 20161115,
          "x1": 20161117,
          "xref": "x",
          "y0": 0,
          "y1": 1,
          "yref": "paper"
         },
         {
          "fillcolor": "LightSalmon",
          "layer": "below",
          "line": {
           "width": 0
          },
          "opacity": 0.5,
          "type": "rect",
          "x0": 20161214,
          "x1": 20161216,
          "xref": "x",
          "y0": 0,
          "y1": 1,
          "yref": "paper"
         }
        ],
        "template": {
         "data": {
          "bar": [
           {
            "error_x": {
             "color": "#2a3f5f"
            },
            "error_y": {
             "color": "#2a3f5f"
            },
            "marker": {
             "line": {
              "color": "#E5ECF6",
              "width": 0.5
             }
            },
            "type": "bar"
           }
          ],
          "barpolar": [
           {
            "marker": {
             "line": {
              "color": "#E5ECF6",
              "width": 0.5
             }
            },
            "type": "barpolar"
           }
          ],
          "carpet": [
           {
            "aaxis": {
             "endlinecolor": "#2a3f5f",
             "gridcolor": "white",
             "linecolor": "white",
             "minorgridcolor": "white",
             "startlinecolor": "#2a3f5f"
            },
            "baxis": {
             "endlinecolor": "#2a3f5f",
             "gridcolor": "white",
             "linecolor": "white",
             "minorgridcolor": "white",
             "startlinecolor": "#2a3f5f"
            },
            "type": "carpet"
           }
          ],
          "choropleth": [
           {
            "colorbar": {
             "outlinewidth": 0,
             "ticks": ""
            },
            "type": "choropleth"
           }
          ],
          "contour": [
           {
            "colorbar": {
             "outlinewidth": 0,
             "ticks": ""
            },
            "colorscale": [
             [
              0,
              "#0d0887"
             ],
             [
              0.1111111111111111,
              "#46039f"
             ],
             [
              0.2222222222222222,
              "#7201a8"
             ],
             [
              0.3333333333333333,
              "#9c179e"
             ],
             [
              0.4444444444444444,
              "#bd3786"
             ],
             [
              0.5555555555555556,
              "#d8576b"
             ],
             [
              0.6666666666666666,
              "#ed7953"
             ],
             [
              0.7777777777777778,
              "#fb9f3a"
             ],
             [
              0.8888888888888888,
              "#fdca26"
             ],
             [
              1,
              "#f0f921"
             ]
            ],
            "type": "contour"
           }
          ],
          "contourcarpet": [
           {
            "colorbar": {
             "outlinewidth": 0,
             "ticks": ""
            },
            "type": "contourcarpet"
           }
          ],
          "heatmap": [
           {
            "colorbar": {
             "outlinewidth": 0,
             "ticks": ""
            },
            "colorscale": [
             [
              0,
              "#0d0887"
             ],
             [
              0.1111111111111111,
              "#46039f"
             ],
             [
              0.2222222222222222,
              "#7201a8"
             ],
             [
              0.3333333333333333,
              "#9c179e"
             ],
             [
              0.4444444444444444,
              "#bd3786"
             ],
             [
              0.5555555555555556,
              "#d8576b"
             ],
             [
              0.6666666666666666,
              "#ed7953"
             ],
             [
              0.7777777777777778,
              "#fb9f3a"
             ],
             [
              0.8888888888888888,
              "#fdca26"
             ],
             [
              1,
              "#f0f921"
             ]
            ],
            "type": "heatmap"
           }
          ],
          "heatmapgl": [
           {
            "colorbar": {
             "outlinewidth": 0,
             "ticks": ""
            },
            "colorscale": [
             [
              0,
              "#0d0887"
             ],
             [
              0.1111111111111111,
              "#46039f"
             ],
             [
              0.2222222222222222,
              "#7201a8"
             ],
             [
              0.3333333333333333,
              "#9c179e"
             ],
             [
              0.4444444444444444,
              "#bd3786"
             ],
             [
              0.5555555555555556,
              "#d8576b"
             ],
             [
              0.6666666666666666,
              "#ed7953"
             ],
             [
              0.7777777777777778,
              "#fb9f3a"
             ],
             [
              0.8888888888888888,
              "#fdca26"
             ],
             [
              1,
              "#f0f921"
             ]
            ],
            "type": "heatmapgl"
           }
          ],
          "histogram": [
           {
            "marker": {
             "colorbar": {
              "outlinewidth": 0,
              "ticks": ""
             }
            },
            "type": "histogram"
           }
          ],
          "histogram2d": [
           {
            "colorbar": {
             "outlinewidth": 0,
             "ticks": ""
            },
            "colorscale": [
             [
              0,
              "#0d0887"
             ],
             [
              0.1111111111111111,
              "#46039f"
             ],
             [
              0.2222222222222222,
              "#7201a8"
             ],
             [
              0.3333333333333333,
              "#9c179e"
             ],
             [
              0.4444444444444444,
              "#bd3786"
             ],
             [
              0.5555555555555556,
              "#d8576b"
             ],
             [
              0.6666666666666666,
              "#ed7953"
             ],
             [
              0.7777777777777778,
              "#fb9f3a"
             ],
             [
              0.8888888888888888,
              "#fdca26"
             ],
             [
              1,
              "#f0f921"
             ]
            ],
            "type": "histogram2d"
           }
          ],
          "histogram2dcontour": [
           {
            "colorbar": {
             "outlinewidth": 0,
             "ticks": ""
            },
            "colorscale": [
             [
              0,
              "#0d0887"
             ],
             [
              0.1111111111111111,
              "#46039f"
             ],
             [
              0.2222222222222222,
              "#7201a8"
             ],
             [
              0.3333333333333333,
              "#9c179e"
             ],
             [
              0.4444444444444444,
              "#bd3786"
             ],
             [
              0.5555555555555556,
              "#d8576b"
             ],
             [
              0.6666666666666666,
              "#ed7953"
             ],
             [
              0.7777777777777778,
              "#fb9f3a"
             ],
             [
              0.8888888888888888,
              "#fdca26"
             ],
             [
              1,
              "#f0f921"
             ]
            ],
            "type": "histogram2dcontour"
           }
          ],
          "mesh3d": [
           {
            "colorbar": {
             "outlinewidth": 0,
             "ticks": ""
            },
            "type": "mesh3d"
           }
          ],
          "parcoords": [
           {
            "line": {
             "colorbar": {
              "outlinewidth": 0,
              "ticks": ""
             }
            },
            "type": "parcoords"
           }
          ],
          "pie": [
           {
            "automargin": true,
            "type": "pie"
           }
          ],
          "scatter": [
           {
            "marker": {
             "colorbar": {
              "outlinewidth": 0,
              "ticks": ""
             }
            },
            "type": "scatter"
           }
          ],
          "scatter3d": [
           {
            "line": {
             "colorbar": {
              "outlinewidth": 0,
              "ticks": ""
             }
            },
            "marker": {
             "colorbar": {
              "outlinewidth": 0,
              "ticks": ""
             }
            },
            "type": "scatter3d"
           }
          ],
          "scattercarpet": [
           {
            "marker": {
             "colorbar": {
              "outlinewidth": 0,
              "ticks": ""
             }
            },
            "type": "scattercarpet"
           }
          ],
          "scattergeo": [
           {
            "marker": {
             "colorbar": {
              "outlinewidth": 0,
              "ticks": ""
             }
            },
            "type": "scattergeo"
           }
          ],
          "scattergl": [
           {
            "marker": {
             "colorbar": {
              "outlinewidth": 0,
              "ticks": ""
             }
            },
            "type": "scattergl"
           }
          ],
          "scattermapbox": [
           {
            "marker": {
             "colorbar": {
              "outlinewidth": 0,
              "ticks": ""
             }
            },
            "type": "scattermapbox"
           }
          ],
          "scatterpolar": [
           {
            "marker": {
             "colorbar": {
              "outlinewidth": 0,
              "ticks": ""
             }
            },
            "type": "scatterpolar"
           }
          ],
          "scatterpolargl": [
           {
            "marker": {
             "colorbar": {
              "outlinewidth": 0,
              "ticks": ""
             }
            },
            "type": "scatterpolargl"
           }
          ],
          "scatterternary": [
           {
            "marker": {
             "colorbar": {
              "outlinewidth": 0,
              "ticks": ""
             }
            },
            "type": "scatterternary"
           }
          ],
          "surface": [
           {
            "colorbar": {
             "outlinewidth": 0,
             "ticks": ""
            },
            "colorscale": [
             [
              0,
              "#0d0887"
             ],
             [
              0.1111111111111111,
              "#46039f"
             ],
             [
              0.2222222222222222,
              "#7201a8"
             ],
             [
              0.3333333333333333,
              "#9c179e"
             ],
             [
              0.4444444444444444,
              "#bd3786"
             ],
             [
              0.5555555555555556,
              "#d8576b"
             ],
             [
              0.6666666666666666,
              "#ed7953"
             ],
             [
              0.7777777777777778,
              "#fb9f3a"
             ],
             [
              0.8888888888888888,
              "#fdca26"
             ],
             [
              1,
              "#f0f921"
             ]
            ],
            "type": "surface"
           }
          ],
          "table": [
           {
            "cells": {
             "fill": {
              "color": "#EBF0F8"
             },
             "line": {
              "color": "white"
             }
            },
            "header": {
             "fill": {
              "color": "#C8D4E3"
             },
             "line": {
              "color": "white"
             }
            },
            "type": "table"
           }
          ]
         },
         "layout": {
          "annotationdefaults": {
           "arrowcolor": "#2a3f5f",
           "arrowhead": 0,
           "arrowwidth": 1
          },
          "coloraxis": {
           "colorbar": {
            "outlinewidth": 0,
            "ticks": ""
           }
          },
          "colorscale": {
           "diverging": [
            [
             0,
             "#8e0152"
            ],
            [
             0.1,
             "#c51b7d"
            ],
            [
             0.2,
             "#de77ae"
            ],
            [
             0.3,
             "#f1b6da"
            ],
            [
             0.4,
             "#fde0ef"
            ],
            [
             0.5,
             "#f7f7f7"
            ],
            [
             0.6,
             "#e6f5d0"
            ],
            [
             0.7,
             "#b8e186"
            ],
            [
             0.8,
             "#7fbc41"
            ],
            [
             0.9,
             "#4d9221"
            ],
            [
             1,
             "#276419"
            ]
           ],
           "sequential": [
            [
             0,
             "#0d0887"
            ],
            [
             0.1111111111111111,
             "#46039f"
            ],
            [
             0.2222222222222222,
             "#7201a8"
            ],
            [
             0.3333333333333333,
             "#9c179e"
            ],
            [
             0.4444444444444444,
             "#bd3786"
            ],
            [
             0.5555555555555556,
             "#d8576b"
            ],
            [
             0.6666666666666666,
             "#ed7953"
            ],
            [
             0.7777777777777778,
             "#fb9f3a"
            ],
            [
             0.8888888888888888,
             "#fdca26"
            ],
            [
             1,
             "#f0f921"
            ]
           ],
           "sequentialminus": [
            [
             0,
             "#0d0887"
            ],
            [
             0.1111111111111111,
             "#46039f"
            ],
            [
             0.2222222222222222,
             "#7201a8"
            ],
            [
             0.3333333333333333,
             "#9c179e"
            ],
            [
             0.4444444444444444,
             "#bd3786"
            ],
            [
             0.5555555555555556,
             "#d8576b"
            ],
            [
             0.6666666666666666,
             "#ed7953"
            ],
            [
             0.7777777777777778,
             "#fb9f3a"
            ],
            [
             0.8888888888888888,
             "#fdca26"
            ],
            [
             1,
             "#f0f921"
            ]
           ]
          },
          "colorway": [
           "#636efa",
           "#EF553B",
           "#00cc96",
           "#ab63fa",
           "#FFA15A",
           "#19d3f3",
           "#FF6692",
           "#B6E880",
           "#FF97FF",
           "#FECB52"
          ],
          "font": {
           "color": "#2a3f5f"
          },
          "geo": {
           "bgcolor": "white",
           "lakecolor": "white",
           "landcolor": "#E5ECF6",
           "showlakes": true,
           "showland": true,
           "subunitcolor": "white"
          },
          "hoverlabel": {
           "align": "left"
          },
          "hovermode": "closest",
          "mapbox": {
           "style": "light"
          },
          "paper_bgcolor": "white",
          "plot_bgcolor": "#E5ECF6",
          "polar": {
           "angularaxis": {
            "gridcolor": "white",
            "linecolor": "white",
            "ticks": ""
           },
           "bgcolor": "#E5ECF6",
           "radialaxis": {
            "gridcolor": "white",
            "linecolor": "white",
            "ticks": ""
           }
          },
          "scene": {
           "xaxis": {
            "backgroundcolor": "#E5ECF6",
            "gridcolor": "white",
            "gridwidth": 2,
            "linecolor": "white",
            "showbackground": true,
            "ticks": "",
            "zerolinecolor": "white"
           },
           "yaxis": {
            "backgroundcolor": "#E5ECF6",
            "gridcolor": "white",
            "gridwidth": 2,
            "linecolor": "white",
            "showbackground": true,
            "ticks": "",
            "zerolinecolor": "white"
           },
           "zaxis": {
            "backgroundcolor": "#E5ECF6",
            "gridcolor": "white",
            "gridwidth": 2,
            "linecolor": "white",
            "showbackground": true,
            "ticks": "",
            "zerolinecolor": "white"
           }
          },
          "shapedefaults": {
           "line": {
            "color": "#2a3f5f"
           }
          },
          "ternary": {
           "aaxis": {
            "gridcolor": "white",
            "linecolor": "white",
            "ticks": ""
           },
           "baxis": {
            "gridcolor": "white",
            "linecolor": "white",
            "ticks": ""
           },
           "bgcolor": "#E5ECF6",
           "caxis": {
            "gridcolor": "white",
            "linecolor": "white",
            "ticks": ""
           }
          },
          "title": {
           "x": 0.05
          },
          "xaxis": {
           "automargin": true,
           "gridcolor": "white",
           "linecolor": "white",
           "ticks": "",
           "title": {
            "standoff": 15
           },
           "zerolinecolor": "white",
           "zerolinewidth": 2
          },
          "yaxis": {
           "automargin": true,
           "gridcolor": "white",
           "linecolor": "white",
           "ticks": "",
           "title": {
            "standoff": 15
           },
           "zerolinecolor": "white",
           "zerolinewidth": 2
          }
         }
        },
        "title": {
         "text": "Option Volume 2016 (Expiration in Orange)",
         "x": 0.5,
         "xanchor": "center",
         "y": 0.9,
         "yanchor": "top"
        },
        "xaxis": {
         "tickangle": 45,
         "ticktext": [
          20160104,
          20160120,
          20160205,
          20160223,
          20160310,
          20160329,
          20160414,
          20160502,
          20160518,
          20160603,
          20160621,
          20160707,
          20160725,
          20160810,
          20160826,
          20160913,
          20160929,
          20161017,
          20161102,
          20161118,
          20161206,
          20161222
         ],
         "tickvals": [
          20160104,
          20160120,
          20160205,
          20160223,
          20160310,
          20160329,
          20160414,
          20160502,
          20160518,
          20160603,
          20160621,
          20160707,
          20160725,
          20160810,
          20160826,
          20160913,
          20160929,
          20161017,
          20161102,
          20161118,
          20161206,
          20161222
         ],
         "type": "category"
        },
        "yaxis": {
         "title": {
          "text": "Total Options Volume Per Day"
         }
        },
        "yaxis2": {
         "overlaying": "y",
         "side": "right",
         "title": {
          "text": "y alt"
         }
        }
       }
      },
      "text/html": [
       "<div>\n",
       "        \n",
       "        \n",
       "            <div id=\"e7eb979c-d7e8-470e-a8f1-461ac68c189a\" class=\"plotly-graph-div\" style=\"height:525px; width:100%;\"></div>\n",
       "            <script type=\"text/javascript\">\n",
       "                require([\"plotly\"], function(Plotly) {\n",
       "                    window.PLOTLYENV=window.PLOTLYENV || {};\n",
       "                    \n",
       "                if (document.getElementById(\"e7eb979c-d7e8-470e-a8f1-461ac68c189a\")) {\n",
       "                    Plotly.newPlot(\n",
       "                        'e7eb979c-d7e8-470e-a8f1-461ac68c189a',\n",
       "                        [{\"name\": \"vol_sum\", \"type\": \"scatter\", \"x\": [20160104, 20160105, 20160106, 20160107, 20160108, 20160111, 20160112, 20160113, 20160114, 20160115, 20160118, 20160119, 20160120, 20160121, 20160122, 20160125, 20160126, 20160127, 20160128, 20160129, 20160201, 20160202, 20160203, 20160204, 20160205, 20160208, 20160209, 20160210, 20160211, 20160212, 20160215, 20160216, 20160217, 20160218, 20160219, 20160222, 20160223, 20160224, 20160225, 20160226, 20160229, 20160301, 20160302, 20160303, 20160304, 20160307, 20160308, 20160309, 20160310, 20160311, 20160314, 20160315, 20160316, 20160317, 20160318, 20160321, 20160322, 20160323, 20160324, 20160328, 20160329, 20160330, 20160331, 20160401, 20160404, 20160405, 20160406, 20160407, 20160408, 20160411, 20160412, 20160413, 20160414, 20160415, 20160418, 20160419, 20160420, 20160421, 20160422, 20160425, 20160426, 20160427, 20160428, 20160429, 20160502, 20160503, 20160504, 20160505, 20160506, 20160509, 20160510, 20160511, 20160512, 20160513, 20160516, 20160517, 20160518, 20160519, 20160520, 20160523, 20160524, 20160525, 20160526, 20160527, 20160530, 20160531, 20160601, 20160602, 20160603, 20160606, 20160607, 20160608, 20160609, 20160610, 20160613, 20160614, 20160615, 20160616, 20160617, 20160620, 20160621, 20160622, 20160623, 20160624, 20160627, 20160628, 20160629, 20160630, 20160701, 20160704, 20160705, 20160706, 20160707, 20160708, 20160711, 20160712, 20160713, 20160714, 20160715, 20160718, 20160719, 20160720, 20160721, 20160722, 20160725, 20160726, 20160727, 20160728, 20160729, 20160801, 20160802, 20160803, 20160804, 20160805, 20160808, 20160809, 20160810, 20160811, 20160812, 20160815, 20160816, 20160817, 20160818, 20160819, 20160822, 20160823, 20160824, 20160825, 20160826, 20160829, 20160830, 20160831, 20160901, 20160902, 20160905, 20160906, 20160907, 20160908, 20160909, 20160912, 20160913, 20160914, 20160915, 20160916, 20160919, 20160920, 20160921, 20160922, 20160923, 20160926, 20160927, 20160928, 20160929, 20160930, 20161003, 20161004, 20161005, 20161006, 20161007, 20161010, 20161011, 20161012, 20161013, 20161014, 20161017, 20161018, 20161019, 20161020, 20161021, 20161024, 20161025, 20161026, 20161027, 20161028, 20161031, 20161101, 20161102, 20161103, 20161104, 20161107, 20161108, 20161109, 20161110, 20161111, 20161114, 20161115, 20161116, 20161117, 20161118, 20161121, 20161122, 20161123, 20161124, 20161125, 20161128, 20161129, 20161130, 20161201, 20161202, 20161205, 20161206, 20161207, 20161208, 20161209, 20161212, 20161213, 20161214, 20161215, 20161216, 20161219, 20161220, 20161221, 20161222, 20161223, 20161226, 20161227, 20161228, 20161229, 20161230], \"y\": [78832, 137885, 127771, 272941, 225819, 183433, 303554, 301914, 228562, 141029, 191254, 235651, 194286, 284307, 269083, 238865, 161576, 151839, 213824, 263000, 239702, 167850, 254073, 226242, 249272, 170730, 108543, 218729, 211742, 297642, 270249, 303090, 283799, 166214, 154055, 138342, 116345, 170754, 163600, 138434, 185574, 119943, 180245, 173395, 161502, 190550, 258566, 243794, 177068, 188685, 205960, 173439, 172697, 158473, 168229, 143925, 106067, 120016, 106045, 151508, 69881, 127397, 162134, 113378, 174680, 148685, 175404, 159671, 128687, 274849, 237489, 264875, 184008, 160959, 123263, 175076, 179075, 221817, 101850, 121924, 104864, 106227, 227984, 178411, 188962, 136556, 150379, 193729, 221577, 133870, 144019, 146662, 238717, 232333, 180095, 261839, 131039, 182216, 140916, 98903, 78155, 135508, 157066, 116374, 49777, 105093, 137262, 171080, 148602, 115969, 104054, 98399, 184144, 100109, 167872, 128365, 129882, 202478, 133330, 136313, 110053, 83403, 151025, 95722, 235160, 152937, 175407, 202517, 101234, 74181, 100688, 199971, 194054, 306267, 187547, 182063, 259096, 216698, 168720, 102189, 111131, 104817, 146909, 109238, 147937, 141964, 121524, 201313, 175450, 180367, 244343, 273062, 202140, 153391, 143365, 153750, 159151, 184919, 200813, 198619, 244243, 260882, 129228, 213304, 142572, 100983, 160785, 115129, 100783, 131823, 80976, 106740, 196863, 232728, 122777, 142150, 177707, 193609, 295118, 176182, 159022, 185603, 283050, 108054, 143553, 84403, 152300, 101440, 130230, 209171, 124373, 167983, 301713, 249049, 153481, 127254, 146150, 224764, 189722, 132841, 180308, 164104, 165016, 151382, 147429, 80703, 124667, 208423, 117705, 101121, 136932, 105869, 127815, 96369, 147258, 227947, 249772, 303596, 184371, 280252, 116894, 174766, 208017, 133559, 212719, 312083, 434879, 177084, 134350, 106609, 188628, 170519, 83990, 168080, 151018, 223057, 460685, 579875, 421883, 239526, 241952, 221566, 248428, 214443, 203765, 404614, 184647, 372316, 173847, 140844, 78532, 122670, 111822, 76945, 5527, 37770, 67661, 98253, 82993], \"yaxis\": \"y\"}],\n",
       "                        {\"margin\": {\"b\": 100}, \"shapes\": [{\"fillcolor\": \"LightSalmon\", \"layer\": \"below\", \"line\": {\"width\": 0}, \"opacity\": 0.5, \"type\": \"rect\", \"x0\": 20160113, \"x1\": 20160115, \"xref\": \"x\", \"y0\": 0, \"y1\": 1, \"yref\": \"paper\"}, {\"fillcolor\": \"LightSalmon\", \"layer\": \"below\", \"line\": {\"width\": 0}, \"opacity\": 0.5, \"type\": \"rect\", \"x0\": 20160216, \"x1\": 20160218, \"xref\": \"x\", \"y0\": 0, \"y1\": 1, \"yref\": \"paper\"}, {\"fillcolor\": \"LightSalmon\", \"layer\": \"below\", \"line\": {\"width\": 0}, \"opacity\": 0.5, \"type\": \"rect\", \"x0\": 20160315, \"x1\": 20160317, \"xref\": \"x\", \"y0\": 0, \"y1\": 1, \"yref\": \"paper\"}, {\"fillcolor\": \"LightSalmon\", \"layer\": \"below\", \"line\": {\"width\": 0}, \"opacity\": 0.5, \"type\": \"rect\", \"x0\": 20160414, \"x1\": 20160418, \"xref\": \"x\", \"y0\": 0, \"y1\": 1, \"yref\": \"paper\"}, {\"fillcolor\": \"LightSalmon\", \"layer\": \"below\", \"line\": {\"width\": 0}, \"opacity\": 0.5, \"type\": \"rect\", \"x0\": 20160516, \"x1\": 20160518, \"xref\": \"x\", \"y0\": 0, \"y1\": 1, \"yref\": \"paper\"}, {\"fillcolor\": \"LightSalmon\", \"layer\": \"below\", \"line\": {\"width\": 0}, \"opacity\": 0.5, \"type\": \"rect\", \"x0\": 20160615, \"x1\": 20160617, \"xref\": \"x\", \"y0\": 0, \"y1\": 1, \"yref\": \"paper\"}, {\"fillcolor\": \"LightSalmon\", \"layer\": \"below\", \"line\": {\"width\": 0}, \"opacity\": 0.5, \"type\": \"rect\", \"x0\": 20160714, \"x1\": 20160718, \"xref\": \"x\", \"y0\": 0, \"y1\": 1, \"yref\": \"paper\"}, {\"fillcolor\": \"LightSalmon\", \"layer\": \"below\", \"line\": {\"width\": 0}, \"opacity\": 0.5, \"type\": \"rect\", \"x0\": 20160816, \"x1\": 20160818, \"xref\": \"x\", \"y0\": 0, \"y1\": 1, \"yref\": \"paper\"}, {\"fillcolor\": \"LightSalmon\", \"layer\": \"below\", \"line\": {\"width\": 0}, \"opacity\": 0.5, \"type\": \"rect\", \"x0\": 20160914, \"x1\": 20160916, \"xref\": \"x\", \"y0\": 0, \"y1\": 1, \"yref\": \"paper\"}, {\"fillcolor\": \"LightSalmon\", \"layer\": \"below\", \"line\": {\"width\": 0}, \"opacity\": 0.5, \"type\": \"rect\", \"x0\": 20161014, \"x1\": 20161018, \"xref\": \"x\", \"y0\": 0, \"y1\": 1, \"yref\": \"paper\"}, {\"fillcolor\": \"LightSalmon\", \"layer\": \"below\", \"line\": {\"width\": 0}, \"opacity\": 0.5, \"type\": \"rect\", \"x0\": 20161115, \"x1\": 20161117, \"xref\": \"x\", \"y0\": 0, \"y1\": 1, \"yref\": \"paper\"}, {\"fillcolor\": \"LightSalmon\", \"layer\": \"below\", \"line\": {\"width\": 0}, \"opacity\": 0.5, \"type\": \"rect\", \"x0\": 20161214, \"x1\": 20161216, \"xref\": \"x\", \"y0\": 0, \"y1\": 1, \"yref\": \"paper\"}], \"template\": {\"data\": {\"bar\": [{\"error_x\": {\"color\": \"#2a3f5f\"}, \"error_y\": {\"color\": \"#2a3f5f\"}, \"marker\": {\"line\": {\"color\": \"#E5ECF6\", \"width\": 0.5}}, \"type\": \"bar\"}], \"barpolar\": [{\"marker\": {\"line\": {\"color\": \"#E5ECF6\", \"width\": 0.5}}, \"type\": \"barpolar\"}], \"carpet\": [{\"aaxis\": {\"endlinecolor\": \"#2a3f5f\", \"gridcolor\": \"white\", \"linecolor\": \"white\", \"minorgridcolor\": \"white\", \"startlinecolor\": \"#2a3f5f\"}, \"baxis\": {\"endlinecolor\": \"#2a3f5f\", \"gridcolor\": \"white\", \"linecolor\": \"white\", \"minorgridcolor\": \"white\", \"startlinecolor\": \"#2a3f5f\"}, \"type\": \"carpet\"}], \"choropleth\": [{\"colorbar\": {\"outlinewidth\": 0, \"ticks\": \"\"}, \"type\": \"choropleth\"}], \"contour\": [{\"colorbar\": {\"outlinewidth\": 0, \"ticks\": \"\"}, \"colorscale\": [[0.0, \"#0d0887\"], [0.1111111111111111, \"#46039f\"], [0.2222222222222222, \"#7201a8\"], [0.3333333333333333, \"#9c179e\"], [0.4444444444444444, \"#bd3786\"], [0.5555555555555556, \"#d8576b\"], [0.6666666666666666, \"#ed7953\"], [0.7777777777777778, \"#fb9f3a\"], [0.8888888888888888, \"#fdca26\"], [1.0, \"#f0f921\"]], \"type\": \"contour\"}], \"contourcarpet\": [{\"colorbar\": {\"outlinewidth\": 0, \"ticks\": \"\"}, \"type\": \"contourcarpet\"}], \"heatmap\": [{\"colorbar\": {\"outlinewidth\": 0, \"ticks\": \"\"}, \"colorscale\": [[0.0, \"#0d0887\"], [0.1111111111111111, \"#46039f\"], [0.2222222222222222, \"#7201a8\"], [0.3333333333333333, \"#9c179e\"], [0.4444444444444444, \"#bd3786\"], [0.5555555555555556, \"#d8576b\"], [0.6666666666666666, \"#ed7953\"], [0.7777777777777778, \"#fb9f3a\"], [0.8888888888888888, \"#fdca26\"], [1.0, \"#f0f921\"]], \"type\": \"heatmap\"}], \"heatmapgl\": [{\"colorbar\": {\"outlinewidth\": 0, \"ticks\": \"\"}, \"colorscale\": [[0.0, \"#0d0887\"], [0.1111111111111111, \"#46039f\"], [0.2222222222222222, \"#7201a8\"], [0.3333333333333333, \"#9c179e\"], [0.4444444444444444, \"#bd3786\"], [0.5555555555555556, \"#d8576b\"], [0.6666666666666666, \"#ed7953\"], [0.7777777777777778, \"#fb9f3a\"], [0.8888888888888888, \"#fdca26\"], [1.0, \"#f0f921\"]], \"type\": \"heatmapgl\"}], \"histogram\": [{\"marker\": {\"colorbar\": {\"outlinewidth\": 0, \"ticks\": \"\"}}, \"type\": \"histogram\"}], \"histogram2d\": [{\"colorbar\": {\"outlinewidth\": 0, \"ticks\": \"\"}, \"colorscale\": [[0.0, \"#0d0887\"], [0.1111111111111111, \"#46039f\"], [0.2222222222222222, \"#7201a8\"], [0.3333333333333333, \"#9c179e\"], [0.4444444444444444, \"#bd3786\"], [0.5555555555555556, \"#d8576b\"], [0.6666666666666666, \"#ed7953\"], [0.7777777777777778, \"#fb9f3a\"], [0.8888888888888888, \"#fdca26\"], [1.0, \"#f0f921\"]], \"type\": \"histogram2d\"}], \"histogram2dcontour\": [{\"colorbar\": {\"outlinewidth\": 0, \"ticks\": \"\"}, \"colorscale\": [[0.0, \"#0d0887\"], [0.1111111111111111, \"#46039f\"], [0.2222222222222222, \"#7201a8\"], [0.3333333333333333, \"#9c179e\"], [0.4444444444444444, \"#bd3786\"], [0.5555555555555556, \"#d8576b\"], [0.6666666666666666, \"#ed7953\"], [0.7777777777777778, \"#fb9f3a\"], [0.8888888888888888, \"#fdca26\"], [1.0, \"#f0f921\"]], \"type\": \"histogram2dcontour\"}], \"mesh3d\": [{\"colorbar\": {\"outlinewidth\": 0, \"ticks\": \"\"}, \"type\": \"mesh3d\"}], \"parcoords\": [{\"line\": {\"colorbar\": {\"outlinewidth\": 0, \"ticks\": \"\"}}, \"type\": \"parcoords\"}], \"pie\": [{\"automargin\": true, \"type\": \"pie\"}], \"scatter\": [{\"marker\": {\"colorbar\": {\"outlinewidth\": 0, \"ticks\": \"\"}}, \"type\": \"scatter\"}], \"scatter3d\": [{\"line\": {\"colorbar\": {\"outlinewidth\": 0, \"ticks\": \"\"}}, \"marker\": {\"colorbar\": {\"outlinewidth\": 0, \"ticks\": \"\"}}, \"type\": \"scatter3d\"}], \"scattercarpet\": [{\"marker\": {\"colorbar\": {\"outlinewidth\": 0, \"ticks\": \"\"}}, \"type\": \"scattercarpet\"}], \"scattergeo\": [{\"marker\": {\"colorbar\": {\"outlinewidth\": 0, \"ticks\": \"\"}}, \"type\": \"scattergeo\"}], \"scattergl\": [{\"marker\": {\"colorbar\": {\"outlinewidth\": 0, \"ticks\": \"\"}}, \"type\": \"scattergl\"}], \"scattermapbox\": [{\"marker\": {\"colorbar\": {\"outlinewidth\": 0, \"ticks\": \"\"}}, \"type\": \"scattermapbox\"}], \"scatterpolar\": [{\"marker\": {\"colorbar\": {\"outlinewidth\": 0, \"ticks\": \"\"}}, \"type\": \"scatterpolar\"}], \"scatterpolargl\": [{\"marker\": {\"colorbar\": {\"outlinewidth\": 0, \"ticks\": \"\"}}, \"type\": \"scatterpolargl\"}], \"scatterternary\": [{\"marker\": {\"colorbar\": {\"outlinewidth\": 0, \"ticks\": \"\"}}, \"type\": \"scatterternary\"}], \"surface\": [{\"colorbar\": {\"outlinewidth\": 0, \"ticks\": \"\"}, \"colorscale\": [[0.0, \"#0d0887\"], [0.1111111111111111, \"#46039f\"], [0.2222222222222222, \"#7201a8\"], [0.3333333333333333, \"#9c179e\"], [0.4444444444444444, \"#bd3786\"], [0.5555555555555556, \"#d8576b\"], [0.6666666666666666, \"#ed7953\"], [0.7777777777777778, \"#fb9f3a\"], [0.8888888888888888, \"#fdca26\"], [1.0, \"#f0f921\"]], \"type\": \"surface\"}], \"table\": [{\"cells\": {\"fill\": {\"color\": \"#EBF0F8\"}, \"line\": {\"color\": \"white\"}}, \"header\": {\"fill\": {\"color\": \"#C8D4E3\"}, \"line\": {\"color\": \"white\"}}, \"type\": \"table\"}]}, \"layout\": {\"annotationdefaults\": {\"arrowcolor\": \"#2a3f5f\", \"arrowhead\": 0, \"arrowwidth\": 1}, \"coloraxis\": {\"colorbar\": {\"outlinewidth\": 0, \"ticks\": \"\"}}, \"colorscale\": {\"diverging\": [[0, \"#8e0152\"], [0.1, \"#c51b7d\"], [0.2, \"#de77ae\"], [0.3, \"#f1b6da\"], [0.4, \"#fde0ef\"], [0.5, \"#f7f7f7\"], [0.6, \"#e6f5d0\"], [0.7, \"#b8e186\"], [0.8, \"#7fbc41\"], [0.9, \"#4d9221\"], [1, \"#276419\"]], \"sequential\": [[0.0, \"#0d0887\"], [0.1111111111111111, \"#46039f\"], [0.2222222222222222, \"#7201a8\"], [0.3333333333333333, \"#9c179e\"], [0.4444444444444444, \"#bd3786\"], [0.5555555555555556, \"#d8576b\"], [0.6666666666666666, \"#ed7953\"], [0.7777777777777778, \"#fb9f3a\"], [0.8888888888888888, \"#fdca26\"], [1.0, \"#f0f921\"]], \"sequentialminus\": [[0.0, \"#0d0887\"], [0.1111111111111111, \"#46039f\"], [0.2222222222222222, \"#7201a8\"], [0.3333333333333333, \"#9c179e\"], [0.4444444444444444, \"#bd3786\"], [0.5555555555555556, \"#d8576b\"], [0.6666666666666666, \"#ed7953\"], [0.7777777777777778, \"#fb9f3a\"], [0.8888888888888888, \"#fdca26\"], [1.0, \"#f0f921\"]]}, \"colorway\": [\"#636efa\", \"#EF553B\", \"#00cc96\", \"#ab63fa\", \"#FFA15A\", \"#19d3f3\", \"#FF6692\", \"#B6E880\", \"#FF97FF\", \"#FECB52\"], \"font\": {\"color\": \"#2a3f5f\"}, \"geo\": {\"bgcolor\": \"white\", \"lakecolor\": \"white\", \"landcolor\": \"#E5ECF6\", \"showlakes\": true, \"showland\": true, \"subunitcolor\": \"white\"}, \"hoverlabel\": {\"align\": \"left\"}, \"hovermode\": \"closest\", \"mapbox\": {\"style\": \"light\"}, \"paper_bgcolor\": \"white\", \"plot_bgcolor\": \"#E5ECF6\", \"polar\": {\"angularaxis\": {\"gridcolor\": \"white\", \"linecolor\": \"white\", \"ticks\": \"\"}, \"bgcolor\": \"#E5ECF6\", \"radialaxis\": {\"gridcolor\": \"white\", \"linecolor\": \"white\", \"ticks\": \"\"}}, \"scene\": {\"xaxis\": {\"backgroundcolor\": \"#E5ECF6\", \"gridcolor\": \"white\", \"gridwidth\": 2, \"linecolor\": \"white\", \"showbackground\": true, \"ticks\": \"\", \"zerolinecolor\": \"white\"}, \"yaxis\": {\"backgroundcolor\": \"#E5ECF6\", \"gridcolor\": \"white\", \"gridwidth\": 2, \"linecolor\": \"white\", \"showbackground\": true, \"ticks\": \"\", \"zerolinecolor\": \"white\"}, \"zaxis\": {\"backgroundcolor\": \"#E5ECF6\", \"gridcolor\": \"white\", \"gridwidth\": 2, \"linecolor\": \"white\", \"showbackground\": true, \"ticks\": \"\", \"zerolinecolor\": \"white\"}}, \"shapedefaults\": {\"line\": {\"color\": \"#2a3f5f\"}}, \"ternary\": {\"aaxis\": {\"gridcolor\": \"white\", \"linecolor\": \"white\", \"ticks\": \"\"}, \"baxis\": {\"gridcolor\": \"white\", \"linecolor\": \"white\", \"ticks\": \"\"}, \"bgcolor\": \"#E5ECF6\", \"caxis\": {\"gridcolor\": \"white\", \"linecolor\": \"white\", \"ticks\": \"\"}}, \"title\": {\"x\": 0.05}, \"xaxis\": {\"automargin\": true, \"gridcolor\": \"white\", \"linecolor\": \"white\", \"ticks\": \"\", \"title\": {\"standoff\": 15}, \"zerolinecolor\": \"white\", \"zerolinewidth\": 2}, \"yaxis\": {\"automargin\": true, \"gridcolor\": \"white\", \"linecolor\": \"white\", \"ticks\": \"\", \"title\": {\"standoff\": 15}, \"zerolinecolor\": \"white\", \"zerolinewidth\": 2}}}, \"title\": {\"text\": \"Option Volume 2016 (Expiration in Orange)\", \"x\": 0.5, \"xanchor\": \"center\", \"y\": 0.9, \"yanchor\": \"top\"}, \"xaxis\": {\"tickangle\": 45, \"ticktext\": [20160104, 20160120, 20160205, 20160223, 20160310, 20160329, 20160414, 20160502, 20160518, 20160603, 20160621, 20160707, 20160725, 20160810, 20160826, 20160913, 20160929, 20161017, 20161102, 20161118, 20161206, 20161222], \"tickvals\": [20160104, 20160120, 20160205, 20160223, 20160310, 20160329, 20160414, 20160502, 20160518, 20160603, 20160621, 20160707, 20160725, 20160810, 20160826, 20160913, 20160929, 20161017, 20161102, 20161118, 20161206, 20161222], \"type\": \"category\"}, \"yaxis\": {\"title\": {\"text\": \"Total Options Volume Per Day\"}}, \"yaxis2\": {\"overlaying\": \"y\", \"side\": \"right\", \"title\": {\"text\": \"y alt\"}}},\n",
       "                        {\"responsive\": true}\n",
       "                    ).then(function(){\n",
       "                            \n",
       "var gd = document.getElementById('e7eb979c-d7e8-470e-a8f1-461ac68c189a');\n",
       "var x = new MutationObserver(function (mutations, observer) {{\n",
       "        var display = window.getComputedStyle(gd).display;\n",
       "        if (!display || display === 'none') {{\n",
       "            console.log([gd, 'removed!']);\n",
       "            Plotly.purge(gd);\n",
       "            observer.disconnect();\n",
       "        }}\n",
       "}});\n",
       "\n",
       "// Listen for the removal of the full notebook cells\n",
       "var notebookContainer = gd.closest('#notebook-container');\n",
       "if (notebookContainer) {{\n",
       "    x.observe(notebookContainer, {childList: true});\n",
       "}}\n",
       "\n",
       "// Listen for the clearing of the current output cell\n",
       "var outputEl = gd.closest('.output');\n",
       "if (outputEl) {{\n",
       "    x.observe(outputEl, {childList: true});\n",
       "}}\n",
       "\n",
       "                        })\n",
       "                };\n",
       "                });\n",
       "            </script>\n",
       "        </div>"
      ]
     },
     "metadata": {},
     "output_type": "display_data"
    },
    {
     "data": {
      "application/vnd.plotly.v1+json": {
       "config": {
        "linkText": "Export to plot.ly",
        "plotlyServerURL": "https://plot.ly",
        "showLink": false
       },
       "data": [
        {
         "name": "vol_sum",
         "type": "scatter",
         "x": [
          20170102,
          20170103,
          20170104,
          20170105,
          20170106,
          20170109,
          20170110,
          20170111,
          20170112,
          20170113,
          20170116,
          20170117,
          20170118,
          20170119,
          20170120,
          20170123,
          20170124,
          20170125,
          20170126,
          20170127,
          20170130,
          20170131,
          20170201,
          20170202,
          20170203,
          20170206,
          20170207,
          20170208,
          20170209,
          20170210,
          20170213,
          20170214,
          20170215,
          20170216,
          20170217,
          20170220,
          20170221,
          20170222,
          20170223,
          20170224,
          20170227,
          20170228,
          20170301,
          20170302,
          20170303,
          20170306,
          20170307,
          20170308,
          20170309,
          20170310,
          20170313,
          20170314,
          20170315,
          20170316,
          20170317,
          20170320,
          20170321,
          20170322,
          20170323,
          20170324,
          20170327,
          20170328,
          20170329,
          20170330,
          20170331,
          20170403,
          20170404,
          20170405,
          20170406,
          20170407,
          20170410,
          20170411,
          20170412,
          20170413,
          20170417,
          20170418,
          20170419,
          20170420,
          20170421,
          20170424,
          20170425,
          20170426,
          20170427,
          20170428,
          20170501,
          20170502,
          20170503,
          20170504,
          20170505,
          20170508,
          20170509,
          20170510,
          20170511,
          20170512,
          20170515,
          20170516,
          20170517,
          20170518,
          20170519,
          20170522,
          20170523,
          20170524,
          20170525,
          20170526,
          20170529,
          20170530,
          20170531,
          20170601,
          20170602,
          20170605,
          20170606,
          20170607,
          20170608,
          20170609,
          20170612,
          20170613,
          20170614,
          20170615,
          20170616,
          20170619,
          20170620,
          20170621,
          20170622,
          20170623,
          20170626,
          20170627,
          20170628,
          20170629,
          20170630,
          20170703,
          20170704,
          20170705,
          20170706,
          20170707,
          20170710,
          20170711,
          20170712,
          20170713,
          20170714,
          20170717,
          20170718,
          20170719,
          20170720,
          20170721,
          20170724,
          20170725,
          20170726,
          20170727,
          20170728,
          20170731,
          20170801,
          20170802,
          20170803,
          20170804,
          20170807,
          20170808,
          20170809,
          20170810,
          20170811,
          20170814,
          20170815,
          20170816,
          20170817,
          20170818,
          20170821,
          20170822,
          20170823,
          20170824,
          20170825,
          20170828,
          20170829,
          20170830,
          20170831,
          20170901,
          20170904,
          20170905,
          20170906,
          20170907,
          20170908,
          20170911,
          20170912,
          20170913,
          20170914,
          20170915,
          20170918,
          20170919,
          20170920,
          20170921,
          20170922,
          20170925,
          20170926,
          20170927,
          20170928,
          20170929,
          20171002,
          20171003,
          20171004,
          20171005,
          20171006,
          20171009,
          20171010,
          20171011,
          20171012,
          20171013,
          20171016,
          20171017,
          20171018,
          20171019,
          20171020,
          20171023,
          20171024,
          20171025,
          20171026,
          20171027,
          20171030,
          20171031,
          20171101,
          20171102,
          20171103,
          20171106,
          20171107,
          20171108,
          20171109,
          20171110,
          20171113,
          20171114,
          20171115,
          20171116,
          20171117,
          20171120,
          20171121,
          20171122,
          20171123,
          20171124,
          20171127,
          20171128,
          20171129,
          20171130,
          20171201,
          20171204,
          20171205,
          20171206,
          20171207,
          20171208,
          20171211,
          20171212,
          20171213,
          20171214,
          20171215,
          20171218,
          20171219,
          20171220,
          20171221,
          20171222,
          20171226,
          20171227,
          20171228,
          20171229
         ],
         "y": [
          31502,
          73821,
          315422,
          115944,
          143092,
          94943,
          210234,
          246123,
          199009,
          122232,
          115758,
          130094,
          126932,
          161096,
          105809,
          125022,
          112335,
          121839,
          97092,
          142140,
          164638,
          118688,
          107373,
          108148,
          127538,
          110283,
          153927,
          255975,
          204625,
          124359,
          163819,
          146910,
          164766,
          119074,
          147361,
          64680,
          80878,
          131795,
          120456,
          131087,
          91253,
          84462,
          146860,
          170880,
          280717,
          117468,
          108132,
          134029,
          518592,
          570923,
          440044,
          268743,
          386703,
          297863,
          153179,
          134590,
          105451,
          162036,
          217593,
          101800,
          162438,
          121989,
          135587,
          172807,
          185409,
          123407,
          137961,
          155854,
          200948,
          110575,
          190675,
          211445,
          351449,
          272071,
          179196,
          100235,
          137685,
          391170,
          224357,
          313791,
          135747,
          186847,
          216822,
          284222,
          137849,
          105218,
          225925,
          232725,
          522374,
          379315,
          198036,
          177701,
          281108,
          193209,
          154426,
          348161,
          260620,
          131491,
          148245,
          181007,
          145716,
          175509,
          307880,
          432989,
          125708,
          174636,
          113577,
          308208,
          160089,
          191920,
          169236,
          132332,
          307556,
          230423,
          199743,
          164755,
          161041,
          386851,
          155113,
          153776,
          116202,
          240094,
          283336,
          158792,
          106338,
          99795,
          149322,
          159449,
          163768,
          136170,
          113070,
          146228,
          280066,
          193722,
          185239,
          109546,
          175007,
          205249,
          134683,
          188682,
          134203,
          134352,
          147902,
          149596,
          190515,
          140275,
          155609,
          193512,
          156636,
          177141,
          180652,
          237685,
          150523,
          172295,
          129503,
          128817,
          149572,
          141620,
          195058,
          150233,
          176768,
          158141,
          212841,
          116580,
          184721,
          124167,
          101859,
          87959,
          94890,
          73870,
          123613,
          127869,
          132942,
          138260,
          51287,
          139436,
          90852,
          150911,
          100994,
          151240,
          116918,
          139458,
          186501,
          241864,
          100769,
          111857,
          86539,
          107551,
          91771,
          77883,
          208208,
          136491,
          140811,
          166470,
          81190,
          148368,
          96901,
          89018,
          104586,
          168720,
          62427,
          160405,
          125904,
          144635,
          154086,
          178716,
          154345,
          114262,
          84635,
          76865,
          90884,
          93777,
          102706,
          112877,
          200697,
          207758,
          167912,
          199368,
          141649,
          445007,
          439752,
          267855,
          240143,
          197975,
          215525,
          183311,
          298697,
          131048,
          130647,
          136472,
          94525,
          92780,
          122330,
          148378,
          94582,
          141407,
          205341,
          197323,
          199443,
          227178,
          110688,
          90618,
          187904,
          97823,
          135244,
          98388,
          196494,
          160192,
          124052,
          107967,
          76780,
          53513,
          76673,
          87314,
          64901,
          110309,
          89706,
          70047
         ],
         "yaxis": "y"
        }
       ],
       "layout": {
        "margin": {
         "b": 100
        },
        "shapes": [
         {
          "fillcolor": "LightSalmon",
          "layer": "below",
          "line": {
           "width": 0
          },
          "opacity": 0.5,
          "type": "rect",
          "x0": 20170116,
          "x1": 20170118,
          "xref": "x",
          "y0": 0,
          "y1": 1,
          "yref": "paper"
         },
         {
          "fillcolor": "LightSalmon",
          "layer": "below",
          "line": {
           "width": 0
          },
          "opacity": 0.5,
          "type": "rect",
          "x0": 20170214,
          "x1": 20170216,
          "xref": "x",
          "y0": 0,
          "y1": 1,
          "yref": "paper"
         },
         {
          "fillcolor": "LightSalmon",
          "layer": "below",
          "line": {
           "width": 0
          },
          "opacity": 0.5,
          "type": "rect",
          "x0": 20170315,
          "x1": 20170317,
          "xref": "x",
          "y0": 0,
          "y1": 1,
          "yref": "paper"
         },
         {
          "fillcolor": "LightSalmon",
          "layer": "below",
          "line": {
           "width": 0
          },
          "opacity": 0.5,
          "type": "rect",
          "x0": 20170413,
          "x1": 20170418,
          "xref": "x",
          "y0": 0,
          "y1": 1,
          "yref": "paper"
         },
         {
          "fillcolor": "LightSalmon",
          "layer": "below",
          "line": {
           "width": 0
          },
          "opacity": 0.5,
          "type": "rect",
          "x0": 20170516,
          "x1": 20170518,
          "xref": "x",
          "y0": 0,
          "y1": 1,
          "yref": "paper"
         },
         {
          "fillcolor": "LightSalmon",
          "layer": "below",
          "line": {
           "width": 0
          },
          "opacity": 0.5,
          "type": "rect",
          "x0": 20170614,
          "x1": 20170616,
          "xref": "x",
          "y0": 0,
          "y1": 1,
          "yref": "paper"
         },
         {
          "fillcolor": "LightSalmon",
          "layer": "below",
          "line": {
           "width": 0
          },
          "opacity": 0.5,
          "type": "rect",
          "x0": 20170714,
          "x1": 20170718,
          "xref": "x",
          "y0": 0,
          "y1": 1,
          "yref": "paper"
         },
         {
          "fillcolor": "LightSalmon",
          "layer": "below",
          "line": {
           "width": 0
          },
          "opacity": 0.5,
          "type": "rect",
          "x0": 20170816,
          "x1": 20170818,
          "xref": "x",
          "y0": 0,
          "y1": 1,
          "yref": "paper"
         },
         {
          "fillcolor": "LightSalmon",
          "layer": "below",
          "line": {
           "width": 0
          },
          "opacity": 0.5,
          "type": "rect",
          "x0": 20170914,
          "x1": 20170918,
          "xref": "x",
          "y0": 0,
          "y1": 1,
          "yref": "paper"
         },
         {
          "fillcolor": "LightSalmon",
          "layer": "below",
          "line": {
           "width": 0
          },
          "opacity": 0.5,
          "type": "rect",
          "x0": 20171016,
          "x1": 20171018,
          "xref": "x",
          "y0": 0,
          "y1": 1,
          "yref": "paper"
         },
         {
          "fillcolor": "LightSalmon",
          "layer": "below",
          "line": {
           "width": 0
          },
          "opacity": 0.5,
          "type": "rect",
          "x0": 20171114,
          "x1": 20171116,
          "xref": "x",
          "y0": 0,
          "y1": 1,
          "yref": "paper"
         },
         {
          "fillcolor": "LightSalmon",
          "layer": "below",
          "line": {
           "width": 0
          },
          "opacity": 0.5,
          "type": "rect",
          "x0": 20171213,
          "x1": 20171215,
          "xref": "x",
          "y0": 0,
          "y1": 1,
          "yref": "paper"
         }
        ],
        "template": {
         "data": {
          "bar": [
           {
            "error_x": {
             "color": "#2a3f5f"
            },
            "error_y": {
             "color": "#2a3f5f"
            },
            "marker": {
             "line": {
              "color": "#E5ECF6",
              "width": 0.5
             }
            },
            "type": "bar"
           }
          ],
          "barpolar": [
           {
            "marker": {
             "line": {
              "color": "#E5ECF6",
              "width": 0.5
             }
            },
            "type": "barpolar"
           }
          ],
          "carpet": [
           {
            "aaxis": {
             "endlinecolor": "#2a3f5f",
             "gridcolor": "white",
             "linecolor": "white",
             "minorgridcolor": "white",
             "startlinecolor": "#2a3f5f"
            },
            "baxis": {
             "endlinecolor": "#2a3f5f",
             "gridcolor": "white",
             "linecolor": "white",
             "minorgridcolor": "white",
             "startlinecolor": "#2a3f5f"
            },
            "type": "carpet"
           }
          ],
          "choropleth": [
           {
            "colorbar": {
             "outlinewidth": 0,
             "ticks": ""
            },
            "type": "choropleth"
           }
          ],
          "contour": [
           {
            "colorbar": {
             "outlinewidth": 0,
             "ticks": ""
            },
            "colorscale": [
             [
              0,
              "#0d0887"
             ],
             [
              0.1111111111111111,
              "#46039f"
             ],
             [
              0.2222222222222222,
              "#7201a8"
             ],
             [
              0.3333333333333333,
              "#9c179e"
             ],
             [
              0.4444444444444444,
              "#bd3786"
             ],
             [
              0.5555555555555556,
              "#d8576b"
             ],
             [
              0.6666666666666666,
              "#ed7953"
             ],
             [
              0.7777777777777778,
              "#fb9f3a"
             ],
             [
              0.8888888888888888,
              "#fdca26"
             ],
             [
              1,
              "#f0f921"
             ]
            ],
            "type": "contour"
           }
          ],
          "contourcarpet": [
           {
            "colorbar": {
             "outlinewidth": 0,
             "ticks": ""
            },
            "type": "contourcarpet"
           }
          ],
          "heatmap": [
           {
            "colorbar": {
             "outlinewidth": 0,
             "ticks": ""
            },
            "colorscale": [
             [
              0,
              "#0d0887"
             ],
             [
              0.1111111111111111,
              "#46039f"
             ],
             [
              0.2222222222222222,
              "#7201a8"
             ],
             [
              0.3333333333333333,
              "#9c179e"
             ],
             [
              0.4444444444444444,
              "#bd3786"
             ],
             [
              0.5555555555555556,
              "#d8576b"
             ],
             [
              0.6666666666666666,
              "#ed7953"
             ],
             [
              0.7777777777777778,
              "#fb9f3a"
             ],
             [
              0.8888888888888888,
              "#fdca26"
             ],
             [
              1,
              "#f0f921"
             ]
            ],
            "type": "heatmap"
           }
          ],
          "heatmapgl": [
           {
            "colorbar": {
             "outlinewidth": 0,
             "ticks": ""
            },
            "colorscale": [
             [
              0,
              "#0d0887"
             ],
             [
              0.1111111111111111,
              "#46039f"
             ],
             [
              0.2222222222222222,
              "#7201a8"
             ],
             [
              0.3333333333333333,
              "#9c179e"
             ],
             [
              0.4444444444444444,
              "#bd3786"
             ],
             [
              0.5555555555555556,
              "#d8576b"
             ],
             [
              0.6666666666666666,
              "#ed7953"
             ],
             [
              0.7777777777777778,
              "#fb9f3a"
             ],
             [
              0.8888888888888888,
              "#fdca26"
             ],
             [
              1,
              "#f0f921"
             ]
            ],
            "type": "heatmapgl"
           }
          ],
          "histogram": [
           {
            "marker": {
             "colorbar": {
              "outlinewidth": 0,
              "ticks": ""
             }
            },
            "type": "histogram"
           }
          ],
          "histogram2d": [
           {
            "colorbar": {
             "outlinewidth": 0,
             "ticks": ""
            },
            "colorscale": [
             [
              0,
              "#0d0887"
             ],
             [
              0.1111111111111111,
              "#46039f"
             ],
             [
              0.2222222222222222,
              "#7201a8"
             ],
             [
              0.3333333333333333,
              "#9c179e"
             ],
             [
              0.4444444444444444,
              "#bd3786"
             ],
             [
              0.5555555555555556,
              "#d8576b"
             ],
             [
              0.6666666666666666,
              "#ed7953"
             ],
             [
              0.7777777777777778,
              "#fb9f3a"
             ],
             [
              0.8888888888888888,
              "#fdca26"
             ],
             [
              1,
              "#f0f921"
             ]
            ],
            "type": "histogram2d"
           }
          ],
          "histogram2dcontour": [
           {
            "colorbar": {
             "outlinewidth": 0,
             "ticks": ""
            },
            "colorscale": [
             [
              0,
              "#0d0887"
             ],
             [
              0.1111111111111111,
              "#46039f"
             ],
             [
              0.2222222222222222,
              "#7201a8"
             ],
             [
              0.3333333333333333,
              "#9c179e"
             ],
             [
              0.4444444444444444,
              "#bd3786"
             ],
             [
              0.5555555555555556,
              "#d8576b"
             ],
             [
              0.6666666666666666,
              "#ed7953"
             ],
             [
              0.7777777777777778,
              "#fb9f3a"
             ],
             [
              0.8888888888888888,
              "#fdca26"
             ],
             [
              1,
              "#f0f921"
             ]
            ],
            "type": "histogram2dcontour"
           }
          ],
          "mesh3d": [
           {
            "colorbar": {
             "outlinewidth": 0,
             "ticks": ""
            },
            "type": "mesh3d"
           }
          ],
          "parcoords": [
           {
            "line": {
             "colorbar": {
              "outlinewidth": 0,
              "ticks": ""
             }
            },
            "type": "parcoords"
           }
          ],
          "pie": [
           {
            "automargin": true,
            "type": "pie"
           }
          ],
          "scatter": [
           {
            "marker": {
             "colorbar": {
              "outlinewidth": 0,
              "ticks": ""
             }
            },
            "type": "scatter"
           }
          ],
          "scatter3d": [
           {
            "line": {
             "colorbar": {
              "outlinewidth": 0,
              "ticks": ""
             }
            },
            "marker": {
             "colorbar": {
              "outlinewidth": 0,
              "ticks": ""
             }
            },
            "type": "scatter3d"
           }
          ],
          "scattercarpet": [
           {
            "marker": {
             "colorbar": {
              "outlinewidth": 0,
              "ticks": ""
             }
            },
            "type": "scattercarpet"
           }
          ],
          "scattergeo": [
           {
            "marker": {
             "colorbar": {
              "outlinewidth": 0,
              "ticks": ""
             }
            },
            "type": "scattergeo"
           }
          ],
          "scattergl": [
           {
            "marker": {
             "colorbar": {
              "outlinewidth": 0,
              "ticks": ""
             }
            },
            "type": "scattergl"
           }
          ],
          "scattermapbox": [
           {
            "marker": {
             "colorbar": {
              "outlinewidth": 0,
              "ticks": ""
             }
            },
            "type": "scattermapbox"
           }
          ],
          "scatterpolar": [
           {
            "marker": {
             "colorbar": {
              "outlinewidth": 0,
              "ticks": ""
             }
            },
            "type": "scatterpolar"
           }
          ],
          "scatterpolargl": [
           {
            "marker": {
             "colorbar": {
              "outlinewidth": 0,
              "ticks": ""
             }
            },
            "type": "scatterpolargl"
           }
          ],
          "scatterternary": [
           {
            "marker": {
             "colorbar": {
              "outlinewidth": 0,
              "ticks": ""
             }
            },
            "type": "scatterternary"
           }
          ],
          "surface": [
           {
            "colorbar": {
             "outlinewidth": 0,
             "ticks": ""
            },
            "colorscale": [
             [
              0,
              "#0d0887"
             ],
             [
              0.1111111111111111,
              "#46039f"
             ],
             [
              0.2222222222222222,
              "#7201a8"
             ],
             [
              0.3333333333333333,
              "#9c179e"
             ],
             [
              0.4444444444444444,
              "#bd3786"
             ],
             [
              0.5555555555555556,
              "#d8576b"
             ],
             [
              0.6666666666666666,
              "#ed7953"
             ],
             [
              0.7777777777777778,
              "#fb9f3a"
             ],
             [
              0.8888888888888888,
              "#fdca26"
             ],
             [
              1,
              "#f0f921"
             ]
            ],
            "type": "surface"
           }
          ],
          "table": [
           {
            "cells": {
             "fill": {
              "color": "#EBF0F8"
             },
             "line": {
              "color": "white"
             }
            },
            "header": {
             "fill": {
              "color": "#C8D4E3"
             },
             "line": {
              "color": "white"
             }
            },
            "type": "table"
           }
          ]
         },
         "layout": {
          "annotationdefaults": {
           "arrowcolor": "#2a3f5f",
           "arrowhead": 0,
           "arrowwidth": 1
          },
          "coloraxis": {
           "colorbar": {
            "outlinewidth": 0,
            "ticks": ""
           }
          },
          "colorscale": {
           "diverging": [
            [
             0,
             "#8e0152"
            ],
            [
             0.1,
             "#c51b7d"
            ],
            [
             0.2,
             "#de77ae"
            ],
            [
             0.3,
             "#f1b6da"
            ],
            [
             0.4,
             "#fde0ef"
            ],
            [
             0.5,
             "#f7f7f7"
            ],
            [
             0.6,
             "#e6f5d0"
            ],
            [
             0.7,
             "#b8e186"
            ],
            [
             0.8,
             "#7fbc41"
            ],
            [
             0.9,
             "#4d9221"
            ],
            [
             1,
             "#276419"
            ]
           ],
           "sequential": [
            [
             0,
             "#0d0887"
            ],
            [
             0.1111111111111111,
             "#46039f"
            ],
            [
             0.2222222222222222,
             "#7201a8"
            ],
            [
             0.3333333333333333,
             "#9c179e"
            ],
            [
             0.4444444444444444,
             "#bd3786"
            ],
            [
             0.5555555555555556,
             "#d8576b"
            ],
            [
             0.6666666666666666,
             "#ed7953"
            ],
            [
             0.7777777777777778,
             "#fb9f3a"
            ],
            [
             0.8888888888888888,
             "#fdca26"
            ],
            [
             1,
             "#f0f921"
            ]
           ],
           "sequentialminus": [
            [
             0,
             "#0d0887"
            ],
            [
             0.1111111111111111,
             "#46039f"
            ],
            [
             0.2222222222222222,
             "#7201a8"
            ],
            [
             0.3333333333333333,
             "#9c179e"
            ],
            [
             0.4444444444444444,
             "#bd3786"
            ],
            [
             0.5555555555555556,
             "#d8576b"
            ],
            [
             0.6666666666666666,
             "#ed7953"
            ],
            [
             0.7777777777777778,
             "#fb9f3a"
            ],
            [
             0.8888888888888888,
             "#fdca26"
            ],
            [
             1,
             "#f0f921"
            ]
           ]
          },
          "colorway": [
           "#636efa",
           "#EF553B",
           "#00cc96",
           "#ab63fa",
           "#FFA15A",
           "#19d3f3",
           "#FF6692",
           "#B6E880",
           "#FF97FF",
           "#FECB52"
          ],
          "font": {
           "color": "#2a3f5f"
          },
          "geo": {
           "bgcolor": "white",
           "lakecolor": "white",
           "landcolor": "#E5ECF6",
           "showlakes": true,
           "showland": true,
           "subunitcolor": "white"
          },
          "hoverlabel": {
           "align": "left"
          },
          "hovermode": "closest",
          "mapbox": {
           "style": "light"
          },
          "paper_bgcolor": "white",
          "plot_bgcolor": "#E5ECF6",
          "polar": {
           "angularaxis": {
            "gridcolor": "white",
            "linecolor": "white",
            "ticks": ""
           },
           "bgcolor": "#E5ECF6",
           "radialaxis": {
            "gridcolor": "white",
            "linecolor": "white",
            "ticks": ""
           }
          },
          "scene": {
           "xaxis": {
            "backgroundcolor": "#E5ECF6",
            "gridcolor": "white",
            "gridwidth": 2,
            "linecolor": "white",
            "showbackground": true,
            "ticks": "",
            "zerolinecolor": "white"
           },
           "yaxis": {
            "backgroundcolor": "#E5ECF6",
            "gridcolor": "white",
            "gridwidth": 2,
            "linecolor": "white",
            "showbackground": true,
            "ticks": "",
            "zerolinecolor": "white"
           },
           "zaxis": {
            "backgroundcolor": "#E5ECF6",
            "gridcolor": "white",
            "gridwidth": 2,
            "linecolor": "white",
            "showbackground": true,
            "ticks": "",
            "zerolinecolor": "white"
           }
          },
          "shapedefaults": {
           "line": {
            "color": "#2a3f5f"
           }
          },
          "ternary": {
           "aaxis": {
            "gridcolor": "white",
            "linecolor": "white",
            "ticks": ""
           },
           "baxis": {
            "gridcolor": "white",
            "linecolor": "white",
            "ticks": ""
           },
           "bgcolor": "#E5ECF6",
           "caxis": {
            "gridcolor": "white",
            "linecolor": "white",
            "ticks": ""
           }
          },
          "title": {
           "x": 0.05
          },
          "xaxis": {
           "automargin": true,
           "gridcolor": "white",
           "linecolor": "white",
           "ticks": "",
           "title": {
            "standoff": 15
           },
           "zerolinecolor": "white",
           "zerolinewidth": 2
          },
          "yaxis": {
           "automargin": true,
           "gridcolor": "white",
           "linecolor": "white",
           "ticks": "",
           "title": {
            "standoff": 15
           },
           "zerolinecolor": "white",
           "zerolinewidth": 2
          }
         }
        },
        "title": {
         "text": "Option Volume 2017 (Expiration in Orange)",
         "x": 0.5,
         "xanchor": "center",
         "y": 0.9,
         "yanchor": "top"
        },
        "xaxis": {
         "tickangle": 45,
         "ticktext": [
          20170102,
          20170118,
          20170203,
          20170221,
          20170309,
          20170327,
          20170412,
          20170501,
          20170517,
          20170602,
          20170620,
          20170706,
          20170724,
          20170809,
          20170825,
          20170912,
          20170928,
          20171016,
          20171101,
          20171117,
          20171205,
          20171221
         ],
         "tickvals": [
          20170102,
          20170118,
          20170203,
          20170221,
          20170309,
          20170327,
          20170412,
          20170501,
          20170517,
          20170602,
          20170620,
          20170706,
          20170724,
          20170809,
          20170825,
          20170912,
          20170928,
          20171016,
          20171101,
          20171117,
          20171205,
          20171221
         ],
         "type": "category"
        },
        "yaxis": {
         "title": {
          "text": "Total Options Volume Per Day"
         }
        },
        "yaxis2": {
         "overlaying": "y",
         "side": "right",
         "title": {
          "text": "y alt"
         }
        }
       }
      },
      "text/html": [
       "<div>\n",
       "        \n",
       "        \n",
       "            <div id=\"fde64cba-2c5a-4682-a524-e65c7bd7b0c2\" class=\"plotly-graph-div\" style=\"height:525px; width:100%;\"></div>\n",
       "            <script type=\"text/javascript\">\n",
       "                require([\"plotly\"], function(Plotly) {\n",
       "                    window.PLOTLYENV=window.PLOTLYENV || {};\n",
       "                    \n",
       "                if (document.getElementById(\"fde64cba-2c5a-4682-a524-e65c7bd7b0c2\")) {\n",
       "                    Plotly.newPlot(\n",
       "                        'fde64cba-2c5a-4682-a524-e65c7bd7b0c2',\n",
       "                        [{\"name\": \"vol_sum\", \"type\": \"scatter\", \"x\": [20170102, 20170103, 20170104, 20170105, 20170106, 20170109, 20170110, 20170111, 20170112, 20170113, 20170116, 20170117, 20170118, 20170119, 20170120, 20170123, 20170124, 20170125, 20170126, 20170127, 20170130, 20170131, 20170201, 20170202, 20170203, 20170206, 20170207, 20170208, 20170209, 20170210, 20170213, 20170214, 20170215, 20170216, 20170217, 20170220, 20170221, 20170222, 20170223, 20170224, 20170227, 20170228, 20170301, 20170302, 20170303, 20170306, 20170307, 20170308, 20170309, 20170310, 20170313, 20170314, 20170315, 20170316, 20170317, 20170320, 20170321, 20170322, 20170323, 20170324, 20170327, 20170328, 20170329, 20170330, 20170331, 20170403, 20170404, 20170405, 20170406, 20170407, 20170410, 20170411, 20170412, 20170413, 20170417, 20170418, 20170419, 20170420, 20170421, 20170424, 20170425, 20170426, 20170427, 20170428, 20170501, 20170502, 20170503, 20170504, 20170505, 20170508, 20170509, 20170510, 20170511, 20170512, 20170515, 20170516, 20170517, 20170518, 20170519, 20170522, 20170523, 20170524, 20170525, 20170526, 20170529, 20170530, 20170531, 20170601, 20170602, 20170605, 20170606, 20170607, 20170608, 20170609, 20170612, 20170613, 20170614, 20170615, 20170616, 20170619, 20170620, 20170621, 20170622, 20170623, 20170626, 20170627, 20170628, 20170629, 20170630, 20170703, 20170704, 20170705, 20170706, 20170707, 20170710, 20170711, 20170712, 20170713, 20170714, 20170717, 20170718, 20170719, 20170720, 20170721, 20170724, 20170725, 20170726, 20170727, 20170728, 20170731, 20170801, 20170802, 20170803, 20170804, 20170807, 20170808, 20170809, 20170810, 20170811, 20170814, 20170815, 20170816, 20170817, 20170818, 20170821, 20170822, 20170823, 20170824, 20170825, 20170828, 20170829, 20170830, 20170831, 20170901, 20170904, 20170905, 20170906, 20170907, 20170908, 20170911, 20170912, 20170913, 20170914, 20170915, 20170918, 20170919, 20170920, 20170921, 20170922, 20170925, 20170926, 20170927, 20170928, 20170929, 20171002, 20171003, 20171004, 20171005, 20171006, 20171009, 20171010, 20171011, 20171012, 20171013, 20171016, 20171017, 20171018, 20171019, 20171020, 20171023, 20171024, 20171025, 20171026, 20171027, 20171030, 20171031, 20171101, 20171102, 20171103, 20171106, 20171107, 20171108, 20171109, 20171110, 20171113, 20171114, 20171115, 20171116, 20171117, 20171120, 20171121, 20171122, 20171123, 20171124, 20171127, 20171128, 20171129, 20171130, 20171201, 20171204, 20171205, 20171206, 20171207, 20171208, 20171211, 20171212, 20171213, 20171214, 20171215, 20171218, 20171219, 20171220, 20171221, 20171222, 20171226, 20171227, 20171228, 20171229], \"y\": [31502, 73821, 315422, 115944, 143092, 94943, 210234, 246123, 199009, 122232, 115758, 130094, 126932, 161096, 105809, 125022, 112335, 121839, 97092, 142140, 164638, 118688, 107373, 108148, 127538, 110283, 153927, 255975, 204625, 124359, 163819, 146910, 164766, 119074, 147361, 64680, 80878, 131795, 120456, 131087, 91253, 84462, 146860, 170880, 280717, 117468, 108132, 134029, 518592, 570923, 440044, 268743, 386703, 297863, 153179, 134590, 105451, 162036, 217593, 101800, 162438, 121989, 135587, 172807, 185409, 123407, 137961, 155854, 200948, 110575, 190675, 211445, 351449, 272071, 179196, 100235, 137685, 391170, 224357, 313791, 135747, 186847, 216822, 284222, 137849, 105218, 225925, 232725, 522374, 379315, 198036, 177701, 281108, 193209, 154426, 348161, 260620, 131491, 148245, 181007, 145716, 175509, 307880, 432989, 125708, 174636, 113577, 308208, 160089, 191920, 169236, 132332, 307556, 230423, 199743, 164755, 161041, 386851, 155113, 153776, 116202, 240094, 283336, 158792, 106338, 99795, 149322, 159449, 163768, 136170, 113070, 146228, 280066, 193722, 185239, 109546, 175007, 205249, 134683, 188682, 134203, 134352, 147902, 149596, 190515, 140275, 155609, 193512, 156636, 177141, 180652, 237685, 150523, 172295, 129503, 128817, 149572, 141620, 195058, 150233, 176768, 158141, 212841, 116580, 184721, 124167, 101859, 87959, 94890, 73870, 123613, 127869, 132942, 138260, 51287, 139436, 90852, 150911, 100994, 151240, 116918, 139458, 186501, 241864, 100769, 111857, 86539, 107551, 91771, 77883, 208208, 136491, 140811, 166470, 81190, 148368, 96901, 89018, 104586, 168720, 62427, 160405, 125904, 144635, 154086, 178716, 154345, 114262, 84635, 76865, 90884, 93777, 102706, 112877, 200697, 207758, 167912, 199368, 141649, 445007, 439752, 267855, 240143, 197975, 215525, 183311, 298697, 131048, 130647, 136472, 94525, 92780, 122330, 148378, 94582, 141407, 205341, 197323, 199443, 227178, 110688, 90618, 187904, 97823, 135244, 98388, 196494, 160192, 124052, 107967, 76780, 53513, 76673, 87314, 64901, 110309, 89706, 70047], \"yaxis\": \"y\"}],\n",
       "                        {\"margin\": {\"b\": 100}, \"shapes\": [{\"fillcolor\": \"LightSalmon\", \"layer\": \"below\", \"line\": {\"width\": 0}, \"opacity\": 0.5, \"type\": \"rect\", \"x0\": 20170116, \"x1\": 20170118, \"xref\": \"x\", \"y0\": 0, \"y1\": 1, \"yref\": \"paper\"}, {\"fillcolor\": \"LightSalmon\", \"layer\": \"below\", \"line\": {\"width\": 0}, \"opacity\": 0.5, \"type\": \"rect\", \"x0\": 20170214, \"x1\": 20170216, \"xref\": \"x\", \"y0\": 0, \"y1\": 1, \"yref\": \"paper\"}, {\"fillcolor\": \"LightSalmon\", \"layer\": \"below\", \"line\": {\"width\": 0}, \"opacity\": 0.5, \"type\": \"rect\", \"x0\": 20170315, \"x1\": 20170317, \"xref\": \"x\", \"y0\": 0, \"y1\": 1, \"yref\": \"paper\"}, {\"fillcolor\": \"LightSalmon\", \"layer\": \"below\", \"line\": {\"width\": 0}, \"opacity\": 0.5, \"type\": \"rect\", \"x0\": 20170413, \"x1\": 20170418, \"xref\": \"x\", \"y0\": 0, \"y1\": 1, \"yref\": \"paper\"}, {\"fillcolor\": \"LightSalmon\", \"layer\": \"below\", \"line\": {\"width\": 0}, \"opacity\": 0.5, \"type\": \"rect\", \"x0\": 20170516, \"x1\": 20170518, \"xref\": \"x\", \"y0\": 0, \"y1\": 1, \"yref\": \"paper\"}, {\"fillcolor\": \"LightSalmon\", \"layer\": \"below\", \"line\": {\"width\": 0}, \"opacity\": 0.5, \"type\": \"rect\", \"x0\": 20170614, \"x1\": 20170616, \"xref\": \"x\", \"y0\": 0, \"y1\": 1, \"yref\": \"paper\"}, {\"fillcolor\": \"LightSalmon\", \"layer\": \"below\", \"line\": {\"width\": 0}, \"opacity\": 0.5, \"type\": \"rect\", \"x0\": 20170714, \"x1\": 20170718, \"xref\": \"x\", \"y0\": 0, \"y1\": 1, \"yref\": \"paper\"}, {\"fillcolor\": \"LightSalmon\", \"layer\": \"below\", \"line\": {\"width\": 0}, \"opacity\": 0.5, \"type\": \"rect\", \"x0\": 20170816, \"x1\": 20170818, \"xref\": \"x\", \"y0\": 0, \"y1\": 1, \"yref\": \"paper\"}, {\"fillcolor\": \"LightSalmon\", \"layer\": \"below\", \"line\": {\"width\": 0}, \"opacity\": 0.5, \"type\": \"rect\", \"x0\": 20170914, \"x1\": 20170918, \"xref\": \"x\", \"y0\": 0, \"y1\": 1, \"yref\": \"paper\"}, {\"fillcolor\": \"LightSalmon\", \"layer\": \"below\", \"line\": {\"width\": 0}, \"opacity\": 0.5, \"type\": \"rect\", \"x0\": 20171016, \"x1\": 20171018, \"xref\": \"x\", \"y0\": 0, \"y1\": 1, \"yref\": \"paper\"}, {\"fillcolor\": \"LightSalmon\", \"layer\": \"below\", \"line\": {\"width\": 0}, \"opacity\": 0.5, \"type\": \"rect\", \"x0\": 20171114, \"x1\": 20171116, \"xref\": \"x\", \"y0\": 0, \"y1\": 1, \"yref\": \"paper\"}, {\"fillcolor\": \"LightSalmon\", \"layer\": \"below\", \"line\": {\"width\": 0}, \"opacity\": 0.5, \"type\": \"rect\", \"x0\": 20171213, \"x1\": 20171215, \"xref\": \"x\", \"y0\": 0, \"y1\": 1, \"yref\": \"paper\"}], \"template\": {\"data\": {\"bar\": [{\"error_x\": {\"color\": \"#2a3f5f\"}, \"error_y\": {\"color\": \"#2a3f5f\"}, \"marker\": {\"line\": {\"color\": \"#E5ECF6\", \"width\": 0.5}}, \"type\": \"bar\"}], \"barpolar\": [{\"marker\": {\"line\": {\"color\": \"#E5ECF6\", \"width\": 0.5}}, \"type\": \"barpolar\"}], \"carpet\": [{\"aaxis\": {\"endlinecolor\": \"#2a3f5f\", \"gridcolor\": \"white\", \"linecolor\": \"white\", \"minorgridcolor\": \"white\", \"startlinecolor\": \"#2a3f5f\"}, \"baxis\": {\"endlinecolor\": \"#2a3f5f\", \"gridcolor\": \"white\", \"linecolor\": \"white\", \"minorgridcolor\": \"white\", \"startlinecolor\": \"#2a3f5f\"}, \"type\": \"carpet\"}], \"choropleth\": [{\"colorbar\": {\"outlinewidth\": 0, \"ticks\": \"\"}, \"type\": \"choropleth\"}], \"contour\": [{\"colorbar\": {\"outlinewidth\": 0, \"ticks\": \"\"}, \"colorscale\": [[0.0, \"#0d0887\"], [0.1111111111111111, \"#46039f\"], [0.2222222222222222, \"#7201a8\"], [0.3333333333333333, \"#9c179e\"], [0.4444444444444444, \"#bd3786\"], [0.5555555555555556, \"#d8576b\"], [0.6666666666666666, \"#ed7953\"], [0.7777777777777778, \"#fb9f3a\"], [0.8888888888888888, \"#fdca26\"], [1.0, \"#f0f921\"]], \"type\": \"contour\"}], \"contourcarpet\": [{\"colorbar\": {\"outlinewidth\": 0, \"ticks\": \"\"}, \"type\": \"contourcarpet\"}], \"heatmap\": [{\"colorbar\": {\"outlinewidth\": 0, \"ticks\": \"\"}, \"colorscale\": [[0.0, \"#0d0887\"], [0.1111111111111111, \"#46039f\"], [0.2222222222222222, \"#7201a8\"], [0.3333333333333333, \"#9c179e\"], [0.4444444444444444, \"#bd3786\"], [0.5555555555555556, \"#d8576b\"], [0.6666666666666666, \"#ed7953\"], [0.7777777777777778, \"#fb9f3a\"], [0.8888888888888888, \"#fdca26\"], [1.0, \"#f0f921\"]], \"type\": \"heatmap\"}], \"heatmapgl\": [{\"colorbar\": {\"outlinewidth\": 0, \"ticks\": \"\"}, \"colorscale\": [[0.0, \"#0d0887\"], [0.1111111111111111, \"#46039f\"], [0.2222222222222222, \"#7201a8\"], [0.3333333333333333, \"#9c179e\"], [0.4444444444444444, \"#bd3786\"], [0.5555555555555556, \"#d8576b\"], [0.6666666666666666, \"#ed7953\"], [0.7777777777777778, \"#fb9f3a\"], [0.8888888888888888, \"#fdca26\"], [1.0, \"#f0f921\"]], \"type\": \"heatmapgl\"}], \"histogram\": [{\"marker\": {\"colorbar\": {\"outlinewidth\": 0, \"ticks\": \"\"}}, \"type\": \"histogram\"}], \"histogram2d\": [{\"colorbar\": {\"outlinewidth\": 0, \"ticks\": \"\"}, \"colorscale\": [[0.0, \"#0d0887\"], [0.1111111111111111, \"#46039f\"], [0.2222222222222222, \"#7201a8\"], [0.3333333333333333, \"#9c179e\"], [0.4444444444444444, \"#bd3786\"], [0.5555555555555556, \"#d8576b\"], [0.6666666666666666, \"#ed7953\"], [0.7777777777777778, \"#fb9f3a\"], [0.8888888888888888, \"#fdca26\"], [1.0, \"#f0f921\"]], \"type\": \"histogram2d\"}], \"histogram2dcontour\": [{\"colorbar\": {\"outlinewidth\": 0, \"ticks\": \"\"}, \"colorscale\": [[0.0, \"#0d0887\"], [0.1111111111111111, \"#46039f\"], [0.2222222222222222, \"#7201a8\"], [0.3333333333333333, \"#9c179e\"], [0.4444444444444444, \"#bd3786\"], [0.5555555555555556, \"#d8576b\"], [0.6666666666666666, \"#ed7953\"], [0.7777777777777778, \"#fb9f3a\"], [0.8888888888888888, \"#fdca26\"], [1.0, \"#f0f921\"]], \"type\": \"histogram2dcontour\"}], \"mesh3d\": [{\"colorbar\": {\"outlinewidth\": 0, \"ticks\": \"\"}, \"type\": \"mesh3d\"}], \"parcoords\": [{\"line\": {\"colorbar\": {\"outlinewidth\": 0, \"ticks\": \"\"}}, \"type\": \"parcoords\"}], \"pie\": [{\"automargin\": true, \"type\": \"pie\"}], \"scatter\": [{\"marker\": {\"colorbar\": {\"outlinewidth\": 0, \"ticks\": \"\"}}, \"type\": \"scatter\"}], \"scatter3d\": [{\"line\": {\"colorbar\": {\"outlinewidth\": 0, \"ticks\": \"\"}}, \"marker\": {\"colorbar\": {\"outlinewidth\": 0, \"ticks\": \"\"}}, \"type\": \"scatter3d\"}], \"scattercarpet\": [{\"marker\": {\"colorbar\": {\"outlinewidth\": 0, \"ticks\": \"\"}}, \"type\": \"scattercarpet\"}], \"scattergeo\": [{\"marker\": {\"colorbar\": {\"outlinewidth\": 0, \"ticks\": \"\"}}, \"type\": \"scattergeo\"}], \"scattergl\": [{\"marker\": {\"colorbar\": {\"outlinewidth\": 0, \"ticks\": \"\"}}, \"type\": \"scattergl\"}], \"scattermapbox\": [{\"marker\": {\"colorbar\": {\"outlinewidth\": 0, \"ticks\": \"\"}}, \"type\": \"scattermapbox\"}], \"scatterpolar\": [{\"marker\": {\"colorbar\": {\"outlinewidth\": 0, \"ticks\": \"\"}}, \"type\": \"scatterpolar\"}], \"scatterpolargl\": [{\"marker\": {\"colorbar\": {\"outlinewidth\": 0, \"ticks\": \"\"}}, \"type\": \"scatterpolargl\"}], \"scatterternary\": [{\"marker\": {\"colorbar\": {\"outlinewidth\": 0, \"ticks\": \"\"}}, \"type\": \"scatterternary\"}], \"surface\": [{\"colorbar\": {\"outlinewidth\": 0, \"ticks\": \"\"}, \"colorscale\": [[0.0, \"#0d0887\"], [0.1111111111111111, \"#46039f\"], [0.2222222222222222, \"#7201a8\"], [0.3333333333333333, \"#9c179e\"], [0.4444444444444444, \"#bd3786\"], [0.5555555555555556, \"#d8576b\"], [0.6666666666666666, \"#ed7953\"], [0.7777777777777778, \"#fb9f3a\"], [0.8888888888888888, \"#fdca26\"], [1.0, \"#f0f921\"]], \"type\": \"surface\"}], \"table\": [{\"cells\": {\"fill\": {\"color\": \"#EBF0F8\"}, \"line\": {\"color\": \"white\"}}, \"header\": {\"fill\": {\"color\": \"#C8D4E3\"}, \"line\": {\"color\": \"white\"}}, \"type\": \"table\"}]}, \"layout\": {\"annotationdefaults\": {\"arrowcolor\": \"#2a3f5f\", \"arrowhead\": 0, \"arrowwidth\": 1}, \"coloraxis\": {\"colorbar\": {\"outlinewidth\": 0, \"ticks\": \"\"}}, \"colorscale\": {\"diverging\": [[0, \"#8e0152\"], [0.1, \"#c51b7d\"], [0.2, \"#de77ae\"], [0.3, \"#f1b6da\"], [0.4, \"#fde0ef\"], [0.5, \"#f7f7f7\"], [0.6, \"#e6f5d0\"], [0.7, \"#b8e186\"], [0.8, \"#7fbc41\"], [0.9, \"#4d9221\"], [1, \"#276419\"]], \"sequential\": [[0.0, \"#0d0887\"], [0.1111111111111111, \"#46039f\"], [0.2222222222222222, \"#7201a8\"], [0.3333333333333333, \"#9c179e\"], [0.4444444444444444, \"#bd3786\"], [0.5555555555555556, \"#d8576b\"], [0.6666666666666666, \"#ed7953\"], [0.7777777777777778, \"#fb9f3a\"], [0.8888888888888888, \"#fdca26\"], [1.0, \"#f0f921\"]], \"sequentialminus\": [[0.0, \"#0d0887\"], [0.1111111111111111, \"#46039f\"], [0.2222222222222222, \"#7201a8\"], [0.3333333333333333, \"#9c179e\"], [0.4444444444444444, \"#bd3786\"], [0.5555555555555556, \"#d8576b\"], [0.6666666666666666, \"#ed7953\"], [0.7777777777777778, \"#fb9f3a\"], [0.8888888888888888, \"#fdca26\"], [1.0, \"#f0f921\"]]}, \"colorway\": [\"#636efa\", \"#EF553B\", \"#00cc96\", \"#ab63fa\", \"#FFA15A\", \"#19d3f3\", \"#FF6692\", \"#B6E880\", \"#FF97FF\", \"#FECB52\"], \"font\": {\"color\": \"#2a3f5f\"}, \"geo\": {\"bgcolor\": \"white\", \"lakecolor\": \"white\", \"landcolor\": \"#E5ECF6\", \"showlakes\": true, \"showland\": true, \"subunitcolor\": \"white\"}, \"hoverlabel\": {\"align\": \"left\"}, \"hovermode\": \"closest\", \"mapbox\": {\"style\": \"light\"}, \"paper_bgcolor\": \"white\", \"plot_bgcolor\": \"#E5ECF6\", \"polar\": {\"angularaxis\": {\"gridcolor\": \"white\", \"linecolor\": \"white\", \"ticks\": \"\"}, \"bgcolor\": \"#E5ECF6\", \"radialaxis\": {\"gridcolor\": \"white\", \"linecolor\": \"white\", \"ticks\": \"\"}}, \"scene\": {\"xaxis\": {\"backgroundcolor\": \"#E5ECF6\", \"gridcolor\": \"white\", \"gridwidth\": 2, \"linecolor\": \"white\", \"showbackground\": true, \"ticks\": \"\", \"zerolinecolor\": \"white\"}, \"yaxis\": {\"backgroundcolor\": \"#E5ECF6\", \"gridcolor\": \"white\", \"gridwidth\": 2, \"linecolor\": \"white\", \"showbackground\": true, \"ticks\": \"\", \"zerolinecolor\": \"white\"}, \"zaxis\": {\"backgroundcolor\": \"#E5ECF6\", \"gridcolor\": \"white\", \"gridwidth\": 2, \"linecolor\": \"white\", \"showbackground\": true, \"ticks\": \"\", \"zerolinecolor\": \"white\"}}, \"shapedefaults\": {\"line\": {\"color\": \"#2a3f5f\"}}, \"ternary\": {\"aaxis\": {\"gridcolor\": \"white\", \"linecolor\": \"white\", \"ticks\": \"\"}, \"baxis\": {\"gridcolor\": \"white\", \"linecolor\": \"white\", \"ticks\": \"\"}, \"bgcolor\": \"#E5ECF6\", \"caxis\": {\"gridcolor\": \"white\", \"linecolor\": \"white\", \"ticks\": \"\"}}, \"title\": {\"x\": 0.05}, \"xaxis\": {\"automargin\": true, \"gridcolor\": \"white\", \"linecolor\": \"white\", \"ticks\": \"\", \"title\": {\"standoff\": 15}, \"zerolinecolor\": \"white\", \"zerolinewidth\": 2}, \"yaxis\": {\"automargin\": true, \"gridcolor\": \"white\", \"linecolor\": \"white\", \"ticks\": \"\", \"title\": {\"standoff\": 15}, \"zerolinecolor\": \"white\", \"zerolinewidth\": 2}}}, \"title\": {\"text\": \"Option Volume 2017 (Expiration in Orange)\", \"x\": 0.5, \"xanchor\": \"center\", \"y\": 0.9, \"yanchor\": \"top\"}, \"xaxis\": {\"tickangle\": 45, \"ticktext\": [20170102, 20170118, 20170203, 20170221, 20170309, 20170327, 20170412, 20170501, 20170517, 20170602, 20170620, 20170706, 20170724, 20170809, 20170825, 20170912, 20170928, 20171016, 20171101, 20171117, 20171205, 20171221], \"tickvals\": [20170102, 20170118, 20170203, 20170221, 20170309, 20170327, 20170412, 20170501, 20170517, 20170602, 20170620, 20170706, 20170724, 20170809, 20170825, 20170912, 20170928, 20171016, 20171101, 20171117, 20171205, 20171221], \"type\": \"category\"}, \"yaxis\": {\"title\": {\"text\": \"Total Options Volume Per Day\"}}, \"yaxis2\": {\"overlaying\": \"y\", \"side\": \"right\", \"title\": {\"text\": \"y alt\"}}},\n",
       "                        {\"responsive\": true}\n",
       "                    ).then(function(){\n",
       "                            \n",
       "var gd = document.getElementById('fde64cba-2c5a-4682-a524-e65c7bd7b0c2');\n",
       "var x = new MutationObserver(function (mutations, observer) {{\n",
       "        var display = window.getComputedStyle(gd).display;\n",
       "        if (!display || display === 'none') {{\n",
       "            console.log([gd, 'removed!']);\n",
       "            Plotly.purge(gd);\n",
       "            observer.disconnect();\n",
       "        }}\n",
       "}});\n",
       "\n",
       "// Listen for the removal of the full notebook cells\n",
       "var notebookContainer = gd.closest('#notebook-container');\n",
       "if (notebookContainer) {{\n",
       "    x.observe(notebookContainer, {childList: true});\n",
       "}}\n",
       "\n",
       "// Listen for the clearing of the current output cell\n",
       "var outputEl = gd.closest('.output');\n",
       "if (outputEl) {{\n",
       "    x.observe(outputEl, {childList: true});\n",
       "}}\n",
       "\n",
       "                        })\n",
       "                };\n",
       "                });\n",
       "            </script>\n",
       "        </div>"
      ]
     },
     "metadata": {},
     "output_type": "display_data"
    },
    {
     "data": {
      "application/vnd.plotly.v1+json": {
       "config": {
        "linkText": "Export to plot.ly",
        "plotlyServerURL": "https://plot.ly",
        "showLink": false
       },
       "data": [
        {
         "name": "vol_sum",
         "type": "scatter",
         "x": [
          20180102,
          20180103,
          20180104,
          20180105,
          20180108,
          20180109,
          20180110,
          20180111,
          20180112,
          20180115,
          20180116,
          20180117,
          20180118,
          20180119,
          20180122,
          20180123,
          20180124,
          20180125,
          20180126,
          20180129,
          20180130,
          20180131,
          20180201,
          20180202,
          20180205,
          20180206,
          20180207,
          20180208,
          20180209,
          20180212,
          20180213,
          20180214,
          20180215,
          20180216,
          20180219,
          20180220,
          20180221,
          20180222,
          20180223,
          20180226,
          20180227,
          20180228,
          20180301,
          20180302,
          20180305,
          20180306,
          20180307,
          20180308,
          20180309,
          20180312,
          20180313,
          20180314,
          20180315,
          20180316,
          20180319,
          20180320,
          20180321,
          20180322,
          20180323,
          20180326,
          20180327,
          20180328,
          20180329,
          20180402,
          20180403,
          20180404,
          20180405,
          20180406,
          20180409,
          20180410,
          20180411,
          20180412,
          20180413,
          20180416,
          20180417,
          20180418,
          20180419,
          20180420,
          20180423,
          20180424,
          20180425,
          20180426,
          20180427,
          20180430,
          20180501,
          20180502,
          20180503,
          20180504,
          20180507,
          20180508,
          20180509,
          20180510,
          20180511,
          20180514,
          20180515,
          20180516,
          20180517,
          20180518,
          20180521,
          20180522,
          20180523,
          20180524,
          20180525,
          20180528,
          20180529,
          20180530,
          20180531,
          20180601,
          20180604,
          20180605,
          20180606,
          20180607,
          20180608,
          20180611,
          20180612,
          20180613,
          20180614,
          20180615,
          20180618,
          20180619,
          20180620,
          20180621,
          20180622,
          20180625,
          20180626,
          20180627,
          20180628,
          20180629,
          20180702,
          20180703,
          20180704,
          20180705,
          20180706,
          20180709,
          20180710,
          20180711,
          20180712,
          20180713,
          20180716,
          20180717,
          20180718,
          20180719,
          20180720,
          20180723,
          20180724,
          20180725,
          20180726,
          20180727,
          20180730,
          20180731,
          20180801,
          20180802,
          20180803,
          20180806,
          20180807,
          20180808,
          20180809,
          20180810,
          20180813,
          20180814,
          20180815,
          20180816,
          20180817,
          20180820,
          20180821,
          20180822,
          20180823,
          20180824,
          20180827,
          20180828,
          20180829,
          20180830,
          20180831,
          20180903,
          20180904,
          20180905,
          20180906,
          20180907,
          20180910,
          20180911,
          20180912,
          20180913,
          20180914,
          20180917,
          20180918,
          20180919,
          20180920,
          20180921,
          20180924,
          20180925,
          20180926,
          20180927,
          20180928,
          20181001,
          20181002,
          20181003,
          20181004,
          20181005,
          20181008,
          20181009,
          20181010,
          20181011,
          20181012,
          20181015,
          20181016,
          20181017,
          20181018,
          20181019,
          20181022,
          20181023,
          20181024,
          20181025,
          20181026,
          20181029,
          20181030,
          20181031,
          20181101,
          20181102,
          20181105,
          20181106,
          20181107,
          20181108,
          20181109,
          20181112,
          20181113,
          20181114,
          20181115,
          20181116,
          20181119,
          20181120,
          20181121,
          20181122,
          20181123,
          20181126,
          20181127,
          20181128,
          20181129,
          20181130,
          20181203,
          20181204,
          20181205,
          20181206,
          20181207,
          20181210,
          20181211,
          20181212,
          20181213,
          20181214,
          20181217,
          20181218,
          20181219,
          20181220,
          20181221,
          20181224,
          20181225,
          20181226,
          20181227,
          20181228,
          20181231
         ],
         "y": [
          113933,
          94881,
          191861,
          161130,
          161391,
          117902,
          298643,
          236463,
          291457,
          146415,
          174060,
          207731,
          142231,
          134062,
          116093,
          141388,
          168133,
          237964,
          244587,
          120900,
          130296,
          244295,
          157710,
          127858,
          195825,
          227662,
          314678,
          328211,
          321686,
          469066,
          256676,
          233284,
          207446,
          152617,
          81939,
          104987,
          102137,
          94364,
          149889,
          174463,
          135139,
          142380,
          209406,
          230928,
          119387,
          122547,
          114727,
          159474,
          170275,
          154039,
          122452,
          173999,
          197217,
          151791,
          152223,
          75074,
          153301,
          260064,
          137465,
          218496,
          141258,
          178116,
          176034,
          104445,
          148290,
          128666,
          198590,
          108572,
          147731,
          125842,
          228999,
          328162,
          190718,
          253474,
          222742,
          108772,
          214121,
          251882,
          119861,
          116722,
          173552,
          153942,
          135511,
          117480,
          183054,
          154822,
          124065,
          131937,
          166982,
          265745,
          341612,
          265447,
          176332,
          125673,
          132010,
          191735,
          150450,
          139588,
          150758,
          129635,
          160159,
          129703,
          127309,
          230931,
          263464,
          253660,
          144865,
          156246,
          105177,
          142283,
          128675,
          141404,
          160064,
          96985,
          125000,
          121565,
          149325,
          128519,
          168657,
          98932,
          115916,
          119601,
          133147,
          300821,
          113135,
          233183,
          301433,
          175718,
          191676,
          126490,
          153693,
          206663,
          178392,
          136146,
          96278,
          107359,
          250348,
          233383,
          153780,
          275844,
          136784,
          121771,
          136509,
          106426,
          114226,
          89857,
          117616,
          116735,
          87127,
          98304,
          85511,
          116663,
          131026,
          75228,
          88222,
          102364,
          203213,
          113916,
          131206,
          179934,
          157831,
          284988,
          103795,
          106624,
          70542,
          72382,
          153910,
          108561,
          140822,
          66429,
          76234,
          125954,
          126377,
          97661,
          139932,
          201392,
          146068,
          153478,
          100408,
          78800,
          215033,
          260186,
          192719,
          178373,
          83260,
          159427,
          130732,
          140617,
          148811,
          247587,
          177841,
          188619,
          127684,
          206943,
          321254,
          185793,
          271143,
          217842,
          161818,
          134732,
          110378,
          201378,
          300004,
          160754,
          128658,
          116051,
          173856,
          179588,
          99425,
          98264,
          253687,
          180359,
          103643,
          123037,
          116148,
          172470,
          148985,
          289266,
          236145,
          177455,
          237182,
          254943,
          199283,
          327585,
          238074,
          693975,
          397710,
          251762,
          178553,
          167938,
          334528,
          125429,
          229976,
          304489,
          197394,
          261542,
          243773,
          276726,
          254137,
          169258,
          231297,
          215040,
          225339,
          274352,
          152272,
          150648,
          200917,
          211108,
          99684,
          89285,
          222459,
          171283,
          170921,
          137314,
          47751,
          85079,
          101652,
          103805,
          82564
         ],
         "yaxis": "y"
        }
       ],
       "layout": {
        "margin": {
         "b": 100
        },
        "shapes": [
         {
          "fillcolor": "LightSalmon",
          "layer": "below",
          "line": {
           "width": 0
          },
          "opacity": 0.5,
          "type": "rect",
          "x0": 20180116,
          "x1": 20180118,
          "xref": "x",
          "y0": 0,
          "y1": 1,
          "yref": "paper"
         },
         {
          "fillcolor": "LightSalmon",
          "layer": "below",
          "line": {
           "width": 0
          },
          "opacity": 0.5,
          "type": "rect",
          "x0": 20180213,
          "x1": 20180215,
          "xref": "x",
          "y0": 0,
          "y1": 1,
          "yref": "paper"
         },
         {
          "fillcolor": "LightSalmon",
          "layer": "below",
          "line": {
           "width": 0
          },
          "opacity": 0.5,
          "type": "rect",
          "x0": 20180314,
          "x1": 20180316,
          "xref": "x",
          "y0": 0,
          "y1": 1,
          "yref": "paper"
         },
         {
          "fillcolor": "LightSalmon",
          "layer": "below",
          "line": {
           "width": 0
          },
          "opacity": 0.5,
          "type": "rect",
          "x0": 20180416,
          "x1": 20180418,
          "xref": "x",
          "y0": 0,
          "y1": 1,
          "yref": "paper"
         },
         {
          "fillcolor": "LightSalmon",
          "layer": "below",
          "line": {
           "width": 0
          },
          "opacity": 0.5,
          "type": "rect",
          "x0": 20180516,
          "x1": 20180518,
          "xref": "x",
          "y0": 0,
          "y1": 1,
          "yref": "paper"
         },
         {
          "fillcolor": "LightSalmon",
          "layer": "below",
          "line": {
           "width": 0
          },
          "opacity": 0.5,
          "type": "rect",
          "x0": 20180614,
          "x1": 20180618,
          "xref": "x",
          "y0": 0,
          "y1": 1,
          "yref": "paper"
         },
         {
          "fillcolor": "LightSalmon",
          "layer": "below",
          "line": {
           "width": 0
          },
          "opacity": 0.5,
          "type": "rect",
          "x0": 20180716,
          "x1": 20180718,
          "xref": "x",
          "y0": 0,
          "y1": 1,
          "yref": "paper"
         },
         {
          "fillcolor": "LightSalmon",
          "layer": "below",
          "line": {
           "width": 0
          },
          "opacity": 0.5,
          "type": "rect",
          "x0": 20180815,
          "x1": 20180817,
          "xref": "x",
          "y0": 0,
          "y1": 1,
          "yref": "paper"
         },
         {
          "fillcolor": "LightSalmon",
          "layer": "below",
          "line": {
           "width": 0
          },
          "opacity": 0.5,
          "type": "rect",
          "x0": 20180914,
          "x1": 20180918,
          "xref": "x",
          "y0": 0,
          "y1": 1,
          "yref": "paper"
         },
         {
          "fillcolor": "LightSalmon",
          "layer": "below",
          "line": {
           "width": 0
          },
          "opacity": 0.5,
          "type": "rect",
          "x0": 20181016,
          "x1": 20181018,
          "xref": "x",
          "y0": 0,
          "y1": 1,
          "yref": "paper"
         },
         {
          "fillcolor": "LightSalmon",
          "layer": "below",
          "line": {
           "width": 0
          },
          "opacity": 0.5,
          "type": "rect",
          "x0": 20181113,
          "x1": 20181115,
          "xref": "x",
          "y0": 0,
          "y1": 1,
          "yref": "paper"
         },
         {
          "fillcolor": "LightSalmon",
          "layer": "below",
          "line": {
           "width": 0
          },
          "opacity": 0.5,
          "type": "rect",
          "x0": 20181213,
          "x1": 20181217,
          "xref": "x",
          "y0": 0,
          "y1": 1,
          "yref": "paper"
         }
        ],
        "template": {
         "data": {
          "bar": [
           {
            "error_x": {
             "color": "#2a3f5f"
            },
            "error_y": {
             "color": "#2a3f5f"
            },
            "marker": {
             "line": {
              "color": "#E5ECF6",
              "width": 0.5
             }
            },
            "type": "bar"
           }
          ],
          "barpolar": [
           {
            "marker": {
             "line": {
              "color": "#E5ECF6",
              "width": 0.5
             }
            },
            "type": "barpolar"
           }
          ],
          "carpet": [
           {
            "aaxis": {
             "endlinecolor": "#2a3f5f",
             "gridcolor": "white",
             "linecolor": "white",
             "minorgridcolor": "white",
             "startlinecolor": "#2a3f5f"
            },
            "baxis": {
             "endlinecolor": "#2a3f5f",
             "gridcolor": "white",
             "linecolor": "white",
             "minorgridcolor": "white",
             "startlinecolor": "#2a3f5f"
            },
            "type": "carpet"
           }
          ],
          "choropleth": [
           {
            "colorbar": {
             "outlinewidth": 0,
             "ticks": ""
            },
            "type": "choropleth"
           }
          ],
          "contour": [
           {
            "colorbar": {
             "outlinewidth": 0,
             "ticks": ""
            },
            "colorscale": [
             [
              0,
              "#0d0887"
             ],
             [
              0.1111111111111111,
              "#46039f"
             ],
             [
              0.2222222222222222,
              "#7201a8"
             ],
             [
              0.3333333333333333,
              "#9c179e"
             ],
             [
              0.4444444444444444,
              "#bd3786"
             ],
             [
              0.5555555555555556,
              "#d8576b"
             ],
             [
              0.6666666666666666,
              "#ed7953"
             ],
             [
              0.7777777777777778,
              "#fb9f3a"
             ],
             [
              0.8888888888888888,
              "#fdca26"
             ],
             [
              1,
              "#f0f921"
             ]
            ],
            "type": "contour"
           }
          ],
          "contourcarpet": [
           {
            "colorbar": {
             "outlinewidth": 0,
             "ticks": ""
            },
            "type": "contourcarpet"
           }
          ],
          "heatmap": [
           {
            "colorbar": {
             "outlinewidth": 0,
             "ticks": ""
            },
            "colorscale": [
             [
              0,
              "#0d0887"
             ],
             [
              0.1111111111111111,
              "#46039f"
             ],
             [
              0.2222222222222222,
              "#7201a8"
             ],
             [
              0.3333333333333333,
              "#9c179e"
             ],
             [
              0.4444444444444444,
              "#bd3786"
             ],
             [
              0.5555555555555556,
              "#d8576b"
             ],
             [
              0.6666666666666666,
              "#ed7953"
             ],
             [
              0.7777777777777778,
              "#fb9f3a"
             ],
             [
              0.8888888888888888,
              "#fdca26"
             ],
             [
              1,
              "#f0f921"
             ]
            ],
            "type": "heatmap"
           }
          ],
          "heatmapgl": [
           {
            "colorbar": {
             "outlinewidth": 0,
             "ticks": ""
            },
            "colorscale": [
             [
              0,
              "#0d0887"
             ],
             [
              0.1111111111111111,
              "#46039f"
             ],
             [
              0.2222222222222222,
              "#7201a8"
             ],
             [
              0.3333333333333333,
              "#9c179e"
             ],
             [
              0.4444444444444444,
              "#bd3786"
             ],
             [
              0.5555555555555556,
              "#d8576b"
             ],
             [
              0.6666666666666666,
              "#ed7953"
             ],
             [
              0.7777777777777778,
              "#fb9f3a"
             ],
             [
              0.8888888888888888,
              "#fdca26"
             ],
             [
              1,
              "#f0f921"
             ]
            ],
            "type": "heatmapgl"
           }
          ],
          "histogram": [
           {
            "marker": {
             "colorbar": {
              "outlinewidth": 0,
              "ticks": ""
             }
            },
            "type": "histogram"
           }
          ],
          "histogram2d": [
           {
            "colorbar": {
             "outlinewidth": 0,
             "ticks": ""
            },
            "colorscale": [
             [
              0,
              "#0d0887"
             ],
             [
              0.1111111111111111,
              "#46039f"
             ],
             [
              0.2222222222222222,
              "#7201a8"
             ],
             [
              0.3333333333333333,
              "#9c179e"
             ],
             [
              0.4444444444444444,
              "#bd3786"
             ],
             [
              0.5555555555555556,
              "#d8576b"
             ],
             [
              0.6666666666666666,
              "#ed7953"
             ],
             [
              0.7777777777777778,
              "#fb9f3a"
             ],
             [
              0.8888888888888888,
              "#fdca26"
             ],
             [
              1,
              "#f0f921"
             ]
            ],
            "type": "histogram2d"
           }
          ],
          "histogram2dcontour": [
           {
            "colorbar": {
             "outlinewidth": 0,
             "ticks": ""
            },
            "colorscale": [
             [
              0,
              "#0d0887"
             ],
             [
              0.1111111111111111,
              "#46039f"
             ],
             [
              0.2222222222222222,
              "#7201a8"
             ],
             [
              0.3333333333333333,
              "#9c179e"
             ],
             [
              0.4444444444444444,
              "#bd3786"
             ],
             [
              0.5555555555555556,
              "#d8576b"
             ],
             [
              0.6666666666666666,
              "#ed7953"
             ],
             [
              0.7777777777777778,
              "#fb9f3a"
             ],
             [
              0.8888888888888888,
              "#fdca26"
             ],
             [
              1,
              "#f0f921"
             ]
            ],
            "type": "histogram2dcontour"
           }
          ],
          "mesh3d": [
           {
            "colorbar": {
             "outlinewidth": 0,
             "ticks": ""
            },
            "type": "mesh3d"
           }
          ],
          "parcoords": [
           {
            "line": {
             "colorbar": {
              "outlinewidth": 0,
              "ticks": ""
             }
            },
            "type": "parcoords"
           }
          ],
          "pie": [
           {
            "automargin": true,
            "type": "pie"
           }
          ],
          "scatter": [
           {
            "marker": {
             "colorbar": {
              "outlinewidth": 0,
              "ticks": ""
             }
            },
            "type": "scatter"
           }
          ],
          "scatter3d": [
           {
            "line": {
             "colorbar": {
              "outlinewidth": 0,
              "ticks": ""
             }
            },
            "marker": {
             "colorbar": {
              "outlinewidth": 0,
              "ticks": ""
             }
            },
            "type": "scatter3d"
           }
          ],
          "scattercarpet": [
           {
            "marker": {
             "colorbar": {
              "outlinewidth": 0,
              "ticks": ""
             }
            },
            "type": "scattercarpet"
           }
          ],
          "scattergeo": [
           {
            "marker": {
             "colorbar": {
              "outlinewidth": 0,
              "ticks": ""
             }
            },
            "type": "scattergeo"
           }
          ],
          "scattergl": [
           {
            "marker": {
             "colorbar": {
              "outlinewidth": 0,
              "ticks": ""
             }
            },
            "type": "scattergl"
           }
          ],
          "scattermapbox": [
           {
            "marker": {
             "colorbar": {
              "outlinewidth": 0,
              "ticks": ""
             }
            },
            "type": "scattermapbox"
           }
          ],
          "scatterpolar": [
           {
            "marker": {
             "colorbar": {
              "outlinewidth": 0,
              "ticks": ""
             }
            },
            "type": "scatterpolar"
           }
          ],
          "scatterpolargl": [
           {
            "marker": {
             "colorbar": {
              "outlinewidth": 0,
              "ticks": ""
             }
            },
            "type": "scatterpolargl"
           }
          ],
          "scatterternary": [
           {
            "marker": {
             "colorbar": {
              "outlinewidth": 0,
              "ticks": ""
             }
            },
            "type": "scatterternary"
           }
          ],
          "surface": [
           {
            "colorbar": {
             "outlinewidth": 0,
             "ticks": ""
            },
            "colorscale": [
             [
              0,
              "#0d0887"
             ],
             [
              0.1111111111111111,
              "#46039f"
             ],
             [
              0.2222222222222222,
              "#7201a8"
             ],
             [
              0.3333333333333333,
              "#9c179e"
             ],
             [
              0.4444444444444444,
              "#bd3786"
             ],
             [
              0.5555555555555556,
              "#d8576b"
             ],
             [
              0.6666666666666666,
              "#ed7953"
             ],
             [
              0.7777777777777778,
              "#fb9f3a"
             ],
             [
              0.8888888888888888,
              "#fdca26"
             ],
             [
              1,
              "#f0f921"
             ]
            ],
            "type": "surface"
           }
          ],
          "table": [
           {
            "cells": {
             "fill": {
              "color": "#EBF0F8"
             },
             "line": {
              "color": "white"
             }
            },
            "header": {
             "fill": {
              "color": "#C8D4E3"
             },
             "line": {
              "color": "white"
             }
            },
            "type": "table"
           }
          ]
         },
         "layout": {
          "annotationdefaults": {
           "arrowcolor": "#2a3f5f",
           "arrowhead": 0,
           "arrowwidth": 1
          },
          "coloraxis": {
           "colorbar": {
            "outlinewidth": 0,
            "ticks": ""
           }
          },
          "colorscale": {
           "diverging": [
            [
             0,
             "#8e0152"
            ],
            [
             0.1,
             "#c51b7d"
            ],
            [
             0.2,
             "#de77ae"
            ],
            [
             0.3,
             "#f1b6da"
            ],
            [
             0.4,
             "#fde0ef"
            ],
            [
             0.5,
             "#f7f7f7"
            ],
            [
             0.6,
             "#e6f5d0"
            ],
            [
             0.7,
             "#b8e186"
            ],
            [
             0.8,
             "#7fbc41"
            ],
            [
             0.9,
             "#4d9221"
            ],
            [
             1,
             "#276419"
            ]
           ],
           "sequential": [
            [
             0,
             "#0d0887"
            ],
            [
             0.1111111111111111,
             "#46039f"
            ],
            [
             0.2222222222222222,
             "#7201a8"
            ],
            [
             0.3333333333333333,
             "#9c179e"
            ],
            [
             0.4444444444444444,
             "#bd3786"
            ],
            [
             0.5555555555555556,
             "#d8576b"
            ],
            [
             0.6666666666666666,
             "#ed7953"
            ],
            [
             0.7777777777777778,
             "#fb9f3a"
            ],
            [
             0.8888888888888888,
             "#fdca26"
            ],
            [
             1,
             "#f0f921"
            ]
           ],
           "sequentialminus": [
            [
             0,
             "#0d0887"
            ],
            [
             0.1111111111111111,
             "#46039f"
            ],
            [
             0.2222222222222222,
             "#7201a8"
            ],
            [
             0.3333333333333333,
             "#9c179e"
            ],
            [
             0.4444444444444444,
             "#bd3786"
            ],
            [
             0.5555555555555556,
             "#d8576b"
            ],
            [
             0.6666666666666666,
             "#ed7953"
            ],
            [
             0.7777777777777778,
             "#fb9f3a"
            ],
            [
             0.8888888888888888,
             "#fdca26"
            ],
            [
             1,
             "#f0f921"
            ]
           ]
          },
          "colorway": [
           "#636efa",
           "#EF553B",
           "#00cc96",
           "#ab63fa",
           "#FFA15A",
           "#19d3f3",
           "#FF6692",
           "#B6E880",
           "#FF97FF",
           "#FECB52"
          ],
          "font": {
           "color": "#2a3f5f"
          },
          "geo": {
           "bgcolor": "white",
           "lakecolor": "white",
           "landcolor": "#E5ECF6",
           "showlakes": true,
           "showland": true,
           "subunitcolor": "white"
          },
          "hoverlabel": {
           "align": "left"
          },
          "hovermode": "closest",
          "mapbox": {
           "style": "light"
          },
          "paper_bgcolor": "white",
          "plot_bgcolor": "#E5ECF6",
          "polar": {
           "angularaxis": {
            "gridcolor": "white",
            "linecolor": "white",
            "ticks": ""
           },
           "bgcolor": "#E5ECF6",
           "radialaxis": {
            "gridcolor": "white",
            "linecolor": "white",
            "ticks": ""
           }
          },
          "scene": {
           "xaxis": {
            "backgroundcolor": "#E5ECF6",
            "gridcolor": "white",
            "gridwidth": 2,
            "linecolor": "white",
            "showbackground": true,
            "ticks": "",
            "zerolinecolor": "white"
           },
           "yaxis": {
            "backgroundcolor": "#E5ECF6",
            "gridcolor": "white",
            "gridwidth": 2,
            "linecolor": "white",
            "showbackground": true,
            "ticks": "",
            "zerolinecolor": "white"
           },
           "zaxis": {
            "backgroundcolor": "#E5ECF6",
            "gridcolor": "white",
            "gridwidth": 2,
            "linecolor": "white",
            "showbackground": true,
            "ticks": "",
            "zerolinecolor": "white"
           }
          },
          "shapedefaults": {
           "line": {
            "color": "#2a3f5f"
           }
          },
          "ternary": {
           "aaxis": {
            "gridcolor": "white",
            "linecolor": "white",
            "ticks": ""
           },
           "baxis": {
            "gridcolor": "white",
            "linecolor": "white",
            "ticks": ""
           },
           "bgcolor": "#E5ECF6",
           "caxis": {
            "gridcolor": "white",
            "linecolor": "white",
            "ticks": ""
           }
          },
          "title": {
           "x": 0.05
          },
          "xaxis": {
           "automargin": true,
           "gridcolor": "white",
           "linecolor": "white",
           "ticks": "",
           "title": {
            "standoff": 15
           },
           "zerolinecolor": "white",
           "zerolinewidth": 2
          },
          "yaxis": {
           "automargin": true,
           "gridcolor": "white",
           "linecolor": "white",
           "ticks": "",
           "title": {
            "standoff": 15
           },
           "zerolinecolor": "white",
           "zerolinewidth": 2
          }
         }
        },
        "title": {
         "text": "Option Volume 2018 (Expiration in Orange)",
         "x": 0.5,
         "xanchor": "center",
         "y": 0.9,
         "yanchor": "top"
        },
        "xaxis": {
         "tickangle": 45,
         "ticktext": [
          20180102,
          20180118,
          20180205,
          20180221,
          20180309,
          20180327,
          20180413,
          20180501,
          20180517,
          20180604,
          20180620,
          20180706,
          20180724,
          20180809,
          20180827,
          20180912,
          20180928,
          20181016,
          20181101,
          20181119,
          20181205,
          20181221
         ],
         "tickvals": [
          20180102,
          20180118,
          20180205,
          20180221,
          20180309,
          20180327,
          20180413,
          20180501,
          20180517,
          20180604,
          20180620,
          20180706,
          20180724,
          20180809,
          20180827,
          20180912,
          20180928,
          20181016,
          20181101,
          20181119,
          20181205,
          20181221
         ],
         "type": "category"
        },
        "yaxis": {
         "title": {
          "text": "Total Options Volume Per Day"
         }
        },
        "yaxis2": {
         "overlaying": "y",
         "side": "right",
         "title": {
          "text": "y alt"
         }
        }
       }
      },
      "text/html": [
       "<div>\n",
       "        \n",
       "        \n",
       "            <div id=\"12144452-c9fa-4992-857b-864502e21c7d\" class=\"plotly-graph-div\" style=\"height:525px; width:100%;\"></div>\n",
       "            <script type=\"text/javascript\">\n",
       "                require([\"plotly\"], function(Plotly) {\n",
       "                    window.PLOTLYENV=window.PLOTLYENV || {};\n",
       "                    \n",
       "                if (document.getElementById(\"12144452-c9fa-4992-857b-864502e21c7d\")) {\n",
       "                    Plotly.newPlot(\n",
       "                        '12144452-c9fa-4992-857b-864502e21c7d',\n",
       "                        [{\"name\": \"vol_sum\", \"type\": \"scatter\", \"x\": [20180102, 20180103, 20180104, 20180105, 20180108, 20180109, 20180110, 20180111, 20180112, 20180115, 20180116, 20180117, 20180118, 20180119, 20180122, 20180123, 20180124, 20180125, 20180126, 20180129, 20180130, 20180131, 20180201, 20180202, 20180205, 20180206, 20180207, 20180208, 20180209, 20180212, 20180213, 20180214, 20180215, 20180216, 20180219, 20180220, 20180221, 20180222, 20180223, 20180226, 20180227, 20180228, 20180301, 20180302, 20180305, 20180306, 20180307, 20180308, 20180309, 20180312, 20180313, 20180314, 20180315, 20180316, 20180319, 20180320, 20180321, 20180322, 20180323, 20180326, 20180327, 20180328, 20180329, 20180402, 20180403, 20180404, 20180405, 20180406, 20180409, 20180410, 20180411, 20180412, 20180413, 20180416, 20180417, 20180418, 20180419, 20180420, 20180423, 20180424, 20180425, 20180426, 20180427, 20180430, 20180501, 20180502, 20180503, 20180504, 20180507, 20180508, 20180509, 20180510, 20180511, 20180514, 20180515, 20180516, 20180517, 20180518, 20180521, 20180522, 20180523, 20180524, 20180525, 20180528, 20180529, 20180530, 20180531, 20180601, 20180604, 20180605, 20180606, 20180607, 20180608, 20180611, 20180612, 20180613, 20180614, 20180615, 20180618, 20180619, 20180620, 20180621, 20180622, 20180625, 20180626, 20180627, 20180628, 20180629, 20180702, 20180703, 20180704, 20180705, 20180706, 20180709, 20180710, 20180711, 20180712, 20180713, 20180716, 20180717, 20180718, 20180719, 20180720, 20180723, 20180724, 20180725, 20180726, 20180727, 20180730, 20180731, 20180801, 20180802, 20180803, 20180806, 20180807, 20180808, 20180809, 20180810, 20180813, 20180814, 20180815, 20180816, 20180817, 20180820, 20180821, 20180822, 20180823, 20180824, 20180827, 20180828, 20180829, 20180830, 20180831, 20180903, 20180904, 20180905, 20180906, 20180907, 20180910, 20180911, 20180912, 20180913, 20180914, 20180917, 20180918, 20180919, 20180920, 20180921, 20180924, 20180925, 20180926, 20180927, 20180928, 20181001, 20181002, 20181003, 20181004, 20181005, 20181008, 20181009, 20181010, 20181011, 20181012, 20181015, 20181016, 20181017, 20181018, 20181019, 20181022, 20181023, 20181024, 20181025, 20181026, 20181029, 20181030, 20181031, 20181101, 20181102, 20181105, 20181106, 20181107, 20181108, 20181109, 20181112, 20181113, 20181114, 20181115, 20181116, 20181119, 20181120, 20181121, 20181122, 20181123, 20181126, 20181127, 20181128, 20181129, 20181130, 20181203, 20181204, 20181205, 20181206, 20181207, 20181210, 20181211, 20181212, 20181213, 20181214, 20181217, 20181218, 20181219, 20181220, 20181221, 20181224, 20181225, 20181226, 20181227, 20181228, 20181231], \"y\": [113933, 94881, 191861, 161130, 161391, 117902, 298643, 236463, 291457, 146415, 174060, 207731, 142231, 134062, 116093, 141388, 168133, 237964, 244587, 120900, 130296, 244295, 157710, 127858, 195825, 227662, 314678, 328211, 321686, 469066, 256676, 233284, 207446, 152617, 81939, 104987, 102137, 94364, 149889, 174463, 135139, 142380, 209406, 230928, 119387, 122547, 114727, 159474, 170275, 154039, 122452, 173999, 197217, 151791, 152223, 75074, 153301, 260064, 137465, 218496, 141258, 178116, 176034, 104445, 148290, 128666, 198590, 108572, 147731, 125842, 228999, 328162, 190718, 253474, 222742, 108772, 214121, 251882, 119861, 116722, 173552, 153942, 135511, 117480, 183054, 154822, 124065, 131937, 166982, 265745, 341612, 265447, 176332, 125673, 132010, 191735, 150450, 139588, 150758, 129635, 160159, 129703, 127309, 230931, 263464, 253660, 144865, 156246, 105177, 142283, 128675, 141404, 160064, 96985, 125000, 121565, 149325, 128519, 168657, 98932, 115916, 119601, 133147, 300821, 113135, 233183, 301433, 175718, 191676, 126490, 153693, 206663, 178392, 136146, 96278, 107359, 250348, 233383, 153780, 275844, 136784, 121771, 136509, 106426, 114226, 89857, 117616, 116735, 87127, 98304, 85511, 116663, 131026, 75228, 88222, 102364, 203213, 113916, 131206, 179934, 157831, 284988, 103795, 106624, 70542, 72382, 153910, 108561, 140822, 66429, 76234, 125954, 126377, 97661, 139932, 201392, 146068, 153478, 100408, 78800, 215033, 260186, 192719, 178373, 83260, 159427, 130732, 140617, 148811, 247587, 177841, 188619, 127684, 206943, 321254, 185793, 271143, 217842, 161818, 134732, 110378, 201378, 300004, 160754, 128658, 116051, 173856, 179588, 99425, 98264, 253687, 180359, 103643, 123037, 116148, 172470, 148985, 289266, 236145, 177455, 237182, 254943, 199283, 327585, 238074, 693975, 397710, 251762, 178553, 167938, 334528, 125429, 229976, 304489, 197394, 261542, 243773, 276726, 254137, 169258, 231297, 215040, 225339, 274352, 152272, 150648, 200917, 211108, 99684, 89285, 222459, 171283, 170921, 137314, 47751, 85079, 101652, 103805, 82564], \"yaxis\": \"y\"}],\n",
       "                        {\"margin\": {\"b\": 100}, \"shapes\": [{\"fillcolor\": \"LightSalmon\", \"layer\": \"below\", \"line\": {\"width\": 0}, \"opacity\": 0.5, \"type\": \"rect\", \"x0\": 20180116, \"x1\": 20180118, \"xref\": \"x\", \"y0\": 0, \"y1\": 1, \"yref\": \"paper\"}, {\"fillcolor\": \"LightSalmon\", \"layer\": \"below\", \"line\": {\"width\": 0}, \"opacity\": 0.5, \"type\": \"rect\", \"x0\": 20180213, \"x1\": 20180215, \"xref\": \"x\", \"y0\": 0, \"y1\": 1, \"yref\": \"paper\"}, {\"fillcolor\": \"LightSalmon\", \"layer\": \"below\", \"line\": {\"width\": 0}, \"opacity\": 0.5, \"type\": \"rect\", \"x0\": 20180314, \"x1\": 20180316, \"xref\": \"x\", \"y0\": 0, \"y1\": 1, \"yref\": \"paper\"}, {\"fillcolor\": \"LightSalmon\", \"layer\": \"below\", \"line\": {\"width\": 0}, \"opacity\": 0.5, \"type\": \"rect\", \"x0\": 20180416, \"x1\": 20180418, \"xref\": \"x\", \"y0\": 0, \"y1\": 1, \"yref\": \"paper\"}, {\"fillcolor\": \"LightSalmon\", \"layer\": \"below\", \"line\": {\"width\": 0}, \"opacity\": 0.5, \"type\": \"rect\", \"x0\": 20180516, \"x1\": 20180518, \"xref\": \"x\", \"y0\": 0, \"y1\": 1, \"yref\": \"paper\"}, {\"fillcolor\": \"LightSalmon\", \"layer\": \"below\", \"line\": {\"width\": 0}, \"opacity\": 0.5, \"type\": \"rect\", \"x0\": 20180614, \"x1\": 20180618, \"xref\": \"x\", \"y0\": 0, \"y1\": 1, \"yref\": \"paper\"}, {\"fillcolor\": \"LightSalmon\", \"layer\": \"below\", \"line\": {\"width\": 0}, \"opacity\": 0.5, \"type\": \"rect\", \"x0\": 20180716, \"x1\": 20180718, \"xref\": \"x\", \"y0\": 0, \"y1\": 1, \"yref\": \"paper\"}, {\"fillcolor\": \"LightSalmon\", \"layer\": \"below\", \"line\": {\"width\": 0}, \"opacity\": 0.5, \"type\": \"rect\", \"x0\": 20180815, \"x1\": 20180817, \"xref\": \"x\", \"y0\": 0, \"y1\": 1, \"yref\": \"paper\"}, {\"fillcolor\": \"LightSalmon\", \"layer\": \"below\", \"line\": {\"width\": 0}, \"opacity\": 0.5, \"type\": \"rect\", \"x0\": 20180914, \"x1\": 20180918, \"xref\": \"x\", \"y0\": 0, \"y1\": 1, \"yref\": \"paper\"}, {\"fillcolor\": \"LightSalmon\", \"layer\": \"below\", \"line\": {\"width\": 0}, \"opacity\": 0.5, \"type\": \"rect\", \"x0\": 20181016, \"x1\": 20181018, \"xref\": \"x\", \"y0\": 0, \"y1\": 1, \"yref\": \"paper\"}, {\"fillcolor\": \"LightSalmon\", \"layer\": \"below\", \"line\": {\"width\": 0}, \"opacity\": 0.5, \"type\": \"rect\", \"x0\": 20181113, \"x1\": 20181115, \"xref\": \"x\", \"y0\": 0, \"y1\": 1, \"yref\": \"paper\"}, {\"fillcolor\": \"LightSalmon\", \"layer\": \"below\", \"line\": {\"width\": 0}, \"opacity\": 0.5, \"type\": \"rect\", \"x0\": 20181213, \"x1\": 20181217, \"xref\": \"x\", \"y0\": 0, \"y1\": 1, \"yref\": \"paper\"}], \"template\": {\"data\": {\"bar\": [{\"error_x\": {\"color\": \"#2a3f5f\"}, \"error_y\": {\"color\": \"#2a3f5f\"}, \"marker\": {\"line\": {\"color\": \"#E5ECF6\", \"width\": 0.5}}, \"type\": \"bar\"}], \"barpolar\": [{\"marker\": {\"line\": {\"color\": \"#E5ECF6\", \"width\": 0.5}}, \"type\": \"barpolar\"}], \"carpet\": [{\"aaxis\": {\"endlinecolor\": \"#2a3f5f\", \"gridcolor\": \"white\", \"linecolor\": \"white\", \"minorgridcolor\": \"white\", \"startlinecolor\": \"#2a3f5f\"}, \"baxis\": {\"endlinecolor\": \"#2a3f5f\", \"gridcolor\": \"white\", \"linecolor\": \"white\", \"minorgridcolor\": \"white\", \"startlinecolor\": \"#2a3f5f\"}, \"type\": \"carpet\"}], \"choropleth\": [{\"colorbar\": {\"outlinewidth\": 0, \"ticks\": \"\"}, \"type\": \"choropleth\"}], \"contour\": [{\"colorbar\": {\"outlinewidth\": 0, \"ticks\": \"\"}, \"colorscale\": [[0.0, \"#0d0887\"], [0.1111111111111111, \"#46039f\"], [0.2222222222222222, \"#7201a8\"], [0.3333333333333333, \"#9c179e\"], [0.4444444444444444, \"#bd3786\"], [0.5555555555555556, \"#d8576b\"], [0.6666666666666666, \"#ed7953\"], [0.7777777777777778, \"#fb9f3a\"], [0.8888888888888888, \"#fdca26\"], [1.0, \"#f0f921\"]], \"type\": \"contour\"}], \"contourcarpet\": [{\"colorbar\": {\"outlinewidth\": 0, \"ticks\": \"\"}, \"type\": \"contourcarpet\"}], \"heatmap\": [{\"colorbar\": {\"outlinewidth\": 0, \"ticks\": \"\"}, \"colorscale\": [[0.0, \"#0d0887\"], [0.1111111111111111, \"#46039f\"], [0.2222222222222222, \"#7201a8\"], [0.3333333333333333, \"#9c179e\"], [0.4444444444444444, \"#bd3786\"], [0.5555555555555556, \"#d8576b\"], [0.6666666666666666, \"#ed7953\"], [0.7777777777777778, \"#fb9f3a\"], [0.8888888888888888, \"#fdca26\"], [1.0, \"#f0f921\"]], \"type\": \"heatmap\"}], \"heatmapgl\": [{\"colorbar\": {\"outlinewidth\": 0, \"ticks\": \"\"}, \"colorscale\": [[0.0, \"#0d0887\"], [0.1111111111111111, \"#46039f\"], [0.2222222222222222, \"#7201a8\"], [0.3333333333333333, \"#9c179e\"], [0.4444444444444444, \"#bd3786\"], [0.5555555555555556, \"#d8576b\"], [0.6666666666666666, \"#ed7953\"], [0.7777777777777778, \"#fb9f3a\"], [0.8888888888888888, \"#fdca26\"], [1.0, \"#f0f921\"]], \"type\": \"heatmapgl\"}], \"histogram\": [{\"marker\": {\"colorbar\": {\"outlinewidth\": 0, \"ticks\": \"\"}}, \"type\": \"histogram\"}], \"histogram2d\": [{\"colorbar\": {\"outlinewidth\": 0, \"ticks\": \"\"}, \"colorscale\": [[0.0, \"#0d0887\"], [0.1111111111111111, \"#46039f\"], [0.2222222222222222, \"#7201a8\"], [0.3333333333333333, \"#9c179e\"], [0.4444444444444444, \"#bd3786\"], [0.5555555555555556, \"#d8576b\"], [0.6666666666666666, \"#ed7953\"], [0.7777777777777778, \"#fb9f3a\"], [0.8888888888888888, \"#fdca26\"], [1.0, \"#f0f921\"]], \"type\": \"histogram2d\"}], \"histogram2dcontour\": [{\"colorbar\": {\"outlinewidth\": 0, \"ticks\": \"\"}, \"colorscale\": [[0.0, \"#0d0887\"], [0.1111111111111111, \"#46039f\"], [0.2222222222222222, \"#7201a8\"], [0.3333333333333333, \"#9c179e\"], [0.4444444444444444, \"#bd3786\"], [0.5555555555555556, \"#d8576b\"], [0.6666666666666666, \"#ed7953\"], [0.7777777777777778, \"#fb9f3a\"], [0.8888888888888888, \"#fdca26\"], [1.0, \"#f0f921\"]], \"type\": \"histogram2dcontour\"}], \"mesh3d\": [{\"colorbar\": {\"outlinewidth\": 0, \"ticks\": \"\"}, \"type\": \"mesh3d\"}], \"parcoords\": [{\"line\": {\"colorbar\": {\"outlinewidth\": 0, \"ticks\": \"\"}}, \"type\": \"parcoords\"}], \"pie\": [{\"automargin\": true, \"type\": \"pie\"}], \"scatter\": [{\"marker\": {\"colorbar\": {\"outlinewidth\": 0, \"ticks\": \"\"}}, \"type\": \"scatter\"}], \"scatter3d\": [{\"line\": {\"colorbar\": {\"outlinewidth\": 0, \"ticks\": \"\"}}, \"marker\": {\"colorbar\": {\"outlinewidth\": 0, \"ticks\": \"\"}}, \"type\": \"scatter3d\"}], \"scattercarpet\": [{\"marker\": {\"colorbar\": {\"outlinewidth\": 0, \"ticks\": \"\"}}, \"type\": \"scattercarpet\"}], \"scattergeo\": [{\"marker\": {\"colorbar\": {\"outlinewidth\": 0, \"ticks\": \"\"}}, \"type\": \"scattergeo\"}], \"scattergl\": [{\"marker\": {\"colorbar\": {\"outlinewidth\": 0, \"ticks\": \"\"}}, \"type\": \"scattergl\"}], \"scattermapbox\": [{\"marker\": {\"colorbar\": {\"outlinewidth\": 0, \"ticks\": \"\"}}, \"type\": \"scattermapbox\"}], \"scatterpolar\": [{\"marker\": {\"colorbar\": {\"outlinewidth\": 0, \"ticks\": \"\"}}, \"type\": \"scatterpolar\"}], \"scatterpolargl\": [{\"marker\": {\"colorbar\": {\"outlinewidth\": 0, \"ticks\": \"\"}}, \"type\": \"scatterpolargl\"}], \"scatterternary\": [{\"marker\": {\"colorbar\": {\"outlinewidth\": 0, \"ticks\": \"\"}}, \"type\": \"scatterternary\"}], \"surface\": [{\"colorbar\": {\"outlinewidth\": 0, \"ticks\": \"\"}, \"colorscale\": [[0.0, \"#0d0887\"], [0.1111111111111111, \"#46039f\"], [0.2222222222222222, \"#7201a8\"], [0.3333333333333333, \"#9c179e\"], [0.4444444444444444, \"#bd3786\"], [0.5555555555555556, \"#d8576b\"], [0.6666666666666666, \"#ed7953\"], [0.7777777777777778, \"#fb9f3a\"], [0.8888888888888888, \"#fdca26\"], [1.0, \"#f0f921\"]], \"type\": \"surface\"}], \"table\": [{\"cells\": {\"fill\": {\"color\": \"#EBF0F8\"}, \"line\": {\"color\": \"white\"}}, \"header\": {\"fill\": {\"color\": \"#C8D4E3\"}, \"line\": {\"color\": \"white\"}}, \"type\": \"table\"}]}, \"layout\": {\"annotationdefaults\": {\"arrowcolor\": \"#2a3f5f\", \"arrowhead\": 0, \"arrowwidth\": 1}, \"coloraxis\": {\"colorbar\": {\"outlinewidth\": 0, \"ticks\": \"\"}}, \"colorscale\": {\"diverging\": [[0, \"#8e0152\"], [0.1, \"#c51b7d\"], [0.2, \"#de77ae\"], [0.3, \"#f1b6da\"], [0.4, \"#fde0ef\"], [0.5, \"#f7f7f7\"], [0.6, \"#e6f5d0\"], [0.7, \"#b8e186\"], [0.8, \"#7fbc41\"], [0.9, \"#4d9221\"], [1, \"#276419\"]], \"sequential\": [[0.0, \"#0d0887\"], [0.1111111111111111, \"#46039f\"], [0.2222222222222222, \"#7201a8\"], [0.3333333333333333, \"#9c179e\"], [0.4444444444444444, \"#bd3786\"], [0.5555555555555556, \"#d8576b\"], [0.6666666666666666, \"#ed7953\"], [0.7777777777777778, \"#fb9f3a\"], [0.8888888888888888, \"#fdca26\"], [1.0, \"#f0f921\"]], \"sequentialminus\": [[0.0, \"#0d0887\"], [0.1111111111111111, \"#46039f\"], [0.2222222222222222, \"#7201a8\"], [0.3333333333333333, \"#9c179e\"], [0.4444444444444444, \"#bd3786\"], [0.5555555555555556, \"#d8576b\"], [0.6666666666666666, \"#ed7953\"], [0.7777777777777778, \"#fb9f3a\"], [0.8888888888888888, \"#fdca26\"], [1.0, \"#f0f921\"]]}, \"colorway\": [\"#636efa\", \"#EF553B\", \"#00cc96\", \"#ab63fa\", \"#FFA15A\", \"#19d3f3\", \"#FF6692\", \"#B6E880\", \"#FF97FF\", \"#FECB52\"], \"font\": {\"color\": \"#2a3f5f\"}, \"geo\": {\"bgcolor\": \"white\", \"lakecolor\": \"white\", \"landcolor\": \"#E5ECF6\", \"showlakes\": true, \"showland\": true, \"subunitcolor\": \"white\"}, \"hoverlabel\": {\"align\": \"left\"}, \"hovermode\": \"closest\", \"mapbox\": {\"style\": \"light\"}, \"paper_bgcolor\": \"white\", \"plot_bgcolor\": \"#E5ECF6\", \"polar\": {\"angularaxis\": {\"gridcolor\": \"white\", \"linecolor\": \"white\", \"ticks\": \"\"}, \"bgcolor\": \"#E5ECF6\", \"radialaxis\": {\"gridcolor\": \"white\", \"linecolor\": \"white\", \"ticks\": \"\"}}, \"scene\": {\"xaxis\": {\"backgroundcolor\": \"#E5ECF6\", \"gridcolor\": \"white\", \"gridwidth\": 2, \"linecolor\": \"white\", \"showbackground\": true, \"ticks\": \"\", \"zerolinecolor\": \"white\"}, \"yaxis\": {\"backgroundcolor\": \"#E5ECF6\", \"gridcolor\": \"white\", \"gridwidth\": 2, \"linecolor\": \"white\", \"showbackground\": true, \"ticks\": \"\", \"zerolinecolor\": \"white\"}, \"zaxis\": {\"backgroundcolor\": \"#E5ECF6\", \"gridcolor\": \"white\", \"gridwidth\": 2, \"linecolor\": \"white\", \"showbackground\": true, \"ticks\": \"\", \"zerolinecolor\": \"white\"}}, \"shapedefaults\": {\"line\": {\"color\": \"#2a3f5f\"}}, \"ternary\": {\"aaxis\": {\"gridcolor\": \"white\", \"linecolor\": \"white\", \"ticks\": \"\"}, \"baxis\": {\"gridcolor\": \"white\", \"linecolor\": \"white\", \"ticks\": \"\"}, \"bgcolor\": \"#E5ECF6\", \"caxis\": {\"gridcolor\": \"white\", \"linecolor\": \"white\", \"ticks\": \"\"}}, \"title\": {\"x\": 0.05}, \"xaxis\": {\"automargin\": true, \"gridcolor\": \"white\", \"linecolor\": \"white\", \"ticks\": \"\", \"title\": {\"standoff\": 15}, \"zerolinecolor\": \"white\", \"zerolinewidth\": 2}, \"yaxis\": {\"automargin\": true, \"gridcolor\": \"white\", \"linecolor\": \"white\", \"ticks\": \"\", \"title\": {\"standoff\": 15}, \"zerolinecolor\": \"white\", \"zerolinewidth\": 2}}}, \"title\": {\"text\": \"Option Volume 2018 (Expiration in Orange)\", \"x\": 0.5, \"xanchor\": \"center\", \"y\": 0.9, \"yanchor\": \"top\"}, \"xaxis\": {\"tickangle\": 45, \"ticktext\": [20180102, 20180118, 20180205, 20180221, 20180309, 20180327, 20180413, 20180501, 20180517, 20180604, 20180620, 20180706, 20180724, 20180809, 20180827, 20180912, 20180928, 20181016, 20181101, 20181119, 20181205, 20181221], \"tickvals\": [20180102, 20180118, 20180205, 20180221, 20180309, 20180327, 20180413, 20180501, 20180517, 20180604, 20180620, 20180706, 20180724, 20180809, 20180827, 20180912, 20180928, 20181016, 20181101, 20181119, 20181205, 20181221], \"type\": \"category\"}, \"yaxis\": {\"title\": {\"text\": \"Total Options Volume Per Day\"}}, \"yaxis2\": {\"overlaying\": \"y\", \"side\": \"right\", \"title\": {\"text\": \"y alt\"}}},\n",
       "                        {\"responsive\": true}\n",
       "                    ).then(function(){\n",
       "                            \n",
       "var gd = document.getElementById('12144452-c9fa-4992-857b-864502e21c7d');\n",
       "var x = new MutationObserver(function (mutations, observer) {{\n",
       "        var display = window.getComputedStyle(gd).display;\n",
       "        if (!display || display === 'none') {{\n",
       "            console.log([gd, 'removed!']);\n",
       "            Plotly.purge(gd);\n",
       "            observer.disconnect();\n",
       "        }}\n",
       "}});\n",
       "\n",
       "// Listen for the removal of the full notebook cells\n",
       "var notebookContainer = gd.closest('#notebook-container');\n",
       "if (notebookContainer) {{\n",
       "    x.observe(notebookContainer, {childList: true});\n",
       "}}\n",
       "\n",
       "// Listen for the clearing of the current output cell\n",
       "var outputEl = gd.closest('.output');\n",
       "if (outputEl) {{\n",
       "    x.observe(outputEl, {childList: true});\n",
       "}}\n",
       "\n",
       "                        })\n",
       "                };\n",
       "                });\n",
       "            </script>\n",
       "        </div>"
      ]
     },
     "metadata": {},
     "output_type": "display_data"
    },
    {
     "data": {
      "application/vnd.plotly.v1+json": {
       "config": {
        "linkText": "Export to plot.ly",
        "plotlyServerURL": "https://plot.ly",
        "showLink": false
       },
       "data": [
        {
         "name": "vol_sum",
         "type": "scatter",
         "x": [
          20190102,
          20190103,
          20190104,
          20190107,
          20190108,
          20190109,
          20190110,
          20190111,
          20190114,
          20190115,
          20190116,
          20190117,
          20190118,
          20190121,
          20190122,
          20190123,
          20190124,
          20190125,
          20190128,
          20190129,
          20190130,
          20190131,
          20190201,
          20190204,
          20190205,
          20190206,
          20190207,
          20190208,
          20190211,
          20190212,
          20190213,
          20190214,
          20190215,
          20190218,
          20190219,
          20190220,
          20190221,
          20190222,
          20190225,
          20190226,
          20190227,
          20190228,
          20190301,
          20190304,
          20190305,
          20190306,
          20190307,
          20190308,
          20190311,
          20190312,
          20190313,
          20190314,
          20190315,
          20190318,
          20190319,
          20190320,
          20190321,
          20190322,
          20190325,
          20190326,
          20190327,
          20190328,
          20190329,
          20190401,
          20190402,
          20190403,
          20190404,
          20190405,
          20190408,
          20190409,
          20190410,
          20190411,
          20190412,
          20190415,
          20190416,
          20190417,
          20190418,
          20190422,
          20190423,
          20190424,
          20190425,
          20190426,
          20190429,
          20190430,
          20190501,
          20190502,
          20190503,
          20190506,
          20190507,
          20190508,
          20190509,
          20190510,
          20190513,
          20190514,
          20190515,
          20190516,
          20190517,
          20190520,
          20190521,
          20190522,
          20190523,
          20190524,
          20190527,
          20190528,
          20190529,
          20190530,
          20190531,
          20190603,
          20190604,
          20190605,
          20190606,
          20190607,
          20190610,
          20190611,
          20190612,
          20190613,
          20190614,
          20190617,
          20190618,
          20190619,
          20190620,
          20190621,
          20190624,
          20190625,
          20190626,
          20190627,
          20190628,
          20190701,
          20190702,
          20190703,
          20190704,
          20190705,
          20190708,
          20190709,
          20190710,
          20190711,
          20190712,
          20190715,
          20190716,
          20190717,
          20190718,
          20190719,
          20190722,
          20190723,
          20190724,
          20190725,
          20190726,
          20190729,
          20190730,
          20190731,
          20190801,
          20190802,
          20190805,
          20190806,
          20190807,
          20190808,
          20190809,
          20190812,
          20190813,
          20190814,
          20190815,
          20190816,
          20190819,
          20190820,
          20190821,
          20190822,
          20190823,
          20190826,
          20190827,
          20190828,
          20190829,
          20190830,
          20190902,
          20190903,
          20190904,
          20190905,
          20190906,
          20190909,
          20190910,
          20190911,
          20190912,
          20190913,
          20190916,
          20190917,
          20190918,
          20190919,
          20190920,
          20190923,
          20190924,
          20190925,
          20190926,
          20190927,
          20190930,
          20191001,
          20191002,
          20191003,
          20191004,
          20191007,
          20191008,
          20191009,
          20191010,
          20191011,
          20191014,
          20191015,
          20191016,
          20191017,
          20191018,
          20191021,
          20191022,
          20191023,
          20191024,
          20191025,
          20191028,
          20191029,
          20191030,
          20191031,
          20191101,
          20191104,
          20191105,
          20191106,
          20191107,
          20191108,
          20191111,
          20191112,
          20191113,
          20191114,
          20191115,
          20191118,
          20191119,
          20191120,
          20191121,
          20191122,
          20191125,
          20191126,
          20191127,
          20191128,
          20191129,
          20191202,
          20191203,
          20191204,
          20191205,
          20191206,
          20191209,
          20191210,
          20191211,
          20191212,
          20191213,
          20191216,
          20191217,
          20191218,
          20191219,
          20191220,
          20191223,
          20191224,
          20191225,
          20191226,
          20191227,
          20191230,
          20191231
         ],
         "y": [
          66718,
          136374,
          103790,
          146526,
          151017,
          166371,
          219405,
          127655,
          127203,
          102859,
          123126,
          94447,
          101095,
          88284,
          127385,
          119861,
          102161,
          89076,
          88708,
          77199,
          84077,
          123829,
          108017,
          118007,
          120398,
          135693,
          103804,
          154000,
          87535,
          108000,
          134254,
          139741,
          113749,
          86257,
          130768,
          117955,
          101247,
          66352,
          99342,
          129400,
          80251,
          102483,
          70878,
          140009,
          74872,
          79183,
          98654,
          80024,
          156943,
          86724,
          98529,
          148993,
          141067,
          84904,
          80229,
          96290,
          127815,
          90326,
          101177,
          58271,
          102855,
          87679,
          96714,
          111463,
          127067,
          181625,
          142967,
          129127,
          112077,
          210939,
          151531,
          147526,
          131419,
          98149,
          88181,
          91387,
          85700,
          68460,
          154278,
          146330,
          129555,
          144940,
          306061,
          112971,
          164283,
          107222,
          229378,
          170475,
          173068,
          160595,
          140922,
          138838,
          141727,
          243381,
          145112,
          164135,
          109947,
          123986,
          60197,
          55401,
          130237,
          333850,
          104455,
          160903,
          100317,
          199099,
          216236,
          410189,
          283444,
          209635,
          258020,
          210844,
          225714,
          124369,
          92606,
          245550,
          197285,
          169732,
          97968,
          147274,
          105547,
          219295,
          148458,
          96702,
          149810,
          193268,
          107732,
          112237,
          117704,
          177303,
          61798,
          107963,
          75272,
          83713,
          94250,
          163764,
          125104,
          102801,
          127026,
          230371,
          136995,
          205252,
          111331,
          77110,
          68804,
          109181,
          75859,
          63452,
          57112,
          101167,
          106005,
          260941,
          144010,
          149475,
          128245,
          349866,
          156379,
          171075,
          98319,
          220123,
          241944,
          96988,
          66782,
          81350,
          81135,
          79295,
          77278,
          132961,
          80122,
          85263,
          125860,
          88060,
          65550,
          91666,
          145833,
          141400,
          151813,
          118618,
          126459,
          162507,
          183639,
          177799,
          125825,
          481800,
          209704,
          171374,
          141524,
          132693,
          76909,
          132002,
          150597,
          112592,
          125872,
          99394,
          124796,
          188783,
          204452,
          101799,
          94374,
          88280,
          98681,
          93482,
          196467,
          86577,
          111683,
          134339,
          82314,
          84855,
          59092,
          72155,
          163948,
          101871,
          112380,
          97066,
          99604,
          101919,
          85557,
          101636,
          105758,
          91713,
          151819,
          138336,
          119735,
          97319,
          98989,
          106482,
          134895,
          100881,
          60492,
          115589,
          108902,
          95738,
          58766,
          49306,
          77345,
          44675,
          74021,
          109387,
          93124,
          92957,
          164304,
          158449,
          160543,
          89531,
          110686,
          120966,
          106564,
          163154,
          59742,
          85451,
          80115,
          56454,
          97218,
          49008,
          3198,
          48463,
          61773,
          77816,
          91139
         ],
         "yaxis": "y"
        }
       ],
       "layout": {
        "margin": {
         "b": 100
        },
        "shapes": [
         {
          "fillcolor": "LightSalmon",
          "layer": "below",
          "line": {
           "width": 0
          },
          "opacity": 0.5,
          "type": "rect",
          "x0": 20190115,
          "x1": 20190117,
          "xref": "x",
          "y0": 0,
          "y1": 1,
          "yref": "paper"
         },
         {
          "fillcolor": "LightSalmon",
          "layer": "below",
          "line": {
           "width": 0
          },
          "opacity": 0.5,
          "type": "rect",
          "x0": 20190213,
          "x1": 20190215,
          "xref": "x",
          "y0": 0,
          "y1": 1,
          "yref": "paper"
         },
         {
          "fillcolor": "LightSalmon",
          "layer": "below",
          "line": {
           "width": 0
          },
          "opacity": 0.5,
          "type": "rect",
          "x0": 20190314,
          "x1": 20190318,
          "xref": "x",
          "y0": 0,
          "y1": 1,
          "yref": "paper"
         },
         {
          "fillcolor": "LightSalmon",
          "layer": "below",
          "line": {
           "width": 0
          },
          "opacity": 0.5,
          "type": "rect",
          "x0": 20190415,
          "x1": 20190417,
          "xref": "x",
          "y0": 0,
          "y1": 1,
          "yref": "paper"
         },
         {
          "fillcolor": "LightSalmon",
          "layer": "below",
          "line": {
           "width": 0
          },
          "opacity": 0.5,
          "type": "rect",
          "x0": 20190515,
          "x1": 20190517,
          "xref": "x",
          "y0": 0,
          "y1": 1,
          "yref": "paper"
         },
         {
          "fillcolor": "LightSalmon",
          "layer": "below",
          "line": {
           "width": 0
          },
          "opacity": 0.5,
          "type": "rect",
          "x0": 20190614,
          "x1": 20190618,
          "xref": "x",
          "y0": 0,
          "y1": 1,
          "yref": "paper"
         },
         {
          "fillcolor": "LightSalmon",
          "layer": "below",
          "line": {
           "width": 0
          },
          "opacity": 0.5,
          "type": "rect",
          "x0": 20190716,
          "x1": 20190718,
          "xref": "x",
          "y0": 0,
          "y1": 1,
          "yref": "paper"
         },
         {
          "fillcolor": "LightSalmon",
          "layer": "below",
          "line": {
           "width": 0
          },
          "opacity": 0.5,
          "type": "rect",
          "x0": 20190814,
          "x1": 20190816,
          "xref": "x",
          "y0": 0,
          "y1": 1,
          "yref": "paper"
         },
         {
          "fillcolor": "LightSalmon",
          "layer": "below",
          "line": {
           "width": 0
          },
          "opacity": 0.5,
          "type": "rect",
          "x0": 20190916,
          "x1": 20190918,
          "xref": "x",
          "y0": 0,
          "y1": 1,
          "yref": "paper"
         },
         {
          "fillcolor": "LightSalmon",
          "layer": "below",
          "line": {
           "width": 0
          },
          "opacity": 0.5,
          "type": "rect",
          "x0": 20191016,
          "x1": 20191018,
          "xref": "x",
          "y0": 0,
          "y1": 1,
          "yref": "paper"
         },
         {
          "fillcolor": "LightSalmon",
          "layer": "below",
          "line": {
           "width": 0
          },
          "opacity": 0.5,
          "type": "rect",
          "x0": 20191114,
          "x1": 20191118,
          "xref": "x",
          "y0": 0,
          "y1": 1,
          "yref": "paper"
         },
         {
          "fillcolor": "LightSalmon",
          "layer": "below",
          "line": {
           "width": 0
          },
          "opacity": 0.5,
          "type": "rect",
          "x0": 20191213,
          "x1": 20191217,
          "xref": "x",
          "y0": 0,
          "y1": 1,
          "yref": "paper"
         }
        ],
        "template": {
         "data": {
          "bar": [
           {
            "error_x": {
             "color": "#2a3f5f"
            },
            "error_y": {
             "color": "#2a3f5f"
            },
            "marker": {
             "line": {
              "color": "#E5ECF6",
              "width": 0.5
             }
            },
            "type": "bar"
           }
          ],
          "barpolar": [
           {
            "marker": {
             "line": {
              "color": "#E5ECF6",
              "width": 0.5
             }
            },
            "type": "barpolar"
           }
          ],
          "carpet": [
           {
            "aaxis": {
             "endlinecolor": "#2a3f5f",
             "gridcolor": "white",
             "linecolor": "white",
             "minorgridcolor": "white",
             "startlinecolor": "#2a3f5f"
            },
            "baxis": {
             "endlinecolor": "#2a3f5f",
             "gridcolor": "white",
             "linecolor": "white",
             "minorgridcolor": "white",
             "startlinecolor": "#2a3f5f"
            },
            "type": "carpet"
           }
          ],
          "choropleth": [
           {
            "colorbar": {
             "outlinewidth": 0,
             "ticks": ""
            },
            "type": "choropleth"
           }
          ],
          "contour": [
           {
            "colorbar": {
             "outlinewidth": 0,
             "ticks": ""
            },
            "colorscale": [
             [
              0,
              "#0d0887"
             ],
             [
              0.1111111111111111,
              "#46039f"
             ],
             [
              0.2222222222222222,
              "#7201a8"
             ],
             [
              0.3333333333333333,
              "#9c179e"
             ],
             [
              0.4444444444444444,
              "#bd3786"
             ],
             [
              0.5555555555555556,
              "#d8576b"
             ],
             [
              0.6666666666666666,
              "#ed7953"
             ],
             [
              0.7777777777777778,
              "#fb9f3a"
             ],
             [
              0.8888888888888888,
              "#fdca26"
             ],
             [
              1,
              "#f0f921"
             ]
            ],
            "type": "contour"
           }
          ],
          "contourcarpet": [
           {
            "colorbar": {
             "outlinewidth": 0,
             "ticks": ""
            },
            "type": "contourcarpet"
           }
          ],
          "heatmap": [
           {
            "colorbar": {
             "outlinewidth": 0,
             "ticks": ""
            },
            "colorscale": [
             [
              0,
              "#0d0887"
             ],
             [
              0.1111111111111111,
              "#46039f"
             ],
             [
              0.2222222222222222,
              "#7201a8"
             ],
             [
              0.3333333333333333,
              "#9c179e"
             ],
             [
              0.4444444444444444,
              "#bd3786"
             ],
             [
              0.5555555555555556,
              "#d8576b"
             ],
             [
              0.6666666666666666,
              "#ed7953"
             ],
             [
              0.7777777777777778,
              "#fb9f3a"
             ],
             [
              0.8888888888888888,
              "#fdca26"
             ],
             [
              1,
              "#f0f921"
             ]
            ],
            "type": "heatmap"
           }
          ],
          "heatmapgl": [
           {
            "colorbar": {
             "outlinewidth": 0,
             "ticks": ""
            },
            "colorscale": [
             [
              0,
              "#0d0887"
             ],
             [
              0.1111111111111111,
              "#46039f"
             ],
             [
              0.2222222222222222,
              "#7201a8"
             ],
             [
              0.3333333333333333,
              "#9c179e"
             ],
             [
              0.4444444444444444,
              "#bd3786"
             ],
             [
              0.5555555555555556,
              "#d8576b"
             ],
             [
              0.6666666666666666,
              "#ed7953"
             ],
             [
              0.7777777777777778,
              "#fb9f3a"
             ],
             [
              0.8888888888888888,
              "#fdca26"
             ],
             [
              1,
              "#f0f921"
             ]
            ],
            "type": "heatmapgl"
           }
          ],
          "histogram": [
           {
            "marker": {
             "colorbar": {
              "outlinewidth": 0,
              "ticks": ""
             }
            },
            "type": "histogram"
           }
          ],
          "histogram2d": [
           {
            "colorbar": {
             "outlinewidth": 0,
             "ticks": ""
            },
            "colorscale": [
             [
              0,
              "#0d0887"
             ],
             [
              0.1111111111111111,
              "#46039f"
             ],
             [
              0.2222222222222222,
              "#7201a8"
             ],
             [
              0.3333333333333333,
              "#9c179e"
             ],
             [
              0.4444444444444444,
              "#bd3786"
             ],
             [
              0.5555555555555556,
              "#d8576b"
             ],
             [
              0.6666666666666666,
              "#ed7953"
             ],
             [
              0.7777777777777778,
              "#fb9f3a"
             ],
             [
              0.8888888888888888,
              "#fdca26"
             ],
             [
              1,
              "#f0f921"
             ]
            ],
            "type": "histogram2d"
           }
          ],
          "histogram2dcontour": [
           {
            "colorbar": {
             "outlinewidth": 0,
             "ticks": ""
            },
            "colorscale": [
             [
              0,
              "#0d0887"
             ],
             [
              0.1111111111111111,
              "#46039f"
             ],
             [
              0.2222222222222222,
              "#7201a8"
             ],
             [
              0.3333333333333333,
              "#9c179e"
             ],
             [
              0.4444444444444444,
              "#bd3786"
             ],
             [
              0.5555555555555556,
              "#d8576b"
             ],
             [
              0.6666666666666666,
              "#ed7953"
             ],
             [
              0.7777777777777778,
              "#fb9f3a"
             ],
             [
              0.8888888888888888,
              "#fdca26"
             ],
             [
              1,
              "#f0f921"
             ]
            ],
            "type": "histogram2dcontour"
           }
          ],
          "mesh3d": [
           {
            "colorbar": {
             "outlinewidth": 0,
             "ticks": ""
            },
            "type": "mesh3d"
           }
          ],
          "parcoords": [
           {
            "line": {
             "colorbar": {
              "outlinewidth": 0,
              "ticks": ""
             }
            },
            "type": "parcoords"
           }
          ],
          "pie": [
           {
            "automargin": true,
            "type": "pie"
           }
          ],
          "scatter": [
           {
            "marker": {
             "colorbar": {
              "outlinewidth": 0,
              "ticks": ""
             }
            },
            "type": "scatter"
           }
          ],
          "scatter3d": [
           {
            "line": {
             "colorbar": {
              "outlinewidth": 0,
              "ticks": ""
             }
            },
            "marker": {
             "colorbar": {
              "outlinewidth": 0,
              "ticks": ""
             }
            },
            "type": "scatter3d"
           }
          ],
          "scattercarpet": [
           {
            "marker": {
             "colorbar": {
              "outlinewidth": 0,
              "ticks": ""
             }
            },
            "type": "scattercarpet"
           }
          ],
          "scattergeo": [
           {
            "marker": {
             "colorbar": {
              "outlinewidth": 0,
              "ticks": ""
             }
            },
            "type": "scattergeo"
           }
          ],
          "scattergl": [
           {
            "marker": {
             "colorbar": {
              "outlinewidth": 0,
              "ticks": ""
             }
            },
            "type": "scattergl"
           }
          ],
          "scattermapbox": [
           {
            "marker": {
             "colorbar": {
              "outlinewidth": 0,
              "ticks": ""
             }
            },
            "type": "scattermapbox"
           }
          ],
          "scatterpolar": [
           {
            "marker": {
             "colorbar": {
              "outlinewidth": 0,
              "ticks": ""
             }
            },
            "type": "scatterpolar"
           }
          ],
          "scatterpolargl": [
           {
            "marker": {
             "colorbar": {
              "outlinewidth": 0,
              "ticks": ""
             }
            },
            "type": "scatterpolargl"
           }
          ],
          "scatterternary": [
           {
            "marker": {
             "colorbar": {
              "outlinewidth": 0,
              "ticks": ""
             }
            },
            "type": "scatterternary"
           }
          ],
          "surface": [
           {
            "colorbar": {
             "outlinewidth": 0,
             "ticks": ""
            },
            "colorscale": [
             [
              0,
              "#0d0887"
             ],
             [
              0.1111111111111111,
              "#46039f"
             ],
             [
              0.2222222222222222,
              "#7201a8"
             ],
             [
              0.3333333333333333,
              "#9c179e"
             ],
             [
              0.4444444444444444,
              "#bd3786"
             ],
             [
              0.5555555555555556,
              "#d8576b"
             ],
             [
              0.6666666666666666,
              "#ed7953"
             ],
             [
              0.7777777777777778,
              "#fb9f3a"
             ],
             [
              0.8888888888888888,
              "#fdca26"
             ],
             [
              1,
              "#f0f921"
             ]
            ],
            "type": "surface"
           }
          ],
          "table": [
           {
            "cells": {
             "fill": {
              "color": "#EBF0F8"
             },
             "line": {
              "color": "white"
             }
            },
            "header": {
             "fill": {
              "color": "#C8D4E3"
             },
             "line": {
              "color": "white"
             }
            },
            "type": "table"
           }
          ]
         },
         "layout": {
          "annotationdefaults": {
           "arrowcolor": "#2a3f5f",
           "arrowhead": 0,
           "arrowwidth": 1
          },
          "coloraxis": {
           "colorbar": {
            "outlinewidth": 0,
            "ticks": ""
           }
          },
          "colorscale": {
           "diverging": [
            [
             0,
             "#8e0152"
            ],
            [
             0.1,
             "#c51b7d"
            ],
            [
             0.2,
             "#de77ae"
            ],
            [
             0.3,
             "#f1b6da"
            ],
            [
             0.4,
             "#fde0ef"
            ],
            [
             0.5,
             "#f7f7f7"
            ],
            [
             0.6,
             "#e6f5d0"
            ],
            [
             0.7,
             "#b8e186"
            ],
            [
             0.8,
             "#7fbc41"
            ],
            [
             0.9,
             "#4d9221"
            ],
            [
             1,
             "#276419"
            ]
           ],
           "sequential": [
            [
             0,
             "#0d0887"
            ],
            [
             0.1111111111111111,
             "#46039f"
            ],
            [
             0.2222222222222222,
             "#7201a8"
            ],
            [
             0.3333333333333333,
             "#9c179e"
            ],
            [
             0.4444444444444444,
             "#bd3786"
            ],
            [
             0.5555555555555556,
             "#d8576b"
            ],
            [
             0.6666666666666666,
             "#ed7953"
            ],
            [
             0.7777777777777778,
             "#fb9f3a"
            ],
            [
             0.8888888888888888,
             "#fdca26"
            ],
            [
             1,
             "#f0f921"
            ]
           ],
           "sequentialminus": [
            [
             0,
             "#0d0887"
            ],
            [
             0.1111111111111111,
             "#46039f"
            ],
            [
             0.2222222222222222,
             "#7201a8"
            ],
            [
             0.3333333333333333,
             "#9c179e"
            ],
            [
             0.4444444444444444,
             "#bd3786"
            ],
            [
             0.5555555555555556,
             "#d8576b"
            ],
            [
             0.6666666666666666,
             "#ed7953"
            ],
            [
             0.7777777777777778,
             "#fb9f3a"
            ],
            [
             0.8888888888888888,
             "#fdca26"
            ],
            [
             1,
             "#f0f921"
            ]
           ]
          },
          "colorway": [
           "#636efa",
           "#EF553B",
           "#00cc96",
           "#ab63fa",
           "#FFA15A",
           "#19d3f3",
           "#FF6692",
           "#B6E880",
           "#FF97FF",
           "#FECB52"
          ],
          "font": {
           "color": "#2a3f5f"
          },
          "geo": {
           "bgcolor": "white",
           "lakecolor": "white",
           "landcolor": "#E5ECF6",
           "showlakes": true,
           "showland": true,
           "subunitcolor": "white"
          },
          "hoverlabel": {
           "align": "left"
          },
          "hovermode": "closest",
          "mapbox": {
           "style": "light"
          },
          "paper_bgcolor": "white",
          "plot_bgcolor": "#E5ECF6",
          "polar": {
           "angularaxis": {
            "gridcolor": "white",
            "linecolor": "white",
            "ticks": ""
           },
           "bgcolor": "#E5ECF6",
           "radialaxis": {
            "gridcolor": "white",
            "linecolor": "white",
            "ticks": ""
           }
          },
          "scene": {
           "xaxis": {
            "backgroundcolor": "#E5ECF6",
            "gridcolor": "white",
            "gridwidth": 2,
            "linecolor": "white",
            "showbackground": true,
            "ticks": "",
            "zerolinecolor": "white"
           },
           "yaxis": {
            "backgroundcolor": "#E5ECF6",
            "gridcolor": "white",
            "gridwidth": 2,
            "linecolor": "white",
            "showbackground": true,
            "ticks": "",
            "zerolinecolor": "white"
           },
           "zaxis": {
            "backgroundcolor": "#E5ECF6",
            "gridcolor": "white",
            "gridwidth": 2,
            "linecolor": "white",
            "showbackground": true,
            "ticks": "",
            "zerolinecolor": "white"
           }
          },
          "shapedefaults": {
           "line": {
            "color": "#2a3f5f"
           }
          },
          "ternary": {
           "aaxis": {
            "gridcolor": "white",
            "linecolor": "white",
            "ticks": ""
           },
           "baxis": {
            "gridcolor": "white",
            "linecolor": "white",
            "ticks": ""
           },
           "bgcolor": "#E5ECF6",
           "caxis": {
            "gridcolor": "white",
            "linecolor": "white",
            "ticks": ""
           }
          },
          "title": {
           "x": 0.05
          },
          "xaxis": {
           "automargin": true,
           "gridcolor": "white",
           "linecolor": "white",
           "ticks": "",
           "title": {
            "standoff": 15
           },
           "zerolinecolor": "white",
           "zerolinewidth": 2
          },
          "yaxis": {
           "automargin": true,
           "gridcolor": "white",
           "linecolor": "white",
           "ticks": "",
           "title": {
            "standoff": 15
           },
           "zerolinecolor": "white",
           "zerolinewidth": 2
          }
         }
        },
        "title": {
         "text": "Option Volume 2019 (Expiration in Orange)",
         "x": 0.5,
         "xanchor": "center",
         "y": 0.9,
         "yanchor": "top"
        },
        "xaxis": {
         "tickangle": 45,
         "ticktext": [
          20190102,
          20190118,
          20190205,
          20190221,
          20190311,
          20190327,
          20190412,
          20190501,
          20190517,
          20190604,
          20190620,
          20190708,
          20190724,
          20190809,
          20190827,
          20190912,
          20190930,
          20191016,
          20191101,
          20191119,
          20191205,
          20191223
         ],
         "tickvals": [
          20190102,
          20190118,
          20190205,
          20190221,
          20190311,
          20190327,
          20190412,
          20190501,
          20190517,
          20190604,
          20190620,
          20190708,
          20190724,
          20190809,
          20190827,
          20190912,
          20190930,
          20191016,
          20191101,
          20191119,
          20191205,
          20191223
         ],
         "type": "category"
        },
        "yaxis": {
         "title": {
          "text": "Total Options Volume Per Day"
         }
        },
        "yaxis2": {
         "overlaying": "y",
         "side": "right",
         "title": {
          "text": "y alt"
         }
        }
       }
      },
      "text/html": [
       "<div>\n",
       "        \n",
       "        \n",
       "            <div id=\"85269a52-cf5d-4d0d-9fc8-036939373cc7\" class=\"plotly-graph-div\" style=\"height:525px; width:100%;\"></div>\n",
       "            <script type=\"text/javascript\">\n",
       "                require([\"plotly\"], function(Plotly) {\n",
       "                    window.PLOTLYENV=window.PLOTLYENV || {};\n",
       "                    \n",
       "                if (document.getElementById(\"85269a52-cf5d-4d0d-9fc8-036939373cc7\")) {\n",
       "                    Plotly.newPlot(\n",
       "                        '85269a52-cf5d-4d0d-9fc8-036939373cc7',\n",
       "                        [{\"name\": \"vol_sum\", \"type\": \"scatter\", \"x\": [20190102, 20190103, 20190104, 20190107, 20190108, 20190109, 20190110, 20190111, 20190114, 20190115, 20190116, 20190117, 20190118, 20190121, 20190122, 20190123, 20190124, 20190125, 20190128, 20190129, 20190130, 20190131, 20190201, 20190204, 20190205, 20190206, 20190207, 20190208, 20190211, 20190212, 20190213, 20190214, 20190215, 20190218, 20190219, 20190220, 20190221, 20190222, 20190225, 20190226, 20190227, 20190228, 20190301, 20190304, 20190305, 20190306, 20190307, 20190308, 20190311, 20190312, 20190313, 20190314, 20190315, 20190318, 20190319, 20190320, 20190321, 20190322, 20190325, 20190326, 20190327, 20190328, 20190329, 20190401, 20190402, 20190403, 20190404, 20190405, 20190408, 20190409, 20190410, 20190411, 20190412, 20190415, 20190416, 20190417, 20190418, 20190422, 20190423, 20190424, 20190425, 20190426, 20190429, 20190430, 20190501, 20190502, 20190503, 20190506, 20190507, 20190508, 20190509, 20190510, 20190513, 20190514, 20190515, 20190516, 20190517, 20190520, 20190521, 20190522, 20190523, 20190524, 20190527, 20190528, 20190529, 20190530, 20190531, 20190603, 20190604, 20190605, 20190606, 20190607, 20190610, 20190611, 20190612, 20190613, 20190614, 20190617, 20190618, 20190619, 20190620, 20190621, 20190624, 20190625, 20190626, 20190627, 20190628, 20190701, 20190702, 20190703, 20190704, 20190705, 20190708, 20190709, 20190710, 20190711, 20190712, 20190715, 20190716, 20190717, 20190718, 20190719, 20190722, 20190723, 20190724, 20190725, 20190726, 20190729, 20190730, 20190731, 20190801, 20190802, 20190805, 20190806, 20190807, 20190808, 20190809, 20190812, 20190813, 20190814, 20190815, 20190816, 20190819, 20190820, 20190821, 20190822, 20190823, 20190826, 20190827, 20190828, 20190829, 20190830, 20190902, 20190903, 20190904, 20190905, 20190906, 20190909, 20190910, 20190911, 20190912, 20190913, 20190916, 20190917, 20190918, 20190919, 20190920, 20190923, 20190924, 20190925, 20190926, 20190927, 20190930, 20191001, 20191002, 20191003, 20191004, 20191007, 20191008, 20191009, 20191010, 20191011, 20191014, 20191015, 20191016, 20191017, 20191018, 20191021, 20191022, 20191023, 20191024, 20191025, 20191028, 20191029, 20191030, 20191031, 20191101, 20191104, 20191105, 20191106, 20191107, 20191108, 20191111, 20191112, 20191113, 20191114, 20191115, 20191118, 20191119, 20191120, 20191121, 20191122, 20191125, 20191126, 20191127, 20191128, 20191129, 20191202, 20191203, 20191204, 20191205, 20191206, 20191209, 20191210, 20191211, 20191212, 20191213, 20191216, 20191217, 20191218, 20191219, 20191220, 20191223, 20191224, 20191225, 20191226, 20191227, 20191230, 20191231], \"y\": [66718, 136374, 103790, 146526, 151017, 166371, 219405, 127655, 127203, 102859, 123126, 94447, 101095, 88284, 127385, 119861, 102161, 89076, 88708, 77199, 84077, 123829, 108017, 118007, 120398, 135693, 103804, 154000, 87535, 108000, 134254, 139741, 113749, 86257, 130768, 117955, 101247, 66352, 99342, 129400, 80251, 102483, 70878, 140009, 74872, 79183, 98654, 80024, 156943, 86724, 98529, 148993, 141067, 84904, 80229, 96290, 127815, 90326, 101177, 58271, 102855, 87679, 96714, 111463, 127067, 181625, 142967, 129127, 112077, 210939, 151531, 147526, 131419, 98149, 88181, 91387, 85700, 68460, 154278, 146330, 129555, 144940, 306061, 112971, 164283, 107222, 229378, 170475, 173068, 160595, 140922, 138838, 141727, 243381, 145112, 164135, 109947, 123986, 60197, 55401, 130237, 333850, 104455, 160903, 100317, 199099, 216236, 410189, 283444, 209635, 258020, 210844, 225714, 124369, 92606, 245550, 197285, 169732, 97968, 147274, 105547, 219295, 148458, 96702, 149810, 193268, 107732, 112237, 117704, 177303, 61798, 107963, 75272, 83713, 94250, 163764, 125104, 102801, 127026, 230371, 136995, 205252, 111331, 77110, 68804, 109181, 75859, 63452, 57112, 101167, 106005, 260941, 144010, 149475, 128245, 349866, 156379, 171075, 98319, 220123, 241944, 96988, 66782, 81350, 81135, 79295, 77278, 132961, 80122, 85263, 125860, 88060, 65550, 91666, 145833, 141400, 151813, 118618, 126459, 162507, 183639, 177799, 125825, 481800, 209704, 171374, 141524, 132693, 76909, 132002, 150597, 112592, 125872, 99394, 124796, 188783, 204452, 101799, 94374, 88280, 98681, 93482, 196467, 86577, 111683, 134339, 82314, 84855, 59092, 72155, 163948, 101871, 112380, 97066, 99604, 101919, 85557, 101636, 105758, 91713, 151819, 138336, 119735, 97319, 98989, 106482, 134895, 100881, 60492, 115589, 108902, 95738, 58766, 49306, 77345, 44675, 74021, 109387, 93124, 92957, 164304, 158449, 160543, 89531, 110686, 120966, 106564, 163154, 59742, 85451, 80115, 56454, 97218, 49008, 3198, 48463, 61773, 77816, 91139], \"yaxis\": \"y\"}],\n",
       "                        {\"margin\": {\"b\": 100}, \"shapes\": [{\"fillcolor\": \"LightSalmon\", \"layer\": \"below\", \"line\": {\"width\": 0}, \"opacity\": 0.5, \"type\": \"rect\", \"x0\": 20190115, \"x1\": 20190117, \"xref\": \"x\", \"y0\": 0, \"y1\": 1, \"yref\": \"paper\"}, {\"fillcolor\": \"LightSalmon\", \"layer\": \"below\", \"line\": {\"width\": 0}, \"opacity\": 0.5, \"type\": \"rect\", \"x0\": 20190213, \"x1\": 20190215, \"xref\": \"x\", \"y0\": 0, \"y1\": 1, \"yref\": \"paper\"}, {\"fillcolor\": \"LightSalmon\", \"layer\": \"below\", \"line\": {\"width\": 0}, \"opacity\": 0.5, \"type\": \"rect\", \"x0\": 20190314, \"x1\": 20190318, \"xref\": \"x\", \"y0\": 0, \"y1\": 1, \"yref\": \"paper\"}, {\"fillcolor\": \"LightSalmon\", \"layer\": \"below\", \"line\": {\"width\": 0}, \"opacity\": 0.5, \"type\": \"rect\", \"x0\": 20190415, \"x1\": 20190417, \"xref\": \"x\", \"y0\": 0, \"y1\": 1, \"yref\": \"paper\"}, {\"fillcolor\": \"LightSalmon\", \"layer\": \"below\", \"line\": {\"width\": 0}, \"opacity\": 0.5, \"type\": \"rect\", \"x0\": 20190515, \"x1\": 20190517, \"xref\": \"x\", \"y0\": 0, \"y1\": 1, \"yref\": \"paper\"}, {\"fillcolor\": \"LightSalmon\", \"layer\": \"below\", \"line\": {\"width\": 0}, \"opacity\": 0.5, \"type\": \"rect\", \"x0\": 20190614, \"x1\": 20190618, \"xref\": \"x\", \"y0\": 0, \"y1\": 1, \"yref\": \"paper\"}, {\"fillcolor\": \"LightSalmon\", \"layer\": \"below\", \"line\": {\"width\": 0}, \"opacity\": 0.5, \"type\": \"rect\", \"x0\": 20190716, \"x1\": 20190718, \"xref\": \"x\", \"y0\": 0, \"y1\": 1, \"yref\": \"paper\"}, {\"fillcolor\": \"LightSalmon\", \"layer\": \"below\", \"line\": {\"width\": 0}, \"opacity\": 0.5, \"type\": \"rect\", \"x0\": 20190814, \"x1\": 20190816, \"xref\": \"x\", \"y0\": 0, \"y1\": 1, \"yref\": \"paper\"}, {\"fillcolor\": \"LightSalmon\", \"layer\": \"below\", \"line\": {\"width\": 0}, \"opacity\": 0.5, \"type\": \"rect\", \"x0\": 20190916, \"x1\": 20190918, \"xref\": \"x\", \"y0\": 0, \"y1\": 1, \"yref\": \"paper\"}, {\"fillcolor\": \"LightSalmon\", \"layer\": \"below\", \"line\": {\"width\": 0}, \"opacity\": 0.5, \"type\": \"rect\", \"x0\": 20191016, \"x1\": 20191018, \"xref\": \"x\", \"y0\": 0, \"y1\": 1, \"yref\": \"paper\"}, {\"fillcolor\": \"LightSalmon\", \"layer\": \"below\", \"line\": {\"width\": 0}, \"opacity\": 0.5, \"type\": \"rect\", \"x0\": 20191114, \"x1\": 20191118, \"xref\": \"x\", \"y0\": 0, \"y1\": 1, \"yref\": \"paper\"}, {\"fillcolor\": \"LightSalmon\", \"layer\": \"below\", \"line\": {\"width\": 0}, \"opacity\": 0.5, \"type\": \"rect\", \"x0\": 20191213, \"x1\": 20191217, \"xref\": \"x\", \"y0\": 0, \"y1\": 1, \"yref\": \"paper\"}], \"template\": {\"data\": {\"bar\": [{\"error_x\": {\"color\": \"#2a3f5f\"}, \"error_y\": {\"color\": \"#2a3f5f\"}, \"marker\": {\"line\": {\"color\": \"#E5ECF6\", \"width\": 0.5}}, \"type\": \"bar\"}], \"barpolar\": [{\"marker\": {\"line\": {\"color\": \"#E5ECF6\", \"width\": 0.5}}, \"type\": \"barpolar\"}], \"carpet\": [{\"aaxis\": {\"endlinecolor\": \"#2a3f5f\", \"gridcolor\": \"white\", \"linecolor\": \"white\", \"minorgridcolor\": \"white\", \"startlinecolor\": \"#2a3f5f\"}, \"baxis\": {\"endlinecolor\": \"#2a3f5f\", \"gridcolor\": \"white\", \"linecolor\": \"white\", \"minorgridcolor\": \"white\", \"startlinecolor\": \"#2a3f5f\"}, \"type\": \"carpet\"}], \"choropleth\": [{\"colorbar\": {\"outlinewidth\": 0, \"ticks\": \"\"}, \"type\": \"choropleth\"}], \"contour\": [{\"colorbar\": {\"outlinewidth\": 0, \"ticks\": \"\"}, \"colorscale\": [[0.0, \"#0d0887\"], [0.1111111111111111, \"#46039f\"], [0.2222222222222222, \"#7201a8\"], [0.3333333333333333, \"#9c179e\"], [0.4444444444444444, \"#bd3786\"], [0.5555555555555556, \"#d8576b\"], [0.6666666666666666, \"#ed7953\"], [0.7777777777777778, \"#fb9f3a\"], [0.8888888888888888, \"#fdca26\"], [1.0, \"#f0f921\"]], \"type\": \"contour\"}], \"contourcarpet\": [{\"colorbar\": {\"outlinewidth\": 0, \"ticks\": \"\"}, \"type\": \"contourcarpet\"}], \"heatmap\": [{\"colorbar\": {\"outlinewidth\": 0, \"ticks\": \"\"}, \"colorscale\": [[0.0, \"#0d0887\"], [0.1111111111111111, \"#46039f\"], [0.2222222222222222, \"#7201a8\"], [0.3333333333333333, \"#9c179e\"], [0.4444444444444444, \"#bd3786\"], [0.5555555555555556, \"#d8576b\"], [0.6666666666666666, \"#ed7953\"], [0.7777777777777778, \"#fb9f3a\"], [0.8888888888888888, \"#fdca26\"], [1.0, \"#f0f921\"]], \"type\": \"heatmap\"}], \"heatmapgl\": [{\"colorbar\": {\"outlinewidth\": 0, \"ticks\": \"\"}, \"colorscale\": [[0.0, \"#0d0887\"], [0.1111111111111111, \"#46039f\"], [0.2222222222222222, \"#7201a8\"], [0.3333333333333333, \"#9c179e\"], [0.4444444444444444, \"#bd3786\"], [0.5555555555555556, \"#d8576b\"], [0.6666666666666666, \"#ed7953\"], [0.7777777777777778, \"#fb9f3a\"], [0.8888888888888888, \"#fdca26\"], [1.0, \"#f0f921\"]], \"type\": \"heatmapgl\"}], \"histogram\": [{\"marker\": {\"colorbar\": {\"outlinewidth\": 0, \"ticks\": \"\"}}, \"type\": \"histogram\"}], \"histogram2d\": [{\"colorbar\": {\"outlinewidth\": 0, \"ticks\": \"\"}, \"colorscale\": [[0.0, \"#0d0887\"], [0.1111111111111111, \"#46039f\"], [0.2222222222222222, \"#7201a8\"], [0.3333333333333333, \"#9c179e\"], [0.4444444444444444, \"#bd3786\"], [0.5555555555555556, \"#d8576b\"], [0.6666666666666666, \"#ed7953\"], [0.7777777777777778, \"#fb9f3a\"], [0.8888888888888888, \"#fdca26\"], [1.0, \"#f0f921\"]], \"type\": \"histogram2d\"}], \"histogram2dcontour\": [{\"colorbar\": {\"outlinewidth\": 0, \"ticks\": \"\"}, \"colorscale\": [[0.0, \"#0d0887\"], [0.1111111111111111, \"#46039f\"], [0.2222222222222222, \"#7201a8\"], [0.3333333333333333, \"#9c179e\"], [0.4444444444444444, \"#bd3786\"], [0.5555555555555556, \"#d8576b\"], [0.6666666666666666, \"#ed7953\"], [0.7777777777777778, \"#fb9f3a\"], [0.8888888888888888, \"#fdca26\"], [1.0, \"#f0f921\"]], \"type\": \"histogram2dcontour\"}], \"mesh3d\": [{\"colorbar\": {\"outlinewidth\": 0, \"ticks\": \"\"}, \"type\": \"mesh3d\"}], \"parcoords\": [{\"line\": {\"colorbar\": {\"outlinewidth\": 0, \"ticks\": \"\"}}, \"type\": \"parcoords\"}], \"pie\": [{\"automargin\": true, \"type\": \"pie\"}], \"scatter\": [{\"marker\": {\"colorbar\": {\"outlinewidth\": 0, \"ticks\": \"\"}}, \"type\": \"scatter\"}], \"scatter3d\": [{\"line\": {\"colorbar\": {\"outlinewidth\": 0, \"ticks\": \"\"}}, \"marker\": {\"colorbar\": {\"outlinewidth\": 0, \"ticks\": \"\"}}, \"type\": \"scatter3d\"}], \"scattercarpet\": [{\"marker\": {\"colorbar\": {\"outlinewidth\": 0, \"ticks\": \"\"}}, \"type\": \"scattercarpet\"}], \"scattergeo\": [{\"marker\": {\"colorbar\": {\"outlinewidth\": 0, \"ticks\": \"\"}}, \"type\": \"scattergeo\"}], \"scattergl\": [{\"marker\": {\"colorbar\": {\"outlinewidth\": 0, \"ticks\": \"\"}}, \"type\": \"scattergl\"}], \"scattermapbox\": [{\"marker\": {\"colorbar\": {\"outlinewidth\": 0, \"ticks\": \"\"}}, \"type\": \"scattermapbox\"}], \"scatterpolar\": [{\"marker\": {\"colorbar\": {\"outlinewidth\": 0, \"ticks\": \"\"}}, \"type\": \"scatterpolar\"}], \"scatterpolargl\": [{\"marker\": {\"colorbar\": {\"outlinewidth\": 0, \"ticks\": \"\"}}, \"type\": \"scatterpolargl\"}], \"scatterternary\": [{\"marker\": {\"colorbar\": {\"outlinewidth\": 0, \"ticks\": \"\"}}, \"type\": \"scatterternary\"}], \"surface\": [{\"colorbar\": {\"outlinewidth\": 0, \"ticks\": \"\"}, \"colorscale\": [[0.0, \"#0d0887\"], [0.1111111111111111, \"#46039f\"], [0.2222222222222222, \"#7201a8\"], [0.3333333333333333, \"#9c179e\"], [0.4444444444444444, \"#bd3786\"], [0.5555555555555556, \"#d8576b\"], [0.6666666666666666, \"#ed7953\"], [0.7777777777777778, \"#fb9f3a\"], [0.8888888888888888, \"#fdca26\"], [1.0, \"#f0f921\"]], \"type\": \"surface\"}], \"table\": [{\"cells\": {\"fill\": {\"color\": \"#EBF0F8\"}, \"line\": {\"color\": \"white\"}}, \"header\": {\"fill\": {\"color\": \"#C8D4E3\"}, \"line\": {\"color\": \"white\"}}, \"type\": \"table\"}]}, \"layout\": {\"annotationdefaults\": {\"arrowcolor\": \"#2a3f5f\", \"arrowhead\": 0, \"arrowwidth\": 1}, \"coloraxis\": {\"colorbar\": {\"outlinewidth\": 0, \"ticks\": \"\"}}, \"colorscale\": {\"diverging\": [[0, \"#8e0152\"], [0.1, \"#c51b7d\"], [0.2, \"#de77ae\"], [0.3, \"#f1b6da\"], [0.4, \"#fde0ef\"], [0.5, \"#f7f7f7\"], [0.6, \"#e6f5d0\"], [0.7, \"#b8e186\"], [0.8, \"#7fbc41\"], [0.9, \"#4d9221\"], [1, \"#276419\"]], \"sequential\": [[0.0, \"#0d0887\"], [0.1111111111111111, \"#46039f\"], [0.2222222222222222, \"#7201a8\"], [0.3333333333333333, \"#9c179e\"], [0.4444444444444444, \"#bd3786\"], [0.5555555555555556, \"#d8576b\"], [0.6666666666666666, \"#ed7953\"], [0.7777777777777778, \"#fb9f3a\"], [0.8888888888888888, \"#fdca26\"], [1.0, \"#f0f921\"]], \"sequentialminus\": [[0.0, \"#0d0887\"], [0.1111111111111111, \"#46039f\"], [0.2222222222222222, \"#7201a8\"], [0.3333333333333333, \"#9c179e\"], [0.4444444444444444, \"#bd3786\"], [0.5555555555555556, \"#d8576b\"], [0.6666666666666666, \"#ed7953\"], [0.7777777777777778, \"#fb9f3a\"], [0.8888888888888888, \"#fdca26\"], [1.0, \"#f0f921\"]]}, \"colorway\": [\"#636efa\", \"#EF553B\", \"#00cc96\", \"#ab63fa\", \"#FFA15A\", \"#19d3f3\", \"#FF6692\", \"#B6E880\", \"#FF97FF\", \"#FECB52\"], \"font\": {\"color\": \"#2a3f5f\"}, \"geo\": {\"bgcolor\": \"white\", \"lakecolor\": \"white\", \"landcolor\": \"#E5ECF6\", \"showlakes\": true, \"showland\": true, \"subunitcolor\": \"white\"}, \"hoverlabel\": {\"align\": \"left\"}, \"hovermode\": \"closest\", \"mapbox\": {\"style\": \"light\"}, \"paper_bgcolor\": \"white\", \"plot_bgcolor\": \"#E5ECF6\", \"polar\": {\"angularaxis\": {\"gridcolor\": \"white\", \"linecolor\": \"white\", \"ticks\": \"\"}, \"bgcolor\": \"#E5ECF6\", \"radialaxis\": {\"gridcolor\": \"white\", \"linecolor\": \"white\", \"ticks\": \"\"}}, \"scene\": {\"xaxis\": {\"backgroundcolor\": \"#E5ECF6\", \"gridcolor\": \"white\", \"gridwidth\": 2, \"linecolor\": \"white\", \"showbackground\": true, \"ticks\": \"\", \"zerolinecolor\": \"white\"}, \"yaxis\": {\"backgroundcolor\": \"#E5ECF6\", \"gridcolor\": \"white\", \"gridwidth\": 2, \"linecolor\": \"white\", \"showbackground\": true, \"ticks\": \"\", \"zerolinecolor\": \"white\"}, \"zaxis\": {\"backgroundcolor\": \"#E5ECF6\", \"gridcolor\": \"white\", \"gridwidth\": 2, \"linecolor\": \"white\", \"showbackground\": true, \"ticks\": \"\", \"zerolinecolor\": \"white\"}}, \"shapedefaults\": {\"line\": {\"color\": \"#2a3f5f\"}}, \"ternary\": {\"aaxis\": {\"gridcolor\": \"white\", \"linecolor\": \"white\", \"ticks\": \"\"}, \"baxis\": {\"gridcolor\": \"white\", \"linecolor\": \"white\", \"ticks\": \"\"}, \"bgcolor\": \"#E5ECF6\", \"caxis\": {\"gridcolor\": \"white\", \"linecolor\": \"white\", \"ticks\": \"\"}}, \"title\": {\"x\": 0.05}, \"xaxis\": {\"automargin\": true, \"gridcolor\": \"white\", \"linecolor\": \"white\", \"ticks\": \"\", \"title\": {\"standoff\": 15}, \"zerolinecolor\": \"white\", \"zerolinewidth\": 2}, \"yaxis\": {\"automargin\": true, \"gridcolor\": \"white\", \"linecolor\": \"white\", \"ticks\": \"\", \"title\": {\"standoff\": 15}, \"zerolinecolor\": \"white\", \"zerolinewidth\": 2}}}, \"title\": {\"text\": \"Option Volume 2019 (Expiration in Orange)\", \"x\": 0.5, \"xanchor\": \"center\", \"y\": 0.9, \"yanchor\": \"top\"}, \"xaxis\": {\"tickangle\": 45, \"ticktext\": [20190102, 20190118, 20190205, 20190221, 20190311, 20190327, 20190412, 20190501, 20190517, 20190604, 20190620, 20190708, 20190724, 20190809, 20190827, 20190912, 20190930, 20191016, 20191101, 20191119, 20191205, 20191223], \"tickvals\": [20190102, 20190118, 20190205, 20190221, 20190311, 20190327, 20190412, 20190501, 20190517, 20190604, 20190620, 20190708, 20190724, 20190809, 20190827, 20190912, 20190930, 20191016, 20191101, 20191119, 20191205, 20191223], \"type\": \"category\"}, \"yaxis\": {\"title\": {\"text\": \"Total Options Volume Per Day\"}}, \"yaxis2\": {\"overlaying\": \"y\", \"side\": \"right\", \"title\": {\"text\": \"y alt\"}}},\n",
       "                        {\"responsive\": true}\n",
       "                    ).then(function(){\n",
       "                            \n",
       "var gd = document.getElementById('85269a52-cf5d-4d0d-9fc8-036939373cc7');\n",
       "var x = new MutationObserver(function (mutations, observer) {{\n",
       "        var display = window.getComputedStyle(gd).display;\n",
       "        if (!display || display === 'none') {{\n",
       "            console.log([gd, 'removed!']);\n",
       "            Plotly.purge(gd);\n",
       "            observer.disconnect();\n",
       "        }}\n",
       "}});\n",
       "\n",
       "// Listen for the removal of the full notebook cells\n",
       "var notebookContainer = gd.closest('#notebook-container');\n",
       "if (notebookContainer) {{\n",
       "    x.observe(notebookContainer, {childList: true});\n",
       "}}\n",
       "\n",
       "// Listen for the clearing of the current output cell\n",
       "var outputEl = gd.closest('.output');\n",
       "if (outputEl) {{\n",
       "    x.observe(outputEl, {childList: true});\n",
       "}}\n",
       "\n",
       "                        })\n",
       "                };\n",
       "                });\n",
       "            </script>\n",
       "        </div>"
      ]
     },
     "metadata": {},
     "output_type": "display_data"
    },
    {
     "data": {
      "application/vnd.plotly.v1+json": {
       "config": {
        "linkText": "Export to plot.ly",
        "plotlyServerURL": "https://plot.ly",
        "showLink": false
       },
       "data": [
        {
         "name": "vol_sum",
         "type": "scatter",
         "x": [
          20200102,
          20200103,
          20200106,
          20200107,
          20200108,
          20200109,
          20200110,
          20200113,
          20200114,
          20200115,
          20200116,
          20200117,
          20200120,
          20200121,
          20200122,
          20200123,
          20200124,
          20200127,
          20200128,
          20200129,
          20200130,
          20200131,
          20200203,
          20200204,
          20200205,
          20200206,
          20200207,
          20200210,
          20200211,
          20200212,
          20200213,
          20200214,
          20200217,
          20200218,
          20200219,
          20200220,
          20200221,
          20200224,
          20200225,
          20200226,
          20200227,
          20200228,
          20200302,
          20200303,
          20200304,
          20200305,
          20200306,
          20200309,
          20200310,
          20200311,
          20200312,
          20200313,
          20200316,
          20200317,
          20200318,
          20200319,
          20200320,
          20200323,
          20200324,
          20200325,
          20200326,
          20200327,
          20200330,
          20200331,
          20200401,
          20200402,
          20200403,
          20200406,
          20200407,
          20200408,
          20200409,
          20200413,
          20200414,
          20200415,
          20200416,
          20200417,
          20200420,
          20200421,
          20200422,
          20200423,
          20200424,
          20200427,
          20200428,
          20200429,
          20200430,
          20200501,
          20200504,
          20200505,
          20200506,
          20200507,
          20200508,
          20200511,
          20200512,
          20200513,
          20200514,
          20200515
         ],
         "y": [
          90102,
          87711,
          279176,
          211694,
          159043,
          425308,
          220038,
          110921,
          128890,
          110389,
          104488,
          85931,
          48290,
          82161,
          78007,
          117479,
          229840,
          181677,
          254660,
          169319,
          145223,
          194086,
          179928,
          229381,
          193230,
          184936,
          138262,
          132273,
          137965,
          139537,
          149459,
          146794,
          57032,
          86990,
          91142,
          113880,
          111082,
          120900,
          153643,
          159727,
          202528,
          316346,
          291272,
          171423,
          195539,
          207871,
          181656,
          455350,
          506652,
          248493,
          205227,
          208756,
          208197,
          192019,
          139235,
          261215,
          213627,
          167565,
          105220,
          120236,
          142128,
          128379,
          129413,
          160905,
          106462,
          122081,
          177905,
          195191,
          135061,
          141789,
          163171,
          213115,
          153091,
          208380,
          229658,
          133116,
          180434,
          260747,
          214517,
          129419,
          115862,
          109305,
          82695,
          81069,
          87640,
          85384,
          125723,
          74583,
          146092,
          90518,
          123974,
          45323,
          71324,
          81424,
          70126,
          53503
         ],
         "yaxis": "y"
        }
       ],
       "layout": {
        "margin": {
         "b": 100
        },
        "shapes": [
         {
          "fillcolor": "LightSalmon",
          "layer": "below",
          "line": {
           "width": 0
          },
          "opacity": 0.5,
          "type": "rect",
          "x0": 20200114,
          "x1": 20200116,
          "xref": "x",
          "y0": 0,
          "y1": 1,
          "yref": "paper"
         }
        ],
        "template": {
         "data": {
          "bar": [
           {
            "error_x": {
             "color": "#2a3f5f"
            },
            "error_y": {
             "color": "#2a3f5f"
            },
            "marker": {
             "line": {
              "color": "#E5ECF6",
              "width": 0.5
             }
            },
            "type": "bar"
           }
          ],
          "barpolar": [
           {
            "marker": {
             "line": {
              "color": "#E5ECF6",
              "width": 0.5
             }
            },
            "type": "barpolar"
           }
          ],
          "carpet": [
           {
            "aaxis": {
             "endlinecolor": "#2a3f5f",
             "gridcolor": "white",
             "linecolor": "white",
             "minorgridcolor": "white",
             "startlinecolor": "#2a3f5f"
            },
            "baxis": {
             "endlinecolor": "#2a3f5f",
             "gridcolor": "white",
             "linecolor": "white",
             "minorgridcolor": "white",
             "startlinecolor": "#2a3f5f"
            },
            "type": "carpet"
           }
          ],
          "choropleth": [
           {
            "colorbar": {
             "outlinewidth": 0,
             "ticks": ""
            },
            "type": "choropleth"
           }
          ],
          "contour": [
           {
            "colorbar": {
             "outlinewidth": 0,
             "ticks": ""
            },
            "colorscale": [
             [
              0,
              "#0d0887"
             ],
             [
              0.1111111111111111,
              "#46039f"
             ],
             [
              0.2222222222222222,
              "#7201a8"
             ],
             [
              0.3333333333333333,
              "#9c179e"
             ],
             [
              0.4444444444444444,
              "#bd3786"
             ],
             [
              0.5555555555555556,
              "#d8576b"
             ],
             [
              0.6666666666666666,
              "#ed7953"
             ],
             [
              0.7777777777777778,
              "#fb9f3a"
             ],
             [
              0.8888888888888888,
              "#fdca26"
             ],
             [
              1,
              "#f0f921"
             ]
            ],
            "type": "contour"
           }
          ],
          "contourcarpet": [
           {
            "colorbar": {
             "outlinewidth": 0,
             "ticks": ""
            },
            "type": "contourcarpet"
           }
          ],
          "heatmap": [
           {
            "colorbar": {
             "outlinewidth": 0,
             "ticks": ""
            },
            "colorscale": [
             [
              0,
              "#0d0887"
             ],
             [
              0.1111111111111111,
              "#46039f"
             ],
             [
              0.2222222222222222,
              "#7201a8"
             ],
             [
              0.3333333333333333,
              "#9c179e"
             ],
             [
              0.4444444444444444,
              "#bd3786"
             ],
             [
              0.5555555555555556,
              "#d8576b"
             ],
             [
              0.6666666666666666,
              "#ed7953"
             ],
             [
              0.7777777777777778,
              "#fb9f3a"
             ],
             [
              0.8888888888888888,
              "#fdca26"
             ],
             [
              1,
              "#f0f921"
             ]
            ],
            "type": "heatmap"
           }
          ],
          "heatmapgl": [
           {
            "colorbar": {
             "outlinewidth": 0,
             "ticks": ""
            },
            "colorscale": [
             [
              0,
              "#0d0887"
             ],
             [
              0.1111111111111111,
              "#46039f"
             ],
             [
              0.2222222222222222,
              "#7201a8"
             ],
             [
              0.3333333333333333,
              "#9c179e"
             ],
             [
              0.4444444444444444,
              "#bd3786"
             ],
             [
              0.5555555555555556,
              "#d8576b"
             ],
             [
              0.6666666666666666,
              "#ed7953"
             ],
             [
              0.7777777777777778,
              "#fb9f3a"
             ],
             [
              0.8888888888888888,
              "#fdca26"
             ],
             [
              1,
              "#f0f921"
             ]
            ],
            "type": "heatmapgl"
           }
          ],
          "histogram": [
           {
            "marker": {
             "colorbar": {
              "outlinewidth": 0,
              "ticks": ""
             }
            },
            "type": "histogram"
           }
          ],
          "histogram2d": [
           {
            "colorbar": {
             "outlinewidth": 0,
             "ticks": ""
            },
            "colorscale": [
             [
              0,
              "#0d0887"
             ],
             [
              0.1111111111111111,
              "#46039f"
             ],
             [
              0.2222222222222222,
              "#7201a8"
             ],
             [
              0.3333333333333333,
              "#9c179e"
             ],
             [
              0.4444444444444444,
              "#bd3786"
             ],
             [
              0.5555555555555556,
              "#d8576b"
             ],
             [
              0.6666666666666666,
              "#ed7953"
             ],
             [
              0.7777777777777778,
              "#fb9f3a"
             ],
             [
              0.8888888888888888,
              "#fdca26"
             ],
             [
              1,
              "#f0f921"
             ]
            ],
            "type": "histogram2d"
           }
          ],
          "histogram2dcontour": [
           {
            "colorbar": {
             "outlinewidth": 0,
             "ticks": ""
            },
            "colorscale": [
             [
              0,
              "#0d0887"
             ],
             [
              0.1111111111111111,
              "#46039f"
             ],
             [
              0.2222222222222222,
              "#7201a8"
             ],
             [
              0.3333333333333333,
              "#9c179e"
             ],
             [
              0.4444444444444444,
              "#bd3786"
             ],
             [
              0.5555555555555556,
              "#d8576b"
             ],
             [
              0.6666666666666666,
              "#ed7953"
             ],
             [
              0.7777777777777778,
              "#fb9f3a"
             ],
             [
              0.8888888888888888,
              "#fdca26"
             ],
             [
              1,
              "#f0f921"
             ]
            ],
            "type": "histogram2dcontour"
           }
          ],
          "mesh3d": [
           {
            "colorbar": {
             "outlinewidth": 0,
             "ticks": ""
            },
            "type": "mesh3d"
           }
          ],
          "parcoords": [
           {
            "line": {
             "colorbar": {
              "outlinewidth": 0,
              "ticks": ""
             }
            },
            "type": "parcoords"
           }
          ],
          "pie": [
           {
            "automargin": true,
            "type": "pie"
           }
          ],
          "scatter": [
           {
            "marker": {
             "colorbar": {
              "outlinewidth": 0,
              "ticks": ""
             }
            },
            "type": "scatter"
           }
          ],
          "scatter3d": [
           {
            "line": {
             "colorbar": {
              "outlinewidth": 0,
              "ticks": ""
             }
            },
            "marker": {
             "colorbar": {
              "outlinewidth": 0,
              "ticks": ""
             }
            },
            "type": "scatter3d"
           }
          ],
          "scattercarpet": [
           {
            "marker": {
             "colorbar": {
              "outlinewidth": 0,
              "ticks": ""
             }
            },
            "type": "scattercarpet"
           }
          ],
          "scattergeo": [
           {
            "marker": {
             "colorbar": {
              "outlinewidth": 0,
              "ticks": ""
             }
            },
            "type": "scattergeo"
           }
          ],
          "scattergl": [
           {
            "marker": {
             "colorbar": {
              "outlinewidth": 0,
              "ticks": ""
             }
            },
            "type": "scattergl"
           }
          ],
          "scattermapbox": [
           {
            "marker": {
             "colorbar": {
              "outlinewidth": 0,
              "ticks": ""
             }
            },
            "type": "scattermapbox"
           }
          ],
          "scatterpolar": [
           {
            "marker": {
             "colorbar": {
              "outlinewidth": 0,
              "ticks": ""
             }
            },
            "type": "scatterpolar"
           }
          ],
          "scatterpolargl": [
           {
            "marker": {
             "colorbar": {
              "outlinewidth": 0,
              "ticks": ""
             }
            },
            "type": "scatterpolargl"
           }
          ],
          "scatterternary": [
           {
            "marker": {
             "colorbar": {
              "outlinewidth": 0,
              "ticks": ""
             }
            },
            "type": "scatterternary"
           }
          ],
          "surface": [
           {
            "colorbar": {
             "outlinewidth": 0,
             "ticks": ""
            },
            "colorscale": [
             [
              0,
              "#0d0887"
             ],
             [
              0.1111111111111111,
              "#46039f"
             ],
             [
              0.2222222222222222,
              "#7201a8"
             ],
             [
              0.3333333333333333,
              "#9c179e"
             ],
             [
              0.4444444444444444,
              "#bd3786"
             ],
             [
              0.5555555555555556,
              "#d8576b"
             ],
             [
              0.6666666666666666,
              "#ed7953"
             ],
             [
              0.7777777777777778,
              "#fb9f3a"
             ],
             [
              0.8888888888888888,
              "#fdca26"
             ],
             [
              1,
              "#f0f921"
             ]
            ],
            "type": "surface"
           }
          ],
          "table": [
           {
            "cells": {
             "fill": {
              "color": "#EBF0F8"
             },
             "line": {
              "color": "white"
             }
            },
            "header": {
             "fill": {
              "color": "#C8D4E3"
             },
             "line": {
              "color": "white"
             }
            },
            "type": "table"
           }
          ]
         },
         "layout": {
          "annotationdefaults": {
           "arrowcolor": "#2a3f5f",
           "arrowhead": 0,
           "arrowwidth": 1
          },
          "coloraxis": {
           "colorbar": {
            "outlinewidth": 0,
            "ticks": ""
           }
          },
          "colorscale": {
           "diverging": [
            [
             0,
             "#8e0152"
            ],
            [
             0.1,
             "#c51b7d"
            ],
            [
             0.2,
             "#de77ae"
            ],
            [
             0.3,
             "#f1b6da"
            ],
            [
             0.4,
             "#fde0ef"
            ],
            [
             0.5,
             "#f7f7f7"
            ],
            [
             0.6,
             "#e6f5d0"
            ],
            [
             0.7,
             "#b8e186"
            ],
            [
             0.8,
             "#7fbc41"
            ],
            [
             0.9,
             "#4d9221"
            ],
            [
             1,
             "#276419"
            ]
           ],
           "sequential": [
            [
             0,
             "#0d0887"
            ],
            [
             0.1111111111111111,
             "#46039f"
            ],
            [
             0.2222222222222222,
             "#7201a8"
            ],
            [
             0.3333333333333333,
             "#9c179e"
            ],
            [
             0.4444444444444444,
             "#bd3786"
            ],
            [
             0.5555555555555556,
             "#d8576b"
            ],
            [
             0.6666666666666666,
             "#ed7953"
            ],
            [
             0.7777777777777778,
             "#fb9f3a"
            ],
            [
             0.8888888888888888,
             "#fdca26"
            ],
            [
             1,
             "#f0f921"
            ]
           ],
           "sequentialminus": [
            [
             0,
             "#0d0887"
            ],
            [
             0.1111111111111111,
             "#46039f"
            ],
            [
             0.2222222222222222,
             "#7201a8"
            ],
            [
             0.3333333333333333,
             "#9c179e"
            ],
            [
             0.4444444444444444,
             "#bd3786"
            ],
            [
             0.5555555555555556,
             "#d8576b"
            ],
            [
             0.6666666666666666,
             "#ed7953"
            ],
            [
             0.7777777777777778,
             "#fb9f3a"
            ],
            [
             0.8888888888888888,
             "#fdca26"
            ],
            [
             1,
             "#f0f921"
            ]
           ]
          },
          "colorway": [
           "#636efa",
           "#EF553B",
           "#00cc96",
           "#ab63fa",
           "#FFA15A",
           "#19d3f3",
           "#FF6692",
           "#B6E880",
           "#FF97FF",
           "#FECB52"
          ],
          "font": {
           "color": "#2a3f5f"
          },
          "geo": {
           "bgcolor": "white",
           "lakecolor": "white",
           "landcolor": "#E5ECF6",
           "showlakes": true,
           "showland": true,
           "subunitcolor": "white"
          },
          "hoverlabel": {
           "align": "left"
          },
          "hovermode": "closest",
          "mapbox": {
           "style": "light"
          },
          "paper_bgcolor": "white",
          "plot_bgcolor": "#E5ECF6",
          "polar": {
           "angularaxis": {
            "gridcolor": "white",
            "linecolor": "white",
            "ticks": ""
           },
           "bgcolor": "#E5ECF6",
           "radialaxis": {
            "gridcolor": "white",
            "linecolor": "white",
            "ticks": ""
           }
          },
          "scene": {
           "xaxis": {
            "backgroundcolor": "#E5ECF6",
            "gridcolor": "white",
            "gridwidth": 2,
            "linecolor": "white",
            "showbackground": true,
            "ticks": "",
            "zerolinecolor": "white"
           },
           "yaxis": {
            "backgroundcolor": "#E5ECF6",
            "gridcolor": "white",
            "gridwidth": 2,
            "linecolor": "white",
            "showbackground": true,
            "ticks": "",
            "zerolinecolor": "white"
           },
           "zaxis": {
            "backgroundcolor": "#E5ECF6",
            "gridcolor": "white",
            "gridwidth": 2,
            "linecolor": "white",
            "showbackground": true,
            "ticks": "",
            "zerolinecolor": "white"
           }
          },
          "shapedefaults": {
           "line": {
            "color": "#2a3f5f"
           }
          },
          "ternary": {
           "aaxis": {
            "gridcolor": "white",
            "linecolor": "white",
            "ticks": ""
           },
           "baxis": {
            "gridcolor": "white",
            "linecolor": "white",
            "ticks": ""
           },
           "bgcolor": "#E5ECF6",
           "caxis": {
            "gridcolor": "white",
            "linecolor": "white",
            "ticks": ""
           }
          },
          "title": {
           "x": 0.05
          },
          "xaxis": {
           "automargin": true,
           "gridcolor": "white",
           "linecolor": "white",
           "ticks": "",
           "title": {
            "standoff": 15
           },
           "zerolinecolor": "white",
           "zerolinewidth": 2
          },
          "yaxis": {
           "automargin": true,
           "gridcolor": "white",
           "linecolor": "white",
           "ticks": "",
           "title": {
            "standoff": 15
           },
           "zerolinecolor": "white",
           "zerolinewidth": 2
          }
         }
        },
        "title": {
         "text": "Option Volume 2020 (Expiration in Orange)",
         "x": 0.5,
         "xanchor": "center",
         "y": 0.9,
         "yanchor": "top"
        },
        "xaxis": {
         "tickangle": 45,
         "ticktext": [
          20200102,
          20200108,
          20200114,
          20200120,
          20200124,
          20200130,
          20200205,
          20200211,
          20200217,
          20200221,
          20200227,
          20200304,
          20200310,
          20200316,
          20200320,
          20200326,
          20200401,
          20200407,
          20200414,
          20200420,
          20200424,
          20200430,
          20200506,
          20200512
         ],
         "tickvals": [
          20200102,
          20200108,
          20200114,
          20200120,
          20200124,
          20200130,
          20200205,
          20200211,
          20200217,
          20200221,
          20200227,
          20200304,
          20200310,
          20200316,
          20200320,
          20200326,
          20200401,
          20200407,
          20200414,
          20200420,
          20200424,
          20200430,
          20200506,
          20200512
         ],
         "type": "category"
        },
        "yaxis": {
         "title": {
          "text": "Total Options Volume Per Day"
         }
        },
        "yaxis2": {
         "overlaying": "y",
         "side": "right",
         "title": {
          "text": "y alt"
         }
        }
       }
      },
      "text/html": [
       "<div>\n",
       "        \n",
       "        \n",
       "            <div id=\"4220ef9a-547e-42fc-8ead-d9a02e9769e4\" class=\"plotly-graph-div\" style=\"height:525px; width:100%;\"></div>\n",
       "            <script type=\"text/javascript\">\n",
       "                require([\"plotly\"], function(Plotly) {\n",
       "                    window.PLOTLYENV=window.PLOTLYENV || {};\n",
       "                    \n",
       "                if (document.getElementById(\"4220ef9a-547e-42fc-8ead-d9a02e9769e4\")) {\n",
       "                    Plotly.newPlot(\n",
       "                        '4220ef9a-547e-42fc-8ead-d9a02e9769e4',\n",
       "                        [{\"name\": \"vol_sum\", \"type\": \"scatter\", \"x\": [20200102, 20200103, 20200106, 20200107, 20200108, 20200109, 20200110, 20200113, 20200114, 20200115, 20200116, 20200117, 20200120, 20200121, 20200122, 20200123, 20200124, 20200127, 20200128, 20200129, 20200130, 20200131, 20200203, 20200204, 20200205, 20200206, 20200207, 20200210, 20200211, 20200212, 20200213, 20200214, 20200217, 20200218, 20200219, 20200220, 20200221, 20200224, 20200225, 20200226, 20200227, 20200228, 20200302, 20200303, 20200304, 20200305, 20200306, 20200309, 20200310, 20200311, 20200312, 20200313, 20200316, 20200317, 20200318, 20200319, 20200320, 20200323, 20200324, 20200325, 20200326, 20200327, 20200330, 20200331, 20200401, 20200402, 20200403, 20200406, 20200407, 20200408, 20200409, 20200413, 20200414, 20200415, 20200416, 20200417, 20200420, 20200421, 20200422, 20200423, 20200424, 20200427, 20200428, 20200429, 20200430, 20200501, 20200504, 20200505, 20200506, 20200507, 20200508, 20200511, 20200512, 20200513, 20200514, 20200515], \"y\": [90102, 87711, 279176, 211694, 159043, 425308, 220038, 110921, 128890, 110389, 104488, 85931, 48290, 82161, 78007, 117479, 229840, 181677, 254660, 169319, 145223, 194086, 179928, 229381, 193230, 184936, 138262, 132273, 137965, 139537, 149459, 146794, 57032, 86990, 91142, 113880, 111082, 120900, 153643, 159727, 202528, 316346, 291272, 171423, 195539, 207871, 181656, 455350, 506652, 248493, 205227, 208756, 208197, 192019, 139235, 261215, 213627, 167565, 105220, 120236, 142128, 128379, 129413, 160905, 106462, 122081, 177905, 195191, 135061, 141789, 163171, 213115, 153091, 208380, 229658, 133116, 180434, 260747, 214517, 129419, 115862, 109305, 82695, 81069, 87640, 85384, 125723, 74583, 146092, 90518, 123974, 45323, 71324, 81424, 70126, 53503], \"yaxis\": \"y\"}],\n",
       "                        {\"margin\": {\"b\": 100}, \"shapes\": [{\"fillcolor\": \"LightSalmon\", \"layer\": \"below\", \"line\": {\"width\": 0}, \"opacity\": 0.5, \"type\": \"rect\", \"x0\": 20200114, \"x1\": 20200116, \"xref\": \"x\", \"y0\": 0, \"y1\": 1, \"yref\": \"paper\"}], \"template\": {\"data\": {\"bar\": [{\"error_x\": {\"color\": \"#2a3f5f\"}, \"error_y\": {\"color\": \"#2a3f5f\"}, \"marker\": {\"line\": {\"color\": \"#E5ECF6\", \"width\": 0.5}}, \"type\": \"bar\"}], \"barpolar\": [{\"marker\": {\"line\": {\"color\": \"#E5ECF6\", \"width\": 0.5}}, \"type\": \"barpolar\"}], \"carpet\": [{\"aaxis\": {\"endlinecolor\": \"#2a3f5f\", \"gridcolor\": \"white\", \"linecolor\": \"white\", \"minorgridcolor\": \"white\", \"startlinecolor\": \"#2a3f5f\"}, \"baxis\": {\"endlinecolor\": \"#2a3f5f\", \"gridcolor\": \"white\", \"linecolor\": \"white\", \"minorgridcolor\": \"white\", \"startlinecolor\": \"#2a3f5f\"}, \"type\": \"carpet\"}], \"choropleth\": [{\"colorbar\": {\"outlinewidth\": 0, \"ticks\": \"\"}, \"type\": \"choropleth\"}], \"contour\": [{\"colorbar\": {\"outlinewidth\": 0, \"ticks\": \"\"}, \"colorscale\": [[0.0, \"#0d0887\"], [0.1111111111111111, \"#46039f\"], [0.2222222222222222, \"#7201a8\"], [0.3333333333333333, \"#9c179e\"], [0.4444444444444444, \"#bd3786\"], [0.5555555555555556, \"#d8576b\"], [0.6666666666666666, \"#ed7953\"], [0.7777777777777778, \"#fb9f3a\"], [0.8888888888888888, \"#fdca26\"], [1.0, \"#f0f921\"]], \"type\": \"contour\"}], \"contourcarpet\": [{\"colorbar\": {\"outlinewidth\": 0, \"ticks\": \"\"}, \"type\": \"contourcarpet\"}], \"heatmap\": [{\"colorbar\": {\"outlinewidth\": 0, \"ticks\": \"\"}, \"colorscale\": [[0.0, \"#0d0887\"], [0.1111111111111111, \"#46039f\"], [0.2222222222222222, \"#7201a8\"], [0.3333333333333333, \"#9c179e\"], [0.4444444444444444, \"#bd3786\"], [0.5555555555555556, \"#d8576b\"], [0.6666666666666666, \"#ed7953\"], [0.7777777777777778, \"#fb9f3a\"], [0.8888888888888888, \"#fdca26\"], [1.0, \"#f0f921\"]], \"type\": \"heatmap\"}], \"heatmapgl\": [{\"colorbar\": {\"outlinewidth\": 0, \"ticks\": \"\"}, \"colorscale\": [[0.0, \"#0d0887\"], [0.1111111111111111, \"#46039f\"], [0.2222222222222222, \"#7201a8\"], [0.3333333333333333, \"#9c179e\"], [0.4444444444444444, \"#bd3786\"], [0.5555555555555556, \"#d8576b\"], [0.6666666666666666, \"#ed7953\"], [0.7777777777777778, \"#fb9f3a\"], [0.8888888888888888, \"#fdca26\"], [1.0, \"#f0f921\"]], \"type\": \"heatmapgl\"}], \"histogram\": [{\"marker\": {\"colorbar\": {\"outlinewidth\": 0, \"ticks\": \"\"}}, \"type\": \"histogram\"}], \"histogram2d\": [{\"colorbar\": {\"outlinewidth\": 0, \"ticks\": \"\"}, \"colorscale\": [[0.0, \"#0d0887\"], [0.1111111111111111, \"#46039f\"], [0.2222222222222222, \"#7201a8\"], [0.3333333333333333, \"#9c179e\"], [0.4444444444444444, \"#bd3786\"], [0.5555555555555556, \"#d8576b\"], [0.6666666666666666, \"#ed7953\"], [0.7777777777777778, \"#fb9f3a\"], [0.8888888888888888, \"#fdca26\"], [1.0, \"#f0f921\"]], \"type\": \"histogram2d\"}], \"histogram2dcontour\": [{\"colorbar\": {\"outlinewidth\": 0, \"ticks\": \"\"}, \"colorscale\": [[0.0, \"#0d0887\"], [0.1111111111111111, \"#46039f\"], [0.2222222222222222, \"#7201a8\"], [0.3333333333333333, \"#9c179e\"], [0.4444444444444444, \"#bd3786\"], [0.5555555555555556, \"#d8576b\"], [0.6666666666666666, \"#ed7953\"], [0.7777777777777778, \"#fb9f3a\"], [0.8888888888888888, \"#fdca26\"], [1.0, \"#f0f921\"]], \"type\": \"histogram2dcontour\"}], \"mesh3d\": [{\"colorbar\": {\"outlinewidth\": 0, \"ticks\": \"\"}, \"type\": \"mesh3d\"}], \"parcoords\": [{\"line\": {\"colorbar\": {\"outlinewidth\": 0, \"ticks\": \"\"}}, \"type\": \"parcoords\"}], \"pie\": [{\"automargin\": true, \"type\": \"pie\"}], \"scatter\": [{\"marker\": {\"colorbar\": {\"outlinewidth\": 0, \"ticks\": \"\"}}, \"type\": \"scatter\"}], \"scatter3d\": [{\"line\": {\"colorbar\": {\"outlinewidth\": 0, \"ticks\": \"\"}}, \"marker\": {\"colorbar\": {\"outlinewidth\": 0, \"ticks\": \"\"}}, \"type\": \"scatter3d\"}], \"scattercarpet\": [{\"marker\": {\"colorbar\": {\"outlinewidth\": 0, \"ticks\": \"\"}}, \"type\": \"scattercarpet\"}], \"scattergeo\": [{\"marker\": {\"colorbar\": {\"outlinewidth\": 0, \"ticks\": \"\"}}, \"type\": \"scattergeo\"}], \"scattergl\": [{\"marker\": {\"colorbar\": {\"outlinewidth\": 0, \"ticks\": \"\"}}, \"type\": \"scattergl\"}], \"scattermapbox\": [{\"marker\": {\"colorbar\": {\"outlinewidth\": 0, \"ticks\": \"\"}}, \"type\": \"scattermapbox\"}], \"scatterpolar\": [{\"marker\": {\"colorbar\": {\"outlinewidth\": 0, \"ticks\": \"\"}}, \"type\": \"scatterpolar\"}], \"scatterpolargl\": [{\"marker\": {\"colorbar\": {\"outlinewidth\": 0, \"ticks\": \"\"}}, \"type\": \"scatterpolargl\"}], \"scatterternary\": [{\"marker\": {\"colorbar\": {\"outlinewidth\": 0, \"ticks\": \"\"}}, \"type\": \"scatterternary\"}], \"surface\": [{\"colorbar\": {\"outlinewidth\": 0, \"ticks\": \"\"}, \"colorscale\": [[0.0, \"#0d0887\"], [0.1111111111111111, \"#46039f\"], [0.2222222222222222, \"#7201a8\"], [0.3333333333333333, \"#9c179e\"], [0.4444444444444444, \"#bd3786\"], [0.5555555555555556, \"#d8576b\"], [0.6666666666666666, \"#ed7953\"], [0.7777777777777778, \"#fb9f3a\"], [0.8888888888888888, \"#fdca26\"], [1.0, \"#f0f921\"]], \"type\": \"surface\"}], \"table\": [{\"cells\": {\"fill\": {\"color\": \"#EBF0F8\"}, \"line\": {\"color\": \"white\"}}, \"header\": {\"fill\": {\"color\": \"#C8D4E3\"}, \"line\": {\"color\": \"white\"}}, \"type\": \"table\"}]}, \"layout\": {\"annotationdefaults\": {\"arrowcolor\": \"#2a3f5f\", \"arrowhead\": 0, \"arrowwidth\": 1}, \"coloraxis\": {\"colorbar\": {\"outlinewidth\": 0, \"ticks\": \"\"}}, \"colorscale\": {\"diverging\": [[0, \"#8e0152\"], [0.1, \"#c51b7d\"], [0.2, \"#de77ae\"], [0.3, \"#f1b6da\"], [0.4, \"#fde0ef\"], [0.5, \"#f7f7f7\"], [0.6, \"#e6f5d0\"], [0.7, \"#b8e186\"], [0.8, \"#7fbc41\"], [0.9, \"#4d9221\"], [1, \"#276419\"]], \"sequential\": [[0.0, \"#0d0887\"], [0.1111111111111111, \"#46039f\"], [0.2222222222222222, \"#7201a8\"], [0.3333333333333333, \"#9c179e\"], [0.4444444444444444, \"#bd3786\"], [0.5555555555555556, \"#d8576b\"], [0.6666666666666666, \"#ed7953\"], [0.7777777777777778, \"#fb9f3a\"], [0.8888888888888888, \"#fdca26\"], [1.0, \"#f0f921\"]], \"sequentialminus\": [[0.0, \"#0d0887\"], [0.1111111111111111, \"#46039f\"], [0.2222222222222222, \"#7201a8\"], [0.3333333333333333, \"#9c179e\"], [0.4444444444444444, \"#bd3786\"], [0.5555555555555556, \"#d8576b\"], [0.6666666666666666, \"#ed7953\"], [0.7777777777777778, \"#fb9f3a\"], [0.8888888888888888, \"#fdca26\"], [1.0, \"#f0f921\"]]}, \"colorway\": [\"#636efa\", \"#EF553B\", \"#00cc96\", \"#ab63fa\", \"#FFA15A\", \"#19d3f3\", \"#FF6692\", \"#B6E880\", \"#FF97FF\", \"#FECB52\"], \"font\": {\"color\": \"#2a3f5f\"}, \"geo\": {\"bgcolor\": \"white\", \"lakecolor\": \"white\", \"landcolor\": \"#E5ECF6\", \"showlakes\": true, \"showland\": true, \"subunitcolor\": \"white\"}, \"hoverlabel\": {\"align\": \"left\"}, \"hovermode\": \"closest\", \"mapbox\": {\"style\": \"light\"}, \"paper_bgcolor\": \"white\", \"plot_bgcolor\": \"#E5ECF6\", \"polar\": {\"angularaxis\": {\"gridcolor\": \"white\", \"linecolor\": \"white\", \"ticks\": \"\"}, \"bgcolor\": \"#E5ECF6\", \"radialaxis\": {\"gridcolor\": \"white\", \"linecolor\": \"white\", \"ticks\": \"\"}}, \"scene\": {\"xaxis\": {\"backgroundcolor\": \"#E5ECF6\", \"gridcolor\": \"white\", \"gridwidth\": 2, \"linecolor\": \"white\", \"showbackground\": true, \"ticks\": \"\", \"zerolinecolor\": \"white\"}, \"yaxis\": {\"backgroundcolor\": \"#E5ECF6\", \"gridcolor\": \"white\", \"gridwidth\": 2, \"linecolor\": \"white\", \"showbackground\": true, \"ticks\": \"\", \"zerolinecolor\": \"white\"}, \"zaxis\": {\"backgroundcolor\": \"#E5ECF6\", \"gridcolor\": \"white\", \"gridwidth\": 2, \"linecolor\": \"white\", \"showbackground\": true, \"ticks\": \"\", \"zerolinecolor\": \"white\"}}, \"shapedefaults\": {\"line\": {\"color\": \"#2a3f5f\"}}, \"ternary\": {\"aaxis\": {\"gridcolor\": \"white\", \"linecolor\": \"white\", \"ticks\": \"\"}, \"baxis\": {\"gridcolor\": \"white\", \"linecolor\": \"white\", \"ticks\": \"\"}, \"bgcolor\": \"#E5ECF6\", \"caxis\": {\"gridcolor\": \"white\", \"linecolor\": \"white\", \"ticks\": \"\"}}, \"title\": {\"x\": 0.05}, \"xaxis\": {\"automargin\": true, \"gridcolor\": \"white\", \"linecolor\": \"white\", \"ticks\": \"\", \"title\": {\"standoff\": 15}, \"zerolinecolor\": \"white\", \"zerolinewidth\": 2}, \"yaxis\": {\"automargin\": true, \"gridcolor\": \"white\", \"linecolor\": \"white\", \"ticks\": \"\", \"title\": {\"standoff\": 15}, \"zerolinecolor\": \"white\", \"zerolinewidth\": 2}}}, \"title\": {\"text\": \"Option Volume 2020 (Expiration in Orange)\", \"x\": 0.5, \"xanchor\": \"center\", \"y\": 0.9, \"yanchor\": \"top\"}, \"xaxis\": {\"tickangle\": 45, \"ticktext\": [20200102, 20200108, 20200114, 20200120, 20200124, 20200130, 20200205, 20200211, 20200217, 20200221, 20200227, 20200304, 20200310, 20200316, 20200320, 20200326, 20200401, 20200407, 20200414, 20200420, 20200424, 20200430, 20200506, 20200512], \"tickvals\": [20200102, 20200108, 20200114, 20200120, 20200124, 20200130, 20200205, 20200211, 20200217, 20200221, 20200227, 20200304, 20200310, 20200316, 20200320, 20200326, 20200401, 20200407, 20200414, 20200420, 20200424, 20200430, 20200506, 20200512], \"type\": \"category\"}, \"yaxis\": {\"title\": {\"text\": \"Total Options Volume Per Day\"}}, \"yaxis2\": {\"overlaying\": \"y\", \"side\": \"right\", \"title\": {\"text\": \"y alt\"}}},\n",
       "                        {\"responsive\": true}\n",
       "                    ).then(function(){\n",
       "                            \n",
       "var gd = document.getElementById('4220ef9a-547e-42fc-8ead-d9a02e9769e4');\n",
       "var x = new MutationObserver(function (mutations, observer) {{\n",
       "        var display = window.getComputedStyle(gd).display;\n",
       "        if (!display || display === 'none') {{\n",
       "            console.log([gd, 'removed!']);\n",
       "            Plotly.purge(gd);\n",
       "            observer.disconnect();\n",
       "        }}\n",
       "}});\n",
       "\n",
       "// Listen for the removal of the full notebook cells\n",
       "var notebookContainer = gd.closest('#notebook-container');\n",
       "if (notebookContainer) {{\n",
       "    x.observe(notebookContainer, {childList: true});\n",
       "}}\n",
       "\n",
       "// Listen for the clearing of the current output cell\n",
       "var outputEl = gd.closest('.output');\n",
       "if (outputEl) {{\n",
       "    x.observe(outputEl, {childList: true});\n",
       "}}\n",
       "\n",
       "                        })\n",
       "                };\n",
       "                });\n",
       "            </script>\n",
       "        </div>"
      ]
     },
     "metadata": {},
     "output_type": "display_data"
    }
   ],
   "source": [
    "df_cl_opts_vol_date2 = df_cl_opts_vol_date.copy()\n",
    "df_cl_opts_vol_date2['is_ld'] = df_cl_opts_vol_date2.settle_date.apply(\n",
    "    lambda d:1 if d in df_sql_opt_expir_last_day.settle_date.unique() else 0)\n",
    "df_cl_opts_vol_date2['yyyy'] = df_cl_opts_vol_date2.settle_date.apply(lambda d:int(str(d)[0:4]))   \n",
    "for y in np.sort(df_cl_opts_vol_date2.yyyy.unique()):\n",
    "    df_yyyy = df_cl_opts_vol_date2[df_cl_opts_vol_date2.yyyy==y]\n",
    "    fig = plotly_plot(\n",
    "            df_in=df_yyyy[['settle_date','vol_sum']],\n",
    "            x_column='settle_date',\n",
    "            plot_title=f'Option Volume {y} (Expiration in Orange)',\n",
    "            y_left_label='Total Options Volume Per Day'\n",
    "        )\n",
    "    \n",
    "    df_yyyy['is_ld_end'] = df_yyyy.is_ld.shift(1)\n",
    "    df_yyyy['is_ld_beg'] = df_yyyy.is_ld.shift(-1)\n",
    "    ld_beg = df_yyyy[df_yyyy.is_ld_beg==1].settle_date.values\n",
    "    ld_end = df_yyyy[df_yyyy.is_ld_end==1].settle_date.values\n",
    "\n",
    "    ld_shapes = []\n",
    "    for i in range(min(len(ld_beg),len(ld_end))):\n",
    "        ld_shape = dict(\n",
    "            type=\"rect\",\n",
    "            # x-reference is assigned to the x-values\n",
    "            xref=\"x\",\n",
    "            # y-reference is assigned to the plot paper [0,1]\n",
    "            yref=\"paper\",\n",
    "            x0=ld_beg[i],\n",
    "            y0=0,\n",
    "            x1=ld_end[i],\n",
    "            y1=1,\n",
    "            fillcolor=\"LightSalmon\",\n",
    "            opacity=0.5,\n",
    "            layer=\"below\",\n",
    "            line_width=0,\n",
    "        )\n",
    "        ld_shapes.append(ld_shape)\n",
    "\n",
    "    fig.update_layout(shapes=ld_shapes)\n",
    "    iplot(fig)\n"
   ]
  },
  {
   "cell_type": "code",
   "execution_count": 20,
   "metadata": {
    "scrolled": false
   },
   "outputs": [],
   "source": [
    "sql_cl_opts_oi_by_put_call = f\"\"\"\n",
    "with\n",
    "f1 as (\n",
    "    select settle_date,pc,symbol,sum(open_interest) oi_sum_by_pc from sec_schema.options_table\n",
    "    where settle_date>=20200225 and symbol like 'CL%%' and open_interest>0\n",
    "    group by settle_date, pc,symbol\n",
    "    order by settle_date, pc,symbol\n",
    "),\n",
    "f2 as\n",
    "(\n",
    "    select settle_date,symbol,sum(oi_sum_by_pc) oi_sum_by_symbol\n",
    "    from f1\n",
    "    group by settle_date,symbol\n",
    "),\n",
    "f3 as\n",
    "(\n",
    "    select f1.*, f2.oi_sum_by_symbol from f1\n",
    "    join f2 on f1.settle_date  = f2.settle_date and f1.symbol = f2.symbol\n",
    "    order by f2.oi_sum_by_symbol desc,f1.settle_date,f1.pc\n",
    ")\n",
    "select * from f3\n",
    "\"\"\"\n",
    "df_cl_opts_oi_by_put_call = pga.get_sql(sql_cl_opts_oi_by_put_call)\n",
    "\n",
    "\n"
   ]
  },
  {
   "cell_type": "code",
   "execution_count": 21,
   "metadata": {},
   "outputs": [
    {
     "data": {
      "text/html": [
       "<div>\n",
       "<style scoped>\n",
       "    .dataframe tbody tr th:only-of-type {\n",
       "        vertical-align: middle;\n",
       "    }\n",
       "\n",
       "    .dataframe tbody tr th {\n",
       "        vertical-align: top;\n",
       "    }\n",
       "\n",
       "    .dataframe thead th {\n",
       "        text-align: right;\n",
       "    }\n",
       "</style>\n",
       "<table border=\"1\" class=\"dataframe\">\n",
       "  <thead>\n",
       "    <tr style=\"text-align: right;\">\n",
       "      <th></th>\n",
       "      <th>settle_date</th>\n",
       "      <th>symbol</th>\n",
       "      <th>oi_sum_C</th>\n",
       "      <th>oi_sum_P</th>\n",
       "      <th>pc_oi_diff</th>\n",
       "      <th>oi_sum_by_symbol</th>\n",
       "    </tr>\n",
       "  </thead>\n",
       "  <tbody>\n",
       "    <tr>\n",
       "      <th>0</th>\n",
       "      <td>20200422</td>\n",
       "      <td>CLM20</td>\n",
       "      <td>507484</td>\n",
       "      <td>493255</td>\n",
       "      <td>14229</td>\n",
       "      <td>1000739.0</td>\n",
       "    </tr>\n",
       "    <tr>\n",
       "      <th>1</th>\n",
       "      <td>20200424</td>\n",
       "      <td>CLM20</td>\n",
       "      <td>515585</td>\n",
       "      <td>482233</td>\n",
       "      <td>33352</td>\n",
       "      <td>997818.0</td>\n",
       "    </tr>\n",
       "    <tr>\n",
       "      <th>2</th>\n",
       "      <td>20200423</td>\n",
       "      <td>CLM20</td>\n",
       "      <td>512926</td>\n",
       "      <td>484781</td>\n",
       "      <td>28145</td>\n",
       "      <td>997707.0</td>\n",
       "    </tr>\n",
       "    <tr>\n",
       "      <th>3</th>\n",
       "      <td>20200421</td>\n",
       "      <td>CLM20</td>\n",
       "      <td>489018</td>\n",
       "      <td>507744</td>\n",
       "      <td>-18726</td>\n",
       "      <td>996762.0</td>\n",
       "    </tr>\n",
       "    <tr>\n",
       "      <th>4</th>\n",
       "      <td>20200420</td>\n",
       "      <td>CLM20</td>\n",
       "      <td>479220</td>\n",
       "      <td>483166</td>\n",
       "      <td>-3946</td>\n",
       "      <td>962386.0</td>\n",
       "    </tr>\n",
       "    <tr>\n",
       "      <th>5</th>\n",
       "      <td>20200417</td>\n",
       "      <td>CLM20</td>\n",
       "      <td>474992</td>\n",
       "      <td>465001</td>\n",
       "      <td>9991</td>\n",
       "      <td>939993.0</td>\n",
       "    </tr>\n",
       "    <tr>\n",
       "      <th>6</th>\n",
       "      <td>20200416</td>\n",
       "      <td>CLM20</td>\n",
       "      <td>469415</td>\n",
       "      <td>451540</td>\n",
       "      <td>17875</td>\n",
       "      <td>920955.0</td>\n",
       "    </tr>\n",
       "    <tr>\n",
       "      <th>7</th>\n",
       "      <td>20200415</td>\n",
       "      <td>CLM20</td>\n",
       "      <td>465652</td>\n",
       "      <td>437458</td>\n",
       "      <td>28194</td>\n",
       "      <td>903110.0</td>\n",
       "    </tr>\n",
       "    <tr>\n",
       "      <th>8</th>\n",
       "      <td>20200414</td>\n",
       "      <td>CLM20</td>\n",
       "      <td>456207</td>\n",
       "      <td>423570</td>\n",
       "      <td>32637</td>\n",
       "      <td>879777.0</td>\n",
       "    </tr>\n",
       "    <tr>\n",
       "      <th>9</th>\n",
       "      <td>20200413</td>\n",
       "      <td>CLM20</td>\n",
       "      <td>454172</td>\n",
       "      <td>418769</td>\n",
       "      <td>35403</td>\n",
       "      <td>872941.0</td>\n",
       "    </tr>\n",
       "    <tr>\n",
       "      <th>10</th>\n",
       "      <td>20200409</td>\n",
       "      <td>CLM20</td>\n",
       "      <td>448220</td>\n",
       "      <td>414780</td>\n",
       "      <td>33440</td>\n",
       "      <td>863000.0</td>\n",
       "    </tr>\n",
       "    <tr>\n",
       "      <th>11</th>\n",
       "      <td>20200408</td>\n",
       "      <td>CLM20</td>\n",
       "      <td>442466</td>\n",
       "      <td>401515</td>\n",
       "      <td>40951</td>\n",
       "      <td>843981.0</td>\n",
       "    </tr>\n",
       "    <tr>\n",
       "      <th>12</th>\n",
       "      <td>20200407</td>\n",
       "      <td>CLM20</td>\n",
       "      <td>440417</td>\n",
       "      <td>399343</td>\n",
       "      <td>41074</td>\n",
       "      <td>839760.0</td>\n",
       "    </tr>\n",
       "    <tr>\n",
       "      <th>13</th>\n",
       "      <td>20200406</td>\n",
       "      <td>CLM20</td>\n",
       "      <td>437036</td>\n",
       "      <td>398925</td>\n",
       "      <td>38111</td>\n",
       "      <td>835961.0</td>\n",
       "    </tr>\n",
       "    <tr>\n",
       "      <th>14</th>\n",
       "      <td>20200403</td>\n",
       "      <td>CLM20</td>\n",
       "      <td>432707</td>\n",
       "      <td>395703</td>\n",
       "      <td>37004</td>\n",
       "      <td>828410.0</td>\n",
       "    </tr>\n",
       "    <tr>\n",
       "      <th>15</th>\n",
       "      <td>20200402</td>\n",
       "      <td>CLM20</td>\n",
       "      <td>428111</td>\n",
       "      <td>391432</td>\n",
       "      <td>36679</td>\n",
       "      <td>819543.0</td>\n",
       "    </tr>\n",
       "    <tr>\n",
       "      <th>16</th>\n",
       "      <td>20200401</td>\n",
       "      <td>CLM20</td>\n",
       "      <td>426944</td>\n",
       "      <td>389873</td>\n",
       "      <td>37071</td>\n",
       "      <td>816817.0</td>\n",
       "    </tr>\n",
       "    <tr>\n",
       "      <th>17</th>\n",
       "      <td>20200331</td>\n",
       "      <td>CLM20</td>\n",
       "      <td>423751</td>\n",
       "      <td>386692</td>\n",
       "      <td>37059</td>\n",
       "      <td>810443.0</td>\n",
       "    </tr>\n",
       "    <tr>\n",
       "      <th>18</th>\n",
       "      <td>20200330</td>\n",
       "      <td>CLM20</td>\n",
       "      <td>416055</td>\n",
       "      <td>377260</td>\n",
       "      <td>38795</td>\n",
       "      <td>793315.0</td>\n",
       "    </tr>\n",
       "    <tr>\n",
       "      <th>19</th>\n",
       "      <td>20200327</td>\n",
       "      <td>CLM20</td>\n",
       "      <td>414859</td>\n",
       "      <td>374067</td>\n",
       "      <td>40792</td>\n",
       "      <td>788926.0</td>\n",
       "    </tr>\n",
       "  </tbody>\n",
       "</table>\n",
       "</div>"
      ],
      "text/plain": [
       "    settle_date symbol  oi_sum_C  oi_sum_P  pc_oi_diff  oi_sum_by_symbol\n",
       "0      20200422  CLM20    507484    493255       14229         1000739.0\n",
       "1      20200424  CLM20    515585    482233       33352          997818.0\n",
       "2      20200423  CLM20    512926    484781       28145          997707.0\n",
       "3      20200421  CLM20    489018    507744      -18726          996762.0\n",
       "4      20200420  CLM20    479220    483166       -3946          962386.0\n",
       "5      20200417  CLM20    474992    465001        9991          939993.0\n",
       "6      20200416  CLM20    469415    451540       17875          920955.0\n",
       "7      20200415  CLM20    465652    437458       28194          903110.0\n",
       "8      20200414  CLM20    456207    423570       32637          879777.0\n",
       "9      20200413  CLM20    454172    418769       35403          872941.0\n",
       "10     20200409  CLM20    448220    414780       33440          863000.0\n",
       "11     20200408  CLM20    442466    401515       40951          843981.0\n",
       "12     20200407  CLM20    440417    399343       41074          839760.0\n",
       "13     20200406  CLM20    437036    398925       38111          835961.0\n",
       "14     20200403  CLM20    432707    395703       37004          828410.0\n",
       "15     20200402  CLM20    428111    391432       36679          819543.0\n",
       "16     20200401  CLM20    426944    389873       37071          816817.0\n",
       "17     20200331  CLM20    423751    386692       37059          810443.0\n",
       "18     20200330  CLM20    416055    377260       38795          793315.0\n",
       "19     20200327  CLM20    414859    374067       40792          788926.0"
      ]
     },
     "metadata": {},
     "output_type": "display_data"
    }
   ],
   "source": [
    "df_cl_opts_oi_by_put_call_C = df_cl_opts_oi_by_put_call[df_cl_opts_oi_by_put_call.pc=='C']\n",
    "df_cl_opts_oi_by_put_call_C = df_cl_opts_oi_by_put_call_C.rename(columns={'oi_sum_by_pc':'oi_sum_C'})\n",
    "df_cl_opts_oi_by_put_call_C = df_cl_opts_oi_by_put_call_C[['settle_date','symbol','oi_sum_C','oi_sum_by_symbol']]\n",
    "df_cl_opts_oi_by_put_call_P = df_cl_opts_oi_by_put_call[df_cl_opts_oi_by_put_call.pc=='P']\n",
    "df_cl_opts_oi_by_put_call_P = df_cl_opts_oi_by_put_call_P.rename(columns={'oi_sum_by_pc':'oi_sum_P'})\n",
    "df_cl_opts_oi_by_put_call_P = df_cl_opts_oi_by_put_call_P[['settle_date','symbol','oi_sum_P']]\n",
    "df_cl_opts_oi = df_cl_opts_oi_by_put_call_C.merge(df_cl_opts_oi_by_put_call_P,how='inner',\n",
    "                                                 on=['settle_date','symbol'])\n",
    "df_cl_opts_oi['pc_oi_diff'] = df_cl_opts_oi.oi_sum_C - df_cl_opts_oi.oi_sum_P\n",
    "display.display(df_cl_opts_oi[['settle_date','symbol','oi_sum_C','oi_sum_P','pc_oi_diff','oi_sum_by_symbol']].head(20))\n"
   ]
  },
  {
   "cell_type": "code",
   "execution_count": 22,
   "metadata": {},
   "outputs": [
    {
     "data": {
      "text/html": [
       "<div>\n",
       "<style scoped>\n",
       "    .dataframe tbody tr th:only-of-type {\n",
       "        vertical-align: middle;\n",
       "    }\n",
       "\n",
       "    .dataframe tbody tr th {\n",
       "        vertical-align: top;\n",
       "    }\n",
       "\n",
       "    .dataframe thead th {\n",
       "        text-align: right;\n",
       "    }\n",
       "</style>\n",
       "<table border=\"1\" class=\"dataframe\">\n",
       "  <thead>\n",
       "    <tr style=\"text-align: right;\">\n",
       "      <th></th>\n",
       "      <th>oi_sum_by_symbol</th>\n",
       "    </tr>\n",
       "    <tr>\n",
       "      <th>settle_date</th>\n",
       "      <th></th>\n",
       "    </tr>\n",
       "  </thead>\n",
       "  <tbody>\n",
       "    <tr>\n",
       "      <th>20200415</th>\n",
       "      <td>2946283.0</td>\n",
       "    </tr>\n",
       "    <tr>\n",
       "      <th>20200416</th>\n",
       "      <td>2907882.0</td>\n",
       "    </tr>\n",
       "    <tr>\n",
       "      <th>20200414</th>\n",
       "      <td>2892753.0</td>\n",
       "    </tr>\n",
       "    <tr>\n",
       "      <th>20200413</th>\n",
       "      <td>2848551.0</td>\n",
       "    </tr>\n",
       "    <tr>\n",
       "      <th>20200409</th>\n",
       "      <td>2807532.0</td>\n",
       "    </tr>\n",
       "    <tr>\n",
       "      <th>20200408</th>\n",
       "      <td>2768401.0</td>\n",
       "    </tr>\n",
       "    <tr>\n",
       "      <th>20200407</th>\n",
       "      <td>2740856.0</td>\n",
       "    </tr>\n",
       "    <tr>\n",
       "      <th>20200406</th>\n",
       "      <td>2717254.0</td>\n",
       "    </tr>\n",
       "    <tr>\n",
       "      <th>20200424</th>\n",
       "      <td>2711201.0</td>\n",
       "    </tr>\n",
       "    <tr>\n",
       "      <th>20200423</th>\n",
       "      <td>2704098.0</td>\n",
       "    </tr>\n",
       "    <tr>\n",
       "      <th>20200403</th>\n",
       "      <td>2694012.0</td>\n",
       "    </tr>\n",
       "    <tr>\n",
       "      <th>20200422</th>\n",
       "      <td>2692504.0</td>\n",
       "    </tr>\n",
       "    <tr>\n",
       "      <th>20200421</th>\n",
       "      <td>2686326.0</td>\n",
       "    </tr>\n",
       "    <tr>\n",
       "      <th>20200402</th>\n",
       "      <td>2652906.0</td>\n",
       "    </tr>\n",
       "    <tr>\n",
       "      <th>20200316</th>\n",
       "      <td>2649832.0</td>\n",
       "    </tr>\n",
       "    <tr>\n",
       "      <th>20200420</th>\n",
       "      <td>2623188.0</td>\n",
       "    </tr>\n",
       "    <tr>\n",
       "      <th>20200401</th>\n",
       "      <td>2617703.0</td>\n",
       "    </tr>\n",
       "    <tr>\n",
       "      <th>20200313</th>\n",
       "      <td>2605502.0</td>\n",
       "    </tr>\n",
       "    <tr>\n",
       "      <th>20200331</th>\n",
       "      <td>2589245.0</td>\n",
       "    </tr>\n",
       "    <tr>\n",
       "      <th>20200417</th>\n",
       "      <td>2565688.0</td>\n",
       "    </tr>\n",
       "    <tr>\n",
       "      <th>20200312</th>\n",
       "      <td>2558191.0</td>\n",
       "    </tr>\n",
       "    <tr>\n",
       "      <th>20200317</th>\n",
       "      <td>2546372.0</td>\n",
       "    </tr>\n",
       "    <tr>\n",
       "      <th>20200330</th>\n",
       "      <td>2531853.0</td>\n",
       "    </tr>\n",
       "    <tr>\n",
       "      <th>20200327</th>\n",
       "      <td>2483037.0</td>\n",
       "    </tr>\n",
       "    <tr>\n",
       "      <th>20200311</th>\n",
       "      <td>2480857.0</td>\n",
       "    </tr>\n",
       "    <tr>\n",
       "      <th>20200326</th>\n",
       "      <td>2442620.0</td>\n",
       "    </tr>\n",
       "    <tr>\n",
       "      <th>20200310</th>\n",
       "      <td>2437748.0</td>\n",
       "    </tr>\n",
       "    <tr>\n",
       "      <th>20200325</th>\n",
       "      <td>2403183.0</td>\n",
       "    </tr>\n",
       "    <tr>\n",
       "      <th>20200324</th>\n",
       "      <td>2361618.0</td>\n",
       "    </tr>\n",
       "    <tr>\n",
       "      <th>20200309</th>\n",
       "      <td>2349358.0</td>\n",
       "    </tr>\n",
       "    <tr>\n",
       "      <th>20200320</th>\n",
       "      <td>2347068.0</td>\n",
       "    </tr>\n",
       "    <tr>\n",
       "      <th>20200323</th>\n",
       "      <td>2331383.0</td>\n",
       "    </tr>\n",
       "    <tr>\n",
       "      <th>20200319</th>\n",
       "      <td>2290732.0</td>\n",
       "    </tr>\n",
       "    <tr>\n",
       "      <th>20200305</th>\n",
       "      <td>2226313.0</td>\n",
       "    </tr>\n",
       "    <tr>\n",
       "      <th>20200318</th>\n",
       "      <td>2213222.0</td>\n",
       "    </tr>\n",
       "    <tr>\n",
       "      <th>20200304</th>\n",
       "      <td>2162068.0</td>\n",
       "    </tr>\n",
       "    <tr>\n",
       "      <th>20200302</th>\n",
       "      <td>2095762.0</td>\n",
       "    </tr>\n",
       "    <tr>\n",
       "      <th>20200227</th>\n",
       "      <td>1959099.0</td>\n",
       "    </tr>\n",
       "    <tr>\n",
       "      <th>20200226</th>\n",
       "      <td>1913037.0</td>\n",
       "    </tr>\n",
       "    <tr>\n",
       "      <th>20200225</th>\n",
       "      <td>1877730.0</td>\n",
       "    </tr>\n",
       "    <tr>\n",
       "      <th>20200513</th>\n",
       "      <td>1750143.0</td>\n",
       "    </tr>\n",
       "    <tr>\n",
       "      <th>20200514</th>\n",
       "      <td>1749644.0</td>\n",
       "    </tr>\n",
       "    <tr>\n",
       "      <th>20200512</th>\n",
       "      <td>1748281.0</td>\n",
       "    </tr>\n",
       "    <tr>\n",
       "      <th>20200511</th>\n",
       "      <td>1744862.0</td>\n",
       "    </tr>\n",
       "    <tr>\n",
       "      <th>20200508</th>\n",
       "      <td>1741668.0</td>\n",
       "    </tr>\n",
       "    <tr>\n",
       "      <th>20200507</th>\n",
       "      <td>1735143.0</td>\n",
       "    </tr>\n",
       "    <tr>\n",
       "      <th>20200506</th>\n",
       "      <td>1729720.0</td>\n",
       "    </tr>\n",
       "    <tr>\n",
       "      <th>20200505</th>\n",
       "      <td>1714995.0</td>\n",
       "    </tr>\n",
       "    <tr>\n",
       "      <th>20200501</th>\n",
       "      <td>1696436.0</td>\n",
       "    </tr>\n",
       "    <tr>\n",
       "      <th>20200504</th>\n",
       "      <td>1696036.0</td>\n",
       "    </tr>\n",
       "    <tr>\n",
       "      <th>20200430</th>\n",
       "      <td>1680283.0</td>\n",
       "    </tr>\n",
       "    <tr>\n",
       "      <th>20200429</th>\n",
       "      <td>1659318.0</td>\n",
       "    </tr>\n",
       "    <tr>\n",
       "      <th>20200428</th>\n",
       "      <td>1646471.0</td>\n",
       "    </tr>\n",
       "    <tr>\n",
       "      <th>20200427</th>\n",
       "      <td>1635067.0</td>\n",
       "    </tr>\n",
       "    <tr>\n",
       "      <th>20200515</th>\n",
       "      <td>1172226.0</td>\n",
       "    </tr>\n",
       "    <tr>\n",
       "      <th>20200228</th>\n",
       "      <td>99566.0</td>\n",
       "    </tr>\n",
       "  </tbody>\n",
       "</table>\n",
       "</div>"
      ],
      "text/plain": [
       "             oi_sum_by_symbol\n",
       "settle_date                  \n",
       "20200415            2946283.0\n",
       "20200416            2907882.0\n",
       "20200414            2892753.0\n",
       "20200413            2848551.0\n",
       "20200409            2807532.0\n",
       "20200408            2768401.0\n",
       "20200407            2740856.0\n",
       "20200406            2717254.0\n",
       "20200424            2711201.0\n",
       "20200423            2704098.0\n",
       "20200403            2694012.0\n",
       "20200422            2692504.0\n",
       "20200421            2686326.0\n",
       "20200402            2652906.0\n",
       "20200316            2649832.0\n",
       "20200420            2623188.0\n",
       "20200401            2617703.0\n",
       "20200313            2605502.0\n",
       "20200331            2589245.0\n",
       "20200417            2565688.0\n",
       "20200312            2558191.0\n",
       "20200317            2546372.0\n",
       "20200330            2531853.0\n",
       "20200327            2483037.0\n",
       "20200311            2480857.0\n",
       "20200326            2442620.0\n",
       "20200310            2437748.0\n",
       "20200325            2403183.0\n",
       "20200324            2361618.0\n",
       "20200309            2349358.0\n",
       "20200320            2347068.0\n",
       "20200323            2331383.0\n",
       "20200319            2290732.0\n",
       "20200305            2226313.0\n",
       "20200318            2213222.0\n",
       "20200304            2162068.0\n",
       "20200302            2095762.0\n",
       "20200227            1959099.0\n",
       "20200226            1913037.0\n",
       "20200225            1877730.0\n",
       "20200513            1750143.0\n",
       "20200514            1749644.0\n",
       "20200512            1748281.0\n",
       "20200511            1744862.0\n",
       "20200508            1741668.0\n",
       "20200507            1735143.0\n",
       "20200506            1729720.0\n",
       "20200505            1714995.0\n",
       "20200501            1696436.0\n",
       "20200504            1696036.0\n",
       "20200430            1680283.0\n",
       "20200429            1659318.0\n",
       "20200428            1646471.0\n",
       "20200427            1635067.0\n",
       "20200515            1172226.0\n",
       "20200228              99566.0"
      ]
     },
     "execution_count": 22,
     "metadata": {},
     "output_type": "execute_result"
    }
   ],
   "source": [
    "df_cl_opts_oi_sum_by_date = df_cl_opts_oi[['settle_date','oi_sum_by_symbol']].groupby('settle_date').sum()\n",
    "df_cl_opts_oi_sum_by_date = df_cl_opts_oi_sum_by_date.sort_values('oi_sum_by_symbol',ascending=False)\n",
    "df_cl_opts_oi_sum_by_date"
   ]
  },
  {
   "cell_type": "code",
   "execution_count": 23,
   "metadata": {},
   "outputs": [],
   "source": [
    "# df_cl_opts_oi.to_csv('temp_folder/LO_open_interest_by_day.csv',index=False)"
   ]
  },
  {
   "cell_type": "code",
   "execution_count": 24,
   "metadata": {},
   "outputs": [
    {
     "data": {
      "text/plain": [
       "1124"
      ]
     },
     "execution_count": 24,
     "metadata": {},
     "output_type": "execute_result"
    }
   ],
   "source": [
    "len(df_cl_opts_oi)"
   ]
  },
  {
   "cell_type": "code",
   "execution_count": 25,
   "metadata": {},
   "outputs": [],
   "source": [
    "sql = f\"\"\"\n",
    "select settle_date,open_interest from {futtab} f\n",
    "where f.settle_date>=20180101 and f.contract_num=CN and substring(symbol,1,2)='CL'\n",
    "\"\"\"\n",
    "sql1 = sql.replace('CN','1')\n",
    "df1 = pga.get_sql(sql1)\n",
    "sql2 = sql.replace('CN','2')\n",
    "df2 = pga.get_sql(sql2)\n"
   ]
  },
  {
   "cell_type": "code",
   "execution_count": 26,
   "metadata": {},
   "outputs": [],
   "source": [
    "df1_oi = df1.rename(columns={'open_interest':'m1_oi'})\n",
    "df2_oi = df2.rename(columns={'open_interest':'m2_oi'})\n",
    "dfb = df1_oi.merge(df2_oi,on='settle_date',how='inner')\n",
    "dfb['oi_diff'] = dfb.m1_oi - dfb.m2_oi"
   ]
  },
  {
   "cell_type": "code",
   "execution_count": 27,
   "metadata": {},
   "outputs": [
    {
     "data": {
      "application/vnd.plotly.v1+json": {
       "config": {
        "linkText": "Export to plot.ly",
        "plotlyServerURL": "https://plot.ly",
        "showLink": false
       },
       "data": [
        {
         "name": "oi_diff",
         "type": "scatter",
         "x": [
          20180102,
          20180103,
          20180104,
          20180105,
          20180108,
          20180109,
          20180110,
          20180111,
          20180112,
          20180116,
          20180117,
          20180118,
          20180119,
          20180122,
          20180123,
          20180124,
          20180125,
          20180126,
          20180129,
          20180130,
          20180131,
          20180201,
          20180202,
          20180205,
          20180206,
          20180207,
          20180208,
          20180209,
          20180212,
          20180213,
          20180214,
          20180215,
          20180216,
          20180220,
          20180221,
          20180222,
          20180223,
          20180226,
          20180227,
          20180228,
          20180301,
          20180302,
          20180305,
          20180306,
          20180307,
          20180308,
          20180309,
          20180312,
          20180313,
          20180314,
          20180315,
          20180316,
          20180319,
          20180320,
          20180321,
          20180322,
          20180323,
          20180326,
          20180327,
          20180328,
          20180329,
          20180402,
          20180403,
          20180404,
          20180405,
          20180406,
          20180409,
          20180410,
          20180411,
          20180412,
          20180413,
          20180416,
          20180417,
          20180418,
          20180419,
          20180420,
          20180423,
          20180424,
          20180425,
          20180426,
          20180427,
          20180430,
          20180501,
          20180502,
          20180503,
          20180504,
          20180507,
          20180508,
          20180509,
          20180510,
          20180511,
          20180514,
          20180515,
          20180516,
          20180517,
          20180518,
          20180521,
          20180522,
          20180523,
          20180524,
          20180525,
          20180529,
          20180530,
          20180531,
          20180601,
          20180604,
          20180605,
          20180606,
          20180607,
          20180608,
          20180611,
          20180612,
          20180613,
          20180614,
          20180615,
          20180618,
          20180619,
          20180620,
          20180621,
          20180622,
          20180625,
          20180626,
          20180627,
          20180628,
          20180629,
          20180702,
          20180703,
          20180705,
          20180706,
          20180709,
          20180710,
          20180711,
          20180712,
          20180713,
          20180716,
          20180717,
          20180718,
          20180719,
          20180720,
          20180723,
          20180724,
          20180725,
          20180726,
          20180727,
          20180730,
          20180731,
          20180801,
          20180802,
          20180803,
          20180806,
          20180807,
          20180808,
          20180809,
          20180810,
          20180813,
          20180814,
          20180815,
          20180816,
          20180817,
          20180820,
          20180821,
          20180822,
          20180823,
          20180824,
          20180827,
          20180828,
          20180829,
          20180830,
          20180831,
          20180904,
          20180905,
          20180906,
          20180907,
          20180910,
          20180911,
          20180912,
          20180913,
          20180914,
          20180917,
          20180918,
          20180919,
          20180920,
          20180921,
          20180924,
          20180925,
          20180926,
          20180927,
          20180928,
          20181001,
          20181002,
          20181003,
          20181004,
          20181005,
          20181008,
          20181009,
          20181010,
          20181011,
          20181012,
          20181015,
          20181016,
          20181017,
          20181018,
          20181019,
          20181022,
          20181023,
          20181024,
          20181025,
          20181026,
          20181029,
          20181030,
          20181031,
          20181101,
          20181102,
          20181105,
          20181106,
          20181107,
          20181108,
          20181109,
          20181112,
          20181113,
          20181114,
          20181115,
          20181116,
          20181119,
          20181120,
          20181121,
          20181123,
          20181126,
          20181127,
          20181128,
          20181129,
          20181130,
          20181203,
          20181204,
          20181205,
          20181206,
          20181207,
          20181210,
          20181211,
          20181212,
          20181213,
          20181214,
          20181217,
          20181218,
          20181219,
          20181220,
          20181221,
          20181224,
          20181226,
          20181227,
          20181228,
          20181231,
          20190102,
          20190103,
          20190104,
          20190107,
          20190108,
          20190109,
          20190110,
          20190111,
          20190114,
          20190115,
          20190116,
          20190117,
          20190118,
          20190122,
          20190123,
          20190124,
          20190125,
          20190128,
          20190129,
          20190130,
          20190131,
          20190201,
          20190204,
          20190205,
          20190206,
          20190207,
          20190208,
          20190211,
          20190212,
          20190213,
          20190214,
          20190215,
          20190219,
          20190220,
          20190221,
          20190222,
          20190225,
          20190226,
          20190227,
          20190228,
          20190301,
          20190304,
          20190305,
          20190306,
          20190307,
          20190308,
          20190311,
          20190312,
          20190313,
          20190314,
          20190315,
          20190318,
          20190319,
          20190320,
          20190321,
          20190322,
          20190325,
          20190326,
          20190327,
          20190328,
          20190329,
          20190401,
          20190402,
          20190403,
          20190404,
          20190405,
          20190408,
          20190409,
          20190410,
          20190411,
          20190412,
          20190415,
          20190416,
          20190417,
          20190418,
          20190422,
          20190423,
          20190424,
          20190425,
          20190426,
          20190429,
          20190430,
          20190501,
          20190502,
          20190503,
          20190506,
          20190507,
          20190508,
          20190509,
          20190510,
          20190513,
          20190514,
          20190515,
          20190516,
          20190517,
          20190520,
          20190521,
          20190522,
          20190523,
          20190524,
          20190528,
          20190529,
          20190530,
          20190531,
          20190603,
          20190604,
          20190605,
          20190606,
          20190607,
          20190610,
          20190611,
          20190612,
          20190613,
          20190614,
          20190617,
          20190618,
          20190619,
          20190620,
          20190621,
          20190624,
          20190625,
          20190626,
          20190627,
          20190628,
          20190701,
          20190702,
          20190703,
          20190705,
          20190708,
          20190709,
          20190710,
          20190711,
          20190712,
          20190715,
          20190716,
          20190717,
          20190718,
          20190719,
          20190722,
          20190723,
          20190724,
          20190725,
          20190726,
          20190729,
          20190730,
          20190731,
          20190801,
          20190802,
          20190805,
          20190806,
          20190807,
          20190808,
          20190809,
          20190812,
          20190813,
          20190814,
          20190815,
          20190816,
          20190819,
          20190820,
          20190821,
          20190822,
          20190823,
          20190826,
          20190827,
          20190828,
          20190829,
          20190830,
          20190903,
          20190904,
          20190905,
          20190906,
          20190909,
          20190910,
          20190911,
          20190912,
          20190913,
          20190916,
          20190917,
          20190918,
          20190919,
          20190920,
          20190923,
          20190924,
          20190925,
          20190926,
          20190927,
          20190930,
          20191001,
          20191002,
          20191003,
          20191004,
          20191007,
          20191008,
          20191009,
          20191010,
          20191011,
          20191014,
          20191015,
          20191016,
          20191017,
          20191018,
          20191021,
          20191022,
          20191023,
          20191024,
          20191025,
          20191028,
          20191029,
          20191030,
          20191031,
          20191101,
          20191104,
          20191105,
          20191106,
          20191107,
          20191108,
          20191111,
          20191112,
          20191113,
          20191114,
          20191115,
          20191118,
          20191119,
          20191120,
          20191121,
          20191122,
          20191125,
          20191126,
          20191127,
          20191129,
          20191202,
          20191203,
          20191204,
          20191205,
          20191206,
          20191209,
          20191210,
          20191211,
          20191212,
          20191213,
          20191216,
          20191217,
          20191218,
          20191219,
          20191220,
          20191223,
          20191224,
          20191226,
          20191227,
          20191230,
          20191231,
          20200102,
          20200103,
          20200106,
          20200107,
          20200108,
          20200109,
          20200110,
          20200113,
          20200114,
          20200115,
          20200116,
          20200117,
          20200121,
          20200122,
          20200123,
          20200124,
          20200127,
          20200128,
          20200129,
          20200130,
          20200131,
          20200203,
          20200204,
          20200205,
          20200206,
          20200207,
          20200210,
          20200211,
          20200212,
          20200213,
          20200214,
          20200218,
          20200219,
          20200220,
          20200221,
          20200224,
          20200225,
          20200226,
          20200227,
          20200228,
          20200302,
          20200303,
          20200304,
          20200305,
          20200306,
          20200309,
          20200310,
          20200311,
          20200312,
          20200313,
          20200316,
          20200317,
          20200318,
          20200319,
          20200320,
          20200323,
          20200324,
          20200325,
          20200326,
          20200327,
          20200330,
          20200331,
          20200401,
          20200402,
          20200403,
          20200406,
          20200407,
          20200408,
          20200409,
          20200413,
          20200414,
          20200415,
          20200416,
          20200417,
          20200420,
          20200421,
          20200422,
          20200423,
          20200424,
          20200427,
          20200428,
          20200429,
          20200430,
          20200501,
          20200504,
          20200505,
          20200506,
          20200507,
          20200508,
          20200511,
          20200512,
          20200513,
          20200514,
          20200515
         ],
         "y": [
          93346,
          87083,
          90268,
          70283,
          57544,
          -29764,
          -100745,
          -172404,
          -239184,
          -311149,
          -395022,
          -493836,
          -531310,
          -589747,
          419572,
          413348,
          404818,
          381460,
          366060,
          354072,
          340017,
          330292,
          317226,
          275677,
          236631,
          178657,
          89183,
          -4191,
          -119742,
          -221467,
          -278239,
          -363451,
          -400803,
          -449928,
          240613,
          225151,
          238441,
          238175,
          238778,
          229119,
          219211,
          207978,
          196901,
          191954,
          151636,
          87886,
          -4550,
          -101986,
          -191139,
          -259036,
          -315587,
          -385544,
          -433947,
          -474895,
          181316,
          184719,
          167932,
          166393,
          164763,
          154848,
          132064,
          132339,
          115934,
          100681,
          77472,
          63594,
          -9430,
          -72003,
          -151647,
          -221293,
          -260507,
          -316624,
          -374459,
          -465407,
          -509906,
          -547666,
          333991,
          301156,
          288578,
          282450,
          270388,
          256608,
          253709,
          234911,
          226941,
          224261,
          198295,
          128155,
          37390,
          -19846,
          -91034,
          -156961,
          -204547,
          -292900,
          -331903,
          -429377,
          -451000,
          -499467,
          309349,
          298638,
          278986,
          272418,
          268992,
          259639,
          249317,
          233189,
          209502,
          190100,
          152026,
          79854,
          19687,
          -47976,
          -112220,
          -189180,
          -264423,
          -322310,
          -373013,
          -424263,
          188130,
          172113,
          156972,
          139363,
          139264,
          125703,
          121437,
          105704,
          109530,
          112452,
          90862,
          69416,
          15945,
          -51448,
          -87791,
          -175686,
          -265928,
          -324514,
          -390973,
          -413778,
          -454874,
          238739,
          214323,
          213639,
          209917,
          206709,
          191669,
          184852,
          167424,
          149721,
          140864,
          121363,
          96070,
          36440,
          -1082,
          -59722,
          -127620,
          -172756,
          -214775,
          -230221,
          -304072,
          -336984,
          -379803,
          232046,
          229148,
          220883,
          215903,
          210274,
          208485,
          208754,
          200102,
          197468,
          185690,
          170083,
          135251,
          110464,
          36892,
          -28194,
          -108475,
          -181655,
          -240368,
          -301202,
          -341652,
          -401075,
          126917,
          114977,
          114643,
          117132,
          117011,
          106399,
          97410,
          82240,
          82790,
          73873,
          44844,
          4462,
          -57155,
          -121229,
          -163167,
          -203710,
          -235319,
          -270692,
          -316759,
          -385461,
          -417335,
          -461034,
          278554,
          264859,
          257732,
          248715,
          241559,
          237327,
          225027,
          221783,
          220232,
          203749,
          177880,
          137736,
          91182,
          36664,
          -36459,
          -124659,
          -195949,
          -303234,
          -350192,
          -410756,
          279160,
          282496,
          275307,
          283771,
          267955,
          255623,
          257046,
          251252,
          237590,
          222708,
          213928,
          187436,
          154029,
          95984,
          27554,
          -47757,
          -129768,
          -192512,
          -265852,
          -321551,
          -375095,
          112326,
          109345,
          90818,
          87396,
          82307,
          93754,
          91188,
          81723,
          70798,
          62480,
          47609,
          22193,
          -31452,
          -85301,
          -127823,
          -199055,
          -271743,
          -319172,
          -388090,
          -427908,
          -479919,
          339359,
          336464,
          322787,
          309701,
          311170,
          301011,
          292975,
          290215,
          276528,
          255149,
          248797,
          219346,
          157620,
          76465,
          -15106,
          -89736,
          -182675,
          -251036,
          -303353,
          -369618,
          178382,
          170354,
          163391,
          145803,
          140220,
          134958,
          129139,
          113778,
          105211,
          90859,
          58802,
          14873,
          -26347,
          -96643,
          -151382,
          -207838,
          -248153,
          -299524,
          -351272,
          -416920,
          177506,
          172311,
          163899,
          147087,
          148952,
          134268,
          125313,
          130365,
          130876,
          113723,
          99873,
          86291,
          65441,
          20105,
          -41229,
          -84784,
          -147701,
          -189251,
          -239530,
          -325350,
          -370914,
          -438896,
          249787,
          246120,
          244445,
          229889,
          235991,
          225767,
          218835,
          202985,
          195746,
          165732,
          152194,
          101094,
          44158,
          -5051,
          -52162,
          -113210,
          -158200,
          -232849,
          -324627,
          -370972,
          -426663,
          269908,
          271454,
          267861,
          257699,
          248513,
          220632,
          212983,
          204255,
          197549,
          193669,
          180008,
          151865,
          100988,
          56699,
          -9372,
          -71304,
          -145473,
          -178956,
          -239710,
          -283339,
          -321970,
          123689,
          123016,
          116673,
          111539,
          115027,
          106299,
          93704,
          74169,
          70494,
          61846,
          47125,
          9871,
          -38245,
          -79525,
          -118806,
          -171463,
          -223035,
          -276057,
          -338206,
          -383297,
          -418353,
          267301,
          253518,
          240098,
          235316,
          229536,
          224843,
          208931,
          209351,
          214438,
          205702,
          189956,
          175211,
          124276,
          61582,
          19401,
          -45517,
          -145182,
          -204877,
          -248237,
          -279208,
          -347936,
          186018,
          174933,
          164568,
          159162,
          150347,
          150909,
          161512,
          160804,
          160027,
          155362,
          153305,
          141065,
          105723,
          62983,
          6404,
          -59868,
          -133561,
          -202557,
          -250238,
          -298480,
          -322061,
          -392470,
          131298,
          128850,
          125961,
          120058,
          107860,
          90977,
          95206,
          101209,
          101842,
          113047,
          106616,
          68352,
          2137,
          -75617,
          -123992,
          -199105,
          -227339,
          -265976,
          -308636,
          -362655,
          -401219,
          -424309,
          199352,
          193248,
          200729,
          197149,
          194625,
          194385,
          190298,
          185312,
          165855,
          160724,
          144404,
          105813,
          66424,
          7098,
          -63171,
          -158899,
          -220700,
          -275469,
          -343949,
          -380024,
          -449292,
          263755,
          269181,
          261245,
          257661,
          257186,
          234066,
          241461,
          217281,
          190639,
          167397,
          145148,
          97060,
          39781,
          -34083,
          -113033,
          -191206,
          -232822,
          -302461,
          -357088,
          -425553,
          176871,
          173882,
          166224,
          160473,
          162469,
          149790,
          139539,
          132559,
          117973,
          100567,
          73091,
          46333,
          328,
          -64993,
          -145688,
          -221885,
          -306039,
          -361773,
          -394519,
          -427355,
          306607,
          323600,
          327094,
          329050,
          323665,
          319965,
          316665,
          310052,
          306141,
          285789,
          264630,
          241753,
          207098,
          126525,
          62303,
          -30670,
          -134807,
          -225371,
          -305222,
          -362965,
          -397773,
          202667,
          191169,
          190595,
          182806,
          188169,
          197322,
          206676,
          181341,
          170864,
          153860,
          128732,
          67021,
          21914,
          -63083,
          -126444,
          -214573,
          -273526,
          -334179,
          -402078,
          -434924,
          -511242,
          274974,
          276674,
          278024,
          282793,
          296786,
          308425,
          321993,
          326468,
          307465,
          330581,
          279218,
          259868,
          192716,
          87818,
          -9854,
          -106667,
          -246539,
          -294881,
          -384096,
          -429445,
          -568592,
          65018,
          2763,
          -24661,
          -54474,
          -42009,
          -67551,
          -118420,
          -139512,
          -130146,
          -121569,
          -121389,
          -134962,
          -130218,
          -119500,
          -121782,
          -145579,
          -180623,
          -234762
         ],
         "yaxis": "y"
        }
       ],
       "layout": {
        "margin": {
         "b": 100
        },
        "template": {
         "data": {
          "bar": [
           {
            "error_x": {
             "color": "#2a3f5f"
            },
            "error_y": {
             "color": "#2a3f5f"
            },
            "marker": {
             "line": {
              "color": "#E5ECF6",
              "width": 0.5
             }
            },
            "type": "bar"
           }
          ],
          "barpolar": [
           {
            "marker": {
             "line": {
              "color": "#E5ECF6",
              "width": 0.5
             }
            },
            "type": "barpolar"
           }
          ],
          "carpet": [
           {
            "aaxis": {
             "endlinecolor": "#2a3f5f",
             "gridcolor": "white",
             "linecolor": "white",
             "minorgridcolor": "white",
             "startlinecolor": "#2a3f5f"
            },
            "baxis": {
             "endlinecolor": "#2a3f5f",
             "gridcolor": "white",
             "linecolor": "white",
             "minorgridcolor": "white",
             "startlinecolor": "#2a3f5f"
            },
            "type": "carpet"
           }
          ],
          "choropleth": [
           {
            "colorbar": {
             "outlinewidth": 0,
             "ticks": ""
            },
            "type": "choropleth"
           }
          ],
          "contour": [
           {
            "colorbar": {
             "outlinewidth": 0,
             "ticks": ""
            },
            "colorscale": [
             [
              0,
              "#0d0887"
             ],
             [
              0.1111111111111111,
              "#46039f"
             ],
             [
              0.2222222222222222,
              "#7201a8"
             ],
             [
              0.3333333333333333,
              "#9c179e"
             ],
             [
              0.4444444444444444,
              "#bd3786"
             ],
             [
              0.5555555555555556,
              "#d8576b"
             ],
             [
              0.6666666666666666,
              "#ed7953"
             ],
             [
              0.7777777777777778,
              "#fb9f3a"
             ],
             [
              0.8888888888888888,
              "#fdca26"
             ],
             [
              1,
              "#f0f921"
             ]
            ],
            "type": "contour"
           }
          ],
          "contourcarpet": [
           {
            "colorbar": {
             "outlinewidth": 0,
             "ticks": ""
            },
            "type": "contourcarpet"
           }
          ],
          "heatmap": [
           {
            "colorbar": {
             "outlinewidth": 0,
             "ticks": ""
            },
            "colorscale": [
             [
              0,
              "#0d0887"
             ],
             [
              0.1111111111111111,
              "#46039f"
             ],
             [
              0.2222222222222222,
              "#7201a8"
             ],
             [
              0.3333333333333333,
              "#9c179e"
             ],
             [
              0.4444444444444444,
              "#bd3786"
             ],
             [
              0.5555555555555556,
              "#d8576b"
             ],
             [
              0.6666666666666666,
              "#ed7953"
             ],
             [
              0.7777777777777778,
              "#fb9f3a"
             ],
             [
              0.8888888888888888,
              "#fdca26"
             ],
             [
              1,
              "#f0f921"
             ]
            ],
            "type": "heatmap"
           }
          ],
          "heatmapgl": [
           {
            "colorbar": {
             "outlinewidth": 0,
             "ticks": ""
            },
            "colorscale": [
             [
              0,
              "#0d0887"
             ],
             [
              0.1111111111111111,
              "#46039f"
             ],
             [
              0.2222222222222222,
              "#7201a8"
             ],
             [
              0.3333333333333333,
              "#9c179e"
             ],
             [
              0.4444444444444444,
              "#bd3786"
             ],
             [
              0.5555555555555556,
              "#d8576b"
             ],
             [
              0.6666666666666666,
              "#ed7953"
             ],
             [
              0.7777777777777778,
              "#fb9f3a"
             ],
             [
              0.8888888888888888,
              "#fdca26"
             ],
             [
              1,
              "#f0f921"
             ]
            ],
            "type": "heatmapgl"
           }
          ],
          "histogram": [
           {
            "marker": {
             "colorbar": {
              "outlinewidth": 0,
              "ticks": ""
             }
            },
            "type": "histogram"
           }
          ],
          "histogram2d": [
           {
            "colorbar": {
             "outlinewidth": 0,
             "ticks": ""
            },
            "colorscale": [
             [
              0,
              "#0d0887"
             ],
             [
              0.1111111111111111,
              "#46039f"
             ],
             [
              0.2222222222222222,
              "#7201a8"
             ],
             [
              0.3333333333333333,
              "#9c179e"
             ],
             [
              0.4444444444444444,
              "#bd3786"
             ],
             [
              0.5555555555555556,
              "#d8576b"
             ],
             [
              0.6666666666666666,
              "#ed7953"
             ],
             [
              0.7777777777777778,
              "#fb9f3a"
             ],
             [
              0.8888888888888888,
              "#fdca26"
             ],
             [
              1,
              "#f0f921"
             ]
            ],
            "type": "histogram2d"
           }
          ],
          "histogram2dcontour": [
           {
            "colorbar": {
             "outlinewidth": 0,
             "ticks": ""
            },
            "colorscale": [
             [
              0,
              "#0d0887"
             ],
             [
              0.1111111111111111,
              "#46039f"
             ],
             [
              0.2222222222222222,
              "#7201a8"
             ],
             [
              0.3333333333333333,
              "#9c179e"
             ],
             [
              0.4444444444444444,
              "#bd3786"
             ],
             [
              0.5555555555555556,
              "#d8576b"
             ],
             [
              0.6666666666666666,
              "#ed7953"
             ],
             [
              0.7777777777777778,
              "#fb9f3a"
             ],
             [
              0.8888888888888888,
              "#fdca26"
             ],
             [
              1,
              "#f0f921"
             ]
            ],
            "type": "histogram2dcontour"
           }
          ],
          "mesh3d": [
           {
            "colorbar": {
             "outlinewidth": 0,
             "ticks": ""
            },
            "type": "mesh3d"
           }
          ],
          "parcoords": [
           {
            "line": {
             "colorbar": {
              "outlinewidth": 0,
              "ticks": ""
             }
            },
            "type": "parcoords"
           }
          ],
          "pie": [
           {
            "automargin": true,
            "type": "pie"
           }
          ],
          "scatter": [
           {
            "marker": {
             "colorbar": {
              "outlinewidth": 0,
              "ticks": ""
             }
            },
            "type": "scatter"
           }
          ],
          "scatter3d": [
           {
            "line": {
             "colorbar": {
              "outlinewidth": 0,
              "ticks": ""
             }
            },
            "marker": {
             "colorbar": {
              "outlinewidth": 0,
              "ticks": ""
             }
            },
            "type": "scatter3d"
           }
          ],
          "scattercarpet": [
           {
            "marker": {
             "colorbar": {
              "outlinewidth": 0,
              "ticks": ""
             }
            },
            "type": "scattercarpet"
           }
          ],
          "scattergeo": [
           {
            "marker": {
             "colorbar": {
              "outlinewidth": 0,
              "ticks": ""
             }
            },
            "type": "scattergeo"
           }
          ],
          "scattergl": [
           {
            "marker": {
             "colorbar": {
              "outlinewidth": 0,
              "ticks": ""
             }
            },
            "type": "scattergl"
           }
          ],
          "scattermapbox": [
           {
            "marker": {
             "colorbar": {
              "outlinewidth": 0,
              "ticks": ""
             }
            },
            "type": "scattermapbox"
           }
          ],
          "scatterpolar": [
           {
            "marker": {
             "colorbar": {
              "outlinewidth": 0,
              "ticks": ""
             }
            },
            "type": "scatterpolar"
           }
          ],
          "scatterpolargl": [
           {
            "marker": {
             "colorbar": {
              "outlinewidth": 0,
              "ticks": ""
             }
            },
            "type": "scatterpolargl"
           }
          ],
          "scatterternary": [
           {
            "marker": {
             "colorbar": {
              "outlinewidth": 0,
              "ticks": ""
             }
            },
            "type": "scatterternary"
           }
          ],
          "surface": [
           {
            "colorbar": {
             "outlinewidth": 0,
             "ticks": ""
            },
            "colorscale": [
             [
              0,
              "#0d0887"
             ],
             [
              0.1111111111111111,
              "#46039f"
             ],
             [
              0.2222222222222222,
              "#7201a8"
             ],
             [
              0.3333333333333333,
              "#9c179e"
             ],
             [
              0.4444444444444444,
              "#bd3786"
             ],
             [
              0.5555555555555556,
              "#d8576b"
             ],
             [
              0.6666666666666666,
              "#ed7953"
             ],
             [
              0.7777777777777778,
              "#fb9f3a"
             ],
             [
              0.8888888888888888,
              "#fdca26"
             ],
             [
              1,
              "#f0f921"
             ]
            ],
            "type": "surface"
           }
          ],
          "table": [
           {
            "cells": {
             "fill": {
              "color": "#EBF0F8"
             },
             "line": {
              "color": "white"
             }
            },
            "header": {
             "fill": {
              "color": "#C8D4E3"
             },
             "line": {
              "color": "white"
             }
            },
            "type": "table"
           }
          ]
         },
         "layout": {
          "annotationdefaults": {
           "arrowcolor": "#2a3f5f",
           "arrowhead": 0,
           "arrowwidth": 1
          },
          "coloraxis": {
           "colorbar": {
            "outlinewidth": 0,
            "ticks": ""
           }
          },
          "colorscale": {
           "diverging": [
            [
             0,
             "#8e0152"
            ],
            [
             0.1,
             "#c51b7d"
            ],
            [
             0.2,
             "#de77ae"
            ],
            [
             0.3,
             "#f1b6da"
            ],
            [
             0.4,
             "#fde0ef"
            ],
            [
             0.5,
             "#f7f7f7"
            ],
            [
             0.6,
             "#e6f5d0"
            ],
            [
             0.7,
             "#b8e186"
            ],
            [
             0.8,
             "#7fbc41"
            ],
            [
             0.9,
             "#4d9221"
            ],
            [
             1,
             "#276419"
            ]
           ],
           "sequential": [
            [
             0,
             "#0d0887"
            ],
            [
             0.1111111111111111,
             "#46039f"
            ],
            [
             0.2222222222222222,
             "#7201a8"
            ],
            [
             0.3333333333333333,
             "#9c179e"
            ],
            [
             0.4444444444444444,
             "#bd3786"
            ],
            [
             0.5555555555555556,
             "#d8576b"
            ],
            [
             0.6666666666666666,
             "#ed7953"
            ],
            [
             0.7777777777777778,
             "#fb9f3a"
            ],
            [
             0.8888888888888888,
             "#fdca26"
            ],
            [
             1,
             "#f0f921"
            ]
           ],
           "sequentialminus": [
            [
             0,
             "#0d0887"
            ],
            [
             0.1111111111111111,
             "#46039f"
            ],
            [
             0.2222222222222222,
             "#7201a8"
            ],
            [
             0.3333333333333333,
             "#9c179e"
            ],
            [
             0.4444444444444444,
             "#bd3786"
            ],
            [
             0.5555555555555556,
             "#d8576b"
            ],
            [
             0.6666666666666666,
             "#ed7953"
            ],
            [
             0.7777777777777778,
             "#fb9f3a"
            ],
            [
             0.8888888888888888,
             "#fdca26"
            ],
            [
             1,
             "#f0f921"
            ]
           ]
          },
          "colorway": [
           "#636efa",
           "#EF553B",
           "#00cc96",
           "#ab63fa",
           "#FFA15A",
           "#19d3f3",
           "#FF6692",
           "#B6E880",
           "#FF97FF",
           "#FECB52"
          ],
          "font": {
           "color": "#2a3f5f"
          },
          "geo": {
           "bgcolor": "white",
           "lakecolor": "white",
           "landcolor": "#E5ECF6",
           "showlakes": true,
           "showland": true,
           "subunitcolor": "white"
          },
          "hoverlabel": {
           "align": "left"
          },
          "hovermode": "closest",
          "mapbox": {
           "style": "light"
          },
          "paper_bgcolor": "white",
          "plot_bgcolor": "#E5ECF6",
          "polar": {
           "angularaxis": {
            "gridcolor": "white",
            "linecolor": "white",
            "ticks": ""
           },
           "bgcolor": "#E5ECF6",
           "radialaxis": {
            "gridcolor": "white",
            "linecolor": "white",
            "ticks": ""
           }
          },
          "scene": {
           "xaxis": {
            "backgroundcolor": "#E5ECF6",
            "gridcolor": "white",
            "gridwidth": 2,
            "linecolor": "white",
            "showbackground": true,
            "ticks": "",
            "zerolinecolor": "white"
           },
           "yaxis": {
            "backgroundcolor": "#E5ECF6",
            "gridcolor": "white",
            "gridwidth": 2,
            "linecolor": "white",
            "showbackground": true,
            "ticks": "",
            "zerolinecolor": "white"
           },
           "zaxis": {
            "backgroundcolor": "#E5ECF6",
            "gridcolor": "white",
            "gridwidth": 2,
            "linecolor": "white",
            "showbackground": true,
            "ticks": "",
            "zerolinecolor": "white"
           }
          },
          "shapedefaults": {
           "line": {
            "color": "#2a3f5f"
           }
          },
          "ternary": {
           "aaxis": {
            "gridcolor": "white",
            "linecolor": "white",
            "ticks": ""
           },
           "baxis": {
            "gridcolor": "white",
            "linecolor": "white",
            "ticks": ""
           },
           "bgcolor": "#E5ECF6",
           "caxis": {
            "gridcolor": "white",
            "linecolor": "white",
            "ticks": ""
           }
          },
          "title": {
           "x": 0.05
          },
          "xaxis": {
           "automargin": true,
           "gridcolor": "white",
           "linecolor": "white",
           "ticks": "",
           "title": {
            "standoff": 15
           },
           "zerolinecolor": "white",
           "zerolinewidth": 2
          },
          "yaxis": {
           "automargin": true,
           "gridcolor": "white",
           "linecolor": "white",
           "ticks": "",
           "title": {
            "standoff": 15
           },
           "zerolinecolor": "white",
           "zerolinewidth": 2
          }
         }
        },
        "title": {
         "text": "Open Interest Month1 - Open Interest Month2",
         "x": 0.5,
         "xanchor": "center",
         "y": 0.9,
         "yanchor": "top"
        },
        "xaxis": {
         "tickangle": 45,
         "ticktext": [
          20180102,
          20180213,
          20180327,
          20180508,
          20180619,
          20180731,
          20180911,
          20181022,
          20181203,
          20190115,
          20190227,
          20190409,
          20190521,
          20190702,
          20190813,
          20190924,
          20191104,
          20191216,
          20200129,
          20200311,
          20200422
         ],
         "tickvals": [
          20180102,
          20180213,
          20180327,
          20180508,
          20180619,
          20180731,
          20180911,
          20181022,
          20181203,
          20190115,
          20190227,
          20190409,
          20190521,
          20190702,
          20190813,
          20190924,
          20191104,
          20191216,
          20200129,
          20200311,
          20200422
         ],
         "type": "category"
        },
        "yaxis": {
         "title": {
          "text": "y main"
         }
        },
        "yaxis2": {
         "overlaying": "y",
         "side": "right",
         "title": {
          "text": "y alt"
         }
        }
       }
      },
      "text/html": [
       "<div>\n",
       "        \n",
       "        \n",
       "            <div id=\"a2a9629c-676c-46a3-bdf3-cfcb1a0998b4\" class=\"plotly-graph-div\" style=\"height:525px; width:100%;\"></div>\n",
       "            <script type=\"text/javascript\">\n",
       "                require([\"plotly\"], function(Plotly) {\n",
       "                    window.PLOTLYENV=window.PLOTLYENV || {};\n",
       "                    \n",
       "                if (document.getElementById(\"a2a9629c-676c-46a3-bdf3-cfcb1a0998b4\")) {\n",
       "                    Plotly.newPlot(\n",
       "                        'a2a9629c-676c-46a3-bdf3-cfcb1a0998b4',\n",
       "                        [{\"name\": \"oi_diff\", \"type\": \"scatter\", \"x\": [20180102, 20180103, 20180104, 20180105, 20180108, 20180109, 20180110, 20180111, 20180112, 20180116, 20180117, 20180118, 20180119, 20180122, 20180123, 20180124, 20180125, 20180126, 20180129, 20180130, 20180131, 20180201, 20180202, 20180205, 20180206, 20180207, 20180208, 20180209, 20180212, 20180213, 20180214, 20180215, 20180216, 20180220, 20180221, 20180222, 20180223, 20180226, 20180227, 20180228, 20180301, 20180302, 20180305, 20180306, 20180307, 20180308, 20180309, 20180312, 20180313, 20180314, 20180315, 20180316, 20180319, 20180320, 20180321, 20180322, 20180323, 20180326, 20180327, 20180328, 20180329, 20180402, 20180403, 20180404, 20180405, 20180406, 20180409, 20180410, 20180411, 20180412, 20180413, 20180416, 20180417, 20180418, 20180419, 20180420, 20180423, 20180424, 20180425, 20180426, 20180427, 20180430, 20180501, 20180502, 20180503, 20180504, 20180507, 20180508, 20180509, 20180510, 20180511, 20180514, 20180515, 20180516, 20180517, 20180518, 20180521, 20180522, 20180523, 20180524, 20180525, 20180529, 20180530, 20180531, 20180601, 20180604, 20180605, 20180606, 20180607, 20180608, 20180611, 20180612, 20180613, 20180614, 20180615, 20180618, 20180619, 20180620, 20180621, 20180622, 20180625, 20180626, 20180627, 20180628, 20180629, 20180702, 20180703, 20180705, 20180706, 20180709, 20180710, 20180711, 20180712, 20180713, 20180716, 20180717, 20180718, 20180719, 20180720, 20180723, 20180724, 20180725, 20180726, 20180727, 20180730, 20180731, 20180801, 20180802, 20180803, 20180806, 20180807, 20180808, 20180809, 20180810, 20180813, 20180814, 20180815, 20180816, 20180817, 20180820, 20180821, 20180822, 20180823, 20180824, 20180827, 20180828, 20180829, 20180830, 20180831, 20180904, 20180905, 20180906, 20180907, 20180910, 20180911, 20180912, 20180913, 20180914, 20180917, 20180918, 20180919, 20180920, 20180921, 20180924, 20180925, 20180926, 20180927, 20180928, 20181001, 20181002, 20181003, 20181004, 20181005, 20181008, 20181009, 20181010, 20181011, 20181012, 20181015, 20181016, 20181017, 20181018, 20181019, 20181022, 20181023, 20181024, 20181025, 20181026, 20181029, 20181030, 20181031, 20181101, 20181102, 20181105, 20181106, 20181107, 20181108, 20181109, 20181112, 20181113, 20181114, 20181115, 20181116, 20181119, 20181120, 20181121, 20181123, 20181126, 20181127, 20181128, 20181129, 20181130, 20181203, 20181204, 20181205, 20181206, 20181207, 20181210, 20181211, 20181212, 20181213, 20181214, 20181217, 20181218, 20181219, 20181220, 20181221, 20181224, 20181226, 20181227, 20181228, 20181231, 20190102, 20190103, 20190104, 20190107, 20190108, 20190109, 20190110, 20190111, 20190114, 20190115, 20190116, 20190117, 20190118, 20190122, 20190123, 20190124, 20190125, 20190128, 20190129, 20190130, 20190131, 20190201, 20190204, 20190205, 20190206, 20190207, 20190208, 20190211, 20190212, 20190213, 20190214, 20190215, 20190219, 20190220, 20190221, 20190222, 20190225, 20190226, 20190227, 20190228, 20190301, 20190304, 20190305, 20190306, 20190307, 20190308, 20190311, 20190312, 20190313, 20190314, 20190315, 20190318, 20190319, 20190320, 20190321, 20190322, 20190325, 20190326, 20190327, 20190328, 20190329, 20190401, 20190402, 20190403, 20190404, 20190405, 20190408, 20190409, 20190410, 20190411, 20190412, 20190415, 20190416, 20190417, 20190418, 20190422, 20190423, 20190424, 20190425, 20190426, 20190429, 20190430, 20190501, 20190502, 20190503, 20190506, 20190507, 20190508, 20190509, 20190510, 20190513, 20190514, 20190515, 20190516, 20190517, 20190520, 20190521, 20190522, 20190523, 20190524, 20190528, 20190529, 20190530, 20190531, 20190603, 20190604, 20190605, 20190606, 20190607, 20190610, 20190611, 20190612, 20190613, 20190614, 20190617, 20190618, 20190619, 20190620, 20190621, 20190624, 20190625, 20190626, 20190627, 20190628, 20190701, 20190702, 20190703, 20190705, 20190708, 20190709, 20190710, 20190711, 20190712, 20190715, 20190716, 20190717, 20190718, 20190719, 20190722, 20190723, 20190724, 20190725, 20190726, 20190729, 20190730, 20190731, 20190801, 20190802, 20190805, 20190806, 20190807, 20190808, 20190809, 20190812, 20190813, 20190814, 20190815, 20190816, 20190819, 20190820, 20190821, 20190822, 20190823, 20190826, 20190827, 20190828, 20190829, 20190830, 20190903, 20190904, 20190905, 20190906, 20190909, 20190910, 20190911, 20190912, 20190913, 20190916, 20190917, 20190918, 20190919, 20190920, 20190923, 20190924, 20190925, 20190926, 20190927, 20190930, 20191001, 20191002, 20191003, 20191004, 20191007, 20191008, 20191009, 20191010, 20191011, 20191014, 20191015, 20191016, 20191017, 20191018, 20191021, 20191022, 20191023, 20191024, 20191025, 20191028, 20191029, 20191030, 20191031, 20191101, 20191104, 20191105, 20191106, 20191107, 20191108, 20191111, 20191112, 20191113, 20191114, 20191115, 20191118, 20191119, 20191120, 20191121, 20191122, 20191125, 20191126, 20191127, 20191129, 20191202, 20191203, 20191204, 20191205, 20191206, 20191209, 20191210, 20191211, 20191212, 20191213, 20191216, 20191217, 20191218, 20191219, 20191220, 20191223, 20191224, 20191226, 20191227, 20191230, 20191231, 20200102, 20200103, 20200106, 20200107, 20200108, 20200109, 20200110, 20200113, 20200114, 20200115, 20200116, 20200117, 20200121, 20200122, 20200123, 20200124, 20200127, 20200128, 20200129, 20200130, 20200131, 20200203, 20200204, 20200205, 20200206, 20200207, 20200210, 20200211, 20200212, 20200213, 20200214, 20200218, 20200219, 20200220, 20200221, 20200224, 20200225, 20200226, 20200227, 20200228, 20200302, 20200303, 20200304, 20200305, 20200306, 20200309, 20200310, 20200311, 20200312, 20200313, 20200316, 20200317, 20200318, 20200319, 20200320, 20200323, 20200324, 20200325, 20200326, 20200327, 20200330, 20200331, 20200401, 20200402, 20200403, 20200406, 20200407, 20200408, 20200409, 20200413, 20200414, 20200415, 20200416, 20200417, 20200420, 20200421, 20200422, 20200423, 20200424, 20200427, 20200428, 20200429, 20200430, 20200501, 20200504, 20200505, 20200506, 20200507, 20200508, 20200511, 20200512, 20200513, 20200514, 20200515], \"y\": [93346, 87083, 90268, 70283, 57544, -29764, -100745, -172404, -239184, -311149, -395022, -493836, -531310, -589747, 419572, 413348, 404818, 381460, 366060, 354072, 340017, 330292, 317226, 275677, 236631, 178657, 89183, -4191, -119742, -221467, -278239, -363451, -400803, -449928, 240613, 225151, 238441, 238175, 238778, 229119, 219211, 207978, 196901, 191954, 151636, 87886, -4550, -101986, -191139, -259036, -315587, -385544, -433947, -474895, 181316, 184719, 167932, 166393, 164763, 154848, 132064, 132339, 115934, 100681, 77472, 63594, -9430, -72003, -151647, -221293, -260507, -316624, -374459, -465407, -509906, -547666, 333991, 301156, 288578, 282450, 270388, 256608, 253709, 234911, 226941, 224261, 198295, 128155, 37390, -19846, -91034, -156961, -204547, -292900, -331903, -429377, -451000, -499467, 309349, 298638, 278986, 272418, 268992, 259639, 249317, 233189, 209502, 190100, 152026, 79854, 19687, -47976, -112220, -189180, -264423, -322310, -373013, -424263, 188130, 172113, 156972, 139363, 139264, 125703, 121437, 105704, 109530, 112452, 90862, 69416, 15945, -51448, -87791, -175686, -265928, -324514, -390973, -413778, -454874, 238739, 214323, 213639, 209917, 206709, 191669, 184852, 167424, 149721, 140864, 121363, 96070, 36440, -1082, -59722, -127620, -172756, -214775, -230221, -304072, -336984, -379803, 232046, 229148, 220883, 215903, 210274, 208485, 208754, 200102, 197468, 185690, 170083, 135251, 110464, 36892, -28194, -108475, -181655, -240368, -301202, -341652, -401075, 126917, 114977, 114643, 117132, 117011, 106399, 97410, 82240, 82790, 73873, 44844, 4462, -57155, -121229, -163167, -203710, -235319, -270692, -316759, -385461, -417335, -461034, 278554, 264859, 257732, 248715, 241559, 237327, 225027, 221783, 220232, 203749, 177880, 137736, 91182, 36664, -36459, -124659, -195949, -303234, -350192, -410756, 279160, 282496, 275307, 283771, 267955, 255623, 257046, 251252, 237590, 222708, 213928, 187436, 154029, 95984, 27554, -47757, -129768, -192512, -265852, -321551, -375095, 112326, 109345, 90818, 87396, 82307, 93754, 91188, 81723, 70798, 62480, 47609, 22193, -31452, -85301, -127823, -199055, -271743, -319172, -388090, -427908, -479919, 339359, 336464, 322787, 309701, 311170, 301011, 292975, 290215, 276528, 255149, 248797, 219346, 157620, 76465, -15106, -89736, -182675, -251036, -303353, -369618, 178382, 170354, 163391, 145803, 140220, 134958, 129139, 113778, 105211, 90859, 58802, 14873, -26347, -96643, -151382, -207838, -248153, -299524, -351272, -416920, 177506, 172311, 163899, 147087, 148952, 134268, 125313, 130365, 130876, 113723, 99873, 86291, 65441, 20105, -41229, -84784, -147701, -189251, -239530, -325350, -370914, -438896, 249787, 246120, 244445, 229889, 235991, 225767, 218835, 202985, 195746, 165732, 152194, 101094, 44158, -5051, -52162, -113210, -158200, -232849, -324627, -370972, -426663, 269908, 271454, 267861, 257699, 248513, 220632, 212983, 204255, 197549, 193669, 180008, 151865, 100988, 56699, -9372, -71304, -145473, -178956, -239710, -283339, -321970, 123689, 123016, 116673, 111539, 115027, 106299, 93704, 74169, 70494, 61846, 47125, 9871, -38245, -79525, -118806, -171463, -223035, -276057, -338206, -383297, -418353, 267301, 253518, 240098, 235316, 229536, 224843, 208931, 209351, 214438, 205702, 189956, 175211, 124276, 61582, 19401, -45517, -145182, -204877, -248237, -279208, -347936, 186018, 174933, 164568, 159162, 150347, 150909, 161512, 160804, 160027, 155362, 153305, 141065, 105723, 62983, 6404, -59868, -133561, -202557, -250238, -298480, -322061, -392470, 131298, 128850, 125961, 120058, 107860, 90977, 95206, 101209, 101842, 113047, 106616, 68352, 2137, -75617, -123992, -199105, -227339, -265976, -308636, -362655, -401219, -424309, 199352, 193248, 200729, 197149, 194625, 194385, 190298, 185312, 165855, 160724, 144404, 105813, 66424, 7098, -63171, -158899, -220700, -275469, -343949, -380024, -449292, 263755, 269181, 261245, 257661, 257186, 234066, 241461, 217281, 190639, 167397, 145148, 97060, 39781, -34083, -113033, -191206, -232822, -302461, -357088, -425553, 176871, 173882, 166224, 160473, 162469, 149790, 139539, 132559, 117973, 100567, 73091, 46333, 328, -64993, -145688, -221885, -306039, -361773, -394519, -427355, 306607, 323600, 327094, 329050, 323665, 319965, 316665, 310052, 306141, 285789, 264630, 241753, 207098, 126525, 62303, -30670, -134807, -225371, -305222, -362965, -397773, 202667, 191169, 190595, 182806, 188169, 197322, 206676, 181341, 170864, 153860, 128732, 67021, 21914, -63083, -126444, -214573, -273526, -334179, -402078, -434924, -511242, 274974, 276674, 278024, 282793, 296786, 308425, 321993, 326468, 307465, 330581, 279218, 259868, 192716, 87818, -9854, -106667, -246539, -294881, -384096, -429445, -568592, 65018, 2763, -24661, -54474, -42009, -67551, -118420, -139512, -130146, -121569, -121389, -134962, -130218, -119500, -121782, -145579, -180623, -234762], \"yaxis\": \"y\"}],\n",
       "                        {\"margin\": {\"b\": 100}, \"template\": {\"data\": {\"bar\": [{\"error_x\": {\"color\": \"#2a3f5f\"}, \"error_y\": {\"color\": \"#2a3f5f\"}, \"marker\": {\"line\": {\"color\": \"#E5ECF6\", \"width\": 0.5}}, \"type\": \"bar\"}], \"barpolar\": [{\"marker\": {\"line\": {\"color\": \"#E5ECF6\", \"width\": 0.5}}, \"type\": \"barpolar\"}], \"carpet\": [{\"aaxis\": {\"endlinecolor\": \"#2a3f5f\", \"gridcolor\": \"white\", \"linecolor\": \"white\", \"minorgridcolor\": \"white\", \"startlinecolor\": \"#2a3f5f\"}, \"baxis\": {\"endlinecolor\": \"#2a3f5f\", \"gridcolor\": \"white\", \"linecolor\": \"white\", \"minorgridcolor\": \"white\", \"startlinecolor\": \"#2a3f5f\"}, \"type\": \"carpet\"}], \"choropleth\": [{\"colorbar\": {\"outlinewidth\": 0, \"ticks\": \"\"}, \"type\": \"choropleth\"}], \"contour\": [{\"colorbar\": {\"outlinewidth\": 0, \"ticks\": \"\"}, \"colorscale\": [[0.0, \"#0d0887\"], [0.1111111111111111, \"#46039f\"], [0.2222222222222222, \"#7201a8\"], [0.3333333333333333, \"#9c179e\"], [0.4444444444444444, \"#bd3786\"], [0.5555555555555556, \"#d8576b\"], [0.6666666666666666, \"#ed7953\"], [0.7777777777777778, \"#fb9f3a\"], [0.8888888888888888, \"#fdca26\"], [1.0, \"#f0f921\"]], \"type\": \"contour\"}], \"contourcarpet\": [{\"colorbar\": {\"outlinewidth\": 0, \"ticks\": \"\"}, \"type\": \"contourcarpet\"}], \"heatmap\": [{\"colorbar\": {\"outlinewidth\": 0, \"ticks\": \"\"}, \"colorscale\": [[0.0, \"#0d0887\"], [0.1111111111111111, \"#46039f\"], [0.2222222222222222, \"#7201a8\"], [0.3333333333333333, \"#9c179e\"], [0.4444444444444444, \"#bd3786\"], [0.5555555555555556, \"#d8576b\"], [0.6666666666666666, \"#ed7953\"], [0.7777777777777778, \"#fb9f3a\"], [0.8888888888888888, \"#fdca26\"], [1.0, \"#f0f921\"]], \"type\": \"heatmap\"}], \"heatmapgl\": [{\"colorbar\": {\"outlinewidth\": 0, \"ticks\": \"\"}, \"colorscale\": [[0.0, \"#0d0887\"], [0.1111111111111111, \"#46039f\"], [0.2222222222222222, \"#7201a8\"], [0.3333333333333333, \"#9c179e\"], [0.4444444444444444, \"#bd3786\"], [0.5555555555555556, \"#d8576b\"], [0.6666666666666666, \"#ed7953\"], [0.7777777777777778, \"#fb9f3a\"], [0.8888888888888888, \"#fdca26\"], [1.0, \"#f0f921\"]], \"type\": \"heatmapgl\"}], \"histogram\": [{\"marker\": {\"colorbar\": {\"outlinewidth\": 0, \"ticks\": \"\"}}, \"type\": \"histogram\"}], \"histogram2d\": [{\"colorbar\": {\"outlinewidth\": 0, \"ticks\": \"\"}, \"colorscale\": [[0.0, \"#0d0887\"], [0.1111111111111111, \"#46039f\"], [0.2222222222222222, \"#7201a8\"], [0.3333333333333333, \"#9c179e\"], [0.4444444444444444, \"#bd3786\"], [0.5555555555555556, \"#d8576b\"], [0.6666666666666666, \"#ed7953\"], [0.7777777777777778, \"#fb9f3a\"], [0.8888888888888888, \"#fdca26\"], [1.0, \"#f0f921\"]], \"type\": \"histogram2d\"}], \"histogram2dcontour\": [{\"colorbar\": {\"outlinewidth\": 0, \"ticks\": \"\"}, \"colorscale\": [[0.0, \"#0d0887\"], [0.1111111111111111, \"#46039f\"], [0.2222222222222222, \"#7201a8\"], [0.3333333333333333, \"#9c179e\"], [0.4444444444444444, \"#bd3786\"], [0.5555555555555556, \"#d8576b\"], [0.6666666666666666, \"#ed7953\"], [0.7777777777777778, \"#fb9f3a\"], [0.8888888888888888, \"#fdca26\"], [1.0, \"#f0f921\"]], \"type\": \"histogram2dcontour\"}], \"mesh3d\": [{\"colorbar\": {\"outlinewidth\": 0, \"ticks\": \"\"}, \"type\": \"mesh3d\"}], \"parcoords\": [{\"line\": {\"colorbar\": {\"outlinewidth\": 0, \"ticks\": \"\"}}, \"type\": \"parcoords\"}], \"pie\": [{\"automargin\": true, \"type\": \"pie\"}], \"scatter\": [{\"marker\": {\"colorbar\": {\"outlinewidth\": 0, \"ticks\": \"\"}}, \"type\": \"scatter\"}], \"scatter3d\": [{\"line\": {\"colorbar\": {\"outlinewidth\": 0, \"ticks\": \"\"}}, \"marker\": {\"colorbar\": {\"outlinewidth\": 0, \"ticks\": \"\"}}, \"type\": \"scatter3d\"}], \"scattercarpet\": [{\"marker\": {\"colorbar\": {\"outlinewidth\": 0, \"ticks\": \"\"}}, \"type\": \"scattercarpet\"}], \"scattergeo\": [{\"marker\": {\"colorbar\": {\"outlinewidth\": 0, \"ticks\": \"\"}}, \"type\": \"scattergeo\"}], \"scattergl\": [{\"marker\": {\"colorbar\": {\"outlinewidth\": 0, \"ticks\": \"\"}}, \"type\": \"scattergl\"}], \"scattermapbox\": [{\"marker\": {\"colorbar\": {\"outlinewidth\": 0, \"ticks\": \"\"}}, \"type\": \"scattermapbox\"}], \"scatterpolar\": [{\"marker\": {\"colorbar\": {\"outlinewidth\": 0, \"ticks\": \"\"}}, \"type\": \"scatterpolar\"}], \"scatterpolargl\": [{\"marker\": {\"colorbar\": {\"outlinewidth\": 0, \"ticks\": \"\"}}, \"type\": \"scatterpolargl\"}], \"scatterternary\": [{\"marker\": {\"colorbar\": {\"outlinewidth\": 0, \"ticks\": \"\"}}, \"type\": \"scatterternary\"}], \"surface\": [{\"colorbar\": {\"outlinewidth\": 0, \"ticks\": \"\"}, \"colorscale\": [[0.0, \"#0d0887\"], [0.1111111111111111, \"#46039f\"], [0.2222222222222222, \"#7201a8\"], [0.3333333333333333, \"#9c179e\"], [0.4444444444444444, \"#bd3786\"], [0.5555555555555556, \"#d8576b\"], [0.6666666666666666, \"#ed7953\"], [0.7777777777777778, \"#fb9f3a\"], [0.8888888888888888, \"#fdca26\"], [1.0, \"#f0f921\"]], \"type\": \"surface\"}], \"table\": [{\"cells\": {\"fill\": {\"color\": \"#EBF0F8\"}, \"line\": {\"color\": \"white\"}}, \"header\": {\"fill\": {\"color\": \"#C8D4E3\"}, \"line\": {\"color\": \"white\"}}, \"type\": \"table\"}]}, \"layout\": {\"annotationdefaults\": {\"arrowcolor\": \"#2a3f5f\", \"arrowhead\": 0, \"arrowwidth\": 1}, \"coloraxis\": {\"colorbar\": {\"outlinewidth\": 0, \"ticks\": \"\"}}, \"colorscale\": {\"diverging\": [[0, \"#8e0152\"], [0.1, \"#c51b7d\"], [0.2, \"#de77ae\"], [0.3, \"#f1b6da\"], [0.4, \"#fde0ef\"], [0.5, \"#f7f7f7\"], [0.6, \"#e6f5d0\"], [0.7, \"#b8e186\"], [0.8, \"#7fbc41\"], [0.9, \"#4d9221\"], [1, \"#276419\"]], \"sequential\": [[0.0, \"#0d0887\"], [0.1111111111111111, \"#46039f\"], [0.2222222222222222, \"#7201a8\"], [0.3333333333333333, \"#9c179e\"], [0.4444444444444444, \"#bd3786\"], [0.5555555555555556, \"#d8576b\"], [0.6666666666666666, \"#ed7953\"], [0.7777777777777778, \"#fb9f3a\"], [0.8888888888888888, \"#fdca26\"], [1.0, \"#f0f921\"]], \"sequentialminus\": [[0.0, \"#0d0887\"], [0.1111111111111111, \"#46039f\"], [0.2222222222222222, \"#7201a8\"], [0.3333333333333333, \"#9c179e\"], [0.4444444444444444, \"#bd3786\"], [0.5555555555555556, \"#d8576b\"], [0.6666666666666666, \"#ed7953\"], [0.7777777777777778, \"#fb9f3a\"], [0.8888888888888888, \"#fdca26\"], [1.0, \"#f0f921\"]]}, \"colorway\": [\"#636efa\", \"#EF553B\", \"#00cc96\", \"#ab63fa\", \"#FFA15A\", \"#19d3f3\", \"#FF6692\", \"#B6E880\", \"#FF97FF\", \"#FECB52\"], \"font\": {\"color\": \"#2a3f5f\"}, \"geo\": {\"bgcolor\": \"white\", \"lakecolor\": \"white\", \"landcolor\": \"#E5ECF6\", \"showlakes\": true, \"showland\": true, \"subunitcolor\": \"white\"}, \"hoverlabel\": {\"align\": \"left\"}, \"hovermode\": \"closest\", \"mapbox\": {\"style\": \"light\"}, \"paper_bgcolor\": \"white\", \"plot_bgcolor\": \"#E5ECF6\", \"polar\": {\"angularaxis\": {\"gridcolor\": \"white\", \"linecolor\": \"white\", \"ticks\": \"\"}, \"bgcolor\": \"#E5ECF6\", \"radialaxis\": {\"gridcolor\": \"white\", \"linecolor\": \"white\", \"ticks\": \"\"}}, \"scene\": {\"xaxis\": {\"backgroundcolor\": \"#E5ECF6\", \"gridcolor\": \"white\", \"gridwidth\": 2, \"linecolor\": \"white\", \"showbackground\": true, \"ticks\": \"\", \"zerolinecolor\": \"white\"}, \"yaxis\": {\"backgroundcolor\": \"#E5ECF6\", \"gridcolor\": \"white\", \"gridwidth\": 2, \"linecolor\": \"white\", \"showbackground\": true, \"ticks\": \"\", \"zerolinecolor\": \"white\"}, \"zaxis\": {\"backgroundcolor\": \"#E5ECF6\", \"gridcolor\": \"white\", \"gridwidth\": 2, \"linecolor\": \"white\", \"showbackground\": true, \"ticks\": \"\", \"zerolinecolor\": \"white\"}}, \"shapedefaults\": {\"line\": {\"color\": \"#2a3f5f\"}}, \"ternary\": {\"aaxis\": {\"gridcolor\": \"white\", \"linecolor\": \"white\", \"ticks\": \"\"}, \"baxis\": {\"gridcolor\": \"white\", \"linecolor\": \"white\", \"ticks\": \"\"}, \"bgcolor\": \"#E5ECF6\", \"caxis\": {\"gridcolor\": \"white\", \"linecolor\": \"white\", \"ticks\": \"\"}}, \"title\": {\"x\": 0.05}, \"xaxis\": {\"automargin\": true, \"gridcolor\": \"white\", \"linecolor\": \"white\", \"ticks\": \"\", \"title\": {\"standoff\": 15}, \"zerolinecolor\": \"white\", \"zerolinewidth\": 2}, \"yaxis\": {\"automargin\": true, \"gridcolor\": \"white\", \"linecolor\": \"white\", \"ticks\": \"\", \"title\": {\"standoff\": 15}, \"zerolinecolor\": \"white\", \"zerolinewidth\": 2}}}, \"title\": {\"text\": \"Open Interest Month1 - Open Interest Month2\", \"x\": 0.5, \"xanchor\": \"center\", \"y\": 0.9, \"yanchor\": \"top\"}, \"xaxis\": {\"tickangle\": 45, \"ticktext\": [20180102, 20180213, 20180327, 20180508, 20180619, 20180731, 20180911, 20181022, 20181203, 20190115, 20190227, 20190409, 20190521, 20190702, 20190813, 20190924, 20191104, 20191216, 20200129, 20200311, 20200422], \"tickvals\": [20180102, 20180213, 20180327, 20180508, 20180619, 20180731, 20180911, 20181022, 20181203, 20190115, 20190227, 20190409, 20190521, 20190702, 20190813, 20190924, 20191104, 20191216, 20200129, 20200311, 20200422], \"type\": \"category\"}, \"yaxis\": {\"title\": {\"text\": \"y main\"}}, \"yaxis2\": {\"overlaying\": \"y\", \"side\": \"right\", \"title\": {\"text\": \"y alt\"}}},\n",
       "                        {\"responsive\": true}\n",
       "                    ).then(function(){\n",
       "                            \n",
       "var gd = document.getElementById('a2a9629c-676c-46a3-bdf3-cfcb1a0998b4');\n",
       "var x = new MutationObserver(function (mutations, observer) {{\n",
       "        var display = window.getComputedStyle(gd).display;\n",
       "        if (!display || display === 'none') {{\n",
       "            console.log([gd, 'removed!']);\n",
       "            Plotly.purge(gd);\n",
       "            observer.disconnect();\n",
       "        }}\n",
       "}});\n",
       "\n",
       "// Listen for the removal of the full notebook cells\n",
       "var notebookContainer = gd.closest('#notebook-container');\n",
       "if (notebookContainer) {{\n",
       "    x.observe(notebookContainer, {childList: true});\n",
       "}}\n",
       "\n",
       "// Listen for the clearing of the current output cell\n",
       "var outputEl = gd.closest('.output');\n",
       "if (outputEl) {{\n",
       "    x.observe(outputEl, {childList: true});\n",
       "}}\n",
       "\n",
       "                        })\n",
       "                };\n",
       "                });\n",
       "            </script>\n",
       "        </div>"
      ]
     },
     "metadata": {},
     "output_type": "display_data"
    }
   ],
   "source": [
    "iplot(plotly_plot(df_in=dfb[['settle_date','oi_diff']],x_column='settle_date',plot_title='Open Interest Month1 - Open Interest Month2'))"
   ]
  },
  {
   "cell_type": "code",
   "execution_count": 28,
   "metadata": {},
   "outputs": [
    {
     "data": {
      "application/vnd.plotly.v1+json": {
       "config": {
        "linkText": "Export to plot.ly",
        "plotlyServerURL": "https://plot.ly",
        "showLink": false
       },
       "data": [
        {
         "name": "oi_diff",
         "type": "scatter",
         "x": [
          20200121,
          20200122,
          20200123,
          20200124,
          20200127,
          20200128,
          20200129,
          20200130,
          20200131,
          20200203,
          20200204,
          20200205,
          20200206,
          20200207,
          20200210,
          20200211,
          20200212,
          20200213,
          20200214,
          20200218,
          20200219,
          20200220,
          20200221,
          20200224,
          20200225,
          20200226,
          20200227,
          20200228,
          20200302,
          20200303,
          20200304,
          20200305,
          20200306,
          20200309,
          20200310,
          20200311,
          20200312,
          20200313,
          20200316,
          20200317,
          20200318,
          20200319,
          20200320,
          20200323,
          20200324,
          20200325,
          20200326,
          20200327,
          20200330,
          20200331,
          20200401,
          20200402,
          20200403,
          20200406,
          20200407,
          20200408,
          20200409,
          20200413,
          20200414,
          20200415,
          20200416,
          20200417,
          20200420,
          20200421,
          20200422,
          20200423,
          20200424,
          20200427,
          20200428,
          20200429,
          20200430,
          20200501,
          20200504,
          20200505,
          20200506,
          20200507,
          20200508,
          20200511,
          20200512,
          20200513,
          20200514,
          20200515
         ],
         "y": [
          -427355,
          306607,
          323600,
          327094,
          329050,
          323665,
          319965,
          316665,
          310052,
          306141,
          285789,
          264630,
          241753,
          207098,
          126525,
          62303,
          -30670,
          -134807,
          -225371,
          -305222,
          -362965,
          -397773,
          202667,
          191169,
          190595,
          182806,
          188169,
          197322,
          206676,
          181341,
          170864,
          153860,
          128732,
          67021,
          21914,
          -63083,
          -126444,
          -214573,
          -273526,
          -334179,
          -402078,
          -434924,
          -511242,
          274974,
          276674,
          278024,
          282793,
          296786,
          308425,
          321993,
          326468,
          307465,
          330581,
          279218,
          259868,
          192716,
          87818,
          -9854,
          -106667,
          -246539,
          -294881,
          -384096,
          -429445,
          -568592,
          65018,
          2763,
          -24661,
          -54474,
          -42009,
          -67551,
          -118420,
          -139512,
          -130146,
          -121569,
          -121389,
          -134962,
          -130218,
          -119500,
          -121782,
          -145579,
          -180623,
          -234762
         ],
         "yaxis": "y"
        }
       ],
       "layout": {
        "margin": {
         "b": 100
        },
        "shapes": [
         {
          "fillcolor": "LightSalmon",
          "layer": "below",
          "line": {
           "width": 0
          },
          "opacity": 0.5,
          "type": "rect",
          "x0": 20200121,
          "x1": 20200212,
          "xref": "x",
          "y0": 0,
          "y1": 1,
          "yref": "paper"
         },
         {
          "fillcolor": "LightSalmon",
          "layer": "below",
          "line": {
           "width": 0
          },
          "opacity": 0.5,
          "type": "rect",
          "x0": 20200220,
          "x1": 20200311,
          "xref": "x",
          "y0": 0,
          "y1": 1,
          "yref": "paper"
         },
         {
          "fillcolor": "LightSalmon",
          "layer": "below",
          "line": {
           "width": 0
          },
          "opacity": 0.5,
          "type": "rect",
          "x0": 20200320,
          "x1": 20200413,
          "xref": "x",
          "y0": 0,
          "y1": 1,
          "yref": "paper"
         },
         {
          "fillcolor": "LightSalmon",
          "layer": "below",
          "line": {
           "width": 0
          },
          "opacity": 0.5,
          "type": "rect",
          "x0": 20200421,
          "x1": 20200427,
          "xref": "x",
          "y0": 0,
          "y1": 1,
          "yref": "paper"
         }
        ],
        "template": {
         "data": {
          "bar": [
           {
            "error_x": {
             "color": "#2a3f5f"
            },
            "error_y": {
             "color": "#2a3f5f"
            },
            "marker": {
             "line": {
              "color": "#E5ECF6",
              "width": 0.5
             }
            },
            "type": "bar"
           }
          ],
          "barpolar": [
           {
            "marker": {
             "line": {
              "color": "#E5ECF6",
              "width": 0.5
             }
            },
            "type": "barpolar"
           }
          ],
          "carpet": [
           {
            "aaxis": {
             "endlinecolor": "#2a3f5f",
             "gridcolor": "white",
             "linecolor": "white",
             "minorgridcolor": "white",
             "startlinecolor": "#2a3f5f"
            },
            "baxis": {
             "endlinecolor": "#2a3f5f",
             "gridcolor": "white",
             "linecolor": "white",
             "minorgridcolor": "white",
             "startlinecolor": "#2a3f5f"
            },
            "type": "carpet"
           }
          ],
          "choropleth": [
           {
            "colorbar": {
             "outlinewidth": 0,
             "ticks": ""
            },
            "type": "choropleth"
           }
          ],
          "contour": [
           {
            "colorbar": {
             "outlinewidth": 0,
             "ticks": ""
            },
            "colorscale": [
             [
              0,
              "#0d0887"
             ],
             [
              0.1111111111111111,
              "#46039f"
             ],
             [
              0.2222222222222222,
              "#7201a8"
             ],
             [
              0.3333333333333333,
              "#9c179e"
             ],
             [
              0.4444444444444444,
              "#bd3786"
             ],
             [
              0.5555555555555556,
              "#d8576b"
             ],
             [
              0.6666666666666666,
              "#ed7953"
             ],
             [
              0.7777777777777778,
              "#fb9f3a"
             ],
             [
              0.8888888888888888,
              "#fdca26"
             ],
             [
              1,
              "#f0f921"
             ]
            ],
            "type": "contour"
           }
          ],
          "contourcarpet": [
           {
            "colorbar": {
             "outlinewidth": 0,
             "ticks": ""
            },
            "type": "contourcarpet"
           }
          ],
          "heatmap": [
           {
            "colorbar": {
             "outlinewidth": 0,
             "ticks": ""
            },
            "colorscale": [
             [
              0,
              "#0d0887"
             ],
             [
              0.1111111111111111,
              "#46039f"
             ],
             [
              0.2222222222222222,
              "#7201a8"
             ],
             [
              0.3333333333333333,
              "#9c179e"
             ],
             [
              0.4444444444444444,
              "#bd3786"
             ],
             [
              0.5555555555555556,
              "#d8576b"
             ],
             [
              0.6666666666666666,
              "#ed7953"
             ],
             [
              0.7777777777777778,
              "#fb9f3a"
             ],
             [
              0.8888888888888888,
              "#fdca26"
             ],
             [
              1,
              "#f0f921"
             ]
            ],
            "type": "heatmap"
           }
          ],
          "heatmapgl": [
           {
            "colorbar": {
             "outlinewidth": 0,
             "ticks": ""
            },
            "colorscale": [
             [
              0,
              "#0d0887"
             ],
             [
              0.1111111111111111,
              "#46039f"
             ],
             [
              0.2222222222222222,
              "#7201a8"
             ],
             [
              0.3333333333333333,
              "#9c179e"
             ],
             [
              0.4444444444444444,
              "#bd3786"
             ],
             [
              0.5555555555555556,
              "#d8576b"
             ],
             [
              0.6666666666666666,
              "#ed7953"
             ],
             [
              0.7777777777777778,
              "#fb9f3a"
             ],
             [
              0.8888888888888888,
              "#fdca26"
             ],
             [
              1,
              "#f0f921"
             ]
            ],
            "type": "heatmapgl"
           }
          ],
          "histogram": [
           {
            "marker": {
             "colorbar": {
              "outlinewidth": 0,
              "ticks": ""
             }
            },
            "type": "histogram"
           }
          ],
          "histogram2d": [
           {
            "colorbar": {
             "outlinewidth": 0,
             "ticks": ""
            },
            "colorscale": [
             [
              0,
              "#0d0887"
             ],
             [
              0.1111111111111111,
              "#46039f"
             ],
             [
              0.2222222222222222,
              "#7201a8"
             ],
             [
              0.3333333333333333,
              "#9c179e"
             ],
             [
              0.4444444444444444,
              "#bd3786"
             ],
             [
              0.5555555555555556,
              "#d8576b"
             ],
             [
              0.6666666666666666,
              "#ed7953"
             ],
             [
              0.7777777777777778,
              "#fb9f3a"
             ],
             [
              0.8888888888888888,
              "#fdca26"
             ],
             [
              1,
              "#f0f921"
             ]
            ],
            "type": "histogram2d"
           }
          ],
          "histogram2dcontour": [
           {
            "colorbar": {
             "outlinewidth": 0,
             "ticks": ""
            },
            "colorscale": [
             [
              0,
              "#0d0887"
             ],
             [
              0.1111111111111111,
              "#46039f"
             ],
             [
              0.2222222222222222,
              "#7201a8"
             ],
             [
              0.3333333333333333,
              "#9c179e"
             ],
             [
              0.4444444444444444,
              "#bd3786"
             ],
             [
              0.5555555555555556,
              "#d8576b"
             ],
             [
              0.6666666666666666,
              "#ed7953"
             ],
             [
              0.7777777777777778,
              "#fb9f3a"
             ],
             [
              0.8888888888888888,
              "#fdca26"
             ],
             [
              1,
              "#f0f921"
             ]
            ],
            "type": "histogram2dcontour"
           }
          ],
          "mesh3d": [
           {
            "colorbar": {
             "outlinewidth": 0,
             "ticks": ""
            },
            "type": "mesh3d"
           }
          ],
          "parcoords": [
           {
            "line": {
             "colorbar": {
              "outlinewidth": 0,
              "ticks": ""
             }
            },
            "type": "parcoords"
           }
          ],
          "pie": [
           {
            "automargin": true,
            "type": "pie"
           }
          ],
          "scatter": [
           {
            "marker": {
             "colorbar": {
              "outlinewidth": 0,
              "ticks": ""
             }
            },
            "type": "scatter"
           }
          ],
          "scatter3d": [
           {
            "line": {
             "colorbar": {
              "outlinewidth": 0,
              "ticks": ""
             }
            },
            "marker": {
             "colorbar": {
              "outlinewidth": 0,
              "ticks": ""
             }
            },
            "type": "scatter3d"
           }
          ],
          "scattercarpet": [
           {
            "marker": {
             "colorbar": {
              "outlinewidth": 0,
              "ticks": ""
             }
            },
            "type": "scattercarpet"
           }
          ],
          "scattergeo": [
           {
            "marker": {
             "colorbar": {
              "outlinewidth": 0,
              "ticks": ""
             }
            },
            "type": "scattergeo"
           }
          ],
          "scattergl": [
           {
            "marker": {
             "colorbar": {
              "outlinewidth": 0,
              "ticks": ""
             }
            },
            "type": "scattergl"
           }
          ],
          "scattermapbox": [
           {
            "marker": {
             "colorbar": {
              "outlinewidth": 0,
              "ticks": ""
             }
            },
            "type": "scattermapbox"
           }
          ],
          "scatterpolar": [
           {
            "marker": {
             "colorbar": {
              "outlinewidth": 0,
              "ticks": ""
             }
            },
            "type": "scatterpolar"
           }
          ],
          "scatterpolargl": [
           {
            "marker": {
             "colorbar": {
              "outlinewidth": 0,
              "ticks": ""
             }
            },
            "type": "scatterpolargl"
           }
          ],
          "scatterternary": [
           {
            "marker": {
             "colorbar": {
              "outlinewidth": 0,
              "ticks": ""
             }
            },
            "type": "scatterternary"
           }
          ],
          "surface": [
           {
            "colorbar": {
             "outlinewidth": 0,
             "ticks": ""
            },
            "colorscale": [
             [
              0,
              "#0d0887"
             ],
             [
              0.1111111111111111,
              "#46039f"
             ],
             [
              0.2222222222222222,
              "#7201a8"
             ],
             [
              0.3333333333333333,
              "#9c179e"
             ],
             [
              0.4444444444444444,
              "#bd3786"
             ],
             [
              0.5555555555555556,
              "#d8576b"
             ],
             [
              0.6666666666666666,
              "#ed7953"
             ],
             [
              0.7777777777777778,
              "#fb9f3a"
             ],
             [
              0.8888888888888888,
              "#fdca26"
             ],
             [
              1,
              "#f0f921"
             ]
            ],
            "type": "surface"
           }
          ],
          "table": [
           {
            "cells": {
             "fill": {
              "color": "#EBF0F8"
             },
             "line": {
              "color": "white"
             }
            },
            "header": {
             "fill": {
              "color": "#C8D4E3"
             },
             "line": {
              "color": "white"
             }
            },
            "type": "table"
           }
          ]
         },
         "layout": {
          "annotationdefaults": {
           "arrowcolor": "#2a3f5f",
           "arrowhead": 0,
           "arrowwidth": 1
          },
          "coloraxis": {
           "colorbar": {
            "outlinewidth": 0,
            "ticks": ""
           }
          },
          "colorscale": {
           "diverging": [
            [
             0,
             "#8e0152"
            ],
            [
             0.1,
             "#c51b7d"
            ],
            [
             0.2,
             "#de77ae"
            ],
            [
             0.3,
             "#f1b6da"
            ],
            [
             0.4,
             "#fde0ef"
            ],
            [
             0.5,
             "#f7f7f7"
            ],
            [
             0.6,
             "#e6f5d0"
            ],
            [
             0.7,
             "#b8e186"
            ],
            [
             0.8,
             "#7fbc41"
            ],
            [
             0.9,
             "#4d9221"
            ],
            [
             1,
             "#276419"
            ]
           ],
           "sequential": [
            [
             0,
             "#0d0887"
            ],
            [
             0.1111111111111111,
             "#46039f"
            ],
            [
             0.2222222222222222,
             "#7201a8"
            ],
            [
             0.3333333333333333,
             "#9c179e"
            ],
            [
             0.4444444444444444,
             "#bd3786"
            ],
            [
             0.5555555555555556,
             "#d8576b"
            ],
            [
             0.6666666666666666,
             "#ed7953"
            ],
            [
             0.7777777777777778,
             "#fb9f3a"
            ],
            [
             0.8888888888888888,
             "#fdca26"
            ],
            [
             1,
             "#f0f921"
            ]
           ],
           "sequentialminus": [
            [
             0,
             "#0d0887"
            ],
            [
             0.1111111111111111,
             "#46039f"
            ],
            [
             0.2222222222222222,
             "#7201a8"
            ],
            [
             0.3333333333333333,
             "#9c179e"
            ],
            [
             0.4444444444444444,
             "#bd3786"
            ],
            [
             0.5555555555555556,
             "#d8576b"
            ],
            [
             0.6666666666666666,
             "#ed7953"
            ],
            [
             0.7777777777777778,
             "#fb9f3a"
            ],
            [
             0.8888888888888888,
             "#fdca26"
            ],
            [
             1,
             "#f0f921"
            ]
           ]
          },
          "colorway": [
           "#636efa",
           "#EF553B",
           "#00cc96",
           "#ab63fa",
           "#FFA15A",
           "#19d3f3",
           "#FF6692",
           "#B6E880",
           "#FF97FF",
           "#FECB52"
          ],
          "font": {
           "color": "#2a3f5f"
          },
          "geo": {
           "bgcolor": "white",
           "lakecolor": "white",
           "landcolor": "#E5ECF6",
           "showlakes": true,
           "showland": true,
           "subunitcolor": "white"
          },
          "hoverlabel": {
           "align": "left"
          },
          "hovermode": "closest",
          "mapbox": {
           "style": "light"
          },
          "paper_bgcolor": "white",
          "plot_bgcolor": "#E5ECF6",
          "polar": {
           "angularaxis": {
            "gridcolor": "white",
            "linecolor": "white",
            "ticks": ""
           },
           "bgcolor": "#E5ECF6",
           "radialaxis": {
            "gridcolor": "white",
            "linecolor": "white",
            "ticks": ""
           }
          },
          "scene": {
           "xaxis": {
            "backgroundcolor": "#E5ECF6",
            "gridcolor": "white",
            "gridwidth": 2,
            "linecolor": "white",
            "showbackground": true,
            "ticks": "",
            "zerolinecolor": "white"
           },
           "yaxis": {
            "backgroundcolor": "#E5ECF6",
            "gridcolor": "white",
            "gridwidth": 2,
            "linecolor": "white",
            "showbackground": true,
            "ticks": "",
            "zerolinecolor": "white"
           },
           "zaxis": {
            "backgroundcolor": "#E5ECF6",
            "gridcolor": "white",
            "gridwidth": 2,
            "linecolor": "white",
            "showbackground": true,
            "ticks": "",
            "zerolinecolor": "white"
           }
          },
          "shapedefaults": {
           "line": {
            "color": "#2a3f5f"
           }
          },
          "ternary": {
           "aaxis": {
            "gridcolor": "white",
            "linecolor": "white",
            "ticks": ""
           },
           "baxis": {
            "gridcolor": "white",
            "linecolor": "white",
            "ticks": ""
           },
           "bgcolor": "#E5ECF6",
           "caxis": {
            "gridcolor": "white",
            "linecolor": "white",
            "ticks": ""
           }
          },
          "title": {
           "x": 0.05
          },
          "xaxis": {
           "automargin": true,
           "gridcolor": "white",
           "linecolor": "white",
           "ticks": "",
           "title": {
            "standoff": 15
           },
           "zerolinecolor": "white",
           "zerolinewidth": 2
          },
          "yaxis": {
           "automargin": true,
           "gridcolor": "white",
           "linecolor": "white",
           "ticks": "",
           "title": {
            "standoff": 15
           },
           "zerolinecolor": "white",
           "zerolinewidth": 2
          }
         }
        },
        "title": {
         "text": "Open Interest Month1 - Open Interest Month2 (Last 4 rolls)",
         "x": 0.5,
         "xanchor": "center",
         "y": 0.9,
         "yanchor": "top"
        },
        "xaxis": {
         "tickangle": 45,
         "ticktext": [
          20200121,
          20200127,
          20200131,
          20200206,
          20200212,
          20200219,
          20200225,
          20200302,
          20200306,
          20200312,
          20200318,
          20200324,
          20200330,
          20200403,
          20200409,
          20200416,
          20200422,
          20200428,
          20200504,
          20200508,
          20200514
         ],
         "tickvals": [
          20200121,
          20200127,
          20200131,
          20200206,
          20200212,
          20200219,
          20200225,
          20200302,
          20200306,
          20200312,
          20200318,
          20200324,
          20200330,
          20200403,
          20200409,
          20200416,
          20200422,
          20200428,
          20200504,
          20200508,
          20200514
         ],
         "type": "category"
        },
        "yaxis": {
         "title": {
          "text": "y main"
         }
        },
        "yaxis2": {
         "overlaying": "y",
         "side": "right",
         "title": {
          "text": "y alt"
         }
        }
       }
      },
      "text/html": [
       "<div>\n",
       "        \n",
       "        \n",
       "            <div id=\"a1805839-bca2-4fa5-b499-ce15c8449da6\" class=\"plotly-graph-div\" style=\"height:525px; width:100%;\"></div>\n",
       "            <script type=\"text/javascript\">\n",
       "                require([\"plotly\"], function(Plotly) {\n",
       "                    window.PLOTLYENV=window.PLOTLYENV || {};\n",
       "                    \n",
       "                if (document.getElementById(\"a1805839-bca2-4fa5-b499-ce15c8449da6\")) {\n",
       "                    Plotly.newPlot(\n",
       "                        'a1805839-bca2-4fa5-b499-ce15c8449da6',\n",
       "                        [{\"name\": \"oi_diff\", \"type\": \"scatter\", \"x\": [20200121, 20200122, 20200123, 20200124, 20200127, 20200128, 20200129, 20200130, 20200131, 20200203, 20200204, 20200205, 20200206, 20200207, 20200210, 20200211, 20200212, 20200213, 20200214, 20200218, 20200219, 20200220, 20200221, 20200224, 20200225, 20200226, 20200227, 20200228, 20200302, 20200303, 20200304, 20200305, 20200306, 20200309, 20200310, 20200311, 20200312, 20200313, 20200316, 20200317, 20200318, 20200319, 20200320, 20200323, 20200324, 20200325, 20200326, 20200327, 20200330, 20200331, 20200401, 20200402, 20200403, 20200406, 20200407, 20200408, 20200409, 20200413, 20200414, 20200415, 20200416, 20200417, 20200420, 20200421, 20200422, 20200423, 20200424, 20200427, 20200428, 20200429, 20200430, 20200501, 20200504, 20200505, 20200506, 20200507, 20200508, 20200511, 20200512, 20200513, 20200514, 20200515], \"y\": [-427355, 306607, 323600, 327094, 329050, 323665, 319965, 316665, 310052, 306141, 285789, 264630, 241753, 207098, 126525, 62303, -30670, -134807, -225371, -305222, -362965, -397773, 202667, 191169, 190595, 182806, 188169, 197322, 206676, 181341, 170864, 153860, 128732, 67021, 21914, -63083, -126444, -214573, -273526, -334179, -402078, -434924, -511242, 274974, 276674, 278024, 282793, 296786, 308425, 321993, 326468, 307465, 330581, 279218, 259868, 192716, 87818, -9854, -106667, -246539, -294881, -384096, -429445, -568592, 65018, 2763, -24661, -54474, -42009, -67551, -118420, -139512, -130146, -121569, -121389, -134962, -130218, -119500, -121782, -145579, -180623, -234762], \"yaxis\": \"y\"}],\n",
       "                        {\"margin\": {\"b\": 100}, \"shapes\": [{\"fillcolor\": \"LightSalmon\", \"layer\": \"below\", \"line\": {\"width\": 0}, \"opacity\": 0.5, \"type\": \"rect\", \"x0\": 20200121, \"x1\": 20200212, \"xref\": \"x\", \"y0\": 0, \"y1\": 1, \"yref\": \"paper\"}, {\"fillcolor\": \"LightSalmon\", \"layer\": \"below\", \"line\": {\"width\": 0}, \"opacity\": 0.5, \"type\": \"rect\", \"x0\": 20200220, \"x1\": 20200311, \"xref\": \"x\", \"y0\": 0, \"y1\": 1, \"yref\": \"paper\"}, {\"fillcolor\": \"LightSalmon\", \"layer\": \"below\", \"line\": {\"width\": 0}, \"opacity\": 0.5, \"type\": \"rect\", \"x0\": 20200320, \"x1\": 20200413, \"xref\": \"x\", \"y0\": 0, \"y1\": 1, \"yref\": \"paper\"}, {\"fillcolor\": \"LightSalmon\", \"layer\": \"below\", \"line\": {\"width\": 0}, \"opacity\": 0.5, \"type\": \"rect\", \"x0\": 20200421, \"x1\": 20200427, \"xref\": \"x\", \"y0\": 0, \"y1\": 1, \"yref\": \"paper\"}], \"template\": {\"data\": {\"bar\": [{\"error_x\": {\"color\": \"#2a3f5f\"}, \"error_y\": {\"color\": \"#2a3f5f\"}, \"marker\": {\"line\": {\"color\": \"#E5ECF6\", \"width\": 0.5}}, \"type\": \"bar\"}], \"barpolar\": [{\"marker\": {\"line\": {\"color\": \"#E5ECF6\", \"width\": 0.5}}, \"type\": \"barpolar\"}], \"carpet\": [{\"aaxis\": {\"endlinecolor\": \"#2a3f5f\", \"gridcolor\": \"white\", \"linecolor\": \"white\", \"minorgridcolor\": \"white\", \"startlinecolor\": \"#2a3f5f\"}, \"baxis\": {\"endlinecolor\": \"#2a3f5f\", \"gridcolor\": \"white\", \"linecolor\": \"white\", \"minorgridcolor\": \"white\", \"startlinecolor\": \"#2a3f5f\"}, \"type\": \"carpet\"}], \"choropleth\": [{\"colorbar\": {\"outlinewidth\": 0, \"ticks\": \"\"}, \"type\": \"choropleth\"}], \"contour\": [{\"colorbar\": {\"outlinewidth\": 0, \"ticks\": \"\"}, \"colorscale\": [[0.0, \"#0d0887\"], [0.1111111111111111, \"#46039f\"], [0.2222222222222222, \"#7201a8\"], [0.3333333333333333, \"#9c179e\"], [0.4444444444444444, \"#bd3786\"], [0.5555555555555556, \"#d8576b\"], [0.6666666666666666, \"#ed7953\"], [0.7777777777777778, \"#fb9f3a\"], [0.8888888888888888, \"#fdca26\"], [1.0, \"#f0f921\"]], \"type\": \"contour\"}], \"contourcarpet\": [{\"colorbar\": {\"outlinewidth\": 0, \"ticks\": \"\"}, \"type\": \"contourcarpet\"}], \"heatmap\": [{\"colorbar\": {\"outlinewidth\": 0, \"ticks\": \"\"}, \"colorscale\": [[0.0, \"#0d0887\"], [0.1111111111111111, \"#46039f\"], [0.2222222222222222, \"#7201a8\"], [0.3333333333333333, \"#9c179e\"], [0.4444444444444444, \"#bd3786\"], [0.5555555555555556, \"#d8576b\"], [0.6666666666666666, \"#ed7953\"], [0.7777777777777778, \"#fb9f3a\"], [0.8888888888888888, \"#fdca26\"], [1.0, \"#f0f921\"]], \"type\": \"heatmap\"}], \"heatmapgl\": [{\"colorbar\": {\"outlinewidth\": 0, \"ticks\": \"\"}, \"colorscale\": [[0.0, \"#0d0887\"], [0.1111111111111111, \"#46039f\"], [0.2222222222222222, \"#7201a8\"], [0.3333333333333333, \"#9c179e\"], [0.4444444444444444, \"#bd3786\"], [0.5555555555555556, \"#d8576b\"], [0.6666666666666666, \"#ed7953\"], [0.7777777777777778, \"#fb9f3a\"], [0.8888888888888888, \"#fdca26\"], [1.0, \"#f0f921\"]], \"type\": \"heatmapgl\"}], \"histogram\": [{\"marker\": {\"colorbar\": {\"outlinewidth\": 0, \"ticks\": \"\"}}, \"type\": \"histogram\"}], \"histogram2d\": [{\"colorbar\": {\"outlinewidth\": 0, \"ticks\": \"\"}, \"colorscale\": [[0.0, \"#0d0887\"], [0.1111111111111111, \"#46039f\"], [0.2222222222222222, \"#7201a8\"], [0.3333333333333333, \"#9c179e\"], [0.4444444444444444, \"#bd3786\"], [0.5555555555555556, \"#d8576b\"], [0.6666666666666666, \"#ed7953\"], [0.7777777777777778, \"#fb9f3a\"], [0.8888888888888888, \"#fdca26\"], [1.0, \"#f0f921\"]], \"type\": \"histogram2d\"}], \"histogram2dcontour\": [{\"colorbar\": {\"outlinewidth\": 0, \"ticks\": \"\"}, \"colorscale\": [[0.0, \"#0d0887\"], [0.1111111111111111, \"#46039f\"], [0.2222222222222222, \"#7201a8\"], [0.3333333333333333, \"#9c179e\"], [0.4444444444444444, \"#bd3786\"], [0.5555555555555556, \"#d8576b\"], [0.6666666666666666, \"#ed7953\"], [0.7777777777777778, \"#fb9f3a\"], [0.8888888888888888, \"#fdca26\"], [1.0, \"#f0f921\"]], \"type\": \"histogram2dcontour\"}], \"mesh3d\": [{\"colorbar\": {\"outlinewidth\": 0, \"ticks\": \"\"}, \"type\": \"mesh3d\"}], \"parcoords\": [{\"line\": {\"colorbar\": {\"outlinewidth\": 0, \"ticks\": \"\"}}, \"type\": \"parcoords\"}], \"pie\": [{\"automargin\": true, \"type\": \"pie\"}], \"scatter\": [{\"marker\": {\"colorbar\": {\"outlinewidth\": 0, \"ticks\": \"\"}}, \"type\": \"scatter\"}], \"scatter3d\": [{\"line\": {\"colorbar\": {\"outlinewidth\": 0, \"ticks\": \"\"}}, \"marker\": {\"colorbar\": {\"outlinewidth\": 0, \"ticks\": \"\"}}, \"type\": \"scatter3d\"}], \"scattercarpet\": [{\"marker\": {\"colorbar\": {\"outlinewidth\": 0, \"ticks\": \"\"}}, \"type\": \"scattercarpet\"}], \"scattergeo\": [{\"marker\": {\"colorbar\": {\"outlinewidth\": 0, \"ticks\": \"\"}}, \"type\": \"scattergeo\"}], \"scattergl\": [{\"marker\": {\"colorbar\": {\"outlinewidth\": 0, \"ticks\": \"\"}}, \"type\": \"scattergl\"}], \"scattermapbox\": [{\"marker\": {\"colorbar\": {\"outlinewidth\": 0, \"ticks\": \"\"}}, \"type\": \"scattermapbox\"}], \"scatterpolar\": [{\"marker\": {\"colorbar\": {\"outlinewidth\": 0, \"ticks\": \"\"}}, \"type\": \"scatterpolar\"}], \"scatterpolargl\": [{\"marker\": {\"colorbar\": {\"outlinewidth\": 0, \"ticks\": \"\"}}, \"type\": \"scatterpolargl\"}], \"scatterternary\": [{\"marker\": {\"colorbar\": {\"outlinewidth\": 0, \"ticks\": \"\"}}, \"type\": \"scatterternary\"}], \"surface\": [{\"colorbar\": {\"outlinewidth\": 0, \"ticks\": \"\"}, \"colorscale\": [[0.0, \"#0d0887\"], [0.1111111111111111, \"#46039f\"], [0.2222222222222222, \"#7201a8\"], [0.3333333333333333, \"#9c179e\"], [0.4444444444444444, \"#bd3786\"], [0.5555555555555556, \"#d8576b\"], [0.6666666666666666, \"#ed7953\"], [0.7777777777777778, \"#fb9f3a\"], [0.8888888888888888, \"#fdca26\"], [1.0, \"#f0f921\"]], \"type\": \"surface\"}], \"table\": [{\"cells\": {\"fill\": {\"color\": \"#EBF0F8\"}, \"line\": {\"color\": \"white\"}}, \"header\": {\"fill\": {\"color\": \"#C8D4E3\"}, \"line\": {\"color\": \"white\"}}, \"type\": \"table\"}]}, \"layout\": {\"annotationdefaults\": {\"arrowcolor\": \"#2a3f5f\", \"arrowhead\": 0, \"arrowwidth\": 1}, \"coloraxis\": {\"colorbar\": {\"outlinewidth\": 0, \"ticks\": \"\"}}, \"colorscale\": {\"diverging\": [[0, \"#8e0152\"], [0.1, \"#c51b7d\"], [0.2, \"#de77ae\"], [0.3, \"#f1b6da\"], [0.4, \"#fde0ef\"], [0.5, \"#f7f7f7\"], [0.6, \"#e6f5d0\"], [0.7, \"#b8e186\"], [0.8, \"#7fbc41\"], [0.9, \"#4d9221\"], [1, \"#276419\"]], \"sequential\": [[0.0, \"#0d0887\"], [0.1111111111111111, \"#46039f\"], [0.2222222222222222, \"#7201a8\"], [0.3333333333333333, \"#9c179e\"], [0.4444444444444444, \"#bd3786\"], [0.5555555555555556, \"#d8576b\"], [0.6666666666666666, \"#ed7953\"], [0.7777777777777778, \"#fb9f3a\"], [0.8888888888888888, \"#fdca26\"], [1.0, \"#f0f921\"]], \"sequentialminus\": [[0.0, \"#0d0887\"], [0.1111111111111111, \"#46039f\"], [0.2222222222222222, \"#7201a8\"], [0.3333333333333333, \"#9c179e\"], [0.4444444444444444, \"#bd3786\"], [0.5555555555555556, \"#d8576b\"], [0.6666666666666666, \"#ed7953\"], [0.7777777777777778, \"#fb9f3a\"], [0.8888888888888888, \"#fdca26\"], [1.0, \"#f0f921\"]]}, \"colorway\": [\"#636efa\", \"#EF553B\", \"#00cc96\", \"#ab63fa\", \"#FFA15A\", \"#19d3f3\", \"#FF6692\", \"#B6E880\", \"#FF97FF\", \"#FECB52\"], \"font\": {\"color\": \"#2a3f5f\"}, \"geo\": {\"bgcolor\": \"white\", \"lakecolor\": \"white\", \"landcolor\": \"#E5ECF6\", \"showlakes\": true, \"showland\": true, \"subunitcolor\": \"white\"}, \"hoverlabel\": {\"align\": \"left\"}, \"hovermode\": \"closest\", \"mapbox\": {\"style\": \"light\"}, \"paper_bgcolor\": \"white\", \"plot_bgcolor\": \"#E5ECF6\", \"polar\": {\"angularaxis\": {\"gridcolor\": \"white\", \"linecolor\": \"white\", \"ticks\": \"\"}, \"bgcolor\": \"#E5ECF6\", \"radialaxis\": {\"gridcolor\": \"white\", \"linecolor\": \"white\", \"ticks\": \"\"}}, \"scene\": {\"xaxis\": {\"backgroundcolor\": \"#E5ECF6\", \"gridcolor\": \"white\", \"gridwidth\": 2, \"linecolor\": \"white\", \"showbackground\": true, \"ticks\": \"\", \"zerolinecolor\": \"white\"}, \"yaxis\": {\"backgroundcolor\": \"#E5ECF6\", \"gridcolor\": \"white\", \"gridwidth\": 2, \"linecolor\": \"white\", \"showbackground\": true, \"ticks\": \"\", \"zerolinecolor\": \"white\"}, \"zaxis\": {\"backgroundcolor\": \"#E5ECF6\", \"gridcolor\": \"white\", \"gridwidth\": 2, \"linecolor\": \"white\", \"showbackground\": true, \"ticks\": \"\", \"zerolinecolor\": \"white\"}}, \"shapedefaults\": {\"line\": {\"color\": \"#2a3f5f\"}}, \"ternary\": {\"aaxis\": {\"gridcolor\": \"white\", \"linecolor\": \"white\", \"ticks\": \"\"}, \"baxis\": {\"gridcolor\": \"white\", \"linecolor\": \"white\", \"ticks\": \"\"}, \"bgcolor\": \"#E5ECF6\", \"caxis\": {\"gridcolor\": \"white\", \"linecolor\": \"white\", \"ticks\": \"\"}}, \"title\": {\"x\": 0.05}, \"xaxis\": {\"automargin\": true, \"gridcolor\": \"white\", \"linecolor\": \"white\", \"ticks\": \"\", \"title\": {\"standoff\": 15}, \"zerolinecolor\": \"white\", \"zerolinewidth\": 2}, \"yaxis\": {\"automargin\": true, \"gridcolor\": \"white\", \"linecolor\": \"white\", \"ticks\": \"\", \"title\": {\"standoff\": 15}, \"zerolinecolor\": \"white\", \"zerolinewidth\": 2}}}, \"title\": {\"text\": \"Open Interest Month1 - Open Interest Month2 (Last 4 rolls)\", \"x\": 0.5, \"xanchor\": \"center\", \"y\": 0.9, \"yanchor\": \"top\"}, \"xaxis\": {\"tickangle\": 45, \"ticktext\": [20200121, 20200127, 20200131, 20200206, 20200212, 20200219, 20200225, 20200302, 20200306, 20200312, 20200318, 20200324, 20200330, 20200403, 20200409, 20200416, 20200422, 20200428, 20200504, 20200508, 20200514], \"tickvals\": [20200121, 20200127, 20200131, 20200206, 20200212, 20200219, 20200225, 20200302, 20200306, 20200312, 20200318, 20200324, 20200330, 20200403, 20200409, 20200416, 20200422, 20200428, 20200504, 20200508, 20200514], \"type\": \"category\"}, \"yaxis\": {\"title\": {\"text\": \"y main\"}}, \"yaxis2\": {\"overlaying\": \"y\", \"side\": \"right\", \"title\": {\"text\": \"y alt\"}}},\n",
       "                        {\"responsive\": true}\n",
       "                    ).then(function(){\n",
       "                            \n",
       "var gd = document.getElementById('a1805839-bca2-4fa5-b499-ce15c8449da6');\n",
       "var x = new MutationObserver(function (mutations, observer) {{\n",
       "        var display = window.getComputedStyle(gd).display;\n",
       "        if (!display || display === 'none') {{\n",
       "            console.log([gd, 'removed!']);\n",
       "            Plotly.purge(gd);\n",
       "            observer.disconnect();\n",
       "        }}\n",
       "}});\n",
       "\n",
       "// Listen for the removal of the full notebook cells\n",
       "var notebookContainer = gd.closest('#notebook-container');\n",
       "if (notebookContainer) {{\n",
       "    x.observe(notebookContainer, {childList: true});\n",
       "}}\n",
       "\n",
       "// Listen for the clearing of the current output cell\n",
       "var outputEl = gd.closest('.output');\n",
       "if (outputEl) {{\n",
       "    x.observe(outputEl, {childList: true});\n",
       "}}\n",
       "\n",
       "                        })\n",
       "                };\n",
       "                });\n",
       "            </script>\n",
       "        </div>"
      ]
     },
     "metadata": {},
     "output_type": "display_data"
    }
   ],
   "source": [
    "dfb2 = dfb[dfb.settle_date>=20200120]\n",
    "fig = plotly_plot(df_in=dfb2[['settle_date','oi_diff']],x_column='settle_date',\n",
    "                 plot_title='Open Interest Month1 - Open Interest Month2 (Last 4 rolls)')\n",
    "shade_dates = [(20200121,20200212),(20200220,20200311),(20200320,20200413),(20200421,20200427)]\n",
    "fig = plotly_shaded_rectangles(shade_dates,fig)\n",
    "iplot(fig)"
   ]
  },
  {
   "cell_type": "code",
   "execution_count": null,
   "metadata": {},
   "outputs": [],
   "source": []
  },
  {
   "cell_type": "markdown",
   "metadata": {},
   "source": [
    "## END"
   ]
  }
 ],
 "metadata": {
  "kernelspec": {
   "display_name": "Python 3",
   "language": "python",
   "name": "python3"
  },
  "language_info": {
   "codemirror_mode": {
    "name": "ipython",
    "version": 3
   },
   "file_extension": ".py",
   "mimetype": "text/x-python",
   "name": "python",
   "nbconvert_exporter": "python",
   "pygments_lexer": "ipython3",
   "version": "3.6.5"
  }
 },
 "nbformat": 4,
 "nbformat_minor": 2
}
