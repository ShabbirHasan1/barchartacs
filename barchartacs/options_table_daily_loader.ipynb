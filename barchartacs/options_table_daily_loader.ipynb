{
 "cells": [
  {
   "cell_type": "code",
   "execution_count": 9,
   "metadata": {},
   "outputs": [],
   "source": [
    "import zipfile\n",
    "import glob\n",
    "import pandas as pd\n",
    "import numpy as np\n",
    "\n",
    "from argparse import ArgumentParser\n",
    "from argparse import RawDescriptionHelpFormatter\n",
    "import sys\n",
    "import os\n",
    "if  not './' in sys.path:\n",
    "    sys.path.append('./')\n",
    "if  not '../' in sys.path:\n",
    "    sys.path.append('../')\n",
    "\n",
    "from barchartacs import build_db\n",
    "from barchartacs import db_info\n",
    "import datetime\n",
    "import io\n",
    "from tqdm import tqdm,tqdm_notebook\n",
    "from barchartacs import pg_pandas as pg\n",
    "import urllib.request, urllib.parse, urllib.error\n",
    "import ipdb\n",
    "import importlib\n",
    "# importlib.reload(db_info)"
   ]
  },
  {
   "cell_type": "code",
   "execution_count": 2,
   "metadata": {},
   "outputs": [],
   "source": [
    "WRITE_TO_POSTGRES = False\n",
    "CONTRACT_LIST = ['ES']#['CL','CB']\n",
    "STRIKE_DIVISOR = 1\n",
    "csv_temp_path = './temp_folder/df_all_temp.csv'"
   ]
  },
  {
   "cell_type": "code",
   "execution_count": 3,
   "metadata": {},
   "outputs": [],
   "source": [
    "def do_request(url,dict_headers=None):\n",
    "    '''\n",
    "    Example:\n",
    "    1. get google page\n",
    "        text_of_webpage =  do_request('https://www.google.com')\n",
    "    2. get text file from barchart daily \n",
    "        barchart_daily_text_file = do_request('http://acs.barchart.com/mri/data/opv07059.csv',dict_headers={\"Authorization\": \"Basic myauthcode\"})\n",
    "\n",
    "    '''\n",
    "    if dict_headers is None:\n",
    "        req = urllib.request.Request(url)\n",
    "    else:\n",
    "        req = urllib.request.Request(url, headers=dict_headers)\n",
    "    f = urllib.request.urlopen(req)\n",
    "    alines = f.read()#.decode('utf-8')\n",
    "    return alines"
   ]
  },
  {
   "cell_type": "code",
   "execution_count": 6,
   "metadata": {},
   "outputs": [],
   "source": [
    "def build_daily(commod_code_list,yyyymmdd=None,barchart_auth_code=None,text_file_path=None):\n",
    "    '''\n",
    "    commod_code_list: like ['ES'] or ['CL','CB']\n",
    "    yyyymmdd: like 20190705.  It must be a date in the current month\n",
    "    Example:\n",
    "    df_this_day = build_daily(['ES'],20190705)\n",
    "    '''\n",
    "    tfp = './temp_folder/opv.txt' if text_file_path is None else text_file_path\n",
    "    ymd = yyyymmdd\n",
    "    if ymd is None:\n",
    "        # get yesterday\n",
    "        ymd = int((datetime.datetime.now()-datetime.timedelta(1)).strftime('%Y%m%d'))\n",
    "    bac = barchart_auth_code\n",
    "    if bac is None:\n",
    "        bac = open('./temp_folder/barchart_authcode.txt','r').read()\n",
    "    y = str(ymd)[3]\n",
    "    mm = str(ymd)[4:6]\n",
    "    dd = str(ymd)[6:8]\n",
    "    opv = 'opv' + mm + dd + y\n",
    "    url = f'http://acs.barchart.com/mri/data/{opv}.csv'\n",
    "    dict_header = {\"Authorization\": f\"Basic {bac}\"}\n",
    "    opvtxt = do_request(url,dict_headers=dict_header)\n",
    "    opvtxt = opvtxt.decode('utf-8')\n",
    "    open(tfp,'w').write(opvtxt)\n",
    "    builder = build_db.BuildDb(None,strike_divisor=1,\n",
    "                           contract_list=commod_code_list,write_to_database=False)\n",
    "    dft = builder.build_options_pg_from_csvs(tfp)\n",
    "    return dft\n"
   ]
  },
  {
   "cell_type": "markdown",
   "metadata": {},
   "source": [
    "### Single day test for yesterday\n",
    "uncomment the line below to test for a single day"
   ]
  },
  {
   "cell_type": "code",
   "execution_count": 10,
   "metadata": {},
   "outputs": [],
   "source": [
    "# df_es = build_daily(commod_code_list=['CL','CB'])\n",
    "# df_es.head()"
   ]
  },
  {
   "cell_type": "markdown",
   "metadata": {},
   "source": [
    "### Execute a range of days"
   ]
  },
  {
   "cell_type": "code",
   "execution_count": 13,
   "metadata": {
    "scrolled": true
   },
   "outputs": [
    {
     "name": "stdout",
     "output_type": "stream",
     "text": [
      "--Return--\n",
      "None\n",
      "> \u001b[0;32m<ipython-input-13-3d93b652bf94>\u001b[0m(2)\u001b[0;36m<module>\u001b[0;34m()\u001b[0m\n",
      "\u001b[0;32m      1 \u001b[0;31m\u001b[0mdf_all\u001b[0m \u001b[0;34m=\u001b[0m \u001b[0;32mNone\u001b[0m\u001b[0;34m\u001b[0m\u001b[0m\n",
      "\u001b[0m\u001b[0;32m----> 2 \u001b[0;31m\u001b[0mipdb\u001b[0m\u001b[0;34m.\u001b[0m\u001b[0mset_trace\u001b[0m\u001b[0;34m(\u001b[0m\u001b[0;34m)\u001b[0m\u001b[0;34m\u001b[0m\u001b[0m\n",
      "\u001b[0m\u001b[0;32m      3 \u001b[0;31m\u001b[0myear\u001b[0m \u001b[0;34m=\u001b[0m \u001b[0;36m2019\u001b[0m\u001b[0;34m\u001b[0m\u001b[0m\n",
      "\u001b[0m\n",
      "ipdb> n\n",
      "> \u001b[0;32m/Users/bperlman1/Virtualenvs3/pyliverisk/lib/python3.6/site-packages/IPython/core/interactiveshell.py\u001b[0m(2966)\u001b[0;36mrun_code\u001b[0;34m()\u001b[0m\n",
      "\u001b[0;32m   2965 \u001b[0;31m                \u001b[0;31m# Reset our crash handler in place\u001b[0m\u001b[0;34m\u001b[0m\u001b[0;34m\u001b[0m\u001b[0m\n",
      "\u001b[0m\u001b[0;32m-> 2966 \u001b[0;31m                \u001b[0msys\u001b[0m\u001b[0;34m.\u001b[0m\u001b[0mexcepthook\u001b[0m \u001b[0;34m=\u001b[0m \u001b[0mold_excepthook\u001b[0m\u001b[0;34m\u001b[0m\u001b[0m\n",
      "\u001b[0m\u001b[0;32m   2967 \u001b[0;31m        \u001b[0;32mexcept\u001b[0m \u001b[0mSystemExit\u001b[0m \u001b[0;32mas\u001b[0m \u001b[0me\u001b[0m\u001b[0;34m:\u001b[0m\u001b[0;34m\u001b[0m\u001b[0m\n",
      "\u001b[0m\n",
      "ipdb> r\n",
      "--Return--\n",
      "False\n",
      "> \u001b[0;32m/Users/bperlman1/Virtualenvs3/pyliverisk/lib/python3.6/site-packages/IPython/core/interactiveshell.py\u001b[0m(2983)\u001b[0;36mrun_code\u001b[0;34m()\u001b[0m\n",
      "\u001b[0;32m   2982 \u001b[0;31m            \u001b[0moutflag\u001b[0m \u001b[0;34m=\u001b[0m \u001b[0;32mFalse\u001b[0m\u001b[0;34m\u001b[0m\u001b[0m\n",
      "\u001b[0m\u001b[0;32m-> 2983 \u001b[0;31m        \u001b[0;32mreturn\u001b[0m \u001b[0moutflag\u001b[0m\u001b[0;34m\u001b[0m\u001b[0m\n",
      "\u001b[0m\u001b[0;32m   2984 \u001b[0;31m\u001b[0;34m\u001b[0m\u001b[0m\n",
      "\u001b[0m\n",
      "ipdb> r\n",
      "> \u001b[0;32m/Users/bperlman1/Virtualenvs3/pyliverisk/lib/python3.6/site-packages/IPython/core/interactiveshell.py\u001b[0m(2900)\u001b[0;36mrun_ast_nodes\u001b[0;34m()\u001b[0m\n",
      "\u001b[0;32m   2899 \u001b[0;31m        \u001b[0;32mtry\u001b[0m\u001b[0;34m:\u001b[0m\u001b[0;34m\u001b[0m\u001b[0m\n",
      "\u001b[0m\u001b[0;32m-> 2900 \u001b[0;31m            \u001b[0;32mfor\u001b[0m \u001b[0mi\u001b[0m\u001b[0;34m,\u001b[0m \u001b[0mnode\u001b[0m \u001b[0;32min\u001b[0m \u001b[0menumerate\u001b[0m\u001b[0;34m(\u001b[0m\u001b[0mto_run_exec\u001b[0m\u001b[0;34m)\u001b[0m\u001b[0;34m:\u001b[0m\u001b[0;34m\u001b[0m\u001b[0m\n",
      "\u001b[0m\u001b[0;32m   2901 \u001b[0;31m                \u001b[0mmod\u001b[0m \u001b[0;34m=\u001b[0m \u001b[0mast\u001b[0m\u001b[0;34m.\u001b[0m\u001b[0mModule\u001b[0m\u001b[0;34m(\u001b[0m\u001b[0;34m[\u001b[0m\u001b[0mnode\u001b[0m\u001b[0;34m]\u001b[0m\u001b[0;34m)\u001b[0m\u001b[0;34m\u001b[0m\u001b[0m\n",
      "\u001b[0m\n",
      "ipdb> r\n"
     ]
    },
    {
     "data": {
      "application/vnd.jupyter.widget-view+json": {
       "model_id": "b2e9c3b482184f26a46ab42989580c33",
       "version_major": 2,
       "version_minor": 0
      },
      "text/plain": [
       "HBox(children=(IntProgress(value=0, max=6), HTML(value='')))"
      ]
     },
     "metadata": {},
     "output_type": "display_data"
    },
    {
     "name": "stdout",
     "output_type": "stream",
     "text": [
      "executing yyyymmdd 20190701 at 2019-07-10 07:55:12.723303\n",
      "executing yyyymmdd 20190702 at 2019-07-10 07:55:14.579837\n",
      "executing yyyymmdd 20190703 at 2019-07-10 07:55:16.248430\n",
      "executing yyyymmdd 20190705 at 2019-07-10 07:55:17.971058\n",
      "executing yyyymmdd 20190708 at 2019-07-10 07:55:19.710204\n",
      "executing yyyymmdd 20190709 at 2019-07-10 07:55:21.489189\n",
      "\n",
      "--Return--\n",
      "False\n",
      "> \u001b[0;32m/Users/bperlman1/Virtualenvs3/pyliverisk/lib/python3.6/site-packages/IPython/core/interactiveshell.py\u001b[0m(2931)\u001b[0;36mrun_ast_nodes\u001b[0;34m()\u001b[0m\n",
      "\u001b[0;32m   2930 \u001b[0;31m\u001b[0;34m\u001b[0m\u001b[0m\n",
      "\u001b[0m\u001b[0;32m-> 2931 \u001b[0;31m        \u001b[0;32mreturn\u001b[0m \u001b[0;32mFalse\u001b[0m\u001b[0;34m\u001b[0m\u001b[0m\n",
      "\u001b[0m\u001b[0;32m   2932 \u001b[0;31m\u001b[0;34m\u001b[0m\u001b[0m\n",
      "\u001b[0m\n",
      "ipdb> c\n"
     ]
    }
   ],
   "source": [
    "df_all = None\n",
    "ipdb.set_trace()\n",
    "year = 2019\n",
    "month = 7\n",
    "day_list = [1,2,3,5,8,9]\n",
    "for day in tqdm_notebook(day_list):\n",
    "    yyyymmdd = year*100*100 + month*100 + day\n",
    "    print(f'executing yyyymmdd {yyyymmdd} at {datetime.datetime.now()}')\n",
    "    try:\n",
    "        df_temp = build_daily(commod_code_list=CONTRACT_LIST,yyyymmdd=yyyymmdd)\n",
    "        if df_all is None:\n",
    "            df_all = df_temp.copy()\n",
    "        else:\n",
    "            df_all = df_all.append(df_temp)\n",
    "            df_all.index = list(range(len(df_all)))\n",
    "    except Exception as e:\n",
    "        bdb.logger.warn(f'ERROR MAIN LOOP: {str(e)}')\n",
    "    \n",
    "# NOW WRITE THIS DATA FOR THIS YEAR\n",
    "df_all.to_csv(csv_temp_path,index=False)\n",
    "if WRITE_TO_POSTGRES:\n",
    "    bdb.logger.info(f'MAIN LOOP: writing data for year {yyyy} to database')\n",
    "    abspath = os.path.abspath(csv_temp_path)\n",
    "    bdb.pga.exec_sql_raw(f\"COPY sec_schema.options_table FROM '{abspath}' DELIMITER ',' CSV HEADER\")    "
   ]
  },
  {
   "cell_type": "code",
   "execution_count": 16,
   "metadata": {},
   "outputs": [
    {
     "name": "stdout",
     "output_type": "stream",
     "text": [
      "(8128, 11)\n",
      "['ESH20', 'ESM20', 'ESU19', 'ESZ19']\n",
      "20190701 20190709\n"
     ]
    },
    {
     "data": {
      "text/html": [
       "<div>\n",
       "<style scoped>\n",
       "    .dataframe tbody tr th:only-of-type {\n",
       "        vertical-align: middle;\n",
       "    }\n",
       "\n",
       "    .dataframe tbody tr th {\n",
       "        vertical-align: top;\n",
       "    }\n",
       "\n",
       "    .dataframe thead th {\n",
       "        text-align: right;\n",
       "    }\n",
       "</style>\n",
       "<table border=\"1\" class=\"dataframe\">\n",
       "  <thead>\n",
       "    <tr style=\"text-align: right;\">\n",
       "      <th></th>\n",
       "      <th>symbol</th>\n",
       "      <th>strike</th>\n",
       "      <th>pc</th>\n",
       "      <th>settle_date</th>\n",
       "      <th>open</th>\n",
       "      <th>high</th>\n",
       "      <th>low</th>\n",
       "      <th>close</th>\n",
       "      <th>adj_close</th>\n",
       "      <th>volume</th>\n",
       "      <th>open_interest</th>\n",
       "    </tr>\n",
       "  </thead>\n",
       "  <tbody>\n",
       "    <tr>\n",
       "      <th>8123</th>\n",
       "      <td>ESM20</td>\n",
       "      <td>3700.0</td>\n",
       "      <td>P</td>\n",
       "      <td>20190709</td>\n",
       "      <td>0.0</td>\n",
       "      <td>715.25</td>\n",
       "      <td>715.20</td>\n",
       "      <td>715.25</td>\n",
       "      <td>715.25</td>\n",
       "      <td>0</td>\n",
       "      <td>100</td>\n",
       "    </tr>\n",
       "    <tr>\n",
       "      <th>8124</th>\n",
       "      <td>ESM20</td>\n",
       "      <td>3800.0</td>\n",
       "      <td>C</td>\n",
       "      <td>20190709</td>\n",
       "      <td>0.0</td>\n",
       "      <td>1.95</td>\n",
       "      <td>1.95</td>\n",
       "      <td>1.95</td>\n",
       "      <td>1.95</td>\n",
       "      <td>0</td>\n",
       "      <td>1</td>\n",
       "    </tr>\n",
       "    <tr>\n",
       "      <th>8125</th>\n",
       "      <td>ESM20</td>\n",
       "      <td>3800.0</td>\n",
       "      <td>P</td>\n",
       "      <td>20190709</td>\n",
       "      <td>0.0</td>\n",
       "      <td>815.25</td>\n",
       "      <td>815.20</td>\n",
       "      <td>815.25</td>\n",
       "      <td>815.25</td>\n",
       "      <td>0</td>\n",
       "      <td>0</td>\n",
       "    </tr>\n",
       "    <tr>\n",
       "      <th>8126</th>\n",
       "      <td>ESM20</td>\n",
       "      <td>3900.0</td>\n",
       "      <td>C</td>\n",
       "      <td>20190709</td>\n",
       "      <td>0.0</td>\n",
       "      <td>1.30</td>\n",
       "      <td>1.30</td>\n",
       "      <td>1.30</td>\n",
       "      <td>1.30</td>\n",
       "      <td>0</td>\n",
       "      <td>13</td>\n",
       "    </tr>\n",
       "    <tr>\n",
       "      <th>8127</th>\n",
       "      <td>ESM20</td>\n",
       "      <td>3900.0</td>\n",
       "      <td>P</td>\n",
       "      <td>20190709</td>\n",
       "      <td>0.0</td>\n",
       "      <td>915.25</td>\n",
       "      <td>915.20</td>\n",
       "      <td>915.25</td>\n",
       "      <td>915.25</td>\n",
       "      <td>0</td>\n",
       "      <td>0</td>\n",
       "    </tr>\n",
       "  </tbody>\n",
       "</table>\n",
       "</div>"
      ],
      "text/plain": [
       "     symbol  strike pc  settle_date  open    high     low   close  adj_close  \\\n",
       "8123  ESM20  3700.0  P     20190709   0.0  715.25  715.20  715.25     715.25   \n",
       "8124  ESM20  3800.0  C     20190709   0.0    1.95    1.95    1.95       1.95   \n",
       "8125  ESM20  3800.0  P     20190709   0.0  815.25  815.20  815.25     815.25   \n",
       "8126  ESM20  3900.0  C     20190709   0.0    1.30    1.30    1.30       1.30   \n",
       "8127  ESM20  3900.0  P     20190709   0.0  915.25  915.20  915.25     915.25   \n",
       "\n",
       "      volume  open_interest  \n",
       "8123       0            100  \n",
       "8124       0              1  \n",
       "8125       0              0  \n",
       "8126       0             13  \n",
       "8127       0              0  "
      ]
     },
     "execution_count": 16,
     "metadata": {},
     "output_type": "execute_result"
    }
   ],
   "source": [
    "print(df_all.shape)\n",
    "print(sorted(df_all.symbol.unique()))\n",
    "print(df_all.settle_date.min(),df_all.settle_date.max())\n",
    "df_all.tail()"
   ]
  },
  {
   "cell_type": "markdown",
   "metadata": {},
   "source": [
    "### END"
   ]
  }
 ],
 "metadata": {
  "kernelspec": {
   "display_name": "Python 3",
   "language": "python",
   "name": "python3"
  },
  "language_info": {
   "codemirror_mode": {
    "name": "ipython",
    "version": 3
   },
   "file_extension": ".py",
   "mimetype": "text/x-python",
   "name": "python",
   "nbconvert_exporter": "python",
   "pygments_lexer": "ipython3",
   "version": "3.6.5"
  }
 },
 "nbformat": 4,
 "nbformat_minor": 2
}
