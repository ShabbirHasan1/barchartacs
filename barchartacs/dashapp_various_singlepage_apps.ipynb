{
 "cells": [
  {
   "cell_type": "code",
   "execution_count": 17,
   "metadata": {},
   "outputs": [
    {
     "data": {
      "text/html": [
       "<style>.container { width:100% !important; }</style>"
      ],
      "text/plain": [
       "<IPython.core.display.HTML object>"
      ]
     },
     "metadata": {},
     "output_type": "display_data"
    }
   ],
   "source": [
    "import warnings\n",
    "warnings.filterwarnings(\"ignore\")\n",
    "from IPython.core.display import display, HTML\n",
    "display(HTML(\"<style>.container { width:100% !important; }</style>\"))"
   ]
  },
  {
   "cell_type": "markdown",
   "metadata": {},
   "source": [
    "* **This requires plotly 4.0 or greater** *\n",
    "\n",
    "### Dashapps to display:\n",
    "1. implied volatility vs time and price using a constant underlying price\n",
    "\n",
    "  * Calculate the implied volatility of each days options as if the underlying futures contract were  always some fixed value. For example, if the actual futures is 100, make that price 50, and then change all of the strike prices so that the strike prices are relative to the value 50.  \n",
    "\n",
    "    1. The 100 call would be a 50 dollar call.  \n",
    "    2. The 95 put would be a 45 dollar put.  \n",
    "    3. The 105 call would be a 55 dollar call\n",
    "   \n",
    "2. Historical vs Implied Vol\n",
    "3. General CSV Viewer and Grapher (graphing to come later)"
   ]
  },
  {
   "cell_type": "code",
   "execution_count": 18,
   "metadata": {},
   "outputs": [],
   "source": [
    "import pandas as pd\n",
    "import numpy as np\n",
    "import datetime\n",
    "import sys\n",
    "import os\n",
    "if  not './' in sys.path:\n",
    "    sys.path.append('./')\n",
    "if  not '../' in sys.path:\n",
    "    sys.path.append('../')\n",
    "\n",
    "from dashapp import single_page_from_df as spfd\n",
    "# from dashapp import dashapp2 as dashapp\n",
    "import pyarrow as pa\n",
    "import redis\n",
    "import pdb\n",
    "import pathlib\n"
   ]
  },
  {
   "cell_type": "code",
   "execution_count": 19,
   "metadata": {},
   "outputs": [],
   "source": [
    "redis_port = 6379\n",
    "redis_db = redis.Redis(host = 'localhost',port=6379,db=0)"
   ]
  },
  {
   "cell_type": "code",
   "execution_count": 20,
   "metadata": {},
   "outputs": [],
   "source": [
    "def get_redis_df(key):\n",
    "    context = pa.default_serialization_context()\n",
    "    df = context.deserialize(redis_db.get(key))\n",
    "    return df"
   ]
  },
  {
   "cell_type": "markdown",
   "metadata": {},
   "source": [
    "### Method to get constant volatility data from redis"
   ]
  },
  {
   "cell_type": "code",
   "execution_count": 21,
   "metadata": {},
   "outputs": [],
   "source": [
    "def get_cuv_imp_from_redis():\n",
    "    df_cuv_imp2 = get_redis_df('df_cuv_implied')\n",
    "    df_cuv_imp2['commod'] = df_cuv_imp2.symbol.str.slice(0,2)\n",
    "    df_cuv_imp2['contract_year'] = df_cuv_imp2.symbol.str.slice(-2,).astype(int) + 2000\n",
    "    return df_cuv_imp2\n",
    "        "
   ]
  },
  {
   "cell_type": "code",
   "execution_count": 22,
   "metadata": {
    "scrolled": true
   },
   "outputs": [
    {
     "name": "stderr",
     "output_type": "stream",
     "text": [
      "2021-03-19 07:35:37,160 - root - DEBUG - df_cuv_implied entering create_dt_div\n",
      "2021-03-19 07:35:37,181 - root - DEBUG - df_cuv_implied exiting create_dt_div\n",
      "2021-03-19 07:35:37,278 - root - INFO - This app will run at the URL: http://127.0.0.1:8814\n"
     ]
    },
    {
     "name": "stdout",
     "output_type": "stream",
     "text": [
      "Dash is running on http://127.0.0.1:8814/\n",
      "\n",
      "Dash is running on http://127.0.0.1:8814/\n",
      "\n",
      "Dash is running on http://127.0.0.1:8814/\n",
      "\n",
      "Dash is running on http://127.0.0.1:8814/\n",
      "\n",
      "Dash is running on http://127.0.0.1:8814/\n",
      "\n"
     ]
    },
    {
     "name": "stderr",
     "output_type": "stream",
     "text": [
      "2021-03-19 07:35:37,280 - dashapp.dashapp2 - INFO - Dash is running on http://127.0.0.1:8814/\n",
      "\n"
     ]
    },
    {
     "name": "stdout",
     "output_type": "stream",
     "text": [
      " Warning: This is a development server. Do not use app.run_server\n",
      " Warning: This is a development server. Do not use app.run_server\n",
      " Warning: This is a development server. Do not use app.run_server\n",
      " Warning: This is a development server. Do not use app.run_server\n",
      " Warning: This is a development server. Do not use app.run_server\n"
     ]
    },
    {
     "name": "stderr",
     "output_type": "stream",
     "text": [
      "2021-03-19 07:35:37,286 - dashapp.dashapp2 - INFO -  Warning: This is a development server. Do not use app.run_server\n"
     ]
    },
    {
     "name": "stdout",
     "output_type": "stream",
     "text": [
      " in production, use a production WSGI server like gunicorn instead.\n",
      "\n",
      " in production, use a production WSGI server like gunicorn instead.\n",
      "\n",
      " in production, use a production WSGI server like gunicorn instead.\n",
      "\n",
      " in production, use a production WSGI server like gunicorn instead.\n",
      "\n",
      " in production, use a production WSGI server like gunicorn instead.\n",
      "\n"
     ]
    },
    {
     "name": "stderr",
     "output_type": "stream",
     "text": [
      "2021-03-19 07:35:37,292 - dashapp.dashapp2 - INFO -  in production, use a production WSGI server like gunicorn instead.\n",
      "\n"
     ]
    },
    {
     "name": "stdout",
     "output_type": "stream",
     "text": [
      " * Serving Flask app \"dashapp.dashapp2\" (lazy loading)\n",
      " * Environment: production\n",
      "\u001b[31m   WARNING: This is a development server. Do not use it in a production deployment.\u001b[0m\n",
      "\u001b[2m   Use a production WSGI server instead.\u001b[0m\n",
      " * Debug mode: off\n"
     ]
    },
    {
     "name": "stderr",
     "output_type": "stream",
     "text": [
      "2021-03-19 07:35:37,330 - werkzeug - INFO -  * Running on http://127.0.0.1:8814/ (Press CTRL+C to quit)\n",
      "2021-03-19 07:35:39,471 - werkzeug - INFO - 127.0.0.1 - - [19/Mar/2021 07:35:39] \"\u001b[37mGET / HTTP/1.1\u001b[0m\" 200 -\n",
      "2021-03-19 07:35:39,540 - werkzeug - INFO - 127.0.0.1 - - [19/Mar/2021 07:35:39] \"\u001b[37mGET /assets/custom.css?m=1583299996.0 HTTP/1.1\u001b[0m\" 200 -\n",
      "2021-03-19 07:35:39,543 - werkzeug - INFO - 127.0.0.1 - - [19/Mar/2021 07:35:39] \"\u001b[37mGET /assets/dashapp_example_3_rows.css?m=1585932241.0 HTTP/1.1\u001b[0m\" 200 -\n",
      "2021-03-19 07:35:39,545 - werkzeug - INFO - 127.0.0.1 - - [19/Mar/2021 07:35:39] \"\u001b[37mGET /assets/styles.css?m=1594488104.0 HTTP/1.1\u001b[0m\" 200 -\n",
      "2021-03-19 07:35:39,551 - werkzeug - INFO - 127.0.0.1 - - [19/Mar/2021 07:35:39] \"\u001b[37mGET /_dash-component-suites/dash_renderer/react@16.v1_6_0m1596204393.13.0.min.js HTTP/1.1\u001b[0m\" 200 -\n",
      "2021-03-19 07:35:39,555 - werkzeug - INFO - 127.0.0.1 - - [19/Mar/2021 07:35:39] \"\u001b[37mGET /_dash-component-suites/dash_renderer/polyfill@7.v1_6_0m1596204393.8.7.min.js HTTP/1.1\u001b[0m\" 200 -\n",
      "2021-03-19 07:35:39,557 - werkzeug - INFO - 127.0.0.1 - - [19/Mar/2021 07:35:39] \"\u001b[37mGET /_dash-component-suites/dash_renderer/prop-types@15.v1_6_0m1596204393.7.2.min.js HTTP/1.1\u001b[0m\" 200 -\n",
      "2021-03-19 07:35:39,577 - werkzeug - INFO - 127.0.0.1 - - [19/Mar/2021 07:35:39] \"\u001b[37mGET /_dash-component-suites/dash_core_components/dash_core_components-shared.v1_10_2m1596204393.js HTTP/1.1\u001b[0m\" 200 -\n",
      "2021-03-19 07:35:39,567 - werkzeug - INFO - 127.0.0.1 - - [19/Mar/2021 07:35:39] \"\u001b[37mGET /_dash-component-suites/dash_renderer/react-dom@16.v1_6_0m1596204393.13.0.min.js HTTP/1.1\u001b[0m\" 200 -\n",
      "2021-03-19 07:35:39,581 - werkzeug - INFO - 127.0.0.1 - - [19/Mar/2021 07:35:39] \"\u001b[37mGET /_dash-component-suites/dash_table/bundle.v4_9_0m1596204393.js HTTP/1.1\u001b[0m\" 200 -\n",
      "2021-03-19 07:35:39,582 - werkzeug - INFO - 127.0.0.1 - - [19/Mar/2021 07:35:39] \"\u001b[37mGET /_dash-component-suites/dash_html_components/dash_html_components.v1_0_3m1588634869.min.js HTTP/1.1\u001b[0m\" 200 -\n",
      "2021-03-19 07:35:39,583 - werkzeug - INFO - 127.0.0.1 - - [19/Mar/2021 07:35:39] \"\u001b[37mGET /_dash-component-suites/dash_core_components/dash_core_components.v1_10_2m1596204393.min.js HTTP/1.1\u001b[0m\" 200 -\n",
      "2021-03-19 07:35:39,607 - werkzeug - INFO - 127.0.0.1 - - [19/Mar/2021 07:35:39] \"\u001b[37mGET /_dash-component-suites/dash_renderer/dash_renderer.v1_6_0m1596204393.min.js HTTP/1.1\u001b[0m\" 200 -\n",
      "2021-03-19 07:35:39,771 - werkzeug - INFO - 127.0.0.1 - - [19/Mar/2021 07:35:39] \"\u001b[37mGET /_dash-dependencies HTTP/1.1\u001b[0m\" 200 -\n",
      "2021-03-19 07:35:39,772 - werkzeug - INFO - 127.0.0.1 - - [19/Mar/2021 07:35:39] \"\u001b[37mGET /_dash-layout HTTP/1.1\u001b[0m\" 200 -\n",
      "2021-03-19 07:35:39,795 - werkzeug - INFO - 127.0.0.1 - - [19/Mar/2021 07:35:39] \"\u001b[37mPOST /_dash-update-component HTTP/1.1\u001b[0m\" 200 -\n",
      "2021-03-19 07:35:39,799 - werkzeug - INFO - 127.0.0.1 - - [19/Mar/2021 07:35:39] \"\u001b[37mPOST /_dash-update-component HTTP/1.1\u001b[0m\" 204 -\n",
      "2021-03-19 07:35:39,828 - werkzeug - INFO - 127.0.0.1 - - [19/Mar/2021 07:35:39] \"\u001b[37mGET /_dash-component-suites/dash_core_components/async-dropdown.v1_10_2m1595872686.js HTTP/1.1\u001b[0m\" 200 -\n",
      "2021-03-19 07:35:39,897 - werkzeug - INFO - 127.0.0.1 - - [19/Mar/2021 07:35:39] \"\u001b[37mGET /_dash-component-suites/dash_core_components/async-graph.v1_10_2m1595872686.js HTTP/1.1\u001b[0m\" 200 -\n",
      "2021-03-19 07:35:39,904 - werkzeug - INFO - 127.0.0.1 - - [19/Mar/2021 07:35:39] \"\u001b[37mGET /_dash-component-suites/dash_table/async-table.v4_9_0m1595873205.js HTTP/1.1\u001b[0m\" 200 -\n",
      "2021-03-19 07:35:39,931 - werkzeug - INFO - 127.0.0.1 - - [19/Mar/2021 07:35:39] \"\u001b[37mPOST /_dash-update-component HTTP/1.1\u001b[0m\" 200 -\n",
      "2021-03-19 07:35:40,048 - werkzeug - INFO - 127.0.0.1 - - [19/Mar/2021 07:35:40] \"\u001b[37mGET /_dash-component-suites/dash_core_components/async-plotlyjs.v1_10_2m1595872686.js HTTP/1.1\u001b[0m\" 200 -\n",
      "2021-03-19 07:35:40,658 - werkzeug - INFO - 127.0.0.1 - - [19/Mar/2021 07:35:40] \"\u001b[37mPOST /_dash-update-component HTTP/1.1\u001b[0m\" 200 -\n",
      "2021-03-19 07:35:40,842 - werkzeug - INFO - 127.0.0.1 - - [19/Mar/2021 07:35:40] \"\u001b[37mPOST /_dash-update-component HTTP/1.1\u001b[0m\" 200 -\n"
     ]
    },
    {
     "name": "stdout",
     "output_type": "stream",
     "text": [
      "_dash_table_update_paging_closure: page_current:0 page_size: 20\n"
     ]
    },
    {
     "name": "stderr",
     "output_type": "stream",
     "text": [
      "2021-03-19 07:36:08,864 - werkzeug - INFO - 127.0.0.1 - - [19/Mar/2021 07:36:08] \"\u001b[37mPOST /_dash-update-component HTTP/1.1\u001b[0m\" 200 -\n",
      "2021-03-19 07:36:08,892 - werkzeug - INFO - 127.0.0.1 - - [19/Mar/2021 07:36:08] \"\u001b[37mPOST /_dash-update-component HTTP/1.1\u001b[0m\" 200 -\n"
     ]
    },
    {
     "name": "stdout",
     "output_type": "stream",
     "text": [
      "_filter_query: settle_date > 20200101\n",
      "_dash_table_update_paging_closure: page_current:0 page_size: 20\n"
     ]
    },
    {
     "name": "stderr",
     "output_type": "stream",
     "text": [
      "2021-03-19 07:36:16,159 - werkzeug - INFO - 127.0.0.1 - - [19/Mar/2021 07:36:16] \"\u001b[37mPOST /_dash-update-component HTTP/1.1\u001b[0m\" 200 -\n",
      "2021-03-19 07:36:16,173 - werkzeug - INFO - 127.0.0.1 - - [19/Mar/2021 07:36:16] \"\u001b[37mPOST /_dash-update-component HTTP/1.1\u001b[0m\" 200 -\n"
     ]
    },
    {
     "name": "stdout",
     "output_type": "stream",
     "text": [
      "_filter_query: settle_date > 20210101\n",
      "_dash_table_update_paging_closure: page_current:0 page_size: 20\n"
     ]
    },
    {
     "name": "stderr",
     "output_type": "stream",
     "text": [
      "2021-03-19 07:36:22,167 - werkzeug - INFO - 127.0.0.1 - - [19/Mar/2021 07:36:22] \"\u001b[37mPOST /_dash-update-component HTTP/1.1\u001b[0m\" 200 -\n",
      "2021-03-19 07:36:22,195 - werkzeug - INFO - 127.0.0.1 - - [19/Mar/2021 07:36:22] \"\u001b[37mPOST /_dash-update-component HTTP/1.1\u001b[0m\" 200 -\n"
     ]
    },
    {
     "name": "stdout",
     "output_type": "stream",
     "text": [
      "_filter_query: settle_date > 20200101\n",
      "_dash_table_update_paging_closure: page_current:0 page_size: 20\n"
     ]
    }
   ],
   "source": [
    "if __name__=='__main__':\n",
    "    page_title = \"\"\"Show ATM Implied Volatilities\n",
    "    using a\n",
    "    Constant Underlying Price\"\"\"\n",
    "    # *************** Create other rows ****************************\n",
    "    spfd.create_dashgraph_page(\n",
    "        'df_cuv_implied',get_cuv_imp_from_redis,\n",
    "        app_title=\"Constant Underlying Vol\",\n",
    "        page_title=page_title,\n",
    "        app_port=8814,\n",
    "        run=True,\n",
    "    )\n"
   ]
  },
  {
   "cell_type": "markdown",
   "metadata": {},
   "source": [
    "###  Historical vs Implied Vol"
   ]
  },
  {
   "cell_type": "code",
   "execution_count": 23,
   "metadata": {},
   "outputs": [],
   "source": [
    "df_iv_final = pd.read_csv('./temp_folder/df_iv_final_CL.csv')"
   ]
  },
  {
   "cell_type": "code",
   "execution_count": 24,
   "metadata": {},
   "outputs": [],
   "source": [
    "df_iv_final2 = df_iv_final[['settle_date','symbol','atm_iv','close_y']]\n",
    "df_iv_final2 = df_iv_final2.groupby(['settle_date','symbol'],as_index=False).last()\n",
    "# df_iv_final3 = df_iv_final2[['settle_date','close_y']]\n",
    "#df.groupby('id')['x'].rolling(2).mean()\n",
    "# df_iv_final3['hist_vol'] = df_iv_final.close_y..apply.rolling(20).std()*256**.5\n",
    "# df_iv_final3 = df_iv_final3[~df_iv_final3.hist_vol.isna()]\n"
   ]
  },
  {
   "cell_type": "code",
   "execution_count": 25,
   "metadata": {},
   "outputs": [
    {
     "data": {
      "text/html": [
       "        <script type=\"text/javascript\">\n",
       "        window.PlotlyConfig = {MathJaxConfig: 'local'};\n",
       "        if (window.MathJax) {MathJax.Hub.Config({SVG: {font: \"STIX-Web\"}});}\n",
       "        if (typeof require !== 'undefined') {\n",
       "        require.undef(\"plotly\");\n",
       "        requirejs.config({\n",
       "            paths: {\n",
       "                'plotly': ['https://cdn.plot.ly/plotly-latest.min']\n",
       "            }\n",
       "        });\n",
       "        require(['plotly'], function(Plotly) {\n",
       "            window._Plotly = Plotly;\n",
       "        });\n",
       "        }\n",
       "        </script>\n",
       "        "
      ]
     },
     "metadata": {},
     "output_type": "display_data"
    },
    {
     "name": "stdout",
     "output_type": "stream",
     "text": [
      "  sec_db\n"
     ]
    }
   ],
   "source": [
    "from barchartacs import db_info\n",
    "import plotly.graph_objs as go\n",
    "from plotly.offline import  init_notebook_mode, iplot\n",
    "init_notebook_mode(connected=True)\n",
    "DEBUG_IT=False\n",
    "opttab = 'sec_schema.options_table'\n",
    "futtab = 'sec_schema.underlying_table'\n",
    "pga = db_info.get_db_info()\n"
   ]
  },
  {
   "cell_type": "code",
   "execution_count": 26,
   "metadata": {},
   "outputs": [],
   "source": [
    "def get_fut(symbol):\n",
    "    sql = f\"select * from {futtab} where symbol='{symbol}';\"\n",
    "    df_fut =  pga.get_sql(sql)\n",
    "    df_fut = df_fut[['settle_date','symbol','close']]\n",
    "    df_fut['hist_vol'] = df_fut.close.pct_change().rolling(20,min_periods=20).std()*256**.5\n",
    "    df_fut = df_fut[~df_fut.hist_vol.isna()]\n",
    "    return df_fut"
   ]
  },
  {
   "cell_type": "code",
   "execution_count": 27,
   "metadata": {},
   "outputs": [
    {
     "data": {
      "text/html": [
       "<div>\n",
       "<style scoped>\n",
       "    .dataframe tbody tr th:only-of-type {\n",
       "        vertical-align: middle;\n",
       "    }\n",
       "\n",
       "    .dataframe tbody tr th {\n",
       "        vertical-align: top;\n",
       "    }\n",
       "\n",
       "    .dataframe thead th {\n",
       "        text-align: right;\n",
       "    }\n",
       "</style>\n",
       "<table border=\"1\" class=\"dataframe\">\n",
       "  <thead>\n",
       "    <tr style=\"text-align: right;\">\n",
       "      <th></th>\n",
       "      <th>settle_date</th>\n",
       "      <th>symbol</th>\n",
       "      <th>atm_iv</th>\n",
       "      <th>close_y</th>\n",
       "      <th>close</th>\n",
       "      <th>hist_vol</th>\n",
       "      <th>vol_diff</th>\n",
       "    </tr>\n",
       "  </thead>\n",
       "  <tbody>\n",
       "    <tr>\n",
       "      <th>0</th>\n",
       "      <td>20110103</td>\n",
       "      <td>CLH11</td>\n",
       "      <td>27.066</td>\n",
       "      <td>92.43</td>\n",
       "      <td>92.43</td>\n",
       "      <td>11.586</td>\n",
       "      <td>15.480</td>\n",
       "    </tr>\n",
       "    <tr>\n",
       "      <th>1</th>\n",
       "      <td>20110104</td>\n",
       "      <td>CLH11</td>\n",
       "      <td>28.839</td>\n",
       "      <td>90.42</td>\n",
       "      <td>90.42</td>\n",
       "      <td>14.249</td>\n",
       "      <td>14.590</td>\n",
       "    </tr>\n",
       "    <tr>\n",
       "      <th>2</th>\n",
       "      <td>20110105</td>\n",
       "      <td>CLH11</td>\n",
       "      <td>27.565</td>\n",
       "      <td>91.42</td>\n",
       "      <td>91.42</td>\n",
       "      <td>14.677</td>\n",
       "      <td>12.888</td>\n",
       "    </tr>\n",
       "    <tr>\n",
       "      <th>3</th>\n",
       "      <td>20110106</td>\n",
       "      <td>CLH11</td>\n",
       "      <td>28.640</td>\n",
       "      <td>89.75</td>\n",
       "      <td>89.75</td>\n",
       "      <td>16.138</td>\n",
       "      <td>12.502</td>\n",
       "    </tr>\n",
       "    <tr>\n",
       "      <th>4</th>\n",
       "      <td>20110107</td>\n",
       "      <td>CLH11</td>\n",
       "      <td>28.532</td>\n",
       "      <td>89.22</td>\n",
       "      <td>89.22</td>\n",
       "      <td>16.289</td>\n",
       "      <td>12.243</td>\n",
       "    </tr>\n",
       "    <tr>\n",
       "      <th>...</th>\n",
       "      <td>...</td>\n",
       "      <td>...</td>\n",
       "      <td>...</td>\n",
       "      <td>...</td>\n",
       "      <td>...</td>\n",
       "      <td>...</td>\n",
       "      <td>...</td>\n",
       "    </tr>\n",
       "    <tr>\n",
       "      <th>2543</th>\n",
       "      <td>20210208</td>\n",
       "      <td>CLJ21</td>\n",
       "      <td>31.108</td>\n",
       "      <td>57.83</td>\n",
       "      <td>57.83</td>\n",
       "      <td>20.446</td>\n",
       "      <td>10.662</td>\n",
       "    </tr>\n",
       "    <tr>\n",
       "      <th>2544</th>\n",
       "      <td>20210209</td>\n",
       "      <td>CLJ21</td>\n",
       "      <td>30.181</td>\n",
       "      <td>58.25</td>\n",
       "      <td>58.25</td>\n",
       "      <td>20.367</td>\n",
       "      <td>9.814</td>\n",
       "    </tr>\n",
       "    <tr>\n",
       "      <th>2545</th>\n",
       "      <td>20210210</td>\n",
       "      <td>CLJ21</td>\n",
       "      <td>29.957</td>\n",
       "      <td>58.57</td>\n",
       "      <td>58.57</td>\n",
       "      <td>19.789</td>\n",
       "      <td>10.168</td>\n",
       "    </tr>\n",
       "    <tr>\n",
       "      <th>2546</th>\n",
       "      <td>20210211</td>\n",
       "      <td>CLJ21</td>\n",
       "      <td>30.499</td>\n",
       "      <td>58.14</td>\n",
       "      <td>58.14</td>\n",
       "      <td>19.995</td>\n",
       "      <td>10.504</td>\n",
       "    </tr>\n",
       "    <tr>\n",
       "      <th>2547</th>\n",
       "      <td>20210212</td>\n",
       "      <td>CLJ21</td>\n",
       "      <td>31.109</td>\n",
       "      <td>59.38</td>\n",
       "      <td>59.38</td>\n",
       "      <td>20.734</td>\n",
       "      <td>10.375</td>\n",
       "    </tr>\n",
       "  </tbody>\n",
       "</table>\n",
       "<p>2548 rows × 7 columns</p>\n",
       "</div>"
      ],
      "text/plain": [
       "      settle_date symbol  atm_iv  close_y  close  hist_vol  vol_diff\n",
       "0        20110103  CLH11  27.066    92.43  92.43    11.586    15.480\n",
       "1        20110104  CLH11  28.839    90.42  90.42    14.249    14.590\n",
       "2        20110105  CLH11  27.565    91.42  91.42    14.677    12.888\n",
       "3        20110106  CLH11  28.640    89.75  89.75    16.138    12.502\n",
       "4        20110107  CLH11  28.532    89.22  89.22    16.289    12.243\n",
       "...           ...    ...     ...      ...    ...       ...       ...\n",
       "2543     20210208  CLJ21  31.108    57.83  57.83    20.446    10.662\n",
       "2544     20210209  CLJ21  30.181    58.25  58.25    20.367     9.814\n",
       "2545     20210210  CLJ21  29.957    58.57  58.57    19.789    10.168\n",
       "2546     20210211  CLJ21  30.499    58.14  58.14    19.995    10.504\n",
       "2547     20210212  CLJ21  31.109    59.38  59.38    20.734    10.375\n",
       "\n",
       "[2548 rows x 7 columns]"
      ]
     },
     "execution_count": 27,
     "metadata": {},
     "output_type": "execute_result"
    }
   ],
   "source": [
    "df_all_fut = None\n",
    "for symbol in df_iv_final2.symbol.unique():\n",
    "    df_fut = get_fut(symbol)\n",
    "    if df_all_fut is None:\n",
    "        df_all_fut = df_fut.copy()\n",
    "    else:\n",
    "        df_all_fut = df_all_fut.append(df_fut)\n",
    "\n",
    "df_iv_final3 = df_iv_final2.merge(df_all_fut,how='inner',on=['settle_date','symbol'])\n",
    "df_iv_final3.atm_iv = df_iv_final3.atm_iv.round(5)*100\n",
    "df_iv_final3.hist_vol = df_iv_final3.hist_vol.round(5)*100\n",
    "df_iv_final3['vol_diff'] = df_iv_final3.atm_iv - df_iv_final3.hist_vol\n",
    "\n",
    "df_iv_final3        "
   ]
  },
  {
   "cell_type": "code",
   "execution_count": 28,
   "metadata": {
    "scrolled": true
   },
   "outputs": [
    {
     "name": "stderr",
     "output_type": "stream",
     "text": [
      "2021-03-19 07:37:09,227 - root - DEBUG - df_iv_final3 entering create_dt_div\n",
      "2021-03-19 07:37:09,230 - root - DEBUG - df_iv_final3 exiting create_dt_div\n",
      "2021-03-19 07:37:09,243 - root - INFO - This app will run at the URL: http://127.0.0.1:8814\n"
     ]
    },
    {
     "name": "stdout",
     "output_type": "stream",
     "text": [
      "Dash is running on http://127.0.0.1:8814/\n",
      "\n",
      "Dash is running on http://127.0.0.1:8814/\n",
      "\n",
      "Dash is running on http://127.0.0.1:8814/\n",
      "\n",
      "Dash is running on http://127.0.0.1:8814/\n",
      "\n",
      "Dash is running on http://127.0.0.1:8814/\n",
      "\n",
      "Dash is running on http://127.0.0.1:8814/\n",
      "\n"
     ]
    },
    {
     "name": "stderr",
     "output_type": "stream",
     "text": [
      "2021-03-19 07:37:09,244 - dashapp.dashapp2 - INFO - Dash is running on http://127.0.0.1:8814/\n",
      "\n"
     ]
    },
    {
     "name": "stdout",
     "output_type": "stream",
     "text": [
      " Warning: This is a development server. Do not use app.run_server\n",
      " Warning: This is a development server. Do not use app.run_server\n",
      " Warning: This is a development server. Do not use app.run_server\n",
      " Warning: This is a development server. Do not use app.run_server\n",
      " Warning: This is a development server. Do not use app.run_server\n",
      " Warning: This is a development server. Do not use app.run_server\n"
     ]
    },
    {
     "name": "stderr",
     "output_type": "stream",
     "text": [
      "2021-03-19 07:37:09,251 - dashapp.dashapp2 - INFO -  Warning: This is a development server. Do not use app.run_server\n"
     ]
    },
    {
     "name": "stdout",
     "output_type": "stream",
     "text": [
      " in production, use a production WSGI server like gunicorn instead.\n",
      "\n",
      " in production, use a production WSGI server like gunicorn instead.\n",
      "\n",
      " in production, use a production WSGI server like gunicorn instead.\n",
      "\n",
      " in production, use a production WSGI server like gunicorn instead.\n",
      "\n",
      " in production, use a production WSGI server like gunicorn instead.\n",
      "\n",
      " in production, use a production WSGI server like gunicorn instead.\n",
      "\n"
     ]
    },
    {
     "name": "stderr",
     "output_type": "stream",
     "text": [
      "2021-03-19 07:37:09,260 - dashapp.dashapp2 - INFO -  in production, use a production WSGI server like gunicorn instead.\n",
      "\n"
     ]
    },
    {
     "name": "stdout",
     "output_type": "stream",
     "text": [
      " * Serving Flask app \"dashapp.dashapp2\" (lazy loading)\n",
      " * Environment: production\n",
      "\u001b[31m   WARNING: This is a development server. Do not use it in a production deployment.\u001b[0m\n",
      "\u001b[2m   Use a production WSGI server instead.\u001b[0m\n",
      " * Debug mode: off\n"
     ]
    },
    {
     "name": "stderr",
     "output_type": "stream",
     "text": [
      "2021-03-19 07:37:09,280 - werkzeug - INFO -  * Running on http://127.0.0.1:8814/ (Press CTRL+C to quit)\n",
      "2021-03-19 07:37:13,966 - werkzeug - INFO - 127.0.0.1 - - [19/Mar/2021 07:37:13] \"\u001b[37mGET / HTTP/1.1\u001b[0m\" 200 -\n",
      "2021-03-19 07:37:14,381 - werkzeug - INFO - 127.0.0.1 - - [19/Mar/2021 07:37:14] \"\u001b[37mGET /_dash-dependencies HTTP/1.1\u001b[0m\" 200 -\n",
      "2021-03-19 07:37:14,389 - werkzeug - INFO - 127.0.0.1 - - [19/Mar/2021 07:37:14] \"\u001b[37mGET /_dash-layout HTTP/1.1\u001b[0m\" 200 -\n",
      "2021-03-19 07:37:14,430 - werkzeug - INFO - 127.0.0.1 - - [19/Mar/2021 07:37:14] \"\u001b[37mPOST /_dash-update-component HTTP/1.1\u001b[0m\" 200 -\n",
      "2021-03-19 07:37:14,477 - werkzeug - INFO - 127.0.0.1 - - [19/Mar/2021 07:37:14] \"\u001b[37mPOST /_dash-update-component HTTP/1.1\u001b[0m\" 204 -\n",
      "2021-03-19 07:37:15,345 - werkzeug - INFO - 127.0.0.1 - - [19/Mar/2021 07:37:15] \"\u001b[37mPOST /_dash-update-component HTTP/1.1\u001b[0m\" 200 -\n",
      "2021-03-19 07:37:15,356 - werkzeug - INFO - 127.0.0.1 - - [19/Mar/2021 07:37:15] \"\u001b[37mPOST /_dash-update-component HTTP/1.1\u001b[0m\" 200 -\n",
      "2021-03-19 07:37:15,399 - werkzeug - INFO - 127.0.0.1 - - [19/Mar/2021 07:37:15] \"\u001b[37mPOST /_dash-update-component HTTP/1.1\u001b[0m\" 200 -\n"
     ]
    },
    {
     "name": "stdout",
     "output_type": "stream",
     "text": [
      "_dash_table_update_paging_closure: page_current:0 page_size: 20\n"
     ]
    },
    {
     "name": "stderr",
     "output_type": "stream",
     "text": [
      "2021-03-19 07:37:37,410 - werkzeug - INFO - 127.0.0.1 - - [19/Mar/2021 07:37:37] \"\u001b[37mPOST /_dash-update-component HTTP/1.1\u001b[0m\" 200 -\n",
      "2021-03-19 07:37:37,475 - werkzeug - INFO - 127.0.0.1 - - [19/Mar/2021 07:37:37] \"\u001b[37mPOST /_dash-update-component HTTP/1.1\u001b[0m\" 200 -\n"
     ]
    },
    {
     "name": "stdout",
     "output_type": "stream",
     "text": [
      "filter contains: CL\n",
      "_dash_table_update_paging_closure: page_current:0 page_size: 20\n"
     ]
    },
    {
     "name": "stderr",
     "output_type": "stream",
     "text": [
      "2021-03-19 07:37:45,294 - werkzeug - INFO - 127.0.0.1 - - [19/Mar/2021 07:37:45] \"\u001b[37mPOST /_dash-update-component HTTP/1.1\u001b[0m\" 200 -\n",
      "2021-03-19 07:37:45,310 - werkzeug - INFO - 127.0.0.1 - - [19/Mar/2021 07:37:45] \"\u001b[37mPOST /_dash-update-component HTTP/1.1\u001b[0m\" 200 -\n"
     ]
    },
    {
     "name": "stdout",
     "output_type": "stream",
     "text": [
      "filter contains: CL?20\n",
      "_dash_table_update_paging_closure: page_current:0 page_size: 20\n"
     ]
    },
    {
     "name": "stderr",
     "output_type": "stream",
     "text": [
      "2021-03-19 07:37:50,014 - werkzeug - INFO - 127.0.0.1 - - [19/Mar/2021 07:37:50] \"\u001b[37mPOST /_dash-update-component HTTP/1.1\u001b[0m\" 200 -\n",
      "2021-03-19 07:37:50,044 - werkzeug - INFO - 127.0.0.1 - - [19/Mar/2021 07:37:50] \"\u001b[37mPOST /_dash-update-component HTTP/1.1\u001b[0m\" 200 -\n"
     ]
    },
    {
     "name": "stdout",
     "output_type": "stream",
     "text": [
      "filter contains: CLF\n",
      "_dash_table_update_paging_closure: page_current:0 page_size: 20\n"
     ]
    },
    {
     "name": "stderr",
     "output_type": "stream",
     "text": [
      "2021-03-19 07:37:54,739 - werkzeug - INFO - 127.0.0.1 - - [19/Mar/2021 07:37:54] \"\u001b[37mPOST /_dash-update-component HTTP/1.1\u001b[0m\" 200 -\n",
      "2021-03-19 07:37:54,759 - werkzeug - INFO - 127.0.0.1 - - [19/Mar/2021 07:37:54] \"\u001b[37mPOST /_dash-update-component HTTP/1.1\u001b[0m\" 200 -\n"
     ]
    },
    {
     "name": "stdout",
     "output_type": "stream",
     "text": [
      "filter contains: CLF2\n",
      "_dash_table_update_paging_closure: page_current:0 page_size: 20\n"
     ]
    },
    {
     "name": "stderr",
     "output_type": "stream",
     "text": [
      "2021-03-19 07:38:25,495 - werkzeug - INFO - 127.0.0.1 - - [19/Mar/2021 07:38:25] \"\u001b[37mPOST /_dash-update-component HTTP/1.1\u001b[0m\" 200 -\n",
      "2021-03-19 07:38:25,516 - werkzeug - INFO - 127.0.0.1 - - [19/Mar/2021 07:38:25] \"\u001b[37mPOST /_dash-update-component HTTP/1.1\u001b[0m\" 200 -\n"
     ]
    },
    {
     "name": "stdout",
     "output_type": "stream",
     "text": [
      "filter contains: CLZ19\n",
      "_dash_table_update_paging_closure: page_current:0 page_size: 20\n"
     ]
    },
    {
     "name": "stderr",
     "output_type": "stream",
     "text": [
      "2021-03-19 07:39:05,710 - werkzeug - INFO - 127.0.0.1 - - [19/Mar/2021 07:39:05] \"\u001b[37mPOST /_dash-update-component HTTP/1.1\u001b[0m\" 200 -\n",
      "2021-03-19 07:39:05,728 - werkzeug - INFO - 127.0.0.1 - - [19/Mar/2021 07:39:05] \"\u001b[37mPOST /_dash-update-component HTTP/1.1\u001b[0m\" 200 -\n",
      "2021-03-19 07:39:10,305 - werkzeug - INFO - 127.0.0.1 - - [19/Mar/2021 07:39:10] \"\u001b[37mPOST /_dash-update-component HTTP/1.1\u001b[0m\" 200 -\n",
      "2021-03-19 07:39:23,315 - werkzeug - INFO - 127.0.0.1 - - [19/Mar/2021 07:39:23] \"\u001b[37mPOST /_dash-update-component HTTP/1.1\u001b[0m\" 200 -\n",
      "2021-03-19 07:41:03,831 - werkzeug - INFO - 127.0.0.1 - - [19/Mar/2021 07:41:03] \"\u001b[37mPOST /_dash-update-component HTTP/1.1\u001b[0m\" 200 -\n",
      "2021-03-19 07:41:06,826 - werkzeug - INFO - 127.0.0.1 - - [19/Mar/2021 07:41:06] \"\u001b[37mPOST /_dash-update-component HTTP/1.1\u001b[0m\" 200 -\n",
      "2021-03-19 07:41:49,182 - werkzeug - INFO - 127.0.0.1 - - [19/Mar/2021 07:41:49] \"\u001b[37mPOST /_dash-update-component HTTP/1.1\u001b[0m\" 200 -\n",
      "2021-03-19 07:41:52,525 - werkzeug - INFO - 127.0.0.1 - - [19/Mar/2021 07:41:52] \"\u001b[37mPOST /_dash-update-component HTTP/1.1\u001b[0m\" 200 -\n",
      "2021-03-19 07:42:30,170 - werkzeug - INFO - 127.0.0.1 - - [19/Mar/2021 07:42:30] \"\u001b[37mPOST /_dash-update-component HTTP/1.1\u001b[0m\" 200 -\n",
      "2021-03-19 07:42:40,216 - werkzeug - INFO - 127.0.0.1 - - [19/Mar/2021 07:42:40] \"\u001b[37mPOST /_dash-update-component HTTP/1.1\u001b[0m\" 200 -\n",
      "2021-03-19 07:42:40,234 - werkzeug - INFO - 127.0.0.1 - - [19/Mar/2021 07:42:40] \"\u001b[37mPOST /_dash-update-component HTTP/1.1\u001b[0m\" 200 -\n"
     ]
    },
    {
     "name": "stdout",
     "output_type": "stream",
     "text": [
      "filter contains: CLX19\n",
      "_dash_table_update_paging_closure: page_current:0 page_size: 20\n"
     ]
    },
    {
     "name": "stderr",
     "output_type": "stream",
     "text": [
      "2021-03-19 07:42:44,643 - werkzeug - INFO - 127.0.0.1 - - [19/Mar/2021 07:42:44] \"\u001b[37mPOST /_dash-update-component HTTP/1.1\u001b[0m\" 200 -\n"
     ]
    }
   ],
   "source": [
    "if __name__=='__main__':\n",
    "    page_title = \"\"\"Show ATM vs Historical\"\"\"\n",
    "#     f = lambda:df_iv_final3\n",
    "    f = spfd.dcc.Store(id='init_df_data_store',data=df_iv_final3.to_dict('records'))\n",
    "    \n",
    "    d = spfd.create_dashgraph_page(\n",
    "        'df_iv_final3',f,\n",
    "        app_title=\"Implied vs Historical\",\n",
    "        page_title=page_title,\n",
    "        app_port=8814,\n",
    "        run=True\n",
    "    )\n"
   ]
  },
  {
   "cell_type": "code",
   "execution_count": null,
   "metadata": {},
   "outputs": [],
   "source": []
  },
  {
   "cell_type": "markdown",
   "metadata": {},
   "source": [
    "### App with CSV Uploader\n"
   ]
  },
  {
   "cell_type": "code",
   "execution_count": 29,
   "metadata": {
    "scrolled": false
   },
   "outputs": [
    {
     "name": "stderr",
     "output_type": "stream",
     "text": [
      "2021-03-19 07:45:10,511 - root - DEBUG - myid_dtdf entering create_dt_div\n",
      "2021-03-19 07:45:10,513 - root - DEBUG - myid_dtdf exiting create_dt_div\n",
      "2021-03-19 07:45:10,524 - root - INFO - This app will run at the URL: http://127.0.0.1:8814\n"
     ]
    },
    {
     "name": "stdout",
     "output_type": "stream",
     "text": [
      "Dash is running on http://127.0.0.1:8814/\n",
      "\n",
      "Dash is running on http://127.0.0.1:8814/\n",
      "\n",
      "Dash is running on http://127.0.0.1:8814/\n",
      "\n",
      "Dash is running on http://127.0.0.1:8814/\n",
      "\n",
      "Dash is running on http://127.0.0.1:8814/\n",
      "\n",
      "Dash is running on http://127.0.0.1:8814/\n",
      "\n",
      "Dash is running on http://127.0.0.1:8814/\n",
      "\n"
     ]
    },
    {
     "name": "stderr",
     "output_type": "stream",
     "text": [
      "2021-03-19 07:45:10,526 - dashapp.dashapp2 - INFO - Dash is running on http://127.0.0.1:8814/\n",
      "\n"
     ]
    },
    {
     "name": "stdout",
     "output_type": "stream",
     "text": [
      " Warning: This is a development server. Do not use app.run_server\n",
      " Warning: This is a development server. Do not use app.run_server\n",
      " Warning: This is a development server. Do not use app.run_server\n",
      " Warning: This is a development server. Do not use app.run_server\n",
      " Warning: This is a development server. Do not use app.run_server\n",
      " Warning: This is a development server. Do not use app.run_server\n",
      " Warning: This is a development server. Do not use app.run_server\n"
     ]
    },
    {
     "name": "stderr",
     "output_type": "stream",
     "text": [
      "2021-03-19 07:45:10,536 - dashapp.dashapp2 - INFO -  Warning: This is a development server. Do not use app.run_server\n"
     ]
    },
    {
     "name": "stdout",
     "output_type": "stream",
     "text": [
      " in production, use a production WSGI server like gunicorn instead.\n",
      "\n",
      " in production, use a production WSGI server like gunicorn instead.\n",
      "\n",
      " in production, use a production WSGI server like gunicorn instead.\n",
      "\n",
      " in production, use a production WSGI server like gunicorn instead.\n",
      "\n",
      " in production, use a production WSGI server like gunicorn instead.\n",
      "\n",
      " in production, use a production WSGI server like gunicorn instead.\n",
      "\n",
      " in production, use a production WSGI server like gunicorn instead.\n",
      "\n"
     ]
    },
    {
     "name": "stderr",
     "output_type": "stream",
     "text": [
      "2021-03-19 07:45:10,548 - dashapp.dashapp2 - INFO -  in production, use a production WSGI server like gunicorn instead.\n",
      "\n"
     ]
    },
    {
     "name": "stdout",
     "output_type": "stream",
     "text": [
      " * Serving Flask app \"dashapp.dashapp2\" (lazy loading)\n",
      " * Environment: production\n",
      "\u001b[31m   WARNING: This is a development server. Do not use it in a production deployment.\u001b[0m\n",
      "\u001b[2m   Use a production WSGI server instead.\u001b[0m\n",
      " * Debug mode: off\n"
     ]
    },
    {
     "name": "stderr",
     "output_type": "stream",
     "text": [
      "2021-03-19 07:45:10,570 - werkzeug - INFO -  * Running on http://127.0.0.1:8814/ (Press CTRL+C to quit)\n",
      "2021-03-19 07:45:12,344 - werkzeug - INFO - 127.0.0.1 - - [19/Mar/2021 07:45:12] \"\u001b[37mGET / HTTP/1.1\u001b[0m\" 200 -\n",
      "2021-03-19 07:45:12,683 - werkzeug - INFO - 127.0.0.1 - - [19/Mar/2021 07:45:12] \"\u001b[37mGET /_dash-layout HTTP/1.1\u001b[0m\" 200 -\n",
      "2021-03-19 07:45:12,686 - werkzeug - INFO - 127.0.0.1 - - [19/Mar/2021 07:45:12] \"\u001b[37mGET /_dash-dependencies HTTP/1.1\u001b[0m\" 200 -\n",
      "2021-03-19 07:45:12,709 - root - DEBUG - ****************************** execute_callback no data for [('myid_uploader_column_only_store_df', 'data')] ***************************************\n",
      "2021-03-19 07:45:12,718 - werkzeug - INFO - 127.0.0.1 - - [19/Mar/2021 07:45:12] \"\u001b[37mPOST /_dash-update-component HTTP/1.1\u001b[0m\" 204 -\n",
      "2021-03-19 07:45:12,718 - root - DEBUG - ****************************** execute_callback no data for [('myid_uploader_file_path', 'children')] ***************************************\n",
      "2021-03-19 07:45:12,721 - werkzeug - INFO - 127.0.0.1 - - [19/Mar/2021 07:45:12] \"\u001b[37mPOST /_dash-update-component HTTP/1.1\u001b[0m\" 204 -\n",
      "2021-03-19 07:45:12,739 - werkzeug - INFO - 127.0.0.1 - - [19/Mar/2021 07:45:12] \"\u001b[37mGET /_dash-component-suites/dash_core_components/async-upload.v1_10_2m1595872686.js HTTP/1.1\u001b[0m\" 200 -\n",
      "2021-03-19 07:45:12,743 - root - DEBUG - ****************************** execute_callback no data for [('myid_dtdf_data_store', 'data')] ***************************************\n",
      "2021-03-19 07:45:12,744 - werkzeug - INFO - 127.0.0.1 - - [19/Mar/2021 07:45:12] \"\u001b[37mPOST /_dash-update-component HTTP/1.1\u001b[0m\" 204 -\n",
      "2021-03-19 07:45:12,833 - werkzeug - INFO - 127.0.0.1 - - [19/Mar/2021 07:45:12] \"\u001b[37mPOST /_dash-update-component HTTP/1.1\u001b[0m\" 200 -\n"
     ]
    },
    {
     "name": "stdout",
     "output_type": "stream",
     "text": [
      "_dash_table_update_paging_closure: page_current:0 page_size: 100\n"
     ]
    },
    {
     "name": "stderr",
     "output_type": "stream",
     "text": [
      "2021-03-19 07:46:25,537 - werkzeug - INFO - 127.0.0.1 - - [19/Mar/2021 07:46:25] \"\u001b[37mPOST /_dash-update-component HTTP/1.1\u001b[0m\" 200 -\n"
     ]
    },
    {
     "name": "stdout",
     "output_type": "stream",
     "text": [
      "_update_data entry\n",
      "df_to_zipdata_string: df_ng_monthly.csv\n"
     ]
    },
    {
     "name": "stderr",
     "output_type": "stream",
     "text": [
      "2021-03-19 07:46:34,462 - werkzeug - INFO - 127.0.0.1 - - [19/Mar/2021 07:46:34] \"\u001b[37mPOST /_dash-update-component HTTP/1.1\u001b[0m\" 200 -\n",
      "2021-03-19 07:46:35,555 - werkzeug - INFO - 127.0.0.1 - - [19/Mar/2021 07:46:35] \"\u001b[37mPOST /_dash-update-component HTTP/1.1\u001b[0m\" 200 -\n"
     ]
    },
    {
     "name": "stdout",
     "output_type": "stream",
     "text": [
      "_dash_table_update_paging_closure: page_current:0 page_size: 100\n"
     ]
    },
    {
     "name": "stderr",
     "output_type": "stream",
     "text": [
      "2021-03-19 07:46:39,715 - werkzeug - INFO - 127.0.0.1 - - [19/Mar/2021 07:46:39] \"\u001b[37mPOST /_dash-update-component HTTP/1.1\u001b[0m\" 200 -\n",
      "2021-03-19 07:46:39,869 - werkzeug - INFO - 127.0.0.1 - - [19/Mar/2021 07:46:39] \"\u001b[37mPOST /_dash-update-component HTTP/1.1\u001b[0m\" 200 -\n"
     ]
    },
    {
     "name": "stdout",
     "output_type": "stream",
     "text": [
      "_dash_table_update_paging_closure: page_current:1 page_size: 100\n"
     ]
    },
    {
     "name": "stderr",
     "output_type": "stream",
     "text": [
      "2021-03-19 07:47:47,498 - werkzeug - INFO - 127.0.0.1 - - [19/Mar/2021 07:47:47] \"\u001b[37mPOST /_dash-update-component HTTP/1.1\u001b[0m\" 200 -\n"
     ]
    }
   ],
   "source": [
    "import importlib\n",
    "importlib.reload(spfd)\n",
    "importlib.reload(spfd.dashapp)\n",
    "if __name__=='__main__':\n",
    "    logger = spfd.dashapp.init_root_logger()    \n",
    "    spfd.graph_from_csv_page(main_id='myid',app_port = 8814,app_title=\"csv_grapher\",\n",
    "        logger=logger)"
   ]
  },
  {
   "cell_type": "code",
   "execution_count": null,
   "metadata": {},
   "outputs": [],
   "source": []
  },
  {
   "cell_type": "code",
   "execution_count": null,
   "metadata": {},
   "outputs": [],
   "source": [
    "# ?spfd.html.Button"
   ]
  },
  {
   "cell_type": "code",
   "execution_count": null,
   "metadata": {},
   "outputs": [],
   "source": []
  },
  {
   "cell_type": "markdown",
   "metadata": {},
   "source": [
    "## END"
   ]
  }
 ],
 "metadata": {
  "kernelspec": {
   "display_name": "Python 3",
   "language": "python",
   "name": "python3"
  },
  "language_info": {
   "codemirror_mode": {
    "name": "ipython",
    "version": 3
   },
   "file_extension": ".py",
   "mimetype": "text/x-python",
   "name": "python",
   "nbconvert_exporter": "python",
   "pygments_lexer": "ipython3",
   "version": "3.6.5"
  }
 },
 "nbformat": 4,
 "nbformat_minor": 2
}
