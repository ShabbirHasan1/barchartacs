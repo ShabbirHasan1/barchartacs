{
 "cells": [
  {
   "cell_type": "code",
   "execution_count": null,
   "metadata": {},
   "outputs": [],
   "source": [
    "import warnings\n",
    "warnings.filterwarnings(\"ignore\")\n",
    "from IPython.core.display import display, HTML\n",
    "display(HTML(\"<style>.container { width:100% !important; }</style>\"))"
   ]
  },
  {
   "cell_type": "markdown",
   "metadata": {},
   "source": [
    "* **This requires plotly 4.0 or greater** *\n",
    "\n",
    "### Dashapps to display:\n",
    "1. implied volatility vs time and price using a constant underlying price\n",
    "\n",
    "  * Calculate the implied volatility of each days options as if the underlying futures contract were  always some fixed value. For example, if the actual futures is 100, make that price 50, and then change all of the strike prices so that the strike prices are relative to the value 50.  \n",
    "\n",
    "    1. The 100 call would be a 50 dollar call.  \n",
    "    2. The 95 put would be a 45 dollar put.  \n",
    "    3. The 105 call would be a 55 dollar call\n",
    "   \n",
    "2. Historical vs Implied Vol\n",
    "3. General CSV Viewer and Grapher (graphing to come later)"
   ]
  },
  {
   "cell_type": "code",
   "execution_count": null,
   "metadata": {},
   "outputs": [],
   "source": [
    "import pandas as pd\n",
    "import numpy as np\n",
    "import datetime\n",
    "import sys\n",
    "import os\n",
    "if  not './' in sys.path:\n",
    "    sys.path.append('./')\n",
    "if  not '../' in sys.path:\n",
    "    sys.path.append('../')\n",
    "\n",
    "from dashapp import single_page_from_df as spfd\n",
    "# from dashapp import dashapp2 as dashapp\n",
    "import pyarrow as pa\n",
    "import redis\n",
    "import pdb\n",
    "import pathlib\n"
   ]
  },
  {
   "cell_type": "code",
   "execution_count": null,
   "metadata": {},
   "outputs": [],
   "source": [
    "redis_port = 6379\n",
    "redis_db = redis.Redis(host = 'localhost',port=6379,db=0)"
   ]
  },
  {
   "cell_type": "code",
   "execution_count": null,
   "metadata": {},
   "outputs": [],
   "source": [
    "def get_redis_df(key):\n",
    "    context = pa.default_serialization_context()\n",
    "    df = context.deserialize(redis_db.get(key))\n",
    "    return df"
   ]
  },
  {
   "cell_type": "markdown",
   "metadata": {},
   "source": [
    "### Method to get constant volatility data from redis"
   ]
  },
  {
   "cell_type": "code",
   "execution_count": null,
   "metadata": {},
   "outputs": [],
   "source": [
    "def get_cuv_imp_from_redis():\n",
    "    df_cuv_imp2 = get_redis_df('df_cuv_implied')\n",
    "    df_cuv_imp2['commod'] = df_cuv_imp2.symbol.str.slice(0,2)\n",
    "    df_cuv_imp2['contract_year'] = df_cuv_imp2.symbol.str.slice(-2,).astype(int) + 2000\n",
    "    return df_cuv_imp2\n",
    "        "
   ]
  },
  {
   "cell_type": "code",
   "execution_count": null,
   "metadata": {
    "scrolled": true
   },
   "outputs": [],
   "source": [
    "if __name__=='__main__':\n",
    "    page_title = \"\"\"Show ATM Implied Volatilities\n",
    "    using a\n",
    "    Constant Underlying Price\"\"\"\n",
    "    # *************** Create other rows ****************************\n",
    "    spfd.create_dashgraph_page(\n",
    "        'df_cuv_implied',get_cuv_imp_from_redis,\n",
    "        app_title=\"Constant Underlying Vol\",\n",
    "        page_title=page_title,\n",
    "        app_port=8814,\n",
    "        run=True,\n",
    "    )\n"
   ]
  },
  {
   "cell_type": "markdown",
   "metadata": {},
   "source": [
    "###  Historical vs Implied Vol"
   ]
  },
  {
   "cell_type": "code",
   "execution_count": null,
   "metadata": {},
   "outputs": [],
   "source": [
    "df_iv_final = pd.read_csv('./temp_folder/df_iv_final_CL.csv')"
   ]
  },
  {
   "cell_type": "code",
   "execution_count": null,
   "metadata": {},
   "outputs": [],
   "source": [
    "df_iv_final2 = df_iv_final[['settle_date','symbol','atm_iv','close_y']]\n",
    "df_iv_final2 = df_iv_final2.groupby(['settle_date','symbol'],as_index=False).last()\n",
    "# df_iv_final3 = df_iv_final2[['settle_date','close_y']]\n",
    "#df.groupby('id')['x'].rolling(2).mean()\n",
    "# df_iv_final3['hist_vol'] = df_iv_final.close_y..apply.rolling(20).std()*256**.5\n",
    "# df_iv_final3 = df_iv_final3[~df_iv_final3.hist_vol.isna()]\n"
   ]
  },
  {
   "cell_type": "code",
   "execution_count": null,
   "metadata": {},
   "outputs": [],
   "source": [
    "from barchartacs import db_info\n",
    "import plotly.graph_objs as go\n",
    "from plotly.offline import  init_notebook_mode, iplot\n",
    "init_notebook_mode(connected=True)\n",
    "DEBUG_IT=False\n",
    "opttab = 'sec_schema.options_table'\n",
    "futtab = 'sec_schema.underlying_table'\n",
    "pga = db_info.get_db_info()\n"
   ]
  },
  {
   "cell_type": "code",
   "execution_count": null,
   "metadata": {},
   "outputs": [],
   "source": [
    "def get_fut(symbol):\n",
    "    sql = f\"select * from {futtab} where symbol='{symbol}';\"\n",
    "    df_fut =  pga.get_sql(sql)\n",
    "    df_fut = df_fut[['settle_date','symbol','close']]\n",
    "    df_fut['hist_vol'] = df_fut.close.pct_change().rolling(20,min_periods=20).std()*256**.5\n",
    "    df_fut = df_fut[~df_fut.hist_vol.isna()]\n",
    "    return df_fut"
   ]
  },
  {
   "cell_type": "code",
   "execution_count": null,
   "metadata": {},
   "outputs": [],
   "source": [
    "df_all_fut = None\n",
    "for symbol in df_iv_final2.symbol.unique():\n",
    "    df_fut = get_fut(symbol)\n",
    "    if df_all_fut is None:\n",
    "        df_all_fut = df_fut.copy()\n",
    "    else:\n",
    "        df_all_fut = df_all_fut.append(df_fut)\n",
    "\n",
    "df_iv_final3 = df_iv_final2.merge(df_all_fut,how='inner',on=['settle_date','symbol'])\n",
    "df_iv_final3.atm_iv = df_iv_final3.atm_iv.round(5)*100\n",
    "df_iv_final3.hist_vol = df_iv_final3.hist_vol.round(5)*100\n",
    "df_iv_final3['vol_diff'] = df_iv_final3.atm_iv - df_iv_final3.hist_vol\n",
    "\n",
    "df_iv_final3        "
   ]
  },
  {
   "cell_type": "code",
   "execution_count": null,
   "metadata": {
    "scrolled": true
   },
   "outputs": [],
   "source": [
    "if __name__=='__main__':\n",
    "    page_title = \"\"\"Show ATM vs Historical\"\"\"\n",
    "#     f = lambda:df_iv_final3\n",
    "    f = spfd.dcc.Store(id='init_df_data_store',data=df_iv_final3.to_dict('records'))\n",
    "    \n",
    "    d = spfd.create_dashgraph_page(\n",
    "        'df_iv_final3',f,\n",
    "        app_title=\"Implied vs Historical\",\n",
    "        page_title=page_title,\n",
    "        app_port=8814,\n",
    "        run=True\n",
    "    )\n"
   ]
  },
  {
   "cell_type": "code",
   "execution_count": null,
   "metadata": {},
   "outputs": [],
   "source": []
  },
  {
   "cell_type": "markdown",
   "metadata": {},
   "source": [
    "### App with CSV Uploader\n"
   ]
  },
  {
   "cell_type": "code",
   "execution_count": null,
   "metadata": {
    "scrolled": false
   },
   "outputs": [],
   "source": [
    "import importlib\n",
    "importlib.reload(spfd)\n",
    "importlib.reload(spfd.dashapp)\n",
    "if __name__=='__main__':\n",
    "    logger = spfd.dashapp.init_root_logger()    \n",
    "    spfd.graph_from_csv_page(main_id='myid',app_port = 8814,app_title=\"csv_grapher\",\n",
    "        logger=logger)"
   ]
  },
  {
   "cell_type": "code",
   "execution_count": null,
   "metadata": {},
   "outputs": [],
   "source": []
  },
  {
   "cell_type": "code",
   "execution_count": null,
   "metadata": {},
   "outputs": [],
   "source": [
    "# ?spfd.html.Button"
   ]
  },
  {
   "cell_type": "code",
   "execution_count": null,
   "metadata": {},
   "outputs": [],
   "source": []
  },
  {
   "cell_type": "markdown",
   "metadata": {},
   "source": [
    "## END"
   ]
  }
 ],
 "metadata": {
  "kernelspec": {
   "display_name": "Python 3",
   "language": "python",
   "name": "python3"
  },
  "language_info": {
   "codemirror_mode": {
    "name": "ipython",
    "version": 3
   },
   "file_extension": ".py",
   "mimetype": "text/x-python",
   "name": "python",
   "nbconvert_exporter": "python",
   "pygments_lexer": "ipython3",
   "version": "3.6.5"
  }
 },
 "nbformat": 4,
 "nbformat_minor": 2
}
