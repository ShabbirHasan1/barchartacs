{
 "cells": [
  {
   "cell_type": "code",
   "execution_count": null,
   "metadata": {},
   "outputs": [],
   "source": [
    "import numpy as np\n",
    "import pandas as pd\n",
    "import sys,os\n",
    "this_dir = os.path.abspath('.')\n",
    "parent_dir = os.path.abspath('..')\n",
    "if this_dir not in sys.path:\n",
    "    sys.path.append(parent_dir)\n",
    "    sys.path.append(this_dir)\n",
    "import db_info#@UnresolvedImport\n",
    "\n",
    "import dash\n",
    "import dash_core_components as dcc\n",
    "import dash_html_components as html\n",
    "from dash.dependencies import Input, Output\n",
    "from flask import Flask,make_response,request as flreq\n",
    "from flask_restful import Resource, Api\n",
    "\n"
   ]
  },
  {
   "cell_type": "code",
   "execution_count": null,
   "metadata": {},
   "outputs": [],
   "source": []
  },
  {
   "cell_type": "code",
   "execution_count": null,
   "metadata": {},
   "outputs": [],
   "source": [
    "opttab = 'sec_schema.options_table'\n",
    "futtab = 'sec_schema.underlying_table'"
   ]
  },
  {
   "cell_type": "code",
   "execution_count": null,
   "metadata": {},
   "outputs": [],
   "source": []
  },
  {
   "cell_type": "code",
   "execution_count": 47,
   "metadata": {
    "scrolled": false
   },
   "outputs": [
    {
     "name": "stdout",
     "output_type": "stream",
     "text": [
      "  sec_db\n",
      "Dash is running on http://127.0.0.1:8817/app8817/\n",
      "\n",
      "Dash is running on http://127.0.0.1:8817/app8817/\n",
      "\n"
     ]
    },
    {
     "name": "stderr",
     "output_type": "stream",
     "text": [
      "2020-12-20 23:09:15,985 - sec_db - INFO - Dash is running on http://127.0.0.1:8817/app8817/\n",
      "\n"
     ]
    },
    {
     "name": "stdout",
     "output_type": "stream",
     "text": [
      " Warning: This is a development server. Do not use app.run_server\n",
      " Warning: This is a development server. Do not use app.run_server\n"
     ]
    },
    {
     "name": "stderr",
     "output_type": "stream",
     "text": [
      "2020-12-20 23:09:15,990 - sec_db - INFO -  Warning: This is a development server. Do not use app.run_server\n"
     ]
    },
    {
     "name": "stdout",
     "output_type": "stream",
     "text": [
      " in production, use a production WSGI server like gunicorn instead.\n",
      "\n",
      " in production, use a production WSGI server like gunicorn instead.\n",
      "\n"
     ]
    },
    {
     "name": "stderr",
     "output_type": "stream",
     "text": [
      "2020-12-20 23:09:15,993 - sec_db - INFO -  in production, use a production WSGI server like gunicorn instead.\n",
      "\n"
     ]
    },
    {
     "name": "stdout",
     "output_type": "stream",
     "text": [
      " * Serving Flask app \"sec_db\" (lazy loading)\n",
      " * Environment: production\n",
      "\u001b[31m   WARNING: This is a development server. Do not use it in a production deployment.\u001b[0m\n",
      "\u001b[2m   Use a production WSGI server instead.\u001b[0m\n",
      " * Debug mode: off\n"
     ]
    },
    {
     "name": "stderr",
     "output_type": "stream",
     "text": [
      " * Running on http://127.0.0.1:8817/ (Press CTRL+C to quit)\n",
      "2020-12-20 23:09:16,005 - werkzeug - INFO -  * Running on http://127.0.0.1:8817/ (Press CTRL+C to quit)\n"
     ]
    },
    {
     "name": "stdout",
     "output_type": "stream",
     "text": [
      "entering HelloWorld\n"
     ]
    },
    {
     "name": "stderr",
     "output_type": "stream",
     "text": [
      "127.0.0.1 - - [20/Dec/2020 23:09:22] \"\u001b[37mGET /app8817/csv?symbol=CLF21&yyyymmddbeg=20200801&yyyymmddend=20201201 HTTP/1.1\u001b[0m\" 200 -\n",
      "2020-12-20 23:09:22,433 - werkzeug - INFO - 127.0.0.1 - - [20/Dec/2020 23:09:22] \"\u001b[37mGET /app8817/csv?symbol=CLF21&yyyymmddbeg=20200801&yyyymmddend=20201201 HTTP/1.1\u001b[0m\" 200 -\n"
     ]
    },
    {
     "name": "stdout",
     "output_type": "stream",
     "text": [
      "entering HelloWorld\n"
     ]
    },
    {
     "name": "stderr",
     "output_type": "stream",
     "text": [
      "127.0.0.1 - - [20/Dec/2020 23:10:22] \"\u001b[37mGET /app8817/csv?symbol=CLF21&yyyymmddbeg=20200801&yyyymmddend=20201201 HTTP/1.1\u001b[0m\" 200 -\n",
      "2020-12-20 23:10:22,777 - werkzeug - INFO - 127.0.0.1 - - [20/Dec/2020 23:10:22] \"\u001b[37mGET /app8817/csv?symbol=CLF21&yyyymmddbeg=20200801&yyyymmddend=20201201 HTTP/1.1\u001b[0m\" 200 -\n"
     ]
    },
    {
     "name": "stdout",
     "output_type": "stream",
     "text": [
      "entering HelloWorld\n"
     ]
    },
    {
     "name": "stderr",
     "output_type": "stream",
     "text": [
      "127.0.0.1 - - [20/Dec/2020 23:10:45] \"\u001b[37mGET /app8817/csv?symbol=CLG21&yyyymmddbeg=20200801&yyyymmddend=20201201 HTTP/1.1\u001b[0m\" 200 -\n",
      "2020-12-20 23:10:45,135 - werkzeug - INFO - 127.0.0.1 - - [20/Dec/2020 23:10:45] \"\u001b[37mGET /app8817/csv?symbol=CLG21&yyyymmddbeg=20200801&yyyymmddend=20201201 HTTP/1.1\u001b[0m\" 200 -\n"
     ]
    }
   ],
   "source": [
    "class SqlDownloader():\n",
    "    def __init__(self,file_name,config_name):\n",
    "        self.file_name = file_name\n",
    "        self.pga = db_info.get_db_info(config_name=config_name)\n",
    "\n",
    "\n",
    "    def get_options(self,symbol,yyyymmdd_beg=None,yyyymmdd_end=None):\n",
    "        sql = f\"select * from {opttab} where symbol='{symbol}'\"\n",
    "        if yyyymmdd_beg is not None:\n",
    "            sql += f' and settle_date>={yyyymmdd_beg}'\n",
    "        if yyyymmdd_end is not None:\n",
    "            sql += f' and settle_date<={yyyymmdd_end}'\n",
    "        df =  self.pga.get_sql(sql)\n",
    "        if df is not None and len(df)>2:\n",
    "            df = df.sort_values(['pc','settle_date','strike'])\n",
    "        return df\n",
    "\n",
    "    def create_csvdownloader(self): \n",
    "        parent_self = self\n",
    "        class HelloWorld(Resource):\n",
    "            def get(self):\n",
    "                print('entering HelloWorld')\n",
    "                df = pd.DataFrame({'x':[1,2,3,4,5],'y':[21,22,23,24,25]})\n",
    "                symbol = flreq.args.get('symbol')\n",
    "                fn = f\"{parent_self.file_name}_{symbol}\"\n",
    "                yyyymmdd_beg = flreq.args.get('yyyymmddbeg')\n",
    "                yyyymmdd_end = flreq.args.get('yyyymmddend')\n",
    "                if yyyymmdd_beg is not None:\n",
    "                    yyyymmdd_beg = int(str(yyyymmdd_beg))\n",
    "                    fn = f\"{fn}_{yyyymmdd_beg}\"\n",
    "                if yyyymmdd_end is not None:\n",
    "                    yyyymmdd_end = int(str(yyyymmdd_end))\n",
    "                    fn = f\"{fn}_{yyyymmdd_end}\"\n",
    "                df = parent_self.get_options(symbol,yyyymmdd_beg,yyyymmdd_end)\n",
    "                resp = make_response(df.to_csv(index=False))\n",
    "                resp.headers[\"Content-Disposition\"] = f\"attachment; filename={fn}.csv\"\n",
    "                resp.headers[\"Content-Type\"] = \"text/csv\"\n",
    "                return resp        \n",
    "        return HelloWorld\n",
    "\n",
    "if __name__=='__main__':\n",
    "    # argv[1] = port, argv[2] = config_name of db\n",
    "    # get pga\n",
    "    app_host = '127.0.0.1'\n",
    "    app_port = 8817\n",
    "    config_name = 'local'\n",
    "    server = Flask('sec_db')\n",
    "    url_base_pathname=f'/app{app_port}/'\n",
    "    app = dash.Dash(server=server,prevent_initial_callbacks=True,url_base_pathname=url_base_pathname)\n",
    "    api = Api(server)\n",
    "    sqld = SqlDownloader('mycsv',config_name)\n",
    "    api.add_resource(sqld.create_csvdownloader(), f'/app{app_port}/csv')\n",
    "    app.layout = html.Div([])\n",
    "    app.run_server(host=app_host,port=app_port)\n"
   ]
  },
  {
   "cell_type": "code",
   "execution_count": 45,
   "metadata": {},
   "outputs": [
    {
     "name": "stdout",
     "output_type": "stream",
     "text": [
      "[NbConvertApp] Converting notebook dashapp_secdb_rest_api.ipynb to python\n",
      "[NbConvertApp] Writing 3037 bytes to dashapp_secdb_rest_api.py\n"
     ]
    }
   ],
   "source": [
    "#!jupyter nbconvert dashapp_secdb_rest_api.ipynb --to python"
   ]
  },
  {
   "cell_type": "code",
   "execution_count": null,
   "metadata": {},
   "outputs": [],
   "source": []
  }
 ],
 "metadata": {
  "kernelspec": {
   "display_name": "Python 3",
   "language": "python",
   "name": "python3"
  },
  "language_info": {
   "codemirror_mode": {
    "name": "ipython",
    "version": 3
   },
   "file_extension": ".py",
   "mimetype": "text/x-python",
   "name": "python",
   "nbconvert_exporter": "python",
   "pygments_lexer": "ipython3",
   "version": "3.6.5"
  }
 },
 "nbformat": 4,
 "nbformat_minor": 4
}
