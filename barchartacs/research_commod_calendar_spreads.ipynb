{
 "cells": [
  {
   "cell_type": "code",
   "execution_count": 1,
   "metadata": {},
   "outputs": [],
   "source": [
    "import warnings\n",
    "warnings.filterwarnings(\"ignore\")"
   ]
  },
  {
   "cell_type": "markdown",
   "metadata": {},
   "source": [
    "## Research various commodity spread ideas"
   ]
  },
  {
   "cell_type": "code",
   "execution_count": 280,
   "metadata": {},
   "outputs": [
    {
     "data": {
      "text/html": [
       "        <script type=\"text/javascript\">\n",
       "        window.PlotlyConfig = {MathJaxConfig: 'local'};\n",
       "        if (window.MathJax) {MathJax.Hub.Config({SVG: {font: \"STIX-Web\"}});}\n",
       "        if (typeof require !== 'undefined') {\n",
       "        require.undef(\"plotly\");\n",
       "        requirejs.config({\n",
       "            paths: {\n",
       "                'plotly': ['https://cdn.plot.ly/plotly-latest.min']\n",
       "            }\n",
       "        });\n",
       "        require(['plotly'], function(Plotly) {\n",
       "            window._Plotly = Plotly;\n",
       "        });\n",
       "        }\n",
       "        </script>\n",
       "        "
      ]
     },
     "metadata": {},
     "output_type": "display_data"
    },
    {
     "name": "stderr",
     "output_type": "stream",
     "text": [
      "2020-06-07 10:03:41,155 - matplotlib.pyplot - DEBUG - Loaded backend module://ipykernel.pylab.backend_inline version unknown.\n"
     ]
    },
    {
     "data": {
      "text/plain": [
       "<module 'dashapp.dashapp2' from '/Users/bperlman1/Documents/billybyte/pyliverisk/dashapp/dashapp/dashapp2.py'>"
      ]
     },
     "execution_count": 280,
     "metadata": {},
     "output_type": "execute_result"
    }
   ],
   "source": [
    "\n",
    "import zipfile\n",
    "import glob\n",
    "import pandas as pd\n",
    "import numpy as np\n",
    "\n",
    "from argparse import ArgumentParser\n",
    "from argparse import RawDescriptionHelpFormatter\n",
    "import sys\n",
    "import os\n",
    "if  not './' in sys.path:\n",
    "    sys.path.append('./')\n",
    "if  not '../' in sys.path:\n",
    "    sys.path.append('../')\n",
    "\n",
    "from barchartacs import build_db\n",
    "from barchartacs import db_info\n",
    "import plotly.graph_objs as go\n",
    "from plotly.offline import  init_notebook_mode, iplot\n",
    "init_notebook_mode(connected=True)\n",
    "import plotly.tools as tls\n",
    "from plotly.graph_objs.layout import Font,Margin\n",
    "from IPython import display\n",
    "\n",
    "import peakutils\n",
    "from peakutils.plot import plot as pplot\n",
    "%matplotlib inline\n",
    "import matplotlib.pyplot as plt\n",
    "from scipy.signal import argrelextrema\n",
    "\n",
    "\n",
    "import datetime\n",
    "import io\n",
    "from tqdm import tqdm,tqdm_notebook\n",
    "from barchartacs import pg_pandas as pg\n",
    "import mibian\n",
    "import py_vollib\n",
    "import importlib\n",
    "from py_vollib import black\n",
    "from py_vollib.black import implied_volatility\n",
    "import ipdb\n",
    "import traceback\n",
    "import pandas_datareader.data as pdr\n",
    "from dashapp import dashapp2 as dashapp\n",
    "import dash_html_components as html\n",
    "import dash_core_components as dcc\n",
    "from itertools import accumulate \n",
    "import pathlib\n",
    "import shutil\n",
    "import urllib.request as request\n",
    "from contextlib import closing\n",
    "import zipfile\n",
    "\n",
    "importlib.reload(dashapp)"
   ]
  },
  {
   "cell_type": "code",
   "execution_count": 3,
   "metadata": {},
   "outputs": [
    {
     "name": "stderr",
     "output_type": "stream",
     "text": [
      "2020-06-03 14:05:09,873 - numexpr.utils - INFO - NumExpr defaulting to 4 threads.\n"
     ]
    }
   ],
   "source": [
    "from pandas.tseries.holiday import USFederalHolidayCalendar\n",
    "bday_us = pd.offsets.CustomBusinessDay(calendar=USFederalHolidayCalendar())\n"
   ]
  },
  {
   "cell_type": "markdown",
   "metadata": {},
   "source": [
    "### important global variables"
   ]
  },
  {
   "cell_type": "code",
   "execution_count": 4,
   "metadata": {},
   "outputs": [],
   "source": [
    "\n",
    "DEBUG_IT=False\n",
    "opttab = 'sec_schema.options_table'\n",
    "futtab = 'sec_schema.underlying_table'\n"
   ]
  },
  {
   "cell_type": "markdown",
   "metadata": {},
   "source": [
    "#### get all contracts in the options database"
   ]
  },
  {
   "cell_type": "code",
   "execution_count": 5,
   "metadata": {
    "scrolled": true
   },
   "outputs": [
    {
     "name": "stdout",
     "output_type": "stream",
     "text": [
      "  sec_db\n",
      "futtab max date:         max\n",
      "0  20200602\n",
      "opttab max date:         max\n",
      "0  20200602\n"
     ]
    }
   ],
   "source": [
    "pga = db_info.get_db_info()\n",
    "print(f\"futtab max date: {pga.get_sql(f'select max(settle_date) from {futtab}')}\")\n",
    "print(f\"opttab max date: {pga.get_sql(f'select max(settle_date) from {opttab}')}\")\n"
   ]
  },
  {
   "cell_type": "code",
   "execution_count": 6,
   "metadata": {},
   "outputs": [
    {
     "name": "stdout",
     "output_type": "stream",
     "text": [
      "[3, 3, 3, 2]\n"
     ]
    },
    {
     "data": {
      "text/plain": [
       "[[0, 1, 2], [3, 4, 5], [6, 7, 8], [9, 10]]"
      ]
     },
     "execution_count": 6,
     "metadata": {},
     "output_type": "execute_result"
    }
   ],
   "source": [
    "def _create_batch_indices(l,n):\n",
    "    ii = list(range(l))\n",
    "    num = n\n",
    "    # list of length in which we have to split \n",
    "    length_to_split = list(np.repeat(num,len(ii)/num )) + [len(ii)%num]\n",
    "    print(length_to_split)\n",
    "\n",
    "    # Using islice \n",
    "    r = [ii[x - y: x] for x, y in zip( \n",
    "              accumulate(length_to_split), length_to_split)] \n",
    "    return r\n",
    "_create_batch_indices(11,3)"
   ]
  },
  {
   "cell_type": "code",
   "execution_count": 340,
   "metadata": {},
   "outputs": [],
   "source": [
    "def str_to_date(d,sep='-'):\n",
    "    try:\n",
    "        dt = datetime.datetime.strptime(str(d)[:10],f'%Y{sep}%m{sep}%d')\n",
    "    except:\n",
    "        return None\n",
    "    return dt\n",
    "\n",
    "def get_local_peaks_and_valleys(df_in,n,col='close'):\n",
    "    '''\n",
    "    :param df - Input DataFrame\n",
    "    :param n - number of data points that surround peak and valley\n",
    "    :param col - the data column to observe\n",
    "    '''\n",
    "    df = df_in.copy()\n",
    "    # Find local peaks\n",
    "    df['valley'] = df.iloc[argrelextrema(df[col].values, np.less_equal, order=n)[0]][col]\n",
    "    df['peak'] = df.iloc[argrelextrema(df[col].values, np.greater_equal, order=n)[0]][col]\n",
    "    return df\n",
    " \n",
    "def get_draw_downs(df_in,close='close'):\n",
    "    df = df_in.copy()\n",
    "    df['peak'] = df[close].expanding(min_periods=1).max()\n",
    "    df['drawdown'] = df.peak-df[close]\n",
    "    return df.drawdown\n",
    "    "
   ]
  },
  {
   "cell_type": "code",
   "execution_count": 7,
   "metadata": {},
   "outputs": [],
   "source": [
    "def get_spread(contract_front,contract_back):\n",
    "    sql = f\"\"\"\n",
    "    with \n",
    "    f1 as (\n",
    "        select *\n",
    "        from {futtab} \n",
    "        where symbol in ('{contract_front}','{contract_back}')\n",
    "    )\n",
    "    select * from f1 \n",
    "    \"\"\"\n",
    "    df = pga.get_sql(sql)\n",
    "    df1 = df[df.symbol==contract_front].copy()\n",
    "    df2 = df[df.symbol==contract_back].copy()\n",
    "    df1['front'] = df1.close\n",
    "    df2['back'] = df2.close\n",
    "    df_both = df1[['settle_date','front']].merge(\n",
    "        df2[['settle_date','back']],on='settle_date',how='inner')\n",
    "    df_both['spread'] = df_both.front - df_both.back\n",
    "    return df_both\n",
    "\n",
    "MONTH_CODES = 'FGHJKMNQUVXZ'\n",
    "DICT_MONTH_CODE = {MONTH_CODES[i]:i+1 for i in range(len(MONTH_CODES))}\n",
    "\n",
    "def get_CL_expiry(symbol):\n",
    "    monthcode_yy = symbol[2:]\n",
    "    month = DICT_MONTH_CODE[monthcode_yy[0]]\n",
    "    year = 2000 + int(monthcode_yy[1:])\n",
    "    month = month -1\n",
    "    if month<1:\n",
    "        month = 12\n",
    "        year = year - 1\n",
    "    return datetime.datetime(year,month,25) - 4*bday_us\n",
    "\n",
    "def get_NG_expiry(symbol):\n",
    "    monthcode_yy = symbol[2:]\n",
    "    month = DICT_MONTH_CODE[monthcode_yy[0]]\n",
    "    year = 2000 + int(monthcode_yy[1:])\n",
    "    return datetime.datetime(year,month,1) - 3*bday_us\n"
   ]
  },
  {
   "cell_type": "code",
   "execution_count": 85,
   "metadata": {},
   "outputs": [
    {
     "data": {
      "text/plain": [
       "(Timestamp('2020-05-19 00:00:00'), Timestamp('2020-05-27 00:00:00'))"
      ]
     },
     "execution_count": 85,
     "metadata": {},
     "output_type": "execute_result"
    }
   ],
   "source": [
    "get_CL_expiry('CLM20'),get_NG_expiry('NGM20')"
   ]
  },
  {
   "cell_type": "code",
   "execution_count": 7,
   "metadata": {},
   "outputs": [],
   "source": [
    "def _commod_list():\n",
    "    sql = f\"\"\"select distinct substring(symbol,1,2) commod from {futtab}\n",
    "    order by substring(symbol,1,2) \"\"\"\n",
    "    df = pga.get_sql(sql)\n",
    "    return df"
   ]
  },
  {
   "cell_type": "code",
   "execution_count": 8,
   "metadata": {},
   "outputs": [],
   "source": [
    "df_commod = _commod_list()"
   ]
  },
  {
   "cell_type": "code",
   "execution_count": null,
   "metadata": {},
   "outputs": [],
   "source": []
  },
  {
   "cell_type": "code",
   "execution_count": 394,
   "metadata": {},
   "outputs": [],
   "source": [
    "def _commod_month_list():\n",
    "    sql = f\"\"\"select distinct symbol from {futtab}\"\"\"\n",
    "    df = pga.get_sql(sql)\n",
    "    df['commod'] = df.symbol.str[0:2]\n",
    "    df['year'] = df.symbol.str[-2:].astype(int)\n",
    "    df['mc'] = df.symbol.str[-3]\n",
    "    df = df[['commod','year','mc']].sort_values(['commod','year','mc']).drop_duplicates()\n",
    "    df.index = list(range(len(df)))\n",
    "    df['sym'] = df.commod+df.year.astype(str)+df.mc\n",
    "    return df\n",
    "\n",
    "df_commod_month = _commod_month_list()\n"
   ]
  },
  {
   "cell_type": "markdown",
   "metadata": {},
   "source": [
    "## Example of showing dashapp.plotly_plot with reverse order descending x axis\n",
    "The xaxis values must be numbers, and should be consecutive"
   ]
  },
  {
   "cell_type": "code",
   "execution_count": 11,
   "metadata": {},
   "outputs": [
    {
     "data": {
      "application/vnd.plotly.v1+json": {
       "config": {
        "linkText": "Export to plot.ly",
        "plotlyServerURL": "https://plot.ly",
        "showLink": false
       },
       "data": [
        {
         "name": "ZCN19",
         "type": "scatter",
         "x": [
          296,
          295,
          294,
          291,
          290,
          289,
          288,
          287,
          284,
          283,
          282,
          281,
          280,
          277,
          276,
          275,
          274,
          273,
          270,
          269,
          268,
          267,
          266,
          263,
          262,
          261,
          260,
          259,
          256,
          255,
          254,
          253,
          252,
          249,
          248,
          247,
          246,
          245,
          242,
          241,
          240,
          239,
          235,
          234,
          233,
          232,
          231,
          228,
          227,
          226,
          225,
          224,
          221,
          220,
          219,
          218,
          217,
          214,
          213,
          212,
          211,
          210,
          207,
          206,
          205,
          204,
          203,
          199,
          198,
          197,
          196,
          193,
          192,
          191,
          190,
          189,
          186,
          185,
          184,
          183,
          182,
          179,
          178,
          177,
          176,
          175,
          172,
          171,
          170,
          169,
          168,
          165,
          164,
          163,
          161,
          158,
          157,
          156,
          155,
          154
         ],
         "y": [
          387.5,
          392.25,
          392.5,
          388.25,
          384.5,
          382.25,
          379.5,
          381.5,
          383.25,
          384.5,
          381,
          374.25,
          373.5,
          371.5,
          375.5,
          376.25,
          379.5,
          382.25,
          380.75,
          380.75,
          381,
          385.5,
          387.5,
          389.25,
          387,
          383.5,
          383.75,
          366.25,
          371,
          370.75,
          372,
          374.25,
          371,
          368.5,
          368.5,
          370.75,
          368.75,
          369.5,
          371.5,
          367.75,
          367,
          367.25,
          363.5,
          360.25,
          356,
          357.25,
          361.25,
          361.75,
          362.5,
          368.5,
          370.5,
          370.75,
          364.25,
          366.5,
          364.25,
          353.25,
          351.75,
          356.5,
          368.75,
          369.5,
          379,
          383.25,
          389,
          394.25,
          394.5,
          389.75,
          404.25,
          420.25,
          418.75,
          436.25,
          427,
          424.25,
          425.25,
          414.75,
          420.5,
          415.75,
          415.75,
          427.75,
          430,
          442,
          453,
          454.75,
          449.75,
          441,
          450,
          442.25,
          446.75,
          447.5,
          443.25,
          440,
          420.25,
          412,
          413.5,
          433,
          434,
          438.5,
          431.75,
          434.25,
          447.75,
          449.5
         ],
         "yaxis": "y"
        },
        {
         "name": "ZCZ19",
         "type": "scatter",
         "x": [
          296,
          295,
          294,
          291,
          290,
          289,
          288,
          287,
          284,
          283,
          282,
          281,
          280,
          277,
          276,
          275,
          274,
          273,
          270,
          269,
          268,
          267,
          266,
          263,
          262,
          261,
          260,
          259,
          256,
          255,
          254,
          253,
          252,
          249,
          248,
          247,
          246,
          245,
          242,
          241,
          240,
          239,
          235,
          234,
          233,
          232,
          231,
          228,
          227,
          226,
          225,
          224,
          221,
          220,
          219,
          218,
          217,
          214,
          213,
          212,
          211,
          210,
          207,
          206,
          205,
          204,
          203,
          199,
          198,
          197,
          196,
          193,
          192,
          191,
          190,
          189,
          186,
          185,
          184,
          183,
          182,
          179,
          178,
          177,
          176,
          175,
          172,
          171,
          170,
          169,
          168,
          165,
          164,
          163,
          161,
          158,
          157,
          156,
          155,
          154
         ],
         "y": [
          427.5,
          424.5,
          427,
          421,
          410,
          402.5,
          409.5,
          414.75,
          412.5,
          414,
          418.25,
          417.75,
          392.75,
          376.5,
          370.25,
          371,
          380.75,
          374.5,
          368.75,
          370.25,
          371,
          367.75,
          368.25,
          366.25,
          371,
          371.25,
          369.75,
          361,
          358.5,
          358.75,
          355.5,
          354.25,
          361.5,
          360,
          367.25,
          368.75,
          374,
          368,
          371.25,
          372.75,
          370.75,
          373.25,
          374.75,
          374.25,
          372.5,
          371.5,
          388,
          392.5,
          387.75,
          388.75,
          384.75,
          387,
          395.75,
          394.25,
          380.25,
          397.75,
          397.75,
          393.25,
          391.75,
          394.75,
          391,
          387.25,
          388,
          387.75,
          386.75,
          386.75,
          384,
          386.25,
          390.75,
          390,
          389.25,
          383.25,
          381.75,
          378.75,
          375.25,
          377.25,
          373.25,
          377.75,
          375.25,
          375.75,
          371.25,
          367.75,
          370,
          366.75,
          368.5,
          368.75,
          370.5,
          367.5,
          362.75,
          371.25,
          373.5,
          372,
          368.75,
          365.5,
          366.5,
          365.75,
          363.25,
          357.75,
          367,
          366.25
         ],
         "yaxis": "y"
        }
       ],
       "layout": {
        "autosize": true,
        "hovermode": "x",
        "legend": {
         "orientation": "h",
         "x": 0,
         "y": 1.1
        },
        "margin": {
         "b": 100
        },
        "modebar": {
         "bgcolor": "grey",
         "orientation": "v"
        },
        "spikedistance": 1000,
        "template": {
         "data": {
          "bar": [
           {
            "error_x": {
             "color": "#2a3f5f"
            },
            "error_y": {
             "color": "#2a3f5f"
            },
            "marker": {
             "line": {
              "color": "#E5ECF6",
              "width": 0.5
             }
            },
            "type": "bar"
           }
          ],
          "barpolar": [
           {
            "marker": {
             "line": {
              "color": "#E5ECF6",
              "width": 0.5
             }
            },
            "type": "barpolar"
           }
          ],
          "carpet": [
           {
            "aaxis": {
             "endlinecolor": "#2a3f5f",
             "gridcolor": "white",
             "linecolor": "white",
             "minorgridcolor": "white",
             "startlinecolor": "#2a3f5f"
            },
            "baxis": {
             "endlinecolor": "#2a3f5f",
             "gridcolor": "white",
             "linecolor": "white",
             "minorgridcolor": "white",
             "startlinecolor": "#2a3f5f"
            },
            "type": "carpet"
           }
          ],
          "choropleth": [
           {
            "colorbar": {
             "outlinewidth": 0,
             "ticks": ""
            },
            "type": "choropleth"
           }
          ],
          "contour": [
           {
            "colorbar": {
             "outlinewidth": 0,
             "ticks": ""
            },
            "colorscale": [
             [
              0,
              "#0d0887"
             ],
             [
              0.1111111111111111,
              "#46039f"
             ],
             [
              0.2222222222222222,
              "#7201a8"
             ],
             [
              0.3333333333333333,
              "#9c179e"
             ],
             [
              0.4444444444444444,
              "#bd3786"
             ],
             [
              0.5555555555555556,
              "#d8576b"
             ],
             [
              0.6666666666666666,
              "#ed7953"
             ],
             [
              0.7777777777777778,
              "#fb9f3a"
             ],
             [
              0.8888888888888888,
              "#fdca26"
             ],
             [
              1,
              "#f0f921"
             ]
            ],
            "type": "contour"
           }
          ],
          "contourcarpet": [
           {
            "colorbar": {
             "outlinewidth": 0,
             "ticks": ""
            },
            "type": "contourcarpet"
           }
          ],
          "heatmap": [
           {
            "colorbar": {
             "outlinewidth": 0,
             "ticks": ""
            },
            "colorscale": [
             [
              0,
              "#0d0887"
             ],
             [
              0.1111111111111111,
              "#46039f"
             ],
             [
              0.2222222222222222,
              "#7201a8"
             ],
             [
              0.3333333333333333,
              "#9c179e"
             ],
             [
              0.4444444444444444,
              "#bd3786"
             ],
             [
              0.5555555555555556,
              "#d8576b"
             ],
             [
              0.6666666666666666,
              "#ed7953"
             ],
             [
              0.7777777777777778,
              "#fb9f3a"
             ],
             [
              0.8888888888888888,
              "#fdca26"
             ],
             [
              1,
              "#f0f921"
             ]
            ],
            "type": "heatmap"
           }
          ],
          "heatmapgl": [
           {
            "colorbar": {
             "outlinewidth": 0,
             "ticks": ""
            },
            "colorscale": [
             [
              0,
              "#0d0887"
             ],
             [
              0.1111111111111111,
              "#46039f"
             ],
             [
              0.2222222222222222,
              "#7201a8"
             ],
             [
              0.3333333333333333,
              "#9c179e"
             ],
             [
              0.4444444444444444,
              "#bd3786"
             ],
             [
              0.5555555555555556,
              "#d8576b"
             ],
             [
              0.6666666666666666,
              "#ed7953"
             ],
             [
              0.7777777777777778,
              "#fb9f3a"
             ],
             [
              0.8888888888888888,
              "#fdca26"
             ],
             [
              1,
              "#f0f921"
             ]
            ],
            "type": "heatmapgl"
           }
          ],
          "histogram": [
           {
            "marker": {
             "colorbar": {
              "outlinewidth": 0,
              "ticks": ""
             }
            },
            "type": "histogram"
           }
          ],
          "histogram2d": [
           {
            "colorbar": {
             "outlinewidth": 0,
             "ticks": ""
            },
            "colorscale": [
             [
              0,
              "#0d0887"
             ],
             [
              0.1111111111111111,
              "#46039f"
             ],
             [
              0.2222222222222222,
              "#7201a8"
             ],
             [
              0.3333333333333333,
              "#9c179e"
             ],
             [
              0.4444444444444444,
              "#bd3786"
             ],
             [
              0.5555555555555556,
              "#d8576b"
             ],
             [
              0.6666666666666666,
              "#ed7953"
             ],
             [
              0.7777777777777778,
              "#fb9f3a"
             ],
             [
              0.8888888888888888,
              "#fdca26"
             ],
             [
              1,
              "#f0f921"
             ]
            ],
            "type": "histogram2d"
           }
          ],
          "histogram2dcontour": [
           {
            "colorbar": {
             "outlinewidth": 0,
             "ticks": ""
            },
            "colorscale": [
             [
              0,
              "#0d0887"
             ],
             [
              0.1111111111111111,
              "#46039f"
             ],
             [
              0.2222222222222222,
              "#7201a8"
             ],
             [
              0.3333333333333333,
              "#9c179e"
             ],
             [
              0.4444444444444444,
              "#bd3786"
             ],
             [
              0.5555555555555556,
              "#d8576b"
             ],
             [
              0.6666666666666666,
              "#ed7953"
             ],
             [
              0.7777777777777778,
              "#fb9f3a"
             ],
             [
              0.8888888888888888,
              "#fdca26"
             ],
             [
              1,
              "#f0f921"
             ]
            ],
            "type": "histogram2dcontour"
           }
          ],
          "mesh3d": [
           {
            "colorbar": {
             "outlinewidth": 0,
             "ticks": ""
            },
            "type": "mesh3d"
           }
          ],
          "parcoords": [
           {
            "line": {
             "colorbar": {
              "outlinewidth": 0,
              "ticks": ""
             }
            },
            "type": "parcoords"
           }
          ],
          "pie": [
           {
            "automargin": true,
            "type": "pie"
           }
          ],
          "scatter": [
           {
            "marker": {
             "colorbar": {
              "outlinewidth": 0,
              "ticks": ""
             }
            },
            "type": "scatter"
           }
          ],
          "scatter3d": [
           {
            "line": {
             "colorbar": {
              "outlinewidth": 0,
              "ticks": ""
             }
            },
            "marker": {
             "colorbar": {
              "outlinewidth": 0,
              "ticks": ""
             }
            },
            "type": "scatter3d"
           }
          ],
          "scattercarpet": [
           {
            "marker": {
             "colorbar": {
              "outlinewidth": 0,
              "ticks": ""
             }
            },
            "type": "scattercarpet"
           }
          ],
          "scattergeo": [
           {
            "marker": {
             "colorbar": {
              "outlinewidth": 0,
              "ticks": ""
             }
            },
            "type": "scattergeo"
           }
          ],
          "scattergl": [
           {
            "marker": {
             "colorbar": {
              "outlinewidth": 0,
              "ticks": ""
             }
            },
            "type": "scattergl"
           }
          ],
          "scattermapbox": [
           {
            "marker": {
             "colorbar": {
              "outlinewidth": 0,
              "ticks": ""
             }
            },
            "type": "scattermapbox"
           }
          ],
          "scatterpolar": [
           {
            "marker": {
             "colorbar": {
              "outlinewidth": 0,
              "ticks": ""
             }
            },
            "type": "scatterpolar"
           }
          ],
          "scatterpolargl": [
           {
            "marker": {
             "colorbar": {
              "outlinewidth": 0,
              "ticks": ""
             }
            },
            "type": "scatterpolargl"
           }
          ],
          "scatterternary": [
           {
            "marker": {
             "colorbar": {
              "outlinewidth": 0,
              "ticks": ""
             }
            },
            "type": "scatterternary"
           }
          ],
          "surface": [
           {
            "colorbar": {
             "outlinewidth": 0,
             "ticks": ""
            },
            "colorscale": [
             [
              0,
              "#0d0887"
             ],
             [
              0.1111111111111111,
              "#46039f"
             ],
             [
              0.2222222222222222,
              "#7201a8"
             ],
             [
              0.3333333333333333,
              "#9c179e"
             ],
             [
              0.4444444444444444,
              "#bd3786"
             ],
             [
              0.5555555555555556,
              "#d8576b"
             ],
             [
              0.6666666666666666,
              "#ed7953"
             ],
             [
              0.7777777777777778,
              "#fb9f3a"
             ],
             [
              0.8888888888888888,
              "#fdca26"
             ],
             [
              1,
              "#f0f921"
             ]
            ],
            "type": "surface"
           }
          ],
          "table": [
           {
            "cells": {
             "fill": {
              "color": "#EBF0F8"
             },
             "line": {
              "color": "white"
             }
            },
            "header": {
             "fill": {
              "color": "#C8D4E3"
             },
             "line": {
              "color": "white"
             }
            },
            "type": "table"
           }
          ]
         },
         "layout": {
          "annotationdefaults": {
           "arrowcolor": "#2a3f5f",
           "arrowhead": 0,
           "arrowwidth": 1
          },
          "coloraxis": {
           "colorbar": {
            "outlinewidth": 0,
            "ticks": ""
           }
          },
          "colorscale": {
           "diverging": [
            [
             0,
             "#8e0152"
            ],
            [
             0.1,
             "#c51b7d"
            ],
            [
             0.2,
             "#de77ae"
            ],
            [
             0.3,
             "#f1b6da"
            ],
            [
             0.4,
             "#fde0ef"
            ],
            [
             0.5,
             "#f7f7f7"
            ],
            [
             0.6,
             "#e6f5d0"
            ],
            [
             0.7,
             "#b8e186"
            ],
            [
             0.8,
             "#7fbc41"
            ],
            [
             0.9,
             "#4d9221"
            ],
            [
             1,
             "#276419"
            ]
           ],
           "sequential": [
            [
             0,
             "#0d0887"
            ],
            [
             0.1111111111111111,
             "#46039f"
            ],
            [
             0.2222222222222222,
             "#7201a8"
            ],
            [
             0.3333333333333333,
             "#9c179e"
            ],
            [
             0.4444444444444444,
             "#bd3786"
            ],
            [
             0.5555555555555556,
             "#d8576b"
            ],
            [
             0.6666666666666666,
             "#ed7953"
            ],
            [
             0.7777777777777778,
             "#fb9f3a"
            ],
            [
             0.8888888888888888,
             "#fdca26"
            ],
            [
             1,
             "#f0f921"
            ]
           ],
           "sequentialminus": [
            [
             0,
             "#0d0887"
            ],
            [
             0.1111111111111111,
             "#46039f"
            ],
            [
             0.2222222222222222,
             "#7201a8"
            ],
            [
             0.3333333333333333,
             "#9c179e"
            ],
            [
             0.4444444444444444,
             "#bd3786"
            ],
            [
             0.5555555555555556,
             "#d8576b"
            ],
            [
             0.6666666666666666,
             "#ed7953"
            ],
            [
             0.7777777777777778,
             "#fb9f3a"
            ],
            [
             0.8888888888888888,
             "#fdca26"
            ],
            [
             1,
             "#f0f921"
            ]
           ]
          },
          "colorway": [
           "#636efa",
           "#EF553B",
           "#00cc96",
           "#ab63fa",
           "#FFA15A",
           "#19d3f3",
           "#FF6692",
           "#B6E880",
           "#FF97FF",
           "#FECB52"
          ],
          "font": {
           "color": "#2a3f5f"
          },
          "geo": {
           "bgcolor": "white",
           "lakecolor": "white",
           "landcolor": "#E5ECF6",
           "showlakes": true,
           "showland": true,
           "subunitcolor": "white"
          },
          "hoverlabel": {
           "align": "left"
          },
          "hovermode": "closest",
          "mapbox": {
           "style": "light"
          },
          "paper_bgcolor": "white",
          "plot_bgcolor": "#E5ECF6",
          "polar": {
           "angularaxis": {
            "gridcolor": "white",
            "linecolor": "white",
            "ticks": ""
           },
           "bgcolor": "#E5ECF6",
           "radialaxis": {
            "gridcolor": "white",
            "linecolor": "white",
            "ticks": ""
           }
          },
          "scene": {
           "xaxis": {
            "backgroundcolor": "#E5ECF6",
            "gridcolor": "white",
            "gridwidth": 2,
            "linecolor": "white",
            "showbackground": true,
            "ticks": "",
            "zerolinecolor": "white"
           },
           "yaxis": {
            "backgroundcolor": "#E5ECF6",
            "gridcolor": "white",
            "gridwidth": 2,
            "linecolor": "white",
            "showbackground": true,
            "ticks": "",
            "zerolinecolor": "white"
           },
           "zaxis": {
            "backgroundcolor": "#E5ECF6",
            "gridcolor": "white",
            "gridwidth": 2,
            "linecolor": "white",
            "showbackground": true,
            "ticks": "",
            "zerolinecolor": "white"
           }
          },
          "shapedefaults": {
           "line": {
            "color": "#2a3f5f"
           }
          },
          "ternary": {
           "aaxis": {
            "gridcolor": "white",
            "linecolor": "white",
            "ticks": ""
           },
           "baxis": {
            "gridcolor": "white",
            "linecolor": "white",
            "ticks": ""
           },
           "bgcolor": "#E5ECF6",
           "caxis": {
            "gridcolor": "white",
            "linecolor": "white",
            "ticks": ""
           }
          },
          "title": {
           "x": 0.05
          },
          "xaxis": {
           "automargin": true,
           "gridcolor": "white",
           "linecolor": "white",
           "ticks": "",
           "title": {
            "standoff": 15
           },
           "zerolinecolor": "white",
           "zerolinewidth": 2
          },
          "yaxis": {
           "automargin": true,
           "gridcolor": "white",
           "linecolor": "white",
           "ticks": "",
           "title": {
            "standoff": 15
           },
           "zerolinecolor": "white",
           "zerolinewidth": 2
          }
         }
        },
        "title": {
         "text": "'ZCN19','ZCZ19' Price vs Days To Expiration",
         "x": 0.5,
         "xanchor": "center",
         "y": 0.9,
         "yanchor": "top"
        },
        "xaxis": {
         "autorange": "reversed",
         "showspikes": true,
         "spikedash": "solid",
         "spikemode": "toaxis+across",
         "spikethickness": 1,
         "tickangle": 45,
         "ticktext": [
          296,
          289,
          282,
          275,
          268,
          261,
          254,
          247,
          240,
          232,
          225,
          218,
          211,
          204,
          196,
          189,
          182,
          175,
          168,
          158
         ],
         "tickvals": [
          296,
          289,
          282,
          275,
          268,
          261,
          254,
          247,
          240,
          232,
          225,
          218,
          211,
          204,
          196,
          189,
          182,
          175,
          168,
          158
         ],
         "title": {
          "text": "Days To Expiry"
         },
         "type": "-"
        },
        "yaxis": {
         "showspikes": true,
         "spikedash": "solid",
         "spikemode": "toaxis+across",
         "spikethickness": 1,
         "title": {
          "text": "Closing Price"
         }
        },
        "yaxis2": {
         "overlaying": "y",
         "side": "right",
         "title": {
          "text": "y alt"
         }
        }
       }
      },
      "text/html": [
       "<div>\n",
       "        \n",
       "        \n",
       "            <div id=\"b75605d8-0e2c-4ad5-a2e5-3e343ddd688f\" class=\"plotly-graph-div\" style=\"height:525px; width:100%;\"></div>\n",
       "            <script type=\"text/javascript\">\n",
       "                require([\"plotly\"], function(Plotly) {\n",
       "                    window.PLOTLYENV=window.PLOTLYENV || {};\n",
       "                    \n",
       "                if (document.getElementById(\"b75605d8-0e2c-4ad5-a2e5-3e343ddd688f\")) {\n",
       "                    Plotly.newPlot(\n",
       "                        'b75605d8-0e2c-4ad5-a2e5-3e343ddd688f',\n",
       "                        [{\"name\": \"ZCN19\", \"type\": \"scatter\", \"x\": [296, 295, 294, 291, 290, 289, 288, 287, 284, 283, 282, 281, 280, 277, 276, 275, 274, 273, 270, 269, 268, 267, 266, 263, 262, 261, 260, 259, 256, 255, 254, 253, 252, 249, 248, 247, 246, 245, 242, 241, 240, 239, 235, 234, 233, 232, 231, 228, 227, 226, 225, 224, 221, 220, 219, 218, 217, 214, 213, 212, 211, 210, 207, 206, 205, 204, 203, 199, 198, 197, 196, 193, 192, 191, 190, 189, 186, 185, 184, 183, 182, 179, 178, 177, 176, 175, 172, 171, 170, 169, 168, 165, 164, 163, 161, 158, 157, 156, 155, 154], \"y\": [387.5, 392.25, 392.5, 388.25, 384.5, 382.25, 379.5, 381.5, 383.25, 384.5, 381.0, 374.25, 373.5, 371.5, 375.5, 376.25, 379.5, 382.25, 380.75, 380.75, 381.0, 385.5, 387.5, 389.25, 387.0, 383.5, 383.75, 366.25, 371.0, 370.75, 372.0, 374.25, 371.0, 368.5, 368.5, 370.75, 368.75, 369.5, 371.5, 367.75, 367.0, 367.25, 363.5, 360.25, 356.0, 357.25, 361.25, 361.75, 362.5, 368.5, 370.5, 370.75, 364.25, 366.5, 364.25, 353.25, 351.75, 356.5, 368.75, 369.5, 379.0, 383.25, 389.0, 394.25, 394.5, 389.75, 404.25, 420.25, 418.75, 436.25, 427.0, 424.25, 425.25, 414.75, 420.5, 415.75, 415.75, 427.75, 430.0, 442.0, 453.0, 454.75, 449.75, 441.0, 450.0, 442.25, 446.75, 447.5, 443.25, 440.0, 420.25, 412.0, 413.5, 433.0, 434.0, 438.5, 431.75, 434.25, 447.75, 449.5], \"yaxis\": \"y\"}, {\"name\": \"ZCZ19\", \"type\": \"scatter\", \"x\": [296, 295, 294, 291, 290, 289, 288, 287, 284, 283, 282, 281, 280, 277, 276, 275, 274, 273, 270, 269, 268, 267, 266, 263, 262, 261, 260, 259, 256, 255, 254, 253, 252, 249, 248, 247, 246, 245, 242, 241, 240, 239, 235, 234, 233, 232, 231, 228, 227, 226, 225, 224, 221, 220, 219, 218, 217, 214, 213, 212, 211, 210, 207, 206, 205, 204, 203, 199, 198, 197, 196, 193, 192, 191, 190, 189, 186, 185, 184, 183, 182, 179, 178, 177, 176, 175, 172, 171, 170, 169, 168, 165, 164, 163, 161, 158, 157, 156, 155, 154], \"y\": [427.5, 424.5, 427.0, 421.0, 410.0, 402.5, 409.5, 414.75, 412.5, 414.0, 418.25, 417.75, 392.75, 376.5, 370.25, 371.0, 380.75, 374.5, 368.75, 370.25, 371.0, 367.75, 368.25, 366.25, 371.0, 371.25, 369.75, 361.0, 358.5, 358.75, 355.5, 354.25, 361.5, 360.0, 367.25, 368.75, 374.0, 368.0, 371.25, 372.75, 370.75, 373.25, 374.75, 374.25, 372.5, 371.5, 388.0, 392.5, 387.75, 388.75, 384.75, 387.0, 395.75, 394.25, 380.25, 397.75, 397.75, 393.25, 391.75, 394.75, 391.0, 387.25, 388.0, 387.75, 386.75, 386.75, 384.0, 386.25, 390.75, 390.0, 389.25, 383.25, 381.75, 378.75, 375.25, 377.25, 373.25, 377.75, 375.25, 375.75, 371.25, 367.75, 370.0, 366.75, 368.5, 368.75, 370.5, 367.5, 362.75, 371.25, 373.5, 372.0, 368.75, 365.5, 366.5, 365.75, 363.25, 357.75, 367.0, 366.25], \"yaxis\": \"y\"}],\n",
       "                        {\"autosize\": true, \"hovermode\": \"x\", \"legend\": {\"orientation\": \"h\", \"x\": 0, \"y\": 1.1}, \"margin\": {\"b\": 100}, \"modebar\": {\"bgcolor\": \"grey\", \"orientation\": \"v\"}, \"spikedistance\": 1000, \"template\": {\"data\": {\"bar\": [{\"error_x\": {\"color\": \"#2a3f5f\"}, \"error_y\": {\"color\": \"#2a3f5f\"}, \"marker\": {\"line\": {\"color\": \"#E5ECF6\", \"width\": 0.5}}, \"type\": \"bar\"}], \"barpolar\": [{\"marker\": {\"line\": {\"color\": \"#E5ECF6\", \"width\": 0.5}}, \"type\": \"barpolar\"}], \"carpet\": [{\"aaxis\": {\"endlinecolor\": \"#2a3f5f\", \"gridcolor\": \"white\", \"linecolor\": \"white\", \"minorgridcolor\": \"white\", \"startlinecolor\": \"#2a3f5f\"}, \"baxis\": {\"endlinecolor\": \"#2a3f5f\", \"gridcolor\": \"white\", \"linecolor\": \"white\", \"minorgridcolor\": \"white\", \"startlinecolor\": \"#2a3f5f\"}, \"type\": \"carpet\"}], \"choropleth\": [{\"colorbar\": {\"outlinewidth\": 0, \"ticks\": \"\"}, \"type\": \"choropleth\"}], \"contour\": [{\"colorbar\": {\"outlinewidth\": 0, \"ticks\": \"\"}, \"colorscale\": [[0.0, \"#0d0887\"], [0.1111111111111111, \"#46039f\"], [0.2222222222222222, \"#7201a8\"], [0.3333333333333333, \"#9c179e\"], [0.4444444444444444, \"#bd3786\"], [0.5555555555555556, \"#d8576b\"], [0.6666666666666666, \"#ed7953\"], [0.7777777777777778, \"#fb9f3a\"], [0.8888888888888888, \"#fdca26\"], [1.0, \"#f0f921\"]], \"type\": \"contour\"}], \"contourcarpet\": [{\"colorbar\": {\"outlinewidth\": 0, \"ticks\": \"\"}, \"type\": \"contourcarpet\"}], \"heatmap\": [{\"colorbar\": {\"outlinewidth\": 0, \"ticks\": \"\"}, \"colorscale\": [[0.0, \"#0d0887\"], [0.1111111111111111, \"#46039f\"], [0.2222222222222222, \"#7201a8\"], [0.3333333333333333, \"#9c179e\"], [0.4444444444444444, \"#bd3786\"], [0.5555555555555556, \"#d8576b\"], [0.6666666666666666, \"#ed7953\"], [0.7777777777777778, \"#fb9f3a\"], [0.8888888888888888, \"#fdca26\"], [1.0, \"#f0f921\"]], \"type\": \"heatmap\"}], \"heatmapgl\": [{\"colorbar\": {\"outlinewidth\": 0, \"ticks\": \"\"}, \"colorscale\": [[0.0, \"#0d0887\"], [0.1111111111111111, \"#46039f\"], [0.2222222222222222, \"#7201a8\"], [0.3333333333333333, \"#9c179e\"], [0.4444444444444444, \"#bd3786\"], [0.5555555555555556, \"#d8576b\"], [0.6666666666666666, \"#ed7953\"], [0.7777777777777778, \"#fb9f3a\"], [0.8888888888888888, \"#fdca26\"], [1.0, \"#f0f921\"]], \"type\": \"heatmapgl\"}], \"histogram\": [{\"marker\": {\"colorbar\": {\"outlinewidth\": 0, \"ticks\": \"\"}}, \"type\": \"histogram\"}], \"histogram2d\": [{\"colorbar\": {\"outlinewidth\": 0, \"ticks\": \"\"}, \"colorscale\": [[0.0, \"#0d0887\"], [0.1111111111111111, \"#46039f\"], [0.2222222222222222, \"#7201a8\"], [0.3333333333333333, \"#9c179e\"], [0.4444444444444444, \"#bd3786\"], [0.5555555555555556, \"#d8576b\"], [0.6666666666666666, \"#ed7953\"], [0.7777777777777778, \"#fb9f3a\"], [0.8888888888888888, \"#fdca26\"], [1.0, \"#f0f921\"]], \"type\": \"histogram2d\"}], \"histogram2dcontour\": [{\"colorbar\": {\"outlinewidth\": 0, \"ticks\": \"\"}, \"colorscale\": [[0.0, \"#0d0887\"], [0.1111111111111111, \"#46039f\"], [0.2222222222222222, \"#7201a8\"], [0.3333333333333333, \"#9c179e\"], [0.4444444444444444, \"#bd3786\"], [0.5555555555555556, \"#d8576b\"], [0.6666666666666666, \"#ed7953\"], [0.7777777777777778, \"#fb9f3a\"], [0.8888888888888888, \"#fdca26\"], [1.0, \"#f0f921\"]], \"type\": \"histogram2dcontour\"}], \"mesh3d\": [{\"colorbar\": {\"outlinewidth\": 0, \"ticks\": \"\"}, \"type\": \"mesh3d\"}], \"parcoords\": [{\"line\": {\"colorbar\": {\"outlinewidth\": 0, \"ticks\": \"\"}}, \"type\": \"parcoords\"}], \"pie\": [{\"automargin\": true, \"type\": \"pie\"}], \"scatter\": [{\"marker\": {\"colorbar\": {\"outlinewidth\": 0, \"ticks\": \"\"}}, \"type\": \"scatter\"}], \"scatter3d\": [{\"line\": {\"colorbar\": {\"outlinewidth\": 0, \"ticks\": \"\"}}, \"marker\": {\"colorbar\": {\"outlinewidth\": 0, \"ticks\": \"\"}}, \"type\": \"scatter3d\"}], \"scattercarpet\": [{\"marker\": {\"colorbar\": {\"outlinewidth\": 0, \"ticks\": \"\"}}, \"type\": \"scattercarpet\"}], \"scattergeo\": [{\"marker\": {\"colorbar\": {\"outlinewidth\": 0, \"ticks\": \"\"}}, \"type\": \"scattergeo\"}], \"scattergl\": [{\"marker\": {\"colorbar\": {\"outlinewidth\": 0, \"ticks\": \"\"}}, \"type\": \"scattergl\"}], \"scattermapbox\": [{\"marker\": {\"colorbar\": {\"outlinewidth\": 0, \"ticks\": \"\"}}, \"type\": \"scattermapbox\"}], \"scatterpolar\": [{\"marker\": {\"colorbar\": {\"outlinewidth\": 0, \"ticks\": \"\"}}, \"type\": \"scatterpolar\"}], \"scatterpolargl\": [{\"marker\": {\"colorbar\": {\"outlinewidth\": 0, \"ticks\": \"\"}}, \"type\": \"scatterpolargl\"}], \"scatterternary\": [{\"marker\": {\"colorbar\": {\"outlinewidth\": 0, \"ticks\": \"\"}}, \"type\": \"scatterternary\"}], \"surface\": [{\"colorbar\": {\"outlinewidth\": 0, \"ticks\": \"\"}, \"colorscale\": [[0.0, \"#0d0887\"], [0.1111111111111111, \"#46039f\"], [0.2222222222222222, \"#7201a8\"], [0.3333333333333333, \"#9c179e\"], [0.4444444444444444, \"#bd3786\"], [0.5555555555555556, \"#d8576b\"], [0.6666666666666666, \"#ed7953\"], [0.7777777777777778, \"#fb9f3a\"], [0.8888888888888888, \"#fdca26\"], [1.0, \"#f0f921\"]], \"type\": \"surface\"}], \"table\": [{\"cells\": {\"fill\": {\"color\": \"#EBF0F8\"}, \"line\": {\"color\": \"white\"}}, \"header\": {\"fill\": {\"color\": \"#C8D4E3\"}, \"line\": {\"color\": \"white\"}}, \"type\": \"table\"}]}, \"layout\": {\"annotationdefaults\": {\"arrowcolor\": \"#2a3f5f\", \"arrowhead\": 0, \"arrowwidth\": 1}, \"coloraxis\": {\"colorbar\": {\"outlinewidth\": 0, \"ticks\": \"\"}}, \"colorscale\": {\"diverging\": [[0, \"#8e0152\"], [0.1, \"#c51b7d\"], [0.2, \"#de77ae\"], [0.3, \"#f1b6da\"], [0.4, \"#fde0ef\"], [0.5, \"#f7f7f7\"], [0.6, \"#e6f5d0\"], [0.7, \"#b8e186\"], [0.8, \"#7fbc41\"], [0.9, \"#4d9221\"], [1, \"#276419\"]], \"sequential\": [[0.0, \"#0d0887\"], [0.1111111111111111, \"#46039f\"], [0.2222222222222222, \"#7201a8\"], [0.3333333333333333, \"#9c179e\"], [0.4444444444444444, \"#bd3786\"], [0.5555555555555556, \"#d8576b\"], [0.6666666666666666, \"#ed7953\"], [0.7777777777777778, \"#fb9f3a\"], [0.8888888888888888, \"#fdca26\"], [1.0, \"#f0f921\"]], \"sequentialminus\": [[0.0, \"#0d0887\"], [0.1111111111111111, \"#46039f\"], [0.2222222222222222, \"#7201a8\"], [0.3333333333333333, \"#9c179e\"], [0.4444444444444444, \"#bd3786\"], [0.5555555555555556, \"#d8576b\"], [0.6666666666666666, \"#ed7953\"], [0.7777777777777778, \"#fb9f3a\"], [0.8888888888888888, \"#fdca26\"], [1.0, \"#f0f921\"]]}, \"colorway\": [\"#636efa\", \"#EF553B\", \"#00cc96\", \"#ab63fa\", \"#FFA15A\", \"#19d3f3\", \"#FF6692\", \"#B6E880\", \"#FF97FF\", \"#FECB52\"], \"font\": {\"color\": \"#2a3f5f\"}, \"geo\": {\"bgcolor\": \"white\", \"lakecolor\": \"white\", \"landcolor\": \"#E5ECF6\", \"showlakes\": true, \"showland\": true, \"subunitcolor\": \"white\"}, \"hoverlabel\": {\"align\": \"left\"}, \"hovermode\": \"closest\", \"mapbox\": {\"style\": \"light\"}, \"paper_bgcolor\": \"white\", \"plot_bgcolor\": \"#E5ECF6\", \"polar\": {\"angularaxis\": {\"gridcolor\": \"white\", \"linecolor\": \"white\", \"ticks\": \"\"}, \"bgcolor\": \"#E5ECF6\", \"radialaxis\": {\"gridcolor\": \"white\", \"linecolor\": \"white\", \"ticks\": \"\"}}, \"scene\": {\"xaxis\": {\"backgroundcolor\": \"#E5ECF6\", \"gridcolor\": \"white\", \"gridwidth\": 2, \"linecolor\": \"white\", \"showbackground\": true, \"ticks\": \"\", \"zerolinecolor\": \"white\"}, \"yaxis\": {\"backgroundcolor\": \"#E5ECF6\", \"gridcolor\": \"white\", \"gridwidth\": 2, \"linecolor\": \"white\", \"showbackground\": true, \"ticks\": \"\", \"zerolinecolor\": \"white\"}, \"zaxis\": {\"backgroundcolor\": \"#E5ECF6\", \"gridcolor\": \"white\", \"gridwidth\": 2, \"linecolor\": \"white\", \"showbackground\": true, \"ticks\": \"\", \"zerolinecolor\": \"white\"}}, \"shapedefaults\": {\"line\": {\"color\": \"#2a3f5f\"}}, \"ternary\": {\"aaxis\": {\"gridcolor\": \"white\", \"linecolor\": \"white\", \"ticks\": \"\"}, \"baxis\": {\"gridcolor\": \"white\", \"linecolor\": \"white\", \"ticks\": \"\"}, \"bgcolor\": \"#E5ECF6\", \"caxis\": {\"gridcolor\": \"white\", \"linecolor\": \"white\", \"ticks\": \"\"}}, \"title\": {\"x\": 0.05}, \"xaxis\": {\"automargin\": true, \"gridcolor\": \"white\", \"linecolor\": \"white\", \"ticks\": \"\", \"title\": {\"standoff\": 15}, \"zerolinecolor\": \"white\", \"zerolinewidth\": 2}, \"yaxis\": {\"automargin\": true, \"gridcolor\": \"white\", \"linecolor\": \"white\", \"ticks\": \"\", \"title\": {\"standoff\": 15}, \"zerolinecolor\": \"white\", \"zerolinewidth\": 2}}}, \"title\": {\"text\": \"'ZCN19','ZCZ19' Price vs Days To Expiration\", \"x\": 0.5, \"xanchor\": \"center\", \"y\": 0.9, \"yanchor\": \"top\"}, \"xaxis\": {\"autorange\": \"reversed\", \"showspikes\": true, \"spikedash\": \"solid\", \"spikemode\": \"toaxis+across\", \"spikethickness\": 1, \"tickangle\": 45, \"ticktext\": [296, 289, 282, 275, 268, 261, 254, 247, 240, 232, 225, 218, 211, 204, 196, 189, 182, 175, 168, 158], \"tickvals\": [296, 289, 282, 275, 268, 261, 254, 247, 240, 232, 225, 218, 211, 204, 196, 189, 182, 175, 168, 158], \"title\": {\"text\": \"Days To Expiry\"}, \"type\": \"-\"}, \"yaxis\": {\"showspikes\": true, \"spikedash\": \"solid\", \"spikemode\": \"toaxis+across\", \"spikethickness\": 1, \"title\": {\"text\": \"Closing Price\"}}, \"yaxis2\": {\"overlaying\": \"y\", \"side\": \"right\", \"title\": {\"text\": \"y alt\"}}},\n",
       "                        {\"responsive\": true}\n",
       "                    ).then(function(){\n",
       "                            \n",
       "var gd = document.getElementById('b75605d8-0e2c-4ad5-a2e5-3e343ddd688f');\n",
       "var x = new MutationObserver(function (mutations, observer) {{\n",
       "        var display = window.getComputedStyle(gd).display;\n",
       "        if (!display || display === 'none') {{\n",
       "            console.log([gd, 'removed!']);\n",
       "            Plotly.purge(gd);\n",
       "            observer.disconnect();\n",
       "        }}\n",
       "}});\n",
       "\n",
       "// Listen for the removal of the full notebook cells\n",
       "var notebookContainer = gd.closest('#notebook-container');\n",
       "if (notebookContainer) {{\n",
       "    x.observe(notebookContainer, {childList: true});\n",
       "}}\n",
       "\n",
       "// Listen for the clearing of the current output cell\n",
       "var outputEl = gd.closest('.output');\n",
       "if (outputEl) {{\n",
       "    x.observe(outputEl, {childList: true});\n",
       "}}\n",
       "\n",
       "                        })\n",
       "                };\n",
       "                });\n",
       "            </script>\n",
       "        </div>"
      ]
     },
     "metadata": {},
     "output_type": "display_data"
    },
    {
     "data": {
      "application/vnd.plotly.v1+json": {
       "config": {
        "linkText": "Export to plot.ly",
        "plotlyServerURL": "https://plot.ly",
        "showLink": false
       },
       "data": [
        {
         "name": "ZCN19",
         "type": "scatter",
         "x": [
          20190220,
          20190221,
          20190222,
          20190225,
          20190226,
          20190227,
          20190228,
          20190301,
          20190304,
          20190305,
          20190306,
          20190307,
          20190308,
          20190311,
          20190312,
          20190313,
          20190314,
          20190315,
          20190318,
          20190319,
          20190320,
          20190321,
          20190322,
          20190325,
          20190326,
          20190327,
          20190328,
          20190329,
          20190401,
          20190402,
          20190403,
          20190404,
          20190405,
          20190408,
          20190409,
          20190410,
          20190411,
          20190412,
          20190415,
          20190416,
          20190417,
          20190418,
          20190422,
          20190423,
          20190424,
          20190425,
          20190426,
          20190429,
          20190430,
          20190501,
          20190502,
          20190503,
          20190506,
          20190507,
          20190508,
          20190509,
          20190510,
          20190513,
          20190514,
          20190515,
          20190516,
          20190517,
          20190520,
          20190521,
          20190522,
          20190523,
          20190524,
          20190528,
          20190529,
          20190530,
          20190531,
          20190603,
          20190604,
          20190605,
          20190606,
          20190607,
          20190610,
          20190611,
          20190612,
          20190613,
          20190614,
          20190617,
          20190618,
          20190619,
          20190620,
          20190621,
          20190624,
          20190625,
          20190626,
          20190627,
          20190628,
          20190701,
          20190702,
          20190703,
          20190705,
          20190708,
          20190709,
          20190710,
          20190711,
          20190712
         ],
         "y": [
          387.5,
          392.25,
          392.5,
          388.25,
          384.5,
          382.25,
          379.5,
          381.5,
          383.25,
          384.5,
          381,
          374.25,
          373.5,
          371.5,
          375.5,
          376.25,
          379.5,
          382.25,
          380.75,
          380.75,
          381,
          385.5,
          387.5,
          389.25,
          387,
          383.5,
          383.75,
          366.25,
          371,
          370.75,
          372,
          374.25,
          371,
          368.5,
          368.5,
          370.75,
          368.75,
          369.5,
          371.5,
          367.75,
          367,
          367.25,
          363.5,
          360.25,
          356,
          357.25,
          361.25,
          361.75,
          362.5,
          368.5,
          370.5,
          370.75,
          364.25,
          366.5,
          364.25,
          353.25,
          351.75,
          356.5,
          368.75,
          369.5,
          379,
          383.25,
          389,
          394.25,
          394.5,
          389.75,
          404.25,
          420.25,
          418.75,
          436.25,
          427,
          424.25,
          425.25,
          414.75,
          420.5,
          415.75,
          415.75,
          427.75,
          430,
          442,
          453,
          454.75,
          449.75,
          441,
          450,
          442.25,
          446.75,
          447.5,
          443.25,
          440,
          420.25,
          412,
          413.5,
          433,
          434,
          438.5,
          431.75,
          434.25,
          447.75,
          449.5
         ],
         "yaxis": "y"
        },
        {
         "name": "ZCZ19",
         "type": "scatter",
         "x": [
          20190220,
          20190221,
          20190222,
          20190225,
          20190226,
          20190227,
          20190228,
          20190301,
          20190304,
          20190305,
          20190306,
          20190307,
          20190308,
          20190311,
          20190312,
          20190313,
          20190314,
          20190315,
          20190318,
          20190319,
          20190320,
          20190321,
          20190322,
          20190325,
          20190326,
          20190327,
          20190328,
          20190329,
          20190401,
          20190402,
          20190403,
          20190404,
          20190405,
          20190408,
          20190409,
          20190410,
          20190411,
          20190412,
          20190415,
          20190416,
          20190417,
          20190418,
          20190422,
          20190423,
          20190424,
          20190425,
          20190426,
          20190429,
          20190430,
          20190501,
          20190502,
          20190503,
          20190506,
          20190507,
          20190508,
          20190509,
          20190510,
          20190513,
          20190514,
          20190515,
          20190516,
          20190517,
          20190520,
          20190521,
          20190522,
          20190523,
          20190524,
          20190528,
          20190529,
          20190530,
          20190531,
          20190603,
          20190604,
          20190605,
          20190606,
          20190607,
          20190610,
          20190611,
          20190612,
          20190613,
          20190614,
          20190617,
          20190618,
          20190619,
          20190620,
          20190621,
          20190624,
          20190625,
          20190626,
          20190627,
          20190628,
          20190701,
          20190702,
          20190703,
          20190705,
          20190708,
          20190709,
          20190710,
          20190711,
          20190712
         ],
         "y": [
          427.5,
          424.5,
          427,
          421,
          410,
          402.5,
          409.5,
          414.75,
          412.5,
          414,
          418.25,
          417.75,
          392.75,
          376.5,
          370.25,
          371,
          380.75,
          374.5,
          368.75,
          370.25,
          371,
          367.75,
          368.25,
          366.25,
          371,
          371.25,
          369.75,
          361,
          358.5,
          358.75,
          355.5,
          354.25,
          361.5,
          360,
          367.25,
          368.75,
          374,
          368,
          371.25,
          372.75,
          370.75,
          373.25,
          374.75,
          374.25,
          372.5,
          371.5,
          388,
          392.5,
          387.75,
          388.75,
          384.75,
          387,
          395.75,
          394.25,
          380.25,
          397.75,
          397.75,
          393.25,
          391.75,
          394.75,
          391,
          387.25,
          388,
          387.75,
          386.75,
          386.75,
          384,
          386.25,
          390.75,
          390,
          389.25,
          383.25,
          381.75,
          378.75,
          375.25,
          377.25,
          373.25,
          377.75,
          375.25,
          375.75,
          371.25,
          367.75,
          370,
          366.75,
          368.5,
          368.75,
          370.5,
          367.5,
          362.75,
          371.25,
          373.5,
          372,
          368.75,
          365.5,
          366.5,
          365.75,
          363.25,
          357.75,
          367,
          366.25
         ],
         "yaxis": "y"
        }
       ],
       "layout": {
        "autosize": true,
        "hovermode": "x",
        "legend": {
         "orientation": "h",
         "x": 0,
         "y": 1.1
        },
        "margin": {
         "b": 100
        },
        "modebar": {
         "bgcolor": "grey",
         "orientation": "v"
        },
        "spikedistance": 1000,
        "template": {
         "data": {
          "bar": [
           {
            "error_x": {
             "color": "#2a3f5f"
            },
            "error_y": {
             "color": "#2a3f5f"
            },
            "marker": {
             "line": {
              "color": "#E5ECF6",
              "width": 0.5
             }
            },
            "type": "bar"
           }
          ],
          "barpolar": [
           {
            "marker": {
             "line": {
              "color": "#E5ECF6",
              "width": 0.5
             }
            },
            "type": "barpolar"
           }
          ],
          "carpet": [
           {
            "aaxis": {
             "endlinecolor": "#2a3f5f",
             "gridcolor": "white",
             "linecolor": "white",
             "minorgridcolor": "white",
             "startlinecolor": "#2a3f5f"
            },
            "baxis": {
             "endlinecolor": "#2a3f5f",
             "gridcolor": "white",
             "linecolor": "white",
             "minorgridcolor": "white",
             "startlinecolor": "#2a3f5f"
            },
            "type": "carpet"
           }
          ],
          "choropleth": [
           {
            "colorbar": {
             "outlinewidth": 0,
             "ticks": ""
            },
            "type": "choropleth"
           }
          ],
          "contour": [
           {
            "colorbar": {
             "outlinewidth": 0,
             "ticks": ""
            },
            "colorscale": [
             [
              0,
              "#0d0887"
             ],
             [
              0.1111111111111111,
              "#46039f"
             ],
             [
              0.2222222222222222,
              "#7201a8"
             ],
             [
              0.3333333333333333,
              "#9c179e"
             ],
             [
              0.4444444444444444,
              "#bd3786"
             ],
             [
              0.5555555555555556,
              "#d8576b"
             ],
             [
              0.6666666666666666,
              "#ed7953"
             ],
             [
              0.7777777777777778,
              "#fb9f3a"
             ],
             [
              0.8888888888888888,
              "#fdca26"
             ],
             [
              1,
              "#f0f921"
             ]
            ],
            "type": "contour"
           }
          ],
          "contourcarpet": [
           {
            "colorbar": {
             "outlinewidth": 0,
             "ticks": ""
            },
            "type": "contourcarpet"
           }
          ],
          "heatmap": [
           {
            "colorbar": {
             "outlinewidth": 0,
             "ticks": ""
            },
            "colorscale": [
             [
              0,
              "#0d0887"
             ],
             [
              0.1111111111111111,
              "#46039f"
             ],
             [
              0.2222222222222222,
              "#7201a8"
             ],
             [
              0.3333333333333333,
              "#9c179e"
             ],
             [
              0.4444444444444444,
              "#bd3786"
             ],
             [
              0.5555555555555556,
              "#d8576b"
             ],
             [
              0.6666666666666666,
              "#ed7953"
             ],
             [
              0.7777777777777778,
              "#fb9f3a"
             ],
             [
              0.8888888888888888,
              "#fdca26"
             ],
             [
              1,
              "#f0f921"
             ]
            ],
            "type": "heatmap"
           }
          ],
          "heatmapgl": [
           {
            "colorbar": {
             "outlinewidth": 0,
             "ticks": ""
            },
            "colorscale": [
             [
              0,
              "#0d0887"
             ],
             [
              0.1111111111111111,
              "#46039f"
             ],
             [
              0.2222222222222222,
              "#7201a8"
             ],
             [
              0.3333333333333333,
              "#9c179e"
             ],
             [
              0.4444444444444444,
              "#bd3786"
             ],
             [
              0.5555555555555556,
              "#d8576b"
             ],
             [
              0.6666666666666666,
              "#ed7953"
             ],
             [
              0.7777777777777778,
              "#fb9f3a"
             ],
             [
              0.8888888888888888,
              "#fdca26"
             ],
             [
              1,
              "#f0f921"
             ]
            ],
            "type": "heatmapgl"
           }
          ],
          "histogram": [
           {
            "marker": {
             "colorbar": {
              "outlinewidth": 0,
              "ticks": ""
             }
            },
            "type": "histogram"
           }
          ],
          "histogram2d": [
           {
            "colorbar": {
             "outlinewidth": 0,
             "ticks": ""
            },
            "colorscale": [
             [
              0,
              "#0d0887"
             ],
             [
              0.1111111111111111,
              "#46039f"
             ],
             [
              0.2222222222222222,
              "#7201a8"
             ],
             [
              0.3333333333333333,
              "#9c179e"
             ],
             [
              0.4444444444444444,
              "#bd3786"
             ],
             [
              0.5555555555555556,
              "#d8576b"
             ],
             [
              0.6666666666666666,
              "#ed7953"
             ],
             [
              0.7777777777777778,
              "#fb9f3a"
             ],
             [
              0.8888888888888888,
              "#fdca26"
             ],
             [
              1,
              "#f0f921"
             ]
            ],
            "type": "histogram2d"
           }
          ],
          "histogram2dcontour": [
           {
            "colorbar": {
             "outlinewidth": 0,
             "ticks": ""
            },
            "colorscale": [
             [
              0,
              "#0d0887"
             ],
             [
              0.1111111111111111,
              "#46039f"
             ],
             [
              0.2222222222222222,
              "#7201a8"
             ],
             [
              0.3333333333333333,
              "#9c179e"
             ],
             [
              0.4444444444444444,
              "#bd3786"
             ],
             [
              0.5555555555555556,
              "#d8576b"
             ],
             [
              0.6666666666666666,
              "#ed7953"
             ],
             [
              0.7777777777777778,
              "#fb9f3a"
             ],
             [
              0.8888888888888888,
              "#fdca26"
             ],
             [
              1,
              "#f0f921"
             ]
            ],
            "type": "histogram2dcontour"
           }
          ],
          "mesh3d": [
           {
            "colorbar": {
             "outlinewidth": 0,
             "ticks": ""
            },
            "type": "mesh3d"
           }
          ],
          "parcoords": [
           {
            "line": {
             "colorbar": {
              "outlinewidth": 0,
              "ticks": ""
             }
            },
            "type": "parcoords"
           }
          ],
          "pie": [
           {
            "automargin": true,
            "type": "pie"
           }
          ],
          "scatter": [
           {
            "marker": {
             "colorbar": {
              "outlinewidth": 0,
              "ticks": ""
             }
            },
            "type": "scatter"
           }
          ],
          "scatter3d": [
           {
            "line": {
             "colorbar": {
              "outlinewidth": 0,
              "ticks": ""
             }
            },
            "marker": {
             "colorbar": {
              "outlinewidth": 0,
              "ticks": ""
             }
            },
            "type": "scatter3d"
           }
          ],
          "scattercarpet": [
           {
            "marker": {
             "colorbar": {
              "outlinewidth": 0,
              "ticks": ""
             }
            },
            "type": "scattercarpet"
           }
          ],
          "scattergeo": [
           {
            "marker": {
             "colorbar": {
              "outlinewidth": 0,
              "ticks": ""
             }
            },
            "type": "scattergeo"
           }
          ],
          "scattergl": [
           {
            "marker": {
             "colorbar": {
              "outlinewidth": 0,
              "ticks": ""
             }
            },
            "type": "scattergl"
           }
          ],
          "scattermapbox": [
           {
            "marker": {
             "colorbar": {
              "outlinewidth": 0,
              "ticks": ""
             }
            },
            "type": "scattermapbox"
           }
          ],
          "scatterpolar": [
           {
            "marker": {
             "colorbar": {
              "outlinewidth": 0,
              "ticks": ""
             }
            },
            "type": "scatterpolar"
           }
          ],
          "scatterpolargl": [
           {
            "marker": {
             "colorbar": {
              "outlinewidth": 0,
              "ticks": ""
             }
            },
            "type": "scatterpolargl"
           }
          ],
          "scatterternary": [
           {
            "marker": {
             "colorbar": {
              "outlinewidth": 0,
              "ticks": ""
             }
            },
            "type": "scatterternary"
           }
          ],
          "surface": [
           {
            "colorbar": {
             "outlinewidth": 0,
             "ticks": ""
            },
            "colorscale": [
             [
              0,
              "#0d0887"
             ],
             [
              0.1111111111111111,
              "#46039f"
             ],
             [
              0.2222222222222222,
              "#7201a8"
             ],
             [
              0.3333333333333333,
              "#9c179e"
             ],
             [
              0.4444444444444444,
              "#bd3786"
             ],
             [
              0.5555555555555556,
              "#d8576b"
             ],
             [
              0.6666666666666666,
              "#ed7953"
             ],
             [
              0.7777777777777778,
              "#fb9f3a"
             ],
             [
              0.8888888888888888,
              "#fdca26"
             ],
             [
              1,
              "#f0f921"
             ]
            ],
            "type": "surface"
           }
          ],
          "table": [
           {
            "cells": {
             "fill": {
              "color": "#EBF0F8"
             },
             "line": {
              "color": "white"
             }
            },
            "header": {
             "fill": {
              "color": "#C8D4E3"
             },
             "line": {
              "color": "white"
             }
            },
            "type": "table"
           }
          ]
         },
         "layout": {
          "annotationdefaults": {
           "arrowcolor": "#2a3f5f",
           "arrowhead": 0,
           "arrowwidth": 1
          },
          "coloraxis": {
           "colorbar": {
            "outlinewidth": 0,
            "ticks": ""
           }
          },
          "colorscale": {
           "diverging": [
            [
             0,
             "#8e0152"
            ],
            [
             0.1,
             "#c51b7d"
            ],
            [
             0.2,
             "#de77ae"
            ],
            [
             0.3,
             "#f1b6da"
            ],
            [
             0.4,
             "#fde0ef"
            ],
            [
             0.5,
             "#f7f7f7"
            ],
            [
             0.6,
             "#e6f5d0"
            ],
            [
             0.7,
             "#b8e186"
            ],
            [
             0.8,
             "#7fbc41"
            ],
            [
             0.9,
             "#4d9221"
            ],
            [
             1,
             "#276419"
            ]
           ],
           "sequential": [
            [
             0,
             "#0d0887"
            ],
            [
             0.1111111111111111,
             "#46039f"
            ],
            [
             0.2222222222222222,
             "#7201a8"
            ],
            [
             0.3333333333333333,
             "#9c179e"
            ],
            [
             0.4444444444444444,
             "#bd3786"
            ],
            [
             0.5555555555555556,
             "#d8576b"
            ],
            [
             0.6666666666666666,
             "#ed7953"
            ],
            [
             0.7777777777777778,
             "#fb9f3a"
            ],
            [
             0.8888888888888888,
             "#fdca26"
            ],
            [
             1,
             "#f0f921"
            ]
           ],
           "sequentialminus": [
            [
             0,
             "#0d0887"
            ],
            [
             0.1111111111111111,
             "#46039f"
            ],
            [
             0.2222222222222222,
             "#7201a8"
            ],
            [
             0.3333333333333333,
             "#9c179e"
            ],
            [
             0.4444444444444444,
             "#bd3786"
            ],
            [
             0.5555555555555556,
             "#d8576b"
            ],
            [
             0.6666666666666666,
             "#ed7953"
            ],
            [
             0.7777777777777778,
             "#fb9f3a"
            ],
            [
             0.8888888888888888,
             "#fdca26"
            ],
            [
             1,
             "#f0f921"
            ]
           ]
          },
          "colorway": [
           "#636efa",
           "#EF553B",
           "#00cc96",
           "#ab63fa",
           "#FFA15A",
           "#19d3f3",
           "#FF6692",
           "#B6E880",
           "#FF97FF",
           "#FECB52"
          ],
          "font": {
           "color": "#2a3f5f"
          },
          "geo": {
           "bgcolor": "white",
           "lakecolor": "white",
           "landcolor": "#E5ECF6",
           "showlakes": true,
           "showland": true,
           "subunitcolor": "white"
          },
          "hoverlabel": {
           "align": "left"
          },
          "hovermode": "closest",
          "mapbox": {
           "style": "light"
          },
          "paper_bgcolor": "white",
          "plot_bgcolor": "#E5ECF6",
          "polar": {
           "angularaxis": {
            "gridcolor": "white",
            "linecolor": "white",
            "ticks": ""
           },
           "bgcolor": "#E5ECF6",
           "radialaxis": {
            "gridcolor": "white",
            "linecolor": "white",
            "ticks": ""
           }
          },
          "scene": {
           "xaxis": {
            "backgroundcolor": "#E5ECF6",
            "gridcolor": "white",
            "gridwidth": 2,
            "linecolor": "white",
            "showbackground": true,
            "ticks": "",
            "zerolinecolor": "white"
           },
           "yaxis": {
            "backgroundcolor": "#E5ECF6",
            "gridcolor": "white",
            "gridwidth": 2,
            "linecolor": "white",
            "showbackground": true,
            "ticks": "",
            "zerolinecolor": "white"
           },
           "zaxis": {
            "backgroundcolor": "#E5ECF6",
            "gridcolor": "white",
            "gridwidth": 2,
            "linecolor": "white",
            "showbackground": true,
            "ticks": "",
            "zerolinecolor": "white"
           }
          },
          "shapedefaults": {
           "line": {
            "color": "#2a3f5f"
           }
          },
          "ternary": {
           "aaxis": {
            "gridcolor": "white",
            "linecolor": "white",
            "ticks": ""
           },
           "baxis": {
            "gridcolor": "white",
            "linecolor": "white",
            "ticks": ""
           },
           "bgcolor": "#E5ECF6",
           "caxis": {
            "gridcolor": "white",
            "linecolor": "white",
            "ticks": ""
           }
          },
          "title": {
           "x": 0.05
          },
          "xaxis": {
           "automargin": true,
           "gridcolor": "white",
           "linecolor": "white",
           "ticks": "",
           "title": {
            "standoff": 15
           },
           "zerolinecolor": "white",
           "zerolinewidth": 2
          },
          "yaxis": {
           "automargin": true,
           "gridcolor": "white",
           "linecolor": "white",
           "ticks": "",
           "title": {
            "standoff": 15
           },
           "zerolinecolor": "white",
           "zerolinewidth": 2
          }
         }
        },
        "title": {
         "text": "'ZCN19','ZCZ19' Price vs Settle Date",
         "x": 0.5,
         "xanchor": "center",
         "y": 0.9,
         "yanchor": "top"
        },
        "xaxis": {
         "showspikes": true,
         "spikedash": "solid",
         "spikemode": "toaxis+across",
         "spikethickness": 1,
         "tickangle": 45,
         "ticktext": [
          20190220,
          20190227,
          20190306,
          20190313,
          20190320,
          20190327,
          20190403,
          20190410,
          20190417,
          20190425,
          20190502,
          20190509,
          20190516,
          20190523,
          20190531,
          20190607,
          20190614,
          20190621,
          20190628,
          20190708
         ],
         "tickvals": [
          20190220,
          20190227,
          20190306,
          20190313,
          20190320,
          20190327,
          20190403,
          20190410,
          20190417,
          20190425,
          20190502,
          20190509,
          20190516,
          20190523,
          20190531,
          20190607,
          20190614,
          20190621,
          20190628,
          20190708
         ],
         "type": "category"
        },
        "yaxis": {
         "showspikes": true,
         "spikedash": "solid",
         "spikemode": "toaxis+across",
         "spikethickness": 1,
         "title": {
          "text": "Closing Price"
         }
        },
        "yaxis2": {
         "overlaying": "y",
         "side": "right",
         "title": {
          "text": "y alt"
         }
        }
       }
      },
      "text/html": [
       "<div>\n",
       "        \n",
       "        \n",
       "            <div id=\"0edaebcc-9f53-4c98-b44b-fe0b373f5fd5\" class=\"plotly-graph-div\" style=\"height:525px; width:100%;\"></div>\n",
       "            <script type=\"text/javascript\">\n",
       "                require([\"plotly\"], function(Plotly) {\n",
       "                    window.PLOTLYENV=window.PLOTLYENV || {};\n",
       "                    \n",
       "                if (document.getElementById(\"0edaebcc-9f53-4c98-b44b-fe0b373f5fd5\")) {\n",
       "                    Plotly.newPlot(\n",
       "                        '0edaebcc-9f53-4c98-b44b-fe0b373f5fd5',\n",
       "                        [{\"name\": \"ZCN19\", \"type\": \"scatter\", \"x\": [20190220, 20190221, 20190222, 20190225, 20190226, 20190227, 20190228, 20190301, 20190304, 20190305, 20190306, 20190307, 20190308, 20190311, 20190312, 20190313, 20190314, 20190315, 20190318, 20190319, 20190320, 20190321, 20190322, 20190325, 20190326, 20190327, 20190328, 20190329, 20190401, 20190402, 20190403, 20190404, 20190405, 20190408, 20190409, 20190410, 20190411, 20190412, 20190415, 20190416, 20190417, 20190418, 20190422, 20190423, 20190424, 20190425, 20190426, 20190429, 20190430, 20190501, 20190502, 20190503, 20190506, 20190507, 20190508, 20190509, 20190510, 20190513, 20190514, 20190515, 20190516, 20190517, 20190520, 20190521, 20190522, 20190523, 20190524, 20190528, 20190529, 20190530, 20190531, 20190603, 20190604, 20190605, 20190606, 20190607, 20190610, 20190611, 20190612, 20190613, 20190614, 20190617, 20190618, 20190619, 20190620, 20190621, 20190624, 20190625, 20190626, 20190627, 20190628, 20190701, 20190702, 20190703, 20190705, 20190708, 20190709, 20190710, 20190711, 20190712], \"y\": [387.5, 392.25, 392.5, 388.25, 384.5, 382.25, 379.5, 381.5, 383.25, 384.5, 381.0, 374.25, 373.5, 371.5, 375.5, 376.25, 379.5, 382.25, 380.75, 380.75, 381.0, 385.5, 387.5, 389.25, 387.0, 383.5, 383.75, 366.25, 371.0, 370.75, 372.0, 374.25, 371.0, 368.5, 368.5, 370.75, 368.75, 369.5, 371.5, 367.75, 367.0, 367.25, 363.5, 360.25, 356.0, 357.25, 361.25, 361.75, 362.5, 368.5, 370.5, 370.75, 364.25, 366.5, 364.25, 353.25, 351.75, 356.5, 368.75, 369.5, 379.0, 383.25, 389.0, 394.25, 394.5, 389.75, 404.25, 420.25, 418.75, 436.25, 427.0, 424.25, 425.25, 414.75, 420.5, 415.75, 415.75, 427.75, 430.0, 442.0, 453.0, 454.75, 449.75, 441.0, 450.0, 442.25, 446.75, 447.5, 443.25, 440.0, 420.25, 412.0, 413.5, 433.0, 434.0, 438.5, 431.75, 434.25, 447.75, 449.5], \"yaxis\": \"y\"}, {\"name\": \"ZCZ19\", \"type\": \"scatter\", \"x\": [20190220, 20190221, 20190222, 20190225, 20190226, 20190227, 20190228, 20190301, 20190304, 20190305, 20190306, 20190307, 20190308, 20190311, 20190312, 20190313, 20190314, 20190315, 20190318, 20190319, 20190320, 20190321, 20190322, 20190325, 20190326, 20190327, 20190328, 20190329, 20190401, 20190402, 20190403, 20190404, 20190405, 20190408, 20190409, 20190410, 20190411, 20190412, 20190415, 20190416, 20190417, 20190418, 20190422, 20190423, 20190424, 20190425, 20190426, 20190429, 20190430, 20190501, 20190502, 20190503, 20190506, 20190507, 20190508, 20190509, 20190510, 20190513, 20190514, 20190515, 20190516, 20190517, 20190520, 20190521, 20190522, 20190523, 20190524, 20190528, 20190529, 20190530, 20190531, 20190603, 20190604, 20190605, 20190606, 20190607, 20190610, 20190611, 20190612, 20190613, 20190614, 20190617, 20190618, 20190619, 20190620, 20190621, 20190624, 20190625, 20190626, 20190627, 20190628, 20190701, 20190702, 20190703, 20190705, 20190708, 20190709, 20190710, 20190711, 20190712], \"y\": [427.5, 424.5, 427.0, 421.0, 410.0, 402.5, 409.5, 414.75, 412.5, 414.0, 418.25, 417.75, 392.75, 376.5, 370.25, 371.0, 380.75, 374.5, 368.75, 370.25, 371.0, 367.75, 368.25, 366.25, 371.0, 371.25, 369.75, 361.0, 358.5, 358.75, 355.5, 354.25, 361.5, 360.0, 367.25, 368.75, 374.0, 368.0, 371.25, 372.75, 370.75, 373.25, 374.75, 374.25, 372.5, 371.5, 388.0, 392.5, 387.75, 388.75, 384.75, 387.0, 395.75, 394.25, 380.25, 397.75, 397.75, 393.25, 391.75, 394.75, 391.0, 387.25, 388.0, 387.75, 386.75, 386.75, 384.0, 386.25, 390.75, 390.0, 389.25, 383.25, 381.75, 378.75, 375.25, 377.25, 373.25, 377.75, 375.25, 375.75, 371.25, 367.75, 370.0, 366.75, 368.5, 368.75, 370.5, 367.5, 362.75, 371.25, 373.5, 372.0, 368.75, 365.5, 366.5, 365.75, 363.25, 357.75, 367.0, 366.25], \"yaxis\": \"y\"}],\n",
       "                        {\"autosize\": true, \"hovermode\": \"x\", \"legend\": {\"orientation\": \"h\", \"x\": 0, \"y\": 1.1}, \"margin\": {\"b\": 100}, \"modebar\": {\"bgcolor\": \"grey\", \"orientation\": \"v\"}, \"spikedistance\": 1000, \"template\": {\"data\": {\"bar\": [{\"error_x\": {\"color\": \"#2a3f5f\"}, \"error_y\": {\"color\": \"#2a3f5f\"}, \"marker\": {\"line\": {\"color\": \"#E5ECF6\", \"width\": 0.5}}, \"type\": \"bar\"}], \"barpolar\": [{\"marker\": {\"line\": {\"color\": \"#E5ECF6\", \"width\": 0.5}}, \"type\": \"barpolar\"}], \"carpet\": [{\"aaxis\": {\"endlinecolor\": \"#2a3f5f\", \"gridcolor\": \"white\", \"linecolor\": \"white\", \"minorgridcolor\": \"white\", \"startlinecolor\": \"#2a3f5f\"}, \"baxis\": {\"endlinecolor\": \"#2a3f5f\", \"gridcolor\": \"white\", \"linecolor\": \"white\", \"minorgridcolor\": \"white\", \"startlinecolor\": \"#2a3f5f\"}, \"type\": \"carpet\"}], \"choropleth\": [{\"colorbar\": {\"outlinewidth\": 0, \"ticks\": \"\"}, \"type\": \"choropleth\"}], \"contour\": [{\"colorbar\": {\"outlinewidth\": 0, \"ticks\": \"\"}, \"colorscale\": [[0.0, \"#0d0887\"], [0.1111111111111111, \"#46039f\"], [0.2222222222222222, \"#7201a8\"], [0.3333333333333333, \"#9c179e\"], [0.4444444444444444, \"#bd3786\"], [0.5555555555555556, \"#d8576b\"], [0.6666666666666666, \"#ed7953\"], [0.7777777777777778, \"#fb9f3a\"], [0.8888888888888888, \"#fdca26\"], [1.0, \"#f0f921\"]], \"type\": \"contour\"}], \"contourcarpet\": [{\"colorbar\": {\"outlinewidth\": 0, \"ticks\": \"\"}, \"type\": \"contourcarpet\"}], \"heatmap\": [{\"colorbar\": {\"outlinewidth\": 0, \"ticks\": \"\"}, \"colorscale\": [[0.0, \"#0d0887\"], [0.1111111111111111, \"#46039f\"], [0.2222222222222222, \"#7201a8\"], [0.3333333333333333, \"#9c179e\"], [0.4444444444444444, \"#bd3786\"], [0.5555555555555556, \"#d8576b\"], [0.6666666666666666, \"#ed7953\"], [0.7777777777777778, \"#fb9f3a\"], [0.8888888888888888, \"#fdca26\"], [1.0, \"#f0f921\"]], \"type\": \"heatmap\"}], \"heatmapgl\": [{\"colorbar\": {\"outlinewidth\": 0, \"ticks\": \"\"}, \"colorscale\": [[0.0, \"#0d0887\"], [0.1111111111111111, \"#46039f\"], [0.2222222222222222, \"#7201a8\"], [0.3333333333333333, \"#9c179e\"], [0.4444444444444444, \"#bd3786\"], [0.5555555555555556, \"#d8576b\"], [0.6666666666666666, \"#ed7953\"], [0.7777777777777778, \"#fb9f3a\"], [0.8888888888888888, \"#fdca26\"], [1.0, \"#f0f921\"]], \"type\": \"heatmapgl\"}], \"histogram\": [{\"marker\": {\"colorbar\": {\"outlinewidth\": 0, \"ticks\": \"\"}}, \"type\": \"histogram\"}], \"histogram2d\": [{\"colorbar\": {\"outlinewidth\": 0, \"ticks\": \"\"}, \"colorscale\": [[0.0, \"#0d0887\"], [0.1111111111111111, \"#46039f\"], [0.2222222222222222, \"#7201a8\"], [0.3333333333333333, \"#9c179e\"], [0.4444444444444444, \"#bd3786\"], [0.5555555555555556, \"#d8576b\"], [0.6666666666666666, \"#ed7953\"], [0.7777777777777778, \"#fb9f3a\"], [0.8888888888888888, \"#fdca26\"], [1.0, \"#f0f921\"]], \"type\": \"histogram2d\"}], \"histogram2dcontour\": [{\"colorbar\": {\"outlinewidth\": 0, \"ticks\": \"\"}, \"colorscale\": [[0.0, \"#0d0887\"], [0.1111111111111111, \"#46039f\"], [0.2222222222222222, \"#7201a8\"], [0.3333333333333333, \"#9c179e\"], [0.4444444444444444, \"#bd3786\"], [0.5555555555555556, \"#d8576b\"], [0.6666666666666666, \"#ed7953\"], [0.7777777777777778, \"#fb9f3a\"], [0.8888888888888888, \"#fdca26\"], [1.0, \"#f0f921\"]], \"type\": \"histogram2dcontour\"}], \"mesh3d\": [{\"colorbar\": {\"outlinewidth\": 0, \"ticks\": \"\"}, \"type\": \"mesh3d\"}], \"parcoords\": [{\"line\": {\"colorbar\": {\"outlinewidth\": 0, \"ticks\": \"\"}}, \"type\": \"parcoords\"}], \"pie\": [{\"automargin\": true, \"type\": \"pie\"}], \"scatter\": [{\"marker\": {\"colorbar\": {\"outlinewidth\": 0, \"ticks\": \"\"}}, \"type\": \"scatter\"}], \"scatter3d\": [{\"line\": {\"colorbar\": {\"outlinewidth\": 0, \"ticks\": \"\"}}, \"marker\": {\"colorbar\": {\"outlinewidth\": 0, \"ticks\": \"\"}}, \"type\": \"scatter3d\"}], \"scattercarpet\": [{\"marker\": {\"colorbar\": {\"outlinewidth\": 0, \"ticks\": \"\"}}, \"type\": \"scattercarpet\"}], \"scattergeo\": [{\"marker\": {\"colorbar\": {\"outlinewidth\": 0, \"ticks\": \"\"}}, \"type\": \"scattergeo\"}], \"scattergl\": [{\"marker\": {\"colorbar\": {\"outlinewidth\": 0, \"ticks\": \"\"}}, \"type\": \"scattergl\"}], \"scattermapbox\": [{\"marker\": {\"colorbar\": {\"outlinewidth\": 0, \"ticks\": \"\"}}, \"type\": \"scattermapbox\"}], \"scatterpolar\": [{\"marker\": {\"colorbar\": {\"outlinewidth\": 0, \"ticks\": \"\"}}, \"type\": \"scatterpolar\"}], \"scatterpolargl\": [{\"marker\": {\"colorbar\": {\"outlinewidth\": 0, \"ticks\": \"\"}}, \"type\": \"scatterpolargl\"}], \"scatterternary\": [{\"marker\": {\"colorbar\": {\"outlinewidth\": 0, \"ticks\": \"\"}}, \"type\": \"scatterternary\"}], \"surface\": [{\"colorbar\": {\"outlinewidth\": 0, \"ticks\": \"\"}, \"colorscale\": [[0.0, \"#0d0887\"], [0.1111111111111111, \"#46039f\"], [0.2222222222222222, \"#7201a8\"], [0.3333333333333333, \"#9c179e\"], [0.4444444444444444, \"#bd3786\"], [0.5555555555555556, \"#d8576b\"], [0.6666666666666666, \"#ed7953\"], [0.7777777777777778, \"#fb9f3a\"], [0.8888888888888888, \"#fdca26\"], [1.0, \"#f0f921\"]], \"type\": \"surface\"}], \"table\": [{\"cells\": {\"fill\": {\"color\": \"#EBF0F8\"}, \"line\": {\"color\": \"white\"}}, \"header\": {\"fill\": {\"color\": \"#C8D4E3\"}, \"line\": {\"color\": \"white\"}}, \"type\": \"table\"}]}, \"layout\": {\"annotationdefaults\": {\"arrowcolor\": \"#2a3f5f\", \"arrowhead\": 0, \"arrowwidth\": 1}, \"coloraxis\": {\"colorbar\": {\"outlinewidth\": 0, \"ticks\": \"\"}}, \"colorscale\": {\"diverging\": [[0, \"#8e0152\"], [0.1, \"#c51b7d\"], [0.2, \"#de77ae\"], [0.3, \"#f1b6da\"], [0.4, \"#fde0ef\"], [0.5, \"#f7f7f7\"], [0.6, \"#e6f5d0\"], [0.7, \"#b8e186\"], [0.8, \"#7fbc41\"], [0.9, \"#4d9221\"], [1, \"#276419\"]], \"sequential\": [[0.0, \"#0d0887\"], [0.1111111111111111, \"#46039f\"], [0.2222222222222222, \"#7201a8\"], [0.3333333333333333, \"#9c179e\"], [0.4444444444444444, \"#bd3786\"], [0.5555555555555556, \"#d8576b\"], [0.6666666666666666, \"#ed7953\"], [0.7777777777777778, \"#fb9f3a\"], [0.8888888888888888, \"#fdca26\"], [1.0, \"#f0f921\"]], \"sequentialminus\": [[0.0, \"#0d0887\"], [0.1111111111111111, \"#46039f\"], [0.2222222222222222, \"#7201a8\"], [0.3333333333333333, \"#9c179e\"], [0.4444444444444444, \"#bd3786\"], [0.5555555555555556, \"#d8576b\"], [0.6666666666666666, \"#ed7953\"], [0.7777777777777778, \"#fb9f3a\"], [0.8888888888888888, \"#fdca26\"], [1.0, \"#f0f921\"]]}, \"colorway\": [\"#636efa\", \"#EF553B\", \"#00cc96\", \"#ab63fa\", \"#FFA15A\", \"#19d3f3\", \"#FF6692\", \"#B6E880\", \"#FF97FF\", \"#FECB52\"], \"font\": {\"color\": \"#2a3f5f\"}, \"geo\": {\"bgcolor\": \"white\", \"lakecolor\": \"white\", \"landcolor\": \"#E5ECF6\", \"showlakes\": true, \"showland\": true, \"subunitcolor\": \"white\"}, \"hoverlabel\": {\"align\": \"left\"}, \"hovermode\": \"closest\", \"mapbox\": {\"style\": \"light\"}, \"paper_bgcolor\": \"white\", \"plot_bgcolor\": \"#E5ECF6\", \"polar\": {\"angularaxis\": {\"gridcolor\": \"white\", \"linecolor\": \"white\", \"ticks\": \"\"}, \"bgcolor\": \"#E5ECF6\", \"radialaxis\": {\"gridcolor\": \"white\", \"linecolor\": \"white\", \"ticks\": \"\"}}, \"scene\": {\"xaxis\": {\"backgroundcolor\": \"#E5ECF6\", \"gridcolor\": \"white\", \"gridwidth\": 2, \"linecolor\": \"white\", \"showbackground\": true, \"ticks\": \"\", \"zerolinecolor\": \"white\"}, \"yaxis\": {\"backgroundcolor\": \"#E5ECF6\", \"gridcolor\": \"white\", \"gridwidth\": 2, \"linecolor\": \"white\", \"showbackground\": true, \"ticks\": \"\", \"zerolinecolor\": \"white\"}, \"zaxis\": {\"backgroundcolor\": \"#E5ECF6\", \"gridcolor\": \"white\", \"gridwidth\": 2, \"linecolor\": \"white\", \"showbackground\": true, \"ticks\": \"\", \"zerolinecolor\": \"white\"}}, \"shapedefaults\": {\"line\": {\"color\": \"#2a3f5f\"}}, \"ternary\": {\"aaxis\": {\"gridcolor\": \"white\", \"linecolor\": \"white\", \"ticks\": \"\"}, \"baxis\": {\"gridcolor\": \"white\", \"linecolor\": \"white\", \"ticks\": \"\"}, \"bgcolor\": \"#E5ECF6\", \"caxis\": {\"gridcolor\": \"white\", \"linecolor\": \"white\", \"ticks\": \"\"}}, \"title\": {\"x\": 0.05}, \"xaxis\": {\"automargin\": true, \"gridcolor\": \"white\", \"linecolor\": \"white\", \"ticks\": \"\", \"title\": {\"standoff\": 15}, \"zerolinecolor\": \"white\", \"zerolinewidth\": 2}, \"yaxis\": {\"automargin\": true, \"gridcolor\": \"white\", \"linecolor\": \"white\", \"ticks\": \"\", \"title\": {\"standoff\": 15}, \"zerolinecolor\": \"white\", \"zerolinewidth\": 2}}}, \"title\": {\"text\": \"'ZCN19','ZCZ19' Price vs Settle Date\", \"x\": 0.5, \"xanchor\": \"center\", \"y\": 0.9, \"yanchor\": \"top\"}, \"xaxis\": {\"showspikes\": true, \"spikedash\": \"solid\", \"spikemode\": \"toaxis+across\", \"spikethickness\": 1, \"tickangle\": 45, \"ticktext\": [20190220, 20190227, 20190306, 20190313, 20190320, 20190327, 20190403, 20190410, 20190417, 20190425, 20190502, 20190509, 20190516, 20190523, 20190531, 20190607, 20190614, 20190621, 20190628, 20190708], \"tickvals\": [20190220, 20190227, 20190306, 20190313, 20190320, 20190327, 20190403, 20190410, 20190417, 20190425, 20190502, 20190509, 20190516, 20190523, 20190531, 20190607, 20190614, 20190621, 20190628, 20190708], \"type\": \"category\"}, \"yaxis\": {\"showspikes\": true, \"spikedash\": \"solid\", \"spikemode\": \"toaxis+across\", \"spikethickness\": 1, \"title\": {\"text\": \"Closing Price\"}}, \"yaxis2\": {\"overlaying\": \"y\", \"side\": \"right\", \"title\": {\"text\": \"y alt\"}}},\n",
       "                        {\"responsive\": true}\n",
       "                    ).then(function(){\n",
       "                            \n",
       "var gd = document.getElementById('0edaebcc-9f53-4c98-b44b-fe0b373f5fd5');\n",
       "var x = new MutationObserver(function (mutations, observer) {{\n",
       "        var display = window.getComputedStyle(gd).display;\n",
       "        if (!display || display === 'none') {{\n",
       "            console.log([gd, 'removed!']);\n",
       "            Plotly.purge(gd);\n",
       "            observer.disconnect();\n",
       "        }}\n",
       "}});\n",
       "\n",
       "// Listen for the removal of the full notebook cells\n",
       "var notebookContainer = gd.closest('#notebook-container');\n",
       "if (notebookContainer) {{\n",
       "    x.observe(notebookContainer, {childList: true});\n",
       "}}\n",
       "\n",
       "// Listen for the clearing of the current output cell\n",
       "var outputEl = gd.closest('.output');\n",
       "if (outputEl) {{\n",
       "    x.observe(outputEl, {childList: true});\n",
       "}}\n",
       "\n",
       "                        })\n",
       "                };\n",
       "                });\n",
       "            </script>\n",
       "        </div>"
      ]
     },
     "metadata": {},
     "output_type": "display_data"
    }
   ],
   "source": [
    "# syms = ['SIK20','SIZ99']\n",
    "syms = ['ZCN19','ZCZ19']\n",
    "sym = ','.join([f\"'{v}'\" for v in syms])\n",
    "df_crude = pga.get_sql(f\"select symbol,settle_date, close from {futtab} where symbol in ({sym})\")\n",
    "df_crude['settle_dt'] = [dashapp.str_to_date(str(d),sep='') for d in df_crude.settle_date.values]\n",
    "max_date = df_crude.settle_dt.max()\n",
    "df_crude['dte'] = (max_date-df_crude.settle_dt).dt.days\n",
    "df_plot = df_crude[df_crude.symbol==syms[0]].iloc[-100:]\n",
    "df_plot[syms[0]] = df_plot.close\n",
    "for s in syms[1:]:\n",
    "    values = df_crude[df_crude.symbol==s].iloc[-100:].close.values\n",
    "    if 'Z99' in s:\n",
    "        values = values/10\n",
    "    df_plot[s] = values\n",
    "f1 = dashapp.plotly_plot(\n",
    "    df_in=df_plot[['dte']+syms],x_column='dte',y_left_label='Closing Price',\n",
    "    plot_title=f'{sym} Price vs Days To Expiration'\n",
    ")\n",
    "f1.update_layout(xaxis={'type':'-','autorange':'reversed','title':'Days To Expiry'})\n",
    "f2 = dashapp.plotly_plot(\n",
    "    df_in=df_plot[['settle_date']+syms],x_column='settle_date',y_left_label='Closing Price',\n",
    "    plot_title=f'{sym} Price vs Settle Date'\n",
    ")\n",
    "iplot(f1)\n",
    "iplot(f2)"
   ]
  },
  {
   "cell_type": "code",
   "execution_count": 32,
   "metadata": {},
   "outputs": [
    {
     "data": {
      "application/vnd.plotly.v1+json": {
       "config": {
        "linkText": "Export to plot.ly",
        "plotlyServerURL": "https://plot.ly",
        "showLink": false
       },
       "data": [
        {
         "name": "front",
         "type": "scatter",
         "x": [
          20110124,
          20110125,
          20110126,
          20110127,
          20110128,
          20110131,
          20110201,
          20110202,
          20110203,
          20110204,
          20110207,
          20110208,
          20110209,
          20110210,
          20110211,
          20110214,
          20110215,
          20110216,
          20110217,
          20110218,
          20110222,
          20110223,
          20110224,
          20110225,
          20110228,
          20110301,
          20110302,
          20110303,
          20110304,
          20110307,
          20110308,
          20110309,
          20110310,
          20110311,
          20110314,
          20110315,
          20110316,
          20110317,
          20110318,
          20110321,
          20110322,
          20110323,
          20110324,
          20110325,
          20110328,
          20110329,
          20110330,
          20110331,
          20110401,
          20110404,
          20110405,
          20110406,
          20110407,
          20110408,
          20110411,
          20110412,
          20110413,
          20110414,
          20110415,
          20110418,
          20110419,
          20110420,
          20110421,
          20110425,
          20110426,
          20110427,
          20110428,
          20110429,
          20110502,
          20110503,
          20110504,
          20110505,
          20110506,
          20110509,
          20110510,
          20110511,
          20110512,
          20110513,
          20110516,
          20110517,
          20110518,
          20110519,
          20110520,
          20110523,
          20110524,
          20110525,
          20110526,
          20110527,
          20110531,
          20110601,
          20110602,
          20110603,
          20110606,
          20110607,
          20110608,
          20110609,
          20110610,
          20110613,
          20110614,
          20110615,
          20110616,
          20110617,
          20110620,
          20110621,
          20110622,
          20110623,
          20110624,
          20110627,
          20110628,
          20110629,
          20110630,
          20110701,
          20110705,
          20110706,
          20110707,
          20110708,
          20110711,
          20110712,
          20110713,
          20110714
         ],
         "y": [
          669.5,
          659,
          672.75,
          666,
          659.75,
          675,
          681,
          684.5,
          678,
          694.25,
          691.5,
          691.5,
          713.5,
          713.75,
          722,
          711.25,
          704.25,
          704.5,
          726.75,
          724.5,
          694.5,
          707,
          701,
          726.75,
          733.25,
          738.25,
          725.25,
          740.25,
          732.75,
          722.5,
          711,
          707,
          689,
          670.75,
          672.5,
          642.5,
          623.75,
          653.75,
          690,
          693.5,
          694,
          688.5,
          708,
          695.5,
          678,
          678.75,
          671,
          701,
          743,
          767.5,
          773.75,
          770.5,
          766.25,
          774,
          781.25,
          757.5,
          761,
          761,
          749.5,
          759.5,
          757,
          740.5,
          744.5,
          768.5,
          772.75,
          759.25,
          729.25,
          756.5,
          734.5,
          723.75,
          729.5,
          708.75,
          686.25,
          707.5,
          707.25,
          677.25,
          680.5,
          682,
          697.5,
          720.25,
          749.75,
          748.25,
          759.5,
          754,
          733.25,
          742.25,
          745.5,
          758.5,
          747.5,
          758.5,
          766.5,
          754,
          732,
          736.5,
          764,
          785.5,
          787,
          782.5,
          755.5,
          725.75,
          701.5,
          700.25,
          700.5,
          707.5,
          677.5,
          680.5,
          670,
          660.75,
          683,
          698,
          629,
          640.75,
          680.5,
          648.75,
          650,
          672.25,
          681.5,
          697,
          726.75,
          716.5
         ],
         "yaxis": "y"
        },
        {
         "name": "back",
         "type": "scatter",
         "x": [
          20110124,
          20110125,
          20110126,
          20110127,
          20110128,
          20110131,
          20110201,
          20110202,
          20110203,
          20110204,
          20110207,
          20110208,
          20110209,
          20110210,
          20110211,
          20110214,
          20110215,
          20110216,
          20110217,
          20110218,
          20110222,
          20110223,
          20110224,
          20110225,
          20110228,
          20110301,
          20110302,
          20110303,
          20110304,
          20110307,
          20110308,
          20110309,
          20110310,
          20110311,
          20110314,
          20110315,
          20110316,
          20110317,
          20110318,
          20110321,
          20110322,
          20110323,
          20110324,
          20110325,
          20110328,
          20110329,
          20110330,
          20110331,
          20110401,
          20110404,
          20110405,
          20110406,
          20110407,
          20110408,
          20110411,
          20110412,
          20110413,
          20110414,
          20110415,
          20110418,
          20110419,
          20110420,
          20110421,
          20110425,
          20110426,
          20110427,
          20110428,
          20110429,
          20110502,
          20110503,
          20110504,
          20110505,
          20110506,
          20110509,
          20110510,
          20110511,
          20110512,
          20110513,
          20110516,
          20110517,
          20110518,
          20110519,
          20110520,
          20110523,
          20110524,
          20110525,
          20110526,
          20110527,
          20110531,
          20110601,
          20110602,
          20110603,
          20110606,
          20110607,
          20110608,
          20110609,
          20110610,
          20110613,
          20110614,
          20110615,
          20110616,
          20110617,
          20110620,
          20110621,
          20110622,
          20110623,
          20110624,
          20110627,
          20110628,
          20110629,
          20110630,
          20110701,
          20110705,
          20110706,
          20110707,
          20110708,
          20110711,
          20110712,
          20110713,
          20110714
         ],
         "y": [
          587.25,
          579,
          590.75,
          582.75,
          576.5,
          591.25,
          596,
          597.75,
          588.5,
          601.75,
          602,
          604.5,
          614.5,
          614.5,
          618.25,
          607.5,
          591.5,
          592,
          615.25,
          612.5,
          582.5,
          591.75,
          583,
          601.75,
          606.75,
          604.75,
          605.5,
          615.75,
          609.5,
          610.5,
          610,
          610.25,
          587.25,
          577.75,
          578,
          548,
          549.25,
          579.25,
          598.5,
          609.5,
          612.25,
          609.75,
          618.75,
          609.5,
          597,
          600.25,
          595.25,
          625.25,
          637.5,
          645.5,
          646.75,
          647.5,
          644.25,
          653,
          657.25,
          636.5,
          645,
          655.5,
          656,
          668.25,
          676,
          655.5,
          665.5,
          681.5,
          675.75,
          667.25,
          637.5,
          669.5,
          661.25,
          662.25,
          665.25,
          655.75,
          640.25,
          657.5,
          652.75,
          626,
          630.5,
          627,
          635.5,
          653.25,
          672.75,
          662,
          666.5,
          670.5,
          662.5,
          670.75,
          676.25,
          684,
          673,
          679.5,
          695,
          686.25,
          667,
          676.5,
          693.75,
          714,
          712.5,
          704.5,
          685,
          666,
          653,
          660,
          660.5,
          680.25,
          650.25,
          646,
          632,
          626.75,
          653,
          650.5,
          620.5,
          596.75,
          612.5,
          608.5,
          615.5,
          637,
          632.75,
          658,
          679.75,
          678.5
         ],
         "yaxis": "y"
        },
        {
         "name": "spread",
         "type": "scatter",
         "x": [
          20110124,
          20110125,
          20110126,
          20110127,
          20110128,
          20110131,
          20110201,
          20110202,
          20110203,
          20110204,
          20110207,
          20110208,
          20110209,
          20110210,
          20110211,
          20110214,
          20110215,
          20110216,
          20110217,
          20110218,
          20110222,
          20110223,
          20110224,
          20110225,
          20110228,
          20110301,
          20110302,
          20110303,
          20110304,
          20110307,
          20110308,
          20110309,
          20110310,
          20110311,
          20110314,
          20110315,
          20110316,
          20110317,
          20110318,
          20110321,
          20110322,
          20110323,
          20110324,
          20110325,
          20110328,
          20110329,
          20110330,
          20110331,
          20110401,
          20110404,
          20110405,
          20110406,
          20110407,
          20110408,
          20110411,
          20110412,
          20110413,
          20110414,
          20110415,
          20110418,
          20110419,
          20110420,
          20110421,
          20110425,
          20110426,
          20110427,
          20110428,
          20110429,
          20110502,
          20110503,
          20110504,
          20110505,
          20110506,
          20110509,
          20110510,
          20110511,
          20110512,
          20110513,
          20110516,
          20110517,
          20110518,
          20110519,
          20110520,
          20110523,
          20110524,
          20110525,
          20110526,
          20110527,
          20110531,
          20110601,
          20110602,
          20110603,
          20110606,
          20110607,
          20110608,
          20110609,
          20110610,
          20110613,
          20110614,
          20110615,
          20110616,
          20110617,
          20110620,
          20110621,
          20110622,
          20110623,
          20110624,
          20110627,
          20110628,
          20110629,
          20110630,
          20110701,
          20110705,
          20110706,
          20110707,
          20110708,
          20110711,
          20110712,
          20110713,
          20110714
         ],
         "y": [
          82.25,
          80,
          82,
          83.25,
          83.25,
          83.75,
          85,
          86.75,
          89.5,
          92.5,
          89.5,
          87,
          99,
          99.25,
          103.75,
          103.75,
          112.75,
          112.5,
          111.5,
          112,
          112,
          115.25,
          118,
          125,
          126.5,
          133.5,
          119.75,
          124.5,
          123.25,
          112,
          101,
          96.75,
          101.75,
          93,
          94.5,
          94.5,
          74.5,
          74.5,
          91.5,
          84,
          81.75,
          78.75,
          89.25,
          86,
          81,
          78.5,
          75.75,
          75.75,
          105.5,
          122,
          127,
          123,
          122,
          121,
          124,
          121,
          116,
          105.5,
          93.5,
          91.25,
          81,
          85,
          79,
          87,
          97,
          92,
          91.75,
          87,
          73.25,
          61.5,
          64.25,
          53,
          46,
          50,
          54.5,
          51.25,
          50,
          55,
          62,
          67,
          77,
          86.25,
          93,
          83.5,
          70.75,
          71.5,
          69.25,
          74.5,
          74.5,
          79,
          71.5,
          67.75,
          65,
          60,
          70.25,
          71.5,
          74.5,
          78,
          70.5,
          59.75,
          48.5,
          40.25,
          40,
          27.25,
          27.25,
          34.5,
          38,
          34,
          30,
          47.5,
          8.5,
          44,
          68,
          40.25,
          34.5,
          35.25,
          48.75,
          39,
          47,
          38
         ],
         "yaxis": "y2"
        }
       ],
       "layout": {
        "autosize": true,
        "hovermode": "x",
        "legend": {
         "orientation": "h",
         "x": 0,
         "y": 1.1
        },
        "margin": {
         "b": 100
        },
        "modebar": {
         "bgcolor": "grey",
         "orientation": "v"
        },
        "spikedistance": 1000,
        "template": {
         "data": {
          "bar": [
           {
            "error_x": {
             "color": "#2a3f5f"
            },
            "error_y": {
             "color": "#2a3f5f"
            },
            "marker": {
             "line": {
              "color": "#E5ECF6",
              "width": 0.5
             }
            },
            "type": "bar"
           }
          ],
          "barpolar": [
           {
            "marker": {
             "line": {
              "color": "#E5ECF6",
              "width": 0.5
             }
            },
            "type": "barpolar"
           }
          ],
          "carpet": [
           {
            "aaxis": {
             "endlinecolor": "#2a3f5f",
             "gridcolor": "white",
             "linecolor": "white",
             "minorgridcolor": "white",
             "startlinecolor": "#2a3f5f"
            },
            "baxis": {
             "endlinecolor": "#2a3f5f",
             "gridcolor": "white",
             "linecolor": "white",
             "minorgridcolor": "white",
             "startlinecolor": "#2a3f5f"
            },
            "type": "carpet"
           }
          ],
          "choropleth": [
           {
            "colorbar": {
             "outlinewidth": 0,
             "ticks": ""
            },
            "type": "choropleth"
           }
          ],
          "contour": [
           {
            "colorbar": {
             "outlinewidth": 0,
             "ticks": ""
            },
            "colorscale": [
             [
              0,
              "#0d0887"
             ],
             [
              0.1111111111111111,
              "#46039f"
             ],
             [
              0.2222222222222222,
              "#7201a8"
             ],
             [
              0.3333333333333333,
              "#9c179e"
             ],
             [
              0.4444444444444444,
              "#bd3786"
             ],
             [
              0.5555555555555556,
              "#d8576b"
             ],
             [
              0.6666666666666666,
              "#ed7953"
             ],
             [
              0.7777777777777778,
              "#fb9f3a"
             ],
             [
              0.8888888888888888,
              "#fdca26"
             ],
             [
              1,
              "#f0f921"
             ]
            ],
            "type": "contour"
           }
          ],
          "contourcarpet": [
           {
            "colorbar": {
             "outlinewidth": 0,
             "ticks": ""
            },
            "type": "contourcarpet"
           }
          ],
          "heatmap": [
           {
            "colorbar": {
             "outlinewidth": 0,
             "ticks": ""
            },
            "colorscale": [
             [
              0,
              "#0d0887"
             ],
             [
              0.1111111111111111,
              "#46039f"
             ],
             [
              0.2222222222222222,
              "#7201a8"
             ],
             [
              0.3333333333333333,
              "#9c179e"
             ],
             [
              0.4444444444444444,
              "#bd3786"
             ],
             [
              0.5555555555555556,
              "#d8576b"
             ],
             [
              0.6666666666666666,
              "#ed7953"
             ],
             [
              0.7777777777777778,
              "#fb9f3a"
             ],
             [
              0.8888888888888888,
              "#fdca26"
             ],
             [
              1,
              "#f0f921"
             ]
            ],
            "type": "heatmap"
           }
          ],
          "heatmapgl": [
           {
            "colorbar": {
             "outlinewidth": 0,
             "ticks": ""
            },
            "colorscale": [
             [
              0,
              "#0d0887"
             ],
             [
              0.1111111111111111,
              "#46039f"
             ],
             [
              0.2222222222222222,
              "#7201a8"
             ],
             [
              0.3333333333333333,
              "#9c179e"
             ],
             [
              0.4444444444444444,
              "#bd3786"
             ],
             [
              0.5555555555555556,
              "#d8576b"
             ],
             [
              0.6666666666666666,
              "#ed7953"
             ],
             [
              0.7777777777777778,
              "#fb9f3a"
             ],
             [
              0.8888888888888888,
              "#fdca26"
             ],
             [
              1,
              "#f0f921"
             ]
            ],
            "type": "heatmapgl"
           }
          ],
          "histogram": [
           {
            "marker": {
             "colorbar": {
              "outlinewidth": 0,
              "ticks": ""
             }
            },
            "type": "histogram"
           }
          ],
          "histogram2d": [
           {
            "colorbar": {
             "outlinewidth": 0,
             "ticks": ""
            },
            "colorscale": [
             [
              0,
              "#0d0887"
             ],
             [
              0.1111111111111111,
              "#46039f"
             ],
             [
              0.2222222222222222,
              "#7201a8"
             ],
             [
              0.3333333333333333,
              "#9c179e"
             ],
             [
              0.4444444444444444,
              "#bd3786"
             ],
             [
              0.5555555555555556,
              "#d8576b"
             ],
             [
              0.6666666666666666,
              "#ed7953"
             ],
             [
              0.7777777777777778,
              "#fb9f3a"
             ],
             [
              0.8888888888888888,
              "#fdca26"
             ],
             [
              1,
              "#f0f921"
             ]
            ],
            "type": "histogram2d"
           }
          ],
          "histogram2dcontour": [
           {
            "colorbar": {
             "outlinewidth": 0,
             "ticks": ""
            },
            "colorscale": [
             [
              0,
              "#0d0887"
             ],
             [
              0.1111111111111111,
              "#46039f"
             ],
             [
              0.2222222222222222,
              "#7201a8"
             ],
             [
              0.3333333333333333,
              "#9c179e"
             ],
             [
              0.4444444444444444,
              "#bd3786"
             ],
             [
              0.5555555555555556,
              "#d8576b"
             ],
             [
              0.6666666666666666,
              "#ed7953"
             ],
             [
              0.7777777777777778,
              "#fb9f3a"
             ],
             [
              0.8888888888888888,
              "#fdca26"
             ],
             [
              1,
              "#f0f921"
             ]
            ],
            "type": "histogram2dcontour"
           }
          ],
          "mesh3d": [
           {
            "colorbar": {
             "outlinewidth": 0,
             "ticks": ""
            },
            "type": "mesh3d"
           }
          ],
          "parcoords": [
           {
            "line": {
             "colorbar": {
              "outlinewidth": 0,
              "ticks": ""
             }
            },
            "type": "parcoords"
           }
          ],
          "pie": [
           {
            "automargin": true,
            "type": "pie"
           }
          ],
          "scatter": [
           {
            "marker": {
             "colorbar": {
              "outlinewidth": 0,
              "ticks": ""
             }
            },
            "type": "scatter"
           }
          ],
          "scatter3d": [
           {
            "line": {
             "colorbar": {
              "outlinewidth": 0,
              "ticks": ""
             }
            },
            "marker": {
             "colorbar": {
              "outlinewidth": 0,
              "ticks": ""
             }
            },
            "type": "scatter3d"
           }
          ],
          "scattercarpet": [
           {
            "marker": {
             "colorbar": {
              "outlinewidth": 0,
              "ticks": ""
             }
            },
            "type": "scattercarpet"
           }
          ],
          "scattergeo": [
           {
            "marker": {
             "colorbar": {
              "outlinewidth": 0,
              "ticks": ""
             }
            },
            "type": "scattergeo"
           }
          ],
          "scattergl": [
           {
            "marker": {
             "colorbar": {
              "outlinewidth": 0,
              "ticks": ""
             }
            },
            "type": "scattergl"
           }
          ],
          "scattermapbox": [
           {
            "marker": {
             "colorbar": {
              "outlinewidth": 0,
              "ticks": ""
             }
            },
            "type": "scattermapbox"
           }
          ],
          "scatterpolar": [
           {
            "marker": {
             "colorbar": {
              "outlinewidth": 0,
              "ticks": ""
             }
            },
            "type": "scatterpolar"
           }
          ],
          "scatterpolargl": [
           {
            "marker": {
             "colorbar": {
              "outlinewidth": 0,
              "ticks": ""
             }
            },
            "type": "scatterpolargl"
           }
          ],
          "scatterternary": [
           {
            "marker": {
             "colorbar": {
              "outlinewidth": 0,
              "ticks": ""
             }
            },
            "type": "scatterternary"
           }
          ],
          "surface": [
           {
            "colorbar": {
             "outlinewidth": 0,
             "ticks": ""
            },
            "colorscale": [
             [
              0,
              "#0d0887"
             ],
             [
              0.1111111111111111,
              "#46039f"
             ],
             [
              0.2222222222222222,
              "#7201a8"
             ],
             [
              0.3333333333333333,
              "#9c179e"
             ],
             [
              0.4444444444444444,
              "#bd3786"
             ],
             [
              0.5555555555555556,
              "#d8576b"
             ],
             [
              0.6666666666666666,
              "#ed7953"
             ],
             [
              0.7777777777777778,
              "#fb9f3a"
             ],
             [
              0.8888888888888888,
              "#fdca26"
             ],
             [
              1,
              "#f0f921"
             ]
            ],
            "type": "surface"
           }
          ],
          "table": [
           {
            "cells": {
             "fill": {
              "color": "#EBF0F8"
             },
             "line": {
              "color": "white"
             }
            },
            "header": {
             "fill": {
              "color": "#C8D4E3"
             },
             "line": {
              "color": "white"
             }
            },
            "type": "table"
           }
          ]
         },
         "layout": {
          "annotationdefaults": {
           "arrowcolor": "#2a3f5f",
           "arrowhead": 0,
           "arrowwidth": 1
          },
          "coloraxis": {
           "colorbar": {
            "outlinewidth": 0,
            "ticks": ""
           }
          },
          "colorscale": {
           "diverging": [
            [
             0,
             "#8e0152"
            ],
            [
             0.1,
             "#c51b7d"
            ],
            [
             0.2,
             "#de77ae"
            ],
            [
             0.3,
             "#f1b6da"
            ],
            [
             0.4,
             "#fde0ef"
            ],
            [
             0.5,
             "#f7f7f7"
            ],
            [
             0.6,
             "#e6f5d0"
            ],
            [
             0.7,
             "#b8e186"
            ],
            [
             0.8,
             "#7fbc41"
            ],
            [
             0.9,
             "#4d9221"
            ],
            [
             1,
             "#276419"
            ]
           ],
           "sequential": [
            [
             0,
             "#0d0887"
            ],
            [
             0.1111111111111111,
             "#46039f"
            ],
            [
             0.2222222222222222,
             "#7201a8"
            ],
            [
             0.3333333333333333,
             "#9c179e"
            ],
            [
             0.4444444444444444,
             "#bd3786"
            ],
            [
             0.5555555555555556,
             "#d8576b"
            ],
            [
             0.6666666666666666,
             "#ed7953"
            ],
            [
             0.7777777777777778,
             "#fb9f3a"
            ],
            [
             0.8888888888888888,
             "#fdca26"
            ],
            [
             1,
             "#f0f921"
            ]
           ],
           "sequentialminus": [
            [
             0,
             "#0d0887"
            ],
            [
             0.1111111111111111,
             "#46039f"
            ],
            [
             0.2222222222222222,
             "#7201a8"
            ],
            [
             0.3333333333333333,
             "#9c179e"
            ],
            [
             0.4444444444444444,
             "#bd3786"
            ],
            [
             0.5555555555555556,
             "#d8576b"
            ],
            [
             0.6666666666666666,
             "#ed7953"
            ],
            [
             0.7777777777777778,
             "#fb9f3a"
            ],
            [
             0.8888888888888888,
             "#fdca26"
            ],
            [
             1,
             "#f0f921"
            ]
           ]
          },
          "colorway": [
           "#636efa",
           "#EF553B",
           "#00cc96",
           "#ab63fa",
           "#FFA15A",
           "#19d3f3",
           "#FF6692",
           "#B6E880",
           "#FF97FF",
           "#FECB52"
          ],
          "font": {
           "color": "#2a3f5f"
          },
          "geo": {
           "bgcolor": "white",
           "lakecolor": "white",
           "landcolor": "#E5ECF6",
           "showlakes": true,
           "showland": true,
           "subunitcolor": "white"
          },
          "hoverlabel": {
           "align": "left"
          },
          "hovermode": "closest",
          "mapbox": {
           "style": "light"
          },
          "paper_bgcolor": "white",
          "plot_bgcolor": "#E5ECF6",
          "polar": {
           "angularaxis": {
            "gridcolor": "white",
            "linecolor": "white",
            "ticks": ""
           },
           "bgcolor": "#E5ECF6",
           "radialaxis": {
            "gridcolor": "white",
            "linecolor": "white",
            "ticks": ""
           }
          },
          "scene": {
           "xaxis": {
            "backgroundcolor": "#E5ECF6",
            "gridcolor": "white",
            "gridwidth": 2,
            "linecolor": "white",
            "showbackground": true,
            "ticks": "",
            "zerolinecolor": "white"
           },
           "yaxis": {
            "backgroundcolor": "#E5ECF6",
            "gridcolor": "white",
            "gridwidth": 2,
            "linecolor": "white",
            "showbackground": true,
            "ticks": "",
            "zerolinecolor": "white"
           },
           "zaxis": {
            "backgroundcolor": "#E5ECF6",
            "gridcolor": "white",
            "gridwidth": 2,
            "linecolor": "white",
            "showbackground": true,
            "ticks": "",
            "zerolinecolor": "white"
           }
          },
          "shapedefaults": {
           "line": {
            "color": "#2a3f5f"
           }
          },
          "ternary": {
           "aaxis": {
            "gridcolor": "white",
            "linecolor": "white",
            "ticks": ""
           },
           "baxis": {
            "gridcolor": "white",
            "linecolor": "white",
            "ticks": ""
           },
           "bgcolor": "#E5ECF6",
           "caxis": {
            "gridcolor": "white",
            "linecolor": "white",
            "ticks": ""
           }
          },
          "title": {
           "x": 0.05
          },
          "xaxis": {
           "automargin": true,
           "gridcolor": "white",
           "linecolor": "white",
           "ticks": "",
           "title": {
            "standoff": 15
           },
           "zerolinecolor": "white",
           "zerolinewidth": 2
          },
          "yaxis": {
           "automargin": true,
           "gridcolor": "white",
           "linecolor": "white",
           "ticks": "",
           "title": {
            "standoff": 15
           },
           "zerolinecolor": "white",
           "zerolinewidth": 2
          }
         }
        },
        "title": {
         "text": "ZCN11 ZCZ11",
         "x": 0.5,
         "xanchor": "center",
         "y": 0.9,
         "yanchor": "top"
        },
        "xaxis": {
         "showspikes": true,
         "spikedash": "solid",
         "spikemode": "toaxis+across",
         "spikethickness": 1,
         "tickangle": 45,
         "ticktext": [
          20110124,
          20110201,
          20110209,
          20110217,
          20110228,
          20110308,
          20110316,
          20110324,
          20110401,
          20110411,
          20110419,
          20110428,
          20110506,
          20110516,
          20110524,
          20110602,
          20110610,
          20110620,
          20110628,
          20110707
         ],
         "tickvals": [
          20110124,
          20110201,
          20110209,
          20110217,
          20110228,
          20110308,
          20110316,
          20110324,
          20110401,
          20110411,
          20110419,
          20110428,
          20110506,
          20110516,
          20110524,
          20110602,
          20110610,
          20110620,
          20110628,
          20110707
         ],
         "type": "category"
        },
        "yaxis": {
         "showspikes": true,
         "spikedash": "solid",
         "spikemode": "toaxis+across",
         "spikethickness": 1,
         "title": {
          "text": "price"
         }
        },
        "yaxis2": {
         "overlaying": "y",
         "side": "right",
         "title": {
          "text": "spread"
         }
        }
       }
      },
      "text/html": [
       "<div>\n",
       "        \n",
       "        \n",
       "            <div id=\"6a20dc25-38db-4e58-ac69-741a3b8ba504\" class=\"plotly-graph-div\" style=\"height:525px; width:100%;\"></div>\n",
       "            <script type=\"text/javascript\">\n",
       "                require([\"plotly\"], function(Plotly) {\n",
       "                    window.PLOTLYENV=window.PLOTLYENV || {};\n",
       "                    \n",
       "                if (document.getElementById(\"6a20dc25-38db-4e58-ac69-741a3b8ba504\")) {\n",
       "                    Plotly.newPlot(\n",
       "                        '6a20dc25-38db-4e58-ac69-741a3b8ba504',\n",
       "                        [{\"name\": \"front\", \"type\": \"scatter\", \"x\": [20110124, 20110125, 20110126, 20110127, 20110128, 20110131, 20110201, 20110202, 20110203, 20110204, 20110207, 20110208, 20110209, 20110210, 20110211, 20110214, 20110215, 20110216, 20110217, 20110218, 20110222, 20110223, 20110224, 20110225, 20110228, 20110301, 20110302, 20110303, 20110304, 20110307, 20110308, 20110309, 20110310, 20110311, 20110314, 20110315, 20110316, 20110317, 20110318, 20110321, 20110322, 20110323, 20110324, 20110325, 20110328, 20110329, 20110330, 20110331, 20110401, 20110404, 20110405, 20110406, 20110407, 20110408, 20110411, 20110412, 20110413, 20110414, 20110415, 20110418, 20110419, 20110420, 20110421, 20110425, 20110426, 20110427, 20110428, 20110429, 20110502, 20110503, 20110504, 20110505, 20110506, 20110509, 20110510, 20110511, 20110512, 20110513, 20110516, 20110517, 20110518, 20110519, 20110520, 20110523, 20110524, 20110525, 20110526, 20110527, 20110531, 20110601, 20110602, 20110603, 20110606, 20110607, 20110608, 20110609, 20110610, 20110613, 20110614, 20110615, 20110616, 20110617, 20110620, 20110621, 20110622, 20110623, 20110624, 20110627, 20110628, 20110629, 20110630, 20110701, 20110705, 20110706, 20110707, 20110708, 20110711, 20110712, 20110713, 20110714], \"y\": [669.5, 659.0, 672.75, 666.0, 659.75, 675.0, 681.0, 684.5, 678.0, 694.25, 691.5, 691.5, 713.5, 713.75, 722.0, 711.25, 704.25, 704.5, 726.75, 724.5, 694.5, 707.0, 701.0, 726.75, 733.25, 738.25, 725.25, 740.25, 732.75, 722.5, 711.0, 707.0, 689.0, 670.75, 672.5, 642.5, 623.75, 653.75, 690.0, 693.5, 694.0, 688.5, 708.0, 695.5, 678.0, 678.75, 671.0, 701.0, 743.0, 767.5, 773.75, 770.5, 766.25, 774.0, 781.25, 757.5, 761.0, 761.0, 749.5, 759.5, 757.0, 740.5, 744.5, 768.5, 772.75, 759.25, 729.25, 756.5, 734.5, 723.75, 729.5, 708.75, 686.25, 707.5, 707.25, 677.25, 680.5, 682.0, 697.5, 720.25, 749.75, 748.25, 759.5, 754.0, 733.25, 742.25, 745.5, 758.5, 747.5, 758.5, 766.5, 754.0, 732.0, 736.5, 764.0, 785.5, 787.0, 782.5, 755.5, 725.75, 701.5, 700.25, 700.5, 707.5, 677.5, 680.5, 670.0, 660.75, 683.0, 698.0, 629.0, 640.75, 680.5, 648.75, 650.0, 672.25, 681.5, 697.0, 726.75, 716.5], \"yaxis\": \"y\"}, {\"name\": \"back\", \"type\": \"scatter\", \"x\": [20110124, 20110125, 20110126, 20110127, 20110128, 20110131, 20110201, 20110202, 20110203, 20110204, 20110207, 20110208, 20110209, 20110210, 20110211, 20110214, 20110215, 20110216, 20110217, 20110218, 20110222, 20110223, 20110224, 20110225, 20110228, 20110301, 20110302, 20110303, 20110304, 20110307, 20110308, 20110309, 20110310, 20110311, 20110314, 20110315, 20110316, 20110317, 20110318, 20110321, 20110322, 20110323, 20110324, 20110325, 20110328, 20110329, 20110330, 20110331, 20110401, 20110404, 20110405, 20110406, 20110407, 20110408, 20110411, 20110412, 20110413, 20110414, 20110415, 20110418, 20110419, 20110420, 20110421, 20110425, 20110426, 20110427, 20110428, 20110429, 20110502, 20110503, 20110504, 20110505, 20110506, 20110509, 20110510, 20110511, 20110512, 20110513, 20110516, 20110517, 20110518, 20110519, 20110520, 20110523, 20110524, 20110525, 20110526, 20110527, 20110531, 20110601, 20110602, 20110603, 20110606, 20110607, 20110608, 20110609, 20110610, 20110613, 20110614, 20110615, 20110616, 20110617, 20110620, 20110621, 20110622, 20110623, 20110624, 20110627, 20110628, 20110629, 20110630, 20110701, 20110705, 20110706, 20110707, 20110708, 20110711, 20110712, 20110713, 20110714], \"y\": [587.25, 579.0, 590.75, 582.75, 576.5, 591.25, 596.0, 597.75, 588.5, 601.75, 602.0, 604.5, 614.5, 614.5, 618.25, 607.5, 591.5, 592.0, 615.25, 612.5, 582.5, 591.75, 583.0, 601.75, 606.75, 604.75, 605.5, 615.75, 609.5, 610.5, 610.0, 610.25, 587.25, 577.75, 578.0, 548.0, 549.25, 579.25, 598.5, 609.5, 612.25, 609.75, 618.75, 609.5, 597.0, 600.25, 595.25, 625.25, 637.5, 645.5, 646.75, 647.5, 644.25, 653.0, 657.25, 636.5, 645.0, 655.5, 656.0, 668.25, 676.0, 655.5, 665.5, 681.5, 675.75, 667.25, 637.5, 669.5, 661.25, 662.25, 665.25, 655.75, 640.25, 657.5, 652.75, 626.0, 630.5, 627.0, 635.5, 653.25, 672.75, 662.0, 666.5, 670.5, 662.5, 670.75, 676.25, 684.0, 673.0, 679.5, 695.0, 686.25, 667.0, 676.5, 693.75, 714.0, 712.5, 704.5, 685.0, 666.0, 653.0, 660.0, 660.5, 680.25, 650.25, 646.0, 632.0, 626.75, 653.0, 650.5, 620.5, 596.75, 612.5, 608.5, 615.5, 637.0, 632.75, 658.0, 679.75, 678.5], \"yaxis\": \"y\"}, {\"name\": \"spread\", \"type\": \"scatter\", \"x\": [20110124, 20110125, 20110126, 20110127, 20110128, 20110131, 20110201, 20110202, 20110203, 20110204, 20110207, 20110208, 20110209, 20110210, 20110211, 20110214, 20110215, 20110216, 20110217, 20110218, 20110222, 20110223, 20110224, 20110225, 20110228, 20110301, 20110302, 20110303, 20110304, 20110307, 20110308, 20110309, 20110310, 20110311, 20110314, 20110315, 20110316, 20110317, 20110318, 20110321, 20110322, 20110323, 20110324, 20110325, 20110328, 20110329, 20110330, 20110331, 20110401, 20110404, 20110405, 20110406, 20110407, 20110408, 20110411, 20110412, 20110413, 20110414, 20110415, 20110418, 20110419, 20110420, 20110421, 20110425, 20110426, 20110427, 20110428, 20110429, 20110502, 20110503, 20110504, 20110505, 20110506, 20110509, 20110510, 20110511, 20110512, 20110513, 20110516, 20110517, 20110518, 20110519, 20110520, 20110523, 20110524, 20110525, 20110526, 20110527, 20110531, 20110601, 20110602, 20110603, 20110606, 20110607, 20110608, 20110609, 20110610, 20110613, 20110614, 20110615, 20110616, 20110617, 20110620, 20110621, 20110622, 20110623, 20110624, 20110627, 20110628, 20110629, 20110630, 20110701, 20110705, 20110706, 20110707, 20110708, 20110711, 20110712, 20110713, 20110714], \"y\": [82.25, 80.0, 82.0, 83.25, 83.25, 83.75, 85.0, 86.75, 89.5, 92.5, 89.5, 87.0, 99.0, 99.25, 103.75, 103.75, 112.75, 112.5, 111.5, 112.0, 112.0, 115.25, 118.0, 125.0, 126.5, 133.5, 119.75, 124.5, 123.25, 112.0, 101.0, 96.75, 101.75, 93.0, 94.5, 94.5, 74.5, 74.5, 91.5, 84.0, 81.75, 78.75, 89.25, 86.0, 81.0, 78.5, 75.75, 75.75, 105.5, 122.0, 127.0, 123.0, 122.0, 121.0, 124.0, 121.0, 116.0, 105.5, 93.5, 91.25, 81.0, 85.0, 79.0, 87.0, 97.0, 92.0, 91.75, 87.0, 73.25, 61.5, 64.25, 53.0, 46.0, 50.0, 54.5, 51.25, 50.0, 55.0, 62.0, 67.0, 77.0, 86.25, 93.0, 83.5, 70.75, 71.5, 69.25, 74.5, 74.5, 79.0, 71.5, 67.75, 65.0, 60.0, 70.25, 71.5, 74.5, 78.0, 70.5, 59.75, 48.5, 40.25, 40.0, 27.25, 27.25, 34.5, 38.0, 34.0, 30.0, 47.5, 8.5, 44.0, 68.0, 40.25, 34.5, 35.25, 48.75, 39.0, 47.0, 38.0], \"yaxis\": \"y2\"}],\n",
       "                        {\"autosize\": true, \"hovermode\": \"x\", \"legend\": {\"orientation\": \"h\", \"x\": 0, \"y\": 1.1}, \"margin\": {\"b\": 100}, \"modebar\": {\"bgcolor\": \"grey\", \"orientation\": \"v\"}, \"spikedistance\": 1000, \"template\": {\"data\": {\"bar\": [{\"error_x\": {\"color\": \"#2a3f5f\"}, \"error_y\": {\"color\": \"#2a3f5f\"}, \"marker\": {\"line\": {\"color\": \"#E5ECF6\", \"width\": 0.5}}, \"type\": \"bar\"}], \"barpolar\": [{\"marker\": {\"line\": {\"color\": \"#E5ECF6\", \"width\": 0.5}}, \"type\": \"barpolar\"}], \"carpet\": [{\"aaxis\": {\"endlinecolor\": \"#2a3f5f\", \"gridcolor\": \"white\", \"linecolor\": \"white\", \"minorgridcolor\": \"white\", \"startlinecolor\": \"#2a3f5f\"}, \"baxis\": {\"endlinecolor\": \"#2a3f5f\", \"gridcolor\": \"white\", \"linecolor\": \"white\", \"minorgridcolor\": \"white\", \"startlinecolor\": \"#2a3f5f\"}, \"type\": \"carpet\"}], \"choropleth\": [{\"colorbar\": {\"outlinewidth\": 0, \"ticks\": \"\"}, \"type\": \"choropleth\"}], \"contour\": [{\"colorbar\": {\"outlinewidth\": 0, \"ticks\": \"\"}, \"colorscale\": [[0.0, \"#0d0887\"], [0.1111111111111111, \"#46039f\"], [0.2222222222222222, \"#7201a8\"], [0.3333333333333333, \"#9c179e\"], [0.4444444444444444, \"#bd3786\"], [0.5555555555555556, \"#d8576b\"], [0.6666666666666666, \"#ed7953\"], [0.7777777777777778, \"#fb9f3a\"], [0.8888888888888888, \"#fdca26\"], [1.0, \"#f0f921\"]], \"type\": \"contour\"}], \"contourcarpet\": [{\"colorbar\": {\"outlinewidth\": 0, \"ticks\": \"\"}, \"type\": \"contourcarpet\"}], \"heatmap\": [{\"colorbar\": {\"outlinewidth\": 0, \"ticks\": \"\"}, \"colorscale\": [[0.0, \"#0d0887\"], [0.1111111111111111, \"#46039f\"], [0.2222222222222222, \"#7201a8\"], [0.3333333333333333, \"#9c179e\"], [0.4444444444444444, \"#bd3786\"], [0.5555555555555556, \"#d8576b\"], [0.6666666666666666, \"#ed7953\"], [0.7777777777777778, \"#fb9f3a\"], [0.8888888888888888, \"#fdca26\"], [1.0, \"#f0f921\"]], \"type\": \"heatmap\"}], \"heatmapgl\": [{\"colorbar\": {\"outlinewidth\": 0, \"ticks\": \"\"}, \"colorscale\": [[0.0, \"#0d0887\"], [0.1111111111111111, \"#46039f\"], [0.2222222222222222, \"#7201a8\"], [0.3333333333333333, \"#9c179e\"], [0.4444444444444444, \"#bd3786\"], [0.5555555555555556, \"#d8576b\"], [0.6666666666666666, \"#ed7953\"], [0.7777777777777778, \"#fb9f3a\"], [0.8888888888888888, \"#fdca26\"], [1.0, \"#f0f921\"]], \"type\": \"heatmapgl\"}], \"histogram\": [{\"marker\": {\"colorbar\": {\"outlinewidth\": 0, \"ticks\": \"\"}}, \"type\": \"histogram\"}], \"histogram2d\": [{\"colorbar\": {\"outlinewidth\": 0, \"ticks\": \"\"}, \"colorscale\": [[0.0, \"#0d0887\"], [0.1111111111111111, \"#46039f\"], [0.2222222222222222, \"#7201a8\"], [0.3333333333333333, \"#9c179e\"], [0.4444444444444444, \"#bd3786\"], [0.5555555555555556, \"#d8576b\"], [0.6666666666666666, \"#ed7953\"], [0.7777777777777778, \"#fb9f3a\"], [0.8888888888888888, \"#fdca26\"], [1.0, \"#f0f921\"]], \"type\": \"histogram2d\"}], \"histogram2dcontour\": [{\"colorbar\": {\"outlinewidth\": 0, \"ticks\": \"\"}, \"colorscale\": [[0.0, \"#0d0887\"], [0.1111111111111111, \"#46039f\"], [0.2222222222222222, \"#7201a8\"], [0.3333333333333333, \"#9c179e\"], [0.4444444444444444, \"#bd3786\"], [0.5555555555555556, \"#d8576b\"], [0.6666666666666666, \"#ed7953\"], [0.7777777777777778, \"#fb9f3a\"], [0.8888888888888888, \"#fdca26\"], [1.0, \"#f0f921\"]], \"type\": \"histogram2dcontour\"}], \"mesh3d\": [{\"colorbar\": {\"outlinewidth\": 0, \"ticks\": \"\"}, \"type\": \"mesh3d\"}], \"parcoords\": [{\"line\": {\"colorbar\": {\"outlinewidth\": 0, \"ticks\": \"\"}}, \"type\": \"parcoords\"}], \"pie\": [{\"automargin\": true, \"type\": \"pie\"}], \"scatter\": [{\"marker\": {\"colorbar\": {\"outlinewidth\": 0, \"ticks\": \"\"}}, \"type\": \"scatter\"}], \"scatter3d\": [{\"line\": {\"colorbar\": {\"outlinewidth\": 0, \"ticks\": \"\"}}, \"marker\": {\"colorbar\": {\"outlinewidth\": 0, \"ticks\": \"\"}}, \"type\": \"scatter3d\"}], \"scattercarpet\": [{\"marker\": {\"colorbar\": {\"outlinewidth\": 0, \"ticks\": \"\"}}, \"type\": \"scattercarpet\"}], \"scattergeo\": [{\"marker\": {\"colorbar\": {\"outlinewidth\": 0, \"ticks\": \"\"}}, \"type\": \"scattergeo\"}], \"scattergl\": [{\"marker\": {\"colorbar\": {\"outlinewidth\": 0, \"ticks\": \"\"}}, \"type\": \"scattergl\"}], \"scattermapbox\": [{\"marker\": {\"colorbar\": {\"outlinewidth\": 0, \"ticks\": \"\"}}, \"type\": \"scattermapbox\"}], \"scatterpolar\": [{\"marker\": {\"colorbar\": {\"outlinewidth\": 0, \"ticks\": \"\"}}, \"type\": \"scatterpolar\"}], \"scatterpolargl\": [{\"marker\": {\"colorbar\": {\"outlinewidth\": 0, \"ticks\": \"\"}}, \"type\": \"scatterpolargl\"}], \"scatterternary\": [{\"marker\": {\"colorbar\": {\"outlinewidth\": 0, \"ticks\": \"\"}}, \"type\": \"scatterternary\"}], \"surface\": [{\"colorbar\": {\"outlinewidth\": 0, \"ticks\": \"\"}, \"colorscale\": [[0.0, \"#0d0887\"], [0.1111111111111111, \"#46039f\"], [0.2222222222222222, \"#7201a8\"], [0.3333333333333333, \"#9c179e\"], [0.4444444444444444, \"#bd3786\"], [0.5555555555555556, \"#d8576b\"], [0.6666666666666666, \"#ed7953\"], [0.7777777777777778, \"#fb9f3a\"], [0.8888888888888888, \"#fdca26\"], [1.0, \"#f0f921\"]], \"type\": \"surface\"}], \"table\": [{\"cells\": {\"fill\": {\"color\": \"#EBF0F8\"}, \"line\": {\"color\": \"white\"}}, \"header\": {\"fill\": {\"color\": \"#C8D4E3\"}, \"line\": {\"color\": \"white\"}}, \"type\": \"table\"}]}, \"layout\": {\"annotationdefaults\": {\"arrowcolor\": \"#2a3f5f\", \"arrowhead\": 0, \"arrowwidth\": 1}, \"coloraxis\": {\"colorbar\": {\"outlinewidth\": 0, \"ticks\": \"\"}}, \"colorscale\": {\"diverging\": [[0, \"#8e0152\"], [0.1, \"#c51b7d\"], [0.2, \"#de77ae\"], [0.3, \"#f1b6da\"], [0.4, \"#fde0ef\"], [0.5, \"#f7f7f7\"], [0.6, \"#e6f5d0\"], [0.7, \"#b8e186\"], [0.8, \"#7fbc41\"], [0.9, \"#4d9221\"], [1, \"#276419\"]], \"sequential\": [[0.0, \"#0d0887\"], [0.1111111111111111, \"#46039f\"], [0.2222222222222222, \"#7201a8\"], [0.3333333333333333, \"#9c179e\"], [0.4444444444444444, \"#bd3786\"], [0.5555555555555556, \"#d8576b\"], [0.6666666666666666, \"#ed7953\"], [0.7777777777777778, \"#fb9f3a\"], [0.8888888888888888, \"#fdca26\"], [1.0, \"#f0f921\"]], \"sequentialminus\": [[0.0, \"#0d0887\"], [0.1111111111111111, \"#46039f\"], [0.2222222222222222, \"#7201a8\"], [0.3333333333333333, \"#9c179e\"], [0.4444444444444444, \"#bd3786\"], [0.5555555555555556, \"#d8576b\"], [0.6666666666666666, \"#ed7953\"], [0.7777777777777778, \"#fb9f3a\"], [0.8888888888888888, \"#fdca26\"], [1.0, \"#f0f921\"]]}, \"colorway\": [\"#636efa\", \"#EF553B\", \"#00cc96\", \"#ab63fa\", \"#FFA15A\", \"#19d3f3\", \"#FF6692\", \"#B6E880\", \"#FF97FF\", \"#FECB52\"], \"font\": {\"color\": \"#2a3f5f\"}, \"geo\": {\"bgcolor\": \"white\", \"lakecolor\": \"white\", \"landcolor\": \"#E5ECF6\", \"showlakes\": true, \"showland\": true, \"subunitcolor\": \"white\"}, \"hoverlabel\": {\"align\": \"left\"}, \"hovermode\": \"closest\", \"mapbox\": {\"style\": \"light\"}, \"paper_bgcolor\": \"white\", \"plot_bgcolor\": \"#E5ECF6\", \"polar\": {\"angularaxis\": {\"gridcolor\": \"white\", \"linecolor\": \"white\", \"ticks\": \"\"}, \"bgcolor\": \"#E5ECF6\", \"radialaxis\": {\"gridcolor\": \"white\", \"linecolor\": \"white\", \"ticks\": \"\"}}, \"scene\": {\"xaxis\": {\"backgroundcolor\": \"#E5ECF6\", \"gridcolor\": \"white\", \"gridwidth\": 2, \"linecolor\": \"white\", \"showbackground\": true, \"ticks\": \"\", \"zerolinecolor\": \"white\"}, \"yaxis\": {\"backgroundcolor\": \"#E5ECF6\", \"gridcolor\": \"white\", \"gridwidth\": 2, \"linecolor\": \"white\", \"showbackground\": true, \"ticks\": \"\", \"zerolinecolor\": \"white\"}, \"zaxis\": {\"backgroundcolor\": \"#E5ECF6\", \"gridcolor\": \"white\", \"gridwidth\": 2, \"linecolor\": \"white\", \"showbackground\": true, \"ticks\": \"\", \"zerolinecolor\": \"white\"}}, \"shapedefaults\": {\"line\": {\"color\": \"#2a3f5f\"}}, \"ternary\": {\"aaxis\": {\"gridcolor\": \"white\", \"linecolor\": \"white\", \"ticks\": \"\"}, \"baxis\": {\"gridcolor\": \"white\", \"linecolor\": \"white\", \"ticks\": \"\"}, \"bgcolor\": \"#E5ECF6\", \"caxis\": {\"gridcolor\": \"white\", \"linecolor\": \"white\", \"ticks\": \"\"}}, \"title\": {\"x\": 0.05}, \"xaxis\": {\"automargin\": true, \"gridcolor\": \"white\", \"linecolor\": \"white\", \"ticks\": \"\", \"title\": {\"standoff\": 15}, \"zerolinecolor\": \"white\", \"zerolinewidth\": 2}, \"yaxis\": {\"automargin\": true, \"gridcolor\": \"white\", \"linecolor\": \"white\", \"ticks\": \"\", \"title\": {\"standoff\": 15}, \"zerolinecolor\": \"white\", \"zerolinewidth\": 2}}}, \"title\": {\"text\": \"ZCN11 ZCZ11\", \"x\": 0.5, \"xanchor\": \"center\", \"y\": 0.9, \"yanchor\": \"top\"}, \"xaxis\": {\"showspikes\": true, \"spikedash\": \"solid\", \"spikemode\": \"toaxis+across\", \"spikethickness\": 1, \"tickangle\": 45, \"ticktext\": [20110124, 20110201, 20110209, 20110217, 20110228, 20110308, 20110316, 20110324, 20110401, 20110411, 20110419, 20110428, 20110506, 20110516, 20110524, 20110602, 20110610, 20110620, 20110628, 20110707], \"tickvals\": [20110124, 20110201, 20110209, 20110217, 20110228, 20110308, 20110316, 20110324, 20110401, 20110411, 20110419, 20110428, 20110506, 20110516, 20110524, 20110602, 20110610, 20110620, 20110628, 20110707], \"type\": \"category\"}, \"yaxis\": {\"showspikes\": true, \"spikedash\": \"solid\", \"spikemode\": \"toaxis+across\", \"spikethickness\": 1, \"title\": {\"text\": \"price\"}}, \"yaxis2\": {\"overlaying\": \"y\", \"side\": \"right\", \"title\": {\"text\": \"spread\"}}},\n",
       "                        {\"responsive\": true}\n",
       "                    ).then(function(){\n",
       "                            \n",
       "var gd = document.getElementById('6a20dc25-38db-4e58-ac69-741a3b8ba504');\n",
       "var x = new MutationObserver(function (mutations, observer) {{\n",
       "        var display = window.getComputedStyle(gd).display;\n",
       "        if (!display || display === 'none') {{\n",
       "            console.log([gd, 'removed!']);\n",
       "            Plotly.purge(gd);\n",
       "            observer.disconnect();\n",
       "        }}\n",
       "}});\n",
       "\n",
       "// Listen for the removal of the full notebook cells\n",
       "var notebookContainer = gd.closest('#notebook-container');\n",
       "if (notebookContainer) {{\n",
       "    x.observe(notebookContainer, {childList: true});\n",
       "}}\n",
       "\n",
       "// Listen for the clearing of the current output cell\n",
       "var outputEl = gd.closest('.output');\n",
       "if (outputEl) {{\n",
       "    x.observe(outputEl, {childList: true});\n",
       "}}\n",
       "\n",
       "                        })\n",
       "                };\n",
       "                });\n",
       "            </script>\n",
       "        </div>"
      ]
     },
     "metadata": {},
     "output_type": "display_data"
    },
    {
     "data": {
      "application/vnd.plotly.v1+json": {
       "config": {
        "linkText": "Export to plot.ly",
        "plotlyServerURL": "https://plot.ly",
        "showLink": false
       },
       "data": [
        {
         "name": "front",
         "type": "scatter",
         "x": [
          20120124,
          20120125,
          20120126,
          20120127,
          20120130,
          20120131,
          20120201,
          20120202,
          20120203,
          20120206,
          20120207,
          20120208,
          20120209,
          20120210,
          20120213,
          20120214,
          20120215,
          20120216,
          20120217,
          20120221,
          20120222,
          20120223,
          20120224,
          20120227,
          20120228,
          20120229,
          20120301,
          20120302,
          20120305,
          20120306,
          20120307,
          20120308,
          20120309,
          20120312,
          20120313,
          20120314,
          20120315,
          20120316,
          20120319,
          20120320,
          20120321,
          20120322,
          20120323,
          20120326,
          20120327,
          20120328,
          20120329,
          20120330,
          20120402,
          20120403,
          20120404,
          20120405,
          20120409,
          20120410,
          20120411,
          20120412,
          20120413,
          20120416,
          20120417,
          20120418,
          20120419,
          20120420,
          20120423,
          20120424,
          20120425,
          20120426,
          20120427,
          20120430,
          20120501,
          20120502,
          20120503,
          20120504,
          20120507,
          20120508,
          20120509,
          20120510,
          20120511,
          20120514,
          20120515,
          20120516,
          20120517,
          20120518,
          20120521,
          20120522,
          20120523,
          20120524,
          20120525,
          20120529,
          20120530,
          20120531,
          20120601,
          20120604,
          20120605,
          20120606,
          20120607,
          20120608,
          20120611,
          20120612,
          20120613,
          20120614,
          20120615,
          20120618,
          20120619,
          20120620,
          20120621,
          20120622,
          20120625,
          20120626,
          20120627,
          20120628,
          20120629,
          20120702,
          20120703,
          20120705,
          20120706,
          20120709,
          20120710,
          20120711,
          20120712,
          20120713
         ],
         "y": [
          638.5,
          644,
          643.75,
          651,
          641.25,
          648.75,
          651.75,
          653.5,
          655.5,
          656.25,
          652.5,
          652.25,
          645.75,
          639.25,
          646,
          641.5,
          634,
          642.75,
          648.25,
          637.5,
          644.25,
          644.75,
          646.5,
          650.75,
          658.75,
          660.5,
          655.5,
          656.25,
          662.25,
          655,
          640,
          637,
          644,
          654,
          658,
          656.75,
          667,
          670.25,
          661.5,
          646,
          641.25,
          642.75,
          644.5,
          636,
          630.75,
          619.5,
          603.75,
          643.25,
          651,
          653,
          650.75,
          652.25,
          641.25,
          625.75,
          627,
          629,
          620.75,
          613.25,
          607.25,
          594,
          612,
          603,
          612.5,
          608,
          601,
          607.5,
          625.5,
          634.25,
          629,
          611.5,
          614.5,
          620.25,
          620,
          623,
          607.25,
          587.5,
          581,
          583,
          597.25,
          620,
          625,
          635.5,
          633,
          597,
          603.5,
          578.5,
          578.5,
          562.5,
          559.5,
          555.25,
          551.5,
          568,
          567.5,
          586.25,
          594,
          598,
          592,
          584,
          592.5,
          601.5,
          579.5,
          599.5,
          612.5,
          611.75,
          586.5,
          591,
          631,
          646,
          649.5,
          652,
          672.5,
          692.5,
          718.75,
          768,
          743.25,
          775.25,
          761,
          750.75,
          771.25,
          755.75
         ],
         "yaxis": "y"
        },
        {
         "name": "back",
         "type": "scatter",
         "x": [
          20120124,
          20120125,
          20120126,
          20120127,
          20120130,
          20120131,
          20120201,
          20120202,
          20120203,
          20120206,
          20120207,
          20120208,
          20120209,
          20120210,
          20120213,
          20120214,
          20120215,
          20120216,
          20120217,
          20120221,
          20120222,
          20120223,
          20120224,
          20120227,
          20120228,
          20120229,
          20120301,
          20120302,
          20120305,
          20120306,
          20120307,
          20120308,
          20120309,
          20120312,
          20120313,
          20120314,
          20120315,
          20120316,
          20120319,
          20120320,
          20120321,
          20120322,
          20120323,
          20120326,
          20120327,
          20120328,
          20120329,
          20120330,
          20120402,
          20120403,
          20120404,
          20120405,
          20120409,
          20120410,
          20120411,
          20120412,
          20120413,
          20120416,
          20120417,
          20120418,
          20120419,
          20120420,
          20120423,
          20120424,
          20120425,
          20120426,
          20120427,
          20120430,
          20120501,
          20120502,
          20120503,
          20120504,
          20120507,
          20120508,
          20120509,
          20120510,
          20120511,
          20120514,
          20120515,
          20120516,
          20120517,
          20120518,
          20120521,
          20120522,
          20120523,
          20120524,
          20120525,
          20120529,
          20120530,
          20120531,
          20120601,
          20120604,
          20120605,
          20120606,
          20120607,
          20120608,
          20120611,
          20120612,
          20120613,
          20120614,
          20120615,
          20120618,
          20120619,
          20120620,
          20120621,
          20120622,
          20120625,
          20120626,
          20120627,
          20120628,
          20120629,
          20120702,
          20120703,
          20120705,
          20120706,
          20120709,
          20120710,
          20120711,
          20120712,
          20120713
         ],
         "y": [
          562.5,
          563,
          566,
          571,
          564.75,
          569.5,
          576.75,
          579,
          581.5,
          581.25,
          575.25,
          573.5,
          568,
          559.75,
          567,
          564.25,
          559.75,
          568,
          568.25,
          563.75,
          564.5,
          558.75,
          558,
          557,
          563.5,
          568.5,
          566.75,
          570,
          571.25,
          563.5,
          558,
          557.25,
          562.5,
          568.5,
          567.5,
          564,
          572.25,
          574.25,
          570.25,
          560.25,
          556,
          555.75,
          557.5,
          553.25,
          550.25,
          536.25,
          524.25,
          540.25,
          545,
          545.5,
          544.25,
          550.25,
          550.25,
          543.5,
          546.75,
          546.75,
          537,
          526.25,
          529.75,
          528.75,
          541.75,
          536.75,
          545.5,
          541.5,
          538,
          535,
          538.75,
          543.25,
          538.75,
          531,
          529.5,
          524.25,
          524.75,
          528,
          516.75,
          507.25,
          505.25,
          505.5,
          514.5,
          526.25,
          528.25,
          537,
          540.5,
          522,
          523,
          515,
          521.5,
          517.5,
          520.5,
          522,
          510,
          523.75,
          507.75,
          519.5,
          536.5,
          544,
          534,
          522.5,
          510.5,
          516,
          506,
          534,
          563.5,
          566.5,
          550,
          554,
          594,
          624,
          633,
          632.25,
          634.75,
          655.75,
          674.5,
          708.5,
          693,
          730,
          717.5,
          704,
          732.25,
          740.25
         ],
         "yaxis": "y"
        },
        {
         "name": "spread",
         "type": "scatter",
         "x": [
          20120124,
          20120125,
          20120126,
          20120127,
          20120130,
          20120131,
          20120201,
          20120202,
          20120203,
          20120206,
          20120207,
          20120208,
          20120209,
          20120210,
          20120213,
          20120214,
          20120215,
          20120216,
          20120217,
          20120221,
          20120222,
          20120223,
          20120224,
          20120227,
          20120228,
          20120229,
          20120301,
          20120302,
          20120305,
          20120306,
          20120307,
          20120308,
          20120309,
          20120312,
          20120313,
          20120314,
          20120315,
          20120316,
          20120319,
          20120320,
          20120321,
          20120322,
          20120323,
          20120326,
          20120327,
          20120328,
          20120329,
          20120330,
          20120402,
          20120403,
          20120404,
          20120405,
          20120409,
          20120410,
          20120411,
          20120412,
          20120413,
          20120416,
          20120417,
          20120418,
          20120419,
          20120420,
          20120423,
          20120424,
          20120425,
          20120426,
          20120427,
          20120430,
          20120501,
          20120502,
          20120503,
          20120504,
          20120507,
          20120508,
          20120509,
          20120510,
          20120511,
          20120514,
          20120515,
          20120516,
          20120517,
          20120518,
          20120521,
          20120522,
          20120523,
          20120524,
          20120525,
          20120529,
          20120530,
          20120531,
          20120601,
          20120604,
          20120605,
          20120606,
          20120607,
          20120608,
          20120611,
          20120612,
          20120613,
          20120614,
          20120615,
          20120618,
          20120619,
          20120620,
          20120621,
          20120622,
          20120625,
          20120626,
          20120627,
          20120628,
          20120629,
          20120702,
          20120703,
          20120705,
          20120706,
          20120709,
          20120710,
          20120711,
          20120712,
          20120713
         ],
         "y": [
          76,
          81,
          77.75,
          80,
          76.5,
          79.25,
          75,
          74.5,
          74,
          75,
          77.25,
          78.75,
          77.75,
          79.5,
          79,
          77.25,
          74.25,
          74.75,
          80,
          73.75,
          79.75,
          86,
          88.5,
          93.75,
          95.25,
          92,
          88.75,
          86.25,
          91,
          91.5,
          82,
          79.75,
          81.5,
          85.5,
          90.5,
          92.75,
          94.75,
          96,
          91.25,
          85.75,
          85.25,
          87,
          87,
          82.75,
          80.5,
          83.25,
          79.5,
          103,
          106,
          107.5,
          106.5,
          102,
          91,
          82.25,
          80.25,
          82.25,
          83.75,
          87,
          77.5,
          65.25,
          70.25,
          66.25,
          67,
          66.5,
          63,
          72.5,
          86.75,
          91,
          90.25,
          80.5,
          85,
          96,
          95.25,
          95,
          90.5,
          80.25,
          75.75,
          77.5,
          82.75,
          93.75,
          96.75,
          98.5,
          92.5,
          75,
          80.5,
          63.5,
          57,
          45,
          39,
          33.25,
          41.5,
          44.25,
          59.75,
          66.75,
          57.5,
          54,
          58,
          61.5,
          82,
          85.5,
          73.5,
          65.5,
          49,
          45.25,
          36.5,
          37,
          37,
          22,
          16.5,
          19.75,
          37.75,
          36.75,
          44.25,
          59.5,
          50.25,
          45.25,
          43.5,
          46.75,
          39,
          15.5
         ],
         "yaxis": "y2"
        }
       ],
       "layout": {
        "autosize": true,
        "hovermode": "x",
        "legend": {
         "orientation": "h",
         "x": 0,
         "y": 1.1
        },
        "margin": {
         "b": 100
        },
        "modebar": {
         "bgcolor": "grey",
         "orientation": "v"
        },
        "spikedistance": 1000,
        "template": {
         "data": {
          "bar": [
           {
            "error_x": {
             "color": "#2a3f5f"
            },
            "error_y": {
             "color": "#2a3f5f"
            },
            "marker": {
             "line": {
              "color": "#E5ECF6",
              "width": 0.5
             }
            },
            "type": "bar"
           }
          ],
          "barpolar": [
           {
            "marker": {
             "line": {
              "color": "#E5ECF6",
              "width": 0.5
             }
            },
            "type": "barpolar"
           }
          ],
          "carpet": [
           {
            "aaxis": {
             "endlinecolor": "#2a3f5f",
             "gridcolor": "white",
             "linecolor": "white",
             "minorgridcolor": "white",
             "startlinecolor": "#2a3f5f"
            },
            "baxis": {
             "endlinecolor": "#2a3f5f",
             "gridcolor": "white",
             "linecolor": "white",
             "minorgridcolor": "white",
             "startlinecolor": "#2a3f5f"
            },
            "type": "carpet"
           }
          ],
          "choropleth": [
           {
            "colorbar": {
             "outlinewidth": 0,
             "ticks": ""
            },
            "type": "choropleth"
           }
          ],
          "contour": [
           {
            "colorbar": {
             "outlinewidth": 0,
             "ticks": ""
            },
            "colorscale": [
             [
              0,
              "#0d0887"
             ],
             [
              0.1111111111111111,
              "#46039f"
             ],
             [
              0.2222222222222222,
              "#7201a8"
             ],
             [
              0.3333333333333333,
              "#9c179e"
             ],
             [
              0.4444444444444444,
              "#bd3786"
             ],
             [
              0.5555555555555556,
              "#d8576b"
             ],
             [
              0.6666666666666666,
              "#ed7953"
             ],
             [
              0.7777777777777778,
              "#fb9f3a"
             ],
             [
              0.8888888888888888,
              "#fdca26"
             ],
             [
              1,
              "#f0f921"
             ]
            ],
            "type": "contour"
           }
          ],
          "contourcarpet": [
           {
            "colorbar": {
             "outlinewidth": 0,
             "ticks": ""
            },
            "type": "contourcarpet"
           }
          ],
          "heatmap": [
           {
            "colorbar": {
             "outlinewidth": 0,
             "ticks": ""
            },
            "colorscale": [
             [
              0,
              "#0d0887"
             ],
             [
              0.1111111111111111,
              "#46039f"
             ],
             [
              0.2222222222222222,
              "#7201a8"
             ],
             [
              0.3333333333333333,
              "#9c179e"
             ],
             [
              0.4444444444444444,
              "#bd3786"
             ],
             [
              0.5555555555555556,
              "#d8576b"
             ],
             [
              0.6666666666666666,
              "#ed7953"
             ],
             [
              0.7777777777777778,
              "#fb9f3a"
             ],
             [
              0.8888888888888888,
              "#fdca26"
             ],
             [
              1,
              "#f0f921"
             ]
            ],
            "type": "heatmap"
           }
          ],
          "heatmapgl": [
           {
            "colorbar": {
             "outlinewidth": 0,
             "ticks": ""
            },
            "colorscale": [
             [
              0,
              "#0d0887"
             ],
             [
              0.1111111111111111,
              "#46039f"
             ],
             [
              0.2222222222222222,
              "#7201a8"
             ],
             [
              0.3333333333333333,
              "#9c179e"
             ],
             [
              0.4444444444444444,
              "#bd3786"
             ],
             [
              0.5555555555555556,
              "#d8576b"
             ],
             [
              0.6666666666666666,
              "#ed7953"
             ],
             [
              0.7777777777777778,
              "#fb9f3a"
             ],
             [
              0.8888888888888888,
              "#fdca26"
             ],
             [
              1,
              "#f0f921"
             ]
            ],
            "type": "heatmapgl"
           }
          ],
          "histogram": [
           {
            "marker": {
             "colorbar": {
              "outlinewidth": 0,
              "ticks": ""
             }
            },
            "type": "histogram"
           }
          ],
          "histogram2d": [
           {
            "colorbar": {
             "outlinewidth": 0,
             "ticks": ""
            },
            "colorscale": [
             [
              0,
              "#0d0887"
             ],
             [
              0.1111111111111111,
              "#46039f"
             ],
             [
              0.2222222222222222,
              "#7201a8"
             ],
             [
              0.3333333333333333,
              "#9c179e"
             ],
             [
              0.4444444444444444,
              "#bd3786"
             ],
             [
              0.5555555555555556,
              "#d8576b"
             ],
             [
              0.6666666666666666,
              "#ed7953"
             ],
             [
              0.7777777777777778,
              "#fb9f3a"
             ],
             [
              0.8888888888888888,
              "#fdca26"
             ],
             [
              1,
              "#f0f921"
             ]
            ],
            "type": "histogram2d"
           }
          ],
          "histogram2dcontour": [
           {
            "colorbar": {
             "outlinewidth": 0,
             "ticks": ""
            },
            "colorscale": [
             [
              0,
              "#0d0887"
             ],
             [
              0.1111111111111111,
              "#46039f"
             ],
             [
              0.2222222222222222,
              "#7201a8"
             ],
             [
              0.3333333333333333,
              "#9c179e"
             ],
             [
              0.4444444444444444,
              "#bd3786"
             ],
             [
              0.5555555555555556,
              "#d8576b"
             ],
             [
              0.6666666666666666,
              "#ed7953"
             ],
             [
              0.7777777777777778,
              "#fb9f3a"
             ],
             [
              0.8888888888888888,
              "#fdca26"
             ],
             [
              1,
              "#f0f921"
             ]
            ],
            "type": "histogram2dcontour"
           }
          ],
          "mesh3d": [
           {
            "colorbar": {
             "outlinewidth": 0,
             "ticks": ""
            },
            "type": "mesh3d"
           }
          ],
          "parcoords": [
           {
            "line": {
             "colorbar": {
              "outlinewidth": 0,
              "ticks": ""
             }
            },
            "type": "parcoords"
           }
          ],
          "pie": [
           {
            "automargin": true,
            "type": "pie"
           }
          ],
          "scatter": [
           {
            "marker": {
             "colorbar": {
              "outlinewidth": 0,
              "ticks": ""
             }
            },
            "type": "scatter"
           }
          ],
          "scatter3d": [
           {
            "line": {
             "colorbar": {
              "outlinewidth": 0,
              "ticks": ""
             }
            },
            "marker": {
             "colorbar": {
              "outlinewidth": 0,
              "ticks": ""
             }
            },
            "type": "scatter3d"
           }
          ],
          "scattercarpet": [
           {
            "marker": {
             "colorbar": {
              "outlinewidth": 0,
              "ticks": ""
             }
            },
            "type": "scattercarpet"
           }
          ],
          "scattergeo": [
           {
            "marker": {
             "colorbar": {
              "outlinewidth": 0,
              "ticks": ""
             }
            },
            "type": "scattergeo"
           }
          ],
          "scattergl": [
           {
            "marker": {
             "colorbar": {
              "outlinewidth": 0,
              "ticks": ""
             }
            },
            "type": "scattergl"
           }
          ],
          "scattermapbox": [
           {
            "marker": {
             "colorbar": {
              "outlinewidth": 0,
              "ticks": ""
             }
            },
            "type": "scattermapbox"
           }
          ],
          "scatterpolar": [
           {
            "marker": {
             "colorbar": {
              "outlinewidth": 0,
              "ticks": ""
             }
            },
            "type": "scatterpolar"
           }
          ],
          "scatterpolargl": [
           {
            "marker": {
             "colorbar": {
              "outlinewidth": 0,
              "ticks": ""
             }
            },
            "type": "scatterpolargl"
           }
          ],
          "scatterternary": [
           {
            "marker": {
             "colorbar": {
              "outlinewidth": 0,
              "ticks": ""
             }
            },
            "type": "scatterternary"
           }
          ],
          "surface": [
           {
            "colorbar": {
             "outlinewidth": 0,
             "ticks": ""
            },
            "colorscale": [
             [
              0,
              "#0d0887"
             ],
             [
              0.1111111111111111,
              "#46039f"
             ],
             [
              0.2222222222222222,
              "#7201a8"
             ],
             [
              0.3333333333333333,
              "#9c179e"
             ],
             [
              0.4444444444444444,
              "#bd3786"
             ],
             [
              0.5555555555555556,
              "#d8576b"
             ],
             [
              0.6666666666666666,
              "#ed7953"
             ],
             [
              0.7777777777777778,
              "#fb9f3a"
             ],
             [
              0.8888888888888888,
              "#fdca26"
             ],
             [
              1,
              "#f0f921"
             ]
            ],
            "type": "surface"
           }
          ],
          "table": [
           {
            "cells": {
             "fill": {
              "color": "#EBF0F8"
             },
             "line": {
              "color": "white"
             }
            },
            "header": {
             "fill": {
              "color": "#C8D4E3"
             },
             "line": {
              "color": "white"
             }
            },
            "type": "table"
           }
          ]
         },
         "layout": {
          "annotationdefaults": {
           "arrowcolor": "#2a3f5f",
           "arrowhead": 0,
           "arrowwidth": 1
          },
          "coloraxis": {
           "colorbar": {
            "outlinewidth": 0,
            "ticks": ""
           }
          },
          "colorscale": {
           "diverging": [
            [
             0,
             "#8e0152"
            ],
            [
             0.1,
             "#c51b7d"
            ],
            [
             0.2,
             "#de77ae"
            ],
            [
             0.3,
             "#f1b6da"
            ],
            [
             0.4,
             "#fde0ef"
            ],
            [
             0.5,
             "#f7f7f7"
            ],
            [
             0.6,
             "#e6f5d0"
            ],
            [
             0.7,
             "#b8e186"
            ],
            [
             0.8,
             "#7fbc41"
            ],
            [
             0.9,
             "#4d9221"
            ],
            [
             1,
             "#276419"
            ]
           ],
           "sequential": [
            [
             0,
             "#0d0887"
            ],
            [
             0.1111111111111111,
             "#46039f"
            ],
            [
             0.2222222222222222,
             "#7201a8"
            ],
            [
             0.3333333333333333,
             "#9c179e"
            ],
            [
             0.4444444444444444,
             "#bd3786"
            ],
            [
             0.5555555555555556,
             "#d8576b"
            ],
            [
             0.6666666666666666,
             "#ed7953"
            ],
            [
             0.7777777777777778,
             "#fb9f3a"
            ],
            [
             0.8888888888888888,
             "#fdca26"
            ],
            [
             1,
             "#f0f921"
            ]
           ],
           "sequentialminus": [
            [
             0,
             "#0d0887"
            ],
            [
             0.1111111111111111,
             "#46039f"
            ],
            [
             0.2222222222222222,
             "#7201a8"
            ],
            [
             0.3333333333333333,
             "#9c179e"
            ],
            [
             0.4444444444444444,
             "#bd3786"
            ],
            [
             0.5555555555555556,
             "#d8576b"
            ],
            [
             0.6666666666666666,
             "#ed7953"
            ],
            [
             0.7777777777777778,
             "#fb9f3a"
            ],
            [
             0.8888888888888888,
             "#fdca26"
            ],
            [
             1,
             "#f0f921"
            ]
           ]
          },
          "colorway": [
           "#636efa",
           "#EF553B",
           "#00cc96",
           "#ab63fa",
           "#FFA15A",
           "#19d3f3",
           "#FF6692",
           "#B6E880",
           "#FF97FF",
           "#FECB52"
          ],
          "font": {
           "color": "#2a3f5f"
          },
          "geo": {
           "bgcolor": "white",
           "lakecolor": "white",
           "landcolor": "#E5ECF6",
           "showlakes": true,
           "showland": true,
           "subunitcolor": "white"
          },
          "hoverlabel": {
           "align": "left"
          },
          "hovermode": "closest",
          "mapbox": {
           "style": "light"
          },
          "paper_bgcolor": "white",
          "plot_bgcolor": "#E5ECF6",
          "polar": {
           "angularaxis": {
            "gridcolor": "white",
            "linecolor": "white",
            "ticks": ""
           },
           "bgcolor": "#E5ECF6",
           "radialaxis": {
            "gridcolor": "white",
            "linecolor": "white",
            "ticks": ""
           }
          },
          "scene": {
           "xaxis": {
            "backgroundcolor": "#E5ECF6",
            "gridcolor": "white",
            "gridwidth": 2,
            "linecolor": "white",
            "showbackground": true,
            "ticks": "",
            "zerolinecolor": "white"
           },
           "yaxis": {
            "backgroundcolor": "#E5ECF6",
            "gridcolor": "white",
            "gridwidth": 2,
            "linecolor": "white",
            "showbackground": true,
            "ticks": "",
            "zerolinecolor": "white"
           },
           "zaxis": {
            "backgroundcolor": "#E5ECF6",
            "gridcolor": "white",
            "gridwidth": 2,
            "linecolor": "white",
            "showbackground": true,
            "ticks": "",
            "zerolinecolor": "white"
           }
          },
          "shapedefaults": {
           "line": {
            "color": "#2a3f5f"
           }
          },
          "ternary": {
           "aaxis": {
            "gridcolor": "white",
            "linecolor": "white",
            "ticks": ""
           },
           "baxis": {
            "gridcolor": "white",
            "linecolor": "white",
            "ticks": ""
           },
           "bgcolor": "#E5ECF6",
           "caxis": {
            "gridcolor": "white",
            "linecolor": "white",
            "ticks": ""
           }
          },
          "title": {
           "x": 0.05
          },
          "xaxis": {
           "automargin": true,
           "gridcolor": "white",
           "linecolor": "white",
           "ticks": "",
           "title": {
            "standoff": 15
           },
           "zerolinecolor": "white",
           "zerolinewidth": 2
          },
          "yaxis": {
           "automargin": true,
           "gridcolor": "white",
           "linecolor": "white",
           "ticks": "",
           "title": {
            "standoff": 15
           },
           "zerolinecolor": "white",
           "zerolinewidth": 2
          }
         }
        },
        "title": {
         "text": "ZCN12 ZCZ12",
         "x": 0.5,
         "xanchor": "center",
         "y": 0.9,
         "yanchor": "top"
        },
        "xaxis": {
         "showspikes": true,
         "spikedash": "solid",
         "spikemode": "toaxis+across",
         "spikethickness": 1,
         "tickangle": 45,
         "ticktext": [
          20120124,
          20120201,
          20120209,
          20120217,
          20120228,
          20120307,
          20120315,
          20120323,
          20120402,
          20120411,
          20120419,
          20120427,
          20120507,
          20120515,
          20120523,
          20120601,
          20120611,
          20120619,
          20120627,
          20120706
         ],
         "tickvals": [
          20120124,
          20120201,
          20120209,
          20120217,
          20120228,
          20120307,
          20120315,
          20120323,
          20120402,
          20120411,
          20120419,
          20120427,
          20120507,
          20120515,
          20120523,
          20120601,
          20120611,
          20120619,
          20120627,
          20120706
         ],
         "type": "category"
        },
        "yaxis": {
         "showspikes": true,
         "spikedash": "solid",
         "spikemode": "toaxis+across",
         "spikethickness": 1,
         "title": {
          "text": "price"
         }
        },
        "yaxis2": {
         "overlaying": "y",
         "side": "right",
         "title": {
          "text": "spread"
         }
        }
       }
      },
      "text/html": [
       "<div>\n",
       "        \n",
       "        \n",
       "            <div id=\"6b96f37e-bee9-4230-a9f8-9f7a66f7898e\" class=\"plotly-graph-div\" style=\"height:525px; width:100%;\"></div>\n",
       "            <script type=\"text/javascript\">\n",
       "                require([\"plotly\"], function(Plotly) {\n",
       "                    window.PLOTLYENV=window.PLOTLYENV || {};\n",
       "                    \n",
       "                if (document.getElementById(\"6b96f37e-bee9-4230-a9f8-9f7a66f7898e\")) {\n",
       "                    Plotly.newPlot(\n",
       "                        '6b96f37e-bee9-4230-a9f8-9f7a66f7898e',\n",
       "                        [{\"name\": \"front\", \"type\": \"scatter\", \"x\": [20120124, 20120125, 20120126, 20120127, 20120130, 20120131, 20120201, 20120202, 20120203, 20120206, 20120207, 20120208, 20120209, 20120210, 20120213, 20120214, 20120215, 20120216, 20120217, 20120221, 20120222, 20120223, 20120224, 20120227, 20120228, 20120229, 20120301, 20120302, 20120305, 20120306, 20120307, 20120308, 20120309, 20120312, 20120313, 20120314, 20120315, 20120316, 20120319, 20120320, 20120321, 20120322, 20120323, 20120326, 20120327, 20120328, 20120329, 20120330, 20120402, 20120403, 20120404, 20120405, 20120409, 20120410, 20120411, 20120412, 20120413, 20120416, 20120417, 20120418, 20120419, 20120420, 20120423, 20120424, 20120425, 20120426, 20120427, 20120430, 20120501, 20120502, 20120503, 20120504, 20120507, 20120508, 20120509, 20120510, 20120511, 20120514, 20120515, 20120516, 20120517, 20120518, 20120521, 20120522, 20120523, 20120524, 20120525, 20120529, 20120530, 20120531, 20120601, 20120604, 20120605, 20120606, 20120607, 20120608, 20120611, 20120612, 20120613, 20120614, 20120615, 20120618, 20120619, 20120620, 20120621, 20120622, 20120625, 20120626, 20120627, 20120628, 20120629, 20120702, 20120703, 20120705, 20120706, 20120709, 20120710, 20120711, 20120712, 20120713], \"y\": [638.5, 644.0, 643.75, 651.0, 641.25, 648.75, 651.75, 653.5, 655.5, 656.25, 652.5, 652.25, 645.75, 639.25, 646.0, 641.5, 634.0, 642.75, 648.25, 637.5, 644.25, 644.75, 646.5, 650.75, 658.75, 660.5, 655.5, 656.25, 662.25, 655.0, 640.0, 637.0, 644.0, 654.0, 658.0, 656.75, 667.0, 670.25, 661.5, 646.0, 641.25, 642.75, 644.5, 636.0, 630.75, 619.5, 603.75, 643.25, 651.0, 653.0, 650.75, 652.25, 641.25, 625.75, 627.0, 629.0, 620.75, 613.25, 607.25, 594.0, 612.0, 603.0, 612.5, 608.0, 601.0, 607.5, 625.5, 634.25, 629.0, 611.5, 614.5, 620.25, 620.0, 623.0, 607.25, 587.5, 581.0, 583.0, 597.25, 620.0, 625.0, 635.5, 633.0, 597.0, 603.5, 578.5, 578.5, 562.5, 559.5, 555.25, 551.5, 568.0, 567.5, 586.25, 594.0, 598.0, 592.0, 584.0, 592.5, 601.5, 579.5, 599.5, 612.5, 611.75, 586.5, 591.0, 631.0, 646.0, 649.5, 652.0, 672.5, 692.5, 718.75, 768.0, 743.25, 775.25, 761.0, 750.75, 771.25, 755.75], \"yaxis\": \"y\"}, {\"name\": \"back\", \"type\": \"scatter\", \"x\": [20120124, 20120125, 20120126, 20120127, 20120130, 20120131, 20120201, 20120202, 20120203, 20120206, 20120207, 20120208, 20120209, 20120210, 20120213, 20120214, 20120215, 20120216, 20120217, 20120221, 20120222, 20120223, 20120224, 20120227, 20120228, 20120229, 20120301, 20120302, 20120305, 20120306, 20120307, 20120308, 20120309, 20120312, 20120313, 20120314, 20120315, 20120316, 20120319, 20120320, 20120321, 20120322, 20120323, 20120326, 20120327, 20120328, 20120329, 20120330, 20120402, 20120403, 20120404, 20120405, 20120409, 20120410, 20120411, 20120412, 20120413, 20120416, 20120417, 20120418, 20120419, 20120420, 20120423, 20120424, 20120425, 20120426, 20120427, 20120430, 20120501, 20120502, 20120503, 20120504, 20120507, 20120508, 20120509, 20120510, 20120511, 20120514, 20120515, 20120516, 20120517, 20120518, 20120521, 20120522, 20120523, 20120524, 20120525, 20120529, 20120530, 20120531, 20120601, 20120604, 20120605, 20120606, 20120607, 20120608, 20120611, 20120612, 20120613, 20120614, 20120615, 20120618, 20120619, 20120620, 20120621, 20120622, 20120625, 20120626, 20120627, 20120628, 20120629, 20120702, 20120703, 20120705, 20120706, 20120709, 20120710, 20120711, 20120712, 20120713], \"y\": [562.5, 563.0, 566.0, 571.0, 564.75, 569.5, 576.75, 579.0, 581.5, 581.25, 575.25, 573.5, 568.0, 559.75, 567.0, 564.25, 559.75, 568.0, 568.25, 563.75, 564.5, 558.75, 558.0, 557.0, 563.5, 568.5, 566.75, 570.0, 571.25, 563.5, 558.0, 557.25, 562.5, 568.5, 567.5, 564.0, 572.25, 574.25, 570.25, 560.25, 556.0, 555.75, 557.5, 553.25, 550.25, 536.25, 524.25, 540.25, 545.0, 545.5, 544.25, 550.25, 550.25, 543.5, 546.75, 546.75, 537.0, 526.25, 529.75, 528.75, 541.75, 536.75, 545.5, 541.5, 538.0, 535.0, 538.75, 543.25, 538.75, 531.0, 529.5, 524.25, 524.75, 528.0, 516.75, 507.25, 505.25, 505.5, 514.5, 526.25, 528.25, 537.0, 540.5, 522.0, 523.0, 515.0, 521.5, 517.5, 520.5, 522.0, 510.0, 523.75, 507.75, 519.5, 536.5, 544.0, 534.0, 522.5, 510.5, 516.0, 506.0, 534.0, 563.5, 566.5, 550.0, 554.0, 594.0, 624.0, 633.0, 632.25, 634.75, 655.75, 674.5, 708.5, 693.0, 730.0, 717.5, 704.0, 732.25, 740.25], \"yaxis\": \"y\"}, {\"name\": \"spread\", \"type\": \"scatter\", \"x\": [20120124, 20120125, 20120126, 20120127, 20120130, 20120131, 20120201, 20120202, 20120203, 20120206, 20120207, 20120208, 20120209, 20120210, 20120213, 20120214, 20120215, 20120216, 20120217, 20120221, 20120222, 20120223, 20120224, 20120227, 20120228, 20120229, 20120301, 20120302, 20120305, 20120306, 20120307, 20120308, 20120309, 20120312, 20120313, 20120314, 20120315, 20120316, 20120319, 20120320, 20120321, 20120322, 20120323, 20120326, 20120327, 20120328, 20120329, 20120330, 20120402, 20120403, 20120404, 20120405, 20120409, 20120410, 20120411, 20120412, 20120413, 20120416, 20120417, 20120418, 20120419, 20120420, 20120423, 20120424, 20120425, 20120426, 20120427, 20120430, 20120501, 20120502, 20120503, 20120504, 20120507, 20120508, 20120509, 20120510, 20120511, 20120514, 20120515, 20120516, 20120517, 20120518, 20120521, 20120522, 20120523, 20120524, 20120525, 20120529, 20120530, 20120531, 20120601, 20120604, 20120605, 20120606, 20120607, 20120608, 20120611, 20120612, 20120613, 20120614, 20120615, 20120618, 20120619, 20120620, 20120621, 20120622, 20120625, 20120626, 20120627, 20120628, 20120629, 20120702, 20120703, 20120705, 20120706, 20120709, 20120710, 20120711, 20120712, 20120713], \"y\": [76.0, 81.0, 77.75, 80.0, 76.5, 79.25, 75.0, 74.5, 74.0, 75.0, 77.25, 78.75, 77.75, 79.5, 79.0, 77.25, 74.25, 74.75, 80.0, 73.75, 79.75, 86.0, 88.5, 93.75, 95.25, 92.0, 88.75, 86.25, 91.0, 91.5, 82.0, 79.75, 81.5, 85.5, 90.5, 92.75, 94.75, 96.0, 91.25, 85.75, 85.25, 87.0, 87.0, 82.75, 80.5, 83.25, 79.5, 103.0, 106.0, 107.5, 106.5, 102.0, 91.0, 82.25, 80.25, 82.25, 83.75, 87.0, 77.5, 65.25, 70.25, 66.25, 67.0, 66.5, 63.0, 72.5, 86.75, 91.0, 90.25, 80.5, 85.0, 96.0, 95.25, 95.0, 90.5, 80.25, 75.75, 77.5, 82.75, 93.75, 96.75, 98.5, 92.5, 75.0, 80.5, 63.5, 57.0, 45.0, 39.0, 33.25, 41.5, 44.25, 59.75, 66.75, 57.5, 54.0, 58.0, 61.5, 82.0, 85.5, 73.5, 65.5, 49.0, 45.25, 36.5, 37.0, 37.0, 22.0, 16.5, 19.75, 37.75, 36.75, 44.25, 59.5, 50.25, 45.25, 43.5, 46.75, 39.0, 15.5], \"yaxis\": \"y2\"}],\n",
       "                        {\"autosize\": true, \"hovermode\": \"x\", \"legend\": {\"orientation\": \"h\", \"x\": 0, \"y\": 1.1}, \"margin\": {\"b\": 100}, \"modebar\": {\"bgcolor\": \"grey\", \"orientation\": \"v\"}, \"spikedistance\": 1000, \"template\": {\"data\": {\"bar\": [{\"error_x\": {\"color\": \"#2a3f5f\"}, \"error_y\": {\"color\": \"#2a3f5f\"}, \"marker\": {\"line\": {\"color\": \"#E5ECF6\", \"width\": 0.5}}, \"type\": \"bar\"}], \"barpolar\": [{\"marker\": {\"line\": {\"color\": \"#E5ECF6\", \"width\": 0.5}}, \"type\": \"barpolar\"}], \"carpet\": [{\"aaxis\": {\"endlinecolor\": \"#2a3f5f\", \"gridcolor\": \"white\", \"linecolor\": \"white\", \"minorgridcolor\": \"white\", \"startlinecolor\": \"#2a3f5f\"}, \"baxis\": {\"endlinecolor\": \"#2a3f5f\", \"gridcolor\": \"white\", \"linecolor\": \"white\", \"minorgridcolor\": \"white\", \"startlinecolor\": \"#2a3f5f\"}, \"type\": \"carpet\"}], \"choropleth\": [{\"colorbar\": {\"outlinewidth\": 0, \"ticks\": \"\"}, \"type\": \"choropleth\"}], \"contour\": [{\"colorbar\": {\"outlinewidth\": 0, \"ticks\": \"\"}, \"colorscale\": [[0.0, \"#0d0887\"], [0.1111111111111111, \"#46039f\"], [0.2222222222222222, \"#7201a8\"], [0.3333333333333333, \"#9c179e\"], [0.4444444444444444, \"#bd3786\"], [0.5555555555555556, \"#d8576b\"], [0.6666666666666666, \"#ed7953\"], [0.7777777777777778, \"#fb9f3a\"], [0.8888888888888888, \"#fdca26\"], [1.0, \"#f0f921\"]], \"type\": \"contour\"}], \"contourcarpet\": [{\"colorbar\": {\"outlinewidth\": 0, \"ticks\": \"\"}, \"type\": \"contourcarpet\"}], \"heatmap\": [{\"colorbar\": {\"outlinewidth\": 0, \"ticks\": \"\"}, \"colorscale\": [[0.0, \"#0d0887\"], [0.1111111111111111, \"#46039f\"], [0.2222222222222222, \"#7201a8\"], [0.3333333333333333, \"#9c179e\"], [0.4444444444444444, \"#bd3786\"], [0.5555555555555556, \"#d8576b\"], [0.6666666666666666, \"#ed7953\"], [0.7777777777777778, \"#fb9f3a\"], [0.8888888888888888, \"#fdca26\"], [1.0, \"#f0f921\"]], \"type\": \"heatmap\"}], \"heatmapgl\": [{\"colorbar\": {\"outlinewidth\": 0, \"ticks\": \"\"}, \"colorscale\": [[0.0, \"#0d0887\"], [0.1111111111111111, \"#46039f\"], [0.2222222222222222, \"#7201a8\"], [0.3333333333333333, \"#9c179e\"], [0.4444444444444444, \"#bd3786\"], [0.5555555555555556, \"#d8576b\"], [0.6666666666666666, \"#ed7953\"], [0.7777777777777778, \"#fb9f3a\"], [0.8888888888888888, \"#fdca26\"], [1.0, \"#f0f921\"]], \"type\": \"heatmapgl\"}], \"histogram\": [{\"marker\": {\"colorbar\": {\"outlinewidth\": 0, \"ticks\": \"\"}}, \"type\": \"histogram\"}], \"histogram2d\": [{\"colorbar\": {\"outlinewidth\": 0, \"ticks\": \"\"}, \"colorscale\": [[0.0, \"#0d0887\"], [0.1111111111111111, \"#46039f\"], [0.2222222222222222, \"#7201a8\"], [0.3333333333333333, \"#9c179e\"], [0.4444444444444444, \"#bd3786\"], [0.5555555555555556, \"#d8576b\"], [0.6666666666666666, \"#ed7953\"], [0.7777777777777778, \"#fb9f3a\"], [0.8888888888888888, \"#fdca26\"], [1.0, \"#f0f921\"]], \"type\": \"histogram2d\"}], \"histogram2dcontour\": [{\"colorbar\": {\"outlinewidth\": 0, \"ticks\": \"\"}, \"colorscale\": [[0.0, \"#0d0887\"], [0.1111111111111111, \"#46039f\"], [0.2222222222222222, \"#7201a8\"], [0.3333333333333333, \"#9c179e\"], [0.4444444444444444, \"#bd3786\"], [0.5555555555555556, \"#d8576b\"], [0.6666666666666666, \"#ed7953\"], [0.7777777777777778, \"#fb9f3a\"], [0.8888888888888888, \"#fdca26\"], [1.0, \"#f0f921\"]], \"type\": \"histogram2dcontour\"}], \"mesh3d\": [{\"colorbar\": {\"outlinewidth\": 0, \"ticks\": \"\"}, \"type\": \"mesh3d\"}], \"parcoords\": [{\"line\": {\"colorbar\": {\"outlinewidth\": 0, \"ticks\": \"\"}}, \"type\": \"parcoords\"}], \"pie\": [{\"automargin\": true, \"type\": \"pie\"}], \"scatter\": [{\"marker\": {\"colorbar\": {\"outlinewidth\": 0, \"ticks\": \"\"}}, \"type\": \"scatter\"}], \"scatter3d\": [{\"line\": {\"colorbar\": {\"outlinewidth\": 0, \"ticks\": \"\"}}, \"marker\": {\"colorbar\": {\"outlinewidth\": 0, \"ticks\": \"\"}}, \"type\": \"scatter3d\"}], \"scattercarpet\": [{\"marker\": {\"colorbar\": {\"outlinewidth\": 0, \"ticks\": \"\"}}, \"type\": \"scattercarpet\"}], \"scattergeo\": [{\"marker\": {\"colorbar\": {\"outlinewidth\": 0, \"ticks\": \"\"}}, \"type\": \"scattergeo\"}], \"scattergl\": [{\"marker\": {\"colorbar\": {\"outlinewidth\": 0, \"ticks\": \"\"}}, \"type\": \"scattergl\"}], \"scattermapbox\": [{\"marker\": {\"colorbar\": {\"outlinewidth\": 0, \"ticks\": \"\"}}, \"type\": \"scattermapbox\"}], \"scatterpolar\": [{\"marker\": {\"colorbar\": {\"outlinewidth\": 0, \"ticks\": \"\"}}, \"type\": \"scatterpolar\"}], \"scatterpolargl\": [{\"marker\": {\"colorbar\": {\"outlinewidth\": 0, \"ticks\": \"\"}}, \"type\": \"scatterpolargl\"}], \"scatterternary\": [{\"marker\": {\"colorbar\": {\"outlinewidth\": 0, \"ticks\": \"\"}}, \"type\": \"scatterternary\"}], \"surface\": [{\"colorbar\": {\"outlinewidth\": 0, \"ticks\": \"\"}, \"colorscale\": [[0.0, \"#0d0887\"], [0.1111111111111111, \"#46039f\"], [0.2222222222222222, \"#7201a8\"], [0.3333333333333333, \"#9c179e\"], [0.4444444444444444, \"#bd3786\"], [0.5555555555555556, \"#d8576b\"], [0.6666666666666666, \"#ed7953\"], [0.7777777777777778, \"#fb9f3a\"], [0.8888888888888888, \"#fdca26\"], [1.0, \"#f0f921\"]], \"type\": \"surface\"}], \"table\": [{\"cells\": {\"fill\": {\"color\": \"#EBF0F8\"}, \"line\": {\"color\": \"white\"}}, \"header\": {\"fill\": {\"color\": \"#C8D4E3\"}, \"line\": {\"color\": \"white\"}}, \"type\": \"table\"}]}, \"layout\": {\"annotationdefaults\": {\"arrowcolor\": \"#2a3f5f\", \"arrowhead\": 0, \"arrowwidth\": 1}, \"coloraxis\": {\"colorbar\": {\"outlinewidth\": 0, \"ticks\": \"\"}}, \"colorscale\": {\"diverging\": [[0, \"#8e0152\"], [0.1, \"#c51b7d\"], [0.2, \"#de77ae\"], [0.3, \"#f1b6da\"], [0.4, \"#fde0ef\"], [0.5, \"#f7f7f7\"], [0.6, \"#e6f5d0\"], [0.7, \"#b8e186\"], [0.8, \"#7fbc41\"], [0.9, \"#4d9221\"], [1, \"#276419\"]], \"sequential\": [[0.0, \"#0d0887\"], [0.1111111111111111, \"#46039f\"], [0.2222222222222222, \"#7201a8\"], [0.3333333333333333, \"#9c179e\"], [0.4444444444444444, \"#bd3786\"], [0.5555555555555556, \"#d8576b\"], [0.6666666666666666, \"#ed7953\"], [0.7777777777777778, \"#fb9f3a\"], [0.8888888888888888, \"#fdca26\"], [1.0, \"#f0f921\"]], \"sequentialminus\": [[0.0, \"#0d0887\"], [0.1111111111111111, \"#46039f\"], [0.2222222222222222, \"#7201a8\"], [0.3333333333333333, \"#9c179e\"], [0.4444444444444444, \"#bd3786\"], [0.5555555555555556, \"#d8576b\"], [0.6666666666666666, \"#ed7953\"], [0.7777777777777778, \"#fb9f3a\"], [0.8888888888888888, \"#fdca26\"], [1.0, \"#f0f921\"]]}, \"colorway\": [\"#636efa\", \"#EF553B\", \"#00cc96\", \"#ab63fa\", \"#FFA15A\", \"#19d3f3\", \"#FF6692\", \"#B6E880\", \"#FF97FF\", \"#FECB52\"], \"font\": {\"color\": \"#2a3f5f\"}, \"geo\": {\"bgcolor\": \"white\", \"lakecolor\": \"white\", \"landcolor\": \"#E5ECF6\", \"showlakes\": true, \"showland\": true, \"subunitcolor\": \"white\"}, \"hoverlabel\": {\"align\": \"left\"}, \"hovermode\": \"closest\", \"mapbox\": {\"style\": \"light\"}, \"paper_bgcolor\": \"white\", \"plot_bgcolor\": \"#E5ECF6\", \"polar\": {\"angularaxis\": {\"gridcolor\": \"white\", \"linecolor\": \"white\", \"ticks\": \"\"}, \"bgcolor\": \"#E5ECF6\", \"radialaxis\": {\"gridcolor\": \"white\", \"linecolor\": \"white\", \"ticks\": \"\"}}, \"scene\": {\"xaxis\": {\"backgroundcolor\": \"#E5ECF6\", \"gridcolor\": \"white\", \"gridwidth\": 2, \"linecolor\": \"white\", \"showbackground\": true, \"ticks\": \"\", \"zerolinecolor\": \"white\"}, \"yaxis\": {\"backgroundcolor\": \"#E5ECF6\", \"gridcolor\": \"white\", \"gridwidth\": 2, \"linecolor\": \"white\", \"showbackground\": true, \"ticks\": \"\", \"zerolinecolor\": \"white\"}, \"zaxis\": {\"backgroundcolor\": \"#E5ECF6\", \"gridcolor\": \"white\", \"gridwidth\": 2, \"linecolor\": \"white\", \"showbackground\": true, \"ticks\": \"\", \"zerolinecolor\": \"white\"}}, \"shapedefaults\": {\"line\": {\"color\": \"#2a3f5f\"}}, \"ternary\": {\"aaxis\": {\"gridcolor\": \"white\", \"linecolor\": \"white\", \"ticks\": \"\"}, \"baxis\": {\"gridcolor\": \"white\", \"linecolor\": \"white\", \"ticks\": \"\"}, \"bgcolor\": \"#E5ECF6\", \"caxis\": {\"gridcolor\": \"white\", \"linecolor\": \"white\", \"ticks\": \"\"}}, \"title\": {\"x\": 0.05}, \"xaxis\": {\"automargin\": true, \"gridcolor\": \"white\", \"linecolor\": \"white\", \"ticks\": \"\", \"title\": {\"standoff\": 15}, \"zerolinecolor\": \"white\", \"zerolinewidth\": 2}, \"yaxis\": {\"automargin\": true, \"gridcolor\": \"white\", \"linecolor\": \"white\", \"ticks\": \"\", \"title\": {\"standoff\": 15}, \"zerolinecolor\": \"white\", \"zerolinewidth\": 2}}}, \"title\": {\"text\": \"ZCN12 ZCZ12\", \"x\": 0.5, \"xanchor\": \"center\", \"y\": 0.9, \"yanchor\": \"top\"}, \"xaxis\": {\"showspikes\": true, \"spikedash\": \"solid\", \"spikemode\": \"toaxis+across\", \"spikethickness\": 1, \"tickangle\": 45, \"ticktext\": [20120124, 20120201, 20120209, 20120217, 20120228, 20120307, 20120315, 20120323, 20120402, 20120411, 20120419, 20120427, 20120507, 20120515, 20120523, 20120601, 20120611, 20120619, 20120627, 20120706], \"tickvals\": [20120124, 20120201, 20120209, 20120217, 20120228, 20120307, 20120315, 20120323, 20120402, 20120411, 20120419, 20120427, 20120507, 20120515, 20120523, 20120601, 20120611, 20120619, 20120627, 20120706], \"type\": \"category\"}, \"yaxis\": {\"showspikes\": true, \"spikedash\": \"solid\", \"spikemode\": \"toaxis+across\", \"spikethickness\": 1, \"title\": {\"text\": \"price\"}}, \"yaxis2\": {\"overlaying\": \"y\", \"side\": \"right\", \"title\": {\"text\": \"spread\"}}},\n",
       "                        {\"responsive\": true}\n",
       "                    ).then(function(){\n",
       "                            \n",
       "var gd = document.getElementById('6b96f37e-bee9-4230-a9f8-9f7a66f7898e');\n",
       "var x = new MutationObserver(function (mutations, observer) {{\n",
       "        var display = window.getComputedStyle(gd).display;\n",
       "        if (!display || display === 'none') {{\n",
       "            console.log([gd, 'removed!']);\n",
       "            Plotly.purge(gd);\n",
       "            observer.disconnect();\n",
       "        }}\n",
       "}});\n",
       "\n",
       "// Listen for the removal of the full notebook cells\n",
       "var notebookContainer = gd.closest('#notebook-container');\n",
       "if (notebookContainer) {{\n",
       "    x.observe(notebookContainer, {childList: true});\n",
       "}}\n",
       "\n",
       "// Listen for the clearing of the current output cell\n",
       "var outputEl = gd.closest('.output');\n",
       "if (outputEl) {{\n",
       "    x.observe(outputEl, {childList: true});\n",
       "}}\n",
       "\n",
       "                        })\n",
       "                };\n",
       "                });\n",
       "            </script>\n",
       "        </div>"
      ]
     },
     "metadata": {},
     "output_type": "display_data"
    },
    {
     "data": {
      "application/vnd.plotly.v1+json": {
       "config": {
        "linkText": "Export to plot.ly",
        "plotlyServerURL": "https://plot.ly",
        "showLink": false
       },
       "data": [
        {
         "name": "front",
         "type": "scatter",
         "x": [
          20130122,
          20130123,
          20130124,
          20130125,
          20130128,
          20130129,
          20130130,
          20130131,
          20130201,
          20130204,
          20130205,
          20130206,
          20130207,
          20130208,
          20130211,
          20130212,
          20130213,
          20130214,
          20130215,
          20130219,
          20130220,
          20130221,
          20130222,
          20130225,
          20130226,
          20130227,
          20130228,
          20130301,
          20130304,
          20130305,
          20130306,
          20130307,
          20130308,
          20130311,
          20130312,
          20130313,
          20130314,
          20130315,
          20130318,
          20130319,
          20130320,
          20130321,
          20130322,
          20130325,
          20130326,
          20130327,
          20130328,
          20130401,
          20130402,
          20130403,
          20130404,
          20130405,
          20130408,
          20130409,
          20130410,
          20130411,
          20130412,
          20130415,
          20130416,
          20130417,
          20130418,
          20130419,
          20130422,
          20130423,
          20130424,
          20130425,
          20130426,
          20130429,
          20130430,
          20130501,
          20130502,
          20130503,
          20130506,
          20130507,
          20130508,
          20130509,
          20130510,
          20130513,
          20130514,
          20130515,
          20130516,
          20130517,
          20130520,
          20130521,
          20130522,
          20130523,
          20130524,
          20130528,
          20130529,
          20130530,
          20130531,
          20130603,
          20130604,
          20130605,
          20130606,
          20130607,
          20130610,
          20130611,
          20130612,
          20130613,
          20130614,
          20130617,
          20130618,
          20130619,
          20130620,
          20130621,
          20130624,
          20130625,
          20130626,
          20130627,
          20130628,
          20130701,
          20130702,
          20130703,
          20130705,
          20130708,
          20130709,
          20130710,
          20130711,
          20130712
         ],
         "y": [
          722.25,
          717,
          715.25,
          712.75,
          720.5,
          720.5,
          732,
          733.25,
          728.75,
          727.5,
          722,
          714.75,
          701.75,
          699,
          692,
          687,
          683.25,
          682.25,
          685.25,
          680.25,
          682.75,
          673.25,
          671.75,
          671.5,
          679,
          678.75,
          684.75,
          687,
          681.75,
          686,
          671.75,
          672.5,
          680.5,
          690.75,
          693.75,
          692.25,
          698.5,
          700.25,
          703.25,
          712,
          717.25,
          717.25,
          708.5,
          715.25,
          712.25,
          716,
          676,
          626.75,
          627.25,
          630.25,
          618.5,
          617.75,
          619.5,
          627.5,
          632.5,
          633.5,
          641.25,
          628,
          640.75,
          641.25,
          629.75,
          633,
          623.5,
          614,
          618.25,
          624.5,
          619.75,
          659.75,
          650,
          646.75,
          662,
          661.25,
          636.5,
          640,
          633,
          648.75,
          636.25,
          655.5,
          652.5,
          650.75,
          641.5,
          652.75,
          649.5,
          640,
          658.5,
          662,
          657.25,
          666.5,
          665,
          654.25,
          662,
          655.75,
          660.5,
          660.75,
          663.25,
          666.25,
          650,
          659.5,
          650.75,
          643.5,
          655,
          668.5,
          673.25,
          682.25,
          673.25,
          661.75,
          653.25,
          656.75,
          664.5,
          667.25,
          679.25,
          655.5,
          672.75,
          678.25,
          684.75,
          691.75,
          704,
          709.75,
          716.75,
          701.5
         ],
         "yaxis": "y"
        },
        {
         "name": "back",
         "type": "scatter",
         "x": [
          20130122,
          20130123,
          20130124,
          20130125,
          20130128,
          20130129,
          20130130,
          20130131,
          20130201,
          20130204,
          20130205,
          20130206,
          20130207,
          20130208,
          20130211,
          20130212,
          20130213,
          20130214,
          20130215,
          20130219,
          20130220,
          20130221,
          20130222,
          20130225,
          20130226,
          20130227,
          20130228,
          20130301,
          20130304,
          20130305,
          20130306,
          20130307,
          20130308,
          20130311,
          20130312,
          20130313,
          20130314,
          20130315,
          20130318,
          20130319,
          20130320,
          20130321,
          20130322,
          20130325,
          20130326,
          20130327,
          20130328,
          20130401,
          20130402,
          20130403,
          20130404,
          20130405,
          20130408,
          20130409,
          20130410,
          20130411,
          20130412,
          20130415,
          20130416,
          20130417,
          20130418,
          20130419,
          20130422,
          20130423,
          20130424,
          20130425,
          20130426,
          20130429,
          20130430,
          20130501,
          20130502,
          20130503,
          20130506,
          20130507,
          20130508,
          20130509,
          20130510,
          20130513,
          20130514,
          20130515,
          20130516,
          20130517,
          20130520,
          20130521,
          20130522,
          20130523,
          20130524,
          20130528,
          20130529,
          20130530,
          20130531,
          20130603,
          20130604,
          20130605,
          20130606,
          20130607,
          20130610,
          20130611,
          20130612,
          20130613,
          20130614,
          20130617,
          20130618,
          20130619,
          20130620,
          20130621,
          20130624,
          20130625,
          20130626,
          20130627,
          20130628,
          20130701,
          20130702,
          20130703,
          20130705,
          20130708,
          20130709,
          20130710,
          20130711,
          20130712
         ],
         "y": [
          590,
          590.25,
          585.5,
          584.25,
          590,
          587,
          593,
          591,
          592,
          593.75,
          590,
          578.75,
          566.5,
          563.25,
          558.75,
          563,
          564.25,
          563.75,
          563,
          557.75,
          561.5,
          554,
          552.75,
          550.25,
          556.25,
          553.75,
          557,
          556.75,
          550.25,
          552,
          544.25,
          541.75,
          547,
          554,
          557.25,
          555,
          559.25,
          561.75,
          562,
          562.25,
          567,
          568.5,
          565.25,
          572,
          571,
          571,
          538.5,
          535.5,
          536.5,
          539.5,
          540,
          535,
          532,
          540.25,
          543,
          544,
          550,
          532.25,
          540.75,
          547.25,
          541.25,
          547,
          533,
          522.75,
          528,
          531.25,
          524,
          559.5,
          556.75,
          550.5,
          559,
          553.5,
          538.25,
          539.25,
          532,
          541.5,
          529.5,
          539.25,
          538,
          531.75,
          524,
          519.5,
          520.25,
          520.25,
          530.5,
          534.75,
          536.5,
          551,
          565.75,
          562.75,
          567.25,
          560,
          553,
          542.25,
          548.25,
          558.5,
          546,
          550.75,
          537.5,
          535.25,
          533,
          538.5,
          550.5,
          570.5,
          560.5,
          556.25,
          546.5,
          544.5,
          544,
          538.5,
          511,
          501.25,
          502.75,
          502.75,
          491.25,
          500.5,
          521.75,
          521.5,
          527,
          509.25
         ],
         "yaxis": "y"
        },
        {
         "name": "spread",
         "type": "scatter",
         "x": [
          20130122,
          20130123,
          20130124,
          20130125,
          20130128,
          20130129,
          20130130,
          20130131,
          20130201,
          20130204,
          20130205,
          20130206,
          20130207,
          20130208,
          20130211,
          20130212,
          20130213,
          20130214,
          20130215,
          20130219,
          20130220,
          20130221,
          20130222,
          20130225,
          20130226,
          20130227,
          20130228,
          20130301,
          20130304,
          20130305,
          20130306,
          20130307,
          20130308,
          20130311,
          20130312,
          20130313,
          20130314,
          20130315,
          20130318,
          20130319,
          20130320,
          20130321,
          20130322,
          20130325,
          20130326,
          20130327,
          20130328,
          20130401,
          20130402,
          20130403,
          20130404,
          20130405,
          20130408,
          20130409,
          20130410,
          20130411,
          20130412,
          20130415,
          20130416,
          20130417,
          20130418,
          20130419,
          20130422,
          20130423,
          20130424,
          20130425,
          20130426,
          20130429,
          20130430,
          20130501,
          20130502,
          20130503,
          20130506,
          20130507,
          20130508,
          20130509,
          20130510,
          20130513,
          20130514,
          20130515,
          20130516,
          20130517,
          20130520,
          20130521,
          20130522,
          20130523,
          20130524,
          20130528,
          20130529,
          20130530,
          20130531,
          20130603,
          20130604,
          20130605,
          20130606,
          20130607,
          20130610,
          20130611,
          20130612,
          20130613,
          20130614,
          20130617,
          20130618,
          20130619,
          20130620,
          20130621,
          20130624,
          20130625,
          20130626,
          20130627,
          20130628,
          20130701,
          20130702,
          20130703,
          20130705,
          20130708,
          20130709,
          20130710,
          20130711,
          20130712
         ],
         "y": [
          132.25,
          126.75,
          129.75,
          128.5,
          130.5,
          133.5,
          139,
          142.25,
          136.75,
          133.75,
          132,
          136,
          135.25,
          135.75,
          133.25,
          124,
          119,
          118.5,
          122.25,
          122.5,
          121.25,
          119.25,
          119,
          121.25,
          122.75,
          125,
          127.75,
          130.25,
          131.5,
          134,
          127.5,
          130.75,
          133.5,
          136.75,
          136.5,
          137.25,
          139.25,
          138.5,
          141.25,
          149.75,
          150.25,
          148.75,
          143.25,
          143.25,
          141.25,
          145,
          137.5,
          91.25,
          90.75,
          90.75,
          78.5,
          82.75,
          87.5,
          87.25,
          89.5,
          89.5,
          91.25,
          95.75,
          100,
          94,
          88.5,
          86,
          90.5,
          91.25,
          90.25,
          93.25,
          95.75,
          100.25,
          93.25,
          96.25,
          103,
          107.75,
          98.25,
          100.75,
          101,
          107.25,
          106.75,
          116.25,
          114.5,
          119,
          117.5,
          133.25,
          129.25,
          119.75,
          128,
          127.25,
          120.75,
          115.5,
          99.25,
          91.5,
          94.75,
          95.75,
          107.5,
          118.5,
          115,
          107.75,
          104,
          108.75,
          113.25,
          108.25,
          122,
          130,
          122.75,
          111.75,
          112.75,
          105.5,
          106.75,
          112.25,
          120.5,
          128.75,
          168.25,
          154.25,
          170,
          175.5,
          193.5,
          191.25,
          182.25,
          188.25,
          189.75,
          192.25
         ],
         "yaxis": "y2"
        }
       ],
       "layout": {
        "autosize": true,
        "hovermode": "x",
        "legend": {
         "orientation": "h",
         "x": 0,
         "y": 1.1
        },
        "margin": {
         "b": 100
        },
        "modebar": {
         "bgcolor": "grey",
         "orientation": "v"
        },
        "spikedistance": 1000,
        "template": {
         "data": {
          "bar": [
           {
            "error_x": {
             "color": "#2a3f5f"
            },
            "error_y": {
             "color": "#2a3f5f"
            },
            "marker": {
             "line": {
              "color": "#E5ECF6",
              "width": 0.5
             }
            },
            "type": "bar"
           }
          ],
          "barpolar": [
           {
            "marker": {
             "line": {
              "color": "#E5ECF6",
              "width": 0.5
             }
            },
            "type": "barpolar"
           }
          ],
          "carpet": [
           {
            "aaxis": {
             "endlinecolor": "#2a3f5f",
             "gridcolor": "white",
             "linecolor": "white",
             "minorgridcolor": "white",
             "startlinecolor": "#2a3f5f"
            },
            "baxis": {
             "endlinecolor": "#2a3f5f",
             "gridcolor": "white",
             "linecolor": "white",
             "minorgridcolor": "white",
             "startlinecolor": "#2a3f5f"
            },
            "type": "carpet"
           }
          ],
          "choropleth": [
           {
            "colorbar": {
             "outlinewidth": 0,
             "ticks": ""
            },
            "type": "choropleth"
           }
          ],
          "contour": [
           {
            "colorbar": {
             "outlinewidth": 0,
             "ticks": ""
            },
            "colorscale": [
             [
              0,
              "#0d0887"
             ],
             [
              0.1111111111111111,
              "#46039f"
             ],
             [
              0.2222222222222222,
              "#7201a8"
             ],
             [
              0.3333333333333333,
              "#9c179e"
             ],
             [
              0.4444444444444444,
              "#bd3786"
             ],
             [
              0.5555555555555556,
              "#d8576b"
             ],
             [
              0.6666666666666666,
              "#ed7953"
             ],
             [
              0.7777777777777778,
              "#fb9f3a"
             ],
             [
              0.8888888888888888,
              "#fdca26"
             ],
             [
              1,
              "#f0f921"
             ]
            ],
            "type": "contour"
           }
          ],
          "contourcarpet": [
           {
            "colorbar": {
             "outlinewidth": 0,
             "ticks": ""
            },
            "type": "contourcarpet"
           }
          ],
          "heatmap": [
           {
            "colorbar": {
             "outlinewidth": 0,
             "ticks": ""
            },
            "colorscale": [
             [
              0,
              "#0d0887"
             ],
             [
              0.1111111111111111,
              "#46039f"
             ],
             [
              0.2222222222222222,
              "#7201a8"
             ],
             [
              0.3333333333333333,
              "#9c179e"
             ],
             [
              0.4444444444444444,
              "#bd3786"
             ],
             [
              0.5555555555555556,
              "#d8576b"
             ],
             [
              0.6666666666666666,
              "#ed7953"
             ],
             [
              0.7777777777777778,
              "#fb9f3a"
             ],
             [
              0.8888888888888888,
              "#fdca26"
             ],
             [
              1,
              "#f0f921"
             ]
            ],
            "type": "heatmap"
           }
          ],
          "heatmapgl": [
           {
            "colorbar": {
             "outlinewidth": 0,
             "ticks": ""
            },
            "colorscale": [
             [
              0,
              "#0d0887"
             ],
             [
              0.1111111111111111,
              "#46039f"
             ],
             [
              0.2222222222222222,
              "#7201a8"
             ],
             [
              0.3333333333333333,
              "#9c179e"
             ],
             [
              0.4444444444444444,
              "#bd3786"
             ],
             [
              0.5555555555555556,
              "#d8576b"
             ],
             [
              0.6666666666666666,
              "#ed7953"
             ],
             [
              0.7777777777777778,
              "#fb9f3a"
             ],
             [
              0.8888888888888888,
              "#fdca26"
             ],
             [
              1,
              "#f0f921"
             ]
            ],
            "type": "heatmapgl"
           }
          ],
          "histogram": [
           {
            "marker": {
             "colorbar": {
              "outlinewidth": 0,
              "ticks": ""
             }
            },
            "type": "histogram"
           }
          ],
          "histogram2d": [
           {
            "colorbar": {
             "outlinewidth": 0,
             "ticks": ""
            },
            "colorscale": [
             [
              0,
              "#0d0887"
             ],
             [
              0.1111111111111111,
              "#46039f"
             ],
             [
              0.2222222222222222,
              "#7201a8"
             ],
             [
              0.3333333333333333,
              "#9c179e"
             ],
             [
              0.4444444444444444,
              "#bd3786"
             ],
             [
              0.5555555555555556,
              "#d8576b"
             ],
             [
              0.6666666666666666,
              "#ed7953"
             ],
             [
              0.7777777777777778,
              "#fb9f3a"
             ],
             [
              0.8888888888888888,
              "#fdca26"
             ],
             [
              1,
              "#f0f921"
             ]
            ],
            "type": "histogram2d"
           }
          ],
          "histogram2dcontour": [
           {
            "colorbar": {
             "outlinewidth": 0,
             "ticks": ""
            },
            "colorscale": [
             [
              0,
              "#0d0887"
             ],
             [
              0.1111111111111111,
              "#46039f"
             ],
             [
              0.2222222222222222,
              "#7201a8"
             ],
             [
              0.3333333333333333,
              "#9c179e"
             ],
             [
              0.4444444444444444,
              "#bd3786"
             ],
             [
              0.5555555555555556,
              "#d8576b"
             ],
             [
              0.6666666666666666,
              "#ed7953"
             ],
             [
              0.7777777777777778,
              "#fb9f3a"
             ],
             [
              0.8888888888888888,
              "#fdca26"
             ],
             [
              1,
              "#f0f921"
             ]
            ],
            "type": "histogram2dcontour"
           }
          ],
          "mesh3d": [
           {
            "colorbar": {
             "outlinewidth": 0,
             "ticks": ""
            },
            "type": "mesh3d"
           }
          ],
          "parcoords": [
           {
            "line": {
             "colorbar": {
              "outlinewidth": 0,
              "ticks": ""
             }
            },
            "type": "parcoords"
           }
          ],
          "pie": [
           {
            "automargin": true,
            "type": "pie"
           }
          ],
          "scatter": [
           {
            "marker": {
             "colorbar": {
              "outlinewidth": 0,
              "ticks": ""
             }
            },
            "type": "scatter"
           }
          ],
          "scatter3d": [
           {
            "line": {
             "colorbar": {
              "outlinewidth": 0,
              "ticks": ""
             }
            },
            "marker": {
             "colorbar": {
              "outlinewidth": 0,
              "ticks": ""
             }
            },
            "type": "scatter3d"
           }
          ],
          "scattercarpet": [
           {
            "marker": {
             "colorbar": {
              "outlinewidth": 0,
              "ticks": ""
             }
            },
            "type": "scattercarpet"
           }
          ],
          "scattergeo": [
           {
            "marker": {
             "colorbar": {
              "outlinewidth": 0,
              "ticks": ""
             }
            },
            "type": "scattergeo"
           }
          ],
          "scattergl": [
           {
            "marker": {
             "colorbar": {
              "outlinewidth": 0,
              "ticks": ""
             }
            },
            "type": "scattergl"
           }
          ],
          "scattermapbox": [
           {
            "marker": {
             "colorbar": {
              "outlinewidth": 0,
              "ticks": ""
             }
            },
            "type": "scattermapbox"
           }
          ],
          "scatterpolar": [
           {
            "marker": {
             "colorbar": {
              "outlinewidth": 0,
              "ticks": ""
             }
            },
            "type": "scatterpolar"
           }
          ],
          "scatterpolargl": [
           {
            "marker": {
             "colorbar": {
              "outlinewidth": 0,
              "ticks": ""
             }
            },
            "type": "scatterpolargl"
           }
          ],
          "scatterternary": [
           {
            "marker": {
             "colorbar": {
              "outlinewidth": 0,
              "ticks": ""
             }
            },
            "type": "scatterternary"
           }
          ],
          "surface": [
           {
            "colorbar": {
             "outlinewidth": 0,
             "ticks": ""
            },
            "colorscale": [
             [
              0,
              "#0d0887"
             ],
             [
              0.1111111111111111,
              "#46039f"
             ],
             [
              0.2222222222222222,
              "#7201a8"
             ],
             [
              0.3333333333333333,
              "#9c179e"
             ],
             [
              0.4444444444444444,
              "#bd3786"
             ],
             [
              0.5555555555555556,
              "#d8576b"
             ],
             [
              0.6666666666666666,
              "#ed7953"
             ],
             [
              0.7777777777777778,
              "#fb9f3a"
             ],
             [
              0.8888888888888888,
              "#fdca26"
             ],
             [
              1,
              "#f0f921"
             ]
            ],
            "type": "surface"
           }
          ],
          "table": [
           {
            "cells": {
             "fill": {
              "color": "#EBF0F8"
             },
             "line": {
              "color": "white"
             }
            },
            "header": {
             "fill": {
              "color": "#C8D4E3"
             },
             "line": {
              "color": "white"
             }
            },
            "type": "table"
           }
          ]
         },
         "layout": {
          "annotationdefaults": {
           "arrowcolor": "#2a3f5f",
           "arrowhead": 0,
           "arrowwidth": 1
          },
          "coloraxis": {
           "colorbar": {
            "outlinewidth": 0,
            "ticks": ""
           }
          },
          "colorscale": {
           "diverging": [
            [
             0,
             "#8e0152"
            ],
            [
             0.1,
             "#c51b7d"
            ],
            [
             0.2,
             "#de77ae"
            ],
            [
             0.3,
             "#f1b6da"
            ],
            [
             0.4,
             "#fde0ef"
            ],
            [
             0.5,
             "#f7f7f7"
            ],
            [
             0.6,
             "#e6f5d0"
            ],
            [
             0.7,
             "#b8e186"
            ],
            [
             0.8,
             "#7fbc41"
            ],
            [
             0.9,
             "#4d9221"
            ],
            [
             1,
             "#276419"
            ]
           ],
           "sequential": [
            [
             0,
             "#0d0887"
            ],
            [
             0.1111111111111111,
             "#46039f"
            ],
            [
             0.2222222222222222,
             "#7201a8"
            ],
            [
             0.3333333333333333,
             "#9c179e"
            ],
            [
             0.4444444444444444,
             "#bd3786"
            ],
            [
             0.5555555555555556,
             "#d8576b"
            ],
            [
             0.6666666666666666,
             "#ed7953"
            ],
            [
             0.7777777777777778,
             "#fb9f3a"
            ],
            [
             0.8888888888888888,
             "#fdca26"
            ],
            [
             1,
             "#f0f921"
            ]
           ],
           "sequentialminus": [
            [
             0,
             "#0d0887"
            ],
            [
             0.1111111111111111,
             "#46039f"
            ],
            [
             0.2222222222222222,
             "#7201a8"
            ],
            [
             0.3333333333333333,
             "#9c179e"
            ],
            [
             0.4444444444444444,
             "#bd3786"
            ],
            [
             0.5555555555555556,
             "#d8576b"
            ],
            [
             0.6666666666666666,
             "#ed7953"
            ],
            [
             0.7777777777777778,
             "#fb9f3a"
            ],
            [
             0.8888888888888888,
             "#fdca26"
            ],
            [
             1,
             "#f0f921"
            ]
           ]
          },
          "colorway": [
           "#636efa",
           "#EF553B",
           "#00cc96",
           "#ab63fa",
           "#FFA15A",
           "#19d3f3",
           "#FF6692",
           "#B6E880",
           "#FF97FF",
           "#FECB52"
          ],
          "font": {
           "color": "#2a3f5f"
          },
          "geo": {
           "bgcolor": "white",
           "lakecolor": "white",
           "landcolor": "#E5ECF6",
           "showlakes": true,
           "showland": true,
           "subunitcolor": "white"
          },
          "hoverlabel": {
           "align": "left"
          },
          "hovermode": "closest",
          "mapbox": {
           "style": "light"
          },
          "paper_bgcolor": "white",
          "plot_bgcolor": "#E5ECF6",
          "polar": {
           "angularaxis": {
            "gridcolor": "white",
            "linecolor": "white",
            "ticks": ""
           },
           "bgcolor": "#E5ECF6",
           "radialaxis": {
            "gridcolor": "white",
            "linecolor": "white",
            "ticks": ""
           }
          },
          "scene": {
           "xaxis": {
            "backgroundcolor": "#E5ECF6",
            "gridcolor": "white",
            "gridwidth": 2,
            "linecolor": "white",
            "showbackground": true,
            "ticks": "",
            "zerolinecolor": "white"
           },
           "yaxis": {
            "backgroundcolor": "#E5ECF6",
            "gridcolor": "white",
            "gridwidth": 2,
            "linecolor": "white",
            "showbackground": true,
            "ticks": "",
            "zerolinecolor": "white"
           },
           "zaxis": {
            "backgroundcolor": "#E5ECF6",
            "gridcolor": "white",
            "gridwidth": 2,
            "linecolor": "white",
            "showbackground": true,
            "ticks": "",
            "zerolinecolor": "white"
           }
          },
          "shapedefaults": {
           "line": {
            "color": "#2a3f5f"
           }
          },
          "ternary": {
           "aaxis": {
            "gridcolor": "white",
            "linecolor": "white",
            "ticks": ""
           },
           "baxis": {
            "gridcolor": "white",
            "linecolor": "white",
            "ticks": ""
           },
           "bgcolor": "#E5ECF6",
           "caxis": {
            "gridcolor": "white",
            "linecolor": "white",
            "ticks": ""
           }
          },
          "title": {
           "x": 0.05
          },
          "xaxis": {
           "automargin": true,
           "gridcolor": "white",
           "linecolor": "white",
           "ticks": "",
           "title": {
            "standoff": 15
           },
           "zerolinecolor": "white",
           "zerolinewidth": 2
          },
          "yaxis": {
           "automargin": true,
           "gridcolor": "white",
           "linecolor": "white",
           "ticks": "",
           "title": {
            "standoff": 15
           },
           "zerolinecolor": "white",
           "zerolinewidth": 2
          }
         }
        },
        "title": {
         "text": "ZCN13 ZCZ13",
         "x": 0.5,
         "xanchor": "center",
         "y": 0.9,
         "yanchor": "top"
        },
        "xaxis": {
         "showspikes": true,
         "spikedash": "solid",
         "spikemode": "toaxis+across",
         "spikethickness": 1,
         "tickangle": 45,
         "ticktext": [
          20130122,
          20130130,
          20130207,
          20130215,
          20130226,
          20130306,
          20130314,
          20130322,
          20130402,
          20130410,
          20130418,
          20130426,
          20130506,
          20130514,
          20130522,
          20130531,
          20130610,
          20130618,
          20130626,
          20130705
         ],
         "tickvals": [
          20130122,
          20130130,
          20130207,
          20130215,
          20130226,
          20130306,
          20130314,
          20130322,
          20130402,
          20130410,
          20130418,
          20130426,
          20130506,
          20130514,
          20130522,
          20130531,
          20130610,
          20130618,
          20130626,
          20130705
         ],
         "type": "category"
        },
        "yaxis": {
         "showspikes": true,
         "spikedash": "solid",
         "spikemode": "toaxis+across",
         "spikethickness": 1,
         "title": {
          "text": "price"
         }
        },
        "yaxis2": {
         "overlaying": "y",
         "side": "right",
         "title": {
          "text": "spread"
         }
        }
       }
      },
      "text/html": [
       "<div>\n",
       "        \n",
       "        \n",
       "            <div id=\"c55c8842-ee5a-4dae-abcd-0f9b8e8b8791\" class=\"plotly-graph-div\" style=\"height:525px; width:100%;\"></div>\n",
       "            <script type=\"text/javascript\">\n",
       "                require([\"plotly\"], function(Plotly) {\n",
       "                    window.PLOTLYENV=window.PLOTLYENV || {};\n",
       "                    \n",
       "                if (document.getElementById(\"c55c8842-ee5a-4dae-abcd-0f9b8e8b8791\")) {\n",
       "                    Plotly.newPlot(\n",
       "                        'c55c8842-ee5a-4dae-abcd-0f9b8e8b8791',\n",
       "                        [{\"name\": \"front\", \"type\": \"scatter\", \"x\": [20130122, 20130123, 20130124, 20130125, 20130128, 20130129, 20130130, 20130131, 20130201, 20130204, 20130205, 20130206, 20130207, 20130208, 20130211, 20130212, 20130213, 20130214, 20130215, 20130219, 20130220, 20130221, 20130222, 20130225, 20130226, 20130227, 20130228, 20130301, 20130304, 20130305, 20130306, 20130307, 20130308, 20130311, 20130312, 20130313, 20130314, 20130315, 20130318, 20130319, 20130320, 20130321, 20130322, 20130325, 20130326, 20130327, 20130328, 20130401, 20130402, 20130403, 20130404, 20130405, 20130408, 20130409, 20130410, 20130411, 20130412, 20130415, 20130416, 20130417, 20130418, 20130419, 20130422, 20130423, 20130424, 20130425, 20130426, 20130429, 20130430, 20130501, 20130502, 20130503, 20130506, 20130507, 20130508, 20130509, 20130510, 20130513, 20130514, 20130515, 20130516, 20130517, 20130520, 20130521, 20130522, 20130523, 20130524, 20130528, 20130529, 20130530, 20130531, 20130603, 20130604, 20130605, 20130606, 20130607, 20130610, 20130611, 20130612, 20130613, 20130614, 20130617, 20130618, 20130619, 20130620, 20130621, 20130624, 20130625, 20130626, 20130627, 20130628, 20130701, 20130702, 20130703, 20130705, 20130708, 20130709, 20130710, 20130711, 20130712], \"y\": [722.25, 717.0, 715.25, 712.75, 720.5, 720.5, 732.0, 733.25, 728.75, 727.5, 722.0, 714.75, 701.75, 699.0, 692.0, 687.0, 683.25, 682.25, 685.25, 680.25, 682.75, 673.25, 671.75, 671.5, 679.0, 678.75, 684.75, 687.0, 681.75, 686.0, 671.75, 672.5, 680.5, 690.75, 693.75, 692.25, 698.5, 700.25, 703.25, 712.0, 717.25, 717.25, 708.5, 715.25, 712.25, 716.0, 676.0, 626.75, 627.25, 630.25, 618.5, 617.75, 619.5, 627.5, 632.5, 633.5, 641.25, 628.0, 640.75, 641.25, 629.75, 633.0, 623.5, 614.0, 618.25, 624.5, 619.75, 659.75, 650.0, 646.75, 662.0, 661.25, 636.5, 640.0, 633.0, 648.75, 636.25, 655.5, 652.5, 650.75, 641.5, 652.75, 649.5, 640.0, 658.5, 662.0, 657.25, 666.5, 665.0, 654.25, 662.0, 655.75, 660.5, 660.75, 663.25, 666.25, 650.0, 659.5, 650.75, 643.5, 655.0, 668.5, 673.25, 682.25, 673.25, 661.75, 653.25, 656.75, 664.5, 667.25, 679.25, 655.5, 672.75, 678.25, 684.75, 691.75, 704.0, 709.75, 716.75, 701.5], \"yaxis\": \"y\"}, {\"name\": \"back\", \"type\": \"scatter\", \"x\": [20130122, 20130123, 20130124, 20130125, 20130128, 20130129, 20130130, 20130131, 20130201, 20130204, 20130205, 20130206, 20130207, 20130208, 20130211, 20130212, 20130213, 20130214, 20130215, 20130219, 20130220, 20130221, 20130222, 20130225, 20130226, 20130227, 20130228, 20130301, 20130304, 20130305, 20130306, 20130307, 20130308, 20130311, 20130312, 20130313, 20130314, 20130315, 20130318, 20130319, 20130320, 20130321, 20130322, 20130325, 20130326, 20130327, 20130328, 20130401, 20130402, 20130403, 20130404, 20130405, 20130408, 20130409, 20130410, 20130411, 20130412, 20130415, 20130416, 20130417, 20130418, 20130419, 20130422, 20130423, 20130424, 20130425, 20130426, 20130429, 20130430, 20130501, 20130502, 20130503, 20130506, 20130507, 20130508, 20130509, 20130510, 20130513, 20130514, 20130515, 20130516, 20130517, 20130520, 20130521, 20130522, 20130523, 20130524, 20130528, 20130529, 20130530, 20130531, 20130603, 20130604, 20130605, 20130606, 20130607, 20130610, 20130611, 20130612, 20130613, 20130614, 20130617, 20130618, 20130619, 20130620, 20130621, 20130624, 20130625, 20130626, 20130627, 20130628, 20130701, 20130702, 20130703, 20130705, 20130708, 20130709, 20130710, 20130711, 20130712], \"y\": [590.0, 590.25, 585.5, 584.25, 590.0, 587.0, 593.0, 591.0, 592.0, 593.75, 590.0, 578.75, 566.5, 563.25, 558.75, 563.0, 564.25, 563.75, 563.0, 557.75, 561.5, 554.0, 552.75, 550.25, 556.25, 553.75, 557.0, 556.75, 550.25, 552.0, 544.25, 541.75, 547.0, 554.0, 557.25, 555.0, 559.25, 561.75, 562.0, 562.25, 567.0, 568.5, 565.25, 572.0, 571.0, 571.0, 538.5, 535.5, 536.5, 539.5, 540.0, 535.0, 532.0, 540.25, 543.0, 544.0, 550.0, 532.25, 540.75, 547.25, 541.25, 547.0, 533.0, 522.75, 528.0, 531.25, 524.0, 559.5, 556.75, 550.5, 559.0, 553.5, 538.25, 539.25, 532.0, 541.5, 529.5, 539.25, 538.0, 531.75, 524.0, 519.5, 520.25, 520.25, 530.5, 534.75, 536.5, 551.0, 565.75, 562.75, 567.25, 560.0, 553.0, 542.25, 548.25, 558.5, 546.0, 550.75, 537.5, 535.25, 533.0, 538.5, 550.5, 570.5, 560.5, 556.25, 546.5, 544.5, 544.0, 538.5, 511.0, 501.25, 502.75, 502.75, 491.25, 500.5, 521.75, 521.5, 527.0, 509.25], \"yaxis\": \"y\"}, {\"name\": \"spread\", \"type\": \"scatter\", \"x\": [20130122, 20130123, 20130124, 20130125, 20130128, 20130129, 20130130, 20130131, 20130201, 20130204, 20130205, 20130206, 20130207, 20130208, 20130211, 20130212, 20130213, 20130214, 20130215, 20130219, 20130220, 20130221, 20130222, 20130225, 20130226, 20130227, 20130228, 20130301, 20130304, 20130305, 20130306, 20130307, 20130308, 20130311, 20130312, 20130313, 20130314, 20130315, 20130318, 20130319, 20130320, 20130321, 20130322, 20130325, 20130326, 20130327, 20130328, 20130401, 20130402, 20130403, 20130404, 20130405, 20130408, 20130409, 20130410, 20130411, 20130412, 20130415, 20130416, 20130417, 20130418, 20130419, 20130422, 20130423, 20130424, 20130425, 20130426, 20130429, 20130430, 20130501, 20130502, 20130503, 20130506, 20130507, 20130508, 20130509, 20130510, 20130513, 20130514, 20130515, 20130516, 20130517, 20130520, 20130521, 20130522, 20130523, 20130524, 20130528, 20130529, 20130530, 20130531, 20130603, 20130604, 20130605, 20130606, 20130607, 20130610, 20130611, 20130612, 20130613, 20130614, 20130617, 20130618, 20130619, 20130620, 20130621, 20130624, 20130625, 20130626, 20130627, 20130628, 20130701, 20130702, 20130703, 20130705, 20130708, 20130709, 20130710, 20130711, 20130712], \"y\": [132.25, 126.75, 129.75, 128.5, 130.5, 133.5, 139.0, 142.25, 136.75, 133.75, 132.0, 136.0, 135.25, 135.75, 133.25, 124.0, 119.0, 118.5, 122.25, 122.5, 121.25, 119.25, 119.0, 121.25, 122.75, 125.0, 127.75, 130.25, 131.5, 134.0, 127.5, 130.75, 133.5, 136.75, 136.5, 137.25, 139.25, 138.5, 141.25, 149.75, 150.25, 148.75, 143.25, 143.25, 141.25, 145.0, 137.5, 91.25, 90.75, 90.75, 78.5, 82.75, 87.5, 87.25, 89.5, 89.5, 91.25, 95.75, 100.0, 94.0, 88.5, 86.0, 90.5, 91.25, 90.25, 93.25, 95.75, 100.25, 93.25, 96.25, 103.0, 107.75, 98.25, 100.75, 101.0, 107.25, 106.75, 116.25, 114.5, 119.0, 117.5, 133.25, 129.25, 119.75, 128.0, 127.25, 120.75, 115.5, 99.25, 91.5, 94.75, 95.75, 107.5, 118.5, 115.0, 107.75, 104.0, 108.75, 113.25, 108.25, 122.0, 130.0, 122.75, 111.75, 112.75, 105.5, 106.75, 112.25, 120.5, 128.75, 168.25, 154.25, 170.0, 175.5, 193.5, 191.25, 182.25, 188.25, 189.75, 192.25], \"yaxis\": \"y2\"}],\n",
       "                        {\"autosize\": true, \"hovermode\": \"x\", \"legend\": {\"orientation\": \"h\", \"x\": 0, \"y\": 1.1}, \"margin\": {\"b\": 100}, \"modebar\": {\"bgcolor\": \"grey\", \"orientation\": \"v\"}, \"spikedistance\": 1000, \"template\": {\"data\": {\"bar\": [{\"error_x\": {\"color\": \"#2a3f5f\"}, \"error_y\": {\"color\": \"#2a3f5f\"}, \"marker\": {\"line\": {\"color\": \"#E5ECF6\", \"width\": 0.5}}, \"type\": \"bar\"}], \"barpolar\": [{\"marker\": {\"line\": {\"color\": \"#E5ECF6\", \"width\": 0.5}}, \"type\": \"barpolar\"}], \"carpet\": [{\"aaxis\": {\"endlinecolor\": \"#2a3f5f\", \"gridcolor\": \"white\", \"linecolor\": \"white\", \"minorgridcolor\": \"white\", \"startlinecolor\": \"#2a3f5f\"}, \"baxis\": {\"endlinecolor\": \"#2a3f5f\", \"gridcolor\": \"white\", \"linecolor\": \"white\", \"minorgridcolor\": \"white\", \"startlinecolor\": \"#2a3f5f\"}, \"type\": \"carpet\"}], \"choropleth\": [{\"colorbar\": {\"outlinewidth\": 0, \"ticks\": \"\"}, \"type\": \"choropleth\"}], \"contour\": [{\"colorbar\": {\"outlinewidth\": 0, \"ticks\": \"\"}, \"colorscale\": [[0.0, \"#0d0887\"], [0.1111111111111111, \"#46039f\"], [0.2222222222222222, \"#7201a8\"], [0.3333333333333333, \"#9c179e\"], [0.4444444444444444, \"#bd3786\"], [0.5555555555555556, \"#d8576b\"], [0.6666666666666666, \"#ed7953\"], [0.7777777777777778, \"#fb9f3a\"], [0.8888888888888888, \"#fdca26\"], [1.0, \"#f0f921\"]], \"type\": \"contour\"}], \"contourcarpet\": [{\"colorbar\": {\"outlinewidth\": 0, \"ticks\": \"\"}, \"type\": \"contourcarpet\"}], \"heatmap\": [{\"colorbar\": {\"outlinewidth\": 0, \"ticks\": \"\"}, \"colorscale\": [[0.0, \"#0d0887\"], [0.1111111111111111, \"#46039f\"], [0.2222222222222222, \"#7201a8\"], [0.3333333333333333, \"#9c179e\"], [0.4444444444444444, \"#bd3786\"], [0.5555555555555556, \"#d8576b\"], [0.6666666666666666, \"#ed7953\"], [0.7777777777777778, \"#fb9f3a\"], [0.8888888888888888, \"#fdca26\"], [1.0, \"#f0f921\"]], \"type\": \"heatmap\"}], \"heatmapgl\": [{\"colorbar\": {\"outlinewidth\": 0, \"ticks\": \"\"}, \"colorscale\": [[0.0, \"#0d0887\"], [0.1111111111111111, \"#46039f\"], [0.2222222222222222, \"#7201a8\"], [0.3333333333333333, \"#9c179e\"], [0.4444444444444444, \"#bd3786\"], [0.5555555555555556, \"#d8576b\"], [0.6666666666666666, \"#ed7953\"], [0.7777777777777778, \"#fb9f3a\"], [0.8888888888888888, \"#fdca26\"], [1.0, \"#f0f921\"]], \"type\": \"heatmapgl\"}], \"histogram\": [{\"marker\": {\"colorbar\": {\"outlinewidth\": 0, \"ticks\": \"\"}}, \"type\": \"histogram\"}], \"histogram2d\": [{\"colorbar\": {\"outlinewidth\": 0, \"ticks\": \"\"}, \"colorscale\": [[0.0, \"#0d0887\"], [0.1111111111111111, \"#46039f\"], [0.2222222222222222, \"#7201a8\"], [0.3333333333333333, \"#9c179e\"], [0.4444444444444444, \"#bd3786\"], [0.5555555555555556, \"#d8576b\"], [0.6666666666666666, \"#ed7953\"], [0.7777777777777778, \"#fb9f3a\"], [0.8888888888888888, \"#fdca26\"], [1.0, \"#f0f921\"]], \"type\": \"histogram2d\"}], \"histogram2dcontour\": [{\"colorbar\": {\"outlinewidth\": 0, \"ticks\": \"\"}, \"colorscale\": [[0.0, \"#0d0887\"], [0.1111111111111111, \"#46039f\"], [0.2222222222222222, \"#7201a8\"], [0.3333333333333333, \"#9c179e\"], [0.4444444444444444, \"#bd3786\"], [0.5555555555555556, \"#d8576b\"], [0.6666666666666666, \"#ed7953\"], [0.7777777777777778, \"#fb9f3a\"], [0.8888888888888888, \"#fdca26\"], [1.0, \"#f0f921\"]], \"type\": \"histogram2dcontour\"}], \"mesh3d\": [{\"colorbar\": {\"outlinewidth\": 0, \"ticks\": \"\"}, \"type\": \"mesh3d\"}], \"parcoords\": [{\"line\": {\"colorbar\": {\"outlinewidth\": 0, \"ticks\": \"\"}}, \"type\": \"parcoords\"}], \"pie\": [{\"automargin\": true, \"type\": \"pie\"}], \"scatter\": [{\"marker\": {\"colorbar\": {\"outlinewidth\": 0, \"ticks\": \"\"}}, \"type\": \"scatter\"}], \"scatter3d\": [{\"line\": {\"colorbar\": {\"outlinewidth\": 0, \"ticks\": \"\"}}, \"marker\": {\"colorbar\": {\"outlinewidth\": 0, \"ticks\": \"\"}}, \"type\": \"scatter3d\"}], \"scattercarpet\": [{\"marker\": {\"colorbar\": {\"outlinewidth\": 0, \"ticks\": \"\"}}, \"type\": \"scattercarpet\"}], \"scattergeo\": [{\"marker\": {\"colorbar\": {\"outlinewidth\": 0, \"ticks\": \"\"}}, \"type\": \"scattergeo\"}], \"scattergl\": [{\"marker\": {\"colorbar\": {\"outlinewidth\": 0, \"ticks\": \"\"}}, \"type\": \"scattergl\"}], \"scattermapbox\": [{\"marker\": {\"colorbar\": {\"outlinewidth\": 0, \"ticks\": \"\"}}, \"type\": \"scattermapbox\"}], \"scatterpolar\": [{\"marker\": {\"colorbar\": {\"outlinewidth\": 0, \"ticks\": \"\"}}, \"type\": \"scatterpolar\"}], \"scatterpolargl\": [{\"marker\": {\"colorbar\": {\"outlinewidth\": 0, \"ticks\": \"\"}}, \"type\": \"scatterpolargl\"}], \"scatterternary\": [{\"marker\": {\"colorbar\": {\"outlinewidth\": 0, \"ticks\": \"\"}}, \"type\": \"scatterternary\"}], \"surface\": [{\"colorbar\": {\"outlinewidth\": 0, \"ticks\": \"\"}, \"colorscale\": [[0.0, \"#0d0887\"], [0.1111111111111111, \"#46039f\"], [0.2222222222222222, \"#7201a8\"], [0.3333333333333333, \"#9c179e\"], [0.4444444444444444, \"#bd3786\"], [0.5555555555555556, \"#d8576b\"], [0.6666666666666666, \"#ed7953\"], [0.7777777777777778, \"#fb9f3a\"], [0.8888888888888888, \"#fdca26\"], [1.0, \"#f0f921\"]], \"type\": \"surface\"}], \"table\": [{\"cells\": {\"fill\": {\"color\": \"#EBF0F8\"}, \"line\": {\"color\": \"white\"}}, \"header\": {\"fill\": {\"color\": \"#C8D4E3\"}, \"line\": {\"color\": \"white\"}}, \"type\": \"table\"}]}, \"layout\": {\"annotationdefaults\": {\"arrowcolor\": \"#2a3f5f\", \"arrowhead\": 0, \"arrowwidth\": 1}, \"coloraxis\": {\"colorbar\": {\"outlinewidth\": 0, \"ticks\": \"\"}}, \"colorscale\": {\"diverging\": [[0, \"#8e0152\"], [0.1, \"#c51b7d\"], [0.2, \"#de77ae\"], [0.3, \"#f1b6da\"], [0.4, \"#fde0ef\"], [0.5, \"#f7f7f7\"], [0.6, \"#e6f5d0\"], [0.7, \"#b8e186\"], [0.8, \"#7fbc41\"], [0.9, \"#4d9221\"], [1, \"#276419\"]], \"sequential\": [[0.0, \"#0d0887\"], [0.1111111111111111, \"#46039f\"], [0.2222222222222222, \"#7201a8\"], [0.3333333333333333, \"#9c179e\"], [0.4444444444444444, \"#bd3786\"], [0.5555555555555556, \"#d8576b\"], [0.6666666666666666, \"#ed7953\"], [0.7777777777777778, \"#fb9f3a\"], [0.8888888888888888, \"#fdca26\"], [1.0, \"#f0f921\"]], \"sequentialminus\": [[0.0, \"#0d0887\"], [0.1111111111111111, \"#46039f\"], [0.2222222222222222, \"#7201a8\"], [0.3333333333333333, \"#9c179e\"], [0.4444444444444444, \"#bd3786\"], [0.5555555555555556, \"#d8576b\"], [0.6666666666666666, \"#ed7953\"], [0.7777777777777778, \"#fb9f3a\"], [0.8888888888888888, \"#fdca26\"], [1.0, \"#f0f921\"]]}, \"colorway\": [\"#636efa\", \"#EF553B\", \"#00cc96\", \"#ab63fa\", \"#FFA15A\", \"#19d3f3\", \"#FF6692\", \"#B6E880\", \"#FF97FF\", \"#FECB52\"], \"font\": {\"color\": \"#2a3f5f\"}, \"geo\": {\"bgcolor\": \"white\", \"lakecolor\": \"white\", \"landcolor\": \"#E5ECF6\", \"showlakes\": true, \"showland\": true, \"subunitcolor\": \"white\"}, \"hoverlabel\": {\"align\": \"left\"}, \"hovermode\": \"closest\", \"mapbox\": {\"style\": \"light\"}, \"paper_bgcolor\": \"white\", \"plot_bgcolor\": \"#E5ECF6\", \"polar\": {\"angularaxis\": {\"gridcolor\": \"white\", \"linecolor\": \"white\", \"ticks\": \"\"}, \"bgcolor\": \"#E5ECF6\", \"radialaxis\": {\"gridcolor\": \"white\", \"linecolor\": \"white\", \"ticks\": \"\"}}, \"scene\": {\"xaxis\": {\"backgroundcolor\": \"#E5ECF6\", \"gridcolor\": \"white\", \"gridwidth\": 2, \"linecolor\": \"white\", \"showbackground\": true, \"ticks\": \"\", \"zerolinecolor\": \"white\"}, \"yaxis\": {\"backgroundcolor\": \"#E5ECF6\", \"gridcolor\": \"white\", \"gridwidth\": 2, \"linecolor\": \"white\", \"showbackground\": true, \"ticks\": \"\", \"zerolinecolor\": \"white\"}, \"zaxis\": {\"backgroundcolor\": \"#E5ECF6\", \"gridcolor\": \"white\", \"gridwidth\": 2, \"linecolor\": \"white\", \"showbackground\": true, \"ticks\": \"\", \"zerolinecolor\": \"white\"}}, \"shapedefaults\": {\"line\": {\"color\": \"#2a3f5f\"}}, \"ternary\": {\"aaxis\": {\"gridcolor\": \"white\", \"linecolor\": \"white\", \"ticks\": \"\"}, \"baxis\": {\"gridcolor\": \"white\", \"linecolor\": \"white\", \"ticks\": \"\"}, \"bgcolor\": \"#E5ECF6\", \"caxis\": {\"gridcolor\": \"white\", \"linecolor\": \"white\", \"ticks\": \"\"}}, \"title\": {\"x\": 0.05}, \"xaxis\": {\"automargin\": true, \"gridcolor\": \"white\", \"linecolor\": \"white\", \"ticks\": \"\", \"title\": {\"standoff\": 15}, \"zerolinecolor\": \"white\", \"zerolinewidth\": 2}, \"yaxis\": {\"automargin\": true, \"gridcolor\": \"white\", \"linecolor\": \"white\", \"ticks\": \"\", \"title\": {\"standoff\": 15}, \"zerolinecolor\": \"white\", \"zerolinewidth\": 2}}}, \"title\": {\"text\": \"ZCN13 ZCZ13\", \"x\": 0.5, \"xanchor\": \"center\", \"y\": 0.9, \"yanchor\": \"top\"}, \"xaxis\": {\"showspikes\": true, \"spikedash\": \"solid\", \"spikemode\": \"toaxis+across\", \"spikethickness\": 1, \"tickangle\": 45, \"ticktext\": [20130122, 20130130, 20130207, 20130215, 20130226, 20130306, 20130314, 20130322, 20130402, 20130410, 20130418, 20130426, 20130506, 20130514, 20130522, 20130531, 20130610, 20130618, 20130626, 20130705], \"tickvals\": [20130122, 20130130, 20130207, 20130215, 20130226, 20130306, 20130314, 20130322, 20130402, 20130410, 20130418, 20130426, 20130506, 20130514, 20130522, 20130531, 20130610, 20130618, 20130626, 20130705], \"type\": \"category\"}, \"yaxis\": {\"showspikes\": true, \"spikedash\": \"solid\", \"spikemode\": \"toaxis+across\", \"spikethickness\": 1, \"title\": {\"text\": \"price\"}}, \"yaxis2\": {\"overlaying\": \"y\", \"side\": \"right\", \"title\": {\"text\": \"spread\"}}},\n",
       "                        {\"responsive\": true}\n",
       "                    ).then(function(){\n",
       "                            \n",
       "var gd = document.getElementById('c55c8842-ee5a-4dae-abcd-0f9b8e8b8791');\n",
       "var x = new MutationObserver(function (mutations, observer) {{\n",
       "        var display = window.getComputedStyle(gd).display;\n",
       "        if (!display || display === 'none') {{\n",
       "            console.log([gd, 'removed!']);\n",
       "            Plotly.purge(gd);\n",
       "            observer.disconnect();\n",
       "        }}\n",
       "}});\n",
       "\n",
       "// Listen for the removal of the full notebook cells\n",
       "var notebookContainer = gd.closest('#notebook-container');\n",
       "if (notebookContainer) {{\n",
       "    x.observe(notebookContainer, {childList: true});\n",
       "}}\n",
       "\n",
       "// Listen for the clearing of the current output cell\n",
       "var outputEl = gd.closest('.output');\n",
       "if (outputEl) {{\n",
       "    x.observe(outputEl, {childList: true});\n",
       "}}\n",
       "\n",
       "                        })\n",
       "                };\n",
       "                });\n",
       "            </script>\n",
       "        </div>"
      ]
     },
     "metadata": {},
     "output_type": "display_data"
    },
    {
     "data": {
      "application/vnd.plotly.v1+json": {
       "config": {
        "linkText": "Export to plot.ly",
        "plotlyServerURL": "https://plot.ly",
        "showLink": false
       },
       "data": [
        {
         "name": "front",
         "type": "scatter",
         "x": [
          20140122,
          20140123,
          20140124,
          20140127,
          20140128,
          20140129,
          20140130,
          20140131,
          20140203,
          20140204,
          20140205,
          20140206,
          20140207,
          20140210,
          20140211,
          20140212,
          20140213,
          20140214,
          20140218,
          20140219,
          20140220,
          20140221,
          20140224,
          20140225,
          20140226,
          20140227,
          20140228,
          20140303,
          20140304,
          20140305,
          20140306,
          20140307,
          20140310,
          20140311,
          20140312,
          20140313,
          20140314,
          20140317,
          20140318,
          20140319,
          20140320,
          20140321,
          20140324,
          20140325,
          20140326,
          20140327,
          20140328,
          20140331,
          20140401,
          20140402,
          20140403,
          20140404,
          20140407,
          20140408,
          20140409,
          20140410,
          20140411,
          20140414,
          20140415,
          20140416,
          20140417,
          20140421,
          20140422,
          20140423,
          20140424,
          20140425,
          20140428,
          20140429,
          20140430,
          20140501,
          20140502,
          20140505,
          20140506,
          20140507,
          20140508,
          20140509,
          20140512,
          20140513,
          20140514,
          20140515,
          20140516,
          20140519,
          20140520,
          20140521,
          20140522,
          20140523,
          20140527,
          20140528,
          20140529,
          20140530,
          20140602,
          20140603,
          20140604,
          20140605,
          20140606,
          20140609,
          20140610,
          20140611,
          20140612,
          20140613,
          20140616,
          20140617,
          20140618,
          20140619,
          20140620,
          20140623,
          20140624,
          20140625,
          20140626,
          20140627,
          20140630,
          20140701,
          20140702,
          20140703,
          20140707,
          20140708,
          20140709,
          20140710,
          20140711,
          20140714
         ],
         "y": [
          439,
          441.25,
          441.5,
          444,
          443.25,
          439.25,
          443.5,
          444,
          446.75,
          452.75,
          452.25,
          453.5,
          455.5,
          454.75,
          452.5,
          451.5,
          451,
          455,
          460,
          464.75,
          466.75,
          462.75,
          462.25,
          465.25,
          464.75,
          458.5,
          467.5,
          474.75,
          488.25,
          486.25,
          495.25,
          493,
          482.25,
          487,
          492,
          489,
          490.5,
          484,
          491,
          492.75,
          483.5,
          483.75,
          494.5,
          491.25,
          489.25,
          496.25,
          496.25,
          506.75,
          512.5,
          501,
          505.25,
          507.5,
          505.25,
          513,
          508,
          507.25,
          504.5,
          509.25,
          509.75,
          503.5,
          500.5,
          493.75,
          502,
          509.5,
          507.25,
          512.75,
          513.75,
          521.5,
          519,
          507,
          499.5,
          508,
          517.5,
          514,
          516.5,
          507.5,
          499.5,
          502.75,
          495.5,
          484.25,
          483.5,
          477.25,
          473.5,
          474.5,
          476.75,
          478,
          469.75,
          472.5,
          469.5,
          465.75,
          465.5,
          458.25,
          456.25,
          449,
          459,
          451,
          445.5,
          441,
          444,
          447,
          441,
          438.75,
          441.5,
          450.5,
          453.25,
          444.5,
          443,
          441,
          442.75,
          443,
          424.25,
          422.75,
          418.5,
          417,
          409.25,
          408.25,
          404,
          400.5,
          399.75,
          390.25
         ],
         "yaxis": "y"
        },
        {
         "name": "back",
         "type": "scatter",
         "x": [
          20140122,
          20140123,
          20140124,
          20140127,
          20140128,
          20140129,
          20140130,
          20140131,
          20140203,
          20140204,
          20140205,
          20140206,
          20140207,
          20140210,
          20140211,
          20140212,
          20140213,
          20140214,
          20140218,
          20140219,
          20140220,
          20140221,
          20140224,
          20140225,
          20140226,
          20140227,
          20140228,
          20140303,
          20140304,
          20140305,
          20140306,
          20140307,
          20140310,
          20140311,
          20140312,
          20140313,
          20140314,
          20140317,
          20140318,
          20140319,
          20140320,
          20140321,
          20140324,
          20140325,
          20140326,
          20140327,
          20140328,
          20140331,
          20140401,
          20140402,
          20140403,
          20140404,
          20140407,
          20140408,
          20140409,
          20140410,
          20140411,
          20140414,
          20140415,
          20140416,
          20140417,
          20140421,
          20140422,
          20140423,
          20140424,
          20140425,
          20140428,
          20140429,
          20140430,
          20140501,
          20140502,
          20140505,
          20140506,
          20140507,
          20140508,
          20140509,
          20140512,
          20140513,
          20140514,
          20140515,
          20140516,
          20140519,
          20140520,
          20140521,
          20140522,
          20140523,
          20140527,
          20140528,
          20140529,
          20140530,
          20140602,
          20140603,
          20140604,
          20140605,
          20140606,
          20140609,
          20140610,
          20140611,
          20140612,
          20140613,
          20140616,
          20140617,
          20140618,
          20140619,
          20140620,
          20140623,
          20140624,
          20140625,
          20140626,
          20140627,
          20140630,
          20140701,
          20140702,
          20140703,
          20140707,
          20140708,
          20140709,
          20140710,
          20140711,
          20140714
         ],
         "y": [
          447.5,
          449.25,
          449.5,
          452.5,
          450.75,
          446.75,
          450.25,
          450,
          453,
          459.25,
          457,
          458.25,
          460,
          458.25,
          455.75,
          457.75,
          456.25,
          459.75,
          463.75,
          468.25,
          468.75,
          464.25,
          465,
          467.75,
          466.5,
          461,
          471.5,
          476.5,
          486.5,
          483.25,
          489.25,
          484.75,
          478,
          481.25,
          486.25,
          484,
          487.25,
          482,
          487.75,
          488.75,
          480.75,
          480,
          487.75,
          486.25,
          484,
          488,
          487.25,
          498.25,
          505.5,
          497,
          501.5,
          506.75,
          505.5,
          513,
          505.5,
          505,
          499.25,
          503.5,
          503.25,
          499,
          496.75,
          490,
          495.75,
          504.5,
          502.75,
          506.25,
          507,
          512.25,
          509.25,
          499.5,
          494,
          500,
          509.5,
          509.5,
          511.5,
          498.75,
          492,
          495,
          489,
          480.5,
          481,
          475.75,
          472,
          471.75,
          473.5,
          475.25,
          465.75,
          469.5,
          463,
          457.5,
          458.5,
          454.25,
          453.5,
          447.25,
          457.75,
          450,
          445,
          441.75,
          443.75,
          447.5,
          442,
          439.5,
          439.5,
          447.5,
          452,
          442.5,
          440.75,
          440,
          443.25,
          447.25,
          425.25,
          422.75,
          418,
          415.25,
          406.25,
          404.25,
          398,
          392.75,
          384.75,
          388.25
         ],
         "yaxis": "y"
        },
        {
         "name": "spread",
         "type": "scatter",
         "x": [
          20140122,
          20140123,
          20140124,
          20140127,
          20140128,
          20140129,
          20140130,
          20140131,
          20140203,
          20140204,
          20140205,
          20140206,
          20140207,
          20140210,
          20140211,
          20140212,
          20140213,
          20140214,
          20140218,
          20140219,
          20140220,
          20140221,
          20140224,
          20140225,
          20140226,
          20140227,
          20140228,
          20140303,
          20140304,
          20140305,
          20140306,
          20140307,
          20140310,
          20140311,
          20140312,
          20140313,
          20140314,
          20140317,
          20140318,
          20140319,
          20140320,
          20140321,
          20140324,
          20140325,
          20140326,
          20140327,
          20140328,
          20140331,
          20140401,
          20140402,
          20140403,
          20140404,
          20140407,
          20140408,
          20140409,
          20140410,
          20140411,
          20140414,
          20140415,
          20140416,
          20140417,
          20140421,
          20140422,
          20140423,
          20140424,
          20140425,
          20140428,
          20140429,
          20140430,
          20140501,
          20140502,
          20140505,
          20140506,
          20140507,
          20140508,
          20140509,
          20140512,
          20140513,
          20140514,
          20140515,
          20140516,
          20140519,
          20140520,
          20140521,
          20140522,
          20140523,
          20140527,
          20140528,
          20140529,
          20140530,
          20140602,
          20140603,
          20140604,
          20140605,
          20140606,
          20140609,
          20140610,
          20140611,
          20140612,
          20140613,
          20140616,
          20140617,
          20140618,
          20140619,
          20140620,
          20140623,
          20140624,
          20140625,
          20140626,
          20140627,
          20140630,
          20140701,
          20140702,
          20140703,
          20140707,
          20140708,
          20140709,
          20140710,
          20140711,
          20140714
         ],
         "y": [
          -8.5,
          -8,
          -8,
          -8.5,
          -7.5,
          -7.5,
          -6.75,
          -6,
          -6.25,
          -6.5,
          -4.75,
          -4.75,
          -4.5,
          -3.5,
          -3.25,
          -6.25,
          -5.25,
          -4.75,
          -3.75,
          -3.5,
          -2,
          -1.5,
          -2.75,
          -2.5,
          -1.75,
          -2.5,
          -4,
          -1.75,
          1.75,
          3,
          6,
          8.25,
          4.25,
          5.75,
          5.75,
          5,
          3.25,
          2,
          3.25,
          4,
          2.75,
          3.75,
          6.75,
          5,
          5.25,
          8.25,
          9,
          8.5,
          7,
          4,
          3.75,
          0.75,
          -0.25,
          0,
          2.5,
          2.25,
          5.25,
          5.75,
          6.5,
          4.5,
          3.75,
          3.75,
          6.25,
          5,
          4.5,
          6.5,
          6.75,
          9.25,
          9.75,
          7.5,
          5.5,
          8,
          8,
          4.5,
          5,
          8.75,
          7.5,
          7.75,
          6.5,
          3.75,
          2.5,
          1.5,
          1.5,
          2.75,
          3.25,
          2.75,
          4,
          3,
          6.5,
          8.25,
          7,
          4,
          2.75,
          1.75,
          1.25,
          1,
          0.5,
          -0.75,
          0.25,
          -0.5,
          -1,
          -0.75,
          2,
          3,
          1.25,
          2,
          2.25,
          1,
          -0.5,
          -4.25,
          -1,
          0,
          0.5,
          1.75,
          3,
          4,
          6,
          7.75,
          15,
          2
         ],
         "yaxis": "y2"
        }
       ],
       "layout": {
        "autosize": true,
        "hovermode": "x",
        "legend": {
         "orientation": "h",
         "x": 0,
         "y": 1.1
        },
        "margin": {
         "b": 100
        },
        "modebar": {
         "bgcolor": "grey",
         "orientation": "v"
        },
        "spikedistance": 1000,
        "template": {
         "data": {
          "bar": [
           {
            "error_x": {
             "color": "#2a3f5f"
            },
            "error_y": {
             "color": "#2a3f5f"
            },
            "marker": {
             "line": {
              "color": "#E5ECF6",
              "width": 0.5
             }
            },
            "type": "bar"
           }
          ],
          "barpolar": [
           {
            "marker": {
             "line": {
              "color": "#E5ECF6",
              "width": 0.5
             }
            },
            "type": "barpolar"
           }
          ],
          "carpet": [
           {
            "aaxis": {
             "endlinecolor": "#2a3f5f",
             "gridcolor": "white",
             "linecolor": "white",
             "minorgridcolor": "white",
             "startlinecolor": "#2a3f5f"
            },
            "baxis": {
             "endlinecolor": "#2a3f5f",
             "gridcolor": "white",
             "linecolor": "white",
             "minorgridcolor": "white",
             "startlinecolor": "#2a3f5f"
            },
            "type": "carpet"
           }
          ],
          "choropleth": [
           {
            "colorbar": {
             "outlinewidth": 0,
             "ticks": ""
            },
            "type": "choropleth"
           }
          ],
          "contour": [
           {
            "colorbar": {
             "outlinewidth": 0,
             "ticks": ""
            },
            "colorscale": [
             [
              0,
              "#0d0887"
             ],
             [
              0.1111111111111111,
              "#46039f"
             ],
             [
              0.2222222222222222,
              "#7201a8"
             ],
             [
              0.3333333333333333,
              "#9c179e"
             ],
             [
              0.4444444444444444,
              "#bd3786"
             ],
             [
              0.5555555555555556,
              "#d8576b"
             ],
             [
              0.6666666666666666,
              "#ed7953"
             ],
             [
              0.7777777777777778,
              "#fb9f3a"
             ],
             [
              0.8888888888888888,
              "#fdca26"
             ],
             [
              1,
              "#f0f921"
             ]
            ],
            "type": "contour"
           }
          ],
          "contourcarpet": [
           {
            "colorbar": {
             "outlinewidth": 0,
             "ticks": ""
            },
            "type": "contourcarpet"
           }
          ],
          "heatmap": [
           {
            "colorbar": {
             "outlinewidth": 0,
             "ticks": ""
            },
            "colorscale": [
             [
              0,
              "#0d0887"
             ],
             [
              0.1111111111111111,
              "#46039f"
             ],
             [
              0.2222222222222222,
              "#7201a8"
             ],
             [
              0.3333333333333333,
              "#9c179e"
             ],
             [
              0.4444444444444444,
              "#bd3786"
             ],
             [
              0.5555555555555556,
              "#d8576b"
             ],
             [
              0.6666666666666666,
              "#ed7953"
             ],
             [
              0.7777777777777778,
              "#fb9f3a"
             ],
             [
              0.8888888888888888,
              "#fdca26"
             ],
             [
              1,
              "#f0f921"
             ]
            ],
            "type": "heatmap"
           }
          ],
          "heatmapgl": [
           {
            "colorbar": {
             "outlinewidth": 0,
             "ticks": ""
            },
            "colorscale": [
             [
              0,
              "#0d0887"
             ],
             [
              0.1111111111111111,
              "#46039f"
             ],
             [
              0.2222222222222222,
              "#7201a8"
             ],
             [
              0.3333333333333333,
              "#9c179e"
             ],
             [
              0.4444444444444444,
              "#bd3786"
             ],
             [
              0.5555555555555556,
              "#d8576b"
             ],
             [
              0.6666666666666666,
              "#ed7953"
             ],
             [
              0.7777777777777778,
              "#fb9f3a"
             ],
             [
              0.8888888888888888,
              "#fdca26"
             ],
             [
              1,
              "#f0f921"
             ]
            ],
            "type": "heatmapgl"
           }
          ],
          "histogram": [
           {
            "marker": {
             "colorbar": {
              "outlinewidth": 0,
              "ticks": ""
             }
            },
            "type": "histogram"
           }
          ],
          "histogram2d": [
           {
            "colorbar": {
             "outlinewidth": 0,
             "ticks": ""
            },
            "colorscale": [
             [
              0,
              "#0d0887"
             ],
             [
              0.1111111111111111,
              "#46039f"
             ],
             [
              0.2222222222222222,
              "#7201a8"
             ],
             [
              0.3333333333333333,
              "#9c179e"
             ],
             [
              0.4444444444444444,
              "#bd3786"
             ],
             [
              0.5555555555555556,
              "#d8576b"
             ],
             [
              0.6666666666666666,
              "#ed7953"
             ],
             [
              0.7777777777777778,
              "#fb9f3a"
             ],
             [
              0.8888888888888888,
              "#fdca26"
             ],
             [
              1,
              "#f0f921"
             ]
            ],
            "type": "histogram2d"
           }
          ],
          "histogram2dcontour": [
           {
            "colorbar": {
             "outlinewidth": 0,
             "ticks": ""
            },
            "colorscale": [
             [
              0,
              "#0d0887"
             ],
             [
              0.1111111111111111,
              "#46039f"
             ],
             [
              0.2222222222222222,
              "#7201a8"
             ],
             [
              0.3333333333333333,
              "#9c179e"
             ],
             [
              0.4444444444444444,
              "#bd3786"
             ],
             [
              0.5555555555555556,
              "#d8576b"
             ],
             [
              0.6666666666666666,
              "#ed7953"
             ],
             [
              0.7777777777777778,
              "#fb9f3a"
             ],
             [
              0.8888888888888888,
              "#fdca26"
             ],
             [
              1,
              "#f0f921"
             ]
            ],
            "type": "histogram2dcontour"
           }
          ],
          "mesh3d": [
           {
            "colorbar": {
             "outlinewidth": 0,
             "ticks": ""
            },
            "type": "mesh3d"
           }
          ],
          "parcoords": [
           {
            "line": {
             "colorbar": {
              "outlinewidth": 0,
              "ticks": ""
             }
            },
            "type": "parcoords"
           }
          ],
          "pie": [
           {
            "automargin": true,
            "type": "pie"
           }
          ],
          "scatter": [
           {
            "marker": {
             "colorbar": {
              "outlinewidth": 0,
              "ticks": ""
             }
            },
            "type": "scatter"
           }
          ],
          "scatter3d": [
           {
            "line": {
             "colorbar": {
              "outlinewidth": 0,
              "ticks": ""
             }
            },
            "marker": {
             "colorbar": {
              "outlinewidth": 0,
              "ticks": ""
             }
            },
            "type": "scatter3d"
           }
          ],
          "scattercarpet": [
           {
            "marker": {
             "colorbar": {
              "outlinewidth": 0,
              "ticks": ""
             }
            },
            "type": "scattercarpet"
           }
          ],
          "scattergeo": [
           {
            "marker": {
             "colorbar": {
              "outlinewidth": 0,
              "ticks": ""
             }
            },
            "type": "scattergeo"
           }
          ],
          "scattergl": [
           {
            "marker": {
             "colorbar": {
              "outlinewidth": 0,
              "ticks": ""
             }
            },
            "type": "scattergl"
           }
          ],
          "scattermapbox": [
           {
            "marker": {
             "colorbar": {
              "outlinewidth": 0,
              "ticks": ""
             }
            },
            "type": "scattermapbox"
           }
          ],
          "scatterpolar": [
           {
            "marker": {
             "colorbar": {
              "outlinewidth": 0,
              "ticks": ""
             }
            },
            "type": "scatterpolar"
           }
          ],
          "scatterpolargl": [
           {
            "marker": {
             "colorbar": {
              "outlinewidth": 0,
              "ticks": ""
             }
            },
            "type": "scatterpolargl"
           }
          ],
          "scatterternary": [
           {
            "marker": {
             "colorbar": {
              "outlinewidth": 0,
              "ticks": ""
             }
            },
            "type": "scatterternary"
           }
          ],
          "surface": [
           {
            "colorbar": {
             "outlinewidth": 0,
             "ticks": ""
            },
            "colorscale": [
             [
              0,
              "#0d0887"
             ],
             [
              0.1111111111111111,
              "#46039f"
             ],
             [
              0.2222222222222222,
              "#7201a8"
             ],
             [
              0.3333333333333333,
              "#9c179e"
             ],
             [
              0.4444444444444444,
              "#bd3786"
             ],
             [
              0.5555555555555556,
              "#d8576b"
             ],
             [
              0.6666666666666666,
              "#ed7953"
             ],
             [
              0.7777777777777778,
              "#fb9f3a"
             ],
             [
              0.8888888888888888,
              "#fdca26"
             ],
             [
              1,
              "#f0f921"
             ]
            ],
            "type": "surface"
           }
          ],
          "table": [
           {
            "cells": {
             "fill": {
              "color": "#EBF0F8"
             },
             "line": {
              "color": "white"
             }
            },
            "header": {
             "fill": {
              "color": "#C8D4E3"
             },
             "line": {
              "color": "white"
             }
            },
            "type": "table"
           }
          ]
         },
         "layout": {
          "annotationdefaults": {
           "arrowcolor": "#2a3f5f",
           "arrowhead": 0,
           "arrowwidth": 1
          },
          "coloraxis": {
           "colorbar": {
            "outlinewidth": 0,
            "ticks": ""
           }
          },
          "colorscale": {
           "diverging": [
            [
             0,
             "#8e0152"
            ],
            [
             0.1,
             "#c51b7d"
            ],
            [
             0.2,
             "#de77ae"
            ],
            [
             0.3,
             "#f1b6da"
            ],
            [
             0.4,
             "#fde0ef"
            ],
            [
             0.5,
             "#f7f7f7"
            ],
            [
             0.6,
             "#e6f5d0"
            ],
            [
             0.7,
             "#b8e186"
            ],
            [
             0.8,
             "#7fbc41"
            ],
            [
             0.9,
             "#4d9221"
            ],
            [
             1,
             "#276419"
            ]
           ],
           "sequential": [
            [
             0,
             "#0d0887"
            ],
            [
             0.1111111111111111,
             "#46039f"
            ],
            [
             0.2222222222222222,
             "#7201a8"
            ],
            [
             0.3333333333333333,
             "#9c179e"
            ],
            [
             0.4444444444444444,
             "#bd3786"
            ],
            [
             0.5555555555555556,
             "#d8576b"
            ],
            [
             0.6666666666666666,
             "#ed7953"
            ],
            [
             0.7777777777777778,
             "#fb9f3a"
            ],
            [
             0.8888888888888888,
             "#fdca26"
            ],
            [
             1,
             "#f0f921"
            ]
           ],
           "sequentialminus": [
            [
             0,
             "#0d0887"
            ],
            [
             0.1111111111111111,
             "#46039f"
            ],
            [
             0.2222222222222222,
             "#7201a8"
            ],
            [
             0.3333333333333333,
             "#9c179e"
            ],
            [
             0.4444444444444444,
             "#bd3786"
            ],
            [
             0.5555555555555556,
             "#d8576b"
            ],
            [
             0.6666666666666666,
             "#ed7953"
            ],
            [
             0.7777777777777778,
             "#fb9f3a"
            ],
            [
             0.8888888888888888,
             "#fdca26"
            ],
            [
             1,
             "#f0f921"
            ]
           ]
          },
          "colorway": [
           "#636efa",
           "#EF553B",
           "#00cc96",
           "#ab63fa",
           "#FFA15A",
           "#19d3f3",
           "#FF6692",
           "#B6E880",
           "#FF97FF",
           "#FECB52"
          ],
          "font": {
           "color": "#2a3f5f"
          },
          "geo": {
           "bgcolor": "white",
           "lakecolor": "white",
           "landcolor": "#E5ECF6",
           "showlakes": true,
           "showland": true,
           "subunitcolor": "white"
          },
          "hoverlabel": {
           "align": "left"
          },
          "hovermode": "closest",
          "mapbox": {
           "style": "light"
          },
          "paper_bgcolor": "white",
          "plot_bgcolor": "#E5ECF6",
          "polar": {
           "angularaxis": {
            "gridcolor": "white",
            "linecolor": "white",
            "ticks": ""
           },
           "bgcolor": "#E5ECF6",
           "radialaxis": {
            "gridcolor": "white",
            "linecolor": "white",
            "ticks": ""
           }
          },
          "scene": {
           "xaxis": {
            "backgroundcolor": "#E5ECF6",
            "gridcolor": "white",
            "gridwidth": 2,
            "linecolor": "white",
            "showbackground": true,
            "ticks": "",
            "zerolinecolor": "white"
           },
           "yaxis": {
            "backgroundcolor": "#E5ECF6",
            "gridcolor": "white",
            "gridwidth": 2,
            "linecolor": "white",
            "showbackground": true,
            "ticks": "",
            "zerolinecolor": "white"
           },
           "zaxis": {
            "backgroundcolor": "#E5ECF6",
            "gridcolor": "white",
            "gridwidth": 2,
            "linecolor": "white",
            "showbackground": true,
            "ticks": "",
            "zerolinecolor": "white"
           }
          },
          "shapedefaults": {
           "line": {
            "color": "#2a3f5f"
           }
          },
          "ternary": {
           "aaxis": {
            "gridcolor": "white",
            "linecolor": "white",
            "ticks": ""
           },
           "baxis": {
            "gridcolor": "white",
            "linecolor": "white",
            "ticks": ""
           },
           "bgcolor": "#E5ECF6",
           "caxis": {
            "gridcolor": "white",
            "linecolor": "white",
            "ticks": ""
           }
          },
          "title": {
           "x": 0.05
          },
          "xaxis": {
           "automargin": true,
           "gridcolor": "white",
           "linecolor": "white",
           "ticks": "",
           "title": {
            "standoff": 15
           },
           "zerolinecolor": "white",
           "zerolinewidth": 2
          },
          "yaxis": {
           "automargin": true,
           "gridcolor": "white",
           "linecolor": "white",
           "ticks": "",
           "title": {
            "standoff": 15
           },
           "zerolinecolor": "white",
           "zerolinewidth": 2
          }
         }
        },
        "title": {
         "text": "ZCN14 ZCZ14",
         "x": 0.5,
         "xanchor": "center",
         "y": 0.9,
         "yanchor": "top"
        },
        "xaxis": {
         "showspikes": true,
         "spikedash": "solid",
         "spikemode": "toaxis+across",
         "spikethickness": 1,
         "tickangle": 45,
         "ticktext": [
          20140122,
          20140130,
          20140207,
          20140218,
          20140226,
          20140306,
          20140314,
          20140324,
          20140401,
          20140409,
          20140417,
          20140428,
          20140506,
          20140514,
          20140522,
          20140602,
          20140610,
          20140618,
          20140626,
          20140707
         ],
         "tickvals": [
          20140122,
          20140130,
          20140207,
          20140218,
          20140226,
          20140306,
          20140314,
          20140324,
          20140401,
          20140409,
          20140417,
          20140428,
          20140506,
          20140514,
          20140522,
          20140602,
          20140610,
          20140618,
          20140626,
          20140707
         ],
         "type": "category"
        },
        "yaxis": {
         "showspikes": true,
         "spikedash": "solid",
         "spikemode": "toaxis+across",
         "spikethickness": 1,
         "title": {
          "text": "price"
         }
        },
        "yaxis2": {
         "overlaying": "y",
         "side": "right",
         "title": {
          "text": "spread"
         }
        }
       }
      },
      "text/html": [
       "<div>\n",
       "        \n",
       "        \n",
       "            <div id=\"71abfa1c-4201-40ab-9782-67cf1576768c\" class=\"plotly-graph-div\" style=\"height:525px; width:100%;\"></div>\n",
       "            <script type=\"text/javascript\">\n",
       "                require([\"plotly\"], function(Plotly) {\n",
       "                    window.PLOTLYENV=window.PLOTLYENV || {};\n",
       "                    \n",
       "                if (document.getElementById(\"71abfa1c-4201-40ab-9782-67cf1576768c\")) {\n",
       "                    Plotly.newPlot(\n",
       "                        '71abfa1c-4201-40ab-9782-67cf1576768c',\n",
       "                        [{\"name\": \"front\", \"type\": \"scatter\", \"x\": [20140122, 20140123, 20140124, 20140127, 20140128, 20140129, 20140130, 20140131, 20140203, 20140204, 20140205, 20140206, 20140207, 20140210, 20140211, 20140212, 20140213, 20140214, 20140218, 20140219, 20140220, 20140221, 20140224, 20140225, 20140226, 20140227, 20140228, 20140303, 20140304, 20140305, 20140306, 20140307, 20140310, 20140311, 20140312, 20140313, 20140314, 20140317, 20140318, 20140319, 20140320, 20140321, 20140324, 20140325, 20140326, 20140327, 20140328, 20140331, 20140401, 20140402, 20140403, 20140404, 20140407, 20140408, 20140409, 20140410, 20140411, 20140414, 20140415, 20140416, 20140417, 20140421, 20140422, 20140423, 20140424, 20140425, 20140428, 20140429, 20140430, 20140501, 20140502, 20140505, 20140506, 20140507, 20140508, 20140509, 20140512, 20140513, 20140514, 20140515, 20140516, 20140519, 20140520, 20140521, 20140522, 20140523, 20140527, 20140528, 20140529, 20140530, 20140602, 20140603, 20140604, 20140605, 20140606, 20140609, 20140610, 20140611, 20140612, 20140613, 20140616, 20140617, 20140618, 20140619, 20140620, 20140623, 20140624, 20140625, 20140626, 20140627, 20140630, 20140701, 20140702, 20140703, 20140707, 20140708, 20140709, 20140710, 20140711, 20140714], \"y\": [439.0, 441.25, 441.5, 444.0, 443.25, 439.25, 443.5, 444.0, 446.75, 452.75, 452.25, 453.5, 455.5, 454.75, 452.5, 451.5, 451.0, 455.0, 460.0, 464.75, 466.75, 462.75, 462.25, 465.25, 464.75, 458.5, 467.5, 474.75, 488.25, 486.25, 495.25, 493.0, 482.25, 487.0, 492.0, 489.0, 490.5, 484.0, 491.0, 492.75, 483.5, 483.75, 494.5, 491.25, 489.25, 496.25, 496.25, 506.75, 512.5, 501.0, 505.25, 507.5, 505.25, 513.0, 508.0, 507.25, 504.5, 509.25, 509.75, 503.5, 500.5, 493.75, 502.0, 509.5, 507.25, 512.75, 513.75, 521.5, 519.0, 507.0, 499.5, 508.0, 517.5, 514.0, 516.5, 507.5, 499.5, 502.75, 495.5, 484.25, 483.5, 477.25, 473.5, 474.5, 476.75, 478.0, 469.75, 472.5, 469.5, 465.75, 465.5, 458.25, 456.25, 449.0, 459.0, 451.0, 445.5, 441.0, 444.0, 447.0, 441.0, 438.75, 441.5, 450.5, 453.25, 444.5, 443.0, 441.0, 442.75, 443.0, 424.25, 422.75, 418.5, 417.0, 409.25, 408.25, 404.0, 400.5, 399.75, 390.25], \"yaxis\": \"y\"}, {\"name\": \"back\", \"type\": \"scatter\", \"x\": [20140122, 20140123, 20140124, 20140127, 20140128, 20140129, 20140130, 20140131, 20140203, 20140204, 20140205, 20140206, 20140207, 20140210, 20140211, 20140212, 20140213, 20140214, 20140218, 20140219, 20140220, 20140221, 20140224, 20140225, 20140226, 20140227, 20140228, 20140303, 20140304, 20140305, 20140306, 20140307, 20140310, 20140311, 20140312, 20140313, 20140314, 20140317, 20140318, 20140319, 20140320, 20140321, 20140324, 20140325, 20140326, 20140327, 20140328, 20140331, 20140401, 20140402, 20140403, 20140404, 20140407, 20140408, 20140409, 20140410, 20140411, 20140414, 20140415, 20140416, 20140417, 20140421, 20140422, 20140423, 20140424, 20140425, 20140428, 20140429, 20140430, 20140501, 20140502, 20140505, 20140506, 20140507, 20140508, 20140509, 20140512, 20140513, 20140514, 20140515, 20140516, 20140519, 20140520, 20140521, 20140522, 20140523, 20140527, 20140528, 20140529, 20140530, 20140602, 20140603, 20140604, 20140605, 20140606, 20140609, 20140610, 20140611, 20140612, 20140613, 20140616, 20140617, 20140618, 20140619, 20140620, 20140623, 20140624, 20140625, 20140626, 20140627, 20140630, 20140701, 20140702, 20140703, 20140707, 20140708, 20140709, 20140710, 20140711, 20140714], \"y\": [447.5, 449.25, 449.5, 452.5, 450.75, 446.75, 450.25, 450.0, 453.0, 459.25, 457.0, 458.25, 460.0, 458.25, 455.75, 457.75, 456.25, 459.75, 463.75, 468.25, 468.75, 464.25, 465.0, 467.75, 466.5, 461.0, 471.5, 476.5, 486.5, 483.25, 489.25, 484.75, 478.0, 481.25, 486.25, 484.0, 487.25, 482.0, 487.75, 488.75, 480.75, 480.0, 487.75, 486.25, 484.0, 488.0, 487.25, 498.25, 505.5, 497.0, 501.5, 506.75, 505.5, 513.0, 505.5, 505.0, 499.25, 503.5, 503.25, 499.0, 496.75, 490.0, 495.75, 504.5, 502.75, 506.25, 507.0, 512.25, 509.25, 499.5, 494.0, 500.0, 509.5, 509.5, 511.5, 498.75, 492.0, 495.0, 489.0, 480.5, 481.0, 475.75, 472.0, 471.75, 473.5, 475.25, 465.75, 469.5, 463.0, 457.5, 458.5, 454.25, 453.5, 447.25, 457.75, 450.0, 445.0, 441.75, 443.75, 447.5, 442.0, 439.5, 439.5, 447.5, 452.0, 442.5, 440.75, 440.0, 443.25, 447.25, 425.25, 422.75, 418.0, 415.25, 406.25, 404.25, 398.0, 392.75, 384.75, 388.25], \"yaxis\": \"y\"}, {\"name\": \"spread\", \"type\": \"scatter\", \"x\": [20140122, 20140123, 20140124, 20140127, 20140128, 20140129, 20140130, 20140131, 20140203, 20140204, 20140205, 20140206, 20140207, 20140210, 20140211, 20140212, 20140213, 20140214, 20140218, 20140219, 20140220, 20140221, 20140224, 20140225, 20140226, 20140227, 20140228, 20140303, 20140304, 20140305, 20140306, 20140307, 20140310, 20140311, 20140312, 20140313, 20140314, 20140317, 20140318, 20140319, 20140320, 20140321, 20140324, 20140325, 20140326, 20140327, 20140328, 20140331, 20140401, 20140402, 20140403, 20140404, 20140407, 20140408, 20140409, 20140410, 20140411, 20140414, 20140415, 20140416, 20140417, 20140421, 20140422, 20140423, 20140424, 20140425, 20140428, 20140429, 20140430, 20140501, 20140502, 20140505, 20140506, 20140507, 20140508, 20140509, 20140512, 20140513, 20140514, 20140515, 20140516, 20140519, 20140520, 20140521, 20140522, 20140523, 20140527, 20140528, 20140529, 20140530, 20140602, 20140603, 20140604, 20140605, 20140606, 20140609, 20140610, 20140611, 20140612, 20140613, 20140616, 20140617, 20140618, 20140619, 20140620, 20140623, 20140624, 20140625, 20140626, 20140627, 20140630, 20140701, 20140702, 20140703, 20140707, 20140708, 20140709, 20140710, 20140711, 20140714], \"y\": [-8.5, -8.0, -8.0, -8.5, -7.5, -7.5, -6.75, -6.0, -6.25, -6.5, -4.75, -4.75, -4.5, -3.5, -3.25, -6.25, -5.25, -4.75, -3.75, -3.5, -2.0, -1.5, -2.75, -2.5, -1.75, -2.5, -4.0, -1.75, 1.75, 3.0, 6.0, 8.25, 4.25, 5.75, 5.75, 5.0, 3.25, 2.0, 3.25, 4.0, 2.75, 3.75, 6.75, 5.0, 5.25, 8.25, 9.0, 8.5, 7.0, 4.0, 3.75, 0.75, -0.25, 0.0, 2.5, 2.25, 5.25, 5.75, 6.5, 4.5, 3.75, 3.75, 6.25, 5.0, 4.5, 6.5, 6.75, 9.25, 9.75, 7.5, 5.5, 8.0, 8.0, 4.5, 5.0, 8.75, 7.5, 7.75, 6.5, 3.75, 2.5, 1.5, 1.5, 2.75, 3.25, 2.75, 4.0, 3.0, 6.5, 8.25, 7.0, 4.0, 2.75, 1.75, 1.25, 1.0, 0.5, -0.75, 0.25, -0.5, -1.0, -0.75, 2.0, 3.0, 1.25, 2.0, 2.25, 1.0, -0.5, -4.25, -1.0, 0.0, 0.5, 1.75, 3.0, 4.0, 6.0, 7.75, 15.0, 2.0], \"yaxis\": \"y2\"}],\n",
       "                        {\"autosize\": true, \"hovermode\": \"x\", \"legend\": {\"orientation\": \"h\", \"x\": 0, \"y\": 1.1}, \"margin\": {\"b\": 100}, \"modebar\": {\"bgcolor\": \"grey\", \"orientation\": \"v\"}, \"spikedistance\": 1000, \"template\": {\"data\": {\"bar\": [{\"error_x\": {\"color\": \"#2a3f5f\"}, \"error_y\": {\"color\": \"#2a3f5f\"}, \"marker\": {\"line\": {\"color\": \"#E5ECF6\", \"width\": 0.5}}, \"type\": \"bar\"}], \"barpolar\": [{\"marker\": {\"line\": {\"color\": \"#E5ECF6\", \"width\": 0.5}}, \"type\": \"barpolar\"}], \"carpet\": [{\"aaxis\": {\"endlinecolor\": \"#2a3f5f\", \"gridcolor\": \"white\", \"linecolor\": \"white\", \"minorgridcolor\": \"white\", \"startlinecolor\": \"#2a3f5f\"}, \"baxis\": {\"endlinecolor\": \"#2a3f5f\", \"gridcolor\": \"white\", \"linecolor\": \"white\", \"minorgridcolor\": \"white\", \"startlinecolor\": \"#2a3f5f\"}, \"type\": \"carpet\"}], \"choropleth\": [{\"colorbar\": {\"outlinewidth\": 0, \"ticks\": \"\"}, \"type\": \"choropleth\"}], \"contour\": [{\"colorbar\": {\"outlinewidth\": 0, \"ticks\": \"\"}, \"colorscale\": [[0.0, \"#0d0887\"], [0.1111111111111111, \"#46039f\"], [0.2222222222222222, \"#7201a8\"], [0.3333333333333333, \"#9c179e\"], [0.4444444444444444, \"#bd3786\"], [0.5555555555555556, \"#d8576b\"], [0.6666666666666666, \"#ed7953\"], [0.7777777777777778, \"#fb9f3a\"], [0.8888888888888888, \"#fdca26\"], [1.0, \"#f0f921\"]], \"type\": \"contour\"}], \"contourcarpet\": [{\"colorbar\": {\"outlinewidth\": 0, \"ticks\": \"\"}, \"type\": \"contourcarpet\"}], \"heatmap\": [{\"colorbar\": {\"outlinewidth\": 0, \"ticks\": \"\"}, \"colorscale\": [[0.0, \"#0d0887\"], [0.1111111111111111, \"#46039f\"], [0.2222222222222222, \"#7201a8\"], [0.3333333333333333, \"#9c179e\"], [0.4444444444444444, \"#bd3786\"], [0.5555555555555556, \"#d8576b\"], [0.6666666666666666, \"#ed7953\"], [0.7777777777777778, \"#fb9f3a\"], [0.8888888888888888, \"#fdca26\"], [1.0, \"#f0f921\"]], \"type\": \"heatmap\"}], \"heatmapgl\": [{\"colorbar\": {\"outlinewidth\": 0, \"ticks\": \"\"}, \"colorscale\": [[0.0, \"#0d0887\"], [0.1111111111111111, \"#46039f\"], [0.2222222222222222, \"#7201a8\"], [0.3333333333333333, \"#9c179e\"], [0.4444444444444444, \"#bd3786\"], [0.5555555555555556, \"#d8576b\"], [0.6666666666666666, \"#ed7953\"], [0.7777777777777778, \"#fb9f3a\"], [0.8888888888888888, \"#fdca26\"], [1.0, \"#f0f921\"]], \"type\": \"heatmapgl\"}], \"histogram\": [{\"marker\": {\"colorbar\": {\"outlinewidth\": 0, \"ticks\": \"\"}}, \"type\": \"histogram\"}], \"histogram2d\": [{\"colorbar\": {\"outlinewidth\": 0, \"ticks\": \"\"}, \"colorscale\": [[0.0, \"#0d0887\"], [0.1111111111111111, \"#46039f\"], [0.2222222222222222, \"#7201a8\"], [0.3333333333333333, \"#9c179e\"], [0.4444444444444444, \"#bd3786\"], [0.5555555555555556, \"#d8576b\"], [0.6666666666666666, \"#ed7953\"], [0.7777777777777778, \"#fb9f3a\"], [0.8888888888888888, \"#fdca26\"], [1.0, \"#f0f921\"]], \"type\": \"histogram2d\"}], \"histogram2dcontour\": [{\"colorbar\": {\"outlinewidth\": 0, \"ticks\": \"\"}, \"colorscale\": [[0.0, \"#0d0887\"], [0.1111111111111111, \"#46039f\"], [0.2222222222222222, \"#7201a8\"], [0.3333333333333333, \"#9c179e\"], [0.4444444444444444, \"#bd3786\"], [0.5555555555555556, \"#d8576b\"], [0.6666666666666666, \"#ed7953\"], [0.7777777777777778, \"#fb9f3a\"], [0.8888888888888888, \"#fdca26\"], [1.0, \"#f0f921\"]], \"type\": \"histogram2dcontour\"}], \"mesh3d\": [{\"colorbar\": {\"outlinewidth\": 0, \"ticks\": \"\"}, \"type\": \"mesh3d\"}], \"parcoords\": [{\"line\": {\"colorbar\": {\"outlinewidth\": 0, \"ticks\": \"\"}}, \"type\": \"parcoords\"}], \"pie\": [{\"automargin\": true, \"type\": \"pie\"}], \"scatter\": [{\"marker\": {\"colorbar\": {\"outlinewidth\": 0, \"ticks\": \"\"}}, \"type\": \"scatter\"}], \"scatter3d\": [{\"line\": {\"colorbar\": {\"outlinewidth\": 0, \"ticks\": \"\"}}, \"marker\": {\"colorbar\": {\"outlinewidth\": 0, \"ticks\": \"\"}}, \"type\": \"scatter3d\"}], \"scattercarpet\": [{\"marker\": {\"colorbar\": {\"outlinewidth\": 0, \"ticks\": \"\"}}, \"type\": \"scattercarpet\"}], \"scattergeo\": [{\"marker\": {\"colorbar\": {\"outlinewidth\": 0, \"ticks\": \"\"}}, \"type\": \"scattergeo\"}], \"scattergl\": [{\"marker\": {\"colorbar\": {\"outlinewidth\": 0, \"ticks\": \"\"}}, \"type\": \"scattergl\"}], \"scattermapbox\": [{\"marker\": {\"colorbar\": {\"outlinewidth\": 0, \"ticks\": \"\"}}, \"type\": \"scattermapbox\"}], \"scatterpolar\": [{\"marker\": {\"colorbar\": {\"outlinewidth\": 0, \"ticks\": \"\"}}, \"type\": \"scatterpolar\"}], \"scatterpolargl\": [{\"marker\": {\"colorbar\": {\"outlinewidth\": 0, \"ticks\": \"\"}}, \"type\": \"scatterpolargl\"}], \"scatterternary\": [{\"marker\": {\"colorbar\": {\"outlinewidth\": 0, \"ticks\": \"\"}}, \"type\": \"scatterternary\"}], \"surface\": [{\"colorbar\": {\"outlinewidth\": 0, \"ticks\": \"\"}, \"colorscale\": [[0.0, \"#0d0887\"], [0.1111111111111111, \"#46039f\"], [0.2222222222222222, \"#7201a8\"], [0.3333333333333333, \"#9c179e\"], [0.4444444444444444, \"#bd3786\"], [0.5555555555555556, \"#d8576b\"], [0.6666666666666666, \"#ed7953\"], [0.7777777777777778, \"#fb9f3a\"], [0.8888888888888888, \"#fdca26\"], [1.0, \"#f0f921\"]], \"type\": \"surface\"}], \"table\": [{\"cells\": {\"fill\": {\"color\": \"#EBF0F8\"}, \"line\": {\"color\": \"white\"}}, \"header\": {\"fill\": {\"color\": \"#C8D4E3\"}, \"line\": {\"color\": \"white\"}}, \"type\": \"table\"}]}, \"layout\": {\"annotationdefaults\": {\"arrowcolor\": \"#2a3f5f\", \"arrowhead\": 0, \"arrowwidth\": 1}, \"coloraxis\": {\"colorbar\": {\"outlinewidth\": 0, \"ticks\": \"\"}}, \"colorscale\": {\"diverging\": [[0, \"#8e0152\"], [0.1, \"#c51b7d\"], [0.2, \"#de77ae\"], [0.3, \"#f1b6da\"], [0.4, \"#fde0ef\"], [0.5, \"#f7f7f7\"], [0.6, \"#e6f5d0\"], [0.7, \"#b8e186\"], [0.8, \"#7fbc41\"], [0.9, \"#4d9221\"], [1, \"#276419\"]], \"sequential\": [[0.0, \"#0d0887\"], [0.1111111111111111, \"#46039f\"], [0.2222222222222222, \"#7201a8\"], [0.3333333333333333, \"#9c179e\"], [0.4444444444444444, \"#bd3786\"], [0.5555555555555556, \"#d8576b\"], [0.6666666666666666, \"#ed7953\"], [0.7777777777777778, \"#fb9f3a\"], [0.8888888888888888, \"#fdca26\"], [1.0, \"#f0f921\"]], \"sequentialminus\": [[0.0, \"#0d0887\"], [0.1111111111111111, \"#46039f\"], [0.2222222222222222, \"#7201a8\"], [0.3333333333333333, \"#9c179e\"], [0.4444444444444444, \"#bd3786\"], [0.5555555555555556, \"#d8576b\"], [0.6666666666666666, \"#ed7953\"], [0.7777777777777778, \"#fb9f3a\"], [0.8888888888888888, \"#fdca26\"], [1.0, \"#f0f921\"]]}, \"colorway\": [\"#636efa\", \"#EF553B\", \"#00cc96\", \"#ab63fa\", \"#FFA15A\", \"#19d3f3\", \"#FF6692\", \"#B6E880\", \"#FF97FF\", \"#FECB52\"], \"font\": {\"color\": \"#2a3f5f\"}, \"geo\": {\"bgcolor\": \"white\", \"lakecolor\": \"white\", \"landcolor\": \"#E5ECF6\", \"showlakes\": true, \"showland\": true, \"subunitcolor\": \"white\"}, \"hoverlabel\": {\"align\": \"left\"}, \"hovermode\": \"closest\", \"mapbox\": {\"style\": \"light\"}, \"paper_bgcolor\": \"white\", \"plot_bgcolor\": \"#E5ECF6\", \"polar\": {\"angularaxis\": {\"gridcolor\": \"white\", \"linecolor\": \"white\", \"ticks\": \"\"}, \"bgcolor\": \"#E5ECF6\", \"radialaxis\": {\"gridcolor\": \"white\", \"linecolor\": \"white\", \"ticks\": \"\"}}, \"scene\": {\"xaxis\": {\"backgroundcolor\": \"#E5ECF6\", \"gridcolor\": \"white\", \"gridwidth\": 2, \"linecolor\": \"white\", \"showbackground\": true, \"ticks\": \"\", \"zerolinecolor\": \"white\"}, \"yaxis\": {\"backgroundcolor\": \"#E5ECF6\", \"gridcolor\": \"white\", \"gridwidth\": 2, \"linecolor\": \"white\", \"showbackground\": true, \"ticks\": \"\", \"zerolinecolor\": \"white\"}, \"zaxis\": {\"backgroundcolor\": \"#E5ECF6\", \"gridcolor\": \"white\", \"gridwidth\": 2, \"linecolor\": \"white\", \"showbackground\": true, \"ticks\": \"\", \"zerolinecolor\": \"white\"}}, \"shapedefaults\": {\"line\": {\"color\": \"#2a3f5f\"}}, \"ternary\": {\"aaxis\": {\"gridcolor\": \"white\", \"linecolor\": \"white\", \"ticks\": \"\"}, \"baxis\": {\"gridcolor\": \"white\", \"linecolor\": \"white\", \"ticks\": \"\"}, \"bgcolor\": \"#E5ECF6\", \"caxis\": {\"gridcolor\": \"white\", \"linecolor\": \"white\", \"ticks\": \"\"}}, \"title\": {\"x\": 0.05}, \"xaxis\": {\"automargin\": true, \"gridcolor\": \"white\", \"linecolor\": \"white\", \"ticks\": \"\", \"title\": {\"standoff\": 15}, \"zerolinecolor\": \"white\", \"zerolinewidth\": 2}, \"yaxis\": {\"automargin\": true, \"gridcolor\": \"white\", \"linecolor\": \"white\", \"ticks\": \"\", \"title\": {\"standoff\": 15}, \"zerolinecolor\": \"white\", \"zerolinewidth\": 2}}}, \"title\": {\"text\": \"ZCN14 ZCZ14\", \"x\": 0.5, \"xanchor\": \"center\", \"y\": 0.9, \"yanchor\": \"top\"}, \"xaxis\": {\"showspikes\": true, \"spikedash\": \"solid\", \"spikemode\": \"toaxis+across\", \"spikethickness\": 1, \"tickangle\": 45, \"ticktext\": [20140122, 20140130, 20140207, 20140218, 20140226, 20140306, 20140314, 20140324, 20140401, 20140409, 20140417, 20140428, 20140506, 20140514, 20140522, 20140602, 20140610, 20140618, 20140626, 20140707], \"tickvals\": [20140122, 20140130, 20140207, 20140218, 20140226, 20140306, 20140314, 20140324, 20140401, 20140409, 20140417, 20140428, 20140506, 20140514, 20140522, 20140602, 20140610, 20140618, 20140626, 20140707], \"type\": \"category\"}, \"yaxis\": {\"showspikes\": true, \"spikedash\": \"solid\", \"spikemode\": \"toaxis+across\", \"spikethickness\": 1, \"title\": {\"text\": \"price\"}}, \"yaxis2\": {\"overlaying\": \"y\", \"side\": \"right\", \"title\": {\"text\": \"spread\"}}},\n",
       "                        {\"responsive\": true}\n",
       "                    ).then(function(){\n",
       "                            \n",
       "var gd = document.getElementById('71abfa1c-4201-40ab-9782-67cf1576768c');\n",
       "var x = new MutationObserver(function (mutations, observer) {{\n",
       "        var display = window.getComputedStyle(gd).display;\n",
       "        if (!display || display === 'none') {{\n",
       "            console.log([gd, 'removed!']);\n",
       "            Plotly.purge(gd);\n",
       "            observer.disconnect();\n",
       "        }}\n",
       "}});\n",
       "\n",
       "// Listen for the removal of the full notebook cells\n",
       "var notebookContainer = gd.closest('#notebook-container');\n",
       "if (notebookContainer) {{\n",
       "    x.observe(notebookContainer, {childList: true});\n",
       "}}\n",
       "\n",
       "// Listen for the clearing of the current output cell\n",
       "var outputEl = gd.closest('.output');\n",
       "if (outputEl) {{\n",
       "    x.observe(outputEl, {childList: true});\n",
       "}}\n",
       "\n",
       "                        })\n",
       "                };\n",
       "                });\n",
       "            </script>\n",
       "        </div>"
      ]
     },
     "metadata": {},
     "output_type": "display_data"
    },
    {
     "data": {
      "application/vnd.plotly.v1+json": {
       "config": {
        "linkText": "Export to plot.ly",
        "plotlyServerURL": "https://plot.ly",
        "showLink": false
       },
       "data": [
        {
         "name": "front",
         "type": "scatter",
         "x": [
          20150122,
          20150123,
          20150126,
          20150127,
          20150128,
          20150129,
          20150130,
          20150202,
          20150203,
          20150204,
          20150205,
          20150206,
          20150209,
          20150210,
          20150211,
          20150212,
          20150213,
          20150217,
          20150218,
          20150219,
          20150220,
          20150223,
          20150224,
          20150225,
          20150226,
          20150227,
          20150302,
          20150303,
          20150304,
          20150305,
          20150306,
          20150309,
          20150310,
          20150311,
          20150312,
          20150313,
          20150316,
          20150317,
          20150318,
          20150319,
          20150320,
          20150323,
          20150324,
          20150325,
          20150326,
          20150327,
          20150330,
          20150331,
          20150401,
          20150402,
          20150406,
          20150407,
          20150408,
          20150409,
          20150410,
          20150413,
          20150414,
          20150415,
          20150416,
          20150417,
          20150420,
          20150421,
          20150422,
          20150423,
          20150424,
          20150427,
          20150428,
          20150429,
          20150430,
          20150501,
          20150504,
          20150505,
          20150506,
          20150507,
          20150508,
          20150511,
          20150512,
          20150513,
          20150514,
          20150515,
          20150518,
          20150519,
          20150520,
          20150521,
          20150522,
          20150526,
          20150527,
          20150528,
          20150529,
          20150601,
          20150602,
          20150603,
          20150604,
          20150605,
          20150608,
          20150609,
          20150610,
          20150611,
          20150612,
          20150615,
          20150616,
          20150617,
          20150618,
          20150619,
          20150622,
          20150623,
          20150624,
          20150625,
          20150626,
          20150629,
          20150630,
          20150701,
          20150702,
          20150706,
          20150707,
          20150708,
          20150709,
          20150710,
          20150713,
          20150714
         ],
         "y": [
          399.25,
          402.75,
          400,
          397,
          389,
          387.75,
          386,
          385.5,
          401,
          399,
          400.5,
          401.5,
          406.75,
          403.75,
          401.25,
          398.25,
          402.75,
          405.5,
          399.5,
          405.25,
          400.5,
          394.5,
          393.5,
          391.75,
          396.5,
          401.25,
          396.25,
          399.25,
          397.5,
          398.25,
          394,
          396.25,
          395.75,
          398.5,
          395.75,
          388,
          387,
          379,
          382.75,
          381.5,
          392.75,
          398,
          401.25,
          403,
          399.25,
          399,
          402.5,
          384.25,
          390,
          394.5,
          393,
          391,
          387.25,
          385.75,
          384.75,
          378,
          381,
          383,
          383.25,
          386.75,
          384.75,
          380,
          379.5,
          376.75,
          369.75,
          364.75,
          364.5,
          367.75,
          366.25,
          363,
          361.25,
          362.75,
          366.75,
          361.5,
          363,
          360.5,
          361,
          362.25,
          368,
          365.5,
          368,
          362,
          360,
          365,
          360,
          355,
          349.5,
          353.5,
          351.5,
          352.25,
          359,
          359,
          363.5,
          360.5,
          365.25,
          365,
          357.25,
          356.5,
          353,
          348.25,
          354,
          359.25,
          358,
          353.25,
          360,
          367.5,
          366.5,
          376.5,
          385,
          383.25,
          414,
          413.75,
          419.75,
          418.5,
          415.75,
          416.25,
          421.25,
          427.25,
          433.5,
          424
         ],
         "yaxis": "y"
        },
        {
         "name": "back",
         "type": "scatter",
         "x": [
          20150122,
          20150123,
          20150126,
          20150127,
          20150128,
          20150129,
          20150130,
          20150202,
          20150203,
          20150204,
          20150205,
          20150206,
          20150209,
          20150210,
          20150211,
          20150212,
          20150213,
          20150217,
          20150218,
          20150219,
          20150220,
          20150223,
          20150224,
          20150225,
          20150226,
          20150227,
          20150302,
          20150303,
          20150304,
          20150305,
          20150306,
          20150309,
          20150310,
          20150311,
          20150312,
          20150313,
          20150316,
          20150317,
          20150318,
          20150319,
          20150320,
          20150323,
          20150324,
          20150325,
          20150326,
          20150327,
          20150330,
          20150331,
          20150401,
          20150402,
          20150406,
          20150407,
          20150408,
          20150409,
          20150410,
          20150413,
          20150414,
          20150415,
          20150416,
          20150417,
          20150420,
          20150421,
          20150422,
          20150423,
          20150424,
          20150427,
          20150428,
          20150429,
          20150430,
          20150501,
          20150504,
          20150505,
          20150506,
          20150507,
          20150508,
          20150511,
          20150512,
          20150513,
          20150514,
          20150515,
          20150518,
          20150519,
          20150520,
          20150521,
          20150522,
          20150526,
          20150527,
          20150528,
          20150529,
          20150601,
          20150602,
          20150603,
          20150604,
          20150605,
          20150608,
          20150609,
          20150610,
          20150611,
          20150612,
          20150615,
          20150616,
          20150617,
          20150618,
          20150619,
          20150622,
          20150623,
          20150624,
          20150625,
          20150626,
          20150629,
          20150630,
          20150701,
          20150702,
          20150706,
          20150707,
          20150708,
          20150709,
          20150710,
          20150713,
          20150714
         ],
         "y": [
          413.25,
          417.25,
          414.25,
          411.25,
          404.25,
          402.75,
          400.75,
          401,
          416.25,
          414.25,
          416,
          416.75,
          421.25,
          418.5,
          415.25,
          413,
          417.5,
          420.5,
          414.5,
          419.75,
          416.25,
          410.5,
          409.75,
          409,
          413.75,
          417.5,
          413.25,
          416.5,
          413.75,
          414,
          410.75,
          412.75,
          412.25,
          414.25,
          411.75,
          404.75,
          404.25,
          396.75,
          400,
          399,
          409.25,
          414.25,
          417.25,
          418,
          414.75,
          414.75,
          418.25,
          400.75,
          406.75,
          410.5,
          409.75,
          407.75,
          404.75,
          403.5,
          402.5,
          396,
          399,
          400.5,
          400.25,
          403.25,
          401.25,
          397.5,
          397.5,
          394.5,
          388.25,
          383.25,
          382.5,
          385.5,
          383.5,
          380.25,
          377.75,
          379,
          382.5,
          377,
          378.25,
          375.5,
          376,
          378.5,
          384.75,
          382.75,
          385.75,
          380.25,
          377.25,
          382.25,
          377.75,
          373.25,
          366.75,
          370,
          368,
          369,
          376,
          376.75,
          381,
          378,
          383.5,
          383,
          375.25,
          374.25,
          369.5,
          363.5,
          370,
          375,
          373.25,
          368.75,
          373.5,
          381.25,
          380.5,
          392.25,
          402,
          402.25,
          431.5,
          431.75,
          437.25,
          435,
          433,
          434.25,
          439,
          445,
          451.75,
          438.75
         ],
         "yaxis": "y"
        },
        {
         "name": "spread",
         "type": "scatter",
         "x": [
          20150122,
          20150123,
          20150126,
          20150127,
          20150128,
          20150129,
          20150130,
          20150202,
          20150203,
          20150204,
          20150205,
          20150206,
          20150209,
          20150210,
          20150211,
          20150212,
          20150213,
          20150217,
          20150218,
          20150219,
          20150220,
          20150223,
          20150224,
          20150225,
          20150226,
          20150227,
          20150302,
          20150303,
          20150304,
          20150305,
          20150306,
          20150309,
          20150310,
          20150311,
          20150312,
          20150313,
          20150316,
          20150317,
          20150318,
          20150319,
          20150320,
          20150323,
          20150324,
          20150325,
          20150326,
          20150327,
          20150330,
          20150331,
          20150401,
          20150402,
          20150406,
          20150407,
          20150408,
          20150409,
          20150410,
          20150413,
          20150414,
          20150415,
          20150416,
          20150417,
          20150420,
          20150421,
          20150422,
          20150423,
          20150424,
          20150427,
          20150428,
          20150429,
          20150430,
          20150501,
          20150504,
          20150505,
          20150506,
          20150507,
          20150508,
          20150511,
          20150512,
          20150513,
          20150514,
          20150515,
          20150518,
          20150519,
          20150520,
          20150521,
          20150522,
          20150526,
          20150527,
          20150528,
          20150529,
          20150601,
          20150602,
          20150603,
          20150604,
          20150605,
          20150608,
          20150609,
          20150610,
          20150611,
          20150612,
          20150615,
          20150616,
          20150617,
          20150618,
          20150619,
          20150622,
          20150623,
          20150624,
          20150625,
          20150626,
          20150629,
          20150630,
          20150701,
          20150702,
          20150706,
          20150707,
          20150708,
          20150709,
          20150710,
          20150713,
          20150714
         ],
         "y": [
          -14,
          -14.5,
          -14.25,
          -14.25,
          -15.25,
          -15,
          -14.75,
          -15.5,
          -15.25,
          -15.25,
          -15.5,
          -15.25,
          -14.5,
          -14.75,
          -14,
          -14.75,
          -14.75,
          -15,
          -15,
          -14.5,
          -15.75,
          -16,
          -16.25,
          -17.25,
          -17.25,
          -16.25,
          -17,
          -17.25,
          -16.25,
          -15.75,
          -16.75,
          -16.5,
          -16.5,
          -15.75,
          -16,
          -16.75,
          -17.25,
          -17.75,
          -17.25,
          -17.5,
          -16.5,
          -16.25,
          -16,
          -15,
          -15.5,
          -15.75,
          -15.75,
          -16.5,
          -16.75,
          -16,
          -16.75,
          -16.75,
          -17.5,
          -17.75,
          -17.75,
          -18,
          -18,
          -17.5,
          -17,
          -16.5,
          -16.5,
          -17.5,
          -18,
          -17.75,
          -18.5,
          -18.5,
          -18,
          -17.75,
          -17.25,
          -17.25,
          -16.5,
          -16.25,
          -15.75,
          -15.5,
          -15.25,
          -15,
          -15,
          -16.25,
          -16.75,
          -17.25,
          -17.75,
          -18.25,
          -17.25,
          -17.25,
          -17.75,
          -18.25,
          -17.25,
          -16.5,
          -16.5,
          -16.75,
          -17,
          -17.75,
          -17.5,
          -17.5,
          -18.25,
          -18,
          -18,
          -17.75,
          -16.5,
          -15.25,
          -16,
          -15.75,
          -15.25,
          -15.5,
          -13.5,
          -13.75,
          -14,
          -15.75,
          -17,
          -19,
          -17.5,
          -18,
          -17.5,
          -16.5,
          -17.25,
          -18,
          -17.75,
          -17.75,
          -18.25,
          -14.75
         ],
         "yaxis": "y2"
        }
       ],
       "layout": {
        "autosize": true,
        "hovermode": "x",
        "legend": {
         "orientation": "h",
         "x": 0,
         "y": 1.1
        },
        "margin": {
         "b": 100
        },
        "modebar": {
         "bgcolor": "grey",
         "orientation": "v"
        },
        "spikedistance": 1000,
        "template": {
         "data": {
          "bar": [
           {
            "error_x": {
             "color": "#2a3f5f"
            },
            "error_y": {
             "color": "#2a3f5f"
            },
            "marker": {
             "line": {
              "color": "#E5ECF6",
              "width": 0.5
             }
            },
            "type": "bar"
           }
          ],
          "barpolar": [
           {
            "marker": {
             "line": {
              "color": "#E5ECF6",
              "width": 0.5
             }
            },
            "type": "barpolar"
           }
          ],
          "carpet": [
           {
            "aaxis": {
             "endlinecolor": "#2a3f5f",
             "gridcolor": "white",
             "linecolor": "white",
             "minorgridcolor": "white",
             "startlinecolor": "#2a3f5f"
            },
            "baxis": {
             "endlinecolor": "#2a3f5f",
             "gridcolor": "white",
             "linecolor": "white",
             "minorgridcolor": "white",
             "startlinecolor": "#2a3f5f"
            },
            "type": "carpet"
           }
          ],
          "choropleth": [
           {
            "colorbar": {
             "outlinewidth": 0,
             "ticks": ""
            },
            "type": "choropleth"
           }
          ],
          "contour": [
           {
            "colorbar": {
             "outlinewidth": 0,
             "ticks": ""
            },
            "colorscale": [
             [
              0,
              "#0d0887"
             ],
             [
              0.1111111111111111,
              "#46039f"
             ],
             [
              0.2222222222222222,
              "#7201a8"
             ],
             [
              0.3333333333333333,
              "#9c179e"
             ],
             [
              0.4444444444444444,
              "#bd3786"
             ],
             [
              0.5555555555555556,
              "#d8576b"
             ],
             [
              0.6666666666666666,
              "#ed7953"
             ],
             [
              0.7777777777777778,
              "#fb9f3a"
             ],
             [
              0.8888888888888888,
              "#fdca26"
             ],
             [
              1,
              "#f0f921"
             ]
            ],
            "type": "contour"
           }
          ],
          "contourcarpet": [
           {
            "colorbar": {
             "outlinewidth": 0,
             "ticks": ""
            },
            "type": "contourcarpet"
           }
          ],
          "heatmap": [
           {
            "colorbar": {
             "outlinewidth": 0,
             "ticks": ""
            },
            "colorscale": [
             [
              0,
              "#0d0887"
             ],
             [
              0.1111111111111111,
              "#46039f"
             ],
             [
              0.2222222222222222,
              "#7201a8"
             ],
             [
              0.3333333333333333,
              "#9c179e"
             ],
             [
              0.4444444444444444,
              "#bd3786"
             ],
             [
              0.5555555555555556,
              "#d8576b"
             ],
             [
              0.6666666666666666,
              "#ed7953"
             ],
             [
              0.7777777777777778,
              "#fb9f3a"
             ],
             [
              0.8888888888888888,
              "#fdca26"
             ],
             [
              1,
              "#f0f921"
             ]
            ],
            "type": "heatmap"
           }
          ],
          "heatmapgl": [
           {
            "colorbar": {
             "outlinewidth": 0,
             "ticks": ""
            },
            "colorscale": [
             [
              0,
              "#0d0887"
             ],
             [
              0.1111111111111111,
              "#46039f"
             ],
             [
              0.2222222222222222,
              "#7201a8"
             ],
             [
              0.3333333333333333,
              "#9c179e"
             ],
             [
              0.4444444444444444,
              "#bd3786"
             ],
             [
              0.5555555555555556,
              "#d8576b"
             ],
             [
              0.6666666666666666,
              "#ed7953"
             ],
             [
              0.7777777777777778,
              "#fb9f3a"
             ],
             [
              0.8888888888888888,
              "#fdca26"
             ],
             [
              1,
              "#f0f921"
             ]
            ],
            "type": "heatmapgl"
           }
          ],
          "histogram": [
           {
            "marker": {
             "colorbar": {
              "outlinewidth": 0,
              "ticks": ""
             }
            },
            "type": "histogram"
           }
          ],
          "histogram2d": [
           {
            "colorbar": {
             "outlinewidth": 0,
             "ticks": ""
            },
            "colorscale": [
             [
              0,
              "#0d0887"
             ],
             [
              0.1111111111111111,
              "#46039f"
             ],
             [
              0.2222222222222222,
              "#7201a8"
             ],
             [
              0.3333333333333333,
              "#9c179e"
             ],
             [
              0.4444444444444444,
              "#bd3786"
             ],
             [
              0.5555555555555556,
              "#d8576b"
             ],
             [
              0.6666666666666666,
              "#ed7953"
             ],
             [
              0.7777777777777778,
              "#fb9f3a"
             ],
             [
              0.8888888888888888,
              "#fdca26"
             ],
             [
              1,
              "#f0f921"
             ]
            ],
            "type": "histogram2d"
           }
          ],
          "histogram2dcontour": [
           {
            "colorbar": {
             "outlinewidth": 0,
             "ticks": ""
            },
            "colorscale": [
             [
              0,
              "#0d0887"
             ],
             [
              0.1111111111111111,
              "#46039f"
             ],
             [
              0.2222222222222222,
              "#7201a8"
             ],
             [
              0.3333333333333333,
              "#9c179e"
             ],
             [
              0.4444444444444444,
              "#bd3786"
             ],
             [
              0.5555555555555556,
              "#d8576b"
             ],
             [
              0.6666666666666666,
              "#ed7953"
             ],
             [
              0.7777777777777778,
              "#fb9f3a"
             ],
             [
              0.8888888888888888,
              "#fdca26"
             ],
             [
              1,
              "#f0f921"
             ]
            ],
            "type": "histogram2dcontour"
           }
          ],
          "mesh3d": [
           {
            "colorbar": {
             "outlinewidth": 0,
             "ticks": ""
            },
            "type": "mesh3d"
           }
          ],
          "parcoords": [
           {
            "line": {
             "colorbar": {
              "outlinewidth": 0,
              "ticks": ""
             }
            },
            "type": "parcoords"
           }
          ],
          "pie": [
           {
            "automargin": true,
            "type": "pie"
           }
          ],
          "scatter": [
           {
            "marker": {
             "colorbar": {
              "outlinewidth": 0,
              "ticks": ""
             }
            },
            "type": "scatter"
           }
          ],
          "scatter3d": [
           {
            "line": {
             "colorbar": {
              "outlinewidth": 0,
              "ticks": ""
             }
            },
            "marker": {
             "colorbar": {
              "outlinewidth": 0,
              "ticks": ""
             }
            },
            "type": "scatter3d"
           }
          ],
          "scattercarpet": [
           {
            "marker": {
             "colorbar": {
              "outlinewidth": 0,
              "ticks": ""
             }
            },
            "type": "scattercarpet"
           }
          ],
          "scattergeo": [
           {
            "marker": {
             "colorbar": {
              "outlinewidth": 0,
              "ticks": ""
             }
            },
            "type": "scattergeo"
           }
          ],
          "scattergl": [
           {
            "marker": {
             "colorbar": {
              "outlinewidth": 0,
              "ticks": ""
             }
            },
            "type": "scattergl"
           }
          ],
          "scattermapbox": [
           {
            "marker": {
             "colorbar": {
              "outlinewidth": 0,
              "ticks": ""
             }
            },
            "type": "scattermapbox"
           }
          ],
          "scatterpolar": [
           {
            "marker": {
             "colorbar": {
              "outlinewidth": 0,
              "ticks": ""
             }
            },
            "type": "scatterpolar"
           }
          ],
          "scatterpolargl": [
           {
            "marker": {
             "colorbar": {
              "outlinewidth": 0,
              "ticks": ""
             }
            },
            "type": "scatterpolargl"
           }
          ],
          "scatterternary": [
           {
            "marker": {
             "colorbar": {
              "outlinewidth": 0,
              "ticks": ""
             }
            },
            "type": "scatterternary"
           }
          ],
          "surface": [
           {
            "colorbar": {
             "outlinewidth": 0,
             "ticks": ""
            },
            "colorscale": [
             [
              0,
              "#0d0887"
             ],
             [
              0.1111111111111111,
              "#46039f"
             ],
             [
              0.2222222222222222,
              "#7201a8"
             ],
             [
              0.3333333333333333,
              "#9c179e"
             ],
             [
              0.4444444444444444,
              "#bd3786"
             ],
             [
              0.5555555555555556,
              "#d8576b"
             ],
             [
              0.6666666666666666,
              "#ed7953"
             ],
             [
              0.7777777777777778,
              "#fb9f3a"
             ],
             [
              0.8888888888888888,
              "#fdca26"
             ],
             [
              1,
              "#f0f921"
             ]
            ],
            "type": "surface"
           }
          ],
          "table": [
           {
            "cells": {
             "fill": {
              "color": "#EBF0F8"
             },
             "line": {
              "color": "white"
             }
            },
            "header": {
             "fill": {
              "color": "#C8D4E3"
             },
             "line": {
              "color": "white"
             }
            },
            "type": "table"
           }
          ]
         },
         "layout": {
          "annotationdefaults": {
           "arrowcolor": "#2a3f5f",
           "arrowhead": 0,
           "arrowwidth": 1
          },
          "coloraxis": {
           "colorbar": {
            "outlinewidth": 0,
            "ticks": ""
           }
          },
          "colorscale": {
           "diverging": [
            [
             0,
             "#8e0152"
            ],
            [
             0.1,
             "#c51b7d"
            ],
            [
             0.2,
             "#de77ae"
            ],
            [
             0.3,
             "#f1b6da"
            ],
            [
             0.4,
             "#fde0ef"
            ],
            [
             0.5,
             "#f7f7f7"
            ],
            [
             0.6,
             "#e6f5d0"
            ],
            [
             0.7,
             "#b8e186"
            ],
            [
             0.8,
             "#7fbc41"
            ],
            [
             0.9,
             "#4d9221"
            ],
            [
             1,
             "#276419"
            ]
           ],
           "sequential": [
            [
             0,
             "#0d0887"
            ],
            [
             0.1111111111111111,
             "#46039f"
            ],
            [
             0.2222222222222222,
             "#7201a8"
            ],
            [
             0.3333333333333333,
             "#9c179e"
            ],
            [
             0.4444444444444444,
             "#bd3786"
            ],
            [
             0.5555555555555556,
             "#d8576b"
            ],
            [
             0.6666666666666666,
             "#ed7953"
            ],
            [
             0.7777777777777778,
             "#fb9f3a"
            ],
            [
             0.8888888888888888,
             "#fdca26"
            ],
            [
             1,
             "#f0f921"
            ]
           ],
           "sequentialminus": [
            [
             0,
             "#0d0887"
            ],
            [
             0.1111111111111111,
             "#46039f"
            ],
            [
             0.2222222222222222,
             "#7201a8"
            ],
            [
             0.3333333333333333,
             "#9c179e"
            ],
            [
             0.4444444444444444,
             "#bd3786"
            ],
            [
             0.5555555555555556,
             "#d8576b"
            ],
            [
             0.6666666666666666,
             "#ed7953"
            ],
            [
             0.7777777777777778,
             "#fb9f3a"
            ],
            [
             0.8888888888888888,
             "#fdca26"
            ],
            [
             1,
             "#f0f921"
            ]
           ]
          },
          "colorway": [
           "#636efa",
           "#EF553B",
           "#00cc96",
           "#ab63fa",
           "#FFA15A",
           "#19d3f3",
           "#FF6692",
           "#B6E880",
           "#FF97FF",
           "#FECB52"
          ],
          "font": {
           "color": "#2a3f5f"
          },
          "geo": {
           "bgcolor": "white",
           "lakecolor": "white",
           "landcolor": "#E5ECF6",
           "showlakes": true,
           "showland": true,
           "subunitcolor": "white"
          },
          "hoverlabel": {
           "align": "left"
          },
          "hovermode": "closest",
          "mapbox": {
           "style": "light"
          },
          "paper_bgcolor": "white",
          "plot_bgcolor": "#E5ECF6",
          "polar": {
           "angularaxis": {
            "gridcolor": "white",
            "linecolor": "white",
            "ticks": ""
           },
           "bgcolor": "#E5ECF6",
           "radialaxis": {
            "gridcolor": "white",
            "linecolor": "white",
            "ticks": ""
           }
          },
          "scene": {
           "xaxis": {
            "backgroundcolor": "#E5ECF6",
            "gridcolor": "white",
            "gridwidth": 2,
            "linecolor": "white",
            "showbackground": true,
            "ticks": "",
            "zerolinecolor": "white"
           },
           "yaxis": {
            "backgroundcolor": "#E5ECF6",
            "gridcolor": "white",
            "gridwidth": 2,
            "linecolor": "white",
            "showbackground": true,
            "ticks": "",
            "zerolinecolor": "white"
           },
           "zaxis": {
            "backgroundcolor": "#E5ECF6",
            "gridcolor": "white",
            "gridwidth": 2,
            "linecolor": "white",
            "showbackground": true,
            "ticks": "",
            "zerolinecolor": "white"
           }
          },
          "shapedefaults": {
           "line": {
            "color": "#2a3f5f"
           }
          },
          "ternary": {
           "aaxis": {
            "gridcolor": "white",
            "linecolor": "white",
            "ticks": ""
           },
           "baxis": {
            "gridcolor": "white",
            "linecolor": "white",
            "ticks": ""
           },
           "bgcolor": "#E5ECF6",
           "caxis": {
            "gridcolor": "white",
            "linecolor": "white",
            "ticks": ""
           }
          },
          "title": {
           "x": 0.05
          },
          "xaxis": {
           "automargin": true,
           "gridcolor": "white",
           "linecolor": "white",
           "ticks": "",
           "title": {
            "standoff": 15
           },
           "zerolinecolor": "white",
           "zerolinewidth": 2
          },
          "yaxis": {
           "automargin": true,
           "gridcolor": "white",
           "linecolor": "white",
           "ticks": "",
           "title": {
            "standoff": 15
           },
           "zerolinecolor": "white",
           "zerolinewidth": 2
          }
         }
        },
        "title": {
         "text": "ZCN15 ZCZ15",
         "x": 0.5,
         "xanchor": "center",
         "y": 0.9,
         "yanchor": "top"
        },
        "xaxis": {
         "showspikes": true,
         "spikedash": "solid",
         "spikemode": "toaxis+across",
         "spikethickness": 1,
         "tickangle": 45,
         "ticktext": [
          20150122,
          20150130,
          20150209,
          20150218,
          20150226,
          20150306,
          20150316,
          20150324,
          20150401,
          20150410,
          20150420,
          20150428,
          20150506,
          20150514,
          20150522,
          20150602,
          20150610,
          20150618,
          20150626,
          20150707
         ],
         "tickvals": [
          20150122,
          20150130,
          20150209,
          20150218,
          20150226,
          20150306,
          20150316,
          20150324,
          20150401,
          20150410,
          20150420,
          20150428,
          20150506,
          20150514,
          20150522,
          20150602,
          20150610,
          20150618,
          20150626,
          20150707
         ],
         "type": "category"
        },
        "yaxis": {
         "showspikes": true,
         "spikedash": "solid",
         "spikemode": "toaxis+across",
         "spikethickness": 1,
         "title": {
          "text": "price"
         }
        },
        "yaxis2": {
         "overlaying": "y",
         "side": "right",
         "title": {
          "text": "spread"
         }
        }
       }
      },
      "text/html": [
       "<div>\n",
       "        \n",
       "        \n",
       "            <div id=\"0c4db519-542f-414f-89b1-d461c5fc04f6\" class=\"plotly-graph-div\" style=\"height:525px; width:100%;\"></div>\n",
       "            <script type=\"text/javascript\">\n",
       "                require([\"plotly\"], function(Plotly) {\n",
       "                    window.PLOTLYENV=window.PLOTLYENV || {};\n",
       "                    \n",
       "                if (document.getElementById(\"0c4db519-542f-414f-89b1-d461c5fc04f6\")) {\n",
       "                    Plotly.newPlot(\n",
       "                        '0c4db519-542f-414f-89b1-d461c5fc04f6',\n",
       "                        [{\"name\": \"front\", \"type\": \"scatter\", \"x\": [20150122, 20150123, 20150126, 20150127, 20150128, 20150129, 20150130, 20150202, 20150203, 20150204, 20150205, 20150206, 20150209, 20150210, 20150211, 20150212, 20150213, 20150217, 20150218, 20150219, 20150220, 20150223, 20150224, 20150225, 20150226, 20150227, 20150302, 20150303, 20150304, 20150305, 20150306, 20150309, 20150310, 20150311, 20150312, 20150313, 20150316, 20150317, 20150318, 20150319, 20150320, 20150323, 20150324, 20150325, 20150326, 20150327, 20150330, 20150331, 20150401, 20150402, 20150406, 20150407, 20150408, 20150409, 20150410, 20150413, 20150414, 20150415, 20150416, 20150417, 20150420, 20150421, 20150422, 20150423, 20150424, 20150427, 20150428, 20150429, 20150430, 20150501, 20150504, 20150505, 20150506, 20150507, 20150508, 20150511, 20150512, 20150513, 20150514, 20150515, 20150518, 20150519, 20150520, 20150521, 20150522, 20150526, 20150527, 20150528, 20150529, 20150601, 20150602, 20150603, 20150604, 20150605, 20150608, 20150609, 20150610, 20150611, 20150612, 20150615, 20150616, 20150617, 20150618, 20150619, 20150622, 20150623, 20150624, 20150625, 20150626, 20150629, 20150630, 20150701, 20150702, 20150706, 20150707, 20150708, 20150709, 20150710, 20150713, 20150714], \"y\": [399.25, 402.75, 400.0, 397.0, 389.0, 387.75, 386.0, 385.5, 401.0, 399.0, 400.5, 401.5, 406.75, 403.75, 401.25, 398.25, 402.75, 405.5, 399.5, 405.25, 400.5, 394.5, 393.5, 391.75, 396.5, 401.25, 396.25, 399.25, 397.5, 398.25, 394.0, 396.25, 395.75, 398.5, 395.75, 388.0, 387.0, 379.0, 382.75, 381.5, 392.75, 398.0, 401.25, 403.0, 399.25, 399.0, 402.5, 384.25, 390.0, 394.5, 393.0, 391.0, 387.25, 385.75, 384.75, 378.0, 381.0, 383.0, 383.25, 386.75, 384.75, 380.0, 379.5, 376.75, 369.75, 364.75, 364.5, 367.75, 366.25, 363.0, 361.25, 362.75, 366.75, 361.5, 363.0, 360.5, 361.0, 362.25, 368.0, 365.5, 368.0, 362.0, 360.0, 365.0, 360.0, 355.0, 349.5, 353.5, 351.5, 352.25, 359.0, 359.0, 363.5, 360.5, 365.25, 365.0, 357.25, 356.5, 353.0, 348.25, 354.0, 359.25, 358.0, 353.25, 360.0, 367.5, 366.5, 376.5, 385.0, 383.25, 414.0, 413.75, 419.75, 418.5, 415.75, 416.25, 421.25, 427.25, 433.5, 424.0], \"yaxis\": \"y\"}, {\"name\": \"back\", \"type\": \"scatter\", \"x\": [20150122, 20150123, 20150126, 20150127, 20150128, 20150129, 20150130, 20150202, 20150203, 20150204, 20150205, 20150206, 20150209, 20150210, 20150211, 20150212, 20150213, 20150217, 20150218, 20150219, 20150220, 20150223, 20150224, 20150225, 20150226, 20150227, 20150302, 20150303, 20150304, 20150305, 20150306, 20150309, 20150310, 20150311, 20150312, 20150313, 20150316, 20150317, 20150318, 20150319, 20150320, 20150323, 20150324, 20150325, 20150326, 20150327, 20150330, 20150331, 20150401, 20150402, 20150406, 20150407, 20150408, 20150409, 20150410, 20150413, 20150414, 20150415, 20150416, 20150417, 20150420, 20150421, 20150422, 20150423, 20150424, 20150427, 20150428, 20150429, 20150430, 20150501, 20150504, 20150505, 20150506, 20150507, 20150508, 20150511, 20150512, 20150513, 20150514, 20150515, 20150518, 20150519, 20150520, 20150521, 20150522, 20150526, 20150527, 20150528, 20150529, 20150601, 20150602, 20150603, 20150604, 20150605, 20150608, 20150609, 20150610, 20150611, 20150612, 20150615, 20150616, 20150617, 20150618, 20150619, 20150622, 20150623, 20150624, 20150625, 20150626, 20150629, 20150630, 20150701, 20150702, 20150706, 20150707, 20150708, 20150709, 20150710, 20150713, 20150714], \"y\": [413.25, 417.25, 414.25, 411.25, 404.25, 402.75, 400.75, 401.0, 416.25, 414.25, 416.0, 416.75, 421.25, 418.5, 415.25, 413.0, 417.5, 420.5, 414.5, 419.75, 416.25, 410.5, 409.75, 409.0, 413.75, 417.5, 413.25, 416.5, 413.75, 414.0, 410.75, 412.75, 412.25, 414.25, 411.75, 404.75, 404.25, 396.75, 400.0, 399.0, 409.25, 414.25, 417.25, 418.0, 414.75, 414.75, 418.25, 400.75, 406.75, 410.5, 409.75, 407.75, 404.75, 403.5, 402.5, 396.0, 399.0, 400.5, 400.25, 403.25, 401.25, 397.5, 397.5, 394.5, 388.25, 383.25, 382.5, 385.5, 383.5, 380.25, 377.75, 379.0, 382.5, 377.0, 378.25, 375.5, 376.0, 378.5, 384.75, 382.75, 385.75, 380.25, 377.25, 382.25, 377.75, 373.25, 366.75, 370.0, 368.0, 369.0, 376.0, 376.75, 381.0, 378.0, 383.5, 383.0, 375.25, 374.25, 369.5, 363.5, 370.0, 375.0, 373.25, 368.75, 373.5, 381.25, 380.5, 392.25, 402.0, 402.25, 431.5, 431.75, 437.25, 435.0, 433.0, 434.25, 439.0, 445.0, 451.75, 438.75], \"yaxis\": \"y\"}, {\"name\": \"spread\", \"type\": \"scatter\", \"x\": [20150122, 20150123, 20150126, 20150127, 20150128, 20150129, 20150130, 20150202, 20150203, 20150204, 20150205, 20150206, 20150209, 20150210, 20150211, 20150212, 20150213, 20150217, 20150218, 20150219, 20150220, 20150223, 20150224, 20150225, 20150226, 20150227, 20150302, 20150303, 20150304, 20150305, 20150306, 20150309, 20150310, 20150311, 20150312, 20150313, 20150316, 20150317, 20150318, 20150319, 20150320, 20150323, 20150324, 20150325, 20150326, 20150327, 20150330, 20150331, 20150401, 20150402, 20150406, 20150407, 20150408, 20150409, 20150410, 20150413, 20150414, 20150415, 20150416, 20150417, 20150420, 20150421, 20150422, 20150423, 20150424, 20150427, 20150428, 20150429, 20150430, 20150501, 20150504, 20150505, 20150506, 20150507, 20150508, 20150511, 20150512, 20150513, 20150514, 20150515, 20150518, 20150519, 20150520, 20150521, 20150522, 20150526, 20150527, 20150528, 20150529, 20150601, 20150602, 20150603, 20150604, 20150605, 20150608, 20150609, 20150610, 20150611, 20150612, 20150615, 20150616, 20150617, 20150618, 20150619, 20150622, 20150623, 20150624, 20150625, 20150626, 20150629, 20150630, 20150701, 20150702, 20150706, 20150707, 20150708, 20150709, 20150710, 20150713, 20150714], \"y\": [-14.0, -14.5, -14.25, -14.25, -15.25, -15.0, -14.75, -15.5, -15.25, -15.25, -15.5, -15.25, -14.5, -14.75, -14.0, -14.75, -14.75, -15.0, -15.0, -14.5, -15.75, -16.0, -16.25, -17.25, -17.25, -16.25, -17.0, -17.25, -16.25, -15.75, -16.75, -16.5, -16.5, -15.75, -16.0, -16.75, -17.25, -17.75, -17.25, -17.5, -16.5, -16.25, -16.0, -15.0, -15.5, -15.75, -15.75, -16.5, -16.75, -16.0, -16.75, -16.75, -17.5, -17.75, -17.75, -18.0, -18.0, -17.5, -17.0, -16.5, -16.5, -17.5, -18.0, -17.75, -18.5, -18.5, -18.0, -17.75, -17.25, -17.25, -16.5, -16.25, -15.75, -15.5, -15.25, -15.0, -15.0, -16.25, -16.75, -17.25, -17.75, -18.25, -17.25, -17.25, -17.75, -18.25, -17.25, -16.5, -16.5, -16.75, -17.0, -17.75, -17.5, -17.5, -18.25, -18.0, -18.0, -17.75, -16.5, -15.25, -16.0, -15.75, -15.25, -15.5, -13.5, -13.75, -14.0, -15.75, -17.0, -19.0, -17.5, -18.0, -17.5, -16.5, -17.25, -18.0, -17.75, -17.75, -18.25, -14.75], \"yaxis\": \"y2\"}],\n",
       "                        {\"autosize\": true, \"hovermode\": \"x\", \"legend\": {\"orientation\": \"h\", \"x\": 0, \"y\": 1.1}, \"margin\": {\"b\": 100}, \"modebar\": {\"bgcolor\": \"grey\", \"orientation\": \"v\"}, \"spikedistance\": 1000, \"template\": {\"data\": {\"bar\": [{\"error_x\": {\"color\": \"#2a3f5f\"}, \"error_y\": {\"color\": \"#2a3f5f\"}, \"marker\": {\"line\": {\"color\": \"#E5ECF6\", \"width\": 0.5}}, \"type\": \"bar\"}], \"barpolar\": [{\"marker\": {\"line\": {\"color\": \"#E5ECF6\", \"width\": 0.5}}, \"type\": \"barpolar\"}], \"carpet\": [{\"aaxis\": {\"endlinecolor\": \"#2a3f5f\", \"gridcolor\": \"white\", \"linecolor\": \"white\", \"minorgridcolor\": \"white\", \"startlinecolor\": \"#2a3f5f\"}, \"baxis\": {\"endlinecolor\": \"#2a3f5f\", \"gridcolor\": \"white\", \"linecolor\": \"white\", \"minorgridcolor\": \"white\", \"startlinecolor\": \"#2a3f5f\"}, \"type\": \"carpet\"}], \"choropleth\": [{\"colorbar\": {\"outlinewidth\": 0, \"ticks\": \"\"}, \"type\": \"choropleth\"}], \"contour\": [{\"colorbar\": {\"outlinewidth\": 0, \"ticks\": \"\"}, \"colorscale\": [[0.0, \"#0d0887\"], [0.1111111111111111, \"#46039f\"], [0.2222222222222222, \"#7201a8\"], [0.3333333333333333, \"#9c179e\"], [0.4444444444444444, \"#bd3786\"], [0.5555555555555556, \"#d8576b\"], [0.6666666666666666, \"#ed7953\"], [0.7777777777777778, \"#fb9f3a\"], [0.8888888888888888, \"#fdca26\"], [1.0, \"#f0f921\"]], \"type\": \"contour\"}], \"contourcarpet\": [{\"colorbar\": {\"outlinewidth\": 0, \"ticks\": \"\"}, \"type\": \"contourcarpet\"}], \"heatmap\": [{\"colorbar\": {\"outlinewidth\": 0, \"ticks\": \"\"}, \"colorscale\": [[0.0, \"#0d0887\"], [0.1111111111111111, \"#46039f\"], [0.2222222222222222, \"#7201a8\"], [0.3333333333333333, \"#9c179e\"], [0.4444444444444444, \"#bd3786\"], [0.5555555555555556, \"#d8576b\"], [0.6666666666666666, \"#ed7953\"], [0.7777777777777778, \"#fb9f3a\"], [0.8888888888888888, \"#fdca26\"], [1.0, \"#f0f921\"]], \"type\": \"heatmap\"}], \"heatmapgl\": [{\"colorbar\": {\"outlinewidth\": 0, \"ticks\": \"\"}, \"colorscale\": [[0.0, \"#0d0887\"], [0.1111111111111111, \"#46039f\"], [0.2222222222222222, \"#7201a8\"], [0.3333333333333333, \"#9c179e\"], [0.4444444444444444, \"#bd3786\"], [0.5555555555555556, \"#d8576b\"], [0.6666666666666666, \"#ed7953\"], [0.7777777777777778, \"#fb9f3a\"], [0.8888888888888888, \"#fdca26\"], [1.0, \"#f0f921\"]], \"type\": \"heatmapgl\"}], \"histogram\": [{\"marker\": {\"colorbar\": {\"outlinewidth\": 0, \"ticks\": \"\"}}, \"type\": \"histogram\"}], \"histogram2d\": [{\"colorbar\": {\"outlinewidth\": 0, \"ticks\": \"\"}, \"colorscale\": [[0.0, \"#0d0887\"], [0.1111111111111111, \"#46039f\"], [0.2222222222222222, \"#7201a8\"], [0.3333333333333333, \"#9c179e\"], [0.4444444444444444, \"#bd3786\"], [0.5555555555555556, \"#d8576b\"], [0.6666666666666666, \"#ed7953\"], [0.7777777777777778, \"#fb9f3a\"], [0.8888888888888888, \"#fdca26\"], [1.0, \"#f0f921\"]], \"type\": \"histogram2d\"}], \"histogram2dcontour\": [{\"colorbar\": {\"outlinewidth\": 0, \"ticks\": \"\"}, \"colorscale\": [[0.0, \"#0d0887\"], [0.1111111111111111, \"#46039f\"], [0.2222222222222222, \"#7201a8\"], [0.3333333333333333, \"#9c179e\"], [0.4444444444444444, \"#bd3786\"], [0.5555555555555556, \"#d8576b\"], [0.6666666666666666, \"#ed7953\"], [0.7777777777777778, \"#fb9f3a\"], [0.8888888888888888, \"#fdca26\"], [1.0, \"#f0f921\"]], \"type\": \"histogram2dcontour\"}], \"mesh3d\": [{\"colorbar\": {\"outlinewidth\": 0, \"ticks\": \"\"}, \"type\": \"mesh3d\"}], \"parcoords\": [{\"line\": {\"colorbar\": {\"outlinewidth\": 0, \"ticks\": \"\"}}, \"type\": \"parcoords\"}], \"pie\": [{\"automargin\": true, \"type\": \"pie\"}], \"scatter\": [{\"marker\": {\"colorbar\": {\"outlinewidth\": 0, \"ticks\": \"\"}}, \"type\": \"scatter\"}], \"scatter3d\": [{\"line\": {\"colorbar\": {\"outlinewidth\": 0, \"ticks\": \"\"}}, \"marker\": {\"colorbar\": {\"outlinewidth\": 0, \"ticks\": \"\"}}, \"type\": \"scatter3d\"}], \"scattercarpet\": [{\"marker\": {\"colorbar\": {\"outlinewidth\": 0, \"ticks\": \"\"}}, \"type\": \"scattercarpet\"}], \"scattergeo\": [{\"marker\": {\"colorbar\": {\"outlinewidth\": 0, \"ticks\": \"\"}}, \"type\": \"scattergeo\"}], \"scattergl\": [{\"marker\": {\"colorbar\": {\"outlinewidth\": 0, \"ticks\": \"\"}}, \"type\": \"scattergl\"}], \"scattermapbox\": [{\"marker\": {\"colorbar\": {\"outlinewidth\": 0, \"ticks\": \"\"}}, \"type\": \"scattermapbox\"}], \"scatterpolar\": [{\"marker\": {\"colorbar\": {\"outlinewidth\": 0, \"ticks\": \"\"}}, \"type\": \"scatterpolar\"}], \"scatterpolargl\": [{\"marker\": {\"colorbar\": {\"outlinewidth\": 0, \"ticks\": \"\"}}, \"type\": \"scatterpolargl\"}], \"scatterternary\": [{\"marker\": {\"colorbar\": {\"outlinewidth\": 0, \"ticks\": \"\"}}, \"type\": \"scatterternary\"}], \"surface\": [{\"colorbar\": {\"outlinewidth\": 0, \"ticks\": \"\"}, \"colorscale\": [[0.0, \"#0d0887\"], [0.1111111111111111, \"#46039f\"], [0.2222222222222222, \"#7201a8\"], [0.3333333333333333, \"#9c179e\"], [0.4444444444444444, \"#bd3786\"], [0.5555555555555556, \"#d8576b\"], [0.6666666666666666, \"#ed7953\"], [0.7777777777777778, \"#fb9f3a\"], [0.8888888888888888, \"#fdca26\"], [1.0, \"#f0f921\"]], \"type\": \"surface\"}], \"table\": [{\"cells\": {\"fill\": {\"color\": \"#EBF0F8\"}, \"line\": {\"color\": \"white\"}}, \"header\": {\"fill\": {\"color\": \"#C8D4E3\"}, \"line\": {\"color\": \"white\"}}, \"type\": \"table\"}]}, \"layout\": {\"annotationdefaults\": {\"arrowcolor\": \"#2a3f5f\", \"arrowhead\": 0, \"arrowwidth\": 1}, \"coloraxis\": {\"colorbar\": {\"outlinewidth\": 0, \"ticks\": \"\"}}, \"colorscale\": {\"diverging\": [[0, \"#8e0152\"], [0.1, \"#c51b7d\"], [0.2, \"#de77ae\"], [0.3, \"#f1b6da\"], [0.4, \"#fde0ef\"], [0.5, \"#f7f7f7\"], [0.6, \"#e6f5d0\"], [0.7, \"#b8e186\"], [0.8, \"#7fbc41\"], [0.9, \"#4d9221\"], [1, \"#276419\"]], \"sequential\": [[0.0, \"#0d0887\"], [0.1111111111111111, \"#46039f\"], [0.2222222222222222, \"#7201a8\"], [0.3333333333333333, \"#9c179e\"], [0.4444444444444444, \"#bd3786\"], [0.5555555555555556, \"#d8576b\"], [0.6666666666666666, \"#ed7953\"], [0.7777777777777778, \"#fb9f3a\"], [0.8888888888888888, \"#fdca26\"], [1.0, \"#f0f921\"]], \"sequentialminus\": [[0.0, \"#0d0887\"], [0.1111111111111111, \"#46039f\"], [0.2222222222222222, \"#7201a8\"], [0.3333333333333333, \"#9c179e\"], [0.4444444444444444, \"#bd3786\"], [0.5555555555555556, \"#d8576b\"], [0.6666666666666666, \"#ed7953\"], [0.7777777777777778, \"#fb9f3a\"], [0.8888888888888888, \"#fdca26\"], [1.0, \"#f0f921\"]]}, \"colorway\": [\"#636efa\", \"#EF553B\", \"#00cc96\", \"#ab63fa\", \"#FFA15A\", \"#19d3f3\", \"#FF6692\", \"#B6E880\", \"#FF97FF\", \"#FECB52\"], \"font\": {\"color\": \"#2a3f5f\"}, \"geo\": {\"bgcolor\": \"white\", \"lakecolor\": \"white\", \"landcolor\": \"#E5ECF6\", \"showlakes\": true, \"showland\": true, \"subunitcolor\": \"white\"}, \"hoverlabel\": {\"align\": \"left\"}, \"hovermode\": \"closest\", \"mapbox\": {\"style\": \"light\"}, \"paper_bgcolor\": \"white\", \"plot_bgcolor\": \"#E5ECF6\", \"polar\": {\"angularaxis\": {\"gridcolor\": \"white\", \"linecolor\": \"white\", \"ticks\": \"\"}, \"bgcolor\": \"#E5ECF6\", \"radialaxis\": {\"gridcolor\": \"white\", \"linecolor\": \"white\", \"ticks\": \"\"}}, \"scene\": {\"xaxis\": {\"backgroundcolor\": \"#E5ECF6\", \"gridcolor\": \"white\", \"gridwidth\": 2, \"linecolor\": \"white\", \"showbackground\": true, \"ticks\": \"\", \"zerolinecolor\": \"white\"}, \"yaxis\": {\"backgroundcolor\": \"#E5ECF6\", \"gridcolor\": \"white\", \"gridwidth\": 2, \"linecolor\": \"white\", \"showbackground\": true, \"ticks\": \"\", \"zerolinecolor\": \"white\"}, \"zaxis\": {\"backgroundcolor\": \"#E5ECF6\", \"gridcolor\": \"white\", \"gridwidth\": 2, \"linecolor\": \"white\", \"showbackground\": true, \"ticks\": \"\", \"zerolinecolor\": \"white\"}}, \"shapedefaults\": {\"line\": {\"color\": \"#2a3f5f\"}}, \"ternary\": {\"aaxis\": {\"gridcolor\": \"white\", \"linecolor\": \"white\", \"ticks\": \"\"}, \"baxis\": {\"gridcolor\": \"white\", \"linecolor\": \"white\", \"ticks\": \"\"}, \"bgcolor\": \"#E5ECF6\", \"caxis\": {\"gridcolor\": \"white\", \"linecolor\": \"white\", \"ticks\": \"\"}}, \"title\": {\"x\": 0.05}, \"xaxis\": {\"automargin\": true, \"gridcolor\": \"white\", \"linecolor\": \"white\", \"ticks\": \"\", \"title\": {\"standoff\": 15}, \"zerolinecolor\": \"white\", \"zerolinewidth\": 2}, \"yaxis\": {\"automargin\": true, \"gridcolor\": \"white\", \"linecolor\": \"white\", \"ticks\": \"\", \"title\": {\"standoff\": 15}, \"zerolinecolor\": \"white\", \"zerolinewidth\": 2}}}, \"title\": {\"text\": \"ZCN15 ZCZ15\", \"x\": 0.5, \"xanchor\": \"center\", \"y\": 0.9, \"yanchor\": \"top\"}, \"xaxis\": {\"showspikes\": true, \"spikedash\": \"solid\", \"spikemode\": \"toaxis+across\", \"spikethickness\": 1, \"tickangle\": 45, \"ticktext\": [20150122, 20150130, 20150209, 20150218, 20150226, 20150306, 20150316, 20150324, 20150401, 20150410, 20150420, 20150428, 20150506, 20150514, 20150522, 20150602, 20150610, 20150618, 20150626, 20150707], \"tickvals\": [20150122, 20150130, 20150209, 20150218, 20150226, 20150306, 20150316, 20150324, 20150401, 20150410, 20150420, 20150428, 20150506, 20150514, 20150522, 20150602, 20150610, 20150618, 20150626, 20150707], \"type\": \"category\"}, \"yaxis\": {\"showspikes\": true, \"spikedash\": \"solid\", \"spikemode\": \"toaxis+across\", \"spikethickness\": 1, \"title\": {\"text\": \"price\"}}, \"yaxis2\": {\"overlaying\": \"y\", \"side\": \"right\", \"title\": {\"text\": \"spread\"}}},\n",
       "                        {\"responsive\": true}\n",
       "                    ).then(function(){\n",
       "                            \n",
       "var gd = document.getElementById('0c4db519-542f-414f-89b1-d461c5fc04f6');\n",
       "var x = new MutationObserver(function (mutations, observer) {{\n",
       "        var display = window.getComputedStyle(gd).display;\n",
       "        if (!display || display === 'none') {{\n",
       "            console.log([gd, 'removed!']);\n",
       "            Plotly.purge(gd);\n",
       "            observer.disconnect();\n",
       "        }}\n",
       "}});\n",
       "\n",
       "// Listen for the removal of the full notebook cells\n",
       "var notebookContainer = gd.closest('#notebook-container');\n",
       "if (notebookContainer) {{\n",
       "    x.observe(notebookContainer, {childList: true});\n",
       "}}\n",
       "\n",
       "// Listen for the clearing of the current output cell\n",
       "var outputEl = gd.closest('.output');\n",
       "if (outputEl) {{\n",
       "    x.observe(outputEl, {childList: true});\n",
       "}}\n",
       "\n",
       "                        })\n",
       "                };\n",
       "                });\n",
       "            </script>\n",
       "        </div>"
      ]
     },
     "metadata": {},
     "output_type": "display_data"
    },
    {
     "data": {
      "application/vnd.plotly.v1+json": {
       "config": {
        "linkText": "Export to plot.ly",
        "plotlyServerURL": "https://plot.ly",
        "showLink": false
       },
       "data": [
        {
         "name": "front",
         "type": "scatter",
         "x": [
          20160125,
          20160126,
          20160127,
          20160128,
          20160129,
          20160201,
          20160202,
          20160203,
          20160204,
          20160205,
          20160208,
          20160209,
          20160210,
          20160211,
          20160212,
          20160216,
          20160217,
          20160218,
          20160219,
          20160222,
          20160223,
          20160224,
          20160225,
          20160226,
          20160229,
          20160301,
          20160302,
          20160303,
          20160304,
          20160307,
          20160308,
          20160309,
          20160310,
          20160311,
          20160314,
          20160315,
          20160316,
          20160317,
          20160318,
          20160321,
          20160322,
          20160323,
          20160324,
          20160328,
          20160329,
          20160330,
          20160331,
          20160401,
          20160404,
          20160405,
          20160406,
          20160407,
          20160408,
          20160411,
          20160412,
          20160413,
          20160414,
          20160415,
          20160418,
          20160419,
          20160420,
          20160421,
          20160422,
          20160425,
          20160426,
          20160427,
          20160428,
          20160429,
          20160502,
          20160503,
          20160504,
          20160505,
          20160506,
          20160509,
          20160510,
          20160511,
          20160512,
          20160513,
          20160516,
          20160517,
          20160518,
          20160519,
          20160520,
          20160523,
          20160524,
          20160525,
          20160526,
          20160527,
          20160531,
          20160601,
          20160602,
          20160603,
          20160606,
          20160607,
          20160608,
          20160609,
          20160610,
          20160613,
          20160614,
          20160615,
          20160616,
          20160617,
          20160620,
          20160621,
          20160622,
          20160623,
          20160624,
          20160627,
          20160628,
          20160629,
          20160630,
          20160701,
          20160705,
          20160706,
          20160707,
          20160708,
          20160711,
          20160712,
          20160713,
          20160714
         ],
         "y": [
          380,
          379.75,
          379,
          375.25,
          381.5,
          380.5,
          382.5,
          381.25,
          378.75,
          376,
          372.25,
          371,
          370.25,
          369.75,
          368.5,
          372.5,
          376,
          373.75,
          373.75,
          377.25,
          372,
          370,
          365.75,
          364.25,
          361.75,
          360.25,
          360.75,
          361.25,
          363.5,
          364.75,
          365.75,
          364.5,
          367.5,
          369.5,
          373.5,
          373.5,
          373.25,
          373,
          371.75,
          374.25,
          374.75,
          373.25,
          374.5,
          374.75,
          377.25,
          371.5,
          355.75,
          357.75,
          357.75,
          360,
          360.75,
          364,
          365,
          359.75,
          365.5,
          377,
          378,
          382,
          385,
          389.5,
          399.75,
          389.75,
          375.5,
          381.75,
          387.25,
          384.75,
          391.25,
          391.75,
          391.75,
          379.75,
          376.75,
          373.75,
          377.5,
          369,
          381,
          377.5,
          389,
          390.75,
          394,
          397,
          399.5,
          390,
          394.5,
          397.75,
          397.5,
          404.75,
          408.25,
          412.75,
          404.75,
          413.75,
          415.25,
          418.25,
          427.25,
          427.75,
          431.25,
          426.5,
          423,
          430,
          436.5,
          429,
          425.25,
          437.75,
          421.25,
          396.25,
          393,
          387.25,
          384.5,
          385.25,
          385.25,
          372.75,
          358.75,
          353,
          344,
          335.75,
          335.5,
          349.75,
          343.75,
          349.75,
          365.75,
          362.25
         ],
         "yaxis": "y"
        },
        {
         "name": "back",
         "type": "scatter",
         "x": [
          20160125,
          20160126,
          20160127,
          20160128,
          20160129,
          20160201,
          20160202,
          20160203,
          20160204,
          20160205,
          20160208,
          20160209,
          20160210,
          20160211,
          20160212,
          20160216,
          20160217,
          20160218,
          20160219,
          20160222,
          20160223,
          20160224,
          20160225,
          20160226,
          20160229,
          20160301,
          20160302,
          20160303,
          20160304,
          20160307,
          20160308,
          20160309,
          20160310,
          20160311,
          20160314,
          20160315,
          20160316,
          20160317,
          20160318,
          20160321,
          20160322,
          20160323,
          20160324,
          20160328,
          20160329,
          20160330,
          20160331,
          20160401,
          20160404,
          20160405,
          20160406,
          20160407,
          20160408,
          20160411,
          20160412,
          20160413,
          20160414,
          20160415,
          20160418,
          20160419,
          20160420,
          20160421,
          20160422,
          20160425,
          20160426,
          20160427,
          20160428,
          20160429,
          20160502,
          20160503,
          20160504,
          20160505,
          20160506,
          20160509,
          20160510,
          20160511,
          20160512,
          20160513,
          20160516,
          20160517,
          20160518,
          20160519,
          20160520,
          20160523,
          20160524,
          20160525,
          20160526,
          20160527,
          20160531,
          20160601,
          20160602,
          20160603,
          20160606,
          20160607,
          20160608,
          20160609,
          20160610,
          20160613,
          20160614,
          20160615,
          20160616,
          20160617,
          20160620,
          20160621,
          20160622,
          20160623,
          20160624,
          20160627,
          20160628,
          20160629,
          20160630,
          20160701,
          20160705,
          20160706,
          20160707,
          20160708,
          20160711,
          20160712,
          20160713,
          20160714
         ],
         "y": [
          392.5,
          391.5,
          390.5,
          387.5,
          393.25,
          392,
          394,
          393,
          391.25,
          389.25,
          385.5,
          384,
          383.5,
          382.75,
          381.75,
          385.75,
          389,
          386.5,
          386.5,
          390.25,
          386,
          383.75,
          379.75,
          378.25,
          375.75,
          373.75,
          374.5,
          375.5,
          378,
          379.5,
          380.5,
          379.25,
          381,
          382.75,
          387,
          387.25,
          386.5,
          387.25,
          385.5,
          387.75,
          387.75,
          386,
          387.25,
          387.5,
          389.5,
          384,
          368.75,
          369.75,
          369,
          371,
          371.5,
          374.25,
          375,
          368.75,
          374.25,
          384,
          385.5,
          388.25,
          390.25,
          396.5,
          402.75,
          393.5,
          381,
          387.75,
          394.5,
          390.5,
          394.5,
          395.25,
          396.5,
          387,
          385,
          381.5,
          384.75,
          377,
          387.75,
          385.5,
          396.25,
          398.25,
          400,
          403.75,
          406,
          397.25,
          399.75,
          402.75,
          402.75,
          408.5,
          409.75,
          413.5,
          408.5,
          416.25,
          416.75,
          419.75,
          430,
          433.25,
          437,
          433.5,
          430.75,
          440,
          446.5,
          439.5,
          435.75,
          448.75,
          433.75,
          408.75,
          404,
          397.75,
          394.25,
          394.25,
          394.25,
          383,
          371.25,
          367,
          358,
          348.25,
          348.5,
          362.5,
          355.5,
          360.25,
          369.75,
          364.75
         ],
         "yaxis": "y"
        },
        {
         "name": "spread",
         "type": "scatter",
         "x": [
          20160125,
          20160126,
          20160127,
          20160128,
          20160129,
          20160201,
          20160202,
          20160203,
          20160204,
          20160205,
          20160208,
          20160209,
          20160210,
          20160211,
          20160212,
          20160216,
          20160217,
          20160218,
          20160219,
          20160222,
          20160223,
          20160224,
          20160225,
          20160226,
          20160229,
          20160301,
          20160302,
          20160303,
          20160304,
          20160307,
          20160308,
          20160309,
          20160310,
          20160311,
          20160314,
          20160315,
          20160316,
          20160317,
          20160318,
          20160321,
          20160322,
          20160323,
          20160324,
          20160328,
          20160329,
          20160330,
          20160331,
          20160401,
          20160404,
          20160405,
          20160406,
          20160407,
          20160408,
          20160411,
          20160412,
          20160413,
          20160414,
          20160415,
          20160418,
          20160419,
          20160420,
          20160421,
          20160422,
          20160425,
          20160426,
          20160427,
          20160428,
          20160429,
          20160502,
          20160503,
          20160504,
          20160505,
          20160506,
          20160509,
          20160510,
          20160511,
          20160512,
          20160513,
          20160516,
          20160517,
          20160518,
          20160519,
          20160520,
          20160523,
          20160524,
          20160525,
          20160526,
          20160527,
          20160531,
          20160601,
          20160602,
          20160603,
          20160606,
          20160607,
          20160608,
          20160609,
          20160610,
          20160613,
          20160614,
          20160615,
          20160616,
          20160617,
          20160620,
          20160621,
          20160622,
          20160623,
          20160624,
          20160627,
          20160628,
          20160629,
          20160630,
          20160701,
          20160705,
          20160706,
          20160707,
          20160708,
          20160711,
          20160712,
          20160713,
          20160714
         ],
         "y": [
          -12.5,
          -11.75,
          -11.5,
          -12.25,
          -11.75,
          -11.5,
          -11.5,
          -11.75,
          -12.5,
          -13.25,
          -13.25,
          -13,
          -13.25,
          -13,
          -13.25,
          -13.25,
          -13,
          -12.75,
          -12.75,
          -13,
          -14,
          -13.75,
          -14,
          -14,
          -14,
          -13.5,
          -13.75,
          -14.25,
          -14.5,
          -14.75,
          -14.75,
          -14.75,
          -13.5,
          -13.25,
          -13.5,
          -13.75,
          -13.25,
          -14.25,
          -13.75,
          -13.5,
          -13,
          -12.75,
          -12.75,
          -12.75,
          -12.25,
          -12.5,
          -13,
          -12,
          -11.25,
          -11,
          -10.75,
          -10.25,
          -10,
          -9,
          -8.75,
          -7,
          -7.5,
          -6.25,
          -5.25,
          -7,
          -3,
          -3.75,
          -5.5,
          -6,
          -7.25,
          -5.75,
          -3.25,
          -3.5,
          -4.75,
          -7.25,
          -8.25,
          -7.75,
          -7.25,
          -8,
          -6.75,
          -8,
          -7.25,
          -7.5,
          -6,
          -6.75,
          -6.5,
          -7.25,
          -5.25,
          -5,
          -5.25,
          -3.75,
          -1.5,
          -0.75,
          -3.75,
          -2.5,
          -1.5,
          -1.5,
          -2.75,
          -5.5,
          -5.75,
          -7,
          -7.75,
          -10,
          -10,
          -10.5,
          -10.5,
          -11,
          -12.5,
          -12.5,
          -11,
          -10.5,
          -9.75,
          -9,
          -9,
          -10.25,
          -12.5,
          -14,
          -14,
          -12.5,
          -13,
          -12.75,
          -11.75,
          -10.5,
          -4,
          -2.5
         ],
         "yaxis": "y2"
        }
       ],
       "layout": {
        "autosize": true,
        "hovermode": "x",
        "legend": {
         "orientation": "h",
         "x": 0,
         "y": 1.1
        },
        "margin": {
         "b": 100
        },
        "modebar": {
         "bgcolor": "grey",
         "orientation": "v"
        },
        "spikedistance": 1000,
        "template": {
         "data": {
          "bar": [
           {
            "error_x": {
             "color": "#2a3f5f"
            },
            "error_y": {
             "color": "#2a3f5f"
            },
            "marker": {
             "line": {
              "color": "#E5ECF6",
              "width": 0.5
             }
            },
            "type": "bar"
           }
          ],
          "barpolar": [
           {
            "marker": {
             "line": {
              "color": "#E5ECF6",
              "width": 0.5
             }
            },
            "type": "barpolar"
           }
          ],
          "carpet": [
           {
            "aaxis": {
             "endlinecolor": "#2a3f5f",
             "gridcolor": "white",
             "linecolor": "white",
             "minorgridcolor": "white",
             "startlinecolor": "#2a3f5f"
            },
            "baxis": {
             "endlinecolor": "#2a3f5f",
             "gridcolor": "white",
             "linecolor": "white",
             "minorgridcolor": "white",
             "startlinecolor": "#2a3f5f"
            },
            "type": "carpet"
           }
          ],
          "choropleth": [
           {
            "colorbar": {
             "outlinewidth": 0,
             "ticks": ""
            },
            "type": "choropleth"
           }
          ],
          "contour": [
           {
            "colorbar": {
             "outlinewidth": 0,
             "ticks": ""
            },
            "colorscale": [
             [
              0,
              "#0d0887"
             ],
             [
              0.1111111111111111,
              "#46039f"
             ],
             [
              0.2222222222222222,
              "#7201a8"
             ],
             [
              0.3333333333333333,
              "#9c179e"
             ],
             [
              0.4444444444444444,
              "#bd3786"
             ],
             [
              0.5555555555555556,
              "#d8576b"
             ],
             [
              0.6666666666666666,
              "#ed7953"
             ],
             [
              0.7777777777777778,
              "#fb9f3a"
             ],
             [
              0.8888888888888888,
              "#fdca26"
             ],
             [
              1,
              "#f0f921"
             ]
            ],
            "type": "contour"
           }
          ],
          "contourcarpet": [
           {
            "colorbar": {
             "outlinewidth": 0,
             "ticks": ""
            },
            "type": "contourcarpet"
           }
          ],
          "heatmap": [
           {
            "colorbar": {
             "outlinewidth": 0,
             "ticks": ""
            },
            "colorscale": [
             [
              0,
              "#0d0887"
             ],
             [
              0.1111111111111111,
              "#46039f"
             ],
             [
              0.2222222222222222,
              "#7201a8"
             ],
             [
              0.3333333333333333,
              "#9c179e"
             ],
             [
              0.4444444444444444,
              "#bd3786"
             ],
             [
              0.5555555555555556,
              "#d8576b"
             ],
             [
              0.6666666666666666,
              "#ed7953"
             ],
             [
              0.7777777777777778,
              "#fb9f3a"
             ],
             [
              0.8888888888888888,
              "#fdca26"
             ],
             [
              1,
              "#f0f921"
             ]
            ],
            "type": "heatmap"
           }
          ],
          "heatmapgl": [
           {
            "colorbar": {
             "outlinewidth": 0,
             "ticks": ""
            },
            "colorscale": [
             [
              0,
              "#0d0887"
             ],
             [
              0.1111111111111111,
              "#46039f"
             ],
             [
              0.2222222222222222,
              "#7201a8"
             ],
             [
              0.3333333333333333,
              "#9c179e"
             ],
             [
              0.4444444444444444,
              "#bd3786"
             ],
             [
              0.5555555555555556,
              "#d8576b"
             ],
             [
              0.6666666666666666,
              "#ed7953"
             ],
             [
              0.7777777777777778,
              "#fb9f3a"
             ],
             [
              0.8888888888888888,
              "#fdca26"
             ],
             [
              1,
              "#f0f921"
             ]
            ],
            "type": "heatmapgl"
           }
          ],
          "histogram": [
           {
            "marker": {
             "colorbar": {
              "outlinewidth": 0,
              "ticks": ""
             }
            },
            "type": "histogram"
           }
          ],
          "histogram2d": [
           {
            "colorbar": {
             "outlinewidth": 0,
             "ticks": ""
            },
            "colorscale": [
             [
              0,
              "#0d0887"
             ],
             [
              0.1111111111111111,
              "#46039f"
             ],
             [
              0.2222222222222222,
              "#7201a8"
             ],
             [
              0.3333333333333333,
              "#9c179e"
             ],
             [
              0.4444444444444444,
              "#bd3786"
             ],
             [
              0.5555555555555556,
              "#d8576b"
             ],
             [
              0.6666666666666666,
              "#ed7953"
             ],
             [
              0.7777777777777778,
              "#fb9f3a"
             ],
             [
              0.8888888888888888,
              "#fdca26"
             ],
             [
              1,
              "#f0f921"
             ]
            ],
            "type": "histogram2d"
           }
          ],
          "histogram2dcontour": [
           {
            "colorbar": {
             "outlinewidth": 0,
             "ticks": ""
            },
            "colorscale": [
             [
              0,
              "#0d0887"
             ],
             [
              0.1111111111111111,
              "#46039f"
             ],
             [
              0.2222222222222222,
              "#7201a8"
             ],
             [
              0.3333333333333333,
              "#9c179e"
             ],
             [
              0.4444444444444444,
              "#bd3786"
             ],
             [
              0.5555555555555556,
              "#d8576b"
             ],
             [
              0.6666666666666666,
              "#ed7953"
             ],
             [
              0.7777777777777778,
              "#fb9f3a"
             ],
             [
              0.8888888888888888,
              "#fdca26"
             ],
             [
              1,
              "#f0f921"
             ]
            ],
            "type": "histogram2dcontour"
           }
          ],
          "mesh3d": [
           {
            "colorbar": {
             "outlinewidth": 0,
             "ticks": ""
            },
            "type": "mesh3d"
           }
          ],
          "parcoords": [
           {
            "line": {
             "colorbar": {
              "outlinewidth": 0,
              "ticks": ""
             }
            },
            "type": "parcoords"
           }
          ],
          "pie": [
           {
            "automargin": true,
            "type": "pie"
           }
          ],
          "scatter": [
           {
            "marker": {
             "colorbar": {
              "outlinewidth": 0,
              "ticks": ""
             }
            },
            "type": "scatter"
           }
          ],
          "scatter3d": [
           {
            "line": {
             "colorbar": {
              "outlinewidth": 0,
              "ticks": ""
             }
            },
            "marker": {
             "colorbar": {
              "outlinewidth": 0,
              "ticks": ""
             }
            },
            "type": "scatter3d"
           }
          ],
          "scattercarpet": [
           {
            "marker": {
             "colorbar": {
              "outlinewidth": 0,
              "ticks": ""
             }
            },
            "type": "scattercarpet"
           }
          ],
          "scattergeo": [
           {
            "marker": {
             "colorbar": {
              "outlinewidth": 0,
              "ticks": ""
             }
            },
            "type": "scattergeo"
           }
          ],
          "scattergl": [
           {
            "marker": {
             "colorbar": {
              "outlinewidth": 0,
              "ticks": ""
             }
            },
            "type": "scattergl"
           }
          ],
          "scattermapbox": [
           {
            "marker": {
             "colorbar": {
              "outlinewidth": 0,
              "ticks": ""
             }
            },
            "type": "scattermapbox"
           }
          ],
          "scatterpolar": [
           {
            "marker": {
             "colorbar": {
              "outlinewidth": 0,
              "ticks": ""
             }
            },
            "type": "scatterpolar"
           }
          ],
          "scatterpolargl": [
           {
            "marker": {
             "colorbar": {
              "outlinewidth": 0,
              "ticks": ""
             }
            },
            "type": "scatterpolargl"
           }
          ],
          "scatterternary": [
           {
            "marker": {
             "colorbar": {
              "outlinewidth": 0,
              "ticks": ""
             }
            },
            "type": "scatterternary"
           }
          ],
          "surface": [
           {
            "colorbar": {
             "outlinewidth": 0,
             "ticks": ""
            },
            "colorscale": [
             [
              0,
              "#0d0887"
             ],
             [
              0.1111111111111111,
              "#46039f"
             ],
             [
              0.2222222222222222,
              "#7201a8"
             ],
             [
              0.3333333333333333,
              "#9c179e"
             ],
             [
              0.4444444444444444,
              "#bd3786"
             ],
             [
              0.5555555555555556,
              "#d8576b"
             ],
             [
              0.6666666666666666,
              "#ed7953"
             ],
             [
              0.7777777777777778,
              "#fb9f3a"
             ],
             [
              0.8888888888888888,
              "#fdca26"
             ],
             [
              1,
              "#f0f921"
             ]
            ],
            "type": "surface"
           }
          ],
          "table": [
           {
            "cells": {
             "fill": {
              "color": "#EBF0F8"
             },
             "line": {
              "color": "white"
             }
            },
            "header": {
             "fill": {
              "color": "#C8D4E3"
             },
             "line": {
              "color": "white"
             }
            },
            "type": "table"
           }
          ]
         },
         "layout": {
          "annotationdefaults": {
           "arrowcolor": "#2a3f5f",
           "arrowhead": 0,
           "arrowwidth": 1
          },
          "coloraxis": {
           "colorbar": {
            "outlinewidth": 0,
            "ticks": ""
           }
          },
          "colorscale": {
           "diverging": [
            [
             0,
             "#8e0152"
            ],
            [
             0.1,
             "#c51b7d"
            ],
            [
             0.2,
             "#de77ae"
            ],
            [
             0.3,
             "#f1b6da"
            ],
            [
             0.4,
             "#fde0ef"
            ],
            [
             0.5,
             "#f7f7f7"
            ],
            [
             0.6,
             "#e6f5d0"
            ],
            [
             0.7,
             "#b8e186"
            ],
            [
             0.8,
             "#7fbc41"
            ],
            [
             0.9,
             "#4d9221"
            ],
            [
             1,
             "#276419"
            ]
           ],
           "sequential": [
            [
             0,
             "#0d0887"
            ],
            [
             0.1111111111111111,
             "#46039f"
            ],
            [
             0.2222222222222222,
             "#7201a8"
            ],
            [
             0.3333333333333333,
             "#9c179e"
            ],
            [
             0.4444444444444444,
             "#bd3786"
            ],
            [
             0.5555555555555556,
             "#d8576b"
            ],
            [
             0.6666666666666666,
             "#ed7953"
            ],
            [
             0.7777777777777778,
             "#fb9f3a"
            ],
            [
             0.8888888888888888,
             "#fdca26"
            ],
            [
             1,
             "#f0f921"
            ]
           ],
           "sequentialminus": [
            [
             0,
             "#0d0887"
            ],
            [
             0.1111111111111111,
             "#46039f"
            ],
            [
             0.2222222222222222,
             "#7201a8"
            ],
            [
             0.3333333333333333,
             "#9c179e"
            ],
            [
             0.4444444444444444,
             "#bd3786"
            ],
            [
             0.5555555555555556,
             "#d8576b"
            ],
            [
             0.6666666666666666,
             "#ed7953"
            ],
            [
             0.7777777777777778,
             "#fb9f3a"
            ],
            [
             0.8888888888888888,
             "#fdca26"
            ],
            [
             1,
             "#f0f921"
            ]
           ]
          },
          "colorway": [
           "#636efa",
           "#EF553B",
           "#00cc96",
           "#ab63fa",
           "#FFA15A",
           "#19d3f3",
           "#FF6692",
           "#B6E880",
           "#FF97FF",
           "#FECB52"
          ],
          "font": {
           "color": "#2a3f5f"
          },
          "geo": {
           "bgcolor": "white",
           "lakecolor": "white",
           "landcolor": "#E5ECF6",
           "showlakes": true,
           "showland": true,
           "subunitcolor": "white"
          },
          "hoverlabel": {
           "align": "left"
          },
          "hovermode": "closest",
          "mapbox": {
           "style": "light"
          },
          "paper_bgcolor": "white",
          "plot_bgcolor": "#E5ECF6",
          "polar": {
           "angularaxis": {
            "gridcolor": "white",
            "linecolor": "white",
            "ticks": ""
           },
           "bgcolor": "#E5ECF6",
           "radialaxis": {
            "gridcolor": "white",
            "linecolor": "white",
            "ticks": ""
           }
          },
          "scene": {
           "xaxis": {
            "backgroundcolor": "#E5ECF6",
            "gridcolor": "white",
            "gridwidth": 2,
            "linecolor": "white",
            "showbackground": true,
            "ticks": "",
            "zerolinecolor": "white"
           },
           "yaxis": {
            "backgroundcolor": "#E5ECF6",
            "gridcolor": "white",
            "gridwidth": 2,
            "linecolor": "white",
            "showbackground": true,
            "ticks": "",
            "zerolinecolor": "white"
           },
           "zaxis": {
            "backgroundcolor": "#E5ECF6",
            "gridcolor": "white",
            "gridwidth": 2,
            "linecolor": "white",
            "showbackground": true,
            "ticks": "",
            "zerolinecolor": "white"
           }
          },
          "shapedefaults": {
           "line": {
            "color": "#2a3f5f"
           }
          },
          "ternary": {
           "aaxis": {
            "gridcolor": "white",
            "linecolor": "white",
            "ticks": ""
           },
           "baxis": {
            "gridcolor": "white",
            "linecolor": "white",
            "ticks": ""
           },
           "bgcolor": "#E5ECF6",
           "caxis": {
            "gridcolor": "white",
            "linecolor": "white",
            "ticks": ""
           }
          },
          "title": {
           "x": 0.05
          },
          "xaxis": {
           "automargin": true,
           "gridcolor": "white",
           "linecolor": "white",
           "ticks": "",
           "title": {
            "standoff": 15
           },
           "zerolinecolor": "white",
           "zerolinewidth": 2
          },
          "yaxis": {
           "automargin": true,
           "gridcolor": "white",
           "linecolor": "white",
           "ticks": "",
           "title": {
            "standoff": 15
           },
           "zerolinecolor": "white",
           "zerolinewidth": 2
          }
         }
        },
        "title": {
         "text": "ZCN16 ZCZ16",
         "x": 0.5,
         "xanchor": "center",
         "y": 0.9,
         "yanchor": "top"
        },
        "xaxis": {
         "showspikes": true,
         "spikedash": "solid",
         "spikemode": "toaxis+across",
         "spikethickness": 1,
         "tickangle": 45,
         "ticktext": [
          20160125,
          20160202,
          20160210,
          20160219,
          20160229,
          20160308,
          20160316,
          20160324,
          20160404,
          20160412,
          20160420,
          20160428,
          20160506,
          20160516,
          20160524,
          20160602,
          20160610,
          20160620,
          20160628,
          20160707
         ],
         "tickvals": [
          20160125,
          20160202,
          20160210,
          20160219,
          20160229,
          20160308,
          20160316,
          20160324,
          20160404,
          20160412,
          20160420,
          20160428,
          20160506,
          20160516,
          20160524,
          20160602,
          20160610,
          20160620,
          20160628,
          20160707
         ],
         "type": "category"
        },
        "yaxis": {
         "showspikes": true,
         "spikedash": "solid",
         "spikemode": "toaxis+across",
         "spikethickness": 1,
         "title": {
          "text": "price"
         }
        },
        "yaxis2": {
         "overlaying": "y",
         "side": "right",
         "title": {
          "text": "spread"
         }
        }
       }
      },
      "text/html": [
       "<div>\n",
       "        \n",
       "        \n",
       "            <div id=\"1ef73a4c-c499-4ed1-8a28-c55dd6280fa9\" class=\"plotly-graph-div\" style=\"height:525px; width:100%;\"></div>\n",
       "            <script type=\"text/javascript\">\n",
       "                require([\"plotly\"], function(Plotly) {\n",
       "                    window.PLOTLYENV=window.PLOTLYENV || {};\n",
       "                    \n",
       "                if (document.getElementById(\"1ef73a4c-c499-4ed1-8a28-c55dd6280fa9\")) {\n",
       "                    Plotly.newPlot(\n",
       "                        '1ef73a4c-c499-4ed1-8a28-c55dd6280fa9',\n",
       "                        [{\"name\": \"front\", \"type\": \"scatter\", \"x\": [20160125, 20160126, 20160127, 20160128, 20160129, 20160201, 20160202, 20160203, 20160204, 20160205, 20160208, 20160209, 20160210, 20160211, 20160212, 20160216, 20160217, 20160218, 20160219, 20160222, 20160223, 20160224, 20160225, 20160226, 20160229, 20160301, 20160302, 20160303, 20160304, 20160307, 20160308, 20160309, 20160310, 20160311, 20160314, 20160315, 20160316, 20160317, 20160318, 20160321, 20160322, 20160323, 20160324, 20160328, 20160329, 20160330, 20160331, 20160401, 20160404, 20160405, 20160406, 20160407, 20160408, 20160411, 20160412, 20160413, 20160414, 20160415, 20160418, 20160419, 20160420, 20160421, 20160422, 20160425, 20160426, 20160427, 20160428, 20160429, 20160502, 20160503, 20160504, 20160505, 20160506, 20160509, 20160510, 20160511, 20160512, 20160513, 20160516, 20160517, 20160518, 20160519, 20160520, 20160523, 20160524, 20160525, 20160526, 20160527, 20160531, 20160601, 20160602, 20160603, 20160606, 20160607, 20160608, 20160609, 20160610, 20160613, 20160614, 20160615, 20160616, 20160617, 20160620, 20160621, 20160622, 20160623, 20160624, 20160627, 20160628, 20160629, 20160630, 20160701, 20160705, 20160706, 20160707, 20160708, 20160711, 20160712, 20160713, 20160714], \"y\": [380.0, 379.75, 379.0, 375.25, 381.5, 380.5, 382.5, 381.25, 378.75, 376.0, 372.25, 371.0, 370.25, 369.75, 368.5, 372.5, 376.0, 373.75, 373.75, 377.25, 372.0, 370.0, 365.75, 364.25, 361.75, 360.25, 360.75, 361.25, 363.5, 364.75, 365.75, 364.5, 367.5, 369.5, 373.5, 373.5, 373.25, 373.0, 371.75, 374.25, 374.75, 373.25, 374.5, 374.75, 377.25, 371.5, 355.75, 357.75, 357.75, 360.0, 360.75, 364.0, 365.0, 359.75, 365.5, 377.0, 378.0, 382.0, 385.0, 389.5, 399.75, 389.75, 375.5, 381.75, 387.25, 384.75, 391.25, 391.75, 391.75, 379.75, 376.75, 373.75, 377.5, 369.0, 381.0, 377.5, 389.0, 390.75, 394.0, 397.0, 399.5, 390.0, 394.5, 397.75, 397.5, 404.75, 408.25, 412.75, 404.75, 413.75, 415.25, 418.25, 427.25, 427.75, 431.25, 426.5, 423.0, 430.0, 436.5, 429.0, 425.25, 437.75, 421.25, 396.25, 393.0, 387.25, 384.5, 385.25, 385.25, 372.75, 358.75, 353.0, 344.0, 335.75, 335.5, 349.75, 343.75, 349.75, 365.75, 362.25], \"yaxis\": \"y\"}, {\"name\": \"back\", \"type\": \"scatter\", \"x\": [20160125, 20160126, 20160127, 20160128, 20160129, 20160201, 20160202, 20160203, 20160204, 20160205, 20160208, 20160209, 20160210, 20160211, 20160212, 20160216, 20160217, 20160218, 20160219, 20160222, 20160223, 20160224, 20160225, 20160226, 20160229, 20160301, 20160302, 20160303, 20160304, 20160307, 20160308, 20160309, 20160310, 20160311, 20160314, 20160315, 20160316, 20160317, 20160318, 20160321, 20160322, 20160323, 20160324, 20160328, 20160329, 20160330, 20160331, 20160401, 20160404, 20160405, 20160406, 20160407, 20160408, 20160411, 20160412, 20160413, 20160414, 20160415, 20160418, 20160419, 20160420, 20160421, 20160422, 20160425, 20160426, 20160427, 20160428, 20160429, 20160502, 20160503, 20160504, 20160505, 20160506, 20160509, 20160510, 20160511, 20160512, 20160513, 20160516, 20160517, 20160518, 20160519, 20160520, 20160523, 20160524, 20160525, 20160526, 20160527, 20160531, 20160601, 20160602, 20160603, 20160606, 20160607, 20160608, 20160609, 20160610, 20160613, 20160614, 20160615, 20160616, 20160617, 20160620, 20160621, 20160622, 20160623, 20160624, 20160627, 20160628, 20160629, 20160630, 20160701, 20160705, 20160706, 20160707, 20160708, 20160711, 20160712, 20160713, 20160714], \"y\": [392.5, 391.5, 390.5, 387.5, 393.25, 392.0, 394.0, 393.0, 391.25, 389.25, 385.5, 384.0, 383.5, 382.75, 381.75, 385.75, 389.0, 386.5, 386.5, 390.25, 386.0, 383.75, 379.75, 378.25, 375.75, 373.75, 374.5, 375.5, 378.0, 379.5, 380.5, 379.25, 381.0, 382.75, 387.0, 387.25, 386.5, 387.25, 385.5, 387.75, 387.75, 386.0, 387.25, 387.5, 389.5, 384.0, 368.75, 369.75, 369.0, 371.0, 371.5, 374.25, 375.0, 368.75, 374.25, 384.0, 385.5, 388.25, 390.25, 396.5, 402.75, 393.5, 381.0, 387.75, 394.5, 390.5, 394.5, 395.25, 396.5, 387.0, 385.0, 381.5, 384.75, 377.0, 387.75, 385.5, 396.25, 398.25, 400.0, 403.75, 406.0, 397.25, 399.75, 402.75, 402.75, 408.5, 409.75, 413.5, 408.5, 416.25, 416.75, 419.75, 430.0, 433.25, 437.0, 433.5, 430.75, 440.0, 446.5, 439.5, 435.75, 448.75, 433.75, 408.75, 404.0, 397.75, 394.25, 394.25, 394.25, 383.0, 371.25, 367.0, 358.0, 348.25, 348.5, 362.5, 355.5, 360.25, 369.75, 364.75], \"yaxis\": \"y\"}, {\"name\": \"spread\", \"type\": \"scatter\", \"x\": [20160125, 20160126, 20160127, 20160128, 20160129, 20160201, 20160202, 20160203, 20160204, 20160205, 20160208, 20160209, 20160210, 20160211, 20160212, 20160216, 20160217, 20160218, 20160219, 20160222, 20160223, 20160224, 20160225, 20160226, 20160229, 20160301, 20160302, 20160303, 20160304, 20160307, 20160308, 20160309, 20160310, 20160311, 20160314, 20160315, 20160316, 20160317, 20160318, 20160321, 20160322, 20160323, 20160324, 20160328, 20160329, 20160330, 20160331, 20160401, 20160404, 20160405, 20160406, 20160407, 20160408, 20160411, 20160412, 20160413, 20160414, 20160415, 20160418, 20160419, 20160420, 20160421, 20160422, 20160425, 20160426, 20160427, 20160428, 20160429, 20160502, 20160503, 20160504, 20160505, 20160506, 20160509, 20160510, 20160511, 20160512, 20160513, 20160516, 20160517, 20160518, 20160519, 20160520, 20160523, 20160524, 20160525, 20160526, 20160527, 20160531, 20160601, 20160602, 20160603, 20160606, 20160607, 20160608, 20160609, 20160610, 20160613, 20160614, 20160615, 20160616, 20160617, 20160620, 20160621, 20160622, 20160623, 20160624, 20160627, 20160628, 20160629, 20160630, 20160701, 20160705, 20160706, 20160707, 20160708, 20160711, 20160712, 20160713, 20160714], \"y\": [-12.5, -11.75, -11.5, -12.25, -11.75, -11.5, -11.5, -11.75, -12.5, -13.25, -13.25, -13.0, -13.25, -13.0, -13.25, -13.25, -13.0, -12.75, -12.75, -13.0, -14.0, -13.75, -14.0, -14.0, -14.0, -13.5, -13.75, -14.25, -14.5, -14.75, -14.75, -14.75, -13.5, -13.25, -13.5, -13.75, -13.25, -14.25, -13.75, -13.5, -13.0, -12.75, -12.75, -12.75, -12.25, -12.5, -13.0, -12.0, -11.25, -11.0, -10.75, -10.25, -10.0, -9.0, -8.75, -7.0, -7.5, -6.25, -5.25, -7.0, -3.0, -3.75, -5.5, -6.0, -7.25, -5.75, -3.25, -3.5, -4.75, -7.25, -8.25, -7.75, -7.25, -8.0, -6.75, -8.0, -7.25, -7.5, -6.0, -6.75, -6.5, -7.25, -5.25, -5.0, -5.25, -3.75, -1.5, -0.75, -3.75, -2.5, -1.5, -1.5, -2.75, -5.5, -5.75, -7.0, -7.75, -10.0, -10.0, -10.5, -10.5, -11.0, -12.5, -12.5, -11.0, -10.5, -9.75, -9.0, -9.0, -10.25, -12.5, -14.0, -14.0, -12.5, -13.0, -12.75, -11.75, -10.5, -4.0, -2.5], \"yaxis\": \"y2\"}],\n",
       "                        {\"autosize\": true, \"hovermode\": \"x\", \"legend\": {\"orientation\": \"h\", \"x\": 0, \"y\": 1.1}, \"margin\": {\"b\": 100}, \"modebar\": {\"bgcolor\": \"grey\", \"orientation\": \"v\"}, \"spikedistance\": 1000, \"template\": {\"data\": {\"bar\": [{\"error_x\": {\"color\": \"#2a3f5f\"}, \"error_y\": {\"color\": \"#2a3f5f\"}, \"marker\": {\"line\": {\"color\": \"#E5ECF6\", \"width\": 0.5}}, \"type\": \"bar\"}], \"barpolar\": [{\"marker\": {\"line\": {\"color\": \"#E5ECF6\", \"width\": 0.5}}, \"type\": \"barpolar\"}], \"carpet\": [{\"aaxis\": {\"endlinecolor\": \"#2a3f5f\", \"gridcolor\": \"white\", \"linecolor\": \"white\", \"minorgridcolor\": \"white\", \"startlinecolor\": \"#2a3f5f\"}, \"baxis\": {\"endlinecolor\": \"#2a3f5f\", \"gridcolor\": \"white\", \"linecolor\": \"white\", \"minorgridcolor\": \"white\", \"startlinecolor\": \"#2a3f5f\"}, \"type\": \"carpet\"}], \"choropleth\": [{\"colorbar\": {\"outlinewidth\": 0, \"ticks\": \"\"}, \"type\": \"choropleth\"}], \"contour\": [{\"colorbar\": {\"outlinewidth\": 0, \"ticks\": \"\"}, \"colorscale\": [[0.0, \"#0d0887\"], [0.1111111111111111, \"#46039f\"], [0.2222222222222222, \"#7201a8\"], [0.3333333333333333, \"#9c179e\"], [0.4444444444444444, \"#bd3786\"], [0.5555555555555556, \"#d8576b\"], [0.6666666666666666, \"#ed7953\"], [0.7777777777777778, \"#fb9f3a\"], [0.8888888888888888, \"#fdca26\"], [1.0, \"#f0f921\"]], \"type\": \"contour\"}], \"contourcarpet\": [{\"colorbar\": {\"outlinewidth\": 0, \"ticks\": \"\"}, \"type\": \"contourcarpet\"}], \"heatmap\": [{\"colorbar\": {\"outlinewidth\": 0, \"ticks\": \"\"}, \"colorscale\": [[0.0, \"#0d0887\"], [0.1111111111111111, \"#46039f\"], [0.2222222222222222, \"#7201a8\"], [0.3333333333333333, \"#9c179e\"], [0.4444444444444444, \"#bd3786\"], [0.5555555555555556, \"#d8576b\"], [0.6666666666666666, \"#ed7953\"], [0.7777777777777778, \"#fb9f3a\"], [0.8888888888888888, \"#fdca26\"], [1.0, \"#f0f921\"]], \"type\": \"heatmap\"}], \"heatmapgl\": [{\"colorbar\": {\"outlinewidth\": 0, \"ticks\": \"\"}, \"colorscale\": [[0.0, \"#0d0887\"], [0.1111111111111111, \"#46039f\"], [0.2222222222222222, \"#7201a8\"], [0.3333333333333333, \"#9c179e\"], [0.4444444444444444, \"#bd3786\"], [0.5555555555555556, \"#d8576b\"], [0.6666666666666666, \"#ed7953\"], [0.7777777777777778, \"#fb9f3a\"], [0.8888888888888888, \"#fdca26\"], [1.0, \"#f0f921\"]], \"type\": \"heatmapgl\"}], \"histogram\": [{\"marker\": {\"colorbar\": {\"outlinewidth\": 0, \"ticks\": \"\"}}, \"type\": \"histogram\"}], \"histogram2d\": [{\"colorbar\": {\"outlinewidth\": 0, \"ticks\": \"\"}, \"colorscale\": [[0.0, \"#0d0887\"], [0.1111111111111111, \"#46039f\"], [0.2222222222222222, \"#7201a8\"], [0.3333333333333333, \"#9c179e\"], [0.4444444444444444, \"#bd3786\"], [0.5555555555555556, \"#d8576b\"], [0.6666666666666666, \"#ed7953\"], [0.7777777777777778, \"#fb9f3a\"], [0.8888888888888888, \"#fdca26\"], [1.0, \"#f0f921\"]], \"type\": \"histogram2d\"}], \"histogram2dcontour\": [{\"colorbar\": {\"outlinewidth\": 0, \"ticks\": \"\"}, \"colorscale\": [[0.0, \"#0d0887\"], [0.1111111111111111, \"#46039f\"], [0.2222222222222222, \"#7201a8\"], [0.3333333333333333, \"#9c179e\"], [0.4444444444444444, \"#bd3786\"], [0.5555555555555556, \"#d8576b\"], [0.6666666666666666, \"#ed7953\"], [0.7777777777777778, \"#fb9f3a\"], [0.8888888888888888, \"#fdca26\"], [1.0, \"#f0f921\"]], \"type\": \"histogram2dcontour\"}], \"mesh3d\": [{\"colorbar\": {\"outlinewidth\": 0, \"ticks\": \"\"}, \"type\": \"mesh3d\"}], \"parcoords\": [{\"line\": {\"colorbar\": {\"outlinewidth\": 0, \"ticks\": \"\"}}, \"type\": \"parcoords\"}], \"pie\": [{\"automargin\": true, \"type\": \"pie\"}], \"scatter\": [{\"marker\": {\"colorbar\": {\"outlinewidth\": 0, \"ticks\": \"\"}}, \"type\": \"scatter\"}], \"scatter3d\": [{\"line\": {\"colorbar\": {\"outlinewidth\": 0, \"ticks\": \"\"}}, \"marker\": {\"colorbar\": {\"outlinewidth\": 0, \"ticks\": \"\"}}, \"type\": \"scatter3d\"}], \"scattercarpet\": [{\"marker\": {\"colorbar\": {\"outlinewidth\": 0, \"ticks\": \"\"}}, \"type\": \"scattercarpet\"}], \"scattergeo\": [{\"marker\": {\"colorbar\": {\"outlinewidth\": 0, \"ticks\": \"\"}}, \"type\": \"scattergeo\"}], \"scattergl\": [{\"marker\": {\"colorbar\": {\"outlinewidth\": 0, \"ticks\": \"\"}}, \"type\": \"scattergl\"}], \"scattermapbox\": [{\"marker\": {\"colorbar\": {\"outlinewidth\": 0, \"ticks\": \"\"}}, \"type\": \"scattermapbox\"}], \"scatterpolar\": [{\"marker\": {\"colorbar\": {\"outlinewidth\": 0, \"ticks\": \"\"}}, \"type\": \"scatterpolar\"}], \"scatterpolargl\": [{\"marker\": {\"colorbar\": {\"outlinewidth\": 0, \"ticks\": \"\"}}, \"type\": \"scatterpolargl\"}], \"scatterternary\": [{\"marker\": {\"colorbar\": {\"outlinewidth\": 0, \"ticks\": \"\"}}, \"type\": \"scatterternary\"}], \"surface\": [{\"colorbar\": {\"outlinewidth\": 0, \"ticks\": \"\"}, \"colorscale\": [[0.0, \"#0d0887\"], [0.1111111111111111, \"#46039f\"], [0.2222222222222222, \"#7201a8\"], [0.3333333333333333, \"#9c179e\"], [0.4444444444444444, \"#bd3786\"], [0.5555555555555556, \"#d8576b\"], [0.6666666666666666, \"#ed7953\"], [0.7777777777777778, \"#fb9f3a\"], [0.8888888888888888, \"#fdca26\"], [1.0, \"#f0f921\"]], \"type\": \"surface\"}], \"table\": [{\"cells\": {\"fill\": {\"color\": \"#EBF0F8\"}, \"line\": {\"color\": \"white\"}}, \"header\": {\"fill\": {\"color\": \"#C8D4E3\"}, \"line\": {\"color\": \"white\"}}, \"type\": \"table\"}]}, \"layout\": {\"annotationdefaults\": {\"arrowcolor\": \"#2a3f5f\", \"arrowhead\": 0, \"arrowwidth\": 1}, \"coloraxis\": {\"colorbar\": {\"outlinewidth\": 0, \"ticks\": \"\"}}, \"colorscale\": {\"diverging\": [[0, \"#8e0152\"], [0.1, \"#c51b7d\"], [0.2, \"#de77ae\"], [0.3, \"#f1b6da\"], [0.4, \"#fde0ef\"], [0.5, \"#f7f7f7\"], [0.6, \"#e6f5d0\"], [0.7, \"#b8e186\"], [0.8, \"#7fbc41\"], [0.9, \"#4d9221\"], [1, \"#276419\"]], \"sequential\": [[0.0, \"#0d0887\"], [0.1111111111111111, \"#46039f\"], [0.2222222222222222, \"#7201a8\"], [0.3333333333333333, \"#9c179e\"], [0.4444444444444444, \"#bd3786\"], [0.5555555555555556, \"#d8576b\"], [0.6666666666666666, \"#ed7953\"], [0.7777777777777778, \"#fb9f3a\"], [0.8888888888888888, \"#fdca26\"], [1.0, \"#f0f921\"]], \"sequentialminus\": [[0.0, \"#0d0887\"], [0.1111111111111111, \"#46039f\"], [0.2222222222222222, \"#7201a8\"], [0.3333333333333333, \"#9c179e\"], [0.4444444444444444, \"#bd3786\"], [0.5555555555555556, \"#d8576b\"], [0.6666666666666666, \"#ed7953\"], [0.7777777777777778, \"#fb9f3a\"], [0.8888888888888888, \"#fdca26\"], [1.0, \"#f0f921\"]]}, \"colorway\": [\"#636efa\", \"#EF553B\", \"#00cc96\", \"#ab63fa\", \"#FFA15A\", \"#19d3f3\", \"#FF6692\", \"#B6E880\", \"#FF97FF\", \"#FECB52\"], \"font\": {\"color\": \"#2a3f5f\"}, \"geo\": {\"bgcolor\": \"white\", \"lakecolor\": \"white\", \"landcolor\": \"#E5ECF6\", \"showlakes\": true, \"showland\": true, \"subunitcolor\": \"white\"}, \"hoverlabel\": {\"align\": \"left\"}, \"hovermode\": \"closest\", \"mapbox\": {\"style\": \"light\"}, \"paper_bgcolor\": \"white\", \"plot_bgcolor\": \"#E5ECF6\", \"polar\": {\"angularaxis\": {\"gridcolor\": \"white\", \"linecolor\": \"white\", \"ticks\": \"\"}, \"bgcolor\": \"#E5ECF6\", \"radialaxis\": {\"gridcolor\": \"white\", \"linecolor\": \"white\", \"ticks\": \"\"}}, \"scene\": {\"xaxis\": {\"backgroundcolor\": \"#E5ECF6\", \"gridcolor\": \"white\", \"gridwidth\": 2, \"linecolor\": \"white\", \"showbackground\": true, \"ticks\": \"\", \"zerolinecolor\": \"white\"}, \"yaxis\": {\"backgroundcolor\": \"#E5ECF6\", \"gridcolor\": \"white\", \"gridwidth\": 2, \"linecolor\": \"white\", \"showbackground\": true, \"ticks\": \"\", \"zerolinecolor\": \"white\"}, \"zaxis\": {\"backgroundcolor\": \"#E5ECF6\", \"gridcolor\": \"white\", \"gridwidth\": 2, \"linecolor\": \"white\", \"showbackground\": true, \"ticks\": \"\", \"zerolinecolor\": \"white\"}}, \"shapedefaults\": {\"line\": {\"color\": \"#2a3f5f\"}}, \"ternary\": {\"aaxis\": {\"gridcolor\": \"white\", \"linecolor\": \"white\", \"ticks\": \"\"}, \"baxis\": {\"gridcolor\": \"white\", \"linecolor\": \"white\", \"ticks\": \"\"}, \"bgcolor\": \"#E5ECF6\", \"caxis\": {\"gridcolor\": \"white\", \"linecolor\": \"white\", \"ticks\": \"\"}}, \"title\": {\"x\": 0.05}, \"xaxis\": {\"automargin\": true, \"gridcolor\": \"white\", \"linecolor\": \"white\", \"ticks\": \"\", \"title\": {\"standoff\": 15}, \"zerolinecolor\": \"white\", \"zerolinewidth\": 2}, \"yaxis\": {\"automargin\": true, \"gridcolor\": \"white\", \"linecolor\": \"white\", \"ticks\": \"\", \"title\": {\"standoff\": 15}, \"zerolinecolor\": \"white\", \"zerolinewidth\": 2}}}, \"title\": {\"text\": \"ZCN16 ZCZ16\", \"x\": 0.5, \"xanchor\": \"center\", \"y\": 0.9, \"yanchor\": \"top\"}, \"xaxis\": {\"showspikes\": true, \"spikedash\": \"solid\", \"spikemode\": \"toaxis+across\", \"spikethickness\": 1, \"tickangle\": 45, \"ticktext\": [20160125, 20160202, 20160210, 20160219, 20160229, 20160308, 20160316, 20160324, 20160404, 20160412, 20160420, 20160428, 20160506, 20160516, 20160524, 20160602, 20160610, 20160620, 20160628, 20160707], \"tickvals\": [20160125, 20160202, 20160210, 20160219, 20160229, 20160308, 20160316, 20160324, 20160404, 20160412, 20160420, 20160428, 20160506, 20160516, 20160524, 20160602, 20160610, 20160620, 20160628, 20160707], \"type\": \"category\"}, \"yaxis\": {\"showspikes\": true, \"spikedash\": \"solid\", \"spikemode\": \"toaxis+across\", \"spikethickness\": 1, \"title\": {\"text\": \"price\"}}, \"yaxis2\": {\"overlaying\": \"y\", \"side\": \"right\", \"title\": {\"text\": \"spread\"}}},\n",
       "                        {\"responsive\": true}\n",
       "                    ).then(function(){\n",
       "                            \n",
       "var gd = document.getElementById('1ef73a4c-c499-4ed1-8a28-c55dd6280fa9');\n",
       "var x = new MutationObserver(function (mutations, observer) {{\n",
       "        var display = window.getComputedStyle(gd).display;\n",
       "        if (!display || display === 'none') {{\n",
       "            console.log([gd, 'removed!']);\n",
       "            Plotly.purge(gd);\n",
       "            observer.disconnect();\n",
       "        }}\n",
       "}});\n",
       "\n",
       "// Listen for the removal of the full notebook cells\n",
       "var notebookContainer = gd.closest('#notebook-container');\n",
       "if (notebookContainer) {{\n",
       "    x.observe(notebookContainer, {childList: true});\n",
       "}}\n",
       "\n",
       "// Listen for the clearing of the current output cell\n",
       "var outputEl = gd.closest('.output');\n",
       "if (outputEl) {{\n",
       "    x.observe(outputEl, {childList: true});\n",
       "}}\n",
       "\n",
       "                        })\n",
       "                };\n",
       "                });\n",
       "            </script>\n",
       "        </div>"
      ]
     },
     "metadata": {},
     "output_type": "display_data"
    },
    {
     "data": {
      "application/vnd.plotly.v1+json": {
       "config": {
        "linkText": "Export to plot.ly",
        "plotlyServerURL": "https://plot.ly",
        "showLink": false
       },
       "data": [
        {
         "name": "front",
         "type": "scatter",
         "x": [
          20170124,
          20170125,
          20170126,
          20170127,
          20170130,
          20170131,
          20170201,
          20170202,
          20170203,
          20170206,
          20170207,
          20170208,
          20170209,
          20170210,
          20170213,
          20170214,
          20170215,
          20170216,
          20170217,
          20170221,
          20170222,
          20170223,
          20170224,
          20170227,
          20170228,
          20170301,
          20170302,
          20170303,
          20170306,
          20170307,
          20170308,
          20170309,
          20170310,
          20170313,
          20170314,
          20170315,
          20170316,
          20170317,
          20170320,
          20170321,
          20170322,
          20170323,
          20170324,
          20170327,
          20170328,
          20170329,
          20170330,
          20170331,
          20170403,
          20170404,
          20170405,
          20170406,
          20170407,
          20170410,
          20170411,
          20170412,
          20170413,
          20170417,
          20170418,
          20170419,
          20170420,
          20170421,
          20170424,
          20170425,
          20170426,
          20170427,
          20170428,
          20170501,
          20170502,
          20170503,
          20170504,
          20170505,
          20170508,
          20170509,
          20170510,
          20170511,
          20170512,
          20170515,
          20170516,
          20170517,
          20170518,
          20170519,
          20170522,
          20170523,
          20170524,
          20170525,
          20170526,
          20170530,
          20170531,
          20170601,
          20170602,
          20170605,
          20170606,
          20170607,
          20170608,
          20170609,
          20170612,
          20170613,
          20170614,
          20170615,
          20170616,
          20170619,
          20170620,
          20170621,
          20170622,
          20170623,
          20170626,
          20170627,
          20170628,
          20170629,
          20170630,
          20170703,
          20170705,
          20170706,
          20170707,
          20170710,
          20170711,
          20170712,
          20170713,
          20170714
         ],
         "y": [
          377.5,
          380.75,
          378,
          376.5,
          372,
          373.75,
          382.75,
          382,
          379.75,
          378.25,
          383.25,
          385.5,
          384,
          388.75,
          389.25,
          388.5,
          392.5,
          387.75,
          382.5,
          383.75,
          385.5,
          379.75,
          378.25,
          375.75,
          381,
          389.25,
          386.25,
          387.25,
          385.5,
          383.25,
          379.75,
          374.5,
          372,
          368.5,
          369.75,
          371,
          373.5,
          375,
          371.25,
          368.75,
          366.5,
          364.5,
          363.75,
          363.5,
          365.5,
          366,
          365,
          371.75,
          375.25,
          370.75,
          372.5,
          368.5,
          367.25,
          374.5,
          373.75,
          376,
          378,
          373.25,
          368.25,
          368.25,
          364.25,
          363.75,
          365.5,
          371.75,
          366.75,
          369.25,
          366.5,
          377.5,
          372.25,
          374.75,
          366.5,
          370.75,
          366,
          366.5,
          373.75,
          369.25,
          371,
          367.75,
          367.75,
          371.5,
          366,
          372.5,
          375,
          369.5,
          371.25,
          369.25,
          374.25,
          367,
          372,
          370.5,
          372.75,
          373,
          377.25,
          384.75,
          385.75,
          387.75,
          377.25,
          381,
          377,
          379.5,
          384,
          375.25,
          370,
          368.75,
          362.75,
          357.75,
          359,
          359.25,
          356.75,
          359.75,
          370.5,
          378,
          381.75,
          380.25,
          382.25,
          391.75,
          392.25,
          376.25,
          361,
          365.25
         ],
         "yaxis": "y"
        },
        {
         "name": "back",
         "type": "scatter",
         "x": [
          20170124,
          20170125,
          20170126,
          20170127,
          20170130,
          20170131,
          20170201,
          20170202,
          20170203,
          20170206,
          20170207,
          20170208,
          20170209,
          20170210,
          20170213,
          20170214,
          20170215,
          20170216,
          20170217,
          20170221,
          20170222,
          20170223,
          20170224,
          20170227,
          20170228,
          20170301,
          20170302,
          20170303,
          20170306,
          20170307,
          20170308,
          20170309,
          20170310,
          20170313,
          20170314,
          20170315,
          20170316,
          20170317,
          20170320,
          20170321,
          20170322,
          20170323,
          20170324,
          20170327,
          20170328,
          20170329,
          20170330,
          20170331,
          20170403,
          20170404,
          20170405,
          20170406,
          20170407,
          20170410,
          20170411,
          20170412,
          20170413,
          20170417,
          20170418,
          20170419,
          20170420,
          20170421,
          20170424,
          20170425,
          20170426,
          20170427,
          20170428,
          20170501,
          20170502,
          20170503,
          20170504,
          20170505,
          20170508,
          20170509,
          20170510,
          20170511,
          20170512,
          20170515,
          20170516,
          20170517,
          20170518,
          20170519,
          20170522,
          20170523,
          20170524,
          20170525,
          20170526,
          20170530,
          20170531,
          20170601,
          20170602,
          20170605,
          20170606,
          20170607,
          20170608,
          20170609,
          20170612,
          20170613,
          20170614,
          20170615,
          20170616,
          20170619,
          20170620,
          20170621,
          20170622,
          20170623,
          20170626,
          20170627,
          20170628,
          20170629,
          20170630,
          20170703,
          20170705,
          20170706,
          20170707,
          20170710,
          20170711,
          20170712,
          20170713,
          20170714
         ],
         "y": [
          391,
          393.75,
          390.75,
          389.25,
          385.5,
          387.25,
          396.25,
          394.5,
          392.75,
          392,
          396.25,
          397.5,
          395.75,
          399.25,
          399.5,
          399.5,
          402.75,
          399,
          394.25,
          395.75,
          397.25,
          391.75,
          391,
          388.75,
          393.75,
          401.25,
          398.5,
          399.25,
          398,
          396,
          392.75,
          388.25,
          386.5,
          383.5,
          384.25,
          385,
          387.5,
          389.75,
          386.25,
          384.5,
          382,
          380,
          379.5,
          380,
          381.75,
          382,
          381,
          388.25,
          392,
          387.75,
          389.25,
          386,
          384.5,
          391,
          390.5,
          392.5,
          394.5,
          390.25,
          386.25,
          386.5,
          382.5,
          382,
          383.5,
          389,
          384.25,
          386.75,
          385,
          394.5,
          390,
          392.25,
          384.5,
          388.5,
          384.25,
          385,
          391.5,
          387.25,
          388.75,
          385.25,
          385.5,
          389,
          384,
          390.25,
          392.75,
          387.75,
          389.75,
          387.5,
          392.5,
          385.75,
          391,
          389.25,
          391,
          392,
          395.75,
          402.5,
          403.75,
          406,
          395.5,
          399,
          395.5,
          397.75,
          402,
          393.25,
          388,
          386.75,
          380.75,
          375.25,
          377,
          377.5,
          376.25,
          380,
          392,
          399.25,
          404,
          402.75,
          404.75,
          414.75,
          414.25,
          398.75,
          383,
          389.5
         ],
         "yaxis": "y"
        },
        {
         "name": "spread",
         "type": "scatter",
         "x": [
          20170124,
          20170125,
          20170126,
          20170127,
          20170130,
          20170131,
          20170201,
          20170202,
          20170203,
          20170206,
          20170207,
          20170208,
          20170209,
          20170210,
          20170213,
          20170214,
          20170215,
          20170216,
          20170217,
          20170221,
          20170222,
          20170223,
          20170224,
          20170227,
          20170228,
          20170301,
          20170302,
          20170303,
          20170306,
          20170307,
          20170308,
          20170309,
          20170310,
          20170313,
          20170314,
          20170315,
          20170316,
          20170317,
          20170320,
          20170321,
          20170322,
          20170323,
          20170324,
          20170327,
          20170328,
          20170329,
          20170330,
          20170331,
          20170403,
          20170404,
          20170405,
          20170406,
          20170407,
          20170410,
          20170411,
          20170412,
          20170413,
          20170417,
          20170418,
          20170419,
          20170420,
          20170421,
          20170424,
          20170425,
          20170426,
          20170427,
          20170428,
          20170501,
          20170502,
          20170503,
          20170504,
          20170505,
          20170508,
          20170509,
          20170510,
          20170511,
          20170512,
          20170515,
          20170516,
          20170517,
          20170518,
          20170519,
          20170522,
          20170523,
          20170524,
          20170525,
          20170526,
          20170530,
          20170531,
          20170601,
          20170602,
          20170605,
          20170606,
          20170607,
          20170608,
          20170609,
          20170612,
          20170613,
          20170614,
          20170615,
          20170616,
          20170619,
          20170620,
          20170621,
          20170622,
          20170623,
          20170626,
          20170627,
          20170628,
          20170629,
          20170630,
          20170703,
          20170705,
          20170706,
          20170707,
          20170710,
          20170711,
          20170712,
          20170713,
          20170714
         ],
         "y": [
          -13.5,
          -13,
          -12.75,
          -12.75,
          -13.5,
          -13.5,
          -13.5,
          -12.5,
          -13,
          -13.75,
          -13,
          -12,
          -11.75,
          -10.5,
          -10.25,
          -11,
          -10.25,
          -11.25,
          -11.75,
          -12,
          -11.75,
          -12,
          -12.75,
          -13,
          -12.75,
          -12,
          -12.25,
          -12,
          -12.5,
          -12.75,
          -13,
          -13.75,
          -14.5,
          -15,
          -14.5,
          -14,
          -14,
          -14.75,
          -15,
          -15.75,
          -15.5,
          -15.5,
          -15.75,
          -16.5,
          -16.25,
          -16,
          -16,
          -16.5,
          -16.75,
          -17,
          -16.75,
          -17.5,
          -17.25,
          -16.5,
          -16.75,
          -16.5,
          -16.5,
          -17,
          -18,
          -18.25,
          -18.25,
          -18.25,
          -18,
          -17.25,
          -17.5,
          -17.5,
          -18.5,
          -17,
          -17.75,
          -17.5,
          -18,
          -17.75,
          -18.25,
          -18.5,
          -17.75,
          -18,
          -17.75,
          -17.5,
          -17.75,
          -17.5,
          -18,
          -17.75,
          -17.75,
          -18.25,
          -18.5,
          -18.25,
          -18.25,
          -18.75,
          -19,
          -18.75,
          -18.25,
          -19,
          -18.5,
          -17.75,
          -18,
          -18.25,
          -18.25,
          -18,
          -18.5,
          -18.25,
          -18,
          -18,
          -18,
          -18,
          -18,
          -17.5,
          -18,
          -18.25,
          -19.5,
          -20.25,
          -21.5,
          -21.25,
          -22.25,
          -22.5,
          -22.5,
          -23,
          -22,
          -22.5,
          -22,
          -24.25
         ],
         "yaxis": "y2"
        }
       ],
       "layout": {
        "autosize": true,
        "hovermode": "x",
        "legend": {
         "orientation": "h",
         "x": 0,
         "y": 1.1
        },
        "margin": {
         "b": 100
        },
        "modebar": {
         "bgcolor": "grey",
         "orientation": "v"
        },
        "spikedistance": 1000,
        "template": {
         "data": {
          "bar": [
           {
            "error_x": {
             "color": "#2a3f5f"
            },
            "error_y": {
             "color": "#2a3f5f"
            },
            "marker": {
             "line": {
              "color": "#E5ECF6",
              "width": 0.5
             }
            },
            "type": "bar"
           }
          ],
          "barpolar": [
           {
            "marker": {
             "line": {
              "color": "#E5ECF6",
              "width": 0.5
             }
            },
            "type": "barpolar"
           }
          ],
          "carpet": [
           {
            "aaxis": {
             "endlinecolor": "#2a3f5f",
             "gridcolor": "white",
             "linecolor": "white",
             "minorgridcolor": "white",
             "startlinecolor": "#2a3f5f"
            },
            "baxis": {
             "endlinecolor": "#2a3f5f",
             "gridcolor": "white",
             "linecolor": "white",
             "minorgridcolor": "white",
             "startlinecolor": "#2a3f5f"
            },
            "type": "carpet"
           }
          ],
          "choropleth": [
           {
            "colorbar": {
             "outlinewidth": 0,
             "ticks": ""
            },
            "type": "choropleth"
           }
          ],
          "contour": [
           {
            "colorbar": {
             "outlinewidth": 0,
             "ticks": ""
            },
            "colorscale": [
             [
              0,
              "#0d0887"
             ],
             [
              0.1111111111111111,
              "#46039f"
             ],
             [
              0.2222222222222222,
              "#7201a8"
             ],
             [
              0.3333333333333333,
              "#9c179e"
             ],
             [
              0.4444444444444444,
              "#bd3786"
             ],
             [
              0.5555555555555556,
              "#d8576b"
             ],
             [
              0.6666666666666666,
              "#ed7953"
             ],
             [
              0.7777777777777778,
              "#fb9f3a"
             ],
             [
              0.8888888888888888,
              "#fdca26"
             ],
             [
              1,
              "#f0f921"
             ]
            ],
            "type": "contour"
           }
          ],
          "contourcarpet": [
           {
            "colorbar": {
             "outlinewidth": 0,
             "ticks": ""
            },
            "type": "contourcarpet"
           }
          ],
          "heatmap": [
           {
            "colorbar": {
             "outlinewidth": 0,
             "ticks": ""
            },
            "colorscale": [
             [
              0,
              "#0d0887"
             ],
             [
              0.1111111111111111,
              "#46039f"
             ],
             [
              0.2222222222222222,
              "#7201a8"
             ],
             [
              0.3333333333333333,
              "#9c179e"
             ],
             [
              0.4444444444444444,
              "#bd3786"
             ],
             [
              0.5555555555555556,
              "#d8576b"
             ],
             [
              0.6666666666666666,
              "#ed7953"
             ],
             [
              0.7777777777777778,
              "#fb9f3a"
             ],
             [
              0.8888888888888888,
              "#fdca26"
             ],
             [
              1,
              "#f0f921"
             ]
            ],
            "type": "heatmap"
           }
          ],
          "heatmapgl": [
           {
            "colorbar": {
             "outlinewidth": 0,
             "ticks": ""
            },
            "colorscale": [
             [
              0,
              "#0d0887"
             ],
             [
              0.1111111111111111,
              "#46039f"
             ],
             [
              0.2222222222222222,
              "#7201a8"
             ],
             [
              0.3333333333333333,
              "#9c179e"
             ],
             [
              0.4444444444444444,
              "#bd3786"
             ],
             [
              0.5555555555555556,
              "#d8576b"
             ],
             [
              0.6666666666666666,
              "#ed7953"
             ],
             [
              0.7777777777777778,
              "#fb9f3a"
             ],
             [
              0.8888888888888888,
              "#fdca26"
             ],
             [
              1,
              "#f0f921"
             ]
            ],
            "type": "heatmapgl"
           }
          ],
          "histogram": [
           {
            "marker": {
             "colorbar": {
              "outlinewidth": 0,
              "ticks": ""
             }
            },
            "type": "histogram"
           }
          ],
          "histogram2d": [
           {
            "colorbar": {
             "outlinewidth": 0,
             "ticks": ""
            },
            "colorscale": [
             [
              0,
              "#0d0887"
             ],
             [
              0.1111111111111111,
              "#46039f"
             ],
             [
              0.2222222222222222,
              "#7201a8"
             ],
             [
              0.3333333333333333,
              "#9c179e"
             ],
             [
              0.4444444444444444,
              "#bd3786"
             ],
             [
              0.5555555555555556,
              "#d8576b"
             ],
             [
              0.6666666666666666,
              "#ed7953"
             ],
             [
              0.7777777777777778,
              "#fb9f3a"
             ],
             [
              0.8888888888888888,
              "#fdca26"
             ],
             [
              1,
              "#f0f921"
             ]
            ],
            "type": "histogram2d"
           }
          ],
          "histogram2dcontour": [
           {
            "colorbar": {
             "outlinewidth": 0,
             "ticks": ""
            },
            "colorscale": [
             [
              0,
              "#0d0887"
             ],
             [
              0.1111111111111111,
              "#46039f"
             ],
             [
              0.2222222222222222,
              "#7201a8"
             ],
             [
              0.3333333333333333,
              "#9c179e"
             ],
             [
              0.4444444444444444,
              "#bd3786"
             ],
             [
              0.5555555555555556,
              "#d8576b"
             ],
             [
              0.6666666666666666,
              "#ed7953"
             ],
             [
              0.7777777777777778,
              "#fb9f3a"
             ],
             [
              0.8888888888888888,
              "#fdca26"
             ],
             [
              1,
              "#f0f921"
             ]
            ],
            "type": "histogram2dcontour"
           }
          ],
          "mesh3d": [
           {
            "colorbar": {
             "outlinewidth": 0,
             "ticks": ""
            },
            "type": "mesh3d"
           }
          ],
          "parcoords": [
           {
            "line": {
             "colorbar": {
              "outlinewidth": 0,
              "ticks": ""
             }
            },
            "type": "parcoords"
           }
          ],
          "pie": [
           {
            "automargin": true,
            "type": "pie"
           }
          ],
          "scatter": [
           {
            "marker": {
             "colorbar": {
              "outlinewidth": 0,
              "ticks": ""
             }
            },
            "type": "scatter"
           }
          ],
          "scatter3d": [
           {
            "line": {
             "colorbar": {
              "outlinewidth": 0,
              "ticks": ""
             }
            },
            "marker": {
             "colorbar": {
              "outlinewidth": 0,
              "ticks": ""
             }
            },
            "type": "scatter3d"
           }
          ],
          "scattercarpet": [
           {
            "marker": {
             "colorbar": {
              "outlinewidth": 0,
              "ticks": ""
             }
            },
            "type": "scattercarpet"
           }
          ],
          "scattergeo": [
           {
            "marker": {
             "colorbar": {
              "outlinewidth": 0,
              "ticks": ""
             }
            },
            "type": "scattergeo"
           }
          ],
          "scattergl": [
           {
            "marker": {
             "colorbar": {
              "outlinewidth": 0,
              "ticks": ""
             }
            },
            "type": "scattergl"
           }
          ],
          "scattermapbox": [
           {
            "marker": {
             "colorbar": {
              "outlinewidth": 0,
              "ticks": ""
             }
            },
            "type": "scattermapbox"
           }
          ],
          "scatterpolar": [
           {
            "marker": {
             "colorbar": {
              "outlinewidth": 0,
              "ticks": ""
             }
            },
            "type": "scatterpolar"
           }
          ],
          "scatterpolargl": [
           {
            "marker": {
             "colorbar": {
              "outlinewidth": 0,
              "ticks": ""
             }
            },
            "type": "scatterpolargl"
           }
          ],
          "scatterternary": [
           {
            "marker": {
             "colorbar": {
              "outlinewidth": 0,
              "ticks": ""
             }
            },
            "type": "scatterternary"
           }
          ],
          "surface": [
           {
            "colorbar": {
             "outlinewidth": 0,
             "ticks": ""
            },
            "colorscale": [
             [
              0,
              "#0d0887"
             ],
             [
              0.1111111111111111,
              "#46039f"
             ],
             [
              0.2222222222222222,
              "#7201a8"
             ],
             [
              0.3333333333333333,
              "#9c179e"
             ],
             [
              0.4444444444444444,
              "#bd3786"
             ],
             [
              0.5555555555555556,
              "#d8576b"
             ],
             [
              0.6666666666666666,
              "#ed7953"
             ],
             [
              0.7777777777777778,
              "#fb9f3a"
             ],
             [
              0.8888888888888888,
              "#fdca26"
             ],
             [
              1,
              "#f0f921"
             ]
            ],
            "type": "surface"
           }
          ],
          "table": [
           {
            "cells": {
             "fill": {
              "color": "#EBF0F8"
             },
             "line": {
              "color": "white"
             }
            },
            "header": {
             "fill": {
              "color": "#C8D4E3"
             },
             "line": {
              "color": "white"
             }
            },
            "type": "table"
           }
          ]
         },
         "layout": {
          "annotationdefaults": {
           "arrowcolor": "#2a3f5f",
           "arrowhead": 0,
           "arrowwidth": 1
          },
          "coloraxis": {
           "colorbar": {
            "outlinewidth": 0,
            "ticks": ""
           }
          },
          "colorscale": {
           "diverging": [
            [
             0,
             "#8e0152"
            ],
            [
             0.1,
             "#c51b7d"
            ],
            [
             0.2,
             "#de77ae"
            ],
            [
             0.3,
             "#f1b6da"
            ],
            [
             0.4,
             "#fde0ef"
            ],
            [
             0.5,
             "#f7f7f7"
            ],
            [
             0.6,
             "#e6f5d0"
            ],
            [
             0.7,
             "#b8e186"
            ],
            [
             0.8,
             "#7fbc41"
            ],
            [
             0.9,
             "#4d9221"
            ],
            [
             1,
             "#276419"
            ]
           ],
           "sequential": [
            [
             0,
             "#0d0887"
            ],
            [
             0.1111111111111111,
             "#46039f"
            ],
            [
             0.2222222222222222,
             "#7201a8"
            ],
            [
             0.3333333333333333,
             "#9c179e"
            ],
            [
             0.4444444444444444,
             "#bd3786"
            ],
            [
             0.5555555555555556,
             "#d8576b"
            ],
            [
             0.6666666666666666,
             "#ed7953"
            ],
            [
             0.7777777777777778,
             "#fb9f3a"
            ],
            [
             0.8888888888888888,
             "#fdca26"
            ],
            [
             1,
             "#f0f921"
            ]
           ],
           "sequentialminus": [
            [
             0,
             "#0d0887"
            ],
            [
             0.1111111111111111,
             "#46039f"
            ],
            [
             0.2222222222222222,
             "#7201a8"
            ],
            [
             0.3333333333333333,
             "#9c179e"
            ],
            [
             0.4444444444444444,
             "#bd3786"
            ],
            [
             0.5555555555555556,
             "#d8576b"
            ],
            [
             0.6666666666666666,
             "#ed7953"
            ],
            [
             0.7777777777777778,
             "#fb9f3a"
            ],
            [
             0.8888888888888888,
             "#fdca26"
            ],
            [
             1,
             "#f0f921"
            ]
           ]
          },
          "colorway": [
           "#636efa",
           "#EF553B",
           "#00cc96",
           "#ab63fa",
           "#FFA15A",
           "#19d3f3",
           "#FF6692",
           "#B6E880",
           "#FF97FF",
           "#FECB52"
          ],
          "font": {
           "color": "#2a3f5f"
          },
          "geo": {
           "bgcolor": "white",
           "lakecolor": "white",
           "landcolor": "#E5ECF6",
           "showlakes": true,
           "showland": true,
           "subunitcolor": "white"
          },
          "hoverlabel": {
           "align": "left"
          },
          "hovermode": "closest",
          "mapbox": {
           "style": "light"
          },
          "paper_bgcolor": "white",
          "plot_bgcolor": "#E5ECF6",
          "polar": {
           "angularaxis": {
            "gridcolor": "white",
            "linecolor": "white",
            "ticks": ""
           },
           "bgcolor": "#E5ECF6",
           "radialaxis": {
            "gridcolor": "white",
            "linecolor": "white",
            "ticks": ""
           }
          },
          "scene": {
           "xaxis": {
            "backgroundcolor": "#E5ECF6",
            "gridcolor": "white",
            "gridwidth": 2,
            "linecolor": "white",
            "showbackground": true,
            "ticks": "",
            "zerolinecolor": "white"
           },
           "yaxis": {
            "backgroundcolor": "#E5ECF6",
            "gridcolor": "white",
            "gridwidth": 2,
            "linecolor": "white",
            "showbackground": true,
            "ticks": "",
            "zerolinecolor": "white"
           },
           "zaxis": {
            "backgroundcolor": "#E5ECF6",
            "gridcolor": "white",
            "gridwidth": 2,
            "linecolor": "white",
            "showbackground": true,
            "ticks": "",
            "zerolinecolor": "white"
           }
          },
          "shapedefaults": {
           "line": {
            "color": "#2a3f5f"
           }
          },
          "ternary": {
           "aaxis": {
            "gridcolor": "white",
            "linecolor": "white",
            "ticks": ""
           },
           "baxis": {
            "gridcolor": "white",
            "linecolor": "white",
            "ticks": ""
           },
           "bgcolor": "#E5ECF6",
           "caxis": {
            "gridcolor": "white",
            "linecolor": "white",
            "ticks": ""
           }
          },
          "title": {
           "x": 0.05
          },
          "xaxis": {
           "automargin": true,
           "gridcolor": "white",
           "linecolor": "white",
           "ticks": "",
           "title": {
            "standoff": 15
           },
           "zerolinecolor": "white",
           "zerolinewidth": 2
          },
          "yaxis": {
           "automargin": true,
           "gridcolor": "white",
           "linecolor": "white",
           "ticks": "",
           "title": {
            "standoff": 15
           },
           "zerolinecolor": "white",
           "zerolinewidth": 2
          }
         }
        },
        "title": {
         "text": "ZCN17 ZCZ17",
         "x": 0.5,
         "xanchor": "center",
         "y": 0.9,
         "yanchor": "top"
        },
        "xaxis": {
         "showspikes": true,
         "spikedash": "solid",
         "spikemode": "toaxis+across",
         "spikethickness": 1,
         "tickangle": 45,
         "ticktext": [
          20170124,
          20170201,
          20170209,
          20170217,
          20170228,
          20170308,
          20170316,
          20170324,
          20170403,
          20170411,
          20170420,
          20170428,
          20170508,
          20170516,
          20170524,
          20170602,
          20170612,
          20170620,
          20170628,
          20170707
         ],
         "tickvals": [
          20170124,
          20170201,
          20170209,
          20170217,
          20170228,
          20170308,
          20170316,
          20170324,
          20170403,
          20170411,
          20170420,
          20170428,
          20170508,
          20170516,
          20170524,
          20170602,
          20170612,
          20170620,
          20170628,
          20170707
         ],
         "type": "category"
        },
        "yaxis": {
         "showspikes": true,
         "spikedash": "solid",
         "spikemode": "toaxis+across",
         "spikethickness": 1,
         "title": {
          "text": "price"
         }
        },
        "yaxis2": {
         "overlaying": "y",
         "side": "right",
         "title": {
          "text": "spread"
         }
        }
       }
      },
      "text/html": [
       "<div>\n",
       "        \n",
       "        \n",
       "            <div id=\"ff185bfb-b2e1-4a85-bef5-cb1f117cf7fe\" class=\"plotly-graph-div\" style=\"height:525px; width:100%;\"></div>\n",
       "            <script type=\"text/javascript\">\n",
       "                require([\"plotly\"], function(Plotly) {\n",
       "                    window.PLOTLYENV=window.PLOTLYENV || {};\n",
       "                    \n",
       "                if (document.getElementById(\"ff185bfb-b2e1-4a85-bef5-cb1f117cf7fe\")) {\n",
       "                    Plotly.newPlot(\n",
       "                        'ff185bfb-b2e1-4a85-bef5-cb1f117cf7fe',\n",
       "                        [{\"name\": \"front\", \"type\": \"scatter\", \"x\": [20170124, 20170125, 20170126, 20170127, 20170130, 20170131, 20170201, 20170202, 20170203, 20170206, 20170207, 20170208, 20170209, 20170210, 20170213, 20170214, 20170215, 20170216, 20170217, 20170221, 20170222, 20170223, 20170224, 20170227, 20170228, 20170301, 20170302, 20170303, 20170306, 20170307, 20170308, 20170309, 20170310, 20170313, 20170314, 20170315, 20170316, 20170317, 20170320, 20170321, 20170322, 20170323, 20170324, 20170327, 20170328, 20170329, 20170330, 20170331, 20170403, 20170404, 20170405, 20170406, 20170407, 20170410, 20170411, 20170412, 20170413, 20170417, 20170418, 20170419, 20170420, 20170421, 20170424, 20170425, 20170426, 20170427, 20170428, 20170501, 20170502, 20170503, 20170504, 20170505, 20170508, 20170509, 20170510, 20170511, 20170512, 20170515, 20170516, 20170517, 20170518, 20170519, 20170522, 20170523, 20170524, 20170525, 20170526, 20170530, 20170531, 20170601, 20170602, 20170605, 20170606, 20170607, 20170608, 20170609, 20170612, 20170613, 20170614, 20170615, 20170616, 20170619, 20170620, 20170621, 20170622, 20170623, 20170626, 20170627, 20170628, 20170629, 20170630, 20170703, 20170705, 20170706, 20170707, 20170710, 20170711, 20170712, 20170713, 20170714], \"y\": [377.5, 380.75, 378.0, 376.5, 372.0, 373.75, 382.75, 382.0, 379.75, 378.25, 383.25, 385.5, 384.0, 388.75, 389.25, 388.5, 392.5, 387.75, 382.5, 383.75, 385.5, 379.75, 378.25, 375.75, 381.0, 389.25, 386.25, 387.25, 385.5, 383.25, 379.75, 374.5, 372.0, 368.5, 369.75, 371.0, 373.5, 375.0, 371.25, 368.75, 366.5, 364.5, 363.75, 363.5, 365.5, 366.0, 365.0, 371.75, 375.25, 370.75, 372.5, 368.5, 367.25, 374.5, 373.75, 376.0, 378.0, 373.25, 368.25, 368.25, 364.25, 363.75, 365.5, 371.75, 366.75, 369.25, 366.5, 377.5, 372.25, 374.75, 366.5, 370.75, 366.0, 366.5, 373.75, 369.25, 371.0, 367.75, 367.75, 371.5, 366.0, 372.5, 375.0, 369.5, 371.25, 369.25, 374.25, 367.0, 372.0, 370.5, 372.75, 373.0, 377.25, 384.75, 385.75, 387.75, 377.25, 381.0, 377.0, 379.5, 384.0, 375.25, 370.0, 368.75, 362.75, 357.75, 359.0, 359.25, 356.75, 359.75, 370.5, 378.0, 381.75, 380.25, 382.25, 391.75, 392.25, 376.25, 361.0, 365.25], \"yaxis\": \"y\"}, {\"name\": \"back\", \"type\": \"scatter\", \"x\": [20170124, 20170125, 20170126, 20170127, 20170130, 20170131, 20170201, 20170202, 20170203, 20170206, 20170207, 20170208, 20170209, 20170210, 20170213, 20170214, 20170215, 20170216, 20170217, 20170221, 20170222, 20170223, 20170224, 20170227, 20170228, 20170301, 20170302, 20170303, 20170306, 20170307, 20170308, 20170309, 20170310, 20170313, 20170314, 20170315, 20170316, 20170317, 20170320, 20170321, 20170322, 20170323, 20170324, 20170327, 20170328, 20170329, 20170330, 20170331, 20170403, 20170404, 20170405, 20170406, 20170407, 20170410, 20170411, 20170412, 20170413, 20170417, 20170418, 20170419, 20170420, 20170421, 20170424, 20170425, 20170426, 20170427, 20170428, 20170501, 20170502, 20170503, 20170504, 20170505, 20170508, 20170509, 20170510, 20170511, 20170512, 20170515, 20170516, 20170517, 20170518, 20170519, 20170522, 20170523, 20170524, 20170525, 20170526, 20170530, 20170531, 20170601, 20170602, 20170605, 20170606, 20170607, 20170608, 20170609, 20170612, 20170613, 20170614, 20170615, 20170616, 20170619, 20170620, 20170621, 20170622, 20170623, 20170626, 20170627, 20170628, 20170629, 20170630, 20170703, 20170705, 20170706, 20170707, 20170710, 20170711, 20170712, 20170713, 20170714], \"y\": [391.0, 393.75, 390.75, 389.25, 385.5, 387.25, 396.25, 394.5, 392.75, 392.0, 396.25, 397.5, 395.75, 399.25, 399.5, 399.5, 402.75, 399.0, 394.25, 395.75, 397.25, 391.75, 391.0, 388.75, 393.75, 401.25, 398.5, 399.25, 398.0, 396.0, 392.75, 388.25, 386.5, 383.5, 384.25, 385.0, 387.5, 389.75, 386.25, 384.5, 382.0, 380.0, 379.5, 380.0, 381.75, 382.0, 381.0, 388.25, 392.0, 387.75, 389.25, 386.0, 384.5, 391.0, 390.5, 392.5, 394.5, 390.25, 386.25, 386.5, 382.5, 382.0, 383.5, 389.0, 384.25, 386.75, 385.0, 394.5, 390.0, 392.25, 384.5, 388.5, 384.25, 385.0, 391.5, 387.25, 388.75, 385.25, 385.5, 389.0, 384.0, 390.25, 392.75, 387.75, 389.75, 387.5, 392.5, 385.75, 391.0, 389.25, 391.0, 392.0, 395.75, 402.5, 403.75, 406.0, 395.5, 399.0, 395.5, 397.75, 402.0, 393.25, 388.0, 386.75, 380.75, 375.25, 377.0, 377.5, 376.25, 380.0, 392.0, 399.25, 404.0, 402.75, 404.75, 414.75, 414.25, 398.75, 383.0, 389.5], \"yaxis\": \"y\"}, {\"name\": \"spread\", \"type\": \"scatter\", \"x\": [20170124, 20170125, 20170126, 20170127, 20170130, 20170131, 20170201, 20170202, 20170203, 20170206, 20170207, 20170208, 20170209, 20170210, 20170213, 20170214, 20170215, 20170216, 20170217, 20170221, 20170222, 20170223, 20170224, 20170227, 20170228, 20170301, 20170302, 20170303, 20170306, 20170307, 20170308, 20170309, 20170310, 20170313, 20170314, 20170315, 20170316, 20170317, 20170320, 20170321, 20170322, 20170323, 20170324, 20170327, 20170328, 20170329, 20170330, 20170331, 20170403, 20170404, 20170405, 20170406, 20170407, 20170410, 20170411, 20170412, 20170413, 20170417, 20170418, 20170419, 20170420, 20170421, 20170424, 20170425, 20170426, 20170427, 20170428, 20170501, 20170502, 20170503, 20170504, 20170505, 20170508, 20170509, 20170510, 20170511, 20170512, 20170515, 20170516, 20170517, 20170518, 20170519, 20170522, 20170523, 20170524, 20170525, 20170526, 20170530, 20170531, 20170601, 20170602, 20170605, 20170606, 20170607, 20170608, 20170609, 20170612, 20170613, 20170614, 20170615, 20170616, 20170619, 20170620, 20170621, 20170622, 20170623, 20170626, 20170627, 20170628, 20170629, 20170630, 20170703, 20170705, 20170706, 20170707, 20170710, 20170711, 20170712, 20170713, 20170714], \"y\": [-13.5, -13.0, -12.75, -12.75, -13.5, -13.5, -13.5, -12.5, -13.0, -13.75, -13.0, -12.0, -11.75, -10.5, -10.25, -11.0, -10.25, -11.25, -11.75, -12.0, -11.75, -12.0, -12.75, -13.0, -12.75, -12.0, -12.25, -12.0, -12.5, -12.75, -13.0, -13.75, -14.5, -15.0, -14.5, -14.0, -14.0, -14.75, -15.0, -15.75, -15.5, -15.5, -15.75, -16.5, -16.25, -16.0, -16.0, -16.5, -16.75, -17.0, -16.75, -17.5, -17.25, -16.5, -16.75, -16.5, -16.5, -17.0, -18.0, -18.25, -18.25, -18.25, -18.0, -17.25, -17.5, -17.5, -18.5, -17.0, -17.75, -17.5, -18.0, -17.75, -18.25, -18.5, -17.75, -18.0, -17.75, -17.5, -17.75, -17.5, -18.0, -17.75, -17.75, -18.25, -18.5, -18.25, -18.25, -18.75, -19.0, -18.75, -18.25, -19.0, -18.5, -17.75, -18.0, -18.25, -18.25, -18.0, -18.5, -18.25, -18.0, -18.0, -18.0, -18.0, -18.0, -17.5, -18.0, -18.25, -19.5, -20.25, -21.5, -21.25, -22.25, -22.5, -22.5, -23.0, -22.0, -22.5, -22.0, -24.25], \"yaxis\": \"y2\"}],\n",
       "                        {\"autosize\": true, \"hovermode\": \"x\", \"legend\": {\"orientation\": \"h\", \"x\": 0, \"y\": 1.1}, \"margin\": {\"b\": 100}, \"modebar\": {\"bgcolor\": \"grey\", \"orientation\": \"v\"}, \"spikedistance\": 1000, \"template\": {\"data\": {\"bar\": [{\"error_x\": {\"color\": \"#2a3f5f\"}, \"error_y\": {\"color\": \"#2a3f5f\"}, \"marker\": {\"line\": {\"color\": \"#E5ECF6\", \"width\": 0.5}}, \"type\": \"bar\"}], \"barpolar\": [{\"marker\": {\"line\": {\"color\": \"#E5ECF6\", \"width\": 0.5}}, \"type\": \"barpolar\"}], \"carpet\": [{\"aaxis\": {\"endlinecolor\": \"#2a3f5f\", \"gridcolor\": \"white\", \"linecolor\": \"white\", \"minorgridcolor\": \"white\", \"startlinecolor\": \"#2a3f5f\"}, \"baxis\": {\"endlinecolor\": \"#2a3f5f\", \"gridcolor\": \"white\", \"linecolor\": \"white\", \"minorgridcolor\": \"white\", \"startlinecolor\": \"#2a3f5f\"}, \"type\": \"carpet\"}], \"choropleth\": [{\"colorbar\": {\"outlinewidth\": 0, \"ticks\": \"\"}, \"type\": \"choropleth\"}], \"contour\": [{\"colorbar\": {\"outlinewidth\": 0, \"ticks\": \"\"}, \"colorscale\": [[0.0, \"#0d0887\"], [0.1111111111111111, \"#46039f\"], [0.2222222222222222, \"#7201a8\"], [0.3333333333333333, \"#9c179e\"], [0.4444444444444444, \"#bd3786\"], [0.5555555555555556, \"#d8576b\"], [0.6666666666666666, \"#ed7953\"], [0.7777777777777778, \"#fb9f3a\"], [0.8888888888888888, \"#fdca26\"], [1.0, \"#f0f921\"]], \"type\": \"contour\"}], \"contourcarpet\": [{\"colorbar\": {\"outlinewidth\": 0, \"ticks\": \"\"}, \"type\": \"contourcarpet\"}], \"heatmap\": [{\"colorbar\": {\"outlinewidth\": 0, \"ticks\": \"\"}, \"colorscale\": [[0.0, \"#0d0887\"], [0.1111111111111111, \"#46039f\"], [0.2222222222222222, \"#7201a8\"], [0.3333333333333333, \"#9c179e\"], [0.4444444444444444, \"#bd3786\"], [0.5555555555555556, \"#d8576b\"], [0.6666666666666666, \"#ed7953\"], [0.7777777777777778, \"#fb9f3a\"], [0.8888888888888888, \"#fdca26\"], [1.0, \"#f0f921\"]], \"type\": \"heatmap\"}], \"heatmapgl\": [{\"colorbar\": {\"outlinewidth\": 0, \"ticks\": \"\"}, \"colorscale\": [[0.0, \"#0d0887\"], [0.1111111111111111, \"#46039f\"], [0.2222222222222222, \"#7201a8\"], [0.3333333333333333, \"#9c179e\"], [0.4444444444444444, \"#bd3786\"], [0.5555555555555556, \"#d8576b\"], [0.6666666666666666, \"#ed7953\"], [0.7777777777777778, \"#fb9f3a\"], [0.8888888888888888, \"#fdca26\"], [1.0, \"#f0f921\"]], \"type\": \"heatmapgl\"}], \"histogram\": [{\"marker\": {\"colorbar\": {\"outlinewidth\": 0, \"ticks\": \"\"}}, \"type\": \"histogram\"}], \"histogram2d\": [{\"colorbar\": {\"outlinewidth\": 0, \"ticks\": \"\"}, \"colorscale\": [[0.0, \"#0d0887\"], [0.1111111111111111, \"#46039f\"], [0.2222222222222222, \"#7201a8\"], [0.3333333333333333, \"#9c179e\"], [0.4444444444444444, \"#bd3786\"], [0.5555555555555556, \"#d8576b\"], [0.6666666666666666, \"#ed7953\"], [0.7777777777777778, \"#fb9f3a\"], [0.8888888888888888, \"#fdca26\"], [1.0, \"#f0f921\"]], \"type\": \"histogram2d\"}], \"histogram2dcontour\": [{\"colorbar\": {\"outlinewidth\": 0, \"ticks\": \"\"}, \"colorscale\": [[0.0, \"#0d0887\"], [0.1111111111111111, \"#46039f\"], [0.2222222222222222, \"#7201a8\"], [0.3333333333333333, \"#9c179e\"], [0.4444444444444444, \"#bd3786\"], [0.5555555555555556, \"#d8576b\"], [0.6666666666666666, \"#ed7953\"], [0.7777777777777778, \"#fb9f3a\"], [0.8888888888888888, \"#fdca26\"], [1.0, \"#f0f921\"]], \"type\": \"histogram2dcontour\"}], \"mesh3d\": [{\"colorbar\": {\"outlinewidth\": 0, \"ticks\": \"\"}, \"type\": \"mesh3d\"}], \"parcoords\": [{\"line\": {\"colorbar\": {\"outlinewidth\": 0, \"ticks\": \"\"}}, \"type\": \"parcoords\"}], \"pie\": [{\"automargin\": true, \"type\": \"pie\"}], \"scatter\": [{\"marker\": {\"colorbar\": {\"outlinewidth\": 0, \"ticks\": \"\"}}, \"type\": \"scatter\"}], \"scatter3d\": [{\"line\": {\"colorbar\": {\"outlinewidth\": 0, \"ticks\": \"\"}}, \"marker\": {\"colorbar\": {\"outlinewidth\": 0, \"ticks\": \"\"}}, \"type\": \"scatter3d\"}], \"scattercarpet\": [{\"marker\": {\"colorbar\": {\"outlinewidth\": 0, \"ticks\": \"\"}}, \"type\": \"scattercarpet\"}], \"scattergeo\": [{\"marker\": {\"colorbar\": {\"outlinewidth\": 0, \"ticks\": \"\"}}, \"type\": \"scattergeo\"}], \"scattergl\": [{\"marker\": {\"colorbar\": {\"outlinewidth\": 0, \"ticks\": \"\"}}, \"type\": \"scattergl\"}], \"scattermapbox\": [{\"marker\": {\"colorbar\": {\"outlinewidth\": 0, \"ticks\": \"\"}}, \"type\": \"scattermapbox\"}], \"scatterpolar\": [{\"marker\": {\"colorbar\": {\"outlinewidth\": 0, \"ticks\": \"\"}}, \"type\": \"scatterpolar\"}], \"scatterpolargl\": [{\"marker\": {\"colorbar\": {\"outlinewidth\": 0, \"ticks\": \"\"}}, \"type\": \"scatterpolargl\"}], \"scatterternary\": [{\"marker\": {\"colorbar\": {\"outlinewidth\": 0, \"ticks\": \"\"}}, \"type\": \"scatterternary\"}], \"surface\": [{\"colorbar\": {\"outlinewidth\": 0, \"ticks\": \"\"}, \"colorscale\": [[0.0, \"#0d0887\"], [0.1111111111111111, \"#46039f\"], [0.2222222222222222, \"#7201a8\"], [0.3333333333333333, \"#9c179e\"], [0.4444444444444444, \"#bd3786\"], [0.5555555555555556, \"#d8576b\"], [0.6666666666666666, \"#ed7953\"], [0.7777777777777778, \"#fb9f3a\"], [0.8888888888888888, \"#fdca26\"], [1.0, \"#f0f921\"]], \"type\": \"surface\"}], \"table\": [{\"cells\": {\"fill\": {\"color\": \"#EBF0F8\"}, \"line\": {\"color\": \"white\"}}, \"header\": {\"fill\": {\"color\": \"#C8D4E3\"}, \"line\": {\"color\": \"white\"}}, \"type\": \"table\"}]}, \"layout\": {\"annotationdefaults\": {\"arrowcolor\": \"#2a3f5f\", \"arrowhead\": 0, \"arrowwidth\": 1}, \"coloraxis\": {\"colorbar\": {\"outlinewidth\": 0, \"ticks\": \"\"}}, \"colorscale\": {\"diverging\": [[0, \"#8e0152\"], [0.1, \"#c51b7d\"], [0.2, \"#de77ae\"], [0.3, \"#f1b6da\"], [0.4, \"#fde0ef\"], [0.5, \"#f7f7f7\"], [0.6, \"#e6f5d0\"], [0.7, \"#b8e186\"], [0.8, \"#7fbc41\"], [0.9, \"#4d9221\"], [1, \"#276419\"]], \"sequential\": [[0.0, \"#0d0887\"], [0.1111111111111111, \"#46039f\"], [0.2222222222222222, \"#7201a8\"], [0.3333333333333333, \"#9c179e\"], [0.4444444444444444, \"#bd3786\"], [0.5555555555555556, \"#d8576b\"], [0.6666666666666666, \"#ed7953\"], [0.7777777777777778, \"#fb9f3a\"], [0.8888888888888888, \"#fdca26\"], [1.0, \"#f0f921\"]], \"sequentialminus\": [[0.0, \"#0d0887\"], [0.1111111111111111, \"#46039f\"], [0.2222222222222222, \"#7201a8\"], [0.3333333333333333, \"#9c179e\"], [0.4444444444444444, \"#bd3786\"], [0.5555555555555556, \"#d8576b\"], [0.6666666666666666, \"#ed7953\"], [0.7777777777777778, \"#fb9f3a\"], [0.8888888888888888, \"#fdca26\"], [1.0, \"#f0f921\"]]}, \"colorway\": [\"#636efa\", \"#EF553B\", \"#00cc96\", \"#ab63fa\", \"#FFA15A\", \"#19d3f3\", \"#FF6692\", \"#B6E880\", \"#FF97FF\", \"#FECB52\"], \"font\": {\"color\": \"#2a3f5f\"}, \"geo\": {\"bgcolor\": \"white\", \"lakecolor\": \"white\", \"landcolor\": \"#E5ECF6\", \"showlakes\": true, \"showland\": true, \"subunitcolor\": \"white\"}, \"hoverlabel\": {\"align\": \"left\"}, \"hovermode\": \"closest\", \"mapbox\": {\"style\": \"light\"}, \"paper_bgcolor\": \"white\", \"plot_bgcolor\": \"#E5ECF6\", \"polar\": {\"angularaxis\": {\"gridcolor\": \"white\", \"linecolor\": \"white\", \"ticks\": \"\"}, \"bgcolor\": \"#E5ECF6\", \"radialaxis\": {\"gridcolor\": \"white\", \"linecolor\": \"white\", \"ticks\": \"\"}}, \"scene\": {\"xaxis\": {\"backgroundcolor\": \"#E5ECF6\", \"gridcolor\": \"white\", \"gridwidth\": 2, \"linecolor\": \"white\", \"showbackground\": true, \"ticks\": \"\", \"zerolinecolor\": \"white\"}, \"yaxis\": {\"backgroundcolor\": \"#E5ECF6\", \"gridcolor\": \"white\", \"gridwidth\": 2, \"linecolor\": \"white\", \"showbackground\": true, \"ticks\": \"\", \"zerolinecolor\": \"white\"}, \"zaxis\": {\"backgroundcolor\": \"#E5ECF6\", \"gridcolor\": \"white\", \"gridwidth\": 2, \"linecolor\": \"white\", \"showbackground\": true, \"ticks\": \"\", \"zerolinecolor\": \"white\"}}, \"shapedefaults\": {\"line\": {\"color\": \"#2a3f5f\"}}, \"ternary\": {\"aaxis\": {\"gridcolor\": \"white\", \"linecolor\": \"white\", \"ticks\": \"\"}, \"baxis\": {\"gridcolor\": \"white\", \"linecolor\": \"white\", \"ticks\": \"\"}, \"bgcolor\": \"#E5ECF6\", \"caxis\": {\"gridcolor\": \"white\", \"linecolor\": \"white\", \"ticks\": \"\"}}, \"title\": {\"x\": 0.05}, \"xaxis\": {\"automargin\": true, \"gridcolor\": \"white\", \"linecolor\": \"white\", \"ticks\": \"\", \"title\": {\"standoff\": 15}, \"zerolinecolor\": \"white\", \"zerolinewidth\": 2}, \"yaxis\": {\"automargin\": true, \"gridcolor\": \"white\", \"linecolor\": \"white\", \"ticks\": \"\", \"title\": {\"standoff\": 15}, \"zerolinecolor\": \"white\", \"zerolinewidth\": 2}}}, \"title\": {\"text\": \"ZCN17 ZCZ17\", \"x\": 0.5, \"xanchor\": \"center\", \"y\": 0.9, \"yanchor\": \"top\"}, \"xaxis\": {\"showspikes\": true, \"spikedash\": \"solid\", \"spikemode\": \"toaxis+across\", \"spikethickness\": 1, \"tickangle\": 45, \"ticktext\": [20170124, 20170201, 20170209, 20170217, 20170228, 20170308, 20170316, 20170324, 20170403, 20170411, 20170420, 20170428, 20170508, 20170516, 20170524, 20170602, 20170612, 20170620, 20170628, 20170707], \"tickvals\": [20170124, 20170201, 20170209, 20170217, 20170228, 20170308, 20170316, 20170324, 20170403, 20170411, 20170420, 20170428, 20170508, 20170516, 20170524, 20170602, 20170612, 20170620, 20170628, 20170707], \"type\": \"category\"}, \"yaxis\": {\"showspikes\": true, \"spikedash\": \"solid\", \"spikemode\": \"toaxis+across\", \"spikethickness\": 1, \"title\": {\"text\": \"price\"}}, \"yaxis2\": {\"overlaying\": \"y\", \"side\": \"right\", \"title\": {\"text\": \"spread\"}}},\n",
       "                        {\"responsive\": true}\n",
       "                    ).then(function(){\n",
       "                            \n",
       "var gd = document.getElementById('ff185bfb-b2e1-4a85-bef5-cb1f117cf7fe');\n",
       "var x = new MutationObserver(function (mutations, observer) {{\n",
       "        var display = window.getComputedStyle(gd).display;\n",
       "        if (!display || display === 'none') {{\n",
       "            console.log([gd, 'removed!']);\n",
       "            Plotly.purge(gd);\n",
       "            observer.disconnect();\n",
       "        }}\n",
       "}});\n",
       "\n",
       "// Listen for the removal of the full notebook cells\n",
       "var notebookContainer = gd.closest('#notebook-container');\n",
       "if (notebookContainer) {{\n",
       "    x.observe(notebookContainer, {childList: true});\n",
       "}}\n",
       "\n",
       "// Listen for the clearing of the current output cell\n",
       "var outputEl = gd.closest('.output');\n",
       "if (outputEl) {{\n",
       "    x.observe(outputEl, {childList: true});\n",
       "}}\n",
       "\n",
       "                        })\n",
       "                };\n",
       "                });\n",
       "            </script>\n",
       "        </div>"
      ]
     },
     "metadata": {},
     "output_type": "display_data"
    },
    {
     "data": {
      "application/vnd.plotly.v1+json": {
       "config": {
        "linkText": "Export to plot.ly",
        "plotlyServerURL": "https://plot.ly",
        "showLink": false
       },
       "data": [
        {
         "name": "front",
         "type": "scatter",
         "x": [
          20180123,
          20180124,
          20180125,
          20180126,
          20180129,
          20180130,
          20180131,
          20180201,
          20180202,
          20180205,
          20180206,
          20180207,
          20180208,
          20180209,
          20180212,
          20180213,
          20180214,
          20180215,
          20180216,
          20180220,
          20180221,
          20180222,
          20180223,
          20180226,
          20180227,
          20180228,
          20180301,
          20180302,
          20180305,
          20180306,
          20180307,
          20180308,
          20180309,
          20180312,
          20180313,
          20180314,
          20180315,
          20180316,
          20180319,
          20180320,
          20180321,
          20180322,
          20180323,
          20180326,
          20180327,
          20180328,
          20180329,
          20180402,
          20180403,
          20180404,
          20180405,
          20180406,
          20180409,
          20180410,
          20180411,
          20180412,
          20180413,
          20180416,
          20180417,
          20180418,
          20180419,
          20180420,
          20180423,
          20180424,
          20180425,
          20180426,
          20180427,
          20180430,
          20180501,
          20180502,
          20180503,
          20180504,
          20180507,
          20180508,
          20180509,
          20180510,
          20180511,
          20180514,
          20180515,
          20180516,
          20180517,
          20180518,
          20180521,
          20180522,
          20180523,
          20180524,
          20180525,
          20180529,
          20180530,
          20180531,
          20180601,
          20180604,
          20180605,
          20180606,
          20180607,
          20180608,
          20180611,
          20180612,
          20180613,
          20180614,
          20180615,
          20180618,
          20180619,
          20180620,
          20180621,
          20180622,
          20180625,
          20180626,
          20180627,
          20180628,
          20180629,
          20180702,
          20180703,
          20180705,
          20180706,
          20180709,
          20180710,
          20180711,
          20180712,
          20180713
         ],
         "y": [
          368,
          373,
          371.75,
          373.25,
          375,
          377.5,
          377.25,
          377.75,
          377.25,
          374.25,
          378.75,
          380.25,
          381,
          377.5,
          382.5,
          382,
          382.5,
          383,
          382.75,
          381.5,
          381.75,
          382.5,
          382.25,
          385,
          387,
          389.5,
          393.5,
          392.5,
          394.5,
          395.5,
          394.5,
          400.5,
          398,
          398.5,
          399.75,
          396.75,
          394.5,
          391,
          383.25,
          382.5,
          383,
          384.25,
          385.75,
          382.5,
          382.5,
          382.25,
          396.25,
          395.75,
          397.25,
          389.75,
          398.25,
          397,
          399,
          397.75,
          395.75,
          397.25,
          394.5,
          391,
          389.25,
          391.75,
          391,
          385.5,
          387.5,
          390,
          395.75,
          395.25,
          398.5,
          400.75,
          405.75,
          405,
          408,
          406.25,
          400.75,
          403.25,
          402.75,
          402,
          396.5,
          396.5,
          402.25,
          399.25,
          395.25,
          402.5,
          402.75,
          404.75,
          408.5,
          404.25,
          406,
          400,
          393.5,
          394,
          391.5,
          380.75,
          383.75,
          378.25,
          376.25,
          377.75,
          367.25,
          377.5,
          376,
          363,
          361.25,
          356,
          353.75,
          354.25,
          357,
          357.25,
          350.5,
          352.5,
          352.5,
          345,
          350.25,
          337.5,
          342.75,
          343.5,
          351.75,
          345.75,
          339.75,
          331.25,
          336.5,
          330.25
         ],
         "yaxis": "y"
        },
        {
         "name": "back",
         "type": "scatter",
         "x": [
          20180123,
          20180124,
          20180125,
          20180126,
          20180129,
          20180130,
          20180131,
          20180201,
          20180202,
          20180205,
          20180206,
          20180207,
          20180208,
          20180209,
          20180212,
          20180213,
          20180214,
          20180215,
          20180216,
          20180220,
          20180221,
          20180222,
          20180223,
          20180226,
          20180227,
          20180228,
          20180301,
          20180302,
          20180305,
          20180306,
          20180307,
          20180308,
          20180309,
          20180312,
          20180313,
          20180314,
          20180315,
          20180316,
          20180319,
          20180320,
          20180321,
          20180322,
          20180323,
          20180326,
          20180327,
          20180328,
          20180329,
          20180402,
          20180403,
          20180404,
          20180405,
          20180406,
          20180409,
          20180410,
          20180411,
          20180412,
          20180413,
          20180416,
          20180417,
          20180418,
          20180419,
          20180420,
          20180423,
          20180424,
          20180425,
          20180426,
          20180427,
          20180430,
          20180501,
          20180502,
          20180503,
          20180504,
          20180507,
          20180508,
          20180509,
          20180510,
          20180511,
          20180514,
          20180515,
          20180516,
          20180517,
          20180518,
          20180521,
          20180522,
          20180523,
          20180524,
          20180525,
          20180529,
          20180530,
          20180531,
          20180601,
          20180604,
          20180605,
          20180606,
          20180607,
          20180608,
          20180611,
          20180612,
          20180613,
          20180614,
          20180615,
          20180618,
          20180619,
          20180620,
          20180621,
          20180622,
          20180625,
          20180626,
          20180627,
          20180628,
          20180629,
          20180702,
          20180703,
          20180705,
          20180706,
          20180709,
          20180710,
          20180711,
          20180712,
          20180713
         ],
         "y": [
          385,
          389.5,
          388.5,
          389.5,
          391.5,
          393.5,
          393.25,
          393.25,
          392.5,
          389.5,
          393.5,
          394.75,
          395,
          392.25,
          397,
          396,
          396.5,
          397.5,
          397,
          396,
          396.5,
          397.25,
          397.25,
          399,
          400,
          401.5,
          404.75,
          404.25,
          406,
          406.5,
          406.25,
          410.25,
          407.25,
          407.75,
          409.75,
          407.75,
          406.25,
          403.75,
          397.5,
          397.25,
          396.75,
          398,
          399.25,
          396.75,
          397,
          397,
          411.5,
          411.25,
          412.25,
          405,
          413.25,
          412.5,
          414.75,
          414,
          412,
          413.5,
          410.75,
          407.25,
          406,
          408.5,
          408,
          402.5,
          404.25,
          406.5,
          412.25,
          411.25,
          414.5,
          416,
          420.25,
          419.75,
          422.25,
          421,
          416.5,
          419.5,
          419.5,
          419.5,
          414.5,
          414.25,
          419.25,
          417,
          413,
          420.25,
          421,
          423.25,
          426.5,
          422.5,
          425,
          419,
          413.25,
          413.75,
          411.75,
          401.25,
          404,
          399.75,
          396.75,
          398,
          388.25,
          398.25,
          397,
          384.5,
          382.75,
          377.25,
          375.5,
          375.75,
          378.25,
          378,
          371.5,
          373.25,
          373.25,
          366,
          371.25,
          359,
          364.25,
          364.5,
          373,
          367,
          360.75,
          353.25,
          359.25,
          354.75
         ],
         "yaxis": "y"
        },
        {
         "name": "spread",
         "type": "scatter",
         "x": [
          20180123,
          20180124,
          20180125,
          20180126,
          20180129,
          20180130,
          20180131,
          20180201,
          20180202,
          20180205,
          20180206,
          20180207,
          20180208,
          20180209,
          20180212,
          20180213,
          20180214,
          20180215,
          20180216,
          20180220,
          20180221,
          20180222,
          20180223,
          20180226,
          20180227,
          20180228,
          20180301,
          20180302,
          20180305,
          20180306,
          20180307,
          20180308,
          20180309,
          20180312,
          20180313,
          20180314,
          20180315,
          20180316,
          20180319,
          20180320,
          20180321,
          20180322,
          20180323,
          20180326,
          20180327,
          20180328,
          20180329,
          20180402,
          20180403,
          20180404,
          20180405,
          20180406,
          20180409,
          20180410,
          20180411,
          20180412,
          20180413,
          20180416,
          20180417,
          20180418,
          20180419,
          20180420,
          20180423,
          20180424,
          20180425,
          20180426,
          20180427,
          20180430,
          20180501,
          20180502,
          20180503,
          20180504,
          20180507,
          20180508,
          20180509,
          20180510,
          20180511,
          20180514,
          20180515,
          20180516,
          20180517,
          20180518,
          20180521,
          20180522,
          20180523,
          20180524,
          20180525,
          20180529,
          20180530,
          20180531,
          20180601,
          20180604,
          20180605,
          20180606,
          20180607,
          20180608,
          20180611,
          20180612,
          20180613,
          20180614,
          20180615,
          20180618,
          20180619,
          20180620,
          20180621,
          20180622,
          20180625,
          20180626,
          20180627,
          20180628,
          20180629,
          20180702,
          20180703,
          20180705,
          20180706,
          20180709,
          20180710,
          20180711,
          20180712,
          20180713
         ],
         "y": [
          -17,
          -16.5,
          -16.75,
          -16.25,
          -16.5,
          -16,
          -16,
          -15.5,
          -15.25,
          -15.25,
          -14.75,
          -14.5,
          -14,
          -14.75,
          -14.5,
          -14,
          -14,
          -14.5,
          -14.25,
          -14.5,
          -14.75,
          -14.75,
          -15,
          -14,
          -13,
          -12,
          -11.25,
          -11.75,
          -11.5,
          -11,
          -11.75,
          -9.75,
          -9.25,
          -9.25,
          -10,
          -11,
          -11.75,
          -12.75,
          -14.25,
          -14.75,
          -13.75,
          -13.75,
          -13.5,
          -14.25,
          -14.5,
          -14.75,
          -15.25,
          -15.5,
          -15,
          -15.25,
          -15,
          -15.5,
          -15.75,
          -16.25,
          -16.25,
          -16.25,
          -16.25,
          -16.25,
          -16.75,
          -16.75,
          -17,
          -17,
          -16.75,
          -16.5,
          -16.5,
          -16,
          -16,
          -15.25,
          -14.5,
          -14.75,
          -14.25,
          -14.75,
          -15.75,
          -16.25,
          -16.75,
          -17.5,
          -18,
          -17.75,
          -17,
          -17.75,
          -17.75,
          -17.75,
          -18.25,
          -18.5,
          -18,
          -18.25,
          -19,
          -19,
          -19.75,
          -19.75,
          -20.25,
          -20.5,
          -20.25,
          -21.5,
          -20.5,
          -20.25,
          -21,
          -20.75,
          -21,
          -21.5,
          -21.5,
          -21.25,
          -21.75,
          -21.5,
          -21.25,
          -20.75,
          -21,
          -20.75,
          -20.75,
          -21,
          -21,
          -21.5,
          -21.5,
          -21,
          -21.25,
          -21.25,
          -21,
          -22,
          -22.75,
          -24.5
         ],
         "yaxis": "y2"
        }
       ],
       "layout": {
        "autosize": true,
        "hovermode": "x",
        "legend": {
         "orientation": "h",
         "x": 0,
         "y": 1.1
        },
        "margin": {
         "b": 100
        },
        "modebar": {
         "bgcolor": "grey",
         "orientation": "v"
        },
        "spikedistance": 1000,
        "template": {
         "data": {
          "bar": [
           {
            "error_x": {
             "color": "#2a3f5f"
            },
            "error_y": {
             "color": "#2a3f5f"
            },
            "marker": {
             "line": {
              "color": "#E5ECF6",
              "width": 0.5
             }
            },
            "type": "bar"
           }
          ],
          "barpolar": [
           {
            "marker": {
             "line": {
              "color": "#E5ECF6",
              "width": 0.5
             }
            },
            "type": "barpolar"
           }
          ],
          "carpet": [
           {
            "aaxis": {
             "endlinecolor": "#2a3f5f",
             "gridcolor": "white",
             "linecolor": "white",
             "minorgridcolor": "white",
             "startlinecolor": "#2a3f5f"
            },
            "baxis": {
             "endlinecolor": "#2a3f5f",
             "gridcolor": "white",
             "linecolor": "white",
             "minorgridcolor": "white",
             "startlinecolor": "#2a3f5f"
            },
            "type": "carpet"
           }
          ],
          "choropleth": [
           {
            "colorbar": {
             "outlinewidth": 0,
             "ticks": ""
            },
            "type": "choropleth"
           }
          ],
          "contour": [
           {
            "colorbar": {
             "outlinewidth": 0,
             "ticks": ""
            },
            "colorscale": [
             [
              0,
              "#0d0887"
             ],
             [
              0.1111111111111111,
              "#46039f"
             ],
             [
              0.2222222222222222,
              "#7201a8"
             ],
             [
              0.3333333333333333,
              "#9c179e"
             ],
             [
              0.4444444444444444,
              "#bd3786"
             ],
             [
              0.5555555555555556,
              "#d8576b"
             ],
             [
              0.6666666666666666,
              "#ed7953"
             ],
             [
              0.7777777777777778,
              "#fb9f3a"
             ],
             [
              0.8888888888888888,
              "#fdca26"
             ],
             [
              1,
              "#f0f921"
             ]
            ],
            "type": "contour"
           }
          ],
          "contourcarpet": [
           {
            "colorbar": {
             "outlinewidth": 0,
             "ticks": ""
            },
            "type": "contourcarpet"
           }
          ],
          "heatmap": [
           {
            "colorbar": {
             "outlinewidth": 0,
             "ticks": ""
            },
            "colorscale": [
             [
              0,
              "#0d0887"
             ],
             [
              0.1111111111111111,
              "#46039f"
             ],
             [
              0.2222222222222222,
              "#7201a8"
             ],
             [
              0.3333333333333333,
              "#9c179e"
             ],
             [
              0.4444444444444444,
              "#bd3786"
             ],
             [
              0.5555555555555556,
              "#d8576b"
             ],
             [
              0.6666666666666666,
              "#ed7953"
             ],
             [
              0.7777777777777778,
              "#fb9f3a"
             ],
             [
              0.8888888888888888,
              "#fdca26"
             ],
             [
              1,
              "#f0f921"
             ]
            ],
            "type": "heatmap"
           }
          ],
          "heatmapgl": [
           {
            "colorbar": {
             "outlinewidth": 0,
             "ticks": ""
            },
            "colorscale": [
             [
              0,
              "#0d0887"
             ],
             [
              0.1111111111111111,
              "#46039f"
             ],
             [
              0.2222222222222222,
              "#7201a8"
             ],
             [
              0.3333333333333333,
              "#9c179e"
             ],
             [
              0.4444444444444444,
              "#bd3786"
             ],
             [
              0.5555555555555556,
              "#d8576b"
             ],
             [
              0.6666666666666666,
              "#ed7953"
             ],
             [
              0.7777777777777778,
              "#fb9f3a"
             ],
             [
              0.8888888888888888,
              "#fdca26"
             ],
             [
              1,
              "#f0f921"
             ]
            ],
            "type": "heatmapgl"
           }
          ],
          "histogram": [
           {
            "marker": {
             "colorbar": {
              "outlinewidth": 0,
              "ticks": ""
             }
            },
            "type": "histogram"
           }
          ],
          "histogram2d": [
           {
            "colorbar": {
             "outlinewidth": 0,
             "ticks": ""
            },
            "colorscale": [
             [
              0,
              "#0d0887"
             ],
             [
              0.1111111111111111,
              "#46039f"
             ],
             [
              0.2222222222222222,
              "#7201a8"
             ],
             [
              0.3333333333333333,
              "#9c179e"
             ],
             [
              0.4444444444444444,
              "#bd3786"
             ],
             [
              0.5555555555555556,
              "#d8576b"
             ],
             [
              0.6666666666666666,
              "#ed7953"
             ],
             [
              0.7777777777777778,
              "#fb9f3a"
             ],
             [
              0.8888888888888888,
              "#fdca26"
             ],
             [
              1,
              "#f0f921"
             ]
            ],
            "type": "histogram2d"
           }
          ],
          "histogram2dcontour": [
           {
            "colorbar": {
             "outlinewidth": 0,
             "ticks": ""
            },
            "colorscale": [
             [
              0,
              "#0d0887"
             ],
             [
              0.1111111111111111,
              "#46039f"
             ],
             [
              0.2222222222222222,
              "#7201a8"
             ],
             [
              0.3333333333333333,
              "#9c179e"
             ],
             [
              0.4444444444444444,
              "#bd3786"
             ],
             [
              0.5555555555555556,
              "#d8576b"
             ],
             [
              0.6666666666666666,
              "#ed7953"
             ],
             [
              0.7777777777777778,
              "#fb9f3a"
             ],
             [
              0.8888888888888888,
              "#fdca26"
             ],
             [
              1,
              "#f0f921"
             ]
            ],
            "type": "histogram2dcontour"
           }
          ],
          "mesh3d": [
           {
            "colorbar": {
             "outlinewidth": 0,
             "ticks": ""
            },
            "type": "mesh3d"
           }
          ],
          "parcoords": [
           {
            "line": {
             "colorbar": {
              "outlinewidth": 0,
              "ticks": ""
             }
            },
            "type": "parcoords"
           }
          ],
          "pie": [
           {
            "automargin": true,
            "type": "pie"
           }
          ],
          "scatter": [
           {
            "marker": {
             "colorbar": {
              "outlinewidth": 0,
              "ticks": ""
             }
            },
            "type": "scatter"
           }
          ],
          "scatter3d": [
           {
            "line": {
             "colorbar": {
              "outlinewidth": 0,
              "ticks": ""
             }
            },
            "marker": {
             "colorbar": {
              "outlinewidth": 0,
              "ticks": ""
             }
            },
            "type": "scatter3d"
           }
          ],
          "scattercarpet": [
           {
            "marker": {
             "colorbar": {
              "outlinewidth": 0,
              "ticks": ""
             }
            },
            "type": "scattercarpet"
           }
          ],
          "scattergeo": [
           {
            "marker": {
             "colorbar": {
              "outlinewidth": 0,
              "ticks": ""
             }
            },
            "type": "scattergeo"
           }
          ],
          "scattergl": [
           {
            "marker": {
             "colorbar": {
              "outlinewidth": 0,
              "ticks": ""
             }
            },
            "type": "scattergl"
           }
          ],
          "scattermapbox": [
           {
            "marker": {
             "colorbar": {
              "outlinewidth": 0,
              "ticks": ""
             }
            },
            "type": "scattermapbox"
           }
          ],
          "scatterpolar": [
           {
            "marker": {
             "colorbar": {
              "outlinewidth": 0,
              "ticks": ""
             }
            },
            "type": "scatterpolar"
           }
          ],
          "scatterpolargl": [
           {
            "marker": {
             "colorbar": {
              "outlinewidth": 0,
              "ticks": ""
             }
            },
            "type": "scatterpolargl"
           }
          ],
          "scatterternary": [
           {
            "marker": {
             "colorbar": {
              "outlinewidth": 0,
              "ticks": ""
             }
            },
            "type": "scatterternary"
           }
          ],
          "surface": [
           {
            "colorbar": {
             "outlinewidth": 0,
             "ticks": ""
            },
            "colorscale": [
             [
              0,
              "#0d0887"
             ],
             [
              0.1111111111111111,
              "#46039f"
             ],
             [
              0.2222222222222222,
              "#7201a8"
             ],
             [
              0.3333333333333333,
              "#9c179e"
             ],
             [
              0.4444444444444444,
              "#bd3786"
             ],
             [
              0.5555555555555556,
              "#d8576b"
             ],
             [
              0.6666666666666666,
              "#ed7953"
             ],
             [
              0.7777777777777778,
              "#fb9f3a"
             ],
             [
              0.8888888888888888,
              "#fdca26"
             ],
             [
              1,
              "#f0f921"
             ]
            ],
            "type": "surface"
           }
          ],
          "table": [
           {
            "cells": {
             "fill": {
              "color": "#EBF0F8"
             },
             "line": {
              "color": "white"
             }
            },
            "header": {
             "fill": {
              "color": "#C8D4E3"
             },
             "line": {
              "color": "white"
             }
            },
            "type": "table"
           }
          ]
         },
         "layout": {
          "annotationdefaults": {
           "arrowcolor": "#2a3f5f",
           "arrowhead": 0,
           "arrowwidth": 1
          },
          "coloraxis": {
           "colorbar": {
            "outlinewidth": 0,
            "ticks": ""
           }
          },
          "colorscale": {
           "diverging": [
            [
             0,
             "#8e0152"
            ],
            [
             0.1,
             "#c51b7d"
            ],
            [
             0.2,
             "#de77ae"
            ],
            [
             0.3,
             "#f1b6da"
            ],
            [
             0.4,
             "#fde0ef"
            ],
            [
             0.5,
             "#f7f7f7"
            ],
            [
             0.6,
             "#e6f5d0"
            ],
            [
             0.7,
             "#b8e186"
            ],
            [
             0.8,
             "#7fbc41"
            ],
            [
             0.9,
             "#4d9221"
            ],
            [
             1,
             "#276419"
            ]
           ],
           "sequential": [
            [
             0,
             "#0d0887"
            ],
            [
             0.1111111111111111,
             "#46039f"
            ],
            [
             0.2222222222222222,
             "#7201a8"
            ],
            [
             0.3333333333333333,
             "#9c179e"
            ],
            [
             0.4444444444444444,
             "#bd3786"
            ],
            [
             0.5555555555555556,
             "#d8576b"
            ],
            [
             0.6666666666666666,
             "#ed7953"
            ],
            [
             0.7777777777777778,
             "#fb9f3a"
            ],
            [
             0.8888888888888888,
             "#fdca26"
            ],
            [
             1,
             "#f0f921"
            ]
           ],
           "sequentialminus": [
            [
             0,
             "#0d0887"
            ],
            [
             0.1111111111111111,
             "#46039f"
            ],
            [
             0.2222222222222222,
             "#7201a8"
            ],
            [
             0.3333333333333333,
             "#9c179e"
            ],
            [
             0.4444444444444444,
             "#bd3786"
            ],
            [
             0.5555555555555556,
             "#d8576b"
            ],
            [
             0.6666666666666666,
             "#ed7953"
            ],
            [
             0.7777777777777778,
             "#fb9f3a"
            ],
            [
             0.8888888888888888,
             "#fdca26"
            ],
            [
             1,
             "#f0f921"
            ]
           ]
          },
          "colorway": [
           "#636efa",
           "#EF553B",
           "#00cc96",
           "#ab63fa",
           "#FFA15A",
           "#19d3f3",
           "#FF6692",
           "#B6E880",
           "#FF97FF",
           "#FECB52"
          ],
          "font": {
           "color": "#2a3f5f"
          },
          "geo": {
           "bgcolor": "white",
           "lakecolor": "white",
           "landcolor": "#E5ECF6",
           "showlakes": true,
           "showland": true,
           "subunitcolor": "white"
          },
          "hoverlabel": {
           "align": "left"
          },
          "hovermode": "closest",
          "mapbox": {
           "style": "light"
          },
          "paper_bgcolor": "white",
          "plot_bgcolor": "#E5ECF6",
          "polar": {
           "angularaxis": {
            "gridcolor": "white",
            "linecolor": "white",
            "ticks": ""
           },
           "bgcolor": "#E5ECF6",
           "radialaxis": {
            "gridcolor": "white",
            "linecolor": "white",
            "ticks": ""
           }
          },
          "scene": {
           "xaxis": {
            "backgroundcolor": "#E5ECF6",
            "gridcolor": "white",
            "gridwidth": 2,
            "linecolor": "white",
            "showbackground": true,
            "ticks": "",
            "zerolinecolor": "white"
           },
           "yaxis": {
            "backgroundcolor": "#E5ECF6",
            "gridcolor": "white",
            "gridwidth": 2,
            "linecolor": "white",
            "showbackground": true,
            "ticks": "",
            "zerolinecolor": "white"
           },
           "zaxis": {
            "backgroundcolor": "#E5ECF6",
            "gridcolor": "white",
            "gridwidth": 2,
            "linecolor": "white",
            "showbackground": true,
            "ticks": "",
            "zerolinecolor": "white"
           }
          },
          "shapedefaults": {
           "line": {
            "color": "#2a3f5f"
           }
          },
          "ternary": {
           "aaxis": {
            "gridcolor": "white",
            "linecolor": "white",
            "ticks": ""
           },
           "baxis": {
            "gridcolor": "white",
            "linecolor": "white",
            "ticks": ""
           },
           "bgcolor": "#E5ECF6",
           "caxis": {
            "gridcolor": "white",
            "linecolor": "white",
            "ticks": ""
           }
          },
          "title": {
           "x": 0.05
          },
          "xaxis": {
           "automargin": true,
           "gridcolor": "white",
           "linecolor": "white",
           "ticks": "",
           "title": {
            "standoff": 15
           },
           "zerolinecolor": "white",
           "zerolinewidth": 2
          },
          "yaxis": {
           "automargin": true,
           "gridcolor": "white",
           "linecolor": "white",
           "ticks": "",
           "title": {
            "standoff": 15
           },
           "zerolinecolor": "white",
           "zerolinewidth": 2
          }
         }
        },
        "title": {
         "text": "ZCN18 ZCZ18",
         "x": 0.5,
         "xanchor": "center",
         "y": 0.9,
         "yanchor": "top"
        },
        "xaxis": {
         "showspikes": true,
         "spikedash": "solid",
         "spikemode": "toaxis+across",
         "spikethickness": 1,
         "tickangle": 45,
         "ticktext": [
          20180123,
          20180131,
          20180208,
          20180216,
          20180227,
          20180307,
          20180315,
          20180323,
          20180403,
          20180411,
          20180419,
          20180427,
          20180507,
          20180515,
          20180523,
          20180601,
          20180611,
          20180619,
          20180627,
          20180706
         ],
         "tickvals": [
          20180123,
          20180131,
          20180208,
          20180216,
          20180227,
          20180307,
          20180315,
          20180323,
          20180403,
          20180411,
          20180419,
          20180427,
          20180507,
          20180515,
          20180523,
          20180601,
          20180611,
          20180619,
          20180627,
          20180706
         ],
         "type": "category"
        },
        "yaxis": {
         "showspikes": true,
         "spikedash": "solid",
         "spikemode": "toaxis+across",
         "spikethickness": 1,
         "title": {
          "text": "price"
         }
        },
        "yaxis2": {
         "overlaying": "y",
         "side": "right",
         "title": {
          "text": "spread"
         }
        }
       }
      },
      "text/html": [
       "<div>\n",
       "        \n",
       "        \n",
       "            <div id=\"43664ab3-75b0-478c-bb6a-b27ed14bb2cf\" class=\"plotly-graph-div\" style=\"height:525px; width:100%;\"></div>\n",
       "            <script type=\"text/javascript\">\n",
       "                require([\"plotly\"], function(Plotly) {\n",
       "                    window.PLOTLYENV=window.PLOTLYENV || {};\n",
       "                    \n",
       "                if (document.getElementById(\"43664ab3-75b0-478c-bb6a-b27ed14bb2cf\")) {\n",
       "                    Plotly.newPlot(\n",
       "                        '43664ab3-75b0-478c-bb6a-b27ed14bb2cf',\n",
       "                        [{\"name\": \"front\", \"type\": \"scatter\", \"x\": [20180123, 20180124, 20180125, 20180126, 20180129, 20180130, 20180131, 20180201, 20180202, 20180205, 20180206, 20180207, 20180208, 20180209, 20180212, 20180213, 20180214, 20180215, 20180216, 20180220, 20180221, 20180222, 20180223, 20180226, 20180227, 20180228, 20180301, 20180302, 20180305, 20180306, 20180307, 20180308, 20180309, 20180312, 20180313, 20180314, 20180315, 20180316, 20180319, 20180320, 20180321, 20180322, 20180323, 20180326, 20180327, 20180328, 20180329, 20180402, 20180403, 20180404, 20180405, 20180406, 20180409, 20180410, 20180411, 20180412, 20180413, 20180416, 20180417, 20180418, 20180419, 20180420, 20180423, 20180424, 20180425, 20180426, 20180427, 20180430, 20180501, 20180502, 20180503, 20180504, 20180507, 20180508, 20180509, 20180510, 20180511, 20180514, 20180515, 20180516, 20180517, 20180518, 20180521, 20180522, 20180523, 20180524, 20180525, 20180529, 20180530, 20180531, 20180601, 20180604, 20180605, 20180606, 20180607, 20180608, 20180611, 20180612, 20180613, 20180614, 20180615, 20180618, 20180619, 20180620, 20180621, 20180622, 20180625, 20180626, 20180627, 20180628, 20180629, 20180702, 20180703, 20180705, 20180706, 20180709, 20180710, 20180711, 20180712, 20180713], \"y\": [368.0, 373.0, 371.75, 373.25, 375.0, 377.5, 377.25, 377.75, 377.25, 374.25, 378.75, 380.25, 381.0, 377.5, 382.5, 382.0, 382.5, 383.0, 382.75, 381.5, 381.75, 382.5, 382.25, 385.0, 387.0, 389.5, 393.5, 392.5, 394.5, 395.5, 394.5, 400.5, 398.0, 398.5, 399.75, 396.75, 394.5, 391.0, 383.25, 382.5, 383.0, 384.25, 385.75, 382.5, 382.5, 382.25, 396.25, 395.75, 397.25, 389.75, 398.25, 397.0, 399.0, 397.75, 395.75, 397.25, 394.5, 391.0, 389.25, 391.75, 391.0, 385.5, 387.5, 390.0, 395.75, 395.25, 398.5, 400.75, 405.75, 405.0, 408.0, 406.25, 400.75, 403.25, 402.75, 402.0, 396.5, 396.5, 402.25, 399.25, 395.25, 402.5, 402.75, 404.75, 408.5, 404.25, 406.0, 400.0, 393.5, 394.0, 391.5, 380.75, 383.75, 378.25, 376.25, 377.75, 367.25, 377.5, 376.0, 363.0, 361.25, 356.0, 353.75, 354.25, 357.0, 357.25, 350.5, 352.5, 352.5, 345.0, 350.25, 337.5, 342.75, 343.5, 351.75, 345.75, 339.75, 331.25, 336.5, 330.25], \"yaxis\": \"y\"}, {\"name\": \"back\", \"type\": \"scatter\", \"x\": [20180123, 20180124, 20180125, 20180126, 20180129, 20180130, 20180131, 20180201, 20180202, 20180205, 20180206, 20180207, 20180208, 20180209, 20180212, 20180213, 20180214, 20180215, 20180216, 20180220, 20180221, 20180222, 20180223, 20180226, 20180227, 20180228, 20180301, 20180302, 20180305, 20180306, 20180307, 20180308, 20180309, 20180312, 20180313, 20180314, 20180315, 20180316, 20180319, 20180320, 20180321, 20180322, 20180323, 20180326, 20180327, 20180328, 20180329, 20180402, 20180403, 20180404, 20180405, 20180406, 20180409, 20180410, 20180411, 20180412, 20180413, 20180416, 20180417, 20180418, 20180419, 20180420, 20180423, 20180424, 20180425, 20180426, 20180427, 20180430, 20180501, 20180502, 20180503, 20180504, 20180507, 20180508, 20180509, 20180510, 20180511, 20180514, 20180515, 20180516, 20180517, 20180518, 20180521, 20180522, 20180523, 20180524, 20180525, 20180529, 20180530, 20180531, 20180601, 20180604, 20180605, 20180606, 20180607, 20180608, 20180611, 20180612, 20180613, 20180614, 20180615, 20180618, 20180619, 20180620, 20180621, 20180622, 20180625, 20180626, 20180627, 20180628, 20180629, 20180702, 20180703, 20180705, 20180706, 20180709, 20180710, 20180711, 20180712, 20180713], \"y\": [385.0, 389.5, 388.5, 389.5, 391.5, 393.5, 393.25, 393.25, 392.5, 389.5, 393.5, 394.75, 395.0, 392.25, 397.0, 396.0, 396.5, 397.5, 397.0, 396.0, 396.5, 397.25, 397.25, 399.0, 400.0, 401.5, 404.75, 404.25, 406.0, 406.5, 406.25, 410.25, 407.25, 407.75, 409.75, 407.75, 406.25, 403.75, 397.5, 397.25, 396.75, 398.0, 399.25, 396.75, 397.0, 397.0, 411.5, 411.25, 412.25, 405.0, 413.25, 412.5, 414.75, 414.0, 412.0, 413.5, 410.75, 407.25, 406.0, 408.5, 408.0, 402.5, 404.25, 406.5, 412.25, 411.25, 414.5, 416.0, 420.25, 419.75, 422.25, 421.0, 416.5, 419.5, 419.5, 419.5, 414.5, 414.25, 419.25, 417.0, 413.0, 420.25, 421.0, 423.25, 426.5, 422.5, 425.0, 419.0, 413.25, 413.75, 411.75, 401.25, 404.0, 399.75, 396.75, 398.0, 388.25, 398.25, 397.0, 384.5, 382.75, 377.25, 375.5, 375.75, 378.25, 378.0, 371.5, 373.25, 373.25, 366.0, 371.25, 359.0, 364.25, 364.5, 373.0, 367.0, 360.75, 353.25, 359.25, 354.75], \"yaxis\": \"y\"}, {\"name\": \"spread\", \"type\": \"scatter\", \"x\": [20180123, 20180124, 20180125, 20180126, 20180129, 20180130, 20180131, 20180201, 20180202, 20180205, 20180206, 20180207, 20180208, 20180209, 20180212, 20180213, 20180214, 20180215, 20180216, 20180220, 20180221, 20180222, 20180223, 20180226, 20180227, 20180228, 20180301, 20180302, 20180305, 20180306, 20180307, 20180308, 20180309, 20180312, 20180313, 20180314, 20180315, 20180316, 20180319, 20180320, 20180321, 20180322, 20180323, 20180326, 20180327, 20180328, 20180329, 20180402, 20180403, 20180404, 20180405, 20180406, 20180409, 20180410, 20180411, 20180412, 20180413, 20180416, 20180417, 20180418, 20180419, 20180420, 20180423, 20180424, 20180425, 20180426, 20180427, 20180430, 20180501, 20180502, 20180503, 20180504, 20180507, 20180508, 20180509, 20180510, 20180511, 20180514, 20180515, 20180516, 20180517, 20180518, 20180521, 20180522, 20180523, 20180524, 20180525, 20180529, 20180530, 20180531, 20180601, 20180604, 20180605, 20180606, 20180607, 20180608, 20180611, 20180612, 20180613, 20180614, 20180615, 20180618, 20180619, 20180620, 20180621, 20180622, 20180625, 20180626, 20180627, 20180628, 20180629, 20180702, 20180703, 20180705, 20180706, 20180709, 20180710, 20180711, 20180712, 20180713], \"y\": [-17.0, -16.5, -16.75, -16.25, -16.5, -16.0, -16.0, -15.5, -15.25, -15.25, -14.75, -14.5, -14.0, -14.75, -14.5, -14.0, -14.0, -14.5, -14.25, -14.5, -14.75, -14.75, -15.0, -14.0, -13.0, -12.0, -11.25, -11.75, -11.5, -11.0, -11.75, -9.75, -9.25, -9.25, -10.0, -11.0, -11.75, -12.75, -14.25, -14.75, -13.75, -13.75, -13.5, -14.25, -14.5, -14.75, -15.25, -15.5, -15.0, -15.25, -15.0, -15.5, -15.75, -16.25, -16.25, -16.25, -16.25, -16.25, -16.75, -16.75, -17.0, -17.0, -16.75, -16.5, -16.5, -16.0, -16.0, -15.25, -14.5, -14.75, -14.25, -14.75, -15.75, -16.25, -16.75, -17.5, -18.0, -17.75, -17.0, -17.75, -17.75, -17.75, -18.25, -18.5, -18.0, -18.25, -19.0, -19.0, -19.75, -19.75, -20.25, -20.5, -20.25, -21.5, -20.5, -20.25, -21.0, -20.75, -21.0, -21.5, -21.5, -21.25, -21.75, -21.5, -21.25, -20.75, -21.0, -20.75, -20.75, -21.0, -21.0, -21.5, -21.5, -21.0, -21.25, -21.25, -21.0, -22.0, -22.75, -24.5], \"yaxis\": \"y2\"}],\n",
       "                        {\"autosize\": true, \"hovermode\": \"x\", \"legend\": {\"orientation\": \"h\", \"x\": 0, \"y\": 1.1}, \"margin\": {\"b\": 100}, \"modebar\": {\"bgcolor\": \"grey\", \"orientation\": \"v\"}, \"spikedistance\": 1000, \"template\": {\"data\": {\"bar\": [{\"error_x\": {\"color\": \"#2a3f5f\"}, \"error_y\": {\"color\": \"#2a3f5f\"}, \"marker\": {\"line\": {\"color\": \"#E5ECF6\", \"width\": 0.5}}, \"type\": \"bar\"}], \"barpolar\": [{\"marker\": {\"line\": {\"color\": \"#E5ECF6\", \"width\": 0.5}}, \"type\": \"barpolar\"}], \"carpet\": [{\"aaxis\": {\"endlinecolor\": \"#2a3f5f\", \"gridcolor\": \"white\", \"linecolor\": \"white\", \"minorgridcolor\": \"white\", \"startlinecolor\": \"#2a3f5f\"}, \"baxis\": {\"endlinecolor\": \"#2a3f5f\", \"gridcolor\": \"white\", \"linecolor\": \"white\", \"minorgridcolor\": \"white\", \"startlinecolor\": \"#2a3f5f\"}, \"type\": \"carpet\"}], \"choropleth\": [{\"colorbar\": {\"outlinewidth\": 0, \"ticks\": \"\"}, \"type\": \"choropleth\"}], \"contour\": [{\"colorbar\": {\"outlinewidth\": 0, \"ticks\": \"\"}, \"colorscale\": [[0.0, \"#0d0887\"], [0.1111111111111111, \"#46039f\"], [0.2222222222222222, \"#7201a8\"], [0.3333333333333333, \"#9c179e\"], [0.4444444444444444, \"#bd3786\"], [0.5555555555555556, \"#d8576b\"], [0.6666666666666666, \"#ed7953\"], [0.7777777777777778, \"#fb9f3a\"], [0.8888888888888888, \"#fdca26\"], [1.0, \"#f0f921\"]], \"type\": \"contour\"}], \"contourcarpet\": [{\"colorbar\": {\"outlinewidth\": 0, \"ticks\": \"\"}, \"type\": \"contourcarpet\"}], \"heatmap\": [{\"colorbar\": {\"outlinewidth\": 0, \"ticks\": \"\"}, \"colorscale\": [[0.0, \"#0d0887\"], [0.1111111111111111, \"#46039f\"], [0.2222222222222222, \"#7201a8\"], [0.3333333333333333, \"#9c179e\"], [0.4444444444444444, \"#bd3786\"], [0.5555555555555556, \"#d8576b\"], [0.6666666666666666, \"#ed7953\"], [0.7777777777777778, \"#fb9f3a\"], [0.8888888888888888, \"#fdca26\"], [1.0, \"#f0f921\"]], \"type\": \"heatmap\"}], \"heatmapgl\": [{\"colorbar\": {\"outlinewidth\": 0, \"ticks\": \"\"}, \"colorscale\": [[0.0, \"#0d0887\"], [0.1111111111111111, \"#46039f\"], [0.2222222222222222, \"#7201a8\"], [0.3333333333333333, \"#9c179e\"], [0.4444444444444444, \"#bd3786\"], [0.5555555555555556, \"#d8576b\"], [0.6666666666666666, \"#ed7953\"], [0.7777777777777778, \"#fb9f3a\"], [0.8888888888888888, \"#fdca26\"], [1.0, \"#f0f921\"]], \"type\": \"heatmapgl\"}], \"histogram\": [{\"marker\": {\"colorbar\": {\"outlinewidth\": 0, \"ticks\": \"\"}}, \"type\": \"histogram\"}], \"histogram2d\": [{\"colorbar\": {\"outlinewidth\": 0, \"ticks\": \"\"}, \"colorscale\": [[0.0, \"#0d0887\"], [0.1111111111111111, \"#46039f\"], [0.2222222222222222, \"#7201a8\"], [0.3333333333333333, \"#9c179e\"], [0.4444444444444444, \"#bd3786\"], [0.5555555555555556, \"#d8576b\"], [0.6666666666666666, \"#ed7953\"], [0.7777777777777778, \"#fb9f3a\"], [0.8888888888888888, \"#fdca26\"], [1.0, \"#f0f921\"]], \"type\": \"histogram2d\"}], \"histogram2dcontour\": [{\"colorbar\": {\"outlinewidth\": 0, \"ticks\": \"\"}, \"colorscale\": [[0.0, \"#0d0887\"], [0.1111111111111111, \"#46039f\"], [0.2222222222222222, \"#7201a8\"], [0.3333333333333333, \"#9c179e\"], [0.4444444444444444, \"#bd3786\"], [0.5555555555555556, \"#d8576b\"], [0.6666666666666666, \"#ed7953\"], [0.7777777777777778, \"#fb9f3a\"], [0.8888888888888888, \"#fdca26\"], [1.0, \"#f0f921\"]], \"type\": \"histogram2dcontour\"}], \"mesh3d\": [{\"colorbar\": {\"outlinewidth\": 0, \"ticks\": \"\"}, \"type\": \"mesh3d\"}], \"parcoords\": [{\"line\": {\"colorbar\": {\"outlinewidth\": 0, \"ticks\": \"\"}}, \"type\": \"parcoords\"}], \"pie\": [{\"automargin\": true, \"type\": \"pie\"}], \"scatter\": [{\"marker\": {\"colorbar\": {\"outlinewidth\": 0, \"ticks\": \"\"}}, \"type\": \"scatter\"}], \"scatter3d\": [{\"line\": {\"colorbar\": {\"outlinewidth\": 0, \"ticks\": \"\"}}, \"marker\": {\"colorbar\": {\"outlinewidth\": 0, \"ticks\": \"\"}}, \"type\": \"scatter3d\"}], \"scattercarpet\": [{\"marker\": {\"colorbar\": {\"outlinewidth\": 0, \"ticks\": \"\"}}, \"type\": \"scattercarpet\"}], \"scattergeo\": [{\"marker\": {\"colorbar\": {\"outlinewidth\": 0, \"ticks\": \"\"}}, \"type\": \"scattergeo\"}], \"scattergl\": [{\"marker\": {\"colorbar\": {\"outlinewidth\": 0, \"ticks\": \"\"}}, \"type\": \"scattergl\"}], \"scattermapbox\": [{\"marker\": {\"colorbar\": {\"outlinewidth\": 0, \"ticks\": \"\"}}, \"type\": \"scattermapbox\"}], \"scatterpolar\": [{\"marker\": {\"colorbar\": {\"outlinewidth\": 0, \"ticks\": \"\"}}, \"type\": \"scatterpolar\"}], \"scatterpolargl\": [{\"marker\": {\"colorbar\": {\"outlinewidth\": 0, \"ticks\": \"\"}}, \"type\": \"scatterpolargl\"}], \"scatterternary\": [{\"marker\": {\"colorbar\": {\"outlinewidth\": 0, \"ticks\": \"\"}}, \"type\": \"scatterternary\"}], \"surface\": [{\"colorbar\": {\"outlinewidth\": 0, \"ticks\": \"\"}, \"colorscale\": [[0.0, \"#0d0887\"], [0.1111111111111111, \"#46039f\"], [0.2222222222222222, \"#7201a8\"], [0.3333333333333333, \"#9c179e\"], [0.4444444444444444, \"#bd3786\"], [0.5555555555555556, \"#d8576b\"], [0.6666666666666666, \"#ed7953\"], [0.7777777777777778, \"#fb9f3a\"], [0.8888888888888888, \"#fdca26\"], [1.0, \"#f0f921\"]], \"type\": \"surface\"}], \"table\": [{\"cells\": {\"fill\": {\"color\": \"#EBF0F8\"}, \"line\": {\"color\": \"white\"}}, \"header\": {\"fill\": {\"color\": \"#C8D4E3\"}, \"line\": {\"color\": \"white\"}}, \"type\": \"table\"}]}, \"layout\": {\"annotationdefaults\": {\"arrowcolor\": \"#2a3f5f\", \"arrowhead\": 0, \"arrowwidth\": 1}, \"coloraxis\": {\"colorbar\": {\"outlinewidth\": 0, \"ticks\": \"\"}}, \"colorscale\": {\"diverging\": [[0, \"#8e0152\"], [0.1, \"#c51b7d\"], [0.2, \"#de77ae\"], [0.3, \"#f1b6da\"], [0.4, \"#fde0ef\"], [0.5, \"#f7f7f7\"], [0.6, \"#e6f5d0\"], [0.7, \"#b8e186\"], [0.8, \"#7fbc41\"], [0.9, \"#4d9221\"], [1, \"#276419\"]], \"sequential\": [[0.0, \"#0d0887\"], [0.1111111111111111, \"#46039f\"], [0.2222222222222222, \"#7201a8\"], [0.3333333333333333, \"#9c179e\"], [0.4444444444444444, \"#bd3786\"], [0.5555555555555556, \"#d8576b\"], [0.6666666666666666, \"#ed7953\"], [0.7777777777777778, \"#fb9f3a\"], [0.8888888888888888, \"#fdca26\"], [1.0, \"#f0f921\"]], \"sequentialminus\": [[0.0, \"#0d0887\"], [0.1111111111111111, \"#46039f\"], [0.2222222222222222, \"#7201a8\"], [0.3333333333333333, \"#9c179e\"], [0.4444444444444444, \"#bd3786\"], [0.5555555555555556, \"#d8576b\"], [0.6666666666666666, \"#ed7953\"], [0.7777777777777778, \"#fb9f3a\"], [0.8888888888888888, \"#fdca26\"], [1.0, \"#f0f921\"]]}, \"colorway\": [\"#636efa\", \"#EF553B\", \"#00cc96\", \"#ab63fa\", \"#FFA15A\", \"#19d3f3\", \"#FF6692\", \"#B6E880\", \"#FF97FF\", \"#FECB52\"], \"font\": {\"color\": \"#2a3f5f\"}, \"geo\": {\"bgcolor\": \"white\", \"lakecolor\": \"white\", \"landcolor\": \"#E5ECF6\", \"showlakes\": true, \"showland\": true, \"subunitcolor\": \"white\"}, \"hoverlabel\": {\"align\": \"left\"}, \"hovermode\": \"closest\", \"mapbox\": {\"style\": \"light\"}, \"paper_bgcolor\": \"white\", \"plot_bgcolor\": \"#E5ECF6\", \"polar\": {\"angularaxis\": {\"gridcolor\": \"white\", \"linecolor\": \"white\", \"ticks\": \"\"}, \"bgcolor\": \"#E5ECF6\", \"radialaxis\": {\"gridcolor\": \"white\", \"linecolor\": \"white\", \"ticks\": \"\"}}, \"scene\": {\"xaxis\": {\"backgroundcolor\": \"#E5ECF6\", \"gridcolor\": \"white\", \"gridwidth\": 2, \"linecolor\": \"white\", \"showbackground\": true, \"ticks\": \"\", \"zerolinecolor\": \"white\"}, \"yaxis\": {\"backgroundcolor\": \"#E5ECF6\", \"gridcolor\": \"white\", \"gridwidth\": 2, \"linecolor\": \"white\", \"showbackground\": true, \"ticks\": \"\", \"zerolinecolor\": \"white\"}, \"zaxis\": {\"backgroundcolor\": \"#E5ECF6\", \"gridcolor\": \"white\", \"gridwidth\": 2, \"linecolor\": \"white\", \"showbackground\": true, \"ticks\": \"\", \"zerolinecolor\": \"white\"}}, \"shapedefaults\": {\"line\": {\"color\": \"#2a3f5f\"}}, \"ternary\": {\"aaxis\": {\"gridcolor\": \"white\", \"linecolor\": \"white\", \"ticks\": \"\"}, \"baxis\": {\"gridcolor\": \"white\", \"linecolor\": \"white\", \"ticks\": \"\"}, \"bgcolor\": \"#E5ECF6\", \"caxis\": {\"gridcolor\": \"white\", \"linecolor\": \"white\", \"ticks\": \"\"}}, \"title\": {\"x\": 0.05}, \"xaxis\": {\"automargin\": true, \"gridcolor\": \"white\", \"linecolor\": \"white\", \"ticks\": \"\", \"title\": {\"standoff\": 15}, \"zerolinecolor\": \"white\", \"zerolinewidth\": 2}, \"yaxis\": {\"automargin\": true, \"gridcolor\": \"white\", \"linecolor\": \"white\", \"ticks\": \"\", \"title\": {\"standoff\": 15}, \"zerolinecolor\": \"white\", \"zerolinewidth\": 2}}}, \"title\": {\"text\": \"ZCN18 ZCZ18\", \"x\": 0.5, \"xanchor\": \"center\", \"y\": 0.9, \"yanchor\": \"top\"}, \"xaxis\": {\"showspikes\": true, \"spikedash\": \"solid\", \"spikemode\": \"toaxis+across\", \"spikethickness\": 1, \"tickangle\": 45, \"ticktext\": [20180123, 20180131, 20180208, 20180216, 20180227, 20180307, 20180315, 20180323, 20180403, 20180411, 20180419, 20180427, 20180507, 20180515, 20180523, 20180601, 20180611, 20180619, 20180627, 20180706], \"tickvals\": [20180123, 20180131, 20180208, 20180216, 20180227, 20180307, 20180315, 20180323, 20180403, 20180411, 20180419, 20180427, 20180507, 20180515, 20180523, 20180601, 20180611, 20180619, 20180627, 20180706], \"type\": \"category\"}, \"yaxis\": {\"showspikes\": true, \"spikedash\": \"solid\", \"spikemode\": \"toaxis+across\", \"spikethickness\": 1, \"title\": {\"text\": \"price\"}}, \"yaxis2\": {\"overlaying\": \"y\", \"side\": \"right\", \"title\": {\"text\": \"spread\"}}},\n",
       "                        {\"responsive\": true}\n",
       "                    ).then(function(){\n",
       "                            \n",
       "var gd = document.getElementById('43664ab3-75b0-478c-bb6a-b27ed14bb2cf');\n",
       "var x = new MutationObserver(function (mutations, observer) {{\n",
       "        var display = window.getComputedStyle(gd).display;\n",
       "        if (!display || display === 'none') {{\n",
       "            console.log([gd, 'removed!']);\n",
       "            Plotly.purge(gd);\n",
       "            observer.disconnect();\n",
       "        }}\n",
       "}});\n",
       "\n",
       "// Listen for the removal of the full notebook cells\n",
       "var notebookContainer = gd.closest('#notebook-container');\n",
       "if (notebookContainer) {{\n",
       "    x.observe(notebookContainer, {childList: true});\n",
       "}}\n",
       "\n",
       "// Listen for the clearing of the current output cell\n",
       "var outputEl = gd.closest('.output');\n",
       "if (outputEl) {{\n",
       "    x.observe(outputEl, {childList: true});\n",
       "}}\n",
       "\n",
       "                        })\n",
       "                };\n",
       "                });\n",
       "            </script>\n",
       "        </div>"
      ]
     },
     "metadata": {},
     "output_type": "display_data"
    },
    {
     "data": {
      "application/vnd.plotly.v1+json": {
       "config": {
        "linkText": "Export to plot.ly",
        "plotlyServerURL": "https://plot.ly",
        "showLink": false
       },
       "data": [
        {
         "name": "front",
         "type": "scatter",
         "x": [
          20190122,
          20190123,
          20190124,
          20190125,
          20190128,
          20190129,
          20190130,
          20190131,
          20190201,
          20190204,
          20190205,
          20190206,
          20190207,
          20190208,
          20190211,
          20190212,
          20190213,
          20190214,
          20190215,
          20190219,
          20190220,
          20190221,
          20190222,
          20190225,
          20190226,
          20190227,
          20190228,
          20190301,
          20190304,
          20190305,
          20190306,
          20190307,
          20190308,
          20190311,
          20190312,
          20190313,
          20190314,
          20190315,
          20190318,
          20190319,
          20190320,
          20190321,
          20190322,
          20190325,
          20190326,
          20190327,
          20190328,
          20190329,
          20190401,
          20190402,
          20190403,
          20190404,
          20190405,
          20190408,
          20190409,
          20190410,
          20190411,
          20190412,
          20190415,
          20190416,
          20190417,
          20190418,
          20190422,
          20190423,
          20190424,
          20190425,
          20190426,
          20190429,
          20190430,
          20190501,
          20190502,
          20190503,
          20190506,
          20190507,
          20190508,
          20190509,
          20190510,
          20190513,
          20190514,
          20190515,
          20190516,
          20190517,
          20190520,
          20190521,
          20190522,
          20190523,
          20190524,
          20190528,
          20190529,
          20190530,
          20190531,
          20190603,
          20190604,
          20190605,
          20190606,
          20190607,
          20190610,
          20190611,
          20190612,
          20190613,
          20190614,
          20190617,
          20190618,
          20190619,
          20190620,
          20190621,
          20190624,
          20190625,
          20190626,
          20190627,
          20190628,
          20190701,
          20190702,
          20190703,
          20190705,
          20190708,
          20190709,
          20190710,
          20190711,
          20190712
         ],
         "y": [
          395,
          395.25,
          393.5,
          396.5,
          396.25,
          393.75,
          397.5,
          392.75,
          394.75,
          395.25,
          396.5,
          395.75,
          392.25,
          390,
          388.5,
          393.75,
          394.5,
          390.75,
          390.5,
          386,
          387.5,
          392.25,
          392.5,
          388.25,
          384.5,
          382.25,
          379.5,
          381.5,
          383.25,
          384.5,
          381,
          374.25,
          373.5,
          371.5,
          375.5,
          376.25,
          379.5,
          382.25,
          380.75,
          380.75,
          381,
          385.5,
          387.5,
          389.25,
          387,
          383.5,
          383.75,
          366.25,
          371,
          370.75,
          372,
          374.25,
          371,
          368.5,
          368.5,
          370.75,
          368.75,
          369.5,
          371.5,
          367.75,
          367,
          367.25,
          363.5,
          360.25,
          356,
          357.25,
          361.25,
          361.75,
          362.5,
          368.5,
          370.5,
          370.75,
          364.25,
          366.5,
          364.25,
          353.25,
          351.75,
          356.5,
          368.75,
          369.5,
          379,
          383.25,
          389,
          394.25,
          394.5,
          389.75,
          404.25,
          420.25,
          418.75,
          436.25,
          427,
          424.25,
          425.25,
          414.75,
          420.5,
          415.75,
          415.75,
          427.75,
          430,
          442,
          453,
          454.75,
          449.75,
          441,
          450,
          442.25,
          446.75,
          447.5,
          443.25,
          440,
          420.25,
          412,
          413.5,
          433,
          434,
          438.5,
          431.75,
          434.25,
          447.75,
          449.5
         ],
         "yaxis": "y"
        },
        {
         "name": "back",
         "type": "scatter",
         "x": [
          20190122,
          20190123,
          20190124,
          20190125,
          20190128,
          20190129,
          20190130,
          20190131,
          20190201,
          20190204,
          20190205,
          20190206,
          20190207,
          20190208,
          20190211,
          20190212,
          20190213,
          20190214,
          20190215,
          20190219,
          20190220,
          20190221,
          20190222,
          20190225,
          20190226,
          20190227,
          20190228,
          20190301,
          20190304,
          20190305,
          20190306,
          20190307,
          20190308,
          20190311,
          20190312,
          20190313,
          20190314,
          20190315,
          20190318,
          20190319,
          20190320,
          20190321,
          20190322,
          20190325,
          20190326,
          20190327,
          20190328,
          20190329,
          20190401,
          20190402,
          20190403,
          20190404,
          20190405,
          20190408,
          20190409,
          20190410,
          20190411,
          20190412,
          20190415,
          20190416,
          20190417,
          20190418,
          20190422,
          20190423,
          20190424,
          20190425,
          20190426,
          20190429,
          20190430,
          20190501,
          20190502,
          20190503,
          20190506,
          20190507,
          20190508,
          20190509,
          20190510,
          20190513,
          20190514,
          20190515,
          20190516,
          20190517,
          20190520,
          20190521,
          20190522,
          20190523,
          20190524,
          20190528,
          20190529,
          20190530,
          20190531,
          20190603,
          20190604,
          20190605,
          20190606,
          20190607,
          20190610,
          20190611,
          20190612,
          20190613,
          20190614,
          20190617,
          20190618,
          20190619,
          20190620,
          20190621,
          20190624,
          20190625,
          20190626,
          20190627,
          20190628,
          20190701,
          20190702,
          20190703,
          20190705,
          20190708,
          20190709,
          20190710,
          20190711,
          20190712
         ],
         "y": [
          400.75,
          402.25,
          400.75,
          403.25,
          403,
          401,
          403.75,
          400,
          402.25,
          402.5,
          403.5,
          403,
          400.25,
          399.25,
          397.75,
          402,
          402.5,
          399.25,
          399.25,
          396.75,
          398.5,
          401.75,
          401.75,
          398.5,
          396.25,
          394.5,
          392,
          394.25,
          395.75,
          397.25,
          395,
          389,
          388.5,
          386.5,
          391.5,
          392.25,
          394,
          396,
          394.75,
          395.25,
          395.5,
          398.75,
          400,
          401.75,
          400.25,
          398,
          398.25,
          384.75,
          388.75,
          389.5,
          390.75,
          392.25,
          390,
          389,
          389.25,
          390.75,
          388.5,
          389,
          390.75,
          387.5,
          386.75,
          386.25,
          382.5,
          379.75,
          376,
          377.25,
          380.75,
          381.25,
          381,
          386.25,
          387,
          387.75,
          382.25,
          383.75,
          382.25,
          372.75,
          372,
          376.5,
          387.75,
          388.75,
          396.5,
          398.25,
          404.5,
          410.5,
          412.75,
          408,
          419.75,
          437,
          435.75,
          452.25,
          443.75,
          441.75,
          444,
          433.5,
          438.5,
          433.75,
          434.5,
          447,
          448.5,
          455.75,
          463.5,
          468.5,
          463,
          453.25,
          461,
          453.5,
          457.25,
          457.5,
          454.5,
          451,
          431.5,
          422.5,
          426,
          441.25,
          442.25,
          443.75,
          437.25,
          439.5,
          448,
          459.25
         ],
         "yaxis": "y"
        },
        {
         "name": "spread",
         "type": "scatter",
         "x": [
          20190122,
          20190123,
          20190124,
          20190125,
          20190128,
          20190129,
          20190130,
          20190131,
          20190201,
          20190204,
          20190205,
          20190206,
          20190207,
          20190208,
          20190211,
          20190212,
          20190213,
          20190214,
          20190215,
          20190219,
          20190220,
          20190221,
          20190222,
          20190225,
          20190226,
          20190227,
          20190228,
          20190301,
          20190304,
          20190305,
          20190306,
          20190307,
          20190308,
          20190311,
          20190312,
          20190313,
          20190314,
          20190315,
          20190318,
          20190319,
          20190320,
          20190321,
          20190322,
          20190325,
          20190326,
          20190327,
          20190328,
          20190329,
          20190401,
          20190402,
          20190403,
          20190404,
          20190405,
          20190408,
          20190409,
          20190410,
          20190411,
          20190412,
          20190415,
          20190416,
          20190417,
          20190418,
          20190422,
          20190423,
          20190424,
          20190425,
          20190426,
          20190429,
          20190430,
          20190501,
          20190502,
          20190503,
          20190506,
          20190507,
          20190508,
          20190509,
          20190510,
          20190513,
          20190514,
          20190515,
          20190516,
          20190517,
          20190520,
          20190521,
          20190522,
          20190523,
          20190524,
          20190528,
          20190529,
          20190530,
          20190531,
          20190603,
          20190604,
          20190605,
          20190606,
          20190607,
          20190610,
          20190611,
          20190612,
          20190613,
          20190614,
          20190617,
          20190618,
          20190619,
          20190620,
          20190621,
          20190624,
          20190625,
          20190626,
          20190627,
          20190628,
          20190701,
          20190702,
          20190703,
          20190705,
          20190708,
          20190709,
          20190710,
          20190711,
          20190712
         ],
         "y": [
          -5.75,
          -7,
          -7.25,
          -6.75,
          -6.75,
          -7.25,
          -6.25,
          -7.25,
          -7.5,
          -7.25,
          -7,
          -7.25,
          -8,
          -9.25,
          -9.25,
          -8.25,
          -8,
          -8.5,
          -8.75,
          -10.75,
          -11,
          -9.5,
          -9.25,
          -10.25,
          -11.75,
          -12.25,
          -12.5,
          -12.75,
          -12.5,
          -12.75,
          -14,
          -14.75,
          -15,
          -15,
          -16,
          -16,
          -14.5,
          -13.75,
          -14,
          -14.5,
          -14.5,
          -13.25,
          -12.5,
          -12.5,
          -13.25,
          -14.5,
          -14.5,
          -18.5,
          -17.75,
          -18.75,
          -18.75,
          -18,
          -19,
          -20.5,
          -20.75,
          -20,
          -19.75,
          -19.5,
          -19.25,
          -19.75,
          -19.75,
          -19,
          -19,
          -19.5,
          -20,
          -20,
          -19.5,
          -19.5,
          -18.5,
          -17.75,
          -16.5,
          -17,
          -18,
          -17.25,
          -18,
          -19.5,
          -20.25,
          -20,
          -19,
          -19.25,
          -17.5,
          -15,
          -15.5,
          -16.25,
          -18.25,
          -18.25,
          -15.5,
          -16.75,
          -17,
          -16,
          -16.75,
          -17.5,
          -18.75,
          -18.75,
          -18,
          -18,
          -18.75,
          -19.25,
          -18.5,
          -13.75,
          -10.5,
          -13.75,
          -13.25,
          -12.25,
          -11,
          -11.25,
          -10.5,
          -10,
          -11.25,
          -11,
          -11.25,
          -10.5,
          -12.5,
          -8.25,
          -8.25,
          -5.25,
          -5.5,
          -5.25,
          -0.25,
          -9.75
         ],
         "yaxis": "y2"
        }
       ],
       "layout": {
        "autosize": true,
        "hovermode": "x",
        "legend": {
         "orientation": "h",
         "x": 0,
         "y": 1.1
        },
        "margin": {
         "b": 100
        },
        "modebar": {
         "bgcolor": "grey",
         "orientation": "v"
        },
        "spikedistance": 1000,
        "template": {
         "data": {
          "bar": [
           {
            "error_x": {
             "color": "#2a3f5f"
            },
            "error_y": {
             "color": "#2a3f5f"
            },
            "marker": {
             "line": {
              "color": "#E5ECF6",
              "width": 0.5
             }
            },
            "type": "bar"
           }
          ],
          "barpolar": [
           {
            "marker": {
             "line": {
              "color": "#E5ECF6",
              "width": 0.5
             }
            },
            "type": "barpolar"
           }
          ],
          "carpet": [
           {
            "aaxis": {
             "endlinecolor": "#2a3f5f",
             "gridcolor": "white",
             "linecolor": "white",
             "minorgridcolor": "white",
             "startlinecolor": "#2a3f5f"
            },
            "baxis": {
             "endlinecolor": "#2a3f5f",
             "gridcolor": "white",
             "linecolor": "white",
             "minorgridcolor": "white",
             "startlinecolor": "#2a3f5f"
            },
            "type": "carpet"
           }
          ],
          "choropleth": [
           {
            "colorbar": {
             "outlinewidth": 0,
             "ticks": ""
            },
            "type": "choropleth"
           }
          ],
          "contour": [
           {
            "colorbar": {
             "outlinewidth": 0,
             "ticks": ""
            },
            "colorscale": [
             [
              0,
              "#0d0887"
             ],
             [
              0.1111111111111111,
              "#46039f"
             ],
             [
              0.2222222222222222,
              "#7201a8"
             ],
             [
              0.3333333333333333,
              "#9c179e"
             ],
             [
              0.4444444444444444,
              "#bd3786"
             ],
             [
              0.5555555555555556,
              "#d8576b"
             ],
             [
              0.6666666666666666,
              "#ed7953"
             ],
             [
              0.7777777777777778,
              "#fb9f3a"
             ],
             [
              0.8888888888888888,
              "#fdca26"
             ],
             [
              1,
              "#f0f921"
             ]
            ],
            "type": "contour"
           }
          ],
          "contourcarpet": [
           {
            "colorbar": {
             "outlinewidth": 0,
             "ticks": ""
            },
            "type": "contourcarpet"
           }
          ],
          "heatmap": [
           {
            "colorbar": {
             "outlinewidth": 0,
             "ticks": ""
            },
            "colorscale": [
             [
              0,
              "#0d0887"
             ],
             [
              0.1111111111111111,
              "#46039f"
             ],
             [
              0.2222222222222222,
              "#7201a8"
             ],
             [
              0.3333333333333333,
              "#9c179e"
             ],
             [
              0.4444444444444444,
              "#bd3786"
             ],
             [
              0.5555555555555556,
              "#d8576b"
             ],
             [
              0.6666666666666666,
              "#ed7953"
             ],
             [
              0.7777777777777778,
              "#fb9f3a"
             ],
             [
              0.8888888888888888,
              "#fdca26"
             ],
             [
              1,
              "#f0f921"
             ]
            ],
            "type": "heatmap"
           }
          ],
          "heatmapgl": [
           {
            "colorbar": {
             "outlinewidth": 0,
             "ticks": ""
            },
            "colorscale": [
             [
              0,
              "#0d0887"
             ],
             [
              0.1111111111111111,
              "#46039f"
             ],
             [
              0.2222222222222222,
              "#7201a8"
             ],
             [
              0.3333333333333333,
              "#9c179e"
             ],
             [
              0.4444444444444444,
              "#bd3786"
             ],
             [
              0.5555555555555556,
              "#d8576b"
             ],
             [
              0.6666666666666666,
              "#ed7953"
             ],
             [
              0.7777777777777778,
              "#fb9f3a"
             ],
             [
              0.8888888888888888,
              "#fdca26"
             ],
             [
              1,
              "#f0f921"
             ]
            ],
            "type": "heatmapgl"
           }
          ],
          "histogram": [
           {
            "marker": {
             "colorbar": {
              "outlinewidth": 0,
              "ticks": ""
             }
            },
            "type": "histogram"
           }
          ],
          "histogram2d": [
           {
            "colorbar": {
             "outlinewidth": 0,
             "ticks": ""
            },
            "colorscale": [
             [
              0,
              "#0d0887"
             ],
             [
              0.1111111111111111,
              "#46039f"
             ],
             [
              0.2222222222222222,
              "#7201a8"
             ],
             [
              0.3333333333333333,
              "#9c179e"
             ],
             [
              0.4444444444444444,
              "#bd3786"
             ],
             [
              0.5555555555555556,
              "#d8576b"
             ],
             [
              0.6666666666666666,
              "#ed7953"
             ],
             [
              0.7777777777777778,
              "#fb9f3a"
             ],
             [
              0.8888888888888888,
              "#fdca26"
             ],
             [
              1,
              "#f0f921"
             ]
            ],
            "type": "histogram2d"
           }
          ],
          "histogram2dcontour": [
           {
            "colorbar": {
             "outlinewidth": 0,
             "ticks": ""
            },
            "colorscale": [
             [
              0,
              "#0d0887"
             ],
             [
              0.1111111111111111,
              "#46039f"
             ],
             [
              0.2222222222222222,
              "#7201a8"
             ],
             [
              0.3333333333333333,
              "#9c179e"
             ],
             [
              0.4444444444444444,
              "#bd3786"
             ],
             [
              0.5555555555555556,
              "#d8576b"
             ],
             [
              0.6666666666666666,
              "#ed7953"
             ],
             [
              0.7777777777777778,
              "#fb9f3a"
             ],
             [
              0.8888888888888888,
              "#fdca26"
             ],
             [
              1,
              "#f0f921"
             ]
            ],
            "type": "histogram2dcontour"
           }
          ],
          "mesh3d": [
           {
            "colorbar": {
             "outlinewidth": 0,
             "ticks": ""
            },
            "type": "mesh3d"
           }
          ],
          "parcoords": [
           {
            "line": {
             "colorbar": {
              "outlinewidth": 0,
              "ticks": ""
             }
            },
            "type": "parcoords"
           }
          ],
          "pie": [
           {
            "automargin": true,
            "type": "pie"
           }
          ],
          "scatter": [
           {
            "marker": {
             "colorbar": {
              "outlinewidth": 0,
              "ticks": ""
             }
            },
            "type": "scatter"
           }
          ],
          "scatter3d": [
           {
            "line": {
             "colorbar": {
              "outlinewidth": 0,
              "ticks": ""
             }
            },
            "marker": {
             "colorbar": {
              "outlinewidth": 0,
              "ticks": ""
             }
            },
            "type": "scatter3d"
           }
          ],
          "scattercarpet": [
           {
            "marker": {
             "colorbar": {
              "outlinewidth": 0,
              "ticks": ""
             }
            },
            "type": "scattercarpet"
           }
          ],
          "scattergeo": [
           {
            "marker": {
             "colorbar": {
              "outlinewidth": 0,
              "ticks": ""
             }
            },
            "type": "scattergeo"
           }
          ],
          "scattergl": [
           {
            "marker": {
             "colorbar": {
              "outlinewidth": 0,
              "ticks": ""
             }
            },
            "type": "scattergl"
           }
          ],
          "scattermapbox": [
           {
            "marker": {
             "colorbar": {
              "outlinewidth": 0,
              "ticks": ""
             }
            },
            "type": "scattermapbox"
           }
          ],
          "scatterpolar": [
           {
            "marker": {
             "colorbar": {
              "outlinewidth": 0,
              "ticks": ""
             }
            },
            "type": "scatterpolar"
           }
          ],
          "scatterpolargl": [
           {
            "marker": {
             "colorbar": {
              "outlinewidth": 0,
              "ticks": ""
             }
            },
            "type": "scatterpolargl"
           }
          ],
          "scatterternary": [
           {
            "marker": {
             "colorbar": {
              "outlinewidth": 0,
              "ticks": ""
             }
            },
            "type": "scatterternary"
           }
          ],
          "surface": [
           {
            "colorbar": {
             "outlinewidth": 0,
             "ticks": ""
            },
            "colorscale": [
             [
              0,
              "#0d0887"
             ],
             [
              0.1111111111111111,
              "#46039f"
             ],
             [
              0.2222222222222222,
              "#7201a8"
             ],
             [
              0.3333333333333333,
              "#9c179e"
             ],
             [
              0.4444444444444444,
              "#bd3786"
             ],
             [
              0.5555555555555556,
              "#d8576b"
             ],
             [
              0.6666666666666666,
              "#ed7953"
             ],
             [
              0.7777777777777778,
              "#fb9f3a"
             ],
             [
              0.8888888888888888,
              "#fdca26"
             ],
             [
              1,
              "#f0f921"
             ]
            ],
            "type": "surface"
           }
          ],
          "table": [
           {
            "cells": {
             "fill": {
              "color": "#EBF0F8"
             },
             "line": {
              "color": "white"
             }
            },
            "header": {
             "fill": {
              "color": "#C8D4E3"
             },
             "line": {
              "color": "white"
             }
            },
            "type": "table"
           }
          ]
         },
         "layout": {
          "annotationdefaults": {
           "arrowcolor": "#2a3f5f",
           "arrowhead": 0,
           "arrowwidth": 1
          },
          "coloraxis": {
           "colorbar": {
            "outlinewidth": 0,
            "ticks": ""
           }
          },
          "colorscale": {
           "diverging": [
            [
             0,
             "#8e0152"
            ],
            [
             0.1,
             "#c51b7d"
            ],
            [
             0.2,
             "#de77ae"
            ],
            [
             0.3,
             "#f1b6da"
            ],
            [
             0.4,
             "#fde0ef"
            ],
            [
             0.5,
             "#f7f7f7"
            ],
            [
             0.6,
             "#e6f5d0"
            ],
            [
             0.7,
             "#b8e186"
            ],
            [
             0.8,
             "#7fbc41"
            ],
            [
             0.9,
             "#4d9221"
            ],
            [
             1,
             "#276419"
            ]
           ],
           "sequential": [
            [
             0,
             "#0d0887"
            ],
            [
             0.1111111111111111,
             "#46039f"
            ],
            [
             0.2222222222222222,
             "#7201a8"
            ],
            [
             0.3333333333333333,
             "#9c179e"
            ],
            [
             0.4444444444444444,
             "#bd3786"
            ],
            [
             0.5555555555555556,
             "#d8576b"
            ],
            [
             0.6666666666666666,
             "#ed7953"
            ],
            [
             0.7777777777777778,
             "#fb9f3a"
            ],
            [
             0.8888888888888888,
             "#fdca26"
            ],
            [
             1,
             "#f0f921"
            ]
           ],
           "sequentialminus": [
            [
             0,
             "#0d0887"
            ],
            [
             0.1111111111111111,
             "#46039f"
            ],
            [
             0.2222222222222222,
             "#7201a8"
            ],
            [
             0.3333333333333333,
             "#9c179e"
            ],
            [
             0.4444444444444444,
             "#bd3786"
            ],
            [
             0.5555555555555556,
             "#d8576b"
            ],
            [
             0.6666666666666666,
             "#ed7953"
            ],
            [
             0.7777777777777778,
             "#fb9f3a"
            ],
            [
             0.8888888888888888,
             "#fdca26"
            ],
            [
             1,
             "#f0f921"
            ]
           ]
          },
          "colorway": [
           "#636efa",
           "#EF553B",
           "#00cc96",
           "#ab63fa",
           "#FFA15A",
           "#19d3f3",
           "#FF6692",
           "#B6E880",
           "#FF97FF",
           "#FECB52"
          ],
          "font": {
           "color": "#2a3f5f"
          },
          "geo": {
           "bgcolor": "white",
           "lakecolor": "white",
           "landcolor": "#E5ECF6",
           "showlakes": true,
           "showland": true,
           "subunitcolor": "white"
          },
          "hoverlabel": {
           "align": "left"
          },
          "hovermode": "closest",
          "mapbox": {
           "style": "light"
          },
          "paper_bgcolor": "white",
          "plot_bgcolor": "#E5ECF6",
          "polar": {
           "angularaxis": {
            "gridcolor": "white",
            "linecolor": "white",
            "ticks": ""
           },
           "bgcolor": "#E5ECF6",
           "radialaxis": {
            "gridcolor": "white",
            "linecolor": "white",
            "ticks": ""
           }
          },
          "scene": {
           "xaxis": {
            "backgroundcolor": "#E5ECF6",
            "gridcolor": "white",
            "gridwidth": 2,
            "linecolor": "white",
            "showbackground": true,
            "ticks": "",
            "zerolinecolor": "white"
           },
           "yaxis": {
            "backgroundcolor": "#E5ECF6",
            "gridcolor": "white",
            "gridwidth": 2,
            "linecolor": "white",
            "showbackground": true,
            "ticks": "",
            "zerolinecolor": "white"
           },
           "zaxis": {
            "backgroundcolor": "#E5ECF6",
            "gridcolor": "white",
            "gridwidth": 2,
            "linecolor": "white",
            "showbackground": true,
            "ticks": "",
            "zerolinecolor": "white"
           }
          },
          "shapedefaults": {
           "line": {
            "color": "#2a3f5f"
           }
          },
          "ternary": {
           "aaxis": {
            "gridcolor": "white",
            "linecolor": "white",
            "ticks": ""
           },
           "baxis": {
            "gridcolor": "white",
            "linecolor": "white",
            "ticks": ""
           },
           "bgcolor": "#E5ECF6",
           "caxis": {
            "gridcolor": "white",
            "linecolor": "white",
            "ticks": ""
           }
          },
          "title": {
           "x": 0.05
          },
          "xaxis": {
           "automargin": true,
           "gridcolor": "white",
           "linecolor": "white",
           "ticks": "",
           "title": {
            "standoff": 15
           },
           "zerolinecolor": "white",
           "zerolinewidth": 2
          },
          "yaxis": {
           "automargin": true,
           "gridcolor": "white",
           "linecolor": "white",
           "ticks": "",
           "title": {
            "standoff": 15
           },
           "zerolinecolor": "white",
           "zerolinewidth": 2
          }
         }
        },
        "title": {
         "text": "ZCN19 ZCZ19",
         "x": 0.5,
         "xanchor": "center",
         "y": 0.9,
         "yanchor": "top"
        },
        "xaxis": {
         "showspikes": true,
         "spikedash": "solid",
         "spikemode": "toaxis+across",
         "spikethickness": 1,
         "tickangle": 45,
         "ticktext": [
          20190122,
          20190130,
          20190207,
          20190215,
          20190226,
          20190306,
          20190314,
          20190322,
          20190401,
          20190409,
          20190417,
          20190426,
          20190506,
          20190514,
          20190522,
          20190531,
          20190610,
          20190618,
          20190626,
          20190705
         ],
         "tickvals": [
          20190122,
          20190130,
          20190207,
          20190215,
          20190226,
          20190306,
          20190314,
          20190322,
          20190401,
          20190409,
          20190417,
          20190426,
          20190506,
          20190514,
          20190522,
          20190531,
          20190610,
          20190618,
          20190626,
          20190705
         ],
         "type": "category"
        },
        "yaxis": {
         "showspikes": true,
         "spikedash": "solid",
         "spikemode": "toaxis+across",
         "spikethickness": 1,
         "title": {
          "text": "price"
         }
        },
        "yaxis2": {
         "overlaying": "y",
         "side": "right",
         "title": {
          "text": "spread"
         }
        }
       }
      },
      "text/html": [
       "<div>\n",
       "        \n",
       "        \n",
       "            <div id=\"e79ebac6-5f1f-4094-9e65-24281f6cbc92\" class=\"plotly-graph-div\" style=\"height:525px; width:100%;\"></div>\n",
       "            <script type=\"text/javascript\">\n",
       "                require([\"plotly\"], function(Plotly) {\n",
       "                    window.PLOTLYENV=window.PLOTLYENV || {};\n",
       "                    \n",
       "                if (document.getElementById(\"e79ebac6-5f1f-4094-9e65-24281f6cbc92\")) {\n",
       "                    Plotly.newPlot(\n",
       "                        'e79ebac6-5f1f-4094-9e65-24281f6cbc92',\n",
       "                        [{\"name\": \"front\", \"type\": \"scatter\", \"x\": [20190122, 20190123, 20190124, 20190125, 20190128, 20190129, 20190130, 20190131, 20190201, 20190204, 20190205, 20190206, 20190207, 20190208, 20190211, 20190212, 20190213, 20190214, 20190215, 20190219, 20190220, 20190221, 20190222, 20190225, 20190226, 20190227, 20190228, 20190301, 20190304, 20190305, 20190306, 20190307, 20190308, 20190311, 20190312, 20190313, 20190314, 20190315, 20190318, 20190319, 20190320, 20190321, 20190322, 20190325, 20190326, 20190327, 20190328, 20190329, 20190401, 20190402, 20190403, 20190404, 20190405, 20190408, 20190409, 20190410, 20190411, 20190412, 20190415, 20190416, 20190417, 20190418, 20190422, 20190423, 20190424, 20190425, 20190426, 20190429, 20190430, 20190501, 20190502, 20190503, 20190506, 20190507, 20190508, 20190509, 20190510, 20190513, 20190514, 20190515, 20190516, 20190517, 20190520, 20190521, 20190522, 20190523, 20190524, 20190528, 20190529, 20190530, 20190531, 20190603, 20190604, 20190605, 20190606, 20190607, 20190610, 20190611, 20190612, 20190613, 20190614, 20190617, 20190618, 20190619, 20190620, 20190621, 20190624, 20190625, 20190626, 20190627, 20190628, 20190701, 20190702, 20190703, 20190705, 20190708, 20190709, 20190710, 20190711, 20190712], \"y\": [395.0, 395.25, 393.5, 396.5, 396.25, 393.75, 397.5, 392.75, 394.75, 395.25, 396.5, 395.75, 392.25, 390.0, 388.5, 393.75, 394.5, 390.75, 390.5, 386.0, 387.5, 392.25, 392.5, 388.25, 384.5, 382.25, 379.5, 381.5, 383.25, 384.5, 381.0, 374.25, 373.5, 371.5, 375.5, 376.25, 379.5, 382.25, 380.75, 380.75, 381.0, 385.5, 387.5, 389.25, 387.0, 383.5, 383.75, 366.25, 371.0, 370.75, 372.0, 374.25, 371.0, 368.5, 368.5, 370.75, 368.75, 369.5, 371.5, 367.75, 367.0, 367.25, 363.5, 360.25, 356.0, 357.25, 361.25, 361.75, 362.5, 368.5, 370.5, 370.75, 364.25, 366.5, 364.25, 353.25, 351.75, 356.5, 368.75, 369.5, 379.0, 383.25, 389.0, 394.25, 394.5, 389.75, 404.25, 420.25, 418.75, 436.25, 427.0, 424.25, 425.25, 414.75, 420.5, 415.75, 415.75, 427.75, 430.0, 442.0, 453.0, 454.75, 449.75, 441.0, 450.0, 442.25, 446.75, 447.5, 443.25, 440.0, 420.25, 412.0, 413.5, 433.0, 434.0, 438.5, 431.75, 434.25, 447.75, 449.5], \"yaxis\": \"y\"}, {\"name\": \"back\", \"type\": \"scatter\", \"x\": [20190122, 20190123, 20190124, 20190125, 20190128, 20190129, 20190130, 20190131, 20190201, 20190204, 20190205, 20190206, 20190207, 20190208, 20190211, 20190212, 20190213, 20190214, 20190215, 20190219, 20190220, 20190221, 20190222, 20190225, 20190226, 20190227, 20190228, 20190301, 20190304, 20190305, 20190306, 20190307, 20190308, 20190311, 20190312, 20190313, 20190314, 20190315, 20190318, 20190319, 20190320, 20190321, 20190322, 20190325, 20190326, 20190327, 20190328, 20190329, 20190401, 20190402, 20190403, 20190404, 20190405, 20190408, 20190409, 20190410, 20190411, 20190412, 20190415, 20190416, 20190417, 20190418, 20190422, 20190423, 20190424, 20190425, 20190426, 20190429, 20190430, 20190501, 20190502, 20190503, 20190506, 20190507, 20190508, 20190509, 20190510, 20190513, 20190514, 20190515, 20190516, 20190517, 20190520, 20190521, 20190522, 20190523, 20190524, 20190528, 20190529, 20190530, 20190531, 20190603, 20190604, 20190605, 20190606, 20190607, 20190610, 20190611, 20190612, 20190613, 20190614, 20190617, 20190618, 20190619, 20190620, 20190621, 20190624, 20190625, 20190626, 20190627, 20190628, 20190701, 20190702, 20190703, 20190705, 20190708, 20190709, 20190710, 20190711, 20190712], \"y\": [400.75, 402.25, 400.75, 403.25, 403.0, 401.0, 403.75, 400.0, 402.25, 402.5, 403.5, 403.0, 400.25, 399.25, 397.75, 402.0, 402.5, 399.25, 399.25, 396.75, 398.5, 401.75, 401.75, 398.5, 396.25, 394.5, 392.0, 394.25, 395.75, 397.25, 395.0, 389.0, 388.5, 386.5, 391.5, 392.25, 394.0, 396.0, 394.75, 395.25, 395.5, 398.75, 400.0, 401.75, 400.25, 398.0, 398.25, 384.75, 388.75, 389.5, 390.75, 392.25, 390.0, 389.0, 389.25, 390.75, 388.5, 389.0, 390.75, 387.5, 386.75, 386.25, 382.5, 379.75, 376.0, 377.25, 380.75, 381.25, 381.0, 386.25, 387.0, 387.75, 382.25, 383.75, 382.25, 372.75, 372.0, 376.5, 387.75, 388.75, 396.5, 398.25, 404.5, 410.5, 412.75, 408.0, 419.75, 437.0, 435.75, 452.25, 443.75, 441.75, 444.0, 433.5, 438.5, 433.75, 434.5, 447.0, 448.5, 455.75, 463.5, 468.5, 463.0, 453.25, 461.0, 453.5, 457.25, 457.5, 454.5, 451.0, 431.5, 422.5, 426.0, 441.25, 442.25, 443.75, 437.25, 439.5, 448.0, 459.25], \"yaxis\": \"y\"}, {\"name\": \"spread\", \"type\": \"scatter\", \"x\": [20190122, 20190123, 20190124, 20190125, 20190128, 20190129, 20190130, 20190131, 20190201, 20190204, 20190205, 20190206, 20190207, 20190208, 20190211, 20190212, 20190213, 20190214, 20190215, 20190219, 20190220, 20190221, 20190222, 20190225, 20190226, 20190227, 20190228, 20190301, 20190304, 20190305, 20190306, 20190307, 20190308, 20190311, 20190312, 20190313, 20190314, 20190315, 20190318, 20190319, 20190320, 20190321, 20190322, 20190325, 20190326, 20190327, 20190328, 20190329, 20190401, 20190402, 20190403, 20190404, 20190405, 20190408, 20190409, 20190410, 20190411, 20190412, 20190415, 20190416, 20190417, 20190418, 20190422, 20190423, 20190424, 20190425, 20190426, 20190429, 20190430, 20190501, 20190502, 20190503, 20190506, 20190507, 20190508, 20190509, 20190510, 20190513, 20190514, 20190515, 20190516, 20190517, 20190520, 20190521, 20190522, 20190523, 20190524, 20190528, 20190529, 20190530, 20190531, 20190603, 20190604, 20190605, 20190606, 20190607, 20190610, 20190611, 20190612, 20190613, 20190614, 20190617, 20190618, 20190619, 20190620, 20190621, 20190624, 20190625, 20190626, 20190627, 20190628, 20190701, 20190702, 20190703, 20190705, 20190708, 20190709, 20190710, 20190711, 20190712], \"y\": [-5.75, -7.0, -7.25, -6.75, -6.75, -7.25, -6.25, -7.25, -7.5, -7.25, -7.0, -7.25, -8.0, -9.25, -9.25, -8.25, -8.0, -8.5, -8.75, -10.75, -11.0, -9.5, -9.25, -10.25, -11.75, -12.25, -12.5, -12.75, -12.5, -12.75, -14.0, -14.75, -15.0, -15.0, -16.0, -16.0, -14.5, -13.75, -14.0, -14.5, -14.5, -13.25, -12.5, -12.5, -13.25, -14.5, -14.5, -18.5, -17.75, -18.75, -18.75, -18.0, -19.0, -20.5, -20.75, -20.0, -19.75, -19.5, -19.25, -19.75, -19.75, -19.0, -19.0, -19.5, -20.0, -20.0, -19.5, -19.5, -18.5, -17.75, -16.5, -17.0, -18.0, -17.25, -18.0, -19.5, -20.25, -20.0, -19.0, -19.25, -17.5, -15.0, -15.5, -16.25, -18.25, -18.25, -15.5, -16.75, -17.0, -16.0, -16.75, -17.5, -18.75, -18.75, -18.0, -18.0, -18.75, -19.25, -18.5, -13.75, -10.5, -13.75, -13.25, -12.25, -11.0, -11.25, -10.5, -10.0, -11.25, -11.0, -11.25, -10.5, -12.5, -8.25, -8.25, -5.25, -5.5, -5.25, -0.25, -9.75], \"yaxis\": \"y2\"}],\n",
       "                        {\"autosize\": true, \"hovermode\": \"x\", \"legend\": {\"orientation\": \"h\", \"x\": 0, \"y\": 1.1}, \"margin\": {\"b\": 100}, \"modebar\": {\"bgcolor\": \"grey\", \"orientation\": \"v\"}, \"spikedistance\": 1000, \"template\": {\"data\": {\"bar\": [{\"error_x\": {\"color\": \"#2a3f5f\"}, \"error_y\": {\"color\": \"#2a3f5f\"}, \"marker\": {\"line\": {\"color\": \"#E5ECF6\", \"width\": 0.5}}, \"type\": \"bar\"}], \"barpolar\": [{\"marker\": {\"line\": {\"color\": \"#E5ECF6\", \"width\": 0.5}}, \"type\": \"barpolar\"}], \"carpet\": [{\"aaxis\": {\"endlinecolor\": \"#2a3f5f\", \"gridcolor\": \"white\", \"linecolor\": \"white\", \"minorgridcolor\": \"white\", \"startlinecolor\": \"#2a3f5f\"}, \"baxis\": {\"endlinecolor\": \"#2a3f5f\", \"gridcolor\": \"white\", \"linecolor\": \"white\", \"minorgridcolor\": \"white\", \"startlinecolor\": \"#2a3f5f\"}, \"type\": \"carpet\"}], \"choropleth\": [{\"colorbar\": {\"outlinewidth\": 0, \"ticks\": \"\"}, \"type\": \"choropleth\"}], \"contour\": [{\"colorbar\": {\"outlinewidth\": 0, \"ticks\": \"\"}, \"colorscale\": [[0.0, \"#0d0887\"], [0.1111111111111111, \"#46039f\"], [0.2222222222222222, \"#7201a8\"], [0.3333333333333333, \"#9c179e\"], [0.4444444444444444, \"#bd3786\"], [0.5555555555555556, \"#d8576b\"], [0.6666666666666666, \"#ed7953\"], [0.7777777777777778, \"#fb9f3a\"], [0.8888888888888888, \"#fdca26\"], [1.0, \"#f0f921\"]], \"type\": \"contour\"}], \"contourcarpet\": [{\"colorbar\": {\"outlinewidth\": 0, \"ticks\": \"\"}, \"type\": \"contourcarpet\"}], \"heatmap\": [{\"colorbar\": {\"outlinewidth\": 0, \"ticks\": \"\"}, \"colorscale\": [[0.0, \"#0d0887\"], [0.1111111111111111, \"#46039f\"], [0.2222222222222222, \"#7201a8\"], [0.3333333333333333, \"#9c179e\"], [0.4444444444444444, \"#bd3786\"], [0.5555555555555556, \"#d8576b\"], [0.6666666666666666, \"#ed7953\"], [0.7777777777777778, \"#fb9f3a\"], [0.8888888888888888, \"#fdca26\"], [1.0, \"#f0f921\"]], \"type\": \"heatmap\"}], \"heatmapgl\": [{\"colorbar\": {\"outlinewidth\": 0, \"ticks\": \"\"}, \"colorscale\": [[0.0, \"#0d0887\"], [0.1111111111111111, \"#46039f\"], [0.2222222222222222, \"#7201a8\"], [0.3333333333333333, \"#9c179e\"], [0.4444444444444444, \"#bd3786\"], [0.5555555555555556, \"#d8576b\"], [0.6666666666666666, \"#ed7953\"], [0.7777777777777778, \"#fb9f3a\"], [0.8888888888888888, \"#fdca26\"], [1.0, \"#f0f921\"]], \"type\": \"heatmapgl\"}], \"histogram\": [{\"marker\": {\"colorbar\": {\"outlinewidth\": 0, \"ticks\": \"\"}}, \"type\": \"histogram\"}], \"histogram2d\": [{\"colorbar\": {\"outlinewidth\": 0, \"ticks\": \"\"}, \"colorscale\": [[0.0, \"#0d0887\"], [0.1111111111111111, \"#46039f\"], [0.2222222222222222, \"#7201a8\"], [0.3333333333333333, \"#9c179e\"], [0.4444444444444444, \"#bd3786\"], [0.5555555555555556, \"#d8576b\"], [0.6666666666666666, \"#ed7953\"], [0.7777777777777778, \"#fb9f3a\"], [0.8888888888888888, \"#fdca26\"], [1.0, \"#f0f921\"]], \"type\": \"histogram2d\"}], \"histogram2dcontour\": [{\"colorbar\": {\"outlinewidth\": 0, \"ticks\": \"\"}, \"colorscale\": [[0.0, \"#0d0887\"], [0.1111111111111111, \"#46039f\"], [0.2222222222222222, \"#7201a8\"], [0.3333333333333333, \"#9c179e\"], [0.4444444444444444, \"#bd3786\"], [0.5555555555555556, \"#d8576b\"], [0.6666666666666666, \"#ed7953\"], [0.7777777777777778, \"#fb9f3a\"], [0.8888888888888888, \"#fdca26\"], [1.0, \"#f0f921\"]], \"type\": \"histogram2dcontour\"}], \"mesh3d\": [{\"colorbar\": {\"outlinewidth\": 0, \"ticks\": \"\"}, \"type\": \"mesh3d\"}], \"parcoords\": [{\"line\": {\"colorbar\": {\"outlinewidth\": 0, \"ticks\": \"\"}}, \"type\": \"parcoords\"}], \"pie\": [{\"automargin\": true, \"type\": \"pie\"}], \"scatter\": [{\"marker\": {\"colorbar\": {\"outlinewidth\": 0, \"ticks\": \"\"}}, \"type\": \"scatter\"}], \"scatter3d\": [{\"line\": {\"colorbar\": {\"outlinewidth\": 0, \"ticks\": \"\"}}, \"marker\": {\"colorbar\": {\"outlinewidth\": 0, \"ticks\": \"\"}}, \"type\": \"scatter3d\"}], \"scattercarpet\": [{\"marker\": {\"colorbar\": {\"outlinewidth\": 0, \"ticks\": \"\"}}, \"type\": \"scattercarpet\"}], \"scattergeo\": [{\"marker\": {\"colorbar\": {\"outlinewidth\": 0, \"ticks\": \"\"}}, \"type\": \"scattergeo\"}], \"scattergl\": [{\"marker\": {\"colorbar\": {\"outlinewidth\": 0, \"ticks\": \"\"}}, \"type\": \"scattergl\"}], \"scattermapbox\": [{\"marker\": {\"colorbar\": {\"outlinewidth\": 0, \"ticks\": \"\"}}, \"type\": \"scattermapbox\"}], \"scatterpolar\": [{\"marker\": {\"colorbar\": {\"outlinewidth\": 0, \"ticks\": \"\"}}, \"type\": \"scatterpolar\"}], \"scatterpolargl\": [{\"marker\": {\"colorbar\": {\"outlinewidth\": 0, \"ticks\": \"\"}}, \"type\": \"scatterpolargl\"}], \"scatterternary\": [{\"marker\": {\"colorbar\": {\"outlinewidth\": 0, \"ticks\": \"\"}}, \"type\": \"scatterternary\"}], \"surface\": [{\"colorbar\": {\"outlinewidth\": 0, \"ticks\": \"\"}, \"colorscale\": [[0.0, \"#0d0887\"], [0.1111111111111111, \"#46039f\"], [0.2222222222222222, \"#7201a8\"], [0.3333333333333333, \"#9c179e\"], [0.4444444444444444, \"#bd3786\"], [0.5555555555555556, \"#d8576b\"], [0.6666666666666666, \"#ed7953\"], [0.7777777777777778, \"#fb9f3a\"], [0.8888888888888888, \"#fdca26\"], [1.0, \"#f0f921\"]], \"type\": \"surface\"}], \"table\": [{\"cells\": {\"fill\": {\"color\": \"#EBF0F8\"}, \"line\": {\"color\": \"white\"}}, \"header\": {\"fill\": {\"color\": \"#C8D4E3\"}, \"line\": {\"color\": \"white\"}}, \"type\": \"table\"}]}, \"layout\": {\"annotationdefaults\": {\"arrowcolor\": \"#2a3f5f\", \"arrowhead\": 0, \"arrowwidth\": 1}, \"coloraxis\": {\"colorbar\": {\"outlinewidth\": 0, \"ticks\": \"\"}}, \"colorscale\": {\"diverging\": [[0, \"#8e0152\"], [0.1, \"#c51b7d\"], [0.2, \"#de77ae\"], [0.3, \"#f1b6da\"], [0.4, \"#fde0ef\"], [0.5, \"#f7f7f7\"], [0.6, \"#e6f5d0\"], [0.7, \"#b8e186\"], [0.8, \"#7fbc41\"], [0.9, \"#4d9221\"], [1, \"#276419\"]], \"sequential\": [[0.0, \"#0d0887\"], [0.1111111111111111, \"#46039f\"], [0.2222222222222222, \"#7201a8\"], [0.3333333333333333, \"#9c179e\"], [0.4444444444444444, \"#bd3786\"], [0.5555555555555556, \"#d8576b\"], [0.6666666666666666, \"#ed7953\"], [0.7777777777777778, \"#fb9f3a\"], [0.8888888888888888, \"#fdca26\"], [1.0, \"#f0f921\"]], \"sequentialminus\": [[0.0, \"#0d0887\"], [0.1111111111111111, \"#46039f\"], [0.2222222222222222, \"#7201a8\"], [0.3333333333333333, \"#9c179e\"], [0.4444444444444444, \"#bd3786\"], [0.5555555555555556, \"#d8576b\"], [0.6666666666666666, \"#ed7953\"], [0.7777777777777778, \"#fb9f3a\"], [0.8888888888888888, \"#fdca26\"], [1.0, \"#f0f921\"]]}, \"colorway\": [\"#636efa\", \"#EF553B\", \"#00cc96\", \"#ab63fa\", \"#FFA15A\", \"#19d3f3\", \"#FF6692\", \"#B6E880\", \"#FF97FF\", \"#FECB52\"], \"font\": {\"color\": \"#2a3f5f\"}, \"geo\": {\"bgcolor\": \"white\", \"lakecolor\": \"white\", \"landcolor\": \"#E5ECF6\", \"showlakes\": true, \"showland\": true, \"subunitcolor\": \"white\"}, \"hoverlabel\": {\"align\": \"left\"}, \"hovermode\": \"closest\", \"mapbox\": {\"style\": \"light\"}, \"paper_bgcolor\": \"white\", \"plot_bgcolor\": \"#E5ECF6\", \"polar\": {\"angularaxis\": {\"gridcolor\": \"white\", \"linecolor\": \"white\", \"ticks\": \"\"}, \"bgcolor\": \"#E5ECF6\", \"radialaxis\": {\"gridcolor\": \"white\", \"linecolor\": \"white\", \"ticks\": \"\"}}, \"scene\": {\"xaxis\": {\"backgroundcolor\": \"#E5ECF6\", \"gridcolor\": \"white\", \"gridwidth\": 2, \"linecolor\": \"white\", \"showbackground\": true, \"ticks\": \"\", \"zerolinecolor\": \"white\"}, \"yaxis\": {\"backgroundcolor\": \"#E5ECF6\", \"gridcolor\": \"white\", \"gridwidth\": 2, \"linecolor\": \"white\", \"showbackground\": true, \"ticks\": \"\", \"zerolinecolor\": \"white\"}, \"zaxis\": {\"backgroundcolor\": \"#E5ECF6\", \"gridcolor\": \"white\", \"gridwidth\": 2, \"linecolor\": \"white\", \"showbackground\": true, \"ticks\": \"\", \"zerolinecolor\": \"white\"}}, \"shapedefaults\": {\"line\": {\"color\": \"#2a3f5f\"}}, \"ternary\": {\"aaxis\": {\"gridcolor\": \"white\", \"linecolor\": \"white\", \"ticks\": \"\"}, \"baxis\": {\"gridcolor\": \"white\", \"linecolor\": \"white\", \"ticks\": \"\"}, \"bgcolor\": \"#E5ECF6\", \"caxis\": {\"gridcolor\": \"white\", \"linecolor\": \"white\", \"ticks\": \"\"}}, \"title\": {\"x\": 0.05}, \"xaxis\": {\"automargin\": true, \"gridcolor\": \"white\", \"linecolor\": \"white\", \"ticks\": \"\", \"title\": {\"standoff\": 15}, \"zerolinecolor\": \"white\", \"zerolinewidth\": 2}, \"yaxis\": {\"automargin\": true, \"gridcolor\": \"white\", \"linecolor\": \"white\", \"ticks\": \"\", \"title\": {\"standoff\": 15}, \"zerolinecolor\": \"white\", \"zerolinewidth\": 2}}}, \"title\": {\"text\": \"ZCN19 ZCZ19\", \"x\": 0.5, \"xanchor\": \"center\", \"y\": 0.9, \"yanchor\": \"top\"}, \"xaxis\": {\"showspikes\": true, \"spikedash\": \"solid\", \"spikemode\": \"toaxis+across\", \"spikethickness\": 1, \"tickangle\": 45, \"ticktext\": [20190122, 20190130, 20190207, 20190215, 20190226, 20190306, 20190314, 20190322, 20190401, 20190409, 20190417, 20190426, 20190506, 20190514, 20190522, 20190531, 20190610, 20190618, 20190626, 20190705], \"tickvals\": [20190122, 20190130, 20190207, 20190215, 20190226, 20190306, 20190314, 20190322, 20190401, 20190409, 20190417, 20190426, 20190506, 20190514, 20190522, 20190531, 20190610, 20190618, 20190626, 20190705], \"type\": \"category\"}, \"yaxis\": {\"showspikes\": true, \"spikedash\": \"solid\", \"spikemode\": \"toaxis+across\", \"spikethickness\": 1, \"title\": {\"text\": \"price\"}}, \"yaxis2\": {\"overlaying\": \"y\", \"side\": \"right\", \"title\": {\"text\": \"spread\"}}},\n",
       "                        {\"responsive\": true}\n",
       "                    ).then(function(){\n",
       "                            \n",
       "var gd = document.getElementById('e79ebac6-5f1f-4094-9e65-24281f6cbc92');\n",
       "var x = new MutationObserver(function (mutations, observer) {{\n",
       "        var display = window.getComputedStyle(gd).display;\n",
       "        if (!display || display === 'none') {{\n",
       "            console.log([gd, 'removed!']);\n",
       "            Plotly.purge(gd);\n",
       "            observer.disconnect();\n",
       "        }}\n",
       "}});\n",
       "\n",
       "// Listen for the removal of the full notebook cells\n",
       "var notebookContainer = gd.closest('#notebook-container');\n",
       "if (notebookContainer) {{\n",
       "    x.observe(notebookContainer, {childList: true});\n",
       "}}\n",
       "\n",
       "// Listen for the clearing of the current output cell\n",
       "var outputEl = gd.closest('.output');\n",
       "if (outputEl) {{\n",
       "    x.observe(outputEl, {childList: true});\n",
       "}}\n",
       "\n",
       "                        })\n",
       "                };\n",
       "                });\n",
       "            </script>\n",
       "        </div>"
      ]
     },
     "metadata": {},
     "output_type": "display_data"
    },
    {
     "data": {
      "application/vnd.plotly.v1+json": {
       "config": {
        "linkText": "Export to plot.ly",
        "plotlyServerURL": "https://plot.ly",
        "showLink": false
       },
       "data": [
        {
         "name": "front",
         "type": "scatter",
         "x": [
          20191210,
          20191211,
          20191212,
          20191213,
          20191216,
          20191217,
          20191218,
          20191219,
          20191220,
          20191223,
          20191224,
          20191226,
          20191227,
          20191230,
          20191231,
          20200102,
          20200103,
          20200106,
          20200107,
          20200108,
          20200109,
          20200110,
          20200113,
          20200114,
          20200115,
          20200116,
          20200117,
          20200121,
          20200122,
          20200123,
          20200124,
          20200127,
          20200128,
          20200129,
          20200130,
          20200131,
          20200203,
          20200204,
          20200205,
          20200206,
          20200207,
          20200210,
          20200211,
          20200212,
          20200213,
          20200214,
          20200218,
          20200219,
          20200220,
          20200221,
          20200224,
          20200225,
          20200226,
          20200227,
          20200228,
          20200302,
          20200303,
          20200304,
          20200305,
          20200306,
          20200309,
          20200310,
          20200311,
          20200312,
          20200313,
          20200316,
          20200317,
          20200318,
          20200319,
          20200320,
          20200323,
          20200324,
          20200325,
          20200326,
          20200327,
          20200330,
          20200331,
          20200401,
          20200402,
          20200403,
          20200406,
          20200407,
          20200408,
          20200409,
          20200413,
          20200414,
          20200415,
          20200416,
          20200417,
          20200420,
          20200421,
          20200422,
          20200423,
          20200424,
          20200427,
          20200428,
          20200429,
          20200430,
          20200501,
          20200504,
          20200505,
          20200506,
          20200507,
          20200508,
          20200511,
          20200512,
          20200513,
          20200514,
          20200515,
          20200518,
          20200519,
          20200520,
          20200521,
          20200522,
          20200526,
          20200527,
          20200528,
          20200529,
          20200601,
          20200602
         ],
         "y": [
          388,
          383.75,
          390,
          393.75,
          400.25,
          402.25,
          399.5,
          398.75,
          399.5,
          401.25,
          400.5,
          401.25,
          402.75,
          401.5,
          401,
          404,
          399.25,
          398,
          397.75,
          397.75,
          396.75,
          399.5,
          402.75,
          402.25,
          400.5,
          389,
          401,
          399.25,
          399.25,
          403.25,
          397.75,
          392.25,
          397.25,
          394.5,
          389.5,
          391,
          389.5,
          392.75,
          391,
          388,
          392.25,
          390.75,
          388.25,
          390.25,
          388.75,
          385.5,
          390.5,
          388.25,
          385.5,
          383.5,
          379.5,
          380,
          378.75,
          372.5,
          372.5,
          378.5,
          383.75,
          386.25,
          383.75,
          379.25,
          375,
          379.5,
          376.5,
          368.75,
          368.5,
          358.5,
          350,
          341.75,
          351,
          349.5,
          349.5,
          352,
          353.5,
          354.25,
          351.75,
          347.5,
          346,
          338.75,
          338.5,
          336.75,
          333.5,
          337.25,
          335.5,
          336.75,
          336.25,
          332.25,
          326.75,
          326.25,
          329.25,
          322.25,
          317.25,
          324.75,
          326,
          323,
          313.25,
          312,
          314.5,
          320,
          318.5,
          315.5,
          317,
          314.25,
          318,
          319.25,
          318.5,
          322.25,
          318.25,
          317.5,
          319.25,
          320.75,
          321.25,
          319.5,
          317.75,
          318,
          319,
          320.5,
          327.5,
          325.75,
          323.25,
          324.25
         ],
         "yaxis": "y"
        },
        {
         "name": "back",
         "type": "scatter",
         "x": [
          20191210,
          20191211,
          20191212,
          20191213,
          20191216,
          20191217,
          20191218,
          20191219,
          20191220,
          20191223,
          20191224,
          20191226,
          20191227,
          20191230,
          20191231,
          20200102,
          20200103,
          20200106,
          20200107,
          20200108,
          20200109,
          20200110,
          20200113,
          20200114,
          20200115,
          20200116,
          20200117,
          20200121,
          20200122,
          20200123,
          20200124,
          20200127,
          20200128,
          20200129,
          20200130,
          20200131,
          20200203,
          20200204,
          20200205,
          20200206,
          20200207,
          20200210,
          20200211,
          20200212,
          20200213,
          20200214,
          20200218,
          20200219,
          20200220,
          20200221,
          20200224,
          20200225,
          20200226,
          20200227,
          20200228,
          20200302,
          20200303,
          20200304,
          20200305,
          20200306,
          20200309,
          20200310,
          20200311,
          20200312,
          20200313,
          20200316,
          20200317,
          20200318,
          20200319,
          20200320,
          20200323,
          20200324,
          20200325,
          20200326,
          20200327,
          20200330,
          20200331,
          20200401,
          20200402,
          20200403,
          20200406,
          20200407,
          20200408,
          20200409,
          20200413,
          20200414,
          20200415,
          20200416,
          20200417,
          20200420,
          20200421,
          20200422,
          20200423,
          20200424,
          20200427,
          20200428,
          20200429,
          20200430,
          20200501,
          20200504,
          20200505,
          20200506,
          20200507,
          20200508,
          20200511,
          20200512,
          20200513,
          20200514,
          20200515,
          20200518,
          20200519,
          20200520,
          20200521,
          20200522,
          20200526,
          20200527,
          20200528,
          20200529,
          20200601,
          20200602
         ],
         "y": [
          391,
          388,
          393.25,
          395.25,
          400.25,
          402,
          400,
          400.5,
          401.75,
          402.5,
          402,
          402.75,
          403.5,
          403,
          402.5,
          404.5,
          400.75,
          400,
          400,
          400.75,
          400,
          402.75,
          404.75,
          404.25,
          402.5,
          394,
          402.75,
          401.5,
          400.75,
          403.25,
          398.25,
          395.25,
          397.5,
          395.25,
          390.5,
          390.75,
          389.5,
          392.75,
          392.5,
          389.75,
          394,
          393.5,
          392,
          393,
          392,
          388.75,
          393.25,
          390.75,
          388.5,
          386,
          382.25,
          382.25,
          381.5,
          377.5,
          377,
          380.75,
          384.5,
          385.5,
          383.75,
          381.5,
          376.25,
          380.5,
          377,
          371.75,
          373,
          367,
          362.5,
          357.75,
          363.25,
          363.25,
          364.25,
          365.25,
          367.25,
          367.25,
          364.25,
          359.75,
          357.5,
          347.25,
          349.75,
          350.75,
          348.25,
          351,
          349.25,
          350.75,
          349.75,
          346.5,
          342.75,
          341,
          343.5,
          337,
          332,
          336.75,
          338.75,
          336.75,
          329.5,
          330,
          333.5,
          337.25,
          336.75,
          334,
          334.25,
          331.25,
          334,
          335.75,
          334.75,
          335.75,
          332.5,
          331.75,
          332,
          332.75,
          334.25,
          334,
          333,
          332.75,
          334,
          334.5,
          340.25,
          338.75,
          335.75,
          338
         ],
         "yaxis": "y"
        },
        {
         "name": "spread",
         "type": "scatter",
         "x": [
          20191210,
          20191211,
          20191212,
          20191213,
          20191216,
          20191217,
          20191218,
          20191219,
          20191220,
          20191223,
          20191224,
          20191226,
          20191227,
          20191230,
          20191231,
          20200102,
          20200103,
          20200106,
          20200107,
          20200108,
          20200109,
          20200110,
          20200113,
          20200114,
          20200115,
          20200116,
          20200117,
          20200121,
          20200122,
          20200123,
          20200124,
          20200127,
          20200128,
          20200129,
          20200130,
          20200131,
          20200203,
          20200204,
          20200205,
          20200206,
          20200207,
          20200210,
          20200211,
          20200212,
          20200213,
          20200214,
          20200218,
          20200219,
          20200220,
          20200221,
          20200224,
          20200225,
          20200226,
          20200227,
          20200228,
          20200302,
          20200303,
          20200304,
          20200305,
          20200306,
          20200309,
          20200310,
          20200311,
          20200312,
          20200313,
          20200316,
          20200317,
          20200318,
          20200319,
          20200320,
          20200323,
          20200324,
          20200325,
          20200326,
          20200327,
          20200330,
          20200331,
          20200401,
          20200402,
          20200403,
          20200406,
          20200407,
          20200408,
          20200409,
          20200413,
          20200414,
          20200415,
          20200416,
          20200417,
          20200420,
          20200421,
          20200422,
          20200423,
          20200424,
          20200427,
          20200428,
          20200429,
          20200430,
          20200501,
          20200504,
          20200505,
          20200506,
          20200507,
          20200508,
          20200511,
          20200512,
          20200513,
          20200514,
          20200515,
          20200518,
          20200519,
          20200520,
          20200521,
          20200522,
          20200526,
          20200527,
          20200528,
          20200529,
          20200601,
          20200602
         ],
         "y": [
          -3,
          -4.25,
          -3.25,
          -1.5,
          0,
          0.25,
          -0.5,
          -1.75,
          -2.25,
          -1.25,
          -1.5,
          -1.5,
          -0.75,
          -1.5,
          -1.5,
          -0.5,
          -1.5,
          -2,
          -2.25,
          -3,
          -3.25,
          -3.25,
          -2,
          -2,
          -2,
          -5,
          -1.75,
          -2.25,
          -1.5,
          0,
          -0.5,
          -3,
          -0.25,
          -0.75,
          -1,
          0.25,
          0,
          0,
          -1.5,
          -1.75,
          -1.75,
          -2.75,
          -3.75,
          -2.75,
          -3.25,
          -3.25,
          -2.75,
          -2.5,
          -3,
          -2.5,
          -2.75,
          -2.25,
          -2.75,
          -5,
          -4.5,
          -2.25,
          -0.75,
          0.75,
          0,
          -2.25,
          -1.25,
          -1,
          -0.5,
          -3,
          -4.5,
          -8.5,
          -12.5,
          -16,
          -12.25,
          -13.75,
          -14.75,
          -13.25,
          -13.75,
          -13,
          -12.5,
          -12.25,
          -11.5,
          -8.5,
          -11.25,
          -14,
          -14.75,
          -13.75,
          -13.75,
          -14,
          -13.5,
          -14.25,
          -16,
          -14.75,
          -14.25,
          -14.75,
          -14.75,
          -12,
          -12.75,
          -13.75,
          -16.25,
          -18,
          -19,
          -17.25,
          -18.25,
          -18.5,
          -17.25,
          -17,
          -16,
          -16.5,
          -16.25,
          -13.5,
          -14.25,
          -14.25,
          -12.75,
          -12,
          -13,
          -14.5,
          -15.25,
          -14.75,
          -15,
          -14,
          -12.75,
          -13,
          -12.5,
          -13.75
         ],
         "yaxis": "y2"
        }
       ],
       "layout": {
        "autosize": true,
        "hovermode": "x",
        "legend": {
         "orientation": "h",
         "x": 0,
         "y": 1.1
        },
        "margin": {
         "b": 100
        },
        "modebar": {
         "bgcolor": "grey",
         "orientation": "v"
        },
        "spikedistance": 1000,
        "template": {
         "data": {
          "bar": [
           {
            "error_x": {
             "color": "#2a3f5f"
            },
            "error_y": {
             "color": "#2a3f5f"
            },
            "marker": {
             "line": {
              "color": "#E5ECF6",
              "width": 0.5
             }
            },
            "type": "bar"
           }
          ],
          "barpolar": [
           {
            "marker": {
             "line": {
              "color": "#E5ECF6",
              "width": 0.5
             }
            },
            "type": "barpolar"
           }
          ],
          "carpet": [
           {
            "aaxis": {
             "endlinecolor": "#2a3f5f",
             "gridcolor": "white",
             "linecolor": "white",
             "minorgridcolor": "white",
             "startlinecolor": "#2a3f5f"
            },
            "baxis": {
             "endlinecolor": "#2a3f5f",
             "gridcolor": "white",
             "linecolor": "white",
             "minorgridcolor": "white",
             "startlinecolor": "#2a3f5f"
            },
            "type": "carpet"
           }
          ],
          "choropleth": [
           {
            "colorbar": {
             "outlinewidth": 0,
             "ticks": ""
            },
            "type": "choropleth"
           }
          ],
          "contour": [
           {
            "colorbar": {
             "outlinewidth": 0,
             "ticks": ""
            },
            "colorscale": [
             [
              0,
              "#0d0887"
             ],
             [
              0.1111111111111111,
              "#46039f"
             ],
             [
              0.2222222222222222,
              "#7201a8"
             ],
             [
              0.3333333333333333,
              "#9c179e"
             ],
             [
              0.4444444444444444,
              "#bd3786"
             ],
             [
              0.5555555555555556,
              "#d8576b"
             ],
             [
              0.6666666666666666,
              "#ed7953"
             ],
             [
              0.7777777777777778,
              "#fb9f3a"
             ],
             [
              0.8888888888888888,
              "#fdca26"
             ],
             [
              1,
              "#f0f921"
             ]
            ],
            "type": "contour"
           }
          ],
          "contourcarpet": [
           {
            "colorbar": {
             "outlinewidth": 0,
             "ticks": ""
            },
            "type": "contourcarpet"
           }
          ],
          "heatmap": [
           {
            "colorbar": {
             "outlinewidth": 0,
             "ticks": ""
            },
            "colorscale": [
             [
              0,
              "#0d0887"
             ],
             [
              0.1111111111111111,
              "#46039f"
             ],
             [
              0.2222222222222222,
              "#7201a8"
             ],
             [
              0.3333333333333333,
              "#9c179e"
             ],
             [
              0.4444444444444444,
              "#bd3786"
             ],
             [
              0.5555555555555556,
              "#d8576b"
             ],
             [
              0.6666666666666666,
              "#ed7953"
             ],
             [
              0.7777777777777778,
              "#fb9f3a"
             ],
             [
              0.8888888888888888,
              "#fdca26"
             ],
             [
              1,
              "#f0f921"
             ]
            ],
            "type": "heatmap"
           }
          ],
          "heatmapgl": [
           {
            "colorbar": {
             "outlinewidth": 0,
             "ticks": ""
            },
            "colorscale": [
             [
              0,
              "#0d0887"
             ],
             [
              0.1111111111111111,
              "#46039f"
             ],
             [
              0.2222222222222222,
              "#7201a8"
             ],
             [
              0.3333333333333333,
              "#9c179e"
             ],
             [
              0.4444444444444444,
              "#bd3786"
             ],
             [
              0.5555555555555556,
              "#d8576b"
             ],
             [
              0.6666666666666666,
              "#ed7953"
             ],
             [
              0.7777777777777778,
              "#fb9f3a"
             ],
             [
              0.8888888888888888,
              "#fdca26"
             ],
             [
              1,
              "#f0f921"
             ]
            ],
            "type": "heatmapgl"
           }
          ],
          "histogram": [
           {
            "marker": {
             "colorbar": {
              "outlinewidth": 0,
              "ticks": ""
             }
            },
            "type": "histogram"
           }
          ],
          "histogram2d": [
           {
            "colorbar": {
             "outlinewidth": 0,
             "ticks": ""
            },
            "colorscale": [
             [
              0,
              "#0d0887"
             ],
             [
              0.1111111111111111,
              "#46039f"
             ],
             [
              0.2222222222222222,
              "#7201a8"
             ],
             [
              0.3333333333333333,
              "#9c179e"
             ],
             [
              0.4444444444444444,
              "#bd3786"
             ],
             [
              0.5555555555555556,
              "#d8576b"
             ],
             [
              0.6666666666666666,
              "#ed7953"
             ],
             [
              0.7777777777777778,
              "#fb9f3a"
             ],
             [
              0.8888888888888888,
              "#fdca26"
             ],
             [
              1,
              "#f0f921"
             ]
            ],
            "type": "histogram2d"
           }
          ],
          "histogram2dcontour": [
           {
            "colorbar": {
             "outlinewidth": 0,
             "ticks": ""
            },
            "colorscale": [
             [
              0,
              "#0d0887"
             ],
             [
              0.1111111111111111,
              "#46039f"
             ],
             [
              0.2222222222222222,
              "#7201a8"
             ],
             [
              0.3333333333333333,
              "#9c179e"
             ],
             [
              0.4444444444444444,
              "#bd3786"
             ],
             [
              0.5555555555555556,
              "#d8576b"
             ],
             [
              0.6666666666666666,
              "#ed7953"
             ],
             [
              0.7777777777777778,
              "#fb9f3a"
             ],
             [
              0.8888888888888888,
              "#fdca26"
             ],
             [
              1,
              "#f0f921"
             ]
            ],
            "type": "histogram2dcontour"
           }
          ],
          "mesh3d": [
           {
            "colorbar": {
             "outlinewidth": 0,
             "ticks": ""
            },
            "type": "mesh3d"
           }
          ],
          "parcoords": [
           {
            "line": {
             "colorbar": {
              "outlinewidth": 0,
              "ticks": ""
             }
            },
            "type": "parcoords"
           }
          ],
          "pie": [
           {
            "automargin": true,
            "type": "pie"
           }
          ],
          "scatter": [
           {
            "marker": {
             "colorbar": {
              "outlinewidth": 0,
              "ticks": ""
             }
            },
            "type": "scatter"
           }
          ],
          "scatter3d": [
           {
            "line": {
             "colorbar": {
              "outlinewidth": 0,
              "ticks": ""
             }
            },
            "marker": {
             "colorbar": {
              "outlinewidth": 0,
              "ticks": ""
             }
            },
            "type": "scatter3d"
           }
          ],
          "scattercarpet": [
           {
            "marker": {
             "colorbar": {
              "outlinewidth": 0,
              "ticks": ""
             }
            },
            "type": "scattercarpet"
           }
          ],
          "scattergeo": [
           {
            "marker": {
             "colorbar": {
              "outlinewidth": 0,
              "ticks": ""
             }
            },
            "type": "scattergeo"
           }
          ],
          "scattergl": [
           {
            "marker": {
             "colorbar": {
              "outlinewidth": 0,
              "ticks": ""
             }
            },
            "type": "scattergl"
           }
          ],
          "scattermapbox": [
           {
            "marker": {
             "colorbar": {
              "outlinewidth": 0,
              "ticks": ""
             }
            },
            "type": "scattermapbox"
           }
          ],
          "scatterpolar": [
           {
            "marker": {
             "colorbar": {
              "outlinewidth": 0,
              "ticks": ""
             }
            },
            "type": "scatterpolar"
           }
          ],
          "scatterpolargl": [
           {
            "marker": {
             "colorbar": {
              "outlinewidth": 0,
              "ticks": ""
             }
            },
            "type": "scatterpolargl"
           }
          ],
          "scatterternary": [
           {
            "marker": {
             "colorbar": {
              "outlinewidth": 0,
              "ticks": ""
             }
            },
            "type": "scatterternary"
           }
          ],
          "surface": [
           {
            "colorbar": {
             "outlinewidth": 0,
             "ticks": ""
            },
            "colorscale": [
             [
              0,
              "#0d0887"
             ],
             [
              0.1111111111111111,
              "#46039f"
             ],
             [
              0.2222222222222222,
              "#7201a8"
             ],
             [
              0.3333333333333333,
              "#9c179e"
             ],
             [
              0.4444444444444444,
              "#bd3786"
             ],
             [
              0.5555555555555556,
              "#d8576b"
             ],
             [
              0.6666666666666666,
              "#ed7953"
             ],
             [
              0.7777777777777778,
              "#fb9f3a"
             ],
             [
              0.8888888888888888,
              "#fdca26"
             ],
             [
              1,
              "#f0f921"
             ]
            ],
            "type": "surface"
           }
          ],
          "table": [
           {
            "cells": {
             "fill": {
              "color": "#EBF0F8"
             },
             "line": {
              "color": "white"
             }
            },
            "header": {
             "fill": {
              "color": "#C8D4E3"
             },
             "line": {
              "color": "white"
             }
            },
            "type": "table"
           }
          ]
         },
         "layout": {
          "annotationdefaults": {
           "arrowcolor": "#2a3f5f",
           "arrowhead": 0,
           "arrowwidth": 1
          },
          "coloraxis": {
           "colorbar": {
            "outlinewidth": 0,
            "ticks": ""
           }
          },
          "colorscale": {
           "diverging": [
            [
             0,
             "#8e0152"
            ],
            [
             0.1,
             "#c51b7d"
            ],
            [
             0.2,
             "#de77ae"
            ],
            [
             0.3,
             "#f1b6da"
            ],
            [
             0.4,
             "#fde0ef"
            ],
            [
             0.5,
             "#f7f7f7"
            ],
            [
             0.6,
             "#e6f5d0"
            ],
            [
             0.7,
             "#b8e186"
            ],
            [
             0.8,
             "#7fbc41"
            ],
            [
             0.9,
             "#4d9221"
            ],
            [
             1,
             "#276419"
            ]
           ],
           "sequential": [
            [
             0,
             "#0d0887"
            ],
            [
             0.1111111111111111,
             "#46039f"
            ],
            [
             0.2222222222222222,
             "#7201a8"
            ],
            [
             0.3333333333333333,
             "#9c179e"
            ],
            [
             0.4444444444444444,
             "#bd3786"
            ],
            [
             0.5555555555555556,
             "#d8576b"
            ],
            [
             0.6666666666666666,
             "#ed7953"
            ],
            [
             0.7777777777777778,
             "#fb9f3a"
            ],
            [
             0.8888888888888888,
             "#fdca26"
            ],
            [
             1,
             "#f0f921"
            ]
           ],
           "sequentialminus": [
            [
             0,
             "#0d0887"
            ],
            [
             0.1111111111111111,
             "#46039f"
            ],
            [
             0.2222222222222222,
             "#7201a8"
            ],
            [
             0.3333333333333333,
             "#9c179e"
            ],
            [
             0.4444444444444444,
             "#bd3786"
            ],
            [
             0.5555555555555556,
             "#d8576b"
            ],
            [
             0.6666666666666666,
             "#ed7953"
            ],
            [
             0.7777777777777778,
             "#fb9f3a"
            ],
            [
             0.8888888888888888,
             "#fdca26"
            ],
            [
             1,
             "#f0f921"
            ]
           ]
          },
          "colorway": [
           "#636efa",
           "#EF553B",
           "#00cc96",
           "#ab63fa",
           "#FFA15A",
           "#19d3f3",
           "#FF6692",
           "#B6E880",
           "#FF97FF",
           "#FECB52"
          ],
          "font": {
           "color": "#2a3f5f"
          },
          "geo": {
           "bgcolor": "white",
           "lakecolor": "white",
           "landcolor": "#E5ECF6",
           "showlakes": true,
           "showland": true,
           "subunitcolor": "white"
          },
          "hoverlabel": {
           "align": "left"
          },
          "hovermode": "closest",
          "mapbox": {
           "style": "light"
          },
          "paper_bgcolor": "white",
          "plot_bgcolor": "#E5ECF6",
          "polar": {
           "angularaxis": {
            "gridcolor": "white",
            "linecolor": "white",
            "ticks": ""
           },
           "bgcolor": "#E5ECF6",
           "radialaxis": {
            "gridcolor": "white",
            "linecolor": "white",
            "ticks": ""
           }
          },
          "scene": {
           "xaxis": {
            "backgroundcolor": "#E5ECF6",
            "gridcolor": "white",
            "gridwidth": 2,
            "linecolor": "white",
            "showbackground": true,
            "ticks": "",
            "zerolinecolor": "white"
           },
           "yaxis": {
            "backgroundcolor": "#E5ECF6",
            "gridcolor": "white",
            "gridwidth": 2,
            "linecolor": "white",
            "showbackground": true,
            "ticks": "",
            "zerolinecolor": "white"
           },
           "zaxis": {
            "backgroundcolor": "#E5ECF6",
            "gridcolor": "white",
            "gridwidth": 2,
            "linecolor": "white",
            "showbackground": true,
            "ticks": "",
            "zerolinecolor": "white"
           }
          },
          "shapedefaults": {
           "line": {
            "color": "#2a3f5f"
           }
          },
          "ternary": {
           "aaxis": {
            "gridcolor": "white",
            "linecolor": "white",
            "ticks": ""
           },
           "baxis": {
            "gridcolor": "white",
            "linecolor": "white",
            "ticks": ""
           },
           "bgcolor": "#E5ECF6",
           "caxis": {
            "gridcolor": "white",
            "linecolor": "white",
            "ticks": ""
           }
          },
          "title": {
           "x": 0.05
          },
          "xaxis": {
           "automargin": true,
           "gridcolor": "white",
           "linecolor": "white",
           "ticks": "",
           "title": {
            "standoff": 15
           },
           "zerolinecolor": "white",
           "zerolinewidth": 2
          },
          "yaxis": {
           "automargin": true,
           "gridcolor": "white",
           "linecolor": "white",
           "ticks": "",
           "title": {
            "standoff": 15
           },
           "zerolinecolor": "white",
           "zerolinewidth": 2
          }
         }
        },
        "title": {
         "text": "ZCN20 ZCZ20",
         "x": 0.5,
         "xanchor": "center",
         "y": 0.9,
         "yanchor": "top"
        },
        "xaxis": {
         "showspikes": true,
         "spikedash": "solid",
         "spikemode": "toaxis+across",
         "spikethickness": 1,
         "tickangle": 45,
         "ticktext": [
          20191210,
          20191218,
          20191227,
          20200107,
          20200115,
          20200124,
          20200203,
          20200211,
          20200220,
          20200228,
          20200309,
          20200317,
          20200325,
          20200402,
          20200413,
          20200421,
          20200429,
          20200507,
          20200515,
          20200526
         ],
         "tickvals": [
          20191210,
          20191218,
          20191227,
          20200107,
          20200115,
          20200124,
          20200203,
          20200211,
          20200220,
          20200228,
          20200309,
          20200317,
          20200325,
          20200402,
          20200413,
          20200421,
          20200429,
          20200507,
          20200515,
          20200526
         ],
         "type": "category"
        },
        "yaxis": {
         "showspikes": true,
         "spikedash": "solid",
         "spikemode": "toaxis+across",
         "spikethickness": 1,
         "title": {
          "text": "price"
         }
        },
        "yaxis2": {
         "overlaying": "y",
         "side": "right",
         "title": {
          "text": "spread"
         }
        }
       }
      },
      "text/html": [
       "<div>\n",
       "        \n",
       "        \n",
       "            <div id=\"c2c2ff5b-67e2-4aef-a9ba-df6eb50244a5\" class=\"plotly-graph-div\" style=\"height:525px; width:100%;\"></div>\n",
       "            <script type=\"text/javascript\">\n",
       "                require([\"plotly\"], function(Plotly) {\n",
       "                    window.PLOTLYENV=window.PLOTLYENV || {};\n",
       "                    \n",
       "                if (document.getElementById(\"c2c2ff5b-67e2-4aef-a9ba-df6eb50244a5\")) {\n",
       "                    Plotly.newPlot(\n",
       "                        'c2c2ff5b-67e2-4aef-a9ba-df6eb50244a5',\n",
       "                        [{\"name\": \"front\", \"type\": \"scatter\", \"x\": [20191210, 20191211, 20191212, 20191213, 20191216, 20191217, 20191218, 20191219, 20191220, 20191223, 20191224, 20191226, 20191227, 20191230, 20191231, 20200102, 20200103, 20200106, 20200107, 20200108, 20200109, 20200110, 20200113, 20200114, 20200115, 20200116, 20200117, 20200121, 20200122, 20200123, 20200124, 20200127, 20200128, 20200129, 20200130, 20200131, 20200203, 20200204, 20200205, 20200206, 20200207, 20200210, 20200211, 20200212, 20200213, 20200214, 20200218, 20200219, 20200220, 20200221, 20200224, 20200225, 20200226, 20200227, 20200228, 20200302, 20200303, 20200304, 20200305, 20200306, 20200309, 20200310, 20200311, 20200312, 20200313, 20200316, 20200317, 20200318, 20200319, 20200320, 20200323, 20200324, 20200325, 20200326, 20200327, 20200330, 20200331, 20200401, 20200402, 20200403, 20200406, 20200407, 20200408, 20200409, 20200413, 20200414, 20200415, 20200416, 20200417, 20200420, 20200421, 20200422, 20200423, 20200424, 20200427, 20200428, 20200429, 20200430, 20200501, 20200504, 20200505, 20200506, 20200507, 20200508, 20200511, 20200512, 20200513, 20200514, 20200515, 20200518, 20200519, 20200520, 20200521, 20200522, 20200526, 20200527, 20200528, 20200529, 20200601, 20200602], \"y\": [388.0, 383.75, 390.0, 393.75, 400.25, 402.25, 399.5, 398.75, 399.5, 401.25, 400.5, 401.25, 402.75, 401.5, 401.0, 404.0, 399.25, 398.0, 397.75, 397.75, 396.75, 399.5, 402.75, 402.25, 400.5, 389.0, 401.0, 399.25, 399.25, 403.25, 397.75, 392.25, 397.25, 394.5, 389.5, 391.0, 389.5, 392.75, 391.0, 388.0, 392.25, 390.75, 388.25, 390.25, 388.75, 385.5, 390.5, 388.25, 385.5, 383.5, 379.5, 380.0, 378.75, 372.5, 372.5, 378.5, 383.75, 386.25, 383.75, 379.25, 375.0, 379.5, 376.5, 368.75, 368.5, 358.5, 350.0, 341.75, 351.0, 349.5, 349.5, 352.0, 353.5, 354.25, 351.75, 347.5, 346.0, 338.75, 338.5, 336.75, 333.5, 337.25, 335.5, 336.75, 336.25, 332.25, 326.75, 326.25, 329.25, 322.25, 317.25, 324.75, 326.0, 323.0, 313.25, 312.0, 314.5, 320.0, 318.5, 315.5, 317.0, 314.25, 318.0, 319.25, 318.5, 322.25, 318.25, 317.5, 319.25, 320.75, 321.25, 319.5, 317.75, 318.0, 319.0, 320.5, 327.5, 325.75, 323.25, 324.25], \"yaxis\": \"y\"}, {\"name\": \"back\", \"type\": \"scatter\", \"x\": [20191210, 20191211, 20191212, 20191213, 20191216, 20191217, 20191218, 20191219, 20191220, 20191223, 20191224, 20191226, 20191227, 20191230, 20191231, 20200102, 20200103, 20200106, 20200107, 20200108, 20200109, 20200110, 20200113, 20200114, 20200115, 20200116, 20200117, 20200121, 20200122, 20200123, 20200124, 20200127, 20200128, 20200129, 20200130, 20200131, 20200203, 20200204, 20200205, 20200206, 20200207, 20200210, 20200211, 20200212, 20200213, 20200214, 20200218, 20200219, 20200220, 20200221, 20200224, 20200225, 20200226, 20200227, 20200228, 20200302, 20200303, 20200304, 20200305, 20200306, 20200309, 20200310, 20200311, 20200312, 20200313, 20200316, 20200317, 20200318, 20200319, 20200320, 20200323, 20200324, 20200325, 20200326, 20200327, 20200330, 20200331, 20200401, 20200402, 20200403, 20200406, 20200407, 20200408, 20200409, 20200413, 20200414, 20200415, 20200416, 20200417, 20200420, 20200421, 20200422, 20200423, 20200424, 20200427, 20200428, 20200429, 20200430, 20200501, 20200504, 20200505, 20200506, 20200507, 20200508, 20200511, 20200512, 20200513, 20200514, 20200515, 20200518, 20200519, 20200520, 20200521, 20200522, 20200526, 20200527, 20200528, 20200529, 20200601, 20200602], \"y\": [391.0, 388.0, 393.25, 395.25, 400.25, 402.0, 400.0, 400.5, 401.75, 402.5, 402.0, 402.75, 403.5, 403.0, 402.5, 404.5, 400.75, 400.0, 400.0, 400.75, 400.0, 402.75, 404.75, 404.25, 402.5, 394.0, 402.75, 401.5, 400.75, 403.25, 398.25, 395.25, 397.5, 395.25, 390.5, 390.75, 389.5, 392.75, 392.5, 389.75, 394.0, 393.5, 392.0, 393.0, 392.0, 388.75, 393.25, 390.75, 388.5, 386.0, 382.25, 382.25, 381.5, 377.5, 377.0, 380.75, 384.5, 385.5, 383.75, 381.5, 376.25, 380.5, 377.0, 371.75, 373.0, 367.0, 362.5, 357.75, 363.25, 363.25, 364.25, 365.25, 367.25, 367.25, 364.25, 359.75, 357.5, 347.25, 349.75, 350.75, 348.25, 351.0, 349.25, 350.75, 349.75, 346.5, 342.75, 341.0, 343.5, 337.0, 332.0, 336.75, 338.75, 336.75, 329.5, 330.0, 333.5, 337.25, 336.75, 334.0, 334.25, 331.25, 334.0, 335.75, 334.75, 335.75, 332.5, 331.75, 332.0, 332.75, 334.25, 334.0, 333.0, 332.75, 334.0, 334.5, 340.25, 338.75, 335.75, 338.0], \"yaxis\": \"y\"}, {\"name\": \"spread\", \"type\": \"scatter\", \"x\": [20191210, 20191211, 20191212, 20191213, 20191216, 20191217, 20191218, 20191219, 20191220, 20191223, 20191224, 20191226, 20191227, 20191230, 20191231, 20200102, 20200103, 20200106, 20200107, 20200108, 20200109, 20200110, 20200113, 20200114, 20200115, 20200116, 20200117, 20200121, 20200122, 20200123, 20200124, 20200127, 20200128, 20200129, 20200130, 20200131, 20200203, 20200204, 20200205, 20200206, 20200207, 20200210, 20200211, 20200212, 20200213, 20200214, 20200218, 20200219, 20200220, 20200221, 20200224, 20200225, 20200226, 20200227, 20200228, 20200302, 20200303, 20200304, 20200305, 20200306, 20200309, 20200310, 20200311, 20200312, 20200313, 20200316, 20200317, 20200318, 20200319, 20200320, 20200323, 20200324, 20200325, 20200326, 20200327, 20200330, 20200331, 20200401, 20200402, 20200403, 20200406, 20200407, 20200408, 20200409, 20200413, 20200414, 20200415, 20200416, 20200417, 20200420, 20200421, 20200422, 20200423, 20200424, 20200427, 20200428, 20200429, 20200430, 20200501, 20200504, 20200505, 20200506, 20200507, 20200508, 20200511, 20200512, 20200513, 20200514, 20200515, 20200518, 20200519, 20200520, 20200521, 20200522, 20200526, 20200527, 20200528, 20200529, 20200601, 20200602], \"y\": [-3.0, -4.25, -3.25, -1.5, 0.0, 0.25, -0.5, -1.75, -2.25, -1.25, -1.5, -1.5, -0.75, -1.5, -1.5, -0.5, -1.5, -2.0, -2.25, -3.0, -3.25, -3.25, -2.0, -2.0, -2.0, -5.0, -1.75, -2.25, -1.5, 0.0, -0.5, -3.0, -0.25, -0.75, -1.0, 0.25, 0.0, 0.0, -1.5, -1.75, -1.75, -2.75, -3.75, -2.75, -3.25, -3.25, -2.75, -2.5, -3.0, -2.5, -2.75, -2.25, -2.75, -5.0, -4.5, -2.25, -0.75, 0.75, 0.0, -2.25, -1.25, -1.0, -0.5, -3.0, -4.5, -8.5, -12.5, -16.0, -12.25, -13.75, -14.75, -13.25, -13.75, -13.0, -12.5, -12.25, -11.5, -8.5, -11.25, -14.0, -14.75, -13.75, -13.75, -14.0, -13.5, -14.25, -16.0, -14.75, -14.25, -14.75, -14.75, -12.0, -12.75, -13.75, -16.25, -18.0, -19.0, -17.25, -18.25, -18.5, -17.25, -17.0, -16.0, -16.5, -16.25, -13.5, -14.25, -14.25, -12.75, -12.0, -13.0, -14.5, -15.25, -14.75, -15.0, -14.0, -12.75, -13.0, -12.5, -13.75], \"yaxis\": \"y2\"}],\n",
       "                        {\"autosize\": true, \"hovermode\": \"x\", \"legend\": {\"orientation\": \"h\", \"x\": 0, \"y\": 1.1}, \"margin\": {\"b\": 100}, \"modebar\": {\"bgcolor\": \"grey\", \"orientation\": \"v\"}, \"spikedistance\": 1000, \"template\": {\"data\": {\"bar\": [{\"error_x\": {\"color\": \"#2a3f5f\"}, \"error_y\": {\"color\": \"#2a3f5f\"}, \"marker\": {\"line\": {\"color\": \"#E5ECF6\", \"width\": 0.5}}, \"type\": \"bar\"}], \"barpolar\": [{\"marker\": {\"line\": {\"color\": \"#E5ECF6\", \"width\": 0.5}}, \"type\": \"barpolar\"}], \"carpet\": [{\"aaxis\": {\"endlinecolor\": \"#2a3f5f\", \"gridcolor\": \"white\", \"linecolor\": \"white\", \"minorgridcolor\": \"white\", \"startlinecolor\": \"#2a3f5f\"}, \"baxis\": {\"endlinecolor\": \"#2a3f5f\", \"gridcolor\": \"white\", \"linecolor\": \"white\", \"minorgridcolor\": \"white\", \"startlinecolor\": \"#2a3f5f\"}, \"type\": \"carpet\"}], \"choropleth\": [{\"colorbar\": {\"outlinewidth\": 0, \"ticks\": \"\"}, \"type\": \"choropleth\"}], \"contour\": [{\"colorbar\": {\"outlinewidth\": 0, \"ticks\": \"\"}, \"colorscale\": [[0.0, \"#0d0887\"], [0.1111111111111111, \"#46039f\"], [0.2222222222222222, \"#7201a8\"], [0.3333333333333333, \"#9c179e\"], [0.4444444444444444, \"#bd3786\"], [0.5555555555555556, \"#d8576b\"], [0.6666666666666666, \"#ed7953\"], [0.7777777777777778, \"#fb9f3a\"], [0.8888888888888888, \"#fdca26\"], [1.0, \"#f0f921\"]], \"type\": \"contour\"}], \"contourcarpet\": [{\"colorbar\": {\"outlinewidth\": 0, \"ticks\": \"\"}, \"type\": \"contourcarpet\"}], \"heatmap\": [{\"colorbar\": {\"outlinewidth\": 0, \"ticks\": \"\"}, \"colorscale\": [[0.0, \"#0d0887\"], [0.1111111111111111, \"#46039f\"], [0.2222222222222222, \"#7201a8\"], [0.3333333333333333, \"#9c179e\"], [0.4444444444444444, \"#bd3786\"], [0.5555555555555556, \"#d8576b\"], [0.6666666666666666, \"#ed7953\"], [0.7777777777777778, \"#fb9f3a\"], [0.8888888888888888, \"#fdca26\"], [1.0, \"#f0f921\"]], \"type\": \"heatmap\"}], \"heatmapgl\": [{\"colorbar\": {\"outlinewidth\": 0, \"ticks\": \"\"}, \"colorscale\": [[0.0, \"#0d0887\"], [0.1111111111111111, \"#46039f\"], [0.2222222222222222, \"#7201a8\"], [0.3333333333333333, \"#9c179e\"], [0.4444444444444444, \"#bd3786\"], [0.5555555555555556, \"#d8576b\"], [0.6666666666666666, \"#ed7953\"], [0.7777777777777778, \"#fb9f3a\"], [0.8888888888888888, \"#fdca26\"], [1.0, \"#f0f921\"]], \"type\": \"heatmapgl\"}], \"histogram\": [{\"marker\": {\"colorbar\": {\"outlinewidth\": 0, \"ticks\": \"\"}}, \"type\": \"histogram\"}], \"histogram2d\": [{\"colorbar\": {\"outlinewidth\": 0, \"ticks\": \"\"}, \"colorscale\": [[0.0, \"#0d0887\"], [0.1111111111111111, \"#46039f\"], [0.2222222222222222, \"#7201a8\"], [0.3333333333333333, \"#9c179e\"], [0.4444444444444444, \"#bd3786\"], [0.5555555555555556, \"#d8576b\"], [0.6666666666666666, \"#ed7953\"], [0.7777777777777778, \"#fb9f3a\"], [0.8888888888888888, \"#fdca26\"], [1.0, \"#f0f921\"]], \"type\": \"histogram2d\"}], \"histogram2dcontour\": [{\"colorbar\": {\"outlinewidth\": 0, \"ticks\": \"\"}, \"colorscale\": [[0.0, \"#0d0887\"], [0.1111111111111111, \"#46039f\"], [0.2222222222222222, \"#7201a8\"], [0.3333333333333333, \"#9c179e\"], [0.4444444444444444, \"#bd3786\"], [0.5555555555555556, \"#d8576b\"], [0.6666666666666666, \"#ed7953\"], [0.7777777777777778, \"#fb9f3a\"], [0.8888888888888888, \"#fdca26\"], [1.0, \"#f0f921\"]], \"type\": \"histogram2dcontour\"}], \"mesh3d\": [{\"colorbar\": {\"outlinewidth\": 0, \"ticks\": \"\"}, \"type\": \"mesh3d\"}], \"parcoords\": [{\"line\": {\"colorbar\": {\"outlinewidth\": 0, \"ticks\": \"\"}}, \"type\": \"parcoords\"}], \"pie\": [{\"automargin\": true, \"type\": \"pie\"}], \"scatter\": [{\"marker\": {\"colorbar\": {\"outlinewidth\": 0, \"ticks\": \"\"}}, \"type\": \"scatter\"}], \"scatter3d\": [{\"line\": {\"colorbar\": {\"outlinewidth\": 0, \"ticks\": \"\"}}, \"marker\": {\"colorbar\": {\"outlinewidth\": 0, \"ticks\": \"\"}}, \"type\": \"scatter3d\"}], \"scattercarpet\": [{\"marker\": {\"colorbar\": {\"outlinewidth\": 0, \"ticks\": \"\"}}, \"type\": \"scattercarpet\"}], \"scattergeo\": [{\"marker\": {\"colorbar\": {\"outlinewidth\": 0, \"ticks\": \"\"}}, \"type\": \"scattergeo\"}], \"scattergl\": [{\"marker\": {\"colorbar\": {\"outlinewidth\": 0, \"ticks\": \"\"}}, \"type\": \"scattergl\"}], \"scattermapbox\": [{\"marker\": {\"colorbar\": {\"outlinewidth\": 0, \"ticks\": \"\"}}, \"type\": \"scattermapbox\"}], \"scatterpolar\": [{\"marker\": {\"colorbar\": {\"outlinewidth\": 0, \"ticks\": \"\"}}, \"type\": \"scatterpolar\"}], \"scatterpolargl\": [{\"marker\": {\"colorbar\": {\"outlinewidth\": 0, \"ticks\": \"\"}}, \"type\": \"scatterpolargl\"}], \"scatterternary\": [{\"marker\": {\"colorbar\": {\"outlinewidth\": 0, \"ticks\": \"\"}}, \"type\": \"scatterternary\"}], \"surface\": [{\"colorbar\": {\"outlinewidth\": 0, \"ticks\": \"\"}, \"colorscale\": [[0.0, \"#0d0887\"], [0.1111111111111111, \"#46039f\"], [0.2222222222222222, \"#7201a8\"], [0.3333333333333333, \"#9c179e\"], [0.4444444444444444, \"#bd3786\"], [0.5555555555555556, \"#d8576b\"], [0.6666666666666666, \"#ed7953\"], [0.7777777777777778, \"#fb9f3a\"], [0.8888888888888888, \"#fdca26\"], [1.0, \"#f0f921\"]], \"type\": \"surface\"}], \"table\": [{\"cells\": {\"fill\": {\"color\": \"#EBF0F8\"}, \"line\": {\"color\": \"white\"}}, \"header\": {\"fill\": {\"color\": \"#C8D4E3\"}, \"line\": {\"color\": \"white\"}}, \"type\": \"table\"}]}, \"layout\": {\"annotationdefaults\": {\"arrowcolor\": \"#2a3f5f\", \"arrowhead\": 0, \"arrowwidth\": 1}, \"coloraxis\": {\"colorbar\": {\"outlinewidth\": 0, \"ticks\": \"\"}}, \"colorscale\": {\"diverging\": [[0, \"#8e0152\"], [0.1, \"#c51b7d\"], [0.2, \"#de77ae\"], [0.3, \"#f1b6da\"], [0.4, \"#fde0ef\"], [0.5, \"#f7f7f7\"], [0.6, \"#e6f5d0\"], [0.7, \"#b8e186\"], [0.8, \"#7fbc41\"], [0.9, \"#4d9221\"], [1, \"#276419\"]], \"sequential\": [[0.0, \"#0d0887\"], [0.1111111111111111, \"#46039f\"], [0.2222222222222222, \"#7201a8\"], [0.3333333333333333, \"#9c179e\"], [0.4444444444444444, \"#bd3786\"], [0.5555555555555556, \"#d8576b\"], [0.6666666666666666, \"#ed7953\"], [0.7777777777777778, \"#fb9f3a\"], [0.8888888888888888, \"#fdca26\"], [1.0, \"#f0f921\"]], \"sequentialminus\": [[0.0, \"#0d0887\"], [0.1111111111111111, \"#46039f\"], [0.2222222222222222, \"#7201a8\"], [0.3333333333333333, \"#9c179e\"], [0.4444444444444444, \"#bd3786\"], [0.5555555555555556, \"#d8576b\"], [0.6666666666666666, \"#ed7953\"], [0.7777777777777778, \"#fb9f3a\"], [0.8888888888888888, \"#fdca26\"], [1.0, \"#f0f921\"]]}, \"colorway\": [\"#636efa\", \"#EF553B\", \"#00cc96\", \"#ab63fa\", \"#FFA15A\", \"#19d3f3\", \"#FF6692\", \"#B6E880\", \"#FF97FF\", \"#FECB52\"], \"font\": {\"color\": \"#2a3f5f\"}, \"geo\": {\"bgcolor\": \"white\", \"lakecolor\": \"white\", \"landcolor\": \"#E5ECF6\", \"showlakes\": true, \"showland\": true, \"subunitcolor\": \"white\"}, \"hoverlabel\": {\"align\": \"left\"}, \"hovermode\": \"closest\", \"mapbox\": {\"style\": \"light\"}, \"paper_bgcolor\": \"white\", \"plot_bgcolor\": \"#E5ECF6\", \"polar\": {\"angularaxis\": {\"gridcolor\": \"white\", \"linecolor\": \"white\", \"ticks\": \"\"}, \"bgcolor\": \"#E5ECF6\", \"radialaxis\": {\"gridcolor\": \"white\", \"linecolor\": \"white\", \"ticks\": \"\"}}, \"scene\": {\"xaxis\": {\"backgroundcolor\": \"#E5ECF6\", \"gridcolor\": \"white\", \"gridwidth\": 2, \"linecolor\": \"white\", \"showbackground\": true, \"ticks\": \"\", \"zerolinecolor\": \"white\"}, \"yaxis\": {\"backgroundcolor\": \"#E5ECF6\", \"gridcolor\": \"white\", \"gridwidth\": 2, \"linecolor\": \"white\", \"showbackground\": true, \"ticks\": \"\", \"zerolinecolor\": \"white\"}, \"zaxis\": {\"backgroundcolor\": \"#E5ECF6\", \"gridcolor\": \"white\", \"gridwidth\": 2, \"linecolor\": \"white\", \"showbackground\": true, \"ticks\": \"\", \"zerolinecolor\": \"white\"}}, \"shapedefaults\": {\"line\": {\"color\": \"#2a3f5f\"}}, \"ternary\": {\"aaxis\": {\"gridcolor\": \"white\", \"linecolor\": \"white\", \"ticks\": \"\"}, \"baxis\": {\"gridcolor\": \"white\", \"linecolor\": \"white\", \"ticks\": \"\"}, \"bgcolor\": \"#E5ECF6\", \"caxis\": {\"gridcolor\": \"white\", \"linecolor\": \"white\", \"ticks\": \"\"}}, \"title\": {\"x\": 0.05}, \"xaxis\": {\"automargin\": true, \"gridcolor\": \"white\", \"linecolor\": \"white\", \"ticks\": \"\", \"title\": {\"standoff\": 15}, \"zerolinecolor\": \"white\", \"zerolinewidth\": 2}, \"yaxis\": {\"automargin\": true, \"gridcolor\": \"white\", \"linecolor\": \"white\", \"ticks\": \"\", \"title\": {\"standoff\": 15}, \"zerolinecolor\": \"white\", \"zerolinewidth\": 2}}}, \"title\": {\"text\": \"ZCN20 ZCZ20\", \"x\": 0.5, \"xanchor\": \"center\", \"y\": 0.9, \"yanchor\": \"top\"}, \"xaxis\": {\"showspikes\": true, \"spikedash\": \"solid\", \"spikemode\": \"toaxis+across\", \"spikethickness\": 1, \"tickangle\": 45, \"ticktext\": [20191210, 20191218, 20191227, 20200107, 20200115, 20200124, 20200203, 20200211, 20200220, 20200228, 20200309, 20200317, 20200325, 20200402, 20200413, 20200421, 20200429, 20200507, 20200515, 20200526], \"tickvals\": [20191210, 20191218, 20191227, 20200107, 20200115, 20200124, 20200203, 20200211, 20200220, 20200228, 20200309, 20200317, 20200325, 20200402, 20200413, 20200421, 20200429, 20200507, 20200515, 20200526], \"type\": \"category\"}, \"yaxis\": {\"showspikes\": true, \"spikedash\": \"solid\", \"spikemode\": \"toaxis+across\", \"spikethickness\": 1, \"title\": {\"text\": \"price\"}}, \"yaxis2\": {\"overlaying\": \"y\", \"side\": \"right\", \"title\": {\"text\": \"spread\"}}},\n",
       "                        {\"responsive\": true}\n",
       "                    ).then(function(){\n",
       "                            \n",
       "var gd = document.getElementById('c2c2ff5b-67e2-4aef-a9ba-df6eb50244a5');\n",
       "var x = new MutationObserver(function (mutations, observer) {{\n",
       "        var display = window.getComputedStyle(gd).display;\n",
       "        if (!display || display === 'none') {{\n",
       "            console.log([gd, 'removed!']);\n",
       "            Plotly.purge(gd);\n",
       "            observer.disconnect();\n",
       "        }}\n",
       "}});\n",
       "\n",
       "// Listen for the removal of the full notebook cells\n",
       "var notebookContainer = gd.closest('#notebook-container');\n",
       "if (notebookContainer) {{\n",
       "    x.observe(notebookContainer, {childList: true});\n",
       "}}\n",
       "\n",
       "// Listen for the clearing of the current output cell\n",
       "var outputEl = gd.closest('.output');\n",
       "if (outputEl) {{\n",
       "    x.observe(outputEl, {childList: true});\n",
       "}}\n",
       "\n",
       "                        })\n",
       "                };\n",
       "                });\n",
       "            </script>\n",
       "        </div>"
      ]
     },
     "metadata": {},
     "output_type": "display_data"
    }
   ],
   "source": [
    "for y in range(11,21):\n",
    "    df_zcn20_zcz20 = get_spread(f'ZCN{y}',f'ZCZ{y}').iloc[-120:]\n",
    "    iplot(dashapp.plotly_plot(df_in=df_zcn20_zcz20,x_column='settle_date',\n",
    "                      yaxis2_cols=['spread'],y_right_label='spread',\n",
    "                              y_left_label='price',\n",
    "                             plot_title=f'ZCN{y} ZCZ{y}'))"
   ]
  },
  {
   "cell_type": "code",
   "execution_count": 34,
   "metadata": {
    "scrolled": false
   },
   "outputs": [
    {
     "data": {
      "application/vnd.plotly.v1+json": {
       "config": {
        "linkText": "Export to plot.ly",
        "plotlyServerURL": "https://plot.ly",
        "showLink": false
       },
       "data": [
        {
         "hoverinfo": "text",
         "marker": {
          "symbol": "line-ew"
         },
         "mode": "markers",
         "text": [
          "date: 20191210.0<br>open: 386.25<br>high: 388.75<br>low: 385.5<br>close: 388.0<br>volume: 17814.0",
          "date: 20191211.0<br>open: 387.5<br>high: 387.75<br>low: 383.5<br>close: 383.75<br>volume: 18158.0",
          "date: 20191212.0<br>open: 384.25<br>high: 392.5<br>low: 384.0<br>close: 390.0<br>volume: 28026.0",
          "date: 20191213.0<br>open: 393.5<br>high: 396.75<br>low: 390.0<br>close: 393.75<br>volume: 27317.0",
          "date: 20191216.0<br>open: 395.5<br>high: 401.75<br>low: 395.25<br>close: 400.25<br>volume: 34876.0",
          "date: 20191217.0<br>open: 400.0<br>high: 402.5<br>low: 398.75<br>close: 402.25<br>volume: 22961.0",
          "date: 20191218.0<br>open: 401.5<br>high: 402.0<br>low: 398.5<br>close: 399.5<br>volume: 20540.0",
          "date: 20191219.0<br>open: 399.5<br>high: 401.0<br>low: 397.5<br>close: 398.75<br>volume: 25996.0",
          "date: 20191220.0<br>open: 398.5<br>high: 401.5<br>low: 398.0<br>close: 399.5<br>volume: 16913.0",
          "date: 20191223.0<br>open: 399.5<br>high: 402.25<br>low: 399.0<br>close: 401.25<br>volume: 14132.0",
          "date: 20191224.0<br>open: 400.75<br>high: 401.5<br>low: 399.75<br>close: 400.5<br>volume: 10618.0",
          "date: 20191226.0<br>open: 400.5<br>high: 401.25<br>low: 399.5<br>close: 401.25<br>volume: 6523.0",
          "date: 20191227.0<br>open: 400.75<br>high: 403.25<br>low: 400.75<br>close: 402.75<br>volume: 8773.0",
          "date: 20191230.0<br>open: 402.25<br>high: 404.25<br>low: 400.0<br>close: 401.5<br>volume: 11569.0",
          "date: 20191231.0<br>open: 401.25<br>high: 402.75<br>low: 399.5<br>close: 401.0<br>volume: 16917.0",
          "date: 20200102.0<br>open: 400.75<br>high: 404.5<br>low: 400.5<br>close: 404.0<br>volume: 14335.0",
          "date: 20200103.0<br>open: 403.5<br>high: 404.0<br>low: 398.5<br>close: 399.25<br>volume: 20749.0",
          "date: 20200106.0<br>open: 399.25<br>high: 400.5<br>low: 396.0<br>close: 398.0<br>volume: 24073.0",
          "date: 20200107.0<br>open: 397.75<br>high: 398.25<br>low: 396.0<br>close: 397.75<br>volume: 15094.0",
          "date: 20200108.0<br>open: 396.75<br>high: 398.5<br>low: 395.25<br>close: 397.75<br>volume: 13046.0",
          "date: 20200109.0<br>open: 397.0<br>high: 399.75<br>low: 395.5<br>close: 396.75<br>volume: 34901.0",
          "date: 20200110.0<br>open: 396.5<br>high: 400.0<br>low: 390.25<br>close: 399.5<br>volume: 30461.0",
          "date: 20200113.0<br>open: 399.75<br>high: 402.75<br>low: 398.75<br>close: 402.75<br>volume: 65193.0",
          "date: 20200114.0<br>open: 402.25<br>high: 403.25<br>low: 401.25<br>close: 402.25<br>volume: 35637.0",
          "date: 20200115.0<br>open: 402.0<br>high: 403.25<br>low: 399.5<br>close: 400.5<br>volume: 35628.0",
          "date: 20200116.0<br>open: 400.0<br>high: 400.5<br>low: 388.5<br>close: 389.0<br>volume: 41544.0",
          "date: 20200117.0<br>open: 390.25<br>high: 401.25<br>low: 390.25<br>close: 401.0<br>volume: 44917.0",
          "date: 20200121.0<br>open: 400.5<br>high: 400.75<br>low: 396.5<br>close: 399.25<br>volume: 59836.0",
          "date: 20200122.0<br>open: 399.0<br>high: 401.75<br>low: 397.75<br>close: 399.25<br>volume: 34707.0",
          "date: 20200123.0<br>open: 398.5<br>high: 403.25<br>low: 397.5<br>close: 403.25<br>volume: 32200.0",
          "date: 20200124.0<br>open: 402.75<br>high: 402.75<br>low: 397.0<br>close: 397.75<br>volume: 54946.0",
          "date: 20200127.0<br>open: 395.0<br>high: 395.25<br>low: 389.25<br>close: 392.25<br>volume: 55792.0",
          "date: 20200128.0<br>open: 394.0<br>high: 397.5<br>low: 390.5<br>close: 397.25<br>volume: 65309.0",
          "date: 20200129.0<br>open: 395.75<br>high: 398.25<br>low: 393.25<br>close: 394.5<br>volume: 74912.0",
          "date: 20200130.0<br>open: 394.75<br>high: 395.25<br>low: 388.75<br>close: 389.5<br>volume: 35430.0",
          "date: 20200131.0<br>open: 391.5<br>high: 392.75<br>low: 388.75<br>close: 391.0<br>volume: 31894.0",
          "date: 20200203.0<br>open: 390.5<br>high: 391.75<br>low: 386.75<br>close: 389.5<br>volume: 40035.0",
          "date: 20200204.0<br>open: 389.0<br>high: 394.0<br>low: 389.0<br>close: 392.75<br>volume: 45901.0",
          "date: 20200205.0<br>open: 392.0<br>high: 393.5<br>low: 390.0<br>close: 391.0<br>volume: 44435.0",
          "date: 20200206.0<br>open: 390.75<br>high: 392.0<br>low: 386.75<br>close: 388.0<br>volume: 40835.0",
          "date: 20200207.0<br>open: 388.75<br>high: 392.5<br>low: 388.25<br>close: 392.25<br>volume: 70998.0",
          "date: 20200210.0<br>open: 391.75<br>high: 392.0<br>low: 387.75<br>close: 390.75<br>volume: 54814.0",
          "date: 20200211.0<br>open: 389.25<br>high: 390.75<br>low: 386.5<br>close: 388.25<br>volume: 43449.0",
          "date: 20200212.0<br>open: 388.25<br>high: 390.75<br>low: 387.0<br>close: 390.25<br>volume: 48484.0",
          "date: 20200213.0<br>open: 389.75<br>high: 390.0<br>low: 387.25<br>close: 388.75<br>volume: 57052.0",
          "date: 20200214.0<br>open: 388.5<br>high: 389.75<br>low: 385.0<br>close: 385.5<br>volume: 52087.0",
          "date: 20200218.0<br>open: 386.0<br>high: 390.5<br>low: 385.5<br>close: 390.5<br>volume: 57593.0",
          "date: 20200219.0<br>open: 390.0<br>high: 390.0<br>low: 386.5<br>close: 388.25<br>volume: 53584.0",
          "date: 20200220.0<br>open: 388.5<br>high: 389.0<br>low: 385.25<br>close: 385.5<br>volume: 33527.0",
          "date: 20200221.0<br>open: 385.25<br>high: 387.0<br>low: 383.0<br>close: 383.5<br>volume: 41426.0",
          "date: 20200224.0<br>open: 382.75<br>high: 382.75<br>low: 376.75<br>close: 379.5<br>volume: 49876.0",
          "date: 20200225.0<br>open: 380.5<br>high: 382.0<br>low: 378.25<br>close: 380.0<br>volume: 68309.0",
          "date: 20200226.0<br>open: 379.75<br>high: 382.0<br>low: 377.5<br>close: 378.75<br>volume: 52200.0",
          "date: 20200227.0<br>open: 378.25<br>high: 378.5<br>low: 371.25<br>close: 372.5<br>volume: 84122.0",
          "date: 20200228.0<br>open: 373.0<br>high: 373.5<br>low: 370.0<br>close: 372.5<br>volume: 100416.0",
          "date: 20200302.0<br>open: 372.5<br>high: 379.25<br>low: 371.25<br>close: 378.5<br>volume: 90126.0",
          "date: 20200303.0<br>open: 379.0<br>high: 386.25<br>low: 379.0<br>close: 383.75<br>volume: 64508.0",
          "date: 20200304.0<br>open: 383.25<br>high: 387.75<br>low: 381.25<br>close: 386.25<br>volume: 88487.0",
          "date: 20200305.0<br>open: 385.25<br>high: 386.0<br>low: 381.5<br>close: 383.75<br>volume: 81883.0",
          "date: 20200306.0<br>open: 382.5<br>high: 384.25<br>low: 378.25<br>close: 379.25<br>volume: 83600.0",
          "date: 20200309.0<br>open: 373.5<br>high: 377.25<br>low: 370.0<br>close: 375.0<br>volume: 90857.0",
          "date: 20200310.0<br>open: 376.25<br>high: 381.25<br>low: 376.25<br>close: 379.5<br>volume: 116681.0",
          "date: 20200311.0<br>open: 379.25<br>high: 379.25<br>low: 374.25<br>close: 376.5<br>volume: 71758.0",
          "date: 20200312.0<br>open: 375.0<br>high: 375.25<br>low: 367.5<br>close: 368.75<br>volume: 56325.0",
          "date: 20200313.0<br>open: 368.25<br>high: 374.5<br>low: 366.5<br>close: 368.5<br>volume: 86916.0",
          "date: 20200316.0<br>open: 365.75<br>high: 370.75<br>low: 358.0<br>close: 358.5<br>volume: 106710.0",
          "date: 20200317.0<br>open: 358.75<br>high: 360.5<br>low: 348.75<br>close: 350.0<br>volume: 99848.0",
          "date: 20200318.0<br>open: 349.75<br>high: 350.75<br>low: 338.25<br>close: 341.75<br>volume: 126046.0",
          "date: 20200319.0<br>open: 342.5<br>high: 360.0<br>low: 342.5<br>close: 351.0<br>volume: 175425.0",
          "date: 20200320.0<br>open: 351.5<br>high: 360.75<br>low: 348.5<br>close: 349.5<br>volume: 113867.0",
          "date: 20200323.0<br>open: 346.5<br>high: 351.25<br>low: 344.5<br>close: 349.5<br>volume: 106454.0",
          "date: 20200324.0<br>open: 349.5<br>high: 355.5<br>low: 344.0<br>close: 352.0<br>volume: 53889.0",
          "date: 20200325.0<br>open: 352.0<br>high: 356.75<br>low: 350.75<br>close: 353.5<br>volume: 70737.0",
          "date: 20200326.0<br>open: 353.25<br>high: 354.75<br>low: 350.0<br>close: 354.25<br>volume: 73613.0",
          "date: 20200327.0<br>open: 354.25<br>high: 355.75<br>low: 348.5<br>close: 351.75<br>volume: 76014.0",
          "date: 20200330.0<br>open: 348.5<br>high: 352.25<br>low: 346.0<br>close: 347.5<br>volume: 70652.0",
          "date: 20200331.0<br>open: 347.75<br>high: 350.25<br>low: 339.5<br>close: 346.0<br>volume: 56826.0",
          "date: 20200401.0<br>open: 346.25<br>high: 347.5<br>low: 338.25<br>close: 338.75<br>volume: 154251.0",
          "date: 20200402.0<br>open: 339.0<br>high: 346.75<br>low: 337.5<br>close: 338.5<br>volume: 107320.0",
          "date: 20200403.0<br>open: 339.25<br>high: 343.5<br>low: 334.0<br>close: 336.75<br>volume: 98642.0",
          "date: 20200406.0<br>open: 335.25<br>high: 337.25<br>low: 331.25<br>close: 333.5<br>volume: 109051.0",
          "date: 20200407.0<br>open: 333.5<br>high: 340.5<br>low: 333.5<br>close: 337.25<br>volume: 74091.0",
          "date: 20200408.0<br>open: 337.75<br>high: 339.5<br>low: 333.5<br>close: 335.5<br>volume: 113376.0",
          "date: 20200409.0<br>open: 336.0<br>high: 338.75<br>low: 333.0<br>close: 336.75<br>volume: 134376.0",
          "date: 20200413.0<br>open: 337.0<br>high: 338.75<br>low: 331.25<br>close: 336.25<br>volume: 148850.0",
          "date: 20200414.0<br>open: 336.25<br>high: 337.5<br>low: 332.0<br>close: 332.25<br>volume: 122610.0",
          "date: 20200415.0<br>open: 332.25<br>high: 333.0<br>low: 325.0<br>close: 326.75<br>volume: 186072.0",
          "date: 20200416.0<br>open: 326.5<br>high: 329.75<br>low: 325.0<br>close: 326.25<br>volume: 148923.0",
          "date: 20200417.0<br>open: 326.5<br>high: 332.0<br>low: 326.25<br>close: 329.25<br>volume: 120053.0",
          "date: 20200420.0<br>open: 329.25<br>high: 329.75<br>low: 321.5<br>close: 322.25<br>volume: 95022.0",
          "date: 20200421.0<br>open: 322.25<br>high: 323.25<br>low: 309.0<br>close: 317.25<br>volume: 156913.0",
          "date: 20200422.0<br>open: 317.75<br>high: 327.5<br>low: 316.0<br>close: 324.75<br>volume: 224511.0",
          "date: 20200423.0<br>open: 324.5<br>high: 331.0<br>low: 322.25<br>close: 326.0<br>volume: 184119.0",
          "date: 20200424.0<br>open: 326.25<br>high: 327.75<br>low: 319.0<br>close: 323.0<br>volume: 193359.0",
          "date: 20200427.0<br>open: 322.0<br>high: 323.0<br>low: 312.0<br>close: 313.25<br>volume: 143376.0",
          "date: 20200428.0<br>open: 313.25<br>high: 316.5<br>low: 310.5<br>close: 312.0<br>volume: 175170.0",
          "date: 20200429.0<br>open: 311.75<br>high: 318.0<br>low: 309.25<br>close: 314.5<br>volume: 199148.0",
          "date: 20200430.0<br>open: 315.0<br>high: 322.25<br>low: 312.5<br>close: 320.0<br>volume: 230233.0",
          "date: 20200501.0<br>open: 319.5<br>high: 320.25<br>low: 315.5<br>close: 318.5<br>volume: 176650.0",
          "date: 20200504.0<br>open: 317.0<br>high: 317.25<br>low: 312.25<br>close: 315.5<br>volume: 97847.0",
          "date: 20200505.0<br>open: 315.25<br>high: 318.5<br>low: 314.0<br>close: 317.0<br>volume: 104063.0",
          "date: 20200506.0<br>open: 318.0<br>high: 318.25<br>low: 313.25<br>close: 314.25<br>volume: 105838.0",
          "date: 20200507.0<br>open: 314.0<br>high: 320.5<br>low: 314.0<br>close: 318.0<br>volume: 108455.0",
          "date: 20200508.0<br>open: 318.0<br>high: 323.0<br>low: 317.25<br>close: 319.25<br>volume: 140403.0",
          "date: 20200511.0<br>open: 320.75<br>high: 322.75<br>low: 317.25<br>close: 318.5<br>volume: 111275.0",
          "date: 20200512.0<br>open: 318.25<br>high: 324.0<br>low: 314.5<br>close: 322.25<br>volume: 97781.0",
          "date: 20200513.0<br>open: 322.0<br>high: 322.0<br>low: 317.75<br>close: 318.25<br>volume: 177591.0",
          "date: 20200514.0<br>open: 318.25<br>high: 319.25<br>low: 315.5<br>close: 317.5<br>volume: 120194.0",
          "date: 20200515.0<br>open: 317.75<br>high: 320.5<br>low: 316.75<br>close: 319.25<br>volume: 107147.0",
          "date: 20200518.0<br>open: 320.0<br>high: 322.0<br>low: 318.0<br>close: 320.75<br>volume: 101614.0",
          "date: 20200519.0<br>open: 320.75<br>high: 325.5<br>low: 320.5<br>close: 321.25<br>volume: 99372.0",
          "date: 20200520.0<br>open: 321.25<br>high: 321.5<br>low: 317.25<br>close: 319.5<br>volume: 126375.0",
          "date: 20200521.0<br>open: 319.0<br>high: 320.25<br>low: 316.25<br>close: 317.75<br>volume: 154473.0",
          "date: 20200522.0<br>open: 317.75<br>high: 319.0<br>low: 316.0<br>close: 318.0<br>volume: 115119.0",
          "date: 20200526.0<br>open: 316.75<br>high: 323.0<br>low: 316.5<br>close: 319.0<br>volume: 97188.0",
          "date: 20200527.0<br>open: 320.0<br>high: 321.75<br>low: 319.25<br>close: 320.5<br>volume: 145175.0",
          "date: 20200528.0<br>open: 320.25<br>high: 330.75<br>low: 319.5<br>close: 327.5<br>volume: 78423.0",
          "date: 20200529.0<br>open: 327.5<br>high: 329.5<br>low: 323.25<br>close: 325.75<br>volume: 246973.0",
          "date: 20200601.0<br>open: 325.5<br>high: 327.75<br>low: 319.25<br>close: 323.25<br>volume: 192310.0",
          "date: 20200602.0<br>open: 323.5<br>high: 325.25<br>low: 322.0<br>close: 324.25<br>volume: 151319.0"
         ],
         "type": "scattergl",
         "x": [
          1,
          2,
          3,
          4,
          5,
          6,
          7,
          8,
          9,
          10,
          11,
          12,
          13,
          14,
          15,
          16,
          17,
          18,
          19,
          20,
          21,
          22,
          23,
          24,
          25,
          26,
          27,
          28,
          29,
          30,
          31,
          32,
          33,
          34,
          35,
          36,
          37,
          38,
          39,
          40,
          41,
          42,
          43,
          44,
          45,
          46,
          47,
          48,
          49,
          50,
          51,
          52,
          53,
          54,
          55,
          56,
          57,
          58,
          59,
          60,
          61,
          62,
          63,
          64,
          65,
          66,
          67,
          68,
          69,
          70,
          71,
          72,
          73,
          74,
          75,
          76,
          77,
          78,
          79,
          80,
          81,
          82,
          83,
          84,
          85,
          86,
          87,
          88,
          89,
          90,
          91,
          92,
          93,
          94,
          95,
          96,
          97,
          98,
          99,
          100,
          101,
          102,
          103,
          104,
          105,
          106,
          107,
          108,
          109,
          110,
          111,
          112,
          113,
          114,
          115,
          116,
          117,
          118,
          119,
          120
         ],
         "xaxis": "x",
         "y": [
          388,
          383.75,
          390,
          393.75,
          400.25,
          402.25,
          399.5,
          398.75,
          399.5,
          401.25,
          400.5,
          401.25,
          402.75,
          401.5,
          401,
          404,
          399.25,
          398,
          397.75,
          397.75,
          396.75,
          399.5,
          402.75,
          402.25,
          400.5,
          389,
          401,
          399.25,
          399.25,
          403.25,
          397.75,
          392.25,
          397.25,
          394.5,
          389.5,
          391,
          389.5,
          392.75,
          391,
          388,
          392.25,
          390.75,
          388.25,
          390.25,
          388.75,
          385.5,
          390.5,
          388.25,
          385.5,
          383.5,
          379.5,
          380,
          378.75,
          372.5,
          372.5,
          378.5,
          383.75,
          386.25,
          383.75,
          379.25,
          375,
          379.5,
          376.5,
          368.75,
          368.5,
          358.5,
          350,
          341.75,
          351,
          349.5,
          349.5,
          352,
          353.5,
          354.25,
          351.75,
          347.5,
          346,
          338.75,
          338.5,
          336.75,
          333.5,
          337.25,
          335.5,
          336.75,
          336.25,
          332.25,
          326.75,
          326.25,
          329.25,
          322.25,
          317.25,
          324.75,
          326,
          323,
          313.25,
          312,
          314.5,
          320,
          318.5,
          315.5,
          317,
          314.25,
          318,
          319.25,
          318.5,
          322.25,
          318.25,
          317.5,
          319.25,
          320.75,
          321.25,
          319.5,
          317.75,
          318,
          319,
          320.5,
          327.5,
          325.75,
          323.25,
          324.25
         ],
         "yaxis": "y"
        },
        {
         "type": "bar",
         "width": 0.5,
         "x": [
          1,
          2,
          3,
          4,
          5,
          6,
          7,
          8,
          9,
          10,
          11,
          12,
          13,
          14,
          15,
          16,
          17,
          18,
          19,
          20,
          21,
          22,
          23,
          24,
          25,
          26,
          27,
          28,
          29,
          30,
          31,
          32,
          33,
          34,
          35,
          36,
          37,
          38,
          39,
          40,
          41,
          42,
          43,
          44,
          45,
          46,
          47,
          48,
          49,
          50,
          51,
          52,
          53,
          54,
          55,
          56,
          57,
          58,
          59,
          60,
          61,
          62,
          63,
          64,
          65,
          66,
          67,
          68,
          69,
          70,
          71,
          72,
          73,
          74,
          75,
          76,
          77,
          78,
          79,
          80,
          81,
          82,
          83,
          84,
          85,
          86,
          87,
          88,
          89,
          90,
          91,
          92,
          93,
          94,
          95,
          96,
          97,
          98,
          99,
          100,
          101,
          102,
          103,
          104,
          105,
          106,
          107,
          108,
          109,
          110,
          111,
          112,
          113,
          114,
          115,
          116,
          117,
          118,
          119,
          120
         ],
         "xaxis": "x",
         "y": [
          17814,
          18158,
          28026,
          27317,
          34876,
          22961,
          20540,
          25996,
          16913,
          14132,
          10618,
          6523,
          8773,
          11569,
          16917,
          14335,
          20749,
          24073,
          15094,
          13046,
          34901,
          30461,
          65193,
          35637,
          35628,
          41544,
          44917,
          59836,
          34707,
          32200,
          54946,
          55792,
          65309,
          74912,
          35430,
          31894,
          40035,
          45901,
          44435,
          40835,
          70998,
          54814,
          43449,
          48484,
          57052,
          52087,
          57593,
          53584,
          33527,
          41426,
          49876,
          68309,
          52200,
          84122,
          100416,
          90126,
          64508,
          88487,
          81883,
          83600,
          90857,
          116681,
          71758,
          56325,
          86916,
          106710,
          99848,
          126046,
          175425,
          113867,
          106454,
          53889,
          70737,
          73613,
          76014,
          70652,
          56826,
          154251,
          107320,
          98642,
          109051,
          74091,
          113376,
          134376,
          148850,
          122610,
          186072,
          148923,
          120053,
          95022,
          156913,
          224511,
          184119,
          193359,
          143376,
          175170,
          199148,
          230233,
          176650,
          97847,
          104063,
          105838,
          108455,
          140403,
          111275,
          97781,
          177591,
          120194,
          107147,
          101614,
          99372,
          126375,
          154473,
          115119,
          97188,
          145175,
          78423,
          246973,
          192310,
          151319
         ],
         "yaxis": "y2"
        }
       ],
       "layout": {
        "hovermode": "x",
        "margin": {
         "t": 150
        },
        "modebar": {
         "bgcolor": "grey",
         "orientation": "v"
        },
        "shapes": [
         {
          "line": {
           "color": "rgb(55, 128, 191)",
           "width": 1.5
          },
          "type": "line",
          "x0": 1,
          "x1": 1,
          "y0": 385.5,
          "y1": 386.25
         },
         {
          "line": {
           "color": "rgb(55, 128, 191)",
           "width": 1.5
          },
          "type": "line",
          "x0": 2,
          "x1": 2,
          "y0": 383.5,
          "y1": 383.75
         },
         {
          "line": {
           "color": "rgb(55, 128, 191)",
           "width": 1.5
          },
          "type": "line",
          "x0": 3,
          "x1": 3,
          "y0": 384,
          "y1": 384.25
         },
         {
          "line": {
           "color": "rgb(55, 128, 191)",
           "width": 1.5
          },
          "type": "line",
          "x0": 4,
          "x1": 4,
          "y0": 390,
          "y1": 393.5
         },
         {
          "line": {
           "color": "rgb(55, 128, 191)",
           "width": 1.5
          },
          "type": "line",
          "x0": 5,
          "x1": 5,
          "y0": 395.25,
          "y1": 395.5
         },
         {
          "line": {
           "color": "rgb(55, 128, 191)",
           "width": 1.5
          },
          "type": "line",
          "x0": 6,
          "x1": 6,
          "y0": 398.75,
          "y1": 400
         },
         {
          "line": {
           "color": "rgb(55, 128, 191)",
           "width": 1.5
          },
          "type": "line",
          "x0": 7,
          "x1": 7,
          "y0": 398.5,
          "y1": 399.5
         },
         {
          "line": {
           "color": "rgb(55, 128, 191)",
           "width": 1.5
          },
          "type": "line",
          "x0": 8,
          "x1": 8,
          "y0": 397.5,
          "y1": 398.75
         },
         {
          "line": {
           "color": "rgb(55, 128, 191)",
           "width": 1.5
          },
          "type": "line",
          "x0": 9,
          "x1": 9,
          "y0": 398,
          "y1": 398.5
         },
         {
          "line": {
           "color": "rgb(55, 128, 191)",
           "width": 1.5
          },
          "type": "line",
          "x0": 10,
          "x1": 10,
          "y0": 399,
          "y1": 399.5
         },
         {
          "line": {
           "color": "rgb(55, 128, 191)",
           "width": 1.5
          },
          "type": "line",
          "x0": 11,
          "x1": 11,
          "y0": 399.75,
          "y1": 400.5
         },
         {
          "line": {
           "color": "rgb(55, 128, 191)",
           "width": 1.5
          },
          "type": "line",
          "x0": 12,
          "x1": 12,
          "y0": 399.5,
          "y1": 400.5
         },
         {
          "line": {
           "color": "rgb(55, 128, 191)",
           "width": 1.5
          },
          "type": "line",
          "x0": 13,
          "x1": 13,
          "y0": 400.75,
          "y1": 400.75
         },
         {
          "line": {
           "color": "rgb(55, 128, 191)",
           "width": 1.5
          },
          "type": "line",
          "x0": 14,
          "x1": 14,
          "y0": 400,
          "y1": 401.5
         },
         {
          "line": {
           "color": "rgb(55, 128, 191)",
           "width": 1.5
          },
          "type": "line",
          "x0": 15,
          "x1": 15,
          "y0": 399.5,
          "y1": 401
         },
         {
          "line": {
           "color": "rgb(55, 128, 191)",
           "width": 1.5
          },
          "type": "line",
          "x0": 16,
          "x1": 16,
          "y0": 400.5,
          "y1": 400.75
         },
         {
          "line": {
           "color": "rgb(55, 128, 191)",
           "width": 1.5
          },
          "type": "line",
          "x0": 17,
          "x1": 17,
          "y0": 398.5,
          "y1": 399.25
         },
         {
          "line": {
           "color": "rgb(55, 128, 191)",
           "width": 1.5
          },
          "type": "line",
          "x0": 18,
          "x1": 18,
          "y0": 396,
          "y1": 398
         },
         {
          "line": {
           "color": "rgb(55, 128, 191)",
           "width": 1.5
          },
          "type": "line",
          "x0": 19,
          "x1": 19,
          "y0": 396,
          "y1": 397.75
         },
         {
          "line": {
           "color": "rgb(55, 128, 191)",
           "width": 1.5
          },
          "type": "line",
          "x0": 20,
          "x1": 20,
          "y0": 395.25,
          "y1": 396.75
         },
         {
          "line": {
           "color": "rgb(55, 128, 191)",
           "width": 1.5
          },
          "type": "line",
          "x0": 21,
          "x1": 21,
          "y0": 395.5,
          "y1": 396.75
         },
         {
          "line": {
           "color": "rgb(55, 128, 191)",
           "width": 1.5
          },
          "type": "line",
          "x0": 22,
          "x1": 22,
          "y0": 390.25,
          "y1": 396.5
         },
         {
          "line": {
           "color": "rgb(55, 128, 191)",
           "width": 1.5
          },
          "type": "line",
          "x0": 23,
          "x1": 23,
          "y0": 398.75,
          "y1": 399.75
         },
         {
          "line": {
           "color": "rgb(55, 128, 191)",
           "width": 1.5
          },
          "type": "line",
          "x0": 24,
          "x1": 24,
          "y0": 401.25,
          "y1": 402.25
         },
         {
          "line": {
           "color": "rgb(55, 128, 191)",
           "width": 1.5
          },
          "type": "line",
          "x0": 25,
          "x1": 25,
          "y0": 399.5,
          "y1": 400.5
         },
         {
          "line": {
           "color": "rgb(55, 128, 191)",
           "width": 1.5
          },
          "type": "line",
          "x0": 26,
          "x1": 26,
          "y0": 388.5,
          "y1": 389
         },
         {
          "line": {
           "color": "rgb(55, 128, 191)",
           "width": 1.5
          },
          "type": "line",
          "x0": 27,
          "x1": 27,
          "y0": 390.25,
          "y1": 390.25
         },
         {
          "line": {
           "color": "rgb(55, 128, 191)",
           "width": 1.5
          },
          "type": "line",
          "x0": 28,
          "x1": 28,
          "y0": 396.5,
          "y1": 399.25
         },
         {
          "line": {
           "color": "rgb(55, 128, 191)",
           "width": 1.5
          },
          "type": "line",
          "x0": 29,
          "x1": 29,
          "y0": 397.75,
          "y1": 399
         },
         {
          "line": {
           "color": "rgb(55, 128, 191)",
           "width": 1.5
          },
          "type": "line",
          "x0": 30,
          "x1": 30,
          "y0": 397.5,
          "y1": 398.5
         },
         {
          "line": {
           "color": "rgb(55, 128, 191)",
           "width": 1.5
          },
          "type": "line",
          "x0": 31,
          "x1": 31,
          "y0": 397,
          "y1": 397.75
         },
         {
          "line": {
           "color": "rgb(55, 128, 191)",
           "width": 1.5
          },
          "type": "line",
          "x0": 32,
          "x1": 32,
          "y0": 389.25,
          "y1": 392.25
         },
         {
          "line": {
           "color": "rgb(55, 128, 191)",
           "width": 1.5
          },
          "type": "line",
          "x0": 33,
          "x1": 33,
          "y0": 390.5,
          "y1": 394
         },
         {
          "line": {
           "color": "rgb(55, 128, 191)",
           "width": 1.5
          },
          "type": "line",
          "x0": 34,
          "x1": 34,
          "y0": 393.25,
          "y1": 394.5
         },
         {
          "line": {
           "color": "rgb(55, 128, 191)",
           "width": 1.5
          },
          "type": "line",
          "x0": 35,
          "x1": 35,
          "y0": 388.75,
          "y1": 389.5
         },
         {
          "line": {
           "color": "rgb(55, 128, 191)",
           "width": 1.5
          },
          "type": "line",
          "x0": 36,
          "x1": 36,
          "y0": 388.75,
          "y1": 391
         },
         {
          "line": {
           "color": "rgb(55, 128, 191)",
           "width": 1.5
          },
          "type": "line",
          "x0": 37,
          "x1": 37,
          "y0": 386.75,
          "y1": 389.5
         },
         {
          "line": {
           "color": "rgb(55, 128, 191)",
           "width": 1.5
          },
          "type": "line",
          "x0": 38,
          "x1": 38,
          "y0": 389,
          "y1": 389
         },
         {
          "line": {
           "color": "rgb(55, 128, 191)",
           "width": 1.5
          },
          "type": "line",
          "x0": 39,
          "x1": 39,
          "y0": 390,
          "y1": 391
         },
         {
          "line": {
           "color": "rgb(55, 128, 191)",
           "width": 1.5
          },
          "type": "line",
          "x0": 40,
          "x1": 40,
          "y0": 386.75,
          "y1": 388
         },
         {
          "line": {
           "color": "rgb(55, 128, 191)",
           "width": 1.5
          },
          "type": "line",
          "x0": 41,
          "x1": 41,
          "y0": 388.25,
          "y1": 388.75
         },
         {
          "line": {
           "color": "rgb(55, 128, 191)",
           "width": 1.5
          },
          "type": "line",
          "x0": 42,
          "x1": 42,
          "y0": 387.75,
          "y1": 390.75
         },
         {
          "line": {
           "color": "rgb(55, 128, 191)",
           "width": 1.5
          },
          "type": "line",
          "x0": 43,
          "x1": 43,
          "y0": 386.5,
          "y1": 388.25
         },
         {
          "line": {
           "color": "rgb(55, 128, 191)",
           "width": 1.5
          },
          "type": "line",
          "x0": 44,
          "x1": 44,
          "y0": 387,
          "y1": 388.25
         },
         {
          "line": {
           "color": "rgb(55, 128, 191)",
           "width": 1.5
          },
          "type": "line",
          "x0": 45,
          "x1": 45,
          "y0": 387.25,
          "y1": 388.75
         },
         {
          "line": {
           "color": "rgb(55, 128, 191)",
           "width": 1.5
          },
          "type": "line",
          "x0": 46,
          "x1": 46,
          "y0": 385,
          "y1": 385.5
         },
         {
          "line": {
           "color": "rgb(55, 128, 191)",
           "width": 1.5
          },
          "type": "line",
          "x0": 47,
          "x1": 47,
          "y0": 385.5,
          "y1": 386
         },
         {
          "line": {
           "color": "rgb(55, 128, 191)",
           "width": 1.5
          },
          "type": "line",
          "x0": 48,
          "x1": 48,
          "y0": 386.5,
          "y1": 388.25
         },
         {
          "line": {
           "color": "rgb(55, 128, 191)",
           "width": 1.5
          },
          "type": "line",
          "x0": 49,
          "x1": 49,
          "y0": 385.25,
          "y1": 385.5
         },
         {
          "line": {
           "color": "rgb(55, 128, 191)",
           "width": 1.5
          },
          "type": "line",
          "x0": 50,
          "x1": 50,
          "y0": 383,
          "y1": 383.5
         },
         {
          "line": {
           "color": "rgb(55, 128, 191)",
           "width": 1.5
          },
          "type": "line",
          "x0": 51,
          "x1": 51,
          "y0": 376.75,
          "y1": 379.5
         },
         {
          "line": {
           "color": "rgb(55, 128, 191)",
           "width": 1.5
          },
          "type": "line",
          "x0": 52,
          "x1": 52,
          "y0": 378.25,
          "y1": 380
         },
         {
          "line": {
           "color": "rgb(55, 128, 191)",
           "width": 1.5
          },
          "type": "line",
          "x0": 53,
          "x1": 53,
          "y0": 377.5,
          "y1": 378.75
         },
         {
          "line": {
           "color": "rgb(55, 128, 191)",
           "width": 1.5
          },
          "type": "line",
          "x0": 54,
          "x1": 54,
          "y0": 371.25,
          "y1": 372.5
         },
         {
          "line": {
           "color": "rgb(55, 128, 191)",
           "width": 1.5
          },
          "type": "line",
          "x0": 55,
          "x1": 55,
          "y0": 370,
          "y1": 372.5
         },
         {
          "line": {
           "color": "rgb(55, 128, 191)",
           "width": 1.5
          },
          "type": "line",
          "x0": 56,
          "x1": 56,
          "y0": 371.25,
          "y1": 372.5
         },
         {
          "line": {
           "color": "rgb(55, 128, 191)",
           "width": 1.5
          },
          "type": "line",
          "x0": 57,
          "x1": 57,
          "y0": 379,
          "y1": 379
         },
         {
          "line": {
           "color": "rgb(55, 128, 191)",
           "width": 1.5
          },
          "type": "line",
          "x0": 58,
          "x1": 58,
          "y0": 381.25,
          "y1": 383.25
         },
         {
          "line": {
           "color": "rgb(55, 128, 191)",
           "width": 1.5
          },
          "type": "line",
          "x0": 59,
          "x1": 59,
          "y0": 381.5,
          "y1": 383.75
         },
         {
          "line": {
           "color": "rgb(55, 128, 191)",
           "width": 1.5
          },
          "type": "line",
          "x0": 60,
          "x1": 60,
          "y0": 378.25,
          "y1": 379.25
         },
         {
          "line": {
           "color": "rgb(55, 128, 191)",
           "width": 1.5
          },
          "type": "line",
          "x0": 61,
          "x1": 61,
          "y0": 370,
          "y1": 373.5
         },
         {
          "line": {
           "color": "rgb(55, 128, 191)",
           "width": 1.5
          },
          "type": "line",
          "x0": 62,
          "x1": 62,
          "y0": 376.25,
          "y1": 376.25
         },
         {
          "line": {
           "color": "rgb(55, 128, 191)",
           "width": 1.5
          },
          "type": "line",
          "x0": 63,
          "x1": 63,
          "y0": 374.25,
          "y1": 376.5
         },
         {
          "line": {
           "color": "rgb(55, 128, 191)",
           "width": 1.5
          },
          "type": "line",
          "x0": 64,
          "x1": 64,
          "y0": 367.5,
          "y1": 368.75
         },
         {
          "line": {
           "color": "rgb(55, 128, 191)",
           "width": 1.5
          },
          "type": "line",
          "x0": 65,
          "x1": 65,
          "y0": 366.5,
          "y1": 368.25
         },
         {
          "line": {
           "color": "rgb(55, 128, 191)",
           "width": 1.5
          },
          "type": "line",
          "x0": 66,
          "x1": 66,
          "y0": 358,
          "y1": 358.5
         },
         {
          "line": {
           "color": "rgb(55, 128, 191)",
           "width": 1.5
          },
          "type": "line",
          "x0": 67,
          "x1": 67,
          "y0": 348.75,
          "y1": 350
         },
         {
          "line": {
           "color": "rgb(55, 128, 191)",
           "width": 1.5
          },
          "type": "line",
          "x0": 68,
          "x1": 68,
          "y0": 338.25,
          "y1": 341.75
         },
         {
          "line": {
           "color": "rgb(55, 128, 191)",
           "width": 1.5
          },
          "type": "line",
          "x0": 69,
          "x1": 69,
          "y0": 342.5,
          "y1": 342.5
         },
         {
          "line": {
           "color": "rgb(55, 128, 191)",
           "width": 1.5
          },
          "type": "line",
          "x0": 70,
          "x1": 70,
          "y0": 348.5,
          "y1": 349.5
         },
         {
          "line": {
           "color": "rgb(55, 128, 191)",
           "width": 1.5
          },
          "type": "line",
          "x0": 71,
          "x1": 71,
          "y0": 344.5,
          "y1": 346.5
         },
         {
          "line": {
           "color": "rgb(55, 128, 191)",
           "width": 1.5
          },
          "type": "line",
          "x0": 72,
          "x1": 72,
          "y0": 344,
          "y1": 349.5
         },
         {
          "line": {
           "color": "rgb(55, 128, 191)",
           "width": 1.5
          },
          "type": "line",
          "x0": 73,
          "x1": 73,
          "y0": 350.75,
          "y1": 352
         },
         {
          "line": {
           "color": "rgb(55, 128, 191)",
           "width": 1.5
          },
          "type": "line",
          "x0": 74,
          "x1": 74,
          "y0": 350,
          "y1": 353.25
         },
         {
          "line": {
           "color": "rgb(55, 128, 191)",
           "width": 1.5
          },
          "type": "line",
          "x0": 75,
          "x1": 75,
          "y0": 348.5,
          "y1": 351.75
         },
         {
          "line": {
           "color": "rgb(55, 128, 191)",
           "width": 1.5
          },
          "type": "line",
          "x0": 76,
          "x1": 76,
          "y0": 346,
          "y1": 347.5
         },
         {
          "line": {
           "color": "rgb(55, 128, 191)",
           "width": 1.5
          },
          "type": "line",
          "x0": 77,
          "x1": 77,
          "y0": 339.5,
          "y1": 346
         },
         {
          "line": {
           "color": "rgb(55, 128, 191)",
           "width": 1.5
          },
          "type": "line",
          "x0": 78,
          "x1": 78,
          "y0": 338.25,
          "y1": 338.75
         },
         {
          "line": {
           "color": "rgb(55, 128, 191)",
           "width": 1.5
          },
          "type": "line",
          "x0": 79,
          "x1": 79,
          "y0": 337.5,
          "y1": 338.5
         },
         {
          "line": {
           "color": "rgb(55, 128, 191)",
           "width": 1.5
          },
          "type": "line",
          "x0": 80,
          "x1": 80,
          "y0": 334,
          "y1": 336.75
         },
         {
          "line": {
           "color": "rgb(55, 128, 191)",
           "width": 1.5
          },
          "type": "line",
          "x0": 81,
          "x1": 81,
          "y0": 331.25,
          "y1": 333.5
         },
         {
          "line": {
           "color": "rgb(55, 128, 191)",
           "width": 1.5
          },
          "type": "line",
          "x0": 82,
          "x1": 82,
          "y0": 333.5,
          "y1": 333.5
         },
         {
          "line": {
           "color": "rgb(55, 128, 191)",
           "width": 1.5
          },
          "type": "line",
          "x0": 83,
          "x1": 83,
          "y0": 333.5,
          "y1": 335.5
         },
         {
          "line": {
           "color": "rgb(55, 128, 191)",
           "width": 1.5
          },
          "type": "line",
          "x0": 84,
          "x1": 84,
          "y0": 333,
          "y1": 336
         },
         {
          "line": {
           "color": "rgb(55, 128, 191)",
           "width": 1.5
          },
          "type": "line",
          "x0": 85,
          "x1": 85,
          "y0": 331.25,
          "y1": 336.25
         },
         {
          "line": {
           "color": "rgb(55, 128, 191)",
           "width": 1.5
          },
          "type": "line",
          "x0": 86,
          "x1": 86,
          "y0": 332,
          "y1": 332.25
         },
         {
          "line": {
           "color": "rgb(55, 128, 191)",
           "width": 1.5
          },
          "type": "line",
          "x0": 87,
          "x1": 87,
          "y0": 325,
          "y1": 326.75
         },
         {
          "line": {
           "color": "rgb(55, 128, 191)",
           "width": 1.5
          },
          "type": "line",
          "x0": 88,
          "x1": 88,
          "y0": 325,
          "y1": 326.25
         },
         {
          "line": {
           "color": "rgb(55, 128, 191)",
           "width": 1.5
          },
          "type": "line",
          "x0": 89,
          "x1": 89,
          "y0": 326.25,
          "y1": 326.5
         },
         {
          "line": {
           "color": "rgb(55, 128, 191)",
           "width": 1.5
          },
          "type": "line",
          "x0": 90,
          "x1": 90,
          "y0": 321.5,
          "y1": 322.25
         },
         {
          "line": {
           "color": "rgb(55, 128, 191)",
           "width": 1.5
          },
          "type": "line",
          "x0": 91,
          "x1": 91,
          "y0": 309,
          "y1": 317.25
         },
         {
          "line": {
           "color": "rgb(55, 128, 191)",
           "width": 1.5
          },
          "type": "line",
          "x0": 92,
          "x1": 92,
          "y0": 316,
          "y1": 317.75
         },
         {
          "line": {
           "color": "rgb(55, 128, 191)",
           "width": 1.5
          },
          "type": "line",
          "x0": 93,
          "x1": 93,
          "y0": 322.25,
          "y1": 324.5
         },
         {
          "line": {
           "color": "rgb(55, 128, 191)",
           "width": 1.5
          },
          "type": "line",
          "x0": 94,
          "x1": 94,
          "y0": 319,
          "y1": 323
         },
         {
          "line": {
           "color": "rgb(55, 128, 191)",
           "width": 1.5
          },
          "type": "line",
          "x0": 95,
          "x1": 95,
          "y0": 312,
          "y1": 313.25
         },
         {
          "line": {
           "color": "rgb(55, 128, 191)",
           "width": 1.5
          },
          "type": "line",
          "x0": 96,
          "x1": 96,
          "y0": 310.5,
          "y1": 312
         },
         {
          "line": {
           "color": "rgb(55, 128, 191)",
           "width": 1.5
          },
          "type": "line",
          "x0": 97,
          "x1": 97,
          "y0": 309.25,
          "y1": 311.75
         },
         {
          "line": {
           "color": "rgb(55, 128, 191)",
           "width": 1.5
          },
          "type": "line",
          "x0": 98,
          "x1": 98,
          "y0": 312.5,
          "y1": 315
         },
         {
          "line": {
           "color": "rgb(55, 128, 191)",
           "width": 1.5
          },
          "type": "line",
          "x0": 99,
          "x1": 99,
          "y0": 315.5,
          "y1": 318.5
         },
         {
          "line": {
           "color": "rgb(55, 128, 191)",
           "width": 1.5
          },
          "type": "line",
          "x0": 100,
          "x1": 100,
          "y0": 312.25,
          "y1": 315.5
         },
         {
          "line": {
           "color": "rgb(55, 128, 191)",
           "width": 1.5
          },
          "type": "line",
          "x0": 101,
          "x1": 101,
          "y0": 314,
          "y1": 315.25
         },
         {
          "line": {
           "color": "rgb(55, 128, 191)",
           "width": 1.5
          },
          "type": "line",
          "x0": 102,
          "x1": 102,
          "y0": 313.25,
          "y1": 314.25
         },
         {
          "line": {
           "color": "rgb(55, 128, 191)",
           "width": 1.5
          },
          "type": "line",
          "x0": 103,
          "x1": 103,
          "y0": 314,
          "y1": 314
         },
         {
          "line": {
           "color": "rgb(55, 128, 191)",
           "width": 1.5
          },
          "type": "line",
          "x0": 104,
          "x1": 104,
          "y0": 317.25,
          "y1": 318
         },
         {
          "line": {
           "color": "rgb(55, 128, 191)",
           "width": 1.5
          },
          "type": "line",
          "x0": 105,
          "x1": 105,
          "y0": 317.25,
          "y1": 318.5
         },
         {
          "line": {
           "color": "rgb(55, 128, 191)",
           "width": 1.5
          },
          "type": "line",
          "x0": 106,
          "x1": 106,
          "y0": 314.5,
          "y1": 318.25
         },
         {
          "line": {
           "color": "rgb(55, 128, 191)",
           "width": 1.5
          },
          "type": "line",
          "x0": 107,
          "x1": 107,
          "y0": 317.75,
          "y1": 318.25
         },
         {
          "line": {
           "color": "rgb(55, 128, 191)",
           "width": 1.5
          },
          "type": "line",
          "x0": 108,
          "x1": 108,
          "y0": 315.5,
          "y1": 317.5
         },
         {
          "line": {
           "color": "rgb(55, 128, 191)",
           "width": 1.5
          },
          "type": "line",
          "x0": 109,
          "x1": 109,
          "y0": 316.75,
          "y1": 317.75
         },
         {
          "line": {
           "color": "rgb(55, 128, 191)",
           "width": 1.5
          },
          "type": "line",
          "x0": 110,
          "x1": 110,
          "y0": 318,
          "y1": 320
         },
         {
          "line": {
           "color": "rgb(55, 128, 191)",
           "width": 1.5
          },
          "type": "line",
          "x0": 111,
          "x1": 111,
          "y0": 320.5,
          "y1": 320.75
         },
         {
          "line": {
           "color": "rgb(55, 128, 191)",
           "width": 1.5
          },
          "type": "line",
          "x0": 112,
          "x1": 112,
          "y0": 317.25,
          "y1": 319.5
         },
         {
          "line": {
           "color": "rgb(55, 128, 191)",
           "width": 1.5
          },
          "type": "line",
          "x0": 113,
          "x1": 113,
          "y0": 316.25,
          "y1": 317.75
         },
         {
          "line": {
           "color": "rgb(55, 128, 191)",
           "width": 1.5
          },
          "type": "line",
          "x0": 114,
          "x1": 114,
          "y0": 316,
          "y1": 317.75
         },
         {
          "line": {
           "color": "rgb(55, 128, 191)",
           "width": 1.5
          },
          "type": "line",
          "x0": 115,
          "x1": 115,
          "y0": 316.5,
          "y1": 316.75
         },
         {
          "line": {
           "color": "rgb(55, 128, 191)",
           "width": 1.5
          },
          "type": "line",
          "x0": 116,
          "x1": 116,
          "y0": 319.25,
          "y1": 320
         },
         {
          "line": {
           "color": "rgb(55, 128, 191)",
           "width": 1.5
          },
          "type": "line",
          "x0": 117,
          "x1": 117,
          "y0": 319.5,
          "y1": 320.25
         },
         {
          "line": {
           "color": "rgb(55, 128, 191)",
           "width": 1.5
          },
          "type": "line",
          "x0": 118,
          "x1": 118,
          "y0": 323.25,
          "y1": 325.75
         },
         {
          "line": {
           "color": "rgb(55, 128, 191)",
           "width": 1.5
          },
          "type": "line",
          "x0": 119,
          "x1": 119,
          "y0": 319.25,
          "y1": 323.25
         },
         {
          "line": {
           "color": "rgb(55, 128, 191)",
           "width": 1.5
          },
          "type": "line",
          "x0": 120,
          "x1": 120,
          "y0": 322,
          "y1": 323.5
         },
         {
          "fillcolor": "rgba(0, 204, 0, 0.6)",
          "line": {
           "color": "rgb(55, 128, 191)",
           "width": 1
          },
          "type": "rect",
          "x0": 0.75,
          "x1": 1.25,
          "xref": "x",
          "y0": 386.25,
          "y1": 388,
          "yref": "y"
         },
         {
          "fillcolor": "rgba(255, 0, 0, 0.6)",
          "line": {
           "color": "rgb(55, 128, 191)",
           "width": 1
          },
          "type": "rect",
          "x0": 1.75,
          "x1": 2.25,
          "xref": "x",
          "y0": 383.75,
          "y1": 387.5,
          "yref": "y"
         },
         {
          "fillcolor": "rgba(0, 204, 0, 0.6)",
          "line": {
           "color": "rgb(55, 128, 191)",
           "width": 1
          },
          "type": "rect",
          "x0": 2.75,
          "x1": 3.25,
          "xref": "x",
          "y0": 384.25,
          "y1": 390,
          "yref": "y"
         },
         {
          "fillcolor": "rgba(0, 204, 0, 0.6)",
          "line": {
           "color": "rgb(55, 128, 191)",
           "width": 1
          },
          "type": "rect",
          "x0": 3.75,
          "x1": 4.25,
          "xref": "x",
          "y0": 393.5,
          "y1": 393.75,
          "yref": "y"
         },
         {
          "fillcolor": "rgba(0, 204, 0, 0.6)",
          "line": {
           "color": "rgb(55, 128, 191)",
           "width": 1
          },
          "type": "rect",
          "x0": 4.75,
          "x1": 5.25,
          "xref": "x",
          "y0": 395.5,
          "y1": 400.25,
          "yref": "y"
         },
         {
          "fillcolor": "rgba(0, 204, 0, 0.6)",
          "line": {
           "color": "rgb(55, 128, 191)",
           "width": 1
          },
          "type": "rect",
          "x0": 5.75,
          "x1": 6.25,
          "xref": "x",
          "y0": 400,
          "y1": 402.25,
          "yref": "y"
         },
         {
          "fillcolor": "rgba(255, 0, 0, 0.6)",
          "line": {
           "color": "rgb(55, 128, 191)",
           "width": 1
          },
          "type": "rect",
          "x0": 6.75,
          "x1": 7.25,
          "xref": "x",
          "y0": 399.5,
          "y1": 401.5,
          "yref": "y"
         },
         {
          "fillcolor": "rgba(255, 0, 0, 0.6)",
          "line": {
           "color": "rgb(55, 128, 191)",
           "width": 1
          },
          "type": "rect",
          "x0": 7.75,
          "x1": 8.25,
          "xref": "x",
          "y0": 398.75,
          "y1": 399.5,
          "yref": "y"
         },
         {
          "fillcolor": "rgba(0, 204, 0, 0.6)",
          "line": {
           "color": "rgb(55, 128, 191)",
           "width": 1
          },
          "type": "rect",
          "x0": 8.75,
          "x1": 9.25,
          "xref": "x",
          "y0": 398.5,
          "y1": 399.5,
          "yref": "y"
         },
         {
          "fillcolor": "rgba(0, 204, 0, 0.6)",
          "line": {
           "color": "rgb(55, 128, 191)",
           "width": 1
          },
          "type": "rect",
          "x0": 9.75,
          "x1": 10.25,
          "xref": "x",
          "y0": 399.5,
          "y1": 401.25,
          "yref": "y"
         },
         {
          "fillcolor": "rgba(255, 0, 0, 0.6)",
          "line": {
           "color": "rgb(55, 128, 191)",
           "width": 1
          },
          "type": "rect",
          "x0": 10.75,
          "x1": 11.25,
          "xref": "x",
          "y0": 400.5,
          "y1": 400.75,
          "yref": "y"
         },
         {
          "fillcolor": "rgba(0, 204, 0, 0.6)",
          "line": {
           "color": "rgb(55, 128, 191)",
           "width": 1
          },
          "type": "rect",
          "x0": 11.75,
          "x1": 12.25,
          "xref": "x",
          "y0": 400.5,
          "y1": 401.25,
          "yref": "y"
         },
         {
          "fillcolor": "rgba(0, 204, 0, 0.6)",
          "line": {
           "color": "rgb(55, 128, 191)",
           "width": 1
          },
          "type": "rect",
          "x0": 12.75,
          "x1": 13.25,
          "xref": "x",
          "y0": 400.75,
          "y1": 402.75,
          "yref": "y"
         },
         {
          "fillcolor": "rgba(255, 0, 0, 0.6)",
          "line": {
           "color": "rgb(55, 128, 191)",
           "width": 1
          },
          "type": "rect",
          "x0": 13.75,
          "x1": 14.25,
          "xref": "x",
          "y0": 401.5,
          "y1": 402.25,
          "yref": "y"
         },
         {
          "fillcolor": "rgba(255, 0, 0, 0.6)",
          "line": {
           "color": "rgb(55, 128, 191)",
           "width": 1
          },
          "type": "rect",
          "x0": 14.75,
          "x1": 15.25,
          "xref": "x",
          "y0": 401,
          "y1": 401.25,
          "yref": "y"
         },
         {
          "fillcolor": "rgba(0, 204, 0, 0.6)",
          "line": {
           "color": "rgb(55, 128, 191)",
           "width": 1
          },
          "type": "rect",
          "x0": 15.75,
          "x1": 16.25,
          "xref": "x",
          "y0": 400.75,
          "y1": 404,
          "yref": "y"
         },
         {
          "fillcolor": "rgba(255, 0, 0, 0.6)",
          "line": {
           "color": "rgb(55, 128, 191)",
           "width": 1
          },
          "type": "rect",
          "x0": 16.75,
          "x1": 17.25,
          "xref": "x",
          "y0": 399.25,
          "y1": 403.5,
          "yref": "y"
         },
         {
          "fillcolor": "rgba(255, 0, 0, 0.6)",
          "line": {
           "color": "rgb(55, 128, 191)",
           "width": 1
          },
          "type": "rect",
          "x0": 17.75,
          "x1": 18.25,
          "xref": "x",
          "y0": 398,
          "y1": 399.25,
          "yref": "y"
         },
         {
          "fillcolor": "rgba(255, 0, 0, 0.6)",
          "line": {
           "color": "rgb(55, 128, 191)",
           "width": 1
          },
          "type": "rect",
          "x0": 18.75,
          "x1": 19.25,
          "xref": "x",
          "y0": 397.75,
          "y1": 397.75,
          "yref": "y"
         },
         {
          "fillcolor": "rgba(0, 204, 0, 0.6)",
          "line": {
           "color": "rgb(55, 128, 191)",
           "width": 1
          },
          "type": "rect",
          "x0": 19.75,
          "x1": 20.25,
          "xref": "x",
          "y0": 396.75,
          "y1": 397.75,
          "yref": "y"
         },
         {
          "fillcolor": "rgba(255, 0, 0, 0.6)",
          "line": {
           "color": "rgb(55, 128, 191)",
           "width": 1
          },
          "type": "rect",
          "x0": 20.75,
          "x1": 21.25,
          "xref": "x",
          "y0": 396.75,
          "y1": 397,
          "yref": "y"
         },
         {
          "fillcolor": "rgba(0, 204, 0, 0.6)",
          "line": {
           "color": "rgb(55, 128, 191)",
           "width": 1
          },
          "type": "rect",
          "x0": 21.75,
          "x1": 22.25,
          "xref": "x",
          "y0": 396.5,
          "y1": 399.5,
          "yref": "y"
         },
         {
          "fillcolor": "rgba(0, 204, 0, 0.6)",
          "line": {
           "color": "rgb(55, 128, 191)",
           "width": 1
          },
          "type": "rect",
          "x0": 22.75,
          "x1": 23.25,
          "xref": "x",
          "y0": 399.75,
          "y1": 402.75,
          "yref": "y"
         },
         {
          "fillcolor": "rgba(255, 0, 0, 0.6)",
          "line": {
           "color": "rgb(55, 128, 191)",
           "width": 1
          },
          "type": "rect",
          "x0": 23.75,
          "x1": 24.25,
          "xref": "x",
          "y0": 402.25,
          "y1": 402.25,
          "yref": "y"
         },
         {
          "fillcolor": "rgba(255, 0, 0, 0.6)",
          "line": {
           "color": "rgb(55, 128, 191)",
           "width": 1
          },
          "type": "rect",
          "x0": 24.75,
          "x1": 25.25,
          "xref": "x",
          "y0": 400.5,
          "y1": 402,
          "yref": "y"
         },
         {
          "fillcolor": "rgba(255, 0, 0, 0.6)",
          "line": {
           "color": "rgb(55, 128, 191)",
           "width": 1
          },
          "type": "rect",
          "x0": 25.75,
          "x1": 26.25,
          "xref": "x",
          "y0": 389,
          "y1": 400,
          "yref": "y"
         },
         {
          "fillcolor": "rgba(0, 204, 0, 0.6)",
          "line": {
           "color": "rgb(55, 128, 191)",
           "width": 1
          },
          "type": "rect",
          "x0": 26.75,
          "x1": 27.25,
          "xref": "x",
          "y0": 390.25,
          "y1": 401,
          "yref": "y"
         },
         {
          "fillcolor": "rgba(255, 0, 0, 0.6)",
          "line": {
           "color": "rgb(55, 128, 191)",
           "width": 1
          },
          "type": "rect",
          "x0": 27.75,
          "x1": 28.25,
          "xref": "x",
          "y0": 399.25,
          "y1": 400.5,
          "yref": "y"
         },
         {
          "fillcolor": "rgba(0, 204, 0, 0.6)",
          "line": {
           "color": "rgb(55, 128, 191)",
           "width": 1
          },
          "type": "rect",
          "x0": 28.75,
          "x1": 29.25,
          "xref": "x",
          "y0": 399,
          "y1": 399.25,
          "yref": "y"
         },
         {
          "fillcolor": "rgba(0, 204, 0, 0.6)",
          "line": {
           "color": "rgb(55, 128, 191)",
           "width": 1
          },
          "type": "rect",
          "x0": 29.75,
          "x1": 30.25,
          "xref": "x",
          "y0": 398.5,
          "y1": 403.25,
          "yref": "y"
         },
         {
          "fillcolor": "rgba(255, 0, 0, 0.6)",
          "line": {
           "color": "rgb(55, 128, 191)",
           "width": 1
          },
          "type": "rect",
          "x0": 30.75,
          "x1": 31.25,
          "xref": "x",
          "y0": 397.75,
          "y1": 402.75,
          "yref": "y"
         },
         {
          "fillcolor": "rgba(255, 0, 0, 0.6)",
          "line": {
           "color": "rgb(55, 128, 191)",
           "width": 1
          },
          "type": "rect",
          "x0": 31.75,
          "x1": 32.25,
          "xref": "x",
          "y0": 392.25,
          "y1": 395,
          "yref": "y"
         },
         {
          "fillcolor": "rgba(0, 204, 0, 0.6)",
          "line": {
           "color": "rgb(55, 128, 191)",
           "width": 1
          },
          "type": "rect",
          "x0": 32.75,
          "x1": 33.25,
          "xref": "x",
          "y0": 394,
          "y1": 397.25,
          "yref": "y"
         },
         {
          "fillcolor": "rgba(255, 0, 0, 0.6)",
          "line": {
           "color": "rgb(55, 128, 191)",
           "width": 1
          },
          "type": "rect",
          "x0": 33.75,
          "x1": 34.25,
          "xref": "x",
          "y0": 394.5,
          "y1": 395.75,
          "yref": "y"
         },
         {
          "fillcolor": "rgba(255, 0, 0, 0.6)",
          "line": {
           "color": "rgb(55, 128, 191)",
           "width": 1
          },
          "type": "rect",
          "x0": 34.75,
          "x1": 35.25,
          "xref": "x",
          "y0": 389.5,
          "y1": 394.75,
          "yref": "y"
         },
         {
          "fillcolor": "rgba(255, 0, 0, 0.6)",
          "line": {
           "color": "rgb(55, 128, 191)",
           "width": 1
          },
          "type": "rect",
          "x0": 35.75,
          "x1": 36.25,
          "xref": "x",
          "y0": 391,
          "y1": 391.5,
          "yref": "y"
         },
         {
          "fillcolor": "rgba(255, 0, 0, 0.6)",
          "line": {
           "color": "rgb(55, 128, 191)",
           "width": 1
          },
          "type": "rect",
          "x0": 36.75,
          "x1": 37.25,
          "xref": "x",
          "y0": 389.5,
          "y1": 390.5,
          "yref": "y"
         },
         {
          "fillcolor": "rgba(0, 204, 0, 0.6)",
          "line": {
           "color": "rgb(55, 128, 191)",
           "width": 1
          },
          "type": "rect",
          "x0": 37.75,
          "x1": 38.25,
          "xref": "x",
          "y0": 389,
          "y1": 392.75,
          "yref": "y"
         },
         {
          "fillcolor": "rgba(255, 0, 0, 0.6)",
          "line": {
           "color": "rgb(55, 128, 191)",
           "width": 1
          },
          "type": "rect",
          "x0": 38.75,
          "x1": 39.25,
          "xref": "x",
          "y0": 391,
          "y1": 392,
          "yref": "y"
         },
         {
          "fillcolor": "rgba(255, 0, 0, 0.6)",
          "line": {
           "color": "rgb(55, 128, 191)",
           "width": 1
          },
          "type": "rect",
          "x0": 39.75,
          "x1": 40.25,
          "xref": "x",
          "y0": 388,
          "y1": 390.75,
          "yref": "y"
         },
         {
          "fillcolor": "rgba(0, 204, 0, 0.6)",
          "line": {
           "color": "rgb(55, 128, 191)",
           "width": 1
          },
          "type": "rect",
          "x0": 40.75,
          "x1": 41.25,
          "xref": "x",
          "y0": 388.75,
          "y1": 392.25,
          "yref": "y"
         },
         {
          "fillcolor": "rgba(255, 0, 0, 0.6)",
          "line": {
           "color": "rgb(55, 128, 191)",
           "width": 1
          },
          "type": "rect",
          "x0": 41.75,
          "x1": 42.25,
          "xref": "x",
          "y0": 390.75,
          "y1": 391.75,
          "yref": "y"
         },
         {
          "fillcolor": "rgba(255, 0, 0, 0.6)",
          "line": {
           "color": "rgb(55, 128, 191)",
           "width": 1
          },
          "type": "rect",
          "x0": 42.75,
          "x1": 43.25,
          "xref": "x",
          "y0": 388.25,
          "y1": 389.25,
          "yref": "y"
         },
         {
          "fillcolor": "rgba(0, 204, 0, 0.6)",
          "line": {
           "color": "rgb(55, 128, 191)",
           "width": 1
          },
          "type": "rect",
          "x0": 43.75,
          "x1": 44.25,
          "xref": "x",
          "y0": 388.25,
          "y1": 390.25,
          "yref": "y"
         },
         {
          "fillcolor": "rgba(255, 0, 0, 0.6)",
          "line": {
           "color": "rgb(55, 128, 191)",
           "width": 1
          },
          "type": "rect",
          "x0": 44.75,
          "x1": 45.25,
          "xref": "x",
          "y0": 388.75,
          "y1": 389.75,
          "yref": "y"
         },
         {
          "fillcolor": "rgba(255, 0, 0, 0.6)",
          "line": {
           "color": "rgb(55, 128, 191)",
           "width": 1
          },
          "type": "rect",
          "x0": 45.75,
          "x1": 46.25,
          "xref": "x",
          "y0": 385.5,
          "y1": 388.5,
          "yref": "y"
         },
         {
          "fillcolor": "rgba(0, 204, 0, 0.6)",
          "line": {
           "color": "rgb(55, 128, 191)",
           "width": 1
          },
          "type": "rect",
          "x0": 46.75,
          "x1": 47.25,
          "xref": "x",
          "y0": 386,
          "y1": 390.5,
          "yref": "y"
         },
         {
          "fillcolor": "rgba(255, 0, 0, 0.6)",
          "line": {
           "color": "rgb(55, 128, 191)",
           "width": 1
          },
          "type": "rect",
          "x0": 47.75,
          "x1": 48.25,
          "xref": "x",
          "y0": 388.25,
          "y1": 390,
          "yref": "y"
         },
         {
          "fillcolor": "rgba(255, 0, 0, 0.6)",
          "line": {
           "color": "rgb(55, 128, 191)",
           "width": 1
          },
          "type": "rect",
          "x0": 48.75,
          "x1": 49.25,
          "xref": "x",
          "y0": 385.5,
          "y1": 388.5,
          "yref": "y"
         },
         {
          "fillcolor": "rgba(255, 0, 0, 0.6)",
          "line": {
           "color": "rgb(55, 128, 191)",
           "width": 1
          },
          "type": "rect",
          "x0": 49.75,
          "x1": 50.25,
          "xref": "x",
          "y0": 383.5,
          "y1": 385.25,
          "yref": "y"
         },
         {
          "fillcolor": "rgba(255, 0, 0, 0.6)",
          "line": {
           "color": "rgb(55, 128, 191)",
           "width": 1
          },
          "type": "rect",
          "x0": 50.75,
          "x1": 51.25,
          "xref": "x",
          "y0": 379.5,
          "y1": 382.75,
          "yref": "y"
         },
         {
          "fillcolor": "rgba(255, 0, 0, 0.6)",
          "line": {
           "color": "rgb(55, 128, 191)",
           "width": 1
          },
          "type": "rect",
          "x0": 51.75,
          "x1": 52.25,
          "xref": "x",
          "y0": 380,
          "y1": 380.5,
          "yref": "y"
         },
         {
          "fillcolor": "rgba(255, 0, 0, 0.6)",
          "line": {
           "color": "rgb(55, 128, 191)",
           "width": 1
          },
          "type": "rect",
          "x0": 52.75,
          "x1": 53.25,
          "xref": "x",
          "y0": 378.75,
          "y1": 379.75,
          "yref": "y"
         },
         {
          "fillcolor": "rgba(255, 0, 0, 0.6)",
          "line": {
           "color": "rgb(55, 128, 191)",
           "width": 1
          },
          "type": "rect",
          "x0": 53.75,
          "x1": 54.25,
          "xref": "x",
          "y0": 372.5,
          "y1": 378.25,
          "yref": "y"
         },
         {
          "fillcolor": "rgba(255, 0, 0, 0.6)",
          "line": {
           "color": "rgb(55, 128, 191)",
           "width": 1
          },
          "type": "rect",
          "x0": 54.75,
          "x1": 55.25,
          "xref": "x",
          "y0": 372.5,
          "y1": 373,
          "yref": "y"
         },
         {
          "fillcolor": "rgba(0, 204, 0, 0.6)",
          "line": {
           "color": "rgb(55, 128, 191)",
           "width": 1
          },
          "type": "rect",
          "x0": 55.75,
          "x1": 56.25,
          "xref": "x",
          "y0": 372.5,
          "y1": 378.5,
          "yref": "y"
         },
         {
          "fillcolor": "rgba(0, 204, 0, 0.6)",
          "line": {
           "color": "rgb(55, 128, 191)",
           "width": 1
          },
          "type": "rect",
          "x0": 56.75,
          "x1": 57.25,
          "xref": "x",
          "y0": 379,
          "y1": 383.75,
          "yref": "y"
         },
         {
          "fillcolor": "rgba(0, 204, 0, 0.6)",
          "line": {
           "color": "rgb(55, 128, 191)",
           "width": 1
          },
          "type": "rect",
          "x0": 57.75,
          "x1": 58.25,
          "xref": "x",
          "y0": 383.25,
          "y1": 386.25,
          "yref": "y"
         },
         {
          "fillcolor": "rgba(255, 0, 0, 0.6)",
          "line": {
           "color": "rgb(55, 128, 191)",
           "width": 1
          },
          "type": "rect",
          "x0": 58.75,
          "x1": 59.25,
          "xref": "x",
          "y0": 383.75,
          "y1": 385.25,
          "yref": "y"
         },
         {
          "fillcolor": "rgba(255, 0, 0, 0.6)",
          "line": {
           "color": "rgb(55, 128, 191)",
           "width": 1
          },
          "type": "rect",
          "x0": 59.75,
          "x1": 60.25,
          "xref": "x",
          "y0": 379.25,
          "y1": 382.5,
          "yref": "y"
         },
         {
          "fillcolor": "rgba(0, 204, 0, 0.6)",
          "line": {
           "color": "rgb(55, 128, 191)",
           "width": 1
          },
          "type": "rect",
          "x0": 60.75,
          "x1": 61.25,
          "xref": "x",
          "y0": 373.5,
          "y1": 375,
          "yref": "y"
         },
         {
          "fillcolor": "rgba(0, 204, 0, 0.6)",
          "line": {
           "color": "rgb(55, 128, 191)",
           "width": 1
          },
          "type": "rect",
          "x0": 61.75,
          "x1": 62.25,
          "xref": "x",
          "y0": 376.25,
          "y1": 379.5,
          "yref": "y"
         },
         {
          "fillcolor": "rgba(255, 0, 0, 0.6)",
          "line": {
           "color": "rgb(55, 128, 191)",
           "width": 1
          },
          "type": "rect",
          "x0": 62.75,
          "x1": 63.25,
          "xref": "x",
          "y0": 376.5,
          "y1": 379.25,
          "yref": "y"
         },
         {
          "fillcolor": "rgba(255, 0, 0, 0.6)",
          "line": {
           "color": "rgb(55, 128, 191)",
           "width": 1
          },
          "type": "rect",
          "x0": 63.75,
          "x1": 64.25,
          "xref": "x",
          "y0": 368.75,
          "y1": 375,
          "yref": "y"
         },
         {
          "fillcolor": "rgba(0, 204, 0, 0.6)",
          "line": {
           "color": "rgb(55, 128, 191)",
           "width": 1
          },
          "type": "rect",
          "x0": 64.75,
          "x1": 65.25,
          "xref": "x",
          "y0": 368.25,
          "y1": 368.5,
          "yref": "y"
         },
         {
          "fillcolor": "rgba(255, 0, 0, 0.6)",
          "line": {
           "color": "rgb(55, 128, 191)",
           "width": 1
          },
          "type": "rect",
          "x0": 65.75,
          "x1": 66.25,
          "xref": "x",
          "y0": 358.5,
          "y1": 365.75,
          "yref": "y"
         },
         {
          "fillcolor": "rgba(255, 0, 0, 0.6)",
          "line": {
           "color": "rgb(55, 128, 191)",
           "width": 1
          },
          "type": "rect",
          "x0": 66.75,
          "x1": 67.25,
          "xref": "x",
          "y0": 350,
          "y1": 358.75,
          "yref": "y"
         },
         {
          "fillcolor": "rgba(255, 0, 0, 0.6)",
          "line": {
           "color": "rgb(55, 128, 191)",
           "width": 1
          },
          "type": "rect",
          "x0": 67.75,
          "x1": 68.25,
          "xref": "x",
          "y0": 341.75,
          "y1": 349.75,
          "yref": "y"
         },
         {
          "fillcolor": "rgba(0, 204, 0, 0.6)",
          "line": {
           "color": "rgb(55, 128, 191)",
           "width": 1
          },
          "type": "rect",
          "x0": 68.75,
          "x1": 69.25,
          "xref": "x",
          "y0": 342.5,
          "y1": 351,
          "yref": "y"
         },
         {
          "fillcolor": "rgba(255, 0, 0, 0.6)",
          "line": {
           "color": "rgb(55, 128, 191)",
           "width": 1
          },
          "type": "rect",
          "x0": 69.75,
          "x1": 70.25,
          "xref": "x",
          "y0": 349.5,
          "y1": 351.5,
          "yref": "y"
         },
         {
          "fillcolor": "rgba(0, 204, 0, 0.6)",
          "line": {
           "color": "rgb(55, 128, 191)",
           "width": 1
          },
          "type": "rect",
          "x0": 70.75,
          "x1": 71.25,
          "xref": "x",
          "y0": 346.5,
          "y1": 349.5,
          "yref": "y"
         },
         {
          "fillcolor": "rgba(0, 204, 0, 0.6)",
          "line": {
           "color": "rgb(55, 128, 191)",
           "width": 1
          },
          "type": "rect",
          "x0": 71.75,
          "x1": 72.25,
          "xref": "x",
          "y0": 349.5,
          "y1": 352,
          "yref": "y"
         },
         {
          "fillcolor": "rgba(0, 204, 0, 0.6)",
          "line": {
           "color": "rgb(55, 128, 191)",
           "width": 1
          },
          "type": "rect",
          "x0": 72.75,
          "x1": 73.25,
          "xref": "x",
          "y0": 352,
          "y1": 353.5,
          "yref": "y"
         },
         {
          "fillcolor": "rgba(0, 204, 0, 0.6)",
          "line": {
           "color": "rgb(55, 128, 191)",
           "width": 1
          },
          "type": "rect",
          "x0": 73.75,
          "x1": 74.25,
          "xref": "x",
          "y0": 353.25,
          "y1": 354.25,
          "yref": "y"
         },
         {
          "fillcolor": "rgba(255, 0, 0, 0.6)",
          "line": {
           "color": "rgb(55, 128, 191)",
           "width": 1
          },
          "type": "rect",
          "x0": 74.75,
          "x1": 75.25,
          "xref": "x",
          "y0": 351.75,
          "y1": 354.25,
          "yref": "y"
         },
         {
          "fillcolor": "rgba(255, 0, 0, 0.6)",
          "line": {
           "color": "rgb(55, 128, 191)",
           "width": 1
          },
          "type": "rect",
          "x0": 75.75,
          "x1": 76.25,
          "xref": "x",
          "y0": 347.5,
          "y1": 348.5,
          "yref": "y"
         },
         {
          "fillcolor": "rgba(255, 0, 0, 0.6)",
          "line": {
           "color": "rgb(55, 128, 191)",
           "width": 1
          },
          "type": "rect",
          "x0": 76.75,
          "x1": 77.25,
          "xref": "x",
          "y0": 346,
          "y1": 347.75,
          "yref": "y"
         },
         {
          "fillcolor": "rgba(255, 0, 0, 0.6)",
          "line": {
           "color": "rgb(55, 128, 191)",
           "width": 1
          },
          "type": "rect",
          "x0": 77.75,
          "x1": 78.25,
          "xref": "x",
          "y0": 338.75,
          "y1": 346.25,
          "yref": "y"
         },
         {
          "fillcolor": "rgba(255, 0, 0, 0.6)",
          "line": {
           "color": "rgb(55, 128, 191)",
           "width": 1
          },
          "type": "rect",
          "x0": 78.75,
          "x1": 79.25,
          "xref": "x",
          "y0": 338.5,
          "y1": 339,
          "yref": "y"
         },
         {
          "fillcolor": "rgba(255, 0, 0, 0.6)",
          "line": {
           "color": "rgb(55, 128, 191)",
           "width": 1
          },
          "type": "rect",
          "x0": 79.75,
          "x1": 80.25,
          "xref": "x",
          "y0": 336.75,
          "y1": 339.25,
          "yref": "y"
         },
         {
          "fillcolor": "rgba(255, 0, 0, 0.6)",
          "line": {
           "color": "rgb(55, 128, 191)",
           "width": 1
          },
          "type": "rect",
          "x0": 80.75,
          "x1": 81.25,
          "xref": "x",
          "y0": 333.5,
          "y1": 335.25,
          "yref": "y"
         },
         {
          "fillcolor": "rgba(0, 204, 0, 0.6)",
          "line": {
           "color": "rgb(55, 128, 191)",
           "width": 1
          },
          "type": "rect",
          "x0": 81.75,
          "x1": 82.25,
          "xref": "x",
          "y0": 333.5,
          "y1": 337.25,
          "yref": "y"
         },
         {
          "fillcolor": "rgba(255, 0, 0, 0.6)",
          "line": {
           "color": "rgb(55, 128, 191)",
           "width": 1
          },
          "type": "rect",
          "x0": 82.75,
          "x1": 83.25,
          "xref": "x",
          "y0": 335.5,
          "y1": 337.75,
          "yref": "y"
         },
         {
          "fillcolor": "rgba(0, 204, 0, 0.6)",
          "line": {
           "color": "rgb(55, 128, 191)",
           "width": 1
          },
          "type": "rect",
          "x0": 83.75,
          "x1": 84.25,
          "xref": "x",
          "y0": 336,
          "y1": 336.75,
          "yref": "y"
         },
         {
          "fillcolor": "rgba(255, 0, 0, 0.6)",
          "line": {
           "color": "rgb(55, 128, 191)",
           "width": 1
          },
          "type": "rect",
          "x0": 84.75,
          "x1": 85.25,
          "xref": "x",
          "y0": 336.25,
          "y1": 337,
          "yref": "y"
         },
         {
          "fillcolor": "rgba(255, 0, 0, 0.6)",
          "line": {
           "color": "rgb(55, 128, 191)",
           "width": 1
          },
          "type": "rect",
          "x0": 85.75,
          "x1": 86.25,
          "xref": "x",
          "y0": 332.25,
          "y1": 336.25,
          "yref": "y"
         },
         {
          "fillcolor": "rgba(255, 0, 0, 0.6)",
          "line": {
           "color": "rgb(55, 128, 191)",
           "width": 1
          },
          "type": "rect",
          "x0": 86.75,
          "x1": 87.25,
          "xref": "x",
          "y0": 326.75,
          "y1": 332.25,
          "yref": "y"
         },
         {
          "fillcolor": "rgba(255, 0, 0, 0.6)",
          "line": {
           "color": "rgb(55, 128, 191)",
           "width": 1
          },
          "type": "rect",
          "x0": 87.75,
          "x1": 88.25,
          "xref": "x",
          "y0": 326.25,
          "y1": 326.5,
          "yref": "y"
         },
         {
          "fillcolor": "rgba(0, 204, 0, 0.6)",
          "line": {
           "color": "rgb(55, 128, 191)",
           "width": 1
          },
          "type": "rect",
          "x0": 88.75,
          "x1": 89.25,
          "xref": "x",
          "y0": 326.5,
          "y1": 329.25,
          "yref": "y"
         },
         {
          "fillcolor": "rgba(255, 0, 0, 0.6)",
          "line": {
           "color": "rgb(55, 128, 191)",
           "width": 1
          },
          "type": "rect",
          "x0": 89.75,
          "x1": 90.25,
          "xref": "x",
          "y0": 322.25,
          "y1": 329.25,
          "yref": "y"
         },
         {
          "fillcolor": "rgba(255, 0, 0, 0.6)",
          "line": {
           "color": "rgb(55, 128, 191)",
           "width": 1
          },
          "type": "rect",
          "x0": 90.75,
          "x1": 91.25,
          "xref": "x",
          "y0": 317.25,
          "y1": 322.25,
          "yref": "y"
         },
         {
          "fillcolor": "rgba(0, 204, 0, 0.6)",
          "line": {
           "color": "rgb(55, 128, 191)",
           "width": 1
          },
          "type": "rect",
          "x0": 91.75,
          "x1": 92.25,
          "xref": "x",
          "y0": 317.75,
          "y1": 324.75,
          "yref": "y"
         },
         {
          "fillcolor": "rgba(0, 204, 0, 0.6)",
          "line": {
           "color": "rgb(55, 128, 191)",
           "width": 1
          },
          "type": "rect",
          "x0": 92.75,
          "x1": 93.25,
          "xref": "x",
          "y0": 324.5,
          "y1": 326,
          "yref": "y"
         },
         {
          "fillcolor": "rgba(255, 0, 0, 0.6)",
          "line": {
           "color": "rgb(55, 128, 191)",
           "width": 1
          },
          "type": "rect",
          "x0": 93.75,
          "x1": 94.25,
          "xref": "x",
          "y0": 323,
          "y1": 326.25,
          "yref": "y"
         },
         {
          "fillcolor": "rgba(255, 0, 0, 0.6)",
          "line": {
           "color": "rgb(55, 128, 191)",
           "width": 1
          },
          "type": "rect",
          "x0": 94.75,
          "x1": 95.25,
          "xref": "x",
          "y0": 313.25,
          "y1": 322,
          "yref": "y"
         },
         {
          "fillcolor": "rgba(255, 0, 0, 0.6)",
          "line": {
           "color": "rgb(55, 128, 191)",
           "width": 1
          },
          "type": "rect",
          "x0": 95.75,
          "x1": 96.25,
          "xref": "x",
          "y0": 312,
          "y1": 313.25,
          "yref": "y"
         },
         {
          "fillcolor": "rgba(0, 204, 0, 0.6)",
          "line": {
           "color": "rgb(55, 128, 191)",
           "width": 1
          },
          "type": "rect",
          "x0": 96.75,
          "x1": 97.25,
          "xref": "x",
          "y0": 311.75,
          "y1": 314.5,
          "yref": "y"
         },
         {
          "fillcolor": "rgba(0, 204, 0, 0.6)",
          "line": {
           "color": "rgb(55, 128, 191)",
           "width": 1
          },
          "type": "rect",
          "x0": 97.75,
          "x1": 98.25,
          "xref": "x",
          "y0": 315,
          "y1": 320,
          "yref": "y"
         },
         {
          "fillcolor": "rgba(255, 0, 0, 0.6)",
          "line": {
           "color": "rgb(55, 128, 191)",
           "width": 1
          },
          "type": "rect",
          "x0": 98.75,
          "x1": 99.25,
          "xref": "x",
          "y0": 318.5,
          "y1": 319.5,
          "yref": "y"
         },
         {
          "fillcolor": "rgba(255, 0, 0, 0.6)",
          "line": {
           "color": "rgb(55, 128, 191)",
           "width": 1
          },
          "type": "rect",
          "x0": 99.75,
          "x1": 100.25,
          "xref": "x",
          "y0": 315.5,
          "y1": 317,
          "yref": "y"
         },
         {
          "fillcolor": "rgba(0, 204, 0, 0.6)",
          "line": {
           "color": "rgb(55, 128, 191)",
           "width": 1
          },
          "type": "rect",
          "x0": 100.75,
          "x1": 101.25,
          "xref": "x",
          "y0": 315.25,
          "y1": 317,
          "yref": "y"
         },
         {
          "fillcolor": "rgba(255, 0, 0, 0.6)",
          "line": {
           "color": "rgb(55, 128, 191)",
           "width": 1
          },
          "type": "rect",
          "x0": 101.75,
          "x1": 102.25,
          "xref": "x",
          "y0": 314.25,
          "y1": 318,
          "yref": "y"
         },
         {
          "fillcolor": "rgba(0, 204, 0, 0.6)",
          "line": {
           "color": "rgb(55, 128, 191)",
           "width": 1
          },
          "type": "rect",
          "x0": 102.75,
          "x1": 103.25,
          "xref": "x",
          "y0": 314,
          "y1": 318,
          "yref": "y"
         },
         {
          "fillcolor": "rgba(0, 204, 0, 0.6)",
          "line": {
           "color": "rgb(55, 128, 191)",
           "width": 1
          },
          "type": "rect",
          "x0": 103.75,
          "x1": 104.25,
          "xref": "x",
          "y0": 318,
          "y1": 319.25,
          "yref": "y"
         },
         {
          "fillcolor": "rgba(255, 0, 0, 0.6)",
          "line": {
           "color": "rgb(55, 128, 191)",
           "width": 1
          },
          "type": "rect",
          "x0": 104.75,
          "x1": 105.25,
          "xref": "x",
          "y0": 318.5,
          "y1": 320.75,
          "yref": "y"
         },
         {
          "fillcolor": "rgba(0, 204, 0, 0.6)",
          "line": {
           "color": "rgb(55, 128, 191)",
           "width": 1
          },
          "type": "rect",
          "x0": 105.75,
          "x1": 106.25,
          "xref": "x",
          "y0": 318.25,
          "y1": 322.25,
          "yref": "y"
         },
         {
          "fillcolor": "rgba(255, 0, 0, 0.6)",
          "line": {
           "color": "rgb(55, 128, 191)",
           "width": 1
          },
          "type": "rect",
          "x0": 106.75,
          "x1": 107.25,
          "xref": "x",
          "y0": 318.25,
          "y1": 322,
          "yref": "y"
         },
         {
          "fillcolor": "rgba(255, 0, 0, 0.6)",
          "line": {
           "color": "rgb(55, 128, 191)",
           "width": 1
          },
          "type": "rect",
          "x0": 107.75,
          "x1": 108.25,
          "xref": "x",
          "y0": 317.5,
          "y1": 318.25,
          "yref": "y"
         },
         {
          "fillcolor": "rgba(0, 204, 0, 0.6)",
          "line": {
           "color": "rgb(55, 128, 191)",
           "width": 1
          },
          "type": "rect",
          "x0": 108.75,
          "x1": 109.25,
          "xref": "x",
          "y0": 317.75,
          "y1": 319.25,
          "yref": "y"
         },
         {
          "fillcolor": "rgba(0, 204, 0, 0.6)",
          "line": {
           "color": "rgb(55, 128, 191)",
           "width": 1
          },
          "type": "rect",
          "x0": 109.75,
          "x1": 110.25,
          "xref": "x",
          "y0": 320,
          "y1": 320.75,
          "yref": "y"
         },
         {
          "fillcolor": "rgba(0, 204, 0, 0.6)",
          "line": {
           "color": "rgb(55, 128, 191)",
           "width": 1
          },
          "type": "rect",
          "x0": 110.75,
          "x1": 111.25,
          "xref": "x",
          "y0": 320.75,
          "y1": 321.25,
          "yref": "y"
         },
         {
          "fillcolor": "rgba(255, 0, 0, 0.6)",
          "line": {
           "color": "rgb(55, 128, 191)",
           "width": 1
          },
          "type": "rect",
          "x0": 111.75,
          "x1": 112.25,
          "xref": "x",
          "y0": 319.5,
          "y1": 321.25,
          "yref": "y"
         },
         {
          "fillcolor": "rgba(255, 0, 0, 0.6)",
          "line": {
           "color": "rgb(55, 128, 191)",
           "width": 1
          },
          "type": "rect",
          "x0": 112.75,
          "x1": 113.25,
          "xref": "x",
          "y0": 317.75,
          "y1": 319,
          "yref": "y"
         },
         {
          "fillcolor": "rgba(0, 204, 0, 0.6)",
          "line": {
           "color": "rgb(55, 128, 191)",
           "width": 1
          },
          "type": "rect",
          "x0": 113.75,
          "x1": 114.25,
          "xref": "x",
          "y0": 317.75,
          "y1": 318,
          "yref": "y"
         },
         {
          "fillcolor": "rgba(0, 204, 0, 0.6)",
          "line": {
           "color": "rgb(55, 128, 191)",
           "width": 1
          },
          "type": "rect",
          "x0": 114.75,
          "x1": 115.25,
          "xref": "x",
          "y0": 316.75,
          "y1": 319,
          "yref": "y"
         },
         {
          "fillcolor": "rgba(0, 204, 0, 0.6)",
          "line": {
           "color": "rgb(55, 128, 191)",
           "width": 1
          },
          "type": "rect",
          "x0": 115.75,
          "x1": 116.25,
          "xref": "x",
          "y0": 320,
          "y1": 320.5,
          "yref": "y"
         },
         {
          "fillcolor": "rgba(0, 204, 0, 0.6)",
          "line": {
           "color": "rgb(55, 128, 191)",
           "width": 1
          },
          "type": "rect",
          "x0": 116.75,
          "x1": 117.25,
          "xref": "x",
          "y0": 320.25,
          "y1": 327.5,
          "yref": "y"
         },
         {
          "fillcolor": "rgba(255, 0, 0, 0.6)",
          "line": {
           "color": "rgb(55, 128, 191)",
           "width": 1
          },
          "type": "rect",
          "x0": 117.75,
          "x1": 118.25,
          "xref": "x",
          "y0": 325.75,
          "y1": 327.5,
          "yref": "y"
         },
         {
          "fillcolor": "rgba(255, 0, 0, 0.6)",
          "line": {
           "color": "rgb(55, 128, 191)",
           "width": 1
          },
          "type": "rect",
          "x0": 118.75,
          "x1": 119.25,
          "xref": "x",
          "y0": 323.25,
          "y1": 325.5,
          "yref": "y"
         },
         {
          "fillcolor": "rgba(0, 204, 0, 0.6)",
          "line": {
           "color": "rgb(55, 128, 191)",
           "width": 1
          },
          "type": "rect",
          "x0": 119.75,
          "x1": 120.25,
          "xref": "x",
          "y0": 323.5,
          "y1": 324.25,
          "yref": "y"
         },
         {
          "line": {
           "color": "rgb(55, 128, 191)",
           "width": 1.5
          },
          "type": "line",
          "x0": 1,
          "x1": 1,
          "y0": 388,
          "y1": 388.75
         },
         {
          "line": {
           "color": "rgb(55, 128, 191)",
           "width": 1.5
          },
          "type": "line",
          "x0": 2,
          "x1": 2,
          "y0": 387.5,
          "y1": 387.75
         },
         {
          "line": {
           "color": "rgb(55, 128, 191)",
           "width": 1.5
          },
          "type": "line",
          "x0": 3,
          "x1": 3,
          "y0": 390,
          "y1": 392.5
         },
         {
          "line": {
           "color": "rgb(55, 128, 191)",
           "width": 1.5
          },
          "type": "line",
          "x0": 4,
          "x1": 4,
          "y0": 393.75,
          "y1": 396.75
         },
         {
          "line": {
           "color": "rgb(55, 128, 191)",
           "width": 1.5
          },
          "type": "line",
          "x0": 5,
          "x1": 5,
          "y0": 400.25,
          "y1": 401.75
         },
         {
          "line": {
           "color": "rgb(55, 128, 191)",
           "width": 1.5
          },
          "type": "line",
          "x0": 6,
          "x1": 6,
          "y0": 402.25,
          "y1": 402.5
         },
         {
          "line": {
           "color": "rgb(55, 128, 191)",
           "width": 1.5
          },
          "type": "line",
          "x0": 7,
          "x1": 7,
          "y0": 401.5,
          "y1": 402
         },
         {
          "line": {
           "color": "rgb(55, 128, 191)",
           "width": 1.5
          },
          "type": "line",
          "x0": 8,
          "x1": 8,
          "y0": 399.5,
          "y1": 401
         },
         {
          "line": {
           "color": "rgb(55, 128, 191)",
           "width": 1.5
          },
          "type": "line",
          "x0": 9,
          "x1": 9,
          "y0": 399.5,
          "y1": 401.5
         },
         {
          "line": {
           "color": "rgb(55, 128, 191)",
           "width": 1.5
          },
          "type": "line",
          "x0": 10,
          "x1": 10,
          "y0": 401.25,
          "y1": 402.25
         },
         {
          "line": {
           "color": "rgb(55, 128, 191)",
           "width": 1.5
          },
          "type": "line",
          "x0": 11,
          "x1": 11,
          "y0": 400.75,
          "y1": 401.5
         },
         {
          "line": {
           "color": "rgb(55, 128, 191)",
           "width": 1.5
          },
          "type": "line",
          "x0": 12,
          "x1": 12,
          "y0": 401.25,
          "y1": 401.25
         },
         {
          "line": {
           "color": "rgb(55, 128, 191)",
           "width": 1.5
          },
          "type": "line",
          "x0": 13,
          "x1": 13,
          "y0": 402.75,
          "y1": 403.25
         },
         {
          "line": {
           "color": "rgb(55, 128, 191)",
           "width": 1.5
          },
          "type": "line",
          "x0": 14,
          "x1": 14,
          "y0": 402.25,
          "y1": 404.25
         },
         {
          "line": {
           "color": "rgb(55, 128, 191)",
           "width": 1.5
          },
          "type": "line",
          "x0": 15,
          "x1": 15,
          "y0": 401.25,
          "y1": 402.75
         },
         {
          "line": {
           "color": "rgb(55, 128, 191)",
           "width": 1.5
          },
          "type": "line",
          "x0": 16,
          "x1": 16,
          "y0": 404,
          "y1": 404.5
         },
         {
          "line": {
           "color": "rgb(55, 128, 191)",
           "width": 1.5
          },
          "type": "line",
          "x0": 17,
          "x1": 17,
          "y0": 403.5,
          "y1": 404
         },
         {
          "line": {
           "color": "rgb(55, 128, 191)",
           "width": 1.5
          },
          "type": "line",
          "x0": 18,
          "x1": 18,
          "y0": 399.25,
          "y1": 400.5
         },
         {
          "line": {
           "color": "rgb(55, 128, 191)",
           "width": 1.5
          },
          "type": "line",
          "x0": 19,
          "x1": 19,
          "y0": 397.75,
          "y1": 398.25
         },
         {
          "line": {
           "color": "rgb(55, 128, 191)",
           "width": 1.5
          },
          "type": "line",
          "x0": 20,
          "x1": 20,
          "y0": 397.75,
          "y1": 398.5
         },
         {
          "line": {
           "color": "rgb(55, 128, 191)",
           "width": 1.5
          },
          "type": "line",
          "x0": 21,
          "x1": 21,
          "y0": 397,
          "y1": 399.75
         },
         {
          "line": {
           "color": "rgb(55, 128, 191)",
           "width": 1.5
          },
          "type": "line",
          "x0": 22,
          "x1": 22,
          "y0": 399.5,
          "y1": 400
         },
         {
          "line": {
           "color": "rgb(55, 128, 191)",
           "width": 1.5
          },
          "type": "line",
          "x0": 23,
          "x1": 23,
          "y0": 402.75,
          "y1": 402.75
         },
         {
          "line": {
           "color": "rgb(55, 128, 191)",
           "width": 1.5
          },
          "type": "line",
          "x0": 24,
          "x1": 24,
          "y0": 402.25,
          "y1": 403.25
         },
         {
          "line": {
           "color": "rgb(55, 128, 191)",
           "width": 1.5
          },
          "type": "line",
          "x0": 25,
          "x1": 25,
          "y0": 402,
          "y1": 403.25
         },
         {
          "line": {
           "color": "rgb(55, 128, 191)",
           "width": 1.5
          },
          "type": "line",
          "x0": 26,
          "x1": 26,
          "y0": 400,
          "y1": 400.5
         },
         {
          "line": {
           "color": "rgb(55, 128, 191)",
           "width": 1.5
          },
          "type": "line",
          "x0": 27,
          "x1": 27,
          "y0": 401,
          "y1": 401.25
         },
         {
          "line": {
           "color": "rgb(55, 128, 191)",
           "width": 1.5
          },
          "type": "line",
          "x0": 28,
          "x1": 28,
          "y0": 400.5,
          "y1": 400.75
         },
         {
          "line": {
           "color": "rgb(55, 128, 191)",
           "width": 1.5
          },
          "type": "line",
          "x0": 29,
          "x1": 29,
          "y0": 399.25,
          "y1": 401.75
         },
         {
          "line": {
           "color": "rgb(55, 128, 191)",
           "width": 1.5
          },
          "type": "line",
          "x0": 30,
          "x1": 30,
          "y0": 403.25,
          "y1": 403.25
         },
         {
          "line": {
           "color": "rgb(55, 128, 191)",
           "width": 1.5
          },
          "type": "line",
          "x0": 31,
          "x1": 31,
          "y0": 402.75,
          "y1": 402.75
         },
         {
          "line": {
           "color": "rgb(55, 128, 191)",
           "width": 1.5
          },
          "type": "line",
          "x0": 32,
          "x1": 32,
          "y0": 395,
          "y1": 395.25
         },
         {
          "line": {
           "color": "rgb(55, 128, 191)",
           "width": 1.5
          },
          "type": "line",
          "x0": 33,
          "x1": 33,
          "y0": 397.25,
          "y1": 397.5
         },
         {
          "line": {
           "color": "rgb(55, 128, 191)",
           "width": 1.5
          },
          "type": "line",
          "x0": 34,
          "x1": 34,
          "y0": 395.75,
          "y1": 398.25
         },
         {
          "line": {
           "color": "rgb(55, 128, 191)",
           "width": 1.5
          },
          "type": "line",
          "x0": 35,
          "x1": 35,
          "y0": 394.75,
          "y1": 395.25
         },
         {
          "line": {
           "color": "rgb(55, 128, 191)",
           "width": 1.5
          },
          "type": "line",
          "x0": 36,
          "x1": 36,
          "y0": 391.5,
          "y1": 392.75
         },
         {
          "line": {
           "color": "rgb(55, 128, 191)",
           "width": 1.5
          },
          "type": "line",
          "x0": 37,
          "x1": 37,
          "y0": 390.5,
          "y1": 391.75
         },
         {
          "line": {
           "color": "rgb(55, 128, 191)",
           "width": 1.5
          },
          "type": "line",
          "x0": 38,
          "x1": 38,
          "y0": 392.75,
          "y1": 394
         },
         {
          "line": {
           "color": "rgb(55, 128, 191)",
           "width": 1.5
          },
          "type": "line",
          "x0": 39,
          "x1": 39,
          "y0": 392,
          "y1": 393.5
         },
         {
          "line": {
           "color": "rgb(55, 128, 191)",
           "width": 1.5
          },
          "type": "line",
          "x0": 40,
          "x1": 40,
          "y0": 390.75,
          "y1": 392
         },
         {
          "line": {
           "color": "rgb(55, 128, 191)",
           "width": 1.5
          },
          "type": "line",
          "x0": 41,
          "x1": 41,
          "y0": 392.25,
          "y1": 392.5
         },
         {
          "line": {
           "color": "rgb(55, 128, 191)",
           "width": 1.5
          },
          "type": "line",
          "x0": 42,
          "x1": 42,
          "y0": 391.75,
          "y1": 392
         },
         {
          "line": {
           "color": "rgb(55, 128, 191)",
           "width": 1.5
          },
          "type": "line",
          "x0": 43,
          "x1": 43,
          "y0": 389.25,
          "y1": 390.75
         },
         {
          "line": {
           "color": "rgb(55, 128, 191)",
           "width": 1.5
          },
          "type": "line",
          "x0": 44,
          "x1": 44,
          "y0": 390.25,
          "y1": 390.75
         },
         {
          "line": {
           "color": "rgb(55, 128, 191)",
           "width": 1.5
          },
          "type": "line",
          "x0": 45,
          "x1": 45,
          "y0": 389.75,
          "y1": 390
         },
         {
          "line": {
           "color": "rgb(55, 128, 191)",
           "width": 1.5
          },
          "type": "line",
          "x0": 46,
          "x1": 46,
          "y0": 388.5,
          "y1": 389.75
         },
         {
          "line": {
           "color": "rgb(55, 128, 191)",
           "width": 1.5
          },
          "type": "line",
          "x0": 47,
          "x1": 47,
          "y0": 390.5,
          "y1": 390.5
         },
         {
          "line": {
           "color": "rgb(55, 128, 191)",
           "width": 1.5
          },
          "type": "line",
          "x0": 48,
          "x1": 48,
          "y0": 390,
          "y1": 390
         },
         {
          "line": {
           "color": "rgb(55, 128, 191)",
           "width": 1.5
          },
          "type": "line",
          "x0": 49,
          "x1": 49,
          "y0": 388.5,
          "y1": 389
         },
         {
          "line": {
           "color": "rgb(55, 128, 191)",
           "width": 1.5
          },
          "type": "line",
          "x0": 50,
          "x1": 50,
          "y0": 385.25,
          "y1": 387
         },
         {
          "line": {
           "color": "rgb(55, 128, 191)",
           "width": 1.5
          },
          "type": "line",
          "x0": 51,
          "x1": 51,
          "y0": 382.75,
          "y1": 382.75
         },
         {
          "line": {
           "color": "rgb(55, 128, 191)",
           "width": 1.5
          },
          "type": "line",
          "x0": 52,
          "x1": 52,
          "y0": 380.5,
          "y1": 382
         },
         {
          "line": {
           "color": "rgb(55, 128, 191)",
           "width": 1.5
          },
          "type": "line",
          "x0": 53,
          "x1": 53,
          "y0": 379.75,
          "y1": 382
         },
         {
          "line": {
           "color": "rgb(55, 128, 191)",
           "width": 1.5
          },
          "type": "line",
          "x0": 54,
          "x1": 54,
          "y0": 378.25,
          "y1": 378.5
         },
         {
          "line": {
           "color": "rgb(55, 128, 191)",
           "width": 1.5
          },
          "type": "line",
          "x0": 55,
          "x1": 55,
          "y0": 373,
          "y1": 373.5
         },
         {
          "line": {
           "color": "rgb(55, 128, 191)",
           "width": 1.5
          },
          "type": "line",
          "x0": 56,
          "x1": 56,
          "y0": 378.5,
          "y1": 379.25
         },
         {
          "line": {
           "color": "rgb(55, 128, 191)",
           "width": 1.5
          },
          "type": "line",
          "x0": 57,
          "x1": 57,
          "y0": 383.75,
          "y1": 386.25
         },
         {
          "line": {
           "color": "rgb(55, 128, 191)",
           "width": 1.5
          },
          "type": "line",
          "x0": 58,
          "x1": 58,
          "y0": 386.25,
          "y1": 387.75
         },
         {
          "line": {
           "color": "rgb(55, 128, 191)",
           "width": 1.5
          },
          "type": "line",
          "x0": 59,
          "x1": 59,
          "y0": 385.25,
          "y1": 386
         },
         {
          "line": {
           "color": "rgb(55, 128, 191)",
           "width": 1.5
          },
          "type": "line",
          "x0": 60,
          "x1": 60,
          "y0": 382.5,
          "y1": 384.25
         },
         {
          "line": {
           "color": "rgb(55, 128, 191)",
           "width": 1.5
          },
          "type": "line",
          "x0": 61,
          "x1": 61,
          "y0": 375,
          "y1": 377.25
         },
         {
          "line": {
           "color": "rgb(55, 128, 191)",
           "width": 1.5
          },
          "type": "line",
          "x0": 62,
          "x1": 62,
          "y0": 379.5,
          "y1": 381.25
         },
         {
          "line": {
           "color": "rgb(55, 128, 191)",
           "width": 1.5
          },
          "type": "line",
          "x0": 63,
          "x1": 63,
          "y0": 379.25,
          "y1": 379.25
         },
         {
          "line": {
           "color": "rgb(55, 128, 191)",
           "width": 1.5
          },
          "type": "line",
          "x0": 64,
          "x1": 64,
          "y0": 375,
          "y1": 375.25
         },
         {
          "line": {
           "color": "rgb(55, 128, 191)",
           "width": 1.5
          },
          "type": "line",
          "x0": 65,
          "x1": 65,
          "y0": 368.5,
          "y1": 374.5
         },
         {
          "line": {
           "color": "rgb(55, 128, 191)",
           "width": 1.5
          },
          "type": "line",
          "x0": 66,
          "x1": 66,
          "y0": 365.75,
          "y1": 370.75
         },
         {
          "line": {
           "color": "rgb(55, 128, 191)",
           "width": 1.5
          },
          "type": "line",
          "x0": 67,
          "x1": 67,
          "y0": 358.75,
          "y1": 360.5
         },
         {
          "line": {
           "color": "rgb(55, 128, 191)",
           "width": 1.5
          },
          "type": "line",
          "x0": 68,
          "x1": 68,
          "y0": 349.75,
          "y1": 350.75
         },
         {
          "line": {
           "color": "rgb(55, 128, 191)",
           "width": 1.5
          },
          "type": "line",
          "x0": 69,
          "x1": 69,
          "y0": 351,
          "y1": 360
         },
         {
          "line": {
           "color": "rgb(55, 128, 191)",
           "width": 1.5
          },
          "type": "line",
          "x0": 70,
          "x1": 70,
          "y0": 351.5,
          "y1": 360.75
         },
         {
          "line": {
           "color": "rgb(55, 128, 191)",
           "width": 1.5
          },
          "type": "line",
          "x0": 71,
          "x1": 71,
          "y0": 349.5,
          "y1": 351.25
         },
         {
          "line": {
           "color": "rgb(55, 128, 191)",
           "width": 1.5
          },
          "type": "line",
          "x0": 72,
          "x1": 72,
          "y0": 352,
          "y1": 355.5
         },
         {
          "line": {
           "color": "rgb(55, 128, 191)",
           "width": 1.5
          },
          "type": "line",
          "x0": 73,
          "x1": 73,
          "y0": 353.5,
          "y1": 356.75
         },
         {
          "line": {
           "color": "rgb(55, 128, 191)",
           "width": 1.5
          },
          "type": "line",
          "x0": 74,
          "x1": 74,
          "y0": 354.25,
          "y1": 354.75
         },
         {
          "line": {
           "color": "rgb(55, 128, 191)",
           "width": 1.5
          },
          "type": "line",
          "x0": 75,
          "x1": 75,
          "y0": 354.25,
          "y1": 355.75
         },
         {
          "line": {
           "color": "rgb(55, 128, 191)",
           "width": 1.5
          },
          "type": "line",
          "x0": 76,
          "x1": 76,
          "y0": 348.5,
          "y1": 352.25
         },
         {
          "line": {
           "color": "rgb(55, 128, 191)",
           "width": 1.5
          },
          "type": "line",
          "x0": 77,
          "x1": 77,
          "y0": 347.75,
          "y1": 350.25
         },
         {
          "line": {
           "color": "rgb(55, 128, 191)",
           "width": 1.5
          },
          "type": "line",
          "x0": 78,
          "x1": 78,
          "y0": 346.25,
          "y1": 347.5
         },
         {
          "line": {
           "color": "rgb(55, 128, 191)",
           "width": 1.5
          },
          "type": "line",
          "x0": 79,
          "x1": 79,
          "y0": 339,
          "y1": 346.75
         },
         {
          "line": {
           "color": "rgb(55, 128, 191)",
           "width": 1.5
          },
          "type": "line",
          "x0": 80,
          "x1": 80,
          "y0": 339.25,
          "y1": 343.5
         },
         {
          "line": {
           "color": "rgb(55, 128, 191)",
           "width": 1.5
          },
          "type": "line",
          "x0": 81,
          "x1": 81,
          "y0": 335.25,
          "y1": 337.25
         },
         {
          "line": {
           "color": "rgb(55, 128, 191)",
           "width": 1.5
          },
          "type": "line",
          "x0": 82,
          "x1": 82,
          "y0": 337.25,
          "y1": 340.5
         },
         {
          "line": {
           "color": "rgb(55, 128, 191)",
           "width": 1.5
          },
          "type": "line",
          "x0": 83,
          "x1": 83,
          "y0": 337.75,
          "y1": 339.5
         },
         {
          "line": {
           "color": "rgb(55, 128, 191)",
           "width": 1.5
          },
          "type": "line",
          "x0": 84,
          "x1": 84,
          "y0": 336.75,
          "y1": 338.75
         },
         {
          "line": {
           "color": "rgb(55, 128, 191)",
           "width": 1.5
          },
          "type": "line",
          "x0": 85,
          "x1": 85,
          "y0": 337,
          "y1": 338.75
         },
         {
          "line": {
           "color": "rgb(55, 128, 191)",
           "width": 1.5
          },
          "type": "line",
          "x0": 86,
          "x1": 86,
          "y0": 336.25,
          "y1": 337.5
         },
         {
          "line": {
           "color": "rgb(55, 128, 191)",
           "width": 1.5
          },
          "type": "line",
          "x0": 87,
          "x1": 87,
          "y0": 332.25,
          "y1": 333
         },
         {
          "line": {
           "color": "rgb(55, 128, 191)",
           "width": 1.5
          },
          "type": "line",
          "x0": 88,
          "x1": 88,
          "y0": 326.5,
          "y1": 329.75
         },
         {
          "line": {
           "color": "rgb(55, 128, 191)",
           "width": 1.5
          },
          "type": "line",
          "x0": 89,
          "x1": 89,
          "y0": 329.25,
          "y1": 332
         },
         {
          "line": {
           "color": "rgb(55, 128, 191)",
           "width": 1.5
          },
          "type": "line",
          "x0": 90,
          "x1": 90,
          "y0": 329.25,
          "y1": 329.75
         },
         {
          "line": {
           "color": "rgb(55, 128, 191)",
           "width": 1.5
          },
          "type": "line",
          "x0": 91,
          "x1": 91,
          "y0": 322.25,
          "y1": 323.25
         },
         {
          "line": {
           "color": "rgb(55, 128, 191)",
           "width": 1.5
          },
          "type": "line",
          "x0": 92,
          "x1": 92,
          "y0": 324.75,
          "y1": 327.5
         },
         {
          "line": {
           "color": "rgb(55, 128, 191)",
           "width": 1.5
          },
          "type": "line",
          "x0": 93,
          "x1": 93,
          "y0": 326,
          "y1": 331
         },
         {
          "line": {
           "color": "rgb(55, 128, 191)",
           "width": 1.5
          },
          "type": "line",
          "x0": 94,
          "x1": 94,
          "y0": 326.25,
          "y1": 327.75
         },
         {
          "line": {
           "color": "rgb(55, 128, 191)",
           "width": 1.5
          },
          "type": "line",
          "x0": 95,
          "x1": 95,
          "y0": 322,
          "y1": 323
         },
         {
          "line": {
           "color": "rgb(55, 128, 191)",
           "width": 1.5
          },
          "type": "line",
          "x0": 96,
          "x1": 96,
          "y0": 313.25,
          "y1": 316.5
         },
         {
          "line": {
           "color": "rgb(55, 128, 191)",
           "width": 1.5
          },
          "type": "line",
          "x0": 97,
          "x1": 97,
          "y0": 314.5,
          "y1": 318
         },
         {
          "line": {
           "color": "rgb(55, 128, 191)",
           "width": 1.5
          },
          "type": "line",
          "x0": 98,
          "x1": 98,
          "y0": 320,
          "y1": 322.25
         },
         {
          "line": {
           "color": "rgb(55, 128, 191)",
           "width": 1.5
          },
          "type": "line",
          "x0": 99,
          "x1": 99,
          "y0": 319.5,
          "y1": 320.25
         },
         {
          "line": {
           "color": "rgb(55, 128, 191)",
           "width": 1.5
          },
          "type": "line",
          "x0": 100,
          "x1": 100,
          "y0": 317,
          "y1": 317.25
         },
         {
          "line": {
           "color": "rgb(55, 128, 191)",
           "width": 1.5
          },
          "type": "line",
          "x0": 101,
          "x1": 101,
          "y0": 317,
          "y1": 318.5
         },
         {
          "line": {
           "color": "rgb(55, 128, 191)",
           "width": 1.5
          },
          "type": "line",
          "x0": 102,
          "x1": 102,
          "y0": 318,
          "y1": 318.25
         },
         {
          "line": {
           "color": "rgb(55, 128, 191)",
           "width": 1.5
          },
          "type": "line",
          "x0": 103,
          "x1": 103,
          "y0": 318,
          "y1": 320.5
         },
         {
          "line": {
           "color": "rgb(55, 128, 191)",
           "width": 1.5
          },
          "type": "line",
          "x0": 104,
          "x1": 104,
          "y0": 319.25,
          "y1": 323
         },
         {
          "line": {
           "color": "rgb(55, 128, 191)",
           "width": 1.5
          },
          "type": "line",
          "x0": 105,
          "x1": 105,
          "y0": 320.75,
          "y1": 322.75
         },
         {
          "line": {
           "color": "rgb(55, 128, 191)",
           "width": 1.5
          },
          "type": "line",
          "x0": 106,
          "x1": 106,
          "y0": 322.25,
          "y1": 324
         },
         {
          "line": {
           "color": "rgb(55, 128, 191)",
           "width": 1.5
          },
          "type": "line",
          "x0": 107,
          "x1": 107,
          "y0": 322,
          "y1": 322
         },
         {
          "line": {
           "color": "rgb(55, 128, 191)",
           "width": 1.5
          },
          "type": "line",
          "x0": 108,
          "x1": 108,
          "y0": 318.25,
          "y1": 319.25
         },
         {
          "line": {
           "color": "rgb(55, 128, 191)",
           "width": 1.5
          },
          "type": "line",
          "x0": 109,
          "x1": 109,
          "y0": 319.25,
          "y1": 320.5
         },
         {
          "line": {
           "color": "rgb(55, 128, 191)",
           "width": 1.5
          },
          "type": "line",
          "x0": 110,
          "x1": 110,
          "y0": 320.75,
          "y1": 322
         },
         {
          "line": {
           "color": "rgb(55, 128, 191)",
           "width": 1.5
          },
          "type": "line",
          "x0": 111,
          "x1": 111,
          "y0": 321.25,
          "y1": 325.5
         },
         {
          "line": {
           "color": "rgb(55, 128, 191)",
           "width": 1.5
          },
          "type": "line",
          "x0": 112,
          "x1": 112,
          "y0": 321.25,
          "y1": 321.5
         },
         {
          "line": {
           "color": "rgb(55, 128, 191)",
           "width": 1.5
          },
          "type": "line",
          "x0": 113,
          "x1": 113,
          "y0": 319,
          "y1": 320.25
         },
         {
          "line": {
           "color": "rgb(55, 128, 191)",
           "width": 1.5
          },
          "type": "line",
          "x0": 114,
          "x1": 114,
          "y0": 318,
          "y1": 319
         },
         {
          "line": {
           "color": "rgb(55, 128, 191)",
           "width": 1.5
          },
          "type": "line",
          "x0": 115,
          "x1": 115,
          "y0": 319,
          "y1": 323
         },
         {
          "line": {
           "color": "rgb(55, 128, 191)",
           "width": 1.5
          },
          "type": "line",
          "x0": 116,
          "x1": 116,
          "y0": 320.5,
          "y1": 321.75
         },
         {
          "line": {
           "color": "rgb(55, 128, 191)",
           "width": 1.5
          },
          "type": "line",
          "x0": 117,
          "x1": 117,
          "y0": 327.5,
          "y1": 330.75
         },
         {
          "line": {
           "color": "rgb(55, 128, 191)",
           "width": 1.5
          },
          "type": "line",
          "x0": 118,
          "x1": 118,
          "y0": 327.5,
          "y1": 329.5
         },
         {
          "line": {
           "color": "rgb(55, 128, 191)",
           "width": 1.5
          },
          "type": "line",
          "x0": 119,
          "x1": 119,
          "y0": 325.5,
          "y1": 327.75
         },
         {
          "line": {
           "color": "rgb(55, 128, 191)",
           "width": 1.5
          },
          "type": "line",
          "x0": 120,
          "x1": 120,
          "y0": 324.25,
          "y1": 325.25
         }
        ],
        "showlegend": false,
        "spikedistance": 1000,
        "template": {
         "data": {
          "bar": [
           {
            "error_x": {
             "color": "#2a3f5f"
            },
            "error_y": {
             "color": "#2a3f5f"
            },
            "marker": {
             "line": {
              "color": "#E5ECF6",
              "width": 0.5
             }
            },
            "type": "bar"
           }
          ],
          "barpolar": [
           {
            "marker": {
             "line": {
              "color": "#E5ECF6",
              "width": 0.5
             }
            },
            "type": "barpolar"
           }
          ],
          "carpet": [
           {
            "aaxis": {
             "endlinecolor": "#2a3f5f",
             "gridcolor": "white",
             "linecolor": "white",
             "minorgridcolor": "white",
             "startlinecolor": "#2a3f5f"
            },
            "baxis": {
             "endlinecolor": "#2a3f5f",
             "gridcolor": "white",
             "linecolor": "white",
             "minorgridcolor": "white",
             "startlinecolor": "#2a3f5f"
            },
            "type": "carpet"
           }
          ],
          "choropleth": [
           {
            "colorbar": {
             "outlinewidth": 0,
             "ticks": ""
            },
            "type": "choropleth"
           }
          ],
          "contour": [
           {
            "colorbar": {
             "outlinewidth": 0,
             "ticks": ""
            },
            "colorscale": [
             [
              0,
              "#0d0887"
             ],
             [
              0.1111111111111111,
              "#46039f"
             ],
             [
              0.2222222222222222,
              "#7201a8"
             ],
             [
              0.3333333333333333,
              "#9c179e"
             ],
             [
              0.4444444444444444,
              "#bd3786"
             ],
             [
              0.5555555555555556,
              "#d8576b"
             ],
             [
              0.6666666666666666,
              "#ed7953"
             ],
             [
              0.7777777777777778,
              "#fb9f3a"
             ],
             [
              0.8888888888888888,
              "#fdca26"
             ],
             [
              1,
              "#f0f921"
             ]
            ],
            "type": "contour"
           }
          ],
          "contourcarpet": [
           {
            "colorbar": {
             "outlinewidth": 0,
             "ticks": ""
            },
            "type": "contourcarpet"
           }
          ],
          "heatmap": [
           {
            "colorbar": {
             "outlinewidth": 0,
             "ticks": ""
            },
            "colorscale": [
             [
              0,
              "#0d0887"
             ],
             [
              0.1111111111111111,
              "#46039f"
             ],
             [
              0.2222222222222222,
              "#7201a8"
             ],
             [
              0.3333333333333333,
              "#9c179e"
             ],
             [
              0.4444444444444444,
              "#bd3786"
             ],
             [
              0.5555555555555556,
              "#d8576b"
             ],
             [
              0.6666666666666666,
              "#ed7953"
             ],
             [
              0.7777777777777778,
              "#fb9f3a"
             ],
             [
              0.8888888888888888,
              "#fdca26"
             ],
             [
              1,
              "#f0f921"
             ]
            ],
            "type": "heatmap"
           }
          ],
          "heatmapgl": [
           {
            "colorbar": {
             "outlinewidth": 0,
             "ticks": ""
            },
            "colorscale": [
             [
              0,
              "#0d0887"
             ],
             [
              0.1111111111111111,
              "#46039f"
             ],
             [
              0.2222222222222222,
              "#7201a8"
             ],
             [
              0.3333333333333333,
              "#9c179e"
             ],
             [
              0.4444444444444444,
              "#bd3786"
             ],
             [
              0.5555555555555556,
              "#d8576b"
             ],
             [
              0.6666666666666666,
              "#ed7953"
             ],
             [
              0.7777777777777778,
              "#fb9f3a"
             ],
             [
              0.8888888888888888,
              "#fdca26"
             ],
             [
              1,
              "#f0f921"
             ]
            ],
            "type": "heatmapgl"
           }
          ],
          "histogram": [
           {
            "marker": {
             "colorbar": {
              "outlinewidth": 0,
              "ticks": ""
             }
            },
            "type": "histogram"
           }
          ],
          "histogram2d": [
           {
            "colorbar": {
             "outlinewidth": 0,
             "ticks": ""
            },
            "colorscale": [
             [
              0,
              "#0d0887"
             ],
             [
              0.1111111111111111,
              "#46039f"
             ],
             [
              0.2222222222222222,
              "#7201a8"
             ],
             [
              0.3333333333333333,
              "#9c179e"
             ],
             [
              0.4444444444444444,
              "#bd3786"
             ],
             [
              0.5555555555555556,
              "#d8576b"
             ],
             [
              0.6666666666666666,
              "#ed7953"
             ],
             [
              0.7777777777777778,
              "#fb9f3a"
             ],
             [
              0.8888888888888888,
              "#fdca26"
             ],
             [
              1,
              "#f0f921"
             ]
            ],
            "type": "histogram2d"
           }
          ],
          "histogram2dcontour": [
           {
            "colorbar": {
             "outlinewidth": 0,
             "ticks": ""
            },
            "colorscale": [
             [
              0,
              "#0d0887"
             ],
             [
              0.1111111111111111,
              "#46039f"
             ],
             [
              0.2222222222222222,
              "#7201a8"
             ],
             [
              0.3333333333333333,
              "#9c179e"
             ],
             [
              0.4444444444444444,
              "#bd3786"
             ],
             [
              0.5555555555555556,
              "#d8576b"
             ],
             [
              0.6666666666666666,
              "#ed7953"
             ],
             [
              0.7777777777777778,
              "#fb9f3a"
             ],
             [
              0.8888888888888888,
              "#fdca26"
             ],
             [
              1,
              "#f0f921"
             ]
            ],
            "type": "histogram2dcontour"
           }
          ],
          "mesh3d": [
           {
            "colorbar": {
             "outlinewidth": 0,
             "ticks": ""
            },
            "type": "mesh3d"
           }
          ],
          "parcoords": [
           {
            "line": {
             "colorbar": {
              "outlinewidth": 0,
              "ticks": ""
             }
            },
            "type": "parcoords"
           }
          ],
          "pie": [
           {
            "automargin": true,
            "type": "pie"
           }
          ],
          "scatter": [
           {
            "marker": {
             "colorbar": {
              "outlinewidth": 0,
              "ticks": ""
             }
            },
            "type": "scatter"
           }
          ],
          "scatter3d": [
           {
            "line": {
             "colorbar": {
              "outlinewidth": 0,
              "ticks": ""
             }
            },
            "marker": {
             "colorbar": {
              "outlinewidth": 0,
              "ticks": ""
             }
            },
            "type": "scatter3d"
           }
          ],
          "scattercarpet": [
           {
            "marker": {
             "colorbar": {
              "outlinewidth": 0,
              "ticks": ""
             }
            },
            "type": "scattercarpet"
           }
          ],
          "scattergeo": [
           {
            "marker": {
             "colorbar": {
              "outlinewidth": 0,
              "ticks": ""
             }
            },
            "type": "scattergeo"
           }
          ],
          "scattergl": [
           {
            "marker": {
             "colorbar": {
              "outlinewidth": 0,
              "ticks": ""
             }
            },
            "type": "scattergl"
           }
          ],
          "scattermapbox": [
           {
            "marker": {
             "colorbar": {
              "outlinewidth": 0,
              "ticks": ""
             }
            },
            "type": "scattermapbox"
           }
          ],
          "scatterpolar": [
           {
            "marker": {
             "colorbar": {
              "outlinewidth": 0,
              "ticks": ""
             }
            },
            "type": "scatterpolar"
           }
          ],
          "scatterpolargl": [
           {
            "marker": {
             "colorbar": {
              "outlinewidth": 0,
              "ticks": ""
             }
            },
            "type": "scatterpolargl"
           }
          ],
          "scatterternary": [
           {
            "marker": {
             "colorbar": {
              "outlinewidth": 0,
              "ticks": ""
             }
            },
            "type": "scatterternary"
           }
          ],
          "surface": [
           {
            "colorbar": {
             "outlinewidth": 0,
             "ticks": ""
            },
            "colorscale": [
             [
              0,
              "#0d0887"
             ],
             [
              0.1111111111111111,
              "#46039f"
             ],
             [
              0.2222222222222222,
              "#7201a8"
             ],
             [
              0.3333333333333333,
              "#9c179e"
             ],
             [
              0.4444444444444444,
              "#bd3786"
             ],
             [
              0.5555555555555556,
              "#d8576b"
             ],
             [
              0.6666666666666666,
              "#ed7953"
             ],
             [
              0.7777777777777778,
              "#fb9f3a"
             ],
             [
              0.8888888888888888,
              "#fdca26"
             ],
             [
              1,
              "#f0f921"
             ]
            ],
            "type": "surface"
           }
          ],
          "table": [
           {
            "cells": {
             "fill": {
              "color": "#EBF0F8"
             },
             "line": {
              "color": "white"
             }
            },
            "header": {
             "fill": {
              "color": "#C8D4E3"
             },
             "line": {
              "color": "white"
             }
            },
            "type": "table"
           }
          ]
         },
         "layout": {
          "annotationdefaults": {
           "arrowcolor": "#2a3f5f",
           "arrowhead": 0,
           "arrowwidth": 1
          },
          "coloraxis": {
           "colorbar": {
            "outlinewidth": 0,
            "ticks": ""
           }
          },
          "colorscale": {
           "diverging": [
            [
             0,
             "#8e0152"
            ],
            [
             0.1,
             "#c51b7d"
            ],
            [
             0.2,
             "#de77ae"
            ],
            [
             0.3,
             "#f1b6da"
            ],
            [
             0.4,
             "#fde0ef"
            ],
            [
             0.5,
             "#f7f7f7"
            ],
            [
             0.6,
             "#e6f5d0"
            ],
            [
             0.7,
             "#b8e186"
            ],
            [
             0.8,
             "#7fbc41"
            ],
            [
             0.9,
             "#4d9221"
            ],
            [
             1,
             "#276419"
            ]
           ],
           "sequential": [
            [
             0,
             "#0d0887"
            ],
            [
             0.1111111111111111,
             "#46039f"
            ],
            [
             0.2222222222222222,
             "#7201a8"
            ],
            [
             0.3333333333333333,
             "#9c179e"
            ],
            [
             0.4444444444444444,
             "#bd3786"
            ],
            [
             0.5555555555555556,
             "#d8576b"
            ],
            [
             0.6666666666666666,
             "#ed7953"
            ],
            [
             0.7777777777777778,
             "#fb9f3a"
            ],
            [
             0.8888888888888888,
             "#fdca26"
            ],
            [
             1,
             "#f0f921"
            ]
           ],
           "sequentialminus": [
            [
             0,
             "#0d0887"
            ],
            [
             0.1111111111111111,
             "#46039f"
            ],
            [
             0.2222222222222222,
             "#7201a8"
            ],
            [
             0.3333333333333333,
             "#9c179e"
            ],
            [
             0.4444444444444444,
             "#bd3786"
            ],
            [
             0.5555555555555556,
             "#d8576b"
            ],
            [
             0.6666666666666666,
             "#ed7953"
            ],
            [
             0.7777777777777778,
             "#fb9f3a"
            ],
            [
             0.8888888888888888,
             "#fdca26"
            ],
            [
             1,
             "#f0f921"
            ]
           ]
          },
          "colorway": [
           "#636efa",
           "#EF553B",
           "#00cc96",
           "#ab63fa",
           "#FFA15A",
           "#19d3f3",
           "#FF6692",
           "#B6E880",
           "#FF97FF",
           "#FECB52"
          ],
          "font": {
           "color": "#2a3f5f"
          },
          "geo": {
           "bgcolor": "white",
           "lakecolor": "white",
           "landcolor": "#E5ECF6",
           "showlakes": true,
           "showland": true,
           "subunitcolor": "white"
          },
          "hoverlabel": {
           "align": "left"
          },
          "hovermode": "closest",
          "mapbox": {
           "style": "light"
          },
          "paper_bgcolor": "white",
          "plot_bgcolor": "#E5ECF6",
          "polar": {
           "angularaxis": {
            "gridcolor": "white",
            "linecolor": "white",
            "ticks": ""
           },
           "bgcolor": "#E5ECF6",
           "radialaxis": {
            "gridcolor": "white",
            "linecolor": "white",
            "ticks": ""
           }
          },
          "scene": {
           "xaxis": {
            "backgroundcolor": "#E5ECF6",
            "gridcolor": "white",
            "gridwidth": 2,
            "linecolor": "white",
            "showbackground": true,
            "ticks": "",
            "zerolinecolor": "white"
           },
           "yaxis": {
            "backgroundcolor": "#E5ECF6",
            "gridcolor": "white",
            "gridwidth": 2,
            "linecolor": "white",
            "showbackground": true,
            "ticks": "",
            "zerolinecolor": "white"
           },
           "zaxis": {
            "backgroundcolor": "#E5ECF6",
            "gridcolor": "white",
            "gridwidth": 2,
            "linecolor": "white",
            "showbackground": true,
            "ticks": "",
            "zerolinecolor": "white"
           }
          },
          "shapedefaults": {
           "line": {
            "color": "#2a3f5f"
           }
          },
          "ternary": {
           "aaxis": {
            "gridcolor": "white",
            "linecolor": "white",
            "ticks": ""
           },
           "baxis": {
            "gridcolor": "white",
            "linecolor": "white",
            "ticks": ""
           },
           "bgcolor": "#E5ECF6",
           "caxis": {
            "gridcolor": "white",
            "linecolor": "white",
            "ticks": ""
           }
          },
          "title": {
           "x": 0.05
          },
          "xaxis": {
           "automargin": true,
           "gridcolor": "white",
           "linecolor": "white",
           "ticks": "",
           "title": {
            "standoff": 15
           },
           "zerolinecolor": "white",
           "zerolinewidth": 2
          },
          "yaxis": {
           "automargin": true,
           "gridcolor": "white",
           "linecolor": "white",
           "ticks": "",
           "title": {
            "standoff": 15
           },
           "zerolinecolor": "white",
           "zerolinewidth": 2
          }
         }
        },
        "title": {
         "text": "ZCN20",
         "x": 0.5,
         "xanchor": "center",
         "y": 0.9,
         "yanchor": "top"
        },
        "xaxis": {
         "anchor": "y2",
         "showgrid": true,
         "showspikes": true,
         "showticklabels": true,
         "spikedash": "solid",
         "spikemode": "toaxis+across",
         "spikethickness": 1,
         "tickangle": 45,
         "tickmode": "array",
         "ticktext": [
          20191210,
          20191218,
          20191227,
          20200107,
          20200115,
          20200124,
          20200203,
          20200211,
          20200220,
          20200228,
          20200309,
          20200317,
          20200325,
          20200402,
          20200413,
          20200421,
          20200429,
          20200507,
          20200515,
          20200526,
          20200602
         ],
         "tickvals": [
          1,
          7,
          13,
          19,
          25,
          31,
          37,
          43,
          49,
          55,
          61,
          67,
          73,
          79,
          85,
          91,
          97,
          103,
          109,
          115,
          120
         ]
        },
        "yaxis": {
         "domain": [
          0.17,
          1
         ],
         "range": [
          309,
          404.5
         ],
         "showspikes": true,
         "spikedash": "solid",
         "spikemode": "toaxis+across",
         "spikethickness": 1
        },
        "yaxis2": {
         "domain": [
          0,
          0.15
         ],
         "range": [
          0,
          246973
         ]
        }
       }
      },
      "text/html": [
       "<div>\n",
       "        \n",
       "        \n",
       "            <div id=\"98c0c3f5-8a3a-474b-a4e8-28480e4398c7\" class=\"plotly-graph-div\" style=\"height:525px; width:100%;\"></div>\n",
       "            <script type=\"text/javascript\">\n",
       "                require([\"plotly\"], function(Plotly) {\n",
       "                    window.PLOTLYENV=window.PLOTLYENV || {};\n",
       "                    \n",
       "                if (document.getElementById(\"98c0c3f5-8a3a-474b-a4e8-28480e4398c7\")) {\n",
       "                    Plotly.newPlot(\n",
       "                        '98c0c3f5-8a3a-474b-a4e8-28480e4398c7',\n",
       "                        [{\"hoverinfo\": \"text\", \"marker\": {\"symbol\": \"line-ew\"}, \"mode\": \"markers\", \"text\": [\"date: 20191210.0<br>open: 386.25<br>high: 388.75<br>low: 385.5<br>close: 388.0<br>volume: 17814.0\", \"date: 20191211.0<br>open: 387.5<br>high: 387.75<br>low: 383.5<br>close: 383.75<br>volume: 18158.0\", \"date: 20191212.0<br>open: 384.25<br>high: 392.5<br>low: 384.0<br>close: 390.0<br>volume: 28026.0\", \"date: 20191213.0<br>open: 393.5<br>high: 396.75<br>low: 390.0<br>close: 393.75<br>volume: 27317.0\", \"date: 20191216.0<br>open: 395.5<br>high: 401.75<br>low: 395.25<br>close: 400.25<br>volume: 34876.0\", \"date: 20191217.0<br>open: 400.0<br>high: 402.5<br>low: 398.75<br>close: 402.25<br>volume: 22961.0\", \"date: 20191218.0<br>open: 401.5<br>high: 402.0<br>low: 398.5<br>close: 399.5<br>volume: 20540.0\", \"date: 20191219.0<br>open: 399.5<br>high: 401.0<br>low: 397.5<br>close: 398.75<br>volume: 25996.0\", \"date: 20191220.0<br>open: 398.5<br>high: 401.5<br>low: 398.0<br>close: 399.5<br>volume: 16913.0\", \"date: 20191223.0<br>open: 399.5<br>high: 402.25<br>low: 399.0<br>close: 401.25<br>volume: 14132.0\", \"date: 20191224.0<br>open: 400.75<br>high: 401.5<br>low: 399.75<br>close: 400.5<br>volume: 10618.0\", \"date: 20191226.0<br>open: 400.5<br>high: 401.25<br>low: 399.5<br>close: 401.25<br>volume: 6523.0\", \"date: 20191227.0<br>open: 400.75<br>high: 403.25<br>low: 400.75<br>close: 402.75<br>volume: 8773.0\", \"date: 20191230.0<br>open: 402.25<br>high: 404.25<br>low: 400.0<br>close: 401.5<br>volume: 11569.0\", \"date: 20191231.0<br>open: 401.25<br>high: 402.75<br>low: 399.5<br>close: 401.0<br>volume: 16917.0\", \"date: 20200102.0<br>open: 400.75<br>high: 404.5<br>low: 400.5<br>close: 404.0<br>volume: 14335.0\", \"date: 20200103.0<br>open: 403.5<br>high: 404.0<br>low: 398.5<br>close: 399.25<br>volume: 20749.0\", \"date: 20200106.0<br>open: 399.25<br>high: 400.5<br>low: 396.0<br>close: 398.0<br>volume: 24073.0\", \"date: 20200107.0<br>open: 397.75<br>high: 398.25<br>low: 396.0<br>close: 397.75<br>volume: 15094.0\", \"date: 20200108.0<br>open: 396.75<br>high: 398.5<br>low: 395.25<br>close: 397.75<br>volume: 13046.0\", \"date: 20200109.0<br>open: 397.0<br>high: 399.75<br>low: 395.5<br>close: 396.75<br>volume: 34901.0\", \"date: 20200110.0<br>open: 396.5<br>high: 400.0<br>low: 390.25<br>close: 399.5<br>volume: 30461.0\", \"date: 20200113.0<br>open: 399.75<br>high: 402.75<br>low: 398.75<br>close: 402.75<br>volume: 65193.0\", \"date: 20200114.0<br>open: 402.25<br>high: 403.25<br>low: 401.25<br>close: 402.25<br>volume: 35637.0\", \"date: 20200115.0<br>open: 402.0<br>high: 403.25<br>low: 399.5<br>close: 400.5<br>volume: 35628.0\", \"date: 20200116.0<br>open: 400.0<br>high: 400.5<br>low: 388.5<br>close: 389.0<br>volume: 41544.0\", \"date: 20200117.0<br>open: 390.25<br>high: 401.25<br>low: 390.25<br>close: 401.0<br>volume: 44917.0\", \"date: 20200121.0<br>open: 400.5<br>high: 400.75<br>low: 396.5<br>close: 399.25<br>volume: 59836.0\", \"date: 20200122.0<br>open: 399.0<br>high: 401.75<br>low: 397.75<br>close: 399.25<br>volume: 34707.0\", \"date: 20200123.0<br>open: 398.5<br>high: 403.25<br>low: 397.5<br>close: 403.25<br>volume: 32200.0\", \"date: 20200124.0<br>open: 402.75<br>high: 402.75<br>low: 397.0<br>close: 397.75<br>volume: 54946.0\", \"date: 20200127.0<br>open: 395.0<br>high: 395.25<br>low: 389.25<br>close: 392.25<br>volume: 55792.0\", \"date: 20200128.0<br>open: 394.0<br>high: 397.5<br>low: 390.5<br>close: 397.25<br>volume: 65309.0\", \"date: 20200129.0<br>open: 395.75<br>high: 398.25<br>low: 393.25<br>close: 394.5<br>volume: 74912.0\", \"date: 20200130.0<br>open: 394.75<br>high: 395.25<br>low: 388.75<br>close: 389.5<br>volume: 35430.0\", \"date: 20200131.0<br>open: 391.5<br>high: 392.75<br>low: 388.75<br>close: 391.0<br>volume: 31894.0\", \"date: 20200203.0<br>open: 390.5<br>high: 391.75<br>low: 386.75<br>close: 389.5<br>volume: 40035.0\", \"date: 20200204.0<br>open: 389.0<br>high: 394.0<br>low: 389.0<br>close: 392.75<br>volume: 45901.0\", \"date: 20200205.0<br>open: 392.0<br>high: 393.5<br>low: 390.0<br>close: 391.0<br>volume: 44435.0\", \"date: 20200206.0<br>open: 390.75<br>high: 392.0<br>low: 386.75<br>close: 388.0<br>volume: 40835.0\", \"date: 20200207.0<br>open: 388.75<br>high: 392.5<br>low: 388.25<br>close: 392.25<br>volume: 70998.0\", \"date: 20200210.0<br>open: 391.75<br>high: 392.0<br>low: 387.75<br>close: 390.75<br>volume: 54814.0\", \"date: 20200211.0<br>open: 389.25<br>high: 390.75<br>low: 386.5<br>close: 388.25<br>volume: 43449.0\", \"date: 20200212.0<br>open: 388.25<br>high: 390.75<br>low: 387.0<br>close: 390.25<br>volume: 48484.0\", \"date: 20200213.0<br>open: 389.75<br>high: 390.0<br>low: 387.25<br>close: 388.75<br>volume: 57052.0\", \"date: 20200214.0<br>open: 388.5<br>high: 389.75<br>low: 385.0<br>close: 385.5<br>volume: 52087.0\", \"date: 20200218.0<br>open: 386.0<br>high: 390.5<br>low: 385.5<br>close: 390.5<br>volume: 57593.0\", \"date: 20200219.0<br>open: 390.0<br>high: 390.0<br>low: 386.5<br>close: 388.25<br>volume: 53584.0\", \"date: 20200220.0<br>open: 388.5<br>high: 389.0<br>low: 385.25<br>close: 385.5<br>volume: 33527.0\", \"date: 20200221.0<br>open: 385.25<br>high: 387.0<br>low: 383.0<br>close: 383.5<br>volume: 41426.0\", \"date: 20200224.0<br>open: 382.75<br>high: 382.75<br>low: 376.75<br>close: 379.5<br>volume: 49876.0\", \"date: 20200225.0<br>open: 380.5<br>high: 382.0<br>low: 378.25<br>close: 380.0<br>volume: 68309.0\", \"date: 20200226.0<br>open: 379.75<br>high: 382.0<br>low: 377.5<br>close: 378.75<br>volume: 52200.0\", \"date: 20200227.0<br>open: 378.25<br>high: 378.5<br>low: 371.25<br>close: 372.5<br>volume: 84122.0\", \"date: 20200228.0<br>open: 373.0<br>high: 373.5<br>low: 370.0<br>close: 372.5<br>volume: 100416.0\", \"date: 20200302.0<br>open: 372.5<br>high: 379.25<br>low: 371.25<br>close: 378.5<br>volume: 90126.0\", \"date: 20200303.0<br>open: 379.0<br>high: 386.25<br>low: 379.0<br>close: 383.75<br>volume: 64508.0\", \"date: 20200304.0<br>open: 383.25<br>high: 387.75<br>low: 381.25<br>close: 386.25<br>volume: 88487.0\", \"date: 20200305.0<br>open: 385.25<br>high: 386.0<br>low: 381.5<br>close: 383.75<br>volume: 81883.0\", \"date: 20200306.0<br>open: 382.5<br>high: 384.25<br>low: 378.25<br>close: 379.25<br>volume: 83600.0\", \"date: 20200309.0<br>open: 373.5<br>high: 377.25<br>low: 370.0<br>close: 375.0<br>volume: 90857.0\", \"date: 20200310.0<br>open: 376.25<br>high: 381.25<br>low: 376.25<br>close: 379.5<br>volume: 116681.0\", \"date: 20200311.0<br>open: 379.25<br>high: 379.25<br>low: 374.25<br>close: 376.5<br>volume: 71758.0\", \"date: 20200312.0<br>open: 375.0<br>high: 375.25<br>low: 367.5<br>close: 368.75<br>volume: 56325.0\", \"date: 20200313.0<br>open: 368.25<br>high: 374.5<br>low: 366.5<br>close: 368.5<br>volume: 86916.0\", \"date: 20200316.0<br>open: 365.75<br>high: 370.75<br>low: 358.0<br>close: 358.5<br>volume: 106710.0\", \"date: 20200317.0<br>open: 358.75<br>high: 360.5<br>low: 348.75<br>close: 350.0<br>volume: 99848.0\", \"date: 20200318.0<br>open: 349.75<br>high: 350.75<br>low: 338.25<br>close: 341.75<br>volume: 126046.0\", \"date: 20200319.0<br>open: 342.5<br>high: 360.0<br>low: 342.5<br>close: 351.0<br>volume: 175425.0\", \"date: 20200320.0<br>open: 351.5<br>high: 360.75<br>low: 348.5<br>close: 349.5<br>volume: 113867.0\", \"date: 20200323.0<br>open: 346.5<br>high: 351.25<br>low: 344.5<br>close: 349.5<br>volume: 106454.0\", \"date: 20200324.0<br>open: 349.5<br>high: 355.5<br>low: 344.0<br>close: 352.0<br>volume: 53889.0\", \"date: 20200325.0<br>open: 352.0<br>high: 356.75<br>low: 350.75<br>close: 353.5<br>volume: 70737.0\", \"date: 20200326.0<br>open: 353.25<br>high: 354.75<br>low: 350.0<br>close: 354.25<br>volume: 73613.0\", \"date: 20200327.0<br>open: 354.25<br>high: 355.75<br>low: 348.5<br>close: 351.75<br>volume: 76014.0\", \"date: 20200330.0<br>open: 348.5<br>high: 352.25<br>low: 346.0<br>close: 347.5<br>volume: 70652.0\", \"date: 20200331.0<br>open: 347.75<br>high: 350.25<br>low: 339.5<br>close: 346.0<br>volume: 56826.0\", \"date: 20200401.0<br>open: 346.25<br>high: 347.5<br>low: 338.25<br>close: 338.75<br>volume: 154251.0\", \"date: 20200402.0<br>open: 339.0<br>high: 346.75<br>low: 337.5<br>close: 338.5<br>volume: 107320.0\", \"date: 20200403.0<br>open: 339.25<br>high: 343.5<br>low: 334.0<br>close: 336.75<br>volume: 98642.0\", \"date: 20200406.0<br>open: 335.25<br>high: 337.25<br>low: 331.25<br>close: 333.5<br>volume: 109051.0\", \"date: 20200407.0<br>open: 333.5<br>high: 340.5<br>low: 333.5<br>close: 337.25<br>volume: 74091.0\", \"date: 20200408.0<br>open: 337.75<br>high: 339.5<br>low: 333.5<br>close: 335.5<br>volume: 113376.0\", \"date: 20200409.0<br>open: 336.0<br>high: 338.75<br>low: 333.0<br>close: 336.75<br>volume: 134376.0\", \"date: 20200413.0<br>open: 337.0<br>high: 338.75<br>low: 331.25<br>close: 336.25<br>volume: 148850.0\", \"date: 20200414.0<br>open: 336.25<br>high: 337.5<br>low: 332.0<br>close: 332.25<br>volume: 122610.0\", \"date: 20200415.0<br>open: 332.25<br>high: 333.0<br>low: 325.0<br>close: 326.75<br>volume: 186072.0\", \"date: 20200416.0<br>open: 326.5<br>high: 329.75<br>low: 325.0<br>close: 326.25<br>volume: 148923.0\", \"date: 20200417.0<br>open: 326.5<br>high: 332.0<br>low: 326.25<br>close: 329.25<br>volume: 120053.0\", \"date: 20200420.0<br>open: 329.25<br>high: 329.75<br>low: 321.5<br>close: 322.25<br>volume: 95022.0\", \"date: 20200421.0<br>open: 322.25<br>high: 323.25<br>low: 309.0<br>close: 317.25<br>volume: 156913.0\", \"date: 20200422.0<br>open: 317.75<br>high: 327.5<br>low: 316.0<br>close: 324.75<br>volume: 224511.0\", \"date: 20200423.0<br>open: 324.5<br>high: 331.0<br>low: 322.25<br>close: 326.0<br>volume: 184119.0\", \"date: 20200424.0<br>open: 326.25<br>high: 327.75<br>low: 319.0<br>close: 323.0<br>volume: 193359.0\", \"date: 20200427.0<br>open: 322.0<br>high: 323.0<br>low: 312.0<br>close: 313.25<br>volume: 143376.0\", \"date: 20200428.0<br>open: 313.25<br>high: 316.5<br>low: 310.5<br>close: 312.0<br>volume: 175170.0\", \"date: 20200429.0<br>open: 311.75<br>high: 318.0<br>low: 309.25<br>close: 314.5<br>volume: 199148.0\", \"date: 20200430.0<br>open: 315.0<br>high: 322.25<br>low: 312.5<br>close: 320.0<br>volume: 230233.0\", \"date: 20200501.0<br>open: 319.5<br>high: 320.25<br>low: 315.5<br>close: 318.5<br>volume: 176650.0\", \"date: 20200504.0<br>open: 317.0<br>high: 317.25<br>low: 312.25<br>close: 315.5<br>volume: 97847.0\", \"date: 20200505.0<br>open: 315.25<br>high: 318.5<br>low: 314.0<br>close: 317.0<br>volume: 104063.0\", \"date: 20200506.0<br>open: 318.0<br>high: 318.25<br>low: 313.25<br>close: 314.25<br>volume: 105838.0\", \"date: 20200507.0<br>open: 314.0<br>high: 320.5<br>low: 314.0<br>close: 318.0<br>volume: 108455.0\", \"date: 20200508.0<br>open: 318.0<br>high: 323.0<br>low: 317.25<br>close: 319.25<br>volume: 140403.0\", \"date: 20200511.0<br>open: 320.75<br>high: 322.75<br>low: 317.25<br>close: 318.5<br>volume: 111275.0\", \"date: 20200512.0<br>open: 318.25<br>high: 324.0<br>low: 314.5<br>close: 322.25<br>volume: 97781.0\", \"date: 20200513.0<br>open: 322.0<br>high: 322.0<br>low: 317.75<br>close: 318.25<br>volume: 177591.0\", \"date: 20200514.0<br>open: 318.25<br>high: 319.25<br>low: 315.5<br>close: 317.5<br>volume: 120194.0\", \"date: 20200515.0<br>open: 317.75<br>high: 320.5<br>low: 316.75<br>close: 319.25<br>volume: 107147.0\", \"date: 20200518.0<br>open: 320.0<br>high: 322.0<br>low: 318.0<br>close: 320.75<br>volume: 101614.0\", \"date: 20200519.0<br>open: 320.75<br>high: 325.5<br>low: 320.5<br>close: 321.25<br>volume: 99372.0\", \"date: 20200520.0<br>open: 321.25<br>high: 321.5<br>low: 317.25<br>close: 319.5<br>volume: 126375.0\", \"date: 20200521.0<br>open: 319.0<br>high: 320.25<br>low: 316.25<br>close: 317.75<br>volume: 154473.0\", \"date: 20200522.0<br>open: 317.75<br>high: 319.0<br>low: 316.0<br>close: 318.0<br>volume: 115119.0\", \"date: 20200526.0<br>open: 316.75<br>high: 323.0<br>low: 316.5<br>close: 319.0<br>volume: 97188.0\", \"date: 20200527.0<br>open: 320.0<br>high: 321.75<br>low: 319.25<br>close: 320.5<br>volume: 145175.0\", \"date: 20200528.0<br>open: 320.25<br>high: 330.75<br>low: 319.5<br>close: 327.5<br>volume: 78423.0\", \"date: 20200529.0<br>open: 327.5<br>high: 329.5<br>low: 323.25<br>close: 325.75<br>volume: 246973.0\", \"date: 20200601.0<br>open: 325.5<br>high: 327.75<br>low: 319.25<br>close: 323.25<br>volume: 192310.0\", \"date: 20200602.0<br>open: 323.5<br>high: 325.25<br>low: 322.0<br>close: 324.25<br>volume: 151319.0\"], \"type\": \"scattergl\", \"x\": [1, 2, 3, 4, 5, 6, 7, 8, 9, 10, 11, 12, 13, 14, 15, 16, 17, 18, 19, 20, 21, 22, 23, 24, 25, 26, 27, 28, 29, 30, 31, 32, 33, 34, 35, 36, 37, 38, 39, 40, 41, 42, 43, 44, 45, 46, 47, 48, 49, 50, 51, 52, 53, 54, 55, 56, 57, 58, 59, 60, 61, 62, 63, 64, 65, 66, 67, 68, 69, 70, 71, 72, 73, 74, 75, 76, 77, 78, 79, 80, 81, 82, 83, 84, 85, 86, 87, 88, 89, 90, 91, 92, 93, 94, 95, 96, 97, 98, 99, 100, 101, 102, 103, 104, 105, 106, 107, 108, 109, 110, 111, 112, 113, 114, 115, 116, 117, 118, 119, 120], \"xaxis\": \"x\", \"y\": [388.0, 383.75, 390.0, 393.75, 400.25, 402.25, 399.5, 398.75, 399.5, 401.25, 400.5, 401.25, 402.75, 401.5, 401.0, 404.0, 399.25, 398.0, 397.75, 397.75, 396.75, 399.5, 402.75, 402.25, 400.5, 389.0, 401.0, 399.25, 399.25, 403.25, 397.75, 392.25, 397.25, 394.5, 389.5, 391.0, 389.5, 392.75, 391.0, 388.0, 392.25, 390.75, 388.25, 390.25, 388.75, 385.5, 390.5, 388.25, 385.5, 383.5, 379.5, 380.0, 378.75, 372.5, 372.5, 378.5, 383.75, 386.25, 383.75, 379.25, 375.0, 379.5, 376.5, 368.75, 368.5, 358.5, 350.0, 341.75, 351.0, 349.5, 349.5, 352.0, 353.5, 354.25, 351.75, 347.5, 346.0, 338.75, 338.5, 336.75, 333.5, 337.25, 335.5, 336.75, 336.25, 332.25, 326.75, 326.25, 329.25, 322.25, 317.25, 324.75, 326.0, 323.0, 313.25, 312.0, 314.5, 320.0, 318.5, 315.5, 317.0, 314.25, 318.0, 319.25, 318.5, 322.25, 318.25, 317.5, 319.25, 320.75, 321.25, 319.5, 317.75, 318.0, 319.0, 320.5, 327.5, 325.75, 323.25, 324.25], \"yaxis\": \"y\"}, {\"type\": \"bar\", \"width\": 0.5, \"x\": [1, 2, 3, 4, 5, 6, 7, 8, 9, 10, 11, 12, 13, 14, 15, 16, 17, 18, 19, 20, 21, 22, 23, 24, 25, 26, 27, 28, 29, 30, 31, 32, 33, 34, 35, 36, 37, 38, 39, 40, 41, 42, 43, 44, 45, 46, 47, 48, 49, 50, 51, 52, 53, 54, 55, 56, 57, 58, 59, 60, 61, 62, 63, 64, 65, 66, 67, 68, 69, 70, 71, 72, 73, 74, 75, 76, 77, 78, 79, 80, 81, 82, 83, 84, 85, 86, 87, 88, 89, 90, 91, 92, 93, 94, 95, 96, 97, 98, 99, 100, 101, 102, 103, 104, 105, 106, 107, 108, 109, 110, 111, 112, 113, 114, 115, 116, 117, 118, 119, 120], \"xaxis\": \"x\", \"y\": [17814, 18158, 28026, 27317, 34876, 22961, 20540, 25996, 16913, 14132, 10618, 6523, 8773, 11569, 16917, 14335, 20749, 24073, 15094, 13046, 34901, 30461, 65193, 35637, 35628, 41544, 44917, 59836, 34707, 32200, 54946, 55792, 65309, 74912, 35430, 31894, 40035, 45901, 44435, 40835, 70998, 54814, 43449, 48484, 57052, 52087, 57593, 53584, 33527, 41426, 49876, 68309, 52200, 84122, 100416, 90126, 64508, 88487, 81883, 83600, 90857, 116681, 71758, 56325, 86916, 106710, 99848, 126046, 175425, 113867, 106454, 53889, 70737, 73613, 76014, 70652, 56826, 154251, 107320, 98642, 109051, 74091, 113376, 134376, 148850, 122610, 186072, 148923, 120053, 95022, 156913, 224511, 184119, 193359, 143376, 175170, 199148, 230233, 176650, 97847, 104063, 105838, 108455, 140403, 111275, 97781, 177591, 120194, 107147, 101614, 99372, 126375, 154473, 115119, 97188, 145175, 78423, 246973, 192310, 151319], \"yaxis\": \"y2\"}],\n",
       "                        {\"hovermode\": \"x\", \"margin\": {\"t\": 150}, \"modebar\": {\"bgcolor\": \"grey\", \"orientation\": \"v\"}, \"shapes\": [{\"line\": {\"color\": \"rgb(55, 128, 191)\", \"width\": 1.5}, \"type\": \"line\", \"x0\": 1, \"x1\": 1, \"y0\": 385.5, \"y1\": 386.25}, {\"line\": {\"color\": \"rgb(55, 128, 191)\", \"width\": 1.5}, \"type\": \"line\", \"x0\": 2, \"x1\": 2, \"y0\": 383.5, \"y1\": 383.75}, {\"line\": {\"color\": \"rgb(55, 128, 191)\", \"width\": 1.5}, \"type\": \"line\", \"x0\": 3, \"x1\": 3, \"y0\": 384.0, \"y1\": 384.25}, {\"line\": {\"color\": \"rgb(55, 128, 191)\", \"width\": 1.5}, \"type\": \"line\", \"x0\": 4, \"x1\": 4, \"y0\": 390.0, \"y1\": 393.5}, {\"line\": {\"color\": \"rgb(55, 128, 191)\", \"width\": 1.5}, \"type\": \"line\", \"x0\": 5, \"x1\": 5, \"y0\": 395.25, \"y1\": 395.5}, {\"line\": {\"color\": \"rgb(55, 128, 191)\", \"width\": 1.5}, \"type\": \"line\", \"x0\": 6, \"x1\": 6, \"y0\": 398.75, \"y1\": 400.0}, {\"line\": {\"color\": \"rgb(55, 128, 191)\", \"width\": 1.5}, \"type\": \"line\", \"x0\": 7, \"x1\": 7, \"y0\": 398.5, \"y1\": 399.5}, {\"line\": {\"color\": \"rgb(55, 128, 191)\", \"width\": 1.5}, \"type\": \"line\", \"x0\": 8, \"x1\": 8, \"y0\": 397.5, \"y1\": 398.75}, {\"line\": {\"color\": \"rgb(55, 128, 191)\", \"width\": 1.5}, \"type\": \"line\", \"x0\": 9, \"x1\": 9, \"y0\": 398.0, \"y1\": 398.5}, {\"line\": {\"color\": \"rgb(55, 128, 191)\", \"width\": 1.5}, \"type\": \"line\", \"x0\": 10, \"x1\": 10, \"y0\": 399.0, \"y1\": 399.5}, {\"line\": {\"color\": \"rgb(55, 128, 191)\", \"width\": 1.5}, \"type\": \"line\", \"x0\": 11, \"x1\": 11, \"y0\": 399.75, \"y1\": 400.5}, {\"line\": {\"color\": \"rgb(55, 128, 191)\", \"width\": 1.5}, \"type\": \"line\", \"x0\": 12, \"x1\": 12, \"y0\": 399.5, \"y1\": 400.5}, {\"line\": {\"color\": \"rgb(55, 128, 191)\", \"width\": 1.5}, \"type\": \"line\", \"x0\": 13, \"x1\": 13, \"y0\": 400.75, \"y1\": 400.75}, {\"line\": {\"color\": \"rgb(55, 128, 191)\", \"width\": 1.5}, \"type\": \"line\", \"x0\": 14, \"x1\": 14, \"y0\": 400.0, \"y1\": 401.5}, {\"line\": {\"color\": \"rgb(55, 128, 191)\", \"width\": 1.5}, \"type\": \"line\", \"x0\": 15, \"x1\": 15, \"y0\": 399.5, \"y1\": 401.0}, {\"line\": {\"color\": \"rgb(55, 128, 191)\", \"width\": 1.5}, \"type\": \"line\", \"x0\": 16, \"x1\": 16, \"y0\": 400.5, \"y1\": 400.75}, {\"line\": {\"color\": \"rgb(55, 128, 191)\", \"width\": 1.5}, \"type\": \"line\", \"x0\": 17, \"x1\": 17, \"y0\": 398.5, \"y1\": 399.25}, {\"line\": {\"color\": \"rgb(55, 128, 191)\", \"width\": 1.5}, \"type\": \"line\", \"x0\": 18, \"x1\": 18, \"y0\": 396.0, \"y1\": 398.0}, {\"line\": {\"color\": \"rgb(55, 128, 191)\", \"width\": 1.5}, \"type\": \"line\", \"x0\": 19, \"x1\": 19, \"y0\": 396.0, \"y1\": 397.75}, {\"line\": {\"color\": \"rgb(55, 128, 191)\", \"width\": 1.5}, \"type\": \"line\", \"x0\": 20, \"x1\": 20, \"y0\": 395.25, \"y1\": 396.75}, {\"line\": {\"color\": \"rgb(55, 128, 191)\", \"width\": 1.5}, \"type\": \"line\", \"x0\": 21, \"x1\": 21, \"y0\": 395.5, \"y1\": 396.75}, {\"line\": {\"color\": \"rgb(55, 128, 191)\", \"width\": 1.5}, \"type\": \"line\", \"x0\": 22, \"x1\": 22, \"y0\": 390.25, \"y1\": 396.5}, {\"line\": {\"color\": \"rgb(55, 128, 191)\", \"width\": 1.5}, \"type\": \"line\", \"x0\": 23, \"x1\": 23, \"y0\": 398.75, \"y1\": 399.75}, {\"line\": {\"color\": \"rgb(55, 128, 191)\", \"width\": 1.5}, \"type\": \"line\", \"x0\": 24, \"x1\": 24, \"y0\": 401.25, \"y1\": 402.25}, {\"line\": {\"color\": \"rgb(55, 128, 191)\", \"width\": 1.5}, \"type\": \"line\", \"x0\": 25, \"x1\": 25, \"y0\": 399.5, \"y1\": 400.5}, {\"line\": {\"color\": \"rgb(55, 128, 191)\", \"width\": 1.5}, \"type\": \"line\", \"x0\": 26, \"x1\": 26, \"y0\": 388.5, \"y1\": 389.0}, {\"line\": {\"color\": \"rgb(55, 128, 191)\", \"width\": 1.5}, \"type\": \"line\", \"x0\": 27, \"x1\": 27, \"y0\": 390.25, \"y1\": 390.25}, {\"line\": {\"color\": \"rgb(55, 128, 191)\", \"width\": 1.5}, \"type\": \"line\", \"x0\": 28, \"x1\": 28, \"y0\": 396.5, \"y1\": 399.25}, {\"line\": {\"color\": \"rgb(55, 128, 191)\", \"width\": 1.5}, \"type\": \"line\", \"x0\": 29, \"x1\": 29, \"y0\": 397.75, \"y1\": 399.0}, {\"line\": {\"color\": \"rgb(55, 128, 191)\", \"width\": 1.5}, \"type\": \"line\", \"x0\": 30, \"x1\": 30, \"y0\": 397.5, \"y1\": 398.5}, {\"line\": {\"color\": \"rgb(55, 128, 191)\", \"width\": 1.5}, \"type\": \"line\", \"x0\": 31, \"x1\": 31, \"y0\": 397.0, \"y1\": 397.75}, {\"line\": {\"color\": \"rgb(55, 128, 191)\", \"width\": 1.5}, \"type\": \"line\", \"x0\": 32, \"x1\": 32, \"y0\": 389.25, \"y1\": 392.25}, {\"line\": {\"color\": \"rgb(55, 128, 191)\", \"width\": 1.5}, \"type\": \"line\", \"x0\": 33, \"x1\": 33, \"y0\": 390.5, \"y1\": 394.0}, {\"line\": {\"color\": \"rgb(55, 128, 191)\", \"width\": 1.5}, \"type\": \"line\", \"x0\": 34, \"x1\": 34, \"y0\": 393.25, \"y1\": 394.5}, {\"line\": {\"color\": \"rgb(55, 128, 191)\", \"width\": 1.5}, \"type\": \"line\", \"x0\": 35, \"x1\": 35, \"y0\": 388.75, \"y1\": 389.5}, {\"line\": {\"color\": \"rgb(55, 128, 191)\", \"width\": 1.5}, \"type\": \"line\", \"x0\": 36, \"x1\": 36, \"y0\": 388.75, \"y1\": 391.0}, {\"line\": {\"color\": \"rgb(55, 128, 191)\", \"width\": 1.5}, \"type\": \"line\", \"x0\": 37, \"x1\": 37, \"y0\": 386.75, \"y1\": 389.5}, {\"line\": {\"color\": \"rgb(55, 128, 191)\", \"width\": 1.5}, \"type\": \"line\", \"x0\": 38, \"x1\": 38, \"y0\": 389.0, \"y1\": 389.0}, {\"line\": {\"color\": \"rgb(55, 128, 191)\", \"width\": 1.5}, \"type\": \"line\", \"x0\": 39, \"x1\": 39, \"y0\": 390.0, \"y1\": 391.0}, {\"line\": {\"color\": \"rgb(55, 128, 191)\", \"width\": 1.5}, \"type\": \"line\", \"x0\": 40, \"x1\": 40, \"y0\": 386.75, \"y1\": 388.0}, {\"line\": {\"color\": \"rgb(55, 128, 191)\", \"width\": 1.5}, \"type\": \"line\", \"x0\": 41, \"x1\": 41, \"y0\": 388.25, \"y1\": 388.75}, {\"line\": {\"color\": \"rgb(55, 128, 191)\", \"width\": 1.5}, \"type\": \"line\", \"x0\": 42, \"x1\": 42, \"y0\": 387.75, \"y1\": 390.75}, {\"line\": {\"color\": \"rgb(55, 128, 191)\", \"width\": 1.5}, \"type\": \"line\", \"x0\": 43, \"x1\": 43, \"y0\": 386.5, \"y1\": 388.25}, {\"line\": {\"color\": \"rgb(55, 128, 191)\", \"width\": 1.5}, \"type\": \"line\", \"x0\": 44, \"x1\": 44, \"y0\": 387.0, \"y1\": 388.25}, {\"line\": {\"color\": \"rgb(55, 128, 191)\", \"width\": 1.5}, \"type\": \"line\", \"x0\": 45, \"x1\": 45, \"y0\": 387.25, \"y1\": 388.75}, {\"line\": {\"color\": \"rgb(55, 128, 191)\", \"width\": 1.5}, \"type\": \"line\", \"x0\": 46, \"x1\": 46, \"y0\": 385.0, \"y1\": 385.5}, {\"line\": {\"color\": \"rgb(55, 128, 191)\", \"width\": 1.5}, \"type\": \"line\", \"x0\": 47, \"x1\": 47, \"y0\": 385.5, \"y1\": 386.0}, {\"line\": {\"color\": \"rgb(55, 128, 191)\", \"width\": 1.5}, \"type\": \"line\", \"x0\": 48, \"x1\": 48, \"y0\": 386.5, \"y1\": 388.25}, {\"line\": {\"color\": \"rgb(55, 128, 191)\", \"width\": 1.5}, \"type\": \"line\", \"x0\": 49, \"x1\": 49, \"y0\": 385.25, \"y1\": 385.5}, {\"line\": {\"color\": \"rgb(55, 128, 191)\", \"width\": 1.5}, \"type\": \"line\", \"x0\": 50, \"x1\": 50, \"y0\": 383.0, \"y1\": 383.5}, {\"line\": {\"color\": \"rgb(55, 128, 191)\", \"width\": 1.5}, \"type\": \"line\", \"x0\": 51, \"x1\": 51, \"y0\": 376.75, \"y1\": 379.5}, {\"line\": {\"color\": \"rgb(55, 128, 191)\", \"width\": 1.5}, \"type\": \"line\", \"x0\": 52, \"x1\": 52, \"y0\": 378.25, \"y1\": 380.0}, {\"line\": {\"color\": \"rgb(55, 128, 191)\", \"width\": 1.5}, \"type\": \"line\", \"x0\": 53, \"x1\": 53, \"y0\": 377.5, \"y1\": 378.75}, {\"line\": {\"color\": \"rgb(55, 128, 191)\", \"width\": 1.5}, \"type\": \"line\", \"x0\": 54, \"x1\": 54, \"y0\": 371.25, \"y1\": 372.5}, {\"line\": {\"color\": \"rgb(55, 128, 191)\", \"width\": 1.5}, \"type\": \"line\", \"x0\": 55, \"x1\": 55, \"y0\": 370.0, \"y1\": 372.5}, {\"line\": {\"color\": \"rgb(55, 128, 191)\", \"width\": 1.5}, \"type\": \"line\", \"x0\": 56, \"x1\": 56, \"y0\": 371.25, \"y1\": 372.5}, {\"line\": {\"color\": \"rgb(55, 128, 191)\", \"width\": 1.5}, \"type\": \"line\", \"x0\": 57, \"x1\": 57, \"y0\": 379.0, \"y1\": 379.0}, {\"line\": {\"color\": \"rgb(55, 128, 191)\", \"width\": 1.5}, \"type\": \"line\", \"x0\": 58, \"x1\": 58, \"y0\": 381.25, \"y1\": 383.25}, {\"line\": {\"color\": \"rgb(55, 128, 191)\", \"width\": 1.5}, \"type\": \"line\", \"x0\": 59, \"x1\": 59, \"y0\": 381.5, \"y1\": 383.75}, {\"line\": {\"color\": \"rgb(55, 128, 191)\", \"width\": 1.5}, \"type\": \"line\", \"x0\": 60, \"x1\": 60, \"y0\": 378.25, \"y1\": 379.25}, {\"line\": {\"color\": \"rgb(55, 128, 191)\", \"width\": 1.5}, \"type\": \"line\", \"x0\": 61, \"x1\": 61, \"y0\": 370.0, \"y1\": 373.5}, {\"line\": {\"color\": \"rgb(55, 128, 191)\", \"width\": 1.5}, \"type\": \"line\", \"x0\": 62, \"x1\": 62, \"y0\": 376.25, \"y1\": 376.25}, {\"line\": {\"color\": \"rgb(55, 128, 191)\", \"width\": 1.5}, \"type\": \"line\", \"x0\": 63, \"x1\": 63, \"y0\": 374.25, \"y1\": 376.5}, {\"line\": {\"color\": \"rgb(55, 128, 191)\", \"width\": 1.5}, \"type\": \"line\", \"x0\": 64, \"x1\": 64, \"y0\": 367.5, \"y1\": 368.75}, {\"line\": {\"color\": \"rgb(55, 128, 191)\", \"width\": 1.5}, \"type\": \"line\", \"x0\": 65, \"x1\": 65, \"y0\": 366.5, \"y1\": 368.25}, {\"line\": {\"color\": \"rgb(55, 128, 191)\", \"width\": 1.5}, \"type\": \"line\", \"x0\": 66, \"x1\": 66, \"y0\": 358.0, \"y1\": 358.5}, {\"line\": {\"color\": \"rgb(55, 128, 191)\", \"width\": 1.5}, \"type\": \"line\", \"x0\": 67, \"x1\": 67, \"y0\": 348.75, \"y1\": 350.0}, {\"line\": {\"color\": \"rgb(55, 128, 191)\", \"width\": 1.5}, \"type\": \"line\", \"x0\": 68, \"x1\": 68, \"y0\": 338.25, \"y1\": 341.75}, {\"line\": {\"color\": \"rgb(55, 128, 191)\", \"width\": 1.5}, \"type\": \"line\", \"x0\": 69, \"x1\": 69, \"y0\": 342.5, \"y1\": 342.5}, {\"line\": {\"color\": \"rgb(55, 128, 191)\", \"width\": 1.5}, \"type\": \"line\", \"x0\": 70, \"x1\": 70, \"y0\": 348.5, \"y1\": 349.5}, {\"line\": {\"color\": \"rgb(55, 128, 191)\", \"width\": 1.5}, \"type\": \"line\", \"x0\": 71, \"x1\": 71, \"y0\": 344.5, \"y1\": 346.5}, {\"line\": {\"color\": \"rgb(55, 128, 191)\", \"width\": 1.5}, \"type\": \"line\", \"x0\": 72, \"x1\": 72, \"y0\": 344.0, \"y1\": 349.5}, {\"line\": {\"color\": \"rgb(55, 128, 191)\", \"width\": 1.5}, \"type\": \"line\", \"x0\": 73, \"x1\": 73, \"y0\": 350.75, \"y1\": 352.0}, {\"line\": {\"color\": \"rgb(55, 128, 191)\", \"width\": 1.5}, \"type\": \"line\", \"x0\": 74, \"x1\": 74, \"y0\": 350.0, \"y1\": 353.25}, {\"line\": {\"color\": \"rgb(55, 128, 191)\", \"width\": 1.5}, \"type\": \"line\", \"x0\": 75, \"x1\": 75, \"y0\": 348.5, \"y1\": 351.75}, {\"line\": {\"color\": \"rgb(55, 128, 191)\", \"width\": 1.5}, \"type\": \"line\", \"x0\": 76, \"x1\": 76, \"y0\": 346.0, \"y1\": 347.5}, {\"line\": {\"color\": \"rgb(55, 128, 191)\", \"width\": 1.5}, \"type\": \"line\", \"x0\": 77, \"x1\": 77, \"y0\": 339.5, \"y1\": 346.0}, {\"line\": {\"color\": \"rgb(55, 128, 191)\", \"width\": 1.5}, \"type\": \"line\", \"x0\": 78, \"x1\": 78, \"y0\": 338.25, \"y1\": 338.75}, {\"line\": {\"color\": \"rgb(55, 128, 191)\", \"width\": 1.5}, \"type\": \"line\", \"x0\": 79, \"x1\": 79, \"y0\": 337.5, \"y1\": 338.5}, {\"line\": {\"color\": \"rgb(55, 128, 191)\", \"width\": 1.5}, \"type\": \"line\", \"x0\": 80, \"x1\": 80, \"y0\": 334.0, \"y1\": 336.75}, {\"line\": {\"color\": \"rgb(55, 128, 191)\", \"width\": 1.5}, \"type\": \"line\", \"x0\": 81, \"x1\": 81, \"y0\": 331.25, \"y1\": 333.5}, {\"line\": {\"color\": \"rgb(55, 128, 191)\", \"width\": 1.5}, \"type\": \"line\", \"x0\": 82, \"x1\": 82, \"y0\": 333.5, \"y1\": 333.5}, {\"line\": {\"color\": \"rgb(55, 128, 191)\", \"width\": 1.5}, \"type\": \"line\", \"x0\": 83, \"x1\": 83, \"y0\": 333.5, \"y1\": 335.5}, {\"line\": {\"color\": \"rgb(55, 128, 191)\", \"width\": 1.5}, \"type\": \"line\", \"x0\": 84, \"x1\": 84, \"y0\": 333.0, \"y1\": 336.0}, {\"line\": {\"color\": \"rgb(55, 128, 191)\", \"width\": 1.5}, \"type\": \"line\", \"x0\": 85, \"x1\": 85, \"y0\": 331.25, \"y1\": 336.25}, {\"line\": {\"color\": \"rgb(55, 128, 191)\", \"width\": 1.5}, \"type\": \"line\", \"x0\": 86, \"x1\": 86, \"y0\": 332.0, \"y1\": 332.25}, {\"line\": {\"color\": \"rgb(55, 128, 191)\", \"width\": 1.5}, \"type\": \"line\", \"x0\": 87, \"x1\": 87, \"y0\": 325.0, \"y1\": 326.75}, {\"line\": {\"color\": \"rgb(55, 128, 191)\", \"width\": 1.5}, \"type\": \"line\", \"x0\": 88, \"x1\": 88, \"y0\": 325.0, \"y1\": 326.25}, {\"line\": {\"color\": \"rgb(55, 128, 191)\", \"width\": 1.5}, \"type\": \"line\", \"x0\": 89, \"x1\": 89, \"y0\": 326.25, \"y1\": 326.5}, {\"line\": {\"color\": \"rgb(55, 128, 191)\", \"width\": 1.5}, \"type\": \"line\", \"x0\": 90, \"x1\": 90, \"y0\": 321.5, \"y1\": 322.25}, {\"line\": {\"color\": \"rgb(55, 128, 191)\", \"width\": 1.5}, \"type\": \"line\", \"x0\": 91, \"x1\": 91, \"y0\": 309.0, \"y1\": 317.25}, {\"line\": {\"color\": \"rgb(55, 128, 191)\", \"width\": 1.5}, \"type\": \"line\", \"x0\": 92, \"x1\": 92, \"y0\": 316.0, \"y1\": 317.75}, {\"line\": {\"color\": \"rgb(55, 128, 191)\", \"width\": 1.5}, \"type\": \"line\", \"x0\": 93, \"x1\": 93, \"y0\": 322.25, \"y1\": 324.5}, {\"line\": {\"color\": \"rgb(55, 128, 191)\", \"width\": 1.5}, \"type\": \"line\", \"x0\": 94, \"x1\": 94, \"y0\": 319.0, \"y1\": 323.0}, {\"line\": {\"color\": \"rgb(55, 128, 191)\", \"width\": 1.5}, \"type\": \"line\", \"x0\": 95, \"x1\": 95, \"y0\": 312.0, \"y1\": 313.25}, {\"line\": {\"color\": \"rgb(55, 128, 191)\", \"width\": 1.5}, \"type\": \"line\", \"x0\": 96, \"x1\": 96, \"y0\": 310.5, \"y1\": 312.0}, {\"line\": {\"color\": \"rgb(55, 128, 191)\", \"width\": 1.5}, \"type\": \"line\", \"x0\": 97, \"x1\": 97, \"y0\": 309.25, \"y1\": 311.75}, {\"line\": {\"color\": \"rgb(55, 128, 191)\", \"width\": 1.5}, \"type\": \"line\", \"x0\": 98, \"x1\": 98, \"y0\": 312.5, \"y1\": 315.0}, {\"line\": {\"color\": \"rgb(55, 128, 191)\", \"width\": 1.5}, \"type\": \"line\", \"x0\": 99, \"x1\": 99, \"y0\": 315.5, \"y1\": 318.5}, {\"line\": {\"color\": \"rgb(55, 128, 191)\", \"width\": 1.5}, \"type\": \"line\", \"x0\": 100, \"x1\": 100, \"y0\": 312.25, \"y1\": 315.5}, {\"line\": {\"color\": \"rgb(55, 128, 191)\", \"width\": 1.5}, \"type\": \"line\", \"x0\": 101, \"x1\": 101, \"y0\": 314.0, \"y1\": 315.25}, {\"line\": {\"color\": \"rgb(55, 128, 191)\", \"width\": 1.5}, \"type\": \"line\", \"x0\": 102, \"x1\": 102, \"y0\": 313.25, \"y1\": 314.25}, {\"line\": {\"color\": \"rgb(55, 128, 191)\", \"width\": 1.5}, \"type\": \"line\", \"x0\": 103, \"x1\": 103, \"y0\": 314.0, \"y1\": 314.0}, {\"line\": {\"color\": \"rgb(55, 128, 191)\", \"width\": 1.5}, \"type\": \"line\", \"x0\": 104, \"x1\": 104, \"y0\": 317.25, \"y1\": 318.0}, {\"line\": {\"color\": \"rgb(55, 128, 191)\", \"width\": 1.5}, \"type\": \"line\", \"x0\": 105, \"x1\": 105, \"y0\": 317.25, \"y1\": 318.5}, {\"line\": {\"color\": \"rgb(55, 128, 191)\", \"width\": 1.5}, \"type\": \"line\", \"x0\": 106, \"x1\": 106, \"y0\": 314.5, \"y1\": 318.25}, {\"line\": {\"color\": \"rgb(55, 128, 191)\", \"width\": 1.5}, \"type\": \"line\", \"x0\": 107, \"x1\": 107, \"y0\": 317.75, \"y1\": 318.25}, {\"line\": {\"color\": \"rgb(55, 128, 191)\", \"width\": 1.5}, \"type\": \"line\", \"x0\": 108, \"x1\": 108, \"y0\": 315.5, \"y1\": 317.5}, {\"line\": {\"color\": \"rgb(55, 128, 191)\", \"width\": 1.5}, \"type\": \"line\", \"x0\": 109, \"x1\": 109, \"y0\": 316.75, \"y1\": 317.75}, {\"line\": {\"color\": \"rgb(55, 128, 191)\", \"width\": 1.5}, \"type\": \"line\", \"x0\": 110, \"x1\": 110, \"y0\": 318.0, \"y1\": 320.0}, {\"line\": {\"color\": \"rgb(55, 128, 191)\", \"width\": 1.5}, \"type\": \"line\", \"x0\": 111, \"x1\": 111, \"y0\": 320.5, \"y1\": 320.75}, {\"line\": {\"color\": \"rgb(55, 128, 191)\", \"width\": 1.5}, \"type\": \"line\", \"x0\": 112, \"x1\": 112, \"y0\": 317.25, \"y1\": 319.5}, {\"line\": {\"color\": \"rgb(55, 128, 191)\", \"width\": 1.5}, \"type\": \"line\", \"x0\": 113, \"x1\": 113, \"y0\": 316.25, \"y1\": 317.75}, {\"line\": {\"color\": \"rgb(55, 128, 191)\", \"width\": 1.5}, \"type\": \"line\", \"x0\": 114, \"x1\": 114, \"y0\": 316.0, \"y1\": 317.75}, {\"line\": {\"color\": \"rgb(55, 128, 191)\", \"width\": 1.5}, \"type\": \"line\", \"x0\": 115, \"x1\": 115, \"y0\": 316.5, \"y1\": 316.75}, {\"line\": {\"color\": \"rgb(55, 128, 191)\", \"width\": 1.5}, \"type\": \"line\", \"x0\": 116, \"x1\": 116, \"y0\": 319.25, \"y1\": 320.0}, {\"line\": {\"color\": \"rgb(55, 128, 191)\", \"width\": 1.5}, \"type\": \"line\", \"x0\": 117, \"x1\": 117, \"y0\": 319.5, \"y1\": 320.25}, {\"line\": {\"color\": \"rgb(55, 128, 191)\", \"width\": 1.5}, \"type\": \"line\", \"x0\": 118, \"x1\": 118, \"y0\": 323.25, \"y1\": 325.75}, {\"line\": {\"color\": \"rgb(55, 128, 191)\", \"width\": 1.5}, \"type\": \"line\", \"x0\": 119, \"x1\": 119, \"y0\": 319.25, \"y1\": 323.25}, {\"line\": {\"color\": \"rgb(55, 128, 191)\", \"width\": 1.5}, \"type\": \"line\", \"x0\": 120, \"x1\": 120, \"y0\": 322.0, \"y1\": 323.5}, {\"fillcolor\": \"rgba(0, 204, 0, 0.6)\", \"line\": {\"color\": \"rgb(55, 128, 191)\", \"width\": 1}, \"type\": \"rect\", \"x0\": 0.75, \"x1\": 1.25, \"xref\": \"x\", \"y0\": 386.25, \"y1\": 388.0, \"yref\": \"y\"}, {\"fillcolor\": \"rgba(255, 0, 0, 0.6)\", \"line\": {\"color\": \"rgb(55, 128, 191)\", \"width\": 1}, \"type\": \"rect\", \"x0\": 1.75, \"x1\": 2.25, \"xref\": \"x\", \"y0\": 383.75, \"y1\": 387.5, \"yref\": \"y\"}, {\"fillcolor\": \"rgba(0, 204, 0, 0.6)\", \"line\": {\"color\": \"rgb(55, 128, 191)\", \"width\": 1}, \"type\": \"rect\", \"x0\": 2.75, \"x1\": 3.25, \"xref\": \"x\", \"y0\": 384.25, \"y1\": 390.0, \"yref\": \"y\"}, {\"fillcolor\": \"rgba(0, 204, 0, 0.6)\", \"line\": {\"color\": \"rgb(55, 128, 191)\", \"width\": 1}, \"type\": \"rect\", \"x0\": 3.75, \"x1\": 4.25, \"xref\": \"x\", \"y0\": 393.5, \"y1\": 393.75, \"yref\": \"y\"}, {\"fillcolor\": \"rgba(0, 204, 0, 0.6)\", \"line\": {\"color\": \"rgb(55, 128, 191)\", \"width\": 1}, \"type\": \"rect\", \"x0\": 4.75, \"x1\": 5.25, \"xref\": \"x\", \"y0\": 395.5, \"y1\": 400.25, \"yref\": \"y\"}, {\"fillcolor\": \"rgba(0, 204, 0, 0.6)\", \"line\": {\"color\": \"rgb(55, 128, 191)\", \"width\": 1}, \"type\": \"rect\", \"x0\": 5.75, \"x1\": 6.25, \"xref\": \"x\", \"y0\": 400.0, \"y1\": 402.25, \"yref\": \"y\"}, {\"fillcolor\": \"rgba(255, 0, 0, 0.6)\", \"line\": {\"color\": \"rgb(55, 128, 191)\", \"width\": 1}, \"type\": \"rect\", \"x0\": 6.75, \"x1\": 7.25, \"xref\": \"x\", \"y0\": 399.5, \"y1\": 401.5, \"yref\": \"y\"}, {\"fillcolor\": \"rgba(255, 0, 0, 0.6)\", \"line\": {\"color\": \"rgb(55, 128, 191)\", \"width\": 1}, \"type\": \"rect\", \"x0\": 7.75, \"x1\": 8.25, \"xref\": \"x\", \"y0\": 398.75, \"y1\": 399.5, \"yref\": \"y\"}, {\"fillcolor\": \"rgba(0, 204, 0, 0.6)\", \"line\": {\"color\": \"rgb(55, 128, 191)\", \"width\": 1}, \"type\": \"rect\", \"x0\": 8.75, \"x1\": 9.25, \"xref\": \"x\", \"y0\": 398.5, \"y1\": 399.5, \"yref\": \"y\"}, {\"fillcolor\": \"rgba(0, 204, 0, 0.6)\", \"line\": {\"color\": \"rgb(55, 128, 191)\", \"width\": 1}, \"type\": \"rect\", \"x0\": 9.75, \"x1\": 10.25, \"xref\": \"x\", \"y0\": 399.5, \"y1\": 401.25, \"yref\": \"y\"}, {\"fillcolor\": \"rgba(255, 0, 0, 0.6)\", \"line\": {\"color\": \"rgb(55, 128, 191)\", \"width\": 1}, \"type\": \"rect\", \"x0\": 10.75, \"x1\": 11.25, \"xref\": \"x\", \"y0\": 400.5, \"y1\": 400.75, \"yref\": \"y\"}, {\"fillcolor\": \"rgba(0, 204, 0, 0.6)\", \"line\": {\"color\": \"rgb(55, 128, 191)\", \"width\": 1}, \"type\": \"rect\", \"x0\": 11.75, \"x1\": 12.25, \"xref\": \"x\", \"y0\": 400.5, \"y1\": 401.25, \"yref\": \"y\"}, {\"fillcolor\": \"rgba(0, 204, 0, 0.6)\", \"line\": {\"color\": \"rgb(55, 128, 191)\", \"width\": 1}, \"type\": \"rect\", \"x0\": 12.75, \"x1\": 13.25, \"xref\": \"x\", \"y0\": 400.75, \"y1\": 402.75, \"yref\": \"y\"}, {\"fillcolor\": \"rgba(255, 0, 0, 0.6)\", \"line\": {\"color\": \"rgb(55, 128, 191)\", \"width\": 1}, \"type\": \"rect\", \"x0\": 13.75, \"x1\": 14.25, \"xref\": \"x\", \"y0\": 401.5, \"y1\": 402.25, \"yref\": \"y\"}, {\"fillcolor\": \"rgba(255, 0, 0, 0.6)\", \"line\": {\"color\": \"rgb(55, 128, 191)\", \"width\": 1}, \"type\": \"rect\", \"x0\": 14.75, \"x1\": 15.25, \"xref\": \"x\", \"y0\": 401.0, \"y1\": 401.25, \"yref\": \"y\"}, {\"fillcolor\": \"rgba(0, 204, 0, 0.6)\", \"line\": {\"color\": \"rgb(55, 128, 191)\", \"width\": 1}, \"type\": \"rect\", \"x0\": 15.75, \"x1\": 16.25, \"xref\": \"x\", \"y0\": 400.75, \"y1\": 404.0, \"yref\": \"y\"}, {\"fillcolor\": \"rgba(255, 0, 0, 0.6)\", \"line\": {\"color\": \"rgb(55, 128, 191)\", \"width\": 1}, \"type\": \"rect\", \"x0\": 16.75, \"x1\": 17.25, \"xref\": \"x\", \"y0\": 399.25, \"y1\": 403.5, \"yref\": \"y\"}, {\"fillcolor\": \"rgba(255, 0, 0, 0.6)\", \"line\": {\"color\": \"rgb(55, 128, 191)\", \"width\": 1}, \"type\": \"rect\", \"x0\": 17.75, \"x1\": 18.25, \"xref\": \"x\", \"y0\": 398.0, \"y1\": 399.25, \"yref\": \"y\"}, {\"fillcolor\": \"rgba(255, 0, 0, 0.6)\", \"line\": {\"color\": \"rgb(55, 128, 191)\", \"width\": 1}, \"type\": \"rect\", \"x0\": 18.75, \"x1\": 19.25, \"xref\": \"x\", \"y0\": 397.75, \"y1\": 397.75, \"yref\": \"y\"}, {\"fillcolor\": \"rgba(0, 204, 0, 0.6)\", \"line\": {\"color\": \"rgb(55, 128, 191)\", \"width\": 1}, \"type\": \"rect\", \"x0\": 19.75, \"x1\": 20.25, \"xref\": \"x\", \"y0\": 396.75, \"y1\": 397.75, \"yref\": \"y\"}, {\"fillcolor\": \"rgba(255, 0, 0, 0.6)\", \"line\": {\"color\": \"rgb(55, 128, 191)\", \"width\": 1}, \"type\": \"rect\", \"x0\": 20.75, \"x1\": 21.25, \"xref\": \"x\", \"y0\": 396.75, \"y1\": 397.0, \"yref\": \"y\"}, {\"fillcolor\": \"rgba(0, 204, 0, 0.6)\", \"line\": {\"color\": \"rgb(55, 128, 191)\", \"width\": 1}, \"type\": \"rect\", \"x0\": 21.75, \"x1\": 22.25, \"xref\": \"x\", \"y0\": 396.5, \"y1\": 399.5, \"yref\": \"y\"}, {\"fillcolor\": \"rgba(0, 204, 0, 0.6)\", \"line\": {\"color\": \"rgb(55, 128, 191)\", \"width\": 1}, \"type\": \"rect\", \"x0\": 22.75, \"x1\": 23.25, \"xref\": \"x\", \"y0\": 399.75, \"y1\": 402.75, \"yref\": \"y\"}, {\"fillcolor\": \"rgba(255, 0, 0, 0.6)\", \"line\": {\"color\": \"rgb(55, 128, 191)\", \"width\": 1}, \"type\": \"rect\", \"x0\": 23.75, \"x1\": 24.25, \"xref\": \"x\", \"y0\": 402.25, \"y1\": 402.25, \"yref\": \"y\"}, {\"fillcolor\": \"rgba(255, 0, 0, 0.6)\", \"line\": {\"color\": \"rgb(55, 128, 191)\", \"width\": 1}, \"type\": \"rect\", \"x0\": 24.75, \"x1\": 25.25, \"xref\": \"x\", \"y0\": 400.5, \"y1\": 402.0, \"yref\": \"y\"}, {\"fillcolor\": \"rgba(255, 0, 0, 0.6)\", \"line\": {\"color\": \"rgb(55, 128, 191)\", \"width\": 1}, \"type\": \"rect\", \"x0\": 25.75, \"x1\": 26.25, \"xref\": \"x\", \"y0\": 389.0, \"y1\": 400.0, \"yref\": \"y\"}, {\"fillcolor\": \"rgba(0, 204, 0, 0.6)\", \"line\": {\"color\": \"rgb(55, 128, 191)\", \"width\": 1}, \"type\": \"rect\", \"x0\": 26.75, \"x1\": 27.25, \"xref\": \"x\", \"y0\": 390.25, \"y1\": 401.0, \"yref\": \"y\"}, {\"fillcolor\": \"rgba(255, 0, 0, 0.6)\", \"line\": {\"color\": \"rgb(55, 128, 191)\", \"width\": 1}, \"type\": \"rect\", \"x0\": 27.75, \"x1\": 28.25, \"xref\": \"x\", \"y0\": 399.25, \"y1\": 400.5, \"yref\": \"y\"}, {\"fillcolor\": \"rgba(0, 204, 0, 0.6)\", \"line\": {\"color\": \"rgb(55, 128, 191)\", \"width\": 1}, \"type\": \"rect\", \"x0\": 28.75, \"x1\": 29.25, \"xref\": \"x\", \"y0\": 399.0, \"y1\": 399.25, \"yref\": \"y\"}, {\"fillcolor\": \"rgba(0, 204, 0, 0.6)\", \"line\": {\"color\": \"rgb(55, 128, 191)\", \"width\": 1}, \"type\": \"rect\", \"x0\": 29.75, \"x1\": 30.25, \"xref\": \"x\", \"y0\": 398.5, \"y1\": 403.25, \"yref\": \"y\"}, {\"fillcolor\": \"rgba(255, 0, 0, 0.6)\", \"line\": {\"color\": \"rgb(55, 128, 191)\", \"width\": 1}, \"type\": \"rect\", \"x0\": 30.75, \"x1\": 31.25, \"xref\": \"x\", \"y0\": 397.75, \"y1\": 402.75, \"yref\": \"y\"}, {\"fillcolor\": \"rgba(255, 0, 0, 0.6)\", \"line\": {\"color\": \"rgb(55, 128, 191)\", \"width\": 1}, \"type\": \"rect\", \"x0\": 31.75, \"x1\": 32.25, \"xref\": \"x\", \"y0\": 392.25, \"y1\": 395.0, \"yref\": \"y\"}, {\"fillcolor\": \"rgba(0, 204, 0, 0.6)\", \"line\": {\"color\": \"rgb(55, 128, 191)\", \"width\": 1}, \"type\": \"rect\", \"x0\": 32.75, \"x1\": 33.25, \"xref\": \"x\", \"y0\": 394.0, \"y1\": 397.25, \"yref\": \"y\"}, {\"fillcolor\": \"rgba(255, 0, 0, 0.6)\", \"line\": {\"color\": \"rgb(55, 128, 191)\", \"width\": 1}, \"type\": \"rect\", \"x0\": 33.75, \"x1\": 34.25, \"xref\": \"x\", \"y0\": 394.5, \"y1\": 395.75, \"yref\": \"y\"}, {\"fillcolor\": \"rgba(255, 0, 0, 0.6)\", \"line\": {\"color\": \"rgb(55, 128, 191)\", \"width\": 1}, \"type\": \"rect\", \"x0\": 34.75, \"x1\": 35.25, \"xref\": \"x\", \"y0\": 389.5, \"y1\": 394.75, \"yref\": \"y\"}, {\"fillcolor\": \"rgba(255, 0, 0, 0.6)\", \"line\": {\"color\": \"rgb(55, 128, 191)\", \"width\": 1}, \"type\": \"rect\", \"x0\": 35.75, \"x1\": 36.25, \"xref\": \"x\", \"y0\": 391.0, \"y1\": 391.5, \"yref\": \"y\"}, {\"fillcolor\": \"rgba(255, 0, 0, 0.6)\", \"line\": {\"color\": \"rgb(55, 128, 191)\", \"width\": 1}, \"type\": \"rect\", \"x0\": 36.75, \"x1\": 37.25, \"xref\": \"x\", \"y0\": 389.5, \"y1\": 390.5, \"yref\": \"y\"}, {\"fillcolor\": \"rgba(0, 204, 0, 0.6)\", \"line\": {\"color\": \"rgb(55, 128, 191)\", \"width\": 1}, \"type\": \"rect\", \"x0\": 37.75, \"x1\": 38.25, \"xref\": \"x\", \"y0\": 389.0, \"y1\": 392.75, \"yref\": \"y\"}, {\"fillcolor\": \"rgba(255, 0, 0, 0.6)\", \"line\": {\"color\": \"rgb(55, 128, 191)\", \"width\": 1}, \"type\": \"rect\", \"x0\": 38.75, \"x1\": 39.25, \"xref\": \"x\", \"y0\": 391.0, \"y1\": 392.0, \"yref\": \"y\"}, {\"fillcolor\": \"rgba(255, 0, 0, 0.6)\", \"line\": {\"color\": \"rgb(55, 128, 191)\", \"width\": 1}, \"type\": \"rect\", \"x0\": 39.75, \"x1\": 40.25, \"xref\": \"x\", \"y0\": 388.0, \"y1\": 390.75, \"yref\": \"y\"}, {\"fillcolor\": \"rgba(0, 204, 0, 0.6)\", \"line\": {\"color\": \"rgb(55, 128, 191)\", \"width\": 1}, \"type\": \"rect\", \"x0\": 40.75, \"x1\": 41.25, \"xref\": \"x\", \"y0\": 388.75, \"y1\": 392.25, \"yref\": \"y\"}, {\"fillcolor\": \"rgba(255, 0, 0, 0.6)\", \"line\": {\"color\": \"rgb(55, 128, 191)\", \"width\": 1}, \"type\": \"rect\", \"x0\": 41.75, \"x1\": 42.25, \"xref\": \"x\", \"y0\": 390.75, \"y1\": 391.75, \"yref\": \"y\"}, {\"fillcolor\": \"rgba(255, 0, 0, 0.6)\", \"line\": {\"color\": \"rgb(55, 128, 191)\", \"width\": 1}, \"type\": \"rect\", \"x0\": 42.75, \"x1\": 43.25, \"xref\": \"x\", \"y0\": 388.25, \"y1\": 389.25, \"yref\": \"y\"}, {\"fillcolor\": \"rgba(0, 204, 0, 0.6)\", \"line\": {\"color\": \"rgb(55, 128, 191)\", \"width\": 1}, \"type\": \"rect\", \"x0\": 43.75, \"x1\": 44.25, \"xref\": \"x\", \"y0\": 388.25, \"y1\": 390.25, \"yref\": \"y\"}, {\"fillcolor\": \"rgba(255, 0, 0, 0.6)\", \"line\": {\"color\": \"rgb(55, 128, 191)\", \"width\": 1}, \"type\": \"rect\", \"x0\": 44.75, \"x1\": 45.25, \"xref\": \"x\", \"y0\": 388.75, \"y1\": 389.75, \"yref\": \"y\"}, {\"fillcolor\": \"rgba(255, 0, 0, 0.6)\", \"line\": {\"color\": \"rgb(55, 128, 191)\", \"width\": 1}, \"type\": \"rect\", \"x0\": 45.75, \"x1\": 46.25, \"xref\": \"x\", \"y0\": 385.5, \"y1\": 388.5, \"yref\": \"y\"}, {\"fillcolor\": \"rgba(0, 204, 0, 0.6)\", \"line\": {\"color\": \"rgb(55, 128, 191)\", \"width\": 1}, \"type\": \"rect\", \"x0\": 46.75, \"x1\": 47.25, \"xref\": \"x\", \"y0\": 386.0, \"y1\": 390.5, \"yref\": \"y\"}, {\"fillcolor\": \"rgba(255, 0, 0, 0.6)\", \"line\": {\"color\": \"rgb(55, 128, 191)\", \"width\": 1}, \"type\": \"rect\", \"x0\": 47.75, \"x1\": 48.25, \"xref\": \"x\", \"y0\": 388.25, \"y1\": 390.0, \"yref\": \"y\"}, {\"fillcolor\": \"rgba(255, 0, 0, 0.6)\", \"line\": {\"color\": \"rgb(55, 128, 191)\", \"width\": 1}, \"type\": \"rect\", \"x0\": 48.75, \"x1\": 49.25, \"xref\": \"x\", \"y0\": 385.5, \"y1\": 388.5, \"yref\": \"y\"}, {\"fillcolor\": \"rgba(255, 0, 0, 0.6)\", \"line\": {\"color\": \"rgb(55, 128, 191)\", \"width\": 1}, \"type\": \"rect\", \"x0\": 49.75, \"x1\": 50.25, \"xref\": \"x\", \"y0\": 383.5, \"y1\": 385.25, \"yref\": \"y\"}, {\"fillcolor\": \"rgba(255, 0, 0, 0.6)\", \"line\": {\"color\": \"rgb(55, 128, 191)\", \"width\": 1}, \"type\": \"rect\", \"x0\": 50.75, \"x1\": 51.25, \"xref\": \"x\", \"y0\": 379.5, \"y1\": 382.75, \"yref\": \"y\"}, {\"fillcolor\": \"rgba(255, 0, 0, 0.6)\", \"line\": {\"color\": \"rgb(55, 128, 191)\", \"width\": 1}, \"type\": \"rect\", \"x0\": 51.75, \"x1\": 52.25, \"xref\": \"x\", \"y0\": 380.0, \"y1\": 380.5, \"yref\": \"y\"}, {\"fillcolor\": \"rgba(255, 0, 0, 0.6)\", \"line\": {\"color\": \"rgb(55, 128, 191)\", \"width\": 1}, \"type\": \"rect\", \"x0\": 52.75, \"x1\": 53.25, \"xref\": \"x\", \"y0\": 378.75, \"y1\": 379.75, \"yref\": \"y\"}, {\"fillcolor\": \"rgba(255, 0, 0, 0.6)\", \"line\": {\"color\": \"rgb(55, 128, 191)\", \"width\": 1}, \"type\": \"rect\", \"x0\": 53.75, \"x1\": 54.25, \"xref\": \"x\", \"y0\": 372.5, \"y1\": 378.25, \"yref\": \"y\"}, {\"fillcolor\": \"rgba(255, 0, 0, 0.6)\", \"line\": {\"color\": \"rgb(55, 128, 191)\", \"width\": 1}, \"type\": \"rect\", \"x0\": 54.75, \"x1\": 55.25, \"xref\": \"x\", \"y0\": 372.5, \"y1\": 373.0, \"yref\": \"y\"}, {\"fillcolor\": \"rgba(0, 204, 0, 0.6)\", \"line\": {\"color\": \"rgb(55, 128, 191)\", \"width\": 1}, \"type\": \"rect\", \"x0\": 55.75, \"x1\": 56.25, \"xref\": \"x\", \"y0\": 372.5, \"y1\": 378.5, \"yref\": \"y\"}, {\"fillcolor\": \"rgba(0, 204, 0, 0.6)\", \"line\": {\"color\": \"rgb(55, 128, 191)\", \"width\": 1}, \"type\": \"rect\", \"x0\": 56.75, \"x1\": 57.25, \"xref\": \"x\", \"y0\": 379.0, \"y1\": 383.75, \"yref\": \"y\"}, {\"fillcolor\": \"rgba(0, 204, 0, 0.6)\", \"line\": {\"color\": \"rgb(55, 128, 191)\", \"width\": 1}, \"type\": \"rect\", \"x0\": 57.75, \"x1\": 58.25, \"xref\": \"x\", \"y0\": 383.25, \"y1\": 386.25, \"yref\": \"y\"}, {\"fillcolor\": \"rgba(255, 0, 0, 0.6)\", \"line\": {\"color\": \"rgb(55, 128, 191)\", \"width\": 1}, \"type\": \"rect\", \"x0\": 58.75, \"x1\": 59.25, \"xref\": \"x\", \"y0\": 383.75, \"y1\": 385.25, \"yref\": \"y\"}, {\"fillcolor\": \"rgba(255, 0, 0, 0.6)\", \"line\": {\"color\": \"rgb(55, 128, 191)\", \"width\": 1}, \"type\": \"rect\", \"x0\": 59.75, \"x1\": 60.25, \"xref\": \"x\", \"y0\": 379.25, \"y1\": 382.5, \"yref\": \"y\"}, {\"fillcolor\": \"rgba(0, 204, 0, 0.6)\", \"line\": {\"color\": \"rgb(55, 128, 191)\", \"width\": 1}, \"type\": \"rect\", \"x0\": 60.75, \"x1\": 61.25, \"xref\": \"x\", \"y0\": 373.5, \"y1\": 375.0, \"yref\": \"y\"}, {\"fillcolor\": \"rgba(0, 204, 0, 0.6)\", \"line\": {\"color\": \"rgb(55, 128, 191)\", \"width\": 1}, \"type\": \"rect\", \"x0\": 61.75, \"x1\": 62.25, \"xref\": \"x\", \"y0\": 376.25, \"y1\": 379.5, \"yref\": \"y\"}, {\"fillcolor\": \"rgba(255, 0, 0, 0.6)\", \"line\": {\"color\": \"rgb(55, 128, 191)\", \"width\": 1}, \"type\": \"rect\", \"x0\": 62.75, \"x1\": 63.25, \"xref\": \"x\", \"y0\": 376.5, \"y1\": 379.25, \"yref\": \"y\"}, {\"fillcolor\": \"rgba(255, 0, 0, 0.6)\", \"line\": {\"color\": \"rgb(55, 128, 191)\", \"width\": 1}, \"type\": \"rect\", \"x0\": 63.75, \"x1\": 64.25, \"xref\": \"x\", \"y0\": 368.75, \"y1\": 375.0, \"yref\": \"y\"}, {\"fillcolor\": \"rgba(0, 204, 0, 0.6)\", \"line\": {\"color\": \"rgb(55, 128, 191)\", \"width\": 1}, \"type\": \"rect\", \"x0\": 64.75, \"x1\": 65.25, \"xref\": \"x\", \"y0\": 368.25, \"y1\": 368.5, \"yref\": \"y\"}, {\"fillcolor\": \"rgba(255, 0, 0, 0.6)\", \"line\": {\"color\": \"rgb(55, 128, 191)\", \"width\": 1}, \"type\": \"rect\", \"x0\": 65.75, \"x1\": 66.25, \"xref\": \"x\", \"y0\": 358.5, \"y1\": 365.75, \"yref\": \"y\"}, {\"fillcolor\": \"rgba(255, 0, 0, 0.6)\", \"line\": {\"color\": \"rgb(55, 128, 191)\", \"width\": 1}, \"type\": \"rect\", \"x0\": 66.75, \"x1\": 67.25, \"xref\": \"x\", \"y0\": 350.0, \"y1\": 358.75, \"yref\": \"y\"}, {\"fillcolor\": \"rgba(255, 0, 0, 0.6)\", \"line\": {\"color\": \"rgb(55, 128, 191)\", \"width\": 1}, \"type\": \"rect\", \"x0\": 67.75, \"x1\": 68.25, \"xref\": \"x\", \"y0\": 341.75, \"y1\": 349.75, \"yref\": \"y\"}, {\"fillcolor\": \"rgba(0, 204, 0, 0.6)\", \"line\": {\"color\": \"rgb(55, 128, 191)\", \"width\": 1}, \"type\": \"rect\", \"x0\": 68.75, \"x1\": 69.25, \"xref\": \"x\", \"y0\": 342.5, \"y1\": 351.0, \"yref\": \"y\"}, {\"fillcolor\": \"rgba(255, 0, 0, 0.6)\", \"line\": {\"color\": \"rgb(55, 128, 191)\", \"width\": 1}, \"type\": \"rect\", \"x0\": 69.75, \"x1\": 70.25, \"xref\": \"x\", \"y0\": 349.5, \"y1\": 351.5, \"yref\": \"y\"}, {\"fillcolor\": \"rgba(0, 204, 0, 0.6)\", \"line\": {\"color\": \"rgb(55, 128, 191)\", \"width\": 1}, \"type\": \"rect\", \"x0\": 70.75, \"x1\": 71.25, \"xref\": \"x\", \"y0\": 346.5, \"y1\": 349.5, \"yref\": \"y\"}, {\"fillcolor\": \"rgba(0, 204, 0, 0.6)\", \"line\": {\"color\": \"rgb(55, 128, 191)\", \"width\": 1}, \"type\": \"rect\", \"x0\": 71.75, \"x1\": 72.25, \"xref\": \"x\", \"y0\": 349.5, \"y1\": 352.0, \"yref\": \"y\"}, {\"fillcolor\": \"rgba(0, 204, 0, 0.6)\", \"line\": {\"color\": \"rgb(55, 128, 191)\", \"width\": 1}, \"type\": \"rect\", \"x0\": 72.75, \"x1\": 73.25, \"xref\": \"x\", \"y0\": 352.0, \"y1\": 353.5, \"yref\": \"y\"}, {\"fillcolor\": \"rgba(0, 204, 0, 0.6)\", \"line\": {\"color\": \"rgb(55, 128, 191)\", \"width\": 1}, \"type\": \"rect\", \"x0\": 73.75, \"x1\": 74.25, \"xref\": \"x\", \"y0\": 353.25, \"y1\": 354.25, \"yref\": \"y\"}, {\"fillcolor\": \"rgba(255, 0, 0, 0.6)\", \"line\": {\"color\": \"rgb(55, 128, 191)\", \"width\": 1}, \"type\": \"rect\", \"x0\": 74.75, \"x1\": 75.25, \"xref\": \"x\", \"y0\": 351.75, \"y1\": 354.25, \"yref\": \"y\"}, {\"fillcolor\": \"rgba(255, 0, 0, 0.6)\", \"line\": {\"color\": \"rgb(55, 128, 191)\", \"width\": 1}, \"type\": \"rect\", \"x0\": 75.75, \"x1\": 76.25, \"xref\": \"x\", \"y0\": 347.5, \"y1\": 348.5, \"yref\": \"y\"}, {\"fillcolor\": \"rgba(255, 0, 0, 0.6)\", \"line\": {\"color\": \"rgb(55, 128, 191)\", \"width\": 1}, \"type\": \"rect\", \"x0\": 76.75, \"x1\": 77.25, \"xref\": \"x\", \"y0\": 346.0, \"y1\": 347.75, \"yref\": \"y\"}, {\"fillcolor\": \"rgba(255, 0, 0, 0.6)\", \"line\": {\"color\": \"rgb(55, 128, 191)\", \"width\": 1}, \"type\": \"rect\", \"x0\": 77.75, \"x1\": 78.25, \"xref\": \"x\", \"y0\": 338.75, \"y1\": 346.25, \"yref\": \"y\"}, {\"fillcolor\": \"rgba(255, 0, 0, 0.6)\", \"line\": {\"color\": \"rgb(55, 128, 191)\", \"width\": 1}, \"type\": \"rect\", \"x0\": 78.75, \"x1\": 79.25, \"xref\": \"x\", \"y0\": 338.5, \"y1\": 339.0, \"yref\": \"y\"}, {\"fillcolor\": \"rgba(255, 0, 0, 0.6)\", \"line\": {\"color\": \"rgb(55, 128, 191)\", \"width\": 1}, \"type\": \"rect\", \"x0\": 79.75, \"x1\": 80.25, \"xref\": \"x\", \"y0\": 336.75, \"y1\": 339.25, \"yref\": \"y\"}, {\"fillcolor\": \"rgba(255, 0, 0, 0.6)\", \"line\": {\"color\": \"rgb(55, 128, 191)\", \"width\": 1}, \"type\": \"rect\", \"x0\": 80.75, \"x1\": 81.25, \"xref\": \"x\", \"y0\": 333.5, \"y1\": 335.25, \"yref\": \"y\"}, {\"fillcolor\": \"rgba(0, 204, 0, 0.6)\", \"line\": {\"color\": \"rgb(55, 128, 191)\", \"width\": 1}, \"type\": \"rect\", \"x0\": 81.75, \"x1\": 82.25, \"xref\": \"x\", \"y0\": 333.5, \"y1\": 337.25, \"yref\": \"y\"}, {\"fillcolor\": \"rgba(255, 0, 0, 0.6)\", \"line\": {\"color\": \"rgb(55, 128, 191)\", \"width\": 1}, \"type\": \"rect\", \"x0\": 82.75, \"x1\": 83.25, \"xref\": \"x\", \"y0\": 335.5, \"y1\": 337.75, \"yref\": \"y\"}, {\"fillcolor\": \"rgba(0, 204, 0, 0.6)\", \"line\": {\"color\": \"rgb(55, 128, 191)\", \"width\": 1}, \"type\": \"rect\", \"x0\": 83.75, \"x1\": 84.25, \"xref\": \"x\", \"y0\": 336.0, \"y1\": 336.75, \"yref\": \"y\"}, {\"fillcolor\": \"rgba(255, 0, 0, 0.6)\", \"line\": {\"color\": \"rgb(55, 128, 191)\", \"width\": 1}, \"type\": \"rect\", \"x0\": 84.75, \"x1\": 85.25, \"xref\": \"x\", \"y0\": 336.25, \"y1\": 337.0, \"yref\": \"y\"}, {\"fillcolor\": \"rgba(255, 0, 0, 0.6)\", \"line\": {\"color\": \"rgb(55, 128, 191)\", \"width\": 1}, \"type\": \"rect\", \"x0\": 85.75, \"x1\": 86.25, \"xref\": \"x\", \"y0\": 332.25, \"y1\": 336.25, \"yref\": \"y\"}, {\"fillcolor\": \"rgba(255, 0, 0, 0.6)\", \"line\": {\"color\": \"rgb(55, 128, 191)\", \"width\": 1}, \"type\": \"rect\", \"x0\": 86.75, \"x1\": 87.25, \"xref\": \"x\", \"y0\": 326.75, \"y1\": 332.25, \"yref\": \"y\"}, {\"fillcolor\": \"rgba(255, 0, 0, 0.6)\", \"line\": {\"color\": \"rgb(55, 128, 191)\", \"width\": 1}, \"type\": \"rect\", \"x0\": 87.75, \"x1\": 88.25, \"xref\": \"x\", \"y0\": 326.25, \"y1\": 326.5, \"yref\": \"y\"}, {\"fillcolor\": \"rgba(0, 204, 0, 0.6)\", \"line\": {\"color\": \"rgb(55, 128, 191)\", \"width\": 1}, \"type\": \"rect\", \"x0\": 88.75, \"x1\": 89.25, \"xref\": \"x\", \"y0\": 326.5, \"y1\": 329.25, \"yref\": \"y\"}, {\"fillcolor\": \"rgba(255, 0, 0, 0.6)\", \"line\": {\"color\": \"rgb(55, 128, 191)\", \"width\": 1}, \"type\": \"rect\", \"x0\": 89.75, \"x1\": 90.25, \"xref\": \"x\", \"y0\": 322.25, \"y1\": 329.25, \"yref\": \"y\"}, {\"fillcolor\": \"rgba(255, 0, 0, 0.6)\", \"line\": {\"color\": \"rgb(55, 128, 191)\", \"width\": 1}, \"type\": \"rect\", \"x0\": 90.75, \"x1\": 91.25, \"xref\": \"x\", \"y0\": 317.25, \"y1\": 322.25, \"yref\": \"y\"}, {\"fillcolor\": \"rgba(0, 204, 0, 0.6)\", \"line\": {\"color\": \"rgb(55, 128, 191)\", \"width\": 1}, \"type\": \"rect\", \"x0\": 91.75, \"x1\": 92.25, \"xref\": \"x\", \"y0\": 317.75, \"y1\": 324.75, \"yref\": \"y\"}, {\"fillcolor\": \"rgba(0, 204, 0, 0.6)\", \"line\": {\"color\": \"rgb(55, 128, 191)\", \"width\": 1}, \"type\": \"rect\", \"x0\": 92.75, \"x1\": 93.25, \"xref\": \"x\", \"y0\": 324.5, \"y1\": 326.0, \"yref\": \"y\"}, {\"fillcolor\": \"rgba(255, 0, 0, 0.6)\", \"line\": {\"color\": \"rgb(55, 128, 191)\", \"width\": 1}, \"type\": \"rect\", \"x0\": 93.75, \"x1\": 94.25, \"xref\": \"x\", \"y0\": 323.0, \"y1\": 326.25, \"yref\": \"y\"}, {\"fillcolor\": \"rgba(255, 0, 0, 0.6)\", \"line\": {\"color\": \"rgb(55, 128, 191)\", \"width\": 1}, \"type\": \"rect\", \"x0\": 94.75, \"x1\": 95.25, \"xref\": \"x\", \"y0\": 313.25, \"y1\": 322.0, \"yref\": \"y\"}, {\"fillcolor\": \"rgba(255, 0, 0, 0.6)\", \"line\": {\"color\": \"rgb(55, 128, 191)\", \"width\": 1}, \"type\": \"rect\", \"x0\": 95.75, \"x1\": 96.25, \"xref\": \"x\", \"y0\": 312.0, \"y1\": 313.25, \"yref\": \"y\"}, {\"fillcolor\": \"rgba(0, 204, 0, 0.6)\", \"line\": {\"color\": \"rgb(55, 128, 191)\", \"width\": 1}, \"type\": \"rect\", \"x0\": 96.75, \"x1\": 97.25, \"xref\": \"x\", \"y0\": 311.75, \"y1\": 314.5, \"yref\": \"y\"}, {\"fillcolor\": \"rgba(0, 204, 0, 0.6)\", \"line\": {\"color\": \"rgb(55, 128, 191)\", \"width\": 1}, \"type\": \"rect\", \"x0\": 97.75, \"x1\": 98.25, \"xref\": \"x\", \"y0\": 315.0, \"y1\": 320.0, \"yref\": \"y\"}, {\"fillcolor\": \"rgba(255, 0, 0, 0.6)\", \"line\": {\"color\": \"rgb(55, 128, 191)\", \"width\": 1}, \"type\": \"rect\", \"x0\": 98.75, \"x1\": 99.25, \"xref\": \"x\", \"y0\": 318.5, \"y1\": 319.5, \"yref\": \"y\"}, {\"fillcolor\": \"rgba(255, 0, 0, 0.6)\", \"line\": {\"color\": \"rgb(55, 128, 191)\", \"width\": 1}, \"type\": \"rect\", \"x0\": 99.75, \"x1\": 100.25, \"xref\": \"x\", \"y0\": 315.5, \"y1\": 317.0, \"yref\": \"y\"}, {\"fillcolor\": \"rgba(0, 204, 0, 0.6)\", \"line\": {\"color\": \"rgb(55, 128, 191)\", \"width\": 1}, \"type\": \"rect\", \"x0\": 100.75, \"x1\": 101.25, \"xref\": \"x\", \"y0\": 315.25, \"y1\": 317.0, \"yref\": \"y\"}, {\"fillcolor\": \"rgba(255, 0, 0, 0.6)\", \"line\": {\"color\": \"rgb(55, 128, 191)\", \"width\": 1}, \"type\": \"rect\", \"x0\": 101.75, \"x1\": 102.25, \"xref\": \"x\", \"y0\": 314.25, \"y1\": 318.0, \"yref\": \"y\"}, {\"fillcolor\": \"rgba(0, 204, 0, 0.6)\", \"line\": {\"color\": \"rgb(55, 128, 191)\", \"width\": 1}, \"type\": \"rect\", \"x0\": 102.75, \"x1\": 103.25, \"xref\": \"x\", \"y0\": 314.0, \"y1\": 318.0, \"yref\": \"y\"}, {\"fillcolor\": \"rgba(0, 204, 0, 0.6)\", \"line\": {\"color\": \"rgb(55, 128, 191)\", \"width\": 1}, \"type\": \"rect\", \"x0\": 103.75, \"x1\": 104.25, \"xref\": \"x\", \"y0\": 318.0, \"y1\": 319.25, \"yref\": \"y\"}, {\"fillcolor\": \"rgba(255, 0, 0, 0.6)\", \"line\": {\"color\": \"rgb(55, 128, 191)\", \"width\": 1}, \"type\": \"rect\", \"x0\": 104.75, \"x1\": 105.25, \"xref\": \"x\", \"y0\": 318.5, \"y1\": 320.75, \"yref\": \"y\"}, {\"fillcolor\": \"rgba(0, 204, 0, 0.6)\", \"line\": {\"color\": \"rgb(55, 128, 191)\", \"width\": 1}, \"type\": \"rect\", \"x0\": 105.75, \"x1\": 106.25, \"xref\": \"x\", \"y0\": 318.25, \"y1\": 322.25, \"yref\": \"y\"}, {\"fillcolor\": \"rgba(255, 0, 0, 0.6)\", \"line\": {\"color\": \"rgb(55, 128, 191)\", \"width\": 1}, \"type\": \"rect\", \"x0\": 106.75, \"x1\": 107.25, \"xref\": \"x\", \"y0\": 318.25, \"y1\": 322.0, \"yref\": \"y\"}, {\"fillcolor\": \"rgba(255, 0, 0, 0.6)\", \"line\": {\"color\": \"rgb(55, 128, 191)\", \"width\": 1}, \"type\": \"rect\", \"x0\": 107.75, \"x1\": 108.25, \"xref\": \"x\", \"y0\": 317.5, \"y1\": 318.25, \"yref\": \"y\"}, {\"fillcolor\": \"rgba(0, 204, 0, 0.6)\", \"line\": {\"color\": \"rgb(55, 128, 191)\", \"width\": 1}, \"type\": \"rect\", \"x0\": 108.75, \"x1\": 109.25, \"xref\": \"x\", \"y0\": 317.75, \"y1\": 319.25, \"yref\": \"y\"}, {\"fillcolor\": \"rgba(0, 204, 0, 0.6)\", \"line\": {\"color\": \"rgb(55, 128, 191)\", \"width\": 1}, \"type\": \"rect\", \"x0\": 109.75, \"x1\": 110.25, \"xref\": \"x\", \"y0\": 320.0, \"y1\": 320.75, \"yref\": \"y\"}, {\"fillcolor\": \"rgba(0, 204, 0, 0.6)\", \"line\": {\"color\": \"rgb(55, 128, 191)\", \"width\": 1}, \"type\": \"rect\", \"x0\": 110.75, \"x1\": 111.25, \"xref\": \"x\", \"y0\": 320.75, \"y1\": 321.25, \"yref\": \"y\"}, {\"fillcolor\": \"rgba(255, 0, 0, 0.6)\", \"line\": {\"color\": \"rgb(55, 128, 191)\", \"width\": 1}, \"type\": \"rect\", \"x0\": 111.75, \"x1\": 112.25, \"xref\": \"x\", \"y0\": 319.5, \"y1\": 321.25, \"yref\": \"y\"}, {\"fillcolor\": \"rgba(255, 0, 0, 0.6)\", \"line\": {\"color\": \"rgb(55, 128, 191)\", \"width\": 1}, \"type\": \"rect\", \"x0\": 112.75, \"x1\": 113.25, \"xref\": \"x\", \"y0\": 317.75, \"y1\": 319.0, \"yref\": \"y\"}, {\"fillcolor\": \"rgba(0, 204, 0, 0.6)\", \"line\": {\"color\": \"rgb(55, 128, 191)\", \"width\": 1}, \"type\": \"rect\", \"x0\": 113.75, \"x1\": 114.25, \"xref\": \"x\", \"y0\": 317.75, \"y1\": 318.0, \"yref\": \"y\"}, {\"fillcolor\": \"rgba(0, 204, 0, 0.6)\", \"line\": {\"color\": \"rgb(55, 128, 191)\", \"width\": 1}, \"type\": \"rect\", \"x0\": 114.75, \"x1\": 115.25, \"xref\": \"x\", \"y0\": 316.75, \"y1\": 319.0, \"yref\": \"y\"}, {\"fillcolor\": \"rgba(0, 204, 0, 0.6)\", \"line\": {\"color\": \"rgb(55, 128, 191)\", \"width\": 1}, \"type\": \"rect\", \"x0\": 115.75, \"x1\": 116.25, \"xref\": \"x\", \"y0\": 320.0, \"y1\": 320.5, \"yref\": \"y\"}, {\"fillcolor\": \"rgba(0, 204, 0, 0.6)\", \"line\": {\"color\": \"rgb(55, 128, 191)\", \"width\": 1}, \"type\": \"rect\", \"x0\": 116.75, \"x1\": 117.25, \"xref\": \"x\", \"y0\": 320.25, \"y1\": 327.5, \"yref\": \"y\"}, {\"fillcolor\": \"rgba(255, 0, 0, 0.6)\", \"line\": {\"color\": \"rgb(55, 128, 191)\", \"width\": 1}, \"type\": \"rect\", \"x0\": 117.75, \"x1\": 118.25, \"xref\": \"x\", \"y0\": 325.75, \"y1\": 327.5, \"yref\": \"y\"}, {\"fillcolor\": \"rgba(255, 0, 0, 0.6)\", \"line\": {\"color\": \"rgb(55, 128, 191)\", \"width\": 1}, \"type\": \"rect\", \"x0\": 118.75, \"x1\": 119.25, \"xref\": \"x\", \"y0\": 323.25, \"y1\": 325.5, \"yref\": \"y\"}, {\"fillcolor\": \"rgba(0, 204, 0, 0.6)\", \"line\": {\"color\": \"rgb(55, 128, 191)\", \"width\": 1}, \"type\": \"rect\", \"x0\": 119.75, \"x1\": 120.25, \"xref\": \"x\", \"y0\": 323.5, \"y1\": 324.25, \"yref\": \"y\"}, {\"line\": {\"color\": \"rgb(55, 128, 191)\", \"width\": 1.5}, \"type\": \"line\", \"x0\": 1, \"x1\": 1, \"y0\": 388.0, \"y1\": 388.75}, {\"line\": {\"color\": \"rgb(55, 128, 191)\", \"width\": 1.5}, \"type\": \"line\", \"x0\": 2, \"x1\": 2, \"y0\": 387.5, \"y1\": 387.75}, {\"line\": {\"color\": \"rgb(55, 128, 191)\", \"width\": 1.5}, \"type\": \"line\", \"x0\": 3, \"x1\": 3, \"y0\": 390.0, \"y1\": 392.5}, {\"line\": {\"color\": \"rgb(55, 128, 191)\", \"width\": 1.5}, \"type\": \"line\", \"x0\": 4, \"x1\": 4, \"y0\": 393.75, \"y1\": 396.75}, {\"line\": {\"color\": \"rgb(55, 128, 191)\", \"width\": 1.5}, \"type\": \"line\", \"x0\": 5, \"x1\": 5, \"y0\": 400.25, \"y1\": 401.75}, {\"line\": {\"color\": \"rgb(55, 128, 191)\", \"width\": 1.5}, \"type\": \"line\", \"x0\": 6, \"x1\": 6, \"y0\": 402.25, \"y1\": 402.5}, {\"line\": {\"color\": \"rgb(55, 128, 191)\", \"width\": 1.5}, \"type\": \"line\", \"x0\": 7, \"x1\": 7, \"y0\": 401.5, \"y1\": 402.0}, {\"line\": {\"color\": \"rgb(55, 128, 191)\", \"width\": 1.5}, \"type\": \"line\", \"x0\": 8, \"x1\": 8, \"y0\": 399.5, \"y1\": 401.0}, {\"line\": {\"color\": \"rgb(55, 128, 191)\", \"width\": 1.5}, \"type\": \"line\", \"x0\": 9, \"x1\": 9, \"y0\": 399.5, \"y1\": 401.5}, {\"line\": {\"color\": \"rgb(55, 128, 191)\", \"width\": 1.5}, \"type\": \"line\", \"x0\": 10, \"x1\": 10, \"y0\": 401.25, \"y1\": 402.25}, {\"line\": {\"color\": \"rgb(55, 128, 191)\", \"width\": 1.5}, \"type\": \"line\", \"x0\": 11, \"x1\": 11, \"y0\": 400.75, \"y1\": 401.5}, {\"line\": {\"color\": \"rgb(55, 128, 191)\", \"width\": 1.5}, \"type\": \"line\", \"x0\": 12, \"x1\": 12, \"y0\": 401.25, \"y1\": 401.25}, {\"line\": {\"color\": \"rgb(55, 128, 191)\", \"width\": 1.5}, \"type\": \"line\", \"x0\": 13, \"x1\": 13, \"y0\": 402.75, \"y1\": 403.25}, {\"line\": {\"color\": \"rgb(55, 128, 191)\", \"width\": 1.5}, \"type\": \"line\", \"x0\": 14, \"x1\": 14, \"y0\": 402.25, \"y1\": 404.25}, {\"line\": {\"color\": \"rgb(55, 128, 191)\", \"width\": 1.5}, \"type\": \"line\", \"x0\": 15, \"x1\": 15, \"y0\": 401.25, \"y1\": 402.75}, {\"line\": {\"color\": \"rgb(55, 128, 191)\", \"width\": 1.5}, \"type\": \"line\", \"x0\": 16, \"x1\": 16, \"y0\": 404.0, \"y1\": 404.5}, {\"line\": {\"color\": \"rgb(55, 128, 191)\", \"width\": 1.5}, \"type\": \"line\", \"x0\": 17, \"x1\": 17, \"y0\": 403.5, \"y1\": 404.0}, {\"line\": {\"color\": \"rgb(55, 128, 191)\", \"width\": 1.5}, \"type\": \"line\", \"x0\": 18, \"x1\": 18, \"y0\": 399.25, \"y1\": 400.5}, {\"line\": {\"color\": \"rgb(55, 128, 191)\", \"width\": 1.5}, \"type\": \"line\", \"x0\": 19, \"x1\": 19, \"y0\": 397.75, \"y1\": 398.25}, {\"line\": {\"color\": \"rgb(55, 128, 191)\", \"width\": 1.5}, \"type\": \"line\", \"x0\": 20, \"x1\": 20, \"y0\": 397.75, \"y1\": 398.5}, {\"line\": {\"color\": \"rgb(55, 128, 191)\", \"width\": 1.5}, \"type\": \"line\", \"x0\": 21, \"x1\": 21, \"y0\": 397.0, \"y1\": 399.75}, {\"line\": {\"color\": \"rgb(55, 128, 191)\", \"width\": 1.5}, \"type\": \"line\", \"x0\": 22, \"x1\": 22, \"y0\": 399.5, \"y1\": 400.0}, {\"line\": {\"color\": \"rgb(55, 128, 191)\", \"width\": 1.5}, \"type\": \"line\", \"x0\": 23, \"x1\": 23, \"y0\": 402.75, \"y1\": 402.75}, {\"line\": {\"color\": \"rgb(55, 128, 191)\", \"width\": 1.5}, \"type\": \"line\", \"x0\": 24, \"x1\": 24, \"y0\": 402.25, \"y1\": 403.25}, {\"line\": {\"color\": \"rgb(55, 128, 191)\", \"width\": 1.5}, \"type\": \"line\", \"x0\": 25, \"x1\": 25, \"y0\": 402.0, \"y1\": 403.25}, {\"line\": {\"color\": \"rgb(55, 128, 191)\", \"width\": 1.5}, \"type\": \"line\", \"x0\": 26, \"x1\": 26, \"y0\": 400.0, \"y1\": 400.5}, {\"line\": {\"color\": \"rgb(55, 128, 191)\", \"width\": 1.5}, \"type\": \"line\", \"x0\": 27, \"x1\": 27, \"y0\": 401.0, \"y1\": 401.25}, {\"line\": {\"color\": \"rgb(55, 128, 191)\", \"width\": 1.5}, \"type\": \"line\", \"x0\": 28, \"x1\": 28, \"y0\": 400.5, \"y1\": 400.75}, {\"line\": {\"color\": \"rgb(55, 128, 191)\", \"width\": 1.5}, \"type\": \"line\", \"x0\": 29, \"x1\": 29, \"y0\": 399.25, \"y1\": 401.75}, {\"line\": {\"color\": \"rgb(55, 128, 191)\", \"width\": 1.5}, \"type\": \"line\", \"x0\": 30, \"x1\": 30, \"y0\": 403.25, \"y1\": 403.25}, {\"line\": {\"color\": \"rgb(55, 128, 191)\", \"width\": 1.5}, \"type\": \"line\", \"x0\": 31, \"x1\": 31, \"y0\": 402.75, \"y1\": 402.75}, {\"line\": {\"color\": \"rgb(55, 128, 191)\", \"width\": 1.5}, \"type\": \"line\", \"x0\": 32, \"x1\": 32, \"y0\": 395.0, \"y1\": 395.25}, {\"line\": {\"color\": \"rgb(55, 128, 191)\", \"width\": 1.5}, \"type\": \"line\", \"x0\": 33, \"x1\": 33, \"y0\": 397.25, \"y1\": 397.5}, {\"line\": {\"color\": \"rgb(55, 128, 191)\", \"width\": 1.5}, \"type\": \"line\", \"x0\": 34, \"x1\": 34, \"y0\": 395.75, \"y1\": 398.25}, {\"line\": {\"color\": \"rgb(55, 128, 191)\", \"width\": 1.5}, \"type\": \"line\", \"x0\": 35, \"x1\": 35, \"y0\": 394.75, \"y1\": 395.25}, {\"line\": {\"color\": \"rgb(55, 128, 191)\", \"width\": 1.5}, \"type\": \"line\", \"x0\": 36, \"x1\": 36, \"y0\": 391.5, \"y1\": 392.75}, {\"line\": {\"color\": \"rgb(55, 128, 191)\", \"width\": 1.5}, \"type\": \"line\", \"x0\": 37, \"x1\": 37, \"y0\": 390.5, \"y1\": 391.75}, {\"line\": {\"color\": \"rgb(55, 128, 191)\", \"width\": 1.5}, \"type\": \"line\", \"x0\": 38, \"x1\": 38, \"y0\": 392.75, \"y1\": 394.0}, {\"line\": {\"color\": \"rgb(55, 128, 191)\", \"width\": 1.5}, \"type\": \"line\", \"x0\": 39, \"x1\": 39, \"y0\": 392.0, \"y1\": 393.5}, {\"line\": {\"color\": \"rgb(55, 128, 191)\", \"width\": 1.5}, \"type\": \"line\", \"x0\": 40, \"x1\": 40, \"y0\": 390.75, \"y1\": 392.0}, {\"line\": {\"color\": \"rgb(55, 128, 191)\", \"width\": 1.5}, \"type\": \"line\", \"x0\": 41, \"x1\": 41, \"y0\": 392.25, \"y1\": 392.5}, {\"line\": {\"color\": \"rgb(55, 128, 191)\", \"width\": 1.5}, \"type\": \"line\", \"x0\": 42, \"x1\": 42, \"y0\": 391.75, \"y1\": 392.0}, {\"line\": {\"color\": \"rgb(55, 128, 191)\", \"width\": 1.5}, \"type\": \"line\", \"x0\": 43, \"x1\": 43, \"y0\": 389.25, \"y1\": 390.75}, {\"line\": {\"color\": \"rgb(55, 128, 191)\", \"width\": 1.5}, \"type\": \"line\", \"x0\": 44, \"x1\": 44, \"y0\": 390.25, \"y1\": 390.75}, {\"line\": {\"color\": \"rgb(55, 128, 191)\", \"width\": 1.5}, \"type\": \"line\", \"x0\": 45, \"x1\": 45, \"y0\": 389.75, \"y1\": 390.0}, {\"line\": {\"color\": \"rgb(55, 128, 191)\", \"width\": 1.5}, \"type\": \"line\", \"x0\": 46, \"x1\": 46, \"y0\": 388.5, \"y1\": 389.75}, {\"line\": {\"color\": \"rgb(55, 128, 191)\", \"width\": 1.5}, \"type\": \"line\", \"x0\": 47, \"x1\": 47, \"y0\": 390.5, \"y1\": 390.5}, {\"line\": {\"color\": \"rgb(55, 128, 191)\", \"width\": 1.5}, \"type\": \"line\", \"x0\": 48, \"x1\": 48, \"y0\": 390.0, \"y1\": 390.0}, {\"line\": {\"color\": \"rgb(55, 128, 191)\", \"width\": 1.5}, \"type\": \"line\", \"x0\": 49, \"x1\": 49, \"y0\": 388.5, \"y1\": 389.0}, {\"line\": {\"color\": \"rgb(55, 128, 191)\", \"width\": 1.5}, \"type\": \"line\", \"x0\": 50, \"x1\": 50, \"y0\": 385.25, \"y1\": 387.0}, {\"line\": {\"color\": \"rgb(55, 128, 191)\", \"width\": 1.5}, \"type\": \"line\", \"x0\": 51, \"x1\": 51, \"y0\": 382.75, \"y1\": 382.75}, {\"line\": {\"color\": \"rgb(55, 128, 191)\", \"width\": 1.5}, \"type\": \"line\", \"x0\": 52, \"x1\": 52, \"y0\": 380.5, \"y1\": 382.0}, {\"line\": {\"color\": \"rgb(55, 128, 191)\", \"width\": 1.5}, \"type\": \"line\", \"x0\": 53, \"x1\": 53, \"y0\": 379.75, \"y1\": 382.0}, {\"line\": {\"color\": \"rgb(55, 128, 191)\", \"width\": 1.5}, \"type\": \"line\", \"x0\": 54, \"x1\": 54, \"y0\": 378.25, \"y1\": 378.5}, {\"line\": {\"color\": \"rgb(55, 128, 191)\", \"width\": 1.5}, \"type\": \"line\", \"x0\": 55, \"x1\": 55, \"y0\": 373.0, \"y1\": 373.5}, {\"line\": {\"color\": \"rgb(55, 128, 191)\", \"width\": 1.5}, \"type\": \"line\", \"x0\": 56, \"x1\": 56, \"y0\": 378.5, \"y1\": 379.25}, {\"line\": {\"color\": \"rgb(55, 128, 191)\", \"width\": 1.5}, \"type\": \"line\", \"x0\": 57, \"x1\": 57, \"y0\": 383.75, \"y1\": 386.25}, {\"line\": {\"color\": \"rgb(55, 128, 191)\", \"width\": 1.5}, \"type\": \"line\", \"x0\": 58, \"x1\": 58, \"y0\": 386.25, \"y1\": 387.75}, {\"line\": {\"color\": \"rgb(55, 128, 191)\", \"width\": 1.5}, \"type\": \"line\", \"x0\": 59, \"x1\": 59, \"y0\": 385.25, \"y1\": 386.0}, {\"line\": {\"color\": \"rgb(55, 128, 191)\", \"width\": 1.5}, \"type\": \"line\", \"x0\": 60, \"x1\": 60, \"y0\": 382.5, \"y1\": 384.25}, {\"line\": {\"color\": \"rgb(55, 128, 191)\", \"width\": 1.5}, \"type\": \"line\", \"x0\": 61, \"x1\": 61, \"y0\": 375.0, \"y1\": 377.25}, {\"line\": {\"color\": \"rgb(55, 128, 191)\", \"width\": 1.5}, \"type\": \"line\", \"x0\": 62, \"x1\": 62, \"y0\": 379.5, \"y1\": 381.25}, {\"line\": {\"color\": \"rgb(55, 128, 191)\", \"width\": 1.5}, \"type\": \"line\", \"x0\": 63, \"x1\": 63, \"y0\": 379.25, \"y1\": 379.25}, {\"line\": {\"color\": \"rgb(55, 128, 191)\", \"width\": 1.5}, \"type\": \"line\", \"x0\": 64, \"x1\": 64, \"y0\": 375.0, \"y1\": 375.25}, {\"line\": {\"color\": \"rgb(55, 128, 191)\", \"width\": 1.5}, \"type\": \"line\", \"x0\": 65, \"x1\": 65, \"y0\": 368.5, \"y1\": 374.5}, {\"line\": {\"color\": \"rgb(55, 128, 191)\", \"width\": 1.5}, \"type\": \"line\", \"x0\": 66, \"x1\": 66, \"y0\": 365.75, \"y1\": 370.75}, {\"line\": {\"color\": \"rgb(55, 128, 191)\", \"width\": 1.5}, \"type\": \"line\", \"x0\": 67, \"x1\": 67, \"y0\": 358.75, \"y1\": 360.5}, {\"line\": {\"color\": \"rgb(55, 128, 191)\", \"width\": 1.5}, \"type\": \"line\", \"x0\": 68, \"x1\": 68, \"y0\": 349.75, \"y1\": 350.75}, {\"line\": {\"color\": \"rgb(55, 128, 191)\", \"width\": 1.5}, \"type\": \"line\", \"x0\": 69, \"x1\": 69, \"y0\": 351.0, \"y1\": 360.0}, {\"line\": {\"color\": \"rgb(55, 128, 191)\", \"width\": 1.5}, \"type\": \"line\", \"x0\": 70, \"x1\": 70, \"y0\": 351.5, \"y1\": 360.75}, {\"line\": {\"color\": \"rgb(55, 128, 191)\", \"width\": 1.5}, \"type\": \"line\", \"x0\": 71, \"x1\": 71, \"y0\": 349.5, \"y1\": 351.25}, {\"line\": {\"color\": \"rgb(55, 128, 191)\", \"width\": 1.5}, \"type\": \"line\", \"x0\": 72, \"x1\": 72, \"y0\": 352.0, \"y1\": 355.5}, {\"line\": {\"color\": \"rgb(55, 128, 191)\", \"width\": 1.5}, \"type\": \"line\", \"x0\": 73, \"x1\": 73, \"y0\": 353.5, \"y1\": 356.75}, {\"line\": {\"color\": \"rgb(55, 128, 191)\", \"width\": 1.5}, \"type\": \"line\", \"x0\": 74, \"x1\": 74, \"y0\": 354.25, \"y1\": 354.75}, {\"line\": {\"color\": \"rgb(55, 128, 191)\", \"width\": 1.5}, \"type\": \"line\", \"x0\": 75, \"x1\": 75, \"y0\": 354.25, \"y1\": 355.75}, {\"line\": {\"color\": \"rgb(55, 128, 191)\", \"width\": 1.5}, \"type\": \"line\", \"x0\": 76, \"x1\": 76, \"y0\": 348.5, \"y1\": 352.25}, {\"line\": {\"color\": \"rgb(55, 128, 191)\", \"width\": 1.5}, \"type\": \"line\", \"x0\": 77, \"x1\": 77, \"y0\": 347.75, \"y1\": 350.25}, {\"line\": {\"color\": \"rgb(55, 128, 191)\", \"width\": 1.5}, \"type\": \"line\", \"x0\": 78, \"x1\": 78, \"y0\": 346.25, \"y1\": 347.5}, {\"line\": {\"color\": \"rgb(55, 128, 191)\", \"width\": 1.5}, \"type\": \"line\", \"x0\": 79, \"x1\": 79, \"y0\": 339.0, \"y1\": 346.75}, {\"line\": {\"color\": \"rgb(55, 128, 191)\", \"width\": 1.5}, \"type\": \"line\", \"x0\": 80, \"x1\": 80, \"y0\": 339.25, \"y1\": 343.5}, {\"line\": {\"color\": \"rgb(55, 128, 191)\", \"width\": 1.5}, \"type\": \"line\", \"x0\": 81, \"x1\": 81, \"y0\": 335.25, \"y1\": 337.25}, {\"line\": {\"color\": \"rgb(55, 128, 191)\", \"width\": 1.5}, \"type\": \"line\", \"x0\": 82, \"x1\": 82, \"y0\": 337.25, \"y1\": 340.5}, {\"line\": {\"color\": \"rgb(55, 128, 191)\", \"width\": 1.5}, \"type\": \"line\", \"x0\": 83, \"x1\": 83, \"y0\": 337.75, \"y1\": 339.5}, {\"line\": {\"color\": \"rgb(55, 128, 191)\", \"width\": 1.5}, \"type\": \"line\", \"x0\": 84, \"x1\": 84, \"y0\": 336.75, \"y1\": 338.75}, {\"line\": {\"color\": \"rgb(55, 128, 191)\", \"width\": 1.5}, \"type\": \"line\", \"x0\": 85, \"x1\": 85, \"y0\": 337.0, \"y1\": 338.75}, {\"line\": {\"color\": \"rgb(55, 128, 191)\", \"width\": 1.5}, \"type\": \"line\", \"x0\": 86, \"x1\": 86, \"y0\": 336.25, \"y1\": 337.5}, {\"line\": {\"color\": \"rgb(55, 128, 191)\", \"width\": 1.5}, \"type\": \"line\", \"x0\": 87, \"x1\": 87, \"y0\": 332.25, \"y1\": 333.0}, {\"line\": {\"color\": \"rgb(55, 128, 191)\", \"width\": 1.5}, \"type\": \"line\", \"x0\": 88, \"x1\": 88, \"y0\": 326.5, \"y1\": 329.75}, {\"line\": {\"color\": \"rgb(55, 128, 191)\", \"width\": 1.5}, \"type\": \"line\", \"x0\": 89, \"x1\": 89, \"y0\": 329.25, \"y1\": 332.0}, {\"line\": {\"color\": \"rgb(55, 128, 191)\", \"width\": 1.5}, \"type\": \"line\", \"x0\": 90, \"x1\": 90, \"y0\": 329.25, \"y1\": 329.75}, {\"line\": {\"color\": \"rgb(55, 128, 191)\", \"width\": 1.5}, \"type\": \"line\", \"x0\": 91, \"x1\": 91, \"y0\": 322.25, \"y1\": 323.25}, {\"line\": {\"color\": \"rgb(55, 128, 191)\", \"width\": 1.5}, \"type\": \"line\", \"x0\": 92, \"x1\": 92, \"y0\": 324.75, \"y1\": 327.5}, {\"line\": {\"color\": \"rgb(55, 128, 191)\", \"width\": 1.5}, \"type\": \"line\", \"x0\": 93, \"x1\": 93, \"y0\": 326.0, \"y1\": 331.0}, {\"line\": {\"color\": \"rgb(55, 128, 191)\", \"width\": 1.5}, \"type\": \"line\", \"x0\": 94, \"x1\": 94, \"y0\": 326.25, \"y1\": 327.75}, {\"line\": {\"color\": \"rgb(55, 128, 191)\", \"width\": 1.5}, \"type\": \"line\", \"x0\": 95, \"x1\": 95, \"y0\": 322.0, \"y1\": 323.0}, {\"line\": {\"color\": \"rgb(55, 128, 191)\", \"width\": 1.5}, \"type\": \"line\", \"x0\": 96, \"x1\": 96, \"y0\": 313.25, \"y1\": 316.5}, {\"line\": {\"color\": \"rgb(55, 128, 191)\", \"width\": 1.5}, \"type\": \"line\", \"x0\": 97, \"x1\": 97, \"y0\": 314.5, \"y1\": 318.0}, {\"line\": {\"color\": \"rgb(55, 128, 191)\", \"width\": 1.5}, \"type\": \"line\", \"x0\": 98, \"x1\": 98, \"y0\": 320.0, \"y1\": 322.25}, {\"line\": {\"color\": \"rgb(55, 128, 191)\", \"width\": 1.5}, \"type\": \"line\", \"x0\": 99, \"x1\": 99, \"y0\": 319.5, \"y1\": 320.25}, {\"line\": {\"color\": \"rgb(55, 128, 191)\", \"width\": 1.5}, \"type\": \"line\", \"x0\": 100, \"x1\": 100, \"y0\": 317.0, \"y1\": 317.25}, {\"line\": {\"color\": \"rgb(55, 128, 191)\", \"width\": 1.5}, \"type\": \"line\", \"x0\": 101, \"x1\": 101, \"y0\": 317.0, \"y1\": 318.5}, {\"line\": {\"color\": \"rgb(55, 128, 191)\", \"width\": 1.5}, \"type\": \"line\", \"x0\": 102, \"x1\": 102, \"y0\": 318.0, \"y1\": 318.25}, {\"line\": {\"color\": \"rgb(55, 128, 191)\", \"width\": 1.5}, \"type\": \"line\", \"x0\": 103, \"x1\": 103, \"y0\": 318.0, \"y1\": 320.5}, {\"line\": {\"color\": \"rgb(55, 128, 191)\", \"width\": 1.5}, \"type\": \"line\", \"x0\": 104, \"x1\": 104, \"y0\": 319.25, \"y1\": 323.0}, {\"line\": {\"color\": \"rgb(55, 128, 191)\", \"width\": 1.5}, \"type\": \"line\", \"x0\": 105, \"x1\": 105, \"y0\": 320.75, \"y1\": 322.75}, {\"line\": {\"color\": \"rgb(55, 128, 191)\", \"width\": 1.5}, \"type\": \"line\", \"x0\": 106, \"x1\": 106, \"y0\": 322.25, \"y1\": 324.0}, {\"line\": {\"color\": \"rgb(55, 128, 191)\", \"width\": 1.5}, \"type\": \"line\", \"x0\": 107, \"x1\": 107, \"y0\": 322.0, \"y1\": 322.0}, {\"line\": {\"color\": \"rgb(55, 128, 191)\", \"width\": 1.5}, \"type\": \"line\", \"x0\": 108, \"x1\": 108, \"y0\": 318.25, \"y1\": 319.25}, {\"line\": {\"color\": \"rgb(55, 128, 191)\", \"width\": 1.5}, \"type\": \"line\", \"x0\": 109, \"x1\": 109, \"y0\": 319.25, \"y1\": 320.5}, {\"line\": {\"color\": \"rgb(55, 128, 191)\", \"width\": 1.5}, \"type\": \"line\", \"x0\": 110, \"x1\": 110, \"y0\": 320.75, \"y1\": 322.0}, {\"line\": {\"color\": \"rgb(55, 128, 191)\", \"width\": 1.5}, \"type\": \"line\", \"x0\": 111, \"x1\": 111, \"y0\": 321.25, \"y1\": 325.5}, {\"line\": {\"color\": \"rgb(55, 128, 191)\", \"width\": 1.5}, \"type\": \"line\", \"x0\": 112, \"x1\": 112, \"y0\": 321.25, \"y1\": 321.5}, {\"line\": {\"color\": \"rgb(55, 128, 191)\", \"width\": 1.5}, \"type\": \"line\", \"x0\": 113, \"x1\": 113, \"y0\": 319.0, \"y1\": 320.25}, {\"line\": {\"color\": \"rgb(55, 128, 191)\", \"width\": 1.5}, \"type\": \"line\", \"x0\": 114, \"x1\": 114, \"y0\": 318.0, \"y1\": 319.0}, {\"line\": {\"color\": \"rgb(55, 128, 191)\", \"width\": 1.5}, \"type\": \"line\", \"x0\": 115, \"x1\": 115, \"y0\": 319.0, \"y1\": 323.0}, {\"line\": {\"color\": \"rgb(55, 128, 191)\", \"width\": 1.5}, \"type\": \"line\", \"x0\": 116, \"x1\": 116, \"y0\": 320.5, \"y1\": 321.75}, {\"line\": {\"color\": \"rgb(55, 128, 191)\", \"width\": 1.5}, \"type\": \"line\", \"x0\": 117, \"x1\": 117, \"y0\": 327.5, \"y1\": 330.75}, {\"line\": {\"color\": \"rgb(55, 128, 191)\", \"width\": 1.5}, \"type\": \"line\", \"x0\": 118, \"x1\": 118, \"y0\": 327.5, \"y1\": 329.5}, {\"line\": {\"color\": \"rgb(55, 128, 191)\", \"width\": 1.5}, \"type\": \"line\", \"x0\": 119, \"x1\": 119, \"y0\": 325.5, \"y1\": 327.75}, {\"line\": {\"color\": \"rgb(55, 128, 191)\", \"width\": 1.5}, \"type\": \"line\", \"x0\": 120, \"x1\": 120, \"y0\": 324.25, \"y1\": 325.25}], \"showlegend\": false, \"spikedistance\": 1000, \"template\": {\"data\": {\"bar\": [{\"error_x\": {\"color\": \"#2a3f5f\"}, \"error_y\": {\"color\": \"#2a3f5f\"}, \"marker\": {\"line\": {\"color\": \"#E5ECF6\", \"width\": 0.5}}, \"type\": \"bar\"}], \"barpolar\": [{\"marker\": {\"line\": {\"color\": \"#E5ECF6\", \"width\": 0.5}}, \"type\": \"barpolar\"}], \"carpet\": [{\"aaxis\": {\"endlinecolor\": \"#2a3f5f\", \"gridcolor\": \"white\", \"linecolor\": \"white\", \"minorgridcolor\": \"white\", \"startlinecolor\": \"#2a3f5f\"}, \"baxis\": {\"endlinecolor\": \"#2a3f5f\", \"gridcolor\": \"white\", \"linecolor\": \"white\", \"minorgridcolor\": \"white\", \"startlinecolor\": \"#2a3f5f\"}, \"type\": \"carpet\"}], \"choropleth\": [{\"colorbar\": {\"outlinewidth\": 0, \"ticks\": \"\"}, \"type\": \"choropleth\"}], \"contour\": [{\"colorbar\": {\"outlinewidth\": 0, \"ticks\": \"\"}, \"colorscale\": [[0.0, \"#0d0887\"], [0.1111111111111111, \"#46039f\"], [0.2222222222222222, \"#7201a8\"], [0.3333333333333333, \"#9c179e\"], [0.4444444444444444, \"#bd3786\"], [0.5555555555555556, \"#d8576b\"], [0.6666666666666666, \"#ed7953\"], [0.7777777777777778, \"#fb9f3a\"], [0.8888888888888888, \"#fdca26\"], [1.0, \"#f0f921\"]], \"type\": \"contour\"}], \"contourcarpet\": [{\"colorbar\": {\"outlinewidth\": 0, \"ticks\": \"\"}, \"type\": \"contourcarpet\"}], \"heatmap\": [{\"colorbar\": {\"outlinewidth\": 0, \"ticks\": \"\"}, \"colorscale\": [[0.0, \"#0d0887\"], [0.1111111111111111, \"#46039f\"], [0.2222222222222222, \"#7201a8\"], [0.3333333333333333, \"#9c179e\"], [0.4444444444444444, \"#bd3786\"], [0.5555555555555556, \"#d8576b\"], [0.6666666666666666, \"#ed7953\"], [0.7777777777777778, \"#fb9f3a\"], [0.8888888888888888, \"#fdca26\"], [1.0, \"#f0f921\"]], \"type\": \"heatmap\"}], \"heatmapgl\": [{\"colorbar\": {\"outlinewidth\": 0, \"ticks\": \"\"}, \"colorscale\": [[0.0, \"#0d0887\"], [0.1111111111111111, \"#46039f\"], [0.2222222222222222, \"#7201a8\"], [0.3333333333333333, \"#9c179e\"], [0.4444444444444444, \"#bd3786\"], [0.5555555555555556, \"#d8576b\"], [0.6666666666666666, \"#ed7953\"], [0.7777777777777778, \"#fb9f3a\"], [0.8888888888888888, \"#fdca26\"], [1.0, \"#f0f921\"]], \"type\": \"heatmapgl\"}], \"histogram\": [{\"marker\": {\"colorbar\": {\"outlinewidth\": 0, \"ticks\": \"\"}}, \"type\": \"histogram\"}], \"histogram2d\": [{\"colorbar\": {\"outlinewidth\": 0, \"ticks\": \"\"}, \"colorscale\": [[0.0, \"#0d0887\"], [0.1111111111111111, \"#46039f\"], [0.2222222222222222, \"#7201a8\"], [0.3333333333333333, \"#9c179e\"], [0.4444444444444444, \"#bd3786\"], [0.5555555555555556, \"#d8576b\"], [0.6666666666666666, \"#ed7953\"], [0.7777777777777778, \"#fb9f3a\"], [0.8888888888888888, \"#fdca26\"], [1.0, \"#f0f921\"]], \"type\": \"histogram2d\"}], \"histogram2dcontour\": [{\"colorbar\": {\"outlinewidth\": 0, \"ticks\": \"\"}, \"colorscale\": [[0.0, \"#0d0887\"], [0.1111111111111111, \"#46039f\"], [0.2222222222222222, \"#7201a8\"], [0.3333333333333333, \"#9c179e\"], [0.4444444444444444, \"#bd3786\"], [0.5555555555555556, \"#d8576b\"], [0.6666666666666666, \"#ed7953\"], [0.7777777777777778, \"#fb9f3a\"], [0.8888888888888888, \"#fdca26\"], [1.0, \"#f0f921\"]], \"type\": \"histogram2dcontour\"}], \"mesh3d\": [{\"colorbar\": {\"outlinewidth\": 0, \"ticks\": \"\"}, \"type\": \"mesh3d\"}], \"parcoords\": [{\"line\": {\"colorbar\": {\"outlinewidth\": 0, \"ticks\": \"\"}}, \"type\": \"parcoords\"}], \"pie\": [{\"automargin\": true, \"type\": \"pie\"}], \"scatter\": [{\"marker\": {\"colorbar\": {\"outlinewidth\": 0, \"ticks\": \"\"}}, \"type\": \"scatter\"}], \"scatter3d\": [{\"line\": {\"colorbar\": {\"outlinewidth\": 0, \"ticks\": \"\"}}, \"marker\": {\"colorbar\": {\"outlinewidth\": 0, \"ticks\": \"\"}}, \"type\": \"scatter3d\"}], \"scattercarpet\": [{\"marker\": {\"colorbar\": {\"outlinewidth\": 0, \"ticks\": \"\"}}, \"type\": \"scattercarpet\"}], \"scattergeo\": [{\"marker\": {\"colorbar\": {\"outlinewidth\": 0, \"ticks\": \"\"}}, \"type\": \"scattergeo\"}], \"scattergl\": [{\"marker\": {\"colorbar\": {\"outlinewidth\": 0, \"ticks\": \"\"}}, \"type\": \"scattergl\"}], \"scattermapbox\": [{\"marker\": {\"colorbar\": {\"outlinewidth\": 0, \"ticks\": \"\"}}, \"type\": \"scattermapbox\"}], \"scatterpolar\": [{\"marker\": {\"colorbar\": {\"outlinewidth\": 0, \"ticks\": \"\"}}, \"type\": \"scatterpolar\"}], \"scatterpolargl\": [{\"marker\": {\"colorbar\": {\"outlinewidth\": 0, \"ticks\": \"\"}}, \"type\": \"scatterpolargl\"}], \"scatterternary\": [{\"marker\": {\"colorbar\": {\"outlinewidth\": 0, \"ticks\": \"\"}}, \"type\": \"scatterternary\"}], \"surface\": [{\"colorbar\": {\"outlinewidth\": 0, \"ticks\": \"\"}, \"colorscale\": [[0.0, \"#0d0887\"], [0.1111111111111111, \"#46039f\"], [0.2222222222222222, \"#7201a8\"], [0.3333333333333333, \"#9c179e\"], [0.4444444444444444, \"#bd3786\"], [0.5555555555555556, \"#d8576b\"], [0.6666666666666666, \"#ed7953\"], [0.7777777777777778, \"#fb9f3a\"], [0.8888888888888888, \"#fdca26\"], [1.0, \"#f0f921\"]], \"type\": \"surface\"}], \"table\": [{\"cells\": {\"fill\": {\"color\": \"#EBF0F8\"}, \"line\": {\"color\": \"white\"}}, \"header\": {\"fill\": {\"color\": \"#C8D4E3\"}, \"line\": {\"color\": \"white\"}}, \"type\": \"table\"}]}, \"layout\": {\"annotationdefaults\": {\"arrowcolor\": \"#2a3f5f\", \"arrowhead\": 0, \"arrowwidth\": 1}, \"coloraxis\": {\"colorbar\": {\"outlinewidth\": 0, \"ticks\": \"\"}}, \"colorscale\": {\"diverging\": [[0, \"#8e0152\"], [0.1, \"#c51b7d\"], [0.2, \"#de77ae\"], [0.3, \"#f1b6da\"], [0.4, \"#fde0ef\"], [0.5, \"#f7f7f7\"], [0.6, \"#e6f5d0\"], [0.7, \"#b8e186\"], [0.8, \"#7fbc41\"], [0.9, \"#4d9221\"], [1, \"#276419\"]], \"sequential\": [[0.0, \"#0d0887\"], [0.1111111111111111, \"#46039f\"], [0.2222222222222222, \"#7201a8\"], [0.3333333333333333, \"#9c179e\"], [0.4444444444444444, \"#bd3786\"], [0.5555555555555556, \"#d8576b\"], [0.6666666666666666, \"#ed7953\"], [0.7777777777777778, \"#fb9f3a\"], [0.8888888888888888, \"#fdca26\"], [1.0, \"#f0f921\"]], \"sequentialminus\": [[0.0, \"#0d0887\"], [0.1111111111111111, \"#46039f\"], [0.2222222222222222, \"#7201a8\"], [0.3333333333333333, \"#9c179e\"], [0.4444444444444444, \"#bd3786\"], [0.5555555555555556, \"#d8576b\"], [0.6666666666666666, \"#ed7953\"], [0.7777777777777778, \"#fb9f3a\"], [0.8888888888888888, \"#fdca26\"], [1.0, \"#f0f921\"]]}, \"colorway\": [\"#636efa\", \"#EF553B\", \"#00cc96\", \"#ab63fa\", \"#FFA15A\", \"#19d3f3\", \"#FF6692\", \"#B6E880\", \"#FF97FF\", \"#FECB52\"], \"font\": {\"color\": \"#2a3f5f\"}, \"geo\": {\"bgcolor\": \"white\", \"lakecolor\": \"white\", \"landcolor\": \"#E5ECF6\", \"showlakes\": true, \"showland\": true, \"subunitcolor\": \"white\"}, \"hoverlabel\": {\"align\": \"left\"}, \"hovermode\": \"closest\", \"mapbox\": {\"style\": \"light\"}, \"paper_bgcolor\": \"white\", \"plot_bgcolor\": \"#E5ECF6\", \"polar\": {\"angularaxis\": {\"gridcolor\": \"white\", \"linecolor\": \"white\", \"ticks\": \"\"}, \"bgcolor\": \"#E5ECF6\", \"radialaxis\": {\"gridcolor\": \"white\", \"linecolor\": \"white\", \"ticks\": \"\"}}, \"scene\": {\"xaxis\": {\"backgroundcolor\": \"#E5ECF6\", \"gridcolor\": \"white\", \"gridwidth\": 2, \"linecolor\": \"white\", \"showbackground\": true, \"ticks\": \"\", \"zerolinecolor\": \"white\"}, \"yaxis\": {\"backgroundcolor\": \"#E5ECF6\", \"gridcolor\": \"white\", \"gridwidth\": 2, \"linecolor\": \"white\", \"showbackground\": true, \"ticks\": \"\", \"zerolinecolor\": \"white\"}, \"zaxis\": {\"backgroundcolor\": \"#E5ECF6\", \"gridcolor\": \"white\", \"gridwidth\": 2, \"linecolor\": \"white\", \"showbackground\": true, \"ticks\": \"\", \"zerolinecolor\": \"white\"}}, \"shapedefaults\": {\"line\": {\"color\": \"#2a3f5f\"}}, \"ternary\": {\"aaxis\": {\"gridcolor\": \"white\", \"linecolor\": \"white\", \"ticks\": \"\"}, \"baxis\": {\"gridcolor\": \"white\", \"linecolor\": \"white\", \"ticks\": \"\"}, \"bgcolor\": \"#E5ECF6\", \"caxis\": {\"gridcolor\": \"white\", \"linecolor\": \"white\", \"ticks\": \"\"}}, \"title\": {\"x\": 0.05}, \"xaxis\": {\"automargin\": true, \"gridcolor\": \"white\", \"linecolor\": \"white\", \"ticks\": \"\", \"title\": {\"standoff\": 15}, \"zerolinecolor\": \"white\", \"zerolinewidth\": 2}, \"yaxis\": {\"automargin\": true, \"gridcolor\": \"white\", \"linecolor\": \"white\", \"ticks\": \"\", \"title\": {\"standoff\": 15}, \"zerolinecolor\": \"white\", \"zerolinewidth\": 2}}}, \"title\": {\"text\": \"ZCN20\", \"x\": 0.5, \"xanchor\": \"center\", \"y\": 0.9, \"yanchor\": \"top\"}, \"xaxis\": {\"anchor\": \"y2\", \"showgrid\": true, \"showspikes\": true, \"showticklabels\": true, \"spikedash\": \"solid\", \"spikemode\": \"toaxis+across\", \"spikethickness\": 1, \"tickangle\": 45, \"tickmode\": \"array\", \"ticktext\": [20191210, 20191218, 20191227, 20200107, 20200115, 20200124, 20200203, 20200211, 20200220, 20200228, 20200309, 20200317, 20200325, 20200402, 20200413, 20200421, 20200429, 20200507, 20200515, 20200526, 20200602], \"tickvals\": [1, 7, 13, 19, 25, 31, 37, 43, 49, 55, 61, 67, 73, 79, 85, 91, 97, 103, 109, 115, 120]}, \"yaxis\": {\"domain\": [0.17, 1], \"range\": [309.0, 404.5], \"showspikes\": true, \"spikedash\": \"solid\", \"spikemode\": \"toaxis+across\", \"spikethickness\": 1}, \"yaxis2\": {\"domain\": [0, 0.15], \"range\": [0, 246973]}},\n",
       "                        {\"responsive\": true}\n",
       "                    ).then(function(){\n",
       "                            \n",
       "var gd = document.getElementById('98c0c3f5-8a3a-474b-a4e8-28480e4398c7');\n",
       "var x = new MutationObserver(function (mutations, observer) {{\n",
       "        var display = window.getComputedStyle(gd).display;\n",
       "        if (!display || display === 'none') {{\n",
       "            console.log([gd, 'removed!']);\n",
       "            Plotly.purge(gd);\n",
       "            observer.disconnect();\n",
       "        }}\n",
       "}});\n",
       "\n",
       "// Listen for the removal of the full notebook cells\n",
       "var notebookContainer = gd.closest('#notebook-container');\n",
       "if (notebookContainer) {{\n",
       "    x.observe(notebookContainer, {childList: true});\n",
       "}}\n",
       "\n",
       "// Listen for the clearing of the current output cell\n",
       "var outputEl = gd.closest('.output');\n",
       "if (outputEl) {{\n",
       "    x.observe(outputEl, {childList: true});\n",
       "}}\n",
       "\n",
       "                        })\n",
       "                };\n",
       "                });\n",
       "            </script>\n",
       "        </div>"
      ]
     },
     "metadata": {},
     "output_type": "display_data"
    }
   ],
   "source": [
    "import importlib\n",
    "importlib.reload(dashapp)\n",
    "df_c = pga.get_sql(f\"select * from {futtab} where symbol='ZCN20'\").iloc[-120:]\n",
    "iplot(dashapp.PlotlyCandles(df_c,date_column='settle_date',title=\"ZCN20\").get_figure())"
   ]
  },
  {
   "cell_type": "code",
   "execution_count": null,
   "metadata": {},
   "outputs": [],
   "source": []
  }
 ],
 "metadata": {
  "kernelspec": {
   "display_name": "Python 3",
   "language": "python",
   "name": "python3"
  },
  "language_info": {
   "codemirror_mode": {
    "name": "ipython",
    "version": 3
   },
   "file_extension": ".py",
   "mimetype": "text/x-python",
   "name": "python",
   "nbconvert_exporter": "python",
   "pygments_lexer": "ipython3",
   "version": "3.6.5"
  }
 },
 "nbformat": 4,
 "nbformat_minor": 2
}
