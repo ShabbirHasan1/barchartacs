{
 "cells": [
  {
   "cell_type": "markdown",
   "metadata": {},
   "source": [
    "# options_table_loader.ipynb\n",
    "### Write options daily settlement files for a range of years and months to Postgres "
   ]
  },
  {
   "cell_type": "markdown",
   "metadata": {},
   "source": [
    "#### Overview:\n",
    "Options and futures daily settlement data is written to a Postgres database with the following characteristics:\n",
    "\n",
    "    \n",
    "|  Type  |      Name     | \n",
    "|--------|---------------|\n",
    "|Database|   *sec_db*    |\n",
    "| Schema | *sec_schema*  |\n",
    "| Table  |*options_table*|\n",
    "| Table  |*futures_table*|\n",
    "\n",
    "\n",
    "#### Usage:\n",
    "1. Set commodities to update in sec_db database\n",
    "```\n",
    "CONTRACT_LIST = ['CL','CB','ES']\n",
    "```\n",
    "2. If performing an update of the sec_db database for a single month, set the variable `SINGLE_YYYYMM` to a value like `201909` in the second cell below.  Also, set `WRITE_TO_POSTGRES` to `True`\n",
    "```\n",
    "SINGLE_YYYYMM = 201909\n",
    "WRITE_TO_POSTGRES = True\n",
    "```\n",
    "3. If performing an update on multiple months, set the variables `BEGIN_YEAR` and `END_YEAR` to values like `2011` and `2020` in the second cell below.  Also, set `WRITE_TO_POSTGRES` to `False`\n",
    "```\n",
    "BEGIN_YEAR = 2011\n",
    "END_YEAR = 2019\n",
    "WRITE_TO_POSTGRES = False\n",
    "```\n"
   ]
  },
  {
   "cell_type": "code",
   "execution_count": null,
   "metadata": {},
   "outputs": [],
   "source": [
    "import zipfile\n",
    "import glob\n",
    "import pandas as pd\n",
    "import numpy as np\n",
    "\n",
    "from argparse import ArgumentParser\n",
    "from argparse import RawDescriptionHelpFormatter\n",
    "import sys\n",
    "import os\n",
    "if  not './' in sys.path:\n",
    "    sys.path.append('./')\n",
    "if  not '../' in sys.path:\n",
    "    sys.path.append('../')\n",
    "\n",
    "from barchartacs import build_db\n",
    "from barchartacs import db_info\n",
    "import datetime\n",
    "import io\n",
    "from tqdm import tqdm,tqdm_notebook\n",
    "from barchartacs import pg_pandas as pg\n",
    "import importlib\n",
    "importlib.reload(db_info)\n",
    "\n",
    "\n",
    "\n",
    "DB_USER_NAME = None\n",
    "DB_NAME = 'sec_db'\n",
    "SCHEMA_NAME = 'sec_schema'\n",
    "UNDERLYING_TABLE_NAME = 'options_table'\n",
    "FULL_TABLE_NAME = f'{SCHEMA_NAME}.{UNDERLYING_TABLE_NAME}'\n",
    "CSV_TEMP_PATH = os.path.abspath('./temp_folder/df_all_temp.csv')\n"
   ]
  },
  {
   "cell_type": "code",
   "execution_count": null,
   "metadata": {},
   "outputs": [],
   "source": [
    "ONLY_DO_SINGLE_MONTH = True\n",
    "WRITE_TO_POSTGRES = True\n",
    "CONTRACT_LIST = ['CL','CB','ES']#['NG']\n",
    "STRIKE_DIVISOR_DICT = {'GE':100,'NG':100,'CL':10,'CB':10}\n",
    "STRIKE_DIVISOR = None\n",
    "SINGLE_YYYYMM = 201909\n",
    "BEGIN_YEAR = 2011\n",
    "END_YEAR = 2020\n",
    "csv_temp_path = CSV_TEMP_PATH #'./temp_folder/df_all_temp.csv'"
   ]
  },
  {
   "cell_type": "code",
   "execution_count": null,
   "metadata": {},
   "outputs": [],
   "source": [
    "def psql_copy():\n",
    "    global DB_USER_NAME,WRITE_TO_POSTGRES\n",
    "    copy_cmd = f\"\\COPY {FULL_TABLE_NAME} FROM '{CSV_TEMP_PATH}' DELIMITER ',' CSV HEADER;\"\n",
    "#     copy_cmd = f\"select count(*) from {FULL_TABLE_NAME};\"\n",
    "    username_clause = ''\n",
    "    if DB_USER_NAME is not None:\n",
    "        psql_cmd = f'sudo -u {DB_USER_NAME} psql -d testdb -c \"CMD\"'\n",
    "    else:\n",
    "        psql_cmd = f'psql  -d sec_db -c \"CMD\"'\n",
    "    psql_cmd = psql_cmd.replace('CMD',copy_cmd)\n",
    "    if  WRITE_TO_POSTGRES:  # double check !!!\n",
    "       !{psql_cmd}\n",
    "    else:\n",
    "        print(psql_cmd)\n",
    " "
   ]
  },
  {
   "cell_type": "markdown",
   "metadata": {},
   "source": [
    "### Execute a range of years"
   ]
  },
  {
   "cell_type": "code",
   "execution_count": null,
   "metadata": {
    "scrolled": true
   },
   "outputs": [],
   "source": [
    "if not ONLY_DO_SINGLE_MONTH:\n",
    "    zip_folder_parent = open('./temp_folder/zip_folder_parent.txt','r').read() + \"/options\"\n",
    "    df_all = None\n",
    "\n",
    "    # for yyyy in tqdm_notebook(np.arange(2011,2020)):\n",
    "    for yyyy in tqdm_notebook(np.arange(BEGIN_YEAR,END_YEAR)):\n",
    "        print(f'executing year {yyyy} at {datetime.datetime.now()}')\n",
    "        for mm in tqdm_notebook(np.arange(1,13)):\n",
    "            yyyymm = yyyy*100 + mm\n",
    "            print(yyyymm)\n",
    "            bdb = build_db.BuildDb(zip_folder_parent,yyyymm,strike_divisor_dict=STRIKE_DIVISOR_DICT,\n",
    "                                   contract_list=CONTRACT_LIST,write_to_database=False)\n",
    "            try:\n",
    "                df_temp = bdb.execute()            \n",
    "                if df_all is None:\n",
    "                    df_all = df_temp.copy()\n",
    "                else:\n",
    "                    df_all = df_all.append(df_temp)\n",
    "                    df_all.index = list(range(len(df_all)))\n",
    "            except Exception as e:\n",
    "                bdb.logger.warn(f'ERROR MAIN LOOP: {str(e)}')\n",
    "\n",
    "    # write all data to a csv file, that will be used in the postgres COPY command\n",
    "    df_all.to_csv(csv_temp_path,index=False)\n"
   ]
  },
  {
   "cell_type": "markdown",
   "metadata": {},
   "source": [
    "# ONLY Execute this cell if you want a specific yyyymm"
   ]
  },
  {
   "cell_type": "code",
   "execution_count": null,
   "metadata": {},
   "outputs": [],
   "source": [
    "if ONLY_DO_SINGLE_MONTH:\n",
    "    yyyymm = SINGLE_YYYYMM\n",
    "    zip_folder_parent = open('./temp_folder/zip_folder_parent.txt','r').read() + \"/options\"\n",
    "    df_single = None\n",
    "\n",
    "    bdb = build_db.BuildDb(zip_folder_parent,yyyymm,strike_divisor_dict=STRIKE_DIVISOR_DICT,\n",
    "                           contract_list=CONTRACT_LIST,write_to_database=False)\n",
    "    try:\n",
    "        df_temp = bdb.execute()            \n",
    "        if df_single is None:\n",
    "            df_single = df_temp.copy()\n",
    "        else:\n",
    "            df_single = df_single.append(df_temp)\n",
    "            df_single.index = list(range(len(df_single)))\n",
    "    except Exception as e:\n",
    "        bdb.logger.warn(f'ERROR MAIN LOOP: {str(e)}')# NOW WRITE THIS DATA FOR THIS YEAR\n",
    "    df_single.to_csv(csv_temp_path,index=False)\n"
   ]
  },
  {
   "cell_type": "code",
   "execution_count": null,
   "metadata": {},
   "outputs": [],
   "source": [
    "if WRITE_TO_POSTGRES:\n",
    "    bdb.logger.info(f'MAIN LOOP: writing data f to database')\n",
    "    psql_copy()\n",
    "#     abspath = os.path.abspath(csv_temp_path)\n",
    "#     bdb.pga.exec_sql_raw(f\"COPY sec_schema.options_table FROM '{abspath}' DELIMITER ',' CSV HEADER\")    "
   ]
  },
  {
   "cell_type": "code",
   "execution_count": null,
   "metadata": {},
   "outputs": [],
   "source": [
    "def get_data_by_contract(pga,contract,\n",
    "            month_code_clause=None,\n",
    "             strike_clause=None,\n",
    "             pc_clause=None,\n",
    "             settle_date_clause=None,\n",
    "             limit=None):\n",
    "    opttab = 'sec_schema.options_table'\n",
    "    cl_month_code = '' if month_code_clause is None else f\"and substring(symbol,3,1) {month_code_clause}\"\n",
    "    cl_strike = '' if strike_clause is None else f\"and strike {strike_clause}\"\n",
    "    cl_pc = '' if pc_clause is None else f\"and pc  {pc_clause}\"\n",
    "    cl_sd = '' if settle_date_clause is None else f\"and 'settle_date {settle_date_clause}\"\n",
    "    clim = '' if limit is None else f\"limit {limit}\"\n",
    "    other_criteria = f'{cl_month_code} {cl_strike} {cl_pc} {cl_sd} {clim}'\n",
    "    sql = f\"select * from {opttab} where substring(symbol,1,2) = '{contract}' {other_criteria};\"\n",
    "    print(sql)\n",
    "    df=  pga.get_sql(sql)\n",
    "    return df\n",
    "\n",
    "\n"
   ]
  },
  {
   "cell_type": "code",
   "execution_count": null,
   "metadata": {},
   "outputs": [],
   "source": []
  },
  {
   "cell_type": "code",
   "execution_count": null,
   "metadata": {},
   "outputs": [],
   "source": [
    "if ONLY_DO_SINGLE_MONTH:\n",
    "    df_single.symbol.unique()"
   ]
  },
  {
   "cell_type": "code",
   "execution_count": null,
   "metadata": {},
   "outputs": [],
   "source": [
    "#!jupyter nbconvert step_02_options_table_loader.ipynb --to python"
   ]
  },
  {
   "cell_type": "code",
   "execution_count": null,
   "metadata": {},
   "outputs": [],
   "source": []
  }
 ],
 "metadata": {
  "kernelspec": {
   "display_name": "Python 3",
   "language": "python",
   "name": "python3"
  },
  "language_info": {
   "codemirror_mode": {
    "name": "ipython",
    "version": 3
   },
   "file_extension": ".py",
   "mimetype": "text/x-python",
   "name": "python",
   "nbconvert_exporter": "python",
   "pygments_lexer": "ipython3",
   "version": "3.6.5"
  }
 },
 "nbformat": 4,
 "nbformat_minor": 2
}
