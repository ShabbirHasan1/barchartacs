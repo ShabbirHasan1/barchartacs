{
 "cells": [
  {
   "cell_type": "markdown",
   "metadata": {},
   "source": [
    "### Redis server to support dashapps"
   ]
  },
  {
   "cell_type": "markdown",
   "metadata": {},
   "source": [
    "## IF YOU WANT TO SEE WARNINGS, COMMENT THIS OUT"
   ]
  },
  {
   "cell_type": "code",
   "execution_count": 1,
   "metadata": {},
   "outputs": [],
   "source": [
    "import warnings\n",
    "warnings.filterwarnings(\"ignore\")"
   ]
  },
  {
   "cell_type": "markdown",
   "metadata": {},
   "source": [
    "### Imports to support redis udates"
   ]
  },
  {
   "cell_type": "code",
   "execution_count": 2,
   "metadata": {
    "scrolled": true
   },
   "outputs": [],
   "source": [
    "import sys\n",
    "import os\n",
    "\n",
    "if  not os.path.abspath('./') in sys.path:\n",
    "    sys.path.append(os.path.abspath('./'))\n",
    "if  not os.path.abspath('../') in sys.path:\n",
    "    sys.path.append(os.path.abspath('../'))\n",
    "\n",
    "import pandas as pd\n",
    "\n",
    "import pyarrow as pa\n",
    "import redis\n",
    "\n",
    "import time\n",
    "import schedule_it\n",
    "\n"
   ]
  },
  {
   "cell_type": "markdown",
   "metadata": {},
   "source": [
    "### Imports relating to application"
   ]
  },
  {
   "cell_type": "code",
   "execution_count": 3,
   "metadata": {},
   "outputs": [],
   "source": [
    "import pandas as pd\n",
    "import numpy as np"
   ]
  },
  {
   "cell_type": "code",
   "execution_count": 4,
   "metadata": {},
   "outputs": [],
   "source": [
    "redis_port = 6379\n",
    "redis_db = redis.Redis(host = 'localhost',port=6379,db=0)"
   ]
  },
  {
   "cell_type": "code",
   "execution_count": 5,
   "metadata": {},
   "outputs": [],
   "source": [
    "def update_redis_df(key,df):\n",
    "    context = pa.default_serialization_context()\n",
    "    redis_db.set(key, context.serialize(df).to_buffer().to_pybytes())\n"
   ]
  },
  {
   "cell_type": "code",
   "execution_count": 6,
   "metadata": {},
   "outputs": [],
   "source": [
    "def schedule_updates(hour,update_callback):\n",
    "    logger = schedule_it.init_root_logger(\"logfile.log\", \"INFO\")\n",
    "    while True:\n",
    "        logger.info(f\"scheduling update for hour {hour}\")\n",
    "        sch = schedule_it.ScheduleNext('hour', hour,logger = logger)\n",
    "        sch.wait()\n",
    "        logger.info(f\"updating history\")\n",
    "        update_db()\n",
    "        logger.info(f\"sleeping for an hour before next scheduling\")\n",
    "        time.sleep(60*60)\n",
    "    "
   ]
  },
  {
   "cell_type": "code",
   "execution_count": null,
   "metadata": {},
   "outputs": [
    {
     "name": "stdout",
     "output_type": "stream",
     "text": [
      "updating db\n"
     ]
    },
    {
     "name": "stderr",
     "output_type": "stream",
     "text": [
      "2020-06-23 15:31:59,878 - root - INFO - scheduling update for hour 8\n",
      "2020-06-23 15:31:59,958 - root - INFO - Sleeping at time 2020-06-23 15:31:59.958291-04:00 for 16.466944 hours\n"
     ]
    }
   ],
   "source": [
    "def update_db():\n",
    "    print(f\"updating db\")\n",
    "    df_dummy_tester = pd.DataFrame({'x':range(10),'y':[i*10 for i in range(10)]})\n",
    "    update_redis_df('df_dummy_tester',df_dummy_tester)\n",
    "    time.sleep(10)\n",
    "\n",
    "if __name__=='__main__':\n",
    "    update_db()\n",
    "    schedule_updates(8,update_db)"
   ]
  },
  {
   "cell_type": "markdown",
   "metadata": {},
   "source": [
    "## END"
   ]
  },
  {
   "cell_type": "code",
   "execution_count": null,
   "metadata": {},
   "outputs": [],
   "source": []
  }
 ],
 "metadata": {
  "kernelspec": {
   "display_name": "Python 3",
   "language": "python",
   "name": "python3"
  },
  "language_info": {
   "codemirror_mode": {
    "name": "ipython",
    "version": 3
   },
   "file_extension": ".py",
   "mimetype": "text/x-python",
   "name": "python",
   "nbconvert_exporter": "python",
   "pygments_lexer": "ipython3",
   "version": "3.6.5"
  }
 },
 "nbformat": 4,
 "nbformat_minor": 2
}
