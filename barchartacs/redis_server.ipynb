{
 "cells": [
  {
   "cell_type": "markdown",
   "metadata": {},
   "source": [
    "### Redis server to support Dashapps in this folder"
   ]
  },
  {
   "cell_type": "markdown",
   "metadata": {},
   "source": [
    "## IF YOU WANT TO SEE WARNINGS, COMMENT THIS OUT"
   ]
  },
  {
   "cell_type": "code",
   "execution_count": 1,
   "metadata": {},
   "outputs": [],
   "source": [
    "import warnings\n",
    "warnings.filterwarnings(\"ignore\")"
   ]
  },
  {
   "cell_type": "code",
   "execution_count": 2,
   "metadata": {
    "scrolled": true
   },
   "outputs": [],
   "source": [
    "import pandas as pd\n",
    "import numpy as np\n",
    "\n",
    "import sys\n",
    "import os\n",
    "\n",
    "if  not os.path.abspath('./') in sys.path:\n",
    "    sys.path.append(os.path.abspath('./'))\n",
    "if  not os.path.abspath('../') in sys.path:\n",
    "    sys.path.append(os.path.abspath('../'))\n",
    "\n",
    "from barchartacs import build_db\n",
    "from IPython import display\n",
    "\n",
    "import datetime\n",
    "from dateutil.relativedelta import relativedelta\n",
    "import io\n",
    "\n",
    "from tqdm import tqdm,tqdm_notebook\n",
    "\n",
    "from barchartacs import pg_pandas as pg\n",
    "from barchartacs import schedule_it as sch\n",
    "\n",
    "import mibian\n",
    "import py_vollib\n",
    "import importlib\n",
    "from py_vollib import black\n",
    "from py_vollib.black import implied_volatility\n",
    "\n",
    "import ipdb,pdb\n",
    "import traceback\n",
    "\n",
    "import pandas_datareader.data as pdr\n",
    "from scipy.stats import norm\n",
    "\n",
    "import pyarrow as pa\n",
    "import redis\n",
    "\n",
    "import schedule_it\n"
   ]
  },
  {
   "cell_type": "code",
   "execution_count": 3,
   "metadata": {},
   "outputs": [],
   "source": [
    "redis_port = 6379\n",
    "redis_db = redis.Redis(host = 'localhost',port=6379,db=0)"
   ]
  },
  {
   "cell_type": "markdown",
   "metadata": {},
   "source": [
    "#### Step 01: define important functions that are used below"
   ]
  },
  {
   "cell_type": "code",
   "execution_count": 4,
   "metadata": {},
   "outputs": [],
   "source": [
    "def dt_to_yyyymmdd(d):\n",
    "    return int(d.year)*100*100 + int(d.month)*100 + int(d.day)\n",
    "\n",
    "def str_to_yyyymmdd(d,sep='-'):\n",
    "    try:\n",
    "        dt = datetime.datetime.strptime(str(d)[:10],f'%Y{sep}%m{sep}%d')\n",
    "    except:\n",
    "        return None\n",
    "    s = '%04d%02d%02d' %(dt.year,dt.month,dt.day)\n",
    "    return int(s)\n",
    "\n",
    "def str_to_date(d,sep='-'):\n",
    "    try:\n",
    "        dt = datetime.datetime.strptime(str(d)[:10],f'%Y{sep}%m{sep}%d')\n",
    "    except:\n",
    "        return None\n",
    "    return dt\n",
    "\n",
    "\n",
    "def fetch_history(symbol,dt_beg,dt_end):\n",
    "    df = pdr.DataReader(symbol, 'yahoo', dt_beg, dt_end)\n",
    "    # move index to date column, sort and recreate index\n",
    "    df['date'] = df.index\n",
    "    df = df.sort_values('date')\n",
    "    df.index = list(range(len(df)))\n",
    "    # make adj close the close\n",
    "    df = df.drop(['Adj Close'],axis=1)\n",
    "    cols = df.columns.values \n",
    "    cols_dict = {c:c[0].lower() + c[1:] for c in cols}\n",
    "    df = df.rename(columns = cols_dict)\n",
    "    df['settle_date'] = df.date.apply(str_to_yyyymmdd)\n",
    "    return df\n",
    "\n",
    "def update_redis_df(key,df):\n",
    "    context = pa.default_serialization_context()\n",
    "    redis_db.set(key, context.serialize(df).to_buffer().to_pybytes())\n"
   ]
  },
  {
   "cell_type": "markdown",
   "metadata": {},
   "source": [
    "#### Step 02: get Initial Data"
   ]
  },
  {
   "cell_type": "code",
   "execution_count": 24,
   "metadata": {},
   "outputs": [],
   "source": [
    "def update_db():\n",
    "    sp_data_end_date = datetime.datetime.now()\n",
    "    sp_data_beg_date = sp_data_end_date - relativedelta(years=30)\n",
    "    beg_date_str = datetime.datetime.strftime(sp_data_beg_date,'%Y-%m-%d')\n",
    "    end_date_str = datetime.datetime.strftime(sp_data_end_date,'%Y-%m-%d')\n",
    "    df_init_dates = pd.DataFrame({'sp_data_end_date':[sp_data_end_date],\n",
    "                                 'sp_data_beg_date':[sp_data_beg_date],\n",
    "                                 'beg_date_str':[beg_date_str],\n",
    "                                 'end_date_str':[end_date_str]})\n",
    "\n",
    "    df_spy = fetch_history('^GSPC', sp_data_beg_date, sp_data_end_date)\n",
    "    update_redis_df('df_spy',df_spy)\n",
    "    \n",
    "    df_vix = fetch_history('^VIX',sp_data_beg_date,sp_data_end_date)\n",
    "    update_redis_df('df_vix',df_vix)\n",
    "    \n",
    "    df_tnx = fetch_history('^TNX',sp_data_beg_date,sp_data_end_date)\n",
    "    update_redis_df('df_tnx',df_tnx)\n",
    "\n",
    "    fred_url = 'https://fred.stlouisfed.org/graph/fredgraph.csv?bgcolor=%23e1e9f0&chart_type=line&drp=0&fo=open%20sans&graph_bgcolor=%23ffffff&height=450&mode=fred&recession_bars=on&txtcolor=%23444444&ts=12&tts=12&width=1168&nt=0&thu=0&trc=0&show_legend=yes&show_axis_titles=yes&show_tooltip=yes&id=DGS1&scale=left&cosd=1962-01-02&coed=2021-05-01&line_color=%234572a7&link_values=false&line_style=solid&mark_type=none&mw=3&lw=2&ost=-99999&oet=99999&mma=0&fml=a&fq=Daily&fam=avg&fgst=lin&fgsnd=2009-06-01&line_index=1&transformation=lin&vintage_date=2021-05-04&revision_date=2021-05-04&nd=1962-01-02'\n",
    "    df_1yr_rate = pd.read_csv(fred_url)\n",
    "    dates_1yr = [datetime.datetime.strptime(d,'%Y-%m-%d') for d in df_1yr_rate.DATE.values]\n",
    "    df_1yr_rate['settle_date'] = [int(d.year)*100*100+int(d.month)*100+int(d.day) for d in dates_1yr]\n",
    "    df_1yr_rate = df_1yr_rate.rename(columns={'DGS1':'rate'})\n",
    "    df_1yr_rate = df_1yr_rate[['settle_date','rate']]\n",
    "    df_1yr_rate.rate = [0.0 if s=='.' else float(s) / 100 for s in df_1yr_rate.rate]\n",
    "    df_1yr_rate['prev'] = df_1yr_rate.rate.rolling(5).mean()\n",
    "    df_1yr_rate.rate = df_1yr_rate.apply(lambda r:r.prev if r.rate==0 else r.rate,axis=1)\n",
    "    # add misssing final dates to df_1yr_rate\n",
    "    sd1max = df_1yr_rate.settle_date.max()\n",
    "    settle_dates_to_append = df_spy[df_spy.settle_date>sd1max].settle_date.values\n",
    "    s1_last = df_1yr_rate.iloc[-1]\n",
    "    for sdta in settle_dates_to_append:\n",
    "        s1_last_copy = s1_last.copy()\n",
    "        s1_last_copy['settle_date'] = int(sdta)\n",
    "        df_1yr_rate = df_1yr_rate.append(s1_last_copy,ignore_index=True)\n",
    "    df_1yr_rate.settle_date = df_1yr_rate.settle_date.astype(int)\n",
    "    update_redis_df('df_1yr_rate',df_1yr_rate)\n",
    "\n",
    "    df_div = pd.read_csv('sp_div_yield.csv')\n",
    "    update_redis_df('df_div',df_div)\n",
    "    \n"
   ]
  },
  {
   "cell_type": "code",
   "execution_count": 25,
   "metadata": {},
   "outputs": [],
   "source": [
    "def schedule_updates(h=23):\n",
    "    logger = schedule_it.init_root_logger(\"logfile.log\", \"INFO\")\n",
    "    while True:\n",
    "        logger.info(f\"scheduling update for hour {h}\")\n",
    "        sch = schedule_it.ScheduleNext('hour', h,logger = logger)\n",
    "        sch.wait()\n",
    "        logger.info(f\"updating history\")\n",
    "        update_db()\n",
    "        logger.info(f\"sleeping for an hour before next scheduling\")\n",
    "        time.sleep(60*60)\n",
    "    "
   ]
  },
  {
   "cell_type": "code",
   "execution_count": null,
   "metadata": {},
   "outputs": [
    {
     "name": "stderr",
     "output_type": "stream",
     "text": [
      "2020-06-12 07:02:04,790 - root - INFO - scheduling update for hour 23\n",
      "2020-06-12 07:02:04,791 - root - INFO - Sleeping at time 2020-06-12 07:02:04.790968-04:00 for 15.965556 hours\n"
     ]
    }
   ],
   "source": [
    "if __name__=='__main__':\n",
    "    update_db()\n",
    "    schedule_updates()"
   ]
  },
  {
   "cell_type": "markdown",
   "metadata": {},
   "source": [
    "## END"
   ]
  },
  {
   "cell_type": "code",
   "execution_count": null,
   "metadata": {},
   "outputs": [],
   "source": []
  }
 ],
 "metadata": {
  "kernelspec": {
   "display_name": "Python 3",
   "language": "python",
   "name": "python3"
  }
 },
 "nbformat": 4,
 "nbformat_minor": 2
}
