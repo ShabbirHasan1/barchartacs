{
 "cells": [
  {
   "cell_type": "markdown",
   "metadata": {},
   "source": [
    "### Redis server to support dashapps"
   ]
  },
  {
   "cell_type": "markdown",
   "metadata": {},
   "source": [
    "## IF YOU WANT TO SEE WARNINGS, COMMENT THIS OUT"
   ]
  },
  {
   "cell_type": "code",
   "execution_count": 1,
   "metadata": {},
   "outputs": [],
   "source": [
    "import warnings\n",
    "warnings.filterwarnings(\"ignore\")"
   ]
  },
  {
   "cell_type": "markdown",
   "metadata": {},
   "source": [
    "### Imports to support redis"
   ]
  },
  {
   "cell_type": "code",
   "execution_count": 2,
   "metadata": {
    "scrolled": true
   },
   "outputs": [],
   "source": [
    "import sys\n",
    "import os\n",
    "\n",
    "if  not os.path.abspath('./') in sys.path:\n",
    "    sys.path.append(os.path.abspath('./'))\n",
    "if  not os.path.abspath('../') in sys.path:\n",
    "    sys.path.append(os.path.abspath('../'))\n",
    "\n",
    "import pandas as pd\n",
    "\n",
    "import pyarrow as pa\n",
    "import redis\n",
    "\n",
    "import time\n",
    "import schedule_it\n",
    "\n"
   ]
  },
  {
   "cell_type": "markdown",
   "metadata": {},
   "source": [
    "### Imports to support application"
   ]
  },
  {
   "cell_type": "code",
   "execution_count": 3,
   "metadata": {},
   "outputs": [
    {
     "data": {
      "text/html": [
       "        <script type=\"text/javascript\">\n",
       "        window.PlotlyConfig = {MathJaxConfig: 'local'};\n",
       "        if (window.MathJax) {MathJax.Hub.Config({SVG: {font: \"STIX-Web\"}});}\n",
       "        if (typeof require !== 'undefined') {\n",
       "        require.undef(\"plotly\");\n",
       "        requirejs.config({\n",
       "            paths: {\n",
       "                'plotly': ['https://cdn.plot.ly/plotly-latest.min']\n",
       "            }\n",
       "        });\n",
       "        require(['plotly'], function(Plotly) {\n",
       "            window._Plotly = Plotly;\n",
       "        });\n",
       "        }\n",
       "        </script>\n",
       "        "
      ]
     },
     "metadata": {},
     "output_type": "display_data"
    }
   ],
   "source": [
    "import zipfile\n",
    "import glob\n",
    "import pandas as pd\n",
    "import numpy as np\n",
    "\n",
    "from argparse import ArgumentParser\n",
    "from argparse import RawDescriptionHelpFormatter\n",
    "import sys\n",
    "import os\n",
    "\n",
    "from barchartacs import build_db\n",
    "from barchartacs import db_info\n",
    "import plotly.graph_objs as go\n",
    "from plotly.offline import  init_notebook_mode, iplot\n",
    "init_notebook_mode(connected=True)\n",
    "import plotly.tools as tls\n",
    "from plotly.subplots import make_subplots\n",
    "from plotly.graph_objs.layout import Font,Margin\n",
    "from IPython import display\n",
    "\n",
    "import datetime\n",
    "import pytz\n",
    "import pathlib\n",
    "from dateutil.relativedelta import *\n",
    "import pandas_market_calendars as pmc\n",
    "\n",
    "import io\n",
    "from tqdm import tqdm,tqdm_notebook\n",
    "from barchartacs import pg_pandas as pg\n",
    "import mibian\n",
    "import py_vollib\n",
    "import importlib\n",
    "from py_vollib import black\n",
    "from py_vollib.black import implied_volatility\n",
    "import ipdb\n",
    "import traceback\n",
    "import pandas_datareader.data as pdr\n",
    "from dashapp import dashapp2 as dashapp\n",
    "import dash_html_components as html\n",
    "import dash_core_components as dcc\n",
    "\n",
    "\n",
    "# importlib.reload(build_db)"
   ]
  },
  {
   "cell_type": "code",
   "execution_count": 4,
   "metadata": {},
   "outputs": [],
   "source": [
    "redis_port = 6379\n",
    "redis_db = redis.Redis(host = 'localhost',port=6379,db=0)"
   ]
  },
  {
   "cell_type": "code",
   "execution_count": 5,
   "metadata": {},
   "outputs": [],
   "source": [
    "def update_redis_df(key,df):\n",
    "    context = pa.default_serialization_context()\n",
    "    redis_db.set(key, context.serialize(df).to_buffer().to_pybytes())\n"
   ]
  },
  {
   "cell_type": "code",
   "execution_count": 6,
   "metadata": {},
   "outputs": [],
   "source": [
    "def schedule_updates(hour,update_callback):\n",
    "    logger = schedule_it.init_root_logger(\"logfile.log\", \"INFO\")\n",
    "    while True:\n",
    "        logger.info(f\"scheduling update for hour {hour}\")\n",
    "        sch = schedule_it.ScheduleNext('hour', hour,logger = logger)\n",
    "        sch.wait()\n",
    "        logger.info(f\"updating history\")\n",
    "        update_db()\n",
    "        logger.info(f\"sleeping for an hour before next scheduling\")\n",
    "        time.sleep(60*60)\n",
    "    "
   ]
  },
  {
   "cell_type": "markdown",
   "metadata": {},
   "source": [
    "### Application cells"
   ]
  },
  {
   "cell_type": "code",
   "execution_count": 7,
   "metadata": {},
   "outputs": [
    {
     "name": "stdout",
     "output_type": "stream",
     "text": [
      "  sec_db\n",
      "futtab max date:         max\n",
      "0  20200710\n",
      "opttab max date:         max\n",
      "0  20200710\n"
     ]
    }
   ],
   "source": [
    "opttab = 'sec_schema.options_table'\n",
    "futtab = 'sec_schema.underlying_table'\n",
    "pga = db_info.get_db_info()\n",
    "print(f\"futtab max date: {pga.get_sql(f'select max(settle_date) from {futtab}')}\")\n",
    "print(f\"opttab max date: {pga.get_sql(f'select max(settle_date) from {opttab}')}\")\n"
   ]
  },
  {
   "cell_type": "code",
   "execution_count": 8,
   "metadata": {},
   "outputs": [
    {
     "data": {
      "text/plain": [
       "[numpy.datetime64('2020-01-02T00:00:00.000000000'),\n",
       " numpy.datetime64('2020-04-10T00:00:00.000000000'),\n",
       " numpy.datetime64('2020-04-13T00:00:00.000000000'),\n",
       " numpy.datetime64('2020-05-04T00:00:00.000000000'),\n",
       " numpy.datetime64('2020-05-25T00:00:00.000000000'),\n",
       " numpy.datetime64('2020-08-31T00:00:00.000000000'),\n",
       " numpy.datetime64('2020-11-30T00:00:00.000000000'),\n",
       " numpy.datetime64('2020-12-25T00:00:00.000000000'),\n",
       " numpy.datetime64('2020-12-28T00:00:00.000000000'),\n",
       " numpy.datetime64('2021-01-01T00:00:00.000000000'),\n",
       " numpy.datetime64('2021-04-02T00:00:00.000000000'),\n",
       " numpy.datetime64('2021-04-05T00:00:00.000000000'),\n",
       " numpy.datetime64('2021-05-03T00:00:00.000000000'),\n",
       " numpy.datetime64('2021-05-31T00:00:00.000000000'),\n",
       " numpy.datetime64('2021-08-30T00:00:00.000000000'),\n",
       " numpy.datetime64('2021-11-30T00:00:00.000000000'),\n",
       " numpy.datetime64('2021-12-27T00:00:00.000000000'),\n",
       " numpy.datetime64('2021-12-28T00:00:00.000000000'),\n",
       " numpy.datetime64('2022-01-03T00:00:00.000000000'),\n",
       " numpy.datetime64('2022-04-15T00:00:00.000000000'),\n",
       " numpy.datetime64('2022-04-18T00:00:00.000000000'),\n",
       " numpy.datetime64('2022-05-02T00:00:00.000000000'),\n",
       " numpy.datetime64('2022-05-30T00:00:00.000000000'),\n",
       " numpy.datetime64('2022-08-29T00:00:00.000000000'),\n",
       " numpy.datetime64('2022-11-30T00:00:00.000000000'),\n",
       " numpy.datetime64('2022-12-26T00:00:00.000000000'),\n",
       " numpy.datetime64('2022-12-27T00:00:00.000000000'),\n",
       " numpy.datetime64('2023-01-02T00:00:00.000000000'),\n",
       " numpy.datetime64('2023-04-07T00:00:00.000000000'),\n",
       " numpy.datetime64('2023-04-07T00:00:00.000000000'),\n",
       " numpy.datetime64('2023-05-01T00:00:00.000000000'),\n",
       " numpy.datetime64('2023-05-29T00:00:00.000000000'),\n",
       " numpy.datetime64('2023-08-28T00:00:00.000000000'),\n",
       " numpy.datetime64('2023-11-30T00:00:00.000000000'),\n",
       " numpy.datetime64('2023-12-25T00:00:00.000000000'),\n",
       " numpy.datetime64('2023-12-26T00:00:00.000000000')]"
      ]
     },
     "execution_count": 8,
     "metadata": {},
     "output_type": "execute_result"
    }
   ],
   "source": [
    "uk_holidays = open('expiration_data/uk_holidays.csv').readlines()\n",
    "# uksplit = [','.join([t.strip('\\n') for t in l.split(',')]) for l in  uk_holidays]\n",
    "uksplit = [','.join(l.split(',')) for l in  uk_holidays]\n",
    "fio = io.StringIO()\n",
    "fio.writelines(uksplit)\n",
    "fio.seek(0)\n",
    "df_ukh = pd.read_csv(fio)\n",
    "def ukh_to_yyyymmdd(month_day,year):\n",
    "    md = month_day.strip()\n",
    "    d = datetime.datetime.strptime(f'{md} {year}', '%B %d %Y')\n",
    "    return d\n",
    "#     return d.strftime(\"%Y-%m-%d\")\n",
    "\n",
    "year_cols = [c for c in df_ukh.columns.values if '20' in str(c)]\n",
    "for c in year_cols:\n",
    "    df_ukh[c] = df_ukh[c].apply(lambda s:ukh_to_yyyymmdd(s,c))\n",
    "uk_holidays = sorted(df_ukh[year_cols].values.reshape(-1))\n",
    "uk_holidays"
   ]
  },
  {
   "cell_type": "code",
   "execution_count": 9,
   "metadata": {},
   "outputs": [
    {
     "name": "stderr",
     "output_type": "stream",
     "text": [
      "2020-07-15 07:02:23,304 - numexpr.utils - INFO - NumExpr defaulting to 4 threads.\n"
     ]
    }
   ],
   "source": [
    "MONTH_CODES = 'FGHJKMNQUVXZ'\n",
    "DICT_MONTH_CODE = {MONTH_CODES[i]:i+1 for i in range(len(MONTH_CODES))}\n",
    "\n",
    "from pandas.tseries.holiday import USFederalHolidayCalendar\n",
    "bday_us = pd.offsets.CustomBusinessDay(calendar=USFederalHolidayCalendar())\n",
    "# bday_uk = pd.offsets.CustomBusinessDay(calendar=pmc.exchange_calendar_ice.ICEExchangeCalendar().regular_holidays)\n",
    "bday_uk = pd.offsets.CustomBusinessDay(holidays=uk_holidays)\n",
    "TIMEZONE = 'US/Eastern'\n"
   ]
  },
  {
   "cell_type": "code",
   "execution_count": 10,
   "metadata": {},
   "outputs": [],
   "source": [
    "def get_nth_weekday(year,month,target_weekday,nth_occurrence):\n",
    "    '''\n",
    "    weekday is the term that assigns numbers from 0 to 6 to the days of the weeks.\n",
    "    weekday 0 = monday\n",
    "    '''\n",
    "    # get dayofweeks of year,month,1\n",
    "    weekday_01 = datetime.datetime(year,month,1).weekday()\n",
    "    if weekday_01 <= target_weekday:\n",
    "        day_of_month_of_first_occurence = target_weekday - weekday_01\n",
    "        day_of_month_of_nth_occurence = day_of_month_of_first_occurence + 1 + (nth_occurrence - 1) * 7\n",
    "    else:\n",
    "        day_of_month_of_nth_occurence = target_weekday - weekday_01 + 1 + (nth_occurrence) * 7 \n",
    "    return datetime.datetime(year,month,day_of_month_of_nth_occurence)\n",
    "\n",
    "\n",
    "\n",
    "\n",
    "def get_ES_options_expiry(symbol):\n",
    "    '''\n",
    "    3rd friday of month of symbol\n",
    "    '''\n",
    "    monthcode_yy = symbol[2:]\n",
    "    month = DICT_MONTH_CODE[monthcode_yy[0]]\n",
    "    year = 2000 + int(monthcode_yy[1:])\n",
    "    return get_nth_weekday(year,month,4,3)\n",
    "\n",
    "def get_E6_options_expiry(symbol):\n",
    "    monthcode_yy = symbol[2:]\n",
    "    next_month = DICT_MONTH_CODE[monthcode_yy[0]] + 1\n",
    "    year = 2000 + int(monthcode_yy[1:])\n",
    "    if next_month>12:\n",
    "        next_month = 1\n",
    "        year += 1\n",
    "    return datetime.datetime(year,next_month,1) - 7*bday_us\n",
    "\n",
    "def get_CL_options_expiry(symbol):\n",
    "    '''\n",
    "    Trading terminates 7 business days before the 26th calendar of the month prior to the contract month.\n",
    "    '''\n",
    "    monthcode_yy = symbol[2:]\n",
    "    month = DICT_MONTH_CODE[monthcode_yy[0]]\n",
    "    year = 2000 + int(monthcode_yy[1:])\n",
    "    month = month -1\n",
    "    if month<1:\n",
    "        month = 12\n",
    "        year = year - 1\n",
    "    return datetime.datetime(year,month,26) - 7*bday_us\n",
    "\n",
    "def get_NG_options_expiry(symbol):\n",
    "    monthcode_yy = symbol[2:]\n",
    "    month = DICT_MONTH_CODE[monthcode_yy[0]]\n",
    "    year = 2000 + int(monthcode_yy[1:])\n",
    "    return datetime.datetime(year,month,1) - 4*bday_us\n",
    "\n",
    "def get_CB_options_expiry(symbol):\n",
    "    '''\n",
    "    This is the spec for the CME Brent, but it matches ICE.\n",
    "    Trading terminates the 4th last London business day of \n",
    "    the month, 2 months prior to the contract month \n",
    "    except for the February contract month which \n",
    "    terminates the 5th last London business day of the \n",
    "    month, 2 months prior to the contract month.  \n",
    "    '''\n",
    "    monthcode_yy = symbol[2:]\n",
    "    month = DICT_MONTH_CODE[monthcode_yy[0]]\n",
    "    year = 2000 + int(monthcode_yy[1:])\n",
    "    month = month - 1\n",
    "    if month<1:\n",
    "        month = 12 + month\n",
    "        year = year - 1\n",
    "    days_to_subtract = 4\n",
    "    if monthcode_yy[0] =='G':\n",
    "        days_to_subtract = 5\n",
    "    elif monthcode_yy[0] == 'F':\n",
    "        days_to_subtract = 3\n",
    "#     elif monthcode_yy == 'N22':\n",
    "#         days_to_subtract = 7\n",
    "    return datetime.datetime(year,month,1,0,0) - days_to_subtract * bday_uk\n",
    "\n",
    "DICT_PRODUCT = {\n",
    "    'E6':get_E6_options_expiry,\n",
    "    'ES':get_ES_options_expiry,\n",
    "    'CL':get_CL_options_expiry,\n",
    "    'NG':get_NG_options_expiry,\n",
    "    'CB':get_CB_options_expiry,\n",
    "}\n",
    "\n",
    "    \n",
    "def get_options_expiry(symbol):\n",
    "    product = symbol[:2]\n",
    "    if product not in DICT_PRODUCT:\n",
    "        return None\n",
    "    f = DICT_PRODUCT[product]\n",
    "    return f(symbol)\n",
    "\n",
    "\n",
    "def dt_from_yyyymmdd(yyyymmdd,hour=0,minute=0,timezone=TIMEZONE):\n",
    "    y = int(str(yyyymmdd)[0:4])\n",
    "    m = int(str(yyyymmdd)[4:6])\n",
    "    d = int(str(yyyymmdd)[6:8])  \n",
    "    return datetime.datetime(y,m,d,hour,minute,tzinfo=pytz.timezone(timezone))\n",
    "\n",
    "def yyyymmdd_from_dt(dt):\n",
    "    y = int(dt.year)\n",
    "    m = int(dt.month)\n",
    "    d = int(dt.day)\n",
    "    return y*100*100 + m*100 + d\n",
    "\n",
    "def get_dte_pct(trade_yyyymmdd,expiry_yyyymmdd):\n",
    "    dt_td = dt_from_yyyymmdd(trade_yyyymmdd)\n",
    "    dt_xp = dt_from_yyyymmdd(expiry_yyyymmdd)\n",
    "    return ((dt_xp - dt_td).days + 1)/365\n"
   ]
  },
  {
   "cell_type": "code",
   "execution_count": 11,
   "metadata": {},
   "outputs": [],
   "source": [
    "def get_postgres_data(contract,pga):\n",
    "    '''\n",
    "    get options and futures data for a specific contract from the postgres database\n",
    "    '''\n",
    "    osql = f\"select * from {opttab} where symbol='{contract}';\"\n",
    "    dfo = pga.get_sql(osql)\n",
    "    usql = f\"select * from {futtab} where symbol='{contract}';\"\n",
    "    dfu = pga.get_sql(usql)\n",
    "    # Merge options and futures data\n",
    "    df = dfo.merge(dfu,how='inner',on=['symbol','settle_date'])\n",
    "    # Get options expiration dates\n",
    "    df_expiry_dates = dfo[['symbol','settle_date']].groupby('symbol',as_index=False).max()\n",
    "    calculated_expiry = get_options_expiry(contract)    \n",
    "    if calculated_expiry is not None:\n",
    "        expiry_yyyymmdd = yyyymmdd_from_dt(calculated_expiry)\n",
    "        if expiry_yyyymmdd> df_expiry_dates.iloc[0].settle_date:\n",
    "            df_expiry_dates.loc[0,'settle_date'] = expiry_yyyymmdd\n",
    "    return df,df_expiry_dates"
   ]
  },
  {
   "cell_type": "code",
   "execution_count": 12,
   "metadata": {},
   "outputs": [],
   "source": [
    "USE_PYVOL = True\n",
    "def lam_pyvol(r):\n",
    "    try:\n",
    "        return implied_volatility.implied_volatility(r.close_x,r.close_y,r.strike,.02,r.dte/365, r.pc.lower())\n",
    "    except:\n",
    "        return -1\n",
    "# lam_pyvol = lambda r:implied_volatility.implied_volatility(r.close_x,r.close_y,r.strike,.02,r.dte/365, r.pc.lower())\n",
    "lam_mibian = lambda r:mibian.BS([r.close_y,r.strike,2,r.dte], callPrice=r.close_x).impliedVolatility\n",
    "\n",
    "def get_implieds(df,df_expiry_dates):\n",
    "    df2 = df[['symbol','contract_num','pc','settle_date','strike','close_x','close_y']]\n",
    "    df9 = df2.copy()\n",
    "    df9['expiry'] = df_expiry_dates.iloc[0].settle_date\n",
    "    df9['syear'] = df9.settle_date.astype(str).str.slice(0,4).astype(int)\n",
    "    df9['smon'] = df9.settle_date.astype(str).str.slice(4,6).astype(int)\n",
    "    df9['sday'] = df9.settle_date.astype(str).str.slice(6,8).astype(int)\n",
    "    df9['eyear'] = df9.expiry.astype(str).str.slice(0,4).astype(int)\n",
    "    df9['emon'] = df9.expiry.astype(str).str.slice(4,6).astype(int)\n",
    "    df9['eday'] = df9.expiry.astype(str).str.slice(6,8).astype(int)\n",
    "    df9['sdatetime'] = df9.apply(lambda r:datetime.datetime(r.syear,r.smon,r.sday),axis=1)\n",
    "    df9['edatetime'] = df9.apply(lambda r:datetime.datetime(r.eyear,r.emon,r.eday),axis=1)\n",
    "    df9['dte'] = df9.edatetime - df9.sdatetime\n",
    "    df9.dte = df9.dte.dt.days\n",
    "    df9 = df9[['symbol','settle_date','pc','contract_num','strike','close_x','close_y','dte']]\n",
    "    df10 = df9.iloc[:len(df9)].copy()\n",
    "    df10.index = list(range(len(df10)))\n",
    "    if USE_PYVOL:\n",
    "        df10['iv'] = df10.apply(lam_pyvol,axis=1)\n",
    "    else:\n",
    "        n = 100\n",
    "        for i in tqdm_notebook(np.arange(0,len(df10)-n,n)):\n",
    "                df10.loc[i:i+n,'iv'] = df10.loc[i:i+n].apply(lam_mibian,axis=1)\n",
    "        print(f'doing remaining {datetime.datetime.now()}')\n",
    "        i = df10[df10.iv.isna()].index[0]\n",
    "        df10.loc[i:,'iv'] = df10.loc[i:].apply(lam_mbian,axis=1)\n",
    "        print(f'done with remaining {datetime.datetime.now()}')\n",
    "    return df10\n",
    "\n"
   ]
  },
  {
   "cell_type": "code",
   "execution_count": 13,
   "metadata": {},
   "outputs": [],
   "source": [
    "def get_contracts(commod):\n",
    "    all_contracts = pga.get_sql(f\"select symbol from {opttab} where substring(symbol,1,2)='{commod}'\").symbol.unique()\n",
    "    return all_contracts\n",
    "\n",
    "\n",
    "def pseudo_vol(df,df_expiry,fatm=50,rows=100):\n",
    "    '''\n",
    "    Return one row for every day, which holds the atm vol for the\n",
    "    contract whose options data is contained in the DataFrame argument\n",
    "    df\n",
    "    \n",
    "    Get ATM implied vol per day, as if every underlying was the price specified in the arg fatm\n",
    "    :param df:  DataFrame with columns from get_postgres_data of:\n",
    "    'symbol','strike','pc','settle_date','close_x','close_y','contract_num'\n",
    "    :param df_expiry: a one row DataFrame with the expiration date of the options on \n",
    "       the symbol whose options data is in df\n",
    "    :param fatm: the futures atm price to use as the underlying futures for all\n",
    "      implied vol calculations\n",
    "    \n",
    "    '''\n",
    "    # get desired columns\n",
    "    df_cl2 = df[['symbol','strike','pc','settle_date','close_x','close_y','contract_num']]\n",
    "    # find the atm_op: the at the money option (closest to the money)\n",
    "    df_cl2['atm_op'] = [abs(v) for v in (df_cl2.strike - df_cl2.close_y)]\n",
    "    df_cl2_atm_op = df_cl2[['settle_date','atm_op']].groupby('settle_date',as_index=False).min()\n",
    "    df_cl2 = df_cl2_atm_op.merge(df_cl2,on=['settle_date','atm_op'],how='inner')\n",
    "    df_cl2.index = list(range(len(df_cl2)))\n",
    "    # get either the put or the call with the same atm_op value and lowest close_x value\n",
    "    #   close_x is the options price\n",
    "    df_cl2_put_or_call = df_cl2[['settle_date','close_x']].groupby('settle_date',as_index=False).min()\n",
    "    df_cl2 = df_cl2_put_or_call.merge(df_cl2,on=['settle_date','close_x'],how='inner')\n",
    "\n",
    "    # create a new strike\n",
    "    df_cl2.strike = fatm + df_cl2.strike - df_cl2.close_y\n",
    "    df_cl2['fprice'] = df_cl2.close_y\n",
    "    df_cl2.close_y = fatm\n",
    "    df_cl2 = df_cl2.iloc[-rows:]\n",
    "    df_cl_fut = df_cl2[['settle_date','fprice']].drop_duplicates()\n",
    "    df_cl_implieds = get_implieds(df_cl2,df_expiry)\n",
    "    df_cl_implieds2 = df_cl_implieds[df_cl_implieds.dte>0]\n",
    "    df_cl_implieds2 = df_cl_implieds2.merge(df_cl_fut,on='settle_date')\n",
    "    return df_cl_implieds2[['settle_date','iv','fprice']]\n",
    "\n"
   ]
  },
  {
   "cell_type": "code",
   "execution_count": 14,
   "metadata": {},
   "outputs": [],
   "source": [
    "def ordered_symbols(sym_list):\n",
    "    ordered_keys = [\n",
    "        s[:2]+s[-1]+s[2:4] \n",
    "        for s in sorted([v[0:2]+v[-2:]+v[2] for v in sym_list])\n",
    "    ]\n",
    "    return ordered_keys\n",
    "    "
   ]
  },
  {
   "cell_type": "code",
   "execution_count": 15,
   "metadata": {},
   "outputs": [],
   "source": [
    "def loop_pseudo_vol(dict_contract_df,pga,\n",
    "                   fatm=50,rows=100):\n",
    "    ordered_keys = ordered_symbols(list(dict_contract_df.keys()))\n",
    "    \n",
    "    dict_df_implied = {}\n",
    "\n",
    "    for symbol in ordered_keys:\n",
    "        if dict_contract_df[symbol] is None:\n",
    "            df,df_expiry = get_postgres_data(symbol,pga)\n",
    "        else:\n",
    "            df,df_expiry = dict_contract_df[symbol]\n",
    "        try:\n",
    "            df_implied = pseudo_vol(df,df_expiry,fatm=fatm,rows=rows)\n",
    "            dict_df_implied[symbol] = df_implied\n",
    "        except Exception as e:\n",
    "            print(str(e))\n",
    "            continue\n",
    "    return dict_df_implied"
   ]
  },
  {
   "cell_type": "code",
   "execution_count": 16,
   "metadata": {},
   "outputs": [],
   "source": [
    "def update_db():\n",
    "    commod_list = ['CL','CB']\n",
    "    monthcodes = [m for m in 'FGHJKMNQUVXZ']\n",
    "    yyyy_list= range(2011,int(datetime.datetime.now().year)+1)\n",
    "\n",
    "    dict_contract_df={}\n",
    "    for commod in tqdm_notebook(commod_list):\n",
    "        for y in tqdm_notebook(yyyy_list):\n",
    "            yy = y-2000\n",
    "            contract_list = [f\"{commod}{m}{yy}\" for m in monthcodes]\n",
    "            for symbol in tqdm_notebook(contract_list):\n",
    "                try:\n",
    "                    dict_contract_df[symbol] = get_postgres_data(symbol,pga)\n",
    "                except Exception as e:\n",
    "                    print(e)\n",
    "                    continue\n",
    "    # create constant underlying vol (\"pseudo_vol\")\n",
    "    dict_df_implied = loop_pseudo_vol(dict_contract_df,pga) \n",
    "    # create a dataframe of dict_df_implied\n",
    "    df_implied = None\n",
    "    for symbol in dict_df_implied.keys():\n",
    "        df_implied_temp = dict_df_implied[symbol]\n",
    "        df_implied_temp['symbol'] = symbol\n",
    "        if df_implied is None:\n",
    "            df_implied = df_implied_temp.copy()\n",
    "        else:\n",
    "            df_implied = df_implied.append(df_implied_temp,ignore_index=True)\n",
    "        df_implied.index = list(range(len(df_implied)))\n",
    "    update_redis_df('df_cuv_implied',df_implied)    \n"
   ]
  },
  {
   "cell_type": "code",
   "execution_count": null,
   "metadata": {},
   "outputs": [
    {
     "data": {
      "application/vnd.jupyter.widget-view+json": {
       "model_id": "c53d197105d74c54a310516003c20f36",
       "version_major": 2,
       "version_minor": 0
      },
      "text/plain": [
       "HBox(children=(FloatProgress(value=0.0, max=2.0), HTML(value='')))"
      ]
     },
     "metadata": {},
     "output_type": "display_data"
    },
    {
     "data": {
      "application/vnd.jupyter.widget-view+json": {
       "model_id": "c688059bda2e4fe8b331b8264727ae04",
       "version_major": 2,
       "version_minor": 0
      },
      "text/plain": [
       "HBox(children=(FloatProgress(value=0.0, max=10.0), HTML(value='')))"
      ]
     },
     "metadata": {},
     "output_type": "display_data"
    },
    {
     "data": {
      "application/vnd.jupyter.widget-view+json": {
       "model_id": "29c8076a45b64621bd6d8048fe221c5c",
       "version_major": 2,
       "version_minor": 0
      },
      "text/plain": [
       "HBox(children=(FloatProgress(value=0.0, max=12.0), HTML(value='')))"
      ]
     },
     "metadata": {},
     "output_type": "display_data"
    },
    {
     "name": "stdout",
     "output_type": "stream",
     "text": [
      "single positional indexer is out-of-bounds\n",
      "\n"
     ]
    },
    {
     "data": {
      "application/vnd.jupyter.widget-view+json": {
       "model_id": "7ff96328eadf477c8f21776a4a6cd9c8",
       "version_major": 2,
       "version_minor": 0
      },
      "text/plain": [
       "HBox(children=(FloatProgress(value=0.0, max=12.0), HTML(value='')))"
      ]
     },
     "metadata": {},
     "output_type": "display_data"
    },
    {
     "name": "stdout",
     "output_type": "stream",
     "text": [
      "\n"
     ]
    },
    {
     "data": {
      "application/vnd.jupyter.widget-view+json": {
       "model_id": "90b74d676fd845e0aaff523300883873",
       "version_major": 2,
       "version_minor": 0
      },
      "text/plain": [
       "HBox(children=(FloatProgress(value=0.0, max=12.0), HTML(value='')))"
      ]
     },
     "metadata": {},
     "output_type": "display_data"
    },
    {
     "name": "stdout",
     "output_type": "stream",
     "text": [
      "\n"
     ]
    },
    {
     "data": {
      "application/vnd.jupyter.widget-view+json": {
       "model_id": "cf6374eadacc471da491d8d078316d01",
       "version_major": 2,
       "version_minor": 0
      },
      "text/plain": [
       "HBox(children=(FloatProgress(value=0.0, max=12.0), HTML(value='')))"
      ]
     },
     "metadata": {},
     "output_type": "display_data"
    },
    {
     "name": "stdout",
     "output_type": "stream",
     "text": [
      "\n"
     ]
    },
    {
     "data": {
      "application/vnd.jupyter.widget-view+json": {
       "model_id": "38d8a82041174232bce8d6aa1274ee95",
       "version_major": 2,
       "version_minor": 0
      },
      "text/plain": [
       "HBox(children=(FloatProgress(value=0.0, max=12.0), HTML(value='')))"
      ]
     },
     "metadata": {},
     "output_type": "display_data"
    },
    {
     "name": "stdout",
     "output_type": "stream",
     "text": [
      "\n"
     ]
    },
    {
     "data": {
      "application/vnd.jupyter.widget-view+json": {
       "model_id": "f24a1c3ac3c14cda9bda1fbcd43236c2",
       "version_major": 2,
       "version_minor": 0
      },
      "text/plain": [
       "HBox(children=(FloatProgress(value=0.0, max=12.0), HTML(value='')))"
      ]
     },
     "metadata": {},
     "output_type": "display_data"
    },
    {
     "name": "stdout",
     "output_type": "stream",
     "text": [
      "\n"
     ]
    },
    {
     "data": {
      "application/vnd.jupyter.widget-view+json": {
       "model_id": "a62a72fea4ed466197ba82a918d931a4",
       "version_major": 2,
       "version_minor": 0
      },
      "text/plain": [
       "HBox(children=(FloatProgress(value=0.0, max=12.0), HTML(value='')))"
      ]
     },
     "metadata": {},
     "output_type": "display_data"
    },
    {
     "name": "stdout",
     "output_type": "stream",
     "text": [
      "\n"
     ]
    },
    {
     "data": {
      "application/vnd.jupyter.widget-view+json": {
       "model_id": "2150a539ca324a03acf6906c74e320fa",
       "version_major": 2,
       "version_minor": 0
      },
      "text/plain": [
       "HBox(children=(FloatProgress(value=0.0, max=12.0), HTML(value='')))"
      ]
     },
     "metadata": {},
     "output_type": "display_data"
    },
    {
     "name": "stdout",
     "output_type": "stream",
     "text": [
      "\n"
     ]
    },
    {
     "data": {
      "application/vnd.jupyter.widget-view+json": {
       "model_id": "c1f1ccdb43cd426b865e24291d644e7d",
       "version_major": 2,
       "version_minor": 0
      },
      "text/plain": [
       "HBox(children=(FloatProgress(value=0.0, max=12.0), HTML(value='')))"
      ]
     },
     "metadata": {},
     "output_type": "display_data"
    },
    {
     "name": "stdout",
     "output_type": "stream",
     "text": [
      "\n"
     ]
    },
    {
     "data": {
      "application/vnd.jupyter.widget-view+json": {
       "model_id": "d8aa84fb4f7a4cf7b5654b8f4bf22253",
       "version_major": 2,
       "version_minor": 0
      },
      "text/plain": [
       "HBox(children=(FloatProgress(value=0.0, max=12.0), HTML(value='')))"
      ]
     },
     "metadata": {},
     "output_type": "display_data"
    },
    {
     "name": "stdout",
     "output_type": "stream",
     "text": [
      "\n",
      "\n"
     ]
    },
    {
     "data": {
      "application/vnd.jupyter.widget-view+json": {
       "model_id": "60bf415d856144308089490fd629296d",
       "version_major": 2,
       "version_minor": 0
      },
      "text/plain": [
       "HBox(children=(FloatProgress(value=0.0, max=10.0), HTML(value='')))"
      ]
     },
     "metadata": {},
     "output_type": "display_data"
    },
    {
     "data": {
      "application/vnd.jupyter.widget-view+json": {
       "model_id": "096425eea59e44428d2cb9ded0082cac",
       "version_major": 2,
       "version_minor": 0
      },
      "text/plain": [
       "HBox(children=(FloatProgress(value=0.0, max=12.0), HTML(value='')))"
      ]
     },
     "metadata": {},
     "output_type": "display_data"
    },
    {
     "name": "stdout",
     "output_type": "stream",
     "text": [
      "single positional indexer is out-of-bounds\n",
      "\n"
     ]
    },
    {
     "data": {
      "application/vnd.jupyter.widget-view+json": {
       "model_id": "66a9123bf8e3435dac951ebf0bfca7dc",
       "version_major": 2,
       "version_minor": 0
      },
      "text/plain": [
       "HBox(children=(FloatProgress(value=0.0, max=12.0), HTML(value='')))"
      ]
     },
     "metadata": {},
     "output_type": "display_data"
    },
    {
     "name": "stdout",
     "output_type": "stream",
     "text": [
      "\n"
     ]
    },
    {
     "data": {
      "application/vnd.jupyter.widget-view+json": {
       "model_id": "097e5303dcfc4645a33b53669fb5d3c9",
       "version_major": 2,
       "version_minor": 0
      },
      "text/plain": [
       "HBox(children=(FloatProgress(value=0.0, max=12.0), HTML(value='')))"
      ]
     },
     "metadata": {},
     "output_type": "display_data"
    },
    {
     "name": "stdout",
     "output_type": "stream",
     "text": [
      "\n"
     ]
    },
    {
     "data": {
      "application/vnd.jupyter.widget-view+json": {
       "model_id": "789bf55b6ade477e926017cad22b44b7",
       "version_major": 2,
       "version_minor": 0
      },
      "text/plain": [
       "HBox(children=(FloatProgress(value=0.0, max=12.0), HTML(value='')))"
      ]
     },
     "metadata": {},
     "output_type": "display_data"
    },
    {
     "name": "stdout",
     "output_type": "stream",
     "text": [
      "\n"
     ]
    },
    {
     "data": {
      "application/vnd.jupyter.widget-view+json": {
       "model_id": "999dc1f798804556a5037aa365fa09b1",
       "version_major": 2,
       "version_minor": 0
      },
      "text/plain": [
       "HBox(children=(FloatProgress(value=0.0, max=12.0), HTML(value='')))"
      ]
     },
     "metadata": {},
     "output_type": "display_data"
    },
    {
     "name": "stdout",
     "output_type": "stream",
     "text": [
      "\n"
     ]
    },
    {
     "data": {
      "application/vnd.jupyter.widget-view+json": {
       "model_id": "3a453138e3334c99ac32f83e48cf4cea",
       "version_major": 2,
       "version_minor": 0
      },
      "text/plain": [
       "HBox(children=(FloatProgress(value=0.0, max=12.0), HTML(value='')))"
      ]
     },
     "metadata": {},
     "output_type": "display_data"
    },
    {
     "name": "stdout",
     "output_type": "stream",
     "text": [
      "\n"
     ]
    },
    {
     "data": {
      "application/vnd.jupyter.widget-view+json": {
       "model_id": "7c6cf7b8548a4d7d8b330763bd568ea7",
       "version_major": 2,
       "version_minor": 0
      },
      "text/plain": [
       "HBox(children=(FloatProgress(value=0.0, max=12.0), HTML(value='')))"
      ]
     },
     "metadata": {},
     "output_type": "display_data"
    },
    {
     "name": "stdout",
     "output_type": "stream",
     "text": [
      "\n"
     ]
    },
    {
     "data": {
      "application/vnd.jupyter.widget-view+json": {
       "model_id": "4766737cfe784d97903d1db038a3cd95",
       "version_major": 2,
       "version_minor": 0
      },
      "text/plain": [
       "HBox(children=(FloatProgress(value=0.0, max=12.0), HTML(value='')))"
      ]
     },
     "metadata": {},
     "output_type": "display_data"
    },
    {
     "name": "stdout",
     "output_type": "stream",
     "text": [
      "\n"
     ]
    },
    {
     "data": {
      "application/vnd.jupyter.widget-view+json": {
       "model_id": "94df192d798b47fda21e026a145dd11b",
       "version_major": 2,
       "version_minor": 0
      },
      "text/plain": [
       "HBox(children=(FloatProgress(value=0.0, max=12.0), HTML(value='')))"
      ]
     },
     "metadata": {},
     "output_type": "display_data"
    },
    {
     "name": "stdout",
     "output_type": "stream",
     "text": [
      "\n"
     ]
    },
    {
     "data": {
      "application/vnd.jupyter.widget-view+json": {
       "model_id": "ee14d68e96c14e22a70f511b41daaceb",
       "version_major": 2,
       "version_minor": 0
      },
      "text/plain": [
       "HBox(children=(FloatProgress(value=0.0, max=12.0), HTML(value='')))"
      ]
     },
     "metadata": {},
     "output_type": "display_data"
    },
    {
     "name": "stdout",
     "output_type": "stream",
     "text": [
      "\n",
      "\n",
      "\n"
     ]
    },
    {
     "name": "stderr",
     "output_type": "stream",
     "text": [
      "2020-07-15 13:03:24,537 - root - INFO - scheduling update for hour 8\n",
      "2020-07-15 13:03:24,541 - root - INFO - Sleeping at time 2020-07-15 13:03:24.541147-04:00 for 18.943333 hours\n"
     ]
    }
   ],
   "source": [
    "if __name__=='__main__':\n",
    "    update_db()\n",
    "    schedule_updates(8,update_db)"
   ]
  },
  {
   "cell_type": "markdown",
   "metadata": {},
   "source": [
    "## END"
   ]
  },
  {
   "cell_type": "code",
   "execution_count": null,
   "metadata": {},
   "outputs": [],
   "source": []
  }
 ],
 "metadata": {
  "kernelspec": {
   "display_name": "Python 3",
   "language": "python",
   "name": "python3"
  }
 },
 "nbformat": 4,
 "nbformat_minor": 2
}
