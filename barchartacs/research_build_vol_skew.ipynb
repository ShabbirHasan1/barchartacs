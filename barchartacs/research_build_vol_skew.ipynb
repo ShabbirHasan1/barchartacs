{
 "cells": [
  {
   "cell_type": "code",
   "execution_count": 45,
   "metadata": {},
   "outputs": [
    {
     "data": {
      "text/html": [
       "<script>requirejs.config({paths: { 'plotly': ['https://cdn.plot.ly/plotly-latest.min']},});if(!window.Plotly) {{require(['plotly'],function(plotly) {window.Plotly=plotly;});}}</script>"
      ],
      "text/vnd.plotly.v1+html": [
       "<script>requirejs.config({paths: { 'plotly': ['https://cdn.plot.ly/plotly-latest.min']},});if(!window.Plotly) {{require(['plotly'],function(plotly) {window.Plotly=plotly;});}}</script>"
      ]
     },
     "metadata": {},
     "output_type": "display_data"
    }
   ],
   "source": [
    "import zipfile\n",
    "import glob\n",
    "import pandas as pd\n",
    "import numpy as np\n",
    "\n",
    "from argparse import ArgumentParser\n",
    "from argparse import RawDescriptionHelpFormatter\n",
    "import sys\n",
    "import os\n",
    "if  not './' in sys.path:\n",
    "    sys.path.append('./')\n",
    "if  not '../' in sys.path:\n",
    "    sys.path.append('../')\n",
    "\n",
    "from barchartacs import build_db\n",
    "from barchartacs import db_info\n",
    "import plotly.graph_objs as go\n",
    "from plotly.offline import  init_notebook_mode, iplot\n",
    "init_notebook_mode(connected=True)\n",
    "import plotly.tools as tls\n",
    "from plotly.graph_objs.layout import Font,Margin\n",
    "from IPython import display\n",
    "\n",
    "import datetime\n",
    "import io\n",
    "from tqdm import tqdm,tqdm_notebook\n",
    "from barchartacs import pg_pandas as pg\n",
    "import mibian\n",
    "import py_vollib\n",
    "import importlib\n",
    "from py_vollib import black\n",
    "from py_vollib.black import implied_volatility\n",
    "import ipdb\n",
    "import traceback\n",
    "\n",
    "MONTH_CODES = 'FGHJKMNQUVXZ'\n",
    "DICT_MONTH_NUMS = {MONTH_CODES[i]:i+1 for i in range(len(MONTH_CODES))}\n",
    "\n",
    "# importlib.reload(db_info)"
   ]
  },
  {
   "cell_type": "markdown",
   "metadata": {},
   "source": [
    "### important global variables"
   ]
  },
  {
   "cell_type": "code",
   "execution_count": 46,
   "metadata": {},
   "outputs": [
    {
     "name": "stdout",
     "output_type": "stream",
     "text": [
      "  sec_db\n"
     ]
    }
   ],
   "source": [
    "\n",
    "DEBUG_IT=False\n",
    "opttab = 'sec_schema.options_table'\n",
    "futtab = 'sec_schema.underlying_table'\n",
    "pga = db_info.get_db_info()\n",
    "SYMBOL_TO_RESEARCH = 'CB'\n",
    "\n",
    "df_expiry_dates_additions = pd.read_csv('df_expiry_dates_additions.csv')\n"
   ]
  },
  {
   "cell_type": "markdown",
   "metadata": {},
   "source": [
    "#### example of using mibian for options calcs (we use py_vollib instead)"
   ]
  },
  {
   "cell_type": "code",
   "execution_count": 47,
   "metadata": {},
   "outputs": [],
   "source": [
    "def _test_mibian():\n",
    "    underlying=1.4565\n",
    "    strike=1.45\n",
    "    interest = 1\n",
    "    days=30\n",
    "    opt_info = [underlying,strike,interest,days]\n",
    "    c = mibian.BS(opt_info, volatility=20)\n",
    "    print(c.callPrice,\n",
    "    c.putPrice,\n",
    "    c.callDelta,\n",
    "    c.putDelta,\n",
    "    c.callDelta2,\n",
    "    c.putDelta2,\n",
    "    c.callTheta,\n",
    "    c.putTheta,\n",
    "    c.callRho,\n",
    "    c.putRho,\n",
    "    c.vega,\n",
    "    c.gamma)\n",
    "\n",
    "\n",
    "    co = mibian.BS(opt_info, callPrice=c.callPrice)\n",
    "    co.impliedVolatility"
   ]
  },
  {
   "cell_type": "markdown",
   "metadata": {},
   "source": [
    "#### Show simple example of using py_vol package"
   ]
  },
  {
   "cell_type": "code",
   "execution_count": 48,
   "metadata": {},
   "outputs": [],
   "source": [
    "def _test_py_vollib():\n",
    "    #CL,Q2019,560P,07/02/2019,0.6,1.61,0.54,1.54,1997,4465\n",
    "    F = 56.25\n",
    "    K = 56\n",
    "    sigma = .366591539\n",
    "    flag = 'p'\n",
    "    t = 15/365.0\n",
    "    r = .025\n",
    "    discounted_call_price = black.black(flag, F, K, t, r, sigma)\n",
    "    dcp = 1.54\n",
    "    ivpy = implied_volatility.implied_volatility(dcp, F, K, r, t, flag)\n",
    "    ivmn = mibian.BS([F,K,2.5,15], callPrice=dcp).impliedVolatility\n",
    "    discounted_call_price,ivpy,ivmn\n"
   ]
  },
  {
   "cell_type": "code",
   "execution_count": 49,
   "metadata": {},
   "outputs": [],
   "source": [
    "def plotly_plot(df_in,x_column,plot_title=None,\n",
    "                y_left_label=None,y_right_label=None,\n",
    "                bar_plot=False,figsize=(16,10),\n",
    "                number_of_ticks_display=20,\n",
    "                yaxis2_cols=None):\n",
    "    ya2c = [] if yaxis2_cols is None else yaxis2_cols\n",
    "    ycols = [c for c in df_in.columns.values if c != x_column]\n",
    "    # create tdvals, which will have x axis labels\n",
    "    td = list(df_in[x_column]) \n",
    "    nt = len(df_in)-1 if number_of_ticks_display > len(df_in) else number_of_ticks_display\n",
    "    spacing = len(td)//nt\n",
    "    tdvals = td[::spacing]\n",
    "    \n",
    "    # create data for graph\n",
    "    data = []\n",
    "    # iterate through all ycols to append to data that gets passed to go.Figure\n",
    "    for ycol in ycols:\n",
    "        if bar_plot:\n",
    "            b = go.Bar(x=td,y=df_in[ycol],name=ycol,yaxis='y' if ycol not in ya2c else 'y2')\n",
    "        else:\n",
    "            b = go.Scatter(x=td,y=df_in[ycol],name=ycol,yaxis='y' if ycol not in ya2c else 'y2')\n",
    "        data.append(b)\n",
    "\n",
    "    # create a layout\n",
    "    layout = go.Layout(\n",
    "        title=plot_title,\n",
    "        xaxis=dict(\n",
    "            ticktext=tdvals,\n",
    "            tickvals=tdvals,\n",
    "            tickangle=45,\n",
    "            type='category'),\n",
    "        yaxis=dict(\n",
    "            title='y main' if y_left_label is None else y_left_label\n",
    "        ),\n",
    "        yaxis2=dict(\n",
    "            title='y alt' if y_right_label is None else y_right_label,\n",
    "            overlaying='y',\n",
    "            side='right'),\n",
    "        margin=Margin(\n",
    "            b=100\n",
    "        )        \n",
    "    )\n",
    "\n",
    "    fig = go.Figure(data=data,layout=layout)\n",
    "    return fig\n"
   ]
  },
  {
   "cell_type": "markdown",
   "metadata": {},
   "source": [
    "#### Define method to get a contract from postgres"
   ]
  },
  {
   "cell_type": "code",
   "execution_count": 50,
   "metadata": {},
   "outputs": [],
   "source": [
    "def _next_monthyear_code(contract):\n",
    "    code_val = contract[-3]\n",
    "    code_num = DICT_MONTH_NUMS[code_val]\n",
    "    y = int(contract[-2:])\n",
    "    if code_num+1>12:\n",
    "        next_code_num = 1\n",
    "        next_y = y + 1\n",
    "    else:\n",
    "        next_code_num = code_num+1\n",
    "        next_y = y\n",
    "    next_code_val = MONTH_CODES[next_code_num-1]\n",
    "    next_contract = contract[0:-3] + next_code_val + '%02d' %(next_y)\n",
    "    return next_contract\n",
    "\n",
    "def get_postgres_data(contract):\n",
    "    '''\n",
    "    Get options and underlying data for ONLY ONE CONTRACT\n",
    "    '''\n",
    "    osql = f\"select * from {opttab} where symbol='{contract}';\"\n",
    "    dfo = pga.get_sql(osql)\n",
    "    if len(dfo)<10:\n",
    "        e = f'''\n",
    "        get_postgres_data ERROR: not enough option data for contract {contract} \n",
    "        '''\n",
    "        raise ValueError(e)\n",
    "    num_settle_days = len(dfo.settle_date.unique())\n",
    "    u_contract = contract\n",
    "    for i in range(12):\n",
    "        usql = f\"select * from {futtab} where symbol='{u_contract}';\"\n",
    "        dfu = pga.get_sql(usql)\n",
    "        if len(dfu) < num_settle_days:\n",
    "            u_contract = _next_monthyear_code(u_contract)\n",
    "            print(f'trying contract {u_contract}')\n",
    "        else:\n",
    "            break\n",
    "\n",
    "    if len(dfu)< num_settle_days:\n",
    "        e = f'''\n",
    "        get_postgres_data ERROR: not enough underlying days found for options contract {contract} \n",
    "        where len(underlying) = {len(dfu)} and num_settle_days = {num_settle_days}\n",
    "        '''\n",
    "        raise ValueError(e)\n",
    "    # Merge options and futures data\n",
    "    dfu = dfu.rename(columns={'symbol':'u_symbol'})\n",
    "    df = dfo.merge(dfu,how='inner',on=['settle_date'])\n",
    "    # Get options expiration dates\n",
    "    df_expiry_dates = dfo[['symbol','settle_date']].groupby('symbol',as_index=False).max()\n",
    "    df_additions = df_expiry_dates_additions[df_expiry_dates_additions.symbol==contract]\n",
    "    additional_symbols = df_additions.symbol.values\n",
    "    df_expiry_dates = df_expiry_dates[~df_expiry_dates.symbol.isin(additional_symbols)]\n",
    "    df_expiry_dates = df_expiry_dates.append(df_additions).sort_values('symbol').copy()\n",
    "    return df,df_expiry_dates"
   ]
  },
  {
   "cell_type": "code",
   "execution_count": 51,
   "metadata": {},
   "outputs": [],
   "source": [
    "def _get_contract_number_from_symbol(symbol):\n",
    "    c = symbol[0:2]\n",
    "    if c in ['CL','CB','ES']:\n",
    "        return 2\n",
    "    return 2"
   ]
  },
  {
   "cell_type": "markdown",
   "metadata": {},
   "source": [
    "### Use py_vol to get options skews by percent in/out of the money (moneyness)"
   ]
  },
  {
   "cell_type": "code",
   "execution_count": 52,
   "metadata": {
    "scrolled": true
   },
   "outputs": [],
   "source": [
    "USE_PYVOL = True\n",
    "def lam_pyvol(r):\n",
    "    try:\n",
    "        return implied_volatility.implied_volatility(r.close_x,r.close_y,r.strike,.02,r.dte/365, r.pc.lower())\n",
    "    except:\n",
    "        return -1\n",
    "# lam_pyvol = lambda r:implied_volatility.implied_volatility(r.close_x,r.close_y,r.strike,.02,r.dte/365, r.pc.lower())\n",
    "lam_mibian = lambda r:mibian.BS([r.close_y,r.strike,2,r.dte], callPrice=r.close_x).impliedVolatility\n",
    "\n",
    "def get_implieds(df,df_expiry_dates,contract):\n",
    "    df2 = df[['symbol','contract_num','pc','settle_date','strike','close_x','close_y']]\n",
    "    df2 = df2[(((df2.pc=='C' )& (df2.strike>=df2.close_y)) | ((df2.pc=='P' ) & (df2.strike<df2.close_y)))  & (df2.symbol.str.contains(contract))]\n",
    "    cnum = _get_contract_number_from_symbol(contract)\n",
    "    df2 = df2[df2.contract_num==2]\n",
    "    phigh = df2.close_y.max()\n",
    "    plow = df2.close_y.min()\n",
    "    high_strike = round(phigh * 1.3)\n",
    "    low_strike = round(plow * .7)\n",
    "    df2 = df2[(df2.strike>=low_strike) & (df2.strike<=high_strike)]\n",
    "\n",
    "    df9 = df2[df2.symbol==contract]\n",
    "    df9 = df9.merge(df_expiry_dates.rename(columns={'settle_date':'expiry'}),on='symbol',how='inner')\n",
    "    df9['syear'] = df9.settle_date.astype(str).str.slice(0,4).astype(int)\n",
    "    df9['smon'] = df9.settle_date.astype(str).str.slice(4,6).astype(int)\n",
    "    df9['sday'] = df9.settle_date.astype(str).str.slice(6,8).astype(int)\n",
    "    df9['eyear'] = df9.expiry.astype(str).str.slice(0,4).astype(int)\n",
    "    df9['emon'] = df9.expiry.astype(str).str.slice(4,6).astype(int)\n",
    "    df9['eday'] = df9.expiry.astype(str).str.slice(6,8).astype(int)\n",
    "    df9['sdatetime'] = df9.apply(lambda r:datetime.datetime(r.syear,r.smon,r.sday),axis=1)\n",
    "    df9['edatetime'] = df9.apply(lambda r:datetime.datetime(r.eyear,r.emon,r.eday),axis=1)\n",
    "    df9['dte'] = df9.edatetime - df9.sdatetime\n",
    "    df9.dte = df9.dte.dt.days\n",
    "    df9 = df9[['symbol','settle_date','pc','contract_num','strike','close_x','close_y','dte']]\n",
    "    df10 = df9.iloc[:len(df9)].copy()\n",
    "    df10.index = list(range(len(df10)))\n",
    "    if USE_PYVOL:\n",
    "        df10['iv'] = df10.apply(lam_pyvol,axis=1)\n",
    "    else:\n",
    "        n = 100\n",
    "        for i in tqdm_notebook(np.arange(0,len(df10)-n,n)):\n",
    "                df10.loc[i:i+n,'iv'] = df10.loc[i:i+n].apply(lam_mibian,axis=1)\n",
    "        print(f'doing remaining {datetime.datetime.now()}')\n",
    "        i = df10[df10.iv.isna()].index[0]\n",
    "        df10.loc[i:,'iv'] = df10.loc[i:].apply(lam_mbian,axis=1)\n",
    "        print(f'done with remaining {datetime.datetime.now()}')\n",
    "    return df10\n",
    "\n"
   ]
  },
  {
   "cell_type": "markdown",
   "metadata": {},
   "source": [
    "#### Add in even \"amount in/out the money strikes, and interpolate their implied vols and skews"
   ]
  },
  {
   "cell_type": "code",
   "execution_count": 53,
   "metadata": {
    "scrolled": true
   },
   "outputs": [],
   "source": [
    "def get_even_moneyness_strikes(df10):\n",
    "    # define amounts around the money which will help create strikes to add\n",
    "    moneyness = np.arange(.7,1.4,.05).round(6)\n",
    "    # define columns on which to execute groupby\n",
    "#     gb_cols = ['symbol','settle_date','pc','contract_num','dte','close_y']\n",
    "    gb_cols = ['symbol','settle_date','contract_num','dte','close_y']\n",
    "    # define function used in groupby.apply to create strikes and iv's at those strikes\n",
    "    #   where the strikes are an even amount from the money \n",
    "    #   (like .7, .8, ... 1, 1.1, 1.2, etc)\n",
    "    def _add_even_moneyness_strikes(df):\n",
    "        # get underlying from first row (the groupby makes them all the same)\n",
    "        r = df.iloc[0]\n",
    "        underlying = r.close_y\n",
    "        # create new rows to append to df, using only the gb_cols\n",
    "        df_ret1 = df.iloc[:len(moneyness)][gb_cols].copy()\n",
    "        # add nan iv's !!!! MUST BE np.nan - NOT None\n",
    "        df_ret1['iv'] = np.nan\n",
    "        # add new strikes\n",
    "        df_ret1['strike'] = moneyness * underlying\n",
    "        # append the new strikes\n",
    "        dfa = df.append(df_ret1,ignore_index=True,sort=True).copy()\n",
    "        df_ret2 = dfa.sort_values(['symbol','settle_date','pc','strike'])\n",
    "        df_ret2 = df_ret2.drop_duplicates(subset='strike')\n",
    "        # set the index to the strike so that interpolate works\n",
    "        df_ret2.index = df_ret2.strike\n",
    "        # create interpolated iv's\n",
    "        df_ret2['iv'] = df_ret2.iv.interpolate(method='polynomial', order=2)\n",
    "        # reset the index\n",
    "        df_ret2.index = list(range(len(df_ret2)))\n",
    "        return df_ret2\n",
    "\n",
    "    # start here\n",
    "    df11 = df10.groupby(gb_cols).apply(_add_even_moneyness_strikes).copy()\n",
    "    df11.index = list(range(len(df11)))\n",
    "    df11['moneyness'] = df11.strike / df11.close_y\n",
    "    df11.moneyness = df11.moneyness.round(4)\n",
    "\n",
    "    df12 = df11[(df11.moneyness.isin(moneyness)) & (~df11.iv.isna())].copy()\n",
    "    df12.moneyness  = df12.moneyness - 1\n",
    "    df12.index = list(range(len(df12)))\n",
    "    df12_atm = df12[df12.moneyness==0][['symbol','settle_date','pc','iv']]\n",
    "    df12_atm = df12_atm.rename(columns={'iv':'atm_iv'})\n",
    "    \n",
    "    df12_atm = df12_atm.drop_duplicates()\n",
    "    df12 = df12.merge(df12_atm,on=['symbol','settle_date','pc'],how='inner')\n",
    "    df12.moneyness = df12.moneyness.round(4)\n",
    "    df12['vol_skew'] = (df12.iv - df12.atm_iv).round(4)\n",
    "    return df12\n",
    "\n"
   ]
  },
  {
   "cell_type": "markdown",
   "metadata": {},
   "source": [
    "#### get all contracts in the options database"
   ]
  },
  {
   "cell_type": "code",
   "execution_count": 54,
   "metadata": {
    "scrolled": true
   },
   "outputs": [
    {
     "data": {
      "text/plain": [
       "155"
      ]
     },
     "execution_count": 54,
     "metadata": {},
     "output_type": "execute_result"
    }
   ],
   "source": [
    "all_contracts = pga.get_sql(f\"select distinct symbol from {opttab} where symbol~'^{SYMBOL_TO_RESEARCH}'\").sort_values('symbol').values.reshape(-1)\n",
    "len(all_contracts)"
   ]
  },
  {
   "cell_type": "markdown",
   "metadata": {},
   "source": [
    "#### show last dates"
   ]
  },
  {
   "cell_type": "code",
   "execution_count": 55,
   "metadata": {
    "scrolled": true
   },
   "outputs": [
    {
     "data": {
      "text/html": [
       "<div>\n",
       "<style scoped>\n",
       "    .dataframe tbody tr th:only-of-type {\n",
       "        vertical-align: middle;\n",
       "    }\n",
       "\n",
       "    .dataframe tbody tr th {\n",
       "        vertical-align: top;\n",
       "    }\n",
       "\n",
       "    .dataframe thead th {\n",
       "        text-align: right;\n",
       "    }\n",
       "</style>\n",
       "<table border=\"1\" class=\"dataframe\">\n",
       "  <thead>\n",
       "    <tr style=\"text-align: right;\">\n",
       "      <th></th>\n",
       "      <th>symbol</th>\n",
       "      <th>count</th>\n",
       "    </tr>\n",
       "  </thead>\n",
       "  <tbody>\n",
       "    <tr>\n",
       "      <th>0</th>\n",
       "      <td>CBF12</td>\n",
       "      <td>173555</td>\n",
       "    </tr>\n",
       "    <tr>\n",
       "      <th>1</th>\n",
       "      <td>CBF13</td>\n",
       "      <td>359897</td>\n",
       "    </tr>\n",
       "    <tr>\n",
       "      <th>2</th>\n",
       "      <td>CBF14</td>\n",
       "      <td>42321</td>\n",
       "    </tr>\n",
       "    <tr>\n",
       "      <th>3</th>\n",
       "      <td>CBF15</td>\n",
       "      <td>35860</td>\n",
       "    </tr>\n",
       "    <tr>\n",
       "      <th>4</th>\n",
       "      <td>CBF16</td>\n",
       "      <td>61526</td>\n",
       "    </tr>\n",
       "    <tr>\n",
       "      <th>5</th>\n",
       "      <td>CBF17</td>\n",
       "      <td>99306</td>\n",
       "    </tr>\n",
       "    <tr>\n",
       "      <th>6</th>\n",
       "      <td>CBF18</td>\n",
       "      <td>123896</td>\n",
       "    </tr>\n",
       "    <tr>\n",
       "      <th>7</th>\n",
       "      <td>CBF19</td>\n",
       "      <td>147849</td>\n",
       "    </tr>\n",
       "    <tr>\n",
       "      <th>8</th>\n",
       "      <td>CBF20</td>\n",
       "      <td>115308</td>\n",
       "    </tr>\n",
       "    <tr>\n",
       "      <th>9</th>\n",
       "      <td>CBF21</td>\n",
       "      <td>78230</td>\n",
       "    </tr>\n",
       "    <tr>\n",
       "      <th>10</th>\n",
       "      <td>CBF22</td>\n",
       "      <td>32760</td>\n",
       "    </tr>\n",
       "    <tr>\n",
       "      <th>11</th>\n",
       "      <td>CBF23</td>\n",
       "      <td>7062</td>\n",
       "    </tr>\n",
       "    <tr>\n",
       "      <th>12</th>\n",
       "      <td>CBG11</td>\n",
       "      <td>2888</td>\n",
       "    </tr>\n",
       "    <tr>\n",
       "      <th>13</th>\n",
       "      <td>CBG12</td>\n",
       "      <td>188873</td>\n",
       "    </tr>\n",
       "    <tr>\n",
       "      <th>14</th>\n",
       "      <td>CBG13</td>\n",
       "      <td>373557</td>\n",
       "    </tr>\n",
       "    <tr>\n",
       "      <th>15</th>\n",
       "      <td>CBG14</td>\n",
       "      <td>38786</td>\n",
       "    </tr>\n",
       "    <tr>\n",
       "      <th>16</th>\n",
       "      <td>CBG15</td>\n",
       "      <td>37198</td>\n",
       "    </tr>\n",
       "    <tr>\n",
       "      <th>17</th>\n",
       "      <td>CBG16</td>\n",
       "      <td>62922</td>\n",
       "    </tr>\n",
       "    <tr>\n",
       "      <th>18</th>\n",
       "      <td>CBG17</td>\n",
       "      <td>101848</td>\n",
       "    </tr>\n",
       "    <tr>\n",
       "      <th>19</th>\n",
       "      <td>CBG18</td>\n",
       "      <td>124736</td>\n",
       "    </tr>\n",
       "    <tr>\n",
       "      <th>20</th>\n",
       "      <td>CBG19</td>\n",
       "      <td>156904</td>\n",
       "    </tr>\n",
       "    <tr>\n",
       "      <th>21</th>\n",
       "      <td>CBG20</td>\n",
       "      <td>114422</td>\n",
       "    </tr>\n",
       "    <tr>\n",
       "      <th>22</th>\n",
       "      <td>CBG21</td>\n",
       "      <td>78235</td>\n",
       "    </tr>\n",
       "    <tr>\n",
       "      <th>23</th>\n",
       "      <td>CBG22</td>\n",
       "      <td>32759</td>\n",
       "    </tr>\n",
       "    <tr>\n",
       "      <th>24</th>\n",
       "      <td>CBG23</td>\n",
       "      <td>7062</td>\n",
       "    </tr>\n",
       "    <tr>\n",
       "      <th>25</th>\n",
       "      <td>CBH11</td>\n",
       "      <td>17328</td>\n",
       "    </tr>\n",
       "    <tr>\n",
       "      <th>26</th>\n",
       "      <td>CBH12</td>\n",
       "      <td>203543</td>\n",
       "    </tr>\n",
       "    <tr>\n",
       "      <th>27</th>\n",
       "      <td>CBH13</td>\n",
       "      <td>373845</td>\n",
       "    </tr>\n",
       "    <tr>\n",
       "      <th>28</th>\n",
       "      <td>CBH14</td>\n",
       "      <td>45222</td>\n",
       "    </tr>\n",
       "    <tr>\n",
       "      <th>29</th>\n",
       "      <td>CBH15</td>\n",
       "      <td>47994</td>\n",
       "    </tr>\n",
       "    <tr>\n",
       "      <th>...</th>\n",
       "      <td>...</td>\n",
       "      <td>...</td>\n",
       "    </tr>\n",
       "    <tr>\n",
       "      <th>125</th>\n",
       "      <td>CBV20</td>\n",
       "      <td>110615</td>\n",
       "    </tr>\n",
       "    <tr>\n",
       "      <th>126</th>\n",
       "      <td>CBV21</td>\n",
       "      <td>76999</td>\n",
       "    </tr>\n",
       "    <tr>\n",
       "      <th>127</th>\n",
       "      <td>CBV22</td>\n",
       "      <td>33485</td>\n",
       "    </tr>\n",
       "    <tr>\n",
       "      <th>128</th>\n",
       "      <td>CBV23</td>\n",
       "      <td>5350</td>\n",
       "    </tr>\n",
       "    <tr>\n",
       "      <th>129</th>\n",
       "      <td>CBX11</td>\n",
       "      <td>142229</td>\n",
       "    </tr>\n",
       "    <tr>\n",
       "      <th>130</th>\n",
       "      <td>CBX12</td>\n",
       "      <td>329182</td>\n",
       "    </tr>\n",
       "    <tr>\n",
       "      <th>131</th>\n",
       "      <td>CBX13</td>\n",
       "      <td>51874</td>\n",
       "    </tr>\n",
       "    <tr>\n",
       "      <th>132</th>\n",
       "      <td>CBX14</td>\n",
       "      <td>33210</td>\n",
       "    </tr>\n",
       "    <tr>\n",
       "      <th>133</th>\n",
       "      <td>CBX15</td>\n",
       "      <td>58694</td>\n",
       "    </tr>\n",
       "    <tr>\n",
       "      <th>134</th>\n",
       "      <td>CBX16</td>\n",
       "      <td>96832</td>\n",
       "    </tr>\n",
       "    <tr>\n",
       "      <th>135</th>\n",
       "      <td>CBX17</td>\n",
       "      <td>126546</td>\n",
       "    </tr>\n",
       "    <tr>\n",
       "      <th>136</th>\n",
       "      <td>CBX18</td>\n",
       "      <td>158249</td>\n",
       "    </tr>\n",
       "    <tr>\n",
       "      <th>137</th>\n",
       "      <td>CBX19</td>\n",
       "      <td>154968</td>\n",
       "    </tr>\n",
       "    <tr>\n",
       "      <th>138</th>\n",
       "      <td>CBX20</td>\n",
       "      <td>110613</td>\n",
       "    </tr>\n",
       "    <tr>\n",
       "      <th>139</th>\n",
       "      <td>CBX21</td>\n",
       "      <td>77002</td>\n",
       "    </tr>\n",
       "    <tr>\n",
       "      <th>140</th>\n",
       "      <td>CBX22</td>\n",
       "      <td>34211</td>\n",
       "    </tr>\n",
       "    <tr>\n",
       "      <th>141</th>\n",
       "      <td>CBX23</td>\n",
       "      <td>5350</td>\n",
       "    </tr>\n",
       "    <tr>\n",
       "      <th>142</th>\n",
       "      <td>CBZ11</td>\n",
       "      <td>157660</td>\n",
       "    </tr>\n",
       "    <tr>\n",
       "      <th>143</th>\n",
       "      <td>CBZ12</td>\n",
       "      <td>344872</td>\n",
       "    </tr>\n",
       "    <tr>\n",
       "      <th>144</th>\n",
       "      <td>CBZ13</td>\n",
       "      <td>532388</td>\n",
       "    </tr>\n",
       "    <tr>\n",
       "      <th>145</th>\n",
       "      <td>CBZ14</td>\n",
       "      <td>718538</td>\n",
       "    </tr>\n",
       "    <tr>\n",
       "      <th>146</th>\n",
       "      <td>CBZ15</td>\n",
       "      <td>903705</td>\n",
       "    </tr>\n",
       "    <tr>\n",
       "      <th>147</th>\n",
       "      <td>CBZ16</td>\n",
       "      <td>849833</td>\n",
       "    </tr>\n",
       "    <tr>\n",
       "      <th>148</th>\n",
       "      <td>CBZ17</td>\n",
       "      <td>180214</td>\n",
       "    </tr>\n",
       "    <tr>\n",
       "      <th>149</th>\n",
       "      <td>CBZ18</td>\n",
       "      <td>229797</td>\n",
       "    </tr>\n",
       "    <tr>\n",
       "      <th>150</th>\n",
       "      <td>CBZ19</td>\n",
       "      <td>210078</td>\n",
       "    </tr>\n",
       "    <tr>\n",
       "      <th>151</th>\n",
       "      <td>CBZ20</td>\n",
       "      <td>140371</td>\n",
       "    </tr>\n",
       "    <tr>\n",
       "      <th>152</th>\n",
       "      <td>CBZ21</td>\n",
       "      <td>93888</td>\n",
       "    </tr>\n",
       "    <tr>\n",
       "      <th>153</th>\n",
       "      <td>CBZ22</td>\n",
       "      <td>43436</td>\n",
       "    </tr>\n",
       "    <tr>\n",
       "      <th>154</th>\n",
       "      <td>CBZ23</td>\n",
       "      <td>5778</td>\n",
       "    </tr>\n",
       "  </tbody>\n",
       "</table>\n",
       "<p>155 rows × 2 columns</p>\n",
       "</div>"
      ],
      "text/plain": [
       "    symbol   count\n",
       "0    CBF12  173555\n",
       "1    CBF13  359897\n",
       "2    CBF14   42321\n",
       "3    CBF15   35860\n",
       "4    CBF16   61526\n",
       "5    CBF17   99306\n",
       "6    CBF18  123896\n",
       "7    CBF19  147849\n",
       "8    CBF20  115308\n",
       "9    CBF21   78230\n",
       "10   CBF22   32760\n",
       "11   CBF23    7062\n",
       "12   CBG11    2888\n",
       "13   CBG12  188873\n",
       "14   CBG13  373557\n",
       "15   CBG14   38786\n",
       "16   CBG15   37198\n",
       "17   CBG16   62922\n",
       "18   CBG17  101848\n",
       "19   CBG18  124736\n",
       "20   CBG19  156904\n",
       "21   CBG20  114422\n",
       "22   CBG21   78235\n",
       "23   CBG22   32759\n",
       "24   CBG23    7062\n",
       "25   CBH11   17328\n",
       "26   CBH12  203543\n",
       "27   CBH13  373845\n",
       "28   CBH14   45222\n",
       "29   CBH15   47994\n",
       "..     ...     ...\n",
       "125  CBV20  110615\n",
       "126  CBV21   76999\n",
       "127  CBV22   33485\n",
       "128  CBV23    5350\n",
       "129  CBX11  142229\n",
       "130  CBX12  329182\n",
       "131  CBX13   51874\n",
       "132  CBX14   33210\n",
       "133  CBX15   58694\n",
       "134  CBX16   96832\n",
       "135  CBX17  126546\n",
       "136  CBX18  158249\n",
       "137  CBX19  154968\n",
       "138  CBX20  110613\n",
       "139  CBX21   77002\n",
       "140  CBX22   34211\n",
       "141  CBX23    5350\n",
       "142  CBZ11  157660\n",
       "143  CBZ12  344872\n",
       "144  CBZ13  532388\n",
       "145  CBZ14  718538\n",
       "146  CBZ15  903705\n",
       "147  CBZ16  849833\n",
       "148  CBZ17  180214\n",
       "149  CBZ18  229797\n",
       "150  CBZ19  210078\n",
       "151  CBZ20  140371\n",
       "152  CBZ21   93888\n",
       "153  CBZ22   43436\n",
       "154  CBZ23    5778\n",
       "\n",
       "[155 rows x 2 columns]"
      ]
     },
     "metadata": {},
     "output_type": "display_data"
    }
   ],
   "source": [
    "sql = f'''\n",
    "select symbol, count(settle_date) from {opttab} \n",
    "where substring(symbol,1,2)='{SYMBOL_TO_RESEARCH}'\n",
    "group by symbol\n",
    "order by symbol;\n",
    "'''\n",
    "display.display(pga.get_sql(sql))\n"
   ]
  },
  {
   "cell_type": "code",
   "execution_count": 56,
   "metadata": {},
   "outputs": [],
   "source": [
    "def create_skew_per_date_df(df):\n",
    "    '''\n",
    "    Find the first settle_date whose count of rows is equal to max count of rows.\n",
    "    '''\n",
    "    # get the first symbol (which should be the only symbol)\n",
    "    contract = df.symbol.unique()[0]\n",
    "    # get just that symbol's data\n",
    "    df12 = df[df.symbol==contract]\n",
    "    df_counts = df12[['settle_date','moneyness']].groupby('settle_date',as_index=False).count()\n",
    "    max_count = df_counts.moneyness.max()\n",
    "    first_max_count_settle_date = df_counts[df_counts.moneyness==max_count].iloc[0].settle_date\n",
    "    \n",
    "    df_ret = df12[df12.settle_date==first_max_count_settle_date][['moneyness']]\n",
    "    all_settle_dates = sorted(df_counts.settle_date.unique())\n",
    "    for settle_date in all_settle_dates:\n",
    "        df_temp = df12[df12.settle_date==settle_date][['moneyness','vol_skew']]\n",
    "        df_ret = df_ret.merge(df_temp,on='moneyness',how='outer')\n",
    "        df_ret = df_ret.rename(columns={'vol_skew':str(settle_date)})\n",
    "    df_ret = df_ret.sort_values('moneyness')\n",
    "    return df_ret\n"
   ]
  },
  {
   "cell_type": "markdown",
   "metadata": {},
   "source": [
    "### Skew per contract"
   ]
  },
  {
   "cell_type": "code",
   "execution_count": 57,
   "metadata": {},
   "outputs": [],
   "source": [
    "def skew_per_symbol(symbol):\n",
    "    '''\n",
    "    For a symbol like CLM16 or EZH19, create 2 Dataframes\n",
    "      1. df_iv - contains rows of implied vols, for only the 'pseudo' strikes that are an even\n",
    "                 percent away from the money for each settle_date\n",
    "      2. df_skew - contains one row per day of skew data of for 'pseudo' strikes that are an even\n",
    "                 percent away from the money for each settle_date\n",
    "    '''\n",
    "    _exception = None\n",
    "    _stacktrace = None\n",
    "    df_iv = None\n",
    "    df_skew = None\n",
    "    try:\n",
    "        df,df_expiry_dates = get_postgres_data(symbol)\n",
    "        if len(df[df.contract_num==2])>0:\n",
    "            df10 = get_implieds(df,df_expiry_dates,symbol)\n",
    "            df12 = get_even_moneyness_strikes(df10)\n",
    "            df_sk = create_skew_per_date_df(df12)\n",
    "            df_skt = df_sk.T\n",
    "            df_skt.columns = df_skt.loc['moneyness']\n",
    "            df_skt = df_skt.iloc[1:].copy()\n",
    "            df_skt['symbol'] = contract\n",
    "            df_skt['settle_date'] = df_skt.index\n",
    "            df_iv = df12.copy() \n",
    "            df_skew = df_skt.copy()\n",
    "    except Exception as e:\n",
    "        _exception = str(e)\n",
    "        _stacktrace = traceback.format_exc()\n",
    "    return df_iv,df_skew,_exception,_stacktrace"
   ]
  },
  {
   "cell_type": "code",
   "execution_count": null,
   "metadata": {},
   "outputs": [],
   "source": []
  },
  {
   "cell_type": "markdown",
   "metadata": {},
   "source": [
    "## MAIN LOOP\n",
    "#### Loop through all contracts and create DataFrames for implied vol and skew "
   ]
  },
  {
   "cell_type": "code",
   "execution_count": 58,
   "metadata": {
    "scrolled": true
   },
   "outputs": [
    {
     "data": {
      "application/vnd.jupyter.widget-view+json": {
       "model_id": "3a0b8f4e69f74d708b1193bc58bd4ebb",
       "version_major": 2,
       "version_minor": 0
      },
      "text/plain": [
       "HBox(children=(IntProgress(value=0, max=155), HTML(value='')))"
      ]
     },
     "metadata": {},
     "output_type": "display_data"
    },
    {
     "name": "stderr",
     "output_type": "stream",
     "text": [
      "/Users/bperlman1/Virtualenvs3/pyliverisk/lib/python3.6/site-packages/pandas/core/frame.py:6692: FutureWarning:\n",
      "\n",
      "Sorting because non-concatenation axis is not aligned. A future version\n",
      "of pandas will change to not sort by default.\n",
      "\n",
      "To accept the future behavior, pass 'sort=False'.\n",
      "\n",
      "To retain the current behavior and silence the warning, pass 'sort=True'.\n",
      "\n",
      "\n",
      "/Users/bperlman1/Virtualenvs3/pyliverisk/lib/python3.6/site-packages/pandas/core/frame.py:6692: FutureWarning:\n",
      "\n",
      "Sorting because non-concatenation axis is not aligned. A future version\n",
      "of pandas will change to not sort by default.\n",
      "\n",
      "To accept the future behavior, pass 'sort=False'.\n",
      "\n",
      "To retain the current behavior and silence the warning, pass 'sort=True'.\n",
      "\n",
      "\n",
      "/Users/bperlman1/Virtualenvs3/pyliverisk/lib/python3.6/site-packages/pandas/core/frame.py:6692: FutureWarning:\n",
      "\n",
      "Sorting because non-concatenation axis is not aligned. A future version\n",
      "of pandas will change to not sort by default.\n",
      "\n",
      "To accept the future behavior, pass 'sort=False'.\n",
      "\n",
      "To retain the current behavior and silence the warning, pass 'sort=True'.\n",
      "\n",
      "\n",
      "/Users/bperlman1/Virtualenvs3/pyliverisk/lib/python3.6/site-packages/pandas/core/frame.py:6692: FutureWarning:\n",
      "\n",
      "Sorting because non-concatenation axis is not aligned. A future version\n",
      "of pandas will change to not sort by default.\n",
      "\n",
      "To accept the future behavior, pass 'sort=False'.\n",
      "\n",
      "To retain the current behavior and silence the warning, pass 'sort=True'.\n",
      "\n",
      "\n",
      "/Users/bperlman1/Virtualenvs3/pyliverisk/lib/python3.6/site-packages/pandas/core/frame.py:6692: FutureWarning:\n",
      "\n",
      "Sorting because non-concatenation axis is not aligned. A future version\n",
      "of pandas will change to not sort by default.\n",
      "\n",
      "To accept the future behavior, pass 'sort=False'.\n",
      "\n",
      "To retain the current behavior and silence the warning, pass 'sort=True'.\n",
      "\n",
      "\n",
      "/Users/bperlman1/Virtualenvs3/pyliverisk/lib/python3.6/site-packages/pandas/core/frame.py:6692: FutureWarning:\n",
      "\n",
      "Sorting because non-concatenation axis is not aligned. A future version\n",
      "of pandas will change to not sort by default.\n",
      "\n",
      "To accept the future behavior, pass 'sort=False'.\n",
      "\n",
      "To retain the current behavior and silence the warning, pass 'sort=True'.\n",
      "\n",
      "\n",
      "/Users/bperlman1/Virtualenvs3/pyliverisk/lib/python3.6/site-packages/pandas/core/frame.py:6692: FutureWarning:\n",
      "\n",
      "Sorting because non-concatenation axis is not aligned. A future version\n",
      "of pandas will change to not sort by default.\n",
      "\n",
      "To accept the future behavior, pass 'sort=False'.\n",
      "\n",
      "To retain the current behavior and silence the warning, pass 'sort=True'.\n",
      "\n",
      "\n",
      "/Users/bperlman1/Virtualenvs3/pyliverisk/lib/python3.6/site-packages/pandas/core/frame.py:6692: FutureWarning:\n",
      "\n",
      "Sorting because non-concatenation axis is not aligned. A future version\n",
      "of pandas will change to not sort by default.\n",
      "\n",
      "To accept the future behavior, pass 'sort=False'.\n",
      "\n",
      "To retain the current behavior and silence the warning, pass 'sort=True'.\n",
      "\n",
      "\n",
      "/Users/bperlman1/Virtualenvs3/pyliverisk/lib/python3.6/site-packages/py_lets_be_rational/lets_be_rational.py:613: RuntimeWarning:\n",
      "\n",
      "divide by zero encountered in double_scalars\n",
      "\n",
      "/Users/bperlman1/Virtualenvs3/pyliverisk/lib/python3.6/site-packages/pandas/core/frame.py:6692: FutureWarning:\n",
      "\n",
      "Sorting because non-concatenation axis is not aligned. A future version\n",
      "of pandas will change to not sort by default.\n",
      "\n",
      "To accept the future behavior, pass 'sort=False'.\n",
      "\n",
      "To retain the current behavior and silence the warning, pass 'sort=True'.\n",
      "\n",
      "\n",
      "/Users/bperlman1/Virtualenvs3/pyliverisk/lib/python3.6/site-packages/pandas/core/frame.py:6692: FutureWarning:\n",
      "\n",
      "Sorting because non-concatenation axis is not aligned. A future version\n",
      "of pandas will change to not sort by default.\n",
      "\n",
      "To accept the future behavior, pass 'sort=False'.\n",
      "\n",
      "To retain the current behavior and silence the warning, pass 'sort=True'.\n",
      "\n",
      "\n",
      "/Users/bperlman1/Virtualenvs3/pyliverisk/lib/python3.6/site-packages/pandas/core/frame.py:6692: FutureWarning:\n",
      "\n",
      "Sorting because non-concatenation axis is not aligned. A future version\n",
      "of pandas will change to not sort by default.\n",
      "\n",
      "To accept the future behavior, pass 'sort=False'.\n",
      "\n",
      "To retain the current behavior and silence the warning, pass 'sort=True'.\n",
      "\n",
      "\n",
      "/Users/bperlman1/Virtualenvs3/pyliverisk/lib/python3.6/site-packages/pandas/core/frame.py:6692: FutureWarning:\n",
      "\n",
      "Sorting because non-concatenation axis is not aligned. A future version\n",
      "of pandas will change to not sort by default.\n",
      "\n",
      "To accept the future behavior, pass 'sort=False'.\n",
      "\n",
      "To retain the current behavior and silence the warning, pass 'sort=True'.\n",
      "\n",
      "\n",
      "/Users/bperlman1/Virtualenvs3/pyliverisk/lib/python3.6/site-packages/pandas/core/frame.py:6692: FutureWarning:\n",
      "\n",
      "Sorting because non-concatenation axis is not aligned. A future version\n",
      "of pandas will change to not sort by default.\n",
      "\n",
      "To accept the future behavior, pass 'sort=False'.\n",
      "\n",
      "To retain the current behavior and silence the warning, pass 'sort=True'.\n",
      "\n",
      "\n"
     ]
    }
   ],
   "source": [
    "df_iv_final = None\n",
    "df_iv_skew = None\n",
    "dict_exceptions = {}\n",
    "dict_stacktraces = {}\n",
    "contracts = all_contracts\n",
    "if SYMBOL_TO_RESEARCH in ['ES']:\n",
    "    contracts = [c for c in all_contracts if c[-3] in ['H','M','U','Z']]\n",
    "for contract in tqdm_notebook(contracts):\n",
    "#     try:\n",
    "#         df,df_expiry_dates = get_postgres_data(contract)\n",
    "#         if len(df[df.contract_num==2])<=0:\n",
    "#             continue\n",
    "#         df10 = get_implieds(df[df.symbol==contract],df_expiry_dates,contract)\n",
    "#         df12 = get_even_moneyness_strikes(df10)\n",
    "#         df_sk = create_skew_per_date_df(df12)\n",
    "#         df_skt = df_sk.T\n",
    "#         df_skt.columns = df_skt.loc['moneyness']\n",
    "#         df_skt = df_skt.iloc[1:].copy()\n",
    "#         df_skt['symbol'] = contract\n",
    "#         df_skt['settle_date'] = df_skt.index\n",
    "    df12,df_skew,_exception,_stacktrace = skew_per_symbol(contract)\n",
    "    if df12 is not None:\n",
    "        if df_iv_final is None:\n",
    "            df_iv_final = df12.copy()\n",
    "        else:\n",
    "            df_iv_final = df_iv_final.append(df12,ignore_index=True)\n",
    "        if df_iv_skew is None:\n",
    "            df_iv_skew = df_skew.copy()\n",
    "        else:\n",
    "            df_iv_skew = df_iv_skew.append(df_skew,ignore_index=True)\n",
    "            df_iv_skew.index = list(range(len(df_iv_skew)))\n",
    "    if _exception is not None:\n",
    "        dict_exceptions[contract] = _exception\n",
    "        dict_stacktraces[contract] = _stacktrace\n",
    "#     except Exception as e:\n",
    "#         dict_exceptions[contract] = str(e)\n",
    "#         dict_stacktraces[contract] = traceback.format_exc()\n"
   ]
  },
  {
   "cell_type": "code",
   "execution_count": 59,
   "metadata": {},
   "outputs": [
    {
     "data": {
      "text/plain": [
       "27643"
      ]
     },
     "execution_count": 59,
     "metadata": {},
     "output_type": "execute_result"
    }
   ],
   "source": [
    "len(df_iv_final)"
   ]
  },
  {
   "cell_type": "markdown",
   "metadata": {},
   "source": [
    "### save to csv and print any exceptions that might have occured"
   ]
  },
  {
   "cell_type": "code",
   "execution_count": 60,
   "metadata": {},
   "outputs": [],
   "source": [
    "dict_exceptions\n",
    "df_iv_final.to_csv(f'./temp_folder/df_iv_final_{SYMBOL_TO_RESEARCH}.csv',index=False)\n",
    "df_iv_skew.to_csv(f'./temp_folder/df_iv_skew_{SYMBOL_TO_RESEARCH}.csv',index=False)"
   ]
  },
  {
   "cell_type": "markdown",
   "metadata": {},
   "source": [
    "### graph skew"
   ]
  },
  {
   "cell_type": "code",
   "execution_count": 61,
   "metadata": {
    "scrolled": true
   },
   "outputs": [],
   "source": [
    "def graph_skew(df,do_plot=False):\n",
    "    '''\n",
    "    Graph skew for ONLY ONE symbol.\n",
    "    If df contains more than one symbol, we will only graph the first symbol in the DataFrames    \n",
    "    '''\n",
    "    # get the first symbol (which should be the only symbol)\n",
    "    contract = df.symbol.unique()[0]\n",
    "    dfp = create_skew_per_date_df(df_iv_final[df_iv_final.symbol==contract])\n",
    "    \n",
    "#     display.display(dfp)\n",
    "    settle_dates = sorted([c for c in dfp.columns.values if c != 'moneyness'])\n",
    "    splits = list(np.arange(5,len(settle_dates),5))\n",
    "#     settle_date_strings = [str(yyyymmdd) for yyyymmdd in settle_dates]\n",
    "    settle_date_groups = np.split(np.array(settle_dates),splits)\n",
    "    ret_figs = []\n",
    "    for sdg in settle_date_groups:\n",
    "        sdg_sorted = [str(c) for c in sorted(sdg)]\n",
    "        cols = ['moneyness']+list(sdg_sorted)\n",
    "        dfp_sub = dfp[cols]\n",
    "        t = f'{contract} {sdg[0]} - {sdg[-1]}' \n",
    "        f = plotly_plot(dfp_sub,x_column='moneyness',plot_title=t,y_left_label='vol skew')\n",
    "        ret_figs.append(f)\n",
    "        if do_plot:\n",
    "            iplot(f)\n",
    "    return ret_figs"
   ]
  },
  {
   "cell_type": "markdown",
   "metadata": {},
   "source": [
    "#### Do the same plots as above, but using a grid"
   ]
  },
  {
   "cell_type": "code",
   "execution_count": 62,
   "metadata": {},
   "outputs": [],
   "source": [
    "def graph_skew_subplots(df):\n",
    "    rfs = graph_skew(df)\n",
    "    n = 4   \n",
    "    # using list comprehension \n",
    "    rfs_groups = [rfs[i*n:(i + 1)*n] for i in range((len(rfs) + n - 1) // n )]  \n",
    "    for rfs_group in rfs_groups:\n",
    "        iplot(graph_skew_subplot_quad(rfs_group))\n",
    "    \n",
    "def graph_skew_subplot_quad(rfs):\n",
    "    '''\n",
    "    Use subplots to output the results of the method graph_skew above\n",
    "    '''\n",
    "    rows = 2#len(rfs)//2\n",
    "    f1 = tls.make_subplots(rows=rows, cols=2,  \n",
    "        shared_yaxes=False, \n",
    "        subplot_titles=[rfs[i]['layout'].title for i in range(len(rfs))],\n",
    "        horizontal_spacing=0.09,\n",
    "        vertical_spacing=0.11,                       \n",
    "        print_grid=False)\n",
    "\n",
    "    pl_width=900\n",
    "    pl_height=800 \n",
    "    title = 'Skew plots<br>'\n",
    "\n",
    "    f1['layout'].update(title=title,                                 \n",
    "        font= Font(family=\"Open Sans, sans-serif\"),\n",
    "        showlegend=True,     \n",
    "        hovermode='x',  \n",
    "        autosize=True,       \n",
    "        width=pl_width,       \n",
    "        height=pl_height,\n",
    "        plot_bgcolor='#EFECEA', \n",
    "        bargap=0.05,\n",
    "        margin=Margin(\n",
    "                      l=45,\n",
    "                      r=15,\n",
    "                      b=55,\n",
    "                      t=50\n",
    "        )\n",
    "    )    \n",
    "    for i in range(len(rfs)):\n",
    "        x = int(i/2) + 1\n",
    "        y = i % 2 + 1\n",
    "        f = rfs[i]\n",
    "        l = f.layout\n",
    "        \n",
    "        try:\n",
    "            yaxis = f'yaxis{i+1}'\n",
    "            xaxis = f'xaxis{i+1}'\n",
    "            if i < 10:\n",
    "                yaxis = yaxis.replace('1','') \n",
    "                xaxis = xaxis.replace('1','') \n",
    "            f1['layout'].update({xaxis:l.xaxis})\n",
    "            f1['layout'].update({yaxis:l.yaxis})\n",
    "            gname = f'chart {x,y}'#rfs[i]['layout'].title\n",
    "            for d in f.data:\n",
    "                data_y = f'y{i+1}'.replace('1','') \n",
    "                d['yaxis']=data_y\n",
    "                d['legendgroup'] =  gname\n",
    "                d['name'] = f\"{gname} {d.name}\"\n",
    "                f1.append_trace(d,x,y)\n",
    "            pass\n",
    "        except Exception as e:\n",
    "            ipdb.set_trace()\n",
    "            print(f'graph_skew_subplots ERRORS: {str(e)}')\n",
    "    return f1\n",
    "# iplot(f1)\n"
   ]
  },
  {
   "cell_type": "code",
   "execution_count": 63,
   "metadata": {},
   "outputs": [
    {
     "data": {
      "text/html": [
       "<div>\n",
       "<style scoped>\n",
       "    .dataframe tbody tr th:only-of-type {\n",
       "        vertical-align: middle;\n",
       "    }\n",
       "\n",
       "    .dataframe tbody tr th {\n",
       "        vertical-align: top;\n",
       "    }\n",
       "\n",
       "    .dataframe thead th {\n",
       "        text-align: right;\n",
       "    }\n",
       "</style>\n",
       "<table border=\"1\" class=\"dataframe\">\n",
       "  <thead>\n",
       "    <tr style=\"text-align: right;\">\n",
       "      <th></th>\n",
       "      <th>close_x</th>\n",
       "      <th>close_y</th>\n",
       "      <th>contract_num</th>\n",
       "      <th>dte</th>\n",
       "      <th>iv</th>\n",
       "      <th>pc</th>\n",
       "      <th>settle_date</th>\n",
       "      <th>strike</th>\n",
       "      <th>symbol</th>\n",
       "      <th>moneyness</th>\n",
       "      <th>atm_iv</th>\n",
       "      <th>vol_skew</th>\n",
       "    </tr>\n",
       "  </thead>\n",
       "  <tbody>\n",
       "    <tr>\n",
       "      <th>11770</th>\n",
       "      <td>NaN</td>\n",
       "      <td>121.21</td>\n",
       "      <td>2</td>\n",
       "      <td>28</td>\n",
       "      <td>0.269536</td>\n",
       "      <td>NaN</td>\n",
       "      <td>20120413</td>\n",
       "      <td>133.3310</td>\n",
       "      <td>CBM12</td>\n",
       "      <td>0.10</td>\n",
       "      <td>0.254956</td>\n",
       "      <td>0.0146</td>\n",
       "    </tr>\n",
       "    <tr>\n",
       "      <th>11771</th>\n",
       "      <td>NaN</td>\n",
       "      <td>121.21</td>\n",
       "      <td>2</td>\n",
       "      <td>28</td>\n",
       "      <td>0.301804</td>\n",
       "      <td>NaN</td>\n",
       "      <td>20120413</td>\n",
       "      <td>139.3915</td>\n",
       "      <td>CBM12</td>\n",
       "      <td>0.15</td>\n",
       "      <td>0.254956</td>\n",
       "      <td>0.0468</td>\n",
       "    </tr>\n",
       "    <tr>\n",
       "      <th>11772</th>\n",
       "      <td>NaN</td>\n",
       "      <td>121.21</td>\n",
       "      <td>2</td>\n",
       "      <td>28</td>\n",
       "      <td>0.337815</td>\n",
       "      <td>NaN</td>\n",
       "      <td>20120413</td>\n",
       "      <td>145.4520</td>\n",
       "      <td>CBM12</td>\n",
       "      <td>0.20</td>\n",
       "      <td>0.254956</td>\n",
       "      <td>0.0829</td>\n",
       "    </tr>\n",
       "    <tr>\n",
       "      <th>11773</th>\n",
       "      <td>NaN</td>\n",
       "      <td>121.21</td>\n",
       "      <td>2</td>\n",
       "      <td>28</td>\n",
       "      <td>0.387770</td>\n",
       "      <td>NaN</td>\n",
       "      <td>20120413</td>\n",
       "      <td>151.5125</td>\n",
       "      <td>CBM12</td>\n",
       "      <td>0.25</td>\n",
       "      <td>0.254956</td>\n",
       "      <td>0.1328</td>\n",
       "    </tr>\n",
       "    <tr>\n",
       "      <th>11774</th>\n",
       "      <td>NaN</td>\n",
       "      <td>121.21</td>\n",
       "      <td>2</td>\n",
       "      <td>28</td>\n",
       "      <td>0.430352</td>\n",
       "      <td>NaN</td>\n",
       "      <td>20120413</td>\n",
       "      <td>157.5730</td>\n",
       "      <td>CBM12</td>\n",
       "      <td>0.30</td>\n",
       "      <td>0.254956</td>\n",
       "      <td>0.1754</td>\n",
       "    </tr>\n",
       "  </tbody>\n",
       "</table>\n",
       "</div>"
      ],
      "text/plain": [
       "       close_x  close_y  contract_num  dte        iv   pc  settle_date  \\\n",
       "11770      NaN   121.21             2   28  0.269536  NaN     20120413   \n",
       "11771      NaN   121.21             2   28  0.301804  NaN     20120413   \n",
       "11772      NaN   121.21             2   28  0.337815  NaN     20120413   \n",
       "11773      NaN   121.21             2   28  0.387770  NaN     20120413   \n",
       "11774      NaN   121.21             2   28  0.430352  NaN     20120413   \n",
       "\n",
       "         strike symbol  moneyness    atm_iv  vol_skew  \n",
       "11770  133.3310  CBM12       0.10  0.254956    0.0146  \n",
       "11771  139.3915  CBM12       0.15  0.254956    0.0468  \n",
       "11772  145.4520  CBM12       0.20  0.254956    0.0829  \n",
       "11773  151.5125  CBM12       0.25  0.254956    0.1328  \n",
       "11774  157.5730  CBM12       0.30  0.254956    0.1754  "
      ]
     },
     "execution_count": 63,
     "metadata": {},
     "output_type": "execute_result"
    }
   ],
   "source": [
    "df_iv_final[df_iv_final.symbol==f'{SYMBOL_TO_RESEARCH}M12'].tail()"
   ]
  },
  {
   "cell_type": "code",
   "execution_count": 64,
   "metadata": {
    "scrolled": false
   },
   "outputs": [
    {
     "data": {
      "application/vnd.plotly.v1+json": {
       "data": [
        {
         "legendgroup": "chart (1, 1)",
         "name": "chart (1, 1) 20181001",
         "type": "scatter",
         "uid": "c645d768-a3e3-11e9-bff9-8c859025e7f9",
         "x": [
          -0.3,
          -0.25,
          -0.2,
          -0.15,
          -0.1,
          -0.05,
          0,
          0.05,
          0.1,
          0.15,
          0.2,
          0.25,
          0.3,
          0.35
         ],
         "xaxis": "x",
         "y": [
          0.1279,
          0.0938,
          0.0621,
          0.0371,
          0.016,
          0.0059,
          0,
          0.0024,
          0.0103,
          0.0228,
          0.0396,
          0.0587,
          0.0774,
          null
         ],
         "yaxis": "y"
        },
        {
         "legendgroup": "chart (1, 1)",
         "name": "chart (1, 1) 20181002",
         "type": "scatter",
         "uid": "c6464770-a3e3-11e9-973f-8c859025e7f9",
         "x": [
          -0.3,
          -0.25,
          -0.2,
          -0.15,
          -0.1,
          -0.05,
          0,
          0.05,
          0.1,
          0.15,
          0.2,
          0.25,
          0.3,
          0.35
         ],
         "xaxis": "x",
         "y": [
          0.1331,
          0.0989,
          0.0659,
          0.0382,
          0.0171,
          0.0044,
          0,
          0.0005,
          0.0092,
          0.0235,
          0.0418,
          0.0601,
          0.079,
          null
         ],
         "yaxis": "y"
        },
        {
         "legendgroup": "chart (1, 1)",
         "name": "chart (1, 1) 20181003",
         "type": "scatter",
         "uid": "c646a80a-a3e3-11e9-b5ca-8c859025e7f9",
         "x": [
          -0.3,
          -0.25,
          -0.2,
          -0.15,
          -0.1,
          -0.05,
          0,
          0.05,
          0.1,
          0.15,
          0.2,
          0.25,
          0.3,
          0.35
         ],
         "xaxis": "x",
         "y": [
          0.1359,
          0.0894,
          0.0598,
          0.0339,
          0.0146,
          0.0017,
          0,
          0.0023,
          0.0121,
          0.0274,
          0.0471,
          0.0656,
          0.0864,
          null
         ],
         "yaxis": "y"
        },
        {
         "legendgroup": "chart (1, 1)",
         "name": "chart (1, 1) 20181004",
         "type": "scatter",
         "uid": "c6471e48-a3e3-11e9-b34d-8c859025e7f9",
         "x": [
          -0.3,
          -0.25,
          -0.2,
          -0.15,
          -0.1,
          -0.05,
          0,
          0.05,
          0.1,
          0.15,
          0.2,
          0.25,
          0.3,
          0.35
         ],
         "xaxis": "x",
         "y": [
          0.1328,
          0.1058,
          0.0726,
          0.0425,
          0.022,
          0.0071,
          0,
          0.0035,
          0.0123,
          0.0242,
          0.0398,
          0.0593,
          0.076,
          null
         ],
         "yaxis": "y"
        },
        {
         "legendgroup": "chart (1, 1)",
         "name": "chart (1, 1) 20181005",
         "type": "scatter",
         "uid": "c64783a6-a3e3-11e9-afbb-8c859025e7f9",
         "x": [
          -0.3,
          -0.25,
          -0.2,
          -0.15,
          -0.1,
          -0.05,
          0,
          0.05,
          0.1,
          0.15,
          0.2,
          0.25,
          0.3,
          0.35
         ],
         "xaxis": "x",
         "y": [
          0.1339,
          0.0933,
          0.0643,
          0.0381,
          0.0152,
          0.0026,
          0,
          0.0012,
          0.0111,
          0.0237,
          0.0395,
          0.0571,
          0.0756,
          null
         ],
         "yaxis": "y"
        },
        {
         "legendgroup": "chart (1, 2)",
         "name": "chart (1, 2) 20181008",
         "type": "scatter",
         "uid": "c6487b3a-a3e3-11e9-8075-8c859025e7f9",
         "x": [
          -0.3,
          -0.25,
          -0.2,
          -0.15,
          -0.1,
          -0.05,
          0,
          0.05,
          0.1,
          0.15,
          0.2,
          0.25,
          0.3,
          0.35
         ],
         "xaxis": "x2",
         "y": [
          0.1339,
          0.105,
          0.0737,
          0.0434,
          0.0207,
          0.0067,
          0,
          0.0018,
          0.0136,
          0.0276,
          0.0461,
          0.0672,
          0.0826,
          null
         ],
         "yaxis": "y2"
        },
        {
         "legendgroup": "chart (1, 2)",
         "name": "chart (1, 2) 20181009",
         "type": "scatter",
         "uid": "c648e89a-a3e3-11e9-9458-8c859025e7f9",
         "x": [
          -0.3,
          -0.25,
          -0.2,
          -0.15,
          -0.1,
          -0.05,
          0,
          0.05,
          0.1,
          0.15,
          0.2,
          0.25,
          0.3,
          0.35
         ],
         "xaxis": "x2",
         "y": [
          0.1364,
          0.1024,
          0.072,
          0.0445,
          0.019,
          0.006,
          0,
          0.004,
          0.0164,
          0.0322,
          0.0522,
          0.071,
          0.092,
          null
         ],
         "yaxis": "y2"
        },
        {
         "legendgroup": "chart (1, 2)",
         "name": "chart (1, 2) 20181010",
         "type": "scatter",
         "uid": "c6497d14-a3e3-11e9-af50-8c859025e7f9",
         "x": [
          -0.3,
          -0.25,
          -0.2,
          -0.15,
          -0.1,
          -0.05,
          0,
          0.05,
          0.1,
          0.15,
          0.2,
          0.25,
          0.3,
          0.35
         ],
         "xaxis": "x2",
         "y": [
          0.1436,
          0.1037,
          0.0772,
          0.0436,
          0.0207,
          0.0073,
          0,
          0.0018,
          0.0103,
          0.0236,
          0.0414,
          0.0624,
          0.0783,
          0.0981
         ],
         "yaxis": "y2"
        },
        {
         "legendgroup": "chart (1, 2)",
         "name": "chart (1, 2) 20181011",
         "type": "scatter",
         "uid": "c649e628-a3e3-11e9-acc3-8c859025e7f9",
         "x": [
          -0.3,
          -0.25,
          -0.2,
          -0.15,
          -0.1,
          -0.05,
          0,
          0.05,
          0.1,
          0.15,
          0.2,
          0.25,
          0.3,
          0.35
         ],
         "xaxis": "x2",
         "y": [
          0.1432,
          0.1143,
          0.0741,
          0.0469,
          0.0224,
          0.007,
          0,
          -0.0035,
          0.0017,
          0.0124,
          0.0294,
          0.0487,
          0.0653,
          0.0921
         ],
         "yaxis": "y2"
        },
        {
         "legendgroup": "chart (1, 2)",
         "name": "chart (1, 2) 20181012",
         "type": "scatter",
         "uid": "c64a4618-a3e3-11e9-843d-8c859025e7f9",
         "x": [
          -0.3,
          -0.25,
          -0.2,
          -0.15,
          -0.1,
          -0.05,
          0,
          0.05,
          0.1,
          0.15,
          0.2,
          0.25,
          0.3,
          0.35
         ],
         "xaxis": "x2",
         "y": [
          0.1567,
          0.1273,
          0.0877,
          0.054,
          0.027,
          0.0099,
          0,
          -0.002,
          0.0043,
          0.0175,
          0.038,
          0.0565,
          0.0846,
          0.1023
         ],
         "yaxis": "y2"
        },
        {
         "legendgroup": "chart (2, 1)",
         "name": "chart (2, 1) 20181015",
         "type": "scatter",
         "uid": "c64b3c6c-a3e3-11e9-bb11-8c859025e7f9",
         "x": [
          -0.3,
          -0.25,
          -0.2,
          -0.15,
          -0.1,
          -0.05,
          0,
          0.05,
          0.1,
          0.15,
          0.2,
          0.25,
          0.3,
          0.35
         ],
         "xaxis": "x3",
         "y": [
          0.1675,
          0.1113,
          0.0781,
          0.0462,
          0.0218,
          0.0056,
          0,
          0.0009,
          0.0119,
          0.0294,
          0.0508,
          0.0712,
          0.094,
          0.1138
         ],
         "yaxis": "y3"
        },
        {
         "legendgroup": "chart (2, 1)",
         "name": "chart (2, 1) 20181016",
         "type": "scatter",
         "uid": "c64b9e34-a3e3-11e9-9f39-8c859025e7f9",
         "x": [
          -0.3,
          -0.25,
          -0.2,
          -0.15,
          -0.1,
          -0.05,
          0,
          0.05,
          0.1,
          0.15,
          0.2,
          0.25,
          0.3,
          0.35
         ],
         "xaxis": "x3",
         "y": [
          0.1434,
          0.1144,
          0.0797,
          0.0476,
          0.0233,
          0.0062,
          0,
          0.0039,
          0.0172,
          0.0378,
          0.065,
          0.0875,
          0.1087,
          0.1379
         ],
         "yaxis": "y3"
        },
        {
         "legendgroup": "chart (2, 1)",
         "name": "chart (2, 1) 20181017",
         "type": "scatter",
         "uid": "c64c163a-a3e3-11e9-acb8-8c859025e7f9",
         "x": [
          -0.3,
          -0.25,
          -0.2,
          -0.15,
          -0.1,
          -0.05,
          0,
          0.05,
          0.1,
          0.15,
          0.2,
          0.25,
          0.3,
          0.35
         ],
         "xaxis": "x3",
         "y": [
          0.1733,
          0.1221,
          0.0835,
          0.0528,
          0.0246,
          0.0086,
          0,
          0.004,
          0.0191,
          0.0412,
          0.0673,
          0.0937,
          0.117,
          0.1486
         ],
         "yaxis": "y3"
        },
        {
         "legendgroup": "chart (2, 1)",
         "name": "chart (2, 1) 20181018",
         "type": "scatter",
         "uid": "c64c7c3a-a3e3-11e9-a5e1-8c859025e7f9",
         "x": [
          -0.3,
          -0.25,
          -0.2,
          -0.15,
          -0.1,
          -0.05,
          0,
          0.05,
          0.1,
          0.15,
          0.2,
          0.25,
          0.3,
          0.35
         ],
         "xaxis": "x3",
         "y": [
          0.1469,
          0.1215,
          null,
          0.0504,
          0.0242,
          0.007,
          0,
          -0.0028,
          0.0086,
          0.0283,
          null,
          0.0865,
          0.112,
          0.1335
         ],
         "yaxis": "y3"
        },
        {
         "legendgroup": "chart (2, 1)",
         "name": "chart (2, 1) 20181019",
         "type": "scatter",
         "uid": "c64cdd10-a3e3-11e9-b952-8c859025e7f9",
         "x": [
          -0.3,
          -0.25,
          -0.2,
          -0.15,
          -0.1,
          -0.05,
          0,
          0.05,
          0.1,
          0.15,
          0.2,
          0.25,
          0.3,
          0.35
         ],
         "xaxis": "x3",
         "y": [
          0.1559,
          0.1122,
          0.0783,
          0.0485,
          0.0214,
          0.0053,
          0,
          -0.0023,
          0.0082,
          0.0316,
          0.055,
          0.0801,
          0.111,
          0.143
         ],
         "yaxis": "y3"
        },
        {
         "legendgroup": "chart (2, 2)",
         "name": "chart (2, 2) 20181022",
         "type": "scatter",
         "uid": "c64dcfa4-a3e3-11e9-b207-8c859025e7f9",
         "x": [
          -0.3,
          -0.25,
          -0.2,
          -0.15,
          -0.1,
          -0.05,
          0,
          0.05,
          0.1,
          0.15,
          0.2,
          0.25,
          0.3,
          0.35
         ],
         "xaxis": "x4",
         "y": [
          0.1769,
          0.1401,
          0.0954,
          0.0574,
          0.0266,
          0.0059,
          0,
          0.0026,
          0.0172,
          0.0402,
          0.0678,
          0.0996,
          0.1281,
          0.1592
         ],
         "yaxis": "y4"
        },
        {
         "legendgroup": "chart (2, 2)",
         "name": "chart (2, 2) 20181023",
         "type": "scatter",
         "uid": "c64e3e3a-a3e3-11e9-a913-8c859025e7f9",
         "x": [
          -0.3,
          -0.25,
          -0.2,
          -0.15,
          -0.1,
          -0.05,
          0,
          0.05,
          0.1,
          0.15,
          0.2,
          0.25,
          0.3,
          0.35
         ],
         "xaxis": "x4",
         "y": [
          0.229,
          0.1751,
          0.1225,
          0.0716,
          0.0368,
          0.0145,
          0,
          0.0028,
          0.0145,
          0.0349,
          0.0658,
          0.0956,
          0.1271,
          0.1458
         ],
         "yaxis": "y4"
        },
        {
         "legendgroup": "chart (2, 2)",
         "name": "chart (2, 2) 20181024",
         "type": "scatter",
         "uid": "c64eae10-a3e3-11e9-ae4c-8c859025e7f9",
         "x": [
          -0.3,
          -0.25,
          -0.2,
          -0.15,
          -0.1,
          -0.05,
          0,
          0.05,
          0.1,
          0.15,
          0.2,
          0.25,
          0.3,
          0.35
         ],
         "xaxis": "x4",
         "y": [
          0.2136,
          0.1699,
          0.1223,
          0.0786,
          0.041,
          0.0167,
          0,
          0.0028,
          0.012,
          0.034,
          0.0606,
          0.0902,
          0.123,
          0.1538
         ],
         "yaxis": "y4"
        },
        {
         "legendgroup": "chart (2, 2)",
         "name": "chart (2, 2) 20181025",
         "type": "scatter",
         "uid": "c64f0e9e-a3e3-11e9-8087-8c859025e7f9",
         "x": [
          -0.3,
          -0.25,
          -0.2,
          -0.15,
          -0.1,
          -0.05,
          0,
          0.05,
          0.1,
          0.15,
          0.2,
          0.25,
          0.3,
          0.35
         ],
         "xaxis": "x4",
         "y": [
          0.2229,
          0.1621,
          0.1184,
          0.0738,
          0.034,
          0.0099,
          0,
          -0.0035,
          0.0095,
          0.0316,
          0.057,
          0.0808,
          0.1171,
          0.1433
         ],
         "yaxis": "y4"
        },
        {
         "legendgroup": "chart (2, 2)",
         "name": "chart (2, 2) 20181026",
         "type": "scatter",
         "uid": "c64f9906-a3e3-11e9-b788-8c859025e7f9",
         "x": [
          -0.3,
          -0.25,
          -0.2,
          -0.15,
          -0.1,
          -0.05,
          0,
          0.05,
          0.1,
          0.15,
          0.2,
          0.25,
          0.3,
          0.35
         ],
         "xaxis": "x4",
         "y": [
          0.2132,
          0.1708,
          0.1237,
          0.0765,
          0.0402,
          0.0173,
          0,
          0.0036,
          0.0156,
          0.0385,
          0.0684,
          0.0997,
          0.126,
          0.1523
         ],
         "yaxis": "y4"
        }
       ],
       "layout": {
        "annotations": [
         {
          "font": {
           "size": 16
          },
          "showarrow": false,
          "text": "CBF19 20181001 - 20181005",
          "x": 0.2275,
          "xanchor": "center",
          "xref": "paper",
          "y": 1,
          "yanchor": "bottom",
          "yref": "paper"
         },
         {
          "font": {
           "size": 16
          },
          "showarrow": false,
          "text": "CBF19 20181008 - 20181012",
          "x": 0.7725,
          "xanchor": "center",
          "xref": "paper",
          "y": 1,
          "yanchor": "bottom",
          "yref": "paper"
         },
         {
          "font": {
           "size": 16
          },
          "showarrow": false,
          "text": "CBF19 20181015 - 20181019",
          "x": 0.2275,
          "xanchor": "center",
          "xref": "paper",
          "y": 0.445,
          "yanchor": "bottom",
          "yref": "paper"
         },
         {
          "font": {
           "size": 16
          },
          "showarrow": false,
          "text": "CBF19 20181022 - 20181026",
          "x": 0.7725,
          "xanchor": "center",
          "xref": "paper",
          "y": 0.445,
          "yanchor": "bottom",
          "yref": "paper"
         }
        ],
        "autosize": true,
        "bargap": 0.05,
        "font": {
         "family": "Open Sans, sans-serif"
        },
        "height": 800,
        "hovermode": "x",
        "margin": {
         "b": 55,
         "l": 45,
         "r": 15,
         "t": 50
        },
        "plot_bgcolor": "#EFECEA",
        "showlegend": true,
        "title": "Skew plots<br>",
        "width": 900,
        "xaxis": {
         "anchor": "y",
         "domain": [
          0,
          0.455
         ],
         "tickangle": 45,
         "ticktext": [
          -0.3,
          -0.25,
          -0.2,
          -0.15,
          -0.1,
          -0.05,
          0,
          0.05,
          0.1,
          0.15,
          0.2,
          0.25,
          0.3,
          0.35
         ],
         "tickvals": [
          -0.3,
          -0.25,
          -0.2,
          -0.15,
          -0.1,
          -0.05,
          0,
          0.05,
          0.1,
          0.15,
          0.2,
          0.25,
          0.3,
          0.35
         ],
         "type": "category"
        },
        "xaxis2": {
         "anchor": "y2",
         "domain": [
          0.545,
          1
         ],
         "tickangle": 45,
         "ticktext": [
          -0.3,
          -0.25,
          -0.2,
          -0.15,
          -0.1,
          -0.05,
          0,
          0.05,
          0.1,
          0.15,
          0.2,
          0.25,
          0.3,
          0.35
         ],
         "tickvals": [
          -0.3,
          -0.25,
          -0.2,
          -0.15,
          -0.1,
          -0.05,
          0,
          0.05,
          0.1,
          0.15,
          0.2,
          0.25,
          0.3,
          0.35
         ],
         "type": "category"
        },
        "xaxis3": {
         "anchor": "y3",
         "domain": [
          0,
          0.455
         ],
         "tickangle": 45,
         "ticktext": [
          -0.3,
          -0.25,
          -0.2,
          -0.15,
          -0.1,
          -0.05,
          0,
          0.05,
          0.1,
          0.15,
          0.2,
          0.25,
          0.3,
          0.35
         ],
         "tickvals": [
          -0.3,
          -0.25,
          -0.2,
          -0.15,
          -0.1,
          -0.05,
          0,
          0.05,
          0.1,
          0.15,
          0.2,
          0.25,
          0.3,
          0.35
         ],
         "type": "category"
        },
        "xaxis4": {
         "anchor": "y4",
         "domain": [
          0.545,
          1
         ],
         "tickangle": 45,
         "ticktext": [
          -0.3,
          -0.25,
          -0.2,
          -0.15,
          -0.1,
          -0.05,
          0,
          0.05,
          0.1,
          0.15,
          0.2,
          0.25,
          0.3,
          0.35
         ],
         "tickvals": [
          -0.3,
          -0.25,
          -0.2,
          -0.15,
          -0.1,
          -0.05,
          0,
          0.05,
          0.1,
          0.15,
          0.2,
          0.25,
          0.3,
          0.35
         ],
         "type": "category"
        },
        "yaxis": {
         "anchor": "x",
         "domain": [
          0.555,
          1
         ],
         "title": "vol skew"
        },
        "yaxis2": {
         "anchor": "x2",
         "domain": [
          0.555,
          1
         ],
         "title": "vol skew"
        },
        "yaxis3": {
         "anchor": "x3",
         "domain": [
          0,
          0.445
         ],
         "title": "vol skew"
        },
        "yaxis4": {
         "anchor": "x4",
         "domain": [
          0,
          0.445
         ],
         "title": "vol skew"
        }
       }
      },
      "text/html": [
       "<div id=\"b7c6ba05-15d9-43c7-b35d-fe98b4d070ee\" style=\"height: 800px; width: 900px;\" class=\"plotly-graph-div\"></div><script type=\"text/javascript\">require([\"plotly\"], function(Plotly) { window.PLOTLYENV=window.PLOTLYENV || {};window.PLOTLYENV.BASE_URL=\"https://plot.ly\";Plotly.newPlot(\"b7c6ba05-15d9-43c7-b35d-fe98b4d070ee\", [{\"legendgroup\": \"chart (1, 1)\", \"name\": \"chart (1, 1) 20181001\", \"uid\": \"c645d768-a3e3-11e9-bff9-8c859025e7f9\", \"x\": [-0.3, -0.25, -0.2, -0.15, -0.1, -0.05, 0.0, 0.05, 0.1, 0.15, 0.2, 0.25, 0.3, 0.35], \"y\": [0.1279, 0.0938, 0.0621, 0.0371, 0.016, 0.0059, 0.0, 0.0024, 0.0103, 0.0228, 0.0396, 0.0587, 0.0774, null], \"yaxis\": \"y\", \"type\": \"scatter\", \"xaxis\": \"x\"}, {\"legendgroup\": \"chart (1, 1)\", \"name\": \"chart (1, 1) 20181002\", \"uid\": \"c6464770-a3e3-11e9-973f-8c859025e7f9\", \"x\": [-0.3, -0.25, -0.2, -0.15, -0.1, -0.05, 0.0, 0.05, 0.1, 0.15, 0.2, 0.25, 0.3, 0.35], \"y\": [0.1331, 0.0989, 0.0659, 0.0382, 0.0171, 0.0044, 0.0, 0.0005, 0.0092, 0.0235, 0.0418, 0.0601, 0.079, null], \"yaxis\": \"y\", \"type\": \"scatter\", \"xaxis\": \"x\"}, {\"legendgroup\": \"chart (1, 1)\", \"name\": \"chart (1, 1) 20181003\", \"uid\": \"c646a80a-a3e3-11e9-b5ca-8c859025e7f9\", \"x\": [-0.3, -0.25, -0.2, -0.15, -0.1, -0.05, 0.0, 0.05, 0.1, 0.15, 0.2, 0.25, 0.3, 0.35], \"y\": [0.1359, 0.0894, 0.0598, 0.0339, 0.0146, 0.0017, 0.0, 0.0023, 0.0121, 0.0274, 0.0471, 0.0656, 0.0864, null], \"yaxis\": \"y\", \"type\": \"scatter\", \"xaxis\": \"x\"}, {\"legendgroup\": \"chart (1, 1)\", \"name\": \"chart (1, 1) 20181004\", \"uid\": \"c6471e48-a3e3-11e9-b34d-8c859025e7f9\", \"x\": [-0.3, -0.25, -0.2, -0.15, -0.1, -0.05, 0.0, 0.05, 0.1, 0.15, 0.2, 0.25, 0.3, 0.35], \"y\": [0.1328, 0.1058, 0.0726, 0.0425, 0.022, 0.0071, 0.0, 0.0035, 0.0123, 0.0242, 0.0398, 0.0593, 0.076, null], \"yaxis\": \"y\", \"type\": \"scatter\", \"xaxis\": \"x\"}, {\"legendgroup\": \"chart (1, 1)\", \"name\": \"chart (1, 1) 20181005\", \"uid\": \"c64783a6-a3e3-11e9-afbb-8c859025e7f9\", \"x\": [-0.3, -0.25, -0.2, -0.15, -0.1, -0.05, 0.0, 0.05, 0.1, 0.15, 0.2, 0.25, 0.3, 0.35], \"y\": [0.1339, 0.0933, 0.0643, 0.0381, 0.0152, 0.0026, 0.0, 0.0012, 0.0111, 0.0237, 0.0395, 0.0571, 0.0756, null], \"yaxis\": \"y\", \"type\": \"scatter\", \"xaxis\": \"x\"}, {\"legendgroup\": \"chart (1, 2)\", \"name\": \"chart (1, 2) 20181008\", \"uid\": \"c6487b3a-a3e3-11e9-8075-8c859025e7f9\", \"x\": [-0.3, -0.25, -0.2, -0.15, -0.1, -0.05, 0.0, 0.05, 0.1, 0.15, 0.2, 0.25, 0.3, 0.35], \"y\": [0.1339, 0.105, 0.0737, 0.0434, 0.0207, 0.0067, 0.0, 0.0018, 0.0136, 0.0276, 0.0461, 0.0672, 0.0826, null], \"yaxis\": \"y2\", \"type\": \"scatter\", \"xaxis\": \"x2\"}, {\"legendgroup\": \"chart (1, 2)\", \"name\": \"chart (1, 2) 20181009\", \"uid\": \"c648e89a-a3e3-11e9-9458-8c859025e7f9\", \"x\": [-0.3, -0.25, -0.2, -0.15, -0.1, -0.05, 0.0, 0.05, 0.1, 0.15, 0.2, 0.25, 0.3, 0.35], \"y\": [0.1364, 0.1024, 0.072, 0.0445, 0.019, 0.006, 0.0, 0.004, 0.0164, 0.0322, 0.0522, 0.071, 0.092, null], \"yaxis\": \"y2\", \"type\": \"scatter\", \"xaxis\": \"x2\"}, {\"legendgroup\": \"chart (1, 2)\", \"name\": \"chart (1, 2) 20181010\", \"uid\": \"c6497d14-a3e3-11e9-af50-8c859025e7f9\", \"x\": [-0.3, -0.25, -0.2, -0.15, -0.1, -0.05, 0.0, 0.05, 0.1, 0.15, 0.2, 0.25, 0.3, 0.35], \"y\": [0.1436, 0.1037, 0.0772, 0.0436, 0.0207, 0.0073, 0.0, 0.0018, 0.0103, 0.0236, 0.0414, 0.0624, 0.0783, 0.0981], \"yaxis\": \"y2\", \"type\": \"scatter\", \"xaxis\": \"x2\"}, {\"legendgroup\": \"chart (1, 2)\", \"name\": \"chart (1, 2) 20181011\", \"uid\": \"c649e628-a3e3-11e9-acc3-8c859025e7f9\", \"x\": [-0.3, -0.25, -0.2, -0.15, -0.1, -0.05, 0.0, 0.05, 0.1, 0.15, 0.2, 0.25, 0.3, 0.35], \"y\": [0.1432, 0.1143, 0.0741, 0.0469, 0.0224, 0.007, 0.0, -0.0035, 0.0017, 0.0124, 0.0294, 0.0487, 0.0653, 0.0921], \"yaxis\": \"y2\", \"type\": \"scatter\", \"xaxis\": \"x2\"}, {\"legendgroup\": \"chart (1, 2)\", \"name\": \"chart (1, 2) 20181012\", \"uid\": \"c64a4618-a3e3-11e9-843d-8c859025e7f9\", \"x\": [-0.3, -0.25, -0.2, -0.15, -0.1, -0.05, 0.0, 0.05, 0.1, 0.15, 0.2, 0.25, 0.3, 0.35], \"y\": [0.1567, 0.1273, 0.0877, 0.054, 0.027, 0.0099, 0.0, -0.002, 0.0043, 0.0175, 0.038, 0.0565, 0.0846, 0.1023], \"yaxis\": \"y2\", \"type\": \"scatter\", \"xaxis\": \"x2\"}, {\"legendgroup\": \"chart (2, 1)\", \"name\": \"chart (2, 1) 20181015\", \"uid\": \"c64b3c6c-a3e3-11e9-bb11-8c859025e7f9\", \"x\": [-0.3, -0.25, -0.2, -0.15, -0.1, -0.05, 0.0, 0.05, 0.1, 0.15, 0.2, 0.25, 0.3, 0.35], \"y\": [0.1675, 0.1113, 0.0781, 0.0462, 0.0218, 0.0056, 0.0, 0.0009, 0.0119, 0.0294, 0.0508, 0.0712, 0.094, 0.1138], \"yaxis\": \"y3\", \"type\": \"scatter\", \"xaxis\": \"x3\"}, {\"legendgroup\": \"chart (2, 1)\", \"name\": \"chart (2, 1) 20181016\", \"uid\": \"c64b9e34-a3e3-11e9-9f39-8c859025e7f9\", \"x\": [-0.3, -0.25, -0.2, -0.15, -0.1, -0.05, 0.0, 0.05, 0.1, 0.15, 0.2, 0.25, 0.3, 0.35], \"y\": [0.1434, 0.1144, 0.0797, 0.0476, 0.0233, 0.0062, 0.0, 0.0039, 0.0172, 0.0378, 0.065, 0.0875, 0.1087, 0.1379], \"yaxis\": \"y3\", \"type\": \"scatter\", \"xaxis\": \"x3\"}, {\"legendgroup\": \"chart (2, 1)\", \"name\": \"chart (2, 1) 20181017\", \"uid\": \"c64c163a-a3e3-11e9-acb8-8c859025e7f9\", \"x\": [-0.3, -0.25, -0.2, -0.15, -0.1, -0.05, 0.0, 0.05, 0.1, 0.15, 0.2, 0.25, 0.3, 0.35], \"y\": [0.1733, 0.1221, 0.0835, 0.0528, 0.0246, 0.0086, 0.0, 0.004, 0.0191, 0.0412, 0.0673, 0.0937, 0.117, 0.1486], \"yaxis\": \"y3\", \"type\": \"scatter\", \"xaxis\": \"x3\"}, {\"legendgroup\": \"chart (2, 1)\", \"name\": \"chart (2, 1) 20181018\", \"uid\": \"c64c7c3a-a3e3-11e9-a5e1-8c859025e7f9\", \"x\": [-0.3, -0.25, -0.2, -0.15, -0.1, -0.05, 0.0, 0.05, 0.1, 0.15, 0.2, 0.25, 0.3, 0.35], \"y\": [0.1469, 0.1215, null, 0.0504, 0.0242, 0.007, 0.0, -0.0028, 0.0086, 0.0283, null, 0.0865, 0.112, 0.1335], \"yaxis\": \"y3\", \"type\": \"scatter\", \"xaxis\": \"x3\"}, {\"legendgroup\": \"chart (2, 1)\", \"name\": \"chart (2, 1) 20181019\", \"uid\": \"c64cdd10-a3e3-11e9-b952-8c859025e7f9\", \"x\": [-0.3, -0.25, -0.2, -0.15, -0.1, -0.05, 0.0, 0.05, 0.1, 0.15, 0.2, 0.25, 0.3, 0.35], \"y\": [0.1559, 0.1122, 0.0783, 0.0485, 0.0214, 0.0053, 0.0, -0.0023, 0.0082, 0.0316, 0.055, 0.0801, 0.111, 0.143], \"yaxis\": \"y3\", \"type\": \"scatter\", \"xaxis\": \"x3\"}, {\"legendgroup\": \"chart (2, 2)\", \"name\": \"chart (2, 2) 20181022\", \"uid\": \"c64dcfa4-a3e3-11e9-b207-8c859025e7f9\", \"x\": [-0.3, -0.25, -0.2, -0.15, -0.1, -0.05, 0.0, 0.05, 0.1, 0.15, 0.2, 0.25, 0.3, 0.35], \"y\": [0.1769, 0.1401, 0.0954, 0.0574, 0.0266, 0.0059, 0.0, 0.0026, 0.0172, 0.0402, 0.0678, 0.0996, 0.1281, 0.1592], \"yaxis\": \"y4\", \"type\": \"scatter\", \"xaxis\": \"x4\"}, {\"legendgroup\": \"chart (2, 2)\", \"name\": \"chart (2, 2) 20181023\", \"uid\": \"c64e3e3a-a3e3-11e9-a913-8c859025e7f9\", \"x\": [-0.3, -0.25, -0.2, -0.15, -0.1, -0.05, 0.0, 0.05, 0.1, 0.15, 0.2, 0.25, 0.3, 0.35], \"y\": [0.229, 0.1751, 0.1225, 0.0716, 0.0368, 0.0145, 0.0, 0.0028, 0.0145, 0.0349, 0.0658, 0.0956, 0.1271, 0.1458], \"yaxis\": \"y4\", \"type\": \"scatter\", \"xaxis\": \"x4\"}, {\"legendgroup\": \"chart (2, 2)\", \"name\": \"chart (2, 2) 20181024\", \"uid\": \"c64eae10-a3e3-11e9-ae4c-8c859025e7f9\", \"x\": [-0.3, -0.25, -0.2, -0.15, -0.1, -0.05, 0.0, 0.05, 0.1, 0.15, 0.2, 0.25, 0.3, 0.35], \"y\": [0.2136, 0.1699, 0.1223, 0.0786, 0.041, 0.0167, 0.0, 0.0028, 0.012, 0.034, 0.0606, 0.0902, 0.123, 0.1538], \"yaxis\": \"y4\", \"type\": \"scatter\", \"xaxis\": \"x4\"}, {\"legendgroup\": \"chart (2, 2)\", \"name\": \"chart (2, 2) 20181025\", \"uid\": \"c64f0e9e-a3e3-11e9-8087-8c859025e7f9\", \"x\": [-0.3, -0.25, -0.2, -0.15, -0.1, -0.05, 0.0, 0.05, 0.1, 0.15, 0.2, 0.25, 0.3, 0.35], \"y\": [0.2229, 0.1621, 0.1184, 0.0738, 0.034, 0.0099, 0.0, -0.0035, 0.0095, 0.0316, 0.057, 0.0808, 0.1171, 0.1433], \"yaxis\": \"y4\", \"type\": \"scatter\", \"xaxis\": \"x4\"}, {\"legendgroup\": \"chart (2, 2)\", \"name\": \"chart (2, 2) 20181026\", \"uid\": \"c64f9906-a3e3-11e9-b788-8c859025e7f9\", \"x\": [-0.3, -0.25, -0.2, -0.15, -0.1, -0.05, 0.0, 0.05, 0.1, 0.15, 0.2, 0.25, 0.3, 0.35], \"y\": [0.2132, 0.1708, 0.1237, 0.0765, 0.0402, 0.0173, 0.0, 0.0036, 0.0156, 0.0385, 0.0684, 0.0997, 0.126, 0.1523], \"yaxis\": \"y4\", \"type\": \"scatter\", \"xaxis\": \"x4\"}], {\"annotations\": [{\"font\": {\"size\": 16}, \"showarrow\": false, \"text\": \"CBF19 20181001 - 20181005\", \"x\": 0.2275, \"xanchor\": \"center\", \"xref\": \"paper\", \"y\": 1.0, \"yanchor\": \"bottom\", \"yref\": \"paper\"}, {\"font\": {\"size\": 16}, \"showarrow\": false, \"text\": \"CBF19 20181008 - 20181012\", \"x\": 0.7725, \"xanchor\": \"center\", \"xref\": \"paper\", \"y\": 1.0, \"yanchor\": \"bottom\", \"yref\": \"paper\"}, {\"font\": {\"size\": 16}, \"showarrow\": false, \"text\": \"CBF19 20181015 - 20181019\", \"x\": 0.2275, \"xanchor\": \"center\", \"xref\": \"paper\", \"y\": 0.445, \"yanchor\": \"bottom\", \"yref\": \"paper\"}, {\"font\": {\"size\": 16}, \"showarrow\": false, \"text\": \"CBF19 20181022 - 20181026\", \"x\": 0.7725, \"xanchor\": \"center\", \"xref\": \"paper\", \"y\": 0.445, \"yanchor\": \"bottom\", \"yref\": \"paper\"}], \"xaxis\": {\"anchor\": \"y\", \"domain\": [0.0, 0.455], \"tickangle\": 45, \"ticktext\": [-0.3, -0.25, -0.2, -0.15, -0.1, -0.05, 0.0, 0.05, 0.1, 0.15, 0.2, 0.25, 0.3, 0.35], \"tickvals\": [-0.3, -0.25, -0.2, -0.15, -0.1, -0.05, 0.0, 0.05, 0.1, 0.15, 0.2, 0.25, 0.3, 0.35], \"type\": \"category\"}, \"yaxis\": {\"anchor\": \"x\", \"domain\": [0.555, 1.0], \"title\": \"vol skew\"}, \"xaxis2\": {\"anchor\": \"y2\", \"domain\": [0.545, 1.0], \"tickangle\": 45, \"ticktext\": [-0.3, -0.25, -0.2, -0.15, -0.1, -0.05, 0.0, 0.05, 0.1, 0.15, 0.2, 0.25, 0.3, 0.35], \"tickvals\": [-0.3, -0.25, -0.2, -0.15, -0.1, -0.05, 0.0, 0.05, 0.1, 0.15, 0.2, 0.25, 0.3, 0.35], \"type\": \"category\"}, \"yaxis2\": {\"anchor\": \"x2\", \"domain\": [0.555, 1.0], \"title\": \"vol skew\"}, \"xaxis3\": {\"anchor\": \"y3\", \"domain\": [0.0, 0.455], \"tickangle\": 45, \"ticktext\": [-0.3, -0.25, -0.2, -0.15, -0.1, -0.05, 0.0, 0.05, 0.1, 0.15, 0.2, 0.25, 0.3, 0.35], \"tickvals\": [-0.3, -0.25, -0.2, -0.15, -0.1, -0.05, 0.0, 0.05, 0.1, 0.15, 0.2, 0.25, 0.3, 0.35], \"type\": \"category\"}, \"yaxis3\": {\"anchor\": \"x3\", \"domain\": [0.0, 0.445], \"title\": \"vol skew\"}, \"xaxis4\": {\"anchor\": \"y4\", \"domain\": [0.545, 1.0], \"tickangle\": 45, \"ticktext\": [-0.3, -0.25, -0.2, -0.15, -0.1, -0.05, 0.0, 0.05, 0.1, 0.15, 0.2, 0.25, 0.3, 0.35], \"tickvals\": [-0.3, -0.25, -0.2, -0.15, -0.1, -0.05, 0.0, 0.05, 0.1, 0.15, 0.2, 0.25, 0.3, 0.35], \"type\": \"category\"}, \"yaxis4\": {\"anchor\": \"x4\", \"domain\": [0.0, 0.445], \"title\": \"vol skew\"}, \"font\": {\"family\": \"Open Sans, sans-serif\"}, \"margin\": {\"b\": 55, \"l\": 45, \"r\": 15, \"t\": 50}, \"title\": \"Skew plots<br>\", \"showlegend\": true, \"hovermode\": \"x\", \"autosize\": true, \"width\": 900, \"height\": 800, \"plot_bgcolor\": \"#EFECEA\", \"bargap\": 0.05}, {\"showLink\": true, \"linkText\": \"Export to plot.ly\"})});</script>"
      ],
      "text/vnd.plotly.v1+html": [
       "<div id=\"b7c6ba05-15d9-43c7-b35d-fe98b4d070ee\" style=\"height: 800px; width: 900px;\" class=\"plotly-graph-div\"></div><script type=\"text/javascript\">require([\"plotly\"], function(Plotly) { window.PLOTLYENV=window.PLOTLYENV || {};window.PLOTLYENV.BASE_URL=\"https://plot.ly\";Plotly.newPlot(\"b7c6ba05-15d9-43c7-b35d-fe98b4d070ee\", [{\"legendgroup\": \"chart (1, 1)\", \"name\": \"chart (1, 1) 20181001\", \"uid\": \"c645d768-a3e3-11e9-bff9-8c859025e7f9\", \"x\": [-0.3, -0.25, -0.2, -0.15, -0.1, -0.05, 0.0, 0.05, 0.1, 0.15, 0.2, 0.25, 0.3, 0.35], \"y\": [0.1279, 0.0938, 0.0621, 0.0371, 0.016, 0.0059, 0.0, 0.0024, 0.0103, 0.0228, 0.0396, 0.0587, 0.0774, null], \"yaxis\": \"y\", \"type\": \"scatter\", \"xaxis\": \"x\"}, {\"legendgroup\": \"chart (1, 1)\", \"name\": \"chart (1, 1) 20181002\", \"uid\": \"c6464770-a3e3-11e9-973f-8c859025e7f9\", \"x\": [-0.3, -0.25, -0.2, -0.15, -0.1, -0.05, 0.0, 0.05, 0.1, 0.15, 0.2, 0.25, 0.3, 0.35], \"y\": [0.1331, 0.0989, 0.0659, 0.0382, 0.0171, 0.0044, 0.0, 0.0005, 0.0092, 0.0235, 0.0418, 0.0601, 0.079, null], \"yaxis\": \"y\", \"type\": \"scatter\", \"xaxis\": \"x\"}, {\"legendgroup\": \"chart (1, 1)\", \"name\": \"chart (1, 1) 20181003\", \"uid\": \"c646a80a-a3e3-11e9-b5ca-8c859025e7f9\", \"x\": [-0.3, -0.25, -0.2, -0.15, -0.1, -0.05, 0.0, 0.05, 0.1, 0.15, 0.2, 0.25, 0.3, 0.35], \"y\": [0.1359, 0.0894, 0.0598, 0.0339, 0.0146, 0.0017, 0.0, 0.0023, 0.0121, 0.0274, 0.0471, 0.0656, 0.0864, null], \"yaxis\": \"y\", \"type\": \"scatter\", \"xaxis\": \"x\"}, {\"legendgroup\": \"chart (1, 1)\", \"name\": \"chart (1, 1) 20181004\", \"uid\": \"c6471e48-a3e3-11e9-b34d-8c859025e7f9\", \"x\": [-0.3, -0.25, -0.2, -0.15, -0.1, -0.05, 0.0, 0.05, 0.1, 0.15, 0.2, 0.25, 0.3, 0.35], \"y\": [0.1328, 0.1058, 0.0726, 0.0425, 0.022, 0.0071, 0.0, 0.0035, 0.0123, 0.0242, 0.0398, 0.0593, 0.076, null], \"yaxis\": \"y\", \"type\": \"scatter\", \"xaxis\": \"x\"}, {\"legendgroup\": \"chart (1, 1)\", \"name\": \"chart (1, 1) 20181005\", \"uid\": \"c64783a6-a3e3-11e9-afbb-8c859025e7f9\", \"x\": [-0.3, -0.25, -0.2, -0.15, -0.1, -0.05, 0.0, 0.05, 0.1, 0.15, 0.2, 0.25, 0.3, 0.35], \"y\": [0.1339, 0.0933, 0.0643, 0.0381, 0.0152, 0.0026, 0.0, 0.0012, 0.0111, 0.0237, 0.0395, 0.0571, 0.0756, null], \"yaxis\": \"y\", \"type\": \"scatter\", \"xaxis\": \"x\"}, {\"legendgroup\": \"chart (1, 2)\", \"name\": \"chart (1, 2) 20181008\", \"uid\": \"c6487b3a-a3e3-11e9-8075-8c859025e7f9\", \"x\": [-0.3, -0.25, -0.2, -0.15, -0.1, -0.05, 0.0, 0.05, 0.1, 0.15, 0.2, 0.25, 0.3, 0.35], \"y\": [0.1339, 0.105, 0.0737, 0.0434, 0.0207, 0.0067, 0.0, 0.0018, 0.0136, 0.0276, 0.0461, 0.0672, 0.0826, null], \"yaxis\": \"y2\", \"type\": \"scatter\", \"xaxis\": \"x2\"}, {\"legendgroup\": \"chart (1, 2)\", \"name\": \"chart (1, 2) 20181009\", \"uid\": \"c648e89a-a3e3-11e9-9458-8c859025e7f9\", \"x\": [-0.3, -0.25, -0.2, -0.15, -0.1, -0.05, 0.0, 0.05, 0.1, 0.15, 0.2, 0.25, 0.3, 0.35], \"y\": [0.1364, 0.1024, 0.072, 0.0445, 0.019, 0.006, 0.0, 0.004, 0.0164, 0.0322, 0.0522, 0.071, 0.092, null], \"yaxis\": \"y2\", \"type\": \"scatter\", \"xaxis\": \"x2\"}, {\"legendgroup\": \"chart (1, 2)\", \"name\": \"chart (1, 2) 20181010\", \"uid\": \"c6497d14-a3e3-11e9-af50-8c859025e7f9\", \"x\": [-0.3, -0.25, -0.2, -0.15, -0.1, -0.05, 0.0, 0.05, 0.1, 0.15, 0.2, 0.25, 0.3, 0.35], \"y\": [0.1436, 0.1037, 0.0772, 0.0436, 0.0207, 0.0073, 0.0, 0.0018, 0.0103, 0.0236, 0.0414, 0.0624, 0.0783, 0.0981], \"yaxis\": \"y2\", \"type\": \"scatter\", \"xaxis\": \"x2\"}, {\"legendgroup\": \"chart (1, 2)\", \"name\": \"chart (1, 2) 20181011\", \"uid\": \"c649e628-a3e3-11e9-acc3-8c859025e7f9\", \"x\": [-0.3, -0.25, -0.2, -0.15, -0.1, -0.05, 0.0, 0.05, 0.1, 0.15, 0.2, 0.25, 0.3, 0.35], \"y\": [0.1432, 0.1143, 0.0741, 0.0469, 0.0224, 0.007, 0.0, -0.0035, 0.0017, 0.0124, 0.0294, 0.0487, 0.0653, 0.0921], \"yaxis\": \"y2\", \"type\": \"scatter\", \"xaxis\": \"x2\"}, {\"legendgroup\": \"chart (1, 2)\", \"name\": \"chart (1, 2) 20181012\", \"uid\": \"c64a4618-a3e3-11e9-843d-8c859025e7f9\", \"x\": [-0.3, -0.25, -0.2, -0.15, -0.1, -0.05, 0.0, 0.05, 0.1, 0.15, 0.2, 0.25, 0.3, 0.35], \"y\": [0.1567, 0.1273, 0.0877, 0.054, 0.027, 0.0099, 0.0, -0.002, 0.0043, 0.0175, 0.038, 0.0565, 0.0846, 0.1023], \"yaxis\": \"y2\", \"type\": \"scatter\", \"xaxis\": \"x2\"}, {\"legendgroup\": \"chart (2, 1)\", \"name\": \"chart (2, 1) 20181015\", \"uid\": \"c64b3c6c-a3e3-11e9-bb11-8c859025e7f9\", \"x\": [-0.3, -0.25, -0.2, -0.15, -0.1, -0.05, 0.0, 0.05, 0.1, 0.15, 0.2, 0.25, 0.3, 0.35], \"y\": [0.1675, 0.1113, 0.0781, 0.0462, 0.0218, 0.0056, 0.0, 0.0009, 0.0119, 0.0294, 0.0508, 0.0712, 0.094, 0.1138], \"yaxis\": \"y3\", \"type\": \"scatter\", \"xaxis\": \"x3\"}, {\"legendgroup\": \"chart (2, 1)\", \"name\": \"chart (2, 1) 20181016\", \"uid\": \"c64b9e34-a3e3-11e9-9f39-8c859025e7f9\", \"x\": [-0.3, -0.25, -0.2, -0.15, -0.1, -0.05, 0.0, 0.05, 0.1, 0.15, 0.2, 0.25, 0.3, 0.35], \"y\": [0.1434, 0.1144, 0.0797, 0.0476, 0.0233, 0.0062, 0.0, 0.0039, 0.0172, 0.0378, 0.065, 0.0875, 0.1087, 0.1379], \"yaxis\": \"y3\", \"type\": \"scatter\", \"xaxis\": \"x3\"}, {\"legendgroup\": \"chart (2, 1)\", \"name\": \"chart (2, 1) 20181017\", \"uid\": \"c64c163a-a3e3-11e9-acb8-8c859025e7f9\", \"x\": [-0.3, -0.25, -0.2, -0.15, -0.1, -0.05, 0.0, 0.05, 0.1, 0.15, 0.2, 0.25, 0.3, 0.35], \"y\": [0.1733, 0.1221, 0.0835, 0.0528, 0.0246, 0.0086, 0.0, 0.004, 0.0191, 0.0412, 0.0673, 0.0937, 0.117, 0.1486], \"yaxis\": \"y3\", \"type\": \"scatter\", \"xaxis\": \"x3\"}, {\"legendgroup\": \"chart (2, 1)\", \"name\": \"chart (2, 1) 20181018\", \"uid\": \"c64c7c3a-a3e3-11e9-a5e1-8c859025e7f9\", \"x\": [-0.3, -0.25, -0.2, -0.15, -0.1, -0.05, 0.0, 0.05, 0.1, 0.15, 0.2, 0.25, 0.3, 0.35], \"y\": [0.1469, 0.1215, null, 0.0504, 0.0242, 0.007, 0.0, -0.0028, 0.0086, 0.0283, null, 0.0865, 0.112, 0.1335], \"yaxis\": \"y3\", \"type\": \"scatter\", \"xaxis\": \"x3\"}, {\"legendgroup\": \"chart (2, 1)\", \"name\": \"chart (2, 1) 20181019\", \"uid\": \"c64cdd10-a3e3-11e9-b952-8c859025e7f9\", \"x\": [-0.3, -0.25, -0.2, -0.15, -0.1, -0.05, 0.0, 0.05, 0.1, 0.15, 0.2, 0.25, 0.3, 0.35], \"y\": [0.1559, 0.1122, 0.0783, 0.0485, 0.0214, 0.0053, 0.0, -0.0023, 0.0082, 0.0316, 0.055, 0.0801, 0.111, 0.143], \"yaxis\": \"y3\", \"type\": \"scatter\", \"xaxis\": \"x3\"}, {\"legendgroup\": \"chart (2, 2)\", \"name\": \"chart (2, 2) 20181022\", \"uid\": \"c64dcfa4-a3e3-11e9-b207-8c859025e7f9\", \"x\": [-0.3, -0.25, -0.2, -0.15, -0.1, -0.05, 0.0, 0.05, 0.1, 0.15, 0.2, 0.25, 0.3, 0.35], \"y\": [0.1769, 0.1401, 0.0954, 0.0574, 0.0266, 0.0059, 0.0, 0.0026, 0.0172, 0.0402, 0.0678, 0.0996, 0.1281, 0.1592], \"yaxis\": \"y4\", \"type\": \"scatter\", \"xaxis\": \"x4\"}, {\"legendgroup\": \"chart (2, 2)\", \"name\": \"chart (2, 2) 20181023\", \"uid\": \"c64e3e3a-a3e3-11e9-a913-8c859025e7f9\", \"x\": [-0.3, -0.25, -0.2, -0.15, -0.1, -0.05, 0.0, 0.05, 0.1, 0.15, 0.2, 0.25, 0.3, 0.35], \"y\": [0.229, 0.1751, 0.1225, 0.0716, 0.0368, 0.0145, 0.0, 0.0028, 0.0145, 0.0349, 0.0658, 0.0956, 0.1271, 0.1458], \"yaxis\": \"y4\", \"type\": \"scatter\", \"xaxis\": \"x4\"}, {\"legendgroup\": \"chart (2, 2)\", \"name\": \"chart (2, 2) 20181024\", \"uid\": \"c64eae10-a3e3-11e9-ae4c-8c859025e7f9\", \"x\": [-0.3, -0.25, -0.2, -0.15, -0.1, -0.05, 0.0, 0.05, 0.1, 0.15, 0.2, 0.25, 0.3, 0.35], \"y\": [0.2136, 0.1699, 0.1223, 0.0786, 0.041, 0.0167, 0.0, 0.0028, 0.012, 0.034, 0.0606, 0.0902, 0.123, 0.1538], \"yaxis\": \"y4\", \"type\": \"scatter\", \"xaxis\": \"x4\"}, {\"legendgroup\": \"chart (2, 2)\", \"name\": \"chart (2, 2) 20181025\", \"uid\": \"c64f0e9e-a3e3-11e9-8087-8c859025e7f9\", \"x\": [-0.3, -0.25, -0.2, -0.15, -0.1, -0.05, 0.0, 0.05, 0.1, 0.15, 0.2, 0.25, 0.3, 0.35], \"y\": [0.2229, 0.1621, 0.1184, 0.0738, 0.034, 0.0099, 0.0, -0.0035, 0.0095, 0.0316, 0.057, 0.0808, 0.1171, 0.1433], \"yaxis\": \"y4\", \"type\": \"scatter\", \"xaxis\": \"x4\"}, {\"legendgroup\": \"chart (2, 2)\", \"name\": \"chart (2, 2) 20181026\", \"uid\": \"c64f9906-a3e3-11e9-b788-8c859025e7f9\", \"x\": [-0.3, -0.25, -0.2, -0.15, -0.1, -0.05, 0.0, 0.05, 0.1, 0.15, 0.2, 0.25, 0.3, 0.35], \"y\": [0.2132, 0.1708, 0.1237, 0.0765, 0.0402, 0.0173, 0.0, 0.0036, 0.0156, 0.0385, 0.0684, 0.0997, 0.126, 0.1523], \"yaxis\": \"y4\", \"type\": \"scatter\", \"xaxis\": \"x4\"}], {\"annotations\": [{\"font\": {\"size\": 16}, \"showarrow\": false, \"text\": \"CBF19 20181001 - 20181005\", \"x\": 0.2275, \"xanchor\": \"center\", \"xref\": \"paper\", \"y\": 1.0, \"yanchor\": \"bottom\", \"yref\": \"paper\"}, {\"font\": {\"size\": 16}, \"showarrow\": false, \"text\": \"CBF19 20181008 - 20181012\", \"x\": 0.7725, \"xanchor\": \"center\", \"xref\": \"paper\", \"y\": 1.0, \"yanchor\": \"bottom\", \"yref\": \"paper\"}, {\"font\": {\"size\": 16}, \"showarrow\": false, \"text\": \"CBF19 20181015 - 20181019\", \"x\": 0.2275, \"xanchor\": \"center\", \"xref\": \"paper\", \"y\": 0.445, \"yanchor\": \"bottom\", \"yref\": \"paper\"}, {\"font\": {\"size\": 16}, \"showarrow\": false, \"text\": \"CBF19 20181022 - 20181026\", \"x\": 0.7725, \"xanchor\": \"center\", \"xref\": \"paper\", \"y\": 0.445, \"yanchor\": \"bottom\", \"yref\": \"paper\"}], \"xaxis\": {\"anchor\": \"y\", \"domain\": [0.0, 0.455], \"tickangle\": 45, \"ticktext\": [-0.3, -0.25, -0.2, -0.15, -0.1, -0.05, 0.0, 0.05, 0.1, 0.15, 0.2, 0.25, 0.3, 0.35], \"tickvals\": [-0.3, -0.25, -0.2, -0.15, -0.1, -0.05, 0.0, 0.05, 0.1, 0.15, 0.2, 0.25, 0.3, 0.35], \"type\": \"category\"}, \"yaxis\": {\"anchor\": \"x\", \"domain\": [0.555, 1.0], \"title\": \"vol skew\"}, \"xaxis2\": {\"anchor\": \"y2\", \"domain\": [0.545, 1.0], \"tickangle\": 45, \"ticktext\": [-0.3, -0.25, -0.2, -0.15, -0.1, -0.05, 0.0, 0.05, 0.1, 0.15, 0.2, 0.25, 0.3, 0.35], \"tickvals\": [-0.3, -0.25, -0.2, -0.15, -0.1, -0.05, 0.0, 0.05, 0.1, 0.15, 0.2, 0.25, 0.3, 0.35], \"type\": \"category\"}, \"yaxis2\": {\"anchor\": \"x2\", \"domain\": [0.555, 1.0], \"title\": \"vol skew\"}, \"xaxis3\": {\"anchor\": \"y3\", \"domain\": [0.0, 0.455], \"tickangle\": 45, \"ticktext\": [-0.3, -0.25, -0.2, -0.15, -0.1, -0.05, 0.0, 0.05, 0.1, 0.15, 0.2, 0.25, 0.3, 0.35], \"tickvals\": [-0.3, -0.25, -0.2, -0.15, -0.1, -0.05, 0.0, 0.05, 0.1, 0.15, 0.2, 0.25, 0.3, 0.35], \"type\": \"category\"}, \"yaxis3\": {\"anchor\": \"x3\", \"domain\": [0.0, 0.445], \"title\": \"vol skew\"}, \"xaxis4\": {\"anchor\": \"y4\", \"domain\": [0.545, 1.0], \"tickangle\": 45, \"ticktext\": [-0.3, -0.25, -0.2, -0.15, -0.1, -0.05, 0.0, 0.05, 0.1, 0.15, 0.2, 0.25, 0.3, 0.35], \"tickvals\": [-0.3, -0.25, -0.2, -0.15, -0.1, -0.05, 0.0, 0.05, 0.1, 0.15, 0.2, 0.25, 0.3, 0.35], \"type\": \"category\"}, \"yaxis4\": {\"anchor\": \"x4\", \"domain\": [0.0, 0.445], \"title\": \"vol skew\"}, \"font\": {\"family\": \"Open Sans, sans-serif\"}, \"margin\": {\"b\": 55, \"l\": 45, \"r\": 15, \"t\": 50}, \"title\": \"Skew plots<br>\", \"showlegend\": true, \"hovermode\": \"x\", \"autosize\": true, \"width\": 900, \"height\": 800, \"plot_bgcolor\": \"#EFECEA\", \"bargap\": 0.05}, {\"showLink\": true, \"linkText\": \"Export to plot.ly\"})});</script>"
      ]
     },
     "metadata": {},
     "output_type": "display_data"
    },
    {
     "data": {
      "application/vnd.plotly.v1+json": {
       "data": [
        {
         "legendgroup": "chart (1, 1)",
         "name": "chart (1, 1) 20181029",
         "type": "scatter",
         "uid": "c658ef10-a3e3-11e9-a845-8c859025e7f9",
         "x": [
          -0.3,
          -0.25,
          -0.2,
          -0.15,
          -0.1,
          -0.05,
          0,
          0.05,
          0.1,
          0.15,
          0.2,
          0.25,
          0.3,
          0.35
         ],
         "xaxis": "x",
         "y": [
          0.2112,
          0.1595,
          0.1172,
          0.0714,
          0.0343,
          0.0092,
          0,
          -0.0011,
          0.0152,
          0.0374,
          0.0658,
          0.0961,
          0.1217,
          0.1629
         ],
         "yaxis": "y"
        },
        {
         "legendgroup": "chart (1, 1)",
         "name": "chart (1, 1) 20181030",
         "type": "scatter",
         "uid": "c6595146-a3e3-11e9-9065-8c859025e7f9",
         "x": [
          -0.3,
          -0.25,
          -0.2,
          -0.15,
          -0.1,
          -0.05,
          0,
          0.05,
          0.1,
          0.15,
          0.2,
          0.25,
          0.3,
          0.35
         ],
         "xaxis": "x",
         "y": [
          0.222,
          0.1811,
          0.1262,
          0.0803,
          0.0372,
          0.0137,
          0,
          -0.0028,
          0.0099,
          0.0304,
          0.0564,
          0.0799,
          0.1131,
          0.1302
         ],
         "yaxis": "y"
        },
        {
         "legendgroup": "chart (1, 1)",
         "name": "chart (1, 1) 20181031",
         "type": "scatter",
         "uid": "c659ccb4-a3e3-11e9-85b4-8c859025e7f9",
         "x": [
          -0.3,
          -0.25,
          -0.2,
          -0.15,
          -0.1,
          -0.05,
          0,
          0.05,
          0.1,
          0.15,
          0.2,
          0.25,
          0.3,
          0.35
         ],
         "xaxis": "x",
         "y": [
          null,
          0.1845,
          0.1372,
          0.0842,
          0.0424,
          0.0162,
          0,
          -0.0014,
          0.0124,
          0.0373,
          0.0646,
          0.1003,
          0.132,
          0.1487
         ],
         "yaxis": "y"
        }
       ],
       "layout": {
        "annotations": [
         {
          "font": {
           "size": 16
          },
          "showarrow": false,
          "text": "CBF19 20181029 - 20181031",
          "x": 0.2275,
          "xanchor": "center",
          "xref": "paper",
          "y": 1,
          "yanchor": "bottom",
          "yref": "paper"
         }
        ],
        "autosize": true,
        "bargap": 0.05,
        "font": {
         "family": "Open Sans, sans-serif"
        },
        "height": 800,
        "hovermode": "x",
        "margin": {
         "b": 55,
         "l": 45,
         "r": 15,
         "t": 50
        },
        "plot_bgcolor": "#EFECEA",
        "showlegend": true,
        "title": "Skew plots<br>",
        "width": 900,
        "xaxis": {
         "anchor": "y",
         "domain": [
          0,
          0.455
         ],
         "tickangle": 45,
         "ticktext": [
          -0.3,
          -0.25,
          -0.2,
          -0.15,
          -0.1,
          -0.05,
          0,
          0.05,
          0.1,
          0.15,
          0.2,
          0.25,
          0.3,
          0.35
         ],
         "tickvals": [
          -0.3,
          -0.25,
          -0.2,
          -0.15,
          -0.1,
          -0.05,
          0,
          0.05,
          0.1,
          0.15,
          0.2,
          0.25,
          0.3,
          0.35
         ],
         "type": "category"
        },
        "xaxis2": {
         "anchor": "y2",
         "domain": [
          0.545,
          1
         ]
        },
        "xaxis3": {
         "anchor": "y3",
         "domain": [
          0,
          0.455
         ]
        },
        "xaxis4": {
         "anchor": "y4",
         "domain": [
          0.545,
          1
         ]
        },
        "yaxis": {
         "anchor": "x",
         "domain": [
          0.555,
          1
         ],
         "title": "vol skew"
        },
        "yaxis2": {
         "anchor": "x2",
         "domain": [
          0.555,
          1
         ]
        },
        "yaxis3": {
         "anchor": "x3",
         "domain": [
          0,
          0.445
         ]
        },
        "yaxis4": {
         "anchor": "x4",
         "domain": [
          0,
          0.445
         ]
        }
       }
      },
      "text/html": [
       "<div id=\"c159ccd8-b7ae-4413-8eb7-45a7bc5bde4a\" style=\"height: 800px; width: 900px;\" class=\"plotly-graph-div\"></div><script type=\"text/javascript\">require([\"plotly\"], function(Plotly) { window.PLOTLYENV=window.PLOTLYENV || {};window.PLOTLYENV.BASE_URL=\"https://plot.ly\";Plotly.newPlot(\"c159ccd8-b7ae-4413-8eb7-45a7bc5bde4a\", [{\"legendgroup\": \"chart (1, 1)\", \"name\": \"chart (1, 1) 20181029\", \"uid\": \"c658ef10-a3e3-11e9-a845-8c859025e7f9\", \"x\": [-0.3, -0.25, -0.2, -0.15, -0.1, -0.05, 0.0, 0.05, 0.1, 0.15, 0.2, 0.25, 0.3, 0.35], \"y\": [0.2112, 0.1595, 0.1172, 0.0714, 0.0343, 0.0092, 0.0, -0.0011, 0.0152, 0.0374, 0.0658, 0.0961, 0.1217, 0.1629], \"yaxis\": \"y\", \"type\": \"scatter\", \"xaxis\": \"x\"}, {\"legendgroup\": \"chart (1, 1)\", \"name\": \"chart (1, 1) 20181030\", \"uid\": \"c6595146-a3e3-11e9-9065-8c859025e7f9\", \"x\": [-0.3, -0.25, -0.2, -0.15, -0.1, -0.05, 0.0, 0.05, 0.1, 0.15, 0.2, 0.25, 0.3, 0.35], \"y\": [0.222, 0.1811, 0.1262, 0.0803, 0.0372, 0.0137, 0.0, -0.0028, 0.0099, 0.0304, 0.0564, 0.0799, 0.1131, 0.1302], \"yaxis\": \"y\", \"type\": \"scatter\", \"xaxis\": \"x\"}, {\"legendgroup\": \"chart (1, 1)\", \"name\": \"chart (1, 1) 20181031\", \"uid\": \"c659ccb4-a3e3-11e9-85b4-8c859025e7f9\", \"x\": [-0.3, -0.25, -0.2, -0.15, -0.1, -0.05, 0.0, 0.05, 0.1, 0.15, 0.2, 0.25, 0.3, 0.35], \"y\": [null, 0.1845, 0.1372, 0.0842, 0.0424, 0.0162, 0.0, -0.0014, 0.0124, 0.0373, 0.0646, 0.1003, 0.132, 0.1487], \"yaxis\": \"y\", \"type\": \"scatter\", \"xaxis\": \"x\"}], {\"annotations\": [{\"font\": {\"size\": 16}, \"showarrow\": false, \"text\": \"CBF19 20181029 - 20181031\", \"x\": 0.2275, \"xanchor\": \"center\", \"xref\": \"paper\", \"y\": 1.0, \"yanchor\": \"bottom\", \"yref\": \"paper\"}], \"xaxis\": {\"anchor\": \"y\", \"domain\": [0.0, 0.455], \"tickangle\": 45, \"ticktext\": [-0.3, -0.25, -0.2, -0.15, -0.1, -0.05, 0.0, 0.05, 0.1, 0.15, 0.2, 0.25, 0.3, 0.35], \"tickvals\": [-0.3, -0.25, -0.2, -0.15, -0.1, -0.05, 0.0, 0.05, 0.1, 0.15, 0.2, 0.25, 0.3, 0.35], \"type\": \"category\"}, \"yaxis\": {\"anchor\": \"x\", \"domain\": [0.555, 1.0], \"title\": \"vol skew\"}, \"xaxis2\": {\"anchor\": \"y2\", \"domain\": [0.545, 1.0]}, \"yaxis2\": {\"anchor\": \"x2\", \"domain\": [0.555, 1.0]}, \"xaxis3\": {\"anchor\": \"y3\", \"domain\": [0.0, 0.455]}, \"yaxis3\": {\"anchor\": \"x3\", \"domain\": [0.0, 0.445]}, \"xaxis4\": {\"anchor\": \"y4\", \"domain\": [0.545, 1.0]}, \"yaxis4\": {\"anchor\": \"x4\", \"domain\": [0.0, 0.445]}, \"font\": {\"family\": \"Open Sans, sans-serif\"}, \"margin\": {\"b\": 55, \"l\": 45, \"r\": 15, \"t\": 50}, \"title\": \"Skew plots<br>\", \"showlegend\": true, \"hovermode\": \"x\", \"autosize\": true, \"width\": 900, \"height\": 800, \"plot_bgcolor\": \"#EFECEA\", \"bargap\": 0.05}, {\"showLink\": true, \"linkText\": \"Export to plot.ly\"})});</script>"
      ],
      "text/vnd.plotly.v1+html": [
       "<div id=\"c159ccd8-b7ae-4413-8eb7-45a7bc5bde4a\" style=\"height: 800px; width: 900px;\" class=\"plotly-graph-div\"></div><script type=\"text/javascript\">require([\"plotly\"], function(Plotly) { window.PLOTLYENV=window.PLOTLYENV || {};window.PLOTLYENV.BASE_URL=\"https://plot.ly\";Plotly.newPlot(\"c159ccd8-b7ae-4413-8eb7-45a7bc5bde4a\", [{\"legendgroup\": \"chart (1, 1)\", \"name\": \"chart (1, 1) 20181029\", \"uid\": \"c658ef10-a3e3-11e9-a845-8c859025e7f9\", \"x\": [-0.3, -0.25, -0.2, -0.15, -0.1, -0.05, 0.0, 0.05, 0.1, 0.15, 0.2, 0.25, 0.3, 0.35], \"y\": [0.2112, 0.1595, 0.1172, 0.0714, 0.0343, 0.0092, 0.0, -0.0011, 0.0152, 0.0374, 0.0658, 0.0961, 0.1217, 0.1629], \"yaxis\": \"y\", \"type\": \"scatter\", \"xaxis\": \"x\"}, {\"legendgroup\": \"chart (1, 1)\", \"name\": \"chart (1, 1) 20181030\", \"uid\": \"c6595146-a3e3-11e9-9065-8c859025e7f9\", \"x\": [-0.3, -0.25, -0.2, -0.15, -0.1, -0.05, 0.0, 0.05, 0.1, 0.15, 0.2, 0.25, 0.3, 0.35], \"y\": [0.222, 0.1811, 0.1262, 0.0803, 0.0372, 0.0137, 0.0, -0.0028, 0.0099, 0.0304, 0.0564, 0.0799, 0.1131, 0.1302], \"yaxis\": \"y\", \"type\": \"scatter\", \"xaxis\": \"x\"}, {\"legendgroup\": \"chart (1, 1)\", \"name\": \"chart (1, 1) 20181031\", \"uid\": \"c659ccb4-a3e3-11e9-85b4-8c859025e7f9\", \"x\": [-0.3, -0.25, -0.2, -0.15, -0.1, -0.05, 0.0, 0.05, 0.1, 0.15, 0.2, 0.25, 0.3, 0.35], \"y\": [null, 0.1845, 0.1372, 0.0842, 0.0424, 0.0162, 0.0, -0.0014, 0.0124, 0.0373, 0.0646, 0.1003, 0.132, 0.1487], \"yaxis\": \"y\", \"type\": \"scatter\", \"xaxis\": \"x\"}], {\"annotations\": [{\"font\": {\"size\": 16}, \"showarrow\": false, \"text\": \"CBF19 20181029 - 20181031\", \"x\": 0.2275, \"xanchor\": \"center\", \"xref\": \"paper\", \"y\": 1.0, \"yanchor\": \"bottom\", \"yref\": \"paper\"}], \"xaxis\": {\"anchor\": \"y\", \"domain\": [0.0, 0.455], \"tickangle\": 45, \"ticktext\": [-0.3, -0.25, -0.2, -0.15, -0.1, -0.05, 0.0, 0.05, 0.1, 0.15, 0.2, 0.25, 0.3, 0.35], \"tickvals\": [-0.3, -0.25, -0.2, -0.15, -0.1, -0.05, 0.0, 0.05, 0.1, 0.15, 0.2, 0.25, 0.3, 0.35], \"type\": \"category\"}, \"yaxis\": {\"anchor\": \"x\", \"domain\": [0.555, 1.0], \"title\": \"vol skew\"}, \"xaxis2\": {\"anchor\": \"y2\", \"domain\": [0.545, 1.0]}, \"yaxis2\": {\"anchor\": \"x2\", \"domain\": [0.555, 1.0]}, \"xaxis3\": {\"anchor\": \"y3\", \"domain\": [0.0, 0.455]}, \"yaxis3\": {\"anchor\": \"x3\", \"domain\": [0.0, 0.445]}, \"xaxis4\": {\"anchor\": \"y4\", \"domain\": [0.545, 1.0]}, \"yaxis4\": {\"anchor\": \"x4\", \"domain\": [0.0, 0.445]}, \"font\": {\"family\": \"Open Sans, sans-serif\"}, \"margin\": {\"b\": 55, \"l\": 45, \"r\": 15, \"t\": 50}, \"title\": \"Skew plots<br>\", \"showlegend\": true, \"hovermode\": \"x\", \"autosize\": true, \"width\": 900, \"height\": 800, \"plot_bgcolor\": \"#EFECEA\", \"bargap\": 0.05}, {\"showLink\": true, \"linkText\": \"Export to plot.ly\"})});</script>"
      ]
     },
     "metadata": {},
     "output_type": "display_data"
    },
    {
     "data": {
      "application/vnd.plotly.v1+json": {
       "data": [
        {
         "legendgroup": "chart (1, 1)",
         "name": "chart (1, 1) 20181101",
         "type": "scatter",
         "uid": "c6a4e0c8-a3e3-11e9-b625-8c859025e7f9",
         "x": [
          -0.3,
          -0.25,
          -0.2,
          -0.15,
          -0.1,
          -0.05,
          0,
          0.05,
          0.1,
          0.15,
          0.2,
          0.25,
          0.3,
          0.35
         ],
         "xaxis": "x",
         "y": [
          0.1552,
          0.1227,
          0.088,
          0.0569,
          0.031,
          0.0126,
          0,
          -0.0067,
          -0.0061,
          0.0041,
          0.0151,
          0.0289,
          0.0456,
          null
         ],
         "yaxis": "y"
        },
        {
         "legendgroup": "chart (1, 1)",
         "name": "chart (1, 1) 20181102",
         "type": "scatter",
         "uid": "c6a55bfa-a3e3-11e9-832d-8c859025e7f9",
         "x": [
          -0.3,
          -0.25,
          -0.2,
          -0.15,
          -0.1,
          -0.05,
          0,
          0.05,
          0.1,
          0.15,
          0.2,
          0.25,
          0.3,
          0.35
         ],
         "xaxis": "x",
         "y": [
          0.1662,
          0.1208,
          0.0863,
          0.0563,
          0.0301,
          0.0104,
          0,
          -0.009,
          -0.0097,
          -0.0042,
          0.0091,
          0.022,
          0.0438,
          null
         ],
         "yaxis": "y"
        },
        {
         "legendgroup": "chart (1, 1)",
         "name": "chart (1, 1) 20181105",
         "type": "scatter",
         "uid": "c6a5c7e8-a3e3-11e9-beff-8c859025e7f9",
         "x": [
          -0.3,
          -0.25,
          -0.2,
          -0.15,
          -0.1,
          -0.05,
          0,
          0.05,
          0.1,
          0.15,
          0.2,
          0.25,
          0.3,
          0.35
         ],
         "xaxis": "x",
         "y": [
          0.1733,
          0.1281,
          0.0888,
          0.0557,
          0.032,
          0.0134,
          0,
          -0.0054,
          -0.0005,
          0.0088,
          0.0208,
          0.037,
          null,
          null
         ],
         "yaxis": "y"
        },
        {
         "legendgroup": "chart (1, 1)",
         "name": "chart (1, 1) 20181106",
         "type": "scatter",
         "uid": "c6a656cc-a3e3-11e9-ae0e-8c859025e7f9",
         "x": [
          -0.3,
          -0.25,
          -0.2,
          -0.15,
          -0.1,
          -0.05,
          0,
          0.05,
          0.1,
          0.15,
          0.2,
          0.25,
          0.3,
          0.35
         ],
         "xaxis": "x",
         "y": [
          0.1781,
          0.1322,
          0.0965,
          0.0629,
          0.0361,
          0.0166,
          0,
          -0.0067,
          -0.0067,
          0,
          0.0082,
          0.0273,
          0.0469,
          null
         ],
         "yaxis": "y"
        },
        {
         "legendgroup": "chart (1, 1)",
         "name": "chart (1, 1) 20181107",
         "type": "scatter",
         "uid": "c6a6c1e2-a3e3-11e9-ac24-8c859025e7f9",
         "x": [
          -0.3,
          -0.25,
          -0.2,
          -0.15,
          -0.1,
          -0.05,
          0,
          0.05,
          0.1,
          0.15,
          0.2,
          0.25,
          0.3,
          0.35
         ],
         "xaxis": "x",
         "y": [
          0.1647,
          0.1298,
          0.0884,
          0.0537,
          0.0296,
          0.014,
          0,
          -0.0066,
          -0.0058,
          0.0001,
          0.0138,
          0.0389,
          0.0611,
          null
         ],
         "yaxis": "y"
        },
        {
         "legendgroup": "chart (1, 2)",
         "name": "chart (1, 2) 20181108",
         "type": "scatter",
         "uid": "c6a7c61c-a3e3-11e9-bba4-8c859025e7f9",
         "x": [
          -0.3,
          -0.25,
          -0.2,
          -0.15,
          -0.1,
          -0.05,
          0,
          0.05,
          0.1,
          0.15,
          0.2,
          0.25,
          0.3,
          0.35
         ],
         "xaxis": "x2",
         "y": [
          0.1553,
          0.1184,
          0.0819,
          0.0532,
          0.0284,
          0.01,
          0,
          -0.0091,
          -0.0092,
          -0.0043,
          0.0076,
          0.0283,
          0.0603,
          null
         ],
         "yaxis": "y2"
        },
        {
         "legendgroup": "chart (1, 2)",
         "name": "chart (1, 2) 20181109",
         "type": "scatter",
         "uid": "c6a834e4-a3e3-11e9-ac9d-8c859025e7f9",
         "x": [
          -0.3,
          -0.25,
          -0.2,
          -0.15,
          -0.1,
          -0.05,
          0,
          0.05,
          0.1,
          0.15,
          0.2,
          0.25,
          0.3,
          0.35
         ],
         "xaxis": "x2",
         "y": [
          0.1661,
          0.1205,
          0.0833,
          0.0535,
          0.0302,
          0.0123,
          0,
          -0.0134,
          -0.0191,
          -0.018,
          -0.0096,
          0.0156,
          0.0378,
          null
         ],
         "yaxis": "y2"
        },
        {
         "legendgroup": "chart (1, 2)",
         "name": "chart (1, 2) 20181112",
         "type": "scatter",
         "uid": "c6a8ab86-a3e3-11e9-b97c-8c859025e7f9",
         "x": [
          -0.3,
          -0.25,
          -0.2,
          -0.15,
          -0.1,
          -0.05,
          0,
          0.05,
          0.1,
          0.15,
          0.2,
          0.25,
          0.3,
          0.35
         ],
         "xaxis": "x2",
         "y": [
          0.164,
          0.1232,
          0.0853,
          0.0544,
          0.0293,
          0.012,
          0,
          -0.0112,
          -0.0157,
          -0.0117,
          0.0015,
          0.0301,
          0.0603,
          null
         ],
         "yaxis": "y2"
        },
        {
         "legendgroup": "chart (1, 2)",
         "name": "chart (1, 2) 20181113",
         "type": "scatter",
         "uid": "c6a91f94-a3e3-11e9-a3f7-8c859025e7f9",
         "x": [
          -0.3,
          -0.25,
          -0.2,
          -0.15,
          -0.1,
          -0.05,
          0,
          0.05,
          0.1,
          0.15,
          0.2,
          0.25,
          0.3,
          0.35
         ],
         "xaxis": "x2",
         "y": [
          0.1468,
          0.1187,
          0.0936,
          0.0689,
          0.0452,
          0.0224,
          0,
          -0.0304,
          -0.0505,
          -0.0672,
          -0.0721,
          -0.0611,
          -0.0465,
          -0.0239
         ],
         "yaxis": "y2"
        },
        {
         "legendgroup": "chart (1, 2)",
         "name": "chart (1, 2) 20181114",
         "type": "scatter",
         "uid": "c6a98928-a3e3-11e9-9359-8c859025e7f9",
         "x": [
          -0.3,
          -0.25,
          -0.2,
          -0.15,
          -0.1,
          -0.05,
          0,
          0.05,
          0.1,
          0.15,
          0.2,
          0.25,
          0.3,
          0.35
         ],
         "xaxis": "x2",
         "y": [
          0.1836,
          0.1442,
          0.1074,
          0.0754,
          0.0498,
          0.0244,
          0,
          -0.0274,
          -0.0474,
          -0.0591,
          -0.0553,
          -0.0455,
          -0.0293,
          -0.0085
         ],
         "yaxis": "y2"
        },
        {
         "legendgroup": "chart (2, 1)",
         "name": "chart (2, 1) 20181115",
         "type": "scatter",
         "uid": "c6aa8726-a3e3-11e9-bb6c-8c859025e7f9",
         "x": [
          -0.3,
          -0.25,
          -0.2,
          -0.15,
          -0.1,
          -0.05,
          0,
          0.05,
          0.1,
          0.15,
          0.2,
          0.25,
          0.3,
          0.35
         ],
         "xaxis": "x3",
         "y": [
          0.1859,
          0.136,
          0.1002,
          0.0702,
          0.0427,
          0.0216,
          0,
          -0.0268,
          -0.0424,
          -0.0461,
          -0.0343,
          -0.0109,
          0.0133,
          0.0462
         ],
         "yaxis": "y3"
        },
        {
         "legendgroup": "chart (2, 1)",
         "name": "chart (2, 1) 20181116",
         "type": "scatter",
         "uid": "c6ab147a-a3e3-11e9-8ff6-8c859025e7f9",
         "x": [
          -0.3,
          -0.25,
          -0.2,
          -0.15,
          -0.1,
          -0.05,
          0,
          0.05,
          0.1,
          0.15,
          0.2,
          0.25,
          0.3,
          0.35
         ],
         "xaxis": "x3",
         "y": [
          0.1921,
          0.1461,
          0.1039,
          0.0718,
          0.0445,
          0.0229,
          0,
          -0.0207,
          -0.0362,
          -0.0374,
          -0.0251,
          -0.0071,
          0.0267,
          0.0447
         ],
         "yaxis": "y3"
        },
        {
         "legendgroup": "chart (2, 1)",
         "name": "chart (2, 1) 20181119",
         "type": "scatter",
         "uid": "c6aba642-a3e3-11e9-ae46-8c859025e7f9",
         "x": [
          -0.3,
          -0.25,
          -0.2,
          -0.15,
          -0.1,
          -0.05,
          0,
          0.05,
          0.1,
          0.15,
          0.2,
          0.25,
          0.3,
          0.35
         ],
         "xaxis": "x3",
         "y": [
          0.2031,
          0.1546,
          0.1156,
          0.0803,
          0.0504,
          0.0298,
          0,
          -0.0223,
          -0.0401,
          -0.0431,
          -0.0309,
          -0.0008,
          0.0285,
          0.0643
         ],
         "yaxis": "y3"
        },
        {
         "legendgroup": "chart (2, 1)",
         "name": "chart (2, 1) 20181120",
         "type": "scatter",
         "uid": "c6ac17ba-a3e3-11e9-a717-8c859025e7f9",
         "x": [
          -0.3,
          -0.25,
          -0.2,
          -0.15,
          -0.1,
          -0.05,
          0,
          0.05,
          0.1,
          0.15,
          0.2,
          0.25,
          0.3,
          0.35
         ],
         "xaxis": "x3",
         "y": [
          0.1772,
          0.1373,
          0.1038,
          0.0776,
          0.0505,
          0.0234,
          0,
          -0.0274,
          -0.0489,
          -0.0634,
          -0.0656,
          -0.0567,
          -0.045,
          -0.0206
         ],
         "yaxis": "y3"
        },
        {
         "legendgroup": "chart (2, 1)",
         "name": "chart (2, 1) 20181121",
         "type": "scatter",
         "uid": "c6ac97a8-a3e3-11e9-8ea6-8c859025e7f9",
         "x": [
          -0.3,
          -0.25,
          -0.2,
          -0.15,
          -0.1,
          -0.05,
          0,
          0.05,
          0.1,
          0.15,
          0.2,
          0.25,
          0.3,
          0.35
         ],
         "xaxis": "x3",
         "y": [
          0.2152,
          0.1705,
          0.1325,
          0.098,
          0.0641,
          0.0326,
          0,
          -0.0356,
          -0.0656,
          -0.0807,
          -0.0808,
          -0.0613,
          -0.0334,
          0.004
         ],
         "yaxis": "y3"
        },
        {
         "legendgroup": "chart (2, 2)",
         "name": "chart (2, 2) 20181122",
         "type": "scatter",
         "uid": "c6ad8b4c-a3e3-11e9-bc8e-8c859025e7f9",
         "x": [
          -0.3,
          -0.25,
          -0.2,
          -0.15,
          -0.1,
          -0.05,
          0,
          0.05,
          0.1,
          0.15,
          0.2,
          0.25,
          0.3,
          0.35
         ],
         "xaxis": "x4",
         "y": [
          0.2093,
          0.1779,
          0.1395,
          0.1014,
          0.0673,
          0.0316,
          0,
          -0.0343,
          -0.0634,
          -0.0809,
          -0.0833,
          -0.0706,
          -0.0437,
          -0.0065
         ],
         "yaxis": "y4"
        },
        {
         "legendgroup": "chart (2, 2)",
         "name": "chart (2, 2) 20181123",
         "type": "scatter",
         "uid": "c6ae1e0c-a3e3-11e9-ac54-8c859025e7f9",
         "x": [
          -0.3,
          -0.25,
          -0.2,
          -0.15,
          -0.1,
          -0.05,
          0,
          0.05,
          0.1,
          0.15,
          0.2,
          0.25,
          0.3,
          0.35
         ],
         "xaxis": "x4",
         "y": [
          0.1686,
          0.1359,
          0.1021,
          0.0761,
          0.0513,
          0.0247,
          0,
          -0.025,
          -0.0486,
          -0.0664,
          -0.0809,
          -0.087,
          -0.0774,
          -0.0563
         ],
         "yaxis": "y4"
        },
        {
         "legendgroup": "chart (2, 2)",
         "name": "chart (2, 2) 20181126",
         "type": "scatter",
         "uid": "c6ae8c74-a3e3-11e9-a53b-8c859025e7f9",
         "x": [
          -0.3,
          -0.25,
          -0.2,
          -0.15,
          -0.1,
          -0.05,
          0,
          0.05,
          0.1,
          0.15,
          0.2,
          0.25,
          0.3,
          0.35
         ],
         "xaxis": "x4",
         "y": [
          0.2006,
          0.1475,
          0.109,
          0.0767,
          0.0504,
          0.0259,
          0,
          -0.0255,
          -0.0496,
          -0.0661,
          -0.0729,
          null,
          -0.0489,
          -0.0206
         ],
         "yaxis": "y4"
        },
        {
         "legendgroup": "chart (2, 2)",
         "name": "chart (2, 2) 20181127",
         "type": "scatter",
         "uid": "c6af0cc6-a3e3-11e9-8701-8c859025e7f9",
         "x": [
          -0.3,
          -0.25,
          -0.2,
          -0.15,
          -0.1,
          -0.05,
          0,
          0.05,
          0.1,
          0.15,
          0.2,
          0.25,
          0.3,
          0.35
         ],
         "xaxis": "x4",
         "y": [
          0.2102,
          0.1518,
          0.1115,
          0.0746,
          0.0445,
          0.0189,
          0,
          -0.0264,
          -0.0441,
          -0.0552,
          -0.0546,
          null,
          -0.0322,
          0.0007
         ],
         "yaxis": "y4"
        },
        {
         "legendgroup": "chart (2, 2)",
         "name": "chart (2, 2) 20181128",
         "type": "scatter",
         "uid": "c6afb7a8-a3e3-11e9-8c05-8c859025e7f9",
         "x": [
          -0.3,
          -0.25,
          -0.2,
          -0.15,
          -0.1,
          -0.05,
          0,
          0.05,
          0.1,
          0.15,
          0.2,
          0.25,
          0.3,
          0.35
         ],
         "xaxis": "x4",
         "y": [
          0.241,
          0.1807,
          0.1284,
          0.0856,
          0.0525,
          0.0287,
          0,
          -0.017,
          -0.0281,
          -0.0303,
          -0.0288,
          -0.0138,
          0.0106,
          0.0392
         ],
         "yaxis": "y4"
        }
       ],
       "layout": {
        "annotations": [
         {
          "font": {
           "size": 16
          },
          "showarrow": false,
          "text": "CBG19 20181101 - 20181107",
          "x": 0.2275,
          "xanchor": "center",
          "xref": "paper",
          "y": 1,
          "yanchor": "bottom",
          "yref": "paper"
         },
         {
          "font": {
           "size": 16
          },
          "showarrow": false,
          "text": "CBG19 20181108 - 20181114",
          "x": 0.7725,
          "xanchor": "center",
          "xref": "paper",
          "y": 1,
          "yanchor": "bottom",
          "yref": "paper"
         },
         {
          "font": {
           "size": 16
          },
          "showarrow": false,
          "text": "CBG19 20181115 - 20181121",
          "x": 0.2275,
          "xanchor": "center",
          "xref": "paper",
          "y": 0.445,
          "yanchor": "bottom",
          "yref": "paper"
         },
         {
          "font": {
           "size": 16
          },
          "showarrow": false,
          "text": "CBG19 20181122 - 20181128",
          "x": 0.7725,
          "xanchor": "center",
          "xref": "paper",
          "y": 0.445,
          "yanchor": "bottom",
          "yref": "paper"
         }
        ],
        "autosize": true,
        "bargap": 0.05,
        "font": {
         "family": "Open Sans, sans-serif"
        },
        "height": 800,
        "hovermode": "x",
        "margin": {
         "b": 55,
         "l": 45,
         "r": 15,
         "t": 50
        },
        "plot_bgcolor": "#EFECEA",
        "showlegend": true,
        "title": "Skew plots<br>",
        "width": 900,
        "xaxis": {
         "anchor": "y",
         "domain": [
          0,
          0.455
         ],
         "tickangle": 45,
         "ticktext": [
          -0.3,
          -0.25,
          -0.2,
          -0.15,
          -0.1,
          -0.05,
          0,
          0.05,
          0.1,
          0.15,
          0.2,
          0.25,
          0.3,
          0.35
         ],
         "tickvals": [
          -0.3,
          -0.25,
          -0.2,
          -0.15,
          -0.1,
          -0.05,
          0,
          0.05,
          0.1,
          0.15,
          0.2,
          0.25,
          0.3,
          0.35
         ],
         "type": "category"
        },
        "xaxis2": {
         "anchor": "y2",
         "domain": [
          0.545,
          1
         ],
         "tickangle": 45,
         "ticktext": [
          -0.3,
          -0.25,
          -0.2,
          -0.15,
          -0.1,
          -0.05,
          0,
          0.05,
          0.1,
          0.15,
          0.2,
          0.25,
          0.3,
          0.35
         ],
         "tickvals": [
          -0.3,
          -0.25,
          -0.2,
          -0.15,
          -0.1,
          -0.05,
          0,
          0.05,
          0.1,
          0.15,
          0.2,
          0.25,
          0.3,
          0.35
         ],
         "type": "category"
        },
        "xaxis3": {
         "anchor": "y3",
         "domain": [
          0,
          0.455
         ],
         "tickangle": 45,
         "ticktext": [
          -0.3,
          -0.25,
          -0.2,
          -0.15,
          -0.1,
          -0.05,
          0,
          0.05,
          0.1,
          0.15,
          0.2,
          0.25,
          0.3,
          0.35
         ],
         "tickvals": [
          -0.3,
          -0.25,
          -0.2,
          -0.15,
          -0.1,
          -0.05,
          0,
          0.05,
          0.1,
          0.15,
          0.2,
          0.25,
          0.3,
          0.35
         ],
         "type": "category"
        },
        "xaxis4": {
         "anchor": "y4",
         "domain": [
          0.545,
          1
         ],
         "tickangle": 45,
         "ticktext": [
          -0.3,
          -0.25,
          -0.2,
          -0.15,
          -0.1,
          -0.05,
          0,
          0.05,
          0.1,
          0.15,
          0.2,
          0.25,
          0.3,
          0.35
         ],
         "tickvals": [
          -0.3,
          -0.25,
          -0.2,
          -0.15,
          -0.1,
          -0.05,
          0,
          0.05,
          0.1,
          0.15,
          0.2,
          0.25,
          0.3,
          0.35
         ],
         "type": "category"
        },
        "yaxis": {
         "anchor": "x",
         "domain": [
          0.555,
          1
         ],
         "title": "vol skew"
        },
        "yaxis2": {
         "anchor": "x2",
         "domain": [
          0.555,
          1
         ],
         "title": "vol skew"
        },
        "yaxis3": {
         "anchor": "x3",
         "domain": [
          0,
          0.445
         ],
         "title": "vol skew"
        },
        "yaxis4": {
         "anchor": "x4",
         "domain": [
          0,
          0.445
         ],
         "title": "vol skew"
        }
       }
      },
      "text/html": [
       "<div id=\"0cc99cea-5ddc-4a0d-a41f-66d2bbce2e86\" style=\"height: 800px; width: 900px;\" class=\"plotly-graph-div\"></div><script type=\"text/javascript\">require([\"plotly\"], function(Plotly) { window.PLOTLYENV=window.PLOTLYENV || {};window.PLOTLYENV.BASE_URL=\"https://plot.ly\";Plotly.newPlot(\"0cc99cea-5ddc-4a0d-a41f-66d2bbce2e86\", [{\"legendgroup\": \"chart (1, 1)\", \"name\": \"chart (1, 1) 20181101\", \"uid\": \"c6a4e0c8-a3e3-11e9-b625-8c859025e7f9\", \"x\": [-0.3, -0.25, -0.2, -0.15, -0.1, -0.05, 0.0, 0.05, 0.1, 0.15, 0.2, 0.25, 0.3, 0.35], \"y\": [0.1552, 0.1227, 0.088, 0.0569, 0.031, 0.0126, 0.0, -0.0067, -0.0061, 0.0041, 0.0151, 0.0289, 0.0456, null], \"yaxis\": \"y\", \"type\": \"scatter\", \"xaxis\": \"x\"}, {\"legendgroup\": \"chart (1, 1)\", \"name\": \"chart (1, 1) 20181102\", \"uid\": \"c6a55bfa-a3e3-11e9-832d-8c859025e7f9\", \"x\": [-0.3, -0.25, -0.2, -0.15, -0.1, -0.05, 0.0, 0.05, 0.1, 0.15, 0.2, 0.25, 0.3, 0.35], \"y\": [0.1662, 0.1208, 0.0863, 0.0563, 0.0301, 0.0104, 0.0, -0.009, -0.0097, -0.0042, 0.0091, 0.022, 0.0438, null], \"yaxis\": \"y\", \"type\": \"scatter\", \"xaxis\": \"x\"}, {\"legendgroup\": \"chart (1, 1)\", \"name\": \"chart (1, 1) 20181105\", \"uid\": \"c6a5c7e8-a3e3-11e9-beff-8c859025e7f9\", \"x\": [-0.3, -0.25, -0.2, -0.15, -0.1, -0.05, 0.0, 0.05, 0.1, 0.15, 0.2, 0.25, 0.3, 0.35], \"y\": [0.1733, 0.1281, 0.0888, 0.0557, 0.032, 0.0134, 0.0, -0.0054, -0.0005, 0.0088, 0.0208, 0.037, null, null], \"yaxis\": \"y\", \"type\": \"scatter\", \"xaxis\": \"x\"}, {\"legendgroup\": \"chart (1, 1)\", \"name\": \"chart (1, 1) 20181106\", \"uid\": \"c6a656cc-a3e3-11e9-ae0e-8c859025e7f9\", \"x\": [-0.3, -0.25, -0.2, -0.15, -0.1, -0.05, 0.0, 0.05, 0.1, 0.15, 0.2, 0.25, 0.3, 0.35], \"y\": [0.1781, 0.1322, 0.0965, 0.0629, 0.0361, 0.0166, 0.0, -0.0067, -0.0067, 0.0, 0.0082, 0.0273, 0.0469, null], \"yaxis\": \"y\", \"type\": \"scatter\", \"xaxis\": \"x\"}, {\"legendgroup\": \"chart (1, 1)\", \"name\": \"chart (1, 1) 20181107\", \"uid\": \"c6a6c1e2-a3e3-11e9-ac24-8c859025e7f9\", \"x\": [-0.3, -0.25, -0.2, -0.15, -0.1, -0.05, 0.0, 0.05, 0.1, 0.15, 0.2, 0.25, 0.3, 0.35], \"y\": [0.1647, 0.1298, 0.0884, 0.0537, 0.0296, 0.014, 0.0, -0.0066, -0.0058, 0.0001, 0.0138, 0.0389, 0.0611, null], \"yaxis\": \"y\", \"type\": \"scatter\", \"xaxis\": \"x\"}, {\"legendgroup\": \"chart (1, 2)\", \"name\": \"chart (1, 2) 20181108\", \"uid\": \"c6a7c61c-a3e3-11e9-bba4-8c859025e7f9\", \"x\": [-0.3, -0.25, -0.2, -0.15, -0.1, -0.05, 0.0, 0.05, 0.1, 0.15, 0.2, 0.25, 0.3, 0.35], \"y\": [0.1553, 0.1184, 0.0819, 0.0532, 0.0284, 0.01, 0.0, -0.0091, -0.0092, -0.0043, 0.0076, 0.0283, 0.0603, null], \"yaxis\": \"y2\", \"type\": \"scatter\", \"xaxis\": \"x2\"}, {\"legendgroup\": \"chart (1, 2)\", \"name\": \"chart (1, 2) 20181109\", \"uid\": \"c6a834e4-a3e3-11e9-ac9d-8c859025e7f9\", \"x\": [-0.3, -0.25, -0.2, -0.15, -0.1, -0.05, 0.0, 0.05, 0.1, 0.15, 0.2, 0.25, 0.3, 0.35], \"y\": [0.1661, 0.1205, 0.0833, 0.0535, 0.0302, 0.0123, 0.0, -0.0134, -0.0191, -0.018, -0.0096, 0.0156, 0.0378, null], \"yaxis\": \"y2\", \"type\": \"scatter\", \"xaxis\": \"x2\"}, {\"legendgroup\": \"chart (1, 2)\", \"name\": \"chart (1, 2) 20181112\", \"uid\": \"c6a8ab86-a3e3-11e9-b97c-8c859025e7f9\", \"x\": [-0.3, -0.25, -0.2, -0.15, -0.1, -0.05, 0.0, 0.05, 0.1, 0.15, 0.2, 0.25, 0.3, 0.35], \"y\": [0.164, 0.1232, 0.0853, 0.0544, 0.0293, 0.012, 0.0, -0.0112, -0.0157, -0.0117, 0.0015, 0.0301, 0.0603, null], \"yaxis\": \"y2\", \"type\": \"scatter\", \"xaxis\": \"x2\"}, {\"legendgroup\": \"chart (1, 2)\", \"name\": \"chart (1, 2) 20181113\", \"uid\": \"c6a91f94-a3e3-11e9-a3f7-8c859025e7f9\", \"x\": [-0.3, -0.25, -0.2, -0.15, -0.1, -0.05, 0.0, 0.05, 0.1, 0.15, 0.2, 0.25, 0.3, 0.35], \"y\": [0.1468, 0.1187, 0.0936, 0.0689, 0.0452, 0.0224, 0.0, -0.0304, -0.0505, -0.0672, -0.0721, -0.0611, -0.0465, -0.0239], \"yaxis\": \"y2\", \"type\": \"scatter\", \"xaxis\": \"x2\"}, {\"legendgroup\": \"chart (1, 2)\", \"name\": \"chart (1, 2) 20181114\", \"uid\": \"c6a98928-a3e3-11e9-9359-8c859025e7f9\", \"x\": [-0.3, -0.25, -0.2, -0.15, -0.1, -0.05, 0.0, 0.05, 0.1, 0.15, 0.2, 0.25, 0.3, 0.35], \"y\": [0.1836, 0.1442, 0.1074, 0.0754, 0.0498, 0.0244, 0.0, -0.0274, -0.0474, -0.0591, -0.0553, -0.0455, -0.0293, -0.0085], \"yaxis\": \"y2\", \"type\": \"scatter\", \"xaxis\": \"x2\"}, {\"legendgroup\": \"chart (2, 1)\", \"name\": \"chart (2, 1) 20181115\", \"uid\": \"c6aa8726-a3e3-11e9-bb6c-8c859025e7f9\", \"x\": [-0.3, -0.25, -0.2, -0.15, -0.1, -0.05, 0.0, 0.05, 0.1, 0.15, 0.2, 0.25, 0.3, 0.35], \"y\": [0.1859, 0.136, 0.1002, 0.0702, 0.0427, 0.0216, 0.0, -0.0268, -0.0424, -0.0461, -0.0343, -0.0109, 0.0133, 0.0462], \"yaxis\": \"y3\", \"type\": \"scatter\", \"xaxis\": \"x3\"}, {\"legendgroup\": \"chart (2, 1)\", \"name\": \"chart (2, 1) 20181116\", \"uid\": \"c6ab147a-a3e3-11e9-8ff6-8c859025e7f9\", \"x\": [-0.3, -0.25, -0.2, -0.15, -0.1, -0.05, 0.0, 0.05, 0.1, 0.15, 0.2, 0.25, 0.3, 0.35], \"y\": [0.1921, 0.1461, 0.1039, 0.0718, 0.0445, 0.0229, 0.0, -0.0207, -0.0362, -0.0374, -0.0251, -0.0071, 0.0267, 0.0447], \"yaxis\": \"y3\", \"type\": \"scatter\", \"xaxis\": \"x3\"}, {\"legendgroup\": \"chart (2, 1)\", \"name\": \"chart (2, 1) 20181119\", \"uid\": \"c6aba642-a3e3-11e9-ae46-8c859025e7f9\", \"x\": [-0.3, -0.25, -0.2, -0.15, -0.1, -0.05, 0.0, 0.05, 0.1, 0.15, 0.2, 0.25, 0.3, 0.35], \"y\": [0.2031, 0.1546, 0.1156, 0.0803, 0.0504, 0.0298, 0.0, -0.0223, -0.0401, -0.0431, -0.0309, -0.0008, 0.0285, 0.0643], \"yaxis\": \"y3\", \"type\": \"scatter\", \"xaxis\": \"x3\"}, {\"legendgroup\": \"chart (2, 1)\", \"name\": \"chart (2, 1) 20181120\", \"uid\": \"c6ac17ba-a3e3-11e9-a717-8c859025e7f9\", \"x\": [-0.3, -0.25, -0.2, -0.15, -0.1, -0.05, 0.0, 0.05, 0.1, 0.15, 0.2, 0.25, 0.3, 0.35], \"y\": [0.1772, 0.1373, 0.1038, 0.0776, 0.0505, 0.0234, 0.0, -0.0274, -0.0489, -0.0634, -0.0656, -0.0567, -0.045, -0.0206], \"yaxis\": \"y3\", \"type\": \"scatter\", \"xaxis\": \"x3\"}, {\"legendgroup\": \"chart (2, 1)\", \"name\": \"chart (2, 1) 20181121\", \"uid\": \"c6ac97a8-a3e3-11e9-8ea6-8c859025e7f9\", \"x\": [-0.3, -0.25, -0.2, -0.15, -0.1, -0.05, 0.0, 0.05, 0.1, 0.15, 0.2, 0.25, 0.3, 0.35], \"y\": [0.2152, 0.1705, 0.1325, 0.098, 0.0641, 0.0326, 0.0, -0.0356, -0.0656, -0.0807, -0.0808, -0.0613, -0.0334, 0.004], \"yaxis\": \"y3\", \"type\": \"scatter\", \"xaxis\": \"x3\"}, {\"legendgroup\": \"chart (2, 2)\", \"name\": \"chart (2, 2) 20181122\", \"uid\": \"c6ad8b4c-a3e3-11e9-bc8e-8c859025e7f9\", \"x\": [-0.3, -0.25, -0.2, -0.15, -0.1, -0.05, 0.0, 0.05, 0.1, 0.15, 0.2, 0.25, 0.3, 0.35], \"y\": [0.2093, 0.1779, 0.1395, 0.1014, 0.0673, 0.0316, 0.0, -0.0343, -0.0634, -0.0809, -0.0833, -0.0706, -0.0437, -0.0065], \"yaxis\": \"y4\", \"type\": \"scatter\", \"xaxis\": \"x4\"}, {\"legendgroup\": \"chart (2, 2)\", \"name\": \"chart (2, 2) 20181123\", \"uid\": \"c6ae1e0c-a3e3-11e9-ac54-8c859025e7f9\", \"x\": [-0.3, -0.25, -0.2, -0.15, -0.1, -0.05, 0.0, 0.05, 0.1, 0.15, 0.2, 0.25, 0.3, 0.35], \"y\": [0.1686, 0.1359, 0.1021, 0.0761, 0.0513, 0.0247, 0.0, -0.025, -0.0486, -0.0664, -0.0809, -0.087, -0.0774, -0.0563], \"yaxis\": \"y4\", \"type\": \"scatter\", \"xaxis\": \"x4\"}, {\"legendgroup\": \"chart (2, 2)\", \"name\": \"chart (2, 2) 20181126\", \"uid\": \"c6ae8c74-a3e3-11e9-a53b-8c859025e7f9\", \"x\": [-0.3, -0.25, -0.2, -0.15, -0.1, -0.05, 0.0, 0.05, 0.1, 0.15, 0.2, 0.25, 0.3, 0.35], \"y\": [0.2006, 0.1475, 0.109, 0.0767, 0.0504, 0.0259, 0.0, -0.0255, -0.0496, -0.0661, -0.0729, null, -0.0489, -0.0206], \"yaxis\": \"y4\", \"type\": \"scatter\", \"xaxis\": \"x4\"}, {\"legendgroup\": \"chart (2, 2)\", \"name\": \"chart (2, 2) 20181127\", \"uid\": \"c6af0cc6-a3e3-11e9-8701-8c859025e7f9\", \"x\": [-0.3, -0.25, -0.2, -0.15, -0.1, -0.05, 0.0, 0.05, 0.1, 0.15, 0.2, 0.25, 0.3, 0.35], \"y\": [0.2102, 0.1518, 0.1115, 0.0746, 0.0445, 0.0189, 0.0, -0.0264, -0.0441, -0.0552, -0.0546, null, -0.0322, 0.0007], \"yaxis\": \"y4\", \"type\": \"scatter\", \"xaxis\": \"x4\"}, {\"legendgroup\": \"chart (2, 2)\", \"name\": \"chart (2, 2) 20181128\", \"uid\": \"c6afb7a8-a3e3-11e9-8c05-8c859025e7f9\", \"x\": [-0.3, -0.25, -0.2, -0.15, -0.1, -0.05, 0.0, 0.05, 0.1, 0.15, 0.2, 0.25, 0.3, 0.35], \"y\": [0.241, 0.1807, 0.1284, 0.0856, 0.0525, 0.0287, 0.0, -0.017, -0.0281, -0.0303, -0.0288, -0.0138, 0.0106, 0.0392], \"yaxis\": \"y4\", \"type\": \"scatter\", \"xaxis\": \"x4\"}], {\"annotations\": [{\"font\": {\"size\": 16}, \"showarrow\": false, \"text\": \"CBG19 20181101 - 20181107\", \"x\": 0.2275, \"xanchor\": \"center\", \"xref\": \"paper\", \"y\": 1.0, \"yanchor\": \"bottom\", \"yref\": \"paper\"}, {\"font\": {\"size\": 16}, \"showarrow\": false, \"text\": \"CBG19 20181108 - 20181114\", \"x\": 0.7725, \"xanchor\": \"center\", \"xref\": \"paper\", \"y\": 1.0, \"yanchor\": \"bottom\", \"yref\": \"paper\"}, {\"font\": {\"size\": 16}, \"showarrow\": false, \"text\": \"CBG19 20181115 - 20181121\", \"x\": 0.2275, \"xanchor\": \"center\", \"xref\": \"paper\", \"y\": 0.445, \"yanchor\": \"bottom\", \"yref\": \"paper\"}, {\"font\": {\"size\": 16}, \"showarrow\": false, \"text\": \"CBG19 20181122 - 20181128\", \"x\": 0.7725, \"xanchor\": \"center\", \"xref\": \"paper\", \"y\": 0.445, \"yanchor\": \"bottom\", \"yref\": \"paper\"}], \"xaxis\": {\"anchor\": \"y\", \"domain\": [0.0, 0.455], \"tickangle\": 45, \"ticktext\": [-0.3, -0.25, -0.2, -0.15, -0.1, -0.05, 0.0, 0.05, 0.1, 0.15, 0.2, 0.25, 0.3, 0.35], \"tickvals\": [-0.3, -0.25, -0.2, -0.15, -0.1, -0.05, 0.0, 0.05, 0.1, 0.15, 0.2, 0.25, 0.3, 0.35], \"type\": \"category\"}, \"yaxis\": {\"anchor\": \"x\", \"domain\": [0.555, 1.0], \"title\": \"vol skew\"}, \"xaxis2\": {\"anchor\": \"y2\", \"domain\": [0.545, 1.0], \"tickangle\": 45, \"ticktext\": [-0.3, -0.25, -0.2, -0.15, -0.1, -0.05, 0.0, 0.05, 0.1, 0.15, 0.2, 0.25, 0.3, 0.35], \"tickvals\": [-0.3, -0.25, -0.2, -0.15, -0.1, -0.05, 0.0, 0.05, 0.1, 0.15, 0.2, 0.25, 0.3, 0.35], \"type\": \"category\"}, \"yaxis2\": {\"anchor\": \"x2\", \"domain\": [0.555, 1.0], \"title\": \"vol skew\"}, \"xaxis3\": {\"anchor\": \"y3\", \"domain\": [0.0, 0.455], \"tickangle\": 45, \"ticktext\": [-0.3, -0.25, -0.2, -0.15, -0.1, -0.05, 0.0, 0.05, 0.1, 0.15, 0.2, 0.25, 0.3, 0.35], \"tickvals\": [-0.3, -0.25, -0.2, -0.15, -0.1, -0.05, 0.0, 0.05, 0.1, 0.15, 0.2, 0.25, 0.3, 0.35], \"type\": \"category\"}, \"yaxis3\": {\"anchor\": \"x3\", \"domain\": [0.0, 0.445], \"title\": \"vol skew\"}, \"xaxis4\": {\"anchor\": \"y4\", \"domain\": [0.545, 1.0], \"tickangle\": 45, \"ticktext\": [-0.3, -0.25, -0.2, -0.15, -0.1, -0.05, 0.0, 0.05, 0.1, 0.15, 0.2, 0.25, 0.3, 0.35], \"tickvals\": [-0.3, -0.25, -0.2, -0.15, -0.1, -0.05, 0.0, 0.05, 0.1, 0.15, 0.2, 0.25, 0.3, 0.35], \"type\": \"category\"}, \"yaxis4\": {\"anchor\": \"x4\", \"domain\": [0.0, 0.445], \"title\": \"vol skew\"}, \"font\": {\"family\": \"Open Sans, sans-serif\"}, \"margin\": {\"b\": 55, \"l\": 45, \"r\": 15, \"t\": 50}, \"title\": \"Skew plots<br>\", \"showlegend\": true, \"hovermode\": \"x\", \"autosize\": true, \"width\": 900, \"height\": 800, \"plot_bgcolor\": \"#EFECEA\", \"bargap\": 0.05}, {\"showLink\": true, \"linkText\": \"Export to plot.ly\"})});</script>"
      ],
      "text/vnd.plotly.v1+html": [
       "<div id=\"0cc99cea-5ddc-4a0d-a41f-66d2bbce2e86\" style=\"height: 800px; width: 900px;\" class=\"plotly-graph-div\"></div><script type=\"text/javascript\">require([\"plotly\"], function(Plotly) { window.PLOTLYENV=window.PLOTLYENV || {};window.PLOTLYENV.BASE_URL=\"https://plot.ly\";Plotly.newPlot(\"0cc99cea-5ddc-4a0d-a41f-66d2bbce2e86\", [{\"legendgroup\": \"chart (1, 1)\", \"name\": \"chart (1, 1) 20181101\", \"uid\": \"c6a4e0c8-a3e3-11e9-b625-8c859025e7f9\", \"x\": [-0.3, -0.25, -0.2, -0.15, -0.1, -0.05, 0.0, 0.05, 0.1, 0.15, 0.2, 0.25, 0.3, 0.35], \"y\": [0.1552, 0.1227, 0.088, 0.0569, 0.031, 0.0126, 0.0, -0.0067, -0.0061, 0.0041, 0.0151, 0.0289, 0.0456, null], \"yaxis\": \"y\", \"type\": \"scatter\", \"xaxis\": \"x\"}, {\"legendgroup\": \"chart (1, 1)\", \"name\": \"chart (1, 1) 20181102\", \"uid\": \"c6a55bfa-a3e3-11e9-832d-8c859025e7f9\", \"x\": [-0.3, -0.25, -0.2, -0.15, -0.1, -0.05, 0.0, 0.05, 0.1, 0.15, 0.2, 0.25, 0.3, 0.35], \"y\": [0.1662, 0.1208, 0.0863, 0.0563, 0.0301, 0.0104, 0.0, -0.009, -0.0097, -0.0042, 0.0091, 0.022, 0.0438, null], \"yaxis\": \"y\", \"type\": \"scatter\", \"xaxis\": \"x\"}, {\"legendgroup\": \"chart (1, 1)\", \"name\": \"chart (1, 1) 20181105\", \"uid\": \"c6a5c7e8-a3e3-11e9-beff-8c859025e7f9\", \"x\": [-0.3, -0.25, -0.2, -0.15, -0.1, -0.05, 0.0, 0.05, 0.1, 0.15, 0.2, 0.25, 0.3, 0.35], \"y\": [0.1733, 0.1281, 0.0888, 0.0557, 0.032, 0.0134, 0.0, -0.0054, -0.0005, 0.0088, 0.0208, 0.037, null, null], \"yaxis\": \"y\", \"type\": \"scatter\", \"xaxis\": \"x\"}, {\"legendgroup\": \"chart (1, 1)\", \"name\": \"chart (1, 1) 20181106\", \"uid\": \"c6a656cc-a3e3-11e9-ae0e-8c859025e7f9\", \"x\": [-0.3, -0.25, -0.2, -0.15, -0.1, -0.05, 0.0, 0.05, 0.1, 0.15, 0.2, 0.25, 0.3, 0.35], \"y\": [0.1781, 0.1322, 0.0965, 0.0629, 0.0361, 0.0166, 0.0, -0.0067, -0.0067, 0.0, 0.0082, 0.0273, 0.0469, null], \"yaxis\": \"y\", \"type\": \"scatter\", \"xaxis\": \"x\"}, {\"legendgroup\": \"chart (1, 1)\", \"name\": \"chart (1, 1) 20181107\", \"uid\": \"c6a6c1e2-a3e3-11e9-ac24-8c859025e7f9\", \"x\": [-0.3, -0.25, -0.2, -0.15, -0.1, -0.05, 0.0, 0.05, 0.1, 0.15, 0.2, 0.25, 0.3, 0.35], \"y\": [0.1647, 0.1298, 0.0884, 0.0537, 0.0296, 0.014, 0.0, -0.0066, -0.0058, 0.0001, 0.0138, 0.0389, 0.0611, null], \"yaxis\": \"y\", \"type\": \"scatter\", \"xaxis\": \"x\"}, {\"legendgroup\": \"chart (1, 2)\", \"name\": \"chart (1, 2) 20181108\", \"uid\": \"c6a7c61c-a3e3-11e9-bba4-8c859025e7f9\", \"x\": [-0.3, -0.25, -0.2, -0.15, -0.1, -0.05, 0.0, 0.05, 0.1, 0.15, 0.2, 0.25, 0.3, 0.35], \"y\": [0.1553, 0.1184, 0.0819, 0.0532, 0.0284, 0.01, 0.0, -0.0091, -0.0092, -0.0043, 0.0076, 0.0283, 0.0603, null], \"yaxis\": \"y2\", \"type\": \"scatter\", \"xaxis\": \"x2\"}, {\"legendgroup\": \"chart (1, 2)\", \"name\": \"chart (1, 2) 20181109\", \"uid\": \"c6a834e4-a3e3-11e9-ac9d-8c859025e7f9\", \"x\": [-0.3, -0.25, -0.2, -0.15, -0.1, -0.05, 0.0, 0.05, 0.1, 0.15, 0.2, 0.25, 0.3, 0.35], \"y\": [0.1661, 0.1205, 0.0833, 0.0535, 0.0302, 0.0123, 0.0, -0.0134, -0.0191, -0.018, -0.0096, 0.0156, 0.0378, null], \"yaxis\": \"y2\", \"type\": \"scatter\", \"xaxis\": \"x2\"}, {\"legendgroup\": \"chart (1, 2)\", \"name\": \"chart (1, 2) 20181112\", \"uid\": \"c6a8ab86-a3e3-11e9-b97c-8c859025e7f9\", \"x\": [-0.3, -0.25, -0.2, -0.15, -0.1, -0.05, 0.0, 0.05, 0.1, 0.15, 0.2, 0.25, 0.3, 0.35], \"y\": [0.164, 0.1232, 0.0853, 0.0544, 0.0293, 0.012, 0.0, -0.0112, -0.0157, -0.0117, 0.0015, 0.0301, 0.0603, null], \"yaxis\": \"y2\", \"type\": \"scatter\", \"xaxis\": \"x2\"}, {\"legendgroup\": \"chart (1, 2)\", \"name\": \"chart (1, 2) 20181113\", \"uid\": \"c6a91f94-a3e3-11e9-a3f7-8c859025e7f9\", \"x\": [-0.3, -0.25, -0.2, -0.15, -0.1, -0.05, 0.0, 0.05, 0.1, 0.15, 0.2, 0.25, 0.3, 0.35], \"y\": [0.1468, 0.1187, 0.0936, 0.0689, 0.0452, 0.0224, 0.0, -0.0304, -0.0505, -0.0672, -0.0721, -0.0611, -0.0465, -0.0239], \"yaxis\": \"y2\", \"type\": \"scatter\", \"xaxis\": \"x2\"}, {\"legendgroup\": \"chart (1, 2)\", \"name\": \"chart (1, 2) 20181114\", \"uid\": \"c6a98928-a3e3-11e9-9359-8c859025e7f9\", \"x\": [-0.3, -0.25, -0.2, -0.15, -0.1, -0.05, 0.0, 0.05, 0.1, 0.15, 0.2, 0.25, 0.3, 0.35], \"y\": [0.1836, 0.1442, 0.1074, 0.0754, 0.0498, 0.0244, 0.0, -0.0274, -0.0474, -0.0591, -0.0553, -0.0455, -0.0293, -0.0085], \"yaxis\": \"y2\", \"type\": \"scatter\", \"xaxis\": \"x2\"}, {\"legendgroup\": \"chart (2, 1)\", \"name\": \"chart (2, 1) 20181115\", \"uid\": \"c6aa8726-a3e3-11e9-bb6c-8c859025e7f9\", \"x\": [-0.3, -0.25, -0.2, -0.15, -0.1, -0.05, 0.0, 0.05, 0.1, 0.15, 0.2, 0.25, 0.3, 0.35], \"y\": [0.1859, 0.136, 0.1002, 0.0702, 0.0427, 0.0216, 0.0, -0.0268, -0.0424, -0.0461, -0.0343, -0.0109, 0.0133, 0.0462], \"yaxis\": \"y3\", \"type\": \"scatter\", \"xaxis\": \"x3\"}, {\"legendgroup\": \"chart (2, 1)\", \"name\": \"chart (2, 1) 20181116\", \"uid\": \"c6ab147a-a3e3-11e9-8ff6-8c859025e7f9\", \"x\": [-0.3, -0.25, -0.2, -0.15, -0.1, -0.05, 0.0, 0.05, 0.1, 0.15, 0.2, 0.25, 0.3, 0.35], \"y\": [0.1921, 0.1461, 0.1039, 0.0718, 0.0445, 0.0229, 0.0, -0.0207, -0.0362, -0.0374, -0.0251, -0.0071, 0.0267, 0.0447], \"yaxis\": \"y3\", \"type\": \"scatter\", \"xaxis\": \"x3\"}, {\"legendgroup\": \"chart (2, 1)\", \"name\": \"chart (2, 1) 20181119\", \"uid\": \"c6aba642-a3e3-11e9-ae46-8c859025e7f9\", \"x\": [-0.3, -0.25, -0.2, -0.15, -0.1, -0.05, 0.0, 0.05, 0.1, 0.15, 0.2, 0.25, 0.3, 0.35], \"y\": [0.2031, 0.1546, 0.1156, 0.0803, 0.0504, 0.0298, 0.0, -0.0223, -0.0401, -0.0431, -0.0309, -0.0008, 0.0285, 0.0643], \"yaxis\": \"y3\", \"type\": \"scatter\", \"xaxis\": \"x3\"}, {\"legendgroup\": \"chart (2, 1)\", \"name\": \"chart (2, 1) 20181120\", \"uid\": \"c6ac17ba-a3e3-11e9-a717-8c859025e7f9\", \"x\": [-0.3, -0.25, -0.2, -0.15, -0.1, -0.05, 0.0, 0.05, 0.1, 0.15, 0.2, 0.25, 0.3, 0.35], \"y\": [0.1772, 0.1373, 0.1038, 0.0776, 0.0505, 0.0234, 0.0, -0.0274, -0.0489, -0.0634, -0.0656, -0.0567, -0.045, -0.0206], \"yaxis\": \"y3\", \"type\": \"scatter\", \"xaxis\": \"x3\"}, {\"legendgroup\": \"chart (2, 1)\", \"name\": \"chart (2, 1) 20181121\", \"uid\": \"c6ac97a8-a3e3-11e9-8ea6-8c859025e7f9\", \"x\": [-0.3, -0.25, -0.2, -0.15, -0.1, -0.05, 0.0, 0.05, 0.1, 0.15, 0.2, 0.25, 0.3, 0.35], \"y\": [0.2152, 0.1705, 0.1325, 0.098, 0.0641, 0.0326, 0.0, -0.0356, -0.0656, -0.0807, -0.0808, -0.0613, -0.0334, 0.004], \"yaxis\": \"y3\", \"type\": \"scatter\", \"xaxis\": \"x3\"}, {\"legendgroup\": \"chart (2, 2)\", \"name\": \"chart (2, 2) 20181122\", \"uid\": \"c6ad8b4c-a3e3-11e9-bc8e-8c859025e7f9\", \"x\": [-0.3, -0.25, -0.2, -0.15, -0.1, -0.05, 0.0, 0.05, 0.1, 0.15, 0.2, 0.25, 0.3, 0.35], \"y\": [0.2093, 0.1779, 0.1395, 0.1014, 0.0673, 0.0316, 0.0, -0.0343, -0.0634, -0.0809, -0.0833, -0.0706, -0.0437, -0.0065], \"yaxis\": \"y4\", \"type\": \"scatter\", \"xaxis\": \"x4\"}, {\"legendgroup\": \"chart (2, 2)\", \"name\": \"chart (2, 2) 20181123\", \"uid\": \"c6ae1e0c-a3e3-11e9-ac54-8c859025e7f9\", \"x\": [-0.3, -0.25, -0.2, -0.15, -0.1, -0.05, 0.0, 0.05, 0.1, 0.15, 0.2, 0.25, 0.3, 0.35], \"y\": [0.1686, 0.1359, 0.1021, 0.0761, 0.0513, 0.0247, 0.0, -0.025, -0.0486, -0.0664, -0.0809, -0.087, -0.0774, -0.0563], \"yaxis\": \"y4\", \"type\": \"scatter\", \"xaxis\": \"x4\"}, {\"legendgroup\": \"chart (2, 2)\", \"name\": \"chart (2, 2) 20181126\", \"uid\": \"c6ae8c74-a3e3-11e9-a53b-8c859025e7f9\", \"x\": [-0.3, -0.25, -0.2, -0.15, -0.1, -0.05, 0.0, 0.05, 0.1, 0.15, 0.2, 0.25, 0.3, 0.35], \"y\": [0.2006, 0.1475, 0.109, 0.0767, 0.0504, 0.0259, 0.0, -0.0255, -0.0496, -0.0661, -0.0729, null, -0.0489, -0.0206], \"yaxis\": \"y4\", \"type\": \"scatter\", \"xaxis\": \"x4\"}, {\"legendgroup\": \"chart (2, 2)\", \"name\": \"chart (2, 2) 20181127\", \"uid\": \"c6af0cc6-a3e3-11e9-8701-8c859025e7f9\", \"x\": [-0.3, -0.25, -0.2, -0.15, -0.1, -0.05, 0.0, 0.05, 0.1, 0.15, 0.2, 0.25, 0.3, 0.35], \"y\": [0.2102, 0.1518, 0.1115, 0.0746, 0.0445, 0.0189, 0.0, -0.0264, -0.0441, -0.0552, -0.0546, null, -0.0322, 0.0007], \"yaxis\": \"y4\", \"type\": \"scatter\", \"xaxis\": \"x4\"}, {\"legendgroup\": \"chart (2, 2)\", \"name\": \"chart (2, 2) 20181128\", \"uid\": \"c6afb7a8-a3e3-11e9-8c05-8c859025e7f9\", \"x\": [-0.3, -0.25, -0.2, -0.15, -0.1, -0.05, 0.0, 0.05, 0.1, 0.15, 0.2, 0.25, 0.3, 0.35], \"y\": [0.241, 0.1807, 0.1284, 0.0856, 0.0525, 0.0287, 0.0, -0.017, -0.0281, -0.0303, -0.0288, -0.0138, 0.0106, 0.0392], \"yaxis\": \"y4\", \"type\": \"scatter\", \"xaxis\": \"x4\"}], {\"annotations\": [{\"font\": {\"size\": 16}, \"showarrow\": false, \"text\": \"CBG19 20181101 - 20181107\", \"x\": 0.2275, \"xanchor\": \"center\", \"xref\": \"paper\", \"y\": 1.0, \"yanchor\": \"bottom\", \"yref\": \"paper\"}, {\"font\": {\"size\": 16}, \"showarrow\": false, \"text\": \"CBG19 20181108 - 20181114\", \"x\": 0.7725, \"xanchor\": \"center\", \"xref\": \"paper\", \"y\": 1.0, \"yanchor\": \"bottom\", \"yref\": \"paper\"}, {\"font\": {\"size\": 16}, \"showarrow\": false, \"text\": \"CBG19 20181115 - 20181121\", \"x\": 0.2275, \"xanchor\": \"center\", \"xref\": \"paper\", \"y\": 0.445, \"yanchor\": \"bottom\", \"yref\": \"paper\"}, {\"font\": {\"size\": 16}, \"showarrow\": false, \"text\": \"CBG19 20181122 - 20181128\", \"x\": 0.7725, \"xanchor\": \"center\", \"xref\": \"paper\", \"y\": 0.445, \"yanchor\": \"bottom\", \"yref\": \"paper\"}], \"xaxis\": {\"anchor\": \"y\", \"domain\": [0.0, 0.455], \"tickangle\": 45, \"ticktext\": [-0.3, -0.25, -0.2, -0.15, -0.1, -0.05, 0.0, 0.05, 0.1, 0.15, 0.2, 0.25, 0.3, 0.35], \"tickvals\": [-0.3, -0.25, -0.2, -0.15, -0.1, -0.05, 0.0, 0.05, 0.1, 0.15, 0.2, 0.25, 0.3, 0.35], \"type\": \"category\"}, \"yaxis\": {\"anchor\": \"x\", \"domain\": [0.555, 1.0], \"title\": \"vol skew\"}, \"xaxis2\": {\"anchor\": \"y2\", \"domain\": [0.545, 1.0], \"tickangle\": 45, \"ticktext\": [-0.3, -0.25, -0.2, -0.15, -0.1, -0.05, 0.0, 0.05, 0.1, 0.15, 0.2, 0.25, 0.3, 0.35], \"tickvals\": [-0.3, -0.25, -0.2, -0.15, -0.1, -0.05, 0.0, 0.05, 0.1, 0.15, 0.2, 0.25, 0.3, 0.35], \"type\": \"category\"}, \"yaxis2\": {\"anchor\": \"x2\", \"domain\": [0.555, 1.0], \"title\": \"vol skew\"}, \"xaxis3\": {\"anchor\": \"y3\", \"domain\": [0.0, 0.455], \"tickangle\": 45, \"ticktext\": [-0.3, -0.25, -0.2, -0.15, -0.1, -0.05, 0.0, 0.05, 0.1, 0.15, 0.2, 0.25, 0.3, 0.35], \"tickvals\": [-0.3, -0.25, -0.2, -0.15, -0.1, -0.05, 0.0, 0.05, 0.1, 0.15, 0.2, 0.25, 0.3, 0.35], \"type\": \"category\"}, \"yaxis3\": {\"anchor\": \"x3\", \"domain\": [0.0, 0.445], \"title\": \"vol skew\"}, \"xaxis4\": {\"anchor\": \"y4\", \"domain\": [0.545, 1.0], \"tickangle\": 45, \"ticktext\": [-0.3, -0.25, -0.2, -0.15, -0.1, -0.05, 0.0, 0.05, 0.1, 0.15, 0.2, 0.25, 0.3, 0.35], \"tickvals\": [-0.3, -0.25, -0.2, -0.15, -0.1, -0.05, 0.0, 0.05, 0.1, 0.15, 0.2, 0.25, 0.3, 0.35], \"type\": \"category\"}, \"yaxis4\": {\"anchor\": \"x4\", \"domain\": [0.0, 0.445], \"title\": \"vol skew\"}, \"font\": {\"family\": \"Open Sans, sans-serif\"}, \"margin\": {\"b\": 55, \"l\": 45, \"r\": 15, \"t\": 50}, \"title\": \"Skew plots<br>\", \"showlegend\": true, \"hovermode\": \"x\", \"autosize\": true, \"width\": 900, \"height\": 800, \"plot_bgcolor\": \"#EFECEA\", \"bargap\": 0.05}, {\"showLink\": true, \"linkText\": \"Export to plot.ly\"})});</script>"
      ]
     },
     "metadata": {},
     "output_type": "display_data"
    },
    {
     "data": {
      "application/vnd.plotly.v1+json": {
       "data": [
        {
         "legendgroup": "chart (1, 1)",
         "name": "chart (1, 1) 20181129",
         "type": "scatter",
         "uid": "c6bc7850-a3e3-11e9-bc9a-8c859025e7f9",
         "x": [
          -0.3,
          -0.25,
          -0.2,
          -0.15,
          -0.1,
          -0.05,
          0,
          0.05,
          0.1,
          0.15,
          0.2,
          0.25,
          0.3,
          0.35
         ],
         "xaxis": "x",
         "y": [
          0.2237,
          0.1655,
          0.108,
          0.0737,
          0.0414,
          0.0193,
          0,
          -0.0166,
          -0.0249,
          -0.0278,
          -0.0223,
          -0.0068,
          0.0203,
          0.0543
         ],
         "yaxis": "y"
        },
        {
         "legendgroup": "chart (1, 1)",
         "name": "chart (1, 1) 20181130",
         "type": "scatter",
         "uid": "c6bce0e2-a3e3-11e9-96e3-8c859025e7f9",
         "x": [
          -0.3,
          -0.25,
          -0.2,
          -0.15,
          -0.1,
          -0.05,
          0,
          0.05,
          0.1,
          0.15,
          0.2,
          0.25,
          0.3,
          0.35
         ],
         "xaxis": "x",
         "y": [
          0.2373,
          0.1716,
          0.1183,
          0.0794,
          0.0466,
          0.0211,
          0,
          -0.0152,
          -0.0275,
          -0.0384,
          -0.0326,
          -0.0276,
          -0.0087,
          -0.0022
         ],
         "yaxis": "y"
        }
       ],
       "layout": {
        "annotations": [
         {
          "font": {
           "size": 16
          },
          "showarrow": false,
          "text": "CBG19 20181129 - 20181130",
          "x": 0.2275,
          "xanchor": "center",
          "xref": "paper",
          "y": 1,
          "yanchor": "bottom",
          "yref": "paper"
         }
        ],
        "autosize": true,
        "bargap": 0.05,
        "font": {
         "family": "Open Sans, sans-serif"
        },
        "height": 800,
        "hovermode": "x",
        "margin": {
         "b": 55,
         "l": 45,
         "r": 15,
         "t": 50
        },
        "plot_bgcolor": "#EFECEA",
        "showlegend": true,
        "title": "Skew plots<br>",
        "width": 900,
        "xaxis": {
         "anchor": "y",
         "domain": [
          0,
          0.455
         ],
         "tickangle": 45,
         "ticktext": [
          -0.3,
          -0.25,
          -0.2,
          -0.15,
          -0.1,
          -0.05,
          0,
          0.05,
          0.1,
          0.15,
          0.2,
          0.25,
          0.3,
          0.35
         ],
         "tickvals": [
          -0.3,
          -0.25,
          -0.2,
          -0.15,
          -0.1,
          -0.05,
          0,
          0.05,
          0.1,
          0.15,
          0.2,
          0.25,
          0.3,
          0.35
         ],
         "type": "category"
        },
        "xaxis2": {
         "anchor": "y2",
         "domain": [
          0.545,
          1
         ]
        },
        "xaxis3": {
         "anchor": "y3",
         "domain": [
          0,
          0.455
         ]
        },
        "xaxis4": {
         "anchor": "y4",
         "domain": [
          0.545,
          1
         ]
        },
        "yaxis": {
         "anchor": "x",
         "domain": [
          0.555,
          1
         ],
         "title": "vol skew"
        },
        "yaxis2": {
         "anchor": "x2",
         "domain": [
          0.555,
          1
         ]
        },
        "yaxis3": {
         "anchor": "x3",
         "domain": [
          0,
          0.445
         ]
        },
        "yaxis4": {
         "anchor": "x4",
         "domain": [
          0,
          0.445
         ]
        }
       }
      },
      "text/html": [
       "<div id=\"00c71ce0-bcd3-4920-8ed2-15049818591e\" style=\"height: 800px; width: 900px;\" class=\"plotly-graph-div\"></div><script type=\"text/javascript\">require([\"plotly\"], function(Plotly) { window.PLOTLYENV=window.PLOTLYENV || {};window.PLOTLYENV.BASE_URL=\"https://plot.ly\";Plotly.newPlot(\"00c71ce0-bcd3-4920-8ed2-15049818591e\", [{\"legendgroup\": \"chart (1, 1)\", \"name\": \"chart (1, 1) 20181129\", \"uid\": \"c6bc7850-a3e3-11e9-bc9a-8c859025e7f9\", \"x\": [-0.3, -0.25, -0.2, -0.15, -0.1, -0.05, 0.0, 0.05, 0.1, 0.15, 0.2, 0.25, 0.3, 0.35], \"y\": [0.2237, 0.1655, 0.108, 0.0737, 0.0414, 0.0193, 0.0, -0.0166, -0.0249, -0.0278, -0.0223, -0.0068, 0.0203, 0.0543], \"yaxis\": \"y\", \"type\": \"scatter\", \"xaxis\": \"x\"}, {\"legendgroup\": \"chart (1, 1)\", \"name\": \"chart (1, 1) 20181130\", \"uid\": \"c6bce0e2-a3e3-11e9-96e3-8c859025e7f9\", \"x\": [-0.3, -0.25, -0.2, -0.15, -0.1, -0.05, 0.0, 0.05, 0.1, 0.15, 0.2, 0.25, 0.3, 0.35], \"y\": [0.2373, 0.1716, 0.1183, 0.0794, 0.0466, 0.0211, 0.0, -0.0152, -0.0275, -0.0384, -0.0326, -0.0276, -0.0087, -0.0022], \"yaxis\": \"y\", \"type\": \"scatter\", \"xaxis\": \"x\"}], {\"annotations\": [{\"font\": {\"size\": 16}, \"showarrow\": false, \"text\": \"CBG19 20181129 - 20181130\", \"x\": 0.2275, \"xanchor\": \"center\", \"xref\": \"paper\", \"y\": 1.0, \"yanchor\": \"bottom\", \"yref\": \"paper\"}], \"xaxis\": {\"anchor\": \"y\", \"domain\": [0.0, 0.455], \"tickangle\": 45, \"ticktext\": [-0.3, -0.25, -0.2, -0.15, -0.1, -0.05, 0.0, 0.05, 0.1, 0.15, 0.2, 0.25, 0.3, 0.35], \"tickvals\": [-0.3, -0.25, -0.2, -0.15, -0.1, -0.05, 0.0, 0.05, 0.1, 0.15, 0.2, 0.25, 0.3, 0.35], \"type\": \"category\"}, \"yaxis\": {\"anchor\": \"x\", \"domain\": [0.555, 1.0], \"title\": \"vol skew\"}, \"xaxis2\": {\"anchor\": \"y2\", \"domain\": [0.545, 1.0]}, \"yaxis2\": {\"anchor\": \"x2\", \"domain\": [0.555, 1.0]}, \"xaxis3\": {\"anchor\": \"y3\", \"domain\": [0.0, 0.455]}, \"yaxis3\": {\"anchor\": \"x3\", \"domain\": [0.0, 0.445]}, \"xaxis4\": {\"anchor\": \"y4\", \"domain\": [0.545, 1.0]}, \"yaxis4\": {\"anchor\": \"x4\", \"domain\": [0.0, 0.445]}, \"font\": {\"family\": \"Open Sans, sans-serif\"}, \"margin\": {\"b\": 55, \"l\": 45, \"r\": 15, \"t\": 50}, \"title\": \"Skew plots<br>\", \"showlegend\": true, \"hovermode\": \"x\", \"autosize\": true, \"width\": 900, \"height\": 800, \"plot_bgcolor\": \"#EFECEA\", \"bargap\": 0.05}, {\"showLink\": true, \"linkText\": \"Export to plot.ly\"})});</script>"
      ],
      "text/vnd.plotly.v1+html": [
       "<div id=\"00c71ce0-bcd3-4920-8ed2-15049818591e\" style=\"height: 800px; width: 900px;\" class=\"plotly-graph-div\"></div><script type=\"text/javascript\">require([\"plotly\"], function(Plotly) { window.PLOTLYENV=window.PLOTLYENV || {};window.PLOTLYENV.BASE_URL=\"https://plot.ly\";Plotly.newPlot(\"00c71ce0-bcd3-4920-8ed2-15049818591e\", [{\"legendgroup\": \"chart (1, 1)\", \"name\": \"chart (1, 1) 20181129\", \"uid\": \"c6bc7850-a3e3-11e9-bc9a-8c859025e7f9\", \"x\": [-0.3, -0.25, -0.2, -0.15, -0.1, -0.05, 0.0, 0.05, 0.1, 0.15, 0.2, 0.25, 0.3, 0.35], \"y\": [0.2237, 0.1655, 0.108, 0.0737, 0.0414, 0.0193, 0.0, -0.0166, -0.0249, -0.0278, -0.0223, -0.0068, 0.0203, 0.0543], \"yaxis\": \"y\", \"type\": \"scatter\", \"xaxis\": \"x\"}, {\"legendgroup\": \"chart (1, 1)\", \"name\": \"chart (1, 1) 20181130\", \"uid\": \"c6bce0e2-a3e3-11e9-96e3-8c859025e7f9\", \"x\": [-0.3, -0.25, -0.2, -0.15, -0.1, -0.05, 0.0, 0.05, 0.1, 0.15, 0.2, 0.25, 0.3, 0.35], \"y\": [0.2373, 0.1716, 0.1183, 0.0794, 0.0466, 0.0211, 0.0, -0.0152, -0.0275, -0.0384, -0.0326, -0.0276, -0.0087, -0.0022], \"yaxis\": \"y\", \"type\": \"scatter\", \"xaxis\": \"x\"}], {\"annotations\": [{\"font\": {\"size\": 16}, \"showarrow\": false, \"text\": \"CBG19 20181129 - 20181130\", \"x\": 0.2275, \"xanchor\": \"center\", \"xref\": \"paper\", \"y\": 1.0, \"yanchor\": \"bottom\", \"yref\": \"paper\"}], \"xaxis\": {\"anchor\": \"y\", \"domain\": [0.0, 0.455], \"tickangle\": 45, \"ticktext\": [-0.3, -0.25, -0.2, -0.15, -0.1, -0.05, 0.0, 0.05, 0.1, 0.15, 0.2, 0.25, 0.3, 0.35], \"tickvals\": [-0.3, -0.25, -0.2, -0.15, -0.1, -0.05, 0.0, 0.05, 0.1, 0.15, 0.2, 0.25, 0.3, 0.35], \"type\": \"category\"}, \"yaxis\": {\"anchor\": \"x\", \"domain\": [0.555, 1.0], \"title\": \"vol skew\"}, \"xaxis2\": {\"anchor\": \"y2\", \"domain\": [0.545, 1.0]}, \"yaxis2\": {\"anchor\": \"x2\", \"domain\": [0.555, 1.0]}, \"xaxis3\": {\"anchor\": \"y3\", \"domain\": [0.0, 0.455]}, \"yaxis3\": {\"anchor\": \"x3\", \"domain\": [0.0, 0.445]}, \"xaxis4\": {\"anchor\": \"y4\", \"domain\": [0.545, 1.0]}, \"yaxis4\": {\"anchor\": \"x4\", \"domain\": [0.0, 0.445]}, \"font\": {\"family\": \"Open Sans, sans-serif\"}, \"margin\": {\"b\": 55, \"l\": 45, \"r\": 15, \"t\": 50}, \"title\": \"Skew plots<br>\", \"showlegend\": true, \"hovermode\": \"x\", \"autosize\": true, \"width\": 900, \"height\": 800, \"plot_bgcolor\": \"#EFECEA\", \"bargap\": 0.05}, {\"showLink\": true, \"linkText\": \"Export to plot.ly\"})});</script>"
      ]
     },
     "metadata": {},
     "output_type": "display_data"
    },
    {
     "data": {
      "application/vnd.plotly.v1+json": {
       "data": [
        {
         "legendgroup": "chart (1, 1)",
         "name": "chart (1, 1) 20181203",
         "type": "scatter",
         "uid": "c7043c62-a3e3-11e9-b454-8c859025e7f9",
         "x": [
          -0.3,
          -0.25,
          -0.2,
          -0.15,
          -0.1,
          -0.05,
          0,
          0.05,
          0.1,
          0.15,
          0.2,
          0.25,
          0.3,
          0.35
         ],
         "xaxis": "x",
         "y": [
          0.1104,
          0.0832,
          0.0594,
          0.0408,
          0.0282,
          0.0141,
          0,
          -0.0173,
          -0.03,
          -0.0425,
          -0.0486,
          -0.0504,
          -0.045,
          null
         ],
         "yaxis": "y"
        },
        {
         "legendgroup": "chart (1, 1)",
         "name": "chart (1, 1) 20181204",
         "type": "scatter",
         "uid": "c704a940-a3e3-11e9-ae89-8c859025e7f9",
         "x": [
          -0.3,
          -0.25,
          -0.2,
          -0.15,
          -0.1,
          -0.05,
          0,
          0.05,
          0.1,
          0.15,
          0.2,
          0.25,
          0.3,
          0.35
         ],
         "xaxis": "x",
         "y": [
          0.1327,
          0.1053,
          0.0776,
          0.0561,
          0.0363,
          0.0178,
          0,
          -0.0223,
          -0.0379,
          -0.0514,
          -0.061,
          -0.0637,
          -0.0549,
          null
         ],
         "yaxis": "y"
        },
        {
         "legendgroup": "chart (1, 1)",
         "name": "chart (1, 1) 20181205",
         "type": "scatter",
         "uid": "c7051038-a3e3-11e9-b133-8c859025e7f9",
         "x": [
          -0.3,
          -0.25,
          -0.2,
          -0.15,
          -0.1,
          -0.05,
          0,
          0.05,
          0.1,
          0.15,
          0.2,
          0.25,
          0.3,
          0.35
         ],
         "xaxis": "x",
         "y": [
          0.1599,
          0.1258,
          0.096,
          0.0694,
          0.045,
          0.0227,
          0,
          -0.0252,
          -0.0436,
          -0.0613,
          -0.0731,
          null,
          -0.0664,
          null
         ],
         "yaxis": "y"
        },
        {
         "legendgroup": "chart (1, 1)",
         "name": "chart (1, 1) 20181206",
         "type": "scatter",
         "uid": "c7057186-a3e3-11e9-93ef-8c859025e7f9",
         "x": [
          -0.3,
          -0.25,
          -0.2,
          -0.15,
          -0.1,
          -0.05,
          0,
          0.05,
          0.1,
          0.15,
          0.2,
          0.25,
          0.3,
          0.35
         ],
         "xaxis": "x",
         "y": [
          0.1391,
          0.1076,
          0.0814,
          0.0595,
          0.0415,
          0.0218,
          0,
          -0.0245,
          -0.0429,
          -0.0593,
          -0.0687,
          -0.0703,
          -0.0648,
          null
         ],
         "yaxis": "y"
        },
        {
         "legendgroup": "chart (1, 1)",
         "name": "chart (1, 1) 20181207",
         "type": "scatter",
         "uid": "c70602fe-a3e3-11e9-9fb2-8c859025e7f9",
         "x": [
          -0.3,
          -0.25,
          -0.2,
          -0.15,
          -0.1,
          -0.05,
          0,
          0.05,
          0.1,
          0.15,
          0.2,
          0.25,
          0.3,
          0.35
         ],
         "xaxis": "x",
         "y": [
          0.1512,
          0.1128,
          0.0824,
          0.0564,
          0.036,
          0.0179,
          0,
          -0.0174,
          -0.0316,
          -0.0422,
          -0.0418,
          -0.0333,
          -0.0117,
          null
         ],
         "yaxis": "y"
        },
        {
         "legendgroup": "chart (1, 2)",
         "name": "chart (1, 2) 20181210",
         "type": "scatter",
         "uid": "c706f9de-a3e3-11e9-8ee1-8c859025e7f9",
         "x": [
          -0.3,
          -0.25,
          -0.2,
          -0.15,
          -0.1,
          -0.05,
          0,
          0.05,
          0.1,
          0.15,
          0.2,
          0.25,
          0.3,
          0.35
         ],
         "xaxis": "x2",
         "y": [
          0.1538,
          0.1138,
          0.082,
          0.0562,
          0.0364,
          0.0201,
          0,
          -0.0197,
          -0.0361,
          -0.0489,
          -0.0535,
          -0.0498,
          -0.0347,
          null
         ],
         "yaxis": "y2"
        },
        {
         "legendgroup": "chart (1, 2)",
         "name": "chart (1, 2) 20181211",
         "type": "scatter",
         "uid": "c7076662-a3e3-11e9-b671-8c859025e7f9",
         "x": [
          -0.3,
          -0.25,
          -0.2,
          -0.15,
          -0.1,
          -0.05,
          0,
          0.05,
          0.1,
          0.15,
          0.2,
          0.25,
          0.3,
          0.35
         ],
         "xaxis": "x2",
         "y": [
          0.1486,
          0.1112,
          0.0766,
          0.05,
          0.0324,
          0.0161,
          0,
          -0.0193,
          -0.0316,
          -0.0392,
          -0.0386,
          -0.0281,
          -0.0119,
          null
         ],
         "yaxis": "y2"
        },
        {
         "legendgroup": "chart (1, 2)",
         "name": "chart (1, 2) 20181212",
         "type": "scatter",
         "uid": "c707d168-a3e3-11e9-85c9-8c859025e7f9",
         "x": [
          -0.3,
          -0.25,
          -0.2,
          -0.15,
          -0.1,
          -0.05,
          0,
          0.05,
          0.1,
          0.15,
          0.2,
          0.25,
          0.3,
          0.35
         ],
         "xaxis": "x2",
         "y": [
          0.1614,
          0.1178,
          0.0808,
          0.0502,
          0.0313,
          0.0147,
          0,
          -0.0209,
          -0.032,
          -0.0357,
          -0.0338,
          -0.0136,
          0.0087,
          null
         ],
         "yaxis": "y2"
        },
        {
         "legendgroup": "chart (1, 2)",
         "name": "chart (1, 2) 20181213",
         "type": "scatter",
         "uid": "c7084c3a-a3e3-11e9-840c-8c859025e7f9",
         "x": [
          -0.3,
          -0.25,
          -0.2,
          -0.15,
          -0.1,
          -0.05,
          0,
          0.05,
          0.1,
          0.15,
          0.2,
          0.25,
          0.3,
          0.35
         ],
         "xaxis": "x2",
         "y": [
          0.1712,
          0.1264,
          0.0891,
          0.0587,
          0.0357,
          0.0185,
          0,
          -0.0163,
          -0.0295,
          -0.0338,
          -0.031,
          -0.0158,
          0.0116,
          null
         ],
         "yaxis": "y2"
        },
        {
         "legendgroup": "chart (1, 2)",
         "name": "chart (1, 2) 20181214",
         "type": "scatter",
         "uid": "c708bf1c-a3e3-11e9-840c-8c859025e7f9",
         "x": [
          -0.3,
          -0.25,
          -0.2,
          -0.15,
          -0.1,
          -0.05,
          0,
          0.05,
          0.1,
          0.15,
          0.2,
          0.25,
          0.3,
          0.35
         ],
         "xaxis": "x2",
         "y": [
          0.1569,
          0.116,
          0.0804,
          0.0483,
          0.0275,
          0.0113,
          0,
          -0.013,
          -0.0235,
          -0.0286,
          -0.0265,
          null,
          0.0078,
          null
         ],
         "yaxis": "y2"
        },
        {
         "legendgroup": "chart (2, 1)",
         "name": "chart (2, 1) 20181217",
         "type": "scatter",
         "uid": "c709bc1e-a3e3-11e9-ba32-8c859025e7f9",
         "x": [
          -0.3,
          -0.25,
          -0.2,
          -0.15,
          -0.1,
          -0.05,
          0,
          0.05,
          0.1,
          0.15,
          0.2,
          0.25,
          0.3,
          0.35
         ],
         "xaxis": "x3",
         "y": [
          0.1641,
          0.12,
          0.0867,
          0.0573,
          0.0351,
          0.0186,
          0,
          -0.0133,
          -0.0244,
          -0.028,
          -0.0244,
          -0.014,
          0.0069,
          0.0318
         ],
         "yaxis": "y3"
        },
        {
         "legendgroup": "chart (2, 1)",
         "name": "chart (2, 1) 20181218",
         "type": "scatter",
         "uid": "c70a1f7e-a3e3-11e9-b5bd-8c859025e7f9",
         "x": [
          -0.3,
          -0.25,
          -0.2,
          -0.15,
          -0.1,
          -0.05,
          0,
          0.05,
          0.1,
          0.15,
          0.2,
          0.25,
          0.3,
          0.35
         ],
         "xaxis": "x3",
         "y": [
          0.1463,
          0.109,
          0.0787,
          0.0542,
          0.0331,
          0.0148,
          0,
          -0.0222,
          -0.0376,
          -0.0481,
          -0.0526,
          -0.0535,
          -0.0418,
          -0.0339
         ],
         "yaxis": "y3"
        },
        {
         "legendgroup": "chart (2, 1)",
         "name": "chart (2, 1) 20181219",
         "type": "scatter",
         "uid": "c70a95da-a3e3-11e9-a0f5-8c859025e7f9",
         "x": [
          -0.3,
          -0.25,
          -0.2,
          -0.15,
          -0.1,
          -0.05,
          0,
          0.05,
          0.1,
          0.15,
          0.2,
          0.25,
          0.3,
          0.35
         ],
         "xaxis": "x3",
         "y": [
          0.1471,
          0.1018,
          0.0654,
          0.0396,
          0.0222,
          0.0091,
          0,
          -0.0133,
          -0.0215,
          -0.0239,
          -0.0207,
          -0.0161,
          -0.0048,
          0.0142
         ],
         "yaxis": "y3"
        },
        {
         "legendgroup": "chart (2, 1)",
         "name": "chart (2, 1) 20181220",
         "type": "scatter",
         "uid": "c70b02e2-a3e3-11e9-878f-8c859025e7f9",
         "x": [
          -0.3,
          -0.25,
          -0.2,
          -0.15,
          -0.1,
          -0.05,
          0,
          0.05,
          0.1,
          0.15,
          0.2,
          0.25,
          0.3,
          0.35
         ],
         "xaxis": "x3",
         "y": [
          0.1489,
          0.1029,
          0.0709,
          0.0462,
          0.0292,
          0.0168,
          0,
          -0.0094,
          -0.0203,
          -0.0249,
          -0.025,
          -0.0195,
          -0.0095,
          0.0027
         ],
         "yaxis": "y3"
        },
        {
         "legendgroup": "chart (2, 1)",
         "name": "chart (2, 1) 20181221",
         "type": "scatter",
         "uid": "c70b6712-a3e3-11e9-817e-8c859025e7f9",
         "x": [
          -0.3,
          -0.25,
          -0.2,
          -0.15,
          -0.1,
          -0.05,
          0,
          0.05,
          0.1,
          0.15,
          0.2,
          0.25,
          0.3,
          0.35
         ],
         "xaxis": "x3",
         "y": [
          0.1543,
          0.1109,
          0.075,
          0.0514,
          0.0319,
          0.0156,
          0,
          -0.0111,
          -0.0173,
          -0.0236,
          -0.0235,
          -0.0151,
          -0.0047,
          0.0142
         ],
         "yaxis": "y3"
        },
        {
         "legendgroup": "chart (2, 2)",
         "name": "chart (2, 2) 20181224",
         "type": "scatter",
         "uid": "c70c5674-a3e3-11e9-af53-8c859025e7f9",
         "x": [
          -0.3,
          -0.25,
          -0.2,
          -0.15,
          -0.1,
          -0.05,
          0,
          0.05,
          0.1,
          0.15,
          0.2,
          0.25,
          0.3,
          0.35
         ],
         "xaxis": "x4",
         "y": [
          null,
          0.0989,
          0.0681,
          0.0436,
          0.0239,
          0.008,
          0,
          -0.0181,
          -0.0239,
          -0.0279,
          -0.0253,
          -0.019,
          -0.0109,
          0.0051
         ],
         "yaxis": "y4"
        },
        {
         "legendgroup": "chart (2, 2)",
         "name": "chart (2, 2) 20181226",
         "type": "scatter",
         "uid": "c70cba74-a3e3-11e9-b4ba-8c859025e7f9",
         "x": [
          -0.3,
          -0.25,
          -0.2,
          -0.15,
          -0.1,
          -0.05,
          0,
          0.05,
          0.1,
          0.15,
          0.2,
          0.25,
          0.3,
          0.35
         ],
         "xaxis": "x4",
         "y": [
          0.138,
          0.0957,
          0.0608,
          0.0345,
          0.0205,
          0.0071,
          0,
          -0.0128,
          -0.0232,
          -0.0248,
          -0.0243,
          -0.0144,
          -0.0073,
          0.0099
         ],
         "yaxis": "y4"
        },
        {
         "legendgroup": "chart (2, 2)",
         "name": "chart (2, 2) 20181227",
         "type": "scatter",
         "uid": "c70d423a-a3e3-11e9-b8d7-8c859025e7f9",
         "x": [
          -0.3,
          -0.25,
          -0.2,
          -0.15,
          -0.1,
          -0.05,
          0,
          0.05,
          0.1,
          0.15,
          0.2,
          0.25,
          0.3,
          0.35
         ],
         "xaxis": "x4",
         "y": [
          0.1086,
          0.0781,
          0.0476,
          0.0262,
          0.0127,
          0.0041,
          0,
          -0.0118,
          -0.016,
          -0.021,
          -0.0216,
          -0.0163,
          -0.0104,
          0.0008
         ],
         "yaxis": "y4"
        },
        {
         "legendgroup": "chart (2, 2)",
         "name": "chart (2, 2) 20181228",
         "type": "scatter",
         "uid": "c70da798-a3e3-11e9-afca-8c859025e7f9",
         "x": [
          -0.3,
          -0.25,
          -0.2,
          -0.15,
          -0.1,
          -0.05,
          0,
          0.05,
          0.1,
          0.15,
          0.2,
          0.25,
          0.3,
          0.35
         ],
         "xaxis": "x4",
         "y": [
          0.0987,
          0.0674,
          0.0355,
          0.0168,
          0.0067,
          0.0017,
          0,
          -0.0095,
          -0.011,
          -0.0136,
          -0.0093,
          -0.0005,
          0.0108,
          0.0245
         ],
         "yaxis": "y4"
        }
       ],
       "layout": {
        "annotations": [
         {
          "font": {
           "size": 16
          },
          "showarrow": false,
          "text": "CBH19 20181203 - 20181207",
          "x": 0.2275,
          "xanchor": "center",
          "xref": "paper",
          "y": 1,
          "yanchor": "bottom",
          "yref": "paper"
         },
         {
          "font": {
           "size": 16
          },
          "showarrow": false,
          "text": "CBH19 20181210 - 20181214",
          "x": 0.7725,
          "xanchor": "center",
          "xref": "paper",
          "y": 1,
          "yanchor": "bottom",
          "yref": "paper"
         },
         {
          "font": {
           "size": 16
          },
          "showarrow": false,
          "text": "CBH19 20181217 - 20181221",
          "x": 0.2275,
          "xanchor": "center",
          "xref": "paper",
          "y": 0.445,
          "yanchor": "bottom",
          "yref": "paper"
         },
         {
          "font": {
           "size": 16
          },
          "showarrow": false,
          "text": "CBH19 20181224 - 20181228",
          "x": 0.7725,
          "xanchor": "center",
          "xref": "paper",
          "y": 0.445,
          "yanchor": "bottom",
          "yref": "paper"
         }
        ],
        "autosize": true,
        "bargap": 0.05,
        "font": {
         "family": "Open Sans, sans-serif"
        },
        "height": 800,
        "hovermode": "x",
        "margin": {
         "b": 55,
         "l": 45,
         "r": 15,
         "t": 50
        },
        "plot_bgcolor": "#EFECEA",
        "showlegend": true,
        "title": "Skew plots<br>",
        "width": 900,
        "xaxis": {
         "anchor": "y",
         "domain": [
          0,
          0.455
         ],
         "tickangle": 45,
         "ticktext": [
          -0.3,
          -0.25,
          -0.2,
          -0.15,
          -0.1,
          -0.05,
          0,
          0.05,
          0.1,
          0.15,
          0.2,
          0.25,
          0.3,
          0.35
         ],
         "tickvals": [
          -0.3,
          -0.25,
          -0.2,
          -0.15,
          -0.1,
          -0.05,
          0,
          0.05,
          0.1,
          0.15,
          0.2,
          0.25,
          0.3,
          0.35
         ],
         "type": "category"
        },
        "xaxis2": {
         "anchor": "y2",
         "domain": [
          0.545,
          1
         ],
         "tickangle": 45,
         "ticktext": [
          -0.3,
          -0.25,
          -0.2,
          -0.15,
          -0.1,
          -0.05,
          0,
          0.05,
          0.1,
          0.15,
          0.2,
          0.25,
          0.3,
          0.35
         ],
         "tickvals": [
          -0.3,
          -0.25,
          -0.2,
          -0.15,
          -0.1,
          -0.05,
          0,
          0.05,
          0.1,
          0.15,
          0.2,
          0.25,
          0.3,
          0.35
         ],
         "type": "category"
        },
        "xaxis3": {
         "anchor": "y3",
         "domain": [
          0,
          0.455
         ],
         "tickangle": 45,
         "ticktext": [
          -0.3,
          -0.25,
          -0.2,
          -0.15,
          -0.1,
          -0.05,
          0,
          0.05,
          0.1,
          0.15,
          0.2,
          0.25,
          0.3,
          0.35
         ],
         "tickvals": [
          -0.3,
          -0.25,
          -0.2,
          -0.15,
          -0.1,
          -0.05,
          0,
          0.05,
          0.1,
          0.15,
          0.2,
          0.25,
          0.3,
          0.35
         ],
         "type": "category"
        },
        "xaxis4": {
         "anchor": "y4",
         "domain": [
          0.545,
          1
         ],
         "tickangle": 45,
         "ticktext": [
          -0.3,
          -0.25,
          -0.2,
          -0.15,
          -0.1,
          -0.05,
          0,
          0.05,
          0.1,
          0.15,
          0.2,
          0.25,
          0.3,
          0.35
         ],
         "tickvals": [
          -0.3,
          -0.25,
          -0.2,
          -0.15,
          -0.1,
          -0.05,
          0,
          0.05,
          0.1,
          0.15,
          0.2,
          0.25,
          0.3,
          0.35
         ],
         "type": "category"
        },
        "yaxis": {
         "anchor": "x",
         "domain": [
          0.555,
          1
         ],
         "title": "vol skew"
        },
        "yaxis2": {
         "anchor": "x2",
         "domain": [
          0.555,
          1
         ],
         "title": "vol skew"
        },
        "yaxis3": {
         "anchor": "x3",
         "domain": [
          0,
          0.445
         ],
         "title": "vol skew"
        },
        "yaxis4": {
         "anchor": "x4",
         "domain": [
          0,
          0.445
         ],
         "title": "vol skew"
        }
       }
      },
      "text/html": [
       "<div id=\"1b731acc-1e18-4640-9428-230f80eead92\" style=\"height: 800px; width: 900px;\" class=\"plotly-graph-div\"></div><script type=\"text/javascript\">require([\"plotly\"], function(Plotly) { window.PLOTLYENV=window.PLOTLYENV || {};window.PLOTLYENV.BASE_URL=\"https://plot.ly\";Plotly.newPlot(\"1b731acc-1e18-4640-9428-230f80eead92\", [{\"legendgroup\": \"chart (1, 1)\", \"name\": \"chart (1, 1) 20181203\", \"uid\": \"c7043c62-a3e3-11e9-b454-8c859025e7f9\", \"x\": [-0.3, -0.25, -0.2, -0.15, -0.1, -0.05, 0.0, 0.05, 0.1, 0.15, 0.2, 0.25, 0.3, 0.35], \"y\": [0.1104, 0.0832, 0.0594, 0.0408, 0.0282, 0.0141, 0.0, -0.0173, -0.03, -0.0425, -0.0486, -0.0504, -0.045, null], \"yaxis\": \"y\", \"type\": \"scatter\", \"xaxis\": \"x\"}, {\"legendgroup\": \"chart (1, 1)\", \"name\": \"chart (1, 1) 20181204\", \"uid\": \"c704a940-a3e3-11e9-ae89-8c859025e7f9\", \"x\": [-0.3, -0.25, -0.2, -0.15, -0.1, -0.05, 0.0, 0.05, 0.1, 0.15, 0.2, 0.25, 0.3, 0.35], \"y\": [0.1327, 0.1053, 0.0776, 0.0561, 0.0363, 0.0178, 0.0, -0.0223, -0.0379, -0.0514, -0.061, -0.0637, -0.0549, null], \"yaxis\": \"y\", \"type\": \"scatter\", \"xaxis\": \"x\"}, {\"legendgroup\": \"chart (1, 1)\", \"name\": \"chart (1, 1) 20181205\", \"uid\": \"c7051038-a3e3-11e9-b133-8c859025e7f9\", \"x\": [-0.3, -0.25, -0.2, -0.15, -0.1, -0.05, 0.0, 0.05, 0.1, 0.15, 0.2, 0.25, 0.3, 0.35], \"y\": [0.1599, 0.1258, 0.096, 0.0694, 0.045, 0.0227, 0.0, -0.0252, -0.0436, -0.0613, -0.0731, null, -0.0664, null], \"yaxis\": \"y\", \"type\": \"scatter\", \"xaxis\": \"x\"}, {\"legendgroup\": \"chart (1, 1)\", \"name\": \"chart (1, 1) 20181206\", \"uid\": \"c7057186-a3e3-11e9-93ef-8c859025e7f9\", \"x\": [-0.3, -0.25, -0.2, -0.15, -0.1, -0.05, 0.0, 0.05, 0.1, 0.15, 0.2, 0.25, 0.3, 0.35], \"y\": [0.1391, 0.1076, 0.0814, 0.0595, 0.0415, 0.0218, 0.0, -0.0245, -0.0429, -0.0593, -0.0687, -0.0703, -0.0648, null], \"yaxis\": \"y\", \"type\": \"scatter\", \"xaxis\": \"x\"}, {\"legendgroup\": \"chart (1, 1)\", \"name\": \"chart (1, 1) 20181207\", \"uid\": \"c70602fe-a3e3-11e9-9fb2-8c859025e7f9\", \"x\": [-0.3, -0.25, -0.2, -0.15, -0.1, -0.05, 0.0, 0.05, 0.1, 0.15, 0.2, 0.25, 0.3, 0.35], \"y\": [0.1512, 0.1128, 0.0824, 0.0564, 0.036, 0.0179, 0.0, -0.0174, -0.0316, -0.0422, -0.0418, -0.0333, -0.0117, null], \"yaxis\": \"y\", \"type\": \"scatter\", \"xaxis\": \"x\"}, {\"legendgroup\": \"chart (1, 2)\", \"name\": \"chart (1, 2) 20181210\", \"uid\": \"c706f9de-a3e3-11e9-8ee1-8c859025e7f9\", \"x\": [-0.3, -0.25, -0.2, -0.15, -0.1, -0.05, 0.0, 0.05, 0.1, 0.15, 0.2, 0.25, 0.3, 0.35], \"y\": [0.1538, 0.1138, 0.082, 0.0562, 0.0364, 0.0201, 0.0, -0.0197, -0.0361, -0.0489, -0.0535, -0.0498, -0.0347, null], \"yaxis\": \"y2\", \"type\": \"scatter\", \"xaxis\": \"x2\"}, {\"legendgroup\": \"chart (1, 2)\", \"name\": \"chart (1, 2) 20181211\", \"uid\": \"c7076662-a3e3-11e9-b671-8c859025e7f9\", \"x\": [-0.3, -0.25, -0.2, -0.15, -0.1, -0.05, 0.0, 0.05, 0.1, 0.15, 0.2, 0.25, 0.3, 0.35], \"y\": [0.1486, 0.1112, 0.0766, 0.05, 0.0324, 0.0161, 0.0, -0.0193, -0.0316, -0.0392, -0.0386, -0.0281, -0.0119, null], \"yaxis\": \"y2\", \"type\": \"scatter\", \"xaxis\": \"x2\"}, {\"legendgroup\": \"chart (1, 2)\", \"name\": \"chart (1, 2) 20181212\", \"uid\": \"c707d168-a3e3-11e9-85c9-8c859025e7f9\", \"x\": [-0.3, -0.25, -0.2, -0.15, -0.1, -0.05, 0.0, 0.05, 0.1, 0.15, 0.2, 0.25, 0.3, 0.35], \"y\": [0.1614, 0.1178, 0.0808, 0.0502, 0.0313, 0.0147, 0.0, -0.0209, -0.032, -0.0357, -0.0338, -0.0136, 0.0087, null], \"yaxis\": \"y2\", \"type\": \"scatter\", \"xaxis\": \"x2\"}, {\"legendgroup\": \"chart (1, 2)\", \"name\": \"chart (1, 2) 20181213\", \"uid\": \"c7084c3a-a3e3-11e9-840c-8c859025e7f9\", \"x\": [-0.3, -0.25, -0.2, -0.15, -0.1, -0.05, 0.0, 0.05, 0.1, 0.15, 0.2, 0.25, 0.3, 0.35], \"y\": [0.1712, 0.1264, 0.0891, 0.0587, 0.0357, 0.0185, 0.0, -0.0163, -0.0295, -0.0338, -0.031, -0.0158, 0.0116, null], \"yaxis\": \"y2\", \"type\": \"scatter\", \"xaxis\": \"x2\"}, {\"legendgroup\": \"chart (1, 2)\", \"name\": \"chart (1, 2) 20181214\", \"uid\": \"c708bf1c-a3e3-11e9-840c-8c859025e7f9\", \"x\": [-0.3, -0.25, -0.2, -0.15, -0.1, -0.05, 0.0, 0.05, 0.1, 0.15, 0.2, 0.25, 0.3, 0.35], \"y\": [0.1569, 0.116, 0.0804, 0.0483, 0.0275, 0.0113, 0.0, -0.013, -0.0235, -0.0286, -0.0265, null, 0.0078, null], \"yaxis\": \"y2\", \"type\": \"scatter\", \"xaxis\": \"x2\"}, {\"legendgroup\": \"chart (2, 1)\", \"name\": \"chart (2, 1) 20181217\", \"uid\": \"c709bc1e-a3e3-11e9-ba32-8c859025e7f9\", \"x\": [-0.3, -0.25, -0.2, -0.15, -0.1, -0.05, 0.0, 0.05, 0.1, 0.15, 0.2, 0.25, 0.3, 0.35], \"y\": [0.1641, 0.12, 0.0867, 0.0573, 0.0351, 0.0186, 0.0, -0.0133, -0.0244, -0.028, -0.0244, -0.014, 0.0069, 0.0318], \"yaxis\": \"y3\", \"type\": \"scatter\", \"xaxis\": \"x3\"}, {\"legendgroup\": \"chart (2, 1)\", \"name\": \"chart (2, 1) 20181218\", \"uid\": \"c70a1f7e-a3e3-11e9-b5bd-8c859025e7f9\", \"x\": [-0.3, -0.25, -0.2, -0.15, -0.1, -0.05, 0.0, 0.05, 0.1, 0.15, 0.2, 0.25, 0.3, 0.35], \"y\": [0.1463, 0.109, 0.0787, 0.0542, 0.0331, 0.0148, 0.0, -0.0222, -0.0376, -0.0481, -0.0526, -0.0535, -0.0418, -0.0339], \"yaxis\": \"y3\", \"type\": \"scatter\", \"xaxis\": \"x3\"}, {\"legendgroup\": \"chart (2, 1)\", \"name\": \"chart (2, 1) 20181219\", \"uid\": \"c70a95da-a3e3-11e9-a0f5-8c859025e7f9\", \"x\": [-0.3, -0.25, -0.2, -0.15, -0.1, -0.05, 0.0, 0.05, 0.1, 0.15, 0.2, 0.25, 0.3, 0.35], \"y\": [0.1471, 0.1018, 0.0654, 0.0396, 0.0222, 0.0091, 0.0, -0.0133, -0.0215, -0.0239, -0.0207, -0.0161, -0.0048, 0.0142], \"yaxis\": \"y3\", \"type\": \"scatter\", \"xaxis\": \"x3\"}, {\"legendgroup\": \"chart (2, 1)\", \"name\": \"chart (2, 1) 20181220\", \"uid\": \"c70b02e2-a3e3-11e9-878f-8c859025e7f9\", \"x\": [-0.3, -0.25, -0.2, -0.15, -0.1, -0.05, 0.0, 0.05, 0.1, 0.15, 0.2, 0.25, 0.3, 0.35], \"y\": [0.1489, 0.1029, 0.0709, 0.0462, 0.0292, 0.0168, 0.0, -0.0094, -0.0203, -0.0249, -0.025, -0.0195, -0.0095, 0.0027], \"yaxis\": \"y3\", \"type\": \"scatter\", \"xaxis\": \"x3\"}, {\"legendgroup\": \"chart (2, 1)\", \"name\": \"chart (2, 1) 20181221\", \"uid\": \"c70b6712-a3e3-11e9-817e-8c859025e7f9\", \"x\": [-0.3, -0.25, -0.2, -0.15, -0.1, -0.05, 0.0, 0.05, 0.1, 0.15, 0.2, 0.25, 0.3, 0.35], \"y\": [0.1543, 0.1109, 0.075, 0.0514, 0.0319, 0.0156, 0.0, -0.0111, -0.0173, -0.0236, -0.0235, -0.0151, -0.0047, 0.0142], \"yaxis\": \"y3\", \"type\": \"scatter\", \"xaxis\": \"x3\"}, {\"legendgroup\": \"chart (2, 2)\", \"name\": \"chart (2, 2) 20181224\", \"uid\": \"c70c5674-a3e3-11e9-af53-8c859025e7f9\", \"x\": [-0.3, -0.25, -0.2, -0.15, -0.1, -0.05, 0.0, 0.05, 0.1, 0.15, 0.2, 0.25, 0.3, 0.35], \"y\": [null, 0.0989, 0.0681, 0.0436, 0.0239, 0.008, 0.0, -0.0181, -0.0239, -0.0279, -0.0253, -0.019, -0.0109, 0.0051], \"yaxis\": \"y4\", \"type\": \"scatter\", \"xaxis\": \"x4\"}, {\"legendgroup\": \"chart (2, 2)\", \"name\": \"chart (2, 2) 20181226\", \"uid\": \"c70cba74-a3e3-11e9-b4ba-8c859025e7f9\", \"x\": [-0.3, -0.25, -0.2, -0.15, -0.1, -0.05, 0.0, 0.05, 0.1, 0.15, 0.2, 0.25, 0.3, 0.35], \"y\": [0.138, 0.0957, 0.0608, 0.0345, 0.0205, 0.0071, 0.0, -0.0128, -0.0232, -0.0248, -0.0243, -0.0144, -0.0073, 0.0099], \"yaxis\": \"y4\", \"type\": \"scatter\", \"xaxis\": \"x4\"}, {\"legendgroup\": \"chart (2, 2)\", \"name\": \"chart (2, 2) 20181227\", \"uid\": \"c70d423a-a3e3-11e9-b8d7-8c859025e7f9\", \"x\": [-0.3, -0.25, -0.2, -0.15, -0.1, -0.05, 0.0, 0.05, 0.1, 0.15, 0.2, 0.25, 0.3, 0.35], \"y\": [0.1086, 0.0781, 0.0476, 0.0262, 0.0127, 0.0041, 0.0, -0.0118, -0.016, -0.021, -0.0216, -0.0163, -0.0104, 0.0008], \"yaxis\": \"y4\", \"type\": \"scatter\", \"xaxis\": \"x4\"}, {\"legendgroup\": \"chart (2, 2)\", \"name\": \"chart (2, 2) 20181228\", \"uid\": \"c70da798-a3e3-11e9-afca-8c859025e7f9\", \"x\": [-0.3, -0.25, -0.2, -0.15, -0.1, -0.05, 0.0, 0.05, 0.1, 0.15, 0.2, 0.25, 0.3, 0.35], \"y\": [0.0987, 0.0674, 0.0355, 0.0168, 0.0067, 0.0017, 0.0, -0.0095, -0.011, -0.0136, -0.0093, -0.0005, 0.0108, 0.0245], \"yaxis\": \"y4\", \"type\": \"scatter\", \"xaxis\": \"x4\"}], {\"annotations\": [{\"font\": {\"size\": 16}, \"showarrow\": false, \"text\": \"CBH19 20181203 - 20181207\", \"x\": 0.2275, \"xanchor\": \"center\", \"xref\": \"paper\", \"y\": 1.0, \"yanchor\": \"bottom\", \"yref\": \"paper\"}, {\"font\": {\"size\": 16}, \"showarrow\": false, \"text\": \"CBH19 20181210 - 20181214\", \"x\": 0.7725, \"xanchor\": \"center\", \"xref\": \"paper\", \"y\": 1.0, \"yanchor\": \"bottom\", \"yref\": \"paper\"}, {\"font\": {\"size\": 16}, \"showarrow\": false, \"text\": \"CBH19 20181217 - 20181221\", \"x\": 0.2275, \"xanchor\": \"center\", \"xref\": \"paper\", \"y\": 0.445, \"yanchor\": \"bottom\", \"yref\": \"paper\"}, {\"font\": {\"size\": 16}, \"showarrow\": false, \"text\": \"CBH19 20181224 - 20181228\", \"x\": 0.7725, \"xanchor\": \"center\", \"xref\": \"paper\", \"y\": 0.445, \"yanchor\": \"bottom\", \"yref\": \"paper\"}], \"xaxis\": {\"anchor\": \"y\", \"domain\": [0.0, 0.455], \"tickangle\": 45, \"ticktext\": [-0.3, -0.25, -0.2, -0.15, -0.1, -0.05, 0.0, 0.05, 0.1, 0.15, 0.2, 0.25, 0.3, 0.35], \"tickvals\": [-0.3, -0.25, -0.2, -0.15, -0.1, -0.05, 0.0, 0.05, 0.1, 0.15, 0.2, 0.25, 0.3, 0.35], \"type\": \"category\"}, \"yaxis\": {\"anchor\": \"x\", \"domain\": [0.555, 1.0], \"title\": \"vol skew\"}, \"xaxis2\": {\"anchor\": \"y2\", \"domain\": [0.545, 1.0], \"tickangle\": 45, \"ticktext\": [-0.3, -0.25, -0.2, -0.15, -0.1, -0.05, 0.0, 0.05, 0.1, 0.15, 0.2, 0.25, 0.3, 0.35], \"tickvals\": [-0.3, -0.25, -0.2, -0.15, -0.1, -0.05, 0.0, 0.05, 0.1, 0.15, 0.2, 0.25, 0.3, 0.35], \"type\": \"category\"}, \"yaxis2\": {\"anchor\": \"x2\", \"domain\": [0.555, 1.0], \"title\": \"vol skew\"}, \"xaxis3\": {\"anchor\": \"y3\", \"domain\": [0.0, 0.455], \"tickangle\": 45, \"ticktext\": [-0.3, -0.25, -0.2, -0.15, -0.1, -0.05, 0.0, 0.05, 0.1, 0.15, 0.2, 0.25, 0.3, 0.35], \"tickvals\": [-0.3, -0.25, -0.2, -0.15, -0.1, -0.05, 0.0, 0.05, 0.1, 0.15, 0.2, 0.25, 0.3, 0.35], \"type\": \"category\"}, \"yaxis3\": {\"anchor\": \"x3\", \"domain\": [0.0, 0.445], \"title\": \"vol skew\"}, \"xaxis4\": {\"anchor\": \"y4\", \"domain\": [0.545, 1.0], \"tickangle\": 45, \"ticktext\": [-0.3, -0.25, -0.2, -0.15, -0.1, -0.05, 0.0, 0.05, 0.1, 0.15, 0.2, 0.25, 0.3, 0.35], \"tickvals\": [-0.3, -0.25, -0.2, -0.15, -0.1, -0.05, 0.0, 0.05, 0.1, 0.15, 0.2, 0.25, 0.3, 0.35], \"type\": \"category\"}, \"yaxis4\": {\"anchor\": \"x4\", \"domain\": [0.0, 0.445], \"title\": \"vol skew\"}, \"font\": {\"family\": \"Open Sans, sans-serif\"}, \"margin\": {\"b\": 55, \"l\": 45, \"r\": 15, \"t\": 50}, \"title\": \"Skew plots<br>\", \"showlegend\": true, \"hovermode\": \"x\", \"autosize\": true, \"width\": 900, \"height\": 800, \"plot_bgcolor\": \"#EFECEA\", \"bargap\": 0.05}, {\"showLink\": true, \"linkText\": \"Export to plot.ly\"})});</script>"
      ],
      "text/vnd.plotly.v1+html": [
       "<div id=\"1b731acc-1e18-4640-9428-230f80eead92\" style=\"height: 800px; width: 900px;\" class=\"plotly-graph-div\"></div><script type=\"text/javascript\">require([\"plotly\"], function(Plotly) { window.PLOTLYENV=window.PLOTLYENV || {};window.PLOTLYENV.BASE_URL=\"https://plot.ly\";Plotly.newPlot(\"1b731acc-1e18-4640-9428-230f80eead92\", [{\"legendgroup\": \"chart (1, 1)\", \"name\": \"chart (1, 1) 20181203\", \"uid\": \"c7043c62-a3e3-11e9-b454-8c859025e7f9\", \"x\": [-0.3, -0.25, -0.2, -0.15, -0.1, -0.05, 0.0, 0.05, 0.1, 0.15, 0.2, 0.25, 0.3, 0.35], \"y\": [0.1104, 0.0832, 0.0594, 0.0408, 0.0282, 0.0141, 0.0, -0.0173, -0.03, -0.0425, -0.0486, -0.0504, -0.045, null], \"yaxis\": \"y\", \"type\": \"scatter\", \"xaxis\": \"x\"}, {\"legendgroup\": \"chart (1, 1)\", \"name\": \"chart (1, 1) 20181204\", \"uid\": \"c704a940-a3e3-11e9-ae89-8c859025e7f9\", \"x\": [-0.3, -0.25, -0.2, -0.15, -0.1, -0.05, 0.0, 0.05, 0.1, 0.15, 0.2, 0.25, 0.3, 0.35], \"y\": [0.1327, 0.1053, 0.0776, 0.0561, 0.0363, 0.0178, 0.0, -0.0223, -0.0379, -0.0514, -0.061, -0.0637, -0.0549, null], \"yaxis\": \"y\", \"type\": \"scatter\", \"xaxis\": \"x\"}, {\"legendgroup\": \"chart (1, 1)\", \"name\": \"chart (1, 1) 20181205\", \"uid\": \"c7051038-a3e3-11e9-b133-8c859025e7f9\", \"x\": [-0.3, -0.25, -0.2, -0.15, -0.1, -0.05, 0.0, 0.05, 0.1, 0.15, 0.2, 0.25, 0.3, 0.35], \"y\": [0.1599, 0.1258, 0.096, 0.0694, 0.045, 0.0227, 0.0, -0.0252, -0.0436, -0.0613, -0.0731, null, -0.0664, null], \"yaxis\": \"y\", \"type\": \"scatter\", \"xaxis\": \"x\"}, {\"legendgroup\": \"chart (1, 1)\", \"name\": \"chart (1, 1) 20181206\", \"uid\": \"c7057186-a3e3-11e9-93ef-8c859025e7f9\", \"x\": [-0.3, -0.25, -0.2, -0.15, -0.1, -0.05, 0.0, 0.05, 0.1, 0.15, 0.2, 0.25, 0.3, 0.35], \"y\": [0.1391, 0.1076, 0.0814, 0.0595, 0.0415, 0.0218, 0.0, -0.0245, -0.0429, -0.0593, -0.0687, -0.0703, -0.0648, null], \"yaxis\": \"y\", \"type\": \"scatter\", \"xaxis\": \"x\"}, {\"legendgroup\": \"chart (1, 1)\", \"name\": \"chart (1, 1) 20181207\", \"uid\": \"c70602fe-a3e3-11e9-9fb2-8c859025e7f9\", \"x\": [-0.3, -0.25, -0.2, -0.15, -0.1, -0.05, 0.0, 0.05, 0.1, 0.15, 0.2, 0.25, 0.3, 0.35], \"y\": [0.1512, 0.1128, 0.0824, 0.0564, 0.036, 0.0179, 0.0, -0.0174, -0.0316, -0.0422, -0.0418, -0.0333, -0.0117, null], \"yaxis\": \"y\", \"type\": \"scatter\", \"xaxis\": \"x\"}, {\"legendgroup\": \"chart (1, 2)\", \"name\": \"chart (1, 2) 20181210\", \"uid\": \"c706f9de-a3e3-11e9-8ee1-8c859025e7f9\", \"x\": [-0.3, -0.25, -0.2, -0.15, -0.1, -0.05, 0.0, 0.05, 0.1, 0.15, 0.2, 0.25, 0.3, 0.35], \"y\": [0.1538, 0.1138, 0.082, 0.0562, 0.0364, 0.0201, 0.0, -0.0197, -0.0361, -0.0489, -0.0535, -0.0498, -0.0347, null], \"yaxis\": \"y2\", \"type\": \"scatter\", \"xaxis\": \"x2\"}, {\"legendgroup\": \"chart (1, 2)\", \"name\": \"chart (1, 2) 20181211\", \"uid\": \"c7076662-a3e3-11e9-b671-8c859025e7f9\", \"x\": [-0.3, -0.25, -0.2, -0.15, -0.1, -0.05, 0.0, 0.05, 0.1, 0.15, 0.2, 0.25, 0.3, 0.35], \"y\": [0.1486, 0.1112, 0.0766, 0.05, 0.0324, 0.0161, 0.0, -0.0193, -0.0316, -0.0392, -0.0386, -0.0281, -0.0119, null], \"yaxis\": \"y2\", \"type\": \"scatter\", \"xaxis\": \"x2\"}, {\"legendgroup\": \"chart (1, 2)\", \"name\": \"chart (1, 2) 20181212\", \"uid\": \"c707d168-a3e3-11e9-85c9-8c859025e7f9\", \"x\": [-0.3, -0.25, -0.2, -0.15, -0.1, -0.05, 0.0, 0.05, 0.1, 0.15, 0.2, 0.25, 0.3, 0.35], \"y\": [0.1614, 0.1178, 0.0808, 0.0502, 0.0313, 0.0147, 0.0, -0.0209, -0.032, -0.0357, -0.0338, -0.0136, 0.0087, null], \"yaxis\": \"y2\", \"type\": \"scatter\", \"xaxis\": \"x2\"}, {\"legendgroup\": \"chart (1, 2)\", \"name\": \"chart (1, 2) 20181213\", \"uid\": \"c7084c3a-a3e3-11e9-840c-8c859025e7f9\", \"x\": [-0.3, -0.25, -0.2, -0.15, -0.1, -0.05, 0.0, 0.05, 0.1, 0.15, 0.2, 0.25, 0.3, 0.35], \"y\": [0.1712, 0.1264, 0.0891, 0.0587, 0.0357, 0.0185, 0.0, -0.0163, -0.0295, -0.0338, -0.031, -0.0158, 0.0116, null], \"yaxis\": \"y2\", \"type\": \"scatter\", \"xaxis\": \"x2\"}, {\"legendgroup\": \"chart (1, 2)\", \"name\": \"chart (1, 2) 20181214\", \"uid\": \"c708bf1c-a3e3-11e9-840c-8c859025e7f9\", \"x\": [-0.3, -0.25, -0.2, -0.15, -0.1, -0.05, 0.0, 0.05, 0.1, 0.15, 0.2, 0.25, 0.3, 0.35], \"y\": [0.1569, 0.116, 0.0804, 0.0483, 0.0275, 0.0113, 0.0, -0.013, -0.0235, -0.0286, -0.0265, null, 0.0078, null], \"yaxis\": \"y2\", \"type\": \"scatter\", \"xaxis\": \"x2\"}, {\"legendgroup\": \"chart (2, 1)\", \"name\": \"chart (2, 1) 20181217\", \"uid\": \"c709bc1e-a3e3-11e9-ba32-8c859025e7f9\", \"x\": [-0.3, -0.25, -0.2, -0.15, -0.1, -0.05, 0.0, 0.05, 0.1, 0.15, 0.2, 0.25, 0.3, 0.35], \"y\": [0.1641, 0.12, 0.0867, 0.0573, 0.0351, 0.0186, 0.0, -0.0133, -0.0244, -0.028, -0.0244, -0.014, 0.0069, 0.0318], \"yaxis\": \"y3\", \"type\": \"scatter\", \"xaxis\": \"x3\"}, {\"legendgroup\": \"chart (2, 1)\", \"name\": \"chart (2, 1) 20181218\", \"uid\": \"c70a1f7e-a3e3-11e9-b5bd-8c859025e7f9\", \"x\": [-0.3, -0.25, -0.2, -0.15, -0.1, -0.05, 0.0, 0.05, 0.1, 0.15, 0.2, 0.25, 0.3, 0.35], \"y\": [0.1463, 0.109, 0.0787, 0.0542, 0.0331, 0.0148, 0.0, -0.0222, -0.0376, -0.0481, -0.0526, -0.0535, -0.0418, -0.0339], \"yaxis\": \"y3\", \"type\": \"scatter\", \"xaxis\": \"x3\"}, {\"legendgroup\": \"chart (2, 1)\", \"name\": \"chart (2, 1) 20181219\", \"uid\": \"c70a95da-a3e3-11e9-a0f5-8c859025e7f9\", \"x\": [-0.3, -0.25, -0.2, -0.15, -0.1, -0.05, 0.0, 0.05, 0.1, 0.15, 0.2, 0.25, 0.3, 0.35], \"y\": [0.1471, 0.1018, 0.0654, 0.0396, 0.0222, 0.0091, 0.0, -0.0133, -0.0215, -0.0239, -0.0207, -0.0161, -0.0048, 0.0142], \"yaxis\": \"y3\", \"type\": \"scatter\", \"xaxis\": \"x3\"}, {\"legendgroup\": \"chart (2, 1)\", \"name\": \"chart (2, 1) 20181220\", \"uid\": \"c70b02e2-a3e3-11e9-878f-8c859025e7f9\", \"x\": [-0.3, -0.25, -0.2, -0.15, -0.1, -0.05, 0.0, 0.05, 0.1, 0.15, 0.2, 0.25, 0.3, 0.35], \"y\": [0.1489, 0.1029, 0.0709, 0.0462, 0.0292, 0.0168, 0.0, -0.0094, -0.0203, -0.0249, -0.025, -0.0195, -0.0095, 0.0027], \"yaxis\": \"y3\", \"type\": \"scatter\", \"xaxis\": \"x3\"}, {\"legendgroup\": \"chart (2, 1)\", \"name\": \"chart (2, 1) 20181221\", \"uid\": \"c70b6712-a3e3-11e9-817e-8c859025e7f9\", \"x\": [-0.3, -0.25, -0.2, -0.15, -0.1, -0.05, 0.0, 0.05, 0.1, 0.15, 0.2, 0.25, 0.3, 0.35], \"y\": [0.1543, 0.1109, 0.075, 0.0514, 0.0319, 0.0156, 0.0, -0.0111, -0.0173, -0.0236, -0.0235, -0.0151, -0.0047, 0.0142], \"yaxis\": \"y3\", \"type\": \"scatter\", \"xaxis\": \"x3\"}, {\"legendgroup\": \"chart (2, 2)\", \"name\": \"chart (2, 2) 20181224\", \"uid\": \"c70c5674-a3e3-11e9-af53-8c859025e7f9\", \"x\": [-0.3, -0.25, -0.2, -0.15, -0.1, -0.05, 0.0, 0.05, 0.1, 0.15, 0.2, 0.25, 0.3, 0.35], \"y\": [null, 0.0989, 0.0681, 0.0436, 0.0239, 0.008, 0.0, -0.0181, -0.0239, -0.0279, -0.0253, -0.019, -0.0109, 0.0051], \"yaxis\": \"y4\", \"type\": \"scatter\", \"xaxis\": \"x4\"}, {\"legendgroup\": \"chart (2, 2)\", \"name\": \"chart (2, 2) 20181226\", \"uid\": \"c70cba74-a3e3-11e9-b4ba-8c859025e7f9\", \"x\": [-0.3, -0.25, -0.2, -0.15, -0.1, -0.05, 0.0, 0.05, 0.1, 0.15, 0.2, 0.25, 0.3, 0.35], \"y\": [0.138, 0.0957, 0.0608, 0.0345, 0.0205, 0.0071, 0.0, -0.0128, -0.0232, -0.0248, -0.0243, -0.0144, -0.0073, 0.0099], \"yaxis\": \"y4\", \"type\": \"scatter\", \"xaxis\": \"x4\"}, {\"legendgroup\": \"chart (2, 2)\", \"name\": \"chart (2, 2) 20181227\", \"uid\": \"c70d423a-a3e3-11e9-b8d7-8c859025e7f9\", \"x\": [-0.3, -0.25, -0.2, -0.15, -0.1, -0.05, 0.0, 0.05, 0.1, 0.15, 0.2, 0.25, 0.3, 0.35], \"y\": [0.1086, 0.0781, 0.0476, 0.0262, 0.0127, 0.0041, 0.0, -0.0118, -0.016, -0.021, -0.0216, -0.0163, -0.0104, 0.0008], \"yaxis\": \"y4\", \"type\": \"scatter\", \"xaxis\": \"x4\"}, {\"legendgroup\": \"chart (2, 2)\", \"name\": \"chart (2, 2) 20181228\", \"uid\": \"c70da798-a3e3-11e9-afca-8c859025e7f9\", \"x\": [-0.3, -0.25, -0.2, -0.15, -0.1, -0.05, 0.0, 0.05, 0.1, 0.15, 0.2, 0.25, 0.3, 0.35], \"y\": [0.0987, 0.0674, 0.0355, 0.0168, 0.0067, 0.0017, 0.0, -0.0095, -0.011, -0.0136, -0.0093, -0.0005, 0.0108, 0.0245], \"yaxis\": \"y4\", \"type\": \"scatter\", \"xaxis\": \"x4\"}], {\"annotations\": [{\"font\": {\"size\": 16}, \"showarrow\": false, \"text\": \"CBH19 20181203 - 20181207\", \"x\": 0.2275, \"xanchor\": \"center\", \"xref\": \"paper\", \"y\": 1.0, \"yanchor\": \"bottom\", \"yref\": \"paper\"}, {\"font\": {\"size\": 16}, \"showarrow\": false, \"text\": \"CBH19 20181210 - 20181214\", \"x\": 0.7725, \"xanchor\": \"center\", \"xref\": \"paper\", \"y\": 1.0, \"yanchor\": \"bottom\", \"yref\": \"paper\"}, {\"font\": {\"size\": 16}, \"showarrow\": false, \"text\": \"CBH19 20181217 - 20181221\", \"x\": 0.2275, \"xanchor\": \"center\", \"xref\": \"paper\", \"y\": 0.445, \"yanchor\": \"bottom\", \"yref\": \"paper\"}, {\"font\": {\"size\": 16}, \"showarrow\": false, \"text\": \"CBH19 20181224 - 20181228\", \"x\": 0.7725, \"xanchor\": \"center\", \"xref\": \"paper\", \"y\": 0.445, \"yanchor\": \"bottom\", \"yref\": \"paper\"}], \"xaxis\": {\"anchor\": \"y\", \"domain\": [0.0, 0.455], \"tickangle\": 45, \"ticktext\": [-0.3, -0.25, -0.2, -0.15, -0.1, -0.05, 0.0, 0.05, 0.1, 0.15, 0.2, 0.25, 0.3, 0.35], \"tickvals\": [-0.3, -0.25, -0.2, -0.15, -0.1, -0.05, 0.0, 0.05, 0.1, 0.15, 0.2, 0.25, 0.3, 0.35], \"type\": \"category\"}, \"yaxis\": {\"anchor\": \"x\", \"domain\": [0.555, 1.0], \"title\": \"vol skew\"}, \"xaxis2\": {\"anchor\": \"y2\", \"domain\": [0.545, 1.0], \"tickangle\": 45, \"ticktext\": [-0.3, -0.25, -0.2, -0.15, -0.1, -0.05, 0.0, 0.05, 0.1, 0.15, 0.2, 0.25, 0.3, 0.35], \"tickvals\": [-0.3, -0.25, -0.2, -0.15, -0.1, -0.05, 0.0, 0.05, 0.1, 0.15, 0.2, 0.25, 0.3, 0.35], \"type\": \"category\"}, \"yaxis2\": {\"anchor\": \"x2\", \"domain\": [0.555, 1.0], \"title\": \"vol skew\"}, \"xaxis3\": {\"anchor\": \"y3\", \"domain\": [0.0, 0.455], \"tickangle\": 45, \"ticktext\": [-0.3, -0.25, -0.2, -0.15, -0.1, -0.05, 0.0, 0.05, 0.1, 0.15, 0.2, 0.25, 0.3, 0.35], \"tickvals\": [-0.3, -0.25, -0.2, -0.15, -0.1, -0.05, 0.0, 0.05, 0.1, 0.15, 0.2, 0.25, 0.3, 0.35], \"type\": \"category\"}, \"yaxis3\": {\"anchor\": \"x3\", \"domain\": [0.0, 0.445], \"title\": \"vol skew\"}, \"xaxis4\": {\"anchor\": \"y4\", \"domain\": [0.545, 1.0], \"tickangle\": 45, \"ticktext\": [-0.3, -0.25, -0.2, -0.15, -0.1, -0.05, 0.0, 0.05, 0.1, 0.15, 0.2, 0.25, 0.3, 0.35], \"tickvals\": [-0.3, -0.25, -0.2, -0.15, -0.1, -0.05, 0.0, 0.05, 0.1, 0.15, 0.2, 0.25, 0.3, 0.35], \"type\": \"category\"}, \"yaxis4\": {\"anchor\": \"x4\", \"domain\": [0.0, 0.445], \"title\": \"vol skew\"}, \"font\": {\"family\": \"Open Sans, sans-serif\"}, \"margin\": {\"b\": 55, \"l\": 45, \"r\": 15, \"t\": 50}, \"title\": \"Skew plots<br>\", \"showlegend\": true, \"hovermode\": \"x\", \"autosize\": true, \"width\": 900, \"height\": 800, \"plot_bgcolor\": \"#EFECEA\", \"bargap\": 0.05}, {\"showLink\": true, \"linkText\": \"Export to plot.ly\"})});</script>"
      ]
     },
     "metadata": {},
     "output_type": "display_data"
    },
    {
     "data": {
      "application/vnd.plotly.v1+json": {
       "data": [
        {
         "legendgroup": "chart (1, 1)",
         "name": "chart (1, 1) 20181231",
         "type": "scatter",
         "uid": "c762959e-a3e3-11e9-96db-8c859025e7f9",
         "x": [
          -0.3,
          -0.25,
          -0.2,
          -0.15,
          -0.1,
          -0.05,
          0,
          0.05,
          0.1,
          0.15,
          0.2,
          0.25,
          0.3,
          0.35
         ],
         "xaxis": "x",
         "y": [
          null,
          0.0543,
          0.0329,
          0.0176,
          0.011,
          0.0067,
          0,
          -0.005,
          -0.0074,
          -0.0102,
          -0.0104,
          -0.0078,
          -0.0052,
          -0.0002
         ],
         "yaxis": "y"
        },
        {
         "legendgroup": "chart (1, 1)",
         "name": "chart (1, 1) 20190102",
         "type": "scatter",
         "uid": "c7630166-a3e3-11e9-b83c-8c859025e7f9",
         "x": [
          -0.3,
          -0.25,
          -0.2,
          -0.15,
          -0.1,
          -0.05,
          0,
          0.05,
          0.1,
          0.15,
          0.2,
          0.25,
          0.3,
          0.35
         ],
         "xaxis": "x",
         "y": [
          0.0867,
          0.0547,
          0.0329,
          0.0193,
          0.0127,
          0.0078,
          0,
          -0.0033,
          -0.0101,
          -0.0124,
          -0.0174,
          -0.017,
          -0.0143,
          -0.0082
         ],
         "yaxis": "y"
        },
        {
         "legendgroup": "chart (1, 1)",
         "name": "chart (1, 1) 20190103",
         "type": "scatter",
         "uid": "c7636de2-a3e3-11e9-9b4a-8c859025e7f9",
         "x": [
          -0.3,
          -0.25,
          -0.2,
          -0.15,
          -0.1,
          -0.05,
          0,
          0.05,
          0.1,
          0.15,
          0.2,
          0.25,
          0.3,
          0.35
         ],
         "xaxis": "x",
         "y": [
          0.0786,
          0.0485,
          0.0301,
          0.0195,
          0.0109,
          0.0076,
          0,
          -0.0027,
          -0.0083,
          -0.0122,
          -0.016,
          -0.0186,
          -0.016,
          -0.0077
         ],
         "yaxis": "y"
        },
        {
         "legendgroup": "chart (1, 1)",
         "name": "chart (1, 1) 20190104",
         "type": "scatter",
         "uid": "c763e428-a3e3-11e9-b136-8c859025e7f9",
         "x": [
          -0.3,
          -0.25,
          -0.2,
          -0.15,
          -0.1,
          -0.05,
          0,
          0.05,
          0.1,
          0.15,
          0.2,
          0.25,
          0.3,
          0.35
         ],
         "xaxis": "x",
         "y": [
          0.0801,
          0.0549,
          0.0305,
          0.0184,
          0.0084,
          0.0024,
          0,
          -0.0093,
          -0.0148,
          -0.021,
          -0.0243,
          -0.024,
          -0.0191,
          -0.0111
         ],
         "yaxis": "y"
        },
        {
         "legendgroup": "chart (1, 1)",
         "name": "chart (1, 1) 20190107",
         "type": "scatter",
         "uid": "c7645066-a3e3-11e9-800c-8c859025e7f9",
         "x": [
          -0.3,
          -0.25,
          -0.2,
          -0.15,
          -0.1,
          -0.05,
          0,
          0.05,
          0.1,
          0.15,
          0.2,
          0.25,
          0.3,
          0.35
         ],
         "xaxis": "x",
         "y": [
          0.1003,
          0.0685,
          0.0461,
          0.0302,
          0.018,
          0.0096,
          0,
          -0.0063,
          -0.0149,
          -0.0182,
          -0.0182,
          -0.019,
          -0.011,
          -0.002
         ],
         "yaxis": "y"
        },
        {
         "legendgroup": "chart (1, 2)",
         "name": "chart (1, 2) 20190108",
         "type": "scatter",
         "uid": "c765494c-a3e3-11e9-aa18-8c859025e7f9",
         "x": [
          -0.3,
          -0.25,
          -0.2,
          -0.15,
          -0.1,
          -0.05,
          0,
          0.05,
          0.1,
          0.15,
          0.2,
          0.25,
          0.3,
          0.35
         ],
         "xaxis": "x2",
         "y": [
          0.1091,
          0.0723,
          0.044,
          0.0263,
          0.0127,
          0.0048,
          0,
          -0.0095,
          -0.0162,
          -0.0187,
          -0.02,
          -0.0181,
          -0.0094,
          0.0053
         ],
         "yaxis": "y2"
        },
        {
         "legendgroup": "chart (1, 2)",
         "name": "chart (1, 2) 20190109",
         "type": "scatter",
         "uid": "c765d206-a3e3-11e9-a31e-8c859025e7f9",
         "x": [
          -0.3,
          -0.25,
          -0.2,
          -0.15,
          -0.1,
          -0.05,
          0,
          0.05,
          0.1,
          0.15,
          0.2,
          0.25,
          0.3,
          0.35
         ],
         "xaxis": "x2",
         "y": [
          0.1214,
          null,
          0.0598,
          0.037,
          0.021,
          0.0115,
          0,
          -0.0093,
          -0.0135,
          -0.0189,
          -0.0202,
          null,
          0.0018,
          null
         ],
         "yaxis": "y2"
        },
        {
         "legendgroup": "chart (1, 2)",
         "name": "chart (1, 2) 20190110",
         "type": "scatter",
         "uid": "c76652ee-a3e3-11e9-ac48-8c859025e7f9",
         "x": [
          -0.3,
          -0.25,
          -0.2,
          -0.15,
          -0.1,
          -0.05,
          0,
          0.05,
          0.1,
          0.15,
          0.2,
          0.25,
          0.3,
          0.35
         ],
         "xaxis": "x2",
         "y": [
          0.1278,
          0.0883,
          0.0578,
          0.0364,
          0.0195,
          0.0088,
          0,
          -0.0132,
          -0.0218,
          -0.0272,
          -0.0274,
          -0.0194,
          -0.0096,
          null
         ],
         "yaxis": "y2"
        },
        {
         "legendgroup": "chart (1, 2)",
         "name": "chart (1, 2) 20190111",
         "type": "scatter",
         "uid": "c766c18c-a3e3-11e9-82e4-8c859025e7f9",
         "x": [
          -0.3,
          -0.25,
          -0.2,
          -0.15,
          -0.1,
          -0.05,
          0,
          0.05,
          0.1,
          0.15,
          0.2,
          0.25,
          0.3,
          0.35
         ],
         "xaxis": "x2",
         "y": [
          0.1332,
          0.1008,
          0.066,
          0.0438,
          0.0259,
          0.0139,
          0,
          -0.0097,
          -0.0184,
          -0.0226,
          -0.0232,
          -0.0114,
          0.0014,
          null
         ],
         "yaxis": "y2"
        },
        {
         "legendgroup": "chart (1, 2)",
         "name": "chart (1, 2) 20190114",
         "type": "scatter",
         "uid": "c7673198-a3e3-11e9-97d6-8c859025e7f9",
         "x": [
          -0.3,
          -0.25,
          -0.2,
          -0.15,
          -0.1,
          -0.05,
          0,
          0.05,
          0.1,
          0.15,
          0.2,
          0.25,
          0.3,
          0.35
         ],
         "xaxis": "x2",
         "y": [
          0.1551,
          0.107,
          0.074,
          0.0474,
          0.0303,
          0.0175,
          0,
          -0.0094,
          -0.0167,
          -0.0235,
          -0.0213,
          -0.0086,
          0.0098,
          0.0182
         ],
         "yaxis": "y2"
        },
        {
         "legendgroup": "chart (2, 1)",
         "name": "chart (2, 1) 20190115",
         "type": "scatter",
         "uid": "c7682c5e-a3e3-11e9-a8fa-8c859025e7f9",
         "x": [
          -0.3,
          -0.25,
          -0.2,
          -0.15,
          -0.1,
          -0.05,
          0,
          0.05,
          0.1,
          0.15,
          0.2,
          0.25,
          0.3,
          0.35
         ],
         "xaxis": "x3",
         "y": [
          0.1403,
          0.1038,
          0.0715,
          0.0427,
          0.0248,
          0.0095,
          0,
          -0.0137,
          -0.0195,
          -0.0224,
          -0.0202,
          -0.0007,
          0.0175,
          null
         ],
         "yaxis": "y3"
        },
        {
         "legendgroup": "chart (2, 1)",
         "name": "chart (2, 1) 20190116",
         "type": "scatter",
         "uid": "c768a2c6-a3e3-11e9-87c9-8c859025e7f9",
         "x": [
          -0.3,
          -0.25,
          -0.2,
          -0.15,
          -0.1,
          -0.05,
          0,
          0.05,
          0.1,
          0.15,
          0.2,
          0.25,
          0.3,
          0.35
         ],
         "xaxis": "x3",
         "y": [
          0.1508,
          0.1138,
          0.0761,
          0.0462,
          0.027,
          0.0123,
          0,
          -0.013,
          -0.0207,
          -0.0243,
          -0.0182,
          -0.0048,
          0.0189,
          null
         ],
         "yaxis": "y3"
        },
        {
         "legendgroup": "chart (2, 1)",
         "name": "chart (2, 1) 20190117",
         "type": "scatter",
         "uid": "c7690ca8-a3e3-11e9-af0d-8c859025e7f9",
         "x": [
          -0.3,
          -0.25,
          -0.2,
          -0.15,
          -0.1,
          -0.05,
          0,
          0.05,
          0.1,
          0.15,
          0.2,
          0.25,
          0.3,
          0.35
         ],
         "xaxis": "x3",
         "y": [
          0.159,
          0.1197,
          0.082,
          0.0506,
          0.0314,
          0.0175,
          0,
          -0.0089,
          -0.0167,
          -0.0162,
          -0.0055,
          0.0116,
          0.0295,
          null
         ],
         "yaxis": "y3"
        },
        {
         "legendgroup": "chart (2, 1)",
         "name": "chart (2, 1) 20190118",
         "type": "scatter",
         "uid": "c7697cda-a3e3-11e9-bcee-8c859025e7f9",
         "x": [
          -0.3,
          -0.25,
          -0.2,
          -0.15,
          -0.1,
          -0.05,
          0,
          0.05,
          0.1,
          0.15,
          0.2,
          0.25,
          0.3,
          0.35
         ],
         "xaxis": "x3",
         "y": [
          0.1666,
          0.121,
          0.077,
          0.0445,
          0.0242,
          0.0108,
          0,
          -0.0076,
          -0.0104,
          -0.0102,
          -0.0001,
          0.0215,
          null,
          null
         ],
         "yaxis": "y3"
        },
        {
         "legendgroup": "chart (2, 1)",
         "name": "chart (2, 1) 20190121",
         "type": "scatter",
         "uid": "c769fa3e-a3e3-11e9-acfa-8c859025e7f9",
         "x": [
          -0.3,
          -0.25,
          -0.2,
          -0.15,
          -0.1,
          -0.05,
          0,
          0.05,
          0.1,
          0.15,
          0.2,
          0.25,
          0.3,
          0.35
         ],
         "xaxis": "x3",
         "y": [
          0.1749,
          0.1146,
          0.0816,
          0.0475,
          0.0263,
          0.0111,
          0,
          -0.007,
          -0.0074,
          -0.0069,
          0.0081,
          0.0262,
          null,
          null
         ],
         "yaxis": "y3"
        },
        {
         "legendgroup": "chart (2, 2)",
         "name": "chart (2, 2) 20190122",
         "type": "scatter",
         "uid": "c76aea86-a3e3-11e9-821d-8c859025e7f9",
         "x": [
          -0.3,
          -0.25,
          -0.2,
          -0.15,
          -0.1,
          -0.05,
          0,
          0.05,
          0.1,
          0.15,
          0.2,
          0.25,
          0.3,
          0.35
         ],
         "xaxis": "x4",
         "y": [
          0.1636,
          0.1191,
          0.0792,
          0.0474,
          0.0289,
          0.0126,
          0,
          -0.0119,
          -0.0188,
          -0.0186,
          -0.0097,
          0.0045,
          0.0166,
          null
         ],
         "yaxis": "y4"
        },
        {
         "legendgroup": "chart (2, 2)",
         "name": "chart (2, 2) 20190123",
         "type": "scatter",
         "uid": "c76b75b4-a3e3-11e9-99f2-8c859025e7f9",
         "x": [
          -0.3,
          -0.25,
          -0.2,
          -0.15,
          -0.1,
          -0.05,
          0,
          0.05,
          0.1,
          0.15,
          0.2,
          0.25,
          0.3,
          0.35
         ],
         "xaxis": "x4",
         "y": [
          0.1572,
          0.1178,
          0.0863,
          0.056,
          0.0321,
          0.0136,
          0,
          -0.0121,
          -0.0198,
          -0.0179,
          -0.0039,
          0.0146,
          0.0338,
          null
         ],
         "yaxis": "y4"
        },
        {
         "legendgroup": "chart (2, 2)",
         "name": "chart (2, 2) 20190124",
         "type": "scatter",
         "uid": "c76c63a8-a3e3-11e9-a8a5-8c859025e7f9",
         "x": [
          -0.3,
          -0.25,
          -0.2,
          -0.15,
          -0.1,
          -0.05,
          0,
          0.05,
          0.1,
          0.15,
          0.2,
          0.25,
          0.3,
          0.35
         ],
         "xaxis": "x4",
         "y": [
          0.1881,
          0.1391,
          0.0916,
          0.0588,
          0.0338,
          0.0171,
          0,
          -0.0061,
          -0.0091,
          -0.0025,
          0.0099,
          0.0337,
          0.0578,
          null
         ],
         "yaxis": "y4"
        },
        {
         "legendgroup": "chart (2, 2)",
         "name": "chart (2, 2) 20190125",
         "type": "scatter",
         "uid": "c76d533a-a3e3-11e9-ac7a-8c859025e7f9",
         "x": [
          -0.3,
          -0.25,
          -0.2,
          -0.15,
          -0.1,
          -0.05,
          0,
          0.05,
          0.1,
          0.15,
          0.2,
          0.25,
          0.3,
          0.35
         ],
         "xaxis": "x4",
         "y": [
          0.1898,
          0.1411,
          0.0943,
          0.0555,
          0.0308,
          0.0123,
          0,
          -0.0044,
          -0.001,
          0.0045,
          0.0192,
          0.0496,
          0.0748,
          null
         ],
         "yaxis": "y4"
        },
        {
         "legendgroup": "chart (2, 2)",
         "name": "chart (2, 2) 20190128",
         "type": "scatter",
         "uid": "c76df4f4-a3e3-11e9-9426-8c859025e7f9",
         "x": [
          -0.3,
          -0.25,
          -0.2,
          -0.15,
          -0.1,
          -0.05,
          0,
          0.05,
          0.1,
          0.15,
          0.2,
          0.25,
          0.3,
          0.35
         ],
         "xaxis": "x4",
         "y": [
          0.19,
          0.1402,
          0.0943,
          0.0571,
          0.0319,
          0.0126,
          0,
          -0.0126,
          -0.0131,
          -0.0057,
          0.0153,
          0.0441,
          0.07,
          0.0999
         ],
         "yaxis": "y4"
        }
       ],
       "layout": {
        "annotations": [
         {
          "font": {
           "size": 16
          },
          "showarrow": false,
          "text": "CBJ19 20181231 - 20190107",
          "x": 0.2275,
          "xanchor": "center",
          "xref": "paper",
          "y": 1,
          "yanchor": "bottom",
          "yref": "paper"
         },
         {
          "font": {
           "size": 16
          },
          "showarrow": false,
          "text": "CBJ19 20190108 - 20190114",
          "x": 0.7725,
          "xanchor": "center",
          "xref": "paper",
          "y": 1,
          "yanchor": "bottom",
          "yref": "paper"
         },
         {
          "font": {
           "size": 16
          },
          "showarrow": false,
          "text": "CBJ19 20190115 - 20190121",
          "x": 0.2275,
          "xanchor": "center",
          "xref": "paper",
          "y": 0.445,
          "yanchor": "bottom",
          "yref": "paper"
         },
         {
          "font": {
           "size": 16
          },
          "showarrow": false,
          "text": "CBJ19 20190122 - 20190128",
          "x": 0.7725,
          "xanchor": "center",
          "xref": "paper",
          "y": 0.445,
          "yanchor": "bottom",
          "yref": "paper"
         }
        ],
        "autosize": true,
        "bargap": 0.05,
        "font": {
         "family": "Open Sans, sans-serif"
        },
        "height": 800,
        "hovermode": "x",
        "margin": {
         "b": 55,
         "l": 45,
         "r": 15,
         "t": 50
        },
        "plot_bgcolor": "#EFECEA",
        "showlegend": true,
        "title": "Skew plots<br>",
        "width": 900,
        "xaxis": {
         "anchor": "y",
         "domain": [
          0,
          0.455
         ],
         "tickangle": 45,
         "ticktext": [
          -0.3,
          -0.25,
          -0.2,
          -0.15,
          -0.1,
          -0.05,
          0,
          0.05,
          0.1,
          0.15,
          0.2,
          0.25,
          0.3,
          0.35
         ],
         "tickvals": [
          -0.3,
          -0.25,
          -0.2,
          -0.15,
          -0.1,
          -0.05,
          0,
          0.05,
          0.1,
          0.15,
          0.2,
          0.25,
          0.3,
          0.35
         ],
         "type": "category"
        },
        "xaxis2": {
         "anchor": "y2",
         "domain": [
          0.545,
          1
         ],
         "tickangle": 45,
         "ticktext": [
          -0.3,
          -0.25,
          -0.2,
          -0.15,
          -0.1,
          -0.05,
          0,
          0.05,
          0.1,
          0.15,
          0.2,
          0.25,
          0.3,
          0.35
         ],
         "tickvals": [
          -0.3,
          -0.25,
          -0.2,
          -0.15,
          -0.1,
          -0.05,
          0,
          0.05,
          0.1,
          0.15,
          0.2,
          0.25,
          0.3,
          0.35
         ],
         "type": "category"
        },
        "xaxis3": {
         "anchor": "y3",
         "domain": [
          0,
          0.455
         ],
         "tickangle": 45,
         "ticktext": [
          -0.3,
          -0.25,
          -0.2,
          -0.15,
          -0.1,
          -0.05,
          0,
          0.05,
          0.1,
          0.15,
          0.2,
          0.25,
          0.3,
          0.35
         ],
         "tickvals": [
          -0.3,
          -0.25,
          -0.2,
          -0.15,
          -0.1,
          -0.05,
          0,
          0.05,
          0.1,
          0.15,
          0.2,
          0.25,
          0.3,
          0.35
         ],
         "type": "category"
        },
        "xaxis4": {
         "anchor": "y4",
         "domain": [
          0.545,
          1
         ],
         "tickangle": 45,
         "ticktext": [
          -0.3,
          -0.25,
          -0.2,
          -0.15,
          -0.1,
          -0.05,
          0,
          0.05,
          0.1,
          0.15,
          0.2,
          0.25,
          0.3,
          0.35
         ],
         "tickvals": [
          -0.3,
          -0.25,
          -0.2,
          -0.15,
          -0.1,
          -0.05,
          0,
          0.05,
          0.1,
          0.15,
          0.2,
          0.25,
          0.3,
          0.35
         ],
         "type": "category"
        },
        "yaxis": {
         "anchor": "x",
         "domain": [
          0.555,
          1
         ],
         "title": "vol skew"
        },
        "yaxis2": {
         "anchor": "x2",
         "domain": [
          0.555,
          1
         ],
         "title": "vol skew"
        },
        "yaxis3": {
         "anchor": "x3",
         "domain": [
          0,
          0.445
         ],
         "title": "vol skew"
        },
        "yaxis4": {
         "anchor": "x4",
         "domain": [
          0,
          0.445
         ],
         "title": "vol skew"
        }
       }
      },
      "text/html": [
       "<div id=\"0e1634c6-2fe1-4e63-bbc8-b63cedf507de\" style=\"height: 800px; width: 900px;\" class=\"plotly-graph-div\"></div><script type=\"text/javascript\">require([\"plotly\"], function(Plotly) { window.PLOTLYENV=window.PLOTLYENV || {};window.PLOTLYENV.BASE_URL=\"https://plot.ly\";Plotly.newPlot(\"0e1634c6-2fe1-4e63-bbc8-b63cedf507de\", [{\"legendgroup\": \"chart (1, 1)\", \"name\": \"chart (1, 1) 20181231\", \"uid\": \"c762959e-a3e3-11e9-96db-8c859025e7f9\", \"x\": [-0.3, -0.25, -0.2, -0.15, -0.1, -0.05, 0.0, 0.05, 0.1, 0.15, 0.2, 0.25, 0.3, 0.35], \"y\": [null, 0.0543, 0.0329, 0.0176, 0.011, 0.0067, 0.0, -0.005, -0.0074, -0.0102, -0.0104, -0.0078, -0.0052, -0.0002], \"yaxis\": \"y\", \"type\": \"scatter\", \"xaxis\": \"x\"}, {\"legendgroup\": \"chart (1, 1)\", \"name\": \"chart (1, 1) 20190102\", \"uid\": \"c7630166-a3e3-11e9-b83c-8c859025e7f9\", \"x\": [-0.3, -0.25, -0.2, -0.15, -0.1, -0.05, 0.0, 0.05, 0.1, 0.15, 0.2, 0.25, 0.3, 0.35], \"y\": [0.0867, 0.0547, 0.0329, 0.0193, 0.0127, 0.0078, 0.0, -0.0033, -0.0101, -0.0124, -0.0174, -0.017, -0.0143, -0.0082], \"yaxis\": \"y\", \"type\": \"scatter\", \"xaxis\": \"x\"}, {\"legendgroup\": \"chart (1, 1)\", \"name\": \"chart (1, 1) 20190103\", \"uid\": \"c7636de2-a3e3-11e9-9b4a-8c859025e7f9\", \"x\": [-0.3, -0.25, -0.2, -0.15, -0.1, -0.05, 0.0, 0.05, 0.1, 0.15, 0.2, 0.25, 0.3, 0.35], \"y\": [0.0786, 0.0485, 0.0301, 0.0195, 0.0109, 0.0076, 0.0, -0.0027, -0.0083, -0.0122, -0.016, -0.0186, -0.016, -0.0077], \"yaxis\": \"y\", \"type\": \"scatter\", \"xaxis\": \"x\"}, {\"legendgroup\": \"chart (1, 1)\", \"name\": \"chart (1, 1) 20190104\", \"uid\": \"c763e428-a3e3-11e9-b136-8c859025e7f9\", \"x\": [-0.3, -0.25, -0.2, -0.15, -0.1, -0.05, 0.0, 0.05, 0.1, 0.15, 0.2, 0.25, 0.3, 0.35], \"y\": [0.0801, 0.0549, 0.0305, 0.0184, 0.0084, 0.0024, 0.0, -0.0093, -0.0148, -0.021, -0.0243, -0.024, -0.0191, -0.0111], \"yaxis\": \"y\", \"type\": \"scatter\", \"xaxis\": \"x\"}, {\"legendgroup\": \"chart (1, 1)\", \"name\": \"chart (1, 1) 20190107\", \"uid\": \"c7645066-a3e3-11e9-800c-8c859025e7f9\", \"x\": [-0.3, -0.25, -0.2, -0.15, -0.1, -0.05, 0.0, 0.05, 0.1, 0.15, 0.2, 0.25, 0.3, 0.35], \"y\": [0.1003, 0.0685, 0.0461, 0.0302, 0.018, 0.0096, 0.0, -0.0063, -0.0149, -0.0182, -0.0182, -0.019, -0.011, -0.002], \"yaxis\": \"y\", \"type\": \"scatter\", \"xaxis\": \"x\"}, {\"legendgroup\": \"chart (1, 2)\", \"name\": \"chart (1, 2) 20190108\", \"uid\": \"c765494c-a3e3-11e9-aa18-8c859025e7f9\", \"x\": [-0.3, -0.25, -0.2, -0.15, -0.1, -0.05, 0.0, 0.05, 0.1, 0.15, 0.2, 0.25, 0.3, 0.35], \"y\": [0.1091, 0.0723, 0.044, 0.0263, 0.0127, 0.0048, 0.0, -0.0095, -0.0162, -0.0187, -0.02, -0.0181, -0.0094, 0.0053], \"yaxis\": \"y2\", \"type\": \"scatter\", \"xaxis\": \"x2\"}, {\"legendgroup\": \"chart (1, 2)\", \"name\": \"chart (1, 2) 20190109\", \"uid\": \"c765d206-a3e3-11e9-a31e-8c859025e7f9\", \"x\": [-0.3, -0.25, -0.2, -0.15, -0.1, -0.05, 0.0, 0.05, 0.1, 0.15, 0.2, 0.25, 0.3, 0.35], \"y\": [0.1214, null, 0.0598, 0.037, 0.021, 0.0115, 0.0, -0.0093, -0.0135, -0.0189, -0.0202, null, 0.0018, null], \"yaxis\": \"y2\", \"type\": \"scatter\", \"xaxis\": \"x2\"}, {\"legendgroup\": \"chart (1, 2)\", \"name\": \"chart (1, 2) 20190110\", \"uid\": \"c76652ee-a3e3-11e9-ac48-8c859025e7f9\", \"x\": [-0.3, -0.25, -0.2, -0.15, -0.1, -0.05, 0.0, 0.05, 0.1, 0.15, 0.2, 0.25, 0.3, 0.35], \"y\": [0.1278, 0.0883, 0.0578, 0.0364, 0.0195, 0.0088, 0.0, -0.0132, -0.0218, -0.0272, -0.0274, -0.0194, -0.0096, null], \"yaxis\": \"y2\", \"type\": \"scatter\", \"xaxis\": \"x2\"}, {\"legendgroup\": \"chart (1, 2)\", \"name\": \"chart (1, 2) 20190111\", \"uid\": \"c766c18c-a3e3-11e9-82e4-8c859025e7f9\", \"x\": [-0.3, -0.25, -0.2, -0.15, -0.1, -0.05, 0.0, 0.05, 0.1, 0.15, 0.2, 0.25, 0.3, 0.35], \"y\": [0.1332, 0.1008, 0.066, 0.0438, 0.0259, 0.0139, 0.0, -0.0097, -0.0184, -0.0226, -0.0232, -0.0114, 0.0014, null], \"yaxis\": \"y2\", \"type\": \"scatter\", \"xaxis\": \"x2\"}, {\"legendgroup\": \"chart (1, 2)\", \"name\": \"chart (1, 2) 20190114\", \"uid\": \"c7673198-a3e3-11e9-97d6-8c859025e7f9\", \"x\": [-0.3, -0.25, -0.2, -0.15, -0.1, -0.05, 0.0, 0.05, 0.1, 0.15, 0.2, 0.25, 0.3, 0.35], \"y\": [0.1551, 0.107, 0.074, 0.0474, 0.0303, 0.0175, 0.0, -0.0094, -0.0167, -0.0235, -0.0213, -0.0086, 0.0098, 0.0182], \"yaxis\": \"y2\", \"type\": \"scatter\", \"xaxis\": \"x2\"}, {\"legendgroup\": \"chart (2, 1)\", \"name\": \"chart (2, 1) 20190115\", \"uid\": \"c7682c5e-a3e3-11e9-a8fa-8c859025e7f9\", \"x\": [-0.3, -0.25, -0.2, -0.15, -0.1, -0.05, 0.0, 0.05, 0.1, 0.15, 0.2, 0.25, 0.3, 0.35], \"y\": [0.1403, 0.1038, 0.0715, 0.0427, 0.0248, 0.0095, 0.0, -0.0137, -0.0195, -0.0224, -0.0202, -0.0007, 0.0175, null], \"yaxis\": \"y3\", \"type\": \"scatter\", \"xaxis\": \"x3\"}, {\"legendgroup\": \"chart (2, 1)\", \"name\": \"chart (2, 1) 20190116\", \"uid\": \"c768a2c6-a3e3-11e9-87c9-8c859025e7f9\", \"x\": [-0.3, -0.25, -0.2, -0.15, -0.1, -0.05, 0.0, 0.05, 0.1, 0.15, 0.2, 0.25, 0.3, 0.35], \"y\": [0.1508, 0.1138, 0.0761, 0.0462, 0.027, 0.0123, 0.0, -0.013, -0.0207, -0.0243, -0.0182, -0.0048, 0.0189, null], \"yaxis\": \"y3\", \"type\": \"scatter\", \"xaxis\": \"x3\"}, {\"legendgroup\": \"chart (2, 1)\", \"name\": \"chart (2, 1) 20190117\", \"uid\": \"c7690ca8-a3e3-11e9-af0d-8c859025e7f9\", \"x\": [-0.3, -0.25, -0.2, -0.15, -0.1, -0.05, 0.0, 0.05, 0.1, 0.15, 0.2, 0.25, 0.3, 0.35], \"y\": [0.159, 0.1197, 0.082, 0.0506, 0.0314, 0.0175, 0.0, -0.0089, -0.0167, -0.0162, -0.0055, 0.0116, 0.0295, null], \"yaxis\": \"y3\", \"type\": \"scatter\", \"xaxis\": \"x3\"}, {\"legendgroup\": \"chart (2, 1)\", \"name\": \"chart (2, 1) 20190118\", \"uid\": \"c7697cda-a3e3-11e9-bcee-8c859025e7f9\", \"x\": [-0.3, -0.25, -0.2, -0.15, -0.1, -0.05, 0.0, 0.05, 0.1, 0.15, 0.2, 0.25, 0.3, 0.35], \"y\": [0.1666, 0.121, 0.077, 0.0445, 0.0242, 0.0108, 0.0, -0.0076, -0.0104, -0.0102, -0.0001, 0.0215, null, null], \"yaxis\": \"y3\", \"type\": \"scatter\", \"xaxis\": \"x3\"}, {\"legendgroup\": \"chart (2, 1)\", \"name\": \"chart (2, 1) 20190121\", \"uid\": \"c769fa3e-a3e3-11e9-acfa-8c859025e7f9\", \"x\": [-0.3, -0.25, -0.2, -0.15, -0.1, -0.05, 0.0, 0.05, 0.1, 0.15, 0.2, 0.25, 0.3, 0.35], \"y\": [0.1749, 0.1146, 0.0816, 0.0475, 0.0263, 0.0111, 0.0, -0.007, -0.0074, -0.0069, 0.0081, 0.0262, null, null], \"yaxis\": \"y3\", \"type\": \"scatter\", \"xaxis\": \"x3\"}, {\"legendgroup\": \"chart (2, 2)\", \"name\": \"chart (2, 2) 20190122\", \"uid\": \"c76aea86-a3e3-11e9-821d-8c859025e7f9\", \"x\": [-0.3, -0.25, -0.2, -0.15, -0.1, -0.05, 0.0, 0.05, 0.1, 0.15, 0.2, 0.25, 0.3, 0.35], \"y\": [0.1636, 0.1191, 0.0792, 0.0474, 0.0289, 0.0126, 0.0, -0.0119, -0.0188, -0.0186, -0.0097, 0.0045, 0.0166, null], \"yaxis\": \"y4\", \"type\": \"scatter\", \"xaxis\": \"x4\"}, {\"legendgroup\": \"chart (2, 2)\", \"name\": \"chart (2, 2) 20190123\", \"uid\": \"c76b75b4-a3e3-11e9-99f2-8c859025e7f9\", \"x\": [-0.3, -0.25, -0.2, -0.15, -0.1, -0.05, 0.0, 0.05, 0.1, 0.15, 0.2, 0.25, 0.3, 0.35], \"y\": [0.1572, 0.1178, 0.0863, 0.056, 0.0321, 0.0136, 0.0, -0.0121, -0.0198, -0.0179, -0.0039, 0.0146, 0.0338, null], \"yaxis\": \"y4\", \"type\": \"scatter\", \"xaxis\": \"x4\"}, {\"legendgroup\": \"chart (2, 2)\", \"name\": \"chart (2, 2) 20190124\", \"uid\": \"c76c63a8-a3e3-11e9-a8a5-8c859025e7f9\", \"x\": [-0.3, -0.25, -0.2, -0.15, -0.1, -0.05, 0.0, 0.05, 0.1, 0.15, 0.2, 0.25, 0.3, 0.35], \"y\": [0.1881, 0.1391, 0.0916, 0.0588, 0.0338, 0.0171, 0.0, -0.0061, -0.0091, -0.0025, 0.0099, 0.0337, 0.0578, null], \"yaxis\": \"y4\", \"type\": \"scatter\", \"xaxis\": \"x4\"}, {\"legendgroup\": \"chart (2, 2)\", \"name\": \"chart (2, 2) 20190125\", \"uid\": \"c76d533a-a3e3-11e9-ac7a-8c859025e7f9\", \"x\": [-0.3, -0.25, -0.2, -0.15, -0.1, -0.05, 0.0, 0.05, 0.1, 0.15, 0.2, 0.25, 0.3, 0.35], \"y\": [0.1898, 0.1411, 0.0943, 0.0555, 0.0308, 0.0123, 0.0, -0.0044, -0.001, 0.0045, 0.0192, 0.0496, 0.0748, null], \"yaxis\": \"y4\", \"type\": \"scatter\", \"xaxis\": \"x4\"}, {\"legendgroup\": \"chart (2, 2)\", \"name\": \"chart (2, 2) 20190128\", \"uid\": \"c76df4f4-a3e3-11e9-9426-8c859025e7f9\", \"x\": [-0.3, -0.25, -0.2, -0.15, -0.1, -0.05, 0.0, 0.05, 0.1, 0.15, 0.2, 0.25, 0.3, 0.35], \"y\": [0.19, 0.1402, 0.0943, 0.0571, 0.0319, 0.0126, 0.0, -0.0126, -0.0131, -0.0057, 0.0153, 0.0441, 0.07, 0.0999], \"yaxis\": \"y4\", \"type\": \"scatter\", \"xaxis\": \"x4\"}], {\"annotations\": [{\"font\": {\"size\": 16}, \"showarrow\": false, \"text\": \"CBJ19 20181231 - 20190107\", \"x\": 0.2275, \"xanchor\": \"center\", \"xref\": \"paper\", \"y\": 1.0, \"yanchor\": \"bottom\", \"yref\": \"paper\"}, {\"font\": {\"size\": 16}, \"showarrow\": false, \"text\": \"CBJ19 20190108 - 20190114\", \"x\": 0.7725, \"xanchor\": \"center\", \"xref\": \"paper\", \"y\": 1.0, \"yanchor\": \"bottom\", \"yref\": \"paper\"}, {\"font\": {\"size\": 16}, \"showarrow\": false, \"text\": \"CBJ19 20190115 - 20190121\", \"x\": 0.2275, \"xanchor\": \"center\", \"xref\": \"paper\", \"y\": 0.445, \"yanchor\": \"bottom\", \"yref\": \"paper\"}, {\"font\": {\"size\": 16}, \"showarrow\": false, \"text\": \"CBJ19 20190122 - 20190128\", \"x\": 0.7725, \"xanchor\": \"center\", \"xref\": \"paper\", \"y\": 0.445, \"yanchor\": \"bottom\", \"yref\": \"paper\"}], \"xaxis\": {\"anchor\": \"y\", \"domain\": [0.0, 0.455], \"tickangle\": 45, \"ticktext\": [-0.3, -0.25, -0.2, -0.15, -0.1, -0.05, 0.0, 0.05, 0.1, 0.15, 0.2, 0.25, 0.3, 0.35], \"tickvals\": [-0.3, -0.25, -0.2, -0.15, -0.1, -0.05, 0.0, 0.05, 0.1, 0.15, 0.2, 0.25, 0.3, 0.35], \"type\": \"category\"}, \"yaxis\": {\"anchor\": \"x\", \"domain\": [0.555, 1.0], \"title\": \"vol skew\"}, \"xaxis2\": {\"anchor\": \"y2\", \"domain\": [0.545, 1.0], \"tickangle\": 45, \"ticktext\": [-0.3, -0.25, -0.2, -0.15, -0.1, -0.05, 0.0, 0.05, 0.1, 0.15, 0.2, 0.25, 0.3, 0.35], \"tickvals\": [-0.3, -0.25, -0.2, -0.15, -0.1, -0.05, 0.0, 0.05, 0.1, 0.15, 0.2, 0.25, 0.3, 0.35], \"type\": \"category\"}, \"yaxis2\": {\"anchor\": \"x2\", \"domain\": [0.555, 1.0], \"title\": \"vol skew\"}, \"xaxis3\": {\"anchor\": \"y3\", \"domain\": [0.0, 0.455], \"tickangle\": 45, \"ticktext\": [-0.3, -0.25, -0.2, -0.15, -0.1, -0.05, 0.0, 0.05, 0.1, 0.15, 0.2, 0.25, 0.3, 0.35], \"tickvals\": [-0.3, -0.25, -0.2, -0.15, -0.1, -0.05, 0.0, 0.05, 0.1, 0.15, 0.2, 0.25, 0.3, 0.35], \"type\": \"category\"}, \"yaxis3\": {\"anchor\": \"x3\", \"domain\": [0.0, 0.445], \"title\": \"vol skew\"}, \"xaxis4\": {\"anchor\": \"y4\", \"domain\": [0.545, 1.0], \"tickangle\": 45, \"ticktext\": [-0.3, -0.25, -0.2, -0.15, -0.1, -0.05, 0.0, 0.05, 0.1, 0.15, 0.2, 0.25, 0.3, 0.35], \"tickvals\": [-0.3, -0.25, -0.2, -0.15, -0.1, -0.05, 0.0, 0.05, 0.1, 0.15, 0.2, 0.25, 0.3, 0.35], \"type\": \"category\"}, \"yaxis4\": {\"anchor\": \"x4\", \"domain\": [0.0, 0.445], \"title\": \"vol skew\"}, \"font\": {\"family\": \"Open Sans, sans-serif\"}, \"margin\": {\"b\": 55, \"l\": 45, \"r\": 15, \"t\": 50}, \"title\": \"Skew plots<br>\", \"showlegend\": true, \"hovermode\": \"x\", \"autosize\": true, \"width\": 900, \"height\": 800, \"plot_bgcolor\": \"#EFECEA\", \"bargap\": 0.05}, {\"showLink\": true, \"linkText\": \"Export to plot.ly\"})});</script>"
      ],
      "text/vnd.plotly.v1+html": [
       "<div id=\"0e1634c6-2fe1-4e63-bbc8-b63cedf507de\" style=\"height: 800px; width: 900px;\" class=\"plotly-graph-div\"></div><script type=\"text/javascript\">require([\"plotly\"], function(Plotly) { window.PLOTLYENV=window.PLOTLYENV || {};window.PLOTLYENV.BASE_URL=\"https://plot.ly\";Plotly.newPlot(\"0e1634c6-2fe1-4e63-bbc8-b63cedf507de\", [{\"legendgroup\": \"chart (1, 1)\", \"name\": \"chart (1, 1) 20181231\", \"uid\": \"c762959e-a3e3-11e9-96db-8c859025e7f9\", \"x\": [-0.3, -0.25, -0.2, -0.15, -0.1, -0.05, 0.0, 0.05, 0.1, 0.15, 0.2, 0.25, 0.3, 0.35], \"y\": [null, 0.0543, 0.0329, 0.0176, 0.011, 0.0067, 0.0, -0.005, -0.0074, -0.0102, -0.0104, -0.0078, -0.0052, -0.0002], \"yaxis\": \"y\", \"type\": \"scatter\", \"xaxis\": \"x\"}, {\"legendgroup\": \"chart (1, 1)\", \"name\": \"chart (1, 1) 20190102\", \"uid\": \"c7630166-a3e3-11e9-b83c-8c859025e7f9\", \"x\": [-0.3, -0.25, -0.2, -0.15, -0.1, -0.05, 0.0, 0.05, 0.1, 0.15, 0.2, 0.25, 0.3, 0.35], \"y\": [0.0867, 0.0547, 0.0329, 0.0193, 0.0127, 0.0078, 0.0, -0.0033, -0.0101, -0.0124, -0.0174, -0.017, -0.0143, -0.0082], \"yaxis\": \"y\", \"type\": \"scatter\", \"xaxis\": \"x\"}, {\"legendgroup\": \"chart (1, 1)\", \"name\": \"chart (1, 1) 20190103\", \"uid\": \"c7636de2-a3e3-11e9-9b4a-8c859025e7f9\", \"x\": [-0.3, -0.25, -0.2, -0.15, -0.1, -0.05, 0.0, 0.05, 0.1, 0.15, 0.2, 0.25, 0.3, 0.35], \"y\": [0.0786, 0.0485, 0.0301, 0.0195, 0.0109, 0.0076, 0.0, -0.0027, -0.0083, -0.0122, -0.016, -0.0186, -0.016, -0.0077], \"yaxis\": \"y\", \"type\": \"scatter\", \"xaxis\": \"x\"}, {\"legendgroup\": \"chart (1, 1)\", \"name\": \"chart (1, 1) 20190104\", \"uid\": \"c763e428-a3e3-11e9-b136-8c859025e7f9\", \"x\": [-0.3, -0.25, -0.2, -0.15, -0.1, -0.05, 0.0, 0.05, 0.1, 0.15, 0.2, 0.25, 0.3, 0.35], \"y\": [0.0801, 0.0549, 0.0305, 0.0184, 0.0084, 0.0024, 0.0, -0.0093, -0.0148, -0.021, -0.0243, -0.024, -0.0191, -0.0111], \"yaxis\": \"y\", \"type\": \"scatter\", \"xaxis\": \"x\"}, {\"legendgroup\": \"chart (1, 1)\", \"name\": \"chart (1, 1) 20190107\", \"uid\": \"c7645066-a3e3-11e9-800c-8c859025e7f9\", \"x\": [-0.3, -0.25, -0.2, -0.15, -0.1, -0.05, 0.0, 0.05, 0.1, 0.15, 0.2, 0.25, 0.3, 0.35], \"y\": [0.1003, 0.0685, 0.0461, 0.0302, 0.018, 0.0096, 0.0, -0.0063, -0.0149, -0.0182, -0.0182, -0.019, -0.011, -0.002], \"yaxis\": \"y\", \"type\": \"scatter\", \"xaxis\": \"x\"}, {\"legendgroup\": \"chart (1, 2)\", \"name\": \"chart (1, 2) 20190108\", \"uid\": \"c765494c-a3e3-11e9-aa18-8c859025e7f9\", \"x\": [-0.3, -0.25, -0.2, -0.15, -0.1, -0.05, 0.0, 0.05, 0.1, 0.15, 0.2, 0.25, 0.3, 0.35], \"y\": [0.1091, 0.0723, 0.044, 0.0263, 0.0127, 0.0048, 0.0, -0.0095, -0.0162, -0.0187, -0.02, -0.0181, -0.0094, 0.0053], \"yaxis\": \"y2\", \"type\": \"scatter\", \"xaxis\": \"x2\"}, {\"legendgroup\": \"chart (1, 2)\", \"name\": \"chart (1, 2) 20190109\", \"uid\": \"c765d206-a3e3-11e9-a31e-8c859025e7f9\", \"x\": [-0.3, -0.25, -0.2, -0.15, -0.1, -0.05, 0.0, 0.05, 0.1, 0.15, 0.2, 0.25, 0.3, 0.35], \"y\": [0.1214, null, 0.0598, 0.037, 0.021, 0.0115, 0.0, -0.0093, -0.0135, -0.0189, -0.0202, null, 0.0018, null], \"yaxis\": \"y2\", \"type\": \"scatter\", \"xaxis\": \"x2\"}, {\"legendgroup\": \"chart (1, 2)\", \"name\": \"chart (1, 2) 20190110\", \"uid\": \"c76652ee-a3e3-11e9-ac48-8c859025e7f9\", \"x\": [-0.3, -0.25, -0.2, -0.15, -0.1, -0.05, 0.0, 0.05, 0.1, 0.15, 0.2, 0.25, 0.3, 0.35], \"y\": [0.1278, 0.0883, 0.0578, 0.0364, 0.0195, 0.0088, 0.0, -0.0132, -0.0218, -0.0272, -0.0274, -0.0194, -0.0096, null], \"yaxis\": \"y2\", \"type\": \"scatter\", \"xaxis\": \"x2\"}, {\"legendgroup\": \"chart (1, 2)\", \"name\": \"chart (1, 2) 20190111\", \"uid\": \"c766c18c-a3e3-11e9-82e4-8c859025e7f9\", \"x\": [-0.3, -0.25, -0.2, -0.15, -0.1, -0.05, 0.0, 0.05, 0.1, 0.15, 0.2, 0.25, 0.3, 0.35], \"y\": [0.1332, 0.1008, 0.066, 0.0438, 0.0259, 0.0139, 0.0, -0.0097, -0.0184, -0.0226, -0.0232, -0.0114, 0.0014, null], \"yaxis\": \"y2\", \"type\": \"scatter\", \"xaxis\": \"x2\"}, {\"legendgroup\": \"chart (1, 2)\", \"name\": \"chart (1, 2) 20190114\", \"uid\": \"c7673198-a3e3-11e9-97d6-8c859025e7f9\", \"x\": [-0.3, -0.25, -0.2, -0.15, -0.1, -0.05, 0.0, 0.05, 0.1, 0.15, 0.2, 0.25, 0.3, 0.35], \"y\": [0.1551, 0.107, 0.074, 0.0474, 0.0303, 0.0175, 0.0, -0.0094, -0.0167, -0.0235, -0.0213, -0.0086, 0.0098, 0.0182], \"yaxis\": \"y2\", \"type\": \"scatter\", \"xaxis\": \"x2\"}, {\"legendgroup\": \"chart (2, 1)\", \"name\": \"chart (2, 1) 20190115\", \"uid\": \"c7682c5e-a3e3-11e9-a8fa-8c859025e7f9\", \"x\": [-0.3, -0.25, -0.2, -0.15, -0.1, -0.05, 0.0, 0.05, 0.1, 0.15, 0.2, 0.25, 0.3, 0.35], \"y\": [0.1403, 0.1038, 0.0715, 0.0427, 0.0248, 0.0095, 0.0, -0.0137, -0.0195, -0.0224, -0.0202, -0.0007, 0.0175, null], \"yaxis\": \"y3\", \"type\": \"scatter\", \"xaxis\": \"x3\"}, {\"legendgroup\": \"chart (2, 1)\", \"name\": \"chart (2, 1) 20190116\", \"uid\": \"c768a2c6-a3e3-11e9-87c9-8c859025e7f9\", \"x\": [-0.3, -0.25, -0.2, -0.15, -0.1, -0.05, 0.0, 0.05, 0.1, 0.15, 0.2, 0.25, 0.3, 0.35], \"y\": [0.1508, 0.1138, 0.0761, 0.0462, 0.027, 0.0123, 0.0, -0.013, -0.0207, -0.0243, -0.0182, -0.0048, 0.0189, null], \"yaxis\": \"y3\", \"type\": \"scatter\", \"xaxis\": \"x3\"}, {\"legendgroup\": \"chart (2, 1)\", \"name\": \"chart (2, 1) 20190117\", \"uid\": \"c7690ca8-a3e3-11e9-af0d-8c859025e7f9\", \"x\": [-0.3, -0.25, -0.2, -0.15, -0.1, -0.05, 0.0, 0.05, 0.1, 0.15, 0.2, 0.25, 0.3, 0.35], \"y\": [0.159, 0.1197, 0.082, 0.0506, 0.0314, 0.0175, 0.0, -0.0089, -0.0167, -0.0162, -0.0055, 0.0116, 0.0295, null], \"yaxis\": \"y3\", \"type\": \"scatter\", \"xaxis\": \"x3\"}, {\"legendgroup\": \"chart (2, 1)\", \"name\": \"chart (2, 1) 20190118\", \"uid\": \"c7697cda-a3e3-11e9-bcee-8c859025e7f9\", \"x\": [-0.3, -0.25, -0.2, -0.15, -0.1, -0.05, 0.0, 0.05, 0.1, 0.15, 0.2, 0.25, 0.3, 0.35], \"y\": [0.1666, 0.121, 0.077, 0.0445, 0.0242, 0.0108, 0.0, -0.0076, -0.0104, -0.0102, -0.0001, 0.0215, null, null], \"yaxis\": \"y3\", \"type\": \"scatter\", \"xaxis\": \"x3\"}, {\"legendgroup\": \"chart (2, 1)\", \"name\": \"chart (2, 1) 20190121\", \"uid\": \"c769fa3e-a3e3-11e9-acfa-8c859025e7f9\", \"x\": [-0.3, -0.25, -0.2, -0.15, -0.1, -0.05, 0.0, 0.05, 0.1, 0.15, 0.2, 0.25, 0.3, 0.35], \"y\": [0.1749, 0.1146, 0.0816, 0.0475, 0.0263, 0.0111, 0.0, -0.007, -0.0074, -0.0069, 0.0081, 0.0262, null, null], \"yaxis\": \"y3\", \"type\": \"scatter\", \"xaxis\": \"x3\"}, {\"legendgroup\": \"chart (2, 2)\", \"name\": \"chart (2, 2) 20190122\", \"uid\": \"c76aea86-a3e3-11e9-821d-8c859025e7f9\", \"x\": [-0.3, -0.25, -0.2, -0.15, -0.1, -0.05, 0.0, 0.05, 0.1, 0.15, 0.2, 0.25, 0.3, 0.35], \"y\": [0.1636, 0.1191, 0.0792, 0.0474, 0.0289, 0.0126, 0.0, -0.0119, -0.0188, -0.0186, -0.0097, 0.0045, 0.0166, null], \"yaxis\": \"y4\", \"type\": \"scatter\", \"xaxis\": \"x4\"}, {\"legendgroup\": \"chart (2, 2)\", \"name\": \"chart (2, 2) 20190123\", \"uid\": \"c76b75b4-a3e3-11e9-99f2-8c859025e7f9\", \"x\": [-0.3, -0.25, -0.2, -0.15, -0.1, -0.05, 0.0, 0.05, 0.1, 0.15, 0.2, 0.25, 0.3, 0.35], \"y\": [0.1572, 0.1178, 0.0863, 0.056, 0.0321, 0.0136, 0.0, -0.0121, -0.0198, -0.0179, -0.0039, 0.0146, 0.0338, null], \"yaxis\": \"y4\", \"type\": \"scatter\", \"xaxis\": \"x4\"}, {\"legendgroup\": \"chart (2, 2)\", \"name\": \"chart (2, 2) 20190124\", \"uid\": \"c76c63a8-a3e3-11e9-a8a5-8c859025e7f9\", \"x\": [-0.3, -0.25, -0.2, -0.15, -0.1, -0.05, 0.0, 0.05, 0.1, 0.15, 0.2, 0.25, 0.3, 0.35], \"y\": [0.1881, 0.1391, 0.0916, 0.0588, 0.0338, 0.0171, 0.0, -0.0061, -0.0091, -0.0025, 0.0099, 0.0337, 0.0578, null], \"yaxis\": \"y4\", \"type\": \"scatter\", \"xaxis\": \"x4\"}, {\"legendgroup\": \"chart (2, 2)\", \"name\": \"chart (2, 2) 20190125\", \"uid\": \"c76d533a-a3e3-11e9-ac7a-8c859025e7f9\", \"x\": [-0.3, -0.25, -0.2, -0.15, -0.1, -0.05, 0.0, 0.05, 0.1, 0.15, 0.2, 0.25, 0.3, 0.35], \"y\": [0.1898, 0.1411, 0.0943, 0.0555, 0.0308, 0.0123, 0.0, -0.0044, -0.001, 0.0045, 0.0192, 0.0496, 0.0748, null], \"yaxis\": \"y4\", \"type\": \"scatter\", \"xaxis\": \"x4\"}, {\"legendgroup\": \"chart (2, 2)\", \"name\": \"chart (2, 2) 20190128\", \"uid\": \"c76df4f4-a3e3-11e9-9426-8c859025e7f9\", \"x\": [-0.3, -0.25, -0.2, -0.15, -0.1, -0.05, 0.0, 0.05, 0.1, 0.15, 0.2, 0.25, 0.3, 0.35], \"y\": [0.19, 0.1402, 0.0943, 0.0571, 0.0319, 0.0126, 0.0, -0.0126, -0.0131, -0.0057, 0.0153, 0.0441, 0.07, 0.0999], \"yaxis\": \"y4\", \"type\": \"scatter\", \"xaxis\": \"x4\"}], {\"annotations\": [{\"font\": {\"size\": 16}, \"showarrow\": false, \"text\": \"CBJ19 20181231 - 20190107\", \"x\": 0.2275, \"xanchor\": \"center\", \"xref\": \"paper\", \"y\": 1.0, \"yanchor\": \"bottom\", \"yref\": \"paper\"}, {\"font\": {\"size\": 16}, \"showarrow\": false, \"text\": \"CBJ19 20190108 - 20190114\", \"x\": 0.7725, \"xanchor\": \"center\", \"xref\": \"paper\", \"y\": 1.0, \"yanchor\": \"bottom\", \"yref\": \"paper\"}, {\"font\": {\"size\": 16}, \"showarrow\": false, \"text\": \"CBJ19 20190115 - 20190121\", \"x\": 0.2275, \"xanchor\": \"center\", \"xref\": \"paper\", \"y\": 0.445, \"yanchor\": \"bottom\", \"yref\": \"paper\"}, {\"font\": {\"size\": 16}, \"showarrow\": false, \"text\": \"CBJ19 20190122 - 20190128\", \"x\": 0.7725, \"xanchor\": \"center\", \"xref\": \"paper\", \"y\": 0.445, \"yanchor\": \"bottom\", \"yref\": \"paper\"}], \"xaxis\": {\"anchor\": \"y\", \"domain\": [0.0, 0.455], \"tickangle\": 45, \"ticktext\": [-0.3, -0.25, -0.2, -0.15, -0.1, -0.05, 0.0, 0.05, 0.1, 0.15, 0.2, 0.25, 0.3, 0.35], \"tickvals\": [-0.3, -0.25, -0.2, -0.15, -0.1, -0.05, 0.0, 0.05, 0.1, 0.15, 0.2, 0.25, 0.3, 0.35], \"type\": \"category\"}, \"yaxis\": {\"anchor\": \"x\", \"domain\": [0.555, 1.0], \"title\": \"vol skew\"}, \"xaxis2\": {\"anchor\": \"y2\", \"domain\": [0.545, 1.0], \"tickangle\": 45, \"ticktext\": [-0.3, -0.25, -0.2, -0.15, -0.1, -0.05, 0.0, 0.05, 0.1, 0.15, 0.2, 0.25, 0.3, 0.35], \"tickvals\": [-0.3, -0.25, -0.2, -0.15, -0.1, -0.05, 0.0, 0.05, 0.1, 0.15, 0.2, 0.25, 0.3, 0.35], \"type\": \"category\"}, \"yaxis2\": {\"anchor\": \"x2\", \"domain\": [0.555, 1.0], \"title\": \"vol skew\"}, \"xaxis3\": {\"anchor\": \"y3\", \"domain\": [0.0, 0.455], \"tickangle\": 45, \"ticktext\": [-0.3, -0.25, -0.2, -0.15, -0.1, -0.05, 0.0, 0.05, 0.1, 0.15, 0.2, 0.25, 0.3, 0.35], \"tickvals\": [-0.3, -0.25, -0.2, -0.15, -0.1, -0.05, 0.0, 0.05, 0.1, 0.15, 0.2, 0.25, 0.3, 0.35], \"type\": \"category\"}, \"yaxis3\": {\"anchor\": \"x3\", \"domain\": [0.0, 0.445], \"title\": \"vol skew\"}, \"xaxis4\": {\"anchor\": \"y4\", \"domain\": [0.545, 1.0], \"tickangle\": 45, \"ticktext\": [-0.3, -0.25, -0.2, -0.15, -0.1, -0.05, 0.0, 0.05, 0.1, 0.15, 0.2, 0.25, 0.3, 0.35], \"tickvals\": [-0.3, -0.25, -0.2, -0.15, -0.1, -0.05, 0.0, 0.05, 0.1, 0.15, 0.2, 0.25, 0.3, 0.35], \"type\": \"category\"}, \"yaxis4\": {\"anchor\": \"x4\", \"domain\": [0.0, 0.445], \"title\": \"vol skew\"}, \"font\": {\"family\": \"Open Sans, sans-serif\"}, \"margin\": {\"b\": 55, \"l\": 45, \"r\": 15, \"t\": 50}, \"title\": \"Skew plots<br>\", \"showlegend\": true, \"hovermode\": \"x\", \"autosize\": true, \"width\": 900, \"height\": 800, \"plot_bgcolor\": \"#EFECEA\", \"bargap\": 0.05}, {\"showLink\": true, \"linkText\": \"Export to plot.ly\"})});</script>"
      ]
     },
     "metadata": {},
     "output_type": "display_data"
    },
    {
     "data": {
      "application/vnd.plotly.v1+json": {
       "data": [
        {
         "legendgroup": "chart (1, 1)",
         "name": "chart (1, 1) 20190129",
         "type": "scatter",
         "uid": "c776e488-a3e3-11e9-8566-8c859025e7f9",
         "x": [
          -0.3,
          -0.25,
          -0.2,
          -0.15,
          -0.1,
          -0.05,
          0,
          0.05,
          0.1,
          0.15,
          0.2,
          0.25,
          0.3,
          0.35
         ],
         "xaxis": "x",
         "y": [
          null,
          null,
          null,
          null,
          null,
          null,
          0,
          null,
          null,
          null,
          null,
          0.0655,
          null,
          null
         ],
         "yaxis": "y"
        },
        {
         "legendgroup": "chart (1, 1)",
         "name": "chart (1, 1) 20190130",
         "type": "scatter",
         "uid": "c7775cb0-a3e3-11e9-9716-8c859025e7f9",
         "x": [
          -0.3,
          -0.25,
          -0.2,
          -0.15,
          -0.1,
          -0.05,
          0,
          0.05,
          0.1,
          0.15,
          0.2,
          0.25,
          0.3,
          0.35
         ],
         "xaxis": "x",
         "y": [
          0.1982,
          0.1429,
          0.101,
          0.0608,
          0.0309,
          0.0112,
          0,
          -0.0033,
          0.0036,
          0.0151,
          0.045,
          0.0742,
          0.1147,
          null
         ],
         "yaxis": "y"
        },
        {
         "legendgroup": "chart (1, 1)",
         "name": "chart (1, 1) 20190131",
         "type": "scatter",
         "uid": "c777c7f4-a3e3-11e9-b7c7-8c859025e7f9",
         "x": [
          -0.3,
          -0.25,
          -0.2,
          -0.15,
          -0.1,
          -0.05,
          0,
          0.05,
          0.1,
          0.15,
          0.2,
          0.25,
          0.3,
          0.35
         ],
         "xaxis": "x",
         "y": [
          0.2144,
          0.1585,
          0.116,
          0.0721,
          0.0373,
          0.0136,
          0,
          -0.0071,
          -0.0017,
          0.0133,
          0.038,
          0.0731,
          0.1075,
          null
         ],
         "yaxis": "y"
        }
       ],
       "layout": {
        "annotations": [
         {
          "font": {
           "size": 16
          },
          "showarrow": false,
          "text": "CBJ19 20190129 - 20190131",
          "x": 0.2275,
          "xanchor": "center",
          "xref": "paper",
          "y": 1,
          "yanchor": "bottom",
          "yref": "paper"
         }
        ],
        "autosize": true,
        "bargap": 0.05,
        "font": {
         "family": "Open Sans, sans-serif"
        },
        "height": 800,
        "hovermode": "x",
        "margin": {
         "b": 55,
         "l": 45,
         "r": 15,
         "t": 50
        },
        "plot_bgcolor": "#EFECEA",
        "showlegend": true,
        "title": "Skew plots<br>",
        "width": 900,
        "xaxis": {
         "anchor": "y",
         "domain": [
          0,
          0.455
         ],
         "tickangle": 45,
         "ticktext": [
          -0.3,
          -0.25,
          -0.2,
          -0.15,
          -0.1,
          -0.05,
          0,
          0.05,
          0.1,
          0.15,
          0.2,
          0.25,
          0.3,
          0.35
         ],
         "tickvals": [
          -0.3,
          -0.25,
          -0.2,
          -0.15,
          -0.1,
          -0.05,
          0,
          0.05,
          0.1,
          0.15,
          0.2,
          0.25,
          0.3,
          0.35
         ],
         "type": "category"
        },
        "xaxis2": {
         "anchor": "y2",
         "domain": [
          0.545,
          1
         ]
        },
        "xaxis3": {
         "anchor": "y3",
         "domain": [
          0,
          0.455
         ]
        },
        "xaxis4": {
         "anchor": "y4",
         "domain": [
          0.545,
          1
         ]
        },
        "yaxis": {
         "anchor": "x",
         "domain": [
          0.555,
          1
         ],
         "title": "vol skew"
        },
        "yaxis2": {
         "anchor": "x2",
         "domain": [
          0.555,
          1
         ]
        },
        "yaxis3": {
         "anchor": "x3",
         "domain": [
          0,
          0.445
         ]
        },
        "yaxis4": {
         "anchor": "x4",
         "domain": [
          0,
          0.445
         ]
        }
       }
      },
      "text/html": [
       "<div id=\"51e5edec-8488-4af2-9a28-daf73c7649af\" style=\"height: 800px; width: 900px;\" class=\"plotly-graph-div\"></div><script type=\"text/javascript\">require([\"plotly\"], function(Plotly) { window.PLOTLYENV=window.PLOTLYENV || {};window.PLOTLYENV.BASE_URL=\"https://plot.ly\";Plotly.newPlot(\"51e5edec-8488-4af2-9a28-daf73c7649af\", [{\"legendgroup\": \"chart (1, 1)\", \"name\": \"chart (1, 1) 20190129\", \"uid\": \"c776e488-a3e3-11e9-8566-8c859025e7f9\", \"x\": [-0.3, -0.25, -0.2, -0.15, -0.1, -0.05, 0.0, 0.05, 0.1, 0.15, 0.2, 0.25, 0.3, 0.35], \"y\": [null, null, null, null, null, null, 0.0, null, null, null, null, 0.0655, null, null], \"yaxis\": \"y\", \"type\": \"scatter\", \"xaxis\": \"x\"}, {\"legendgroup\": \"chart (1, 1)\", \"name\": \"chart (1, 1) 20190130\", \"uid\": \"c7775cb0-a3e3-11e9-9716-8c859025e7f9\", \"x\": [-0.3, -0.25, -0.2, -0.15, -0.1, -0.05, 0.0, 0.05, 0.1, 0.15, 0.2, 0.25, 0.3, 0.35], \"y\": [0.1982, 0.1429, 0.101, 0.0608, 0.0309, 0.0112, 0.0, -0.0033, 0.0036, 0.0151, 0.045, 0.0742, 0.1147, null], \"yaxis\": \"y\", \"type\": \"scatter\", \"xaxis\": \"x\"}, {\"legendgroup\": \"chart (1, 1)\", \"name\": \"chart (1, 1) 20190131\", \"uid\": \"c777c7f4-a3e3-11e9-b7c7-8c859025e7f9\", \"x\": [-0.3, -0.25, -0.2, -0.15, -0.1, -0.05, 0.0, 0.05, 0.1, 0.15, 0.2, 0.25, 0.3, 0.35], \"y\": [0.2144, 0.1585, 0.116, 0.0721, 0.0373, 0.0136, 0.0, -0.0071, -0.0017, 0.0133, 0.038, 0.0731, 0.1075, null], \"yaxis\": \"y\", \"type\": \"scatter\", \"xaxis\": \"x\"}], {\"annotations\": [{\"font\": {\"size\": 16}, \"showarrow\": false, \"text\": \"CBJ19 20190129 - 20190131\", \"x\": 0.2275, \"xanchor\": \"center\", \"xref\": \"paper\", \"y\": 1.0, \"yanchor\": \"bottom\", \"yref\": \"paper\"}], \"xaxis\": {\"anchor\": \"y\", \"domain\": [0.0, 0.455], \"tickangle\": 45, \"ticktext\": [-0.3, -0.25, -0.2, -0.15, -0.1, -0.05, 0.0, 0.05, 0.1, 0.15, 0.2, 0.25, 0.3, 0.35], \"tickvals\": [-0.3, -0.25, -0.2, -0.15, -0.1, -0.05, 0.0, 0.05, 0.1, 0.15, 0.2, 0.25, 0.3, 0.35], \"type\": \"category\"}, \"yaxis\": {\"anchor\": \"x\", \"domain\": [0.555, 1.0], \"title\": \"vol skew\"}, \"xaxis2\": {\"anchor\": \"y2\", \"domain\": [0.545, 1.0]}, \"yaxis2\": {\"anchor\": \"x2\", \"domain\": [0.555, 1.0]}, \"xaxis3\": {\"anchor\": \"y3\", \"domain\": [0.0, 0.455]}, \"yaxis3\": {\"anchor\": \"x3\", \"domain\": [0.0, 0.445]}, \"xaxis4\": {\"anchor\": \"y4\", \"domain\": [0.545, 1.0]}, \"yaxis4\": {\"anchor\": \"x4\", \"domain\": [0.0, 0.445]}, \"font\": {\"family\": \"Open Sans, sans-serif\"}, \"margin\": {\"b\": 55, \"l\": 45, \"r\": 15, \"t\": 50}, \"title\": \"Skew plots<br>\", \"showlegend\": true, \"hovermode\": \"x\", \"autosize\": true, \"width\": 900, \"height\": 800, \"plot_bgcolor\": \"#EFECEA\", \"bargap\": 0.05}, {\"showLink\": true, \"linkText\": \"Export to plot.ly\"})});</script>"
      ],
      "text/vnd.plotly.v1+html": [
       "<div id=\"51e5edec-8488-4af2-9a28-daf73c7649af\" style=\"height: 800px; width: 900px;\" class=\"plotly-graph-div\"></div><script type=\"text/javascript\">require([\"plotly\"], function(Plotly) { window.PLOTLYENV=window.PLOTLYENV || {};window.PLOTLYENV.BASE_URL=\"https://plot.ly\";Plotly.newPlot(\"51e5edec-8488-4af2-9a28-daf73c7649af\", [{\"legendgroup\": \"chart (1, 1)\", \"name\": \"chart (1, 1) 20190129\", \"uid\": \"c776e488-a3e3-11e9-8566-8c859025e7f9\", \"x\": [-0.3, -0.25, -0.2, -0.15, -0.1, -0.05, 0.0, 0.05, 0.1, 0.15, 0.2, 0.25, 0.3, 0.35], \"y\": [null, null, null, null, null, null, 0.0, null, null, null, null, 0.0655, null, null], \"yaxis\": \"y\", \"type\": \"scatter\", \"xaxis\": \"x\"}, {\"legendgroup\": \"chart (1, 1)\", \"name\": \"chart (1, 1) 20190130\", \"uid\": \"c7775cb0-a3e3-11e9-9716-8c859025e7f9\", \"x\": [-0.3, -0.25, -0.2, -0.15, -0.1, -0.05, 0.0, 0.05, 0.1, 0.15, 0.2, 0.25, 0.3, 0.35], \"y\": [0.1982, 0.1429, 0.101, 0.0608, 0.0309, 0.0112, 0.0, -0.0033, 0.0036, 0.0151, 0.045, 0.0742, 0.1147, null], \"yaxis\": \"y\", \"type\": \"scatter\", \"xaxis\": \"x\"}, {\"legendgroup\": \"chart (1, 1)\", \"name\": \"chart (1, 1) 20190131\", \"uid\": \"c777c7f4-a3e3-11e9-b7c7-8c859025e7f9\", \"x\": [-0.3, -0.25, -0.2, -0.15, -0.1, -0.05, 0.0, 0.05, 0.1, 0.15, 0.2, 0.25, 0.3, 0.35], \"y\": [0.2144, 0.1585, 0.116, 0.0721, 0.0373, 0.0136, 0.0, -0.0071, -0.0017, 0.0133, 0.038, 0.0731, 0.1075, null], \"yaxis\": \"y\", \"type\": \"scatter\", \"xaxis\": \"x\"}], {\"annotations\": [{\"font\": {\"size\": 16}, \"showarrow\": false, \"text\": \"CBJ19 20190129 - 20190131\", \"x\": 0.2275, \"xanchor\": \"center\", \"xref\": \"paper\", \"y\": 1.0, \"yanchor\": \"bottom\", \"yref\": \"paper\"}], \"xaxis\": {\"anchor\": \"y\", \"domain\": [0.0, 0.455], \"tickangle\": 45, \"ticktext\": [-0.3, -0.25, -0.2, -0.15, -0.1, -0.05, 0.0, 0.05, 0.1, 0.15, 0.2, 0.25, 0.3, 0.35], \"tickvals\": [-0.3, -0.25, -0.2, -0.15, -0.1, -0.05, 0.0, 0.05, 0.1, 0.15, 0.2, 0.25, 0.3, 0.35], \"type\": \"category\"}, \"yaxis\": {\"anchor\": \"x\", \"domain\": [0.555, 1.0], \"title\": \"vol skew\"}, \"xaxis2\": {\"anchor\": \"y2\", \"domain\": [0.545, 1.0]}, \"yaxis2\": {\"anchor\": \"x2\", \"domain\": [0.555, 1.0]}, \"xaxis3\": {\"anchor\": \"y3\", \"domain\": [0.0, 0.455]}, \"yaxis3\": {\"anchor\": \"x3\", \"domain\": [0.0, 0.445]}, \"xaxis4\": {\"anchor\": \"y4\", \"domain\": [0.545, 1.0]}, \"yaxis4\": {\"anchor\": \"x4\", \"domain\": [0.0, 0.445]}, \"font\": {\"family\": \"Open Sans, sans-serif\"}, \"margin\": {\"b\": 55, \"l\": 45, \"r\": 15, \"t\": 50}, \"title\": \"Skew plots<br>\", \"showlegend\": true, \"hovermode\": \"x\", \"autosize\": true, \"width\": 900, \"height\": 800, \"plot_bgcolor\": \"#EFECEA\", \"bargap\": 0.05}, {\"showLink\": true, \"linkText\": \"Export to plot.ly\"})});</script>"
      ]
     },
     "metadata": {},
     "output_type": "display_data"
    },
    {
     "data": {
      "application/vnd.plotly.v1+json": {
       "data": [
        {
         "legendgroup": "chart (1, 1)",
         "name": "chart (1, 1) 20190201",
         "type": "scatter",
         "uid": "c7bd999e-a3e3-11e9-a0c4-8c859025e7f9",
         "x": [
          -0.3,
          -0.25,
          -0.2,
          -0.15,
          -0.1,
          -0.05,
          0,
          0.05,
          0.1,
          0.15,
          0.2,
          0.25,
          0.3,
          0.35
         ],
         "xaxis": "x",
         "y": [
          0.129,
          0.0892,
          0.0587,
          0.0359,
          0.0201,
          0.0089,
          0,
          -0.0096,
          -0.0119,
          -0.009,
          -0.0001,
          0.0113,
          0.0299,
          0.0534
         ],
         "yaxis": "y"
        },
        {
         "legendgroup": "chart (1, 1)",
         "name": "chart (1, 1) 20190204",
         "type": "scatter",
         "uid": "c7be01d8-a3e3-11e9-9da0-8c859025e7f9",
         "x": [
          -0.3,
          -0.25,
          -0.2,
          -0.15,
          -0.1,
          -0.05,
          0,
          0.05,
          0.1,
          0.15,
          0.2,
          0.25,
          0.3,
          0.35
         ],
         "xaxis": "x",
         "y": [
          0.1476,
          0.106,
          0.0671,
          0.0447,
          0.0272,
          0.0129,
          0,
          -0.0092,
          -0.0091,
          -0.0054,
          0.0043,
          0.0245,
          0.04,
          0.0578
         ],
         "yaxis": "y"
        },
        {
         "legendgroup": "chart (1, 1)",
         "name": "chart (1, 1) 20190205",
         "type": "scatter",
         "uid": "c7be62ae-a3e3-11e9-ae95-8c859025e7f9",
         "x": [
          -0.3,
          -0.25,
          -0.2,
          -0.15,
          -0.1,
          -0.05,
          0,
          0.05,
          0.1,
          0.15,
          0.2,
          0.25,
          0.3,
          0.35
         ],
         "xaxis": "x",
         "y": [
          0.1518,
          0.1127,
          0.0776,
          0.0522,
          0.0303,
          0.0137,
          0,
          -0.0088,
          -0.0102,
          -0.0082,
          0.0014,
          0.017,
          0.0381,
          0.061
         ],
         "yaxis": "y"
        },
        {
         "legendgroup": "chart (1, 1)",
         "name": "chart (1, 1) 20190206",
         "type": "scatter",
         "uid": "c7bec1cc-a3e3-11e9-9c9e-8c859025e7f9",
         "x": [
          -0.3,
          -0.25,
          -0.2,
          -0.15,
          -0.1,
          -0.05,
          0,
          0.05,
          0.1,
          0.15,
          0.2,
          0.25,
          0.3,
          0.35
         ],
         "xaxis": "x",
         "y": [
          0.1646,
          0.1157,
          0.077,
          0.0478,
          0.0258,
          0.0095,
          0,
          -0.0108,
          -0.0138,
          -0.0092,
          0.0029,
          0.0179,
          0.0447,
          0.0589
         ],
         "yaxis": "y"
        },
        {
         "legendgroup": "chart (1, 1)",
         "name": "chart (1, 1) 20190207",
         "type": "scatter",
         "uid": "c7bf58d0-a3e3-11e9-8279-8c859025e7f9",
         "x": [
          -0.3,
          -0.25,
          -0.2,
          -0.15,
          -0.1,
          -0.05,
          0,
          0.05,
          0.1,
          0.15,
          0.2,
          0.25,
          0.3,
          0.35
         ],
         "xaxis": "x",
         "y": [
          0.1644,
          0.1221,
          0.0834,
          0.053,
          0.032,
          0.016,
          0,
          -0.0091,
          -0.0122,
          -0.007,
          0.006,
          0.0288,
          0.0501,
          0.064
         ],
         "yaxis": "y"
        },
        {
         "legendgroup": "chart (1, 2)",
         "name": "chart (1, 2) 20190208",
         "type": "scatter",
         "uid": "c7c0e042-a3e3-11e9-8b9e-8c859025e7f9",
         "x": [
          -0.3,
          -0.25,
          -0.2,
          -0.15,
          -0.1,
          -0.05,
          0,
          0.05,
          0.1,
          0.15,
          0.2,
          0.25,
          0.3,
          0.35
         ],
         "xaxis": "x2",
         "y": [
          0.1819,
          0.1238,
          0.0849,
          0.053,
          0.0301,
          0.0138,
          0,
          -0.0089,
          -0.0085,
          -0.0006,
          0.0152,
          0.0378,
          0.0659,
          0.0882
         ],
         "yaxis": "y2"
        },
        {
         "legendgroup": "chart (1, 2)",
         "name": "chart (1, 2) 20190211",
         "type": "scatter",
         "uid": "c7c14d1e-a3e3-11e9-abc7-8c859025e7f9",
         "x": [
          -0.3,
          -0.25,
          -0.2,
          -0.15,
          -0.1,
          -0.05,
          0,
          0.05,
          0.1,
          0.15,
          0.2,
          0.25,
          0.3,
          0.35
         ],
         "xaxis": "x2",
         "y": [
          0.179,
          0.1332,
          0.0849,
          0.0517,
          0.0278,
          0.0104,
          0,
          -0.0066,
          -0.0092,
          -0.0026,
          0.0173,
          0.0386,
          0.0662,
          0.096
         ],
         "yaxis": "y2"
        },
        {
         "legendgroup": "chart (1, 2)",
         "name": "chart (1, 2) 20190212",
         "type": "scatter",
         "uid": "c7c1b724-a3e3-11e9-a7c5-8c859025e7f9",
         "x": [
          -0.3,
          -0.25,
          -0.2,
          -0.15,
          -0.1,
          -0.05,
          0,
          0.05,
          0.1,
          0.15,
          0.2,
          0.25,
          0.3,
          0.35
         ],
         "xaxis": "x2",
         "y": [
          0.1894,
          0.136,
          0.0926,
          0.0533,
          0.0284,
          0.0125,
          0,
          -0.0102,
          -0.0106,
          -0.0036,
          0.0143,
          null,
          0.0698,
          0.0937
         ],
         "yaxis": "y2"
        },
        {
         "legendgroup": "chart (1, 2)",
         "name": "chart (1, 2) 20190213",
         "type": "scatter",
         "uid": "c7c225b0-a3e3-11e9-9c80-8c859025e7f9",
         "x": [
          -0.3,
          -0.25,
          -0.2,
          -0.15,
          -0.1,
          -0.05,
          0,
          0.05,
          0.1,
          0.15,
          0.2,
          0.25,
          0.3,
          0.35
         ],
         "xaxis": "x2",
         "y": [
          0.1994,
          0.1503,
          0.0984,
          0.0563,
          0.0321,
          0.0121,
          0,
          -0.0059,
          -0.0044,
          0.0063,
          0.0227,
          0.0461,
          0.0709,
          0.1004
         ],
         "yaxis": "y2"
        },
        {
         "legendgroup": "chart (1, 2)",
         "name": "chart (1, 2) 20190214",
         "type": "scatter",
         "uid": "c7c291ee-a3e3-11e9-b580-8c859025e7f9",
         "x": [
          -0.3,
          -0.25,
          -0.2,
          -0.15,
          -0.1,
          -0.05,
          0,
          0.05,
          0.1,
          0.15,
          0.2,
          0.25,
          0.3,
          0.35
         ],
         "xaxis": "x2",
         "y": [
          0.2067,
          0.1452,
          0.0923,
          0.0545,
          0.0284,
          0.0142,
          0,
          -0.0079,
          -0.0048,
          0.0081,
          0.0302,
          0.0557,
          0.0758,
          null
         ],
         "yaxis": "y2"
        },
        {
         "legendgroup": "chart (2, 1)",
         "name": "chart (2, 1) 20190215",
         "type": "scatter",
         "uid": "c7c37e62-a3e3-11e9-a7d5-8c859025e7f9",
         "x": [
          -0.3,
          -0.25,
          -0.2,
          -0.15,
          -0.1,
          -0.05,
          0,
          0.05,
          0.1,
          0.15,
          0.2,
          0.25,
          0.3,
          0.35
         ],
         "xaxis": "x3",
         "y": [
          0.1873,
          0.134,
          0.091,
          0.0543,
          0.0263,
          0.0077,
          0,
          -0.0061,
          -0.0003,
          0.0132,
          0.0336,
          0.0518,
          0.076,
          null
         ],
         "yaxis": "y3"
        },
        {
         "legendgroup": "chart (2, 1)",
         "name": "chart (2, 1) 20190218",
         "type": "scatter",
         "uid": "c7c3e09e-a3e3-11e9-a812-8c859025e7f9",
         "x": [
          -0.3,
          -0.25,
          -0.2,
          -0.15,
          -0.1,
          -0.05,
          0,
          0.05,
          0.1,
          0.15,
          0.2,
          0.25,
          0.3,
          0.35
         ],
         "xaxis": "x3",
         "y": [
          null,
          null,
          null,
          null,
          null,
          null,
          0,
          null,
          null,
          null,
          null,
          null,
          null,
          null
         ],
         "yaxis": "y3"
        },
        {
         "legendgroup": "chart (2, 1)",
         "name": "chart (2, 1) 20190219",
         "type": "scatter",
         "uid": "c7c4421e-a3e3-11e9-82ef-8c859025e7f9",
         "x": [
          -0.3,
          -0.25,
          -0.2,
          -0.15,
          -0.1,
          -0.05,
          0,
          0.05,
          0.1,
          0.15,
          0.2,
          0.25,
          0.3,
          0.35
         ],
         "xaxis": "x3",
         "y": [
          0.2157,
          0.1592,
          0.0997,
          0.0579,
          0.0319,
          0.0138,
          0,
          -0.0089,
          -0.0032,
          0.0149,
          0.0393,
          0.0596,
          0.095,
          null
         ],
         "yaxis": "y3"
        },
        {
         "legendgroup": "chart (2, 1)",
         "name": "chart (2, 1) 20190220",
         "type": "scatter",
         "uid": "c7c4a1a8-a3e3-11e9-9952-8c859025e7f9",
         "x": [
          -0.3,
          -0.25,
          -0.2,
          -0.15,
          -0.1,
          -0.05,
          0,
          0.05,
          0.1,
          0.15,
          0.2,
          0.25,
          0.3,
          0.35
         ],
         "xaxis": "x3",
         "y": [
          0.2275,
          0.1724,
          0.1098,
          0.0639,
          0.0354,
          0.0163,
          0,
          -0.0029,
          0.0004,
          0.0197,
          0.0447,
          0.0711,
          null,
          null
         ],
         "yaxis": "y3"
        },
        {
         "legendgroup": "chart (2, 1)",
         "name": "chart (2, 1) 20190221",
         "type": "scatter",
         "uid": "c7c500b4-a3e3-11e9-992d-8c859025e7f9",
         "x": [
          -0.3,
          -0.25,
          -0.2,
          -0.15,
          -0.1,
          -0.05,
          0,
          0.05,
          0.1,
          0.15,
          0.2,
          0.25,
          0.3,
          0.35
         ],
         "xaxis": "x3",
         "y": [
          0.2203,
          0.1676,
          0.1184,
          0.066,
          0.0366,
          0.0175,
          0,
          -0.0048,
          0.0013,
          0.0192,
          0.0445,
          0.0741,
          null,
          null
         ],
         "yaxis": "y3"
        },
        {
         "legendgroup": "chart (2, 2)",
         "name": "chart (2, 2) 20190222",
         "type": "scatter",
         "uid": "c7c5dcb4-a3e3-11e9-9bfd-8c859025e7f9",
         "x": [
          -0.3,
          -0.25,
          -0.2,
          -0.15,
          -0.1,
          -0.05,
          0,
          0.05,
          0.1,
          0.15,
          0.2,
          0.25,
          0.3,
          0.35
         ],
         "xaxis": "x4",
         "y": [
          0.2226,
          0.1575,
          0.1109,
          0.062,
          0.0299,
          0.0108,
          0,
          -0.0118,
          -0.0039,
          0.0134,
          0.0385,
          0.073,
          null,
          null
         ],
         "yaxis": "y4"
        },
        {
         "legendgroup": "chart (2, 2)",
         "name": "chart (2, 2) 20190225",
         "type": "scatter",
         "uid": "c7c63c7a-a3e3-11e9-bf80-8c859025e7f9",
         "x": [
          -0.3,
          -0.25,
          -0.2,
          -0.15,
          -0.1,
          -0.05,
          0,
          0.05,
          0.1,
          0.15,
          0.2,
          0.25,
          0.3,
          0.35
         ],
         "xaxis": "x4",
         "y": [
          0.2487,
          0.1881,
          0.1222,
          0.0772,
          0.0414,
          0.0206,
          0,
          -0.0115,
          -0.0087,
          0.0104,
          0.0316,
          0.0646,
          0.0861,
          null
         ],
         "yaxis": "y4"
        },
        {
         "legendgroup": "chart (2, 2)",
         "name": "chart (2, 2) 20190226",
         "type": "scatter",
         "uid": "c7c6b918-a3e3-11e9-be53-8c859025e7f9",
         "x": [
          -0.3,
          -0.25,
          -0.2,
          -0.15,
          -0.1,
          -0.05,
          0,
          0.05,
          0.1,
          0.15,
          0.2,
          0.25,
          0.3,
          0.35
         ],
         "xaxis": "x4",
         "y": [
          0.2248,
          0.1733,
          0.1201,
          0.0799,
          0.0424,
          0.0165,
          0,
          -0.0121,
          -0.0082,
          0.0089,
          0.027,
          0.0522,
          0.0736,
          null
         ],
         "yaxis": "y4"
        },
        {
         "legendgroup": "chart (2, 2)",
         "name": "chart (2, 2) 20190227",
         "type": "scatter",
         "uid": "c7c71cd2-a3e3-11e9-8ef4-8c859025e7f9",
         "x": [
          -0.3,
          -0.25,
          -0.2,
          -0.15,
          -0.1,
          -0.05,
          0,
          0.05,
          0.1,
          0.15,
          0.2,
          0.25,
          0.3,
          0.35
         ],
         "xaxis": "x4",
         "y": [
          0.2298,
          0.1753,
          0.1227,
          0.0815,
          0.0424,
          0.0211,
          0,
          -0.0056,
          0.0028,
          0.0229,
          0.0506,
          0.0757,
          0.0975,
          null
         ],
         "yaxis": "y4"
        },
        {
         "legendgroup": "chart (2, 2)",
         "name": "chart (2, 2) 20190228",
         "type": "scatter",
         "uid": "c7c78e9c-a3e3-11e9-a302-8c859025e7f9",
         "x": [
          -0.3,
          -0.25,
          -0.2,
          -0.15,
          -0.1,
          -0.05,
          0,
          0.05,
          0.1,
          0.15,
          0.2,
          0.25,
          0.3,
          0.35
         ],
         "xaxis": "x4",
         "y": [
          0.2425,
          0.1872,
          0.1315,
          0.0861,
          0.0435,
          0.015,
          0,
          -0.0107,
          -0.0003,
          0.0157,
          0.044,
          0.0585,
          0.108,
          null
         ],
         "yaxis": "y4"
        }
       ],
       "layout": {
        "annotations": [
         {
          "font": {
           "size": 16
          },
          "showarrow": false,
          "text": "CBK19 20190201 - 20190207",
          "x": 0.2275,
          "xanchor": "center",
          "xref": "paper",
          "y": 1,
          "yanchor": "bottom",
          "yref": "paper"
         },
         {
          "font": {
           "size": 16
          },
          "showarrow": false,
          "text": "CBK19 20190208 - 20190214",
          "x": 0.7725,
          "xanchor": "center",
          "xref": "paper",
          "y": 1,
          "yanchor": "bottom",
          "yref": "paper"
         },
         {
          "font": {
           "size": 16
          },
          "showarrow": false,
          "text": "CBK19 20190215 - 20190221",
          "x": 0.2275,
          "xanchor": "center",
          "xref": "paper",
          "y": 0.445,
          "yanchor": "bottom",
          "yref": "paper"
         },
         {
          "font": {
           "size": 16
          },
          "showarrow": false,
          "text": "CBK19 20190222 - 20190228",
          "x": 0.7725,
          "xanchor": "center",
          "xref": "paper",
          "y": 0.445,
          "yanchor": "bottom",
          "yref": "paper"
         }
        ],
        "autosize": true,
        "bargap": 0.05,
        "font": {
         "family": "Open Sans, sans-serif"
        },
        "height": 800,
        "hovermode": "x",
        "margin": {
         "b": 55,
         "l": 45,
         "r": 15,
         "t": 50
        },
        "plot_bgcolor": "#EFECEA",
        "showlegend": true,
        "title": "Skew plots<br>",
        "width": 900,
        "xaxis": {
         "anchor": "y",
         "domain": [
          0,
          0.455
         ],
         "tickangle": 45,
         "ticktext": [
          -0.3,
          -0.25,
          -0.2,
          -0.15,
          -0.1,
          -0.05,
          0,
          0.05,
          0.1,
          0.15,
          0.2,
          0.25,
          0.3,
          0.35
         ],
         "tickvals": [
          -0.3,
          -0.25,
          -0.2,
          -0.15,
          -0.1,
          -0.05,
          0,
          0.05,
          0.1,
          0.15,
          0.2,
          0.25,
          0.3,
          0.35
         ],
         "type": "category"
        },
        "xaxis2": {
         "anchor": "y2",
         "domain": [
          0.545,
          1
         ],
         "tickangle": 45,
         "ticktext": [
          -0.3,
          -0.25,
          -0.2,
          -0.15,
          -0.1,
          -0.05,
          0,
          0.05,
          0.1,
          0.15,
          0.2,
          0.25,
          0.3,
          0.35
         ],
         "tickvals": [
          -0.3,
          -0.25,
          -0.2,
          -0.15,
          -0.1,
          -0.05,
          0,
          0.05,
          0.1,
          0.15,
          0.2,
          0.25,
          0.3,
          0.35
         ],
         "type": "category"
        },
        "xaxis3": {
         "anchor": "y3",
         "domain": [
          0,
          0.455
         ],
         "tickangle": 45,
         "ticktext": [
          -0.3,
          -0.25,
          -0.2,
          -0.15,
          -0.1,
          -0.05,
          0,
          0.05,
          0.1,
          0.15,
          0.2,
          0.25,
          0.3,
          0.35
         ],
         "tickvals": [
          -0.3,
          -0.25,
          -0.2,
          -0.15,
          -0.1,
          -0.05,
          0,
          0.05,
          0.1,
          0.15,
          0.2,
          0.25,
          0.3,
          0.35
         ],
         "type": "category"
        },
        "xaxis4": {
         "anchor": "y4",
         "domain": [
          0.545,
          1
         ],
         "tickangle": 45,
         "ticktext": [
          -0.3,
          -0.25,
          -0.2,
          -0.15,
          -0.1,
          -0.05,
          0,
          0.05,
          0.1,
          0.15,
          0.2,
          0.25,
          0.3,
          0.35
         ],
         "tickvals": [
          -0.3,
          -0.25,
          -0.2,
          -0.15,
          -0.1,
          -0.05,
          0,
          0.05,
          0.1,
          0.15,
          0.2,
          0.25,
          0.3,
          0.35
         ],
         "type": "category"
        },
        "yaxis": {
         "anchor": "x",
         "domain": [
          0.555,
          1
         ],
         "title": "vol skew"
        },
        "yaxis2": {
         "anchor": "x2",
         "domain": [
          0.555,
          1
         ],
         "title": "vol skew"
        },
        "yaxis3": {
         "anchor": "x3",
         "domain": [
          0,
          0.445
         ],
         "title": "vol skew"
        },
        "yaxis4": {
         "anchor": "x4",
         "domain": [
          0,
          0.445
         ],
         "title": "vol skew"
        }
       }
      },
      "text/html": [
       "<div id=\"5f5a1db6-7aa2-4625-b98b-3c00d27be152\" style=\"height: 800px; width: 900px;\" class=\"plotly-graph-div\"></div><script type=\"text/javascript\">require([\"plotly\"], function(Plotly) { window.PLOTLYENV=window.PLOTLYENV || {};window.PLOTLYENV.BASE_URL=\"https://plot.ly\";Plotly.newPlot(\"5f5a1db6-7aa2-4625-b98b-3c00d27be152\", [{\"legendgroup\": \"chart (1, 1)\", \"name\": \"chart (1, 1) 20190201\", \"uid\": \"c7bd999e-a3e3-11e9-a0c4-8c859025e7f9\", \"x\": [-0.3, -0.25, -0.2, -0.15, -0.1, -0.05, 0.0, 0.05, 0.1, 0.15, 0.2, 0.25, 0.3, 0.35], \"y\": [0.129, 0.0892, 0.0587, 0.0359, 0.0201, 0.0089, 0.0, -0.0096, -0.0119, -0.009, -0.0001, 0.0113, 0.0299, 0.0534], \"yaxis\": \"y\", \"type\": \"scatter\", \"xaxis\": \"x\"}, {\"legendgroup\": \"chart (1, 1)\", \"name\": \"chart (1, 1) 20190204\", \"uid\": \"c7be01d8-a3e3-11e9-9da0-8c859025e7f9\", \"x\": [-0.3, -0.25, -0.2, -0.15, -0.1, -0.05, 0.0, 0.05, 0.1, 0.15, 0.2, 0.25, 0.3, 0.35], \"y\": [0.1476, 0.106, 0.0671, 0.0447, 0.0272, 0.0129, 0.0, -0.0092, -0.0091, -0.0054, 0.0043, 0.0245, 0.04, 0.0578], \"yaxis\": \"y\", \"type\": \"scatter\", \"xaxis\": \"x\"}, {\"legendgroup\": \"chart (1, 1)\", \"name\": \"chart (1, 1) 20190205\", \"uid\": \"c7be62ae-a3e3-11e9-ae95-8c859025e7f9\", \"x\": [-0.3, -0.25, -0.2, -0.15, -0.1, -0.05, 0.0, 0.05, 0.1, 0.15, 0.2, 0.25, 0.3, 0.35], \"y\": [0.1518, 0.1127, 0.0776, 0.0522, 0.0303, 0.0137, 0.0, -0.0088, -0.0102, -0.0082, 0.0014, 0.017, 0.0381, 0.061], \"yaxis\": \"y\", \"type\": \"scatter\", \"xaxis\": \"x\"}, {\"legendgroup\": \"chart (1, 1)\", \"name\": \"chart (1, 1) 20190206\", \"uid\": \"c7bec1cc-a3e3-11e9-9c9e-8c859025e7f9\", \"x\": [-0.3, -0.25, -0.2, -0.15, -0.1, -0.05, 0.0, 0.05, 0.1, 0.15, 0.2, 0.25, 0.3, 0.35], \"y\": [0.1646, 0.1157, 0.077, 0.0478, 0.0258, 0.0095, 0.0, -0.0108, -0.0138, -0.0092, 0.0029, 0.0179, 0.0447, 0.0589], \"yaxis\": \"y\", \"type\": \"scatter\", \"xaxis\": \"x\"}, {\"legendgroup\": \"chart (1, 1)\", \"name\": \"chart (1, 1) 20190207\", \"uid\": \"c7bf58d0-a3e3-11e9-8279-8c859025e7f9\", \"x\": [-0.3, -0.25, -0.2, -0.15, -0.1, -0.05, 0.0, 0.05, 0.1, 0.15, 0.2, 0.25, 0.3, 0.35], \"y\": [0.1644, 0.1221, 0.0834, 0.053, 0.032, 0.016, 0.0, -0.0091, -0.0122, -0.007, 0.006, 0.0288, 0.0501, 0.064], \"yaxis\": \"y\", \"type\": \"scatter\", \"xaxis\": \"x\"}, {\"legendgroup\": \"chart (1, 2)\", \"name\": \"chart (1, 2) 20190208\", \"uid\": \"c7c0e042-a3e3-11e9-8b9e-8c859025e7f9\", \"x\": [-0.3, -0.25, -0.2, -0.15, -0.1, -0.05, 0.0, 0.05, 0.1, 0.15, 0.2, 0.25, 0.3, 0.35], \"y\": [0.1819, 0.1238, 0.0849, 0.053, 0.0301, 0.0138, 0.0, -0.0089, -0.0085, -0.0006, 0.0152, 0.0378, 0.0659, 0.0882], \"yaxis\": \"y2\", \"type\": \"scatter\", \"xaxis\": \"x2\"}, {\"legendgroup\": \"chart (1, 2)\", \"name\": \"chart (1, 2) 20190211\", \"uid\": \"c7c14d1e-a3e3-11e9-abc7-8c859025e7f9\", \"x\": [-0.3, -0.25, -0.2, -0.15, -0.1, -0.05, 0.0, 0.05, 0.1, 0.15, 0.2, 0.25, 0.3, 0.35], \"y\": [0.179, 0.1332, 0.0849, 0.0517, 0.0278, 0.0104, 0.0, -0.0066, -0.0092, -0.0026, 0.0173, 0.0386, 0.0662, 0.096], \"yaxis\": \"y2\", \"type\": \"scatter\", \"xaxis\": \"x2\"}, {\"legendgroup\": \"chart (1, 2)\", \"name\": \"chart (1, 2) 20190212\", \"uid\": \"c7c1b724-a3e3-11e9-a7c5-8c859025e7f9\", \"x\": [-0.3, -0.25, -0.2, -0.15, -0.1, -0.05, 0.0, 0.05, 0.1, 0.15, 0.2, 0.25, 0.3, 0.35], \"y\": [0.1894, 0.136, 0.0926, 0.0533, 0.0284, 0.0125, 0.0, -0.0102, -0.0106, -0.0036, 0.0143, null, 0.0698, 0.0937], \"yaxis\": \"y2\", \"type\": \"scatter\", \"xaxis\": \"x2\"}, {\"legendgroup\": \"chart (1, 2)\", \"name\": \"chart (1, 2) 20190213\", \"uid\": \"c7c225b0-a3e3-11e9-9c80-8c859025e7f9\", \"x\": [-0.3, -0.25, -0.2, -0.15, -0.1, -0.05, 0.0, 0.05, 0.1, 0.15, 0.2, 0.25, 0.3, 0.35], \"y\": [0.1994, 0.1503, 0.0984, 0.0563, 0.0321, 0.0121, 0.0, -0.0059, -0.0044, 0.0063, 0.0227, 0.0461, 0.0709, 0.1004], \"yaxis\": \"y2\", \"type\": \"scatter\", \"xaxis\": \"x2\"}, {\"legendgroup\": \"chart (1, 2)\", \"name\": \"chart (1, 2) 20190214\", \"uid\": \"c7c291ee-a3e3-11e9-b580-8c859025e7f9\", \"x\": [-0.3, -0.25, -0.2, -0.15, -0.1, -0.05, 0.0, 0.05, 0.1, 0.15, 0.2, 0.25, 0.3, 0.35], \"y\": [0.2067, 0.1452, 0.0923, 0.0545, 0.0284, 0.0142, 0.0, -0.0079, -0.0048, 0.0081, 0.0302, 0.0557, 0.0758, null], \"yaxis\": \"y2\", \"type\": \"scatter\", \"xaxis\": \"x2\"}, {\"legendgroup\": \"chart (2, 1)\", \"name\": \"chart (2, 1) 20190215\", \"uid\": \"c7c37e62-a3e3-11e9-a7d5-8c859025e7f9\", \"x\": [-0.3, -0.25, -0.2, -0.15, -0.1, -0.05, 0.0, 0.05, 0.1, 0.15, 0.2, 0.25, 0.3, 0.35], \"y\": [0.1873, 0.134, 0.091, 0.0543, 0.0263, 0.0077, 0.0, -0.0061, -0.0003, 0.0132, 0.0336, 0.0518, 0.076, null], \"yaxis\": \"y3\", \"type\": \"scatter\", \"xaxis\": \"x3\"}, {\"legendgroup\": \"chart (2, 1)\", \"name\": \"chart (2, 1) 20190218\", \"uid\": \"c7c3e09e-a3e3-11e9-a812-8c859025e7f9\", \"x\": [-0.3, -0.25, -0.2, -0.15, -0.1, -0.05, 0.0, 0.05, 0.1, 0.15, 0.2, 0.25, 0.3, 0.35], \"y\": [null, null, null, null, null, null, 0.0, null, null, null, null, null, null, null], \"yaxis\": \"y3\", \"type\": \"scatter\", \"xaxis\": \"x3\"}, {\"legendgroup\": \"chart (2, 1)\", \"name\": \"chart (2, 1) 20190219\", \"uid\": \"c7c4421e-a3e3-11e9-82ef-8c859025e7f9\", \"x\": [-0.3, -0.25, -0.2, -0.15, -0.1, -0.05, 0.0, 0.05, 0.1, 0.15, 0.2, 0.25, 0.3, 0.35], \"y\": [0.2157, 0.1592, 0.0997, 0.0579, 0.0319, 0.0138, 0.0, -0.0089, -0.0032, 0.0149, 0.0393, 0.0596, 0.095, null], \"yaxis\": \"y3\", \"type\": \"scatter\", \"xaxis\": \"x3\"}, {\"legendgroup\": \"chart (2, 1)\", \"name\": \"chart (2, 1) 20190220\", \"uid\": \"c7c4a1a8-a3e3-11e9-9952-8c859025e7f9\", \"x\": [-0.3, -0.25, -0.2, -0.15, -0.1, -0.05, 0.0, 0.05, 0.1, 0.15, 0.2, 0.25, 0.3, 0.35], \"y\": [0.2275, 0.1724, 0.1098, 0.0639, 0.0354, 0.0163, 0.0, -0.0029, 0.0004, 0.0197, 0.0447, 0.0711, null, null], \"yaxis\": \"y3\", \"type\": \"scatter\", \"xaxis\": \"x3\"}, {\"legendgroup\": \"chart (2, 1)\", \"name\": \"chart (2, 1) 20190221\", \"uid\": \"c7c500b4-a3e3-11e9-992d-8c859025e7f9\", \"x\": [-0.3, -0.25, -0.2, -0.15, -0.1, -0.05, 0.0, 0.05, 0.1, 0.15, 0.2, 0.25, 0.3, 0.35], \"y\": [0.2203, 0.1676, 0.1184, 0.066, 0.0366, 0.0175, 0.0, -0.0048, 0.0013, 0.0192, 0.0445, 0.0741, null, null], \"yaxis\": \"y3\", \"type\": \"scatter\", \"xaxis\": \"x3\"}, {\"legendgroup\": \"chart (2, 2)\", \"name\": \"chart (2, 2) 20190222\", \"uid\": \"c7c5dcb4-a3e3-11e9-9bfd-8c859025e7f9\", \"x\": [-0.3, -0.25, -0.2, -0.15, -0.1, -0.05, 0.0, 0.05, 0.1, 0.15, 0.2, 0.25, 0.3, 0.35], \"y\": [0.2226, 0.1575, 0.1109, 0.062, 0.0299, 0.0108, 0.0, -0.0118, -0.0039, 0.0134, 0.0385, 0.073, null, null], \"yaxis\": \"y4\", \"type\": \"scatter\", \"xaxis\": \"x4\"}, {\"legendgroup\": \"chart (2, 2)\", \"name\": \"chart (2, 2) 20190225\", \"uid\": \"c7c63c7a-a3e3-11e9-bf80-8c859025e7f9\", \"x\": [-0.3, -0.25, -0.2, -0.15, -0.1, -0.05, 0.0, 0.05, 0.1, 0.15, 0.2, 0.25, 0.3, 0.35], \"y\": [0.2487, 0.1881, 0.1222, 0.0772, 0.0414, 0.0206, 0.0, -0.0115, -0.0087, 0.0104, 0.0316, 0.0646, 0.0861, null], \"yaxis\": \"y4\", \"type\": \"scatter\", \"xaxis\": \"x4\"}, {\"legendgroup\": \"chart (2, 2)\", \"name\": \"chart (2, 2) 20190226\", \"uid\": \"c7c6b918-a3e3-11e9-be53-8c859025e7f9\", \"x\": [-0.3, -0.25, -0.2, -0.15, -0.1, -0.05, 0.0, 0.05, 0.1, 0.15, 0.2, 0.25, 0.3, 0.35], \"y\": [0.2248, 0.1733, 0.1201, 0.0799, 0.0424, 0.0165, 0.0, -0.0121, -0.0082, 0.0089, 0.027, 0.0522, 0.0736, null], \"yaxis\": \"y4\", \"type\": \"scatter\", \"xaxis\": \"x4\"}, {\"legendgroup\": \"chart (2, 2)\", \"name\": \"chart (2, 2) 20190227\", \"uid\": \"c7c71cd2-a3e3-11e9-8ef4-8c859025e7f9\", \"x\": [-0.3, -0.25, -0.2, -0.15, -0.1, -0.05, 0.0, 0.05, 0.1, 0.15, 0.2, 0.25, 0.3, 0.35], \"y\": [0.2298, 0.1753, 0.1227, 0.0815, 0.0424, 0.0211, 0.0, -0.0056, 0.0028, 0.0229, 0.0506, 0.0757, 0.0975, null], \"yaxis\": \"y4\", \"type\": \"scatter\", \"xaxis\": \"x4\"}, {\"legendgroup\": \"chart (2, 2)\", \"name\": \"chart (2, 2) 20190228\", \"uid\": \"c7c78e9c-a3e3-11e9-a302-8c859025e7f9\", \"x\": [-0.3, -0.25, -0.2, -0.15, -0.1, -0.05, 0.0, 0.05, 0.1, 0.15, 0.2, 0.25, 0.3, 0.35], \"y\": [0.2425, 0.1872, 0.1315, 0.0861, 0.0435, 0.015, 0.0, -0.0107, -0.0003, 0.0157, 0.044, 0.0585, 0.108, null], \"yaxis\": \"y4\", \"type\": \"scatter\", \"xaxis\": \"x4\"}], {\"annotations\": [{\"font\": {\"size\": 16}, \"showarrow\": false, \"text\": \"CBK19 20190201 - 20190207\", \"x\": 0.2275, \"xanchor\": \"center\", \"xref\": \"paper\", \"y\": 1.0, \"yanchor\": \"bottom\", \"yref\": \"paper\"}, {\"font\": {\"size\": 16}, \"showarrow\": false, \"text\": \"CBK19 20190208 - 20190214\", \"x\": 0.7725, \"xanchor\": \"center\", \"xref\": \"paper\", \"y\": 1.0, \"yanchor\": \"bottom\", \"yref\": \"paper\"}, {\"font\": {\"size\": 16}, \"showarrow\": false, \"text\": \"CBK19 20190215 - 20190221\", \"x\": 0.2275, \"xanchor\": \"center\", \"xref\": \"paper\", \"y\": 0.445, \"yanchor\": \"bottom\", \"yref\": \"paper\"}, {\"font\": {\"size\": 16}, \"showarrow\": false, \"text\": \"CBK19 20190222 - 20190228\", \"x\": 0.7725, \"xanchor\": \"center\", \"xref\": \"paper\", \"y\": 0.445, \"yanchor\": \"bottom\", \"yref\": \"paper\"}], \"xaxis\": {\"anchor\": \"y\", \"domain\": [0.0, 0.455], \"tickangle\": 45, \"ticktext\": [-0.3, -0.25, -0.2, -0.15, -0.1, -0.05, 0.0, 0.05, 0.1, 0.15, 0.2, 0.25, 0.3, 0.35], \"tickvals\": [-0.3, -0.25, -0.2, -0.15, -0.1, -0.05, 0.0, 0.05, 0.1, 0.15, 0.2, 0.25, 0.3, 0.35], \"type\": \"category\"}, \"yaxis\": {\"anchor\": \"x\", \"domain\": [0.555, 1.0], \"title\": \"vol skew\"}, \"xaxis2\": {\"anchor\": \"y2\", \"domain\": [0.545, 1.0], \"tickangle\": 45, \"ticktext\": [-0.3, -0.25, -0.2, -0.15, -0.1, -0.05, 0.0, 0.05, 0.1, 0.15, 0.2, 0.25, 0.3, 0.35], \"tickvals\": [-0.3, -0.25, -0.2, -0.15, -0.1, -0.05, 0.0, 0.05, 0.1, 0.15, 0.2, 0.25, 0.3, 0.35], \"type\": \"category\"}, \"yaxis2\": {\"anchor\": \"x2\", \"domain\": [0.555, 1.0], \"title\": \"vol skew\"}, \"xaxis3\": {\"anchor\": \"y3\", \"domain\": [0.0, 0.455], \"tickangle\": 45, \"ticktext\": [-0.3, -0.25, -0.2, -0.15, -0.1, -0.05, 0.0, 0.05, 0.1, 0.15, 0.2, 0.25, 0.3, 0.35], \"tickvals\": [-0.3, -0.25, -0.2, -0.15, -0.1, -0.05, 0.0, 0.05, 0.1, 0.15, 0.2, 0.25, 0.3, 0.35], \"type\": \"category\"}, \"yaxis3\": {\"anchor\": \"x3\", \"domain\": [0.0, 0.445], \"title\": \"vol skew\"}, \"xaxis4\": {\"anchor\": \"y4\", \"domain\": [0.545, 1.0], \"tickangle\": 45, \"ticktext\": [-0.3, -0.25, -0.2, -0.15, -0.1, -0.05, 0.0, 0.05, 0.1, 0.15, 0.2, 0.25, 0.3, 0.35], \"tickvals\": [-0.3, -0.25, -0.2, -0.15, -0.1, -0.05, 0.0, 0.05, 0.1, 0.15, 0.2, 0.25, 0.3, 0.35], \"type\": \"category\"}, \"yaxis4\": {\"anchor\": \"x4\", \"domain\": [0.0, 0.445], \"title\": \"vol skew\"}, \"font\": {\"family\": \"Open Sans, sans-serif\"}, \"margin\": {\"b\": 55, \"l\": 45, \"r\": 15, \"t\": 50}, \"title\": \"Skew plots<br>\", \"showlegend\": true, \"hovermode\": \"x\", \"autosize\": true, \"width\": 900, \"height\": 800, \"plot_bgcolor\": \"#EFECEA\", \"bargap\": 0.05}, {\"showLink\": true, \"linkText\": \"Export to plot.ly\"})});</script>"
      ],
      "text/vnd.plotly.v1+html": [
       "<div id=\"5f5a1db6-7aa2-4625-b98b-3c00d27be152\" style=\"height: 800px; width: 900px;\" class=\"plotly-graph-div\"></div><script type=\"text/javascript\">require([\"plotly\"], function(Plotly) { window.PLOTLYENV=window.PLOTLYENV || {};window.PLOTLYENV.BASE_URL=\"https://plot.ly\";Plotly.newPlot(\"5f5a1db6-7aa2-4625-b98b-3c00d27be152\", [{\"legendgroup\": \"chart (1, 1)\", \"name\": \"chart (1, 1) 20190201\", \"uid\": \"c7bd999e-a3e3-11e9-a0c4-8c859025e7f9\", \"x\": [-0.3, -0.25, -0.2, -0.15, -0.1, -0.05, 0.0, 0.05, 0.1, 0.15, 0.2, 0.25, 0.3, 0.35], \"y\": [0.129, 0.0892, 0.0587, 0.0359, 0.0201, 0.0089, 0.0, -0.0096, -0.0119, -0.009, -0.0001, 0.0113, 0.0299, 0.0534], \"yaxis\": \"y\", \"type\": \"scatter\", \"xaxis\": \"x\"}, {\"legendgroup\": \"chart (1, 1)\", \"name\": \"chart (1, 1) 20190204\", \"uid\": \"c7be01d8-a3e3-11e9-9da0-8c859025e7f9\", \"x\": [-0.3, -0.25, -0.2, -0.15, -0.1, -0.05, 0.0, 0.05, 0.1, 0.15, 0.2, 0.25, 0.3, 0.35], \"y\": [0.1476, 0.106, 0.0671, 0.0447, 0.0272, 0.0129, 0.0, -0.0092, -0.0091, -0.0054, 0.0043, 0.0245, 0.04, 0.0578], \"yaxis\": \"y\", \"type\": \"scatter\", \"xaxis\": \"x\"}, {\"legendgroup\": \"chart (1, 1)\", \"name\": \"chart (1, 1) 20190205\", \"uid\": \"c7be62ae-a3e3-11e9-ae95-8c859025e7f9\", \"x\": [-0.3, -0.25, -0.2, -0.15, -0.1, -0.05, 0.0, 0.05, 0.1, 0.15, 0.2, 0.25, 0.3, 0.35], \"y\": [0.1518, 0.1127, 0.0776, 0.0522, 0.0303, 0.0137, 0.0, -0.0088, -0.0102, -0.0082, 0.0014, 0.017, 0.0381, 0.061], \"yaxis\": \"y\", \"type\": \"scatter\", \"xaxis\": \"x\"}, {\"legendgroup\": \"chart (1, 1)\", \"name\": \"chart (1, 1) 20190206\", \"uid\": \"c7bec1cc-a3e3-11e9-9c9e-8c859025e7f9\", \"x\": [-0.3, -0.25, -0.2, -0.15, -0.1, -0.05, 0.0, 0.05, 0.1, 0.15, 0.2, 0.25, 0.3, 0.35], \"y\": [0.1646, 0.1157, 0.077, 0.0478, 0.0258, 0.0095, 0.0, -0.0108, -0.0138, -0.0092, 0.0029, 0.0179, 0.0447, 0.0589], \"yaxis\": \"y\", \"type\": \"scatter\", \"xaxis\": \"x\"}, {\"legendgroup\": \"chart (1, 1)\", \"name\": \"chart (1, 1) 20190207\", \"uid\": \"c7bf58d0-a3e3-11e9-8279-8c859025e7f9\", \"x\": [-0.3, -0.25, -0.2, -0.15, -0.1, -0.05, 0.0, 0.05, 0.1, 0.15, 0.2, 0.25, 0.3, 0.35], \"y\": [0.1644, 0.1221, 0.0834, 0.053, 0.032, 0.016, 0.0, -0.0091, -0.0122, -0.007, 0.006, 0.0288, 0.0501, 0.064], \"yaxis\": \"y\", \"type\": \"scatter\", \"xaxis\": \"x\"}, {\"legendgroup\": \"chart (1, 2)\", \"name\": \"chart (1, 2) 20190208\", \"uid\": \"c7c0e042-a3e3-11e9-8b9e-8c859025e7f9\", \"x\": [-0.3, -0.25, -0.2, -0.15, -0.1, -0.05, 0.0, 0.05, 0.1, 0.15, 0.2, 0.25, 0.3, 0.35], \"y\": [0.1819, 0.1238, 0.0849, 0.053, 0.0301, 0.0138, 0.0, -0.0089, -0.0085, -0.0006, 0.0152, 0.0378, 0.0659, 0.0882], \"yaxis\": \"y2\", \"type\": \"scatter\", \"xaxis\": \"x2\"}, {\"legendgroup\": \"chart (1, 2)\", \"name\": \"chart (1, 2) 20190211\", \"uid\": \"c7c14d1e-a3e3-11e9-abc7-8c859025e7f9\", \"x\": [-0.3, -0.25, -0.2, -0.15, -0.1, -0.05, 0.0, 0.05, 0.1, 0.15, 0.2, 0.25, 0.3, 0.35], \"y\": [0.179, 0.1332, 0.0849, 0.0517, 0.0278, 0.0104, 0.0, -0.0066, -0.0092, -0.0026, 0.0173, 0.0386, 0.0662, 0.096], \"yaxis\": \"y2\", \"type\": \"scatter\", \"xaxis\": \"x2\"}, {\"legendgroup\": \"chart (1, 2)\", \"name\": \"chart (1, 2) 20190212\", \"uid\": \"c7c1b724-a3e3-11e9-a7c5-8c859025e7f9\", \"x\": [-0.3, -0.25, -0.2, -0.15, -0.1, -0.05, 0.0, 0.05, 0.1, 0.15, 0.2, 0.25, 0.3, 0.35], \"y\": [0.1894, 0.136, 0.0926, 0.0533, 0.0284, 0.0125, 0.0, -0.0102, -0.0106, -0.0036, 0.0143, null, 0.0698, 0.0937], \"yaxis\": \"y2\", \"type\": \"scatter\", \"xaxis\": \"x2\"}, {\"legendgroup\": \"chart (1, 2)\", \"name\": \"chart (1, 2) 20190213\", \"uid\": \"c7c225b0-a3e3-11e9-9c80-8c859025e7f9\", \"x\": [-0.3, -0.25, -0.2, -0.15, -0.1, -0.05, 0.0, 0.05, 0.1, 0.15, 0.2, 0.25, 0.3, 0.35], \"y\": [0.1994, 0.1503, 0.0984, 0.0563, 0.0321, 0.0121, 0.0, -0.0059, -0.0044, 0.0063, 0.0227, 0.0461, 0.0709, 0.1004], \"yaxis\": \"y2\", \"type\": \"scatter\", \"xaxis\": \"x2\"}, {\"legendgroup\": \"chart (1, 2)\", \"name\": \"chart (1, 2) 20190214\", \"uid\": \"c7c291ee-a3e3-11e9-b580-8c859025e7f9\", \"x\": [-0.3, -0.25, -0.2, -0.15, -0.1, -0.05, 0.0, 0.05, 0.1, 0.15, 0.2, 0.25, 0.3, 0.35], \"y\": [0.2067, 0.1452, 0.0923, 0.0545, 0.0284, 0.0142, 0.0, -0.0079, -0.0048, 0.0081, 0.0302, 0.0557, 0.0758, null], \"yaxis\": \"y2\", \"type\": \"scatter\", \"xaxis\": \"x2\"}, {\"legendgroup\": \"chart (2, 1)\", \"name\": \"chart (2, 1) 20190215\", \"uid\": \"c7c37e62-a3e3-11e9-a7d5-8c859025e7f9\", \"x\": [-0.3, -0.25, -0.2, -0.15, -0.1, -0.05, 0.0, 0.05, 0.1, 0.15, 0.2, 0.25, 0.3, 0.35], \"y\": [0.1873, 0.134, 0.091, 0.0543, 0.0263, 0.0077, 0.0, -0.0061, -0.0003, 0.0132, 0.0336, 0.0518, 0.076, null], \"yaxis\": \"y3\", \"type\": \"scatter\", \"xaxis\": \"x3\"}, {\"legendgroup\": \"chart (2, 1)\", \"name\": \"chart (2, 1) 20190218\", \"uid\": \"c7c3e09e-a3e3-11e9-a812-8c859025e7f9\", \"x\": [-0.3, -0.25, -0.2, -0.15, -0.1, -0.05, 0.0, 0.05, 0.1, 0.15, 0.2, 0.25, 0.3, 0.35], \"y\": [null, null, null, null, null, null, 0.0, null, null, null, null, null, null, null], \"yaxis\": \"y3\", \"type\": \"scatter\", \"xaxis\": \"x3\"}, {\"legendgroup\": \"chart (2, 1)\", \"name\": \"chart (2, 1) 20190219\", \"uid\": \"c7c4421e-a3e3-11e9-82ef-8c859025e7f9\", \"x\": [-0.3, -0.25, -0.2, -0.15, -0.1, -0.05, 0.0, 0.05, 0.1, 0.15, 0.2, 0.25, 0.3, 0.35], \"y\": [0.2157, 0.1592, 0.0997, 0.0579, 0.0319, 0.0138, 0.0, -0.0089, -0.0032, 0.0149, 0.0393, 0.0596, 0.095, null], \"yaxis\": \"y3\", \"type\": \"scatter\", \"xaxis\": \"x3\"}, {\"legendgroup\": \"chart (2, 1)\", \"name\": \"chart (2, 1) 20190220\", \"uid\": \"c7c4a1a8-a3e3-11e9-9952-8c859025e7f9\", \"x\": [-0.3, -0.25, -0.2, -0.15, -0.1, -0.05, 0.0, 0.05, 0.1, 0.15, 0.2, 0.25, 0.3, 0.35], \"y\": [0.2275, 0.1724, 0.1098, 0.0639, 0.0354, 0.0163, 0.0, -0.0029, 0.0004, 0.0197, 0.0447, 0.0711, null, null], \"yaxis\": \"y3\", \"type\": \"scatter\", \"xaxis\": \"x3\"}, {\"legendgroup\": \"chart (2, 1)\", \"name\": \"chart (2, 1) 20190221\", \"uid\": \"c7c500b4-a3e3-11e9-992d-8c859025e7f9\", \"x\": [-0.3, -0.25, -0.2, -0.15, -0.1, -0.05, 0.0, 0.05, 0.1, 0.15, 0.2, 0.25, 0.3, 0.35], \"y\": [0.2203, 0.1676, 0.1184, 0.066, 0.0366, 0.0175, 0.0, -0.0048, 0.0013, 0.0192, 0.0445, 0.0741, null, null], \"yaxis\": \"y3\", \"type\": \"scatter\", \"xaxis\": \"x3\"}, {\"legendgroup\": \"chart (2, 2)\", \"name\": \"chart (2, 2) 20190222\", \"uid\": \"c7c5dcb4-a3e3-11e9-9bfd-8c859025e7f9\", \"x\": [-0.3, -0.25, -0.2, -0.15, -0.1, -0.05, 0.0, 0.05, 0.1, 0.15, 0.2, 0.25, 0.3, 0.35], \"y\": [0.2226, 0.1575, 0.1109, 0.062, 0.0299, 0.0108, 0.0, -0.0118, -0.0039, 0.0134, 0.0385, 0.073, null, null], \"yaxis\": \"y4\", \"type\": \"scatter\", \"xaxis\": \"x4\"}, {\"legendgroup\": \"chart (2, 2)\", \"name\": \"chart (2, 2) 20190225\", \"uid\": \"c7c63c7a-a3e3-11e9-bf80-8c859025e7f9\", \"x\": [-0.3, -0.25, -0.2, -0.15, -0.1, -0.05, 0.0, 0.05, 0.1, 0.15, 0.2, 0.25, 0.3, 0.35], \"y\": [0.2487, 0.1881, 0.1222, 0.0772, 0.0414, 0.0206, 0.0, -0.0115, -0.0087, 0.0104, 0.0316, 0.0646, 0.0861, null], \"yaxis\": \"y4\", \"type\": \"scatter\", \"xaxis\": \"x4\"}, {\"legendgroup\": \"chart (2, 2)\", \"name\": \"chart (2, 2) 20190226\", \"uid\": \"c7c6b918-a3e3-11e9-be53-8c859025e7f9\", \"x\": [-0.3, -0.25, -0.2, -0.15, -0.1, -0.05, 0.0, 0.05, 0.1, 0.15, 0.2, 0.25, 0.3, 0.35], \"y\": [0.2248, 0.1733, 0.1201, 0.0799, 0.0424, 0.0165, 0.0, -0.0121, -0.0082, 0.0089, 0.027, 0.0522, 0.0736, null], \"yaxis\": \"y4\", \"type\": \"scatter\", \"xaxis\": \"x4\"}, {\"legendgroup\": \"chart (2, 2)\", \"name\": \"chart (2, 2) 20190227\", \"uid\": \"c7c71cd2-a3e3-11e9-8ef4-8c859025e7f9\", \"x\": [-0.3, -0.25, -0.2, -0.15, -0.1, -0.05, 0.0, 0.05, 0.1, 0.15, 0.2, 0.25, 0.3, 0.35], \"y\": [0.2298, 0.1753, 0.1227, 0.0815, 0.0424, 0.0211, 0.0, -0.0056, 0.0028, 0.0229, 0.0506, 0.0757, 0.0975, null], \"yaxis\": \"y4\", \"type\": \"scatter\", \"xaxis\": \"x4\"}, {\"legendgroup\": \"chart (2, 2)\", \"name\": \"chart (2, 2) 20190228\", \"uid\": \"c7c78e9c-a3e3-11e9-a302-8c859025e7f9\", \"x\": [-0.3, -0.25, -0.2, -0.15, -0.1, -0.05, 0.0, 0.05, 0.1, 0.15, 0.2, 0.25, 0.3, 0.35], \"y\": [0.2425, 0.1872, 0.1315, 0.0861, 0.0435, 0.015, 0.0, -0.0107, -0.0003, 0.0157, 0.044, 0.0585, 0.108, null], \"yaxis\": \"y4\", \"type\": \"scatter\", \"xaxis\": \"x4\"}], {\"annotations\": [{\"font\": {\"size\": 16}, \"showarrow\": false, \"text\": \"CBK19 20190201 - 20190207\", \"x\": 0.2275, \"xanchor\": \"center\", \"xref\": \"paper\", \"y\": 1.0, \"yanchor\": \"bottom\", \"yref\": \"paper\"}, {\"font\": {\"size\": 16}, \"showarrow\": false, \"text\": \"CBK19 20190208 - 20190214\", \"x\": 0.7725, \"xanchor\": \"center\", \"xref\": \"paper\", \"y\": 1.0, \"yanchor\": \"bottom\", \"yref\": \"paper\"}, {\"font\": {\"size\": 16}, \"showarrow\": false, \"text\": \"CBK19 20190215 - 20190221\", \"x\": 0.2275, \"xanchor\": \"center\", \"xref\": \"paper\", \"y\": 0.445, \"yanchor\": \"bottom\", \"yref\": \"paper\"}, {\"font\": {\"size\": 16}, \"showarrow\": false, \"text\": \"CBK19 20190222 - 20190228\", \"x\": 0.7725, \"xanchor\": \"center\", \"xref\": \"paper\", \"y\": 0.445, \"yanchor\": \"bottom\", \"yref\": \"paper\"}], \"xaxis\": {\"anchor\": \"y\", \"domain\": [0.0, 0.455], \"tickangle\": 45, \"ticktext\": [-0.3, -0.25, -0.2, -0.15, -0.1, -0.05, 0.0, 0.05, 0.1, 0.15, 0.2, 0.25, 0.3, 0.35], \"tickvals\": [-0.3, -0.25, -0.2, -0.15, -0.1, -0.05, 0.0, 0.05, 0.1, 0.15, 0.2, 0.25, 0.3, 0.35], \"type\": \"category\"}, \"yaxis\": {\"anchor\": \"x\", \"domain\": [0.555, 1.0], \"title\": \"vol skew\"}, \"xaxis2\": {\"anchor\": \"y2\", \"domain\": [0.545, 1.0], \"tickangle\": 45, \"ticktext\": [-0.3, -0.25, -0.2, -0.15, -0.1, -0.05, 0.0, 0.05, 0.1, 0.15, 0.2, 0.25, 0.3, 0.35], \"tickvals\": [-0.3, -0.25, -0.2, -0.15, -0.1, -0.05, 0.0, 0.05, 0.1, 0.15, 0.2, 0.25, 0.3, 0.35], \"type\": \"category\"}, \"yaxis2\": {\"anchor\": \"x2\", \"domain\": [0.555, 1.0], \"title\": \"vol skew\"}, \"xaxis3\": {\"anchor\": \"y3\", \"domain\": [0.0, 0.455], \"tickangle\": 45, \"ticktext\": [-0.3, -0.25, -0.2, -0.15, -0.1, -0.05, 0.0, 0.05, 0.1, 0.15, 0.2, 0.25, 0.3, 0.35], \"tickvals\": [-0.3, -0.25, -0.2, -0.15, -0.1, -0.05, 0.0, 0.05, 0.1, 0.15, 0.2, 0.25, 0.3, 0.35], \"type\": \"category\"}, \"yaxis3\": {\"anchor\": \"x3\", \"domain\": [0.0, 0.445], \"title\": \"vol skew\"}, \"xaxis4\": {\"anchor\": \"y4\", \"domain\": [0.545, 1.0], \"tickangle\": 45, \"ticktext\": [-0.3, -0.25, -0.2, -0.15, -0.1, -0.05, 0.0, 0.05, 0.1, 0.15, 0.2, 0.25, 0.3, 0.35], \"tickvals\": [-0.3, -0.25, -0.2, -0.15, -0.1, -0.05, 0.0, 0.05, 0.1, 0.15, 0.2, 0.25, 0.3, 0.35], \"type\": \"category\"}, \"yaxis4\": {\"anchor\": \"x4\", \"domain\": [0.0, 0.445], \"title\": \"vol skew\"}, \"font\": {\"family\": \"Open Sans, sans-serif\"}, \"margin\": {\"b\": 55, \"l\": 45, \"r\": 15, \"t\": 50}, \"title\": \"Skew plots<br>\", \"showlegend\": true, \"hovermode\": \"x\", \"autosize\": true, \"width\": 900, \"height\": 800, \"plot_bgcolor\": \"#EFECEA\", \"bargap\": 0.05}, {\"showLink\": true, \"linkText\": \"Export to plot.ly\"})});</script>"
      ]
     },
     "metadata": {},
     "output_type": "display_data"
    },
    {
     "data": {
      "application/vnd.plotly.v1+json": {
       "data": [
        {
         "legendgroup": "chart (1, 1)",
         "name": "chart (1, 1) 20190301",
         "type": "scatter",
         "uid": "c8164442-a3e3-11e9-9bf9-8c859025e7f9",
         "x": [
          -0.3,
          -0.25,
          -0.2,
          -0.15,
          -0.1,
          -0.05,
          0,
          0.05,
          0.1,
          0.15,
          0.2,
          0.25,
          0.3,
          0.35
         ],
         "xaxis": "x",
         "y": [
          null,
          0.1096,
          0.0756,
          0.0494,
          0.0329,
          0.0168,
          0,
          -0.0095,
          -0.0132,
          -0.0124,
          -0.0028,
          0.0141,
          0.0322,
          0.0465
         ],
         "yaxis": "y"
        },
        {
         "legendgroup": "chart (1, 1)",
         "name": "chart (1, 1) 20190304",
         "type": "scatter",
         "uid": "c816a626-a3e3-11e9-bfea-8c859025e7f9",
         "x": [
          -0.3,
          -0.25,
          -0.2,
          -0.15,
          -0.1,
          -0.05,
          0,
          0.05,
          0.1,
          0.15,
          0.2,
          0.25,
          0.3,
          0.35
         ],
         "xaxis": "x",
         "y": [
          0.153,
          0.1098,
          0.0686,
          0.0433,
          0.0257,
          0.0091,
          0,
          -0.0125,
          -0.0174,
          -0.0164,
          -0.0039,
          0.0109,
          0.0279,
          0.0531
         ],
         "yaxis": "y"
        },
        {
         "legendgroup": "chart (1, 1)",
         "name": "chart (1, 1) 20190305",
         "type": "scatter",
         "uid": "c8170508-a3e3-11e9-b9ce-8c859025e7f9",
         "x": [
          -0.3,
          -0.25,
          -0.2,
          -0.15,
          -0.1,
          -0.05,
          0,
          0.05,
          0.1,
          0.15,
          0.2,
          0.25,
          0.3,
          0.35
         ],
         "xaxis": "x",
         "y": [
          0.163,
          0.1158,
          0.0749,
          0.0485,
          0.0283,
          0.0123,
          0,
          -0.0115,
          -0.0146,
          -0.0123,
          -0.0052,
          0.0146,
          0.0334,
          0.0469
         ],
         "yaxis": "y"
        },
        {
         "legendgroup": "chart (1, 1)",
         "name": "chart (1, 1) 20190306",
         "type": "scatter",
         "uid": "c8176b10-a3e3-11e9-882d-8c859025e7f9",
         "x": [
          -0.3,
          -0.25,
          -0.2,
          -0.15,
          -0.1,
          -0.05,
          0,
          0.05,
          0.1,
          0.15,
          0.2,
          0.25,
          0.3,
          0.35
         ],
         "xaxis": "x",
         "y": [
          0.154,
          0.1121,
          0.0746,
          0.0481,
          0.0294,
          0.0146,
          0,
          -0.0112,
          -0.0141,
          -0.0125,
          -0.002,
          0.0101,
          0.0287,
          null
         ],
         "yaxis": "y"
        },
        {
         "legendgroup": "chart (1, 1)",
         "name": "chart (1, 1) 20190307",
         "type": "scatter",
         "uid": "c817cc06-a3e3-11e9-9046-8c859025e7f9",
         "x": [
          -0.3,
          -0.25,
          -0.2,
          -0.15,
          -0.1,
          -0.05,
          0,
          0.05,
          0.1,
          0.15,
          0.2,
          0.25,
          0.3,
          0.35
         ],
         "xaxis": "x",
         "y": [
          0.1443,
          0.1115,
          0.0778,
          0.0471,
          0.0282,
          0.0099,
          0,
          -0.0123,
          -0.0164,
          -0.0131,
          -0.0057,
          0.0085,
          0.0314,
          null
         ],
         "yaxis": "y"
        },
        {
         "legendgroup": "chart (1, 2)",
         "name": "chart (1, 2) 20190308",
         "type": "scatter",
         "uid": "c818b8c6-a3e3-11e9-b19e-8c859025e7f9",
         "x": [
          -0.3,
          -0.25,
          -0.2,
          -0.15,
          -0.1,
          -0.05,
          0,
          0.05,
          0.1,
          0.15,
          0.2,
          0.25,
          0.3,
          0.35
         ],
         "xaxis": "x2",
         "y": [
          null,
          0.1281,
          0.0873,
          0.0561,
          0.0342,
          0.0163,
          0,
          -0.0096,
          -0.015,
          -0.0133,
          -0.0004,
          0.0133,
          0.0432,
          0.0649
         ],
         "yaxis": "y2"
        },
        {
         "legendgroup": "chart (1, 2)",
         "name": "chart (1, 2) 20190311",
         "type": "scatter",
         "uid": "c81920e2-a3e3-11e9-a13d-8c859025e7f9",
         "x": [
          -0.3,
          -0.25,
          -0.2,
          -0.15,
          -0.1,
          -0.05,
          0,
          0.05,
          0.1,
          0.15,
          0.2,
          0.25,
          0.3,
          0.35
         ],
         "xaxis": "x2",
         "y": [
          0.1661,
          0.1259,
          0.0842,
          0.0538,
          0.0309,
          0.0152,
          0,
          -0.0114,
          -0.0148,
          -0.0121,
          0.0038,
          0.0177,
          0.0349,
          null
         ],
         "yaxis": "y2"
        },
        {
         "legendgroup": "chart (1, 2)",
         "name": "chart (1, 2) 20190312",
         "type": "scatter",
         "uid": "c81982ec-a3e3-11e9-9263-8c859025e7f9",
         "x": [
          -0.3,
          -0.25,
          -0.2,
          -0.15,
          -0.1,
          -0.05,
          0,
          0.05,
          0.1,
          0.15,
          0.2,
          0.25,
          0.3,
          0.35
         ],
         "xaxis": "x2",
         "y": [
          0.1735,
          0.1214,
          0.0849,
          0.0526,
          0.0329,
          0.0162,
          0,
          -0.0089,
          -0.0145,
          -0.0091,
          0.0016,
          0.0248,
          0.0388,
          null
         ],
         "yaxis": "y2"
        },
        {
         "legendgroup": "chart (1, 2)",
         "name": "chart (1, 2) 20190313",
         "type": "scatter",
         "uid": "c819ecdc-a3e3-11e9-bf28-8c859025e7f9",
         "x": [
          -0.3,
          -0.25,
          -0.2,
          -0.15,
          -0.1,
          -0.05,
          0,
          0.05,
          0.1,
          0.15,
          0.2,
          0.25,
          0.3,
          0.35
         ],
         "xaxis": "x2",
         "y": [
          0.1782,
          0.1301,
          0.0879,
          0.0533,
          0.0309,
          0.0135,
          0,
          -0.0118,
          -0.0146,
          -0.0109,
          0.0059,
          0.0309,
          0.045,
          null
         ],
         "yaxis": "y2"
        },
        {
         "legendgroup": "chart (1, 2)",
         "name": "chart (1, 2) 20190314",
         "type": "scatter",
         "uid": "c81a6536-a3e3-11e9-b5ee-8c859025e7f9",
         "x": [
          -0.3,
          -0.25,
          -0.2,
          -0.15,
          -0.1,
          -0.05,
          0,
          0.05,
          0.1,
          0.15,
          0.2,
          0.25,
          0.3,
          0.35
         ],
         "xaxis": "x2",
         "y": [
          0.1731,
          0.1411,
          0.0994,
          0.0597,
          0.0348,
          0.0176,
          0,
          -0.0068,
          -0.0104,
          -0.0063,
          0.0117,
          0.0319,
          0.059,
          null
         ],
         "yaxis": "y2"
        },
        {
         "legendgroup": "chart (2, 1)",
         "name": "chart (2, 1) 20190315",
         "type": "scatter",
         "uid": "c81b4c76-a3e3-11e9-8940-8c859025e7f9",
         "x": [
          -0.3,
          -0.25,
          -0.2,
          -0.15,
          -0.1,
          -0.05,
          0,
          0.05,
          0.1,
          0.15,
          0.2,
          0.25,
          0.3,
          0.35
         ],
         "xaxis": "x3",
         "y": [
          0.2044,
          0.1518,
          0.1059,
          0.0654,
          0.0405,
          0.0183,
          0,
          -0.0104,
          -0.0132,
          -0.0065,
          0.0119,
          0.0381,
          0.0659,
          null
         ],
         "yaxis": "y3"
        },
        {
         "legendgroup": "chart (2, 1)",
         "name": "chart (2, 1) 20190318",
         "type": "scatter",
         "uid": "c81bae0a-a3e3-11e9-a474-8c859025e7f9",
         "x": [
          -0.3,
          -0.25,
          -0.2,
          -0.15,
          -0.1,
          -0.05,
          0,
          0.05,
          0.1,
          0.15,
          0.2,
          0.25,
          0.3,
          0.35
         ],
         "xaxis": "x3",
         "y": [
          0.1987,
          0.1623,
          0.1107,
          0.0692,
          0.0404,
          0.0146,
          0,
          -0.0159,
          -0.0179,
          -0.0094,
          0.0097,
          0.0455,
          0.0728,
          null
         ],
         "yaxis": "y3"
        },
        {
         "legendgroup": "chart (2, 1)",
         "name": "chart (2, 1) 20190319",
         "type": "scatter",
         "uid": "c81c0de6-a3e3-11e9-8f0c-8c859025e7f9",
         "x": [
          -0.3,
          -0.25,
          -0.2,
          -0.15,
          -0.1,
          -0.05,
          0,
          0.05,
          0.1,
          0.15,
          0.2,
          0.25,
          0.3,
          0.35
         ],
         "xaxis": "x3",
         "y": [
          0.2207,
          0.1642,
          0.1185,
          0.0861,
          0.0506,
          0.0217,
          0,
          -0.0179,
          -0.0207,
          -0.0164,
          -0.003,
          0.0283,
          0.0476,
          null
         ],
         "yaxis": "y3"
        },
        {
         "legendgroup": "chart (2, 1)",
         "name": "chart (2, 1) 20190320",
         "type": "scatter",
         "uid": "c81c7eac-a3e3-11e9-b0dd-8c859025e7f9",
         "x": [
          -0.3,
          -0.25,
          -0.2,
          -0.15,
          -0.1,
          -0.05,
          0,
          0.05,
          0.1,
          0.15,
          0.2,
          0.25,
          0.3,
          0.35
         ],
         "xaxis": "x3",
         "y": [
          0.2218,
          0.1646,
          0.114,
          0.0811,
          0.049,
          0.0193,
          0,
          -0.02,
          -0.0198,
          -0.0072,
          0.0067,
          0.0328,
          0.0732,
          null
         ],
         "yaxis": "y3"
        },
        {
         "legendgroup": "chart (2, 1)",
         "name": "chart (2, 1) 20190321",
         "type": "scatter",
         "uid": "c81cdf46-a3e3-11e9-a0d1-8c859025e7f9",
         "x": [
          -0.3,
          -0.25,
          -0.2,
          -0.15,
          -0.1,
          -0.05,
          0,
          0.05,
          0.1,
          0.15,
          0.2,
          0.25,
          0.3,
          0.35
         ],
         "xaxis": "x3",
         "y": [
          0.2197,
          0.1727,
          0.1305,
          0.0947,
          0.0566,
          0.0265,
          0,
          -0.012,
          -0.0107,
          -0.0002,
          0.0222,
          0.0494,
          0.0702,
          null
         ],
         "yaxis": "y3"
        },
        {
         "legendgroup": "chart (2, 2)",
         "name": "chart (2, 2) 20190322",
         "type": "scatter",
         "uid": "c81dcafa-a3e3-11e9-a0ff-8c859025e7f9",
         "x": [
          -0.3,
          -0.25,
          -0.2,
          -0.15,
          -0.1,
          -0.05,
          0,
          0.05,
          0.1,
          0.15,
          0.2,
          0.25,
          0.3,
          0.35
         ],
         "xaxis": "x4",
         "y": [
          0.2151,
          0.185,
          0.1301,
          0.09,
          0.0543,
          0.0221,
          0,
          -0.019,
          -0.022,
          -0.0118,
          0.0079,
          0.0437,
          0.0634,
          null
         ],
         "yaxis": "y4"
        },
        {
         "legendgroup": "chart (2, 2)",
         "name": "chart (2, 2) 20190325",
         "type": "scatter",
         "uid": "c81e2bba-a3e3-11e9-9ced-8c859025e7f9",
         "x": [
          -0.3,
          -0.25,
          -0.2,
          -0.15,
          -0.1,
          -0.05,
          0,
          0.05,
          0.1,
          0.15,
          0.2,
          0.25,
          0.3,
          0.35
         ],
         "xaxis": "x4",
         "y": [
          0.2345,
          0.2042,
          0.1469,
          0.1021,
          0.0589,
          0.0221,
          0,
          -0.0198,
          -0.0209,
          -0.0097,
          0.0145,
          0.0304,
          0.0762,
          null
         ],
         "yaxis": "y4"
        },
        {
         "legendgroup": "chart (2, 2)",
         "name": "chart (2, 2) 20190326",
         "type": "scatter",
         "uid": "c81e8b5c-a3e3-11e9-a2f3-8c859025e7f9",
         "x": [
          -0.3,
          -0.25,
          -0.2,
          -0.15,
          -0.1,
          -0.05,
          0,
          0.05,
          0.1,
          0.15,
          0.2,
          0.25,
          0.3,
          0.35
         ],
         "xaxis": "x4",
         "y": [
          0.2489,
          0.2002,
          0.14,
          0.1011,
          0.0591,
          0.0235,
          0,
          -0.0176,
          -0.017,
          -0.005,
          0.014,
          0.0396,
          0.0854,
          null
         ],
         "yaxis": "y4"
        },
        {
         "legendgroup": "chart (2, 2)",
         "name": "chart (2, 2) 20190327",
         "type": "scatter",
         "uid": "c81ef380-a3e3-11e9-95e1-8c859025e7f9",
         "x": [
          -0.3,
          -0.25,
          -0.2,
          -0.15,
          -0.1,
          -0.05,
          0,
          0.05,
          0.1,
          0.15,
          0.2,
          0.25,
          0.3,
          0.35
         ],
         "xaxis": "x4",
         "y": [
          0.2619,
          0.2099,
          0.1471,
          0.0989,
          0.0566,
          0.022,
          0,
          -0.0191,
          -0.0201,
          0.0001,
          0.0221,
          0.0493,
          0.0962,
          null
         ],
         "yaxis": "y4"
        },
        {
         "legendgroup": "chart (2, 2)",
         "name": "chart (2, 2) 20190328",
         "type": "scatter",
         "uid": "c81f541a-a3e3-11e9-842a-8c859025e7f9",
         "x": [
          -0.3,
          -0.25,
          -0.2,
          -0.15,
          -0.1,
          -0.05,
          0,
          0.05,
          0.1,
          0.15,
          0.2,
          0.25,
          0.3,
          0.35
         ],
         "xaxis": "x4",
         "y": [
          0.2419,
          0.2043,
          0.1526,
          0.1053,
          0.0604,
          0.0286,
          0,
          -0.0134,
          -0.0134,
          -0.0016,
          0.0133,
          0.0645,
          0.1123,
          null
         ],
         "yaxis": "y4"
        }
       ],
       "layout": {
        "annotations": [
         {
          "font": {
           "size": 16
          },
          "showarrow": false,
          "text": "CBM19 20190301 - 20190307",
          "x": 0.2275,
          "xanchor": "center",
          "xref": "paper",
          "y": 1,
          "yanchor": "bottom",
          "yref": "paper"
         },
         {
          "font": {
           "size": 16
          },
          "showarrow": false,
          "text": "CBM19 20190308 - 20190314",
          "x": 0.7725,
          "xanchor": "center",
          "xref": "paper",
          "y": 1,
          "yanchor": "bottom",
          "yref": "paper"
         },
         {
          "font": {
           "size": 16
          },
          "showarrow": false,
          "text": "CBM19 20190315 - 20190321",
          "x": 0.2275,
          "xanchor": "center",
          "xref": "paper",
          "y": 0.445,
          "yanchor": "bottom",
          "yref": "paper"
         },
         {
          "font": {
           "size": 16
          },
          "showarrow": false,
          "text": "CBM19 20190322 - 20190328",
          "x": 0.7725,
          "xanchor": "center",
          "xref": "paper",
          "y": 0.445,
          "yanchor": "bottom",
          "yref": "paper"
         }
        ],
        "autosize": true,
        "bargap": 0.05,
        "font": {
         "family": "Open Sans, sans-serif"
        },
        "height": 800,
        "hovermode": "x",
        "margin": {
         "b": 55,
         "l": 45,
         "r": 15,
         "t": 50
        },
        "plot_bgcolor": "#EFECEA",
        "showlegend": true,
        "title": "Skew plots<br>",
        "width": 900,
        "xaxis": {
         "anchor": "y",
         "domain": [
          0,
          0.455
         ],
         "tickangle": 45,
         "ticktext": [
          -0.3,
          -0.25,
          -0.2,
          -0.15,
          -0.1,
          -0.05,
          0,
          0.05,
          0.1,
          0.15,
          0.2,
          0.25,
          0.3,
          0.35
         ],
         "tickvals": [
          -0.3,
          -0.25,
          -0.2,
          -0.15,
          -0.1,
          -0.05,
          0,
          0.05,
          0.1,
          0.15,
          0.2,
          0.25,
          0.3,
          0.35
         ],
         "type": "category"
        },
        "xaxis2": {
         "anchor": "y2",
         "domain": [
          0.545,
          1
         ],
         "tickangle": 45,
         "ticktext": [
          -0.3,
          -0.25,
          -0.2,
          -0.15,
          -0.1,
          -0.05,
          0,
          0.05,
          0.1,
          0.15,
          0.2,
          0.25,
          0.3,
          0.35
         ],
         "tickvals": [
          -0.3,
          -0.25,
          -0.2,
          -0.15,
          -0.1,
          -0.05,
          0,
          0.05,
          0.1,
          0.15,
          0.2,
          0.25,
          0.3,
          0.35
         ],
         "type": "category"
        },
        "xaxis3": {
         "anchor": "y3",
         "domain": [
          0,
          0.455
         ],
         "tickangle": 45,
         "ticktext": [
          -0.3,
          -0.25,
          -0.2,
          -0.15,
          -0.1,
          -0.05,
          0,
          0.05,
          0.1,
          0.15,
          0.2,
          0.25,
          0.3,
          0.35
         ],
         "tickvals": [
          -0.3,
          -0.25,
          -0.2,
          -0.15,
          -0.1,
          -0.05,
          0,
          0.05,
          0.1,
          0.15,
          0.2,
          0.25,
          0.3,
          0.35
         ],
         "type": "category"
        },
        "xaxis4": {
         "anchor": "y4",
         "domain": [
          0.545,
          1
         ],
         "tickangle": 45,
         "ticktext": [
          -0.3,
          -0.25,
          -0.2,
          -0.15,
          -0.1,
          -0.05,
          0,
          0.05,
          0.1,
          0.15,
          0.2,
          0.25,
          0.3,
          0.35
         ],
         "tickvals": [
          -0.3,
          -0.25,
          -0.2,
          -0.15,
          -0.1,
          -0.05,
          0,
          0.05,
          0.1,
          0.15,
          0.2,
          0.25,
          0.3,
          0.35
         ],
         "type": "category"
        },
        "yaxis": {
         "anchor": "x",
         "domain": [
          0.555,
          1
         ],
         "title": "vol skew"
        },
        "yaxis2": {
         "anchor": "x2",
         "domain": [
          0.555,
          1
         ],
         "title": "vol skew"
        },
        "yaxis3": {
         "anchor": "x3",
         "domain": [
          0,
          0.445
         ],
         "title": "vol skew"
        },
        "yaxis4": {
         "anchor": "x4",
         "domain": [
          0,
          0.445
         ],
         "title": "vol skew"
        }
       }
      },
      "text/html": [
       "<div id=\"9c675524-3da7-4d7c-a1ad-39ceed8530c1\" style=\"height: 800px; width: 900px;\" class=\"plotly-graph-div\"></div><script type=\"text/javascript\">require([\"plotly\"], function(Plotly) { window.PLOTLYENV=window.PLOTLYENV || {};window.PLOTLYENV.BASE_URL=\"https://plot.ly\";Plotly.newPlot(\"9c675524-3da7-4d7c-a1ad-39ceed8530c1\", [{\"legendgroup\": \"chart (1, 1)\", \"name\": \"chart (1, 1) 20190301\", \"uid\": \"c8164442-a3e3-11e9-9bf9-8c859025e7f9\", \"x\": [-0.3, -0.25, -0.2, -0.15, -0.1, -0.05, 0.0, 0.05, 0.1, 0.15, 0.2, 0.25, 0.3, 0.35], \"y\": [null, 0.1096, 0.0756, 0.0494, 0.0329, 0.0168, 0.0, -0.0095, -0.0132, -0.0124, -0.0028, 0.0141, 0.0322, 0.0465], \"yaxis\": \"y\", \"type\": \"scatter\", \"xaxis\": \"x\"}, {\"legendgroup\": \"chart (1, 1)\", \"name\": \"chart (1, 1) 20190304\", \"uid\": \"c816a626-a3e3-11e9-bfea-8c859025e7f9\", \"x\": [-0.3, -0.25, -0.2, -0.15, -0.1, -0.05, 0.0, 0.05, 0.1, 0.15, 0.2, 0.25, 0.3, 0.35], \"y\": [0.153, 0.1098, 0.0686, 0.0433, 0.0257, 0.0091, 0.0, -0.0125, -0.0174, -0.0164, -0.0039, 0.0109, 0.0279, 0.0531], \"yaxis\": \"y\", \"type\": \"scatter\", \"xaxis\": \"x\"}, {\"legendgroup\": \"chart (1, 1)\", \"name\": \"chart (1, 1) 20190305\", \"uid\": \"c8170508-a3e3-11e9-b9ce-8c859025e7f9\", \"x\": [-0.3, -0.25, -0.2, -0.15, -0.1, -0.05, 0.0, 0.05, 0.1, 0.15, 0.2, 0.25, 0.3, 0.35], \"y\": [0.163, 0.1158, 0.0749, 0.0485, 0.0283, 0.0123, 0.0, -0.0115, -0.0146, -0.0123, -0.0052, 0.0146, 0.0334, 0.0469], \"yaxis\": \"y\", \"type\": \"scatter\", \"xaxis\": \"x\"}, {\"legendgroup\": \"chart (1, 1)\", \"name\": \"chart (1, 1) 20190306\", \"uid\": \"c8176b10-a3e3-11e9-882d-8c859025e7f9\", \"x\": [-0.3, -0.25, -0.2, -0.15, -0.1, -0.05, 0.0, 0.05, 0.1, 0.15, 0.2, 0.25, 0.3, 0.35], \"y\": [0.154, 0.1121, 0.0746, 0.0481, 0.0294, 0.0146, 0.0, -0.0112, -0.0141, -0.0125, -0.002, 0.0101, 0.0287, null], \"yaxis\": \"y\", \"type\": \"scatter\", \"xaxis\": \"x\"}, {\"legendgroup\": \"chart (1, 1)\", \"name\": \"chart (1, 1) 20190307\", \"uid\": \"c817cc06-a3e3-11e9-9046-8c859025e7f9\", \"x\": [-0.3, -0.25, -0.2, -0.15, -0.1, -0.05, 0.0, 0.05, 0.1, 0.15, 0.2, 0.25, 0.3, 0.35], \"y\": [0.1443, 0.1115, 0.0778, 0.0471, 0.0282, 0.0099, 0.0, -0.0123, -0.0164, -0.0131, -0.0057, 0.0085, 0.0314, null], \"yaxis\": \"y\", \"type\": \"scatter\", \"xaxis\": \"x\"}, {\"legendgroup\": \"chart (1, 2)\", \"name\": \"chart (1, 2) 20190308\", \"uid\": \"c818b8c6-a3e3-11e9-b19e-8c859025e7f9\", \"x\": [-0.3, -0.25, -0.2, -0.15, -0.1, -0.05, 0.0, 0.05, 0.1, 0.15, 0.2, 0.25, 0.3, 0.35], \"y\": [null, 0.1281, 0.0873, 0.0561, 0.0342, 0.0163, 0.0, -0.0096, -0.015, -0.0133, -0.0004, 0.0133, 0.0432, 0.0649], \"yaxis\": \"y2\", \"type\": \"scatter\", \"xaxis\": \"x2\"}, {\"legendgroup\": \"chart (1, 2)\", \"name\": \"chart (1, 2) 20190311\", \"uid\": \"c81920e2-a3e3-11e9-a13d-8c859025e7f9\", \"x\": [-0.3, -0.25, -0.2, -0.15, -0.1, -0.05, 0.0, 0.05, 0.1, 0.15, 0.2, 0.25, 0.3, 0.35], \"y\": [0.1661, 0.1259, 0.0842, 0.0538, 0.0309, 0.0152, 0.0, -0.0114, -0.0148, -0.0121, 0.0038, 0.0177, 0.0349, null], \"yaxis\": \"y2\", \"type\": \"scatter\", \"xaxis\": \"x2\"}, {\"legendgroup\": \"chart (1, 2)\", \"name\": \"chart (1, 2) 20190312\", \"uid\": \"c81982ec-a3e3-11e9-9263-8c859025e7f9\", \"x\": [-0.3, -0.25, -0.2, -0.15, -0.1, -0.05, 0.0, 0.05, 0.1, 0.15, 0.2, 0.25, 0.3, 0.35], \"y\": [0.1735, 0.1214, 0.0849, 0.0526, 0.0329, 0.0162, 0.0, -0.0089, -0.0145, -0.0091, 0.0016, 0.0248, 0.0388, null], \"yaxis\": \"y2\", \"type\": \"scatter\", \"xaxis\": \"x2\"}, {\"legendgroup\": \"chart (1, 2)\", \"name\": \"chart (1, 2) 20190313\", \"uid\": \"c819ecdc-a3e3-11e9-bf28-8c859025e7f9\", \"x\": [-0.3, -0.25, -0.2, -0.15, -0.1, -0.05, 0.0, 0.05, 0.1, 0.15, 0.2, 0.25, 0.3, 0.35], \"y\": [0.1782, 0.1301, 0.0879, 0.0533, 0.0309, 0.0135, 0.0, -0.0118, -0.0146, -0.0109, 0.0059, 0.0309, 0.045, null], \"yaxis\": \"y2\", \"type\": \"scatter\", \"xaxis\": \"x2\"}, {\"legendgroup\": \"chart (1, 2)\", \"name\": \"chart (1, 2) 20190314\", \"uid\": \"c81a6536-a3e3-11e9-b5ee-8c859025e7f9\", \"x\": [-0.3, -0.25, -0.2, -0.15, -0.1, -0.05, 0.0, 0.05, 0.1, 0.15, 0.2, 0.25, 0.3, 0.35], \"y\": [0.1731, 0.1411, 0.0994, 0.0597, 0.0348, 0.0176, 0.0, -0.0068, -0.0104, -0.0063, 0.0117, 0.0319, 0.059, null], \"yaxis\": \"y2\", \"type\": \"scatter\", \"xaxis\": \"x2\"}, {\"legendgroup\": \"chart (2, 1)\", \"name\": \"chart (2, 1) 20190315\", \"uid\": \"c81b4c76-a3e3-11e9-8940-8c859025e7f9\", \"x\": [-0.3, -0.25, -0.2, -0.15, -0.1, -0.05, 0.0, 0.05, 0.1, 0.15, 0.2, 0.25, 0.3, 0.35], \"y\": [0.2044, 0.1518, 0.1059, 0.0654, 0.0405, 0.0183, 0.0, -0.0104, -0.0132, -0.0065, 0.0119, 0.0381, 0.0659, null], \"yaxis\": \"y3\", \"type\": \"scatter\", \"xaxis\": \"x3\"}, {\"legendgroup\": \"chart (2, 1)\", \"name\": \"chart (2, 1) 20190318\", \"uid\": \"c81bae0a-a3e3-11e9-a474-8c859025e7f9\", \"x\": [-0.3, -0.25, -0.2, -0.15, -0.1, -0.05, 0.0, 0.05, 0.1, 0.15, 0.2, 0.25, 0.3, 0.35], \"y\": [0.1987, 0.1623, 0.1107, 0.0692, 0.0404, 0.0146, 0.0, -0.0159, -0.0179, -0.0094, 0.0097, 0.0455, 0.0728, null], \"yaxis\": \"y3\", \"type\": \"scatter\", \"xaxis\": \"x3\"}, {\"legendgroup\": \"chart (2, 1)\", \"name\": \"chart (2, 1) 20190319\", \"uid\": \"c81c0de6-a3e3-11e9-8f0c-8c859025e7f9\", \"x\": [-0.3, -0.25, -0.2, -0.15, -0.1, -0.05, 0.0, 0.05, 0.1, 0.15, 0.2, 0.25, 0.3, 0.35], \"y\": [0.2207, 0.1642, 0.1185, 0.0861, 0.0506, 0.0217, 0.0, -0.0179, -0.0207, -0.0164, -0.003, 0.0283, 0.0476, null], \"yaxis\": \"y3\", \"type\": \"scatter\", \"xaxis\": \"x3\"}, {\"legendgroup\": \"chart (2, 1)\", \"name\": \"chart (2, 1) 20190320\", \"uid\": \"c81c7eac-a3e3-11e9-b0dd-8c859025e7f9\", \"x\": [-0.3, -0.25, -0.2, -0.15, -0.1, -0.05, 0.0, 0.05, 0.1, 0.15, 0.2, 0.25, 0.3, 0.35], \"y\": [0.2218, 0.1646, 0.114, 0.0811, 0.049, 0.0193, 0.0, -0.02, -0.0198, -0.0072, 0.0067, 0.0328, 0.0732, null], \"yaxis\": \"y3\", \"type\": \"scatter\", \"xaxis\": \"x3\"}, {\"legendgroup\": \"chart (2, 1)\", \"name\": \"chart (2, 1) 20190321\", \"uid\": \"c81cdf46-a3e3-11e9-a0d1-8c859025e7f9\", \"x\": [-0.3, -0.25, -0.2, -0.15, -0.1, -0.05, 0.0, 0.05, 0.1, 0.15, 0.2, 0.25, 0.3, 0.35], \"y\": [0.2197, 0.1727, 0.1305, 0.0947, 0.0566, 0.0265, 0.0, -0.012, -0.0107, -0.0002, 0.0222, 0.0494, 0.0702, null], \"yaxis\": \"y3\", \"type\": \"scatter\", \"xaxis\": \"x3\"}, {\"legendgroup\": \"chart (2, 2)\", \"name\": \"chart (2, 2) 20190322\", \"uid\": \"c81dcafa-a3e3-11e9-a0ff-8c859025e7f9\", \"x\": [-0.3, -0.25, -0.2, -0.15, -0.1, -0.05, 0.0, 0.05, 0.1, 0.15, 0.2, 0.25, 0.3, 0.35], \"y\": [0.2151, 0.185, 0.1301, 0.09, 0.0543, 0.0221, 0.0, -0.019, -0.022, -0.0118, 0.0079, 0.0437, 0.0634, null], \"yaxis\": \"y4\", \"type\": \"scatter\", \"xaxis\": \"x4\"}, {\"legendgroup\": \"chart (2, 2)\", \"name\": \"chart (2, 2) 20190325\", \"uid\": \"c81e2bba-a3e3-11e9-9ced-8c859025e7f9\", \"x\": [-0.3, -0.25, -0.2, -0.15, -0.1, -0.05, 0.0, 0.05, 0.1, 0.15, 0.2, 0.25, 0.3, 0.35], \"y\": [0.2345, 0.2042, 0.1469, 0.1021, 0.0589, 0.0221, 0.0, -0.0198, -0.0209, -0.0097, 0.0145, 0.0304, 0.0762, null], \"yaxis\": \"y4\", \"type\": \"scatter\", \"xaxis\": \"x4\"}, {\"legendgroup\": \"chart (2, 2)\", \"name\": \"chart (2, 2) 20190326\", \"uid\": \"c81e8b5c-a3e3-11e9-a2f3-8c859025e7f9\", \"x\": [-0.3, -0.25, -0.2, -0.15, -0.1, -0.05, 0.0, 0.05, 0.1, 0.15, 0.2, 0.25, 0.3, 0.35], \"y\": [0.2489, 0.2002, 0.14, 0.1011, 0.0591, 0.0235, 0.0, -0.0176, -0.017, -0.005, 0.014, 0.0396, 0.0854, null], \"yaxis\": \"y4\", \"type\": \"scatter\", \"xaxis\": \"x4\"}, {\"legendgroup\": \"chart (2, 2)\", \"name\": \"chart (2, 2) 20190327\", \"uid\": \"c81ef380-a3e3-11e9-95e1-8c859025e7f9\", \"x\": [-0.3, -0.25, -0.2, -0.15, -0.1, -0.05, 0.0, 0.05, 0.1, 0.15, 0.2, 0.25, 0.3, 0.35], \"y\": [0.2619, 0.2099, 0.1471, 0.0989, 0.0566, 0.022, 0.0, -0.0191, -0.0201, 0.0001, 0.0221, 0.0493, 0.0962, null], \"yaxis\": \"y4\", \"type\": \"scatter\", \"xaxis\": \"x4\"}, {\"legendgroup\": \"chart (2, 2)\", \"name\": \"chart (2, 2) 20190328\", \"uid\": \"c81f541a-a3e3-11e9-842a-8c859025e7f9\", \"x\": [-0.3, -0.25, -0.2, -0.15, -0.1, -0.05, 0.0, 0.05, 0.1, 0.15, 0.2, 0.25, 0.3, 0.35], \"y\": [0.2419, 0.2043, 0.1526, 0.1053, 0.0604, 0.0286, 0.0, -0.0134, -0.0134, -0.0016, 0.0133, 0.0645, 0.1123, null], \"yaxis\": \"y4\", \"type\": \"scatter\", \"xaxis\": \"x4\"}], {\"annotations\": [{\"font\": {\"size\": 16}, \"showarrow\": false, \"text\": \"CBM19 20190301 - 20190307\", \"x\": 0.2275, \"xanchor\": \"center\", \"xref\": \"paper\", \"y\": 1.0, \"yanchor\": \"bottom\", \"yref\": \"paper\"}, {\"font\": {\"size\": 16}, \"showarrow\": false, \"text\": \"CBM19 20190308 - 20190314\", \"x\": 0.7725, \"xanchor\": \"center\", \"xref\": \"paper\", \"y\": 1.0, \"yanchor\": \"bottom\", \"yref\": \"paper\"}, {\"font\": {\"size\": 16}, \"showarrow\": false, \"text\": \"CBM19 20190315 - 20190321\", \"x\": 0.2275, \"xanchor\": \"center\", \"xref\": \"paper\", \"y\": 0.445, \"yanchor\": \"bottom\", \"yref\": \"paper\"}, {\"font\": {\"size\": 16}, \"showarrow\": false, \"text\": \"CBM19 20190322 - 20190328\", \"x\": 0.7725, \"xanchor\": \"center\", \"xref\": \"paper\", \"y\": 0.445, \"yanchor\": \"bottom\", \"yref\": \"paper\"}], \"xaxis\": {\"anchor\": \"y\", \"domain\": [0.0, 0.455], \"tickangle\": 45, \"ticktext\": [-0.3, -0.25, -0.2, -0.15, -0.1, -0.05, 0.0, 0.05, 0.1, 0.15, 0.2, 0.25, 0.3, 0.35], \"tickvals\": [-0.3, -0.25, -0.2, -0.15, -0.1, -0.05, 0.0, 0.05, 0.1, 0.15, 0.2, 0.25, 0.3, 0.35], \"type\": \"category\"}, \"yaxis\": {\"anchor\": \"x\", \"domain\": [0.555, 1.0], \"title\": \"vol skew\"}, \"xaxis2\": {\"anchor\": \"y2\", \"domain\": [0.545, 1.0], \"tickangle\": 45, \"ticktext\": [-0.3, -0.25, -0.2, -0.15, -0.1, -0.05, 0.0, 0.05, 0.1, 0.15, 0.2, 0.25, 0.3, 0.35], \"tickvals\": [-0.3, -0.25, -0.2, -0.15, -0.1, -0.05, 0.0, 0.05, 0.1, 0.15, 0.2, 0.25, 0.3, 0.35], \"type\": \"category\"}, \"yaxis2\": {\"anchor\": \"x2\", \"domain\": [0.555, 1.0], \"title\": \"vol skew\"}, \"xaxis3\": {\"anchor\": \"y3\", \"domain\": [0.0, 0.455], \"tickangle\": 45, \"ticktext\": [-0.3, -0.25, -0.2, -0.15, -0.1, -0.05, 0.0, 0.05, 0.1, 0.15, 0.2, 0.25, 0.3, 0.35], \"tickvals\": [-0.3, -0.25, -0.2, -0.15, -0.1, -0.05, 0.0, 0.05, 0.1, 0.15, 0.2, 0.25, 0.3, 0.35], \"type\": \"category\"}, \"yaxis3\": {\"anchor\": \"x3\", \"domain\": [0.0, 0.445], \"title\": \"vol skew\"}, \"xaxis4\": {\"anchor\": \"y4\", \"domain\": [0.545, 1.0], \"tickangle\": 45, \"ticktext\": [-0.3, -0.25, -0.2, -0.15, -0.1, -0.05, 0.0, 0.05, 0.1, 0.15, 0.2, 0.25, 0.3, 0.35], \"tickvals\": [-0.3, -0.25, -0.2, -0.15, -0.1, -0.05, 0.0, 0.05, 0.1, 0.15, 0.2, 0.25, 0.3, 0.35], \"type\": \"category\"}, \"yaxis4\": {\"anchor\": \"x4\", \"domain\": [0.0, 0.445], \"title\": \"vol skew\"}, \"font\": {\"family\": \"Open Sans, sans-serif\"}, \"margin\": {\"b\": 55, \"l\": 45, \"r\": 15, \"t\": 50}, \"title\": \"Skew plots<br>\", \"showlegend\": true, \"hovermode\": \"x\", \"autosize\": true, \"width\": 900, \"height\": 800, \"plot_bgcolor\": \"#EFECEA\", \"bargap\": 0.05}, {\"showLink\": true, \"linkText\": \"Export to plot.ly\"})});</script>"
      ],
      "text/vnd.plotly.v1+html": [
       "<div id=\"9c675524-3da7-4d7c-a1ad-39ceed8530c1\" style=\"height: 800px; width: 900px;\" class=\"plotly-graph-div\"></div><script type=\"text/javascript\">require([\"plotly\"], function(Plotly) { window.PLOTLYENV=window.PLOTLYENV || {};window.PLOTLYENV.BASE_URL=\"https://plot.ly\";Plotly.newPlot(\"9c675524-3da7-4d7c-a1ad-39ceed8530c1\", [{\"legendgroup\": \"chart (1, 1)\", \"name\": \"chart (1, 1) 20190301\", \"uid\": \"c8164442-a3e3-11e9-9bf9-8c859025e7f9\", \"x\": [-0.3, -0.25, -0.2, -0.15, -0.1, -0.05, 0.0, 0.05, 0.1, 0.15, 0.2, 0.25, 0.3, 0.35], \"y\": [null, 0.1096, 0.0756, 0.0494, 0.0329, 0.0168, 0.0, -0.0095, -0.0132, -0.0124, -0.0028, 0.0141, 0.0322, 0.0465], \"yaxis\": \"y\", \"type\": \"scatter\", \"xaxis\": \"x\"}, {\"legendgroup\": \"chart (1, 1)\", \"name\": \"chart (1, 1) 20190304\", \"uid\": \"c816a626-a3e3-11e9-bfea-8c859025e7f9\", \"x\": [-0.3, -0.25, -0.2, -0.15, -0.1, -0.05, 0.0, 0.05, 0.1, 0.15, 0.2, 0.25, 0.3, 0.35], \"y\": [0.153, 0.1098, 0.0686, 0.0433, 0.0257, 0.0091, 0.0, -0.0125, -0.0174, -0.0164, -0.0039, 0.0109, 0.0279, 0.0531], \"yaxis\": \"y\", \"type\": \"scatter\", \"xaxis\": \"x\"}, {\"legendgroup\": \"chart (1, 1)\", \"name\": \"chart (1, 1) 20190305\", \"uid\": \"c8170508-a3e3-11e9-b9ce-8c859025e7f9\", \"x\": [-0.3, -0.25, -0.2, -0.15, -0.1, -0.05, 0.0, 0.05, 0.1, 0.15, 0.2, 0.25, 0.3, 0.35], \"y\": [0.163, 0.1158, 0.0749, 0.0485, 0.0283, 0.0123, 0.0, -0.0115, -0.0146, -0.0123, -0.0052, 0.0146, 0.0334, 0.0469], \"yaxis\": \"y\", \"type\": \"scatter\", \"xaxis\": \"x\"}, {\"legendgroup\": \"chart (1, 1)\", \"name\": \"chart (1, 1) 20190306\", \"uid\": \"c8176b10-a3e3-11e9-882d-8c859025e7f9\", \"x\": [-0.3, -0.25, -0.2, -0.15, -0.1, -0.05, 0.0, 0.05, 0.1, 0.15, 0.2, 0.25, 0.3, 0.35], \"y\": [0.154, 0.1121, 0.0746, 0.0481, 0.0294, 0.0146, 0.0, -0.0112, -0.0141, -0.0125, -0.002, 0.0101, 0.0287, null], \"yaxis\": \"y\", \"type\": \"scatter\", \"xaxis\": \"x\"}, {\"legendgroup\": \"chart (1, 1)\", \"name\": \"chart (1, 1) 20190307\", \"uid\": \"c817cc06-a3e3-11e9-9046-8c859025e7f9\", \"x\": [-0.3, -0.25, -0.2, -0.15, -0.1, -0.05, 0.0, 0.05, 0.1, 0.15, 0.2, 0.25, 0.3, 0.35], \"y\": [0.1443, 0.1115, 0.0778, 0.0471, 0.0282, 0.0099, 0.0, -0.0123, -0.0164, -0.0131, -0.0057, 0.0085, 0.0314, null], \"yaxis\": \"y\", \"type\": \"scatter\", \"xaxis\": \"x\"}, {\"legendgroup\": \"chart (1, 2)\", \"name\": \"chart (1, 2) 20190308\", \"uid\": \"c818b8c6-a3e3-11e9-b19e-8c859025e7f9\", \"x\": [-0.3, -0.25, -0.2, -0.15, -0.1, -0.05, 0.0, 0.05, 0.1, 0.15, 0.2, 0.25, 0.3, 0.35], \"y\": [null, 0.1281, 0.0873, 0.0561, 0.0342, 0.0163, 0.0, -0.0096, -0.015, -0.0133, -0.0004, 0.0133, 0.0432, 0.0649], \"yaxis\": \"y2\", \"type\": \"scatter\", \"xaxis\": \"x2\"}, {\"legendgroup\": \"chart (1, 2)\", \"name\": \"chart (1, 2) 20190311\", \"uid\": \"c81920e2-a3e3-11e9-a13d-8c859025e7f9\", \"x\": [-0.3, -0.25, -0.2, -0.15, -0.1, -0.05, 0.0, 0.05, 0.1, 0.15, 0.2, 0.25, 0.3, 0.35], \"y\": [0.1661, 0.1259, 0.0842, 0.0538, 0.0309, 0.0152, 0.0, -0.0114, -0.0148, -0.0121, 0.0038, 0.0177, 0.0349, null], \"yaxis\": \"y2\", \"type\": \"scatter\", \"xaxis\": \"x2\"}, {\"legendgroup\": \"chart (1, 2)\", \"name\": \"chart (1, 2) 20190312\", \"uid\": \"c81982ec-a3e3-11e9-9263-8c859025e7f9\", \"x\": [-0.3, -0.25, -0.2, -0.15, -0.1, -0.05, 0.0, 0.05, 0.1, 0.15, 0.2, 0.25, 0.3, 0.35], \"y\": [0.1735, 0.1214, 0.0849, 0.0526, 0.0329, 0.0162, 0.0, -0.0089, -0.0145, -0.0091, 0.0016, 0.0248, 0.0388, null], \"yaxis\": \"y2\", \"type\": \"scatter\", \"xaxis\": \"x2\"}, {\"legendgroup\": \"chart (1, 2)\", \"name\": \"chart (1, 2) 20190313\", \"uid\": \"c819ecdc-a3e3-11e9-bf28-8c859025e7f9\", \"x\": [-0.3, -0.25, -0.2, -0.15, -0.1, -0.05, 0.0, 0.05, 0.1, 0.15, 0.2, 0.25, 0.3, 0.35], \"y\": [0.1782, 0.1301, 0.0879, 0.0533, 0.0309, 0.0135, 0.0, -0.0118, -0.0146, -0.0109, 0.0059, 0.0309, 0.045, null], \"yaxis\": \"y2\", \"type\": \"scatter\", \"xaxis\": \"x2\"}, {\"legendgroup\": \"chart (1, 2)\", \"name\": \"chart (1, 2) 20190314\", \"uid\": \"c81a6536-a3e3-11e9-b5ee-8c859025e7f9\", \"x\": [-0.3, -0.25, -0.2, -0.15, -0.1, -0.05, 0.0, 0.05, 0.1, 0.15, 0.2, 0.25, 0.3, 0.35], \"y\": [0.1731, 0.1411, 0.0994, 0.0597, 0.0348, 0.0176, 0.0, -0.0068, -0.0104, -0.0063, 0.0117, 0.0319, 0.059, null], \"yaxis\": \"y2\", \"type\": \"scatter\", \"xaxis\": \"x2\"}, {\"legendgroup\": \"chart (2, 1)\", \"name\": \"chart (2, 1) 20190315\", \"uid\": \"c81b4c76-a3e3-11e9-8940-8c859025e7f9\", \"x\": [-0.3, -0.25, -0.2, -0.15, -0.1, -0.05, 0.0, 0.05, 0.1, 0.15, 0.2, 0.25, 0.3, 0.35], \"y\": [0.2044, 0.1518, 0.1059, 0.0654, 0.0405, 0.0183, 0.0, -0.0104, -0.0132, -0.0065, 0.0119, 0.0381, 0.0659, null], \"yaxis\": \"y3\", \"type\": \"scatter\", \"xaxis\": \"x3\"}, {\"legendgroup\": \"chart (2, 1)\", \"name\": \"chart (2, 1) 20190318\", \"uid\": \"c81bae0a-a3e3-11e9-a474-8c859025e7f9\", \"x\": [-0.3, -0.25, -0.2, -0.15, -0.1, -0.05, 0.0, 0.05, 0.1, 0.15, 0.2, 0.25, 0.3, 0.35], \"y\": [0.1987, 0.1623, 0.1107, 0.0692, 0.0404, 0.0146, 0.0, -0.0159, -0.0179, -0.0094, 0.0097, 0.0455, 0.0728, null], \"yaxis\": \"y3\", \"type\": \"scatter\", \"xaxis\": \"x3\"}, {\"legendgroup\": \"chart (2, 1)\", \"name\": \"chart (2, 1) 20190319\", \"uid\": \"c81c0de6-a3e3-11e9-8f0c-8c859025e7f9\", \"x\": [-0.3, -0.25, -0.2, -0.15, -0.1, -0.05, 0.0, 0.05, 0.1, 0.15, 0.2, 0.25, 0.3, 0.35], \"y\": [0.2207, 0.1642, 0.1185, 0.0861, 0.0506, 0.0217, 0.0, -0.0179, -0.0207, -0.0164, -0.003, 0.0283, 0.0476, null], \"yaxis\": \"y3\", \"type\": \"scatter\", \"xaxis\": \"x3\"}, {\"legendgroup\": \"chart (2, 1)\", \"name\": \"chart (2, 1) 20190320\", \"uid\": \"c81c7eac-a3e3-11e9-b0dd-8c859025e7f9\", \"x\": [-0.3, -0.25, -0.2, -0.15, -0.1, -0.05, 0.0, 0.05, 0.1, 0.15, 0.2, 0.25, 0.3, 0.35], \"y\": [0.2218, 0.1646, 0.114, 0.0811, 0.049, 0.0193, 0.0, -0.02, -0.0198, -0.0072, 0.0067, 0.0328, 0.0732, null], \"yaxis\": \"y3\", \"type\": \"scatter\", \"xaxis\": \"x3\"}, {\"legendgroup\": \"chart (2, 1)\", \"name\": \"chart (2, 1) 20190321\", \"uid\": \"c81cdf46-a3e3-11e9-a0d1-8c859025e7f9\", \"x\": [-0.3, -0.25, -0.2, -0.15, -0.1, -0.05, 0.0, 0.05, 0.1, 0.15, 0.2, 0.25, 0.3, 0.35], \"y\": [0.2197, 0.1727, 0.1305, 0.0947, 0.0566, 0.0265, 0.0, -0.012, -0.0107, -0.0002, 0.0222, 0.0494, 0.0702, null], \"yaxis\": \"y3\", \"type\": \"scatter\", \"xaxis\": \"x3\"}, {\"legendgroup\": \"chart (2, 2)\", \"name\": \"chart (2, 2) 20190322\", \"uid\": \"c81dcafa-a3e3-11e9-a0ff-8c859025e7f9\", \"x\": [-0.3, -0.25, -0.2, -0.15, -0.1, -0.05, 0.0, 0.05, 0.1, 0.15, 0.2, 0.25, 0.3, 0.35], \"y\": [0.2151, 0.185, 0.1301, 0.09, 0.0543, 0.0221, 0.0, -0.019, -0.022, -0.0118, 0.0079, 0.0437, 0.0634, null], \"yaxis\": \"y4\", \"type\": \"scatter\", \"xaxis\": \"x4\"}, {\"legendgroup\": \"chart (2, 2)\", \"name\": \"chart (2, 2) 20190325\", \"uid\": \"c81e2bba-a3e3-11e9-9ced-8c859025e7f9\", \"x\": [-0.3, -0.25, -0.2, -0.15, -0.1, -0.05, 0.0, 0.05, 0.1, 0.15, 0.2, 0.25, 0.3, 0.35], \"y\": [0.2345, 0.2042, 0.1469, 0.1021, 0.0589, 0.0221, 0.0, -0.0198, -0.0209, -0.0097, 0.0145, 0.0304, 0.0762, null], \"yaxis\": \"y4\", \"type\": \"scatter\", \"xaxis\": \"x4\"}, {\"legendgroup\": \"chart (2, 2)\", \"name\": \"chart (2, 2) 20190326\", \"uid\": \"c81e8b5c-a3e3-11e9-a2f3-8c859025e7f9\", \"x\": [-0.3, -0.25, -0.2, -0.15, -0.1, -0.05, 0.0, 0.05, 0.1, 0.15, 0.2, 0.25, 0.3, 0.35], \"y\": [0.2489, 0.2002, 0.14, 0.1011, 0.0591, 0.0235, 0.0, -0.0176, -0.017, -0.005, 0.014, 0.0396, 0.0854, null], \"yaxis\": \"y4\", \"type\": \"scatter\", \"xaxis\": \"x4\"}, {\"legendgroup\": \"chart (2, 2)\", \"name\": \"chart (2, 2) 20190327\", \"uid\": \"c81ef380-a3e3-11e9-95e1-8c859025e7f9\", \"x\": [-0.3, -0.25, -0.2, -0.15, -0.1, -0.05, 0.0, 0.05, 0.1, 0.15, 0.2, 0.25, 0.3, 0.35], \"y\": [0.2619, 0.2099, 0.1471, 0.0989, 0.0566, 0.022, 0.0, -0.0191, -0.0201, 0.0001, 0.0221, 0.0493, 0.0962, null], \"yaxis\": \"y4\", \"type\": \"scatter\", \"xaxis\": \"x4\"}, {\"legendgroup\": \"chart (2, 2)\", \"name\": \"chart (2, 2) 20190328\", \"uid\": \"c81f541a-a3e3-11e9-842a-8c859025e7f9\", \"x\": [-0.3, -0.25, -0.2, -0.15, -0.1, -0.05, 0.0, 0.05, 0.1, 0.15, 0.2, 0.25, 0.3, 0.35], \"y\": [0.2419, 0.2043, 0.1526, 0.1053, 0.0604, 0.0286, 0.0, -0.0134, -0.0134, -0.0016, 0.0133, 0.0645, 0.1123, null], \"yaxis\": \"y4\", \"type\": \"scatter\", \"xaxis\": \"x4\"}], {\"annotations\": [{\"font\": {\"size\": 16}, \"showarrow\": false, \"text\": \"CBM19 20190301 - 20190307\", \"x\": 0.2275, \"xanchor\": \"center\", \"xref\": \"paper\", \"y\": 1.0, \"yanchor\": \"bottom\", \"yref\": \"paper\"}, {\"font\": {\"size\": 16}, \"showarrow\": false, \"text\": \"CBM19 20190308 - 20190314\", \"x\": 0.7725, \"xanchor\": \"center\", \"xref\": \"paper\", \"y\": 1.0, \"yanchor\": \"bottom\", \"yref\": \"paper\"}, {\"font\": {\"size\": 16}, \"showarrow\": false, \"text\": \"CBM19 20190315 - 20190321\", \"x\": 0.2275, \"xanchor\": \"center\", \"xref\": \"paper\", \"y\": 0.445, \"yanchor\": \"bottom\", \"yref\": \"paper\"}, {\"font\": {\"size\": 16}, \"showarrow\": false, \"text\": \"CBM19 20190322 - 20190328\", \"x\": 0.7725, \"xanchor\": \"center\", \"xref\": \"paper\", \"y\": 0.445, \"yanchor\": \"bottom\", \"yref\": \"paper\"}], \"xaxis\": {\"anchor\": \"y\", \"domain\": [0.0, 0.455], \"tickangle\": 45, \"ticktext\": [-0.3, -0.25, -0.2, -0.15, -0.1, -0.05, 0.0, 0.05, 0.1, 0.15, 0.2, 0.25, 0.3, 0.35], \"tickvals\": [-0.3, -0.25, -0.2, -0.15, -0.1, -0.05, 0.0, 0.05, 0.1, 0.15, 0.2, 0.25, 0.3, 0.35], \"type\": \"category\"}, \"yaxis\": {\"anchor\": \"x\", \"domain\": [0.555, 1.0], \"title\": \"vol skew\"}, \"xaxis2\": {\"anchor\": \"y2\", \"domain\": [0.545, 1.0], \"tickangle\": 45, \"ticktext\": [-0.3, -0.25, -0.2, -0.15, -0.1, -0.05, 0.0, 0.05, 0.1, 0.15, 0.2, 0.25, 0.3, 0.35], \"tickvals\": [-0.3, -0.25, -0.2, -0.15, -0.1, -0.05, 0.0, 0.05, 0.1, 0.15, 0.2, 0.25, 0.3, 0.35], \"type\": \"category\"}, \"yaxis2\": {\"anchor\": \"x2\", \"domain\": [0.555, 1.0], \"title\": \"vol skew\"}, \"xaxis3\": {\"anchor\": \"y3\", \"domain\": [0.0, 0.455], \"tickangle\": 45, \"ticktext\": [-0.3, -0.25, -0.2, -0.15, -0.1, -0.05, 0.0, 0.05, 0.1, 0.15, 0.2, 0.25, 0.3, 0.35], \"tickvals\": [-0.3, -0.25, -0.2, -0.15, -0.1, -0.05, 0.0, 0.05, 0.1, 0.15, 0.2, 0.25, 0.3, 0.35], \"type\": \"category\"}, \"yaxis3\": {\"anchor\": \"x3\", \"domain\": [0.0, 0.445], \"title\": \"vol skew\"}, \"xaxis4\": {\"anchor\": \"y4\", \"domain\": [0.545, 1.0], \"tickangle\": 45, \"ticktext\": [-0.3, -0.25, -0.2, -0.15, -0.1, -0.05, 0.0, 0.05, 0.1, 0.15, 0.2, 0.25, 0.3, 0.35], \"tickvals\": [-0.3, -0.25, -0.2, -0.15, -0.1, -0.05, 0.0, 0.05, 0.1, 0.15, 0.2, 0.25, 0.3, 0.35], \"type\": \"category\"}, \"yaxis4\": {\"anchor\": \"x4\", \"domain\": [0.0, 0.445], \"title\": \"vol skew\"}, \"font\": {\"family\": \"Open Sans, sans-serif\"}, \"margin\": {\"b\": 55, \"l\": 45, \"r\": 15, \"t\": 50}, \"title\": \"Skew plots<br>\", \"showlegend\": true, \"hovermode\": \"x\", \"autosize\": true, \"width\": 900, \"height\": 800, \"plot_bgcolor\": \"#EFECEA\", \"bargap\": 0.05}, {\"showLink\": true, \"linkText\": \"Export to plot.ly\"})});</script>"
      ]
     },
     "metadata": {},
     "output_type": "display_data"
    },
    {
     "data": {
      "application/vnd.plotly.v1+json": {
       "data": [
        {
         "legendgroup": "chart (1, 1)",
         "name": "chart (1, 1) 20190329",
         "type": "scatter",
         "uid": "c82f69ae-a3e3-11e9-b3c6-8c859025e7f9",
         "x": [
          -0.3,
          -0.25,
          -0.2,
          -0.15,
          -0.1,
          -0.05,
          0,
          0.05,
          0.1,
          0.15,
          0.2,
          0.25,
          0.3,
          0.35
         ],
         "xaxis": "x",
         "y": [
          0.2668,
          0.209,
          0.1583,
          0.1134,
          0.066,
          0.0272,
          0,
          -0.0126,
          -0.0076,
          0.0118,
          0.0344,
          0.0857,
          0.1343,
          null
         ],
         "yaxis": "y"
        }
       ],
       "layout": {
        "annotations": [
         {
          "font": {
           "size": 16
          },
          "showarrow": false,
          "text": "CBM19 20190329 - 20190329",
          "x": 0.2275,
          "xanchor": "center",
          "xref": "paper",
          "y": 1,
          "yanchor": "bottom",
          "yref": "paper"
         }
        ],
        "autosize": true,
        "bargap": 0.05,
        "font": {
         "family": "Open Sans, sans-serif"
        },
        "height": 800,
        "hovermode": "x",
        "margin": {
         "b": 55,
         "l": 45,
         "r": 15,
         "t": 50
        },
        "plot_bgcolor": "#EFECEA",
        "showlegend": true,
        "title": "Skew plots<br>",
        "width": 900,
        "xaxis": {
         "anchor": "y",
         "domain": [
          0,
          0.455
         ],
         "tickangle": 45,
         "ticktext": [
          -0.3,
          -0.25,
          -0.2,
          -0.15,
          -0.1,
          -0.05,
          0,
          0.05,
          0.1,
          0.15,
          0.2,
          0.25,
          0.3,
          0.35
         ],
         "tickvals": [
          -0.3,
          -0.25,
          -0.2,
          -0.15,
          -0.1,
          -0.05,
          0,
          0.05,
          0.1,
          0.15,
          0.2,
          0.25,
          0.3,
          0.35
         ],
         "type": "category"
        },
        "xaxis2": {
         "anchor": "y2",
         "domain": [
          0.545,
          1
         ]
        },
        "xaxis3": {
         "anchor": "y3",
         "domain": [
          0,
          0.455
         ]
        },
        "xaxis4": {
         "anchor": "y4",
         "domain": [
          0.545,
          1
         ]
        },
        "yaxis": {
         "anchor": "x",
         "domain": [
          0.555,
          1
         ],
         "title": "vol skew"
        },
        "yaxis2": {
         "anchor": "x2",
         "domain": [
          0.555,
          1
         ]
        },
        "yaxis3": {
         "anchor": "x3",
         "domain": [
          0,
          0.445
         ]
        },
        "yaxis4": {
         "anchor": "x4",
         "domain": [
          0,
          0.445
         ]
        }
       }
      },
      "text/html": [
       "<div id=\"d1df1a54-1443-4922-a103-1602935dbee3\" style=\"height: 800px; width: 900px;\" class=\"plotly-graph-div\"></div><script type=\"text/javascript\">require([\"plotly\"], function(Plotly) { window.PLOTLYENV=window.PLOTLYENV || {};window.PLOTLYENV.BASE_URL=\"https://plot.ly\";Plotly.newPlot(\"d1df1a54-1443-4922-a103-1602935dbee3\", [{\"legendgroup\": \"chart (1, 1)\", \"name\": \"chart (1, 1) 20190329\", \"uid\": \"c82f69ae-a3e3-11e9-b3c6-8c859025e7f9\", \"x\": [-0.3, -0.25, -0.2, -0.15, -0.1, -0.05, 0.0, 0.05, 0.1, 0.15, 0.2, 0.25, 0.3, 0.35], \"y\": [0.2668, 0.209, 0.1583, 0.1134, 0.066, 0.0272, 0.0, -0.0126, -0.0076, 0.0118, 0.0344, 0.0857, 0.1343, null], \"yaxis\": \"y\", \"type\": \"scatter\", \"xaxis\": \"x\"}], {\"annotations\": [{\"font\": {\"size\": 16}, \"showarrow\": false, \"text\": \"CBM19 20190329 - 20190329\", \"x\": 0.2275, \"xanchor\": \"center\", \"xref\": \"paper\", \"y\": 1.0, \"yanchor\": \"bottom\", \"yref\": \"paper\"}], \"xaxis\": {\"anchor\": \"y\", \"domain\": [0.0, 0.455], \"tickangle\": 45, \"ticktext\": [-0.3, -0.25, -0.2, -0.15, -0.1, -0.05, 0.0, 0.05, 0.1, 0.15, 0.2, 0.25, 0.3, 0.35], \"tickvals\": [-0.3, -0.25, -0.2, -0.15, -0.1, -0.05, 0.0, 0.05, 0.1, 0.15, 0.2, 0.25, 0.3, 0.35], \"type\": \"category\"}, \"yaxis\": {\"anchor\": \"x\", \"domain\": [0.555, 1.0], \"title\": \"vol skew\"}, \"xaxis2\": {\"anchor\": \"y2\", \"domain\": [0.545, 1.0]}, \"yaxis2\": {\"anchor\": \"x2\", \"domain\": [0.555, 1.0]}, \"xaxis3\": {\"anchor\": \"y3\", \"domain\": [0.0, 0.455]}, \"yaxis3\": {\"anchor\": \"x3\", \"domain\": [0.0, 0.445]}, \"xaxis4\": {\"anchor\": \"y4\", \"domain\": [0.545, 1.0]}, \"yaxis4\": {\"anchor\": \"x4\", \"domain\": [0.0, 0.445]}, \"font\": {\"family\": \"Open Sans, sans-serif\"}, \"margin\": {\"b\": 55, \"l\": 45, \"r\": 15, \"t\": 50}, \"title\": \"Skew plots<br>\", \"showlegend\": true, \"hovermode\": \"x\", \"autosize\": true, \"width\": 900, \"height\": 800, \"plot_bgcolor\": \"#EFECEA\", \"bargap\": 0.05}, {\"showLink\": true, \"linkText\": \"Export to plot.ly\"})});</script>"
      ],
      "text/vnd.plotly.v1+html": [
       "<div id=\"d1df1a54-1443-4922-a103-1602935dbee3\" style=\"height: 800px; width: 900px;\" class=\"plotly-graph-div\"></div><script type=\"text/javascript\">require([\"plotly\"], function(Plotly) { window.PLOTLYENV=window.PLOTLYENV || {};window.PLOTLYENV.BASE_URL=\"https://plot.ly\";Plotly.newPlot(\"d1df1a54-1443-4922-a103-1602935dbee3\", [{\"legendgroup\": \"chart (1, 1)\", \"name\": \"chart (1, 1) 20190329\", \"uid\": \"c82f69ae-a3e3-11e9-b3c6-8c859025e7f9\", \"x\": [-0.3, -0.25, -0.2, -0.15, -0.1, -0.05, 0.0, 0.05, 0.1, 0.15, 0.2, 0.25, 0.3, 0.35], \"y\": [0.2668, 0.209, 0.1583, 0.1134, 0.066, 0.0272, 0.0, -0.0126, -0.0076, 0.0118, 0.0344, 0.0857, 0.1343, null], \"yaxis\": \"y\", \"type\": \"scatter\", \"xaxis\": \"x\"}], {\"annotations\": [{\"font\": {\"size\": 16}, \"showarrow\": false, \"text\": \"CBM19 20190329 - 20190329\", \"x\": 0.2275, \"xanchor\": \"center\", \"xref\": \"paper\", \"y\": 1.0, \"yanchor\": \"bottom\", \"yref\": \"paper\"}], \"xaxis\": {\"anchor\": \"y\", \"domain\": [0.0, 0.455], \"tickangle\": 45, \"ticktext\": [-0.3, -0.25, -0.2, -0.15, -0.1, -0.05, 0.0, 0.05, 0.1, 0.15, 0.2, 0.25, 0.3, 0.35], \"tickvals\": [-0.3, -0.25, -0.2, -0.15, -0.1, -0.05, 0.0, 0.05, 0.1, 0.15, 0.2, 0.25, 0.3, 0.35], \"type\": \"category\"}, \"yaxis\": {\"anchor\": \"x\", \"domain\": [0.555, 1.0], \"title\": \"vol skew\"}, \"xaxis2\": {\"anchor\": \"y2\", \"domain\": [0.545, 1.0]}, \"yaxis2\": {\"anchor\": \"x2\", \"domain\": [0.555, 1.0]}, \"xaxis3\": {\"anchor\": \"y3\", \"domain\": [0.0, 0.455]}, \"yaxis3\": {\"anchor\": \"x3\", \"domain\": [0.0, 0.445]}, \"xaxis4\": {\"anchor\": \"y4\", \"domain\": [0.545, 1.0]}, \"yaxis4\": {\"anchor\": \"x4\", \"domain\": [0.0, 0.445]}, \"font\": {\"family\": \"Open Sans, sans-serif\"}, \"margin\": {\"b\": 55, \"l\": 45, \"r\": 15, \"t\": 50}, \"title\": \"Skew plots<br>\", \"showlegend\": true, \"hovermode\": \"x\", \"autosize\": true, \"width\": 900, \"height\": 800, \"plot_bgcolor\": \"#EFECEA\", \"bargap\": 0.05}, {\"showLink\": true, \"linkText\": \"Export to plot.ly\"})});</script>"
      ]
     },
     "metadata": {},
     "output_type": "display_data"
    },
    {
     "data": {
      "application/vnd.plotly.v1+json": {
       "data": [
        {
         "legendgroup": "chart (1, 1)",
         "name": "chart (1, 1) 20190401",
         "type": "scatter",
         "uid": "c891980c-a3e3-11e9-bec7-8c859025e7f9",
         "x": [
          -0.3,
          -0.25,
          -0.2,
          -0.15,
          -0.1,
          -0.05,
          0,
          0.05,
          0.1,
          0.15,
          0.2,
          0.25,
          0.3,
          0.35
         ],
         "xaxis": "x",
         "y": [
          0.1723,
          0.1318,
          0.1004,
          0.0691,
          0.0423,
          0.0195,
          0,
          -0.0102,
          -0.015,
          -0.0118,
          0.0012,
          0.0176,
          0.04,
          0.0611
         ],
         "yaxis": "y"
        },
        {
         "legendgroup": "chart (1, 1)",
         "name": "chart (1, 1) 20190402",
         "type": "scatter",
         "uid": "c8920438-a3e3-11e9-879e-8c859025e7f9",
         "x": [
          -0.3,
          -0.25,
          -0.2,
          -0.15,
          -0.1,
          -0.05,
          0,
          0.05,
          0.1,
          0.15,
          0.2,
          0.25,
          0.3,
          0.35
         ],
         "xaxis": "x",
         "y": [
          0.1767,
          0.1377,
          0.1003,
          0.0677,
          0.0383,
          0.016,
          0,
          -0.0126,
          -0.0156,
          -0.0127,
          0.0029,
          0.023,
          0.044,
          0.0623
         ],
         "yaxis": "y"
        },
        {
         "legendgroup": "chart (1, 1)",
         "name": "chart (1, 1) 20190403",
         "type": "scatter",
         "uid": "c8927666-a3e3-11e9-882b-8c859025e7f9",
         "x": [
          -0.3,
          -0.25,
          -0.2,
          -0.15,
          -0.1,
          -0.05,
          0,
          0.05,
          0.1,
          0.15,
          0.2,
          0.25,
          0.3,
          0.35
         ],
         "xaxis": "x",
         "y": [
          0.1873,
          0.1471,
          0.1103,
          0.0747,
          0.0425,
          0.0171,
          0,
          -0.0142,
          -0.0175,
          -0.014,
          0.0006,
          0.0139,
          0.0369,
          0.0716
         ],
         "yaxis": "y"
        },
        {
         "legendgroup": "chart (1, 1)",
         "name": "chart (1, 1) 20190404",
         "type": "scatter",
         "uid": "c8930964-a3e3-11e9-b4b5-8c859025e7f9",
         "x": [
          -0.3,
          -0.25,
          -0.2,
          -0.15,
          -0.1,
          -0.05,
          0,
          0.05,
          0.1,
          0.15,
          0.2,
          0.25,
          0.3,
          0.35
         ],
         "xaxis": "x",
         "y": [
          0.1968,
          0.1551,
          0.1156,
          0.0755,
          0.0459,
          0.0199,
          0,
          -0.0129,
          -0.0157,
          -0.0104,
          0.0044,
          0.024,
          0.0497,
          0.0621
         ],
         "yaxis": "y"
        },
        {
         "legendgroup": "chart (1, 1)",
         "name": "chart (1, 1) 20190405",
         "type": "scatter",
         "uid": "c8937806-a3e3-11e9-b060-8c859025e7f9",
         "x": [
          -0.3,
          -0.25,
          -0.2,
          -0.15,
          -0.1,
          -0.05,
          0,
          0.05,
          0.1,
          0.15,
          0.2,
          0.25,
          0.3,
          0.35
         ],
         "xaxis": "x",
         "y": [
          0.1945,
          0.1467,
          0.1119,
          0.0742,
          0.0443,
          0.0184,
          0,
          -0.013,
          -0.0138,
          -0.0068,
          0.0111,
          0.0299,
          0.0597,
          0.0705
         ],
         "yaxis": "y"
        },
        {
         "legendgroup": "chart (1, 2)",
         "name": "chart (1, 2) 20190408",
         "type": "scatter",
         "uid": "c8946318-a3e3-11e9-9b6c-8c859025e7f9",
         "x": [
          -0.3,
          -0.25,
          -0.2,
          -0.15,
          -0.1,
          -0.05,
          0,
          0.05,
          0.1,
          0.15,
          0.2,
          0.25,
          0.3,
          0.35
         ],
         "xaxis": "x2",
         "y": [
          0.2113,
          0.1702,
          0.1219,
          0.0838,
          0.0484,
          0.0217,
          0,
          -0.0097,
          -0.0073,
          0.0024,
          0.0213,
          0.0415,
          0.0666,
          0.0977
         ],
         "yaxis": "y2"
        },
        {
         "legendgroup": "chart (1, 2)",
         "name": "chart (1, 2) 20190409",
         "type": "scatter",
         "uid": "c894d186-a3e3-11e9-bb7f-8c859025e7f9",
         "x": [
          -0.3,
          -0.25,
          -0.2,
          -0.15,
          -0.1,
          -0.05,
          0,
          0.05,
          0.1,
          0.15,
          0.2,
          0.25,
          0.3,
          0.35
         ],
         "xaxis": "x2",
         "y": [
          0.2223,
          0.1742,
          0.1292,
          0.0892,
          0.0539,
          0.025,
          0,
          -0.0107,
          -0.0076,
          0.004,
          0.0208,
          0.0445,
          0.0672,
          0.1049
         ],
         "yaxis": "y2"
        },
        {
         "legendgroup": "chart (1, 2)",
         "name": "chart (1, 2) 20190410",
         "type": "scatter",
         "uid": "c89544a4-a3e3-11e9-a920-8c859025e7f9",
         "x": [
          -0.3,
          -0.25,
          -0.2,
          -0.15,
          -0.1,
          -0.05,
          0,
          0.05,
          0.1,
          0.15,
          0.2,
          0.25,
          0.3,
          0.35
         ],
         "xaxis": "x2",
         "y": [
          0.2106,
          0.1701,
          0.1251,
          0.0841,
          0.0474,
          0.0187,
          0,
          -0.0119,
          -0.0066,
          0.0061,
          0.0272,
          0.0531,
          0.0723,
          null
         ],
         "yaxis": "y2"
        },
        {
         "legendgroup": "chart (1, 2)",
         "name": "chart (1, 2) 20190411",
         "type": "scatter",
         "uid": "c895ba92-a3e3-11e9-9f00-8c859025e7f9",
         "x": [
          -0.3,
          -0.25,
          -0.2,
          -0.15,
          -0.1,
          -0.05,
          0,
          0.05,
          0.1,
          0.15,
          0.2,
          0.25,
          0.3,
          0.35
         ],
         "xaxis": "x2",
         "y": [
          0.2131,
          0.1716,
          0.1265,
          0.0862,
          0.0505,
          0.0212,
          0,
          -0.0126,
          -0.0117,
          -0.0003,
          0.0219,
          null,
          0.0647,
          0.1023
         ],
         "yaxis": "y2"
        },
        {
         "legendgroup": "chart (1, 2)",
         "name": "chart (1, 2) 20190412",
         "type": "scatter",
         "uid": "c8962428-a3e3-11e9-b85e-8c859025e7f9",
         "x": [
          -0.3,
          -0.25,
          -0.2,
          -0.15,
          -0.1,
          -0.05,
          0,
          0.05,
          0.1,
          0.15,
          0.2,
          0.25,
          0.3,
          0.35
         ],
         "xaxis": "x2",
         "y": [
          0.2227,
          0.1735,
          0.1309,
          0.0904,
          0.0514,
          0.0217,
          0,
          -0.0098,
          -0.0049,
          0.0094,
          0.0348,
          0.0541,
          0.0805,
          0.1175
         ],
         "yaxis": "y2"
        },
        {
         "legendgroup": "chart (2, 1)",
         "name": "chart (2, 1) 20190415",
         "type": "scatter",
         "uid": "c8975000-a3e3-11e9-84d9-8c859025e7f9",
         "x": [
          -0.3,
          -0.25,
          -0.2,
          -0.15,
          -0.1,
          -0.05,
          0,
          0.05,
          0.1,
          0.15,
          0.2,
          0.25,
          0.3,
          0.35
         ],
         "xaxis": "x3",
         "y": [
          0.2337,
          0.1867,
          0.1325,
          0.0869,
          0.0494,
          0.0189,
          0,
          -0.013,
          -0.0068,
          0.0072,
          0.0296,
          0.0563,
          0.083,
          0.092
         ],
         "yaxis": "y3"
        },
        {
         "legendgroup": "chart (2, 1)",
         "name": "chart (2, 1) 20190416",
         "type": "scatter",
         "uid": "c897edf8-a3e3-11e9-a485-8c859025e7f9",
         "x": [
          -0.3,
          -0.25,
          -0.2,
          -0.15,
          -0.1,
          -0.05,
          0,
          0.05,
          0.1,
          0.15,
          0.2,
          0.25,
          0.3,
          0.35
         ],
         "xaxis": "x3",
         "y": [
          0.2439,
          0.1896,
          0.1405,
          0.0939,
          0.0523,
          0.0196,
          0,
          -0.0129,
          -0.0062,
          0.0102,
          0.0347,
          0.0651,
          0.0916,
          null
         ],
         "yaxis": "y3"
        },
        {
         "legendgroup": "chart (2, 1)",
         "name": "chart (2, 1) 20190417",
         "type": "scatter",
         "uid": "c898674c-a3e3-11e9-8296-8c859025e7f9",
         "x": [
          -0.3,
          -0.25,
          -0.2,
          -0.15,
          -0.1,
          -0.05,
          0,
          0.05,
          0.1,
          0.15,
          0.2,
          0.25,
          0.3,
          0.35
         ],
         "xaxis": "x3",
         "y": [
          0.2575,
          0.2051,
          0.1492,
          0.1037,
          0.0574,
          0.0227,
          0,
          -0.0059,
          0.0024,
          0.0193,
          0.0411,
          0.0659,
          0.097,
          0.1198
         ],
         "yaxis": "y3"
        },
        {
         "legendgroup": "chart (2, 1)",
         "name": "chart (2, 1) 20190418",
         "type": "scatter",
         "uid": "c8991e62-a3e3-11e9-a7d7-8c859025e7f9",
         "x": [
          -0.3,
          -0.25,
          -0.2,
          -0.15,
          -0.1,
          -0.05,
          0,
          0.05,
          0.1,
          0.15,
          0.2,
          0.25,
          0.3,
          0.35
         ],
         "xaxis": "x3",
         "y": [
          0.2527,
          0.2001,
          0.1516,
          0.1002,
          0.0574,
          0.0204,
          0,
          -0.0086,
          -0.0008,
          0.022,
          0.0503,
          0.0705,
          0.0926,
          null
         ],
         "yaxis": "y3"
        },
        {
         "legendgroup": "chart (2, 1)",
         "name": "chart (2, 1) 20190422",
         "type": "scatter",
         "uid": "c899da3a-a3e3-11e9-b405-8c859025e7f9",
         "x": [
          -0.3,
          -0.25,
          -0.2,
          -0.15,
          -0.1,
          -0.05,
          0,
          0.05,
          0.1,
          0.15,
          0.2,
          0.25,
          0.3,
          0.35
         ],
         "xaxis": "x3",
         "y": [
          0.239,
          0.1779,
          0.1295,
          0.0744,
          0.0312,
          0.009,
          0,
          -0.0025,
          0.0062,
          0.0243,
          0.0502,
          0.0735,
          0.0998,
          null
         ],
         "yaxis": "y3"
        },
        {
         "legendgroup": "chart (2, 2)",
         "name": "chart (2, 2) 20190423",
         "type": "scatter",
         "uid": "c89b20c2-a3e3-11e9-b75d-8c859025e7f9",
         "x": [
          -0.3,
          -0.25,
          -0.2,
          -0.15,
          -0.1,
          -0.05,
          0,
          0.05,
          0.1,
          0.15,
          0.2,
          0.25,
          0.3,
          0.35
         ],
         "xaxis": "x4",
         "y": [
          0.2524,
          0.1949,
          0.1359,
          0.0794,
          0.0327,
          0.0076,
          0,
          0.0016,
          0.015,
          0.0347,
          0.0618,
          0.0865,
          null,
          null
         ],
         "yaxis": "y4"
        },
        {
         "legendgroup": "chart (2, 2)",
         "name": "chart (2, 2) 20190424",
         "type": "scatter",
         "uid": "c89be746-a3e3-11e9-9c4c-8c859025e7f9",
         "x": [
          -0.3,
          -0.25,
          -0.2,
          -0.15,
          -0.1,
          -0.05,
          0,
          0.05,
          0.1,
          0.15,
          0.2,
          0.25,
          0.3,
          0.35
         ],
         "xaxis": "x4",
         "y": [
          0.2766,
          0.2158,
          0.1504,
          0.0968,
          0.0455,
          0.0124,
          0,
          -0.0027,
          0.012,
          0.0389,
          0.0594,
          0.0925,
          0.1262,
          null
         ],
         "yaxis": "y4"
        },
        {
         "legendgroup": "chart (2, 2)",
         "name": "chart (2, 2) 20190425",
         "type": "scatter",
         "uid": "c89c99ca-a3e3-11e9-856d-8c859025e7f9",
         "x": [
          -0.3,
          -0.25,
          -0.2,
          -0.15,
          -0.1,
          -0.05,
          0,
          0.05,
          0.1,
          0.15,
          0.2,
          0.25,
          0.3,
          0.35
         ],
         "xaxis": "x4",
         "y": [
          0.2862,
          0.2195,
          0.1573,
          0.1038,
          0.0539,
          0.019,
          0,
          0.0014,
          0.0167,
          0.0375,
          0.0698,
          0.0872,
          0.1182,
          null
         ],
         "yaxis": "y4"
        },
        {
         "legendgroup": "chart (2, 2)",
         "name": "chart (2, 2) 20190426",
         "type": "scatter",
         "uid": "c89d8f1a-a3e3-11e9-8484-8c859025e7f9",
         "x": [
          -0.3,
          -0.25,
          -0.2,
          -0.15,
          -0.1,
          -0.05,
          0,
          0.05,
          0.1,
          0.15,
          0.2,
          0.25,
          0.3,
          0.35
         ],
         "xaxis": "x4",
         "y": [
          0.302,
          0.2336,
          0.1809,
          0.1196,
          0.069,
          0.03,
          0,
          -0.01,
          -0.0042,
          0.014,
          0.0373,
          0.061,
          0.082,
          null
         ],
         "yaxis": "y4"
        },
        {
         "legendgroup": "chart (2, 2)",
         "name": "chart (2, 2) 20190429",
         "type": "scatter",
         "uid": "c89e2ba8-a3e3-11e9-8b80-8c859025e7f9",
         "x": [
          -0.3,
          -0.25,
          -0.2,
          -0.15,
          -0.1,
          -0.05,
          0,
          0.05,
          0.1,
          0.15,
          0.2,
          0.25,
          0.3,
          0.35
         ],
         "xaxis": "x4",
         "y": [
          0.3147,
          0.2485,
          0.1917,
          0.1329,
          0.0745,
          0.0288,
          0,
          -0.0092,
          -0.0007,
          0.0197,
          0.0449,
          0.0699,
          0.1016,
          null
         ],
         "yaxis": "y4"
        }
       ],
       "layout": {
        "annotations": [
         {
          "font": {
           "size": 16
          },
          "showarrow": false,
          "text": "CBN19 20190401 - 20190405",
          "x": 0.2275,
          "xanchor": "center",
          "xref": "paper",
          "y": 1,
          "yanchor": "bottom",
          "yref": "paper"
         },
         {
          "font": {
           "size": 16
          },
          "showarrow": false,
          "text": "CBN19 20190408 - 20190412",
          "x": 0.7725,
          "xanchor": "center",
          "xref": "paper",
          "y": 1,
          "yanchor": "bottom",
          "yref": "paper"
         },
         {
          "font": {
           "size": 16
          },
          "showarrow": false,
          "text": "CBN19 20190415 - 20190422",
          "x": 0.2275,
          "xanchor": "center",
          "xref": "paper",
          "y": 0.445,
          "yanchor": "bottom",
          "yref": "paper"
         },
         {
          "font": {
           "size": 16
          },
          "showarrow": false,
          "text": "CBN19 20190423 - 20190429",
          "x": 0.7725,
          "xanchor": "center",
          "xref": "paper",
          "y": 0.445,
          "yanchor": "bottom",
          "yref": "paper"
         }
        ],
        "autosize": true,
        "bargap": 0.05,
        "font": {
         "family": "Open Sans, sans-serif"
        },
        "height": 800,
        "hovermode": "x",
        "margin": {
         "b": 55,
         "l": 45,
         "r": 15,
         "t": 50
        },
        "plot_bgcolor": "#EFECEA",
        "showlegend": true,
        "title": "Skew plots<br>",
        "width": 900,
        "xaxis": {
         "anchor": "y",
         "domain": [
          0,
          0.455
         ],
         "tickangle": 45,
         "ticktext": [
          -0.3,
          -0.25,
          -0.2,
          -0.15,
          -0.1,
          -0.05,
          0,
          0.05,
          0.1,
          0.15,
          0.2,
          0.25,
          0.3,
          0.35
         ],
         "tickvals": [
          -0.3,
          -0.25,
          -0.2,
          -0.15,
          -0.1,
          -0.05,
          0,
          0.05,
          0.1,
          0.15,
          0.2,
          0.25,
          0.3,
          0.35
         ],
         "type": "category"
        },
        "xaxis2": {
         "anchor": "y2",
         "domain": [
          0.545,
          1
         ],
         "tickangle": 45,
         "ticktext": [
          -0.3,
          -0.25,
          -0.2,
          -0.15,
          -0.1,
          -0.05,
          0,
          0.05,
          0.1,
          0.15,
          0.2,
          0.25,
          0.3,
          0.35
         ],
         "tickvals": [
          -0.3,
          -0.25,
          -0.2,
          -0.15,
          -0.1,
          -0.05,
          0,
          0.05,
          0.1,
          0.15,
          0.2,
          0.25,
          0.3,
          0.35
         ],
         "type": "category"
        },
        "xaxis3": {
         "anchor": "y3",
         "domain": [
          0,
          0.455
         ],
         "tickangle": 45,
         "ticktext": [
          -0.3,
          -0.25,
          -0.2,
          -0.15,
          -0.1,
          -0.05,
          0,
          0.05,
          0.1,
          0.15,
          0.2,
          0.25,
          0.3,
          0.35
         ],
         "tickvals": [
          -0.3,
          -0.25,
          -0.2,
          -0.15,
          -0.1,
          -0.05,
          0,
          0.05,
          0.1,
          0.15,
          0.2,
          0.25,
          0.3,
          0.35
         ],
         "type": "category"
        },
        "xaxis4": {
         "anchor": "y4",
         "domain": [
          0.545,
          1
         ],
         "tickangle": 45,
         "ticktext": [
          -0.3,
          -0.25,
          -0.2,
          -0.15,
          -0.1,
          -0.05,
          0,
          0.05,
          0.1,
          0.15,
          0.2,
          0.25,
          0.3,
          0.35
         ],
         "tickvals": [
          -0.3,
          -0.25,
          -0.2,
          -0.15,
          -0.1,
          -0.05,
          0,
          0.05,
          0.1,
          0.15,
          0.2,
          0.25,
          0.3,
          0.35
         ],
         "type": "category"
        },
        "yaxis": {
         "anchor": "x",
         "domain": [
          0.555,
          1
         ],
         "title": "vol skew"
        },
        "yaxis2": {
         "anchor": "x2",
         "domain": [
          0.555,
          1
         ],
         "title": "vol skew"
        },
        "yaxis3": {
         "anchor": "x3",
         "domain": [
          0,
          0.445
         ],
         "title": "vol skew"
        },
        "yaxis4": {
         "anchor": "x4",
         "domain": [
          0,
          0.445
         ],
         "title": "vol skew"
        }
       }
      },
      "text/html": [
       "<div id=\"bfd80b0f-3e71-41c9-81e7-a2c7d71a6649\" style=\"height: 800px; width: 900px;\" class=\"plotly-graph-div\"></div><script type=\"text/javascript\">require([\"plotly\"], function(Plotly) { window.PLOTLYENV=window.PLOTLYENV || {};window.PLOTLYENV.BASE_URL=\"https://plot.ly\";Plotly.newPlot(\"bfd80b0f-3e71-41c9-81e7-a2c7d71a6649\", [{\"legendgroup\": \"chart (1, 1)\", \"name\": \"chart (1, 1) 20190401\", \"uid\": \"c891980c-a3e3-11e9-bec7-8c859025e7f9\", \"x\": [-0.3, -0.25, -0.2, -0.15, -0.1, -0.05, 0.0, 0.05, 0.1, 0.15, 0.2, 0.25, 0.3, 0.35], \"y\": [0.1723, 0.1318, 0.1004, 0.0691, 0.0423, 0.0195, 0.0, -0.0102, -0.015, -0.0118, 0.0012, 0.0176, 0.04, 0.0611], \"yaxis\": \"y\", \"type\": \"scatter\", \"xaxis\": \"x\"}, {\"legendgroup\": \"chart (1, 1)\", \"name\": \"chart (1, 1) 20190402\", \"uid\": \"c8920438-a3e3-11e9-879e-8c859025e7f9\", \"x\": [-0.3, -0.25, -0.2, -0.15, -0.1, -0.05, 0.0, 0.05, 0.1, 0.15, 0.2, 0.25, 0.3, 0.35], \"y\": [0.1767, 0.1377, 0.1003, 0.0677, 0.0383, 0.016, 0.0, -0.0126, -0.0156, -0.0127, 0.0029, 0.023, 0.044, 0.0623], \"yaxis\": \"y\", \"type\": \"scatter\", \"xaxis\": \"x\"}, {\"legendgroup\": \"chart (1, 1)\", \"name\": \"chart (1, 1) 20190403\", \"uid\": \"c8927666-a3e3-11e9-882b-8c859025e7f9\", \"x\": [-0.3, -0.25, -0.2, -0.15, -0.1, -0.05, 0.0, 0.05, 0.1, 0.15, 0.2, 0.25, 0.3, 0.35], \"y\": [0.1873, 0.1471, 0.1103, 0.0747, 0.0425, 0.0171, 0.0, -0.0142, -0.0175, -0.014, 0.0006, 0.0139, 0.0369, 0.0716], \"yaxis\": \"y\", \"type\": \"scatter\", \"xaxis\": \"x\"}, {\"legendgroup\": \"chart (1, 1)\", \"name\": \"chart (1, 1) 20190404\", \"uid\": \"c8930964-a3e3-11e9-b4b5-8c859025e7f9\", \"x\": [-0.3, -0.25, -0.2, -0.15, -0.1, -0.05, 0.0, 0.05, 0.1, 0.15, 0.2, 0.25, 0.3, 0.35], \"y\": [0.1968, 0.1551, 0.1156, 0.0755, 0.0459, 0.0199, 0.0, -0.0129, -0.0157, -0.0104, 0.0044, 0.024, 0.0497, 0.0621], \"yaxis\": \"y\", \"type\": \"scatter\", \"xaxis\": \"x\"}, {\"legendgroup\": \"chart (1, 1)\", \"name\": \"chart (1, 1) 20190405\", \"uid\": \"c8937806-a3e3-11e9-b060-8c859025e7f9\", \"x\": [-0.3, -0.25, -0.2, -0.15, -0.1, -0.05, 0.0, 0.05, 0.1, 0.15, 0.2, 0.25, 0.3, 0.35], \"y\": [0.1945, 0.1467, 0.1119, 0.0742, 0.0443, 0.0184, 0.0, -0.013, -0.0138, -0.0068, 0.0111, 0.0299, 0.0597, 0.0705], \"yaxis\": \"y\", \"type\": \"scatter\", \"xaxis\": \"x\"}, {\"legendgroup\": \"chart (1, 2)\", \"name\": \"chart (1, 2) 20190408\", \"uid\": \"c8946318-a3e3-11e9-9b6c-8c859025e7f9\", \"x\": [-0.3, -0.25, -0.2, -0.15, -0.1, -0.05, 0.0, 0.05, 0.1, 0.15, 0.2, 0.25, 0.3, 0.35], \"y\": [0.2113, 0.1702, 0.1219, 0.0838, 0.0484, 0.0217, 0.0, -0.0097, -0.0073, 0.0024, 0.0213, 0.0415, 0.0666, 0.0977], \"yaxis\": \"y2\", \"type\": \"scatter\", \"xaxis\": \"x2\"}, {\"legendgroup\": \"chart (1, 2)\", \"name\": \"chart (1, 2) 20190409\", \"uid\": \"c894d186-a3e3-11e9-bb7f-8c859025e7f9\", \"x\": [-0.3, -0.25, -0.2, -0.15, -0.1, -0.05, 0.0, 0.05, 0.1, 0.15, 0.2, 0.25, 0.3, 0.35], \"y\": [0.2223, 0.1742, 0.1292, 0.0892, 0.0539, 0.025, 0.0, -0.0107, -0.0076, 0.004, 0.0208, 0.0445, 0.0672, 0.1049], \"yaxis\": \"y2\", \"type\": \"scatter\", \"xaxis\": \"x2\"}, {\"legendgroup\": \"chart (1, 2)\", \"name\": \"chart (1, 2) 20190410\", \"uid\": \"c89544a4-a3e3-11e9-a920-8c859025e7f9\", \"x\": [-0.3, -0.25, -0.2, -0.15, -0.1, -0.05, 0.0, 0.05, 0.1, 0.15, 0.2, 0.25, 0.3, 0.35], \"y\": [0.2106, 0.1701, 0.1251, 0.0841, 0.0474, 0.0187, 0.0, -0.0119, -0.0066, 0.0061, 0.0272, 0.0531, 0.0723, null], \"yaxis\": \"y2\", \"type\": \"scatter\", \"xaxis\": \"x2\"}, {\"legendgroup\": \"chart (1, 2)\", \"name\": \"chart (1, 2) 20190411\", \"uid\": \"c895ba92-a3e3-11e9-9f00-8c859025e7f9\", \"x\": [-0.3, -0.25, -0.2, -0.15, -0.1, -0.05, 0.0, 0.05, 0.1, 0.15, 0.2, 0.25, 0.3, 0.35], \"y\": [0.2131, 0.1716, 0.1265, 0.0862, 0.0505, 0.0212, 0.0, -0.0126, -0.0117, -0.0003, 0.0219, null, 0.0647, 0.1023], \"yaxis\": \"y2\", \"type\": \"scatter\", \"xaxis\": \"x2\"}, {\"legendgroup\": \"chart (1, 2)\", \"name\": \"chart (1, 2) 20190412\", \"uid\": \"c8962428-a3e3-11e9-b85e-8c859025e7f9\", \"x\": [-0.3, -0.25, -0.2, -0.15, -0.1, -0.05, 0.0, 0.05, 0.1, 0.15, 0.2, 0.25, 0.3, 0.35], \"y\": [0.2227, 0.1735, 0.1309, 0.0904, 0.0514, 0.0217, 0.0, -0.0098, -0.0049, 0.0094, 0.0348, 0.0541, 0.0805, 0.1175], \"yaxis\": \"y2\", \"type\": \"scatter\", \"xaxis\": \"x2\"}, {\"legendgroup\": \"chart (2, 1)\", \"name\": \"chart (2, 1) 20190415\", \"uid\": \"c8975000-a3e3-11e9-84d9-8c859025e7f9\", \"x\": [-0.3, -0.25, -0.2, -0.15, -0.1, -0.05, 0.0, 0.05, 0.1, 0.15, 0.2, 0.25, 0.3, 0.35], \"y\": [0.2337, 0.1867, 0.1325, 0.0869, 0.0494, 0.0189, 0.0, -0.013, -0.0068, 0.0072, 0.0296, 0.0563, 0.083, 0.092], \"yaxis\": \"y3\", \"type\": \"scatter\", \"xaxis\": \"x3\"}, {\"legendgroup\": \"chart (2, 1)\", \"name\": \"chart (2, 1) 20190416\", \"uid\": \"c897edf8-a3e3-11e9-a485-8c859025e7f9\", \"x\": [-0.3, -0.25, -0.2, -0.15, -0.1, -0.05, 0.0, 0.05, 0.1, 0.15, 0.2, 0.25, 0.3, 0.35], \"y\": [0.2439, 0.1896, 0.1405, 0.0939, 0.0523, 0.0196, 0.0, -0.0129, -0.0062, 0.0102, 0.0347, 0.0651, 0.0916, null], \"yaxis\": \"y3\", \"type\": \"scatter\", \"xaxis\": \"x3\"}, {\"legendgroup\": \"chart (2, 1)\", \"name\": \"chart (2, 1) 20190417\", \"uid\": \"c898674c-a3e3-11e9-8296-8c859025e7f9\", \"x\": [-0.3, -0.25, -0.2, -0.15, -0.1, -0.05, 0.0, 0.05, 0.1, 0.15, 0.2, 0.25, 0.3, 0.35], \"y\": [0.2575, 0.2051, 0.1492, 0.1037, 0.0574, 0.0227, 0.0, -0.0059, 0.0024, 0.0193, 0.0411, 0.0659, 0.097, 0.1198], \"yaxis\": \"y3\", \"type\": \"scatter\", \"xaxis\": \"x3\"}, {\"legendgroup\": \"chart (2, 1)\", \"name\": \"chart (2, 1) 20190418\", \"uid\": \"c8991e62-a3e3-11e9-a7d7-8c859025e7f9\", \"x\": [-0.3, -0.25, -0.2, -0.15, -0.1, -0.05, 0.0, 0.05, 0.1, 0.15, 0.2, 0.25, 0.3, 0.35], \"y\": [0.2527, 0.2001, 0.1516, 0.1002, 0.0574, 0.0204, 0.0, -0.0086, -0.0008, 0.022, 0.0503, 0.0705, 0.0926, null], \"yaxis\": \"y3\", \"type\": \"scatter\", \"xaxis\": \"x3\"}, {\"legendgroup\": \"chart (2, 1)\", \"name\": \"chart (2, 1) 20190422\", \"uid\": \"c899da3a-a3e3-11e9-b405-8c859025e7f9\", \"x\": [-0.3, -0.25, -0.2, -0.15, -0.1, -0.05, 0.0, 0.05, 0.1, 0.15, 0.2, 0.25, 0.3, 0.35], \"y\": [0.239, 0.1779, 0.1295, 0.0744, 0.0312, 0.009, 0.0, -0.0025, 0.0062, 0.0243, 0.0502, 0.0735, 0.0998, null], \"yaxis\": \"y3\", \"type\": \"scatter\", \"xaxis\": \"x3\"}, {\"legendgroup\": \"chart (2, 2)\", \"name\": \"chart (2, 2) 20190423\", \"uid\": \"c89b20c2-a3e3-11e9-b75d-8c859025e7f9\", \"x\": [-0.3, -0.25, -0.2, -0.15, -0.1, -0.05, 0.0, 0.05, 0.1, 0.15, 0.2, 0.25, 0.3, 0.35], \"y\": [0.2524, 0.1949, 0.1359, 0.0794, 0.0327, 0.0076, 0.0, 0.0016, 0.015, 0.0347, 0.0618, 0.0865, null, null], \"yaxis\": \"y4\", \"type\": \"scatter\", \"xaxis\": \"x4\"}, {\"legendgroup\": \"chart (2, 2)\", \"name\": \"chart (2, 2) 20190424\", \"uid\": \"c89be746-a3e3-11e9-9c4c-8c859025e7f9\", \"x\": [-0.3, -0.25, -0.2, -0.15, -0.1, -0.05, 0.0, 0.05, 0.1, 0.15, 0.2, 0.25, 0.3, 0.35], \"y\": [0.2766, 0.2158, 0.1504, 0.0968, 0.0455, 0.0124, 0.0, -0.0027, 0.012, 0.0389, 0.0594, 0.0925, 0.1262, null], \"yaxis\": \"y4\", \"type\": \"scatter\", \"xaxis\": \"x4\"}, {\"legendgroup\": \"chart (2, 2)\", \"name\": \"chart (2, 2) 20190425\", \"uid\": \"c89c99ca-a3e3-11e9-856d-8c859025e7f9\", \"x\": [-0.3, -0.25, -0.2, -0.15, -0.1, -0.05, 0.0, 0.05, 0.1, 0.15, 0.2, 0.25, 0.3, 0.35], \"y\": [0.2862, 0.2195, 0.1573, 0.1038, 0.0539, 0.019, 0.0, 0.0014, 0.0167, 0.0375, 0.0698, 0.0872, 0.1182, null], \"yaxis\": \"y4\", \"type\": \"scatter\", \"xaxis\": \"x4\"}, {\"legendgroup\": \"chart (2, 2)\", \"name\": \"chart (2, 2) 20190426\", \"uid\": \"c89d8f1a-a3e3-11e9-8484-8c859025e7f9\", \"x\": [-0.3, -0.25, -0.2, -0.15, -0.1, -0.05, 0.0, 0.05, 0.1, 0.15, 0.2, 0.25, 0.3, 0.35], \"y\": [0.302, 0.2336, 0.1809, 0.1196, 0.069, 0.03, 0.0, -0.01, -0.0042, 0.014, 0.0373, 0.061, 0.082, null], \"yaxis\": \"y4\", \"type\": \"scatter\", \"xaxis\": \"x4\"}, {\"legendgroup\": \"chart (2, 2)\", \"name\": \"chart (2, 2) 20190429\", \"uid\": \"c89e2ba8-a3e3-11e9-8b80-8c859025e7f9\", \"x\": [-0.3, -0.25, -0.2, -0.15, -0.1, -0.05, 0.0, 0.05, 0.1, 0.15, 0.2, 0.25, 0.3, 0.35], \"y\": [0.3147, 0.2485, 0.1917, 0.1329, 0.0745, 0.0288, 0.0, -0.0092, -0.0007, 0.0197, 0.0449, 0.0699, 0.1016, null], \"yaxis\": \"y4\", \"type\": \"scatter\", \"xaxis\": \"x4\"}], {\"annotations\": [{\"font\": {\"size\": 16}, \"showarrow\": false, \"text\": \"CBN19 20190401 - 20190405\", \"x\": 0.2275, \"xanchor\": \"center\", \"xref\": \"paper\", \"y\": 1.0, \"yanchor\": \"bottom\", \"yref\": \"paper\"}, {\"font\": {\"size\": 16}, \"showarrow\": false, \"text\": \"CBN19 20190408 - 20190412\", \"x\": 0.7725, \"xanchor\": \"center\", \"xref\": \"paper\", \"y\": 1.0, \"yanchor\": \"bottom\", \"yref\": \"paper\"}, {\"font\": {\"size\": 16}, \"showarrow\": false, \"text\": \"CBN19 20190415 - 20190422\", \"x\": 0.2275, \"xanchor\": \"center\", \"xref\": \"paper\", \"y\": 0.445, \"yanchor\": \"bottom\", \"yref\": \"paper\"}, {\"font\": {\"size\": 16}, \"showarrow\": false, \"text\": \"CBN19 20190423 - 20190429\", \"x\": 0.7725, \"xanchor\": \"center\", \"xref\": \"paper\", \"y\": 0.445, \"yanchor\": \"bottom\", \"yref\": \"paper\"}], \"xaxis\": {\"anchor\": \"y\", \"domain\": [0.0, 0.455], \"tickangle\": 45, \"ticktext\": [-0.3, -0.25, -0.2, -0.15, -0.1, -0.05, 0.0, 0.05, 0.1, 0.15, 0.2, 0.25, 0.3, 0.35], \"tickvals\": [-0.3, -0.25, -0.2, -0.15, -0.1, -0.05, 0.0, 0.05, 0.1, 0.15, 0.2, 0.25, 0.3, 0.35], \"type\": \"category\"}, \"yaxis\": {\"anchor\": \"x\", \"domain\": [0.555, 1.0], \"title\": \"vol skew\"}, \"xaxis2\": {\"anchor\": \"y2\", \"domain\": [0.545, 1.0], \"tickangle\": 45, \"ticktext\": [-0.3, -0.25, -0.2, -0.15, -0.1, -0.05, 0.0, 0.05, 0.1, 0.15, 0.2, 0.25, 0.3, 0.35], \"tickvals\": [-0.3, -0.25, -0.2, -0.15, -0.1, -0.05, 0.0, 0.05, 0.1, 0.15, 0.2, 0.25, 0.3, 0.35], \"type\": \"category\"}, \"yaxis2\": {\"anchor\": \"x2\", \"domain\": [0.555, 1.0], \"title\": \"vol skew\"}, \"xaxis3\": {\"anchor\": \"y3\", \"domain\": [0.0, 0.455], \"tickangle\": 45, \"ticktext\": [-0.3, -0.25, -0.2, -0.15, -0.1, -0.05, 0.0, 0.05, 0.1, 0.15, 0.2, 0.25, 0.3, 0.35], \"tickvals\": [-0.3, -0.25, -0.2, -0.15, -0.1, -0.05, 0.0, 0.05, 0.1, 0.15, 0.2, 0.25, 0.3, 0.35], \"type\": \"category\"}, \"yaxis3\": {\"anchor\": \"x3\", \"domain\": [0.0, 0.445], \"title\": \"vol skew\"}, \"xaxis4\": {\"anchor\": \"y4\", \"domain\": [0.545, 1.0], \"tickangle\": 45, \"ticktext\": [-0.3, -0.25, -0.2, -0.15, -0.1, -0.05, 0.0, 0.05, 0.1, 0.15, 0.2, 0.25, 0.3, 0.35], \"tickvals\": [-0.3, -0.25, -0.2, -0.15, -0.1, -0.05, 0.0, 0.05, 0.1, 0.15, 0.2, 0.25, 0.3, 0.35], \"type\": \"category\"}, \"yaxis4\": {\"anchor\": \"x4\", \"domain\": [0.0, 0.445], \"title\": \"vol skew\"}, \"font\": {\"family\": \"Open Sans, sans-serif\"}, \"margin\": {\"b\": 55, \"l\": 45, \"r\": 15, \"t\": 50}, \"title\": \"Skew plots<br>\", \"showlegend\": true, \"hovermode\": \"x\", \"autosize\": true, \"width\": 900, \"height\": 800, \"plot_bgcolor\": \"#EFECEA\", \"bargap\": 0.05}, {\"showLink\": true, \"linkText\": \"Export to plot.ly\"})});</script>"
      ],
      "text/vnd.plotly.v1+html": [
       "<div id=\"bfd80b0f-3e71-41c9-81e7-a2c7d71a6649\" style=\"height: 800px; width: 900px;\" class=\"plotly-graph-div\"></div><script type=\"text/javascript\">require([\"plotly\"], function(Plotly) { window.PLOTLYENV=window.PLOTLYENV || {};window.PLOTLYENV.BASE_URL=\"https://plot.ly\";Plotly.newPlot(\"bfd80b0f-3e71-41c9-81e7-a2c7d71a6649\", [{\"legendgroup\": \"chart (1, 1)\", \"name\": \"chart (1, 1) 20190401\", \"uid\": \"c891980c-a3e3-11e9-bec7-8c859025e7f9\", \"x\": [-0.3, -0.25, -0.2, -0.15, -0.1, -0.05, 0.0, 0.05, 0.1, 0.15, 0.2, 0.25, 0.3, 0.35], \"y\": [0.1723, 0.1318, 0.1004, 0.0691, 0.0423, 0.0195, 0.0, -0.0102, -0.015, -0.0118, 0.0012, 0.0176, 0.04, 0.0611], \"yaxis\": \"y\", \"type\": \"scatter\", \"xaxis\": \"x\"}, {\"legendgroup\": \"chart (1, 1)\", \"name\": \"chart (1, 1) 20190402\", \"uid\": \"c8920438-a3e3-11e9-879e-8c859025e7f9\", \"x\": [-0.3, -0.25, -0.2, -0.15, -0.1, -0.05, 0.0, 0.05, 0.1, 0.15, 0.2, 0.25, 0.3, 0.35], \"y\": [0.1767, 0.1377, 0.1003, 0.0677, 0.0383, 0.016, 0.0, -0.0126, -0.0156, -0.0127, 0.0029, 0.023, 0.044, 0.0623], \"yaxis\": \"y\", \"type\": \"scatter\", \"xaxis\": \"x\"}, {\"legendgroup\": \"chart (1, 1)\", \"name\": \"chart (1, 1) 20190403\", \"uid\": \"c8927666-a3e3-11e9-882b-8c859025e7f9\", \"x\": [-0.3, -0.25, -0.2, -0.15, -0.1, -0.05, 0.0, 0.05, 0.1, 0.15, 0.2, 0.25, 0.3, 0.35], \"y\": [0.1873, 0.1471, 0.1103, 0.0747, 0.0425, 0.0171, 0.0, -0.0142, -0.0175, -0.014, 0.0006, 0.0139, 0.0369, 0.0716], \"yaxis\": \"y\", \"type\": \"scatter\", \"xaxis\": \"x\"}, {\"legendgroup\": \"chart (1, 1)\", \"name\": \"chart (1, 1) 20190404\", \"uid\": \"c8930964-a3e3-11e9-b4b5-8c859025e7f9\", \"x\": [-0.3, -0.25, -0.2, -0.15, -0.1, -0.05, 0.0, 0.05, 0.1, 0.15, 0.2, 0.25, 0.3, 0.35], \"y\": [0.1968, 0.1551, 0.1156, 0.0755, 0.0459, 0.0199, 0.0, -0.0129, -0.0157, -0.0104, 0.0044, 0.024, 0.0497, 0.0621], \"yaxis\": \"y\", \"type\": \"scatter\", \"xaxis\": \"x\"}, {\"legendgroup\": \"chart (1, 1)\", \"name\": \"chart (1, 1) 20190405\", \"uid\": \"c8937806-a3e3-11e9-b060-8c859025e7f9\", \"x\": [-0.3, -0.25, -0.2, -0.15, -0.1, -0.05, 0.0, 0.05, 0.1, 0.15, 0.2, 0.25, 0.3, 0.35], \"y\": [0.1945, 0.1467, 0.1119, 0.0742, 0.0443, 0.0184, 0.0, -0.013, -0.0138, -0.0068, 0.0111, 0.0299, 0.0597, 0.0705], \"yaxis\": \"y\", \"type\": \"scatter\", \"xaxis\": \"x\"}, {\"legendgroup\": \"chart (1, 2)\", \"name\": \"chart (1, 2) 20190408\", \"uid\": \"c8946318-a3e3-11e9-9b6c-8c859025e7f9\", \"x\": [-0.3, -0.25, -0.2, -0.15, -0.1, -0.05, 0.0, 0.05, 0.1, 0.15, 0.2, 0.25, 0.3, 0.35], \"y\": [0.2113, 0.1702, 0.1219, 0.0838, 0.0484, 0.0217, 0.0, -0.0097, -0.0073, 0.0024, 0.0213, 0.0415, 0.0666, 0.0977], \"yaxis\": \"y2\", \"type\": \"scatter\", \"xaxis\": \"x2\"}, {\"legendgroup\": \"chart (1, 2)\", \"name\": \"chart (1, 2) 20190409\", \"uid\": \"c894d186-a3e3-11e9-bb7f-8c859025e7f9\", \"x\": [-0.3, -0.25, -0.2, -0.15, -0.1, -0.05, 0.0, 0.05, 0.1, 0.15, 0.2, 0.25, 0.3, 0.35], \"y\": [0.2223, 0.1742, 0.1292, 0.0892, 0.0539, 0.025, 0.0, -0.0107, -0.0076, 0.004, 0.0208, 0.0445, 0.0672, 0.1049], \"yaxis\": \"y2\", \"type\": \"scatter\", \"xaxis\": \"x2\"}, {\"legendgroup\": \"chart (1, 2)\", \"name\": \"chart (1, 2) 20190410\", \"uid\": \"c89544a4-a3e3-11e9-a920-8c859025e7f9\", \"x\": [-0.3, -0.25, -0.2, -0.15, -0.1, -0.05, 0.0, 0.05, 0.1, 0.15, 0.2, 0.25, 0.3, 0.35], \"y\": [0.2106, 0.1701, 0.1251, 0.0841, 0.0474, 0.0187, 0.0, -0.0119, -0.0066, 0.0061, 0.0272, 0.0531, 0.0723, null], \"yaxis\": \"y2\", \"type\": \"scatter\", \"xaxis\": \"x2\"}, {\"legendgroup\": \"chart (1, 2)\", \"name\": \"chart (1, 2) 20190411\", \"uid\": \"c895ba92-a3e3-11e9-9f00-8c859025e7f9\", \"x\": [-0.3, -0.25, -0.2, -0.15, -0.1, -0.05, 0.0, 0.05, 0.1, 0.15, 0.2, 0.25, 0.3, 0.35], \"y\": [0.2131, 0.1716, 0.1265, 0.0862, 0.0505, 0.0212, 0.0, -0.0126, -0.0117, -0.0003, 0.0219, null, 0.0647, 0.1023], \"yaxis\": \"y2\", \"type\": \"scatter\", \"xaxis\": \"x2\"}, {\"legendgroup\": \"chart (1, 2)\", \"name\": \"chart (1, 2) 20190412\", \"uid\": \"c8962428-a3e3-11e9-b85e-8c859025e7f9\", \"x\": [-0.3, -0.25, -0.2, -0.15, -0.1, -0.05, 0.0, 0.05, 0.1, 0.15, 0.2, 0.25, 0.3, 0.35], \"y\": [0.2227, 0.1735, 0.1309, 0.0904, 0.0514, 0.0217, 0.0, -0.0098, -0.0049, 0.0094, 0.0348, 0.0541, 0.0805, 0.1175], \"yaxis\": \"y2\", \"type\": \"scatter\", \"xaxis\": \"x2\"}, {\"legendgroup\": \"chart (2, 1)\", \"name\": \"chart (2, 1) 20190415\", \"uid\": \"c8975000-a3e3-11e9-84d9-8c859025e7f9\", \"x\": [-0.3, -0.25, -0.2, -0.15, -0.1, -0.05, 0.0, 0.05, 0.1, 0.15, 0.2, 0.25, 0.3, 0.35], \"y\": [0.2337, 0.1867, 0.1325, 0.0869, 0.0494, 0.0189, 0.0, -0.013, -0.0068, 0.0072, 0.0296, 0.0563, 0.083, 0.092], \"yaxis\": \"y3\", \"type\": \"scatter\", \"xaxis\": \"x3\"}, {\"legendgroup\": \"chart (2, 1)\", \"name\": \"chart (2, 1) 20190416\", \"uid\": \"c897edf8-a3e3-11e9-a485-8c859025e7f9\", \"x\": [-0.3, -0.25, -0.2, -0.15, -0.1, -0.05, 0.0, 0.05, 0.1, 0.15, 0.2, 0.25, 0.3, 0.35], \"y\": [0.2439, 0.1896, 0.1405, 0.0939, 0.0523, 0.0196, 0.0, -0.0129, -0.0062, 0.0102, 0.0347, 0.0651, 0.0916, null], \"yaxis\": \"y3\", \"type\": \"scatter\", \"xaxis\": \"x3\"}, {\"legendgroup\": \"chart (2, 1)\", \"name\": \"chart (2, 1) 20190417\", \"uid\": \"c898674c-a3e3-11e9-8296-8c859025e7f9\", \"x\": [-0.3, -0.25, -0.2, -0.15, -0.1, -0.05, 0.0, 0.05, 0.1, 0.15, 0.2, 0.25, 0.3, 0.35], \"y\": [0.2575, 0.2051, 0.1492, 0.1037, 0.0574, 0.0227, 0.0, -0.0059, 0.0024, 0.0193, 0.0411, 0.0659, 0.097, 0.1198], \"yaxis\": \"y3\", \"type\": \"scatter\", \"xaxis\": \"x3\"}, {\"legendgroup\": \"chart (2, 1)\", \"name\": \"chart (2, 1) 20190418\", \"uid\": \"c8991e62-a3e3-11e9-a7d7-8c859025e7f9\", \"x\": [-0.3, -0.25, -0.2, -0.15, -0.1, -0.05, 0.0, 0.05, 0.1, 0.15, 0.2, 0.25, 0.3, 0.35], \"y\": [0.2527, 0.2001, 0.1516, 0.1002, 0.0574, 0.0204, 0.0, -0.0086, -0.0008, 0.022, 0.0503, 0.0705, 0.0926, null], \"yaxis\": \"y3\", \"type\": \"scatter\", \"xaxis\": \"x3\"}, {\"legendgroup\": \"chart (2, 1)\", \"name\": \"chart (2, 1) 20190422\", \"uid\": \"c899da3a-a3e3-11e9-b405-8c859025e7f9\", \"x\": [-0.3, -0.25, -0.2, -0.15, -0.1, -0.05, 0.0, 0.05, 0.1, 0.15, 0.2, 0.25, 0.3, 0.35], \"y\": [0.239, 0.1779, 0.1295, 0.0744, 0.0312, 0.009, 0.0, -0.0025, 0.0062, 0.0243, 0.0502, 0.0735, 0.0998, null], \"yaxis\": \"y3\", \"type\": \"scatter\", \"xaxis\": \"x3\"}, {\"legendgroup\": \"chart (2, 2)\", \"name\": \"chart (2, 2) 20190423\", \"uid\": \"c89b20c2-a3e3-11e9-b75d-8c859025e7f9\", \"x\": [-0.3, -0.25, -0.2, -0.15, -0.1, -0.05, 0.0, 0.05, 0.1, 0.15, 0.2, 0.25, 0.3, 0.35], \"y\": [0.2524, 0.1949, 0.1359, 0.0794, 0.0327, 0.0076, 0.0, 0.0016, 0.015, 0.0347, 0.0618, 0.0865, null, null], \"yaxis\": \"y4\", \"type\": \"scatter\", \"xaxis\": \"x4\"}, {\"legendgroup\": \"chart (2, 2)\", \"name\": \"chart (2, 2) 20190424\", \"uid\": \"c89be746-a3e3-11e9-9c4c-8c859025e7f9\", \"x\": [-0.3, -0.25, -0.2, -0.15, -0.1, -0.05, 0.0, 0.05, 0.1, 0.15, 0.2, 0.25, 0.3, 0.35], \"y\": [0.2766, 0.2158, 0.1504, 0.0968, 0.0455, 0.0124, 0.0, -0.0027, 0.012, 0.0389, 0.0594, 0.0925, 0.1262, null], \"yaxis\": \"y4\", \"type\": \"scatter\", \"xaxis\": \"x4\"}, {\"legendgroup\": \"chart (2, 2)\", \"name\": \"chart (2, 2) 20190425\", \"uid\": \"c89c99ca-a3e3-11e9-856d-8c859025e7f9\", \"x\": [-0.3, -0.25, -0.2, -0.15, -0.1, -0.05, 0.0, 0.05, 0.1, 0.15, 0.2, 0.25, 0.3, 0.35], \"y\": [0.2862, 0.2195, 0.1573, 0.1038, 0.0539, 0.019, 0.0, 0.0014, 0.0167, 0.0375, 0.0698, 0.0872, 0.1182, null], \"yaxis\": \"y4\", \"type\": \"scatter\", \"xaxis\": \"x4\"}, {\"legendgroup\": \"chart (2, 2)\", \"name\": \"chart (2, 2) 20190426\", \"uid\": \"c89d8f1a-a3e3-11e9-8484-8c859025e7f9\", \"x\": [-0.3, -0.25, -0.2, -0.15, -0.1, -0.05, 0.0, 0.05, 0.1, 0.15, 0.2, 0.25, 0.3, 0.35], \"y\": [0.302, 0.2336, 0.1809, 0.1196, 0.069, 0.03, 0.0, -0.01, -0.0042, 0.014, 0.0373, 0.061, 0.082, null], \"yaxis\": \"y4\", \"type\": \"scatter\", \"xaxis\": \"x4\"}, {\"legendgroup\": \"chart (2, 2)\", \"name\": \"chart (2, 2) 20190429\", \"uid\": \"c89e2ba8-a3e3-11e9-8b80-8c859025e7f9\", \"x\": [-0.3, -0.25, -0.2, -0.15, -0.1, -0.05, 0.0, 0.05, 0.1, 0.15, 0.2, 0.25, 0.3, 0.35], \"y\": [0.3147, 0.2485, 0.1917, 0.1329, 0.0745, 0.0288, 0.0, -0.0092, -0.0007, 0.0197, 0.0449, 0.0699, 0.1016, null], \"yaxis\": \"y4\", \"type\": \"scatter\", \"xaxis\": \"x4\"}], {\"annotations\": [{\"font\": {\"size\": 16}, \"showarrow\": false, \"text\": \"CBN19 20190401 - 20190405\", \"x\": 0.2275, \"xanchor\": \"center\", \"xref\": \"paper\", \"y\": 1.0, \"yanchor\": \"bottom\", \"yref\": \"paper\"}, {\"font\": {\"size\": 16}, \"showarrow\": false, \"text\": \"CBN19 20190408 - 20190412\", \"x\": 0.7725, \"xanchor\": \"center\", \"xref\": \"paper\", \"y\": 1.0, \"yanchor\": \"bottom\", \"yref\": \"paper\"}, {\"font\": {\"size\": 16}, \"showarrow\": false, \"text\": \"CBN19 20190415 - 20190422\", \"x\": 0.2275, \"xanchor\": \"center\", \"xref\": \"paper\", \"y\": 0.445, \"yanchor\": \"bottom\", \"yref\": \"paper\"}, {\"font\": {\"size\": 16}, \"showarrow\": false, \"text\": \"CBN19 20190423 - 20190429\", \"x\": 0.7725, \"xanchor\": \"center\", \"xref\": \"paper\", \"y\": 0.445, \"yanchor\": \"bottom\", \"yref\": \"paper\"}], \"xaxis\": {\"anchor\": \"y\", \"domain\": [0.0, 0.455], \"tickangle\": 45, \"ticktext\": [-0.3, -0.25, -0.2, -0.15, -0.1, -0.05, 0.0, 0.05, 0.1, 0.15, 0.2, 0.25, 0.3, 0.35], \"tickvals\": [-0.3, -0.25, -0.2, -0.15, -0.1, -0.05, 0.0, 0.05, 0.1, 0.15, 0.2, 0.25, 0.3, 0.35], \"type\": \"category\"}, \"yaxis\": {\"anchor\": \"x\", \"domain\": [0.555, 1.0], \"title\": \"vol skew\"}, \"xaxis2\": {\"anchor\": \"y2\", \"domain\": [0.545, 1.0], \"tickangle\": 45, \"ticktext\": [-0.3, -0.25, -0.2, -0.15, -0.1, -0.05, 0.0, 0.05, 0.1, 0.15, 0.2, 0.25, 0.3, 0.35], \"tickvals\": [-0.3, -0.25, -0.2, -0.15, -0.1, -0.05, 0.0, 0.05, 0.1, 0.15, 0.2, 0.25, 0.3, 0.35], \"type\": \"category\"}, \"yaxis2\": {\"anchor\": \"x2\", \"domain\": [0.555, 1.0], \"title\": \"vol skew\"}, \"xaxis3\": {\"anchor\": \"y3\", \"domain\": [0.0, 0.455], \"tickangle\": 45, \"ticktext\": [-0.3, -0.25, -0.2, -0.15, -0.1, -0.05, 0.0, 0.05, 0.1, 0.15, 0.2, 0.25, 0.3, 0.35], \"tickvals\": [-0.3, -0.25, -0.2, -0.15, -0.1, -0.05, 0.0, 0.05, 0.1, 0.15, 0.2, 0.25, 0.3, 0.35], \"type\": \"category\"}, \"yaxis3\": {\"anchor\": \"x3\", \"domain\": [0.0, 0.445], \"title\": \"vol skew\"}, \"xaxis4\": {\"anchor\": \"y4\", \"domain\": [0.545, 1.0], \"tickangle\": 45, \"ticktext\": [-0.3, -0.25, -0.2, -0.15, -0.1, -0.05, 0.0, 0.05, 0.1, 0.15, 0.2, 0.25, 0.3, 0.35], \"tickvals\": [-0.3, -0.25, -0.2, -0.15, -0.1, -0.05, 0.0, 0.05, 0.1, 0.15, 0.2, 0.25, 0.3, 0.35], \"type\": \"category\"}, \"yaxis4\": {\"anchor\": \"x4\", \"domain\": [0.0, 0.445], \"title\": \"vol skew\"}, \"font\": {\"family\": \"Open Sans, sans-serif\"}, \"margin\": {\"b\": 55, \"l\": 45, \"r\": 15, \"t\": 50}, \"title\": \"Skew plots<br>\", \"showlegend\": true, \"hovermode\": \"x\", \"autosize\": true, \"width\": 900, \"height\": 800, \"plot_bgcolor\": \"#EFECEA\", \"bargap\": 0.05}, {\"showLink\": true, \"linkText\": \"Export to plot.ly\"})});</script>"
      ]
     },
     "metadata": {},
     "output_type": "display_data"
    },
    {
     "data": {
      "application/vnd.plotly.v1+json": {
       "data": [
        {
         "legendgroup": "chart (1, 1)",
         "name": "chart (1, 1) 20190430",
         "type": "scatter",
         "uid": "c8bac3c8-a3e3-11e9-9597-8c859025e7f9",
         "x": [
          -0.3,
          -0.25,
          -0.2,
          -0.15,
          -0.1,
          -0.05,
          0,
          0.05,
          0.1,
          0.15,
          0.2,
          0.25,
          0.3,
          0.35
         ],
         "xaxis": "x",
         "y": [
          0.3036,
          0.2433,
          0.1868,
          0.1291,
          0.0715,
          0.0254,
          0,
          -0.007,
          0.0056,
          0.0271,
          0.052,
          0.0885,
          0.1118,
          null
         ],
         "yaxis": "y"
        }
       ],
       "layout": {
        "annotations": [
         {
          "font": {
           "size": 16
          },
          "showarrow": false,
          "text": "CBN19 20190430 - 20190430",
          "x": 0.2275,
          "xanchor": "center",
          "xref": "paper",
          "y": 1,
          "yanchor": "bottom",
          "yref": "paper"
         }
        ],
        "autosize": true,
        "bargap": 0.05,
        "font": {
         "family": "Open Sans, sans-serif"
        },
        "height": 800,
        "hovermode": "x",
        "margin": {
         "b": 55,
         "l": 45,
         "r": 15,
         "t": 50
        },
        "plot_bgcolor": "#EFECEA",
        "showlegend": true,
        "title": "Skew plots<br>",
        "width": 900,
        "xaxis": {
         "anchor": "y",
         "domain": [
          0,
          0.455
         ],
         "tickangle": 45,
         "ticktext": [
          -0.3,
          -0.25,
          -0.2,
          -0.15,
          -0.1,
          -0.05,
          0,
          0.05,
          0.1,
          0.15,
          0.2,
          0.25,
          0.3,
          0.35
         ],
         "tickvals": [
          -0.3,
          -0.25,
          -0.2,
          -0.15,
          -0.1,
          -0.05,
          0,
          0.05,
          0.1,
          0.15,
          0.2,
          0.25,
          0.3,
          0.35
         ],
         "type": "category"
        },
        "xaxis2": {
         "anchor": "y2",
         "domain": [
          0.545,
          1
         ]
        },
        "xaxis3": {
         "anchor": "y3",
         "domain": [
          0,
          0.455
         ]
        },
        "xaxis4": {
         "anchor": "y4",
         "domain": [
          0.545,
          1
         ]
        },
        "yaxis": {
         "anchor": "x",
         "domain": [
          0.555,
          1
         ],
         "title": "vol skew"
        },
        "yaxis2": {
         "anchor": "x2",
         "domain": [
          0.555,
          1
         ]
        },
        "yaxis3": {
         "anchor": "x3",
         "domain": [
          0,
          0.445
         ]
        },
        "yaxis4": {
         "anchor": "x4",
         "domain": [
          0,
          0.445
         ]
        }
       }
      },
      "text/html": [
       "<div id=\"5881914d-2496-4382-a441-53dfc1a337fe\" style=\"height: 800px; width: 900px;\" class=\"plotly-graph-div\"></div><script type=\"text/javascript\">require([\"plotly\"], function(Plotly) { window.PLOTLYENV=window.PLOTLYENV || {};window.PLOTLYENV.BASE_URL=\"https://plot.ly\";Plotly.newPlot(\"5881914d-2496-4382-a441-53dfc1a337fe\", [{\"legendgroup\": \"chart (1, 1)\", \"name\": \"chart (1, 1) 20190430\", \"uid\": \"c8bac3c8-a3e3-11e9-9597-8c859025e7f9\", \"x\": [-0.3, -0.25, -0.2, -0.15, -0.1, -0.05, 0.0, 0.05, 0.1, 0.15, 0.2, 0.25, 0.3, 0.35], \"y\": [0.3036, 0.2433, 0.1868, 0.1291, 0.0715, 0.0254, 0.0, -0.007, 0.0056, 0.0271, 0.052, 0.0885, 0.1118, null], \"yaxis\": \"y\", \"type\": \"scatter\", \"xaxis\": \"x\"}], {\"annotations\": [{\"font\": {\"size\": 16}, \"showarrow\": false, \"text\": \"CBN19 20190430 - 20190430\", \"x\": 0.2275, \"xanchor\": \"center\", \"xref\": \"paper\", \"y\": 1.0, \"yanchor\": \"bottom\", \"yref\": \"paper\"}], \"xaxis\": {\"anchor\": \"y\", \"domain\": [0.0, 0.455], \"tickangle\": 45, \"ticktext\": [-0.3, -0.25, -0.2, -0.15, -0.1, -0.05, 0.0, 0.05, 0.1, 0.15, 0.2, 0.25, 0.3, 0.35], \"tickvals\": [-0.3, -0.25, -0.2, -0.15, -0.1, -0.05, 0.0, 0.05, 0.1, 0.15, 0.2, 0.25, 0.3, 0.35], \"type\": \"category\"}, \"yaxis\": {\"anchor\": \"x\", \"domain\": [0.555, 1.0], \"title\": \"vol skew\"}, \"xaxis2\": {\"anchor\": \"y2\", \"domain\": [0.545, 1.0]}, \"yaxis2\": {\"anchor\": \"x2\", \"domain\": [0.555, 1.0]}, \"xaxis3\": {\"anchor\": \"y3\", \"domain\": [0.0, 0.455]}, \"yaxis3\": {\"anchor\": \"x3\", \"domain\": [0.0, 0.445]}, \"xaxis4\": {\"anchor\": \"y4\", \"domain\": [0.545, 1.0]}, \"yaxis4\": {\"anchor\": \"x4\", \"domain\": [0.0, 0.445]}, \"font\": {\"family\": \"Open Sans, sans-serif\"}, \"margin\": {\"b\": 55, \"l\": 45, \"r\": 15, \"t\": 50}, \"title\": \"Skew plots<br>\", \"showlegend\": true, \"hovermode\": \"x\", \"autosize\": true, \"width\": 900, \"height\": 800, \"plot_bgcolor\": \"#EFECEA\", \"bargap\": 0.05}, {\"showLink\": true, \"linkText\": \"Export to plot.ly\"})});</script>"
      ],
      "text/vnd.plotly.v1+html": [
       "<div id=\"5881914d-2496-4382-a441-53dfc1a337fe\" style=\"height: 800px; width: 900px;\" class=\"plotly-graph-div\"></div><script type=\"text/javascript\">require([\"plotly\"], function(Plotly) { window.PLOTLYENV=window.PLOTLYENV || {};window.PLOTLYENV.BASE_URL=\"https://plot.ly\";Plotly.newPlot(\"5881914d-2496-4382-a441-53dfc1a337fe\", [{\"legendgroup\": \"chart (1, 1)\", \"name\": \"chart (1, 1) 20190430\", \"uid\": \"c8bac3c8-a3e3-11e9-9597-8c859025e7f9\", \"x\": [-0.3, -0.25, -0.2, -0.15, -0.1, -0.05, 0.0, 0.05, 0.1, 0.15, 0.2, 0.25, 0.3, 0.35], \"y\": [0.3036, 0.2433, 0.1868, 0.1291, 0.0715, 0.0254, 0.0, -0.007, 0.0056, 0.0271, 0.052, 0.0885, 0.1118, null], \"yaxis\": \"y\", \"type\": \"scatter\", \"xaxis\": \"x\"}], {\"annotations\": [{\"font\": {\"size\": 16}, \"showarrow\": false, \"text\": \"CBN19 20190430 - 20190430\", \"x\": 0.2275, \"xanchor\": \"center\", \"xref\": \"paper\", \"y\": 1.0, \"yanchor\": \"bottom\", \"yref\": \"paper\"}], \"xaxis\": {\"anchor\": \"y\", \"domain\": [0.0, 0.455], \"tickangle\": 45, \"ticktext\": [-0.3, -0.25, -0.2, -0.15, -0.1, -0.05, 0.0, 0.05, 0.1, 0.15, 0.2, 0.25, 0.3, 0.35], \"tickvals\": [-0.3, -0.25, -0.2, -0.15, -0.1, -0.05, 0.0, 0.05, 0.1, 0.15, 0.2, 0.25, 0.3, 0.35], \"type\": \"category\"}, \"yaxis\": {\"anchor\": \"x\", \"domain\": [0.555, 1.0], \"title\": \"vol skew\"}, \"xaxis2\": {\"anchor\": \"y2\", \"domain\": [0.545, 1.0]}, \"yaxis2\": {\"anchor\": \"x2\", \"domain\": [0.555, 1.0]}, \"xaxis3\": {\"anchor\": \"y3\", \"domain\": [0.0, 0.455]}, \"yaxis3\": {\"anchor\": \"x3\", \"domain\": [0.0, 0.445]}, \"xaxis4\": {\"anchor\": \"y4\", \"domain\": [0.545, 1.0]}, \"yaxis4\": {\"anchor\": \"x4\", \"domain\": [0.0, 0.445]}, \"font\": {\"family\": \"Open Sans, sans-serif\"}, \"margin\": {\"b\": 55, \"l\": 45, \"r\": 15, \"t\": 50}, \"title\": \"Skew plots<br>\", \"showlegend\": true, \"hovermode\": \"x\", \"autosize\": true, \"width\": 900, \"height\": 800, \"plot_bgcolor\": \"#EFECEA\", \"bargap\": 0.05}, {\"showLink\": true, \"linkText\": \"Export to plot.ly\"})});</script>"
      ]
     },
     "metadata": {},
     "output_type": "display_data"
    },
    {
     "data": {
      "application/vnd.plotly.v1+json": {
       "data": [
        {
         "legendgroup": "chart (1, 1)",
         "name": "chart (1, 1) 20190501",
         "type": "scatter",
         "uid": "c934187a-a3e3-11e9-be63-8c859025e7f9",
         "x": [
          -0.3,
          -0.25,
          -0.2,
          -0.15,
          -0.1,
          -0.05,
          0,
          0.05,
          0.1,
          0.15,
          0.2,
          0.25,
          0.3,
          0.35
         ],
         "xaxis": "x",
         "y": [
          null,
          null,
          null,
          null,
          null,
          null,
          0,
          null,
          null,
          null,
          null,
          null,
          null,
          null
         ],
         "yaxis": "y"
        },
        {
         "legendgroup": "chart (1, 1)",
         "name": "chart (1, 1) 20190502",
         "type": "scatter",
         "uid": "c9348c12-a3e3-11e9-a405-8c859025e7f9",
         "x": [
          -0.3,
          -0.25,
          -0.2,
          -0.15,
          -0.1,
          -0.05,
          0,
          0.05,
          0.1,
          0.15,
          0.2,
          0.25,
          0.3,
          0.35
         ],
         "xaxis": "x",
         "y": [
          0.2832,
          0.2243,
          0.1692,
          0.1161,
          0.0678,
          0.0287,
          0,
          -0.0187,
          -0.0231,
          -0.0131,
          0.0077,
          0.0252,
          0.0522,
          null
         ],
         "yaxis": "y"
        },
        {
         "legendgroup": "chart (1, 1)",
         "name": "chart (1, 1) 20190503",
         "type": "scatter",
         "uid": "c934fc38-a3e3-11e9-8efc-8c859025e7f9",
         "x": [
          -0.3,
          -0.25,
          -0.2,
          -0.15,
          -0.1,
          -0.05,
          0,
          0.05,
          0.1,
          0.15,
          0.2,
          0.25,
          0.3,
          0.35
         ],
         "xaxis": "x",
         "y": [
          0.2811,
          0.2252,
          0.1715,
          0.1219,
          0.0727,
          0.0318,
          0,
          -0.0176,
          -0.0226,
          -0.0132,
          0.0113,
          0.0384,
          0.0697,
          null
         ],
         "yaxis": "y"
        },
        {
         "legendgroup": "chart (1, 1)",
         "name": "chart (1, 1) 20190506",
         "type": "scatter",
         "uid": "c935726c-a3e3-11e9-b594-8c859025e7f9",
         "x": [
          -0.3,
          -0.25,
          -0.2,
          -0.15,
          -0.1,
          -0.05,
          0,
          0.05,
          0.1,
          0.15,
          0.2,
          0.25,
          0.3,
          0.35
         ],
         "xaxis": "x",
         "y": [
          0.2785,
          0.2206,
          0.1673,
          0.1184,
          0.0716,
          0.0293,
          0,
          -0.0203,
          -0.021,
          -0.0074,
          0.0136,
          0.0448,
          0.0706,
          null
         ],
         "yaxis": "y"
        },
        {
         "legendgroup": "chart (1, 1)",
         "name": "chart (1, 1) 20190507",
         "type": "scatter",
         "uid": "c935f5ca-a3e3-11e9-8a8b-8c859025e7f9",
         "x": [
          -0.3,
          -0.25,
          -0.2,
          -0.15,
          -0.1,
          -0.05,
          0,
          0.05,
          0.1,
          0.15,
          0.2,
          0.25,
          0.3,
          0.35
         ],
         "xaxis": "x",
         "y": [
          0.2675,
          0.2209,
          0.1703,
          0.1228,
          0.0768,
          0.0357,
          0,
          -0.0194,
          -0.0263,
          -0.0181,
          0.0027,
          0.0238,
          0.0581,
          null
         ],
         "yaxis": "y"
        },
        {
         "legendgroup": "chart (1, 2)",
         "name": "chart (1, 2) 20190508",
         "type": "scatter",
         "uid": "c9376734-a3e3-11e9-81f2-8c859025e7f9",
         "x": [
          -0.3,
          -0.25,
          -0.2,
          -0.15,
          -0.1,
          -0.05,
          0,
          0.05,
          0.1,
          0.15,
          0.2,
          0.25,
          0.3,
          0.35
         ],
         "xaxis": "x2",
         "y": [
          0.2991,
          0.2411,
          0.1873,
          0.1354,
          0.0866,
          0.0408,
          0,
          -0.0187,
          -0.0221,
          -0.0115,
          0.0106,
          0.0396,
          0.0774,
          null
         ],
         "yaxis": "y2"
        },
        {
         "legendgroup": "chart (1, 2)",
         "name": "chart (1, 2) 20190509",
         "type": "scatter",
         "uid": "c9382afa-a3e3-11e9-b956-8c859025e7f9",
         "x": [
          -0.3,
          -0.25,
          -0.2,
          -0.15,
          -0.1,
          -0.05,
          0,
          0.05,
          0.1,
          0.15,
          0.2,
          0.25,
          0.3,
          0.35
         ],
         "xaxis": "x2",
         "y": [
          0.2882,
          0.2347,
          0.181,
          0.1265,
          0.0765,
          0.0321,
          0,
          -0.0221,
          -0.0235,
          -0.0099,
          0.0128,
          0.0405,
          0.0695,
          null
         ],
         "yaxis": "y2"
        },
        {
         "legendgroup": "chart (1, 2)",
         "name": "chart (1, 2) 20190510",
         "type": "scatter",
         "uid": "c938c73a-a3e3-11e9-85b4-8c859025e7f9",
         "x": [
          -0.3,
          -0.25,
          -0.2,
          -0.15,
          -0.1,
          -0.05,
          0,
          0.05,
          0.1,
          0.15,
          0.2,
          0.25,
          0.3,
          0.35
         ],
         "xaxis": "x2",
         "y": [
          0.2914,
          0.2349,
          0.1814,
          0.125,
          0.0783,
          0.0358,
          0,
          -0.0123,
          -0.008,
          0.0098,
          0.0365,
          0.067,
          0.1012,
          null
         ],
         "yaxis": "y2"
        },
        {
         "legendgroup": "chart (1, 2)",
         "name": "chart (1, 2) 20190513",
         "type": "scatter",
         "uid": "c93a22ee-a3e3-11e9-a952-8c859025e7f9",
         "x": [
          -0.3,
          -0.25,
          -0.2,
          -0.15,
          -0.1,
          -0.05,
          0,
          0.05,
          0.1,
          0.15,
          0.2,
          0.25,
          0.3,
          0.35
         ],
         "xaxis": "x2",
         "y": [
          0.3048,
          0.2507,
          0.1833,
          0.1247,
          0.0715,
          0.0273,
          0,
          -0.0192,
          -0.011,
          0.0128,
          0.0428,
          0.0802,
          0.1189,
          null
         ],
         "yaxis": "y2"
        },
        {
         "legendgroup": "chart (1, 2)",
         "name": "chart (1, 2) 20190514",
         "type": "scatter",
         "uid": "c93ac776-a3e3-11e9-9d31-8c859025e7f9",
         "x": [
          -0.3,
          -0.25,
          -0.2,
          -0.15,
          -0.1,
          -0.05,
          0,
          0.05,
          0.1,
          0.15,
          0.2,
          0.25,
          0.3,
          0.35
         ],
         "xaxis": "x2",
         "y": [
          0.3134,
          0.2456,
          0.1865,
          0.1267,
          0.0693,
          0.0258,
          0,
          -0.014,
          -0.0041,
          0.0247,
          0.0657,
          0.1103,
          0.1466,
          null
         ],
         "yaxis": "y2"
        },
        {
         "legendgroup": "chart (2, 1)",
         "name": "chart (2, 1) 20190515",
         "type": "scatter",
         "uid": "c93cf0be-a3e3-11e9-91cc-8c859025e7f9",
         "x": [
          -0.3,
          -0.25,
          -0.2,
          -0.15,
          -0.1,
          -0.05,
          0,
          0.05,
          0.1,
          0.15,
          0.2,
          0.25,
          0.3,
          0.35
         ],
         "xaxis": "x3",
         "y": [
          0.3381,
          0.2757,
          0.2046,
          0.1376,
          0.0744,
          0.0269,
          0,
          -0.012,
          0.0015,
          0.0334,
          0.0743,
          0.1268,
          0.1657,
          null
         ],
         "yaxis": "y3"
        },
        {
         "legendgroup": "chart (2, 1)",
         "name": "chart (2, 1) 20190516",
         "type": "scatter",
         "uid": "c93de28a-a3e3-11e9-952b-8c859025e7f9",
         "x": [
          -0.3,
          -0.25,
          -0.2,
          -0.15,
          -0.1,
          -0.05,
          0,
          0.05,
          0.1,
          0.15,
          0.2,
          0.25,
          0.3,
          0.35
         ],
         "xaxis": "x3",
         "y": [
          null,
          null,
          null,
          null,
          null,
          null,
          0,
          null,
          null,
          null,
          null,
          null,
          null,
          null
         ],
         "yaxis": "y3"
        },
        {
         "legendgroup": "chart (2, 1)",
         "name": "chart (2, 1) 20190517",
         "type": "scatter",
         "uid": "c93ee286-a3e3-11e9-a4e0-8c859025e7f9",
         "x": [
          -0.3,
          -0.25,
          -0.2,
          -0.15,
          -0.1,
          -0.05,
          0,
          0.05,
          0.1,
          0.15,
          0.2,
          0.25,
          0.3,
          0.35
         ],
         "xaxis": "x3",
         "y": [
          0.3873,
          0.2861,
          0.2134,
          0.1386,
          0.0754,
          0.0295,
          0,
          -0.0123,
          0.0036,
          0.0417,
          0.0848,
          0.1399,
          0.1819,
          null
         ],
         "yaxis": "y3"
        },
        {
         "legendgroup": "chart (2, 1)",
         "name": "chart (2, 1) 20190520",
         "type": "scatter",
         "uid": "c93fb7ae-a3e3-11e9-aec6-8c859025e7f9",
         "x": [
          -0.3,
          -0.25,
          -0.2,
          -0.15,
          -0.1,
          -0.05,
          0,
          0.05,
          0.1,
          0.15,
          0.2,
          0.25,
          0.3,
          0.35
         ],
         "xaxis": "x3",
         "y": [
          0.4515,
          0.3505,
          0.2523,
          0.1677,
          0.0914,
          0.0377,
          0,
          -0.0018,
          0.0201,
          0.0657,
          0.1151,
          0.1784,
          0.2279,
          null
         ],
         "yaxis": "y3"
        },
        {
         "legendgroup": "chart (2, 1)",
         "name": "chart (2, 1) 20190521",
         "type": "scatter",
         "uid": "c940b968-a3e3-11e9-aa61-8c859025e7f9",
         "x": [
          -0.3,
          -0.25,
          -0.2,
          -0.15,
          -0.1,
          -0.05,
          0,
          0.05,
          0.1,
          0.15,
          0.2,
          0.25,
          0.3,
          0.35
         ],
         "xaxis": "x3",
         "y": [
          0.4704,
          0.3648,
          0.2532,
          0.1675,
          0.0843,
          0.0259,
          0,
          -0.0093,
          0.0143,
          0.0635,
          0.1227,
          0.1799,
          0.2366,
          null
         ],
         "yaxis": "y3"
        },
        {
         "legendgroup": "chart (2, 2)",
         "name": "chart (2, 2) 20190522",
         "type": "scatter",
         "uid": "c9423a7e-a3e3-11e9-bee3-8c859025e7f9",
         "x": [
          -0.3,
          -0.25,
          -0.2,
          -0.15,
          -0.1,
          -0.05,
          0,
          0.05,
          0.1,
          0.15,
          0.2,
          0.25,
          0.3,
          0.35
         ],
         "xaxis": "x4",
         "y": [
          0.4872,
          0.3885,
          0.2733,
          0.1743,
          0.0871,
          0.0298,
          0,
          -0.005,
          0.0155,
          0.0593,
          0.1218,
          0.182,
          0.2568,
          null
         ],
         "yaxis": "y4"
        },
        {
         "legendgroup": "chart (2, 2)",
         "name": "chart (2, 2) 20190523",
         "type": "scatter",
         "uid": "c9432d46-a3e3-11e9-85b9-8c859025e7f9",
         "x": [
          -0.3,
          -0.25,
          -0.2,
          -0.15,
          -0.1,
          -0.05,
          0,
          0.05,
          0.1,
          0.15,
          0.2,
          0.25,
          0.3,
          0.35
         ],
         "xaxis": "x4",
         "y": [
          null,
          null,
          null,
          null,
          null,
          null,
          0,
          null,
          null,
          null,
          null,
          null,
          null,
          null
         ],
         "yaxis": "y4"
        },
        {
         "legendgroup": "chart (2, 2)",
         "name": "chart (2, 2) 20190524",
         "type": "scatter",
         "uid": "c943e0e8-a3e3-11e9-9cd9-8c859025e7f9",
         "x": [
          -0.3,
          -0.25,
          -0.2,
          -0.15,
          -0.1,
          -0.05,
          0,
          0.05,
          0.1,
          0.15,
          0.2,
          0.25,
          0.3,
          0.35
         ],
         "xaxis": "x4",
         "y": [
          0.5487,
          0.4386,
          0.3318,
          0.2267,
          0.1303,
          0.0521,
          0,
          -0.0183,
          0.0057,
          0.0542,
          0.1007,
          0.1643,
          0.2408,
          0.3045
         ],
         "yaxis": "y4"
        },
        {
         "legendgroup": "chart (2, 2)",
         "name": "chart (2, 2) 20190527",
         "type": "scatter",
         "uid": "c9448b76-a3e3-11e9-94cb-8c859025e7f9",
         "x": [
          -0.3,
          -0.25,
          -0.2,
          -0.15,
          -0.1,
          -0.05,
          0,
          0.05,
          0.1,
          0.15,
          0.2,
          0.25,
          0.3,
          0.35
         ],
         "xaxis": "x4",
         "y": [
          0.7018,
          0.5873,
          0.4209,
          0.2881,
          0.156,
          0.0596,
          0,
          -0.0257,
          0.0083,
          0.0773,
          0.169,
          0.2685,
          0.374,
          0.4389
         ],
         "yaxis": "y4"
        },
        {
         "legendgroup": "chart (2, 2)",
         "name": "chart (2, 2) 20190528",
         "type": "scatter",
         "uid": "c94549c6-a3e3-11e9-bd9a-8c859025e7f9",
         "x": [
          -0.3,
          -0.25,
          -0.2,
          -0.15,
          -0.1,
          -0.05,
          0,
          0.05,
          0.1,
          0.15,
          0.2,
          0.25,
          0.3,
          0.35
         ],
         "xaxis": "x4",
         "y": [
          0.7502,
          0.6062,
          0.4809,
          0.3237,
          0.1937,
          0.0819,
          0,
          -0.0121,
          0.0241,
          0.0884,
          0.178,
          0.2612,
          0.3685,
          0.467
         ],
         "yaxis": "y4"
        }
       ],
       "layout": {
        "annotations": [
         {
          "font": {
           "size": 16
          },
          "showarrow": false,
          "text": "CBQ19 20190501 - 20190507",
          "x": 0.2275,
          "xanchor": "center",
          "xref": "paper",
          "y": 1,
          "yanchor": "bottom",
          "yref": "paper"
         },
         {
          "font": {
           "size": 16
          },
          "showarrow": false,
          "text": "CBQ19 20190508 - 20190514",
          "x": 0.7725,
          "xanchor": "center",
          "xref": "paper",
          "y": 1,
          "yanchor": "bottom",
          "yref": "paper"
         },
         {
          "font": {
           "size": 16
          },
          "showarrow": false,
          "text": "CBQ19 20190515 - 20190521",
          "x": 0.2275,
          "xanchor": "center",
          "xref": "paper",
          "y": 0.445,
          "yanchor": "bottom",
          "yref": "paper"
         },
         {
          "font": {
           "size": 16
          },
          "showarrow": false,
          "text": "CBQ19 20190522 - 20190528",
          "x": 0.7725,
          "xanchor": "center",
          "xref": "paper",
          "y": 0.445,
          "yanchor": "bottom",
          "yref": "paper"
         }
        ],
        "autosize": true,
        "bargap": 0.05,
        "font": {
         "family": "Open Sans, sans-serif"
        },
        "height": 800,
        "hovermode": "x",
        "margin": {
         "b": 55,
         "l": 45,
         "r": 15,
         "t": 50
        },
        "plot_bgcolor": "#EFECEA",
        "showlegend": true,
        "title": "Skew plots<br>",
        "width": 900,
        "xaxis": {
         "anchor": "y",
         "domain": [
          0,
          0.455
         ],
         "tickangle": 45,
         "ticktext": [
          -0.3,
          -0.25,
          -0.2,
          -0.15,
          -0.1,
          -0.05,
          0,
          0.05,
          0.1,
          0.15,
          0.2,
          0.25,
          0.3,
          0.35
         ],
         "tickvals": [
          -0.3,
          -0.25,
          -0.2,
          -0.15,
          -0.1,
          -0.05,
          0,
          0.05,
          0.1,
          0.15,
          0.2,
          0.25,
          0.3,
          0.35
         ],
         "type": "category"
        },
        "xaxis2": {
         "anchor": "y2",
         "domain": [
          0.545,
          1
         ],
         "tickangle": 45,
         "ticktext": [
          -0.3,
          -0.25,
          -0.2,
          -0.15,
          -0.1,
          -0.05,
          0,
          0.05,
          0.1,
          0.15,
          0.2,
          0.25,
          0.3,
          0.35
         ],
         "tickvals": [
          -0.3,
          -0.25,
          -0.2,
          -0.15,
          -0.1,
          -0.05,
          0,
          0.05,
          0.1,
          0.15,
          0.2,
          0.25,
          0.3,
          0.35
         ],
         "type": "category"
        },
        "xaxis3": {
         "anchor": "y3",
         "domain": [
          0,
          0.455
         ],
         "tickangle": 45,
         "ticktext": [
          -0.3,
          -0.25,
          -0.2,
          -0.15,
          -0.1,
          -0.05,
          0,
          0.05,
          0.1,
          0.15,
          0.2,
          0.25,
          0.3,
          0.35
         ],
         "tickvals": [
          -0.3,
          -0.25,
          -0.2,
          -0.15,
          -0.1,
          -0.05,
          0,
          0.05,
          0.1,
          0.15,
          0.2,
          0.25,
          0.3,
          0.35
         ],
         "type": "category"
        },
        "xaxis4": {
         "anchor": "y4",
         "domain": [
          0.545,
          1
         ],
         "tickangle": 45,
         "ticktext": [
          -0.3,
          -0.25,
          -0.2,
          -0.15,
          -0.1,
          -0.05,
          0,
          0.05,
          0.1,
          0.15,
          0.2,
          0.25,
          0.3,
          0.35
         ],
         "tickvals": [
          -0.3,
          -0.25,
          -0.2,
          -0.15,
          -0.1,
          -0.05,
          0,
          0.05,
          0.1,
          0.15,
          0.2,
          0.25,
          0.3,
          0.35
         ],
         "type": "category"
        },
        "yaxis": {
         "anchor": "x",
         "domain": [
          0.555,
          1
         ],
         "title": "vol skew"
        },
        "yaxis2": {
         "anchor": "x2",
         "domain": [
          0.555,
          1
         ],
         "title": "vol skew"
        },
        "yaxis3": {
         "anchor": "x3",
         "domain": [
          0,
          0.445
         ],
         "title": "vol skew"
        },
        "yaxis4": {
         "anchor": "x4",
         "domain": [
          0,
          0.445
         ],
         "title": "vol skew"
        }
       }
      },
      "text/html": [
       "<div id=\"e7ca3c47-567c-434c-b359-db57f145a74b\" style=\"height: 800px; width: 900px;\" class=\"plotly-graph-div\"></div><script type=\"text/javascript\">require([\"plotly\"], function(Plotly) { window.PLOTLYENV=window.PLOTLYENV || {};window.PLOTLYENV.BASE_URL=\"https://plot.ly\";Plotly.newPlot(\"e7ca3c47-567c-434c-b359-db57f145a74b\", [{\"legendgroup\": \"chart (1, 1)\", \"name\": \"chart (1, 1) 20190501\", \"uid\": \"c934187a-a3e3-11e9-be63-8c859025e7f9\", \"x\": [-0.3, -0.25, -0.2, -0.15, -0.1, -0.05, 0.0, 0.05, 0.1, 0.15, 0.2, 0.25, 0.3, 0.35], \"y\": [null, null, null, null, null, null, 0.0, null, null, null, null, null, null, null], \"yaxis\": \"y\", \"type\": \"scatter\", \"xaxis\": \"x\"}, {\"legendgroup\": \"chart (1, 1)\", \"name\": \"chart (1, 1) 20190502\", \"uid\": \"c9348c12-a3e3-11e9-a405-8c859025e7f9\", \"x\": [-0.3, -0.25, -0.2, -0.15, -0.1, -0.05, 0.0, 0.05, 0.1, 0.15, 0.2, 0.25, 0.3, 0.35], \"y\": [0.2832, 0.2243, 0.1692, 0.1161, 0.0678, 0.0287, 0.0, -0.0187, -0.0231, -0.0131, 0.0077, 0.0252, 0.0522, null], \"yaxis\": \"y\", \"type\": \"scatter\", \"xaxis\": \"x\"}, {\"legendgroup\": \"chart (1, 1)\", \"name\": \"chart (1, 1) 20190503\", \"uid\": \"c934fc38-a3e3-11e9-8efc-8c859025e7f9\", \"x\": [-0.3, -0.25, -0.2, -0.15, -0.1, -0.05, 0.0, 0.05, 0.1, 0.15, 0.2, 0.25, 0.3, 0.35], \"y\": [0.2811, 0.2252, 0.1715, 0.1219, 0.0727, 0.0318, 0.0, -0.0176, -0.0226, -0.0132, 0.0113, 0.0384, 0.0697, null], \"yaxis\": \"y\", \"type\": \"scatter\", \"xaxis\": \"x\"}, {\"legendgroup\": \"chart (1, 1)\", \"name\": \"chart (1, 1) 20190506\", \"uid\": \"c935726c-a3e3-11e9-b594-8c859025e7f9\", \"x\": [-0.3, -0.25, -0.2, -0.15, -0.1, -0.05, 0.0, 0.05, 0.1, 0.15, 0.2, 0.25, 0.3, 0.35], \"y\": [0.2785, 0.2206, 0.1673, 0.1184, 0.0716, 0.0293, 0.0, -0.0203, -0.021, -0.0074, 0.0136, 0.0448, 0.0706, null], \"yaxis\": \"y\", \"type\": \"scatter\", \"xaxis\": \"x\"}, {\"legendgroup\": \"chart (1, 1)\", \"name\": \"chart (1, 1) 20190507\", \"uid\": \"c935f5ca-a3e3-11e9-8a8b-8c859025e7f9\", \"x\": [-0.3, -0.25, -0.2, -0.15, -0.1, -0.05, 0.0, 0.05, 0.1, 0.15, 0.2, 0.25, 0.3, 0.35], \"y\": [0.2675, 0.2209, 0.1703, 0.1228, 0.0768, 0.0357, 0.0, -0.0194, -0.0263, -0.0181, 0.0027, 0.0238, 0.0581, null], \"yaxis\": \"y\", \"type\": \"scatter\", \"xaxis\": \"x\"}, {\"legendgroup\": \"chart (1, 2)\", \"name\": \"chart (1, 2) 20190508\", \"uid\": \"c9376734-a3e3-11e9-81f2-8c859025e7f9\", \"x\": [-0.3, -0.25, -0.2, -0.15, -0.1, -0.05, 0.0, 0.05, 0.1, 0.15, 0.2, 0.25, 0.3, 0.35], \"y\": [0.2991, 0.2411, 0.1873, 0.1354, 0.0866, 0.0408, 0.0, -0.0187, -0.0221, -0.0115, 0.0106, 0.0396, 0.0774, null], \"yaxis\": \"y2\", \"type\": \"scatter\", \"xaxis\": \"x2\"}, {\"legendgroup\": \"chart (1, 2)\", \"name\": \"chart (1, 2) 20190509\", \"uid\": \"c9382afa-a3e3-11e9-b956-8c859025e7f9\", \"x\": [-0.3, -0.25, -0.2, -0.15, -0.1, -0.05, 0.0, 0.05, 0.1, 0.15, 0.2, 0.25, 0.3, 0.35], \"y\": [0.2882, 0.2347, 0.181, 0.1265, 0.0765, 0.0321, 0.0, -0.0221, -0.0235, -0.0099, 0.0128, 0.0405, 0.0695, null], \"yaxis\": \"y2\", \"type\": \"scatter\", \"xaxis\": \"x2\"}, {\"legendgroup\": \"chart (1, 2)\", \"name\": \"chart (1, 2) 20190510\", \"uid\": \"c938c73a-a3e3-11e9-85b4-8c859025e7f9\", \"x\": [-0.3, -0.25, -0.2, -0.15, -0.1, -0.05, 0.0, 0.05, 0.1, 0.15, 0.2, 0.25, 0.3, 0.35], \"y\": [0.2914, 0.2349, 0.1814, 0.125, 0.0783, 0.0358, 0.0, -0.0123, -0.008, 0.0098, 0.0365, 0.067, 0.1012, null], \"yaxis\": \"y2\", \"type\": \"scatter\", \"xaxis\": \"x2\"}, {\"legendgroup\": \"chart (1, 2)\", \"name\": \"chart (1, 2) 20190513\", \"uid\": \"c93a22ee-a3e3-11e9-a952-8c859025e7f9\", \"x\": [-0.3, -0.25, -0.2, -0.15, -0.1, -0.05, 0.0, 0.05, 0.1, 0.15, 0.2, 0.25, 0.3, 0.35], \"y\": [0.3048, 0.2507, 0.1833, 0.1247, 0.0715, 0.0273, 0.0, -0.0192, -0.011, 0.0128, 0.0428, 0.0802, 0.1189, null], \"yaxis\": \"y2\", \"type\": \"scatter\", \"xaxis\": \"x2\"}, {\"legendgroup\": \"chart (1, 2)\", \"name\": \"chart (1, 2) 20190514\", \"uid\": \"c93ac776-a3e3-11e9-9d31-8c859025e7f9\", \"x\": [-0.3, -0.25, -0.2, -0.15, -0.1, -0.05, 0.0, 0.05, 0.1, 0.15, 0.2, 0.25, 0.3, 0.35], \"y\": [0.3134, 0.2456, 0.1865, 0.1267, 0.0693, 0.0258, 0.0, -0.014, -0.0041, 0.0247, 0.0657, 0.1103, 0.1466, null], \"yaxis\": \"y2\", \"type\": \"scatter\", \"xaxis\": \"x2\"}, {\"legendgroup\": \"chart (2, 1)\", \"name\": \"chart (2, 1) 20190515\", \"uid\": \"c93cf0be-a3e3-11e9-91cc-8c859025e7f9\", \"x\": [-0.3, -0.25, -0.2, -0.15, -0.1, -0.05, 0.0, 0.05, 0.1, 0.15, 0.2, 0.25, 0.3, 0.35], \"y\": [0.3381, 0.2757, 0.2046, 0.1376, 0.0744, 0.0269, 0.0, -0.012, 0.0015, 0.0334, 0.0743, 0.1268, 0.1657, null], \"yaxis\": \"y3\", \"type\": \"scatter\", \"xaxis\": \"x3\"}, {\"legendgroup\": \"chart (2, 1)\", \"name\": \"chart (2, 1) 20190516\", \"uid\": \"c93de28a-a3e3-11e9-952b-8c859025e7f9\", \"x\": [-0.3, -0.25, -0.2, -0.15, -0.1, -0.05, 0.0, 0.05, 0.1, 0.15, 0.2, 0.25, 0.3, 0.35], \"y\": [null, null, null, null, null, null, 0.0, null, null, null, null, null, null, null], \"yaxis\": \"y3\", \"type\": \"scatter\", \"xaxis\": \"x3\"}, {\"legendgroup\": \"chart (2, 1)\", \"name\": \"chart (2, 1) 20190517\", \"uid\": \"c93ee286-a3e3-11e9-a4e0-8c859025e7f9\", \"x\": [-0.3, -0.25, -0.2, -0.15, -0.1, -0.05, 0.0, 0.05, 0.1, 0.15, 0.2, 0.25, 0.3, 0.35], \"y\": [0.3873, 0.2861, 0.2134, 0.1386, 0.0754, 0.0295, 0.0, -0.0123, 0.0036, 0.0417, 0.0848, 0.1399, 0.1819, null], \"yaxis\": \"y3\", \"type\": \"scatter\", \"xaxis\": \"x3\"}, {\"legendgroup\": \"chart (2, 1)\", \"name\": \"chart (2, 1) 20190520\", \"uid\": \"c93fb7ae-a3e3-11e9-aec6-8c859025e7f9\", \"x\": [-0.3, -0.25, -0.2, -0.15, -0.1, -0.05, 0.0, 0.05, 0.1, 0.15, 0.2, 0.25, 0.3, 0.35], \"y\": [0.4515, 0.3505, 0.2523, 0.1677, 0.0914, 0.0377, 0.0, -0.0018, 0.0201, 0.0657, 0.1151, 0.1784, 0.2279, null], \"yaxis\": \"y3\", \"type\": \"scatter\", \"xaxis\": \"x3\"}, {\"legendgroup\": \"chart (2, 1)\", \"name\": \"chart (2, 1) 20190521\", \"uid\": \"c940b968-a3e3-11e9-aa61-8c859025e7f9\", \"x\": [-0.3, -0.25, -0.2, -0.15, -0.1, -0.05, 0.0, 0.05, 0.1, 0.15, 0.2, 0.25, 0.3, 0.35], \"y\": [0.4704, 0.3648, 0.2532, 0.1675, 0.0843, 0.0259, 0.0, -0.0093, 0.0143, 0.0635, 0.1227, 0.1799, 0.2366, null], \"yaxis\": \"y3\", \"type\": \"scatter\", \"xaxis\": \"x3\"}, {\"legendgroup\": \"chart (2, 2)\", \"name\": \"chart (2, 2) 20190522\", \"uid\": \"c9423a7e-a3e3-11e9-bee3-8c859025e7f9\", \"x\": [-0.3, -0.25, -0.2, -0.15, -0.1, -0.05, 0.0, 0.05, 0.1, 0.15, 0.2, 0.25, 0.3, 0.35], \"y\": [0.4872, 0.3885, 0.2733, 0.1743, 0.0871, 0.0298, 0.0, -0.005, 0.0155, 0.0593, 0.1218, 0.182, 0.2568, null], \"yaxis\": \"y4\", \"type\": \"scatter\", \"xaxis\": \"x4\"}, {\"legendgroup\": \"chart (2, 2)\", \"name\": \"chart (2, 2) 20190523\", \"uid\": \"c9432d46-a3e3-11e9-85b9-8c859025e7f9\", \"x\": [-0.3, -0.25, -0.2, -0.15, -0.1, -0.05, 0.0, 0.05, 0.1, 0.15, 0.2, 0.25, 0.3, 0.35], \"y\": [null, null, null, null, null, null, 0.0, null, null, null, null, null, null, null], \"yaxis\": \"y4\", \"type\": \"scatter\", \"xaxis\": \"x4\"}, {\"legendgroup\": \"chart (2, 2)\", \"name\": \"chart (2, 2) 20190524\", \"uid\": \"c943e0e8-a3e3-11e9-9cd9-8c859025e7f9\", \"x\": [-0.3, -0.25, -0.2, -0.15, -0.1, -0.05, 0.0, 0.05, 0.1, 0.15, 0.2, 0.25, 0.3, 0.35], \"y\": [0.5487, 0.4386, 0.3318, 0.2267, 0.1303, 0.0521, 0.0, -0.0183, 0.0057, 0.0542, 0.1007, 0.1643, 0.2408, 0.3045], \"yaxis\": \"y4\", \"type\": \"scatter\", \"xaxis\": \"x4\"}, {\"legendgroup\": \"chart (2, 2)\", \"name\": \"chart (2, 2) 20190527\", \"uid\": \"c9448b76-a3e3-11e9-94cb-8c859025e7f9\", \"x\": [-0.3, -0.25, -0.2, -0.15, -0.1, -0.05, 0.0, 0.05, 0.1, 0.15, 0.2, 0.25, 0.3, 0.35], \"y\": [0.7018, 0.5873, 0.4209, 0.2881, 0.156, 0.0596, 0.0, -0.0257, 0.0083, 0.0773, 0.169, 0.2685, 0.374, 0.4389], \"yaxis\": \"y4\", \"type\": \"scatter\", \"xaxis\": \"x4\"}, {\"legendgroup\": \"chart (2, 2)\", \"name\": \"chart (2, 2) 20190528\", \"uid\": \"c94549c6-a3e3-11e9-bd9a-8c859025e7f9\", \"x\": [-0.3, -0.25, -0.2, -0.15, -0.1, -0.05, 0.0, 0.05, 0.1, 0.15, 0.2, 0.25, 0.3, 0.35], \"y\": [0.7502, 0.6062, 0.4809, 0.3237, 0.1937, 0.0819, 0.0, -0.0121, 0.0241, 0.0884, 0.178, 0.2612, 0.3685, 0.467], \"yaxis\": \"y4\", \"type\": \"scatter\", \"xaxis\": \"x4\"}], {\"annotations\": [{\"font\": {\"size\": 16}, \"showarrow\": false, \"text\": \"CBQ19 20190501 - 20190507\", \"x\": 0.2275, \"xanchor\": \"center\", \"xref\": \"paper\", \"y\": 1.0, \"yanchor\": \"bottom\", \"yref\": \"paper\"}, {\"font\": {\"size\": 16}, \"showarrow\": false, \"text\": \"CBQ19 20190508 - 20190514\", \"x\": 0.7725, \"xanchor\": \"center\", \"xref\": \"paper\", \"y\": 1.0, \"yanchor\": \"bottom\", \"yref\": \"paper\"}, {\"font\": {\"size\": 16}, \"showarrow\": false, \"text\": \"CBQ19 20190515 - 20190521\", \"x\": 0.2275, \"xanchor\": \"center\", \"xref\": \"paper\", \"y\": 0.445, \"yanchor\": \"bottom\", \"yref\": \"paper\"}, {\"font\": {\"size\": 16}, \"showarrow\": false, \"text\": \"CBQ19 20190522 - 20190528\", \"x\": 0.7725, \"xanchor\": \"center\", \"xref\": \"paper\", \"y\": 0.445, \"yanchor\": \"bottom\", \"yref\": \"paper\"}], \"xaxis\": {\"anchor\": \"y\", \"domain\": [0.0, 0.455], \"tickangle\": 45, \"ticktext\": [-0.3, -0.25, -0.2, -0.15, -0.1, -0.05, 0.0, 0.05, 0.1, 0.15, 0.2, 0.25, 0.3, 0.35], \"tickvals\": [-0.3, -0.25, -0.2, -0.15, -0.1, -0.05, 0.0, 0.05, 0.1, 0.15, 0.2, 0.25, 0.3, 0.35], \"type\": \"category\"}, \"yaxis\": {\"anchor\": \"x\", \"domain\": [0.555, 1.0], \"title\": \"vol skew\"}, \"xaxis2\": {\"anchor\": \"y2\", \"domain\": [0.545, 1.0], \"tickangle\": 45, \"ticktext\": [-0.3, -0.25, -0.2, -0.15, -0.1, -0.05, 0.0, 0.05, 0.1, 0.15, 0.2, 0.25, 0.3, 0.35], \"tickvals\": [-0.3, -0.25, -0.2, -0.15, -0.1, -0.05, 0.0, 0.05, 0.1, 0.15, 0.2, 0.25, 0.3, 0.35], \"type\": \"category\"}, \"yaxis2\": {\"anchor\": \"x2\", \"domain\": [0.555, 1.0], \"title\": \"vol skew\"}, \"xaxis3\": {\"anchor\": \"y3\", \"domain\": [0.0, 0.455], \"tickangle\": 45, \"ticktext\": [-0.3, -0.25, -0.2, -0.15, -0.1, -0.05, 0.0, 0.05, 0.1, 0.15, 0.2, 0.25, 0.3, 0.35], \"tickvals\": [-0.3, -0.25, -0.2, -0.15, -0.1, -0.05, 0.0, 0.05, 0.1, 0.15, 0.2, 0.25, 0.3, 0.35], \"type\": \"category\"}, \"yaxis3\": {\"anchor\": \"x3\", \"domain\": [0.0, 0.445], \"title\": \"vol skew\"}, \"xaxis4\": {\"anchor\": \"y4\", \"domain\": [0.545, 1.0], \"tickangle\": 45, \"ticktext\": [-0.3, -0.25, -0.2, -0.15, -0.1, -0.05, 0.0, 0.05, 0.1, 0.15, 0.2, 0.25, 0.3, 0.35], \"tickvals\": [-0.3, -0.25, -0.2, -0.15, -0.1, -0.05, 0.0, 0.05, 0.1, 0.15, 0.2, 0.25, 0.3, 0.35], \"type\": \"category\"}, \"yaxis4\": {\"anchor\": \"x4\", \"domain\": [0.0, 0.445], \"title\": \"vol skew\"}, \"font\": {\"family\": \"Open Sans, sans-serif\"}, \"margin\": {\"b\": 55, \"l\": 45, \"r\": 15, \"t\": 50}, \"title\": \"Skew plots<br>\", \"showlegend\": true, \"hovermode\": \"x\", \"autosize\": true, \"width\": 900, \"height\": 800, \"plot_bgcolor\": \"#EFECEA\", \"bargap\": 0.05}, {\"showLink\": true, \"linkText\": \"Export to plot.ly\"})});</script>"
      ],
      "text/vnd.plotly.v1+html": [
       "<div id=\"e7ca3c47-567c-434c-b359-db57f145a74b\" style=\"height: 800px; width: 900px;\" class=\"plotly-graph-div\"></div><script type=\"text/javascript\">require([\"plotly\"], function(Plotly) { window.PLOTLYENV=window.PLOTLYENV || {};window.PLOTLYENV.BASE_URL=\"https://plot.ly\";Plotly.newPlot(\"e7ca3c47-567c-434c-b359-db57f145a74b\", [{\"legendgroup\": \"chart (1, 1)\", \"name\": \"chart (1, 1) 20190501\", \"uid\": \"c934187a-a3e3-11e9-be63-8c859025e7f9\", \"x\": [-0.3, -0.25, -0.2, -0.15, -0.1, -0.05, 0.0, 0.05, 0.1, 0.15, 0.2, 0.25, 0.3, 0.35], \"y\": [null, null, null, null, null, null, 0.0, null, null, null, null, null, null, null], \"yaxis\": \"y\", \"type\": \"scatter\", \"xaxis\": \"x\"}, {\"legendgroup\": \"chart (1, 1)\", \"name\": \"chart (1, 1) 20190502\", \"uid\": \"c9348c12-a3e3-11e9-a405-8c859025e7f9\", \"x\": [-0.3, -0.25, -0.2, -0.15, -0.1, -0.05, 0.0, 0.05, 0.1, 0.15, 0.2, 0.25, 0.3, 0.35], \"y\": [0.2832, 0.2243, 0.1692, 0.1161, 0.0678, 0.0287, 0.0, -0.0187, -0.0231, -0.0131, 0.0077, 0.0252, 0.0522, null], \"yaxis\": \"y\", \"type\": \"scatter\", \"xaxis\": \"x\"}, {\"legendgroup\": \"chart (1, 1)\", \"name\": \"chart (1, 1) 20190503\", \"uid\": \"c934fc38-a3e3-11e9-8efc-8c859025e7f9\", \"x\": [-0.3, -0.25, -0.2, -0.15, -0.1, -0.05, 0.0, 0.05, 0.1, 0.15, 0.2, 0.25, 0.3, 0.35], \"y\": [0.2811, 0.2252, 0.1715, 0.1219, 0.0727, 0.0318, 0.0, -0.0176, -0.0226, -0.0132, 0.0113, 0.0384, 0.0697, null], \"yaxis\": \"y\", \"type\": \"scatter\", \"xaxis\": \"x\"}, {\"legendgroup\": \"chart (1, 1)\", \"name\": \"chart (1, 1) 20190506\", \"uid\": \"c935726c-a3e3-11e9-b594-8c859025e7f9\", \"x\": [-0.3, -0.25, -0.2, -0.15, -0.1, -0.05, 0.0, 0.05, 0.1, 0.15, 0.2, 0.25, 0.3, 0.35], \"y\": [0.2785, 0.2206, 0.1673, 0.1184, 0.0716, 0.0293, 0.0, -0.0203, -0.021, -0.0074, 0.0136, 0.0448, 0.0706, null], \"yaxis\": \"y\", \"type\": \"scatter\", \"xaxis\": \"x\"}, {\"legendgroup\": \"chart (1, 1)\", \"name\": \"chart (1, 1) 20190507\", \"uid\": \"c935f5ca-a3e3-11e9-8a8b-8c859025e7f9\", \"x\": [-0.3, -0.25, -0.2, -0.15, -0.1, -0.05, 0.0, 0.05, 0.1, 0.15, 0.2, 0.25, 0.3, 0.35], \"y\": [0.2675, 0.2209, 0.1703, 0.1228, 0.0768, 0.0357, 0.0, -0.0194, -0.0263, -0.0181, 0.0027, 0.0238, 0.0581, null], \"yaxis\": \"y\", \"type\": \"scatter\", \"xaxis\": \"x\"}, {\"legendgroup\": \"chart (1, 2)\", \"name\": \"chart (1, 2) 20190508\", \"uid\": \"c9376734-a3e3-11e9-81f2-8c859025e7f9\", \"x\": [-0.3, -0.25, -0.2, -0.15, -0.1, -0.05, 0.0, 0.05, 0.1, 0.15, 0.2, 0.25, 0.3, 0.35], \"y\": [0.2991, 0.2411, 0.1873, 0.1354, 0.0866, 0.0408, 0.0, -0.0187, -0.0221, -0.0115, 0.0106, 0.0396, 0.0774, null], \"yaxis\": \"y2\", \"type\": \"scatter\", \"xaxis\": \"x2\"}, {\"legendgroup\": \"chart (1, 2)\", \"name\": \"chart (1, 2) 20190509\", \"uid\": \"c9382afa-a3e3-11e9-b956-8c859025e7f9\", \"x\": [-0.3, -0.25, -0.2, -0.15, -0.1, -0.05, 0.0, 0.05, 0.1, 0.15, 0.2, 0.25, 0.3, 0.35], \"y\": [0.2882, 0.2347, 0.181, 0.1265, 0.0765, 0.0321, 0.0, -0.0221, -0.0235, -0.0099, 0.0128, 0.0405, 0.0695, null], \"yaxis\": \"y2\", \"type\": \"scatter\", \"xaxis\": \"x2\"}, {\"legendgroup\": \"chart (1, 2)\", \"name\": \"chart (1, 2) 20190510\", \"uid\": \"c938c73a-a3e3-11e9-85b4-8c859025e7f9\", \"x\": [-0.3, -0.25, -0.2, -0.15, -0.1, -0.05, 0.0, 0.05, 0.1, 0.15, 0.2, 0.25, 0.3, 0.35], \"y\": [0.2914, 0.2349, 0.1814, 0.125, 0.0783, 0.0358, 0.0, -0.0123, -0.008, 0.0098, 0.0365, 0.067, 0.1012, null], \"yaxis\": \"y2\", \"type\": \"scatter\", \"xaxis\": \"x2\"}, {\"legendgroup\": \"chart (1, 2)\", \"name\": \"chart (1, 2) 20190513\", \"uid\": \"c93a22ee-a3e3-11e9-a952-8c859025e7f9\", \"x\": [-0.3, -0.25, -0.2, -0.15, -0.1, -0.05, 0.0, 0.05, 0.1, 0.15, 0.2, 0.25, 0.3, 0.35], \"y\": [0.3048, 0.2507, 0.1833, 0.1247, 0.0715, 0.0273, 0.0, -0.0192, -0.011, 0.0128, 0.0428, 0.0802, 0.1189, null], \"yaxis\": \"y2\", \"type\": \"scatter\", \"xaxis\": \"x2\"}, {\"legendgroup\": \"chart (1, 2)\", \"name\": \"chart (1, 2) 20190514\", \"uid\": \"c93ac776-a3e3-11e9-9d31-8c859025e7f9\", \"x\": [-0.3, -0.25, -0.2, -0.15, -0.1, -0.05, 0.0, 0.05, 0.1, 0.15, 0.2, 0.25, 0.3, 0.35], \"y\": [0.3134, 0.2456, 0.1865, 0.1267, 0.0693, 0.0258, 0.0, -0.014, -0.0041, 0.0247, 0.0657, 0.1103, 0.1466, null], \"yaxis\": \"y2\", \"type\": \"scatter\", \"xaxis\": \"x2\"}, {\"legendgroup\": \"chart (2, 1)\", \"name\": \"chart (2, 1) 20190515\", \"uid\": \"c93cf0be-a3e3-11e9-91cc-8c859025e7f9\", \"x\": [-0.3, -0.25, -0.2, -0.15, -0.1, -0.05, 0.0, 0.05, 0.1, 0.15, 0.2, 0.25, 0.3, 0.35], \"y\": [0.3381, 0.2757, 0.2046, 0.1376, 0.0744, 0.0269, 0.0, -0.012, 0.0015, 0.0334, 0.0743, 0.1268, 0.1657, null], \"yaxis\": \"y3\", \"type\": \"scatter\", \"xaxis\": \"x3\"}, {\"legendgroup\": \"chart (2, 1)\", \"name\": \"chart (2, 1) 20190516\", \"uid\": \"c93de28a-a3e3-11e9-952b-8c859025e7f9\", \"x\": [-0.3, -0.25, -0.2, -0.15, -0.1, -0.05, 0.0, 0.05, 0.1, 0.15, 0.2, 0.25, 0.3, 0.35], \"y\": [null, null, null, null, null, null, 0.0, null, null, null, null, null, null, null], \"yaxis\": \"y3\", \"type\": \"scatter\", \"xaxis\": \"x3\"}, {\"legendgroup\": \"chart (2, 1)\", \"name\": \"chart (2, 1) 20190517\", \"uid\": \"c93ee286-a3e3-11e9-a4e0-8c859025e7f9\", \"x\": [-0.3, -0.25, -0.2, -0.15, -0.1, -0.05, 0.0, 0.05, 0.1, 0.15, 0.2, 0.25, 0.3, 0.35], \"y\": [0.3873, 0.2861, 0.2134, 0.1386, 0.0754, 0.0295, 0.0, -0.0123, 0.0036, 0.0417, 0.0848, 0.1399, 0.1819, null], \"yaxis\": \"y3\", \"type\": \"scatter\", \"xaxis\": \"x3\"}, {\"legendgroup\": \"chart (2, 1)\", \"name\": \"chart (2, 1) 20190520\", \"uid\": \"c93fb7ae-a3e3-11e9-aec6-8c859025e7f9\", \"x\": [-0.3, -0.25, -0.2, -0.15, -0.1, -0.05, 0.0, 0.05, 0.1, 0.15, 0.2, 0.25, 0.3, 0.35], \"y\": [0.4515, 0.3505, 0.2523, 0.1677, 0.0914, 0.0377, 0.0, -0.0018, 0.0201, 0.0657, 0.1151, 0.1784, 0.2279, null], \"yaxis\": \"y3\", \"type\": \"scatter\", \"xaxis\": \"x3\"}, {\"legendgroup\": \"chart (2, 1)\", \"name\": \"chart (2, 1) 20190521\", \"uid\": \"c940b968-a3e3-11e9-aa61-8c859025e7f9\", \"x\": [-0.3, -0.25, -0.2, -0.15, -0.1, -0.05, 0.0, 0.05, 0.1, 0.15, 0.2, 0.25, 0.3, 0.35], \"y\": [0.4704, 0.3648, 0.2532, 0.1675, 0.0843, 0.0259, 0.0, -0.0093, 0.0143, 0.0635, 0.1227, 0.1799, 0.2366, null], \"yaxis\": \"y3\", \"type\": \"scatter\", \"xaxis\": \"x3\"}, {\"legendgroup\": \"chart (2, 2)\", \"name\": \"chart (2, 2) 20190522\", \"uid\": \"c9423a7e-a3e3-11e9-bee3-8c859025e7f9\", \"x\": [-0.3, -0.25, -0.2, -0.15, -0.1, -0.05, 0.0, 0.05, 0.1, 0.15, 0.2, 0.25, 0.3, 0.35], \"y\": [0.4872, 0.3885, 0.2733, 0.1743, 0.0871, 0.0298, 0.0, -0.005, 0.0155, 0.0593, 0.1218, 0.182, 0.2568, null], \"yaxis\": \"y4\", \"type\": \"scatter\", \"xaxis\": \"x4\"}, {\"legendgroup\": \"chart (2, 2)\", \"name\": \"chart (2, 2) 20190523\", \"uid\": \"c9432d46-a3e3-11e9-85b9-8c859025e7f9\", \"x\": [-0.3, -0.25, -0.2, -0.15, -0.1, -0.05, 0.0, 0.05, 0.1, 0.15, 0.2, 0.25, 0.3, 0.35], \"y\": [null, null, null, null, null, null, 0.0, null, null, null, null, null, null, null], \"yaxis\": \"y4\", \"type\": \"scatter\", \"xaxis\": \"x4\"}, {\"legendgroup\": \"chart (2, 2)\", \"name\": \"chart (2, 2) 20190524\", \"uid\": \"c943e0e8-a3e3-11e9-9cd9-8c859025e7f9\", \"x\": [-0.3, -0.25, -0.2, -0.15, -0.1, -0.05, 0.0, 0.05, 0.1, 0.15, 0.2, 0.25, 0.3, 0.35], \"y\": [0.5487, 0.4386, 0.3318, 0.2267, 0.1303, 0.0521, 0.0, -0.0183, 0.0057, 0.0542, 0.1007, 0.1643, 0.2408, 0.3045], \"yaxis\": \"y4\", \"type\": \"scatter\", \"xaxis\": \"x4\"}, {\"legendgroup\": \"chart (2, 2)\", \"name\": \"chart (2, 2) 20190527\", \"uid\": \"c9448b76-a3e3-11e9-94cb-8c859025e7f9\", \"x\": [-0.3, -0.25, -0.2, -0.15, -0.1, -0.05, 0.0, 0.05, 0.1, 0.15, 0.2, 0.25, 0.3, 0.35], \"y\": [0.7018, 0.5873, 0.4209, 0.2881, 0.156, 0.0596, 0.0, -0.0257, 0.0083, 0.0773, 0.169, 0.2685, 0.374, 0.4389], \"yaxis\": \"y4\", \"type\": \"scatter\", \"xaxis\": \"x4\"}, {\"legendgroup\": \"chart (2, 2)\", \"name\": \"chart (2, 2) 20190528\", \"uid\": \"c94549c6-a3e3-11e9-bd9a-8c859025e7f9\", \"x\": [-0.3, -0.25, -0.2, -0.15, -0.1, -0.05, 0.0, 0.05, 0.1, 0.15, 0.2, 0.25, 0.3, 0.35], \"y\": [0.7502, 0.6062, 0.4809, 0.3237, 0.1937, 0.0819, 0.0, -0.0121, 0.0241, 0.0884, 0.178, 0.2612, 0.3685, 0.467], \"yaxis\": \"y4\", \"type\": \"scatter\", \"xaxis\": \"x4\"}], {\"annotations\": [{\"font\": {\"size\": 16}, \"showarrow\": false, \"text\": \"CBQ19 20190501 - 20190507\", \"x\": 0.2275, \"xanchor\": \"center\", \"xref\": \"paper\", \"y\": 1.0, \"yanchor\": \"bottom\", \"yref\": \"paper\"}, {\"font\": {\"size\": 16}, \"showarrow\": false, \"text\": \"CBQ19 20190508 - 20190514\", \"x\": 0.7725, \"xanchor\": \"center\", \"xref\": \"paper\", \"y\": 1.0, \"yanchor\": \"bottom\", \"yref\": \"paper\"}, {\"font\": {\"size\": 16}, \"showarrow\": false, \"text\": \"CBQ19 20190515 - 20190521\", \"x\": 0.2275, \"xanchor\": \"center\", \"xref\": \"paper\", \"y\": 0.445, \"yanchor\": \"bottom\", \"yref\": \"paper\"}, {\"font\": {\"size\": 16}, \"showarrow\": false, \"text\": \"CBQ19 20190522 - 20190528\", \"x\": 0.7725, \"xanchor\": \"center\", \"xref\": \"paper\", \"y\": 0.445, \"yanchor\": \"bottom\", \"yref\": \"paper\"}], \"xaxis\": {\"anchor\": \"y\", \"domain\": [0.0, 0.455], \"tickangle\": 45, \"ticktext\": [-0.3, -0.25, -0.2, -0.15, -0.1, -0.05, 0.0, 0.05, 0.1, 0.15, 0.2, 0.25, 0.3, 0.35], \"tickvals\": [-0.3, -0.25, -0.2, -0.15, -0.1, -0.05, 0.0, 0.05, 0.1, 0.15, 0.2, 0.25, 0.3, 0.35], \"type\": \"category\"}, \"yaxis\": {\"anchor\": \"x\", \"domain\": [0.555, 1.0], \"title\": \"vol skew\"}, \"xaxis2\": {\"anchor\": \"y2\", \"domain\": [0.545, 1.0], \"tickangle\": 45, \"ticktext\": [-0.3, -0.25, -0.2, -0.15, -0.1, -0.05, 0.0, 0.05, 0.1, 0.15, 0.2, 0.25, 0.3, 0.35], \"tickvals\": [-0.3, -0.25, -0.2, -0.15, -0.1, -0.05, 0.0, 0.05, 0.1, 0.15, 0.2, 0.25, 0.3, 0.35], \"type\": \"category\"}, \"yaxis2\": {\"anchor\": \"x2\", \"domain\": [0.555, 1.0], \"title\": \"vol skew\"}, \"xaxis3\": {\"anchor\": \"y3\", \"domain\": [0.0, 0.455], \"tickangle\": 45, \"ticktext\": [-0.3, -0.25, -0.2, -0.15, -0.1, -0.05, 0.0, 0.05, 0.1, 0.15, 0.2, 0.25, 0.3, 0.35], \"tickvals\": [-0.3, -0.25, -0.2, -0.15, -0.1, -0.05, 0.0, 0.05, 0.1, 0.15, 0.2, 0.25, 0.3, 0.35], \"type\": \"category\"}, \"yaxis3\": {\"anchor\": \"x3\", \"domain\": [0.0, 0.445], \"title\": \"vol skew\"}, \"xaxis4\": {\"anchor\": \"y4\", \"domain\": [0.545, 1.0], \"tickangle\": 45, \"ticktext\": [-0.3, -0.25, -0.2, -0.15, -0.1, -0.05, 0.0, 0.05, 0.1, 0.15, 0.2, 0.25, 0.3, 0.35], \"tickvals\": [-0.3, -0.25, -0.2, -0.15, -0.1, -0.05, 0.0, 0.05, 0.1, 0.15, 0.2, 0.25, 0.3, 0.35], \"type\": \"category\"}, \"yaxis4\": {\"anchor\": \"x4\", \"domain\": [0.0, 0.445], \"title\": \"vol skew\"}, \"font\": {\"family\": \"Open Sans, sans-serif\"}, \"margin\": {\"b\": 55, \"l\": 45, \"r\": 15, \"t\": 50}, \"title\": \"Skew plots<br>\", \"showlegend\": true, \"hovermode\": \"x\", \"autosize\": true, \"width\": 900, \"height\": 800, \"plot_bgcolor\": \"#EFECEA\", \"bargap\": 0.05}, {\"showLink\": true, \"linkText\": \"Export to plot.ly\"})});</script>"
      ]
     },
     "metadata": {},
     "output_type": "display_data"
    },
    {
     "data": {
      "application/vnd.plotly.v1+json": {
       "data": [
        {
         "legendgroup": "chart (1, 1)",
         "name": "chart (1, 1) 20190529",
         "type": "scatter",
         "uid": "c955c8d2-a3e3-11e9-bb59-8c859025e7f9",
         "x": [
          -0.3,
          -0.25,
          -0.2,
          -0.15,
          -0.1,
          -0.05,
          0,
          0.05,
          0.1,
          0.15,
          0.2,
          0.25,
          0.3,
          0.35
         ],
         "xaxis": "x",
         "y": [
          0.974,
          0.766,
          0.585,
          0.4068,
          0.2356,
          0.102,
          0,
          -0.0694,
          -0.06,
          -0.0087,
          0.0872,
          0.207,
          0.3327,
          0.3859
         ],
         "yaxis": "y"
        },
        {
         "legendgroup": "chart (1, 1)",
         "name": "chart (1, 1) 20190530",
         "type": "scatter",
         "uid": "c9569e92-a3e3-11e9-aa4f-8c859025e7f9",
         "x": [
          -0.3,
          -0.25,
          -0.2,
          -0.15,
          -0.1,
          -0.05,
          0,
          0.05,
          0.1,
          0.15,
          0.2,
          0.25,
          0.3,
          0.35
         ],
         "xaxis": "x",
         "y": [
          1.3383,
          1.0463,
          0.7882,
          0.5632,
          0.3321,
          0.1373,
          0,
          -0.1004,
          -0.1142,
          -0.0609,
          0.0541,
          0.1739,
          0.3555,
          0.4265
         ],
         "yaxis": "y"
        }
       ],
       "layout": {
        "annotations": [
         {
          "font": {
           "size": 16
          },
          "showarrow": false,
          "text": "CBQ19 20190529 - 20190530",
          "x": 0.2275,
          "xanchor": "center",
          "xref": "paper",
          "y": 1,
          "yanchor": "bottom",
          "yref": "paper"
         }
        ],
        "autosize": true,
        "bargap": 0.05,
        "font": {
         "family": "Open Sans, sans-serif"
        },
        "height": 800,
        "hovermode": "x",
        "margin": {
         "b": 55,
         "l": 45,
         "r": 15,
         "t": 50
        },
        "plot_bgcolor": "#EFECEA",
        "showlegend": true,
        "title": "Skew plots<br>",
        "width": 900,
        "xaxis": {
         "anchor": "y",
         "domain": [
          0,
          0.455
         ],
         "tickangle": 45,
         "ticktext": [
          -0.3,
          -0.25,
          -0.2,
          -0.15,
          -0.1,
          -0.05,
          0,
          0.05,
          0.1,
          0.15,
          0.2,
          0.25,
          0.3,
          0.35
         ],
         "tickvals": [
          -0.3,
          -0.25,
          -0.2,
          -0.15,
          -0.1,
          -0.05,
          0,
          0.05,
          0.1,
          0.15,
          0.2,
          0.25,
          0.3,
          0.35
         ],
         "type": "category"
        },
        "xaxis2": {
         "anchor": "y2",
         "domain": [
          0.545,
          1
         ]
        },
        "xaxis3": {
         "anchor": "y3",
         "domain": [
          0,
          0.455
         ]
        },
        "xaxis4": {
         "anchor": "y4",
         "domain": [
          0.545,
          1
         ]
        },
        "yaxis": {
         "anchor": "x",
         "domain": [
          0.555,
          1
         ],
         "title": "vol skew"
        },
        "yaxis2": {
         "anchor": "x2",
         "domain": [
          0.555,
          1
         ]
        },
        "yaxis3": {
         "anchor": "x3",
         "domain": [
          0,
          0.445
         ]
        },
        "yaxis4": {
         "anchor": "x4",
         "domain": [
          0,
          0.445
         ]
        }
       }
      },
      "text/html": [
       "<div id=\"646c9d17-6890-47ba-b6ee-6e58baa46ade\" style=\"height: 800px; width: 900px;\" class=\"plotly-graph-div\"></div><script type=\"text/javascript\">require([\"plotly\"], function(Plotly) { window.PLOTLYENV=window.PLOTLYENV || {};window.PLOTLYENV.BASE_URL=\"https://plot.ly\";Plotly.newPlot(\"646c9d17-6890-47ba-b6ee-6e58baa46ade\", [{\"legendgroup\": \"chart (1, 1)\", \"name\": \"chart (1, 1) 20190529\", \"uid\": \"c955c8d2-a3e3-11e9-bb59-8c859025e7f9\", \"x\": [-0.3, -0.25, -0.2, -0.15, -0.1, -0.05, 0.0, 0.05, 0.1, 0.15, 0.2, 0.25, 0.3, 0.35], \"y\": [0.974, 0.766, 0.585, 0.4068, 0.2356, 0.102, 0.0, -0.0694, -0.06, -0.0087, 0.0872, 0.207, 0.3327, 0.3859], \"yaxis\": \"y\", \"type\": \"scatter\", \"xaxis\": \"x\"}, {\"legendgroup\": \"chart (1, 1)\", \"name\": \"chart (1, 1) 20190530\", \"uid\": \"c9569e92-a3e3-11e9-aa4f-8c859025e7f9\", \"x\": [-0.3, -0.25, -0.2, -0.15, -0.1, -0.05, 0.0, 0.05, 0.1, 0.15, 0.2, 0.25, 0.3, 0.35], \"y\": [1.3383, 1.0463, 0.7882, 0.5632, 0.3321, 0.1373, 0.0, -0.1004, -0.1142, -0.0609, 0.0541, 0.1739, 0.3555, 0.4265], \"yaxis\": \"y\", \"type\": \"scatter\", \"xaxis\": \"x\"}], {\"annotations\": [{\"font\": {\"size\": 16}, \"showarrow\": false, \"text\": \"CBQ19 20190529 - 20190530\", \"x\": 0.2275, \"xanchor\": \"center\", \"xref\": \"paper\", \"y\": 1.0, \"yanchor\": \"bottom\", \"yref\": \"paper\"}], \"xaxis\": {\"anchor\": \"y\", \"domain\": [0.0, 0.455], \"tickangle\": 45, \"ticktext\": [-0.3, -0.25, -0.2, -0.15, -0.1, -0.05, 0.0, 0.05, 0.1, 0.15, 0.2, 0.25, 0.3, 0.35], \"tickvals\": [-0.3, -0.25, -0.2, -0.15, -0.1, -0.05, 0.0, 0.05, 0.1, 0.15, 0.2, 0.25, 0.3, 0.35], \"type\": \"category\"}, \"yaxis\": {\"anchor\": \"x\", \"domain\": [0.555, 1.0], \"title\": \"vol skew\"}, \"xaxis2\": {\"anchor\": \"y2\", \"domain\": [0.545, 1.0]}, \"yaxis2\": {\"anchor\": \"x2\", \"domain\": [0.555, 1.0]}, \"xaxis3\": {\"anchor\": \"y3\", \"domain\": [0.0, 0.455]}, \"yaxis3\": {\"anchor\": \"x3\", \"domain\": [0.0, 0.445]}, \"xaxis4\": {\"anchor\": \"y4\", \"domain\": [0.545, 1.0]}, \"yaxis4\": {\"anchor\": \"x4\", \"domain\": [0.0, 0.445]}, \"font\": {\"family\": \"Open Sans, sans-serif\"}, \"margin\": {\"b\": 55, \"l\": 45, \"r\": 15, \"t\": 50}, \"title\": \"Skew plots<br>\", \"showlegend\": true, \"hovermode\": \"x\", \"autosize\": true, \"width\": 900, \"height\": 800, \"plot_bgcolor\": \"#EFECEA\", \"bargap\": 0.05}, {\"showLink\": true, \"linkText\": \"Export to plot.ly\"})});</script>"
      ],
      "text/vnd.plotly.v1+html": [
       "<div id=\"646c9d17-6890-47ba-b6ee-6e58baa46ade\" style=\"height: 800px; width: 900px;\" class=\"plotly-graph-div\"></div><script type=\"text/javascript\">require([\"plotly\"], function(Plotly) { window.PLOTLYENV=window.PLOTLYENV || {};window.PLOTLYENV.BASE_URL=\"https://plot.ly\";Plotly.newPlot(\"646c9d17-6890-47ba-b6ee-6e58baa46ade\", [{\"legendgroup\": \"chart (1, 1)\", \"name\": \"chart (1, 1) 20190529\", \"uid\": \"c955c8d2-a3e3-11e9-bb59-8c859025e7f9\", \"x\": [-0.3, -0.25, -0.2, -0.15, -0.1, -0.05, 0.0, 0.05, 0.1, 0.15, 0.2, 0.25, 0.3, 0.35], \"y\": [0.974, 0.766, 0.585, 0.4068, 0.2356, 0.102, 0.0, -0.0694, -0.06, -0.0087, 0.0872, 0.207, 0.3327, 0.3859], \"yaxis\": \"y\", \"type\": \"scatter\", \"xaxis\": \"x\"}, {\"legendgroup\": \"chart (1, 1)\", \"name\": \"chart (1, 1) 20190530\", \"uid\": \"c9569e92-a3e3-11e9-aa4f-8c859025e7f9\", \"x\": [-0.3, -0.25, -0.2, -0.15, -0.1, -0.05, 0.0, 0.05, 0.1, 0.15, 0.2, 0.25, 0.3, 0.35], \"y\": [1.3383, 1.0463, 0.7882, 0.5632, 0.3321, 0.1373, 0.0, -0.1004, -0.1142, -0.0609, 0.0541, 0.1739, 0.3555, 0.4265], \"yaxis\": \"y\", \"type\": \"scatter\", \"xaxis\": \"x\"}], {\"annotations\": [{\"font\": {\"size\": 16}, \"showarrow\": false, \"text\": \"CBQ19 20190529 - 20190530\", \"x\": 0.2275, \"xanchor\": \"center\", \"xref\": \"paper\", \"y\": 1.0, \"yanchor\": \"bottom\", \"yref\": \"paper\"}], \"xaxis\": {\"anchor\": \"y\", \"domain\": [0.0, 0.455], \"tickangle\": 45, \"ticktext\": [-0.3, -0.25, -0.2, -0.15, -0.1, -0.05, 0.0, 0.05, 0.1, 0.15, 0.2, 0.25, 0.3, 0.35], \"tickvals\": [-0.3, -0.25, -0.2, -0.15, -0.1, -0.05, 0.0, 0.05, 0.1, 0.15, 0.2, 0.25, 0.3, 0.35], \"type\": \"category\"}, \"yaxis\": {\"anchor\": \"x\", \"domain\": [0.555, 1.0], \"title\": \"vol skew\"}, \"xaxis2\": {\"anchor\": \"y2\", \"domain\": [0.545, 1.0]}, \"yaxis2\": {\"anchor\": \"x2\", \"domain\": [0.555, 1.0]}, \"xaxis3\": {\"anchor\": \"y3\", \"domain\": [0.0, 0.455]}, \"yaxis3\": {\"anchor\": \"x3\", \"domain\": [0.0, 0.445]}, \"xaxis4\": {\"anchor\": \"y4\", \"domain\": [0.545, 1.0]}, \"yaxis4\": {\"anchor\": \"x4\", \"domain\": [0.0, 0.445]}, \"font\": {\"family\": \"Open Sans, sans-serif\"}, \"margin\": {\"b\": 55, \"l\": 45, \"r\": 15, \"t\": 50}, \"title\": \"Skew plots<br>\", \"showlegend\": true, \"hovermode\": \"x\", \"autosize\": true, \"width\": 900, \"height\": 800, \"plot_bgcolor\": \"#EFECEA\", \"bargap\": 0.05}, {\"showLink\": true, \"linkText\": \"Export to plot.ly\"})});</script>"
      ]
     },
     "metadata": {},
     "output_type": "display_data"
    },
    {
     "name": "stdout",
     "output_type": "stream",
     "text": [
      "no data for symbol CBU19\n",
      "no data for symbol CBV19\n",
      "no data for symbol CBX19\n",
      "no data for symbol CBZ19\n"
     ]
    }
   ],
   "source": [
    "grid_plot=True\n",
    "clist = [c for c in all_contracts if (c[:2]==f'{SYMBOL_TO_RESEARCH}') & (c[-2:]=='19')]\n",
    "for c in clist:\n",
    "    dft = df_iv_final[df_iv_final.symbol==c]\n",
    "    if len(dft)<=0:\n",
    "        print(f'no data for symbol {c}')\n",
    "        continue\n",
    "    if grid_plot:\n",
    "        graph_skew_subplots(df_iv_final[df_iv_final.symbol==c])\n",
    "    else:\n",
    "        rls = graph_skew(df_iv_final[df_iv_final.symbol==c],do_plot=True)        "
   ]
  },
  {
   "cell_type": "code",
   "execution_count": 65,
   "metadata": {},
   "outputs": [
    {
     "data": {
      "text/plain": [
       "27643"
      ]
     },
     "execution_count": 65,
     "metadata": {},
     "output_type": "execute_result"
    }
   ],
   "source": [
    "len(df_iv_final)"
   ]
  },
  {
   "cell_type": "markdown",
   "metadata": {},
   "source": [
    "## END"
   ]
  }
 ],
 "metadata": {
  "kernelspec": {
   "display_name": "Python 3",
   "language": "python",
   "name": "python3"
  },
  "language_info": {
   "codemirror_mode": {
    "name": "ipython",
    "version": 3
   },
   "file_extension": ".py",
   "mimetype": "text/x-python",
   "name": "python",
   "nbconvert_exporter": "python",
   "pygments_lexer": "ipython3",
   "version": "3.6.5"
  }
 },
 "nbformat": 4,
 "nbformat_minor": 2
}
