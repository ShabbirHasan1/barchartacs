{
 "cells": [
  {
   "cell_type": "code",
   "execution_count": 4,
   "metadata": {},
   "outputs": [],
   "source": [
    "import warnings\n",
    "warnings.filterwarnings(\"ignore\")\n",
    "\n",
    "\n",
    "# In[2]:\n",
    "\n",
    "\n",
    "import pandas as pd\n",
    "import numpy as np\n",
    "\n",
    "import sys\n",
    "import os\n",
    "\n",
    "if  not os.path.abspath('./') in sys.path:\n",
    "    sys.path.append(os.path.abspath('./'))\n",
    "if  not os.path.abspath('../') in sys.path:\n",
    "    sys.path.append(os.path.abspath('../'))\n",
    "\n",
    "\n",
    "import datetime\n",
    "from dateutil.relativedelta import relativedelta\n",
    "from barchartacs import schedule_it as sch\n",
    "import pandas_datareader.data as pdr\n",
    "import yfinance as yf\n",
    "import traceback\n",
    "import json\n",
    "import requests\n",
    "\n",
    "\n",
    "import pyarrow as pa\n",
    "import redis\n",
    "\n",
    "import time\n",
    "import tqdm\n",
    "\n",
    "import schedule_it#@UnresolvedImport\n",
    "\n"
   ]
  },
  {
   "cell_type": "code",
   "execution_count": 5,
   "metadata": {},
   "outputs": [],
   "source": [
    "redis_port = 6379\n",
    "redis_db = redis.Redis(host = 'localhost',port=6379,db=0)\n"
   ]
  },
  {
   "cell_type": "code",
   "execution_count": 6,
   "metadata": {},
   "outputs": [],
   "source": [
    "def dt_to_yyyymmdd(d):\n",
    "    return int(d.year)*100*100 + int(d.month)*100 + int(d.day)\n",
    "\n",
    "def str_to_yyyymmdd(d,sep='-'):\n",
    "    try:\n",
    "        dt = datetime.datetime.strptime(str(d)[:10],f'%Y{sep}%m{sep}%d')\n",
    "    except:\n",
    "        return None\n",
    "    s = '%04d%02d%02d' %(dt.year,dt.month,dt.day)\n",
    "    return int(s)\n",
    "\n",
    "def str_to_date(d,sep='-'):\n",
    "    try:\n",
    "        dt = datetime.datetime.strptime(str(d)[:10],f'%Y{sep}%m{sep}%d')\n",
    "    except:\n",
    "        return None\n",
    "    return dt\n",
    "\n",
    "\n",
    "def fetch_history(symbol,dt_beg,dt_end):\n",
    "    df = yf.download(symbol, dt_beg, dt_end,threads=False)\n",
    "    # move index to date column, sort and recreate index\n",
    "    df['date'] = df.index\n",
    "    df = df.sort_values('date')\n",
    "    df.index = list(range(len(df)))\n",
    "    # make adj close the close\n",
    "    df = df.drop(['Adj Close'],axis=1)\n",
    "    cols = df.columns.values \n",
    "    cols_dict = {c:c[0].lower() + c[1:] for c in cols}\n",
    "    df = df.rename(columns = cols_dict)\n",
    "    df['settle_date'] = df.date.apply(str_to_yyyymmdd)\n",
    "    return df\n",
    "\n",
    "def get_port_info_values(syms):\n",
    "    names = syms if type(syms)==list else syms.tolist()\n",
    "    tickers = yf.Tickers(names)\n",
    "    dict_list = []\n",
    "    for n in tqdm.tqdm(names):\n",
    "        d = tickers.tickers[n].get_info()\n",
    "        d['symbol'] = n\n",
    "        dict_list.append(d)\n",
    "    df_info_values = pd.DataFrame(dict_list)\n",
    "    return df_info_values\n",
    "    \n",
    "def update_wf_port_info(syms):\n",
    "    try:\n",
    "#         names = syms if type(syms)==list else syms.tolist()\n",
    "#         tickers = yf.Tickers(names)\n",
    "#         dict_list = []\n",
    "#         for n in tqdm.tqdm(names):\n",
    "#             d = tickers.tickers[n].get_info()\n",
    "#             d['symbol'] = n\n",
    "#             dict_list.append(d)\n",
    "#         df_info_values = pd.DataFrame(dict_list)\n",
    "        df_info_values = get_port_info_values(syms)\n",
    "        info_values_key = 'wf_port_info_csv'\n",
    "        update_redis_df(info_values_key,df_info_values)\n",
    "    except Exception as e:\n",
    "        traceback.print_exc()\n",
    "\n",
    "\n",
    "def update_redis_df(key,df):\n",
    "    context = pa.default_serialization_context()#@UndefinedVariable\n",
    "    redis_db.set(key, context.serialize(df).to_buffer().to_pybytes())\n",
    "\n",
    "\n",
    "def get_fmp_ratios(symbol):\n",
    "    ratios_url = f'https://financialmodelingprep.com/api/v3/quote/{symbol}?apikey=5959d0222350b6d05dbfe64794b6f093'\n",
    "    response = json.loads(requests.get(ratios_url).text)\n",
    "    return response\n",
    "\n",
    "def update_db(beg_sym=None,port_path=None):\n",
    "    syms = None\n",
    "    if port_path is not None:\n",
    "        syms = pd.read_csv(port_path).symbol.values\n",
    "    else:\n",
    "        sp_url = \"https://datahub.io/core/s-and-p-500-companies/r/constituents.csv\"\n",
    "        df_sp_members = pd.read_csv(sp_url)  \n",
    "        df_sp_members = df_sp_members.sort_values('Symbol')\n",
    "        if beg_sym is not None:\n",
    "            df_sp_members = df_sp_members[df_sp_members.Symbol>=beg_sym]\n",
    "            syms = df_sp_members.Symbol.values\n",
    "    syms = np.append(syms,['SPY','QQQ'])\n",
    "    data_end_date = datetime.datetime.now()\n",
    "    data_beg_date = data_end_date - relativedelta(years=5)\n",
    "    pe_values = []\n",
    "    closes = []\n",
    "    with tqdm.tqdm(syms,position=0,leave=True) as pbar:\n",
    "        for sym in pbar:\n",
    "            pbar.set_postfix_str(s=sym)\n",
    "            try:\n",
    "                df_temp = fetch_history(sym, data_beg_date, data_end_date)\n",
    "                update_redis_df(f'{sym}_csv',df_temp)\n",
    "            except Exception as e:\n",
    "                print(f\"ERROR on {sym}: {str(e)}\")\n",
    "        \n",
    "    update_wf_port_info(syms)\n",
    "\n",
    "def schedule_updates(t=8,unit='hour',beg_sym=None,port_path=None):\n",
    "    logger = schedule_it.init_root_logger(\"logfile.log\", \"INFO\")\n",
    "    while True:\n",
    "        logger.info(f\"scheduling update for {unit} {t}\")\n",
    "        sch = schedule_it.ScheduleNext(unit, t,logger = logger)\n",
    "        sch.wait()\n",
    "        logger.info(f\"updating history\")\n",
    "        update_db(beg_sym=beg_sym,port_path=port_path)\n",
    "        logger.info(f\"sleeping until next {t} {unit} before next scheduling\")\n",
    "        time.sleep(5*60)\n"
   ]
  },
  {
   "cell_type": "code",
   "execution_count": 7,
   "metadata": {},
   "outputs": [],
   "source": [
    "data_end_date = datetime.datetime.now()\n",
    "data_beg_date = data_end_date - relativedelta(years=5)\n",
    "\n",
    "# fetch_history()"
   ]
  },
  {
   "cell_type": "code",
   "execution_count": 8,
   "metadata": {},
   "outputs": [
    {
     "name": "stdout",
     "output_type": "stream",
     "text": [
      "[*********************100%***********************]  1 of 1 completed\n"
     ]
    }
   ],
   "source": [
    "df = yf.download('FB', data_beg_date, data_end_date,threads=False)\n"
   ]
  },
  {
   "cell_type": "code",
   "execution_count": 9,
   "metadata": {},
   "outputs": [
    {
     "data": {
      "text/html": [
       "<div>\n",
       "<style scoped>\n",
       "    .dataframe tbody tr th:only-of-type {\n",
       "        vertical-align: middle;\n",
       "    }\n",
       "\n",
       "    .dataframe tbody tr th {\n",
       "        vertical-align: top;\n",
       "    }\n",
       "\n",
       "    .dataframe thead th {\n",
       "        text-align: right;\n",
       "    }\n",
       "</style>\n",
       "<table border=\"1\" class=\"dataframe\">\n",
       "  <thead>\n",
       "    <tr style=\"text-align: right;\">\n",
       "      <th></th>\n",
       "      <th>Open</th>\n",
       "      <th>High</th>\n",
       "      <th>Low</th>\n",
       "      <th>Close</th>\n",
       "      <th>Adj Close</th>\n",
       "      <th>Volume</th>\n",
       "    </tr>\n",
       "    <tr>\n",
       "      <th>Date</th>\n",
       "      <th></th>\n",
       "      <th></th>\n",
       "      <th></th>\n",
       "      <th></th>\n",
       "      <th></th>\n",
       "      <th></th>\n",
       "    </tr>\n",
       "  </thead>\n",
       "  <tbody>\n",
       "    <tr>\n",
       "      <th>2017-01-05</th>\n",
       "      <td>118.860001</td>\n",
       "      <td>120.949997</td>\n",
       "      <td>118.320000</td>\n",
       "      <td>120.669998</td>\n",
       "      <td>120.669998</td>\n",
       "      <td>19492200</td>\n",
       "    </tr>\n",
       "    <tr>\n",
       "      <th>2017-01-06</th>\n",
       "      <td>120.980003</td>\n",
       "      <td>123.879997</td>\n",
       "      <td>120.029999</td>\n",
       "      <td>123.410004</td>\n",
       "      <td>123.410004</td>\n",
       "      <td>28545300</td>\n",
       "    </tr>\n",
       "    <tr>\n",
       "      <th>2017-01-09</th>\n",
       "      <td>123.550003</td>\n",
       "      <td>125.430000</td>\n",
       "      <td>123.040001</td>\n",
       "      <td>124.900002</td>\n",
       "      <td>124.900002</td>\n",
       "      <td>22880400</td>\n",
       "    </tr>\n",
       "    <tr>\n",
       "      <th>2017-01-10</th>\n",
       "      <td>124.820000</td>\n",
       "      <td>125.500000</td>\n",
       "      <td>124.279999</td>\n",
       "      <td>124.349998</td>\n",
       "      <td>124.349998</td>\n",
       "      <td>17324600</td>\n",
       "    </tr>\n",
       "    <tr>\n",
       "      <th>2017-01-11</th>\n",
       "      <td>124.349998</td>\n",
       "      <td>126.120003</td>\n",
       "      <td>124.059998</td>\n",
       "      <td>126.089996</td>\n",
       "      <td>126.089996</td>\n",
       "      <td>18356500</td>\n",
       "    </tr>\n",
       "    <tr>\n",
       "      <th>...</th>\n",
       "      <td>...</td>\n",
       "      <td>...</td>\n",
       "      <td>...</td>\n",
       "      <td>...</td>\n",
       "      <td>...</td>\n",
       "      <td>...</td>\n",
       "    </tr>\n",
       "    <tr>\n",
       "      <th>2021-12-30</th>\n",
       "      <td>344.000000</td>\n",
       "      <td>347.230011</td>\n",
       "      <td>343.220001</td>\n",
       "      <td>344.359985</td>\n",
       "      <td>344.359985</td>\n",
       "      <td>10593300</td>\n",
       "    </tr>\n",
       "    <tr>\n",
       "      <th>2021-12-31</th>\n",
       "      <td>343.019989</td>\n",
       "      <td>343.440002</td>\n",
       "      <td>336.269989</td>\n",
       "      <td>336.350006</td>\n",
       "      <td>336.350006</td>\n",
       "      <td>12854800</td>\n",
       "    </tr>\n",
       "    <tr>\n",
       "      <th>2022-01-03</th>\n",
       "      <td>338.299988</td>\n",
       "      <td>341.079987</td>\n",
       "      <td>337.190002</td>\n",
       "      <td>338.540009</td>\n",
       "      <td>338.540009</td>\n",
       "      <td>14537900</td>\n",
       "    </tr>\n",
       "    <tr>\n",
       "      <th>2022-01-04</th>\n",
       "      <td>339.950012</td>\n",
       "      <td>343.089996</td>\n",
       "      <td>331.869995</td>\n",
       "      <td>336.529999</td>\n",
       "      <td>336.529999</td>\n",
       "      <td>15998000</td>\n",
       "    </tr>\n",
       "    <tr>\n",
       "      <th>2022-01-05</th>\n",
       "      <td>333.019989</td>\n",
       "      <td>335.760010</td>\n",
       "      <td>323.859985</td>\n",
       "      <td>324.170013</td>\n",
       "      <td>324.170013</td>\n",
       "      <td>20267240</td>\n",
       "    </tr>\n",
       "  </tbody>\n",
       "</table>\n",
       "<p>1260 rows × 6 columns</p>\n",
       "</div>"
      ],
      "text/plain": [
       "                  Open        High         Low       Close   Adj Close  \\\n",
       "Date                                                                     \n",
       "2017-01-05  118.860001  120.949997  118.320000  120.669998  120.669998   \n",
       "2017-01-06  120.980003  123.879997  120.029999  123.410004  123.410004   \n",
       "2017-01-09  123.550003  125.430000  123.040001  124.900002  124.900002   \n",
       "2017-01-10  124.820000  125.500000  124.279999  124.349998  124.349998   \n",
       "2017-01-11  124.349998  126.120003  124.059998  126.089996  126.089996   \n",
       "...                ...         ...         ...         ...         ...   \n",
       "2021-12-30  344.000000  347.230011  343.220001  344.359985  344.359985   \n",
       "2021-12-31  343.019989  343.440002  336.269989  336.350006  336.350006   \n",
       "2022-01-03  338.299988  341.079987  337.190002  338.540009  338.540009   \n",
       "2022-01-04  339.950012  343.089996  331.869995  336.529999  336.529999   \n",
       "2022-01-05  333.019989  335.760010  323.859985  324.170013  324.170013   \n",
       "\n",
       "              Volume  \n",
       "Date                  \n",
       "2017-01-05  19492200  \n",
       "2017-01-06  28545300  \n",
       "2017-01-09  22880400  \n",
       "2017-01-10  17324600  \n",
       "2017-01-11  18356500  \n",
       "...              ...  \n",
       "2021-12-30  10593300  \n",
       "2021-12-31  12854800  \n",
       "2022-01-03  14537900  \n",
       "2022-01-04  15998000  \n",
       "2022-01-05  20267240  \n",
       "\n",
       "[1260 rows x 6 columns]"
      ]
     },
     "execution_count": 9,
     "metadata": {},
     "output_type": "execute_result"
    }
   ],
   "source": [
    "df"
   ]
  },
  {
   "cell_type": "code",
   "execution_count": 10,
   "metadata": {},
   "outputs": [
    {
     "name": "stdout",
     "output_type": "stream",
     "text": [
      "[*********************100%***********************]  1 of 1 completed\n"
     ]
    },
    {
     "data": {
      "text/html": [
       "<div>\n",
       "<style scoped>\n",
       "    .dataframe tbody tr th:only-of-type {\n",
       "        vertical-align: middle;\n",
       "    }\n",
       "\n",
       "    .dataframe tbody tr th {\n",
       "        vertical-align: top;\n",
       "    }\n",
       "\n",
       "    .dataframe thead th {\n",
       "        text-align: right;\n",
       "    }\n",
       "</style>\n",
       "<table border=\"1\" class=\"dataframe\">\n",
       "  <thead>\n",
       "    <tr style=\"text-align: right;\">\n",
       "      <th></th>\n",
       "      <th>open</th>\n",
       "      <th>high</th>\n",
       "      <th>low</th>\n",
       "      <th>close</th>\n",
       "      <th>volume</th>\n",
       "      <th>date</th>\n",
       "      <th>settle_date</th>\n",
       "    </tr>\n",
       "  </thead>\n",
       "  <tbody>\n",
       "    <tr>\n",
       "      <th>0</th>\n",
       "      <td>118.860001</td>\n",
       "      <td>120.949997</td>\n",
       "      <td>118.320000</td>\n",
       "      <td>120.669998</td>\n",
       "      <td>19492200</td>\n",
       "      <td>2017-01-05</td>\n",
       "      <td>20170105</td>\n",
       "    </tr>\n",
       "    <tr>\n",
       "      <th>1</th>\n",
       "      <td>120.980003</td>\n",
       "      <td>123.879997</td>\n",
       "      <td>120.029999</td>\n",
       "      <td>123.410004</td>\n",
       "      <td>28545300</td>\n",
       "      <td>2017-01-06</td>\n",
       "      <td>20170106</td>\n",
       "    </tr>\n",
       "    <tr>\n",
       "      <th>2</th>\n",
       "      <td>123.550003</td>\n",
       "      <td>125.430000</td>\n",
       "      <td>123.040001</td>\n",
       "      <td>124.900002</td>\n",
       "      <td>22880400</td>\n",
       "      <td>2017-01-09</td>\n",
       "      <td>20170109</td>\n",
       "    </tr>\n",
       "    <tr>\n",
       "      <th>3</th>\n",
       "      <td>124.820000</td>\n",
       "      <td>125.500000</td>\n",
       "      <td>124.279999</td>\n",
       "      <td>124.349998</td>\n",
       "      <td>17324600</td>\n",
       "      <td>2017-01-10</td>\n",
       "      <td>20170110</td>\n",
       "    </tr>\n",
       "    <tr>\n",
       "      <th>4</th>\n",
       "      <td>124.349998</td>\n",
       "      <td>126.120003</td>\n",
       "      <td>124.059998</td>\n",
       "      <td>126.089996</td>\n",
       "      <td>18356500</td>\n",
       "      <td>2017-01-11</td>\n",
       "      <td>20170111</td>\n",
       "    </tr>\n",
       "    <tr>\n",
       "      <th>...</th>\n",
       "      <td>...</td>\n",
       "      <td>...</td>\n",
       "      <td>...</td>\n",
       "      <td>...</td>\n",
       "      <td>...</td>\n",
       "      <td>...</td>\n",
       "      <td>...</td>\n",
       "    </tr>\n",
       "    <tr>\n",
       "      <th>1255</th>\n",
       "      <td>344.000000</td>\n",
       "      <td>347.230011</td>\n",
       "      <td>343.220001</td>\n",
       "      <td>344.359985</td>\n",
       "      <td>10593300</td>\n",
       "      <td>2021-12-30</td>\n",
       "      <td>20211230</td>\n",
       "    </tr>\n",
       "    <tr>\n",
       "      <th>1256</th>\n",
       "      <td>343.019989</td>\n",
       "      <td>343.440002</td>\n",
       "      <td>336.269989</td>\n",
       "      <td>336.350006</td>\n",
       "      <td>12854800</td>\n",
       "      <td>2021-12-31</td>\n",
       "      <td>20211231</td>\n",
       "    </tr>\n",
       "    <tr>\n",
       "      <th>1257</th>\n",
       "      <td>338.299988</td>\n",
       "      <td>341.079987</td>\n",
       "      <td>337.190002</td>\n",
       "      <td>338.540009</td>\n",
       "      <td>14537900</td>\n",
       "      <td>2022-01-03</td>\n",
       "      <td>20220103</td>\n",
       "    </tr>\n",
       "    <tr>\n",
       "      <th>1258</th>\n",
       "      <td>339.950012</td>\n",
       "      <td>343.089996</td>\n",
       "      <td>331.869995</td>\n",
       "      <td>336.529999</td>\n",
       "      <td>15998000</td>\n",
       "      <td>2022-01-04</td>\n",
       "      <td>20220104</td>\n",
       "    </tr>\n",
       "    <tr>\n",
       "      <th>1259</th>\n",
       "      <td>333.019989</td>\n",
       "      <td>335.760010</td>\n",
       "      <td>323.859985</td>\n",
       "      <td>324.170013</td>\n",
       "      <td>20267240</td>\n",
       "      <td>2022-01-05</td>\n",
       "      <td>20220105</td>\n",
       "    </tr>\n",
       "  </tbody>\n",
       "</table>\n",
       "<p>1260 rows × 7 columns</p>\n",
       "</div>"
      ],
      "text/plain": [
       "            open        high         low       close    volume       date  \\\n",
       "0     118.860001  120.949997  118.320000  120.669998  19492200 2017-01-05   \n",
       "1     120.980003  123.879997  120.029999  123.410004  28545300 2017-01-06   \n",
       "2     123.550003  125.430000  123.040001  124.900002  22880400 2017-01-09   \n",
       "3     124.820000  125.500000  124.279999  124.349998  17324600 2017-01-10   \n",
       "4     124.349998  126.120003  124.059998  126.089996  18356500 2017-01-11   \n",
       "...          ...         ...         ...         ...       ...        ...   \n",
       "1255  344.000000  347.230011  343.220001  344.359985  10593300 2021-12-30   \n",
       "1256  343.019989  343.440002  336.269989  336.350006  12854800 2021-12-31   \n",
       "1257  338.299988  341.079987  337.190002  338.540009  14537900 2022-01-03   \n",
       "1258  339.950012  343.089996  331.869995  336.529999  15998000 2022-01-04   \n",
       "1259  333.019989  335.760010  323.859985  324.170013  20267240 2022-01-05   \n",
       "\n",
       "      settle_date  \n",
       "0        20170105  \n",
       "1        20170106  \n",
       "2        20170109  \n",
       "3        20170110  \n",
       "4        20170111  \n",
       "...           ...  \n",
       "1255     20211230  \n",
       "1256     20211231  \n",
       "1257     20220103  \n",
       "1258     20220104  \n",
       "1259     20220105  \n",
       "\n",
       "[1260 rows x 7 columns]"
      ]
     },
     "execution_count": 10,
     "metadata": {},
     "output_type": "execute_result"
    }
   ],
   "source": [
    "df2 = fetch_history('FB',data_beg_date, data_end_date)\n",
    "df2"
   ]
  },
  {
   "cell_type": "code",
   "execution_count": 21,
   "metadata": {},
   "outputs": [],
   "source": [
    "# sys.argv = ['','56','A','../../jupyter_notebooks/wf_port.csv','minute']  "
   ]
  },
  {
   "cell_type": "code",
   "execution_count": 22,
   "metadata": {},
   "outputs": [
    {
     "name": "stderr",
     "output_type": "stream",
     "text": [
      "2022-01-05 17:56:11,652 - root - INFO - scheduling update for minute 56\n",
      "2022-01-05 17:56:11,653 - root - INFO - Not sleeping\n",
      "2022-01-05 17:56:11,655 - root - INFO - updating history\n",
      "  0%|          | 0/27 [00:00<?, ?it/s, AAPL]"
     ]
    },
    {
     "name": "stdout",
     "output_type": "stream",
     "text": [
      "[*********************100%***********************]  1 of 1 completed"
     ]
    },
    {
     "name": "stderr",
     "output_type": "stream",
     "text": [
      "  4%|▎         | 1/27 [00:00<00:08,  3.07it/s, ABT] "
     ]
    },
    {
     "name": "stdout",
     "output_type": "stream",
     "text": [
      "\n",
      "[*********************100%***********************]  1 of 1 completed"
     ]
    },
    {
     "name": "stderr",
     "output_type": "stream",
     "text": [
      "  7%|▋         | 2/27 [00:00<00:07,  3.20it/s, ADBE]"
     ]
    },
    {
     "name": "stdout",
     "output_type": "stream",
     "text": [
      "\n",
      "[*********************100%***********************]  1 of 1 completed"
     ]
    },
    {
     "name": "stderr",
     "output_type": "stream",
     "text": [
      " 11%|█         | 3/27 [00:00<00:07,  3.12it/s, ADP] "
     ]
    },
    {
     "name": "stdout",
     "output_type": "stream",
     "text": [
      "\n",
      "[*********************100%***********************]  1 of 1 completed"
     ]
    },
    {
     "name": "stderr",
     "output_type": "stream",
     "text": [
      " 15%|█▍        | 4/27 [00:01<00:07,  3.17it/s, AMZN]"
     ]
    },
    {
     "name": "stdout",
     "output_type": "stream",
     "text": [
      "\n",
      "[*********************100%***********************]  1 of 1 completed"
     ]
    },
    {
     "name": "stderr",
     "output_type": "stream",
     "text": [
      " 19%|█▊        | 5/27 [00:01<00:06,  3.35it/s, AVGO]"
     ]
    },
    {
     "name": "stdout",
     "output_type": "stream",
     "text": [
      "\n",
      "[*********************100%***********************]  1 of 1 completed"
     ]
    },
    {
     "name": "stderr",
     "output_type": "stream",
     "text": [
      " 22%|██▏       | 6/27 [00:01<00:05,  3.53it/s, CRM] "
     ]
    },
    {
     "name": "stdout",
     "output_type": "stream",
     "text": [
      "\n",
      "[*********************100%***********************]  1 of 1 completed"
     ]
    },
    {
     "name": "stderr",
     "output_type": "stream",
     "text": [
      " 26%|██▌       | 7/27 [00:02<00:05,  3.61it/s, CSX]"
     ]
    },
    {
     "name": "stdout",
     "output_type": "stream",
     "text": [
      "\n",
      "[*********************100%***********************]  1 of 1 completed"
     ]
    },
    {
     "name": "stderr",
     "output_type": "stream",
     "text": [
      " 30%|██▉       | 8/27 [00:02<00:05,  3.48it/s, EW] "
     ]
    },
    {
     "name": "stdout",
     "output_type": "stream",
     "text": [
      "\n",
      "[*********************100%***********************]  1 of 1 completed"
     ]
    },
    {
     "name": "stderr",
     "output_type": "stream",
     "text": [
      " 33%|███▎      | 9/27 [00:02<00:04,  3.64it/s, EXR]"
     ]
    },
    {
     "name": "stdout",
     "output_type": "stream",
     "text": [
      "\n",
      "[*********************100%***********************]  1 of 1 completed"
     ]
    },
    {
     "name": "stderr",
     "output_type": "stream",
     "text": [
      " 37%|███▋      | 10/27 [00:02<00:04,  3.62it/s, FB] "
     ]
    },
    {
     "name": "stdout",
     "output_type": "stream",
     "text": [
      "\n",
      "[*********************100%***********************]  1 of 1 completed"
     ]
    },
    {
     "name": "stderr",
     "output_type": "stream",
     "text": [
      " 41%|████      | 11/27 [00:03<00:04,  3.65it/s, GOOGL]"
     ]
    },
    {
     "name": "stdout",
     "output_type": "stream",
     "text": [
      "\n",
      "[*********************100%***********************]  1 of 1 completed"
     ]
    },
    {
     "name": "stderr",
     "output_type": "stream",
     "text": [
      " 44%|████▍     | 12/27 [00:03<00:03,  3.76it/s, HD]   "
     ]
    },
    {
     "name": "stdout",
     "output_type": "stream",
     "text": [
      "\n",
      "[*********************100%***********************]  1 of 1 completed"
     ]
    },
    {
     "name": "stderr",
     "output_type": "stream",
     "text": [
      " 48%|████▊     | 13/27 [00:03<00:03,  3.51it/s, IDXX]"
     ]
    },
    {
     "name": "stdout",
     "output_type": "stream",
     "text": [
      "\n",
      "[*********************100%***********************]  1 of 1 completed"
     ]
    },
    {
     "name": "stderr",
     "output_type": "stream",
     "text": [
      " 52%|█████▏    | 14/27 [00:04<00:03,  3.55it/s, JPM] "
     ]
    },
    {
     "name": "stdout",
     "output_type": "stream",
     "text": [
      "\n",
      "[*********************100%***********************]  1 of 1 completed"
     ]
    },
    {
     "name": "stderr",
     "output_type": "stream",
     "text": [
      " 56%|█████▌    | 15/27 [00:04<00:03,  3.35it/s, KO] "
     ]
    },
    {
     "name": "stdout",
     "output_type": "stream",
     "text": [
      "\n",
      "[*********************100%***********************]  1 of 1 completed"
     ]
    },
    {
     "name": "stderr",
     "output_type": "stream",
     "text": [
      " 59%|█████▉    | 16/27 [00:04<00:03,  3.20it/s, MS]"
     ]
    },
    {
     "name": "stdout",
     "output_type": "stream",
     "text": [
      "\n",
      "[*********************100%***********************]  1 of 1 completed"
     ]
    },
    {
     "name": "stderr",
     "output_type": "stream",
     "text": [
      " 63%|██████▎   | 17/27 [00:05<00:03,  3.19it/s, MSCI]"
     ]
    },
    {
     "name": "stdout",
     "output_type": "stream",
     "text": [
      "\n",
      "[*********************100%***********************]  1 of 1 completed"
     ]
    },
    {
     "name": "stderr",
     "output_type": "stream",
     "text": [
      " 67%|██████▋   | 18/27 [00:05<00:02,  3.29it/s, MSFT]"
     ]
    },
    {
     "name": "stdout",
     "output_type": "stream",
     "text": [
      "\n",
      "[*********************100%***********************]  1 of 1 completed"
     ]
    },
    {
     "name": "stderr",
     "output_type": "stream",
     "text": [
      " 70%|███████   | 19/27 [00:05<00:02,  3.33it/s, NEE] "
     ]
    },
    {
     "name": "stdout",
     "output_type": "stream",
     "text": [
      "\n",
      "[*********************100%***********************]  1 of 1 completed"
     ]
    },
    {
     "name": "stderr",
     "output_type": "stream",
     "text": [
      " 74%|███████▍  | 20/27 [00:05<00:02,  3.12it/s, ROP]"
     ]
    },
    {
     "name": "stdout",
     "output_type": "stream",
     "text": [
      "\n",
      "[*********************100%***********************]  1 of 1 completed"
     ]
    },
    {
     "name": "stderr",
     "output_type": "stream",
     "text": [
      " 78%|███████▊  | 21/27 [00:06<00:02,  2.35it/s, SHW]"
     ]
    },
    {
     "name": "stdout",
     "output_type": "stream",
     "text": [
      "\n",
      "[*********************100%***********************]  1 of 1 completed"
     ]
    },
    {
     "name": "stderr",
     "output_type": "stream",
     "text": [
      " 81%|████████▏ | 22/27 [00:06<00:01,  2.58it/s, TMO]"
     ]
    },
    {
     "name": "stdout",
     "output_type": "stream",
     "text": [
      "\n",
      "[*********************100%***********************]  1 of 1 completed"
     ]
    },
    {
     "name": "stderr",
     "output_type": "stream",
     "text": [
      " 85%|████████▌ | 23/27 [00:07<00:01,  2.76it/s, TXN]"
     ]
    },
    {
     "name": "stdout",
     "output_type": "stream",
     "text": [
      "\n",
      "[*********************100%***********************]  1 of 1 completed"
     ]
    },
    {
     "name": "stderr",
     "output_type": "stream",
     "text": [
      " 89%|████████▉ | 24/27 [00:07<00:01,  2.85it/s, UNH]"
     ]
    },
    {
     "name": "stdout",
     "output_type": "stream",
     "text": [
      "\n",
      "[*********************100%***********************]  1 of 1 completed"
     ]
    },
    {
     "name": "stderr",
     "output_type": "stream",
     "text": [
      " 93%|█████████▎| 25/27 [00:07<00:00,  2.94it/s, SPY]"
     ]
    },
    {
     "name": "stdout",
     "output_type": "stream",
     "text": [
      "\n",
      "[*********************100%***********************]  1 of 1 completed"
     ]
    },
    {
     "name": "stderr",
     "output_type": "stream",
     "text": [
      " 96%|█████████▋| 26/27 [00:08<00:00,  2.96it/s, QQQ]"
     ]
    },
    {
     "name": "stdout",
     "output_type": "stream",
     "text": [
      "\n",
      "[*********************100%***********************]  1 of 1 completed"
     ]
    },
    {
     "name": "stderr",
     "output_type": "stream",
     "text": [
      "100%|██████████| 27/27 [00:08<00:00,  3.18it/s, QQQ]"
     ]
    },
    {
     "name": "stdout",
     "output_type": "stream",
     "text": [
      "\n"
     ]
    },
    {
     "name": "stderr",
     "output_type": "stream",
     "text": [
      "\n",
      "100%|██████████| 27/27 [02:38<00:00,  5.88s/it]\n",
      "2022-01-05 17:58:58,989 - root - INFO - sleeping until next 56 minute before next scheduling\n"
     ]
    },
    {
     "ename": "KeyboardInterrupt",
     "evalue": "",
     "output_type": "error",
     "traceback": [
      "\u001b[0;31m---------------------------------------------------------------------------\u001b[0m",
      "\u001b[0;31mKeyboardInterrupt\u001b[0m                         Traceback (most recent call last)",
      "\u001b[0;32m<ipython-input-22-b1feddc537ac>\u001b[0m in \u001b[0;36m<module>\u001b[0;34m\u001b[0m\n\u001b[1;32m      4\u001b[0m     \u001b[0mport_path\u001b[0m \u001b[0;34m=\u001b[0m \u001b[0;32mNone\u001b[0m \u001b[0;32mif\u001b[0m \u001b[0mlen\u001b[0m\u001b[0;34m(\u001b[0m\u001b[0msys\u001b[0m\u001b[0;34m.\u001b[0m\u001b[0margv\u001b[0m\u001b[0;34m)\u001b[0m\u001b[0;34m<\u001b[0m\u001b[0;36m4\u001b[0m \u001b[0;32melse\u001b[0m \u001b[0msys\u001b[0m\u001b[0;34m.\u001b[0m\u001b[0margv\u001b[0m\u001b[0;34m[\u001b[0m\u001b[0;36m3\u001b[0m\u001b[0;34m]\u001b[0m\u001b[0;34m\u001b[0m\u001b[0m\n\u001b[1;32m      5\u001b[0m     \u001b[0munit\u001b[0m \u001b[0;34m=\u001b[0m \u001b[0;34m'hour'\u001b[0m \u001b[0;32mif\u001b[0m \u001b[0mlen\u001b[0m\u001b[0;34m(\u001b[0m\u001b[0msys\u001b[0m\u001b[0;34m.\u001b[0m\u001b[0margv\u001b[0m\u001b[0;34m)\u001b[0m\u001b[0;34m<\u001b[0m\u001b[0;36m5\u001b[0m \u001b[0;32melse\u001b[0m \u001b[0msys\u001b[0m\u001b[0;34m.\u001b[0m\u001b[0margv\u001b[0m\u001b[0;34m[\u001b[0m\u001b[0;36m4\u001b[0m\u001b[0;34m]\u001b[0m\u001b[0;34m\u001b[0m\u001b[0m\n\u001b[0;32m----> 6\u001b[0;31m     \u001b[0mschedule_updates\u001b[0m\u001b[0;34m(\u001b[0m\u001b[0mt\u001b[0m\u001b[0;34m=\u001b[0m\u001b[0mt\u001b[0m\u001b[0;34m,\u001b[0m\u001b[0munit\u001b[0m\u001b[0;34m=\u001b[0m\u001b[0munit\u001b[0m\u001b[0;34m,\u001b[0m\u001b[0mbeg_sym\u001b[0m\u001b[0;34m=\u001b[0m\u001b[0mbs\u001b[0m\u001b[0;34m,\u001b[0m\u001b[0mport_path\u001b[0m\u001b[0;34m=\u001b[0m\u001b[0mport_path\u001b[0m\u001b[0;34m)\u001b[0m\u001b[0;34m\u001b[0m\u001b[0m\n\u001b[0m",
      "\u001b[0;32m<ipython-input-6-b425e05a5085>\u001b[0m in \u001b[0;36mschedule_updates\u001b[0;34m(t, unit, beg_sym, port_path)\u001b[0m\n\u001b[1;32m    106\u001b[0m         \u001b[0mupdate_db\u001b[0m\u001b[0;34m(\u001b[0m\u001b[0mbeg_sym\u001b[0m\u001b[0;34m=\u001b[0m\u001b[0mbeg_sym\u001b[0m\u001b[0;34m,\u001b[0m\u001b[0mport_path\u001b[0m\u001b[0;34m=\u001b[0m\u001b[0mport_path\u001b[0m\u001b[0;34m)\u001b[0m\u001b[0;34m\u001b[0m\u001b[0m\n\u001b[1;32m    107\u001b[0m         \u001b[0mlogger\u001b[0m\u001b[0;34m.\u001b[0m\u001b[0minfo\u001b[0m\u001b[0;34m(\u001b[0m\u001b[0;34mf\"sleeping until next {t} {unit} before next scheduling\"\u001b[0m\u001b[0;34m)\u001b[0m\u001b[0;34m\u001b[0m\u001b[0m\n\u001b[0;32m--> 108\u001b[0;31m         \u001b[0mtime\u001b[0m\u001b[0;34m.\u001b[0m\u001b[0msleep\u001b[0m\u001b[0;34m(\u001b[0m\u001b[0;36m5\u001b[0m\u001b[0;34m*\u001b[0m\u001b[0;36m60\u001b[0m\u001b[0;34m)\u001b[0m\u001b[0;34m\u001b[0m\u001b[0m\n\u001b[0m",
      "\u001b[0;31mKeyboardInterrupt\u001b[0m: "
     ]
    }
   ],
   "source": [
    "if __name__=='__main__':\n",
    "    t = 20 if len(sys.argv)<3 else int(sys.argv[1])\n",
    "    bs = None if len(sys.argv)<3 else sys.argv[2]\n",
    "    port_path = None if len(sys.argv)<4 else sys.argv[3]\n",
    "    unit = 'hour' if len(sys.argv)<5 else sys.argv[4]\n",
    "    schedule_updates(t=t,unit=unit,beg_sym=bs,port_path=port_path)\n"
   ]
  },
  {
   "cell_type": "code",
   "execution_count": 15,
   "metadata": {},
   "outputs": [
    {
     "name": "stdout",
     "output_type": "stream",
     "text": [
      "[NbConvertApp] Converting notebook redis_server_stock_data_update.ipynb to script\n",
      "[NbConvertApp] Writing 5003 bytes to redis_server_stock_data_update.py\n"
     ]
    }
   ],
   "source": [
    "# !jupyter nbconvert --to script redis_server_stock_data_update.ipynb"
   ]
  }
 ],
 "metadata": {
  "kernelspec": {
   "display_name": "Python 3",
   "language": "python",
   "name": "python3"
  },
  "language_info": {
   "codemirror_mode": {
    "name": "ipython",
    "version": 3
   },
   "file_extension": ".py",
   "mimetype": "text/x-python",
   "name": "python",
   "nbconvert_exporter": "python",
   "pygments_lexer": "ipython3",
   "version": "3.6.5"
  }
 },
 "nbformat": 4,
 "nbformat_minor": 4
}
