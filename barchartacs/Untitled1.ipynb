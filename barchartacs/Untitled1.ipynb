{
 "cells": [
  {
   "cell_type": "code",
   "execution_count": 1,
   "metadata": {},
   "outputs": [],
   "source": [
    "APP_TO_RUN='test_with_db'"
   ]
  },
  {
   "cell_type": "code",
   "execution_count": null,
   "metadata": {},
   "outputs": [],
   "source": []
  },
  {
   "cell_type": "code",
   "execution_count": 2,
   "metadata": {
    "scrolled": true
   },
   "outputs": [],
   "source": [
    "# new Cached dash_extensions\n",
    "if APP_TO_RUN == 'test_dash_table':\n",
    "    import datetime\n",
    "    import dash_core_components as dcc\n",
    "    import dash_html_components as html\n",
    "    import dash_table\n",
    "    import numpy as np\n",
    "    import pandas as pd\n",
    "    from dash_extensions.enrich import Dash, ServersideOutput, Output, Input, State, Trigger\n",
    "\n",
    "    ROWS_FOR_DASHTABLE=1000\n",
    "\n",
    "    def _make_df(value):\n",
    "        dict_df = {'rownum':list(range(1,value+1))}\n",
    "        for i in range(1,11):\n",
    "            d = np.random.rand(int(value))\n",
    "            dict_df[f'c{i}']=d\n",
    "        df = pd.DataFrame(dict_df)\n",
    "        return df\n",
    "\n",
    "\n",
    "    def _make_dt(dt_id,df,displayed_rows=100,page_action='native'):\n",
    "        dt = dash_table.DataTable(\n",
    "            id=dt_id,\n",
    "            page_current= 0,\n",
    "            page_size=displayed_rows,\n",
    "            page_action=page_action, \n",
    "        )\n",
    "        dt.data=df.to_dict('rows')\n",
    "        dt.columns=[{\"name\": i, \"id\": i} for i in df.columns.values]                    \n",
    "        return dt\n",
    "\n",
    "    # Drop down options.\n",
    "    options = [{\"label\": x, \"value\": x} for x in [1, 10, 100, 1000, 10000, 100000, 1000000, 10000000, 100000000]]\n",
    "    # Create app.\n",
    "    url_base_pathname='/app8812/'\n",
    "    app = Dash(prevent_initial_callbacks=True,url_base_pathname=url_base_pathname)\n",
    "\n",
    "    server = app.server\n",
    "    dt_data = _make_dt(\n",
    "        'dt_data',pd.DataFrame(),\n",
    "        displayed_rows=ROWS_FOR_DASHTABLE,page_action='custom'\n",
    "    )\n",
    "\n",
    "    dt_data_div = html.Div([dt_data],id='dt_data_div')\n",
    "\n",
    "    app.layout = html.Div([\n",
    "        html.Button(\"Run benchmark (with cache)\", id=\"btn\"), dcc.Dropdown(id=\"dd\", options=options, value=1),\n",
    "        dcc.Store(id=\"time\"), \n",
    "        dcc.Loading(children=[dcc.Store(id=\"store\"),dt_data_div], \n",
    "                                          fullscreen=True, type=\"dot\"), html.Div(id=\"log\")\n",
    "    ])\n",
    "\n",
    "\n",
    "    @app.callback([ServersideOutput(\"store\", \"data\"), ServersideOutput(\"time\", \"data\")],\n",
    "                  Trigger(\"btn\", \"n_clicks\"), State(\"dd\", \"value\"))\n",
    "    def query(value):\n",
    "        df = _make_df(value)\n",
    "        return df, datetime.datetime.now()\n",
    "\n",
    "    # @app.callback([Output(\"log\", \"children\"),Output('dt_data_div','children')], Input(\"store\", \"data\"), State(\"time\", \"data\"))\n",
    "    @app.callback([Output(\"log\", \"children\"),Output('dt_data','data'),\n",
    "                   Output('dt_data','columns'),Output('dt_data','page_count')], \n",
    "                  [Input(\"store\", \"data\"),Input('dt_data','page_current'),Input('dt_data','page_size')], \n",
    "                  State(\"time\", \"data\"))\n",
    "    def calc(df, page_current,page_size,time):\n",
    "        toc = datetime.datetime.now()\n",
    "        elapsed_txt = \"ELAPSED = {}s\".format((toc - time).total_seconds())\n",
    "        pagcur = page_current\n",
    "        if (pagcur is None) or (pagcur<0):\n",
    "            pagcur = 0\n",
    "        ps = page_size\n",
    "        if (ps is None) or (ps<1):\n",
    "            ps = ROWS_FOR_DASHTABLE\n",
    "        beg_row = page_current*page_size\n",
    "        if pagcur*ps > len(df):\n",
    "            beg_row = len(df) - ps\n",
    "\n",
    "        dict_data = df.iloc[beg_row:beg_row + ps].to_dict('records')\n",
    "        cols = [{\"name\": i, \"id\": i} for i in df.columns.values]\n",
    "        page_count = int(len(df)/ps) + (1 if len(df) % ps > 0 else 0)\n",
    "        return elapsed_txt,dict_data,cols,page_count\n",
    "\n",
    "\n",
    "    if __name__ == '__main__':\n",
    "        app.run_server(port=8812)\n",
    "    "
   ]
  },
  {
   "cell_type": "code",
   "execution_count": 3,
   "metadata": {},
   "outputs": [],
   "source": [
    "?db_info.get_db_info"
   ]
  },
  {
   "cell_type": "code",
   "execution_count": 4,
   "metadata": {},
   "outputs": [
    {
     "name": "stdout",
     "output_type": "stream",
     "text": [
      "  sec_db\n",
      "Dash is running on http://127.0.0.1:8812/app8812/\n",
      "\n"
     ]
    },
    {
     "name": "stderr",
     "output_type": "stream",
     "text": [
      "2020-08-02 14:17:13,348 - __main__ - INFO - Dash is running on http://127.0.0.1:8812/app8812/\n",
      "\n"
     ]
    },
    {
     "name": "stdout",
     "output_type": "stream",
     "text": [
      " Warning: This is a development server. Do not use app.run_server\n"
     ]
    },
    {
     "name": "stderr",
     "output_type": "stream",
     "text": [
      "2020-08-02 14:17:13,349 - __main__ - INFO -  Warning: This is a development server. Do not use app.run_server\n"
     ]
    },
    {
     "name": "stdout",
     "output_type": "stream",
     "text": [
      " in production, use a production WSGI server like gunicorn instead.\n",
      "\n"
     ]
    },
    {
     "name": "stderr",
     "output_type": "stream",
     "text": [
      "2020-08-02 14:17:13,350 - __main__ - INFO -  in production, use a production WSGI server like gunicorn instead.\n",
      "\n"
     ]
    },
    {
     "name": "stdout",
     "output_type": "stream",
     "text": [
      " * Serving Flask app \"__main__\" (lazy loading)\n",
      " * Environment: production\n",
      "\u001b[31m   WARNING: This is a development server. Do not use it in a production deployment.\u001b[0m\n",
      "\u001b[2m   Use a production WSGI server instead.\u001b[0m\n",
      " * Debug mode: off\n"
     ]
    },
    {
     "name": "stderr",
     "output_type": "stream",
     "text": [
      "2020-08-02 14:17:13,361 - werkzeug - INFO -  * Running on http://127.0.0.1:8812/ (Press CTRL+C to quit)\n"
     ]
    }
   ],
   "source": [
    "if APP_TO_RUN == 'test_with_db':\n",
    "    import sys, os\n",
    "    import pathlib\n",
    "    import datetime\n",
    "    import dash_core_components as dcc\n",
    "    import dash_html_components as html\n",
    "    from dash_extensions.enrich import Dash, ServersideOutput, Output, Input, State, Trigger\n",
    "    from dash.exceptions import PreventUpdate\n",
    "    import dash_table\n",
    "    import numpy as np\n",
    "    import pandas as pd\n",
    "    thisdir = os.path.abspath('.')\n",
    "    thisparentdir = os.path.abspath('../')\n",
    "    if thisdir not in sys.path:\n",
    "        sys.path.append(thisdir)\n",
    "    if thisparentdir not in sys.path:\n",
    "        sys.path.append(thisparentdir)        \n",
    "    from barchartacs import db_info\n",
    "\n",
    "    # get pga\n",
    "    pga = db_info.get_db_info()\n",
    "    ROWS_FOR_DASHTABLE=1000\n",
    "    MAIN_ID = 'tdb'\n",
    "    \n",
    "    # Create app.\n",
    "    url_base_pathname='/app8812/'\n",
    "    app = Dash(prevent_initial_callbacks=True,url_base_pathname=url_base_pathname)\n",
    "    app.title='test_with_db'\n",
    "    server = app.server\n",
    "    \n",
    "    \n",
    "    def _mkid(s,main_id=MAIN_ID):\n",
    "        return f\"{main_id}_{s}\"\n",
    "\n",
    "    def _make_df(value):\n",
    "        dict_df = {'rownum':list(range(1,value+1))}\n",
    "        for i in range(1,11):\n",
    "            d = np.random.rand(int(value))\n",
    "            dict_df[f'c{i}']=d\n",
    "        df = pd.DataFrame(dict_df)\n",
    "        return df\n",
    "\n",
    "\n",
    "    def _make_dt(dt_id,df,displayed_rows=100,page_action='native'):\n",
    "        dt = dash_table.DataTable(\n",
    "            id=dt_id,\n",
    "            page_current= 0,\n",
    "            page_size=displayed_rows,\n",
    "            page_action=page_action, \n",
    "        )\n",
    "        dt.data=df.to_dict('rows')\n",
    "        dt.columns=[{\"name\": i, \"id\": i} for i in df.columns.values]                    \n",
    "        return dt\n",
    "\n",
    "    # create input box for sql select (WITHOUT THE WORD SELECT)\n",
    "    select_input = dcc.Input(\n",
    "        id=_mkid('select_input'),debounce=True,\n",
    "        placeholder=\"Enter sql select statement (without the word select)\",\n",
    "        style = dict(width = '50%',display = 'table-cell')\n",
    "    )\n",
    "    \n",
    "    main_store = dcc.Store(id=_mkid('main_store'))\n",
    "    dt_data = _make_dt(\n",
    "        _mkid('dt_data'),pd.DataFrame(),\n",
    "        displayed_rows=ROWS_FOR_DASHTABLE,page_action='custom'\n",
    "    )\n",
    "\n",
    "    dt_data_div = html.Div([dt_data],_mkid('dt_data_div'))\n",
    "\n",
    "    app.layout = html.Div([select_input, \n",
    "        dcc.Loading(children=[main_store,dt_data_div], fullscreen=True, type=\"dot\")])\n",
    "\n",
    "    @app.callback([ServersideOutput(main_store.id, \"data\")],\n",
    "                  Trigger(select_input.id, \"n_submit\"),\n",
    "                  State(select_input.id,'value'))\n",
    "    def _query(sql):\n",
    "        print(f\"_query sql: {sql}\")\n",
    "        if sql is None or len(sql)<1:\n",
    "            raise PreventUpdate('no sql query')\n",
    "        df = pga.get_sql(sql)\n",
    "        cols = list(df.columns.values)\n",
    "        df['rownum'] = list(range(1,len(df)+1))\n",
    "        df = df[['rownum'] + cols]\n",
    "        return df\n",
    "\n",
    "    @app.callback([Output(dt_data.id,'data'),Output(dt_data.id,'columns'),\n",
    "                   Output(dt_data.id,'page_count')], \n",
    "                  [Input(main_store.id, \"data\"),Input(dt_data.id,'page_current'),\n",
    "                   Input(dt_data.id,'page_size')])\n",
    "    def display_df(df, page_current,page_size):\n",
    "        pagcur = page_current\n",
    "        if (pagcur is None) or (pagcur<0):\n",
    "            pagcur = 0\n",
    "        ps = page_size\n",
    "        if (ps is None) or (ps<1):\n",
    "            ps = ROWS_FOR_DASHTABLE\n",
    "        beg_row = page_current*page_size\n",
    "        if pagcur*ps > len(df):\n",
    "            beg_row = len(df) - ps\n",
    "\n",
    "        dict_data = df.iloc[beg_row:beg_row + ps].to_dict('records')\n",
    "        cols = [{\"name\": i, \"id\": i} for i in df.columns.values]\n",
    "        page_count = int(len(df)/ps) + (1 if len(df) % ps > 0 else 0)\n",
    "        return dict_data,cols,page_count\n",
    "\n",
    "    if __name__ == '__main__':\n",
    "        app.run_server(port=8812)\n",
    "        "
   ]
  },
  {
   "cell_type": "code",
   "execution_count": null,
   "metadata": {},
   "outputs": [],
   "source": []
  }
 ],
 "metadata": {
  "kernelspec": {
   "display_name": "Python 3",
   "language": "python",
   "name": "python3"
  },
  "language_info": {
   "codemirror_mode": {
    "name": "ipython",
    "version": 3
   },
   "file_extension": ".py",
   "mimetype": "text/x-python",
   "name": "python",
   "nbconvert_exporter": "python",
   "pygments_lexer": "ipython3",
   "version": "3.6.5"
  }
 },
 "nbformat": 4,
 "nbformat_minor": 4
}
