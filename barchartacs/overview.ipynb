{
 "cells": [
  {
   "cell_type": "markdown",
   "metadata": {},
   "source": [
    "# barchartacs - create volatility skew analysis for commodity contracts using commodity option settlement data from Barchart's Adavanced Commodity Service (ACS)\n",
    "\n",
    "### Overview:\n",
    "Barchart.com has a paid service that - for a monthly fee - allows users to obtain daily option price settlements on all major commodities.  This project uses selscrape selenium python api to login to and obtain these files, and to update a Postgres database (sec_db) which contains both options and futures daily settlements.  After creating the Postgres database, several csv files are created which house implied volatilties for these options, and volatility skew information for all OTM options, normalized by percentage out of the money.\n",
    "\n",
    "### Usage: Building the Postgres Database: \n",
    "#### First, you must create/initialize a local (or remote) Postgres database:\n",
    "On Linux (Windows not supported), run the .sh ```step_00_create_tables.sh```\n",
    "\n",
    "#### Second, there are two different ways of adding options and futures data to the postgres database:\n",
    "\n",
    "* Method 1 - Run the ipynb notebooks\n",
    "    * ```step_01_download_monthly_acs_files.ipynb```, \n",
    "    * ```step_02_options_table_loader.ipynb```, \n",
    "    * ```step_03_underlying_table_loader.ipynb```, \n",
    "    * ```step_04_build_df_iv_skew_csvs.ipynb```, and \n",
    "    * ```step_05_options_table_daily_loader.ipynb``` .\n",
    "\n",
    "\n",
    "* Method 2 - On Linux (Windows not supported), run the .sh: \n",
    "    * ```step_01_download_monthly_acs_files.sh```, \n",
    "    * ```step_02_options_table_loader.sh```, \n",
    "    * ```step_03_underlying_table_loader.sh```, \n",
    "    * then run the ```step_04_build_df_iv_skew_csvs.ipynb``` and ```step_05_options_table_daily_loader.ipynb``` .\n",
    "    \n",
    "    "
   ]
  }
 ],
 "metadata": {
  "kernelspec": {
   "display_name": "Python 3",
   "language": "python",
   "name": "python3"
  },
  "language_info": {
   "codemirror_mode": {
    "name": "ipython",
    "version": 3
   },
   "file_extension": ".py",
   "mimetype": "text/x-python",
   "name": "python",
   "nbconvert_exporter": "python",
   "pygments_lexer": "ipython3",
   "version": "3.6.5"
  }
 },
 "nbformat": 4,
 "nbformat_minor": 2
}
