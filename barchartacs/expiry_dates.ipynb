{
 "cells": [
  {
   "cell_type": "markdown",
   "metadata": {},
   "source": [
    "## Various ways to get Options expiration dates"
   ]
  },
  {
   "cell_type": "markdown",
   "metadata": {},
   "source": []
  },
  {
   "cell_type": "code",
   "execution_count": 404,
   "metadata": {},
   "outputs": [],
   "source": [
    "import os,sys\n",
    "import numpy as np\n",
    "import pandas as pd\n",
    "from pandas.tseries.offsets import BDay\n",
    "import pandas_datareader.data as pdr\n",
    "import datetime\n",
    "import pytz\n",
    "import pathlib\n",
    "from dateutil.relativedelta import *\n",
    "import pandas_market_calendars as pmc\n",
    "import pathlib\n",
    "from dashapp import dashapp2 as dashapp\n",
    "import os,sys\n",
    "import requests\n",
    "import io\n",
    "import subprocess\n",
    "import re\n",
    "import xml.etree.ElementTree as ET\n",
    "import xmltodict\n",
    "import zipfile\n",
    "import chrome_driver_upload as cdu\n",
    "from pandas.tseries.holiday import USFederalHolidayCalendar\n",
    "import sel_scrape as sc\n",
    "import db_info\n",
    "import pdb\n",
    "\n",
    "from tqdm import tqdm,tqdm_notebook"
   ]
  },
  {
   "cell_type": "code",
   "execution_count": 2,
   "metadata": {},
   "outputs": [],
   "source": [
    "DOWNLOAD_CHROMEDRIVER = False\n",
    "MONTH_CODES = 'FGHJKMNQUVXZ'\n",
    "DICT_MONTH_CODE = {MONTH_CODES[i]:i+1 for i in range(len(MONTH_CODES))}\n",
    "TIMEZONE = 'US/Eastern'\n",
    "CHROME_DOWNLOADED=False\n",
    "THIS_DECADE = int(str(int(datetime.datetime.now().year))[2])*10"
   ]
  },
  {
   "cell_type": "code",
   "execution_count": 5,
   "metadata": {},
   "outputs": [],
   "source": [
    "if DOWNLOAD_CHROMEDRIVER and not CHROME_DOWNLOADED:\n",
    "    cdu.download_chromedriver()\n",
    "    CHROME_DOWNLOADED=True\n",
    "# sac = sc.SelScrape(headless=False,driver_name='chrome')#,profile_path=pp)\n",
    "# sac.goto('https://www.cmegroup.com/tools-information/quikstrike/options-calendar.html')\n"
   ]
  },
  {
   "cell_type": "markdown",
   "metadata": {},
   "source": [
    "### Methods to extract all current CME expirations from CME website"
   ]
  },
  {
   "cell_type": "code",
   "execution_count": 459,
   "metadata": {},
   "outputs": [],
   "source": [
    "def get_full_underlying_symbol(r,decade=2,underlying_col='Underlying Symbol'):\n",
    "    underyear = int(re.findall('[0-9]{1,2}$',r[underlying_col])[0])\n",
    "    if underyear > 9:\n",
    "        return r[underlying_col]\n",
    "    under_symbol_no_year = r[underlying_col][:-1]\n",
    "    return under_symbol_no_year + str(decade*10+underyear)\n",
    "\n",
    "def get_full_option_symbol(r,decade=2,option_col='Option Symbol',\n",
    "                           underlying_col='Underlying Symbol'):\n",
    "    optyear = int(re.findall('[0-9]{1,2}$',r[option_col])[0])\n",
    "    if optyear>9:\n",
    "        return r[option_col]\n",
    "\n",
    "    # we have a one character option year\n",
    "    # first see if this option month is different than the underlying month\n",
    "    op_monthcode = re.findall('[A-Z][0-9]{1,2}$',r[option_col])[0][0]\n",
    "    un_monthcode = re.findall('[A-Z][0-9]{1,2}$',r[underlying_col])[0][0]\n",
    "    underyear = int(re.findall('[0-9]{1,2}$',r[underlying_col])[0])\n",
    "    if (underyear > 9) and (op_monthcode==un_monthcode):\n",
    "        return r[option_col][:-1] + str(underyear)\n",
    "    opt_symbol_no_year = r[option_col][:-1]\n",
    "    return opt_symbol_no_year + str(decade*10+optyear)\n",
    "\n"
   ]
  },
  {
   "cell_type": "code",
   "execution_count": 461,
   "metadata": {},
   "outputs": [],
   "source": [
    "# df_cme_expiry.loc[df_cme_expiry.option_symbol=='LOF20','option_symbol'] = 'LOF0'\n",
    "# r = df_cme_expiry[df_cme_expiry.option_symbol=='LOF0'].iloc[0]\n",
    "# get_full_option_symbol(r,underlying_col='underlying_symbol')"
   ]
  },
  {
   "cell_type": "code",
   "execution_count": 462,
   "metadata": {},
   "outputs": [],
   "source": [
    "def get_cme_expiries():    \n",
    "    df_eee_all = None\n",
    "    for i in tqdm(range(1,7)):\n",
    "        url = f'https://cmegroup-tools.quikstrike.net/User/Export/CME/ExpirationCalendar.aspx?GroupId={i}'\n",
    "        df_eee_temp = pd.read_csv(url)\n",
    "        if df_eee_all is None:\n",
    "            df_eee_all = df_eee_temp.copy()\n",
    "        else:\n",
    "            df_eee_all = df_eee_all.append(df_eee_temp,ignore_index=True)\n",
    "        df_eee_all.index = list(range(len(df_eee_all)))\n",
    "\n",
    "    oexps = [s[:10] for s in df_eee_all['Option Expiration Date (CT)'].values]\n",
    "    exp_dts = [datetime.datetime.strptime(str_date,'%m/%d/%Y') for str_date in oexps]\n",
    "    df_eee_all['option_expiry'] = exp_dts\n",
    "\n",
    "    unexps = ['01/01/1900' if 'nan' in str(s).lower() else s[:10] for s in df_eee_all['Underlying Expiration Date (CT)'].values]\n",
    "    unexp_dts = [datetime.datetime.strptime(str_date,'%m/%d/%Y') for str_date in unexps]\n",
    "    df_eee_all['underlying_expiry'] = unexp_dts\n",
    "\n",
    "    df_eee_all['underlying_symbol'] = df_eee_all.apply(get_full_underlying_symbol,axis=1)\n",
    "    opsym_lambda = lambda r:get_full_option_symbol(r,underlying_col='underlying_symbol')\n",
    "    df_eee_all['option_symbol'] = df_eee_all.apply(opsym_lambda,axis=1)\n",
    "    return df_eee_all\n"
   ]
  },
  {
   "cell_type": "code",
   "execution_count": 463,
   "metadata": {},
   "outputs": [
    {
     "name": "stderr",
     "output_type": "stream",
     "text": [
      "100%|██████████| 6/6 [00:34<00:00,  5.71s/it]\n"
     ]
    }
   ],
   "source": [
    "df_cme_expiry = get_cme_expiries()"
   ]
  },
  {
   "cell_type": "code",
   "execution_count": 465,
   "metadata": {},
   "outputs": [
    {
     "data": {
      "text/html": [
       "<div>\n",
       "<style scoped>\n",
       "    .dataframe tbody tr th:only-of-type {\n",
       "        vertical-align: middle;\n",
       "    }\n",
       "\n",
       "    .dataframe tbody tr th {\n",
       "        vertical-align: top;\n",
       "    }\n",
       "\n",
       "    .dataframe thead th {\n",
       "        text-align: right;\n",
       "    }\n",
       "</style>\n",
       "<table border=\"1\" class=\"dataframe\">\n",
       "  <thead>\n",
       "    <tr style=\"text-align: right;\">\n",
       "      <th></th>\n",
       "      <th>Option First Trade Date</th>\n",
       "      <th>Option Expiration Date (CT)</th>\n",
       "      <th>Option Product</th>\n",
       "      <th>Option Symbol</th>\n",
       "      <th>Underlying Symbol</th>\n",
       "      <th>Underlying Expiration Date (CT)</th>\n",
       "      <th>option_expiry</th>\n",
       "      <th>underlying_expiry</th>\n",
       "      <th>underlying_symbol</th>\n",
       "      <th>option_symbol</th>\n",
       "    </tr>\n",
       "  </thead>\n",
       "  <tbody>\n",
       "    <tr>\n",
       "      <th>204</th>\n",
       "      <td>08/24/2020</td>\n",
       "      <td>11/20/2020 13:20:00</td>\n",
       "      <td>Soybean Options</td>\n",
       "      <td>OZSZ0</td>\n",
       "      <td>ZSF1</td>\n",
       "      <td>01/14/2021 12:01:00</td>\n",
       "      <td>2020-11-20</td>\n",
       "      <td>2021-01-14</td>\n",
       "      <td>ZSF21</td>\n",
       "      <td>OZSZ20</td>\n",
       "    </tr>\n",
       "    <tr>\n",
       "      <th>605</th>\n",
       "      <td>06/10/2019</td>\n",
       "      <td>12/14/2029 12:30:00</td>\n",
       "      <td>Crude Oil Options</td>\n",
       "      <td>LOF0</td>\n",
       "      <td>CLF30</td>\n",
       "      <td>12/19/2029 13:30:00</td>\n",
       "      <td>2029-12-14</td>\n",
       "      <td>2029-12-19</td>\n",
       "      <td>CLF30</td>\n",
       "      <td>LOF30</td>\n",
       "    </tr>\n",
       "  </tbody>\n",
       "</table>\n",
       "</div>"
      ],
      "text/plain": [
       "    Option First Trade Date Option Expiration Date (CT)     Option Product  \\\n",
       "204              08/24/2020         11/20/2020 13:20:00    Soybean Options   \n",
       "605              06/10/2019         12/14/2029 12:30:00  Crude Oil Options   \n",
       "\n",
       "    Option Symbol Underlying Symbol Underlying Expiration Date (CT)  \\\n",
       "204         OZSZ0              ZSF1             01/14/2021 12:01:00   \n",
       "605          LOF0             CLF30             12/19/2029 13:30:00   \n",
       "\n",
       "    option_expiry underlying_expiry underlying_symbol option_symbol  \n",
       "204    2020-11-20        2021-01-14             ZSF21        OZSZ20  \n",
       "605    2029-12-14        2029-12-19             CLF30         LOF30  "
      ]
     },
     "execution_count": 465,
     "metadata": {},
     "output_type": "execute_result"
    }
   ],
   "source": [
    "df_cme_expiry.query(\"option_symbol in ['OZSZ20','LOF30']\")"
   ]
  },
  {
   "cell_type": "code",
   "execution_count": 269,
   "metadata": {},
   "outputs": [],
   "source": [
    "uk_holidays = open('expiration_data/uk_holidays.csv').readlines()\n",
    "# uksplit = [','.join([t.strip('\\n') for t in l.split(',')]) for l in  uk_holidays]\n",
    "uksplit = [','.join(l.split(',')) for l in  uk_holidays]\n",
    "fio = io.StringIO()\n",
    "fio.writelines(uksplit)\n",
    "fio.seek(0)\n",
    "df_ukh = pd.read_csv(fio)\n",
    "def ukh_to_yyyymmdd(month_day,year):\n",
    "    md = month_day.strip()\n",
    "    d = datetime.datetime.strptime(f'{md} {year}', '%B %d %Y')\n",
    "    return d\n",
    "#     return d.strftime(\"%Y-%m-%d\")\n",
    "\n",
    "year_cols = [c for c in df_ukh.columns.values if '20' in str(c)]\n",
    "for c in year_cols:\n",
    "    df_ukh[c] = df_ukh[c].apply(lambda s:ukh_to_yyyymmdd(s,c))\n",
    "uk_holidays = sorted(df_ukh[year_cols].values.reshape(-1))\n"
   ]
  },
  {
   "cell_type": "code",
   "execution_count": 288,
   "metadata": {
    "scrolled": true
   },
   "outputs": [],
   "source": [
    "bday_us = pd.offsets.CustomBusinessDay(calendar=USFederalHolidayCalendar())\n",
    "# bday_uk = pd.offsets.CustomBusinessDay(calendar=pmc.exchange_calendar_ice.ICEExchangeCalendar().regular_holidays)\n",
    "bday_uk = pd.offsets.CustomBusinessDay(holidays=uk_holidays)\n",
    "\n",
    "from pandas.tseries.holiday import AbstractHolidayCalendar, Holiday, nearest_workday, \\\n",
    "    next_monday,USMartinLutherKingJr, USPresidentsDay, GoodFriday, USMemorialDay, \\\n",
    "    USLaborDay, USThanksgivingDay\n",
    "\n",
    "class USTradingCalendar(AbstractHolidayCalendar):\n",
    "    rules = [\n",
    "        Holiday('NewYearsDay', month=1, day=1, observance=nearest_workday),\n",
    "        USMartinLutherKingJr,\n",
    "        USPresidentsDay,\n",
    "        GoodFriday,\n",
    "        USMemorialDay,\n",
    "        Holiday('USIndependenceDay', month=7, day=4, observance=nearest_workday),\n",
    "        USLaborDay,\n",
    "        USThanksgivingDay,\n",
    "        Holiday('Christmas', month=12, day=25, observance=nearest_workday),\n",
    "    ]\n",
    "\n",
    "bday_us = pd.offsets.CustomBusinessDay(calendar=USTradingCalendar())\n"
   ]
  },
  {
   "cell_type": "code",
   "execution_count": null,
   "metadata": {},
   "outputs": [],
   "source": []
  },
  {
   "cell_type": "code",
   "execution_count": 391,
   "metadata": {},
   "outputs": [],
   "source": [
    "def get_thanksgiving_dt(year):    \n",
    "    iyyyy = int(year)\n",
    "    holidays = USTradingCalendar().holidays(start=f'{iyyyy}-11-01', end=f'{iyyyy}-11-30', return_name=True)\n",
    "    df_holidays = holidays.to_frame()\n",
    "    df_holidays =df_holidays.reset_index()\n",
    "    df_holidays.columns=['hdate','hname']\n",
    "    return df_holidays[['giving' in v.lower() for v  in df_holidays.hname.values]].hdate.values[0]\n",
    "\n",
    "\n"
   ]
  },
  {
   "cell_type": "code",
   "execution_count": null,
   "metadata": {},
   "outputs": [],
   "source": []
  },
  {
   "cell_type": "code",
   "execution_count": 472,
   "metadata": {},
   "outputs": [],
   "source": [
    "\n",
    "def get_nth_weekday(year,month,target_weekday,nth_occurrence):\n",
    "    '''\n",
    "    weekday is the term that assigns numbers from 0 to 6 to the days of the weeks.\n",
    "    weekday 0 = monday\n",
    "    '''\n",
    "    # get dayofweeks of year,month,1\n",
    "    weekday_01 = datetime.datetime(year,month,1).weekday()\n",
    "    if weekday_01 <= target_weekday:\n",
    "        day_of_month_of_first_occurence = target_weekday - weekday_01\n",
    "        day_of_month_of_nth_occurence = day_of_month_of_first_occurence + 1 + (nth_occurrence - 1) * 7\n",
    "    else:\n",
    "        day_of_month_of_nth_occurence = target_weekday - weekday_01 + 1 + (nth_occurrence) * 7 \n",
    "    return datetime.datetime(year,month,day_of_month_of_nth_occurence)\n",
    "\n",
    "\n",
    "\n",
    "\n",
    "def get_ES_options_expiry(symbol):\n",
    "    '''\n",
    "    3rd friday of month of symbol\n",
    "    '''\n",
    "    monthcode_yy = symbol[2:]\n",
    "    month = DICT_MONTH_CODE[monthcode_yy[0]]\n",
    "    year = 2000 + int(monthcode_yy[1:])\n",
    "    return get_nth_weekday(year,month,4,3)\n",
    "\n",
    "\n",
    "def get_E6_options_expiry(symbol):\n",
    "    monthcode_yy = symbol[2:]\n",
    "    next_month = DICT_MONTH_CODE[monthcode_yy[0]] + 1\n",
    "    year = 2000 + int(monthcode_yy[1:])\n",
    "    if next_month>12:\n",
    "        next_month = 1\n",
    "        year += 1\n",
    "    return datetime.datetime(year,next_month,1) - 7*bday_us\n",
    "\n",
    "def get_LO_options_expiry(symbol):\n",
    "    return get_CL_options_expiry('CL'+symbol[-3:])\n",
    "\n",
    "def get_CL_options_expiry(symbol):\n",
    "    '''\n",
    "    Trading terminates 7 business days before the 26th calendar of the month prior to the contract month.\n",
    "    '''\n",
    "    monthcode_yy = symbol[2:]\n",
    "    month = DICT_MONTH_CODE[monthcode_yy[0]]\n",
    "    year = 2000 + int(monthcode_yy[1:])\n",
    "    month = month -1\n",
    "    if month<1:\n",
    "        month = 12\n",
    "        year = year - 1\n",
    "    return datetime.datetime(year,month,26) - 7*bday_us\n",
    "\n",
    "def get_ON_options_expiry(symbol):\n",
    "    return get_NG_options_expiry('NG'+symbol[-3:])\n",
    "\n",
    "def get_LNE_options_expiry(symbol):\n",
    "    return get_NG_options_expiry('NG'+symbol[-3:])\n",
    "\n",
    "def get_NG_options_expiry(symbol):\n",
    "    monthcode_yy = symbol[-3:]\n",
    "    month = DICT_MONTH_CODE[monthcode_yy[0]]\n",
    "    year = 2000 + int(monthcode_yy[1:])\n",
    "    return datetime.datetime(year,month,1) - 4*bday_us\n",
    "\n",
    "def get_CB_options_expiry(symbol):\n",
    "    '''\n",
    "    This is the spec for the CME Brent, but it matches ICE.\n",
    "    Trading terminates the 4th last London business day of \n",
    "    the month, 2 months prior to the contract month \n",
    "    except for the February contract month which \n",
    "    terminates the 5th last London business day of the \n",
    "    month, 2 months prior to the contract month.  \n",
    "    '''\n",
    "    monthcode_yy = symbol[2:]\n",
    "    month = DICT_MONTH_CODE[monthcode_yy[0]]\n",
    "    year = 2000 + int(monthcode_yy[1:])\n",
    "    month = month - 1\n",
    "    if month<1:\n",
    "        month = 12 + month\n",
    "        year = year - 1\n",
    "    days_to_subtract = 4\n",
    "    if monthcode_yy[0] =='G':\n",
    "        days_to_subtract = 5\n",
    "    elif monthcode_yy[0] == 'F':\n",
    "        days_to_subtract = 3\n",
    "#     elif monthcode_yy == 'N22':\n",
    "#         days_to_subtract = 7\n",
    "    return datetime.datetime(year,month,1,0,0) - days_to_subtract * bday_uk\n",
    "\n",
    "\n",
    "def get_GC_options_expiry(symbol):\n",
    "    \"\"\"\n",
    "    Trading terminates at 12:30 p.m. CT on the 4th last business day of the month\n",
    "    prior to the contract month. \n",
    "    If the 4th last business day occurs on a Friday \n",
    "    or the day before a holiday, \n",
    "    trading terminates on the prior business day.\n",
    "    \"\"\"\n",
    "    exp_dt = get_ON_options_expiry(symbol)\n",
    "    r = exp_dt\n",
    "    if exp_dt.weekday()==4:\n",
    "        r =  exp_dt - 1*bday_us\n",
    "    td1 = datetime.timedelta(1)\n",
    "    is_day_before_thanksgiv = (get_thanksgiving_dt(r.year) - (r + td1)).days == 0 \n",
    "    if is_day_before_thanksgiv:\n",
    "        r = r - td1\n",
    "    return r\n",
    "\n",
    "def get_ZS_options_expiry(symbol):\n",
    "    \"\"\"\n",
    "    Trading terminates on Friday which precedes, by at least 2 business days, \n",
    "    the last business day of the month prior to the contract month.\n",
    "    \"\"\"\n",
    "    monthcode_yy = symbol[-3:]\n",
    "    month = DICT_MONTH_CODE[monthcode_yy[0]]\n",
    "    year = 2000 + int(monthcode_yy[1:])\n",
    "    r =  datetime.datetime(year,month,1) - 3*bday_us\n",
    "#     pdb.set_trace()\n",
    "    dow = r.weekday()\n",
    "    if dow>=4:\n",
    "        days_to_subtract = dow-4\n",
    "    else:\n",
    "        # find the first friday before r\n",
    "        days_to_subtract = dow-4+7\n",
    "    r = r - datetime.timedelta(days_to_subtract)\n",
    "    return r+1*bday_us - 1*bday_us\n",
    "        \n",
    "\n",
    "DICT_PRODUCT = {\n",
    "    'E6':get_E6_options_expiry,\n",
    "    'ES':get_ES_options_expiry,\n",
    "    'CL':get_CL_options_expiry,\n",
    "    'NG':get_NG_options_expiry,\n",
    "    'LO':get_LO_options_expiry,\n",
    "    'ON':get_ON_options_expiry,\n",
    "    'LNE':get_LNE_options_expiry,\n",
    "    'LN':get_ON_options_expiry,\n",
    "    'CB':get_CB_options_expiry,\n",
    "    'RB':get_ON_options_expiry,\n",
    "    'HO':get_ON_options_expiry,\n",
    "    'OB':get_ON_options_expiry,\n",
    "    'OH':get_ON_options_expiry,\n",
    "    'GC':get_GC_options_expiry,\n",
    "    'OG':get_GC_options_expiry,\n",
    "    'SI':get_GC_options_expiry,\n",
    "    'SO':get_GC_options_expiry,\n",
    "    'ZS':get_ZS_options_expiry,\n",
    "    'OZS':get_ZS_options_expiry,\n",
    "    'ZC':get_ZS_options_expiry,\n",
    "    'OZC':get_ZS_options_expiry,\n",
    "    'ZW':get_ZS_options_expiry,\n",
    "    'OZW':get_ZS_options_expiry,\n",
    "    'ZL':get_ZS_options_expiry,\n",
    "    'OZL':get_ZS_options_expiry,\n",
    "}\n",
    "\n",
    "    \n",
    "def get_expiry(symbol):\n",
    "    product = symbol[:-3]\n",
    "    f = DICT_PRODUCT[product]\n",
    "    expiry =  f(symbol)\n",
    "    if (expiry.weekday()==0) and (expiry.month==12 and expiry.day==27):\n",
    "        expiry=expiry + 1*bday_us\n",
    "    return expiry\n",
    "\n",
    "\n",
    "def dt_from_yyyymmdd(yyyymmdd,hour=0,minute=0,timezone=TIMEZONE):\n",
    "    y = int(str(yyyymmdd)[0:4])\n",
    "    m = int(str(yyyymmdd)[4:6])\n",
    "    d = int(str(yyyymmdd)[6:8])  \n",
    "    return datetime.datetime(y,m,d,hour,minute,tzinfo=pytz.timezone(timezone))\n",
    "\n",
    "def yyyymmdd_from_dt(dt):\n",
    "    y = int(dt.year)\n",
    "    m = int(dt.month)\n",
    "    d = int(dt.day)\n",
    "    return y*100*100 + m*100 + d\n",
    "\n",
    "def get_dte_pct(trade_yyyymmdd,expiry_yyyymmdd):\n",
    "    dt_td = dt_from_yyyymmdd(trade_yyyymmdd)\n",
    "    dt_xp = dt_from_yyyymmdd(expiry_yyyymmdd)\n",
    "    return ((dt_xp - dt_td).days + 1)/365\n"
   ]
  },
  {
   "cell_type": "markdown",
   "metadata": {},
   "source": [
    "### Test get_expiry with know expirations in the future"
   ]
  },
  {
   "cell_type": "code",
   "execution_count": 473,
   "metadata": {},
   "outputs": [
    {
     "name": "stderr",
     "output_type": "stream",
     "text": [
      "\r",
      "  0%|          | 0/11 [00:00<?, ?it/s]"
     ]
    },
    {
     "data": {
      "text/html": [
       "<style  type=\"text/css\" >\n",
       "</style><table id=\"T_99d65f26_bb21_11ea_88b4_8c859025e7f9\" ><caption><div style='text-align:center;'>LO good:139 bad:0</div></caption><thead>    <tr>        <th class=\"blank level0\" ></th>        <th class=\"col_heading level0 col0\" >option_symbol</th>        <th class=\"col_heading level0 col1\" >underlying_symbol</th>        <th class=\"col_heading level0 col2\" >option_expiry</th>        <th class=\"col_heading level0 col3\" >underlying_expiry</th>        <th class=\"col_heading level0 col4\" >theo</th>        <th class=\"col_heading level0 col5\" >actual</th>        <th class=\"col_heading level0 col6\" >theo_vs_actual</th>    </tr></thead><tbody>\n",
       "        </tbody></table>"
      ],
      "text/plain": [
       "<pandas.io.formats.style.Styler at 0x117aac518>"
      ]
     },
     "metadata": {},
     "output_type": "display_data"
    },
    {
     "data": {
      "text/html": [
       "<style  type=\"text/css\" >\n",
       "</style><table id=\"T_99d98426_bb21_11ea_a746_8c859025e7f9\" ><caption><div style='text-align:center;'>LNE good:161 bad:0</div></caption><thead>    <tr>        <th class=\"blank level0\" ></th>        <th class=\"col_heading level0 col0\" >option_symbol</th>        <th class=\"col_heading level0 col1\" >underlying_symbol</th>        <th class=\"col_heading level0 col2\" >option_expiry</th>        <th class=\"col_heading level0 col3\" >underlying_expiry</th>        <th class=\"col_heading level0 col4\" >theo</th>        <th class=\"col_heading level0 col5\" >actual</th>        <th class=\"col_heading level0 col6\" >theo_vs_actual</th>    </tr></thead><tbody>\n",
       "        </tbody></table>"
      ],
      "text/plain": [
       "<pandas.io.formats.style.Styler at 0x117aac278>"
      ]
     },
     "metadata": {},
     "output_type": "display_data"
    },
    {
     "data": {
      "text/html": [
       "<style  type=\"text/css\" >\n",
       "</style><table id=\"T_99dc327a_bb21_11ea_9f0b_8c859025e7f9\" ><caption><div style='text-align:center;'>ES good:6 bad:0</div></caption><thead>    <tr>        <th class=\"blank level0\" ></th>        <th class=\"col_heading level0 col0\" >option_symbol</th>        <th class=\"col_heading level0 col1\" >underlying_symbol</th>        <th class=\"col_heading level0 col2\" >option_expiry</th>        <th class=\"col_heading level0 col3\" >underlying_expiry</th>        <th class=\"col_heading level0 col4\" >theo</th>        <th class=\"col_heading level0 col5\" >actual</th>        <th class=\"col_heading level0 col6\" >theo_vs_actual</th>    </tr></thead><tbody>\n",
       "        </tbody></table>"
      ],
      "text/plain": [
       "<pandas.io.formats.style.Styler at 0x117aac828>"
      ]
     },
     "metadata": {},
     "output_type": "display_data"
    },
    {
     "data": {
      "text/html": [
       "<style  type=\"text/css\" >\n",
       "</style><table id=\"T_99df8682_bb21_11ea_b8c8_8c859025e7f9\" ><caption><div style='text-align:center;'>OB good:54 bad:0</div></caption><thead>    <tr>        <th class=\"blank level0\" ></th>        <th class=\"col_heading level0 col0\" >option_symbol</th>        <th class=\"col_heading level0 col1\" >underlying_symbol</th>        <th class=\"col_heading level0 col2\" >option_expiry</th>        <th class=\"col_heading level0 col3\" >underlying_expiry</th>        <th class=\"col_heading level0 col4\" >theo</th>        <th class=\"col_heading level0 col5\" >actual</th>        <th class=\"col_heading level0 col6\" >theo_vs_actual</th>    </tr></thead><tbody>\n",
       "        </tbody></table>"
      ],
      "text/plain": [
       "<pandas.io.formats.style.Styler at 0x117aac4a8>"
      ]
     },
     "metadata": {},
     "output_type": "display_data"
    },
    {
     "data": {
      "text/html": [
       "<style  type=\"text/css\" >\n",
       "</style><table id=\"T_99e3012c_bb21_11ea_88e3_8c859025e7f9\" ><caption><div style='text-align:center;'>OH good:54 bad:0</div></caption><thead>    <tr>        <th class=\"blank level0\" ></th>        <th class=\"col_heading level0 col0\" >option_symbol</th>        <th class=\"col_heading level0 col1\" >underlying_symbol</th>        <th class=\"col_heading level0 col2\" >option_expiry</th>        <th class=\"col_heading level0 col3\" >underlying_expiry</th>        <th class=\"col_heading level0 col4\" >theo</th>        <th class=\"col_heading level0 col5\" >actual</th>        <th class=\"col_heading level0 col6\" >theo_vs_actual</th>    </tr></thead><tbody>\n",
       "        </tbody></table>"
      ],
      "text/plain": [
       "<pandas.io.formats.style.Styler at 0x117aac048>"
      ]
     },
     "metadata": {},
     "output_type": "display_data"
    },
    {
     "name": "stderr",
     "output_type": "stream",
     "text": [
      "\r",
      " 45%|████▌     | 5/11 [00:00<00:00, 46.36it/s]"
     ]
    },
    {
     "data": {
      "text/html": [
       "<style  type=\"text/css\" >\n",
       "</style><table id=\"T_9a80d528_bb21_11ea_96c4_8c859025e7f9\" ><caption><div style='text-align:center;'>OG good:37 bad:0</div></caption><thead>    <tr>        <th class=\"blank level0\" ></th>        <th class=\"col_heading level0 col0\" >option_symbol</th>        <th class=\"col_heading level0 col1\" >underlying_symbol</th>        <th class=\"col_heading level0 col2\" >option_expiry</th>        <th class=\"col_heading level0 col3\" >underlying_expiry</th>        <th class=\"col_heading level0 col4\" >theo</th>        <th class=\"col_heading level0 col5\" >actual</th>        <th class=\"col_heading level0 col6\" >theo_vs_actual</th>    </tr></thead><tbody>\n",
       "        </tbody></table>"
      ],
      "text/plain": [
       "<pandas.io.formats.style.Styler at 0x117aac9e8>"
      ]
     },
     "metadata": {},
     "output_type": "display_data"
    },
    {
     "data": {
      "text/html": [
       "<style  type=\"text/css\" >\n",
       "</style><table id=\"T_9afd2ee8_bb21_11ea_affd_8c859025e7f9\" ><caption><div style='text-align:center;'>SO good:24 bad:0</div></caption><thead>    <tr>        <th class=\"blank level0\" ></th>        <th class=\"col_heading level0 col0\" >option_symbol</th>        <th class=\"col_heading level0 col1\" >underlying_symbol</th>        <th class=\"col_heading level0 col2\" >option_expiry</th>        <th class=\"col_heading level0 col3\" >underlying_expiry</th>        <th class=\"col_heading level0 col4\" >theo</th>        <th class=\"col_heading level0 col5\" >actual</th>        <th class=\"col_heading level0 col6\" >theo_vs_actual</th>    </tr></thead><tbody>\n",
       "        </tbody></table>"
      ],
      "text/plain": [
       "<pandas.io.formats.style.Styler at 0x117aac208>"
      ]
     },
     "metadata": {},
     "output_type": "display_data"
    },
    {
     "name": "stderr",
     "output_type": "stream",
     "text": [
      "\r",
      " 64%|██████▎   | 7/11 [00:01<00:01,  3.42it/s]"
     ]
    },
    {
     "data": {
      "text/html": [
       "<style  type=\"text/css\" >\n",
       "</style><table id=\"T_9b003246_bb21_11ea_a4e4_8c859025e7f9\" ><caption><div style='text-align:center;'>OZS good:19 bad:0</div></caption><thead>    <tr>        <th class=\"blank level0\" ></th>        <th class=\"col_heading level0 col0\" >option_symbol</th>        <th class=\"col_heading level0 col1\" >underlying_symbol</th>        <th class=\"col_heading level0 col2\" >option_expiry</th>        <th class=\"col_heading level0 col3\" >underlying_expiry</th>        <th class=\"col_heading level0 col4\" >theo</th>        <th class=\"col_heading level0 col5\" >actual</th>        <th class=\"col_heading level0 col6\" >theo_vs_actual</th>    </tr></thead><tbody>\n",
       "        </tbody></table>"
      ],
      "text/plain": [
       "<pandas.io.formats.style.Styler at 0x117aac828>"
      ]
     },
     "metadata": {},
     "output_type": "display_data"
    },
    {
     "data": {
      "text/html": [
       "<style  type=\"text/css\" >\n",
       "</style><table id=\"T_9b026dc2_bb21_11ea_8190_8c859025e7f9\" ><caption><div style='text-align:center;'>OZC good:20 bad:0</div></caption><thead>    <tr>        <th class=\"blank level0\" ></th>        <th class=\"col_heading level0 col0\" >option_symbol</th>        <th class=\"col_heading level0 col1\" >underlying_symbol</th>        <th class=\"col_heading level0 col2\" >option_expiry</th>        <th class=\"col_heading level0 col3\" >underlying_expiry</th>        <th class=\"col_heading level0 col4\" >theo</th>        <th class=\"col_heading level0 col5\" >actual</th>        <th class=\"col_heading level0 col6\" >theo_vs_actual</th>    </tr></thead><tbody>\n",
       "        </tbody></table>"
      ],
      "text/plain": [
       "<pandas.io.formats.style.Styler at 0x117aac7f0>"
      ]
     },
     "metadata": {},
     "output_type": "display_data"
    },
    {
     "data": {
      "text/html": [
       "<style  type=\"text/css\" >\n",
       "</style><table id=\"T_9b0429d2_bb21_11ea_8c49_8c859025e7f9\" ><caption><div style='text-align:center;'>OZW good:17 bad:0</div></caption><thead>    <tr>        <th class=\"blank level0\" ></th>        <th class=\"col_heading level0 col0\" >option_symbol</th>        <th class=\"col_heading level0 col1\" >underlying_symbol</th>        <th class=\"col_heading level0 col2\" >option_expiry</th>        <th class=\"col_heading level0 col3\" >underlying_expiry</th>        <th class=\"col_heading level0 col4\" >theo</th>        <th class=\"col_heading level0 col5\" >actual</th>        <th class=\"col_heading level0 col6\" >theo_vs_actual</th>    </tr></thead><tbody>\n",
       "        </tbody></table>"
      ],
      "text/plain": [
       "<pandas.io.formats.style.Styler at 0x117aaca20>"
      ]
     },
     "metadata": {},
     "output_type": "display_data"
    },
    {
     "data": {
      "text/html": [
       "<style  type=\"text/css\" >\n",
       "</style><table id=\"T_9b071bd8_bb21_11ea_9a01_8c859025e7f9\" ><caption><div style='text-align:center;'>OZL good:20 bad:0</div></caption><thead>    <tr>        <th class=\"blank level0\" ></th>        <th class=\"col_heading level0 col0\" >option_symbol</th>        <th class=\"col_heading level0 col1\" >underlying_symbol</th>        <th class=\"col_heading level0 col2\" >option_expiry</th>        <th class=\"col_heading level0 col3\" >underlying_expiry</th>        <th class=\"col_heading level0 col4\" >theo</th>        <th class=\"col_heading level0 col5\" >actual</th>        <th class=\"col_heading level0 col6\" >theo_vs_actual</th>    </tr></thead><tbody>\n",
       "        </tbody></table>"
      ],
      "text/plain": [
       "<pandas.io.formats.style.Styler at 0x117aacba8>"
      ]
     },
     "metadata": {},
     "output_type": "display_data"
    },
    {
     "name": "stderr",
     "output_type": "stream",
     "text": [
      "100%|██████████| 11/11 [00:02<00:00,  5.45it/s]\n"
     ]
    }
   ],
   "source": [
    "for op_sym in tqdm(['LO','LNE','ES','OB','OH','OG','SO','OZS','OZC','OZW','OZL']):\n",
    "    df_lo = df_cme_expiry[df_cme_expiry.option_symbol.str.contains(f'^{op_sym}[FGHJKMNQUVXZ][2-4][0-9]')][['option_symbol','underlying_symbol','option_expiry','underlying_expiry']]\n",
    "    if len(df_lo)<1:\n",
    "        print('no matches')\n",
    "    else:\n",
    "        clsyms = df_lo.option_symbol\n",
    "        theo_expiries = [get_expiry(s) for s in clsyms]\n",
    "        df_lo['theo'] = theo_expiries\n",
    "        df_lo['actual'] = df_lo.option_expiry\n",
    "        df_lo['theo_vs_actual'] = df_lo.actual == df_lo.theo\n",
    "        len_good = len(df_lo[df_lo.theo_vs_actual])\n",
    "        len_bad = len(df_lo[~df_lo.theo_vs_actual])\n",
    "        title = f\"{op_sym} good:{len_good} bad:{len_bad}\"\n",
    "        display(dashapp.add_df_title(df_lo[~df_lo.theo_vs_actual],title))\n"
   ]
  },
  {
   "cell_type": "markdown",
   "metadata": {},
   "source": [
    "### Test get_expiry against past expirations"
   ]
  },
  {
   "cell_type": "code",
   "execution_count": 246,
   "metadata": {},
   "outputs": [],
   "source": [
    "pga = db_info.get_db_info()\n",
    "futtab = 'sec_schema.underlying_table'\n",
    "opttab = 'sec_schema.options_table'\n"
   ]
  },
  {
   "cell_type": "code",
   "execution_count": 264,
   "metadata": {},
   "outputs": [
    {
     "name": "stderr",
     "output_type": "stream",
     "text": [
      "100%|██████████| 4/4 [01:00<00:00, 15.17s/it]\n"
     ]
    }
   ],
   "source": [
    "df_pga_expiry = None\n",
    "for sym in tqdm(['CL','NG','ES','CB']):\n",
    "    sql = f\"\"\"\n",
    "    with f0 as\n",
    "    (\n",
    "      select max(settle_date) as max_settle_date from {opttab}\n",
    "      where substring(symbol,1,2) = '{sym}'\n",
    "    ),\n",
    "    f1 as \n",
    "    (\n",
    "        select symbol,max(settle_date) settle_date from {opttab}\n",
    "        where substring(symbol,1,2) = '{sym}'\n",
    "        group by symbol\n",
    "    )\n",
    "    select * from f1 where f1.settle_date < (select max_settle_date from f0)\n",
    "    \"\"\"\n",
    "    df_pga_expiry_temp = pga.get_sql(sql)\n",
    "    if df_pga_expiry is None:\n",
    "        df_pga_expiry = df_pga_expiry_temp.copy()\n",
    "    else:\n",
    "        df_pga_expiry = df_pga_expiry.append(df_pga_expiry_temp,ignore_index=True)\n"
   ]
  },
  {
   "cell_type": "code",
   "execution_count": null,
   "metadata": {},
   "outputs": [],
   "source": []
  },
  {
   "cell_type": "code",
   "execution_count": 291,
   "metadata": {},
   "outputs": [
    {
     "data": {
      "text/html": [
       "<style  type=\"text/css\" >\n",
       "</style><table id=\"T_9577f2ae_ba50_11ea_a6e4_8c859025e7f9\" ><caption><div style='text-align:center;'>CL good:112 bad:2</div></caption><thead>    <tr>        <th class=\"blank level0\" ></th>        <th class=\"col_heading level0 col0\" >symbol</th>        <th class=\"col_heading level0 col1\" >actual</th>        <th class=\"col_heading level0 col2\" >theo</th>        <th class=\"col_heading level0 col3\" >actual_vs_theo</th>    </tr></thead><tbody>\n",
       "                <tr>\n",
       "                        <th id=\"T_9577f2ae_ba50_11ea_a6e4_8c859025e7f9level0_row0\" class=\"row_heading level0 row0\" >61</th>\n",
       "                        <td id=\"T_9577f2ae_ba50_11ea_a6e4_8c859025e7f9row0_col0\" class=\"data row0 col0\" >CLZ11</td>\n",
       "                        <td id=\"T_9577f2ae_ba50_11ea_a6e4_8c859025e7f9row0_col1\" class=\"data row0 col1\" >20111115</td>\n",
       "                        <td id=\"T_9577f2ae_ba50_11ea_a6e4_8c859025e7f9row0_col2\" class=\"data row0 col2\" >20111116</td>\n",
       "                        <td id=\"T_9577f2ae_ba50_11ea_a6e4_8c859025e7f9row0_col3\" class=\"data row0 col3\" >False</td>\n",
       "            </tr>\n",
       "            <tr>\n",
       "                        <th id=\"T_9577f2ae_ba50_11ea_a6e4_8c859025e7f9level0_row1\" class=\"row_heading level0 row1\" >71</th>\n",
       "                        <td id=\"T_9577f2ae_ba50_11ea_a6e4_8c859025e7f9row1_col0\" class=\"data row1 col0\" >CLZ12</td>\n",
       "                        <td id=\"T_9577f2ae_ba50_11ea_a6e4_8c859025e7f9row1_col1\" class=\"data row1 col1\" >20121113</td>\n",
       "                        <td id=\"T_9577f2ae_ba50_11ea_a6e4_8c859025e7f9row1_col2\" class=\"data row1 col2\" >20121114</td>\n",
       "                        <td id=\"T_9577f2ae_ba50_11ea_a6e4_8c859025e7f9row1_col3\" class=\"data row1 col3\" >False</td>\n",
       "            </tr>\n",
       "    </tbody></table>"
      ],
      "text/plain": [
       "<pandas.io.formats.style.Styler at 0x117122630>"
      ]
     },
     "metadata": {},
     "output_type": "display_data"
    },
    {
     "data": {
      "text/html": [
       "<style  type=\"text/css\" >\n",
       "</style><table id=\"T_957b1aec_ba50_11ea_a88a_8c859025e7f9\" ><caption><div style='text-align:center;'>NG good:96 bad:13</div></caption><thead>    <tr>        <th class=\"blank level0\" ></th>        <th class=\"col_heading level0 col0\" >symbol</th>        <th class=\"col_heading level0 col1\" >actual</th>        <th class=\"col_heading level0 col2\" >theo</th>        <th class=\"col_heading level0 col3\" >actual_vs_theo</th>    </tr></thead><tbody>\n",
       "                <tr>\n",
       "                        <th id=\"T_957b1aec_ba50_11ea_a88a_8c859025e7f9level0_row0\" class=\"row_heading level0 row0\" >114</th>\n",
       "                        <td id=\"T_957b1aec_ba50_11ea_a88a_8c859025e7f9row0_col0\" class=\"data row0 col0\" >NGJ12</td>\n",
       "                        <td id=\"T_957b1aec_ba50_11ea_a88a_8c859025e7f9row0_col1\" class=\"data row0 col1\" >20111020</td>\n",
       "                        <td id=\"T_957b1aec_ba50_11ea_a88a_8c859025e7f9row0_col2\" class=\"data row0 col2\" >20120327</td>\n",
       "                        <td id=\"T_957b1aec_ba50_11ea_a88a_8c859025e7f9row0_col3\" class=\"data row0 col3\" >False</td>\n",
       "            </tr>\n",
       "            <tr>\n",
       "                        <th id=\"T_957b1aec_ba50_11ea_a88a_8c859025e7f9level0_row1\" class=\"row_heading level0 row1\" >119</th>\n",
       "                        <td id=\"T_957b1aec_ba50_11ea_a88a_8c859025e7f9row1_col0\" class=\"data row1 col0\" >NGH12</td>\n",
       "                        <td id=\"T_957b1aec_ba50_11ea_a88a_8c859025e7f9row1_col1\" class=\"data row1 col1\" >20111020</td>\n",
       "                        <td id=\"T_957b1aec_ba50_11ea_a88a_8c859025e7f9row1_col2\" class=\"data row1 col2\" >20120224</td>\n",
       "                        <td id=\"T_957b1aec_ba50_11ea_a88a_8c859025e7f9row1_col3\" class=\"data row1 col3\" >False</td>\n",
       "            </tr>\n",
       "            <tr>\n",
       "                        <th id=\"T_957b1aec_ba50_11ea_a88a_8c859025e7f9level0_row2\" class=\"row_heading level0 row2\" >125</th>\n",
       "                        <td id=\"T_957b1aec_ba50_11ea_a88a_8c859025e7f9row2_col0\" class=\"data row2 col0\" >NGQ11</td>\n",
       "                        <td id=\"T_957b1aec_ba50_11ea_a88a_8c859025e7f9row2_col1\" class=\"data row2 col1\" >20110606</td>\n",
       "                        <td id=\"T_957b1aec_ba50_11ea_a88a_8c859025e7f9row2_col2\" class=\"data row2 col2\" >20110726</td>\n",
       "                        <td id=\"T_957b1aec_ba50_11ea_a88a_8c859025e7f9row2_col3\" class=\"data row2 col3\" >False</td>\n",
       "            </tr>\n",
       "            <tr>\n",
       "                        <th id=\"T_957b1aec_ba50_11ea_a88a_8c859025e7f9level0_row3\" class=\"row_heading level0 row3\" >129</th>\n",
       "                        <td id=\"T_957b1aec_ba50_11ea_a88a_8c859025e7f9row3_col0\" class=\"data row3 col0\" >NGU11</td>\n",
       "                        <td id=\"T_957b1aec_ba50_11ea_a88a_8c859025e7f9row3_col1\" class=\"data row3 col1\" >20110606</td>\n",
       "                        <td id=\"T_957b1aec_ba50_11ea_a88a_8c859025e7f9row3_col2\" class=\"data row3 col2\" >20110826</td>\n",
       "                        <td id=\"T_957b1aec_ba50_11ea_a88a_8c859025e7f9row3_col3\" class=\"data row3 col3\" >False</td>\n",
       "            </tr>\n",
       "            <tr>\n",
       "                        <th id=\"T_957b1aec_ba50_11ea_a88a_8c859025e7f9level0_row4\" class=\"row_heading level0 row4\" >142</th>\n",
       "                        <td id=\"T_957b1aec_ba50_11ea_a88a_8c859025e7f9row4_col0\" class=\"data row4 col0\" >NGK12</td>\n",
       "                        <td id=\"T_957b1aec_ba50_11ea_a88a_8c859025e7f9row4_col1\" class=\"data row4 col1\" >20111020</td>\n",
       "                        <td id=\"T_957b1aec_ba50_11ea_a88a_8c859025e7f9row4_col2\" class=\"data row4 col2\" >20120425</td>\n",
       "                        <td id=\"T_957b1aec_ba50_11ea_a88a_8c859025e7f9row4_col3\" class=\"data row4 col3\" >False</td>\n",
       "            </tr>\n",
       "            <tr>\n",
       "                        <th id=\"T_957b1aec_ba50_11ea_a88a_8c859025e7f9level0_row5\" class=\"row_heading level0 row5\" >148</th>\n",
       "                        <td id=\"T_957b1aec_ba50_11ea_a88a_8c859025e7f9row5_col0\" class=\"data row5 col0\" >NGZ11</td>\n",
       "                        <td id=\"T_957b1aec_ba50_11ea_a88a_8c859025e7f9row5_col1\" class=\"data row5 col1\" >20111020</td>\n",
       "                        <td id=\"T_957b1aec_ba50_11ea_a88a_8c859025e7f9row5_col2\" class=\"data row5 col2\" >20111125</td>\n",
       "                        <td id=\"T_957b1aec_ba50_11ea_a88a_8c859025e7f9row5_col3\" class=\"data row5 col3\" >False</td>\n",
       "            </tr>\n",
       "            <tr>\n",
       "                        <th id=\"T_957b1aec_ba50_11ea_a88a_8c859025e7f9level0_row6\" class=\"row_heading level0 row6\" >152</th>\n",
       "                        <td id=\"T_957b1aec_ba50_11ea_a88a_8c859025e7f9row6_col0\" class=\"data row6 col0\" >NGV11</td>\n",
       "                        <td id=\"T_957b1aec_ba50_11ea_a88a_8c859025e7f9row6_col1\" class=\"data row6 col1\" >20110606</td>\n",
       "                        <td id=\"T_957b1aec_ba50_11ea_a88a_8c859025e7f9row6_col2\" class=\"data row6 col2\" >20110927</td>\n",
       "                        <td id=\"T_957b1aec_ba50_11ea_a88a_8c859025e7f9row6_col3\" class=\"data row6 col3\" >False</td>\n",
       "            </tr>\n",
       "            <tr>\n",
       "                        <th id=\"T_957b1aec_ba50_11ea_a88a_8c859025e7f9level0_row7\" class=\"row_heading level0 row7\" >155</th>\n",
       "                        <td id=\"T_957b1aec_ba50_11ea_a88a_8c859025e7f9row7_col0\" class=\"data row7 col0\" >NGM12</td>\n",
       "                        <td id=\"T_957b1aec_ba50_11ea_a88a_8c859025e7f9row7_col1\" class=\"data row7 col1\" >20120502</td>\n",
       "                        <td id=\"T_957b1aec_ba50_11ea_a88a_8c859025e7f9row7_col2\" class=\"data row7 col2\" >20120525</td>\n",
       "                        <td id=\"T_957b1aec_ba50_11ea_a88a_8c859025e7f9row7_col3\" class=\"data row7 col3\" >False</td>\n",
       "            </tr>\n",
       "            <tr>\n",
       "                        <th id=\"T_957b1aec_ba50_11ea_a88a_8c859025e7f9level0_row8\" class=\"row_heading level0 row8\" >164</th>\n",
       "                        <td id=\"T_957b1aec_ba50_11ea_a88a_8c859025e7f9row8_col0\" class=\"data row8 col0\" >NGN12</td>\n",
       "                        <td id=\"T_957b1aec_ba50_11ea_a88a_8c859025e7f9row8_col1\" class=\"data row8 col1\" >20120612</td>\n",
       "                        <td id=\"T_957b1aec_ba50_11ea_a88a_8c859025e7f9row8_col2\" class=\"data row8 col2\" >20120626</td>\n",
       "                        <td id=\"T_957b1aec_ba50_11ea_a88a_8c859025e7f9row8_col3\" class=\"data row8 col3\" >False</td>\n",
       "            </tr>\n",
       "            <tr>\n",
       "                        <th id=\"T_957b1aec_ba50_11ea_a88a_8c859025e7f9level0_row9\" class=\"row_heading level0 row9\" >175</th>\n",
       "                        <td id=\"T_957b1aec_ba50_11ea_a88a_8c859025e7f9row9_col0\" class=\"data row9 col0\" >NGF12</td>\n",
       "                        <td id=\"T_957b1aec_ba50_11ea_a88a_8c859025e7f9row9_col1\" class=\"data row9 col1\" >20111020</td>\n",
       "                        <td id=\"T_957b1aec_ba50_11ea_a88a_8c859025e7f9row9_col2\" class=\"data row9 col2\" >20111227</td>\n",
       "                        <td id=\"T_957b1aec_ba50_11ea_a88a_8c859025e7f9row9_col3\" class=\"data row9 col3\" >False</td>\n",
       "            </tr>\n",
       "            <tr>\n",
       "                        <th id=\"T_957b1aec_ba50_11ea_a88a_8c859025e7f9level0_row10\" class=\"row_heading level0 row10\" >177</th>\n",
       "                        <td id=\"T_957b1aec_ba50_11ea_a88a_8c859025e7f9row10_col0\" class=\"data row10 col0\" >NGX11</td>\n",
       "                        <td id=\"T_957b1aec_ba50_11ea_a88a_8c859025e7f9row10_col1\" class=\"data row10 col1\" >20111020</td>\n",
       "                        <td id=\"T_957b1aec_ba50_11ea_a88a_8c859025e7f9row10_col2\" class=\"data row10 col2\" >20111026</td>\n",
       "                        <td id=\"T_957b1aec_ba50_11ea_a88a_8c859025e7f9row10_col3\" class=\"data row10 col3\" >False</td>\n",
       "            </tr>\n",
       "            <tr>\n",
       "                        <th id=\"T_957b1aec_ba50_11ea_a88a_8c859025e7f9level0_row11\" class=\"row_heading level0 row11\" >201</th>\n",
       "                        <td id=\"T_957b1aec_ba50_11ea_a88a_8c859025e7f9row11_col0\" class=\"data row11 col0\" >NGN11</td>\n",
       "                        <td id=\"T_957b1aec_ba50_11ea_a88a_8c859025e7f9row11_col1\" class=\"data row11 col1\" >20110606</td>\n",
       "                        <td id=\"T_957b1aec_ba50_11ea_a88a_8c859025e7f9row11_col2\" class=\"data row11 col2\" >20110627</td>\n",
       "                        <td id=\"T_957b1aec_ba50_11ea_a88a_8c859025e7f9row11_col3\" class=\"data row11 col3\" >False</td>\n",
       "            </tr>\n",
       "            <tr>\n",
       "                        <th id=\"T_957b1aec_ba50_11ea_a88a_8c859025e7f9level0_row12\" class=\"row_heading level0 row12\" >208</th>\n",
       "                        <td id=\"T_957b1aec_ba50_11ea_a88a_8c859025e7f9row12_col0\" class=\"data row12 col0\" >NGG12</td>\n",
       "                        <td id=\"T_957b1aec_ba50_11ea_a88a_8c859025e7f9row12_col1\" class=\"data row12 col1\" >20111020</td>\n",
       "                        <td id=\"T_957b1aec_ba50_11ea_a88a_8c859025e7f9row12_col2\" class=\"data row12 col2\" >20120126</td>\n",
       "                        <td id=\"T_957b1aec_ba50_11ea_a88a_8c859025e7f9row12_col3\" class=\"data row12 col3\" >False</td>\n",
       "            </tr>\n",
       "    </tbody></table>"
      ],
      "text/plain": [
       "<pandas.io.formats.style.Styler at 0x1171229b0>"
      ]
     },
     "metadata": {},
     "output_type": "display_data"
    },
    {
     "data": {
      "text/html": [
       "<style  type=\"text/css\" >\n",
       "</style><table id=\"T_957d24a4_ba50_11ea_bdc5_8c859025e7f9\" ><caption><div style='text-align:center;'>ES good:81 bad:1</div></caption><thead>    <tr>        <th class=\"blank level0\" ></th>        <th class=\"col_heading level0 col0\" >symbol</th>        <th class=\"col_heading level0 col1\" >actual</th>        <th class=\"col_heading level0 col2\" >theo</th>        <th class=\"col_heading level0 col3\" >actual_vs_theo</th>    </tr></thead><tbody>\n",
       "                <tr>\n",
       "                        <th id=\"T_957d24a4_ba50_11ea_bdc5_8c859025e7f9level0_row0\" class=\"row_heading level0 row0\" >236</th>\n",
       "                        <td id=\"T_957d24a4_ba50_11ea_bdc5_8c859025e7f9row0_col0\" class=\"data row0 col0\" >ESJ14</td>\n",
       "                        <td id=\"T_957d24a4_ba50_11ea_bdc5_8c859025e7f9row0_col1\" class=\"data row0 col1\" >20140417</td>\n",
       "                        <td id=\"T_957d24a4_ba50_11ea_bdc5_8c859025e7f9row0_col2\" class=\"data row0 col2\" >20140418</td>\n",
       "                        <td id=\"T_957d24a4_ba50_11ea_bdc5_8c859025e7f9row0_col3\" class=\"data row0 col3\" >False</td>\n",
       "            </tr>\n",
       "    </tbody></table>"
      ],
      "text/plain": [
       "<pandas.io.formats.style.Styler at 0x1141f82b0>"
      ]
     },
     "metadata": {},
     "output_type": "display_data"
    }
   ],
   "source": [
    "for sym in ['CL','NG','ES']:\n",
    "    df_pga_expiry2 = df_pga_expiry[df_pga_expiry.symbol.str.contains(sym)].copy()\n",
    "    df_pga_expiry2['theo'] = [yyyymmdd_from_dt(get_expiry(s.strip())) for s in df_pga_expiry2.symbol.values]\n",
    "    df_pga_expiry2 = df_pga_expiry2.rename(columns={'settle_date':'actual'})\n",
    "    df_pga_expiry2['actual_vs_theo'] = df_pga_expiry2.actual == df_pga_expiry2.theo\n",
    "    num_ok = len(df_pga_expiry2[df_pga_expiry2.actual_vs_theo])\n",
    "    num_bad = len(df_pga_expiry2[~df_pga_expiry2.actual_vs_theo])\n",
    "    title = f\"{sym} good:{num_ok} bad:{num_bad}\"\n",
    "    display(dashapp.add_df_title(df_pga_expiry2[~df_pga_expiry2.actual_vs_theo],title))\n",
    "    "
   ]
  },
  {
   "cell_type": "code",
   "execution_count": 8,
   "metadata": {},
   "outputs": [
    {
     "data": {
      "text/html": [
       "<div>\n",
       "<style scoped>\n",
       "    .dataframe tbody tr th:only-of-type {\n",
       "        vertical-align: middle;\n",
       "    }\n",
       "\n",
       "    .dataframe tbody tr th {\n",
       "        vertical-align: top;\n",
       "    }\n",
       "\n",
       "    .dataframe thead th {\n",
       "        text-align: right;\n",
       "    }\n",
       "</style>\n",
       "<table border=\"1\" class=\"dataframe\">\n",
       "  <thead>\n",
       "    <tr style=\"text-align: right;\">\n",
       "      <th></th>\n",
       "      <th>symbol</th>\n",
       "      <th>expiry</th>\n",
       "      <th>theo_expiry</th>\n",
       "      <th>theo_is_good</th>\n",
       "    </tr>\n",
       "  </thead>\n",
       "  <tbody>\n",
       "    <tr>\n",
       "      <th>3</th>\n",
       "      <td>CLJ20</td>\n",
       "      <td>20200317</td>\n",
       "      <td>20200317</td>\n",
       "      <td>True</td>\n",
       "    </tr>\n",
       "    <tr>\n",
       "      <th>4</th>\n",
       "      <td>CLK20</td>\n",
       "      <td>20200416</td>\n",
       "      <td>20200416</td>\n",
       "      <td>True</td>\n",
       "    </tr>\n",
       "    <tr>\n",
       "      <th>5</th>\n",
       "      <td>CLM20</td>\n",
       "      <td>20200514</td>\n",
       "      <td>20200514</td>\n",
       "      <td>True</td>\n",
       "    </tr>\n",
       "    <tr>\n",
       "      <th>6</th>\n",
       "      <td>CLN20</td>\n",
       "      <td>20200617</td>\n",
       "      <td>20200617</td>\n",
       "      <td>True</td>\n",
       "    </tr>\n",
       "    <tr>\n",
       "      <th>7</th>\n",
       "      <td>CLQ20</td>\n",
       "      <td>20200716</td>\n",
       "      <td>20200716</td>\n",
       "      <td>True</td>\n",
       "    </tr>\n",
       "    <tr>\n",
       "      <th>8</th>\n",
       "      <td>CLU20</td>\n",
       "      <td>20200817</td>\n",
       "      <td>20200817</td>\n",
       "      <td>True</td>\n",
       "    </tr>\n",
       "    <tr>\n",
       "      <th>9</th>\n",
       "      <td>CLV20</td>\n",
       "      <td>20200917</td>\n",
       "      <td>20200917</td>\n",
       "      <td>True</td>\n",
       "    </tr>\n",
       "    <tr>\n",
       "      <th>10</th>\n",
       "      <td>CLX20</td>\n",
       "      <td>20201015</td>\n",
       "      <td>20201015</td>\n",
       "      <td>True</td>\n",
       "    </tr>\n",
       "    <tr>\n",
       "      <th>11</th>\n",
       "      <td>CLZ20</td>\n",
       "      <td>20201117</td>\n",
       "      <td>20201117</td>\n",
       "      <td>True</td>\n",
       "    </tr>\n",
       "    <tr>\n",
       "      <th>0</th>\n",
       "      <td>CLF21</td>\n",
       "      <td>20201216</td>\n",
       "      <td>20201216</td>\n",
       "      <td>True</td>\n",
       "    </tr>\n",
       "    <tr>\n",
       "      <th>1</th>\n",
       "      <td>CLG21</td>\n",
       "      <td>20210114</td>\n",
       "      <td>20210114</td>\n",
       "      <td>True</td>\n",
       "    </tr>\n",
       "    <tr>\n",
       "      <th>2</th>\n",
       "      <td>CLH21</td>\n",
       "      <td>20210217</td>\n",
       "      <td>20210217</td>\n",
       "      <td>True</td>\n",
       "    </tr>\n",
       "    <tr>\n",
       "      <th>3</th>\n",
       "      <td>CLJ21</td>\n",
       "      <td>20210317</td>\n",
       "      <td>20210317</td>\n",
       "      <td>True</td>\n",
       "    </tr>\n",
       "    <tr>\n",
       "      <th>4</th>\n",
       "      <td>CLK21</td>\n",
       "      <td>20210415</td>\n",
       "      <td>20210415</td>\n",
       "      <td>True</td>\n",
       "    </tr>\n",
       "    <tr>\n",
       "      <th>5</th>\n",
       "      <td>CLM21</td>\n",
       "      <td>20210517</td>\n",
       "      <td>20210517</td>\n",
       "      <td>True</td>\n",
       "    </tr>\n",
       "    <tr>\n",
       "      <th>6</th>\n",
       "      <td>CLN21</td>\n",
       "      <td>20210617</td>\n",
       "      <td>20210617</td>\n",
       "      <td>True</td>\n",
       "    </tr>\n",
       "    <tr>\n",
       "      <th>7</th>\n",
       "      <td>CLQ21</td>\n",
       "      <td>20210715</td>\n",
       "      <td>20210715</td>\n",
       "      <td>True</td>\n",
       "    </tr>\n",
       "    <tr>\n",
       "      <th>8</th>\n",
       "      <td>CLU21</td>\n",
       "      <td>20210817</td>\n",
       "      <td>20210817</td>\n",
       "      <td>True</td>\n",
       "    </tr>\n",
       "    <tr>\n",
       "      <th>9</th>\n",
       "      <td>CLV21</td>\n",
       "      <td>20210916</td>\n",
       "      <td>20210916</td>\n",
       "      <td>True</td>\n",
       "    </tr>\n",
       "    <tr>\n",
       "      <th>10</th>\n",
       "      <td>CLX21</td>\n",
       "      <td>20211015</td>\n",
       "      <td>20211015</td>\n",
       "      <td>True</td>\n",
       "    </tr>\n",
       "    <tr>\n",
       "      <th>11</th>\n",
       "      <td>CLZ21</td>\n",
       "      <td>20211116</td>\n",
       "      <td>20211116</td>\n",
       "      <td>True</td>\n",
       "    </tr>\n",
       "    <tr>\n",
       "      <th>5</th>\n",
       "      <td>CLM22</td>\n",
       "      <td>20220517</td>\n",
       "      <td>20220517</td>\n",
       "      <td>True</td>\n",
       "    </tr>\n",
       "    <tr>\n",
       "      <th>11</th>\n",
       "      <td>CLZ22</td>\n",
       "      <td>20221116</td>\n",
       "      <td>20221116</td>\n",
       "      <td>True</td>\n",
       "    </tr>\n",
       "  </tbody>\n",
       "</table>\n",
       "</div>"
      ],
      "text/plain": [
       "   symbol    expiry  theo_expiry  theo_is_good\n",
       "3   CLJ20  20200317     20200317          True\n",
       "4   CLK20  20200416     20200416          True\n",
       "5   CLM20  20200514     20200514          True\n",
       "6   CLN20  20200617     20200617          True\n",
       "7   CLQ20  20200716     20200716          True\n",
       "8   CLU20  20200817     20200817          True\n",
       "9   CLV20  20200917     20200917          True\n",
       "10  CLX20  20201015     20201015          True\n",
       "11  CLZ20  20201117     20201117          True\n",
       "0   CLF21  20201216     20201216          True\n",
       "1   CLG21  20210114     20210114          True\n",
       "2   CLH21  20210217     20210217          True\n",
       "3   CLJ21  20210317     20210317          True\n",
       "4   CLK21  20210415     20210415          True\n",
       "5   CLM21  20210517     20210517          True\n",
       "6   CLN21  20210617     20210617          True\n",
       "7   CLQ21  20210715     20210715          True\n",
       "8   CLU21  20210817     20210817          True\n",
       "9   CLV21  20210916     20210916          True\n",
       "10  CLX21  20211015     20211015          True\n",
       "11  CLZ21  20211116     20211116          True\n",
       "5   CLM22  20220517     20220517          True\n",
       "11  CLZ22  20221116     20221116          True"
      ]
     },
     "execution_count": 8,
     "metadata": {},
     "output_type": "execute_result"
    }
   ],
   "source": [
    "c = \"CL\"\n",
    "ybeg = 20\n",
    "yend = 23\n",
    "df_exp = None\n",
    "for y in range(ybeg,yend+1):\n",
    "    dft = pd.read_csv(f'expiration_data/commod_expirations_{c}{y}.csv')\n",
    "    if df_exp is None:\n",
    "        df_exp = dft.copy()\n",
    "    else:\n",
    "        df_exp = df_exp.append(dft,)\n",
    "def mmddyy_to_yyyymmdd(mmddyy):\n",
    "    if str(mmddyy).lower() == 'nan':\n",
    "        return 99999999\n",
    "    s = mmddyy.split('/')\n",
    "    y =  2000 + int(s[2])\n",
    "    m = int(s[0])\n",
    "    d = int(s[1])\n",
    "    return (y*100*100 + m*100 + d)\n",
    "def yyyymmdd_from_symbol(s):\n",
    "    d = get_expiry(s)\n",
    "    return int(d.year*100*100 + d.month*100 + d.day)\n",
    "df_exp.expiry = df_exp.expiry.apply(lambda mmddyy:mmddyy_to_yyyymmdd(mmddyy))\n",
    "df_exp['theo_expiry'] = df_exp.symbol.apply(lambda s:yyyymmdd_from_symbol(s))\n",
    "df_exp['theo_is_good'] = df_exp.apply(lambda r: False if (r.expiry==99999999) or (r.expiry != r.theo_expiry) else True,axis=1)\n",
    "df_exp = df_exp[df_exp.expiry!=99999999]\n",
    "df_exp"
   ]
  },
  {
   "cell_type": "code",
   "execution_count": null,
   "metadata": {},
   "outputs": [],
   "source": []
  }
 ],
 "metadata": {
  "kernelspec": {
   "display_name": "Python 3",
   "language": "python",
   "name": "python3"
  },
  "language_info": {
   "codemirror_mode": {
    "name": "ipython",
    "version": 3
   },
   "file_extension": ".py",
   "mimetype": "text/x-python",
   "name": "python",
   "nbconvert_exporter": "python",
   "pygments_lexer": "ipython3",
   "version": "3.6.5"
  }
 },
 "nbformat": 4,
 "nbformat_minor": 4
}
