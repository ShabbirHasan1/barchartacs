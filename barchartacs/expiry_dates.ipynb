{
 "cells": [
  {
   "cell_type": "code",
   "execution_count": 1,
   "metadata": {},
   "outputs": [],
   "source": [
    "import warnings\n",
    "warnings.filterwarnings(\"ignore\")\n",
    "import logging\n",
    "mpl_logger = logging.getLogger('matplotlib')\n",
    "mpl_logger.setLevel(logging.WARNING)\n"
   ]
  },
  {
   "cell_type": "markdown",
   "metadata": {},
   "source": [
    "## Commodities Expiration Functions\n",
    "\n",
    "\n",
    "\n",
    "\n"
   ]
  },
  {
   "cell_type": "code",
   "execution_count": 2,
   "metadata": {},
   "outputs": [],
   "source": [
    "import os,sys\n",
    "import numpy as np\n",
    "import pandas as pd\n",
    "from pandas.tseries.offsets import BDay\n",
    "import pandas_datareader.data as pdr\n",
    "import datetime\n",
    "import pytz\n",
    "import pathlib\n",
    "from dateutil.relativedelta import *\n",
    "import pandas_market_calendars as pmc\n",
    "import pathlib\n",
    "from dashapp import dashapp2 as dashapp\n",
    "import os,sys\n",
    "import requests\n",
    "import io\n",
    "import subprocess\n",
    "import re\n",
    "import xml.etree.ElementTree as ET\n",
    "import xmltodict\n",
    "import zipfile\n",
    "import chrome_driver_upload as cdu\n",
    "from pandas.tseries.holiday import USFederalHolidayCalendar\n",
    "import sel_scrape as sc\n",
    "import db_info\n",
    "import pdb\n",
    "\n",
    "from tqdm import tqdm,tqdm_notebook"
   ]
  },
  {
   "cell_type": "code",
   "execution_count": 3,
   "metadata": {},
   "outputs": [],
   "source": [
    "# important constants used below\n",
    "MONTH_CODES = 'FGHJKMNQUVXZ'\n",
    "DICT_MONTH_CODE = {MONTH_CODES[i]:i+1 for i in range(len(MONTH_CODES))}\n",
    "TIMEZONE = 'US/Eastern'\n",
    "CHROME_DOWNLOADED=False\n",
    "THIS_DECADE = int(str(int(datetime.datetime.now().year))[2])*10\n",
    "DO_DATABASE_COMPARE=False"
   ]
  },
  {
   "cell_type": "code",
   "execution_count": 4,
   "metadata": {},
   "outputs": [],
   "source": [
    "# DOWNLOAD_CHROMEDRIVER = False\n",
    "# if DOWNLOAD_CHROMEDRIVER and not CHROME_DOWNLOADED:\n",
    "#     cdu.download_chromedriver()\n",
    "#     CHROME_DOWNLOADED=True\n",
    "# sac = sc.SelScrape(headless=False,driver_name='chrome')#,profile_path=pp)\n",
    "# sac.goto('https://www.cmegroup.com/tools-information/quikstrike/options-calendar.html')\n"
   ]
  },
  {
   "cell_type": "code",
   "execution_count": null,
   "metadata": {},
   "outputs": [],
   "source": []
  },
  {
   "cell_type": "code",
   "execution_count": 5,
   "metadata": {},
   "outputs": [],
   "source": [
    "# uk_holidays = open('expiration_data/uk_holidays.csv').readlines()\n",
    "# uksplit = [','.join(l.split(',')) for l in  uk_holidays]\n",
    "# fio = io.StringIO()\n",
    "# fio.writelines(uksplit)\n",
    "# fio.seek(0)\n",
    "# df_ukh = pd.read_csv(fio)\n",
    "# def ukh_to_yyyymmdd(month_day,year):\n",
    "#     md = month_day.strip()\n",
    "#     d = datetime.datetime.strptime(f'{md} {year}', '%B %d %Y')\n",
    "#     return d\n",
    "# #     return d.strftime(\"%Y-%m-%d\")\n",
    "\n",
    "# year_cols = [c for c in df_ukh.columns.values if '20' in str(c)]\n",
    "# for c in year_cols:\n",
    "#     df_ukh[c] = df_ukh[c].apply(lambda s:ukh_to_yyyymmdd(s,c))\n",
    "# uk_holidays = sorted(df_ukh[year_cols].values.reshape(-1))\n"
   ]
  },
  {
   "cell_type": "code",
   "execution_count": 6,
   "metadata": {},
   "outputs": [],
   "source": [
    "# df_ukh"
   ]
  },
  {
   "cell_type": "code",
   "execution_count": 7,
   "metadata": {
    "scrolled": true
   },
   "outputs": [
    {
     "name": "stderr",
     "output_type": "stream",
     "text": [
      "2020-07-01 16:13:38,955 - numexpr.utils - INFO - NumExpr defaulting to 4 threads.\n"
     ]
    }
   ],
   "source": [
    "# bday_us = pd.offsets.CustomBusinessDay(calendar=USFederalHolidayCalendar())\n",
    "# bday_uk = pd.offsets.CustomBusinessDay(holidays=uk_holidays)\n",
    "\n",
    "from pandas.tseries.holiday import AbstractHolidayCalendar, Holiday, nearest_workday, \\\n",
    "    next_monday,next_monday_or_tuesday,USMartinLutherKingJr, USPresidentsDay, \\\n",
    "    GoodFriday, USMemorialDay, USLaborDay, USThanksgivingDay,EasterMonday\n",
    "\n",
    "class USTradingCalendar(AbstractHolidayCalendar):\n",
    "    rules = [\n",
    "        Holiday('NewYearsDay', month=1, day=1, observance=nearest_workday),\n",
    "        USMartinLutherKingJr,\n",
    "        USPresidentsDay,\n",
    "        GoodFriday,\n",
    "        USMemorialDay,\n",
    "        Holiday('USIndependenceDay', month=7, day=4, observance=nearest_workday),\n",
    "        USLaborDay,\n",
    "        USThanksgivingDay,\n",
    "        Holiday('Christmas', month=12, day=25, observance=nearest_workday),\n",
    "    ]\n",
    "\n",
    "bday_us = pd.offsets.CustomBusinessDay(calendar=USTradingCalendar())\n",
    "\n",
    "class UKTradingCalendar(AbstractHolidayCalendar):\n",
    "    rules = [\n",
    "        Holiday('NewYearsDay', month=1, day=1, observance=nearest_workday),\n",
    "        GoodFriday,\n",
    "        EasterMonday,\n",
    "        Holiday('EarlyMayHoliday',month=5,day=1,offset=pd.DateOffset(weekday=MO(1))),\n",
    "        Holiday('SpringBankHoliday',month=6,day=1,offset=pd.DateOffset(weekday=MO(-1))),\n",
    "        Holiday('SummerBankHoliday',month=9,day=1,offset=pd.DateOffset(weekday=MO(-1))),\n",
    "        Holiday('StAndrewsDay',month=11,day=30),\n",
    "        Holiday('Christmas', month=12, day=25, observance=next_monday),\n",
    "        Holiday('Christmas', month=12, day=26, observance=next_monday_or_tuesday),\n",
    "    ]    \n",
    "    \n",
    "bday_uk = pd.offsets.CustomBusinessDay(calendar=UKTradingCalendar())"
   ]
  },
  {
   "cell_type": "code",
   "execution_count": 127,
   "metadata": {},
   "outputs": [
    {
     "data": {
      "text/plain": [
       "2011-01    2.186849\n",
       "2011-02    1.386757\n",
       "2011-03   -0.466509\n",
       "2011-04    0.541812\n",
       "2011-05   -2.526971\n",
       "2011-06   -0.513648\n",
       "2011-07    0.134549\n",
       "2011-08   -1.198023\n",
       "2011-09   -1.657903\n",
       "2011-10    0.634970\n",
       "2011-11   -0.006940\n",
       "2011-12   -0.715316\n",
       "2012-01    1.650521\n",
       "Freq: M, dtype: float64"
      ]
     },
     "execution_count": 127,
     "metadata": {},
     "output_type": "execute_result"
    }
   ],
   "source": [
    "prng = pd.period_range('1/1/2011', '1/1/2012', freq='M')\n",
    "ps = pd.Series(np.random.randn(len(prng)), prng)\n",
    "ps"
   ]
  },
  {
   "cell_type": "code",
   "execution_count": 126,
   "metadata": {},
   "outputs": [
    {
     "data": {
      "text/plain": [
       "[Timestamp('2016-02-01 00:00:00', freq='MS'),\n",
       " Timestamp('2016-02-01 00:00:00', freq='MS')]"
      ]
     },
     "execution_count": 126,
     "metadata": {},
     "output_type": "execute_result"
    }
   ],
   "source": [
    "pi = pd.period_range('2016-01-01', periods=3, freq='M')\n",
    "[p[1] for p in [pi.astype('datetime64')[0:2],pi.astype('datetime64[D]')[0:2]]]"
   ]
  },
  {
   "cell_type": "code",
   "execution_count": null,
   "metadata": {},
   "outputs": [],
   "source": [
    "# given that\n",
    "# when you use a quarterly Period as the start arg of the period_range method, \n",
    "# and a freq arg of \"M\", why does the period_range method produce the first Period\n",
    "# object as a Period which starts on the last month of the"
   ]
  },
  {
   "cell_type": "code",
   "execution_count": 8,
   "metadata": {},
   "outputs": [],
   "source": [
    "def get_thanksgiving_dt(year):    \n",
    "    iyyyy = int(year)\n",
    "    holidays = USTradingCalendar().holidays(start=f'{iyyyy}-11-01', end=f'{iyyyy}-11-30', return_name=True)\n",
    "    df_holidays = holidays.to_frame()\n",
    "    df_holidays =df_holidays.reset_index()\n",
    "    df_holidays.columns=['hdate','hname']\n",
    "    return df_holidays[['giving' in v.lower() for v  in df_holidays.hname.values]].hdate.values[0]\n",
    "\n",
    "\n"
   ]
  },
  {
   "cell_type": "code",
   "execution_count": 9,
   "metadata": {},
   "outputs": [],
   "source": [
    "_DAY_INDEX = ['MON','TUE','WED','THU','FRI','SAT','SUN']\n",
    "def get_nth_weekday(year,month,target_weekday,nth_occurrence):\n",
    "    '''\n",
    "    weekday is the term that assigns numbers from 0 to 6 to the days of the weeks.\n",
    "    weekday 0 = monday\n",
    "    '''\n",
    "    f = f'W-{_DAY_INDEX[target_weekday]}'\n",
    "    dr = pd.date_range(datetime.datetime(year,month,1), periods=nth_occurrence, freq=f)[-1]\n",
    "    return dr\n",
    "#     # get dayofweeks of year,month,1\n",
    "#     weekday_01 = datetime.datetime(year,month,1).weekday()\n",
    "#     if weekday_01 <= target_weekday:\n",
    "#         day_of_month_of_first_occurence = target_weekday - weekday_01\n",
    "#         day_of_month_of_nth_occurence = day_of_month_of_first_occurence + 1 + (nth_occurrence - 1) * 7\n",
    "#     else:\n",
    "#         day_of_month_of_nth_occurence = target_weekday - weekday_01 + 1 + (nth_occurrence) * 7 \n",
    "#     return datetime.datetime(year,month,day_of_month_of_nth_occurence)\n",
    "\n",
    "\n",
    "\n",
    "\n",
    "def get_ES_options_expiry(symbol):\n",
    "    '''\n",
    "    3rd friday of month of symbol\n",
    "    '''\n",
    "    monthcode_yy = symbol[2:]\n",
    "    month = DICT_MONTH_CODE[monthcode_yy[0]]\n",
    "    year = 2000 + int(monthcode_yy[1:])\n",
    "    return get_nth_weekday(year,month,4,3)\n",
    "\n",
    "\n",
    "def get_E6_options_expiry(symbol):\n",
    "    monthcode_yy = symbol[2:]\n",
    "    next_month = DICT_MONTH_CODE[monthcode_yy[0]] + 1\n",
    "    year = 2000 + int(monthcode_yy[1:])\n",
    "    if next_month>12:\n",
    "        next_month = 1\n",
    "        year += 1\n",
    "    return datetime.datetime(year,next_month,1) - 7*bday_us\n",
    "\n",
    "def get_LO_options_expiry(symbol):\n",
    "    return get_CL_options_expiry('CL'+symbol[-3:])\n",
    "\n",
    "def get_CL_options_expiry(symbol):\n",
    "    '''\n",
    "    Trading terminates 7 business days before the 26th calendar of the month prior to the contract month.\n",
    "    '''\n",
    "    monthcode_yy = symbol[2:]\n",
    "    month = DICT_MONTH_CODE[monthcode_yy[0]]\n",
    "    year = 2000 + int(monthcode_yy[1:])\n",
    "    month = month -1\n",
    "    if month<1:\n",
    "        month = 12\n",
    "        year = year - 1\n",
    "    return datetime.datetime(year,month,26) - 7*bday_us\n",
    "\n",
    "def get_ON_options_expiry(symbol):\n",
    "    return get_NG_options_expiry('NG'+symbol[-3:])\n",
    "\n",
    "def get_LNE_options_expiry(symbol):\n",
    "    return get_NG_options_expiry('NG'+symbol[-3:])\n",
    "\n",
    "def get_NG_options_expiry(symbol):\n",
    "    monthcode_yy = symbol[-3:]\n",
    "    month = DICT_MONTH_CODE[monthcode_yy[0]]\n",
    "    year = 2000 + int(monthcode_yy[1:])\n",
    "    return datetime.datetime(year,month,1) - 4*bday_us\n",
    "\n",
    "def get_GE_options_expiry(symbol):\n",
    "    \"\"\"\n",
    "    Quarterly:\n",
    "    The second London bank business day before the third Wednesday \n",
    "    of the contract month. Trading in expiring contracts ceases at \n",
    "    11:00 a.m. London Time on the last trading day\n",
    "    \n",
    "    Serialy:\n",
    "    The Friday immediately preceding the third Wednesday of the contract month.\n",
    "    \"\"\"\n",
    "    monthcode_yy = symbol[-3:]\n",
    "    month = DICT_MONTH_CODE[monthcode_yy[0]]\n",
    "    year = 2000 + int(monthcode_yy[1:])\n",
    "    wed_3 = get_nth_weekday(year,month,2,3)\n",
    "    mc = monthcode_yy[0]\n",
    "    dr = pd.date_range(datetime.datetime(year,month,1), periods=3, freq='W-WED')\n",
    "    if mc in ['H','M','U','Z']:        \n",
    "        r = [d - 2*bday_uk for d in dr][-1]\n",
    "    else:\n",
    "        r = [d - datetime.timedelta(5) for d in dr][-1] + 1*bday_uk - 1*bday_uk\n",
    "    return r\n",
    "\n",
    "def get_CB_options_expiry(symbol):\n",
    "    '''\n",
    "    This is the spec for the CME Brent, but it matches ICE.\n",
    "    Trading terminates the 4th last London business day of \n",
    "    the month, 2 months prior to the contract month \n",
    "    except for the February contract month which \n",
    "    terminates the 5th last London business day of the \n",
    "    month, 2 months prior to the contract month.  \n",
    "    '''\n",
    "    monthcode_yy = symbol[2:]\n",
    "    month = DICT_MONTH_CODE[monthcode_yy[0]]\n",
    "    year = 2000 + int(monthcode_yy[1:])\n",
    "    month = month - 1\n",
    "    if month<1:\n",
    "        month = 12 + month\n",
    "        year = year - 1\n",
    "    days_to_subtract = 4\n",
    "    if monthcode_yy[0] =='G':\n",
    "        days_to_subtract = 5\n",
    "    elif monthcode_yy[0] == 'F':\n",
    "        days_to_subtract = 3\n",
    "#     elif monthcode_yy == 'N22':\n",
    "#         days_to_subtract = 7\n",
    "    return datetime.datetime(year,month,1,0,0) - days_to_subtract * bday_uk\n",
    "\n",
    "\n",
    "def get_GC_options_expiry(symbol):\n",
    "    \"\"\"\n",
    "    Trading terminates at 12:30 p.m. CT on the 4th last business day of the month\n",
    "    prior to the contract month. \n",
    "    If the 4th last business day occurs on a Friday \n",
    "    or the day before a holiday, \n",
    "    trading terminates on the prior business day.\n",
    "    \"\"\"\n",
    "    exp_dt = get_ON_options_expiry(symbol)\n",
    "    r = exp_dt\n",
    "    if exp_dt.weekday()==4:\n",
    "        r =  exp_dt - 1*bday_us\n",
    "    td1 = datetime.timedelta(1)\n",
    "    is_day_before_thanksgiv = (get_thanksgiving_dt(r.year) - (r + td1)).days == 0 \n",
    "    if is_day_before_thanksgiv:\n",
    "        r = r - td1\n",
    "    return r\n",
    "\n",
    "def get_ZS_options_expiry(symbol):\n",
    "    \"\"\"\n",
    "    Trading terminates on Friday which precedes, by at least 2 business days, \n",
    "    the last business day of the month prior to the contract month.\n",
    "    \"\"\"\n",
    "    monthcode_yy = symbol[-3:]\n",
    "    month = DICT_MONTH_CODE[monthcode_yy[0]]\n",
    "    year = 2000 + int(monthcode_yy[1:])\n",
    "    r =  datetime.datetime(year,month,1) - 3*bday_us\n",
    "#     pdb.set_trace()\n",
    "    dow = r.weekday()\n",
    "    if dow>=4:\n",
    "        days_to_subtract = dow-4\n",
    "    else:\n",
    "        # find the first friday before r\n",
    "        days_to_subtract = dow-4+7\n",
    "    r = r - datetime.timedelta(days_to_subtract)\n",
    "    return r+1*bday_us - 1*bday_us\n",
    "        \n",
    "\n",
    "DICT_PRODUCT = {\n",
    "    'E6':get_E6_options_expiry,\n",
    "    'ES':get_ES_options_expiry,\n",
    "    'CL':get_CL_options_expiry,\n",
    "    'NG':get_NG_options_expiry,\n",
    "    'LO':get_LO_options_expiry,\n",
    "    'ON':get_ON_options_expiry,\n",
    "    'LNE':get_LNE_options_expiry,\n",
    "    'LN':get_ON_options_expiry,\n",
    "    'CB':get_CB_options_expiry,\n",
    "    'RB':get_ON_options_expiry,\n",
    "    'HO':get_ON_options_expiry,\n",
    "    'OB':get_ON_options_expiry,\n",
    "    'OH':get_ON_options_expiry,\n",
    "    'GC':get_GC_options_expiry,\n",
    "    'OG':get_GC_options_expiry,\n",
    "    'SI':get_GC_options_expiry,\n",
    "    'SO':get_GC_options_expiry,\n",
    "    'ZS':get_ZS_options_expiry,\n",
    "    'OZS':get_ZS_options_expiry,\n",
    "    'ZC':get_ZS_options_expiry,\n",
    "    'OZC':get_ZS_options_expiry,\n",
    "    'ZW':get_ZS_options_expiry,\n",
    "    'OZW':get_ZS_options_expiry,\n",
    "    'ZL':get_ZS_options_expiry,\n",
    "    'OZL':get_ZS_options_expiry,\n",
    "    'GE':get_GE_options_expiry,\n",
    "}\n",
    "\n",
    "    \n",
    "def get_expiry(symbol):\n",
    "    product = symbol[:-3]\n",
    "    f = DICT_PRODUCT[product]\n",
    "    expiry =  f(symbol)\n",
    "    if (expiry.weekday()==0) and (expiry.month==12 and expiry.day==27):\n",
    "        expiry=expiry + 1*bday_us\n",
    "    return expiry\n",
    "\n",
    "\n",
    "def dt_from_yyyymmdd(yyyymmdd,hour=0,minute=0,timezone=TIMEZONE):\n",
    "    y = int(str(yyyymmdd)[0:4])\n",
    "    m = int(str(yyyymmdd)[4:6])\n",
    "    d = int(str(yyyymmdd)[6:8])  \n",
    "    return datetime.datetime(y,m,d,hour,minute,tzinfo=pytz.timezone(timezone))\n",
    "\n",
    "def yyyymmdd_from_dt(dt):\n",
    "    y = int(dt.year)\n",
    "    m = int(dt.month)\n",
    "    d = int(dt.day)\n",
    "    return y*100*100 + m*100 + d\n",
    "\n",
    "def get_dte_pct(trade_yyyymmdd,expiry_yyyymmdd):\n",
    "    dt_td = dt_from_yyyymmdd(trade_yyyymmdd)\n",
    "    dt_xp = dt_from_yyyymmdd(expiry_yyyymmdd)\n",
    "    return ((dt_xp - dt_td).days + 1)/365\n"
   ]
  },
  {
   "cell_type": "code",
   "execution_count": 11,
   "metadata": {},
   "outputs": [
    {
     "data": {
      "text/plain": [
       "Timestamp('2020-12-14 00:00:00')"
      ]
     },
     "execution_count": 11,
     "metadata": {},
     "output_type": "execute_result"
    }
   ],
   "source": [
    "get_expiry('GEZ20')#,df_cme_expiry[df_cme_expiry.option_symbol=='GEZ20'].option_expiry.values"
   ]
  },
  {
   "cell_type": "code",
   "execution_count": 12,
   "metadata": {},
   "outputs": [
    {
     "data": {
      "text/plain": [
       "Timestamp('2020-06-30 00:00:00')"
      ]
     },
     "execution_count": 12,
     "metadata": {},
     "output_type": "execute_result"
    }
   ],
   "source": [
    "#pd.DateOffset(weekday=MO(2))\n",
    "from pandas.tseries.holiday import TU,MO\n",
    "pd.Timestamp(2020,7,1) + pd.DateOffset(weekday=TU(-1))\n"
   ]
  },
  {
   "cell_type": "markdown",
   "metadata": {},
   "source": [
    "### Methods to extract all current CME expirations from CME website"
   ]
  },
  {
   "cell_type": "code",
   "execution_count": 13,
   "metadata": {},
   "outputs": [],
   "source": [
    "def get_full_underlying_symbol(r,decade=2,underlying_col='Underlying Symbol'):\n",
    "    underyear = int(re.findall('[0-9]{1,2}$',r[underlying_col])[0])\n",
    "    if underyear > 9:\n",
    "        return r[underlying_col]\n",
    "    under_symbol_no_year = r[underlying_col][:-1]\n",
    "    return under_symbol_no_year + str(decade*10+underyear)\n",
    "\n",
    "def get_full_option_symbol(r,decade=2,option_col='Option Symbol',\n",
    "                           underlying_col='Underlying Symbol'):\n",
    "    optyear = int(re.findall('[0-9]{1,2}$',r[option_col])[0])\n",
    "    if optyear>9:\n",
    "        return r[option_col]\n",
    "\n",
    "    # we have a one character option year\n",
    "    # first see if this option month is different than the underlying month\n",
    "    op_monthcode = re.findall('[A-Z][0-9]{1,2}$',r[option_col])[0][0]\n",
    "    un_monthcode = re.findall('[A-Z][0-9]{1,2}$',r[underlying_col])[0][0]\n",
    "    underyear = int(re.findall('[0-9]{1,2}$',r[underlying_col])[0])\n",
    "    if (underyear > 9) and (op_monthcode==un_monthcode):\n",
    "        return r[option_col][:-1] + str(underyear)\n",
    "    opt_symbol_no_year = r[option_col][:-1]\n",
    "    return opt_symbol_no_year + str(decade*10+optyear)\n",
    "\n"
   ]
  },
  {
   "cell_type": "code",
   "execution_count": 14,
   "metadata": {},
   "outputs": [],
   "source": [
    "def get_cme_expiries():    \n",
    "    df_eee_all = None\n",
    "    for i in tqdm_notebook(range(1,7)):\n",
    "        url = f'https://cmegroup-tools.quikstrike.net/User/Export/CME/ExpirationCalendar.aspx?GroupId={i}'\n",
    "        df_eee_temp = pd.read_csv(url)\n",
    "        if df_eee_all is None:\n",
    "            df_eee_all = df_eee_temp.copy()\n",
    "        else:\n",
    "            df_eee_all = df_eee_all.append(df_eee_temp,ignore_index=True)\n",
    "        df_eee_all.index = list(range(len(df_eee_all)))\n",
    "\n",
    "    oexps = [s[:10] for s in df_eee_all['Option Expiration Date (CT)'].values]\n",
    "    exp_dts = [datetime.datetime.strptime(str_date,'%m/%d/%Y') for str_date in oexps]\n",
    "    df_eee_all['option_expiry'] = exp_dts\n",
    "\n",
    "    unexps = ['01/01/1900' if 'nan' in str(s).lower() else s[:10] for s in df_eee_all['Underlying Expiration Date (CT)'].values]\n",
    "    unexp_dts = [datetime.datetime.strptime(str_date,'%m/%d/%Y') for str_date in unexps]\n",
    "    df_eee_all['underlying_expiry'] = unexp_dts\n",
    "\n",
    "    df_eee_all['underlying_symbol'] = df_eee_all.apply(get_full_underlying_symbol,axis=1)\n",
    "    opsym_lambda = lambda r:get_full_option_symbol(r,underlying_col='underlying_symbol')\n",
    "    df_eee_all['option_symbol'] = df_eee_all.apply(opsym_lambda,axis=1)\n",
    "    return df_eee_all\n"
   ]
  },
  {
   "cell_type": "code",
   "execution_count": 15,
   "metadata": {},
   "outputs": [
    {
     "data": {
      "application/vnd.jupyter.widget-view+json": {
       "model_id": "5f6d8dd59de1470cbcbe0293484038ad",
       "version_major": 2,
       "version_minor": 0
      },
      "text/plain": [
       "HBox(children=(FloatProgress(value=0.0, max=6.0), HTML(value='')))"
      ]
     },
     "metadata": {},
     "output_type": "display_data"
    },
    {
     "name": "stdout",
     "output_type": "stream",
     "text": [
      "\n"
     ]
    }
   ],
   "source": [
    "df_cme_expiry = get_cme_expiries()"
   ]
  },
  {
   "cell_type": "code",
   "execution_count": 16,
   "metadata": {},
   "outputs": [
    {
     "data": {
      "text/html": [
       "<div>\n",
       "<style scoped>\n",
       "    .dataframe tbody tr th:only-of-type {\n",
       "        vertical-align: middle;\n",
       "    }\n",
       "\n",
       "    .dataframe tbody tr th {\n",
       "        vertical-align: top;\n",
       "    }\n",
       "\n",
       "    .dataframe thead th {\n",
       "        text-align: right;\n",
       "    }\n",
       "</style>\n",
       "<table border=\"1\" class=\"dataframe\">\n",
       "  <thead>\n",
       "    <tr style=\"text-align: right;\">\n",
       "      <th></th>\n",
       "      <th>Option First Trade Date</th>\n",
       "      <th>Option Expiration Date (CT)</th>\n",
       "      <th>Option Product</th>\n",
       "      <th>Option Symbol</th>\n",
       "      <th>Underlying Symbol</th>\n",
       "      <th>Underlying Expiration Date (CT)</th>\n",
       "      <th>option_expiry</th>\n",
       "      <th>underlying_expiry</th>\n",
       "      <th>underlying_symbol</th>\n",
       "      <th>option_symbol</th>\n",
       "    </tr>\n",
       "  </thead>\n",
       "  <tbody>\n",
       "    <tr>\n",
       "      <th>204</th>\n",
       "      <td>08/24/2020</td>\n",
       "      <td>11/20/2020 13:20:00</td>\n",
       "      <td>Soybean Options</td>\n",
       "      <td>OZSZ0</td>\n",
       "      <td>ZSF1</td>\n",
       "      <td>01/14/2021 12:01:00</td>\n",
       "      <td>2020-11-20</td>\n",
       "      <td>2021-01-14</td>\n",
       "      <td>ZSF21</td>\n",
       "      <td>OZSZ20</td>\n",
       "    </tr>\n",
       "    <tr>\n",
       "      <th>604</th>\n",
       "      <td>06/10/2019</td>\n",
       "      <td>12/14/2029 12:30:00</td>\n",
       "      <td>Crude Oil Options</td>\n",
       "      <td>LOF0</td>\n",
       "      <td>CLF30</td>\n",
       "      <td>12/19/2029 13:30:00</td>\n",
       "      <td>2029-12-14</td>\n",
       "      <td>2029-12-19</td>\n",
       "      <td>CLF30</td>\n",
       "      <td>LOF30</td>\n",
       "    </tr>\n",
       "  </tbody>\n",
       "</table>\n",
       "</div>"
      ],
      "text/plain": [
       "    Option First Trade Date Option Expiration Date (CT)     Option Product  \\\n",
       "204              08/24/2020         11/20/2020 13:20:00    Soybean Options   \n",
       "604              06/10/2019         12/14/2029 12:30:00  Crude Oil Options   \n",
       "\n",
       "    Option Symbol Underlying Symbol Underlying Expiration Date (CT)  \\\n",
       "204         OZSZ0              ZSF1             01/14/2021 12:01:00   \n",
       "604          LOF0             CLF30             12/19/2029 13:30:00   \n",
       "\n",
       "    option_expiry underlying_expiry underlying_symbol option_symbol  \n",
       "204    2020-11-20        2021-01-14             ZSF21        OZSZ20  \n",
       "604    2029-12-14        2029-12-19             CLF30         LOF30  "
      ]
     },
     "execution_count": 16,
     "metadata": {},
     "output_type": "execute_result"
    }
   ],
   "source": [
    "df_cme_expiry.query(\"option_symbol in ['OZSZ20','LOF30']\")"
   ]
  },
  {
   "cell_type": "markdown",
   "metadata": {},
   "source": [
    "### Test get_expiry with know expirations in the future"
   ]
  },
  {
   "cell_type": "code",
   "execution_count": 17,
   "metadata": {},
   "outputs": [
    {
     "data": {
      "application/vnd.jupyter.widget-view+json": {
       "model_id": "2c54169a637043798f2d71d5624371a8",
       "version_major": 2,
       "version_minor": 0
      },
      "text/plain": [
       "HBox(children=(FloatProgress(value=0.0, max=12.0), HTML(value='')))"
      ]
     },
     "metadata": {},
     "output_type": "display_data"
    },
    {
     "data": {
      "text/html": [
       "<style  type=\"text/css\" >\n",
       "</style><table id=\"T_70742ca6_bbd7_11ea_bf4a_8c859025e7f9\" ><caption><div style='text-align:center;'>LO good:139 bad:0</div></caption><thead>    <tr>        <th class=\"blank level0\" ></th>        <th class=\"col_heading level0 col0\" >option_symbol</th>        <th class=\"col_heading level0 col1\" >underlying_symbol</th>        <th class=\"col_heading level0 col2\" >option_expiry</th>        <th class=\"col_heading level0 col3\" >underlying_expiry</th>        <th class=\"col_heading level0 col4\" >theo</th>        <th class=\"col_heading level0 col5\" >actual</th>        <th class=\"col_heading level0 col6\" >theo_vs_actual</th>    </tr></thead><tbody>\n",
       "        </tbody></table>"
      ],
      "text/plain": [
       "<pandas.io.formats.style.Styler at 0x118d03c18>"
      ]
     },
     "metadata": {},
     "output_type": "display_data"
    },
    {
     "data": {
      "text/html": [
       "<style  type=\"text/css\" >\n",
       "</style><table id=\"T_7079f2ba_bbd7_11ea_9bfe_8c859025e7f9\" ><caption><div style='text-align:center;'>LNE good:161 bad:0</div></caption><thead>    <tr>        <th class=\"blank level0\" ></th>        <th class=\"col_heading level0 col0\" >option_symbol</th>        <th class=\"col_heading level0 col1\" >underlying_symbol</th>        <th class=\"col_heading level0 col2\" >option_expiry</th>        <th class=\"col_heading level0 col3\" >underlying_expiry</th>        <th class=\"col_heading level0 col4\" >theo</th>        <th class=\"col_heading level0 col5\" >actual</th>        <th class=\"col_heading level0 col6\" >theo_vs_actual</th>    </tr></thead><tbody>\n",
       "        </tbody></table>"
      ],
      "text/plain": [
       "<pandas.io.formats.style.Styler at 0x1180da320>"
      ]
     },
     "metadata": {},
     "output_type": "display_data"
    },
    {
     "data": {
      "text/html": [
       "<style  type=\"text/css\" >\n",
       "</style><table id=\"T_707c1dda_bbd7_11ea_9f7e_8c859025e7f9\" ><caption><div style='text-align:center;'>ES good:6 bad:0</div></caption><thead>    <tr>        <th class=\"blank level0\" ></th>        <th class=\"col_heading level0 col0\" >option_symbol</th>        <th class=\"col_heading level0 col1\" >underlying_symbol</th>        <th class=\"col_heading level0 col2\" >option_expiry</th>        <th class=\"col_heading level0 col3\" >underlying_expiry</th>        <th class=\"col_heading level0 col4\" >theo</th>        <th class=\"col_heading level0 col5\" >actual</th>        <th class=\"col_heading level0 col6\" >theo_vs_actual</th>    </tr></thead><tbody>\n",
       "        </tbody></table>"
      ],
      "text/plain": [
       "<pandas.io.formats.style.Styler at 0x118d03908>"
      ]
     },
     "metadata": {},
     "output_type": "display_data"
    },
    {
     "data": {
      "text/html": [
       "<style  type=\"text/css\" >\n",
       "</style><table id=\"T_707dfb9e_bbd7_11ea_9451_8c859025e7f9\" ><caption><div style='text-align:center;'>OB good:54 bad:0</div></caption><thead>    <tr>        <th class=\"blank level0\" ></th>        <th class=\"col_heading level0 col0\" >option_symbol</th>        <th class=\"col_heading level0 col1\" >underlying_symbol</th>        <th class=\"col_heading level0 col2\" >option_expiry</th>        <th class=\"col_heading level0 col3\" >underlying_expiry</th>        <th class=\"col_heading level0 col4\" >theo</th>        <th class=\"col_heading level0 col5\" >actual</th>        <th class=\"col_heading level0 col6\" >theo_vs_actual</th>    </tr></thead><tbody>\n",
       "        </tbody></table>"
      ],
      "text/plain": [
       "<pandas.io.formats.style.Styler at 0x10b952c88>"
      ]
     },
     "metadata": {},
     "output_type": "display_data"
    },
    {
     "data": {
      "text/html": [
       "<style  type=\"text/css\" >\n",
       "</style><table id=\"T_708066e2_bbd7_11ea_9b76_8c859025e7f9\" ><caption><div style='text-align:center;'>OH good:54 bad:0</div></caption><thead>    <tr>        <th class=\"blank level0\" ></th>        <th class=\"col_heading level0 col0\" >option_symbol</th>        <th class=\"col_heading level0 col1\" >underlying_symbol</th>        <th class=\"col_heading level0 col2\" >option_expiry</th>        <th class=\"col_heading level0 col3\" >underlying_expiry</th>        <th class=\"col_heading level0 col4\" >theo</th>        <th class=\"col_heading level0 col5\" >actual</th>        <th class=\"col_heading level0 col6\" >theo_vs_actual</th>    </tr></thead><tbody>\n",
       "        </tbody></table>"
      ],
      "text/plain": [
       "<pandas.io.formats.style.Styler at 0x119af39b0>"
      ]
     },
     "metadata": {},
     "output_type": "display_data"
    },
    {
     "data": {
      "text/html": [
       "<style  type=\"text/css\" >\n",
       "</style><table id=\"T_710f4fa6_bbd7_11ea_a3f4_8c859025e7f9\" ><caption><div style='text-align:center;'>OG good:37 bad:0</div></caption><thead>    <tr>        <th class=\"blank level0\" ></th>        <th class=\"col_heading level0 col0\" >option_symbol</th>        <th class=\"col_heading level0 col1\" >underlying_symbol</th>        <th class=\"col_heading level0 col2\" >option_expiry</th>        <th class=\"col_heading level0 col3\" >underlying_expiry</th>        <th class=\"col_heading level0 col4\" >theo</th>        <th class=\"col_heading level0 col5\" >actual</th>        <th class=\"col_heading level0 col6\" >theo_vs_actual</th>    </tr></thead><tbody>\n",
       "        </tbody></table>"
      ],
      "text/plain": [
       "<pandas.io.formats.style.Styler at 0x10c5aea90>"
      ]
     },
     "metadata": {},
     "output_type": "display_data"
    },
    {
     "data": {
      "text/html": [
       "<style  type=\"text/css\" >\n",
       "</style><table id=\"T_71681942_bbd7_11ea_89a7_8c859025e7f9\" ><caption><div style='text-align:center;'>SO good:24 bad:0</div></caption><thead>    <tr>        <th class=\"blank level0\" ></th>        <th class=\"col_heading level0 col0\" >option_symbol</th>        <th class=\"col_heading level0 col1\" >underlying_symbol</th>        <th class=\"col_heading level0 col2\" >option_expiry</th>        <th class=\"col_heading level0 col3\" >underlying_expiry</th>        <th class=\"col_heading level0 col4\" >theo</th>        <th class=\"col_heading level0 col5\" >actual</th>        <th class=\"col_heading level0 col6\" >theo_vs_actual</th>    </tr></thead><tbody>\n",
       "        </tbody></table>"
      ],
      "text/plain": [
       "<pandas.io.formats.style.Styler at 0x1180da390>"
      ]
     },
     "metadata": {},
     "output_type": "display_data"
    },
    {
     "data": {
      "text/html": [
       "<style  type=\"text/css\" >\n",
       "</style><table id=\"T_716a0734_bbd7_11ea_9779_8c859025e7f9\" ><caption><div style='text-align:center;'>OZS good:19 bad:0</div></caption><thead>    <tr>        <th class=\"blank level0\" ></th>        <th class=\"col_heading level0 col0\" >option_symbol</th>        <th class=\"col_heading level0 col1\" >underlying_symbol</th>        <th class=\"col_heading level0 col2\" >option_expiry</th>        <th class=\"col_heading level0 col3\" >underlying_expiry</th>        <th class=\"col_heading level0 col4\" >theo</th>        <th class=\"col_heading level0 col5\" >actual</th>        <th class=\"col_heading level0 col6\" >theo_vs_actual</th>    </tr></thead><tbody>\n",
       "        </tbody></table>"
      ],
      "text/plain": [
       "<pandas.io.formats.style.Styler at 0x119872cc0>"
      ]
     },
     "metadata": {},
     "output_type": "display_data"
    },
    {
     "data": {
      "text/html": [
       "<style  type=\"text/css\" >\n",
       "</style><table id=\"T_716c18a8_bbd7_11ea_b74a_8c859025e7f9\" ><caption><div style='text-align:center;'>OZC good:20 bad:0</div></caption><thead>    <tr>        <th class=\"blank level0\" ></th>        <th class=\"col_heading level0 col0\" >option_symbol</th>        <th class=\"col_heading level0 col1\" >underlying_symbol</th>        <th class=\"col_heading level0 col2\" >option_expiry</th>        <th class=\"col_heading level0 col3\" >underlying_expiry</th>        <th class=\"col_heading level0 col4\" >theo</th>        <th class=\"col_heading level0 col5\" >actual</th>        <th class=\"col_heading level0 col6\" >theo_vs_actual</th>    </tr></thead><tbody>\n",
       "        </tbody></table>"
      ],
      "text/plain": [
       "<pandas.io.formats.style.Styler at 0x119872e10>"
      ]
     },
     "metadata": {},
     "output_type": "display_data"
    },
    {
     "data": {
      "text/html": [
       "<style  type=\"text/css\" >\n",
       "</style><table id=\"T_716dcaa4_bbd7_11ea_871b_8c859025e7f9\" ><caption><div style='text-align:center;'>OZW good:17 bad:0</div></caption><thead>    <tr>        <th class=\"blank level0\" ></th>        <th class=\"col_heading level0 col0\" >option_symbol</th>        <th class=\"col_heading level0 col1\" >underlying_symbol</th>        <th class=\"col_heading level0 col2\" >option_expiry</th>        <th class=\"col_heading level0 col3\" >underlying_expiry</th>        <th class=\"col_heading level0 col4\" >theo</th>        <th class=\"col_heading level0 col5\" >actual</th>        <th class=\"col_heading level0 col6\" >theo_vs_actual</th>    </tr></thead><tbody>\n",
       "        </tbody></table>"
      ],
      "text/plain": [
       "<pandas.io.formats.style.Styler at 0x10ad7e9e8>"
      ]
     },
     "metadata": {},
     "output_type": "display_data"
    },
    {
     "data": {
      "text/html": [
       "<style  type=\"text/css\" >\n",
       "</style><table id=\"T_7170cf42_bbd7_11ea_ab04_8c859025e7f9\" ><caption><div style='text-align:center;'>OZL good:20 bad:0</div></caption><thead>    <tr>        <th class=\"blank level0\" ></th>        <th class=\"col_heading level0 col0\" >option_symbol</th>        <th class=\"col_heading level0 col1\" >underlying_symbol</th>        <th class=\"col_heading level0 col2\" >option_expiry</th>        <th class=\"col_heading level0 col3\" >underlying_expiry</th>        <th class=\"col_heading level0 col4\" >theo</th>        <th class=\"col_heading level0 col5\" >actual</th>        <th class=\"col_heading level0 col6\" >theo_vs_actual</th>    </tr></thead><tbody>\n",
       "        </tbody></table>"
      ],
      "text/plain": [
       "<pandas.io.formats.style.Styler at 0x1180da320>"
      ]
     },
     "metadata": {},
     "output_type": "display_data"
    },
    {
     "data": {
      "text/html": [
       "<style  type=\"text/css\" >\n",
       "</style><table id=\"T_7174f2f4_bbd7_11ea_b356_8c859025e7f9\" ><caption><div style='text-align:center;'>GE good:28 bad:0</div></caption><thead>    <tr>        <th class=\"blank level0\" ></th>        <th class=\"col_heading level0 col0\" >option_symbol</th>        <th class=\"col_heading level0 col1\" >underlying_symbol</th>        <th class=\"col_heading level0 col2\" >option_expiry</th>        <th class=\"col_heading level0 col3\" >underlying_expiry</th>        <th class=\"col_heading level0 col4\" >theo</th>        <th class=\"col_heading level0 col5\" >actual</th>        <th class=\"col_heading level0 col6\" >theo_vs_actual</th>    </tr></thead><tbody>\n",
       "        </tbody></table>"
      ],
      "text/plain": [
       "<pandas.io.formats.style.Styler at 0x10b952c88>"
      ]
     },
     "metadata": {},
     "output_type": "display_data"
    },
    {
     "name": "stdout",
     "output_type": "stream",
     "text": [
      "\n"
     ]
    }
   ],
   "source": [
    "for op_sym in tqdm_notebook(['LO','LNE','ES','OB','OH','OG','SO','OZS','OZC','OZW','OZL','GE']):\n",
    "    df_lo = df_cme_expiry[df_cme_expiry.option_symbol.str.contains(f'^{op_sym}[FGHJKMNQUVXZ][2-4][0-9]')][['option_symbol','underlying_symbol','option_expiry','underlying_expiry']]\n",
    "    if len(df_lo)<1:\n",
    "        print('no matches')\n",
    "    else:\n",
    "        clsyms = df_lo.option_symbol.values\n",
    "        theo_expiries = [get_expiry(s) for s in clsyms]\n",
    "        df_lo['theo'] = theo_expiries\n",
    "        df_lo['actual'] = df_lo.option_expiry\n",
    "        df_lo['theo_vs_actual'] = df_lo.actual == df_lo.theo\n",
    "        len_good = len(df_lo[df_lo.theo_vs_actual])\n",
    "        len_bad = len(df_lo[~df_lo.theo_vs_actual])\n",
    "        title = f\"{op_sym} good:{len_good} bad:{len_bad}\"\n",
    "        display(dashapp.add_df_title(df_lo[~df_lo.theo_vs_actual],title))\n"
   ]
  },
  {
   "cell_type": "markdown",
   "metadata": {},
   "source": [
    "### Test get_expiry against past expirations"
   ]
  },
  {
   "cell_type": "code",
   "execution_count": 15,
   "metadata": {},
   "outputs": [],
   "source": [
    "if DO_DATABASE_COMPARE:\n",
    "    pga = db_info.get_db_info()\n",
    "    futtab = 'sec_schema.underlying_table'\n",
    "    opttab = 'sec_schema.options_table'\n"
   ]
  },
  {
   "cell_type": "code",
   "execution_count": 16,
   "metadata": {},
   "outputs": [],
   "source": [
    "if DO_DATABASE_COMPARE:\n",
    "    df_pga_expiry = None\n",
    "    for sym in tqdm(['CL','NG','ES','CB']):\n",
    "        sql = f\"\"\"\n",
    "        with f0 as\n",
    "        (\n",
    "          select max(settle_date) as max_settle_date from {opttab}\n",
    "          where substring(symbol,1,2) = '{sym}'\n",
    "        ),\n",
    "        f1 as \n",
    "        (\n",
    "            select symbol,max(settle_date) settle_date from {opttab}\n",
    "            where substring(symbol,1,2) = '{sym}'\n",
    "            group by symbol\n",
    "        )\n",
    "        select * from f1 where f1.settle_date < (select max_settle_date from f0)\n",
    "        \"\"\"\n",
    "        df_pga_expiry_temp = pga.get_sql(sql)\n",
    "        if df_pga_expiry is None:\n",
    "            df_pga_expiry = df_pga_expiry_temp.copy()\n",
    "        else:\n",
    "            df_pga_expiry = df_pga_expiry.append(df_pga_expiry_temp,ignore_index=True)\n"
   ]
  },
  {
   "cell_type": "code",
   "execution_count": null,
   "metadata": {},
   "outputs": [],
   "source": []
  },
  {
   "cell_type": "code",
   "execution_count": 17,
   "metadata": {},
   "outputs": [],
   "source": [
    "if DO_DATABASE_COMPARE:\n",
    "    for sym in ['CL','NG','ES']:\n",
    "        df_pga_expiry2 = df_pga_expiry[df_pga_expiry.symbol.str.contains(sym)].copy()\n",
    "        df_pga_expiry2['theo'] = [yyyymmdd_from_dt(get_expiry(s.strip())) for s in df_pga_expiry2.symbol.values]\n",
    "        df_pga_expiry2 = df_pga_expiry2.rename(columns={'settle_date':'actual'})\n",
    "        df_pga_expiry2['actual_vs_theo'] = df_pga_expiry2.actual == df_pga_expiry2.theo\n",
    "        num_ok = len(df_pga_expiry2[df_pga_expiry2.actual_vs_theo])\n",
    "        num_bad = len(df_pga_expiry2[~df_pga_expiry2.actual_vs_theo])\n",
    "        title = f\"{sym} good:{num_ok} bad:{num_bad}\"\n",
    "        display(dashapp.add_df_title(df_pga_expiry2[~df_pga_expiry2.actual_vs_theo],title))\n",
    "    "
   ]
  }
 ],
 "metadata": {
  "kernelspec": {
   "display_name": "Python 3",
   "language": "python",
   "name": "python3"
  },
  "language_info": {
   "codemirror_mode": {
    "name": "ipython",
    "version": 3
   },
   "file_extension": ".py",
   "mimetype": "text/x-python",
   "name": "python",
   "nbconvert_exporter": "python",
   "pygments_lexer": "ipython3",
   "version": "3.6.5"
  }
 },
 "nbformat": 4,
 "nbformat_minor": 4
}
