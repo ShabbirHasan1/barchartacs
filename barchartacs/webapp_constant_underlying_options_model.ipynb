{
 "cells": [
  {
   "cell_type": "code",
   "execution_count": 2,
   "metadata": {},
   "outputs": [],
   "source": [
    "import warnings\n",
    "warnings.filterwarnings(\"ignore\")"
   ]
  },
  {
   "cell_type": "markdown",
   "metadata": {},
   "source": [
    "## Research the idea of computing a history of implied volatilities by always having the underlying price the same value\n",
    "* **This requires plotly 4.0 or greater** *\n",
    "\n",
    "Calculate the implied volatility of each days options as if the underlying futures contract were always some fixed value. For example, if the actual futures is 100, make that price 50, and then change all of the strike prices so that the strike prices are relative to the value 50.  \n",
    "\n",
    "1. The 100 call would be a 50 dollar call.  \n",
    "2. The 95 put would be a 45 dollar put.  \n",
    "3. The 105 call would be a 55 dollar call\n"
   ]
  },
  {
   "cell_type": "code",
   "execution_count": 1,
   "metadata": {},
   "outputs": [
    {
     "data": {
      "text/html": [
       "        <script type=\"text/javascript\">\n",
       "        window.PlotlyConfig = {MathJaxConfig: 'local'};\n",
       "        if (window.MathJax) {MathJax.Hub.Config({SVG: {font: \"STIX-Web\"}});}\n",
       "        if (typeof require !== 'undefined') {\n",
       "        require.undef(\"plotly\");\n",
       "        requirejs.config({\n",
       "            paths: {\n",
       "                'plotly': ['https://cdn.plot.ly/plotly-latest.min']\n",
       "            }\n",
       "        });\n",
       "        require(['plotly'], function(Plotly) {\n",
       "            window._Plotly = Plotly;\n",
       "        });\n",
       "        }\n",
       "        </script>\n",
       "        "
      ]
     },
     "metadata": {},
     "output_type": "display_data"
    },
    {
     "name": "stderr",
     "output_type": "stream",
     "text": [
      "/Users/bperlman1/Virtualenvs3/dashrisk5/lib/python3.6/site-packages/pandas_datareader/compat/__init__.py:7: FutureWarning:\n",
      "\n",
      "pandas.util.testing is deprecated. Use the functions in the public API at pandas.testing instead.\n",
      "\n"
     ]
    }
   ],
   "source": [
    "import zipfile\n",
    "import glob\n",
    "import pandas as pd\n",
    "import numpy as np\n",
    "\n",
    "from argparse import ArgumentParser\n",
    "from argparse import RawDescriptionHelpFormatter\n",
    "import sys\n",
    "import os\n",
    "if  not './' in sys.path:\n",
    "    sys.path.append('./')\n",
    "if  not '../' in sys.path:\n",
    "    sys.path.append('../')\n",
    "\n",
    "from barchartacs import build_db\n",
    "from barchartacs import db_info\n",
    "import plotly.graph_objs as go\n",
    "from plotly.offline import  init_notebook_mode, iplot\n",
    "init_notebook_mode(connected=True)\n",
    "import plotly.tools as tls\n",
    "from plotly.subplots import make_subplots\n",
    "from plotly.graph_objs.layout import Font,Margin\n",
    "from IPython import display\n",
    "\n",
    "import datetime\n",
    "import pytz\n",
    "import pathlib\n",
    "from dateutil.relativedelta import *\n",
    "import pandas_market_calendars as pmc\n",
    "\n",
    "import io\n",
    "from tqdm import tqdm,tqdm_notebook\n",
    "from barchartacs import pg_pandas as pg\n",
    "import mibian\n",
    "import py_vollib\n",
    "import importlib\n",
    "from py_vollib import black\n",
    "from py_vollib.black import implied_volatility\n",
    "import ipdb\n",
    "import traceback\n",
    "import pandas_datareader.data as pdr\n",
    "from dashapp import dashapp2 as dashapp\n",
    "import dash_html_components as html\n",
    "import dash_core_components as dcc\n",
    "\n",
    "\n",
    "# importlib.reload(build_db)"
   ]
  },
  {
   "cell_type": "markdown",
   "metadata": {},
   "source": [
    "### important global variables"
   ]
  },
  {
   "cell_type": "code",
   "execution_count": 4,
   "metadata": {},
   "outputs": [
    {
     "name": "stdout",
     "output_type": "stream",
     "text": [
      "  sec_db\n",
      "futtab max date:         max\n",
      "0  20200617\n",
      "opttab max date:         max\n",
      "0  20200617\n"
     ]
    }
   ],
   "source": [
    "\n",
    "DEBUG_IT=False\n",
    "opttab = 'sec_schema.options_table'\n",
    "futtab = 'sec_schema.underlying_table'\n",
    "pga = db_info.get_db_info()\n",
    "print(f\"futtab max date: {pga.get_sql(f'select max(settle_date) from {futtab}')}\")\n",
    "print(f\"opttab max date: {pga.get_sql(f'select max(settle_date) from {opttab}')}\")\n"
   ]
  },
  {
   "cell_type": "code",
   "execution_count": 4,
   "metadata": {},
   "outputs": [],
   "source": [
    "def create_skew_per_date_df(df):\n",
    "    '''\n",
    "    Find the first settle_date whose count of rows is equal to max count of rows.\n",
    "    '''\n",
    "    # get the first symbol (which should be the only symbol)\n",
    "    contract = df.symbol.unique()[0]\n",
    "    # get just that symbol's data\n",
    "    df12 = df[df.symbol==contract]\n",
    "    df_counts = df12[['settle_date','moneyness']].groupby('settle_date',as_index=False).count()\n",
    "    max_count = df_counts.moneyness.max()\n",
    "    first_max_count_settle_date = df_counts[df_counts.moneyness==max_count].iloc[0].settle_date\n",
    "    \n",
    "    df_ret = df12[df12.settle_date==first_max_count_settle_date][['moneyness']]\n",
    "    all_settle_dates = sorted(df_counts.settle_date.unique())\n",
    "    for settle_date in all_settle_dates:\n",
    "        df_temp = df12[df12.settle_date==settle_date][['moneyness','vol_skew']]\n",
    "        df_ret = df_ret.merge(df_temp,on='moneyness',how='outer')\n",
    "        df_ret = df_ret.rename(columns={'vol_skew':str(settle_date)})\n",
    "    df_ret = df_ret.sort_values('moneyness')\n",
    "    df_ret.moneyness = df_ret.moneyness.round(4)\n",
    "    return df_ret\n"
   ]
  },
  {
   "cell_type": "code",
   "execution_count": 5,
   "metadata": {
    "scrolled": true
   },
   "outputs": [],
   "source": [
    "def graph_skew(df_iv_final,do_plot=False):\n",
    "    '''\n",
    "    Graph skew for ONLY ONE symbol.\n",
    "    If df_iv_final contains more than one symbol, we will only graph the first symbol in the DataFrames    \n",
    "    '''\n",
    "    # get the first symbol (which should be the only symbol)\n",
    "    contract = df_iv_final.symbol.unique()[0]\n",
    "    # get just that symbol's data and only days that have sufficient skew data\n",
    "    dft = df_iv_final[df_iv_final.symbol==contract]\n",
    "    dft_count = dft[['settle_date','symbol']].groupby('settle_date',as_index=False).count()\n",
    "    valid_settle_dates = dft_count[dft_count.symbol>2].settle_date.unique()\n",
    "    dft = dft[dft.settle_date.isin(valid_settle_dates)]\n",
    "    dfp = create_skew_per_date_df(dft)\n",
    "    \n",
    "    settle_dates = sorted([c for c in dfp.columns.values if c != 'moneyness'])\n",
    "    splits = list(np.arange(5,len(settle_dates),5))\n",
    "    settle_date_groups = np.split(np.array(settle_dates),splits)\n",
    "    ret_figs = []\n",
    "    for sdg in settle_date_groups:\n",
    "        sdg_sorted = [str(c) for c in sorted(sdg)]\n",
    "        cols = ['moneyness']+list(sdg_sorted)\n",
    "        dfp_sub = dfp[cols]\n",
    "        t = f'{contract} {sdg[0]} - {sdg[-1]}' \n",
    "        f = plotly_plot(dfp_sub,x_column='moneyness',plot_title=t,y_left_label='vol skew')\n",
    "        ret_figs.append(f)\n",
    "        if do_plot:\n",
    "            iplot(f)\n",
    "    return ret_figs"
   ]
  },
  {
   "cell_type": "markdown",
   "metadata": {},
   "source": [
    "#### Do the same plots as above, but using a grid"
   ]
  },
  {
   "cell_type": "code",
   "execution_count": 6,
   "metadata": {},
   "outputs": [],
   "source": [
    "\n",
    "def graph_skew_subplot_quad(fig_group,rows=1,cols=2):\n",
    "    '''\n",
    "    Use subplots to output the results of the method graph_skew above\n",
    "    '''\n",
    "    f1 = make_subplots(rows=rows, cols=cols,  \n",
    "        shared_yaxes=False,\n",
    "        shared_xaxes=False,                       \n",
    "        subplot_titles=[fig_group[i]['layout'].title.text for i in range(len(fig_group))],\n",
    "        horizontal_spacing=0.05,\n",
    "        vertical_spacing=0.11,                       \n",
    "        print_grid=False)\n",
    "\n",
    "    pl_width=450*cols \n",
    "    pl_height=400*rows\n",
    "    title = 'Skew plots<br>'\n",
    "\n",
    "    f1.update_layout(title=title,                                 \n",
    "        font= Font(family=\"Open Sans, sans-serif\"),\n",
    "        showlegend=True,     \n",
    "        hovermode='x',  \n",
    "        autosize=True,       \n",
    "        width=pl_width,       \n",
    "        height=pl_height,\n",
    "        plot_bgcolor='#EFECEA', \n",
    "        bargap=0.05,\n",
    "        margin=Margin(\n",
    "                      l=5,\n",
    "                      r=5,\n",
    "                      b=55,\n",
    "                      t=50\n",
    "        )\n",
    "    )    \n",
    "\n",
    "    for i in range(len(fig_group)):\n",
    "        x = int(i/2) + 1\n",
    "        y = i % 2 + 1\n",
    "        f = fig_group[i]\n",
    "        l = f.layout\n",
    "        if y > 1:\n",
    "            l.yaxis.title=''\n",
    "        try:\n",
    "            yaxis = f'yaxis{i+1}'\n",
    "            xaxis = f'xaxis{i+1}'\n",
    "            if i < 10:\n",
    "                yaxis = yaxis.replace('1','') \n",
    "                xaxis = xaxis.replace('1','') \n",
    "            gname = f'{x,y}'#rfs[i]['layout'].title\n",
    "            for d in f.data:\n",
    "                data_y = f'y{i+1}'.replace('1','') \n",
    "                d['yaxis']=data_y\n",
    "                d['legendgroup'] =  gname\n",
    "                d['name'] = f\"{d.name}\"\n",
    "                f1.add_trace(d,x,y)\n",
    "                f1.update_xaxes(patch=l.xaxis,row=x,col=y)\n",
    "                f1.update_yaxes(patch=l.yaxis,row=x,col=y)                \n",
    "        except Exception as e:\n",
    "            print(f'graph_skew_subplots ERRORS: {str(e)}')\n",
    "    return f1\n",
    "\n",
    "\n",
    "def graph_skew_subplots(df,rows=2,cols=2):\n",
    "    fig_list = graph_skew(df)\n",
    "    n = rows*cols   \n",
    "    # using list comprehension \n",
    "    fig_groups = [fig_list[i*n:(i + 1)*n] for i in range((len(fig_list) + n - 1) // n )]  \n",
    "    for fig_group in fig_groups:\n",
    "        iplot(graph_skew_subplot_quad(fig_group,rows=rows,cols=cols))\n"
   ]
  },
  {
   "cell_type": "markdown",
   "metadata": {},
   "source": [
    "### Graph skew changes historically, per day"
   ]
  },
  {
   "cell_type": "code",
   "execution_count": 7,
   "metadata": {},
   "outputs": [
    {
     "data": {
      "text/plain": [
       "array(['CLG14', 'CLH14', 'CLJ14', 'CLK14', 'CLM14', 'CLN14', 'CLQ14',\n",
       "       'CLU14', 'CLV14', 'CLX14', 'CLZ14', 'CLF15', 'CLG15', 'CLH15',\n",
       "       'CLJ15', 'CLK15', 'CLM15', 'CLN15', 'CLQ15', 'CLU15', 'CLV15',\n",
       "       'CLX15', 'CLZ15', 'CLF16', 'CLM16', 'CLZ16', 'CLZ17', 'CLZ18',\n",
       "       'CLH16', 'CLK16', 'CLM17', 'CLM18', 'CLG16', 'CLJ16', 'CLN16',\n",
       "       'CLQ16', 'CLU16', 'CLV16', 'CLX16', 'CLZ19', 'CLK17', 'CLF17',\n",
       "       'CLG17', 'CLH17', 'CLJ17', 'CLN17', 'CLQ17', 'CLU17', 'CLV17',\n",
       "       'CLX17', 'CLF18', 'CLG18', 'CLH18', 'CLJ18', 'CLK18', 'CLN18',\n",
       "       'CLQ18', 'CLU18', 'CLV18', 'CLX18', 'CLZ20', 'CLF19', 'CLM20',\n",
       "       'CLM19', 'CLG19', 'CLH19', 'CLJ19', 'CLK19', 'CLN19', 'CLQ19',\n",
       "       'CLU19', 'CLV19', 'CLX19', 'CLF20', 'CLZ21', 'CLZ22', 'CLH20',\n",
       "       'CLM21', 'CLG20', 'CLJ20', 'CLK20', 'CLN20', 'CLQ20', 'CLU20',\n",
       "       'CLV20', 'CLX20', 'CLZ23', 'CLG21', 'CLF21', 'CLH21', 'CLJ21',\n",
       "       'CLK21', 'CLN21', 'CLQ21', 'CLU21', 'CLV21', 'CLX21', 'CLM22',\n",
       "       'CLM23', 'CLF22', 'CLG11', 'CLH11', 'CLJ11', 'CLK11', 'CLM11',\n",
       "       'CLN11', 'CLQ11', 'CLU11', 'CLV11', 'CLX11', 'CLZ11', 'CLF12',\n",
       "       'CLG12', 'CLH12', 'CLJ12', 'CLK12', 'CLM12', 'CLN12', 'CLQ12',\n",
       "       'CLU12', 'CLV12', 'CLX12', 'CLZ12', 'CLF13', 'CLM13', 'CLZ13',\n",
       "       'CLG13', 'CLH13', 'CLJ13', 'CLK13', 'CLN13', 'CLQ13', 'CLU13',\n",
       "       'CLV13', 'CLX13', 'CLF14', 'CLH22', 'CLG22'], dtype=object)"
      ]
     },
     "execution_count": 7,
     "metadata": {},
     "output_type": "execute_result"
    }
   ],
   "source": [
    "SYMBOL_TO_RESEARCH = 'CL'\n",
    "all_contracts = pga.get_sql(f\"select symbol from {opttab} where substring(symbol,1,2)='{SYMBOL_TO_RESEARCH}'\").symbol.unique()\n",
    "all_contracts "
   ]
  },
  {
   "cell_type": "code",
   "execution_count": 8,
   "metadata": {},
   "outputs": [
    {
     "data": {
      "text/plain": [
       "[numpy.datetime64('2020-01-02T00:00:00.000000000'),\n",
       " numpy.datetime64('2020-04-10T00:00:00.000000000'),\n",
       " numpy.datetime64('2020-04-13T00:00:00.000000000'),\n",
       " numpy.datetime64('2020-05-04T00:00:00.000000000'),\n",
       " numpy.datetime64('2020-05-25T00:00:00.000000000'),\n",
       " numpy.datetime64('2020-08-31T00:00:00.000000000'),\n",
       " numpy.datetime64('2020-11-30T00:00:00.000000000'),\n",
       " numpy.datetime64('2020-12-25T00:00:00.000000000'),\n",
       " numpy.datetime64('2020-12-28T00:00:00.000000000'),\n",
       " numpy.datetime64('2021-01-01T00:00:00.000000000'),\n",
       " numpy.datetime64('2021-04-02T00:00:00.000000000'),\n",
       " numpy.datetime64('2021-04-05T00:00:00.000000000'),\n",
       " numpy.datetime64('2021-05-03T00:00:00.000000000'),\n",
       " numpy.datetime64('2021-05-31T00:00:00.000000000'),\n",
       " numpy.datetime64('2021-08-30T00:00:00.000000000'),\n",
       " numpy.datetime64('2021-11-30T00:00:00.000000000'),\n",
       " numpy.datetime64('2021-12-27T00:00:00.000000000'),\n",
       " numpy.datetime64('2021-12-28T00:00:00.000000000'),\n",
       " numpy.datetime64('2022-01-03T00:00:00.000000000'),\n",
       " numpy.datetime64('2022-04-15T00:00:00.000000000'),\n",
       " numpy.datetime64('2022-04-18T00:00:00.000000000'),\n",
       " numpy.datetime64('2022-05-02T00:00:00.000000000'),\n",
       " numpy.datetime64('2022-05-30T00:00:00.000000000'),\n",
       " numpy.datetime64('2022-08-29T00:00:00.000000000'),\n",
       " numpy.datetime64('2022-11-30T00:00:00.000000000'),\n",
       " numpy.datetime64('2022-12-26T00:00:00.000000000'),\n",
       " numpy.datetime64('2022-12-27T00:00:00.000000000'),\n",
       " numpy.datetime64('2023-01-02T00:00:00.000000000'),\n",
       " numpy.datetime64('2023-04-07T00:00:00.000000000'),\n",
       " numpy.datetime64('2023-04-07T00:00:00.000000000'),\n",
       " numpy.datetime64('2023-05-01T00:00:00.000000000'),\n",
       " numpy.datetime64('2023-05-29T00:00:00.000000000'),\n",
       " numpy.datetime64('2023-08-28T00:00:00.000000000'),\n",
       " numpy.datetime64('2023-11-30T00:00:00.000000000'),\n",
       " numpy.datetime64('2023-12-25T00:00:00.000000000'),\n",
       " numpy.datetime64('2023-12-26T00:00:00.000000000')]"
      ]
     },
     "execution_count": 8,
     "metadata": {},
     "output_type": "execute_result"
    }
   ],
   "source": [
    "uk_holidays = open('expiration_data/uk_holidays.csv').readlines()\n",
    "# uksplit = [','.join([t.strip('\\n') for t in l.split(',')]) for l in  uk_holidays]\n",
    "uksplit = [','.join(l.split(',')) for l in  uk_holidays]\n",
    "fio = io.StringIO()\n",
    "fio.writelines(uksplit)\n",
    "fio.seek(0)\n",
    "df_ukh = pd.read_csv(fio)\n",
    "def ukh_to_yyyymmdd(month_day,year):\n",
    "    md = month_day.strip()\n",
    "    d = datetime.datetime.strptime(f'{md} {year}', '%B %d %Y')\n",
    "    return d\n",
    "#     return d.strftime(\"%Y-%m-%d\")\n",
    "\n",
    "year_cols = [c for c in df_ukh.columns.values if '20' in str(c)]\n",
    "for c in year_cols:\n",
    "    df_ukh[c] = df_ukh[c].apply(lambda s:ukh_to_yyyymmdd(s,c))\n",
    "uk_holidays = sorted(df_ukh[year_cols].values.reshape(-1))\n",
    "uk_holidays"
   ]
  },
  {
   "cell_type": "code",
   "execution_count": 9,
   "metadata": {},
   "outputs": [
    {
     "name": "stderr",
     "output_type": "stream",
     "text": [
      "2020-06-17 12:21:10,204 - numexpr.utils - INFO - NumExpr defaulting to 4 threads.\n"
     ]
    }
   ],
   "source": [
    "MONTH_CODES = 'FGHJKMNQUVXZ'\n",
    "DICT_MONTH_CODE = {MONTH_CODES[i]:i+1 for i in range(len(MONTH_CODES))}\n",
    "\n",
    "from pandas.tseries.holiday import USFederalHolidayCalendar\n",
    "bday_us = pd.offsets.CustomBusinessDay(calendar=USFederalHolidayCalendar())\n",
    "# bday_uk = pd.offsets.CustomBusinessDay(calendar=pmc.exchange_calendar_ice.ICEExchangeCalendar().regular_holidays)\n",
    "bday_uk = pd.offsets.CustomBusinessDay(holidays=uk_holidays)\n",
    "TIMEZONE = 'US/Eastern'\n"
   ]
  },
  {
   "cell_type": "code",
   "execution_count": 10,
   "metadata": {},
   "outputs": [],
   "source": [
    "\n",
    "def get_nth_weekday(year,month,target_weekday,nth_occurrence):\n",
    "    '''\n",
    "    weekday is the term that assigns numbers from 0 to 6 to the days of the weeks.\n",
    "    weekday 0 = monday\n",
    "    '''\n",
    "    # get dayofweeks of year,month,1\n",
    "    weekday_01 = datetime.datetime(year,month,1).weekday()\n",
    "    if weekday_01 <= target_weekday:\n",
    "        day_of_month_of_first_occurence = target_weekday - weekday_01\n",
    "        day_of_month_of_nth_occurence = day_of_month_of_first_occurence + 1 + (nth_occurrence - 1) * 7\n",
    "    else:\n",
    "        day_of_month_of_nth_occurence = target_weekday - weekday_01 + 1 + (nth_occurrence) * 7 \n",
    "    return datetime.datetime(year,month,day_of_month_of_nth_occurence)\n",
    "\n",
    "\n",
    "\n",
    "\n",
    "def get_ES_expiry(symbol):\n",
    "    '''\n",
    "    3rd friday of month of symbol\n",
    "    '''\n",
    "    monthcode_yy = symbol[2:]\n",
    "    month = DICT_MONTH_CODE[monthcode_yy[0]]\n",
    "    year = 2000 + int(monthcode_yy[1:])\n",
    "    return get_nth_weekday(year,month,4,3)\n",
    "\n",
    "def get_E6_expiry(symbol):\n",
    "    monthcode_yy = symbol[2:]\n",
    "    next_month = DICT_MONTH_CODE[monthcode_yy[0]] + 1\n",
    "    year = 2000 + int(monthcode_yy[1:])\n",
    "    if next_month>12:\n",
    "        next_month = 1\n",
    "        year += 1\n",
    "    return datetime.datetime(year,next_month,1) - 7*bday_us\n",
    "\n",
    "def get_CL_expiry(symbol):\n",
    "    '''\n",
    "    Trading terminates 7 business days before the 26th calendar of the month prior to the contract month.\n",
    "    '''\n",
    "    monthcode_yy = symbol[2:]\n",
    "    month = DICT_MONTH_CODE[monthcode_yy[0]]\n",
    "    year = 2000 + int(monthcode_yy[1:])\n",
    "    month = month -1\n",
    "    if month<1:\n",
    "        month = 12\n",
    "        year = year - 1\n",
    "    return datetime.datetime(year,month,26) - 7*bday_us\n",
    "\n",
    "def get_NG_expiry(symbol):\n",
    "    monthcode_yy = symbol[2:]\n",
    "    month = DICT_MONTH_CODE[monthcode_yy[0]]\n",
    "    year = 2000 + int(monthcode_yy[1:])\n",
    "    return datetime.datetime(year,month,1) - 4*bday_us\n",
    "\n",
    "def get_CB_expiry(symbol):\n",
    "    '''\n",
    "    This is the spec for the CME Brent, but it matches ICE.\n",
    "    Trading terminates the 4th last London business day of \n",
    "    the month, 2 months prior to the contract month \n",
    "    except for the February contract month which \n",
    "    terminates the 5th last London business day of the \n",
    "    month, 2 months prior to the contract month.  \n",
    "    '''\n",
    "    monthcode_yy = symbol[2:]\n",
    "    month = DICT_MONTH_CODE[monthcode_yy[0]]\n",
    "    year = 2000 + int(monthcode_yy[1:])\n",
    "    month = month - 1\n",
    "    if month<1:\n",
    "        month = 12 + month\n",
    "        year = year - 1\n",
    "    days_to_subtract = 4\n",
    "    if monthcode_yy[0] =='G':\n",
    "        days_to_subtract = 5\n",
    "    elif monthcode_yy[0] == 'F':\n",
    "        days_to_subtract = 3\n",
    "#     elif monthcode_yy == 'N22':\n",
    "#         days_to_subtract = 7\n",
    "    return datetime.datetime(year,month,1,0,0) - days_to_subtract * bday_uk\n",
    "\n",
    "DICT_PRODUCT = {\n",
    "    'E6':get_E6_expiry,\n",
    "    'ES':get_ES_expiry,\n",
    "    'CL':get_CL_expiry,\n",
    "    'NG':get_NG_expiry,\n",
    "    'CB':get_CB_expiry,\n",
    "}\n",
    "\n",
    "    \n",
    "def get_expiry(symbol):\n",
    "    product = symbol[:2]\n",
    "    if product not in DICT_PRODUCT:\n",
    "        return None\n",
    "    f = DICT_PRODUCT[product]\n",
    "    return f(symbol)\n",
    "\n",
    "\n",
    "def dt_from_yyyymmdd(yyyymmdd,hour=0,minute=0,timezone=TIMEZONE):\n",
    "    y = int(str(yyyymmdd)[0:4])\n",
    "    m = int(str(yyyymmdd)[4:6])\n",
    "    d = int(str(yyyymmdd)[6:8])  \n",
    "    return datetime.datetime(y,m,d,hour,minute,tzinfo=pytz.timezone(timezone))\n",
    "\n",
    "def yyyymmdd_from_dt(dt):\n",
    "    y = int(dt.year)\n",
    "    m = int(dt.month)\n",
    "    d = int(dt.day)\n",
    "    return y*100*100 + m*100 + d\n",
    "\n",
    "def get_dte_pct(trade_yyyymmdd,expiry_yyyymmdd):\n",
    "    dt_td = dt_from_yyyymmdd(trade_yyyymmdd)\n",
    "    dt_xp = dt_from_yyyymmdd(expiry_yyyymmdd)\n",
    "    return ((dt_xp - dt_td).days + 1)/365\n"
   ]
  },
  {
   "cell_type": "code",
   "execution_count": 11,
   "metadata": {
    "scrolled": true
   },
   "outputs": [],
   "source": [
    "def get_postgres_data(contract,pga):\n",
    "    osql = f\"select * from {opttab} where symbol='{contract}';\"\n",
    "    dfo = pga.get_sql(osql)\n",
    "    usql = f\"select * from {futtab} where symbol='{contract}';\"\n",
    "    dfu = pga.get_sql(usql)\n",
    "    # Merge options and futures data\n",
    "    df = dfo.merge(dfu,how='inner',on=['symbol','settle_date'])\n",
    "    # Get options expiration dates\n",
    "    df_expiry_dates = dfo[['symbol','settle_date']].groupby('symbol',as_index=False).max()\n",
    "    calculated_expiry = get_expiry(contract)    \n",
    "    if calculated_expiry is not None:\n",
    "        expiry_yyyymmdd = yyyymmdd_from_dt(calculated_expiry)\n",
    "        if expiry_yyyymmdd> df_expiry_dates.iloc[0].settle_date:\n",
    "            df_expiry_dates.loc[0,'settle_date'] = expiry_yyyymmdd\n",
    "    return df,df_expiry_dates"
   ]
  },
  {
   "cell_type": "code",
   "execution_count": 82,
   "metadata": {},
   "outputs": [],
   "source": [
    "USE_PYVOL = True\n",
    "def lam_pyvol(r):\n",
    "    try:\n",
    "        return implied_volatility.implied_volatility(r.close_x,r.close_y,r.strike,.02,r.dte/365, r.pc.lower())\n",
    "    except:\n",
    "        return -1\n",
    "# lam_pyvol = lambda r:implied_volatility.implied_volatility(r.close_x,r.close_y,r.strike,.02,r.dte/365, r.pc.lower())\n",
    "lam_mibian = lambda r:mibian.BS([r.close_y,r.strike,2,r.dte], callPrice=r.close_x).impliedVolatility\n",
    "\n",
    "def get_implieds(df,df_expiry_dates):\n",
    "    df2 = df[['symbol','contract_num','pc','settle_date','strike','close_x','close_y']]\n",
    "    df9 = df2.copy()\n",
    "    df9['expiry'] = df_expiry_dates.iloc[0].settle_date\n",
    "    df9['syear'] = df9.settle_date.astype(str).str.slice(0,4).astype(int)\n",
    "    df9['smon'] = df9.settle_date.astype(str).str.slice(4,6).astype(int)\n",
    "    df9['sday'] = df9.settle_date.astype(str).str.slice(6,8).astype(int)\n",
    "    df9['eyear'] = df9.expiry.astype(str).str.slice(0,4).astype(int)\n",
    "    df9['emon'] = df9.expiry.astype(str).str.slice(4,6).astype(int)\n",
    "    df9['eday'] = df9.expiry.astype(str).str.slice(6,8).astype(int)\n",
    "    df9['sdatetime'] = df9.apply(lambda r:datetime.datetime(r.syear,r.smon,r.sday),axis=1)\n",
    "    df9['edatetime'] = df9.apply(lambda r:datetime.datetime(r.eyear,r.emon,r.eday),axis=1)\n",
    "    df9['dte'] = df9.edatetime - df9.sdatetime\n",
    "    df9.dte = df9.dte.dt.days\n",
    "    df9 = df9[['symbol','settle_date','pc','contract_num','strike','close_x','close_y','dte']]\n",
    "    df10 = df9.iloc[:len(df9)].copy()\n",
    "    df10.index = list(range(len(df10)))\n",
    "    if USE_PYVOL:\n",
    "        df10['iv'] = df10.apply(lam_pyvol,axis=1)\n",
    "    else:\n",
    "        n = 100\n",
    "        for i in tqdm_notebook(np.arange(0,len(df10)-n,n)):\n",
    "                df10.loc[i:i+n,'iv'] = df10.loc[i:i+n].apply(lam_mibian,axis=1)\n",
    "        print(f'doing remaining {datetime.datetime.now()}')\n",
    "        i = df10[df10.iv.isna()].index[0]\n",
    "        df10.loc[i:,'iv'] = df10.loc[i:].apply(lam_mbian,axis=1)\n",
    "        print(f'done with remaining {datetime.datetime.now()}')\n",
    "    return df10\n",
    "\n"
   ]
  },
  {
   "cell_type": "code",
   "execution_count": 83,
   "metadata": {},
   "outputs": [],
   "source": [
    "def get_even_moneyness_strikes(df10):\n",
    "    # define amounts around the money which will help create strikes to add\n",
    "    moneyness = np.arange(.7,1.4,.05).round(6)\n",
    "    # define columns on which to execute groupby\n",
    "#     gb_cols = ['symbol','settle_date','pc','contract_num','dte','close_y']\n",
    "    gb_cols = ['symbol','settle_date','contract_num','dte','close_y']\n",
    "    # define function used in groupby.apply to create strikes and iv's at those strikes\n",
    "    #   where the strikes are an even amount from the money \n",
    "    #   (like .7, .8, ... 1, 1.1, 1.2, etc)\n",
    "    def _add_even_moneyness_strikes(df):\n",
    "        # get underlying from first row (the groupby makes them all the same)\n",
    "        r = df.iloc[0]\n",
    "        underlying = r.close_y\n",
    "        # create new rows to append to df, using only the gb_cols\n",
    "        df_ret1 = df.iloc[:len(moneyness)][gb_cols].copy()\n",
    "        # add nan iv's !!!! MUST BE np.nan - NOT None\n",
    "        df_ret1['iv'] = np.nan\n",
    "        # add new strikes\n",
    "        df_ret1['strike'] = moneyness * underlying\n",
    "        # append the new strikes\n",
    "        dfa = df.append(df_ret1,ignore_index=True,sort=True).copy()\n",
    "        df_ret2 = dfa.sort_values(['symbol','settle_date','pc','strike'])\n",
    "        df_ret2 = df_ret2.drop_duplicates(subset='strike')\n",
    "        # set the index to the strike so that interpolate works\n",
    "        df_ret2.index = df_ret2.strike\n",
    "        # create interpolated iv's\n",
    "        df_ret2['iv'] = df_ret2.iv.interpolate(method='polynomial', order=2)\n",
    "        # reset the index\n",
    "        df_ret2.index = list(range(len(df_ret2)))\n",
    "        return df_ret2\n",
    "\n",
    "    # start here\n",
    "    df11 = df10.groupby(gb_cols).apply(_add_even_moneyness_strikes).copy()\n",
    "    df11.index = list(range(len(df11)))\n",
    "    df11['moneyness'] = df11.strike / df11.close_y\n",
    "    df11.moneyness = df11.moneyness.round(4)\n",
    "\n",
    "    df12 = df11[(df11.moneyness.isin(moneyness)) & (~df11.iv.isna())].copy()\n",
    "    df12.moneyness  = df12.moneyness - 1\n",
    "    df12.index = list(range(len(df12)))\n",
    "    df12_atm = df12[df12.moneyness==0][['symbol','settle_date','pc','iv']]\n",
    "    df12_atm = df12_atm.rename(columns={'iv':'atm_iv'})\n",
    "    \n",
    "    df12_atm = df12_atm.drop_duplicates()\n",
    "    df12 = df12.merge(df12_atm,on=['symbol','settle_date','pc'],how='inner')\n",
    "    df12.moneyness = df12.moneyness.round(4)\n",
    "    df12['vol_skew'] = (df12.iv - df12.atm_iv).round(4)\n",
    "    return df12\n",
    "\n"
   ]
  },
  {
   "cell_type": "code",
   "execution_count": 101,
   "metadata": {},
   "outputs": [],
   "source": [
    "def get_contracts(commod):\n",
    "    all_contracts = pga.get_sql(f\"select symbol from {opttab} where substring(symbol,1,2)='{commod}'\").symbol.unique()\n",
    "    return all_contracts\n",
    "\n",
    "\n",
    "def pseudo_vol(df,df_expiry,fatm=50,rows=100):\n",
    "    '''\n",
    "    get implied vol as if every underlying was the price specified in the arg fatm\n",
    "    :param df:  DataFrame with columns from get_postgres_data of:\n",
    "    'symbol','strike','pc','settle_date','close_x','close_y','contract_num'\n",
    "    :param df_expiry: a one row DataFrame with the expiration date of the options on \n",
    "       the symbol whose options data is in df\n",
    "    :param fatm: the futures atm price to use as the underlying futures for all\n",
    "      implied vol calculations\n",
    "    \n",
    "    '''\n",
    "    # get desired columns\n",
    "    df_cl2 = df[['symbol','strike','pc','settle_date','close_x','close_y','contract_num']]\n",
    "    # find the atm_op: the at the money option (closest to the money)\n",
    "    df_cl2['atm_op'] = [abs(v) for v in (df_cl2.strike - df_cl2.close_y)]\n",
    "    df_cl2_atm_op = df_cl2[['settle_date','atm_op']].groupby('settle_date',as_index=False).min()\n",
    "    df_cl2 = df_cl2_atm_op.merge(df_cl2,on=['settle_date','atm_op'],how='inner')\n",
    "    df_cl2.index = list(range(len(df_cl2)))\n",
    "    # get either the put or the call with the same atm_op value and lowest close_x value\n",
    "    #   close_x is the options price\n",
    "    df_cl2_put_or_call = df_cl2[['settle_date','close_x']].groupby('settle_date',as_index=False).min()\n",
    "    df_cl2 = df_cl2_put_or_call.merge(df_cl2,on=['settle_date','close_x'],how='inner')\n",
    "\n",
    "    # create a new strike\n",
    "    df_cl2.strike = fatm + df_cl2.strike - df_cl2.close_y\n",
    "    df_cl2['fprice'] = df_cl2.close_y\n",
    "    df_cl2.close_y = fatm\n",
    "    df_cl2 = df_cl2.iloc[-rows:]\n",
    "    df_cl_fut = df_cl2[['settle_date','fprice']].drop_duplicates()\n",
    "    df_cl_implieds = get_implieds(df_cl2,df_expiry)\n",
    "    df_cl_implieds2 = df_cl_implieds[df_cl_implieds.dte>0]\n",
    "    df_cl_implieds2 = df_cl_implieds2.merge(df_cl_fut,on='settle_date')\n",
    "    return df_cl_implieds2[['settle_date','iv','fprice']]\n",
    "\n",
    "#     df_cl_implieds2['atm_op'] = df_cl_implieds2.apply(\n",
    "#         lambda r:abs(r.strike - r.close_y),axis=1)\n",
    "#     df_cl_implieds3 = df_cl_implieds2[['settle_date','atm_op']].groupby('settle_date',as_index=False).min()\n",
    "#     df_cl_implieds4 = df_cl_implieds3.merge(\n",
    "#         df_cl_implieds2[['settle_date','atm_op','iv']],on=['settle_date','atm_op'],how='inner')\n",
    "#     df_cl_implieds4 = df_cl_implieds4[['settle_date','iv']]\n",
    "#     df_cl_implieds4 = df_cl_implieds4.merge(df_cl_fut,on='settle_date')\n",
    "#     return df_cl_implieds4"
   ]
  },
  {
   "cell_type": "code",
   "execution_count": 102,
   "metadata": {},
   "outputs": [
    {
     "data": {
      "text/html": [
       "<div>\n",
       "<style scoped>\n",
       "    .dataframe tbody tr th:only-of-type {\n",
       "        vertical-align: middle;\n",
       "    }\n",
       "\n",
       "    .dataframe tbody tr th {\n",
       "        vertical-align: top;\n",
       "    }\n",
       "\n",
       "    .dataframe thead th {\n",
       "        text-align: right;\n",
       "    }\n",
       "</style>\n",
       "<table border=\"1\" class=\"dataframe\">\n",
       "  <thead>\n",
       "    <tr style=\"text-align: right;\">\n",
       "      <th></th>\n",
       "      <th>settle_date</th>\n",
       "      <th>iv</th>\n",
       "      <th>fprice</th>\n",
       "    </tr>\n",
       "  </thead>\n",
       "  <tbody>\n",
       "    <tr>\n",
       "      <th>0</th>\n",
       "      <td>20181227</td>\n",
       "      <td>0.414852</td>\n",
       "      <td>46.04</td>\n",
       "    </tr>\n",
       "    <tr>\n",
       "      <th>1</th>\n",
       "      <td>20181228</td>\n",
       "      <td>0.408420</td>\n",
       "      <td>46.64</td>\n",
       "    </tr>\n",
       "    <tr>\n",
       "      <th>2</th>\n",
       "      <td>20181231</td>\n",
       "      <td>0.404919</td>\n",
       "      <td>46.93</td>\n",
       "    </tr>\n",
       "    <tr>\n",
       "      <th>3</th>\n",
       "      <td>20190102</td>\n",
       "      <td>0.428938</td>\n",
       "      <td>48.15</td>\n",
       "    </tr>\n",
       "    <tr>\n",
       "      <th>4</th>\n",
       "      <td>20190103</td>\n",
       "      <td>0.442506</td>\n",
       "      <td>48.69</td>\n",
       "    </tr>\n",
       "    <tr>\n",
       "      <th>...</th>\n",
       "      <td>...</td>\n",
       "      <td>...</td>\n",
       "      <td>...</td>\n",
       "    </tr>\n",
       "    <tr>\n",
       "      <th>94</th>\n",
       "      <td>20190509</td>\n",
       "      <td>0.354456</td>\n",
       "      <td>61.70</td>\n",
       "    </tr>\n",
       "    <tr>\n",
       "      <th>95</th>\n",
       "      <td>20190510</td>\n",
       "      <td>0.320287</td>\n",
       "      <td>61.66</td>\n",
       "    </tr>\n",
       "    <tr>\n",
       "      <th>96</th>\n",
       "      <td>20190513</td>\n",
       "      <td>0.398289</td>\n",
       "      <td>61.04</td>\n",
       "    </tr>\n",
       "    <tr>\n",
       "      <th>97</th>\n",
       "      <td>20190514</td>\n",
       "      <td>0.373779</td>\n",
       "      <td>61.78</td>\n",
       "    </tr>\n",
       "    <tr>\n",
       "      <th>98</th>\n",
       "      <td>20190515</td>\n",
       "      <td>0.296892</td>\n",
       "      <td>62.02</td>\n",
       "    </tr>\n",
       "  </tbody>\n",
       "</table>\n",
       "<p>99 rows × 3 columns</p>\n",
       "</div>"
      ],
      "text/plain": [
       "    settle_date        iv  fprice\n",
       "0      20181227  0.414852   46.04\n",
       "1      20181228  0.408420   46.64\n",
       "2      20181231  0.404919   46.93\n",
       "3      20190102  0.428938   48.15\n",
       "4      20190103  0.442506   48.69\n",
       "..          ...       ...     ...\n",
       "94     20190509  0.354456   61.70\n",
       "95     20190510  0.320287   61.66\n",
       "96     20190513  0.398289   61.04\n",
       "97     20190514  0.373779   61.78\n",
       "98     20190515  0.296892   62.02\n",
       "\n",
       "[99 rows x 3 columns]"
      ]
     },
     "metadata": {},
     "output_type": "display_data"
    }
   ],
   "source": [
    "df_test = pseudo_vol(dict_contract_df['CLM19'][0],dict_contract_df['CLM19'][1])\n",
    "display.display(df_test)"
   ]
  },
  {
   "cell_type": "code",
   "execution_count": 15,
   "metadata": {},
   "outputs": [],
   "source": [
    "def ordered_symbols(sym_list):\n",
    "    ordered_keys = [\n",
    "        s[:2]+s[-1]+s[2:4] \n",
    "        for s in sorted([v[0:2]+v[-2:]+v[2] for v in sym_list])\n",
    "    ]\n",
    "    return ordered_keys\n",
    "    "
   ]
  },
  {
   "cell_type": "code",
   "execution_count": null,
   "metadata": {
    "scrolled": true
   },
   "outputs": [],
   "source": []
  },
  {
   "cell_type": "code",
   "execution_count": 94,
   "metadata": {},
   "outputs": [],
   "source": [
    "def loop_pseudo_vol(dict_contract_df,pga,\n",
    "                   fatm=50,rows=100):\n",
    "#     ordered_keys = [\n",
    "#         s[:2]+s[-1]+s[2:4] \n",
    "#         for s in sorted([v[0:2]+v[-2:]+v[2] for v in dict_contract_df.keys()])\n",
    "#     ]\n",
    "    ordered_keys = ordered_symbols(list(dict_contract_df.keys()))\n",
    "    \n",
    "    dict_df_implied = {}\n",
    "\n",
    "    for symbol in tqdm_notebook(ordered_keys):\n",
    "        if dict_contract_df[symbol] is None:\n",
    "            df,df_expiry = get_postgres_data(symbol,pga)\n",
    "        else:\n",
    "            df,df_expiry = dict_contract_df[symbol]\n",
    "        try:\n",
    "            df_implied = pseudo_vol(df,df_expiry,fatm=fatm,rows=rows)\n",
    "            dict_df_implied[symbol] = df_implied\n",
    "        except Exception as e:\n",
    "            print(str(e))\n",
    "            continue\n",
    "    return dict_df_implied"
   ]
  },
  {
   "cell_type": "code",
   "execution_count": 17,
   "metadata": {},
   "outputs": [],
   "source": [
    "dict_contract_df = {c:None for c in get_contracts('CL')}"
   ]
  },
  {
   "cell_type": "code",
   "execution_count": 20,
   "metadata": {
    "scrolled": true
   },
   "outputs": [
    {
     "data": {
      "application/vnd.jupyter.widget-view+json": {
       "model_id": "d27e5682636440c4a8776c75cd19e15c",
       "version_major": 2,
       "version_minor": 0
      },
      "text/plain": [
       "HBox(children=(FloatProgress(value=0.0, max=138.0), HTML(value='')))"
      ]
     },
     "metadata": {},
     "output_type": "display_data"
    },
    {
     "name": "stdout",
     "output_type": "stream",
     "text": [
      "\n"
     ]
    }
   ],
   "source": [
    "for symbol in tqdm_notebook(dict_contract_df.keys()):\n",
    "    dict_contract_df[symbol] = get_postgres_data(symbol,pga)"
   ]
  },
  {
   "cell_type": "code",
   "execution_count": 103,
   "metadata": {},
   "outputs": [
    {
     "data": {
      "application/vnd.jupyter.widget-view+json": {
       "model_id": "a708191f45e24c3e8298004dc87032c6",
       "version_major": 2,
       "version_minor": 0
      },
      "text/plain": [
       "HBox(children=(FloatProgress(value=0.0, max=138.0), HTML(value='')))"
      ]
     },
     "metadata": {},
     "output_type": "display_data"
    },
    {
     "name": "stdout",
     "output_type": "stream",
     "text": [
      "\n"
     ]
    }
   ],
   "source": [
    "# dict_small_cdf = {c:dict_contract_df[c] for c in dict_contract_df.keys() if ((c[2] >'N') and (int(c[-2:]) >= 20))}\n",
    "# dict_df_implied = loop_pseudo_vol(dict_small_cdf,pga)\n",
    "dict_df_implied = loop_pseudo_vol(dict_contract_df,pga)\n"
   ]
  },
  {
   "cell_type": "code",
   "execution_count": 104,
   "metadata": {},
   "outputs": [
    {
     "data": {
      "text/html": [
       "<div>\n",
       "<style scoped>\n",
       "    .dataframe tbody tr th:only-of-type {\n",
       "        vertical-align: middle;\n",
       "    }\n",
       "\n",
       "    .dataframe tbody tr th {\n",
       "        vertical-align: top;\n",
       "    }\n",
       "\n",
       "    .dataframe thead th {\n",
       "        text-align: right;\n",
       "    }\n",
       "</style>\n",
       "<table border=\"1\" class=\"dataframe\">\n",
       "  <thead>\n",
       "    <tr style=\"text-align: right;\">\n",
       "      <th></th>\n",
       "      <th>settle_date</th>\n",
       "      <th>iv</th>\n",
       "      <th>fprice</th>\n",
       "    </tr>\n",
       "  </thead>\n",
       "  <tbody>\n",
       "    <tr>\n",
       "      <th>0</th>\n",
       "      <td>20181227</td>\n",
       "      <td>0.414852</td>\n",
       "      <td>46.04</td>\n",
       "    </tr>\n",
       "    <tr>\n",
       "      <th>1</th>\n",
       "      <td>20181228</td>\n",
       "      <td>0.408420</td>\n",
       "      <td>46.64</td>\n",
       "    </tr>\n",
       "    <tr>\n",
       "      <th>2</th>\n",
       "      <td>20181231</td>\n",
       "      <td>0.404919</td>\n",
       "      <td>46.93</td>\n",
       "    </tr>\n",
       "    <tr>\n",
       "      <th>3</th>\n",
       "      <td>20190102</td>\n",
       "      <td>0.428938</td>\n",
       "      <td>48.15</td>\n",
       "    </tr>\n",
       "    <tr>\n",
       "      <th>4</th>\n",
       "      <td>20190103</td>\n",
       "      <td>0.442506</td>\n",
       "      <td>48.69</td>\n",
       "    </tr>\n",
       "    <tr>\n",
       "      <th>...</th>\n",
       "      <td>...</td>\n",
       "      <td>...</td>\n",
       "      <td>...</td>\n",
       "    </tr>\n",
       "    <tr>\n",
       "      <th>94</th>\n",
       "      <td>20190509</td>\n",
       "      <td>0.354456</td>\n",
       "      <td>61.70</td>\n",
       "    </tr>\n",
       "    <tr>\n",
       "      <th>95</th>\n",
       "      <td>20190510</td>\n",
       "      <td>0.320287</td>\n",
       "      <td>61.66</td>\n",
       "    </tr>\n",
       "    <tr>\n",
       "      <th>96</th>\n",
       "      <td>20190513</td>\n",
       "      <td>0.398289</td>\n",
       "      <td>61.04</td>\n",
       "    </tr>\n",
       "    <tr>\n",
       "      <th>97</th>\n",
       "      <td>20190514</td>\n",
       "      <td>0.373779</td>\n",
       "      <td>61.78</td>\n",
       "    </tr>\n",
       "    <tr>\n",
       "      <th>98</th>\n",
       "      <td>20190515</td>\n",
       "      <td>0.296892</td>\n",
       "      <td>62.02</td>\n",
       "    </tr>\n",
       "  </tbody>\n",
       "</table>\n",
       "<p>99 rows × 3 columns</p>\n",
       "</div>"
      ],
      "text/plain": [
       "    settle_date        iv  fprice\n",
       "0      20181227  0.414852   46.04\n",
       "1      20181228  0.408420   46.64\n",
       "2      20181231  0.404919   46.93\n",
       "3      20190102  0.428938   48.15\n",
       "4      20190103  0.442506   48.69\n",
       "..          ...       ...     ...\n",
       "94     20190509  0.354456   61.70\n",
       "95     20190510  0.320287   61.66\n",
       "96     20190513  0.398289   61.04\n",
       "97     20190514  0.373779   61.78\n",
       "98     20190515  0.296892   62.02\n",
       "\n",
       "[99 rows x 3 columns]"
      ]
     },
     "execution_count": 104,
     "metadata": {},
     "output_type": "execute_result"
    }
   ],
   "source": [
    "dict_df_implied['CLM19']"
   ]
  },
  {
   "cell_type": "code",
   "execution_count": 106,
   "metadata": {
    "scrolled": false
   },
   "outputs": [
    {
     "data": {
      "application/vnd.plotly.v1+json": {
       "config": {
        "linkText": "Export to plot.ly",
        "plotlyServerURL": "https://plot.ly",
        "showLink": false
       },
       "data": [
        {
         "name": "iv",
         "type": "scatter",
         "x": [
          20190730,
          20190731,
          20190801,
          20190802,
          20190805,
          20190806,
          20190807,
          20190808,
          20190809,
          20190812,
          20190813,
          20190814,
          20190815,
          20190816,
          20190819,
          20190820,
          20190821,
          20190822,
          20190823,
          20190826,
          20190827,
          20190828,
          20190829,
          20190830,
          20190903,
          20190904,
          20190905,
          20190906,
          20190909,
          20190910,
          20190911,
          20190912,
          20190913,
          20190916,
          20190917,
          20190918,
          20190919,
          20190920,
          20190923,
          20190924,
          20190925,
          20190926,
          20190927,
          20190930,
          20191001,
          20191002,
          20191002,
          20191003,
          20191004,
          20191007,
          20191008,
          20191009,
          20191010,
          20191011,
          20191014,
          20191015,
          20191016,
          20191017,
          20191018,
          20191021,
          20191022,
          20191022,
          20191023,
          20191024,
          20191025,
          20191028,
          20191029,
          20191030,
          20191031,
          20191101,
          20191104,
          20191105,
          20191106,
          20191107,
          20191108,
          20191111,
          20191112,
          20191113,
          20191114,
          20191115,
          20191118,
          20191119,
          20191120,
          20191121,
          20191122,
          20191125,
          20191126,
          20191127,
          20191129,
          20191202,
          20191203,
          20191204,
          20191205,
          20191206,
          20191209,
          20191210,
          20191211,
          20191212
         ],
         "y": [
          0.32401049530562476,
          0.3309352530020781,
          0.3548395758348725,
          0.35655274230878475,
          0.36243878093894777,
          0.3548506503046554,
          0.35235457101147694,
          0.34786824609776373,
          0.346959584832641,
          0.3440001331160737,
          0.35527575257036603,
          0.3554175453522273,
          0.3559674401967734,
          0.3473284861819493,
          0.33913099999435503,
          0.33371235216159334,
          0.3330780262225151,
          0.3316731018223975,
          0.336751084060035,
          0.3420896451688767,
          0.33411476325068246,
          0.3315773391715687,
          0.3418234540986101,
          0.3402511852193286,
          0.34325488912087937,
          0.35377323346156153,
          0.35585920227813994,
          0.3553003314087925,
          0.3668790033861493,
          0.36945898777950853,
          0.36450012920242514,
          0.36773198250803424,
          0.3634349857435881,
          0.494756138577345,
          0.45102346538183646,
          0.41728329924046886,
          0.42363722512936297,
          0.41652157859026073,
          0.40359618337080777,
          0.3976056627600047,
          0.38431174819826375,
          0.3795506539900786,
          0.38256839222755545,
          0.38255619179889516,
          0.3818140108644013,
          0.38379548170828176,
          0.3818764826762049,
          0.3844392482268816,
          0.37882165527751266,
          0.380476582444647,
          0.38176079100751037,
          0.37923199499965177,
          0.38584679479794604,
          0.40230529286462074,
          0.39692814325289916,
          0.3863126197502129,
          0.38477802838291103,
          0.3806454122037667,
          0.3685635134663988,
          0.36891169113638433,
          0.3707956673711877,
          0.3707956673711877,
          0.37218717617954655,
          0.36667769201678097,
          0.36246880111428764,
          0.3661569314473974,
          0.3625109104496723,
          0.3534971049164377,
          0.35225048422807465,
          0.35337897120612044,
          0.36047388194348373,
          0.35376130650770304,
          0.35027186222066514,
          0.34406028695725993,
          0.3399671674957963,
          0.34686394611230037,
          0.34259563956456063,
          0.3496695231658247,
          0.34393234549177315,
          0.34482915193614144,
          0.34851751794150826,
          0.3473804029000166,
          0.34155927237024053,
          0.3359938013140481,
          0.32868566801659793,
          0.3380558921840881,
          0.33522369992750806,
          0.32912405543589,
          0.38523317222700004,
          0.3918608716112601,
          0.3964243660249462,
          0.3801450945347367,
          0.35368124136246004,
          0.29355525055584686,
          0.3042710600440484,
          0.3193119015451619,
          0.30069413374453974,
          0.2761728190995701
         ],
         "yaxis": "y"
        },
        {
         "name": "fprice",
         "type": "scatter",
         "x": [
          20190730,
          20190731,
          20190801,
          20190802,
          20190805,
          20190806,
          20190807,
          20190808,
          20190809,
          20190812,
          20190813,
          20190814,
          20190815,
          20190816,
          20190819,
          20190820,
          20190821,
          20190822,
          20190823,
          20190826,
          20190827,
          20190828,
          20190829,
          20190830,
          20190903,
          20190904,
          20190905,
          20190906,
          20190909,
          20190910,
          20190911,
          20190912,
          20190913,
          20190916,
          20190917,
          20190918,
          20190919,
          20190920,
          20190923,
          20190924,
          20190925,
          20190926,
          20190927,
          20190930,
          20191001,
          20191002,
          20191002,
          20191003,
          20191004,
          20191007,
          20191008,
          20191009,
          20191010,
          20191011,
          20191014,
          20191015,
          20191016,
          20191017,
          20191018,
          20191021,
          20191022,
          20191022,
          20191023,
          20191024,
          20191025,
          20191028,
          20191029,
          20191030,
          20191031,
          20191101,
          20191104,
          20191105,
          20191106,
          20191107,
          20191108,
          20191111,
          20191112,
          20191113,
          20191114,
          20191115,
          20191118,
          20191119,
          20191120,
          20191121,
          20191122,
          20191125,
          20191126,
          20191127,
          20191129,
          20191202,
          20191203,
          20191204,
          20191205,
          20191206,
          20191209,
          20191210,
          20191211,
          20191212
         ],
         "y": [
          57.82,
          58.32,
          53.81,
          55.41,
          54.1,
          53.26,
          50.73,
          51.88,
          53.46,
          53.83,
          56.19,
          54.33,
          53.33,
          53.56,
          54.71,
          54.88,
          54.82,
          54.52,
          53.41,
          52.91,
          54.09,
          54.86,
          55.61,
          54.16,
          53.13,
          55.43,
          55.53,
          55.82,
          57.03,
          56.6,
          55.12,
          54.57,
          54.27,
          61.13,
          57.92,
          57.08,
          57.43,
          57.39,
          57.96,
          56.63,
          55.93,
          55.9,
          55.43,
          53.7,
          53.24,
          52.25,
          52.25,
          52.16,
          52.56,
          52.57,
          52.49,
          52.48,
          53.41,
          54.72,
          53.66,
          52.91,
          53.47,
          54.01,
          53.82,
          53.54,
          54.5,
          54.5,
          55.99,
          56.27,
          56.71,
          55.9,
          55.68,
          55.1,
          54.25,
          56.27,
          56.6,
          57.29,
          56.38,
          57.15,
          57.26,
          56.9,
          56.85,
          57.2,
          56.88,
          57.83,
          57.14,
          55.35,
          57.01,
          58.58,
          57.77,
          58.01,
          58.41,
          58.11,
          55.17,
          55.96,
          56.1,
          58.43,
          58.43,
          59.2,
          59.02,
          59.24,
          58.76,
          59.18
         ],
         "yaxis": "y2"
        }
       ],
       "layout": {
        "autosize": true,
        "hovermode": "x",
        "legend": {
         "orientation": "h",
         "x": 0,
         "y": 1.1
        },
        "margin": {
         "b": 100
        },
        "modebar": {
         "bgcolor": "grey",
         "orientation": "v"
        },
        "spikedistance": 1000,
        "template": {
         "data": {
          "bar": [
           {
            "error_x": {
             "color": "#2a3f5f"
            },
            "error_y": {
             "color": "#2a3f5f"
            },
            "marker": {
             "line": {
              "color": "#E5ECF6",
              "width": 0.5
             }
            },
            "type": "bar"
           }
          ],
          "barpolar": [
           {
            "marker": {
             "line": {
              "color": "#E5ECF6",
              "width": 0.5
             }
            },
            "type": "barpolar"
           }
          ],
          "carpet": [
           {
            "aaxis": {
             "endlinecolor": "#2a3f5f",
             "gridcolor": "white",
             "linecolor": "white",
             "minorgridcolor": "white",
             "startlinecolor": "#2a3f5f"
            },
            "baxis": {
             "endlinecolor": "#2a3f5f",
             "gridcolor": "white",
             "linecolor": "white",
             "minorgridcolor": "white",
             "startlinecolor": "#2a3f5f"
            },
            "type": "carpet"
           }
          ],
          "choropleth": [
           {
            "colorbar": {
             "outlinewidth": 0,
             "ticks": ""
            },
            "type": "choropleth"
           }
          ],
          "contour": [
           {
            "colorbar": {
             "outlinewidth": 0,
             "ticks": ""
            },
            "colorscale": [
             [
              0,
              "#0d0887"
             ],
             [
              0.1111111111111111,
              "#46039f"
             ],
             [
              0.2222222222222222,
              "#7201a8"
             ],
             [
              0.3333333333333333,
              "#9c179e"
             ],
             [
              0.4444444444444444,
              "#bd3786"
             ],
             [
              0.5555555555555556,
              "#d8576b"
             ],
             [
              0.6666666666666666,
              "#ed7953"
             ],
             [
              0.7777777777777778,
              "#fb9f3a"
             ],
             [
              0.8888888888888888,
              "#fdca26"
             ],
             [
              1,
              "#f0f921"
             ]
            ],
            "type": "contour"
           }
          ],
          "contourcarpet": [
           {
            "colorbar": {
             "outlinewidth": 0,
             "ticks": ""
            },
            "type": "contourcarpet"
           }
          ],
          "heatmap": [
           {
            "colorbar": {
             "outlinewidth": 0,
             "ticks": ""
            },
            "colorscale": [
             [
              0,
              "#0d0887"
             ],
             [
              0.1111111111111111,
              "#46039f"
             ],
             [
              0.2222222222222222,
              "#7201a8"
             ],
             [
              0.3333333333333333,
              "#9c179e"
             ],
             [
              0.4444444444444444,
              "#bd3786"
             ],
             [
              0.5555555555555556,
              "#d8576b"
             ],
             [
              0.6666666666666666,
              "#ed7953"
             ],
             [
              0.7777777777777778,
              "#fb9f3a"
             ],
             [
              0.8888888888888888,
              "#fdca26"
             ],
             [
              1,
              "#f0f921"
             ]
            ],
            "type": "heatmap"
           }
          ],
          "heatmapgl": [
           {
            "colorbar": {
             "outlinewidth": 0,
             "ticks": ""
            },
            "colorscale": [
             [
              0,
              "#0d0887"
             ],
             [
              0.1111111111111111,
              "#46039f"
             ],
             [
              0.2222222222222222,
              "#7201a8"
             ],
             [
              0.3333333333333333,
              "#9c179e"
             ],
             [
              0.4444444444444444,
              "#bd3786"
             ],
             [
              0.5555555555555556,
              "#d8576b"
             ],
             [
              0.6666666666666666,
              "#ed7953"
             ],
             [
              0.7777777777777778,
              "#fb9f3a"
             ],
             [
              0.8888888888888888,
              "#fdca26"
             ],
             [
              1,
              "#f0f921"
             ]
            ],
            "type": "heatmapgl"
           }
          ],
          "histogram": [
           {
            "marker": {
             "colorbar": {
              "outlinewidth": 0,
              "ticks": ""
             }
            },
            "type": "histogram"
           }
          ],
          "histogram2d": [
           {
            "colorbar": {
             "outlinewidth": 0,
             "ticks": ""
            },
            "colorscale": [
             [
              0,
              "#0d0887"
             ],
             [
              0.1111111111111111,
              "#46039f"
             ],
             [
              0.2222222222222222,
              "#7201a8"
             ],
             [
              0.3333333333333333,
              "#9c179e"
             ],
             [
              0.4444444444444444,
              "#bd3786"
             ],
             [
              0.5555555555555556,
              "#d8576b"
             ],
             [
              0.6666666666666666,
              "#ed7953"
             ],
             [
              0.7777777777777778,
              "#fb9f3a"
             ],
             [
              0.8888888888888888,
              "#fdca26"
             ],
             [
              1,
              "#f0f921"
             ]
            ],
            "type": "histogram2d"
           }
          ],
          "histogram2dcontour": [
           {
            "colorbar": {
             "outlinewidth": 0,
             "ticks": ""
            },
            "colorscale": [
             [
              0,
              "#0d0887"
             ],
             [
              0.1111111111111111,
              "#46039f"
             ],
             [
              0.2222222222222222,
              "#7201a8"
             ],
             [
              0.3333333333333333,
              "#9c179e"
             ],
             [
              0.4444444444444444,
              "#bd3786"
             ],
             [
              0.5555555555555556,
              "#d8576b"
             ],
             [
              0.6666666666666666,
              "#ed7953"
             ],
             [
              0.7777777777777778,
              "#fb9f3a"
             ],
             [
              0.8888888888888888,
              "#fdca26"
             ],
             [
              1,
              "#f0f921"
             ]
            ],
            "type": "histogram2dcontour"
           }
          ],
          "mesh3d": [
           {
            "colorbar": {
             "outlinewidth": 0,
             "ticks": ""
            },
            "type": "mesh3d"
           }
          ],
          "parcoords": [
           {
            "line": {
             "colorbar": {
              "outlinewidth": 0,
              "ticks": ""
             }
            },
            "type": "parcoords"
           }
          ],
          "pie": [
           {
            "automargin": true,
            "type": "pie"
           }
          ],
          "scatter": [
           {
            "marker": {
             "colorbar": {
              "outlinewidth": 0,
              "ticks": ""
             }
            },
            "type": "scatter"
           }
          ],
          "scatter3d": [
           {
            "line": {
             "colorbar": {
              "outlinewidth": 0,
              "ticks": ""
             }
            },
            "marker": {
             "colorbar": {
              "outlinewidth": 0,
              "ticks": ""
             }
            },
            "type": "scatter3d"
           }
          ],
          "scattercarpet": [
           {
            "marker": {
             "colorbar": {
              "outlinewidth": 0,
              "ticks": ""
             }
            },
            "type": "scattercarpet"
           }
          ],
          "scattergeo": [
           {
            "marker": {
             "colorbar": {
              "outlinewidth": 0,
              "ticks": ""
             }
            },
            "type": "scattergeo"
           }
          ],
          "scattergl": [
           {
            "marker": {
             "colorbar": {
              "outlinewidth": 0,
              "ticks": ""
             }
            },
            "type": "scattergl"
           }
          ],
          "scattermapbox": [
           {
            "marker": {
             "colorbar": {
              "outlinewidth": 0,
              "ticks": ""
             }
            },
            "type": "scattermapbox"
           }
          ],
          "scatterpolar": [
           {
            "marker": {
             "colorbar": {
              "outlinewidth": 0,
              "ticks": ""
             }
            },
            "type": "scatterpolar"
           }
          ],
          "scatterpolargl": [
           {
            "marker": {
             "colorbar": {
              "outlinewidth": 0,
              "ticks": ""
             }
            },
            "type": "scatterpolargl"
           }
          ],
          "scatterternary": [
           {
            "marker": {
             "colorbar": {
              "outlinewidth": 0,
              "ticks": ""
             }
            },
            "type": "scatterternary"
           }
          ],
          "surface": [
           {
            "colorbar": {
             "outlinewidth": 0,
             "ticks": ""
            },
            "colorscale": [
             [
              0,
              "#0d0887"
             ],
             [
              0.1111111111111111,
              "#46039f"
             ],
             [
              0.2222222222222222,
              "#7201a8"
             ],
             [
              0.3333333333333333,
              "#9c179e"
             ],
             [
              0.4444444444444444,
              "#bd3786"
             ],
             [
              0.5555555555555556,
              "#d8576b"
             ],
             [
              0.6666666666666666,
              "#ed7953"
             ],
             [
              0.7777777777777778,
              "#fb9f3a"
             ],
             [
              0.8888888888888888,
              "#fdca26"
             ],
             [
              1,
              "#f0f921"
             ]
            ],
            "type": "surface"
           }
          ],
          "table": [
           {
            "cells": {
             "fill": {
              "color": "#EBF0F8"
             },
             "line": {
              "color": "white"
             }
            },
            "header": {
             "fill": {
              "color": "#C8D4E3"
             },
             "line": {
              "color": "white"
             }
            },
            "type": "table"
           }
          ]
         },
         "layout": {
          "annotationdefaults": {
           "arrowcolor": "#2a3f5f",
           "arrowhead": 0,
           "arrowwidth": 1
          },
          "coloraxis": {
           "colorbar": {
            "outlinewidth": 0,
            "ticks": ""
           }
          },
          "colorscale": {
           "diverging": [
            [
             0,
             "#8e0152"
            ],
            [
             0.1,
             "#c51b7d"
            ],
            [
             0.2,
             "#de77ae"
            ],
            [
             0.3,
             "#f1b6da"
            ],
            [
             0.4,
             "#fde0ef"
            ],
            [
             0.5,
             "#f7f7f7"
            ],
            [
             0.6,
             "#e6f5d0"
            ],
            [
             0.7,
             "#b8e186"
            ],
            [
             0.8,
             "#7fbc41"
            ],
            [
             0.9,
             "#4d9221"
            ],
            [
             1,
             "#276419"
            ]
           ],
           "sequential": [
            [
             0,
             "#0d0887"
            ],
            [
             0.1111111111111111,
             "#46039f"
            ],
            [
             0.2222222222222222,
             "#7201a8"
            ],
            [
             0.3333333333333333,
             "#9c179e"
            ],
            [
             0.4444444444444444,
             "#bd3786"
            ],
            [
             0.5555555555555556,
             "#d8576b"
            ],
            [
             0.6666666666666666,
             "#ed7953"
            ],
            [
             0.7777777777777778,
             "#fb9f3a"
            ],
            [
             0.8888888888888888,
             "#fdca26"
            ],
            [
             1,
             "#f0f921"
            ]
           ],
           "sequentialminus": [
            [
             0,
             "#0d0887"
            ],
            [
             0.1111111111111111,
             "#46039f"
            ],
            [
             0.2222222222222222,
             "#7201a8"
            ],
            [
             0.3333333333333333,
             "#9c179e"
            ],
            [
             0.4444444444444444,
             "#bd3786"
            ],
            [
             0.5555555555555556,
             "#d8576b"
            ],
            [
             0.6666666666666666,
             "#ed7953"
            ],
            [
             0.7777777777777778,
             "#fb9f3a"
            ],
            [
             0.8888888888888888,
             "#fdca26"
            ],
            [
             1,
             "#f0f921"
            ]
           ]
          },
          "colorway": [
           "#636efa",
           "#EF553B",
           "#00cc96",
           "#ab63fa",
           "#FFA15A",
           "#19d3f3",
           "#FF6692",
           "#B6E880",
           "#FF97FF",
           "#FECB52"
          ],
          "font": {
           "color": "#2a3f5f"
          },
          "geo": {
           "bgcolor": "white",
           "lakecolor": "white",
           "landcolor": "#E5ECF6",
           "showlakes": true,
           "showland": true,
           "subunitcolor": "white"
          },
          "hoverlabel": {
           "align": "left"
          },
          "hovermode": "closest",
          "mapbox": {
           "style": "light"
          },
          "paper_bgcolor": "white",
          "plot_bgcolor": "#E5ECF6",
          "polar": {
           "angularaxis": {
            "gridcolor": "white",
            "linecolor": "white",
            "ticks": ""
           },
           "bgcolor": "#E5ECF6",
           "radialaxis": {
            "gridcolor": "white",
            "linecolor": "white",
            "ticks": ""
           }
          },
          "scene": {
           "xaxis": {
            "backgroundcolor": "#E5ECF6",
            "gridcolor": "white",
            "gridwidth": 2,
            "linecolor": "white",
            "showbackground": true,
            "ticks": "",
            "zerolinecolor": "white"
           },
           "yaxis": {
            "backgroundcolor": "#E5ECF6",
            "gridcolor": "white",
            "gridwidth": 2,
            "linecolor": "white",
            "showbackground": true,
            "ticks": "",
            "zerolinecolor": "white"
           },
           "zaxis": {
            "backgroundcolor": "#E5ECF6",
            "gridcolor": "white",
            "gridwidth": 2,
            "linecolor": "white",
            "showbackground": true,
            "ticks": "",
            "zerolinecolor": "white"
           }
          },
          "shapedefaults": {
           "line": {
            "color": "#2a3f5f"
           }
          },
          "ternary": {
           "aaxis": {
            "gridcolor": "white",
            "linecolor": "white",
            "ticks": ""
           },
           "baxis": {
            "gridcolor": "white",
            "linecolor": "white",
            "ticks": ""
           },
           "bgcolor": "#E5ECF6",
           "caxis": {
            "gridcolor": "white",
            "linecolor": "white",
            "ticks": ""
           }
          },
          "title": {
           "x": 0.05
          },
          "xaxis": {
           "automargin": true,
           "gridcolor": "white",
           "linecolor": "white",
           "ticks": "",
           "title": {
            "standoff": 15
           },
           "zerolinecolor": "white",
           "zerolinewidth": 2
          },
          "yaxis": {
           "automargin": true,
           "gridcolor": "white",
           "linecolor": "white",
           "ticks": "",
           "title": {
            "standoff": 15
           },
           "zerolinecolor": "white",
           "zerolinewidth": 2
          }
         }
        },
        "title": {
         "text": "CLF20 Pseudo-Volatility vs Price",
         "x": 0.5,
         "xanchor": "center",
         "y": 0.9,
         "yanchor": "top"
        },
        "xaxis": {
         "showspikes": true,
         "spikedash": "solid",
         "spikemode": "toaxis+across",
         "spikethickness": 1,
         "tickangle": 45,
         "ticktext": [
          20190730,
          20190805,
          20190809,
          20190815,
          20190821,
          20190827,
          20190903,
          20190909,
          20190913,
          20190919,
          20190925,
          20191001,
          20191004,
          20191010,
          20191016,
          20191022,
          20191025,
          20191031,
          20191106,
          20191112,
          20191118,
          20191122,
          20191129,
          20191205,
          20191211
         ],
         "tickvals": [
          20190730,
          20190805,
          20190809,
          20190815,
          20190821,
          20190827,
          20190903,
          20190909,
          20190913,
          20190919,
          20190925,
          20191001,
          20191004,
          20191010,
          20191016,
          20191022,
          20191025,
          20191031,
          20191106,
          20191112,
          20191118,
          20191122,
          20191129,
          20191205,
          20191211
         ],
         "type": "category"
        },
        "yaxis": {
         "showspikes": true,
         "spikedash": "solid",
         "spikemode": "toaxis+across",
         "spikethickness": 1,
         "title": {
          "text": "Implied Volatility"
         }
        },
        "yaxis2": {
         "overlaying": "y",
         "side": "right",
         "title": {
          "text": "Futures Close"
         }
        }
       }
      },
      "text/html": [
       "<div>\n",
       "        \n",
       "        \n",
       "            <div id=\"2a6443ab-acb9-46fb-b0e9-60ead4e461e5\" class=\"plotly-graph-div\" style=\"height:525px; width:100%;\"></div>\n",
       "            <script type=\"text/javascript\">\n",
       "                require([\"plotly\"], function(Plotly) {\n",
       "                    window.PLOTLYENV=window.PLOTLYENV || {};\n",
       "                    \n",
       "                if (document.getElementById(\"2a6443ab-acb9-46fb-b0e9-60ead4e461e5\")) {\n",
       "                    Plotly.newPlot(\n",
       "                        '2a6443ab-acb9-46fb-b0e9-60ead4e461e5',\n",
       "                        [{\"name\": \"iv\", \"type\": \"scatter\", \"x\": [20190730, 20190731, 20190801, 20190802, 20190805, 20190806, 20190807, 20190808, 20190809, 20190812, 20190813, 20190814, 20190815, 20190816, 20190819, 20190820, 20190821, 20190822, 20190823, 20190826, 20190827, 20190828, 20190829, 20190830, 20190903, 20190904, 20190905, 20190906, 20190909, 20190910, 20190911, 20190912, 20190913, 20190916, 20190917, 20190918, 20190919, 20190920, 20190923, 20190924, 20190925, 20190926, 20190927, 20190930, 20191001, 20191002, 20191002, 20191003, 20191004, 20191007, 20191008, 20191009, 20191010, 20191011, 20191014, 20191015, 20191016, 20191017, 20191018, 20191021, 20191022, 20191022, 20191023, 20191024, 20191025, 20191028, 20191029, 20191030, 20191031, 20191101, 20191104, 20191105, 20191106, 20191107, 20191108, 20191111, 20191112, 20191113, 20191114, 20191115, 20191118, 20191119, 20191120, 20191121, 20191122, 20191125, 20191126, 20191127, 20191129, 20191202, 20191203, 20191204, 20191205, 20191206, 20191209, 20191210, 20191211, 20191212], \"y\": [0.32401049530562476, 0.3309352530020781, 0.3548395758348725, 0.35655274230878475, 0.36243878093894777, 0.3548506503046554, 0.35235457101147694, 0.34786824609776373, 0.346959584832641, 0.3440001331160737, 0.35527575257036603, 0.3554175453522273, 0.3559674401967734, 0.3473284861819493, 0.33913099999435503, 0.33371235216159334, 0.3330780262225151, 0.3316731018223975, 0.336751084060035, 0.3420896451688767, 0.33411476325068246, 0.3315773391715687, 0.3418234540986101, 0.3402511852193286, 0.34325488912087937, 0.35377323346156153, 0.35585920227813994, 0.3553003314087925, 0.3668790033861493, 0.36945898777950853, 0.36450012920242514, 0.36773198250803424, 0.3634349857435881, 0.494756138577345, 0.45102346538183646, 0.41728329924046886, 0.42363722512936297, 0.41652157859026073, 0.40359618337080777, 0.3976056627600047, 0.38431174819826375, 0.3795506539900786, 0.38256839222755545, 0.38255619179889516, 0.3818140108644013, 0.38379548170828176, 0.3818764826762049, 0.3844392482268816, 0.37882165527751266, 0.380476582444647, 0.38176079100751037, 0.37923199499965177, 0.38584679479794604, 0.40230529286462074, 0.39692814325289916, 0.3863126197502129, 0.38477802838291103, 0.3806454122037667, 0.3685635134663988, 0.36891169113638433, 0.3707956673711877, 0.3707956673711877, 0.37218717617954655, 0.36667769201678097, 0.36246880111428764, 0.3661569314473974, 0.3625109104496723, 0.3534971049164377, 0.35225048422807465, 0.35337897120612044, 0.36047388194348373, 0.35376130650770304, 0.35027186222066514, 0.34406028695725993, 0.3399671674957963, 0.34686394611230037, 0.34259563956456063, 0.3496695231658247, 0.34393234549177315, 0.34482915193614144, 0.34851751794150826, 0.3473804029000166, 0.34155927237024053, 0.3359938013140481, 0.32868566801659793, 0.3380558921840881, 0.33522369992750806, 0.32912405543589, 0.38523317222700004, 0.3918608716112601, 0.3964243660249462, 0.3801450945347367, 0.35368124136246004, 0.29355525055584686, 0.3042710600440484, 0.3193119015451619, 0.30069413374453974, 0.2761728190995701], \"yaxis\": \"y\"}, {\"name\": \"fprice\", \"type\": \"scatter\", \"x\": [20190730, 20190731, 20190801, 20190802, 20190805, 20190806, 20190807, 20190808, 20190809, 20190812, 20190813, 20190814, 20190815, 20190816, 20190819, 20190820, 20190821, 20190822, 20190823, 20190826, 20190827, 20190828, 20190829, 20190830, 20190903, 20190904, 20190905, 20190906, 20190909, 20190910, 20190911, 20190912, 20190913, 20190916, 20190917, 20190918, 20190919, 20190920, 20190923, 20190924, 20190925, 20190926, 20190927, 20190930, 20191001, 20191002, 20191002, 20191003, 20191004, 20191007, 20191008, 20191009, 20191010, 20191011, 20191014, 20191015, 20191016, 20191017, 20191018, 20191021, 20191022, 20191022, 20191023, 20191024, 20191025, 20191028, 20191029, 20191030, 20191031, 20191101, 20191104, 20191105, 20191106, 20191107, 20191108, 20191111, 20191112, 20191113, 20191114, 20191115, 20191118, 20191119, 20191120, 20191121, 20191122, 20191125, 20191126, 20191127, 20191129, 20191202, 20191203, 20191204, 20191205, 20191206, 20191209, 20191210, 20191211, 20191212], \"y\": [57.82, 58.32, 53.81, 55.41, 54.1, 53.26, 50.73, 51.88, 53.46, 53.83, 56.19, 54.33, 53.33, 53.56, 54.71, 54.88, 54.82, 54.52, 53.41, 52.91, 54.09, 54.86, 55.61, 54.16, 53.13, 55.43, 55.53, 55.82, 57.03, 56.6, 55.12, 54.57, 54.27, 61.13, 57.92, 57.08, 57.43, 57.39, 57.96, 56.63, 55.93, 55.9, 55.43, 53.7, 53.24, 52.25, 52.25, 52.16, 52.56, 52.57, 52.49, 52.48, 53.41, 54.72, 53.66, 52.91, 53.47, 54.01, 53.82, 53.54, 54.5, 54.5, 55.99, 56.27, 56.71, 55.9, 55.68, 55.1, 54.25, 56.27, 56.6, 57.29, 56.38, 57.15, 57.26, 56.9, 56.85, 57.2, 56.88, 57.83, 57.14, 55.35, 57.01, 58.58, 57.77, 58.01, 58.41, 58.11, 55.17, 55.96, 56.1, 58.43, 58.43, 59.2, 59.02, 59.24, 58.76, 59.18], \"yaxis\": \"y2\"}],\n",
       "                        {\"autosize\": true, \"hovermode\": \"x\", \"legend\": {\"orientation\": \"h\", \"x\": 0, \"y\": 1.1}, \"margin\": {\"b\": 100}, \"modebar\": {\"bgcolor\": \"grey\", \"orientation\": \"v\"}, \"spikedistance\": 1000, \"template\": {\"data\": {\"bar\": [{\"error_x\": {\"color\": \"#2a3f5f\"}, \"error_y\": {\"color\": \"#2a3f5f\"}, \"marker\": {\"line\": {\"color\": \"#E5ECF6\", \"width\": 0.5}}, \"type\": \"bar\"}], \"barpolar\": [{\"marker\": {\"line\": {\"color\": \"#E5ECF6\", \"width\": 0.5}}, \"type\": \"barpolar\"}], \"carpet\": [{\"aaxis\": {\"endlinecolor\": \"#2a3f5f\", \"gridcolor\": \"white\", \"linecolor\": \"white\", \"minorgridcolor\": \"white\", \"startlinecolor\": \"#2a3f5f\"}, \"baxis\": {\"endlinecolor\": \"#2a3f5f\", \"gridcolor\": \"white\", \"linecolor\": \"white\", \"minorgridcolor\": \"white\", \"startlinecolor\": \"#2a3f5f\"}, \"type\": \"carpet\"}], \"choropleth\": [{\"colorbar\": {\"outlinewidth\": 0, \"ticks\": \"\"}, \"type\": \"choropleth\"}], \"contour\": [{\"colorbar\": {\"outlinewidth\": 0, \"ticks\": \"\"}, \"colorscale\": [[0.0, \"#0d0887\"], [0.1111111111111111, \"#46039f\"], [0.2222222222222222, \"#7201a8\"], [0.3333333333333333, \"#9c179e\"], [0.4444444444444444, \"#bd3786\"], [0.5555555555555556, \"#d8576b\"], [0.6666666666666666, \"#ed7953\"], [0.7777777777777778, \"#fb9f3a\"], [0.8888888888888888, \"#fdca26\"], [1.0, \"#f0f921\"]], \"type\": \"contour\"}], \"contourcarpet\": [{\"colorbar\": {\"outlinewidth\": 0, \"ticks\": \"\"}, \"type\": \"contourcarpet\"}], \"heatmap\": [{\"colorbar\": {\"outlinewidth\": 0, \"ticks\": \"\"}, \"colorscale\": [[0.0, \"#0d0887\"], [0.1111111111111111, \"#46039f\"], [0.2222222222222222, \"#7201a8\"], [0.3333333333333333, \"#9c179e\"], [0.4444444444444444, \"#bd3786\"], [0.5555555555555556, \"#d8576b\"], [0.6666666666666666, \"#ed7953\"], [0.7777777777777778, \"#fb9f3a\"], [0.8888888888888888, \"#fdca26\"], [1.0, \"#f0f921\"]], \"type\": \"heatmap\"}], \"heatmapgl\": [{\"colorbar\": {\"outlinewidth\": 0, \"ticks\": \"\"}, \"colorscale\": [[0.0, \"#0d0887\"], [0.1111111111111111, \"#46039f\"], [0.2222222222222222, \"#7201a8\"], [0.3333333333333333, \"#9c179e\"], [0.4444444444444444, \"#bd3786\"], [0.5555555555555556, \"#d8576b\"], [0.6666666666666666, \"#ed7953\"], [0.7777777777777778, \"#fb9f3a\"], [0.8888888888888888, \"#fdca26\"], [1.0, \"#f0f921\"]], \"type\": \"heatmapgl\"}], \"histogram\": [{\"marker\": {\"colorbar\": {\"outlinewidth\": 0, \"ticks\": \"\"}}, \"type\": \"histogram\"}], \"histogram2d\": [{\"colorbar\": {\"outlinewidth\": 0, \"ticks\": \"\"}, \"colorscale\": [[0.0, \"#0d0887\"], [0.1111111111111111, \"#46039f\"], [0.2222222222222222, \"#7201a8\"], [0.3333333333333333, \"#9c179e\"], [0.4444444444444444, \"#bd3786\"], [0.5555555555555556, \"#d8576b\"], [0.6666666666666666, \"#ed7953\"], [0.7777777777777778, \"#fb9f3a\"], [0.8888888888888888, \"#fdca26\"], [1.0, \"#f0f921\"]], \"type\": \"histogram2d\"}], \"histogram2dcontour\": [{\"colorbar\": {\"outlinewidth\": 0, \"ticks\": \"\"}, \"colorscale\": [[0.0, \"#0d0887\"], [0.1111111111111111, \"#46039f\"], [0.2222222222222222, \"#7201a8\"], [0.3333333333333333, \"#9c179e\"], [0.4444444444444444, \"#bd3786\"], [0.5555555555555556, \"#d8576b\"], [0.6666666666666666, \"#ed7953\"], [0.7777777777777778, \"#fb9f3a\"], [0.8888888888888888, \"#fdca26\"], [1.0, \"#f0f921\"]], \"type\": \"histogram2dcontour\"}], \"mesh3d\": [{\"colorbar\": {\"outlinewidth\": 0, \"ticks\": \"\"}, \"type\": \"mesh3d\"}], \"parcoords\": [{\"line\": {\"colorbar\": {\"outlinewidth\": 0, \"ticks\": \"\"}}, \"type\": \"parcoords\"}], \"pie\": [{\"automargin\": true, \"type\": \"pie\"}], \"scatter\": [{\"marker\": {\"colorbar\": {\"outlinewidth\": 0, \"ticks\": \"\"}}, \"type\": \"scatter\"}], \"scatter3d\": [{\"line\": {\"colorbar\": {\"outlinewidth\": 0, \"ticks\": \"\"}}, \"marker\": {\"colorbar\": {\"outlinewidth\": 0, \"ticks\": \"\"}}, \"type\": \"scatter3d\"}], \"scattercarpet\": [{\"marker\": {\"colorbar\": {\"outlinewidth\": 0, \"ticks\": \"\"}}, \"type\": \"scattercarpet\"}], \"scattergeo\": [{\"marker\": {\"colorbar\": {\"outlinewidth\": 0, \"ticks\": \"\"}}, \"type\": \"scattergeo\"}], \"scattergl\": [{\"marker\": {\"colorbar\": {\"outlinewidth\": 0, \"ticks\": \"\"}}, \"type\": \"scattergl\"}], \"scattermapbox\": [{\"marker\": {\"colorbar\": {\"outlinewidth\": 0, \"ticks\": \"\"}}, \"type\": \"scattermapbox\"}], \"scatterpolar\": [{\"marker\": {\"colorbar\": {\"outlinewidth\": 0, \"ticks\": \"\"}}, \"type\": \"scatterpolar\"}], \"scatterpolargl\": [{\"marker\": {\"colorbar\": {\"outlinewidth\": 0, \"ticks\": \"\"}}, \"type\": \"scatterpolargl\"}], \"scatterternary\": [{\"marker\": {\"colorbar\": {\"outlinewidth\": 0, \"ticks\": \"\"}}, \"type\": \"scatterternary\"}], \"surface\": [{\"colorbar\": {\"outlinewidth\": 0, \"ticks\": \"\"}, \"colorscale\": [[0.0, \"#0d0887\"], [0.1111111111111111, \"#46039f\"], [0.2222222222222222, \"#7201a8\"], [0.3333333333333333, \"#9c179e\"], [0.4444444444444444, \"#bd3786\"], [0.5555555555555556, \"#d8576b\"], [0.6666666666666666, \"#ed7953\"], [0.7777777777777778, \"#fb9f3a\"], [0.8888888888888888, \"#fdca26\"], [1.0, \"#f0f921\"]], \"type\": \"surface\"}], \"table\": [{\"cells\": {\"fill\": {\"color\": \"#EBF0F8\"}, \"line\": {\"color\": \"white\"}}, \"header\": {\"fill\": {\"color\": \"#C8D4E3\"}, \"line\": {\"color\": \"white\"}}, \"type\": \"table\"}]}, \"layout\": {\"annotationdefaults\": {\"arrowcolor\": \"#2a3f5f\", \"arrowhead\": 0, \"arrowwidth\": 1}, \"coloraxis\": {\"colorbar\": {\"outlinewidth\": 0, \"ticks\": \"\"}}, \"colorscale\": {\"diverging\": [[0, \"#8e0152\"], [0.1, \"#c51b7d\"], [0.2, \"#de77ae\"], [0.3, \"#f1b6da\"], [0.4, \"#fde0ef\"], [0.5, \"#f7f7f7\"], [0.6, \"#e6f5d0\"], [0.7, \"#b8e186\"], [0.8, \"#7fbc41\"], [0.9, \"#4d9221\"], [1, \"#276419\"]], \"sequential\": [[0.0, \"#0d0887\"], [0.1111111111111111, \"#46039f\"], [0.2222222222222222, \"#7201a8\"], [0.3333333333333333, \"#9c179e\"], [0.4444444444444444, \"#bd3786\"], [0.5555555555555556, \"#d8576b\"], [0.6666666666666666, \"#ed7953\"], [0.7777777777777778, \"#fb9f3a\"], [0.8888888888888888, \"#fdca26\"], [1.0, \"#f0f921\"]], \"sequentialminus\": [[0.0, \"#0d0887\"], [0.1111111111111111, \"#46039f\"], [0.2222222222222222, \"#7201a8\"], [0.3333333333333333, \"#9c179e\"], [0.4444444444444444, \"#bd3786\"], [0.5555555555555556, \"#d8576b\"], [0.6666666666666666, \"#ed7953\"], [0.7777777777777778, \"#fb9f3a\"], [0.8888888888888888, \"#fdca26\"], [1.0, \"#f0f921\"]]}, \"colorway\": [\"#636efa\", \"#EF553B\", \"#00cc96\", \"#ab63fa\", \"#FFA15A\", \"#19d3f3\", \"#FF6692\", \"#B6E880\", \"#FF97FF\", \"#FECB52\"], \"font\": {\"color\": \"#2a3f5f\"}, \"geo\": {\"bgcolor\": \"white\", \"lakecolor\": \"white\", \"landcolor\": \"#E5ECF6\", \"showlakes\": true, \"showland\": true, \"subunitcolor\": \"white\"}, \"hoverlabel\": {\"align\": \"left\"}, \"hovermode\": \"closest\", \"mapbox\": {\"style\": \"light\"}, \"paper_bgcolor\": \"white\", \"plot_bgcolor\": \"#E5ECF6\", \"polar\": {\"angularaxis\": {\"gridcolor\": \"white\", \"linecolor\": \"white\", \"ticks\": \"\"}, \"bgcolor\": \"#E5ECF6\", \"radialaxis\": {\"gridcolor\": \"white\", \"linecolor\": \"white\", \"ticks\": \"\"}}, \"scene\": {\"xaxis\": {\"backgroundcolor\": \"#E5ECF6\", \"gridcolor\": \"white\", \"gridwidth\": 2, \"linecolor\": \"white\", \"showbackground\": true, \"ticks\": \"\", \"zerolinecolor\": \"white\"}, \"yaxis\": {\"backgroundcolor\": \"#E5ECF6\", \"gridcolor\": \"white\", \"gridwidth\": 2, \"linecolor\": \"white\", \"showbackground\": true, \"ticks\": \"\", \"zerolinecolor\": \"white\"}, \"zaxis\": {\"backgroundcolor\": \"#E5ECF6\", \"gridcolor\": \"white\", \"gridwidth\": 2, \"linecolor\": \"white\", \"showbackground\": true, \"ticks\": \"\", \"zerolinecolor\": \"white\"}}, \"shapedefaults\": {\"line\": {\"color\": \"#2a3f5f\"}}, \"ternary\": {\"aaxis\": {\"gridcolor\": \"white\", \"linecolor\": \"white\", \"ticks\": \"\"}, \"baxis\": {\"gridcolor\": \"white\", \"linecolor\": \"white\", \"ticks\": \"\"}, \"bgcolor\": \"#E5ECF6\", \"caxis\": {\"gridcolor\": \"white\", \"linecolor\": \"white\", \"ticks\": \"\"}}, \"title\": {\"x\": 0.05}, \"xaxis\": {\"automargin\": true, \"gridcolor\": \"white\", \"linecolor\": \"white\", \"ticks\": \"\", \"title\": {\"standoff\": 15}, \"zerolinecolor\": \"white\", \"zerolinewidth\": 2}, \"yaxis\": {\"automargin\": true, \"gridcolor\": \"white\", \"linecolor\": \"white\", \"ticks\": \"\", \"title\": {\"standoff\": 15}, \"zerolinecolor\": \"white\", \"zerolinewidth\": 2}}}, \"title\": {\"text\": \"CLF20 Pseudo-Volatility vs Price\", \"x\": 0.5, \"xanchor\": \"center\", \"y\": 0.9, \"yanchor\": \"top\"}, \"xaxis\": {\"showspikes\": true, \"spikedash\": \"solid\", \"spikemode\": \"toaxis+across\", \"spikethickness\": 1, \"tickangle\": 45, \"ticktext\": [20190730, 20190805, 20190809, 20190815, 20190821, 20190827, 20190903, 20190909, 20190913, 20190919, 20190925, 20191001, 20191004, 20191010, 20191016, 20191022, 20191025, 20191031, 20191106, 20191112, 20191118, 20191122, 20191129, 20191205, 20191211], \"tickvals\": [20190730, 20190805, 20190809, 20190815, 20190821, 20190827, 20190903, 20190909, 20190913, 20190919, 20190925, 20191001, 20191004, 20191010, 20191016, 20191022, 20191025, 20191031, 20191106, 20191112, 20191118, 20191122, 20191129, 20191205, 20191211], \"type\": \"category\"}, \"yaxis\": {\"showspikes\": true, \"spikedash\": \"solid\", \"spikemode\": \"toaxis+across\", \"spikethickness\": 1, \"title\": {\"text\": \"Implied Volatility\"}}, \"yaxis2\": {\"overlaying\": \"y\", \"side\": \"right\", \"title\": {\"text\": \"Futures Close\"}}},\n",
       "                        {\"responsive\": true}\n",
       "                    ).then(function(){\n",
       "                            \n",
       "var gd = document.getElementById('2a6443ab-acb9-46fb-b0e9-60ead4e461e5');\n",
       "var x = new MutationObserver(function (mutations, observer) {{\n",
       "        var display = window.getComputedStyle(gd).display;\n",
       "        if (!display || display === 'none') {{\n",
       "            console.log([gd, 'removed!']);\n",
       "            Plotly.purge(gd);\n",
       "            observer.disconnect();\n",
       "        }}\n",
       "}});\n",
       "\n",
       "// Listen for the removal of the full notebook cells\n",
       "var notebookContainer = gd.closest('#notebook-container');\n",
       "if (notebookContainer) {{\n",
       "    x.observe(notebookContainer, {childList: true});\n",
       "}}\n",
       "\n",
       "// Listen for the clearing of the current output cell\n",
       "var outputEl = gd.closest('.output');\n",
       "if (outputEl) {{\n",
       "    x.observe(outputEl, {childList: true});\n",
       "}}\n",
       "\n",
       "                        })\n",
       "                };\n",
       "                });\n",
       "            </script>\n",
       "        </div>"
      ]
     },
     "metadata": {},
     "output_type": "display_data"
    },
    {
     "data": {
      "application/vnd.plotly.v1+json": {
       "config": {
        "linkText": "Export to plot.ly",
        "plotlyServerURL": "https://plot.ly",
        "showLink": false
       },
       "data": [
        {
         "name": "iv",
         "type": "scatter",
         "x": [
          20190826,
          20190827,
          20190828,
          20190829,
          20190830,
          20190903,
          20190904,
          20190905,
          20190906,
          20190909,
          20190910,
          20190911,
          20190912,
          20190913,
          20190916,
          20190917,
          20190918,
          20190919,
          20190920,
          20190923,
          20190924,
          20190925,
          20190926,
          20190927,
          20190930,
          20191001,
          20191002,
          20191003,
          20191004,
          20191007,
          20191008,
          20191009,
          20191010,
          20191011,
          20191014,
          20191015,
          20191016,
          20191017,
          20191018,
          20191021,
          20191022,
          20191023,
          20191024,
          20191025,
          20191028,
          20191029,
          20191030,
          20191031,
          20191101,
          20191104,
          20191105,
          20191106,
          20191107,
          20191108,
          20191111,
          20191112,
          20191113,
          20191114,
          20191115,
          20191118,
          20191118,
          20191119,
          20191120,
          20191121,
          20191122,
          20191125,
          20191126,
          20191127,
          20191129,
          20191202,
          20191203,
          20191204,
          20191205,
          20191206,
          20191209,
          20191210,
          20191211,
          20191212,
          20191213,
          20191216,
          20191217,
          20191218,
          20191219,
          20191220,
          20191223,
          20191224,
          20191226,
          20191227,
          20191230,
          20191231,
          20200102,
          20200103,
          20200106,
          20200107,
          20200108,
          20200109,
          20200110,
          20200113
         ],
         "y": [
          0.337072300461077,
          0.3291880230494072,
          0.32847956505214626,
          0.3412869995072924,
          0.33653434069261645,
          0.33827545188816965,
          0.3539557624759033,
          0.35466008653129505,
          0.3553515402026702,
          0.36677390616159844,
          0.36756974049486946,
          0.3562797884153573,
          0.3601868374624807,
          0.3615402832527932,
          0.4624137675873249,
          0.42595742131320447,
          0.4040995172278277,
          0.40917646451641115,
          0.4059224600698332,
          0.3955043186126278,
          0.3901703587500974,
          0.3798363612018614,
          0.37224637162558727,
          0.37265365593704275,
          0.3714648727547041,
          0.371249769866427,
          0.3731640398283399,
          0.3746737465813833,
          0.3723846938038578,
          0.3751536282570311,
          0.372764615781793,
          0.3707398298237837,
          0.3761139884004908,
          0.3889471590802609,
          0.3852054356797762,
          0.3765749048622146,
          0.377336723840232,
          0.37330051643978407,
          0.3640583068690361,
          0.3617297972365145,
          0.3650878841752005,
          0.3681927604762565,
          0.3625618599621864,
          0.355024826240558,
          0.35520943455647325,
          0.3536783190446838,
          0.34430627501289635,
          0.3461176359169116,
          0.35004860344440497,
          0.34983522127997707,
          0.3470852255129879,
          0.3444504698173819,
          0.3385778892497398,
          0.3398432812575665,
          0.34443884769120087,
          0.3420768550125029,
          0.34262002627079535,
          0.33673907183813906,
          0.33973218335877353,
          0.33710913964728834,
          0.33710913964728834,
          0.33768198937460253,
          0.3335512599787291,
          0.3243620098280506,
          0.3261002344521274,
          0.32599796631514033,
          0.32268885484467574,
          0.3220462929231822,
          0.3564010188064648,
          0.3551875547911918,
          0.358283430514206,
          0.346112599143415,
          0.3322917586229031,
          0.3160689923187801,
          0.31380448185957893,
          0.3107021389566906,
          0.31103561728960266,
          0.29810812917881885,
          0.2973471129198097,
          0.2963326599847592,
          0.27654386135312387,
          0.27043634828838303,
          0.25859221587343567,
          0.2650770123905774,
          0.26204388250309857,
          0.2546855516984243,
          0.24653802000209513,
          0.25278212479501155,
          0.27798851107782563,
          0.29963795003710936,
          0.29767563897844057,
          0.3363239316910651,
          0.36375256653255794,
          0.3452052896561367,
          0.33499917559293124,
          0.3286428813146193,
          0.2913942759791512,
          0.3857898827834762
         ],
         "yaxis": "y"
        },
        {
         "name": "fprice",
         "type": "scatter",
         "x": [
          20190826,
          20190827,
          20190828,
          20190829,
          20190830,
          20190903,
          20190904,
          20190905,
          20190906,
          20190909,
          20190910,
          20190911,
          20190912,
          20190913,
          20190916,
          20190917,
          20190918,
          20190919,
          20190920,
          20190923,
          20190924,
          20190925,
          20190926,
          20190927,
          20190930,
          20191001,
          20191002,
          20191003,
          20191004,
          20191007,
          20191008,
          20191009,
          20191010,
          20191011,
          20191014,
          20191015,
          20191016,
          20191017,
          20191018,
          20191021,
          20191022,
          20191023,
          20191024,
          20191025,
          20191028,
          20191029,
          20191030,
          20191031,
          20191101,
          20191104,
          20191105,
          20191106,
          20191107,
          20191108,
          20191111,
          20191112,
          20191113,
          20191114,
          20191115,
          20191118,
          20191118,
          20191119,
          20191120,
          20191121,
          20191122,
          20191125,
          20191126,
          20191127,
          20191129,
          20191202,
          20191203,
          20191204,
          20191205,
          20191206,
          20191209,
          20191210,
          20191211,
          20191212,
          20191213,
          20191216,
          20191217,
          20191218,
          20191219,
          20191220,
          20191223,
          20191224,
          20191226,
          20191227,
          20191230,
          20191231,
          20200102,
          20200103,
          20200106,
          20200107,
          20200108,
          20200109,
          20200110,
          20200113
         ],
         "y": [
          52.6,
          53.75,
          54.5,
          55.19,
          53.78,
          52.82,
          55.08,
          55.16,
          55.46,
          56.6,
          56.18,
          54.78,
          54.26,
          53.94,
          60.22,
          57.28,
          56.56,
          56.91,
          56.9,
          57.45,
          56.14,
          55.47,
          55.45,
          54.98,
          53.32,
          52.91,
          51.95,
          51.89,
          52.33,
          52.37,
          52.29,
          52.29,
          53.19,
          54.54,
          53.58,
          52.81,
          53.36,
          53.86,
          53.62,
          53.41,
          54.34,
          55.82,
          56.13,
          56.59,
          55.83,
          55.64,
          54.94,
          54.16,
          56.15,
          56.47,
          57.15,
          56.2,
          56.93,
          57.1,
          56.77,
          56.74,
          57.09,
          56.77,
          57.69,
          57,
          57,
          55.26,
          56.88,
          58.41,
          57.66,
          57.91,
          58.32,
          58.05,
          55.14,
          55.91,
          56.03,
          58.34,
          58.34,
          59.1,
          58.92,
          59.14,
          58.65,
          59.06,
          59.98,
          60.14,
          60.87,
          60.85,
          61.18,
          60.44,
          60.52,
          61.11,
          61.68,
          61.72,
          61.68,
          61.06,
          61.18,
          63.05,
          63.27,
          62.7,
          59.61,
          59.56,
          59.04,
          58.08
         ],
         "yaxis": "y2"
        }
       ],
       "layout": {
        "autosize": true,
        "hovermode": "x",
        "legend": {
         "orientation": "h",
         "x": 0,
         "y": 1.1
        },
        "margin": {
         "b": 100
        },
        "modebar": {
         "bgcolor": "grey",
         "orientation": "v"
        },
        "spikedistance": 1000,
        "template": {
         "data": {
          "bar": [
           {
            "error_x": {
             "color": "#2a3f5f"
            },
            "error_y": {
             "color": "#2a3f5f"
            },
            "marker": {
             "line": {
              "color": "#E5ECF6",
              "width": 0.5
             }
            },
            "type": "bar"
           }
          ],
          "barpolar": [
           {
            "marker": {
             "line": {
              "color": "#E5ECF6",
              "width": 0.5
             }
            },
            "type": "barpolar"
           }
          ],
          "carpet": [
           {
            "aaxis": {
             "endlinecolor": "#2a3f5f",
             "gridcolor": "white",
             "linecolor": "white",
             "minorgridcolor": "white",
             "startlinecolor": "#2a3f5f"
            },
            "baxis": {
             "endlinecolor": "#2a3f5f",
             "gridcolor": "white",
             "linecolor": "white",
             "minorgridcolor": "white",
             "startlinecolor": "#2a3f5f"
            },
            "type": "carpet"
           }
          ],
          "choropleth": [
           {
            "colorbar": {
             "outlinewidth": 0,
             "ticks": ""
            },
            "type": "choropleth"
           }
          ],
          "contour": [
           {
            "colorbar": {
             "outlinewidth": 0,
             "ticks": ""
            },
            "colorscale": [
             [
              0,
              "#0d0887"
             ],
             [
              0.1111111111111111,
              "#46039f"
             ],
             [
              0.2222222222222222,
              "#7201a8"
             ],
             [
              0.3333333333333333,
              "#9c179e"
             ],
             [
              0.4444444444444444,
              "#bd3786"
             ],
             [
              0.5555555555555556,
              "#d8576b"
             ],
             [
              0.6666666666666666,
              "#ed7953"
             ],
             [
              0.7777777777777778,
              "#fb9f3a"
             ],
             [
              0.8888888888888888,
              "#fdca26"
             ],
             [
              1,
              "#f0f921"
             ]
            ],
            "type": "contour"
           }
          ],
          "contourcarpet": [
           {
            "colorbar": {
             "outlinewidth": 0,
             "ticks": ""
            },
            "type": "contourcarpet"
           }
          ],
          "heatmap": [
           {
            "colorbar": {
             "outlinewidth": 0,
             "ticks": ""
            },
            "colorscale": [
             [
              0,
              "#0d0887"
             ],
             [
              0.1111111111111111,
              "#46039f"
             ],
             [
              0.2222222222222222,
              "#7201a8"
             ],
             [
              0.3333333333333333,
              "#9c179e"
             ],
             [
              0.4444444444444444,
              "#bd3786"
             ],
             [
              0.5555555555555556,
              "#d8576b"
             ],
             [
              0.6666666666666666,
              "#ed7953"
             ],
             [
              0.7777777777777778,
              "#fb9f3a"
             ],
             [
              0.8888888888888888,
              "#fdca26"
             ],
             [
              1,
              "#f0f921"
             ]
            ],
            "type": "heatmap"
           }
          ],
          "heatmapgl": [
           {
            "colorbar": {
             "outlinewidth": 0,
             "ticks": ""
            },
            "colorscale": [
             [
              0,
              "#0d0887"
             ],
             [
              0.1111111111111111,
              "#46039f"
             ],
             [
              0.2222222222222222,
              "#7201a8"
             ],
             [
              0.3333333333333333,
              "#9c179e"
             ],
             [
              0.4444444444444444,
              "#bd3786"
             ],
             [
              0.5555555555555556,
              "#d8576b"
             ],
             [
              0.6666666666666666,
              "#ed7953"
             ],
             [
              0.7777777777777778,
              "#fb9f3a"
             ],
             [
              0.8888888888888888,
              "#fdca26"
             ],
             [
              1,
              "#f0f921"
             ]
            ],
            "type": "heatmapgl"
           }
          ],
          "histogram": [
           {
            "marker": {
             "colorbar": {
              "outlinewidth": 0,
              "ticks": ""
             }
            },
            "type": "histogram"
           }
          ],
          "histogram2d": [
           {
            "colorbar": {
             "outlinewidth": 0,
             "ticks": ""
            },
            "colorscale": [
             [
              0,
              "#0d0887"
             ],
             [
              0.1111111111111111,
              "#46039f"
             ],
             [
              0.2222222222222222,
              "#7201a8"
             ],
             [
              0.3333333333333333,
              "#9c179e"
             ],
             [
              0.4444444444444444,
              "#bd3786"
             ],
             [
              0.5555555555555556,
              "#d8576b"
             ],
             [
              0.6666666666666666,
              "#ed7953"
             ],
             [
              0.7777777777777778,
              "#fb9f3a"
             ],
             [
              0.8888888888888888,
              "#fdca26"
             ],
             [
              1,
              "#f0f921"
             ]
            ],
            "type": "histogram2d"
           }
          ],
          "histogram2dcontour": [
           {
            "colorbar": {
             "outlinewidth": 0,
             "ticks": ""
            },
            "colorscale": [
             [
              0,
              "#0d0887"
             ],
             [
              0.1111111111111111,
              "#46039f"
             ],
             [
              0.2222222222222222,
              "#7201a8"
             ],
             [
              0.3333333333333333,
              "#9c179e"
             ],
             [
              0.4444444444444444,
              "#bd3786"
             ],
             [
              0.5555555555555556,
              "#d8576b"
             ],
             [
              0.6666666666666666,
              "#ed7953"
             ],
             [
              0.7777777777777778,
              "#fb9f3a"
             ],
             [
              0.8888888888888888,
              "#fdca26"
             ],
             [
              1,
              "#f0f921"
             ]
            ],
            "type": "histogram2dcontour"
           }
          ],
          "mesh3d": [
           {
            "colorbar": {
             "outlinewidth": 0,
             "ticks": ""
            },
            "type": "mesh3d"
           }
          ],
          "parcoords": [
           {
            "line": {
             "colorbar": {
              "outlinewidth": 0,
              "ticks": ""
             }
            },
            "type": "parcoords"
           }
          ],
          "pie": [
           {
            "automargin": true,
            "type": "pie"
           }
          ],
          "scatter": [
           {
            "marker": {
             "colorbar": {
              "outlinewidth": 0,
              "ticks": ""
             }
            },
            "type": "scatter"
           }
          ],
          "scatter3d": [
           {
            "line": {
             "colorbar": {
              "outlinewidth": 0,
              "ticks": ""
             }
            },
            "marker": {
             "colorbar": {
              "outlinewidth": 0,
              "ticks": ""
             }
            },
            "type": "scatter3d"
           }
          ],
          "scattercarpet": [
           {
            "marker": {
             "colorbar": {
              "outlinewidth": 0,
              "ticks": ""
             }
            },
            "type": "scattercarpet"
           }
          ],
          "scattergeo": [
           {
            "marker": {
             "colorbar": {
              "outlinewidth": 0,
              "ticks": ""
             }
            },
            "type": "scattergeo"
           }
          ],
          "scattergl": [
           {
            "marker": {
             "colorbar": {
              "outlinewidth": 0,
              "ticks": ""
             }
            },
            "type": "scattergl"
           }
          ],
          "scattermapbox": [
           {
            "marker": {
             "colorbar": {
              "outlinewidth": 0,
              "ticks": ""
             }
            },
            "type": "scattermapbox"
           }
          ],
          "scatterpolar": [
           {
            "marker": {
             "colorbar": {
              "outlinewidth": 0,
              "ticks": ""
             }
            },
            "type": "scatterpolar"
           }
          ],
          "scatterpolargl": [
           {
            "marker": {
             "colorbar": {
              "outlinewidth": 0,
              "ticks": ""
             }
            },
            "type": "scatterpolargl"
           }
          ],
          "scatterternary": [
           {
            "marker": {
             "colorbar": {
              "outlinewidth": 0,
              "ticks": ""
             }
            },
            "type": "scatterternary"
           }
          ],
          "surface": [
           {
            "colorbar": {
             "outlinewidth": 0,
             "ticks": ""
            },
            "colorscale": [
             [
              0,
              "#0d0887"
             ],
             [
              0.1111111111111111,
              "#46039f"
             ],
             [
              0.2222222222222222,
              "#7201a8"
             ],
             [
              0.3333333333333333,
              "#9c179e"
             ],
             [
              0.4444444444444444,
              "#bd3786"
             ],
             [
              0.5555555555555556,
              "#d8576b"
             ],
             [
              0.6666666666666666,
              "#ed7953"
             ],
             [
              0.7777777777777778,
              "#fb9f3a"
             ],
             [
              0.8888888888888888,
              "#fdca26"
             ],
             [
              1,
              "#f0f921"
             ]
            ],
            "type": "surface"
           }
          ],
          "table": [
           {
            "cells": {
             "fill": {
              "color": "#EBF0F8"
             },
             "line": {
              "color": "white"
             }
            },
            "header": {
             "fill": {
              "color": "#C8D4E3"
             },
             "line": {
              "color": "white"
             }
            },
            "type": "table"
           }
          ]
         },
         "layout": {
          "annotationdefaults": {
           "arrowcolor": "#2a3f5f",
           "arrowhead": 0,
           "arrowwidth": 1
          },
          "coloraxis": {
           "colorbar": {
            "outlinewidth": 0,
            "ticks": ""
           }
          },
          "colorscale": {
           "diverging": [
            [
             0,
             "#8e0152"
            ],
            [
             0.1,
             "#c51b7d"
            ],
            [
             0.2,
             "#de77ae"
            ],
            [
             0.3,
             "#f1b6da"
            ],
            [
             0.4,
             "#fde0ef"
            ],
            [
             0.5,
             "#f7f7f7"
            ],
            [
             0.6,
             "#e6f5d0"
            ],
            [
             0.7,
             "#b8e186"
            ],
            [
             0.8,
             "#7fbc41"
            ],
            [
             0.9,
             "#4d9221"
            ],
            [
             1,
             "#276419"
            ]
           ],
           "sequential": [
            [
             0,
             "#0d0887"
            ],
            [
             0.1111111111111111,
             "#46039f"
            ],
            [
             0.2222222222222222,
             "#7201a8"
            ],
            [
             0.3333333333333333,
             "#9c179e"
            ],
            [
             0.4444444444444444,
             "#bd3786"
            ],
            [
             0.5555555555555556,
             "#d8576b"
            ],
            [
             0.6666666666666666,
             "#ed7953"
            ],
            [
             0.7777777777777778,
             "#fb9f3a"
            ],
            [
             0.8888888888888888,
             "#fdca26"
            ],
            [
             1,
             "#f0f921"
            ]
           ],
           "sequentialminus": [
            [
             0,
             "#0d0887"
            ],
            [
             0.1111111111111111,
             "#46039f"
            ],
            [
             0.2222222222222222,
             "#7201a8"
            ],
            [
             0.3333333333333333,
             "#9c179e"
            ],
            [
             0.4444444444444444,
             "#bd3786"
            ],
            [
             0.5555555555555556,
             "#d8576b"
            ],
            [
             0.6666666666666666,
             "#ed7953"
            ],
            [
             0.7777777777777778,
             "#fb9f3a"
            ],
            [
             0.8888888888888888,
             "#fdca26"
            ],
            [
             1,
             "#f0f921"
            ]
           ]
          },
          "colorway": [
           "#636efa",
           "#EF553B",
           "#00cc96",
           "#ab63fa",
           "#FFA15A",
           "#19d3f3",
           "#FF6692",
           "#B6E880",
           "#FF97FF",
           "#FECB52"
          ],
          "font": {
           "color": "#2a3f5f"
          },
          "geo": {
           "bgcolor": "white",
           "lakecolor": "white",
           "landcolor": "#E5ECF6",
           "showlakes": true,
           "showland": true,
           "subunitcolor": "white"
          },
          "hoverlabel": {
           "align": "left"
          },
          "hovermode": "closest",
          "mapbox": {
           "style": "light"
          },
          "paper_bgcolor": "white",
          "plot_bgcolor": "#E5ECF6",
          "polar": {
           "angularaxis": {
            "gridcolor": "white",
            "linecolor": "white",
            "ticks": ""
           },
           "bgcolor": "#E5ECF6",
           "radialaxis": {
            "gridcolor": "white",
            "linecolor": "white",
            "ticks": ""
           }
          },
          "scene": {
           "xaxis": {
            "backgroundcolor": "#E5ECF6",
            "gridcolor": "white",
            "gridwidth": 2,
            "linecolor": "white",
            "showbackground": true,
            "ticks": "",
            "zerolinecolor": "white"
           },
           "yaxis": {
            "backgroundcolor": "#E5ECF6",
            "gridcolor": "white",
            "gridwidth": 2,
            "linecolor": "white",
            "showbackground": true,
            "ticks": "",
            "zerolinecolor": "white"
           },
           "zaxis": {
            "backgroundcolor": "#E5ECF6",
            "gridcolor": "white",
            "gridwidth": 2,
            "linecolor": "white",
            "showbackground": true,
            "ticks": "",
            "zerolinecolor": "white"
           }
          },
          "shapedefaults": {
           "line": {
            "color": "#2a3f5f"
           }
          },
          "ternary": {
           "aaxis": {
            "gridcolor": "white",
            "linecolor": "white",
            "ticks": ""
           },
           "baxis": {
            "gridcolor": "white",
            "linecolor": "white",
            "ticks": ""
           },
           "bgcolor": "#E5ECF6",
           "caxis": {
            "gridcolor": "white",
            "linecolor": "white",
            "ticks": ""
           }
          },
          "title": {
           "x": 0.05
          },
          "xaxis": {
           "automargin": true,
           "gridcolor": "white",
           "linecolor": "white",
           "ticks": "",
           "title": {
            "standoff": 15
           },
           "zerolinecolor": "white",
           "zerolinewidth": 2
          },
          "yaxis": {
           "automargin": true,
           "gridcolor": "white",
           "linecolor": "white",
           "ticks": "",
           "title": {
            "standoff": 15
           },
           "zerolinecolor": "white",
           "zerolinewidth": 2
          }
         }
        },
        "title": {
         "text": "CLG20 Pseudo-Volatility vs Price",
         "x": 0.5,
         "xanchor": "center",
         "y": 0.9,
         "yanchor": "top"
        },
        "xaxis": {
         "showspikes": true,
         "spikedash": "solid",
         "spikemode": "toaxis+across",
         "spikethickness": 1,
         "tickangle": 45,
         "ticktext": [
          20190826,
          20190830,
          20190906,
          20190912,
          20190918,
          20190924,
          20190930,
          20191004,
          20191010,
          20191016,
          20191022,
          20191028,
          20191101,
          20191107,
          20191113,
          20191118,
          20191122,
          20191129,
          20191205,
          20191211,
          20191217,
          20191223,
          20191230,
          20200106,
          20200110
         ],
         "tickvals": [
          20190826,
          20190830,
          20190906,
          20190912,
          20190918,
          20190924,
          20190930,
          20191004,
          20191010,
          20191016,
          20191022,
          20191028,
          20191101,
          20191107,
          20191113,
          20191118,
          20191122,
          20191129,
          20191205,
          20191211,
          20191217,
          20191223,
          20191230,
          20200106,
          20200110
         ],
         "type": "category"
        },
        "yaxis": {
         "showspikes": true,
         "spikedash": "solid",
         "spikemode": "toaxis+across",
         "spikethickness": 1,
         "title": {
          "text": "Implied Volatility"
         }
        },
        "yaxis2": {
         "overlaying": "y",
         "side": "right",
         "title": {
          "text": "Futures Close"
         }
        }
       }
      },
      "text/html": [
       "<div>\n",
       "        \n",
       "        \n",
       "            <div id=\"9eabe2a2-1d94-4360-a20d-21c9b8a5da99\" class=\"plotly-graph-div\" style=\"height:525px; width:100%;\"></div>\n",
       "            <script type=\"text/javascript\">\n",
       "                require([\"plotly\"], function(Plotly) {\n",
       "                    window.PLOTLYENV=window.PLOTLYENV || {};\n",
       "                    \n",
       "                if (document.getElementById(\"9eabe2a2-1d94-4360-a20d-21c9b8a5da99\")) {\n",
       "                    Plotly.newPlot(\n",
       "                        '9eabe2a2-1d94-4360-a20d-21c9b8a5da99',\n",
       "                        [{\"name\": \"iv\", \"type\": \"scatter\", \"x\": [20190826, 20190827, 20190828, 20190829, 20190830, 20190903, 20190904, 20190905, 20190906, 20190909, 20190910, 20190911, 20190912, 20190913, 20190916, 20190917, 20190918, 20190919, 20190920, 20190923, 20190924, 20190925, 20190926, 20190927, 20190930, 20191001, 20191002, 20191003, 20191004, 20191007, 20191008, 20191009, 20191010, 20191011, 20191014, 20191015, 20191016, 20191017, 20191018, 20191021, 20191022, 20191023, 20191024, 20191025, 20191028, 20191029, 20191030, 20191031, 20191101, 20191104, 20191105, 20191106, 20191107, 20191108, 20191111, 20191112, 20191113, 20191114, 20191115, 20191118, 20191118, 20191119, 20191120, 20191121, 20191122, 20191125, 20191126, 20191127, 20191129, 20191202, 20191203, 20191204, 20191205, 20191206, 20191209, 20191210, 20191211, 20191212, 20191213, 20191216, 20191217, 20191218, 20191219, 20191220, 20191223, 20191224, 20191226, 20191227, 20191230, 20191231, 20200102, 20200103, 20200106, 20200107, 20200108, 20200109, 20200110, 20200113], \"y\": [0.337072300461077, 0.3291880230494072, 0.32847956505214626, 0.3412869995072924, 0.33653434069261645, 0.33827545188816965, 0.3539557624759033, 0.35466008653129505, 0.3553515402026702, 0.36677390616159844, 0.36756974049486946, 0.3562797884153573, 0.3601868374624807, 0.3615402832527932, 0.4624137675873249, 0.42595742131320447, 0.4040995172278277, 0.40917646451641115, 0.4059224600698332, 0.3955043186126278, 0.3901703587500974, 0.3798363612018614, 0.37224637162558727, 0.37265365593704275, 0.3714648727547041, 0.371249769866427, 0.3731640398283399, 0.3746737465813833, 0.3723846938038578, 0.3751536282570311, 0.372764615781793, 0.3707398298237837, 0.3761139884004908, 0.3889471590802609, 0.3852054356797762, 0.3765749048622146, 0.377336723840232, 0.37330051643978407, 0.3640583068690361, 0.3617297972365145, 0.3650878841752005, 0.3681927604762565, 0.3625618599621864, 0.355024826240558, 0.35520943455647325, 0.3536783190446838, 0.34430627501289635, 0.3461176359169116, 0.35004860344440497, 0.34983522127997707, 0.3470852255129879, 0.3444504698173819, 0.3385778892497398, 0.3398432812575665, 0.34443884769120087, 0.3420768550125029, 0.34262002627079535, 0.33673907183813906, 0.33973218335877353, 0.33710913964728834, 0.33710913964728834, 0.33768198937460253, 0.3335512599787291, 0.3243620098280506, 0.3261002344521274, 0.32599796631514033, 0.32268885484467574, 0.3220462929231822, 0.3564010188064648, 0.3551875547911918, 0.358283430514206, 0.346112599143415, 0.3322917586229031, 0.3160689923187801, 0.31380448185957893, 0.3107021389566906, 0.31103561728960266, 0.29810812917881885, 0.2973471129198097, 0.2963326599847592, 0.27654386135312387, 0.27043634828838303, 0.25859221587343567, 0.2650770123905774, 0.26204388250309857, 0.2546855516984243, 0.24653802000209513, 0.25278212479501155, 0.27798851107782563, 0.29963795003710936, 0.29767563897844057, 0.3363239316910651, 0.36375256653255794, 0.3452052896561367, 0.33499917559293124, 0.3286428813146193, 0.2913942759791512, 0.3857898827834762], \"yaxis\": \"y\"}, {\"name\": \"fprice\", \"type\": \"scatter\", \"x\": [20190826, 20190827, 20190828, 20190829, 20190830, 20190903, 20190904, 20190905, 20190906, 20190909, 20190910, 20190911, 20190912, 20190913, 20190916, 20190917, 20190918, 20190919, 20190920, 20190923, 20190924, 20190925, 20190926, 20190927, 20190930, 20191001, 20191002, 20191003, 20191004, 20191007, 20191008, 20191009, 20191010, 20191011, 20191014, 20191015, 20191016, 20191017, 20191018, 20191021, 20191022, 20191023, 20191024, 20191025, 20191028, 20191029, 20191030, 20191031, 20191101, 20191104, 20191105, 20191106, 20191107, 20191108, 20191111, 20191112, 20191113, 20191114, 20191115, 20191118, 20191118, 20191119, 20191120, 20191121, 20191122, 20191125, 20191126, 20191127, 20191129, 20191202, 20191203, 20191204, 20191205, 20191206, 20191209, 20191210, 20191211, 20191212, 20191213, 20191216, 20191217, 20191218, 20191219, 20191220, 20191223, 20191224, 20191226, 20191227, 20191230, 20191231, 20200102, 20200103, 20200106, 20200107, 20200108, 20200109, 20200110, 20200113], \"y\": [52.6, 53.75, 54.5, 55.19, 53.78, 52.82, 55.08, 55.16, 55.46, 56.6, 56.18, 54.78, 54.26, 53.94, 60.22, 57.28, 56.56, 56.91, 56.9, 57.45, 56.14, 55.47, 55.45, 54.98, 53.32, 52.91, 51.95, 51.89, 52.33, 52.37, 52.29, 52.29, 53.19, 54.54, 53.58, 52.81, 53.36, 53.86, 53.62, 53.41, 54.34, 55.82, 56.13, 56.59, 55.83, 55.64, 54.94, 54.16, 56.15, 56.47, 57.15, 56.2, 56.93, 57.1, 56.77, 56.74, 57.09, 56.77, 57.69, 57.0, 57.0, 55.26, 56.88, 58.41, 57.66, 57.91, 58.32, 58.05, 55.14, 55.91, 56.03, 58.34, 58.34, 59.1, 58.92, 59.14, 58.65, 59.06, 59.98, 60.14, 60.87, 60.85, 61.18, 60.44, 60.52, 61.11, 61.68, 61.72, 61.68, 61.06, 61.18, 63.05, 63.27, 62.7, 59.61, 59.56, 59.04, 58.08], \"yaxis\": \"y2\"}],\n",
       "                        {\"autosize\": true, \"hovermode\": \"x\", \"legend\": {\"orientation\": \"h\", \"x\": 0, \"y\": 1.1}, \"margin\": {\"b\": 100}, \"modebar\": {\"bgcolor\": \"grey\", \"orientation\": \"v\"}, \"spikedistance\": 1000, \"template\": {\"data\": {\"bar\": [{\"error_x\": {\"color\": \"#2a3f5f\"}, \"error_y\": {\"color\": \"#2a3f5f\"}, \"marker\": {\"line\": {\"color\": \"#E5ECF6\", \"width\": 0.5}}, \"type\": \"bar\"}], \"barpolar\": [{\"marker\": {\"line\": {\"color\": \"#E5ECF6\", \"width\": 0.5}}, \"type\": \"barpolar\"}], \"carpet\": [{\"aaxis\": {\"endlinecolor\": \"#2a3f5f\", \"gridcolor\": \"white\", \"linecolor\": \"white\", \"minorgridcolor\": \"white\", \"startlinecolor\": \"#2a3f5f\"}, \"baxis\": {\"endlinecolor\": \"#2a3f5f\", \"gridcolor\": \"white\", \"linecolor\": \"white\", \"minorgridcolor\": \"white\", \"startlinecolor\": \"#2a3f5f\"}, \"type\": \"carpet\"}], \"choropleth\": [{\"colorbar\": {\"outlinewidth\": 0, \"ticks\": \"\"}, \"type\": \"choropleth\"}], \"contour\": [{\"colorbar\": {\"outlinewidth\": 0, \"ticks\": \"\"}, \"colorscale\": [[0.0, \"#0d0887\"], [0.1111111111111111, \"#46039f\"], [0.2222222222222222, \"#7201a8\"], [0.3333333333333333, \"#9c179e\"], [0.4444444444444444, \"#bd3786\"], [0.5555555555555556, \"#d8576b\"], [0.6666666666666666, \"#ed7953\"], [0.7777777777777778, \"#fb9f3a\"], [0.8888888888888888, \"#fdca26\"], [1.0, \"#f0f921\"]], \"type\": \"contour\"}], \"contourcarpet\": [{\"colorbar\": {\"outlinewidth\": 0, \"ticks\": \"\"}, \"type\": \"contourcarpet\"}], \"heatmap\": [{\"colorbar\": {\"outlinewidth\": 0, \"ticks\": \"\"}, \"colorscale\": [[0.0, \"#0d0887\"], [0.1111111111111111, \"#46039f\"], [0.2222222222222222, \"#7201a8\"], [0.3333333333333333, \"#9c179e\"], [0.4444444444444444, \"#bd3786\"], [0.5555555555555556, \"#d8576b\"], [0.6666666666666666, \"#ed7953\"], [0.7777777777777778, \"#fb9f3a\"], [0.8888888888888888, \"#fdca26\"], [1.0, \"#f0f921\"]], \"type\": \"heatmap\"}], \"heatmapgl\": [{\"colorbar\": {\"outlinewidth\": 0, \"ticks\": \"\"}, \"colorscale\": [[0.0, \"#0d0887\"], [0.1111111111111111, \"#46039f\"], [0.2222222222222222, \"#7201a8\"], [0.3333333333333333, \"#9c179e\"], [0.4444444444444444, \"#bd3786\"], [0.5555555555555556, \"#d8576b\"], [0.6666666666666666, \"#ed7953\"], [0.7777777777777778, \"#fb9f3a\"], [0.8888888888888888, \"#fdca26\"], [1.0, \"#f0f921\"]], \"type\": \"heatmapgl\"}], \"histogram\": [{\"marker\": {\"colorbar\": {\"outlinewidth\": 0, \"ticks\": \"\"}}, \"type\": \"histogram\"}], \"histogram2d\": [{\"colorbar\": {\"outlinewidth\": 0, \"ticks\": \"\"}, \"colorscale\": [[0.0, \"#0d0887\"], [0.1111111111111111, \"#46039f\"], [0.2222222222222222, \"#7201a8\"], [0.3333333333333333, \"#9c179e\"], [0.4444444444444444, \"#bd3786\"], [0.5555555555555556, \"#d8576b\"], [0.6666666666666666, \"#ed7953\"], [0.7777777777777778, \"#fb9f3a\"], [0.8888888888888888, \"#fdca26\"], [1.0, \"#f0f921\"]], \"type\": \"histogram2d\"}], \"histogram2dcontour\": [{\"colorbar\": {\"outlinewidth\": 0, \"ticks\": \"\"}, \"colorscale\": [[0.0, \"#0d0887\"], [0.1111111111111111, \"#46039f\"], [0.2222222222222222, \"#7201a8\"], [0.3333333333333333, \"#9c179e\"], [0.4444444444444444, \"#bd3786\"], [0.5555555555555556, \"#d8576b\"], [0.6666666666666666, \"#ed7953\"], [0.7777777777777778, \"#fb9f3a\"], [0.8888888888888888, \"#fdca26\"], [1.0, \"#f0f921\"]], \"type\": \"histogram2dcontour\"}], \"mesh3d\": [{\"colorbar\": {\"outlinewidth\": 0, \"ticks\": \"\"}, \"type\": \"mesh3d\"}], \"parcoords\": [{\"line\": {\"colorbar\": {\"outlinewidth\": 0, \"ticks\": \"\"}}, \"type\": \"parcoords\"}], \"pie\": [{\"automargin\": true, \"type\": \"pie\"}], \"scatter\": [{\"marker\": {\"colorbar\": {\"outlinewidth\": 0, \"ticks\": \"\"}}, \"type\": \"scatter\"}], \"scatter3d\": [{\"line\": {\"colorbar\": {\"outlinewidth\": 0, \"ticks\": \"\"}}, \"marker\": {\"colorbar\": {\"outlinewidth\": 0, \"ticks\": \"\"}}, \"type\": \"scatter3d\"}], \"scattercarpet\": [{\"marker\": {\"colorbar\": {\"outlinewidth\": 0, \"ticks\": \"\"}}, \"type\": \"scattercarpet\"}], \"scattergeo\": [{\"marker\": {\"colorbar\": {\"outlinewidth\": 0, \"ticks\": \"\"}}, \"type\": \"scattergeo\"}], \"scattergl\": [{\"marker\": {\"colorbar\": {\"outlinewidth\": 0, \"ticks\": \"\"}}, \"type\": \"scattergl\"}], \"scattermapbox\": [{\"marker\": {\"colorbar\": {\"outlinewidth\": 0, \"ticks\": \"\"}}, \"type\": \"scattermapbox\"}], \"scatterpolar\": [{\"marker\": {\"colorbar\": {\"outlinewidth\": 0, \"ticks\": \"\"}}, \"type\": \"scatterpolar\"}], \"scatterpolargl\": [{\"marker\": {\"colorbar\": {\"outlinewidth\": 0, \"ticks\": \"\"}}, \"type\": \"scatterpolargl\"}], \"scatterternary\": [{\"marker\": {\"colorbar\": {\"outlinewidth\": 0, \"ticks\": \"\"}}, \"type\": \"scatterternary\"}], \"surface\": [{\"colorbar\": {\"outlinewidth\": 0, \"ticks\": \"\"}, \"colorscale\": [[0.0, \"#0d0887\"], [0.1111111111111111, \"#46039f\"], [0.2222222222222222, \"#7201a8\"], [0.3333333333333333, \"#9c179e\"], [0.4444444444444444, \"#bd3786\"], [0.5555555555555556, \"#d8576b\"], [0.6666666666666666, \"#ed7953\"], [0.7777777777777778, \"#fb9f3a\"], [0.8888888888888888, \"#fdca26\"], [1.0, \"#f0f921\"]], \"type\": \"surface\"}], \"table\": [{\"cells\": {\"fill\": {\"color\": \"#EBF0F8\"}, \"line\": {\"color\": \"white\"}}, \"header\": {\"fill\": {\"color\": \"#C8D4E3\"}, \"line\": {\"color\": \"white\"}}, \"type\": \"table\"}]}, \"layout\": {\"annotationdefaults\": {\"arrowcolor\": \"#2a3f5f\", \"arrowhead\": 0, \"arrowwidth\": 1}, \"coloraxis\": {\"colorbar\": {\"outlinewidth\": 0, \"ticks\": \"\"}}, \"colorscale\": {\"diverging\": [[0, \"#8e0152\"], [0.1, \"#c51b7d\"], [0.2, \"#de77ae\"], [0.3, \"#f1b6da\"], [0.4, \"#fde0ef\"], [0.5, \"#f7f7f7\"], [0.6, \"#e6f5d0\"], [0.7, \"#b8e186\"], [0.8, \"#7fbc41\"], [0.9, \"#4d9221\"], [1, \"#276419\"]], \"sequential\": [[0.0, \"#0d0887\"], [0.1111111111111111, \"#46039f\"], [0.2222222222222222, \"#7201a8\"], [0.3333333333333333, \"#9c179e\"], [0.4444444444444444, \"#bd3786\"], [0.5555555555555556, \"#d8576b\"], [0.6666666666666666, \"#ed7953\"], [0.7777777777777778, \"#fb9f3a\"], [0.8888888888888888, \"#fdca26\"], [1.0, \"#f0f921\"]], \"sequentialminus\": [[0.0, \"#0d0887\"], [0.1111111111111111, \"#46039f\"], [0.2222222222222222, \"#7201a8\"], [0.3333333333333333, \"#9c179e\"], [0.4444444444444444, \"#bd3786\"], [0.5555555555555556, \"#d8576b\"], [0.6666666666666666, \"#ed7953\"], [0.7777777777777778, \"#fb9f3a\"], [0.8888888888888888, \"#fdca26\"], [1.0, \"#f0f921\"]]}, \"colorway\": [\"#636efa\", \"#EF553B\", \"#00cc96\", \"#ab63fa\", \"#FFA15A\", \"#19d3f3\", \"#FF6692\", \"#B6E880\", \"#FF97FF\", \"#FECB52\"], \"font\": {\"color\": \"#2a3f5f\"}, \"geo\": {\"bgcolor\": \"white\", \"lakecolor\": \"white\", \"landcolor\": \"#E5ECF6\", \"showlakes\": true, \"showland\": true, \"subunitcolor\": \"white\"}, \"hoverlabel\": {\"align\": \"left\"}, \"hovermode\": \"closest\", \"mapbox\": {\"style\": \"light\"}, \"paper_bgcolor\": \"white\", \"plot_bgcolor\": \"#E5ECF6\", \"polar\": {\"angularaxis\": {\"gridcolor\": \"white\", \"linecolor\": \"white\", \"ticks\": \"\"}, \"bgcolor\": \"#E5ECF6\", \"radialaxis\": {\"gridcolor\": \"white\", \"linecolor\": \"white\", \"ticks\": \"\"}}, \"scene\": {\"xaxis\": {\"backgroundcolor\": \"#E5ECF6\", \"gridcolor\": \"white\", \"gridwidth\": 2, \"linecolor\": \"white\", \"showbackground\": true, \"ticks\": \"\", \"zerolinecolor\": \"white\"}, \"yaxis\": {\"backgroundcolor\": \"#E5ECF6\", \"gridcolor\": \"white\", \"gridwidth\": 2, \"linecolor\": \"white\", \"showbackground\": true, \"ticks\": \"\", \"zerolinecolor\": \"white\"}, \"zaxis\": {\"backgroundcolor\": \"#E5ECF6\", \"gridcolor\": \"white\", \"gridwidth\": 2, \"linecolor\": \"white\", \"showbackground\": true, \"ticks\": \"\", \"zerolinecolor\": \"white\"}}, \"shapedefaults\": {\"line\": {\"color\": \"#2a3f5f\"}}, \"ternary\": {\"aaxis\": {\"gridcolor\": \"white\", \"linecolor\": \"white\", \"ticks\": \"\"}, \"baxis\": {\"gridcolor\": \"white\", \"linecolor\": \"white\", \"ticks\": \"\"}, \"bgcolor\": \"#E5ECF6\", \"caxis\": {\"gridcolor\": \"white\", \"linecolor\": \"white\", \"ticks\": \"\"}}, \"title\": {\"x\": 0.05}, \"xaxis\": {\"automargin\": true, \"gridcolor\": \"white\", \"linecolor\": \"white\", \"ticks\": \"\", \"title\": {\"standoff\": 15}, \"zerolinecolor\": \"white\", \"zerolinewidth\": 2}, \"yaxis\": {\"automargin\": true, \"gridcolor\": \"white\", \"linecolor\": \"white\", \"ticks\": \"\", \"title\": {\"standoff\": 15}, \"zerolinecolor\": \"white\", \"zerolinewidth\": 2}}}, \"title\": {\"text\": \"CLG20 Pseudo-Volatility vs Price\", \"x\": 0.5, \"xanchor\": \"center\", \"y\": 0.9, \"yanchor\": \"top\"}, \"xaxis\": {\"showspikes\": true, \"spikedash\": \"solid\", \"spikemode\": \"toaxis+across\", \"spikethickness\": 1, \"tickangle\": 45, \"ticktext\": [20190826, 20190830, 20190906, 20190912, 20190918, 20190924, 20190930, 20191004, 20191010, 20191016, 20191022, 20191028, 20191101, 20191107, 20191113, 20191118, 20191122, 20191129, 20191205, 20191211, 20191217, 20191223, 20191230, 20200106, 20200110], \"tickvals\": [20190826, 20190830, 20190906, 20190912, 20190918, 20190924, 20190930, 20191004, 20191010, 20191016, 20191022, 20191028, 20191101, 20191107, 20191113, 20191118, 20191122, 20191129, 20191205, 20191211, 20191217, 20191223, 20191230, 20200106, 20200110], \"type\": \"category\"}, \"yaxis\": {\"showspikes\": true, \"spikedash\": \"solid\", \"spikemode\": \"toaxis+across\", \"spikethickness\": 1, \"title\": {\"text\": \"Implied Volatility\"}}, \"yaxis2\": {\"overlaying\": \"y\", \"side\": \"right\", \"title\": {\"text\": \"Futures Close\"}}},\n",
       "                        {\"responsive\": true}\n",
       "                    ).then(function(){\n",
       "                            \n",
       "var gd = document.getElementById('9eabe2a2-1d94-4360-a20d-21c9b8a5da99');\n",
       "var x = new MutationObserver(function (mutations, observer) {{\n",
       "        var display = window.getComputedStyle(gd).display;\n",
       "        if (!display || display === 'none') {{\n",
       "            console.log([gd, 'removed!']);\n",
       "            Plotly.purge(gd);\n",
       "            observer.disconnect();\n",
       "        }}\n",
       "}});\n",
       "\n",
       "// Listen for the removal of the full notebook cells\n",
       "var notebookContainer = gd.closest('#notebook-container');\n",
       "if (notebookContainer) {{\n",
       "    x.observe(notebookContainer, {childList: true});\n",
       "}}\n",
       "\n",
       "// Listen for the clearing of the current output cell\n",
       "var outputEl = gd.closest('.output');\n",
       "if (outputEl) {{\n",
       "    x.observe(outputEl, {childList: true});\n",
       "}}\n",
       "\n",
       "                        })\n",
       "                };\n",
       "                });\n",
       "            </script>\n",
       "        </div>"
      ]
     },
     "metadata": {},
     "output_type": "display_data"
    },
    {
     "data": {
      "application/vnd.plotly.v1+json": {
       "config": {
        "linkText": "Export to plot.ly",
        "plotlyServerURL": "https://plot.ly",
        "showLink": false
       },
       "data": [
        {
         "name": "iv",
         "type": "scatter",
         "x": [
          20190925,
          20190926,
          20190927,
          20190930,
          20191001,
          20191002,
          20191003,
          20191004,
          20191007,
          20191008,
          20191009,
          20191010,
          20191011,
          20191014,
          20191015,
          20191016,
          20191017,
          20191018,
          20191021,
          20191022,
          20191023,
          20191024,
          20191025,
          20191028,
          20191029,
          20191030,
          20191031,
          20191101,
          20191104,
          20191105,
          20191106,
          20191107,
          20191108,
          20191111,
          20191112,
          20191113,
          20191114,
          20191115,
          20191118,
          20191119,
          20191119,
          20191120,
          20191121,
          20191122,
          20191125,
          20191126,
          20191127,
          20191129,
          20191202,
          20191203,
          20191204,
          20191205,
          20191206,
          20191209,
          20191210,
          20191211,
          20191212,
          20191213,
          20191216,
          20191217,
          20191218,
          20191219,
          20191220,
          20191223,
          20191224,
          20191226,
          20191227,
          20191230,
          20191231,
          20200102,
          20200103,
          20200106,
          20200107,
          20200108,
          20200109,
          20200110,
          20200113,
          20200114,
          20200115,
          20200116,
          20200117,
          20200121,
          20200122,
          20200123,
          20200124,
          20200127,
          20200128,
          20200129,
          20200130,
          20200131,
          20200203,
          20200204,
          20200205,
          20200206,
          20200207,
          20200210,
          20200211,
          20200212
         ],
         "y": [
          0.37753463720752084,
          0.37086998737468363,
          0.369053151107547,
          0.36724331841055213,
          0.36828709369367546,
          0.36949425639478367,
          0.3707264306440251,
          0.36950600644876425,
          0.37393394113304934,
          0.37181504616627054,
          0.3694108444128167,
          0.3707620810410709,
          0.3815743364295717,
          0.37919868498487164,
          0.37486661597660614,
          0.3769218108636854,
          0.3729702046243177,
          0.3628869433238167,
          0.36363616838427076,
          0.3671303573282754,
          0.3708230568955082,
          0.3630847618064066,
          0.35586722637581203,
          0.35673141249082396,
          0.35225551031360564,
          0.3474414715948962,
          0.3463996761035315,
          0.35154677462211265,
          0.3538924832726028,
          0.34866329378002664,
          0.34941774177112217,
          0.3451399802397752,
          0.3443189333756438,
          0.35060108737975393,
          0.3469213325589536,
          0.3480913788206457,
          0.3445901330534813,
          0.34247141629585165,
          0.3440561160016904,
          0.34501399765425245,
          0.34501399765425245,
          0.3399430057498815,
          0.33022136607352215,
          0.3288794094884109,
          0.33367352955354784,
          0.32961441551505244,
          0.3260274000578226,
          0.35325764012676464,
          0.3553981119373633,
          0.3518766975063053,
          0.3449596245963527,
          0.33596999375561654,
          0.3222704969817349,
          0.323580980750522,
          0.31570181607113645,
          0.3168242784320629,
          0.3055762494605094,
          0.3111887747332434,
          0.30541591427753945,
          0.2935993162412519,
          0.2917486827245482,
          0.28095835106515576,
          0.29245596907591775,
          0.29183419457758536,
          0.2836507875448311,
          0.2744183316783569,
          0.2793847125877226,
          0.29156649693979225,
          0.3061378410413125,
          0.30228780391722293,
          0.33563320976211414,
          0.359984909850885,
          0.3466377782474997,
          0.34871319180065957,
          0.3326067868086647,
          0.3204528041477877,
          0.3259827914138368,
          0.3090576686779192,
          0.3059018124412393,
          0.29498050259841596,
          0.2993729173588459,
          0.30690192928399174,
          0.3362699982019803,
          0.3489128409624778,
          0.3655787452976455,
          0.40725105023662594,
          0.40461309305701026,
          0.3861338430075181,
          0.4311575488507525,
          0.44867067220900964,
          0.4584356532274092,
          0.45345046555106966,
          0.4114418502518786,
          0.4215751452516845,
          0.4294470627692427,
          0.46719916594855904,
          0.4088302984183486,
          0.38740504943222587
         ],
         "yaxis": "y"
        },
        {
         "name": "fprice",
         "type": "scatter",
         "x": [
          20190925,
          20190926,
          20190927,
          20190930,
          20191001,
          20191002,
          20191003,
          20191004,
          20191007,
          20191008,
          20191009,
          20191010,
          20191011,
          20191014,
          20191015,
          20191016,
          20191017,
          20191018,
          20191021,
          20191022,
          20191023,
          20191024,
          20191025,
          20191028,
          20191029,
          20191030,
          20191031,
          20191101,
          20191104,
          20191105,
          20191106,
          20191107,
          20191108,
          20191111,
          20191112,
          20191113,
          20191114,
          20191115,
          20191118,
          20191119,
          20191119,
          20191120,
          20191121,
          20191122,
          20191125,
          20191126,
          20191127,
          20191129,
          20191202,
          20191203,
          20191204,
          20191205,
          20191206,
          20191209,
          20191210,
          20191211,
          20191212,
          20191213,
          20191216,
          20191217,
          20191218,
          20191219,
          20191220,
          20191223,
          20191224,
          20191226,
          20191227,
          20191230,
          20191231,
          20200102,
          20200103,
          20200106,
          20200107,
          20200108,
          20200109,
          20200110,
          20200113,
          20200114,
          20200115,
          20200116,
          20200117,
          20200121,
          20200122,
          20200123,
          20200124,
          20200127,
          20200128,
          20200129,
          20200130,
          20200131,
          20200203,
          20200204,
          20200205,
          20200206,
          20200207,
          20200210,
          20200211,
          20200212
         ],
         "y": [
          55,
          54.95,
          54.49,
          52.9,
          52.54,
          51.63,
          51.59,
          52.07,
          52.15,
          52.11,
          52.12,
          52.97,
          54.34,
          53.45,
          52.66,
          53.19,
          53.63,
          53.37,
          53.18,
          54.07,
          55.52,
          55.85,
          56.32,
          55.63,
          55.47,
          54.66,
          53.92,
          55.86,
          56.18,
          56.84,
          55.84,
          56.54,
          56.77,
          56.49,
          56.48,
          56.82,
          56.48,
          57.37,
          56.67,
          55,
          55,
          56.58,
          58.02,
          57.35,
          57.63,
          58.06,
          57.85,
          54.98,
          55.74,
          55.82,
          58.04,
          58.06,
          58.78,
          58.64,
          58.88,
          58.36,
          58.76,
          59.67,
          59.85,
          60.53,
          60.56,
          60.88,
          60.25,
          60.35,
          60.94,
          61.48,
          61.53,
          61.44,
          60.77,
          60.95,
          62.82,
          63.04,
          62.51,
          59.46,
          59.44,
          58.99,
          58.08,
          58.26,
          57.84,
          58.53,
          58.58,
          58.38,
          56.74,
          55.59,
          54.19,
          53.14,
          53.48,
          53.33,
          52.14,
          51.56,
          50.11,
          49.61,
          50.75,
          50.95,
          50.32,
          49.57,
          49.94,
          51.17
         ],
         "yaxis": "y2"
        }
       ],
       "layout": {
        "autosize": true,
        "hovermode": "x",
        "legend": {
         "orientation": "h",
         "x": 0,
         "y": 1.1
        },
        "margin": {
         "b": 100
        },
        "modebar": {
         "bgcolor": "grey",
         "orientation": "v"
        },
        "spikedistance": 1000,
        "template": {
         "data": {
          "bar": [
           {
            "error_x": {
             "color": "#2a3f5f"
            },
            "error_y": {
             "color": "#2a3f5f"
            },
            "marker": {
             "line": {
              "color": "#E5ECF6",
              "width": 0.5
             }
            },
            "type": "bar"
           }
          ],
          "barpolar": [
           {
            "marker": {
             "line": {
              "color": "#E5ECF6",
              "width": 0.5
             }
            },
            "type": "barpolar"
           }
          ],
          "carpet": [
           {
            "aaxis": {
             "endlinecolor": "#2a3f5f",
             "gridcolor": "white",
             "linecolor": "white",
             "minorgridcolor": "white",
             "startlinecolor": "#2a3f5f"
            },
            "baxis": {
             "endlinecolor": "#2a3f5f",
             "gridcolor": "white",
             "linecolor": "white",
             "minorgridcolor": "white",
             "startlinecolor": "#2a3f5f"
            },
            "type": "carpet"
           }
          ],
          "choropleth": [
           {
            "colorbar": {
             "outlinewidth": 0,
             "ticks": ""
            },
            "type": "choropleth"
           }
          ],
          "contour": [
           {
            "colorbar": {
             "outlinewidth": 0,
             "ticks": ""
            },
            "colorscale": [
             [
              0,
              "#0d0887"
             ],
             [
              0.1111111111111111,
              "#46039f"
             ],
             [
              0.2222222222222222,
              "#7201a8"
             ],
             [
              0.3333333333333333,
              "#9c179e"
             ],
             [
              0.4444444444444444,
              "#bd3786"
             ],
             [
              0.5555555555555556,
              "#d8576b"
             ],
             [
              0.6666666666666666,
              "#ed7953"
             ],
             [
              0.7777777777777778,
              "#fb9f3a"
             ],
             [
              0.8888888888888888,
              "#fdca26"
             ],
             [
              1,
              "#f0f921"
             ]
            ],
            "type": "contour"
           }
          ],
          "contourcarpet": [
           {
            "colorbar": {
             "outlinewidth": 0,
             "ticks": ""
            },
            "type": "contourcarpet"
           }
          ],
          "heatmap": [
           {
            "colorbar": {
             "outlinewidth": 0,
             "ticks": ""
            },
            "colorscale": [
             [
              0,
              "#0d0887"
             ],
             [
              0.1111111111111111,
              "#46039f"
             ],
             [
              0.2222222222222222,
              "#7201a8"
             ],
             [
              0.3333333333333333,
              "#9c179e"
             ],
             [
              0.4444444444444444,
              "#bd3786"
             ],
             [
              0.5555555555555556,
              "#d8576b"
             ],
             [
              0.6666666666666666,
              "#ed7953"
             ],
             [
              0.7777777777777778,
              "#fb9f3a"
             ],
             [
              0.8888888888888888,
              "#fdca26"
             ],
             [
              1,
              "#f0f921"
             ]
            ],
            "type": "heatmap"
           }
          ],
          "heatmapgl": [
           {
            "colorbar": {
             "outlinewidth": 0,
             "ticks": ""
            },
            "colorscale": [
             [
              0,
              "#0d0887"
             ],
             [
              0.1111111111111111,
              "#46039f"
             ],
             [
              0.2222222222222222,
              "#7201a8"
             ],
             [
              0.3333333333333333,
              "#9c179e"
             ],
             [
              0.4444444444444444,
              "#bd3786"
             ],
             [
              0.5555555555555556,
              "#d8576b"
             ],
             [
              0.6666666666666666,
              "#ed7953"
             ],
             [
              0.7777777777777778,
              "#fb9f3a"
             ],
             [
              0.8888888888888888,
              "#fdca26"
             ],
             [
              1,
              "#f0f921"
             ]
            ],
            "type": "heatmapgl"
           }
          ],
          "histogram": [
           {
            "marker": {
             "colorbar": {
              "outlinewidth": 0,
              "ticks": ""
             }
            },
            "type": "histogram"
           }
          ],
          "histogram2d": [
           {
            "colorbar": {
             "outlinewidth": 0,
             "ticks": ""
            },
            "colorscale": [
             [
              0,
              "#0d0887"
             ],
             [
              0.1111111111111111,
              "#46039f"
             ],
             [
              0.2222222222222222,
              "#7201a8"
             ],
             [
              0.3333333333333333,
              "#9c179e"
             ],
             [
              0.4444444444444444,
              "#bd3786"
             ],
             [
              0.5555555555555556,
              "#d8576b"
             ],
             [
              0.6666666666666666,
              "#ed7953"
             ],
             [
              0.7777777777777778,
              "#fb9f3a"
             ],
             [
              0.8888888888888888,
              "#fdca26"
             ],
             [
              1,
              "#f0f921"
             ]
            ],
            "type": "histogram2d"
           }
          ],
          "histogram2dcontour": [
           {
            "colorbar": {
             "outlinewidth": 0,
             "ticks": ""
            },
            "colorscale": [
             [
              0,
              "#0d0887"
             ],
             [
              0.1111111111111111,
              "#46039f"
             ],
             [
              0.2222222222222222,
              "#7201a8"
             ],
             [
              0.3333333333333333,
              "#9c179e"
             ],
             [
              0.4444444444444444,
              "#bd3786"
             ],
             [
              0.5555555555555556,
              "#d8576b"
             ],
             [
              0.6666666666666666,
              "#ed7953"
             ],
             [
              0.7777777777777778,
              "#fb9f3a"
             ],
             [
              0.8888888888888888,
              "#fdca26"
             ],
             [
              1,
              "#f0f921"
             ]
            ],
            "type": "histogram2dcontour"
           }
          ],
          "mesh3d": [
           {
            "colorbar": {
             "outlinewidth": 0,
             "ticks": ""
            },
            "type": "mesh3d"
           }
          ],
          "parcoords": [
           {
            "line": {
             "colorbar": {
              "outlinewidth": 0,
              "ticks": ""
             }
            },
            "type": "parcoords"
           }
          ],
          "pie": [
           {
            "automargin": true,
            "type": "pie"
           }
          ],
          "scatter": [
           {
            "marker": {
             "colorbar": {
              "outlinewidth": 0,
              "ticks": ""
             }
            },
            "type": "scatter"
           }
          ],
          "scatter3d": [
           {
            "line": {
             "colorbar": {
              "outlinewidth": 0,
              "ticks": ""
             }
            },
            "marker": {
             "colorbar": {
              "outlinewidth": 0,
              "ticks": ""
             }
            },
            "type": "scatter3d"
           }
          ],
          "scattercarpet": [
           {
            "marker": {
             "colorbar": {
              "outlinewidth": 0,
              "ticks": ""
             }
            },
            "type": "scattercarpet"
           }
          ],
          "scattergeo": [
           {
            "marker": {
             "colorbar": {
              "outlinewidth": 0,
              "ticks": ""
             }
            },
            "type": "scattergeo"
           }
          ],
          "scattergl": [
           {
            "marker": {
             "colorbar": {
              "outlinewidth": 0,
              "ticks": ""
             }
            },
            "type": "scattergl"
           }
          ],
          "scattermapbox": [
           {
            "marker": {
             "colorbar": {
              "outlinewidth": 0,
              "ticks": ""
             }
            },
            "type": "scattermapbox"
           }
          ],
          "scatterpolar": [
           {
            "marker": {
             "colorbar": {
              "outlinewidth": 0,
              "ticks": ""
             }
            },
            "type": "scatterpolar"
           }
          ],
          "scatterpolargl": [
           {
            "marker": {
             "colorbar": {
              "outlinewidth": 0,
              "ticks": ""
             }
            },
            "type": "scatterpolargl"
           }
          ],
          "scatterternary": [
           {
            "marker": {
             "colorbar": {
              "outlinewidth": 0,
              "ticks": ""
             }
            },
            "type": "scatterternary"
           }
          ],
          "surface": [
           {
            "colorbar": {
             "outlinewidth": 0,
             "ticks": ""
            },
            "colorscale": [
             [
              0,
              "#0d0887"
             ],
             [
              0.1111111111111111,
              "#46039f"
             ],
             [
              0.2222222222222222,
              "#7201a8"
             ],
             [
              0.3333333333333333,
              "#9c179e"
             ],
             [
              0.4444444444444444,
              "#bd3786"
             ],
             [
              0.5555555555555556,
              "#d8576b"
             ],
             [
              0.6666666666666666,
              "#ed7953"
             ],
             [
              0.7777777777777778,
              "#fb9f3a"
             ],
             [
              0.8888888888888888,
              "#fdca26"
             ],
             [
              1,
              "#f0f921"
             ]
            ],
            "type": "surface"
           }
          ],
          "table": [
           {
            "cells": {
             "fill": {
              "color": "#EBF0F8"
             },
             "line": {
              "color": "white"
             }
            },
            "header": {
             "fill": {
              "color": "#C8D4E3"
             },
             "line": {
              "color": "white"
             }
            },
            "type": "table"
           }
          ]
         },
         "layout": {
          "annotationdefaults": {
           "arrowcolor": "#2a3f5f",
           "arrowhead": 0,
           "arrowwidth": 1
          },
          "coloraxis": {
           "colorbar": {
            "outlinewidth": 0,
            "ticks": ""
           }
          },
          "colorscale": {
           "diverging": [
            [
             0,
             "#8e0152"
            ],
            [
             0.1,
             "#c51b7d"
            ],
            [
             0.2,
             "#de77ae"
            ],
            [
             0.3,
             "#f1b6da"
            ],
            [
             0.4,
             "#fde0ef"
            ],
            [
             0.5,
             "#f7f7f7"
            ],
            [
             0.6,
             "#e6f5d0"
            ],
            [
             0.7,
             "#b8e186"
            ],
            [
             0.8,
             "#7fbc41"
            ],
            [
             0.9,
             "#4d9221"
            ],
            [
             1,
             "#276419"
            ]
           ],
           "sequential": [
            [
             0,
             "#0d0887"
            ],
            [
             0.1111111111111111,
             "#46039f"
            ],
            [
             0.2222222222222222,
             "#7201a8"
            ],
            [
             0.3333333333333333,
             "#9c179e"
            ],
            [
             0.4444444444444444,
             "#bd3786"
            ],
            [
             0.5555555555555556,
             "#d8576b"
            ],
            [
             0.6666666666666666,
             "#ed7953"
            ],
            [
             0.7777777777777778,
             "#fb9f3a"
            ],
            [
             0.8888888888888888,
             "#fdca26"
            ],
            [
             1,
             "#f0f921"
            ]
           ],
           "sequentialminus": [
            [
             0,
             "#0d0887"
            ],
            [
             0.1111111111111111,
             "#46039f"
            ],
            [
             0.2222222222222222,
             "#7201a8"
            ],
            [
             0.3333333333333333,
             "#9c179e"
            ],
            [
             0.4444444444444444,
             "#bd3786"
            ],
            [
             0.5555555555555556,
             "#d8576b"
            ],
            [
             0.6666666666666666,
             "#ed7953"
            ],
            [
             0.7777777777777778,
             "#fb9f3a"
            ],
            [
             0.8888888888888888,
             "#fdca26"
            ],
            [
             1,
             "#f0f921"
            ]
           ]
          },
          "colorway": [
           "#636efa",
           "#EF553B",
           "#00cc96",
           "#ab63fa",
           "#FFA15A",
           "#19d3f3",
           "#FF6692",
           "#B6E880",
           "#FF97FF",
           "#FECB52"
          ],
          "font": {
           "color": "#2a3f5f"
          },
          "geo": {
           "bgcolor": "white",
           "lakecolor": "white",
           "landcolor": "#E5ECF6",
           "showlakes": true,
           "showland": true,
           "subunitcolor": "white"
          },
          "hoverlabel": {
           "align": "left"
          },
          "hovermode": "closest",
          "mapbox": {
           "style": "light"
          },
          "paper_bgcolor": "white",
          "plot_bgcolor": "#E5ECF6",
          "polar": {
           "angularaxis": {
            "gridcolor": "white",
            "linecolor": "white",
            "ticks": ""
           },
           "bgcolor": "#E5ECF6",
           "radialaxis": {
            "gridcolor": "white",
            "linecolor": "white",
            "ticks": ""
           }
          },
          "scene": {
           "xaxis": {
            "backgroundcolor": "#E5ECF6",
            "gridcolor": "white",
            "gridwidth": 2,
            "linecolor": "white",
            "showbackground": true,
            "ticks": "",
            "zerolinecolor": "white"
           },
           "yaxis": {
            "backgroundcolor": "#E5ECF6",
            "gridcolor": "white",
            "gridwidth": 2,
            "linecolor": "white",
            "showbackground": true,
            "ticks": "",
            "zerolinecolor": "white"
           },
           "zaxis": {
            "backgroundcolor": "#E5ECF6",
            "gridcolor": "white",
            "gridwidth": 2,
            "linecolor": "white",
            "showbackground": true,
            "ticks": "",
            "zerolinecolor": "white"
           }
          },
          "shapedefaults": {
           "line": {
            "color": "#2a3f5f"
           }
          },
          "ternary": {
           "aaxis": {
            "gridcolor": "white",
            "linecolor": "white",
            "ticks": ""
           },
           "baxis": {
            "gridcolor": "white",
            "linecolor": "white",
            "ticks": ""
           },
           "bgcolor": "#E5ECF6",
           "caxis": {
            "gridcolor": "white",
            "linecolor": "white",
            "ticks": ""
           }
          },
          "title": {
           "x": 0.05
          },
          "xaxis": {
           "automargin": true,
           "gridcolor": "white",
           "linecolor": "white",
           "ticks": "",
           "title": {
            "standoff": 15
           },
           "zerolinecolor": "white",
           "zerolinewidth": 2
          },
          "yaxis": {
           "automargin": true,
           "gridcolor": "white",
           "linecolor": "white",
           "ticks": "",
           "title": {
            "standoff": 15
           },
           "zerolinecolor": "white",
           "zerolinewidth": 2
          }
         }
        },
        "title": {
         "text": "CLH20 Pseudo-Volatility vs Price",
         "x": 0.5,
         "xanchor": "center",
         "y": 0.9,
         "yanchor": "top"
        },
        "xaxis": {
         "showspikes": true,
         "spikedash": "solid",
         "spikemode": "toaxis+across",
         "spikethickness": 1,
         "tickangle": 45,
         "ticktext": [
          20190925,
          20191001,
          20191007,
          20191011,
          20191017,
          20191023,
          20191029,
          20191104,
          20191108,
          20191114,
          20191119,
          20191125,
          20191202,
          20191206,
          20191212,
          20191218,
          20191224,
          20191231,
          20200107,
          20200113,
          20200117,
          20200124,
          20200130,
          20200205,
          20200211
         ],
         "tickvals": [
          20190925,
          20191001,
          20191007,
          20191011,
          20191017,
          20191023,
          20191029,
          20191104,
          20191108,
          20191114,
          20191119,
          20191125,
          20191202,
          20191206,
          20191212,
          20191218,
          20191224,
          20191231,
          20200107,
          20200113,
          20200117,
          20200124,
          20200130,
          20200205,
          20200211
         ],
         "type": "category"
        },
        "yaxis": {
         "showspikes": true,
         "spikedash": "solid",
         "spikemode": "toaxis+across",
         "spikethickness": 1,
         "title": {
          "text": "Implied Volatility"
         }
        },
        "yaxis2": {
         "overlaying": "y",
         "side": "right",
         "title": {
          "text": "Futures Close"
         }
        }
       }
      },
      "text/html": [
       "<div>\n",
       "        \n",
       "        \n",
       "            <div id=\"42059b4a-e0ee-4a12-8d0e-be509d8d7d82\" class=\"plotly-graph-div\" style=\"height:525px; width:100%;\"></div>\n",
       "            <script type=\"text/javascript\">\n",
       "                require([\"plotly\"], function(Plotly) {\n",
       "                    window.PLOTLYENV=window.PLOTLYENV || {};\n",
       "                    \n",
       "                if (document.getElementById(\"42059b4a-e0ee-4a12-8d0e-be509d8d7d82\")) {\n",
       "                    Plotly.newPlot(\n",
       "                        '42059b4a-e0ee-4a12-8d0e-be509d8d7d82',\n",
       "                        [{\"name\": \"iv\", \"type\": \"scatter\", \"x\": [20190925, 20190926, 20190927, 20190930, 20191001, 20191002, 20191003, 20191004, 20191007, 20191008, 20191009, 20191010, 20191011, 20191014, 20191015, 20191016, 20191017, 20191018, 20191021, 20191022, 20191023, 20191024, 20191025, 20191028, 20191029, 20191030, 20191031, 20191101, 20191104, 20191105, 20191106, 20191107, 20191108, 20191111, 20191112, 20191113, 20191114, 20191115, 20191118, 20191119, 20191119, 20191120, 20191121, 20191122, 20191125, 20191126, 20191127, 20191129, 20191202, 20191203, 20191204, 20191205, 20191206, 20191209, 20191210, 20191211, 20191212, 20191213, 20191216, 20191217, 20191218, 20191219, 20191220, 20191223, 20191224, 20191226, 20191227, 20191230, 20191231, 20200102, 20200103, 20200106, 20200107, 20200108, 20200109, 20200110, 20200113, 20200114, 20200115, 20200116, 20200117, 20200121, 20200122, 20200123, 20200124, 20200127, 20200128, 20200129, 20200130, 20200131, 20200203, 20200204, 20200205, 20200206, 20200207, 20200210, 20200211, 20200212], \"y\": [0.37753463720752084, 0.37086998737468363, 0.369053151107547, 0.36724331841055213, 0.36828709369367546, 0.36949425639478367, 0.3707264306440251, 0.36950600644876425, 0.37393394113304934, 0.37181504616627054, 0.3694108444128167, 0.3707620810410709, 0.3815743364295717, 0.37919868498487164, 0.37486661597660614, 0.3769218108636854, 0.3729702046243177, 0.3628869433238167, 0.36363616838427076, 0.3671303573282754, 0.3708230568955082, 0.3630847618064066, 0.35586722637581203, 0.35673141249082396, 0.35225551031360564, 0.3474414715948962, 0.3463996761035315, 0.35154677462211265, 0.3538924832726028, 0.34866329378002664, 0.34941774177112217, 0.3451399802397752, 0.3443189333756438, 0.35060108737975393, 0.3469213325589536, 0.3480913788206457, 0.3445901330534813, 0.34247141629585165, 0.3440561160016904, 0.34501399765425245, 0.34501399765425245, 0.3399430057498815, 0.33022136607352215, 0.3288794094884109, 0.33367352955354784, 0.32961441551505244, 0.3260274000578226, 0.35325764012676464, 0.3553981119373633, 0.3518766975063053, 0.3449596245963527, 0.33596999375561654, 0.3222704969817349, 0.323580980750522, 0.31570181607113645, 0.3168242784320629, 0.3055762494605094, 0.3111887747332434, 0.30541591427753945, 0.2935993162412519, 0.2917486827245482, 0.28095835106515576, 0.29245596907591775, 0.29183419457758536, 0.2836507875448311, 0.2744183316783569, 0.2793847125877226, 0.29156649693979225, 0.3061378410413125, 0.30228780391722293, 0.33563320976211414, 0.359984909850885, 0.3466377782474997, 0.34871319180065957, 0.3326067868086647, 0.3204528041477877, 0.3259827914138368, 0.3090576686779192, 0.3059018124412393, 0.29498050259841596, 0.2993729173588459, 0.30690192928399174, 0.3362699982019803, 0.3489128409624778, 0.3655787452976455, 0.40725105023662594, 0.40461309305701026, 0.3861338430075181, 0.4311575488507525, 0.44867067220900964, 0.4584356532274092, 0.45345046555106966, 0.4114418502518786, 0.4215751452516845, 0.4294470627692427, 0.46719916594855904, 0.4088302984183486, 0.38740504943222587], \"yaxis\": \"y\"}, {\"name\": \"fprice\", \"type\": \"scatter\", \"x\": [20190925, 20190926, 20190927, 20190930, 20191001, 20191002, 20191003, 20191004, 20191007, 20191008, 20191009, 20191010, 20191011, 20191014, 20191015, 20191016, 20191017, 20191018, 20191021, 20191022, 20191023, 20191024, 20191025, 20191028, 20191029, 20191030, 20191031, 20191101, 20191104, 20191105, 20191106, 20191107, 20191108, 20191111, 20191112, 20191113, 20191114, 20191115, 20191118, 20191119, 20191119, 20191120, 20191121, 20191122, 20191125, 20191126, 20191127, 20191129, 20191202, 20191203, 20191204, 20191205, 20191206, 20191209, 20191210, 20191211, 20191212, 20191213, 20191216, 20191217, 20191218, 20191219, 20191220, 20191223, 20191224, 20191226, 20191227, 20191230, 20191231, 20200102, 20200103, 20200106, 20200107, 20200108, 20200109, 20200110, 20200113, 20200114, 20200115, 20200116, 20200117, 20200121, 20200122, 20200123, 20200124, 20200127, 20200128, 20200129, 20200130, 20200131, 20200203, 20200204, 20200205, 20200206, 20200207, 20200210, 20200211, 20200212], \"y\": [55.0, 54.95, 54.49, 52.9, 52.54, 51.63, 51.59, 52.07, 52.15, 52.11, 52.12, 52.97, 54.34, 53.45, 52.66, 53.19, 53.63, 53.37, 53.18, 54.07, 55.52, 55.85, 56.32, 55.63, 55.47, 54.66, 53.92, 55.86, 56.18, 56.84, 55.84, 56.54, 56.77, 56.49, 56.48, 56.82, 56.48, 57.37, 56.67, 55.0, 55.0, 56.58, 58.02, 57.35, 57.63, 58.06, 57.85, 54.98, 55.74, 55.82, 58.04, 58.06, 58.78, 58.64, 58.88, 58.36, 58.76, 59.67, 59.85, 60.53, 60.56, 60.88, 60.25, 60.35, 60.94, 61.48, 61.53, 61.44, 60.77, 60.95, 62.82, 63.04, 62.51, 59.46, 59.44, 58.99, 58.08, 58.26, 57.84, 58.53, 58.58, 58.38, 56.74, 55.59, 54.19, 53.14, 53.48, 53.33, 52.14, 51.56, 50.11, 49.61, 50.75, 50.95, 50.32, 49.57, 49.94, 51.17], \"yaxis\": \"y2\"}],\n",
       "                        {\"autosize\": true, \"hovermode\": \"x\", \"legend\": {\"orientation\": \"h\", \"x\": 0, \"y\": 1.1}, \"margin\": {\"b\": 100}, \"modebar\": {\"bgcolor\": \"grey\", \"orientation\": \"v\"}, \"spikedistance\": 1000, \"template\": {\"data\": {\"bar\": [{\"error_x\": {\"color\": \"#2a3f5f\"}, \"error_y\": {\"color\": \"#2a3f5f\"}, \"marker\": {\"line\": {\"color\": \"#E5ECF6\", \"width\": 0.5}}, \"type\": \"bar\"}], \"barpolar\": [{\"marker\": {\"line\": {\"color\": \"#E5ECF6\", \"width\": 0.5}}, \"type\": \"barpolar\"}], \"carpet\": [{\"aaxis\": {\"endlinecolor\": \"#2a3f5f\", \"gridcolor\": \"white\", \"linecolor\": \"white\", \"minorgridcolor\": \"white\", \"startlinecolor\": \"#2a3f5f\"}, \"baxis\": {\"endlinecolor\": \"#2a3f5f\", \"gridcolor\": \"white\", \"linecolor\": \"white\", \"minorgridcolor\": \"white\", \"startlinecolor\": \"#2a3f5f\"}, \"type\": \"carpet\"}], \"choropleth\": [{\"colorbar\": {\"outlinewidth\": 0, \"ticks\": \"\"}, \"type\": \"choropleth\"}], \"contour\": [{\"colorbar\": {\"outlinewidth\": 0, \"ticks\": \"\"}, \"colorscale\": [[0.0, \"#0d0887\"], [0.1111111111111111, \"#46039f\"], [0.2222222222222222, \"#7201a8\"], [0.3333333333333333, \"#9c179e\"], [0.4444444444444444, \"#bd3786\"], [0.5555555555555556, \"#d8576b\"], [0.6666666666666666, \"#ed7953\"], [0.7777777777777778, \"#fb9f3a\"], [0.8888888888888888, \"#fdca26\"], [1.0, \"#f0f921\"]], \"type\": \"contour\"}], \"contourcarpet\": [{\"colorbar\": {\"outlinewidth\": 0, \"ticks\": \"\"}, \"type\": \"contourcarpet\"}], \"heatmap\": [{\"colorbar\": {\"outlinewidth\": 0, \"ticks\": \"\"}, \"colorscale\": [[0.0, \"#0d0887\"], [0.1111111111111111, \"#46039f\"], [0.2222222222222222, \"#7201a8\"], [0.3333333333333333, \"#9c179e\"], [0.4444444444444444, \"#bd3786\"], [0.5555555555555556, \"#d8576b\"], [0.6666666666666666, \"#ed7953\"], [0.7777777777777778, \"#fb9f3a\"], [0.8888888888888888, \"#fdca26\"], [1.0, \"#f0f921\"]], \"type\": \"heatmap\"}], \"heatmapgl\": [{\"colorbar\": {\"outlinewidth\": 0, \"ticks\": \"\"}, \"colorscale\": [[0.0, \"#0d0887\"], [0.1111111111111111, \"#46039f\"], [0.2222222222222222, \"#7201a8\"], [0.3333333333333333, \"#9c179e\"], [0.4444444444444444, \"#bd3786\"], [0.5555555555555556, \"#d8576b\"], [0.6666666666666666, \"#ed7953\"], [0.7777777777777778, \"#fb9f3a\"], [0.8888888888888888, \"#fdca26\"], [1.0, \"#f0f921\"]], \"type\": \"heatmapgl\"}], \"histogram\": [{\"marker\": {\"colorbar\": {\"outlinewidth\": 0, \"ticks\": \"\"}}, \"type\": \"histogram\"}], \"histogram2d\": [{\"colorbar\": {\"outlinewidth\": 0, \"ticks\": \"\"}, \"colorscale\": [[0.0, \"#0d0887\"], [0.1111111111111111, \"#46039f\"], [0.2222222222222222, \"#7201a8\"], [0.3333333333333333, \"#9c179e\"], [0.4444444444444444, \"#bd3786\"], [0.5555555555555556, \"#d8576b\"], [0.6666666666666666, \"#ed7953\"], [0.7777777777777778, \"#fb9f3a\"], [0.8888888888888888, \"#fdca26\"], [1.0, \"#f0f921\"]], \"type\": \"histogram2d\"}], \"histogram2dcontour\": [{\"colorbar\": {\"outlinewidth\": 0, \"ticks\": \"\"}, \"colorscale\": [[0.0, \"#0d0887\"], [0.1111111111111111, \"#46039f\"], [0.2222222222222222, \"#7201a8\"], [0.3333333333333333, \"#9c179e\"], [0.4444444444444444, \"#bd3786\"], [0.5555555555555556, \"#d8576b\"], [0.6666666666666666, \"#ed7953\"], [0.7777777777777778, \"#fb9f3a\"], [0.8888888888888888, \"#fdca26\"], [1.0, \"#f0f921\"]], \"type\": \"histogram2dcontour\"}], \"mesh3d\": [{\"colorbar\": {\"outlinewidth\": 0, \"ticks\": \"\"}, \"type\": \"mesh3d\"}], \"parcoords\": [{\"line\": {\"colorbar\": {\"outlinewidth\": 0, \"ticks\": \"\"}}, \"type\": \"parcoords\"}], \"pie\": [{\"automargin\": true, \"type\": \"pie\"}], \"scatter\": [{\"marker\": {\"colorbar\": {\"outlinewidth\": 0, \"ticks\": \"\"}}, \"type\": \"scatter\"}], \"scatter3d\": [{\"line\": {\"colorbar\": {\"outlinewidth\": 0, \"ticks\": \"\"}}, \"marker\": {\"colorbar\": {\"outlinewidth\": 0, \"ticks\": \"\"}}, \"type\": \"scatter3d\"}], \"scattercarpet\": [{\"marker\": {\"colorbar\": {\"outlinewidth\": 0, \"ticks\": \"\"}}, \"type\": \"scattercarpet\"}], \"scattergeo\": [{\"marker\": {\"colorbar\": {\"outlinewidth\": 0, \"ticks\": \"\"}}, \"type\": \"scattergeo\"}], \"scattergl\": [{\"marker\": {\"colorbar\": {\"outlinewidth\": 0, \"ticks\": \"\"}}, \"type\": \"scattergl\"}], \"scattermapbox\": [{\"marker\": {\"colorbar\": {\"outlinewidth\": 0, \"ticks\": \"\"}}, \"type\": \"scattermapbox\"}], \"scatterpolar\": [{\"marker\": {\"colorbar\": {\"outlinewidth\": 0, \"ticks\": \"\"}}, \"type\": \"scatterpolar\"}], \"scatterpolargl\": [{\"marker\": {\"colorbar\": {\"outlinewidth\": 0, \"ticks\": \"\"}}, \"type\": \"scatterpolargl\"}], \"scatterternary\": [{\"marker\": {\"colorbar\": {\"outlinewidth\": 0, \"ticks\": \"\"}}, \"type\": \"scatterternary\"}], \"surface\": [{\"colorbar\": {\"outlinewidth\": 0, \"ticks\": \"\"}, \"colorscale\": [[0.0, \"#0d0887\"], [0.1111111111111111, \"#46039f\"], [0.2222222222222222, \"#7201a8\"], [0.3333333333333333, \"#9c179e\"], [0.4444444444444444, \"#bd3786\"], [0.5555555555555556, \"#d8576b\"], [0.6666666666666666, \"#ed7953\"], [0.7777777777777778, \"#fb9f3a\"], [0.8888888888888888, \"#fdca26\"], [1.0, \"#f0f921\"]], \"type\": \"surface\"}], \"table\": [{\"cells\": {\"fill\": {\"color\": \"#EBF0F8\"}, \"line\": {\"color\": \"white\"}}, \"header\": {\"fill\": {\"color\": \"#C8D4E3\"}, \"line\": {\"color\": \"white\"}}, \"type\": \"table\"}]}, \"layout\": {\"annotationdefaults\": {\"arrowcolor\": \"#2a3f5f\", \"arrowhead\": 0, \"arrowwidth\": 1}, \"coloraxis\": {\"colorbar\": {\"outlinewidth\": 0, \"ticks\": \"\"}}, \"colorscale\": {\"diverging\": [[0, \"#8e0152\"], [0.1, \"#c51b7d\"], [0.2, \"#de77ae\"], [0.3, \"#f1b6da\"], [0.4, \"#fde0ef\"], [0.5, \"#f7f7f7\"], [0.6, \"#e6f5d0\"], [0.7, \"#b8e186\"], [0.8, \"#7fbc41\"], [0.9, \"#4d9221\"], [1, \"#276419\"]], \"sequential\": [[0.0, \"#0d0887\"], [0.1111111111111111, \"#46039f\"], [0.2222222222222222, \"#7201a8\"], [0.3333333333333333, \"#9c179e\"], [0.4444444444444444, \"#bd3786\"], [0.5555555555555556, \"#d8576b\"], [0.6666666666666666, \"#ed7953\"], [0.7777777777777778, \"#fb9f3a\"], [0.8888888888888888, \"#fdca26\"], [1.0, \"#f0f921\"]], \"sequentialminus\": [[0.0, \"#0d0887\"], [0.1111111111111111, \"#46039f\"], [0.2222222222222222, \"#7201a8\"], [0.3333333333333333, \"#9c179e\"], [0.4444444444444444, \"#bd3786\"], [0.5555555555555556, \"#d8576b\"], [0.6666666666666666, \"#ed7953\"], [0.7777777777777778, \"#fb9f3a\"], [0.8888888888888888, \"#fdca26\"], [1.0, \"#f0f921\"]]}, \"colorway\": [\"#636efa\", \"#EF553B\", \"#00cc96\", \"#ab63fa\", \"#FFA15A\", \"#19d3f3\", \"#FF6692\", \"#B6E880\", \"#FF97FF\", \"#FECB52\"], \"font\": {\"color\": \"#2a3f5f\"}, \"geo\": {\"bgcolor\": \"white\", \"lakecolor\": \"white\", \"landcolor\": \"#E5ECF6\", \"showlakes\": true, \"showland\": true, \"subunitcolor\": \"white\"}, \"hoverlabel\": {\"align\": \"left\"}, \"hovermode\": \"closest\", \"mapbox\": {\"style\": \"light\"}, \"paper_bgcolor\": \"white\", \"plot_bgcolor\": \"#E5ECF6\", \"polar\": {\"angularaxis\": {\"gridcolor\": \"white\", \"linecolor\": \"white\", \"ticks\": \"\"}, \"bgcolor\": \"#E5ECF6\", \"radialaxis\": {\"gridcolor\": \"white\", \"linecolor\": \"white\", \"ticks\": \"\"}}, \"scene\": {\"xaxis\": {\"backgroundcolor\": \"#E5ECF6\", \"gridcolor\": \"white\", \"gridwidth\": 2, \"linecolor\": \"white\", \"showbackground\": true, \"ticks\": \"\", \"zerolinecolor\": \"white\"}, \"yaxis\": {\"backgroundcolor\": \"#E5ECF6\", \"gridcolor\": \"white\", \"gridwidth\": 2, \"linecolor\": \"white\", \"showbackground\": true, \"ticks\": \"\", \"zerolinecolor\": \"white\"}, \"zaxis\": {\"backgroundcolor\": \"#E5ECF6\", \"gridcolor\": \"white\", \"gridwidth\": 2, \"linecolor\": \"white\", \"showbackground\": true, \"ticks\": \"\", \"zerolinecolor\": \"white\"}}, \"shapedefaults\": {\"line\": {\"color\": \"#2a3f5f\"}}, \"ternary\": {\"aaxis\": {\"gridcolor\": \"white\", \"linecolor\": \"white\", \"ticks\": \"\"}, \"baxis\": {\"gridcolor\": \"white\", \"linecolor\": \"white\", \"ticks\": \"\"}, \"bgcolor\": \"#E5ECF6\", \"caxis\": {\"gridcolor\": \"white\", \"linecolor\": \"white\", \"ticks\": \"\"}}, \"title\": {\"x\": 0.05}, \"xaxis\": {\"automargin\": true, \"gridcolor\": \"white\", \"linecolor\": \"white\", \"ticks\": \"\", \"title\": {\"standoff\": 15}, \"zerolinecolor\": \"white\", \"zerolinewidth\": 2}, \"yaxis\": {\"automargin\": true, \"gridcolor\": \"white\", \"linecolor\": \"white\", \"ticks\": \"\", \"title\": {\"standoff\": 15}, \"zerolinecolor\": \"white\", \"zerolinewidth\": 2}}}, \"title\": {\"text\": \"CLH20 Pseudo-Volatility vs Price\", \"x\": 0.5, \"xanchor\": \"center\", \"y\": 0.9, \"yanchor\": \"top\"}, \"xaxis\": {\"showspikes\": true, \"spikedash\": \"solid\", \"spikemode\": \"toaxis+across\", \"spikethickness\": 1, \"tickangle\": 45, \"ticktext\": [20190925, 20191001, 20191007, 20191011, 20191017, 20191023, 20191029, 20191104, 20191108, 20191114, 20191119, 20191125, 20191202, 20191206, 20191212, 20191218, 20191224, 20191231, 20200107, 20200113, 20200117, 20200124, 20200130, 20200205, 20200211], \"tickvals\": [20190925, 20191001, 20191007, 20191011, 20191017, 20191023, 20191029, 20191104, 20191108, 20191114, 20191119, 20191125, 20191202, 20191206, 20191212, 20191218, 20191224, 20191231, 20200107, 20200113, 20200117, 20200124, 20200130, 20200205, 20200211], \"type\": \"category\"}, \"yaxis\": {\"showspikes\": true, \"spikedash\": \"solid\", \"spikemode\": \"toaxis+across\", \"spikethickness\": 1, \"title\": {\"text\": \"Implied Volatility\"}}, \"yaxis2\": {\"overlaying\": \"y\", \"side\": \"right\", \"title\": {\"text\": \"Futures Close\"}}},\n",
       "                        {\"responsive\": true}\n",
       "                    ).then(function(){\n",
       "                            \n",
       "var gd = document.getElementById('42059b4a-e0ee-4a12-8d0e-be509d8d7d82');\n",
       "var x = new MutationObserver(function (mutations, observer) {{\n",
       "        var display = window.getComputedStyle(gd).display;\n",
       "        if (!display || display === 'none') {{\n",
       "            console.log([gd, 'removed!']);\n",
       "            Plotly.purge(gd);\n",
       "            observer.disconnect();\n",
       "        }}\n",
       "}});\n",
       "\n",
       "// Listen for the removal of the full notebook cells\n",
       "var notebookContainer = gd.closest('#notebook-container');\n",
       "if (notebookContainer) {{\n",
       "    x.observe(notebookContainer, {childList: true});\n",
       "}}\n",
       "\n",
       "// Listen for the clearing of the current output cell\n",
       "var outputEl = gd.closest('.output');\n",
       "if (outputEl) {{\n",
       "    x.observe(outputEl, {childList: true});\n",
       "}}\n",
       "\n",
       "                        })\n",
       "                };\n",
       "                });\n",
       "            </script>\n",
       "        </div>"
      ]
     },
     "metadata": {},
     "output_type": "display_data"
    },
    {
     "data": {
      "application/vnd.plotly.v1+json": {
       "config": {
        "linkText": "Export to plot.ly",
        "plotlyServerURL": "https://plot.ly",
        "showLink": false
       },
       "data": [
        {
         "name": "iv",
         "type": "scatter",
         "x": [
          20191024,
          20191025,
          20191028,
          20191029,
          20191030,
          20191031,
          20191101,
          20191104,
          20191105,
          20191106,
          20191107,
          20191108,
          20191111,
          20191112,
          20191113,
          20191114,
          20191115,
          20191118,
          20191119,
          20191120,
          20191121,
          20191122,
          20191125,
          20191126,
          20191127,
          20191129,
          20191202,
          20191203,
          20191204,
          20191205,
          20191206,
          20191209,
          20191210,
          20191211,
          20191212,
          20191213,
          20191216,
          20191217,
          20191218,
          20191219,
          20191220,
          20191223,
          20191224,
          20191226,
          20191227,
          20191230,
          20191231,
          20200102,
          20200103,
          20200106,
          20200107,
          20200108,
          20200109,
          20200110,
          20200113,
          20200114,
          20200115,
          20200116,
          20200117,
          20200121,
          20200122,
          20200123,
          20200124,
          20200127,
          20200128,
          20200129,
          20200130,
          20200131,
          20200203,
          20200204,
          20200205,
          20200206,
          20200207,
          20200210,
          20200211,
          20200212,
          20200213,
          20200214,
          20200218,
          20200219,
          20200220,
          20200221,
          20200224,
          20200225,
          20200226,
          20200227,
          20200228,
          20200302,
          20200303,
          20200304,
          20200305,
          20200306,
          20200309,
          20200310,
          20200311,
          20200312,
          20200312,
          20200313
         ],
         "y": [
          0.3590634900719974,
          0.35248057151878326,
          0.35038383158712505,
          0.3487418534907697,
          0.34208511705812283,
          0.34399927224169935,
          0.34953541706054786,
          0.34877691487437146,
          0.3472028895669587,
          0.3466485780057728,
          0.34569554027599947,
          0.3454018268090159,
          0.3511320447546521,
          0.34909562025773255,
          0.3494729277199056,
          0.3465229949466114,
          0.3421777350379371,
          0.34072618875881244,
          0.3444220549998206,
          0.3405934061926963,
          0.33048693190535955,
          0.33064139601693027,
          0.32958411789654796,
          0.32938600035869137,
          0.3280015417170995,
          0.34818669621764,
          0.34612810067980393,
          0.3455706241139933,
          0.3390065023940812,
          0.3330908926223345,
          0.32271395528040114,
          0.32373167369824213,
          0.3209652637054479,
          0.3229303996060574,
          0.3132922679298637,
          0.3134979794032356,
          0.31230106308504946,
          0.3027255665659738,
          0.30247761305918697,
          0.29701387304119437,
          0.3084143281266425,
          0.3088873398739732,
          0.30139398555612595,
          0.2948962133286131,
          0.2962385929106905,
          0.30655126200708854,
          0.31507741119473326,
          0.3160032146854474,
          0.33562291151477075,
          0.3643824307492206,
          0.3566022805398973,
          0.35919969826166764,
          0.34254000935462053,
          0.3290974490099705,
          0.32881604060805697,
          0.3173014916835517,
          0.3074316274693391,
          0.30078261755802593,
          0.30229377503880983,
          0.3063874031388498,
          0.32170110929807594,
          0.33583905311653295,
          0.35174228861750606,
          0.3702309757304277,
          0.3707769043930464,
          0.35956815826577,
          0.38964635659871316,
          0.4015550483964749,
          0.3959466949300352,
          0.3829439634951874,
          0.3686905501773922,
          0.3724762066544716,
          0.3746499140313224,
          0.3829677891457734,
          0.36151673869877343,
          0.3494872285542404,
          0.3546550913450141,
          0.34359817290513894,
          0.33532295482967556,
          0.33327796693921613,
          0.3456867983617711,
          0.36786316022935217,
          0.4036146169456418,
          0.44327617765957344,
          0.4284167950943964,
          0.4481350838448326,
          0.47536920352744516,
          0.494573494862266,
          0.5157118722304146,
          0.49828381389887627,
          0.4781739000708092,
          0.5242981810463054,
          1.0099461012887916,
          0.7341580953296288,
          0.7706998476239668,
          0.8401006823109085,
          0.8401006823109085,
          0.7887478988966089
         ],
         "yaxis": "y"
        },
        {
         "name": "fprice",
         "type": "scatter",
         "x": [
          20191024,
          20191025,
          20191028,
          20191029,
          20191030,
          20191031,
          20191101,
          20191104,
          20191105,
          20191106,
          20191107,
          20191108,
          20191111,
          20191112,
          20191113,
          20191114,
          20191115,
          20191118,
          20191119,
          20191120,
          20191121,
          20191122,
          20191125,
          20191126,
          20191127,
          20191129,
          20191202,
          20191203,
          20191204,
          20191205,
          20191206,
          20191209,
          20191210,
          20191211,
          20191212,
          20191213,
          20191216,
          20191217,
          20191218,
          20191219,
          20191220,
          20191223,
          20191224,
          20191226,
          20191227,
          20191230,
          20191231,
          20200102,
          20200103,
          20200106,
          20200107,
          20200108,
          20200109,
          20200110,
          20200113,
          20200114,
          20200115,
          20200116,
          20200117,
          20200121,
          20200122,
          20200123,
          20200124,
          20200127,
          20200128,
          20200129,
          20200130,
          20200131,
          20200203,
          20200204,
          20200205,
          20200206,
          20200207,
          20200210,
          20200211,
          20200212,
          20200213,
          20200214,
          20200218,
          20200219,
          20200220,
          20200221,
          20200224,
          20200225,
          20200226,
          20200227,
          20200228,
          20200302,
          20200303,
          20200304,
          20200305,
          20200306,
          20200309,
          20200310,
          20200311,
          20200312,
          20200312,
          20200313
         ],
         "y": [
          55.48,
          55.95,
          55.34,
          55.2,
          54.32,
          53.63,
          55.54,
          55.83,
          56.45,
          55.41,
          56.12,
          56.4,
          56.16,
          56.18,
          56.49,
          56.14,
          56.98,
          56.29,
          54.69,
          56.23,
          57.58,
          56.98,
          57.28,
          57.71,
          57.54,
          54.74,
          55.47,
          55.52,
          57.64,
          57.68,
          58.37,
          58.28,
          58.53,
          57.98,
          58.36,
          59.26,
          59.46,
          60.09,
          60.15,
          60.46,
          59.95,
          60.07,
          60.65,
          61.16,
          61.21,
          61.1,
          60.41,
          60.64,
          62.48,
          62.69,
          62.21,
          59.23,
          59.25,
          58.85,
          57.99,
          58.19,
          57.77,
          58.43,
          58.51,
          58.34,
          56.76,
          55.61,
          54.2,
          53.18,
          53.52,
          53.41,
          52.23,
          51.68,
          50.28,
          49.8,
          50.92,
          51.14,
          50.55,
          49.78,
          50.17,
          51.41,
          51.66,
          52.32,
          52.29,
          53.49,
          53.88,
          53.38,
          51.43,
          49.9,
          48.73,
          47.09,
          44.76,
          46.75,
          47.18,
          46.78,
          45.9,
          41.28,
          31.13,
          34.36,
          32.98,
          31.5,
          31.5,
          31.73
         ],
         "yaxis": "y2"
        }
       ],
       "layout": {
        "autosize": true,
        "hovermode": "x",
        "legend": {
         "orientation": "h",
         "x": 0,
         "y": 1.1
        },
        "margin": {
         "b": 100
        },
        "modebar": {
         "bgcolor": "grey",
         "orientation": "v"
        },
        "spikedistance": 1000,
        "template": {
         "data": {
          "bar": [
           {
            "error_x": {
             "color": "#2a3f5f"
            },
            "error_y": {
             "color": "#2a3f5f"
            },
            "marker": {
             "line": {
              "color": "#E5ECF6",
              "width": 0.5
             }
            },
            "type": "bar"
           }
          ],
          "barpolar": [
           {
            "marker": {
             "line": {
              "color": "#E5ECF6",
              "width": 0.5
             }
            },
            "type": "barpolar"
           }
          ],
          "carpet": [
           {
            "aaxis": {
             "endlinecolor": "#2a3f5f",
             "gridcolor": "white",
             "linecolor": "white",
             "minorgridcolor": "white",
             "startlinecolor": "#2a3f5f"
            },
            "baxis": {
             "endlinecolor": "#2a3f5f",
             "gridcolor": "white",
             "linecolor": "white",
             "minorgridcolor": "white",
             "startlinecolor": "#2a3f5f"
            },
            "type": "carpet"
           }
          ],
          "choropleth": [
           {
            "colorbar": {
             "outlinewidth": 0,
             "ticks": ""
            },
            "type": "choropleth"
           }
          ],
          "contour": [
           {
            "colorbar": {
             "outlinewidth": 0,
             "ticks": ""
            },
            "colorscale": [
             [
              0,
              "#0d0887"
             ],
             [
              0.1111111111111111,
              "#46039f"
             ],
             [
              0.2222222222222222,
              "#7201a8"
             ],
             [
              0.3333333333333333,
              "#9c179e"
             ],
             [
              0.4444444444444444,
              "#bd3786"
             ],
             [
              0.5555555555555556,
              "#d8576b"
             ],
             [
              0.6666666666666666,
              "#ed7953"
             ],
             [
              0.7777777777777778,
              "#fb9f3a"
             ],
             [
              0.8888888888888888,
              "#fdca26"
             ],
             [
              1,
              "#f0f921"
             ]
            ],
            "type": "contour"
           }
          ],
          "contourcarpet": [
           {
            "colorbar": {
             "outlinewidth": 0,
             "ticks": ""
            },
            "type": "contourcarpet"
           }
          ],
          "heatmap": [
           {
            "colorbar": {
             "outlinewidth": 0,
             "ticks": ""
            },
            "colorscale": [
             [
              0,
              "#0d0887"
             ],
             [
              0.1111111111111111,
              "#46039f"
             ],
             [
              0.2222222222222222,
              "#7201a8"
             ],
             [
              0.3333333333333333,
              "#9c179e"
             ],
             [
              0.4444444444444444,
              "#bd3786"
             ],
             [
              0.5555555555555556,
              "#d8576b"
             ],
             [
              0.6666666666666666,
              "#ed7953"
             ],
             [
              0.7777777777777778,
              "#fb9f3a"
             ],
             [
              0.8888888888888888,
              "#fdca26"
             ],
             [
              1,
              "#f0f921"
             ]
            ],
            "type": "heatmap"
           }
          ],
          "heatmapgl": [
           {
            "colorbar": {
             "outlinewidth": 0,
             "ticks": ""
            },
            "colorscale": [
             [
              0,
              "#0d0887"
             ],
             [
              0.1111111111111111,
              "#46039f"
             ],
             [
              0.2222222222222222,
              "#7201a8"
             ],
             [
              0.3333333333333333,
              "#9c179e"
             ],
             [
              0.4444444444444444,
              "#bd3786"
             ],
             [
              0.5555555555555556,
              "#d8576b"
             ],
             [
              0.6666666666666666,
              "#ed7953"
             ],
             [
              0.7777777777777778,
              "#fb9f3a"
             ],
             [
              0.8888888888888888,
              "#fdca26"
             ],
             [
              1,
              "#f0f921"
             ]
            ],
            "type": "heatmapgl"
           }
          ],
          "histogram": [
           {
            "marker": {
             "colorbar": {
              "outlinewidth": 0,
              "ticks": ""
             }
            },
            "type": "histogram"
           }
          ],
          "histogram2d": [
           {
            "colorbar": {
             "outlinewidth": 0,
             "ticks": ""
            },
            "colorscale": [
             [
              0,
              "#0d0887"
             ],
             [
              0.1111111111111111,
              "#46039f"
             ],
             [
              0.2222222222222222,
              "#7201a8"
             ],
             [
              0.3333333333333333,
              "#9c179e"
             ],
             [
              0.4444444444444444,
              "#bd3786"
             ],
             [
              0.5555555555555556,
              "#d8576b"
             ],
             [
              0.6666666666666666,
              "#ed7953"
             ],
             [
              0.7777777777777778,
              "#fb9f3a"
             ],
             [
              0.8888888888888888,
              "#fdca26"
             ],
             [
              1,
              "#f0f921"
             ]
            ],
            "type": "histogram2d"
           }
          ],
          "histogram2dcontour": [
           {
            "colorbar": {
             "outlinewidth": 0,
             "ticks": ""
            },
            "colorscale": [
             [
              0,
              "#0d0887"
             ],
             [
              0.1111111111111111,
              "#46039f"
             ],
             [
              0.2222222222222222,
              "#7201a8"
             ],
             [
              0.3333333333333333,
              "#9c179e"
             ],
             [
              0.4444444444444444,
              "#bd3786"
             ],
             [
              0.5555555555555556,
              "#d8576b"
             ],
             [
              0.6666666666666666,
              "#ed7953"
             ],
             [
              0.7777777777777778,
              "#fb9f3a"
             ],
             [
              0.8888888888888888,
              "#fdca26"
             ],
             [
              1,
              "#f0f921"
             ]
            ],
            "type": "histogram2dcontour"
           }
          ],
          "mesh3d": [
           {
            "colorbar": {
             "outlinewidth": 0,
             "ticks": ""
            },
            "type": "mesh3d"
           }
          ],
          "parcoords": [
           {
            "line": {
             "colorbar": {
              "outlinewidth": 0,
              "ticks": ""
             }
            },
            "type": "parcoords"
           }
          ],
          "pie": [
           {
            "automargin": true,
            "type": "pie"
           }
          ],
          "scatter": [
           {
            "marker": {
             "colorbar": {
              "outlinewidth": 0,
              "ticks": ""
             }
            },
            "type": "scatter"
           }
          ],
          "scatter3d": [
           {
            "line": {
             "colorbar": {
              "outlinewidth": 0,
              "ticks": ""
             }
            },
            "marker": {
             "colorbar": {
              "outlinewidth": 0,
              "ticks": ""
             }
            },
            "type": "scatter3d"
           }
          ],
          "scattercarpet": [
           {
            "marker": {
             "colorbar": {
              "outlinewidth": 0,
              "ticks": ""
             }
            },
            "type": "scattercarpet"
           }
          ],
          "scattergeo": [
           {
            "marker": {
             "colorbar": {
              "outlinewidth": 0,
              "ticks": ""
             }
            },
            "type": "scattergeo"
           }
          ],
          "scattergl": [
           {
            "marker": {
             "colorbar": {
              "outlinewidth": 0,
              "ticks": ""
             }
            },
            "type": "scattergl"
           }
          ],
          "scattermapbox": [
           {
            "marker": {
             "colorbar": {
              "outlinewidth": 0,
              "ticks": ""
             }
            },
            "type": "scattermapbox"
           }
          ],
          "scatterpolar": [
           {
            "marker": {
             "colorbar": {
              "outlinewidth": 0,
              "ticks": ""
             }
            },
            "type": "scatterpolar"
           }
          ],
          "scatterpolargl": [
           {
            "marker": {
             "colorbar": {
              "outlinewidth": 0,
              "ticks": ""
             }
            },
            "type": "scatterpolargl"
           }
          ],
          "scatterternary": [
           {
            "marker": {
             "colorbar": {
              "outlinewidth": 0,
              "ticks": ""
             }
            },
            "type": "scatterternary"
           }
          ],
          "surface": [
           {
            "colorbar": {
             "outlinewidth": 0,
             "ticks": ""
            },
            "colorscale": [
             [
              0,
              "#0d0887"
             ],
             [
              0.1111111111111111,
              "#46039f"
             ],
             [
              0.2222222222222222,
              "#7201a8"
             ],
             [
              0.3333333333333333,
              "#9c179e"
             ],
             [
              0.4444444444444444,
              "#bd3786"
             ],
             [
              0.5555555555555556,
              "#d8576b"
             ],
             [
              0.6666666666666666,
              "#ed7953"
             ],
             [
              0.7777777777777778,
              "#fb9f3a"
             ],
             [
              0.8888888888888888,
              "#fdca26"
             ],
             [
              1,
              "#f0f921"
             ]
            ],
            "type": "surface"
           }
          ],
          "table": [
           {
            "cells": {
             "fill": {
              "color": "#EBF0F8"
             },
             "line": {
              "color": "white"
             }
            },
            "header": {
             "fill": {
              "color": "#C8D4E3"
             },
             "line": {
              "color": "white"
             }
            },
            "type": "table"
           }
          ]
         },
         "layout": {
          "annotationdefaults": {
           "arrowcolor": "#2a3f5f",
           "arrowhead": 0,
           "arrowwidth": 1
          },
          "coloraxis": {
           "colorbar": {
            "outlinewidth": 0,
            "ticks": ""
           }
          },
          "colorscale": {
           "diverging": [
            [
             0,
             "#8e0152"
            ],
            [
             0.1,
             "#c51b7d"
            ],
            [
             0.2,
             "#de77ae"
            ],
            [
             0.3,
             "#f1b6da"
            ],
            [
             0.4,
             "#fde0ef"
            ],
            [
             0.5,
             "#f7f7f7"
            ],
            [
             0.6,
             "#e6f5d0"
            ],
            [
             0.7,
             "#b8e186"
            ],
            [
             0.8,
             "#7fbc41"
            ],
            [
             0.9,
             "#4d9221"
            ],
            [
             1,
             "#276419"
            ]
           ],
           "sequential": [
            [
             0,
             "#0d0887"
            ],
            [
             0.1111111111111111,
             "#46039f"
            ],
            [
             0.2222222222222222,
             "#7201a8"
            ],
            [
             0.3333333333333333,
             "#9c179e"
            ],
            [
             0.4444444444444444,
             "#bd3786"
            ],
            [
             0.5555555555555556,
             "#d8576b"
            ],
            [
             0.6666666666666666,
             "#ed7953"
            ],
            [
             0.7777777777777778,
             "#fb9f3a"
            ],
            [
             0.8888888888888888,
             "#fdca26"
            ],
            [
             1,
             "#f0f921"
            ]
           ],
           "sequentialminus": [
            [
             0,
             "#0d0887"
            ],
            [
             0.1111111111111111,
             "#46039f"
            ],
            [
             0.2222222222222222,
             "#7201a8"
            ],
            [
             0.3333333333333333,
             "#9c179e"
            ],
            [
             0.4444444444444444,
             "#bd3786"
            ],
            [
             0.5555555555555556,
             "#d8576b"
            ],
            [
             0.6666666666666666,
             "#ed7953"
            ],
            [
             0.7777777777777778,
             "#fb9f3a"
            ],
            [
             0.8888888888888888,
             "#fdca26"
            ],
            [
             1,
             "#f0f921"
            ]
           ]
          },
          "colorway": [
           "#636efa",
           "#EF553B",
           "#00cc96",
           "#ab63fa",
           "#FFA15A",
           "#19d3f3",
           "#FF6692",
           "#B6E880",
           "#FF97FF",
           "#FECB52"
          ],
          "font": {
           "color": "#2a3f5f"
          },
          "geo": {
           "bgcolor": "white",
           "lakecolor": "white",
           "landcolor": "#E5ECF6",
           "showlakes": true,
           "showland": true,
           "subunitcolor": "white"
          },
          "hoverlabel": {
           "align": "left"
          },
          "hovermode": "closest",
          "mapbox": {
           "style": "light"
          },
          "paper_bgcolor": "white",
          "plot_bgcolor": "#E5ECF6",
          "polar": {
           "angularaxis": {
            "gridcolor": "white",
            "linecolor": "white",
            "ticks": ""
           },
           "bgcolor": "#E5ECF6",
           "radialaxis": {
            "gridcolor": "white",
            "linecolor": "white",
            "ticks": ""
           }
          },
          "scene": {
           "xaxis": {
            "backgroundcolor": "#E5ECF6",
            "gridcolor": "white",
            "gridwidth": 2,
            "linecolor": "white",
            "showbackground": true,
            "ticks": "",
            "zerolinecolor": "white"
           },
           "yaxis": {
            "backgroundcolor": "#E5ECF6",
            "gridcolor": "white",
            "gridwidth": 2,
            "linecolor": "white",
            "showbackground": true,
            "ticks": "",
            "zerolinecolor": "white"
           },
           "zaxis": {
            "backgroundcolor": "#E5ECF6",
            "gridcolor": "white",
            "gridwidth": 2,
            "linecolor": "white",
            "showbackground": true,
            "ticks": "",
            "zerolinecolor": "white"
           }
          },
          "shapedefaults": {
           "line": {
            "color": "#2a3f5f"
           }
          },
          "ternary": {
           "aaxis": {
            "gridcolor": "white",
            "linecolor": "white",
            "ticks": ""
           },
           "baxis": {
            "gridcolor": "white",
            "linecolor": "white",
            "ticks": ""
           },
           "bgcolor": "#E5ECF6",
           "caxis": {
            "gridcolor": "white",
            "linecolor": "white",
            "ticks": ""
           }
          },
          "title": {
           "x": 0.05
          },
          "xaxis": {
           "automargin": true,
           "gridcolor": "white",
           "linecolor": "white",
           "ticks": "",
           "title": {
            "standoff": 15
           },
           "zerolinecolor": "white",
           "zerolinewidth": 2
          },
          "yaxis": {
           "automargin": true,
           "gridcolor": "white",
           "linecolor": "white",
           "ticks": "",
           "title": {
            "standoff": 15
           },
           "zerolinecolor": "white",
           "zerolinewidth": 2
          }
         }
        },
        "title": {
         "text": "CLJ20 Pseudo-Volatility vs Price",
         "x": 0.5,
         "xanchor": "center",
         "y": 0.9,
         "yanchor": "top"
        },
        "xaxis": {
         "showspikes": true,
         "spikedash": "solid",
         "spikemode": "toaxis+across",
         "spikethickness": 1,
         "tickangle": 45,
         "ticktext": [
          20191024,
          20191030,
          20191105,
          20191111,
          20191115,
          20191121,
          20191127,
          20191204,
          20191210,
          20191216,
          20191220,
          20191227,
          20200103,
          20200109,
          20200115,
          20200122,
          20200128,
          20200203,
          20200207,
          20200213,
          20200220,
          20200226,
          20200303,
          20200309,
          20200312
         ],
         "tickvals": [
          20191024,
          20191030,
          20191105,
          20191111,
          20191115,
          20191121,
          20191127,
          20191204,
          20191210,
          20191216,
          20191220,
          20191227,
          20200103,
          20200109,
          20200115,
          20200122,
          20200128,
          20200203,
          20200207,
          20200213,
          20200220,
          20200226,
          20200303,
          20200309,
          20200312
         ],
         "type": "category"
        },
        "yaxis": {
         "showspikes": true,
         "spikedash": "solid",
         "spikemode": "toaxis+across",
         "spikethickness": 1,
         "title": {
          "text": "Implied Volatility"
         }
        },
        "yaxis2": {
         "overlaying": "y",
         "side": "right",
         "title": {
          "text": "Futures Close"
         }
        }
       }
      },
      "text/html": [
       "<div>\n",
       "        \n",
       "        \n",
       "            <div id=\"ea621a21-bbad-4c73-a34b-4da5d470ddc3\" class=\"plotly-graph-div\" style=\"height:525px; width:100%;\"></div>\n",
       "            <script type=\"text/javascript\">\n",
       "                require([\"plotly\"], function(Plotly) {\n",
       "                    window.PLOTLYENV=window.PLOTLYENV || {};\n",
       "                    \n",
       "                if (document.getElementById(\"ea621a21-bbad-4c73-a34b-4da5d470ddc3\")) {\n",
       "                    Plotly.newPlot(\n",
       "                        'ea621a21-bbad-4c73-a34b-4da5d470ddc3',\n",
       "                        [{\"name\": \"iv\", \"type\": \"scatter\", \"x\": [20191024, 20191025, 20191028, 20191029, 20191030, 20191031, 20191101, 20191104, 20191105, 20191106, 20191107, 20191108, 20191111, 20191112, 20191113, 20191114, 20191115, 20191118, 20191119, 20191120, 20191121, 20191122, 20191125, 20191126, 20191127, 20191129, 20191202, 20191203, 20191204, 20191205, 20191206, 20191209, 20191210, 20191211, 20191212, 20191213, 20191216, 20191217, 20191218, 20191219, 20191220, 20191223, 20191224, 20191226, 20191227, 20191230, 20191231, 20200102, 20200103, 20200106, 20200107, 20200108, 20200109, 20200110, 20200113, 20200114, 20200115, 20200116, 20200117, 20200121, 20200122, 20200123, 20200124, 20200127, 20200128, 20200129, 20200130, 20200131, 20200203, 20200204, 20200205, 20200206, 20200207, 20200210, 20200211, 20200212, 20200213, 20200214, 20200218, 20200219, 20200220, 20200221, 20200224, 20200225, 20200226, 20200227, 20200228, 20200302, 20200303, 20200304, 20200305, 20200306, 20200309, 20200310, 20200311, 20200312, 20200312, 20200313], \"y\": [0.3590634900719974, 0.35248057151878326, 0.35038383158712505, 0.3487418534907697, 0.34208511705812283, 0.34399927224169935, 0.34953541706054786, 0.34877691487437146, 0.3472028895669587, 0.3466485780057728, 0.34569554027599947, 0.3454018268090159, 0.3511320447546521, 0.34909562025773255, 0.3494729277199056, 0.3465229949466114, 0.3421777350379371, 0.34072618875881244, 0.3444220549998206, 0.3405934061926963, 0.33048693190535955, 0.33064139601693027, 0.32958411789654796, 0.32938600035869137, 0.3280015417170995, 0.34818669621764, 0.34612810067980393, 0.3455706241139933, 0.3390065023940812, 0.3330908926223345, 0.32271395528040114, 0.32373167369824213, 0.3209652637054479, 0.3229303996060574, 0.3132922679298637, 0.3134979794032356, 0.31230106308504946, 0.3027255665659738, 0.30247761305918697, 0.29701387304119437, 0.3084143281266425, 0.3088873398739732, 0.30139398555612595, 0.2948962133286131, 0.2962385929106905, 0.30655126200708854, 0.31507741119473326, 0.3160032146854474, 0.33562291151477075, 0.3643824307492206, 0.3566022805398973, 0.35919969826166764, 0.34254000935462053, 0.3290974490099705, 0.32881604060805697, 0.3173014916835517, 0.3074316274693391, 0.30078261755802593, 0.30229377503880983, 0.3063874031388498, 0.32170110929807594, 0.33583905311653295, 0.35174228861750606, 0.3702309757304277, 0.3707769043930464, 0.35956815826577, 0.38964635659871316, 0.4015550483964749, 0.3959466949300352, 0.3829439634951874, 0.3686905501773922, 0.3724762066544716, 0.3746499140313224, 0.3829677891457734, 0.36151673869877343, 0.3494872285542404, 0.3546550913450141, 0.34359817290513894, 0.33532295482967556, 0.33327796693921613, 0.3456867983617711, 0.36786316022935217, 0.4036146169456418, 0.44327617765957344, 0.4284167950943964, 0.4481350838448326, 0.47536920352744516, 0.494573494862266, 0.5157118722304146, 0.49828381389887627, 0.4781739000708092, 0.5242981810463054, 1.0099461012887916, 0.7341580953296288, 0.7706998476239668, 0.8401006823109085, 0.8401006823109085, 0.7887478988966089], \"yaxis\": \"y\"}, {\"name\": \"fprice\", \"type\": \"scatter\", \"x\": [20191024, 20191025, 20191028, 20191029, 20191030, 20191031, 20191101, 20191104, 20191105, 20191106, 20191107, 20191108, 20191111, 20191112, 20191113, 20191114, 20191115, 20191118, 20191119, 20191120, 20191121, 20191122, 20191125, 20191126, 20191127, 20191129, 20191202, 20191203, 20191204, 20191205, 20191206, 20191209, 20191210, 20191211, 20191212, 20191213, 20191216, 20191217, 20191218, 20191219, 20191220, 20191223, 20191224, 20191226, 20191227, 20191230, 20191231, 20200102, 20200103, 20200106, 20200107, 20200108, 20200109, 20200110, 20200113, 20200114, 20200115, 20200116, 20200117, 20200121, 20200122, 20200123, 20200124, 20200127, 20200128, 20200129, 20200130, 20200131, 20200203, 20200204, 20200205, 20200206, 20200207, 20200210, 20200211, 20200212, 20200213, 20200214, 20200218, 20200219, 20200220, 20200221, 20200224, 20200225, 20200226, 20200227, 20200228, 20200302, 20200303, 20200304, 20200305, 20200306, 20200309, 20200310, 20200311, 20200312, 20200312, 20200313], \"y\": [55.48, 55.95, 55.34, 55.2, 54.32, 53.63, 55.54, 55.83, 56.45, 55.41, 56.12, 56.4, 56.16, 56.18, 56.49, 56.14, 56.98, 56.29, 54.69, 56.23, 57.58, 56.98, 57.28, 57.71, 57.54, 54.74, 55.47, 55.52, 57.64, 57.68, 58.37, 58.28, 58.53, 57.98, 58.36, 59.26, 59.46, 60.09, 60.15, 60.46, 59.95, 60.07, 60.65, 61.16, 61.21, 61.1, 60.41, 60.64, 62.48, 62.69, 62.21, 59.23, 59.25, 58.85, 57.99, 58.19, 57.77, 58.43, 58.51, 58.34, 56.76, 55.61, 54.2, 53.18, 53.52, 53.41, 52.23, 51.68, 50.28, 49.8, 50.92, 51.14, 50.55, 49.78, 50.17, 51.41, 51.66, 52.32, 52.29, 53.49, 53.88, 53.38, 51.43, 49.9, 48.73, 47.09, 44.76, 46.75, 47.18, 46.78, 45.9, 41.28, 31.13, 34.36, 32.98, 31.5, 31.5, 31.73], \"yaxis\": \"y2\"}],\n",
       "                        {\"autosize\": true, \"hovermode\": \"x\", \"legend\": {\"orientation\": \"h\", \"x\": 0, \"y\": 1.1}, \"margin\": {\"b\": 100}, \"modebar\": {\"bgcolor\": \"grey\", \"orientation\": \"v\"}, \"spikedistance\": 1000, \"template\": {\"data\": {\"bar\": [{\"error_x\": {\"color\": \"#2a3f5f\"}, \"error_y\": {\"color\": \"#2a3f5f\"}, \"marker\": {\"line\": {\"color\": \"#E5ECF6\", \"width\": 0.5}}, \"type\": \"bar\"}], \"barpolar\": [{\"marker\": {\"line\": {\"color\": \"#E5ECF6\", \"width\": 0.5}}, \"type\": \"barpolar\"}], \"carpet\": [{\"aaxis\": {\"endlinecolor\": \"#2a3f5f\", \"gridcolor\": \"white\", \"linecolor\": \"white\", \"minorgridcolor\": \"white\", \"startlinecolor\": \"#2a3f5f\"}, \"baxis\": {\"endlinecolor\": \"#2a3f5f\", \"gridcolor\": \"white\", \"linecolor\": \"white\", \"minorgridcolor\": \"white\", \"startlinecolor\": \"#2a3f5f\"}, \"type\": \"carpet\"}], \"choropleth\": [{\"colorbar\": {\"outlinewidth\": 0, \"ticks\": \"\"}, \"type\": \"choropleth\"}], \"contour\": [{\"colorbar\": {\"outlinewidth\": 0, \"ticks\": \"\"}, \"colorscale\": [[0.0, \"#0d0887\"], [0.1111111111111111, \"#46039f\"], [0.2222222222222222, \"#7201a8\"], [0.3333333333333333, \"#9c179e\"], [0.4444444444444444, \"#bd3786\"], [0.5555555555555556, \"#d8576b\"], [0.6666666666666666, \"#ed7953\"], [0.7777777777777778, \"#fb9f3a\"], [0.8888888888888888, \"#fdca26\"], [1.0, \"#f0f921\"]], \"type\": \"contour\"}], \"contourcarpet\": [{\"colorbar\": {\"outlinewidth\": 0, \"ticks\": \"\"}, \"type\": \"contourcarpet\"}], \"heatmap\": [{\"colorbar\": {\"outlinewidth\": 0, \"ticks\": \"\"}, \"colorscale\": [[0.0, \"#0d0887\"], [0.1111111111111111, \"#46039f\"], [0.2222222222222222, \"#7201a8\"], [0.3333333333333333, \"#9c179e\"], [0.4444444444444444, \"#bd3786\"], [0.5555555555555556, \"#d8576b\"], [0.6666666666666666, \"#ed7953\"], [0.7777777777777778, \"#fb9f3a\"], [0.8888888888888888, \"#fdca26\"], [1.0, \"#f0f921\"]], \"type\": \"heatmap\"}], \"heatmapgl\": [{\"colorbar\": {\"outlinewidth\": 0, \"ticks\": \"\"}, \"colorscale\": [[0.0, \"#0d0887\"], [0.1111111111111111, \"#46039f\"], [0.2222222222222222, \"#7201a8\"], [0.3333333333333333, \"#9c179e\"], [0.4444444444444444, \"#bd3786\"], [0.5555555555555556, \"#d8576b\"], [0.6666666666666666, \"#ed7953\"], [0.7777777777777778, \"#fb9f3a\"], [0.8888888888888888, \"#fdca26\"], [1.0, \"#f0f921\"]], \"type\": \"heatmapgl\"}], \"histogram\": [{\"marker\": {\"colorbar\": {\"outlinewidth\": 0, \"ticks\": \"\"}}, \"type\": \"histogram\"}], \"histogram2d\": [{\"colorbar\": {\"outlinewidth\": 0, \"ticks\": \"\"}, \"colorscale\": [[0.0, \"#0d0887\"], [0.1111111111111111, \"#46039f\"], [0.2222222222222222, \"#7201a8\"], [0.3333333333333333, \"#9c179e\"], [0.4444444444444444, \"#bd3786\"], [0.5555555555555556, \"#d8576b\"], [0.6666666666666666, \"#ed7953\"], [0.7777777777777778, \"#fb9f3a\"], [0.8888888888888888, \"#fdca26\"], [1.0, \"#f0f921\"]], \"type\": \"histogram2d\"}], \"histogram2dcontour\": [{\"colorbar\": {\"outlinewidth\": 0, \"ticks\": \"\"}, \"colorscale\": [[0.0, \"#0d0887\"], [0.1111111111111111, \"#46039f\"], [0.2222222222222222, \"#7201a8\"], [0.3333333333333333, \"#9c179e\"], [0.4444444444444444, \"#bd3786\"], [0.5555555555555556, \"#d8576b\"], [0.6666666666666666, \"#ed7953\"], [0.7777777777777778, \"#fb9f3a\"], [0.8888888888888888, \"#fdca26\"], [1.0, \"#f0f921\"]], \"type\": \"histogram2dcontour\"}], \"mesh3d\": [{\"colorbar\": {\"outlinewidth\": 0, \"ticks\": \"\"}, \"type\": \"mesh3d\"}], \"parcoords\": [{\"line\": {\"colorbar\": {\"outlinewidth\": 0, \"ticks\": \"\"}}, \"type\": \"parcoords\"}], \"pie\": [{\"automargin\": true, \"type\": \"pie\"}], \"scatter\": [{\"marker\": {\"colorbar\": {\"outlinewidth\": 0, \"ticks\": \"\"}}, \"type\": \"scatter\"}], \"scatter3d\": [{\"line\": {\"colorbar\": {\"outlinewidth\": 0, \"ticks\": \"\"}}, \"marker\": {\"colorbar\": {\"outlinewidth\": 0, \"ticks\": \"\"}}, \"type\": \"scatter3d\"}], \"scattercarpet\": [{\"marker\": {\"colorbar\": {\"outlinewidth\": 0, \"ticks\": \"\"}}, \"type\": \"scattercarpet\"}], \"scattergeo\": [{\"marker\": {\"colorbar\": {\"outlinewidth\": 0, \"ticks\": \"\"}}, \"type\": \"scattergeo\"}], \"scattergl\": [{\"marker\": {\"colorbar\": {\"outlinewidth\": 0, \"ticks\": \"\"}}, \"type\": \"scattergl\"}], \"scattermapbox\": [{\"marker\": {\"colorbar\": {\"outlinewidth\": 0, \"ticks\": \"\"}}, \"type\": \"scattermapbox\"}], \"scatterpolar\": [{\"marker\": {\"colorbar\": {\"outlinewidth\": 0, \"ticks\": \"\"}}, \"type\": \"scatterpolar\"}], \"scatterpolargl\": [{\"marker\": {\"colorbar\": {\"outlinewidth\": 0, \"ticks\": \"\"}}, \"type\": \"scatterpolargl\"}], \"scatterternary\": [{\"marker\": {\"colorbar\": {\"outlinewidth\": 0, \"ticks\": \"\"}}, \"type\": \"scatterternary\"}], \"surface\": [{\"colorbar\": {\"outlinewidth\": 0, \"ticks\": \"\"}, \"colorscale\": [[0.0, \"#0d0887\"], [0.1111111111111111, \"#46039f\"], [0.2222222222222222, \"#7201a8\"], [0.3333333333333333, \"#9c179e\"], [0.4444444444444444, \"#bd3786\"], [0.5555555555555556, \"#d8576b\"], [0.6666666666666666, \"#ed7953\"], [0.7777777777777778, \"#fb9f3a\"], [0.8888888888888888, \"#fdca26\"], [1.0, \"#f0f921\"]], \"type\": \"surface\"}], \"table\": [{\"cells\": {\"fill\": {\"color\": \"#EBF0F8\"}, \"line\": {\"color\": \"white\"}}, \"header\": {\"fill\": {\"color\": \"#C8D4E3\"}, \"line\": {\"color\": \"white\"}}, \"type\": \"table\"}]}, \"layout\": {\"annotationdefaults\": {\"arrowcolor\": \"#2a3f5f\", \"arrowhead\": 0, \"arrowwidth\": 1}, \"coloraxis\": {\"colorbar\": {\"outlinewidth\": 0, \"ticks\": \"\"}}, \"colorscale\": {\"diverging\": [[0, \"#8e0152\"], [0.1, \"#c51b7d\"], [0.2, \"#de77ae\"], [0.3, \"#f1b6da\"], [0.4, \"#fde0ef\"], [0.5, \"#f7f7f7\"], [0.6, \"#e6f5d0\"], [0.7, \"#b8e186\"], [0.8, \"#7fbc41\"], [0.9, \"#4d9221\"], [1, \"#276419\"]], \"sequential\": [[0.0, \"#0d0887\"], [0.1111111111111111, \"#46039f\"], [0.2222222222222222, \"#7201a8\"], [0.3333333333333333, \"#9c179e\"], [0.4444444444444444, \"#bd3786\"], [0.5555555555555556, \"#d8576b\"], [0.6666666666666666, \"#ed7953\"], [0.7777777777777778, \"#fb9f3a\"], [0.8888888888888888, \"#fdca26\"], [1.0, \"#f0f921\"]], \"sequentialminus\": [[0.0, \"#0d0887\"], [0.1111111111111111, \"#46039f\"], [0.2222222222222222, \"#7201a8\"], [0.3333333333333333, \"#9c179e\"], [0.4444444444444444, \"#bd3786\"], [0.5555555555555556, \"#d8576b\"], [0.6666666666666666, \"#ed7953\"], [0.7777777777777778, \"#fb9f3a\"], [0.8888888888888888, \"#fdca26\"], [1.0, \"#f0f921\"]]}, \"colorway\": [\"#636efa\", \"#EF553B\", \"#00cc96\", \"#ab63fa\", \"#FFA15A\", \"#19d3f3\", \"#FF6692\", \"#B6E880\", \"#FF97FF\", \"#FECB52\"], \"font\": {\"color\": \"#2a3f5f\"}, \"geo\": {\"bgcolor\": \"white\", \"lakecolor\": \"white\", \"landcolor\": \"#E5ECF6\", \"showlakes\": true, \"showland\": true, \"subunitcolor\": \"white\"}, \"hoverlabel\": {\"align\": \"left\"}, \"hovermode\": \"closest\", \"mapbox\": {\"style\": \"light\"}, \"paper_bgcolor\": \"white\", \"plot_bgcolor\": \"#E5ECF6\", \"polar\": {\"angularaxis\": {\"gridcolor\": \"white\", \"linecolor\": \"white\", \"ticks\": \"\"}, \"bgcolor\": \"#E5ECF6\", \"radialaxis\": {\"gridcolor\": \"white\", \"linecolor\": \"white\", \"ticks\": \"\"}}, \"scene\": {\"xaxis\": {\"backgroundcolor\": \"#E5ECF6\", \"gridcolor\": \"white\", \"gridwidth\": 2, \"linecolor\": \"white\", \"showbackground\": true, \"ticks\": \"\", \"zerolinecolor\": \"white\"}, \"yaxis\": {\"backgroundcolor\": \"#E5ECF6\", \"gridcolor\": \"white\", \"gridwidth\": 2, \"linecolor\": \"white\", \"showbackground\": true, \"ticks\": \"\", \"zerolinecolor\": \"white\"}, \"zaxis\": {\"backgroundcolor\": \"#E5ECF6\", \"gridcolor\": \"white\", \"gridwidth\": 2, \"linecolor\": \"white\", \"showbackground\": true, \"ticks\": \"\", \"zerolinecolor\": \"white\"}}, \"shapedefaults\": {\"line\": {\"color\": \"#2a3f5f\"}}, \"ternary\": {\"aaxis\": {\"gridcolor\": \"white\", \"linecolor\": \"white\", \"ticks\": \"\"}, \"baxis\": {\"gridcolor\": \"white\", \"linecolor\": \"white\", \"ticks\": \"\"}, \"bgcolor\": \"#E5ECF6\", \"caxis\": {\"gridcolor\": \"white\", \"linecolor\": \"white\", \"ticks\": \"\"}}, \"title\": {\"x\": 0.05}, \"xaxis\": {\"automargin\": true, \"gridcolor\": \"white\", \"linecolor\": \"white\", \"ticks\": \"\", \"title\": {\"standoff\": 15}, \"zerolinecolor\": \"white\", \"zerolinewidth\": 2}, \"yaxis\": {\"automargin\": true, \"gridcolor\": \"white\", \"linecolor\": \"white\", \"ticks\": \"\", \"title\": {\"standoff\": 15}, \"zerolinecolor\": \"white\", \"zerolinewidth\": 2}}}, \"title\": {\"text\": \"CLJ20 Pseudo-Volatility vs Price\", \"x\": 0.5, \"xanchor\": \"center\", \"y\": 0.9, \"yanchor\": \"top\"}, \"xaxis\": {\"showspikes\": true, \"spikedash\": \"solid\", \"spikemode\": \"toaxis+across\", \"spikethickness\": 1, \"tickangle\": 45, \"ticktext\": [20191024, 20191030, 20191105, 20191111, 20191115, 20191121, 20191127, 20191204, 20191210, 20191216, 20191220, 20191227, 20200103, 20200109, 20200115, 20200122, 20200128, 20200203, 20200207, 20200213, 20200220, 20200226, 20200303, 20200309, 20200312], \"tickvals\": [20191024, 20191030, 20191105, 20191111, 20191115, 20191121, 20191127, 20191204, 20191210, 20191216, 20191220, 20191227, 20200103, 20200109, 20200115, 20200122, 20200128, 20200203, 20200207, 20200213, 20200220, 20200226, 20200303, 20200309, 20200312], \"type\": \"category\"}, \"yaxis\": {\"showspikes\": true, \"spikedash\": \"solid\", \"spikemode\": \"toaxis+across\", \"spikethickness\": 1, \"title\": {\"text\": \"Implied Volatility\"}}, \"yaxis2\": {\"overlaying\": \"y\", \"side\": \"right\", \"title\": {\"text\": \"Futures Close\"}}},\n",
       "                        {\"responsive\": true}\n",
       "                    ).then(function(){\n",
       "                            \n",
       "var gd = document.getElementById('ea621a21-bbad-4c73-a34b-4da5d470ddc3');\n",
       "var x = new MutationObserver(function (mutations, observer) {{\n",
       "        var display = window.getComputedStyle(gd).display;\n",
       "        if (!display || display === 'none') {{\n",
       "            console.log([gd, 'removed!']);\n",
       "            Plotly.purge(gd);\n",
       "            observer.disconnect();\n",
       "        }}\n",
       "}});\n",
       "\n",
       "// Listen for the removal of the full notebook cells\n",
       "var notebookContainer = gd.closest('#notebook-container');\n",
       "if (notebookContainer) {{\n",
       "    x.observe(notebookContainer, {childList: true});\n",
       "}}\n",
       "\n",
       "// Listen for the clearing of the current output cell\n",
       "var outputEl = gd.closest('.output');\n",
       "if (outputEl) {{\n",
       "    x.observe(outputEl, {childList: true});\n",
       "}}\n",
       "\n",
       "                        })\n",
       "                };\n",
       "                });\n",
       "            </script>\n",
       "        </div>"
      ]
     },
     "metadata": {},
     "output_type": "display_data"
    },
    {
     "data": {
      "application/vnd.plotly.v1+json": {
       "config": {
        "linkText": "Export to plot.ly",
        "plotlyServerURL": "https://plot.ly",
        "showLink": false
       },
       "data": [
        {
         "name": "iv",
         "type": "scatter",
         "x": [
          20191125,
          20191126,
          20191127,
          20191129,
          20191202,
          20191203,
          20191204,
          20191205,
          20191206,
          20191209,
          20191210,
          20191211,
          20191212,
          20191213,
          20191216,
          20191217,
          20191218,
          20191219,
          20191220,
          20191223,
          20191224,
          20191226,
          20191227,
          20191230,
          20191231,
          20200102,
          20200103,
          20200106,
          20200107,
          20200108,
          20200109,
          20200110,
          20200113,
          20200114,
          20200115,
          20200116,
          20200117,
          20200121,
          20200122,
          20200123,
          20200124,
          20200127,
          20200128,
          20200129,
          20200130,
          20200131,
          20200203,
          20200204,
          20200205,
          20200206,
          20200207,
          20200210,
          20200211,
          20200212,
          20200213,
          20200214,
          20200218,
          20200219,
          20200220,
          20200221,
          20200221,
          20200224,
          20200225,
          20200226,
          20200227,
          20200228,
          20200302,
          20200303,
          20200304,
          20200305,
          20200306,
          20200309,
          20200310,
          20200311,
          20200312,
          20200313,
          20200316,
          20200316,
          20200317,
          20200318,
          20200319,
          20200320,
          20200323,
          20200324,
          20200325,
          20200326,
          20200327,
          20200330,
          20200331,
          20200401,
          20200402,
          20200403,
          20200406,
          20200407,
          20200408,
          20200409,
          20200413,
          20200414
         ],
         "y": [
          0.3302918216784909,
          0.326311089341458,
          0.32988588163846394,
          0.34220625454680237,
          0.3432560031586363,
          0.3437214503146263,
          0.3374745256585082,
          0.32751702750508543,
          0.32181176686812024,
          0.3236182767418951,
          0.32186002000357666,
          0.32249962267966303,
          0.31429663090227933,
          0.3136498511792419,
          0.3121220894200223,
          0.3047926914275344,
          0.3066846700070897,
          0.29941018886524406,
          0.3106956966710041,
          0.3118198655362106,
          0.3000297949582185,
          0.29631906500966626,
          0.2936021596992544,
          0.3057549121599607,
          0.3136773996636929,
          0.3149279480587067,
          0.3272889135682487,
          0.356227135070573,
          0.34783489282537855,
          0.35053073477572144,
          0.33939115043565765,
          0.3277706870907912,
          0.32535795526516254,
          0.3178405359362091,
          0.31265456136821623,
          0.30499326499725976,
          0.3028833214714489,
          0.3119921755895335,
          0.32324361227193243,
          0.3311679826497934,
          0.3418404097529424,
          0.35518535232066034,
          0.3531381941323365,
          0.34530508264843546,
          0.36495074681219236,
          0.3761650141095804,
          0.3744580276229792,
          0.36362499757404826,
          0.3539137177269488,
          0.35318360245283786,
          0.35374116463904876,
          0.3643037224051846,
          0.34645655110686285,
          0.3383468269545239,
          0.33966007205129506,
          0.337417612991295,
          0.3297463073381895,
          0.3239581937394415,
          0.33034477341559554,
          0.3435274246073097,
          0.3435274246073097,
          0.3614994938895382,
          0.39328052729208657,
          0.38144275495608143,
          0.3827573889880464,
          0.39788640798686187,
          0.4165076119538604,
          0.43157763471579375,
          0.44306169181419197,
          0.4450529474993351,
          0.48706667456217456,
          0.6604168323198261,
          0.594495402203466,
          0.5863242430563474,
          0.6546719138136232,
          0.6906829377219961,
          0.7181391150231395,
          0.7181391150231395,
          0.6591843694635191,
          0.6918595411085441,
          0.7611595558021818,
          0.8399929232138983,
          0.8323200057843444,
          0.7500412469348128,
          0.6476867667148188,
          0.6120894278219632,
          0.632049063570846,
          0.6649294478673824,
          0.6546354357115838,
          0.6065382932635756,
          0.7573678166151381,
          0.8926414259936928,
          0.8620011543023292,
          0.839998517596536,
          0.8702513477190162,
          0.8053118836269128,
          0.7264846464712643,
          0.6808823499959393
         ],
         "yaxis": "y"
        },
        {
         "name": "fprice",
         "type": "scatter",
         "x": [
          20191125,
          20191126,
          20191127,
          20191129,
          20191202,
          20191203,
          20191204,
          20191205,
          20191206,
          20191209,
          20191210,
          20191211,
          20191212,
          20191213,
          20191216,
          20191217,
          20191218,
          20191219,
          20191220,
          20191223,
          20191224,
          20191226,
          20191227,
          20191230,
          20191231,
          20200102,
          20200103,
          20200106,
          20200107,
          20200108,
          20200109,
          20200110,
          20200113,
          20200114,
          20200115,
          20200116,
          20200117,
          20200121,
          20200122,
          20200123,
          20200124,
          20200127,
          20200128,
          20200129,
          20200130,
          20200131,
          20200203,
          20200204,
          20200205,
          20200206,
          20200207,
          20200210,
          20200211,
          20200212,
          20200213,
          20200214,
          20200218,
          20200219,
          20200220,
          20200221,
          20200221,
          20200224,
          20200225,
          20200226,
          20200227,
          20200228,
          20200302,
          20200303,
          20200304,
          20200305,
          20200306,
          20200309,
          20200310,
          20200311,
          20200312,
          20200313,
          20200316,
          20200316,
          20200317,
          20200318,
          20200319,
          20200320,
          20200323,
          20200324,
          20200325,
          20200326,
          20200327,
          20200330,
          20200331,
          20200401,
          20200402,
          20200403,
          20200406,
          20200407,
          20200408,
          20200409,
          20200413,
          20200414
         ],
         "y": [
          56.88,
          57.32,
          57.19,
          54.45,
          55.17,
          55.19,
          57.21,
          57.26,
          57.92,
          57.88,
          58.15,
          57.58,
          57.95,
          58.8,
          59.02,
          59.6,
          59.69,
          59.97,
          59.55,
          59.68,
          60.26,
          60.73,
          60.79,
          60.66,
          59.97,
          60.24,
          62.02,
          62.23,
          61.81,
          58.92,
          58.99,
          58.63,
          57.82,
          58.02,
          57.58,
          58.21,
          58.3,
          58.16,
          56.66,
          55.54,
          54.12,
          53.13,
          53.48,
          53.42,
          52.27,
          51.77,
          50.45,
          50.01,
          51.13,
          51.37,
          50.82,
          50.03,
          50.45,
          51.68,
          51.93,
          52.6,
          52.58,
          53.74,
          54.06,
          53.5,
          53.5,
          51.58,
          50.06,
          48.88,
          47.29,
          44.94,
          46.92,
          47.33,
          46.95,
          46.06,
          41.51,
          31.47,
          34.73,
          33.39,
          31.98,
          32.11,
          29,
          29,
          27.33,
          20.83,
          25.91,
          22.63,
          23.36,
          24.01,
          24.49,
          22.6,
          21.51,
          20.09,
          20.48,
          20.31,
          25.32,
          28.34,
          26.08,
          23.63,
          25.09,
          22.76,
          22.41,
          20.11
         ],
         "yaxis": "y2"
        }
       ],
       "layout": {
        "autosize": true,
        "hovermode": "x",
        "legend": {
         "orientation": "h",
         "x": 0,
         "y": 1.1
        },
        "margin": {
         "b": 100
        },
        "modebar": {
         "bgcolor": "grey",
         "orientation": "v"
        },
        "spikedistance": 1000,
        "template": {
         "data": {
          "bar": [
           {
            "error_x": {
             "color": "#2a3f5f"
            },
            "error_y": {
             "color": "#2a3f5f"
            },
            "marker": {
             "line": {
              "color": "#E5ECF6",
              "width": 0.5
             }
            },
            "type": "bar"
           }
          ],
          "barpolar": [
           {
            "marker": {
             "line": {
              "color": "#E5ECF6",
              "width": 0.5
             }
            },
            "type": "barpolar"
           }
          ],
          "carpet": [
           {
            "aaxis": {
             "endlinecolor": "#2a3f5f",
             "gridcolor": "white",
             "linecolor": "white",
             "minorgridcolor": "white",
             "startlinecolor": "#2a3f5f"
            },
            "baxis": {
             "endlinecolor": "#2a3f5f",
             "gridcolor": "white",
             "linecolor": "white",
             "minorgridcolor": "white",
             "startlinecolor": "#2a3f5f"
            },
            "type": "carpet"
           }
          ],
          "choropleth": [
           {
            "colorbar": {
             "outlinewidth": 0,
             "ticks": ""
            },
            "type": "choropleth"
           }
          ],
          "contour": [
           {
            "colorbar": {
             "outlinewidth": 0,
             "ticks": ""
            },
            "colorscale": [
             [
              0,
              "#0d0887"
             ],
             [
              0.1111111111111111,
              "#46039f"
             ],
             [
              0.2222222222222222,
              "#7201a8"
             ],
             [
              0.3333333333333333,
              "#9c179e"
             ],
             [
              0.4444444444444444,
              "#bd3786"
             ],
             [
              0.5555555555555556,
              "#d8576b"
             ],
             [
              0.6666666666666666,
              "#ed7953"
             ],
             [
              0.7777777777777778,
              "#fb9f3a"
             ],
             [
              0.8888888888888888,
              "#fdca26"
             ],
             [
              1,
              "#f0f921"
             ]
            ],
            "type": "contour"
           }
          ],
          "contourcarpet": [
           {
            "colorbar": {
             "outlinewidth": 0,
             "ticks": ""
            },
            "type": "contourcarpet"
           }
          ],
          "heatmap": [
           {
            "colorbar": {
             "outlinewidth": 0,
             "ticks": ""
            },
            "colorscale": [
             [
              0,
              "#0d0887"
             ],
             [
              0.1111111111111111,
              "#46039f"
             ],
             [
              0.2222222222222222,
              "#7201a8"
             ],
             [
              0.3333333333333333,
              "#9c179e"
             ],
             [
              0.4444444444444444,
              "#bd3786"
             ],
             [
              0.5555555555555556,
              "#d8576b"
             ],
             [
              0.6666666666666666,
              "#ed7953"
             ],
             [
              0.7777777777777778,
              "#fb9f3a"
             ],
             [
              0.8888888888888888,
              "#fdca26"
             ],
             [
              1,
              "#f0f921"
             ]
            ],
            "type": "heatmap"
           }
          ],
          "heatmapgl": [
           {
            "colorbar": {
             "outlinewidth": 0,
             "ticks": ""
            },
            "colorscale": [
             [
              0,
              "#0d0887"
             ],
             [
              0.1111111111111111,
              "#46039f"
             ],
             [
              0.2222222222222222,
              "#7201a8"
             ],
             [
              0.3333333333333333,
              "#9c179e"
             ],
             [
              0.4444444444444444,
              "#bd3786"
             ],
             [
              0.5555555555555556,
              "#d8576b"
             ],
             [
              0.6666666666666666,
              "#ed7953"
             ],
             [
              0.7777777777777778,
              "#fb9f3a"
             ],
             [
              0.8888888888888888,
              "#fdca26"
             ],
             [
              1,
              "#f0f921"
             ]
            ],
            "type": "heatmapgl"
           }
          ],
          "histogram": [
           {
            "marker": {
             "colorbar": {
              "outlinewidth": 0,
              "ticks": ""
             }
            },
            "type": "histogram"
           }
          ],
          "histogram2d": [
           {
            "colorbar": {
             "outlinewidth": 0,
             "ticks": ""
            },
            "colorscale": [
             [
              0,
              "#0d0887"
             ],
             [
              0.1111111111111111,
              "#46039f"
             ],
             [
              0.2222222222222222,
              "#7201a8"
             ],
             [
              0.3333333333333333,
              "#9c179e"
             ],
             [
              0.4444444444444444,
              "#bd3786"
             ],
             [
              0.5555555555555556,
              "#d8576b"
             ],
             [
              0.6666666666666666,
              "#ed7953"
             ],
             [
              0.7777777777777778,
              "#fb9f3a"
             ],
             [
              0.8888888888888888,
              "#fdca26"
             ],
             [
              1,
              "#f0f921"
             ]
            ],
            "type": "histogram2d"
           }
          ],
          "histogram2dcontour": [
           {
            "colorbar": {
             "outlinewidth": 0,
             "ticks": ""
            },
            "colorscale": [
             [
              0,
              "#0d0887"
             ],
             [
              0.1111111111111111,
              "#46039f"
             ],
             [
              0.2222222222222222,
              "#7201a8"
             ],
             [
              0.3333333333333333,
              "#9c179e"
             ],
             [
              0.4444444444444444,
              "#bd3786"
             ],
             [
              0.5555555555555556,
              "#d8576b"
             ],
             [
              0.6666666666666666,
              "#ed7953"
             ],
             [
              0.7777777777777778,
              "#fb9f3a"
             ],
             [
              0.8888888888888888,
              "#fdca26"
             ],
             [
              1,
              "#f0f921"
             ]
            ],
            "type": "histogram2dcontour"
           }
          ],
          "mesh3d": [
           {
            "colorbar": {
             "outlinewidth": 0,
             "ticks": ""
            },
            "type": "mesh3d"
           }
          ],
          "parcoords": [
           {
            "line": {
             "colorbar": {
              "outlinewidth": 0,
              "ticks": ""
             }
            },
            "type": "parcoords"
           }
          ],
          "pie": [
           {
            "automargin": true,
            "type": "pie"
           }
          ],
          "scatter": [
           {
            "marker": {
             "colorbar": {
              "outlinewidth": 0,
              "ticks": ""
             }
            },
            "type": "scatter"
           }
          ],
          "scatter3d": [
           {
            "line": {
             "colorbar": {
              "outlinewidth": 0,
              "ticks": ""
             }
            },
            "marker": {
             "colorbar": {
              "outlinewidth": 0,
              "ticks": ""
             }
            },
            "type": "scatter3d"
           }
          ],
          "scattercarpet": [
           {
            "marker": {
             "colorbar": {
              "outlinewidth": 0,
              "ticks": ""
             }
            },
            "type": "scattercarpet"
           }
          ],
          "scattergeo": [
           {
            "marker": {
             "colorbar": {
              "outlinewidth": 0,
              "ticks": ""
             }
            },
            "type": "scattergeo"
           }
          ],
          "scattergl": [
           {
            "marker": {
             "colorbar": {
              "outlinewidth": 0,
              "ticks": ""
             }
            },
            "type": "scattergl"
           }
          ],
          "scattermapbox": [
           {
            "marker": {
             "colorbar": {
              "outlinewidth": 0,
              "ticks": ""
             }
            },
            "type": "scattermapbox"
           }
          ],
          "scatterpolar": [
           {
            "marker": {
             "colorbar": {
              "outlinewidth": 0,
              "ticks": ""
             }
            },
            "type": "scatterpolar"
           }
          ],
          "scatterpolargl": [
           {
            "marker": {
             "colorbar": {
              "outlinewidth": 0,
              "ticks": ""
             }
            },
            "type": "scatterpolargl"
           }
          ],
          "scatterternary": [
           {
            "marker": {
             "colorbar": {
              "outlinewidth": 0,
              "ticks": ""
             }
            },
            "type": "scatterternary"
           }
          ],
          "surface": [
           {
            "colorbar": {
             "outlinewidth": 0,
             "ticks": ""
            },
            "colorscale": [
             [
              0,
              "#0d0887"
             ],
             [
              0.1111111111111111,
              "#46039f"
             ],
             [
              0.2222222222222222,
              "#7201a8"
             ],
             [
              0.3333333333333333,
              "#9c179e"
             ],
             [
              0.4444444444444444,
              "#bd3786"
             ],
             [
              0.5555555555555556,
              "#d8576b"
             ],
             [
              0.6666666666666666,
              "#ed7953"
             ],
             [
              0.7777777777777778,
              "#fb9f3a"
             ],
             [
              0.8888888888888888,
              "#fdca26"
             ],
             [
              1,
              "#f0f921"
             ]
            ],
            "type": "surface"
           }
          ],
          "table": [
           {
            "cells": {
             "fill": {
              "color": "#EBF0F8"
             },
             "line": {
              "color": "white"
             }
            },
            "header": {
             "fill": {
              "color": "#C8D4E3"
             },
             "line": {
              "color": "white"
             }
            },
            "type": "table"
           }
          ]
         },
         "layout": {
          "annotationdefaults": {
           "arrowcolor": "#2a3f5f",
           "arrowhead": 0,
           "arrowwidth": 1
          },
          "coloraxis": {
           "colorbar": {
            "outlinewidth": 0,
            "ticks": ""
           }
          },
          "colorscale": {
           "diverging": [
            [
             0,
             "#8e0152"
            ],
            [
             0.1,
             "#c51b7d"
            ],
            [
             0.2,
             "#de77ae"
            ],
            [
             0.3,
             "#f1b6da"
            ],
            [
             0.4,
             "#fde0ef"
            ],
            [
             0.5,
             "#f7f7f7"
            ],
            [
             0.6,
             "#e6f5d0"
            ],
            [
             0.7,
             "#b8e186"
            ],
            [
             0.8,
             "#7fbc41"
            ],
            [
             0.9,
             "#4d9221"
            ],
            [
             1,
             "#276419"
            ]
           ],
           "sequential": [
            [
             0,
             "#0d0887"
            ],
            [
             0.1111111111111111,
             "#46039f"
            ],
            [
             0.2222222222222222,
             "#7201a8"
            ],
            [
             0.3333333333333333,
             "#9c179e"
            ],
            [
             0.4444444444444444,
             "#bd3786"
            ],
            [
             0.5555555555555556,
             "#d8576b"
            ],
            [
             0.6666666666666666,
             "#ed7953"
            ],
            [
             0.7777777777777778,
             "#fb9f3a"
            ],
            [
             0.8888888888888888,
             "#fdca26"
            ],
            [
             1,
             "#f0f921"
            ]
           ],
           "sequentialminus": [
            [
             0,
             "#0d0887"
            ],
            [
             0.1111111111111111,
             "#46039f"
            ],
            [
             0.2222222222222222,
             "#7201a8"
            ],
            [
             0.3333333333333333,
             "#9c179e"
            ],
            [
             0.4444444444444444,
             "#bd3786"
            ],
            [
             0.5555555555555556,
             "#d8576b"
            ],
            [
             0.6666666666666666,
             "#ed7953"
            ],
            [
             0.7777777777777778,
             "#fb9f3a"
            ],
            [
             0.8888888888888888,
             "#fdca26"
            ],
            [
             1,
             "#f0f921"
            ]
           ]
          },
          "colorway": [
           "#636efa",
           "#EF553B",
           "#00cc96",
           "#ab63fa",
           "#FFA15A",
           "#19d3f3",
           "#FF6692",
           "#B6E880",
           "#FF97FF",
           "#FECB52"
          ],
          "font": {
           "color": "#2a3f5f"
          },
          "geo": {
           "bgcolor": "white",
           "lakecolor": "white",
           "landcolor": "#E5ECF6",
           "showlakes": true,
           "showland": true,
           "subunitcolor": "white"
          },
          "hoverlabel": {
           "align": "left"
          },
          "hovermode": "closest",
          "mapbox": {
           "style": "light"
          },
          "paper_bgcolor": "white",
          "plot_bgcolor": "#E5ECF6",
          "polar": {
           "angularaxis": {
            "gridcolor": "white",
            "linecolor": "white",
            "ticks": ""
           },
           "bgcolor": "#E5ECF6",
           "radialaxis": {
            "gridcolor": "white",
            "linecolor": "white",
            "ticks": ""
           }
          },
          "scene": {
           "xaxis": {
            "backgroundcolor": "#E5ECF6",
            "gridcolor": "white",
            "gridwidth": 2,
            "linecolor": "white",
            "showbackground": true,
            "ticks": "",
            "zerolinecolor": "white"
           },
           "yaxis": {
            "backgroundcolor": "#E5ECF6",
            "gridcolor": "white",
            "gridwidth": 2,
            "linecolor": "white",
            "showbackground": true,
            "ticks": "",
            "zerolinecolor": "white"
           },
           "zaxis": {
            "backgroundcolor": "#E5ECF6",
            "gridcolor": "white",
            "gridwidth": 2,
            "linecolor": "white",
            "showbackground": true,
            "ticks": "",
            "zerolinecolor": "white"
           }
          },
          "shapedefaults": {
           "line": {
            "color": "#2a3f5f"
           }
          },
          "ternary": {
           "aaxis": {
            "gridcolor": "white",
            "linecolor": "white",
            "ticks": ""
           },
           "baxis": {
            "gridcolor": "white",
            "linecolor": "white",
            "ticks": ""
           },
           "bgcolor": "#E5ECF6",
           "caxis": {
            "gridcolor": "white",
            "linecolor": "white",
            "ticks": ""
           }
          },
          "title": {
           "x": 0.05
          },
          "xaxis": {
           "automargin": true,
           "gridcolor": "white",
           "linecolor": "white",
           "ticks": "",
           "title": {
            "standoff": 15
           },
           "zerolinecolor": "white",
           "zerolinewidth": 2
          },
          "yaxis": {
           "automargin": true,
           "gridcolor": "white",
           "linecolor": "white",
           "ticks": "",
           "title": {
            "standoff": 15
           },
           "zerolinecolor": "white",
           "zerolinewidth": 2
          }
         }
        },
        "title": {
         "text": "CLK20 Pseudo-Volatility vs Price",
         "x": 0.5,
         "xanchor": "center",
         "y": 0.9,
         "yanchor": "top"
        },
        "xaxis": {
         "showspikes": true,
         "spikedash": "solid",
         "spikemode": "toaxis+across",
         "spikethickness": 1,
         "tickangle": 45,
         "ticktext": [
          20191125,
          20191202,
          20191206,
          20191212,
          20191218,
          20191224,
          20191231,
          20200107,
          20200113,
          20200117,
          20200124,
          20200130,
          20200205,
          20200211,
          20200218,
          20200221,
          20200227,
          20200304,
          20200310,
          20200316,
          20200319,
          20200325,
          20200331,
          20200406,
          20200413
         ],
         "tickvals": [
          20191125,
          20191202,
          20191206,
          20191212,
          20191218,
          20191224,
          20191231,
          20200107,
          20200113,
          20200117,
          20200124,
          20200130,
          20200205,
          20200211,
          20200218,
          20200221,
          20200227,
          20200304,
          20200310,
          20200316,
          20200319,
          20200325,
          20200331,
          20200406,
          20200413
         ],
         "type": "category"
        },
        "yaxis": {
         "showspikes": true,
         "spikedash": "solid",
         "spikemode": "toaxis+across",
         "spikethickness": 1,
         "title": {
          "text": "Implied Volatility"
         }
        },
        "yaxis2": {
         "overlaying": "y",
         "side": "right",
         "title": {
          "text": "Futures Close"
         }
        }
       }
      },
      "text/html": [
       "<div>\n",
       "        \n",
       "        \n",
       "            <div id=\"b3a835c0-0e13-424a-80ee-88cebe3a6310\" class=\"plotly-graph-div\" style=\"height:525px; width:100%;\"></div>\n",
       "            <script type=\"text/javascript\">\n",
       "                require([\"plotly\"], function(Plotly) {\n",
       "                    window.PLOTLYENV=window.PLOTLYENV || {};\n",
       "                    \n",
       "                if (document.getElementById(\"b3a835c0-0e13-424a-80ee-88cebe3a6310\")) {\n",
       "                    Plotly.newPlot(\n",
       "                        'b3a835c0-0e13-424a-80ee-88cebe3a6310',\n",
       "                        [{\"name\": \"iv\", \"type\": \"scatter\", \"x\": [20191125, 20191126, 20191127, 20191129, 20191202, 20191203, 20191204, 20191205, 20191206, 20191209, 20191210, 20191211, 20191212, 20191213, 20191216, 20191217, 20191218, 20191219, 20191220, 20191223, 20191224, 20191226, 20191227, 20191230, 20191231, 20200102, 20200103, 20200106, 20200107, 20200108, 20200109, 20200110, 20200113, 20200114, 20200115, 20200116, 20200117, 20200121, 20200122, 20200123, 20200124, 20200127, 20200128, 20200129, 20200130, 20200131, 20200203, 20200204, 20200205, 20200206, 20200207, 20200210, 20200211, 20200212, 20200213, 20200214, 20200218, 20200219, 20200220, 20200221, 20200221, 20200224, 20200225, 20200226, 20200227, 20200228, 20200302, 20200303, 20200304, 20200305, 20200306, 20200309, 20200310, 20200311, 20200312, 20200313, 20200316, 20200316, 20200317, 20200318, 20200319, 20200320, 20200323, 20200324, 20200325, 20200326, 20200327, 20200330, 20200331, 20200401, 20200402, 20200403, 20200406, 20200407, 20200408, 20200409, 20200413, 20200414], \"y\": [0.3302918216784909, 0.326311089341458, 0.32988588163846394, 0.34220625454680237, 0.3432560031586363, 0.3437214503146263, 0.3374745256585082, 0.32751702750508543, 0.32181176686812024, 0.3236182767418951, 0.32186002000357666, 0.32249962267966303, 0.31429663090227933, 0.3136498511792419, 0.3121220894200223, 0.3047926914275344, 0.3066846700070897, 0.29941018886524406, 0.3106956966710041, 0.3118198655362106, 0.3000297949582185, 0.29631906500966626, 0.2936021596992544, 0.3057549121599607, 0.3136773996636929, 0.3149279480587067, 0.3272889135682487, 0.356227135070573, 0.34783489282537855, 0.35053073477572144, 0.33939115043565765, 0.3277706870907912, 0.32535795526516254, 0.3178405359362091, 0.31265456136821623, 0.30499326499725976, 0.3028833214714489, 0.3119921755895335, 0.32324361227193243, 0.3311679826497934, 0.3418404097529424, 0.35518535232066034, 0.3531381941323365, 0.34530508264843546, 0.36495074681219236, 0.3761650141095804, 0.3744580276229792, 0.36362499757404826, 0.3539137177269488, 0.35318360245283786, 0.35374116463904876, 0.3643037224051846, 0.34645655110686285, 0.3383468269545239, 0.33966007205129506, 0.337417612991295, 0.3297463073381895, 0.3239581937394415, 0.33034477341559554, 0.3435274246073097, 0.3435274246073097, 0.3614994938895382, 0.39328052729208657, 0.38144275495608143, 0.3827573889880464, 0.39788640798686187, 0.4165076119538604, 0.43157763471579375, 0.44306169181419197, 0.4450529474993351, 0.48706667456217456, 0.6604168323198261, 0.594495402203466, 0.5863242430563474, 0.6546719138136232, 0.6906829377219961, 0.7181391150231395, 0.7181391150231395, 0.6591843694635191, 0.6918595411085441, 0.7611595558021818, 0.8399929232138983, 0.8323200057843444, 0.7500412469348128, 0.6476867667148188, 0.6120894278219632, 0.632049063570846, 0.6649294478673824, 0.6546354357115838, 0.6065382932635756, 0.7573678166151381, 0.8926414259936928, 0.8620011543023292, 0.839998517596536, 0.8702513477190162, 0.8053118836269128, 0.7264846464712643, 0.6808823499959393], \"yaxis\": \"y\"}, {\"name\": \"fprice\", \"type\": \"scatter\", \"x\": [20191125, 20191126, 20191127, 20191129, 20191202, 20191203, 20191204, 20191205, 20191206, 20191209, 20191210, 20191211, 20191212, 20191213, 20191216, 20191217, 20191218, 20191219, 20191220, 20191223, 20191224, 20191226, 20191227, 20191230, 20191231, 20200102, 20200103, 20200106, 20200107, 20200108, 20200109, 20200110, 20200113, 20200114, 20200115, 20200116, 20200117, 20200121, 20200122, 20200123, 20200124, 20200127, 20200128, 20200129, 20200130, 20200131, 20200203, 20200204, 20200205, 20200206, 20200207, 20200210, 20200211, 20200212, 20200213, 20200214, 20200218, 20200219, 20200220, 20200221, 20200221, 20200224, 20200225, 20200226, 20200227, 20200228, 20200302, 20200303, 20200304, 20200305, 20200306, 20200309, 20200310, 20200311, 20200312, 20200313, 20200316, 20200316, 20200317, 20200318, 20200319, 20200320, 20200323, 20200324, 20200325, 20200326, 20200327, 20200330, 20200331, 20200401, 20200402, 20200403, 20200406, 20200407, 20200408, 20200409, 20200413, 20200414], \"y\": [56.88, 57.32, 57.19, 54.45, 55.17, 55.19, 57.21, 57.26, 57.92, 57.88, 58.15, 57.58, 57.95, 58.8, 59.02, 59.6, 59.69, 59.97, 59.55, 59.68, 60.26, 60.73, 60.79, 60.66, 59.97, 60.24, 62.02, 62.23, 61.81, 58.92, 58.99, 58.63, 57.82, 58.02, 57.58, 58.21, 58.3, 58.16, 56.66, 55.54, 54.12, 53.13, 53.48, 53.42, 52.27, 51.77, 50.45, 50.01, 51.13, 51.37, 50.82, 50.03, 50.45, 51.68, 51.93, 52.6, 52.58, 53.74, 54.06, 53.5, 53.5, 51.58, 50.06, 48.88, 47.29, 44.94, 46.92, 47.33, 46.95, 46.06, 41.51, 31.47, 34.73, 33.39, 31.98, 32.11, 29.0, 29.0, 27.33, 20.83, 25.91, 22.63, 23.36, 24.01, 24.49, 22.6, 21.51, 20.09, 20.48, 20.31, 25.32, 28.34, 26.08, 23.63, 25.09, 22.76, 22.41, 20.11], \"yaxis\": \"y2\"}],\n",
       "                        {\"autosize\": true, \"hovermode\": \"x\", \"legend\": {\"orientation\": \"h\", \"x\": 0, \"y\": 1.1}, \"margin\": {\"b\": 100}, \"modebar\": {\"bgcolor\": \"grey\", \"orientation\": \"v\"}, \"spikedistance\": 1000, \"template\": {\"data\": {\"bar\": [{\"error_x\": {\"color\": \"#2a3f5f\"}, \"error_y\": {\"color\": \"#2a3f5f\"}, \"marker\": {\"line\": {\"color\": \"#E5ECF6\", \"width\": 0.5}}, \"type\": \"bar\"}], \"barpolar\": [{\"marker\": {\"line\": {\"color\": \"#E5ECF6\", \"width\": 0.5}}, \"type\": \"barpolar\"}], \"carpet\": [{\"aaxis\": {\"endlinecolor\": \"#2a3f5f\", \"gridcolor\": \"white\", \"linecolor\": \"white\", \"minorgridcolor\": \"white\", \"startlinecolor\": \"#2a3f5f\"}, \"baxis\": {\"endlinecolor\": \"#2a3f5f\", \"gridcolor\": \"white\", \"linecolor\": \"white\", \"minorgridcolor\": \"white\", \"startlinecolor\": \"#2a3f5f\"}, \"type\": \"carpet\"}], \"choropleth\": [{\"colorbar\": {\"outlinewidth\": 0, \"ticks\": \"\"}, \"type\": \"choropleth\"}], \"contour\": [{\"colorbar\": {\"outlinewidth\": 0, \"ticks\": \"\"}, \"colorscale\": [[0.0, \"#0d0887\"], [0.1111111111111111, \"#46039f\"], [0.2222222222222222, \"#7201a8\"], [0.3333333333333333, \"#9c179e\"], [0.4444444444444444, \"#bd3786\"], [0.5555555555555556, \"#d8576b\"], [0.6666666666666666, \"#ed7953\"], [0.7777777777777778, \"#fb9f3a\"], [0.8888888888888888, \"#fdca26\"], [1.0, \"#f0f921\"]], \"type\": \"contour\"}], \"contourcarpet\": [{\"colorbar\": {\"outlinewidth\": 0, \"ticks\": \"\"}, \"type\": \"contourcarpet\"}], \"heatmap\": [{\"colorbar\": {\"outlinewidth\": 0, \"ticks\": \"\"}, \"colorscale\": [[0.0, \"#0d0887\"], [0.1111111111111111, \"#46039f\"], [0.2222222222222222, \"#7201a8\"], [0.3333333333333333, \"#9c179e\"], [0.4444444444444444, \"#bd3786\"], [0.5555555555555556, \"#d8576b\"], [0.6666666666666666, \"#ed7953\"], [0.7777777777777778, \"#fb9f3a\"], [0.8888888888888888, \"#fdca26\"], [1.0, \"#f0f921\"]], \"type\": \"heatmap\"}], \"heatmapgl\": [{\"colorbar\": {\"outlinewidth\": 0, \"ticks\": \"\"}, \"colorscale\": [[0.0, \"#0d0887\"], [0.1111111111111111, \"#46039f\"], [0.2222222222222222, \"#7201a8\"], [0.3333333333333333, \"#9c179e\"], [0.4444444444444444, \"#bd3786\"], [0.5555555555555556, \"#d8576b\"], [0.6666666666666666, \"#ed7953\"], [0.7777777777777778, \"#fb9f3a\"], [0.8888888888888888, \"#fdca26\"], [1.0, \"#f0f921\"]], \"type\": \"heatmapgl\"}], \"histogram\": [{\"marker\": {\"colorbar\": {\"outlinewidth\": 0, \"ticks\": \"\"}}, \"type\": \"histogram\"}], \"histogram2d\": [{\"colorbar\": {\"outlinewidth\": 0, \"ticks\": \"\"}, \"colorscale\": [[0.0, \"#0d0887\"], [0.1111111111111111, \"#46039f\"], [0.2222222222222222, \"#7201a8\"], [0.3333333333333333, \"#9c179e\"], [0.4444444444444444, \"#bd3786\"], [0.5555555555555556, \"#d8576b\"], [0.6666666666666666, \"#ed7953\"], [0.7777777777777778, \"#fb9f3a\"], [0.8888888888888888, \"#fdca26\"], [1.0, \"#f0f921\"]], \"type\": \"histogram2d\"}], \"histogram2dcontour\": [{\"colorbar\": {\"outlinewidth\": 0, \"ticks\": \"\"}, \"colorscale\": [[0.0, \"#0d0887\"], [0.1111111111111111, \"#46039f\"], [0.2222222222222222, \"#7201a8\"], [0.3333333333333333, \"#9c179e\"], [0.4444444444444444, \"#bd3786\"], [0.5555555555555556, \"#d8576b\"], [0.6666666666666666, \"#ed7953\"], [0.7777777777777778, \"#fb9f3a\"], [0.8888888888888888, \"#fdca26\"], [1.0, \"#f0f921\"]], \"type\": \"histogram2dcontour\"}], \"mesh3d\": [{\"colorbar\": {\"outlinewidth\": 0, \"ticks\": \"\"}, \"type\": \"mesh3d\"}], \"parcoords\": [{\"line\": {\"colorbar\": {\"outlinewidth\": 0, \"ticks\": \"\"}}, \"type\": \"parcoords\"}], \"pie\": [{\"automargin\": true, \"type\": \"pie\"}], \"scatter\": [{\"marker\": {\"colorbar\": {\"outlinewidth\": 0, \"ticks\": \"\"}}, \"type\": \"scatter\"}], \"scatter3d\": [{\"line\": {\"colorbar\": {\"outlinewidth\": 0, \"ticks\": \"\"}}, \"marker\": {\"colorbar\": {\"outlinewidth\": 0, \"ticks\": \"\"}}, \"type\": \"scatter3d\"}], \"scattercarpet\": [{\"marker\": {\"colorbar\": {\"outlinewidth\": 0, \"ticks\": \"\"}}, \"type\": \"scattercarpet\"}], \"scattergeo\": [{\"marker\": {\"colorbar\": {\"outlinewidth\": 0, \"ticks\": \"\"}}, \"type\": \"scattergeo\"}], \"scattergl\": [{\"marker\": {\"colorbar\": {\"outlinewidth\": 0, \"ticks\": \"\"}}, \"type\": \"scattergl\"}], \"scattermapbox\": [{\"marker\": {\"colorbar\": {\"outlinewidth\": 0, \"ticks\": \"\"}}, \"type\": \"scattermapbox\"}], \"scatterpolar\": [{\"marker\": {\"colorbar\": {\"outlinewidth\": 0, \"ticks\": \"\"}}, \"type\": \"scatterpolar\"}], \"scatterpolargl\": [{\"marker\": {\"colorbar\": {\"outlinewidth\": 0, \"ticks\": \"\"}}, \"type\": \"scatterpolargl\"}], \"scatterternary\": [{\"marker\": {\"colorbar\": {\"outlinewidth\": 0, \"ticks\": \"\"}}, \"type\": \"scatterternary\"}], \"surface\": [{\"colorbar\": {\"outlinewidth\": 0, \"ticks\": \"\"}, \"colorscale\": [[0.0, \"#0d0887\"], [0.1111111111111111, \"#46039f\"], [0.2222222222222222, \"#7201a8\"], [0.3333333333333333, \"#9c179e\"], [0.4444444444444444, \"#bd3786\"], [0.5555555555555556, \"#d8576b\"], [0.6666666666666666, \"#ed7953\"], [0.7777777777777778, \"#fb9f3a\"], [0.8888888888888888, \"#fdca26\"], [1.0, \"#f0f921\"]], \"type\": \"surface\"}], \"table\": [{\"cells\": {\"fill\": {\"color\": \"#EBF0F8\"}, \"line\": {\"color\": \"white\"}}, \"header\": {\"fill\": {\"color\": \"#C8D4E3\"}, \"line\": {\"color\": \"white\"}}, \"type\": \"table\"}]}, \"layout\": {\"annotationdefaults\": {\"arrowcolor\": \"#2a3f5f\", \"arrowhead\": 0, \"arrowwidth\": 1}, \"coloraxis\": {\"colorbar\": {\"outlinewidth\": 0, \"ticks\": \"\"}}, \"colorscale\": {\"diverging\": [[0, \"#8e0152\"], [0.1, \"#c51b7d\"], [0.2, \"#de77ae\"], [0.3, \"#f1b6da\"], [0.4, \"#fde0ef\"], [0.5, \"#f7f7f7\"], [0.6, \"#e6f5d0\"], [0.7, \"#b8e186\"], [0.8, \"#7fbc41\"], [0.9, \"#4d9221\"], [1, \"#276419\"]], \"sequential\": [[0.0, \"#0d0887\"], [0.1111111111111111, \"#46039f\"], [0.2222222222222222, \"#7201a8\"], [0.3333333333333333, \"#9c179e\"], [0.4444444444444444, \"#bd3786\"], [0.5555555555555556, \"#d8576b\"], [0.6666666666666666, \"#ed7953\"], [0.7777777777777778, \"#fb9f3a\"], [0.8888888888888888, \"#fdca26\"], [1.0, \"#f0f921\"]], \"sequentialminus\": [[0.0, \"#0d0887\"], [0.1111111111111111, \"#46039f\"], [0.2222222222222222, \"#7201a8\"], [0.3333333333333333, \"#9c179e\"], [0.4444444444444444, \"#bd3786\"], [0.5555555555555556, \"#d8576b\"], [0.6666666666666666, \"#ed7953\"], [0.7777777777777778, \"#fb9f3a\"], [0.8888888888888888, \"#fdca26\"], [1.0, \"#f0f921\"]]}, \"colorway\": [\"#636efa\", \"#EF553B\", \"#00cc96\", \"#ab63fa\", \"#FFA15A\", \"#19d3f3\", \"#FF6692\", \"#B6E880\", \"#FF97FF\", \"#FECB52\"], \"font\": {\"color\": \"#2a3f5f\"}, \"geo\": {\"bgcolor\": \"white\", \"lakecolor\": \"white\", \"landcolor\": \"#E5ECF6\", \"showlakes\": true, \"showland\": true, \"subunitcolor\": \"white\"}, \"hoverlabel\": {\"align\": \"left\"}, \"hovermode\": \"closest\", \"mapbox\": {\"style\": \"light\"}, \"paper_bgcolor\": \"white\", \"plot_bgcolor\": \"#E5ECF6\", \"polar\": {\"angularaxis\": {\"gridcolor\": \"white\", \"linecolor\": \"white\", \"ticks\": \"\"}, \"bgcolor\": \"#E5ECF6\", \"radialaxis\": {\"gridcolor\": \"white\", \"linecolor\": \"white\", \"ticks\": \"\"}}, \"scene\": {\"xaxis\": {\"backgroundcolor\": \"#E5ECF6\", \"gridcolor\": \"white\", \"gridwidth\": 2, \"linecolor\": \"white\", \"showbackground\": true, \"ticks\": \"\", \"zerolinecolor\": \"white\"}, \"yaxis\": {\"backgroundcolor\": \"#E5ECF6\", \"gridcolor\": \"white\", \"gridwidth\": 2, \"linecolor\": \"white\", \"showbackground\": true, \"ticks\": \"\", \"zerolinecolor\": \"white\"}, \"zaxis\": {\"backgroundcolor\": \"#E5ECF6\", \"gridcolor\": \"white\", \"gridwidth\": 2, \"linecolor\": \"white\", \"showbackground\": true, \"ticks\": \"\", \"zerolinecolor\": \"white\"}}, \"shapedefaults\": {\"line\": {\"color\": \"#2a3f5f\"}}, \"ternary\": {\"aaxis\": {\"gridcolor\": \"white\", \"linecolor\": \"white\", \"ticks\": \"\"}, \"baxis\": {\"gridcolor\": \"white\", \"linecolor\": \"white\", \"ticks\": \"\"}, \"bgcolor\": \"#E5ECF6\", \"caxis\": {\"gridcolor\": \"white\", \"linecolor\": \"white\", \"ticks\": \"\"}}, \"title\": {\"x\": 0.05}, \"xaxis\": {\"automargin\": true, \"gridcolor\": \"white\", \"linecolor\": \"white\", \"ticks\": \"\", \"title\": {\"standoff\": 15}, \"zerolinecolor\": \"white\", \"zerolinewidth\": 2}, \"yaxis\": {\"automargin\": true, \"gridcolor\": \"white\", \"linecolor\": \"white\", \"ticks\": \"\", \"title\": {\"standoff\": 15}, \"zerolinecolor\": \"white\", \"zerolinewidth\": 2}}}, \"title\": {\"text\": \"CLK20 Pseudo-Volatility vs Price\", \"x\": 0.5, \"xanchor\": \"center\", \"y\": 0.9, \"yanchor\": \"top\"}, \"xaxis\": {\"showspikes\": true, \"spikedash\": \"solid\", \"spikemode\": \"toaxis+across\", \"spikethickness\": 1, \"tickangle\": 45, \"ticktext\": [20191125, 20191202, 20191206, 20191212, 20191218, 20191224, 20191231, 20200107, 20200113, 20200117, 20200124, 20200130, 20200205, 20200211, 20200218, 20200221, 20200227, 20200304, 20200310, 20200316, 20200319, 20200325, 20200331, 20200406, 20200413], \"tickvals\": [20191125, 20191202, 20191206, 20191212, 20191218, 20191224, 20191231, 20200107, 20200113, 20200117, 20200124, 20200130, 20200205, 20200211, 20200218, 20200221, 20200227, 20200304, 20200310, 20200316, 20200319, 20200325, 20200331, 20200406, 20200413], \"type\": \"category\"}, \"yaxis\": {\"showspikes\": true, \"spikedash\": \"solid\", \"spikemode\": \"toaxis+across\", \"spikethickness\": 1, \"title\": {\"text\": \"Implied Volatility\"}}, \"yaxis2\": {\"overlaying\": \"y\", \"side\": \"right\", \"title\": {\"text\": \"Futures Close\"}}},\n",
       "                        {\"responsive\": true}\n",
       "                    ).then(function(){\n",
       "                            \n",
       "var gd = document.getElementById('b3a835c0-0e13-424a-80ee-88cebe3a6310');\n",
       "var x = new MutationObserver(function (mutations, observer) {{\n",
       "        var display = window.getComputedStyle(gd).display;\n",
       "        if (!display || display === 'none') {{\n",
       "            console.log([gd, 'removed!']);\n",
       "            Plotly.purge(gd);\n",
       "            observer.disconnect();\n",
       "        }}\n",
       "}});\n",
       "\n",
       "// Listen for the removal of the full notebook cells\n",
       "var notebookContainer = gd.closest('#notebook-container');\n",
       "if (notebookContainer) {{\n",
       "    x.observe(notebookContainer, {childList: true});\n",
       "}}\n",
       "\n",
       "// Listen for the clearing of the current output cell\n",
       "var outputEl = gd.closest('.output');\n",
       "if (outputEl) {{\n",
       "    x.observe(outputEl, {childList: true});\n",
       "}}\n",
       "\n",
       "                        })\n",
       "                };\n",
       "                });\n",
       "            </script>\n",
       "        </div>"
      ]
     },
     "metadata": {},
     "output_type": "display_data"
    },
    {
     "data": {
      "application/vnd.plotly.v1+json": {
       "config": {
        "linkText": "Export to plot.ly",
        "plotlyServerURL": "https://plot.ly",
        "showLink": false
       },
       "data": [
        {
         "name": "iv",
         "type": "scatter",
         "x": [
          20191223,
          20191224,
          20191226,
          20191227,
          20191230,
          20191231,
          20200102,
          20200103,
          20200106,
          20200107,
          20200108,
          20200109,
          20200110,
          20200113,
          20200114,
          20200115,
          20200116,
          20200117,
          20200121,
          20200122,
          20200123,
          20200124,
          20200127,
          20200128,
          20200129,
          20200130,
          20200131,
          20200203,
          20200204,
          20200205,
          20200206,
          20200207,
          20200210,
          20200211,
          20200212,
          20200213,
          20200214,
          20200218,
          20200219,
          20200220,
          20200221,
          20200224,
          20200225,
          20200226,
          20200227,
          20200228,
          20200302,
          20200303,
          20200304,
          20200305,
          20200306,
          20200309,
          20200310,
          20200311,
          20200312,
          20200313,
          20200316,
          20200317,
          20200318,
          20200319,
          20200320,
          20200323,
          20200324,
          20200325,
          20200326,
          20200327,
          20200330,
          20200331,
          20200401,
          20200402,
          20200403,
          20200406,
          20200407,
          20200408,
          20200409,
          20200413,
          20200414,
          20200415,
          20200416,
          20200417,
          20200420,
          20200421,
          20200422,
          20200423,
          20200423,
          20200424,
          20200427,
          20200428,
          20200429,
          20200430,
          20200501,
          20200504,
          20200505,
          20200506,
          20200507,
          20200508,
          20200511,
          20200512
         ],
         "y": [
          0.31096179771881954,
          0.30096031171304216,
          0.2965891779611005,
          0.2942958481436575,
          0.30362169168978204,
          0.31083868954044963,
          0.31036581368743427,
          0.3261780314290269,
          0.35276777568373696,
          0.3451457024235786,
          0.3481400273358802,
          0.3364222807518102,
          0.32411171910913006,
          0.3262650691817074,
          0.3167947422516698,
          0.31297451444404445,
          0.3066184720032239,
          0.30730333447661096,
          0.31170947506105506,
          0.3206546670148266,
          0.32672960339475327,
          0.33442993525569237,
          0.34387664682645463,
          0.3402135029197864,
          0.3323279581068732,
          0.3513438877952569,
          0.36052236887855016,
          0.3582337076892578,
          0.34722466033002625,
          0.3369572795095736,
          0.33917682812862715,
          0.33980458221680254,
          0.3474180108176391,
          0.3362977933214462,
          0.32871480633523525,
          0.33022999768002376,
          0.32569762861475904,
          0.3223387202417241,
          0.31513745867340226,
          0.3224409662231346,
          0.33313881946226,
          0.3423131845866825,
          0.3639327878501136,
          0.35529620987825633,
          0.3574948088247205,
          0.3670201421072944,
          0.3838746133267481,
          0.3997667722959707,
          0.40774693184830524,
          0.40862267951240505,
          0.4317517733520141,
          0.5665869771523535,
          0.5203143278731149,
          0.5180351824420575,
          0.5674444501933684,
          0.5920855353497557,
          0.6028454417025956,
          0.5838338729413971,
          0.6112342538983097,
          0.667316681815121,
          0.7384940293625574,
          0.7347936812446243,
          0.6822665735072652,
          0.5750779064831508,
          0.5596894550038107,
          0.5917108349136748,
          0.6121387780039399,
          0.6025477914935334,
          0.5774884057698167,
          0.6854854264411627,
          0.7386950484315905,
          0.705120982077991,
          0.6626464089839303,
          0.673251927621111,
          0.6583793380085367,
          0.5797331459122079,
          0.5674997563587366,
          0.5816015345136877,
          0.5599738745158455,
          0.5257778505058431,
          0.8693749642265037,
          1.3318396690577252,
          0.7474369701033644,
          0.693401519094719,
          0.693401519094719,
          0.8283656667508803,
          0.889677772693385,
          0.920084389382684,
          0.7461075593699245,
          0.6831919409978278,
          0.7030136835012336,
          0.625225292712965,
          0.7514749712685913,
          0.7065958988239729,
          0.8138199178266425,
          0.7049747048483668,
          0.7860069340838676,
          0.7411389100685212
         ],
         "yaxis": "y"
        },
        {
         "name": "fprice",
         "type": "scatter",
         "x": [
          20191223,
          20191224,
          20191226,
          20191227,
          20191230,
          20191231,
          20200102,
          20200103,
          20200106,
          20200107,
          20200108,
          20200109,
          20200110,
          20200113,
          20200114,
          20200115,
          20200116,
          20200117,
          20200121,
          20200122,
          20200123,
          20200124,
          20200127,
          20200128,
          20200129,
          20200130,
          20200131,
          20200203,
          20200204,
          20200205,
          20200206,
          20200207,
          20200210,
          20200211,
          20200212,
          20200213,
          20200214,
          20200218,
          20200219,
          20200220,
          20200221,
          20200224,
          20200225,
          20200226,
          20200227,
          20200228,
          20200302,
          20200303,
          20200304,
          20200305,
          20200306,
          20200309,
          20200310,
          20200311,
          20200312,
          20200313,
          20200316,
          20200317,
          20200318,
          20200319,
          20200320,
          20200323,
          20200324,
          20200325,
          20200326,
          20200327,
          20200330,
          20200331,
          20200401,
          20200402,
          20200403,
          20200406,
          20200407,
          20200408,
          20200409,
          20200413,
          20200414,
          20200415,
          20200416,
          20200417,
          20200420,
          20200421,
          20200422,
          20200423,
          20200423,
          20200424,
          20200427,
          20200428,
          20200429,
          20200430,
          20200501,
          20200504,
          20200505,
          20200506,
          20200507,
          20200508,
          20200511,
          20200512
         ],
         "y": [
          59.2,
          59.78,
          60.21,
          60.28,
          60.14,
          59.44,
          59.77,
          61.46,
          61.68,
          61.32,
          58.52,
          58.63,
          58.32,
          57.56,
          57.76,
          57.3,
          57.88,
          57.96,
          57.85,
          56.43,
          55.34,
          53.91,
          52.97,
          53.33,
          53.31,
          52.23,
          51.8,
          50.58,
          50.19,
          51.31,
          51.58,
          51.04,
          50.25,
          50.68,
          51.91,
          52.15,
          52.79,
          52.82,
          53.9,
          54.13,
          53.54,
          51.67,
          50.13,
          48.96,
          47.44,
          45.1,
          47.05,
          47.45,
          47.11,
          46.21,
          41.77,
          31.94,
          35.14,
          33.86,
          32.51,
          32.59,
          29.55,
          28.05,
          21.93,
          26.79,
          24.36,
          25.48,
          26.2,
          27.16,
          25.71,
          25.15,
          24.09,
          24.51,
          23.74,
          28.05,
          30.9,
          29.98,
          28.69,
          30.17,
          28.82,
          29.26,
          27.4,
          26.04,
          25.53,
          25.03,
          20.43,
          11.57,
          13.78,
          16.5,
          16.5,
          16.94,
          12.78,
          12.34,
          15.06,
          18.84,
          19.78,
          20.39,
          24.56,
          23.99,
          23.55,
          24.74,
          24.14,
          25.78
         ],
         "yaxis": "y2"
        }
       ],
       "layout": {
        "autosize": true,
        "hovermode": "x",
        "legend": {
         "orientation": "h",
         "x": 0,
         "y": 1.1
        },
        "margin": {
         "b": 100
        },
        "modebar": {
         "bgcolor": "grey",
         "orientation": "v"
        },
        "spikedistance": 1000,
        "template": {
         "data": {
          "bar": [
           {
            "error_x": {
             "color": "#2a3f5f"
            },
            "error_y": {
             "color": "#2a3f5f"
            },
            "marker": {
             "line": {
              "color": "#E5ECF6",
              "width": 0.5
             }
            },
            "type": "bar"
           }
          ],
          "barpolar": [
           {
            "marker": {
             "line": {
              "color": "#E5ECF6",
              "width": 0.5
             }
            },
            "type": "barpolar"
           }
          ],
          "carpet": [
           {
            "aaxis": {
             "endlinecolor": "#2a3f5f",
             "gridcolor": "white",
             "linecolor": "white",
             "minorgridcolor": "white",
             "startlinecolor": "#2a3f5f"
            },
            "baxis": {
             "endlinecolor": "#2a3f5f",
             "gridcolor": "white",
             "linecolor": "white",
             "minorgridcolor": "white",
             "startlinecolor": "#2a3f5f"
            },
            "type": "carpet"
           }
          ],
          "choropleth": [
           {
            "colorbar": {
             "outlinewidth": 0,
             "ticks": ""
            },
            "type": "choropleth"
           }
          ],
          "contour": [
           {
            "colorbar": {
             "outlinewidth": 0,
             "ticks": ""
            },
            "colorscale": [
             [
              0,
              "#0d0887"
             ],
             [
              0.1111111111111111,
              "#46039f"
             ],
             [
              0.2222222222222222,
              "#7201a8"
             ],
             [
              0.3333333333333333,
              "#9c179e"
             ],
             [
              0.4444444444444444,
              "#bd3786"
             ],
             [
              0.5555555555555556,
              "#d8576b"
             ],
             [
              0.6666666666666666,
              "#ed7953"
             ],
             [
              0.7777777777777778,
              "#fb9f3a"
             ],
             [
              0.8888888888888888,
              "#fdca26"
             ],
             [
              1,
              "#f0f921"
             ]
            ],
            "type": "contour"
           }
          ],
          "contourcarpet": [
           {
            "colorbar": {
             "outlinewidth": 0,
             "ticks": ""
            },
            "type": "contourcarpet"
           }
          ],
          "heatmap": [
           {
            "colorbar": {
             "outlinewidth": 0,
             "ticks": ""
            },
            "colorscale": [
             [
              0,
              "#0d0887"
             ],
             [
              0.1111111111111111,
              "#46039f"
             ],
             [
              0.2222222222222222,
              "#7201a8"
             ],
             [
              0.3333333333333333,
              "#9c179e"
             ],
             [
              0.4444444444444444,
              "#bd3786"
             ],
             [
              0.5555555555555556,
              "#d8576b"
             ],
             [
              0.6666666666666666,
              "#ed7953"
             ],
             [
              0.7777777777777778,
              "#fb9f3a"
             ],
             [
              0.8888888888888888,
              "#fdca26"
             ],
             [
              1,
              "#f0f921"
             ]
            ],
            "type": "heatmap"
           }
          ],
          "heatmapgl": [
           {
            "colorbar": {
             "outlinewidth": 0,
             "ticks": ""
            },
            "colorscale": [
             [
              0,
              "#0d0887"
             ],
             [
              0.1111111111111111,
              "#46039f"
             ],
             [
              0.2222222222222222,
              "#7201a8"
             ],
             [
              0.3333333333333333,
              "#9c179e"
             ],
             [
              0.4444444444444444,
              "#bd3786"
             ],
             [
              0.5555555555555556,
              "#d8576b"
             ],
             [
              0.6666666666666666,
              "#ed7953"
             ],
             [
              0.7777777777777778,
              "#fb9f3a"
             ],
             [
              0.8888888888888888,
              "#fdca26"
             ],
             [
              1,
              "#f0f921"
             ]
            ],
            "type": "heatmapgl"
           }
          ],
          "histogram": [
           {
            "marker": {
             "colorbar": {
              "outlinewidth": 0,
              "ticks": ""
             }
            },
            "type": "histogram"
           }
          ],
          "histogram2d": [
           {
            "colorbar": {
             "outlinewidth": 0,
             "ticks": ""
            },
            "colorscale": [
             [
              0,
              "#0d0887"
             ],
             [
              0.1111111111111111,
              "#46039f"
             ],
             [
              0.2222222222222222,
              "#7201a8"
             ],
             [
              0.3333333333333333,
              "#9c179e"
             ],
             [
              0.4444444444444444,
              "#bd3786"
             ],
             [
              0.5555555555555556,
              "#d8576b"
             ],
             [
              0.6666666666666666,
              "#ed7953"
             ],
             [
              0.7777777777777778,
              "#fb9f3a"
             ],
             [
              0.8888888888888888,
              "#fdca26"
             ],
             [
              1,
              "#f0f921"
             ]
            ],
            "type": "histogram2d"
           }
          ],
          "histogram2dcontour": [
           {
            "colorbar": {
             "outlinewidth": 0,
             "ticks": ""
            },
            "colorscale": [
             [
              0,
              "#0d0887"
             ],
             [
              0.1111111111111111,
              "#46039f"
             ],
             [
              0.2222222222222222,
              "#7201a8"
             ],
             [
              0.3333333333333333,
              "#9c179e"
             ],
             [
              0.4444444444444444,
              "#bd3786"
             ],
             [
              0.5555555555555556,
              "#d8576b"
             ],
             [
              0.6666666666666666,
              "#ed7953"
             ],
             [
              0.7777777777777778,
              "#fb9f3a"
             ],
             [
              0.8888888888888888,
              "#fdca26"
             ],
             [
              1,
              "#f0f921"
             ]
            ],
            "type": "histogram2dcontour"
           }
          ],
          "mesh3d": [
           {
            "colorbar": {
             "outlinewidth": 0,
             "ticks": ""
            },
            "type": "mesh3d"
           }
          ],
          "parcoords": [
           {
            "line": {
             "colorbar": {
              "outlinewidth": 0,
              "ticks": ""
             }
            },
            "type": "parcoords"
           }
          ],
          "pie": [
           {
            "automargin": true,
            "type": "pie"
           }
          ],
          "scatter": [
           {
            "marker": {
             "colorbar": {
              "outlinewidth": 0,
              "ticks": ""
             }
            },
            "type": "scatter"
           }
          ],
          "scatter3d": [
           {
            "line": {
             "colorbar": {
              "outlinewidth": 0,
              "ticks": ""
             }
            },
            "marker": {
             "colorbar": {
              "outlinewidth": 0,
              "ticks": ""
             }
            },
            "type": "scatter3d"
           }
          ],
          "scattercarpet": [
           {
            "marker": {
             "colorbar": {
              "outlinewidth": 0,
              "ticks": ""
             }
            },
            "type": "scattercarpet"
           }
          ],
          "scattergeo": [
           {
            "marker": {
             "colorbar": {
              "outlinewidth": 0,
              "ticks": ""
             }
            },
            "type": "scattergeo"
           }
          ],
          "scattergl": [
           {
            "marker": {
             "colorbar": {
              "outlinewidth": 0,
              "ticks": ""
             }
            },
            "type": "scattergl"
           }
          ],
          "scattermapbox": [
           {
            "marker": {
             "colorbar": {
              "outlinewidth": 0,
              "ticks": ""
             }
            },
            "type": "scattermapbox"
           }
          ],
          "scatterpolar": [
           {
            "marker": {
             "colorbar": {
              "outlinewidth": 0,
              "ticks": ""
             }
            },
            "type": "scatterpolar"
           }
          ],
          "scatterpolargl": [
           {
            "marker": {
             "colorbar": {
              "outlinewidth": 0,
              "ticks": ""
             }
            },
            "type": "scatterpolargl"
           }
          ],
          "scatterternary": [
           {
            "marker": {
             "colorbar": {
              "outlinewidth": 0,
              "ticks": ""
             }
            },
            "type": "scatterternary"
           }
          ],
          "surface": [
           {
            "colorbar": {
             "outlinewidth": 0,
             "ticks": ""
            },
            "colorscale": [
             [
              0,
              "#0d0887"
             ],
             [
              0.1111111111111111,
              "#46039f"
             ],
             [
              0.2222222222222222,
              "#7201a8"
             ],
             [
              0.3333333333333333,
              "#9c179e"
             ],
             [
              0.4444444444444444,
              "#bd3786"
             ],
             [
              0.5555555555555556,
              "#d8576b"
             ],
             [
              0.6666666666666666,
              "#ed7953"
             ],
             [
              0.7777777777777778,
              "#fb9f3a"
             ],
             [
              0.8888888888888888,
              "#fdca26"
             ],
             [
              1,
              "#f0f921"
             ]
            ],
            "type": "surface"
           }
          ],
          "table": [
           {
            "cells": {
             "fill": {
              "color": "#EBF0F8"
             },
             "line": {
              "color": "white"
             }
            },
            "header": {
             "fill": {
              "color": "#C8D4E3"
             },
             "line": {
              "color": "white"
             }
            },
            "type": "table"
           }
          ]
         },
         "layout": {
          "annotationdefaults": {
           "arrowcolor": "#2a3f5f",
           "arrowhead": 0,
           "arrowwidth": 1
          },
          "coloraxis": {
           "colorbar": {
            "outlinewidth": 0,
            "ticks": ""
           }
          },
          "colorscale": {
           "diverging": [
            [
             0,
             "#8e0152"
            ],
            [
             0.1,
             "#c51b7d"
            ],
            [
             0.2,
             "#de77ae"
            ],
            [
             0.3,
             "#f1b6da"
            ],
            [
             0.4,
             "#fde0ef"
            ],
            [
             0.5,
             "#f7f7f7"
            ],
            [
             0.6,
             "#e6f5d0"
            ],
            [
             0.7,
             "#b8e186"
            ],
            [
             0.8,
             "#7fbc41"
            ],
            [
             0.9,
             "#4d9221"
            ],
            [
             1,
             "#276419"
            ]
           ],
           "sequential": [
            [
             0,
             "#0d0887"
            ],
            [
             0.1111111111111111,
             "#46039f"
            ],
            [
             0.2222222222222222,
             "#7201a8"
            ],
            [
             0.3333333333333333,
             "#9c179e"
            ],
            [
             0.4444444444444444,
             "#bd3786"
            ],
            [
             0.5555555555555556,
             "#d8576b"
            ],
            [
             0.6666666666666666,
             "#ed7953"
            ],
            [
             0.7777777777777778,
             "#fb9f3a"
            ],
            [
             0.8888888888888888,
             "#fdca26"
            ],
            [
             1,
             "#f0f921"
            ]
           ],
           "sequentialminus": [
            [
             0,
             "#0d0887"
            ],
            [
             0.1111111111111111,
             "#46039f"
            ],
            [
             0.2222222222222222,
             "#7201a8"
            ],
            [
             0.3333333333333333,
             "#9c179e"
            ],
            [
             0.4444444444444444,
             "#bd3786"
            ],
            [
             0.5555555555555556,
             "#d8576b"
            ],
            [
             0.6666666666666666,
             "#ed7953"
            ],
            [
             0.7777777777777778,
             "#fb9f3a"
            ],
            [
             0.8888888888888888,
             "#fdca26"
            ],
            [
             1,
             "#f0f921"
            ]
           ]
          },
          "colorway": [
           "#636efa",
           "#EF553B",
           "#00cc96",
           "#ab63fa",
           "#FFA15A",
           "#19d3f3",
           "#FF6692",
           "#B6E880",
           "#FF97FF",
           "#FECB52"
          ],
          "font": {
           "color": "#2a3f5f"
          },
          "geo": {
           "bgcolor": "white",
           "lakecolor": "white",
           "landcolor": "#E5ECF6",
           "showlakes": true,
           "showland": true,
           "subunitcolor": "white"
          },
          "hoverlabel": {
           "align": "left"
          },
          "hovermode": "closest",
          "mapbox": {
           "style": "light"
          },
          "paper_bgcolor": "white",
          "plot_bgcolor": "#E5ECF6",
          "polar": {
           "angularaxis": {
            "gridcolor": "white",
            "linecolor": "white",
            "ticks": ""
           },
           "bgcolor": "#E5ECF6",
           "radialaxis": {
            "gridcolor": "white",
            "linecolor": "white",
            "ticks": ""
           }
          },
          "scene": {
           "xaxis": {
            "backgroundcolor": "#E5ECF6",
            "gridcolor": "white",
            "gridwidth": 2,
            "linecolor": "white",
            "showbackground": true,
            "ticks": "",
            "zerolinecolor": "white"
           },
           "yaxis": {
            "backgroundcolor": "#E5ECF6",
            "gridcolor": "white",
            "gridwidth": 2,
            "linecolor": "white",
            "showbackground": true,
            "ticks": "",
            "zerolinecolor": "white"
           },
           "zaxis": {
            "backgroundcolor": "#E5ECF6",
            "gridcolor": "white",
            "gridwidth": 2,
            "linecolor": "white",
            "showbackground": true,
            "ticks": "",
            "zerolinecolor": "white"
           }
          },
          "shapedefaults": {
           "line": {
            "color": "#2a3f5f"
           }
          },
          "ternary": {
           "aaxis": {
            "gridcolor": "white",
            "linecolor": "white",
            "ticks": ""
           },
           "baxis": {
            "gridcolor": "white",
            "linecolor": "white",
            "ticks": ""
           },
           "bgcolor": "#E5ECF6",
           "caxis": {
            "gridcolor": "white",
            "linecolor": "white",
            "ticks": ""
           }
          },
          "title": {
           "x": 0.05
          },
          "xaxis": {
           "automargin": true,
           "gridcolor": "white",
           "linecolor": "white",
           "ticks": "",
           "title": {
            "standoff": 15
           },
           "zerolinecolor": "white",
           "zerolinewidth": 2
          },
          "yaxis": {
           "automargin": true,
           "gridcolor": "white",
           "linecolor": "white",
           "ticks": "",
           "title": {
            "standoff": 15
           },
           "zerolinecolor": "white",
           "zerolinewidth": 2
          }
         }
        },
        "title": {
         "text": "CLM20 Pseudo-Volatility vs Price",
         "x": 0.5,
         "xanchor": "center",
         "y": 0.9,
         "yanchor": "top"
        },
        "xaxis": {
         "showspikes": true,
         "spikedash": "solid",
         "spikemode": "toaxis+across",
         "spikethickness": 1,
         "tickangle": 45,
         "ticktext": [
          20191223,
          20191230,
          20200106,
          20200110,
          20200116,
          20200123,
          20200129,
          20200204,
          20200210,
          20200214,
          20200221,
          20200227,
          20200304,
          20200310,
          20200316,
          20200320,
          20200326,
          20200401,
          20200407,
          20200414,
          20200420,
          20200423,
          20200429,
          20200505,
          20200511
         ],
         "tickvals": [
          20191223,
          20191230,
          20200106,
          20200110,
          20200116,
          20200123,
          20200129,
          20200204,
          20200210,
          20200214,
          20200221,
          20200227,
          20200304,
          20200310,
          20200316,
          20200320,
          20200326,
          20200401,
          20200407,
          20200414,
          20200420,
          20200423,
          20200429,
          20200505,
          20200511
         ],
         "type": "category"
        },
        "yaxis": {
         "showspikes": true,
         "spikedash": "solid",
         "spikemode": "toaxis+across",
         "spikethickness": 1,
         "title": {
          "text": "Implied Volatility"
         }
        },
        "yaxis2": {
         "overlaying": "y",
         "side": "right",
         "title": {
          "text": "Futures Close"
         }
        }
       }
      },
      "text/html": [
       "<div>\n",
       "        \n",
       "        \n",
       "            <div id=\"e12f6416-4698-4c5e-bb0f-56c55648e13a\" class=\"plotly-graph-div\" style=\"height:525px; width:100%;\"></div>\n",
       "            <script type=\"text/javascript\">\n",
       "                require([\"plotly\"], function(Plotly) {\n",
       "                    window.PLOTLYENV=window.PLOTLYENV || {};\n",
       "                    \n",
       "                if (document.getElementById(\"e12f6416-4698-4c5e-bb0f-56c55648e13a\")) {\n",
       "                    Plotly.newPlot(\n",
       "                        'e12f6416-4698-4c5e-bb0f-56c55648e13a',\n",
       "                        [{\"name\": \"iv\", \"type\": \"scatter\", \"x\": [20191223, 20191224, 20191226, 20191227, 20191230, 20191231, 20200102, 20200103, 20200106, 20200107, 20200108, 20200109, 20200110, 20200113, 20200114, 20200115, 20200116, 20200117, 20200121, 20200122, 20200123, 20200124, 20200127, 20200128, 20200129, 20200130, 20200131, 20200203, 20200204, 20200205, 20200206, 20200207, 20200210, 20200211, 20200212, 20200213, 20200214, 20200218, 20200219, 20200220, 20200221, 20200224, 20200225, 20200226, 20200227, 20200228, 20200302, 20200303, 20200304, 20200305, 20200306, 20200309, 20200310, 20200311, 20200312, 20200313, 20200316, 20200317, 20200318, 20200319, 20200320, 20200323, 20200324, 20200325, 20200326, 20200327, 20200330, 20200331, 20200401, 20200402, 20200403, 20200406, 20200407, 20200408, 20200409, 20200413, 20200414, 20200415, 20200416, 20200417, 20200420, 20200421, 20200422, 20200423, 20200423, 20200424, 20200427, 20200428, 20200429, 20200430, 20200501, 20200504, 20200505, 20200506, 20200507, 20200508, 20200511, 20200512], \"y\": [0.31096179771881954, 0.30096031171304216, 0.2965891779611005, 0.2942958481436575, 0.30362169168978204, 0.31083868954044963, 0.31036581368743427, 0.3261780314290269, 0.35276777568373696, 0.3451457024235786, 0.3481400273358802, 0.3364222807518102, 0.32411171910913006, 0.3262650691817074, 0.3167947422516698, 0.31297451444404445, 0.3066184720032239, 0.30730333447661096, 0.31170947506105506, 0.3206546670148266, 0.32672960339475327, 0.33442993525569237, 0.34387664682645463, 0.3402135029197864, 0.3323279581068732, 0.3513438877952569, 0.36052236887855016, 0.3582337076892578, 0.34722466033002625, 0.3369572795095736, 0.33917682812862715, 0.33980458221680254, 0.3474180108176391, 0.3362977933214462, 0.32871480633523525, 0.33022999768002376, 0.32569762861475904, 0.3223387202417241, 0.31513745867340226, 0.3224409662231346, 0.33313881946226, 0.3423131845866825, 0.3639327878501136, 0.35529620987825633, 0.3574948088247205, 0.3670201421072944, 0.3838746133267481, 0.3997667722959707, 0.40774693184830524, 0.40862267951240505, 0.4317517733520141, 0.5665869771523535, 0.5203143278731149, 0.5180351824420575, 0.5674444501933684, 0.5920855353497557, 0.6028454417025956, 0.5838338729413971, 0.6112342538983097, 0.667316681815121, 0.7384940293625574, 0.7347936812446243, 0.6822665735072652, 0.5750779064831508, 0.5596894550038107, 0.5917108349136748, 0.6121387780039399, 0.6025477914935334, 0.5774884057698167, 0.6854854264411627, 0.7386950484315905, 0.705120982077991, 0.6626464089839303, 0.673251927621111, 0.6583793380085367, 0.5797331459122079, 0.5674997563587366, 0.5816015345136877, 0.5599738745158455, 0.5257778505058431, 0.8693749642265037, 1.3318396690577252, 0.7474369701033644, 0.693401519094719, 0.693401519094719, 0.8283656667508803, 0.889677772693385, 0.920084389382684, 0.7461075593699245, 0.6831919409978278, 0.7030136835012336, 0.625225292712965, 0.7514749712685913, 0.7065958988239729, 0.8138199178266425, 0.7049747048483668, 0.7860069340838676, 0.7411389100685212], \"yaxis\": \"y\"}, {\"name\": \"fprice\", \"type\": \"scatter\", \"x\": [20191223, 20191224, 20191226, 20191227, 20191230, 20191231, 20200102, 20200103, 20200106, 20200107, 20200108, 20200109, 20200110, 20200113, 20200114, 20200115, 20200116, 20200117, 20200121, 20200122, 20200123, 20200124, 20200127, 20200128, 20200129, 20200130, 20200131, 20200203, 20200204, 20200205, 20200206, 20200207, 20200210, 20200211, 20200212, 20200213, 20200214, 20200218, 20200219, 20200220, 20200221, 20200224, 20200225, 20200226, 20200227, 20200228, 20200302, 20200303, 20200304, 20200305, 20200306, 20200309, 20200310, 20200311, 20200312, 20200313, 20200316, 20200317, 20200318, 20200319, 20200320, 20200323, 20200324, 20200325, 20200326, 20200327, 20200330, 20200331, 20200401, 20200402, 20200403, 20200406, 20200407, 20200408, 20200409, 20200413, 20200414, 20200415, 20200416, 20200417, 20200420, 20200421, 20200422, 20200423, 20200423, 20200424, 20200427, 20200428, 20200429, 20200430, 20200501, 20200504, 20200505, 20200506, 20200507, 20200508, 20200511, 20200512], \"y\": [59.2, 59.78, 60.21, 60.28, 60.14, 59.44, 59.77, 61.46, 61.68, 61.32, 58.52, 58.63, 58.32, 57.56, 57.76, 57.3, 57.88, 57.96, 57.85, 56.43, 55.34, 53.91, 52.97, 53.33, 53.31, 52.23, 51.8, 50.58, 50.19, 51.31, 51.58, 51.04, 50.25, 50.68, 51.91, 52.15, 52.79, 52.82, 53.9, 54.13, 53.54, 51.67, 50.13, 48.96, 47.44, 45.1, 47.05, 47.45, 47.11, 46.21, 41.77, 31.94, 35.14, 33.86, 32.51, 32.59, 29.55, 28.05, 21.93, 26.79, 24.36, 25.48, 26.2, 27.16, 25.71, 25.15, 24.09, 24.51, 23.74, 28.05, 30.9, 29.98, 28.69, 30.17, 28.82, 29.26, 27.4, 26.04, 25.53, 25.03, 20.43, 11.57, 13.78, 16.5, 16.5, 16.94, 12.78, 12.34, 15.06, 18.84, 19.78, 20.39, 24.56, 23.99, 23.55, 24.74, 24.14, 25.78], \"yaxis\": \"y2\"}],\n",
       "                        {\"autosize\": true, \"hovermode\": \"x\", \"legend\": {\"orientation\": \"h\", \"x\": 0, \"y\": 1.1}, \"margin\": {\"b\": 100}, \"modebar\": {\"bgcolor\": \"grey\", \"orientation\": \"v\"}, \"spikedistance\": 1000, \"template\": {\"data\": {\"bar\": [{\"error_x\": {\"color\": \"#2a3f5f\"}, \"error_y\": {\"color\": \"#2a3f5f\"}, \"marker\": {\"line\": {\"color\": \"#E5ECF6\", \"width\": 0.5}}, \"type\": \"bar\"}], \"barpolar\": [{\"marker\": {\"line\": {\"color\": \"#E5ECF6\", \"width\": 0.5}}, \"type\": \"barpolar\"}], \"carpet\": [{\"aaxis\": {\"endlinecolor\": \"#2a3f5f\", \"gridcolor\": \"white\", \"linecolor\": \"white\", \"minorgridcolor\": \"white\", \"startlinecolor\": \"#2a3f5f\"}, \"baxis\": {\"endlinecolor\": \"#2a3f5f\", \"gridcolor\": \"white\", \"linecolor\": \"white\", \"minorgridcolor\": \"white\", \"startlinecolor\": \"#2a3f5f\"}, \"type\": \"carpet\"}], \"choropleth\": [{\"colorbar\": {\"outlinewidth\": 0, \"ticks\": \"\"}, \"type\": \"choropleth\"}], \"contour\": [{\"colorbar\": {\"outlinewidth\": 0, \"ticks\": \"\"}, \"colorscale\": [[0.0, \"#0d0887\"], [0.1111111111111111, \"#46039f\"], [0.2222222222222222, \"#7201a8\"], [0.3333333333333333, \"#9c179e\"], [0.4444444444444444, \"#bd3786\"], [0.5555555555555556, \"#d8576b\"], [0.6666666666666666, \"#ed7953\"], [0.7777777777777778, \"#fb9f3a\"], [0.8888888888888888, \"#fdca26\"], [1.0, \"#f0f921\"]], \"type\": \"contour\"}], \"contourcarpet\": [{\"colorbar\": {\"outlinewidth\": 0, \"ticks\": \"\"}, \"type\": \"contourcarpet\"}], \"heatmap\": [{\"colorbar\": {\"outlinewidth\": 0, \"ticks\": \"\"}, \"colorscale\": [[0.0, \"#0d0887\"], [0.1111111111111111, \"#46039f\"], [0.2222222222222222, \"#7201a8\"], [0.3333333333333333, \"#9c179e\"], [0.4444444444444444, \"#bd3786\"], [0.5555555555555556, \"#d8576b\"], [0.6666666666666666, \"#ed7953\"], [0.7777777777777778, \"#fb9f3a\"], [0.8888888888888888, \"#fdca26\"], [1.0, \"#f0f921\"]], \"type\": \"heatmap\"}], \"heatmapgl\": [{\"colorbar\": {\"outlinewidth\": 0, \"ticks\": \"\"}, \"colorscale\": [[0.0, \"#0d0887\"], [0.1111111111111111, \"#46039f\"], [0.2222222222222222, \"#7201a8\"], [0.3333333333333333, \"#9c179e\"], [0.4444444444444444, \"#bd3786\"], [0.5555555555555556, \"#d8576b\"], [0.6666666666666666, \"#ed7953\"], [0.7777777777777778, \"#fb9f3a\"], [0.8888888888888888, \"#fdca26\"], [1.0, \"#f0f921\"]], \"type\": \"heatmapgl\"}], \"histogram\": [{\"marker\": {\"colorbar\": {\"outlinewidth\": 0, \"ticks\": \"\"}}, \"type\": \"histogram\"}], \"histogram2d\": [{\"colorbar\": {\"outlinewidth\": 0, \"ticks\": \"\"}, \"colorscale\": [[0.0, \"#0d0887\"], [0.1111111111111111, \"#46039f\"], [0.2222222222222222, \"#7201a8\"], [0.3333333333333333, \"#9c179e\"], [0.4444444444444444, \"#bd3786\"], [0.5555555555555556, \"#d8576b\"], [0.6666666666666666, \"#ed7953\"], [0.7777777777777778, \"#fb9f3a\"], [0.8888888888888888, \"#fdca26\"], [1.0, \"#f0f921\"]], \"type\": \"histogram2d\"}], \"histogram2dcontour\": [{\"colorbar\": {\"outlinewidth\": 0, \"ticks\": \"\"}, \"colorscale\": [[0.0, \"#0d0887\"], [0.1111111111111111, \"#46039f\"], [0.2222222222222222, \"#7201a8\"], [0.3333333333333333, \"#9c179e\"], [0.4444444444444444, \"#bd3786\"], [0.5555555555555556, \"#d8576b\"], [0.6666666666666666, \"#ed7953\"], [0.7777777777777778, \"#fb9f3a\"], [0.8888888888888888, \"#fdca26\"], [1.0, \"#f0f921\"]], \"type\": \"histogram2dcontour\"}], \"mesh3d\": [{\"colorbar\": {\"outlinewidth\": 0, \"ticks\": \"\"}, \"type\": \"mesh3d\"}], \"parcoords\": [{\"line\": {\"colorbar\": {\"outlinewidth\": 0, \"ticks\": \"\"}}, \"type\": \"parcoords\"}], \"pie\": [{\"automargin\": true, \"type\": \"pie\"}], \"scatter\": [{\"marker\": {\"colorbar\": {\"outlinewidth\": 0, \"ticks\": \"\"}}, \"type\": \"scatter\"}], \"scatter3d\": [{\"line\": {\"colorbar\": {\"outlinewidth\": 0, \"ticks\": \"\"}}, \"marker\": {\"colorbar\": {\"outlinewidth\": 0, \"ticks\": \"\"}}, \"type\": \"scatter3d\"}], \"scattercarpet\": [{\"marker\": {\"colorbar\": {\"outlinewidth\": 0, \"ticks\": \"\"}}, \"type\": \"scattercarpet\"}], \"scattergeo\": [{\"marker\": {\"colorbar\": {\"outlinewidth\": 0, \"ticks\": \"\"}}, \"type\": \"scattergeo\"}], \"scattergl\": [{\"marker\": {\"colorbar\": {\"outlinewidth\": 0, \"ticks\": \"\"}}, \"type\": \"scattergl\"}], \"scattermapbox\": [{\"marker\": {\"colorbar\": {\"outlinewidth\": 0, \"ticks\": \"\"}}, \"type\": \"scattermapbox\"}], \"scatterpolar\": [{\"marker\": {\"colorbar\": {\"outlinewidth\": 0, \"ticks\": \"\"}}, \"type\": \"scatterpolar\"}], \"scatterpolargl\": [{\"marker\": {\"colorbar\": {\"outlinewidth\": 0, \"ticks\": \"\"}}, \"type\": \"scatterpolargl\"}], \"scatterternary\": [{\"marker\": {\"colorbar\": {\"outlinewidth\": 0, \"ticks\": \"\"}}, \"type\": \"scatterternary\"}], \"surface\": [{\"colorbar\": {\"outlinewidth\": 0, \"ticks\": \"\"}, \"colorscale\": [[0.0, \"#0d0887\"], [0.1111111111111111, \"#46039f\"], [0.2222222222222222, \"#7201a8\"], [0.3333333333333333, \"#9c179e\"], [0.4444444444444444, \"#bd3786\"], [0.5555555555555556, \"#d8576b\"], [0.6666666666666666, \"#ed7953\"], [0.7777777777777778, \"#fb9f3a\"], [0.8888888888888888, \"#fdca26\"], [1.0, \"#f0f921\"]], \"type\": \"surface\"}], \"table\": [{\"cells\": {\"fill\": {\"color\": \"#EBF0F8\"}, \"line\": {\"color\": \"white\"}}, \"header\": {\"fill\": {\"color\": \"#C8D4E3\"}, \"line\": {\"color\": \"white\"}}, \"type\": \"table\"}]}, \"layout\": {\"annotationdefaults\": {\"arrowcolor\": \"#2a3f5f\", \"arrowhead\": 0, \"arrowwidth\": 1}, \"coloraxis\": {\"colorbar\": {\"outlinewidth\": 0, \"ticks\": \"\"}}, \"colorscale\": {\"diverging\": [[0, \"#8e0152\"], [0.1, \"#c51b7d\"], [0.2, \"#de77ae\"], [0.3, \"#f1b6da\"], [0.4, \"#fde0ef\"], [0.5, \"#f7f7f7\"], [0.6, \"#e6f5d0\"], [0.7, \"#b8e186\"], [0.8, \"#7fbc41\"], [0.9, \"#4d9221\"], [1, \"#276419\"]], \"sequential\": [[0.0, \"#0d0887\"], [0.1111111111111111, \"#46039f\"], [0.2222222222222222, \"#7201a8\"], [0.3333333333333333, \"#9c179e\"], [0.4444444444444444, \"#bd3786\"], [0.5555555555555556, \"#d8576b\"], [0.6666666666666666, \"#ed7953\"], [0.7777777777777778, \"#fb9f3a\"], [0.8888888888888888, \"#fdca26\"], [1.0, \"#f0f921\"]], \"sequentialminus\": [[0.0, \"#0d0887\"], [0.1111111111111111, \"#46039f\"], [0.2222222222222222, \"#7201a8\"], [0.3333333333333333, \"#9c179e\"], [0.4444444444444444, \"#bd3786\"], [0.5555555555555556, \"#d8576b\"], [0.6666666666666666, \"#ed7953\"], [0.7777777777777778, \"#fb9f3a\"], [0.8888888888888888, \"#fdca26\"], [1.0, \"#f0f921\"]]}, \"colorway\": [\"#636efa\", \"#EF553B\", \"#00cc96\", \"#ab63fa\", \"#FFA15A\", \"#19d3f3\", \"#FF6692\", \"#B6E880\", \"#FF97FF\", \"#FECB52\"], \"font\": {\"color\": \"#2a3f5f\"}, \"geo\": {\"bgcolor\": \"white\", \"lakecolor\": \"white\", \"landcolor\": \"#E5ECF6\", \"showlakes\": true, \"showland\": true, \"subunitcolor\": \"white\"}, \"hoverlabel\": {\"align\": \"left\"}, \"hovermode\": \"closest\", \"mapbox\": {\"style\": \"light\"}, \"paper_bgcolor\": \"white\", \"plot_bgcolor\": \"#E5ECF6\", \"polar\": {\"angularaxis\": {\"gridcolor\": \"white\", \"linecolor\": \"white\", \"ticks\": \"\"}, \"bgcolor\": \"#E5ECF6\", \"radialaxis\": {\"gridcolor\": \"white\", \"linecolor\": \"white\", \"ticks\": \"\"}}, \"scene\": {\"xaxis\": {\"backgroundcolor\": \"#E5ECF6\", \"gridcolor\": \"white\", \"gridwidth\": 2, \"linecolor\": \"white\", \"showbackground\": true, \"ticks\": \"\", \"zerolinecolor\": \"white\"}, \"yaxis\": {\"backgroundcolor\": \"#E5ECF6\", \"gridcolor\": \"white\", \"gridwidth\": 2, \"linecolor\": \"white\", \"showbackground\": true, \"ticks\": \"\", \"zerolinecolor\": \"white\"}, \"zaxis\": {\"backgroundcolor\": \"#E5ECF6\", \"gridcolor\": \"white\", \"gridwidth\": 2, \"linecolor\": \"white\", \"showbackground\": true, \"ticks\": \"\", \"zerolinecolor\": \"white\"}}, \"shapedefaults\": {\"line\": {\"color\": \"#2a3f5f\"}}, \"ternary\": {\"aaxis\": {\"gridcolor\": \"white\", \"linecolor\": \"white\", \"ticks\": \"\"}, \"baxis\": {\"gridcolor\": \"white\", \"linecolor\": \"white\", \"ticks\": \"\"}, \"bgcolor\": \"#E5ECF6\", \"caxis\": {\"gridcolor\": \"white\", \"linecolor\": \"white\", \"ticks\": \"\"}}, \"title\": {\"x\": 0.05}, \"xaxis\": {\"automargin\": true, \"gridcolor\": \"white\", \"linecolor\": \"white\", \"ticks\": \"\", \"title\": {\"standoff\": 15}, \"zerolinecolor\": \"white\", \"zerolinewidth\": 2}, \"yaxis\": {\"automargin\": true, \"gridcolor\": \"white\", \"linecolor\": \"white\", \"ticks\": \"\", \"title\": {\"standoff\": 15}, \"zerolinecolor\": \"white\", \"zerolinewidth\": 2}}}, \"title\": {\"text\": \"CLM20 Pseudo-Volatility vs Price\", \"x\": 0.5, \"xanchor\": \"center\", \"y\": 0.9, \"yanchor\": \"top\"}, \"xaxis\": {\"showspikes\": true, \"spikedash\": \"solid\", \"spikemode\": \"toaxis+across\", \"spikethickness\": 1, \"tickangle\": 45, \"ticktext\": [20191223, 20191230, 20200106, 20200110, 20200116, 20200123, 20200129, 20200204, 20200210, 20200214, 20200221, 20200227, 20200304, 20200310, 20200316, 20200320, 20200326, 20200401, 20200407, 20200414, 20200420, 20200423, 20200429, 20200505, 20200511], \"tickvals\": [20191223, 20191230, 20200106, 20200110, 20200116, 20200123, 20200129, 20200204, 20200210, 20200214, 20200221, 20200227, 20200304, 20200310, 20200316, 20200320, 20200326, 20200401, 20200407, 20200414, 20200420, 20200423, 20200429, 20200505, 20200511], \"type\": \"category\"}, \"yaxis\": {\"showspikes\": true, \"spikedash\": \"solid\", \"spikemode\": \"toaxis+across\", \"spikethickness\": 1, \"title\": {\"text\": \"Implied Volatility\"}}, \"yaxis2\": {\"overlaying\": \"y\", \"side\": \"right\", \"title\": {\"text\": \"Futures Close\"}}},\n",
       "                        {\"responsive\": true}\n",
       "                    ).then(function(){\n",
       "                            \n",
       "var gd = document.getElementById('e12f6416-4698-4c5e-bb0f-56c55648e13a');\n",
       "var x = new MutationObserver(function (mutations, observer) {{\n",
       "        var display = window.getComputedStyle(gd).display;\n",
       "        if (!display || display === 'none') {{\n",
       "            console.log([gd, 'removed!']);\n",
       "            Plotly.purge(gd);\n",
       "            observer.disconnect();\n",
       "        }}\n",
       "}});\n",
       "\n",
       "// Listen for the removal of the full notebook cells\n",
       "var notebookContainer = gd.closest('#notebook-container');\n",
       "if (notebookContainer) {{\n",
       "    x.observe(notebookContainer, {childList: true});\n",
       "}}\n",
       "\n",
       "// Listen for the clearing of the current output cell\n",
       "var outputEl = gd.closest('.output');\n",
       "if (outputEl) {{\n",
       "    x.observe(outputEl, {childList: true});\n",
       "}}\n",
       "\n",
       "                        })\n",
       "                };\n",
       "                });\n",
       "            </script>\n",
       "        </div>"
      ]
     },
     "metadata": {},
     "output_type": "display_data"
    },
    {
     "data": {
      "application/vnd.plotly.v1+json": {
       "config": {
        "linkText": "Export to plot.ly",
        "plotlyServerURL": "https://plot.ly",
        "showLink": false
       },
       "data": [
        {
         "name": "iv",
         "type": "scatter",
         "x": [
          20200128,
          20200129,
          20200130,
          20200131,
          20200203,
          20200204,
          20200205,
          20200206,
          20200207,
          20200210,
          20200211,
          20200212,
          20200213,
          20200214,
          20200218,
          20200219,
          20200220,
          20200221,
          20200221,
          20200224,
          20200225,
          20200226,
          20200227,
          20200228,
          20200302,
          20200303,
          20200304,
          20200305,
          20200306,
          20200309,
          20200310,
          20200311,
          20200312,
          20200313,
          20200316,
          20200317,
          20200318,
          20200319,
          20200320,
          20200323,
          20200324,
          20200325,
          20200326,
          20200327,
          20200330,
          20200331,
          20200401,
          20200402,
          20200403,
          20200406,
          20200407,
          20200408,
          20200409,
          20200409,
          20200413,
          20200414,
          20200415,
          20200416,
          20200417,
          20200420,
          20200421,
          20200422,
          20200423,
          20200424,
          20200427,
          20200428,
          20200429,
          20200430,
          20200501,
          20200504,
          20200505,
          20200506,
          20200507,
          20200508,
          20200511,
          20200512,
          20200513,
          20200514,
          20200515,
          20200518,
          20200519,
          20200520,
          20200521,
          20200522,
          20200526,
          20200527,
          20200528,
          20200529,
          20200601,
          20200602,
          20200603,
          20200604,
          20200605,
          20200608,
          20200609,
          20200610,
          20200611,
          20200612,
          20200615
         ],
         "y": [
          0.3341010646205024,
          0.3279414635819374,
          0.3406348146414605,
          0.3513243870396414,
          0.3464052227064712,
          0.33405572268861455,
          0.32763944178173093,
          0.3298794213322039,
          0.3289731404372617,
          0.3363250218843598,
          0.32526237879171516,
          0.32151897246448735,
          0.3213472254203765,
          0.3208258769760098,
          0.3170574433528045,
          0.3108678788683893,
          0.3175117065056682,
          0.32663088767051673,
          0.32663088767051673,
          0.33142160580782615,
          0.344534419971599,
          0.3369144993101949,
          0.336759927480982,
          0.33780644921338626,
          0.35769633004866996,
          0.3684010034759193,
          0.37641327297453997,
          0.3758692452347621,
          0.38900292895860933,
          0.4845372756868671,
          0.44848718494394746,
          0.45622797598020143,
          0.4930936861823313,
          0.5057252308026553,
          0.5165611327586824,
          0.519104714282653,
          0.5619583625877357,
          0.6005695820657666,
          0.6454906186769429,
          0.6310555768864821,
          0.5861803617432165,
          0.5044278685447855,
          0.48933511022291687,
          0.5209457794984017,
          0.5343549154407056,
          0.5364945111172039,
          0.5170364886742047,
          0.5937461942368197,
          0.623366210359295,
          0.5946221064748428,
          0.5412198396643303,
          0.5409088927322336,
          0.5184537816068756,
          0.5184537816068756,
          0.4643176133380064,
          0.4716475669117284,
          0.4983426294672335,
          0.49478819528419904,
          0.46786500824724686,
          0.5890932209876653,
          0.809787281676931,
          0.619454054263903,
          0.5538358344206044,
          0.6553385509962466,
          0.6408459309770064,
          0.6336134756493389,
          0.5737808687850372,
          0.5537496618120263,
          0.5521475902570612,
          0.46968279765741494,
          0.5269882124797594,
          0.561383914720928,
          0.5732210581581427,
          0.5410606890290226,
          0.5248148969065272,
          0.4897373625173574,
          0.4763803491072497,
          0.44404337425711565,
          0.44638938747792245,
          0.47473201002389315,
          0.46150474253913587,
          0.44164971160456845,
          0.4373549202914473,
          0.44923363086603635,
          0.46244567087295957,
          0.491847586759229,
          0.4865472463703069,
          0.4741934264292325,
          0.45040603670532403,
          0.43325768100988793,
          0.42520060145985694,
          0.4156387936002478,
          0.42496491367479633,
          0.42981823958776605,
          0.40287472674953545,
          0.39854113188470086,
          0.48757821284505853,
          0.45125545698581004,
          0.514390551556153
         ],
         "yaxis": "y"
        },
        {
         "name": "fprice",
         "type": "scatter",
         "x": [
          20200128,
          20200129,
          20200130,
          20200131,
          20200203,
          20200204,
          20200205,
          20200206,
          20200207,
          20200210,
          20200211,
          20200212,
          20200213,
          20200214,
          20200218,
          20200219,
          20200220,
          20200221,
          20200221,
          20200224,
          20200225,
          20200226,
          20200227,
          20200228,
          20200302,
          20200303,
          20200304,
          20200305,
          20200306,
          20200309,
          20200310,
          20200311,
          20200312,
          20200313,
          20200316,
          20200317,
          20200318,
          20200319,
          20200320,
          20200323,
          20200324,
          20200325,
          20200326,
          20200327,
          20200330,
          20200331,
          20200401,
          20200402,
          20200403,
          20200406,
          20200407,
          20200408,
          20200409,
          20200409,
          20200413,
          20200414,
          20200415,
          20200416,
          20200417,
          20200420,
          20200421,
          20200422,
          20200423,
          20200424,
          20200427,
          20200428,
          20200429,
          20200430,
          20200501,
          20200504,
          20200505,
          20200506,
          20200507,
          20200508,
          20200511,
          20200512,
          20200513,
          20200514,
          20200515,
          20200518,
          20200519,
          20200520,
          20200521,
          20200522,
          20200526,
          20200527,
          20200528,
          20200529,
          20200601,
          20200602,
          20200603,
          20200604,
          20200605,
          20200608,
          20200609,
          20200610,
          20200611,
          20200612,
          20200615
         ],
         "y": [
          53.08,
          53.1,
          52.1,
          51.74,
          50.6,
          50.28,
          51.39,
          51.73,
          51.22,
          50.46,
          50.88,
          52.05,
          52.28,
          52.87,
          52.94,
          53.95,
          54.1,
          53.5,
          53.5,
          51.72,
          50.14,
          48.99,
          47.55,
          45.23,
          47.14,
          47.52,
          47.22,
          46.34,
          42.04,
          32.46,
          35.58,
          34.39,
          33.11,
          33.15,
          30.22,
          28.96,
          23.22,
          27.96,
          25.93,
          27.23,
          28.05,
          29.19,
          28.27,
          28.13,
          27.4,
          27.69,
          26.42,
          29.92,
          32.33,
          32.04,
          31.84,
          32.92,
          32,
          32,
          32.96,
          31.87,
          29.96,
          29.55,
          29.42,
          26.28,
          18.69,
          20.69,
          21.44,
          21.22,
          18.08,
          17.6,
          19.12,
          21.85,
          22.29,
          22.78,
          26.49,
          25.62,
          24.83,
          26.17,
          25.08,
          26.33,
          25.68,
          27.88,
          29.52,
          31.65,
          31.96,
          33.49,
          33.92,
          33.25,
          34.35,
          32.81,
          33.71,
          35.49,
          35.44,
          36.81,
          37.29,
          37.41,
          39.55,
          38.19,
          38.94,
          39.6,
          36.34,
          36.26,
          37.12
         ],
         "yaxis": "y2"
        }
       ],
       "layout": {
        "autosize": true,
        "hovermode": "x",
        "legend": {
         "orientation": "h",
         "x": 0,
         "y": 1.1
        },
        "margin": {
         "b": 100
        },
        "modebar": {
         "bgcolor": "grey",
         "orientation": "v"
        },
        "spikedistance": 1000,
        "template": {
         "data": {
          "bar": [
           {
            "error_x": {
             "color": "#2a3f5f"
            },
            "error_y": {
             "color": "#2a3f5f"
            },
            "marker": {
             "line": {
              "color": "#E5ECF6",
              "width": 0.5
             }
            },
            "type": "bar"
           }
          ],
          "barpolar": [
           {
            "marker": {
             "line": {
              "color": "#E5ECF6",
              "width": 0.5
             }
            },
            "type": "barpolar"
           }
          ],
          "carpet": [
           {
            "aaxis": {
             "endlinecolor": "#2a3f5f",
             "gridcolor": "white",
             "linecolor": "white",
             "minorgridcolor": "white",
             "startlinecolor": "#2a3f5f"
            },
            "baxis": {
             "endlinecolor": "#2a3f5f",
             "gridcolor": "white",
             "linecolor": "white",
             "minorgridcolor": "white",
             "startlinecolor": "#2a3f5f"
            },
            "type": "carpet"
           }
          ],
          "choropleth": [
           {
            "colorbar": {
             "outlinewidth": 0,
             "ticks": ""
            },
            "type": "choropleth"
           }
          ],
          "contour": [
           {
            "colorbar": {
             "outlinewidth": 0,
             "ticks": ""
            },
            "colorscale": [
             [
              0,
              "#0d0887"
             ],
             [
              0.1111111111111111,
              "#46039f"
             ],
             [
              0.2222222222222222,
              "#7201a8"
             ],
             [
              0.3333333333333333,
              "#9c179e"
             ],
             [
              0.4444444444444444,
              "#bd3786"
             ],
             [
              0.5555555555555556,
              "#d8576b"
             ],
             [
              0.6666666666666666,
              "#ed7953"
             ],
             [
              0.7777777777777778,
              "#fb9f3a"
             ],
             [
              0.8888888888888888,
              "#fdca26"
             ],
             [
              1,
              "#f0f921"
             ]
            ],
            "type": "contour"
           }
          ],
          "contourcarpet": [
           {
            "colorbar": {
             "outlinewidth": 0,
             "ticks": ""
            },
            "type": "contourcarpet"
           }
          ],
          "heatmap": [
           {
            "colorbar": {
             "outlinewidth": 0,
             "ticks": ""
            },
            "colorscale": [
             [
              0,
              "#0d0887"
             ],
             [
              0.1111111111111111,
              "#46039f"
             ],
             [
              0.2222222222222222,
              "#7201a8"
             ],
             [
              0.3333333333333333,
              "#9c179e"
             ],
             [
              0.4444444444444444,
              "#bd3786"
             ],
             [
              0.5555555555555556,
              "#d8576b"
             ],
             [
              0.6666666666666666,
              "#ed7953"
             ],
             [
              0.7777777777777778,
              "#fb9f3a"
             ],
             [
              0.8888888888888888,
              "#fdca26"
             ],
             [
              1,
              "#f0f921"
             ]
            ],
            "type": "heatmap"
           }
          ],
          "heatmapgl": [
           {
            "colorbar": {
             "outlinewidth": 0,
             "ticks": ""
            },
            "colorscale": [
             [
              0,
              "#0d0887"
             ],
             [
              0.1111111111111111,
              "#46039f"
             ],
             [
              0.2222222222222222,
              "#7201a8"
             ],
             [
              0.3333333333333333,
              "#9c179e"
             ],
             [
              0.4444444444444444,
              "#bd3786"
             ],
             [
              0.5555555555555556,
              "#d8576b"
             ],
             [
              0.6666666666666666,
              "#ed7953"
             ],
             [
              0.7777777777777778,
              "#fb9f3a"
             ],
             [
              0.8888888888888888,
              "#fdca26"
             ],
             [
              1,
              "#f0f921"
             ]
            ],
            "type": "heatmapgl"
           }
          ],
          "histogram": [
           {
            "marker": {
             "colorbar": {
              "outlinewidth": 0,
              "ticks": ""
             }
            },
            "type": "histogram"
           }
          ],
          "histogram2d": [
           {
            "colorbar": {
             "outlinewidth": 0,
             "ticks": ""
            },
            "colorscale": [
             [
              0,
              "#0d0887"
             ],
             [
              0.1111111111111111,
              "#46039f"
             ],
             [
              0.2222222222222222,
              "#7201a8"
             ],
             [
              0.3333333333333333,
              "#9c179e"
             ],
             [
              0.4444444444444444,
              "#bd3786"
             ],
             [
              0.5555555555555556,
              "#d8576b"
             ],
             [
              0.6666666666666666,
              "#ed7953"
             ],
             [
              0.7777777777777778,
              "#fb9f3a"
             ],
             [
              0.8888888888888888,
              "#fdca26"
             ],
             [
              1,
              "#f0f921"
             ]
            ],
            "type": "histogram2d"
           }
          ],
          "histogram2dcontour": [
           {
            "colorbar": {
             "outlinewidth": 0,
             "ticks": ""
            },
            "colorscale": [
             [
              0,
              "#0d0887"
             ],
             [
              0.1111111111111111,
              "#46039f"
             ],
             [
              0.2222222222222222,
              "#7201a8"
             ],
             [
              0.3333333333333333,
              "#9c179e"
             ],
             [
              0.4444444444444444,
              "#bd3786"
             ],
             [
              0.5555555555555556,
              "#d8576b"
             ],
             [
              0.6666666666666666,
              "#ed7953"
             ],
             [
              0.7777777777777778,
              "#fb9f3a"
             ],
             [
              0.8888888888888888,
              "#fdca26"
             ],
             [
              1,
              "#f0f921"
             ]
            ],
            "type": "histogram2dcontour"
           }
          ],
          "mesh3d": [
           {
            "colorbar": {
             "outlinewidth": 0,
             "ticks": ""
            },
            "type": "mesh3d"
           }
          ],
          "parcoords": [
           {
            "line": {
             "colorbar": {
              "outlinewidth": 0,
              "ticks": ""
             }
            },
            "type": "parcoords"
           }
          ],
          "pie": [
           {
            "automargin": true,
            "type": "pie"
           }
          ],
          "scatter": [
           {
            "marker": {
             "colorbar": {
              "outlinewidth": 0,
              "ticks": ""
             }
            },
            "type": "scatter"
           }
          ],
          "scatter3d": [
           {
            "line": {
             "colorbar": {
              "outlinewidth": 0,
              "ticks": ""
             }
            },
            "marker": {
             "colorbar": {
              "outlinewidth": 0,
              "ticks": ""
             }
            },
            "type": "scatter3d"
           }
          ],
          "scattercarpet": [
           {
            "marker": {
             "colorbar": {
              "outlinewidth": 0,
              "ticks": ""
             }
            },
            "type": "scattercarpet"
           }
          ],
          "scattergeo": [
           {
            "marker": {
             "colorbar": {
              "outlinewidth": 0,
              "ticks": ""
             }
            },
            "type": "scattergeo"
           }
          ],
          "scattergl": [
           {
            "marker": {
             "colorbar": {
              "outlinewidth": 0,
              "ticks": ""
             }
            },
            "type": "scattergl"
           }
          ],
          "scattermapbox": [
           {
            "marker": {
             "colorbar": {
              "outlinewidth": 0,
              "ticks": ""
             }
            },
            "type": "scattermapbox"
           }
          ],
          "scatterpolar": [
           {
            "marker": {
             "colorbar": {
              "outlinewidth": 0,
              "ticks": ""
             }
            },
            "type": "scatterpolar"
           }
          ],
          "scatterpolargl": [
           {
            "marker": {
             "colorbar": {
              "outlinewidth": 0,
              "ticks": ""
             }
            },
            "type": "scatterpolargl"
           }
          ],
          "scatterternary": [
           {
            "marker": {
             "colorbar": {
              "outlinewidth": 0,
              "ticks": ""
             }
            },
            "type": "scatterternary"
           }
          ],
          "surface": [
           {
            "colorbar": {
             "outlinewidth": 0,
             "ticks": ""
            },
            "colorscale": [
             [
              0,
              "#0d0887"
             ],
             [
              0.1111111111111111,
              "#46039f"
             ],
             [
              0.2222222222222222,
              "#7201a8"
             ],
             [
              0.3333333333333333,
              "#9c179e"
             ],
             [
              0.4444444444444444,
              "#bd3786"
             ],
             [
              0.5555555555555556,
              "#d8576b"
             ],
             [
              0.6666666666666666,
              "#ed7953"
             ],
             [
              0.7777777777777778,
              "#fb9f3a"
             ],
             [
              0.8888888888888888,
              "#fdca26"
             ],
             [
              1,
              "#f0f921"
             ]
            ],
            "type": "surface"
           }
          ],
          "table": [
           {
            "cells": {
             "fill": {
              "color": "#EBF0F8"
             },
             "line": {
              "color": "white"
             }
            },
            "header": {
             "fill": {
              "color": "#C8D4E3"
             },
             "line": {
              "color": "white"
             }
            },
            "type": "table"
           }
          ]
         },
         "layout": {
          "annotationdefaults": {
           "arrowcolor": "#2a3f5f",
           "arrowhead": 0,
           "arrowwidth": 1
          },
          "coloraxis": {
           "colorbar": {
            "outlinewidth": 0,
            "ticks": ""
           }
          },
          "colorscale": {
           "diverging": [
            [
             0,
             "#8e0152"
            ],
            [
             0.1,
             "#c51b7d"
            ],
            [
             0.2,
             "#de77ae"
            ],
            [
             0.3,
             "#f1b6da"
            ],
            [
             0.4,
             "#fde0ef"
            ],
            [
             0.5,
             "#f7f7f7"
            ],
            [
             0.6,
             "#e6f5d0"
            ],
            [
             0.7,
             "#b8e186"
            ],
            [
             0.8,
             "#7fbc41"
            ],
            [
             0.9,
             "#4d9221"
            ],
            [
             1,
             "#276419"
            ]
           ],
           "sequential": [
            [
             0,
             "#0d0887"
            ],
            [
             0.1111111111111111,
             "#46039f"
            ],
            [
             0.2222222222222222,
             "#7201a8"
            ],
            [
             0.3333333333333333,
             "#9c179e"
            ],
            [
             0.4444444444444444,
             "#bd3786"
            ],
            [
             0.5555555555555556,
             "#d8576b"
            ],
            [
             0.6666666666666666,
             "#ed7953"
            ],
            [
             0.7777777777777778,
             "#fb9f3a"
            ],
            [
             0.8888888888888888,
             "#fdca26"
            ],
            [
             1,
             "#f0f921"
            ]
           ],
           "sequentialminus": [
            [
             0,
             "#0d0887"
            ],
            [
             0.1111111111111111,
             "#46039f"
            ],
            [
             0.2222222222222222,
             "#7201a8"
            ],
            [
             0.3333333333333333,
             "#9c179e"
            ],
            [
             0.4444444444444444,
             "#bd3786"
            ],
            [
             0.5555555555555556,
             "#d8576b"
            ],
            [
             0.6666666666666666,
             "#ed7953"
            ],
            [
             0.7777777777777778,
             "#fb9f3a"
            ],
            [
             0.8888888888888888,
             "#fdca26"
            ],
            [
             1,
             "#f0f921"
            ]
           ]
          },
          "colorway": [
           "#636efa",
           "#EF553B",
           "#00cc96",
           "#ab63fa",
           "#FFA15A",
           "#19d3f3",
           "#FF6692",
           "#B6E880",
           "#FF97FF",
           "#FECB52"
          ],
          "font": {
           "color": "#2a3f5f"
          },
          "geo": {
           "bgcolor": "white",
           "lakecolor": "white",
           "landcolor": "#E5ECF6",
           "showlakes": true,
           "showland": true,
           "subunitcolor": "white"
          },
          "hoverlabel": {
           "align": "left"
          },
          "hovermode": "closest",
          "mapbox": {
           "style": "light"
          },
          "paper_bgcolor": "white",
          "plot_bgcolor": "#E5ECF6",
          "polar": {
           "angularaxis": {
            "gridcolor": "white",
            "linecolor": "white",
            "ticks": ""
           },
           "bgcolor": "#E5ECF6",
           "radialaxis": {
            "gridcolor": "white",
            "linecolor": "white",
            "ticks": ""
           }
          },
          "scene": {
           "xaxis": {
            "backgroundcolor": "#E5ECF6",
            "gridcolor": "white",
            "gridwidth": 2,
            "linecolor": "white",
            "showbackground": true,
            "ticks": "",
            "zerolinecolor": "white"
           },
           "yaxis": {
            "backgroundcolor": "#E5ECF6",
            "gridcolor": "white",
            "gridwidth": 2,
            "linecolor": "white",
            "showbackground": true,
            "ticks": "",
            "zerolinecolor": "white"
           },
           "zaxis": {
            "backgroundcolor": "#E5ECF6",
            "gridcolor": "white",
            "gridwidth": 2,
            "linecolor": "white",
            "showbackground": true,
            "ticks": "",
            "zerolinecolor": "white"
           }
          },
          "shapedefaults": {
           "line": {
            "color": "#2a3f5f"
           }
          },
          "ternary": {
           "aaxis": {
            "gridcolor": "white",
            "linecolor": "white",
            "ticks": ""
           },
           "baxis": {
            "gridcolor": "white",
            "linecolor": "white",
            "ticks": ""
           },
           "bgcolor": "#E5ECF6",
           "caxis": {
            "gridcolor": "white",
            "linecolor": "white",
            "ticks": ""
           }
          },
          "title": {
           "x": 0.05
          },
          "xaxis": {
           "automargin": true,
           "gridcolor": "white",
           "linecolor": "white",
           "ticks": "",
           "title": {
            "standoff": 15
           },
           "zerolinecolor": "white",
           "zerolinewidth": 2
          },
          "yaxis": {
           "automargin": true,
           "gridcolor": "white",
           "linecolor": "white",
           "ticks": "",
           "title": {
            "standoff": 15
           },
           "zerolinecolor": "white",
           "zerolinewidth": 2
          }
         }
        },
        "title": {
         "text": "CLN20 Pseudo-Volatility vs Price",
         "x": 0.5,
         "xanchor": "center",
         "y": 0.9,
         "yanchor": "top"
        },
        "xaxis": {
         "showspikes": true,
         "spikedash": "solid",
         "spikemode": "toaxis+across",
         "spikethickness": 1,
         "tickangle": 45,
         "ticktext": [
          20200128,
          20200203,
          20200207,
          20200213,
          20200220,
          20200225,
          20200302,
          20200306,
          20200312,
          20200318,
          20200324,
          20200330,
          20200403,
          20200409,
          20200415,
          20200421,
          20200427,
          20200501,
          20200507,
          20200513,
          20200519,
          20200526,
          20200601,
          20200605,
          20200611
         ],
         "tickvals": [
          20200128,
          20200203,
          20200207,
          20200213,
          20200220,
          20200225,
          20200302,
          20200306,
          20200312,
          20200318,
          20200324,
          20200330,
          20200403,
          20200409,
          20200415,
          20200421,
          20200427,
          20200501,
          20200507,
          20200513,
          20200519,
          20200526,
          20200601,
          20200605,
          20200611
         ],
         "type": "category"
        },
        "yaxis": {
         "showspikes": true,
         "spikedash": "solid",
         "spikemode": "toaxis+across",
         "spikethickness": 1,
         "title": {
          "text": "Implied Volatility"
         }
        },
        "yaxis2": {
         "overlaying": "y",
         "side": "right",
         "title": {
          "text": "Futures Close"
         }
        }
       }
      },
      "text/html": [
       "<div>\n",
       "        \n",
       "        \n",
       "            <div id=\"dd3b378d-f92c-4f59-99b9-b3379d66f37e\" class=\"plotly-graph-div\" style=\"height:525px; width:100%;\"></div>\n",
       "            <script type=\"text/javascript\">\n",
       "                require([\"plotly\"], function(Plotly) {\n",
       "                    window.PLOTLYENV=window.PLOTLYENV || {};\n",
       "                    \n",
       "                if (document.getElementById(\"dd3b378d-f92c-4f59-99b9-b3379d66f37e\")) {\n",
       "                    Plotly.newPlot(\n",
       "                        'dd3b378d-f92c-4f59-99b9-b3379d66f37e',\n",
       "                        [{\"name\": \"iv\", \"type\": \"scatter\", \"x\": [20200128, 20200129, 20200130, 20200131, 20200203, 20200204, 20200205, 20200206, 20200207, 20200210, 20200211, 20200212, 20200213, 20200214, 20200218, 20200219, 20200220, 20200221, 20200221, 20200224, 20200225, 20200226, 20200227, 20200228, 20200302, 20200303, 20200304, 20200305, 20200306, 20200309, 20200310, 20200311, 20200312, 20200313, 20200316, 20200317, 20200318, 20200319, 20200320, 20200323, 20200324, 20200325, 20200326, 20200327, 20200330, 20200331, 20200401, 20200402, 20200403, 20200406, 20200407, 20200408, 20200409, 20200409, 20200413, 20200414, 20200415, 20200416, 20200417, 20200420, 20200421, 20200422, 20200423, 20200424, 20200427, 20200428, 20200429, 20200430, 20200501, 20200504, 20200505, 20200506, 20200507, 20200508, 20200511, 20200512, 20200513, 20200514, 20200515, 20200518, 20200519, 20200520, 20200521, 20200522, 20200526, 20200527, 20200528, 20200529, 20200601, 20200602, 20200603, 20200604, 20200605, 20200608, 20200609, 20200610, 20200611, 20200612, 20200615], \"y\": [0.3341010646205024, 0.3279414635819374, 0.3406348146414605, 0.3513243870396414, 0.3464052227064712, 0.33405572268861455, 0.32763944178173093, 0.3298794213322039, 0.3289731404372617, 0.3363250218843598, 0.32526237879171516, 0.32151897246448735, 0.3213472254203765, 0.3208258769760098, 0.3170574433528045, 0.3108678788683893, 0.3175117065056682, 0.32663088767051673, 0.32663088767051673, 0.33142160580782615, 0.344534419971599, 0.3369144993101949, 0.336759927480982, 0.33780644921338626, 0.35769633004866996, 0.3684010034759193, 0.37641327297453997, 0.3758692452347621, 0.38900292895860933, 0.4845372756868671, 0.44848718494394746, 0.45622797598020143, 0.4930936861823313, 0.5057252308026553, 0.5165611327586824, 0.519104714282653, 0.5619583625877357, 0.6005695820657666, 0.6454906186769429, 0.6310555768864821, 0.5861803617432165, 0.5044278685447855, 0.48933511022291687, 0.5209457794984017, 0.5343549154407056, 0.5364945111172039, 0.5170364886742047, 0.5937461942368197, 0.623366210359295, 0.5946221064748428, 0.5412198396643303, 0.5409088927322336, 0.5184537816068756, 0.5184537816068756, 0.4643176133380064, 0.4716475669117284, 0.4983426294672335, 0.49478819528419904, 0.46786500824724686, 0.5890932209876653, 0.809787281676931, 0.619454054263903, 0.5538358344206044, 0.6553385509962466, 0.6408459309770064, 0.6336134756493389, 0.5737808687850372, 0.5537496618120263, 0.5521475902570612, 0.46968279765741494, 0.5269882124797594, 0.561383914720928, 0.5732210581581427, 0.5410606890290226, 0.5248148969065272, 0.4897373625173574, 0.4763803491072497, 0.44404337425711565, 0.44638938747792245, 0.47473201002389315, 0.46150474253913587, 0.44164971160456845, 0.4373549202914473, 0.44923363086603635, 0.46244567087295957, 0.491847586759229, 0.4865472463703069, 0.4741934264292325, 0.45040603670532403, 0.43325768100988793, 0.42520060145985694, 0.4156387936002478, 0.42496491367479633, 0.42981823958776605, 0.40287472674953545, 0.39854113188470086, 0.48757821284505853, 0.45125545698581004, 0.514390551556153], \"yaxis\": \"y\"}, {\"name\": \"fprice\", \"type\": \"scatter\", \"x\": [20200128, 20200129, 20200130, 20200131, 20200203, 20200204, 20200205, 20200206, 20200207, 20200210, 20200211, 20200212, 20200213, 20200214, 20200218, 20200219, 20200220, 20200221, 20200221, 20200224, 20200225, 20200226, 20200227, 20200228, 20200302, 20200303, 20200304, 20200305, 20200306, 20200309, 20200310, 20200311, 20200312, 20200313, 20200316, 20200317, 20200318, 20200319, 20200320, 20200323, 20200324, 20200325, 20200326, 20200327, 20200330, 20200331, 20200401, 20200402, 20200403, 20200406, 20200407, 20200408, 20200409, 20200409, 20200413, 20200414, 20200415, 20200416, 20200417, 20200420, 20200421, 20200422, 20200423, 20200424, 20200427, 20200428, 20200429, 20200430, 20200501, 20200504, 20200505, 20200506, 20200507, 20200508, 20200511, 20200512, 20200513, 20200514, 20200515, 20200518, 20200519, 20200520, 20200521, 20200522, 20200526, 20200527, 20200528, 20200529, 20200601, 20200602, 20200603, 20200604, 20200605, 20200608, 20200609, 20200610, 20200611, 20200612, 20200615], \"y\": [53.08, 53.1, 52.1, 51.74, 50.6, 50.28, 51.39, 51.73, 51.22, 50.46, 50.88, 52.05, 52.28, 52.87, 52.94, 53.95, 54.1, 53.5, 53.5, 51.72, 50.14, 48.99, 47.55, 45.23, 47.14, 47.52, 47.22, 46.34, 42.04, 32.46, 35.58, 34.39, 33.11, 33.15, 30.22, 28.96, 23.22, 27.96, 25.93, 27.23, 28.05, 29.19, 28.27, 28.13, 27.4, 27.69, 26.42, 29.92, 32.33, 32.04, 31.84, 32.92, 32.0, 32.0, 32.96, 31.87, 29.96, 29.55, 29.42, 26.28, 18.69, 20.69, 21.44, 21.22, 18.08, 17.6, 19.12, 21.85, 22.29, 22.78, 26.49, 25.62, 24.83, 26.17, 25.08, 26.33, 25.68, 27.88, 29.52, 31.65, 31.96, 33.49, 33.92, 33.25, 34.35, 32.81, 33.71, 35.49, 35.44, 36.81, 37.29, 37.41, 39.55, 38.19, 38.94, 39.6, 36.34, 36.26, 37.12], \"yaxis\": \"y2\"}],\n",
       "                        {\"autosize\": true, \"hovermode\": \"x\", \"legend\": {\"orientation\": \"h\", \"x\": 0, \"y\": 1.1}, \"margin\": {\"b\": 100}, \"modebar\": {\"bgcolor\": \"grey\", \"orientation\": \"v\"}, \"spikedistance\": 1000, \"template\": {\"data\": {\"bar\": [{\"error_x\": {\"color\": \"#2a3f5f\"}, \"error_y\": {\"color\": \"#2a3f5f\"}, \"marker\": {\"line\": {\"color\": \"#E5ECF6\", \"width\": 0.5}}, \"type\": \"bar\"}], \"barpolar\": [{\"marker\": {\"line\": {\"color\": \"#E5ECF6\", \"width\": 0.5}}, \"type\": \"barpolar\"}], \"carpet\": [{\"aaxis\": {\"endlinecolor\": \"#2a3f5f\", \"gridcolor\": \"white\", \"linecolor\": \"white\", \"minorgridcolor\": \"white\", \"startlinecolor\": \"#2a3f5f\"}, \"baxis\": {\"endlinecolor\": \"#2a3f5f\", \"gridcolor\": \"white\", \"linecolor\": \"white\", \"minorgridcolor\": \"white\", \"startlinecolor\": \"#2a3f5f\"}, \"type\": \"carpet\"}], \"choropleth\": [{\"colorbar\": {\"outlinewidth\": 0, \"ticks\": \"\"}, \"type\": \"choropleth\"}], \"contour\": [{\"colorbar\": {\"outlinewidth\": 0, \"ticks\": \"\"}, \"colorscale\": [[0.0, \"#0d0887\"], [0.1111111111111111, \"#46039f\"], [0.2222222222222222, \"#7201a8\"], [0.3333333333333333, \"#9c179e\"], [0.4444444444444444, \"#bd3786\"], [0.5555555555555556, \"#d8576b\"], [0.6666666666666666, \"#ed7953\"], [0.7777777777777778, \"#fb9f3a\"], [0.8888888888888888, \"#fdca26\"], [1.0, \"#f0f921\"]], \"type\": \"contour\"}], \"contourcarpet\": [{\"colorbar\": {\"outlinewidth\": 0, \"ticks\": \"\"}, \"type\": \"contourcarpet\"}], \"heatmap\": [{\"colorbar\": {\"outlinewidth\": 0, \"ticks\": \"\"}, \"colorscale\": [[0.0, \"#0d0887\"], [0.1111111111111111, \"#46039f\"], [0.2222222222222222, \"#7201a8\"], [0.3333333333333333, \"#9c179e\"], [0.4444444444444444, \"#bd3786\"], [0.5555555555555556, \"#d8576b\"], [0.6666666666666666, \"#ed7953\"], [0.7777777777777778, \"#fb9f3a\"], [0.8888888888888888, \"#fdca26\"], [1.0, \"#f0f921\"]], \"type\": \"heatmap\"}], \"heatmapgl\": [{\"colorbar\": {\"outlinewidth\": 0, \"ticks\": \"\"}, \"colorscale\": [[0.0, \"#0d0887\"], [0.1111111111111111, \"#46039f\"], [0.2222222222222222, \"#7201a8\"], [0.3333333333333333, \"#9c179e\"], [0.4444444444444444, \"#bd3786\"], [0.5555555555555556, \"#d8576b\"], [0.6666666666666666, \"#ed7953\"], [0.7777777777777778, \"#fb9f3a\"], [0.8888888888888888, \"#fdca26\"], [1.0, \"#f0f921\"]], \"type\": \"heatmapgl\"}], \"histogram\": [{\"marker\": {\"colorbar\": {\"outlinewidth\": 0, \"ticks\": \"\"}}, \"type\": \"histogram\"}], \"histogram2d\": [{\"colorbar\": {\"outlinewidth\": 0, \"ticks\": \"\"}, \"colorscale\": [[0.0, \"#0d0887\"], [0.1111111111111111, \"#46039f\"], [0.2222222222222222, \"#7201a8\"], [0.3333333333333333, \"#9c179e\"], [0.4444444444444444, \"#bd3786\"], [0.5555555555555556, \"#d8576b\"], [0.6666666666666666, \"#ed7953\"], [0.7777777777777778, \"#fb9f3a\"], [0.8888888888888888, \"#fdca26\"], [1.0, \"#f0f921\"]], \"type\": \"histogram2d\"}], \"histogram2dcontour\": [{\"colorbar\": {\"outlinewidth\": 0, \"ticks\": \"\"}, \"colorscale\": [[0.0, \"#0d0887\"], [0.1111111111111111, \"#46039f\"], [0.2222222222222222, \"#7201a8\"], [0.3333333333333333, \"#9c179e\"], [0.4444444444444444, \"#bd3786\"], [0.5555555555555556, \"#d8576b\"], [0.6666666666666666, \"#ed7953\"], [0.7777777777777778, \"#fb9f3a\"], [0.8888888888888888, \"#fdca26\"], [1.0, \"#f0f921\"]], \"type\": \"histogram2dcontour\"}], \"mesh3d\": [{\"colorbar\": {\"outlinewidth\": 0, \"ticks\": \"\"}, \"type\": \"mesh3d\"}], \"parcoords\": [{\"line\": {\"colorbar\": {\"outlinewidth\": 0, \"ticks\": \"\"}}, \"type\": \"parcoords\"}], \"pie\": [{\"automargin\": true, \"type\": \"pie\"}], \"scatter\": [{\"marker\": {\"colorbar\": {\"outlinewidth\": 0, \"ticks\": \"\"}}, \"type\": \"scatter\"}], \"scatter3d\": [{\"line\": {\"colorbar\": {\"outlinewidth\": 0, \"ticks\": \"\"}}, \"marker\": {\"colorbar\": {\"outlinewidth\": 0, \"ticks\": \"\"}}, \"type\": \"scatter3d\"}], \"scattercarpet\": [{\"marker\": {\"colorbar\": {\"outlinewidth\": 0, \"ticks\": \"\"}}, \"type\": \"scattercarpet\"}], \"scattergeo\": [{\"marker\": {\"colorbar\": {\"outlinewidth\": 0, \"ticks\": \"\"}}, \"type\": \"scattergeo\"}], \"scattergl\": [{\"marker\": {\"colorbar\": {\"outlinewidth\": 0, \"ticks\": \"\"}}, \"type\": \"scattergl\"}], \"scattermapbox\": [{\"marker\": {\"colorbar\": {\"outlinewidth\": 0, \"ticks\": \"\"}}, \"type\": \"scattermapbox\"}], \"scatterpolar\": [{\"marker\": {\"colorbar\": {\"outlinewidth\": 0, \"ticks\": \"\"}}, \"type\": \"scatterpolar\"}], \"scatterpolargl\": [{\"marker\": {\"colorbar\": {\"outlinewidth\": 0, \"ticks\": \"\"}}, \"type\": \"scatterpolargl\"}], \"scatterternary\": [{\"marker\": {\"colorbar\": {\"outlinewidth\": 0, \"ticks\": \"\"}}, \"type\": \"scatterternary\"}], \"surface\": [{\"colorbar\": {\"outlinewidth\": 0, \"ticks\": \"\"}, \"colorscale\": [[0.0, \"#0d0887\"], [0.1111111111111111, \"#46039f\"], [0.2222222222222222, \"#7201a8\"], [0.3333333333333333, \"#9c179e\"], [0.4444444444444444, \"#bd3786\"], [0.5555555555555556, \"#d8576b\"], [0.6666666666666666, \"#ed7953\"], [0.7777777777777778, \"#fb9f3a\"], [0.8888888888888888, \"#fdca26\"], [1.0, \"#f0f921\"]], \"type\": \"surface\"}], \"table\": [{\"cells\": {\"fill\": {\"color\": \"#EBF0F8\"}, \"line\": {\"color\": \"white\"}}, \"header\": {\"fill\": {\"color\": \"#C8D4E3\"}, \"line\": {\"color\": \"white\"}}, \"type\": \"table\"}]}, \"layout\": {\"annotationdefaults\": {\"arrowcolor\": \"#2a3f5f\", \"arrowhead\": 0, \"arrowwidth\": 1}, \"coloraxis\": {\"colorbar\": {\"outlinewidth\": 0, \"ticks\": \"\"}}, \"colorscale\": {\"diverging\": [[0, \"#8e0152\"], [0.1, \"#c51b7d\"], [0.2, \"#de77ae\"], [0.3, \"#f1b6da\"], [0.4, \"#fde0ef\"], [0.5, \"#f7f7f7\"], [0.6, \"#e6f5d0\"], [0.7, \"#b8e186\"], [0.8, \"#7fbc41\"], [0.9, \"#4d9221\"], [1, \"#276419\"]], \"sequential\": [[0.0, \"#0d0887\"], [0.1111111111111111, \"#46039f\"], [0.2222222222222222, \"#7201a8\"], [0.3333333333333333, \"#9c179e\"], [0.4444444444444444, \"#bd3786\"], [0.5555555555555556, \"#d8576b\"], [0.6666666666666666, \"#ed7953\"], [0.7777777777777778, \"#fb9f3a\"], [0.8888888888888888, \"#fdca26\"], [1.0, \"#f0f921\"]], \"sequentialminus\": [[0.0, \"#0d0887\"], [0.1111111111111111, \"#46039f\"], [0.2222222222222222, \"#7201a8\"], [0.3333333333333333, \"#9c179e\"], [0.4444444444444444, \"#bd3786\"], [0.5555555555555556, \"#d8576b\"], [0.6666666666666666, \"#ed7953\"], [0.7777777777777778, \"#fb9f3a\"], [0.8888888888888888, \"#fdca26\"], [1.0, \"#f0f921\"]]}, \"colorway\": [\"#636efa\", \"#EF553B\", \"#00cc96\", \"#ab63fa\", \"#FFA15A\", \"#19d3f3\", \"#FF6692\", \"#B6E880\", \"#FF97FF\", \"#FECB52\"], \"font\": {\"color\": \"#2a3f5f\"}, \"geo\": {\"bgcolor\": \"white\", \"lakecolor\": \"white\", \"landcolor\": \"#E5ECF6\", \"showlakes\": true, \"showland\": true, \"subunitcolor\": \"white\"}, \"hoverlabel\": {\"align\": \"left\"}, \"hovermode\": \"closest\", \"mapbox\": {\"style\": \"light\"}, \"paper_bgcolor\": \"white\", \"plot_bgcolor\": \"#E5ECF6\", \"polar\": {\"angularaxis\": {\"gridcolor\": \"white\", \"linecolor\": \"white\", \"ticks\": \"\"}, \"bgcolor\": \"#E5ECF6\", \"radialaxis\": {\"gridcolor\": \"white\", \"linecolor\": \"white\", \"ticks\": \"\"}}, \"scene\": {\"xaxis\": {\"backgroundcolor\": \"#E5ECF6\", \"gridcolor\": \"white\", \"gridwidth\": 2, \"linecolor\": \"white\", \"showbackground\": true, \"ticks\": \"\", \"zerolinecolor\": \"white\"}, \"yaxis\": {\"backgroundcolor\": \"#E5ECF6\", \"gridcolor\": \"white\", \"gridwidth\": 2, \"linecolor\": \"white\", \"showbackground\": true, \"ticks\": \"\", \"zerolinecolor\": \"white\"}, \"zaxis\": {\"backgroundcolor\": \"#E5ECF6\", \"gridcolor\": \"white\", \"gridwidth\": 2, \"linecolor\": \"white\", \"showbackground\": true, \"ticks\": \"\", \"zerolinecolor\": \"white\"}}, \"shapedefaults\": {\"line\": {\"color\": \"#2a3f5f\"}}, \"ternary\": {\"aaxis\": {\"gridcolor\": \"white\", \"linecolor\": \"white\", \"ticks\": \"\"}, \"baxis\": {\"gridcolor\": \"white\", \"linecolor\": \"white\", \"ticks\": \"\"}, \"bgcolor\": \"#E5ECF6\", \"caxis\": {\"gridcolor\": \"white\", \"linecolor\": \"white\", \"ticks\": \"\"}}, \"title\": {\"x\": 0.05}, \"xaxis\": {\"automargin\": true, \"gridcolor\": \"white\", \"linecolor\": \"white\", \"ticks\": \"\", \"title\": {\"standoff\": 15}, \"zerolinecolor\": \"white\", \"zerolinewidth\": 2}, \"yaxis\": {\"automargin\": true, \"gridcolor\": \"white\", \"linecolor\": \"white\", \"ticks\": \"\", \"title\": {\"standoff\": 15}, \"zerolinecolor\": \"white\", \"zerolinewidth\": 2}}}, \"title\": {\"text\": \"CLN20 Pseudo-Volatility vs Price\", \"x\": 0.5, \"xanchor\": \"center\", \"y\": 0.9, \"yanchor\": \"top\"}, \"xaxis\": {\"showspikes\": true, \"spikedash\": \"solid\", \"spikemode\": \"toaxis+across\", \"spikethickness\": 1, \"tickangle\": 45, \"ticktext\": [20200128, 20200203, 20200207, 20200213, 20200220, 20200225, 20200302, 20200306, 20200312, 20200318, 20200324, 20200330, 20200403, 20200409, 20200415, 20200421, 20200427, 20200501, 20200507, 20200513, 20200519, 20200526, 20200601, 20200605, 20200611], \"tickvals\": [20200128, 20200203, 20200207, 20200213, 20200220, 20200225, 20200302, 20200306, 20200312, 20200318, 20200324, 20200330, 20200403, 20200409, 20200415, 20200421, 20200427, 20200501, 20200507, 20200513, 20200519, 20200526, 20200601, 20200605, 20200611], \"type\": \"category\"}, \"yaxis\": {\"showspikes\": true, \"spikedash\": \"solid\", \"spikemode\": \"toaxis+across\", \"spikethickness\": 1, \"title\": {\"text\": \"Implied Volatility\"}}, \"yaxis2\": {\"overlaying\": \"y\", \"side\": \"right\", \"title\": {\"text\": \"Futures Close\"}}},\n",
       "                        {\"responsive\": true}\n",
       "                    ).then(function(){\n",
       "                            \n",
       "var gd = document.getElementById('dd3b378d-f92c-4f59-99b9-b3379d66f37e');\n",
       "var x = new MutationObserver(function (mutations, observer) {{\n",
       "        var display = window.getComputedStyle(gd).display;\n",
       "        if (!display || display === 'none') {{\n",
       "            console.log([gd, 'removed!']);\n",
       "            Plotly.purge(gd);\n",
       "            observer.disconnect();\n",
       "        }}\n",
       "}});\n",
       "\n",
       "// Listen for the removal of the full notebook cells\n",
       "var notebookContainer = gd.closest('#notebook-container');\n",
       "if (notebookContainer) {{\n",
       "    x.observe(notebookContainer, {childList: true});\n",
       "}}\n",
       "\n",
       "// Listen for the clearing of the current output cell\n",
       "var outputEl = gd.closest('.output');\n",
       "if (outputEl) {{\n",
       "    x.observe(outputEl, {childList: true});\n",
       "}}\n",
       "\n",
       "                        })\n",
       "                };\n",
       "                });\n",
       "            </script>\n",
       "        </div>"
      ]
     },
     "metadata": {},
     "output_type": "display_data"
    },
    {
     "data": {
      "application/vnd.plotly.v1+json": {
       "config": {
        "linkText": "Export to plot.ly",
        "plotlyServerURL": "https://plot.ly",
        "showLink": false
       },
       "data": [
        {
         "name": "iv",
         "type": "scatter",
         "x": [
          20200128,
          20200129,
          20200130,
          20200131,
          20200203,
          20200204,
          20200205,
          20200206,
          20200207,
          20200210,
          20200211,
          20200212,
          20200213,
          20200214,
          20200218,
          20200219,
          20200220,
          20200221,
          20200224,
          20200225,
          20200226,
          20200226,
          20200227,
          20200228,
          20200302,
          20200303,
          20200304,
          20200305,
          20200306,
          20200309,
          20200310,
          20200311,
          20200312,
          20200313,
          20200316,
          20200317,
          20200318,
          20200319,
          20200320,
          20200323,
          20200324,
          20200325,
          20200326,
          20200327,
          20200330,
          20200331,
          20200401,
          20200402,
          20200403,
          20200403,
          20200406,
          20200407,
          20200408,
          20200409,
          20200413,
          20200414,
          20200415,
          20200416,
          20200417,
          20200420,
          20200421,
          20200422,
          20200423,
          20200424,
          20200427,
          20200428,
          20200429,
          20200430,
          20200501,
          20200504,
          20200505,
          20200506,
          20200507,
          20200508,
          20200511,
          20200512,
          20200513,
          20200514,
          20200515,
          20200518,
          20200519,
          20200520,
          20200521,
          20200522,
          20200526,
          20200527,
          20200528,
          20200529,
          20200601,
          20200602,
          20200603,
          20200604,
          20200605,
          20200608,
          20200609,
          20200610,
          20200611,
          20200612,
          20200615
         ],
         "y": [
          0.32233632648185834,
          0.31704789822039786,
          0.3280315618441686,
          0.33946298491776755,
          0.33396385627120634,
          0.32213814214581893,
          0.3166611235347444,
          0.31611573596469067,
          0.3164828664470107,
          0.32393190177930437,
          0.31497956914046715,
          0.3131197063561151,
          0.31233035500041073,
          0.3127080819595625,
          0.3088103979296442,
          0.30411054150758815,
          0.3102127307648841,
          0.31686660178838616,
          0.3195203607151192,
          0.3293538824067935,
          0.32161169444354737,
          0.32161169444354737,
          0.3206558698465044,
          0.3163293543589526,
          0.33624623531568226,
          0.34628838663231215,
          0.35203669831151696,
          0.35308884095179033,
          0.3599064737383491,
          0.43705765909364036,
          0.40653993768397056,
          0.40904289795226173,
          0.4411611702226941,
          0.4551272020301167,
          0.46090346811233335,
          0.47405184725968075,
          0.5146293540841043,
          0.5435154181113078,
          0.5754821354472591,
          0.5573575451344169,
          0.5124300212311663,
          0.44609209457570215,
          0.4397111793686409,
          0.46751226342984986,
          0.4846855593500574,
          0.4812823159546018,
          0.4685670153004794,
          0.519636576116649,
          0.5421682491604154,
          0.5421682491604154,
          0.5124262578974493,
          0.4649297927598589,
          0.4619369104071112,
          0.4440390419725567,
          0.39950824338350116,
          0.41105115239128803,
          0.42982703960503377,
          0.42951011886437357,
          0.41436367095992926,
          0.48662926386292166,
          0.5757737204587589,
          0.5029399854314652,
          0.4887768332414211,
          0.5275762220880105,
          0.5495678590522509,
          0.5417685563922695,
          0.47386210026033265,
          0.45780830788135934,
          0.4572474656641678,
          0.39883553984063186,
          0.4253648445674876,
          0.4573877913469697,
          0.4632843804040334,
          0.44476044268484605,
          0.4205758512871165,
          0.4133105588705011,
          0.4116258337821266,
          0.4005797475634438,
          0.40733382388459727,
          0.4115111215143965,
          0.4071919925332953,
          0.385710015389448,
          0.383492047486702,
          0.4031242095456339,
          0.4047183200026545,
          0.44203426404490165,
          0.42596432513663435,
          0.40987749742176544,
          0.3964573771209737,
          0.3811452526224944,
          0.3775440991738818,
          0.3830280257905572,
          0.3845653587239588,
          0.39464590231964514,
          0.3935997164327299,
          0.3829677891457734,
          0.4393774279464475,
          0.4570803657860934,
          0.44539927168108767
         ],
         "yaxis": "y"
        },
        {
         "name": "fprice",
         "type": "scatter",
         "x": [
          20200128,
          20200129,
          20200130,
          20200131,
          20200203,
          20200204,
          20200205,
          20200206,
          20200207,
          20200210,
          20200211,
          20200212,
          20200213,
          20200214,
          20200218,
          20200219,
          20200220,
          20200221,
          20200224,
          20200225,
          20200226,
          20200226,
          20200227,
          20200228,
          20200302,
          20200303,
          20200304,
          20200305,
          20200306,
          20200309,
          20200310,
          20200311,
          20200312,
          20200313,
          20200316,
          20200317,
          20200318,
          20200319,
          20200320,
          20200323,
          20200324,
          20200325,
          20200326,
          20200327,
          20200330,
          20200331,
          20200401,
          20200402,
          20200403,
          20200403,
          20200406,
          20200407,
          20200408,
          20200409,
          20200413,
          20200414,
          20200415,
          20200416,
          20200417,
          20200420,
          20200421,
          20200422,
          20200423,
          20200424,
          20200427,
          20200428,
          20200429,
          20200430,
          20200501,
          20200504,
          20200505,
          20200506,
          20200507,
          20200508,
          20200511,
          20200512,
          20200513,
          20200514,
          20200515,
          20200518,
          20200519,
          20200520,
          20200521,
          20200522,
          20200526,
          20200527,
          20200528,
          20200529,
          20200601,
          20200602,
          20200603,
          20200604,
          20200605,
          20200608,
          20200609,
          20200610,
          20200611,
          20200612,
          20200615
         ],
         "y": [
          52.78,
          52.81,
          51.89,
          51.59,
          50.53,
          50.26,
          51.36,
          51.77,
          51.31,
          50.6,
          51.01,
          52.11,
          52.31,
          52.85,
          52.94,
          53.9,
          53.98,
          53.37,
          51.71,
          50.11,
          49,
          49,
          47.64,
          45.35,
          47.2,
          47.56,
          47.31,
          46.45,
          42.33,
          33.04,
          36.05,
          34.96,
          33.75,
          33.74,
          30.9,
          29.86,
          24.44,
          29.01,
          27.1,
          28.44,
          29.3,
          30.46,
          29.85,
          30.05,
          29.56,
          29.79,
          28.31,
          30.91,
          33,
          33,
          32.93,
          32.92,
          33.65,
          33.12,
          34.42,
          33.65,
          31.49,
          31.09,
          31.2,
          28.51,
          21.61,
          23.76,
          24.12,
          23.86,
          21.42,
          21.17,
          22.19,
          24.37,
          24.2,
          24.63,
          28.09,
          27.04,
          26.49,
          28.05,
          26.76,
          27.43,
          26.8,
          28.66,
          30.12,
          32.27,
          32.47,
          33.94,
          34.34,
          33.65,
          34.77,
          33.23,
          34.06,
          35.84,
          35.79,
          37.06,
          37.59,
          37.72,
          39.8,
          38.43,
          39.16,
          39.78,
          36.57,
          36.51,
          37.43
         ],
         "yaxis": "y2"
        }
       ],
       "layout": {
        "autosize": true,
        "hovermode": "x",
        "legend": {
         "orientation": "h",
         "x": 0,
         "y": 1.1
        },
        "margin": {
         "b": 100
        },
        "modebar": {
         "bgcolor": "grey",
         "orientation": "v"
        },
        "spikedistance": 1000,
        "template": {
         "data": {
          "bar": [
           {
            "error_x": {
             "color": "#2a3f5f"
            },
            "error_y": {
             "color": "#2a3f5f"
            },
            "marker": {
             "line": {
              "color": "#E5ECF6",
              "width": 0.5
             }
            },
            "type": "bar"
           }
          ],
          "barpolar": [
           {
            "marker": {
             "line": {
              "color": "#E5ECF6",
              "width": 0.5
             }
            },
            "type": "barpolar"
           }
          ],
          "carpet": [
           {
            "aaxis": {
             "endlinecolor": "#2a3f5f",
             "gridcolor": "white",
             "linecolor": "white",
             "minorgridcolor": "white",
             "startlinecolor": "#2a3f5f"
            },
            "baxis": {
             "endlinecolor": "#2a3f5f",
             "gridcolor": "white",
             "linecolor": "white",
             "minorgridcolor": "white",
             "startlinecolor": "#2a3f5f"
            },
            "type": "carpet"
           }
          ],
          "choropleth": [
           {
            "colorbar": {
             "outlinewidth": 0,
             "ticks": ""
            },
            "type": "choropleth"
           }
          ],
          "contour": [
           {
            "colorbar": {
             "outlinewidth": 0,
             "ticks": ""
            },
            "colorscale": [
             [
              0,
              "#0d0887"
             ],
             [
              0.1111111111111111,
              "#46039f"
             ],
             [
              0.2222222222222222,
              "#7201a8"
             ],
             [
              0.3333333333333333,
              "#9c179e"
             ],
             [
              0.4444444444444444,
              "#bd3786"
             ],
             [
              0.5555555555555556,
              "#d8576b"
             ],
             [
              0.6666666666666666,
              "#ed7953"
             ],
             [
              0.7777777777777778,
              "#fb9f3a"
             ],
             [
              0.8888888888888888,
              "#fdca26"
             ],
             [
              1,
              "#f0f921"
             ]
            ],
            "type": "contour"
           }
          ],
          "contourcarpet": [
           {
            "colorbar": {
             "outlinewidth": 0,
             "ticks": ""
            },
            "type": "contourcarpet"
           }
          ],
          "heatmap": [
           {
            "colorbar": {
             "outlinewidth": 0,
             "ticks": ""
            },
            "colorscale": [
             [
              0,
              "#0d0887"
             ],
             [
              0.1111111111111111,
              "#46039f"
             ],
             [
              0.2222222222222222,
              "#7201a8"
             ],
             [
              0.3333333333333333,
              "#9c179e"
             ],
             [
              0.4444444444444444,
              "#bd3786"
             ],
             [
              0.5555555555555556,
              "#d8576b"
             ],
             [
              0.6666666666666666,
              "#ed7953"
             ],
             [
              0.7777777777777778,
              "#fb9f3a"
             ],
             [
              0.8888888888888888,
              "#fdca26"
             ],
             [
              1,
              "#f0f921"
             ]
            ],
            "type": "heatmap"
           }
          ],
          "heatmapgl": [
           {
            "colorbar": {
             "outlinewidth": 0,
             "ticks": ""
            },
            "colorscale": [
             [
              0,
              "#0d0887"
             ],
             [
              0.1111111111111111,
              "#46039f"
             ],
             [
              0.2222222222222222,
              "#7201a8"
             ],
             [
              0.3333333333333333,
              "#9c179e"
             ],
             [
              0.4444444444444444,
              "#bd3786"
             ],
             [
              0.5555555555555556,
              "#d8576b"
             ],
             [
              0.6666666666666666,
              "#ed7953"
             ],
             [
              0.7777777777777778,
              "#fb9f3a"
             ],
             [
              0.8888888888888888,
              "#fdca26"
             ],
             [
              1,
              "#f0f921"
             ]
            ],
            "type": "heatmapgl"
           }
          ],
          "histogram": [
           {
            "marker": {
             "colorbar": {
              "outlinewidth": 0,
              "ticks": ""
             }
            },
            "type": "histogram"
           }
          ],
          "histogram2d": [
           {
            "colorbar": {
             "outlinewidth": 0,
             "ticks": ""
            },
            "colorscale": [
             [
              0,
              "#0d0887"
             ],
             [
              0.1111111111111111,
              "#46039f"
             ],
             [
              0.2222222222222222,
              "#7201a8"
             ],
             [
              0.3333333333333333,
              "#9c179e"
             ],
             [
              0.4444444444444444,
              "#bd3786"
             ],
             [
              0.5555555555555556,
              "#d8576b"
             ],
             [
              0.6666666666666666,
              "#ed7953"
             ],
             [
              0.7777777777777778,
              "#fb9f3a"
             ],
             [
              0.8888888888888888,
              "#fdca26"
             ],
             [
              1,
              "#f0f921"
             ]
            ],
            "type": "histogram2d"
           }
          ],
          "histogram2dcontour": [
           {
            "colorbar": {
             "outlinewidth": 0,
             "ticks": ""
            },
            "colorscale": [
             [
              0,
              "#0d0887"
             ],
             [
              0.1111111111111111,
              "#46039f"
             ],
             [
              0.2222222222222222,
              "#7201a8"
             ],
             [
              0.3333333333333333,
              "#9c179e"
             ],
             [
              0.4444444444444444,
              "#bd3786"
             ],
             [
              0.5555555555555556,
              "#d8576b"
             ],
             [
              0.6666666666666666,
              "#ed7953"
             ],
             [
              0.7777777777777778,
              "#fb9f3a"
             ],
             [
              0.8888888888888888,
              "#fdca26"
             ],
             [
              1,
              "#f0f921"
             ]
            ],
            "type": "histogram2dcontour"
           }
          ],
          "mesh3d": [
           {
            "colorbar": {
             "outlinewidth": 0,
             "ticks": ""
            },
            "type": "mesh3d"
           }
          ],
          "parcoords": [
           {
            "line": {
             "colorbar": {
              "outlinewidth": 0,
              "ticks": ""
             }
            },
            "type": "parcoords"
           }
          ],
          "pie": [
           {
            "automargin": true,
            "type": "pie"
           }
          ],
          "scatter": [
           {
            "marker": {
             "colorbar": {
              "outlinewidth": 0,
              "ticks": ""
             }
            },
            "type": "scatter"
           }
          ],
          "scatter3d": [
           {
            "line": {
             "colorbar": {
              "outlinewidth": 0,
              "ticks": ""
             }
            },
            "marker": {
             "colorbar": {
              "outlinewidth": 0,
              "ticks": ""
             }
            },
            "type": "scatter3d"
           }
          ],
          "scattercarpet": [
           {
            "marker": {
             "colorbar": {
              "outlinewidth": 0,
              "ticks": ""
             }
            },
            "type": "scattercarpet"
           }
          ],
          "scattergeo": [
           {
            "marker": {
             "colorbar": {
              "outlinewidth": 0,
              "ticks": ""
             }
            },
            "type": "scattergeo"
           }
          ],
          "scattergl": [
           {
            "marker": {
             "colorbar": {
              "outlinewidth": 0,
              "ticks": ""
             }
            },
            "type": "scattergl"
           }
          ],
          "scattermapbox": [
           {
            "marker": {
             "colorbar": {
              "outlinewidth": 0,
              "ticks": ""
             }
            },
            "type": "scattermapbox"
           }
          ],
          "scatterpolar": [
           {
            "marker": {
             "colorbar": {
              "outlinewidth": 0,
              "ticks": ""
             }
            },
            "type": "scatterpolar"
           }
          ],
          "scatterpolargl": [
           {
            "marker": {
             "colorbar": {
              "outlinewidth": 0,
              "ticks": ""
             }
            },
            "type": "scatterpolargl"
           }
          ],
          "scatterternary": [
           {
            "marker": {
             "colorbar": {
              "outlinewidth": 0,
              "ticks": ""
             }
            },
            "type": "scatterternary"
           }
          ],
          "surface": [
           {
            "colorbar": {
             "outlinewidth": 0,
             "ticks": ""
            },
            "colorscale": [
             [
              0,
              "#0d0887"
             ],
             [
              0.1111111111111111,
              "#46039f"
             ],
             [
              0.2222222222222222,
              "#7201a8"
             ],
             [
              0.3333333333333333,
              "#9c179e"
             ],
             [
              0.4444444444444444,
              "#bd3786"
             ],
             [
              0.5555555555555556,
              "#d8576b"
             ],
             [
              0.6666666666666666,
              "#ed7953"
             ],
             [
              0.7777777777777778,
              "#fb9f3a"
             ],
             [
              0.8888888888888888,
              "#fdca26"
             ],
             [
              1,
              "#f0f921"
             ]
            ],
            "type": "surface"
           }
          ],
          "table": [
           {
            "cells": {
             "fill": {
              "color": "#EBF0F8"
             },
             "line": {
              "color": "white"
             }
            },
            "header": {
             "fill": {
              "color": "#C8D4E3"
             },
             "line": {
              "color": "white"
             }
            },
            "type": "table"
           }
          ]
         },
         "layout": {
          "annotationdefaults": {
           "arrowcolor": "#2a3f5f",
           "arrowhead": 0,
           "arrowwidth": 1
          },
          "coloraxis": {
           "colorbar": {
            "outlinewidth": 0,
            "ticks": ""
           }
          },
          "colorscale": {
           "diverging": [
            [
             0,
             "#8e0152"
            ],
            [
             0.1,
             "#c51b7d"
            ],
            [
             0.2,
             "#de77ae"
            ],
            [
             0.3,
             "#f1b6da"
            ],
            [
             0.4,
             "#fde0ef"
            ],
            [
             0.5,
             "#f7f7f7"
            ],
            [
             0.6,
             "#e6f5d0"
            ],
            [
             0.7,
             "#b8e186"
            ],
            [
             0.8,
             "#7fbc41"
            ],
            [
             0.9,
             "#4d9221"
            ],
            [
             1,
             "#276419"
            ]
           ],
           "sequential": [
            [
             0,
             "#0d0887"
            ],
            [
             0.1111111111111111,
             "#46039f"
            ],
            [
             0.2222222222222222,
             "#7201a8"
            ],
            [
             0.3333333333333333,
             "#9c179e"
            ],
            [
             0.4444444444444444,
             "#bd3786"
            ],
            [
             0.5555555555555556,
             "#d8576b"
            ],
            [
             0.6666666666666666,
             "#ed7953"
            ],
            [
             0.7777777777777778,
             "#fb9f3a"
            ],
            [
             0.8888888888888888,
             "#fdca26"
            ],
            [
             1,
             "#f0f921"
            ]
           ],
           "sequentialminus": [
            [
             0,
             "#0d0887"
            ],
            [
             0.1111111111111111,
             "#46039f"
            ],
            [
             0.2222222222222222,
             "#7201a8"
            ],
            [
             0.3333333333333333,
             "#9c179e"
            ],
            [
             0.4444444444444444,
             "#bd3786"
            ],
            [
             0.5555555555555556,
             "#d8576b"
            ],
            [
             0.6666666666666666,
             "#ed7953"
            ],
            [
             0.7777777777777778,
             "#fb9f3a"
            ],
            [
             0.8888888888888888,
             "#fdca26"
            ],
            [
             1,
             "#f0f921"
            ]
           ]
          },
          "colorway": [
           "#636efa",
           "#EF553B",
           "#00cc96",
           "#ab63fa",
           "#FFA15A",
           "#19d3f3",
           "#FF6692",
           "#B6E880",
           "#FF97FF",
           "#FECB52"
          ],
          "font": {
           "color": "#2a3f5f"
          },
          "geo": {
           "bgcolor": "white",
           "lakecolor": "white",
           "landcolor": "#E5ECF6",
           "showlakes": true,
           "showland": true,
           "subunitcolor": "white"
          },
          "hoverlabel": {
           "align": "left"
          },
          "hovermode": "closest",
          "mapbox": {
           "style": "light"
          },
          "paper_bgcolor": "white",
          "plot_bgcolor": "#E5ECF6",
          "polar": {
           "angularaxis": {
            "gridcolor": "white",
            "linecolor": "white",
            "ticks": ""
           },
           "bgcolor": "#E5ECF6",
           "radialaxis": {
            "gridcolor": "white",
            "linecolor": "white",
            "ticks": ""
           }
          },
          "scene": {
           "xaxis": {
            "backgroundcolor": "#E5ECF6",
            "gridcolor": "white",
            "gridwidth": 2,
            "linecolor": "white",
            "showbackground": true,
            "ticks": "",
            "zerolinecolor": "white"
           },
           "yaxis": {
            "backgroundcolor": "#E5ECF6",
            "gridcolor": "white",
            "gridwidth": 2,
            "linecolor": "white",
            "showbackground": true,
            "ticks": "",
            "zerolinecolor": "white"
           },
           "zaxis": {
            "backgroundcolor": "#E5ECF6",
            "gridcolor": "white",
            "gridwidth": 2,
            "linecolor": "white",
            "showbackground": true,
            "ticks": "",
            "zerolinecolor": "white"
           }
          },
          "shapedefaults": {
           "line": {
            "color": "#2a3f5f"
           }
          },
          "ternary": {
           "aaxis": {
            "gridcolor": "white",
            "linecolor": "white",
            "ticks": ""
           },
           "baxis": {
            "gridcolor": "white",
            "linecolor": "white",
            "ticks": ""
           },
           "bgcolor": "#E5ECF6",
           "caxis": {
            "gridcolor": "white",
            "linecolor": "white",
            "ticks": ""
           }
          },
          "title": {
           "x": 0.05
          },
          "xaxis": {
           "automargin": true,
           "gridcolor": "white",
           "linecolor": "white",
           "ticks": "",
           "title": {
            "standoff": 15
           },
           "zerolinecolor": "white",
           "zerolinewidth": 2
          },
          "yaxis": {
           "automargin": true,
           "gridcolor": "white",
           "linecolor": "white",
           "ticks": "",
           "title": {
            "standoff": 15
           },
           "zerolinecolor": "white",
           "zerolinewidth": 2
          }
         }
        },
        "title": {
         "text": "CLQ20 Pseudo-Volatility vs Price",
         "x": 0.5,
         "xanchor": "center",
         "y": 0.9,
         "yanchor": "top"
        },
        "xaxis": {
         "showspikes": true,
         "spikedash": "solid",
         "spikemode": "toaxis+across",
         "spikethickness": 1,
         "tickangle": 45,
         "ticktext": [
          20200128,
          20200203,
          20200207,
          20200213,
          20200220,
          20200226,
          20200302,
          20200306,
          20200312,
          20200318,
          20200324,
          20200330,
          20200403,
          20200408,
          20200415,
          20200421,
          20200427,
          20200501,
          20200507,
          20200513,
          20200519,
          20200526,
          20200601,
          20200605,
          20200611
         ],
         "tickvals": [
          20200128,
          20200203,
          20200207,
          20200213,
          20200220,
          20200226,
          20200302,
          20200306,
          20200312,
          20200318,
          20200324,
          20200330,
          20200403,
          20200408,
          20200415,
          20200421,
          20200427,
          20200501,
          20200507,
          20200513,
          20200519,
          20200526,
          20200601,
          20200605,
          20200611
         ],
         "type": "category"
        },
        "yaxis": {
         "showspikes": true,
         "spikedash": "solid",
         "spikemode": "toaxis+across",
         "spikethickness": 1,
         "title": {
          "text": "Implied Volatility"
         }
        },
        "yaxis2": {
         "overlaying": "y",
         "side": "right",
         "title": {
          "text": "Futures Close"
         }
        }
       }
      },
      "text/html": [
       "<div>\n",
       "        \n",
       "        \n",
       "            <div id=\"d795a973-d317-44f7-9f02-0a71d0c9a866\" class=\"plotly-graph-div\" style=\"height:525px; width:100%;\"></div>\n",
       "            <script type=\"text/javascript\">\n",
       "                require([\"plotly\"], function(Plotly) {\n",
       "                    window.PLOTLYENV=window.PLOTLYENV || {};\n",
       "                    \n",
       "                if (document.getElementById(\"d795a973-d317-44f7-9f02-0a71d0c9a866\")) {\n",
       "                    Plotly.newPlot(\n",
       "                        'd795a973-d317-44f7-9f02-0a71d0c9a866',\n",
       "                        [{\"name\": \"iv\", \"type\": \"scatter\", \"x\": [20200128, 20200129, 20200130, 20200131, 20200203, 20200204, 20200205, 20200206, 20200207, 20200210, 20200211, 20200212, 20200213, 20200214, 20200218, 20200219, 20200220, 20200221, 20200224, 20200225, 20200226, 20200226, 20200227, 20200228, 20200302, 20200303, 20200304, 20200305, 20200306, 20200309, 20200310, 20200311, 20200312, 20200313, 20200316, 20200317, 20200318, 20200319, 20200320, 20200323, 20200324, 20200325, 20200326, 20200327, 20200330, 20200331, 20200401, 20200402, 20200403, 20200403, 20200406, 20200407, 20200408, 20200409, 20200413, 20200414, 20200415, 20200416, 20200417, 20200420, 20200421, 20200422, 20200423, 20200424, 20200427, 20200428, 20200429, 20200430, 20200501, 20200504, 20200505, 20200506, 20200507, 20200508, 20200511, 20200512, 20200513, 20200514, 20200515, 20200518, 20200519, 20200520, 20200521, 20200522, 20200526, 20200527, 20200528, 20200529, 20200601, 20200602, 20200603, 20200604, 20200605, 20200608, 20200609, 20200610, 20200611, 20200612, 20200615], \"y\": [0.32233632648185834, 0.31704789822039786, 0.3280315618441686, 0.33946298491776755, 0.33396385627120634, 0.32213814214581893, 0.3166611235347444, 0.31611573596469067, 0.3164828664470107, 0.32393190177930437, 0.31497956914046715, 0.3131197063561151, 0.31233035500041073, 0.3127080819595625, 0.3088103979296442, 0.30411054150758815, 0.3102127307648841, 0.31686660178838616, 0.3195203607151192, 0.3293538824067935, 0.32161169444354737, 0.32161169444354737, 0.3206558698465044, 0.3163293543589526, 0.33624623531568226, 0.34628838663231215, 0.35203669831151696, 0.35308884095179033, 0.3599064737383491, 0.43705765909364036, 0.40653993768397056, 0.40904289795226173, 0.4411611702226941, 0.4551272020301167, 0.46090346811233335, 0.47405184725968075, 0.5146293540841043, 0.5435154181113078, 0.5754821354472591, 0.5573575451344169, 0.5124300212311663, 0.44609209457570215, 0.4397111793686409, 0.46751226342984986, 0.4846855593500574, 0.4812823159546018, 0.4685670153004794, 0.519636576116649, 0.5421682491604154, 0.5421682491604154, 0.5124262578974493, 0.4649297927598589, 0.4619369104071112, 0.4440390419725567, 0.39950824338350116, 0.41105115239128803, 0.42982703960503377, 0.42951011886437357, 0.41436367095992926, 0.48662926386292166, 0.5757737204587589, 0.5029399854314652, 0.4887768332414211, 0.5275762220880105, 0.5495678590522509, 0.5417685563922695, 0.47386210026033265, 0.45780830788135934, 0.4572474656641678, 0.39883553984063186, 0.4253648445674876, 0.4573877913469697, 0.4632843804040334, 0.44476044268484605, 0.4205758512871165, 0.4133105588705011, 0.4116258337821266, 0.4005797475634438, 0.40733382388459727, 0.4115111215143965, 0.4071919925332953, 0.385710015389448, 0.383492047486702, 0.4031242095456339, 0.4047183200026545, 0.44203426404490165, 0.42596432513663435, 0.40987749742176544, 0.3964573771209737, 0.3811452526224944, 0.3775440991738818, 0.3830280257905572, 0.3845653587239588, 0.39464590231964514, 0.3935997164327299, 0.3829677891457734, 0.4393774279464475, 0.4570803657860934, 0.44539927168108767], \"yaxis\": \"y\"}, {\"name\": \"fprice\", \"type\": \"scatter\", \"x\": [20200128, 20200129, 20200130, 20200131, 20200203, 20200204, 20200205, 20200206, 20200207, 20200210, 20200211, 20200212, 20200213, 20200214, 20200218, 20200219, 20200220, 20200221, 20200224, 20200225, 20200226, 20200226, 20200227, 20200228, 20200302, 20200303, 20200304, 20200305, 20200306, 20200309, 20200310, 20200311, 20200312, 20200313, 20200316, 20200317, 20200318, 20200319, 20200320, 20200323, 20200324, 20200325, 20200326, 20200327, 20200330, 20200331, 20200401, 20200402, 20200403, 20200403, 20200406, 20200407, 20200408, 20200409, 20200413, 20200414, 20200415, 20200416, 20200417, 20200420, 20200421, 20200422, 20200423, 20200424, 20200427, 20200428, 20200429, 20200430, 20200501, 20200504, 20200505, 20200506, 20200507, 20200508, 20200511, 20200512, 20200513, 20200514, 20200515, 20200518, 20200519, 20200520, 20200521, 20200522, 20200526, 20200527, 20200528, 20200529, 20200601, 20200602, 20200603, 20200604, 20200605, 20200608, 20200609, 20200610, 20200611, 20200612, 20200615], \"y\": [52.78, 52.81, 51.89, 51.59, 50.53, 50.26, 51.36, 51.77, 51.31, 50.6, 51.01, 52.11, 52.31, 52.85, 52.94, 53.9, 53.98, 53.37, 51.71, 50.11, 49.0, 49.0, 47.64, 45.35, 47.2, 47.56, 47.31, 46.45, 42.33, 33.04, 36.05, 34.96, 33.75, 33.74, 30.9, 29.86, 24.44, 29.01, 27.1, 28.44, 29.3, 30.46, 29.85, 30.05, 29.56, 29.79, 28.31, 30.91, 33.0, 33.0, 32.93, 32.92, 33.65, 33.12, 34.42, 33.65, 31.49, 31.09, 31.2, 28.51, 21.61, 23.76, 24.12, 23.86, 21.42, 21.17, 22.19, 24.37, 24.2, 24.63, 28.09, 27.04, 26.49, 28.05, 26.76, 27.43, 26.8, 28.66, 30.12, 32.27, 32.47, 33.94, 34.34, 33.65, 34.77, 33.23, 34.06, 35.84, 35.79, 37.06, 37.59, 37.72, 39.8, 38.43, 39.16, 39.78, 36.57, 36.51, 37.43], \"yaxis\": \"y2\"}],\n",
       "                        {\"autosize\": true, \"hovermode\": \"x\", \"legend\": {\"orientation\": \"h\", \"x\": 0, \"y\": 1.1}, \"margin\": {\"b\": 100}, \"modebar\": {\"bgcolor\": \"grey\", \"orientation\": \"v\"}, \"spikedistance\": 1000, \"template\": {\"data\": {\"bar\": [{\"error_x\": {\"color\": \"#2a3f5f\"}, \"error_y\": {\"color\": \"#2a3f5f\"}, \"marker\": {\"line\": {\"color\": \"#E5ECF6\", \"width\": 0.5}}, \"type\": \"bar\"}], \"barpolar\": [{\"marker\": {\"line\": {\"color\": \"#E5ECF6\", \"width\": 0.5}}, \"type\": \"barpolar\"}], \"carpet\": [{\"aaxis\": {\"endlinecolor\": \"#2a3f5f\", \"gridcolor\": \"white\", \"linecolor\": \"white\", \"minorgridcolor\": \"white\", \"startlinecolor\": \"#2a3f5f\"}, \"baxis\": {\"endlinecolor\": \"#2a3f5f\", \"gridcolor\": \"white\", \"linecolor\": \"white\", \"minorgridcolor\": \"white\", \"startlinecolor\": \"#2a3f5f\"}, \"type\": \"carpet\"}], \"choropleth\": [{\"colorbar\": {\"outlinewidth\": 0, \"ticks\": \"\"}, \"type\": \"choropleth\"}], \"contour\": [{\"colorbar\": {\"outlinewidth\": 0, \"ticks\": \"\"}, \"colorscale\": [[0.0, \"#0d0887\"], [0.1111111111111111, \"#46039f\"], [0.2222222222222222, \"#7201a8\"], [0.3333333333333333, \"#9c179e\"], [0.4444444444444444, \"#bd3786\"], [0.5555555555555556, \"#d8576b\"], [0.6666666666666666, \"#ed7953\"], [0.7777777777777778, \"#fb9f3a\"], [0.8888888888888888, \"#fdca26\"], [1.0, \"#f0f921\"]], \"type\": \"contour\"}], \"contourcarpet\": [{\"colorbar\": {\"outlinewidth\": 0, \"ticks\": \"\"}, \"type\": \"contourcarpet\"}], \"heatmap\": [{\"colorbar\": {\"outlinewidth\": 0, \"ticks\": \"\"}, \"colorscale\": [[0.0, \"#0d0887\"], [0.1111111111111111, \"#46039f\"], [0.2222222222222222, \"#7201a8\"], [0.3333333333333333, \"#9c179e\"], [0.4444444444444444, \"#bd3786\"], [0.5555555555555556, \"#d8576b\"], [0.6666666666666666, \"#ed7953\"], [0.7777777777777778, \"#fb9f3a\"], [0.8888888888888888, \"#fdca26\"], [1.0, \"#f0f921\"]], \"type\": \"heatmap\"}], \"heatmapgl\": [{\"colorbar\": {\"outlinewidth\": 0, \"ticks\": \"\"}, \"colorscale\": [[0.0, \"#0d0887\"], [0.1111111111111111, \"#46039f\"], [0.2222222222222222, \"#7201a8\"], [0.3333333333333333, \"#9c179e\"], [0.4444444444444444, \"#bd3786\"], [0.5555555555555556, \"#d8576b\"], [0.6666666666666666, \"#ed7953\"], [0.7777777777777778, \"#fb9f3a\"], [0.8888888888888888, \"#fdca26\"], [1.0, \"#f0f921\"]], \"type\": \"heatmapgl\"}], \"histogram\": [{\"marker\": {\"colorbar\": {\"outlinewidth\": 0, \"ticks\": \"\"}}, \"type\": \"histogram\"}], \"histogram2d\": [{\"colorbar\": {\"outlinewidth\": 0, \"ticks\": \"\"}, \"colorscale\": [[0.0, \"#0d0887\"], [0.1111111111111111, \"#46039f\"], [0.2222222222222222, \"#7201a8\"], [0.3333333333333333, \"#9c179e\"], [0.4444444444444444, \"#bd3786\"], [0.5555555555555556, \"#d8576b\"], [0.6666666666666666, \"#ed7953\"], [0.7777777777777778, \"#fb9f3a\"], [0.8888888888888888, \"#fdca26\"], [1.0, \"#f0f921\"]], \"type\": \"histogram2d\"}], \"histogram2dcontour\": [{\"colorbar\": {\"outlinewidth\": 0, \"ticks\": \"\"}, \"colorscale\": [[0.0, \"#0d0887\"], [0.1111111111111111, \"#46039f\"], [0.2222222222222222, \"#7201a8\"], [0.3333333333333333, \"#9c179e\"], [0.4444444444444444, \"#bd3786\"], [0.5555555555555556, \"#d8576b\"], [0.6666666666666666, \"#ed7953\"], [0.7777777777777778, \"#fb9f3a\"], [0.8888888888888888, \"#fdca26\"], [1.0, \"#f0f921\"]], \"type\": \"histogram2dcontour\"}], \"mesh3d\": [{\"colorbar\": {\"outlinewidth\": 0, \"ticks\": \"\"}, \"type\": \"mesh3d\"}], \"parcoords\": [{\"line\": {\"colorbar\": {\"outlinewidth\": 0, \"ticks\": \"\"}}, \"type\": \"parcoords\"}], \"pie\": [{\"automargin\": true, \"type\": \"pie\"}], \"scatter\": [{\"marker\": {\"colorbar\": {\"outlinewidth\": 0, \"ticks\": \"\"}}, \"type\": \"scatter\"}], \"scatter3d\": [{\"line\": {\"colorbar\": {\"outlinewidth\": 0, \"ticks\": \"\"}}, \"marker\": {\"colorbar\": {\"outlinewidth\": 0, \"ticks\": \"\"}}, \"type\": \"scatter3d\"}], \"scattercarpet\": [{\"marker\": {\"colorbar\": {\"outlinewidth\": 0, \"ticks\": \"\"}}, \"type\": \"scattercarpet\"}], \"scattergeo\": [{\"marker\": {\"colorbar\": {\"outlinewidth\": 0, \"ticks\": \"\"}}, \"type\": \"scattergeo\"}], \"scattergl\": [{\"marker\": {\"colorbar\": {\"outlinewidth\": 0, \"ticks\": \"\"}}, \"type\": \"scattergl\"}], \"scattermapbox\": [{\"marker\": {\"colorbar\": {\"outlinewidth\": 0, \"ticks\": \"\"}}, \"type\": \"scattermapbox\"}], \"scatterpolar\": [{\"marker\": {\"colorbar\": {\"outlinewidth\": 0, \"ticks\": \"\"}}, \"type\": \"scatterpolar\"}], \"scatterpolargl\": [{\"marker\": {\"colorbar\": {\"outlinewidth\": 0, \"ticks\": \"\"}}, \"type\": \"scatterpolargl\"}], \"scatterternary\": [{\"marker\": {\"colorbar\": {\"outlinewidth\": 0, \"ticks\": \"\"}}, \"type\": \"scatterternary\"}], \"surface\": [{\"colorbar\": {\"outlinewidth\": 0, \"ticks\": \"\"}, \"colorscale\": [[0.0, \"#0d0887\"], [0.1111111111111111, \"#46039f\"], [0.2222222222222222, \"#7201a8\"], [0.3333333333333333, \"#9c179e\"], [0.4444444444444444, \"#bd3786\"], [0.5555555555555556, \"#d8576b\"], [0.6666666666666666, \"#ed7953\"], [0.7777777777777778, \"#fb9f3a\"], [0.8888888888888888, \"#fdca26\"], [1.0, \"#f0f921\"]], \"type\": \"surface\"}], \"table\": [{\"cells\": {\"fill\": {\"color\": \"#EBF0F8\"}, \"line\": {\"color\": \"white\"}}, \"header\": {\"fill\": {\"color\": \"#C8D4E3\"}, \"line\": {\"color\": \"white\"}}, \"type\": \"table\"}]}, \"layout\": {\"annotationdefaults\": {\"arrowcolor\": \"#2a3f5f\", \"arrowhead\": 0, \"arrowwidth\": 1}, \"coloraxis\": {\"colorbar\": {\"outlinewidth\": 0, \"ticks\": \"\"}}, \"colorscale\": {\"diverging\": [[0, \"#8e0152\"], [0.1, \"#c51b7d\"], [0.2, \"#de77ae\"], [0.3, \"#f1b6da\"], [0.4, \"#fde0ef\"], [0.5, \"#f7f7f7\"], [0.6, \"#e6f5d0\"], [0.7, \"#b8e186\"], [0.8, \"#7fbc41\"], [0.9, \"#4d9221\"], [1, \"#276419\"]], \"sequential\": [[0.0, \"#0d0887\"], [0.1111111111111111, \"#46039f\"], [0.2222222222222222, \"#7201a8\"], [0.3333333333333333, \"#9c179e\"], [0.4444444444444444, \"#bd3786\"], [0.5555555555555556, \"#d8576b\"], [0.6666666666666666, \"#ed7953\"], [0.7777777777777778, \"#fb9f3a\"], [0.8888888888888888, \"#fdca26\"], [1.0, \"#f0f921\"]], \"sequentialminus\": [[0.0, \"#0d0887\"], [0.1111111111111111, \"#46039f\"], [0.2222222222222222, \"#7201a8\"], [0.3333333333333333, \"#9c179e\"], [0.4444444444444444, \"#bd3786\"], [0.5555555555555556, \"#d8576b\"], [0.6666666666666666, \"#ed7953\"], [0.7777777777777778, \"#fb9f3a\"], [0.8888888888888888, \"#fdca26\"], [1.0, \"#f0f921\"]]}, \"colorway\": [\"#636efa\", \"#EF553B\", \"#00cc96\", \"#ab63fa\", \"#FFA15A\", \"#19d3f3\", \"#FF6692\", \"#B6E880\", \"#FF97FF\", \"#FECB52\"], \"font\": {\"color\": \"#2a3f5f\"}, \"geo\": {\"bgcolor\": \"white\", \"lakecolor\": \"white\", \"landcolor\": \"#E5ECF6\", \"showlakes\": true, \"showland\": true, \"subunitcolor\": \"white\"}, \"hoverlabel\": {\"align\": \"left\"}, \"hovermode\": \"closest\", \"mapbox\": {\"style\": \"light\"}, \"paper_bgcolor\": \"white\", \"plot_bgcolor\": \"#E5ECF6\", \"polar\": {\"angularaxis\": {\"gridcolor\": \"white\", \"linecolor\": \"white\", \"ticks\": \"\"}, \"bgcolor\": \"#E5ECF6\", \"radialaxis\": {\"gridcolor\": \"white\", \"linecolor\": \"white\", \"ticks\": \"\"}}, \"scene\": {\"xaxis\": {\"backgroundcolor\": \"#E5ECF6\", \"gridcolor\": \"white\", \"gridwidth\": 2, \"linecolor\": \"white\", \"showbackground\": true, \"ticks\": \"\", \"zerolinecolor\": \"white\"}, \"yaxis\": {\"backgroundcolor\": \"#E5ECF6\", \"gridcolor\": \"white\", \"gridwidth\": 2, \"linecolor\": \"white\", \"showbackground\": true, \"ticks\": \"\", \"zerolinecolor\": \"white\"}, \"zaxis\": {\"backgroundcolor\": \"#E5ECF6\", \"gridcolor\": \"white\", \"gridwidth\": 2, \"linecolor\": \"white\", \"showbackground\": true, \"ticks\": \"\", \"zerolinecolor\": \"white\"}}, \"shapedefaults\": {\"line\": {\"color\": \"#2a3f5f\"}}, \"ternary\": {\"aaxis\": {\"gridcolor\": \"white\", \"linecolor\": \"white\", \"ticks\": \"\"}, \"baxis\": {\"gridcolor\": \"white\", \"linecolor\": \"white\", \"ticks\": \"\"}, \"bgcolor\": \"#E5ECF6\", \"caxis\": {\"gridcolor\": \"white\", \"linecolor\": \"white\", \"ticks\": \"\"}}, \"title\": {\"x\": 0.05}, \"xaxis\": {\"automargin\": true, \"gridcolor\": \"white\", \"linecolor\": \"white\", \"ticks\": \"\", \"title\": {\"standoff\": 15}, \"zerolinecolor\": \"white\", \"zerolinewidth\": 2}, \"yaxis\": {\"automargin\": true, \"gridcolor\": \"white\", \"linecolor\": \"white\", \"ticks\": \"\", \"title\": {\"standoff\": 15}, \"zerolinecolor\": \"white\", \"zerolinewidth\": 2}}}, \"title\": {\"text\": \"CLQ20 Pseudo-Volatility vs Price\", \"x\": 0.5, \"xanchor\": \"center\", \"y\": 0.9, \"yanchor\": \"top\"}, \"xaxis\": {\"showspikes\": true, \"spikedash\": \"solid\", \"spikemode\": \"toaxis+across\", \"spikethickness\": 1, \"tickangle\": 45, \"ticktext\": [20200128, 20200203, 20200207, 20200213, 20200220, 20200226, 20200302, 20200306, 20200312, 20200318, 20200324, 20200330, 20200403, 20200408, 20200415, 20200421, 20200427, 20200501, 20200507, 20200513, 20200519, 20200526, 20200601, 20200605, 20200611], \"tickvals\": [20200128, 20200203, 20200207, 20200213, 20200220, 20200226, 20200302, 20200306, 20200312, 20200318, 20200324, 20200330, 20200403, 20200408, 20200415, 20200421, 20200427, 20200501, 20200507, 20200513, 20200519, 20200526, 20200601, 20200605, 20200611], \"type\": \"category\"}, \"yaxis\": {\"showspikes\": true, \"spikedash\": \"solid\", \"spikemode\": \"toaxis+across\", \"spikethickness\": 1, \"title\": {\"text\": \"Implied Volatility\"}}, \"yaxis2\": {\"overlaying\": \"y\", \"side\": \"right\", \"title\": {\"text\": \"Futures Close\"}}},\n",
       "                        {\"responsive\": true}\n",
       "                    ).then(function(){\n",
       "                            \n",
       "var gd = document.getElementById('d795a973-d317-44f7-9f02-0a71d0c9a866');\n",
       "var x = new MutationObserver(function (mutations, observer) {{\n",
       "        var display = window.getComputedStyle(gd).display;\n",
       "        if (!display || display === 'none') {{\n",
       "            console.log([gd, 'removed!']);\n",
       "            Plotly.purge(gd);\n",
       "            observer.disconnect();\n",
       "        }}\n",
       "}});\n",
       "\n",
       "// Listen for the removal of the full notebook cells\n",
       "var notebookContainer = gd.closest('#notebook-container');\n",
       "if (notebookContainer) {{\n",
       "    x.observe(notebookContainer, {childList: true});\n",
       "}}\n",
       "\n",
       "// Listen for the clearing of the current output cell\n",
       "var outputEl = gd.closest('.output');\n",
       "if (outputEl) {{\n",
       "    x.observe(outputEl, {childList: true});\n",
       "}}\n",
       "\n",
       "                        })\n",
       "                };\n",
       "                });\n",
       "            </script>\n",
       "        </div>"
      ]
     },
     "metadata": {},
     "output_type": "display_data"
    },
    {
     "data": {
      "application/vnd.plotly.v1+json": {
       "config": {
        "linkText": "Export to plot.ly",
        "plotlyServerURL": "https://plot.ly",
        "showLink": false
       },
       "data": [
        {
         "name": "iv",
         "type": "scatter",
         "x": [
          20200203,
          20200204,
          20200205,
          20200206,
          20200207,
          20200210,
          20200211,
          20200212,
          20200213,
          20200214,
          20200218,
          20200219,
          20200220,
          20200221,
          20200224,
          20200225,
          20200226,
          20200227,
          20200228,
          20200302,
          20200302,
          20200303,
          20200304,
          20200305,
          20200306,
          20200309,
          20200310,
          20200311,
          20200312,
          20200313,
          20200316,
          20200317,
          20200318,
          20200319,
          20200320,
          20200323,
          20200324,
          20200325,
          20200326,
          20200327,
          20200330,
          20200330,
          20200331,
          20200401,
          20200402,
          20200402,
          20200403,
          20200406,
          20200407,
          20200408,
          20200408,
          20200409,
          20200413,
          20200414,
          20200415,
          20200416,
          20200417,
          20200420,
          20200421,
          20200422,
          20200423,
          20200424,
          20200427,
          20200428,
          20200429,
          20200429,
          20200430,
          20200501,
          20200504,
          20200505,
          20200506,
          20200507,
          20200508,
          20200511,
          20200512,
          20200513,
          20200514,
          20200515,
          20200518,
          20200519,
          20200520,
          20200521,
          20200522,
          20200526,
          20200527,
          20200528,
          20200529,
          20200601,
          20200602,
          20200603,
          20200604,
          20200604,
          20200605,
          20200608,
          20200609,
          20200610,
          20200611,
          20200612,
          20200615
         ],
         "y": [
          0.3212348584115554,
          0.3120294456155393,
          0.30623612949409323,
          0.30671662235866887,
          0.30561485349466366,
          0.3133389174983914,
          0.3053299829623037,
          0.3033287539141302,
          0.30233128191470365,
          0.3031310550942231,
          0.29956433845691455,
          0.29677819105977743,
          0.3016981050207672,
          0.30991677173162874,
          0.3087367248427381,
          0.31599988908798826,
          0.30893106975649226,
          0.30630077524743304,
          0.3013035478802499,
          0.32007653740209885,
          0.3184738983399372,
          0.3288595340022834,
          0.3332388721554884,
          0.334891345584867,
          0.33997545613358204,
          0.40077670047764175,
          0.3762265843761452,
          0.37584191136289646,
          0.4055535558847819,
          0.4130987108109922,
          0.41963985224661393,
          0.44152914227657325,
          0.4741205048064704,
          0.4855591255330528,
          0.5117381585271662,
          0.49397150510728927,
          0.460276062155221,
          0.4063384157908616,
          0.40069894391415295,
          0.4224594845283374,
          0.4369165815991028,
          0.4369165815991028,
          0.43810918172944835,
          0.4257139142697805,
          0.4624112937367833,
          0.4624112937367833,
          0.47385239422925546,
          0.4523918283449113,
          0.41664570324620737,
          0.41320418707567447,
          0.41320418707567447,
          0.3945980334043973,
          0.36777705817085143,
          0.3753026056909874,
          0.3902069940092566,
          0.3892110419648158,
          0.38165071502873477,
          0.4404767519029238,
          0.5265207208375162,
          0.4586003571499358,
          0.4449692732518492,
          0.46458987372823085,
          0.46944417146257045,
          0.4596369778929411,
          0.41709384730152027,
          0.41709384730152027,
          0.4095576650643305,
          0.4052254871758656,
          0.374108571074714,
          0.39254241243313476,
          0.41483281846199255,
          0.4123784220896941,
          0.39798488547826544,
          0.3803072816843774,
          0.3715500750233981,
          0.3762583524870989,
          0.37460948830310176,
          0.3800077541790907,
          0.37890126346130554,
          0.37342750333948366,
          0.3539755250011619,
          0.3489622953531185,
          0.36616146235223096,
          0.3739998315228351,
          0.3980461142061921,
          0.3879870641698553,
          0.3861974217104559,
          0.37310571274611576,
          0.35555533202598544,
          0.35131325375273986,
          0.35700108293674354,
          0.35700108293674354,
          0.36459995967211284,
          0.3760959198120131,
          0.371416609334556,
          0.3704207053327866,
          0.4018337243221271,
          0.42543142728379185,
          0.41959879534326805
         ],
         "yaxis": "y"
        },
        {
         "name": "fprice",
         "type": "scatter",
         "x": [
          20200203,
          20200204,
          20200205,
          20200206,
          20200207,
          20200210,
          20200211,
          20200212,
          20200213,
          20200214,
          20200218,
          20200219,
          20200220,
          20200221,
          20200224,
          20200225,
          20200226,
          20200227,
          20200228,
          20200302,
          20200302,
          20200303,
          20200304,
          20200305,
          20200306,
          20200309,
          20200310,
          20200311,
          20200312,
          20200313,
          20200316,
          20200317,
          20200318,
          20200319,
          20200320,
          20200323,
          20200324,
          20200325,
          20200326,
          20200327,
          20200330,
          20200330,
          20200331,
          20200401,
          20200402,
          20200402,
          20200403,
          20200406,
          20200407,
          20200408,
          20200408,
          20200409,
          20200413,
          20200414,
          20200415,
          20200416,
          20200417,
          20200420,
          20200421,
          20200422,
          20200423,
          20200424,
          20200427,
          20200428,
          20200429,
          20200429,
          20200430,
          20200501,
          20200504,
          20200505,
          20200506,
          20200507,
          20200508,
          20200511,
          20200512,
          20200513,
          20200514,
          20200515,
          20200518,
          20200519,
          20200520,
          20200521,
          20200522,
          20200526,
          20200527,
          20200528,
          20200529,
          20200601,
          20200602,
          20200603,
          20200604,
          20200604,
          20200605,
          20200608,
          20200609,
          20200610,
          20200611,
          20200612,
          20200615
         ],
         "y": [
          50.4,
          50.17,
          51.26,
          51.73,
          51.33,
          50.69,
          51.07,
          52.09,
          52.27,
          52.77,
          52.87,
          53.78,
          53.81,
          53.2,
          51.66,
          50.06,
          48.99,
          47.72,
          45.46,
          47.25,
          47.25,
          47.57,
          47.36,
          46.54,
          42.64,
          33.66,
          36.56,
          35.56,
          34.43,
          34.36,
          31.6,
          30.71,
          25.57,
          29.9,
          28.02,
          29.39,
          30.2,
          31.4,
          30.87,
          31.3,
          31,
          31,
          31.12,
          29.55,
          31.5,
          31.5,
          33.37,
          33.43,
          33.48,
          34,
          34,
          33.58,
          35.06,
          34.56,
          32.33,
          31.94,
          32.08,
          29.84,
          23.43,
          25.77,
          25.89,
          25.71,
          23.84,
          23.77,
          24.5,
          24.5,
          26.37,
          25.69,
          26.08,
          29.26,
          28.19,
          27.81,
          29.51,
          28.1,
          28.49,
          27.84,
          29.42,
          30.69,
          32.87,
          33.01,
          34.38,
          34.81,
          34.14,
          35.24,
          33.69,
          34.49,
          36.2,
          36.17,
          37.35,
          37.87,
          38,
          38,
          40.03,
          38.65,
          39.38,
          39.97,
          36.81,
          36.78,
          37.71
         ],
         "yaxis": "y2"
        }
       ],
       "layout": {
        "autosize": true,
        "hovermode": "x",
        "legend": {
         "orientation": "h",
         "x": 0,
         "y": 1.1
        },
        "margin": {
         "b": 100
        },
        "modebar": {
         "bgcolor": "grey",
         "orientation": "v"
        },
        "spikedistance": 1000,
        "template": {
         "data": {
          "bar": [
           {
            "error_x": {
             "color": "#2a3f5f"
            },
            "error_y": {
             "color": "#2a3f5f"
            },
            "marker": {
             "line": {
              "color": "#E5ECF6",
              "width": 0.5
             }
            },
            "type": "bar"
           }
          ],
          "barpolar": [
           {
            "marker": {
             "line": {
              "color": "#E5ECF6",
              "width": 0.5
             }
            },
            "type": "barpolar"
           }
          ],
          "carpet": [
           {
            "aaxis": {
             "endlinecolor": "#2a3f5f",
             "gridcolor": "white",
             "linecolor": "white",
             "minorgridcolor": "white",
             "startlinecolor": "#2a3f5f"
            },
            "baxis": {
             "endlinecolor": "#2a3f5f",
             "gridcolor": "white",
             "linecolor": "white",
             "minorgridcolor": "white",
             "startlinecolor": "#2a3f5f"
            },
            "type": "carpet"
           }
          ],
          "choropleth": [
           {
            "colorbar": {
             "outlinewidth": 0,
             "ticks": ""
            },
            "type": "choropleth"
           }
          ],
          "contour": [
           {
            "colorbar": {
             "outlinewidth": 0,
             "ticks": ""
            },
            "colorscale": [
             [
              0,
              "#0d0887"
             ],
             [
              0.1111111111111111,
              "#46039f"
             ],
             [
              0.2222222222222222,
              "#7201a8"
             ],
             [
              0.3333333333333333,
              "#9c179e"
             ],
             [
              0.4444444444444444,
              "#bd3786"
             ],
             [
              0.5555555555555556,
              "#d8576b"
             ],
             [
              0.6666666666666666,
              "#ed7953"
             ],
             [
              0.7777777777777778,
              "#fb9f3a"
             ],
             [
              0.8888888888888888,
              "#fdca26"
             ],
             [
              1,
              "#f0f921"
             ]
            ],
            "type": "contour"
           }
          ],
          "contourcarpet": [
           {
            "colorbar": {
             "outlinewidth": 0,
             "ticks": ""
            },
            "type": "contourcarpet"
           }
          ],
          "heatmap": [
           {
            "colorbar": {
             "outlinewidth": 0,
             "ticks": ""
            },
            "colorscale": [
             [
              0,
              "#0d0887"
             ],
             [
              0.1111111111111111,
              "#46039f"
             ],
             [
              0.2222222222222222,
              "#7201a8"
             ],
             [
              0.3333333333333333,
              "#9c179e"
             ],
             [
              0.4444444444444444,
              "#bd3786"
             ],
             [
              0.5555555555555556,
              "#d8576b"
             ],
             [
              0.6666666666666666,
              "#ed7953"
             ],
             [
              0.7777777777777778,
              "#fb9f3a"
             ],
             [
              0.8888888888888888,
              "#fdca26"
             ],
             [
              1,
              "#f0f921"
             ]
            ],
            "type": "heatmap"
           }
          ],
          "heatmapgl": [
           {
            "colorbar": {
             "outlinewidth": 0,
             "ticks": ""
            },
            "colorscale": [
             [
              0,
              "#0d0887"
             ],
             [
              0.1111111111111111,
              "#46039f"
             ],
             [
              0.2222222222222222,
              "#7201a8"
             ],
             [
              0.3333333333333333,
              "#9c179e"
             ],
             [
              0.4444444444444444,
              "#bd3786"
             ],
             [
              0.5555555555555556,
              "#d8576b"
             ],
             [
              0.6666666666666666,
              "#ed7953"
             ],
             [
              0.7777777777777778,
              "#fb9f3a"
             ],
             [
              0.8888888888888888,
              "#fdca26"
             ],
             [
              1,
              "#f0f921"
             ]
            ],
            "type": "heatmapgl"
           }
          ],
          "histogram": [
           {
            "marker": {
             "colorbar": {
              "outlinewidth": 0,
              "ticks": ""
             }
            },
            "type": "histogram"
           }
          ],
          "histogram2d": [
           {
            "colorbar": {
             "outlinewidth": 0,
             "ticks": ""
            },
            "colorscale": [
             [
              0,
              "#0d0887"
             ],
             [
              0.1111111111111111,
              "#46039f"
             ],
             [
              0.2222222222222222,
              "#7201a8"
             ],
             [
              0.3333333333333333,
              "#9c179e"
             ],
             [
              0.4444444444444444,
              "#bd3786"
             ],
             [
              0.5555555555555556,
              "#d8576b"
             ],
             [
              0.6666666666666666,
              "#ed7953"
             ],
             [
              0.7777777777777778,
              "#fb9f3a"
             ],
             [
              0.8888888888888888,
              "#fdca26"
             ],
             [
              1,
              "#f0f921"
             ]
            ],
            "type": "histogram2d"
           }
          ],
          "histogram2dcontour": [
           {
            "colorbar": {
             "outlinewidth": 0,
             "ticks": ""
            },
            "colorscale": [
             [
              0,
              "#0d0887"
             ],
             [
              0.1111111111111111,
              "#46039f"
             ],
             [
              0.2222222222222222,
              "#7201a8"
             ],
             [
              0.3333333333333333,
              "#9c179e"
             ],
             [
              0.4444444444444444,
              "#bd3786"
             ],
             [
              0.5555555555555556,
              "#d8576b"
             ],
             [
              0.6666666666666666,
              "#ed7953"
             ],
             [
              0.7777777777777778,
              "#fb9f3a"
             ],
             [
              0.8888888888888888,
              "#fdca26"
             ],
             [
              1,
              "#f0f921"
             ]
            ],
            "type": "histogram2dcontour"
           }
          ],
          "mesh3d": [
           {
            "colorbar": {
             "outlinewidth": 0,
             "ticks": ""
            },
            "type": "mesh3d"
           }
          ],
          "parcoords": [
           {
            "line": {
             "colorbar": {
              "outlinewidth": 0,
              "ticks": ""
             }
            },
            "type": "parcoords"
           }
          ],
          "pie": [
           {
            "automargin": true,
            "type": "pie"
           }
          ],
          "scatter": [
           {
            "marker": {
             "colorbar": {
              "outlinewidth": 0,
              "ticks": ""
             }
            },
            "type": "scatter"
           }
          ],
          "scatter3d": [
           {
            "line": {
             "colorbar": {
              "outlinewidth": 0,
              "ticks": ""
             }
            },
            "marker": {
             "colorbar": {
              "outlinewidth": 0,
              "ticks": ""
             }
            },
            "type": "scatter3d"
           }
          ],
          "scattercarpet": [
           {
            "marker": {
             "colorbar": {
              "outlinewidth": 0,
              "ticks": ""
             }
            },
            "type": "scattercarpet"
           }
          ],
          "scattergeo": [
           {
            "marker": {
             "colorbar": {
              "outlinewidth": 0,
              "ticks": ""
             }
            },
            "type": "scattergeo"
           }
          ],
          "scattergl": [
           {
            "marker": {
             "colorbar": {
              "outlinewidth": 0,
              "ticks": ""
             }
            },
            "type": "scattergl"
           }
          ],
          "scattermapbox": [
           {
            "marker": {
             "colorbar": {
              "outlinewidth": 0,
              "ticks": ""
             }
            },
            "type": "scattermapbox"
           }
          ],
          "scatterpolar": [
           {
            "marker": {
             "colorbar": {
              "outlinewidth": 0,
              "ticks": ""
             }
            },
            "type": "scatterpolar"
           }
          ],
          "scatterpolargl": [
           {
            "marker": {
             "colorbar": {
              "outlinewidth": 0,
              "ticks": ""
             }
            },
            "type": "scatterpolargl"
           }
          ],
          "scatterternary": [
           {
            "marker": {
             "colorbar": {
              "outlinewidth": 0,
              "ticks": ""
             }
            },
            "type": "scatterternary"
           }
          ],
          "surface": [
           {
            "colorbar": {
             "outlinewidth": 0,
             "ticks": ""
            },
            "colorscale": [
             [
              0,
              "#0d0887"
             ],
             [
              0.1111111111111111,
              "#46039f"
             ],
             [
              0.2222222222222222,
              "#7201a8"
             ],
             [
              0.3333333333333333,
              "#9c179e"
             ],
             [
              0.4444444444444444,
              "#bd3786"
             ],
             [
              0.5555555555555556,
              "#d8576b"
             ],
             [
              0.6666666666666666,
              "#ed7953"
             ],
             [
              0.7777777777777778,
              "#fb9f3a"
             ],
             [
              0.8888888888888888,
              "#fdca26"
             ],
             [
              1,
              "#f0f921"
             ]
            ],
            "type": "surface"
           }
          ],
          "table": [
           {
            "cells": {
             "fill": {
              "color": "#EBF0F8"
             },
             "line": {
              "color": "white"
             }
            },
            "header": {
             "fill": {
              "color": "#C8D4E3"
             },
             "line": {
              "color": "white"
             }
            },
            "type": "table"
           }
          ]
         },
         "layout": {
          "annotationdefaults": {
           "arrowcolor": "#2a3f5f",
           "arrowhead": 0,
           "arrowwidth": 1
          },
          "coloraxis": {
           "colorbar": {
            "outlinewidth": 0,
            "ticks": ""
           }
          },
          "colorscale": {
           "diverging": [
            [
             0,
             "#8e0152"
            ],
            [
             0.1,
             "#c51b7d"
            ],
            [
             0.2,
             "#de77ae"
            ],
            [
             0.3,
             "#f1b6da"
            ],
            [
             0.4,
             "#fde0ef"
            ],
            [
             0.5,
             "#f7f7f7"
            ],
            [
             0.6,
             "#e6f5d0"
            ],
            [
             0.7,
             "#b8e186"
            ],
            [
             0.8,
             "#7fbc41"
            ],
            [
             0.9,
             "#4d9221"
            ],
            [
             1,
             "#276419"
            ]
           ],
           "sequential": [
            [
             0,
             "#0d0887"
            ],
            [
             0.1111111111111111,
             "#46039f"
            ],
            [
             0.2222222222222222,
             "#7201a8"
            ],
            [
             0.3333333333333333,
             "#9c179e"
            ],
            [
             0.4444444444444444,
             "#bd3786"
            ],
            [
             0.5555555555555556,
             "#d8576b"
            ],
            [
             0.6666666666666666,
             "#ed7953"
            ],
            [
             0.7777777777777778,
             "#fb9f3a"
            ],
            [
             0.8888888888888888,
             "#fdca26"
            ],
            [
             1,
             "#f0f921"
            ]
           ],
           "sequentialminus": [
            [
             0,
             "#0d0887"
            ],
            [
             0.1111111111111111,
             "#46039f"
            ],
            [
             0.2222222222222222,
             "#7201a8"
            ],
            [
             0.3333333333333333,
             "#9c179e"
            ],
            [
             0.4444444444444444,
             "#bd3786"
            ],
            [
             0.5555555555555556,
             "#d8576b"
            ],
            [
             0.6666666666666666,
             "#ed7953"
            ],
            [
             0.7777777777777778,
             "#fb9f3a"
            ],
            [
             0.8888888888888888,
             "#fdca26"
            ],
            [
             1,
             "#f0f921"
            ]
           ]
          },
          "colorway": [
           "#636efa",
           "#EF553B",
           "#00cc96",
           "#ab63fa",
           "#FFA15A",
           "#19d3f3",
           "#FF6692",
           "#B6E880",
           "#FF97FF",
           "#FECB52"
          ],
          "font": {
           "color": "#2a3f5f"
          },
          "geo": {
           "bgcolor": "white",
           "lakecolor": "white",
           "landcolor": "#E5ECF6",
           "showlakes": true,
           "showland": true,
           "subunitcolor": "white"
          },
          "hoverlabel": {
           "align": "left"
          },
          "hovermode": "closest",
          "mapbox": {
           "style": "light"
          },
          "paper_bgcolor": "white",
          "plot_bgcolor": "#E5ECF6",
          "polar": {
           "angularaxis": {
            "gridcolor": "white",
            "linecolor": "white",
            "ticks": ""
           },
           "bgcolor": "#E5ECF6",
           "radialaxis": {
            "gridcolor": "white",
            "linecolor": "white",
            "ticks": ""
           }
          },
          "scene": {
           "xaxis": {
            "backgroundcolor": "#E5ECF6",
            "gridcolor": "white",
            "gridwidth": 2,
            "linecolor": "white",
            "showbackground": true,
            "ticks": "",
            "zerolinecolor": "white"
           },
           "yaxis": {
            "backgroundcolor": "#E5ECF6",
            "gridcolor": "white",
            "gridwidth": 2,
            "linecolor": "white",
            "showbackground": true,
            "ticks": "",
            "zerolinecolor": "white"
           },
           "zaxis": {
            "backgroundcolor": "#E5ECF6",
            "gridcolor": "white",
            "gridwidth": 2,
            "linecolor": "white",
            "showbackground": true,
            "ticks": "",
            "zerolinecolor": "white"
           }
          },
          "shapedefaults": {
           "line": {
            "color": "#2a3f5f"
           }
          },
          "ternary": {
           "aaxis": {
            "gridcolor": "white",
            "linecolor": "white",
            "ticks": ""
           },
           "baxis": {
            "gridcolor": "white",
            "linecolor": "white",
            "ticks": ""
           },
           "bgcolor": "#E5ECF6",
           "caxis": {
            "gridcolor": "white",
            "linecolor": "white",
            "ticks": ""
           }
          },
          "title": {
           "x": 0.05
          },
          "xaxis": {
           "automargin": true,
           "gridcolor": "white",
           "linecolor": "white",
           "ticks": "",
           "title": {
            "standoff": 15
           },
           "zerolinecolor": "white",
           "zerolinewidth": 2
          },
          "yaxis": {
           "automargin": true,
           "gridcolor": "white",
           "linecolor": "white",
           "ticks": "",
           "title": {
            "standoff": 15
           },
           "zerolinecolor": "white",
           "zerolinewidth": 2
          }
         }
        },
        "title": {
         "text": "CLU20 Pseudo-Volatility vs Price",
         "x": 0.5,
         "xanchor": "center",
         "y": 0.9,
         "yanchor": "top"
        },
        "xaxis": {
         "showspikes": true,
         "spikedash": "solid",
         "spikemode": "toaxis+across",
         "spikethickness": 1,
         "tickangle": 45,
         "ticktext": [
          20200203,
          20200207,
          20200213,
          20200220,
          20200226,
          20200302,
          20200306,
          20200312,
          20200318,
          20200324,
          20200330,
          20200402,
          20200407,
          20200413,
          20200417,
          20200423,
          20200429,
          20200504,
          20200508,
          20200514,
          20200520,
          20200527,
          20200602,
          20200605,
          20200611
         ],
         "tickvals": [
          20200203,
          20200207,
          20200213,
          20200220,
          20200226,
          20200302,
          20200306,
          20200312,
          20200318,
          20200324,
          20200330,
          20200402,
          20200407,
          20200413,
          20200417,
          20200423,
          20200429,
          20200504,
          20200508,
          20200514,
          20200520,
          20200527,
          20200602,
          20200605,
          20200611
         ],
         "type": "category"
        },
        "yaxis": {
         "showspikes": true,
         "spikedash": "solid",
         "spikemode": "toaxis+across",
         "spikethickness": 1,
         "title": {
          "text": "Implied Volatility"
         }
        },
        "yaxis2": {
         "overlaying": "y",
         "side": "right",
         "title": {
          "text": "Futures Close"
         }
        }
       }
      },
      "text/html": [
       "<div>\n",
       "        \n",
       "        \n",
       "            <div id=\"ac3c87a8-790a-493d-9b51-17b24c879943\" class=\"plotly-graph-div\" style=\"height:525px; width:100%;\"></div>\n",
       "            <script type=\"text/javascript\">\n",
       "                require([\"plotly\"], function(Plotly) {\n",
       "                    window.PLOTLYENV=window.PLOTLYENV || {};\n",
       "                    \n",
       "                if (document.getElementById(\"ac3c87a8-790a-493d-9b51-17b24c879943\")) {\n",
       "                    Plotly.newPlot(\n",
       "                        'ac3c87a8-790a-493d-9b51-17b24c879943',\n",
       "                        [{\"name\": \"iv\", \"type\": \"scatter\", \"x\": [20200203, 20200204, 20200205, 20200206, 20200207, 20200210, 20200211, 20200212, 20200213, 20200214, 20200218, 20200219, 20200220, 20200221, 20200224, 20200225, 20200226, 20200227, 20200228, 20200302, 20200302, 20200303, 20200304, 20200305, 20200306, 20200309, 20200310, 20200311, 20200312, 20200313, 20200316, 20200317, 20200318, 20200319, 20200320, 20200323, 20200324, 20200325, 20200326, 20200327, 20200330, 20200330, 20200331, 20200401, 20200402, 20200402, 20200403, 20200406, 20200407, 20200408, 20200408, 20200409, 20200413, 20200414, 20200415, 20200416, 20200417, 20200420, 20200421, 20200422, 20200423, 20200424, 20200427, 20200428, 20200429, 20200429, 20200430, 20200501, 20200504, 20200505, 20200506, 20200507, 20200508, 20200511, 20200512, 20200513, 20200514, 20200515, 20200518, 20200519, 20200520, 20200521, 20200522, 20200526, 20200527, 20200528, 20200529, 20200601, 20200602, 20200603, 20200604, 20200604, 20200605, 20200608, 20200609, 20200610, 20200611, 20200612, 20200615], \"y\": [0.3212348584115554, 0.3120294456155393, 0.30623612949409323, 0.30671662235866887, 0.30561485349466366, 0.3133389174983914, 0.3053299829623037, 0.3033287539141302, 0.30233128191470365, 0.3031310550942231, 0.29956433845691455, 0.29677819105977743, 0.3016981050207672, 0.30991677173162874, 0.3087367248427381, 0.31599988908798826, 0.30893106975649226, 0.30630077524743304, 0.3013035478802499, 0.32007653740209885, 0.3184738983399372, 0.3288595340022834, 0.3332388721554884, 0.334891345584867, 0.33997545613358204, 0.40077670047764175, 0.3762265843761452, 0.37584191136289646, 0.4055535558847819, 0.4130987108109922, 0.41963985224661393, 0.44152914227657325, 0.4741205048064704, 0.4855591255330528, 0.5117381585271662, 0.49397150510728927, 0.460276062155221, 0.4063384157908616, 0.40069894391415295, 0.4224594845283374, 0.4369165815991028, 0.4369165815991028, 0.43810918172944835, 0.4257139142697805, 0.4624112937367833, 0.4624112937367833, 0.47385239422925546, 0.4523918283449113, 0.41664570324620737, 0.41320418707567447, 0.41320418707567447, 0.3945980334043973, 0.36777705817085143, 0.3753026056909874, 0.3902069940092566, 0.3892110419648158, 0.38165071502873477, 0.4404767519029238, 0.5265207208375162, 0.4586003571499358, 0.4449692732518492, 0.46458987372823085, 0.46944417146257045, 0.4596369778929411, 0.41709384730152027, 0.41709384730152027, 0.4095576650643305, 0.4052254871758656, 0.374108571074714, 0.39254241243313476, 0.41483281846199255, 0.4123784220896941, 0.39798488547826544, 0.3803072816843774, 0.3715500750233981, 0.3762583524870989, 0.37460948830310176, 0.3800077541790907, 0.37890126346130554, 0.37342750333948366, 0.3539755250011619, 0.3489622953531185, 0.36616146235223096, 0.3739998315228351, 0.3980461142061921, 0.3879870641698553, 0.3861974217104559, 0.37310571274611576, 0.35555533202598544, 0.35131325375273986, 0.35700108293674354, 0.35700108293674354, 0.36459995967211284, 0.3760959198120131, 0.371416609334556, 0.3704207053327866, 0.4018337243221271, 0.42543142728379185, 0.41959879534326805], \"yaxis\": \"y\"}, {\"name\": \"fprice\", \"type\": \"scatter\", \"x\": [20200203, 20200204, 20200205, 20200206, 20200207, 20200210, 20200211, 20200212, 20200213, 20200214, 20200218, 20200219, 20200220, 20200221, 20200224, 20200225, 20200226, 20200227, 20200228, 20200302, 20200302, 20200303, 20200304, 20200305, 20200306, 20200309, 20200310, 20200311, 20200312, 20200313, 20200316, 20200317, 20200318, 20200319, 20200320, 20200323, 20200324, 20200325, 20200326, 20200327, 20200330, 20200330, 20200331, 20200401, 20200402, 20200402, 20200403, 20200406, 20200407, 20200408, 20200408, 20200409, 20200413, 20200414, 20200415, 20200416, 20200417, 20200420, 20200421, 20200422, 20200423, 20200424, 20200427, 20200428, 20200429, 20200429, 20200430, 20200501, 20200504, 20200505, 20200506, 20200507, 20200508, 20200511, 20200512, 20200513, 20200514, 20200515, 20200518, 20200519, 20200520, 20200521, 20200522, 20200526, 20200527, 20200528, 20200529, 20200601, 20200602, 20200603, 20200604, 20200604, 20200605, 20200608, 20200609, 20200610, 20200611, 20200612, 20200615], \"y\": [50.4, 50.17, 51.26, 51.73, 51.33, 50.69, 51.07, 52.09, 52.27, 52.77, 52.87, 53.78, 53.81, 53.2, 51.66, 50.06, 48.99, 47.72, 45.46, 47.25, 47.25, 47.57, 47.36, 46.54, 42.64, 33.66, 36.56, 35.56, 34.43, 34.36, 31.6, 30.71, 25.57, 29.9, 28.02, 29.39, 30.2, 31.4, 30.87, 31.3, 31.0, 31.0, 31.12, 29.55, 31.5, 31.5, 33.37, 33.43, 33.48, 34.0, 34.0, 33.58, 35.06, 34.56, 32.33, 31.94, 32.08, 29.84, 23.43, 25.77, 25.89, 25.71, 23.84, 23.77, 24.5, 24.5, 26.37, 25.69, 26.08, 29.26, 28.19, 27.81, 29.51, 28.1, 28.49, 27.84, 29.42, 30.69, 32.87, 33.01, 34.38, 34.81, 34.14, 35.24, 33.69, 34.49, 36.2, 36.17, 37.35, 37.87, 38.0, 38.0, 40.03, 38.65, 39.38, 39.97, 36.81, 36.78, 37.71], \"yaxis\": \"y2\"}],\n",
       "                        {\"autosize\": true, \"hovermode\": \"x\", \"legend\": {\"orientation\": \"h\", \"x\": 0, \"y\": 1.1}, \"margin\": {\"b\": 100}, \"modebar\": {\"bgcolor\": \"grey\", \"orientation\": \"v\"}, \"spikedistance\": 1000, \"template\": {\"data\": {\"bar\": [{\"error_x\": {\"color\": \"#2a3f5f\"}, \"error_y\": {\"color\": \"#2a3f5f\"}, \"marker\": {\"line\": {\"color\": \"#E5ECF6\", \"width\": 0.5}}, \"type\": \"bar\"}], \"barpolar\": [{\"marker\": {\"line\": {\"color\": \"#E5ECF6\", \"width\": 0.5}}, \"type\": \"barpolar\"}], \"carpet\": [{\"aaxis\": {\"endlinecolor\": \"#2a3f5f\", \"gridcolor\": \"white\", \"linecolor\": \"white\", \"minorgridcolor\": \"white\", \"startlinecolor\": \"#2a3f5f\"}, \"baxis\": {\"endlinecolor\": \"#2a3f5f\", \"gridcolor\": \"white\", \"linecolor\": \"white\", \"minorgridcolor\": \"white\", \"startlinecolor\": \"#2a3f5f\"}, \"type\": \"carpet\"}], \"choropleth\": [{\"colorbar\": {\"outlinewidth\": 0, \"ticks\": \"\"}, \"type\": \"choropleth\"}], \"contour\": [{\"colorbar\": {\"outlinewidth\": 0, \"ticks\": \"\"}, \"colorscale\": [[0.0, \"#0d0887\"], [0.1111111111111111, \"#46039f\"], [0.2222222222222222, \"#7201a8\"], [0.3333333333333333, \"#9c179e\"], [0.4444444444444444, \"#bd3786\"], [0.5555555555555556, \"#d8576b\"], [0.6666666666666666, \"#ed7953\"], [0.7777777777777778, \"#fb9f3a\"], [0.8888888888888888, \"#fdca26\"], [1.0, \"#f0f921\"]], \"type\": \"contour\"}], \"contourcarpet\": [{\"colorbar\": {\"outlinewidth\": 0, \"ticks\": \"\"}, \"type\": \"contourcarpet\"}], \"heatmap\": [{\"colorbar\": {\"outlinewidth\": 0, \"ticks\": \"\"}, \"colorscale\": [[0.0, \"#0d0887\"], [0.1111111111111111, \"#46039f\"], [0.2222222222222222, \"#7201a8\"], [0.3333333333333333, \"#9c179e\"], [0.4444444444444444, \"#bd3786\"], [0.5555555555555556, \"#d8576b\"], [0.6666666666666666, \"#ed7953\"], [0.7777777777777778, \"#fb9f3a\"], [0.8888888888888888, \"#fdca26\"], [1.0, \"#f0f921\"]], \"type\": \"heatmap\"}], \"heatmapgl\": [{\"colorbar\": {\"outlinewidth\": 0, \"ticks\": \"\"}, \"colorscale\": [[0.0, \"#0d0887\"], [0.1111111111111111, \"#46039f\"], [0.2222222222222222, \"#7201a8\"], [0.3333333333333333, \"#9c179e\"], [0.4444444444444444, \"#bd3786\"], [0.5555555555555556, \"#d8576b\"], [0.6666666666666666, \"#ed7953\"], [0.7777777777777778, \"#fb9f3a\"], [0.8888888888888888, \"#fdca26\"], [1.0, \"#f0f921\"]], \"type\": \"heatmapgl\"}], \"histogram\": [{\"marker\": {\"colorbar\": {\"outlinewidth\": 0, \"ticks\": \"\"}}, \"type\": \"histogram\"}], \"histogram2d\": [{\"colorbar\": {\"outlinewidth\": 0, \"ticks\": \"\"}, \"colorscale\": [[0.0, \"#0d0887\"], [0.1111111111111111, \"#46039f\"], [0.2222222222222222, \"#7201a8\"], [0.3333333333333333, \"#9c179e\"], [0.4444444444444444, \"#bd3786\"], [0.5555555555555556, \"#d8576b\"], [0.6666666666666666, \"#ed7953\"], [0.7777777777777778, \"#fb9f3a\"], [0.8888888888888888, \"#fdca26\"], [1.0, \"#f0f921\"]], \"type\": \"histogram2d\"}], \"histogram2dcontour\": [{\"colorbar\": {\"outlinewidth\": 0, \"ticks\": \"\"}, \"colorscale\": [[0.0, \"#0d0887\"], [0.1111111111111111, \"#46039f\"], [0.2222222222222222, \"#7201a8\"], [0.3333333333333333, \"#9c179e\"], [0.4444444444444444, \"#bd3786\"], [0.5555555555555556, \"#d8576b\"], [0.6666666666666666, \"#ed7953\"], [0.7777777777777778, \"#fb9f3a\"], [0.8888888888888888, \"#fdca26\"], [1.0, \"#f0f921\"]], \"type\": \"histogram2dcontour\"}], \"mesh3d\": [{\"colorbar\": {\"outlinewidth\": 0, \"ticks\": \"\"}, \"type\": \"mesh3d\"}], \"parcoords\": [{\"line\": {\"colorbar\": {\"outlinewidth\": 0, \"ticks\": \"\"}}, \"type\": \"parcoords\"}], \"pie\": [{\"automargin\": true, \"type\": \"pie\"}], \"scatter\": [{\"marker\": {\"colorbar\": {\"outlinewidth\": 0, \"ticks\": \"\"}}, \"type\": \"scatter\"}], \"scatter3d\": [{\"line\": {\"colorbar\": {\"outlinewidth\": 0, \"ticks\": \"\"}}, \"marker\": {\"colorbar\": {\"outlinewidth\": 0, \"ticks\": \"\"}}, \"type\": \"scatter3d\"}], \"scattercarpet\": [{\"marker\": {\"colorbar\": {\"outlinewidth\": 0, \"ticks\": \"\"}}, \"type\": \"scattercarpet\"}], \"scattergeo\": [{\"marker\": {\"colorbar\": {\"outlinewidth\": 0, \"ticks\": \"\"}}, \"type\": \"scattergeo\"}], \"scattergl\": [{\"marker\": {\"colorbar\": {\"outlinewidth\": 0, \"ticks\": \"\"}}, \"type\": \"scattergl\"}], \"scattermapbox\": [{\"marker\": {\"colorbar\": {\"outlinewidth\": 0, \"ticks\": \"\"}}, \"type\": \"scattermapbox\"}], \"scatterpolar\": [{\"marker\": {\"colorbar\": {\"outlinewidth\": 0, \"ticks\": \"\"}}, \"type\": \"scatterpolar\"}], \"scatterpolargl\": [{\"marker\": {\"colorbar\": {\"outlinewidth\": 0, \"ticks\": \"\"}}, \"type\": \"scatterpolargl\"}], \"scatterternary\": [{\"marker\": {\"colorbar\": {\"outlinewidth\": 0, \"ticks\": \"\"}}, \"type\": \"scatterternary\"}], \"surface\": [{\"colorbar\": {\"outlinewidth\": 0, \"ticks\": \"\"}, \"colorscale\": [[0.0, \"#0d0887\"], [0.1111111111111111, \"#46039f\"], [0.2222222222222222, \"#7201a8\"], [0.3333333333333333, \"#9c179e\"], [0.4444444444444444, \"#bd3786\"], [0.5555555555555556, \"#d8576b\"], [0.6666666666666666, \"#ed7953\"], [0.7777777777777778, \"#fb9f3a\"], [0.8888888888888888, \"#fdca26\"], [1.0, \"#f0f921\"]], \"type\": \"surface\"}], \"table\": [{\"cells\": {\"fill\": {\"color\": \"#EBF0F8\"}, \"line\": {\"color\": \"white\"}}, \"header\": {\"fill\": {\"color\": \"#C8D4E3\"}, \"line\": {\"color\": \"white\"}}, \"type\": \"table\"}]}, \"layout\": {\"annotationdefaults\": {\"arrowcolor\": \"#2a3f5f\", \"arrowhead\": 0, \"arrowwidth\": 1}, \"coloraxis\": {\"colorbar\": {\"outlinewidth\": 0, \"ticks\": \"\"}}, \"colorscale\": {\"diverging\": [[0, \"#8e0152\"], [0.1, \"#c51b7d\"], [0.2, \"#de77ae\"], [0.3, \"#f1b6da\"], [0.4, \"#fde0ef\"], [0.5, \"#f7f7f7\"], [0.6, \"#e6f5d0\"], [0.7, \"#b8e186\"], [0.8, \"#7fbc41\"], [0.9, \"#4d9221\"], [1, \"#276419\"]], \"sequential\": [[0.0, \"#0d0887\"], [0.1111111111111111, \"#46039f\"], [0.2222222222222222, \"#7201a8\"], [0.3333333333333333, \"#9c179e\"], [0.4444444444444444, \"#bd3786\"], [0.5555555555555556, \"#d8576b\"], [0.6666666666666666, \"#ed7953\"], [0.7777777777777778, \"#fb9f3a\"], [0.8888888888888888, \"#fdca26\"], [1.0, \"#f0f921\"]], \"sequentialminus\": [[0.0, \"#0d0887\"], [0.1111111111111111, \"#46039f\"], [0.2222222222222222, \"#7201a8\"], [0.3333333333333333, \"#9c179e\"], [0.4444444444444444, \"#bd3786\"], [0.5555555555555556, \"#d8576b\"], [0.6666666666666666, \"#ed7953\"], [0.7777777777777778, \"#fb9f3a\"], [0.8888888888888888, \"#fdca26\"], [1.0, \"#f0f921\"]]}, \"colorway\": [\"#636efa\", \"#EF553B\", \"#00cc96\", \"#ab63fa\", \"#FFA15A\", \"#19d3f3\", \"#FF6692\", \"#B6E880\", \"#FF97FF\", \"#FECB52\"], \"font\": {\"color\": \"#2a3f5f\"}, \"geo\": {\"bgcolor\": \"white\", \"lakecolor\": \"white\", \"landcolor\": \"#E5ECF6\", \"showlakes\": true, \"showland\": true, \"subunitcolor\": \"white\"}, \"hoverlabel\": {\"align\": \"left\"}, \"hovermode\": \"closest\", \"mapbox\": {\"style\": \"light\"}, \"paper_bgcolor\": \"white\", \"plot_bgcolor\": \"#E5ECF6\", \"polar\": {\"angularaxis\": {\"gridcolor\": \"white\", \"linecolor\": \"white\", \"ticks\": \"\"}, \"bgcolor\": \"#E5ECF6\", \"radialaxis\": {\"gridcolor\": \"white\", \"linecolor\": \"white\", \"ticks\": \"\"}}, \"scene\": {\"xaxis\": {\"backgroundcolor\": \"#E5ECF6\", \"gridcolor\": \"white\", \"gridwidth\": 2, \"linecolor\": \"white\", \"showbackground\": true, \"ticks\": \"\", \"zerolinecolor\": \"white\"}, \"yaxis\": {\"backgroundcolor\": \"#E5ECF6\", \"gridcolor\": \"white\", \"gridwidth\": 2, \"linecolor\": \"white\", \"showbackground\": true, \"ticks\": \"\", \"zerolinecolor\": \"white\"}, \"zaxis\": {\"backgroundcolor\": \"#E5ECF6\", \"gridcolor\": \"white\", \"gridwidth\": 2, \"linecolor\": \"white\", \"showbackground\": true, \"ticks\": \"\", \"zerolinecolor\": \"white\"}}, \"shapedefaults\": {\"line\": {\"color\": \"#2a3f5f\"}}, \"ternary\": {\"aaxis\": {\"gridcolor\": \"white\", \"linecolor\": \"white\", \"ticks\": \"\"}, \"baxis\": {\"gridcolor\": \"white\", \"linecolor\": \"white\", \"ticks\": \"\"}, \"bgcolor\": \"#E5ECF6\", \"caxis\": {\"gridcolor\": \"white\", \"linecolor\": \"white\", \"ticks\": \"\"}}, \"title\": {\"x\": 0.05}, \"xaxis\": {\"automargin\": true, \"gridcolor\": \"white\", \"linecolor\": \"white\", \"ticks\": \"\", \"title\": {\"standoff\": 15}, \"zerolinecolor\": \"white\", \"zerolinewidth\": 2}, \"yaxis\": {\"automargin\": true, \"gridcolor\": \"white\", \"linecolor\": \"white\", \"ticks\": \"\", \"title\": {\"standoff\": 15}, \"zerolinecolor\": \"white\", \"zerolinewidth\": 2}}}, \"title\": {\"text\": \"CLU20 Pseudo-Volatility vs Price\", \"x\": 0.5, \"xanchor\": \"center\", \"y\": 0.9, \"yanchor\": \"top\"}, \"xaxis\": {\"showspikes\": true, \"spikedash\": \"solid\", \"spikemode\": \"toaxis+across\", \"spikethickness\": 1, \"tickangle\": 45, \"ticktext\": [20200203, 20200207, 20200213, 20200220, 20200226, 20200302, 20200306, 20200312, 20200318, 20200324, 20200330, 20200402, 20200407, 20200413, 20200417, 20200423, 20200429, 20200504, 20200508, 20200514, 20200520, 20200527, 20200602, 20200605, 20200611], \"tickvals\": [20200203, 20200207, 20200213, 20200220, 20200226, 20200302, 20200306, 20200312, 20200318, 20200324, 20200330, 20200402, 20200407, 20200413, 20200417, 20200423, 20200429, 20200504, 20200508, 20200514, 20200520, 20200527, 20200602, 20200605, 20200611], \"type\": \"category\"}, \"yaxis\": {\"showspikes\": true, \"spikedash\": \"solid\", \"spikemode\": \"toaxis+across\", \"spikethickness\": 1, \"title\": {\"text\": \"Implied Volatility\"}}, \"yaxis2\": {\"overlaying\": \"y\", \"side\": \"right\", \"title\": {\"text\": \"Futures Close\"}}},\n",
       "                        {\"responsive\": true}\n",
       "                    ).then(function(){\n",
       "                            \n",
       "var gd = document.getElementById('ac3c87a8-790a-493d-9b51-17b24c879943');\n",
       "var x = new MutationObserver(function (mutations, observer) {{\n",
       "        var display = window.getComputedStyle(gd).display;\n",
       "        if (!display || display === 'none') {{\n",
       "            console.log([gd, 'removed!']);\n",
       "            Plotly.purge(gd);\n",
       "            observer.disconnect();\n",
       "        }}\n",
       "}});\n",
       "\n",
       "// Listen for the removal of the full notebook cells\n",
       "var notebookContainer = gd.closest('#notebook-container');\n",
       "if (notebookContainer) {{\n",
       "    x.observe(notebookContainer, {childList: true});\n",
       "}}\n",
       "\n",
       "// Listen for the clearing of the current output cell\n",
       "var outputEl = gd.closest('.output');\n",
       "if (outputEl) {{\n",
       "    x.observe(outputEl, {childList: true});\n",
       "}}\n",
       "\n",
       "                        })\n",
       "                };\n",
       "                });\n",
       "            </script>\n",
       "        </div>"
      ]
     },
     "metadata": {},
     "output_type": "display_data"
    },
    {
     "data": {
      "application/vnd.plotly.v1+json": {
       "config": {
        "linkText": "Export to plot.ly",
        "plotlyServerURL": "https://plot.ly",
        "showLink": false
       },
       "data": [
        {
         "name": "iv",
         "type": "scatter",
         "x": [
          20200131,
          20200203,
          20200204,
          20200205,
          20200206,
          20200207,
          20200210,
          20200211,
          20200212,
          20200213,
          20200214,
          20200218,
          20200219,
          20200220,
          20200221,
          20200224,
          20200225,
          20200225,
          20200226,
          20200227,
          20200228,
          20200302,
          20200303,
          20200304,
          20200305,
          20200306,
          20200309,
          20200310,
          20200311,
          20200312,
          20200313,
          20200316,
          20200317,
          20200318,
          20200319,
          20200320,
          20200323,
          20200324,
          20200325,
          20200326,
          20200327,
          20200330,
          20200331,
          20200401,
          20200402,
          20200402,
          20200403,
          20200406,
          20200407,
          20200408,
          20200409,
          20200413,
          20200414,
          20200415,
          20200416,
          20200417,
          20200420,
          20200421,
          20200422,
          20200423,
          20200424,
          20200427,
          20200428,
          20200429,
          20200430,
          20200501,
          20200504,
          20200505,
          20200506,
          20200507,
          20200508,
          20200511,
          20200512,
          20200513,
          20200514,
          20200514,
          20200515,
          20200518,
          20200519,
          20200520,
          20200521,
          20200522,
          20200526,
          20200527,
          20200528,
          20200529,
          20200601,
          20200602,
          20200603,
          20200604,
          20200605,
          20200608,
          20200609,
          20200610,
          20200611,
          20200611,
          20200612,
          20200612,
          20200615
         ],
         "y": [
          0.3162470515876943,
          0.3101970510288906,
          0.3020991713043018,
          0.29833794094357846,
          0.2980763273730092,
          0.29637363678127876,
          0.3027028257227756,
          0.29666295274264337,
          0.29555320557257414,
          0.29591663828568376,
          0.2968100639210563,
          0.29360266901248777,
          0.29206736061369426,
          0.2981357657207672,
          0.3023254130883138,
          0.3015838624155317,
          0.30645016205142306,
          0.30645016205142306,
          0.29861853831408486,
          0.2962577334227113,
          0.29172129683174775,
          0.30850301318809764,
          0.31367211207095064,
          0.3180452030216821,
          0.32016438656664614,
          0.3221754961080182,
          0.37954245817399695,
          0.35867351378381984,
          0.3531356342428834,
          0.37952166908177015,
          0.3821399081596512,
          0.3922370353279949,
          0.41045395286015596,
          0.4411262684970445,
          0.44375502070016826,
          0.4727988168180702,
          0.46119515385624116,
          0.442703637195294,
          0.3865127263788581,
          0.3823599703897423,
          0.4042469296045342,
          0.4106780500646963,
          0.4041782335002757,
          0.3961240282273097,
          0.42280972216832274,
          0.42280972216832274,
          0.43207499998531895,
          0.41036864642361554,
          0.383622953082525,
          0.37898165134760836,
          0.3662720821006286,
          0.34274891450187134,
          0.35322257718046346,
          0.36389501806224545,
          0.36596844959313646,
          0.36023863962193486,
          0.3932449947753225,
          0.47464973155413764,
          0.4071532937257116,
          0.4193975324817623,
          0.4457787446826361,
          0.4379430715618969,
          0.4333840129752537,
          0.3980569204714673,
          0.3934947667700703,
          0.3834741084048291,
          0.36710541832544397,
          0.38166257092637723,
          0.3990727789895886,
          0.39810882594112973,
          0.3862016870715355,
          0.36734945780776573,
          0.3594199159443229,
          0.3691181909128936,
          0.36239430101954073,
          0.36239430101954073,
          0.36634233194895804,
          0.36229298250871383,
          0.35511662192528487,
          0.3411287822008545,
          0.33579291519561005,
          0.34349897421066106,
          0.35370572269852985,
          0.37068323442103523,
          0.3635872338819557,
          0.3629746991296585,
          0.354298023443006,
          0.3447331177556869,
          0.34263642702183045,
          0.3484567856049897,
          0.35185851171141314,
          0.359051905564948,
          0.36129609586062816,
          0.3632846349449397,
          0.3848590252091107,
          0.3848590252091107,
          0.40942144914833184,
          0.40942144914833184,
          0.40168356509199843
         ],
         "yaxis": "y"
        },
        {
         "name": "fprice",
         "type": "scatter",
         "x": [
          20200131,
          20200203,
          20200204,
          20200205,
          20200206,
          20200207,
          20200210,
          20200211,
          20200212,
          20200213,
          20200214,
          20200218,
          20200219,
          20200220,
          20200221,
          20200224,
          20200225,
          20200225,
          20200226,
          20200227,
          20200228,
          20200302,
          20200303,
          20200304,
          20200305,
          20200306,
          20200309,
          20200310,
          20200311,
          20200312,
          20200313,
          20200316,
          20200317,
          20200318,
          20200319,
          20200320,
          20200323,
          20200324,
          20200325,
          20200326,
          20200327,
          20200330,
          20200331,
          20200401,
          20200402,
          20200402,
          20200403,
          20200406,
          20200407,
          20200408,
          20200409,
          20200413,
          20200414,
          20200415,
          20200416,
          20200417,
          20200420,
          20200421,
          20200422,
          20200423,
          20200424,
          20200427,
          20200428,
          20200429,
          20200430,
          20200501,
          20200504,
          20200505,
          20200506,
          20200507,
          20200508,
          20200511,
          20200512,
          20200513,
          20200514,
          20200514,
          20200515,
          20200518,
          20200519,
          20200520,
          20200521,
          20200522,
          20200526,
          20200527,
          20200528,
          20200529,
          20200601,
          20200602,
          20200603,
          20200604,
          20200605,
          20200608,
          20200609,
          20200610,
          20200611,
          20200611,
          20200612,
          20200612,
          20200615
         ],
         "y": [
          51.17,
          50.28,
          50.06,
          51.12,
          51.65,
          51.31,
          50.75,
          51.11,
          52.06,
          52.22,
          52.67,
          52.77,
          53.63,
          53.63,
          53.04,
          51.61,
          50,
          50,
          48.99,
          47.8,
          45.58,
          47.31,
          47.59,
          47.41,
          46.61,
          42.92,
          34.25,
          37.05,
          36.14,
          35.1,
          34.96,
          32.28,
          31.49,
          26.56,
          30.65,
          28.8,
          30.17,
          30.94,
          32.14,
          31.62,
          32.14,
          32.03,
          32.08,
          30.52,
          32,
          32,
          33.62,
          33.77,
          33.9,
          34.3,
          33.96,
          35.53,
          35.18,
          32.89,
          32.52,
          32.71,
          30.81,
          24.73,
          27.01,
          26.93,
          26.77,
          25.28,
          25.29,
          25.9,
          27.67,
          26.79,
          27.2,
          30.14,
          29.03,
          28.68,
          30.48,
          29.05,
          29.26,
          28.62,
          30,
          30,
          31.11,
          33.25,
          33.38,
          34.65,
          35.12,
          34.49,
          35.56,
          34.04,
          34.81,
          36.43,
          36.4,
          37.53,
          38.05,
          38.21,
          40.15,
          38.8,
          39.53,
          40.09,
          37,
          37,
          37,
          37,
          37.96
         ],
         "yaxis": "y2"
        }
       ],
       "layout": {
        "autosize": true,
        "hovermode": "x",
        "legend": {
         "orientation": "h",
         "x": 0,
         "y": 1.1
        },
        "margin": {
         "b": 100
        },
        "modebar": {
         "bgcolor": "grey",
         "orientation": "v"
        },
        "spikedistance": 1000,
        "template": {
         "data": {
          "bar": [
           {
            "error_x": {
             "color": "#2a3f5f"
            },
            "error_y": {
             "color": "#2a3f5f"
            },
            "marker": {
             "line": {
              "color": "#E5ECF6",
              "width": 0.5
             }
            },
            "type": "bar"
           }
          ],
          "barpolar": [
           {
            "marker": {
             "line": {
              "color": "#E5ECF6",
              "width": 0.5
             }
            },
            "type": "barpolar"
           }
          ],
          "carpet": [
           {
            "aaxis": {
             "endlinecolor": "#2a3f5f",
             "gridcolor": "white",
             "linecolor": "white",
             "minorgridcolor": "white",
             "startlinecolor": "#2a3f5f"
            },
            "baxis": {
             "endlinecolor": "#2a3f5f",
             "gridcolor": "white",
             "linecolor": "white",
             "minorgridcolor": "white",
             "startlinecolor": "#2a3f5f"
            },
            "type": "carpet"
           }
          ],
          "choropleth": [
           {
            "colorbar": {
             "outlinewidth": 0,
             "ticks": ""
            },
            "type": "choropleth"
           }
          ],
          "contour": [
           {
            "colorbar": {
             "outlinewidth": 0,
             "ticks": ""
            },
            "colorscale": [
             [
              0,
              "#0d0887"
             ],
             [
              0.1111111111111111,
              "#46039f"
             ],
             [
              0.2222222222222222,
              "#7201a8"
             ],
             [
              0.3333333333333333,
              "#9c179e"
             ],
             [
              0.4444444444444444,
              "#bd3786"
             ],
             [
              0.5555555555555556,
              "#d8576b"
             ],
             [
              0.6666666666666666,
              "#ed7953"
             ],
             [
              0.7777777777777778,
              "#fb9f3a"
             ],
             [
              0.8888888888888888,
              "#fdca26"
             ],
             [
              1,
              "#f0f921"
             ]
            ],
            "type": "contour"
           }
          ],
          "contourcarpet": [
           {
            "colorbar": {
             "outlinewidth": 0,
             "ticks": ""
            },
            "type": "contourcarpet"
           }
          ],
          "heatmap": [
           {
            "colorbar": {
             "outlinewidth": 0,
             "ticks": ""
            },
            "colorscale": [
             [
              0,
              "#0d0887"
             ],
             [
              0.1111111111111111,
              "#46039f"
             ],
             [
              0.2222222222222222,
              "#7201a8"
             ],
             [
              0.3333333333333333,
              "#9c179e"
             ],
             [
              0.4444444444444444,
              "#bd3786"
             ],
             [
              0.5555555555555556,
              "#d8576b"
             ],
             [
              0.6666666666666666,
              "#ed7953"
             ],
             [
              0.7777777777777778,
              "#fb9f3a"
             ],
             [
              0.8888888888888888,
              "#fdca26"
             ],
             [
              1,
              "#f0f921"
             ]
            ],
            "type": "heatmap"
           }
          ],
          "heatmapgl": [
           {
            "colorbar": {
             "outlinewidth": 0,
             "ticks": ""
            },
            "colorscale": [
             [
              0,
              "#0d0887"
             ],
             [
              0.1111111111111111,
              "#46039f"
             ],
             [
              0.2222222222222222,
              "#7201a8"
             ],
             [
              0.3333333333333333,
              "#9c179e"
             ],
             [
              0.4444444444444444,
              "#bd3786"
             ],
             [
              0.5555555555555556,
              "#d8576b"
             ],
             [
              0.6666666666666666,
              "#ed7953"
             ],
             [
              0.7777777777777778,
              "#fb9f3a"
             ],
             [
              0.8888888888888888,
              "#fdca26"
             ],
             [
              1,
              "#f0f921"
             ]
            ],
            "type": "heatmapgl"
           }
          ],
          "histogram": [
           {
            "marker": {
             "colorbar": {
              "outlinewidth": 0,
              "ticks": ""
             }
            },
            "type": "histogram"
           }
          ],
          "histogram2d": [
           {
            "colorbar": {
             "outlinewidth": 0,
             "ticks": ""
            },
            "colorscale": [
             [
              0,
              "#0d0887"
             ],
             [
              0.1111111111111111,
              "#46039f"
             ],
             [
              0.2222222222222222,
              "#7201a8"
             ],
             [
              0.3333333333333333,
              "#9c179e"
             ],
             [
              0.4444444444444444,
              "#bd3786"
             ],
             [
              0.5555555555555556,
              "#d8576b"
             ],
             [
              0.6666666666666666,
              "#ed7953"
             ],
             [
              0.7777777777777778,
              "#fb9f3a"
             ],
             [
              0.8888888888888888,
              "#fdca26"
             ],
             [
              1,
              "#f0f921"
             ]
            ],
            "type": "histogram2d"
           }
          ],
          "histogram2dcontour": [
           {
            "colorbar": {
             "outlinewidth": 0,
             "ticks": ""
            },
            "colorscale": [
             [
              0,
              "#0d0887"
             ],
             [
              0.1111111111111111,
              "#46039f"
             ],
             [
              0.2222222222222222,
              "#7201a8"
             ],
             [
              0.3333333333333333,
              "#9c179e"
             ],
             [
              0.4444444444444444,
              "#bd3786"
             ],
             [
              0.5555555555555556,
              "#d8576b"
             ],
             [
              0.6666666666666666,
              "#ed7953"
             ],
             [
              0.7777777777777778,
              "#fb9f3a"
             ],
             [
              0.8888888888888888,
              "#fdca26"
             ],
             [
              1,
              "#f0f921"
             ]
            ],
            "type": "histogram2dcontour"
           }
          ],
          "mesh3d": [
           {
            "colorbar": {
             "outlinewidth": 0,
             "ticks": ""
            },
            "type": "mesh3d"
           }
          ],
          "parcoords": [
           {
            "line": {
             "colorbar": {
              "outlinewidth": 0,
              "ticks": ""
             }
            },
            "type": "parcoords"
           }
          ],
          "pie": [
           {
            "automargin": true,
            "type": "pie"
           }
          ],
          "scatter": [
           {
            "marker": {
             "colorbar": {
              "outlinewidth": 0,
              "ticks": ""
             }
            },
            "type": "scatter"
           }
          ],
          "scatter3d": [
           {
            "line": {
             "colorbar": {
              "outlinewidth": 0,
              "ticks": ""
             }
            },
            "marker": {
             "colorbar": {
              "outlinewidth": 0,
              "ticks": ""
             }
            },
            "type": "scatter3d"
           }
          ],
          "scattercarpet": [
           {
            "marker": {
             "colorbar": {
              "outlinewidth": 0,
              "ticks": ""
             }
            },
            "type": "scattercarpet"
           }
          ],
          "scattergeo": [
           {
            "marker": {
             "colorbar": {
              "outlinewidth": 0,
              "ticks": ""
             }
            },
            "type": "scattergeo"
           }
          ],
          "scattergl": [
           {
            "marker": {
             "colorbar": {
              "outlinewidth": 0,
              "ticks": ""
             }
            },
            "type": "scattergl"
           }
          ],
          "scattermapbox": [
           {
            "marker": {
             "colorbar": {
              "outlinewidth": 0,
              "ticks": ""
             }
            },
            "type": "scattermapbox"
           }
          ],
          "scatterpolar": [
           {
            "marker": {
             "colorbar": {
              "outlinewidth": 0,
              "ticks": ""
             }
            },
            "type": "scatterpolar"
           }
          ],
          "scatterpolargl": [
           {
            "marker": {
             "colorbar": {
              "outlinewidth": 0,
              "ticks": ""
             }
            },
            "type": "scatterpolargl"
           }
          ],
          "scatterternary": [
           {
            "marker": {
             "colorbar": {
              "outlinewidth": 0,
              "ticks": ""
             }
            },
            "type": "scatterternary"
           }
          ],
          "surface": [
           {
            "colorbar": {
             "outlinewidth": 0,
             "ticks": ""
            },
            "colorscale": [
             [
              0,
              "#0d0887"
             ],
             [
              0.1111111111111111,
              "#46039f"
             ],
             [
              0.2222222222222222,
              "#7201a8"
             ],
             [
              0.3333333333333333,
              "#9c179e"
             ],
             [
              0.4444444444444444,
              "#bd3786"
             ],
             [
              0.5555555555555556,
              "#d8576b"
             ],
             [
              0.6666666666666666,
              "#ed7953"
             ],
             [
              0.7777777777777778,
              "#fb9f3a"
             ],
             [
              0.8888888888888888,
              "#fdca26"
             ],
             [
              1,
              "#f0f921"
             ]
            ],
            "type": "surface"
           }
          ],
          "table": [
           {
            "cells": {
             "fill": {
              "color": "#EBF0F8"
             },
             "line": {
              "color": "white"
             }
            },
            "header": {
             "fill": {
              "color": "#C8D4E3"
             },
             "line": {
              "color": "white"
             }
            },
            "type": "table"
           }
          ]
         },
         "layout": {
          "annotationdefaults": {
           "arrowcolor": "#2a3f5f",
           "arrowhead": 0,
           "arrowwidth": 1
          },
          "coloraxis": {
           "colorbar": {
            "outlinewidth": 0,
            "ticks": ""
           }
          },
          "colorscale": {
           "diverging": [
            [
             0,
             "#8e0152"
            ],
            [
             0.1,
             "#c51b7d"
            ],
            [
             0.2,
             "#de77ae"
            ],
            [
             0.3,
             "#f1b6da"
            ],
            [
             0.4,
             "#fde0ef"
            ],
            [
             0.5,
             "#f7f7f7"
            ],
            [
             0.6,
             "#e6f5d0"
            ],
            [
             0.7,
             "#b8e186"
            ],
            [
             0.8,
             "#7fbc41"
            ],
            [
             0.9,
             "#4d9221"
            ],
            [
             1,
             "#276419"
            ]
           ],
           "sequential": [
            [
             0,
             "#0d0887"
            ],
            [
             0.1111111111111111,
             "#46039f"
            ],
            [
             0.2222222222222222,
             "#7201a8"
            ],
            [
             0.3333333333333333,
             "#9c179e"
            ],
            [
             0.4444444444444444,
             "#bd3786"
            ],
            [
             0.5555555555555556,
             "#d8576b"
            ],
            [
             0.6666666666666666,
             "#ed7953"
            ],
            [
             0.7777777777777778,
             "#fb9f3a"
            ],
            [
             0.8888888888888888,
             "#fdca26"
            ],
            [
             1,
             "#f0f921"
            ]
           ],
           "sequentialminus": [
            [
             0,
             "#0d0887"
            ],
            [
             0.1111111111111111,
             "#46039f"
            ],
            [
             0.2222222222222222,
             "#7201a8"
            ],
            [
             0.3333333333333333,
             "#9c179e"
            ],
            [
             0.4444444444444444,
             "#bd3786"
            ],
            [
             0.5555555555555556,
             "#d8576b"
            ],
            [
             0.6666666666666666,
             "#ed7953"
            ],
            [
             0.7777777777777778,
             "#fb9f3a"
            ],
            [
             0.8888888888888888,
             "#fdca26"
            ],
            [
             1,
             "#f0f921"
            ]
           ]
          },
          "colorway": [
           "#636efa",
           "#EF553B",
           "#00cc96",
           "#ab63fa",
           "#FFA15A",
           "#19d3f3",
           "#FF6692",
           "#B6E880",
           "#FF97FF",
           "#FECB52"
          ],
          "font": {
           "color": "#2a3f5f"
          },
          "geo": {
           "bgcolor": "white",
           "lakecolor": "white",
           "landcolor": "#E5ECF6",
           "showlakes": true,
           "showland": true,
           "subunitcolor": "white"
          },
          "hoverlabel": {
           "align": "left"
          },
          "hovermode": "closest",
          "mapbox": {
           "style": "light"
          },
          "paper_bgcolor": "white",
          "plot_bgcolor": "#E5ECF6",
          "polar": {
           "angularaxis": {
            "gridcolor": "white",
            "linecolor": "white",
            "ticks": ""
           },
           "bgcolor": "#E5ECF6",
           "radialaxis": {
            "gridcolor": "white",
            "linecolor": "white",
            "ticks": ""
           }
          },
          "scene": {
           "xaxis": {
            "backgroundcolor": "#E5ECF6",
            "gridcolor": "white",
            "gridwidth": 2,
            "linecolor": "white",
            "showbackground": true,
            "ticks": "",
            "zerolinecolor": "white"
           },
           "yaxis": {
            "backgroundcolor": "#E5ECF6",
            "gridcolor": "white",
            "gridwidth": 2,
            "linecolor": "white",
            "showbackground": true,
            "ticks": "",
            "zerolinecolor": "white"
           },
           "zaxis": {
            "backgroundcolor": "#E5ECF6",
            "gridcolor": "white",
            "gridwidth": 2,
            "linecolor": "white",
            "showbackground": true,
            "ticks": "",
            "zerolinecolor": "white"
           }
          },
          "shapedefaults": {
           "line": {
            "color": "#2a3f5f"
           }
          },
          "ternary": {
           "aaxis": {
            "gridcolor": "white",
            "linecolor": "white",
            "ticks": ""
           },
           "baxis": {
            "gridcolor": "white",
            "linecolor": "white",
            "ticks": ""
           },
           "bgcolor": "#E5ECF6",
           "caxis": {
            "gridcolor": "white",
            "linecolor": "white",
            "ticks": ""
           }
          },
          "title": {
           "x": 0.05
          },
          "xaxis": {
           "automargin": true,
           "gridcolor": "white",
           "linecolor": "white",
           "ticks": "",
           "title": {
            "standoff": 15
           },
           "zerolinecolor": "white",
           "zerolinewidth": 2
          },
          "yaxis": {
           "automargin": true,
           "gridcolor": "white",
           "linecolor": "white",
           "ticks": "",
           "title": {
            "standoff": 15
           },
           "zerolinecolor": "white",
           "zerolinewidth": 2
          }
         }
        },
        "title": {
         "text": "CLV20 Pseudo-Volatility vs Price",
         "x": 0.5,
         "xanchor": "center",
         "y": 0.9,
         "yanchor": "top"
        },
        "xaxis": {
         "showspikes": true,
         "spikedash": "solid",
         "spikemode": "toaxis+across",
         "spikethickness": 1,
         "tickangle": 45,
         "ticktext": [
          20200131,
          20200206,
          20200212,
          20200219,
          20200225,
          20200228,
          20200305,
          20200311,
          20200317,
          20200323,
          20200327,
          20200402,
          20200407,
          20200414,
          20200420,
          20200424,
          20200430,
          20200506,
          20200512,
          20200515,
          20200521,
          20200528,
          20200603,
          20200609,
          20200612
         ],
         "tickvals": [
          20200131,
          20200206,
          20200212,
          20200219,
          20200225,
          20200228,
          20200305,
          20200311,
          20200317,
          20200323,
          20200327,
          20200402,
          20200407,
          20200414,
          20200420,
          20200424,
          20200430,
          20200506,
          20200512,
          20200515,
          20200521,
          20200528,
          20200603,
          20200609,
          20200612
         ],
         "type": "category"
        },
        "yaxis": {
         "showspikes": true,
         "spikedash": "solid",
         "spikemode": "toaxis+across",
         "spikethickness": 1,
         "title": {
          "text": "Implied Volatility"
         }
        },
        "yaxis2": {
         "overlaying": "y",
         "side": "right",
         "title": {
          "text": "Futures Close"
         }
        }
       }
      },
      "text/html": [
       "<div>\n",
       "        \n",
       "        \n",
       "            <div id=\"c01c9da2-c170-4c94-ab2c-56c84da8d6b0\" class=\"plotly-graph-div\" style=\"height:525px; width:100%;\"></div>\n",
       "            <script type=\"text/javascript\">\n",
       "                require([\"plotly\"], function(Plotly) {\n",
       "                    window.PLOTLYENV=window.PLOTLYENV || {};\n",
       "                    \n",
       "                if (document.getElementById(\"c01c9da2-c170-4c94-ab2c-56c84da8d6b0\")) {\n",
       "                    Plotly.newPlot(\n",
       "                        'c01c9da2-c170-4c94-ab2c-56c84da8d6b0',\n",
       "                        [{\"name\": \"iv\", \"type\": \"scatter\", \"x\": [20200131, 20200203, 20200204, 20200205, 20200206, 20200207, 20200210, 20200211, 20200212, 20200213, 20200214, 20200218, 20200219, 20200220, 20200221, 20200224, 20200225, 20200225, 20200226, 20200227, 20200228, 20200302, 20200303, 20200304, 20200305, 20200306, 20200309, 20200310, 20200311, 20200312, 20200313, 20200316, 20200317, 20200318, 20200319, 20200320, 20200323, 20200324, 20200325, 20200326, 20200327, 20200330, 20200331, 20200401, 20200402, 20200402, 20200403, 20200406, 20200407, 20200408, 20200409, 20200413, 20200414, 20200415, 20200416, 20200417, 20200420, 20200421, 20200422, 20200423, 20200424, 20200427, 20200428, 20200429, 20200430, 20200501, 20200504, 20200505, 20200506, 20200507, 20200508, 20200511, 20200512, 20200513, 20200514, 20200514, 20200515, 20200518, 20200519, 20200520, 20200521, 20200522, 20200526, 20200527, 20200528, 20200529, 20200601, 20200602, 20200603, 20200604, 20200605, 20200608, 20200609, 20200610, 20200611, 20200611, 20200612, 20200612, 20200615], \"y\": [0.3162470515876943, 0.3101970510288906, 0.3020991713043018, 0.29833794094357846, 0.2980763273730092, 0.29637363678127876, 0.3027028257227756, 0.29666295274264337, 0.29555320557257414, 0.29591663828568376, 0.2968100639210563, 0.29360266901248777, 0.29206736061369426, 0.2981357657207672, 0.3023254130883138, 0.3015838624155317, 0.30645016205142306, 0.30645016205142306, 0.29861853831408486, 0.2962577334227113, 0.29172129683174775, 0.30850301318809764, 0.31367211207095064, 0.3180452030216821, 0.32016438656664614, 0.3221754961080182, 0.37954245817399695, 0.35867351378381984, 0.3531356342428834, 0.37952166908177015, 0.3821399081596512, 0.3922370353279949, 0.41045395286015596, 0.4411262684970445, 0.44375502070016826, 0.4727988168180702, 0.46119515385624116, 0.442703637195294, 0.3865127263788581, 0.3823599703897423, 0.4042469296045342, 0.4106780500646963, 0.4041782335002757, 0.3961240282273097, 0.42280972216832274, 0.42280972216832274, 0.43207499998531895, 0.41036864642361554, 0.383622953082525, 0.37898165134760836, 0.3662720821006286, 0.34274891450187134, 0.35322257718046346, 0.36389501806224545, 0.36596844959313646, 0.36023863962193486, 0.3932449947753225, 0.47464973155413764, 0.4071532937257116, 0.4193975324817623, 0.4457787446826361, 0.4379430715618969, 0.4333840129752537, 0.3980569204714673, 0.3934947667700703, 0.3834741084048291, 0.36710541832544397, 0.38166257092637723, 0.3990727789895886, 0.39810882594112973, 0.3862016870715355, 0.36734945780776573, 0.3594199159443229, 0.3691181909128936, 0.36239430101954073, 0.36239430101954073, 0.36634233194895804, 0.36229298250871383, 0.35511662192528487, 0.3411287822008545, 0.33579291519561005, 0.34349897421066106, 0.35370572269852985, 0.37068323442103523, 0.3635872338819557, 0.3629746991296585, 0.354298023443006, 0.3447331177556869, 0.34263642702183045, 0.3484567856049897, 0.35185851171141314, 0.359051905564948, 0.36129609586062816, 0.3632846349449397, 0.3848590252091107, 0.3848590252091107, 0.40942144914833184, 0.40942144914833184, 0.40168356509199843], \"yaxis\": \"y\"}, {\"name\": \"fprice\", \"type\": \"scatter\", \"x\": [20200131, 20200203, 20200204, 20200205, 20200206, 20200207, 20200210, 20200211, 20200212, 20200213, 20200214, 20200218, 20200219, 20200220, 20200221, 20200224, 20200225, 20200225, 20200226, 20200227, 20200228, 20200302, 20200303, 20200304, 20200305, 20200306, 20200309, 20200310, 20200311, 20200312, 20200313, 20200316, 20200317, 20200318, 20200319, 20200320, 20200323, 20200324, 20200325, 20200326, 20200327, 20200330, 20200331, 20200401, 20200402, 20200402, 20200403, 20200406, 20200407, 20200408, 20200409, 20200413, 20200414, 20200415, 20200416, 20200417, 20200420, 20200421, 20200422, 20200423, 20200424, 20200427, 20200428, 20200429, 20200430, 20200501, 20200504, 20200505, 20200506, 20200507, 20200508, 20200511, 20200512, 20200513, 20200514, 20200514, 20200515, 20200518, 20200519, 20200520, 20200521, 20200522, 20200526, 20200527, 20200528, 20200529, 20200601, 20200602, 20200603, 20200604, 20200605, 20200608, 20200609, 20200610, 20200611, 20200611, 20200612, 20200612, 20200615], \"y\": [51.17, 50.28, 50.06, 51.12, 51.65, 51.31, 50.75, 51.11, 52.06, 52.22, 52.67, 52.77, 53.63, 53.63, 53.04, 51.61, 50.0, 50.0, 48.99, 47.8, 45.58, 47.31, 47.59, 47.41, 46.61, 42.92, 34.25, 37.05, 36.14, 35.1, 34.96, 32.28, 31.49, 26.56, 30.65, 28.8, 30.17, 30.94, 32.14, 31.62, 32.14, 32.03, 32.08, 30.52, 32.0, 32.0, 33.62, 33.77, 33.9, 34.3, 33.96, 35.53, 35.18, 32.89, 32.52, 32.71, 30.81, 24.73, 27.01, 26.93, 26.77, 25.28, 25.29, 25.9, 27.67, 26.79, 27.2, 30.14, 29.03, 28.68, 30.48, 29.05, 29.26, 28.62, 30.0, 30.0, 31.11, 33.25, 33.38, 34.65, 35.12, 34.49, 35.56, 34.04, 34.81, 36.43, 36.4, 37.53, 38.05, 38.21, 40.15, 38.8, 39.53, 40.09, 37.0, 37.0, 37.0, 37.0, 37.96], \"yaxis\": \"y2\"}],\n",
       "                        {\"autosize\": true, \"hovermode\": \"x\", \"legend\": {\"orientation\": \"h\", \"x\": 0, \"y\": 1.1}, \"margin\": {\"b\": 100}, \"modebar\": {\"bgcolor\": \"grey\", \"orientation\": \"v\"}, \"spikedistance\": 1000, \"template\": {\"data\": {\"bar\": [{\"error_x\": {\"color\": \"#2a3f5f\"}, \"error_y\": {\"color\": \"#2a3f5f\"}, \"marker\": {\"line\": {\"color\": \"#E5ECF6\", \"width\": 0.5}}, \"type\": \"bar\"}], \"barpolar\": [{\"marker\": {\"line\": {\"color\": \"#E5ECF6\", \"width\": 0.5}}, \"type\": \"barpolar\"}], \"carpet\": [{\"aaxis\": {\"endlinecolor\": \"#2a3f5f\", \"gridcolor\": \"white\", \"linecolor\": \"white\", \"minorgridcolor\": \"white\", \"startlinecolor\": \"#2a3f5f\"}, \"baxis\": {\"endlinecolor\": \"#2a3f5f\", \"gridcolor\": \"white\", \"linecolor\": \"white\", \"minorgridcolor\": \"white\", \"startlinecolor\": \"#2a3f5f\"}, \"type\": \"carpet\"}], \"choropleth\": [{\"colorbar\": {\"outlinewidth\": 0, \"ticks\": \"\"}, \"type\": \"choropleth\"}], \"contour\": [{\"colorbar\": {\"outlinewidth\": 0, \"ticks\": \"\"}, \"colorscale\": [[0.0, \"#0d0887\"], [0.1111111111111111, \"#46039f\"], [0.2222222222222222, \"#7201a8\"], [0.3333333333333333, \"#9c179e\"], [0.4444444444444444, \"#bd3786\"], [0.5555555555555556, \"#d8576b\"], [0.6666666666666666, \"#ed7953\"], [0.7777777777777778, \"#fb9f3a\"], [0.8888888888888888, \"#fdca26\"], [1.0, \"#f0f921\"]], \"type\": \"contour\"}], \"contourcarpet\": [{\"colorbar\": {\"outlinewidth\": 0, \"ticks\": \"\"}, \"type\": \"contourcarpet\"}], \"heatmap\": [{\"colorbar\": {\"outlinewidth\": 0, \"ticks\": \"\"}, \"colorscale\": [[0.0, \"#0d0887\"], [0.1111111111111111, \"#46039f\"], [0.2222222222222222, \"#7201a8\"], [0.3333333333333333, \"#9c179e\"], [0.4444444444444444, \"#bd3786\"], [0.5555555555555556, \"#d8576b\"], [0.6666666666666666, \"#ed7953\"], [0.7777777777777778, \"#fb9f3a\"], [0.8888888888888888, \"#fdca26\"], [1.0, \"#f0f921\"]], \"type\": \"heatmap\"}], \"heatmapgl\": [{\"colorbar\": {\"outlinewidth\": 0, \"ticks\": \"\"}, \"colorscale\": [[0.0, \"#0d0887\"], [0.1111111111111111, \"#46039f\"], [0.2222222222222222, \"#7201a8\"], [0.3333333333333333, \"#9c179e\"], [0.4444444444444444, \"#bd3786\"], [0.5555555555555556, \"#d8576b\"], [0.6666666666666666, \"#ed7953\"], [0.7777777777777778, \"#fb9f3a\"], [0.8888888888888888, \"#fdca26\"], [1.0, \"#f0f921\"]], \"type\": \"heatmapgl\"}], \"histogram\": [{\"marker\": {\"colorbar\": {\"outlinewidth\": 0, \"ticks\": \"\"}}, \"type\": \"histogram\"}], \"histogram2d\": [{\"colorbar\": {\"outlinewidth\": 0, \"ticks\": \"\"}, \"colorscale\": [[0.0, \"#0d0887\"], [0.1111111111111111, \"#46039f\"], [0.2222222222222222, \"#7201a8\"], [0.3333333333333333, \"#9c179e\"], [0.4444444444444444, \"#bd3786\"], [0.5555555555555556, \"#d8576b\"], [0.6666666666666666, \"#ed7953\"], [0.7777777777777778, \"#fb9f3a\"], [0.8888888888888888, \"#fdca26\"], [1.0, \"#f0f921\"]], \"type\": \"histogram2d\"}], \"histogram2dcontour\": [{\"colorbar\": {\"outlinewidth\": 0, \"ticks\": \"\"}, \"colorscale\": [[0.0, \"#0d0887\"], [0.1111111111111111, \"#46039f\"], [0.2222222222222222, \"#7201a8\"], [0.3333333333333333, \"#9c179e\"], [0.4444444444444444, \"#bd3786\"], [0.5555555555555556, \"#d8576b\"], [0.6666666666666666, \"#ed7953\"], [0.7777777777777778, \"#fb9f3a\"], [0.8888888888888888, \"#fdca26\"], [1.0, \"#f0f921\"]], \"type\": \"histogram2dcontour\"}], \"mesh3d\": [{\"colorbar\": {\"outlinewidth\": 0, \"ticks\": \"\"}, \"type\": \"mesh3d\"}], \"parcoords\": [{\"line\": {\"colorbar\": {\"outlinewidth\": 0, \"ticks\": \"\"}}, \"type\": \"parcoords\"}], \"pie\": [{\"automargin\": true, \"type\": \"pie\"}], \"scatter\": [{\"marker\": {\"colorbar\": {\"outlinewidth\": 0, \"ticks\": \"\"}}, \"type\": \"scatter\"}], \"scatter3d\": [{\"line\": {\"colorbar\": {\"outlinewidth\": 0, \"ticks\": \"\"}}, \"marker\": {\"colorbar\": {\"outlinewidth\": 0, \"ticks\": \"\"}}, \"type\": \"scatter3d\"}], \"scattercarpet\": [{\"marker\": {\"colorbar\": {\"outlinewidth\": 0, \"ticks\": \"\"}}, \"type\": \"scattercarpet\"}], \"scattergeo\": [{\"marker\": {\"colorbar\": {\"outlinewidth\": 0, \"ticks\": \"\"}}, \"type\": \"scattergeo\"}], \"scattergl\": [{\"marker\": {\"colorbar\": {\"outlinewidth\": 0, \"ticks\": \"\"}}, \"type\": \"scattergl\"}], \"scattermapbox\": [{\"marker\": {\"colorbar\": {\"outlinewidth\": 0, \"ticks\": \"\"}}, \"type\": \"scattermapbox\"}], \"scatterpolar\": [{\"marker\": {\"colorbar\": {\"outlinewidth\": 0, \"ticks\": \"\"}}, \"type\": \"scatterpolar\"}], \"scatterpolargl\": [{\"marker\": {\"colorbar\": {\"outlinewidth\": 0, \"ticks\": \"\"}}, \"type\": \"scatterpolargl\"}], \"scatterternary\": [{\"marker\": {\"colorbar\": {\"outlinewidth\": 0, \"ticks\": \"\"}}, \"type\": \"scatterternary\"}], \"surface\": [{\"colorbar\": {\"outlinewidth\": 0, \"ticks\": \"\"}, \"colorscale\": [[0.0, \"#0d0887\"], [0.1111111111111111, \"#46039f\"], [0.2222222222222222, \"#7201a8\"], [0.3333333333333333, \"#9c179e\"], [0.4444444444444444, \"#bd3786\"], [0.5555555555555556, \"#d8576b\"], [0.6666666666666666, \"#ed7953\"], [0.7777777777777778, \"#fb9f3a\"], [0.8888888888888888, \"#fdca26\"], [1.0, \"#f0f921\"]], \"type\": \"surface\"}], \"table\": [{\"cells\": {\"fill\": {\"color\": \"#EBF0F8\"}, \"line\": {\"color\": \"white\"}}, \"header\": {\"fill\": {\"color\": \"#C8D4E3\"}, \"line\": {\"color\": \"white\"}}, \"type\": \"table\"}]}, \"layout\": {\"annotationdefaults\": {\"arrowcolor\": \"#2a3f5f\", \"arrowhead\": 0, \"arrowwidth\": 1}, \"coloraxis\": {\"colorbar\": {\"outlinewidth\": 0, \"ticks\": \"\"}}, \"colorscale\": {\"diverging\": [[0, \"#8e0152\"], [0.1, \"#c51b7d\"], [0.2, \"#de77ae\"], [0.3, \"#f1b6da\"], [0.4, \"#fde0ef\"], [0.5, \"#f7f7f7\"], [0.6, \"#e6f5d0\"], [0.7, \"#b8e186\"], [0.8, \"#7fbc41\"], [0.9, \"#4d9221\"], [1, \"#276419\"]], \"sequential\": [[0.0, \"#0d0887\"], [0.1111111111111111, \"#46039f\"], [0.2222222222222222, \"#7201a8\"], [0.3333333333333333, \"#9c179e\"], [0.4444444444444444, \"#bd3786\"], [0.5555555555555556, \"#d8576b\"], [0.6666666666666666, \"#ed7953\"], [0.7777777777777778, \"#fb9f3a\"], [0.8888888888888888, \"#fdca26\"], [1.0, \"#f0f921\"]], \"sequentialminus\": [[0.0, \"#0d0887\"], [0.1111111111111111, \"#46039f\"], [0.2222222222222222, \"#7201a8\"], [0.3333333333333333, \"#9c179e\"], [0.4444444444444444, \"#bd3786\"], [0.5555555555555556, \"#d8576b\"], [0.6666666666666666, \"#ed7953\"], [0.7777777777777778, \"#fb9f3a\"], [0.8888888888888888, \"#fdca26\"], [1.0, \"#f0f921\"]]}, \"colorway\": [\"#636efa\", \"#EF553B\", \"#00cc96\", \"#ab63fa\", \"#FFA15A\", \"#19d3f3\", \"#FF6692\", \"#B6E880\", \"#FF97FF\", \"#FECB52\"], \"font\": {\"color\": \"#2a3f5f\"}, \"geo\": {\"bgcolor\": \"white\", \"lakecolor\": \"white\", \"landcolor\": \"#E5ECF6\", \"showlakes\": true, \"showland\": true, \"subunitcolor\": \"white\"}, \"hoverlabel\": {\"align\": \"left\"}, \"hovermode\": \"closest\", \"mapbox\": {\"style\": \"light\"}, \"paper_bgcolor\": \"white\", \"plot_bgcolor\": \"#E5ECF6\", \"polar\": {\"angularaxis\": {\"gridcolor\": \"white\", \"linecolor\": \"white\", \"ticks\": \"\"}, \"bgcolor\": \"#E5ECF6\", \"radialaxis\": {\"gridcolor\": \"white\", \"linecolor\": \"white\", \"ticks\": \"\"}}, \"scene\": {\"xaxis\": {\"backgroundcolor\": \"#E5ECF6\", \"gridcolor\": \"white\", \"gridwidth\": 2, \"linecolor\": \"white\", \"showbackground\": true, \"ticks\": \"\", \"zerolinecolor\": \"white\"}, \"yaxis\": {\"backgroundcolor\": \"#E5ECF6\", \"gridcolor\": \"white\", \"gridwidth\": 2, \"linecolor\": \"white\", \"showbackground\": true, \"ticks\": \"\", \"zerolinecolor\": \"white\"}, \"zaxis\": {\"backgroundcolor\": \"#E5ECF6\", \"gridcolor\": \"white\", \"gridwidth\": 2, \"linecolor\": \"white\", \"showbackground\": true, \"ticks\": \"\", \"zerolinecolor\": \"white\"}}, \"shapedefaults\": {\"line\": {\"color\": \"#2a3f5f\"}}, \"ternary\": {\"aaxis\": {\"gridcolor\": \"white\", \"linecolor\": \"white\", \"ticks\": \"\"}, \"baxis\": {\"gridcolor\": \"white\", \"linecolor\": \"white\", \"ticks\": \"\"}, \"bgcolor\": \"#E5ECF6\", \"caxis\": {\"gridcolor\": \"white\", \"linecolor\": \"white\", \"ticks\": \"\"}}, \"title\": {\"x\": 0.05}, \"xaxis\": {\"automargin\": true, \"gridcolor\": \"white\", \"linecolor\": \"white\", \"ticks\": \"\", \"title\": {\"standoff\": 15}, \"zerolinecolor\": \"white\", \"zerolinewidth\": 2}, \"yaxis\": {\"automargin\": true, \"gridcolor\": \"white\", \"linecolor\": \"white\", \"ticks\": \"\", \"title\": {\"standoff\": 15}, \"zerolinecolor\": \"white\", \"zerolinewidth\": 2}}}, \"title\": {\"text\": \"CLV20 Pseudo-Volatility vs Price\", \"x\": 0.5, \"xanchor\": \"center\", \"y\": 0.9, \"yanchor\": \"top\"}, \"xaxis\": {\"showspikes\": true, \"spikedash\": \"solid\", \"spikemode\": \"toaxis+across\", \"spikethickness\": 1, \"tickangle\": 45, \"ticktext\": [20200131, 20200206, 20200212, 20200219, 20200225, 20200228, 20200305, 20200311, 20200317, 20200323, 20200327, 20200402, 20200407, 20200414, 20200420, 20200424, 20200430, 20200506, 20200512, 20200515, 20200521, 20200528, 20200603, 20200609, 20200612], \"tickvals\": [20200131, 20200206, 20200212, 20200219, 20200225, 20200228, 20200305, 20200311, 20200317, 20200323, 20200327, 20200402, 20200407, 20200414, 20200420, 20200424, 20200430, 20200506, 20200512, 20200515, 20200521, 20200528, 20200603, 20200609, 20200612], \"type\": \"category\"}, \"yaxis\": {\"showspikes\": true, \"spikedash\": \"solid\", \"spikemode\": \"toaxis+across\", \"spikethickness\": 1, \"title\": {\"text\": \"Implied Volatility\"}}, \"yaxis2\": {\"overlaying\": \"y\", \"side\": \"right\", \"title\": {\"text\": \"Futures Close\"}}},\n",
       "                        {\"responsive\": true}\n",
       "                    ).then(function(){\n",
       "                            \n",
       "var gd = document.getElementById('c01c9da2-c170-4c94-ab2c-56c84da8d6b0');\n",
       "var x = new MutationObserver(function (mutations, observer) {{\n",
       "        var display = window.getComputedStyle(gd).display;\n",
       "        if (!display || display === 'none') {{\n",
       "            console.log([gd, 'removed!']);\n",
       "            Plotly.purge(gd);\n",
       "            observer.disconnect();\n",
       "        }}\n",
       "}});\n",
       "\n",
       "// Listen for the removal of the full notebook cells\n",
       "var notebookContainer = gd.closest('#notebook-container');\n",
       "if (notebookContainer) {{\n",
       "    x.observe(notebookContainer, {childList: true});\n",
       "}}\n",
       "\n",
       "// Listen for the clearing of the current output cell\n",
       "var outputEl = gd.closest('.output');\n",
       "if (outputEl) {{\n",
       "    x.observe(outputEl, {childList: true});\n",
       "}}\n",
       "\n",
       "                        })\n",
       "                };\n",
       "                });\n",
       "            </script>\n",
       "        </div>"
      ]
     },
     "metadata": {},
     "output_type": "display_data"
    },
    {
     "data": {
      "application/vnd.plotly.v1+json": {
       "config": {
        "linkText": "Export to plot.ly",
        "plotlyServerURL": "https://plot.ly",
        "showLink": false
       },
       "data": [
        {
         "name": "iv",
         "type": "scatter",
         "x": [
          20200128,
          20200129,
          20200130,
          20200131,
          20200203,
          20200204,
          20200205,
          20200206,
          20200207,
          20200210,
          20200211,
          20200212,
          20200213,
          20200214,
          20200218,
          20200219,
          20200219,
          20200220,
          20200221,
          20200224,
          20200225,
          20200226,
          20200227,
          20200228,
          20200302,
          20200303,
          20200304,
          20200305,
          20200306,
          20200309,
          20200310,
          20200311,
          20200312,
          20200313,
          20200316,
          20200317,
          20200317,
          20200318,
          20200319,
          20200320,
          20200323,
          20200324,
          20200325,
          20200326,
          20200327,
          20200330,
          20200331,
          20200401,
          20200402,
          20200403,
          20200406,
          20200407,
          20200408,
          20200409,
          20200413,
          20200414,
          20200415,
          20200416,
          20200417,
          20200420,
          20200421,
          20200422,
          20200423,
          20200424,
          20200427,
          20200428,
          20200429,
          20200430,
          20200501,
          20200504,
          20200505,
          20200506,
          20200507,
          20200508,
          20200511,
          20200512,
          20200513,
          20200514,
          20200515,
          20200518,
          20200519,
          20200520,
          20200521,
          20200522,
          20200526,
          20200527,
          20200528,
          20200529,
          20200601,
          20200602,
          20200603,
          20200604,
          20200605,
          20200608,
          20200609,
          20200610,
          20200611,
          20200612,
          20200615
         ],
         "y": [
          0.29468745803751084,
          0.29004815973867876,
          0.29863106597781247,
          0.3061863882277741,
          0.3029244132203755,
          0.29344063114132557,
          0.28976703370551765,
          0.2892905258048198,
          0.2892140050060077,
          0.2934656249083322,
          0.28960408663562764,
          0.29006592318360713,
          0.29067845529361175,
          0.2907397806091678,
          0.2889358968400681,
          0.2868758500692551,
          0.2868758500692551,
          0.2924611903895408,
          0.2956008924267503,
          0.29549461125219,
          0.29870080818754363,
          0.29145468542458025,
          0.2888421201216029,
          0.28364432147251983,
          0.30094256798769375,
          0.30524460733473785,
          0.30809780225048167,
          0.31032938682344774,
          0.31302007429940565,
          0.3508307384282994,
          0.3411233095837992,
          0.33936932588369695,
          0.3630359398230922,
          0.36480260254846114,
          0.3759258130698232,
          0.3939481210285759,
          0.3919685701771328,
          0.4191760588898503,
          0.41793755822860057,
          0.443780327296521,
          0.4332618159638008,
          0.41271035186445726,
          0.36708608439343554,
          0.3658152598725119,
          0.38129759657564344,
          0.3901713654294451,
          0.3845729413871092,
          0.37470340485169334,
          0.39848426161204736,
          0.4009898910660961,
          0.3850114496643357,
          0.35732622115958806,
          0.360874875170941,
          0.34203085618106144,
          0.32630908748697623,
          0.3391208325798024,
          0.34635177012400864,
          0.34923389733242116,
          0.3431400430640066,
          0.3756501929268156,
          0.4203777313374231,
          0.37855361059160875,
          0.4015623511726797,
          0.41733001498987204,
          0.40821178417984333,
          0.4172878514127946,
          0.3777091387841533,
          0.3662973700303286,
          0.3704518645514463,
          0.3549539271142101,
          0.3674469371203245,
          0.3857633993571465,
          0.38118801820830156,
          0.36633787087983827,
          0.3537701897813536,
          0.34906689817484626,
          0.35834714837101783,
          0.355542480495322,
          0.3531129714786139,
          0.35288945738768634,
          0.34347390482229484,
          0.33375749635267166,
          0.3259933932778011,
          0.33238842531342294,
          0.3436389442582378,
          0.35562127421457884,
          0.35148488735522393,
          0.3536079797527146,
          0.343203224300939,
          0.3362403147189534,
          0.334604977473075,
          0.33581595527738833,
          0.33809008137401136,
          0.3468807191907102,
          0.35195016147561453,
          0.35428187660356586,
          0.37252654209470554,
          0.3970778995561816,
          0.38859547925150606
         ],
         "yaxis": "y"
        },
        {
         "name": "fprice",
         "type": "scatter",
         "x": [
          20200128,
          20200129,
          20200130,
          20200131,
          20200203,
          20200204,
          20200205,
          20200206,
          20200207,
          20200210,
          20200211,
          20200212,
          20200213,
          20200214,
          20200218,
          20200219,
          20200219,
          20200220,
          20200221,
          20200224,
          20200225,
          20200226,
          20200227,
          20200228,
          20200302,
          20200303,
          20200304,
          20200305,
          20200306,
          20200309,
          20200310,
          20200311,
          20200312,
          20200313,
          20200316,
          20200317,
          20200317,
          20200318,
          20200319,
          20200320,
          20200323,
          20200324,
          20200325,
          20200326,
          20200327,
          20200330,
          20200331,
          20200401,
          20200402,
          20200403,
          20200406,
          20200407,
          20200408,
          20200409,
          20200413,
          20200414,
          20200415,
          20200416,
          20200417,
          20200420,
          20200421,
          20200422,
          20200423,
          20200424,
          20200427,
          20200428,
          20200429,
          20200430,
          20200501,
          20200504,
          20200505,
          20200506,
          20200507,
          20200508,
          20200511,
          20200512,
          20200513,
          20200514,
          20200515,
          20200518,
          20200519,
          20200520,
          20200521,
          20200522,
          20200526,
          20200527,
          20200528,
          20200529,
          20200601,
          20200602,
          20200603,
          20200604,
          20200605,
          20200608,
          20200609,
          20200610,
          20200611,
          20200612,
          20200615
         ],
         "y": [
          51.83,
          51.86,
          51.17,
          50.98,
          50.18,
          49.97,
          50.99,
          51.55,
          51.28,
          50.8,
          51.14,
          52.01,
          52.16,
          52.57,
          52.69,
          53.5,
          53.5,
          53.48,
          52.89,
          51.59,
          49.98,
          49.03,
          47.9,
          45.73,
          47.4,
          47.65,
          47.49,
          46.72,
          43.24,
          34.86,
          37.56,
          36.73,
          35.8,
          35.58,
          32.95,
          32.25,
          32.25,
          27.46,
          31.33,
          29.52,
          30.88,
          31.62,
          32.83,
          32.26,
          32.85,
          32.9,
          32.91,
          31.4,
          32.54,
          33.9,
          34.08,
          34.3,
          34.62,
          34.35,
          35.94,
          35.71,
          33.41,
          33.07,
          33.3,
          31.66,
          25.86,
          28.07,
          27.85,
          27.67,
          26.47,
          26.48,
          27.01,
          28.72,
          27.74,
          28.19,
          30.95,
          29.78,
          29.45,
          31.27,
          29.87,
          29.97,
          29.37,
          30.57,
          31.56,
          33.66,
          33.77,
          34.94,
          35.42,
          34.84,
          35.88,
          34.42,
          35.15,
          36.67,
          36.65,
          37.71,
          38.24,
          38.44,
          40.28,
          38.94,
          39.67,
          40.21,
          37.2,
          37.21,
          38.19
         ],
         "yaxis": "y2"
        }
       ],
       "layout": {
        "autosize": true,
        "hovermode": "x",
        "legend": {
         "orientation": "h",
         "x": 0,
         "y": 1.1
        },
        "margin": {
         "b": 100
        },
        "modebar": {
         "bgcolor": "grey",
         "orientation": "v"
        },
        "spikedistance": 1000,
        "template": {
         "data": {
          "bar": [
           {
            "error_x": {
             "color": "#2a3f5f"
            },
            "error_y": {
             "color": "#2a3f5f"
            },
            "marker": {
             "line": {
              "color": "#E5ECF6",
              "width": 0.5
             }
            },
            "type": "bar"
           }
          ],
          "barpolar": [
           {
            "marker": {
             "line": {
              "color": "#E5ECF6",
              "width": 0.5
             }
            },
            "type": "barpolar"
           }
          ],
          "carpet": [
           {
            "aaxis": {
             "endlinecolor": "#2a3f5f",
             "gridcolor": "white",
             "linecolor": "white",
             "minorgridcolor": "white",
             "startlinecolor": "#2a3f5f"
            },
            "baxis": {
             "endlinecolor": "#2a3f5f",
             "gridcolor": "white",
             "linecolor": "white",
             "minorgridcolor": "white",
             "startlinecolor": "#2a3f5f"
            },
            "type": "carpet"
           }
          ],
          "choropleth": [
           {
            "colorbar": {
             "outlinewidth": 0,
             "ticks": ""
            },
            "type": "choropleth"
           }
          ],
          "contour": [
           {
            "colorbar": {
             "outlinewidth": 0,
             "ticks": ""
            },
            "colorscale": [
             [
              0,
              "#0d0887"
             ],
             [
              0.1111111111111111,
              "#46039f"
             ],
             [
              0.2222222222222222,
              "#7201a8"
             ],
             [
              0.3333333333333333,
              "#9c179e"
             ],
             [
              0.4444444444444444,
              "#bd3786"
             ],
             [
              0.5555555555555556,
              "#d8576b"
             ],
             [
              0.6666666666666666,
              "#ed7953"
             ],
             [
              0.7777777777777778,
              "#fb9f3a"
             ],
             [
              0.8888888888888888,
              "#fdca26"
             ],
             [
              1,
              "#f0f921"
             ]
            ],
            "type": "contour"
           }
          ],
          "contourcarpet": [
           {
            "colorbar": {
             "outlinewidth": 0,
             "ticks": ""
            },
            "type": "contourcarpet"
           }
          ],
          "heatmap": [
           {
            "colorbar": {
             "outlinewidth": 0,
             "ticks": ""
            },
            "colorscale": [
             [
              0,
              "#0d0887"
             ],
             [
              0.1111111111111111,
              "#46039f"
             ],
             [
              0.2222222222222222,
              "#7201a8"
             ],
             [
              0.3333333333333333,
              "#9c179e"
             ],
             [
              0.4444444444444444,
              "#bd3786"
             ],
             [
              0.5555555555555556,
              "#d8576b"
             ],
             [
              0.6666666666666666,
              "#ed7953"
             ],
             [
              0.7777777777777778,
              "#fb9f3a"
             ],
             [
              0.8888888888888888,
              "#fdca26"
             ],
             [
              1,
              "#f0f921"
             ]
            ],
            "type": "heatmap"
           }
          ],
          "heatmapgl": [
           {
            "colorbar": {
             "outlinewidth": 0,
             "ticks": ""
            },
            "colorscale": [
             [
              0,
              "#0d0887"
             ],
             [
              0.1111111111111111,
              "#46039f"
             ],
             [
              0.2222222222222222,
              "#7201a8"
             ],
             [
              0.3333333333333333,
              "#9c179e"
             ],
             [
              0.4444444444444444,
              "#bd3786"
             ],
             [
              0.5555555555555556,
              "#d8576b"
             ],
             [
              0.6666666666666666,
              "#ed7953"
             ],
             [
              0.7777777777777778,
              "#fb9f3a"
             ],
             [
              0.8888888888888888,
              "#fdca26"
             ],
             [
              1,
              "#f0f921"
             ]
            ],
            "type": "heatmapgl"
           }
          ],
          "histogram": [
           {
            "marker": {
             "colorbar": {
              "outlinewidth": 0,
              "ticks": ""
             }
            },
            "type": "histogram"
           }
          ],
          "histogram2d": [
           {
            "colorbar": {
             "outlinewidth": 0,
             "ticks": ""
            },
            "colorscale": [
             [
              0,
              "#0d0887"
             ],
             [
              0.1111111111111111,
              "#46039f"
             ],
             [
              0.2222222222222222,
              "#7201a8"
             ],
             [
              0.3333333333333333,
              "#9c179e"
             ],
             [
              0.4444444444444444,
              "#bd3786"
             ],
             [
              0.5555555555555556,
              "#d8576b"
             ],
             [
              0.6666666666666666,
              "#ed7953"
             ],
             [
              0.7777777777777778,
              "#fb9f3a"
             ],
             [
              0.8888888888888888,
              "#fdca26"
             ],
             [
              1,
              "#f0f921"
             ]
            ],
            "type": "histogram2d"
           }
          ],
          "histogram2dcontour": [
           {
            "colorbar": {
             "outlinewidth": 0,
             "ticks": ""
            },
            "colorscale": [
             [
              0,
              "#0d0887"
             ],
             [
              0.1111111111111111,
              "#46039f"
             ],
             [
              0.2222222222222222,
              "#7201a8"
             ],
             [
              0.3333333333333333,
              "#9c179e"
             ],
             [
              0.4444444444444444,
              "#bd3786"
             ],
             [
              0.5555555555555556,
              "#d8576b"
             ],
             [
              0.6666666666666666,
              "#ed7953"
             ],
             [
              0.7777777777777778,
              "#fb9f3a"
             ],
             [
              0.8888888888888888,
              "#fdca26"
             ],
             [
              1,
              "#f0f921"
             ]
            ],
            "type": "histogram2dcontour"
           }
          ],
          "mesh3d": [
           {
            "colorbar": {
             "outlinewidth": 0,
             "ticks": ""
            },
            "type": "mesh3d"
           }
          ],
          "parcoords": [
           {
            "line": {
             "colorbar": {
              "outlinewidth": 0,
              "ticks": ""
             }
            },
            "type": "parcoords"
           }
          ],
          "pie": [
           {
            "automargin": true,
            "type": "pie"
           }
          ],
          "scatter": [
           {
            "marker": {
             "colorbar": {
              "outlinewidth": 0,
              "ticks": ""
             }
            },
            "type": "scatter"
           }
          ],
          "scatter3d": [
           {
            "line": {
             "colorbar": {
              "outlinewidth": 0,
              "ticks": ""
             }
            },
            "marker": {
             "colorbar": {
              "outlinewidth": 0,
              "ticks": ""
             }
            },
            "type": "scatter3d"
           }
          ],
          "scattercarpet": [
           {
            "marker": {
             "colorbar": {
              "outlinewidth": 0,
              "ticks": ""
             }
            },
            "type": "scattercarpet"
           }
          ],
          "scattergeo": [
           {
            "marker": {
             "colorbar": {
              "outlinewidth": 0,
              "ticks": ""
             }
            },
            "type": "scattergeo"
           }
          ],
          "scattergl": [
           {
            "marker": {
             "colorbar": {
              "outlinewidth": 0,
              "ticks": ""
             }
            },
            "type": "scattergl"
           }
          ],
          "scattermapbox": [
           {
            "marker": {
             "colorbar": {
              "outlinewidth": 0,
              "ticks": ""
             }
            },
            "type": "scattermapbox"
           }
          ],
          "scatterpolar": [
           {
            "marker": {
             "colorbar": {
              "outlinewidth": 0,
              "ticks": ""
             }
            },
            "type": "scatterpolar"
           }
          ],
          "scatterpolargl": [
           {
            "marker": {
             "colorbar": {
              "outlinewidth": 0,
              "ticks": ""
             }
            },
            "type": "scatterpolargl"
           }
          ],
          "scatterternary": [
           {
            "marker": {
             "colorbar": {
              "outlinewidth": 0,
              "ticks": ""
             }
            },
            "type": "scatterternary"
           }
          ],
          "surface": [
           {
            "colorbar": {
             "outlinewidth": 0,
             "ticks": ""
            },
            "colorscale": [
             [
              0,
              "#0d0887"
             ],
             [
              0.1111111111111111,
              "#46039f"
             ],
             [
              0.2222222222222222,
              "#7201a8"
             ],
             [
              0.3333333333333333,
              "#9c179e"
             ],
             [
              0.4444444444444444,
              "#bd3786"
             ],
             [
              0.5555555555555556,
              "#d8576b"
             ],
             [
              0.6666666666666666,
              "#ed7953"
             ],
             [
              0.7777777777777778,
              "#fb9f3a"
             ],
             [
              0.8888888888888888,
              "#fdca26"
             ],
             [
              1,
              "#f0f921"
             ]
            ],
            "type": "surface"
           }
          ],
          "table": [
           {
            "cells": {
             "fill": {
              "color": "#EBF0F8"
             },
             "line": {
              "color": "white"
             }
            },
            "header": {
             "fill": {
              "color": "#C8D4E3"
             },
             "line": {
              "color": "white"
             }
            },
            "type": "table"
           }
          ]
         },
         "layout": {
          "annotationdefaults": {
           "arrowcolor": "#2a3f5f",
           "arrowhead": 0,
           "arrowwidth": 1
          },
          "coloraxis": {
           "colorbar": {
            "outlinewidth": 0,
            "ticks": ""
           }
          },
          "colorscale": {
           "diverging": [
            [
             0,
             "#8e0152"
            ],
            [
             0.1,
             "#c51b7d"
            ],
            [
             0.2,
             "#de77ae"
            ],
            [
             0.3,
             "#f1b6da"
            ],
            [
             0.4,
             "#fde0ef"
            ],
            [
             0.5,
             "#f7f7f7"
            ],
            [
             0.6,
             "#e6f5d0"
            ],
            [
             0.7,
             "#b8e186"
            ],
            [
             0.8,
             "#7fbc41"
            ],
            [
             0.9,
             "#4d9221"
            ],
            [
             1,
             "#276419"
            ]
           ],
           "sequential": [
            [
             0,
             "#0d0887"
            ],
            [
             0.1111111111111111,
             "#46039f"
            ],
            [
             0.2222222222222222,
             "#7201a8"
            ],
            [
             0.3333333333333333,
             "#9c179e"
            ],
            [
             0.4444444444444444,
             "#bd3786"
            ],
            [
             0.5555555555555556,
             "#d8576b"
            ],
            [
             0.6666666666666666,
             "#ed7953"
            ],
            [
             0.7777777777777778,
             "#fb9f3a"
            ],
            [
             0.8888888888888888,
             "#fdca26"
            ],
            [
             1,
             "#f0f921"
            ]
           ],
           "sequentialminus": [
            [
             0,
             "#0d0887"
            ],
            [
             0.1111111111111111,
             "#46039f"
            ],
            [
             0.2222222222222222,
             "#7201a8"
            ],
            [
             0.3333333333333333,
             "#9c179e"
            ],
            [
             0.4444444444444444,
             "#bd3786"
            ],
            [
             0.5555555555555556,
             "#d8576b"
            ],
            [
             0.6666666666666666,
             "#ed7953"
            ],
            [
             0.7777777777777778,
             "#fb9f3a"
            ],
            [
             0.8888888888888888,
             "#fdca26"
            ],
            [
             1,
             "#f0f921"
            ]
           ]
          },
          "colorway": [
           "#636efa",
           "#EF553B",
           "#00cc96",
           "#ab63fa",
           "#FFA15A",
           "#19d3f3",
           "#FF6692",
           "#B6E880",
           "#FF97FF",
           "#FECB52"
          ],
          "font": {
           "color": "#2a3f5f"
          },
          "geo": {
           "bgcolor": "white",
           "lakecolor": "white",
           "landcolor": "#E5ECF6",
           "showlakes": true,
           "showland": true,
           "subunitcolor": "white"
          },
          "hoverlabel": {
           "align": "left"
          },
          "hovermode": "closest",
          "mapbox": {
           "style": "light"
          },
          "paper_bgcolor": "white",
          "plot_bgcolor": "#E5ECF6",
          "polar": {
           "angularaxis": {
            "gridcolor": "white",
            "linecolor": "white",
            "ticks": ""
           },
           "bgcolor": "#E5ECF6",
           "radialaxis": {
            "gridcolor": "white",
            "linecolor": "white",
            "ticks": ""
           }
          },
          "scene": {
           "xaxis": {
            "backgroundcolor": "#E5ECF6",
            "gridcolor": "white",
            "gridwidth": 2,
            "linecolor": "white",
            "showbackground": true,
            "ticks": "",
            "zerolinecolor": "white"
           },
           "yaxis": {
            "backgroundcolor": "#E5ECF6",
            "gridcolor": "white",
            "gridwidth": 2,
            "linecolor": "white",
            "showbackground": true,
            "ticks": "",
            "zerolinecolor": "white"
           },
           "zaxis": {
            "backgroundcolor": "#E5ECF6",
            "gridcolor": "white",
            "gridwidth": 2,
            "linecolor": "white",
            "showbackground": true,
            "ticks": "",
            "zerolinecolor": "white"
           }
          },
          "shapedefaults": {
           "line": {
            "color": "#2a3f5f"
           }
          },
          "ternary": {
           "aaxis": {
            "gridcolor": "white",
            "linecolor": "white",
            "ticks": ""
           },
           "baxis": {
            "gridcolor": "white",
            "linecolor": "white",
            "ticks": ""
           },
           "bgcolor": "#E5ECF6",
           "caxis": {
            "gridcolor": "white",
            "linecolor": "white",
            "ticks": ""
           }
          },
          "title": {
           "x": 0.05
          },
          "xaxis": {
           "automargin": true,
           "gridcolor": "white",
           "linecolor": "white",
           "ticks": "",
           "title": {
            "standoff": 15
           },
           "zerolinecolor": "white",
           "zerolinewidth": 2
          },
          "yaxis": {
           "automargin": true,
           "gridcolor": "white",
           "linecolor": "white",
           "ticks": "",
           "title": {
            "standoff": 15
           },
           "zerolinecolor": "white",
           "zerolinewidth": 2
          }
         }
        },
        "title": {
         "text": "CLX20 Pseudo-Volatility vs Price",
         "x": 0.5,
         "xanchor": "center",
         "y": 0.9,
         "yanchor": "top"
        },
        "xaxis": {
         "showspikes": true,
         "spikedash": "solid",
         "spikemode": "toaxis+across",
         "spikethickness": 1,
         "tickangle": 45,
         "ticktext": [
          20200128,
          20200203,
          20200207,
          20200213,
          20200219,
          20200225,
          20200302,
          20200306,
          20200312,
          20200317,
          20200323,
          20200327,
          20200402,
          20200408,
          20200415,
          20200421,
          20200427,
          20200501,
          20200507,
          20200513,
          20200519,
          20200526,
          20200601,
          20200605,
          20200611
         ],
         "tickvals": [
          20200128,
          20200203,
          20200207,
          20200213,
          20200219,
          20200225,
          20200302,
          20200306,
          20200312,
          20200317,
          20200323,
          20200327,
          20200402,
          20200408,
          20200415,
          20200421,
          20200427,
          20200501,
          20200507,
          20200513,
          20200519,
          20200526,
          20200601,
          20200605,
          20200611
         ],
         "type": "category"
        },
        "yaxis": {
         "showspikes": true,
         "spikedash": "solid",
         "spikemode": "toaxis+across",
         "spikethickness": 1,
         "title": {
          "text": "Implied Volatility"
         }
        },
        "yaxis2": {
         "overlaying": "y",
         "side": "right",
         "title": {
          "text": "Futures Close"
         }
        }
       }
      },
      "text/html": [
       "<div>\n",
       "        \n",
       "        \n",
       "            <div id=\"a799fc06-bb4d-4696-ba83-c8d815958c79\" class=\"plotly-graph-div\" style=\"height:525px; width:100%;\"></div>\n",
       "            <script type=\"text/javascript\">\n",
       "                require([\"plotly\"], function(Plotly) {\n",
       "                    window.PLOTLYENV=window.PLOTLYENV || {};\n",
       "                    \n",
       "                if (document.getElementById(\"a799fc06-bb4d-4696-ba83-c8d815958c79\")) {\n",
       "                    Plotly.newPlot(\n",
       "                        'a799fc06-bb4d-4696-ba83-c8d815958c79',\n",
       "                        [{\"name\": \"iv\", \"type\": \"scatter\", \"x\": [20200128, 20200129, 20200130, 20200131, 20200203, 20200204, 20200205, 20200206, 20200207, 20200210, 20200211, 20200212, 20200213, 20200214, 20200218, 20200219, 20200219, 20200220, 20200221, 20200224, 20200225, 20200226, 20200227, 20200228, 20200302, 20200303, 20200304, 20200305, 20200306, 20200309, 20200310, 20200311, 20200312, 20200313, 20200316, 20200317, 20200317, 20200318, 20200319, 20200320, 20200323, 20200324, 20200325, 20200326, 20200327, 20200330, 20200331, 20200401, 20200402, 20200403, 20200406, 20200407, 20200408, 20200409, 20200413, 20200414, 20200415, 20200416, 20200417, 20200420, 20200421, 20200422, 20200423, 20200424, 20200427, 20200428, 20200429, 20200430, 20200501, 20200504, 20200505, 20200506, 20200507, 20200508, 20200511, 20200512, 20200513, 20200514, 20200515, 20200518, 20200519, 20200520, 20200521, 20200522, 20200526, 20200527, 20200528, 20200529, 20200601, 20200602, 20200603, 20200604, 20200605, 20200608, 20200609, 20200610, 20200611, 20200612, 20200615], \"y\": [0.29468745803751084, 0.29004815973867876, 0.29863106597781247, 0.3061863882277741, 0.3029244132203755, 0.29344063114132557, 0.28976703370551765, 0.2892905258048198, 0.2892140050060077, 0.2934656249083322, 0.28960408663562764, 0.29006592318360713, 0.29067845529361175, 0.2907397806091678, 0.2889358968400681, 0.2868758500692551, 0.2868758500692551, 0.2924611903895408, 0.2956008924267503, 0.29549461125219, 0.29870080818754363, 0.29145468542458025, 0.2888421201216029, 0.28364432147251983, 0.30094256798769375, 0.30524460733473785, 0.30809780225048167, 0.31032938682344774, 0.31302007429940565, 0.3508307384282994, 0.3411233095837992, 0.33936932588369695, 0.3630359398230922, 0.36480260254846114, 0.3759258130698232, 0.3939481210285759, 0.3919685701771328, 0.4191760588898503, 0.41793755822860057, 0.443780327296521, 0.4332618159638008, 0.41271035186445726, 0.36708608439343554, 0.3658152598725119, 0.38129759657564344, 0.3901713654294451, 0.3845729413871092, 0.37470340485169334, 0.39848426161204736, 0.4009898910660961, 0.3850114496643357, 0.35732622115958806, 0.360874875170941, 0.34203085618106144, 0.32630908748697623, 0.3391208325798024, 0.34635177012400864, 0.34923389733242116, 0.3431400430640066, 0.3756501929268156, 0.4203777313374231, 0.37855361059160875, 0.4015623511726797, 0.41733001498987204, 0.40821178417984333, 0.4172878514127946, 0.3777091387841533, 0.3662973700303286, 0.3704518645514463, 0.3549539271142101, 0.3674469371203245, 0.3857633993571465, 0.38118801820830156, 0.36633787087983827, 0.3537701897813536, 0.34906689817484626, 0.35834714837101783, 0.355542480495322, 0.3531129714786139, 0.35288945738768634, 0.34347390482229484, 0.33375749635267166, 0.3259933932778011, 0.33238842531342294, 0.3436389442582378, 0.35562127421457884, 0.35148488735522393, 0.3536079797527146, 0.343203224300939, 0.3362403147189534, 0.334604977473075, 0.33581595527738833, 0.33809008137401136, 0.3468807191907102, 0.35195016147561453, 0.35428187660356586, 0.37252654209470554, 0.3970778995561816, 0.38859547925150606], \"yaxis\": \"y\"}, {\"name\": \"fprice\", \"type\": \"scatter\", \"x\": [20200128, 20200129, 20200130, 20200131, 20200203, 20200204, 20200205, 20200206, 20200207, 20200210, 20200211, 20200212, 20200213, 20200214, 20200218, 20200219, 20200219, 20200220, 20200221, 20200224, 20200225, 20200226, 20200227, 20200228, 20200302, 20200303, 20200304, 20200305, 20200306, 20200309, 20200310, 20200311, 20200312, 20200313, 20200316, 20200317, 20200317, 20200318, 20200319, 20200320, 20200323, 20200324, 20200325, 20200326, 20200327, 20200330, 20200331, 20200401, 20200402, 20200403, 20200406, 20200407, 20200408, 20200409, 20200413, 20200414, 20200415, 20200416, 20200417, 20200420, 20200421, 20200422, 20200423, 20200424, 20200427, 20200428, 20200429, 20200430, 20200501, 20200504, 20200505, 20200506, 20200507, 20200508, 20200511, 20200512, 20200513, 20200514, 20200515, 20200518, 20200519, 20200520, 20200521, 20200522, 20200526, 20200527, 20200528, 20200529, 20200601, 20200602, 20200603, 20200604, 20200605, 20200608, 20200609, 20200610, 20200611, 20200612, 20200615], \"y\": [51.83, 51.86, 51.17, 50.98, 50.18, 49.97, 50.99, 51.55, 51.28, 50.8, 51.14, 52.01, 52.16, 52.57, 52.69, 53.5, 53.5, 53.48, 52.89, 51.59, 49.98, 49.03, 47.9, 45.73, 47.4, 47.65, 47.49, 46.72, 43.24, 34.86, 37.56, 36.73, 35.8, 35.58, 32.95, 32.25, 32.25, 27.46, 31.33, 29.52, 30.88, 31.62, 32.83, 32.26, 32.85, 32.9, 32.91, 31.4, 32.54, 33.9, 34.08, 34.3, 34.62, 34.35, 35.94, 35.71, 33.41, 33.07, 33.3, 31.66, 25.86, 28.07, 27.85, 27.67, 26.47, 26.48, 27.01, 28.72, 27.74, 28.19, 30.95, 29.78, 29.45, 31.27, 29.87, 29.97, 29.37, 30.57, 31.56, 33.66, 33.77, 34.94, 35.42, 34.84, 35.88, 34.42, 35.15, 36.67, 36.65, 37.71, 38.24, 38.44, 40.28, 38.94, 39.67, 40.21, 37.2, 37.21, 38.19], \"yaxis\": \"y2\"}],\n",
       "                        {\"autosize\": true, \"hovermode\": \"x\", \"legend\": {\"orientation\": \"h\", \"x\": 0, \"y\": 1.1}, \"margin\": {\"b\": 100}, \"modebar\": {\"bgcolor\": \"grey\", \"orientation\": \"v\"}, \"spikedistance\": 1000, \"template\": {\"data\": {\"bar\": [{\"error_x\": {\"color\": \"#2a3f5f\"}, \"error_y\": {\"color\": \"#2a3f5f\"}, \"marker\": {\"line\": {\"color\": \"#E5ECF6\", \"width\": 0.5}}, \"type\": \"bar\"}], \"barpolar\": [{\"marker\": {\"line\": {\"color\": \"#E5ECF6\", \"width\": 0.5}}, \"type\": \"barpolar\"}], \"carpet\": [{\"aaxis\": {\"endlinecolor\": \"#2a3f5f\", \"gridcolor\": \"white\", \"linecolor\": \"white\", \"minorgridcolor\": \"white\", \"startlinecolor\": \"#2a3f5f\"}, \"baxis\": {\"endlinecolor\": \"#2a3f5f\", \"gridcolor\": \"white\", \"linecolor\": \"white\", \"minorgridcolor\": \"white\", \"startlinecolor\": \"#2a3f5f\"}, \"type\": \"carpet\"}], \"choropleth\": [{\"colorbar\": {\"outlinewidth\": 0, \"ticks\": \"\"}, \"type\": \"choropleth\"}], \"contour\": [{\"colorbar\": {\"outlinewidth\": 0, \"ticks\": \"\"}, \"colorscale\": [[0.0, \"#0d0887\"], [0.1111111111111111, \"#46039f\"], [0.2222222222222222, \"#7201a8\"], [0.3333333333333333, \"#9c179e\"], [0.4444444444444444, \"#bd3786\"], [0.5555555555555556, \"#d8576b\"], [0.6666666666666666, \"#ed7953\"], [0.7777777777777778, \"#fb9f3a\"], [0.8888888888888888, \"#fdca26\"], [1.0, \"#f0f921\"]], \"type\": \"contour\"}], \"contourcarpet\": [{\"colorbar\": {\"outlinewidth\": 0, \"ticks\": \"\"}, \"type\": \"contourcarpet\"}], \"heatmap\": [{\"colorbar\": {\"outlinewidth\": 0, \"ticks\": \"\"}, \"colorscale\": [[0.0, \"#0d0887\"], [0.1111111111111111, \"#46039f\"], [0.2222222222222222, \"#7201a8\"], [0.3333333333333333, \"#9c179e\"], [0.4444444444444444, \"#bd3786\"], [0.5555555555555556, \"#d8576b\"], [0.6666666666666666, \"#ed7953\"], [0.7777777777777778, \"#fb9f3a\"], [0.8888888888888888, \"#fdca26\"], [1.0, \"#f0f921\"]], \"type\": \"heatmap\"}], \"heatmapgl\": [{\"colorbar\": {\"outlinewidth\": 0, \"ticks\": \"\"}, \"colorscale\": [[0.0, \"#0d0887\"], [0.1111111111111111, \"#46039f\"], [0.2222222222222222, \"#7201a8\"], [0.3333333333333333, \"#9c179e\"], [0.4444444444444444, \"#bd3786\"], [0.5555555555555556, \"#d8576b\"], [0.6666666666666666, \"#ed7953\"], [0.7777777777777778, \"#fb9f3a\"], [0.8888888888888888, \"#fdca26\"], [1.0, \"#f0f921\"]], \"type\": \"heatmapgl\"}], \"histogram\": [{\"marker\": {\"colorbar\": {\"outlinewidth\": 0, \"ticks\": \"\"}}, \"type\": \"histogram\"}], \"histogram2d\": [{\"colorbar\": {\"outlinewidth\": 0, \"ticks\": \"\"}, \"colorscale\": [[0.0, \"#0d0887\"], [0.1111111111111111, \"#46039f\"], [0.2222222222222222, \"#7201a8\"], [0.3333333333333333, \"#9c179e\"], [0.4444444444444444, \"#bd3786\"], [0.5555555555555556, \"#d8576b\"], [0.6666666666666666, \"#ed7953\"], [0.7777777777777778, \"#fb9f3a\"], [0.8888888888888888, \"#fdca26\"], [1.0, \"#f0f921\"]], \"type\": \"histogram2d\"}], \"histogram2dcontour\": [{\"colorbar\": {\"outlinewidth\": 0, \"ticks\": \"\"}, \"colorscale\": [[0.0, \"#0d0887\"], [0.1111111111111111, \"#46039f\"], [0.2222222222222222, \"#7201a8\"], [0.3333333333333333, \"#9c179e\"], [0.4444444444444444, \"#bd3786\"], [0.5555555555555556, \"#d8576b\"], [0.6666666666666666, \"#ed7953\"], [0.7777777777777778, \"#fb9f3a\"], [0.8888888888888888, \"#fdca26\"], [1.0, \"#f0f921\"]], \"type\": \"histogram2dcontour\"}], \"mesh3d\": [{\"colorbar\": {\"outlinewidth\": 0, \"ticks\": \"\"}, \"type\": \"mesh3d\"}], \"parcoords\": [{\"line\": {\"colorbar\": {\"outlinewidth\": 0, \"ticks\": \"\"}}, \"type\": \"parcoords\"}], \"pie\": [{\"automargin\": true, \"type\": \"pie\"}], \"scatter\": [{\"marker\": {\"colorbar\": {\"outlinewidth\": 0, \"ticks\": \"\"}}, \"type\": \"scatter\"}], \"scatter3d\": [{\"line\": {\"colorbar\": {\"outlinewidth\": 0, \"ticks\": \"\"}}, \"marker\": {\"colorbar\": {\"outlinewidth\": 0, \"ticks\": \"\"}}, \"type\": \"scatter3d\"}], \"scattercarpet\": [{\"marker\": {\"colorbar\": {\"outlinewidth\": 0, \"ticks\": \"\"}}, \"type\": \"scattercarpet\"}], \"scattergeo\": [{\"marker\": {\"colorbar\": {\"outlinewidth\": 0, \"ticks\": \"\"}}, \"type\": \"scattergeo\"}], \"scattergl\": [{\"marker\": {\"colorbar\": {\"outlinewidth\": 0, \"ticks\": \"\"}}, \"type\": \"scattergl\"}], \"scattermapbox\": [{\"marker\": {\"colorbar\": {\"outlinewidth\": 0, \"ticks\": \"\"}}, \"type\": \"scattermapbox\"}], \"scatterpolar\": [{\"marker\": {\"colorbar\": {\"outlinewidth\": 0, \"ticks\": \"\"}}, \"type\": \"scatterpolar\"}], \"scatterpolargl\": [{\"marker\": {\"colorbar\": {\"outlinewidth\": 0, \"ticks\": \"\"}}, \"type\": \"scatterpolargl\"}], \"scatterternary\": [{\"marker\": {\"colorbar\": {\"outlinewidth\": 0, \"ticks\": \"\"}}, \"type\": \"scatterternary\"}], \"surface\": [{\"colorbar\": {\"outlinewidth\": 0, \"ticks\": \"\"}, \"colorscale\": [[0.0, \"#0d0887\"], [0.1111111111111111, \"#46039f\"], [0.2222222222222222, \"#7201a8\"], [0.3333333333333333, \"#9c179e\"], [0.4444444444444444, \"#bd3786\"], [0.5555555555555556, \"#d8576b\"], [0.6666666666666666, \"#ed7953\"], [0.7777777777777778, \"#fb9f3a\"], [0.8888888888888888, \"#fdca26\"], [1.0, \"#f0f921\"]], \"type\": \"surface\"}], \"table\": [{\"cells\": {\"fill\": {\"color\": \"#EBF0F8\"}, \"line\": {\"color\": \"white\"}}, \"header\": {\"fill\": {\"color\": \"#C8D4E3\"}, \"line\": {\"color\": \"white\"}}, \"type\": \"table\"}]}, \"layout\": {\"annotationdefaults\": {\"arrowcolor\": \"#2a3f5f\", \"arrowhead\": 0, \"arrowwidth\": 1}, \"coloraxis\": {\"colorbar\": {\"outlinewidth\": 0, \"ticks\": \"\"}}, \"colorscale\": {\"diverging\": [[0, \"#8e0152\"], [0.1, \"#c51b7d\"], [0.2, \"#de77ae\"], [0.3, \"#f1b6da\"], [0.4, \"#fde0ef\"], [0.5, \"#f7f7f7\"], [0.6, \"#e6f5d0\"], [0.7, \"#b8e186\"], [0.8, \"#7fbc41\"], [0.9, \"#4d9221\"], [1, \"#276419\"]], \"sequential\": [[0.0, \"#0d0887\"], [0.1111111111111111, \"#46039f\"], [0.2222222222222222, \"#7201a8\"], [0.3333333333333333, \"#9c179e\"], [0.4444444444444444, \"#bd3786\"], [0.5555555555555556, \"#d8576b\"], [0.6666666666666666, \"#ed7953\"], [0.7777777777777778, \"#fb9f3a\"], [0.8888888888888888, \"#fdca26\"], [1.0, \"#f0f921\"]], \"sequentialminus\": [[0.0, \"#0d0887\"], [0.1111111111111111, \"#46039f\"], [0.2222222222222222, \"#7201a8\"], [0.3333333333333333, \"#9c179e\"], [0.4444444444444444, \"#bd3786\"], [0.5555555555555556, \"#d8576b\"], [0.6666666666666666, \"#ed7953\"], [0.7777777777777778, \"#fb9f3a\"], [0.8888888888888888, \"#fdca26\"], [1.0, \"#f0f921\"]]}, \"colorway\": [\"#636efa\", \"#EF553B\", \"#00cc96\", \"#ab63fa\", \"#FFA15A\", \"#19d3f3\", \"#FF6692\", \"#B6E880\", \"#FF97FF\", \"#FECB52\"], \"font\": {\"color\": \"#2a3f5f\"}, \"geo\": {\"bgcolor\": \"white\", \"lakecolor\": \"white\", \"landcolor\": \"#E5ECF6\", \"showlakes\": true, \"showland\": true, \"subunitcolor\": \"white\"}, \"hoverlabel\": {\"align\": \"left\"}, \"hovermode\": \"closest\", \"mapbox\": {\"style\": \"light\"}, \"paper_bgcolor\": \"white\", \"plot_bgcolor\": \"#E5ECF6\", \"polar\": {\"angularaxis\": {\"gridcolor\": \"white\", \"linecolor\": \"white\", \"ticks\": \"\"}, \"bgcolor\": \"#E5ECF6\", \"radialaxis\": {\"gridcolor\": \"white\", \"linecolor\": \"white\", \"ticks\": \"\"}}, \"scene\": {\"xaxis\": {\"backgroundcolor\": \"#E5ECF6\", \"gridcolor\": \"white\", \"gridwidth\": 2, \"linecolor\": \"white\", \"showbackground\": true, \"ticks\": \"\", \"zerolinecolor\": \"white\"}, \"yaxis\": {\"backgroundcolor\": \"#E5ECF6\", \"gridcolor\": \"white\", \"gridwidth\": 2, \"linecolor\": \"white\", \"showbackground\": true, \"ticks\": \"\", \"zerolinecolor\": \"white\"}, \"zaxis\": {\"backgroundcolor\": \"#E5ECF6\", \"gridcolor\": \"white\", \"gridwidth\": 2, \"linecolor\": \"white\", \"showbackground\": true, \"ticks\": \"\", \"zerolinecolor\": \"white\"}}, \"shapedefaults\": {\"line\": {\"color\": \"#2a3f5f\"}}, \"ternary\": {\"aaxis\": {\"gridcolor\": \"white\", \"linecolor\": \"white\", \"ticks\": \"\"}, \"baxis\": {\"gridcolor\": \"white\", \"linecolor\": \"white\", \"ticks\": \"\"}, \"bgcolor\": \"#E5ECF6\", \"caxis\": {\"gridcolor\": \"white\", \"linecolor\": \"white\", \"ticks\": \"\"}}, \"title\": {\"x\": 0.05}, \"xaxis\": {\"automargin\": true, \"gridcolor\": \"white\", \"linecolor\": \"white\", \"ticks\": \"\", \"title\": {\"standoff\": 15}, \"zerolinecolor\": \"white\", \"zerolinewidth\": 2}, \"yaxis\": {\"automargin\": true, \"gridcolor\": \"white\", \"linecolor\": \"white\", \"ticks\": \"\", \"title\": {\"standoff\": 15}, \"zerolinecolor\": \"white\", \"zerolinewidth\": 2}}}, \"title\": {\"text\": \"CLX20 Pseudo-Volatility vs Price\", \"x\": 0.5, \"xanchor\": \"center\", \"y\": 0.9, \"yanchor\": \"top\"}, \"xaxis\": {\"showspikes\": true, \"spikedash\": \"solid\", \"spikemode\": \"toaxis+across\", \"spikethickness\": 1, \"tickangle\": 45, \"ticktext\": [20200128, 20200203, 20200207, 20200213, 20200219, 20200225, 20200302, 20200306, 20200312, 20200317, 20200323, 20200327, 20200402, 20200408, 20200415, 20200421, 20200427, 20200501, 20200507, 20200513, 20200519, 20200526, 20200601, 20200605, 20200611], \"tickvals\": [20200128, 20200203, 20200207, 20200213, 20200219, 20200225, 20200302, 20200306, 20200312, 20200317, 20200323, 20200327, 20200402, 20200408, 20200415, 20200421, 20200427, 20200501, 20200507, 20200513, 20200519, 20200526, 20200601, 20200605, 20200611], \"type\": \"category\"}, \"yaxis\": {\"showspikes\": true, \"spikedash\": \"solid\", \"spikemode\": \"toaxis+across\", \"spikethickness\": 1, \"title\": {\"text\": \"Implied Volatility\"}}, \"yaxis2\": {\"overlaying\": \"y\", \"side\": \"right\", \"title\": {\"text\": \"Futures Close\"}}},\n",
       "                        {\"responsive\": true}\n",
       "                    ).then(function(){\n",
       "                            \n",
       "var gd = document.getElementById('a799fc06-bb4d-4696-ba83-c8d815958c79');\n",
       "var x = new MutationObserver(function (mutations, observer) {{\n",
       "        var display = window.getComputedStyle(gd).display;\n",
       "        if (!display || display === 'none') {{\n",
       "            console.log([gd, 'removed!']);\n",
       "            Plotly.purge(gd);\n",
       "            observer.disconnect();\n",
       "        }}\n",
       "}});\n",
       "\n",
       "// Listen for the removal of the full notebook cells\n",
       "var notebookContainer = gd.closest('#notebook-container');\n",
       "if (notebookContainer) {{\n",
       "    x.observe(notebookContainer, {childList: true});\n",
       "}}\n",
       "\n",
       "// Listen for the clearing of the current output cell\n",
       "var outputEl = gd.closest('.output');\n",
       "if (outputEl) {{\n",
       "    x.observe(outputEl, {childList: true});\n",
       "}}\n",
       "\n",
       "                        })\n",
       "                };\n",
       "                });\n",
       "            </script>\n",
       "        </div>"
      ]
     },
     "metadata": {},
     "output_type": "display_data"
    },
    {
     "data": {
      "application/vnd.plotly.v1+json": {
       "config": {
        "linkText": "Export to plot.ly",
        "plotlyServerURL": "https://plot.ly",
        "showLink": false
       },
       "data": [
        {
         "name": "iv",
         "type": "scatter",
         "x": [
          20200129,
          20200130,
          20200131,
          20200203,
          20200204,
          20200205,
          20200206,
          20200207,
          20200210,
          20200211,
          20200212,
          20200213,
          20200214,
          20200218,
          20200219,
          20200220,
          20200221,
          20200221,
          20200224,
          20200225,
          20200226,
          20200227,
          20200227,
          20200228,
          20200302,
          20200303,
          20200304,
          20200305,
          20200306,
          20200309,
          20200310,
          20200311,
          20200312,
          20200313,
          20200316,
          20200317,
          20200318,
          20200319,
          20200320,
          20200323,
          20200323,
          20200324,
          20200325,
          20200326,
          20200327,
          20200330,
          20200331,
          20200401,
          20200402,
          20200403,
          20200406,
          20200407,
          20200408,
          20200409,
          20200413,
          20200414,
          20200415,
          20200416,
          20200417,
          20200420,
          20200421,
          20200422,
          20200423,
          20200424,
          20200427,
          20200428,
          20200429,
          20200430,
          20200501,
          20200504,
          20200505,
          20200506,
          20200507,
          20200508,
          20200511,
          20200512,
          20200513,
          20200514,
          20200515,
          20200518,
          20200519,
          20200520,
          20200521,
          20200522,
          20200526,
          20200527,
          20200528,
          20200529,
          20200601,
          20200602,
          20200603,
          20200604,
          20200605,
          20200608,
          20200609,
          20200610,
          20200611,
          20200612,
          20200615
         ],
         "y": [
          0.2850396230942234,
          0.2912187190093281,
          0.29852666998911975,
          0.29574732213264376,
          0.2875978606481905,
          0.2838883003658799,
          0.28232752464917343,
          0.2858263652315329,
          0.2901940616515923,
          0.28550946173816116,
          0.2858398894046119,
          0.28582429187461084,
          0.2859899699334377,
          0.28511027915882076,
          0.28376266296080016,
          0.28828473427023743,
          0.29328321591258016,
          0.2918127284503538,
          0.29115358878147135,
          0.2938030949944669,
          0.2855976072410379,
          0.2847742942069758,
          0.2847742942069758,
          0.2779928206230234,
          0.2956619090134551,
          0.29829050654338374,
          0.3019109477378595,
          0.30198085451476236,
          0.30328664840979747,
          0.33586817097651017,
          0.32789991035791843,
          0.3232890877263812,
          0.34712346176282144,
          0.34966522807151834,
          0.357135944082504,
          0.37420128283354526,
          0.4006095610817907,
          0.3898239858030018,
          0.418746195356856,
          0.40542447131716586,
          0.40542447131716586,
          0.3875200997794831,
          0.353553169699481,
          0.35432903799164844,
          0.3640459055612955,
          0.3703397835870135,
          0.3653096880891371,
          0.3578559844613419,
          0.37811024856409287,
          0.38155163064504066,
          0.35743350830124654,
          0.3360558856599544,
          0.33902546197821304,
          0.33338495787941624,
          0.3141119574847466,
          0.32698832712209863,
          0.3311085696827622,
          0.3362023904963363,
          0.33008050748215395,
          0.3612969287974506,
          0.387216075768705,
          0.3629336196293582,
          0.3881547337593896,
          0.3935012067692908,
          0.3959620355459226,
          0.3931498547336496,
          0.3644333213582208,
          0.35728001514634383,
          0.35702508193191823,
          0.34606795265434953,
          0.35935429745343994,
          0.375754603298224,
          0.36844453232074226,
          0.3610149425254167,
          0.34266009499237016,
          0.33901860940081946,
          0.34903669393620956,
          0.3468851533441553,
          0.3446377205694104,
          0.3446921167273536,
          0.33649623499283743,
          0.3303017599676679,
          0.3220356900170104,
          0.32724260073281236,
          0.337971517331818,
          0.34273840723550186,
          0.34073659208309204,
          0.34180547172862985,
          0.33272334375851825,
          0.3273597876871478,
          0.3273074551337932,
          0.329742983056327,
          0.3321984710718886,
          0.3396244699285038,
          0.3434719730810928,
          0.3464867099697728,
          0.3613361464478652,
          0.38266062944038465,
          0.37890346134811614
         ],
         "yaxis": "y"
        },
        {
         "name": "fprice",
         "type": "scatter",
         "x": [
          20200129,
          20200130,
          20200131,
          20200203,
          20200204,
          20200205,
          20200206,
          20200207,
          20200210,
          20200211,
          20200212,
          20200213,
          20200214,
          20200218,
          20200219,
          20200220,
          20200221,
          20200221,
          20200224,
          20200225,
          20200226,
          20200227,
          20200227,
          20200228,
          20200302,
          20200303,
          20200304,
          20200305,
          20200306,
          20200309,
          20200310,
          20200311,
          20200312,
          20200313,
          20200316,
          20200317,
          20200318,
          20200319,
          20200320,
          20200323,
          20200323,
          20200324,
          20200325,
          20200326,
          20200327,
          20200330,
          20200331,
          20200401,
          20200402,
          20200403,
          20200406,
          20200407,
          20200408,
          20200409,
          20200413,
          20200414,
          20200415,
          20200416,
          20200417,
          20200420,
          20200421,
          20200422,
          20200423,
          20200424,
          20200427,
          20200428,
          20200429,
          20200430,
          20200501,
          20200504,
          20200505,
          20200506,
          20200507,
          20200508,
          20200511,
          20200512,
          20200513,
          20200514,
          20200515,
          20200518,
          20200519,
          20200520,
          20200521,
          20200522,
          20200526,
          20200527,
          20200528,
          20200529,
          20200601,
          20200602,
          20200603,
          20200604,
          20200605,
          20200608,
          20200609,
          20200610,
          20200611,
          20200612,
          20200615
         ],
         "y": [
          51.61,
          50.98,
          50.8,
          50.08,
          49.9,
          50.86,
          51.44,
          51.22,
          50.8,
          51.11,
          51.94,
          52.07,
          52.45,
          52.58,
          53.36,
          53.32,
          52.75,
          52.75,
          51.56,
          49.96,
          49.06,
          48,
          48,
          45.89,
          47.49,
          47.72,
          47.59,
          46.84,
          43.56,
          35.47,
          38.08,
          37.32,
          36.47,
          36.17,
          33.59,
          32.93,
          28.27,
          31.92,
          30.16,
          31.5,
          31.5,
          32.21,
          33.43,
          32.79,
          33.45,
          33.58,
          33.58,
          32.14,
          33.05,
          34.16,
          34.36,
          34.67,
          34.94,
          34.72,
          36.29,
          36.16,
          33.87,
          33.56,
          33.82,
          32.41,
          26.86,
          28.98,
          28.66,
          28.47,
          27.46,
          27.47,
          27.95,
          29.62,
          28.59,
          29.08,
          31.65,
          30.47,
          30.12,
          31.94,
          30.57,
          30.6,
          30.06,
          31.11,
          32.01,
          34.07,
          34.17,
          35.23,
          35.7,
          35.18,
          36.21,
          34.81,
          35.49,
          36.92,
          36.9,
          37.91,
          38.44,
          38.68,
          40.42,
          39.1,
          39.82,
          40.33,
          37.4,
          37.42,
          38.43
         ],
         "yaxis": "y2"
        }
       ],
       "layout": {
        "autosize": true,
        "hovermode": "x",
        "legend": {
         "orientation": "h",
         "x": 0,
         "y": 1.1
        },
        "margin": {
         "b": 100
        },
        "modebar": {
         "bgcolor": "grey",
         "orientation": "v"
        },
        "spikedistance": 1000,
        "template": {
         "data": {
          "bar": [
           {
            "error_x": {
             "color": "#2a3f5f"
            },
            "error_y": {
             "color": "#2a3f5f"
            },
            "marker": {
             "line": {
              "color": "#E5ECF6",
              "width": 0.5
             }
            },
            "type": "bar"
           }
          ],
          "barpolar": [
           {
            "marker": {
             "line": {
              "color": "#E5ECF6",
              "width": 0.5
             }
            },
            "type": "barpolar"
           }
          ],
          "carpet": [
           {
            "aaxis": {
             "endlinecolor": "#2a3f5f",
             "gridcolor": "white",
             "linecolor": "white",
             "minorgridcolor": "white",
             "startlinecolor": "#2a3f5f"
            },
            "baxis": {
             "endlinecolor": "#2a3f5f",
             "gridcolor": "white",
             "linecolor": "white",
             "minorgridcolor": "white",
             "startlinecolor": "#2a3f5f"
            },
            "type": "carpet"
           }
          ],
          "choropleth": [
           {
            "colorbar": {
             "outlinewidth": 0,
             "ticks": ""
            },
            "type": "choropleth"
           }
          ],
          "contour": [
           {
            "colorbar": {
             "outlinewidth": 0,
             "ticks": ""
            },
            "colorscale": [
             [
              0,
              "#0d0887"
             ],
             [
              0.1111111111111111,
              "#46039f"
             ],
             [
              0.2222222222222222,
              "#7201a8"
             ],
             [
              0.3333333333333333,
              "#9c179e"
             ],
             [
              0.4444444444444444,
              "#bd3786"
             ],
             [
              0.5555555555555556,
              "#d8576b"
             ],
             [
              0.6666666666666666,
              "#ed7953"
             ],
             [
              0.7777777777777778,
              "#fb9f3a"
             ],
             [
              0.8888888888888888,
              "#fdca26"
             ],
             [
              1,
              "#f0f921"
             ]
            ],
            "type": "contour"
           }
          ],
          "contourcarpet": [
           {
            "colorbar": {
             "outlinewidth": 0,
             "ticks": ""
            },
            "type": "contourcarpet"
           }
          ],
          "heatmap": [
           {
            "colorbar": {
             "outlinewidth": 0,
             "ticks": ""
            },
            "colorscale": [
             [
              0,
              "#0d0887"
             ],
             [
              0.1111111111111111,
              "#46039f"
             ],
             [
              0.2222222222222222,
              "#7201a8"
             ],
             [
              0.3333333333333333,
              "#9c179e"
             ],
             [
              0.4444444444444444,
              "#bd3786"
             ],
             [
              0.5555555555555556,
              "#d8576b"
             ],
             [
              0.6666666666666666,
              "#ed7953"
             ],
             [
              0.7777777777777778,
              "#fb9f3a"
             ],
             [
              0.8888888888888888,
              "#fdca26"
             ],
             [
              1,
              "#f0f921"
             ]
            ],
            "type": "heatmap"
           }
          ],
          "heatmapgl": [
           {
            "colorbar": {
             "outlinewidth": 0,
             "ticks": ""
            },
            "colorscale": [
             [
              0,
              "#0d0887"
             ],
             [
              0.1111111111111111,
              "#46039f"
             ],
             [
              0.2222222222222222,
              "#7201a8"
             ],
             [
              0.3333333333333333,
              "#9c179e"
             ],
             [
              0.4444444444444444,
              "#bd3786"
             ],
             [
              0.5555555555555556,
              "#d8576b"
             ],
             [
              0.6666666666666666,
              "#ed7953"
             ],
             [
              0.7777777777777778,
              "#fb9f3a"
             ],
             [
              0.8888888888888888,
              "#fdca26"
             ],
             [
              1,
              "#f0f921"
             ]
            ],
            "type": "heatmapgl"
           }
          ],
          "histogram": [
           {
            "marker": {
             "colorbar": {
              "outlinewidth": 0,
              "ticks": ""
             }
            },
            "type": "histogram"
           }
          ],
          "histogram2d": [
           {
            "colorbar": {
             "outlinewidth": 0,
             "ticks": ""
            },
            "colorscale": [
             [
              0,
              "#0d0887"
             ],
             [
              0.1111111111111111,
              "#46039f"
             ],
             [
              0.2222222222222222,
              "#7201a8"
             ],
             [
              0.3333333333333333,
              "#9c179e"
             ],
             [
              0.4444444444444444,
              "#bd3786"
             ],
             [
              0.5555555555555556,
              "#d8576b"
             ],
             [
              0.6666666666666666,
              "#ed7953"
             ],
             [
              0.7777777777777778,
              "#fb9f3a"
             ],
             [
              0.8888888888888888,
              "#fdca26"
             ],
             [
              1,
              "#f0f921"
             ]
            ],
            "type": "histogram2d"
           }
          ],
          "histogram2dcontour": [
           {
            "colorbar": {
             "outlinewidth": 0,
             "ticks": ""
            },
            "colorscale": [
             [
              0,
              "#0d0887"
             ],
             [
              0.1111111111111111,
              "#46039f"
             ],
             [
              0.2222222222222222,
              "#7201a8"
             ],
             [
              0.3333333333333333,
              "#9c179e"
             ],
             [
              0.4444444444444444,
              "#bd3786"
             ],
             [
              0.5555555555555556,
              "#d8576b"
             ],
             [
              0.6666666666666666,
              "#ed7953"
             ],
             [
              0.7777777777777778,
              "#fb9f3a"
             ],
             [
              0.8888888888888888,
              "#fdca26"
             ],
             [
              1,
              "#f0f921"
             ]
            ],
            "type": "histogram2dcontour"
           }
          ],
          "mesh3d": [
           {
            "colorbar": {
             "outlinewidth": 0,
             "ticks": ""
            },
            "type": "mesh3d"
           }
          ],
          "parcoords": [
           {
            "line": {
             "colorbar": {
              "outlinewidth": 0,
              "ticks": ""
             }
            },
            "type": "parcoords"
           }
          ],
          "pie": [
           {
            "automargin": true,
            "type": "pie"
           }
          ],
          "scatter": [
           {
            "marker": {
             "colorbar": {
              "outlinewidth": 0,
              "ticks": ""
             }
            },
            "type": "scatter"
           }
          ],
          "scatter3d": [
           {
            "line": {
             "colorbar": {
              "outlinewidth": 0,
              "ticks": ""
             }
            },
            "marker": {
             "colorbar": {
              "outlinewidth": 0,
              "ticks": ""
             }
            },
            "type": "scatter3d"
           }
          ],
          "scattercarpet": [
           {
            "marker": {
             "colorbar": {
              "outlinewidth": 0,
              "ticks": ""
             }
            },
            "type": "scattercarpet"
           }
          ],
          "scattergeo": [
           {
            "marker": {
             "colorbar": {
              "outlinewidth": 0,
              "ticks": ""
             }
            },
            "type": "scattergeo"
           }
          ],
          "scattergl": [
           {
            "marker": {
             "colorbar": {
              "outlinewidth": 0,
              "ticks": ""
             }
            },
            "type": "scattergl"
           }
          ],
          "scattermapbox": [
           {
            "marker": {
             "colorbar": {
              "outlinewidth": 0,
              "ticks": ""
             }
            },
            "type": "scattermapbox"
           }
          ],
          "scatterpolar": [
           {
            "marker": {
             "colorbar": {
              "outlinewidth": 0,
              "ticks": ""
             }
            },
            "type": "scatterpolar"
           }
          ],
          "scatterpolargl": [
           {
            "marker": {
             "colorbar": {
              "outlinewidth": 0,
              "ticks": ""
             }
            },
            "type": "scatterpolargl"
           }
          ],
          "scatterternary": [
           {
            "marker": {
             "colorbar": {
              "outlinewidth": 0,
              "ticks": ""
             }
            },
            "type": "scatterternary"
           }
          ],
          "surface": [
           {
            "colorbar": {
             "outlinewidth": 0,
             "ticks": ""
            },
            "colorscale": [
             [
              0,
              "#0d0887"
             ],
             [
              0.1111111111111111,
              "#46039f"
             ],
             [
              0.2222222222222222,
              "#7201a8"
             ],
             [
              0.3333333333333333,
              "#9c179e"
             ],
             [
              0.4444444444444444,
              "#bd3786"
             ],
             [
              0.5555555555555556,
              "#d8576b"
             ],
             [
              0.6666666666666666,
              "#ed7953"
             ],
             [
              0.7777777777777778,
              "#fb9f3a"
             ],
             [
              0.8888888888888888,
              "#fdca26"
             ],
             [
              1,
              "#f0f921"
             ]
            ],
            "type": "surface"
           }
          ],
          "table": [
           {
            "cells": {
             "fill": {
              "color": "#EBF0F8"
             },
             "line": {
              "color": "white"
             }
            },
            "header": {
             "fill": {
              "color": "#C8D4E3"
             },
             "line": {
              "color": "white"
             }
            },
            "type": "table"
           }
          ]
         },
         "layout": {
          "annotationdefaults": {
           "arrowcolor": "#2a3f5f",
           "arrowhead": 0,
           "arrowwidth": 1
          },
          "coloraxis": {
           "colorbar": {
            "outlinewidth": 0,
            "ticks": ""
           }
          },
          "colorscale": {
           "diverging": [
            [
             0,
             "#8e0152"
            ],
            [
             0.1,
             "#c51b7d"
            ],
            [
             0.2,
             "#de77ae"
            ],
            [
             0.3,
             "#f1b6da"
            ],
            [
             0.4,
             "#fde0ef"
            ],
            [
             0.5,
             "#f7f7f7"
            ],
            [
             0.6,
             "#e6f5d0"
            ],
            [
             0.7,
             "#b8e186"
            ],
            [
             0.8,
             "#7fbc41"
            ],
            [
             0.9,
             "#4d9221"
            ],
            [
             1,
             "#276419"
            ]
           ],
           "sequential": [
            [
             0,
             "#0d0887"
            ],
            [
             0.1111111111111111,
             "#46039f"
            ],
            [
             0.2222222222222222,
             "#7201a8"
            ],
            [
             0.3333333333333333,
             "#9c179e"
            ],
            [
             0.4444444444444444,
             "#bd3786"
            ],
            [
             0.5555555555555556,
             "#d8576b"
            ],
            [
             0.6666666666666666,
             "#ed7953"
            ],
            [
             0.7777777777777778,
             "#fb9f3a"
            ],
            [
             0.8888888888888888,
             "#fdca26"
            ],
            [
             1,
             "#f0f921"
            ]
           ],
           "sequentialminus": [
            [
             0,
             "#0d0887"
            ],
            [
             0.1111111111111111,
             "#46039f"
            ],
            [
             0.2222222222222222,
             "#7201a8"
            ],
            [
             0.3333333333333333,
             "#9c179e"
            ],
            [
             0.4444444444444444,
             "#bd3786"
            ],
            [
             0.5555555555555556,
             "#d8576b"
            ],
            [
             0.6666666666666666,
             "#ed7953"
            ],
            [
             0.7777777777777778,
             "#fb9f3a"
            ],
            [
             0.8888888888888888,
             "#fdca26"
            ],
            [
             1,
             "#f0f921"
            ]
           ]
          },
          "colorway": [
           "#636efa",
           "#EF553B",
           "#00cc96",
           "#ab63fa",
           "#FFA15A",
           "#19d3f3",
           "#FF6692",
           "#B6E880",
           "#FF97FF",
           "#FECB52"
          ],
          "font": {
           "color": "#2a3f5f"
          },
          "geo": {
           "bgcolor": "white",
           "lakecolor": "white",
           "landcolor": "#E5ECF6",
           "showlakes": true,
           "showland": true,
           "subunitcolor": "white"
          },
          "hoverlabel": {
           "align": "left"
          },
          "hovermode": "closest",
          "mapbox": {
           "style": "light"
          },
          "paper_bgcolor": "white",
          "plot_bgcolor": "#E5ECF6",
          "polar": {
           "angularaxis": {
            "gridcolor": "white",
            "linecolor": "white",
            "ticks": ""
           },
           "bgcolor": "#E5ECF6",
           "radialaxis": {
            "gridcolor": "white",
            "linecolor": "white",
            "ticks": ""
           }
          },
          "scene": {
           "xaxis": {
            "backgroundcolor": "#E5ECF6",
            "gridcolor": "white",
            "gridwidth": 2,
            "linecolor": "white",
            "showbackground": true,
            "ticks": "",
            "zerolinecolor": "white"
           },
           "yaxis": {
            "backgroundcolor": "#E5ECF6",
            "gridcolor": "white",
            "gridwidth": 2,
            "linecolor": "white",
            "showbackground": true,
            "ticks": "",
            "zerolinecolor": "white"
           },
           "zaxis": {
            "backgroundcolor": "#E5ECF6",
            "gridcolor": "white",
            "gridwidth": 2,
            "linecolor": "white",
            "showbackground": true,
            "ticks": "",
            "zerolinecolor": "white"
           }
          },
          "shapedefaults": {
           "line": {
            "color": "#2a3f5f"
           }
          },
          "ternary": {
           "aaxis": {
            "gridcolor": "white",
            "linecolor": "white",
            "ticks": ""
           },
           "baxis": {
            "gridcolor": "white",
            "linecolor": "white",
            "ticks": ""
           },
           "bgcolor": "#E5ECF6",
           "caxis": {
            "gridcolor": "white",
            "linecolor": "white",
            "ticks": ""
           }
          },
          "title": {
           "x": 0.05
          },
          "xaxis": {
           "automargin": true,
           "gridcolor": "white",
           "linecolor": "white",
           "ticks": "",
           "title": {
            "standoff": 15
           },
           "zerolinecolor": "white",
           "zerolinewidth": 2
          },
          "yaxis": {
           "automargin": true,
           "gridcolor": "white",
           "linecolor": "white",
           "ticks": "",
           "title": {
            "standoff": 15
           },
           "zerolinecolor": "white",
           "zerolinewidth": 2
          }
         }
        },
        "title": {
         "text": "CLZ20 Pseudo-Volatility vs Price",
         "x": 0.5,
         "xanchor": "center",
         "y": 0.9,
         "yanchor": "top"
        },
        "xaxis": {
         "showspikes": true,
         "spikedash": "solid",
         "spikemode": "toaxis+across",
         "spikethickness": 1,
         "tickangle": 45,
         "ticktext": [
          20200129,
          20200204,
          20200210,
          20200214,
          20200221,
          20200226,
          20200302,
          20200306,
          20200312,
          20200318,
          20200323,
          20200327,
          20200402,
          20200408,
          20200415,
          20200421,
          20200427,
          20200501,
          20200507,
          20200513,
          20200519,
          20200526,
          20200601,
          20200605,
          20200611
         ],
         "tickvals": [
          20200129,
          20200204,
          20200210,
          20200214,
          20200221,
          20200226,
          20200302,
          20200306,
          20200312,
          20200318,
          20200323,
          20200327,
          20200402,
          20200408,
          20200415,
          20200421,
          20200427,
          20200501,
          20200507,
          20200513,
          20200519,
          20200526,
          20200601,
          20200605,
          20200611
         ],
         "type": "category"
        },
        "yaxis": {
         "showspikes": true,
         "spikedash": "solid",
         "spikemode": "toaxis+across",
         "spikethickness": 1,
         "title": {
          "text": "Implied Volatility"
         }
        },
        "yaxis2": {
         "overlaying": "y",
         "side": "right",
         "title": {
          "text": "Futures Close"
         }
        }
       }
      },
      "text/html": [
       "<div>\n",
       "        \n",
       "        \n",
       "            <div id=\"d342ec3b-d15b-4331-9520-fa8a83dc9a07\" class=\"plotly-graph-div\" style=\"height:525px; width:100%;\"></div>\n",
       "            <script type=\"text/javascript\">\n",
       "                require([\"plotly\"], function(Plotly) {\n",
       "                    window.PLOTLYENV=window.PLOTLYENV || {};\n",
       "                    \n",
       "                if (document.getElementById(\"d342ec3b-d15b-4331-9520-fa8a83dc9a07\")) {\n",
       "                    Plotly.newPlot(\n",
       "                        'd342ec3b-d15b-4331-9520-fa8a83dc9a07',\n",
       "                        [{\"name\": \"iv\", \"type\": \"scatter\", \"x\": [20200129, 20200130, 20200131, 20200203, 20200204, 20200205, 20200206, 20200207, 20200210, 20200211, 20200212, 20200213, 20200214, 20200218, 20200219, 20200220, 20200221, 20200221, 20200224, 20200225, 20200226, 20200227, 20200227, 20200228, 20200302, 20200303, 20200304, 20200305, 20200306, 20200309, 20200310, 20200311, 20200312, 20200313, 20200316, 20200317, 20200318, 20200319, 20200320, 20200323, 20200323, 20200324, 20200325, 20200326, 20200327, 20200330, 20200331, 20200401, 20200402, 20200403, 20200406, 20200407, 20200408, 20200409, 20200413, 20200414, 20200415, 20200416, 20200417, 20200420, 20200421, 20200422, 20200423, 20200424, 20200427, 20200428, 20200429, 20200430, 20200501, 20200504, 20200505, 20200506, 20200507, 20200508, 20200511, 20200512, 20200513, 20200514, 20200515, 20200518, 20200519, 20200520, 20200521, 20200522, 20200526, 20200527, 20200528, 20200529, 20200601, 20200602, 20200603, 20200604, 20200605, 20200608, 20200609, 20200610, 20200611, 20200612, 20200615], \"y\": [0.2850396230942234, 0.2912187190093281, 0.29852666998911975, 0.29574732213264376, 0.2875978606481905, 0.2838883003658799, 0.28232752464917343, 0.2858263652315329, 0.2901940616515923, 0.28550946173816116, 0.2858398894046119, 0.28582429187461084, 0.2859899699334377, 0.28511027915882076, 0.28376266296080016, 0.28828473427023743, 0.29328321591258016, 0.2918127284503538, 0.29115358878147135, 0.2938030949944669, 0.2855976072410379, 0.2847742942069758, 0.2847742942069758, 0.2779928206230234, 0.2956619090134551, 0.29829050654338374, 0.3019109477378595, 0.30198085451476236, 0.30328664840979747, 0.33586817097651017, 0.32789991035791843, 0.3232890877263812, 0.34712346176282144, 0.34966522807151834, 0.357135944082504, 0.37420128283354526, 0.4006095610817907, 0.3898239858030018, 0.418746195356856, 0.40542447131716586, 0.40542447131716586, 0.3875200997794831, 0.353553169699481, 0.35432903799164844, 0.3640459055612955, 0.3703397835870135, 0.3653096880891371, 0.3578559844613419, 0.37811024856409287, 0.38155163064504066, 0.35743350830124654, 0.3360558856599544, 0.33902546197821304, 0.33338495787941624, 0.3141119574847466, 0.32698832712209863, 0.3311085696827622, 0.3362023904963363, 0.33008050748215395, 0.3612969287974506, 0.387216075768705, 0.3629336196293582, 0.3881547337593896, 0.3935012067692908, 0.3959620355459226, 0.3931498547336496, 0.3644333213582208, 0.35728001514634383, 0.35702508193191823, 0.34606795265434953, 0.35935429745343994, 0.375754603298224, 0.36844453232074226, 0.3610149425254167, 0.34266009499237016, 0.33901860940081946, 0.34903669393620956, 0.3468851533441553, 0.3446377205694104, 0.3446921167273536, 0.33649623499283743, 0.3303017599676679, 0.3220356900170104, 0.32724260073281236, 0.337971517331818, 0.34273840723550186, 0.34073659208309204, 0.34180547172862985, 0.33272334375851825, 0.3273597876871478, 0.3273074551337932, 0.329742983056327, 0.3321984710718886, 0.3396244699285038, 0.3434719730810928, 0.3464867099697728, 0.3613361464478652, 0.38266062944038465, 0.37890346134811614], \"yaxis\": \"y\"}, {\"name\": \"fprice\", \"type\": \"scatter\", \"x\": [20200129, 20200130, 20200131, 20200203, 20200204, 20200205, 20200206, 20200207, 20200210, 20200211, 20200212, 20200213, 20200214, 20200218, 20200219, 20200220, 20200221, 20200221, 20200224, 20200225, 20200226, 20200227, 20200227, 20200228, 20200302, 20200303, 20200304, 20200305, 20200306, 20200309, 20200310, 20200311, 20200312, 20200313, 20200316, 20200317, 20200318, 20200319, 20200320, 20200323, 20200323, 20200324, 20200325, 20200326, 20200327, 20200330, 20200331, 20200401, 20200402, 20200403, 20200406, 20200407, 20200408, 20200409, 20200413, 20200414, 20200415, 20200416, 20200417, 20200420, 20200421, 20200422, 20200423, 20200424, 20200427, 20200428, 20200429, 20200430, 20200501, 20200504, 20200505, 20200506, 20200507, 20200508, 20200511, 20200512, 20200513, 20200514, 20200515, 20200518, 20200519, 20200520, 20200521, 20200522, 20200526, 20200527, 20200528, 20200529, 20200601, 20200602, 20200603, 20200604, 20200605, 20200608, 20200609, 20200610, 20200611, 20200612, 20200615], \"y\": [51.61, 50.98, 50.8, 50.08, 49.9, 50.86, 51.44, 51.22, 50.8, 51.11, 51.94, 52.07, 52.45, 52.58, 53.36, 53.32, 52.75, 52.75, 51.56, 49.96, 49.06, 48.0, 48.0, 45.89, 47.49, 47.72, 47.59, 46.84, 43.56, 35.47, 38.08, 37.32, 36.47, 36.17, 33.59, 32.93, 28.27, 31.92, 30.16, 31.5, 31.5, 32.21, 33.43, 32.79, 33.45, 33.58, 33.58, 32.14, 33.05, 34.16, 34.36, 34.67, 34.94, 34.72, 36.29, 36.16, 33.87, 33.56, 33.82, 32.41, 26.86, 28.98, 28.66, 28.47, 27.46, 27.47, 27.95, 29.62, 28.59, 29.08, 31.65, 30.47, 30.12, 31.94, 30.57, 30.6, 30.06, 31.11, 32.01, 34.07, 34.17, 35.23, 35.7, 35.18, 36.21, 34.81, 35.49, 36.92, 36.9, 37.91, 38.44, 38.68, 40.42, 39.1, 39.82, 40.33, 37.4, 37.42, 38.43], \"yaxis\": \"y2\"}],\n",
       "                        {\"autosize\": true, \"hovermode\": \"x\", \"legend\": {\"orientation\": \"h\", \"x\": 0, \"y\": 1.1}, \"margin\": {\"b\": 100}, \"modebar\": {\"bgcolor\": \"grey\", \"orientation\": \"v\"}, \"spikedistance\": 1000, \"template\": {\"data\": {\"bar\": [{\"error_x\": {\"color\": \"#2a3f5f\"}, \"error_y\": {\"color\": \"#2a3f5f\"}, \"marker\": {\"line\": {\"color\": \"#E5ECF6\", \"width\": 0.5}}, \"type\": \"bar\"}], \"barpolar\": [{\"marker\": {\"line\": {\"color\": \"#E5ECF6\", \"width\": 0.5}}, \"type\": \"barpolar\"}], \"carpet\": [{\"aaxis\": {\"endlinecolor\": \"#2a3f5f\", \"gridcolor\": \"white\", \"linecolor\": \"white\", \"minorgridcolor\": \"white\", \"startlinecolor\": \"#2a3f5f\"}, \"baxis\": {\"endlinecolor\": \"#2a3f5f\", \"gridcolor\": \"white\", \"linecolor\": \"white\", \"minorgridcolor\": \"white\", \"startlinecolor\": \"#2a3f5f\"}, \"type\": \"carpet\"}], \"choropleth\": [{\"colorbar\": {\"outlinewidth\": 0, \"ticks\": \"\"}, \"type\": \"choropleth\"}], \"contour\": [{\"colorbar\": {\"outlinewidth\": 0, \"ticks\": \"\"}, \"colorscale\": [[0.0, \"#0d0887\"], [0.1111111111111111, \"#46039f\"], [0.2222222222222222, \"#7201a8\"], [0.3333333333333333, \"#9c179e\"], [0.4444444444444444, \"#bd3786\"], [0.5555555555555556, \"#d8576b\"], [0.6666666666666666, \"#ed7953\"], [0.7777777777777778, \"#fb9f3a\"], [0.8888888888888888, \"#fdca26\"], [1.0, \"#f0f921\"]], \"type\": \"contour\"}], \"contourcarpet\": [{\"colorbar\": {\"outlinewidth\": 0, \"ticks\": \"\"}, \"type\": \"contourcarpet\"}], \"heatmap\": [{\"colorbar\": {\"outlinewidth\": 0, \"ticks\": \"\"}, \"colorscale\": [[0.0, \"#0d0887\"], [0.1111111111111111, \"#46039f\"], [0.2222222222222222, \"#7201a8\"], [0.3333333333333333, \"#9c179e\"], [0.4444444444444444, \"#bd3786\"], [0.5555555555555556, \"#d8576b\"], [0.6666666666666666, \"#ed7953\"], [0.7777777777777778, \"#fb9f3a\"], [0.8888888888888888, \"#fdca26\"], [1.0, \"#f0f921\"]], \"type\": \"heatmap\"}], \"heatmapgl\": [{\"colorbar\": {\"outlinewidth\": 0, \"ticks\": \"\"}, \"colorscale\": [[0.0, \"#0d0887\"], [0.1111111111111111, \"#46039f\"], [0.2222222222222222, \"#7201a8\"], [0.3333333333333333, \"#9c179e\"], [0.4444444444444444, \"#bd3786\"], [0.5555555555555556, \"#d8576b\"], [0.6666666666666666, \"#ed7953\"], [0.7777777777777778, \"#fb9f3a\"], [0.8888888888888888, \"#fdca26\"], [1.0, \"#f0f921\"]], \"type\": \"heatmapgl\"}], \"histogram\": [{\"marker\": {\"colorbar\": {\"outlinewidth\": 0, \"ticks\": \"\"}}, \"type\": \"histogram\"}], \"histogram2d\": [{\"colorbar\": {\"outlinewidth\": 0, \"ticks\": \"\"}, \"colorscale\": [[0.0, \"#0d0887\"], [0.1111111111111111, \"#46039f\"], [0.2222222222222222, \"#7201a8\"], [0.3333333333333333, \"#9c179e\"], [0.4444444444444444, \"#bd3786\"], [0.5555555555555556, \"#d8576b\"], [0.6666666666666666, \"#ed7953\"], [0.7777777777777778, \"#fb9f3a\"], [0.8888888888888888, \"#fdca26\"], [1.0, \"#f0f921\"]], \"type\": \"histogram2d\"}], \"histogram2dcontour\": [{\"colorbar\": {\"outlinewidth\": 0, \"ticks\": \"\"}, \"colorscale\": [[0.0, \"#0d0887\"], [0.1111111111111111, \"#46039f\"], [0.2222222222222222, \"#7201a8\"], [0.3333333333333333, \"#9c179e\"], [0.4444444444444444, \"#bd3786\"], [0.5555555555555556, \"#d8576b\"], [0.6666666666666666, \"#ed7953\"], [0.7777777777777778, \"#fb9f3a\"], [0.8888888888888888, \"#fdca26\"], [1.0, \"#f0f921\"]], \"type\": \"histogram2dcontour\"}], \"mesh3d\": [{\"colorbar\": {\"outlinewidth\": 0, \"ticks\": \"\"}, \"type\": \"mesh3d\"}], \"parcoords\": [{\"line\": {\"colorbar\": {\"outlinewidth\": 0, \"ticks\": \"\"}}, \"type\": \"parcoords\"}], \"pie\": [{\"automargin\": true, \"type\": \"pie\"}], \"scatter\": [{\"marker\": {\"colorbar\": {\"outlinewidth\": 0, \"ticks\": \"\"}}, \"type\": \"scatter\"}], \"scatter3d\": [{\"line\": {\"colorbar\": {\"outlinewidth\": 0, \"ticks\": \"\"}}, \"marker\": {\"colorbar\": {\"outlinewidth\": 0, \"ticks\": \"\"}}, \"type\": \"scatter3d\"}], \"scattercarpet\": [{\"marker\": {\"colorbar\": {\"outlinewidth\": 0, \"ticks\": \"\"}}, \"type\": \"scattercarpet\"}], \"scattergeo\": [{\"marker\": {\"colorbar\": {\"outlinewidth\": 0, \"ticks\": \"\"}}, \"type\": \"scattergeo\"}], \"scattergl\": [{\"marker\": {\"colorbar\": {\"outlinewidth\": 0, \"ticks\": \"\"}}, \"type\": \"scattergl\"}], \"scattermapbox\": [{\"marker\": {\"colorbar\": {\"outlinewidth\": 0, \"ticks\": \"\"}}, \"type\": \"scattermapbox\"}], \"scatterpolar\": [{\"marker\": {\"colorbar\": {\"outlinewidth\": 0, \"ticks\": \"\"}}, \"type\": \"scatterpolar\"}], \"scatterpolargl\": [{\"marker\": {\"colorbar\": {\"outlinewidth\": 0, \"ticks\": \"\"}}, \"type\": \"scatterpolargl\"}], \"scatterternary\": [{\"marker\": {\"colorbar\": {\"outlinewidth\": 0, \"ticks\": \"\"}}, \"type\": \"scatterternary\"}], \"surface\": [{\"colorbar\": {\"outlinewidth\": 0, \"ticks\": \"\"}, \"colorscale\": [[0.0, \"#0d0887\"], [0.1111111111111111, \"#46039f\"], [0.2222222222222222, \"#7201a8\"], [0.3333333333333333, \"#9c179e\"], [0.4444444444444444, \"#bd3786\"], [0.5555555555555556, \"#d8576b\"], [0.6666666666666666, \"#ed7953\"], [0.7777777777777778, \"#fb9f3a\"], [0.8888888888888888, \"#fdca26\"], [1.0, \"#f0f921\"]], \"type\": \"surface\"}], \"table\": [{\"cells\": {\"fill\": {\"color\": \"#EBF0F8\"}, \"line\": {\"color\": \"white\"}}, \"header\": {\"fill\": {\"color\": \"#C8D4E3\"}, \"line\": {\"color\": \"white\"}}, \"type\": \"table\"}]}, \"layout\": {\"annotationdefaults\": {\"arrowcolor\": \"#2a3f5f\", \"arrowhead\": 0, \"arrowwidth\": 1}, \"coloraxis\": {\"colorbar\": {\"outlinewidth\": 0, \"ticks\": \"\"}}, \"colorscale\": {\"diverging\": [[0, \"#8e0152\"], [0.1, \"#c51b7d\"], [0.2, \"#de77ae\"], [0.3, \"#f1b6da\"], [0.4, \"#fde0ef\"], [0.5, \"#f7f7f7\"], [0.6, \"#e6f5d0\"], [0.7, \"#b8e186\"], [0.8, \"#7fbc41\"], [0.9, \"#4d9221\"], [1, \"#276419\"]], \"sequential\": [[0.0, \"#0d0887\"], [0.1111111111111111, \"#46039f\"], [0.2222222222222222, \"#7201a8\"], [0.3333333333333333, \"#9c179e\"], [0.4444444444444444, \"#bd3786\"], [0.5555555555555556, \"#d8576b\"], [0.6666666666666666, \"#ed7953\"], [0.7777777777777778, \"#fb9f3a\"], [0.8888888888888888, \"#fdca26\"], [1.0, \"#f0f921\"]], \"sequentialminus\": [[0.0, \"#0d0887\"], [0.1111111111111111, \"#46039f\"], [0.2222222222222222, \"#7201a8\"], [0.3333333333333333, \"#9c179e\"], [0.4444444444444444, \"#bd3786\"], [0.5555555555555556, \"#d8576b\"], [0.6666666666666666, \"#ed7953\"], [0.7777777777777778, \"#fb9f3a\"], [0.8888888888888888, \"#fdca26\"], [1.0, \"#f0f921\"]]}, \"colorway\": [\"#636efa\", \"#EF553B\", \"#00cc96\", \"#ab63fa\", \"#FFA15A\", \"#19d3f3\", \"#FF6692\", \"#B6E880\", \"#FF97FF\", \"#FECB52\"], \"font\": {\"color\": \"#2a3f5f\"}, \"geo\": {\"bgcolor\": \"white\", \"lakecolor\": \"white\", \"landcolor\": \"#E5ECF6\", \"showlakes\": true, \"showland\": true, \"subunitcolor\": \"white\"}, \"hoverlabel\": {\"align\": \"left\"}, \"hovermode\": \"closest\", \"mapbox\": {\"style\": \"light\"}, \"paper_bgcolor\": \"white\", \"plot_bgcolor\": \"#E5ECF6\", \"polar\": {\"angularaxis\": {\"gridcolor\": \"white\", \"linecolor\": \"white\", \"ticks\": \"\"}, \"bgcolor\": \"#E5ECF6\", \"radialaxis\": {\"gridcolor\": \"white\", \"linecolor\": \"white\", \"ticks\": \"\"}}, \"scene\": {\"xaxis\": {\"backgroundcolor\": \"#E5ECF6\", \"gridcolor\": \"white\", \"gridwidth\": 2, \"linecolor\": \"white\", \"showbackground\": true, \"ticks\": \"\", \"zerolinecolor\": \"white\"}, \"yaxis\": {\"backgroundcolor\": \"#E5ECF6\", \"gridcolor\": \"white\", \"gridwidth\": 2, \"linecolor\": \"white\", \"showbackground\": true, \"ticks\": \"\", \"zerolinecolor\": \"white\"}, \"zaxis\": {\"backgroundcolor\": \"#E5ECF6\", \"gridcolor\": \"white\", \"gridwidth\": 2, \"linecolor\": \"white\", \"showbackground\": true, \"ticks\": \"\", \"zerolinecolor\": \"white\"}}, \"shapedefaults\": {\"line\": {\"color\": \"#2a3f5f\"}}, \"ternary\": {\"aaxis\": {\"gridcolor\": \"white\", \"linecolor\": \"white\", \"ticks\": \"\"}, \"baxis\": {\"gridcolor\": \"white\", \"linecolor\": \"white\", \"ticks\": \"\"}, \"bgcolor\": \"#E5ECF6\", \"caxis\": {\"gridcolor\": \"white\", \"linecolor\": \"white\", \"ticks\": \"\"}}, \"title\": {\"x\": 0.05}, \"xaxis\": {\"automargin\": true, \"gridcolor\": \"white\", \"linecolor\": \"white\", \"ticks\": \"\", \"title\": {\"standoff\": 15}, \"zerolinecolor\": \"white\", \"zerolinewidth\": 2}, \"yaxis\": {\"automargin\": true, \"gridcolor\": \"white\", \"linecolor\": \"white\", \"ticks\": \"\", \"title\": {\"standoff\": 15}, \"zerolinecolor\": \"white\", \"zerolinewidth\": 2}}}, \"title\": {\"text\": \"CLZ20 Pseudo-Volatility vs Price\", \"x\": 0.5, \"xanchor\": \"center\", \"y\": 0.9, \"yanchor\": \"top\"}, \"xaxis\": {\"showspikes\": true, \"spikedash\": \"solid\", \"spikemode\": \"toaxis+across\", \"spikethickness\": 1, \"tickangle\": 45, \"ticktext\": [20200129, 20200204, 20200210, 20200214, 20200221, 20200226, 20200302, 20200306, 20200312, 20200318, 20200323, 20200327, 20200402, 20200408, 20200415, 20200421, 20200427, 20200501, 20200507, 20200513, 20200519, 20200526, 20200601, 20200605, 20200611], \"tickvals\": [20200129, 20200204, 20200210, 20200214, 20200221, 20200226, 20200302, 20200306, 20200312, 20200318, 20200323, 20200327, 20200402, 20200408, 20200415, 20200421, 20200427, 20200501, 20200507, 20200513, 20200519, 20200526, 20200601, 20200605, 20200611], \"type\": \"category\"}, \"yaxis\": {\"showspikes\": true, \"spikedash\": \"solid\", \"spikemode\": \"toaxis+across\", \"spikethickness\": 1, \"title\": {\"text\": \"Implied Volatility\"}}, \"yaxis2\": {\"overlaying\": \"y\", \"side\": \"right\", \"title\": {\"text\": \"Futures Close\"}}},\n",
       "                        {\"responsive\": true}\n",
       "                    ).then(function(){\n",
       "                            \n",
       "var gd = document.getElementById('d342ec3b-d15b-4331-9520-fa8a83dc9a07');\n",
       "var x = new MutationObserver(function (mutations, observer) {{\n",
       "        var display = window.getComputedStyle(gd).display;\n",
       "        if (!display || display === 'none') {{\n",
       "            console.log([gd, 'removed!']);\n",
       "            Plotly.purge(gd);\n",
       "            observer.disconnect();\n",
       "        }}\n",
       "}});\n",
       "\n",
       "// Listen for the removal of the full notebook cells\n",
       "var notebookContainer = gd.closest('#notebook-container');\n",
       "if (notebookContainer) {{\n",
       "    x.observe(notebookContainer, {childList: true});\n",
       "}}\n",
       "\n",
       "// Listen for the clearing of the current output cell\n",
       "var outputEl = gd.closest('.output');\n",
       "if (outputEl) {{\n",
       "    x.observe(outputEl, {childList: true});\n",
       "}}\n",
       "\n",
       "                        })\n",
       "                };\n",
       "                });\n",
       "            </script>\n",
       "        </div>"
      ]
     },
     "metadata": {},
     "output_type": "display_data"
    }
   ],
   "source": [
    "year = 2020\n",
    "for symbol in [k for k in dict_df_implied.keys() if int(k[-2:])==year-2000]:\n",
    "    df_to_graph = dict_df_implied[symbol][:-1]\n",
    "    fig = dashapp.plotly_plot(\n",
    "        df_in=df_to_graph,x_column='settle_date',yaxis2_cols=['fprice'],\n",
    "        y_left_label='Implied Volatility',y_right_label='Futures Close',\n",
    "        plot_title=f\"{symbol} Pseudo-Volatility vs Price\"\n",
    "    )\n",
    "    iplot(fig)\n"
   ]
  },
  {
   "cell_type": "code",
   "execution_count": 17,
   "metadata": {},
   "outputs": [
    {
     "data": {
      "text/plain": [
       "1680609"
      ]
     },
     "execution_count": 17,
     "metadata": {},
     "output_type": "execute_result"
    }
   ],
   "source": [
    "sql1 = f\"select count(*) from {opttab} where substring(symbol,1,2)='CL' and settle_date >=20170101 and settle_date<=20200531\"\n",
    "sql2 = f\"\"\"select symbol,count(settle_date) symcount from {opttab} \n",
    "where substring(symbol,1,2)='CL' and \n",
    "settle_date >=20170101 and \n",
    "settle_date<=20200531\n",
    "group by symbol\n",
    "\"\"\"\n",
    "df = pga.get_sql(sql2)\n",
    "df.symcount.sum()\n"
   ]
  },
  {
   "cell_type": "code",
   "execution_count": 15,
   "metadata": {},
   "outputs": [
    {
     "data": {
      "text/plain": [
       "515211"
      ]
     },
     "execution_count": 15,
     "metadata": {},
     "output_type": "execute_result"
    }
   ],
   "source": [
    "df.symcount.sum()\n"
   ]
  },
  {
   "cell_type": "markdown",
   "metadata": {},
   "source": [
    "## END"
   ]
  }
 ],
 "metadata": {
  "kernelspec": {
   "display_name": "Python 3",
   "language": "python",
   "name": "python3"
  },
  "language_info": {
   "codemirror_mode": {
    "name": "ipython",
    "version": 3
   },
   "file_extension": ".py",
   "mimetype": "text/x-python",
   "name": "python",
   "nbconvert_exporter": "python",
   "pygments_lexer": "ipython3",
   "version": "3.6.5"
  }
 },
 "nbformat": 4,
 "nbformat_minor": 2
}
