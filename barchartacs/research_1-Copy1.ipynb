{
 "cells": [
  {
   "cell_type": "code",
   "execution_count": null,
   "metadata": {},
   "outputs": [],
   "source": [
    "import zipfile\n",
    "import glob\n",
    "import pandas as pd\n",
    "import numpy as np\n",
    "\n",
    "from argparse import ArgumentParser\n",
    "from argparse import RawDescriptionHelpFormatter\n",
    "import sys\n",
    "import os\n",
    "if  not './' in sys.path:\n",
    "    sys.path.append('./')\n",
    "if  not '../' in sys.path:\n",
    "    sys.path.append('../')\n",
    "\n",
    "from barchartacs import build_db\n",
    "from barchartacs import db_info\n",
    "import plotly.graph_objs as go\n",
    "from plotly.offline import  init_notebook_mode, iplot\n",
    "init_notebook_mode(connected=True)\n",
    "import plotly.tools as tls\n",
    "from IPython import display\n",
    "\n",
    "import datetime\n",
    "import io\n",
    "from tqdm import tqdm,tqdm_notebook\n",
    "from barchartacs import pg_pandas as pg\n",
    "import mibian\n",
    "import py_vollib\n",
    "import importlib\n",
    "from py_vollib import black\n",
    "from py_vollib.black import implied_volatility\n",
    "\n",
    "# importlib.reload(db_info)"
   ]
  },
  {
   "cell_type": "code",
   "execution_count": null,
   "metadata": {},
   "outputs": [],
   "source": [
    "#!pip install py_vollib"
   ]
  },
  {
   "cell_type": "code",
   "execution_count": null,
   "metadata": {},
   "outputs": [],
   "source": [
    "def plotly_plot(df_in,x_column,plot_title=None,\n",
    "                y_left_label=None,y_right_label=None,\n",
    "                bar_plot=False,figsize=(16,10),\n",
    "                number_of_ticks_display=20,\n",
    "                yaxis2_cols=None):\n",
    "    ya2c = [] if yaxis2_cols is None else yaxis2_cols\n",
    "    ycols = [c for c in df_in.columns.values if c != x_column]\n",
    "    # create tdvals, which will have x axis labels\n",
    "    td = list(df_in[x_column]) \n",
    "    nt = len(df_in)-1 if number_of_ticks_display > len(df_in) else number_of_ticks_display\n",
    "    spacing = len(td)//nt\n",
    "    tdvals = td[::spacing]\n",
    "    \n",
    "    # create data for graph\n",
    "    data = []\n",
    "    # iterate through all ycols to append to data that gets passed to go.Figure\n",
    "    for ycol in ycols:\n",
    "        if bar_plot:\n",
    "            b = go.Bar(x=td,y=df_in[ycol],name=ycol,yaxis='y' if ycol not in ya2c else 'y2')\n",
    "        else:\n",
    "            b = go.Scatter(x=td,y=df_in[ycol],name=ycol,yaxis='y' if ycol not in ya2c else 'y2')\n",
    "        data.append(b)\n",
    "\n",
    "    # create a layout\n",
    "    layout = go.Layout(\n",
    "        title=plot_title,\n",
    "        xaxis=dict(\n",
    "            ticktext=tdvals,\n",
    "            tickvals=tdvals,\n",
    "            tickangle=45,\n",
    "            type='category'),\n",
    "        yaxis=dict(\n",
    "            title='y main' if y_left_label is None else y_left_label\n",
    "        ),\n",
    "        yaxis2=dict(\n",
    "            title='y alt' if y_right_label is None else y_right_label,\n",
    "            overlaying='y',\n",
    "            side='right'),\n",
    "        margin=go.Margin(\n",
    "            b=100\n",
    "        )        \n",
    "    )\n",
    "\n",
    "    fig = go.Figure(data=data,layout=layout)\n",
    "    return fig\n"
   ]
  },
  {
   "cell_type": "code",
   "execution_count": null,
   "metadata": {},
   "outputs": [],
   "source": [
    "pga = db_info.get_db_info()\n",
    "opttab = 'sec_schema.options_table'\n",
    "futtab = 'sec_schema.underlying_table'\n"
   ]
  },
  {
   "cell_type": "markdown",
   "metadata": {},
   "source": [
    "### get data from sql "
   ]
  },
  {
   "cell_type": "code",
   "execution_count": null,
   "metadata": {},
   "outputs": [],
   "source": [
    "osql = f\"select * from {opttab} where substring(settle_date::text,1,5)='20150';\"\n",
    "dfo = pga.get_sql(osql)\n",
    "usql = f\"select * from {futtab} where substring(settle_date::text,1,5)='20150';\"\n",
    "dfu = pga.get_sql(usql)\n"
   ]
  },
  {
   "cell_type": "code",
   "execution_count": null,
   "metadata": {},
   "outputs": [],
   "source": [
    "print(dfo.shape,dfu.shape)\n",
    "display.display(dfo.head())\n",
    "display.display(dfu.head())"
   ]
  },
  {
   "cell_type": "code",
   "execution_count": null,
   "metadata": {},
   "outputs": [],
   "source": [
    "df = dfo.merge(dfu,how='inner',on=['symbol','settle_date'])"
   ]
  },
  {
   "cell_type": "code",
   "execution_count": null,
   "metadata": {
    "scrolled": true
   },
   "outputs": [],
   "source": [
    "print(df.shape)\n",
    "df.head()"
   ]
  },
  {
   "cell_type": "markdown",
   "metadata": {},
   "source": [
    "### create pivot of strikes per day"
   ]
  },
  {
   "cell_type": "code",
   "execution_count": null,
   "metadata": {},
   "outputs": [],
   "source": [
    "\n",
    "df2 = df[['symbol','contract_num','pc','settle_date','strike','close_x','close_y']]\n",
    "df2 = df2[(df2.pc=='C') & (df2.symbol.str.slice(0,2).isin(['CL']))]\n",
    "df2 = df2[df2.contract_num==2]\n",
    "df2.strike = df2.strike/10\n",
    "phigh = df2.close_y.max()\n",
    "plow = df2.close_y.min()\n",
    "high_strike = round(phigh * 1.2)\n",
    "low_strike = round(plow * .8)\n",
    "print(high_strike,low_strike,df2.strike.max(),df2.strike.min())\n",
    "df2 = df2[(df2.strike>=low_strike) & (df2.strike<=high_strike)]\n",
    "df2['symset'] = df2.symbol + \"_\" + df2.settle_date.astype(str)\n",
    "df3 = df2.pivot(index='symset',columns='strike',values='close_x')\n",
    "df3['symset'] = df3.index.values\n",
    "df3.index.name=None\n",
    "df3.index = list(range(len(df3)))\n",
    "df3.columns.name = None\n",
    "df3['symset_array'] = df3.symset.str.split('_')\n",
    "df3['symbol'] = df3.symset_array.apply(lambda a:a[0])\n",
    "df3['settle_date'] = df3.symset_array.apply(lambda a:a[1])\n",
    "cols_in_order = ['symbol','settle_date'] + [c for c in df3.columns.values if c not in ['symbol','settle_date','symset','symset_array']]\n",
    "df3 = df3[cols_in_order]\n",
    "df3.settle_date = df3.settle_date.astype(str).astype(int)\n",
    "df3.head()                                     "
   ]
  },
  {
   "cell_type": "code",
   "execution_count": null,
   "metadata": {},
   "outputs": [],
   "source": [
    "\n",
    "mcols = ['symbol','settle_date']\n",
    "df4 = dfu[mcols + ['close']]\n",
    "df5 = df3.merge(df4,on=mcols,how='inner')\n",
    "first_cols = ['symbol','settle_date','close']\n",
    "cols_in_order = first_cols + [c for c in df5.columns.values if c not in first_cols]\n",
    "df5 = df5[cols_in_order]\n",
    "df5\n",
    "                                                          "
   ]
  },
  {
   "cell_type": "code",
   "execution_count": null,
   "metadata": {},
   "outputs": [],
   "source": [
    "w1 = \"char_length(symbol)=5 and substring(symbol,1,2)='CL' and substring(symbol,4,2)::int>='15'\"\n",
    "\n",
    "osql = f\"select * from {opttab} where {w1};\"\n",
    "dfo2 = pga.get_sql(osql)\n"
   ]
  },
  {
   "cell_type": "code",
   "execution_count": null,
   "metadata": {},
   "outputs": [],
   "source": [
    "df_expiry_dates = dfo2[['symbol','settle_date']].groupby('symbol',as_index=False).max()"
   ]
  },
  {
   "cell_type": "code",
   "execution_count": null,
   "metadata": {},
   "outputs": [],
   "source": [
    "df_expiry_dates.head()"
   ]
  },
  {
   "cell_type": "code",
   "execution_count": null,
   "metadata": {},
   "outputs": [],
   "source": []
  },
  {
   "cell_type": "code",
   "execution_count": null,
   "metadata": {},
   "outputs": [],
   "source": [
    "df5['expiry'] = df5[['symbol']].merge(df_expiry_dates,on='symbol',how='inner').settle_date\n",
    "df6 = df5.copy()\n",
    "df6['syear'] = df6.settle_date.astype(str).str.slice(0,4).astype(int)\n",
    "df6['smon'] = df6.settle_date.astype(str).str.slice(4,6).astype(int)\n",
    "df6['sday'] = df6.settle_date.astype(str).str.slice(6,8).astype(int)\n",
    "df6['eyear'] = df6.expiry.astype(str).str.slice(0,4).astype(int)\n",
    "df6['emon'] = df6.expiry.astype(str).str.slice(4,6).astype(int)\n",
    "df6['eday'] = df6.expiry.astype(str).str.slice(6,8).astype(int)\n",
    "df6['sdatetime'] = df6.apply(lambda r:datetime.datetime(r.syear,r.smon,r.sday),axis=1)\n",
    "df6['edatetime'] = df6.apply(lambda r:datetime.datetime(r.eyear,r.emon,r.eday),axis=1)\n",
    "df6['dte'] = df6.edatetime - df6.sdatetime\n",
    "df6.dte = df6.dte.dt.days\n",
    "on_cols = ['symbol','settle_date']\n",
    "df5['dte'] = df5[on_cols].merge(df6[on_cols+['dte']],on=on_cols,how='inner').dte"
   ]
  },
  {
   "cell_type": "code",
   "execution_count": null,
   "metadata": {},
   "outputs": [],
   "source": [
    "df5.head()"
   ]
  },
  {
   "cell_type": "code",
   "execution_count": null,
   "metadata": {},
   "outputs": [],
   "source": [
    "non_strikes = ['symbol','settle_date','close','expiry','dte']\n",
    "strikes = list(set(df5.columns.values).difference(set(non_strikes)))\n",
    "df6 = df5.copy()\n",
    "df6 = df6.rename(columns = {c:str(c)+'s' for c in strikes})\n",
    "strikes = list(set(df6.columns.values).difference(set(non_strikes)))\n",
    "r = df6.iloc[0]\n",
    "opt_info = [r.close,float(strikes[0][:-1]),2,r.dte]\n",
    "r['close'],r[strikes[0]]\n",
    "mibian.BS(opt_info, callPrice=r[strikes[0]]).impliedVolatility\n"
   ]
  },
  {
   "cell_type": "code",
   "execution_count": null,
   "metadata": {},
   "outputs": [],
   "source": []
  },
  {
   "cell_type": "markdown",
   "metadata": {},
   "source": [
    "#### get implied vols"
   ]
  },
  {
   "cell_type": "code",
   "execution_count": null,
   "metadata": {},
   "outputs": [],
   "source": [
    "non_strikes = ['symbol','settle_date','close','expiry','dte']\n",
    "strikes = list(set(df5.columns.values).difference(set(non_strikes)))\n",
    "df6 = df5.copy()\n",
    "df6 = df6.rename(columns = {c:str(c)+'s' for c in strikes})\n",
    "strikes = list(set(df6.columns.values).difference(set(non_strikes)))\n",
    "\n",
    "print(strikes)\n",
    "for strike in tqdm_notebook(strikes):\n",
    "    s = float(strike.replace('s',''))\n",
    "    df6[f\"{s}c\"] = df6[non_strikes + [strike]].apply(\n",
    "        lambda r: -1 if np.isnan(r[strike]) else mibian.BS([r.close,s,2,r.dte], callPrice=r[strike]).impliedVolatility\n",
    "        ,axis=1)\n",
    "    "
   ]
  },
  {
   "cell_type": "code",
   "execution_count": null,
   "metadata": {},
   "outputs": [],
   "source": [
    "df7 = df6[non_strikes + [c.replace('s','c') for c in strikes]]"
   ]
  },
  {
   "cell_type": "code",
   "execution_count": null,
   "metadata": {},
   "outputs": [],
   "source": [
    "df7.head()"
   ]
  },
  {
   "cell_type": "markdown",
   "metadata": {},
   "source": [
    "#### get deltas"
   ]
  },
  {
   "cell_type": "code",
   "execution_count": null,
   "metadata": {},
   "outputs": [],
   "source": [
    "df8 = df7.copy()\n",
    "non_strikes = ['symbol','settle_date','close','expiry','dte']\n",
    "strikes = list(set(df8.columns.values).difference(set(non_strikes)))\n",
    "\n",
    "print(strikes)\n",
    "for strike in tqdm_notebook(strikes):\n",
    "    s = float(strike.replace('c',''))\n",
    "    df8[f\"{s}c\"] = df8[non_strikes + [strike]].apply(\n",
    "        lambda r: -1 if np.isnan(r[strike]) else mibian.BS([r.close,s,2,r.dte], volatility=r[strike]).callDelta\n",
    "        ,axis=1)\n"
   ]
  },
  {
   "cell_type": "code",
   "execution_count": null,
   "metadata": {},
   "outputs": [],
   "source": [
    "df8.head()"
   ]
  },
  {
   "cell_type": "markdown",
   "metadata": {},
   "source": [
    "#### do implied vol interpolation to find vol at option that is 10% out of the money"
   ]
  },
  {
   "cell_type": "code",
   "execution_count": null,
   "metadata": {},
   "outputs": [],
   "source": [
    "non_strikes = ['symbol','settle_date','close','expiry','dte']\n",
    "strikes = list(set(df7.columns.values).difference(set(non_strikes)))\n",
    "dft =df7[strikes].iloc[:1]\n",
    "dft = dft.T.sort_index()\n",
    "dft.index = [float(s.replace('c','')) for s in dft.index]\n",
    "dft.columns = ['imp']\n",
    "dft.head()"
   ]
  },
  {
   "cell_type": "code",
   "execution_count": null,
   "metadata": {},
   "outputs": [],
   "source": [
    "a"
   ]
  },
  {
   "cell_type": "code",
   "execution_count": null,
   "metadata": {},
   "outputs": [],
   "source": [
    "v = 51.5\n",
    "a = np.arange(.7,1.3,.05) * v\n",
    "a = a.round(6)\n",
    "for x in a:\n",
    "    dft.loc[x,'imp'] = None\n",
    "dft = dft.sort_index()\n",
    "dft['imp2'] = dft.imp.interpolate(method='polynomial', order=2)\n",
    "dft['skew'] = (dft.imp2 - dft.loc[v].imp2).round(4)\n",
    "dft['money'] = (dft.index / v - 1)\n",
    "dft.money = dft.money.round(4)\n",
    "dft[dft.index.isin(a)]\n",
    "# a = np.array(sorted([float(s.replace('c','')) for s in strikes]))\n",
    "# b = \n",
    "# m = np.abs(a - t).argmin()\n",
    "# pair =(a[m],a[m+1]) if a[m]<t else (a[m-1],a[m])\n",
    "\n",
    "# print(t,pair)\n",
    "# pd.DataFrame({'a':a})\n"
   ]
  },
  {
   "cell_type": "code",
   "execution_count": null,
   "metadata": {},
   "outputs": [],
   "source": [
    "display(df2.head())\n",
    "display(df_expiry_dates.head())"
   ]
  },
  {
   "cell_type": "code",
   "execution_count": null,
   "metadata": {},
   "outputs": [],
   "source": [
    "#CL,Q2019,560P,07/02/2019,0.6,1.61,0.54,1.54,1997,4465\n",
    "F = 56.25\n",
    "K = 56\n",
    "sigma = .366591539\n",
    "flag = 'p'\n",
    "t = 15/365.0\n",
    "r = .025\n",
    "discounted_call_price = black.black(flag, F, K, t, r, sigma)\n",
    "dcp = 1.54\n",
    "ivpy = implied_volatility.implied_volatility(dcp, F, K, r, t, flag)\n",
    "ivmn = mibian.BS([F,K,2.5,15], callPrice=dcp).impliedVolatility\n",
    "discounted_call_price,ivpy,ivmn\n"
   ]
  },
  {
   "cell_type": "code",
   "execution_count": null,
   "metadata": {
    "scrolled": true
   },
   "outputs": [],
   "source": [
    "USE_PYVOL = True\n",
    "contract='CLM15'\n",
    "df9 = df2[df2.symbol==contract]\n",
    "df9 = df9.merge(df_expiry_dates.rename(columns={'settle_date':'expiry'}),on='symbol',how='inner')\n",
    "df9['syear'] = df9.settle_date.astype(str).str.slice(0,4).astype(int)\n",
    "df9['smon'] = df9.settle_date.astype(str).str.slice(4,6).astype(int)\n",
    "df9['sday'] = df9.settle_date.astype(str).str.slice(6,8).astype(int)\n",
    "df9['eyear'] = df9.expiry.astype(str).str.slice(0,4).astype(int)\n",
    "df9['emon'] = df9.expiry.astype(str).str.slice(4,6).astype(int)\n",
    "df9['eday'] = df9.expiry.astype(str).str.slice(6,8).astype(int)\n",
    "df9['sdatetime'] = df9.apply(lambda r:datetime.datetime(r.syear,r.smon,r.sday),axis=1)\n",
    "df9['edatetime'] = df9.apply(lambda r:datetime.datetime(r.eyear,r.emon,r.eday),axis=1)\n",
    "df9['dte'] = df9.edatetime - df9.sdatetime\n",
    "df9.dte = df9.dte.dt.days\n",
    "df9 = df9[['symbol','settle_date','pc','contract_num','strike','close_x','close_y','dte']]\n",
    "df10 = df9.iloc[:len(df9)]\n",
    "df10.index = list(range(len(df10)))\n",
    "lam_pyvol = lambda r:implied_volatility.implied_volatility(r.close_x,r.close_y,r.strike,.02,r.dte/365, r.pc.lower())\n",
    "lam_mibian = lambda r:mibian.BS([r.close_y,r.strike,2,r.dte], callPrice=r.close_x).impliedVolatility\n",
    "n = 100\n",
    "for i in tqdm_notebook(np.arange(0,len(df10)-n,n)):\n",
    "    if USE_PYVOL:\n",
    "        df10.loc[i:i+n,'iv'] = df10.loc[i:i+n].apply(lam_pyvol,axis=1)\n",
    "    else:\n",
    "        df10.loc[i:i+n,'iv'] = df10.loc[i:i+n].apply(lam_mibian,axis=1)\n",
    "#     ivv = implied_volatility.implied_volatility(discounted_call_price, F, K, r, t, flag)    \n",
    "#     df10.loc[i:i+n,'iv'] = df10.loc[i:i+n].apply(lambda r:mibian.BS([r.close_y,r.strike,2,r.dte], callPrice=r.close_x).impliedVolatility,axis=1)\n",
    "    \n",
    "print(f'doing remaining {datetime.datetime.now()}')\n",
    "i = df10[df10.iv.isna()].index[0]\n",
    "# df10.loc[i:,'iv'] = df10.loc[i:].apply(lambda r:mibian.BS([r.close_y,r.strike,2,r.dte], callPrice=r.close_x).impliedVolatility,axis=1)\n",
    "if USE_PYVOL:\n",
    "    df10.loc[i:,'iv'] = df10.loc[i:].apply(lam_pyvol,axis=1)\n",
    "else:\n",
    "    df10.loc[i:,'iv'] = df10.loc[i:].apply(lam_mbian,axis=1)\n",
    "\n",
    "print(f'doing remaining {datetime.datetime.now()}')\n",
    "display.display(df10.head())\n",
    "display.display(df10.tail())\n",
    "\n",
    "#100% 13/13 [00:41<00:00, 3.20s/it]\n"
   ]
  },
  {
   "cell_type": "code",
   "execution_count": null,
   "metadata": {},
   "outputs": [],
   "source": [
    "# df10_save_mbian = df10.copy()\n",
    "# df10_save_pyvol = df10.copy()\n",
    "print(df10_save_mbian.shape,df10_save_pyvol.shape)\n",
    "display.display(df10_save_mbian.head())\n",
    "display.display(df10_save_pyvol.head())\n",
    "\n"
   ]
  },
  {
   "cell_type": "code",
   "execution_count": null,
   "metadata": {
    "scrolled": true
   },
   "outputs": [],
   "source": [
    "# define amounts around the money which will help create strikes to add\n",
    "moneyness = np.arange(.7,1.4,.05).round(6)\n",
    "# define columns on which to execute groupby\n",
    "gb_cols = ['symbol','settle_date','pc','contract_num','dte','close_y']\n",
    "# define function used in groupby.apply to create strikes and iv's at those strikes\n",
    "#   where the strikes are an even amount from the money \n",
    "#   (like .7, .8, ... 1, 1.1, 1.2, etc)\n",
    "def _add_even_money_strikes(df):\n",
    "    # get underlying from first row (the groupby makes them all the same)\n",
    "    r = df.iloc[0]\n",
    "    underlying = r.close_y\n",
    "    # create new rows to append to df, using only the gb_cols\n",
    "    df_ret1 = df.iloc[:len(moneyness)][gb_cols]\n",
    "    # add nan iv's !!!! MUST BE np.nan - NOT None\n",
    "    df_ret1['iv'] = np.nan\n",
    "    # add new strikes\n",
    "    df_ret1['strike'] = moneyness * underlying\n",
    "    # append the new strikes\n",
    "    df_ret2 = df.append(df_ret1,ignore_index=True).sort_values(['symbol','settle_date','pc','strike'])\n",
    "    df_ret2 = df_ret2.drop_duplicates(subset='strike')\n",
    "    # set the index to the strike so that interpolate works\n",
    "    df_ret2.index = df_ret2.strike\n",
    "    # create interpolated iv's\n",
    "    df_ret2['iv'] = df_ret2.iv.interpolate(method='polynomial', order=2)\n",
    "    # reset the index\n",
    "    df_ret2.index = list(range(len(df_ret2)))\n",
    "    return df_ret2\n",
    "\n",
    "\n",
    "df11 = df10.groupby(gb_cols).apply(_add_even_money_strikes)\n",
    "df11.index = list(range(len(df11)))\n",
    "df11['moneyness'] = (df11.strike / df11.close_y).round(6)\n",
    "\n",
    "df12 = df11[(df11.moneyness.isin(moneyness)) & (~df11.iv.isna())]\n",
    "df12.moneyness  = df12.moneyness - 1\n",
    "df12.index = list(range(len(df12)))\n",
    "df12_atm = df12[df12.moneyness==0][['symbol','settle_date','pc','iv']]\n",
    "df12_atm = df12_atm.rename(columns={'iv':'atm_iv'})\n",
    "df12_atm = df12_atm.drop_duplicates()\n",
    "df12 = df12.merge(df12_atm,on=['symbol','settle_date','pc'],how='inner')\n",
    "df12.moneyness = df12.moneyness.round(6)\n",
    "df12['vol_skew'] = (df12.iv - df12.atm_iv).round(4)\n",
    "df12[['symbol','settle_date','moneyness','vol_skew']]\n"
   ]
  },
  {
   "cell_type": "code",
   "execution_count": null,
   "metadata": {},
   "outputs": [],
   "source": [
    "df12[df12.settle_date==20150327]"
   ]
  },
  {
   "cell_type": "markdown",
   "metadata": {},
   "source": [
    "### graph skew"
   ]
  },
  {
   "cell_type": "code",
   "execution_count": null,
   "metadata": {
    "scrolled": false
   },
   "outputs": [],
   "source": [
    "settle_dates =  sorted(df12.settle_date.unique())\n",
    "first_settle_date = settle_dates[0]\n",
    "dfp = df12[df12.settle_date==first_settle_date][['moneyness','vol_skew']]\n",
    "dfp = dfp.rename(columns={'vol_skew':str(first_settle_date)})\n",
    "i=0\n",
    "for s in settle_dates[1:]:\n",
    "    dfp_this_s = df12[df12.settle_date==s][['moneyness','vol_skew']]\n",
    "    dfp = dfp.merge(dfp_this_s,on='moneyness').rename(columns={'vol_skew':str(s)})\n",
    "#     i+=1\n",
    "#     if i>3:\n",
    "#         break\n",
    "display.display(dfp)\n",
    "splits = list(np.arange(5,len(settle_dates),5))\n",
    "settle_date_strings = [str(yyyymmdd) for yyyymmdd in settle_dates]\n",
    "settle_date_groups = np.split(np.array(settle_date_strings),splits)\n",
    "for sdg in settle_date_groups:\n",
    "    cols = ['moneyness']+list(sdg)\n",
    "    dfp_sub = dfp[cols]\n",
    "    t = f'{contract} {list(set([c[:-2] for c in sdg]))}'\n",
    "    iplot(plotly_plot(dfp_sub,x_column='moneyness',plot_title=t))"
   ]
  },
  {
   "cell_type": "code",
   "execution_count": null,
   "metadata": {},
   "outputs": [],
   "source": []
  },
  {
   "cell_type": "code",
   "execution_count": null,
   "metadata": {
    "scrolled": false
   },
   "outputs": [],
   "source": [
    "for yyyymmdd in sorted(df12.settle_date.unique()):\n",
    "    dfp = df12[df12.settle_date==yyyymmdd][['moneyness','skew']]\n",
    "    iplot(plotly_plot(dfp,x_column='moneyness',plot_title=str(yyyymmdd)))"
   ]
  },
  {
   "cell_type": "code",
   "execution_count": null,
   "metadata": {},
   "outputs": [],
   "source": [
    "# s = ['symbol','pc','settle_date','strike']\n",
    "# dft = df10.append(df11,ignore_index = True).sort_values(s)\n",
    "# dft['iv2'] = dft.iv.interpolate(method='polynomial', order=2)\n",
    "\n",
    "# dft['skew'] = (dft.iv2 - dft.loc[v].imp2).round(4)\n",
    "# dft['money'] = (dft.strike / dft.close_y - 1)\n",
    "# dft.money = dft.money.round(4)\n",
    "# dft[dft.index.isin(a)]\n"
   ]
  },
  {
   "cell_type": "code",
   "execution_count": null,
   "metadata": {},
   "outputs": [],
   "source": []
  },
  {
   "cell_type": "code",
   "execution_count": null,
   "metadata": {},
   "outputs": [],
   "source": [
    "underlying=1.4565\n",
    "strike=1.45\n",
    "interest = 1\n",
    "days=30\n",
    "opt_info = [underlying,strike,interest,days]\n",
    "c = mibian.BS(opt_info, volatility=20)\n",
    "print(c.callPrice,\n",
    "c.putPrice,\n",
    "c.callDelta,\n",
    "c.putDelta,\n",
    "c.callDelta2,\n",
    "c.putDelta2,\n",
    "c.callTheta,\n",
    "c.putTheta,\n",
    "c.callRho,\n",
    "c.putRho,\n",
    "c.vega,\n",
    "c.gamma)\n",
    "\n",
    "\n",
    "co = mibian.BS(opt_info, callPrice=c.callPrice)\n",
    "co.impliedVolatility"
   ]
  },
  {
   "cell_type": "code",
   "execution_count": null,
   "metadata": {},
   "outputs": [],
   "source": []
  }
 ],
 "metadata": {
  "kernelspec": {
   "display_name": "Python 3",
   "language": "python",
   "name": "python3"
  },
  "language_info": {
   "codemirror_mode": {
    "name": "ipython",
    "version": 3
   },
   "file_extension": ".py",
   "mimetype": "text/x-python",
   "name": "python",
   "nbconvert_exporter": "python",
   "pygments_lexer": "ipython3",
   "version": "3.6.5"
  }
 },
 "nbformat": 4,
 "nbformat_minor": 2
}
