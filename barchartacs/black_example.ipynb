{
 "cells": [
  {
   "cell_type": "code",
   "execution_count": 1,
   "metadata": {},
   "outputs": [],
   "source": [
    "import py_vollib\n",
    "import importlib\n",
    "from py_vollib import black\n",
    "from py_vollib.black import implied_volatility\n",
    "from py_vollib.black.greeks import analytical\n",
    "import pandas as pd\n",
    "import numpy as np"
   ]
  },
  {
   "cell_type": "code",
   "execution_count": 4,
   "metadata": {},
   "outputs": [
    {
     "name": "stdout",
     "output_type": "stream",
     "text": [
      "0.04209558890643748\n",
      "0.20437961949603642\n"
     ]
    }
   ],
   "source": [
    "#black.black(flag, F, K, t, r, sigma)\n",
    "flag=\"c\"\n",
    "F = 100\n",
    "K=120\n",
    "t=1\n",
    "r=.02\n",
    "sigma=.2\n",
    "print(black.black(flag, F, K, t, r, sigma)*2/F)\n",
    "print(analytical.delta(flag, F, K, t, r, sigma))"
   ]
  }
 ],
 "metadata": {
  "kernelspec": {
   "display_name": "Python 3",
   "language": "python",
   "name": "python3"
  },
  "language_info": {
   "codemirror_mode": {
    "name": "ipython",
    "version": 3
   },
   "file_extension": ".py",
   "mimetype": "text/x-python",
   "name": "python",
   "nbconvert_exporter": "python",
   "pygments_lexer": "ipython3",
   "version": "3.6.5"
  }
 },
 "nbformat": 4,
 "nbformat_minor": 4
}
