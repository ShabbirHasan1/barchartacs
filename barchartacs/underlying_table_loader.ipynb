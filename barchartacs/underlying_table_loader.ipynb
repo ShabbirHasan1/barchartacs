{
 "cells": [
  {
   "cell_type": "code",
   "execution_count": 1,
   "metadata": {},
   "outputs": [],
   "source": [
    "import zipfile\n",
    "import glob\n",
    "import pandas as pd\n",
    "import numpy as np\n",
    "\n",
    "from argparse import ArgumentParser\n",
    "from argparse import RawDescriptionHelpFormatter\n",
    "import sys\n",
    "import os\n",
    "if  not './' in sys.path:\n",
    "    sys.path.append('./')\n",
    "if  not '../' in sys.path:\n",
    "    sys.path.append('../')\n",
    "\n",
    "from barchartacs import build_db\n",
    "from barchartacs import db_info\n",
    "import datetime\n",
    "import io\n",
    "from tqdm import tqdm,tqdm_notebook\n",
    "from barchartacs import pg_pandas as pg\n",
    "import importlib\n",
    "\n",
    "DELETE_ALL = False\n",
    "WRITE_DATA=False\n",
    "\n",
    "# importlib.reload(db_info)"
   ]
  },
  {
   "cell_type": "code",
   "execution_count": 2,
   "metadata": {},
   "outputs": [],
   "source": [
    "d1 = {\n",
    "    1:'jan',\n",
    "    2:'feb',\n",
    "    3:'mar',\n",
    "    4:'apr',\n",
    "    5:'may',\n",
    "    6:'jun',\n",
    "    7:'jul',\n",
    "    8:'aug',\n",
    "    9:'sep',\n",
    "    10:'oct',\n",
    "    11:'nov',\n",
    "    12:'dec'\n",
    "}\n"
   ]
  },
  {
   "cell_type": "code",
   "execution_count": 11,
   "metadata": {},
   "outputs": [
    {
     "data": {
      "application/vnd.jupyter.widget-view+json": {
       "model_id": "161f9c26ad814e94a0566acfdb738ac9",
       "version_major": 2,
       "version_minor": 0
      },
      "text/plain": [
       "HBox(children=(IntProgress(value=0, max=6), HTML(value='')))"
      ]
     },
     "metadata": {},
     "output_type": "display_data"
    },
    {
     "name": "stdout",
     "output_type": "stream",
     "text": [
      "\n"
     ]
    }
   ],
   "source": [
    "zip_folder_parent = open('./temp_folder/zip_folder_parent.txt','r').read()\n",
    "futures_parent = f'{zip_folder_parent}/futures'\n",
    "\n",
    "all_names_ordered = []\n",
    "for yy in np.arange(19,20):\n",
    "    fnames = glob.glob(f'{futures_parent}/*{yy}.txt')\n",
    "    d = {}\n",
    "    for fname in fnames:\n",
    "        mmm = fname.split('/')[-1].split('.txt')[0][0:-2][-3:]\n",
    "        d[mmm] = fname\n",
    "    fnames_ordered = [d[d1[m]] for m in d1.keys() if d1[m] in d]\n",
    "    all_names_ordered += fnames_ordered\n",
    "all_names_ordered\n",
    "\n",
    "df_all = None\n",
    "header = ['contract','month_year','yymmdd','open','high','low','close','volume','open_interest']\n",
    "\n",
    "for fname in tqdm_notebook(all_names_ordered):\n",
    "    df_temp = pd.read_csv(fname,header=None)\n",
    "    df_temp.columns = header\n",
    "    if df_all is None:\n",
    "        df_all = df_temp.copy()\n",
    "    else:\n",
    "        df_all = df_all.append(df_temp,ignore_index=True)\n",
    "        df_all.index = list(range(len(df_all)))\n",
    "    "
   ]
  },
  {
   "cell_type": "code",
   "execution_count": 12,
   "metadata": {},
   "outputs": [
    {
     "data": {
      "text/plain": [
       "250154"
      ]
     },
     "execution_count": 12,
     "metadata": {},
     "output_type": "execute_result"
    }
   ],
   "source": [
    "len(df_all)"
   ]
  },
  {
   "cell_type": "code",
   "execution_count": 29,
   "metadata": {},
   "outputs": [
    {
     "data": {
      "text/html": [
       "<div>\n",
       "<style scoped>\n",
       "    .dataframe tbody tr th:only-of-type {\n",
       "        vertical-align: middle;\n",
       "    }\n",
       "\n",
       "    .dataframe tbody tr th {\n",
       "        vertical-align: top;\n",
       "    }\n",
       "\n",
       "    .dataframe thead th {\n",
       "        text-align: right;\n",
       "    }\n",
       "</style>\n",
       "<table border=\"1\" class=\"dataframe\">\n",
       "  <thead>\n",
       "    <tr style=\"text-align: right;\">\n",
       "      <th></th>\n",
       "      <th>contract</th>\n",
       "      <th>month_year</th>\n",
       "      <th>yymmdd</th>\n",
       "      <th>open</th>\n",
       "      <th>high</th>\n",
       "      <th>low</th>\n",
       "      <th>close</th>\n",
       "      <th>volume</th>\n",
       "      <th>open_interest</th>\n",
       "    </tr>\n",
       "  </thead>\n",
       "  <tbody>\n",
       "    <tr>\n",
       "      <th>242995</th>\n",
       "      <td>JZ</td>\n",
       "      <td>2099Z</td>\n",
       "      <td>190625.0</td>\n",
       "      <td>0102061.4100093100093</td>\n",
       "      <td>0</td>\n",
       "      <td>0.0</td>\n",
       "      <td>NaN</td>\n",
       "      <td>0.0</td>\n",
       "      <td>NaN</td>\n",
       "    </tr>\n",
       "    <tr>\n",
       "      <th>247048</th>\n",
       "      <td>JZ</td>\n",
       "      <td>2099Z</td>\n",
       "      <td>190627.0</td>\n",
       "      <td>0101025100724100724</td>\n",
       "      <td>0</td>\n",
       "      <td>0.0</td>\n",
       "      <td>NaN</td>\n",
       "      <td>0.0</td>\n",
       "      <td>NaN</td>\n",
       "    </tr>\n",
       "  </tbody>\n",
       "</table>\n",
       "</div>"
      ],
      "text/plain": [
       "       contract month_year    yymmdd                   open high  low  close  \\\n",
       "242995       JZ      2099Z  190625.0  0102061.4100093100093    0  0.0    NaN   \n",
       "247048       JZ      2099Z  190627.0    0101025100724100724    0  0.0    NaN   \n",
       "\n",
       "        volume  open_interest  \n",
       "242995     0.0            NaN  \n",
       "247048     0.0            NaN  "
      ]
     },
     "execution_count": 29,
     "metadata": {},
     "output_type": "execute_result"
    }
   ],
   "source": []
  },
  {
   "cell_type": "code",
   "execution_count": 30,
   "metadata": {},
   "outputs": [
    {
     "data": {
      "text/html": [
       "<div>\n",
       "<style scoped>\n",
       "    .dataframe tbody tr th:only-of-type {\n",
       "        vertical-align: middle;\n",
       "    }\n",
       "\n",
       "    .dataframe tbody tr th {\n",
       "        vertical-align: top;\n",
       "    }\n",
       "\n",
       "    .dataframe thead th {\n",
       "        text-align: right;\n",
       "    }\n",
       "</style>\n",
       "<table border=\"1\" class=\"dataframe\">\n",
       "  <thead>\n",
       "    <tr style=\"text-align: right;\">\n",
       "      <th></th>\n",
       "      <th>symbol</th>\n",
       "      <th>settle_date</th>\n",
       "      <th>open</th>\n",
       "      <th>high</th>\n",
       "      <th>low</th>\n",
       "      <th>close</th>\n",
       "      <th>adj_close</th>\n",
       "      <th>volume</th>\n",
       "      <th>open_interest</th>\n",
       "    </tr>\n",
       "  </thead>\n",
       "  <tbody>\n",
       "    <tr>\n",
       "      <th>0</th>\n",
       "      <td>NVZ99</td>\n",
       "      <td>20190101</td>\n",
       "      <td>36161.8000</td>\n",
       "      <td>36284.04000</td>\n",
       "      <td>35888.62000</td>\n",
       "      <td>36254.57000</td>\n",
       "      <td>36254.57000</td>\n",
       "      <td>0</td>\n",
       "      <td>0</td>\n",
       "    </tr>\n",
       "    <tr>\n",
       "      <th>1</th>\n",
       "      <td>A6Z99</td>\n",
       "      <td>20190102</td>\n",
       "      <td>0.7051</td>\n",
       "      <td>0.70519</td>\n",
       "      <td>0.69812</td>\n",
       "      <td>0.69833</td>\n",
       "      <td>0.69833</td>\n",
       "      <td>0</td>\n",
       "      <td>0</td>\n",
       "    </tr>\n",
       "    <tr>\n",
       "      <th>2</th>\n",
       "      <td>A6F19</td>\n",
       "      <td>20190102</td>\n",
       "      <td>0.7022</td>\n",
       "      <td>0.70440</td>\n",
       "      <td>0.69860</td>\n",
       "      <td>0.70000</td>\n",
       "      <td>0.70000</td>\n",
       "      <td>367</td>\n",
       "      <td>396</td>\n",
       "    </tr>\n",
       "    <tr>\n",
       "      <th>3</th>\n",
       "      <td>A6G19</td>\n",
       "      <td>20190102</td>\n",
       "      <td>0.7024</td>\n",
       "      <td>0.70530</td>\n",
       "      <td>0.69960</td>\n",
       "      <td>0.70050</td>\n",
       "      <td>0.70050</td>\n",
       "      <td>158</td>\n",
       "      <td>305</td>\n",
       "    </tr>\n",
       "    <tr>\n",
       "      <th>4</th>\n",
       "      <td>A6H19</td>\n",
       "      <td>20190102</td>\n",
       "      <td>0.7054</td>\n",
       "      <td>0.70590</td>\n",
       "      <td>0.69910</td>\n",
       "      <td>0.70080</td>\n",
       "      <td>0.70080</td>\n",
       "      <td>50795</td>\n",
       "      <td>120653</td>\n",
       "    </tr>\n",
       "  </tbody>\n",
       "</table>\n",
       "</div>"
      ],
      "text/plain": [
       "  symbol  settle_date        open         high          low        close  \\\n",
       "0  NVZ99     20190101  36161.8000  36284.04000  35888.62000  36254.57000   \n",
       "1  A6Z99     20190102      0.7051      0.70519      0.69812      0.69833   \n",
       "2  A6F19     20190102      0.7022      0.70440      0.69860      0.70000   \n",
       "3  A6G19     20190102      0.7024      0.70530      0.69960      0.70050   \n",
       "4  A6H19     20190102      0.7054      0.70590      0.69910      0.70080   \n",
       "\n",
       "     adj_close  volume  open_interest  \n",
       "0  36254.57000       0              0  \n",
       "1      0.69833       0              0  \n",
       "2      0.70000     367            396  \n",
       "3      0.70050     158            305  \n",
       "4      0.70080   50795         120653  "
      ]
     },
     "execution_count": 30,
     "metadata": {},
     "output_type": "execute_result"
    }
   ],
   "source": [
    "df_temp = df_all.copy()#.iloc[:1000]\n",
    "isnas = df_temp.yymmdd.isna()\n",
    "df_temp = df_temp[~isnas]\n",
    "df_temp = df_temp[~df_temp.open_interest.isna()]\n",
    "df_temp.volume = df_temp.volume.fillna(0)\n",
    "df_temp = df_temp[df_temp.open.astype(str).str.count('\\.')<=1]\n",
    "df_temp.index = list(range(len(df_temp)))\n",
    "df_temp.loc[df_temp.month_year=='Y','month_year'] = '2099Z'\n",
    "symbols = df_temp.contract + df_temp.month_year.str.slice(-1,)  + df_temp.month_year.str.slice(2,4)\n",
    "settle_dates = ('20' + df_temp.yymmdd.astype(str)).astype(float).astype(int)\n",
    "opens = df_temp.open.astype(float)\n",
    "highs = df_temp.high.astype(float)\n",
    "lows = df_temp.low.astype(float)\n",
    "closes = df_temp.close.astype(float)\n",
    "volumes = df_temp.volume.astype(int)\n",
    "open_interests = df_temp.open_interest.astype(int)\n",
    "df_final = pd.DataFrame({'symbol':symbols,\n",
    "    'settle_date':settle_dates,\n",
    "    'open':opens,\n",
    "    'high':highs,\n",
    "    'low':lows,\n",
    "    'close':closes,\n",
    "    'adj_close':closes,\n",
    "    'volume':volumes,\n",
    "    'open_interest':open_interests})\n",
    "df_final.head()"
   ]
  },
  {
   "cell_type": "markdown",
   "metadata": {},
   "source": [
    "#### add month_num to df_final"
   ]
  },
  {
   "cell_type": "code",
   "execution_count": 31,
   "metadata": {},
   "outputs": [
    {
     "data": {
      "text/html": [
       "<div>\n",
       "<style scoped>\n",
       "    .dataframe tbody tr th:only-of-type {\n",
       "        vertical-align: middle;\n",
       "    }\n",
       "\n",
       "    .dataframe tbody tr th {\n",
       "        vertical-align: top;\n",
       "    }\n",
       "\n",
       "    .dataframe thead th {\n",
       "        text-align: right;\n",
       "    }\n",
       "</style>\n",
       "<table border=\"1\" class=\"dataframe\">\n",
       "  <thead>\n",
       "    <tr style=\"text-align: right;\">\n",
       "      <th></th>\n",
       "      <th>month_num</th>\n",
       "      <th>mmm</th>\n",
       "      <th>month_code</th>\n",
       "    </tr>\n",
       "  </thead>\n",
       "  <tbody>\n",
       "    <tr>\n",
       "      <th>0</th>\n",
       "      <td>1</td>\n",
       "      <td>jan</td>\n",
       "      <td>F</td>\n",
       "    </tr>\n",
       "    <tr>\n",
       "      <th>1</th>\n",
       "      <td>2</td>\n",
       "      <td>feb</td>\n",
       "      <td>G</td>\n",
       "    </tr>\n",
       "    <tr>\n",
       "      <th>2</th>\n",
       "      <td>3</td>\n",
       "      <td>mar</td>\n",
       "      <td>H</td>\n",
       "    </tr>\n",
       "    <tr>\n",
       "      <th>3</th>\n",
       "      <td>4</td>\n",
       "      <td>apr</td>\n",
       "      <td>J</td>\n",
       "    </tr>\n",
       "    <tr>\n",
       "      <th>4</th>\n",
       "      <td>5</td>\n",
       "      <td>may</td>\n",
       "      <td>K</td>\n",
       "    </tr>\n",
       "    <tr>\n",
       "      <th>5</th>\n",
       "      <td>6</td>\n",
       "      <td>jun</td>\n",
       "      <td>M</td>\n",
       "    </tr>\n",
       "    <tr>\n",
       "      <th>6</th>\n",
       "      <td>7</td>\n",
       "      <td>jul</td>\n",
       "      <td>N</td>\n",
       "    </tr>\n",
       "    <tr>\n",
       "      <th>7</th>\n",
       "      <td>8</td>\n",
       "      <td>aug</td>\n",
       "      <td>Q</td>\n",
       "    </tr>\n",
       "    <tr>\n",
       "      <th>8</th>\n",
       "      <td>9</td>\n",
       "      <td>sep</td>\n",
       "      <td>U</td>\n",
       "    </tr>\n",
       "    <tr>\n",
       "      <th>9</th>\n",
       "      <td>10</td>\n",
       "      <td>oct</td>\n",
       "      <td>V</td>\n",
       "    </tr>\n",
       "    <tr>\n",
       "      <th>10</th>\n",
       "      <td>11</td>\n",
       "      <td>nov</td>\n",
       "      <td>X</td>\n",
       "    </tr>\n",
       "    <tr>\n",
       "      <th>11</th>\n",
       "      <td>12</td>\n",
       "      <td>dec</td>\n",
       "      <td>Z</td>\n",
       "    </tr>\n",
       "  </tbody>\n",
       "</table>\n",
       "</div>"
      ],
      "text/plain": [
       "    month_num  mmm month_code\n",
       "0           1  jan          F\n",
       "1           2  feb          G\n",
       "2           3  mar          H\n",
       "3           4  apr          J\n",
       "4           5  may          K\n",
       "5           6  jun          M\n",
       "6           7  jul          N\n",
       "7           8  aug          Q\n",
       "8           9  sep          U\n",
       "9          10  oct          V\n",
       "10         11  nov          X\n",
       "11         12  dec          Z"
      ]
     },
     "execution_count": 31,
     "metadata": {},
     "output_type": "execute_result"
    }
   ],
   "source": [
    "df_monthnum = pd.read_csv('month_codes.csv')\n",
    "df_monthnum"
   ]
  },
  {
   "cell_type": "code",
   "execution_count": 32,
   "metadata": {},
   "outputs": [
    {
     "data": {
      "text/plain": [
       "array(['NV', 'A6', 'AE', 'AP', 'B6', 'BG', 'BT', 'CA', 'CB', 'CC', 'CE',\n",
       "       'CG', 'CL', 'CT', 'D6', 'DL', 'DS', 'DX', 'DY', 'E6', 'EF', 'ES',\n",
       "       'EW', 'F', 'FS', 'FX', 'G', 'GC', 'GD', 'GE', 'GF', 'GG', 'GH',\n",
       "       'HE', 'HF', 'HG', 'HO', 'HR', 'HS', 'II', 'IM', 'IR', 'J6', 'JX',\n",
       "       'JZ', 'KC', 'KE', 'KL', 'KS', 'L', 'L6', 'LE', 'LF', 'LS', 'LX',\n",
       "       'M6', 'MJ', 'MW', 'MX', 'N6', 'NF', 'NG', 'NQ', 'NX', 'NY', 'OJ',\n",
       "       'PA', 'PL', 'QR', 'RB', 'RM', 'RS', 'S6', 'SB', 'SD', 'SI', 'SL',\n",
       "       'SP', 'SV', 'SW', 'T6', 'TI', 'TP', 'UD', 'VI', 'VS', 'WI', 'WT',\n",
       "       'X', 'XG', 'XH', 'YC', 'YK', 'YM', 'YT', 'YU', 'YW', 'ZB', 'ZC',\n",
       "       'ZF', 'ZK', 'ZL', 'ZM', 'ZN', 'ZO', 'ZQ', 'ZR', 'ZS', 'ZT', 'ZW',\n",
       "       'CF', 'SZ'], dtype=object)"
      ]
     },
     "execution_count": 32,
     "metadata": {},
     "output_type": "execute_result"
    }
   ],
   "source": [
    "df_final.symbol.str.slice(0,-3).unique()"
   ]
  },
  {
   "cell_type": "code",
   "execution_count": 33,
   "metadata": {},
   "outputs": [
    {
     "data": {
      "text/plain": [
       "array(['Z', 'F', 'G', 'H', 'J', 'M', 'U', 'K', 'N', 'Q', 'V', 'X'],\n",
       "      dtype=object)"
      ]
     },
     "metadata": {},
     "output_type": "display_data"
    },
    {
     "name": "stderr",
     "output_type": "stream",
     "text": [
      "/Users/bperlman1/Virtualenvs3/pyliverisk/lib/python3.6/site-packages/ipykernel_launcher.py:9: SettingWithCopyWarning: \n",
      "A value is trying to be set on a copy of a slice from a DataFrame.\n",
      "Try using .loc[row_indexer,col_indexer] = value instead\n",
      "\n",
      "See the caveats in the documentation: http://pandas.pydata.org/pandas-docs/stable/indexing.html#indexing-view-versus-copy\n",
      "  if __name__ == '__main__':\n",
      "/Users/bperlman1/Virtualenvs3/pyliverisk/lib/python3.6/site-packages/ipykernel_launcher.py:10: SettingWithCopyWarning: \n",
      "A value is trying to be set on a copy of a slice from a DataFrame.\n",
      "Try using .loc[row_indexer,col_indexer] = value instead\n",
      "\n",
      "See the caveats in the documentation: http://pandas.pydata.org/pandas-docs/stable/indexing.html#indexing-view-versus-copy\n",
      "  # Remove the CWD from sys.path while we load stuff.\n"
     ]
    },
    {
     "name": "stdout",
     "output_type": "stream",
     "text": [
      "250139 250139\n"
     ]
    }
   ],
   "source": [
    "dfu2 = df_final.copy()\n",
    "dfu2['contract'] = dfu2.symbol.str.slice(0,-3)\n",
    "dfu2['year'] = dfu2.symbol.apply(lambda s: 2000 + int(s[-2:]))\n",
    "dfu2['month_code'] = dfu2.symbol.str.slice(-3,-2)\n",
    "dfu3 = dfu2.merge(df_monthnum,on='month_code',how='inner')\n",
    "dfu3['yyyymm'] = dfu3.year*100+dfu3.month_num\n",
    "display(dfu2.month_code.unique())\n",
    "dfu4 = dfu3[['contract','symbol','settle_date','yyyymm']]\n",
    "dfu4['contract_num'] =dfu4[['contract','settle_date','yyyymm']].groupby(['contract','settle_date']).yyyymm.rank()\n",
    "dfu4['contract_num'] = dfu4['contract_num'].astype(int)\n",
    "dfu4 = dfu4.sort_values(['settle_date','contract','yyyymm'])\n",
    "dfu4.index = list(range(len(dfu4)))\n",
    "print(len(df_final),len(dfu4))\n",
    "dfu5 = df_final.merge(dfu4[['symbol','settle_date','contract_num']],on=['symbol','settle_date'])\n",
    "dfu5.index = list(range(len(dfu5)))\n",
    "dfu5.open=dfu5.open.round(8)\n",
    "dfu5.high=dfu5.high.round(8)\n",
    "dfu5.low=dfu5.low.round(8)\n",
    "dfu5.close=dfu5.close.round(8)\n",
    "dfu5.adj_close = dfu5.adj_close.round(8)\n",
    "\n"
   ]
  },
  {
   "cell_type": "code",
   "execution_count": 34,
   "metadata": {},
   "outputs": [
    {
     "data": {
      "text/plain": [
       "(250154, 250139, 250139)"
      ]
     },
     "execution_count": 34,
     "metadata": {},
     "output_type": "execute_result"
    }
   ],
   "source": [
    "len(df_all),len(df_final),len(dfu5)"
   ]
  },
  {
   "cell_type": "markdown",
   "metadata": {},
   "source": [
    "#### Are there dupes??"
   ]
  },
  {
   "cell_type": "code",
   "execution_count": 35,
   "metadata": {},
   "outputs": [
    {
     "data": {
      "text/plain": [
       "False"
      ]
     },
     "execution_count": 35,
     "metadata": {},
     "output_type": "execute_result"
    }
   ],
   "source": [
    "ag = ['symbol','settle_date']\n",
    "df_counts = dfu5[ag+['close']].groupby(ag,as_index=False).count()\n",
    "dupes_exist  = len(df_counts[df_counts.close>1])>0\n",
    "dupes_exist"
   ]
  },
  {
   "cell_type": "markdown",
   "metadata": {},
   "source": [
    "#### if there are dupes, get rid of them"
   ]
  },
  {
   "cell_type": "code",
   "execution_count": 36,
   "metadata": {},
   "outputs": [],
   "source": [
    "if dupes_exist > 0:\n",
    "    dfu5 = dfu5.drop_duplicates()\n",
    "    dfu5.index = list(range(len(dfu5)))\n",
    "    "
   ]
  },
  {
   "cell_type": "markdown",
   "metadata": {},
   "source": [
    "#### show unique contract_num numbers"
   ]
  },
  {
   "cell_type": "code",
   "execution_count": 37,
   "metadata": {},
   "outputs": [
    {
     "data": {
      "text/plain": [
       "array([  1,  24,   2,   3,   4,   5,   6,   7,   8,   9,  10,  11,  12,\n",
       "        13,  14,  15,  16,  17,  18,  19,  20,  21,  22,  23,  86,  25,\n",
       "        26,  27,  28,  29,  30,  31,  32,  33,  34,  35,  36,  37,  38,\n",
       "        39,  40,  41,  42,  43,  44,  45,  46,  47,  48,  49,  50,  51,\n",
       "        52,  53,  54,  55,  56,  57,  58,  59,  60,  61,  62,  63,  64,\n",
       "        65,  66,  67,  68,  69,  70,  71,  72,  73,  74,  75,  76,  77,\n",
       "        78,  79,  80,  81,  82,  83,  84,  85, 110,  87,  88,  89,  90,\n",
       "        91,  92,  93,  94,  95,  96,  97,  98,  99, 100, 101, 102, 103,\n",
       "       104, 105, 106, 107, 108, 109, 120, 111, 112, 113, 114, 115, 116,\n",
       "       117, 118, 119])"
      ]
     },
     "execution_count": 37,
     "metadata": {},
     "output_type": "execute_result"
    }
   ],
   "source": [
    "dfu5.contract_num.unique()"
   ]
  },
  {
   "cell_type": "markdown",
   "metadata": {},
   "source": [
    "### NOW WRITE THE DATA FOR ALL YEARs\n"
   ]
  },
  {
   "cell_type": "markdown",
   "metadata": {},
   "source": [
    "#### First create an instance of PgPandas"
   ]
  },
  {
   "cell_type": "code",
   "execution_count": 38,
   "metadata": {},
   "outputs": [
    {
     "name": "stdout",
     "output_type": "stream",
     "text": [
      "/Users/bperlman1/Documents/billybyte/pyliverisk/barchartacs/barchartacs/temp_folder/df_all_temp.csv\n",
      "  sec_db\n",
      "sec_schema.underlying_table\n",
      "['symbol', 'settle_date', 'contract_num', 'open', 'high', 'low', 'close', 'adj_close', 'volume', 'open_interest']\n",
      "creating csv file ./temp_folder/df_all_temp.csv: 2019-07-04 11:27:13.141618\n"
     ]
    },
    {
     "name": "stderr",
     "output_type": "stream",
     "text": [
      "/Users/bperlman1/Virtualenvs3/pyliverisk/lib/python3.6/site-packages/psycopg2/__init__.py:144: UserWarning: The psycopg2 wheel package will be renamed from release 2.8; in order to keep installing from binary please use \"pip install psycopg2-binary\" instead. For details see: <http://initd.org/psycopg/docs/install.html#binary-install-from-pypi>.\n",
      "  \"\"\")\n"
     ]
    }
   ],
   "source": [
    "csv_temp_path = './temp_folder/df_all_temp.csv'\n",
    "print(os.path.abspath(csv_temp_path))\n",
    "pga = db_info.get_db_info()\n",
    "tbname = 'sec_schema.underlying_table'\n",
    "print(tbname)\n",
    "col_tuple_list =   [('symbol','text'),('settle_date','integer'),('contract_num','integer'),\n",
    "     ('open','numeric'),('high','numeric'),('low','numeric'),('close','numeric'),\n",
    "     ('adj_close','numeric'),('volume','integer'),('open_interest','integer')]\n",
    "col_list = [l[0] for l in col_tuple_list]\n",
    "print(col_list)\n",
    "print(f'creating csv file {csv_temp_path}: {datetime.datetime.now()}')\n",
    "dfu5[col_list].to_csv(csv_temp_path,index=False)\n"
   ]
  },
  {
   "cell_type": "markdown",
   "metadata": {},
   "source": [
    "#### Delete all rows if necessary"
   ]
  },
  {
   "cell_type": "code",
   "execution_count": 43,
   "metadata": {},
   "outputs": [
    {
     "data": {
      "text/plain": [
       "(False, False)"
      ]
     },
     "execution_count": 43,
     "metadata": {},
     "output_type": "execute_result"
    }
   ],
   "source": [
    "DELETE_ALL,WRITE_DATA"
   ]
  },
  {
   "cell_type": "code",
   "execution_count": 41,
   "metadata": {},
   "outputs": [
    {
     "data": {
      "text/html": [
       "<div>\n",
       "<style scoped>\n",
       "    .dataframe tbody tr th:only-of-type {\n",
       "        vertical-align: middle;\n",
       "    }\n",
       "\n",
       "    .dataframe tbody tr th {\n",
       "        vertical-align: top;\n",
       "    }\n",
       "\n",
       "    .dataframe thead th {\n",
       "        text-align: right;\n",
       "    }\n",
       "</style>\n",
       "<table border=\"1\" class=\"dataframe\">\n",
       "  <thead>\n",
       "    <tr style=\"text-align: right;\">\n",
       "      <th></th>\n",
       "      <th>count</th>\n",
       "    </tr>\n",
       "  </thead>\n",
       "  <tbody>\n",
       "    <tr>\n",
       "      <th>0</th>\n",
       "      <td>4708633</td>\n",
       "    </tr>\n",
       "  </tbody>\n",
       "</table>\n",
       "</div>"
      ],
      "text/plain": [
       "     count\n",
       "0  4708633"
      ]
     },
     "execution_count": 41,
     "metadata": {},
     "output_type": "execute_result"
    }
   ],
   "source": [
    "\n",
    "if DELETE_ALL:\n",
    "    # drop table\n",
    "    sql = f\"drop table IF EXISTS {tbname}\"\n",
    "    pga.exec_sql_raw(sql) \n",
    "    # re create it\n",
    "    table_create = f'create table {tbname}('\n",
    "    table_create += ','.join([f\"{l[0]} {l[1]} not null\" for l in col_tuple_list])\n",
    "    table_create += ', primary key(symbol,settle_date));'\n",
    "    pga.exec_sql_raw(table_create) \n",
    "    \n",
    "pga.get_sql(f\"select count(*) from {tbname}\")"
   ]
  },
  {
   "cell_type": "code",
   "execution_count": 42,
   "metadata": {},
   "outputs": [
    {
     "data": {
      "text/plain": [
       "['symbol',\n",
       " 'settle_date',\n",
       " 'contract_num',\n",
       " 'open',\n",
       " 'high',\n",
       " 'low',\n",
       " 'close',\n",
       " 'adj_close',\n",
       " 'volume',\n",
       " 'open_interest']"
      ]
     },
     "execution_count": 42,
     "metadata": {},
     "output_type": "execute_result"
    }
   ],
   "source": [
    "col_list"
   ]
  },
  {
   "cell_type": "code",
   "execution_count": 44,
   "metadata": {},
   "outputs": [],
   "source": [
    "if WRITE_DATA:\n",
    "    clist = [l[0] for l in col_list]\n",
    "    print(f'writing data all to database BEGIN: {datetime.datetime.now()}')\n",
    "    abspath = os.path.abspath(csv_temp_path)\n",
    "    sql = f\"COPY {tbname} FROM '{abspath}' DELIMITER ',' CSV HEADER;\"\n",
    "#     sql = f\"COPY sec_schema.underlying_table_test FROM '{abspath}' DELIMITER ',' CSV HEADER;\"\n",
    "    print(sql)\n",
    "#     pga.exec_sql_raw(sql) \n",
    "    print('open Dbeaver and copy the sql COPY command into it and execute it')\n",
    "    print(f'writing data all to database END: {datetime.datetime.now()}')\n",
    "    pass"
   ]
  },
  {
   "cell_type": "code",
   "execution_count": 108,
   "metadata": {},
   "outputs": [
    {
     "name": "stdout",
     "output_type": "stream",
     "text": [
      "select * from sec_schema.underlying_table where substring(symbol,1,2) = 'CB'   limit 3;\n"
     ]
    },
    {
     "data": {
      "text/html": [
       "<div>\n",
       "<style scoped>\n",
       "    .dataframe tbody tr th:only-of-type {\n",
       "        vertical-align: middle;\n",
       "    }\n",
       "\n",
       "    .dataframe tbody tr th {\n",
       "        vertical-align: top;\n",
       "    }\n",
       "\n",
       "    .dataframe thead th {\n",
       "        text-align: right;\n",
       "    }\n",
       "</style>\n",
       "<table border=\"1\" class=\"dataframe\">\n",
       "  <thead>\n",
       "    <tr style=\"text-align: right;\">\n",
       "      <th></th>\n",
       "      <th>symbol</th>\n",
       "      <th>settle_date</th>\n",
       "      <th>contract_num</th>\n",
       "      <th>open</th>\n",
       "      <th>high</th>\n",
       "      <th>low</th>\n",
       "      <th>close</th>\n",
       "      <th>adj_close</th>\n",
       "      <th>volume</th>\n",
       "      <th>open_interest</th>\n",
       "    </tr>\n",
       "  </thead>\n",
       "  <tbody>\n",
       "    <tr>\n",
       "      <th>0</th>\n",
       "      <td>CBZ99</td>\n",
       "      <td>20100901</td>\n",
       "      <td>70</td>\n",
       "      <td>75.64</td>\n",
       "      <td>75.64</td>\n",
       "      <td>75.64</td>\n",
       "      <td>75.64</td>\n",
       "      <td>75.64</td>\n",
       "      <td>0</td>\n",
       "      <td>0</td>\n",
       "    </tr>\n",
       "    <tr>\n",
       "      <th>1</th>\n",
       "      <td>CBV10</td>\n",
       "      <td>20100901</td>\n",
       "      <td>1</td>\n",
       "      <td>74.46</td>\n",
       "      <td>76.76</td>\n",
       "      <td>74.42</td>\n",
       "      <td>76.35</td>\n",
       "      <td>76.35</td>\n",
       "      <td>188333</td>\n",
       "      <td>208390</td>\n",
       "    </tr>\n",
       "    <tr>\n",
       "      <th>2</th>\n",
       "      <td>CBX10</td>\n",
       "      <td>20100901</td>\n",
       "      <td>2</td>\n",
       "      <td>74.76</td>\n",
       "      <td>77.14</td>\n",
       "      <td>74.75</td>\n",
       "      <td>76.72</td>\n",
       "      <td>76.72</td>\n",
       "      <td>90252</td>\n",
       "      <td>169853</td>\n",
       "    </tr>\n",
       "  </tbody>\n",
       "</table>\n",
       "</div>"
      ],
      "text/plain": [
       "  symbol  settle_date  contract_num   open   high    low  close  adj_close  \\\n",
       "0  CBZ99     20100901            70  75.64  75.64  75.64  75.64      75.64   \n",
       "1  CBV10     20100901             1  74.46  76.76  74.42  76.35      76.35   \n",
       "2  CBX10     20100901             2  74.76  77.14  74.75  76.72      76.72   \n",
       "\n",
       "   volume  open_interest  \n",
       "0       0              0  \n",
       "1  188333         208390  \n",
       "2   90252         169853  "
      ]
     },
     "metadata": {},
     "output_type": "display_data"
    },
    {
     "name": "stdout",
     "output_type": "stream",
     "text": [
      "select * from sec_schema.underlying_table where substring(symbol,1,2) = 'CB' and substring(symbol,3,1) in ('G','N')  limit 3;\n"
     ]
    },
    {
     "data": {
      "text/html": [
       "<div>\n",
       "<style scoped>\n",
       "    .dataframe tbody tr th:only-of-type {\n",
       "        vertical-align: middle;\n",
       "    }\n",
       "\n",
       "    .dataframe tbody tr th {\n",
       "        vertical-align: top;\n",
       "    }\n",
       "\n",
       "    .dataframe thead th {\n",
       "        text-align: right;\n",
       "    }\n",
       "</style>\n",
       "<table border=\"1\" class=\"dataframe\">\n",
       "  <thead>\n",
       "    <tr style=\"text-align: right;\">\n",
       "      <th></th>\n",
       "      <th>symbol</th>\n",
       "      <th>settle_date</th>\n",
       "      <th>contract_num</th>\n",
       "      <th>open</th>\n",
       "      <th>high</th>\n",
       "      <th>low</th>\n",
       "      <th>close</th>\n",
       "      <th>adj_close</th>\n",
       "      <th>volume</th>\n",
       "      <th>open_interest</th>\n",
       "    </tr>\n",
       "  </thead>\n",
       "  <tbody>\n",
       "    <tr>\n",
       "      <th>0</th>\n",
       "      <td>CBG11</td>\n",
       "      <td>20100901</td>\n",
       "      <td>5</td>\n",
       "      <td>76.76</td>\n",
       "      <td>78.80</td>\n",
       "      <td>76.76</td>\n",
       "      <td>78.52</td>\n",
       "      <td>78.52</td>\n",
       "      <td>8166</td>\n",
       "      <td>26056</td>\n",
       "    </tr>\n",
       "    <tr>\n",
       "      <th>1</th>\n",
       "      <td>CBN11</td>\n",
       "      <td>20100901</td>\n",
       "      <td>10</td>\n",
       "      <td>0.00</td>\n",
       "      <td>81.24</td>\n",
       "      <td>81.24</td>\n",
       "      <td>81.24</td>\n",
       "      <td>81.24</td>\n",
       "      <td>1787</td>\n",
       "      <td>8237</td>\n",
       "    </tr>\n",
       "    <tr>\n",
       "      <th>2</th>\n",
       "      <td>CBG12</td>\n",
       "      <td>20100901</td>\n",
       "      <td>17</td>\n",
       "      <td>0.00</td>\n",
       "      <td>83.77</td>\n",
       "      <td>83.77</td>\n",
       "      <td>83.77</td>\n",
       "      <td>83.77</td>\n",
       "      <td>0</td>\n",
       "      <td>1579</td>\n",
       "    </tr>\n",
       "  </tbody>\n",
       "</table>\n",
       "</div>"
      ],
      "text/plain": [
       "  symbol  settle_date  contract_num   open   high    low  close  adj_close  \\\n",
       "0  CBG11     20100901             5  76.76  78.80  76.76  78.52      78.52   \n",
       "1  CBN11     20100901            10   0.00  81.24  81.24  81.24      81.24   \n",
       "2  CBG12     20100901            17   0.00  83.77  83.77  83.77      83.77   \n",
       "\n",
       "   volume  open_interest  \n",
       "0    8166          26056  \n",
       "1    1787           8237  \n",
       "2       0           1579  "
      ]
     },
     "metadata": {},
     "output_type": "display_data"
    }
   ],
   "source": [
    "def get_data_by_contract(pga,contract,\n",
    "            month_code_clause=None,\n",
    "             settle_date_clause=None,\n",
    "             limit=None):\n",
    "    futtab = tbname\n",
    "    cl_month_code = '' if month_code_clause is None else f\"and substring(symbol,3,1) {month_code_clause}\"\n",
    "    cl_sd = '' if settle_date_clause is None else f\"and 'settle_date {settle_date_clause}\"\n",
    "    clim = '' if limit is None else f\"limit {limit}\"\n",
    "    other_criteria = f'{cl_month_code} {cl_sd} {clim}'\n",
    "    sql = f\"select * from {tbname} where substring(symbol,1,2) = '{contract}' {other_criteria};\"\n",
    "    print(sql)\n",
    "    df=  pga.get_sql(sql)\n",
    "    return df\n",
    "\n",
    "dfc = get_data_by_contract(pga,'CB',limit=3)\n",
    "display(dfc)\n",
    "dfc = get_data_by_contract(pga,'CB',month_code_clause=\"in ('G','N')\",limit=3)\n",
    "display(dfc)\n"
   ]
  },
  {
   "cell_type": "code",
   "execution_count": 109,
   "metadata": {},
   "outputs": [
    {
     "data": {
      "text/html": [
       "<div>\n",
       "<style scoped>\n",
       "    .dataframe tbody tr th:only-of-type {\n",
       "        vertical-align: middle;\n",
       "    }\n",
       "\n",
       "    .dataframe tbody tr th {\n",
       "        vertical-align: top;\n",
       "    }\n",
       "\n",
       "    .dataframe thead th {\n",
       "        text-align: right;\n",
       "    }\n",
       "</style>\n",
       "<table border=\"1\" class=\"dataframe\">\n",
       "  <thead>\n",
       "    <tr style=\"text-align: right;\">\n",
       "      <th></th>\n",
       "      <th>symbol</th>\n",
       "      <th>settle_date</th>\n",
       "      <th>contract_num</th>\n",
       "      <th>open</th>\n",
       "      <th>high</th>\n",
       "      <th>low</th>\n",
       "      <th>close</th>\n",
       "      <th>adj_close</th>\n",
       "      <th>volume</th>\n",
       "      <th>open_interest</th>\n",
       "    </tr>\n",
       "  </thead>\n",
       "  <tbody>\n",
       "    <tr>\n",
       "      <th>0</th>\n",
       "      <td>A6Z99</td>\n",
       "      <td>20100901</td>\n",
       "      <td>7</td>\n",
       "      <td>0.8908</td>\n",
       "      <td>0.9115</td>\n",
       "      <td>0.8902</td>\n",
       "      <td>0.9115</td>\n",
       "      <td>0.9115</td>\n",
       "      <td>0</td>\n",
       "      <td>0</td>\n",
       "    </tr>\n",
       "    <tr>\n",
       "      <th>1</th>\n",
       "      <td>A6U10</td>\n",
       "      <td>20100901</td>\n",
       "      <td>1</td>\n",
       "      <td>0.8910</td>\n",
       "      <td>0.9104</td>\n",
       "      <td>0.8900</td>\n",
       "      <td>0.9072</td>\n",
       "      <td>0.9072</td>\n",
       "      <td>105813</td>\n",
       "      <td>98993</td>\n",
       "    </tr>\n",
       "    <tr>\n",
       "      <th>2</th>\n",
       "      <td>A6Z10</td>\n",
       "      <td>20100901</td>\n",
       "      <td>2</td>\n",
       "      <td>0.8820</td>\n",
       "      <td>0.9001</td>\n",
       "      <td>0.8808</td>\n",
       "      <td>0.8974</td>\n",
       "      <td>0.8974</td>\n",
       "      <td>451</td>\n",
       "      <td>3282</td>\n",
       "    </tr>\n",
       "    <tr>\n",
       "      <th>3</th>\n",
       "      <td>A6H11</td>\n",
       "      <td>20100901</td>\n",
       "      <td>3</td>\n",
       "      <td>0.0000</td>\n",
       "      <td>0.8878</td>\n",
       "      <td>0.8681</td>\n",
       "      <td>0.8878</td>\n",
       "      <td>0.8878</td>\n",
       "      <td>0</td>\n",
       "      <td>8</td>\n",
       "    </tr>\n",
       "    <tr>\n",
       "      <th>4</th>\n",
       "      <td>A6M11</td>\n",
       "      <td>20100901</td>\n",
       "      <td>4</td>\n",
       "      <td>0.0000</td>\n",
       "      <td>0.8782</td>\n",
       "      <td>0.8589</td>\n",
       "      <td>0.8782</td>\n",
       "      <td>0.8782</td>\n",
       "      <td>0</td>\n",
       "      <td>152</td>\n",
       "    </tr>\n",
       "    <tr>\n",
       "      <th>5</th>\n",
       "      <td>A6U11</td>\n",
       "      <td>20100901</td>\n",
       "      <td>5</td>\n",
       "      <td>0.0000</td>\n",
       "      <td>0.8686</td>\n",
       "      <td>0.8493</td>\n",
       "      <td>0.8686</td>\n",
       "      <td>0.8686</td>\n",
       "      <td>0</td>\n",
       "      <td>4</td>\n",
       "    </tr>\n",
       "    <tr>\n",
       "      <th>6</th>\n",
       "      <td>A6Z11</td>\n",
       "      <td>20100901</td>\n",
       "      <td>6</td>\n",
       "      <td>0.0000</td>\n",
       "      <td>0.8590</td>\n",
       "      <td>0.8397</td>\n",
       "      <td>0.8590</td>\n",
       "      <td>0.8590</td>\n",
       "      <td>0</td>\n",
       "      <td>0</td>\n",
       "    </tr>\n",
       "    <tr>\n",
       "      <th>7</th>\n",
       "      <td>ADZ99</td>\n",
       "      <td>20100901</td>\n",
       "      <td>7</td>\n",
       "      <td>0.8908</td>\n",
       "      <td>0.9115</td>\n",
       "      <td>0.8902</td>\n",
       "      <td>0.9115</td>\n",
       "      <td>0.9115</td>\n",
       "      <td>0</td>\n",
       "      <td>0</td>\n",
       "    </tr>\n",
       "    <tr>\n",
       "      <th>8</th>\n",
       "      <td>ADU10</td>\n",
       "      <td>20100901</td>\n",
       "      <td>1</td>\n",
       "      <td>0.9032</td>\n",
       "      <td>0.9080</td>\n",
       "      <td>0.9032</td>\n",
       "      <td>0.9072</td>\n",
       "      <td>0.9072</td>\n",
       "      <td>105813</td>\n",
       "      <td>98993</td>\n",
       "    </tr>\n",
       "    <tr>\n",
       "      <th>9</th>\n",
       "      <td>ADZ10</td>\n",
       "      <td>20100901</td>\n",
       "      <td>2</td>\n",
       "      <td>0.8972</td>\n",
       "      <td>0.8974</td>\n",
       "      <td>0.8972</td>\n",
       "      <td>0.8974</td>\n",
       "      <td>0.8974</td>\n",
       "      <td>451</td>\n",
       "      <td>3282</td>\n",
       "    </tr>\n",
       "  </tbody>\n",
       "</table>\n",
       "</div>"
      ],
      "text/plain": [
       "  symbol  settle_date  contract_num    open    high     low   close  \\\n",
       "0  A6Z99     20100901             7  0.8908  0.9115  0.8902  0.9115   \n",
       "1  A6U10     20100901             1  0.8910  0.9104  0.8900  0.9072   \n",
       "2  A6Z10     20100901             2  0.8820  0.9001  0.8808  0.8974   \n",
       "3  A6H11     20100901             3  0.0000  0.8878  0.8681  0.8878   \n",
       "4  A6M11     20100901             4  0.0000  0.8782  0.8589  0.8782   \n",
       "5  A6U11     20100901             5  0.0000  0.8686  0.8493  0.8686   \n",
       "6  A6Z11     20100901             6  0.0000  0.8590  0.8397  0.8590   \n",
       "7  ADZ99     20100901             7  0.8908  0.9115  0.8902  0.9115   \n",
       "8  ADU10     20100901             1  0.9032  0.9080  0.9032  0.9072   \n",
       "9  ADZ10     20100901             2  0.8972  0.8974  0.8972  0.8974   \n",
       "\n",
       "   adj_close  volume  open_interest  \n",
       "0     0.9115       0              0  \n",
       "1     0.9072  105813          98993  \n",
       "2     0.8974     451           3282  \n",
       "3     0.8878       0              8  \n",
       "4     0.8782       0            152  \n",
       "5     0.8686       0              4  \n",
       "6     0.8590       0              0  \n",
       "7     0.9115       0              0  \n",
       "8     0.9072  105813          98993  \n",
       "9     0.8974     451           3282  "
      ]
     },
     "execution_count": 109,
     "metadata": {},
     "output_type": "execute_result"
    }
   ],
   "source": [
    "pga.get_sql(\"select * from sec_schema.underlying_table limit 10\")\n"
   ]
  },
  {
   "cell_type": "code",
   "execution_count": null,
   "metadata": {},
   "outputs": [],
   "source": []
  }
 ],
 "metadata": {
  "kernelspec": {
   "display_name": "Python 3",
   "language": "python",
   "name": "python3"
  },
  "language_info": {
   "codemirror_mode": {
    "name": "ipython",
    "version": 3
   },
   "file_extension": ".py",
   "mimetype": "text/x-python",
   "name": "python",
   "nbconvert_exporter": "python",
   "pygments_lexer": "ipython3",
   "version": "3.6.5"
  }
 },
 "nbformat": 4,
 "nbformat_minor": 2
}
