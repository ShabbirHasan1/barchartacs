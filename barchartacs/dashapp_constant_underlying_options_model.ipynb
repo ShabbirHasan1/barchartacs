{
 "cells": [
  {
   "cell_type": "code",
   "execution_count": 1,
   "metadata": {},
   "outputs": [
    {
     "data": {
      "text/html": [
       "<style>.container { width:100% !important; }</style>"
      ],
      "text/plain": [
       "<IPython.core.display.HTML object>"
      ]
     },
     "metadata": {},
     "output_type": "display_data"
    }
   ],
   "source": [
    "import warnings\n",
    "warnings.filterwarnings(\"ignore\")\n",
    "from IPython.core.display import display, HTML\n",
    "display(HTML(\"<style>.container { width:100% !important; }</style>\"))"
   ]
  },
  {
   "cell_type": "markdown",
   "metadata": {},
   "source": [
    "* **This requires plotly 4.0 or greater** *\n",
    "\n",
    "### Dashapps to display:\n",
    "1. implied volatility vs time and price using a constant underlying price\n",
    "\n",
    "  * Calculate the implied volatility of each days options as if the underlying futures contract were  always some fixed value. For example, if the actual futures is 100, make that price 50, and then change all of the strike prices so that the strike prices are relative to the value 50.  \n",
    "\n",
    "    1. The 100 call would be a 50 dollar call.  \n",
    "    2. The 95 put would be a 45 dollar put.  \n",
    "    3. The 105 call would be a 55 dollar call\n",
    "   \n",
    "2. Historical vs Implied Vol\n"
   ]
  },
  {
   "cell_type": "code",
   "execution_count": 2,
   "metadata": {},
   "outputs": [],
   "source": [
    "import pandas as pd\n",
    "import numpy as np\n",
    "import datetime\n",
    "import sys\n",
    "import os\n",
    "if  not './' in sys.path:\n",
    "    sys.path.append('./')\n",
    "if  not '../' in sys.path:\n",
    "    sys.path.append('../')\n",
    "\n",
    "from dashapp import single_page_from_df as spfd\n",
    "# from dashapp import dashapp2 as dashapp\n",
    "import pyarrow as pa\n",
    "import redis\n",
    "import pdb"
   ]
  },
  {
   "cell_type": "code",
   "execution_count": 3,
   "metadata": {},
   "outputs": [],
   "source": [
    "redis_port = 6379\n",
    "redis_db = redis.Redis(host = 'localhost',port=6379,db=0)"
   ]
  },
  {
   "cell_type": "code",
   "execution_count": 4,
   "metadata": {},
   "outputs": [],
   "source": [
    "def get_redis_df(key):\n",
    "    context = pa.default_serialization_context()\n",
    "    df = context.deserialize(redis_db.get(key))\n",
    "    return df"
   ]
  },
  {
   "cell_type": "markdown",
   "metadata": {},
   "source": [
    "### Method to get constant volatility data from redis"
   ]
  },
  {
   "cell_type": "code",
   "execution_count": 5,
   "metadata": {},
   "outputs": [],
   "source": [
    "def get_cuv_imp_from_redis():\n",
    "    df_cuv_imp2 = get_redis_df('df_cuv_implied')\n",
    "    df_cuv_imp2['commod'] = df_cuv_imp2.symbol.str.slice(0,2)\n",
    "    df_cuv_imp2['contract_year'] = df_cuv_imp2.symbol.str.slice(-2,).astype(int) + 2000\n",
    "    return df_cuv_imp2\n",
    "        "
   ]
  },
  {
   "cell_type": "code",
   "execution_count": 114,
   "metadata": {
    "scrolled": true
   },
   "outputs": [
    {
     "name": "stderr",
     "output_type": "stream",
     "text": [
      "2020-07-17 17:11:46,154 - root - DEBUG - df_cuv_implied entering create_dt_div\n",
      "2020-07-17 17:11:46,157 - root - DEBUG - df_cuv_implied exiting create_dt_div\n",
      "2020-07-17 17:11:46,171 - root - INFO - This app will run at the URL: http://127.0.0.1:8814\n"
     ]
    },
    {
     "name": "stdout",
     "output_type": "stream",
     "text": [
      " * Serving Flask app \"dashapp.dashapp2\" (lazy loading)\n",
      " * Environment: production\n",
      "\u001b[31m   WARNING: This is a development server. Do not use it in a production deployment.\u001b[0m\n",
      "\u001b[2m   Use a production WSGI server instead.\u001b[0m\n",
      " * Debug mode: off\n"
     ]
    },
    {
     "name": "stderr",
     "output_type": "stream",
     "text": [
      "2020-07-17 17:11:46,182 - werkzeug - INFO -  * Running on http://127.0.0.1:8814/ (Press CTRL+C to quit)\n",
      "2020-07-17 17:11:48,963 - werkzeug - INFO - 127.0.0.1 - - [17/Jul/2020 17:11:48] \"\u001b[37mGET / HTTP/1.1\u001b[0m\" 200 -\n",
      "2020-07-17 17:11:49,114 - werkzeug - INFO - 127.0.0.1 - - [17/Jul/2020 17:11:49] \"\u001b[37mGET /_dash-dependencies HTTP/1.1\u001b[0m\" 200 -\n",
      "2020-07-17 17:11:49,115 - werkzeug - INFO - 127.0.0.1 - - [17/Jul/2020 17:11:49] \"\u001b[37mGET /_dash-layout HTTP/1.1\u001b[0m\" 200 -\n",
      "2020-07-17 17:11:49,209 - werkzeug - INFO - 127.0.0.1 - - [17/Jul/2020 17:11:49] \"\u001b[37mPOST /_dash-update-component HTTP/1.1\u001b[0m\" 200 -\n",
      "2020-07-17 17:11:49,224 - werkzeug - INFO - 127.0.0.1 - - [17/Jul/2020 17:11:49] \"\u001b[37mPOST /_dash-update-component HTTP/1.1\u001b[0m\" 204 -\n",
      "2020-07-17 17:11:49,459 - werkzeug - INFO - 127.0.0.1 - - [17/Jul/2020 17:11:49] \"\u001b[37mPOST /_dash-update-component HTTP/1.1\u001b[0m\" 200 -\n",
      "2020-07-17 17:11:49,936 - werkzeug - INFO - 127.0.0.1 - - [17/Jul/2020 17:11:49] \"\u001b[37mPOST /_dash-update-component HTTP/1.1\u001b[0m\" 200 -\n",
      "2020-07-17 17:11:50,375 - werkzeug - INFO - 127.0.0.1 - - [17/Jul/2020 17:11:50] \"\u001b[37mPOST /_dash-update-component HTTP/1.1\u001b[0m\" 200 -\n"
     ]
    },
    {
     "name": "stdout",
     "output_type": "stream",
     "text": [
      "_dash_table_update_paging_closure: page_current:0 page_size: 20\n"
     ]
    },
    {
     "name": "stderr",
     "output_type": "stream",
     "text": [
      "2020-07-17 17:12:28,737 - werkzeug - INFO - 127.0.0.1 - - [17/Jul/2020 17:12:28] \"\u001b[37mPOST /_dash-update-component HTTP/1.1\u001b[0m\" 200 -\n",
      "2020-07-17 17:12:28,767 - werkzeug - INFO - 127.0.0.1 - - [17/Jul/2020 17:12:28] \"\u001b[37mPOST /_dash-update-component HTTP/1.1\u001b[0m\" 200 -\n"
     ]
    },
    {
     "name": "stdout",
     "output_type": "stream",
     "text": [
      "filter contains: CL.20\n",
      "_dash_table_update_paging_closure: page_current:0 page_size: 20\n"
     ]
    },
    {
     "name": "stderr",
     "output_type": "stream",
     "text": [
      "2020-07-17 17:12:34,254 - werkzeug - INFO - 127.0.0.1 - - [17/Jul/2020 17:12:34] \"\u001b[37mPOST /_dash-update-component HTTP/1.1\u001b[0m\" 200 -\n",
      "2020-07-17 17:12:34,591 - werkzeug - INFO - 127.0.0.1 - - [17/Jul/2020 17:12:34] \"\u001b[37mPOST /_dash-update-component HTTP/1.1\u001b[0m\" 200 -\n"
     ]
    },
    {
     "name": "stdout",
     "output_type": "stream",
     "text": [
      "_dash_table_update_paging_closure: page_current:0 page_size: 20\n"
     ]
    },
    {
     "name": "stderr",
     "output_type": "stream",
     "text": [
      "2020-07-17 17:12:38,501 - werkzeug - INFO - 127.0.0.1 - - [17/Jul/2020 17:12:38] \"\u001b[37mPOST /_dash-update-component HTTP/1.1\u001b[0m\" 200 -\n",
      "2020-07-17 17:12:38,556 - werkzeug - INFO - 127.0.0.1 - - [17/Jul/2020 17:12:38] \"\u001b[37mPOST /_dash-update-component HTTP/1.1\u001b[0m\" 200 -\n"
     ]
    },
    {
     "name": "stdout",
     "output_type": "stream",
     "text": [
      "filter contains: CL.20\n",
      "_dash_table_update_paging_closure: page_current:0 page_size: 20\n"
     ]
    },
    {
     "name": "stderr",
     "output_type": "stream",
     "text": [
      "2020-07-17 17:12:54,632 - werkzeug - INFO - 127.0.0.1 - - [17/Jul/2020 17:12:54] \"\u001b[37mPOST /_dash-update-component HTTP/1.1\u001b[0m\" 200 -\n",
      "2020-07-17 17:12:54,670 - werkzeug - INFO - 127.0.0.1 - - [17/Jul/2020 17:12:54] \"\u001b[37mPOST /_dash-update-component HTTP/1.1\u001b[0m\" 200 -\n",
      "2020-07-17 17:12:55,812 - werkzeug - INFO - 127.0.0.1 - - [17/Jul/2020 17:12:55] \"\u001b[37mPOST /_dash-update-component HTTP/1.1\u001b[0m\" 200 -\n",
      "2020-07-17 17:12:59,345 - werkzeug - INFO - 127.0.0.1 - - [17/Jul/2020 17:12:59] \"\u001b[37mPOST /_dash-update-component HTTP/1.1\u001b[0m\" 200 -\n",
      "2020-07-17 17:13:07,778 - werkzeug - INFO - 127.0.0.1 - - [17/Jul/2020 17:13:07] \"\u001b[37mPOST /_dash-update-component HTTP/1.1\u001b[0m\" 200 -\n",
      "2020-07-17 17:13:07,812 - werkzeug - INFO - 127.0.0.1 - - [17/Jul/2020 17:13:07] \"\u001b[37mPOST /_dash-update-component HTTP/1.1\u001b[0m\" 200 -\n"
     ]
    },
    {
     "name": "stdout",
     "output_type": "stream",
     "text": [
      "filter contains: CLF20\n",
      "_dash_table_update_paging_closure: page_current:0 page_size: 20\n"
     ]
    },
    {
     "name": "stderr",
     "output_type": "stream",
     "text": [
      "2020-07-17 17:13:10,853 - werkzeug - INFO - 127.0.0.1 - - [17/Jul/2020 17:13:10] \"\u001b[37mPOST /_dash-update-component HTTP/1.1\u001b[0m\" 200 -\n"
     ]
    }
   ],
   "source": [
    "if __name__=='__main__':\n",
    "    page_title = \"\"\"Show ATM Implied Volatilities\n",
    "    using a\n",
    "    Constant Underlying Price\"\"\"\n",
    "    # *************** Create other rows ****************************\n",
    "    spfd.create_dashgraph_page(\n",
    "        'df_cuv_implied',get_cuv_imp_from_redis,\n",
    "        app_title=\"Constant Underlying Vol\",\n",
    "        page_title=page_title,\n",
    "        app_port=8814,\n",
    "        run=True\n",
    "    )\n"
   ]
  },
  {
   "cell_type": "markdown",
   "metadata": {},
   "source": [
    "###  Historical vs Implied Vol"
   ]
  },
  {
   "cell_type": "code",
   "execution_count": 6,
   "metadata": {},
   "outputs": [],
   "source": [
    "df_iv_final = pd.read_csv('./temp_folder/df_iv_final_CL.csv')"
   ]
  },
  {
   "cell_type": "code",
   "execution_count": 7,
   "metadata": {},
   "outputs": [],
   "source": [
    "df_iv_final2 = df_iv_final[['settle_date','symbol','atm_iv','close_y']]\n",
    "df_iv_final2 = df_iv_final2.groupby(['settle_date','symbol'],as_index=False).last()\n",
    "# df_iv_final3 = df_iv_final2[['settle_date','close_y']]\n",
    "#df.groupby('id')['x'].rolling(2).mean()\n",
    "# df_iv_final3['hist_vol'] = df_iv_final.close_y..apply.rolling(20).std()*256**.5\n",
    "# df_iv_final3 = df_iv_final3[~df_iv_final3.hist_vol.isna()]\n"
   ]
  },
  {
   "cell_type": "code",
   "execution_count": 8,
   "metadata": {},
   "outputs": [
    {
     "data": {
      "text/html": [
       "        <script type=\"text/javascript\">\n",
       "        window.PlotlyConfig = {MathJaxConfig: 'local'};\n",
       "        if (window.MathJax) {MathJax.Hub.Config({SVG: {font: \"STIX-Web\"}});}\n",
       "        if (typeof require !== 'undefined') {\n",
       "        require.undef(\"plotly\");\n",
       "        requirejs.config({\n",
       "            paths: {\n",
       "                'plotly': ['https://cdn.plot.ly/plotly-latest.min']\n",
       "            }\n",
       "        });\n",
       "        require(['plotly'], function(Plotly) {\n",
       "            window._Plotly = Plotly;\n",
       "        });\n",
       "        }\n",
       "        </script>\n",
       "        "
      ]
     },
     "metadata": {},
     "output_type": "display_data"
    },
    {
     "name": "stdout",
     "output_type": "stream",
     "text": [
      "  sec_db\n"
     ]
    }
   ],
   "source": [
    "from barchartacs import db_info\n",
    "import plotly.graph_objs as go\n",
    "from plotly.offline import  init_notebook_mode, iplot\n",
    "init_notebook_mode(connected=True)\n",
    "DEBUG_IT=False\n",
    "opttab = 'sec_schema.options_table'\n",
    "futtab = 'sec_schema.underlying_table'\n",
    "pga = db_info.get_db_info()\n"
   ]
  },
  {
   "cell_type": "code",
   "execution_count": 9,
   "metadata": {},
   "outputs": [],
   "source": [
    "def get_fut(symbol):\n",
    "    sql = f\"select * from {futtab} where symbol='{symbol}';\"\n",
    "    df_fut =  pga.get_sql(sql)\n",
    "    df_fut = df_fut[['settle_date','symbol','close']]\n",
    "    df_fut['hist_vol'] = df_fut.close.pct_change().rolling(20,min_periods=20).std()*256**.5\n",
    "    df_fut = df_fut[~df_fut.hist_vol.isna()]\n",
    "    return df_fut"
   ]
  },
  {
   "cell_type": "code",
   "execution_count": 10,
   "metadata": {},
   "outputs": [
    {
     "name": "stderr",
     "output_type": "stream",
     "text": [
      "2020-07-17 17:24:22,775 - numexpr.utils - INFO - NumExpr defaulting to 4 threads.\n"
     ]
    },
    {
     "data": {
      "text/html": [
       "<div>\n",
       "<style scoped>\n",
       "    .dataframe tbody tr th:only-of-type {\n",
       "        vertical-align: middle;\n",
       "    }\n",
       "\n",
       "    .dataframe tbody tr th {\n",
       "        vertical-align: top;\n",
       "    }\n",
       "\n",
       "    .dataframe thead th {\n",
       "        text-align: right;\n",
       "    }\n",
       "</style>\n",
       "<table border=\"1\" class=\"dataframe\">\n",
       "  <thead>\n",
       "    <tr style=\"text-align: right;\">\n",
       "      <th></th>\n",
       "      <th>settle_date</th>\n",
       "      <th>symbol</th>\n",
       "      <th>atm_iv</th>\n",
       "      <th>close_y</th>\n",
       "      <th>close</th>\n",
       "      <th>hist_vol</th>\n",
       "      <th>vol_diff</th>\n",
       "    </tr>\n",
       "  </thead>\n",
       "  <tbody>\n",
       "    <tr>\n",
       "      <th>0</th>\n",
       "      <td>20110103</td>\n",
       "      <td>CLH11</td>\n",
       "      <td>27.066</td>\n",
       "      <td>92.43</td>\n",
       "      <td>92.43</td>\n",
       "      <td>11.586</td>\n",
       "      <td>15.480</td>\n",
       "    </tr>\n",
       "    <tr>\n",
       "      <th>1</th>\n",
       "      <td>20110104</td>\n",
       "      <td>CLH11</td>\n",
       "      <td>28.839</td>\n",
       "      <td>90.42</td>\n",
       "      <td>90.42</td>\n",
       "      <td>14.249</td>\n",
       "      <td>14.590</td>\n",
       "    </tr>\n",
       "    <tr>\n",
       "      <th>2</th>\n",
       "      <td>20110105</td>\n",
       "      <td>CLH11</td>\n",
       "      <td>27.565</td>\n",
       "      <td>91.42</td>\n",
       "      <td>91.42</td>\n",
       "      <td>14.677</td>\n",
       "      <td>12.888</td>\n",
       "    </tr>\n",
       "    <tr>\n",
       "      <th>3</th>\n",
       "      <td>20110106</td>\n",
       "      <td>CLH11</td>\n",
       "      <td>28.640</td>\n",
       "      <td>89.75</td>\n",
       "      <td>89.75</td>\n",
       "      <td>16.138</td>\n",
       "      <td>12.502</td>\n",
       "    </tr>\n",
       "    <tr>\n",
       "      <th>4</th>\n",
       "      <td>20110107</td>\n",
       "      <td>CLH11</td>\n",
       "      <td>28.532</td>\n",
       "      <td>89.22</td>\n",
       "      <td>89.22</td>\n",
       "      <td>16.289</td>\n",
       "      <td>12.243</td>\n",
       "    </tr>\n",
       "    <tr>\n",
       "      <th>...</th>\n",
       "      <td>...</td>\n",
       "      <td>...</td>\n",
       "      <td>...</td>\n",
       "      <td>...</td>\n",
       "      <td>...</td>\n",
       "      <td>...</td>\n",
       "      <td>...</td>\n",
       "    </tr>\n",
       "    <tr>\n",
       "      <th>2397</th>\n",
       "      <td>20200710</td>\n",
       "      <td>CLU20</td>\n",
       "      <td>42.176</td>\n",
       "      <td>40.76</td>\n",
       "      <td>40.76</td>\n",
       "      <td>35.467</td>\n",
       "      <td>6.709</td>\n",
       "    </tr>\n",
       "    <tr>\n",
       "      <th>2398</th>\n",
       "      <td>20200713</td>\n",
       "      <td>CLU20</td>\n",
       "      <td>42.310</td>\n",
       "      <td>40.32</td>\n",
       "      <td>40.32</td>\n",
       "      <td>35.878</td>\n",
       "      <td>6.432</td>\n",
       "    </tr>\n",
       "    <tr>\n",
       "      <th>2399</th>\n",
       "      <td>20200714</td>\n",
       "      <td>CLU20</td>\n",
       "      <td>44.077</td>\n",
       "      <td>40.55</td>\n",
       "      <td>40.55</td>\n",
       "      <td>35.049</td>\n",
       "      <td>9.028</td>\n",
       "    </tr>\n",
       "    <tr>\n",
       "      <th>2400</th>\n",
       "      <td>20200715</td>\n",
       "      <td>CLU20</td>\n",
       "      <td>42.078</td>\n",
       "      <td>41.40</td>\n",
       "      <td>41.40</td>\n",
       "      <td>34.201</td>\n",
       "      <td>7.877</td>\n",
       "    </tr>\n",
       "    <tr>\n",
       "      <th>2401</th>\n",
       "      <td>20200716</td>\n",
       "      <td>CLU20</td>\n",
       "      <td>40.850</td>\n",
       "      <td>40.93</td>\n",
       "      <td>40.93</td>\n",
       "      <td>34.157</td>\n",
       "      <td>6.693</td>\n",
       "    </tr>\n",
       "  </tbody>\n",
       "</table>\n",
       "<p>2402 rows × 7 columns</p>\n",
       "</div>"
      ],
      "text/plain": [
       "      settle_date symbol  atm_iv  close_y  close  hist_vol  vol_diff\n",
       "0        20110103  CLH11  27.066    92.43  92.43    11.586    15.480\n",
       "1        20110104  CLH11  28.839    90.42  90.42    14.249    14.590\n",
       "2        20110105  CLH11  27.565    91.42  91.42    14.677    12.888\n",
       "3        20110106  CLH11  28.640    89.75  89.75    16.138    12.502\n",
       "4        20110107  CLH11  28.532    89.22  89.22    16.289    12.243\n",
       "...           ...    ...     ...      ...    ...       ...       ...\n",
       "2397     20200710  CLU20  42.176    40.76  40.76    35.467     6.709\n",
       "2398     20200713  CLU20  42.310    40.32  40.32    35.878     6.432\n",
       "2399     20200714  CLU20  44.077    40.55  40.55    35.049     9.028\n",
       "2400     20200715  CLU20  42.078    41.40  41.40    34.201     7.877\n",
       "2401     20200716  CLU20  40.850    40.93  40.93    34.157     6.693\n",
       "\n",
       "[2402 rows x 7 columns]"
      ]
     },
     "execution_count": 10,
     "metadata": {},
     "output_type": "execute_result"
    }
   ],
   "source": [
    "df_all_fut = None\n",
    "for symbol in df_iv_final2.symbol.unique():\n",
    "    df_fut = get_fut(symbol)\n",
    "    if df_all_fut is None:\n",
    "        df_all_fut = df_fut.copy()\n",
    "    else:\n",
    "        df_all_fut = df_all_fut.append(df_fut)\n",
    "\n",
    "df_iv_final3 = df_iv_final2.merge(df_all_fut,how='inner',on=['settle_date','symbol'])\n",
    "df_iv_final3.atm_iv = df_iv_final3.atm_iv.round(5)*100\n",
    "df_iv_final3.hist_vol = df_iv_final3.hist_vol.round(5)*100\n",
    "df_iv_final3['vol_diff'] = df_iv_final3.atm_iv - df_iv_final3.hist_vol\n",
    "\n",
    "df_iv_final3        "
   ]
  },
  {
   "cell_type": "code",
   "execution_count": 108,
   "metadata": {
    "scrolled": true
   },
   "outputs": [
    {
     "name": "stderr",
     "output_type": "stream",
     "text": [
      "2020-07-17 16:39:25,087 - root - DEBUG - df_iv_final3 entering create_dt_div\n",
      "2020-07-17 16:39:25,091 - root - DEBUG - df_iv_final3 exiting create_dt_div\n",
      "2020-07-17 16:39:25,113 - root - INFO - This app will run at the URL: http://127.0.0.1:8814\n"
     ]
    },
    {
     "name": "stdout",
     "output_type": "stream",
     "text": [
      " * Serving Flask app \"dashapp.dashapp2\" (lazy loading)\n",
      " * Environment: production\n",
      "\u001b[31m   WARNING: This is a development server. Do not use it in a production deployment.\u001b[0m\n",
      "\u001b[2m   Use a production WSGI server instead.\u001b[0m\n",
      " * Debug mode: off\n"
     ]
    },
    {
     "name": "stderr",
     "output_type": "stream",
     "text": [
      "2020-07-17 16:39:25,124 - werkzeug - INFO -  * Running on http://127.0.0.1:8814/ (Press CTRL+C to quit)\n",
      "2020-07-17 16:39:29,733 - werkzeug - INFO - 127.0.0.1 - - [17/Jul/2020 16:39:29] \"\u001b[37mGET / HTTP/1.1\u001b[0m\" 200 -\n",
      "2020-07-17 16:39:29,894 - werkzeug - INFO - 127.0.0.1 - - [17/Jul/2020 16:39:29] \"\u001b[37mGET /_dash-dependencies HTTP/1.1\u001b[0m\" 200 -\n",
      "2020-07-17 16:39:29,905 - werkzeug - INFO - 127.0.0.1 - - [17/Jul/2020 16:39:29] \"\u001b[37mGET /_dash-layout HTTP/1.1\u001b[0m\" 200 -\n",
      "2020-07-17 16:39:30,026 - werkzeug - INFO - 127.0.0.1 - - [17/Jul/2020 16:39:30] \"\u001b[37mPOST /_dash-update-component HTTP/1.1\u001b[0m\" 200 -\n",
      "2020-07-17 16:39:30,064 - werkzeug - INFO - 127.0.0.1 - - [17/Jul/2020 16:39:30] \"\u001b[37mPOST /_dash-update-component HTTP/1.1\u001b[0m\" 204 -\n",
      "2020-07-17 16:39:30,135 - werkzeug - INFO - 127.0.0.1 - - [17/Jul/2020 16:39:30] \"\u001b[37mPOST /_dash-update-component HTTP/1.1\u001b[0m\" 200 -\n",
      "2020-07-17 16:39:30,300 - werkzeug - INFO - 127.0.0.1 - - [17/Jul/2020 16:39:30] \"\u001b[37mPOST /_dash-update-component HTTP/1.1\u001b[0m\" 200 -\n",
      "2020-07-17 16:39:30,440 - werkzeug - INFO - 127.0.0.1 - - [17/Jul/2020 16:39:30] \"\u001b[37mPOST /_dash-update-component HTTP/1.1\u001b[0m\" 200 -\n"
     ]
    },
    {
     "name": "stdout",
     "output_type": "stream",
     "text": [
      "_dash_table_update_paging_closure: page_current:0 page_size: 20\n"
     ]
    },
    {
     "name": "stderr",
     "output_type": "stream",
     "text": [
      "2020-07-17 16:39:39,514 - werkzeug - INFO - 127.0.0.1 - - [17/Jul/2020 16:39:39] \"\u001b[37mPOST /_dash-update-component HTTP/1.1\u001b[0m\" 200 -\n",
      "2020-07-17 16:39:39,562 - werkzeug - INFO - 127.0.0.1 - - [17/Jul/2020 16:39:39] \"\u001b[37mPOST /_dash-update-component HTTP/1.1\u001b[0m\" 200 -\n"
     ]
    },
    {
     "name": "stdout",
     "output_type": "stream",
     "text": [
      "filter contains: CL.20\n",
      "_dash_table_update_paging_closure: page_current:0 page_size: 20\n"
     ]
    },
    {
     "name": "stderr",
     "output_type": "stream",
     "text": [
      "2020-07-17 16:39:57,023 - werkzeug - INFO - 127.0.0.1 - - [17/Jul/2020 16:39:57] \"\u001b[37mPOST /_dash-update-component HTTP/1.1\u001b[0m\" 200 -\n",
      "2020-07-17 16:39:57,076 - werkzeug - INFO - 127.0.0.1 - - [17/Jul/2020 16:39:57] \"\u001b[37mPOST /_dash-update-component HTTP/1.1\u001b[0m\" 200 -\n"
     ]
    },
    {
     "name": "stdout",
     "output_type": "stream",
     "text": [
      "_filter_query: settle_date > 20200422\n",
      "filter contains: CL.20\n",
      "_dash_table_update_paging_closure: page_current:0 page_size: 20\n"
     ]
    },
    {
     "name": "stderr",
     "output_type": "stream",
     "text": [
      "2020-07-17 16:40:00,808 - werkzeug - INFO - 127.0.0.1 - - [17/Jul/2020 16:40:00] \"\u001b[37mPOST /_dash-update-component HTTP/1.1\u001b[0m\" 200 -\n",
      "2020-07-17 16:40:00,834 - werkzeug - INFO - 127.0.0.1 - - [17/Jul/2020 16:40:00] \"\u001b[37mPOST /_dash-update-component HTTP/1.1\u001b[0m\" 200 -\n",
      "2020-07-17 16:40:03,215 - werkzeug - INFO - 127.0.0.1 - - [17/Jul/2020 16:40:03] \"\u001b[37mPOST /_dash-update-component HTTP/1.1\u001b[0m\" 200 -\n",
      "2020-07-17 16:40:06,846 - werkzeug - INFO - 127.0.0.1 - - [17/Jul/2020 16:40:06] \"\u001b[37mPOST /_dash-update-component HTTP/1.1\u001b[0m\" 200 -\n",
      "2020-07-17 16:40:14,403 - werkzeug - INFO - 127.0.0.1 - - [17/Jul/2020 16:40:14] \"\u001b[37mPOST /_dash-update-component HTTP/1.1\u001b[0m\" 200 -\n",
      "2020-07-17 16:40:14,457 - werkzeug - INFO - 127.0.0.1 - - [17/Jul/2020 16:40:14] \"\u001b[37mPOST /_dash-update-component HTTP/1.1\u001b[0m\" 200 -\n"
     ]
    },
    {
     "name": "stdout",
     "output_type": "stream",
     "text": [
      "filter contains: CL.20\n",
      "_dash_table_update_paging_closure: page_current:0 page_size: 20\n"
     ]
    },
    {
     "name": "stderr",
     "output_type": "stream",
     "text": [
      "2020-07-17 16:40:21,790 - werkzeug - INFO - 127.0.0.1 - - [17/Jul/2020 16:40:21] \"\u001b[37mPOST /_dash-update-component HTTP/1.1\u001b[0m\" 200 -\n",
      "2020-07-17 16:40:30,270 - werkzeug - INFO - 127.0.0.1 - - [17/Jul/2020 16:40:30] \"\u001b[37mPOST /_dash-update-component HTTP/1.1\u001b[0m\" 200 -\n",
      "2020-07-17 16:40:30,309 - werkzeug - INFO - 127.0.0.1 - - [17/Jul/2020 16:40:30] \"\u001b[37mPOST /_dash-update-component HTTP/1.1\u001b[0m\" 200 -\n"
     ]
    },
    {
     "name": "stdout",
     "output_type": "stream",
     "text": [
      "filter contains: CL.19\n",
      "_dash_table_update_paging_closure: page_current:0 page_size: 20\n"
     ]
    },
    {
     "name": "stderr",
     "output_type": "stream",
     "text": [
      "2020-07-17 16:40:34,123 - werkzeug - INFO - 127.0.0.1 - - [17/Jul/2020 16:40:34] \"\u001b[37mPOST /_dash-update-component HTTP/1.1\u001b[0m\" 200 -\n",
      "2020-07-17 16:40:46,620 - werkzeug - INFO - 127.0.0.1 - - [17/Jul/2020 16:40:46] \"\u001b[37mPOST /_dash-update-component HTTP/1.1\u001b[0m\" 200 -\n",
      "2020-07-17 16:40:48,097 - werkzeug - INFO - 127.0.0.1 - - [17/Jul/2020 16:40:48] \"\u001b[37mPOST /_dash-update-component HTTP/1.1\u001b[0m\" 200 -\n",
      "2020-07-17 16:40:49,653 - werkzeug - INFO - 127.0.0.1 - - [17/Jul/2020 16:40:49] \"\u001b[37mPOST /_dash-update-component HTTP/1.1\u001b[0m\" 200 -\n",
      "2020-07-17 16:41:20,393 - werkzeug - INFO - 127.0.0.1 - - [17/Jul/2020 16:41:20] \"\u001b[37mPOST /_dash-update-component HTTP/1.1\u001b[0m\" 200 -\n",
      "2020-07-17 16:41:20,432 - werkzeug - INFO - 127.0.0.1 - - [17/Jul/2020 16:41:20] \"\u001b[37mPOST /_dash-update-component HTTP/1.1\u001b[0m\" 200 -\n"
     ]
    },
    {
     "name": "stdout",
     "output_type": "stream",
     "text": [
      "filter contains: CL.18\n",
      "_dash_table_update_paging_closure: page_current:0 page_size: 20\n"
     ]
    },
    {
     "name": "stderr",
     "output_type": "stream",
     "text": [
      "2020-07-17 16:41:23,169 - werkzeug - INFO - 127.0.0.1 - - [17/Jul/2020 16:41:23] \"\u001b[37mPOST /_dash-update-component HTTP/1.1\u001b[0m\" 200 -\n"
     ]
    }
   ],
   "source": [
    "if __name__=='__main__':\n",
    "    page_title = \"\"\"Show ATM vs Historical\"\"\"\n",
    "#     f = lambda:df_iv_final3\n",
    "    f = spfd.dcc.Store(id='init_df_data_store',data=df_iv_final3.to_dict('records'))\n",
    "    \n",
    "    d = spfd.create_dashgraph_page(\n",
    "        'df_iv_final3',f,\n",
    "        app_title=\"Implied vs Historical\",\n",
    "        page_title=page_title,\n",
    "        app_port=8814,\n",
    "        run=True\n",
    "    )\n"
   ]
  },
  {
   "cell_type": "code",
   "execution_count": 53,
   "metadata": {},
   "outputs": [
    {
     "data": {
      "text/plain": [
       "<module 'dashapp.dashapp2' from '/Users/bperlman1/Documents/billybyte/pyliverisk/dashapp/dashapp/dashapp2.py'>"
      ]
     },
     "execution_count": 53,
     "metadata": {},
     "output_type": "execute_result"
    }
   ],
   "source": []
  },
  {
   "cell_type": "markdown",
   "metadata": {},
   "source": [
    "### App with CSV Uploader\n"
   ]
  },
  {
   "cell_type": "code",
   "execution_count": null,
   "metadata": {
    "scrolled": true
   },
   "outputs": [
    {
     "name": "stderr",
     "output_type": "stream",
     "text": [
      "2020-07-17 19:46:41,236 - root - INFO - This app will run at the URL: http://127.0.0.1:8814\n"
     ]
    },
    {
     "name": "stdout",
     "output_type": "stream",
     "text": [
      " * Serving Flask app \"dashapp.dashapp2\" (lazy loading)\n",
      " * Environment: production\n",
      "\u001b[31m   WARNING: This is a development server. Do not use it in a production deployment.\u001b[0m\n",
      "\u001b[2m   Use a production WSGI server instead.\u001b[0m\n",
      " * Debug mode: off\n"
     ]
    },
    {
     "name": "stderr",
     "output_type": "stream",
     "text": [
      "2020-07-17 19:46:41,245 - werkzeug - INFO -  * Running on http://127.0.0.1:8814/ (Press CTRL+C to quit)\n",
      "2020-07-17 19:46:44,712 - werkzeug - INFO - 127.0.0.1 - - [17/Jul/2020 19:46:44] \"\u001b[37mGET / HTTP/1.1\u001b[0m\" 200 -\n",
      "2020-07-17 19:46:44,854 - werkzeug - INFO - 127.0.0.1 - - [17/Jul/2020 19:46:44] \"\u001b[37mGET /_dash-layout HTTP/1.1\u001b[0m\" 200 -\n",
      "2020-07-17 19:46:44,856 - werkzeug - INFO - 127.0.0.1 - - [17/Jul/2020 19:46:44] \"\u001b[37mGET /_dash-dependencies HTTP/1.1\u001b[0m\" 200 -\n",
      "2020-07-17 19:46:44,918 - root - DEBUG - ****************************** execute_callback no data for [('myid_csvuploader_data_store', 'data')] ***************************************\n",
      "2020-07-17 19:46:44,920 - werkzeug - INFO - 127.0.0.1 - - [17/Jul/2020 19:46:44] \"\u001b[37mPOST /_dash-update-component HTTP/1.1\u001b[0m\" 204 -\n",
      "2020-07-17 19:46:53,125 - werkzeug - INFO - 127.0.0.1 - - [17/Jul/2020 19:46:53] \"\u001b[37mPOST /_dash-update-component HTTP/1.1\u001b[0m\" 200 -\n",
      "2020-07-17 19:46:53,263 - root - DEBUG - dg_page entering create_dt_div\n",
      "2020-07-17 19:46:53,266 - root - DEBUG - dg_page exiting create_dt_div\n",
      "2020-07-17 19:46:53,284 - root - INFO - This app will run at the URL: http://127.0.0.1:8800\n",
      "2020-07-17 19:46:53,293 - werkzeug - INFO - 127.0.0.1 - - [17/Jul/2020 19:46:53] \"\u001b[37mPOST /_dash-update-component HTTP/1.1\u001b[0m\" 200 -\n",
      "2020-07-17 19:48:09,986 - werkzeug - INFO - 127.0.0.1 - - [17/Jul/2020 19:48:09] \"\u001b[37mPOST /_dash-update-component HTTP/1.1\u001b[0m\" 200 -\n",
      "2020-07-17 19:48:10,059 - root - DEBUG - dg_page entering create_dt_div\n",
      "2020-07-17 19:48:10,067 - root - DEBUG - dg_page exiting create_dt_div\n",
      "2020-07-17 19:48:10,085 - root - INFO - This app will run at the URL: http://127.0.0.1:8800\n",
      "2020-07-17 19:48:10,094 - werkzeug - INFO - 127.0.0.1 - - [17/Jul/2020 19:48:10] \"\u001b[37mPOST /_dash-update-component HTTP/1.1\u001b[0m\" 200 -\n"
     ]
    }
   ],
   "source": [
    "import importlib\n",
    "importlib.reload(spfd)\n",
    "importlib.reload(spfd.dashapp)\n",
    "if __name__=='__main__':\n",
    "    spfd.graph_from_csv_page('myid',app_port = 8814)"
   ]
  },
  {
   "cell_type": "code",
   "execution_count": 13,
   "metadata": {},
   "outputs": [],
   "source": [
    "?spfd.dashapp.CsvFileUploader\n"
   ]
  },
  {
   "cell_type": "markdown",
   "metadata": {},
   "source": [
    "## END"
   ]
  }
 ],
 "metadata": {
  "kernelspec": {
   "display_name": "Python 3",
   "language": "python",
   "name": "python3"
  },
  "language_info": {
   "codemirror_mode": {
    "name": "ipython",
    "version": 3
   },
   "file_extension": ".py",
   "mimetype": "text/x-python",
   "name": "python",
   "nbconvert_exporter": "python",
   "pygments_lexer": "ipython3",
   "version": "3.6.5"
  }
 },
 "nbformat": 4,
 "nbformat_minor": 2
}
