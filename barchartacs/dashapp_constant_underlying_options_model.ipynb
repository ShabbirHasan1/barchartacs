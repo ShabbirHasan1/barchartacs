{
 "cells": [
  {
   "cell_type": "code",
   "execution_count": 1,
   "metadata": {},
   "outputs": [
    {
     "data": {
      "text/html": [
       "<style>.container { width:100% !important; }</style>"
      ],
      "text/plain": [
       "<IPython.core.display.HTML object>"
      ]
     },
     "metadata": {},
     "output_type": "display_data"
    }
   ],
   "source": [
    "import warnings\n",
    "warnings.filterwarnings(\"ignore\")\n",
    "from IPython.core.display import display, HTML\n",
    "display(HTML(\"<style>.container { width:100% !important; }</style>\"))"
   ]
  },
  {
   "cell_type": "markdown",
   "metadata": {},
   "source": [
    "### Dashapp to display implied volatility vs time and price using a constant underlying price\n",
    "* **This requires plotly 4.0 or greater** *\n",
    "\n",
    "Calculate the implied volatility of each days options as if the underlying futures contract were always some fixed value. For example, if the actual futures is 100, make that price 50, and then change all of the strike prices so that the strike prices are relative to the value 50.  \n",
    "\n",
    "1. The 100 call would be a 50 dollar call.  \n",
    "2. The 95 put would be a 45 dollar put.  \n",
    "3. The 105 call would be a 55 dollar call\n"
   ]
  },
  {
   "cell_type": "code",
   "execution_count": 2,
   "metadata": {},
   "outputs": [],
   "source": [
    "import pandas as pd\n",
    "import numpy as np\n",
    "import datetime\n",
    "import sys\n",
    "import os\n",
    "if  not './' in sys.path:\n",
    "    sys.path.append('./')\n",
    "if  not '../' in sys.path:\n",
    "    sys.path.append('../')\n",
    "\n",
    "from dashapp import single_page_from_df as spfd\n",
    "from dashapp import dashapp2 as dashapp\n",
    "import pyarrow as pa\n",
    "import redis\n",
    "import pdb"
   ]
  },
  {
   "cell_type": "code",
   "execution_count": 3,
   "metadata": {},
   "outputs": [],
   "source": [
    "redis_port = 6379\n",
    "redis_db = redis.Redis(host = 'localhost',port=6379,db=0)"
   ]
  },
  {
   "cell_type": "code",
   "execution_count": 4,
   "metadata": {},
   "outputs": [],
   "source": [
    "def get_redis_df(key):\n",
    "    context = pa.default_serialization_context()\n",
    "    df = context.deserialize(redis_db.get(key))\n",
    "    return df"
   ]
  },
  {
   "cell_type": "markdown",
   "metadata": {},
   "source": [
    "### Method to get constant volatility data from redis"
   ]
  },
  {
   "cell_type": "code",
   "execution_count": 5,
   "metadata": {},
   "outputs": [],
   "source": [
    "def get_cuv_imp_from_redis():\n",
    "    df_cuv_imp2 = get_redis_df('df_cuv_implied')\n",
    "    df_cuv_imp2['commod'] = df_cuv_imp2.symbol.str.slice(0,2)\n",
    "    df_cuv_imp2['contract_year'] = df_cuv_imp2.symbol.str.slice(-2,).astype(int) + 2000\n",
    "    return df_cuv_imp2\n",
    "        "
   ]
  },
  {
   "cell_type": "code",
   "execution_count": 6,
   "metadata": {},
   "outputs": [
    {
     "name": "stderr",
     "output_type": "stream",
     "text": [
      "2020-07-15 19:14:22,323 - numexpr.utils - INFO - NumExpr defaulting to 4 threads.\n",
      "2020-07-15 19:14:22,372 - root - DEBUG - df_cuv_implied entering create_dt_div\n",
      "2020-07-15 19:14:22,379 - root - DEBUG - df_cuv_implied exiting create_dt_div\n",
      "2020-07-15 19:14:22,411 - root - INFO - This app will run at the URL: http://127.0.0.1:8814\n"
     ]
    },
    {
     "name": "stdout",
     "output_type": "stream",
     "text": [
      " * Serving Flask app \"dashapp.dashapp2\" (lazy loading)\n",
      " * Environment: production\n",
      "\u001b[31m   WARNING: This is a development server. Do not use it in a production deployment.\u001b[0m\n",
      "\u001b[2m   Use a production WSGI server instead.\u001b[0m\n",
      " * Debug mode: off\n"
     ]
    },
    {
     "name": "stderr",
     "output_type": "stream",
     "text": [
      "2020-07-15 19:14:22,432 - werkzeug - INFO -  * Running on http://127.0.0.1:8814/ (Press CTRL+C to quit)\n"
     ]
    }
   ],
   "source": [
    "if __name__=='__main__':\n",
    "    page_title = \"\"\"Show ATM Implied Volatilities\n",
    "    using a\n",
    "    Constant Underlying Price\"\"\"\n",
    "    # *************** Create other rows ****************************\n",
    "    df_init = get_cuv_imp_from_redis()\n",
    "\n",
    "    dap,theapp,return_div,all_links = spfd.create_dashgraph_page(\n",
    "        df_init,'df_cuv_implied',get_cuv_imp_from_redis,\n",
    "        app_title=\"Constant Underlying Vol\",\n",
    "        page_title=page_title,\n",
    "        app_port=8814,\n",
    "        run=True\n",
    "    )\n"
   ]
  },
  {
   "cell_type": "markdown",
   "metadata": {},
   "source": [
    "## END"
   ]
  },
  {
   "cell_type": "code",
   "execution_count": null,
   "metadata": {},
   "outputs": [],
   "source": []
  }
 ],
 "metadata": {
  "kernelspec": {
   "display_name": "Python 3",
   "language": "python",
   "name": "python3"
  },
  "language_info": {
   "codemirror_mode": {
    "name": "ipython",
    "version": 3
   },
   "file_extension": ".py",
   "mimetype": "text/x-python",
   "name": "python",
   "nbconvert_exporter": "python",
   "pygments_lexer": "ipython3",
   "version": "3.6.5"
  }
 },
 "nbformat": 4,
 "nbformat_minor": 2
}
