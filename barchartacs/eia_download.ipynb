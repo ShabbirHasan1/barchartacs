{
 "cells": [
  {
   "cell_type": "code",
   "execution_count": 1,
   "metadata": {},
   "outputs": [],
   "source": [
    "import pathlib\n",
    "import numpy as np\n",
    "import pandas as pd\n",
    "import json\n",
    "import re\n",
    "from tqdm import tqdm_notebook\n",
    "import pdb\n",
    "import spacy\n",
    "import pytextrank\n",
    "import datetime\n",
    "import zipfile\n"
   ]
  },
  {
   "cell_type": "code",
   "execution_count": 2,
   "metadata": {},
   "outputs": [],
   "source": [
    "h = pathlib.Path.home()\n",
    "pet_data = open(f\"{h}/downloads/PET 4.txt\",'r').readlines()\n",
    "ng_data = open(f\"{h}/downloads/NG.txt\",'r').readlines()\n",
    "total_data = open(f\"{h}/downloads/TOTAL.txt\",'r').readlines()\n"
   ]
  },
  {
   "cell_type": "code",
   "execution_count": 3,
   "metadata": {},
   "outputs": [],
   "source": [
    "pet_data_json = [json.loads(d) for d in pet_data if 'series_id' in d]\n",
    "pet_categories_json = [json.loads(d) for d in pet_data if 'category_id' in d]"
   ]
  },
  {
   "cell_type": "code",
   "execution_count": 4,
   "metadata": {},
   "outputs": [],
   "source": [
    "total_data_json = [json.loads(d) for d in total_data if 'series_id' in d]\n",
    "total_catergories_json = [json.loads(d) for d in total_data if 'category_id' in d]"
   ]
  },
  {
   "cell_type": "code",
   "execution_count": 5,
   "metadata": {},
   "outputs": [],
   "source": [
    "ng_data_json = [json.loads(d) for d in ng_data if 'series_id' in d]\n",
    "ng_categories_json = [json.loads(d) for d in ng_data if 'category_id' in d]"
   ]
  },
  {
   "cell_type": "code",
   "execution_count": 6,
   "metadata": {},
   "outputs": [
    {
     "data": {
      "text/plain": [
       "['unitsshort',\n",
       " 'units',\n",
       " 'description',\n",
       " 'data',\n",
       " 'name',\n",
       " 'source',\n",
       " 'geography2',\n",
       " 'series_id',\n",
       " 'copyright',\n",
       " 'geography',\n",
       " 'start',\n",
       " 'f',\n",
       " 'last_updated',\n",
       " 'iso3166',\n",
       " 'end']"
      ]
     },
     "execution_count": 6,
     "metadata": {},
     "output_type": "execute_result"
    }
   ],
   "source": [
    "all_keys =[]\n",
    "for d in pet_data_json:\n",
    "    k = list(d.keys())\n",
    "    all_keys = list(set(all_keys + k))\n",
    "all_keys"
   ]
  },
  {
   "cell_type": "code",
   "execution_count": 7,
   "metadata": {},
   "outputs": [
    {
     "data": {
      "text/plain": [
       "['parent_category_id', 'name', 'notes', 'childseries', 'category_id']"
      ]
     },
     "execution_count": 7,
     "metadata": {},
     "output_type": "execute_result"
    }
   ],
   "source": [
    "all_keys =[]\n",
    "for d in pet_categories_json:\n",
    "    k = list(d.keys())\n",
    "    all_keys = list(set(all_keys + k))\n",
    "all_keys"
   ]
  },
  {
   "cell_type": "code",
   "execution_count": 8,
   "metadata": {},
   "outputs": [
    {
     "data": {
      "text/plain": [
       "'yes'"
      ]
     },
     "execution_count": 8,
     "metadata": {},
     "output_type": "execute_result"
    }
   ],
   "source": [
    "'yes' if re.search(\"c\", \"abcdef\") else 'no'"
   ]
  },
  {
   "cell_type": "code",
   "execution_count": 9,
   "metadata": {},
   "outputs": [],
   "source": [
    "def petdata(d):\n",
    "    if 'data' not in d:\n",
    "        return None\n",
    "    data_col = d['name'].replace(',','').replace('(','').replace(')','').lower()\n",
    "    values = np.array(d['data'])\n",
    "    dates = values[:,0].astype(int)\n",
    "    try:\n",
    "        vals = values[:,1].astype(float)\n",
    "    except:\n",
    "        vals = [np.nan if not re.search('^[-+]{0,1}[.0-9]{1,}$',str(v)) else float(v) for v in values[:,1]]#values[:,1].astype(float)\n",
    "    freq = d['f']\n",
    "    units = d['units'].lower()\n",
    "    start = int(d['start'])\n",
    "    end = int(d['end'])\n",
    "    ret = {\n",
    "        'name':data_col,\n",
    "        'freq':freq,\n",
    "        'units':units,\n",
    "        'start':start,\n",
    "        'end':end,\n",
    "        'dates':dates,\n",
    "        'vals':vals}\n",
    "    return ret\n",
    "#     return data_col,dates,vals\n"
   ]
  },
  {
   "cell_type": "code",
   "execution_count": 10,
   "metadata": {},
   "outputs": [],
   "source": [
    "def normalize_date_array(darray,varray,all_dates):\n",
    "    r = {ad:None for ad in all_dates}\n",
    "    dv = {darray[i]:varray[i] for i in range(len(darray))}\n",
    "    for k in dv.keys():\n",
    "        r[k] = dv[k]\n",
    "    \n",
    "    ksorted = sorted(list(r.keys()),reverse=True)\n",
    "    return [r[k] for k in ksorted]\n"
   ]
  },
  {
   "cell_type": "code",
   "execution_count": 13,
   "metadata": {},
   "outputs": [],
   "source": [
    "def build_df_eia(json_data,freq='M'):\n",
    "    tbeg = datetime.datetime.now()\n",
    "    print(tbeg)\n",
    "    freq_dict = {'M':'monthly','W':'weekly','D':'daily','A':'annual'}\n",
    "    all_values = [petdata(v) for v  in json_data if v['f']==freq]\n",
    "    most_dates = []\n",
    "    for av in all_values:\n",
    "        most_dates = list(set(most_dates + list(av['dates'])))\n",
    "    all_dates = sorted(most_dates,reverse=True)\n",
    "    cols = [av['name'] for av in all_values]\n",
    "    darrays = [av['dates'] for av in all_values]\n",
    "    varrays = [av['vals'] for av in all_values]\n",
    "    vals = [\n",
    "        normalize_date_array(darrays[i],varrays[i],all_dates)\n",
    "        for i in range(len(cols))\n",
    "    ]\n",
    "    units = [av['units'] for av in all_values]\n",
    "    freqs = [av['freq'] for av in all_values]\n",
    "    df_cols = pd.DataFrame({'col':cols,'units':units,'freq':freqs})\n",
    "\n",
    "    dict_df = {cols[i]:vals[i] for i in range(len(cols))}\n",
    "    df_date = pd.DataFrame({'date':all_dates})\n",
    "    \n",
    "    df_vals = pd.DataFrame(dict_df)\n",
    "    val_cols = list(df_vals.columns.values)\n",
    "    df_vals['date'] = all_dates\n",
    "    df_vals = df_vals[['date'] + val_cols]\n",
    "    \n",
    "    time_word_to_remove = freq_dict[freq]\n",
    "    df_vals.columns = [c.lower().replace(time_word_to_remove,'') for c in df_vals.columns.values]\n",
    "    tend = datetime.datetime.now()\n",
    "    print(tend)\n",
    "    print(tend-tbeg)\n",
    "    return df_vals,df_cols\n"
   ]
  },
  {
   "cell_type": "code",
   "execution_count": 14,
   "metadata": {},
   "outputs": [
    {
     "name": "stdout",
     "output_type": "stream",
     "text": [
      "2020-08-30 19:02:01.923753\n",
      "2020-08-30 19:02:01.927572\n",
      "0:00:00.003819\n",
      "2020-08-30 19:02:01.927915\n",
      "2020-08-30 19:02:03.246796\n",
      "0:00:01.318881\n",
      "2020-08-30 19:02:03.266642\n",
      "2020-08-30 19:02:03.521709\n",
      "0:00:00.255067\n"
     ]
    }
   ],
   "source": [
    "df_total_weekly,df_total_weekly_cols = build_df_eia(total_data_json,freq='W')\n",
    "df_total_monthly,df_total_monthly_cols = build_df_eia(total_data_json,freq='M')\n",
    "df_total_annual,df_total_annual_cols = build_df_eia(total_data_json,freq='A')\n"
   ]
  },
  {
   "cell_type": "code",
   "execution_count": 15,
   "metadata": {},
   "outputs": [
    {
     "name": "stdout",
     "output_type": "stream",
     "text": [
      "2020-08-30 19:02:08.013323\n",
      "2020-08-30 19:02:08.053544\n",
      "0:00:00.040221\n",
      "2020-08-30 19:02:08.054366\n",
      "2020-08-30 19:02:09.482681\n",
      "0:00:01.428315\n",
      "2020-08-30 19:02:09.518238\n",
      "2020-08-30 19:02:11.339005\n",
      "0:00:01.820767\n"
     ]
    }
   ],
   "source": [
    "df_ng_weekly,df_ng_weekly_cols = build_df_eia(ng_data_json,freq='W')\n",
    "df_ng_monthly,df_ng_monthly_cols = build_df_eia(ng_data_json,freq='M')\n",
    "df_ng_annual,df_ng_weekly_cols = build_df_eia(ng_data_json,freq='A')\n"
   ]
  },
  {
   "cell_type": "code",
   "execution_count": 16,
   "metadata": {},
   "outputs": [
    {
     "name": "stdout",
     "output_type": "stream",
     "text": [
      "2020-08-30 19:02:13.147698\n",
      "2020-08-30 19:02:16.384693\n",
      "0:00:03.236995\n",
      "2020-08-30 19:02:16.447980\n",
      "2020-08-30 19:03:04.513979\n",
      "0:00:48.065999\n",
      "2020-08-30 19:03:06.134722\n",
      "2020-08-30 19:03:18.541824\n",
      "0:00:12.407102\n"
     ]
    }
   ],
   "source": [
    "df_pet_weekly,df_pet_weekly_cols = build_df_eia(pet_data_json,freq='W')\n",
    "df_pet_monthly,df_pet_weekly_cols = build_df_eia(pet_data_json,freq='M')\n",
    "df_pet_annual,df_pet_weekly_cols = build_df_eia(pet_data_json,freq='A')"
   ]
  },
  {
   "cell_type": "code",
   "execution_count": 17,
   "metadata": {},
   "outputs": [],
   "source": [
    "import base64\n",
    "import io\n",
    "import zipfile\n",
    "\n",
    "def df_to_zipiofile(df,filename):\n",
    "    sio2 = io.StringIO()\n",
    "    df.to_csv(sio2,index=False)\n",
    "    sio2.seek(0)\n",
    "    zoio2 = io.BytesIO()\n",
    "    f = zipfile.ZipFile(zoio2,'a',zipfile.ZIP_DEFLATED,False)\n",
    "    f.writestr(filename,sio2.read())\n",
    "    f.close() \n",
    "    zoio2.seek(0)\n",
    "    return zoio2\n",
    "\n",
    "def df_to_zipfile(df,filename,fullpath):\n",
    "    zz = df_to_zipiofile(df,filename)\n",
    "    ff = open(fullpath,'wb')\n",
    "    ff.write(zz.getbuffer())\n",
    "    ff.close()"
   ]
  },
  {
   "cell_type": "code",
   "execution_count": 18,
   "metadata": {},
   "outputs": [],
   "source": [
    "df_to_zipfile(df_pet_monthly,'df_pet_monthly.csv','./temp_folder/df_pet_monthly.csv.zip')\n",
    "df_to_zipfile(df_pet_weekly,'df_pet_weekly.csv','./temp_folder/df_pet_weekly.csv.zip')\n",
    "df_to_zipfile(df_ng_monthly,'df_ng_monthly.csv','./temp_folder/df_ng_monthly.csv.zip')\n",
    "df_to_zipfile(df_ng_weekly,'df_ng_weekly.csv','./temp_folder/df_ng_weekly.csv.zip')\n"
   ]
  },
  {
   "cell_type": "code",
   "execution_count": 20,
   "metadata": {},
   "outputs": [
    {
     "data": {
      "text/plain": [
       "dtype('int64')"
      ]
     },
     "execution_count": 20,
     "metadata": {},
     "output_type": "execute_result"
    }
   ],
   "source": [
    "df_ng_weekly.date.dtype"
   ]
  },
  {
   "cell_type": "markdown",
   "metadata": {},
   "source": [
    "## Begin NLP feature analysis here"
   ]
  },
  {
   "cell_type": "code",
   "execution_count": null,
   "metadata": {},
   "outputs": [],
   "source": []
  },
  {
   "cell_type": "code",
   "execution_count": 434,
   "metadata": {},
   "outputs": [],
   "source": [
    "def create_nlp_doc(df):\n",
    "    \n",
    "    reports_text = '\\n'.join(df.apply(lambda r:' '.join(r.values.astype(str)),axis=1).values)[:999999]\n",
    "\n",
    "    # example text\n",
    "    text = reports_text\n",
    "    # load a spaCy model, depending on language, scale, etc.\n",
    "    nlp = spacy.load(\"en_core_web_sm\")\n",
    "\n",
    "    # add PyTextRank to the spaCy pipeline\n",
    "    tr = pytextrank.TextRank()\n",
    "    nlp.add_pipe(tr.PipelineComponent, name=\"textrank\", last=True)\n",
    "\n",
    "    doc = nlp(text)\n",
    "\n",
    "    # examine the top-ranked phrases in the document\n",
    "    df_docs = pd.DataFrame(\n",
    "        {\n",
    "            'prank':[p.rank for p in doc._.phrases],\n",
    "            'pcount':[p.count for p in doc._.phrases],\n",
    "            'ptext':[p.text for p in doc._.phrases],\n",
    "            'pcomb':[p.rank*p.count for p in doc._.phrases]\n",
    "        }\n",
    "    )\n",
    "    return df_docs"
   ]
  },
  {
   "cell_type": "code",
   "execution_count": 455,
   "metadata": {},
   "outputs": [],
   "source": [
    "df_cols = pd.DataFrame({'col':[s.replace('weekly','') for s in df_pet_weekly.columns.values]})\n",
    "df_pet_doc  = create_nlp_doc(df_cols)"
   ]
  },
  {
   "cell_type": "code",
   "execution_count": 456,
   "metadata": {},
   "outputs": [
    {
     "data": {
      "text/html": [
       "<div>\n",
       "<style scoped>\n",
       "    .dataframe tbody tr th:only-of-type {\n",
       "        vertical-align: middle;\n",
       "    }\n",
       "\n",
       "    .dataframe tbody tr th {\n",
       "        vertical-align: top;\n",
       "    }\n",
       "\n",
       "    .dataframe thead th {\n",
       "        text-align: right;\n",
       "    }\n",
       "</style>\n",
       "<table border=\"1\" class=\"dataframe\">\n",
       "  <thead>\n",
       "    <tr style=\"text-align: right;\">\n",
       "      <th></th>\n",
       "      <th>prank</th>\n",
       "      <th>pcount</th>\n",
       "      <th>ptext</th>\n",
       "      <th>pcomb</th>\n",
       "    </tr>\n",
       "  </thead>\n",
       "  <tbody>\n",
       "    <tr>\n",
       "      <th>0</th>\n",
       "      <td>0.148426</td>\n",
       "      <td>31</td>\n",
       "      <td>conventional retail gasoline prices</td>\n",
       "      <td>4.601199</td>\n",
       "    </tr>\n",
       "    <tr>\n",
       "      <th>1</th>\n",
       "      <td>0.144988</td>\n",
       "      <td>126</td>\n",
       "      <td>retail gasoline prices</td>\n",
       "      <td>18.268511</td>\n",
       "    </tr>\n",
       "    <tr>\n",
       "      <th>2</th>\n",
       "      <td>0.143159</td>\n",
       "      <td>1</td>\n",
       "      <td>u.s. regular conventional retail gasoline prices</td>\n",
       "      <td>0.143159</td>\n",
       "    </tr>\n",
       "    <tr>\n",
       "      <th>3</th>\n",
       "      <td>0.143155</td>\n",
       "      <td>7</td>\n",
       "      <td>regular conventional retail gasoline prices</td>\n",
       "      <td>1.002082</td>\n",
       "    </tr>\n",
       "    <tr>\n",
       "      <th>4</th>\n",
       "      <td>0.142033</td>\n",
       "      <td>1</td>\n",
       "      <td>u.s. midgrade conventional retail gasoline prices</td>\n",
       "      <td>0.142033</td>\n",
       "    </tr>\n",
       "    <tr>\n",
       "      <th>...</th>\n",
       "      <td>...</td>\n",
       "      <td>...</td>\n",
       "      <td>...</td>\n",
       "      <td>...</td>\n",
       "    </tr>\n",
       "    <tr>\n",
       "      <th>520</th>\n",
       "      <td>0.008491</td>\n",
       "      <td>1</td>\n",
       "      <td>3 gross</td>\n",
       "      <td>0.008491</td>\n",
       "    </tr>\n",
       "    <tr>\n",
       "      <th>521</th>\n",
       "      <td>0.008359</td>\n",
       "      <td>5</td>\n",
       "      <td>1 oxygenate</td>\n",
       "      <td>0.041797</td>\n",
       "    </tr>\n",
       "    <tr>\n",
       "      <th>522</th>\n",
       "      <td>0.007998</td>\n",
       "      <td>6</td>\n",
       "      <td>2 rbob</td>\n",
       "      <td>0.047986</td>\n",
       "    </tr>\n",
       "    <tr>\n",
       "      <th>523</th>\n",
       "      <td>0.007136</td>\n",
       "      <td>6</td>\n",
       "      <td>all countries</td>\n",
       "      <td>0.042813</td>\n",
       "    </tr>\n",
       "    <tr>\n",
       "      <th>524</th>\n",
       "      <td>0.000000</td>\n",
       "      <td>648</td>\n",
       "      <td>wa</td>\n",
       "      <td>0.000000</td>\n",
       "    </tr>\n",
       "  </tbody>\n",
       "</table>\n",
       "<p>525 rows × 4 columns</p>\n",
       "</div>"
      ],
      "text/plain": [
       "        prank  pcount                                              ptext  \\\n",
       "0    0.148426      31                conventional retail gasoline prices   \n",
       "1    0.144988     126                             retail gasoline prices   \n",
       "2    0.143159       1   u.s. regular conventional retail gasoline prices   \n",
       "3    0.143155       7        regular conventional retail gasoline prices   \n",
       "4    0.142033       1  u.s. midgrade conventional retail gasoline prices   \n",
       "..        ...     ...                                                ...   \n",
       "520  0.008491       1                                            3 gross   \n",
       "521  0.008359       5                                        1 oxygenate   \n",
       "522  0.007998       6                                             2 rbob   \n",
       "523  0.007136       6                                      all countries   \n",
       "524  0.000000     648                                                 wa   \n",
       "\n",
       "         pcomb  \n",
       "0     4.601199  \n",
       "1    18.268511  \n",
       "2     0.143159  \n",
       "3     1.002082  \n",
       "4     0.142033  \n",
       "..         ...  \n",
       "520   0.008491  \n",
       "521   0.041797  \n",
       "522   0.047986  \n",
       "523   0.042813  \n",
       "524   0.000000  \n",
       "\n",
       "[525 rows x 4 columns]"
      ]
     },
     "execution_count": 456,
     "metadata": {},
     "output_type": "execute_result"
    }
   ],
   "source": [
    "df_pet_doc"
   ]
  },
  {
   "cell_type": "code",
   "execution_count": 457,
   "metadata": {},
   "outputs": [
    {
     "data": {
      "text/html": [
       "<div>\n",
       "<style scoped>\n",
       "    .dataframe tbody tr th:only-of-type {\n",
       "        vertical-align: middle;\n",
       "    }\n",
       "\n",
       "    .dataframe tbody tr th {\n",
       "        vertical-align: top;\n",
       "    }\n",
       "\n",
       "    .dataframe thead th {\n",
       "        text-align: right;\n",
       "    }\n",
       "</style>\n",
       "<table border=\"1\" class=\"dataframe\">\n",
       "  <thead>\n",
       "    <tr style=\"text-align: right;\">\n",
       "      <th></th>\n",
       "      <th>prank</th>\n",
       "      <th>pcount</th>\n",
       "      <th>ptext</th>\n",
       "      <th>pcomb</th>\n",
       "    </tr>\n",
       "  </thead>\n",
       "  <tbody>\n",
       "    <tr>\n",
       "      <th>1</th>\n",
       "      <td>0.144988</td>\n",
       "      <td>126</td>\n",
       "      <td>retail gasoline prices</td>\n",
       "      <td>18.268511</td>\n",
       "    </tr>\n",
       "    <tr>\n",
       "      <th>52</th>\n",
       "      <td>0.127827</td>\n",
       "      <td>45</td>\n",
       "      <td>conventional motor gasoline</td>\n",
       "      <td>5.752234</td>\n",
       "    </tr>\n",
       "    <tr>\n",
       "      <th>57</th>\n",
       "      <td>0.123374</td>\n",
       "      <td>36</td>\n",
       "      <td>reformulated motor gasoline</td>\n",
       "      <td>4.441457</td>\n",
       "    </tr>\n",
       "    <tr>\n",
       "      <th>65</th>\n",
       "      <td>0.118500</td>\n",
       "      <td>15</td>\n",
       "      <td>motor gasoline</td>\n",
       "      <td>1.777493</td>\n",
       "    </tr>\n",
       "    <tr>\n",
       "      <th>67</th>\n",
       "      <td>0.117521</td>\n",
       "      <td>1</td>\n",
       "      <td>oil residential price</td>\n",
       "      <td>0.117521</td>\n",
       "    </tr>\n",
       "    <tr>\n",
       "      <th>...</th>\n",
       "      <td>...</td>\n",
       "      <td>...</td>\n",
       "      <td>...</td>\n",
       "      <td>...</td>\n",
       "    </tr>\n",
       "    <tr>\n",
       "      <th>516</th>\n",
       "      <td>0.011313</td>\n",
       "      <td>1</td>\n",
       "      <td>colorado</td>\n",
       "      <td>0.011313</td>\n",
       "    </tr>\n",
       "    <tr>\n",
       "      <th>517</th>\n",
       "      <td>0.011313</td>\n",
       "      <td>16</td>\n",
       "      <td>cleveland</td>\n",
       "      <td>0.181008</td>\n",
       "    </tr>\n",
       "    <tr>\n",
       "      <th>518</th>\n",
       "      <td>0.010614</td>\n",
       "      <td>1</td>\n",
       "      <td>ngpls/lrgs</td>\n",
       "      <td>0.010614</td>\n",
       "    </tr>\n",
       "    <tr>\n",
       "      <th>523</th>\n",
       "      <td>0.007136</td>\n",
       "      <td>6</td>\n",
       "      <td>all countries</td>\n",
       "      <td>0.042813</td>\n",
       "    </tr>\n",
       "    <tr>\n",
       "      <th>524</th>\n",
       "      <td>0.000000</td>\n",
       "      <td>648</td>\n",
       "      <td>wa</td>\n",
       "      <td>0.000000</td>\n",
       "    </tr>\n",
       "  </tbody>\n",
       "</table>\n",
       "<p>224 rows × 4 columns</p>\n",
       "</div>"
      ],
      "text/plain": [
       "        prank  pcount                        ptext      pcomb\n",
       "1    0.144988     126       retail gasoline prices  18.268511\n",
       "52   0.127827      45  conventional motor gasoline   5.752234\n",
       "57   0.123374      36  reformulated motor gasoline   4.441457\n",
       "65   0.118500      15               motor gasoline   1.777493\n",
       "67   0.117521       1        oil residential price   0.117521\n",
       "..        ...     ...                          ...        ...\n",
       "516  0.011313       1                     colorado   0.011313\n",
       "517  0.011313      16                    cleveland   0.181008\n",
       "518  0.010614       1                   ngpls/lrgs   0.010614\n",
       "523  0.007136       6                all countries   0.042813\n",
       "524  0.000000     648                           wa   0.000000\n",
       "\n",
       "[224 rows x 4 columns]"
      ]
     },
     "execution_count": 457,
     "metadata": {},
     "output_type": "execute_result"
    }
   ],
   "source": [
    "# df_pet_doc2 = create_nlp_doc(df_pet_doc[['ptext']])\n",
    "df_pet_doc2 = df_pet_doc[df_pet_doc.ptext.str.split(' ').str.len()<=3]\n",
    "df_pet_doc2[~df_pet_doc2.ptext.str.contains('^[0-9]')].sort_values('prank',ascending=False)\n"
   ]
  },
  {
   "cell_type": "markdown",
   "metadata": {},
   "source": [
    "## build column categories"
   ]
  },
  {
   "cell_type": "code",
   "execution_count": 843,
   "metadata": {},
   "outputs": [],
   "source": [
    "PAD_REGEX = \"(padd [0-9][a-z]{0,1}){1,2}\"\n",
    "PRODUCT_TYPE = \"(kerosene-type jet fuel)|(gasoline)|(no 2[.]{0,1} diesel)|(propane( and propylene){0,1})|(crude)|(no. 2 heating oil)|(oxygenate)\"\n",
    "GRADE = \"(regular)|(premium)|(midgrade)|(all grades)\"\n",
    "UNIT_TYPE = '(prices)|(inputs)|(net input)|(capacity)|(net production)|(production)|(imports)|(ending stocks)|(utilization)'\n",
    "PROCESSOR_TYPE = '(refiner and blender)|(refiner)|(blender)|(oxygenate plant)|(gas plant)'\n",
    "FORMULATION = \"(all formulations)|(conventional)|(reformulated)\"\n",
    "\n",
    "def has_padd(col):\n",
    "    return len(re.findall(PAD_REGEX,col.lower()))>0\n",
    "\n",
    "def process_pad(cols,f,exclude_words=[]):\n",
    "    vals = []\n",
    "    for c in cols:\n",
    "        if not has_padd(c):\n",
    "            continue\n",
    "        if any([ew in c for ew in exclude_words]):\n",
    "            continue\n",
    "        val = f(c)\n",
    "        vals.append(val.strip().rstrip())\n",
    "    return vals\n",
    "\n",
    "def _padd(c):\n",
    "    val = re.split(PAD_REGEX,c.lower())\n",
    "    val = ''.join(val[1:-1])\n",
    "    return val.strip().lstrip()\n",
    "\n",
    "def get_padd(cols):\n",
    "    return process_pad(cols,_padd)\n",
    "\n",
    "def _padd_region(c):\n",
    "    val = re.split(PAD_REGEX,c.lower())\n",
    "    val = val[0].strip()\n",
    "    g = GRADE\n",
    "    val = re.split(g,val)[0]\n",
    "    return val.strip().lstrip()\n",
    "\n",
    "def get_padd_region(cols,**args):\n",
    "    return process_pad(cols,_padd_region,**args)\n",
    "\n",
    "def _pad_category(c):\n",
    "    val = re.split(PAD_REGEX,c.lower())\n",
    "    val = val[-1].strip().lower().split('of')[0]\n",
    "    return val.strip().lstrip()\n",
    "\n",
    "def get_padd_category(cols,**args):\n",
    "    return process_pad(cols,_pad_category,**args)\n",
    "\n",
    "def get_padd_category2(cols):\n",
    "    vals = []\n",
    "    for c in cols:\n",
    "        if not has_padd(c):\n",
    "            vals.append(None)\n",
    "            continue\n",
    "        val = re.split(PAD_REGEX,c.lower())\n",
    "        val = val[-1].strip().lower().split('of')[0]\n",
    "        if 'price' in val:\n",
    "            vals.append(None)\n",
    "            continue\n",
    "        vals.append(val.strip().rstrip())\n",
    "    return vals\n",
    "\n",
    "def _pad_source(c):\n",
    "    val = re.split(PAD_REGEX,c.lower())\n",
    "    val = val[-1].strip().lower().split('of')[-1]\n",
    "    return val.strip().lstrip()\n",
    "\n",
    "def get_padd_source(cols,**args):\n",
    "    return process_pad(cols,_pad_source,**args)\n",
    "\n",
    "\n",
    "def get_padd_gasoline_type(cols,**args):\n",
    "    vals = get_padd_source(cols,**args)\n",
    "    vals = [re.split('gasoline',v)[0].strip().lstrip() for v in vals]\n",
    "    return vals\n",
    "\n",
    "def _padd_processor_type(c):\n",
    "    val = re.split(PAD_REGEX,c.lower())\n",
    "    val = ''.join(val[1:-1])\n",
    "    return val.strip().lstrip()\n",
    "\n",
    "def get_padd_processor_type(cols,**args):\n",
    "    return process_pad(cols,_padd_processor_type,**args)\n",
    "\n",
    "def get_ids(cols):\n",
    "    def _findall(r,c):\n",
    "        return ''.join([v for v in re.split(r,c.lower())[1:-1] if v is not None])\n",
    "        l = re.findall(attribute_regexes[i],c)\n",
    "        if l is None or len(l)<1:\n",
    "            return ''\n",
    "        if type(l[0]) == tuple:\n",
    "            l = l[0]\n",
    "        return ' '.join(l).strip().lstrip()\n",
    "        \n",
    "    all_attributes = {}\n",
    "    attribute_regexes = [PAD_REGEX,PRODUCT_TYPE,GRADE,FORMULATION,UNIT_TYPE,PROCESSOR_TYPE]\n",
    "    attribute_names = ['PAD_REGEX','PRODUCT_TYPE','GRADE','FORMULATION','UNIT_TYPE','PROCESSOR_TYPE']\n",
    "    for i in range(len(attribute_regexes)):\n",
    "        r = attribute_regexes[i]\n",
    "        alist = [_findall(r,c) for c in cols]\n",
    "        all_attributes[attribute_names[i]] = alist\n",
    "    all_attributes['col'] = cols\n",
    "    return pd.DataFrame(all_attributes)\n",
    "\n"
   ]
  },
  {
   "cell_type": "code",
   "execution_count": null,
   "metadata": {},
   "outputs": [],
   "source": []
  },
  {
   "cell_type": "code",
   "execution_count": 786,
   "metadata": {
    "scrolled": true
   },
   "outputs": [
    {
     "data": {
      "text/plain": [
       "{'',\n",
       " 'all grades all formulations retail',\n",
       " 'all grades conventional retail',\n",
       " 'all grades reformulated retail',\n",
       " 'commercial crude oil imports excluding spr weekly',\n",
       " 'commercial kerosene-type jet fuel weekly',\n",
       " 'conventional cbob',\n",
       " 'conventional gtab',\n",
       " 'conventional motor',\n",
       " 'conventional other',\n",
       " 'crude oil and petroleum products weekly',\n",
       " 'crude oil weekly',\n",
       " 'distillate fuel oil 0 to 15 ppm sulfur weekly',\n",
       " 'distillate fuel oil greater than 15 to 500 ppm sulfur weekly',\n",
       " 'distillate fuel oil greater than 2000 ppm sulfur weekly',\n",
       " 'distillate fuel oil greater than 500 ppm sulfur weekly',\n",
       " 'distillate fuel oil greater than 500 to 2000 ppm sulfur weekly',\n",
       " 'distillate fuel oil weekly',\n",
       " 'except california all grades all formulations retail',\n",
       " 'except california all grades conventional retail',\n",
       " 'except california all grades reformulated retail',\n",
       " 'except california midgrade all formulations retail',\n",
       " 'except california midgrade conventional retail',\n",
       " 'except california midgrade reformulated retail',\n",
       " 'except california no 2 diesel retail prices weekly',\n",
       " 'except california no 2 diesel ultra low sulfur 0-15 ppm retail prices weekly',\n",
       " 'except california premium all formulations retail',\n",
       " 'except california premium conventional retail',\n",
       " 'except california premium reformulated retail',\n",
       " 'except california regular all formulations retail',\n",
       " 'except california regular conventional retail',\n",
       " 'except california regular reformulated retail',\n",
       " 'finished conventional motor',\n",
       " 'finished motor',\n",
       " 'finished reformulated motor',\n",
       " 'fuel ethanol weekly',\n",
       " 'gross inputs into refineries weekly',\n",
       " 'kerosene-type jet fuel weekly',\n",
       " 'midgrade all formulations retail',\n",
       " 'midgrade conventional retail',\n",
       " 'midgrade reformulated retail',\n",
       " 'military kerosene-type jet fuel weekly',\n",
       " 'motor',\n",
       " 'no 2 diesel retail prices weekly',\n",
       " 'no 2 diesel ultra low sulfur 0-15 ppm retail prices weekly',\n",
       " 'no. 2 heating oil residential price weekly',\n",
       " 'no. 2 heating oil wholesale/resale price weekly',\n",
       " 'operable crude oil distillation capacity weekly',\n",
       " 'other conventional motor',\n",
       " 'other finished conventional motor',\n",
       " 'other finished reformulated motor',\n",
       " 'other oils excluding fuel ethanol weekly',\n",
       " 'other reformulated motor',\n",
       " 'premium all formulations retail',\n",
       " 'premium conventional retail',\n",
       " 'premium reformulated retail',\n",
       " 'propane and propylene ending stocks excluding propylene at terminal weekly',\n",
       " 'propane and propylene weekly',\n",
       " 'propane residential price weekly',\n",
       " 'propane wholesale/resale price weekly',\n",
       " 'rbob with alcohol',\n",
       " 'rbob with ether',\n",
       " 'refinery operable capacity weekly',\n",
       " 'reformulated',\n",
       " 'reformulated gtab',\n",
       " 'reformulated motor',\n",
       " 'reformulated rbob with alcohol',\n",
       " 'reformulated rbob with ether',\n",
       " 'regular all formulations retail',\n",
       " 'regular conventional retail',\n",
       " 'regular reformulated retail',\n",
       " 'residual fuel oil weekly',\n",
       " 'total',\n",
       " 'total petroleum products weekly'}"
      ]
     },
     "execution_count": 786,
     "metadata": {},
     "output_type": "execute_result"
    }
   ],
   "source": [
    "set(get_padd_gasoline_type(df_pet_lower.columns.values))"
   ]
  },
  {
   "cell_type": "code",
   "execution_count": 838,
   "metadata": {},
   "outputs": [
    {
     "data": {
      "text/html": [
       "<div>\n",
       "<style scoped>\n",
       "    .dataframe tbody tr th:only-of-type {\n",
       "        vertical-align: middle;\n",
       "    }\n",
       "\n",
       "    .dataframe tbody tr th {\n",
       "        vertical-align: top;\n",
       "    }\n",
       "\n",
       "    .dataframe thead th {\n",
       "        text-align: right;\n",
       "    }\n",
       "</style>\n",
       "<table border=\"1\" class=\"dataframe\">\n",
       "  <thead>\n",
       "    <tr style=\"text-align: right;\">\n",
       "      <th></th>\n",
       "      <th>PAD_REGEX</th>\n",
       "      <th>PRODUCT_TYPE</th>\n",
       "      <th>GRADE</th>\n",
       "      <th>FORMULATION</th>\n",
       "      <th>UNIT_TYPE</th>\n",
       "      <th>PROCESSOR_TYPE</th>\n",
       "      <th>col</th>\n",
       "    </tr>\n",
       "  </thead>\n",
       "  <tbody>\n",
       "    <tr>\n",
       "      <th>0</th>\n",
       "      <td></td>\n",
       "      <td></td>\n",
       "      <td></td>\n",
       "      <td></td>\n",
       "      <td></td>\n",
       "      <td></td>\n",
       "      <td>date</td>\n",
       "    </tr>\n",
       "    <tr>\n",
       "      <th>1</th>\n",
       "      <td></td>\n",
       "      <td>gasoline</td>\n",
       "      <td>midgrade</td>\n",
       "      <td>conventional</td>\n",
       "      <td>prices</td>\n",
       "      <td></td>\n",
       "      <td>florida midgrade conventional retail gasoline prices weekly</td>\n",
       "    </tr>\n",
       "    <tr>\n",
       "      <th>2</th>\n",
       "      <td></td>\n",
       "      <td>gasoline</td>\n",
       "      <td>premium</td>\n",
       "      <td>all formulations</td>\n",
       "      <td>prices</td>\n",
       "      <td></td>\n",
       "      <td>boston ma premium all formulations retail gasoline prices weekly</td>\n",
       "    </tr>\n",
       "    <tr>\n",
       "      <th>3</th>\n",
       "      <td></td>\n",
       "      <td>gasoline</td>\n",
       "      <td>premium</td>\n",
       "      <td>reformulated</td>\n",
       "      <td>prices</td>\n",
       "      <td></td>\n",
       "      <td>san francisco ca premium reformulated retail gasoline prices weekly</td>\n",
       "    </tr>\n",
       "    <tr>\n",
       "      <th>4</th>\n",
       "      <td></td>\n",
       "      <td>gasoline</td>\n",
       "      <td>premium</td>\n",
       "      <td>reformulated</td>\n",
       "      <td>prices</td>\n",
       "      <td></td>\n",
       "      <td>new york harbor premium reformulated retail gasoline prices weekly</td>\n",
       "    </tr>\n",
       "    <tr>\n",
       "      <th>...</th>\n",
       "      <td>...</td>\n",
       "      <td>...</td>\n",
       "      <td>...</td>\n",
       "      <td>...</td>\n",
       "      <td>...</td>\n",
       "      <td>...</td>\n",
       "      <td>...</td>\n",
       "    </tr>\n",
       "    <tr>\n",
       "      <th>1128</th>\n",
       "      <td>padd 3</td>\n",
       "      <td>gasoline</td>\n",
       "      <td></td>\n",
       "      <td>reformulated</td>\n",
       "      <td>ending stocks</td>\n",
       "      <td></td>\n",
       "      <td>gulf coast padd 3 ending stocks of reformulated rbob with alcohol gasoline blending components weekly</td>\n",
       "    </tr>\n",
       "    <tr>\n",
       "      <th>1129</th>\n",
       "      <td>padd 4</td>\n",
       "      <td>gasoline</td>\n",
       "      <td></td>\n",
       "      <td>reformulated</td>\n",
       "      <td>ending stocks</td>\n",
       "      <td></td>\n",
       "      <td>rocky mountain padd 4 ending stocks of reformulated rbob with alcohol gasoline blending components weekly</td>\n",
       "    </tr>\n",
       "    <tr>\n",
       "      <th>1130</th>\n",
       "      <td>padd 5</td>\n",
       "      <td>gasoline</td>\n",
       "      <td></td>\n",
       "      <td>reformulated</td>\n",
       "      <td>ending stocks</td>\n",
       "      <td></td>\n",
       "      <td>west coast padd 5 ending stocks of reformulated rbob with alcohol gasoline blending components weekly</td>\n",
       "    </tr>\n",
       "    <tr>\n",
       "      <th>1131</th>\n",
       "      <td></td>\n",
       "      <td>gasoline</td>\n",
       "      <td></td>\n",
       "      <td>reformulated</td>\n",
       "      <td>ending stocks</td>\n",
       "      <td></td>\n",
       "      <td>u.s. ending stocks of reformulated rbob with ether gasoline blending components weekly</td>\n",
       "    </tr>\n",
       "    <tr>\n",
       "      <th>1132</th>\n",
       "      <td>padd 1</td>\n",
       "      <td>gasoline</td>\n",
       "      <td></td>\n",
       "      <td>reformulated</td>\n",
       "      <td>ending stocks</td>\n",
       "      <td></td>\n",
       "      <td>east coast padd 1 ending stocks of reformulated rbob with ether gasoline blending components weekly</td>\n",
       "    </tr>\n",
       "  </tbody>\n",
       "</table>\n",
       "<p>1133 rows × 7 columns</p>\n",
       "</div>"
      ],
      "text/plain": [
       "     PAD_REGEX PRODUCT_TYPE     GRADE       FORMULATION      UNIT_TYPE  \\\n",
       "0                                                                        \n",
       "1               gasoline     midgrade  conventional      prices          \n",
       "2               gasoline     premium   all formulations  prices          \n",
       "3               gasoline     premium   reformulated      prices          \n",
       "4               gasoline     premium   reformulated      prices          \n",
       "...  ..              ...         ...            ...         ...          \n",
       "1128  padd 3    gasoline               reformulated      ending stocks   \n",
       "1129  padd 4    gasoline               reformulated      ending stocks   \n",
       "1130  padd 5    gasoline               reformulated      ending stocks   \n",
       "1131            gasoline               reformulated      ending stocks   \n",
       "1132  padd 1    gasoline               reformulated      ending stocks   \n",
       "\n",
       "     PROCESSOR_TYPE  \\\n",
       "0                     \n",
       "1                     \n",
       "2                     \n",
       "3                     \n",
       "4                     \n",
       "...  ..               \n",
       "1128                  \n",
       "1129                  \n",
       "1130                  \n",
       "1131                  \n",
       "1132                  \n",
       "\n",
       "                                                                                                            col  \n",
       "0     date                                                                                                       \n",
       "1     florida midgrade conventional retail gasoline prices weekly                                                \n",
       "2     boston ma premium all formulations retail gasoline prices weekly                                           \n",
       "3     san francisco ca premium reformulated retail gasoline prices weekly                                        \n",
       "4     new york harbor premium reformulated retail gasoline prices weekly                                         \n",
       "...                                                                  ...                                         \n",
       "1128  gulf coast padd 3 ending stocks of reformulated rbob with alcohol gasoline blending components weekly      \n",
       "1129  rocky mountain padd 4 ending stocks of reformulated rbob with alcohol gasoline blending components weekly  \n",
       "1130  west coast padd 5 ending stocks of reformulated rbob with alcohol gasoline blending components weekly      \n",
       "1131  u.s. ending stocks of reformulated rbob with ether gasoline blending components weekly                     \n",
       "1132  east coast padd 1 ending stocks of reformulated rbob with ether gasoline blending components weekly        \n",
       "\n",
       "[1133 rows x 7 columns]"
      ]
     },
     "execution_count": 838,
     "metadata": {},
     "output_type": "execute_result"
    }
   ],
   "source": [
    "df_cols = get_ids(df_pet_lower.columns.values)\n",
    "df_cols"
   ]
  },
  {
   "cell_type": "code",
   "execution_count": 839,
   "metadata": {},
   "outputs": [
    {
     "data": {
      "text/html": [
       "<div>\n",
       "<style scoped>\n",
       "    .dataframe tbody tr th:only-of-type {\n",
       "        vertical-align: middle;\n",
       "    }\n",
       "\n",
       "    .dataframe tbody tr th {\n",
       "        vertical-align: top;\n",
       "    }\n",
       "\n",
       "    .dataframe thead th {\n",
       "        text-align: right;\n",
       "    }\n",
       "</style>\n",
       "<table border=\"1\" class=\"dataframe\">\n",
       "  <thead>\n",
       "    <tr style=\"text-align: right;\">\n",
       "      <th></th>\n",
       "      <th>FORMULATION</th>\n",
       "      <th>GRADE</th>\n",
       "      <th>PAD_REGEX</th>\n",
       "      <th>PROCESSOR_TYPE</th>\n",
       "      <th>PRODUCT_TYPE</th>\n",
       "      <th>UNIT_TYPE</th>\n",
       "    </tr>\n",
       "  </thead>\n",
       "  <tbody>\n",
       "    <tr>\n",
       "      <th>0</th>\n",
       "      <td>conventional</td>\n",
       "      <td>midgrade</td>\n",
       "      <td>padd 5</td>\n",
       "      <td>refiner blender and gas plant</td>\n",
       "      <td>gasoline</td>\n",
       "      <td>prices</td>\n",
       "    </tr>\n",
       "    <tr>\n",
       "      <th>1</th>\n",
       "      <td>all formulations</td>\n",
       "      <td>premium</td>\n",
       "      <td>padd 1c</td>\n",
       "      <td>refiner and blender</td>\n",
       "      <td>no 2 diesel</td>\n",
       "      <td>imports</td>\n",
       "    </tr>\n",
       "    <tr>\n",
       "      <th>2</th>\n",
       "      <td>reformulated</td>\n",
       "      <td>all grades</td>\n",
       "      <td>padd 1b</td>\n",
       "      <td>blender</td>\n",
       "      <td>propane</td>\n",
       "      <td>net production</td>\n",
       "    </tr>\n",
       "    <tr>\n",
       "      <th>3</th>\n",
       "      <td></td>\n",
       "      <td>regular</td>\n",
       "      <td>padd 1a</td>\n",
       "      <td>refiner</td>\n",
       "      <td>propane and propylene and propylene</td>\n",
       "      <td>net input</td>\n",
       "    </tr>\n",
       "    <tr>\n",
       "      <th>4</th>\n",
       "      <td></td>\n",
       "      <td></td>\n",
       "      <td>padd 2</td>\n",
       "      <td>oxygenate plant</td>\n",
       "      <td>crude</td>\n",
       "      <td>ending stocks</td>\n",
       "    </tr>\n",
       "    <tr>\n",
       "      <th>5</th>\n",
       "      <td></td>\n",
       "      <td></td>\n",
       "      <td>padd 3</td>\n",
       "      <td></td>\n",
       "      <td>oxygenate</td>\n",
       "      <td>production</td>\n",
       "    </tr>\n",
       "    <tr>\n",
       "      <th>6</th>\n",
       "      <td></td>\n",
       "      <td></td>\n",
       "      <td>padd 4</td>\n",
       "      <td></td>\n",
       "      <td>no. 2 heating oil</td>\n",
       "      <td>utilization of refinery operable capacity</td>\n",
       "    </tr>\n",
       "    <tr>\n",
       "      <th>7</th>\n",
       "      <td></td>\n",
       "      <td></td>\n",
       "      <td>padd 1</td>\n",
       "      <td></td>\n",
       "      <td>kerosene-type jet fuel</td>\n",
       "      <td>capacity</td>\n",
       "    </tr>\n",
       "    <tr>\n",
       "      <th>8</th>\n",
       "      <td></td>\n",
       "      <td></td>\n",
       "      <td>padd 4 and west coast padd 5</td>\n",
       "      <td></td>\n",
       "      <td>gasoline non-oxygenate</td>\n",
       "      <td>inputs</td>\n",
       "    </tr>\n",
       "    <tr>\n",
       "      <th>9</th>\n",
       "      <td></td>\n",
       "      <td></td>\n",
       "      <td>padd 4 and padd 5</td>\n",
       "      <td></td>\n",
       "      <td></td>\n",
       "      <td></td>\n",
       "    </tr>\n",
       "    <tr>\n",
       "      <th>10</th>\n",
       "      <td></td>\n",
       "      <td></td>\n",
       "      <td>padd 2r</td>\n",
       "      <td></td>\n",
       "      <td></td>\n",
       "      <td></td>\n",
       "    </tr>\n",
       "  </tbody>\n",
       "</table>\n",
       "</div>"
      ],
      "text/plain": [
       "         FORMULATION       GRADE                     PAD_REGEX  \\\n",
       "0   conventional      midgrade    padd 5                         \n",
       "1   all formulations  premium     padd 1c                        \n",
       "2   reformulated      all grades  padd 1b                        \n",
       "3                     regular     padd 1a                        \n",
       "4                                 padd 2                         \n",
       "5                                 padd 3                         \n",
       "6                                 padd 4                         \n",
       "7                                 padd 1                         \n",
       "8                                 padd 4 and west coast padd 5   \n",
       "9                                 padd 4 and padd 5              \n",
       "10                                padd 2r                        \n",
       "\n",
       "                   PROCESSOR_TYPE                         PRODUCT_TYPE  \\\n",
       "0   refiner blender and gas plant  gasoline                              \n",
       "1   refiner and blender            no 2 diesel                           \n",
       "2   blender                        propane                               \n",
       "3   refiner                        propane and propylene and propylene   \n",
       "4   oxygenate plant                crude                                 \n",
       "5                                  oxygenate                             \n",
       "6                                  no. 2 heating oil                     \n",
       "7                                  kerosene-type jet fuel                \n",
       "8                                  gasoline non-oxygenate                \n",
       "9                                                                        \n",
       "10                                                                       \n",
       "\n",
       "                                    UNIT_TYPE  \n",
       "0   prices                                     \n",
       "1   imports                                    \n",
       "2   net production                             \n",
       "3   net input                                  \n",
       "4   ending stocks                              \n",
       "5   production                                 \n",
       "6   utilization of refinery operable capacity  \n",
       "7   capacity                                   \n",
       "8   inputs                                     \n",
       "9                                              \n",
       "10                                             "
      ]
     },
     "execution_count": 839,
     "metadata": {},
     "output_type": "execute_result"
    }
   ],
   "source": [
    "dfc = create_unique_values(df_cols)\n",
    "dfc"
   ]
  },
  {
   "cell_type": "code",
   "execution_count": 824,
   "metadata": {},
   "outputs": [
    {
     "data": {
      "text/html": [
       "<div>\n",
       "<style scoped>\n",
       "    .dataframe tbody tr th:only-of-type {\n",
       "        vertical-align: middle;\n",
       "    }\n",
       "\n",
       "    .dataframe tbody tr th {\n",
       "        vertical-align: top;\n",
       "    }\n",
       "\n",
       "    .dataframe thead th {\n",
       "        text-align: right;\n",
       "    }\n",
       "</style>\n",
       "<table border=\"1\" class=\"dataframe\">\n",
       "  <thead>\n",
       "    <tr style=\"text-align: right;\">\n",
       "      <th></th>\n",
       "      <th>date</th>\n",
       "      <th>east coast padd 1 imports from  all countries of motor gasoline blending components rbob weekly</th>\n",
       "      <th>west coast padd 5 imports of finished motor gasoline weekly</th>\n",
       "      <th>east coast padd 1 imports of finished motor gasoline weekly</th>\n",
       "      <th>east coast padd 1 imports of other conventional motor gasoline weekly</th>\n",
       "      <th>east coast padd 1 imports of conventional gtab gasoline blending components weekly</th>\n",
       "      <th>west coast padd 5 imports of conventional motor gasoline weekly</th>\n",
       "      <th>east coast padd 1 imports of conventional other gasoline blending components weekly</th>\n",
       "      <th>gulf coast padd 3 imports of conventional other gasoline blending components weekly</th>\n",
       "      <th>rocky mountain padd 4 conventional other gasoline blending components imports weekly</th>\n",
       "      <th>...</th>\n",
       "      <th>east coast padd 1 imports of total gasoline weekly</th>\n",
       "      <th>gulf coast padd 3 imports of total gasoline weekly</th>\n",
       "      <th>rocky mountain padd 4 imports of total gasoline weekly</th>\n",
       "      <th>west coast padd 5 imports of total gasoline weekly</th>\n",
       "      <th>east coast padd 1 imports of conventional cbob gasoline blending components weekly</th>\n",
       "      <th>east coast padd 1 imports of gasoline blending components weekly</th>\n",
       "      <th>gulf coast padd 3 imports of gasoline blending components weekly</th>\n",
       "      <th>rocky mountain padd 4 imports of gasoline blending components weekly</th>\n",
       "      <th>west coast padd 5 imports of gasoline blending components weekly</th>\n",
       "      <th>east coast padd 1 imports of reformulated rbob with alcohol gasoline blending components weekly</th>\n",
       "    </tr>\n",
       "  </thead>\n",
       "  <tbody>\n",
       "    <tr>\n",
       "      <th>0</th>\n",
       "      <td>20200817</td>\n",
       "      <td>219.0</td>\n",
       "      <td>3.0</td>\n",
       "      <td>143.0</td>\n",
       "      <td>143.0</td>\n",
       "      <td>136.0</td>\n",
       "      <td>3.0</td>\n",
       "      <td>424.0</td>\n",
       "      <td>52.0</td>\n",
       "      <td>6.0</td>\n",
       "      <td>...</td>\n",
       "      <td>962.0</td>\n",
       "      <td>52.0</td>\n",
       "      <td>6.0</td>\n",
       "      <td>3.0</td>\n",
       "      <td>41.0</td>\n",
       "      <td>820.0</td>\n",
       "      <td>52.0</td>\n",
       "      <td>6.0</td>\n",
       "      <td>0.0</td>\n",
       "      <td>248.0</td>\n",
       "    </tr>\n",
       "    <tr>\n",
       "      <th>1</th>\n",
       "      <td>20200810</td>\n",
       "      <td>168.0</td>\n",
       "      <td>3.0</td>\n",
       "      <td>68.0</td>\n",
       "      <td>68.0</td>\n",
       "      <td>198.0</td>\n",
       "      <td>3.0</td>\n",
       "      <td>159.0</td>\n",
       "      <td>51.0</td>\n",
       "      <td>4.0</td>\n",
       "      <td>...</td>\n",
       "      <td>599.0</td>\n",
       "      <td>51.0</td>\n",
       "      <td>4.0</td>\n",
       "      <td>4.0</td>\n",
       "      <td>6.0</td>\n",
       "      <td>531.0</td>\n",
       "      <td>51.0</td>\n",
       "      <td>4.0</td>\n",
       "      <td>1.0</td>\n",
       "      <td>338.0</td>\n",
       "    </tr>\n",
       "    <tr>\n",
       "      <th>2</th>\n",
       "      <td>20200803</td>\n",
       "      <td>147.0</td>\n",
       "      <td>2.0</td>\n",
       "      <td>120.0</td>\n",
       "      <td>120.0</td>\n",
       "      <td>31.0</td>\n",
       "      <td>2.0</td>\n",
       "      <td>470.0</td>\n",
       "      <td>47.0</td>\n",
       "      <td>3.0</td>\n",
       "      <td>...</td>\n",
       "      <td>800.0</td>\n",
       "      <td>47.0</td>\n",
       "      <td>3.0</td>\n",
       "      <td>74.0</td>\n",
       "      <td>32.0</td>\n",
       "      <td>680.0</td>\n",
       "      <td>47.0</td>\n",
       "      <td>3.0</td>\n",
       "      <td>72.0</td>\n",
       "      <td>172.0</td>\n",
       "    </tr>\n",
       "    <tr>\n",
       "      <th>3</th>\n",
       "      <td>20200727</td>\n",
       "      <td>165.0</td>\n",
       "      <td>9.0</td>\n",
       "      <td>20.0</td>\n",
       "      <td>20.0</td>\n",
       "      <td>21.0</td>\n",
       "      <td>9.0</td>\n",
       "      <td>281.0</td>\n",
       "      <td>12.0</td>\n",
       "      <td>6.0</td>\n",
       "      <td>...</td>\n",
       "      <td>515.0</td>\n",
       "      <td>12.0</td>\n",
       "      <td>6.0</td>\n",
       "      <td>10.0</td>\n",
       "      <td>27.0</td>\n",
       "      <td>494.0</td>\n",
       "      <td>12.0</td>\n",
       "      <td>6.0</td>\n",
       "      <td>0.0</td>\n",
       "      <td>183.0</td>\n",
       "    </tr>\n",
       "    <tr>\n",
       "      <th>4</th>\n",
       "      <td>20200720</td>\n",
       "      <td>229.0</td>\n",
       "      <td>39.0</td>\n",
       "      <td>128.0</td>\n",
       "      <td>128.0</td>\n",
       "      <td>14.0</td>\n",
       "      <td>39.0</td>\n",
       "      <td>43.0</td>\n",
       "      <td>17.0</td>\n",
       "      <td>4.0</td>\n",
       "      <td>...</td>\n",
       "      <td>432.0</td>\n",
       "      <td>17.0</td>\n",
       "      <td>4.0</td>\n",
       "      <td>39.0</td>\n",
       "      <td>18.0</td>\n",
       "      <td>304.0</td>\n",
       "      <td>17.0</td>\n",
       "      <td>4.0</td>\n",
       "      <td>1.0</td>\n",
       "      <td>199.0</td>\n",
       "    </tr>\n",
       "    <tr>\n",
       "      <th>...</th>\n",
       "      <td>...</td>\n",
       "      <td>...</td>\n",
       "      <td>...</td>\n",
       "      <td>...</td>\n",
       "      <td>...</td>\n",
       "      <td>...</td>\n",
       "      <td>...</td>\n",
       "      <td>...</td>\n",
       "      <td>...</td>\n",
       "      <td>...</td>\n",
       "      <td>...</td>\n",
       "      <td>...</td>\n",
       "      <td>...</td>\n",
       "      <td>...</td>\n",
       "      <td>...</td>\n",
       "      <td>...</td>\n",
       "      <td>...</td>\n",
       "      <td>...</td>\n",
       "      <td>...</td>\n",
       "      <td>...</td>\n",
       "      <td>...</td>\n",
       "    </tr>\n",
       "    <tr>\n",
       "      <th>895</th>\n",
       "      <td>20030623</td>\n",
       "      <td>0.0</td>\n",
       "      <td>0.0</td>\n",
       "      <td>0.0</td>\n",
       "      <td>0.0</td>\n",
       "      <td>0.0</td>\n",
       "      <td>0.0</td>\n",
       "      <td>0.0</td>\n",
       "      <td>0.0</td>\n",
       "      <td>0.0</td>\n",
       "      <td>...</td>\n",
       "      <td>0.0</td>\n",
       "      <td>0.0</td>\n",
       "      <td>0.0</td>\n",
       "      <td>0.0</td>\n",
       "      <td>0.0</td>\n",
       "      <td>0.0</td>\n",
       "      <td>0.0</td>\n",
       "      <td>0.0</td>\n",
       "      <td>0.0</td>\n",
       "      <td>0.0</td>\n",
       "    </tr>\n",
       "    <tr>\n",
       "      <th>896</th>\n",
       "      <td>20030616</td>\n",
       "      <td>0.0</td>\n",
       "      <td>0.0</td>\n",
       "      <td>0.0</td>\n",
       "      <td>0.0</td>\n",
       "      <td>0.0</td>\n",
       "      <td>0.0</td>\n",
       "      <td>0.0</td>\n",
       "      <td>0.0</td>\n",
       "      <td>0.0</td>\n",
       "      <td>...</td>\n",
       "      <td>0.0</td>\n",
       "      <td>0.0</td>\n",
       "      <td>0.0</td>\n",
       "      <td>0.0</td>\n",
       "      <td>0.0</td>\n",
       "      <td>0.0</td>\n",
       "      <td>0.0</td>\n",
       "      <td>0.0</td>\n",
       "      <td>0.0</td>\n",
       "      <td>0.0</td>\n",
       "    </tr>\n",
       "    <tr>\n",
       "      <th>897</th>\n",
       "      <td>20030609</td>\n",
       "      <td>0.0</td>\n",
       "      <td>0.0</td>\n",
       "      <td>0.0</td>\n",
       "      <td>0.0</td>\n",
       "      <td>0.0</td>\n",
       "      <td>0.0</td>\n",
       "      <td>0.0</td>\n",
       "      <td>0.0</td>\n",
       "      <td>0.0</td>\n",
       "      <td>...</td>\n",
       "      <td>0.0</td>\n",
       "      <td>0.0</td>\n",
       "      <td>0.0</td>\n",
       "      <td>0.0</td>\n",
       "      <td>0.0</td>\n",
       "      <td>0.0</td>\n",
       "      <td>0.0</td>\n",
       "      <td>0.0</td>\n",
       "      <td>0.0</td>\n",
       "      <td>0.0</td>\n",
       "    </tr>\n",
       "    <tr>\n",
       "      <th>898</th>\n",
       "      <td>20030602</td>\n",
       "      <td>0.0</td>\n",
       "      <td>0.0</td>\n",
       "      <td>0.0</td>\n",
       "      <td>0.0</td>\n",
       "      <td>0.0</td>\n",
       "      <td>0.0</td>\n",
       "      <td>0.0</td>\n",
       "      <td>0.0</td>\n",
       "      <td>0.0</td>\n",
       "      <td>...</td>\n",
       "      <td>0.0</td>\n",
       "      <td>0.0</td>\n",
       "      <td>0.0</td>\n",
       "      <td>0.0</td>\n",
       "      <td>0.0</td>\n",
       "      <td>0.0</td>\n",
       "      <td>0.0</td>\n",
       "      <td>0.0</td>\n",
       "      <td>0.0</td>\n",
       "      <td>0.0</td>\n",
       "    </tr>\n",
       "    <tr>\n",
       "      <th>899</th>\n",
       "      <td>20030526</td>\n",
       "      <td>0.0</td>\n",
       "      <td>0.0</td>\n",
       "      <td>0.0</td>\n",
       "      <td>0.0</td>\n",
       "      <td>0.0</td>\n",
       "      <td>0.0</td>\n",
       "      <td>0.0</td>\n",
       "      <td>0.0</td>\n",
       "      <td>0.0</td>\n",
       "      <td>...</td>\n",
       "      <td>0.0</td>\n",
       "      <td>0.0</td>\n",
       "      <td>0.0</td>\n",
       "      <td>0.0</td>\n",
       "      <td>0.0</td>\n",
       "      <td>0.0</td>\n",
       "      <td>0.0</td>\n",
       "      <td>0.0</td>\n",
       "      <td>0.0</td>\n",
       "      <td>0.0</td>\n",
       "    </tr>\n",
       "  </tbody>\n",
       "</table>\n",
       "<p>900 rows × 23 columns</p>\n",
       "</div>"
      ],
      "text/plain": [
       "         date  \\\n",
       "0    20200817   \n",
       "1    20200810   \n",
       "2    20200803   \n",
       "3    20200727   \n",
       "4    20200720   \n",
       "..        ...   \n",
       "895  20030623   \n",
       "896  20030616   \n",
       "897  20030609   \n",
       "898  20030602   \n",
       "899  20030526   \n",
       "\n",
       "     east coast padd 1 imports from  all countries of motor gasoline blending components rbob weekly  \\\n",
       "0    219.0                                                                                             \n",
       "1    168.0                                                                                             \n",
       "2    147.0                                                                                             \n",
       "3    165.0                                                                                             \n",
       "4    229.0                                                                                             \n",
       "..     ...                                                                                             \n",
       "895  0.0                                                                                               \n",
       "896  0.0                                                                                               \n",
       "897  0.0                                                                                               \n",
       "898  0.0                                                                                               \n",
       "899  0.0                                                                                               \n",
       "\n",
       "     west coast padd 5 imports of finished motor gasoline weekly  \\\n",
       "0    3.0                                                           \n",
       "1    3.0                                                           \n",
       "2    2.0                                                           \n",
       "3    9.0                                                           \n",
       "4    39.0                                                          \n",
       "..    ...                                                          \n",
       "895  0.0                                                           \n",
       "896  0.0                                                           \n",
       "897  0.0                                                           \n",
       "898  0.0                                                           \n",
       "899  0.0                                                           \n",
       "\n",
       "     east coast padd 1 imports of finished motor gasoline weekly  \\\n",
       "0    143.0                                                         \n",
       "1    68.0                                                          \n",
       "2    120.0                                                         \n",
       "3    20.0                                                          \n",
       "4    128.0                                                         \n",
       "..     ...                                                         \n",
       "895  0.0                                                           \n",
       "896  0.0                                                           \n",
       "897  0.0                                                           \n",
       "898  0.0                                                           \n",
       "899  0.0                                                           \n",
       "\n",
       "     east coast padd 1 imports of other conventional motor gasoline weekly  \\\n",
       "0    143.0                                                                   \n",
       "1    68.0                                                                    \n",
       "2    120.0                                                                   \n",
       "3    20.0                                                                    \n",
       "4    128.0                                                                   \n",
       "..     ...                                                                   \n",
       "895  0.0                                                                     \n",
       "896  0.0                                                                     \n",
       "897  0.0                                                                     \n",
       "898  0.0                                                                     \n",
       "899  0.0                                                                     \n",
       "\n",
       "     east coast padd 1 imports of conventional gtab gasoline blending components weekly  \\\n",
       "0    136.0                                                                                \n",
       "1    198.0                                                                                \n",
       "2    31.0                                                                                 \n",
       "3    21.0                                                                                 \n",
       "4    14.0                                                                                 \n",
       "..    ...                                                                                 \n",
       "895  0.0                                                                                  \n",
       "896  0.0                                                                                  \n",
       "897  0.0                                                                                  \n",
       "898  0.0                                                                                  \n",
       "899  0.0                                                                                  \n",
       "\n",
       "     west coast padd 5 imports of conventional motor gasoline weekly  \\\n",
       "0    3.0                                                               \n",
       "1    3.0                                                               \n",
       "2    2.0                                                               \n",
       "3    9.0                                                               \n",
       "4    39.0                                                              \n",
       "..    ...                                                              \n",
       "895  0.0                                                               \n",
       "896  0.0                                                               \n",
       "897  0.0                                                               \n",
       "898  0.0                                                               \n",
       "899  0.0                                                               \n",
       "\n",
       "     east coast padd 1 imports of conventional other gasoline blending components weekly  \\\n",
       "0    424.0                                                                                 \n",
       "1    159.0                                                                                 \n",
       "2    470.0                                                                                 \n",
       "3    281.0                                                                                 \n",
       "4    43.0                                                                                  \n",
       "..    ...                                                                                  \n",
       "895  0.0                                                                                   \n",
       "896  0.0                                                                                   \n",
       "897  0.0                                                                                   \n",
       "898  0.0                                                                                   \n",
       "899  0.0                                                                                   \n",
       "\n",
       "     gulf coast padd 3 imports of conventional other gasoline blending components weekly  \\\n",
       "0    52.0                                                                                  \n",
       "1    51.0                                                                                  \n",
       "2    47.0                                                                                  \n",
       "3    12.0                                                                                  \n",
       "4    17.0                                                                                  \n",
       "..    ...                                                                                  \n",
       "895  0.0                                                                                   \n",
       "896  0.0                                                                                   \n",
       "897  0.0                                                                                   \n",
       "898  0.0                                                                                   \n",
       "899  0.0                                                                                   \n",
       "\n",
       "     rocky mountain padd 4 conventional other gasoline blending components imports weekly  \\\n",
       "0    6.0                                                                                    \n",
       "1    4.0                                                                                    \n",
       "2    3.0                                                                                    \n",
       "3    6.0                                                                                    \n",
       "4    4.0                                                                                    \n",
       "..   ...                                                                                    \n",
       "895  0.0                                                                                    \n",
       "896  0.0                                                                                    \n",
       "897  0.0                                                                                    \n",
       "898  0.0                                                                                    \n",
       "899  0.0                                                                                    \n",
       "\n",
       "     ...  east coast padd 1 imports of total gasoline weekly  \\\n",
       "0    ...  962.0                                                \n",
       "1    ...  599.0                                                \n",
       "2    ...  800.0                                                \n",
       "3    ...  515.0                                                \n",
       "4    ...  432.0                                                \n",
       "..   ...    ...                                                \n",
       "895  ...  0.0                                                  \n",
       "896  ...  0.0                                                  \n",
       "897  ...  0.0                                                  \n",
       "898  ...  0.0                                                  \n",
       "899  ...  0.0                                                  \n",
       "\n",
       "     gulf coast padd 3 imports of total gasoline weekly  \\\n",
       "0    52.0                                                 \n",
       "1    51.0                                                 \n",
       "2    47.0                                                 \n",
       "3    12.0                                                 \n",
       "4    17.0                                                 \n",
       "..    ...                                                 \n",
       "895  0.0                                                  \n",
       "896  0.0                                                  \n",
       "897  0.0                                                  \n",
       "898  0.0                                                  \n",
       "899  0.0                                                  \n",
       "\n",
       "     rocky mountain padd 4 imports of total gasoline weekly  \\\n",
       "0    6.0                                                      \n",
       "1    4.0                                                      \n",
       "2    3.0                                                      \n",
       "3    6.0                                                      \n",
       "4    4.0                                                      \n",
       "..   ...                                                      \n",
       "895  0.0                                                      \n",
       "896  0.0                                                      \n",
       "897  0.0                                                      \n",
       "898  0.0                                                      \n",
       "899  0.0                                                      \n",
       "\n",
       "     west coast padd 5 imports of total gasoline weekly  \\\n",
       "0    3.0                                                  \n",
       "1    4.0                                                  \n",
       "2    74.0                                                 \n",
       "3    10.0                                                 \n",
       "4    39.0                                                 \n",
       "..    ...                                                 \n",
       "895  0.0                                                  \n",
       "896  0.0                                                  \n",
       "897  0.0                                                  \n",
       "898  0.0                                                  \n",
       "899  0.0                                                  \n",
       "\n",
       "     east coast padd 1 imports of conventional cbob gasoline blending components weekly  \\\n",
       "0    41.0                                                                                 \n",
       "1    6.0                                                                                  \n",
       "2    32.0                                                                                 \n",
       "3    27.0                                                                                 \n",
       "4    18.0                                                                                 \n",
       "..    ...                                                                                 \n",
       "895  0.0                                                                                  \n",
       "896  0.0                                                                                  \n",
       "897  0.0                                                                                  \n",
       "898  0.0                                                                                  \n",
       "899  0.0                                                                                  \n",
       "\n",
       "     east coast padd 1 imports of gasoline blending components weekly  \\\n",
       "0    820.0                                                              \n",
       "1    531.0                                                              \n",
       "2    680.0                                                              \n",
       "3    494.0                                                              \n",
       "4    304.0                                                              \n",
       "..     ...                                                              \n",
       "895  0.0                                                                \n",
       "896  0.0                                                                \n",
       "897  0.0                                                                \n",
       "898  0.0                                                                \n",
       "899  0.0                                                                \n",
       "\n",
       "     gulf coast padd 3 imports of gasoline blending components weekly  \\\n",
       "0    52.0                                                               \n",
       "1    51.0                                                               \n",
       "2    47.0                                                               \n",
       "3    12.0                                                               \n",
       "4    17.0                                                               \n",
       "..    ...                                                               \n",
       "895  0.0                                                                \n",
       "896  0.0                                                                \n",
       "897  0.0                                                                \n",
       "898  0.0                                                                \n",
       "899  0.0                                                                \n",
       "\n",
       "     rocky mountain padd 4 imports of gasoline blending components weekly  \\\n",
       "0    6.0                                                                    \n",
       "1    4.0                                                                    \n",
       "2    3.0                                                                    \n",
       "3    6.0                                                                    \n",
       "4    4.0                                                                    \n",
       "..   ...                                                                    \n",
       "895  0.0                                                                    \n",
       "896  0.0                                                                    \n",
       "897  0.0                                                                    \n",
       "898  0.0                                                                    \n",
       "899  0.0                                                                    \n",
       "\n",
       "     west coast padd 5 imports of gasoline blending components weekly  \\\n",
       "0    0.0                                                                \n",
       "1    1.0                                                                \n",
       "2    72.0                                                               \n",
       "3    0.0                                                                \n",
       "4    1.0                                                                \n",
       "..   ...                                                                \n",
       "895  0.0                                                                \n",
       "896  0.0                                                                \n",
       "897  0.0                                                                \n",
       "898  0.0                                                                \n",
       "899  0.0                                                                \n",
       "\n",
       "     east coast padd 1 imports of reformulated rbob with alcohol gasoline blending components weekly  \n",
       "0    248.0                                                                                            \n",
       "1    338.0                                                                                            \n",
       "2    172.0                                                                                            \n",
       "3    183.0                                                                                            \n",
       "4    199.0                                                                                            \n",
       "..     ...                                                                                            \n",
       "895  0.0                                                                                              \n",
       "896  0.0                                                                                              \n",
       "897  0.0                                                                                              \n",
       "898  0.0                                                                                              \n",
       "899  0.0                                                                                              \n",
       "\n",
       "[900 rows x 23 columns]"
      ]
     },
     "execution_count": 824,
     "metadata": {},
     "output_type": "execute_result"
    }
   ],
   "source": [
    "padd_list = ['padd 1','padd 2','padd 3','padd 4','padd 5']\n",
    "prod_type_list = ['gasoline']\n",
    "grade_list = []#['regular']\n",
    "unit_type_list = ['imports']#['ending stocks']\n",
    "processor_type_list = []\n",
    "\n",
    "all_true = pd.Series([True for _ in range(len(df_cols))])\n",
    "do_screen = lambda c,l:all_true if len(l)<1 else df_cols[c].isin(l)\n",
    "\n",
    "pad_regex_screen = do_screen('PAD_REGEX',padd_list)\n",
    "pad_prod_type_screen = do_screen('PRODUCT_TYPE',prod_type_list)\n",
    "pad_unit_type_screen = do_screen('UNIT_TYPE',unit_type_list)\n",
    "pad_grade_screen = do_screen('GRADE',grade_list)\n",
    "pad_processor_type_screen = do_screen('PROCESSOR_TYPE',processor_type_list)\n",
    "\n",
    "screens = pad_regex_screen & pad_prod_type_screen & pad_unit_type_screen & pad_grade_screen & pad_processor_type_screen\n",
    "cols_to_view = list(df_cols[screens].col.values)\n",
    "cols_to_view = ['date'] + cols_to_view\n",
    "df_screen = df_pet_lower[cols_to_view].fillna(0)\n",
    "valid_cols = [c for c in df_screen.columns.values if df_screen[c].iloc[0:2].sum()>0]\n",
    "df_screen[valid_cols]\n"
   ]
  },
  {
   "cell_type": "code",
   "execution_count": 811,
   "metadata": {},
   "outputs": [
    {
     "data": {
      "text/plain": [
       "pandas.core.series.Series"
      ]
     },
     "execution_count": 811,
     "metadata": {},
     "output_type": "execute_result"
    }
   ],
   "source": [
    "pad_regex_screen\n",
    "type(pad_unit_type_screen)"
   ]
  },
  {
   "cell_type": "code",
   "execution_count": 795,
   "metadata": {
    "scrolled": false
   },
   "outputs": [
    {
     "data": {
      "application/vnd.plotly.v1+json": {
       "config": {
        "linkText": "Export to plot.ly",
        "plotlyServerURL": "https://plot.ly",
        "showLink": false
       },
       "data": [],
       "layout": {
        "autosize": true,
        "hovermode": "x",
        "legend": {
         "orientation": "h",
         "x": 0,
         "y": 1.1
        },
        "margin": {
         "b": 100
        },
        "modebar": {
         "bgcolor": "grey",
         "orientation": "v"
        },
        "spikedistance": 1000,
        "template": {
         "data": {
          "bar": [
           {
            "error_x": {
             "color": "#2a3f5f"
            },
            "error_y": {
             "color": "#2a3f5f"
            },
            "marker": {
             "line": {
              "color": "#E5ECF6",
              "width": 0.5
             }
            },
            "type": "bar"
           }
          ],
          "barpolar": [
           {
            "marker": {
             "line": {
              "color": "#E5ECF6",
              "width": 0.5
             }
            },
            "type": "barpolar"
           }
          ],
          "carpet": [
           {
            "aaxis": {
             "endlinecolor": "#2a3f5f",
             "gridcolor": "white",
             "linecolor": "white",
             "minorgridcolor": "white",
             "startlinecolor": "#2a3f5f"
            },
            "baxis": {
             "endlinecolor": "#2a3f5f",
             "gridcolor": "white",
             "linecolor": "white",
             "minorgridcolor": "white",
             "startlinecolor": "#2a3f5f"
            },
            "type": "carpet"
           }
          ],
          "choropleth": [
           {
            "colorbar": {
             "outlinewidth": 0,
             "ticks": ""
            },
            "type": "choropleth"
           }
          ],
          "contour": [
           {
            "colorbar": {
             "outlinewidth": 0,
             "ticks": ""
            },
            "colorscale": [
             [
              0,
              "#0d0887"
             ],
             [
              0.1111111111111111,
              "#46039f"
             ],
             [
              0.2222222222222222,
              "#7201a8"
             ],
             [
              0.3333333333333333,
              "#9c179e"
             ],
             [
              0.4444444444444444,
              "#bd3786"
             ],
             [
              0.5555555555555556,
              "#d8576b"
             ],
             [
              0.6666666666666666,
              "#ed7953"
             ],
             [
              0.7777777777777778,
              "#fb9f3a"
             ],
             [
              0.8888888888888888,
              "#fdca26"
             ],
             [
              1,
              "#f0f921"
             ]
            ],
            "type": "contour"
           }
          ],
          "contourcarpet": [
           {
            "colorbar": {
             "outlinewidth": 0,
             "ticks": ""
            },
            "type": "contourcarpet"
           }
          ],
          "heatmap": [
           {
            "colorbar": {
             "outlinewidth": 0,
             "ticks": ""
            },
            "colorscale": [
             [
              0,
              "#0d0887"
             ],
             [
              0.1111111111111111,
              "#46039f"
             ],
             [
              0.2222222222222222,
              "#7201a8"
             ],
             [
              0.3333333333333333,
              "#9c179e"
             ],
             [
              0.4444444444444444,
              "#bd3786"
             ],
             [
              0.5555555555555556,
              "#d8576b"
             ],
             [
              0.6666666666666666,
              "#ed7953"
             ],
             [
              0.7777777777777778,
              "#fb9f3a"
             ],
             [
              0.8888888888888888,
              "#fdca26"
             ],
             [
              1,
              "#f0f921"
             ]
            ],
            "type": "heatmap"
           }
          ],
          "heatmapgl": [
           {
            "colorbar": {
             "outlinewidth": 0,
             "ticks": ""
            },
            "colorscale": [
             [
              0,
              "#0d0887"
             ],
             [
              0.1111111111111111,
              "#46039f"
             ],
             [
              0.2222222222222222,
              "#7201a8"
             ],
             [
              0.3333333333333333,
              "#9c179e"
             ],
             [
              0.4444444444444444,
              "#bd3786"
             ],
             [
              0.5555555555555556,
              "#d8576b"
             ],
             [
              0.6666666666666666,
              "#ed7953"
             ],
             [
              0.7777777777777778,
              "#fb9f3a"
             ],
             [
              0.8888888888888888,
              "#fdca26"
             ],
             [
              1,
              "#f0f921"
             ]
            ],
            "type": "heatmapgl"
           }
          ],
          "histogram": [
           {
            "marker": {
             "colorbar": {
              "outlinewidth": 0,
              "ticks": ""
             }
            },
            "type": "histogram"
           }
          ],
          "histogram2d": [
           {
            "colorbar": {
             "outlinewidth": 0,
             "ticks": ""
            },
            "colorscale": [
             [
              0,
              "#0d0887"
             ],
             [
              0.1111111111111111,
              "#46039f"
             ],
             [
              0.2222222222222222,
              "#7201a8"
             ],
             [
              0.3333333333333333,
              "#9c179e"
             ],
             [
              0.4444444444444444,
              "#bd3786"
             ],
             [
              0.5555555555555556,
              "#d8576b"
             ],
             [
              0.6666666666666666,
              "#ed7953"
             ],
             [
              0.7777777777777778,
              "#fb9f3a"
             ],
             [
              0.8888888888888888,
              "#fdca26"
             ],
             [
              1,
              "#f0f921"
             ]
            ],
            "type": "histogram2d"
           }
          ],
          "histogram2dcontour": [
           {
            "colorbar": {
             "outlinewidth": 0,
             "ticks": ""
            },
            "colorscale": [
             [
              0,
              "#0d0887"
             ],
             [
              0.1111111111111111,
              "#46039f"
             ],
             [
              0.2222222222222222,
              "#7201a8"
             ],
             [
              0.3333333333333333,
              "#9c179e"
             ],
             [
              0.4444444444444444,
              "#bd3786"
             ],
             [
              0.5555555555555556,
              "#d8576b"
             ],
             [
              0.6666666666666666,
              "#ed7953"
             ],
             [
              0.7777777777777778,
              "#fb9f3a"
             ],
             [
              0.8888888888888888,
              "#fdca26"
             ],
             [
              1,
              "#f0f921"
             ]
            ],
            "type": "histogram2dcontour"
           }
          ],
          "mesh3d": [
           {
            "colorbar": {
             "outlinewidth": 0,
             "ticks": ""
            },
            "type": "mesh3d"
           }
          ],
          "parcoords": [
           {
            "line": {
             "colorbar": {
              "outlinewidth": 0,
              "ticks": ""
             }
            },
            "type": "parcoords"
           }
          ],
          "pie": [
           {
            "automargin": true,
            "type": "pie"
           }
          ],
          "scatter": [
           {
            "marker": {
             "colorbar": {
              "outlinewidth": 0,
              "ticks": ""
             }
            },
            "type": "scatter"
           }
          ],
          "scatter3d": [
           {
            "line": {
             "colorbar": {
              "outlinewidth": 0,
              "ticks": ""
             }
            },
            "marker": {
             "colorbar": {
              "outlinewidth": 0,
              "ticks": ""
             }
            },
            "type": "scatter3d"
           }
          ],
          "scattercarpet": [
           {
            "marker": {
             "colorbar": {
              "outlinewidth": 0,
              "ticks": ""
             }
            },
            "type": "scattercarpet"
           }
          ],
          "scattergeo": [
           {
            "marker": {
             "colorbar": {
              "outlinewidth": 0,
              "ticks": ""
             }
            },
            "type": "scattergeo"
           }
          ],
          "scattergl": [
           {
            "marker": {
             "colorbar": {
              "outlinewidth": 0,
              "ticks": ""
             }
            },
            "type": "scattergl"
           }
          ],
          "scattermapbox": [
           {
            "marker": {
             "colorbar": {
              "outlinewidth": 0,
              "ticks": ""
             }
            },
            "type": "scattermapbox"
           }
          ],
          "scatterpolar": [
           {
            "marker": {
             "colorbar": {
              "outlinewidth": 0,
              "ticks": ""
             }
            },
            "type": "scatterpolar"
           }
          ],
          "scatterpolargl": [
           {
            "marker": {
             "colorbar": {
              "outlinewidth": 0,
              "ticks": ""
             }
            },
            "type": "scatterpolargl"
           }
          ],
          "scatterternary": [
           {
            "marker": {
             "colorbar": {
              "outlinewidth": 0,
              "ticks": ""
             }
            },
            "type": "scatterternary"
           }
          ],
          "surface": [
           {
            "colorbar": {
             "outlinewidth": 0,
             "ticks": ""
            },
            "colorscale": [
             [
              0,
              "#0d0887"
             ],
             [
              0.1111111111111111,
              "#46039f"
             ],
             [
              0.2222222222222222,
              "#7201a8"
             ],
             [
              0.3333333333333333,
              "#9c179e"
             ],
             [
              0.4444444444444444,
              "#bd3786"
             ],
             [
              0.5555555555555556,
              "#d8576b"
             ],
             [
              0.6666666666666666,
              "#ed7953"
             ],
             [
              0.7777777777777778,
              "#fb9f3a"
             ],
             [
              0.8888888888888888,
              "#fdca26"
             ],
             [
              1,
              "#f0f921"
             ]
            ],
            "type": "surface"
           }
          ],
          "table": [
           {
            "cells": {
             "fill": {
              "color": "#EBF0F8"
             },
             "line": {
              "color": "white"
             }
            },
            "header": {
             "fill": {
              "color": "#C8D4E3"
             },
             "line": {
              "color": "white"
             }
            },
            "type": "table"
           }
          ]
         },
         "layout": {
          "annotationdefaults": {
           "arrowcolor": "#2a3f5f",
           "arrowhead": 0,
           "arrowwidth": 1
          },
          "coloraxis": {
           "colorbar": {
            "outlinewidth": 0,
            "ticks": ""
           }
          },
          "colorscale": {
           "diverging": [
            [
             0,
             "#8e0152"
            ],
            [
             0.1,
             "#c51b7d"
            ],
            [
             0.2,
             "#de77ae"
            ],
            [
             0.3,
             "#f1b6da"
            ],
            [
             0.4,
             "#fde0ef"
            ],
            [
             0.5,
             "#f7f7f7"
            ],
            [
             0.6,
             "#e6f5d0"
            ],
            [
             0.7,
             "#b8e186"
            ],
            [
             0.8,
             "#7fbc41"
            ],
            [
             0.9,
             "#4d9221"
            ],
            [
             1,
             "#276419"
            ]
           ],
           "sequential": [
            [
             0,
             "#0d0887"
            ],
            [
             0.1111111111111111,
             "#46039f"
            ],
            [
             0.2222222222222222,
             "#7201a8"
            ],
            [
             0.3333333333333333,
             "#9c179e"
            ],
            [
             0.4444444444444444,
             "#bd3786"
            ],
            [
             0.5555555555555556,
             "#d8576b"
            ],
            [
             0.6666666666666666,
             "#ed7953"
            ],
            [
             0.7777777777777778,
             "#fb9f3a"
            ],
            [
             0.8888888888888888,
             "#fdca26"
            ],
            [
             1,
             "#f0f921"
            ]
           ],
           "sequentialminus": [
            [
             0,
             "#0d0887"
            ],
            [
             0.1111111111111111,
             "#46039f"
            ],
            [
             0.2222222222222222,
             "#7201a8"
            ],
            [
             0.3333333333333333,
             "#9c179e"
            ],
            [
             0.4444444444444444,
             "#bd3786"
            ],
            [
             0.5555555555555556,
             "#d8576b"
            ],
            [
             0.6666666666666666,
             "#ed7953"
            ],
            [
             0.7777777777777778,
             "#fb9f3a"
            ],
            [
             0.8888888888888888,
             "#fdca26"
            ],
            [
             1,
             "#f0f921"
            ]
           ]
          },
          "colorway": [
           "#636efa",
           "#EF553B",
           "#00cc96",
           "#ab63fa",
           "#FFA15A",
           "#19d3f3",
           "#FF6692",
           "#B6E880",
           "#FF97FF",
           "#FECB52"
          ],
          "font": {
           "color": "#2a3f5f"
          },
          "geo": {
           "bgcolor": "white",
           "lakecolor": "white",
           "landcolor": "#E5ECF6",
           "showlakes": true,
           "showland": true,
           "subunitcolor": "white"
          },
          "hoverlabel": {
           "align": "left"
          },
          "hovermode": "closest",
          "mapbox": {
           "style": "light"
          },
          "paper_bgcolor": "white",
          "plot_bgcolor": "#E5ECF6",
          "polar": {
           "angularaxis": {
            "gridcolor": "white",
            "linecolor": "white",
            "ticks": ""
           },
           "bgcolor": "#E5ECF6",
           "radialaxis": {
            "gridcolor": "white",
            "linecolor": "white",
            "ticks": ""
           }
          },
          "scene": {
           "xaxis": {
            "backgroundcolor": "#E5ECF6",
            "gridcolor": "white",
            "gridwidth": 2,
            "linecolor": "white",
            "showbackground": true,
            "ticks": "",
            "zerolinecolor": "white"
           },
           "yaxis": {
            "backgroundcolor": "#E5ECF6",
            "gridcolor": "white",
            "gridwidth": 2,
            "linecolor": "white",
            "showbackground": true,
            "ticks": "",
            "zerolinecolor": "white"
           },
           "zaxis": {
            "backgroundcolor": "#E5ECF6",
            "gridcolor": "white",
            "gridwidth": 2,
            "linecolor": "white",
            "showbackground": true,
            "ticks": "",
            "zerolinecolor": "white"
           }
          },
          "shapedefaults": {
           "line": {
            "color": "#2a3f5f"
           }
          },
          "ternary": {
           "aaxis": {
            "gridcolor": "white",
            "linecolor": "white",
            "ticks": ""
           },
           "baxis": {
            "gridcolor": "white",
            "linecolor": "white",
            "ticks": ""
           },
           "bgcolor": "#E5ECF6",
           "caxis": {
            "gridcolor": "white",
            "linecolor": "white",
            "ticks": ""
           }
          },
          "title": {
           "x": 0.05
          },
          "xaxis": {
           "automargin": true,
           "gridcolor": "white",
           "linecolor": "white",
           "ticks": "",
           "title": {
            "standoff": 15
           },
           "zerolinecolor": "white",
           "zerolinewidth": 2
          },
          "yaxis": {
           "automargin": true,
           "gridcolor": "white",
           "linecolor": "white",
           "ticks": "",
           "title": {
            "standoff": 15
           },
           "zerolinecolor": "white",
           "zerolinewidth": 2
          }
         }
        },
        "title": {
         "x": 0.5,
         "xanchor": "center",
         "y": 0.9,
         "yanchor": "top"
        },
        "xaxis": {
         "showspikes": true,
         "spikedash": "solid",
         "spikemode": "toaxis+across",
         "spikethickness": 1,
         "tickangle": 45,
         "ticktext": [
          20200817,
          20191007,
          20181126,
          20180115,
          20170306,
          20160425,
          20150615,
          20140804,
          20130923,
          20121112,
          20120102,
          20110221,
          20100412,
          20090601,
          20080721,
          20070910,
          20061030,
          20051219,
          20050207,
          20040329
         ],
         "tickvals": [
          20200817,
          20191007,
          20181126,
          20180115,
          20170306,
          20160425,
          20150615,
          20140804,
          20130923,
          20121112,
          20120102,
          20110221,
          20100412,
          20090601,
          20080721,
          20070910,
          20061030,
          20051219,
          20050207,
          20040329
         ],
         "type": "category"
        },
        "yaxis": {
         "showspikes": true,
         "spikedash": "solid",
         "spikemode": "toaxis+across",
         "spikethickness": 1,
         "title": {
          "text": "y main"
         }
        },
        "yaxis2": {
         "overlaying": "y",
         "side": "right",
         "title": {
          "text": "y alt"
         }
        }
       }
      },
      "text/html": [
       "<div>\n",
       "        \n",
       "        \n",
       "            <div id=\"80516ebf-52be-4c7c-a6a5-fb213469f79f\" class=\"plotly-graph-div\" style=\"height:525px; width:100%;\"></div>\n",
       "            <script type=\"text/javascript\">\n",
       "                require([\"plotly\"], function(Plotly) {\n",
       "                    window.PLOTLYENV=window.PLOTLYENV || {};\n",
       "                    \n",
       "                if (document.getElementById(\"80516ebf-52be-4c7c-a6a5-fb213469f79f\")) {\n",
       "                    Plotly.newPlot(\n",
       "                        '80516ebf-52be-4c7c-a6a5-fb213469f79f',\n",
       "                        [],\n",
       "                        {\"autosize\": true, \"hovermode\": \"x\", \"legend\": {\"orientation\": \"h\", \"x\": 0, \"y\": 1.1}, \"margin\": {\"b\": 100}, \"modebar\": {\"bgcolor\": \"grey\", \"orientation\": \"v\"}, \"spikedistance\": 1000, \"template\": {\"data\": {\"bar\": [{\"error_x\": {\"color\": \"#2a3f5f\"}, \"error_y\": {\"color\": \"#2a3f5f\"}, \"marker\": {\"line\": {\"color\": \"#E5ECF6\", \"width\": 0.5}}, \"type\": \"bar\"}], \"barpolar\": [{\"marker\": {\"line\": {\"color\": \"#E5ECF6\", \"width\": 0.5}}, \"type\": \"barpolar\"}], \"carpet\": [{\"aaxis\": {\"endlinecolor\": \"#2a3f5f\", \"gridcolor\": \"white\", \"linecolor\": \"white\", \"minorgridcolor\": \"white\", \"startlinecolor\": \"#2a3f5f\"}, \"baxis\": {\"endlinecolor\": \"#2a3f5f\", \"gridcolor\": \"white\", \"linecolor\": \"white\", \"minorgridcolor\": \"white\", \"startlinecolor\": \"#2a3f5f\"}, \"type\": \"carpet\"}], \"choropleth\": [{\"colorbar\": {\"outlinewidth\": 0, \"ticks\": \"\"}, \"type\": \"choropleth\"}], \"contour\": [{\"colorbar\": {\"outlinewidth\": 0, \"ticks\": \"\"}, \"colorscale\": [[0.0, \"#0d0887\"], [0.1111111111111111, \"#46039f\"], [0.2222222222222222, \"#7201a8\"], [0.3333333333333333, \"#9c179e\"], [0.4444444444444444, \"#bd3786\"], [0.5555555555555556, \"#d8576b\"], [0.6666666666666666, \"#ed7953\"], [0.7777777777777778, \"#fb9f3a\"], [0.8888888888888888, \"#fdca26\"], [1.0, \"#f0f921\"]], \"type\": \"contour\"}], \"contourcarpet\": [{\"colorbar\": {\"outlinewidth\": 0, \"ticks\": \"\"}, \"type\": \"contourcarpet\"}], \"heatmap\": [{\"colorbar\": {\"outlinewidth\": 0, \"ticks\": \"\"}, \"colorscale\": [[0.0, \"#0d0887\"], [0.1111111111111111, \"#46039f\"], [0.2222222222222222, \"#7201a8\"], [0.3333333333333333, \"#9c179e\"], [0.4444444444444444, \"#bd3786\"], [0.5555555555555556, \"#d8576b\"], [0.6666666666666666, \"#ed7953\"], [0.7777777777777778, \"#fb9f3a\"], [0.8888888888888888, \"#fdca26\"], [1.0, \"#f0f921\"]], \"type\": \"heatmap\"}], \"heatmapgl\": [{\"colorbar\": {\"outlinewidth\": 0, \"ticks\": \"\"}, \"colorscale\": [[0.0, \"#0d0887\"], [0.1111111111111111, \"#46039f\"], [0.2222222222222222, \"#7201a8\"], [0.3333333333333333, \"#9c179e\"], [0.4444444444444444, \"#bd3786\"], [0.5555555555555556, \"#d8576b\"], [0.6666666666666666, \"#ed7953\"], [0.7777777777777778, \"#fb9f3a\"], [0.8888888888888888, \"#fdca26\"], [1.0, \"#f0f921\"]], \"type\": \"heatmapgl\"}], \"histogram\": [{\"marker\": {\"colorbar\": {\"outlinewidth\": 0, \"ticks\": \"\"}}, \"type\": \"histogram\"}], \"histogram2d\": [{\"colorbar\": {\"outlinewidth\": 0, \"ticks\": \"\"}, \"colorscale\": [[0.0, \"#0d0887\"], [0.1111111111111111, \"#46039f\"], [0.2222222222222222, \"#7201a8\"], [0.3333333333333333, \"#9c179e\"], [0.4444444444444444, \"#bd3786\"], [0.5555555555555556, \"#d8576b\"], [0.6666666666666666, \"#ed7953\"], [0.7777777777777778, \"#fb9f3a\"], [0.8888888888888888, \"#fdca26\"], [1.0, \"#f0f921\"]], \"type\": \"histogram2d\"}], \"histogram2dcontour\": [{\"colorbar\": {\"outlinewidth\": 0, \"ticks\": \"\"}, \"colorscale\": [[0.0, \"#0d0887\"], [0.1111111111111111, \"#46039f\"], [0.2222222222222222, \"#7201a8\"], [0.3333333333333333, \"#9c179e\"], [0.4444444444444444, \"#bd3786\"], [0.5555555555555556, \"#d8576b\"], [0.6666666666666666, \"#ed7953\"], [0.7777777777777778, \"#fb9f3a\"], [0.8888888888888888, \"#fdca26\"], [1.0, \"#f0f921\"]], \"type\": \"histogram2dcontour\"}], \"mesh3d\": [{\"colorbar\": {\"outlinewidth\": 0, \"ticks\": \"\"}, \"type\": \"mesh3d\"}], \"parcoords\": [{\"line\": {\"colorbar\": {\"outlinewidth\": 0, \"ticks\": \"\"}}, \"type\": \"parcoords\"}], \"pie\": [{\"automargin\": true, \"type\": \"pie\"}], \"scatter\": [{\"marker\": {\"colorbar\": {\"outlinewidth\": 0, \"ticks\": \"\"}}, \"type\": \"scatter\"}], \"scatter3d\": [{\"line\": {\"colorbar\": {\"outlinewidth\": 0, \"ticks\": \"\"}}, \"marker\": {\"colorbar\": {\"outlinewidth\": 0, \"ticks\": \"\"}}, \"type\": \"scatter3d\"}], \"scattercarpet\": [{\"marker\": {\"colorbar\": {\"outlinewidth\": 0, \"ticks\": \"\"}}, \"type\": \"scattercarpet\"}], \"scattergeo\": [{\"marker\": {\"colorbar\": {\"outlinewidth\": 0, \"ticks\": \"\"}}, \"type\": \"scattergeo\"}], \"scattergl\": [{\"marker\": {\"colorbar\": {\"outlinewidth\": 0, \"ticks\": \"\"}}, \"type\": \"scattergl\"}], \"scattermapbox\": [{\"marker\": {\"colorbar\": {\"outlinewidth\": 0, \"ticks\": \"\"}}, \"type\": \"scattermapbox\"}], \"scatterpolar\": [{\"marker\": {\"colorbar\": {\"outlinewidth\": 0, \"ticks\": \"\"}}, \"type\": \"scatterpolar\"}], \"scatterpolargl\": [{\"marker\": {\"colorbar\": {\"outlinewidth\": 0, \"ticks\": \"\"}}, \"type\": \"scatterpolargl\"}], \"scatterternary\": [{\"marker\": {\"colorbar\": {\"outlinewidth\": 0, \"ticks\": \"\"}}, \"type\": \"scatterternary\"}], \"surface\": [{\"colorbar\": {\"outlinewidth\": 0, \"ticks\": \"\"}, \"colorscale\": [[0.0, \"#0d0887\"], [0.1111111111111111, \"#46039f\"], [0.2222222222222222, \"#7201a8\"], [0.3333333333333333, \"#9c179e\"], [0.4444444444444444, \"#bd3786\"], [0.5555555555555556, \"#d8576b\"], [0.6666666666666666, \"#ed7953\"], [0.7777777777777778, \"#fb9f3a\"], [0.8888888888888888, \"#fdca26\"], [1.0, \"#f0f921\"]], \"type\": \"surface\"}], \"table\": [{\"cells\": {\"fill\": {\"color\": \"#EBF0F8\"}, \"line\": {\"color\": \"white\"}}, \"header\": {\"fill\": {\"color\": \"#C8D4E3\"}, \"line\": {\"color\": \"white\"}}, \"type\": \"table\"}]}, \"layout\": {\"annotationdefaults\": {\"arrowcolor\": \"#2a3f5f\", \"arrowhead\": 0, \"arrowwidth\": 1}, \"coloraxis\": {\"colorbar\": {\"outlinewidth\": 0, \"ticks\": \"\"}}, \"colorscale\": {\"diverging\": [[0, \"#8e0152\"], [0.1, \"#c51b7d\"], [0.2, \"#de77ae\"], [0.3, \"#f1b6da\"], [0.4, \"#fde0ef\"], [0.5, \"#f7f7f7\"], [0.6, \"#e6f5d0\"], [0.7, \"#b8e186\"], [0.8, \"#7fbc41\"], [0.9, \"#4d9221\"], [1, \"#276419\"]], \"sequential\": [[0.0, \"#0d0887\"], [0.1111111111111111, \"#46039f\"], [0.2222222222222222, \"#7201a8\"], [0.3333333333333333, \"#9c179e\"], [0.4444444444444444, \"#bd3786\"], [0.5555555555555556, \"#d8576b\"], [0.6666666666666666, \"#ed7953\"], [0.7777777777777778, \"#fb9f3a\"], [0.8888888888888888, \"#fdca26\"], [1.0, \"#f0f921\"]], \"sequentialminus\": [[0.0, \"#0d0887\"], [0.1111111111111111, \"#46039f\"], [0.2222222222222222, \"#7201a8\"], [0.3333333333333333, \"#9c179e\"], [0.4444444444444444, \"#bd3786\"], [0.5555555555555556, \"#d8576b\"], [0.6666666666666666, \"#ed7953\"], [0.7777777777777778, \"#fb9f3a\"], [0.8888888888888888, \"#fdca26\"], [1.0, \"#f0f921\"]]}, \"colorway\": [\"#636efa\", \"#EF553B\", \"#00cc96\", \"#ab63fa\", \"#FFA15A\", \"#19d3f3\", \"#FF6692\", \"#B6E880\", \"#FF97FF\", \"#FECB52\"], \"font\": {\"color\": \"#2a3f5f\"}, \"geo\": {\"bgcolor\": \"white\", \"lakecolor\": \"white\", \"landcolor\": \"#E5ECF6\", \"showlakes\": true, \"showland\": true, \"subunitcolor\": \"white\"}, \"hoverlabel\": {\"align\": \"left\"}, \"hovermode\": \"closest\", \"mapbox\": {\"style\": \"light\"}, \"paper_bgcolor\": \"white\", \"plot_bgcolor\": \"#E5ECF6\", \"polar\": {\"angularaxis\": {\"gridcolor\": \"white\", \"linecolor\": \"white\", \"ticks\": \"\"}, \"bgcolor\": \"#E5ECF6\", \"radialaxis\": {\"gridcolor\": \"white\", \"linecolor\": \"white\", \"ticks\": \"\"}}, \"scene\": {\"xaxis\": {\"backgroundcolor\": \"#E5ECF6\", \"gridcolor\": \"white\", \"gridwidth\": 2, \"linecolor\": \"white\", \"showbackground\": true, \"ticks\": \"\", \"zerolinecolor\": \"white\"}, \"yaxis\": {\"backgroundcolor\": \"#E5ECF6\", \"gridcolor\": \"white\", \"gridwidth\": 2, \"linecolor\": \"white\", \"showbackground\": true, \"ticks\": \"\", \"zerolinecolor\": \"white\"}, \"zaxis\": {\"backgroundcolor\": \"#E5ECF6\", \"gridcolor\": \"white\", \"gridwidth\": 2, \"linecolor\": \"white\", \"showbackground\": true, \"ticks\": \"\", \"zerolinecolor\": \"white\"}}, \"shapedefaults\": {\"line\": {\"color\": \"#2a3f5f\"}}, \"ternary\": {\"aaxis\": {\"gridcolor\": \"white\", \"linecolor\": \"white\", \"ticks\": \"\"}, \"baxis\": {\"gridcolor\": \"white\", \"linecolor\": \"white\", \"ticks\": \"\"}, \"bgcolor\": \"#E5ECF6\", \"caxis\": {\"gridcolor\": \"white\", \"linecolor\": \"white\", \"ticks\": \"\"}}, \"title\": {\"x\": 0.05}, \"xaxis\": {\"automargin\": true, \"gridcolor\": \"white\", \"linecolor\": \"white\", \"ticks\": \"\", \"title\": {\"standoff\": 15}, \"zerolinecolor\": \"white\", \"zerolinewidth\": 2}, \"yaxis\": {\"automargin\": true, \"gridcolor\": \"white\", \"linecolor\": \"white\", \"ticks\": \"\", \"title\": {\"standoff\": 15}, \"zerolinecolor\": \"white\", \"zerolinewidth\": 2}}}, \"title\": {\"x\": 0.5, \"xanchor\": \"center\", \"y\": 0.9, \"yanchor\": \"top\"}, \"xaxis\": {\"showspikes\": true, \"spikedash\": \"solid\", \"spikemode\": \"toaxis+across\", \"spikethickness\": 1, \"tickangle\": 45, \"ticktext\": [20200817, 20191007, 20181126, 20180115, 20170306, 20160425, 20150615, 20140804, 20130923, 20121112, 20120102, 20110221, 20100412, 20090601, 20080721, 20070910, 20061030, 20051219, 20050207, 20040329], \"tickvals\": [20200817, 20191007, 20181126, 20180115, 20170306, 20160425, 20150615, 20140804, 20130923, 20121112, 20120102, 20110221, 20100412, 20090601, 20080721, 20070910, 20061030, 20051219, 20050207, 20040329], \"type\": \"category\"}, \"yaxis\": {\"showspikes\": true, \"spikedash\": \"solid\", \"spikemode\": \"toaxis+across\", \"spikethickness\": 1, \"title\": {\"text\": \"y main\"}}, \"yaxis2\": {\"overlaying\": \"y\", \"side\": \"right\", \"title\": {\"text\": \"y alt\"}}},\n",
       "                        {\"responsive\": true}\n",
       "                    ).then(function(){\n",
       "                            \n",
       "var gd = document.getElementById('80516ebf-52be-4c7c-a6a5-fb213469f79f');\n",
       "var x = new MutationObserver(function (mutations, observer) {{\n",
       "        var display = window.getComputedStyle(gd).display;\n",
       "        if (!display || display === 'none') {{\n",
       "            console.log([gd, 'removed!']);\n",
       "            Plotly.purge(gd);\n",
       "            observer.disconnect();\n",
       "        }}\n",
       "}});\n",
       "\n",
       "// Listen for the removal of the full notebook cells\n",
       "var notebookContainer = gd.closest('#notebook-container');\n",
       "if (notebookContainer) {{\n",
       "    x.observe(notebookContainer, {childList: true});\n",
       "}}\n",
       "\n",
       "// Listen for the clearing of the current output cell\n",
       "var outputEl = gd.closest('.output');\n",
       "if (outputEl) {{\n",
       "    x.observe(outputEl, {childList: true});\n",
       "}}\n",
       "\n",
       "                        })\n",
       "                };\n",
       "                });\n",
       "            </script>\n",
       "        </div>"
      ]
     },
     "metadata": {},
     "output_type": "display_data"
    }
   ],
   "source": [
    "from dashapp import dashapp2 as dashapp\n",
    "from plotly.offline import iplot\n",
    "\n",
    "ys_per_graph = 4\n",
    "clen = len(df_screen.columns.values)\n",
    "glen = int(clen/ys_per_graph) + (1 if clen % ys_per_graph > 0 else 0)\n",
    "all_y_cols = [c for c in df_screen.columns.values if c!='date']\n",
    "for i in range(glen):\n",
    "    b = i*ys_per_graph\n",
    "    e = b + ys_per_graph\n",
    "    cols = ['date'] + all_y_cols[b:e]\n",
    "    iplot(dashapp.plotly_plot(df_screen[cols],x_column='date'))"
   ]
  },
  {
   "cell_type": "code",
   "execution_count": 736,
   "metadata": {},
   "outputs": [
    {
     "data": {
      "text/plain": [
       "0"
      ]
     },
     "execution_count": 736,
     "metadata": {},
     "output_type": "execute_result"
    }
   ],
   "source": [
    "glen"
   ]
  },
  {
   "cell_type": "code",
   "execution_count": 710,
   "metadata": {},
   "outputs": [
    {
     "data": {
      "text/plain": [
       "{'padd 1',\n",
       " 'padd 1a',\n",
       " 'padd 1b',\n",
       " 'padd 1c',\n",
       " 'padd 2',\n",
       " 'padd 2r',\n",
       " 'padd 3',\n",
       " 'padd 4',\n",
       " 'padd 4 and padd 5',\n",
       " 'padd 4 and west coast padd 5',\n",
       " 'padd 5'}"
      ]
     },
     "execution_count": 710,
     "metadata": {},
     "output_type": "execute_result"
    }
   ],
   "source": [
    "set(get_padd(df_pet_lower.columns.values))"
   ]
  },
  {
   "cell_type": "code",
   "execution_count": 478,
   "metadata": {},
   "outputs": [
    {
     "data": {
      "text/plain": [
       "{'',\n",
       " 'central atlantic',\n",
       " 'east coast',\n",
       " 'gulf coast',\n",
       " 'lower atlantic',\n",
       " 'midwest',\n",
       " 'new england',\n",
       " 'rocky mountain',\n",
       " 'rocky mountains',\n",
       " 'weekly gulf coast',\n",
       " 'weekly rocky mountain',\n",
       " 'west coast'}"
      ]
     },
     "execution_count": 478,
     "metadata": {},
     "output_type": "execute_result"
    }
   ],
   "source": [
    "set(get_padd_region(df_pet_lower.columns.values))"
   ]
  },
  {
   "cell_type": "code",
   "execution_count": 490,
   "metadata": {},
   "outputs": [
    {
     "data": {
      "text/plain": [
       "(54,\n",
       " {'commercial crude oil imports excluding spr weekly',\n",
       "  'commercial kerosene-type jet fuel weekly',\n",
       "  'conventional cbob gasoline blending components weekly',\n",
       "  'conventional gtab gasoline blending components weekly',\n",
       "  'conventional motor gasoline ed55 and lower weekly',\n",
       "  'conventional motor gasoline greater than ed55 weekly',\n",
       "  'conventional motor gasoline weekly',\n",
       "  'conventional motor gasoline with fuel ethanol weekly',\n",
       "  'conventional other gasoline blending components imports weekly',\n",
       "  'conventional other gasoline blending components weekly',\n",
       "  'crude oil and petroleum products weekly',\n",
       "  'crude oil weekly',\n",
       "  'distillate fuel oil 0 to 15 ppm sulfur weekly',\n",
       "  'distillate fuel oil greater than 15 to 500 ppm sulfur weekly',\n",
       "  'distillate fuel oil greater than 2000 ppm sulfur weekly',\n",
       "  'distillate fuel oil greater than 500 ppm sulfur weekly',\n",
       "  'distillate fuel oil greater than 500 to 2000 ppm sulfur weekly',\n",
       "  'distillate fuel oil weekly',\n",
       "  'finished conventional motor gasoline ed 55 and lower weekly',\n",
       "  'finished conventional motor gasoline greater than ed 55 weekly',\n",
       "  'finished conventional motor gasoline with ethanol weekly',\n",
       "  'finished motor gasoline weekly',\n",
       "  'finished reformulated motor gasoline with ethanol weekly',\n",
       "  'fuel ethanol weekly',\n",
       "  'gasoline blending components weekly',\n",
       "  'gross inputs into refineries weekly',\n",
       "  'kerosene-type jet fuel weekly',\n",
       "  'military kerosene-type jet fuel weekly',\n",
       "  'motor gasoline blending components rbob weekly',\n",
       "  'motor gasoline blending components reformulated rbob weekly',\n",
       "  'motor gasoline finished conventional ed55 and lower weekly',\n",
       "  'motor gasoline finished conventional greater than ed55 weekly',\n",
       "  'operable crude oil distillation capacity weekly',\n",
       "  'other conventional motor gasoline weekly',\n",
       "  'other finished conventional motor gasoline weekly',\n",
       "  'other finished reformulated motor gasoline weekly',\n",
       "  'other oils excluding fuel ethanol weekly',\n",
       "  'other reformulated motor gasoline weekly',\n",
       "  'propane and propylene ending stocks excluding propylene at terminal weekly',\n",
       "  'propane and propylene weekly',\n",
       "  'rbob with alcohol gasoline blending components imports weekly',\n",
       "  'rbob with ether gasoline blending components ending stocks weekly',\n",
       "  'rbob with ether gasoline blending components imports weekly',\n",
       "  'refinery operable capacity weekly',\n",
       "  'reformulated gasoline non-oxygenated ending stocks weekly',\n",
       "  'reformulated gtab gasoline blending components weekly',\n",
       "  'reformulated motor gasoline non-oxygentated weekly',\n",
       "  'reformulated motor gasoline weekly',\n",
       "  'reformulated motor gasoline with fuel alcohol weekly',\n",
       "  'reformulated rbob with alcohol gasoline blending components weekly',\n",
       "  'reformulated rbob with ether gasoline blending components weekly',\n",
       "  'residual fuel oil weekly',\n",
       "  'total gasoline weekly',\n",
       "  'total petroleum products weekly'})"
      ]
     },
     "execution_count": 490,
     "metadata": {},
     "output_type": "execute_result"
    }
   ],
   "source": [
    "ss =set(get_padd_source(df_pet_lower.columns.values,exclude_words=['price']))\n",
    "len(ss),ss"
   ]
  },
  {
   "cell_type": "code",
   "execution_count": 494,
   "metadata": {},
   "outputs": [
    {
     "data": {
      "text/plain": [
       "(24,\n",
       " {'blender net production',\n",
       "  'commercial crude oil imports excluding spr weekly',\n",
       "  'conventional other gasoline blending components imports weekly',\n",
       "  'efiner and blender net production',\n",
       "  'ending stocks',\n",
       "  'ending stocks excluding spr',\n",
       "  'ending stocks excluding spr and including lease stock',\n",
       "  'gross inputs into refineries weekly',\n",
       "  'imports',\n",
       "  'imports from',\n",
       "  'imports from  all countries',\n",
       "  'operable crude oil distillation capacity weekly',\n",
       "  'oxygenate plant production',\n",
       "  'percent utilization',\n",
       "  'propane and propylene ending stocks excluding propylene at terminal weekly',\n",
       "  'rbob with alcohol gasoline blending components imports weekly',\n",
       "  'rbob with ether gasoline blending components ending stocks weekly',\n",
       "  'rbob with ether gasoline blending components imports weekly',\n",
       "  'refiner and blender net input',\n",
       "  'refiner and blender net production',\n",
       "  'refiner blender and gas plant net production',\n",
       "  'refiner net input',\n",
       "  'refiner net production',\n",
       "  'reformulated gasoline non-oxygenated ending stocks weekly'})"
      ]
     },
     "execution_count": 494,
     "metadata": {},
     "output_type": "execute_result"
    }
   ],
   "source": [
    "ss = set(get_padd_category(df_pet_lower.columns.values,exclude_words=['price']))\n",
    "# ss = [s for s in ss if len(re.findall(unit_type,s))>0]#[s for s in ss if 'blender' in s]\n",
    "len(ss),ss"
   ]
  },
  {
   "cell_type": "code",
   "execution_count": null,
   "metadata": {},
   "outputs": [],
   "source": []
  },
  {
   "cell_type": "code",
   "execution_count": 501,
   "metadata": {},
   "outputs": [
    {
     "data": {
      "text/plain": [
       "(42,\n",
       " {'',\n",
       "  'commercial crude oil imports excluding spr weekly',\n",
       "  'commercial kerosene-type jet fuel weekly',\n",
       "  'conventional cbob',\n",
       "  'conventional gtab',\n",
       "  'conventional motor',\n",
       "  'conventional other',\n",
       "  'crude oil and petroleum products weekly',\n",
       "  'crude oil weekly',\n",
       "  'distillate fuel oil 0 to 15 ppm sulfur weekly',\n",
       "  'distillate fuel oil greater than 15 to 500 ppm sulfur weekly',\n",
       "  'distillate fuel oil greater than 2000 ppm sulfur weekly',\n",
       "  'distillate fuel oil greater than 500 ppm sulfur weekly',\n",
       "  'distillate fuel oil greater than 500 to 2000 ppm sulfur weekly',\n",
       "  'distillate fuel oil weekly',\n",
       "  'finished conventional motor',\n",
       "  'finished motor',\n",
       "  'finished reformulated motor',\n",
       "  'fuel ethanol weekly',\n",
       "  'gross inputs into refineries weekly',\n",
       "  'kerosene-type jet fuel weekly',\n",
       "  'military kerosene-type jet fuel weekly',\n",
       "  'motor',\n",
       "  'operable crude oil distillation capacity weekly',\n",
       "  'other conventional motor',\n",
       "  'other finished conventional motor',\n",
       "  'other finished reformulated motor',\n",
       "  'other oils excluding fuel ethanol weekly',\n",
       "  'other reformulated motor',\n",
       "  'propane and propylene ending stocks excluding propylene at terminal weekly',\n",
       "  'propane and propylene weekly',\n",
       "  'rbob with alcohol',\n",
       "  'rbob with ether',\n",
       "  'refinery operable capacity weekly',\n",
       "  'reformulated',\n",
       "  'reformulated gtab',\n",
       "  'reformulated motor',\n",
       "  'reformulated rbob with alcohol',\n",
       "  'reformulated rbob with ether',\n",
       "  'residual fuel oil weekly',\n",
       "  'total',\n",
       "  'total petroleum products weekly'})"
      ]
     },
     "execution_count": 501,
     "metadata": {},
     "output_type": "execute_result"
    }
   ],
   "source": [
    "ss = set(get_padd_gasoline_type(df_pet_lower.columns.values,exclude_words=['price']))\n",
    "len(ss),ss"
   ]
  },
  {
   "cell_type": "code",
   "execution_count": 508,
   "metadata": {},
   "outputs": [
    {
     "data": {
      "text/plain": [
       "(24,\n",
       " {'',\n",
       "  'blender ',\n",
       "  'commercial crude oil ',\n",
       "  'conventional other gasoline blending components ',\n",
       "  'efiner and blender ',\n",
       "  'gross ',\n",
       "  'operable crude oil distillation ',\n",
       "  'oxygenate plant ',\n",
       "  'percent ',\n",
       "  'propane and propylene ',\n",
       "  'rbob with alcohol gasoline blending components ',\n",
       "  'rbob with ether gasoline blending components ',\n",
       "  'refiner ',\n",
       "  'refiner and blender ',\n",
       "  'refiner blender and gas plant ',\n",
       "  'reformulated gasoline non-oxygenated '})"
      ]
     },
     "execution_count": 508,
     "metadata": {},
     "output_type": "execute_result"
    }
   ],
   "source": [
    "ss = set(get_padd_category(df_pet_lower.columns.values,exclude_words=['price']))\n",
    "ss = [re.split(UNIT_TYPE,s)[0] for s in ss]\n",
    "len(ss),set(ss)"
   ]
  },
  {
   "cell_type": "code",
   "execution_count": 511,
   "metadata": {},
   "outputs": [
    {
     "data": {
      "text/plain": [
       "(211,\n",
       " {'central atlantic padd 1b refiner blender and gas plant net production of propane and propylene weekly',\n",
       "  'east coast padd 1  refiner and blender net production of commercial kerosene-type jet fuel weekly',\n",
       "  'east coast padd 1  refiner and blender net production of distillate fuel oil greater than 500 ppm sulfur weekly',\n",
       "  'east coast padd 1  refiner and blender net production of military kerosene-type jet fuel weekly',\n",
       "  'east coast padd 1 blender net production of finished motor gasoline weekly',\n",
       "  'east coast padd 1 gross inputs into refineries weekly',\n",
       "  'east coast padd 1 oxygenate plant production of fuel ethanol weekly',\n",
       "  'east coast padd 1 percent utilization of refinery operable capacity weekly',\n",
       "  'east coast padd 1 refiner and blender net input of conventional cbob gasoline blending components weekly',\n",
       "  'east coast padd 1 refiner and blender net input of conventional gtab gasoline blending components weekly',\n",
       "  'east coast padd 1 refiner and blender net input of conventional other gasoline blending components weekly',\n",
       "  'east coast padd 1 refiner and blender net input of fuel ethanol weekly',\n",
       "  'east coast padd 1 refiner and blender net input of gasoline blending components weekly',\n",
       "  'east coast padd 1 refiner and blender net input of motor gasoline blending components rbob weekly',\n",
       "  'east coast padd 1 refiner and blender net production of  distillate fuel oil greater than 15 to 500 ppm sulfur weekly',\n",
       "  'east coast padd 1 refiner and blender net production of conventional motor gasoline weekly',\n",
       "  'east coast padd 1 refiner and blender net production of distillate fuel oil 0 to 15 ppm sulfur weekly',\n",
       "  'east coast padd 1 refiner and blender net production of distillate fuel oil weekly',\n",
       "  'east coast padd 1 refiner and blender net production of finished conventional motor gasoline ed 55 and lower weekly',\n",
       "  'east coast padd 1 refiner and blender net production of finished conventional motor gasoline greater than ed 55 weekly',\n",
       "  'east coast padd 1 refiner and blender net production of finished conventional motor gasoline with ethanol weekly',\n",
       "  'east coast padd 1 refiner and blender net production of finished motor gasoline weekly',\n",
       "  'east coast padd 1 refiner and blender net production of finished reformulated motor gasoline with ethanol weekly',\n",
       "  'east coast padd 1 refiner and blender net production of kerosene-type jet fuel weekly',\n",
       "  'east coast padd 1 refiner and blender net production of other finished conventional motor gasoline weekly',\n",
       "  'east coast padd 1 refiner and blender net production of other finished reformulated motor gasoline weekly',\n",
       "  'east coast padd 1 refiner and blender net production of reformulated motor gasoline weekly',\n",
       "  'east coast padd 1 refiner and blender net production of residual fuel oil weekly',\n",
       "  'east coast padd 1 refiner blender and gas plant net production of propane and propylene weekly',\n",
       "  'east coast padd 1 refiner net input of crude oil weekly',\n",
       "  'east coast padd 1 refiner net production of finished motor gasoline weekly',\n",
       "  'gulf coast padd 3  refiner and blender net production of commercial kerosene-type jet fuel weekly',\n",
       "  'gulf coast padd 3  refiner and blender net production of distillate fuel oil greater than 500 ppm sulfur weekly',\n",
       "  'gulf coast padd 3  refiner and blender net production of military kerosene-type jet fuel weekly',\n",
       "  'gulf coast padd 3 blender net production of finished motor gasoline weekly',\n",
       "  'gulf coast padd 3 gross inputs into refineries weekly',\n",
       "  'gulf coast padd 3 oxygenate plant production of fuel ethanol weekly',\n",
       "  'gulf coast padd 3 percent utilization of refinery operable capacity weekly',\n",
       "  'gulf coast padd 3 refiner and blender net input of conventional cbob gasoline blending components weekly',\n",
       "  'gulf coast padd 3 refiner and blender net input of conventional gtab gasoline blending components weekly',\n",
       "  'gulf coast padd 3 refiner and blender net input of conventional other gasoline blending components weekly',\n",
       "  'gulf coast padd 3 refiner and blender net input of fuel ethanol weekly',\n",
       "  'gulf coast padd 3 refiner and blender net input of gasoline blending components weekly',\n",
       "  'gulf coast padd 3 refiner and blender net input of motor gasoline blending components rbob weekly',\n",
       "  'gulf coast padd 3 refiner and blender net production of conventional motor gasoline weekly',\n",
       "  'gulf coast padd 3 refiner and blender net production of distillate fuel oil 0 to 15 ppm sulfur weekly',\n",
       "  'gulf coast padd 3 refiner and blender net production of distillate fuel oil greater than 15 to 500 ppm sulfur weekly',\n",
       "  'gulf coast padd 3 refiner and blender net production of distillate fuel oil weekly',\n",
       "  'gulf coast padd 3 refiner and blender net production of finished conventional motor gasoline ed 55 and lower weekly',\n",
       "  'gulf coast padd 3 refiner and blender net production of finished conventional motor gasoline greater than ed 55 weekly',\n",
       "  'gulf coast padd 3 refiner and blender net production of finished conventional motor gasoline with ethanol weekly',\n",
       "  'gulf coast padd 3 refiner and blender net production of finished motor gasoline weekly',\n",
       "  'gulf coast padd 3 refiner and blender net production of finished reformulated motor gasoline with ethanol weekly',\n",
       "  'gulf coast padd 3 refiner and blender net production of kerosene-type jet fuel weekly',\n",
       "  'gulf coast padd 3 refiner and blender net production of other finished conventional motor gasoline weekly',\n",
       "  'gulf coast padd 3 refiner and blender net production of other finished reformulated motor gasoline weekly',\n",
       "  'gulf coast padd 3 refiner and blender net production of reformulated motor gasoline weekly',\n",
       "  'gulf coast padd 3 refiner and blender net production of residual fuel oil weekly',\n",
       "  'gulf coast padd 3 refiner blender and gas plant net production of propane and propylene weekly',\n",
       "  'gulf coast padd 3 refiner net input of crude oil weekly',\n",
       "  'gulf coast padd 3 refiner net production of finished motor gasoline weekly',\n",
       "  'lower atlantic padd 1c refiner blender and gas plant net production of propane and propylene weekly',\n",
       "  'midwest padd 2  refiner and blender net production of commercial kerosene-type jet fuel weekly',\n",
       "  'midwest padd 2  refiner and blender net production of distillate fuel oil greater than 500 ppm sulfur weekly',\n",
       "  'midwest padd 2  refiner and blender net production of military kerosene-type jet fuel weekly',\n",
       "  'midwest padd 2 blender net production of finished motor gasoline weekly',\n",
       "  'midwest padd 2 gross inputs into refineries weekly',\n",
       "  'midwest padd 2 oxygenate plant production of fuel ethanol weekly',\n",
       "  'midwest padd 2 percent utilization of refinery operable capacity weekly',\n",
       "  'midwest padd 2 refiner and blender net input of conventional cbob gasoline blending components weekly',\n",
       "  'midwest padd 2 refiner and blender net input of conventional gtab gasoline blending components weekly',\n",
       "  'midwest padd 2 refiner and blender net input of conventional other gasoline blending components weekly',\n",
       "  'midwest padd 2 refiner and blender net input of fuel ethanol weekly',\n",
       "  'midwest padd 2 refiner and blender net input of gasoline blending components weekly',\n",
       "  'midwest padd 2 refiner and blender net production of conventional motor gasoline weekly',\n",
       "  'midwest padd 2 refiner and blender net production of distillate fuel oil 0 to 15 ppm sulfur weekly',\n",
       "  'midwest padd 2 refiner and blender net production of distillate fuel oil weekly',\n",
       "  'midwest padd 2 refiner and blender net production of finished conventional motor gasoline ed 55 and lower weekly',\n",
       "  'midwest padd 2 refiner and blender net production of finished conventional motor gasoline greater than ed 55 weekly',\n",
       "  'midwest padd 2 refiner and blender net production of finished conventional motor gasoline with ethanol weekly',\n",
       "  'midwest padd 2 refiner and blender net production of finished motor gasoline weekly',\n",
       "  'midwest padd 2 refiner and blender net production of finished reformulated motor gasoline with ethanol weekly',\n",
       "  'midwest padd 2 refiner and blender net production of kerosene-type jet fuel weekly',\n",
       "  'midwest padd 2 refiner and blender net production of other finished conventional motor gasoline weekly',\n",
       "  'midwest padd 2 refiner and blender net production of other finished reformulated motor gasoline weekly',\n",
       "  'midwest padd 2 refiner and blender net production of reformulated motor gasoline weekly',\n",
       "  'midwest padd 2 refiner and blender net production of residual fuel oil weekly',\n",
       "  'midwest padd 2 refiner blender and gas plant net production of propane and propylene weekly',\n",
       "  'midwest padd 2 refiner net input of crude oil weekly',\n",
       "  'midwest padd 2 refiner net production of finished motor gasoline weekly',\n",
       "  'midwest padd 2refiner and blender net production of distillate fuel oil greater than 15 to 500 ppm sulfur weekly',\n",
       "  'midwest padd2 refiner and blender net input of motor gasoline blending components rbob weekly',\n",
       "  'new england padd 1a refiner blender and gas plant net production of propane and propylene weekly',\n",
       "  'rocky mountain padd 4  refiner and blender net production of commercial kerosene-type jet fuel weekly',\n",
       "  'rocky mountain padd 4  refiner and blender net production of distillate fuel oil greater than 500 ppm sulfur weekly',\n",
       "  'rocky mountain padd 4  refiner and blender net production of military kerosene-type jet fuel weekly',\n",
       "  'rocky mountain padd 4 and west coast padd 5 refiner blender and gas plant net production of propane and propylene weekly',\n",
       "  'rocky mountain padd 4 blender net production of finished motor gasoline weekly',\n",
       "  'rocky mountain padd 4 gross inputs into refineries weekly',\n",
       "  'rocky mountain padd 4 oxygenate plant production of fuel ethanol weekly',\n",
       "  'rocky mountain padd 4 refiner and blender net input of conventional cbob gasoline blending components weekly',\n",
       "  'rocky mountain padd 4 refiner and blender net input of conventional gtab gasoline blending components weekly',\n",
       "  'rocky mountain padd 4 refiner and blender net input of conventional other gasoline blending components weekly',\n",
       "  'rocky mountain padd 4 refiner and blender net input of fuel ethanol weekly',\n",
       "  'rocky mountain padd 4 refiner and blender net input of gasoline blending components weekly',\n",
       "  'rocky mountain padd 4 refiner and blender net input of motor gasoline blending components rbob weekly',\n",
       "  'rocky mountain padd 4 refiner and blender net production of conventional motor gasoline weekly',\n",
       "  'rocky mountain padd 4 refiner and blender net production of distillate fuel oil 0 to 15 ppm sulfur weekly',\n",
       "  'rocky mountain padd 4 refiner and blender net production of distillate fuel oil greater than 15 to 500 ppm sulfur weekly',\n",
       "  'rocky mountain padd 4 refiner and blender net production of distillate fuel oil weekly',\n",
       "  'rocky mountain padd 4 refiner and blender net production of finished conventional motor gasoline ed 55 and lower weekly',\n",
       "  'rocky mountain padd 4 refiner and blender net production of finished conventional motor gasoline greater than ed 55 weekly',\n",
       "  'rocky mountain padd 4 refiner and blender net production of finished conventional motor gasoline with ethanol weekly',\n",
       "  'rocky mountain padd 4 refiner and blender net production of finished motor gasoline weekly',\n",
       "  'rocky mountain padd 4 refiner and blender net production of finished reformulated motor gasoline with ethanol weekly',\n",
       "  'rocky mountain padd 4 refiner and blender net production of kerosene-type jet fuel weekly',\n",
       "  'rocky mountain padd 4 refiner and blender net production of other finished conventional motor gasoline weekly',\n",
       "  'rocky mountain padd 4 refiner and blender net production of other finished reformulated motor gasoline weekly',\n",
       "  'rocky mountain padd 4 refiner and blender net production of reformulated motor gasoline weekly',\n",
       "  'rocky mountain padd 4 refiner and blender net production of residual fuel oil weekly',\n",
       "  'rocky mountain padd 4 refiner net input of crude oil weekly',\n",
       "  'rocky mountain padd 4 refiner net production of finished motor gasoline weekly',\n",
       "  'rocky mountains padd 4 percent utilization of refinery operable capacity weekly',\n",
       "  'u.s.  refiner and blender net production of commercial kerosene-type jet fuel weekly',\n",
       "  'u.s.  refiner and blender net production of distillate fuel oil greater than 500 ppm sulfur weekly',\n",
       "  'u.s.  refiner and blender net production of military kerosene-type jet fuel weekly',\n",
       "  'u.s. blender net production of conventional motor gasoline weekly',\n",
       "  'u.s. blender net production of conventional motor gasoline with fuel ethanol weekly',\n",
       "  'u.s. blender net production of distillate fuel oil 0 to 15 ppm sulfur weekly',\n",
       "  'u.s. blender net production of distillate fuel oil greater than 15 to 500 ppm sulfur weekly',\n",
       "  'u.s. blender net production of distillate fuel oil greater than 500 ppm sulfur weekly',\n",
       "  'u.s. blender net production of distillate fuel oil weekly',\n",
       "  'u.s. blender net production of finished motor gasoline weekly',\n",
       "  'u.s. blender net production of kerosene weekly',\n",
       "  'u.s. blender net production of kerosene-type jet fuel weekly',\n",
       "  'u.s. blender net production of motor gasoline finished conventional ed55 and lower weekly',\n",
       "  'u.s. blender net production of motor gasoline finished conventional greater than ed55 weekly',\n",
       "  'u.s. blender net production of other conventional motor gasoline weekly',\n",
       "  'u.s. blender net production of other reformulated motor gasoline weekly',\n",
       "  'u.s. blender net production of reformulated motor gasoline weekly',\n",
       "  'u.s. blender net production of reformulated motor gasoline with fuel alcohol weekly',\n",
       "  'u.s. gross inputs into refineries weekly',\n",
       "  'u.s. oxygenate plant production of fuel ethanol weekly',\n",
       "  'u.s. percent utilization of refinery operable capacity weekly',\n",
       "  'u.s. refiner and blender adjusted net production of finished motor gasoline weekly',\n",
       "  'u.s. refiner and blender net input of conventional cbob gasoline blending components weekly',\n",
       "  'u.s. refiner and blender net input of conventional gtab gasoline blending components weekly',\n",
       "  'u.s. refiner and blender net input of conventional other gasoline blending components weekly',\n",
       "  'u.s. refiner and blender net input of fuel ethanol weekly',\n",
       "  'u.s. refiner and blender net input of gasoline blending components weekly',\n",
       "  'u.s. refiner and blender net input of motor gasoline blending components rbob weekly',\n",
       "  'u.s. refiner and blender net production of conventional motor gasoline weekly',\n",
       "  'u.s. refiner and blender net production of distillate fuel oil 0 to 15 ppm sulfur weekly',\n",
       "  'u.s. refiner and blender net production of distillate fuel oil weekly',\n",
       "  'u.s. refiner and blender net production of finished conventional motor gasoline ed 55 and lower weekly',\n",
       "  'u.s. refiner and blender net production of finished conventional motor gasoline greater than ed 55 weekly',\n",
       "  'u.s. refiner and blender net production of finished conventional motor gasoline with ethanol weekly',\n",
       "  'u.s. refiner and blender net production of finished motor gasoline weekly',\n",
       "  'u.s. refiner and blender net production of finished reformulated motor gasoline with ethanol weekly',\n",
       "  'u.s. refiner and blender net production of kerosene-type jet fuel weekly',\n",
       "  'u.s. refiner and blender net production of other finished conventional motor gasoline weekly',\n",
       "  'u.s. refiner and blender net production of other finished reformulated motor gasoline weekly',\n",
       "  'u.s. refiner and blender net production of reformulated motor gasoline weekly',\n",
       "  'u.s. refiner and blender net production of residual fuel oil weekly',\n",
       "  'u.s. refiner blender and gas plant net production of propane and propylene weekly',\n",
       "  'u.s. refiner net input of crude oil weekly',\n",
       "  'u.s. refiner net production of conventional motor gasoline weekly',\n",
       "  'u.s. refiner net production of conventional motor gasoline with fuel ethanol weekly',\n",
       "  'u.s. refiner net production of distillate fuel oil 0 to 15 ppm sulfur weekly',\n",
       "  'u.s. refiner net production of distillate fuel oil greater than 15 to 500 ppm sulfur weekly',\n",
       "  'u.s. refiner net production of distillate fuel oil greater than 500 ppm sulfur weekly',\n",
       "  'u.s. refiner net production of distillate fuel oil weekly',\n",
       "  'u.s. refiner net production of finished conventional motor gasoline greater than ed 55 weekly',\n",
       "  'u.s. refiner net production of finished motor gasoline weekly',\n",
       "  'u.s. refiner net production of kerosene weekly',\n",
       "  'u.s. refiner net production of kerosene-type jet fuel weekly',\n",
       "  'u.s. refiner net production of motor gasoline finished conventional ed55 and lower weekly',\n",
       "  'u.s. refiner net production of other conventional motor gasoline weekly',\n",
       "  'u.s. refiner net production of other reformulated motor gasoline weekly',\n",
       "  'u.s. refiner net production of reformulated motor gasoline weekly',\n",
       "  'u.s. refiner net production of reformulated motor gasoline with fuel alcohol weekly',\n",
       "  'u.s. refiner net production of residual fuel oil weekly',\n",
       "  'west coast padd 5  refiner and blender net production of commercial kerosene-type jet fuel weekly',\n",
       "  'west coast padd 5  refiner and blender net production of distillate fuel oil greater than 500 ppm sulfur weekly',\n",
       "  'west coast padd 5  refiner and blender net production of finished conventional motor gasoline ed 55 and lower weekly',\n",
       "  'west coast padd 5  refiner and blender net production of finished conventional motor gasoline greater than ed 55 weekly',\n",
       "  'west coast padd 5  refiner and blender net production of military kerosene-type jet fuel weekly',\n",
       "  'west coast padd 5  refiner and blender net production of other finished reformulated motor gasoline weekly',\n",
       "  'west coast padd 5 blender net production of finished motor gasoline weekly',\n",
       "  'west coast padd 5 gross inputs into refineries weekly',\n",
       "  'west coast padd 5 oxygenate plant production of fuel ethanol weekly',\n",
       "  'west coast padd 5 percent utilization of refinery operable capacity weekly',\n",
       "  'west coast padd 5 refiner and blender net input of conventional cbob gasoline blending components weekly',\n",
       "  'west coast padd 5 refiner and blender net input of conventional gtab gasoline blending components weekly',\n",
       "  'west coast padd 5 refiner and blender net input of conventional other gasoline blending components weekly',\n",
       "  'west coast padd 5 refiner and blender net input of fuel ethanol weekly',\n",
       "  'west coast padd 5 refiner and blender net input of gasoline blending components weekly',\n",
       "  'west coast padd 5 refiner and blender net input of motor gasoline blending components rbob weekly',\n",
       "  'west coast padd 5 refiner and blender net production of conventional motor gasoline weekly',\n",
       "  'west coast padd 5 refiner and blender net production of distillate fuel oil 0 to 15 ppm sulfur weekly',\n",
       "  'west coast padd 5 refiner and blender net production of distillate fuel oil greater than 15 to 500 ppm sulfur weekly',\n",
       "  'west coast padd 5 refiner and blender net production of distillate fuel oil weekly',\n",
       "  'west coast padd 5 refiner and blender net production of finished conventional motor gasoline with ethanol weekly',\n",
       "  'west coast padd 5 refiner and blender net production of finished motor gasoline weekly',\n",
       "  'west coast padd 5 refiner and blender net production of finished reformulated motor gasoline with ethanol weekly',\n",
       "  'west coast padd 5 refiner and blender net production of kerosene-type jet fuel weekly',\n",
       "  'west coast padd 5 refiner and blender net production of other finished conventional motor gasoline weekly',\n",
       "  'west coast padd 5 refiner and blender net production of reformulated motor gasoline weekly',\n",
       "  'west coast padd 5 refiner and blender net production of residual fuel oil weekly',\n",
       "  'west coast padd 5 refiner net input of crude oil weekly',\n",
       "  'west coast padd 5 refiner net production of finished motor gasoline weekly'})"
      ]
     },
     "execution_count": 511,
     "metadata": {},
     "output_type": "execute_result"
    }
   ],
   "source": [
    "ss = set([c for c in df_pet_lower.columns.values if len(re.findall(PROCESSOR_TYPE,c))>0])\n",
    "len(ss),ss"
   ]
  }
 ],
 "metadata": {
  "kernelspec": {
   "display_name": "Python 3",
   "language": "python",
   "name": "python3"
  },
  "language_info": {
   "codemirror_mode": {
    "name": "ipython",
    "version": 3
   },
   "file_extension": ".py",
   "mimetype": "text/x-python",
   "name": "python",
   "nbconvert_exporter": "python",
   "pygments_lexer": "ipython3",
   "version": "3.6.5"
  }
 },
 "nbformat": 4,
 "nbformat_minor": 4
}
