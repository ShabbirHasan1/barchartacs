{
 "cells": [
  {
   "cell_type": "code",
   "execution_count": 3,
   "metadata": {},
   "outputs": [],
   "source": [
    "from flask import Flask\n",
    "from flask import request\n",
    "import dash\n",
    "import dash_core_components as dcc\n",
    "import dash_html_components as html\n",
    "from dash.dependencies import Input, Output, State\n",
    "\n",
    "# server = Flask(__name__)\n",
    "# app = dash.Dash(\n",
    "#     __name__,\n",
    "#     server = server,\n",
    "#     serve_locally = False,\n",
    "#     requests_pathname_prefix = \"/plotary/dash/\",\n",
    "# )\n",
    "\n",
    "app = dash.Dash(__name__,url_base_pathname=\"/plotary/dash/\")\n",
    "\n",
    "app.layout = html.Div([\n",
    "    dcc.Location(id='url', refresh=False),\n",
    "        html.Div([\n",
    "#         html.A([\n",
    "#             html.Div(['goto man-es page'],id=\"logo\")\n",
    "#         ],href='https://man-es.com'),\n",
    "        html.Div([\n",
    "            html.H1('Keine Auswertung ausgewählt. ')\n",
    "        ],id=\"description\"),\n",
    "        # This Link does not seem to be causing an invocation of the callback \n",
    "        dcc.Link('Navigate to https://man-es.com', href='https://man-es.com'),\n",
    "        html.Br(),\n",
    "        # These 2 Links DO seem to be causing an invocation of the callback \n",
    "        dcc.Link('Navigate to \"/plotary/dash/\"', href='/plotary/dash/'),\n",
    "        html.Br(),\n",
    "        dcc.Link('Navigate to \"/plotary/\"', href='/plotary/'),\n",
    "            \n",
    "    ],\n",
    "    id=\"navbar\")]\n",
    ")\n",
    "\n",
    "@app.callback(Output('description', 'children'),\n",
    "              [Input('url', 'pathname')])\n",
    "def display_page(pathname):\n",
    "    print(f'entering callback for pathname {pathname}')\n",
    "    return html.Div([\n",
    "        html.H1('Auswertung Nr {}'.format(pathname))\n",
    "    ])\n",
    "\n",
    "# if __name__ == '__main__':\n",
    "#     app.run_server(port=8882,debug=False)"
   ]
  },
  {
   "cell_type": "code",
   "execution_count": null,
   "metadata": {},
   "outputs": [],
   "source": []
  },
  {
   "cell_type": "code",
   "execution_count": null,
   "metadata": {},
   "outputs": [],
   "source": []
  },
  {
   "cell_type": "code",
   "execution_count": 32,
   "metadata": {
    "scrolled": true
   },
   "outputs": [
    {
     "name": "stdout",
     "output_type": "stream",
     "text": [
      " * Serving Flask app \"__main__\" (lazy loading)\n",
      " * Environment: production\n",
      "\u001b[31m   WARNING: This is a development server. Do not use it in a production deployment.\u001b[0m\n",
      "\u001b[2m   Use a production WSGI server instead.\u001b[0m\n",
      " * Debug mode: off\n"
     ]
    },
    {
     "name": "stderr",
     "output_type": "stream",
     "text": [
      " * Running on http://127.0.0.1:8884/ (Press CTRL+C to quit)\n",
      "127.0.0.1 - - [15/Jul/2020 16:20:44] \"\u001b[37mGET / HTTP/1.1\u001b[0m\" 200 -\n",
      "127.0.0.1 - - [15/Jul/2020 16:20:44] \"\u001b[37mGET /_dash-layout HTTP/1.1\u001b[0m\" 200 -\n",
      "127.0.0.1 - - [15/Jul/2020 16:20:44] \"\u001b[37mGET /_dash-dependencies HTTP/1.1\u001b[0m\" 200 -\n",
      "127.0.0.1 - - [15/Jul/2020 16:20:44] \"\u001b[37mPOST /_dash-update-component HTTP/1.1\u001b[0m\" 200 -\n",
      "127.0.0.1 - - [15/Jul/2020 16:20:44] \"\u001b[37mPOST /_dash-update-component HTTP/1.1\u001b[0m\" 204 -\n",
      "127.0.0.1 - - [15/Jul/2020 16:20:44] \"\u001b[37mPOST /_dash-update-component HTTP/1.1\u001b[0m\" 200 -\n"
     ]
    },
    {
     "name": "stdout",
     "output_type": "stream",
     "text": [
      "None <class 'NoneType'>\n",
      "'DataFrame' object has no attribute 'x'\n",
      "None None\n",
      "None <class 'NoneType'>\n"
     ]
    },
    {
     "name": "stderr",
     "output_type": "stream",
     "text": [
      "127.0.0.1 - - [15/Jul/2020 16:20:58] \"\u001b[37mPOST /_dash-update-component HTTP/1.1\u001b[0m\" 200 -\n"
     ]
    },
    {
     "name": "stdout",
     "output_type": "stream",
     "text": [
      "{'subType': '>=', 'type': 'relational-operator', 'value': '>=', 'left': {'subType': 'field', 'type': 'expression', 'value': 'x'}, 'right': {'subType': 'value', 'type': 'expression', 'value': 10}} <class 'dict'>\n"
     ]
    },
    {
     "name": "stderr",
     "output_type": "stream",
     "text": [
      "127.0.0.1 - - [15/Jul/2020 16:22:18] \"\u001b[37mPOST /_dash-update-component HTTP/1.1\u001b[0m\" 200 -\n"
     ]
    },
    {
     "name": "stdout",
     "output_type": "stream",
     "text": [
      "{'subType': '>=', 'type': 'relational-operator', 'value': '>=', 'left': {'subType': 'field', 'type': 'expression', 'value': 'x'}, 'right': {'subType': 'value', 'type': 'expression', 'value': '10 and <=22'}} <class 'dict'>\n"
     ]
    }
   ],
   "source": [
    "import numpy as np\n",
    "import pandas as pd\n",
    "import dash\n",
    "import dash_core_components as dcc\n",
    "import dash_html_components as html\n",
    "from dash.dependencies import Input, Output, State\n",
    "from dash.exceptions import PreventUpdate\n",
    "\n",
    "import dash_table\n",
    "\n",
    "def make_dt(table_id,df,display_headers=True):\n",
    "    dt = dash_table.DataTable(\n",
    "        id=table_id,\n",
    "        columns=[{\"name\": i, \"id\": i} for i in df.columns],\n",
    "        data=df.to_dict('records'),\n",
    "        filter_action=\"custom\",\n",
    "        sort_action=\"native\",\n",
    "        sort_mode=\"multi\",\n",
    "        column_selectable=\"single\",\n",
    "        row_selectable=\"multi\",\n",
    "#         style_cell={\n",
    "#             'width': '{}%'.format(len(df.columns)),\n",
    "#             'textOverflow': 'ellipsis',\n",
    "#             'overflow': 'hidden'\n",
    "#         }\n",
    "    )\n",
    "    if not display_headers:\n",
    "        dt.style_header = {'display': 'none'}        \n",
    "    return dt\n",
    "\n",
    "    \n",
    "def make_text_centered_div(text):    \n",
    "    col_inner_style = {\n",
    "        'margin':'auto',\n",
    "        'word-break':'break-all',\n",
    "        'word-wrap': 'break-word',\n",
    "        'text-align':'center'\n",
    "    }\n",
    "    return html.Div([text],style=col_inner_style)\n",
    "\n",
    "# make simple DataFrame\n",
    "x = np.arange(0,20)\n",
    "y = x**2\n",
    "df = pd.DataFrame({'x':x,'y':y})\n",
    "\n",
    "# create an \"aggregates\" DataFrame\n",
    "df_agg = pd.DataFrame({'x':[int(df.x.mean())],'y':[df.y.sum()]})\n",
    "\n",
    "# create dash_tables\n",
    "dt = make_dt('mydt',df)\n",
    "dt_agg = make_dt('mydt_agg',df_agg,display_headers=False)\n",
    "agg_title = make_text_centered_div(\"aggregates\")\n",
    "\n",
    "# make app\n",
    "app = dash.Dash(__name__)\n",
    "app.layout = html.Div([dt,agg_title,dt_agg])\n",
    "app.title = \"My DataFrame With Aggs\"\n",
    "\n",
    "@app.callback(\n",
    "    Output('mydt_agg','data'),\n",
    "    [Input('mydt', 'rows'),\n",
    "     Input('mydt', 'selected_row_indices')])\n",
    "def selected_callback(rows,selected_row_indices):\n",
    "    try:\n",
    "        df_selected_rows=pd.DataFrame(rows)\n",
    "        df_new_agg = pd.DataFrame({'x':[df_selected_rows.x.mean()],'y':[df_selected_rows.y.sum()]})\n",
    "        d = df_new_agg.to_dict('records')\n",
    "        return d\n",
    "    except Exception as e:\n",
    "        print(str(e))\n",
    "        print(rows,selected_row_indices)\n",
    "        raise PreventUpdate()\n",
    "\n",
    "@app.callback(\n",
    "    Output('mydt','data'),\n",
    "#     [Input('mydt','filter_query')]\n",
    "    [Input('mydt','derived_filter_query_structure')]\n",
    ")\n",
    "def process_filter(filter_query):\n",
    "    print(filter_query,type(filter_query))\n",
    "    return df.to_dict('records')\n",
    "    if filter_query is None or len(filter_query)<=0:\n",
    "        return df.to_dict('records')\n",
    "    df_temp = df.copy()\n",
    "    #{x} > 10 && {y} > 50\n",
    "    fq = str(filter_query).replace('\"','').replace('{',\"\").replace('}',\"\").replace('&&','and')\n",
    "    print(fq)\n",
    "    df_temp = df_temp.query(fq)\n",
    "    return df_temp.to_dict('records')\n",
    "\n",
    "\n",
    "app.run_server(host='127.0.0.1',port=8884)\n"
   ]
  },
  {
   "cell_type": "code",
   "execution_count": null,
   "metadata": {},
   "outputs": [],
   "source": []
  }
 ],
 "metadata": {
  "kernelspec": {
   "display_name": "Python 3",
   "language": "python",
   "name": "python3"
  },
  "language_info": {
   "codemirror_mode": {
    "name": "ipython",
    "version": 3
   },
   "file_extension": ".py",
   "mimetype": "text/x-python",
   "name": "python",
   "nbconvert_exporter": "python",
   "pygments_lexer": "ipython3",
   "version": "3.6.5"
  }
 },
 "nbformat": 4,
 "nbformat_minor": 4
}
